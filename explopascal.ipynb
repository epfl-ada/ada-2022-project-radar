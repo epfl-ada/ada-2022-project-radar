{
 "cells": [
  {
   "cell_type": "code",
   "execution_count": 2,
   "metadata": {},
   "outputs": [],
   "source": [
    "import pandas as pd\n",
    "import numpy as np\n",
    "import pylab\n",
    "import scipy.stats as stats\n",
    "import matplotlib.pyplot as plt\n",
    "plt.style.use('default')"
   ]
  },
  {
   "cell_type": "code",
   "execution_count": 3,
   "metadata": {},
   "outputs": [
    {
     "data": {
      "text/html": [
       "<div>\n",
       "<style scoped>\n",
       "    .dataframe tbody tr th:only-of-type {\n",
       "        vertical-align: middle;\n",
       "    }\n",
       "\n",
       "    .dataframe tbody tr th {\n",
       "        vertical-align: top;\n",
       "    }\n",
       "\n",
       "    .dataframe thead th {\n",
       "        text-align: right;\n",
       "    }\n",
       "</style>\n",
       "<table border=\"1\" class=\"dataframe\">\n",
       "  <thead>\n",
       "    <tr style=\"text-align: right;\">\n",
       "      <th></th>\n",
       "      <th>nbr_ratings</th>\n",
       "      <th>nbr_reviews</th>\n",
       "      <th>user_id</th>\n",
       "      <th>user_name</th>\n",
       "      <th>joined</th>\n",
       "      <th>location</th>\n",
       "    </tr>\n",
       "  </thead>\n",
       "  <tbody>\n",
       "    <tr>\n",
       "      <th>0</th>\n",
       "      <td>7820</td>\n",
       "      <td>465</td>\n",
       "      <td>nmann08.184925</td>\n",
       "      <td>nmann08</td>\n",
       "      <td>1.199704e+09</td>\n",
       "      <td>United States, Washington</td>\n",
       "    </tr>\n",
       "    <tr>\n",
       "      <th>1</th>\n",
       "      <td>2521</td>\n",
       "      <td>2504</td>\n",
       "      <td>stjamesgate.163714</td>\n",
       "      <td>StJamesGate</td>\n",
       "      <td>1.191838e+09</td>\n",
       "      <td>United States, New York</td>\n",
       "    </tr>\n",
       "    <tr>\n",
       "      <th>2</th>\n",
       "      <td>1797</td>\n",
       "      <td>1143</td>\n",
       "      <td>mdagnew.19527</td>\n",
       "      <td>mdagnew</td>\n",
       "      <td>1.116410e+09</td>\n",
       "      <td>Northern Ireland</td>\n",
       "    </tr>\n",
       "    <tr>\n",
       "      <th>3</th>\n",
       "      <td>31</td>\n",
       "      <td>31</td>\n",
       "      <td>helloloser12345.10867</td>\n",
       "      <td>helloloser12345</td>\n",
       "      <td>1.101380e+09</td>\n",
       "      <td>Northern Ireland</td>\n",
       "    </tr>\n",
       "    <tr>\n",
       "      <th>4</th>\n",
       "      <td>604</td>\n",
       "      <td>604</td>\n",
       "      <td>cypressbob.3708</td>\n",
       "      <td>cypressbob</td>\n",
       "      <td>1.069326e+09</td>\n",
       "      <td>Northern Ireland</td>\n",
       "    </tr>\n",
       "  </tbody>\n",
       "</table>\n",
       "</div>"
      ],
      "text/plain": [
       "   nbr_ratings  nbr_reviews                user_id        user_name  \\\n",
       "0         7820          465         nmann08.184925          nmann08   \n",
       "1         2521         2504     stjamesgate.163714      StJamesGate   \n",
       "2         1797         1143          mdagnew.19527          mdagnew   \n",
       "3           31           31  helloloser12345.10867  helloloser12345   \n",
       "4          604          604        cypressbob.3708       cypressbob   \n",
       "\n",
       "         joined                   location  \n",
       "0  1.199704e+09  United States, Washington  \n",
       "1  1.191838e+09    United States, New York  \n",
       "2  1.116410e+09           Northern Ireland  \n",
       "3  1.101380e+09           Northern Ireland  \n",
       "4  1.069326e+09           Northern Ireland  "
      ]
     },
     "execution_count": 3,
     "metadata": {},
     "output_type": "execute_result"
    }
   ],
   "source": [
    "#load the data\n",
    "df_users = pd.read_csv('./data/users.csv')\n",
    "df_users.head(5)"
   ]
  },
  {
   "cell_type": "code",
   "execution_count": 4,
   "metadata": {},
   "outputs": [],
   "source": [
    "# The features that characterize users are self-explanatory:\n",
    "# nbr_ratings : the number of ratings a user has given\n",
    "# nbr_reviews : the number of reviews a user has given\n",
    "# user_id : internal database representation BeerAdvocate chose for their users\n",
    "# user_name : the username chosen by the user on the website\n",
    "# joined : the date when the users joined the website, expressed as a Unix timestamp\n",
    "# location : where the users comes from\n",
    "\n",
    "# The difference between a review and a rating:\n",
    "# A review is a rating which the user decided to elaborate using a small text.\n",
    "\n",
    "# Users have the choice to comment their ratings: if they decide to do so, they are doing a review.\n",
    "# If they do not comment their rating, then BeerAdvocate refers to it as a rating.\n",
    "# Notice that every review is a rating, but not vice versa."
   ]
  },
  {
   "cell_type": "code",
   "execution_count": 5,
   "metadata": {},
   "outputs": [
    {
     "name": "stdout",
     "output_type": "stream",
     "text": [
      "153703\n"
     ]
    },
    {
     "data": {
      "text/plain": [
       "0"
      ]
     },
     "execution_count": 5,
     "metadata": {},
     "output_type": "execute_result"
    }
   ],
   "source": [
    "total_nb_users = df_users.user_name.nunique()\n",
    "print(total_nb_users)\n",
    "df_users[df_users.nbr_ratings == 0].user_name.nunique()"
   ]
  },
  {
   "cell_type": "code",
   "execution_count": 6,
   "metadata": {},
   "outputs": [
    {
     "name": "stdout",
     "output_type": "stream",
     "text": [
      "1.0\n",
      "113222\n"
     ]
    },
    {
     "data": {
      "text/plain": [
       "0.7366284327566801"
      ]
     },
     "execution_count": 6,
     "metadata": {},
     "output_type": "execute_result"
    }
   ],
   "source": [
    "#We can see that all of the users in the database gave at least 1 ratings\n",
    "df_users = df_users[df_users.nbr_ratings > 0]\n",
    "print(df_users.user_name.nunique() / total_nb_users)\n",
    "#How many people from the US?\n",
    "df_us_users = df_users[df_users.location.str.contains('United States', na = False)]\n",
    "number_us_users = df_us_users.user_name.nunique()\n",
    "print(number_us_users)\n",
    "number_us_users/total_nb_users\n",
    "# -> 74% of the people come from the United States of America.\n"
   ]
  },
  {
   "cell_type": "code",
   "execution_count": 7,
   "metadata": {},
   "outputs": [
    {
     "data": {
      "text/plain": [
       "50"
      ]
     },
     "execution_count": 7,
     "metadata": {},
     "output_type": "execute_result"
    }
   ],
   "source": [
    "#Around all 50 states of America. -> distribution by state?\n",
    "df_us_users.location.nunique()"
   ]
  },
  {
   "cell_type": "code",
   "execution_count": null,
   "metadata": {},
   "outputs": [],
   "source": [
    "# Let us now focus on the number of ratings done by US users.\n",
    "# With the help of a QQ-Plot, we can get a first grasp of the data distribution"
   ]
  },
  {
   "cell_type": "code",
   "execution_count": 29,
   "metadata": {},
   "outputs": [
    {
     "data": {
      "text/plain": [
       "((array([6.12196445e-06, 1.48601174e-05, 2.36923870e-05, ...,\n",
       "         1.06503686e+01, 1.11168370e+01, 1.20036306e+01]),\n",
       "  array([    1,     1,     1, ..., 10180, 10302, 10360])),\n",
       " (195.69569474354265, -131.18281545867006, 0.7122689783793736))"
      ]
     },
     "execution_count": 29,
     "metadata": {},
     "output_type": "execute_result"
    },
    {
     "data": {
      "image/png": "[encoded data removed]",
      "text/plain": [
       "<Figure size 640x480 with 1 Axes>"
      ]
     },
     "metadata": {},
     "output_type": "display_data"
    }
   ],
   "source": [
    "stats.probplot(df_us_users.nbr_ratings, dist = \"expon\", plot=pylab)"
   ]
  },
  {
   "cell_type": "code",
   "execution_count": null,
   "metadata": {},
   "outputs": [],
   "source": [
    "# The distribution looks extremely heavy tailed. \n",
    "# Looking at some simple statistics:"
   ]
  },
  {
   "cell_type": "code",
   "execution_count": 31,
   "metadata": {},
   "outputs": [
    {
     "name": "stdout",
     "output_type": "stream",
     "text": [
      "7303870\n"
     ]
    },
    {
     "data": {
      "text/plain": [
       "count    113223.000000\n",
       "mean         64.508713\n",
       "std         274.707015\n",
       "min           1.000000\n",
       "25%           1.000000\n",
       "50%           4.000000\n",
       "75%          22.000000\n",
       "max       10360.000000\n",
       "Name: nbr_ratings, dtype: float64"
      ]
     },
     "execution_count": 31,
     "metadata": {},
     "output_type": "execute_result"
    }
   ],
   "source": [
    "nb_ratings_us_users = df_us_users.nbr_ratings.sum()\n",
    "print(nb_ratings_us_users)\n",
    "df_us_users['nbr_ratings'].describe()"
   ]
  },
  {
   "cell_type": "code",
   "execution_count": null,
   "metadata": {},
   "outputs": [],
   "source": [
    "# 50% of US users rated less than 4 beers on the website."
   ]
  },
  {
   "cell_type": "code",
   "execution_count": 34,
   "metadata": {},
   "outputs": [
    {
     "data": {
      "text/plain": [
       "count    113223.000000\n",
       "mean         64.508713\n",
       "std         274.707015\n",
       "min           1.000000\n",
       "50%           4.000000\n",
       "80%          35.000000\n",
       "82%          43.000000\n",
       "84%          54.000000\n",
       "86%          69.000000\n",
       "88%          90.000000\n",
       "90%         119.000000\n",
       "92%         166.000000\n",
       "94%         239.000000\n",
       "96%         371.000000\n",
       "98%         703.000000\n",
       "max       10360.000000\n",
       "Name: nbr_ratings, dtype: float64"
      ]
     },
     "execution_count": 34,
     "metadata": {},
     "output_type": "execute_result"
    }
   ],
   "source": [
    "percentile = np.arange(0.8, 1, 0.02) #à modifier encore mais je trouve pertinent\n",
    "df_us_users['nbr_ratings'].describe(percentiles= percentile)\n"
   ]
  },
  {
   "cell_type": "code",
   "execution_count": 28,
   "metadata": {},
   "outputs": [
    {
     "data": {
      "text/html": [
       "<div>\n",
       "<style scoped>\n",
       "    .dataframe tbody tr th:only-of-type {\n",
       "        vertical-align: middle;\n",
       "    }\n",
       "\n",
       "    .dataframe tbody tr th {\n",
       "        vertical-align: top;\n",
       "    }\n",
       "\n",
       "    .dataframe thead th {\n",
       "        text-align: right;\n",
       "    }\n",
       "</style>\n",
       "<table border=\"1\" class=\"dataframe\">\n",
       "  <thead>\n",
       "    <tr style=\"text-align: right;\">\n",
       "      <th></th>\n",
       "      <th>nbr_ratings</th>\n",
       "      <th>nbr_reviews</th>\n",
       "      <th>user_id</th>\n",
       "      <th>user_name</th>\n",
       "      <th>joined</th>\n",
       "      <th>location</th>\n",
       "    </tr>\n",
       "  </thead>\n",
       "  <tbody>\n",
       "    <tr>\n",
       "      <th>1352</th>\n",
       "      <td>10360</td>\n",
       "      <td>66</td>\n",
       "      <td>acurtis.508168</td>\n",
       "      <td>acurtis</td>\n",
       "      <td>1.285582e+09</td>\n",
       "      <td>United States, New Jersey</td>\n",
       "    </tr>\n",
       "    <tr>\n",
       "      <th>1583</th>\n",
       "      <td>10302</td>\n",
       "      <td>34</td>\n",
       "      <td>texasfan549.572853</td>\n",
       "      <td>Texasfan549</td>\n",
       "      <td>1.298718e+09</td>\n",
       "      <td>United States, Texas</td>\n",
       "    </tr>\n",
       "    <tr>\n",
       "      <th>969</th>\n",
       "      <td>10180</td>\n",
       "      <td>2091</td>\n",
       "      <td>kylehay2004.571365</td>\n",
       "      <td>kylehay2004</td>\n",
       "      <td>1.298459e+09</td>\n",
       "      <td>United States, Illinois</td>\n",
       "    </tr>\n",
       "    <tr>\n",
       "      <th>994</th>\n",
       "      <td>9991</td>\n",
       "      <td>1122</td>\n",
       "      <td>grg1313.288024</td>\n",
       "      <td>GRG1313</td>\n",
       "      <td>1.232017e+09</td>\n",
       "      <td>United States, California</td>\n",
       "    </tr>\n",
       "    <tr>\n",
       "      <th>9</th>\n",
       "      <td>9987</td>\n",
       "      <td>16</td>\n",
       "      <td>jaydoc.265507</td>\n",
       "      <td>jaydoc</td>\n",
       "      <td>1.226488e+09</td>\n",
       "      <td>United States, Kansas</td>\n",
       "    </tr>\n",
       "    <tr>\n",
       "      <th>967</th>\n",
       "      <td>9944</td>\n",
       "      <td>8768</td>\n",
       "      <td>uclabrewn84.439438</td>\n",
       "      <td>UCLABrewN84</td>\n",
       "      <td>1.268910e+09</td>\n",
       "      <td>United States, California</td>\n",
       "    </tr>\n",
       "    <tr>\n",
       "      <th>672</th>\n",
       "      <td>9520</td>\n",
       "      <td>51</td>\n",
       "      <td>spycow.205702</td>\n",
       "      <td>spycow</td>\n",
       "      <td>1.206270e+09</td>\n",
       "      <td>United States, Illinois</td>\n",
       "    </tr>\n",
       "    <tr>\n",
       "      <th>1286</th>\n",
       "      <td>8970</td>\n",
       "      <td>8970</td>\n",
       "      <td>stonedtrippin.601042</td>\n",
       "      <td>StonedTrippin</td>\n",
       "      <td>1.306577e+09</td>\n",
       "      <td>United States, Colorado</td>\n",
       "    </tr>\n",
       "    <tr>\n",
       "      <th>516</th>\n",
       "      <td>8898</td>\n",
       "      <td>0</td>\n",
       "      <td>kjkinsey.472192</td>\n",
       "      <td>kjkinsey</td>\n",
       "      <td>1.277201e+09</td>\n",
       "      <td>United States, Texas</td>\n",
       "    </tr>\n",
       "    <tr>\n",
       "      <th>1353</th>\n",
       "      <td>8813</td>\n",
       "      <td>2</td>\n",
       "      <td>djrn2.389332</td>\n",
       "      <td>djrn2</td>\n",
       "      <td>1.257332e+09</td>\n",
       "      <td>United States, New Jersey</td>\n",
       "    </tr>\n",
       "  </tbody>\n",
       "</table>\n",
       "</div>"
      ],
      "text/plain": [
       "      nbr_ratings  nbr_reviews               user_id      user_name  \\\n",
       "1352        10360           66        acurtis.508168        acurtis   \n",
       "1583        10302           34    texasfan549.572853    Texasfan549   \n",
       "969         10180         2091    kylehay2004.571365    kylehay2004   \n",
       "994          9991         1122        grg1313.288024        GRG1313   \n",
       "9            9987           16         jaydoc.265507         jaydoc   \n",
       "967          9944         8768    uclabrewn84.439438    UCLABrewN84   \n",
       "672          9520           51         spycow.205702         spycow   \n",
       "1286         8970         8970  stonedtrippin.601042  StonedTrippin   \n",
       "516          8898            0       kjkinsey.472192       kjkinsey   \n",
       "1353         8813            2          djrn2.389332          djrn2   \n",
       "\n",
       "            joined                   location  \n",
       "1352  1.285582e+09  United States, New Jersey  \n",
       "1583  1.298718e+09       United States, Texas  \n",
       "969   1.298459e+09    United States, Illinois  \n",
       "994   1.232017e+09  United States, California  \n",
       "9     1.226488e+09      United States, Kansas  \n",
       "967   1.268910e+09  United States, California  \n",
       "672   1.206270e+09    United States, Illinois  \n",
       "1286  1.306577e+09    United States, Colorado  \n",
       "516   1.277201e+09       United States, Texas  \n",
       "1353  1.257332e+09  United States, New Jersey  "
      ]
     },
     "execution_count": 28,
     "metadata": {},
     "output_type": "execute_result"
    }
   ],
   "source": [
    "# With the above observation, we can clearly see that We have some heavy-hitters in our data-set, \n",
    "# which we will need to filter out later on. \n",
    "# For example, let us look at the 10 users with the most ratings\n",
    "\n",
    "top_ten_us_users = df_us_users.sort_values(by = 'nbr_ratings', ascending = False).head(10)\n",
    "top_ten_us_users"
   ]
  },
  {
   "cell_type": "code",
   "execution_count": 25,
   "metadata": {},
   "outputs": [
    {
     "name": "stdout",
     "output_type": "stream",
     "text": [
      "96965\n",
      "0.013275838699210145\n"
     ]
    }
   ],
   "source": [
    "nb_ratings_top_ten = top_ten_us_users.nbr_ratings.sum()\n",
    "print(nb_ratings_top_ten)\n",
    "print(nb_ratings_top_ten/nb_ratings_us_users)\n"
   ]
  },
  {
   "cell_type": "code",
   "execution_count": null,
   "metadata": {},
   "outputs": [],
   "source": [
    "# 10 users are responsible for roughly 1.3% of the total number of reviews!\n",
    "# We will have to be very careful in the way we select our users and need to determine a method to filter out outliers."
   ]
  },
  {
   "cell_type": "code",
   "execution_count": null,
   "metadata": {},
   "outputs": [],
   "source": [
    "# Increase of number of US users through time."
   ]
  }
 ],
 "metadata": {
  "kernelspec": {
   "display_name": "Python 3.9.7 ('base')",
   "language": "python",
   "name": "python3"
  },
  "language_info": {
   "codemirror_mode": {
    "name": "ipython",
    "version": 3
   },
   "file_extension": ".py",
   "mimetype": "text/x-python",
   "name": "python",
   "nbconvert_exporter": "python",
   "pygments_lexer": "ipython3",
   "version": "3.9.7"
  },
  "orig_nbformat": 4,
  "vscode": {
   "interpreter": {
    "hash": "40d3a090f54c6569ab1632332b64b2c03c39dcf918b08424e98f38b5ae0af88f"
   }
  }
 },
 "nbformat": 4,
 "nbformat_minor": 2
}
