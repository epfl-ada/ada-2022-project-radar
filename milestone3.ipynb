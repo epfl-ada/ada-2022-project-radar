{
 "cells": [
  {
   "cell_type": "code",
   "execution_count": 1,
   "metadata": {},
   "outputs": [],
   "source": [
    "import pandas as pd\n",
    "import seaborn as sns\n",
    "import datetime\n",
    "from datetime import *\n",
    "import sys\n",
    "import gzip\n",
    "import networkx as nx\n",
    "import matplotlib.pyplot as plt\n",
    "import numpy as np\n",
    "import plotly.express as px\n",
    "import pylab\n",
    "import scipy.stats as stats\n",
    "import plotly.graph_objects as go\n",
    "import collections\n",
    "from scipy.stats import bootstrap, ttest_ind, ttest_rel\n",
    "import math\n",
    "from sklearn.cluster import KMeans\n",
    "from sklearn.decomposition import PCA\n",
    "from umap.umap_ import UMAP\n",
    "from sklearn.metrics import silhouette_samples, silhouette_score\n",
    "import matplotlib.cm as cm\n",
    "import random"
   ]
  },
  {
   "cell_type": "code",
   "execution_count": 2,
   "metadata": {},
   "outputs": [],
   "source": [
    "plt.style.use('seaborn')\n",
    "pd.options.mode.chained_assignment = None  # default='warn'"
   ]
  },
  {
   "cell_type": "markdown",
   "metadata": {},
   "source": [
    "# beer"
   ]
  },
  {
   "cell_type": "code",
   "execution_count": 3,
   "metadata": {},
   "outputs": [],
   "source": [
    "#load the data beers.csv\n",
    "df_beers = pd.read_csv('./data/beers.csv')"
   ]
  },
  {
   "cell_type": "code",
   "execution_count": 4,
   "metadata": {},
   "outputs": [
    {
     "data": {
      "text/html": [
       "<div>\n",
       "<style scoped>\n",
       "    .dataframe tbody tr th:only-of-type {\n",
       "        vertical-align: middle;\n",
       "    }\n",
       "\n",
       "    .dataframe tbody tr th {\n",
       "        vertical-align: top;\n",
       "    }\n",
       "\n",
       "    .dataframe thead th {\n",
       "        text-align: right;\n",
       "    }\n",
       "</style>\n",
       "<table border=\"1\" class=\"dataframe\">\n",
       "  <thead>\n",
       "    <tr style=\"text-align: right;\">\n",
       "      <th></th>\n",
       "      <th>beer_id</th>\n",
       "      <th>beer_name</th>\n",
       "      <th>brewery_id</th>\n",
       "      <th>brewery_name</th>\n",
       "      <th>style</th>\n",
       "      <th>nbr_ratings</th>\n",
       "      <th>nbr_reviews</th>\n",
       "      <th>avg</th>\n",
       "      <th>ba_score</th>\n",
       "      <th>bros_score</th>\n",
       "      <th>abv</th>\n",
       "      <th>avg_computed</th>\n",
       "      <th>zscore</th>\n",
       "      <th>nbr_matched_valid_ratings</th>\n",
       "      <th>avg_matched_valid_ratings</th>\n",
       "    </tr>\n",
       "  </thead>\n",
       "  <tbody>\n",
       "    <tr>\n",
       "      <th>0</th>\n",
       "      <td>166064</td>\n",
       "      <td>Nashe Moskovskoe</td>\n",
       "      <td>39912</td>\n",
       "      <td>Abdysh-Ata (Абдыш Ата)</td>\n",
       "      <td>Euro Pale Lager</td>\n",
       "      <td>0</td>\n",
       "      <td>0</td>\n",
       "      <td>NaN</td>\n",
       "      <td>NaN</td>\n",
       "      <td>NaN</td>\n",
       "      <td>4.7</td>\n",
       "      <td>NaN</td>\n",
       "      <td>NaN</td>\n",
       "      <td>0</td>\n",
       "      <td>NaN</td>\n",
       "    </tr>\n",
       "    <tr>\n",
       "      <th>1</th>\n",
       "      <td>166065</td>\n",
       "      <td>Nashe Pivovskoe</td>\n",
       "      <td>39912</td>\n",
       "      <td>Abdysh-Ata (Абдыш Ата)</td>\n",
       "      <td>Euro Pale Lager</td>\n",
       "      <td>0</td>\n",
       "      <td>0</td>\n",
       "      <td>NaN</td>\n",
       "      <td>NaN</td>\n",
       "      <td>NaN</td>\n",
       "      <td>3.8</td>\n",
       "      <td>NaN</td>\n",
       "      <td>NaN</td>\n",
       "      <td>0</td>\n",
       "      <td>NaN</td>\n",
       "    </tr>\n",
       "    <tr>\n",
       "      <th>2</th>\n",
       "      <td>166066</td>\n",
       "      <td>Nashe Shakhterskoe</td>\n",
       "      <td>39912</td>\n",
       "      <td>Abdysh-Ata (Абдыш Ата)</td>\n",
       "      <td>Euro Pale Lager</td>\n",
       "      <td>0</td>\n",
       "      <td>0</td>\n",
       "      <td>NaN</td>\n",
       "      <td>NaN</td>\n",
       "      <td>NaN</td>\n",
       "      <td>4.8</td>\n",
       "      <td>NaN</td>\n",
       "      <td>NaN</td>\n",
       "      <td>0</td>\n",
       "      <td>NaN</td>\n",
       "    </tr>\n",
       "    <tr>\n",
       "      <th>3</th>\n",
       "      <td>166067</td>\n",
       "      <td>Nashe Zhigulevskoe</td>\n",
       "      <td>39912</td>\n",
       "      <td>Abdysh-Ata (Абдыш Ата)</td>\n",
       "      <td>Euro Pale Lager</td>\n",
       "      <td>0</td>\n",
       "      <td>0</td>\n",
       "      <td>NaN</td>\n",
       "      <td>NaN</td>\n",
       "      <td>NaN</td>\n",
       "      <td>4.0</td>\n",
       "      <td>NaN</td>\n",
       "      <td>NaN</td>\n",
       "      <td>0</td>\n",
       "      <td>NaN</td>\n",
       "    </tr>\n",
       "    <tr>\n",
       "      <th>4</th>\n",
       "      <td>166063</td>\n",
       "      <td>Zhivoe</td>\n",
       "      <td>39912</td>\n",
       "      <td>Abdysh-Ata (Абдыш Ата)</td>\n",
       "      <td>Euro Pale Lager</td>\n",
       "      <td>0</td>\n",
       "      <td>0</td>\n",
       "      <td>NaN</td>\n",
       "      <td>NaN</td>\n",
       "      <td>NaN</td>\n",
       "      <td>4.5</td>\n",
       "      <td>NaN</td>\n",
       "      <td>NaN</td>\n",
       "      <td>0</td>\n",
       "      <td>NaN</td>\n",
       "    </tr>\n",
       "  </tbody>\n",
       "</table>\n",
       "</div>"
      ],
      "text/plain": [
       "   beer_id           beer_name  brewery_id            brewery_name  \\\n",
       "0   166064    Nashe Moskovskoe       39912  Abdysh-Ata (Абдыш Ата)   \n",
       "1   166065     Nashe Pivovskoe       39912  Abdysh-Ata (Абдыш Ата)   \n",
       "2   166066  Nashe Shakhterskoe       39912  Abdysh-Ata (Абдыш Ата)   \n",
       "3   166067  Nashe Zhigulevskoe       39912  Abdysh-Ata (Абдыш Ата)   \n",
       "4   166063              Zhivoe       39912  Abdysh-Ata (Абдыш Ата)   \n",
       "\n",
       "             style  nbr_ratings  nbr_reviews  avg  ba_score  bros_score  abv  \\\n",
       "0  Euro Pale Lager            0            0  NaN       NaN         NaN  4.7   \n",
       "1  Euro Pale Lager            0            0  NaN       NaN         NaN  3.8   \n",
       "2  Euro Pale Lager            0            0  NaN       NaN         NaN  4.8   \n",
       "3  Euro Pale Lager            0            0  NaN       NaN         NaN  4.0   \n",
       "4  Euro Pale Lager            0            0  NaN       NaN         NaN  4.5   \n",
       "\n",
       "   avg_computed  zscore  nbr_matched_valid_ratings  avg_matched_valid_ratings  \n",
       "0           NaN     NaN                          0                        NaN  \n",
       "1           NaN     NaN                          0                        NaN  \n",
       "2           NaN     NaN                          0                        NaN  \n",
       "3           NaN     NaN                          0                        NaN  \n",
       "4           NaN     NaN                          0                        NaN  "
      ]
     },
     "execution_count": 4,
     "metadata": {},
     "output_type": "execute_result"
    }
   ],
   "source": [
    "df_beers.head()"
   ]
  },
  {
   "cell_type": "code",
   "execution_count": 5,
   "metadata": {
    "cell_id": "f19be61f23d14b039515a428e733e967",
    "deepnote_cell_type": "code"
   },
   "outputs": [],
   "source": [
    "list_considered_variable=['beer_id','beer_name','brewery_id','brewery_name','style',\n",
    "                          'nbr_reviews','nbr_ratings','avg', 'abv']\n",
    "df_beers=df_beers[list_considered_variable]"
   ]
  },
  {
   "cell_type": "code",
   "execution_count": 6,
   "metadata": {
    "cell_id": "eadfb89af763419cb9ac7620298c2aaa",
    "deepnote_cell_type": "code",
    "deepnote_to_be_reexecuted": false,
    "execution_millis": 36,
    "execution_start": 1668694159723,
    "source_hash": "763cc6b1",
    "tags": []
   },
   "outputs": [],
   "source": [
    "beer_catalog = {\n",
    "    'Bocks' : ['Bock', 'Doppelbock', 'Eisbock', 'Maibock', 'Weizenbock', 'Maibock / Helles Bock'],\n",
    "\n",
    "    'Dark Ales' : ['Dubbel', 'Roggenbier', 'Scottish Ale', 'Winter Warmer'],\n",
    "\n",
    "    'Hybrid Beers' : ['Bière de Champagne / Bière Brut', 'Braggot', 'California Common / Steam Beer', 'Cream Ale'],\n",
    "\n",
    "    'Pale Ales' : ['American Amber / Red Ale', 'American Blonde Ale', 'American Pale Ale', 'Belgian Blonde Ale',\n",
    "    'Belgian Pale Ale', 'Bière de Garde', 'English Bitter', 'English Pale Ale', 'English Pale Mild Ale', 'Extra Special / Strong Bitter (ESB)',\n",
    "    'Grisette', 'Irish Red Ale', 'Kölsch', 'Saison', 'Saison / Farmhouse Ale', 'Belgian Strong Pale Ale', 'American Pale Ale (APA)'],\n",
    "\n",
    "    'Porters' : ['American Porter', 'Baltic Porter', 'English Porter', 'Imperial Porter', 'Robust Porter ', 'Smoked Porter'],\n",
    "\n",
    "    'Stouts' : ['American Imperial Stout', 'American Stout', 'English Stout', 'Foreign / Export Stout', 'Irish Dry Stout', 'Oatmeal Stout',\n",
    "    'Russian Imperial Stout', 'Milk / Sweet Stout', 'American Double / Imperial Stout'],\n",
    "\n",
    "    'Wheat Beers' : ['American Dark Wheat Beer', 'American Pale Wheat Beer', 'Dunkelweizen', 'Grodziskie', 'Hefeweizen', 'Kristallweizen', 'Witbier', \n",
    "    'American Pale Wheat Ale', 'American Dark Wheat Ale', 'Berliner Weissbier', 'Kristalweizen'],\n",
    "\n",
    "    'Brown Ales' : ['Altbier', 'American Brown Ale', 'Belgian Dark Ale', 'English Brown Ale', 'English Dark Mild Ale', 'Belgian Strong Dark Ale'],\n",
    "\n",
    "    'Dark Lagers' : ['American Amber / Red Lager', 'Czech Amber Lager', 'Czech Dark Lager', 'European Dark Lager', 'Märzen',\n",
    "    'Munich Dunkel', 'Rauchbier', 'Schwarzbier', 'Vienna Lager', 'Munich Dunkel Lager', 'Euro Dark Lager'],\n",
    "\n",
    "    'India Pale Ales' : ['American IPA', 'American Double / Imperial IPA', 'Belgian IPA', 'Black IPA', 'Brut IPA', 'English IPA', 'English India Pale Ale (IPA)', \n",
    "    'Imperial IPA', 'Milkshake IPA', 'New England IPA', 'American Black Ale'],\n",
    "\n",
    "    'Pale Lagers' : ['American Adjunct Lager', 'American Lager', 'Bohemian / Czech Pilsner', 'Czech Pale Lager', 'European / Dortmunder Export Lager',\n",
    "    'European Pale Lager', 'European Strong Lager', 'Festbier / Wiesnbier', 'German Pilsner', 'Helles', 'Imperial Pilsner', 'India Pale Lager (IPL)',\n",
    "    'Kellerbier / Zwickelbier', 'Light Lager', 'Malt Liquor', 'Czech Pilsener', 'Euro Pale Lager', 'American Pale Lager', 'German Pilsener', 'Dortmunder / Export Lager', \n",
    "    'Euro Strong Lager', 'Munich Helles Lager', 'American Double / Imperial Pilsner', 'American Malt Liquor', 'Märzen / Oktoberfest'],\n",
    "\n",
    "    'Specialty Beer' : ['Chile Beer', 'Fruit and Field Beer', 'Gruit / Ancient Herbed Ale', 'Happoshu', 'Herb and Spice Beer', 'Japanese Rice Lager',\n",
    "    'Kvass', 'Low-Alcohol Beer', 'Pumpkin Beer', 'Rye Beer', 'Sahti', 'Smoked Beer', 'Herbed / Spiced Beer', 'Pumpkin Ale', 'Scottish Gruit / Ancient Herbed Ale', 'Low Alcohol Beer'],\n",
    "\n",
    "    'Strong Ales' : ['American Barleywine', 'American Strong Ale', 'Belgian Dark Strong Ale', 'Belgian Pale Strong Ale', 'English Barleywine', 'English Strong Ale',\n",
    "    'Imperial Red Ale', 'Old Ale', 'Quadrupel (Quad)', 'Scotch Ale / Wee Heavy', 'Tripel', 'Wheatwine', 'Fruit / Vegetable Beer'],\n",
    "    \n",
    "    'Wild/Sour Beers' : ['Berliner Weisse', 'Brett Beer', 'Faro', 'Flanders Oud Bruin', 'Flanders Red Ale', 'Fruit Lambic',\n",
    "    'Fruited Kettle Sour', 'Gose', 'Gueuze', 'Lambic', 'Wild Ale', 'Lambic - Unblended', 'Lambic - Fruit', 'American Wild Ale'],\n",
    "\n",
    "    'Weird Cocktail' : ['Black & Tan']\n",
    "}"
   ]
  },
  {
   "cell_type": "code",
   "execution_count": 7,
   "metadata": {
    "cell_id": "26ffb113c1fd44f38af6d5ed9861ed16",
    "deepnote_cell_type": "code",
    "deepnote_to_be_reexecuted": false,
    "execution_millis": 8,
    "execution_start": 1668694159764,
    "source_hash": "390b466c",
    "tags": []
   },
   "outputs": [],
   "source": [
    "beer_catalog_reverse = {}\n",
    "for key, values in beer_catalog.items():\n",
    "    for value in values:\n",
    "            beer_catalog_reverse.setdefault(value, []).append(key)"
   ]
  },
  {
   "cell_type": "code",
   "execution_count": 8,
   "metadata": {
    "cell_id": "8aec10edbc964f71acf3ba71218c5896",
    "deepnote_cell_type": "code",
    "deepnote_to_be_reexecuted": false,
    "execution_millis": 40,
    "execution_start": 1668694159774,
    "source_hash": "6e14184a",
    "tags": []
   },
   "outputs": [],
   "source": [
    "def category_check(beer_style, beer_catalog):\n",
    "    '''\n",
    "    Return the new columns of 15 categories taken from the website https://www.beeradvocate.com/beer/styles/\n",
    "    '''\n",
    "    for category_name, beer_styles in beer_catalog.items():\n",
    "        if beer_style in beer_styles:\n",
    "            return category_name"
   ]
  },
  {
   "cell_type": "code",
   "execution_count": 9,
   "metadata": {
    "cell_id": "b478e5b39ab946288c93c71c01b1af4c",
    "deepnote_cell_type": "code",
    "deepnote_to_be_reexecuted": false,
    "execution_millis": 821,
    "execution_start": 1668694159814,
    "source_hash": "d2dcf1f1",
    "tags": []
   },
   "outputs": [],
   "source": [
    "df_beers['category'] = df_beers['style'].apply(lambda beer_style: category_check(beer_style, beer_catalog))"
   ]
  },
  {
   "cell_type": "code",
   "execution_count": 10,
   "metadata": {},
   "outputs": [
    {
     "data": {
      "text/html": [
       "<div>\n",
       "<style scoped>\n",
       "    .dataframe tbody tr th:only-of-type {\n",
       "        vertical-align: middle;\n",
       "    }\n",
       "\n",
       "    .dataframe tbody tr th {\n",
       "        vertical-align: top;\n",
       "    }\n",
       "\n",
       "    .dataframe thead th {\n",
       "        text-align: right;\n",
       "    }\n",
       "</style>\n",
       "<table border=\"1\" class=\"dataframe\">\n",
       "  <thead>\n",
       "    <tr style=\"text-align: right;\">\n",
       "      <th></th>\n",
       "      <th>beer_id</th>\n",
       "      <th>beer_name</th>\n",
       "      <th>brewery_id</th>\n",
       "      <th>brewery_name</th>\n",
       "      <th>style</th>\n",
       "      <th>nbr_reviews</th>\n",
       "      <th>nbr_ratings</th>\n",
       "      <th>avg</th>\n",
       "      <th>abv</th>\n",
       "      <th>category</th>\n",
       "    </tr>\n",
       "  </thead>\n",
       "  <tbody>\n",
       "    <tr>\n",
       "      <th>0</th>\n",
       "      <td>166064</td>\n",
       "      <td>Nashe Moskovskoe</td>\n",
       "      <td>39912</td>\n",
       "      <td>Abdysh-Ata (Абдыш Ата)</td>\n",
       "      <td>Euro Pale Lager</td>\n",
       "      <td>0</td>\n",
       "      <td>0</td>\n",
       "      <td>NaN</td>\n",
       "      <td>4.7</td>\n",
       "      <td>Pale Lagers</td>\n",
       "    </tr>\n",
       "    <tr>\n",
       "      <th>1</th>\n",
       "      <td>166065</td>\n",
       "      <td>Nashe Pivovskoe</td>\n",
       "      <td>39912</td>\n",
       "      <td>Abdysh-Ata (Абдыш Ата)</td>\n",
       "      <td>Euro Pale Lager</td>\n",
       "      <td>0</td>\n",
       "      <td>0</td>\n",
       "      <td>NaN</td>\n",
       "      <td>3.8</td>\n",
       "      <td>Pale Lagers</td>\n",
       "    </tr>\n",
       "    <tr>\n",
       "      <th>2</th>\n",
       "      <td>166066</td>\n",
       "      <td>Nashe Shakhterskoe</td>\n",
       "      <td>39912</td>\n",
       "      <td>Abdysh-Ata (Абдыш Ата)</td>\n",
       "      <td>Euro Pale Lager</td>\n",
       "      <td>0</td>\n",
       "      <td>0</td>\n",
       "      <td>NaN</td>\n",
       "      <td>4.8</td>\n",
       "      <td>Pale Lagers</td>\n",
       "    </tr>\n",
       "    <tr>\n",
       "      <th>3</th>\n",
       "      <td>166067</td>\n",
       "      <td>Nashe Zhigulevskoe</td>\n",
       "      <td>39912</td>\n",
       "      <td>Abdysh-Ata (Абдыш Ата)</td>\n",
       "      <td>Euro Pale Lager</td>\n",
       "      <td>0</td>\n",
       "      <td>0</td>\n",
       "      <td>NaN</td>\n",
       "      <td>4.0</td>\n",
       "      <td>Pale Lagers</td>\n",
       "    </tr>\n",
       "    <tr>\n",
       "      <th>4</th>\n",
       "      <td>166063</td>\n",
       "      <td>Zhivoe</td>\n",
       "      <td>39912</td>\n",
       "      <td>Abdysh-Ata (Абдыш Ата)</td>\n",
       "      <td>Euro Pale Lager</td>\n",
       "      <td>0</td>\n",
       "      <td>0</td>\n",
       "      <td>NaN</td>\n",
       "      <td>4.5</td>\n",
       "      <td>Pale Lagers</td>\n",
       "    </tr>\n",
       "  </tbody>\n",
       "</table>\n",
       "</div>"
      ],
      "text/plain": [
       "   beer_id           beer_name  brewery_id            brewery_name  \\\n",
       "0   166064    Nashe Moskovskoe       39912  Abdysh-Ata (Абдыш Ата)   \n",
       "1   166065     Nashe Pivovskoe       39912  Abdysh-Ata (Абдыш Ата)   \n",
       "2   166066  Nashe Shakhterskoe       39912  Abdysh-Ata (Абдыш Ата)   \n",
       "3   166067  Nashe Zhigulevskoe       39912  Abdysh-Ata (Абдыш Ата)   \n",
       "4   166063              Zhivoe       39912  Abdysh-Ata (Абдыш Ата)   \n",
       "\n",
       "             style  nbr_reviews  nbr_ratings  avg  abv     category  \n",
       "0  Euro Pale Lager            0            0  NaN  4.7  Pale Lagers  \n",
       "1  Euro Pale Lager            0            0  NaN  3.8  Pale Lagers  \n",
       "2  Euro Pale Lager            0            0  NaN  4.8  Pale Lagers  \n",
       "3  Euro Pale Lager            0            0  NaN  4.0  Pale Lagers  \n",
       "4  Euro Pale Lager            0            0  NaN  4.5  Pale Lagers  "
      ]
     },
     "execution_count": 10,
     "metadata": {},
     "output_type": "execute_result"
    }
   ],
   "source": [
    "df_beers.head(5)"
   ]
  },
  {
   "attachments": {},
   "cell_type": "markdown",
   "metadata": {},
   "source": [
    "# Users and filtering"
   ]
  },
  {
   "cell_type": "code",
   "execution_count": 11,
   "metadata": {
    "cell_id": "a08802bdef7149109203f51bdf1142ce",
    "deepnote_cell_type": "code"
   },
   "outputs": [
    {
     "name": "stdout",
     "output_type": "stream",
     "text": [
      "         nbr_ratings    nbr_reviews        joined\n",
      "count  153704.000000  153704.000000  1.510520e+05\n",
      "mean       54.605163      16.847876  1.357238e+09\n",
      "std       252.388790     139.846706  9.195131e+07\n",
      "min         1.000000       0.000000  8.407944e+08\n",
      "25%         1.000000       0.000000  1.303121e+09\n",
      "50%         3.000000       0.000000  1.391944e+09\n",
      "75%        16.000000       2.000000  1.417691e+09\n",
      "max     12046.000000    8970.000000  1.501495e+09\n"
     ]
    },
    {
     "data": {
      "text/html": [
       "<div>\n",
       "<style scoped>\n",
       "    .dataframe tbody tr th:only-of-type {\n",
       "        vertical-align: middle;\n",
       "    }\n",
       "\n",
       "    .dataframe tbody tr th {\n",
       "        vertical-align: top;\n",
       "    }\n",
       "\n",
       "    .dataframe thead th {\n",
       "        text-align: right;\n",
       "    }\n",
       "</style>\n",
       "<table border=\"1\" class=\"dataframe\">\n",
       "  <thead>\n",
       "    <tr style=\"text-align: right;\">\n",
       "      <th></th>\n",
       "      <th>nbr_ratings</th>\n",
       "      <th>nbr_reviews</th>\n",
       "      <th>user_id</th>\n",
       "      <th>user_name</th>\n",
       "      <th>joined</th>\n",
       "      <th>location</th>\n",
       "    </tr>\n",
       "  </thead>\n",
       "  <tbody>\n",
       "    <tr>\n",
       "      <th>0</th>\n",
       "      <td>7820</td>\n",
       "      <td>465</td>\n",
       "      <td>nmann08.184925</td>\n",
       "      <td>nmann08</td>\n",
       "      <td>1.199704e+09</td>\n",
       "      <td>United States, Washington</td>\n",
       "    </tr>\n",
       "    <tr>\n",
       "      <th>1</th>\n",
       "      <td>2521</td>\n",
       "      <td>2504</td>\n",
       "      <td>stjamesgate.163714</td>\n",
       "      <td>StJamesGate</td>\n",
       "      <td>1.191838e+09</td>\n",
       "      <td>United States, New York</td>\n",
       "    </tr>\n",
       "    <tr>\n",
       "      <th>2</th>\n",
       "      <td>1797</td>\n",
       "      <td>1143</td>\n",
       "      <td>mdagnew.19527</td>\n",
       "      <td>mdagnew</td>\n",
       "      <td>1.116410e+09</td>\n",
       "      <td>Northern Ireland</td>\n",
       "    </tr>\n",
       "    <tr>\n",
       "      <th>3</th>\n",
       "      <td>31</td>\n",
       "      <td>31</td>\n",
       "      <td>helloloser12345.10867</td>\n",
       "      <td>helloloser12345</td>\n",
       "      <td>1.101380e+09</td>\n",
       "      <td>Northern Ireland</td>\n",
       "    </tr>\n",
       "    <tr>\n",
       "      <th>4</th>\n",
       "      <td>604</td>\n",
       "      <td>604</td>\n",
       "      <td>cypressbob.3708</td>\n",
       "      <td>cypressbob</td>\n",
       "      <td>1.069326e+09</td>\n",
       "      <td>Northern Ireland</td>\n",
       "    </tr>\n",
       "  </tbody>\n",
       "</table>\n",
       "</div>"
      ],
      "text/plain": [
       "   nbr_ratings  nbr_reviews                user_id        user_name  \\\n",
       "0         7820          465         nmann08.184925          nmann08   \n",
       "1         2521         2504     stjamesgate.163714      StJamesGate   \n",
       "2         1797         1143          mdagnew.19527          mdagnew   \n",
       "3           31           31  helloloser12345.10867  helloloser12345   \n",
       "4          604          604        cypressbob.3708       cypressbob   \n",
       "\n",
       "         joined                   location  \n",
       "0  1.199704e+09  United States, Washington  \n",
       "1  1.191838e+09    United States, New York  \n",
       "2  1.116410e+09           Northern Ireland  \n",
       "3  1.101380e+09           Northern Ireland  \n",
       "4  1.069326e+09           Northern Ireland  "
      ]
     },
     "execution_count": 11,
     "metadata": {},
     "output_type": "execute_result"
    }
   ],
   "source": [
    "#load the data\n",
    "\n",
    "df_users = pd.read_csv('./data/users.csv')\n",
    "print(df_users.describe())\n",
    "df_users.head(5)"
   ]
  },
  {
   "cell_type": "code",
   "execution_count": 12,
   "metadata": {
    "cell_id": "e9bbb0ea7e39456583d0b6628a387617",
    "deepnote_cell_type": "code"
   },
   "outputs": [
    {
     "name": "stdout",
     "output_type": "stream",
     "text": [
      "There are 113223 US users\n",
      "Cutoff low :  500\n",
      "Cutoff high :  1135.0\n",
      "Number of users left :  2232\n",
      "Total of ratings left :  1652164\n"
     ]
    }
   ],
   "source": [
    "# First user filtering phase \n",
    "\n",
    "# keep users from the USA only & who have made a minimum number of reviews in order to participate in our study\n",
    "\n",
    "df_us_users = df_users[df_users.location.str.contains('United States', na=False)]\n",
    "nb_us_users = df_us_users['user_id'].nunique()\n",
    "print(f\"There are {nb_us_users} US users\")\n",
    "\n",
    "#choose a minimum number of ratings per user, since we want to analyse an evolution!\n",
    "cutoff_low = 500\n",
    "print(\"Cutoff low : \", cutoff_low)\n",
    "\n",
    "#choose a maximum number of ratings per user, we want to filter our super-users or organisations\n",
    "cutoff_high = df_us_users.nbr_ratings.quantile(0.99)\n",
    "print(\"Cutoff high : \", cutoff_high)\n",
    "\n",
    "#create a valid user dataframe and a set with the valid user_names\n",
    "df_us_users = df_us_users[(df_us_users.nbr_ratings < cutoff_high) &\n",
    "                                (df_us_users.nbr_ratings >= cutoff_low)]\n",
    "us_users_names = set(df_us_users.user_name)\n",
    "print(\"Number of users left : \", len(us_users_names))\n",
    "print(\"Total of ratings left : \", df_us_users.nbr_ratings.sum())\n",
    "\n",
    "#convert the 'joined' column into datetime format\n",
    "df_us_users.loc[:,'date_joined'] = pd.to_datetime(df_us_users['joined'].apply(lambda dt : datetime.fromtimestamp(dt).strftime('%Y-%m-%d')))"
   ]
  },
  {
   "cell_type": "code",
   "execution_count": 13,
   "metadata": {},
   "outputs": [],
   "source": [
    "# We now gather some more user information by analyzing their behaviour as a reviewer"
   ]
  },
  {
   "cell_type": "code",
   "execution_count": 14,
   "metadata": {
    "cell_id": "4eb61738f844445ba471cd7668afab43",
    "deepnote_cell_type": "code",
    "deepnote_to_be_reexecuted": false,
    "execution_millis": 5,
    "execution_start": 1668694161680,
    "source_hash": "5f5f7f2d",
    "tags": []
   },
   "outputs": [],
   "source": [
    "def parse(filename):\n",
    "    \"\"\"\n",
    "    Parse a txt.gz file and return a generator for it\n",
    "    Copyright © 2017 Gael Lederrey <gael.lederrey@epfl.ch>\n",
    "    :param filename: name of the file\n",
    "    :return: Generator to go through the file\n",
    "    \"\"\"\n",
    "    file = gzip.open(filename, 'rb')\n",
    "    entry = {}\n",
    "    # Go through all the lines\n",
    "    for line in file:\n",
    "        # Transform the string-bytes into a string\n",
    "        line = line.decode(\"utf-8\").strip()\n",
    "\n",
    "        # We check for a colon in each line\n",
    "        colon_pos = line.find(\":\")\n",
    "        if colon_pos == -1:\n",
    "            # if no, we yield the entry\n",
    "            yield entry\n",
    "            entry = {}\n",
    "            continue\n",
    "        # otherwise, we add the key-value pair to the entry\n",
    "        key = line[:colon_pos]\n",
    "        value = line[colon_pos + 2:]\n",
    "        entry[key] = value"
   ]
  },
  {
   "cell_type": "code",
   "execution_count": 15,
   "metadata": {
    "cell_id": "cb2d5c48750b49048257c318e1a94601",
    "deepnote_cell_type": "code"
   },
   "outputs": [],
   "source": [
    "gen = parse('./data/ratings.txt.gz')"
   ]
  },
  {
   "cell_type": "code",
   "execution_count": 16,
   "metadata": {
    "cell_id": "d885e11d05b34b36931c83ed75198dc4",
    "deepnote_cell_type": "code"
   },
   "outputs": [],
   "source": [
    "#We create the dataframe of the valid us users previously determined\n",
    "\n",
    "create = False\n",
    "\n",
    "if create:\n",
    "    undesired_features = set(['text','review', 'brewery_name', 'brewery_id', 'user_id', 'beer_name'])\n",
    "    full_ratings_ls = []\n",
    "    int_cols = ['beer_id']\n",
    "    float_cols = ['abv','appearance', 'aroma', 'palate', 'taste', 'overall', 'rating']\n",
    "\n",
    "    review = next(gen)\n",
    "    cols = [key for key, _ in review.items() if key not in undesired_features]\n",
    "\n",
    "    for idx, review in enumerate(gen):\n",
    "        user_name = review['user_name']\n",
    "        valid_rows = [value for key, value in review.items() if key not in undesired_features]\n",
    "        if user_name in us_users_names:\n",
    "            full_ratings_ls.append(valid_rows)\n",
    "\n",
    "    df_ratings = pd.DataFrame(full_ratings_ls, columns = cols)\n",
    "\n",
    "    df_ratings[int_cols] = df_ratings[int_cols].astype('int')\n",
    "    df_ratings[float_cols] = df_ratings[float_cols].astype('float') \n",
    "    df_ratings[\"date\"] = pd.to_datetime(df_ratings.date.apply(\n",
    "        lambda date : datetime.fromtimestamp(int(date)).strftime('%Y-%m-%d')\n",
    "    ))\n",
    "\n",
    "    #There is one review in 2000, wich is an outlier\n",
    "    start_date = pd.to_datetime(\"2001-01-01\")\n",
    "    df_ratings = df_ratings.loc[df_ratings['date'] >= start_date]   \n",
    "    df_ratings.to_pickle('./data/ratings_valid_user.pkl')\n",
    "\n",
    "else:\n",
    "    df_ratings = pd.read_pickle('./data/ratings_valid_user.pkl')"
   ]
  },
  {
   "cell_type": "code",
   "execution_count": 17,
   "metadata": {},
   "outputs": [],
   "source": [
    "#add the category of the beer\n",
    "beers_id_cat = df_beers[['beer_id', 'category']]\n",
    "df_ratings = pd.merge(df_ratings, beers_id_cat, on = 'beer_id')\n",
    "\n",
    "#add the rating number, starts at 0\n",
    "df_ratings.sort_values(by = \"date\", inplace=True)\n",
    "df_ratings[\"rating_number\"] = df_ratings.groupby(\"user_name\").transform(\"cumcount\")\n",
    "\n",
    "#we also convert the date to the proper format\n",
    "df_ratings[\"date\"] = pd.to_datetime(df_ratings[\"date\"])"
   ]
  },
  {
   "cell_type": "code",
   "execution_count": 18,
   "metadata": {},
   "outputs": [],
   "source": [
    "#We apply the second of our filters, we only keep the 500 first ratings. (rating number at which you are considered an expert)\n",
    "nb_ratings_expert = 500\n",
    "df_us_ratings = df_ratings[df_ratings[\"rating_number\"] < nb_ratings_expert]"
   ]
  },
  {
   "cell_type": "code",
   "execution_count": 19,
   "metadata": {},
   "outputs": [
    {
     "data": {
      "text/html": [
       "<div>\n",
       "<style scoped>\n",
       "    .dataframe tbody tr th:only-of-type {\n",
       "        vertical-align: middle;\n",
       "    }\n",
       "\n",
       "    .dataframe tbody tr th {\n",
       "        vertical-align: top;\n",
       "    }\n",
       "\n",
       "    .dataframe thead th {\n",
       "        text-align: right;\n",
       "    }\n",
       "</style>\n",
       "<table border=\"1\" class=\"dataframe\">\n",
       "  <thead>\n",
       "    <tr style=\"text-align: right;\">\n",
       "      <th></th>\n",
       "      <th>beer_id</th>\n",
       "      <th>style</th>\n",
       "      <th>abv</th>\n",
       "      <th>date</th>\n",
       "      <th>user_name</th>\n",
       "      <th>appearance</th>\n",
       "      <th>aroma</th>\n",
       "      <th>palate</th>\n",
       "      <th>taste</th>\n",
       "      <th>overall</th>\n",
       "      <th>rating</th>\n",
       "      <th>category</th>\n",
       "      <th>rating_number</th>\n",
       "    </tr>\n",
       "  </thead>\n",
       "  <tbody>\n",
       "    <tr>\n",
       "      <th>1640018</th>\n",
       "      <td>167</td>\n",
       "      <td>Witbier</td>\n",
       "      <td>NaN</td>\n",
       "      <td>2001-03-16</td>\n",
       "      <td>frank4sail</td>\n",
       "      <td>4.5</td>\n",
       "      <td>4.5</td>\n",
       "      <td>4.0</td>\n",
       "      <td>5.0</td>\n",
       "      <td>5.0</td>\n",
       "      <td>4.75</td>\n",
       "      <td>Wheat Beers</td>\n",
       "      <td>0</td>\n",
       "    </tr>\n",
       "    <tr>\n",
       "      <th>311428</th>\n",
       "      <td>3558</td>\n",
       "      <td>Czech Pilsener</td>\n",
       "      <td>5.00</td>\n",
       "      <td>2001-06-18</td>\n",
       "      <td>Mark</td>\n",
       "      <td>4.0</td>\n",
       "      <td>4.0</td>\n",
       "      <td>3.0</td>\n",
       "      <td>4.0</td>\n",
       "      <td>4.0</td>\n",
       "      <td>3.90</td>\n",
       "      <td>Pale Lagers</td>\n",
       "      <td>0</td>\n",
       "    </tr>\n",
       "    <tr>\n",
       "      <th>17313</th>\n",
       "      <td>73</td>\n",
       "      <td>Milk / Sweet Stout</td>\n",
       "      <td>5.20</td>\n",
       "      <td>2001-06-18</td>\n",
       "      <td>Mark</td>\n",
       "      <td>5.0</td>\n",
       "      <td>5.0</td>\n",
       "      <td>5.0</td>\n",
       "      <td>5.0</td>\n",
       "      <td>5.0</td>\n",
       "      <td>5.00</td>\n",
       "      <td>Stouts</td>\n",
       "      <td>1</td>\n",
       "    </tr>\n",
       "    <tr>\n",
       "      <th>136697</th>\n",
       "      <td>261</td>\n",
       "      <td>Vienna Lager</td>\n",
       "      <td>4.48</td>\n",
       "      <td>2001-06-24</td>\n",
       "      <td>Mark</td>\n",
       "      <td>4.0</td>\n",
       "      <td>3.0</td>\n",
       "      <td>3.0</td>\n",
       "      <td>3.0</td>\n",
       "      <td>3.0</td>\n",
       "      <td>3.06</td>\n",
       "      <td>Dark Lagers</td>\n",
       "      <td>2</td>\n",
       "    </tr>\n",
       "    <tr>\n",
       "      <th>442671</th>\n",
       "      <td>87</td>\n",
       "      <td>American Pale Ale (APA)</td>\n",
       "      <td>5.40</td>\n",
       "      <td>2001-06-24</td>\n",
       "      <td>Mark</td>\n",
       "      <td>4.0</td>\n",
       "      <td>4.0</td>\n",
       "      <td>1.0</td>\n",
       "      <td>3.0</td>\n",
       "      <td>3.0</td>\n",
       "      <td>3.10</td>\n",
       "      <td>Pale Ales</td>\n",
       "      <td>3</td>\n",
       "    </tr>\n",
       "  </tbody>\n",
       "</table>\n",
       "</div>"
      ],
      "text/plain": [
       "         beer_id                    style   abv       date   user_name  \\\n",
       "1640018      167                  Witbier   NaN 2001-03-16  frank4sail   \n",
       "311428      3558           Czech Pilsener  5.00 2001-06-18        Mark   \n",
       "17313         73       Milk / Sweet Stout  5.20 2001-06-18        Mark   \n",
       "136697       261             Vienna Lager  4.48 2001-06-24        Mark   \n",
       "442671        87  American Pale Ale (APA)  5.40 2001-06-24        Mark   \n",
       "\n",
       "         appearance  aroma  palate  taste  overall  rating     category  \\\n",
       "1640018         4.5    4.5     4.0    5.0      5.0    4.75  Wheat Beers   \n",
       "311428          4.0    4.0     3.0    4.0      4.0    3.90  Pale Lagers   \n",
       "17313           5.0    5.0     5.0    5.0      5.0    5.00       Stouts   \n",
       "136697          4.0    3.0     3.0    3.0      3.0    3.06  Dark Lagers   \n",
       "442671          4.0    4.0     1.0    3.0      3.0    3.10    Pale Ales   \n",
       "\n",
       "         rating_number  \n",
       "1640018              0  \n",
       "311428               0  \n",
       "17313                1  \n",
       "136697               2  \n",
       "442671               3  "
      ]
     },
     "execution_count": 19,
     "metadata": {},
     "output_type": "execute_result"
    }
   ],
   "source": [
    "df_us_ratings.head(5)"
   ]
  },
  {
   "cell_type": "code",
   "execution_count": 20,
   "metadata": {},
   "outputs": [],
   "source": [
    "#We go back to users and compute on how many different days they were active\n",
    "\n",
    "user_active = df_us_ratings.groupby(['user_name'], as_index = False).date.nunique()\n",
    "user_active.columns = ['user_name', 'active_days']\n",
    "df_us_users = df_us_users.merge(user_active, on = 'user_name')"
   ]
  },
  {
   "cell_type": "code",
   "execution_count": 21,
   "metadata": {},
   "outputs": [
    {
     "data": {
      "text/html": [
       "<div>\n",
       "<style scoped>\n",
       "    .dataframe tbody tr th:only-of-type {\n",
       "        vertical-align: middle;\n",
       "    }\n",
       "\n",
       "    .dataframe tbody tr th {\n",
       "        vertical-align: top;\n",
       "    }\n",
       "\n",
       "    .dataframe thead th {\n",
       "        text-align: right;\n",
       "    }\n",
       "</style>\n",
       "<table border=\"1\" class=\"dataframe\">\n",
       "  <thead>\n",
       "    <tr style=\"text-align: right;\">\n",
       "      <th></th>\n",
       "      <th>nbr_ratings</th>\n",
       "      <th>nbr_reviews</th>\n",
       "      <th>user_id</th>\n",
       "      <th>user_name</th>\n",
       "      <th>joined</th>\n",
       "      <th>location</th>\n",
       "      <th>date_joined</th>\n",
       "      <th>active_days</th>\n",
       "      <th>delta_first_last</th>\n",
       "    </tr>\n",
       "  </thead>\n",
       "  <tbody>\n",
       "    <tr>\n",
       "      <th>0</th>\n",
       "      <td>1131</td>\n",
       "      <td>188</td>\n",
       "      <td>okcnittany.144868</td>\n",
       "      <td>OKCNittany</td>\n",
       "      <td>1.182766e+09</td>\n",
       "      <td>United States, Oklahoma</td>\n",
       "      <td>2007-06-25</td>\n",
       "      <td>187</td>\n",
       "      <td>2397</td>\n",
       "    </tr>\n",
       "    <tr>\n",
       "      <th>1</th>\n",
       "      <td>732</td>\n",
       "      <td>14</td>\n",
       "      <td>byofb.537281</td>\n",
       "      <td>BYOFB</td>\n",
       "      <td>1.292065e+09</td>\n",
       "      <td>United States, Wisconsin</td>\n",
       "      <td>2010-12-11</td>\n",
       "      <td>32</td>\n",
       "      <td>756</td>\n",
       "    </tr>\n",
       "    <tr>\n",
       "      <th>2</th>\n",
       "      <td>585</td>\n",
       "      <td>389</td>\n",
       "      <td>ferrari29.320392</td>\n",
       "      <td>ferrari29</td>\n",
       "      <td>1.239790e+09</td>\n",
       "      <td>United States, Illinois</td>\n",
       "      <td>2009-04-15</td>\n",
       "      <td>202</td>\n",
       "      <td>1193</td>\n",
       "    </tr>\n",
       "    <tr>\n",
       "      <th>3</th>\n",
       "      <td>1078</td>\n",
       "      <td>10</td>\n",
       "      <td>colsanders123.545441</td>\n",
       "      <td>ColSanders123</td>\n",
       "      <td>1.293620e+09</td>\n",
       "      <td>United States, Georgia</td>\n",
       "      <td>2010-12-29</td>\n",
       "      <td>135</td>\n",
       "      <td>1077</td>\n",
       "    </tr>\n",
       "    <tr>\n",
       "      <th>4</th>\n",
       "      <td>914</td>\n",
       "      <td>890</td>\n",
       "      <td>jays2629.517433</td>\n",
       "      <td>JayS2629</td>\n",
       "      <td>1.287828e+09</td>\n",
       "      <td>United States, Alabama</td>\n",
       "      <td>2010-10-23</td>\n",
       "      <td>101</td>\n",
       "      <td>244</td>\n",
       "    </tr>\n",
       "  </tbody>\n",
       "</table>\n",
       "</div>"
      ],
      "text/plain": [
       "   nbr_ratings  nbr_reviews               user_id      user_name  \\\n",
       "0         1131          188     okcnittany.144868     OKCNittany   \n",
       "1          732           14          byofb.537281          BYOFB   \n",
       "2          585          389      ferrari29.320392      ferrari29   \n",
       "3         1078           10  colsanders123.545441  ColSanders123   \n",
       "4          914          890       jays2629.517433       JayS2629   \n",
       "\n",
       "         joined                  location date_joined  active_days  \\\n",
       "0  1.182766e+09   United States, Oklahoma  2007-06-25          187   \n",
       "1  1.292065e+09  United States, Wisconsin  2010-12-11           32   \n",
       "2  1.239790e+09   United States, Illinois  2009-04-15          202   \n",
       "3  1.293620e+09    United States, Georgia  2010-12-29          135   \n",
       "4  1.287828e+09    United States, Alabama  2010-10-23          101   \n",
       "\n",
       "   delta_first_last  \n",
       "0              2397  \n",
       "1               756  \n",
       "2              1193  \n",
       "3              1077  \n",
       "4               244  "
      ]
     },
     "execution_count": 21,
     "metadata": {},
     "output_type": "execute_result"
    }
   ],
   "source": [
    "# We compute how long it took them to submit the 500 ratings\n",
    "user_delta = df_us_ratings.groupby('user_name', as_index = False).apply(lambda usr: (usr.date.max() - usr.date.min()).days)\n",
    "user_delta.columns = ['user_name', 'delta_first_last']\n",
    "df_us_users = df_us_users.merge(user_delta, on = 'user_name')\n",
    "df_us_users.head(5)"
   ]
  },
  {
   "cell_type": "code",
   "execution_count": 22,
   "metadata": {},
   "outputs": [],
   "source": [
    "# We compute the maximum number of ratings the user has done in a single day\n",
    "\n",
    "user_day = df_us_ratings[['user_name','date']].groupby([\"user_name\", pd.Grouper(freq = \"D\", key=\"date\")], as_index = False).size()\n",
    "user_day = user_day.groupby('user_name', as_index = False).apply(lambda usr : max(usr['size']))\n",
    "user_day.columns = ['user_name', 'max_active_day']\n",
    "df_us_users = df_us_users.merge(user_day, on = 'user_name')"
   ]
  },
  {
   "cell_type": "code",
   "execution_count": 23,
   "metadata": {},
   "outputs": [],
   "source": [
    "# We compute the maximum number of ratings the user has done in a single month\n",
    "\n",
    "user_month = df_us_ratings[['user_name','date']].groupby([\"user_name\", pd.Grouper(freq = \"M\", key=\"date\")], as_index = False).size()\n",
    "user_month = user_month.groupby('user_name', as_index = False).apply(lambda usr : max(usr['size']))\n",
    "user_month.columns = ['user_name', 'max_active_month']\n",
    "df_us_users = df_us_users.merge(user_month, on = 'user_name') "
   ]
  },
  {
   "cell_type": "code",
   "execution_count": 24,
   "metadata": {},
   "outputs": [],
   "source": [
    "# We also want to know how much time the users took for submitting different number of ratings.\n",
    "\n",
    "def compute_diff_date(user):\n",
    "    \"\"\"\n",
    "    computes the difference in days between the 50th and the 1st ratings submitted by a user\n",
    "    \"\"\"\n",
    "    diff = {}\n",
    "    day = 50\n",
    "    diff[str(day)] = (user[user[\"rating_number\"] == day-1][\"date\"].item() -\\\n",
    "                         user[user[\"rating_number\"] == 0][\"date\"].item()).days\n",
    "    return pd.Series(diff)\n",
    "\n",
    "def compute_diff_date_last(user):\n",
    "    \"\"\"\n",
    "    computes the difference in days between the 500th and the 450th ratings submitted by a user\n",
    "    \"\"\"\n",
    "    diff = {}\n",
    "    day = 450\n",
    "    diff[str(day)] = (user[user[\"rating_number\"] == 500-1][\"date\"].item() -\\\n",
    "                         user[user[\"rating_number\"] == day][\"date\"].item()).days\n",
    "    return pd.Series(diff)"
   ]
  },
  {
   "cell_type": "code",
   "execution_count": 26,
   "metadata": {},
   "outputs": [],
   "source": [
    "# We focus on the 10% first reviews\n",
    "# We make the assumption that users are beginners for these ratings\n",
    "\n",
    "user_deltas_0_50 = df_us_ratings.groupby('user_name', as_index = False).apply(compute_diff_date)\n",
    "df_us_users = df_us_users.merge(user_deltas_0_50, on = 'user_name')"
   ]
  },
  {
   "cell_type": "code",
   "execution_count": 27,
   "metadata": {},
   "outputs": [],
   "source": [
    "# We focus on the 10% last reviews\n",
    "# We make the assumption that users are experts for these ratings\n",
    "\n",
    "user_deltas_450_500 = df_us_ratings.groupby('user_name', as_index = False).apply(compute_diff_date_last)\n",
    "df_us_users = df_us_users.merge(user_deltas_450_500, on = 'user_name')"
   ]
  },
  {
   "cell_type": "code",
   "execution_count": 28,
   "metadata": {},
   "outputs": [
    {
     "data": {
      "text/html": [
       "<div>\n",
       "<style scoped>\n",
       "    .dataframe tbody tr th:only-of-type {\n",
       "        vertical-align: middle;\n",
       "    }\n",
       "\n",
       "    .dataframe tbody tr th {\n",
       "        vertical-align: top;\n",
       "    }\n",
       "\n",
       "    .dataframe thead th {\n",
       "        text-align: right;\n",
       "    }\n",
       "</style>\n",
       "<table border=\"1\" class=\"dataframe\">\n",
       "  <thead>\n",
       "    <tr style=\"text-align: right;\">\n",
       "      <th></th>\n",
       "      <th>nbr_ratings</th>\n",
       "      <th>nbr_reviews</th>\n",
       "      <th>user_id</th>\n",
       "      <th>user_name</th>\n",
       "      <th>joined</th>\n",
       "      <th>location</th>\n",
       "      <th>date_joined</th>\n",
       "      <th>active_days</th>\n",
       "      <th>delta_first_last</th>\n",
       "      <th>max_active_day</th>\n",
       "      <th>max_active_month</th>\n",
       "      <th>50</th>\n",
       "      <th>450</th>\n",
       "    </tr>\n",
       "  </thead>\n",
       "  <tbody>\n",
       "    <tr>\n",
       "      <th>0</th>\n",
       "      <td>1131</td>\n",
       "      <td>188</td>\n",
       "      <td>okcnittany.144868</td>\n",
       "      <td>OKCNittany</td>\n",
       "      <td>1.182766e+09</td>\n",
       "      <td>United States, Oklahoma</td>\n",
       "      <td>2007-06-25</td>\n",
       "      <td>187</td>\n",
       "      <td>2397</td>\n",
       "      <td>11</td>\n",
       "      <td>91</td>\n",
       "      <td>45</td>\n",
       "      <td>16</td>\n",
       "    </tr>\n",
       "    <tr>\n",
       "      <th>1</th>\n",
       "      <td>732</td>\n",
       "      <td>14</td>\n",
       "      <td>byofb.537281</td>\n",
       "      <td>BYOFB</td>\n",
       "      <td>1.292065e+09</td>\n",
       "      <td>United States, Wisconsin</td>\n",
       "      <td>2010-12-11</td>\n",
       "      <td>32</td>\n",
       "      <td>756</td>\n",
       "      <td>232</td>\n",
       "      <td>273</td>\n",
       "      <td>447</td>\n",
       "      <td>146</td>\n",
       "    </tr>\n",
       "    <tr>\n",
       "      <th>2</th>\n",
       "      <td>585</td>\n",
       "      <td>389</td>\n",
       "      <td>ferrari29.320392</td>\n",
       "      <td>ferrari29</td>\n",
       "      <td>1.239790e+09</td>\n",
       "      <td>United States, Illinois</td>\n",
       "      <td>2009-04-15</td>\n",
       "      <td>202</td>\n",
       "      <td>1193</td>\n",
       "      <td>12</td>\n",
       "      <td>42</td>\n",
       "      <td>64</td>\n",
       "      <td>335</td>\n",
       "    </tr>\n",
       "    <tr>\n",
       "      <th>3</th>\n",
       "      <td>1078</td>\n",
       "      <td>10</td>\n",
       "      <td>colsanders123.545441</td>\n",
       "      <td>ColSanders123</td>\n",
       "      <td>1.293620e+09</td>\n",
       "      <td>United States, Georgia</td>\n",
       "      <td>2010-12-29</td>\n",
       "      <td>135</td>\n",
       "      <td>1077</td>\n",
       "      <td>238</td>\n",
       "      <td>247</td>\n",
       "      <td>254</td>\n",
       "      <td>159</td>\n",
       "    </tr>\n",
       "    <tr>\n",
       "      <th>4</th>\n",
       "      <td>914</td>\n",
       "      <td>890</td>\n",
       "      <td>jays2629.517433</td>\n",
       "      <td>JayS2629</td>\n",
       "      <td>1.287828e+09</td>\n",
       "      <td>United States, Alabama</td>\n",
       "      <td>2010-10-23</td>\n",
       "      <td>101</td>\n",
       "      <td>244</td>\n",
       "      <td>20</td>\n",
       "      <td>103</td>\n",
       "      <td>21</td>\n",
       "      <td>15</td>\n",
       "    </tr>\n",
       "  </tbody>\n",
       "</table>\n",
       "</div>"
      ],
      "text/plain": [
       "   nbr_ratings  nbr_reviews               user_id      user_name  \\\n",
       "0         1131          188     okcnittany.144868     OKCNittany   \n",
       "1          732           14          byofb.537281          BYOFB   \n",
       "2          585          389      ferrari29.320392      ferrari29   \n",
       "3         1078           10  colsanders123.545441  ColSanders123   \n",
       "4          914          890       jays2629.517433       JayS2629   \n",
       "\n",
       "         joined                  location date_joined  active_days  \\\n",
       "0  1.182766e+09   United States, Oklahoma  2007-06-25          187   \n",
       "1  1.292065e+09  United States, Wisconsin  2010-12-11           32   \n",
       "2  1.239790e+09   United States, Illinois  2009-04-15          202   \n",
       "3  1.293620e+09    United States, Georgia  2010-12-29          135   \n",
       "4  1.287828e+09    United States, Alabama  2010-10-23          101   \n",
       "\n",
       "   delta_first_last  max_active_day  max_active_month   50  450  \n",
       "0              2397              11                91   45   16  \n",
       "1               756             232               273  447  146  \n",
       "2              1193              12                42   64  335  \n",
       "3              1077             238               247  254  159  \n",
       "4               244              20               103   21   15  "
      ]
     },
     "execution_count": 28,
     "metadata": {},
     "output_type": "execute_result"
    }
   ],
   "source": [
    "df_us_users.head(5)"
   ]
  },
  {
   "cell_type": "code",
   "execution_count": 29,
   "metadata": {},
   "outputs": [],
   "source": [
    "# We now have a lot more information about the reviewing behaviour of our us users\n",
    "# We proceed with some more filtering to get the final set of users on which we will conduct our study.\n",
    "\n",
    "# Minimum number of active days required:\n",
    "min_active_days = 100\n",
    "df_valid_users = df_us_users[df_us_users['active_days'] >= min_active_days]\n",
    "\n",
    "# How many days needed to submit their 500 ratings:\n",
    "min_delta = 365\n",
    "max_delta = 7*365\n",
    "df_valid_users = df_valid_users[(df_valid_users['delta_first_last'] > min_delta) & (df_valid_users['delta_first_last'] < max_delta)]\n",
    "# Maximum number of reviews in a single day: \n",
    "# On utilise pas pour le moment\n",
    "max_per_day = 70\n",
    "\n",
    "#df_valid_users = df_valid_users[df_valid_users['max_active_day'] < 70]\n",
    "# Maximum number of reviews in a single month:\n",
    "max_per_month = 70\n",
    "df_valid_users = df_valid_users[df_valid_users['max_active_month'] <= max_per_month]"
   ]
  },
  {
   "cell_type": "code",
   "execution_count": 30,
   "metadata": {},
   "outputs": [],
   "source": [
    "# To make the people more similar at the beginning and the end of their ratings career, \n",
    "# we decide to apply a last filter on the users"
   ]
  },
  {
   "cell_type": "code",
   "execution_count": 31,
   "metadata": {},
   "outputs": [
    {
     "data": {
      "text/html": [
       "<div>\n",
       "<style scoped>\n",
       "    .dataframe tbody tr th:only-of-type {\n",
       "        vertical-align: middle;\n",
       "    }\n",
       "\n",
       "    .dataframe tbody tr th {\n",
       "        vertical-align: top;\n",
       "    }\n",
       "\n",
       "    .dataframe thead th {\n",
       "        text-align: right;\n",
       "    }\n",
       "</style>\n",
       "<table border=\"1\" class=\"dataframe\">\n",
       "  <thead>\n",
       "    <tr style=\"text-align: right;\">\n",
       "      <th></th>\n",
       "      <th>nbr_ratings</th>\n",
       "      <th>nbr_reviews</th>\n",
       "      <th>user_id</th>\n",
       "      <th>user_name</th>\n",
       "      <th>joined</th>\n",
       "      <th>location</th>\n",
       "      <th>date_joined</th>\n",
       "      <th>active_days</th>\n",
       "      <th>delta_first_last</th>\n",
       "      <th>max_active_day</th>\n",
       "      <th>max_active_month</th>\n",
       "      <th>50</th>\n",
       "      <th>450</th>\n",
       "    </tr>\n",
       "  </thead>\n",
       "  <tbody>\n",
       "    <tr>\n",
       "      <th>2</th>\n",
       "      <td>585</td>\n",
       "      <td>389</td>\n",
       "      <td>ferrari29.320392</td>\n",
       "      <td>ferrari29</td>\n",
       "      <td>1.239790e+09</td>\n",
       "      <td>United States, Illinois</td>\n",
       "      <td>2009-04-15</td>\n",
       "      <td>202</td>\n",
       "      <td>1193</td>\n",
       "      <td>12</td>\n",
       "      <td>42</td>\n",
       "      <td>64</td>\n",
       "      <td>335</td>\n",
       "    </tr>\n",
       "    <tr>\n",
       "      <th>5</th>\n",
       "      <td>676</td>\n",
       "      <td>676</td>\n",
       "      <td>dodo2step.110880</td>\n",
       "      <td>Dodo2step</td>\n",
       "      <td>1.165576e+09</td>\n",
       "      <td>United States, Pennsylvania</td>\n",
       "      <td>2006-12-08</td>\n",
       "      <td>411</td>\n",
       "      <td>2153</td>\n",
       "      <td>13</td>\n",
       "      <td>28</td>\n",
       "      <td>45</td>\n",
       "      <td>442</td>\n",
       "    </tr>\n",
       "    <tr>\n",
       "      <th>7</th>\n",
       "      <td>653</td>\n",
       "      <td>651</td>\n",
       "      <td>kadonny.156863</td>\n",
       "      <td>Kadonny</td>\n",
       "      <td>1.188986e+09</td>\n",
       "      <td>United States, Pennsylvania</td>\n",
       "      <td>2007-09-05</td>\n",
       "      <td>357</td>\n",
       "      <td>1800</td>\n",
       "      <td>5</td>\n",
       "      <td>22</td>\n",
       "      <td>249</td>\n",
       "      <td>263</td>\n",
       "    </tr>\n",
       "    <tr>\n",
       "      <th>8</th>\n",
       "      <td>748</td>\n",
       "      <td>748</td>\n",
       "      <td>biggred1.206640</td>\n",
       "      <td>biggred1</td>\n",
       "      <td>1.206616e+09</td>\n",
       "      <td>United States, Indiana</td>\n",
       "      <td>2008-03-27</td>\n",
       "      <td>318</td>\n",
       "      <td>819</td>\n",
       "      <td>5</td>\n",
       "      <td>37</td>\n",
       "      <td>102</td>\n",
       "      <td>69</td>\n",
       "    </tr>\n",
       "    <tr>\n",
       "      <th>9</th>\n",
       "      <td>546</td>\n",
       "      <td>484</td>\n",
       "      <td>brownbeer.220672</td>\n",
       "      <td>brownbeer</td>\n",
       "      <td>1.211105e+09</td>\n",
       "      <td>United States, Missouri</td>\n",
       "      <td>2008-05-18</td>\n",
       "      <td>143</td>\n",
       "      <td>1815</td>\n",
       "      <td>17</td>\n",
       "      <td>62</td>\n",
       "      <td>204</td>\n",
       "      <td>1302</td>\n",
       "    </tr>\n",
       "  </tbody>\n",
       "</table>\n",
       "</div>"
      ],
      "text/plain": [
       "   nbr_ratings  nbr_reviews           user_id  user_name        joined  \\\n",
       "2          585          389  ferrari29.320392  ferrari29  1.239790e+09   \n",
       "5          676          676  dodo2step.110880  Dodo2step  1.165576e+09   \n",
       "7          653          651    kadonny.156863    Kadonny  1.188986e+09   \n",
       "8          748          748   biggred1.206640   biggred1  1.206616e+09   \n",
       "9          546          484  brownbeer.220672  brownbeer  1.211105e+09   \n",
       "\n",
       "                      location date_joined  active_days  delta_first_last  \\\n",
       "2      United States, Illinois  2009-04-15          202              1193   \n",
       "5  United States, Pennsylvania  2006-12-08          411              2153   \n",
       "7  United States, Pennsylvania  2007-09-05          357              1800   \n",
       "8       United States, Indiana  2008-03-27          318               819   \n",
       "9      United States, Missouri  2008-05-18          143              1815   \n",
       "\n",
       "   max_active_day  max_active_month   50   450  \n",
       "2              12                42   64   335  \n",
       "5              13                28   45   442  \n",
       "7               5                22  249   263  \n",
       "8               5                37  102    69  \n",
       "9              17                62  204  1302  "
      ]
     },
     "execution_count": 31,
     "metadata": {},
     "output_type": "execute_result"
    }
   ],
   "source": [
    "df_valid_users.head(5)"
   ]
  },
  {
   "cell_type": "code",
   "execution_count": 32,
   "metadata": {},
   "outputs": [
    {
     "data": {
      "application/vnd.plotly.v1+json": {
       "config": {
        "plotlyServerURL": "https://plot.ly"
       },
       "data": [
        {
         "hovertemplate": "x=%{x}<br>50=%{y}<extra></extra>",
         "legendgroup": "",
         "line": {
          "color": "#636efa",
          "dash": "solid"
         },
         "marker": {
          "symbol": "circle"
         },
         "mode": "lines",
         "name": "",
         "showlegend": false,
         "type": "scattergl",
         "x": [
          0,
          1,
          2,
          3,
          4,
          5,
          6,
          7,
          8,
          9,
          10,
          11,
          12,
          13,
          14,
          15,
          16,
          17,
          18,
          19,
          20,
          21,
          22,
          23,
          24,
          25,
          26,
          27,
          28,
          29,
          30,
          31,
          32,
          33,
          34,
          35,
          36,
          37,
          38,
          39,
          40,
          41,
          42,
          43,
          44,
          45,
          46,
          47,
          48,
          49,
          50,
          51,
          52,
          53,
          54,
          55,
          56,
          57,
          58,
          59,
          60,
          61,
          62,
          63,
          64,
          65,
          66,
          67,
          68,
          69,
          70,
          71,
          72,
          73,
          74,
          75,
          76,
          77,
          78,
          79,
          80,
          81,
          82,
          83,
          84,
          85,
          86,
          87,
          88,
          89,
          90,
          91,
          92,
          93,
          94,
          95,
          96,
          97,
          98,
          99,
          100,
          101,
          102,
          103,
          104,
          105,
          106,
          107,
          108,
          109,
          110,
          111,
          112,
          113,
          114,
          115,
          116,
          117,
          118,
          119,
          120,
          121,
          122,
          123,
          124,
          125,
          126,
          127,
          128,
          129,
          130,
          131,
          132,
          133,
          134,
          135,
          136,
          137,
          138,
          139,
          140,
          141,
          142,
          143,
          144,
          145,
          146,
          147,
          148,
          149,
          150,
          151,
          152,
          153,
          154,
          155,
          156,
          157,
          158,
          159,
          160,
          161,
          162,
          163,
          164,
          165,
          166,
          167,
          168,
          169,
          170,
          171,
          172,
          173,
          174,
          175,
          176,
          177,
          178,
          179,
          180,
          181,
          182,
          183,
          184,
          185,
          186,
          187,
          188,
          189,
          190,
          191,
          192,
          193,
          194,
          195,
          196,
          197,
          198,
          199,
          200,
          201,
          202,
          203,
          204,
          205,
          206,
          207,
          208,
          209,
          210,
          211,
          212,
          213,
          214,
          215,
          216,
          217,
          218,
          219,
          220,
          221,
          222,
          223,
          224,
          225,
          226,
          227,
          228,
          229,
          230,
          231,
          232,
          233,
          234,
          235,
          236,
          237,
          238,
          239,
          240,
          241,
          242,
          243,
          244,
          245,
          246,
          247,
          248,
          249,
          250,
          251,
          252,
          253,
          254,
          255,
          256,
          257,
          258,
          259,
          260,
          261,
          262,
          263,
          264,
          265,
          266,
          267,
          268,
          269,
          270,
          271,
          272,
          273,
          274,
          275,
          276,
          277,
          278,
          279,
          280,
          281,
          282,
          283,
          284,
          285,
          286,
          287,
          288,
          289,
          290,
          291,
          292,
          293,
          294,
          295,
          296,
          297,
          298,
          299,
          300,
          301,
          302,
          303,
          304,
          305,
          306,
          307,
          308,
          309,
          310,
          311,
          312,
          313,
          314,
          315,
          316,
          317,
          318,
          319,
          320,
          321,
          322,
          323,
          324,
          325,
          326,
          327,
          328,
          329,
          330,
          331,
          332,
          333,
          334,
          335,
          336,
          337,
          338,
          339,
          340,
          341,
          342,
          343,
          344,
          345,
          346,
          347,
          348,
          349,
          350,
          351,
          352,
          353,
          354,
          355,
          356,
          357,
          358,
          359,
          360,
          361,
          362,
          363,
          364,
          365,
          366,
          367,
          368,
          369,
          370,
          371,
          372,
          373,
          374,
          375,
          376,
          377,
          378,
          379,
          380,
          381,
          382,
          383,
          384,
          385,
          386,
          387,
          388,
          389,
          390,
          391,
          392,
          393,
          394,
          395,
          396,
          397,
          398,
          399,
          400,
          401,
          402,
          403,
          404,
          405,
          406,
          407,
          408,
          409,
          410,
          411,
          412,
          413,
          414,
          415,
          416,
          417,
          418,
          419,
          420,
          421,
          422,
          423,
          424,
          425,
          426,
          427,
          428,
          429,
          430,
          431,
          432,
          433,
          434,
          435,
          436,
          437,
          438,
          439,
          440,
          441,
          442,
          443,
          444,
          445,
          446,
          447,
          448,
          449,
          450,
          451,
          452,
          453,
          454,
          455,
          456,
          457,
          458,
          459,
          460,
          461,
          462,
          463,
          464,
          465,
          466,
          467,
          468,
          469,
          470,
          471,
          472,
          473,
          474,
          475,
          476,
          477,
          478,
          479,
          480,
          481,
          482,
          483,
          484,
          485,
          486,
          487,
          488,
          489,
          490,
          491,
          492,
          493,
          494,
          495,
          496,
          497,
          498,
          499,
          500,
          501,
          502,
          503,
          504,
          505,
          506,
          507,
          508,
          509,
          510,
          511,
          512,
          513,
          514,
          515,
          516,
          517,
          518,
          519,
          520,
          521,
          522,
          523,
          524,
          525,
          526,
          527,
          528,
          529,
          530,
          531,
          532,
          533,
          534,
          535,
          536,
          537,
          538,
          539,
          540,
          541,
          542,
          543,
          544,
          545,
          546,
          547,
          548,
          549,
          550,
          551,
          552,
          553,
          554,
          555,
          556,
          557,
          558,
          559,
          560,
          561,
          562,
          563,
          564,
          565,
          566,
          567,
          568,
          569,
          570,
          571,
          572,
          573,
          574,
          575,
          576,
          577,
          578,
          579,
          580,
          581,
          582,
          583,
          584,
          585,
          586,
          587,
          588,
          589,
          590,
          591,
          592,
          593,
          594,
          595,
          596,
          597,
          598,
          599,
          600,
          601,
          602,
          603,
          604,
          605,
          606,
          607,
          608,
          609,
          610,
          611,
          612,
          613,
          614,
          615,
          616,
          617,
          618,
          619,
          620,
          621,
          622,
          623,
          624,
          625,
          626,
          627,
          628,
          629,
          630,
          631,
          632,
          633,
          634,
          635,
          636,
          637,
          638,
          639,
          640,
          641,
          642,
          643,
          644,
          645,
          646,
          647,
          648,
          649,
          650,
          651,
          652,
          653,
          654,
          655,
          656,
          657,
          658,
          659,
          660,
          661,
          662,
          663,
          664,
          665,
          666,
          667,
          668,
          669,
          670,
          671,
          672,
          673,
          674,
          675,
          676,
          677,
          678,
          679,
          680,
          681,
          682,
          683,
          684,
          685,
          686,
          687,
          688,
          689,
          690,
          691,
          692,
          693,
          694,
          695,
          696,
          697,
          698,
          699,
          700,
          701,
          702,
          703,
          704,
          705,
          706,
          707,
          708,
          709,
          710,
          711,
          712,
          713,
          714,
          715,
          716,
          717,
          718,
          719,
          720,
          721,
          722,
          723,
          724,
          725,
          726,
          727,
          728,
          729,
          730,
          731,
          732,
          733,
          734,
          735,
          736,
          737,
          738,
          739,
          740,
          741,
          742,
          743,
          744,
          745,
          746,
          747,
          748,
          749,
          750,
          751,
          752,
          753,
          754,
          755,
          756,
          757,
          758,
          759,
          760,
          761,
          762,
          763,
          764,
          765,
          766,
          767,
          768,
          769,
          770,
          771,
          772,
          773,
          774,
          775,
          776,
          777,
          778,
          779,
          780,
          781,
          782,
          783,
          784,
          785,
          786,
          787,
          788,
          789,
          790,
          791,
          792,
          793,
          794,
          795,
          796,
          797,
          798,
          799,
          800,
          801,
          802,
          803,
          804,
          805,
          806,
          807,
          808,
          809,
          810,
          811,
          812,
          813,
          814,
          815,
          816,
          817,
          818,
          819,
          820,
          821,
          822,
          823,
          824,
          825,
          826,
          827,
          828,
          829,
          830,
          831,
          832,
          833,
          834,
          835,
          836,
          837,
          838,
          839,
          840,
          841,
          842,
          843,
          844,
          845,
          846,
          847,
          848,
          849,
          850,
          851,
          852,
          853,
          854,
          855,
          856,
          857,
          858,
          859,
          860,
          861,
          862,
          863,
          864,
          865,
          866,
          867,
          868,
          869,
          870,
          871,
          872,
          873,
          874,
          875,
          876,
          877,
          878,
          879,
          880,
          881,
          882,
          883,
          884,
          885,
          886,
          887,
          888,
          889,
          890,
          891,
          892,
          893,
          894,
          895,
          896,
          897,
          898,
          899,
          900,
          901,
          902,
          903,
          904,
          905,
          906,
          907,
          908,
          909,
          910,
          911,
          912,
          913,
          914,
          915,
          916,
          917,
          918,
          919,
          920,
          921,
          922,
          923,
          924,
          925,
          926,
          927,
          928,
          929,
          930,
          931,
          932,
          933,
          934,
          935,
          936,
          937,
          938,
          939,
          940,
          941,
          942,
          943,
          944,
          945,
          946,
          947,
          948,
          949,
          950,
          951,
          952,
          953,
          954,
          955,
          956,
          957,
          958,
          959,
          960,
          961,
          962,
          963,
          964,
          965,
          966,
          967,
          968,
          969,
          970,
          971,
          972,
          973,
          974,
          975,
          976,
          977,
          978,
          979,
          980,
          981,
          982,
          983,
          984,
          985,
          986,
          987,
          988,
          989,
          990,
          991,
          992,
          993,
          994,
          995,
          996,
          997,
          998,
          999,
          1000,
          1001,
          1002,
          1003,
          1004,
          1005,
          1006,
          1007,
          1008,
          1009,
          1010,
          1011,
          1012,
          1013,
          1014,
          1015,
          1016,
          1017,
          1018,
          1019,
          1020,
          1021,
          1022,
          1023,
          1024,
          1025,
          1026,
          1027,
          1028,
          1029,
          1030,
          1031,
          1032,
          1033,
          1034,
          1035,
          1036,
          1037,
          1038,
          1039,
          1040,
          1041,
          1042,
          1043,
          1044,
          1045,
          1046,
          1047,
          1048,
          1049,
          1050
         ],
         "xaxis": "x",
         "y": [
          0,
          0,
          0,
          0,
          0,
          0,
          0,
          0,
          0,
          0,
          0,
          0,
          0,
          1,
          1,
          1,
          1,
          1,
          1,
          1,
          1,
          2,
          2,
          3,
          3,
          3,
          3,
          3,
          3,
          3,
          3,
          4,
          4,
          4,
          4,
          4,
          4,
          4,
          4,
          5,
          5,
          5,
          5,
          5,
          7,
          7,
          7,
          7,
          7,
          8,
          8,
          9,
          9,
          9,
          9,
          9,
          10,
          11,
          11,
          12,
          12,
          12,
          12,
          13,
          13,
          13,
          14,
          14,
          14,
          14,
          15,
          15,
          15,
          16,
          16,
          17,
          17,
          17,
          17,
          17,
          17,
          17,
          17,
          17,
          17,
          18,
          18,
          18,
          18,
          18,
          19,
          19,
          19,
          20,
          20,
          20,
          20,
          21,
          21,
          21,
          21,
          21,
          21,
          21,
          22,
          22,
          22,
          22,
          22,
          22,
          23,
          23,
          23,
          23,
          24,
          24,
          24,
          24,
          24,
          24,
          24,
          24,
          25,
          25,
          25,
          25,
          25,
          25,
          26,
          26,
          26,
          26,
          26,
          26,
          26,
          26,
          27,
          27,
          27,
          27,
          27,
          27,
          27,
          27,
          27,
          27,
          27,
          28,
          28,
          28,
          28,
          28,
          28,
          28,
          29,
          29,
          29,
          29,
          29,
          29,
          29,
          29,
          30,
          30,
          30,
          30,
          30,
          30,
          31,
          31,
          31,
          31,
          31,
          31,
          31,
          31,
          31,
          31,
          31,
          32,
          32,
          32,
          32,
          32,
          32,
          32,
          32,
          32,
          33,
          33,
          33,
          33,
          33,
          33,
          34,
          34,
          34,
          34,
          34,
          34,
          34,
          35,
          35,
          35,
          35,
          35,
          35,
          35,
          35,
          36,
          36,
          36,
          36,
          36,
          36,
          36,
          36,
          37,
          37,
          37,
          37,
          37,
          38,
          38,
          38,
          38,
          38,
          38,
          38,
          38,
          39,
          39,
          39,
          39,
          40,
          40,
          40,
          40,
          40,
          40,
          40,
          40,
          40,
          41,
          41,
          41,
          41,
          41,
          41,
          42,
          42,
          42,
          42,
          42,
          42,
          42,
          42,
          42,
          43,
          43,
          43,
          43,
          43,
          43,
          43,
          43,
          43,
          43,
          43,
          44,
          44,
          44,
          44,
          44,
          44,
          44,
          45,
          45,
          45,
          45,
          45,
          45,
          45,
          46,
          46,
          46,
          46,
          46,
          46,
          46,
          46,
          47,
          47,
          47,
          47,
          48,
          48,
          48,
          48,
          48,
          48,
          48,
          49,
          49,
          49,
          49,
          49,
          49,
          49,
          49,
          50,
          50,
          50,
          50,
          50,
          50,
          51,
          51,
          51,
          51,
          51,
          51,
          52,
          52,
          52,
          52,
          52,
          52,
          52,
          53,
          53,
          53,
          53,
          53,
          53,
          53,
          53,
          54,
          54,
          54,
          54,
          54,
          54,
          54,
          54,
          55,
          55,
          55,
          55,
          55,
          55,
          55,
          55,
          55,
          55,
          55,
          56,
          56,
          56,
          56,
          56,
          56,
          56,
          56,
          57,
          57,
          57,
          57,
          57,
          57,
          57,
          57,
          57,
          57,
          57,
          57,
          57,
          57,
          57,
          57,
          58,
          58,
          58,
          58,
          58,
          58,
          58,
          59,
          59,
          59,
          59,
          59,
          59,
          59,
          59,
          59,
          59,
          59,
          59,
          59,
          60,
          60,
          60,
          60,
          61,
          61,
          61,
          61,
          61,
          61,
          61,
          61,
          61,
          62,
          62,
          62,
          62,
          62,
          62,
          62,
          62,
          63,
          63,
          63,
          63,
          63,
          64,
          64,
          64,
          64,
          64,
          64,
          65,
          65,
          65,
          65,
          65,
          66,
          66,
          66,
          66,
          66,
          66,
          66,
          66,
          67,
          67,
          67,
          68,
          68,
          68,
          68,
          68,
          69,
          69,
          69,
          69,
          69,
          70,
          70,
          70,
          70,
          70,
          70,
          70,
          71,
          71,
          71,
          71,
          71,
          71,
          71,
          72,
          72,
          72,
          72,
          72,
          72,
          72,
          72,
          72,
          72,
          73,
          73,
          73,
          73,
          73,
          73,
          73,
          74,
          74,
          74,
          74,
          74,
          74,
          75,
          75,
          75,
          75,
          75,
          75,
          75,
          76,
          76,
          76,
          76,
          76,
          76,
          76,
          77,
          77,
          77,
          77,
          77,
          77,
          78,
          78,
          78,
          78,
          78,
          78,
          78,
          79,
          79,
          79,
          79,
          79,
          79,
          80,
          80,
          80,
          80,
          80,
          80,
          80,
          80,
          81,
          81,
          81,
          82,
          82,
          82,
          83,
          83,
          83,
          83,
          83,
          84,
          84,
          84,
          85,
          85,
          85,
          87,
          87,
          87,
          87,
          87,
          87,
          88,
          88,
          89,
          89,
          89,
          89,
          89,
          89,
          90,
          91,
          91,
          91,
          92,
          92,
          92,
          92,
          93,
          93,
          93,
          93,
          93,
          93,
          93,
          94,
          94,
          94,
          94,
          94,
          94,
          94,
          94,
          95,
          95,
          95,
          95,
          96,
          96,
          96,
          96,
          97,
          97,
          97,
          97,
          97,
          97,
          97,
          97,
          97,
          97,
          98,
          98,
          98,
          98,
          98,
          99,
          99,
          99,
          99,
          99,
          99,
          99,
          100,
          100,
          100,
          101,
          101,
          102,
          102,
          102,
          102,
          102,
          102,
          103,
          103,
          103,
          104,
          105,
          105,
          105,
          106,
          106,
          106,
          106,
          106,
          107,
          107,
          107,
          107,
          107,
          107,
          108,
          109,
          109,
          109,
          109,
          109,
          109,
          109,
          109,
          109,
          110,
          110,
          110,
          110,
          111,
          112,
          112,
          113,
          113,
          113,
          114,
          114,
          115,
          115,
          115,
          115,
          116,
          116,
          116,
          116,
          116,
          116,
          116,
          116,
          116,
          117,
          117,
          118,
          119,
          120,
          120,
          121,
          121,
          121,
          121,
          121,
          122,
          123,
          123,
          124,
          124,
          124,
          125,
          126,
          126,
          126,
          126,
          126,
          127,
          127,
          127,
          127,
          127,
          128,
          129,
          129,
          130,
          130,
          130,
          130,
          131,
          131,
          131,
          133,
          133,
          134,
          134,
          134,
          135,
          135,
          135,
          136,
          136,
          137,
          137,
          137,
          137,
          138,
          139,
          140,
          140,
          140,
          140,
          140,
          141,
          141,
          142,
          143,
          145,
          145,
          146,
          147,
          148,
          150,
          151,
          151,
          151,
          152,
          152,
          153,
          154,
          154,
          155,
          155,
          156,
          157,
          157,
          158,
          158,
          158,
          160,
          161,
          162,
          163,
          164,
          165,
          165,
          166,
          167,
          167,
          167,
          168,
          168,
          168,
          169,
          169,
          170,
          170,
          171,
          172,
          173,
          174,
          174,
          175,
          176,
          177,
          177,
          180,
          180,
          181,
          182,
          182,
          184,
          184,
          184,
          185,
          185,
          185,
          187,
          188,
          188,
          189,
          189,
          191,
          192,
          192,
          193,
          194,
          194,
          195,
          196,
          196,
          197,
          198,
          198,
          198,
          199,
          199,
          200,
          200,
          200,
          202,
          203,
          203,
          204,
          204,
          207,
          209,
          210,
          211,
          212,
          212,
          213,
          213,
          214,
          215,
          215,
          216,
          216,
          217,
          218,
          218,
          218,
          219,
          220,
          223,
          224,
          224,
          226,
          226,
          226,
          228,
          228,
          229,
          230,
          230,
          231,
          231,
          232,
          233,
          233,
          234,
          234,
          235,
          239,
          239,
          239,
          240,
          240,
          242,
          246,
          246,
          247,
          248,
          249,
          249,
          252,
          254,
          254,
          254,
          257,
          258,
          259,
          260,
          261,
          261,
          262,
          263,
          265,
          266,
          267,
          267,
          271,
          275,
          275,
          276,
          276,
          277,
          281,
          283,
          284,
          284,
          288,
          288,
          288,
          292,
          294,
          294,
          296,
          296,
          300,
          300,
          300,
          301,
          301,
          309,
          313,
          316,
          317,
          323,
          323,
          328,
          328,
          329,
          331,
          334,
          336,
          336,
          336,
          336,
          337,
          339,
          344,
          344,
          351,
          351,
          352,
          355,
          355,
          358,
          358,
          358,
          359,
          363,
          365,
          369,
          369,
          371,
          372,
          377,
          379,
          381,
          381,
          383,
          383,
          385,
          393,
          394,
          402,
          402,
          403,
          403,
          405,
          408,
          413,
          414,
          415,
          418,
          427,
          434,
          436,
          437,
          438,
          439,
          440,
          442,
          465,
          473,
          489,
          498,
          498,
          506,
          507,
          508,
          509,
          513,
          515,
          536,
          539,
          540,
          541,
          543,
          549,
          553,
          559,
          561,
          570,
          574,
          576,
          576,
          592,
          600,
          620,
          631,
          635,
          656,
          671,
          673,
          675,
          689,
          712,
          749,
          749,
          756,
          779,
          786,
          815,
          844,
          852,
          862,
          871,
          890,
          907,
          921,
          963,
          1058,
          1061,
          1116,
          1180,
          1191,
          1210,
          1213,
          1250,
          1303,
          1318,
          1393,
          1472,
          1480,
          1616,
          1624,
          1674,
          1794
         ],
         "yaxis": "y"
        }
       ],
       "layout": {
        "legend": {
         "tracegroupgap": 0
        },
        "margin": {
         "t": 60
        },
        "shapes": [
         {
          "line": {
           "color": "red"
          },
          "type": "line",
          "x0": 0,
          "x1": 1,
          "xref": "x domain",
          "y0": 500,
          "y1": 500,
          "yref": "y"
         }
        ],
        "template": {
         "data": {
          "bar": [
           {
            "error_x": {
             "color": "#2a3f5f"
            },
            "error_y": {
             "color": "#2a3f5f"
            },
            "marker": {
             "line": {
              "color": "#E5ECF6",
              "width": 0.5
             },
             "pattern": {
              "fillmode": "overlay",
              "size": 10,
              "solidity": 0.2
             }
            },
            "type": "bar"
           }
          ],
          "barpolar": [
           {
            "marker": {
             "line": {
              "color": "#E5ECF6",
              "width": 0.5
             },
             "pattern": {
              "fillmode": "overlay",
              "size": 10,
              "solidity": 0.2
             }
            },
            "type": "barpolar"
           }
          ],
          "carpet": [
           {
            "aaxis": {
             "endlinecolor": "#2a3f5f",
             "gridcolor": "white",
             "linecolor": "white",
             "minorgridcolor": "white",
             "startlinecolor": "#2a3f5f"
            },
            "baxis": {
             "endlinecolor": "#2a3f5f",
             "gridcolor": "white",
             "linecolor": "white",
             "minorgridcolor": "white",
             "startlinecolor": "#2a3f5f"
            },
            "type": "carpet"
           }
          ],
          "choropleth": [
           {
            "colorbar": {
             "outlinewidth": 0,
             "ticks": ""
            },
            "type": "choropleth"
           }
          ],
          "contour": [
           {
            "colorbar": {
             "outlinewidth": 0,
             "ticks": ""
            },
            "colorscale": [
             [
              0,
              "#0d0887"
             ],
             [
              0.1111111111111111,
              "#46039f"
             ],
             [
              0.2222222222222222,
              "#7201a8"
             ],
             [
              0.3333333333333333,
              "#9c179e"
             ],
             [
              0.4444444444444444,
              "#bd3786"
             ],
             [
              0.5555555555555556,
              "#d8576b"
             ],
             [
              0.6666666666666666,
              "#ed7953"
             ],
             [
              0.7777777777777778,
              "#fb9f3a"
             ],
             [
              0.8888888888888888,
              "#fdca26"
             ],
             [
              1,
              "#f0f921"
             ]
            ],
            "type": "contour"
           }
          ],
          "contourcarpet": [
           {
            "colorbar": {
             "outlinewidth": 0,
             "ticks": ""
            },
            "type": "contourcarpet"
           }
          ],
          "heatmap": [
           {
            "colorbar": {
             "outlinewidth": 0,
             "ticks": ""
            },
            "colorscale": [
             [
              0,
              "#0d0887"
             ],
             [
              0.1111111111111111,
              "#46039f"
             ],
             [
              0.2222222222222222,
              "#7201a8"
             ],
             [
              0.3333333333333333,
              "#9c179e"
             ],
             [
              0.4444444444444444,
              "#bd3786"
             ],
             [
              0.5555555555555556,
              "#d8576b"
             ],
             [
              0.6666666666666666,
              "#ed7953"
             ],
             [
              0.7777777777777778,
              "#fb9f3a"
             ],
             [
              0.8888888888888888,
              "#fdca26"
             ],
             [
              1,
              "#f0f921"
             ]
            ],
            "type": "heatmap"
           }
          ],
          "heatmapgl": [
           {
            "colorbar": {
             "outlinewidth": 0,
             "ticks": ""
            },
            "colorscale": [
             [
              0,
              "#0d0887"
             ],
             [
              0.1111111111111111,
              "#46039f"
             ],
             [
              0.2222222222222222,
              "#7201a8"
             ],
             [
              0.3333333333333333,
              "#9c179e"
             ],
             [
              0.4444444444444444,
              "#bd3786"
             ],
             [
              0.5555555555555556,
              "#d8576b"
             ],
             [
              0.6666666666666666,
              "#ed7953"
             ],
             [
              0.7777777777777778,
              "#fb9f3a"
             ],
             [
              0.8888888888888888,
              "#fdca26"
             ],
             [
              1,
              "#f0f921"
             ]
            ],
            "type": "heatmapgl"
           }
          ],
          "histogram": [
           {
            "marker": {
             "pattern": {
              "fillmode": "overlay",
              "size": 10,
              "solidity": 0.2
             }
            },
            "type": "histogram"
           }
          ],
          "histogram2d": [
           {
            "colorbar": {
             "outlinewidth": 0,
             "ticks": ""
            },
            "colorscale": [
             [
              0,
              "#0d0887"
             ],
             [
              0.1111111111111111,
              "#46039f"
             ],
             [
              0.2222222222222222,
              "#7201a8"
             ],
             [
              0.3333333333333333,
              "#9c179e"
             ],
             [
              0.4444444444444444,
              "#bd3786"
             ],
             [
              0.5555555555555556,
              "#d8576b"
             ],
             [
              0.6666666666666666,
              "#ed7953"
             ],
             [
              0.7777777777777778,
              "#fb9f3a"
             ],
             [
              0.8888888888888888,
              "#fdca26"
             ],
             [
              1,
              "#f0f921"
             ]
            ],
            "type": "histogram2d"
           }
          ],
          "histogram2dcontour": [
           {
            "colorbar": {
             "outlinewidth": 0,
             "ticks": ""
            },
            "colorscale": [
             [
              0,
              "#0d0887"
             ],
             [
              0.1111111111111111,
              "#46039f"
             ],
             [
              0.2222222222222222,
              "#7201a8"
             ],
             [
              0.3333333333333333,
              "#9c179e"
             ],
             [
              0.4444444444444444,
              "#bd3786"
             ],
             [
              0.5555555555555556,
              "#d8576b"
             ],
             [
              0.6666666666666666,
              "#ed7953"
             ],
             [
              0.7777777777777778,
              "#fb9f3a"
             ],
             [
              0.8888888888888888,
              "#fdca26"
             ],
             [
              1,
              "#f0f921"
             ]
            ],
            "type": "histogram2dcontour"
           }
          ],
          "mesh3d": [
           {
            "colorbar": {
             "outlinewidth": 0,
             "ticks": ""
            },
            "type": "mesh3d"
           }
          ],
          "parcoords": [
           {
            "line": {
             "colorbar": {
              "outlinewidth": 0,
              "ticks": ""
             }
            },
            "type": "parcoords"
           }
          ],
          "pie": [
           {
            "automargin": true,
            "type": "pie"
           }
          ],
          "scatter": [
           {
            "fillpattern": {
             "fillmode": "overlay",
             "size": 10,
             "solidity": 0.2
            },
            "type": "scatter"
           }
          ],
          "scatter3d": [
           {
            "line": {
             "colorbar": {
              "outlinewidth": 0,
              "ticks": ""
             }
            },
            "marker": {
             "colorbar": {
              "outlinewidth": 0,
              "ticks": ""
             }
            },
            "type": "scatter3d"
           }
          ],
          "scattercarpet": [
           {
            "marker": {
             "colorbar": {
              "outlinewidth": 0,
              "ticks": ""
             }
            },
            "type": "scattercarpet"
           }
          ],
          "scattergeo": [
           {
            "marker": {
             "colorbar": {
              "outlinewidth": 0,
              "ticks": ""
             }
            },
            "type": "scattergeo"
           }
          ],
          "scattergl": [
           {
            "marker": {
             "colorbar": {
              "outlinewidth": 0,
              "ticks": ""
             }
            },
            "type": "scattergl"
           }
          ],
          "scattermapbox": [
           {
            "marker": {
             "colorbar": {
              "outlinewidth": 0,
              "ticks": ""
             }
            },
            "type": "scattermapbox"
           }
          ],
          "scatterpolar": [
           {
            "marker": {
             "colorbar": {
              "outlinewidth": 0,
              "ticks": ""
             }
            },
            "type": "scatterpolar"
           }
          ],
          "scatterpolargl": [
           {
            "marker": {
             "colorbar": {
              "outlinewidth": 0,
              "ticks": ""
             }
            },
            "type": "scatterpolargl"
           }
          ],
          "scatterternary": [
           {
            "marker": {
             "colorbar": {
              "outlinewidth": 0,
              "ticks": ""
             }
            },
            "type": "scatterternary"
           }
          ],
          "surface": [
           {
            "colorbar": {
             "outlinewidth": 0,
             "ticks": ""
            },
            "colorscale": [
             [
              0,
              "#0d0887"
             ],
             [
              0.1111111111111111,
              "#46039f"
             ],
             [
              0.2222222222222222,
              "#7201a8"
             ],
             [
              0.3333333333333333,
              "#9c179e"
             ],
             [
              0.4444444444444444,
              "#bd3786"
             ],
             [
              0.5555555555555556,
              "#d8576b"
             ],
             [
              0.6666666666666666,
              "#ed7953"
             ],
             [
              0.7777777777777778,
              "#fb9f3a"
             ],
             [
              0.8888888888888888,
              "#fdca26"
             ],
             [
              1,
              "#f0f921"
             ]
            ],
            "type": "surface"
           }
          ],
          "table": [
           {
            "cells": {
             "fill": {
              "color": "#EBF0F8"
             },
             "line": {
              "color": "white"
             }
            },
            "header": {
             "fill": {
              "color": "#C8D4E3"
             },
             "line": {
              "color": "white"
             }
            },
            "type": "table"
           }
          ]
         },
         "layout": {
          "annotationdefaults": {
           "arrowcolor": "#2a3f5f",
           "arrowhead": 0,
           "arrowwidth": 1
          },
          "autotypenumbers": "strict",
          "coloraxis": {
           "colorbar": {
            "outlinewidth": 0,
            "ticks": ""
           }
          },
          "colorscale": {
           "diverging": [
            [
             0,
             "#8e0152"
            ],
            [
             0.1,
             "#c51b7d"
            ],
            [
             0.2,
             "#de77ae"
            ],
            [
             0.3,
             "#f1b6da"
            ],
            [
             0.4,
             "#fde0ef"
            ],
            [
             0.5,
             "#f7f7f7"
            ],
            [
             0.6,
             "#e6f5d0"
            ],
            [
             0.7,
             "#b8e186"
            ],
            [
             0.8,
             "#7fbc41"
            ],
            [
             0.9,
             "#4d9221"
            ],
            [
             1,
             "#276419"
            ]
           ],
           "sequential": [
            [
             0,
             "#0d0887"
            ],
            [
             0.1111111111111111,
             "#46039f"
            ],
            [
             0.2222222222222222,
             "#7201a8"
            ],
            [
             0.3333333333333333,
             "#9c179e"
            ],
            [
             0.4444444444444444,
             "#bd3786"
            ],
            [
             0.5555555555555556,
             "#d8576b"
            ],
            [
             0.6666666666666666,
             "#ed7953"
            ],
            [
             0.7777777777777778,
             "#fb9f3a"
            ],
            [
             0.8888888888888888,
             "#fdca26"
            ],
            [
             1,
             "#f0f921"
            ]
           ],
           "sequentialminus": [
            [
             0,
             "#0d0887"
            ],
            [
             0.1111111111111111,
             "#46039f"
            ],
            [
             0.2222222222222222,
             "#7201a8"
            ],
            [
             0.3333333333333333,
             "#9c179e"
            ],
            [
             0.4444444444444444,
             "#bd3786"
            ],
            [
             0.5555555555555556,
             "#d8576b"
            ],
            [
             0.6666666666666666,
             "#ed7953"
            ],
            [
             0.7777777777777778,
             "#fb9f3a"
            ],
            [
             0.8888888888888888,
             "#fdca26"
            ],
            [
             1,
             "#f0f921"
            ]
           ]
          },
          "colorway": [
           "#636efa",
           "#EF553B",
           "#00cc96",
           "#ab63fa",
           "#FFA15A",
           "#19d3f3",
           "#FF6692",
           "#B6E880",
           "#FF97FF",
           "#FECB52"
          ],
          "font": {
           "color": "#2a3f5f"
          },
          "geo": {
           "bgcolor": "white",
           "lakecolor": "white",
           "landcolor": "#E5ECF6",
           "showlakes": true,
           "showland": true,
           "subunitcolor": "white"
          },
          "hoverlabel": {
           "align": "left"
          },
          "hovermode": "closest",
          "mapbox": {
           "style": "light"
          },
          "paper_bgcolor": "white",
          "plot_bgcolor": "#E5ECF6",
          "polar": {
           "angularaxis": {
            "gridcolor": "white",
            "linecolor": "white",
            "ticks": ""
           },
           "bgcolor": "#E5ECF6",
           "radialaxis": {
            "gridcolor": "white",
            "linecolor": "white",
            "ticks": ""
           }
          },
          "scene": {
           "xaxis": {
            "backgroundcolor": "#E5ECF6",
            "gridcolor": "white",
            "gridwidth": 2,
            "linecolor": "white",
            "showbackground": true,
            "ticks": "",
            "zerolinecolor": "white"
           },
           "yaxis": {
            "backgroundcolor": "#E5ECF6",
            "gridcolor": "white",
            "gridwidth": 2,
            "linecolor": "white",
            "showbackground": true,
            "ticks": "",
            "zerolinecolor": "white"
           },
           "zaxis": {
            "backgroundcolor": "#E5ECF6",
            "gridcolor": "white",
            "gridwidth": 2,
            "linecolor": "white",
            "showbackground": true,
            "ticks": "",
            "zerolinecolor": "white"
           }
          },
          "shapedefaults": {
           "line": {
            "color": "#2a3f5f"
           }
          },
          "ternary": {
           "aaxis": {
            "gridcolor": "white",
            "linecolor": "white",
            "ticks": ""
           },
           "baxis": {
            "gridcolor": "white",
            "linecolor": "white",
            "ticks": ""
           },
           "bgcolor": "#E5ECF6",
           "caxis": {
            "gridcolor": "white",
            "linecolor": "white",
            "ticks": ""
           }
          },
          "title": {
           "x": 0.05
          },
          "xaxis": {
           "automargin": true,
           "gridcolor": "white",
           "linecolor": "white",
           "ticks": "",
           "title": {
            "standoff": 15
           },
           "zerolinecolor": "white",
           "zerolinewidth": 2
          },
          "yaxis": {
           "automargin": true,
           "gridcolor": "white",
           "linecolor": "white",
           "ticks": "",
           "title": {
            "standoff": 15
           },
           "zerolinecolor": "white",
           "zerolinewidth": 2
          }
         }
        },
        "xaxis": {
         "anchor": "y",
         "domain": [
          0,
          1
         ],
         "title": {
          "text": "x"
         }
        },
        "yaxis": {
         "anchor": "x",
         "domain": [
          0,
          1
         ],
         "title": {
          "text": "50"
         }
        }
       }
      }
     },
     "metadata": {},
     "output_type": "display_data"
    }
   ],
   "source": [
    "df_check = df_valid_users['50'].to_frame()\n",
    "df_check.sort_values(by = '50', inplace=True)\n",
    "fig = px.line(df_check, x = range(df_check.shape[0]), y = '50')\n",
    "fig.add_hline(500, line_color = 'red')\n",
    "fig.show()"
   ]
  },
  {
   "cell_type": "code",
   "execution_count": 33,
   "metadata": {},
   "outputs": [],
   "source": [
    "max_time_to_rate = 500\n",
    "df_valid_users = df_valid_users[(df_valid_users['50'] < max_time_to_rate)]"
   ]
  },
  {
   "cell_type": "code",
   "execution_count": 34,
   "metadata": {},
   "outputs": [
    {
     "data": {
      "application/vnd.plotly.v1+json": {
       "config": {
        "plotlyServerURL": "https://plot.ly"
       },
       "data": [
        {
         "hovertemplate": "x=%{x}<br>450=%{y}<extra></extra>",
         "legendgroup": "",
         "line": {
          "color": "#636efa",
          "dash": "solid"
         },
         "marker": {
          "symbol": "circle"
         },
         "mode": "lines",
         "name": "",
         "orientation": "v",
         "showlegend": false,
         "type": "scatter",
         "x": [
          0,
          1,
          2,
          3,
          4,
          5,
          6,
          7,
          8,
          9,
          10,
          11,
          12,
          13,
          14,
          15,
          16,
          17,
          18,
          19,
          20,
          21,
          22,
          23,
          24,
          25,
          26,
          27,
          28,
          29,
          30,
          31,
          32,
          33,
          34,
          35,
          36,
          37,
          38,
          39,
          40,
          41,
          42,
          43,
          44,
          45,
          46,
          47,
          48,
          49,
          50,
          51,
          52,
          53,
          54,
          55,
          56,
          57,
          58,
          59,
          60,
          61,
          62,
          63,
          64,
          65,
          66,
          67,
          68,
          69,
          70,
          71,
          72,
          73,
          74,
          75,
          76,
          77,
          78,
          79,
          80,
          81,
          82,
          83,
          84,
          85,
          86,
          87,
          88,
          89,
          90,
          91,
          92,
          93,
          94,
          95,
          96,
          97,
          98,
          99,
          100,
          101,
          102,
          103,
          104,
          105,
          106,
          107,
          108,
          109,
          110,
          111,
          112,
          113,
          114,
          115,
          116,
          117,
          118,
          119,
          120,
          121,
          122,
          123,
          124,
          125,
          126,
          127,
          128,
          129,
          130,
          131,
          132,
          133,
          134,
          135,
          136,
          137,
          138,
          139,
          140,
          141,
          142,
          143,
          144,
          145,
          146,
          147,
          148,
          149,
          150,
          151,
          152,
          153,
          154,
          155,
          156,
          157,
          158,
          159,
          160,
          161,
          162,
          163,
          164,
          165,
          166,
          167,
          168,
          169,
          170,
          171,
          172,
          173,
          174,
          175,
          176,
          177,
          178,
          179,
          180,
          181,
          182,
          183,
          184,
          185,
          186,
          187,
          188,
          189,
          190,
          191,
          192,
          193,
          194,
          195,
          196,
          197,
          198,
          199,
          200,
          201,
          202,
          203,
          204,
          205,
          206,
          207,
          208,
          209,
          210,
          211,
          212,
          213,
          214,
          215,
          216,
          217,
          218,
          219,
          220,
          221,
          222,
          223,
          224,
          225,
          226,
          227,
          228,
          229,
          230,
          231,
          232,
          233,
          234,
          235,
          236,
          237,
          238,
          239,
          240,
          241,
          242,
          243,
          244,
          245,
          246,
          247,
          248,
          249,
          250,
          251,
          252,
          253,
          254,
          255,
          256,
          257,
          258,
          259,
          260,
          261,
          262,
          263,
          264,
          265,
          266,
          267,
          268,
          269,
          270,
          271,
          272,
          273,
          274,
          275,
          276,
          277,
          278,
          279,
          280,
          281,
          282,
          283,
          284,
          285,
          286,
          287,
          288,
          289,
          290,
          291,
          292,
          293,
          294,
          295,
          296,
          297,
          298,
          299,
          300,
          301,
          302,
          303,
          304,
          305,
          306,
          307,
          308,
          309,
          310,
          311,
          312,
          313,
          314,
          315,
          316,
          317,
          318,
          319,
          320,
          321,
          322,
          323,
          324,
          325,
          326,
          327,
          328,
          329,
          330,
          331,
          332,
          333,
          334,
          335,
          336,
          337,
          338,
          339,
          340,
          341,
          342,
          343,
          344,
          345,
          346,
          347,
          348,
          349,
          350,
          351,
          352,
          353,
          354,
          355,
          356,
          357,
          358,
          359,
          360,
          361,
          362,
          363,
          364,
          365,
          366,
          367,
          368,
          369,
          370,
          371,
          372,
          373,
          374,
          375,
          376,
          377,
          378,
          379,
          380,
          381,
          382,
          383,
          384,
          385,
          386,
          387,
          388,
          389,
          390,
          391,
          392,
          393,
          394,
          395,
          396,
          397,
          398,
          399,
          400,
          401,
          402,
          403,
          404,
          405,
          406,
          407,
          408,
          409,
          410,
          411,
          412,
          413,
          414,
          415,
          416,
          417,
          418,
          419,
          420,
          421,
          422,
          423,
          424,
          425,
          426,
          427,
          428,
          429,
          430,
          431,
          432,
          433,
          434,
          435,
          436,
          437,
          438,
          439,
          440,
          441,
          442,
          443,
          444,
          445,
          446,
          447,
          448,
          449,
          450,
          451,
          452,
          453,
          454,
          455,
          456,
          457,
          458,
          459,
          460,
          461,
          462,
          463,
          464,
          465,
          466,
          467,
          468,
          469,
          470,
          471,
          472,
          473,
          474,
          475,
          476,
          477,
          478,
          479,
          480,
          481,
          482,
          483,
          484,
          485,
          486,
          487,
          488,
          489,
          490,
          491,
          492,
          493,
          494,
          495,
          496,
          497,
          498,
          499,
          500,
          501,
          502,
          503,
          504,
          505,
          506,
          507,
          508,
          509,
          510,
          511,
          512,
          513,
          514,
          515,
          516,
          517,
          518,
          519,
          520,
          521,
          522,
          523,
          524,
          525,
          526,
          527,
          528,
          529,
          530,
          531,
          532,
          533,
          534,
          535,
          536,
          537,
          538,
          539,
          540,
          541,
          542,
          543,
          544,
          545,
          546,
          547,
          548,
          549,
          550,
          551,
          552,
          553,
          554,
          555,
          556,
          557,
          558,
          559,
          560,
          561,
          562,
          563,
          564,
          565,
          566,
          567,
          568,
          569,
          570,
          571,
          572,
          573,
          574,
          575,
          576,
          577,
          578,
          579,
          580,
          581,
          582,
          583,
          584,
          585,
          586,
          587,
          588,
          589,
          590,
          591,
          592,
          593,
          594,
          595,
          596,
          597,
          598,
          599,
          600,
          601,
          602,
          603,
          604,
          605,
          606,
          607,
          608,
          609,
          610,
          611,
          612,
          613,
          614,
          615,
          616,
          617,
          618,
          619,
          620,
          621,
          622,
          623,
          624,
          625,
          626,
          627,
          628,
          629,
          630,
          631,
          632,
          633,
          634,
          635,
          636,
          637,
          638,
          639,
          640,
          641,
          642,
          643,
          644,
          645,
          646,
          647,
          648,
          649,
          650,
          651,
          652,
          653,
          654,
          655,
          656,
          657,
          658,
          659,
          660,
          661,
          662,
          663,
          664,
          665,
          666,
          667,
          668,
          669,
          670,
          671,
          672,
          673,
          674,
          675,
          676,
          677,
          678,
          679,
          680,
          681,
          682,
          683,
          684,
          685,
          686,
          687,
          688,
          689,
          690,
          691,
          692,
          693,
          694,
          695,
          696,
          697,
          698,
          699,
          700,
          701,
          702,
          703,
          704,
          705,
          706,
          707,
          708,
          709,
          710,
          711,
          712,
          713,
          714,
          715,
          716,
          717,
          718,
          719,
          720,
          721,
          722,
          723,
          724,
          725,
          726,
          727,
          728,
          729,
          730,
          731,
          732,
          733,
          734,
          735,
          736,
          737,
          738,
          739,
          740,
          741,
          742,
          743,
          744,
          745,
          746,
          747,
          748,
          749,
          750,
          751,
          752,
          753,
          754,
          755,
          756,
          757,
          758,
          759,
          760,
          761,
          762,
          763,
          764,
          765,
          766,
          767,
          768,
          769,
          770,
          771,
          772,
          773,
          774,
          775,
          776,
          777,
          778,
          779,
          780,
          781,
          782,
          783,
          784,
          785,
          786,
          787,
          788,
          789,
          790,
          791,
          792,
          793,
          794,
          795,
          796,
          797,
          798,
          799,
          800,
          801,
          802,
          803,
          804,
          805,
          806,
          807,
          808,
          809,
          810,
          811,
          812,
          813,
          814,
          815,
          816,
          817,
          818,
          819,
          820,
          821,
          822,
          823,
          824,
          825,
          826,
          827,
          828,
          829,
          830,
          831,
          832,
          833,
          834,
          835,
          836,
          837,
          838,
          839,
          840,
          841,
          842,
          843,
          844,
          845,
          846,
          847,
          848,
          849,
          850,
          851,
          852,
          853,
          854,
          855,
          856,
          857,
          858,
          859,
          860,
          861,
          862,
          863,
          864,
          865,
          866,
          867,
          868,
          869,
          870,
          871,
          872,
          873,
          874,
          875,
          876,
          877,
          878,
          879,
          880,
          881,
          882,
          883,
          884,
          885,
          886,
          887,
          888,
          889,
          890,
          891,
          892,
          893,
          894,
          895,
          896,
          897,
          898,
          899,
          900,
          901,
          902,
          903,
          904,
          905,
          906,
          907,
          908,
          909,
          910,
          911,
          912,
          913,
          914,
          915,
          916,
          917,
          918,
          919,
          920,
          921,
          922,
          923,
          924,
          925,
          926,
          927,
          928,
          929,
          930,
          931,
          932,
          933,
          934,
          935,
          936,
          937,
          938,
          939,
          940,
          941,
          942,
          943,
          944,
          945,
          946,
          947,
          948,
          949,
          950,
          951,
          952,
          953,
          954,
          955,
          956,
          957,
          958,
          959,
          960,
          961,
          962,
          963,
          964,
          965,
          966,
          967,
          968,
          969,
          970,
          971,
          972,
          973,
          974,
          975,
          976,
          977,
          978,
          979,
          980,
          981,
          982,
          983,
          984,
          985,
          986,
          987,
          988,
          989
         ],
         "xaxis": "x",
         "y": [
          0,
          2,
          8,
          11,
          12,
          12,
          15,
          17,
          20,
          20,
          22,
          22,
          22,
          22,
          23,
          23,
          24,
          25,
          25,
          26,
          26,
          26,
          26,
          26,
          27,
          27,
          27,
          27,
          27,
          27,
          28,
          28,
          28,
          28,
          28,
          29,
          29,
          29,
          29,
          29,
          30,
          30,
          30,
          30,
          31,
          31,
          31,
          31,
          31,
          31,
          32,
          32,
          32,
          32,
          33,
          33,
          33,
          33,
          33,
          33,
          33,
          34,
          34,
          34,
          34,
          34,
          34,
          34,
          34,
          35,
          35,
          35,
          35,
          35,
          35,
          35,
          35,
          35,
          35,
          36,
          36,
          36,
          36,
          36,
          36,
          37,
          37,
          37,
          37,
          37,
          38,
          38,
          38,
          38,
          38,
          38,
          38,
          38,
          38,
          39,
          39,
          39,
          39,
          39,
          39,
          40,
          40,
          40,
          40,
          40,
          40,
          41,
          41,
          41,
          41,
          41,
          41,
          41,
          42,
          42,
          42,
          42,
          42,
          42,
          42,
          43,
          43,
          43,
          43,
          43,
          43,
          43,
          43,
          43,
          43,
          43,
          44,
          44,
          44,
          44,
          44,
          44,
          44,
          44,
          44,
          45,
          45,
          45,
          45,
          45,
          45,
          45,
          45,
          45,
          46,
          46,
          46,
          46,
          46,
          46,
          46,
          46,
          46,
          46,
          47,
          47,
          47,
          47,
          47,
          47,
          47,
          47,
          47,
          47,
          47,
          47,
          47,
          48,
          48,
          48,
          48,
          48,
          48,
          48,
          49,
          49,
          49,
          49,
          49,
          49,
          49,
          49,
          49,
          49,
          49,
          49,
          49,
          49,
          49,
          49,
          49,
          50,
          50,
          50,
          51,
          51,
          51,
          51,
          51,
          51,
          51,
          51,
          51,
          51,
          52,
          52,
          52,
          52,
          52,
          52,
          53,
          53,
          53,
          53,
          53,
          53,
          53,
          53,
          53,
          53,
          53,
          54,
          54,
          54,
          54,
          54,
          54,
          54,
          54,
          54,
          54,
          55,
          55,
          55,
          55,
          55,
          55,
          55,
          55,
          55,
          55,
          55,
          56,
          56,
          56,
          56,
          56,
          56,
          56,
          56,
          56,
          56,
          56,
          57,
          57,
          57,
          57,
          57,
          57,
          57,
          57,
          57,
          57,
          57,
          58,
          58,
          58,
          58,
          58,
          58,
          58,
          58,
          58,
          58,
          59,
          59,
          59,
          59,
          59,
          59,
          59,
          59,
          59,
          59,
          60,
          60,
          60,
          60,
          60,
          61,
          62,
          62,
          62,
          62,
          62,
          62,
          62,
          62,
          63,
          63,
          63,
          63,
          63,
          63,
          63,
          63,
          63,
          63,
          63,
          64,
          64,
          64,
          64,
          64,
          64,
          64,
          64,
          65,
          65,
          65,
          65,
          65,
          65,
          65,
          66,
          66,
          66,
          66,
          66,
          66,
          66,
          67,
          67,
          67,
          67,
          68,
          68,
          68,
          68,
          68,
          68,
          69,
          69,
          69,
          69,
          69,
          69,
          69,
          69,
          69,
          69,
          70,
          70,
          70,
          70,
          70,
          70,
          70,
          70,
          70,
          71,
          71,
          71,
          71,
          71,
          71,
          71,
          71,
          71,
          71,
          71,
          71,
          71,
          72,
          72,
          72,
          72,
          72,
          72,
          72,
          72,
          72,
          72,
          73,
          73,
          73,
          73,
          73,
          73,
          74,
          74,
          74,
          74,
          74,
          74,
          74,
          75,
          75,
          75,
          75,
          75,
          75,
          75,
          75,
          76,
          76,
          76,
          76,
          76,
          76,
          76,
          76,
          76,
          76,
          76,
          76,
          76,
          76,
          76,
          77,
          77,
          77,
          77,
          77,
          78,
          78,
          78,
          78,
          78,
          78,
          78,
          79,
          79,
          79,
          79,
          79,
          79,
          79,
          79,
          80,
          80,
          81,
          81,
          81,
          81,
          81,
          81,
          81,
          81,
          82,
          82,
          82,
          82,
          83,
          83,
          83,
          83,
          83,
          83,
          83,
          84,
          84,
          84,
          84,
          84,
          85,
          85,
          85,
          85,
          85,
          85,
          85,
          86,
          86,
          86,
          86,
          86,
          86,
          86,
          87,
          87,
          87,
          87,
          87,
          87,
          87,
          87,
          87,
          88,
          88,
          88,
          88,
          88,
          88,
          89,
          89,
          89,
          89,
          89,
          90,
          90,
          90,
          90,
          90,
          90,
          90,
          90,
          90,
          90,
          91,
          91,
          91,
          91,
          91,
          91,
          91,
          92,
          92,
          92,
          92,
          92,
          92,
          92,
          92,
          92,
          93,
          93,
          93,
          93,
          93,
          93,
          93,
          93,
          94,
          94,
          95,
          95,
          95,
          95,
          95,
          96,
          96,
          96,
          96,
          97,
          97,
          97,
          97,
          98,
          98,
          98,
          98,
          98,
          98,
          99,
          99,
          99,
          99,
          99,
          100,
          100,
          101,
          101,
          101,
          101,
          101,
          101,
          101,
          101,
          102,
          102,
          102,
          103,
          103,
          103,
          103,
          103,
          103,
          104,
          104,
          105,
          105,
          106,
          106,
          106,
          106,
          107,
          107,
          108,
          109,
          109,
          109,
          110,
          110,
          111,
          111,
          111,
          112,
          112,
          112,
          112,
          112,
          112,
          113,
          113,
          113,
          113,
          113,
          113,
          113,
          113,
          114,
          114,
          114,
          114,
          115,
          115,
          116,
          116,
          116,
          116,
          117,
          117,
          117,
          117,
          117,
          117,
          117,
          118,
          118,
          118,
          118,
          118,
          118,
          119,
          119,
          119,
          119,
          119,
          119,
          119,
          119,
          119,
          119,
          120,
          120,
          120,
          120,
          120,
          120,
          121,
          121,
          121,
          121,
          121,
          121,
          121,
          121,
          122,
          122,
          123,
          124,
          125,
          125,
          125,
          125,
          125,
          125,
          126,
          126,
          126,
          127,
          127,
          127,
          128,
          129,
          129,
          131,
          131,
          131,
          131,
          131,
          131,
          132,
          132,
          132,
          132,
          133,
          133,
          134,
          134,
          134,
          134,
          134,
          134,
          135,
          135,
          135,
          135,
          135,
          136,
          136,
          136,
          137,
          137,
          138,
          139,
          139,
          140,
          140,
          140,
          140,
          140,
          141,
          142,
          142,
          142,
          143,
          143,
          143,
          144,
          144,
          144,
          144,
          144,
          145,
          145,
          146,
          147,
          147,
          147,
          148,
          148,
          148,
          148,
          149,
          150,
          150,
          150,
          150,
          151,
          151,
          151,
          151,
          152,
          153,
          153,
          153,
          153,
          153,
          153,
          154,
          154,
          154,
          154,
          154,
          156,
          158,
          158,
          158,
          159,
          159,
          160,
          160,
          161,
          161,
          161,
          161,
          162,
          162,
          162,
          162,
          163,
          163,
          163,
          166,
          166,
          166,
          167,
          168,
          168,
          169,
          169,
          169,
          169,
          169,
          169,
          170,
          175,
          175,
          176,
          177,
          178,
          179,
          180,
          181,
          182,
          182,
          183,
          183,
          183,
          184,
          185,
          187,
          188,
          188,
          189,
          189,
          189,
          190,
          191,
          191,
          192,
          192,
          193,
          193,
          194,
          194,
          195,
          195,
          196,
          196,
          197,
          199,
          199,
          201,
          203,
          203,
          204,
          206,
          207,
          208,
          209,
          211,
          211,
          213,
          215,
          216,
          217,
          218,
          218,
          219,
          219,
          219,
          220,
          222,
          222,
          223,
          225,
          226,
          227,
          228,
          228,
          228,
          229,
          231,
          231,
          231,
          231,
          232,
          232,
          232,
          235,
          236,
          238,
          238,
          239,
          239,
          239,
          241,
          241,
          242,
          242,
          244,
          247,
          247,
          247,
          250,
          251,
          259,
          261,
          261,
          262,
          263,
          263,
          263,
          263,
          266,
          266,
          267,
          267,
          267,
          267,
          268,
          271,
          272,
          272,
          273,
          273,
          276,
          277,
          277,
          281,
          281,
          283,
          287,
          289,
          290,
          292,
          293,
          293,
          294,
          295,
          296,
          296,
          302,
          306,
          309,
          314,
          316,
          316,
          316,
          318,
          321,
          322,
          323,
          323,
          325,
          325,
          328,
          330,
          334,
          335,
          338,
          345,
          345,
          350,
          354,
          354,
          356,
          365,
          365,
          371,
          382,
          388,
          392,
          396,
          410,
          420,
          422,
          426,
          440,
          442,
          458,
          458,
          466,
          467,
          476,
          485,
          488,
          525,
          534,
          553,
          562,
          648,
          653,
          663,
          712,
          718,
          835,
          835,
          859,
          876,
          889,
          1042,
          1051,
          1063,
          1082,
          1302,
          1543
         ],
         "yaxis": "y"
        }
       ],
       "layout": {
        "legend": {
         "tracegroupgap": 0
        },
        "margin": {
         "t": 60
        },
        "shapes": [
         {
          "line": {
           "color": "red"
          },
          "type": "line",
          "x0": 0,
          "x1": 1,
          "xref": "x domain",
          "y0": 500,
          "y1": 500,
          "yref": "y"
         }
        ],
        "template": {
         "data": {
          "bar": [
           {
            "error_x": {
             "color": "#2a3f5f"
            },
            "error_y": {
             "color": "#2a3f5f"
            },
            "marker": {
             "line": {
              "color": "#E5ECF6",
              "width": 0.5
             },
             "pattern": {
              "fillmode": "overlay",
              "size": 10,
              "solidity": 0.2
             }
            },
            "type": "bar"
           }
          ],
          "barpolar": [
           {
            "marker": {
             "line": {
              "color": "#E5ECF6",
              "width": 0.5
             },
             "pattern": {
              "fillmode": "overlay",
              "size": 10,
              "solidity": 0.2
             }
            },
            "type": "barpolar"
           }
          ],
          "carpet": [
           {
            "aaxis": {
             "endlinecolor": "#2a3f5f",
             "gridcolor": "white",
             "linecolor": "white",
             "minorgridcolor": "white",
             "startlinecolor": "#2a3f5f"
            },
            "baxis": {
             "endlinecolor": "#2a3f5f",
             "gridcolor": "white",
             "linecolor": "white",
             "minorgridcolor": "white",
             "startlinecolor": "#2a3f5f"
            },
            "type": "carpet"
           }
          ],
          "choropleth": [
           {
            "colorbar": {
             "outlinewidth": 0,
             "ticks": ""
            },
            "type": "choropleth"
           }
          ],
          "contour": [
           {
            "colorbar": {
             "outlinewidth": 0,
             "ticks": ""
            },
            "colorscale": [
             [
              0,
              "#0d0887"
             ],
             [
              0.1111111111111111,
              "#46039f"
             ],
             [
              0.2222222222222222,
              "#7201a8"
             ],
             [
              0.3333333333333333,
              "#9c179e"
             ],
             [
              0.4444444444444444,
              "#bd3786"
             ],
             [
              0.5555555555555556,
              "#d8576b"
             ],
             [
              0.6666666666666666,
              "#ed7953"
             ],
             [
              0.7777777777777778,
              "#fb9f3a"
             ],
             [
              0.8888888888888888,
              "#fdca26"
             ],
             [
              1,
              "#f0f921"
             ]
            ],
            "type": "contour"
           }
          ],
          "contourcarpet": [
           {
            "colorbar": {
             "outlinewidth": 0,
             "ticks": ""
            },
            "type": "contourcarpet"
           }
          ],
          "heatmap": [
           {
            "colorbar": {
             "outlinewidth": 0,
             "ticks": ""
            },
            "colorscale": [
             [
              0,
              "#0d0887"
             ],
             [
              0.1111111111111111,
              "#46039f"
             ],
             [
              0.2222222222222222,
              "#7201a8"
             ],
             [
              0.3333333333333333,
              "#9c179e"
             ],
             [
              0.4444444444444444,
              "#bd3786"
             ],
             [
              0.5555555555555556,
              "#d8576b"
             ],
             [
              0.6666666666666666,
              "#ed7953"
             ],
             [
              0.7777777777777778,
              "#fb9f3a"
             ],
             [
              0.8888888888888888,
              "#fdca26"
             ],
             [
              1,
              "#f0f921"
             ]
            ],
            "type": "heatmap"
           }
          ],
          "heatmapgl": [
           {
            "colorbar": {
             "outlinewidth": 0,
             "ticks": ""
            },
            "colorscale": [
             [
              0,
              "#0d0887"
             ],
             [
              0.1111111111111111,
              "#46039f"
             ],
             [
              0.2222222222222222,
              "#7201a8"
             ],
             [
              0.3333333333333333,
              "#9c179e"
             ],
             [
              0.4444444444444444,
              "#bd3786"
             ],
             [
              0.5555555555555556,
              "#d8576b"
             ],
             [
              0.6666666666666666,
              "#ed7953"
             ],
             [
              0.7777777777777778,
              "#fb9f3a"
             ],
             [
              0.8888888888888888,
              "#fdca26"
             ],
             [
              1,
              "#f0f921"
             ]
            ],
            "type": "heatmapgl"
           }
          ],
          "histogram": [
           {
            "marker": {
             "pattern": {
              "fillmode": "overlay",
              "size": 10,
              "solidity": 0.2
             }
            },
            "type": "histogram"
           }
          ],
          "histogram2d": [
           {
            "colorbar": {
             "outlinewidth": 0,
             "ticks": ""
            },
            "colorscale": [
             [
              0,
              "#0d0887"
             ],
             [
              0.1111111111111111,
              "#46039f"
             ],
             [
              0.2222222222222222,
              "#7201a8"
             ],
             [
              0.3333333333333333,
              "#9c179e"
             ],
             [
              0.4444444444444444,
              "#bd3786"
             ],
             [
              0.5555555555555556,
              "#d8576b"
             ],
             [
              0.6666666666666666,
              "#ed7953"
             ],
             [
              0.7777777777777778,
              "#fb9f3a"
             ],
             [
              0.8888888888888888,
              "#fdca26"
             ],
             [
              1,
              "#f0f921"
             ]
            ],
            "type": "histogram2d"
           }
          ],
          "histogram2dcontour": [
           {
            "colorbar": {
             "outlinewidth": 0,
             "ticks": ""
            },
            "colorscale": [
             [
              0,
              "#0d0887"
             ],
             [
              0.1111111111111111,
              "#46039f"
             ],
             [
              0.2222222222222222,
              "#7201a8"
             ],
             [
              0.3333333333333333,
              "#9c179e"
             ],
             [
              0.4444444444444444,
              "#bd3786"
             ],
             [
              0.5555555555555556,
              "#d8576b"
             ],
             [
              0.6666666666666666,
              "#ed7953"
             ],
             [
              0.7777777777777778,
              "#fb9f3a"
             ],
             [
              0.8888888888888888,
              "#fdca26"
             ],
             [
              1,
              "#f0f921"
             ]
            ],
            "type": "histogram2dcontour"
           }
          ],
          "mesh3d": [
           {
            "colorbar": {
             "outlinewidth": 0,
             "ticks": ""
            },
            "type": "mesh3d"
           }
          ],
          "parcoords": [
           {
            "line": {
             "colorbar": {
              "outlinewidth": 0,
              "ticks": ""
             }
            },
            "type": "parcoords"
           }
          ],
          "pie": [
           {
            "automargin": true,
            "type": "pie"
           }
          ],
          "scatter": [
           {
            "fillpattern": {
             "fillmode": "overlay",
             "size": 10,
             "solidity": 0.2
            },
            "type": "scatter"
           }
          ],
          "scatter3d": [
           {
            "line": {
             "colorbar": {
              "outlinewidth": 0,
              "ticks": ""
             }
            },
            "marker": {
             "colorbar": {
              "outlinewidth": 0,
              "ticks": ""
             }
            },
            "type": "scatter3d"
           }
          ],
          "scattercarpet": [
           {
            "marker": {
             "colorbar": {
              "outlinewidth": 0,
              "ticks": ""
             }
            },
            "type": "scattercarpet"
           }
          ],
          "scattergeo": [
           {
            "marker": {
             "colorbar": {
              "outlinewidth": 0,
              "ticks": ""
             }
            },
            "type": "scattergeo"
           }
          ],
          "scattergl": [
           {
            "marker": {
             "colorbar": {
              "outlinewidth": 0,
              "ticks": ""
             }
            },
            "type": "scattergl"
           }
          ],
          "scattermapbox": [
           {
            "marker": {
             "colorbar": {
              "outlinewidth": 0,
              "ticks": ""
             }
            },
            "type": "scattermapbox"
           }
          ],
          "scatterpolar": [
           {
            "marker": {
             "colorbar": {
              "outlinewidth": 0,
              "ticks": ""
             }
            },
            "type": "scatterpolar"
           }
          ],
          "scatterpolargl": [
           {
            "marker": {
             "colorbar": {
              "outlinewidth": 0,
              "ticks": ""
             }
            },
            "type": "scatterpolargl"
           }
          ],
          "scatterternary": [
           {
            "marker": {
             "colorbar": {
              "outlinewidth": 0,
              "ticks": ""
             }
            },
            "type": "scatterternary"
           }
          ],
          "surface": [
           {
            "colorbar": {
             "outlinewidth": 0,
             "ticks": ""
            },
            "colorscale": [
             [
              0,
              "#0d0887"
             ],
             [
              0.1111111111111111,
              "#46039f"
             ],
             [
              0.2222222222222222,
              "#7201a8"
             ],
             [
              0.3333333333333333,
              "#9c179e"
             ],
             [
              0.4444444444444444,
              "#bd3786"
             ],
             [
              0.5555555555555556,
              "#d8576b"
             ],
             [
              0.6666666666666666,
              "#ed7953"
             ],
             [
              0.7777777777777778,
              "#fb9f3a"
             ],
             [
              0.8888888888888888,
              "#fdca26"
             ],
             [
              1,
              "#f0f921"
             ]
            ],
            "type": "surface"
           }
          ],
          "table": [
           {
            "cells": {
             "fill": {
              "color": "#EBF0F8"
             },
             "line": {
              "color": "white"
             }
            },
            "header": {
             "fill": {
              "color": "#C8D4E3"
             },
             "line": {
              "color": "white"
             }
            },
            "type": "table"
           }
          ]
         },
         "layout": {
          "annotationdefaults": {
           "arrowcolor": "#2a3f5f",
           "arrowhead": 0,
           "arrowwidth": 1
          },
          "autotypenumbers": "strict",
          "coloraxis": {
           "colorbar": {
            "outlinewidth": 0,
            "ticks": ""
           }
          },
          "colorscale": {
           "diverging": [
            [
             0,
             "#8e0152"
            ],
            [
             0.1,
             "#c51b7d"
            ],
            [
             0.2,
             "#de77ae"
            ],
            [
             0.3,
             "#f1b6da"
            ],
            [
             0.4,
             "#fde0ef"
            ],
            [
             0.5,
             "#f7f7f7"
            ],
            [
             0.6,
             "#e6f5d0"
            ],
            [
             0.7,
             "#b8e186"
            ],
            [
             0.8,
             "#7fbc41"
            ],
            [
             0.9,
             "#4d9221"
            ],
            [
             1,
             "#276419"
            ]
           ],
           "sequential": [
            [
             0,
             "#0d0887"
            ],
            [
             0.1111111111111111,
             "#46039f"
            ],
            [
             0.2222222222222222,
             "#7201a8"
            ],
            [
             0.3333333333333333,
             "#9c179e"
            ],
            [
             0.4444444444444444,
             "#bd3786"
            ],
            [
             0.5555555555555556,
             "#d8576b"
            ],
            [
             0.6666666666666666,
             "#ed7953"
            ],
            [
             0.7777777777777778,
             "#fb9f3a"
            ],
            [
             0.8888888888888888,
             "#fdca26"
            ],
            [
             1,
             "#f0f921"
            ]
           ],
           "sequentialminus": [
            [
             0,
             "#0d0887"
            ],
            [
             0.1111111111111111,
             "#46039f"
            ],
            [
             0.2222222222222222,
             "#7201a8"
            ],
            [
             0.3333333333333333,
             "#9c179e"
            ],
            [
             0.4444444444444444,
             "#bd3786"
            ],
            [
             0.5555555555555556,
             "#d8576b"
            ],
            [
             0.6666666666666666,
             "#ed7953"
            ],
            [
             0.7777777777777778,
             "#fb9f3a"
            ],
            [
             0.8888888888888888,
             "#fdca26"
            ],
            [
             1,
             "#f0f921"
            ]
           ]
          },
          "colorway": [
           "#636efa",
           "#EF553B",
           "#00cc96",
           "#ab63fa",
           "#FFA15A",
           "#19d3f3",
           "#FF6692",
           "#B6E880",
           "#FF97FF",
           "#FECB52"
          ],
          "font": {
           "color": "#2a3f5f"
          },
          "geo": {
           "bgcolor": "white",
           "lakecolor": "white",
           "landcolor": "#E5ECF6",
           "showlakes": true,
           "showland": true,
           "subunitcolor": "white"
          },
          "hoverlabel": {
           "align": "left"
          },
          "hovermode": "closest",
          "mapbox": {
           "style": "light"
          },
          "paper_bgcolor": "white",
          "plot_bgcolor": "#E5ECF6",
          "polar": {
           "angularaxis": {
            "gridcolor": "white",
            "linecolor": "white",
            "ticks": ""
           },
           "bgcolor": "#E5ECF6",
           "radialaxis": {
            "gridcolor": "white",
            "linecolor": "white",
            "ticks": ""
           }
          },
          "scene": {
           "xaxis": {
            "backgroundcolor": "#E5ECF6",
            "gridcolor": "white",
            "gridwidth": 2,
            "linecolor": "white",
            "showbackground": true,
            "ticks": "",
            "zerolinecolor": "white"
           },
           "yaxis": {
            "backgroundcolor": "#E5ECF6",
            "gridcolor": "white",
            "gridwidth": 2,
            "linecolor": "white",
            "showbackground": true,
            "ticks": "",
            "zerolinecolor": "white"
           },
           "zaxis": {
            "backgroundcolor": "#E5ECF6",
            "gridcolor": "white",
            "gridwidth": 2,
            "linecolor": "white",
            "showbackground": true,
            "ticks": "",
            "zerolinecolor": "white"
           }
          },
          "shapedefaults": {
           "line": {
            "color": "#2a3f5f"
           }
          },
          "ternary": {
           "aaxis": {
            "gridcolor": "white",
            "linecolor": "white",
            "ticks": ""
           },
           "baxis": {
            "gridcolor": "white",
            "linecolor": "white",
            "ticks": ""
           },
           "bgcolor": "#E5ECF6",
           "caxis": {
            "gridcolor": "white",
            "linecolor": "white",
            "ticks": ""
           }
          },
          "title": {
           "x": 0.05
          },
          "xaxis": {
           "automargin": true,
           "gridcolor": "white",
           "linecolor": "white",
           "ticks": "",
           "title": {
            "standoff": 15
           },
           "zerolinecolor": "white",
           "zerolinewidth": 2
          },
          "yaxis": {
           "automargin": true,
           "gridcolor": "white",
           "linecolor": "white",
           "ticks": "",
           "title": {
            "standoff": 15
           },
           "zerolinecolor": "white",
           "zerolinewidth": 2
          }
         }
        },
        "xaxis": {
         "anchor": "y",
         "domain": [
          0,
          1
         ],
         "title": {
          "text": "x"
         }
        },
        "yaxis": {
         "anchor": "x",
         "domain": [
          0,
          1
         ],
         "title": {
          "text": "450"
         }
        }
       }
      }
     },
     "metadata": {},
     "output_type": "display_data"
    }
   ],
   "source": [
    "df_check = df_valid_users['450'].to_frame()\n",
    "df_check.sort_values(by = '450', inplace=True)\n",
    "fig = px.line(df_check, x = range(df_check.shape[0]), y = '450')\n",
    "fig.add_hline(500, line_color = 'red')\n",
    "fig.show()"
   ]
  },
  {
   "cell_type": "code",
   "execution_count": 35,
   "metadata": {},
   "outputs": [],
   "source": [
    "# We recut at 500\n",
    "max_time_to_rate = 500\n",
    "df_valid_users = df_valid_users[(df_valid_users['450'] < max_time_to_rate)]"
   ]
  },
  {
   "cell_type": "code",
   "execution_count": 36,
   "metadata": {},
   "outputs": [],
   "source": [
    "# We have the final data set of users and the data set of their ratings\n",
    "\n",
    "valid_usernames = set(df_valid_users['user_name'])\n",
    "df_valid_ratings = df_us_ratings[df_us_ratings['user_name'].isin(valid_usernames)]"
   ]
  },
  {
   "cell_type": "code",
   "execution_count": 37,
   "metadata": {},
   "outputs": [
    {
     "data": {
      "text/html": [
       "<div>\n",
       "<style scoped>\n",
       "    .dataframe tbody tr th:only-of-type {\n",
       "        vertical-align: middle;\n",
       "    }\n",
       "\n",
       "    .dataframe tbody tr th {\n",
       "        vertical-align: top;\n",
       "    }\n",
       "\n",
       "    .dataframe thead th {\n",
       "        text-align: right;\n",
       "    }\n",
       "</style>\n",
       "<table border=\"1\" class=\"dataframe\">\n",
       "  <thead>\n",
       "    <tr style=\"text-align: right;\">\n",
       "      <th></th>\n",
       "      <th>nbr_ratings</th>\n",
       "      <th>nbr_reviews</th>\n",
       "      <th>user_id</th>\n",
       "      <th>user_name</th>\n",
       "      <th>joined</th>\n",
       "      <th>location</th>\n",
       "      <th>date_joined</th>\n",
       "      <th>active_days</th>\n",
       "      <th>delta_first_last</th>\n",
       "      <th>max_active_day</th>\n",
       "      <th>max_active_month</th>\n",
       "      <th>50</th>\n",
       "      <th>450</th>\n",
       "    </tr>\n",
       "  </thead>\n",
       "  <tbody>\n",
       "    <tr>\n",
       "      <th>2</th>\n",
       "      <td>585</td>\n",
       "      <td>389</td>\n",
       "      <td>ferrari29.320392</td>\n",
       "      <td>ferrari29</td>\n",
       "      <td>1.239790e+09</td>\n",
       "      <td>United States, Illinois</td>\n",
       "      <td>2009-04-15</td>\n",
       "      <td>202</td>\n",
       "      <td>1193</td>\n",
       "      <td>12</td>\n",
       "      <td>42</td>\n",
       "      <td>64</td>\n",
       "      <td>335</td>\n",
       "    </tr>\n",
       "    <tr>\n",
       "      <th>5</th>\n",
       "      <td>676</td>\n",
       "      <td>676</td>\n",
       "      <td>dodo2step.110880</td>\n",
       "      <td>Dodo2step</td>\n",
       "      <td>1.165576e+09</td>\n",
       "      <td>United States, Pennsylvania</td>\n",
       "      <td>2006-12-08</td>\n",
       "      <td>411</td>\n",
       "      <td>2153</td>\n",
       "      <td>13</td>\n",
       "      <td>28</td>\n",
       "      <td>45</td>\n",
       "      <td>442</td>\n",
       "    </tr>\n",
       "    <tr>\n",
       "      <th>7</th>\n",
       "      <td>653</td>\n",
       "      <td>651</td>\n",
       "      <td>kadonny.156863</td>\n",
       "      <td>Kadonny</td>\n",
       "      <td>1.188986e+09</td>\n",
       "      <td>United States, Pennsylvania</td>\n",
       "      <td>2007-09-05</td>\n",
       "      <td>357</td>\n",
       "      <td>1800</td>\n",
       "      <td>5</td>\n",
       "      <td>22</td>\n",
       "      <td>249</td>\n",
       "      <td>263</td>\n",
       "    </tr>\n",
       "    <tr>\n",
       "      <th>8</th>\n",
       "      <td>748</td>\n",
       "      <td>748</td>\n",
       "      <td>biggred1.206640</td>\n",
       "      <td>biggred1</td>\n",
       "      <td>1.206616e+09</td>\n",
       "      <td>United States, Indiana</td>\n",
       "      <td>2008-03-27</td>\n",
       "      <td>318</td>\n",
       "      <td>819</td>\n",
       "      <td>5</td>\n",
       "      <td>37</td>\n",
       "      <td>102</td>\n",
       "      <td>69</td>\n",
       "    </tr>\n",
       "    <tr>\n",
       "      <th>10</th>\n",
       "      <td>614</td>\n",
       "      <td>614</td>\n",
       "      <td>whynot44.2033</td>\n",
       "      <td>whynot44</td>\n",
       "      <td>1.052129e+09</td>\n",
       "      <td>United States, Missouri</td>\n",
       "      <td>2003-05-05</td>\n",
       "      <td>276</td>\n",
       "      <td>1452</td>\n",
       "      <td>7</td>\n",
       "      <td>57</td>\n",
       "      <td>24</td>\n",
       "      <td>316</td>\n",
       "    </tr>\n",
       "  </tbody>\n",
       "</table>\n",
       "</div>"
      ],
      "text/plain": [
       "    nbr_ratings  nbr_reviews           user_id  user_name        joined  \\\n",
       "2           585          389  ferrari29.320392  ferrari29  1.239790e+09   \n",
       "5           676          676  dodo2step.110880  Dodo2step  1.165576e+09   \n",
       "7           653          651    kadonny.156863    Kadonny  1.188986e+09   \n",
       "8           748          748   biggred1.206640   biggred1  1.206616e+09   \n",
       "10          614          614     whynot44.2033   whynot44  1.052129e+09   \n",
       "\n",
       "                       location date_joined  active_days  delta_first_last  \\\n",
       "2       United States, Illinois  2009-04-15          202              1193   \n",
       "5   United States, Pennsylvania  2006-12-08          411              2153   \n",
       "7   United States, Pennsylvania  2007-09-05          357              1800   \n",
       "8        United States, Indiana  2008-03-27          318               819   \n",
       "10      United States, Missouri  2003-05-05          276              1452   \n",
       "\n",
       "    max_active_day  max_active_month   50  450  \n",
       "2               12                42   64  335  \n",
       "5               13                28   45  442  \n",
       "7                5                22  249  263  \n",
       "8                5                37  102   69  \n",
       "10               7                57   24  316  "
      ]
     },
     "execution_count": 37,
     "metadata": {},
     "output_type": "execute_result"
    }
   ],
   "source": [
    "df_valid_users.head(5)"
   ]
  },
  {
   "cell_type": "code",
   "execution_count": 38,
   "metadata": {},
   "outputs": [
    {
     "data": {
      "text/html": [
       "<div>\n",
       "<style scoped>\n",
       "    .dataframe tbody tr th:only-of-type {\n",
       "        vertical-align: middle;\n",
       "    }\n",
       "\n",
       "    .dataframe tbody tr th {\n",
       "        vertical-align: top;\n",
       "    }\n",
       "\n",
       "    .dataframe thead th {\n",
       "        text-align: right;\n",
       "    }\n",
       "</style>\n",
       "<table border=\"1\" class=\"dataframe\">\n",
       "  <thead>\n",
       "    <tr style=\"text-align: right;\">\n",
       "      <th></th>\n",
       "      <th>beer_id</th>\n",
       "      <th>style</th>\n",
       "      <th>abv</th>\n",
       "      <th>date</th>\n",
       "      <th>user_name</th>\n",
       "      <th>appearance</th>\n",
       "      <th>aroma</th>\n",
       "      <th>palate</th>\n",
       "      <th>taste</th>\n",
       "      <th>overall</th>\n",
       "      <th>rating</th>\n",
       "      <th>category</th>\n",
       "      <th>rating_number</th>\n",
       "    </tr>\n",
       "  </thead>\n",
       "  <tbody>\n",
       "    <tr>\n",
       "      <th>1640018</th>\n",
       "      <td>167</td>\n",
       "      <td>Witbier</td>\n",
       "      <td>NaN</td>\n",
       "      <td>2001-03-16</td>\n",
       "      <td>frank4sail</td>\n",
       "      <td>4.5</td>\n",
       "      <td>4.5</td>\n",
       "      <td>4.0</td>\n",
       "      <td>5.0</td>\n",
       "      <td>5.0</td>\n",
       "      <td>4.75</td>\n",
       "      <td>Wheat Beers</td>\n",
       "      <td>0</td>\n",
       "    </tr>\n",
       "    <tr>\n",
       "      <th>311428</th>\n",
       "      <td>3558</td>\n",
       "      <td>Czech Pilsener</td>\n",
       "      <td>5.00</td>\n",
       "      <td>2001-06-18</td>\n",
       "      <td>Mark</td>\n",
       "      <td>4.0</td>\n",
       "      <td>4.0</td>\n",
       "      <td>3.0</td>\n",
       "      <td>4.0</td>\n",
       "      <td>4.0</td>\n",
       "      <td>3.90</td>\n",
       "      <td>Pale Lagers</td>\n",
       "      <td>0</td>\n",
       "    </tr>\n",
       "    <tr>\n",
       "      <th>17313</th>\n",
       "      <td>73</td>\n",
       "      <td>Milk / Sweet Stout</td>\n",
       "      <td>5.20</td>\n",
       "      <td>2001-06-18</td>\n",
       "      <td>Mark</td>\n",
       "      <td>5.0</td>\n",
       "      <td>5.0</td>\n",
       "      <td>5.0</td>\n",
       "      <td>5.0</td>\n",
       "      <td>5.0</td>\n",
       "      <td>5.00</td>\n",
       "      <td>Stouts</td>\n",
       "      <td>1</td>\n",
       "    </tr>\n",
       "    <tr>\n",
       "      <th>136697</th>\n",
       "      <td>261</td>\n",
       "      <td>Vienna Lager</td>\n",
       "      <td>4.48</td>\n",
       "      <td>2001-06-24</td>\n",
       "      <td>Mark</td>\n",
       "      <td>4.0</td>\n",
       "      <td>3.0</td>\n",
       "      <td>3.0</td>\n",
       "      <td>3.0</td>\n",
       "      <td>3.0</td>\n",
       "      <td>3.06</td>\n",
       "      <td>Dark Lagers</td>\n",
       "      <td>2</td>\n",
       "    </tr>\n",
       "    <tr>\n",
       "      <th>442671</th>\n",
       "      <td>87</td>\n",
       "      <td>American Pale Ale (APA)</td>\n",
       "      <td>5.40</td>\n",
       "      <td>2001-06-24</td>\n",
       "      <td>Mark</td>\n",
       "      <td>4.0</td>\n",
       "      <td>4.0</td>\n",
       "      <td>1.0</td>\n",
       "      <td>3.0</td>\n",
       "      <td>3.0</td>\n",
       "      <td>3.10</td>\n",
       "      <td>Pale Ales</td>\n",
       "      <td>3</td>\n",
       "    </tr>\n",
       "  </tbody>\n",
       "</table>\n",
       "</div>"
      ],
      "text/plain": [
       "         beer_id                    style   abv       date   user_name  \\\n",
       "1640018      167                  Witbier   NaN 2001-03-16  frank4sail   \n",
       "311428      3558           Czech Pilsener  5.00 2001-06-18        Mark   \n",
       "17313         73       Milk / Sweet Stout  5.20 2001-06-18        Mark   \n",
       "136697       261             Vienna Lager  4.48 2001-06-24        Mark   \n",
       "442671        87  American Pale Ale (APA)  5.40 2001-06-24        Mark   \n",
       "\n",
       "         appearance  aroma  palate  taste  overall  rating     category  \\\n",
       "1640018         4.5    4.5     4.0    5.0      5.0    4.75  Wheat Beers   \n",
       "311428          4.0    4.0     3.0    4.0      4.0    3.90  Pale Lagers   \n",
       "17313           5.0    5.0     5.0    5.0      5.0    5.00       Stouts   \n",
       "136697          4.0    3.0     3.0    3.0      3.0    3.06  Dark Lagers   \n",
       "442671          4.0    4.0     1.0    3.0      3.0    3.10    Pale Ales   \n",
       "\n",
       "         rating_number  \n",
       "1640018              0  \n",
       "311428               0  \n",
       "17313                1  \n",
       "136697               2  \n",
       "442671               3  "
      ]
     },
     "execution_count": 38,
     "metadata": {},
     "output_type": "execute_result"
    }
   ],
   "source": [
    "df_valid_ratings.head(5)"
   ]
  },
  {
   "cell_type": "code",
   "execution_count": 39,
   "metadata": {},
   "outputs": [],
   "source": [
    "# Clustering starts\n",
    "# We want to check if it is possible to extract meaningful clusters\n",
    "# out of the 50 first ratings submitted by users"
   ]
  },
  {
   "cell_type": "code",
   "execution_count": 40,
   "metadata": {},
   "outputs": [
    {
     "data": {
      "text/html": [
       "<div>\n",
       "<style scoped>\n",
       "    .dataframe tbody tr th:only-of-type {\n",
       "        vertical-align: middle;\n",
       "    }\n",
       "\n",
       "    .dataframe tbody tr th {\n",
       "        vertical-align: top;\n",
       "    }\n",
       "\n",
       "    .dataframe thead th {\n",
       "        text-align: right;\n",
       "    }\n",
       "</style>\n",
       "<table border=\"1\" class=\"dataframe\">\n",
       "  <thead>\n",
       "    <tr style=\"text-align: right;\">\n",
       "      <th>category</th>\n",
       "      <th>Bocks</th>\n",
       "      <th>Brown Ales</th>\n",
       "      <th>Dark Ales</th>\n",
       "      <th>Dark Lagers</th>\n",
       "      <th>Hybrid Beers</th>\n",
       "      <th>India Pale Ales</th>\n",
       "      <th>Pale Ales</th>\n",
       "      <th>Pale Lagers</th>\n",
       "      <th>Porters</th>\n",
       "      <th>Specialty Beer</th>\n",
       "      <th>Stouts</th>\n",
       "      <th>Strong Ales</th>\n",
       "      <th>Weird Cocktail</th>\n",
       "      <th>Wheat Beers</th>\n",
       "      <th>Wild/Sour Beers</th>\n",
       "    </tr>\n",
       "    <tr>\n",
       "      <th>user_name</th>\n",
       "      <th></th>\n",
       "      <th></th>\n",
       "      <th></th>\n",
       "      <th></th>\n",
       "      <th></th>\n",
       "      <th></th>\n",
       "      <th></th>\n",
       "      <th></th>\n",
       "      <th></th>\n",
       "      <th></th>\n",
       "      <th></th>\n",
       "      <th></th>\n",
       "      <th></th>\n",
       "      <th></th>\n",
       "      <th></th>\n",
       "    </tr>\n",
       "  </thead>\n",
       "  <tbody>\n",
       "    <tr>\n",
       "      <th>-Rick</th>\n",
       "      <td>0</td>\n",
       "      <td>2</td>\n",
       "      <td>0</td>\n",
       "      <td>2</td>\n",
       "      <td>0</td>\n",
       "      <td>29</td>\n",
       "      <td>7</td>\n",
       "      <td>2</td>\n",
       "      <td>2</td>\n",
       "      <td>2</td>\n",
       "      <td>3</td>\n",
       "      <td>1</td>\n",
       "      <td>0</td>\n",
       "      <td>0</td>\n",
       "      <td>0</td>\n",
       "    </tr>\n",
       "    <tr>\n",
       "      <th>1000lbgrizzly</th>\n",
       "      <td>0</td>\n",
       "      <td>5</td>\n",
       "      <td>0</td>\n",
       "      <td>1</td>\n",
       "      <td>0</td>\n",
       "      <td>4</td>\n",
       "      <td>9</td>\n",
       "      <td>7</td>\n",
       "      <td>2</td>\n",
       "      <td>8</td>\n",
       "      <td>6</td>\n",
       "      <td>4</td>\n",
       "      <td>0</td>\n",
       "      <td>3</td>\n",
       "      <td>1</td>\n",
       "    </tr>\n",
       "    <tr>\n",
       "      <th>1424IpA</th>\n",
       "      <td>0</td>\n",
       "      <td>0</td>\n",
       "      <td>1</td>\n",
       "      <td>0</td>\n",
       "      <td>0</td>\n",
       "      <td>21</td>\n",
       "      <td>3</td>\n",
       "      <td>1</td>\n",
       "      <td>1</td>\n",
       "      <td>1</td>\n",
       "      <td>12</td>\n",
       "      <td>4</td>\n",
       "      <td>0</td>\n",
       "      <td>1</td>\n",
       "      <td>5</td>\n",
       "    </tr>\n",
       "    <tr>\n",
       "      <th>2Xmd</th>\n",
       "      <td>0</td>\n",
       "      <td>2</td>\n",
       "      <td>1</td>\n",
       "      <td>1</td>\n",
       "      <td>0</td>\n",
       "      <td>25</td>\n",
       "      <td>5</td>\n",
       "      <td>1</td>\n",
       "      <td>1</td>\n",
       "      <td>2</td>\n",
       "      <td>9</td>\n",
       "      <td>1</td>\n",
       "      <td>0</td>\n",
       "      <td>2</td>\n",
       "      <td>0</td>\n",
       "    </tr>\n",
       "    <tr>\n",
       "      <th>2ellas</th>\n",
       "      <td>0</td>\n",
       "      <td>2</td>\n",
       "      <td>1</td>\n",
       "      <td>0</td>\n",
       "      <td>0</td>\n",
       "      <td>31</td>\n",
       "      <td>9</td>\n",
       "      <td>0</td>\n",
       "      <td>0</td>\n",
       "      <td>0</td>\n",
       "      <td>2</td>\n",
       "      <td>4</td>\n",
       "      <td>0</td>\n",
       "      <td>1</td>\n",
       "      <td>0</td>\n",
       "    </tr>\n",
       "    <tr>\n",
       "      <th>...</th>\n",
       "      <td>...</td>\n",
       "      <td>...</td>\n",
       "      <td>...</td>\n",
       "      <td>...</td>\n",
       "      <td>...</td>\n",
       "      <td>...</td>\n",
       "      <td>...</td>\n",
       "      <td>...</td>\n",
       "      <td>...</td>\n",
       "      <td>...</td>\n",
       "      <td>...</td>\n",
       "      <td>...</td>\n",
       "      <td>...</td>\n",
       "      <td>...</td>\n",
       "      <td>...</td>\n",
       "    </tr>\n",
       "    <tr>\n",
       "      <th>zenithberwyn</th>\n",
       "      <td>1</td>\n",
       "      <td>1</td>\n",
       "      <td>0</td>\n",
       "      <td>3</td>\n",
       "      <td>0</td>\n",
       "      <td>3</td>\n",
       "      <td>7</td>\n",
       "      <td>10</td>\n",
       "      <td>3</td>\n",
       "      <td>0</td>\n",
       "      <td>14</td>\n",
       "      <td>5</td>\n",
       "      <td>0</td>\n",
       "      <td>3</td>\n",
       "      <td>0</td>\n",
       "    </tr>\n",
       "    <tr>\n",
       "      <th>zhanson88</th>\n",
       "      <td>1</td>\n",
       "      <td>5</td>\n",
       "      <td>3</td>\n",
       "      <td>1</td>\n",
       "      <td>0</td>\n",
       "      <td>6</td>\n",
       "      <td>6</td>\n",
       "      <td>2</td>\n",
       "      <td>3</td>\n",
       "      <td>1</td>\n",
       "      <td>12</td>\n",
       "      <td>7</td>\n",
       "      <td>0</td>\n",
       "      <td>3</td>\n",
       "      <td>0</td>\n",
       "    </tr>\n",
       "    <tr>\n",
       "      <th>zookerman182</th>\n",
       "      <td>1</td>\n",
       "      <td>3</td>\n",
       "      <td>0</td>\n",
       "      <td>0</td>\n",
       "      <td>0</td>\n",
       "      <td>22</td>\n",
       "      <td>6</td>\n",
       "      <td>0</td>\n",
       "      <td>2</td>\n",
       "      <td>0</td>\n",
       "      <td>9</td>\n",
       "      <td>5</td>\n",
       "      <td>0</td>\n",
       "      <td>1</td>\n",
       "      <td>1</td>\n",
       "    </tr>\n",
       "    <tr>\n",
       "      <th>zoso1967</th>\n",
       "      <td>0</td>\n",
       "      <td>3</td>\n",
       "      <td>0</td>\n",
       "      <td>0</td>\n",
       "      <td>0</td>\n",
       "      <td>19</td>\n",
       "      <td>9</td>\n",
       "      <td>3</td>\n",
       "      <td>2</td>\n",
       "      <td>0</td>\n",
       "      <td>3</td>\n",
       "      <td>5</td>\n",
       "      <td>0</td>\n",
       "      <td>1</td>\n",
       "      <td>5</td>\n",
       "    </tr>\n",
       "    <tr>\n",
       "      <th>zotzot</th>\n",
       "      <td>1</td>\n",
       "      <td>4</td>\n",
       "      <td>0</td>\n",
       "      <td>1</td>\n",
       "      <td>0</td>\n",
       "      <td>18</td>\n",
       "      <td>11</td>\n",
       "      <td>1</td>\n",
       "      <td>0</td>\n",
       "      <td>1</td>\n",
       "      <td>7</td>\n",
       "      <td>2</td>\n",
       "      <td>0</td>\n",
       "      <td>4</td>\n",
       "      <td>0</td>\n",
       "    </tr>\n",
       "  </tbody>\n",
       "</table>\n",
       "<p>970 rows × 15 columns</p>\n",
       "</div>"
      ],
      "text/plain": [
       "category       Bocks  Brown Ales  Dark Ales  Dark Lagers  Hybrid Beers  \\\n",
       "user_name                                                                \n",
       "-Rick              0           2          0            2             0   \n",
       "1000lbgrizzly      0           5          0            1             0   \n",
       "1424IpA            0           0          1            0             0   \n",
       "2Xmd               0           2          1            1             0   \n",
       "2ellas             0           2          1            0             0   \n",
       "...              ...         ...        ...          ...           ...   \n",
       "zenithberwyn       1           1          0            3             0   \n",
       "zhanson88          1           5          3            1             0   \n",
       "zookerman182       1           3          0            0             0   \n",
       "zoso1967           0           3          0            0             0   \n",
       "zotzot             1           4          0            1             0   \n",
       "\n",
       "category       India Pale Ales  Pale Ales  Pale Lagers  Porters  \\\n",
       "user_name                                                         \n",
       "-Rick                       29          7            2        2   \n",
       "1000lbgrizzly                4          9            7        2   \n",
       "1424IpA                     21          3            1        1   \n",
       "2Xmd                        25          5            1        1   \n",
       "2ellas                      31          9            0        0   \n",
       "...                        ...        ...          ...      ...   \n",
       "zenithberwyn                 3          7           10        3   \n",
       "zhanson88                    6          6            2        3   \n",
       "zookerman182                22          6            0        2   \n",
       "zoso1967                    19          9            3        2   \n",
       "zotzot                      18         11            1        0   \n",
       "\n",
       "category       Specialty Beer  Stouts  Strong Ales  Weird Cocktail  \\\n",
       "user_name                                                            \n",
       "-Rick                       2       3            1               0   \n",
       "1000lbgrizzly               8       6            4               0   \n",
       "1424IpA                     1      12            4               0   \n",
       "2Xmd                        2       9            1               0   \n",
       "2ellas                      0       2            4               0   \n",
       "...                       ...     ...          ...             ...   \n",
       "zenithberwyn                0      14            5               0   \n",
       "zhanson88                   1      12            7               0   \n",
       "zookerman182                0       9            5               0   \n",
       "zoso1967                    0       3            5               0   \n",
       "zotzot                      1       7            2               0   \n",
       "\n",
       "category       Wheat Beers  Wild/Sour Beers  \n",
       "user_name                                    \n",
       "-Rick                    0                0  \n",
       "1000lbgrizzly            3                1  \n",
       "1424IpA                  1                5  \n",
       "2Xmd                     2                0  \n",
       "2ellas                   1                0  \n",
       "...                    ...              ...  \n",
       "zenithberwyn             3                0  \n",
       "zhanson88                3                0  \n",
       "zookerman182             1                1  \n",
       "zoso1967                 1                5  \n",
       "zotzot                   4                0  \n",
       "\n",
       "[970 rows x 15 columns]"
      ]
     },
     "execution_count": 40,
     "metadata": {},
     "output_type": "execute_result"
    }
   ],
   "source": [
    "# To do that, we check how many beers of different categories \n",
    "# a user rated in his first 50 ratings\n",
    "\n",
    "df_to_cluster = df_valid_ratings[df_valid_ratings[\"rating_number\"] < 50]\n",
    "user_to_cat_first = df_to_cluster.groupby([\"user_name\", \"category\"]).size()\n",
    "user_to_cat_first = user_to_cat_first.unstack(level=-1, fill_value = 0)\n",
    "user_to_cat_first"
   ]
  },
  {
   "cell_type": "code",
   "execution_count": 41,
   "metadata": {},
   "outputs": [
    {
     "name": "stdout",
     "output_type": "stream",
     "text": [
      "For n_clusters = 2 The average silhouette_score is : 0.2542403428596163\n",
      "For n_clusters = 3 The average silhouette_score is : 0.240323402139305\n",
      "For n_clusters = 4 The average silhouette_score is : 0.2147532704491709\n",
      "For n_clusters = 5 The average silhouette_score is : 0.19260175262458518\n",
      "For n_clusters = 6 The average silhouette_score is : 0.19444814939809293\n",
      "For n_clusters = 7 The average silhouette_score is : 0.18342958951834293\n",
      "For n_clusters = 8 The average silhouette_score is : 0.16631178468120691\n",
      "For n_clusters = 9 The average silhouette_score is : 0.16638186205864716\n",
      "For n_clusters = 10 The average silhouette_score is : 0.1618717872672766\n",
      "For n_clusters = 11 The average silhouette_score is : 0.1557452912520074\n",
      "For n_clusters = 12 The average silhouette_score is : 0.14958162694164992\n",
      "For n_clusters = 13 The average silhouette_score is : 0.14710501825399383\n",
      "For n_clusters = 14 The average silhouette_score is : 0.13874001474866446\n",
      "For n_clusters = 15 The average silhouette_score is : 0.13951506400530536\n"
     ]
    }
   ],
   "source": [
    "# Generating the sample data from make_blobs\n",
    "# This particular setting has one distinct cluster and 3 clusters placed close\n",
    "# together.\n",
    "X = user_to_cat_first.values\n",
    "y = 0\n",
    "\n",
    "range_n_clusters = range(2, 15 + 1)\n",
    "silhouette_score_list=[]\n",
    "for n_clusters in range_n_clusters:\n",
    "    clusterer = KMeans(n_clusters=n_clusters) # , n_init=\"auto\", random_state=10\n",
    "    clusterer.fit(X)\n",
    "    cluster_labels = clusterer.labels_\n",
    "\n",
    "    # The silhouette_score gives the average value for all the samples.\n",
    "    # This gives a perspective into the density and separation of the formed\n",
    "    # clusters\n",
    "    silhouette_avg = silhouette_score(X, cluster_labels)\n",
    "    silhouette_score_list.append(silhouette_avg)\n",
    "    print(\n",
    "        \"For n_clusters =\",\n",
    "        n_clusters,\n",
    "        \"The average silhouette_score is :\",\n",
    "        silhouette_avg,\n",
    "    )\n",
    "\n"
   ]
  },
  {
   "cell_type": "code",
   "execution_count": 42,
   "metadata": {},
   "outputs": [
    {
     "data": {
      "application/vnd.plotly.v1+json": {
       "config": {
        "plotlyServerURL": "https://plot.ly"
       },
       "data": [
        {
         "hovertemplate": "x=%{x}<br>y=%{y}<extra></extra>",
         "legendgroup": "",
         "line": {
          "color": "#636efa",
          "dash": "solid"
         },
         "marker": {
          "symbol": "circle"
         },
         "mode": "lines",
         "name": "",
         "orientation": "v",
         "showlegend": false,
         "type": "scatter",
         "x": [
          2,
          3,
          4,
          5,
          6,
          7,
          8,
          9,
          10,
          11,
          12,
          13,
          14,
          15
         ],
         "xaxis": "x",
         "y": [
          0.2542403428596163,
          0.240323402139305,
          0.2147532704491709,
          0.19260175262458518,
          0.19444814939809293,
          0.18342958951834293,
          0.16631178468120691,
          0.16638186205864716,
          0.1618717872672766,
          0.1557452912520074,
          0.14958162694164992,
          0.14710501825399383,
          0.13874001474866446,
          0.13951506400530536
         ],
         "yaxis": "y"
        }
       ],
       "layout": {
        "legend": {
         "title": {
          "text": "Silhouette score"
         },
         "tracegroupgap": 0
        },
        "margin": {
         "t": 60
        },
        "template": {
         "data": {
          "bar": [
           {
            "error_x": {
             "color": "#2a3f5f"
            },
            "error_y": {
             "color": "#2a3f5f"
            },
            "marker": {
             "line": {
              "color": "#E5ECF6",
              "width": 0.5
             },
             "pattern": {
              "fillmode": "overlay",
              "size": 10,
              "solidity": 0.2
             }
            },
            "type": "bar"
           }
          ],
          "barpolar": [
           {
            "marker": {
             "line": {
              "color": "#E5ECF6",
              "width": 0.5
             },
             "pattern": {
              "fillmode": "overlay",
              "size": 10,
              "solidity": 0.2
             }
            },
            "type": "barpolar"
           }
          ],
          "carpet": [
           {
            "aaxis": {
             "endlinecolor": "#2a3f5f",
             "gridcolor": "white",
             "linecolor": "white",
             "minorgridcolor": "white",
             "startlinecolor": "#2a3f5f"
            },
            "baxis": {
             "endlinecolor": "#2a3f5f",
             "gridcolor": "white",
             "linecolor": "white",
             "minorgridcolor": "white",
             "startlinecolor": "#2a3f5f"
            },
            "type": "carpet"
           }
          ],
          "choropleth": [
           {
            "colorbar": {
             "outlinewidth": 0,
             "ticks": ""
            },
            "type": "choropleth"
           }
          ],
          "contour": [
           {
            "colorbar": {
             "outlinewidth": 0,
             "ticks": ""
            },
            "colorscale": [
             [
              0,
              "#0d0887"
             ],
             [
              0.1111111111111111,
              "#46039f"
             ],
             [
              0.2222222222222222,
              "#7201a8"
             ],
             [
              0.3333333333333333,
              "#9c179e"
             ],
             [
              0.4444444444444444,
              "#bd3786"
             ],
             [
              0.5555555555555556,
              "#d8576b"
             ],
             [
              0.6666666666666666,
              "#ed7953"
             ],
             [
              0.7777777777777778,
              "#fb9f3a"
             ],
             [
              0.8888888888888888,
              "#fdca26"
             ],
             [
              1,
              "#f0f921"
             ]
            ],
            "type": "contour"
           }
          ],
          "contourcarpet": [
           {
            "colorbar": {
             "outlinewidth": 0,
             "ticks": ""
            },
            "type": "contourcarpet"
           }
          ],
          "heatmap": [
           {
            "colorbar": {
             "outlinewidth": 0,
             "ticks": ""
            },
            "colorscale": [
             [
              0,
              "#0d0887"
             ],
             [
              0.1111111111111111,
              "#46039f"
             ],
             [
              0.2222222222222222,
              "#7201a8"
             ],
             [
              0.3333333333333333,
              "#9c179e"
             ],
             [
              0.4444444444444444,
              "#bd3786"
             ],
             [
              0.5555555555555556,
              "#d8576b"
             ],
             [
              0.6666666666666666,
              "#ed7953"
             ],
             [
              0.7777777777777778,
              "#fb9f3a"
             ],
             [
              0.8888888888888888,
              "#fdca26"
             ],
             [
              1,
              "#f0f921"
             ]
            ],
            "type": "heatmap"
           }
          ],
          "heatmapgl": [
           {
            "colorbar": {
             "outlinewidth": 0,
             "ticks": ""
            },
            "colorscale": [
             [
              0,
              "#0d0887"
             ],
             [
              0.1111111111111111,
              "#46039f"
             ],
             [
              0.2222222222222222,
              "#7201a8"
             ],
             [
              0.3333333333333333,
              "#9c179e"
             ],
             [
              0.4444444444444444,
              "#bd3786"
             ],
             [
              0.5555555555555556,
              "#d8576b"
             ],
             [
              0.6666666666666666,
              "#ed7953"
             ],
             [
              0.7777777777777778,
              "#fb9f3a"
             ],
             [
              0.8888888888888888,
              "#fdca26"
             ],
             [
              1,
              "#f0f921"
             ]
            ],
            "type": "heatmapgl"
           }
          ],
          "histogram": [
           {
            "marker": {
             "pattern": {
              "fillmode": "overlay",
              "size": 10,
              "solidity": 0.2
             }
            },
            "type": "histogram"
           }
          ],
          "histogram2d": [
           {
            "colorbar": {
             "outlinewidth": 0,
             "ticks": ""
            },
            "colorscale": [
             [
              0,
              "#0d0887"
             ],
             [
              0.1111111111111111,
              "#46039f"
             ],
             [
              0.2222222222222222,
              "#7201a8"
             ],
             [
              0.3333333333333333,
              "#9c179e"
             ],
             [
              0.4444444444444444,
              "#bd3786"
             ],
             [
              0.5555555555555556,
              "#d8576b"
             ],
             [
              0.6666666666666666,
              "#ed7953"
             ],
             [
              0.7777777777777778,
              "#fb9f3a"
             ],
             [
              0.8888888888888888,
              "#fdca26"
             ],
             [
              1,
              "#f0f921"
             ]
            ],
            "type": "histogram2d"
           }
          ],
          "histogram2dcontour": [
           {
            "colorbar": {
             "outlinewidth": 0,
             "ticks": ""
            },
            "colorscale": [
             [
              0,
              "#0d0887"
             ],
             [
              0.1111111111111111,
              "#46039f"
             ],
             [
              0.2222222222222222,
              "#7201a8"
             ],
             [
              0.3333333333333333,
              "#9c179e"
             ],
             [
              0.4444444444444444,
              "#bd3786"
             ],
             [
              0.5555555555555556,
              "#d8576b"
             ],
             [
              0.6666666666666666,
              "#ed7953"
             ],
             [
              0.7777777777777778,
              "#fb9f3a"
             ],
             [
              0.8888888888888888,
              "#fdca26"
             ],
             [
              1,
              "#f0f921"
             ]
            ],
            "type": "histogram2dcontour"
           }
          ],
          "mesh3d": [
           {
            "colorbar": {
             "outlinewidth": 0,
             "ticks": ""
            },
            "type": "mesh3d"
           }
          ],
          "parcoords": [
           {
            "line": {
             "colorbar": {
              "outlinewidth": 0,
              "ticks": ""
             }
            },
            "type": "parcoords"
           }
          ],
          "pie": [
           {
            "automargin": true,
            "type": "pie"
           }
          ],
          "scatter": [
           {
            "fillpattern": {
             "fillmode": "overlay",
             "size": 10,
             "solidity": 0.2
            },
            "type": "scatter"
           }
          ],
          "scatter3d": [
           {
            "line": {
             "colorbar": {
              "outlinewidth": 0,
              "ticks": ""
             }
            },
            "marker": {
             "colorbar": {
              "outlinewidth": 0,
              "ticks": ""
             }
            },
            "type": "scatter3d"
           }
          ],
          "scattercarpet": [
           {
            "marker": {
             "colorbar": {
              "outlinewidth": 0,
              "ticks": ""
             }
            },
            "type": "scattercarpet"
           }
          ],
          "scattergeo": [
           {
            "marker": {
             "colorbar": {
              "outlinewidth": 0,
              "ticks": ""
             }
            },
            "type": "scattergeo"
           }
          ],
          "scattergl": [
           {
            "marker": {
             "colorbar": {
              "outlinewidth": 0,
              "ticks": ""
             }
            },
            "type": "scattergl"
           }
          ],
          "scattermapbox": [
           {
            "marker": {
             "colorbar": {
              "outlinewidth": 0,
              "ticks": ""
             }
            },
            "type": "scattermapbox"
           }
          ],
          "scatterpolar": [
           {
            "marker": {
             "colorbar": {
              "outlinewidth": 0,
              "ticks": ""
             }
            },
            "type": "scatterpolar"
           }
          ],
          "scatterpolargl": [
           {
            "marker": {
             "colorbar": {
              "outlinewidth": 0,
              "ticks": ""
             }
            },
            "type": "scatterpolargl"
           }
          ],
          "scatterternary": [
           {
            "marker": {
             "colorbar": {
              "outlinewidth": 0,
              "ticks": ""
             }
            },
            "type": "scatterternary"
           }
          ],
          "surface": [
           {
            "colorbar": {
             "outlinewidth": 0,
             "ticks": ""
            },
            "colorscale": [
             [
              0,
              "#0d0887"
             ],
             [
              0.1111111111111111,
              "#46039f"
             ],
             [
              0.2222222222222222,
              "#7201a8"
             ],
             [
              0.3333333333333333,
              "#9c179e"
             ],
             [
              0.4444444444444444,
              "#bd3786"
             ],
             [
              0.5555555555555556,
              "#d8576b"
             ],
             [
              0.6666666666666666,
              "#ed7953"
             ],
             [
              0.7777777777777778,
              "#fb9f3a"
             ],
             [
              0.8888888888888888,
              "#fdca26"
             ],
             [
              1,
              "#f0f921"
             ]
            ],
            "type": "surface"
           }
          ],
          "table": [
           {
            "cells": {
             "fill": {
              "color": "#EBF0F8"
             },
             "line": {
              "color": "white"
             }
            },
            "header": {
             "fill": {
              "color": "#C8D4E3"
             },
             "line": {
              "color": "white"
             }
            },
            "type": "table"
           }
          ]
         },
         "layout": {
          "annotationdefaults": {
           "arrowcolor": "#2a3f5f",
           "arrowhead": 0,
           "arrowwidth": 1
          },
          "autotypenumbers": "strict",
          "coloraxis": {
           "colorbar": {
            "outlinewidth": 0,
            "ticks": ""
           }
          },
          "colorscale": {
           "diverging": [
            [
             0,
             "#8e0152"
            ],
            [
             0.1,
             "#c51b7d"
            ],
            [
             0.2,
             "#de77ae"
            ],
            [
             0.3,
             "#f1b6da"
            ],
            [
             0.4,
             "#fde0ef"
            ],
            [
             0.5,
             "#f7f7f7"
            ],
            [
             0.6,
             "#e6f5d0"
            ],
            [
             0.7,
             "#b8e186"
            ],
            [
             0.8,
             "#7fbc41"
            ],
            [
             0.9,
             "#4d9221"
            ],
            [
             1,
             "#276419"
            ]
           ],
           "sequential": [
            [
             0,
             "#0d0887"
            ],
            [
             0.1111111111111111,
             "#46039f"
            ],
            [
             0.2222222222222222,
             "#7201a8"
            ],
            [
             0.3333333333333333,
             "#9c179e"
            ],
            [
             0.4444444444444444,
             "#bd3786"
            ],
            [
             0.5555555555555556,
             "#d8576b"
            ],
            [
             0.6666666666666666,
             "#ed7953"
            ],
            [
             0.7777777777777778,
             "#fb9f3a"
            ],
            [
             0.8888888888888888,
             "#fdca26"
            ],
            [
             1,
             "#f0f921"
            ]
           ],
           "sequentialminus": [
            [
             0,
             "#0d0887"
            ],
            [
             0.1111111111111111,
             "#46039f"
            ],
            [
             0.2222222222222222,
             "#7201a8"
            ],
            [
             0.3333333333333333,
             "#9c179e"
            ],
            [
             0.4444444444444444,
             "#bd3786"
            ],
            [
             0.5555555555555556,
             "#d8576b"
            ],
            [
             0.6666666666666666,
             "#ed7953"
            ],
            [
             0.7777777777777778,
             "#fb9f3a"
            ],
            [
             0.8888888888888888,
             "#fdca26"
            ],
            [
             1,
             "#f0f921"
            ]
           ]
          },
          "colorway": [
           "#636efa",
           "#EF553B",
           "#00cc96",
           "#ab63fa",
           "#FFA15A",
           "#19d3f3",
           "#FF6692",
           "#B6E880",
           "#FF97FF",
           "#FECB52"
          ],
          "font": {
           "color": "#2a3f5f"
          },
          "geo": {
           "bgcolor": "white",
           "lakecolor": "white",
           "landcolor": "#E5ECF6",
           "showlakes": true,
           "showland": true,
           "subunitcolor": "white"
          },
          "hoverlabel": {
           "align": "left"
          },
          "hovermode": "closest",
          "mapbox": {
           "style": "light"
          },
          "paper_bgcolor": "white",
          "plot_bgcolor": "#E5ECF6",
          "polar": {
           "angularaxis": {
            "gridcolor": "white",
            "linecolor": "white",
            "ticks": ""
           },
           "bgcolor": "#E5ECF6",
           "radialaxis": {
            "gridcolor": "white",
            "linecolor": "white",
            "ticks": ""
           }
          },
          "scene": {
           "xaxis": {
            "backgroundcolor": "#E5ECF6",
            "gridcolor": "white",
            "gridwidth": 2,
            "linecolor": "white",
            "showbackground": true,
            "ticks": "",
            "zerolinecolor": "white"
           },
           "yaxis": {
            "backgroundcolor": "#E5ECF6",
            "gridcolor": "white",
            "gridwidth": 2,
            "linecolor": "white",
            "showbackground": true,
            "ticks": "",
            "zerolinecolor": "white"
           },
           "zaxis": {
            "backgroundcolor": "#E5ECF6",
            "gridcolor": "white",
            "gridwidth": 2,
            "linecolor": "white",
            "showbackground": true,
            "ticks": "",
            "zerolinecolor": "white"
           }
          },
          "shapedefaults": {
           "line": {
            "color": "#2a3f5f"
           }
          },
          "ternary": {
           "aaxis": {
            "gridcolor": "white",
            "linecolor": "white",
            "ticks": ""
           },
           "baxis": {
            "gridcolor": "white",
            "linecolor": "white",
            "ticks": ""
           },
           "bgcolor": "#E5ECF6",
           "caxis": {
            "gridcolor": "white",
            "linecolor": "white",
            "ticks": ""
           }
          },
          "title": {
           "x": 0.05
          },
          "xaxis": {
           "automargin": true,
           "gridcolor": "white",
           "linecolor": "white",
           "ticks": "",
           "title": {
            "standoff": 15
           },
           "zerolinecolor": "white",
           "zerolinewidth": 2
          },
          "yaxis": {
           "automargin": true,
           "gridcolor": "white",
           "linecolor": "white",
           "ticks": "",
           "title": {
            "standoff": 15
           },
           "zerolinecolor": "white",
           "zerolinewidth": 2
          }
         }
        },
        "title": {
         "text": "Silhouette score"
        },
        "xaxis": {
         "anchor": "y",
         "domain": [
          0,
          1
         ],
         "title": {
          "text": "Number of clusters"
         }
        },
        "yaxis": {
         "anchor": "x",
         "domain": [
          0,
          1
         ],
         "title": {
          "text": "Silhouette score"
         }
        }
       }
      }
     },
     "metadata": {},
     "output_type": "display_data"
    }
   ],
   "source": [
    "fig=px.line(x=range_n_clusters,y=silhouette_score_list)\n",
    "fig.update_layout(\n",
    "    title=\"Silhouette score\",\n",
    "    xaxis_title=\"Number of clusters\",\n",
    "    yaxis_title=\"Silhouette score\",\n",
    "    legend_title=\"Silhouette score\",)\n",
    "fig.show()"
   ]
  },
  {
   "cell_type": "code",
   "execution_count": 43,
   "metadata": {},
   "outputs": [],
   "source": [
    "#Rename tu user_clustering?\n",
    "\n",
    "np.random.seed(10) #this is to ensure that we have consistency in the coloring/labels of the clustering!\n",
    "\n",
    "user_clustering_5 = 0\n",
    "user_clustering_4 = KMeans(4).fit(user_to_cat_first.values)\n",
    "user_clustering_5 = KMeans(5).fit(user_to_cat_first.values)"
   ]
  },
  {
   "cell_type": "code",
   "execution_count": 44,
   "metadata": {},
   "outputs": [
    {
     "name": "stdout",
     "output_type": "stream",
     "text": [
      "Number of users by cluster (k = 4)\n",
      "Counter({1: 394, 0: 239, 3: 196, 2: 141})\n",
      "Number of users by cluster (k = 5)\n",
      "Counter({2: 293, 4: 284, 3: 158, 0: 137, 1: 98})\n"
     ]
    }
   ],
   "source": [
    "count_4 = collections.Counter(user_clustering_4.labels_)\n",
    "print('Number of users by cluster (k = 4)')\n",
    "print(count_4)\n",
    "count_5 = collections.Counter(user_clustering_5.labels_)\n",
    "print('Number of users by cluster (k = 5)')\n",
    "print(count_5)"
   ]
  },
  {
   "cell_type": "code",
   "execution_count": 45,
   "metadata": {},
   "outputs": [
    {
     "data": {
      "text/html": [
       "<div>\n",
       "<style scoped>\n",
       "    .dataframe tbody tr th:only-of-type {\n",
       "        vertical-align: middle;\n",
       "    }\n",
       "\n",
       "    .dataframe tbody tr th {\n",
       "        vertical-align: top;\n",
       "    }\n",
       "\n",
       "    .dataframe thead th {\n",
       "        text-align: right;\n",
       "    }\n",
       "</style>\n",
       "<table border=\"1\" class=\"dataframe\">\n",
       "  <thead>\n",
       "    <tr style=\"text-align: right;\">\n",
       "      <th></th>\n",
       "      <th>0</th>\n",
       "      <th>1</th>\n",
       "      <th>2</th>\n",
       "      <th>3</th>\n",
       "    </tr>\n",
       "    <tr>\n",
       "      <th>category</th>\n",
       "      <th></th>\n",
       "      <th></th>\n",
       "      <th></th>\n",
       "      <th></th>\n",
       "    </tr>\n",
       "  </thead>\n",
       "  <tbody>\n",
       "    <tr>\n",
       "      <th>Bocks</th>\n",
       "      <td>0.598326</td>\n",
       "      <td>1.659898</td>\n",
       "      <td>1.794326</td>\n",
       "      <td>0.816327</td>\n",
       "    </tr>\n",
       "    <tr>\n",
       "      <th>Brown Ales</th>\n",
       "      <td>1.732218</td>\n",
       "      <td>3.281726</td>\n",
       "      <td>2.723404</td>\n",
       "      <td>2.505102</td>\n",
       "    </tr>\n",
       "    <tr>\n",
       "      <th>Dark Ales</th>\n",
       "      <td>0.615063</td>\n",
       "      <td>1.654822</td>\n",
       "      <td>1.425532</td>\n",
       "      <td>0.959184</td>\n",
       "    </tr>\n",
       "    <tr>\n",
       "      <th>Dark Lagers</th>\n",
       "      <td>0.548117</td>\n",
       "      <td>1.530457</td>\n",
       "      <td>3.347518</td>\n",
       "      <td>0.632653</td>\n",
       "    </tr>\n",
       "    <tr>\n",
       "      <th>Hybrid Beers</th>\n",
       "      <td>0.234310</td>\n",
       "      <td>0.337563</td>\n",
       "      <td>0.382979</td>\n",
       "      <td>0.280612</td>\n",
       "    </tr>\n",
       "    <tr>\n",
       "      <th>India Pale Ales</th>\n",
       "      <td>22.832636</td>\n",
       "      <td>8.192893</td>\n",
       "      <td>3.297872</td>\n",
       "      <td>9.872449</td>\n",
       "    </tr>\n",
       "    <tr>\n",
       "      <th>Pale Ales</th>\n",
       "      <td>7.468619</td>\n",
       "      <td>9.408629</td>\n",
       "      <td>7.780142</td>\n",
       "      <td>4.750000</td>\n",
       "    </tr>\n",
       "    <tr>\n",
       "      <th>Pale Lagers</th>\n",
       "      <td>2.012552</td>\n",
       "      <td>3.868020</td>\n",
       "      <td>13.624113</td>\n",
       "      <td>1.295918</td>\n",
       "    </tr>\n",
       "    <tr>\n",
       "      <th>Porters</th>\n",
       "      <td>1.351464</td>\n",
       "      <td>2.296954</td>\n",
       "      <td>1.560284</td>\n",
       "      <td>3.096939</td>\n",
       "    </tr>\n",
       "    <tr>\n",
       "      <th>Specialty Beer</th>\n",
       "      <td>1.221757</td>\n",
       "      <td>1.743655</td>\n",
       "      <td>1.418440</td>\n",
       "      <td>1.341837</td>\n",
       "    </tr>\n",
       "    <tr>\n",
       "      <th>Stouts</th>\n",
       "      <td>4.556485</td>\n",
       "      <td>5.119289</td>\n",
       "      <td>3.510638</td>\n",
       "      <td>15.147959</td>\n",
       "    </tr>\n",
       "    <tr>\n",
       "      <th>Strong Ales</th>\n",
       "      <td>4.075314</td>\n",
       "      <td>6.131980</td>\n",
       "      <td>3.950355</td>\n",
       "      <td>6.168367</td>\n",
       "    </tr>\n",
       "    <tr>\n",
       "      <th>Weird Cocktail</th>\n",
       "      <td>0.012552</td>\n",
       "      <td>0.063452</td>\n",
       "      <td>0.156028</td>\n",
       "      <td>0.076531</td>\n",
       "    </tr>\n",
       "    <tr>\n",
       "      <th>Wheat Beers</th>\n",
       "      <td>1.878661</td>\n",
       "      <td>3.619289</td>\n",
       "      <td>4.744681</td>\n",
       "      <td>1.551020</td>\n",
       "    </tr>\n",
       "    <tr>\n",
       "      <th>Wild/Sour Beers</th>\n",
       "      <td>0.861925</td>\n",
       "      <td>1.091371</td>\n",
       "      <td>0.283688</td>\n",
       "      <td>1.505102</td>\n",
       "    </tr>\n",
       "  </tbody>\n",
       "</table>\n",
       "</div>"
      ],
      "text/plain": [
       "                         0         1          2          3\n",
       "category                                                  \n",
       "Bocks             0.598326  1.659898   1.794326   0.816327\n",
       "Brown Ales        1.732218  3.281726   2.723404   2.505102\n",
       "Dark Ales         0.615063  1.654822   1.425532   0.959184\n",
       "Dark Lagers       0.548117  1.530457   3.347518   0.632653\n",
       "Hybrid Beers      0.234310  0.337563   0.382979   0.280612\n",
       "India Pale Ales  22.832636  8.192893   3.297872   9.872449\n",
       "Pale Ales         7.468619  9.408629   7.780142   4.750000\n",
       "Pale Lagers       2.012552  3.868020  13.624113   1.295918\n",
       "Porters           1.351464  2.296954   1.560284   3.096939\n",
       "Specialty Beer    1.221757  1.743655   1.418440   1.341837\n",
       "Stouts            4.556485  5.119289   3.510638  15.147959\n",
       "Strong Ales       4.075314  6.131980   3.950355   6.168367\n",
       "Weird Cocktail    0.012552  0.063452   0.156028   0.076531\n",
       "Wheat Beers       1.878661  3.619289   4.744681   1.551020\n",
       "Wild/Sour Beers   0.861925  1.091371   0.283688   1.505102"
      ]
     },
     "execution_count": 45,
     "metadata": {},
     "output_type": "execute_result"
    }
   ],
   "source": [
    "df_cluster_beer_4 = pd.DataFrame(user_clustering_4.cluster_centers_.T)\n",
    "df_cluster_beer_4.index = user_to_cat_first.columns\n",
    "df_cluster_beer_4"
   ]
  },
  {
   "cell_type": "code",
   "execution_count": 46,
   "metadata": {},
   "outputs": [
    {
     "data": {
      "text/html": [
       "<div>\n",
       "<style scoped>\n",
       "    .dataframe tbody tr th:only-of-type {\n",
       "        vertical-align: middle;\n",
       "    }\n",
       "\n",
       "    .dataframe tbody tr th {\n",
       "        vertical-align: top;\n",
       "    }\n",
       "\n",
       "    .dataframe thead th {\n",
       "        text-align: right;\n",
       "    }\n",
       "</style>\n",
       "<table border=\"1\" class=\"dataframe\">\n",
       "  <thead>\n",
       "    <tr style=\"text-align: right;\">\n",
       "      <th></th>\n",
       "      <th>category</th>\n",
       "      <th>cluster</th>\n",
       "      <th>Number of beer</th>\n",
       "    </tr>\n",
       "  </thead>\n",
       "  <tbody>\n",
       "    <tr>\n",
       "      <th>0</th>\n",
       "      <td>Bocks</td>\n",
       "      <td>0</td>\n",
       "      <td>0.598326</td>\n",
       "    </tr>\n",
       "    <tr>\n",
       "      <th>1</th>\n",
       "      <td>Brown Ales</td>\n",
       "      <td>0</td>\n",
       "      <td>1.732218</td>\n",
       "    </tr>\n",
       "    <tr>\n",
       "      <th>2</th>\n",
       "      <td>Dark Ales</td>\n",
       "      <td>0</td>\n",
       "      <td>0.615063</td>\n",
       "    </tr>\n",
       "    <tr>\n",
       "      <th>3</th>\n",
       "      <td>Dark Lagers</td>\n",
       "      <td>0</td>\n",
       "      <td>0.548117</td>\n",
       "    </tr>\n",
       "    <tr>\n",
       "      <th>4</th>\n",
       "      <td>Hybrid Beers</td>\n",
       "      <td>0</td>\n",
       "      <td>0.234310</td>\n",
       "    </tr>\n",
       "    <tr>\n",
       "      <th>5</th>\n",
       "      <td>India Pale Ales</td>\n",
       "      <td>0</td>\n",
       "      <td>22.832636</td>\n",
       "    </tr>\n",
       "    <tr>\n",
       "      <th>6</th>\n",
       "      <td>Pale Ales</td>\n",
       "      <td>0</td>\n",
       "      <td>7.468619</td>\n",
       "    </tr>\n",
       "    <tr>\n",
       "      <th>7</th>\n",
       "      <td>Pale Lagers</td>\n",
       "      <td>0</td>\n",
       "      <td>2.012552</td>\n",
       "    </tr>\n",
       "    <tr>\n",
       "      <th>8</th>\n",
       "      <td>Porters</td>\n",
       "      <td>0</td>\n",
       "      <td>1.351464</td>\n",
       "    </tr>\n",
       "    <tr>\n",
       "      <th>9</th>\n",
       "      <td>Specialty Beer</td>\n",
       "      <td>0</td>\n",
       "      <td>1.221757</td>\n",
       "    </tr>\n",
       "    <tr>\n",
       "      <th>10</th>\n",
       "      <td>Stouts</td>\n",
       "      <td>0</td>\n",
       "      <td>4.556485</td>\n",
       "    </tr>\n",
       "    <tr>\n",
       "      <th>11</th>\n",
       "      <td>Strong Ales</td>\n",
       "      <td>0</td>\n",
       "      <td>4.075314</td>\n",
       "    </tr>\n",
       "    <tr>\n",
       "      <th>12</th>\n",
       "      <td>Weird Cocktail</td>\n",
       "      <td>0</td>\n",
       "      <td>0.012552</td>\n",
       "    </tr>\n",
       "    <tr>\n",
       "      <th>13</th>\n",
       "      <td>Wheat Beers</td>\n",
       "      <td>0</td>\n",
       "      <td>1.878661</td>\n",
       "    </tr>\n",
       "    <tr>\n",
       "      <th>14</th>\n",
       "      <td>Wild/Sour Beers</td>\n",
       "      <td>0</td>\n",
       "      <td>0.861925</td>\n",
       "    </tr>\n",
       "    <tr>\n",
       "      <th>15</th>\n",
       "      <td>Bocks</td>\n",
       "      <td>1</td>\n",
       "      <td>1.659898</td>\n",
       "    </tr>\n",
       "    <tr>\n",
       "      <th>16</th>\n",
       "      <td>Brown Ales</td>\n",
       "      <td>1</td>\n",
       "      <td>3.281726</td>\n",
       "    </tr>\n",
       "    <tr>\n",
       "      <th>17</th>\n",
       "      <td>Dark Ales</td>\n",
       "      <td>1</td>\n",
       "      <td>1.654822</td>\n",
       "    </tr>\n",
       "    <tr>\n",
       "      <th>18</th>\n",
       "      <td>Dark Lagers</td>\n",
       "      <td>1</td>\n",
       "      <td>1.530457</td>\n",
       "    </tr>\n",
       "    <tr>\n",
       "      <th>19</th>\n",
       "      <td>Hybrid Beers</td>\n",
       "      <td>1</td>\n",
       "      <td>0.337563</td>\n",
       "    </tr>\n",
       "    <tr>\n",
       "      <th>20</th>\n",
       "      <td>India Pale Ales</td>\n",
       "      <td>1</td>\n",
       "      <td>8.192893</td>\n",
       "    </tr>\n",
       "    <tr>\n",
       "      <th>21</th>\n",
       "      <td>Pale Ales</td>\n",
       "      <td>1</td>\n",
       "      <td>9.408629</td>\n",
       "    </tr>\n",
       "    <tr>\n",
       "      <th>22</th>\n",
       "      <td>Pale Lagers</td>\n",
       "      <td>1</td>\n",
       "      <td>3.868020</td>\n",
       "    </tr>\n",
       "    <tr>\n",
       "      <th>23</th>\n",
       "      <td>Porters</td>\n",
       "      <td>1</td>\n",
       "      <td>2.296954</td>\n",
       "    </tr>\n",
       "    <tr>\n",
       "      <th>24</th>\n",
       "      <td>Specialty Beer</td>\n",
       "      <td>1</td>\n",
       "      <td>1.743655</td>\n",
       "    </tr>\n",
       "    <tr>\n",
       "      <th>25</th>\n",
       "      <td>Stouts</td>\n",
       "      <td>1</td>\n",
       "      <td>5.119289</td>\n",
       "    </tr>\n",
       "    <tr>\n",
       "      <th>26</th>\n",
       "      <td>Strong Ales</td>\n",
       "      <td>1</td>\n",
       "      <td>6.131980</td>\n",
       "    </tr>\n",
       "    <tr>\n",
       "      <th>27</th>\n",
       "      <td>Weird Cocktail</td>\n",
       "      <td>1</td>\n",
       "      <td>0.063452</td>\n",
       "    </tr>\n",
       "    <tr>\n",
       "      <th>28</th>\n",
       "      <td>Wheat Beers</td>\n",
       "      <td>1</td>\n",
       "      <td>3.619289</td>\n",
       "    </tr>\n",
       "    <tr>\n",
       "      <th>29</th>\n",
       "      <td>Wild/Sour Beers</td>\n",
       "      <td>1</td>\n",
       "      <td>1.091371</td>\n",
       "    </tr>\n",
       "    <tr>\n",
       "      <th>30</th>\n",
       "      <td>Bocks</td>\n",
       "      <td>2</td>\n",
       "      <td>1.794326</td>\n",
       "    </tr>\n",
       "    <tr>\n",
       "      <th>31</th>\n",
       "      <td>Brown Ales</td>\n",
       "      <td>2</td>\n",
       "      <td>2.723404</td>\n",
       "    </tr>\n",
       "    <tr>\n",
       "      <th>32</th>\n",
       "      <td>Dark Ales</td>\n",
       "      <td>2</td>\n",
       "      <td>1.425532</td>\n",
       "    </tr>\n",
       "    <tr>\n",
       "      <th>33</th>\n",
       "      <td>Dark Lagers</td>\n",
       "      <td>2</td>\n",
       "      <td>3.347518</td>\n",
       "    </tr>\n",
       "    <tr>\n",
       "      <th>34</th>\n",
       "      <td>Hybrid Beers</td>\n",
       "      <td>2</td>\n",
       "      <td>0.382979</td>\n",
       "    </tr>\n",
       "    <tr>\n",
       "      <th>35</th>\n",
       "      <td>India Pale Ales</td>\n",
       "      <td>2</td>\n",
       "      <td>3.297872</td>\n",
       "    </tr>\n",
       "    <tr>\n",
       "      <th>36</th>\n",
       "      <td>Pale Ales</td>\n",
       "      <td>2</td>\n",
       "      <td>7.780142</td>\n",
       "    </tr>\n",
       "    <tr>\n",
       "      <th>37</th>\n",
       "      <td>Pale Lagers</td>\n",
       "      <td>2</td>\n",
       "      <td>13.624113</td>\n",
       "    </tr>\n",
       "    <tr>\n",
       "      <th>38</th>\n",
       "      <td>Porters</td>\n",
       "      <td>2</td>\n",
       "      <td>1.560284</td>\n",
       "    </tr>\n",
       "    <tr>\n",
       "      <th>39</th>\n",
       "      <td>Specialty Beer</td>\n",
       "      <td>2</td>\n",
       "      <td>1.418440</td>\n",
       "    </tr>\n",
       "    <tr>\n",
       "      <th>40</th>\n",
       "      <td>Stouts</td>\n",
       "      <td>2</td>\n",
       "      <td>3.510638</td>\n",
       "    </tr>\n",
       "    <tr>\n",
       "      <th>41</th>\n",
       "      <td>Strong Ales</td>\n",
       "      <td>2</td>\n",
       "      <td>3.950355</td>\n",
       "    </tr>\n",
       "    <tr>\n",
       "      <th>42</th>\n",
       "      <td>Weird Cocktail</td>\n",
       "      <td>2</td>\n",
       "      <td>0.156028</td>\n",
       "    </tr>\n",
       "    <tr>\n",
       "      <th>43</th>\n",
       "      <td>Wheat Beers</td>\n",
       "      <td>2</td>\n",
       "      <td>4.744681</td>\n",
       "    </tr>\n",
       "    <tr>\n",
       "      <th>44</th>\n",
       "      <td>Wild/Sour Beers</td>\n",
       "      <td>2</td>\n",
       "      <td>0.283688</td>\n",
       "    </tr>\n",
       "    <tr>\n",
       "      <th>45</th>\n",
       "      <td>Bocks</td>\n",
       "      <td>3</td>\n",
       "      <td>0.816327</td>\n",
       "    </tr>\n",
       "    <tr>\n",
       "      <th>46</th>\n",
       "      <td>Brown Ales</td>\n",
       "      <td>3</td>\n",
       "      <td>2.505102</td>\n",
       "    </tr>\n",
       "    <tr>\n",
       "      <th>47</th>\n",
       "      <td>Dark Ales</td>\n",
       "      <td>3</td>\n",
       "      <td>0.959184</td>\n",
       "    </tr>\n",
       "    <tr>\n",
       "      <th>48</th>\n",
       "      <td>Dark Lagers</td>\n",
       "      <td>3</td>\n",
       "      <td>0.632653</td>\n",
       "    </tr>\n",
       "    <tr>\n",
       "      <th>49</th>\n",
       "      <td>Hybrid Beers</td>\n",
       "      <td>3</td>\n",
       "      <td>0.280612</td>\n",
       "    </tr>\n",
       "    <tr>\n",
       "      <th>50</th>\n",
       "      <td>India Pale Ales</td>\n",
       "      <td>3</td>\n",
       "      <td>9.872449</td>\n",
       "    </tr>\n",
       "    <tr>\n",
       "      <th>51</th>\n",
       "      <td>Pale Ales</td>\n",
       "      <td>3</td>\n",
       "      <td>4.750000</td>\n",
       "    </tr>\n",
       "    <tr>\n",
       "      <th>52</th>\n",
       "      <td>Pale Lagers</td>\n",
       "      <td>3</td>\n",
       "      <td>1.295918</td>\n",
       "    </tr>\n",
       "    <tr>\n",
       "      <th>53</th>\n",
       "      <td>Porters</td>\n",
       "      <td>3</td>\n",
       "      <td>3.096939</td>\n",
       "    </tr>\n",
       "    <tr>\n",
       "      <th>54</th>\n",
       "      <td>Specialty Beer</td>\n",
       "      <td>3</td>\n",
       "      <td>1.341837</td>\n",
       "    </tr>\n",
       "    <tr>\n",
       "      <th>55</th>\n",
       "      <td>Stouts</td>\n",
       "      <td>3</td>\n",
       "      <td>15.147959</td>\n",
       "    </tr>\n",
       "    <tr>\n",
       "      <th>56</th>\n",
       "      <td>Strong Ales</td>\n",
       "      <td>3</td>\n",
       "      <td>6.168367</td>\n",
       "    </tr>\n",
       "    <tr>\n",
       "      <th>57</th>\n",
       "      <td>Weird Cocktail</td>\n",
       "      <td>3</td>\n",
       "      <td>0.076531</td>\n",
       "    </tr>\n",
       "    <tr>\n",
       "      <th>58</th>\n",
       "      <td>Wheat Beers</td>\n",
       "      <td>3</td>\n",
       "      <td>1.551020</td>\n",
       "    </tr>\n",
       "    <tr>\n",
       "      <th>59</th>\n",
       "      <td>Wild/Sour Beers</td>\n",
       "      <td>3</td>\n",
       "      <td>1.505102</td>\n",
       "    </tr>\n",
       "  </tbody>\n",
       "</table>\n",
       "</div>"
      ],
      "text/plain": [
       "           category cluster  Number of beer\n",
       "0             Bocks       0        0.598326\n",
       "1        Brown Ales       0        1.732218\n",
       "2         Dark Ales       0        0.615063\n",
       "3       Dark Lagers       0        0.548117\n",
       "4      Hybrid Beers       0        0.234310\n",
       "5   India Pale Ales       0       22.832636\n",
       "6         Pale Ales       0        7.468619\n",
       "7       Pale Lagers       0        2.012552\n",
       "8           Porters       0        1.351464\n",
       "9    Specialty Beer       0        1.221757\n",
       "10           Stouts       0        4.556485\n",
       "11      Strong Ales       0        4.075314\n",
       "12   Weird Cocktail       0        0.012552\n",
       "13      Wheat Beers       0        1.878661\n",
       "14  Wild/Sour Beers       0        0.861925\n",
       "15            Bocks       1        1.659898\n",
       "16       Brown Ales       1        3.281726\n",
       "17        Dark Ales       1        1.654822\n",
       "18      Dark Lagers       1        1.530457\n",
       "19     Hybrid Beers       1        0.337563\n",
       "20  India Pale Ales       1        8.192893\n",
       "21        Pale Ales       1        9.408629\n",
       "22      Pale Lagers       1        3.868020\n",
       "23          Porters       1        2.296954\n",
       "24   Specialty Beer       1        1.743655\n",
       "25           Stouts       1        5.119289\n",
       "26      Strong Ales       1        6.131980\n",
       "27   Weird Cocktail       1        0.063452\n",
       "28      Wheat Beers       1        3.619289\n",
       "29  Wild/Sour Beers       1        1.091371\n",
       "30            Bocks       2        1.794326\n",
       "31       Brown Ales       2        2.723404\n",
       "32        Dark Ales       2        1.425532\n",
       "33      Dark Lagers       2        3.347518\n",
       "34     Hybrid Beers       2        0.382979\n",
       "35  India Pale Ales       2        3.297872\n",
       "36        Pale Ales       2        7.780142\n",
       "37      Pale Lagers       2       13.624113\n",
       "38          Porters       2        1.560284\n",
       "39   Specialty Beer       2        1.418440\n",
       "40           Stouts       2        3.510638\n",
       "41      Strong Ales       2        3.950355\n",
       "42   Weird Cocktail       2        0.156028\n",
       "43      Wheat Beers       2        4.744681\n",
       "44  Wild/Sour Beers       2        0.283688\n",
       "45            Bocks       3        0.816327\n",
       "46       Brown Ales       3        2.505102\n",
       "47        Dark Ales       3        0.959184\n",
       "48      Dark Lagers       3        0.632653\n",
       "49     Hybrid Beers       3        0.280612\n",
       "50  India Pale Ales       3        9.872449\n",
       "51        Pale Ales       3        4.750000\n",
       "52      Pale Lagers       3        1.295918\n",
       "53          Porters       3        3.096939\n",
       "54   Specialty Beer       3        1.341837\n",
       "55           Stouts       3       15.147959\n",
       "56      Strong Ales       3        6.168367\n",
       "57   Weird Cocktail       3        0.076531\n",
       "58      Wheat Beers       3        1.551020\n",
       "59  Wild/Sour Beers       3        1.505102"
      ]
     },
     "execution_count": 46,
     "metadata": {},
     "output_type": "execute_result"
    }
   ],
   "source": [
    "#Display 4 clusters\n",
    "\n",
    "df_cluster_beer_4[\"category\"] = df_cluster_beer_4.index\n",
    "df_cluster_beer_4 = pd.melt(df_cluster_beer_4, id_vars=[\"category\"], value_vars=[0,1,2,3])\n",
    "df_cluster_beer_4.columns = [\"category\", \"cluster\", \"Number of beer\"]\n",
    "df_cluster_beer_4"
   ]
  },
  {
   "cell_type": "code",
   "execution_count": 47,
   "metadata": {},
   "outputs": [
    {
     "data": {
      "text/html": [
       "<div>\n",
       "<style scoped>\n",
       "    .dataframe tbody tr th:only-of-type {\n",
       "        vertical-align: middle;\n",
       "    }\n",
       "\n",
       "    .dataframe tbody tr th {\n",
       "        vertical-align: top;\n",
       "    }\n",
       "\n",
       "    .dataframe thead th {\n",
       "        text-align: right;\n",
       "    }\n",
       "</style>\n",
       "<table border=\"1\" class=\"dataframe\">\n",
       "  <thead>\n",
       "    <tr style=\"text-align: right;\">\n",
       "      <th></th>\n",
       "      <th>category</th>\n",
       "      <th>cluster</th>\n",
       "      <th>Number of beer</th>\n",
       "    </tr>\n",
       "  </thead>\n",
       "  <tbody>\n",
       "    <tr>\n",
       "      <th>0</th>\n",
       "      <td>Bocks</td>\n",
       "      <td>0</td>\n",
       "      <td>0.372263</td>\n",
       "    </tr>\n",
       "    <tr>\n",
       "      <th>1</th>\n",
       "      <td>Brown Ales</td>\n",
       "      <td>0</td>\n",
       "      <td>1.291971</td>\n",
       "    </tr>\n",
       "    <tr>\n",
       "      <th>2</th>\n",
       "      <td>Dark Ales</td>\n",
       "      <td>0</td>\n",
       "      <td>0.430657</td>\n",
       "    </tr>\n",
       "    <tr>\n",
       "      <th>3</th>\n",
       "      <td>Dark Lagers</td>\n",
       "      <td>0</td>\n",
       "      <td>0.489051</td>\n",
       "    </tr>\n",
       "    <tr>\n",
       "      <th>4</th>\n",
       "      <td>Hybrid Beers</td>\n",
       "      <td>0</td>\n",
       "      <td>0.197080</td>\n",
       "    </tr>\n",
       "    <tr>\n",
       "      <th>...</th>\n",
       "      <td>...</td>\n",
       "      <td>...</td>\n",
       "      <td>...</td>\n",
       "    </tr>\n",
       "    <tr>\n",
       "      <th>70</th>\n",
       "      <td>Stouts</td>\n",
       "      <td>4</td>\n",
       "      <td>5.531690</td>\n",
       "    </tr>\n",
       "    <tr>\n",
       "      <th>71</th>\n",
       "      <td>Strong Ales</td>\n",
       "      <td>4</td>\n",
       "      <td>6.718310</td>\n",
       "    </tr>\n",
       "    <tr>\n",
       "      <th>72</th>\n",
       "      <td>Weird Cocktail</td>\n",
       "      <td>4</td>\n",
       "      <td>0.088028</td>\n",
       "    </tr>\n",
       "    <tr>\n",
       "      <th>73</th>\n",
       "      <td>Wheat Beers</td>\n",
       "      <td>4</td>\n",
       "      <td>4.007042</td>\n",
       "    </tr>\n",
       "    <tr>\n",
       "      <th>74</th>\n",
       "      <td>Wild/Sour Beers</td>\n",
       "      <td>4</td>\n",
       "      <td>1.066901</td>\n",
       "    </tr>\n",
       "  </tbody>\n",
       "</table>\n",
       "<p>75 rows × 3 columns</p>\n",
       "</div>"
      ],
      "text/plain": [
       "           category cluster  Number of beer\n",
       "0             Bocks       0        0.372263\n",
       "1        Brown Ales       0        1.291971\n",
       "2         Dark Ales       0        0.430657\n",
       "3       Dark Lagers       0        0.489051\n",
       "4      Hybrid Beers       0        0.197080\n",
       "..              ...     ...             ...\n",
       "70           Stouts       4        5.531690\n",
       "71      Strong Ales       4        6.718310\n",
       "72   Weird Cocktail       4        0.088028\n",
       "73      Wheat Beers       4        4.007042\n",
       "74  Wild/Sour Beers       4        1.066901\n",
       "\n",
       "[75 rows x 3 columns]"
      ]
     },
     "execution_count": 47,
     "metadata": {},
     "output_type": "execute_result"
    }
   ],
   "source": [
    "#display 5 clusters\n",
    "df_cluster_beer_5 = pd.DataFrame(user_clustering_5.cluster_centers_.T)\n",
    "df_cluster_beer_5.index = user_to_cat_first.columns\n",
    "df_cluster_beer_5[\"category\"] = df_cluster_beer_5.index\n",
    "df_cluster_beer_5 = pd.melt(df_cluster_beer_5, id_vars=[\"category\"], value_vars=[0,1,2,3,4])\n",
    "df_cluster_beer_5.columns = [\"category\", \"cluster\", \"Number of beer\"]\n",
    "df_cluster_beer_5"
   ]
  },
  {
   "cell_type": "code",
   "execution_count": 48,
   "metadata": {},
   "outputs": [
    {
     "data": {
      "application/vnd.plotly.v1+json": {
       "config": {
        "plotlyServerURL": "https://plot.ly"
       },
       "data": [
        {
         "hovertemplate": "cluster=0<br>category=%{x}<br>Number of beer=%{y}<extra></extra>",
         "legendgroup": "0",
         "line": {
          "color": "#636efa",
          "dash": "solid"
         },
         "marker": {
          "symbol": "circle"
         },
         "mode": "lines",
         "name": "0",
         "orientation": "v",
         "showlegend": true,
         "type": "scatter",
         "x": [
          "Bocks",
          "Brown Ales",
          "Dark Ales",
          "Dark Lagers",
          "Hybrid Beers",
          "India Pale Ales",
          "Pale Ales",
          "Pale Lagers",
          "Porters",
          "Specialty Beer",
          "Stouts",
          "Strong Ales",
          "Weird Cocktail",
          "Wheat Beers",
          "Wild/Sour Beers"
         ],
         "xaxis": "x",
         "y": [
          0.5983263598326368,
          1.7322175732217566,
          0.6150627615062763,
          0.5481171548117162,
          0.2343096234309624,
          22.83263598326361,
          7.468619246861924,
          2.0125523012552287,
          1.351464435146444,
          1.2217573221757325,
          4.556485355648537,
          4.07531380753138,
          0.01255230125523004,
          1.8786610878661099,
          0.8619246861924685
         ],
         "yaxis": "y"
        },
        {
         "hovertemplate": "cluster=1<br>category=%{x}<br>Number of beer=%{y}<extra></extra>",
         "legendgroup": "1",
         "line": {
          "color": "#EF553B",
          "dash": "solid"
         },
         "marker": {
          "symbol": "circle"
         },
         "mode": "lines",
         "name": "1",
         "orientation": "v",
         "showlegend": true,
         "type": "scatter",
         "x": [
          "Bocks",
          "Brown Ales",
          "Dark Ales",
          "Dark Lagers",
          "Hybrid Beers",
          "India Pale Ales",
          "Pale Ales",
          "Pale Lagers",
          "Porters",
          "Specialty Beer",
          "Stouts",
          "Strong Ales",
          "Weird Cocktail",
          "Wheat Beers",
          "Wild/Sour Beers"
         ],
         "xaxis": "x",
         "y": [
          1.659898477157361,
          3.281725888324872,
          1.6548223350253808,
          1.530456852791878,
          0.33756345177664976,
          8.192893401015231,
          9.408629441624365,
          3.868020304568528,
          2.296954314720812,
          1.7436548223350263,
          5.119289340101524,
          6.131979695431471,
          0.0634517766497462,
          3.619289340101523,
          1.091370558375634
         ],
         "yaxis": "y"
        },
        {
         "hovertemplate": "cluster=2<br>category=%{x}<br>Number of beer=%{y}<extra></extra>",
         "legendgroup": "2",
         "line": {
          "color": "#00cc96",
          "dash": "solid"
         },
         "marker": {
          "symbol": "circle"
         },
         "mode": "lines",
         "name": "2",
         "orientation": "v",
         "showlegend": true,
         "type": "scatter",
         "x": [
          "Bocks",
          "Brown Ales",
          "Dark Ales",
          "Dark Lagers",
          "Hybrid Beers",
          "India Pale Ales",
          "Pale Ales",
          "Pale Lagers",
          "Porters",
          "Specialty Beer",
          "Stouts",
          "Strong Ales",
          "Weird Cocktail",
          "Wheat Beers",
          "Wild/Sour Beers"
         ],
         "xaxis": "x",
         "y": [
          1.7943262411347523,
          2.723404255319149,
          1.425531914893617,
          3.3475177304964547,
          0.3829787234042553,
          3.297872340425533,
          7.780141843971631,
          13.62411347517731,
          1.5602836879432624,
          1.4184397163120568,
          3.510638297872343,
          3.950354609929078,
          0.15602836879432622,
          4.74468085106383,
          0.28368794326241065
         ],
         "yaxis": "y"
        },
        {
         "hovertemplate": "cluster=3<br>category=%{x}<br>Number of beer=%{y}<extra></extra>",
         "legendgroup": "3",
         "line": {
          "color": "#ab63fa",
          "dash": "solid"
         },
         "marker": {
          "symbol": "circle"
         },
         "mode": "lines",
         "name": "3",
         "orientation": "v",
         "showlegend": true,
         "type": "scatter",
         "x": [
          "Bocks",
          "Brown Ales",
          "Dark Ales",
          "Dark Lagers",
          "Hybrid Beers",
          "India Pale Ales",
          "Pale Ales",
          "Pale Lagers",
          "Porters",
          "Specialty Beer",
          "Stouts",
          "Strong Ales",
          "Weird Cocktail",
          "Wheat Beers",
          "Wild/Sour Beers"
         ],
         "xaxis": "x",
         "y": [
          0.8163265306122455,
          2.5051020408163267,
          0.9591836734693882,
          0.6326530612244905,
          0.2806122448979592,
          9.872448979591834,
          4.75,
          1.295918367346938,
          3.0969387755102042,
          1.3418367346938775,
          15.147959183673475,
          6.1683673469387745,
          0.07653061224489796,
          1.5510204081632657,
          1.5051020408163258
         ],
         "yaxis": "y"
        }
       ],
       "layout": {
        "legend": {
         "title": {
          "text": "cluster"
         },
         "tracegroupgap": 0
        },
        "template": {
         "data": {
          "bar": [
           {
            "error_x": {
             "color": "#2a3f5f"
            },
            "error_y": {
             "color": "#2a3f5f"
            },
            "marker": {
             "line": {
              "color": "#E5ECF6",
              "width": 0.5
             },
             "pattern": {
              "fillmode": "overlay",
              "size": 10,
              "solidity": 0.2
             }
            },
            "type": "bar"
           }
          ],
          "barpolar": [
           {
            "marker": {
             "line": {
              "color": "#E5ECF6",
              "width": 0.5
             },
             "pattern": {
              "fillmode": "overlay",
              "size": 10,
              "solidity": 0.2
             }
            },
            "type": "barpolar"
           }
          ],
          "carpet": [
           {
            "aaxis": {
             "endlinecolor": "#2a3f5f",
             "gridcolor": "white",
             "linecolor": "white",
             "minorgridcolor": "white",
             "startlinecolor": "#2a3f5f"
            },
            "baxis": {
             "endlinecolor": "#2a3f5f",
             "gridcolor": "white",
             "linecolor": "white",
             "minorgridcolor": "white",
             "startlinecolor": "#2a3f5f"
            },
            "type": "carpet"
           }
          ],
          "choropleth": [
           {
            "colorbar": {
             "outlinewidth": 0,
             "ticks": ""
            },
            "type": "choropleth"
           }
          ],
          "contour": [
           {
            "colorbar": {
             "outlinewidth": 0,
             "ticks": ""
            },
            "colorscale": [
             [
              0,
              "#0d0887"
             ],
             [
              0.1111111111111111,
              "#46039f"
             ],
             [
              0.2222222222222222,
              "#7201a8"
             ],
             [
              0.3333333333333333,
              "#9c179e"
             ],
             [
              0.4444444444444444,
              "#bd3786"
             ],
             [
              0.5555555555555556,
              "#d8576b"
             ],
             [
              0.6666666666666666,
              "#ed7953"
             ],
             [
              0.7777777777777778,
              "#fb9f3a"
             ],
             [
              0.8888888888888888,
              "#fdca26"
             ],
             [
              1,
              "#f0f921"
             ]
            ],
            "type": "contour"
           }
          ],
          "contourcarpet": [
           {
            "colorbar": {
             "outlinewidth": 0,
             "ticks": ""
            },
            "type": "contourcarpet"
           }
          ],
          "heatmap": [
           {
            "colorbar": {
             "outlinewidth": 0,
             "ticks": ""
            },
            "colorscale": [
             [
              0,
              "#0d0887"
             ],
             [
              0.1111111111111111,
              "#46039f"
             ],
             [
              0.2222222222222222,
              "#7201a8"
             ],
             [
              0.3333333333333333,
              "#9c179e"
             ],
             [
              0.4444444444444444,
              "#bd3786"
             ],
             [
              0.5555555555555556,
              "#d8576b"
             ],
             [
              0.6666666666666666,
              "#ed7953"
             ],
             [
              0.7777777777777778,
              "#fb9f3a"
             ],
             [
              0.8888888888888888,
              "#fdca26"
             ],
             [
              1,
              "#f0f921"
             ]
            ],
            "type": "heatmap"
           }
          ],
          "heatmapgl": [
           {
            "colorbar": {
             "outlinewidth": 0,
             "ticks": ""
            },
            "colorscale": [
             [
              0,
              "#0d0887"
             ],
             [
              0.1111111111111111,
              "#46039f"
             ],
             [
              0.2222222222222222,
              "#7201a8"
             ],
             [
              0.3333333333333333,
              "#9c179e"
             ],
             [
              0.4444444444444444,
              "#bd3786"
             ],
             [
              0.5555555555555556,
              "#d8576b"
             ],
             [
              0.6666666666666666,
              "#ed7953"
             ],
             [
              0.7777777777777778,
              "#fb9f3a"
             ],
             [
              0.8888888888888888,
              "#fdca26"
             ],
             [
              1,
              "#f0f921"
             ]
            ],
            "type": "heatmapgl"
           }
          ],
          "histogram": [
           {
            "marker": {
             "pattern": {
              "fillmode": "overlay",
              "size": 10,
              "solidity": 0.2
             }
            },
            "type": "histogram"
           }
          ],
          "histogram2d": [
           {
            "colorbar": {
             "outlinewidth": 0,
             "ticks": ""
            },
            "colorscale": [
             [
              0,
              "#0d0887"
             ],
             [
              0.1111111111111111,
              "#46039f"
             ],
             [
              0.2222222222222222,
              "#7201a8"
             ],
             [
              0.3333333333333333,
              "#9c179e"
             ],
             [
              0.4444444444444444,
              "#bd3786"
             ],
             [
              0.5555555555555556,
              "#d8576b"
             ],
             [
              0.6666666666666666,
              "#ed7953"
             ],
             [
              0.7777777777777778,
              "#fb9f3a"
             ],
             [
              0.8888888888888888,
              "#fdca26"
             ],
             [
              1,
              "#f0f921"
             ]
            ],
            "type": "histogram2d"
           }
          ],
          "histogram2dcontour": [
           {
            "colorbar": {
             "outlinewidth": 0,
             "ticks": ""
            },
            "colorscale": [
             [
              0,
              "#0d0887"
             ],
             [
              0.1111111111111111,
              "#46039f"
             ],
             [
              0.2222222222222222,
              "#7201a8"
             ],
             [
              0.3333333333333333,
              "#9c179e"
             ],
             [
              0.4444444444444444,
              "#bd3786"
             ],
             [
              0.5555555555555556,
              "#d8576b"
             ],
             [
              0.6666666666666666,
              "#ed7953"
             ],
             [
              0.7777777777777778,
              "#fb9f3a"
             ],
             [
              0.8888888888888888,
              "#fdca26"
             ],
             [
              1,
              "#f0f921"
             ]
            ],
            "type": "histogram2dcontour"
           }
          ],
          "mesh3d": [
           {
            "colorbar": {
             "outlinewidth": 0,
             "ticks": ""
            },
            "type": "mesh3d"
           }
          ],
          "parcoords": [
           {
            "line": {
             "colorbar": {
              "outlinewidth": 0,
              "ticks": ""
             }
            },
            "type": "parcoords"
           }
          ],
          "pie": [
           {
            "automargin": true,
            "type": "pie"
           }
          ],
          "scatter": [
           {
            "fillpattern": {
             "fillmode": "overlay",
             "size": 10,
             "solidity": 0.2
            },
            "type": "scatter"
           }
          ],
          "scatter3d": [
           {
            "line": {
             "colorbar": {
              "outlinewidth": 0,
              "ticks": ""
             }
            },
            "marker": {
             "colorbar": {
              "outlinewidth": 0,
              "ticks": ""
             }
            },
            "type": "scatter3d"
           }
          ],
          "scattercarpet": [
           {
            "marker": {
             "colorbar": {
              "outlinewidth": 0,
              "ticks": ""
             }
            },
            "type": "scattercarpet"
           }
          ],
          "scattergeo": [
           {
            "marker": {
             "colorbar": {
              "outlinewidth": 0,
              "ticks": ""
             }
            },
            "type": "scattergeo"
           }
          ],
          "scattergl": [
           {
            "marker": {
             "colorbar": {
              "outlinewidth": 0,
              "ticks": ""
             }
            },
            "type": "scattergl"
           }
          ],
          "scattermapbox": [
           {
            "marker": {
             "colorbar": {
              "outlinewidth": 0,
              "ticks": ""
             }
            },
            "type": "scattermapbox"
           }
          ],
          "scatterpolar": [
           {
            "marker": {
             "colorbar": {
              "outlinewidth": 0,
              "ticks": ""
             }
            },
            "type": "scatterpolar"
           }
          ],
          "scatterpolargl": [
           {
            "marker": {
             "colorbar": {
              "outlinewidth": 0,
              "ticks": ""
             }
            },
            "type": "scatterpolargl"
           }
          ],
          "scatterternary": [
           {
            "marker": {
             "colorbar": {
              "outlinewidth": 0,
              "ticks": ""
             }
            },
            "type": "scatterternary"
           }
          ],
          "surface": [
           {
            "colorbar": {
             "outlinewidth": 0,
             "ticks": ""
            },
            "colorscale": [
             [
              0,
              "#0d0887"
             ],
             [
              0.1111111111111111,
              "#46039f"
             ],
             [
              0.2222222222222222,
              "#7201a8"
             ],
             [
              0.3333333333333333,
              "#9c179e"
             ],
             [
              0.4444444444444444,
              "#bd3786"
             ],
             [
              0.5555555555555556,
              "#d8576b"
             ],
             [
              0.6666666666666666,
              "#ed7953"
             ],
             [
              0.7777777777777778,
              "#fb9f3a"
             ],
             [
              0.8888888888888888,
              "#fdca26"
             ],
             [
              1,
              "#f0f921"
             ]
            ],
            "type": "surface"
           }
          ],
          "table": [
           {
            "cells": {
             "fill": {
              "color": "#EBF0F8"
             },
             "line": {
              "color": "white"
             }
            },
            "header": {
             "fill": {
              "color": "#C8D4E3"
             },
             "line": {
              "color": "white"
             }
            },
            "type": "table"
           }
          ]
         },
         "layout": {
          "annotationdefaults": {
           "arrowcolor": "#2a3f5f",
           "arrowhead": 0,
           "arrowwidth": 1
          },
          "autotypenumbers": "strict",
          "coloraxis": {
           "colorbar": {
            "outlinewidth": 0,
            "ticks": ""
           }
          },
          "colorscale": {
           "diverging": [
            [
             0,
             "#8e0152"
            ],
            [
             0.1,
             "#c51b7d"
            ],
            [
             0.2,
             "#de77ae"
            ],
            [
             0.3,
             "#f1b6da"
            ],
            [
             0.4,
             "#fde0ef"
            ],
            [
             0.5,
             "#f7f7f7"
            ],
            [
             0.6,
             "#e6f5d0"
            ],
            [
             0.7,
             "#b8e186"
            ],
            [
             0.8,
             "#7fbc41"
            ],
            [
             0.9,
             "#4d9221"
            ],
            [
             1,
             "#276419"
            ]
           ],
           "sequential": [
            [
             0,
             "#0d0887"
            ],
            [
             0.1111111111111111,
             "#46039f"
            ],
            [
             0.2222222222222222,
             "#7201a8"
            ],
            [
             0.3333333333333333,
             "#9c179e"
            ],
            [
             0.4444444444444444,
             "#bd3786"
            ],
            [
             0.5555555555555556,
             "#d8576b"
            ],
            [
             0.6666666666666666,
             "#ed7953"
            ],
            [
             0.7777777777777778,
             "#fb9f3a"
            ],
            [
             0.8888888888888888,
             "#fdca26"
            ],
            [
             1,
             "#f0f921"
            ]
           ],
           "sequentialminus": [
            [
             0,
             "#0d0887"
            ],
            [
             0.1111111111111111,
             "#46039f"
            ],
            [
             0.2222222222222222,
             "#7201a8"
            ],
            [
             0.3333333333333333,
             "#9c179e"
            ],
            [
             0.4444444444444444,
             "#bd3786"
            ],
            [
             0.5555555555555556,
             "#d8576b"
            ],
            [
             0.6666666666666666,
             "#ed7953"
            ],
            [
             0.7777777777777778,
             "#fb9f3a"
            ],
            [
             0.8888888888888888,
             "#fdca26"
            ],
            [
             1,
             "#f0f921"
            ]
           ]
          },
          "colorway": [
           "#636efa",
           "#EF553B",
           "#00cc96",
           "#ab63fa",
           "#FFA15A",
           "#19d3f3",
           "#FF6692",
           "#B6E880",
           "#FF97FF",
           "#FECB52"
          ],
          "font": {
           "color": "#2a3f5f"
          },
          "geo": {
           "bgcolor": "white",
           "lakecolor": "white",
           "landcolor": "#E5ECF6",
           "showlakes": true,
           "showland": true,
           "subunitcolor": "white"
          },
          "hoverlabel": {
           "align": "left"
          },
          "hovermode": "closest",
          "mapbox": {
           "style": "light"
          },
          "paper_bgcolor": "white",
          "plot_bgcolor": "#E5ECF6",
          "polar": {
           "angularaxis": {
            "gridcolor": "white",
            "linecolor": "white",
            "ticks": ""
           },
           "bgcolor": "#E5ECF6",
           "radialaxis": {
            "gridcolor": "white",
            "linecolor": "white",
            "ticks": ""
           }
          },
          "scene": {
           "xaxis": {
            "backgroundcolor": "#E5ECF6",
            "gridcolor": "white",
            "gridwidth": 2,
            "linecolor": "white",
            "showbackground": true,
            "ticks": "",
            "zerolinecolor": "white"
           },
           "yaxis": {
            "backgroundcolor": "#E5ECF6",
            "gridcolor": "white",
            "gridwidth": 2,
            "linecolor": "white",
            "showbackground": true,
            "ticks": "",
            "zerolinecolor": "white"
           },
           "zaxis": {
            "backgroundcolor": "#E5ECF6",
            "gridcolor": "white",
            "gridwidth": 2,
            "linecolor": "white",
            "showbackground": true,
            "ticks": "",
            "zerolinecolor": "white"
           }
          },
          "shapedefaults": {
           "line": {
            "color": "#2a3f5f"
           }
          },
          "ternary": {
           "aaxis": {
            "gridcolor": "white",
            "linecolor": "white",
            "ticks": ""
           },
           "baxis": {
            "gridcolor": "white",
            "linecolor": "white",
            "ticks": ""
           },
           "bgcolor": "#E5ECF6",
           "caxis": {
            "gridcolor": "white",
            "linecolor": "white",
            "ticks": ""
           }
          },
          "title": {
           "x": 0.05
          },
          "xaxis": {
           "automargin": true,
           "gridcolor": "white",
           "linecolor": "white",
           "ticks": "",
           "title": {
            "standoff": 15
           },
           "zerolinecolor": "white",
           "zerolinewidth": 2
          },
          "yaxis": {
           "automargin": true,
           "gridcolor": "white",
           "linecolor": "white",
           "ticks": "",
           "title": {
            "standoff": 15
           },
           "zerolinecolor": "white",
           "zerolinewidth": 2
          }
         }
        },
        "title": {
         "text": "Centroids obtained with Kmeans (k=4) of the first 50 ratings of each user"
        },
        "xaxis": {
         "anchor": "y",
         "domain": [
          0,
          1
         ],
         "title": {
          "text": "category"
         }
        },
        "yaxis": {
         "anchor": "x",
         "domain": [
          0,
          1
         ],
         "title": {
          "text": "Number of beer"
         }
        }
       }
      }
     },
     "metadata": {},
     "output_type": "display_data"
    }
   ],
   "source": [
    "fig = px.line(df_cluster_beer_4, x=\"category\", y=\"Number of beer\", color=\"cluster\", title=\"Centroids obtained with Kmeans (k=4) of the first 50 ratings of each user\")\n",
    "fig.show()\n",
    "#fig.write_html(\"centroid.html\")"
   ]
  },
  {
   "cell_type": "code",
   "execution_count": 49,
   "metadata": {},
   "outputs": [],
   "source": [
    "df_valid_ratings.to_pickle('leandrinho.pkl')"
   ]
  },
  {
   "cell_type": "code",
   "execution_count": 50,
   "metadata": {},
   "outputs": [
    {
     "data": {
      "application/vnd.plotly.v1+json": {
       "config": {
        "plotlyServerURL": "https://plot.ly"
       },
       "data": [
        {
         "hovertemplate": "cluster=0<br>category=%{x}<br>Number of beer=%{y}<extra></extra>",
         "legendgroup": "0",
         "line": {
          "color": "#636efa",
          "dash": "solid"
         },
         "marker": {
          "symbol": "circle"
         },
         "mode": "lines",
         "name": "0",
         "orientation": "v",
         "showlegend": true,
         "type": "scatter",
         "x": [
          "Bocks",
          "Brown Ales",
          "Dark Ales",
          "Dark Lagers",
          "Hybrid Beers",
          "India Pale Ales",
          "Pale Ales",
          "Pale Lagers",
          "Porters",
          "Specialty Beer",
          "Stouts",
          "Strong Ales",
          "Weird Cocktail",
          "Wheat Beers",
          "Wild/Sour Beers"
         ],
         "xaxis": "x",
         "y": [
          0.3722627737226284,
          1.2919708029197075,
          0.43065693430657004,
          0.48905109489051135,
          0.197080291970803,
          26.40145985401461,
          7.21897810218978,
          1.7007299270072984,
          1.0583941605839418,
          0.9270072992700733,
          4.087591240875914,
          3.3941605839416047,
          0.014598540145985398,
          1.5766423357664243,
          0.8394160583941606
         ],
         "yaxis": "y"
        },
        {
         "hovertemplate": "cluster=1<br>category=%{x}<br>Number of beer=%{y}<extra></extra>",
         "legendgroup": "1",
         "line": {
          "color": "#EF553B",
          "dash": "solid"
         },
         "marker": {
          "symbol": "circle"
         },
         "mode": "lines",
         "name": "1",
         "orientation": "v",
         "showlegend": true,
         "type": "scatter",
         "x": [
          "Bocks",
          "Brown Ales",
          "Dark Ales",
          "Dark Lagers",
          "Hybrid Beers",
          "India Pale Ales",
          "Pale Ales",
          "Pale Lagers",
          "Porters",
          "Specialty Beer",
          "Stouts",
          "Strong Ales",
          "Weird Cocktail",
          "Wheat Beers",
          "Wild/Sour Beers"
         ],
         "xaxis": "x",
         "y": [
          1.5816326530612246,
          2.2142857142857144,
          1.0816326530612246,
          3.2142857142857144,
          0.40816326530612246,
          3.765306122448977,
          7.530612244897959,
          15.857142857142861,
          1.1530612244897958,
          1.2653061224489797,
          2.8571428571428594,
          3.612244897959184,
          0.163265306122449,
          5.071428571428571,
          0.22448979591836693
         ],
         "yaxis": "y"
        },
        {
         "hovertemplate": "cluster=2<br>category=%{x}<br>Number of beer=%{y}<extra></extra>",
         "legendgroup": "2",
         "line": {
          "color": "#00cc96",
          "dash": "solid"
         },
         "marker": {
          "symbol": "circle"
         },
         "mode": "lines",
         "name": "2",
         "orientation": "v",
         "showlegend": true,
         "type": "scatter",
         "x": [
          "Bocks",
          "Brown Ales",
          "Dark Ales",
          "Dark Lagers",
          "Hybrid Beers",
          "India Pale Ales",
          "Pale Ales",
          "Pale Lagers",
          "Porters",
          "Specialty Beer",
          "Stouts",
          "Strong Ales",
          "Weird Cocktail",
          "Wheat Beers",
          "Wild/Sour Beers"
         ],
         "xaxis": "x",
         "y": [
          1.034129692832765,
          2.559726962457338,
          1.1911262798634814,
          1.0068259385665534,
          0.28668941979522194,
          14.4778156996587,
          8.470989761092149,
          3.252559726962457,
          1.9522184300341296,
          1.8088737201365193,
          5.430034129692834,
          4.986348122866894,
          0.04095563139931736,
          2.610921501706485,
          0.8907849829351535
         ],
         "yaxis": "y"
        },
        {
         "hovertemplate": "cluster=3<br>category=%{x}<br>Number of beer=%{y}<extra></extra>",
         "legendgroup": "3",
         "line": {
          "color": "#ab63fa",
          "dash": "solid"
         },
         "marker": {
          "symbol": "circle"
         },
         "mode": "lines",
         "name": "3",
         "orientation": "v",
         "showlegend": true,
         "type": "scatter",
         "x": [
          "Bocks",
          "Brown Ales",
          "Dark Ales",
          "Dark Lagers",
          "Hybrid Beers",
          "India Pale Ales",
          "Pale Ales",
          "Pale Lagers",
          "Porters",
          "Specialty Beer",
          "Stouts",
          "Strong Ales",
          "Weird Cocktail",
          "Wheat Beers",
          "Wild/Sour Beers"
         ],
         "xaxis": "x",
         "y": [
          0.8037974683544307,
          2.2278481012658227,
          0.8734177215189878,
          0.5886075949367094,
          0.2848101265822785,
          9.632911392405061,
          4.443037974683545,
          1.0949367088607573,
          3.208860759493671,
          1.2215189873417722,
          16.25316455696203,
          6.1265822784810124,
          0.06329113924050629,
          1.4683544303797469,
          1.7088607594936698
         ],
         "yaxis": "y"
        },
        {
         "hovertemplate": "cluster=4<br>category=%{x}<br>Number of beer=%{y}<extra></extra>",
         "legendgroup": "4",
         "line": {
          "color": "#FFA15A",
          "dash": "solid"
         },
         "marker": {
          "symbol": "circle"
         },
         "mode": "lines",
         "name": "4",
         "orientation": "v",
         "showlegend": true,
         "type": "scatter",
         "x": [
          "Bocks",
          "Brown Ales",
          "Dark Ales",
          "Dark Lagers",
          "Hybrid Beers",
          "India Pale Ales",
          "Pale Ales",
          "Pale Lagers",
          "Porters",
          "Specialty Beer",
          "Stouts",
          "Strong Ales",
          "Weird Cocktail",
          "Wheat Beers",
          "Wild/Sour Beers"
         ],
         "xaxis": "x",
         "y": [
          2.021126760563381,
          3.82394366197183,
          1.887323943661971,
          1.9718309859154934,
          0.3591549295774649,
          4.700704225352122,
          9.186619718309858,
          4.461267605633803,
          2.528169014084507,
          1.6478873239436629,
          5.531690140845072,
          6.718309859154928,
          0.08802816901408447,
          4.007042253521127,
          1.066901408450704
         ],
         "yaxis": "y"
        }
       ],
       "layout": {
        "legend": {
         "title": {
          "text": "cluster"
         },
         "tracegroupgap": 0
        },
        "template": {
         "data": {
          "bar": [
           {
            "error_x": {
             "color": "#2a3f5f"
            },
            "error_y": {
             "color": "#2a3f5f"
            },
            "marker": {
             "line": {
              "color": "#E5ECF6",
              "width": 0.5
             },
             "pattern": {
              "fillmode": "overlay",
              "size": 10,
              "solidity": 0.2
             }
            },
            "type": "bar"
           }
          ],
          "barpolar": [
           {
            "marker": {
             "line": {
              "color": "#E5ECF6",
              "width": 0.5
             },
             "pattern": {
              "fillmode": "overlay",
              "size": 10,
              "solidity": 0.2
             }
            },
            "type": "barpolar"
           }
          ],
          "carpet": [
           {
            "aaxis": {
             "endlinecolor": "#2a3f5f",
             "gridcolor": "white",
             "linecolor": "white",
             "minorgridcolor": "white",
             "startlinecolor": "#2a3f5f"
            },
            "baxis": {
             "endlinecolor": "#2a3f5f",
             "gridcolor": "white",
             "linecolor": "white",
             "minorgridcolor": "white",
             "startlinecolor": "#2a3f5f"
            },
            "type": "carpet"
           }
          ],
          "choropleth": [
           {
            "colorbar": {
             "outlinewidth": 0,
             "ticks": ""
            },
            "type": "choropleth"
           }
          ],
          "contour": [
           {
            "colorbar": {
             "outlinewidth": 0,
             "ticks": ""
            },
            "colorscale": [
             [
              0,
              "#0d0887"
             ],
             [
              0.1111111111111111,
              "#46039f"
             ],
             [
              0.2222222222222222,
              "#7201a8"
             ],
             [
              0.3333333333333333,
              "#9c179e"
             ],
             [
              0.4444444444444444,
              "#bd3786"
             ],
             [
              0.5555555555555556,
              "#d8576b"
             ],
             [
              0.6666666666666666,
              "#ed7953"
             ],
             [
              0.7777777777777778,
              "#fb9f3a"
             ],
             [
              0.8888888888888888,
              "#fdca26"
             ],
             [
              1,
              "#f0f921"
             ]
            ],
            "type": "contour"
           }
          ],
          "contourcarpet": [
           {
            "colorbar": {
             "outlinewidth": 0,
             "ticks": ""
            },
            "type": "contourcarpet"
           }
          ],
          "heatmap": [
           {
            "colorbar": {
             "outlinewidth": 0,
             "ticks": ""
            },
            "colorscale": [
             [
              0,
              "#0d0887"
             ],
             [
              0.1111111111111111,
              "#46039f"
             ],
             [
              0.2222222222222222,
              "#7201a8"
             ],
             [
              0.3333333333333333,
              "#9c179e"
             ],
             [
              0.4444444444444444,
              "#bd3786"
             ],
             [
              0.5555555555555556,
              "#d8576b"
             ],
             [
              0.6666666666666666,
              "#ed7953"
             ],
             [
              0.7777777777777778,
              "#fb9f3a"
             ],
             [
              0.8888888888888888,
              "#fdca26"
             ],
             [
              1,
              "#f0f921"
             ]
            ],
            "type": "heatmap"
           }
          ],
          "heatmapgl": [
           {
            "colorbar": {
             "outlinewidth": 0,
             "ticks": ""
            },
            "colorscale": [
             [
              0,
              "#0d0887"
             ],
             [
              0.1111111111111111,
              "#46039f"
             ],
             [
              0.2222222222222222,
              "#7201a8"
             ],
             [
              0.3333333333333333,
              "#9c179e"
             ],
             [
              0.4444444444444444,
              "#bd3786"
             ],
             [
              0.5555555555555556,
              "#d8576b"
             ],
             [
              0.6666666666666666,
              "#ed7953"
             ],
             [
              0.7777777777777778,
              "#fb9f3a"
             ],
             [
              0.8888888888888888,
              "#fdca26"
             ],
             [
              1,
              "#f0f921"
             ]
            ],
            "type": "heatmapgl"
           }
          ],
          "histogram": [
           {
            "marker": {
             "pattern": {
              "fillmode": "overlay",
              "size": 10,
              "solidity": 0.2
             }
            },
            "type": "histogram"
           }
          ],
          "histogram2d": [
           {
            "colorbar": {
             "outlinewidth": 0,
             "ticks": ""
            },
            "colorscale": [
             [
              0,
              "#0d0887"
             ],
             [
              0.1111111111111111,
              "#46039f"
             ],
             [
              0.2222222222222222,
              "#7201a8"
             ],
             [
              0.3333333333333333,
              "#9c179e"
             ],
             [
              0.4444444444444444,
              "#bd3786"
             ],
             [
              0.5555555555555556,
              "#d8576b"
             ],
             [
              0.6666666666666666,
              "#ed7953"
             ],
             [
              0.7777777777777778,
              "#fb9f3a"
             ],
             [
              0.8888888888888888,
              "#fdca26"
             ],
             [
              1,
              "#f0f921"
             ]
            ],
            "type": "histogram2d"
           }
          ],
          "histogram2dcontour": [
           {
            "colorbar": {
             "outlinewidth": 0,
             "ticks": ""
            },
            "colorscale": [
             [
              0,
              "#0d0887"
             ],
             [
              0.1111111111111111,
              "#46039f"
             ],
             [
              0.2222222222222222,
              "#7201a8"
             ],
             [
              0.3333333333333333,
              "#9c179e"
             ],
             [
              0.4444444444444444,
              "#bd3786"
             ],
             [
              0.5555555555555556,
              "#d8576b"
             ],
             [
              0.6666666666666666,
              "#ed7953"
             ],
             [
              0.7777777777777778,
              "#fb9f3a"
             ],
             [
              0.8888888888888888,
              "#fdca26"
             ],
             [
              1,
              "#f0f921"
             ]
            ],
            "type": "histogram2dcontour"
           }
          ],
          "mesh3d": [
           {
            "colorbar": {
             "outlinewidth": 0,
             "ticks": ""
            },
            "type": "mesh3d"
           }
          ],
          "parcoords": [
           {
            "line": {
             "colorbar": {
              "outlinewidth": 0,
              "ticks": ""
             }
            },
            "type": "parcoords"
           }
          ],
          "pie": [
           {
            "automargin": true,
            "type": "pie"
           }
          ],
          "scatter": [
           {
            "fillpattern": {
             "fillmode": "overlay",
             "size": 10,
             "solidity": 0.2
            },
            "type": "scatter"
           }
          ],
          "scatter3d": [
           {
            "line": {
             "colorbar": {
              "outlinewidth": 0,
              "ticks": ""
             }
            },
            "marker": {
             "colorbar": {
              "outlinewidth": 0,
              "ticks": ""
             }
            },
            "type": "scatter3d"
           }
          ],
          "scattercarpet": [
           {
            "marker": {
             "colorbar": {
              "outlinewidth": 0,
              "ticks": ""
             }
            },
            "type": "scattercarpet"
           }
          ],
          "scattergeo": [
           {
            "marker": {
             "colorbar": {
              "outlinewidth": 0,
              "ticks": ""
             }
            },
            "type": "scattergeo"
           }
          ],
          "scattergl": [
           {
            "marker": {
             "colorbar": {
              "outlinewidth": 0,
              "ticks": ""
             }
            },
            "type": "scattergl"
           }
          ],
          "scattermapbox": [
           {
            "marker": {
             "colorbar": {
              "outlinewidth": 0,
              "ticks": ""
             }
            },
            "type": "scattermapbox"
           }
          ],
          "scatterpolar": [
           {
            "marker": {
             "colorbar": {
              "outlinewidth": 0,
              "ticks": ""
             }
            },
            "type": "scatterpolar"
           }
          ],
          "scatterpolargl": [
           {
            "marker": {
             "colorbar": {
              "outlinewidth": 0,
              "ticks": ""
             }
            },
            "type": "scatterpolargl"
           }
          ],
          "scatterternary": [
           {
            "marker": {
             "colorbar": {
              "outlinewidth": 0,
              "ticks": ""
             }
            },
            "type": "scatterternary"
           }
          ],
          "surface": [
           {
            "colorbar": {
             "outlinewidth": 0,
             "ticks": ""
            },
            "colorscale": [
             [
              0,
              "#0d0887"
             ],
             [
              0.1111111111111111,
              "#46039f"
             ],
             [
              0.2222222222222222,
              "#7201a8"
             ],
             [
              0.3333333333333333,
              "#9c179e"
             ],
             [
              0.4444444444444444,
              "#bd3786"
             ],
             [
              0.5555555555555556,
              "#d8576b"
             ],
             [
              0.6666666666666666,
              "#ed7953"
             ],
             [
              0.7777777777777778,
              "#fb9f3a"
             ],
             [
              0.8888888888888888,
              "#fdca26"
             ],
             [
              1,
              "#f0f921"
             ]
            ],
            "type": "surface"
           }
          ],
          "table": [
           {
            "cells": {
             "fill": {
              "color": "#EBF0F8"
             },
             "line": {
              "color": "white"
             }
            },
            "header": {
             "fill": {
              "color": "#C8D4E3"
             },
             "line": {
              "color": "white"
             }
            },
            "type": "table"
           }
          ]
         },
         "layout": {
          "annotationdefaults": {
           "arrowcolor": "#2a3f5f",
           "arrowhead": 0,
           "arrowwidth": 1
          },
          "autotypenumbers": "strict",
          "coloraxis": {
           "colorbar": {
            "outlinewidth": 0,
            "ticks": ""
           }
          },
          "colorscale": {
           "diverging": [
            [
             0,
             "#8e0152"
            ],
            [
             0.1,
             "#c51b7d"
            ],
            [
             0.2,
             "#de77ae"
            ],
            [
             0.3,
             "#f1b6da"
            ],
            [
             0.4,
             "#fde0ef"
            ],
            [
             0.5,
             "#f7f7f7"
            ],
            [
             0.6,
             "#e6f5d0"
            ],
            [
             0.7,
             "#b8e186"
            ],
            [
             0.8,
             "#7fbc41"
            ],
            [
             0.9,
             "#4d9221"
            ],
            [
             1,
             "#276419"
            ]
           ],
           "sequential": [
            [
             0,
             "#0d0887"
            ],
            [
             0.1111111111111111,
             "#46039f"
            ],
            [
             0.2222222222222222,
             "#7201a8"
            ],
            [
             0.3333333333333333,
             "#9c179e"
            ],
            [
             0.4444444444444444,
             "#bd3786"
            ],
            [
             0.5555555555555556,
             "#d8576b"
            ],
            [
             0.6666666666666666,
             "#ed7953"
            ],
            [
             0.7777777777777778,
             "#fb9f3a"
            ],
            [
             0.8888888888888888,
             "#fdca26"
            ],
            [
             1,
             "#f0f921"
            ]
           ],
           "sequentialminus": [
            [
             0,
             "#0d0887"
            ],
            [
             0.1111111111111111,
             "#46039f"
            ],
            [
             0.2222222222222222,
             "#7201a8"
            ],
            [
             0.3333333333333333,
             "#9c179e"
            ],
            [
             0.4444444444444444,
             "#bd3786"
            ],
            [
             0.5555555555555556,
             "#d8576b"
            ],
            [
             0.6666666666666666,
             "#ed7953"
            ],
            [
             0.7777777777777778,
             "#fb9f3a"
            ],
            [
             0.8888888888888888,
             "#fdca26"
            ],
            [
             1,
             "#f0f921"
            ]
           ]
          },
          "colorway": [
           "#636efa",
           "#EF553B",
           "#00cc96",
           "#ab63fa",
           "#FFA15A",
           "#19d3f3",
           "#FF6692",
           "#B6E880",
           "#FF97FF",
           "#FECB52"
          ],
          "font": {
           "color": "#2a3f5f"
          },
          "geo": {
           "bgcolor": "white",
           "lakecolor": "white",
           "landcolor": "#E5ECF6",
           "showlakes": true,
           "showland": true,
           "subunitcolor": "white"
          },
          "hoverlabel": {
           "align": "left"
          },
          "hovermode": "closest",
          "mapbox": {
           "style": "light"
          },
          "paper_bgcolor": "white",
          "plot_bgcolor": "#E5ECF6",
          "polar": {
           "angularaxis": {
            "gridcolor": "white",
            "linecolor": "white",
            "ticks": ""
           },
           "bgcolor": "#E5ECF6",
           "radialaxis": {
            "gridcolor": "white",
            "linecolor": "white",
            "ticks": ""
           }
          },
          "scene": {
           "xaxis": {
            "backgroundcolor": "#E5ECF6",
            "gridcolor": "white",
            "gridwidth": 2,
            "linecolor": "white",
            "showbackground": true,
            "ticks": "",
            "zerolinecolor": "white"
           },
           "yaxis": {
            "backgroundcolor": "#E5ECF6",
            "gridcolor": "white",
            "gridwidth": 2,
            "linecolor": "white",
            "showbackground": true,
            "ticks": "",
            "zerolinecolor": "white"
           },
           "zaxis": {
            "backgroundcolor": "#E5ECF6",
            "gridcolor": "white",
            "gridwidth": 2,
            "linecolor": "white",
            "showbackground": true,
            "ticks": "",
            "zerolinecolor": "white"
           }
          },
          "shapedefaults": {
           "line": {
            "color": "#2a3f5f"
           }
          },
          "ternary": {
           "aaxis": {
            "gridcolor": "white",
            "linecolor": "white",
            "ticks": ""
           },
           "baxis": {
            "gridcolor": "white",
            "linecolor": "white",
            "ticks": ""
           },
           "bgcolor": "#E5ECF6",
           "caxis": {
            "gridcolor": "white",
            "linecolor": "white",
            "ticks": ""
           }
          },
          "title": {
           "x": 0.05
          },
          "xaxis": {
           "automargin": true,
           "gridcolor": "white",
           "linecolor": "white",
           "ticks": "",
           "title": {
            "standoff": 15
           },
           "zerolinecolor": "white",
           "zerolinewidth": 2
          },
          "yaxis": {
           "automargin": true,
           "gridcolor": "white",
           "linecolor": "white",
           "ticks": "",
           "title": {
            "standoff": 15
           },
           "zerolinecolor": "white",
           "zerolinewidth": 2
          }
         }
        },
        "title": {
         "text": "Centroids obtained with Kmeans (k=5) of the first 50 ratings of each user"
        },
        "xaxis": {
         "anchor": "y",
         "domain": [
          0,
          1
         ],
         "title": {
          "text": "category"
         }
        },
        "yaxis": {
         "anchor": "x",
         "domain": [
          0,
          1
         ],
         "title": {
          "text": "Number of beer"
         }
        }
       }
      }
     },
     "metadata": {},
     "output_type": "display_data"
    }
   ],
   "source": [
    "fig = px.line(df_cluster_beer_5, x=\"category\", y=\"Number of beer\", color=\"cluster\", \n",
    "              title=\"Centroids obtained with Kmeans (k=5) of the first 50 ratings of each user\")\n",
    "fig.show()\n",
    "#fig.write_html(\"centroid_first_5_justification.html\")"
   ]
  },
  {
   "attachments": {},
   "cell_type": "markdown",
   "metadata": {},
   "source": [
    "We see that 3 clusters (blue, green and orange) are really correlated -> can be merged into 2.\n",
    "Therefore, we decide to work with 4 over 5 clusters."
   ]
  },
  {
   "cell_type": "code",
   "execution_count": 51,
   "metadata": {},
   "outputs": [],
   "source": [
    "# We settle on k = 4 \n",
    "df_cluster_beer = df_cluster_beer_4.copy()\n",
    "df_cluster_centers = pd.DataFrame(user_clustering_4.cluster_centers_.T)\n",
    "df_cluster_centers.index = user_to_cat_first.columns\n",
    "\n",
    "user_to_cat_first[\"first_50_cluster\"] = user_clustering_4.labels_"
   ]
  },
  {
   "cell_type": "code",
   "execution_count": 52,
   "metadata": {},
   "outputs": [
    {
     "data": {
      "text/html": [
       "<div>\n",
       "<style scoped>\n",
       "    .dataframe tbody tr th:only-of-type {\n",
       "        vertical-align: middle;\n",
       "    }\n",
       "\n",
       "    .dataframe tbody tr th {\n",
       "        vertical-align: top;\n",
       "    }\n",
       "\n",
       "    .dataframe thead th {\n",
       "        text-align: right;\n",
       "    }\n",
       "</style>\n",
       "<table border=\"1\" class=\"dataframe\">\n",
       "  <thead>\n",
       "    <tr style=\"text-align: right;\">\n",
       "      <th></th>\n",
       "      <th>0</th>\n",
       "      <th>1</th>\n",
       "      <th>2</th>\n",
       "      <th>3</th>\n",
       "    </tr>\n",
       "    <tr>\n",
       "      <th>category</th>\n",
       "      <th></th>\n",
       "      <th></th>\n",
       "      <th></th>\n",
       "      <th></th>\n",
       "    </tr>\n",
       "  </thead>\n",
       "  <tbody>\n",
       "    <tr>\n",
       "      <th>Bocks</th>\n",
       "      <td>0.598326</td>\n",
       "      <td>1.659898</td>\n",
       "      <td>1.794326</td>\n",
       "      <td>0.816327</td>\n",
       "    </tr>\n",
       "    <tr>\n",
       "      <th>Brown Ales</th>\n",
       "      <td>1.732218</td>\n",
       "      <td>3.281726</td>\n",
       "      <td>2.723404</td>\n",
       "      <td>2.505102</td>\n",
       "    </tr>\n",
       "    <tr>\n",
       "      <th>Dark Ales</th>\n",
       "      <td>0.615063</td>\n",
       "      <td>1.654822</td>\n",
       "      <td>1.425532</td>\n",
       "      <td>0.959184</td>\n",
       "    </tr>\n",
       "    <tr>\n",
       "      <th>Dark Lagers</th>\n",
       "      <td>0.548117</td>\n",
       "      <td>1.530457</td>\n",
       "      <td>3.347518</td>\n",
       "      <td>0.632653</td>\n",
       "    </tr>\n",
       "    <tr>\n",
       "      <th>Hybrid Beers</th>\n",
       "      <td>0.234310</td>\n",
       "      <td>0.337563</td>\n",
       "      <td>0.382979</td>\n",
       "      <td>0.280612</td>\n",
       "    </tr>\n",
       "  </tbody>\n",
       "</table>\n",
       "</div>"
      ],
      "text/plain": [
       "                     0         1         2         3\n",
       "category                                            \n",
       "Bocks         0.598326  1.659898  1.794326  0.816327\n",
       "Brown Ales    1.732218  3.281726  2.723404  2.505102\n",
       "Dark Ales     0.615063  1.654822  1.425532  0.959184\n",
       "Dark Lagers   0.548117  1.530457  3.347518  0.632653\n",
       "Hybrid Beers  0.234310  0.337563  0.382979  0.280612"
      ]
     },
     "execution_count": 52,
     "metadata": {},
     "output_type": "execute_result"
    }
   ],
   "source": [
    "df_cluster_centers.head(5)"
   ]
  },
  {
   "cell_type": "code",
   "execution_count": 53,
   "metadata": {},
   "outputs": [
    {
     "data": {
      "text/plain": [
       "{4: 'All',\n",
       " 0: 'Jean-Michel IPA',\n",
       " 3: 'Marcel Stout',\n",
       " 2: 'James Bland',\n",
       " 1: 'Ada the explorer'}"
      ]
     },
     "execution_count": 53,
     "metadata": {},
     "output_type": "execute_result"
    }
   ],
   "source": [
    "# We decide to give some names to the different clusters! The names are:\n",
    "# Jean-Michel IPA, Marcel Stout, James Bland and Ada the explorer.\n",
    "\n",
    "ipa_idx = (df_cluster_centers.loc['India Pale Ales',:]).argmax()\n",
    "stout_idx = (df_cluster_centers.loc['Stouts',:]).argmax()\n",
    "pale_idx = (df_cluster_centers.loc['Pale Lagers',:]).argmax()\n",
    "\n",
    "possible_indices = [0,1,2,3] #column indices\n",
    "expl_col = sum(possible_indices) - (ipa_idx + stout_idx + pale_idx)\n",
    "\n",
    "mapping_name_idx = {'All' : 4, 'Jean-Michel IPA' : ipa_idx, 'Marcel Stout' : stout_idx, \n",
    "\n",
    "           'James Bland' : pale_idx, 'Ada the explorer' : expl_col}\n",
    "mapping_idx_name = {values:key for key, values in mapping_name_idx.items()}\n",
    "mapping_idx_name"
   ]
  },
  {
   "cell_type": "code",
   "execution_count": 54,
   "metadata": {},
   "outputs": [
    {
     "data": {
      "application/vnd.plotly.v1+json": {
       "config": {
        "plotlyServerURL": "https://plot.ly"
       },
       "data": [
        {
         "hovertemplate": "color=Jean-Michel IPA<br>category=%{x}<br>Number of beer=%{y}<extra></extra>",
         "legendgroup": "Jean-Michel IPA",
         "line": {
          "color": "#636efa",
          "dash": "solid"
         },
         "marker": {
          "symbol": "circle"
         },
         "mode": "lines",
         "name": "Jean-Michel IPA",
         "orientation": "v",
         "showlegend": true,
         "type": "scatter",
         "x": [
          "Bocks",
          "Brown Ales",
          "Dark Ales",
          "Dark Lagers",
          "Hybrid Beers",
          "India Pale Ales",
          "Pale Ales",
          "Pale Lagers",
          "Porters",
          "Specialty Beer",
          "Stouts",
          "Strong Ales",
          "Weird Cocktail",
          "Wheat Beers",
          "Wild/Sour Beers"
         ],
         "xaxis": "x",
         "y": [
          0.5983263598326368,
          1.7322175732217566,
          0.6150627615062763,
          0.5481171548117162,
          0.2343096234309624,
          22.83263598326361,
          7.468619246861924,
          2.0125523012552287,
          1.351464435146444,
          1.2217573221757325,
          4.556485355648537,
          4.07531380753138,
          0.01255230125523004,
          1.8786610878661099,
          0.8619246861924685
         ],
         "yaxis": "y"
        },
        {
         "hovertemplate": "color=Ada the explorer<br>category=%{x}<br>Number of beer=%{y}<extra></extra>",
         "legendgroup": "Ada the explorer",
         "line": {
          "color": "#EF553B",
          "dash": "solid"
         },
         "marker": {
          "symbol": "circle"
         },
         "mode": "lines",
         "name": "Ada the explorer",
         "orientation": "v",
         "showlegend": true,
         "type": "scatter",
         "x": [
          "Bocks",
          "Brown Ales",
          "Dark Ales",
          "Dark Lagers",
          "Hybrid Beers",
          "India Pale Ales",
          "Pale Ales",
          "Pale Lagers",
          "Porters",
          "Specialty Beer",
          "Stouts",
          "Strong Ales",
          "Weird Cocktail",
          "Wheat Beers",
          "Wild/Sour Beers"
         ],
         "xaxis": "x",
         "y": [
          1.659898477157361,
          3.281725888324872,
          1.6548223350253808,
          1.530456852791878,
          0.33756345177664976,
          8.192893401015231,
          9.408629441624365,
          3.868020304568528,
          2.296954314720812,
          1.7436548223350263,
          5.119289340101524,
          6.131979695431471,
          0.0634517766497462,
          3.619289340101523,
          1.091370558375634
         ],
         "yaxis": "y"
        },
        {
         "hovertemplate": "color=James Bland<br>category=%{x}<br>Number of beer=%{y}<extra></extra>",
         "legendgroup": "James Bland",
         "line": {
          "color": "#00cc96",
          "dash": "solid"
         },
         "marker": {
          "symbol": "circle"
         },
         "mode": "lines",
         "name": "James Bland",
         "orientation": "v",
         "showlegend": true,
         "type": "scatter",
         "x": [
          "Bocks",
          "Brown Ales",
          "Dark Ales",
          "Dark Lagers",
          "Hybrid Beers",
          "India Pale Ales",
          "Pale Ales",
          "Pale Lagers",
          "Porters",
          "Specialty Beer",
          "Stouts",
          "Strong Ales",
          "Weird Cocktail",
          "Wheat Beers",
          "Wild/Sour Beers"
         ],
         "xaxis": "x",
         "y": [
          1.7943262411347523,
          2.723404255319149,
          1.425531914893617,
          3.3475177304964547,
          0.3829787234042553,
          3.297872340425533,
          7.780141843971631,
          13.62411347517731,
          1.5602836879432624,
          1.4184397163120568,
          3.510638297872343,
          3.950354609929078,
          0.15602836879432622,
          4.74468085106383,
          0.28368794326241065
         ],
         "yaxis": "y"
        },
        {
         "hovertemplate": "color=Marcel Stout<br>category=%{x}<br>Number of beer=%{y}<extra></extra>",
         "legendgroup": "Marcel Stout",
         "line": {
          "color": "#ab63fa",
          "dash": "solid"
         },
         "marker": {
          "symbol": "circle"
         },
         "mode": "lines",
         "name": "Marcel Stout",
         "orientation": "v",
         "showlegend": true,
         "type": "scatter",
         "x": [
          "Bocks",
          "Brown Ales",
          "Dark Ales",
          "Dark Lagers",
          "Hybrid Beers",
          "India Pale Ales",
          "Pale Ales",
          "Pale Lagers",
          "Porters",
          "Specialty Beer",
          "Stouts",
          "Strong Ales",
          "Weird Cocktail",
          "Wheat Beers",
          "Wild/Sour Beers"
         ],
         "xaxis": "x",
         "y": [
          0.8163265306122455,
          2.5051020408163267,
          0.9591836734693882,
          0.6326530612244905,
          0.2806122448979592,
          9.872448979591834,
          4.75,
          1.295918367346938,
          3.0969387755102042,
          1.3418367346938775,
          15.147959183673475,
          6.1683673469387745,
          0.07653061224489796,
          1.5510204081632657,
          1.5051020408163258
         ],
         "yaxis": "y"
        }
       ],
       "layout": {
        "legend": {
         "title": {
          "text": "color"
         },
         "tracegroupgap": 0
        },
        "template": {
         "data": {
          "bar": [
           {
            "error_x": {
             "color": "#2a3f5f"
            },
            "error_y": {
             "color": "#2a3f5f"
            },
            "marker": {
             "line": {
              "color": "#E5ECF6",
              "width": 0.5
             },
             "pattern": {
              "fillmode": "overlay",
              "size": 10,
              "solidity": 0.2
             }
            },
            "type": "bar"
           }
          ],
          "barpolar": [
           {
            "marker": {
             "line": {
              "color": "#E5ECF6",
              "width": 0.5
             },
             "pattern": {
              "fillmode": "overlay",
              "size": 10,
              "solidity": 0.2
             }
            },
            "type": "barpolar"
           }
          ],
          "carpet": [
           {
            "aaxis": {
             "endlinecolor": "#2a3f5f",
             "gridcolor": "white",
             "linecolor": "white",
             "minorgridcolor": "white",
             "startlinecolor": "#2a3f5f"
            },
            "baxis": {
             "endlinecolor": "#2a3f5f",
             "gridcolor": "white",
             "linecolor": "white",
             "minorgridcolor": "white",
             "startlinecolor": "#2a3f5f"
            },
            "type": "carpet"
           }
          ],
          "choropleth": [
           {
            "colorbar": {
             "outlinewidth": 0,
             "ticks": ""
            },
            "type": "choropleth"
           }
          ],
          "contour": [
           {
            "colorbar": {
             "outlinewidth": 0,
             "ticks": ""
            },
            "colorscale": [
             [
              0,
              "#0d0887"
             ],
             [
              0.1111111111111111,
              "#46039f"
             ],
             [
              0.2222222222222222,
              "#7201a8"
             ],
             [
              0.3333333333333333,
              "#9c179e"
             ],
             [
              0.4444444444444444,
              "#bd3786"
             ],
             [
              0.5555555555555556,
              "#d8576b"
             ],
             [
              0.6666666666666666,
              "#ed7953"
             ],
             [
              0.7777777777777778,
              "#fb9f3a"
             ],
             [
              0.8888888888888888,
              "#fdca26"
             ],
             [
              1,
              "#f0f921"
             ]
            ],
            "type": "contour"
           }
          ],
          "contourcarpet": [
           {
            "colorbar": {
             "outlinewidth": 0,
             "ticks": ""
            },
            "type": "contourcarpet"
           }
          ],
          "heatmap": [
           {
            "colorbar": {
             "outlinewidth": 0,
             "ticks": ""
            },
            "colorscale": [
             [
              0,
              "#0d0887"
             ],
             [
              0.1111111111111111,
              "#46039f"
             ],
             [
              0.2222222222222222,
              "#7201a8"
             ],
             [
              0.3333333333333333,
              "#9c179e"
             ],
             [
              0.4444444444444444,
              "#bd3786"
             ],
             [
              0.5555555555555556,
              "#d8576b"
             ],
             [
              0.6666666666666666,
              "#ed7953"
             ],
             [
              0.7777777777777778,
              "#fb9f3a"
             ],
             [
              0.8888888888888888,
              "#fdca26"
             ],
             [
              1,
              "#f0f921"
             ]
            ],
            "type": "heatmap"
           }
          ],
          "heatmapgl": [
           {
            "colorbar": {
             "outlinewidth": 0,
             "ticks": ""
            },
            "colorscale": [
             [
              0,
              "#0d0887"
             ],
             [
              0.1111111111111111,
              "#46039f"
             ],
             [
              0.2222222222222222,
              "#7201a8"
             ],
             [
              0.3333333333333333,
              "#9c179e"
             ],
             [
              0.4444444444444444,
              "#bd3786"
             ],
             [
              0.5555555555555556,
              "#d8576b"
             ],
             [
              0.6666666666666666,
              "#ed7953"
             ],
             [
              0.7777777777777778,
              "#fb9f3a"
             ],
             [
              0.8888888888888888,
              "#fdca26"
             ],
             [
              1,
              "#f0f921"
             ]
            ],
            "type": "heatmapgl"
           }
          ],
          "histogram": [
           {
            "marker": {
             "pattern": {
              "fillmode": "overlay",
              "size": 10,
              "solidity": 0.2
             }
            },
            "type": "histogram"
           }
          ],
          "histogram2d": [
           {
            "colorbar": {
             "outlinewidth": 0,
             "ticks": ""
            },
            "colorscale": [
             [
              0,
              "#0d0887"
             ],
             [
              0.1111111111111111,
              "#46039f"
             ],
             [
              0.2222222222222222,
              "#7201a8"
             ],
             [
              0.3333333333333333,
              "#9c179e"
             ],
             [
              0.4444444444444444,
              "#bd3786"
             ],
             [
              0.5555555555555556,
              "#d8576b"
             ],
             [
              0.6666666666666666,
              "#ed7953"
             ],
             [
              0.7777777777777778,
              "#fb9f3a"
             ],
             [
              0.8888888888888888,
              "#fdca26"
             ],
             [
              1,
              "#f0f921"
             ]
            ],
            "type": "histogram2d"
           }
          ],
          "histogram2dcontour": [
           {
            "colorbar": {
             "outlinewidth": 0,
             "ticks": ""
            },
            "colorscale": [
             [
              0,
              "#0d0887"
             ],
             [
              0.1111111111111111,
              "#46039f"
             ],
             [
              0.2222222222222222,
              "#7201a8"
             ],
             [
              0.3333333333333333,
              "#9c179e"
             ],
             [
              0.4444444444444444,
              "#bd3786"
             ],
             [
              0.5555555555555556,
              "#d8576b"
             ],
             [
              0.6666666666666666,
              "#ed7953"
             ],
             [
              0.7777777777777778,
              "#fb9f3a"
             ],
             [
              0.8888888888888888,
              "#fdca26"
             ],
             [
              1,
              "#f0f921"
             ]
            ],
            "type": "histogram2dcontour"
           }
          ],
          "mesh3d": [
           {
            "colorbar": {
             "outlinewidth": 0,
             "ticks": ""
            },
            "type": "mesh3d"
           }
          ],
          "parcoords": [
           {
            "line": {
             "colorbar": {
              "outlinewidth": 0,
              "ticks": ""
             }
            },
            "type": "parcoords"
           }
          ],
          "pie": [
           {
            "automargin": true,
            "type": "pie"
           }
          ],
          "scatter": [
           {
            "fillpattern": {
             "fillmode": "overlay",
             "size": 10,
             "solidity": 0.2
            },
            "type": "scatter"
           }
          ],
          "scatter3d": [
           {
            "line": {
             "colorbar": {
              "outlinewidth": 0,
              "ticks": ""
             }
            },
            "marker": {
             "colorbar": {
              "outlinewidth": 0,
              "ticks": ""
             }
            },
            "type": "scatter3d"
           }
          ],
          "scattercarpet": [
           {
            "marker": {
             "colorbar": {
              "outlinewidth": 0,
              "ticks": ""
             }
            },
            "type": "scattercarpet"
           }
          ],
          "scattergeo": [
           {
            "marker": {
             "colorbar": {
              "outlinewidth": 0,
              "ticks": ""
             }
            },
            "type": "scattergeo"
           }
          ],
          "scattergl": [
           {
            "marker": {
             "colorbar": {
              "outlinewidth": 0,
              "ticks": ""
             }
            },
            "type": "scattergl"
           }
          ],
          "scattermapbox": [
           {
            "marker": {
             "colorbar": {
              "outlinewidth": 0,
              "ticks": ""
             }
            },
            "type": "scattermapbox"
           }
          ],
          "scatterpolar": [
           {
            "marker": {
             "colorbar": {
              "outlinewidth": 0,
              "ticks": ""
             }
            },
            "type": "scatterpolar"
           }
          ],
          "scatterpolargl": [
           {
            "marker": {
             "colorbar": {
              "outlinewidth": 0,
              "ticks": ""
             }
            },
            "type": "scatterpolargl"
           }
          ],
          "scatterternary": [
           {
            "marker": {
             "colorbar": {
              "outlinewidth": 0,
              "ticks": ""
             }
            },
            "type": "scatterternary"
           }
          ],
          "surface": [
           {
            "colorbar": {
             "outlinewidth": 0,
             "ticks": ""
            },
            "colorscale": [
             [
              0,
              "#0d0887"
             ],
             [
              0.1111111111111111,
              "#46039f"
             ],
             [
              0.2222222222222222,
              "#7201a8"
             ],
             [
              0.3333333333333333,
              "#9c179e"
             ],
             [
              0.4444444444444444,
              "#bd3786"
             ],
             [
              0.5555555555555556,
              "#d8576b"
             ],
             [
              0.6666666666666666,
              "#ed7953"
             ],
             [
              0.7777777777777778,
              "#fb9f3a"
             ],
             [
              0.8888888888888888,
              "#fdca26"
             ],
             [
              1,
              "#f0f921"
             ]
            ],
            "type": "surface"
           }
          ],
          "table": [
           {
            "cells": {
             "fill": {
              "color": "#EBF0F8"
             },
             "line": {
              "color": "white"
             }
            },
            "header": {
             "fill": {
              "color": "#C8D4E3"
             },
             "line": {
              "color": "white"
             }
            },
            "type": "table"
           }
          ]
         },
         "layout": {
          "annotationdefaults": {
           "arrowcolor": "#2a3f5f",
           "arrowhead": 0,
           "arrowwidth": 1
          },
          "autotypenumbers": "strict",
          "coloraxis": {
           "colorbar": {
            "outlinewidth": 0,
            "ticks": ""
           }
          },
          "colorscale": {
           "diverging": [
            [
             0,
             "#8e0152"
            ],
            [
             0.1,
             "#c51b7d"
            ],
            [
             0.2,
             "#de77ae"
            ],
            [
             0.3,
             "#f1b6da"
            ],
            [
             0.4,
             "#fde0ef"
            ],
            [
             0.5,
             "#f7f7f7"
            ],
            [
             0.6,
             "#e6f5d0"
            ],
            [
             0.7,
             "#b8e186"
            ],
            [
             0.8,
             "#7fbc41"
            ],
            [
             0.9,
             "#4d9221"
            ],
            [
             1,
             "#276419"
            ]
           ],
           "sequential": [
            [
             0,
             "#0d0887"
            ],
            [
             0.1111111111111111,
             "#46039f"
            ],
            [
             0.2222222222222222,
             "#7201a8"
            ],
            [
             0.3333333333333333,
             "#9c179e"
            ],
            [
             0.4444444444444444,
             "#bd3786"
            ],
            [
             0.5555555555555556,
             "#d8576b"
            ],
            [
             0.6666666666666666,
             "#ed7953"
            ],
            [
             0.7777777777777778,
             "#fb9f3a"
            ],
            [
             0.8888888888888888,
             "#fdca26"
            ],
            [
             1,
             "#f0f921"
            ]
           ],
           "sequentialminus": [
            [
             0,
             "#0d0887"
            ],
            [
             0.1111111111111111,
             "#46039f"
            ],
            [
             0.2222222222222222,
             "#7201a8"
            ],
            [
             0.3333333333333333,
             "#9c179e"
            ],
            [
             0.4444444444444444,
             "#bd3786"
            ],
            [
             0.5555555555555556,
             "#d8576b"
            ],
            [
             0.6666666666666666,
             "#ed7953"
            ],
            [
             0.7777777777777778,
             "#fb9f3a"
            ],
            [
             0.8888888888888888,
             "#fdca26"
            ],
            [
             1,
             "#f0f921"
            ]
           ]
          },
          "colorway": [
           "#636efa",
           "#EF553B",
           "#00cc96",
           "#ab63fa",
           "#FFA15A",
           "#19d3f3",
           "#FF6692",
           "#B6E880",
           "#FF97FF",
           "#FECB52"
          ],
          "font": {
           "color": "#2a3f5f"
          },
          "geo": {
           "bgcolor": "white",
           "lakecolor": "white",
           "landcolor": "#E5ECF6",
           "showlakes": true,
           "showland": true,
           "subunitcolor": "white"
          },
          "hoverlabel": {
           "align": "left"
          },
          "hovermode": "closest",
          "mapbox": {
           "style": "light"
          },
          "paper_bgcolor": "white",
          "plot_bgcolor": "#E5ECF6",
          "polar": {
           "angularaxis": {
            "gridcolor": "white",
            "linecolor": "white",
            "ticks": ""
           },
           "bgcolor": "#E5ECF6",
           "radialaxis": {
            "gridcolor": "white",
            "linecolor": "white",
            "ticks": ""
           }
          },
          "scene": {
           "xaxis": {
            "backgroundcolor": "#E5ECF6",
            "gridcolor": "white",
            "gridwidth": 2,
            "linecolor": "white",
            "showbackground": true,
            "ticks": "",
            "zerolinecolor": "white"
           },
           "yaxis": {
            "backgroundcolor": "#E5ECF6",
            "gridcolor": "white",
            "gridwidth": 2,
            "linecolor": "white",
            "showbackground": true,
            "ticks": "",
            "zerolinecolor": "white"
           },
           "zaxis": {
            "backgroundcolor": "#E5ECF6",
            "gridcolor": "white",
            "gridwidth": 2,
            "linecolor": "white",
            "showbackground": true,
            "ticks": "",
            "zerolinecolor": "white"
           }
          },
          "shapedefaults": {
           "line": {
            "color": "#2a3f5f"
           }
          },
          "ternary": {
           "aaxis": {
            "gridcolor": "white",
            "linecolor": "white",
            "ticks": ""
           },
           "baxis": {
            "gridcolor": "white",
            "linecolor": "white",
            "ticks": ""
           },
           "bgcolor": "#E5ECF6",
           "caxis": {
            "gridcolor": "white",
            "linecolor": "white",
            "ticks": ""
           }
          },
          "title": {
           "x": 0.05
          },
          "xaxis": {
           "automargin": true,
           "gridcolor": "white",
           "linecolor": "white",
           "ticks": "",
           "title": {
            "standoff": 15
           },
           "zerolinecolor": "white",
           "zerolinewidth": 2
          },
          "yaxis": {
           "automargin": true,
           "gridcolor": "white",
           "linecolor": "white",
           "ticks": "",
           "title": {
            "standoff": 15
           },
           "zerolinecolor": "white",
           "zerolinewidth": 2
          }
         }
        },
        "title": {
         "text": "Centroids obtained with Kmeans (k=4) of the first 50 ratings of each user"
        },
        "xaxis": {
         "anchor": "y",
         "domain": [
          0,
          1
         ],
         "title": {
          "text": "category"
         }
        },
        "yaxis": {
         "anchor": "x",
         "domain": [
          0,
          1
         ],
         "title": {
          "text": "Number of beer"
         }
        }
       }
      }
     },
     "metadata": {},
     "output_type": "display_data"
    }
   ],
   "source": [
    "# Final clustering with names!\n",
    "cl_names = df_cluster_beer['cluster'].apply(lambda cl_id : mapping_idx_name[cl_id])\n",
    "fig = px.line(df_cluster_beer, x = \"category\", y = \"Number of beer\", color = cl_names, \n",
    "              title=\"Centroids obtained with Kmeans (k=4) of the first 50 ratings of each user\")\n",
    "fig.show()"
   ]
  },
  {
   "cell_type": "code",
   "execution_count": 55,
   "metadata": {},
   "outputs": [
    {
     "data": {
      "text/html": [
       "<div>\n",
       "<style scoped>\n",
       "    .dataframe tbody tr th:only-of-type {\n",
       "        vertical-align: middle;\n",
       "    }\n",
       "\n",
       "    .dataframe tbody tr th {\n",
       "        vertical-align: top;\n",
       "    }\n",
       "\n",
       "    .dataframe thead th {\n",
       "        text-align: right;\n",
       "    }\n",
       "</style>\n",
       "<table border=\"1\" class=\"dataframe\">\n",
       "  <thead>\n",
       "    <tr style=\"text-align: right;\">\n",
       "      <th>category</th>\n",
       "      <th>Bocks</th>\n",
       "      <th>Brown Ales</th>\n",
       "      <th>Dark Ales</th>\n",
       "      <th>Dark Lagers</th>\n",
       "      <th>Hybrid Beers</th>\n",
       "      <th>India Pale Ales</th>\n",
       "      <th>Pale Ales</th>\n",
       "      <th>Pale Lagers</th>\n",
       "      <th>Porters</th>\n",
       "      <th>Specialty Beer</th>\n",
       "      <th>Stouts</th>\n",
       "      <th>Strong Ales</th>\n",
       "      <th>Weird Cocktail</th>\n",
       "      <th>Wheat Beers</th>\n",
       "      <th>Wild/Sour Beers</th>\n",
       "    </tr>\n",
       "    <tr>\n",
       "      <th>user_name</th>\n",
       "      <th></th>\n",
       "      <th></th>\n",
       "      <th></th>\n",
       "      <th></th>\n",
       "      <th></th>\n",
       "      <th></th>\n",
       "      <th></th>\n",
       "      <th></th>\n",
       "      <th></th>\n",
       "      <th></th>\n",
       "      <th></th>\n",
       "      <th></th>\n",
       "      <th></th>\n",
       "      <th></th>\n",
       "      <th></th>\n",
       "    </tr>\n",
       "  </thead>\n",
       "  <tbody>\n",
       "    <tr>\n",
       "      <th>-Rick</th>\n",
       "      <td>0</td>\n",
       "      <td>0</td>\n",
       "      <td>0</td>\n",
       "      <td>0</td>\n",
       "      <td>0</td>\n",
       "      <td>14</td>\n",
       "      <td>4</td>\n",
       "      <td>0</td>\n",
       "      <td>1</td>\n",
       "      <td>0</td>\n",
       "      <td>16</td>\n",
       "      <td>7</td>\n",
       "      <td>0</td>\n",
       "      <td>1</td>\n",
       "      <td>7</td>\n",
       "    </tr>\n",
       "    <tr>\n",
       "      <th>1000lbgrizzly</th>\n",
       "      <td>0</td>\n",
       "      <td>3</td>\n",
       "      <td>2</td>\n",
       "      <td>0</td>\n",
       "      <td>1</td>\n",
       "      <td>10</td>\n",
       "      <td>10</td>\n",
       "      <td>3</td>\n",
       "      <td>1</td>\n",
       "      <td>2</td>\n",
       "      <td>9</td>\n",
       "      <td>2</td>\n",
       "      <td>0</td>\n",
       "      <td>5</td>\n",
       "      <td>2</td>\n",
       "    </tr>\n",
       "    <tr>\n",
       "      <th>1424IpA</th>\n",
       "      <td>0</td>\n",
       "      <td>1</td>\n",
       "      <td>0</td>\n",
       "      <td>0</td>\n",
       "      <td>0</td>\n",
       "      <td>14</td>\n",
       "      <td>9</td>\n",
       "      <td>2</td>\n",
       "      <td>6</td>\n",
       "      <td>1</td>\n",
       "      <td>8</td>\n",
       "      <td>4</td>\n",
       "      <td>0</td>\n",
       "      <td>1</td>\n",
       "      <td>4</td>\n",
       "    </tr>\n",
       "    <tr>\n",
       "      <th>2Xmd</th>\n",
       "      <td>0</td>\n",
       "      <td>0</td>\n",
       "      <td>0</td>\n",
       "      <td>1</td>\n",
       "      <td>1</td>\n",
       "      <td>14</td>\n",
       "      <td>8</td>\n",
       "      <td>4</td>\n",
       "      <td>1</td>\n",
       "      <td>3</td>\n",
       "      <td>5</td>\n",
       "      <td>7</td>\n",
       "      <td>1</td>\n",
       "      <td>3</td>\n",
       "      <td>2</td>\n",
       "    </tr>\n",
       "    <tr>\n",
       "      <th>2ellas</th>\n",
       "      <td>0</td>\n",
       "      <td>3</td>\n",
       "      <td>1</td>\n",
       "      <td>2</td>\n",
       "      <td>0</td>\n",
       "      <td>15</td>\n",
       "      <td>3</td>\n",
       "      <td>10</td>\n",
       "      <td>3</td>\n",
       "      <td>1</td>\n",
       "      <td>6</td>\n",
       "      <td>3</td>\n",
       "      <td>0</td>\n",
       "      <td>2</td>\n",
       "      <td>1</td>\n",
       "    </tr>\n",
       "  </tbody>\n",
       "</table>\n",
       "</div>"
      ],
      "text/plain": [
       "category       Bocks  Brown Ales  Dark Ales  Dark Lagers  Hybrid Beers  \\\n",
       "user_name                                                                \n",
       "-Rick              0           0          0            0             0   \n",
       "1000lbgrizzly      0           3          2            0             1   \n",
       "1424IpA            0           1          0            0             0   \n",
       "2Xmd               0           0          0            1             1   \n",
       "2ellas             0           3          1            2             0   \n",
       "\n",
       "category       India Pale Ales  Pale Ales  Pale Lagers  Porters  \\\n",
       "user_name                                                         \n",
       "-Rick                       14          4            0        1   \n",
       "1000lbgrizzly               10         10            3        1   \n",
       "1424IpA                     14          9            2        6   \n",
       "2Xmd                        14          8            4        1   \n",
       "2ellas                      15          3           10        3   \n",
       "\n",
       "category       Specialty Beer  Stouts  Strong Ales  Weird Cocktail  \\\n",
       "user_name                                                            \n",
       "-Rick                       0      16            7               0   \n",
       "1000lbgrizzly               2       9            2               0   \n",
       "1424IpA                     1       8            4               0   \n",
       "2Xmd                        3       5            7               1   \n",
       "2ellas                      1       6            3               0   \n",
       "\n",
       "category       Wheat Beers  Wild/Sour Beers  \n",
       "user_name                                    \n",
       "-Rick                    1                7  \n",
       "1000lbgrizzly            5                2  \n",
       "1424IpA                  1                4  \n",
       "2Xmd                     3                2  \n",
       "2ellas                   2                1  "
      ]
     },
     "execution_count": 55,
     "metadata": {},
     "output_type": "execute_result"
    }
   ],
   "source": [
    "# How many beers of different categories a user rated in his last 50 ratings\n",
    "\n",
    "df_to_cluster_last = df_valid_ratings[df_valid_ratings[\"rating_number\"] >= 450]\n",
    "user_to_cat_last = df_to_cluster_last.groupby([\"user_name\", \"category\"])[\"beer_id\"].count()\n",
    "user_to_cat_last = user_to_cat_last.unstack(level=-1, fill_value = 0)\n",
    "user_to_cat_last.head(5)"
   ]
  },
  {
   "cell_type": "code",
   "execution_count": 56,
   "metadata": {},
   "outputs": [
    {
     "data": {
      "text/html": [
       "<div>\n",
       "<style scoped>\n",
       "    .dataframe tbody tr th:only-of-type {\n",
       "        vertical-align: middle;\n",
       "    }\n",
       "\n",
       "    .dataframe tbody tr th {\n",
       "        vertical-align: top;\n",
       "    }\n",
       "\n",
       "    .dataframe thead th {\n",
       "        text-align: right;\n",
       "    }\n",
       "</style>\n",
       "<table border=\"1\" class=\"dataframe\">\n",
       "  <thead>\n",
       "    <tr style=\"text-align: right;\">\n",
       "      <th>category</th>\n",
       "      <th>Bocks</th>\n",
       "      <th>Brown Ales</th>\n",
       "      <th>Dark Ales</th>\n",
       "      <th>Dark Lagers</th>\n",
       "      <th>Hybrid Beers</th>\n",
       "      <th>India Pale Ales</th>\n",
       "      <th>Pale Ales</th>\n",
       "      <th>Pale Lagers</th>\n",
       "      <th>Porters</th>\n",
       "      <th>Specialty Beer</th>\n",
       "      <th>Stouts</th>\n",
       "      <th>Strong Ales</th>\n",
       "      <th>Weird Cocktail</th>\n",
       "      <th>Wheat Beers</th>\n",
       "      <th>Wild/Sour Beers</th>\n",
       "      <th>first_50_cluster</th>\n",
       "    </tr>\n",
       "    <tr>\n",
       "      <th>user_name</th>\n",
       "      <th></th>\n",
       "      <th></th>\n",
       "      <th></th>\n",
       "      <th></th>\n",
       "      <th></th>\n",
       "      <th></th>\n",
       "      <th></th>\n",
       "      <th></th>\n",
       "      <th></th>\n",
       "      <th></th>\n",
       "      <th></th>\n",
       "      <th></th>\n",
       "      <th></th>\n",
       "      <th></th>\n",
       "      <th></th>\n",
       "      <th></th>\n",
       "    </tr>\n",
       "  </thead>\n",
       "  <tbody>\n",
       "    <tr>\n",
       "      <th>-Rick</th>\n",
       "      <td>0</td>\n",
       "      <td>2</td>\n",
       "      <td>0</td>\n",
       "      <td>2</td>\n",
       "      <td>0</td>\n",
       "      <td>29</td>\n",
       "      <td>7</td>\n",
       "      <td>2</td>\n",
       "      <td>2</td>\n",
       "      <td>2</td>\n",
       "      <td>3</td>\n",
       "      <td>1</td>\n",
       "      <td>0</td>\n",
       "      <td>0</td>\n",
       "      <td>0</td>\n",
       "      <td>0</td>\n",
       "    </tr>\n",
       "    <tr>\n",
       "      <th>1000lbgrizzly</th>\n",
       "      <td>0</td>\n",
       "      <td>5</td>\n",
       "      <td>0</td>\n",
       "      <td>1</td>\n",
       "      <td>0</td>\n",
       "      <td>4</td>\n",
       "      <td>9</td>\n",
       "      <td>7</td>\n",
       "      <td>2</td>\n",
       "      <td>8</td>\n",
       "      <td>6</td>\n",
       "      <td>4</td>\n",
       "      <td>0</td>\n",
       "      <td>3</td>\n",
       "      <td>1</td>\n",
       "      <td>1</td>\n",
       "    </tr>\n",
       "    <tr>\n",
       "      <th>1424IpA</th>\n",
       "      <td>0</td>\n",
       "      <td>0</td>\n",
       "      <td>1</td>\n",
       "      <td>0</td>\n",
       "      <td>0</td>\n",
       "      <td>21</td>\n",
       "      <td>3</td>\n",
       "      <td>1</td>\n",
       "      <td>1</td>\n",
       "      <td>1</td>\n",
       "      <td>12</td>\n",
       "      <td>4</td>\n",
       "      <td>0</td>\n",
       "      <td>1</td>\n",
       "      <td>5</td>\n",
       "      <td>0</td>\n",
       "    </tr>\n",
       "    <tr>\n",
       "      <th>2Xmd</th>\n",
       "      <td>0</td>\n",
       "      <td>2</td>\n",
       "      <td>1</td>\n",
       "      <td>1</td>\n",
       "      <td>0</td>\n",
       "      <td>25</td>\n",
       "      <td>5</td>\n",
       "      <td>1</td>\n",
       "      <td>1</td>\n",
       "      <td>2</td>\n",
       "      <td>9</td>\n",
       "      <td>1</td>\n",
       "      <td>0</td>\n",
       "      <td>2</td>\n",
       "      <td>0</td>\n",
       "      <td>0</td>\n",
       "    </tr>\n",
       "    <tr>\n",
       "      <th>2ellas</th>\n",
       "      <td>0</td>\n",
       "      <td>2</td>\n",
       "      <td>1</td>\n",
       "      <td>0</td>\n",
       "      <td>0</td>\n",
       "      <td>31</td>\n",
       "      <td>9</td>\n",
       "      <td>0</td>\n",
       "      <td>0</td>\n",
       "      <td>0</td>\n",
       "      <td>2</td>\n",
       "      <td>4</td>\n",
       "      <td>0</td>\n",
       "      <td>1</td>\n",
       "      <td>0</td>\n",
       "      <td>0</td>\n",
       "    </tr>\n",
       "  </tbody>\n",
       "</table>\n",
       "</div>"
      ],
      "text/plain": [
       "category       Bocks  Brown Ales  Dark Ales  Dark Lagers  Hybrid Beers  \\\n",
       "user_name                                                                \n",
       "-Rick              0           2          0            2             0   \n",
       "1000lbgrizzly      0           5          0            1             0   \n",
       "1424IpA            0           0          1            0             0   \n",
       "2Xmd               0           2          1            1             0   \n",
       "2ellas             0           2          1            0             0   \n",
       "\n",
       "category       India Pale Ales  Pale Ales  Pale Lagers  Porters  \\\n",
       "user_name                                                         \n",
       "-Rick                       29          7            2        2   \n",
       "1000lbgrizzly                4          9            7        2   \n",
       "1424IpA                     21          3            1        1   \n",
       "2Xmd                        25          5            1        1   \n",
       "2ellas                      31          9            0        0   \n",
       "\n",
       "category       Specialty Beer  Stouts  Strong Ales  Weird Cocktail  \\\n",
       "user_name                                                            \n",
       "-Rick                       2       3            1               0   \n",
       "1000lbgrizzly               8       6            4               0   \n",
       "1424IpA                     1      12            4               0   \n",
       "2Xmd                        2       9            1               0   \n",
       "2ellas                      0       2            4               0   \n",
       "\n",
       "category       Wheat Beers  Wild/Sour Beers  first_50_cluster  \n",
       "user_name                                                      \n",
       "-Rick                    0                0                 0  \n",
       "1000lbgrizzly            3                1                 1  \n",
       "1424IpA                  1                5                 0  \n",
       "2Xmd                     2                0                 0  \n",
       "2ellas                   1                0                 0  "
      ]
     },
     "execution_count": 56,
     "metadata": {},
     "output_type": "execute_result"
    }
   ],
   "source": [
    "user_to_cat_first[\"first_50_cluster\"] = user_clustering_4.labels_\n",
    "user_to_cat_last[\"first_50_cluster\"] = user_clustering_4.labels_\n",
    "\n",
    "user_to_cat_first.head(5)"
   ]
  },
  {
   "cell_type": "code",
   "execution_count": 57,
   "metadata": {},
   "outputs": [],
   "source": [
    "## To be even more confident about our clusters, we bootstrap the data to get 95% confidence intervals.\n",
    "\n",
    "cluster_list=[]\n",
    "cate_list=[]\n",
    "ci_low_mean_first_rating_list=[]\n",
    "ci_high_mean_first_rating_list=[]\n",
    "mean_first_rating_list=[]\n",
    "ci_low_mean_last_rating_list=[]\n",
    "ci_high_mean_last_rating_list=[]\n",
    "mean_last_rating_list=[]\n",
    "t_test_list=[]\n",
    "\n",
    "cluster_team = user_to_cat_first['first_50_cluster'].unique()\n",
    "categ_beer = user_to_cat_first.columns[0:15]\n",
    "\n",
    "for team in cluster_team:\n",
    "\n",
    "    current_team_first_rating = user_to_cat_first[user_to_cat_first['first_50_cluster']==team]\n",
    "    current_team_last_rating = user_to_cat_last[user_to_cat_last['first_50_cluster']==team]\n",
    "\n",
    "    for cate in categ_beer:\n",
    "\n",
    "        current_ttest=ttest_rel(current_team_first_rating[cate],current_team_last_rating[cate])[1]\n",
    "        #if current_ttest<0.05:\n",
    "            #print('the p-value for ttest in the team',team,'for the category',cate,'is',current_ttest)\n",
    "\n",
    "        ci_low_mean_first_rating, ci_high_mean_first_rating = bootstrap((current_team_first_rating[cate].values,), np.mean).confidence_interval\n",
    "        ci_low_mean_last_rating, ci_high_mean_last_rating = bootstrap((current_team_last_rating[cate].values,), np.mean).confidence_interval\n",
    "\n",
    "        mean_first_rating_list.append(current_team_first_rating[cate].mean())\n",
    "        mean_last_rating_list.append(current_team_last_rating[cate].mean())\n",
    "\n",
    "        cluster_list.append(team)\n",
    "        cate_list.append(cate)\n",
    "\n",
    "        ci_low_mean_first_rating_list.append(ci_low_mean_first_rating)\n",
    "        ci_high_mean_first_rating_list.append(ci_high_mean_first_rating)\n",
    "        ci_low_mean_last_rating_list.append(ci_low_mean_last_rating)\n",
    "        ci_high_mean_last_rating_list.append(ci_high_mean_last_rating)\n",
    "        t_test_list.append(current_ttest)"
   ]
  },
  {
   "cell_type": "code",
   "execution_count": 58,
   "metadata": {},
   "outputs": [],
   "source": [
    "conf_inter_cluster = pd.DataFrame({'Cluster' : cluster_list, 'Category' : cate_list, 'CI_low_first_rating':ci_low_mean_first_rating_list,\n",
    "                                'CI_high_first_rating':ci_high_mean_first_rating_list,'mean_first_ratings':mean_first_rating_list,\n",
    "                                'CI_low_last_rating':ci_low_mean_last_rating_list,'CI_high_last_rating':ci_high_mean_last_rating_list,\n",
    "                                'mean_last_ratings':mean_last_rating_list,'t_test':t_test_list})"
   ]
  },
  {
   "cell_type": "code",
   "execution_count": 59,
   "metadata": {},
   "outputs": [],
   "source": [
    "## We also perform bootstrapping on all users (without clustering)\n",
    "\n",
    "cate_list=[]\n",
    "ci_low_mean_first_rating_list=[]\n",
    "ci_high_mean_first_rating_list=[]\n",
    "mean_first_rating_list=[]\n",
    "ci_low_mean_last_rating_list=[]\n",
    "ci_high_mean_last_rating_list=[]\n",
    "mean_last_rating_list=[]\n",
    "t_test_list=[]\n",
    "categ_beer = user_to_cat_first.columns[0:15]\n",
    "\n",
    "for cate in categ_beer:\n",
    "\n",
    "    current_ttest=ttest_rel(user_to_cat_first[cate],user_to_cat_last[cate])[1]\n",
    "    #if current_ttest<0.05:\n",
    "    #print('the p-value for ttest in the team',team,'for the category',cate,'is',current_ttest)\n",
    "    ci_low_mean_first_rating, ci_high_mean_first_rating = bootstrap((user_to_cat_first[cate].values,), np.mean).confidence_interval\n",
    "    ci_low_mean_last_rating, ci_high_mean_last_rating = bootstrap((user_to_cat_last[cate].values,), np.mean).confidence_interval\n",
    "    mean_first_rating_list.append(user_to_cat_first[cate].mean())\n",
    "    mean_last_rating_list.append(user_to_cat_last[cate].mean())\n",
    "    cate_list.append(cate)\n",
    "    ci_low_mean_first_rating_list.append(ci_low_mean_first_rating)\n",
    "    ci_high_mean_first_rating_list.append(ci_high_mean_first_rating)\n",
    "    ci_low_mean_last_rating_list.append(ci_low_mean_last_rating)\n",
    "    ci_high_mean_last_rating_list.append(ci_high_mean_last_rating)\n",
    "    t_test_list.append(current_ttest)"
   ]
  },
  {
   "cell_type": "code",
   "execution_count": 60,
   "metadata": {},
   "outputs": [
    {
     "data": {
      "text/html": [
       "<div>\n",
       "<style scoped>\n",
       "    .dataframe tbody tr th:only-of-type {\n",
       "        vertical-align: middle;\n",
       "    }\n",
       "\n",
       "    .dataframe tbody tr th {\n",
       "        vertical-align: top;\n",
       "    }\n",
       "\n",
       "    .dataframe thead th {\n",
       "        text-align: right;\n",
       "    }\n",
       "</style>\n",
       "<table border=\"1\" class=\"dataframe\">\n",
       "  <thead>\n",
       "    <tr style=\"text-align: right;\">\n",
       "      <th></th>\n",
       "      <th>Category</th>\n",
       "      <th>CI_low_first_rating</th>\n",
       "      <th>CI_high_first_rating</th>\n",
       "      <th>mean_first_ratings</th>\n",
       "      <th>CI_low_last_rating</th>\n",
       "      <th>CI_high_last_rating</th>\n",
       "      <th>mean_last_ratings</th>\n",
       "      <th>t_test</th>\n",
       "      <th>Cluster</th>\n",
       "    </tr>\n",
       "  </thead>\n",
       "  <tbody>\n",
       "    <tr>\n",
       "      <th>0</th>\n",
       "      <td>Bocks</td>\n",
       "      <td>1.158763</td>\n",
       "      <td>1.339175</td>\n",
       "      <td>1.247423</td>\n",
       "      <td>0.854639</td>\n",
       "      <td>1.020619</td>\n",
       "      <td>0.932990</td>\n",
       "      <td>1.040049e-08</td>\n",
       "      <td>All</td>\n",
       "    </tr>\n",
       "    <tr>\n",
       "      <th>1</th>\n",
       "      <td>Brown Ales</td>\n",
       "      <td>2.534021</td>\n",
       "      <td>2.791753</td>\n",
       "      <td>2.661856</td>\n",
       "      <td>1.974227</td>\n",
       "      <td>2.192784</td>\n",
       "      <td>2.082474</td>\n",
       "      <td>9.232355e-14</td>\n",
       "      <td>All</td>\n",
       "    </tr>\n",
       "    <tr>\n",
       "      <th>2</th>\n",
       "      <td>Dark Ales</td>\n",
       "      <td>1.135086</td>\n",
       "      <td>1.314433</td>\n",
       "      <td>1.224742</td>\n",
       "      <td>0.761856</td>\n",
       "      <td>0.913402</td>\n",
       "      <td>0.837113</td>\n",
       "      <td>5.993624e-13</td>\n",
       "      <td>All</td>\n",
       "    </tr>\n",
       "    <tr>\n",
       "      <th>3</th>\n",
       "      <td>Dark Lagers</td>\n",
       "      <td>1.271134</td>\n",
       "      <td>1.475258</td>\n",
       "      <td>1.371134</td>\n",
       "      <td>0.722680</td>\n",
       "      <td>0.860825</td>\n",
       "      <td>0.790722</td>\n",
       "      <td>8.970276e-25</td>\n",
       "      <td>All</td>\n",
       "    </tr>\n",
       "    <tr>\n",
       "      <th>4</th>\n",
       "      <td>Hybrid Beers</td>\n",
       "      <td>0.272165</td>\n",
       "      <td>0.342268</td>\n",
       "      <td>0.307216</td>\n",
       "      <td>0.277320</td>\n",
       "      <td>0.348454</td>\n",
       "      <td>0.312371</td>\n",
       "      <td>8.332273e-01</td>\n",
       "      <td>All</td>\n",
       "    </tr>\n",
       "  </tbody>\n",
       "</table>\n",
       "</div>"
      ],
      "text/plain": [
       "       Category  CI_low_first_rating  CI_high_first_rating  \\\n",
       "0         Bocks             1.158763              1.339175   \n",
       "1    Brown Ales             2.534021              2.791753   \n",
       "2     Dark Ales             1.135086              1.314433   \n",
       "3   Dark Lagers             1.271134              1.475258   \n",
       "4  Hybrid Beers             0.272165              0.342268   \n",
       "\n",
       "   mean_first_ratings  CI_low_last_rating  CI_high_last_rating  \\\n",
       "0            1.247423            0.854639             1.020619   \n",
       "1            2.661856            1.974227             2.192784   \n",
       "2            1.224742            0.761856             0.913402   \n",
       "3            1.371134            0.722680             0.860825   \n",
       "4            0.307216            0.277320             0.348454   \n",
       "\n",
       "   mean_last_ratings        t_test Cluster  \n",
       "0           0.932990  1.040049e-08     All  \n",
       "1           2.082474  9.232355e-14     All  \n",
       "2           0.837113  5.993624e-13     All  \n",
       "3           0.790722  8.970276e-25     All  \n",
       "4           0.312371  8.332273e-01     All  "
      ]
     },
     "execution_count": 60,
     "metadata": {},
     "output_type": "execute_result"
    }
   ],
   "source": [
    "conf_inter_all= pd.DataFrame({ 'Category' : cate_list, 'CI_low_first_rating':ci_low_mean_first_rating_list,\n",
    "                    'CI_high_first_rating':ci_high_mean_first_rating_list,'mean_first_ratings':mean_first_rating_list,\n",
    "                    'CI_low_last_rating':ci_low_mean_last_rating_list,'CI_high_last_rating':ci_high_mean_last_rating_list,\n",
    "                    'mean_last_ratings':mean_last_rating_list,'t_test':t_test_list})\n",
    "conf_inter_all['Cluster'] = 'All'\n",
    "conf_inter_all.head(5)"
   ]
  },
  {
   "cell_type": "code",
   "execution_count": 61,
   "metadata": {},
   "outputs": [
    {
     "data": {
      "text/html": [
       "<div>\n",
       "<style scoped>\n",
       "    .dataframe tbody tr th:only-of-type {\n",
       "        vertical-align: middle;\n",
       "    }\n",
       "\n",
       "    .dataframe tbody tr th {\n",
       "        vertical-align: top;\n",
       "    }\n",
       "\n",
       "    .dataframe thead th {\n",
       "        text-align: right;\n",
       "    }\n",
       "</style>\n",
       "<table border=\"1\" class=\"dataframe\">\n",
       "  <thead>\n",
       "    <tr style=\"text-align: right;\">\n",
       "      <th></th>\n",
       "      <th>Category</th>\n",
       "      <th>CI_low_first_rating</th>\n",
       "      <th>CI_high_first_rating</th>\n",
       "      <th>mean_first_ratings</th>\n",
       "      <th>CI_low_last_rating</th>\n",
       "      <th>CI_high_last_rating</th>\n",
       "      <th>mean_last_ratings</th>\n",
       "      <th>t_test</th>\n",
       "      <th>Cluster</th>\n",
       "    </tr>\n",
       "  </thead>\n",
       "  <tbody>\n",
       "    <tr>\n",
       "      <th>0</th>\n",
       "      <td>Bocks</td>\n",
       "      <td>1.158763</td>\n",
       "      <td>1.339175</td>\n",
       "      <td>1.247423</td>\n",
       "      <td>0.854639</td>\n",
       "      <td>1.020619</td>\n",
       "      <td>0.932990</td>\n",
       "      <td>1.040049e-08</td>\n",
       "      <td>All</td>\n",
       "    </tr>\n",
       "    <tr>\n",
       "      <th>1</th>\n",
       "      <td>Brown Ales</td>\n",
       "      <td>2.534021</td>\n",
       "      <td>2.791753</td>\n",
       "      <td>2.661856</td>\n",
       "      <td>1.974227</td>\n",
       "      <td>2.192784</td>\n",
       "      <td>2.082474</td>\n",
       "      <td>9.232355e-14</td>\n",
       "      <td>All</td>\n",
       "    </tr>\n",
       "    <tr>\n",
       "      <th>2</th>\n",
       "      <td>Dark Ales</td>\n",
       "      <td>1.135086</td>\n",
       "      <td>1.314433</td>\n",
       "      <td>1.224742</td>\n",
       "      <td>0.761856</td>\n",
       "      <td>0.913402</td>\n",
       "      <td>0.837113</td>\n",
       "      <td>5.993624e-13</td>\n",
       "      <td>All</td>\n",
       "    </tr>\n",
       "    <tr>\n",
       "      <th>3</th>\n",
       "      <td>Dark Lagers</td>\n",
       "      <td>1.271134</td>\n",
       "      <td>1.475258</td>\n",
       "      <td>1.371134</td>\n",
       "      <td>0.722680</td>\n",
       "      <td>0.860825</td>\n",
       "      <td>0.790722</td>\n",
       "      <td>8.970276e-25</td>\n",
       "      <td>All</td>\n",
       "    </tr>\n",
       "    <tr>\n",
       "      <th>4</th>\n",
       "      <td>Hybrid Beers</td>\n",
       "      <td>0.272165</td>\n",
       "      <td>0.342268</td>\n",
       "      <td>0.307216</td>\n",
       "      <td>0.277320</td>\n",
       "      <td>0.348454</td>\n",
       "      <td>0.312371</td>\n",
       "      <td>8.332273e-01</td>\n",
       "      <td>All</td>\n",
       "    </tr>\n",
       "  </tbody>\n",
       "</table>\n",
       "</div>"
      ],
      "text/plain": [
       "       Category  CI_low_first_rating  CI_high_first_rating  \\\n",
       "0         Bocks             1.158763              1.339175   \n",
       "1    Brown Ales             2.534021              2.791753   \n",
       "2     Dark Ales             1.135086              1.314433   \n",
       "3   Dark Lagers             1.271134              1.475258   \n",
       "4  Hybrid Beers             0.272165              0.342268   \n",
       "\n",
       "   mean_first_ratings  CI_low_last_rating  CI_high_last_rating  \\\n",
       "0            1.247423            0.854639             1.020619   \n",
       "1            2.661856            1.974227             2.192784   \n",
       "2            1.224742            0.761856             0.913402   \n",
       "3            1.371134            0.722680             0.860825   \n",
       "4            0.307216            0.277320             0.348454   \n",
       "\n",
       "   mean_last_ratings        t_test Cluster  \n",
       "0           0.932990  1.040049e-08     All  \n",
       "1           2.082474  9.232355e-14     All  \n",
       "2           0.837113  5.993624e-13     All  \n",
       "3           0.790722  8.970276e-25     All  \n",
       "4           0.312371  8.332273e-01     All  "
      ]
     },
     "execution_count": 61,
     "metadata": {},
     "output_type": "execute_result"
    }
   ],
   "source": [
    "df_conf_inter = pd.concat([conf_inter_all, conf_inter_cluster], ignore_index = True)\n",
    "df_conf_inter.head(5)"
   ]
  },
  {
   "cell_type": "code",
   "execution_count": 62,
   "metadata": {},
   "outputs": [
    {
     "data": {
      "text/html": [
       "<div>\n",
       "<style scoped>\n",
       "    .dataframe tbody tr th:only-of-type {\n",
       "        vertical-align: middle;\n",
       "    }\n",
       "\n",
       "    .dataframe tbody tr th {\n",
       "        vertical-align: top;\n",
       "    }\n",
       "\n",
       "    .dataframe thead th {\n",
       "        text-align: right;\n",
       "    }\n",
       "</style>\n",
       "<table border=\"1\" class=\"dataframe\">\n",
       "  <thead>\n",
       "    <tr style=\"text-align: right;\">\n",
       "      <th></th>\n",
       "      <th>(CI_low_first_rating, 0)</th>\n",
       "      <th>(CI_low_first_rating, 1)</th>\n",
       "      <th>(CI_low_first_rating, 2)</th>\n",
       "      <th>(CI_low_first_rating, 3)</th>\n",
       "      <th>(CI_low_first_rating, All)</th>\n",
       "      <th>(CI_high_first_rating, 0)</th>\n",
       "      <th>(CI_high_first_rating, 1)</th>\n",
       "      <th>(CI_high_first_rating, 2)</th>\n",
       "      <th>(CI_high_first_rating, 3)</th>\n",
       "      <th>(CI_high_first_rating, All)</th>\n",
       "      <th>...</th>\n",
       "      <th>(mean_last_ratings, 0)</th>\n",
       "      <th>(mean_last_ratings, 1)</th>\n",
       "      <th>(mean_last_ratings, 2)</th>\n",
       "      <th>(mean_last_ratings, 3)</th>\n",
       "      <th>(mean_last_ratings, All)</th>\n",
       "      <th>(t_test, 0)</th>\n",
       "      <th>(t_test, 1)</th>\n",
       "      <th>(t_test, 2)</th>\n",
       "      <th>(t_test, 3)</th>\n",
       "      <th>(t_test, All)</th>\n",
       "    </tr>\n",
       "    <tr>\n",
       "      <th>Category</th>\n",
       "      <th></th>\n",
       "      <th></th>\n",
       "      <th></th>\n",
       "      <th></th>\n",
       "      <th></th>\n",
       "      <th></th>\n",
       "      <th></th>\n",
       "      <th></th>\n",
       "      <th></th>\n",
       "      <th></th>\n",
       "      <th></th>\n",
       "      <th></th>\n",
       "      <th></th>\n",
       "      <th></th>\n",
       "      <th></th>\n",
       "      <th></th>\n",
       "      <th></th>\n",
       "      <th></th>\n",
       "      <th></th>\n",
       "      <th></th>\n",
       "      <th></th>\n",
       "    </tr>\n",
       "  </thead>\n",
       "  <tbody>\n",
       "    <tr>\n",
       "      <th>Bocks</th>\n",
       "      <td>0.493724</td>\n",
       "      <td>1.517766</td>\n",
       "      <td>1.539007</td>\n",
       "      <td>0.673469</td>\n",
       "      <td>1.158763</td>\n",
       "      <td>0.715481</td>\n",
       "      <td>1.817259</td>\n",
       "      <td>2.092199</td>\n",
       "      <td>0.969388</td>\n",
       "      <td>1.339175</td>\n",
       "      <td>...</td>\n",
       "      <td>0.531381</td>\n",
       "      <td>1.116751</td>\n",
       "      <td>1.631206</td>\n",
       "      <td>0.551020</td>\n",
       "      <td>0.932990</td>\n",
       "      <td>0.378103</td>\n",
       "      <td>1.210879e-08</td>\n",
       "      <td>4.189340e-01</td>\n",
       "      <td>0.002002</td>\n",
       "      <td>1.040049e-08</td>\n",
       "    </tr>\n",
       "    <tr>\n",
       "      <th>Brown Ales</th>\n",
       "      <td>1.543933</td>\n",
       "      <td>3.076142</td>\n",
       "      <td>2.397163</td>\n",
       "      <td>2.224490</td>\n",
       "      <td>2.534021</td>\n",
       "      <td>1.925201</td>\n",
       "      <td>3.489848</td>\n",
       "      <td>3.070922</td>\n",
       "      <td>2.795918</td>\n",
       "      <td>2.791753</td>\n",
       "      <td>...</td>\n",
       "      <td>1.263598</td>\n",
       "      <td>2.489848</td>\n",
       "      <td>2.617021</td>\n",
       "      <td>1.877551</td>\n",
       "      <td>2.082474</td>\n",
       "      <td>0.000191</td>\n",
       "      <td>1.567179e-09</td>\n",
       "      <td>6.209248e-01</td>\n",
       "      <td>0.000374</td>\n",
       "      <td>9.232355e-14</td>\n",
       "    </tr>\n",
       "    <tr>\n",
       "      <th>Dark Ales</th>\n",
       "      <td>0.510460</td>\n",
       "      <td>1.505076</td>\n",
       "      <td>1.198582</td>\n",
       "      <td>0.794748</td>\n",
       "      <td>1.135086</td>\n",
       "      <td>0.736402</td>\n",
       "      <td>1.812183</td>\n",
       "      <td>1.680851</td>\n",
       "      <td>1.139349</td>\n",
       "      <td>1.314433</td>\n",
       "      <td>...</td>\n",
       "      <td>0.451883</td>\n",
       "      <td>1.050761</td>\n",
       "      <td>1.219858</td>\n",
       "      <td>0.602041</td>\n",
       "      <td>0.837113</td>\n",
       "      <td>0.023793</td>\n",
       "      <td>3.901109e-10</td>\n",
       "      <td>2.220434e-01</td>\n",
       "      <td>0.000568</td>\n",
       "      <td>5.993624e-13</td>\n",
       "    </tr>\n",
       "    <tr>\n",
       "      <th>Dark Lagers</th>\n",
       "      <td>0.447699</td>\n",
       "      <td>1.388325</td>\n",
       "      <td>3.035461</td>\n",
       "      <td>0.505102</td>\n",
       "      <td>1.271134</td>\n",
       "      <td>0.669456</td>\n",
       "      <td>1.672589</td>\n",
       "      <td>3.666667</td>\n",
       "      <td>0.780612</td>\n",
       "      <td>1.475258</td>\n",
       "      <td>...</td>\n",
       "      <td>0.489540</td>\n",
       "      <td>0.923858</td>\n",
       "      <td>1.269504</td>\n",
       "      <td>0.545918</td>\n",
       "      <td>0.790722</td>\n",
       "      <td>0.424669</td>\n",
       "      <td>4.049361e-12</td>\n",
       "      <td>1.775291e-21</td>\n",
       "      <td>0.346989</td>\n",
       "      <td>8.970276e-25</td>\n",
       "    </tr>\n",
       "    <tr>\n",
       "      <th>Hybrid Beers</th>\n",
       "      <td>0.171548</td>\n",
       "      <td>0.281726</td>\n",
       "      <td>0.276596</td>\n",
       "      <td>0.209184</td>\n",
       "      <td>0.272165</td>\n",
       "      <td>0.301255</td>\n",
       "      <td>0.393401</td>\n",
       "      <td>0.492549</td>\n",
       "      <td>0.357143</td>\n",
       "      <td>0.342268</td>\n",
       "      <td>...</td>\n",
       "      <td>0.246862</td>\n",
       "      <td>0.390863</td>\n",
       "      <td>0.297872</td>\n",
       "      <td>0.244898</td>\n",
       "      <td>0.312371</td>\n",
       "      <td>0.790709</td>\n",
       "      <td>1.923013e-01</td>\n",
       "      <td>2.219053e-01</td>\n",
       "      <td>0.438106</td>\n",
       "      <td>8.332273e-01</td>\n",
       "    </tr>\n",
       "  </tbody>\n",
       "</table>\n",
       "<p>5 rows × 35 columns</p>\n",
       "</div>"
      ],
      "text/plain": [
       "              (CI_low_first_rating, 0)  (CI_low_first_rating, 1)  \\\n",
       "Category                                                           \n",
       "Bocks                         0.493724                  1.517766   \n",
       "Brown Ales                    1.543933                  3.076142   \n",
       "Dark Ales                     0.510460                  1.505076   \n",
       "Dark Lagers                   0.447699                  1.388325   \n",
       "Hybrid Beers                  0.171548                  0.281726   \n",
       "\n",
       "              (CI_low_first_rating, 2)  (CI_low_first_rating, 3)  \\\n",
       "Category                                                           \n",
       "Bocks                         1.539007                  0.673469   \n",
       "Brown Ales                    2.397163                  2.224490   \n",
       "Dark Ales                     1.198582                  0.794748   \n",
       "Dark Lagers                   3.035461                  0.505102   \n",
       "Hybrid Beers                  0.276596                  0.209184   \n",
       "\n",
       "              (CI_low_first_rating, All)  (CI_high_first_rating, 0)  \\\n",
       "Category                                                              \n",
       "Bocks                           1.158763                   0.715481   \n",
       "Brown Ales                      2.534021                   1.925201   \n",
       "Dark Ales                       1.135086                   0.736402   \n",
       "Dark Lagers                     1.271134                   0.669456   \n",
       "Hybrid Beers                    0.272165                   0.301255   \n",
       "\n",
       "              (CI_high_first_rating, 1)  (CI_high_first_rating, 2)  \\\n",
       "Category                                                             \n",
       "Bocks                          1.817259                   2.092199   \n",
       "Brown Ales                     3.489848                   3.070922   \n",
       "Dark Ales                      1.812183                   1.680851   \n",
       "Dark Lagers                    1.672589                   3.666667   \n",
       "Hybrid Beers                   0.393401                   0.492549   \n",
       "\n",
       "              (CI_high_first_rating, 3)  (CI_high_first_rating, All)  ...  \\\n",
       "Category                                                              ...   \n",
       "Bocks                          0.969388                     1.339175  ...   \n",
       "Brown Ales                     2.795918                     2.791753  ...   \n",
       "Dark Ales                      1.139349                     1.314433  ...   \n",
       "Dark Lagers                    0.780612                     1.475258  ...   \n",
       "Hybrid Beers                   0.357143                     0.342268  ...   \n",
       "\n",
       "              (mean_last_ratings, 0)  (mean_last_ratings, 1)  \\\n",
       "Category                                                       \n",
       "Bocks                       0.531381                1.116751   \n",
       "Brown Ales                  1.263598                2.489848   \n",
       "Dark Ales                   0.451883                1.050761   \n",
       "Dark Lagers                 0.489540                0.923858   \n",
       "Hybrid Beers                0.246862                0.390863   \n",
       "\n",
       "              (mean_last_ratings, 2)  (mean_last_ratings, 3)  \\\n",
       "Category                                                       \n",
       "Bocks                       1.631206                0.551020   \n",
       "Brown Ales                  2.617021                1.877551   \n",
       "Dark Ales                   1.219858                0.602041   \n",
       "Dark Lagers                 1.269504                0.545918   \n",
       "Hybrid Beers                0.297872                0.244898   \n",
       "\n",
       "              (mean_last_ratings, All)  (t_test, 0)   (t_test, 1)  \\\n",
       "Category                                                            \n",
       "Bocks                         0.932990     0.378103  1.210879e-08   \n",
       "Brown Ales                    2.082474     0.000191  1.567179e-09   \n",
       "Dark Ales                     0.837113     0.023793  3.901109e-10   \n",
       "Dark Lagers                   0.790722     0.424669  4.049361e-12   \n",
       "Hybrid Beers                  0.312371     0.790709  1.923013e-01   \n",
       "\n",
       "               (t_test, 2)  (t_test, 3)  (t_test, All)  \n",
       "Category                                                \n",
       "Bocks         4.189340e-01     0.002002   1.040049e-08  \n",
       "Brown Ales    6.209248e-01     0.000374   9.232355e-14  \n",
       "Dark Ales     2.220434e-01     0.000568   5.993624e-13  \n",
       "Dark Lagers   1.775291e-21     0.346989   8.970276e-25  \n",
       "Hybrid Beers  2.219053e-01     0.438106   8.332273e-01  \n",
       "\n",
       "[5 rows x 35 columns]"
      ]
     },
     "execution_count": 62,
     "metadata": {},
     "output_type": "execute_result"
    }
   ],
   "source": [
    "df_pivot = df_conf_inter.pivot(index='Category', columns='Cluster')\n",
    "df_pivot.columns = df_pivot.columns.to_flat_index()\n",
    "df_pivot.head(5)"
   ]
  },
  {
   "cell_type": "code",
   "execution_count": 63,
   "metadata": {},
   "outputs": [],
   "source": [
    "df_means = df_pivot.iloc[:,10:15]"
   ]
  },
  {
   "cell_type": "code",
   "execution_count": 64,
   "metadata": {},
   "outputs": [
    {
     "data": {
      "application/vnd.plotly.v1+json": {
       "config": {
        "plotlyServerURL": "https://plot.ly"
       },
       "data": [
        {
         "line": {
          "color": "rgb(239,85,59)"
         },
         "mode": "lines",
         "name": "last 50 beers",
         "showlegend": true,
         "type": "scatter",
         "visible": true,
         "x": [
          "Bocks",
          "Brown Ales",
          "Dark Ales",
          "Dark Lagers",
          "Hybrid Beers",
          "India Pale Ales",
          "Pale Ales",
          "Pale Lagers",
          "Porters",
          "Specialty Beer",
          "Stouts",
          "Strong Ales",
          "Weird Cocktail",
          "Wheat Beers",
          "Wild/Sour Beers"
         ],
         "y": [
          0.9329896907216495,
          2.082474226804124,
          0.8371134020618557,
          0.790721649484536,
          0.31237113402061856,
          12.076288659793814,
          8.402061855670103,
          2.8824742268041237,
          2.2103092783505156,
          1.5257731958762886,
          7.223711340206186,
          4.818556701030928,
          0.021649484536082474,
          2.2824742268041236,
          3.6010309278350516
         ]
        },
        {
         "fillcolor": "rgba(239,85,59,0.3)",
         "line": {
          "width": 0
         },
         "mode": "lines",
         "name": "first, CI Low",
         "showlegend": false,
         "type": "scatter",
         "visible": true,
         "x": [
          "Bocks",
          "Brown Ales",
          "Dark Ales",
          "Dark Lagers",
          "Hybrid Beers",
          "India Pale Ales",
          "Pale Ales",
          "Pale Lagers",
          "Porters",
          "Specialty Beer",
          "Stouts",
          "Strong Ales",
          "Weird Cocktail",
          "Wheat Beers",
          "Wild/Sour Beers"
         ],
         "y": [
          0.8546391752577319,
          1.9742268041237114,
          0.7618556701030927,
          0.722680412371134,
          0.277319587628866,
          11.655986321627253,
          8.15979381443299,
          2.7041237113402063,
          2.1,
          1.4195876288659794,
          6.934020618556701,
          4.617525773195876,
          0.013402061855670102,
          2.160824742268041,
          3.3556701030927836
         ]
        },
        {
         "fill": "tonexty",
         "fillcolor": "rgba(239,85,59,0.3)",
         "line": {
          "width": 0
         },
         "mode": "lines",
         "name": "first, CI high",
         "showlegend": false,
         "type": "scatter",
         "visible": true,
         "x": [
          "Bocks",
          "Brown Ales",
          "Dark Ales",
          "Dark Lagers",
          "Hybrid Beers",
          "India Pale Ales",
          "Pale Ales",
          "Pale Lagers",
          "Porters",
          "Specialty Beer",
          "Stouts",
          "Strong Ales",
          "Weird Cocktail",
          "Wheat Beers",
          "Wild/Sour Beers"
         ],
         "y": [
          1.0206185567010309,
          2.1927835051546394,
          0.9134020618556701,
          0.8608247422680413,
          0.34845360824742266,
          12.529896907216495,
          8.644329896907216,
          3.084166265022489,
          2.318556701030928,
          1.6432989690721649,
          7.543298969072165,
          5.028865979381443,
          0.030927835051546393,
          2.41581234698991,
          3.8783505154639175
         ]
        },
        {
         "line": {
          "color": "rgb(0,204,150)"
         },
         "mode": "lines",
         "name": "first 50 beers",
         "showlegend": true,
         "type": "scatter",
         "visible": true,
         "x": [
          "Bocks",
          "Brown Ales",
          "Dark Ales",
          "Dark Lagers",
          "Hybrid Beers",
          "India Pale Ales",
          "Pale Ales",
          "Pale Lagers",
          "Porters",
          "Specialty Beer",
          "Stouts",
          "Strong Ales",
          "Weird Cocktail",
          "Wheat Beers",
          "Wild/Sour Beers"
         ],
         "y": [
          1.2474226804123711,
          2.6618556701030927,
          1.2247422680412372,
          1.3711340206185567,
          0.30721649484536084,
          11.427835051546392,
          7.752577319587629,
          4.309278350515464,
          2.118556701030928,
          1.48659793814433,
          6.77319587628866,
          5.315463917525773,
          0.06701030927835051,
          2.936082474226804,
          1.0010309278350515
         ]
        },
        {
         "fillcolor": "rgba(0,204,150,0.3)",
         "line": {
          "width": 0
         },
         "mode": "lines",
         "name": "first, CI Low",
         "showlegend": false,
         "type": "scatter",
         "visible": true,
         "x": [
          "Bocks",
          "Brown Ales",
          "Dark Ales",
          "Dark Lagers",
          "Hybrid Beers",
          "India Pale Ales",
          "Pale Ales",
          "Pale Lagers",
          "Porters",
          "Specialty Beer",
          "Stouts",
          "Strong Ales",
          "Weird Cocktail",
          "Wheat Beers",
          "Wild/Sour Beers"
         ],
         "y": [
          1.1587628865979382,
          2.534020618556701,
          1.135085669366151,
          1.2711340206185566,
          0.2721649484536082,
          10.911340206185567,
          7.521649484536082,
          4.006185567010309,
          2.0061855670103093,
          1.3762886597938144,
          6.444329896907217,
          5.10721649484536,
          0.05154639175257732,
          2.775257731958763,
          0.8804123711340206
         ]
        },
        {
         "fill": "tonexty",
         "fillcolor": "rgba(0,204,150,0.3)",
         "line": {
          "width": 0
         },
         "mode": "lines",
         "name": "first, CI High",
         "showlegend": false,
         "type": "scatter",
         "visible": true,
         "x": [
          "Bocks",
          "Brown Ales",
          "Dark Ales",
          "Dark Lagers",
          "Hybrid Beers",
          "India Pale Ales",
          "Pale Ales",
          "Pale Lagers",
          "Porters",
          "Specialty Beer",
          "Stouts",
          "Strong Ales",
          "Weird Cocktail",
          "Wheat Beers",
          "Wild/Sour Beers"
         ],
         "y": [
          1.3391752577319587,
          2.7917525773195875,
          1.3144329896907216,
          1.475257731958763,
          0.3422680412371134,
          11.938144329896907,
          7.988659793814433,
          4.637113402061856,
          2.241237113402062,
          1.609278350515464,
          7.125773195876289,
          5.533972052092363,
          0.08350515463917525,
          3.1043132581278696,
          1.1422680412371133
         ]
        },
        {
         "line": {
          "color": "rgb(239,85,59)"
         },
         "mode": "lines",
         "name": "last 50 beers",
         "showlegend": true,
         "type": "scatter",
         "visible": false,
         "x": [
          "Bocks",
          "Brown Ales",
          "Dark Ales",
          "Dark Lagers",
          "Hybrid Beers",
          "India Pale Ales",
          "Pale Ales",
          "Pale Lagers",
          "Porters",
          "Specialty Beer",
          "Stouts",
          "Strong Ales",
          "Weird Cocktail",
          "Wheat Beers",
          "Wild/Sour Beers"
         ],
         "y": [
          0.5313807531380753,
          1.2635983263598327,
          0.45188284518828453,
          0.4895397489539749,
          0.24686192468619247,
          16.16317991631799,
          8.142259414225942,
          2.200836820083682,
          1.9623430962343096,
          1.200836820083682,
          7.606694560669456,
          3.702928870292887,
          0.008368200836820083,
          1.8242677824267783,
          4.205020920502092
         ]
        },
        {
         "fillcolor": "rgba(239,85,59,0.3)",
         "line": {
          "width": 0
         },
         "mode": "lines",
         "name": "first, CI Low",
         "showlegend": false,
         "type": "scatter",
         "visible": false,
         "x": [
          "Bocks",
          "Brown Ales",
          "Dark Ales",
          "Dark Lagers",
          "Hybrid Beers",
          "India Pale Ales",
          "Pale Ales",
          "Pale Lagers",
          "Porters",
          "Specialty Beer",
          "Stouts",
          "Strong Ales",
          "Weird Cocktail",
          "Wheat Beers",
          "Wild/Sour Beers"
         ],
         "y": [
          0.41841004184100417,
          1.100418410041841,
          0.3514644351464435,
          0.3891213389121339,
          0.18828451882845187,
          15.276150627615063,
          7.677824267782427,
          1.9121338912133892,
          1.7573221757322175,
          1.0292887029288702,
          6.958158995815899,
          3.3682008368200838,
          0,
          1.6192468619246863,
          3.702928870292887
         ]
        },
        {
         "fill": "tonexty",
         "fillcolor": "rgba(239,85,59,0.3)",
         "line": {
          "width": 0
         },
         "mode": "lines",
         "name": "first, CI high",
         "showlegend": false,
         "type": "scatter",
         "visible": false,
         "x": [
          "Bocks",
          "Brown Ales",
          "Dark Ales",
          "Dark Lagers",
          "Hybrid Beers",
          "India Pale Ales",
          "Pale Ales",
          "Pale Lagers",
          "Porters",
          "Specialty Beer",
          "Stouts",
          "Strong Ales",
          "Weird Cocktail",
          "Wheat Beers",
          "Wild/Sour Beers"
         ],
         "y": [
          0.6694560669456067,
          1.4309623430962344,
          0.5648535564853556,
          0.5899581589958159,
          0.30962343096234307,
          17.11715481171548,
          8.623430962343097,
          2.5439330543933054,
          2.1799163179916317,
          1.389121338912134,
          8.338912133891213,
          4.054393305439331,
          0.02092050209205021,
          2.0585774058577404,
          4.7656903765690375
         ]
        },
        {
         "line": {
          "color": "rgb(0,204,150)"
         },
         "mode": "lines",
         "name": "first 50 beers",
         "showlegend": true,
         "type": "scatter",
         "visible": false,
         "x": [
          "Bocks",
          "Brown Ales",
          "Dark Ales",
          "Dark Lagers",
          "Hybrid Beers",
          "India Pale Ales",
          "Pale Ales",
          "Pale Lagers",
          "Porters",
          "Specialty Beer",
          "Stouts",
          "Strong Ales",
          "Weird Cocktail",
          "Wheat Beers",
          "Wild/Sour Beers"
         ],
         "y": [
          0.5983263598326359,
          1.7322175732217573,
          0.6150627615062761,
          0.5481171548117155,
          0.23430962343096234,
          22.832635983263597,
          7.468619246861925,
          2.01255230125523,
          1.3514644351464435,
          1.2217573221757323,
          4.556485355648536,
          4.075313807531381,
          0.012552301255230125,
          1.8786610878661087,
          0.8619246861924686
         ]
        },
        {
         "fillcolor": "rgba(0,204,150,0.3)",
         "line": {
          "width": 0
         },
         "mode": "lines",
         "name": "first, CI Low",
         "showlegend": false,
         "type": "scatter",
         "visible": false,
         "x": [
          "Bocks",
          "Brown Ales",
          "Dark Ales",
          "Dark Lagers",
          "Hybrid Beers",
          "India Pale Ales",
          "Pale Ales",
          "Pale Lagers",
          "Porters",
          "Specialty Beer",
          "Stouts",
          "Strong Ales",
          "Weird Cocktail",
          "Wheat Beers",
          "Wild/Sour Beers"
         ],
         "y": [
          0.49372384937238495,
          1.5439330543933054,
          0.5104602510460251,
          0.4476987447698745,
          0.17154811715481172,
          22.188284518828453,
          7.050209205020921,
          1.7656903765690377,
          1.1882845188284519,
          1.0502092050209204,
          4.138911190102778,
          3.7615062761506275,
          0,
          1.6694560669456067,
          0.6778242677824268
         ]
        },
        {
         "fill": "tonexty",
         "fillcolor": "rgba(0,204,150,0.3)",
         "line": {
          "width": 0
         },
         "mode": "lines",
         "name": "first, CI High",
         "showlegend": false,
         "type": "scatter",
         "visible": false,
         "x": [
          "Bocks",
          "Brown Ales",
          "Dark Ales",
          "Dark Lagers",
          "Hybrid Beers",
          "India Pale Ales",
          "Pale Ales",
          "Pale Lagers",
          "Porters",
          "Specialty Beer",
          "Stouts",
          "Strong Ales",
          "Weird Cocktail",
          "Wheat Beers",
          "Wild/Sour Beers"
         ],
         "y": [
          0.7154811715481172,
          1.9252013061922826,
          0.7364016736401674,
          0.6694560669456067,
          0.301255230125523,
          23.543933054393307,
          7.916317991631799,
          2.292887029288703,
          1.5188284518828452,
          1.4393305439330544,
          4.97907949790795,
          4.405857740585774,
          0.029288702928870293,
          2.1129707112970713,
          1.1506276150627615
         ]
        },
        {
         "line": {
          "color": "rgb(239,85,59)"
         },
         "mode": "lines",
         "name": "last 50 beers",
         "showlegend": true,
         "type": "scatter",
         "visible": false,
         "x": [
          "Bocks",
          "Brown Ales",
          "Dark Ales",
          "Dark Lagers",
          "Hybrid Beers",
          "India Pale Ales",
          "Pale Ales",
          "Pale Lagers",
          "Porters",
          "Specialty Beer",
          "Stouts",
          "Strong Ales",
          "Weird Cocktail",
          "Wheat Beers",
          "Wild/Sour Beers"
         ],
         "y": [
          0.5510204081632653,
          1.8775510204081634,
          0.6020408163265306,
          0.5459183673469388,
          0.24489795918367346,
          11.474489795918368,
          7.040816326530612,
          1.6377551020408163,
          2.576530612244898,
          1.4846938775510203,
          10.188775510204081,
          5.091836734693878,
          0.00510204081632653,
          1.8775510204081634,
          4.801020408163265
         ]
        },
        {
         "fillcolor": "rgba(239,85,59,0.3)",
         "line": {
          "width": 0
         },
         "mode": "lines",
         "name": "first, CI Low",
         "showlegend": false,
         "type": "scatter",
         "visible": false,
         "x": [
          "Bocks",
          "Brown Ales",
          "Dark Ales",
          "Dark Lagers",
          "Hybrid Beers",
          "India Pale Ales",
          "Pale Ales",
          "Pale Lagers",
          "Porters",
          "Specialty Beer",
          "Stouts",
          "Strong Ales",
          "Weird Cocktail",
          "Wheat Beers",
          "Wild/Sour Beers"
         ],
         "y": [
          0.4387755102040816,
          1.653061224489796,
          0.4846938775510204,
          0.42346938775510207,
          0.17857142857142858,
          10.683673469387756,
          6.591836734693878,
          1.3673469387755102,
          2.326530612244898,
          1.2653061224489797,
          9.46938775510204,
          4.627551020408164,
          0,
          1.6479591836734695,
          4.178571428571429
         ]
        },
        {
         "fill": "tonexty",
         "fillcolor": "rgba(239,85,59,0.3)",
         "line": {
          "width": 0
         },
         "mode": "lines",
         "name": "first, CI high",
         "showlegend": false,
         "type": "scatter",
         "visible": false,
         "x": [
          "Bocks",
          "Brown Ales",
          "Dark Ales",
          "Dark Lagers",
          "Hybrid Beers",
          "India Pale Ales",
          "Pale Ales",
          "Pale Lagers",
          "Porters",
          "Specialty Beer",
          "Stouts",
          "Strong Ales",
          "Weird Cocktail",
          "Wheat Beers",
          "Wild/Sour Beers"
         ],
         "y": [
          0.6785714285714286,
          2.127551020408163,
          0.7346938775510204,
          0.6836734693877551,
          0.3163265306122449,
          12.375022579898049,
          7.510204081632653,
          1.969387755102041,
          2.836734693877551,
          1.75,
          10.979591836734693,
          5.607142857142857,
          0.015306122448979591,
          2.107142857142857,
          5.470814906091377
         ]
        },
        {
         "line": {
          "color": "rgb(0,204,150)"
         },
         "mode": "lines",
         "name": "first 50 beers",
         "showlegend": true,
         "type": "scatter",
         "visible": false,
         "x": [
          "Bocks",
          "Brown Ales",
          "Dark Ales",
          "Dark Lagers",
          "Hybrid Beers",
          "India Pale Ales",
          "Pale Ales",
          "Pale Lagers",
          "Porters",
          "Specialty Beer",
          "Stouts",
          "Strong Ales",
          "Weird Cocktail",
          "Wheat Beers",
          "Wild/Sour Beers"
         ],
         "y": [
          0.8163265306122449,
          2.5051020408163267,
          0.9591836734693877,
          0.6326530612244898,
          0.28061224489795916,
          9.872448979591837,
          4.75,
          1.2959183673469388,
          3.0969387755102042,
          1.3418367346938775,
          15.14795918367347,
          6.168367346938775,
          0.07653061224489796,
          1.5510204081632653,
          1.5051020408163265
         ]
        },
        {
         "fillcolor": "rgba(0,204,150,0.3)",
         "line": {
          "width": 0
         },
         "mode": "lines",
         "name": "first, CI Low",
         "showlegend": false,
         "type": "scatter",
         "visible": false,
         "x": [
          "Bocks",
          "Brown Ales",
          "Dark Ales",
          "Dark Lagers",
          "Hybrid Beers",
          "India Pale Ales",
          "Pale Ales",
          "Pale Lagers",
          "Porters",
          "Specialty Beer",
          "Stouts",
          "Strong Ales",
          "Weird Cocktail",
          "Wheat Beers",
          "Wild/Sour Beers"
         ],
         "y": [
          0.673469387755102,
          2.2244897959183674,
          0.7947483279125193,
          0.5051020408163265,
          0.20918367346938777,
          9.08673469387755,
          4.3979591836734695,
          1.1122448979591837,
          2.8010204081632653,
          1.1326530612244898,
          14.48469387755102,
          5.673469387755102,
          0.04081632653061224,
          1.316326530612245,
          1.1785714285714286
         ]
        },
        {
         "fill": "tonexty",
         "fillcolor": "rgba(0,204,150,0.3)",
         "line": {
          "width": 0
         },
         "mode": "lines",
         "name": "first, CI High",
         "showlegend": false,
         "type": "scatter",
         "visible": false,
         "x": [
          "Bocks",
          "Brown Ales",
          "Dark Ales",
          "Dark Lagers",
          "Hybrid Beers",
          "India Pale Ales",
          "Pale Ales",
          "Pale Lagers",
          "Porters",
          "Specialty Beer",
          "Stouts",
          "Strong Ales",
          "Weird Cocktail",
          "Wheat Beers",
          "Wild/Sour Beers"
         ],
         "y": [
          0.9693877551020408,
          2.795918367346939,
          1.139348906508447,
          0.7806122448979592,
          0.35714285714285715,
          10.642857142857142,
          5.112244897959184,
          1.5051020408163265,
          3.438775510204082,
          1.586734693877551,
          15.887755102040817,
          6.75,
          0.12244897959183673,
          1.8265306122448979,
          1.9183673469387754
         ]
        },
        {
         "line": {
          "color": "rgb(239,85,59)"
         },
         "mode": "lines",
         "name": "last 50 beers",
         "showlegend": true,
         "type": "scatter",
         "visible": false,
         "x": [
          "Bocks",
          "Brown Ales",
          "Dark Ales",
          "Dark Lagers",
          "Hybrid Beers",
          "India Pale Ales",
          "Pale Ales",
          "Pale Lagers",
          "Porters",
          "Specialty Beer",
          "Stouts",
          "Strong Ales",
          "Weird Cocktail",
          "Wheat Beers",
          "Wild/Sour Beers"
         ],
         "y": [
          1.6312056737588652,
          2.617021276595745,
          1.2198581560283688,
          1.2695035460992907,
          0.2978723404255319,
          10.148936170212766,
          9.51063829787234,
          4.652482269503546,
          2.1631205673758864,
          1.6879432624113475,
          5.297872340425532,
          4.680851063829787,
          0.028368794326241134,
          2.893617021276596,
          1.900709219858156
         ]
        },
        {
         "fillcolor": "rgba(239,85,59,0.3)",
         "line": {
          "width": 0
         },
         "mode": "lines",
         "name": "first, CI Low",
         "showlegend": false,
         "type": "scatter",
         "visible": false,
         "x": [
          "Bocks",
          "Brown Ales",
          "Dark Ales",
          "Dark Lagers",
          "Hybrid Beers",
          "India Pale Ales",
          "Pale Ales",
          "Pale Lagers",
          "Porters",
          "Specialty Beer",
          "Stouts",
          "Strong Ales",
          "Weird Cocktail",
          "Wheat Beers",
          "Wild/Sour Beers"
         ],
         "y": [
          1.3404255319148937,
          2.326241134751773,
          0.9858156028368794,
          1.0638297872340425,
          0.20567375886524822,
          9.077095762199015,
          8.950354609929079,
          4.092198581560283,
          1.8865248226950355,
          1.3829787234042554,
          4.75177304964539,
          4.177304964539007,
          0.0070921985815602835,
          2.5390070921985815,
          1.4822695035460993
         ]
        },
        {
         "fill": "tonexty",
         "fillcolor": "rgba(239,85,59,0.3)",
         "line": {
          "width": 0
         },
         "mode": "lines",
         "name": "first, CI high",
         "showlegend": false,
         "type": "scatter",
         "visible": false,
         "x": [
          "Bocks",
          "Brown Ales",
          "Dark Ales",
          "Dark Lagers",
          "Hybrid Beers",
          "India Pale Ales",
          "Pale Ales",
          "Pale Lagers",
          "Porters",
          "Specialty Beer",
          "Stouts",
          "Strong Ales",
          "Weird Cocktail",
          "Wheat Beers",
          "Wild/Sour Beers"
         ],
         "y": [
          2,
          2.9148936170212765,
          1.475177304964539,
          1.50354609929078,
          0.3971631205673759,
          11.326241134751774,
          10.156028368794326,
          5.320517876015072,
          2.475177304964539,
          2.1134751773049647,
          5.971631205673759,
          5.205673758865248,
          0.05673758865248227,
          3.297872340425532,
          2.49645390070922
         ]
        },
        {
         "line": {
          "color": "rgb(0,204,150)"
         },
         "mode": "lines",
         "name": "first 50 beers",
         "showlegend": true,
         "type": "scatter",
         "visible": false,
         "x": [
          "Bocks",
          "Brown Ales",
          "Dark Ales",
          "Dark Lagers",
          "Hybrid Beers",
          "India Pale Ales",
          "Pale Ales",
          "Pale Lagers",
          "Porters",
          "Specialty Beer",
          "Stouts",
          "Strong Ales",
          "Weird Cocktail",
          "Wheat Beers",
          "Wild/Sour Beers"
         ],
         "y": [
          1.7943262411347518,
          2.723404255319149,
          1.425531914893617,
          3.347517730496454,
          0.3829787234042553,
          3.297872340425532,
          7.780141843971631,
          13.624113475177305,
          1.5602836879432624,
          1.4184397163120568,
          3.5106382978723403,
          3.950354609929078,
          0.15602836879432624,
          4.74468085106383,
          0.28368794326241137
         ]
        },
        {
         "fillcolor": "rgba(0,204,150,0.3)",
         "line": {
          "width": 0
         },
         "mode": "lines",
         "name": "first, CI Low",
         "showlegend": false,
         "type": "scatter",
         "visible": false,
         "x": [
          "Bocks",
          "Brown Ales",
          "Dark Ales",
          "Dark Lagers",
          "Hybrid Beers",
          "India Pale Ales",
          "Pale Ales",
          "Pale Lagers",
          "Porters",
          "Specialty Beer",
          "Stouts",
          "Strong Ales",
          "Weird Cocktail",
          "Wheat Beers",
          "Wild/Sour Beers"
         ],
         "y": [
          1.5390070921985815,
          2.397163120567376,
          1.198581560283688,
          3.0354609929078014,
          0.2765957446808511,
          2.858156028368794,
          7.191489361702128,
          12.77304964539007,
          1.3120567375886525,
          1.1631205673758864,
          3.0921985815602837,
          3.5531914893617023,
          0.09929078014184398,
          4.2695035460992905,
          0.19148936170212766
         ]
        },
        {
         "fill": "tonexty",
         "fillcolor": "rgba(0,204,150,0.3)",
         "line": {
          "width": 0
         },
         "mode": "lines",
         "name": "first, CI High",
         "showlegend": false,
         "type": "scatter",
         "visible": false,
         "x": [
          "Bocks",
          "Brown Ales",
          "Dark Ales",
          "Dark Lagers",
          "Hybrid Beers",
          "India Pale Ales",
          "Pale Ales",
          "Pale Lagers",
          "Porters",
          "Specialty Beer",
          "Stouts",
          "Strong Ales",
          "Weird Cocktail",
          "Wheat Beers",
          "Wild/Sour Beers"
         ],
         "y": [
          2.0921985815602837,
          3.0709219858156027,
          1.6808510638297873,
          3.6666666666666665,
          0.4925488047720524,
          3.8156028368794326,
          8.347517730496454,
          14.631205673758865,
          1.822695035460993,
          1.7304964539007093,
          3.9858156028368796,
          4.347517730496454,
          0.2127659574468085,
          5.219858156028369,
          0.3900709219858156
         ]
        },
        {
         "line": {
          "color": "rgb(239,85,59)"
         },
         "mode": "lines",
         "name": "last 50 beers",
         "showlegend": true,
         "type": "scatter",
         "visible": false,
         "x": [
          "Bocks",
          "Brown Ales",
          "Dark Ales",
          "Dark Lagers",
          "Hybrid Beers",
          "India Pale Ales",
          "Pale Ales",
          "Pale Lagers",
          "Porters",
          "Specialty Beer",
          "Stouts",
          "Strong Ales",
          "Weird Cocktail",
          "Wheat Beers",
          "Wild/Sour Beers"
         ],
         "y": [
          1.116751269035533,
          2.489847715736041,
          1.0507614213197969,
          0.9238578680203046,
          0.39086294416243655,
          10.586294416243655,
          8.84010152284264,
          3.281725888324873,
          2.1954314720812182,
          1.6852791878172588,
          6.2055837563451774,
          5.408629441624366,
          0.03553299492385787,
          2.5431472081218276,
          3.246192893401015
         ]
        },
        {
         "fillcolor": "rgba(239,85,59,0.3)",
         "line": {
          "width": 0
         },
         "mode": "lines",
         "name": "first, CI Low",
         "showlegend": false,
         "type": "scatter",
         "visible": false,
         "x": [
          "Bocks",
          "Brown Ales",
          "Dark Ales",
          "Dark Lagers",
          "Hybrid Beers",
          "India Pale Ales",
          "Pale Ales",
          "Pale Lagers",
          "Porters",
          "Specialty Beer",
          "Stouts",
          "Strong Ales",
          "Weird Cocktail",
          "Wheat Beers",
          "Wild/Sour Beers"
         ],
         "y": [
          0.9949238578680203,
          2.317258883248731,
          0.9289340101522843,
          0.817258883248731,
          0.3299492385786802,
          10,
          8.467005076142131,
          2.994933848627088,
          2.035532994923858,
          1.5101522842639594,
          5.822335025380711,
          5.088832487309645,
          0.017766497461928935,
          2.3375634517766497,
          2.8781725888324874
         ]
        },
        {
         "fill": "tonexty",
         "fillcolor": "rgba(239,85,59,0.3)",
         "line": {
          "width": 0
         },
         "mode": "lines",
         "name": "first, CI high",
         "showlegend": false,
         "type": "scatter",
         "visible": false,
         "x": [
          "Bocks",
          "Brown Ales",
          "Dark Ales",
          "Dark Lagers",
          "Hybrid Beers",
          "India Pale Ales",
          "Pale Ales",
          "Pale Lagers",
          "Porters",
          "Specialty Beer",
          "Stouts",
          "Strong Ales",
          "Weird Cocktail",
          "Wheat Beers",
          "Wild/Sour Beers"
         ],
         "y": [
          1.251269035532995,
          2.6598984771573604,
          1.1852791878172588,
          1.0380710659898478,
          0.4517766497461929,
          11.180203045685278,
          9.256345177664974,
          3.6040609137055837,
          2.3604060913705585,
          1.8781725888324874,
          6.601522842639594,
          5.7360406091370555,
          0.05583756345177665,
          2.7498257007364235,
          3.6802030456852792
         ]
        },
        {
         "line": {
          "color": "rgb(0,204,150)"
         },
         "mode": "lines",
         "name": "first 50 beers",
         "showlegend": true,
         "type": "scatter",
         "visible": false,
         "x": [
          "Bocks",
          "Brown Ales",
          "Dark Ales",
          "Dark Lagers",
          "Hybrid Beers",
          "India Pale Ales",
          "Pale Ales",
          "Pale Lagers",
          "Porters",
          "Specialty Beer",
          "Stouts",
          "Strong Ales",
          "Weird Cocktail",
          "Wheat Beers",
          "Wild/Sour Beers"
         ],
         "y": [
          1.6598984771573604,
          3.281725888324873,
          1.6548223350253808,
          1.5304568527918783,
          0.33756345177664976,
          8.192893401015228,
          9.408629441624365,
          3.8680203045685277,
          2.296954314720812,
          1.7436548223350254,
          5.119289340101523,
          6.131979695431472,
          0.06345177664974619,
          3.6192893401015227,
          1.0913705583756346
         ]
        },
        {
         "fillcolor": "rgba(0,204,150,0.3)",
         "line": {
          "width": 0
         },
         "mode": "lines",
         "name": "first, CI Low",
         "showlegend": false,
         "type": "scatter",
         "visible": false,
         "x": [
          "Bocks",
          "Brown Ales",
          "Dark Ales",
          "Dark Lagers",
          "Hybrid Beers",
          "India Pale Ales",
          "Pale Ales",
          "Pale Lagers",
          "Porters",
          "Specialty Beer",
          "Stouts",
          "Strong Ales",
          "Weird Cocktail",
          "Wheat Beers",
          "Wild/Sour Beers"
         ],
         "y": [
          1.517766497461929,
          3.0761421319796955,
          1.5050761421319796,
          1.3883248730964468,
          0.2817258883248731,
          7.771573604060913,
          9.083756345177665,
          3.6116705614313296,
          2.1192893401015227,
          1.5558375634517767,
          4.865482233502538,
          5.791878172588833,
          0.04060913705583756,
          3.3654822335025383,
          0.9035532994923858
         ]
        },
        {
         "fill": "tonexty",
         "fillcolor": "rgba(0,204,150,0.3)",
         "line": {
          "width": 0
         },
         "mode": "lines",
         "name": "first, CI High",
         "showlegend": false,
         "type": "scatter",
         "visible": false,
         "x": [
          "Bocks",
          "Brown Ales",
          "Dark Ales",
          "Dark Lagers",
          "Hybrid Beers",
          "India Pale Ales",
          "Pale Ales",
          "Pale Lagers",
          "Porters",
          "Specialty Beer",
          "Stouts",
          "Strong Ales",
          "Weird Cocktail",
          "Wheat Beers",
          "Wild/Sour Beers"
         ],
         "y": [
          1.8172588832487309,
          3.489847715736041,
          1.8121827411167513,
          1.6725888324873097,
          0.3934010152284264,
          8.601522842639595,
          9.771573604060913,
          4.126903553299492,
          2.479695431472081,
          1.9771573604060915,
          5.385786802030457,
          6.477157360406092,
          0.08883248730964467,
          3.8984771573604062,
          1.3375634517766497
         ]
        }
       ],
       "layout": {
        "height": 600,
        "template": {
         "data": {
          "bar": [
           {
            "error_x": {
             "color": "#2a3f5f"
            },
            "error_y": {
             "color": "#2a3f5f"
            },
            "marker": {
             "line": {
              "color": "#E5ECF6",
              "width": 0.5
             },
             "pattern": {
              "fillmode": "overlay",
              "size": 10,
              "solidity": 0.2
             }
            },
            "type": "bar"
           }
          ],
          "barpolar": [
           {
            "marker": {
             "line": {
              "color": "#E5ECF6",
              "width": 0.5
             },
             "pattern": {
              "fillmode": "overlay",
              "size": 10,
              "solidity": 0.2
             }
            },
            "type": "barpolar"
           }
          ],
          "carpet": [
           {
            "aaxis": {
             "endlinecolor": "#2a3f5f",
             "gridcolor": "white",
             "linecolor": "white",
             "minorgridcolor": "white",
             "startlinecolor": "#2a3f5f"
            },
            "baxis": {
             "endlinecolor": "#2a3f5f",
             "gridcolor": "white",
             "linecolor": "white",
             "minorgridcolor": "white",
             "startlinecolor": "#2a3f5f"
            },
            "type": "carpet"
           }
          ],
          "choropleth": [
           {
            "colorbar": {
             "outlinewidth": 0,
             "ticks": ""
            },
            "type": "choropleth"
           }
          ],
          "contour": [
           {
            "colorbar": {
             "outlinewidth": 0,
             "ticks": ""
            },
            "colorscale": [
             [
              0,
              "#0d0887"
             ],
             [
              0.1111111111111111,
              "#46039f"
             ],
             [
              0.2222222222222222,
              "#7201a8"
             ],
             [
              0.3333333333333333,
              "#9c179e"
             ],
             [
              0.4444444444444444,
              "#bd3786"
             ],
             [
              0.5555555555555556,
              "#d8576b"
             ],
             [
              0.6666666666666666,
              "#ed7953"
             ],
             [
              0.7777777777777778,
              "#fb9f3a"
             ],
             [
              0.8888888888888888,
              "#fdca26"
             ],
             [
              1,
              "#f0f921"
             ]
            ],
            "type": "contour"
           }
          ],
          "contourcarpet": [
           {
            "colorbar": {
             "outlinewidth": 0,
             "ticks": ""
            },
            "type": "contourcarpet"
           }
          ],
          "heatmap": [
           {
            "colorbar": {
             "outlinewidth": 0,
             "ticks": ""
            },
            "colorscale": [
             [
              0,
              "#0d0887"
             ],
             [
              0.1111111111111111,
              "#46039f"
             ],
             [
              0.2222222222222222,
              "#7201a8"
             ],
             [
              0.3333333333333333,
              "#9c179e"
             ],
             [
              0.4444444444444444,
              "#bd3786"
             ],
             [
              0.5555555555555556,
              "#d8576b"
             ],
             [
              0.6666666666666666,
              "#ed7953"
             ],
             [
              0.7777777777777778,
              "#fb9f3a"
             ],
             [
              0.8888888888888888,
              "#fdca26"
             ],
             [
              1,
              "#f0f921"
             ]
            ],
            "type": "heatmap"
           }
          ],
          "heatmapgl": [
           {
            "colorbar": {
             "outlinewidth": 0,
             "ticks": ""
            },
            "colorscale": [
             [
              0,
              "#0d0887"
             ],
             [
              0.1111111111111111,
              "#46039f"
             ],
             [
              0.2222222222222222,
              "#7201a8"
             ],
             [
              0.3333333333333333,
              "#9c179e"
             ],
             [
              0.4444444444444444,
              "#bd3786"
             ],
             [
              0.5555555555555556,
              "#d8576b"
             ],
             [
              0.6666666666666666,
              "#ed7953"
             ],
             [
              0.7777777777777778,
              "#fb9f3a"
             ],
             [
              0.8888888888888888,
              "#fdca26"
             ],
             [
              1,
              "#f0f921"
             ]
            ],
            "type": "heatmapgl"
           }
          ],
          "histogram": [
           {
            "marker": {
             "pattern": {
              "fillmode": "overlay",
              "size": 10,
              "solidity": 0.2
             }
            },
            "type": "histogram"
           }
          ],
          "histogram2d": [
           {
            "colorbar": {
             "outlinewidth": 0,
             "ticks": ""
            },
            "colorscale": [
             [
              0,
              "#0d0887"
             ],
             [
              0.1111111111111111,
              "#46039f"
             ],
             [
              0.2222222222222222,
              "#7201a8"
             ],
             [
              0.3333333333333333,
              "#9c179e"
             ],
             [
              0.4444444444444444,
              "#bd3786"
             ],
             [
              0.5555555555555556,
              "#d8576b"
             ],
             [
              0.6666666666666666,
              "#ed7953"
             ],
             [
              0.7777777777777778,
              "#fb9f3a"
             ],
             [
              0.8888888888888888,
              "#fdca26"
             ],
             [
              1,
              "#f0f921"
             ]
            ],
            "type": "histogram2d"
           }
          ],
          "histogram2dcontour": [
           {
            "colorbar": {
             "outlinewidth": 0,
             "ticks": ""
            },
            "colorscale": [
             [
              0,
              "#0d0887"
             ],
             [
              0.1111111111111111,
              "#46039f"
             ],
             [
              0.2222222222222222,
              "#7201a8"
             ],
             [
              0.3333333333333333,
              "#9c179e"
             ],
             [
              0.4444444444444444,
              "#bd3786"
             ],
             [
              0.5555555555555556,
              "#d8576b"
             ],
             [
              0.6666666666666666,
              "#ed7953"
             ],
             [
              0.7777777777777778,
              "#fb9f3a"
             ],
             [
              0.8888888888888888,
              "#fdca26"
             ],
             [
              1,
              "#f0f921"
             ]
            ],
            "type": "histogram2dcontour"
           }
          ],
          "mesh3d": [
           {
            "colorbar": {
             "outlinewidth": 0,
             "ticks": ""
            },
            "type": "mesh3d"
           }
          ],
          "parcoords": [
           {
            "line": {
             "colorbar": {
              "outlinewidth": 0,
              "ticks": ""
             }
            },
            "type": "parcoords"
           }
          ],
          "pie": [
           {
            "automargin": true,
            "type": "pie"
           }
          ],
          "scatter": [
           {
            "fillpattern": {
             "fillmode": "overlay",
             "size": 10,
             "solidity": 0.2
            },
            "type": "scatter"
           }
          ],
          "scatter3d": [
           {
            "line": {
             "colorbar": {
              "outlinewidth": 0,
              "ticks": ""
             }
            },
            "marker": {
             "colorbar": {
              "outlinewidth": 0,
              "ticks": ""
             }
            },
            "type": "scatter3d"
           }
          ],
          "scattercarpet": [
           {
            "marker": {
             "colorbar": {
              "outlinewidth": 0,
              "ticks": ""
             }
            },
            "type": "scattercarpet"
           }
          ],
          "scattergeo": [
           {
            "marker": {
             "colorbar": {
              "outlinewidth": 0,
              "ticks": ""
             }
            },
            "type": "scattergeo"
           }
          ],
          "scattergl": [
           {
            "marker": {
             "colorbar": {
              "outlinewidth": 0,
              "ticks": ""
             }
            },
            "type": "scattergl"
           }
          ],
          "scattermapbox": [
           {
            "marker": {
             "colorbar": {
              "outlinewidth": 0,
              "ticks": ""
             }
            },
            "type": "scattermapbox"
           }
          ],
          "scatterpolar": [
           {
            "marker": {
             "colorbar": {
              "outlinewidth": 0,
              "ticks": ""
             }
            },
            "type": "scatterpolar"
           }
          ],
          "scatterpolargl": [
           {
            "marker": {
             "colorbar": {
              "outlinewidth": 0,
              "ticks": ""
             }
            },
            "type": "scatterpolargl"
           }
          ],
          "scatterternary": [
           {
            "marker": {
             "colorbar": {
              "outlinewidth": 0,
              "ticks": ""
             }
            },
            "type": "scatterternary"
           }
          ],
          "surface": [
           {
            "colorbar": {
             "outlinewidth": 0,
             "ticks": ""
            },
            "colorscale": [
             [
              0,
              "#0d0887"
             ],
             [
              0.1111111111111111,
              "#46039f"
             ],
             [
              0.2222222222222222,
              "#7201a8"
             ],
             [
              0.3333333333333333,
              "#9c179e"
             ],
             [
              0.4444444444444444,
              "#bd3786"
             ],
             [
              0.5555555555555556,
              "#d8576b"
             ],
             [
              0.6666666666666666,
              "#ed7953"
             ],
             [
              0.7777777777777778,
              "#fb9f3a"
             ],
             [
              0.8888888888888888,
              "#fdca26"
             ],
             [
              1,
              "#f0f921"
             ]
            ],
            "type": "surface"
           }
          ],
          "table": [
           {
            "cells": {
             "fill": {
              "color": "#EBF0F8"
             },
             "line": {
              "color": "white"
             }
            },
            "header": {
             "fill": {
              "color": "#C8D4E3"
             },
             "line": {
              "color": "white"
             }
            },
            "type": "table"
           }
          ]
         },
         "layout": {
          "annotationdefaults": {
           "arrowcolor": "#2a3f5f",
           "arrowhead": 0,
           "arrowwidth": 1
          },
          "autotypenumbers": "strict",
          "coloraxis": {
           "colorbar": {
            "outlinewidth": 0,
            "ticks": ""
           }
          },
          "colorscale": {
           "diverging": [
            [
             0,
             "#8e0152"
            ],
            [
             0.1,
             "#c51b7d"
            ],
            [
             0.2,
             "#de77ae"
            ],
            [
             0.3,
             "#f1b6da"
            ],
            [
             0.4,
             "#fde0ef"
            ],
            [
             0.5,
             "#f7f7f7"
            ],
            [
             0.6,
             "#e6f5d0"
            ],
            [
             0.7,
             "#b8e186"
            ],
            [
             0.8,
             "#7fbc41"
            ],
            [
             0.9,
             "#4d9221"
            ],
            [
             1,
             "#276419"
            ]
           ],
           "sequential": [
            [
             0,
             "#0d0887"
            ],
            [
             0.1111111111111111,
             "#46039f"
            ],
            [
             0.2222222222222222,
             "#7201a8"
            ],
            [
             0.3333333333333333,
             "#9c179e"
            ],
            [
             0.4444444444444444,
             "#bd3786"
            ],
            [
             0.5555555555555556,
             "#d8576b"
            ],
            [
             0.6666666666666666,
             "#ed7953"
            ],
            [
             0.7777777777777778,
             "#fb9f3a"
            ],
            [
             0.8888888888888888,
             "#fdca26"
            ],
            [
             1,
             "#f0f921"
            ]
           ],
           "sequentialminus": [
            [
             0,
             "#0d0887"
            ],
            [
             0.1111111111111111,
             "#46039f"
            ],
            [
             0.2222222222222222,
             "#7201a8"
            ],
            [
             0.3333333333333333,
             "#9c179e"
            ],
            [
             0.4444444444444444,
             "#bd3786"
            ],
            [
             0.5555555555555556,
             "#d8576b"
            ],
            [
             0.6666666666666666,
             "#ed7953"
            ],
            [
             0.7777777777777778,
             "#fb9f3a"
            ],
            [
             0.8888888888888888,
             "#fdca26"
            ],
            [
             1,
             "#f0f921"
            ]
           ]
          },
          "colorway": [
           "#636efa",
           "#EF553B",
           "#00cc96",
           "#ab63fa",
           "#FFA15A",
           "#19d3f3",
           "#FF6692",
           "#B6E880",
           "#FF97FF",
           "#FECB52"
          ],
          "font": {
           "color": "#2a3f5f"
          },
          "geo": {
           "bgcolor": "white",
           "lakecolor": "white",
           "landcolor": "#E5ECF6",
           "showlakes": true,
           "showland": true,
           "subunitcolor": "white"
          },
          "hoverlabel": {
           "align": "left"
          },
          "hovermode": "closest",
          "mapbox": {
           "style": "light"
          },
          "paper_bgcolor": "white",
          "plot_bgcolor": "#E5ECF6",
          "polar": {
           "angularaxis": {
            "gridcolor": "white",
            "linecolor": "white",
            "ticks": ""
           },
           "bgcolor": "#E5ECF6",
           "radialaxis": {
            "gridcolor": "white",
            "linecolor": "white",
            "ticks": ""
           }
          },
          "scene": {
           "xaxis": {
            "backgroundcolor": "#E5ECF6",
            "gridcolor": "white",
            "gridwidth": 2,
            "linecolor": "white",
            "showbackground": true,
            "ticks": "",
            "zerolinecolor": "white"
           },
           "yaxis": {
            "backgroundcolor": "#E5ECF6",
            "gridcolor": "white",
            "gridwidth": 2,
            "linecolor": "white",
            "showbackground": true,
            "ticks": "",
            "zerolinecolor": "white"
           },
           "zaxis": {
            "backgroundcolor": "#E5ECF6",
            "gridcolor": "white",
            "gridwidth": 2,
            "linecolor": "white",
            "showbackground": true,
            "ticks": "",
            "zerolinecolor": "white"
           }
          },
          "shapedefaults": {
           "line": {
            "color": "#2a3f5f"
           }
          },
          "ternary": {
           "aaxis": {
            "gridcolor": "white",
            "linecolor": "white",
            "ticks": ""
           },
           "baxis": {
            "gridcolor": "white",
            "linecolor": "white",
            "ticks": ""
           },
           "bgcolor": "#E5ECF6",
           "caxis": {
            "gridcolor": "white",
            "linecolor": "white",
            "ticks": ""
           }
          },
          "title": {
           "x": 0.05
          },
          "xaxis": {
           "automargin": true,
           "gridcolor": "white",
           "linecolor": "white",
           "ticks": "",
           "title": {
            "standoff": 15
           },
           "zerolinecolor": "white",
           "zerolinewidth": 2
          },
          "yaxis": {
           "automargin": true,
           "gridcolor": "white",
           "linecolor": "white",
           "ticks": "",
           "title": {
            "standoff": 15
           },
           "zerolinecolor": "white",
           "zerolinewidth": 2
          }
         }
        },
        "title": {
         "text": "All together : average number of beers rated from each category"
        },
        "updatemenus": [
         {
          "active": 0,
          "buttons": [
           {
            "args": [
             {
              "visible": [
               true,
               true,
               true,
               true,
               true,
               true,
               false,
               false,
               false,
               false,
               false,
               false,
               false,
               false,
               false,
               false,
               false,
               false,
               false,
               false,
               false,
               false,
               false,
               false,
               false,
               false,
               false,
               false,
               false,
               false
              ]
             },
             {
              "title": "All together : average number of beers rated from each category"
             }
            ],
            "label": "All togheter",
            "method": "update"
           },
           {
            "args": [
             {
              "visible": [
               false,
               false,
               false,
               false,
               false,
               false,
               true,
               true,
               true,
               true,
               true,
               true,
               false,
               false,
               false,
               false,
               false,
               false,
               false,
               false,
               false,
               false,
               false,
               false,
               false,
               false,
               false,
               false,
               false,
               false
              ]
             },
             {
              "title": "Team \"Jean-Michel IPA\" : average number of beers rated from each category"
             }
            ],
            "label": "Jean-Michel IPA",
            "method": "update"
           },
           {
            "args": [
             {
              "visible": [
               false,
               false,
               false,
               false,
               false,
               false,
               false,
               false,
               false,
               false,
               false,
               false,
               true,
               true,
               true,
               true,
               true,
               true,
               false,
               false,
               false,
               false,
               false,
               false,
               false,
               false,
               false,
               false,
               false,
               false
              ]
             },
             {
              "title": "Team \"Marcel Stout\" : average number of beers rated from each category"
             }
            ],
            "label": "Marcel Stout",
            "method": "update"
           },
           {
            "args": [
             {
              "visible": [
               false,
               false,
               false,
               false,
               false,
               false,
               false,
               false,
               false,
               false,
               false,
               false,
               false,
               false,
               false,
               false,
               false,
               false,
               true,
               true,
               true,
               true,
               true,
               true,
               false,
               false,
               false,
               false,
               false,
               false
              ]
             },
             {
              "title": "Team \"James Bland\" : average number of beers rated from each category"
             }
            ],
            "label": "James Bland",
            "method": "update"
           },
           {
            "args": [
             {
              "visible": [
               false,
               false,
               false,
               false,
               false,
               false,
               false,
               false,
               false,
               false,
               false,
               false,
               false,
               false,
               false,
               false,
               false,
               false,
               false,
               false,
               false,
               false,
               false,
               false,
               true,
               true,
               true,
               true,
               true,
               true
              ]
             },
             {
              "title": "Team \"Ada the explorer\" : average number of beers rated from each category"
             }
            ],
            "label": "Ada the explorer",
            "method": "update"
           }
          ],
          "direction": "right",
          "type": "buttons",
          "x": 1,
          "y": 1.1
         }
        ],
        "width": 1000,
        "xaxis": {
         "title": {
          "text": "Category"
         }
        },
        "yaxis": {
         "range": [
          0,
          25
         ],
         "title": {
          "text": "Number of beers"
         }
        }
       }
      }
     },
     "metadata": {},
     "output_type": "display_data"
    }
   ],
   "source": [
    "# Interactive plot with the different clusters for Kmeans with k = 4\n",
    "mean_user = df_pivot.copy()\n",
    "\n",
    "# plotly setup \n",
    "fig = go.Figure()\n",
    "\n",
    "# Add one ore more traces\n",
    "x = mean_user.index\n",
    "\n",
    "for key in mapping_name_idx.keys():\n",
    "    viz = False\n",
    "    if key == \"All\":\n",
    "        viz = True\n",
    "    \n",
    "    #last\n",
    "    #mean\n",
    "    fig.add_trace(go.Scatter(x=x, y=mean_user.iloc[:, 25 + mapping_name_idx[key]].values,\n",
    "                             name='last 50 beers', mode='lines', line_color='rgb(239,85,59)', \n",
    "                             visible=viz, showlegend=True))\n",
    "    #CI low\n",
    "    fig.add_trace(go.Scatter(x=x, y=mean_user.iloc[:, 15 + mapping_name_idx[key]].values,\n",
    "                             name='first, CI Low', fill=None, mode='lines', line_width = 0.00,\n",
    "                             fillcolor='rgba(239,85,59,0.3)', visible=viz, showlegend=False))\n",
    "    #CI high\n",
    "    fig.add_trace(go.Scatter(x=x, y=mean_user.iloc[:, 20 + mapping_name_idx[key]].values,\n",
    "                             name='first, CI high', fill='tonexty', mode='lines', line_width = 0.00,\n",
    "                             fillcolor='rgba(239,85,59,0.3)', visible=viz, showlegend=False))\n",
    "\n",
    "    #first\n",
    "    #mean\n",
    "    fig.add_trace(go.Scatter(x=x, y=mean_user.iloc[:, 10 + mapping_name_idx[key]].values,\n",
    "                             name='first 50 beers', mode='lines', line_color = \"rgb(0,204,150)\",\n",
    "                             visible=viz, showlegend=True))\n",
    "    #CI low\n",
    "    fig.add_trace(go.Scatter(x=x, y=mean_user.iloc[:, 0 + mapping_name_idx[key]].values,\n",
    "                             name='first, CI Low', fill=None, mode='lines', line_width = 0.00,\n",
    "                             fillcolor='rgba(0,204,150,0.3)', visible=viz, showlegend=False))\n",
    "    #CI high\n",
    "    fig.add_trace(go.Scatter(x=x, y=mean_user.iloc[:, 5 + mapping_name_idx[key]].values,\n",
    "                             name='first, CI High', fill='tonexty', mode='lines', line_width = 0.00,\n",
    "                             fillcolor='rgba(0,204,150,0.3)', visible=viz, showlegend=False))\n",
    "\n",
    "#build 5 mask coresponding to each button\n",
    "list_0 = [True]*6 + [False]*24\n",
    "list_1 = [False]*6 + [True]*6 + [False]*18\n",
    "list_2 = [False]*12 + [True]*6 + [False]*12\n",
    "list_3 = [False]*18 + [True]*6 + [False]*6\n",
    "list_4 = [False]*24 + [True]*6\n",
    "\n",
    "fig.update_layout(\n",
    "    yaxis_range=[0,25],\n",
    "    width=1000,\n",
    "    height=600,\n",
    "    updatemenus=[\n",
    "        dict(\n",
    "            type=\"buttons\",\n",
    "            direction=\"right\",\n",
    "            active=0,\n",
    "            x=1,\n",
    "            y=1.1,\n",
    "            buttons=list([\n",
    "                dict(label=\"All togheter\",\n",
    "                     method=\"update\",\n",
    "                     args=[{\"visible\": list_0},\n",
    "                           {'title':'All together : average number of beers rated from each category'}]),\n",
    "                dict(label=\"Jean-Michel IPA\",\n",
    "                     method=\"update\",\n",
    "                     args=[{\"visible\": list_1},\n",
    "                           {'title' : 'Team \"Jean-Michel IPA\" : average number of beers rated from each category'}]),\n",
    "                dict(label=\"Marcel Stout\",\n",
    "                     method=\"update\",\n",
    "                     args=[{\"visible\": list_2},\n",
    "                           {'title' : 'Team \"Marcel Stout\" : average number of beers rated from each category'}]),\n",
    "                dict(label=\"James Bland\",\n",
    "                     method=\"update\",\n",
    "                     args=[{\"visible\": list_3},\n",
    "                           {'title' : 'Team \"James Bland\" : average number of beers rated from each category'}]),\n",
    "                dict(label=\"Ada the explorer\",\n",
    "                     method=\"update\",\n",
    "                     args=[{\"visible\": list_4},\n",
    "                           {'title' : 'Team \"Ada the explorer\" : average number of beers rated from each category'}])\n",
    "\n",
    "            ]),\n",
    "        )\n",
    "    ])\n",
    "\n",
    "# Set title\n",
    "fig.update_xaxes(title_text=\"Category\")\n",
    "fig.update_yaxes(title_text=\"Number of beers\")\n",
    "\n",
    "fig.update_layout({'title' : 'All together : average number of beers rated from each category'})\n",
    "\n",
    "fig.show()\n",
    "#fig.write_html(\"all_first_vs_last.html\")"
   ]
  },
  {
   "cell_type": "code",
   "execution_count": 65,
   "metadata": {},
   "outputs": [
    {
     "data": {
      "application/vnd.plotly.v1+json": {
       "config": {
        "plotlyServerURL": "https://plot.ly"
       },
       "data": [
        {
         "coloraxis": "coloraxis",
         "hovertemplate": "Category: %{x}<br>Clusters: %{y}<br>-log10(Pvalue): %{z}<extra></extra>",
         "name": "0",
         "texttemplate": "%{z}",
         "type": "heatmap",
         "x": [
          "Bocks",
          "Brown Ales",
          "Dark Ales",
          "Dark Lagers",
          "Hybrid Beers",
          "India Pale Ales",
          "Pale Ales",
          "Pale Lagers",
          "Porters",
          "Specialty Beer",
          "Stouts",
          "Strong Ales",
          "Weird Cocktail",
          "Wheat Beers",
          "Wild/Sour Beers"
         ],
         "xaxis": "x",
         "y": [
          "Jean-Michel IPA",
          "Ada the explorer",
          "James Bland",
          "Marcel Stout",
          "All"
         ],
         "yaxis": "y",
         "z": [
          [
           0,
           3.72,
           1.62,
           0,
           0,
           20,
           1.46,
           0,
           5.1,
           0,
           14.4,
           0,
           0,
           0,
           20
          ],
          [
           7.92,
           8.8,
           9.41,
           11.39,
           0,
           13.6,
           1.85,
           2.76,
           0,
           0,
           6.39,
           3.33,
           0,
           10.3,
           20
          ],
          [
           0,
           0,
           0,
           20,
           0,
           20,
           5.15,
           20,
           2.51,
           0,
           5.47,
           1.63,
           3.75,
           8.53,
           8.46
          ],
          [
           2.7,
           3.43,
           3.25,
           0,
           0,
           2.62,
           13.14,
           1.39,
           2.49,
           0,
           20,
           2.96,
           2.8,
           1.32,
           20
          ],
          [
           7.98,
           13.03,
           12.22,
           20,
           0,
           1.83,
           4.81,
           17.53,
           0,
           0,
           1.85,
           3.93,
           5.61,
           11.07,
           20
          ]
         ]
        }
       ],
       "layout": {
        "coloraxis": {
         "colorbar": {
          "ticktext": [
           "1",
           "5",
           "10",
           "20"
          ],
          "tickvals": [
           1,
           5,
           10,
           20
          ],
          "title": {
           "text": "-log(Pvalue)"
          }
         },
         "colorscale": [
          [
           0,
           "#0d0887"
          ],
          [
           0.1111111111111111,
           "#46039f"
          ],
          [
           0.2222222222222222,
           "#7201a8"
          ],
          [
           0.3333333333333333,
           "#9c179e"
          ],
          [
           0.4444444444444444,
           "#bd3786"
          ],
          [
           0.5555555555555556,
           "#d8576b"
          ],
          [
           0.6666666666666666,
           "#ed7953"
          ],
          [
           0.7777777777777778,
           "#fb9f3a"
          ],
          [
           0.8888888888888888,
           "#fdca26"
          ],
          [
           1,
           "#f0f921"
          ]
         ]
        },
        "template": {
         "data": {
          "bar": [
           {
            "error_x": {
             "color": "#2a3f5f"
            },
            "error_y": {
             "color": "#2a3f5f"
            },
            "marker": {
             "line": {
              "color": "#E5ECF6",
              "width": 0.5
             },
             "pattern": {
              "fillmode": "overlay",
              "size": 10,
              "solidity": 0.2
             }
            },
            "type": "bar"
           }
          ],
          "barpolar": [
           {
            "marker": {
             "line": {
              "color": "#E5ECF6",
              "width": 0.5
             },
             "pattern": {
              "fillmode": "overlay",
              "size": 10,
              "solidity": 0.2
             }
            },
            "type": "barpolar"
           }
          ],
          "carpet": [
           {
            "aaxis": {
             "endlinecolor": "#2a3f5f",
             "gridcolor": "white",
             "linecolor": "white",
             "minorgridcolor": "white",
             "startlinecolor": "#2a3f5f"
            },
            "baxis": {
             "endlinecolor": "#2a3f5f",
             "gridcolor": "white",
             "linecolor": "white",
             "minorgridcolor": "white",
             "startlinecolor": "#2a3f5f"
            },
            "type": "carpet"
           }
          ],
          "choropleth": [
           {
            "colorbar": {
             "outlinewidth": 0,
             "ticks": ""
            },
            "type": "choropleth"
           }
          ],
          "contour": [
           {
            "colorbar": {
             "outlinewidth": 0,
             "ticks": ""
            },
            "colorscale": [
             [
              0,
              "#0d0887"
             ],
             [
              0.1111111111111111,
              "#46039f"
             ],
             [
              0.2222222222222222,
              "#7201a8"
             ],
             [
              0.3333333333333333,
              "#9c179e"
             ],
             [
              0.4444444444444444,
              "#bd3786"
             ],
             [
              0.5555555555555556,
              "#d8576b"
             ],
             [
              0.6666666666666666,
              "#ed7953"
             ],
             [
              0.7777777777777778,
              "#fb9f3a"
             ],
             [
              0.8888888888888888,
              "#fdca26"
             ],
             [
              1,
              "#f0f921"
             ]
            ],
            "type": "contour"
           }
          ],
          "contourcarpet": [
           {
            "colorbar": {
             "outlinewidth": 0,
             "ticks": ""
            },
            "type": "contourcarpet"
           }
          ],
          "heatmap": [
           {
            "colorbar": {
             "outlinewidth": 0,
             "ticks": ""
            },
            "colorscale": [
             [
              0,
              "#0d0887"
             ],
             [
              0.1111111111111111,
              "#46039f"
             ],
             [
              0.2222222222222222,
              "#7201a8"
             ],
             [
              0.3333333333333333,
              "#9c179e"
             ],
             [
              0.4444444444444444,
              "#bd3786"
             ],
             [
              0.5555555555555556,
              "#d8576b"
             ],
             [
              0.6666666666666666,
              "#ed7953"
             ],
             [
              0.7777777777777778,
              "#fb9f3a"
             ],
             [
              0.8888888888888888,
              "#fdca26"
             ],
             [
              1,
              "#f0f921"
             ]
            ],
            "type": "heatmap"
           }
          ],
          "heatmapgl": [
           {
            "colorbar": {
             "outlinewidth": 0,
             "ticks": ""
            },
            "colorscale": [
             [
              0,
              "#0d0887"
             ],
             [
              0.1111111111111111,
              "#46039f"
             ],
             [
              0.2222222222222222,
              "#7201a8"
             ],
             [
              0.3333333333333333,
              "#9c179e"
             ],
             [
              0.4444444444444444,
              "#bd3786"
             ],
             [
              0.5555555555555556,
              "#d8576b"
             ],
             [
              0.6666666666666666,
              "#ed7953"
             ],
             [
              0.7777777777777778,
              "#fb9f3a"
             ],
             [
              0.8888888888888888,
              "#fdca26"
             ],
             [
              1,
              "#f0f921"
             ]
            ],
            "type": "heatmapgl"
           }
          ],
          "histogram": [
           {
            "marker": {
             "pattern": {
              "fillmode": "overlay",
              "size": 10,
              "solidity": 0.2
             }
            },
            "type": "histogram"
           }
          ],
          "histogram2d": [
           {
            "colorbar": {
             "outlinewidth": 0,
             "ticks": ""
            },
            "colorscale": [
             [
              0,
              "#0d0887"
             ],
             [
              0.1111111111111111,
              "#46039f"
             ],
             [
              0.2222222222222222,
              "#7201a8"
             ],
             [
              0.3333333333333333,
              "#9c179e"
             ],
             [
              0.4444444444444444,
              "#bd3786"
             ],
             [
              0.5555555555555556,
              "#d8576b"
             ],
             [
              0.6666666666666666,
              "#ed7953"
             ],
             [
              0.7777777777777778,
              "#fb9f3a"
             ],
             [
              0.8888888888888888,
              "#fdca26"
             ],
             [
              1,
              "#f0f921"
             ]
            ],
            "type": "histogram2d"
           }
          ],
          "histogram2dcontour": [
           {
            "colorbar": {
             "outlinewidth": 0,
             "ticks": ""
            },
            "colorscale": [
             [
              0,
              "#0d0887"
             ],
             [
              0.1111111111111111,
              "#46039f"
             ],
             [
              0.2222222222222222,
              "#7201a8"
             ],
             [
              0.3333333333333333,
              "#9c179e"
             ],
             [
              0.4444444444444444,
              "#bd3786"
             ],
             [
              0.5555555555555556,
              "#d8576b"
             ],
             [
              0.6666666666666666,
              "#ed7953"
             ],
             [
              0.7777777777777778,
              "#fb9f3a"
             ],
             [
              0.8888888888888888,
              "#fdca26"
             ],
             [
              1,
              "#f0f921"
             ]
            ],
            "type": "histogram2dcontour"
           }
          ],
          "mesh3d": [
           {
            "colorbar": {
             "outlinewidth": 0,
             "ticks": ""
            },
            "type": "mesh3d"
           }
          ],
          "parcoords": [
           {
            "line": {
             "colorbar": {
              "outlinewidth": 0,
              "ticks": ""
             }
            },
            "type": "parcoords"
           }
          ],
          "pie": [
           {
            "automargin": true,
            "type": "pie"
           }
          ],
          "scatter": [
           {
            "fillpattern": {
             "fillmode": "overlay",
             "size": 10,
             "solidity": 0.2
            },
            "type": "scatter"
           }
          ],
          "scatter3d": [
           {
            "line": {
             "colorbar": {
              "outlinewidth": 0,
              "ticks": ""
             }
            },
            "marker": {
             "colorbar": {
              "outlinewidth": 0,
              "ticks": ""
             }
            },
            "type": "scatter3d"
           }
          ],
          "scattercarpet": [
           {
            "marker": {
             "colorbar": {
              "outlinewidth": 0,
              "ticks": ""
             }
            },
            "type": "scattercarpet"
           }
          ],
          "scattergeo": [
           {
            "marker": {
             "colorbar": {
              "outlinewidth": 0,
              "ticks": ""
             }
            },
            "type": "scattergeo"
           }
          ],
          "scattergl": [
           {
            "marker": {
             "colorbar": {
              "outlinewidth": 0,
              "ticks": ""
             }
            },
            "type": "scattergl"
           }
          ],
          "scattermapbox": [
           {
            "marker": {
             "colorbar": {
              "outlinewidth": 0,
              "ticks": ""
             }
            },
            "type": "scattermapbox"
           }
          ],
          "scatterpolar": [
           {
            "marker": {
             "colorbar": {
              "outlinewidth": 0,
              "ticks": ""
             }
            },
            "type": "scatterpolar"
           }
          ],
          "scatterpolargl": [
           {
            "marker": {
             "colorbar": {
              "outlinewidth": 0,
              "ticks": ""
             }
            },
            "type": "scatterpolargl"
           }
          ],
          "scatterternary": [
           {
            "marker": {
             "colorbar": {
              "outlinewidth": 0,
              "ticks": ""
             }
            },
            "type": "scatterternary"
           }
          ],
          "surface": [
           {
            "colorbar": {
             "outlinewidth": 0,
             "ticks": ""
            },
            "colorscale": [
             [
              0,
              "#0d0887"
             ],
             [
              0.1111111111111111,
              "#46039f"
             ],
             [
              0.2222222222222222,
              "#7201a8"
             ],
             [
              0.3333333333333333,
              "#9c179e"
             ],
             [
              0.4444444444444444,
              "#bd3786"
             ],
             [
              0.5555555555555556,
              "#d8576b"
             ],
             [
              0.6666666666666666,
              "#ed7953"
             ],
             [
              0.7777777777777778,
              "#fb9f3a"
             ],
             [
              0.8888888888888888,
              "#fdca26"
             ],
             [
              1,
              "#f0f921"
             ]
            ],
            "type": "surface"
           }
          ],
          "table": [
           {
            "cells": {
             "fill": {
              "color": "#EBF0F8"
             },
             "line": {
              "color": "white"
             }
            },
            "header": {
             "fill": {
              "color": "#C8D4E3"
             },
             "line": {
              "color": "white"
             }
            },
            "type": "table"
           }
          ]
         },
         "layout": {
          "annotationdefaults": {
           "arrowcolor": "#2a3f5f",
           "arrowhead": 0,
           "arrowwidth": 1
          },
          "autotypenumbers": "strict",
          "coloraxis": {
           "colorbar": {
            "outlinewidth": 0,
            "ticks": ""
           }
          },
          "colorscale": {
           "diverging": [
            [
             0,
             "#8e0152"
            ],
            [
             0.1,
             "#c51b7d"
            ],
            [
             0.2,
             "#de77ae"
            ],
            [
             0.3,
             "#f1b6da"
            ],
            [
             0.4,
             "#fde0ef"
            ],
            [
             0.5,
             "#f7f7f7"
            ],
            [
             0.6,
             "#e6f5d0"
            ],
            [
             0.7,
             "#b8e186"
            ],
            [
             0.8,
             "#7fbc41"
            ],
            [
             0.9,
             "#4d9221"
            ],
            [
             1,
             "#276419"
            ]
           ],
           "sequential": [
            [
             0,
             "#0d0887"
            ],
            [
             0.1111111111111111,
             "#46039f"
            ],
            [
             0.2222222222222222,
             "#7201a8"
            ],
            [
             0.3333333333333333,
             "#9c179e"
            ],
            [
             0.4444444444444444,
             "#bd3786"
            ],
            [
             0.5555555555555556,
             "#d8576b"
            ],
            [
             0.6666666666666666,
             "#ed7953"
            ],
            [
             0.7777777777777778,
             "#fb9f3a"
            ],
            [
             0.8888888888888888,
             "#fdca26"
            ],
            [
             1,
             "#f0f921"
            ]
           ],
           "sequentialminus": [
            [
             0,
             "#0d0887"
            ],
            [
             0.1111111111111111,
             "#46039f"
            ],
            [
             0.2222222222222222,
             "#7201a8"
            ],
            [
             0.3333333333333333,
             "#9c179e"
            ],
            [
             0.4444444444444444,
             "#bd3786"
            ],
            [
             0.5555555555555556,
             "#d8576b"
            ],
            [
             0.6666666666666666,
             "#ed7953"
            ],
            [
             0.7777777777777778,
             "#fb9f3a"
            ],
            [
             0.8888888888888888,
             "#fdca26"
            ],
            [
             1,
             "#f0f921"
            ]
           ]
          },
          "colorway": [
           "#636efa",
           "#EF553B",
           "#00cc96",
           "#ab63fa",
           "#FFA15A",
           "#19d3f3",
           "#FF6692",
           "#B6E880",
           "#FF97FF",
           "#FECB52"
          ],
          "font": {
           "color": "#2a3f5f"
          },
          "geo": {
           "bgcolor": "white",
           "lakecolor": "white",
           "landcolor": "#E5ECF6",
           "showlakes": true,
           "showland": true,
           "subunitcolor": "white"
          },
          "hoverlabel": {
           "align": "left"
          },
          "hovermode": "closest",
          "mapbox": {
           "style": "light"
          },
          "paper_bgcolor": "white",
          "plot_bgcolor": "#E5ECF6",
          "polar": {
           "angularaxis": {
            "gridcolor": "white",
            "linecolor": "white",
            "ticks": ""
           },
           "bgcolor": "#E5ECF6",
           "radialaxis": {
            "gridcolor": "white",
            "linecolor": "white",
            "ticks": ""
           }
          },
          "scene": {
           "xaxis": {
            "backgroundcolor": "#E5ECF6",
            "gridcolor": "white",
            "gridwidth": 2,
            "linecolor": "white",
            "showbackground": true,
            "ticks": "",
            "zerolinecolor": "white"
           },
           "yaxis": {
            "backgroundcolor": "#E5ECF6",
            "gridcolor": "white",
            "gridwidth": 2,
            "linecolor": "white",
            "showbackground": true,
            "ticks": "",
            "zerolinecolor": "white"
           },
           "zaxis": {
            "backgroundcolor": "#E5ECF6",
            "gridcolor": "white",
            "gridwidth": 2,
            "linecolor": "white",
            "showbackground": true,
            "ticks": "",
            "zerolinecolor": "white"
           }
          },
          "shapedefaults": {
           "line": {
            "color": "#2a3f5f"
           }
          },
          "ternary": {
           "aaxis": {
            "gridcolor": "white",
            "linecolor": "white",
            "ticks": ""
           },
           "baxis": {
            "gridcolor": "white",
            "linecolor": "white",
            "ticks": ""
           },
           "bgcolor": "#E5ECF6",
           "caxis": {
            "gridcolor": "white",
            "linecolor": "white",
            "ticks": ""
           }
          },
          "title": {
           "x": 0.05
          },
          "xaxis": {
           "automargin": true,
           "gridcolor": "white",
           "linecolor": "white",
           "ticks": "",
           "title": {
            "standoff": 15
           },
           "zerolinecolor": "white",
           "zerolinewidth": 2
          },
          "yaxis": {
           "automargin": true,
           "gridcolor": "white",
           "linecolor": "white",
           "ticks": "",
           "title": {
            "standoff": 15
           },
           "zerolinecolor": "white",
           "zerolinewidth": 2
          }
         }
        },
        "title": {
         "text": "Confidence in the change of the number of beers rated in each category <br>between the first 50 and last 50 ratings per cluster<br><sup>Heatmap of -log10(pval) (with pval > 0.05 clipped to 1 and pval < 1e-20 clipped to 1e-20)</sup>"
        },
        "xaxis": {
         "anchor": "y",
         "constrain": "domain",
         "domain": [
          0,
          1
         ],
         "scaleanchor": "y",
         "title": {
          "text": "Category"
         }
        },
        "yaxis": {
         "anchor": "x",
         "autorange": "reversed",
         "constrain": "domain",
         "domain": [
          0,
          1
         ],
         "title": {
          "text": "Clusters"
         }
        }
       }
      }
     },
     "metadata": {},
     "output_type": "display_data"
    }
   ],
   "source": [
    "#Heatmap\n",
    "\n",
    "df_pval = mean_user.iloc[:,30:35].T.copy()\n",
    "pval = df_pval.to_numpy()\n",
    "#print(pval.dtypes)\n",
    "\n",
    "idx = {k: v for k, v in sorted(mapping_name_idx.items(), key=lambda item: item[1])}\n",
    "idx.values()\n",
    "\n",
    "# pval = pval[pval > 0.05]\n",
    "\n",
    "pval[pval < 1e-20] = 1e-20\n",
    "pval[pval > 0.05] = 1\n",
    "pval = -np.log10(pval)\n",
    "pval = np.round(pval,2)\n",
    "\n",
    "\n",
    "#pval.iloc[4,14] = max(pval)Plot Title <br><sup>Plot Subtitle</sup>\n",
    "fig = px.imshow(pval, text_auto=True, title=\"Confidence in the change of the number of beers rated in each category <br>\"\\\n",
    "                                            \"between the first 50 and last 50 ratings per cluster<br><sup>\"\\\n",
    "                                            \"Heatmap of -log10(pval) (with pval > 0.05 clipped to 1 and pval < 1e-20 clipped to 1e-20)</sup>\",\n",
    "                labels=dict(x=\"Category\", y=\"Clusters\", color=\"-log10(Pvalue)\"),\n",
    "                x=df_pval.columns.values,\n",
    "                y=list(idx.keys()),\n",
    "               )\n",
    "#plt.figtext(0.5, 0.01, \"fdnpobfsubgpafbagèaiègs\")\n",
    "\n",
    "fig.update_layout(coloraxis_colorbar=dict(\n",
    "    title=\"-log(Pvalue)\",\n",
    "    tickvals=[1,5,10,20],\n",
    "    ticktext=[\"1\", \"5\", \"10\", \"20\"],\n",
    "))\n",
    "\n",
    "\n",
    "fig.show()\n",
    "#fig.write_html(\"heatmap_pval.html\")"
   ]
  },
  {
   "cell_type": "code",
   "execution_count": 66,
   "metadata": {},
   "outputs": [
    {
     "name": "stdout",
     "output_type": "stream",
     "text": [
      "the variances explained by the 3 first principal components are [0.43681178 0.23533086 0.10548838] (respectively)\n"
     ]
    }
   ],
   "source": [
    "#plot by using pca methods in order to have a visualization of our clustering\n",
    "\n",
    "pca_3 = PCA(n_components=3)\n",
    "users_pca_3 = pca_3.fit_transform(user_to_cat_first[user_to_cat_first.columns[0:15]].values)\n",
    "print('the variances explained by the 3 first principal components are',pca_3.explained_variance_ratio_,'(respectively)')\n",
    "\n",
    "# We store the results in a dataframe - indices keep the same order\n",
    "users_pca_3 = pd.DataFrame(users_pca_3)\n",
    "users_pca_3.index = user_to_cat_first.index\n",
    "users_pca_3.columns= ['Principal component 1','Principal component 2','Principal component 3']\n",
    "users_pca_3['cluster'] = user_to_cat_first['first_50_cluster']"
   ]
  },
  {
   "cell_type": "code",
   "execution_count": 67,
   "metadata": {},
   "outputs": [
    {
     "data": {
      "text/html": [
       "<div>\n",
       "<style scoped>\n",
       "    .dataframe tbody tr th:only-of-type {\n",
       "        vertical-align: middle;\n",
       "    }\n",
       "\n",
       "    .dataframe tbody tr th {\n",
       "        vertical-align: top;\n",
       "    }\n",
       "\n",
       "    .dataframe thead th {\n",
       "        text-align: right;\n",
       "    }\n",
       "</style>\n",
       "<table border=\"1\" class=\"dataframe\">\n",
       "  <thead>\n",
       "    <tr style=\"text-align: right;\">\n",
       "      <th></th>\n",
       "      <th>Principal component 1</th>\n",
       "      <th>Principal component 2</th>\n",
       "      <th>Principal component 3</th>\n",
       "      <th>cluster</th>\n",
       "    </tr>\n",
       "    <tr>\n",
       "      <th>user_name</th>\n",
       "      <th></th>\n",
       "      <th></th>\n",
       "      <th></th>\n",
       "      <th></th>\n",
       "    </tr>\n",
       "  </thead>\n",
       "  <tbody>\n",
       "    <tr>\n",
       "      <th>-Rick</th>\n",
       "      <td>18.047276</td>\n",
       "      <td>-4.419624</td>\n",
       "      <td>2.369358</td>\n",
       "      <td>0</td>\n",
       "    </tr>\n",
       "    <tr>\n",
       "      <th>1000lbgrizzly</th>\n",
       "      <td>-7.737557</td>\n",
       "      <td>-1.348914</td>\n",
       "      <td>-0.044510</td>\n",
       "      <td>1</td>\n",
       "    </tr>\n",
       "    <tr>\n",
       "      <th>1424IpA</th>\n",
       "      <td>10.698707</td>\n",
       "      <td>6.037140</td>\n",
       "      <td>3.849673</td>\n",
       "      <td>0</td>\n",
       "    </tr>\n",
       "    <tr>\n",
       "      <th>2Xmd</th>\n",
       "      <td>14.366790</td>\n",
       "      <td>1.565646</td>\n",
       "      <td>3.784348</td>\n",
       "      <td>0</td>\n",
       "    </tr>\n",
       "    <tr>\n",
       "      <th>2ellas</th>\n",
       "      <td>20.334698</td>\n",
       "      <td>-4.850009</td>\n",
       "      <td>-1.364043</td>\n",
       "      <td>0</td>\n",
       "    </tr>\n",
       "    <tr>\n",
       "      <th>...</th>\n",
       "      <td>...</td>\n",
       "      <td>...</td>\n",
       "      <td>...</td>\n",
       "      <td>...</td>\n",
       "    </tr>\n",
       "    <tr>\n",
       "      <th>zenithberwyn</th>\n",
       "      <td>-9.665810</td>\n",
       "      <td>4.286280</td>\n",
       "      <td>5.765769</td>\n",
       "      <td>2</td>\n",
       "    </tr>\n",
       "    <tr>\n",
       "      <th>zhanson88</th>\n",
       "      <td>-4.887683</td>\n",
       "      <td>6.732758</td>\n",
       "      <td>-0.864144</td>\n",
       "      <td>3</td>\n",
       "    </tr>\n",
       "    <tr>\n",
       "      <th>zookerman182</th>\n",
       "      <td>11.548984</td>\n",
       "      <td>3.162708</td>\n",
       "      <td>0.426445</td>\n",
       "      <td>0</td>\n",
       "    </tr>\n",
       "    <tr>\n",
       "      <th>zoso1967</th>\n",
       "      <td>8.008119</td>\n",
       "      <td>-3.130517</td>\n",
       "      <td>-1.753737</td>\n",
       "      <td>0</td>\n",
       "    </tr>\n",
       "    <tr>\n",
       "      <th>zotzot</th>\n",
       "      <td>7.276089</td>\n",
       "      <td>-1.019530</td>\n",
       "      <td>-1.677253</td>\n",
       "      <td>0</td>\n",
       "    </tr>\n",
       "  </tbody>\n",
       "</table>\n",
       "<p>970 rows × 4 columns</p>\n",
       "</div>"
      ],
      "text/plain": [
       "               Principal component 1  Principal component 2  \\\n",
       "user_name                                                     \n",
       "-Rick                      18.047276              -4.419624   \n",
       "1000lbgrizzly              -7.737557              -1.348914   \n",
       "1424IpA                    10.698707               6.037140   \n",
       "2Xmd                       14.366790               1.565646   \n",
       "2ellas                     20.334698              -4.850009   \n",
       "...                              ...                    ...   \n",
       "zenithberwyn               -9.665810               4.286280   \n",
       "zhanson88                  -4.887683               6.732758   \n",
       "zookerman182               11.548984               3.162708   \n",
       "zoso1967                    8.008119              -3.130517   \n",
       "zotzot                      7.276089              -1.019530   \n",
       "\n",
       "               Principal component 3  cluster  \n",
       "user_name                                      \n",
       "-Rick                       2.369358        0  \n",
       "1000lbgrizzly              -0.044510        1  \n",
       "1424IpA                     3.849673        0  \n",
       "2Xmd                        3.784348        0  \n",
       "2ellas                     -1.364043        0  \n",
       "...                              ...      ...  \n",
       "zenithberwyn                5.765769        2  \n",
       "zhanson88                  -0.864144        3  \n",
       "zookerman182                0.426445        0  \n",
       "zoso1967                   -1.753737        0  \n",
       "zotzot                     -1.677253        0  \n",
       "\n",
       "[970 rows x 4 columns]"
      ]
     },
     "execution_count": 67,
     "metadata": {},
     "output_type": "execute_result"
    }
   ],
   "source": [
    "users_pca_3"
   ]
  },
  {
   "cell_type": "code",
   "execution_count": 68,
   "metadata": {},
   "outputs": [
    {
     "data": {
      "application/vnd.plotly.v1+json": {
       "config": {
        "plotlyServerURL": "https://plot.ly"
       },
       "data": [
        {
         "hovertemplate": "color=Jean-Michel IPA<br>Principal component 1=%{x}<br>Principal component 2=%{y}<br>Principal component 3=%{z}<extra></extra>",
         "legendgroup": "Jean-Michel IPA",
         "marker": {
          "color": "#636efa",
          "opacity": 1,
          "symbol": "circle"
         },
         "mode": "markers",
         "name": "Jean-Michel IPA",
         "scene": "scene",
         "showlegend": true,
         "type": "scatter3d",
         "x": [
          18.04727616986036,
          14.667616564811036,
          5.923413144620734,
          15.135939049772764,
          4.966910633476265,
          7.184598718627454,
          13.068839751520155,
          10.339555620752838,
          11.32210129273625,
          8.757688972022143,
          4.3809751773222025,
          11.814816124894474,
          9.393921124331381,
          10.423781960784286,
          6.04757365534952,
          17.826270717924057,
          5.603051621695657,
          17.791674213340247,
          4.74132672943289,
          5.541612259348225,
          11.32678336773759,
          16.77898542970867,
          5.579575113512366,
          16.357066846448422,
          11.332177060359111,
          13.652685008815203,
          20.566690484733723,
          5.999759114723297,
          16.46009741299543,
          9.41723785813905,
          22.648201593679232,
          15.44629868782153,
          5.322809886506851,
          17.553534952770185,
          6.201974470562013,
          15.24971725890608,
          12.810224841998497,
          4.972612655100483,
          8.158876770537402,
          20.473843449687706,
          8.008118919733723,
          6.550778670606019,
          5.474570285312103,
          12.174955562729822,
          16.183649655090374,
          8.409127058409723,
          4.289739125229617,
          12.63279031119071,
          8.624719548670479,
          11.670074987791985,
          7.282159983027052,
          6.330504665279944,
          5.429657729166789,
          12.578186460397282,
          9.631558200042123,
          7.54973300842671,
          18.55704056563756,
          23.5091700230549,
          5.492021985048893,
          10.32779402159429,
          10.049474956660433,
          15.291477556894451,
          7.610984816417251,
          10.131086914063907,
          19.369566194167408,
          16.39734106290255,
          8.111119486968505,
          10.736991760682903,
          13.77669813789426,
          20.255598058387157,
          20.45622951537053,
          13.462803512722864,
          13.610179176149376,
          16.814518246698306,
          18.04788138692151,
          20.383439282805185,
          17.80540210052943,
          5.0271438940055795,
          15.545831616321026,
          6.15571452731134,
          23.92306346566022,
          9.52426703767063,
          5.303965238403475,
          25.38319941197801,
          20.540249782396355,
          21.77471404468393,
          8.6920644147587,
          20.750461078565774,
          7.4691275771488135,
          17.8141476095294,
          12.266345747542571,
          4.992422539121815,
          9.894936914482328,
          10.131227130283307,
          17.909659677945392,
          11.717122973987454,
          20.131868667178423,
          15.972147270584799,
          5.810049436747681,
          8.603096137424945,
          6.648390838400465,
          12.153765222546163,
          19.49942918932971,
          12.234276295298722,
          22.251716444497607,
          15.568022034040826,
          9.097284143895315,
          14.076560141805778,
          6.918279095037638,
          15.17672754955117,
          8.407581831494994,
          7.323500440805248,
          10.402157705031968,
          9.00123694775689,
          16.527281207669233,
          7.083890315505006,
          14.840546548547774,
          19.973455950485185,
          11.768667554731817,
          7.993716913678665,
          5.285556017795177,
          8.435280335189796,
          11.51651728546502,
          7.042118933667311,
          11.548984175885243,
          12.762611266058123,
          5.563711581296727,
          9.714670813751471,
          7.674129670969791,
          6.468018109329156,
          7.274830366241052,
          25.50808000180642,
          5.672102758812027,
          13.798101076131992,
          11.413407570220555,
          6.1694609936997065,
          5.3577490153938765,
          12.39669648103055,
          19.473224987382274,
          26.463624599835292,
          9.369122821657255,
          11.998425884241911,
          8.449156958606716,
          14.334765288475811,
          10.26616842696595,
          16.21482095538999,
          8.067643033823966,
          18.0154081619763,
          6.737454123091212,
          9.820986956420569,
          20.504348157925865,
          21.567359748243152,
          12.657457656817721,
          5.936984097752024,
          5.593086011154022,
          15.662894895312384,
          8.08643974104708,
          9.330939082333183,
          12.961627445621874,
          7.9291308486951175,
          8.315347226356737,
          11.757140463882093,
          14.158880377430284,
          15.213920988711529,
          17.454389164472687,
          13.248608228805015,
          3.85423387973243,
          5.4739093915396015,
          7.157152372634955,
          6.650455286722627,
          17.0423229649669,
          19.571727917975974,
          17.70982352120261,
          6.865011335217457,
          14.04807232886485,
          10.547284858385026,
          7.624436541881559,
          5.252138261443051,
          11.679198157637748,
          9.127093022898146,
          16.379661543563397,
          27.161990147089607,
          13.02061702584023,
          6.574370411470976,
          10.48142130508311,
          7.294330374024458,
          11.972114412453156,
          8.833767157790788,
          11.131402922054273,
          7.216827933749078,
          8.317677189196127,
          6.740041468404489,
          20.26129462351255,
          26.106979445975643,
          10.922984850142294,
          9.309570785273035,
          21.070378396915,
          7.276088832711909,
          5.754947036215776,
          18.463781073077623,
          19.884660426721084,
          12.155158095921252,
          5.559710538728988,
          17.979240833091087,
          5.0006964466117365,
          18.27654519606183,
          5.880583384181623,
          5.619845248214907,
          12.272352312079015,
          8.262445072030824,
          6.049096061744316,
          6.166280684933818,
          10.114679357966963,
          16.79443085812136,
          17.71444520710842,
          7.270213654492017,
          6.756809284146366,
          10.396799336856715,
          9.11651263467763,
          7.047082740085995,
          14.768102300707147,
          11.146230280565105,
          18.145296453827218,
          32.07893581593944,
          12.246415856391883,
          9.21151135105529,
          12.764338947228431,
          9.250369570867845,
          9.700576988143547,
          10.44776615280702,
          4.993708102097269,
          7.644808928253184,
          9.896878109726616,
          7.746876683720695,
          20.334697631944504,
          14.366790129848129,
          10.698707118801472,
          8.655288284378186,
          9.35633808692621
         ],
         "y": [
          -4.4196242949901166,
          -0.7664808307243687,
          -3.601645717439814,
          0.3645181443285445,
          -0.7780156923326232,
          -7.668738464518938,
          -1.0948825502785418,
          -2.828222453667913,
          -4.556585447080083,
          -5.190333040372206,
          1.9409829892599517,
          -6.433656299326962,
          3.6247070365206793,
          -1.66364700725953,
          2.210302710209897,
          -3.2501991505487333,
          -3.581255097782735,
          0.8828693050827735,
          -3.7968416685216893,
          0.9871960600367388,
          -1.17496004075061,
          -5.9726684455568435,
          3.1460646684596543,
          -1.9214719083084109,
          -0.8921267320081845,
          1.714400991805074,
          -2.6122050972053956,
          -8.989089071232195,
          -6.692649348058156,
          -4.2638731911306165,
          -6.696187202400198,
          -6.763213307663464,
          -5.913266569871838,
          -7.398877601680108,
          -0.9840676868635733,
          -0.2597329042495562,
          -3.5843227328330998,
          -1.3423433213078568,
          3.6740184633382817,
          -2.3503124815116263,
          -3.1305171307657638,
          -3.1529798682948105,
          0.5890657331377099,
          -2.0376537796136316,
          0.3096683295342914,
          -1.977825796026686,
          -4.656121377475336,
          -3.0674123459171083,
          -1.771447759913662,
          -8.677681522240619,
          0.5348423538978093,
          -2.041222426982648,
          -0.3589691383366386,
          -4.71351462126531,
          0.362224655980885,
          0.997062201444631,
          2.0941441734415505,
          -8.873727829514443,
          -7.899285533550415,
          0.8126202825057535,
          -5.00038590452018,
          5.715794676002468,
          1.7694070179919705,
          -2.3630787626878695,
          -3.579067509348097,
          -6.320045238207502,
          0.8567306850381747,
          2.841920877724292,
          -6.381645830581808,
          -5.1145027975758595,
          -5.877378909613697,
          -5.79108439650353,
          -6.081817934125149,
          -4.244699302004948,
          -6.36898705397185,
          -8.247440272449584,
          -3.366425783083849,
          -0.3487528493146494,
          1.7553659136097262,
          2.4591530944984648,
          -4.843325606977013,
          4.016386952665575,
          -1.305336477275483,
          -4.481664306512594,
          3.6623183301242683,
          -6.315192486859329,
          2.8778550415162485,
          0.35695604404294695,
          -0.8722569059445207,
          -9.92883334688508,
          3.098843480704763,
          -6.849429174489833,
          4.567918578226077,
          -0.5844867369975654,
          -6.43255814026581,
          5.177881465989808,
          1.382872470228363,
          -0.09706183292164276,
          -4.985336149443835,
          3.699418152494728,
          -3.499058322693174,
          -4.118592281906405,
          -4.575260682836117,
          -3.7371797356224516,
          -1.8794510535383568,
          -8.000097378903716,
          -2.207727465227289,
          2.084232705234295,
          1.5536471451891658,
          -5.078941210110647,
          4.167169444077948,
          -5.421797094568138,
          0.2705424031766948,
          -1.4763927306893079,
          7.855419329474326,
          -8.106329388355919,
          -3.908820333889923,
          -5.34078030422642,
          3.8338520841158727,
          0.11145858700658023,
          -3.4234597555139388,
          2.1080165678850804,
          1.6104559092083632,
          -1.6751757784176802,
          3.162708496030526,
          -2.1497996480177592,
          2.176792834894252,
          3.5369651817651846,
          -4.817580245886488,
          -8.190097839877977,
          4.6741999036450625,
          0.8115624485125261,
          -4.159923513428531,
          -7.215701909875722,
          -3.6603681978361804,
          -1.442458901868343,
          -4.68298656069448,
          -6.549875837529448,
          0.13426300159262872,
          -7.425693734663353,
          0.8881455547577237,
          3.0894904438507114,
          -6.678120286078915,
          -2.894906057810109,
          -4.869663817911601,
          -5.35153114900988,
          0.8247937734319498,
          -7.797433877348499,
          -0.3197918294363884,
          2.752254015143935,
          -5.801999226199106,
          -4.4657038846617105,
          3.0904944347745085,
          -3.573931454091489,
          -0.28917330680985237,
          -9.093583289560243,
          -5.63778444214795,
          -5.605954034118236,
          -7.051603836229721,
          -8.952665709795495,
          1.1695711019145407,
          -4.502616879707141,
          -6.509865524185734,
          1.171286520395879,
          0.30658265138481494,
          -1.9774451508849833,
          -6.164169454003855,
          0.8216055827435219,
          -5.558878456672868,
          -2.8392450082438083,
          -3.433171340051135,
          3.037028243870324,
          -5.151154295214675,
          -2.3861818832053983,
          -1.763946306165704,
          6.108770048111674,
          5.814584943587581,
          -1.4542106459039286,
          -0.4976283794741665,
          0.1683558307854138,
          0.21695866815306705,
          -5.312104662057612,
          -3.6293805824167253,
          -1.3043878325560636,
          -5.817948727893211,
          -0.4194306646359898,
          -3.589072106101157,
          -2.9412193838242677,
          -6.083996145781461,
          -9.133552286474263,
          4.4273387871094325,
          -4.1411326081769815,
          -3.0579222797995467,
          -6.252104650864714,
          -3.6688344138526396,
          4.794141206443822,
          -6.711857861839604,
          -1.019530446812491,
          0.5180770724439057,
          -7.29670352081755,
          -2.5016034454881555,
          -6.0717657818600275,
          -1.594554895832531,
          -7.679186324118789,
          -2.1636531705903277,
          -8.231247877200953,
          -4.114145694501767,
          -1.9370473869734488,
          0.8058621405040525,
          -1.5609105733906414,
          2.446677845521086,
          3.6485377421252743,
          -3.7626799126931476,
          -9.057563394417821,
          -4.288247713719834,
          -0.6217727260271715,
          -0.7080336358226225,
          -6.340835247958753,
          0.5398859704277544,
          -7.660670750366218,
          -1.1720587444322323,
          -5.164590709514261,
          0.10543326164167005,
          -7.297039673254192,
          -3.112136950843534,
          0.6620979579168313,
          -6.660126918057639,
          -1.0371887127185428,
          7.710512579183015,
          3.5362270018747903,
          -3.400242274313121,
          -1.2824884235763936,
          -5.620558748397419,
          5.23539722854801,
          -4.850009065806398,
          1.5656462160060658,
          6.037139768067766,
          -2.583702030968443,
          -2.8788613749556036
         ],
         "z": [
          2.3693577225417073,
          5.943391308702431,
          -0.48159143051261805,
          4.151865102837754,
          0.8998972621816371,
          4.710158617179079,
          0.9693360447306317,
          -3.8246326988852735,
          -2.0502655128597858,
          4.448676506813937,
          2.1286428294402238,
          4.190888360689491,
          -1.7617333599948133,
          -4.947178304784806,
          0.5658750786311634,
          4.095770319179044,
          -0.572702951220807,
          2.3025680266463366,
          -2.9463211203373314,
          -1.747056130920019,
          -0.13633818635331005,
          0.8845970263558345,
          1.9720054520281018,
          -1.366710440590139,
          -2.11611371034379,
          0.8068832368188098,
          -0.0055516677610288265,
          2.168000673993743,
          2.0657314460589435,
          -3.740987490809491,
          3.2329259768475755,
          1.1543270378590882,
          -5.981191471440163,
          -4.316628258031093,
          -1.8645842098152554,
          1.5688923162251618,
          -1.517625329600152,
          3.9908880595418474,
          2.4728590927358187,
          0.6578188449160138,
          -1.7537371350538735,
          0.1309262059390657,
          -2.799005016861511,
          -1.7057108087109965,
          2.109299499780153,
          -1.468696096644041,
          0.3119722937468837,
          2.3380781253382064,
          -1.9028676741658195,
          -3.3924461693691774,
          -1.3733867171449468,
          -4.656890195279651,
          -3.310973547537733,
          1.514464158099484,
          2.026598977038902,
          -1.7215817635290813,
          2.0500771092210424,
          -2.4385562627492114,
          -2.704826529412472,
          -0.49923216614638083,
          -1.328578877270739,
          2.5385577172063925,
          1.5698592026730505,
          0.3361743957544668,
          0.07891771782267679,
          -2.3977897095079808,
          3.6301485871387618,
          -0.352605766624681,
          -1.1244699744144648,
          0.3141846428506,
          4.4627116774850855,
          0.27403931238917817,
          -5.4990474443787045,
          1.5466091120971845,
          -0.6340039392886243,
          1.0457710422833322,
          5.2641044209078895,
          -1.4724626351716585,
          3.31015160262947,
          0.021349618343258908,
          2.192896445257544,
          -0.003562800688961068,
          -3.626014845648645,
          1.7765685759604546,
          5.894266906789996,
          2.241727792733404,
          2.341816750042897,
          2.8381852224960418,
          1.434490763126815,
          -6.902882779650026,
          2.634727045265376,
          -4.102487166273513,
          1.3144141087383865,
          0.12278184492517707,
          -1.204185958525269,
          1.3953427022832976,
          5.027870052078443,
          -0.6019096803115813,
          2.946625014053466,
          -0.5309279619619824,
          -1.9577237905079448,
          -0.9177870034743156,
          1.387749186256732,
          5.574810404822475,
          3.4857883642132697,
          2.4589412704752815,
          -1.0408188968845484,
          3.1469901068887562,
          -0.5547798755550105,
          -1.4631340110702122,
          2.3679654948768736,
          -1.840897995722032,
          -1.4749764520252047,
          0.7897584865322227,
          5.418777283548861,
          -0.8322054704984935,
          1.919660559085767,
          1.8701528127426155,
          1.4975325692757282,
          -0.07955104986946629,
          1.9300666430447757,
          0.8492127444481881,
          -1.6478549105807425,
          0.5713065154835903,
          0.42644491606986407,
          -0.41520893300324097,
          -3.754050300059873,
          -0.9785798040691918,
          -0.7950671901579702,
          -2.245441153796871,
          -1.4518201890645164,
          5.855580601483154,
          -4.157688045172184,
          -2.0600800828691486,
          -3.204937187531334,
          -1.7154134390687454,
          -1.5968032475936091,
          1.2028965963844018,
          2.583542193354817,
          0.9196858083096499,
          0.8456199041607583,
          1.4255393514685857,
          -1.4553910131326655,
          -2.8134465160826982,
          1.0062782882013719,
          0.9720083311120938,
          -2.6340313771107566,
          0.5168643952727521,
          -4.287757561022945,
          6.261629095844894,
          -1.7043282037104048,
          0.6292009591237492,
          2.4779601833777485,
          -4.368770262989621,
          -5.9360724095383315,
          3.054509381240165,
          0.7909243001532229,
          7.988212612716371,
          2.174330904778899,
          0.5960467812751474,
          -1.4821419893810435,
          1.3108442780495515,
          -2.261845906752439,
          3.4097783092836935,
          4.403645385393057,
          2.634028001685482,
          7.600497890384372,
          -3.7601648841375477,
          1.0603117851067125,
          -0.725496501495609,
          1.2757424400439055,
          4.660197535573256,
          -2.7823384182849535,
          -0.8045827108384227,
          4.044003731194069,
          5.029362595577318,
          1.7256434715625086,
          -1.8079640645748276,
          -1.3647216959170965,
          -0.2912043895227362,
          1.6608159926389225,
          2.8058798964597558,
          0.9326717084993541,
          1.7771292039061444,
          -0.2176751660680071,
          -0.9510270961676345,
          0.10786985153688086,
          -0.1943932906390189,
          -6.3241323212572045,
          -6.614470240077804,
          1.2352710320760132,
          -0.6323573919814924,
          1.9235928284704293,
          3.2720557617294905,
          -0.9020686398709157,
          0.3685580310447631,
          -0.43196214031660285,
          -1.677252776086888,
          -5.0381493383142555,
          2.1560832090095055,
          2.937415537369878,
          -5.275408750111451,
          0.5054096718176003,
          2.6448545350563966,
          -0.25629102740456583,
          7.875650852655394,
          -7.312230160065069,
          0.442256102529628,
          -2.2156097666956356,
          -1.8992571375702738,
          -0.9876412528565063,
          -0.3359174084339461,
          -0.7039228705553585,
          -6.466021428966953,
          7.355214808099692,
          -0.36148278333425166,
          1.4664409701880985,
          -5.098648361167926,
          2.3802989877230614,
          -0.8934171761592448,
          3.28484818263964,
          1.5197416452282282,
          2.6259547150197013,
          5.452042855049315,
          -1.1886270813573097,
          2.1369173357177096,
          -6.458072803265755,
          1.0222338302320575,
          2.262445028589872,
          2.1675103533062163,
          1.133757256958974,
          5.186385258616906,
          -3.033641792593189,
          0.43379658979963437,
          -1.3640427660132717,
          3.784348206372712,
          3.8496728808440923,
          -4.128099512372232,
          1.0509816351720092
         ]
        },
        {
         "hovertemplate": "color=Ada the explorer<br>Principal component 1=%{x}<br>Principal component 2=%{y}<br>Principal component 3=%{z}<extra></extra>",
         "legendgroup": "Ada the explorer",
         "marker": {
          "color": "#EF553B",
          "opacity": 1,
          "symbol": "circle"
         },
         "mode": "markers",
         "name": "Ada the explorer",
         "scene": "scene",
         "showlegend": true,
         "type": "scatter3d",
         "x": [
          -1.292770774742949,
          2.3486640774188934,
          -10.039098367267464,
          -2.5947057853145794,
          1.9332557008825686,
          -10.806070251180678,
          -11.707770647084782,
          1.4227778103163766,
          -9.492169671436649,
          -7.844020696093768,
          -9.286791973045926,
          -7.933237322088524,
          -6.476435513154792,
          -9.40418145226999,
          -7.125743340375007,
          -5.292031804807806,
          2.5808312570070897,
          0.04865472854515775,
          0.39902159563325656,
          -0.08211905887508955,
          -1.9696376907122708,
          -8.168741010333905,
          -6.966955375928287,
          -3.644947200652114,
          0.49458143574233676,
          -11.902931832187958,
          -2.067562644107496,
          -6.294733433081777,
          -4.17042461308602,
          -1.2932735177499097,
          2.5532219954870365,
          -9.484221405722364,
          0.18536442125447833,
          3.3806481161711455,
          -5.709539685105755,
          -10.331361974770838,
          4.327159376451295,
          -9.365648103240405,
          -4.5686227499660825,
          -7.377000693165252,
          -7.200998747612078,
          -6.634671875857911,
          0.3682766018340133,
          2.7030099981951676,
          -3.290945261286117,
          -8.256032120655554,
          -0.17431070395339623,
          -2.2325246816731497,
          -0.880057510408133,
          -4.730115579584385,
          -3.4190198787225476,
          -2.7965505083552196,
          1.1592462426765873,
          1.1571822114891144,
          -0.2962634078026399,
          -0.7005795892516353,
          3.2026690975626515,
          -1.1588380538381315,
          -8.726746477403564,
          -1.2468058523481318,
          -0.8288057554510525,
          -11.531188858625983,
          -6.938748198969598,
          4.351380322915441,
          -2.436926533352549,
          -2.9764520807690333,
          -5.158186869384355,
          2.6205775767529067,
          -0.26663086695355204,
          -3.7519169431495927,
          -10.48932327533971,
          -9.242565970049066,
          -4.708740104625693,
          -7.413270584255965,
          -7.323465150575454,
          0.42850181554309313,
          -6.18087867345587,
          -1.4723812062933062,
          -7.253867015612651,
          -1.8828054802970657,
          4.259867122761794,
          -9.238036164010268,
          -0.3382570420791127,
          2.133490834686257,
          0.27754176883024856,
          -8.645125318402485,
          -7.737556683387125,
          2.620747772060421,
          -7.705890598607399,
          -2.801699495299052,
          -2.2289279159651803,
          -3.403186079896244,
          2.373661425185639,
          0.0250494188615452,
          2.372780575190319,
          -11.306771347214909,
          2.242317332444992,
          -1.7569156096035004,
          -2.571899240054121,
          -0.7461589832534067,
          0.599229204551206,
          -7.463019567698244,
          -4.420727576185733,
          -7.766624836260341,
          -6.585677696634252,
          -5.39218699678908,
          -5.724261083958887,
          -7.581225236011309,
          -9.553781060039313,
          -2.1719915281181943,
          -8.338366765833927,
          -7.485584789851819,
          -6.581052757085904,
          -2.289763448436088,
          -8.32473594013779,
          -2.6622473081972315,
          -0.9356346413618071,
          -7.163490048692024,
          -4.602745753914956,
          1.7320563655677137,
          -5.702971300085994,
          -5.43988679601499,
          -4.6663184887954,
          1.790625110454068,
          -5.526464788692743,
          2.861632792793883,
          -0.7360647802847037,
          -10.634542315977786,
          3.51575670959891,
          -0.2965407417418991,
          3.781329511559949,
          -8.030122660297499,
          -8.836725920538031,
          -1.2260948771051259,
          3.1231927196885487,
          -3.5565044701063844,
          -1.3114400663833328,
          -5.049144606721273,
          -5.3901699729938475,
          -11.893111750446119,
          -0.9967183186857287,
          3.546150145993922,
          1.9740368926569614,
          -9.98797129663838,
          -2.738071293486793,
          3.03465947173895,
          0.7468857936761362,
          -1.6543470264341338,
          -7.3264871799895115,
          -8.883741111038514,
          -5.513643033859734,
          -11.56759174974292,
          2.908531028214771,
          -2.4005078554064267,
          -3.4645153673008693,
          -2.8879102375375516,
          0.22126897982515203,
          -6.7776892927270795,
          -9.123265269813318,
          -1.3459929389715948,
          3.701928892101649,
          -4.83437845884127,
          1.4387808353298952,
          -0.7551134305755665,
          0.9053274692172498,
          -6.481642794497619,
          -2.7275254175754324,
          -3.1073249590850747,
          -6.517014613943304,
          -7.343626531180768,
          -7.727681424347611,
          -1.9301763852854577,
          -5.256927182988404,
          -2.9104592422654045,
          -3.1160139222023817,
          -2.1003221982068694,
          -1.9987645641963325,
          -3.9168705780788806,
          -6.373983377036619,
          -3.2517241114820217,
          2.081497861823712,
          -4.060087610304407,
          2.7562555454424342,
          -9.893182082731675,
          4.815056275460825,
          0.7337729932506012,
          -3.0434034394212284,
          -7.701406830994613,
          -8.73922197576635,
          0.2469472047928549,
          -4.02669365960966,
          2.1862919775920484,
          1.5735583978220562,
          -2.1871139236401786,
          -8.30401992798907,
          1.0649081259564999,
          -9.005738724636972,
          0.6451258704070844,
          -8.333703043770232,
          -9.620822903531387,
          -1.4831299838598573,
          -0.6798420636080174,
          -6.42639463281833,
          -2.8619068163882755,
          -8.80087140235867,
          -7.6452363609568526,
          -3.2510604691426566,
          -0.7430104797275167,
          -6.862151286853891,
          -6.565775235877021,
          -5.988966242376737,
          -3.675800219048317,
          -10.747428362628257,
          -7.863040432645081,
          -1.5723650885113614,
          -1.143692952533002,
          -3.457743906550992,
          1.685146885449465,
          -1.1618548691187536,
          -5.55326326388676,
          -9.529793541423572,
          -9.272648043577098,
          1.923514462532403,
          -4.791555991748708,
          -6.810237231212318,
          -5.317316887061608,
          -8.561993257415072,
          -4.48313354745151,
          1.1878788816938004,
          -8.384878768963762,
          -3.0702092554934834,
          -10.572537634032104,
          -7.899441383246349,
          -11.208856453129162,
          -9.945163636109298,
          -0.23282211699974556,
          -5.893675204975219,
          -5.33610292498213,
          -6.66615926078464,
          -0.16007816320620177,
          -8.333261886406502,
          -4.92277318748433,
          -0.4076696362294096,
          -5.5476076403348005,
          -1.3455525971043965,
          1.7310164119031202,
          1.8041331297544614,
          0.4500050830194822,
          -0.5134524612705017,
          0.7592402458382912,
          -7.686567791996052,
          -8.490247147073479,
          3.923743628148159,
          -0.8788652620363683,
          -6.053189880889362,
          0.7952697816396727,
          1.1156102619476358,
          -6.833538581452424,
          3.5447241171861297,
          3.045884736584309,
          -1.4569041457723984,
          -1.3504861683568887,
          -3.9362618745101234,
          -8.520621978893312,
          -0.8867788219946433,
          1.7659045699808358,
          -3.7222852864216307,
          -5.225772946328675,
          -3.618317936042854,
          2.030653743628816,
          -8.614953215066718,
          -3.236218153779566,
          -7.97573392272806,
          -10.964137774135477,
          1.1410033424456525,
          -5.212123764639928,
          -7.409294517678132,
          -9.135614730394975,
          -1.0717158755355511,
          -11.928062553165534,
          -4.6452343664452505,
          -5.788730508069105,
          1.3058707569224342,
          -7.485855138744676,
          -4.147447964738655,
          -7.233725734747105,
          -1.7627615229679776,
          3.6925914791396424,
          -4.745462550034257,
          -5.734812436811072,
          0.014417956929160357,
          2.8591399472907097,
          -8.758366407121342,
          -0.1806105132474245,
          2.1645007335367485,
          -6.268725417507128,
          -0.14674755513382987,
          2.128862292236759,
          -3.750781536218757,
          -6.195367959992554,
          -0.6926987050435871,
          -2.973007192992078,
          0.12422228282355845,
          -4.750797163074262,
          -5.318570329938385,
          -5.682983172106366,
          0.33581421281845225,
          -8.610319225293377,
          -4.3719265732942025,
          3.46965144749641,
          -8.15498229586486,
          2.9435455307933815,
          -3.813938178076889,
          2.4074149000910863,
          -6.829830437117112,
          3.3619208884958574,
          2.0536042122232594,
          1.9985981096263745,
          -0.696947870495994,
          2.2180614428645087,
          4.079086278435337,
          -1.8222328450378678,
          -7.029521506289242,
          3.736692933376753,
          -7.16027272952219,
          -2.7210693840809403,
          4.04651223637702,
          1.8869465183647138,
          -9.883700229029184,
          -7.870957935643893,
          -3.6309349003769174,
          -4.950810453347216,
          -5.496544199736321,
          2.1319998006292007,
          -2.2734634822482342,
          2.620173398073043,
          -0.967704687799404,
          1.33021812593498,
          -4.038489760358179,
          -1.3875300041093488,
          -6.007223236340885,
          -3.121491550867342,
          -2.4920838317127116,
          -7.251837145614816,
          -1.5218219402637012,
          -3.966238676061973,
          -2.5892354964053728,
          -2.4185452586381513,
          3.485074456509459,
          -4.256532491059171,
          -1.405265998835025,
          1.6354126644397233,
          -0.7114571468416566,
          -6.576765285090552,
          3.68384310527574,
          -0.4529641158121721,
          -11.13221104506584,
          1.6011979906121754,
          2.8569181727667647,
          -5.480898713774097,
          -3.467208880441265,
          -5.349404450058759,
          0.6385338236673881,
          -2.6122766021336887,
          -3.509120537900009,
          -3.272792861848864,
          -5.394262114392226,
          2.4348569919558067,
          2.3430737815132883,
          -0.1497978702109839,
          -0.5411515506119897,
          -0.2972991809314215,
          -5.836836032368193,
          4.796092810992474,
          -4.980824305713688,
          -7.966097910383901,
          4.350914528992461,
          2.0122594044134927,
          2.1946816814827983,
          -0.16916083467829268,
          -2.9880302176495723,
          -9.521491806637233,
          3.1750410907674653,
          -2.6597581469047378,
          -5.447940305855083,
          3.3186670361381845,
          -7.81288714563813,
          -4.2168054751964235,
          -1.8301446618427009,
          -3.288344935837982,
          0.47172307488735016,
          -3.4733190991954204,
          -1.8894883895696033,
          4.110913664792933
         ],
         "y": [
          -5.231377685295037,
          -2.3344984847336034,
          1.4263877581975117,
          2.3885105006056726,
          -4.7430333648110095,
          -4.048946044474649,
          -1.3281604316348323,
          2.1174784750325637,
          2.7265244463689893,
          3.405447541538178,
          2.0254776102937493,
          0.7069434383667802,
          -1.0294168753468538,
          -2.4290118807724665,
          3.1816338863825866,
          -0.16710374566119396,
          -8.730768781900048,
          2.9966743458397707,
          -3.3010912723757637,
          -7.480091509385165,
          -0.27582548180282424,
          -4.4747945459135945,
          4.080746399425748,
          1.9736124494055574,
          -3.9317035520465686,
          -0.82329034060039,
          -7.585988679585041,
          -2.5572620743961836,
          1.678721270926634,
          -2.849083197132875,
          -6.328799971591151,
          3.9777532987864235,
          -4.897768345215476,
          2.4208288514697665,
          3.4858330271840114,
          1.862832091832833,
          -1.2938713558777728,
          -1.8793180747314382,
          -2.452161858637441,
          2.7422928066806396,
          -2.0364477211511924,
          -0.5130079506454768,
          0.41189701717172245,
          -1.2467323027559194,
          -5.968131094460168,
          -0.5860603775716957,
          -1.157963506381782,
          -5.241430676944183,
          -3.9879731551032696,
          0.12488599843864286,
          0.1426032657270664,
          -1.5579659616205994,
          -4.570469829278985,
          -4.034308963077082,
          1.6746799094224172,
          1.825907517619731,
          -3.5176574395346414,
          -4.456175589945374,
          2.514645073036431,
          -4.959589101642333,
          2.5247579137094296,
          1.7855058266332242,
          -7.44944207472949,
          2.342347416605748,
          2.137729853509682,
          1.850344308486989,
          0.5122055035367049,
          2.2948138371940394,
          -1.3679201175831013,
          0.8029424417383476,
          -5.28014542886389,
          0.4470080771708822,
          -0.25591198881945987,
          4.072489589559168,
          2.595074380888851,
          -3.862761166498065,
          4.528976619862491,
          -6.095422913306253,
          0.9128244339430165,
          -0.7292922696868066,
          -0.8954513779543273,
          5.930424859952611,
          -6.154005302859361,
          -3.031214763694073,
          0.9789598267834073,
          4.124796037107229,
          -1.3489144230412256,
          -2.1924849854175785,
          -3.979033864490338,
          -0.18361984156963435,
          0.27396706150855543,
          -1.7061491688067785,
          3.1130246832635744,
          -0.4005225437027211,
          -6.726391701322778,
          -4.088901793639957,
          -1.2505056843050961,
          -2.5622586434746037,
          -0.8659440518066972,
          2.1103102065555444,
          0.649896418960279,
          -0.9115501545599449,
          0.10154232955231884,
          0.14895027702230268,
          -5.180649114833349,
          0.9007341277572969,
          2.0362910844517805,
          -4.737391723975328,
          3.8457273382078836,
          -7.950353217126719,
          -3.460389609771832,
          1.9309572340027095,
          -0.7788497196277262,
          -5.330404590369711,
          4.875571486071417,
          1.8231376915963682,
          -3.1565471819745863,
          2.2284711346202206,
          4.16525624735205,
          3.258758469920022,
          4.527047607168656,
          -6.69551217360076,
          -3.768482802135863,
          0.6193154959514238,
          2.9475372482620252,
          0.7413959290394949,
          4.999618586543112,
          0.35375491440552365,
          0.7720453426553364,
          -0.016761137364307933,
          -0.8147115753752613,
          1.3805367928888168,
          -7.094218706614184,
          0.810247180841425,
          2.351246772394089,
          -3.37682910410557,
          1.812377946262771,
          2.6858747347148664,
          -0.3101078540968162,
          -4.801681173811986,
          -6.366619818016901,
          -1.321025795150569,
          -4.76871484657535,
          2.5483300666882025,
          -0.15880316805317957,
          1.924624697381169,
          -2.14483821682673,
          -0.7451861674267938,
          4.610880890013721,
          5.576098758515353,
          -2.553133442315204,
          4.169888492450949,
          -6.343845700039662,
          0.32719467642846295,
          -5.27841995453317,
          -5.679055017594915,
          1.495101486000592,
          5.238076911109975,
          -2.091804024494826,
          -6.021854381838469,
          -0.6921832748127726,
          -0.6162495627116116,
          -2.9267726549401196,
          -5.682854619685434,
          -3.437215669169972,
          -7.842783511589521,
          -5.6662423929225945,
          1.7638374205927578,
          0.10659590396984682,
          -0.8454990018882866,
          -4.464553593850543,
          2.670550427255781,
          -4.718246996619033,
          -1.0353881056542125,
          -4.4348058569155775,
          -1.2425823245518035,
          2.1704932627732543,
          0.4339458993658065,
          -3.3049312383500244,
          -2.425460882203532,
          0.517653713591183,
          -7.56562305402514,
          0.7176884708250388,
          4.6643514145374265,
          -3.1694762500645126,
          0.19023911701948895,
          0.5231503948245353,
          0.18979368687132572,
          -0.887035558561264,
          4.705760658668278,
          1.1192897999056857,
          -7.368907526854993,
          -3.8862271203755094,
          -0.8669743421393091,
          -0.8079307491767291,
          -7.718828899458568,
          5.598853236927524,
          -5.762347219282422,
          -0.16794190728929817,
          -2.6223973823731543,
          -4.792676081379295,
          -1.7025438375474502,
          -4.0230464042826855,
          -3.3978851873324296,
          4.146814955120495,
          2.8095627172894866,
          0.2992310545579127,
          -6.168548322544954,
          4.968615015411406,
          4.452003756410739,
          0.10858089093855759,
          1.95309863560902,
          -0.7677339736606253,
          -0.7323301427181105,
          -7.221495468824205,
          2.650712751932303,
          -1.1026587899129527,
          -2.769948293066745,
          1.411465073791507,
          -1.7260092145631953,
          -2.0358765341316674,
          -3.7978061886834533,
          -2.563622460259643,
          -7.630403649599962,
          -0.019009053889436488,
          -2.2576336404191926,
          -0.4801355702071107,
          1.303856118848274,
          -1.2094924996586442,
          0.45470171303787793,
          0.39931381909824953,
          -1.617380192767093,
          -2.101501498472234,
          2.4650123479691106,
          -0.06120926478667115,
          -4.631934790142785,
          -2.5614193790101236,
          -0.054526421765983664,
          -5.153966196466733,
          -2.1959742802182105,
          4.513616966674783,
          -0.6630956409300741,
          3.317922217033056,
          -2.763946795898147,
          -3.629506612536702,
          1.1564706185764655,
          -0.12417965243953162,
          0.7833013921319899,
          -4.729017232806784,
          -6.097173891238627,
          -0.9439104819931587,
          4.249079779756938,
          1.458503729973563,
          -8.352575009181056,
          -3.8430695203042515,
          2.8138038589091074,
          -1.018732595934045,
          2.343874626015649,
          -4.617268393256361,
          -0.017952848450595856,
          -5.63089424124202,
          -0.7455260104179854,
          -1.0188011140021813,
          -1.208576741630659,
          -4.514412147385283,
          2.935637373227918,
          -0.49909110720715105,
          0.16892098515307308,
          1.0779986799006966,
          -6.400691084757483,
          -2.5278370558948726,
          -6.048813923042132,
          0.4389495627401313,
          4.112861125430964,
          -3.2009133555143707,
          0.8500302617653138,
          -2.803920343184042,
          -2.369529001502664,
          -0.7173056131259522,
          -1.173958407263234,
          -3.0146126409599514,
          3.854374126351867,
          -6.313091033637443,
          5.042435389992747,
          2.441910419125555,
          -3.675564231217304,
          -4.971550393176642,
          -3.1993303257414247,
          1.4611851463085952,
          2.792630459522123,
          2.8200219643514206,
          -2.210499638131418,
          1.6532694482844839,
          -7.5704312413138295,
          -3.8141811121398708,
          -0.32987620798538425,
          -6.12305223031158,
          -2.287638514315276,
          2.187557078037922,
          -6.285266930261725,
          2.8368476713694015,
          -4.211521823806349,
          2.458712668348045,
          -0.5259987036895688,
          -0.3905240449674341,
          2.246135215627058,
          3.4112113007399016,
          2.6338643447237207,
          -3.995008193471582,
          -2.6063262035252066,
          -2.1002143797730857,
          -2.5156702963520097,
          -3.1945896027218352,
          -4.753556718064329,
          -2.1449881438700347,
          -7.536625101691716,
          0.9428618174301152,
          -2.105511309097386,
          -6.239011670098194,
          -6.630082779410582,
          1.2726769006648464,
          -1.7805447305370297,
          3.798231170189859,
          -3.376276789023048,
          -5.286551095811333,
          -3.7541303779506823,
          2.2123900815627575,
          -4.613134450992578,
          2.6807045799524327,
          1.591071264514654,
          3.7916292457146175,
          1.9191329061284599,
          -2.9337974862122804,
          1.0880677522589945,
          1.0974353921540634,
          -6.345064863012969,
          0.7186391221720322,
          -0.7237559700028118,
          -7.958886771061786,
          -2.379131767848485,
          -7.457724268851698,
          2.0912463480631804,
          -1.7286371042988007,
          -3.111532717754483,
          -7.9828386932243225,
          0.7450448054011221,
          -1.7058222357129271,
          -1.7792753504233003,
          -0.6076997900825581,
          -7.857058183795011,
          -6.60299850243795,
          -4.00663473286134,
          -3.7901458559919257,
          -2.7331702812930296,
          -1.6433497052114048,
          1.6906644502511359,
          0.42762152099320055,
          -3.023388570830653,
          3.120764995568971,
          2.307836009670035,
          -0.4723080804399074,
          -1.7427149067724361,
          2.2614579989987593,
          -6.6066529739031274,
          0.22355566156823148,
          -3.6754604510937434,
          0.24427544569108398,
          -0.04334484969300002,
          -2.4114959606972066,
          -4.671202252986861,
          -1.9146285429153618,
          -8.166431291726337,
          2.1796244232954667,
          0.9950725255883135,
          -1.0508154858311032,
          2.000736952250163,
          0.582687359488013,
          -3.148959069523197,
          -0.5516103107416169,
          2.6750345065451646,
          -0.815879727937827,
          3.441661382984057,
          -4.07864910946264,
          -1.4050137926449753,
          -4.002045444348429,
          -2.873281600536205,
          -2.0220463872183045,
          3.65946678033633,
          -0.44845035297449987,
          -3.1688501090364167,
          -3.17960276087875,
          -5.437799678750481,
          5.58403940500859,
          -0.8853398130895385
         ],
         "z": [
          -0.02605424266832779,
          -0.3946915951224465,
          1.729920735531898,
          -3.9569896585439763,
          -3.4067583016358074,
          -5.446201762899855,
          -13.213635868416388,
          -2.720798681185809,
          1.6165698979562197,
          -4.117108000528736,
          -2.71791122537925,
          -8.391239110194821,
          -6.0353898301000575,
          -0.7107398614167986,
          -0.17288903101809378,
          4.040837070749409,
          0.14617011575357758,
          -4.4723342838898965,
          -2.302827853358788,
          -5.718225968016489,
          3.1941693056408886,
          -2.2374820603125176,
          -1.741433629116179,
          -3.009280388172039,
          -3.0849525858799804,
          -8.925027823166165,
          -1.3069454939123109,
          -1.6608976298225575,
          -7.902860709311867,
          -8.757777143607978,
          -3.437506260991255,
          -0.03915743555672706,
          -1.3504690519886744,
          -2.72853821902801,
          -5.768078113729885,
          -3.9453462292869803,
          -3.989470936522598,
          -5.196756553094652,
          -13.936491845420331,
          2.0494014921681547,
          -3.362318882439189,
          -9.208948559813484,
          -1.324848050557657,
          -3.840534231219454,
          -0.7337971765606327,
          0.879711563359361,
          -0.4656427002153061,
          -5.114972654830702,
          -0.9926605065509921,
          1.5949553718236247,
          7.1009662547499595,
          -1.3552821707774807,
          0.4993595405628487,
          0.5944488446906483,
          -1.7044155445217803,
          2.9604136721122365,
          -0.48937481053650433,
          0.5901503590347515,
          -6.410785707191134,
          -5.792399300905819,
          -2.866845372717522,
          -7.070022063031398,
          -6.456751338639675,
          -2.302295680193398,
          -3.158425931958183,
          -3.197047864805597,
          -4.817699128146176,
          -0.373579433139962,
          -0.07914577028150513,
          -1.8693704253647634,
          -8.687478552339797,
          -8.846951933001483,
          -1.1227919438957812,
          -5.344610107010624,
          -2.4186591388112757,
          -1.8364891053406744,
          -6.314969732423764,
          4.643078775163432,
          -2.1551059332723104,
          -7.832358713734413,
          -3.7015824052734523,
          -4.242261876376415,
          2.70042467042122,
          -3.2077533845020043,
          -2.2203459055610444,
          -6.718070566299239,
          -0.044510453288235344,
          -4.906780923950762,
          -6.092761759455404,
          0.3554935173870948,
          -6.7642793661400145,
          3.10255803735406,
          -4.382998608256146,
          3.455218356066946,
          -8.129457331991961,
          -4.754624945371361,
          -5.592233119198254,
          -4.893088138074199,
          -2.3725181782293667,
          -3.265844471713633,
          0.17871904728139043,
          -2.6563253441538266,
          -1.0852211416156585,
          -3.5850833379544023,
          -0.47105515229075945,
          -6.872070488976018,
          -8.098905890139914,
          -2.1806782290185365,
          -7.516944739692741,
          -1.5437873093337913,
          -1.3939729898890663,
          1.6087432681782763,
          -1.9952419260884928,
          -1.1585072970085561,
          -7.279418629229955,
          -3.0231007039178017,
          -5.337280104013939,
          -1.3035470564210938,
          -3.990522601183915,
          -0.09616476567737485,
          -3.519496538007792,
          -2.6898157056167067,
          -4.182191091825114,
          -2.202721009932859,
          -6.151882765148879,
          0.5063884417005486,
          -3.6482717562410167,
          -7.827125390033003,
          -4.809318155865881,
          1.3617278822373537,
          -0.2933123074207801,
          2.1193065568039757,
          -5.1805389990509045,
          -0.4257070842896688,
          -3.0678782658326726,
          -1.6081285765616247,
          -2.932560129913278,
          -0.11332473503976986,
          -2.9366303091684327,
          -11.005458437068384,
          -2.468864297985384,
          2.1316378029382594,
          0.541801257915662,
          -6.430745980081761,
          -6.386314381897148,
          0.10123921702798105,
          -1.5997605336357972,
          -5.779194966382121,
          -1.8207458373559777,
          -4.819802595707346,
          1.7237367749384511,
          -1.4343778342848879,
          3.7422794280420053,
          -6.783289853160233,
          -1.4466330691719713,
          2.028413962400128,
          -4.529026170519718,
          -2.304333653676322,
          -1.4118916538171302,
          1.5296699449124802,
          -5.281351289235637,
          -5.636427364102151,
          0.582124431530799,
          -2.962789349308138,
          1.6635559064206722,
          -2.4547943697177983,
          -4.144032807319502,
          -4.714201359669486,
          -3.99587143873564,
          -0.3183453677369164,
          -4.45701121378954,
          1.5499945779145832,
          -3.1560236555600953,
          -5.097397525578771,
          -6.255417978731073,
          1.833586792214365,
          3.618661956647646,
          1.0265007426725887,
          0.10298579217362608,
          -2.5367337487892594,
          -4.485307994669276,
          -2.7012022163395435,
          -3.3860002276794776,
          -1.7568435630123822,
          -6.362299602353316,
          -2.562475623852972,
          -4.817155865368318,
          -0.08268423101850329,
          -1.7818618498260763,
          -3.800866529036616,
          -8.342454451193937,
          -3.479085232586231,
          -3.873480108169447,
          -7.534804948134604,
          -13.376342906548624,
          3.574391176895486,
          -5.811727181914123,
          1.902947227995244,
          -7.086308046187153,
          -5.586878631182061,
          -2.6180871930985963,
          0.6477082519848184,
          0.25434643231635085,
          -0.2911402348314697,
          -3.576049379617473,
          -4.912957350816659,
          2.5852502057635993,
          4.405223807352154,
          -3.0423015224113232,
          1.9669695435988337,
          -4.668039346117027,
          -5.060650371921012,
          -15.255969895627297,
          -2.3281750360708204,
          0.4030246859319163,
          -4.999494852599092,
          1.03133384678309,
          -1.8120523149269088,
          0.5619653336996602,
          -0.5346144958884681,
          -1.049826857969411,
          -4.660891359214822,
          -1.5177245190631927,
          -1.6872387670307147,
          -4.23872895867382,
          -2.7464886036058656,
          -2.8311089060907717,
          1.8279450337832608,
          -2.4838863864236043,
          -0.9760017997115004,
          3.5311784674007733,
          -5.078713763114491,
          -5.956537689928501,
          -5.132771463243494,
          -7.553764559989589,
          -6.213107358433307,
          -2.5957852027549526,
          -3.974638321128267,
          -3.7484659575120416,
          -1.7951747450987359,
          -5.687022546797371,
          -8.172893403771416,
          -2.890795414783208,
          -3.783912160978325,
          -2.339103903083022,
          -0.5505992008502852,
          1.9519777981124071,
          -2.9049646558015723,
          -2.8214106202889004,
          0.6771900378004305,
          -0.7586589065899234,
          -2.3413629262744107,
          -1.0913282785008669,
          0.6774892283690913,
          -5.034836519517834,
          -3.6755991667579595,
          -0.41456349740506554,
          -8.986194872658384,
          0.28616008351005146,
          2.5686996553359362,
          2.4955833141189587,
          -7.167321833554947,
          -0.11467438651547915,
          -2.9669216771715545,
          0.3489725082753949,
          0.5860498652134553,
          -3.5296597032844717,
          2.3988478569754794,
          -6.2320631513863685,
          -0.6288244014336634,
          -1.1071093277380797,
          -2.6939933129700724,
          -8.531755305784825,
          2.059593950170223,
          -7.3213873200370845,
          -2.7498447272029347,
          0.06269614813714287,
          -6.837574415819988,
          -3.028723543227484,
          -6.60361930201749,
          -2.692095481630843,
          -0.35350359283492133,
          4.304087473463776,
          -5.818167523089452,
          -2.2826835607158062,
          -0.4969432970155383,
          -1.4448651504241532,
          -6.05644597639616,
          -4.152210241440267,
          2.430902579434192,
          -3.7797441284747273,
          -2.1994775399118813,
          -6.762451331310732,
          -7.245803099146594,
          -5.868703797993214,
          -3.3921012977137246,
          -0.8205733460872363,
          1.9355572981841735,
          2.9266774187570643,
          -1.7713973650625339,
          -6.738361669131987,
          -0.14556949949401637,
          -3.1265737009038697,
          -5.8610398838407995,
          -3.1639042107787327,
          0.3001571198845686,
          -4.310730291467947,
          1.6861117526551919,
          -6.423499741841598,
          1.2269927794329962,
          -5.660730173337616,
          -3.310016394702272,
          -2.4901661489542635,
          -6.458068181105,
          -1.8736206796999226,
          -2.975168847367091,
          2.905842123883395,
          -3.716908188811793,
          3.0816427840250937,
          -1.6320774012886896,
          -0.8846890939305494,
          -7.510399683488519,
          3.876038452367146,
          -3.1014405380765138,
          -2.0695686417432935,
          -2.48242089590164,
          -2.2473438722823005,
          1.0503490064051062,
          -9.079308433261707,
          3.138128660627179,
          -6.064148965948534,
          -2.149821193118732,
          0.9560252414838863,
          -2.7967142324099705,
          -5.52879232608069,
          3.6707804437554765,
          -2.9145349229283655,
          3.652156073434977,
          -14.17586560614297,
          -4.186779162166471,
          -3.9553152160092475,
          -2.1427019190659213,
          -8.03270531910886,
          0.7274614971535026,
          0.22951950331448845,
          1.6221319238361314,
          -7.916410500852392,
          3.4577192762593305,
          0.5347055660922374,
          -6.716230505974993,
          -8.440328067105307,
          1.3489905772600668,
          -0.6233024158882895,
          -0.6070692645308724,
          -1.9108036821312115,
          0.5139592160659673,
          -1.2755966277704822,
          4.21970553291274,
          -4.6481391251512365,
          -0.15400543064333816,
          -1.4726477615030025,
          3.427724150278348,
          0.2652905547807724,
          -1.7759525331837114,
          -1.609543794513183,
          -6.23332382237486,
          -3.199073774264814,
          -3.6117840052450942,
          -2.225266407282265,
          -2.1080322643169787,
          -10.033809471644382,
          -1.6170875215909413,
          -4.663173504221317,
          -2.0417399530191087,
          -6.393828981823757,
          -1.682025229606844,
          -0.9602749784757016,
          -6.313278010499805,
          2.134353701098729,
          -3.969369420287264,
          -0.8618128523241874,
          -5.689827657250697,
          1.334012852063373,
          -0.8723407342250918,
          2.035586637586097,
          -4.9289381974098285,
          -2.0224669186695023,
          -0.6178673126029643,
          -0.6086216455049206,
          1.680147546644053,
          -4.215885672387604,
          -10.071820862320303,
          -6.1375088382267995,
          -2.3188103383266747
         ]
        },
        {
         "hovertemplate": "color=James Bland<br>Principal component 1=%{x}<br>Principal component 2=%{y}<br>Principal component 3=%{z}<extra></extra>",
         "legendgroup": "James Bland",
         "marker": {
          "color": "#00cc96",
          "opacity": 1,
          "symbol": "circle"
         },
         "mode": "markers",
         "name": "James Bland",
         "scene": "scene",
         "showlegend": true,
         "type": "scatter3d",
         "x": [
          -9.045058359655247,
          -10.552877482718877,
          -13.9568182819239,
          -3.7422066641230405,
          -14.159350076711084,
          -11.785671164222908,
          -14.472610314399201,
          -14.112342850371723,
          -9.731922695028288,
          -6.347506190418279,
          -14.560695174905522,
          -13.280140892927784,
          -7.969155449058073,
          -5.4505907642694424,
          -10.952600226405224,
          -10.165204121606155,
          -16.702038964221597,
          -9.077242913959028,
          -15.543064206683635,
          -9.009322356162208,
          -17.25037696739544,
          -2.1894007282200953,
          -8.322982496154614,
          -4.718137801244522,
          -14.77897789244181,
          -10.780431662049757,
          -13.621399587320848,
          -11.282279877668183,
          -9.500389008825072,
          -10.78279626702986,
          -11.681824429757105,
          -13.467934082822653,
          -13.415750427105603,
          -16.737007986409388,
          -2.3547403746583893,
          -13.074727932641883,
          -9.88417369918725,
          -3.010344707951226,
          -10.253875651032295,
          -3.3887331758971775,
          -1.9369152268430547,
          -13.303230317386046,
          -14.59124018765708,
          -10.400681191389085,
          -5.013447796273089,
          -12.37584019222717,
          -10.062899196806592,
          -10.177135764266767,
          -6.898001663804173,
          -12.996260180130546,
          -11.463112653037646,
          -8.503089503812847,
          -12.757943952939602,
          -11.166264809863348,
          -13.637594782579894,
          -10.079286925801316,
          -10.249737228343115,
          -14.726665081023423,
          -14.83086660690999,
          -11.568195335391922,
          -5.517320726225226,
          -10.481938026720513,
          -11.89401324898219,
          -11.311010434598561,
          -10.685342798386042,
          -11.803118975796174,
          -13.870602474165668,
          -6.088120385536135,
          -5.483110072789903,
          -13.378563220219236,
          -11.683558453621064,
          -7.691730895125385,
          -10.707693279222337,
          -10.777019008677128,
          -13.718593319167894,
          -9.684668812201258,
          -9.042672959695203,
          -13.507149693242347,
          -6.497467119373454,
          -11.218824625050193,
          -6.161608732407212,
          -10.366815103069255,
          -9.43859993248365,
          -12.935142852589268,
          -9.665809533796569,
          -11.324645909593302,
          -5.196173335835519,
          -11.943125055528457,
          -12.773971501796769,
          -6.575619720885918,
          -7.7327623478490155,
          -10.644902769182744,
          -11.255422043255232,
          -12.397056936274296,
          -10.888221478123327,
          -10.52132960344137,
          -9.522324158085844,
          -8.49556560537768,
          -6.907447810194548,
          -8.689077607952742,
          -12.77303299940989,
          -11.43542260819029,
          -10.947224270878053,
          -11.10878738587392,
          -14.81607132810531,
          -11.37225262210154,
          -12.646146300310729,
          -8.767104301207555,
          -12.949532566767465,
          -11.698187182690873,
          -8.14001753526936,
          -3.0334350216597485,
          -10.31072754193136,
          -16.448628785926832,
          -12.74473630214265,
          -16.003483307610907,
          -9.033948061692815,
          -13.15999041844829,
          -8.679762028421992,
          -9.468041832645927,
          -12.965467432178265,
          -5.4077076478095805,
          -8.203713647860882,
          -2.9306414608121565,
          -9.69142211033123,
          -9.43997753792733,
          -13.958229542439323,
          -12.240540759429177,
          -12.735692404617119,
          -11.954336628730617,
          -9.1343418118595,
          -11.351109192275942,
          -12.396111736191534,
          -10.861873048943432,
          -3.7555997100061593,
          -9.759485243459755,
          -8.452660985506823,
          -16.96369092607985,
          -9.088363673562377,
          -10.125552859386811,
          -15.00567731027999
         ],
         "y": [
          -5.489034770929561,
          -8.329755744007363,
          -10.455393613807805,
          -4.664752570828059,
          -8.767415326258853,
          -7.870940882847906,
          -12.295225722650335,
          -9.039114169832231,
          -9.438747102735325,
          -6.35378834187264,
          -9.704421687104555,
          -3.859244817635775,
          -8.785449678987854,
          -5.157244942815977,
          -3.1995209648848806,
          -5.583422859335764,
          -12.897927489664184,
          -11.021713519808213,
          -12.911098061319413,
          -6.5693599963180045,
          -15.227712908330421,
          -8.294290104467795,
          -4.139522799443359,
          -0.6598667208599174,
          -13.404649630907466,
          -6.808242292243279,
          -9.703651117428294,
          -6.5330729552826154,
          -12.961830518245748,
          2.3593263643732825,
          -8.445587082571846,
          -4.036520848736962,
          -7.827705197224652,
          -14.950009783554894,
          -8.961864590162854,
          -9.25113622353181,
          -9.042220600409982,
          -8.859241043970819,
          -8.409818469362772,
          -1.1186531156274886,
          -7.783552263694736,
          -2.2083515273387744,
          -8.613367320393483,
          -7.278511198777402,
          -8.031704974747742,
          -5.755814950998814,
          -0.9989639731492524,
          -5.321111952500666,
          -6.14683911394704,
          -6.158351859905441,
          -7.133725636095282,
          -5.978993009770402,
          -8.503557104689929,
          -6.4879607528187995,
          -6.988120859098736,
          -5.450507515484319,
          -7.770467476561731,
          -14.383869210112799,
          -7.989577428827163,
          -7.345764810055644,
          -7.108028536430105,
          -2.9628954572979587,
          0.6304822710854799,
          -0.3124707511329983,
          3.9272375630325516,
          0.9140805577202148,
          -7.150800704027257,
          -4.178897096034683,
          -4.395754566146904,
          -10.833357757613479,
          -11.94490097044147,
          -8.217198560255529,
          -6.546377202222266,
          -5.142284235705638,
          -7.906591660060771,
          -4.577932680772977,
          -4.965697499471771,
          -6.893150313152268,
          -5.455710997742881,
          -7.4878006796032945,
          -7.575748348044901,
          -13.209771214020332,
          -1.9156224417711865,
          -5.660194126988323,
          4.286279573365312,
          -3.637502978812982,
          -9.47758927509586,
          -5.335929967154006,
          -8.501536300226917,
          -8.034538665509015,
          -8.321675657038096,
          -4.204927976966462,
          -10.79333011878448,
          -1.8472501368369574,
          0.6335422480618538,
          -3.224669446859165,
          -0.5463487313395471,
          1.4107756383768377,
          -5.067891461565233,
          -11.924026930638778,
          -2.686645534247539,
          -5.0401028152492096,
          -2.4474655602340984,
          -2.150178603317054,
          -12.769995964114159,
          -3.162706209903953,
          -5.025347494801296,
          -2.4514136916014637,
          0.8472520350937888,
          -7.232694036642187,
          -1.7085640842228837,
          -9.869093511768725,
          -3.971186628584266,
          -16.45158979259803,
          -4.759397038267436,
          -14.89088165954841,
          -1.1694618383347948,
          -10.164419816780484,
          -7.813191433046011,
          -8.234399424842232,
          -6.8412958485593665,
          -11.066753421288668,
          -7.2795604221758765,
          -1.8821531299139882,
          -2.8988065897734985,
          -4.23936498647525,
          -7.872972379820784,
          0.8311167935089281,
          -2.832753805710216,
          -3.34551037355364,
          -3.2817860344684338,
          -5.1955196568676865,
          -9.8501104768094,
          -10.21487411791321,
          -11.32516147839072,
          -9.43049759163302,
          -14.961281290601896,
          -11.690193860631952,
          -3.684016861607392,
          -3.0462783770261783,
          -9.852351546009174
         ],
         "z": [
          2.2480937196747677,
          2.155544957578855,
          4.071923426012288,
          4.240982337744558,
          10.898079434763465,
          -1.1232844854103528,
          8.573211465674179,
          11.913034727630667,
          -3.2077100382464736,
          7.000403520034049,
          9.070009924897551,
          -0.7826422590550481,
          3.213055792889533,
          5.150021663540496,
          2.6751592922531073,
          -0.46675252805658785,
          12.716702529663989,
          4.3434574688252825,
          19.079987421952424,
          5.053096011994898,
          19.849957910165582,
          2.7448549223529755,
          3.5527461383286814,
          11.293136015452266,
          13.113287963010267,
          9.713877687329688,
          7.330823412990141,
          2.0456045008122694,
          9.366765882633366,
          3.054111761135628,
          8.169079918468652,
          6.314101345117089,
          2.4421477854372844,
          17.39934680811805,
          3.464494248279701,
          8.412600449023802,
          8.64522407945563,
          7.211893436793129,
          -0.12121829098388505,
          10.684497222275263,
          7.5382997327536945,
          9.631326056131382,
          11.572790543540485,
          -0.13253380444253227,
          6.006115932378804,
          6.89849036415981,
          0.3224325248641449,
          0.5511243834506471,
          3.177519923606792,
          4.202856831090668,
          0.8818726665467351,
          -0.683898864806493,
          7.372357524670815,
          0.9924550562439055,
          7.881188541217728,
          5.5089255598962525,
          -1.9896235993583409,
          12.967656855124718,
          6.66480519796326,
          0.5384740583809767,
          5.712468583589311,
          0.9622361665295301,
          1.1380970022402577,
          2.7595320108347634,
          4.195363319372486,
          4.855157049498463,
          3.456752735192034,
          4.416921339818493,
          3.7183731819026815,
          9.189956288832198,
          10.37060449129202,
          -3.1482592092667483,
          1.8907038992060816,
          -0.5368225686032445,
          6.885043468993081,
          -1.8784977517745156,
          1.6750180680031574,
          5.325497617756431,
          1.3591171279073204,
          -1.0285102819412073,
          1.4324879676140392,
          3.0888101713195644,
          2.9632872012084412,
          0.5978172378738197,
          5.7657693763372535,
          -1.330069527159277,
          0.5700798913640254,
          6.209440714180813,
          12.941900250788665,
          5.254097035544327,
          10.670836965579916,
          0.327013454424483,
          -0.7008167227179332,
          -1.859691953364387,
          1.274474114474273,
          1.3229902152995103,
          1.2712801132739697,
          3.744205657231699,
          2.981041995533248,
          12.209094146091443,
          6.825106700447708,
          -2.091213685497228,
          1.8651723223761014,
          8.362779149639367,
          11.07379827273305,
          -2.26231966269489,
          -3.7631719366378884,
          1.524631242757447,
          3.4177527751777896,
          -3.1319293056719557,
          5.788865607254613,
          1.9075461537175804,
          0.24189278822947835,
          15.638338976419789,
          -2.6908715204600417,
          19.85426054064474,
          1.9846720138272043,
          11.044028270653229,
          -1.4672644924159963,
          6.2605266959962345,
          8.514459314458334,
          4.593541518057635,
          0.3155765937583167,
          6.360523753363268,
          0.500168863246009,
          -0.8127698011335647,
          7.094084922717548,
          1.6989161416395893,
          2.1842191966795372,
          0.9082450946312776,
          3.668461873629988,
          4.0922649365215475,
          1.0408510033613068,
          7.894350023112093,
          3.1679098301197706,
          -4.668173625236384,
          8.905727889212418,
          12.562910497793995,
          2.419332302817501,
          2.4051900180852064,
          8.12003270174654
         ]
        },
        {
         "hovertemplate": "color=Marcel Stout<br>Principal component 1=%{x}<br>Principal component 2=%{y}<br>Principal component 3=%{z}<extra></extra>",
         "legendgroup": "Marcel Stout",
         "marker": {
          "color": "#ab63fa",
          "opacity": 1,
          "symbol": "circle"
         },
         "mode": "markers",
         "name": "Marcel Stout",
         "scene": "scene",
         "showlegend": true,
         "type": "scatter3d",
         "x": [
          -8.835708447409736,
          -4.548924393683226,
          -4.887682975471063,
          5.352875973445118,
          2.807580982910051,
          7.744059688393615,
          -5.7910284022937715,
          -0.18086315576140316,
          -7.071599903518181,
          1.180889541871133,
          -2.868567744933501,
          1.5348166908527394,
          -5.1039854929743536,
          5.4522641066545345,
          -2.486315681403596,
          1.5881919361079166,
          -7.259493011999406,
          1.253849592096003,
          0.017791112459639945,
          -1.8158356769788868,
          8.036860165047958,
          3.861643167219271,
          -2.024782162888494,
          -2.7207427941046474,
          2.2077243997875367,
          -10.75228527673813,
          -3.3216221794337595,
          -8.755271824397354,
          -6.238777880272561,
          3.2184316216591697,
          -9.217946598676932,
          -6.6646660275760095,
          -4.593619456831437,
          1.032748477466292,
          3.543061622865272,
          7.122297660565837,
          -4.999619452473382,
          4.188661904084909,
          -2.4658282780932534,
          -10.644043683800438,
          1.6216164404753355,
          3.5348659420123094,
          0.6620750880916281,
          -5.811981925142346,
          -2.461619370480893,
          1.8130121800444121,
          -1.3991430998651406,
          -6.067965873524409,
          0.7332729317170551,
          -2.5916624167892093,
          2.5921436937243527,
          -4.20753918850506,
          5.5196671575720595,
          5.502829476792156,
          -8.57064298427878,
          8.854839904270511,
          3.7186419914599,
          -9.491068588477015,
          6.136377478529498,
          6.97919408190885,
          -4.277476840572332,
          4.662371038263893,
          -6.840165365405458,
          2.7987697910422455,
          -2.3680190319548977,
          -1.9602901420380667,
          3.4916069568138974,
          0.7969733025769942,
          -0.28129696091757234,
          3.9691862474952555,
          1.426933980130197,
          3.9445656777325495,
          6.777357618404334,
          0.8226132327750879,
          -9.605862202104205,
          -5.467553144299984,
          -9.30440648044049,
          -2.9696191999799812,
          4.5296408698677455,
          -11.158886273426747,
          -9.771775621432946,
          4.733587178405621,
          1.076406411955471,
          2.9757250671763766,
          -1.4185946064530457,
          0.519193260588592,
          2.617737771358792,
          -3.054482579977714,
          2.8259233532899195,
          -3.5708416116540596,
          11.90757590816075,
          3.881321224885798,
          8.644647074927091,
          4.377862621622614,
          3.007056449012042,
          2.2614672209257627,
          -3.306646839939614,
          6.40350477321788,
          -2.5465069107252134,
          -2.3363281902071367,
          -4.148478166795252,
          2.4136465220257706,
          1.6379268348702718,
          -3.6434957927782596,
          5.438890411387468,
          4.583844375956645,
          -8.011414629508463,
          -9.165210995269469,
          1.162373209579615,
          8.001512302302585,
          0.7380668517575439,
          2.8460746420969594,
          -2.3334343702728724,
          4.646861570902527,
          -0.9828593541022766,
          7.637262339428064,
          -5.075255613537431,
          7.512920215575965,
          -4.537513411226419,
          8.923386187333332,
          -3.3723745969209977,
          4.5078101365817895,
          3.4404140970605246,
          -5.374549502938543,
          7.546029652284909,
          -8.716986542493899,
          -5.525312091574481,
          -2.895792478350593,
          -7.847696487010572,
          8.594247473380936,
          2.919412731984005,
          0.945033972506354,
          -1.8906014418012969,
          -8.76712325601697,
          -2.7095785906632717,
          1.2775427168142865,
          -9.27469447847063,
          -0.9547514302040434,
          -6.127663363686029,
          1.9957031045075229,
          0.8681188968868174,
          1.1573035667424236,
          -2.732658086446325,
          -10.976278460785817,
          -0.9047751077408818,
          8.722884248778954,
          -3.578825210421997,
          -9.45067534620913,
          3.069242438824656,
          0.7200325249812366,
          8.142847673021771,
          1.3377006964497526,
          -7.296479382656969,
          -4.108274534327774,
          6.538917065294843,
          4.63716855913714,
          2.3109273318455323,
          -9.069443563461538,
          5.518377716745092,
          -8.425593968128066,
          -9.786270064223812,
          5.707495668560139,
          6.894211970243074,
          5.790773286625885,
          0.011463727575194288,
          -9.546904250835993,
          9.91224331457293,
          6.6878318904217,
          -5.392459324164144,
          -10.721928520554346,
          3.74508956268328,
          1.5018205596888352,
          -9.968729089918343,
          3.5782781164610746,
          -2.2181291106854606,
          -5.206676010913881,
          -10.279971371510651,
          -0.6850325580101088,
          -2.448092180082067,
          4.235230965742358,
          3.853809496941814,
          12.731294025938206,
          3.5602995874185432,
          6.68233286653292,
          -11.109025211537901,
          -9.396760618827598,
          -3.9545471996358454,
          -3.7461908415094363,
          2.370697635366676,
          -0.41192463560350046,
          -5.808355677472577,
          -5.100258151890029,
          -1.0901585654938626,
          -8.397727890734426,
          0.17823822654879376,
          0.7056927315353126
         ],
         "y": [
          7.936108984175829,
          15.272095982994388,
          6.732757526442372,
          3.196156047807015,
          12.289986150569794,
          13.863725105623928,
          8.530330930388983,
          12.106546297664897,
          8.151951157008275,
          4.14854286969849,
          19.444292720493472,
          10.431169947470305,
          11.486002322844897,
          7.6011520742479455,
          11.781112919656577,
          5.7580490933421515,
          16.648722806683278,
          7.1211220232759995,
          6.465860117869586,
          22.63573594710615,
          5.979932039844039,
          4.968355802842848,
          8.107877333229432,
          5.87156797915676,
          17.67658347570661,
          12.184342302412661,
          6.511317744350195,
          9.810078414766021,
          19.417182907196942,
          9.7818916346708,
          5.964267909999912,
          18.35797151989274,
          20.173890332148456,
          4.158675028912926,
          9.632596792401575,
          7.596231835527371,
          12.987881143943701,
          4.86817793185653,
          13.029399910811197,
          11.682935119037593,
          9.578047480946775,
          3.1639242227481152,
          6.449984236245703,
          13.02789754711758,
          7.597603321158988,
          4.906069909212432,
          6.332238380006096,
          15.923341010396724,
          5.0127072110424145,
          5.708710906709822,
          12.289143280807389,
          13.708141379874217,
          3.7602420092345734,
          4.336049329375047,
          10.456965929723026,
          10.866003352829065,
          13.574388379213985,
          15.550769778125757,
          12.265599116657222,
          10.924605607382336,
          6.715896327157227,
          8.638175089357759,
          20.425576991124167,
          5.797242486488154,
          5.588719304551383,
          6.829294798446345,
          9.50091188301528,
          5.238805789975076,
          7.199558876285189,
          10.327968425241819,
          5.050054241793642,
          1.790669323165906,
          8.269686618668235,
          10.490807522810325,
          15.583712519505815,
          7.634927907835655,
          33.787698157625215,
          15.6826255851188,
          3.7370307361096144,
          7.839482650441616,
          10.001074821554806,
          6.054350359168508,
          18.08311389471033,
          2.945065767403029,
          11.974498451071472,
          12.824042827304437,
          8.59101033375146,
          9.012837647943087,
          16.76049226925092,
          5.512068039651659,
          11.376964725378047,
          3.5523934850216814,
          11.401608463866708,
          8.201541344095704,
          6.5299850002671675,
          4.474870086240077,
          11.189079188421024,
          9.367946040557484,
          6.236040267573879,
          4.827341413133359,
          8.136577063496851,
          1.7345704402391735,
          12.85482007338582,
          7.290299247563152,
          6.137368023687649,
          7.949293766203773,
          16.419876022191662,
          15.779060636714188,
          3.551973764262785,
          12.837832394300525,
          4.361527161406892,
          2.438882965178208,
          5.728038462606969,
          9.051500928499834,
          10.403783495376137,
          7.926232260631454,
          15.087001371344709,
          5.787030430097262,
          20.090595706229927,
          17.480786807401408,
          19.831411638613883,
          6.454323295762223,
          9.046024721740334,
          9.676169157374483,
          8.592453392648533,
          13.26901048844168,
          10.524245934494532,
          20.86447986229844,
          7.628821545186745,
          8.650729041756714,
          10.197919055700753,
          7.240204760287462,
          5.232692253355722,
          8.60132695583848,
          6.70383817676963,
          4.911547482972046,
          17.60117071750988,
          5.834367794902976,
          9.830370694449643,
          6.466434182148445,
          7.745422875175125,
          5.304384757413866,
          5.7477666908954825,
          12.518050875783404,
          16.787574387237765,
          11.530081724053112,
          10.223699066134687,
          18.13784850461913,
          5.349640401382634,
          6.359522365930344,
          7.698034292668353,
          8.666486966216274,
          10.991541240149042,
          4.89515420622546,
          11.561284679163334,
          5.8834118802894,
          13.041264821342901,
          17.57202841622431,
          6.849073553697991,
          9.190376841278908,
          14.44637554408225,
          11.107262386906042,
          7.082180158583376,
          14.342465148939837,
          3.9362513023010393,
          12.13840196560452,
          15.140034596499454,
          5.263072133007726,
          7.050177983356537,
          5.961983985435743,
          7.915026565159871,
          7.416371997110188,
          17.425172533788015,
          4.132915803902716,
          10.710726736482075,
          11.555173616603735,
          13.660683653901307,
          6.14645593552874,
          5.852069199521998,
          6.231655915150956,
          11.265695069394049,
          11.534694154152534,
          5.190732413027574,
          7.801706395852325,
          11.180551581531034,
          9.958357049400128,
          6.8641768131038905,
          6.713054455560252,
          6.518646081658169,
          6.553432753731944,
          6.014624436156691,
          6.521773280342047,
          4.95812384386048,
          17.055011578942718,
          6.669500934490136,
          3.1654350580760027
         ],
         "z": [
          -3.915870620729434,
          3.162663136711462,
          -0.8641439958751287,
          0.9089505372673394,
          3.7194251862252607,
          5.590969874881763,
          6.33989567326871,
          2.3307464214389535,
          -1.0683297746946623,
          -0.6139754371072867,
          5.256060189749807,
          2.3398112470816765,
          1.5832258701205058,
          3.735368702236332,
          5.132508658025243,
          0.7486822161239401,
          1.7901341906531212,
          -2.3315057599119595,
          2.4942197051814543,
          9.681982594857812,
          1.323205141305523,
          -0.4855205502889195,
          3.579107567132731,
          0.8452267379140205,
          6.848432230888884,
          3.605874501905545,
          -3.266681772428412,
          3.4759255492176857,
          0.047253220594334934,
          5.637310055197489,
          1.2103027026917714,
          1.6641514470575933,
          7.7539632010265835,
          2.5226676256529696,
          1.2433795353349155,
          5.6841344471249515,
          -0.4953224476132856,
          0.6781104444911414,
          0.5826016932928724,
          0.011745656478478429,
          -1.3751689983584638,
          -0.11735726880941691,
          0.5400417100011562,
          -2.4445737605769144,
          0.108532533076222,
          1.022041570020913,
          0.7001468622648866,
          1.0125686508314704,
          -0.021303210749805852,
          1.1479420687535982,
          4.391576758769381,
          0.2883414430173782,
          1.187013177165152,
          1.9468109732516292,
          0.16582218886491995,
          6.2183305180467086,
          1.9020624068263152,
          1.163249782035874,
          5.345105929318125,
          3.058152095465264,
          -1.5329679787626196,
          1.8795663410674697,
          2.743234915728071,
          1.6350928597895358,
          -2.20395224595369,
          -4.488840242625317,
          5.779893440134876,
          3.3211675403230294,
          -1.2567154593464473,
          1.5961976919572733,
          -1.5976201290909555,
          2.000697603232148,
          2.89476913164552,
          -0.7821225189237123,
          1.3301901326676182,
          -1.842023872052558,
          11.966199989471084,
          0.41029286266499393,
          0.9872935886213604,
          -3.4467425041196234,
          -3.56176554409116,
          -0.1648873905996082,
          5.492408172813432,
          1.8270136473892433,
          1.4351149423036837,
          -1.070994549057798,
          0.6085488509986112,
          1.0948671043429028,
          9.389439569437185,
          -2.231906488499073,
          6.705835823288984,
          2.8921286002128324,
          3.5504374909305243,
          1.3191249076319806,
          1.3022614654129303,
          0.9630374224778694,
          1.9208474274695664,
          4.102143818484388,
          1.1512851625257312,
          3.045121383568237,
          -2.197960372272569,
          4.8873839972344175,
          0.9299950752841317,
          -2.870619846348323,
          -0.27731286412257095,
          3.427456549985641,
          0.9005394867675798,
          2.332167545062808,
          1.0731867688398524,
          4.638543853614196,
          -0.9120666583676788,
          3.8851371740536798,
          -0.6042291571992823,
          -0.001668998626001514,
          2.262015496590476,
          4.165948842427929,
          0.5776437408931515,
          1.5771785836986392,
          6.02733660453144,
          8.028814721545496,
          5.418376314020717,
          1.656986581524763,
          4.312060249709246,
          -1.9931319287918676,
          1.9294188168266784,
          -0.945863987334859,
          1.3084118371589848,
          6.590249622768702,
          -4.717568289799,
          4.113890472475263,
          1.4945772144341227,
          4.062377358142311,
          -1.3186828799848653,
          -0.07448867187208853,
          -0.7856899117887852,
          -0.5438954620552606,
          2.420500458919407,
          -2.375865153157843,
          -2.8204728851587095,
          -1.676580058099928,
          0.789336180629602,
          0.10954901890182062,
          -0.6046918220502815,
          -0.6060437061433868,
          5.596585309752441,
          3.7336244310102016,
          0.5175293613317676,
          7.432685732555546,
          -1.0639947461872565,
          -0.03569977013734908,
          1.5921680700366019,
          4.7318800143310895,
          -3.0215995397898507,
          -0.16538760224713,
          4.601838861537142,
          -1.0547485758412112,
          4.620847815032119,
          2.898085529881284,
          2.005498888630964,
          -2.5792944912348923,
          5.465517964773683,
          1.3640967980090295,
          2.333022070547808,
          6.636405594279828,
          3.184328323323448,
          0.21401171557554624,
          7.774814064465577,
          1.0606509087430847,
          -4.832918760006943,
          3.9360016026229827,
          -1.1093797778512726,
          0.15386455363446733,
          9.32595797620542,
          -0.4328486716141111,
          0.005621287351337077,
          -0.8773203785995707,
          1.8206004513695475,
          -5.858710226673102,
          3.9267843083980982,
          4.262038966572685,
          1.9270517103181073,
          6.351230055882577,
          0.09615277713220005,
          1.5790768720417387,
          -9.41252164188663,
          -0.03174354469080965,
          1.1440050620137263,
          1.0427646752033137,
          -2.190256299644408,
          -0.8969837352375867,
          0.6773477585707802,
          -1.8950055923468094,
          2.600047760024409,
          5.85206425132859,
          1.7737455375027604,
          2.154027346916553
         ]
        }
       ],
       "layout": {
        "height": 600,
        "legend": {
         "title": {
          "text": "color"
         },
         "tracegroupgap": 0
        },
        "scene": {
         "domain": {
          "x": [
           0,
           1
          ],
          "y": [
           0,
           1
          ]
         },
         "xaxis": {
          "title": {
           "text": "Principal component 1"
          }
         },
         "yaxis": {
          "title": {
           "text": "Principal component 2"
          }
         },
         "zaxis": {
          "title": {
           "text": "Principal component 3"
          }
         }
        },
        "template": {
         "data": {
          "bar": [
           {
            "error_x": {
             "color": "#2a3f5f"
            },
            "error_y": {
             "color": "#2a3f5f"
            },
            "marker": {
             "line": {
              "color": "#E5ECF6",
              "width": 0.5
             },
             "pattern": {
              "fillmode": "overlay",
              "size": 10,
              "solidity": 0.2
             }
            },
            "type": "bar"
           }
          ],
          "barpolar": [
           {
            "marker": {
             "line": {
              "color": "#E5ECF6",
              "width": 0.5
             },
             "pattern": {
              "fillmode": "overlay",
              "size": 10,
              "solidity": 0.2
             }
            },
            "type": "barpolar"
           }
          ],
          "carpet": [
           {
            "aaxis": {
             "endlinecolor": "#2a3f5f",
             "gridcolor": "white",
             "linecolor": "white",
             "minorgridcolor": "white",
             "startlinecolor": "#2a3f5f"
            },
            "baxis": {
             "endlinecolor": "#2a3f5f",
             "gridcolor": "white",
             "linecolor": "white",
             "minorgridcolor": "white",
             "startlinecolor": "#2a3f5f"
            },
            "type": "carpet"
           }
          ],
          "choropleth": [
           {
            "colorbar": {
             "outlinewidth": 0,
             "ticks": ""
            },
            "type": "choropleth"
           }
          ],
          "contour": [
           {
            "colorbar": {
             "outlinewidth": 0,
             "ticks": ""
            },
            "colorscale": [
             [
              0,
              "#0d0887"
             ],
             [
              0.1111111111111111,
              "#46039f"
             ],
             [
              0.2222222222222222,
              "#7201a8"
             ],
             [
              0.3333333333333333,
              "#9c179e"
             ],
             [
              0.4444444444444444,
              "#bd3786"
             ],
             [
              0.5555555555555556,
              "#d8576b"
             ],
             [
              0.6666666666666666,
              "#ed7953"
             ],
             [
              0.7777777777777778,
              "#fb9f3a"
             ],
             [
              0.8888888888888888,
              "#fdca26"
             ],
             [
              1,
              "#f0f921"
             ]
            ],
            "type": "contour"
           }
          ],
          "contourcarpet": [
           {
            "colorbar": {
             "outlinewidth": 0,
             "ticks": ""
            },
            "type": "contourcarpet"
           }
          ],
          "heatmap": [
           {
            "colorbar": {
             "outlinewidth": 0,
             "ticks": ""
            },
            "colorscale": [
             [
              0,
              "#0d0887"
             ],
             [
              0.1111111111111111,
              "#46039f"
             ],
             [
              0.2222222222222222,
              "#7201a8"
             ],
             [
              0.3333333333333333,
              "#9c179e"
             ],
             [
              0.4444444444444444,
              "#bd3786"
             ],
             [
              0.5555555555555556,
              "#d8576b"
             ],
             [
              0.6666666666666666,
              "#ed7953"
             ],
             [
              0.7777777777777778,
              "#fb9f3a"
             ],
             [
              0.8888888888888888,
              "#fdca26"
             ],
             [
              1,
              "#f0f921"
             ]
            ],
            "type": "heatmap"
           }
          ],
          "heatmapgl": [
           {
            "colorbar": {
             "outlinewidth": 0,
             "ticks": ""
            },
            "colorscale": [
             [
              0,
              "#0d0887"
             ],
             [
              0.1111111111111111,
              "#46039f"
             ],
             [
              0.2222222222222222,
              "#7201a8"
             ],
             [
              0.3333333333333333,
              "#9c179e"
             ],
             [
              0.4444444444444444,
              "#bd3786"
             ],
             [
              0.5555555555555556,
              "#d8576b"
             ],
             [
              0.6666666666666666,
              "#ed7953"
             ],
             [
              0.7777777777777778,
              "#fb9f3a"
             ],
             [
              0.8888888888888888,
              "#fdca26"
             ],
             [
              1,
              "#f0f921"
             ]
            ],
            "type": "heatmapgl"
           }
          ],
          "histogram": [
           {
            "marker": {
             "pattern": {
              "fillmode": "overlay",
              "size": 10,
              "solidity": 0.2
             }
            },
            "type": "histogram"
           }
          ],
          "histogram2d": [
           {
            "colorbar": {
             "outlinewidth": 0,
             "ticks": ""
            },
            "colorscale": [
             [
              0,
              "#0d0887"
             ],
             [
              0.1111111111111111,
              "#46039f"
             ],
             [
              0.2222222222222222,
              "#7201a8"
             ],
             [
              0.3333333333333333,
              "#9c179e"
             ],
             [
              0.4444444444444444,
              "#bd3786"
             ],
             [
              0.5555555555555556,
              "#d8576b"
             ],
             [
              0.6666666666666666,
              "#ed7953"
             ],
             [
              0.7777777777777778,
              "#fb9f3a"
             ],
             [
              0.8888888888888888,
              "#fdca26"
             ],
             [
              1,
              "#f0f921"
             ]
            ],
            "type": "histogram2d"
           }
          ],
          "histogram2dcontour": [
           {
            "colorbar": {
             "outlinewidth": 0,
             "ticks": ""
            },
            "colorscale": [
             [
              0,
              "#0d0887"
             ],
             [
              0.1111111111111111,
              "#46039f"
             ],
             [
              0.2222222222222222,
              "#7201a8"
             ],
             [
              0.3333333333333333,
              "#9c179e"
             ],
             [
              0.4444444444444444,
              "#bd3786"
             ],
             [
              0.5555555555555556,
              "#d8576b"
             ],
             [
              0.6666666666666666,
              "#ed7953"
             ],
             [
              0.7777777777777778,
              "#fb9f3a"
             ],
             [
              0.8888888888888888,
              "#fdca26"
             ],
             [
              1,
              "#f0f921"
             ]
            ],
            "type": "histogram2dcontour"
           }
          ],
          "mesh3d": [
           {
            "colorbar": {
             "outlinewidth": 0,
             "ticks": ""
            },
            "type": "mesh3d"
           }
          ],
          "parcoords": [
           {
            "line": {
             "colorbar": {
              "outlinewidth": 0,
              "ticks": ""
             }
            },
            "type": "parcoords"
           }
          ],
          "pie": [
           {
            "automargin": true,
            "type": "pie"
           }
          ],
          "scatter": [
           {
            "fillpattern": {
             "fillmode": "overlay",
             "size": 10,
             "solidity": 0.2
            },
            "type": "scatter"
           }
          ],
          "scatter3d": [
           {
            "line": {
             "colorbar": {
              "outlinewidth": 0,
              "ticks": ""
             }
            },
            "marker": {
             "colorbar": {
              "outlinewidth": 0,
              "ticks": ""
             }
            },
            "type": "scatter3d"
           }
          ],
          "scattercarpet": [
           {
            "marker": {
             "colorbar": {
              "outlinewidth": 0,
              "ticks": ""
             }
            },
            "type": "scattercarpet"
           }
          ],
          "scattergeo": [
           {
            "marker": {
             "colorbar": {
              "outlinewidth": 0,
              "ticks": ""
             }
            },
            "type": "scattergeo"
           }
          ],
          "scattergl": [
           {
            "marker": {
             "colorbar": {
              "outlinewidth": 0,
              "ticks": ""
             }
            },
            "type": "scattergl"
           }
          ],
          "scattermapbox": [
           {
            "marker": {
             "colorbar": {
              "outlinewidth": 0,
              "ticks": ""
             }
            },
            "type": "scattermapbox"
           }
          ],
          "scatterpolar": [
           {
            "marker": {
             "colorbar": {
              "outlinewidth": 0,
              "ticks": ""
             }
            },
            "type": "scatterpolar"
           }
          ],
          "scatterpolargl": [
           {
            "marker": {
             "colorbar": {
              "outlinewidth": 0,
              "ticks": ""
             }
            },
            "type": "scatterpolargl"
           }
          ],
          "scatterternary": [
           {
            "marker": {
             "colorbar": {
              "outlinewidth": 0,
              "ticks": ""
             }
            },
            "type": "scatterternary"
           }
          ],
          "surface": [
           {
            "colorbar": {
             "outlinewidth": 0,
             "ticks": ""
            },
            "colorscale": [
             [
              0,
              "#0d0887"
             ],
             [
              0.1111111111111111,
              "#46039f"
             ],
             [
              0.2222222222222222,
              "#7201a8"
             ],
             [
              0.3333333333333333,
              "#9c179e"
             ],
             [
              0.4444444444444444,
              "#bd3786"
             ],
             [
              0.5555555555555556,
              "#d8576b"
             ],
             [
              0.6666666666666666,
              "#ed7953"
             ],
             [
              0.7777777777777778,
              "#fb9f3a"
             ],
             [
              0.8888888888888888,
              "#fdca26"
             ],
             [
              1,
              "#f0f921"
             ]
            ],
            "type": "surface"
           }
          ],
          "table": [
           {
            "cells": {
             "fill": {
              "color": "#EBF0F8"
             },
             "line": {
              "color": "white"
             }
            },
            "header": {
             "fill": {
              "color": "#C8D4E3"
             },
             "line": {
              "color": "white"
             }
            },
            "type": "table"
           }
          ]
         },
         "layout": {
          "annotationdefaults": {
           "arrowcolor": "#2a3f5f",
           "arrowhead": 0,
           "arrowwidth": 1
          },
          "autotypenumbers": "strict",
          "coloraxis": {
           "colorbar": {
            "outlinewidth": 0,
            "ticks": ""
           }
          },
          "colorscale": {
           "diverging": [
            [
             0,
             "#8e0152"
            ],
            [
             0.1,
             "#c51b7d"
            ],
            [
             0.2,
             "#de77ae"
            ],
            [
             0.3,
             "#f1b6da"
            ],
            [
             0.4,
             "#fde0ef"
            ],
            [
             0.5,
             "#f7f7f7"
            ],
            [
             0.6,
             "#e6f5d0"
            ],
            [
             0.7,
             "#b8e186"
            ],
            [
             0.8,
             "#7fbc41"
            ],
            [
             0.9,
             "#4d9221"
            ],
            [
             1,
             "#276419"
            ]
           ],
           "sequential": [
            [
             0,
             "#0d0887"
            ],
            [
             0.1111111111111111,
             "#46039f"
            ],
            [
             0.2222222222222222,
             "#7201a8"
            ],
            [
             0.3333333333333333,
             "#9c179e"
            ],
            [
             0.4444444444444444,
             "#bd3786"
            ],
            [
             0.5555555555555556,
             "#d8576b"
            ],
            [
             0.6666666666666666,
             "#ed7953"
            ],
            [
             0.7777777777777778,
             "#fb9f3a"
            ],
            [
             0.8888888888888888,
             "#fdca26"
            ],
            [
             1,
             "#f0f921"
            ]
           ],
           "sequentialminus": [
            [
             0,
             "#0d0887"
            ],
            [
             0.1111111111111111,
             "#46039f"
            ],
            [
             0.2222222222222222,
             "#7201a8"
            ],
            [
             0.3333333333333333,
             "#9c179e"
            ],
            [
             0.4444444444444444,
             "#bd3786"
            ],
            [
             0.5555555555555556,
             "#d8576b"
            ],
            [
             0.6666666666666666,
             "#ed7953"
            ],
            [
             0.7777777777777778,
             "#fb9f3a"
            ],
            [
             0.8888888888888888,
             "#fdca26"
            ],
            [
             1,
             "#f0f921"
            ]
           ]
          },
          "colorway": [
           "#636efa",
           "#EF553B",
           "#00cc96",
           "#ab63fa",
           "#FFA15A",
           "#19d3f3",
           "#FF6692",
           "#B6E880",
           "#FF97FF",
           "#FECB52"
          ],
          "font": {
           "color": "#2a3f5f"
          },
          "geo": {
           "bgcolor": "white",
           "lakecolor": "white",
           "landcolor": "#E5ECF6",
           "showlakes": true,
           "showland": true,
           "subunitcolor": "white"
          },
          "hoverlabel": {
           "align": "left"
          },
          "hovermode": "closest",
          "mapbox": {
           "style": "light"
          },
          "paper_bgcolor": "white",
          "plot_bgcolor": "#E5ECF6",
          "polar": {
           "angularaxis": {
            "gridcolor": "white",
            "linecolor": "white",
            "ticks": ""
           },
           "bgcolor": "#E5ECF6",
           "radialaxis": {
            "gridcolor": "white",
            "linecolor": "white",
            "ticks": ""
           }
          },
          "scene": {
           "xaxis": {
            "backgroundcolor": "#E5ECF6",
            "gridcolor": "white",
            "gridwidth": 2,
            "linecolor": "white",
            "showbackground": true,
            "ticks": "",
            "zerolinecolor": "white"
           },
           "yaxis": {
            "backgroundcolor": "#E5ECF6",
            "gridcolor": "white",
            "gridwidth": 2,
            "linecolor": "white",
            "showbackground": true,
            "ticks": "",
            "zerolinecolor": "white"
           },
           "zaxis": {
            "backgroundcolor": "#E5ECF6",
            "gridcolor": "white",
            "gridwidth": 2,
            "linecolor": "white",
            "showbackground": true,
            "ticks": "",
            "zerolinecolor": "white"
           }
          },
          "shapedefaults": {
           "line": {
            "color": "#2a3f5f"
           }
          },
          "ternary": {
           "aaxis": {
            "gridcolor": "white",
            "linecolor": "white",
            "ticks": ""
           },
           "baxis": {
            "gridcolor": "white",
            "linecolor": "white",
            "ticks": ""
           },
           "bgcolor": "#E5ECF6",
           "caxis": {
            "gridcolor": "white",
            "linecolor": "white",
            "ticks": ""
           }
          },
          "title": {
           "x": 0.05
          },
          "xaxis": {
           "automargin": true,
           "gridcolor": "white",
           "linecolor": "white",
           "ticks": "",
           "title": {
            "standoff": 15
           },
           "zerolinecolor": "white",
           "zerolinewidth": 2
          },
          "yaxis": {
           "automargin": true,
           "gridcolor": "white",
           "linecolor": "white",
           "ticks": "",
           "title": {
            "standoff": 15
           },
           "zerolinecolor": "white",
           "zerolinewidth": 2
          }
         }
        },
        "title": {
         "text": "PCA projection of the 15 categories into the 3 Principal components"
        },
        "width": 1000
       }
      }
     },
     "metadata": {},
     "output_type": "display_data"
    }
   ],
   "source": [
    "users_pca_3.sort_values(by = 'cluster', inplace=True) #to guarantee color consistency\n",
    "cl_names = users_pca_3['cluster'].apply(lambda cl : mapping_idx_name[cl])\n",
    "fig = px.scatter_3d(users_pca_3, x='Principal component 1', y='Principal component 2', z='Principal component 3',opacity =1,\n",
    "             color=cl_names ,size_max =50,width=1000, height=600,title ='PCA projection of the 15 categories into the 3 Principal components')\n",
    "\n",
    "fig.show()\n",
    "#fig.write_html(\"cluster_3dvisual.html\")"
   ]
  },
  {
   "cell_type": "code",
   "execution_count": 69,
   "metadata": {},
   "outputs": [
    {
     "name": "stdout",
     "output_type": "stream",
     "text": [
      "the variances explained by the 2 first principal components are [0.43681178 0.23533086] (respectively)\n"
     ]
    }
   ],
   "source": [
    "pca_2 = PCA(n_components=2)\n",
    "users_pca_2 = pca_2.fit_transform(user_to_cat_first[user_to_cat_first.columns[0:15]].values)\n",
    "print('the variances explained by the 2 first principal components are',pca_2.explained_variance_ratio_,'(respectively)')"
   ]
  },
  {
   "cell_type": "code",
   "execution_count": 70,
   "metadata": {},
   "outputs": [
    {
     "data": {
      "text/html": [
       "<div>\n",
       "<style scoped>\n",
       "    .dataframe tbody tr th:only-of-type {\n",
       "        vertical-align: middle;\n",
       "    }\n",
       "\n",
       "    .dataframe tbody tr th {\n",
       "        vertical-align: top;\n",
       "    }\n",
       "\n",
       "    .dataframe thead th {\n",
       "        text-align: right;\n",
       "    }\n",
       "</style>\n",
       "<table border=\"1\" class=\"dataframe\">\n",
       "  <thead>\n",
       "    <tr style=\"text-align: right;\">\n",
       "      <th></th>\n",
       "      <th>Principal component 1</th>\n",
       "      <th>Principal component 2</th>\n",
       "      <th>cluster</th>\n",
       "    </tr>\n",
       "    <tr>\n",
       "      <th>user_name</th>\n",
       "      <th></th>\n",
       "      <th></th>\n",
       "      <th></th>\n",
       "    </tr>\n",
       "  </thead>\n",
       "  <tbody>\n",
       "    <tr>\n",
       "      <th>-Rick</th>\n",
       "      <td>18.047276</td>\n",
       "      <td>-4.419624</td>\n",
       "      <td>0</td>\n",
       "    </tr>\n",
       "    <tr>\n",
       "      <th>1000lbgrizzly</th>\n",
       "      <td>-7.737557</td>\n",
       "      <td>-1.348914</td>\n",
       "      <td>1</td>\n",
       "    </tr>\n",
       "    <tr>\n",
       "      <th>1424IpA</th>\n",
       "      <td>10.698707</td>\n",
       "      <td>6.037140</td>\n",
       "      <td>0</td>\n",
       "    </tr>\n",
       "    <tr>\n",
       "      <th>2Xmd</th>\n",
       "      <td>14.366790</td>\n",
       "      <td>1.565646</td>\n",
       "      <td>0</td>\n",
       "    </tr>\n",
       "    <tr>\n",
       "      <th>2ellas</th>\n",
       "      <td>20.334698</td>\n",
       "      <td>-4.850009</td>\n",
       "      <td>0</td>\n",
       "    </tr>\n",
       "  </tbody>\n",
       "</table>\n",
       "</div>"
      ],
      "text/plain": [
       "               Principal component 1  Principal component 2  cluster\n",
       "user_name                                                           \n",
       "-Rick                      18.047276              -4.419624        0\n",
       "1000lbgrizzly              -7.737557              -1.348914        1\n",
       "1424IpA                    10.698707               6.037140        0\n",
       "2Xmd                       14.366790               1.565646        0\n",
       "2ellas                     20.334698              -4.850009        0"
      ]
     },
     "execution_count": 70,
     "metadata": {},
     "output_type": "execute_result"
    }
   ],
   "source": [
    "users_pca_2 = pd.DataFrame(users_pca_2)\n",
    "users_pca_2.index = user_to_cat_first.index\n",
    "users_pca_2.columns=['Principal component 1','Principal component 2']\n",
    "users_pca_2['cluster'] = user_to_cat_first['first_50_cluster']\n",
    "users_pca_2.head(5)"
   ]
  },
  {
   "cell_type": "code",
   "execution_count": 71,
   "metadata": {},
   "outputs": [
    {
     "data": {
      "application/vnd.plotly.v1+json": {
       "config": {
        "plotlyServerURL": "https://plot.ly"
       },
       "data": [
        {
         "hovertemplate": "color=Jean-Michel IPA<br>Principal component 1=%{x}<br>Principal component 2=%{y}<extra></extra>",
         "legendgroup": "Jean-Michel IPA",
         "marker": {
          "color": "#636efa",
          "opacity": 1,
          "symbol": "circle"
         },
         "mode": "markers",
         "name": "Jean-Michel IPA",
         "orientation": "v",
         "showlegend": true,
         "type": "scatter",
         "x": [
          18.04727616977291,
          14.667616564749322,
          5.923413144844566,
          15.13593904969089,
          4.966910633690099,
          7.184598718873918,
          13.068839751431579,
          10.339555620668634,
          11.322101292646222,
          8.757688971924967,
          4.3809751772721865,
          11.814816124811514,
          9.393921124270243,
          10.423781961065702,
          6.047573655295086,
          17.82627071818633,
          5.603051621585635,
          17.791674213604143,
          4.7413267296519885,
          5.541612259243362,
          11.326783367661745,
          16.778985429628676,
          5.579575113448707,
          16.35706684638405,
          11.332177060306131,
          13.652685008734162,
          20.566690484679466,
          5.999759114628469,
          16.460097412953395,
          9.417237858378806,
          22.648201593622122,
          15.446298688079624,
          5.322809886401512,
          17.553534953012267,
          6.2019744708352125,
          15.24971725884108,
          12.810224841927727,
          4.972612655341473,
          8.158876770795342,
          20.473843449626898,
          8.008118919661682,
          6.550778670525816,
          5.474570285207273,
          12.17495556266352,
          16.183649655043205,
          8.409127058984906,
          4.28973912547141,
          12.6327903110998,
          8.624719548551077,
          11.670074987691548,
          7.282159983285024,
          6.3305046651853765,
          5.429657729089543,
          12.57818646031539,
          9.63155819996885,
          7.549733008362677,
          18.557040565586888,
          23.509170022972395,
          5.4920219849327125,
          10.327794021505763,
          10.049474956917393,
          15.291477556863175,
          7.6109848163581,
          10.131086913986458,
          19.369566194098027,
          16.39734106280651,
          8.111119486891186,
          10.736991760602846,
          13.776698137811527,
          20.255598058323134,
          20.45622951530966,
          13.462803512995157,
          13.61017917603778,
          16.81451824662561,
          18.04788138684402,
          20.383439282745712,
          17.80540210048537,
          5.027143893906251,
          15.545831616257018,
          6.155714527217358,
          23.923063465619848,
          9.524267037627807,
          5.3039652382938085,
          25.383199411933823,
          20.540249782370076,
          21.774714044633622,
          8.692064414654588,
          20.750461078512494,
          7.469127577072557,
          17.814147609414768,
          12.266345747803971,
          4.992422539348236,
          9.894936915071654,
          10.131227130229156,
          17.90965967786949,
          11.717122973923406,
          20.131868667145184,
          15.972147270545292,
          5.810049437325992,
          8.603096137342106,
          6.648390838307438,
          12.153765222449302,
          19.499429189604697,
          12.234276295225689,
          22.25171644444501,
          15.56802203428044,
          9.097284143817529,
          14.076560141749283,
          6.9182790949858814,
          15.176727549456666,
          8.407581831437799,
          7.323500440708517,
          10.40215770495526,
          9.001236947658203,
          16.527281207644595,
          7.083890315725249,
          14.840546548463983,
          19.97345595043673,
          11.76866755533823,
          7.993716913608485,
          5.2855560177250345,
          8.435280335103046,
          11.516517285743602,
          7.042118933556821,
          11.548984175819754,
          12.7626112659996,
          5.5637115812127265,
          9.714670813689107,
          7.674129670873385,
          6.468018109217801,
          7.274830366194015,
          25.508080001766825,
          5.672102758760004,
          13.798101076045235,
          11.41340757011586,
          6.1694609936061156,
          5.35774901529084,
          12.396696480930085,
          19.473224987333484,
          26.463624600109668,
          9.369122821558301,
          11.998425884177466,
          8.449156958844512,
          14.33476528839469,
          10.266168426887447,
          16.21482095564983,
          8.06764303410462,
          18.015408161895216,
          6.737454124005212,
          9.820986956319148,
          20.504348157868648,
          21.567359748172308,
          12.657457656751752,
          5.93698409764398,
          5.593086011072863,
          15.662894895580557,
          8.086439741292375,
          9.330939082916418,
          12.961627445539886,
          7.92913084856585,
          8.315347226255192,
          11.757140464136137,
          14.158880378003873,
          15.213920988656461,
          17.454389164734838,
          13.24860822937079,
          3.8542338796155735,
          5.473909391450621,
          7.157152372555856,
          6.6504552865873725,
          17.042322964924768,
          19.57172791791866,
          17.709823521118828,
          6.8650113351024675,
          14.048072328796787,
          10.547284858338317,
          7.624436541854271,
          5.252138261330306,
          11.67919815756099,
          9.127093022801237,
          16.379661543488506,
          27.161990147043003,
          13.020617026101856,
          6.574370411365233,
          10.481421304979426,
          7.294330374264062,
          11.972114412352864,
          8.83376715768715,
          11.131402921966725,
          7.216827933949844,
          8.31767718912813,
          6.7400414682994905,
          20.26129462344237,
          26.106979445923603,
          10.922984850074695,
          9.309570785215948,
          21.070378396858395,
          7.276088832606462,
          5.754947036135818,
          18.46378107300019,
          19.884660427021906,
          12.155158095829226,
          5.559710538636933,
          17.97924083303037,
          5.000696446481807,
          18.276545196009508,
          5.880583384102143,
          5.6198452481200984,
          12.27235231204314,
          8.262445071931738,
          6.04909606167149,
          6.166280684850471,
          10.1146793581974,
          16.794430858002926,
          17.71444520706167,
          7.270213654377734,
          6.75680928442611,
          10.396799336737324,
          9.116512634583431,
          7.047082739975282,
          14.76810230064727,
          11.146230280491746,
          18.14529645377978,
          32.07893581590345,
          12.246415856374423,
          9.211511350954618,
          12.764338947121642,
          9.250369571096765,
          9.70057698809936,
          10.447766152726054,
          4.99370810200445,
          7.644808928184871,
          9.896878109611462,
          7.746876683965083,
          20.334697631890172,
          14.366790129776934,
          10.698707118760836,
          8.655288284259626,
          9.356338086885343
         ],
         "xaxis": "x",
         "y": [
          -4.419624301758102,
          -0.7664808354981154,
          -3.601645700118146,
          0.3645181379944192,
          -0.7780156757859038,
          -7.6687384454483745,
          -1.0948825571300111,
          -2.8282224601829222,
          -4.556585454045103,
          -5.190333047892473,
          1.940982985373881,
          -6.433656305744415,
          3.6247070317894488,
          -1.6636469854839417,
          2.210302706002179,
          -3.250199130251777,
          -3.5812551062965694,
          0.8828693255038973,
          -3.796841651565845,
          0.9871960519229253,
          -1.1749600466186416,
          -5.972668451745927,
          3.1460646635385245,
          -1.92147191328945,
          -0.892126736107884,
          1.7144009855344091,
          -2.612205101403605,
          -8.989089078570082,
          -6.692649351310922,
          -4.263873172578598,
          -6.696187206817623,
          -6.763213287691025,
          -5.913266578021865,
          -7.398877582946777,
          -0.9840676657214004,
          -0.2597329092788838,
          -3.584322738309437,
          -1.3423433026590121,
          3.67401848329757,
          -2.3503124862171507,
          -3.130517136340596,
          -3.1529798744996254,
          0.5890657250266182,
          -2.0376537847439598,
          0.3096683258841708,
          -1.977825751517995,
          -4.656121358762934,
          -3.0674123529488684,
          -1.7714477691515076,
          -8.677681530012206,
          0.5348423738594288,
          -2.0412224343000807,
          -0.3589691443147234,
          -4.7135146276031765,
          0.36222465031263607,
          0.9970621964902822,
          2.0941441695219836,
          -8.873727835898274,
          -7.899285542541427,
          0.8126202756556724,
          -5.000385884656416,
          5.715794673581455,
          1.769407013415749,
          -2.3630787686816856,
          -3.57906751471787,
          -6.320045245640007,
          0.8567306790568706,
          2.8419208715302613,
          -6.3816458369829485,
          -5.114502802530195,
          -5.877378914322693,
          -5.791084375433236,
          -6.08181794276047,
          -4.244699307628821,
          -6.36898705996694,
          -8.247440277050519,
          -3.3664257865147325,
          -0.3487528570003847,
          1.7553659086570716,
          2.459153087226684,
          -4.8433256101011315,
          4.016386949352425,
          -1.305336485759782,
          -4.481664309931108,
          3.6623183280915663,
          -6.31519249075097,
          2.877855033461716,
          0.35695603992092484,
          -0.8722569118440818,
          -9.928833355754447,
          3.098843500932922,
          -6.849429156966346,
          4.567918623830159,
          -0.5844867411872265,
          -6.432558146138553,
          5.177881461034743,
          1.3828724676576665,
          -0.09706183597909633,
          -4.985336104692342,
          3.699418146084611,
          -3.499058329892699,
          -4.118592289400317,
          -4.575260661556237,
          -3.7371797412734313,
          -1.8794510576072874,
          -8.000097360362046,
          -2.2077274712469217,
          2.084232700862712,
          1.553647141184071,
          -5.078941217423405,
          4.167169439654258,
          -5.421797102053992,
          0.27054239724137835,
          -1.4763927383248505,
          7.855419327569456,
          -8.10632937131145,
          -3.908820340372169,
          -5.340780307975488,
          3.8338521310407763,
          0.11145858157717124,
          -3.4234597609383606,
          2.1080165611725636,
          1.6104559307666761,
          -1.6751757869649326,
          3.1627084909638845,
          -2.14979965254659,
          2.176792828395695,
          3.536965176940201,
          -4.817580253346011,
          -8.190097848495823,
          4.674199900003862,
          0.8115624454494432,
          -4.159923517451112,
          -7.215701916588442,
          -3.6603682059368494,
          -1.4424589091098288,
          -4.682986568664001,
          -6.549875845301271,
          0.1342629978162458,
          -7.42569371343263,
          0.8881455471015328,
          3.0894904388640114,
          -6.678120267677275,
          -2.8949060640882536,
          -4.869663823985118,
          -5.351531128903103,
          0.8247937951485149,
          -7.797433883622853,
          -0.319791758710603,
          2.7522540072950323,
          -5.801999230626689,
          -4.465703890141491,
          3.0904944296722903,
          -3.573931462451646,
          -0.2891733130904267,
          -9.093583268807711,
          -5.637784423164067,
          -5.605953988984753,
          -7.051603842572474,
          -8.952665719799361,
          1.169571094056705,
          -4.5026168600472145,
          -6.509865479800453,
          1.1712865161336876,
          0.30658267167327985,
          -1.9774451071021821,
          -6.164169463044676,
          0.8216055758589728,
          -5.558878462790586,
          -2.839245018709133,
          -3.433171343309957,
          3.0370282394375194,
          -5.151154301696446,
          -2.386181892101558,
          -1.7639463114314293,
          6.108770044499508,
          5.814584941474739,
          -1.4542106546241922,
          -0.49762838541356996,
          0.16835582328822132,
          0.21695866235856429,
          -5.312104665663603,
          -3.629380562171182,
          -1.3043878407371072,
          -5.817948735916506,
          -0.41943064609314273,
          -3.5890721138624713,
          -2.9412193918418357,
          -6.0839961525565025,
          -9.133552270937209,
          4.427338781848879,
          -4.141132616300873,
          -3.0579222852297976,
          -6.252104654890319,
          -3.6688344190822093,
          4.7941412020282055,
          -6.71185786621984,
          -1.0195304549716748,
          0.5180770662560301,
          -7.296703526808988,
          -2.5016034222087926,
          -6.071765788981588,
          -1.59455490295455,
          -7.679186328816313,
          -2.1636531806454586,
          -8.231247881247707,
          -4.1141457006501225,
          -1.9370473943075273,
          0.8058621377281239,
          -1.5609105810577946,
          2.446677839885848,
          3.6485377356759003,
          -3.762679894861293,
          -9.05756340358235,
          -4.288247717335357,
          -0.6217727348695944,
          -0.7080336141742031,
          -6.34083525719718,
          0.5398859631399723,
          -7.660670758931883,
          -1.1720587490637655,
          -5.164590715189411,
          0.10543325797018288,
          -7.29703967603831,
          -3.11213695219664,
          0.6620979501282844,
          -6.660126926319658,
          -1.0371886950023015,
          7.7105125757638575,
          3.5362269956107237,
          -3.4002422814938695,
          -1.282488428861186,
          -5.620558757307534,
          5.235397247460709,
          -4.850009070010678,
          1.56564621049796,
          6.037139764924069,
          -2.58370204014208,
          -2.8788613781175507
         ],
         "yaxis": "y"
        },
        {
         "hovertemplate": "color=Ada the explorer<br>Principal component 1=%{x}<br>Principal component 2=%{y}<extra></extra>",
         "legendgroup": "Ada the explorer",
         "marker": {
          "color": "#EF553B",
          "opacity": 1,
          "symbol": "circle"
         },
         "mode": "markers",
         "name": "Ada the explorer",
         "orientation": "v",
         "showlegend": true,
         "type": "scatter",
         "x": [
          -1.292770774814605,
          2.348664077309785,
          -10.039098367393828,
          -2.5947057854245426,
          1.933255700761848,
          -10.806070251344499,
          -11.707770647162643,
          1.4227778102141455,
          -9.492169671615128,
          -7.844020695888033,
          -9.286791973201067,
          -7.933237321881214,
          -6.47643551326861,
          -9.404181452401865,
          -7.125743340154772,
          -5.292031804950511,
          2.5808312568861735,
          0.04865472842319053,
          0.39902159555090605,
          -0.08211905834721756,
          -1.9696376908156354,
          -8.1687410104572,
          -6.966955376077272,
          -3.6449472004440944,
          0.49458143596374365,
          -11.90293183229457,
          -2.0675626442283574,
          -6.294733433228913,
          -4.170424612877956,
          -1.2932735175312913,
          2.5532219953661994,
          -9.484221405866068,
          0.18536442145993895,
          3.380648116066544,
          -5.70953968522505,
          -10.331361974890365,
          4.327159376362419,
          -9.365648103077111,
          -4.568622750056086,
          -7.377000693227753,
          -7.20099874743338,
          -6.634671875986998,
          0.36827660169159143,
          2.7030099980825555,
          -3.290945261068043,
          -8.256032120745934,
          -0.17431070404686527,
          -2.232524681797478,
          -0.8800575101906795,
          -4.730115579679968,
          -3.419019878865192,
          -2.7965505084198803,
          1.1592462425514116,
          1.1571822117511874,
          -0.29626340788905803,
          -0.700579589360192,
          3.2026690974612464,
          -1.1588380539634724,
          -8.726746477514391,
          -1.2468058521490468,
          -0.8288057555624097,
          -11.531188858704558,
          -6.9387481984459285,
          4.351380322847406,
          -2.4369265331319365,
          -2.976452080554165,
          -5.158186869494743,
          2.620577576660245,
          -0.2666308670758263,
          -3.7519169429908414,
          -10.489323275484203,
          -9.24256597018521,
          -4.708740104739195,
          -7.413270583965453,
          -7.323465150690092,
          0.42850181575020596,
          -6.180878673539984,
          -1.4723812064305692,
          -7.253867015775729,
          -1.8828054800779515,
          4.259867122685376,
          -9.238036164108854,
          -0.338257041886105,
          2.133490834546779,
          0.2775417690554035,
          -8.645125318525452,
          -7.737556683536613,
          2.620747771915073,
          -7.705890598698669,
          -2.8016994953900207,
          -2.228927916129453,
          -3.403186079675037,
          2.3736614250951056,
          0.025049419102959145,
          2.372780575382235,
          -11.306771347361423,
          2.242317332338101,
          -1.7569156097484488,
          -2.5718992402009127,
          -0.7461589829964733,
          0.5992292044460844,
          -7.463019567179888,
          -4.420727576330465,
          -7.766624836043342,
          -6.585677696744939,
          -5.392186996580292,
          -5.72426108405867,
          -7.581225236144614,
          -9.553781060133725,
          -2.1719915279284057,
          -8.338366765647347,
          -7.485584790025115,
          -6.581052757235382,
          -2.2897634485153895,
          -8.324735940233952,
          -2.662247308354679,
          -0.935634641508706,
          -7.163490048470767,
          -4.602745754003557,
          1.7320563658075996,
          -5.702971300186617,
          -5.439886796140529,
          -4.6663184889382165,
          1.790625110374183,
          -5.526464788783071,
          2.8616327927244014,
          -0.7360647803465131,
          -10.634542316150855,
          3.515756709534943,
          -0.296540741851716,
          3.78132951144846,
          -8.030122660438696,
          -8.836725920695704,
          -1.2260948772384133,
          3.1231927196373035,
          -3.556504469913973,
          -1.3114400662064176,
          -5.049144606522498,
          -5.390169973117792,
          -11.893111750561044,
          -0.9967183188010338,
          3.54615014621418,
          1.9740368925729388,
          -9.987971296414576,
          -2.738071292876247,
          3.0346594716313744,
          0.7468857938826501,
          -1.6543470265246267,
          -7.32648718008435,
          -8.883741111128295,
          -5.513643033965492,
          -11.567591749837003,
          2.9085310287694974,
          -2.4005078551748325,
          -3.4645153674215154,
          -2.887910237663839,
          0.22126897978017723,
          -6.777689292897322,
          -9.12326526999277,
          -1.3459929387378708,
          3.70192889231693,
          -4.83437845897595,
          1.4387808351931959,
          -0.7551134304161234,
          0.9053274690838523,
          -6.4816427946503925,
          -2.727525417386442,
          -3.1073249591469136,
          -6.517014614055102,
          -7.3436265310217435,
          -7.727681424507229,
          -1.930176385368873,
          -5.256927183069563,
          -2.910459242047083,
          -3.116013922344229,
          -2.1003221983257627,
          -1.9987645642937513,
          -3.9168705781865674,
          -6.373983377186454,
          -3.2517241116267197,
          2.081497861726684,
          -4.060087610390247,
          2.7562555452943855,
          -9.893182082889815,
          4.815056275342552,
          0.7337729931436642,
          -3.043403439485871,
          -7.701406830446424,
          -8.739221975920442,
          0.2469472047033588,
          -4.026693659715524,
          2.1862919774694376,
          1.5735583977182586,
          -2.1871139237017783,
          -8.304019927773053,
          1.0649081261751216,
          -9.005738724700885,
          0.6451258703049975,
          -8.333703043871145,
          -9.620822903668934,
          -1.483129984011132,
          -0.6798420633984943,
          -6.426394632970532,
          -2.861906816483844,
          -8.800871402462683,
          -7.645236361109199,
          -3.2510604688926725,
          -0.7430104791879711,
          -6.862151286972534,
          -6.565775235961493,
          -5.988966242492595,
          -3.6758002191559718,
          -10.747428362378498,
          -7.8630404318105205,
          -1.5723650886598641,
          -1.1436929526150605,
          -3.4577439066985067,
          1.6851468853424418,
          -1.1618548692430157,
          -5.553263263691524,
          -9.52979354155746,
          -9.272648043721706,
          1.9235144624422778,
          -4.791555991875545,
          -6.81023723101211,
          -5.317316886504237,
          -8.561993257550322,
          -4.483133547589568,
          1.187878881902747,
          -8.38487876874015,
          -3.0702092555756786,
          -10.572537634164215,
          -7.899441382382921,
          -11.208856453252144,
          -9.945163636270635,
          -0.23282211679217565,
          -5.893675205074846,
          -5.336102925106736,
          -6.666159260605413,
          -0.16007816327603633,
          -8.333261886499473,
          -4.922773186928811,
          -0.4076696363184138,
          -5.547607640133639,
          -1.345552596572036,
          1.7310164117780225,
          1.8041331296746221,
          0.4500050829295875,
          -0.5134524607058607,
          0.7592402457179246,
          -7.686567791804933,
          -8.490247146821652,
          3.923743628048395,
          -0.8788652621783096,
          -6.0531898807510185,
          0.7952697818505768,
          1.1156102621612718,
          -6.833538581477435,
          3.5447241171149404,
          3.0458847364976855,
          -1.456904145924652,
          -1.3504861684605431,
          -3.9362618742923927,
          -8.520621978956527,
          -0.8867788220683905,
          1.7659045698816778,
          -3.7222852865751084,
          -5.225772946461313,
          -3.618317935800263,
          2.0306537434978833,
          -8.614953215250273,
          -3.2362181539099697,
          -7.975733922823783,
          -10.964137774262815,
          1.1410033423536001,
          -5.212123764067362,
          -7.409294517804993,
          -9.135614730563269,
          -1.0717158756822736,
          -11.928062553233872,
          -4.645234366580281,
          -5.7887305075016044,
          1.30587075680877,
          -7.485855138792079,
          -4.147447964866415,
          -7.233725734542972,
          -1.7627615231208897,
          3.6925914793541432,
          -4.745462550174662,
          -5.7348124369404845,
          0.014417956824498037,
          2.8591399472272,
          -8.758366407187907,
          -0.1806105134008494,
          2.1645007334010193,
          -6.2687254176402325,
          -0.1467475552577984,
          2.1288622921263234,
          -3.7507815356112144,
          -6.195367960153133,
          -0.6926987048140292,
          -2.9730071928024406,
          0.1242222827507556,
          -4.7507971628909145,
          -5.3185703300665,
          -5.6829831718756765,
          0.3358142127187917,
          -8.610319225434834,
          -4.371926573397498,
          3.469651447380873,
          -8.154982296032614,
          2.9435455306907756,
          -3.813938177863697,
          2.4074148999949374,
          -6.829830437269433,
          3.361920888366677,
          2.053604212160255,
          1.9985981098401653,
          -0.6969478706382349,
          2.2180614427547307,
          4.079086278345374,
          -1.8222328451514793,
          -7.029521506421024,
          3.7366929332673107,
          -7.160272729294199,
          -2.7210693838744184,
          4.046512236313135,
          1.886946518252846,
          -9.883700229135696,
          -7.870957935744603,
          -3.630934900440064,
          -4.950810453113946,
          -5.496544199883692,
          2.131999800521182,
          -2.273463482350792,
          2.620173397965337,
          -0.9677046878675546,
          1.3302181265063266,
          -4.03848976052435,
          -1.3875300039067266,
          -6.007223236487115,
          -3.1214915509708026,
          -2.4920838315153966,
          -7.251837145368361,
          -1.5218219400434378,
          -3.9662386758180594,
          -2.5892354965007898,
          -2.4185452587246914,
          3.485074456392838,
          -4.256532491259687,
          -1.4052659985939902,
          1.6354126643381588,
          -0.7114571469556151,
          -6.576765285179156,
          3.683843105162025,
          -0.4529641158924304,
          -11.132211045208876,
          1.6011979905045814,
          2.8569181726569344,
          -5.480898713867151,
          -3.4672088805478225,
          -5.3494044501765625,
          0.6385338235640846,
          -2.6122766019190307,
          -3.5091205376641534,
          -3.272792861972336,
          -5.394262114171165,
          2.434856992226436,
          2.3430737817457454,
          -0.14979787028971525,
          -0.5411515503945645,
          -0.2972991807036975,
          -5.836836032158211,
          4.796092810892218,
          -4.980824305829454,
          -7.966097910550473,
          4.350914528894918,
          2.01225940430923,
          2.194681681388696,
          -0.16916083446637334,
          -2.9880302174102797,
          -9.521491806454176,
          3.175041090631391,
          -2.6597581466900326,
          -5.447940305650794,
          3.3186670359997854,
          -7.812887145456835,
          -4.216805475296811,
          -1.8301446619530373,
          -3.2883449359708057,
          0.4717230750772856,
          -3.4733190990092613,
          -1.8894883896291885,
          4.110913664702953
         ],
         "xaxis": "x",
         "y": [
          -5.231377690857776,
          -2.334498493175167,
          1.4263877484228202,
          2.388510492097378,
          -4.743033374149757,
          -4.048946057149949,
          -1.328160437659605,
          2.1174784671203,
          2.726524432560832,
          3.4054475574573844,
          2.025477598291277,
          0.7069434544069747,
          -1.029416884154045,
          -2.429011890973167,
          3.1816339034275907,
          -0.16710375670436453,
          -8.730768791255343,
          2.9966743364026915,
          -3.3010912787463162,
          -7.480091468537743,
          -0.2758254897974041,
          -4.474794555451879,
          4.080746387897272,
          1.9736124655055272,
          -3.9317035349125686,
          -0.8232903488487322,
          -7.5859886889336625,
          -2.5572620857797337,
          1.678721287026692,
          -2.849083180213157,
          -6.328799980939851,
          3.977753287666563,
          -4.897768329316188,
          2.4208288433771243,
          3.485833017955494,
          1.86283208258582,
          -1.2938713627542726,
          -1.8793180620960552,
          -2.4521618656027084,
          2.742292801848145,
          -2.0364477073212592,
          -0.513007960634099,
          0.4118970061515941,
          -1.2467323114701618,
          -5.968131077584406,
          -0.5860603845856149,
          -1.1579635136144226,
          -5.241430686584441,
          -3.987973138275134,
          0.12488599104144588,
          0.1426032546908627,
          -1.55796596662358,
          -4.570469838963539,
          -4.034308942815034,
          1.674679902734718,
          1.8259075092222212,
          -3.517657447378076,
          -4.456175599644096,
          2.51464506446317,
          -4.959589086234772,
          2.524757905093515,
          1.7855058205572554,
          -7.449442034209103,
          2.3423474113407696,
          2.13772987058438,
          1.850344325114347,
          0.5122054949960121,
          2.2948138300245025,
          -1.3679201270444574,
          0.8029424540237273,
          -5.280145440047147,
          0.447008066633825,
          -0.2559119976006509,
          4.072489612020049,
          2.595074372020911,
          -3.86276115047114,
          4.528976613352516,
          -6.095422923924971,
          0.9128244213248404,
          -0.7292922527300524,
          -0.8954513838886151,
          5.93042485232659,
          -6.154005287924512,
          -3.0312147744866693,
          0.978959844205664,
          4.124796027589309,
          -1.3489144346075397,
          -2.192484996664613,
          -3.9790338715533236,
          -0.18361984860838926,
          0.2739670487976533,
          -1.7061491516899372,
          3.1130246762580898,
          -0.40052252502088237,
          -6.7263916864724,
          -4.088901804972911,
          -1.250505692578052,
          -2.562258654688844,
          -0.8659440631629053,
          2.110310226437745,
          0.6498964108301091,
          -0.9115501144488817,
          0.10154231835380308,
          0.14895029381526997,
          -5.180649123394979,
          0.9007341439156722,
          2.036291076729301,
          -4.73739173429136,
          3.845727330906669,
          -7.950353202438603,
          -3.4603895953331048,
          1.9309572205945438,
          -0.7788497311926643,
          -5.330404596526433,
          4.875571478629307,
          1.8231376794154066,
          -3.156547193341463,
          2.2284711517444564,
          4.1652562404980955,
          3.2587584884863423,
          4.527047599385879,
          -6.695512183313176,
          -3.768482813189526,
          0.6193154897692346,
          2.9475372412741887,
          0.7413959236657648,
          4.9996185817608785,
          0.3537549010125978,
          0.7720453377075998,
          -0.016761145861315826,
          -0.8147115840009392,
          1.3805367819650394,
          -7.0942187188144645,
          0.8102471705297242,
          2.351246768428412,
          -3.376829089214706,
          1.8123779599548169,
          2.6858747501001012,
          -0.310107863687572,
          -4.801681182704988,
          -6.366619826936679,
          -1.3210257781059738,
          -4.768714853095339,
          2.548330084006803,
          -0.1588031208063903,
          1.9246246890584635,
          -2.1448382008440574,
          -0.7451861744280555,
          4.61088088267702,
          5.576098751570548,
          -2.55313345049569,
          4.169888485171783,
          -6.343845657110121,
          0.3271946943494713,
          -5.278419963864785,
          -5.679055027365979,
          1.4951014825210958,
          5.238076897936629,
          -2.091804038378989,
          -6.021854363747802,
          -0.6921832581536004,
          -0.616249573132402,
          -2.926772665514963,
          -5.682854607346231,
          -3.43721567949241,
          -7.842783523409935,
          -5.666242378300898,
          1.7638374158081342,
          0.10659589531697175,
          -0.8454989895833185,
          -4.464553606201834,
          2.670550420802294,
          -4.718247002916655,
          -1.0353880887592823,
          -4.434805867890059,
          -1.2425823337503679,
          2.170493255236984,
          0.4339458910358769,
          -3.3049312499429706,
          -2.425460893400416,
          0.5176537060827799,
          -7.565623060682956,
          0.7176884593693519,
          4.664351402299472,
          -3.1694762592167067,
          0.1902391087447508,
          0.5231503898260105,
          0.18979372929549423,
          -0.8870355704849853,
          4.705760651743889,
          1.1192897917128422,
          -7.368907536342485,
          -3.886227128406429,
          -0.8669743469038839,
          -0.8079307324609856,
          -7.718828882539364,
          5.598853231984572,
          -5.762347227179903,
          -0.1679419150977992,
          -2.6223973930135536,
          -4.792676093082221,
          -1.7025438213310728,
          -4.023046416057414,
          -3.3978851947482567,
          4.146814947075252,
          2.8095627055052423,
          0.29923107390392845,
          -6.168548280792286,
          4.968615006230725,
          4.452003749855272,
          0.1085808819745745,
          1.953098627280513,
          -0.7677339543345055,
          -0.7323300781350678,
          -7.221495480313619,
          2.650712745584264,
          -1.1026588013265402,
          -2.76994830134729,
          1.41146506417724,
          -1.7260091994564721,
          -2.0358765444906317,
          -3.7978061998768347,
          -2.5636224672307253,
          -7.63040365941095,
          -0.019009038393967014,
          -2.2576335972862847,
          -0.4801355806693451,
          1.3038561081691722,
          -1.2094924834891747,
          0.4547017303434304,
          0.39931381272032307,
          -1.6173802029847817,
          -2.101501431657872,
          2.4650123384535276,
          -0.061209277271391624,
          -4.631934774078723,
          -2.561419386717226,
          -0.054526431404799944,
          -5.1539661825988885,
          -2.1959742856199718,
          4.5136169594860265,
          -0.6630955979459421,
          3.3179222101462793,
          -2.763946780330389,
          -3.6295065713423678,
          1.1564706088975132,
          -0.12417965863615472,
          0.7833013851785824,
          -4.72901718911436,
          -6.097173900550439,
          -0.9439104672015097,
          4.249079799244409,
          1.4585037222542865,
          -8.352575020162883,
          -3.8430695095976293,
          2.8138038752300063,
          -1.01873257939853,
          2.343874624077561,
          -4.617268398764492,
          -0.017952855153175483,
          -5.630894253024164,
          -0.7455260184366446,
          -1.0188010971493502,
          -1.2085767465596924,
          -4.514412153090964,
          2.9356373655577195,
          -0.49909111908108755,
          0.16892097489010477,
          1.0779986986730137,
          -6.4006910948878195,
          -2.5278370701000097,
          -6.0488139331324735,
          0.4389495553344744,
          4.112861115581924,
          -3.200913362637777,
          0.8500303060743258,
          -2.8039203529973933,
          -2.3695290145233097,
          -0.717305624478162,
          -1.173958412569837,
          -3.014612651410018,
          3.854374170267593,
          -6.313091042431552,
          5.042435386322056,
          2.4419104092408466,
          -3.675564215418978,
          -4.971550405010258,
          -3.199330309142954,
          1.461185135445286,
          2.792630449511211,
          2.820021956253832,
          -2.210499643042245,
          1.6532694431337287,
          -7.570431253186912,
          -3.8141811226429647,
          -0.329876218284161,
          -6.123052239900306,
          -2.287638522859104,
          2.18755712503292,
          -6.285266942686042,
          2.8368476891317296,
          -4.211521809131606,
          2.4587126627144102,
          -0.5259986895032521,
          -0.39052405487850905,
          2.246135233480715,
          3.4112112930297123,
          2.6338643337813465,
          -3.9950082014639863,
          -2.606326212464939,
          -2.1002143927533257,
          -2.5156703042915725,
          -3.1945895862204967,
          -4.753556725505021,
          -2.144988155657594,
          -7.5366251116870595,
          0.9428618125543489,
          -2.1055112925519452,
          -6.239011681103806,
          -6.630082787902753,
          1.2726768937069126,
          -1.7805447393268652,
          3.798231159992644,
          -3.376276797491594,
          -5.286551078165724,
          -3.754130361970797,
          2.212390076618413,
          -4.613134459647852,
          2.680704571712011,
          1.5910712567254561,
          3.7916292408289958,
          1.9191329241627044,
          -2.933797497613835,
          1.0880677439003261,
          1.0974353842214923,
          -6.345064871346143,
          0.7186391168787429,
          -0.7237559257887539,
          -7.958886783921352,
          -2.379131752171293,
          -7.457724280165476,
          2.09124634005758,
          -1.7286370890277603,
          -3.1115326987009335,
          -7.982838676178202,
          0.745044824256006,
          -1.7058222430948766,
          -1.7792753571166582,
          -0.6076997991083816,
          -7.8570581993093676,
          -6.602998483787012,
          -4.006634740715461,
          -3.7901458648084287,
          -2.733170288146879,
          -1.6433497140086233,
          1.69066444404401,
          0.42762150992821985,
          -3.023388579154495,
          3.120764987070668,
          2.3078360024733033,
          -0.4723080886822588,
          -1.7427149159057342,
          2.2614579910045043,
          -6.606652957292581,
          0.22355567981941216,
          -3.675460460647872,
          0.24427546279718226,
          -0.043344828750975097,
          -2.4114959427078677,
          -4.6712022590785205,
          -1.9146285260915494,
          -8.166431274101557,
          2.179624439544783,
          0.9950725178320524,
          -1.0508154948056931,
          2.0007369393627554,
          0.5826873519405746,
          -3.148959077589213,
          -0.5516103180222754,
          2.6750345229444905,
          -0.8158797094192605,
          3.441661397156384,
          -4.0786491199920585,
          -1.4050137760304167,
          -4.0020454285395415,
          -2.873281611244118,
          -2.0220463731881813,
          3.6594667725709082,
          -0.4484503615313273,
          -3.168850119312837,
          -3.1796027461791367,
          -5.437799664344664,
          5.58403940039738,
          -0.8853398200512694
         ],
         "yaxis": "y"
        },
        {
         "hovertemplate": "color=James Bland<br>Principal component 1=%{x}<br>Principal component 2=%{y}<extra></extra>",
         "legendgroup": "James Bland",
         "marker": {
          "color": "#00cc96",
          "opacity": 1,
          "symbol": "circle"
         },
         "mode": "markers",
         "name": "James Bland",
         "orientation": "v",
         "showlegend": true,
         "type": "scatter",
         "x": [
          -9.045058359795243,
          -10.552877482551565,
          -13.956818282063756,
          -3.742206663913884,
          -14.159350076871732,
          -11.785671164409614,
          -14.472610314557167,
          -14.112342850475128,
          -9.731922695156502,
          -6.347506190504246,
          -14.560695175006225,
          -13.280140893043166,
          -7.969155448854246,
          -5.450590764391714,
          -10.952600226579055,
          -10.165204121077375,
          -16.702038964001403,
          -9.077242913742094,
          -15.543064206787012,
          -9.009322356248015,
          -17.250376967539456,
          -2.189400728347897,
          -8.322982496287388,
          -4.718137801360362,
          -14.778977892588053,
          -10.78043166220036,
          -13.62139958746549,
          -11.2822798771388,
          -9.500389008961285,
          -10.782796266846754,
          -11.681824429895784,
          -13.467934082275693,
          -13.415750427253316,
          -16.73700798654451,
          -2.354740374790433,
          -13.074727932807454,
          -9.88417369932872,
          -3.010344707733587,
          -10.253875651182858,
          -3.3887331756670647,
          -1.9369152269486714,
          -13.303230317521605,
          -14.591240187460107,
          -10.40068119152124,
          -5.013447796390922,
          -12.375840191975538,
          -10.062899196958963,
          -10.177135764359925,
          -6.8980016639566255,
          -12.996260179941592,
          -11.463112653136287,
          -8.503089503920192,
          -12.757943953085471,
          -11.166264809673054,
          -13.637594782727207,
          -10.079286925912546,
          -10.249737228468975,
          -14.72666508117819,
          -14.830866606723047,
          -11.568195335558288,
          -5.517320726359759,
          -10.481938025862796,
          -11.89401324915672,
          -11.31101043433044,
          -10.685342798547167,
          -11.803118975926262,
          -13.87060247430642,
          -6.088120385306883,
          -5.483110072955925,
          -13.37856322003818,
          -11.683558453752667,
          -7.691730895256205,
          -10.70769327937623,
          -10.777019008837934,
          -13.71859331896366,
          -9.684668812338558,
          -9.042672959832576,
          -13.50714969305764,
          -6.497467119457437,
          -11.218824624870136,
          -6.161608732558318,
          -10.366815102900022,
          -9.438599932636297,
          -12.935142852703425,
          -9.665809533930469,
          -11.324645909771268,
          -5.196173335288552,
          -11.943125055295729,
          -12.77397150192009,
          -6.575619721048105,
          -7.732762347977813,
          -10.644902769007063,
          -11.255422043390816,
          -12.397056936420956,
          -10.88822147831236,
          -10.521329603551832,
          -9.522324158213877,
          -8.495565605523565,
          -6.9074478099654675,
          -8.689077608075175,
          -12.773032999212013,
          -11.43542260833048,
          -10.947224270993381,
          -11.108787385994718,
          -14.816071328278557,
          -11.37225262224328,
          -12.646146300452008,
          -8.767104301311925,
          -12.949532566912437,
          -11.698187182156131,
          -8.140017535396323,
          -3.0334350217958868,
          -10.310727542101693,
          -16.448628785751797,
          -12.744736302230601,
          -16.003483307719932,
          -9.033948061827028,
          -13.159990418558797,
          -8.679762028579969,
          -9.468041832096631,
          -12.965467432349055,
          -5.407707647946197,
          -8.20371364800315,
          -2.930641460930866,
          -9.69142211046755,
          -9.439977537385609,
          -13.958229542588958,
          -12.240540759563686,
          -12.735692404470965,
          -11.95433662848022,
          -9.134341811627204,
          -11.351109191704039,
          -12.39611173602979,
          -10.861873049075383,
          -3.7555997098028264,
          -9.759485243607113,
          -8.45266098498233,
          -16.96369092586931,
          -9.088363673715552,
          -10.125552859542044,
          -15.005677309767998
         ],
         "xaxis": "x",
         "y": [
          -5.48903478175972,
          -8.329755731061782,
          -10.455393624626556,
          -4.66475255464221,
          -8.767415338682772,
          -7.870940897292528,
          -12.295225734867712,
          -9.039114177831452,
          -9.438747112673726,
          -6.353788348521928,
          -9.704421694912302,
          -3.8592448265626422,
          -8.785449663214237,
          -5.157244952274397,
          -3.1995209783364396,
          -5.583422818439349,
          -12.89792747261936,
          -11.02171350303936,
          -12.911098069335008,
          -6.569360002975173,
          -15.22771291947005,
          -8.294290114355187,
          -4.1395228097177155,
          -0.6598667298210467,
          -13.40464964222183,
          -6.808242303895365,
          -9.70365112864017,
          -6.53307291431294,
          -12.961830528783118,
          2.3593263785435923,
          -8.445587093299066,
          -4.036520806429558,
          -7.827705208670262,
          -14.950009794005771,
          -8.961864600379432,
          -9.251136236340365,
          -9.042220611354562,
          -8.859241027129382,
          -8.409818481011065,
          -1.1186530978161708,
          -7.783552271866701,
          -2.208351537824394,
          -8.613367305149035,
          -7.278511208999391,
          -8.031704983864682,
          -5.7558149315440446,
          -0.9989639849389268,
          -5.321111959726708,
          -6.146839125743973,
          -6.158351845281623,
          -7.133725643744804,
          -5.978993018093212,
          -8.503557115973091,
          -6.487960738088316,
          -6.988120870495794,
          -5.450507524089612,
          -7.7704674862995935,
          -14.383869222087307,
          -7.989577414359054,
          -7.345764822927014,
          -7.108028546837976,
          -2.9628953909263203,
          0.6304822575802684,
          -0.3124707304002511,
          3.9272375505685426,
          0.9140805476579504,
          -7.15080071491823,
          -4.1788970782917,
          -4.395754578993263,
          -10.833357743598967,
          -11.944900980620847,
          -8.217198570378383,
          -6.5463772141275705,
          -5.142284248149433,
          -7.90659164425225,
          -4.577932691396191,
          -4.965697510101105,
          -6.893150298857992,
          -5.455711004260991,
          -7.487800665672769,
          -7.5757483597328195,
          -13.209771200923017,
          -1.9156224535813373,
          -5.660194135823081,
          4.286279563005873,
          -3.6375029925840225,
          -9.47758923276963,
          -5.33592994916378,
          -8.501536309767319,
          -8.034538678058546,
          -8.321675667002797,
          -4.204927963369979,
          -10.793330129294292,
          -1.847250148185361,
          0.6335422334362654,
          -3.2246694554230415,
          -0.5463487412435528,
          1.4107756270884193,
          -5.067891443856622,
          -11.92402694010648,
          -2.6866455189332417,
          -5.040102826094643,
          -2.447465569153446,
          -2.1501786126612648,
          -12.769995977516727,
          -3.1627062208708425,
          -5.025347505732986,
          -2.4514136996742852,
          0.8472520238752808,
          -7.232693995283181,
          -1.708564094041183,
          -9.869093522301648,
          -3.971186641762671,
          -16.451589779049094,
          -4.75939704507067,
          -14.8908816680003,
          -1.1694618487186563,
          -10.16441982532609,
          -7.8131914452686555,
          -8.234399382334034,
          -6.841295861774324,
          -11.06675343185888,
          -7.2795604331833195,
          -1.8821531390987976,
          -2.8988066003202198,
          -4.239364944553355,
          -7.872972391398519,
          0.8311167831063452,
          -2.8327537943971146,
          -3.3455103541723616,
          -3.28178601648823,
          -5.195519612631202,
          -9.850110464289985,
          -10.214874128118014,
          -11.32516146265099,
          -9.43049760303382,
          -14.96128125001152,
          -11.690193844339676,
          -3.6840168734573764,
          -3.0462783890317326,
          -9.852351506386366
         ],
         "yaxis": "y"
        },
        {
         "hovertemplate": "color=Marcel Stout<br>Principal component 1=%{x}<br>Principal component 2=%{y}<extra></extra>",
         "legendgroup": "Marcel Stout",
         "marker": {
          "color": "#ab63fa",
          "opacity": 1,
          "symbol": "circle"
         },
         "mode": "markers",
         "name": "Marcel Stout",
         "orientation": "v",
         "showlegend": true,
         "type": "scatter",
         "x": [
          -8.835708447507777,
          -4.5489243934304,
          -4.887682975563299,
          5.352875973343445,
          2.807580982831122,
          7.744059688354503,
          -5.791028402402695,
          -0.1808631558719309,
          -7.071599903273555,
          1.1808895417741467,
          -2.8685677450087264,
          1.5348166911104535,
          -5.103985493120038,
          5.452264106925881,
          -2.4863156815014613,
          1.588191935987803,
          -7.259493012070656,
          1.253849592011932,
          0.01779111271828021,
          -1.8158356770719069,
          8.036860164965931,
          3.8616431671026374,
          -2.024782162991016,
          -2.7207427938777573,
          2.207724399706391,
          -10.752285276544697,
          -3.321622179541056,
          -8.755271824545328,
          -6.238777880314622,
          3.21843162156897,
          -9.217946598488389,
          -6.664666027651867,
          -4.59361945693668,
          1.0327484773781312,
          3.543061622794245,
          7.122297660486129,
          -4.9996194518959385,
          4.188661904010066,
          -2.4658282781636123,
          -10.644043683903673,
          1.6216164404171156,
          3.534865941922702,
          0.6620750883319902,
          -5.8119819251575535,
          -2.4616193705823877,
          1.81301218000121,
          -1.3991430996399934,
          -6.06796587359107,
          0.7332729316312971,
          -2.59166241689292,
          2.592143693639508,
          -4.207539188528446,
          5.519667158191341,
          5.50282947670817,
          -8.570642984068542,
          8.854839904217974,
          3.718641991401466,
          -9.491068588569178,
          6.136377478452892,
          6.97919408184477,
          -4.277476840683484,
          4.662371038221357,
          -6.840165365450532,
          2.7987697909660727,
          -2.368019032094434,
          -1.9602901421082939,
          3.491606957062253,
          0.7969733025077844,
          -0.28129696102687574,
          3.9691862474320003,
          1.4269339803644128,
          3.9445656780029115,
          6.777357618319323,
          0.822613232709364,
          -9.605862202183761,
          -5.467553144091399,
          -9.30440648052676,
          -2.969619200059532,
          4.529640869765095,
          -11.15888627353862,
          -9.771775621522501,
          4.733587178296665,
          1.0764064118782002,
          2.97572506708769,
          -1.4185946064488304,
          0.5191932605366167,
          2.617737771277597,
          -3.0544825800303386,
          2.825923353591771,
          -3.5708416114185004,
          11.907575908439698,
          3.8813212248158617,
          8.644647074890864,
          4.3778626215382905,
          3.00705644928704,
          2.2614672212105376,
          -3.3066468400766253,
          6.40350477316643,
          -2.546506910461776,
          -2.336328190322384,
          -4.148478166878189,
          2.4136465219732695,
          1.6379268348089886,
          -3.643495792878218,
          5.43889041134035,
          4.583844376197681,
          -8.01141462960606,
          -9.165210995019004,
          1.1623732094658965,
          8.001512302237199,
          0.7380668516578387,
          2.8460746420182708,
          -2.333434369720722,
          4.6468615708411,
          -0.9828593542317126,
          7.637262339344184,
          -5.075255613605615,
          7.5129202154985215,
          -4.537513410626382,
          8.923386187297652,
          -3.372374596993067,
          4.507810136513408,
          3.440414096977491,
          -5.374549503062813,
          7.5460296522268955,
          -8.716986542584898,
          -5.525312090964011,
          -2.8957924784265154,
          -7.8476964870932395,
          8.594247473332436,
          2.919412732254452,
          0.945033972769754,
          -1.8906014418965094,
          -8.767123255785076,
          -2.7095785907671015,
          1.277542717048337,
          -9.274694477867213,
          -0.9547514299515374,
          -6.127663363743103,
          1.9957031044082203,
          0.8681188967722012,
          1.157303567001745,
          -2.732658086545363,
          -10.976278460850754,
          -0.9047751078184059,
          8.722884248735669,
          -3.578825210144731,
          -9.450675346247236,
          3.0692424387549377,
          0.7200325248905833,
          8.142847673293742,
          1.3377006963285705,
          -7.296479382427252,
          -4.108274534110292,
          6.538917065246478,
          4.6371685590721645,
          2.3109273317911985,
          -9.069443563576778,
          5.518377716667668,
          -8.425593968201591,
          -9.786270064358723,
          5.707495668500251,
          6.894211970170138,
          5.790773286556697,
          0.011463727453367215,
          -9.546904250969526,
          9.912243314524266,
          6.687831890349979,
          -5.39245932423977,
          -10.721928520643354,
          3.745089563301875,
          1.50182055961661,
          -9.968729089711655,
          3.578278116752283,
          -2.218129110746764,
          -5.206676010985466,
          -10.27997137163619,
          -0.685032558069513,
          -2.4480921798008324,
          4.235230965645044,
          3.8538094972227444,
          12.73129402589828,
          3.56029958729923,
          6.682332866451943,
          -11.109025211570144,
          -9.396760618983782,
          -3.954547199412018,
          -3.7461908416370533,
          2.3706976353241416,
          -0.4119246356765978,
          -5.808355677541392,
          -5.100258152029898,
          -1.0901585655746995,
          -8.397727890505339,
          0.17823822679378673,
          0.7056927317860049
         ],
         "xaxis": "x",
         "y": [
          7.936108976589639,
          15.27209600255977,
          6.732757519306541,
          3.1961560399404134,
          12.289986144464937,
          13.863725102597865,
          8.53033092196334,
          12.106546289113483,
          8.151951175938683,
          4.148542862194779,
          19.444292714674006,
          10.43116996741355,
          11.486002311574417,
          7.601152095248325,
          11.781112912086003,
          5.758049084048641,
          16.648722801172973,
          7.121122016770332,
          6.46586013788534,
          22.63573593991098,
          5.979932033497069,
          4.96835579381759,
          8.10787732529665,
          5.87156799671451,
          17.676583469429637,
          12.184342317381427,
          6.511317736049123,
          9.810078403317128,
          19.41718290394146,
          9.781891627692245,
          5.964267924592358,
          18.357971514023887,
          20.173890324007722,
          4.158675022094844,
          9.632596786906943,
          7.596231829361554,
          12.987881188627634,
          4.86817792606654,
          13.029399905366649,
          11.682935111049765,
          9.578047476440815,
          3.163924215817493,
          6.449984254845367,
          13.027897545938282,
          7.597603313306954,
          4.906069905850694,
          6.332238397430482,
          15.923341005238044,
          5.012707204407975,
          5.708710898685307,
          12.289143274244143,
          13.708141378047657,
          3.760242057136759,
          4.336049322875142,
          10.45696594599147,
          10.866003348765888,
          13.574388374692612,
          15.550769770994282,
          12.265599110731522,
          10.92460560242519,
          6.715896318555514,
          8.6381750860662,
          20.425576987636845,
          5.7972424805939395,
          5.588719293754742,
          6.829294793010275,
          9.500911902234579,
          5.238805784622719,
          7.199558867828864,
          10.327968420347753,
          5.0500542599164,
          1.790669344068838,
          8.26968661209046,
          10.490807517724837,
          15.583712513351292,
          7.6349279239749634,
          33.787698150953446,
          15.682625578964076,
          3.7370307281692248,
          7.83948264178445,
          10.001074814626964,
          6.054350350738158,
          18.083113888732402,
          2.9450657605421613,
          11.97449845136029,
          12.824042823282387,
          8.591010327469736,
          9.012837643871316,
          16.760492292591294,
          5.512068057881503,
          11.376964746964742,
          3.552393479609743,
          11.401608461064379,
          8.201541337571134,
          6.52998502154682,
          4.474870108278849,
          11.189079177820009,
          9.367946036576944,
          6.236040287939852,
          4.827341404218401,
          8.136577057077865,
          1.7345704361598215,
          12.85482006864431,
          7.290299239830241,
          6.137368020041743,
          7.949293784856813,
          16.419876014640483,
          15.779060656096936,
          3.551973755463774,
          12.83783238924196,
          4.36152715369203,
          2.4388829590938075,
          5.728038505338792,
          9.05150092374684,
          10.403783485362966,
          7.926232254142819,
          15.08700136607043,
          5.787030424106239,
          20.09059575264453,
          17.480786804641504,
          19.831411633038204,
          6.454323290473404,
          9.046024715318529,
          9.67616914776002,
          8.592453388160568,
          13.269010481403445,
          10.524245981733545,
          20.864479856424012,
          7.628821538788591,
          8.650729038004348,
          10.197919076629509,
          7.24020478067266,
          5.232692245988541,
          8.6013269737842,
          6.7038381687369855,
          4.911547501083313,
          17.601170764204987,
          5.83436781444297,
          9.83037069003181,
          6.4664341744645535,
          7.74542286630736,
          5.304384777479982,
          5.747766683233736,
          12.518050870761009,
          16.78757438124094,
          11.530081720704256,
          10.223699087591584,
          18.137848501634252,
          5.349640395988838,
          6.3595223589155525,
          7.6980343137148735,
          8.666486956841785,
          10.991541257926992,
          4.895154223055411,
          11.561284675422023,
          5.88341187526164,
          13.041264817139794,
          17.572028407309645,
          6.849073547707388,
          9.190376835588648,
          14.44637553364581,
          11.107262382272149,
          7.082180152939793,
          14.342465143587027,
          3.936251292875099,
          12.138401955275244,
          15.1400345927354,
          5.263072127459329,
          7.050177977505482,
          5.961983978530047,
          7.915026613028407,
          7.416371991521687,
          17.425172549783795,
          4.132915826437491,
          10.71072673173708,
          11.555173611064522,
          13.66068364418991,
          6.146455930930849,
          5.852069221266655,
          6.231655907623082,
          11.265695091132088,
          11.534694151063585,
          5.190732403795479,
          7.801706389586727,
          11.18055157903359,
          9.95835703731468,
          6.864176830426937,
          6.713054445685721,
          6.518646078368431,
          6.553432748077411,
          6.0146244308139005,
          6.521773269520281,
          4.958123837609369,
          17.055011596671974,
          6.669500953448247,
          3.1654350774754483
         ],
         "yaxis": "y"
        }
       ],
       "layout": {
        "height": 600,
        "legend": {
         "title": {
          "text": "color"
         },
         "tracegroupgap": 0
        },
        "template": {
         "data": {
          "bar": [
           {
            "error_x": {
             "color": "#2a3f5f"
            },
            "error_y": {
             "color": "#2a3f5f"
            },
            "marker": {
             "line": {
              "color": "#E5ECF6",
              "width": 0.5
             },
             "pattern": {
              "fillmode": "overlay",
              "size": 10,
              "solidity": 0.2
             }
            },
            "type": "bar"
           }
          ],
          "barpolar": [
           {
            "marker": {
             "line": {
              "color": "#E5ECF6",
              "width": 0.5
             },
             "pattern": {
              "fillmode": "overlay",
              "size": 10,
              "solidity": 0.2
             }
            },
            "type": "barpolar"
           }
          ],
          "carpet": [
           {
            "aaxis": {
             "endlinecolor": "#2a3f5f",
             "gridcolor": "white",
             "linecolor": "white",
             "minorgridcolor": "white",
             "startlinecolor": "#2a3f5f"
            },
            "baxis": {
             "endlinecolor": "#2a3f5f",
             "gridcolor": "white",
             "linecolor": "white",
             "minorgridcolor": "white",
             "startlinecolor": "#2a3f5f"
            },
            "type": "carpet"
           }
          ],
          "choropleth": [
           {
            "colorbar": {
             "outlinewidth": 0,
             "ticks": ""
            },
            "type": "choropleth"
           }
          ],
          "contour": [
           {
            "colorbar": {
             "outlinewidth": 0,
             "ticks": ""
            },
            "colorscale": [
             [
              0,
              "#0d0887"
             ],
             [
              0.1111111111111111,
              "#46039f"
             ],
             [
              0.2222222222222222,
              "#7201a8"
             ],
             [
              0.3333333333333333,
              "#9c179e"
             ],
             [
              0.4444444444444444,
              "#bd3786"
             ],
             [
              0.5555555555555556,
              "#d8576b"
             ],
             [
              0.6666666666666666,
              "#ed7953"
             ],
             [
              0.7777777777777778,
              "#fb9f3a"
             ],
             [
              0.8888888888888888,
              "#fdca26"
             ],
             [
              1,
              "#f0f921"
             ]
            ],
            "type": "contour"
           }
          ],
          "contourcarpet": [
           {
            "colorbar": {
             "outlinewidth": 0,
             "ticks": ""
            },
            "type": "contourcarpet"
           }
          ],
          "heatmap": [
           {
            "colorbar": {
             "outlinewidth": 0,
             "ticks": ""
            },
            "colorscale": [
             [
              0,
              "#0d0887"
             ],
             [
              0.1111111111111111,
              "#46039f"
             ],
             [
              0.2222222222222222,
              "#7201a8"
             ],
             [
              0.3333333333333333,
              "#9c179e"
             ],
             [
              0.4444444444444444,
              "#bd3786"
             ],
             [
              0.5555555555555556,
              "#d8576b"
             ],
             [
              0.6666666666666666,
              "#ed7953"
             ],
             [
              0.7777777777777778,
              "#fb9f3a"
             ],
             [
              0.8888888888888888,
              "#fdca26"
             ],
             [
              1,
              "#f0f921"
             ]
            ],
            "type": "heatmap"
           }
          ],
          "heatmapgl": [
           {
            "colorbar": {
             "outlinewidth": 0,
             "ticks": ""
            },
            "colorscale": [
             [
              0,
              "#0d0887"
             ],
             [
              0.1111111111111111,
              "#46039f"
             ],
             [
              0.2222222222222222,
              "#7201a8"
             ],
             [
              0.3333333333333333,
              "#9c179e"
             ],
             [
              0.4444444444444444,
              "#bd3786"
             ],
             [
              0.5555555555555556,
              "#d8576b"
             ],
             [
              0.6666666666666666,
              "#ed7953"
             ],
             [
              0.7777777777777778,
              "#fb9f3a"
             ],
             [
              0.8888888888888888,
              "#fdca26"
             ],
             [
              1,
              "#f0f921"
             ]
            ],
            "type": "heatmapgl"
           }
          ],
          "histogram": [
           {
            "marker": {
             "pattern": {
              "fillmode": "overlay",
              "size": 10,
              "solidity": 0.2
             }
            },
            "type": "histogram"
           }
          ],
          "histogram2d": [
           {
            "colorbar": {
             "outlinewidth": 0,
             "ticks": ""
            },
            "colorscale": [
             [
              0,
              "#0d0887"
             ],
             [
              0.1111111111111111,
              "#46039f"
             ],
             [
              0.2222222222222222,
              "#7201a8"
             ],
             [
              0.3333333333333333,
              "#9c179e"
             ],
             [
              0.4444444444444444,
              "#bd3786"
             ],
             [
              0.5555555555555556,
              "#d8576b"
             ],
             [
              0.6666666666666666,
              "#ed7953"
             ],
             [
              0.7777777777777778,
              "#fb9f3a"
             ],
             [
              0.8888888888888888,
              "#fdca26"
             ],
             [
              1,
              "#f0f921"
             ]
            ],
            "type": "histogram2d"
           }
          ],
          "histogram2dcontour": [
           {
            "colorbar": {
             "outlinewidth": 0,
             "ticks": ""
            },
            "colorscale": [
             [
              0,
              "#0d0887"
             ],
             [
              0.1111111111111111,
              "#46039f"
             ],
             [
              0.2222222222222222,
              "#7201a8"
             ],
             [
              0.3333333333333333,
              "#9c179e"
             ],
             [
              0.4444444444444444,
              "#bd3786"
             ],
             [
              0.5555555555555556,
              "#d8576b"
             ],
             [
              0.6666666666666666,
              "#ed7953"
             ],
             [
              0.7777777777777778,
              "#fb9f3a"
             ],
             [
              0.8888888888888888,
              "#fdca26"
             ],
             [
              1,
              "#f0f921"
             ]
            ],
            "type": "histogram2dcontour"
           }
          ],
          "mesh3d": [
           {
            "colorbar": {
             "outlinewidth": 0,
             "ticks": ""
            },
            "type": "mesh3d"
           }
          ],
          "parcoords": [
           {
            "line": {
             "colorbar": {
              "outlinewidth": 0,
              "ticks": ""
             }
            },
            "type": "parcoords"
           }
          ],
          "pie": [
           {
            "automargin": true,
            "type": "pie"
           }
          ],
          "scatter": [
           {
            "fillpattern": {
             "fillmode": "overlay",
             "size": 10,
             "solidity": 0.2
            },
            "type": "scatter"
           }
          ],
          "scatter3d": [
           {
            "line": {
             "colorbar": {
              "outlinewidth": 0,
              "ticks": ""
             }
            },
            "marker": {
             "colorbar": {
              "outlinewidth": 0,
              "ticks": ""
             }
            },
            "type": "scatter3d"
           }
          ],
          "scattercarpet": [
           {
            "marker": {
             "colorbar": {
              "outlinewidth": 0,
              "ticks": ""
             }
            },
            "type": "scattercarpet"
           }
          ],
          "scattergeo": [
           {
            "marker": {
             "colorbar": {
              "outlinewidth": 0,
              "ticks": ""
             }
            },
            "type": "scattergeo"
           }
          ],
          "scattergl": [
           {
            "marker": {
             "colorbar": {
              "outlinewidth": 0,
              "ticks": ""
             }
            },
            "type": "scattergl"
           }
          ],
          "scattermapbox": [
           {
            "marker": {
             "colorbar": {
              "outlinewidth": 0,
              "ticks": ""
             }
            },
            "type": "scattermapbox"
           }
          ],
          "scatterpolar": [
           {
            "marker": {
             "colorbar": {
              "outlinewidth": 0,
              "ticks": ""
             }
            },
            "type": "scatterpolar"
           }
          ],
          "scatterpolargl": [
           {
            "marker": {
             "colorbar": {
              "outlinewidth": 0,
              "ticks": ""
             }
            },
            "type": "scatterpolargl"
           }
          ],
          "scatterternary": [
           {
            "marker": {
             "colorbar": {
              "outlinewidth": 0,
              "ticks": ""
             }
            },
            "type": "scatterternary"
           }
          ],
          "surface": [
           {
            "colorbar": {
             "outlinewidth": 0,
             "ticks": ""
            },
            "colorscale": [
             [
              0,
              "#0d0887"
             ],
             [
              0.1111111111111111,
              "#46039f"
             ],
             [
              0.2222222222222222,
              "#7201a8"
             ],
             [
              0.3333333333333333,
              "#9c179e"
             ],
             [
              0.4444444444444444,
              "#bd3786"
             ],
             [
              0.5555555555555556,
              "#d8576b"
             ],
             [
              0.6666666666666666,
              "#ed7953"
             ],
             [
              0.7777777777777778,
              "#fb9f3a"
             ],
             [
              0.8888888888888888,
              "#fdca26"
             ],
             [
              1,
              "#f0f921"
             ]
            ],
            "type": "surface"
           }
          ],
          "table": [
           {
            "cells": {
             "fill": {
              "color": "#EBF0F8"
             },
             "line": {
              "color": "white"
             }
            },
            "header": {
             "fill": {
              "color": "#C8D4E3"
             },
             "line": {
              "color": "white"
             }
            },
            "type": "table"
           }
          ]
         },
         "layout": {
          "annotationdefaults": {
           "arrowcolor": "#2a3f5f",
           "arrowhead": 0,
           "arrowwidth": 1
          },
          "autotypenumbers": "strict",
          "coloraxis": {
           "colorbar": {
            "outlinewidth": 0,
            "ticks": ""
           }
          },
          "colorscale": {
           "diverging": [
            [
             0,
             "#8e0152"
            ],
            [
             0.1,
             "#c51b7d"
            ],
            [
             0.2,
             "#de77ae"
            ],
            [
             0.3,
             "#f1b6da"
            ],
            [
             0.4,
             "#fde0ef"
            ],
            [
             0.5,
             "#f7f7f7"
            ],
            [
             0.6,
             "#e6f5d0"
            ],
            [
             0.7,
             "#b8e186"
            ],
            [
             0.8,
             "#7fbc41"
            ],
            [
             0.9,
             "#4d9221"
            ],
            [
             1,
             "#276419"
            ]
           ],
           "sequential": [
            [
             0,
             "#0d0887"
            ],
            [
             0.1111111111111111,
             "#46039f"
            ],
            [
             0.2222222222222222,
             "#7201a8"
            ],
            [
             0.3333333333333333,
             "#9c179e"
            ],
            [
             0.4444444444444444,
             "#bd3786"
            ],
            [
             0.5555555555555556,
             "#d8576b"
            ],
            [
             0.6666666666666666,
             "#ed7953"
            ],
            [
             0.7777777777777778,
             "#fb9f3a"
            ],
            [
             0.8888888888888888,
             "#fdca26"
            ],
            [
             1,
             "#f0f921"
            ]
           ],
           "sequentialminus": [
            [
             0,
             "#0d0887"
            ],
            [
             0.1111111111111111,
             "#46039f"
            ],
            [
             0.2222222222222222,
             "#7201a8"
            ],
            [
             0.3333333333333333,
             "#9c179e"
            ],
            [
             0.4444444444444444,
             "#bd3786"
            ],
            [
             0.5555555555555556,
             "#d8576b"
            ],
            [
             0.6666666666666666,
             "#ed7953"
            ],
            [
             0.7777777777777778,
             "#fb9f3a"
            ],
            [
             0.8888888888888888,
             "#fdca26"
            ],
            [
             1,
             "#f0f921"
            ]
           ]
          },
          "colorway": [
           "#636efa",
           "#EF553B",
           "#00cc96",
           "#ab63fa",
           "#FFA15A",
           "#19d3f3",
           "#FF6692",
           "#B6E880",
           "#FF97FF",
           "#FECB52"
          ],
          "font": {
           "color": "#2a3f5f"
          },
          "geo": {
           "bgcolor": "white",
           "lakecolor": "white",
           "landcolor": "#E5ECF6",
           "showlakes": true,
           "showland": true,
           "subunitcolor": "white"
          },
          "hoverlabel": {
           "align": "left"
          },
          "hovermode": "closest",
          "mapbox": {
           "style": "light"
          },
          "paper_bgcolor": "white",
          "plot_bgcolor": "#E5ECF6",
          "polar": {
           "angularaxis": {
            "gridcolor": "white",
            "linecolor": "white",
            "ticks": ""
           },
           "bgcolor": "#E5ECF6",
           "radialaxis": {
            "gridcolor": "white",
            "linecolor": "white",
            "ticks": ""
           }
          },
          "scene": {
           "xaxis": {
            "backgroundcolor": "#E5ECF6",
            "gridcolor": "white",
            "gridwidth": 2,
            "linecolor": "white",
            "showbackground": true,
            "ticks": "",
            "zerolinecolor": "white"
           },
           "yaxis": {
            "backgroundcolor": "#E5ECF6",
            "gridcolor": "white",
            "gridwidth": 2,
            "linecolor": "white",
            "showbackground": true,
            "ticks": "",
            "zerolinecolor": "white"
           },
           "zaxis": {
            "backgroundcolor": "#E5ECF6",
            "gridcolor": "white",
            "gridwidth": 2,
            "linecolor": "white",
            "showbackground": true,
            "ticks": "",
            "zerolinecolor": "white"
           }
          },
          "shapedefaults": {
           "line": {
            "color": "#2a3f5f"
           }
          },
          "ternary": {
           "aaxis": {
            "gridcolor": "white",
            "linecolor": "white",
            "ticks": ""
           },
           "baxis": {
            "gridcolor": "white",
            "linecolor": "white",
            "ticks": ""
           },
           "bgcolor": "#E5ECF6",
           "caxis": {
            "gridcolor": "white",
            "linecolor": "white",
            "ticks": ""
           }
          },
          "title": {
           "x": 0.05
          },
          "xaxis": {
           "automargin": true,
           "gridcolor": "white",
           "linecolor": "white",
           "ticks": "",
           "title": {
            "standoff": 15
           },
           "zerolinecolor": "white",
           "zerolinewidth": 2
          },
          "yaxis": {
           "automargin": true,
           "gridcolor": "white",
           "linecolor": "white",
           "ticks": "",
           "title": {
            "standoff": 15
           },
           "zerolinecolor": "white",
           "zerolinewidth": 2
          }
         }
        },
        "title": {
         "text": "PCA projection of the 15 categories into the 2 Principal components"
        },
        "width": 1000,
        "xaxis": {
         "anchor": "y",
         "domain": [
          0,
          1
         ],
         "range": [
          -20,
          25
         ],
         "title": {
          "text": "Principal component 1"
         }
        },
        "yaxis": {
         "anchor": "x",
         "domain": [
          0,
          1
         ],
         "range": [
          -20,
          40
         ],
         "title": {
          "text": "Principal component 2"
         }
        }
       }
      }
     },
     "metadata": {},
     "output_type": "display_data"
    }
   ],
   "source": [
    "#Plot of PCA\n",
    "users_pca_2.sort_values(by = 'cluster', inplace=True) #to guarantee color consistency\n",
    "cl_names = users_pca_2['cluster'].apply(lambda cl: mapping_idx_name[cl])\n",
    "fig = px.scatter(users_pca_2, x='Principal component 1', y='Principal component 2',opacity =1,\n",
    "             color = cl_names ,size_max =50,width=1000, height=600,title ='PCA projection of the 15 categories into the 2 Principal components',\n",
    "             range_x = [-20,25], range_y=[-20,40])\n",
    "fig.show()\n",
    "#fig.write_html(\"cluster_2dvisual.html\")"
   ]
  },
  {
   "cell_type": "code",
   "execution_count": 72,
   "metadata": {},
   "outputs": [],
   "source": [
    "# We also want to visualize our clustering with a non-linear projection techniques. \n",
    "# Therefore, we use a non linear dimension reduction technique called UMAP.\n",
    "\n",
    "trans = UMAP(n_neighbors=70, random_state=852484677).fit(user_to_cat_first[user_to_cat_first.columns[0:15]].values)\n",
    "\n",
    "user_projected_umap=pd.DataFrame(trans.embedding_)\n",
    "user_projected_umap.columns = ['Axis x','Axis y']\n",
    "user_projected_umap.index = user_to_cat_first.index\n",
    "user_projected_umap['cluster'] = user_to_cat_first['first_50_cluster']"
   ]
  },
  {
   "cell_type": "code",
   "execution_count": 73,
   "metadata": {},
   "outputs": [
    {
     "data": {
      "application/vnd.plotly.v1+json": {
       "config": {
        "plotlyServerURL": "https://plot.ly"
       },
       "data": [
        {
         "hovertemplate": "color=Jean-Michel IPA<br>Axis x=%{x}<br>Axis y=%{y}<extra></extra>",
         "legendgroup": "Jean-Michel IPA",
         "marker": {
          "color": "#636efa",
          "opacity": 1,
          "symbol": "circle"
         },
         "mode": "markers",
         "name": "Jean-Michel IPA",
         "orientation": "v",
         "showlegend": true,
         "type": "scatter",
         "x": [
          2.4592015743255615,
          2.538403034210205,
          4.709710121154785,
          2.50661301612854,
          4.591534614562988,
          4.265310764312744,
          2.8551154136657715,
          3.8425474166870117,
          3.5192654132843018,
          3.863178253173828,
          4.554144859313965,
          3.195624828338623,
          3.7211716175079346,
          3.543212652206421,
          4.221158027648926,
          2.2240192890167236,
          4.517001152038574,
          2.242941379547119,
          5.29814338684082,
          4.681717395782471,
          3.5410866737365723,
          2.628154993057251,
          3.8677163124084473,
          2.592752456665039,
          3.4467074871063232,
          2.7064833641052246,
          2.2216222286224365,
          4.37919282913208,
          2.589475393295288,
          3.826160430908203,
          1.98294997215271,
          2.5912225246429443,
          5.581089019775391,
          2.9412407875061035,
          4.608921527862549,
          2.441854953765869,
          3.3913869857788086,
          4.496394634246826,
          3.794400930404663,
          2.0335757732391357,
          4.044162273406982,
          4.6331562995910645,
          4.873665809631348,
          3.3282713890075684,
          2.3434364795684814,
          4.035494327545166,
          5.350231170654297,
          2.9952075481414795,
          4.128726005554199,
          3.4887850284576416,
          4.254861831665039,
          4.6431884765625,
          4.718013763427734,
          2.949803590774536,
          3.6387393474578857,
          4.162931442260742,
          2.2195069789886475,
          2.33062481880188,
          5.498576641082764,
          3.5334153175354004,
          3.724853754043579,
          2.875556707382202,
          3.8211543560028076,
          3.703798770904541,
          2.1832082271575928,
          2.7740707397460938,
          3.855756998062134,
          3.3324167728424072,
          2.948148727416992,
          2.1842899322509766,
          1.9825867414474487,
          3.02128005027771,
          3.3901255130767822,
          2.321422576904297,
          2.45507550239563,
          2.235870838165283,
          2.3153746128082275,
          4.853435516357422,
          2.5655510425567627,
          4.355175018310547,
          1.8631478548049927,
          3.6273975372314453,
          4.791347503662109,
          1.8912544250488281,
          2.108994245529175,
          2.0237302780151367,
          3.7570481300354004,
          2.031872510910034,
          4.1581711769104,
          3.077286720275879,
          3.1747078895568848,
          5.782581329345703,
          3.262467622756958,
          3.649445056915283,
          2.443918228149414,
          3.135199546813965,
          2.108027458190918,
          2.988603115081787,
          4.433215618133545,
          3.4917478561401367,
          4.584078788757324,
          3.3743011951446533,
          2.227228879928589,
          2.8432252407073975,
          2.0079760551452637,
          2.747220039367676,
          3.8632755279541016,
          2.674428701400757,
          3.8755617141723633,
          2.934368848800659,
          3.7707509994506836,
          4.191055774688721,
          3.691159248352051,
          3.8501312732696533,
          2.677694797515869,
          5.096962928771973,
          2.6762444972991943,
          2.11596417427063,
          3.0280532836914062,
          4.144149303436279,
          4.627737045288086,
          3.9761717319488525,
          3.4448933601379395,
          4.031707286834717,
          3.309882164001465,
          3.239914655685425,
          4.653191566467285,
          3.482027292251587,
          4.2516889572143555,
          5.37929105758667,
          3.911750316619873,
          2.0307083129882812,
          4.850528717041016,
          2.9896745681762695,
          3.6243436336517334,
          4.609950065612793,
          5.067019462585449,
          3.1931824684143066,
          2.1472268104553223,
          1.9808359146118164,
          3.708860158920288,
          3.0749552249908447,
          3.997469425201416,
          3.067347764968872,
          3.5710859298706055,
          2.730883836746216,
          3.9271724224090576,
          2.5547213554382324,
          4.549778938293457,
          3.119953155517578,
          2.2238364219665527,
          2.1460909843444824,
          2.9322092533111572,
          4.748275279998779,
          4.621667385101318,
          2.468235492706299,
          4.225978374481201,
          3.436474084854126,
          3.0274267196655273,
          4.05780029296875,
          3.883608102798462,
          3.1277945041656494,
          3.0114197731018066,
          2.4120845794677734,
          2.272242546081543,
          2.8995611667633057,
          6.368030071258545,
          4.861018657684326,
          4.328486442565918,
          4.649425029754639,
          2.495421886444092,
          2.142622947692871,
          2.643681287765503,
          4.4875874519348145,
          2.876107931137085,
          3.4203996658325195,
          3.6067330837249756,
          4.698464870452881,
          3.5069756507873535,
          3.94814395904541,
          2.450695037841797,
          1.9138779640197754,
          3.1593189239501953,
          4.42908239364624,
          3.5820000171661377,
          4.348587989807129,
          3.417501211166382,
          4.222881317138672,
          3.5327417850494385,
          5.004996299743652,
          3.6811118125915527,
          4.489567756652832,
          2.0769224166870117,
          1.86287522315979,
          3.5185773372650146,
          3.6297242641448975,
          2.102598190307617,
          4.2429375648498535,
          4.692477226257324,
          2.383274793624878,
          2.031189203262329,
          3.43975830078125,
          4.634753704071045,
          2.288163900375366,
          4.706598281860352,
          2.016544818878174,
          4.678155422210693,
          4.740830898284912,
          3.236719846725464,
          4.1493730545043945,
          4.081974506378174,
          4.080422878265381,
          4.011136531829834,
          3.127483367919922,
          1.999281406402588,
          4.29208517074585,
          4.3552422523498535,
          3.685845375061035,
          3.690760374069214,
          5.054333686828613,
          2.4396445751190186,
          3.3596224784851074,
          2.1987555027008057,
          1.8439888954162598,
          3.5819761753082275,
          3.562898874282837,
          3.4209249019622803,
          3.8534982204437256,
          3.496364116668701,
          3.4171667098999023,
          5.149104118347168,
          4.115932941436768,
          3.6944262981414795,
          3.8314008712768555,
          2.2044923305511475,
          2.5477757453918457,
          3.3921563625335693,
          4.150243759155273,
          3.5810024738311768
         ],
         "xaxis": "x",
         "y": [
          1.828139066696167,
          2.281439781188965,
          2.5828380584716797,
          2.650733470916748,
          3.1398792266845703,
          1.9134018421173096,
          2.291210651397705,
          2.039757490158081,
          1.8054074048995972,
          1.932861566543579,
          3.801071882247925,
          1.7651993036270142,
          3.4389491081237793,
          2.5281217098236084,
          3.685788869857788,
          1.9639291763305664,
          2.2071614265441895,
          2.4881649017333984,
          2.3894786834716797,
          2.9111359119415283,
          2.4484357833862305,
          1.624099850654602,
          3.738915205001831,
          2.009701728820801,
          2.5531702041625977,
          2.8503968715667725,
          1.71822190284729,
          1.8936805725097656,
          1.6355714797973633,
          1.9946279525756836,
          1.5415985584259033,
          1.5986515283584595,
          2.338294267654419,
          1.372414469718933,
          2.746234655380249,
          2.514394760131836,
          2.1142842769622803,
          2.796276092529297,
          3.755443811416626,
          1.9601318836212158,
          2.4030797481536865,
          2.5775914192199707,
          3.0486323833465576,
          2.3584015369415283,
          2.4617247581481934,
          2.5486879348754883,
          2.3164398670196533,
          2.1061253547668457,
          2.563509941101074,
          1.540700912475586,
          3.167175054550171,
          2.336420774459839,
          2.974656820297241,
          2.0246856212615967,
          3.1112377643585205,
          3.0954113006591797,
          2.4204821586608887,
          1.4643570184707642,
          2.0353927612304688,
          2.976306438446045,
          1.7373367547988892,
          3.0615787506103516,
          3.536316394805908,
          2.174293279647827,
          1.673703670501709,
          1.468644618988037,
          3.1835856437683105,
          3.29957914352417,
          1.6350579261779785,
          1.5721908807754517,
          1.6852108240127563,
          1.8546388149261475,
          1.4585212469100952,
          1.8569343090057373,
          1.5196318626403809,
          1.3859091997146606,
          2.0063183307647705,
          3.019991159439087,
          2.8196420669555664,
          3.624682664871216,
          1.5891022682189941,
          3.7246861457824707,
          2.681089401245117,
          1.535654902458191,
          2.3537583351135254,
          1.452531337738037,
          3.1013150215148926,
          2.1890182495117188,
          2.8813369274139404,
          1.3107683658599854,
          3.175140142440796,
          2.160728931427002,
          3.8613266944885254,
          2.525923728942871,
          1.428745985031128,
          3.5297234058380127,
          2.249829053878784,
          2.6064484119415283,
          2.0728821754455566,
          3.654865026473999,
          2.3226277828216553,
          1.9402222633361816,
          1.7574284076690674,
          2.1204745769500732,
          2.011453628540039,
          1.5053943395614624,
          2.406041383743286,
          2.8430323600769043,
          3.6176507472991943,
          1.6661877632141113,
          3.8051867485046387,
          2.09653377532959,
          2.953038215637207,
          2.647460460662842,
          3.0745420455932617,
          1.7627812623977661,
          1.9054473638534546,
          1.6618297100067139,
          3.3696765899658203,
          3.0442471504211426,
          2.6177120208740234,
          3.037726640701294,
          3.1235952377319336,
          2.7387492656707764,
          3.3558645248413086,
          2.4879512786865234,
          3.3523688316345215,
          3.380580425262451,
          2.1257693767547607,
          2.019521951675415,
          3.8402833938598633,
          2.0684516429901123,
          2.58613920211792,
          1.6426805257797241,
          1.8873523473739624,
          2.6884727478027344,
          2.2937891483306885,
          1.7729113101959229,
          2.267078399658203,
          1.5437325239181519,
          2.875425100326538,
          3.2236201763153076,
          1.9272385835647583,
          1.91364586353302,
          1.9283744096755981,
          1.7592462301254272,
          3.2261335849761963,
          1.6077067852020264,
          2.856934070587158,
          3.3476874828338623,
          1.4916037321090698,
          1.6261347532272339,
          3.179245948791504,
          2.3408586978912354,
          2.916088104248047,
          1.5042037963867188,
          2.09476375579834,
          1.9610577821731567,
          1.7354308366775513,
          1.6901378631591797,
          3.2231948375701904,
          2.0551116466522217,
          1.5584754943847656,
          2.5955734252929688,
          2.382011890411377,
          2.2554190158843994,
          1.9080215692520142,
          3.138589382171631,
          2.0832359790802,
          2.3183207511901855,
          1.8495134115219116,
          2.340269088745117,
          1.4855316877365112,
          2.668975591659546,
          2.182558536529541,
          4.2494988441467285,
          4.305718421936035,
          2.650775671005249,
          2.452831745147705,
          2.5976624488830566,
          2.4217257499694824,
          1.6517598628997803,
          2.1070775985717773,
          2.6020474433898926,
          1.798190712928772,
          2.7476513385772705,
          2.134317636489868,
          2.362966299057007,
          1.8393311500549316,
          1.6653026342391968,
          3.723094940185547,
          2.144900321960449,
          1.8380889892578125,
          1.5411372184753418,
          2.199598789215088,
          3.7281181812286377,
          1.4198318719863892,
          2.759040594100952,
          3.0484459400177,
          1.4618611335754395,
          1.9237507581710815,
          1.7084441184997559,
          2.795351505279541,
          1.486132264137268,
          2.4348461627960205,
          1.6469628810882568,
          2.361604690551758,
          2.604855537414551,
          2.738093852996826,
          2.4232113361358643,
          3.5375328063964844,
          3.8167433738708496,
          2.125861883163452,
          1.3302806615829468,
          1.847355842590332,
          2.659393310546875,
          2.8480947017669678,
          1.4884639978408813,
          2.861703872680664,
          1.8523576259613037,
          2.3445279598236084,
          1.9193127155303955,
          2.3375442028045654,
          1.6318066120147705,
          2.2688276767730713,
          3.003157377243042,
          1.4654887914657593,
          2.644043207168579,
          4.594749450683594,
          3.339261770248413,
          2.368985652923584,
          2.856099843978882,
          1.797884225845337,
          4.277495861053467,
          1.505807638168335,
          2.7846527099609375,
          4.226266384124756,
          1.98884916305542,
          2.6138603687286377
         ],
         "yaxis": "y"
        },
        {
         "hovertemplate": "color=Ada the explorer<br>Axis x=%{x}<br>Axis y=%{y}<extra></extra>",
         "legendgroup": "Ada the explorer",
         "marker": {
          "color": "#EF553B",
          "opacity": 1,
          "symbol": "circle"
         },
         "mode": "markers",
         "name": "Ada the explorer",
         "orientation": "v",
         "showlegend": true,
         "type": "scatter",
         "x": [
          7.346025466918945,
          5.497200012207031,
          8.852862358093262,
          7.011411666870117,
          6.171056270599365,
          8.511335372924805,
          7.330801010131836,
          5.509662628173828,
          8.580824851989746,
          7.74388313293457,
          8.278751373291016,
          7.297238826751709,
          7.374323844909668,
          8.598618507385254,
          8.067843437194824,
          8.421451568603516,
          6.507953643798828,
          5.832789897918701,
          6.216418743133545,
          6.655503273010254,
          6.779824256896973,
          9.048558235168457,
          7.837001800537109,
          7.529869079589844,
          6.3562774658203125,
          7.43728494644165,
          7.310314655303955,
          8.351102828979492,
          7.390080451965332,
          6.986971378326416,
          6.245422840118408,
          8.514723777770996,
          6.845253944396973,
          4.870916843414307,
          7.087675094604492,
          7.701644420623779,
          5.012154579162598,
          8.396120071411133,
          7.278407096862793,
          7.817805290222168,
          8.394265174865723,
          7.531861305236816,
          6.234920501708984,
          5.641057014465332,
          7.39895486831665,
          9.138181686401367,
          6.137601852416992,
          7.200470924377441,
          6.819701671600342,
          7.187081813812256,
          7.318663597106934,
          5.657601833343506,
          6.564965724945068,
          6.686527252197266,
          6.130340099334717,
          6.366474151611328,
          5.396096706390381,
          7.077853679656982,
          7.4910993576049805,
          6.939412593841553,
          5.827526569366455,
          7.358469009399414,
          8.151968002319336,
          4.802337169647217,
          7.203306198120117,
          6.776480197906494,
          7.276941299438477,
          5.257296562194824,
          6.485984802246094,
          6.545569896697998,
          8.706482887268066,
          7.631490707397461,
          7.423193454742432,
          7.271513938903809,
          7.827136993408203,
          6.5438761711120605,
          6.986589431762695,
          7.210275173187256,
          7.911431789398193,
          6.897140979766846,
          4.999746322631836,
          7.088818550109863,
          6.852483749389648,
          6.151730537414551,
          6.073437690734863,
          7.274332523345947,
          8.671143531799316,
          6.121804237365723,
          7.522443771362305,
          7.254415035247803,
          7.013580799102783,
          7.247481346130371,
          5.58886194229126,
          6.507316589355469,
          6.085513591766357,
          8.56621265411377,
          5.522513389587402,
          6.909966945648193,
          6.963798999786377,
          6.406046390533447,
          6.006804466247559,
          8.475876808166504,
          7.883134841918945,
          7.446211338043213,
          9.304220199584961,
          7.682005882263184,
          7.166346549987793,
          9.246106147766113,
          7.582271099090576,
          7.3807759284973145,
          8.789222717285156,
          8.504331588745117,
          8.031272888183594,
          7.269060134887695,
          7.134720802307129,
          7.393999099731445,
          6.933690547943115,
          8.145370483398438,
          6.909328460693359,
          5.45338773727417,
          7.448378086090088,
          8.379069328308105,
          7.787686824798584,
          5.4047675132751465,
          7.1926164627075195,
          5.08661413192749,
          6.149809837341309,
          8.147797584533691,
          4.975178241729736,
          6.277015209197998,
          5.1075663566589355,
          8.33782958984375,
          8.801810264587402,
          6.434566974639893,
          5.103994846343994,
          7.658212184906006,
          7.337135314941406,
          7.557424068450928,
          7.818905353546143,
          8.391107559204102,
          7.159630298614502,
          5.087121963500977,
          6.508583068847656,
          7.6096930503845215,
          6.71577262878418,
          4.93389368057251,
          6.088264465332031,
          6.939319610595703,
          7.30047082901001,
          7.169861316680908,
          7.560231685638428,
          7.433155059814453,
          6.653125286102295,
          7.163343906402588,
          7.707550525665283,
          7.649363994598389,
          6.2985076904296875,
          6.427145481109619,
          8.849164962768555,
          7.2719316482543945,
          5.958306312561035,
          7.521759510040283,
          6.407731533050537,
          6.496499061584473,
          6.487456321716309,
          8.121221542358398,
          7.328727722167969,
          6.731733798980713,
          7.697094440460205,
          8.680108070373535,
          8.399535179138184,
          6.167383670806885,
          7.8290886878967285,
          7.397858142852783,
          7.569190502166748,
          7.01910400390625,
          6.488266468048096,
          6.975698471069336,
          8.599710464477539,
          7.444652557373047,
          5.570728302001953,
          7.709062099456787,
          5.9991021156311035,
          8.046915054321289,
          5.959542274475098,
          5.590409755706787,
          6.838876247406006,
          8.350543022155762,
          8.792860984802246,
          5.776224613189697,
          7.014342784881592,
          6.102533340454102,
          6.194093704223633,
          6.719191074371338,
          7.363407135009766,
          7.027556896209717,
          7.255903720855713,
          6.72144079208374,
          7.368307590484619,
          8.376982688903809,
          7.1098456382751465,
          6.492872714996338,
          8.73299503326416,
          7.482039928436279,
          7.7736053466796875,
          7.887842178344727,
          6.935638904571533,
          7.166836738586426,
          6.692962169647217,
          8.248289108276367,
          7.2301225662231445,
          6.9756903648376465,
          7.329875469207764,
          7.828402519226074,
          7.261101722717285,
          6.212118148803711,
          6.884593486785889,
          6.126749515533447,
          6.373223781585693,
          8.109731674194336,
          9.089151382446289,
          8.488856315612793,
          5.959346771240234,
          8.478046417236328,
          7.909085273742676,
          7.7021965980529785,
          8.3693265914917,
          6.810394763946533,
          6.382553577423096,
          8.110816955566406,
          7.171146869659424,
          8.413520812988281,
          8.256175994873047,
          7.857608795166016,
          8.145169258117676,
          6.823028087615967,
          8.303601264953613,
          7.702676296234131,
          8.317224502563477,
          6.312345027923584,
          7.222059726715088,
          7.228566646575928,
          5.415111064910889,
          7.957529544830322,
          6.523255348205566,
          5.372945785522461,
          5.7334675788879395,
          5.859970569610596,
          6.674135208129883,
          6.819496154785156,
          8.534647941589355,
          6.523410797119141,
          4.845498561859131,
          7.314258098602295,
          7.860250473022461,
          5.601491451263428,
          5.983137130737305,
          6.890137672424316,
          5.494119644165039,
          4.746159076690674,
          7.1175217628479,
          6.852541923522949,
          7.531698703765869,
          8.292895317077637,
          6.517601013183594,
          5.423595905303955,
          7.5501909255981445,
          8.279420852661133,
          6.92371129989624,
          6.526437759399414,
          8.664083480834961,
          7.726683139801025,
          7.29473876953125,
          8.655357360839844,
          6.4851179122924805,
          7.537477970123291,
          8.969863891601562,
          8.026540756225586,
          7.064503192901611,
          7.454520225524902,
          7.8804802894592285,
          7.8553056716918945,
          6.621808052062988,
          6.500642776489258,
          7.146781921386719,
          8.640177726745605,
          7.30795955657959,
          5.82754373550415,
          7.368383407592773,
          8.201231002807617,
          5.442368030548096,
          5.52169132232666,
          7.258785724639893,
          6.741279125213623,
          6.3005146980285645,
          7.622076511383057,
          7.161226272583008,
          6.282122611999512,
          6.692758083343506,
          8.737625122070312,
          5.982086658477783,
          7.901118278503418,
          5.7960591316223145,
          7.740164756774902,
          7.928340435028076,
          6.947105407714844,
          5.7530035972595215,
          8.505789756774902,
          7.148944854736328,
          4.743184566497803,
          8.053200721740723,
          5.601294040679932,
          7.518309593200684,
          6.124845027923584,
          8.035066604614258,
          6.106354236602783,
          4.692361354827881,
          5.66555118560791,
          6.958695411682129,
          6.592731952667236,
          4.807796478271484,
          6.951584815979004,
          8.46501636505127,
          6.048058032989502,
          9.236570358276367,
          7.397924900054932,
          4.8934736251831055,
          6.435357570648193,
          7.303250789642334,
          8.69808292388916,
          6.63478422164917,
          7.941781044006348,
          8.639486312866211,
          5.364263534545898,
          6.494093418121338,
          6.723970890045166,
          6.261541366577148,
          6.252779960632324,
          7.232746601104736,
          6.769839763641357,
          8.589872360229492,
          5.922290325164795,
          6.925868511199951,
          9.173123359680176,
          7.358693599700928,
          7.449627876281738,
          7.2183074951171875,
          7.048845291137695,
          4.987891674041748,
          7.634610176086426,
          6.345970630645752,
          6.491586208343506,
          6.954498291015625,
          9.017784118652344,
          5.173194885253906,
          5.8146138191223145,
          8.565736770629883,
          6.422555446624756,
          4.979556560516357,
          7.991070747375488,
          7.213107585906982,
          8.623766899108887,
          5.137557506561279,
          7.266151428222656,
          6.910414218902588,
          7.136603832244873,
          7.436718940734863,
          5.624454021453857,
          5.728819370269775,
          6.407959938049316,
          6.940209865570068,
          6.990295886993408,
          7.634057521820068,
          4.9294891357421875,
          7.1043548583984375,
          7.78203010559082,
          4.9149556159973145,
          6.229984283447266,
          5.1807861328125,
          6.603806495666504,
          7.099120616912842,
          8.081887245178223,
          6.3059844970703125,
          7.132741928100586,
          8.831374168395996,
          6.08825159072876,
          8.55461311340332,
          6.585480690002441,
          6.497455596923828,
          8.1829252243042,
          6.426021575927734,
          7.1747283935546875,
          6.248236179351807,
          5.265482425689697
         ],
         "xaxis": "x",
         "y": [
          2.698514461517334,
          2.810821771621704,
          5.07027006149292,
          4.31596040725708,
          2.3577795028686523,
          3.7296788692474365,
          5.397111415863037,
          3.676260471343994,
          5.167730808258057,
          5.133948802947998,
          4.140881061553955,
          5.147815227508545,
          4.845309257507324,
          4.374837398529053,
          5.383677959442139,
          4.396811008453369,
          2.0596532821655273,
          4.045830249786377,
          3.393906831741333,
          2.57942533493042,
          3.8021352291107178,
          3.9833261966705322,
          5.093666076660156,
          4.165192604064941,
          2.6151843070983887,
          5.4755377769470215,
          2.188267707824707,
          3.6577601432800293,
          4.189704895019531,
          3.259791135787964,
          2.2657902240753174,
          5.290741920471191,
          2.4934499263763428,
          3.6133837699890137,
          4.9471540451049805,
          5.1705451011657715,
          2.7630205154418945,
          3.9574344158172607,
          4.846776485443115,
          5.232888698577881,
          4.635462284088135,
          4.497743606567383,
          3.576690912246704,
          3.246487855911255,
          2.5425825119018555,
          4.302968978881836,
          4.0865864753723145,
          2.983686685562134,
          2.721569538116455,
          4.134371280670166,
          3.7368433475494385,
          3.944528102874756,
          2.2908852100372314,
          2.427201271057129,
          4.535165786743164,
          4.129546642303467,
          2.5479257106781006,
          2.5497145652770996,
          5.468884468078613,
          2.8974387645721436,
          4.513374328613281,
          5.559427261352539,
          3.4305176734924316,
          3.5334389209747314,
          4.139255523681641,
          4.679166316986084,
          4.724740028381348,
          4.046994209289551,
          3.3424415588378906,
          3.702848434448242,
          3.77207088470459,
          4.370426177978516,
          4.740417957305908,
          5.507560729980469,
          5.437335968017578,
          2.4548020362854004,
          5.354059219360352,
          2.2941958904266357,
          4.7340312004089355,
          4.037195205688477,
          2.815045118331909,
          5.734509468078613,
          2.6451668739318848,
          2.678886890411377,
          3.852602481842041,
          5.472403049468994,
          4.316057205200195,
          2.7085025310516357,
          4.657316207885742,
          3.8804540634155273,
          3.442894220352173,
          3.815734386444092,
          4.530542373657227,
          3.1834352016448975,
          2.3726754188537598,
          4.575987339019775,
          3.159984827041626,
          3.141918659210205,
          3.323460578918457,
          4.547105312347412,
          3.8747951984405518,
          3.910778045654297,
          4.78176212310791,
          5.063920497894287,
          4.033180236816406,
          4.607577800750732,
          5.052717208862305,
          3.942366361618042,
          5.2745795249938965,
          2.586487054824829,
          3.6400907039642334,
          5.047330856323242,
          4.020779609680176,
          2.841193199157715,
          5.655737400054932,
          3.9564216136932373,
          3.011251449584961,
          4.8744401931762695,
          5.241921424865723,
          4.446380138397217,
          5.5114827156066895,
          3.1049678325653076,
          3.400115728378296,
          3.860353708267212,
          5.472107887268066,
          3.647796392440796,
          5.04102897644043,
          3.9419336318969727,
          3.488534927368164,
          3.857957601547241,
          2.932996988296509,
          5.031374454498291,
          3.1550886631011963,
          4.066403865814209,
          3.9706313610076904,
          3.129758596420288,
          3.9956724643707275,
          4.230840682983398,
          4.352842807769775,
          4.22027063369751,
          2.3027541637420654,
          2.807983160018921,
          2.3802578449249268,
          5.256609916687012,
          4.779524326324463,
          3.77496600151062,
          3.0381920337677,
          4.203763484954834,
          5.760079383850098,
          5.646091461181641,
          3.8485047817230225,
          5.685657501220703,
          2.1258816719055176,
          4.222566604614258,
          2.975078582763672,
          2.366199254989624,
          4.498987674713135,
          4.383943557739258,
          4.670344829559326,
          2.3601508140563965,
          2.6731770038604736,
          4.1252546310424805,
          2.403498411178589,
          3.270569086074829,
          2.2223029136657715,
          3.3461639881134033,
          2.9637794494628906,
          4.824596405029297,
          4.59729528427124,
          4.139832019805908,
          3.865114450454712,
          4.67977237701416,
          2.784587860107422,
          3.6580703258514404,
          3.3177340030670166,
          3.6458847522735596,
          4.0856709480285645,
          4.157909393310547,
          3.6067047119140625,
          3.2116034030914307,
          3.4095981121063232,
          2.498243570327759,
          2.984807252883911,
          5.106451988220215,
          2.7141177654266357,
          3.4554998874664307,
          4.713123798370361,
          4.902209758758545,
          4.06534481048584,
          4.83412504196167,
          4.964168071746826,
          2.2975246906280518,
          2.6466023921966553,
          4.874711990356445,
          4.883231163024902,
          2.125612258911133,
          5.327401161193848,
          2.5003905296325684,
          4.987072944641113,
          3.9961295127868652,
          2.842841863632202,
          3.6782524585723877,
          3.3837242126464844,
          2.7744274139404297,
          5.298076629638672,
          4.144207000732422,
          4.249622821807861,
          2.1899380683898926,
          5.601230144500732,
          5.319849967956543,
          4.681546211242676,
          4.394191741943359,
          5.307168006896973,
          4.188414096832275,
          2.4019267559051514,
          4.759603500366211,
          3.5795016288757324,
          2.7137598991394043,
          4.012232780456543,
          4.102633476257324,
          3.831134080886841,
          4.028646469116211,
          2.8492379188537598,
          2.885256767272949,
          4.230118274688721,
          3.7801032066345215,
          4.824446201324463,
          4.154613018035889,
          3.220292091369629,
          4.3469367027282715,
          3.79386830329895,
          4.758703231811523,
          4.567905902862549,
          5.115088939666748,
          3.9183759689331055,
          2.9100990295410156,
          3.781747341156006,
          3.9984593391418457,
          3.6125776767730713,
          3.9936776161193848,
          5.604443550109863,
          5.0398640632629395,
          4.11578369140625,
          3.6748833656311035,
          3.0713183879852295,
          3.6866445541381836,
          3.3310017585754395,
          3.7745893001556396,
          2.895932674407959,
          2.4751782417297363,
          4.665764808654785,
          5.98179817199707,
          3.438136577606201,
          2.086831569671631,
          3.7252883911132812,
          3.8675942420959473,
          3.342346668243408,
          5.533933162689209,
          2.8817219734191895,
          3.1589114665985107,
          2.239651918411255,
          3.9371531009674072,
          3.8267855644226074,
          4.117630958557129,
          3.486664056777954,
          4.358332633972168,
          3.658456802368164,
          4.2272443771362305,
          4.762129306793213,
          2.3929553031921387,
          4.610702037811279,
          3.015820026397705,
          5.368371486663818,
          5.254579067230225,
          3.00223445892334,
          5.10164737701416,
          4.115235805511475,
          3.727216958999634,
          3.170499086380005,
          5.47903299331665,
          3.5892579555511475,
          5.28668212890625,
          2.0940582752227783,
          5.8605265617370605,
          4.597385883331299,
          3.468262195587158,
          2.7156972885131836,
          2.5642056465148926,
          4.818866729736328,
          4.338599681854248,
          4.044366359710693,
          2.986267328262329,
          5.603221893310547,
          2.6690542697906494,
          2.610208749771118,
          4.72264289855957,
          2.2096846103668213,
          2.182755708694458,
          4.260253429412842,
          3.52897310256958,
          4.729222297668457,
          3.3011651039123535,
          4.210640907287598,
          4.415060520172119,
          4.201195240020752,
          5.081634998321533,
          4.461785316467285,
          5.230312824249268,
          4.014899253845215,
          2.681410074234009,
          3.8477251529693604,
          2.9381935596466064,
          3.3977928161621094,
          2.7913577556610107,
          3.612119674682617,
          2.255709409713745,
          4.059023857116699,
          2.871532678604126,
          2.375088691711426,
          2.1493563652038574,
          3.480527400970459,
          3.890482187271118,
          5.323879718780518,
          2.5877737998962402,
          3.987841844558716,
          3.1165976524353027,
          4.0927205085754395,
          2.108637571334839,
          5.382009029388428,
          5.035295486450195,
          4.984601020812988,
          4.823432445526123,
          3.2302629947662354,
          3.388167142868042,
          4.7557220458984375,
          2.0635688304901123,
          4.419430255889893,
          2.442017078399658,
          3.0412752628326416,
          3.0757174491882324,
          3.010187864303589,
          4.172736644744873,
          3.9546866416931152,
          4.085580825805664,
          2.154721260070801,
          4.620034694671631,
          3.740821123123169,
          3.497824192047119,
          2.9121158123016357,
          3.0931055545806885,
          3.188420057296753,
          2.948631525039673,
          2.601890802383423,
          4.211382865905762,
          2.669943332672119,
          4.222869396209717,
          4.96696138381958,
          2.002227306365967,
          3.72961688041687,
          4.950110912322998,
          4.133432388305664,
          3.4038712978363037,
          3.806352376937866,
          2.8096024990081787,
          4.382195949554443,
          3.556370496749878,
          4.8693437576293945,
          3.508336305618286,
          2.9774274826049805,
          3.4164071083068848,
          3.4191126823425293,
          2.1992645263671875,
          4.556284427642822,
          3.2878570556640625,
          4.158709526062012,
          4.247646331787109,
          3.2811686992645264,
          2.971113443374634,
          3.2787556648254395,
          4.098655700683594,
          4.404407024383545,
          5.069979667663574,
          2.098659038543701,
          3.3146767616271973,
          3.095571517944336,
          2.392794370651245,
          3.6772470474243164,
          5.187294006347656,
          3.442885398864746,
          2.973860025405884,
          2.801105260848999,
          3.0396194458007812,
          4.990891933441162,
          3.0958526134490967
         ],
         "yaxis": "y"
        },
        {
         "hovertemplate": "color=James Bland<br>Axis x=%{x}<br>Axis y=%{y}<extra></extra>",
         "legendgroup": "James Bland",
         "marker": {
          "color": "#00cc96",
          "opacity": 1,
          "symbol": "circle"
         },
         "mode": "markers",
         "name": "James Bland",
         "orientation": "v",
         "showlegend": true,
         "type": "scatter",
         "x": [
          9.228672981262207,
          9.672572135925293,
          10.537558555603027,
          7.736486434936523,
          10.673572540283203,
          9.024818420410156,
          10.692873001098633,
          10.813634872436523,
          8.953609466552734,
          10.00100326538086,
          10.852215766906738,
          9.458823204040527,
          9.883423805236816,
          9.68192195892334,
          9.265869140625,
          9.082042694091797,
          11.012977600097656,
          10.091287612915039,
          11.063360214233398,
          10.072962760925293,
          11.097960472106934,
          7.418248653411865,
          9.474961280822754,
          8.157705307006836,
          10.982571601867676,
          10.542464256286621,
          10.510334968566895,
          9.676589965820312,
          10.772128105163574,
          8.720077514648438,
          10.610135078430176,
          10.2576904296875,
          9.406049728393555,
          11.012065887451172,
          8.219014167785645,
          10.650439262390137,
          10.582149505615234,
          8.01340103149414,
          9.154316902160645,
          8.281393051147461,
          8.101988792419434,
          10.282273292541504,
          10.66186809539795,
          9.379015922546387,
          9.739761352539062,
          10.415780067443848,
          8.851179122924805,
          9.414042472839355,
          9.288572311401367,
          10.141470909118652,
          9.368085861206055,
          9.205528259277344,
          10.632360458374023,
          9.125903129577637,
          10.475423812866211,
          10.029626846313477,
          9.242352485656738,
          11.019975662231445,
          10.536844253540039,
          9.381269454956055,
          9.711265563964844,
          9.221899032592773,
          8.825508117675781,
          9.196885108947754,
          8.775735855102539,
          9.230948448181152,
          9.86405086517334,
          9.597352027893066,
          8.42017936706543,
          10.790874481201172,
          10.823346138000488,
          8.793935775756836,
          9.280882835388184,
          9.386035919189453,
          10.566080093383789,
          9.077969551086426,
          9.519500732421875,
          10.392715454101562,
          8.939204216003418,
          9.39676284790039,
          8.903642654418945,
          9.304495811462402,
          9.134600639343262,
          9.647208213806152,
          8.62477970123291,
          8.874157905578613,
          8.867598533630371,
          10.314679145812988,
          10.786431312561035,
          9.69958782196045,
          10.401270866394043,
          9.247797966003418,
          9.179779052734375,
          9.043379783630371,
          8.870352745056152,
          9.218517303466797,
          8.90848445892334,
          8.707061767578125,
          9.331239700317383,
          10.878888130187988,
          10.240078926086426,
          9.061725616455078,
          9.439153671264648,
          10.310775756835938,
          10.739263534545898,
          9.090360641479492,
          9.21827507019043,
          9.46254825592041,
          9.157485008239746,
          9.28537368774414,
          9.052848815917969,
          7.4332098960876465,
          9.04659652709961,
          11.047157287597656,
          9.436152458190918,
          11.14427375793457,
          9.233763694763184,
          10.817943572998047,
          8.7470064163208,
          10.255050659179688,
          10.512857437133789,
          9.68491268157959,
          9.293272018432617,
          8.173083305358887,
          9.233895301818848,
          9.21470832824707,
          10.586590766906738,
          9.08948802947998,
          9.378162384033203,
          9.495359420776367,
          9.729360580444336,
          9.88230037689209,
          9.32733154296875,
          10.590265274047852,
          8.82476806640625,
          8.948502540588379,
          10.730745315551758,
          10.856220245361328,
          9.155638694763184,
          9.05505657196045,
          10.688986778259277
         ],
         "xaxis": "x",
         "y": [
          3.3452131748199463,
          3.4919896125793457,
          3.254213333129883,
          2.463563919067383,
          3.273151397705078,
          3.467250108718872,
          3.37454891204834,
          3.201981544494629,
          3.1002211570739746,
          3.2220184803009033,
          3.1316275596618652,
          3.920464515686035,
          3.121185064315796,
          3.253011703491211,
          3.69386625289917,
          3.8866708278656006,
          3.2298836708068848,
          3.219292163848877,
          3.162367582321167,
          3.4439313411712646,
          3.1733880043029785,
          2.171501636505127,
          3.770642042160034,
          3.222377061843872,
          3.2607533931732178,
          3.411778211593628,
          3.192814350128174,
          4.085090637207031,
          3.0931973457336426,
          5.121588230133057,
          3.203139066696167,
          3.7246651649475098,
          3.1974709033966064,
          3.1827592849731445,
          2.466987133026123,
          3.2055788040161133,
          3.28108811378479,
          2.613057851791382,
          3.0687854290008545,
          3.1323516368865967,
          2.55543851852417,
          3.696850061416626,
          3.4665963649749756,
          3.6454896926879883,
          3.0530617237091064,
          3.297070026397705,
          4.395866394042969,
          3.6612348556518555,
          3.293628692626953,
          3.488483428955078,
          3.294461488723755,
          3.8813791275024414,
          3.124629259109497,
          3.146284341812134,
          3.4751720428466797,
          3.41713547706604,
          3.650571346282959,
          3.2992615699768066,
          3.0924882888793945,
          3.416616678237915,
          3.092332601547241,
          4.0740556716918945,
          5.055649757385254,
          4.667484283447266,
          5.190114974975586,
          4.722371578216553,
          3.7286953926086426,
          3.2775461673736572,
          3.1300830841064453,
          3.368259906768799,
          3.2231059074401855,
          3.1815309524536133,
          4.252353191375732,
          3.728651285171509,
          3.1805028915405273,
          3.901139497756958,
          3.862936496734619,
          3.5747880935668945,
          3.522535562515259,
          3.6667466163635254,
          2.8755571842193604,
          3.070943832397461,
          4.506265640258789,
          3.8237297534942627,
          4.8353190422058105,
          3.747143507003784,
          2.8247859477996826,
          3.5804495811462402,
          3.2520039081573486,
          3.089991807937622,
          3.263361692428589,
          3.7086217403411865,
          3.0641558170318604,
          3.789952516555786,
          5.011048793792725,
          3.5782103538513184,
          4.882993221282959,
          4.694098472595215,
          3.201841115951538,
          3.1658413410186768,
          3.676286220550537,
          3.571497678756714,
          4.378610134124756,
          3.610032558441162,
          3.4702987670898438,
          3.8838183879852295,
          3.7631754875183105,
          4.178476810455322,
          4.666384696960449,
          3.4126460552215576,
          3.433509111404419,
          2.242814779281616,
          4.099790096282959,
          3.1723251342773438,
          4.186430931091309,
          3.1349284648895264,
          4.537280559539795,
          3.159330368041992,
          3.4247243404388428,
          3.4274446964263916,
          3.508382558822632,
          2.93359375,
          3.2711377143859863,
          3.1321921348571777,
          4.009223937988281,
          3.978290319442749,
          3.4883205890655518,
          4.769411087036133,
          4.403886318206787,
          4.230119705200195,
          3.865483283996582,
          3.5843629837036133,
          3.1144256591796875,
          3.5230727195739746,
          2.6777679920196533,
          3.150505304336548,
          3.0748279094696045,
          3.3544633388519287,
          3.26231050491333,
          4.752222061157227,
          3.459345579147339
         ],
         "yaxis": "y"
        },
        {
         "hovertemplate": "color=Marcel Stout<br>Axis x=%{x}<br>Axis y=%{y}<extra></extra>",
         "legendgroup": "Marcel Stout",
         "marker": {
          "color": "#ab63fa",
          "opacity": 1,
          "symbol": "circle"
         },
         "mode": "markers",
         "name": "Marcel Stout",
         "orientation": "v",
         "showlegend": true,
         "type": "scatter",
         "x": [
          6.579113960266113,
          5.240030288696289,
          6.16143274307251,
          4.366636753082275,
          4.134338855743408,
          3.556856870651245,
          5.323836803436279,
          5.005130767822266,
          6.7586989402771,
          5.060747146606445,
          4.841104984283447,
          4.34663200378418,
          5.3587446212768555,
          3.9842233657836914,
          4.940629005432129,
          4.561428546905518,
          5.289803981781006,
          5.227192401885986,
          5.083498001098633,
          4.8139824867248535,
          3.711059808731079,
          4.484748840332031,
          5.415224552154541,
          5.669811248779297,
          4.454310417175293,
          5.462723731994629,
          6.266841888427734,
          5.724868297576904,
          5.566643238067627,
          3.8612923622131348,
          8.35107707977295,
          5.131258010864258,
          4.855550765991211,
          5.2298665046691895,
          4.121219158172607,
          3.749453544616699,
          5.44991397857666,
          4.476084232330322,
          5.570241928100586,
          6.599562168121338,
          4.460598945617676,
          4.82784366607666,
          5.290802955627441,
          6.05913782119751,
          5.439239978790283,
          4.834630489349365,
          5.910397529602051,
          5.529721260070801,
          4.976070404052734,
          5.594862461090088,
          3.9384617805480957,
          5.350536823272705,
          4.171483993530273,
          4.560701370239258,
          5.79655647277832,
          3.5514156818389893,
          4.10231351852417,
          5.323310375213623,
          3.6324524879455566,
          3.6890459060668945,
          5.954339981079102,
          3.7826666831970215,
          5.028327941894531,
          4.703847885131836,
          6.157217979431152,
          6.1557087898254395,
          3.933929681777954,
          4.959244251251221,
          5.357158660888672,
          4.110293388366699,
          5.215592861175537,
          4.589363098144531,
          3.8689117431640625,
          4.406817436218262,
          5.525483131408691,
          6.072980880737305,
          4.864470481872559,
          5.05165958404541,
          4.373786449432373,
          6.880894184112549,
          5.98415470123291,
          4.1822991371154785,
          4.6157546043396,
          4.869008541107178,
          4.5413641929626465,
          4.508381366729736,
          4.389611721038818,
          5.83966588973999,
          4.362579822540283,
          6.274325370788574,
          3.545851469039917,
          4.6492109298706055,
          3.666583776473999,
          4.294685363769531,
          4.403857231140137,
          4.758655548095703,
          5.222245216369629,
          3.6932220458984375,
          5.721136093139648,
          6.148190975189209,
          5.8539042472839355,
          5.015422344207764,
          4.3112101554870605,
          6.184220790863037,
          4.025132179260254,
          3.925974130630493,
          5.344840049743652,
          5.291543483734131,
          5.48121452331543,
          3.6561522483825684,
          5.265514373779297,
          4.627554893493652,
          5.813968658447266,
          4.254535675048828,
          4.845546245574951,
          3.7302374839782715,
          5.459381103515625,
          3.848860263824463,
          4.879001140594482,
          3.5871410369873047,
          4.862942695617676,
          4.073843002319336,
          3.7825465202331543,
          5.741182327270508,
          3.663729667663574,
          5.590034484863281,
          5.8656086921691895,
          4.76358699798584,
          6.946463584899902,
          3.54439640045166,
          4.2344584465026855,
          4.746856212615967,
          5.254683017730713,
          6.3617682456970215,
          5.785133361816406,
          5.047667503356934,
          5.201790809631348,
          5.827795505523682,
          6.097438812255859,
          5.136642932891846,
          4.984255790710449,
          4.942143440246582,
          5.971158504486084,
          5.670945644378662,
          4.742422103881836,
          3.55279278755188,
          5.511865615844727,
          5.036632537841797,
          4.700952529907227,
          5.022556781768799,
          3.6313488483428955,
          4.387914180755615,
          5.713125228881836,
          6.125999450683594,
          3.6536459922790527,
          5.166970729827881,
          4.109158515930176,
          5.1776933670043945,
          3.9667723178863525,
          7.034301280975342,
          5.1879377365112305,
          4.023961067199707,
          3.7796475887298584,
          3.6726551055908203,
          5.6100754737854,
          5.52203369140625,
          3.560391902923584,
          4.038559913635254,
          6.454224586486816,
          8.529854774475098,
          4.372287750244141,
          4.514952182769775,
          5.002777099609375,
          4.725824356079102,
          5.588411331176758,
          5.724178314208984,
          5.3458781242370605,
          6.148032188415527,
          5.487386226654053,
          4.164720058441162,
          4.150712013244629,
          3.41176438331604,
          4.359079837799072,
          3.8327836990356445,
          7.102331161499023,
          5.797657012939453,
          5.726799011230469,
          5.751368999481201,
          4.812664985656738,
          5.332256317138672,
          6.295853614807129,
          6.01872444152832,
          5.436514377593994,
          5.0346221923828125,
          4.887042045593262,
          5.265065670013428
         ],
         "xaxis": "x",
         "y": [
          5.760341167449951,
          6.518185615539551,
          5.52827262878418,
          4.090987682342529,
          5.685379981994629,
          5.477238178253174,
          5.777987480163574,
          5.732522010803223,
          5.780705451965332,
          4.582527160644531,
          6.6322021484375,
          5.535109519958496,
          6.2239251136779785,
          5.05584716796875,
          6.023682594299316,
          4.45989465713501,
          6.648242950439453,
          4.462913990020752,
          5.172089576721191,
          6.6636176109313965,
          4.584897518157959,
          4.341874599456787,
          5.333650588989258,
          5.364788055419922,
          6.3386077880859375,
          6.468055248260498,
          5.213747024536133,
          6.320075988769531,
          6.633761405944824,
          5.382319450378418,
          5.39835786819458,
          6.734642505645752,
          6.699493885040283,
          4.672869682312012,
          5.217875957489014,
          5.134835720062256,
          6.433607578277588,
          4.624942779541016,
          6.190093040466309,
          6.176050662994385,
          5.396855354309082,
          4.047063827514648,
          5.037103652954102,
          6.0667643547058105,
          5.5730299949646,
          4.7732720375061035,
          5.190179347991943,
          6.562718391418457,
          4.802303314208984,
          5.414470672607422,
          5.620426177978516,
          6.530529022216797,
          4.366369724273682,
          4.158544540405273,
          6.3355488777160645,
          5.3983941078186035,
          5.638709545135498,
          6.732510089874268,
          5.419821739196777,
          5.366711139678955,
          5.832622528076172,
          4.866063594818115,
          6.653660297393799,
          4.755868434906006,
          5.357518672943115,
          4.961288928985596,
          5.364058971405029,
          4.868940353393555,
          5.372533321380615,
          5.3285017013549805,
          4.930692195892334,
          3.9034605026245117,
          4.998271942138672,
          5.519079208374023,
          6.6195855140686035,
          5.609879493713379,
          6.68688440322876,
          6.405945301055908,
          4.2804789543151855,
          5.7657084465026855,
          6.0741963386535645,
          4.511683464050293,
          6.495965957641602,
          4.357522010803223,
          5.894099235534668,
          5.614452362060547,
          5.2242350578308105,
          5.964756488800049,
          6.254273414611816,
          5.342250347137451,
          5.439016819000244,
          4.525311470031738,
          5.2753424644470215,
          5.124592304229736,
          5.046002388000488,
          4.691064357757568,
          5.810123920440674,
          5.245845317840576,
          5.416506767272949,
          4.822382926940918,
          5.893590927124023,
          4.234912395477295,
          5.614696025848389,
          5.320254802703857,
          4.475656509399414,
          5.100246429443359,
          6.56320333480835,
          6.720981121063232,
          4.764077663421631,
          5.586698532104492,
          4.287224769592285,
          4.1735100746154785,
          5.382606029510498,
          5.236530303955078,
          5.521363735198975,
          4.95089054107666,
          6.4849700927734375,
          4.552841663360596,
          6.685243606567383,
          5.52412748336792,
          6.66727352142334,
          4.911787033081055,
          5.447991847991943,
          5.798740386962891,
          4.901077747344971,
          6.595130443572998,
          5.995539665222168,
          6.669403076171875,
          5.728689193725586,
          4.73075008392334,
          5.360945224761963,
          5.229465961456299,
          4.7196502685546875,
          5.7860307693481445,
          5.461879253387451,
          4.253629684448242,
          6.772340774536133,
          4.9370646476745605,
          6.071863651275635,
          4.422916412353516,
          5.344906330108643,
          4.791581153869629,
          5.328440189361572,
          6.508350849151611,
          6.552797317504883,
          5.328507900238037,
          6.141108989715576,
          6.752577304840088,
          4.800856590270996,
          4.636873245239258,
          4.798526763916016,
          5.473444938659668,
          6.379868030548096,
          5.4180827140808105,
          5.485055446624756,
          4.247651100158691,
          5.676564693450928,
          6.705583095550537,
          4.788022994995117,
          5.738795280456543,
          6.558942794799805,
          5.489843368530273,
          4.757838726043701,
          5.499496936798096,
          4.603967666625977,
          6.542292594909668,
          5.461660385131836,
          4.465643882751465,
          5.461831569671631,
          5.408413410186768,
          5.20357608795166,
          5.246387481689453,
          6.675045013427734,
          4.716673851013184,
          6.114800930023193,
          6.22114372253418,
          6.658012866973877,
          4.945301532745361,
          5.227915287017822,
          4.908492565155029,
          5.404268741607666,
          5.225215435028076,
          4.47616720199585,
          4.950685501098633,
          5.6462721824646,
          6.146766662597656,
          5.62855863571167,
          5.4687042236328125,
          4.8173828125,
          5.012930393218994,
          5.517351150512695,
          5.48712682723999,
          4.945180892944336,
          6.785948276519775,
          5.272159099578857,
          4.803532123565674
         ],
         "yaxis": "y"
        }
       ],
       "layout": {
        "height": 600,
        "legend": {
         "title": {
          "text": "color"
         },
         "tracegroupgap": 0
        },
        "template": {
         "data": {
          "bar": [
           {
            "error_x": {
             "color": "#2a3f5f"
            },
            "error_y": {
             "color": "#2a3f5f"
            },
            "marker": {
             "line": {
              "color": "#E5ECF6",
              "width": 0.5
             },
             "pattern": {
              "fillmode": "overlay",
              "size": 10,
              "solidity": 0.2
             }
            },
            "type": "bar"
           }
          ],
          "barpolar": [
           {
            "marker": {
             "line": {
              "color": "#E5ECF6",
              "width": 0.5
             },
             "pattern": {
              "fillmode": "overlay",
              "size": 10,
              "solidity": 0.2
             }
            },
            "type": "barpolar"
           }
          ],
          "carpet": [
           {
            "aaxis": {
             "endlinecolor": "#2a3f5f",
             "gridcolor": "white",
             "linecolor": "white",
             "minorgridcolor": "white",
             "startlinecolor": "#2a3f5f"
            },
            "baxis": {
             "endlinecolor": "#2a3f5f",
             "gridcolor": "white",
             "linecolor": "white",
             "minorgridcolor": "white",
             "startlinecolor": "#2a3f5f"
            },
            "type": "carpet"
           }
          ],
          "choropleth": [
           {
            "colorbar": {
             "outlinewidth": 0,
             "ticks": ""
            },
            "type": "choropleth"
           }
          ],
          "contour": [
           {
            "colorbar": {
             "outlinewidth": 0,
             "ticks": ""
            },
            "colorscale": [
             [
              0,
              "#0d0887"
             ],
             [
              0.1111111111111111,
              "#46039f"
             ],
             [
              0.2222222222222222,
              "#7201a8"
             ],
             [
              0.3333333333333333,
              "#9c179e"
             ],
             [
              0.4444444444444444,
              "#bd3786"
             ],
             [
              0.5555555555555556,
              "#d8576b"
             ],
             [
              0.6666666666666666,
              "#ed7953"
             ],
             [
              0.7777777777777778,
              "#fb9f3a"
             ],
             [
              0.8888888888888888,
              "#fdca26"
             ],
             [
              1,
              "#f0f921"
             ]
            ],
            "type": "contour"
           }
          ],
          "contourcarpet": [
           {
            "colorbar": {
             "outlinewidth": 0,
             "ticks": ""
            },
            "type": "contourcarpet"
           }
          ],
          "heatmap": [
           {
            "colorbar": {
             "outlinewidth": 0,
             "ticks": ""
            },
            "colorscale": [
             [
              0,
              "#0d0887"
             ],
             [
              0.1111111111111111,
              "#46039f"
             ],
             [
              0.2222222222222222,
              "#7201a8"
             ],
             [
              0.3333333333333333,
              "#9c179e"
             ],
             [
              0.4444444444444444,
              "#bd3786"
             ],
             [
              0.5555555555555556,
              "#d8576b"
             ],
             [
              0.6666666666666666,
              "#ed7953"
             ],
             [
              0.7777777777777778,
              "#fb9f3a"
             ],
             [
              0.8888888888888888,
              "#fdca26"
             ],
             [
              1,
              "#f0f921"
             ]
            ],
            "type": "heatmap"
           }
          ],
          "heatmapgl": [
           {
            "colorbar": {
             "outlinewidth": 0,
             "ticks": ""
            },
            "colorscale": [
             [
              0,
              "#0d0887"
             ],
             [
              0.1111111111111111,
              "#46039f"
             ],
             [
              0.2222222222222222,
              "#7201a8"
             ],
             [
              0.3333333333333333,
              "#9c179e"
             ],
             [
              0.4444444444444444,
              "#bd3786"
             ],
             [
              0.5555555555555556,
              "#d8576b"
             ],
             [
              0.6666666666666666,
              "#ed7953"
             ],
             [
              0.7777777777777778,
              "#fb9f3a"
             ],
             [
              0.8888888888888888,
              "#fdca26"
             ],
             [
              1,
              "#f0f921"
             ]
            ],
            "type": "heatmapgl"
           }
          ],
          "histogram": [
           {
            "marker": {
             "pattern": {
              "fillmode": "overlay",
              "size": 10,
              "solidity": 0.2
             }
            },
            "type": "histogram"
           }
          ],
          "histogram2d": [
           {
            "colorbar": {
             "outlinewidth": 0,
             "ticks": ""
            },
            "colorscale": [
             [
              0,
              "#0d0887"
             ],
             [
              0.1111111111111111,
              "#46039f"
             ],
             [
              0.2222222222222222,
              "#7201a8"
             ],
             [
              0.3333333333333333,
              "#9c179e"
             ],
             [
              0.4444444444444444,
              "#bd3786"
             ],
             [
              0.5555555555555556,
              "#d8576b"
             ],
             [
              0.6666666666666666,
              "#ed7953"
             ],
             [
              0.7777777777777778,
              "#fb9f3a"
             ],
             [
              0.8888888888888888,
              "#fdca26"
             ],
             [
              1,
              "#f0f921"
             ]
            ],
            "type": "histogram2d"
           }
          ],
          "histogram2dcontour": [
           {
            "colorbar": {
             "outlinewidth": 0,
             "ticks": ""
            },
            "colorscale": [
             [
              0,
              "#0d0887"
             ],
             [
              0.1111111111111111,
              "#46039f"
             ],
             [
              0.2222222222222222,
              "#7201a8"
             ],
             [
              0.3333333333333333,
              "#9c179e"
             ],
             [
              0.4444444444444444,
              "#bd3786"
             ],
             [
              0.5555555555555556,
              "#d8576b"
             ],
             [
              0.6666666666666666,
              "#ed7953"
             ],
             [
              0.7777777777777778,
              "#fb9f3a"
             ],
             [
              0.8888888888888888,
              "#fdca26"
             ],
             [
              1,
              "#f0f921"
             ]
            ],
            "type": "histogram2dcontour"
           }
          ],
          "mesh3d": [
           {
            "colorbar": {
             "outlinewidth": 0,
             "ticks": ""
            },
            "type": "mesh3d"
           }
          ],
          "parcoords": [
           {
            "line": {
             "colorbar": {
              "outlinewidth": 0,
              "ticks": ""
             }
            },
            "type": "parcoords"
           }
          ],
          "pie": [
           {
            "automargin": true,
            "type": "pie"
           }
          ],
          "scatter": [
           {
            "fillpattern": {
             "fillmode": "overlay",
             "size": 10,
             "solidity": 0.2
            },
            "type": "scatter"
           }
          ],
          "scatter3d": [
           {
            "line": {
             "colorbar": {
              "outlinewidth": 0,
              "ticks": ""
             }
            },
            "marker": {
             "colorbar": {
              "outlinewidth": 0,
              "ticks": ""
             }
            },
            "type": "scatter3d"
           }
          ],
          "scattercarpet": [
           {
            "marker": {
             "colorbar": {
              "outlinewidth": 0,
              "ticks": ""
             }
            },
            "type": "scattercarpet"
           }
          ],
          "scattergeo": [
           {
            "marker": {
             "colorbar": {
              "outlinewidth": 0,
              "ticks": ""
             }
            },
            "type": "scattergeo"
           }
          ],
          "scattergl": [
           {
            "marker": {
             "colorbar": {
              "outlinewidth": 0,
              "ticks": ""
             }
            },
            "type": "scattergl"
           }
          ],
          "scattermapbox": [
           {
            "marker": {
             "colorbar": {
              "outlinewidth": 0,
              "ticks": ""
             }
            },
            "type": "scattermapbox"
           }
          ],
          "scatterpolar": [
           {
            "marker": {
             "colorbar": {
              "outlinewidth": 0,
              "ticks": ""
             }
            },
            "type": "scatterpolar"
           }
          ],
          "scatterpolargl": [
           {
            "marker": {
             "colorbar": {
              "outlinewidth": 0,
              "ticks": ""
             }
            },
            "type": "scatterpolargl"
           }
          ],
          "scatterternary": [
           {
            "marker": {
             "colorbar": {
              "outlinewidth": 0,
              "ticks": ""
             }
            },
            "type": "scatterternary"
           }
          ],
          "surface": [
           {
            "colorbar": {
             "outlinewidth": 0,
             "ticks": ""
            },
            "colorscale": [
             [
              0,
              "#0d0887"
             ],
             [
              0.1111111111111111,
              "#46039f"
             ],
             [
              0.2222222222222222,
              "#7201a8"
             ],
             [
              0.3333333333333333,
              "#9c179e"
             ],
             [
              0.4444444444444444,
              "#bd3786"
             ],
             [
              0.5555555555555556,
              "#d8576b"
             ],
             [
              0.6666666666666666,
              "#ed7953"
             ],
             [
              0.7777777777777778,
              "#fb9f3a"
             ],
             [
              0.8888888888888888,
              "#fdca26"
             ],
             [
              1,
              "#f0f921"
             ]
            ],
            "type": "surface"
           }
          ],
          "table": [
           {
            "cells": {
             "fill": {
              "color": "#EBF0F8"
             },
             "line": {
              "color": "white"
             }
            },
            "header": {
             "fill": {
              "color": "#C8D4E3"
             },
             "line": {
              "color": "white"
             }
            },
            "type": "table"
           }
          ]
         },
         "layout": {
          "annotationdefaults": {
           "arrowcolor": "#2a3f5f",
           "arrowhead": 0,
           "arrowwidth": 1
          },
          "autotypenumbers": "strict",
          "coloraxis": {
           "colorbar": {
            "outlinewidth": 0,
            "ticks": ""
           }
          },
          "colorscale": {
           "diverging": [
            [
             0,
             "#8e0152"
            ],
            [
             0.1,
             "#c51b7d"
            ],
            [
             0.2,
             "#de77ae"
            ],
            [
             0.3,
             "#f1b6da"
            ],
            [
             0.4,
             "#fde0ef"
            ],
            [
             0.5,
             "#f7f7f7"
            ],
            [
             0.6,
             "#e6f5d0"
            ],
            [
             0.7,
             "#b8e186"
            ],
            [
             0.8,
             "#7fbc41"
            ],
            [
             0.9,
             "#4d9221"
            ],
            [
             1,
             "#276419"
            ]
           ],
           "sequential": [
            [
             0,
             "#0d0887"
            ],
            [
             0.1111111111111111,
             "#46039f"
            ],
            [
             0.2222222222222222,
             "#7201a8"
            ],
            [
             0.3333333333333333,
             "#9c179e"
            ],
            [
             0.4444444444444444,
             "#bd3786"
            ],
            [
             0.5555555555555556,
             "#d8576b"
            ],
            [
             0.6666666666666666,
             "#ed7953"
            ],
            [
             0.7777777777777778,
             "#fb9f3a"
            ],
            [
             0.8888888888888888,
             "#fdca26"
            ],
            [
             1,
             "#f0f921"
            ]
           ],
           "sequentialminus": [
            [
             0,
             "#0d0887"
            ],
            [
             0.1111111111111111,
             "#46039f"
            ],
            [
             0.2222222222222222,
             "#7201a8"
            ],
            [
             0.3333333333333333,
             "#9c179e"
            ],
            [
             0.4444444444444444,
             "#bd3786"
            ],
            [
             0.5555555555555556,
             "#d8576b"
            ],
            [
             0.6666666666666666,
             "#ed7953"
            ],
            [
             0.7777777777777778,
             "#fb9f3a"
            ],
            [
             0.8888888888888888,
             "#fdca26"
            ],
            [
             1,
             "#f0f921"
            ]
           ]
          },
          "colorway": [
           "#636efa",
           "#EF553B",
           "#00cc96",
           "#ab63fa",
           "#FFA15A",
           "#19d3f3",
           "#FF6692",
           "#B6E880",
           "#FF97FF",
           "#FECB52"
          ],
          "font": {
           "color": "#2a3f5f"
          },
          "geo": {
           "bgcolor": "white",
           "lakecolor": "white",
           "landcolor": "#E5ECF6",
           "showlakes": true,
           "showland": true,
           "subunitcolor": "white"
          },
          "hoverlabel": {
           "align": "left"
          },
          "hovermode": "closest",
          "mapbox": {
           "style": "light"
          },
          "paper_bgcolor": "white",
          "plot_bgcolor": "#E5ECF6",
          "polar": {
           "angularaxis": {
            "gridcolor": "white",
            "linecolor": "white",
            "ticks": ""
           },
           "bgcolor": "#E5ECF6",
           "radialaxis": {
            "gridcolor": "white",
            "linecolor": "white",
            "ticks": ""
           }
          },
          "scene": {
           "xaxis": {
            "backgroundcolor": "#E5ECF6",
            "gridcolor": "white",
            "gridwidth": 2,
            "linecolor": "white",
            "showbackground": true,
            "ticks": "",
            "zerolinecolor": "white"
           },
           "yaxis": {
            "backgroundcolor": "#E5ECF6",
            "gridcolor": "white",
            "gridwidth": 2,
            "linecolor": "white",
            "showbackground": true,
            "ticks": "",
            "zerolinecolor": "white"
           },
           "zaxis": {
            "backgroundcolor": "#E5ECF6",
            "gridcolor": "white",
            "gridwidth": 2,
            "linecolor": "white",
            "showbackground": true,
            "ticks": "",
            "zerolinecolor": "white"
           }
          },
          "shapedefaults": {
           "line": {
            "color": "#2a3f5f"
           }
          },
          "ternary": {
           "aaxis": {
            "gridcolor": "white",
            "linecolor": "white",
            "ticks": ""
           },
           "baxis": {
            "gridcolor": "white",
            "linecolor": "white",
            "ticks": ""
           },
           "bgcolor": "#E5ECF6",
           "caxis": {
            "gridcolor": "white",
            "linecolor": "white",
            "ticks": ""
           }
          },
          "title": {
           "x": 0.05
          },
          "xaxis": {
           "automargin": true,
           "gridcolor": "white",
           "linecolor": "white",
           "ticks": "",
           "title": {
            "standoff": 15
           },
           "zerolinecolor": "white",
           "zerolinewidth": 2
          },
          "yaxis": {
           "automargin": true,
           "gridcolor": "white",
           "linecolor": "white",
           "ticks": "",
           "title": {
            "standoff": 15
           },
           "zerolinecolor": "white",
           "zerolinewidth": 2
          }
         }
        },
        "title": {
         "text": "UMAP of the 15 categories"
        },
        "width": 1000,
        "xaxis": {
         "anchor": "y",
         "domain": [
          0,
          1
         ],
         "range": [
          0,
          12
         ],
         "title": {
          "text": "Axis x"
         }
        },
        "yaxis": {
         "anchor": "x",
         "domain": [
          0,
          1
         ],
         "range": [
          1,
          7
         ],
         "title": {
          "text": "Axis y"
         }
        }
       }
      }
     },
     "metadata": {},
     "output_type": "display_data"
    }
   ],
   "source": [
    "#Plot of UMAP\n",
    "\n",
    "user_projected_umap.sort_values(by = 'cluster', inplace=True) #to guarantee color consistency\n",
    "cl_names = user_projected_umap['cluster'].apply(lambda cl: mapping_idx_name[cl])\n",
    "\n",
    "fig = px.scatter(user_projected_umap, x='Axis x', y='Axis y',opacity =1,\n",
    "             color = cl_names ,size_max =50,width=1000, height=600,title = 'UMAP of the 15 categories', range_x=[0,12], range_y =[1,7])\n",
    "\n",
    "fig.show()\n",
    "#fig.write_html(\"cluster_visual_umap.html\")"
   ]
  },
  {
   "cell_type": "code",
   "execution_count": 74,
   "metadata": {},
   "outputs": [
    {
     "data": {
      "application/vnd.plotly.v1+json": {
       "config": {
        "plotlyServerURL": "https://plot.ly"
       },
       "data": [
        {
         "mode": "markers",
         "name": "Jean-Michel IPA",
         "type": "scatter",
         "visible": true,
         "x": [
          18.04727616977291,
          14.667616564749322,
          5.923413144844566,
          15.13593904969089,
          4.966910633690099,
          7.184598718873918,
          13.068839751431579,
          10.339555620668634,
          11.322101292646222,
          8.757688971924967,
          4.3809751772721865,
          11.814816124811514,
          9.393921124270243,
          10.423781961065702,
          6.047573655295086,
          17.82627071818633,
          5.603051621585635,
          17.791674213604143,
          4.7413267296519885,
          5.541612259243362,
          11.326783367661745,
          16.778985429628676,
          5.579575113448707,
          16.35706684638405,
          11.332177060306131,
          13.652685008734162,
          20.566690484679466,
          5.999759114628469,
          16.460097412953395,
          9.417237858378806,
          22.648201593622122,
          15.446298688079624,
          5.322809886401512,
          17.553534953012267,
          6.2019744708352125,
          15.24971725884108,
          12.810224841927727,
          4.972612655341473,
          8.158876770795342,
          20.473843449626898,
          8.008118919661682,
          6.550778670525816,
          5.474570285207273,
          12.17495556266352,
          16.183649655043205,
          8.409127058984906,
          4.28973912547141,
          12.6327903110998,
          8.624719548551077,
          11.670074987691548,
          7.282159983285024,
          6.3305046651853765,
          5.429657729089543,
          12.57818646031539,
          9.63155819996885,
          7.549733008362677,
          18.557040565586888,
          23.509170022972395,
          5.4920219849327125,
          10.327794021505763,
          10.049474956917393,
          15.291477556863175,
          7.6109848163581,
          10.131086913986458,
          19.369566194098027,
          16.39734106280651,
          8.111119486891186,
          10.736991760602846,
          13.776698137811527,
          20.255598058323134,
          20.45622951530966,
          13.462803512995157,
          13.61017917603778,
          16.81451824662561,
          18.04788138684402,
          20.383439282745712,
          17.80540210048537,
          5.027143893906251,
          15.545831616257018,
          6.155714527217358,
          23.923063465619848,
          9.524267037627807,
          5.3039652382938085,
          25.383199411933823,
          20.540249782370076,
          21.774714044633622,
          8.692064414654588,
          20.750461078512494,
          7.469127577072557,
          17.814147609414768,
          12.266345747803971,
          4.992422539348236,
          9.894936915071654,
          10.131227130229156,
          17.90965967786949,
          11.717122973923406,
          20.131868667145184,
          15.972147270545292,
          5.810049437325992,
          8.603096137342106,
          6.648390838307438,
          12.153765222449302,
          19.499429189604697,
          12.234276295225689,
          22.25171644444501,
          15.56802203428044,
          9.097284143817529,
          14.076560141749283,
          6.9182790949858814,
          15.176727549456666,
          8.407581831437799,
          7.323500440708517,
          10.40215770495526,
          9.001236947658203,
          16.527281207644595,
          7.083890315725249,
          14.840546548463983,
          19.97345595043673,
          11.76866755533823,
          7.993716913608485,
          5.2855560177250345,
          8.435280335103046,
          11.516517285743602,
          7.042118933556821,
          11.548984175819754,
          12.7626112659996,
          5.5637115812127265,
          9.714670813689107,
          7.674129670873385,
          6.468018109217801,
          7.274830366194015,
          25.508080001766825,
          5.672102758760004,
          13.798101076045235,
          11.41340757011586,
          6.1694609936061156,
          5.35774901529084,
          12.396696480930085,
          19.473224987333484,
          26.463624600109668,
          9.369122821558301,
          11.998425884177466,
          8.449156958844512,
          14.33476528839469,
          10.266168426887447,
          16.21482095564983,
          8.06764303410462,
          18.015408161895216,
          6.737454124005212,
          9.820986956319148,
          20.504348157868648,
          21.567359748172308,
          12.657457656751752,
          5.93698409764398,
          5.593086011072863,
          15.662894895580557,
          8.086439741292375,
          9.330939082916418,
          12.961627445539886,
          7.92913084856585,
          8.315347226255192,
          11.757140464136137,
          14.158880378003873,
          15.213920988656461,
          17.454389164734838,
          13.24860822937079,
          3.8542338796155735,
          5.473909391450621,
          7.157152372555856,
          6.6504552865873725,
          17.042322964924768,
          19.57172791791866,
          17.709823521118828,
          6.8650113351024675,
          14.048072328796787,
          10.547284858338317,
          7.624436541854271,
          5.252138261330306,
          11.67919815756099,
          9.127093022801237,
          16.379661543488506,
          27.161990147043003,
          13.020617026101856,
          6.574370411365233,
          10.481421304979426,
          7.294330374264062,
          11.972114412352864,
          8.83376715768715,
          11.131402921966725,
          7.216827933949844,
          8.31767718912813,
          6.7400414682994905,
          20.26129462344237,
          26.106979445923603,
          10.922984850074695,
          9.309570785215948,
          21.070378396858395,
          7.276088832606462,
          5.754947036135818,
          18.46378107300019,
          19.884660427021906,
          12.155158095829226,
          5.559710538636933,
          17.97924083303037,
          5.000696446481807,
          18.276545196009508,
          5.880583384102143,
          5.6198452481200984,
          12.27235231204314,
          8.262445071931738,
          6.04909606167149,
          6.166280684850471,
          10.1146793581974,
          16.794430858002926,
          17.71444520706167,
          7.270213654377734,
          6.75680928442611,
          10.396799336737324,
          9.116512634583431,
          7.047082739975282,
          14.76810230064727,
          11.146230280491746,
          18.14529645377978,
          32.07893581590345,
          12.246415856374423,
          9.211511350954618,
          12.764338947121642,
          9.250369571096765,
          9.70057698809936,
          10.447766152726054,
          4.99370810200445,
          7.644808928184871,
          9.896878109611462,
          7.746876683965083,
          20.334697631890172,
          14.366790129776934,
          10.698707118760836,
          8.655288284259626,
          9.356338086885343
         ],
         "y": [
          -4.419624301758102,
          -0.7664808354981154,
          -3.601645700118146,
          0.3645181379944192,
          -0.7780156757859038,
          -7.6687384454483745,
          -1.0948825571300111,
          -2.8282224601829222,
          -4.556585454045103,
          -5.190333047892473,
          1.940982985373881,
          -6.433656305744415,
          3.6247070317894488,
          -1.6636469854839417,
          2.210302706002179,
          -3.250199130251777,
          -3.5812551062965694,
          0.8828693255038973,
          -3.796841651565845,
          0.9871960519229253,
          -1.1749600466186416,
          -5.972668451745927,
          3.1460646635385245,
          -1.92147191328945,
          -0.892126736107884,
          1.7144009855344091,
          -2.612205101403605,
          -8.989089078570082,
          -6.692649351310922,
          -4.263873172578598,
          -6.696187206817623,
          -6.763213287691025,
          -5.913266578021865,
          -7.398877582946777,
          -0.9840676657214004,
          -0.2597329092788838,
          -3.584322738309437,
          -1.3423433026590121,
          3.67401848329757,
          -2.3503124862171507,
          -3.130517136340596,
          -3.1529798744996254,
          0.5890657250266182,
          -2.0376537847439598,
          0.3096683258841708,
          -1.977825751517995,
          -4.656121358762934,
          -3.0674123529488684,
          -1.7714477691515076,
          -8.677681530012206,
          0.5348423738594288,
          -2.0412224343000807,
          -0.3589691443147234,
          -4.7135146276031765,
          0.36222465031263607,
          0.9970621964902822,
          2.0941441695219836,
          -8.873727835898274,
          -7.899285542541427,
          0.8126202756556724,
          -5.000385884656416,
          5.715794673581455,
          1.769407013415749,
          -2.3630787686816856,
          -3.57906751471787,
          -6.320045245640007,
          0.8567306790568706,
          2.8419208715302613,
          -6.3816458369829485,
          -5.114502802530195,
          -5.877378914322693,
          -5.791084375433236,
          -6.08181794276047,
          -4.244699307628821,
          -6.36898705996694,
          -8.247440277050519,
          -3.3664257865147325,
          -0.3487528570003847,
          1.7553659086570716,
          2.459153087226684,
          -4.8433256101011315,
          4.016386949352425,
          -1.305336485759782,
          -4.481664309931108,
          3.6623183280915663,
          -6.31519249075097,
          2.877855033461716,
          0.35695603992092484,
          -0.8722569118440818,
          -9.928833355754447,
          3.098843500932922,
          -6.849429156966346,
          4.567918623830159,
          -0.5844867411872265,
          -6.432558146138553,
          5.177881461034743,
          1.3828724676576665,
          -0.09706183597909633,
          -4.985336104692342,
          3.699418146084611,
          -3.499058329892699,
          -4.118592289400317,
          -4.575260661556237,
          -3.7371797412734313,
          -1.8794510576072874,
          -8.000097360362046,
          -2.2077274712469217,
          2.084232700862712,
          1.553647141184071,
          -5.078941217423405,
          4.167169439654258,
          -5.421797102053992,
          0.27054239724137835,
          -1.4763927383248505,
          7.855419327569456,
          -8.10632937131145,
          -3.908820340372169,
          -5.340780307975488,
          3.8338521310407763,
          0.11145858157717124,
          -3.4234597609383606,
          2.1080165611725636,
          1.6104559307666761,
          -1.6751757869649326,
          3.1627084909638845,
          -2.14979965254659,
          2.176792828395695,
          3.536965176940201,
          -4.817580253346011,
          -8.190097848495823,
          4.674199900003862,
          0.8115624454494432,
          -4.159923517451112,
          -7.215701916588442,
          -3.6603682059368494,
          -1.4424589091098288,
          -4.682986568664001,
          -6.549875845301271,
          0.1342629978162458,
          -7.42569371343263,
          0.8881455471015328,
          3.0894904388640114,
          -6.678120267677275,
          -2.8949060640882536,
          -4.869663823985118,
          -5.351531128903103,
          0.8247937951485149,
          -7.797433883622853,
          -0.319791758710603,
          2.7522540072950323,
          -5.801999230626689,
          -4.465703890141491,
          3.0904944296722903,
          -3.573931462451646,
          -0.2891733130904267,
          -9.093583268807711,
          -5.637784423164067,
          -5.605953988984753,
          -7.051603842572474,
          -8.952665719799361,
          1.169571094056705,
          -4.5026168600472145,
          -6.509865479800453,
          1.1712865161336876,
          0.30658267167327985,
          -1.9774451071021821,
          -6.164169463044676,
          0.8216055758589728,
          -5.558878462790586,
          -2.839245018709133,
          -3.433171343309957,
          3.0370282394375194,
          -5.151154301696446,
          -2.386181892101558,
          -1.7639463114314293,
          6.108770044499508,
          5.814584941474739,
          -1.4542106546241922,
          -0.49762838541356996,
          0.16835582328822132,
          0.21695866235856429,
          -5.312104665663603,
          -3.629380562171182,
          -1.3043878407371072,
          -5.817948735916506,
          -0.41943064609314273,
          -3.5890721138624713,
          -2.9412193918418357,
          -6.0839961525565025,
          -9.133552270937209,
          4.427338781848879,
          -4.141132616300873,
          -3.0579222852297976,
          -6.252104654890319,
          -3.6688344190822093,
          4.7941412020282055,
          -6.71185786621984,
          -1.0195304549716748,
          0.5180770662560301,
          -7.296703526808988,
          -2.5016034222087926,
          -6.071765788981588,
          -1.59455490295455,
          -7.679186328816313,
          -2.1636531806454586,
          -8.231247881247707,
          -4.1141457006501225,
          -1.9370473943075273,
          0.8058621377281239,
          -1.5609105810577946,
          2.446677839885848,
          3.6485377356759003,
          -3.762679894861293,
          -9.05756340358235,
          -4.288247717335357,
          -0.6217727348695944,
          -0.7080336141742031,
          -6.34083525719718,
          0.5398859631399723,
          -7.660670758931883,
          -1.1720587490637655,
          -5.164590715189411,
          0.10543325797018288,
          -7.29703967603831,
          -3.11213695219664,
          0.6620979501282844,
          -6.660126926319658,
          -1.0371886950023015,
          7.7105125757638575,
          3.5362269956107237,
          -3.4002422814938695,
          -1.282488428861186,
          -5.620558757307534,
          5.235397247460709,
          -4.850009070010678,
          1.56564621049796,
          6.037139764924069,
          -2.58370204014208,
          -2.8788613781175507
         ]
        },
        {
         "mode": "markers",
         "name": "Ada the explorer",
         "type": "scatter",
         "visible": true,
         "x": [
          -1.292770774814605,
          2.348664077309785,
          -10.039098367393828,
          -2.5947057854245426,
          1.933255700761848,
          -10.806070251344499,
          -11.707770647162643,
          1.4227778102141455,
          -9.492169671615128,
          -7.844020695888033,
          -9.286791973201067,
          -7.933237321881214,
          -6.47643551326861,
          -9.404181452401865,
          -7.125743340154772,
          -5.292031804950511,
          2.5808312568861735,
          0.04865472842319053,
          0.39902159555090605,
          -0.08211905834721756,
          -1.9696376908156354,
          -8.1687410104572,
          -6.966955376077272,
          -3.6449472004440944,
          0.49458143596374365,
          -11.90293183229457,
          -2.0675626442283574,
          -6.294733433228913,
          -4.170424612877956,
          -1.2932735175312913,
          2.5532219953661994,
          -9.484221405866068,
          0.18536442145993895,
          3.380648116066544,
          -5.70953968522505,
          -10.331361974890365,
          4.327159376362419,
          -9.365648103077111,
          -4.568622750056086,
          -7.377000693227753,
          -7.20099874743338,
          -6.634671875986998,
          0.36827660169159143,
          2.7030099980825555,
          -3.290945261068043,
          -8.256032120745934,
          -0.17431070404686527,
          -2.232524681797478,
          -0.8800575101906795,
          -4.730115579679968,
          -3.419019878865192,
          -2.7965505084198803,
          1.1592462425514116,
          1.1571822117511874,
          -0.29626340788905803,
          -0.700579589360192,
          3.2026690974612464,
          -1.1588380539634724,
          -8.726746477514391,
          -1.2468058521490468,
          -0.8288057555624097,
          -11.531188858704558,
          -6.9387481984459285,
          4.351380322847406,
          -2.4369265331319365,
          -2.976452080554165,
          -5.158186869494743,
          2.620577576660245,
          -0.2666308670758263,
          -3.7519169429908414,
          -10.489323275484203,
          -9.24256597018521,
          -4.708740104739195,
          -7.413270583965453,
          -7.323465150690092,
          0.42850181575020596,
          -6.180878673539984,
          -1.4723812064305692,
          -7.253867015775729,
          -1.8828054800779515,
          4.259867122685376,
          -9.238036164108854,
          -0.338257041886105,
          2.133490834546779,
          0.2775417690554035,
          -8.645125318525452,
          -7.737556683536613,
          2.620747771915073,
          -7.705890598698669,
          -2.8016994953900207,
          -2.228927916129453,
          -3.403186079675037,
          2.3736614250951056,
          0.025049419102959145,
          2.372780575382235,
          -11.306771347361423,
          2.242317332338101,
          -1.7569156097484488,
          -2.5718992402009127,
          -0.7461589829964733,
          0.5992292044460844,
          -7.463019567179888,
          -4.420727576330465,
          -7.766624836043342,
          -6.585677696744939,
          -5.392186996580292,
          -5.72426108405867,
          -7.581225236144614,
          -9.553781060133725,
          -2.1719915279284057,
          -8.338366765647347,
          -7.485584790025115,
          -6.581052757235382,
          -2.2897634485153895,
          -8.324735940233952,
          -2.662247308354679,
          -0.935634641508706,
          -7.163490048470767,
          -4.602745754003557,
          1.7320563658075996,
          -5.702971300186617,
          -5.439886796140529,
          -4.6663184889382165,
          1.790625110374183,
          -5.526464788783071,
          2.8616327927244014,
          -0.7360647803465131,
          -10.634542316150855,
          3.515756709534943,
          -0.296540741851716,
          3.78132951144846,
          -8.030122660438696,
          -8.836725920695704,
          -1.2260948772384133,
          3.1231927196373035,
          -3.556504469913973,
          -1.3114400662064176,
          -5.049144606522498,
          -5.390169973117792,
          -11.893111750561044,
          -0.9967183188010338,
          3.54615014621418,
          1.9740368925729388,
          -9.987971296414576,
          -2.738071292876247,
          3.0346594716313744,
          0.7468857938826501,
          -1.6543470265246267,
          -7.32648718008435,
          -8.883741111128295,
          -5.513643033965492,
          -11.567591749837003,
          2.9085310287694974,
          -2.4005078551748325,
          -3.4645153674215154,
          -2.887910237663839,
          0.22126897978017723,
          -6.777689292897322,
          -9.12326526999277,
          -1.3459929387378708,
          3.70192889231693,
          -4.83437845897595,
          1.4387808351931959,
          -0.7551134304161234,
          0.9053274690838523,
          -6.4816427946503925,
          -2.727525417386442,
          -3.1073249591469136,
          -6.517014614055102,
          -7.3436265310217435,
          -7.727681424507229,
          -1.930176385368873,
          -5.256927183069563,
          -2.910459242047083,
          -3.116013922344229,
          -2.1003221983257627,
          -1.9987645642937513,
          -3.9168705781865674,
          -6.373983377186454,
          -3.2517241116267197,
          2.081497861726684,
          -4.060087610390247,
          2.7562555452943855,
          -9.893182082889815,
          4.815056275342552,
          0.7337729931436642,
          -3.043403439485871,
          -7.701406830446424,
          -8.739221975920442,
          0.2469472047033588,
          -4.026693659715524,
          2.1862919774694376,
          1.5735583977182586,
          -2.1871139237017783,
          -8.304019927773053,
          1.0649081261751216,
          -9.005738724700885,
          0.6451258703049975,
          -8.333703043871145,
          -9.620822903668934,
          -1.483129984011132,
          -0.6798420633984943,
          -6.426394632970532,
          -2.861906816483844,
          -8.800871402462683,
          -7.645236361109199,
          -3.2510604688926725,
          -0.7430104791879711,
          -6.862151286972534,
          -6.565775235961493,
          -5.988966242492595,
          -3.6758002191559718,
          -10.747428362378498,
          -7.8630404318105205,
          -1.5723650886598641,
          -1.1436929526150605,
          -3.4577439066985067,
          1.6851468853424418,
          -1.1618548692430157,
          -5.553263263691524,
          -9.52979354155746,
          -9.272648043721706,
          1.9235144624422778,
          -4.791555991875545,
          -6.81023723101211,
          -5.317316886504237,
          -8.561993257550322,
          -4.483133547589568,
          1.187878881902747,
          -8.38487876874015,
          -3.0702092555756786,
          -10.572537634164215,
          -7.899441382382921,
          -11.208856453252144,
          -9.945163636270635,
          -0.23282211679217565,
          -5.893675205074846,
          -5.336102925106736,
          -6.666159260605413,
          -0.16007816327603633,
          -8.333261886499473,
          -4.922773186928811,
          -0.4076696363184138,
          -5.547607640133639,
          -1.345552596572036,
          1.7310164117780225,
          1.8041331296746221,
          0.4500050829295875,
          -0.5134524607058607,
          0.7592402457179246,
          -7.686567791804933,
          -8.490247146821652,
          3.923743628048395,
          -0.8788652621783096,
          -6.0531898807510185,
          0.7952697818505768,
          1.1156102621612718,
          -6.833538581477435,
          3.5447241171149404,
          3.0458847364976855,
          -1.456904145924652,
          -1.3504861684605431,
          -3.9362618742923927,
          -8.520621978956527,
          -0.8867788220683905,
          1.7659045698816778,
          -3.7222852865751084,
          -5.225772946461313,
          -3.618317935800263,
          2.0306537434978833,
          -8.614953215250273,
          -3.2362181539099697,
          -7.975733922823783,
          -10.964137774262815,
          1.1410033423536001,
          -5.212123764067362,
          -7.409294517804993,
          -9.135614730563269,
          -1.0717158756822736,
          -11.928062553233872,
          -4.645234366580281,
          -5.7887305075016044,
          1.30587075680877,
          -7.485855138792079,
          -4.147447964866415,
          -7.233725734542972,
          -1.7627615231208897,
          3.6925914793541432,
          -4.745462550174662,
          -5.7348124369404845,
          0.014417956824498037,
          2.8591399472272,
          -8.758366407187907,
          -0.1806105134008494,
          2.1645007334010193,
          -6.2687254176402325,
          -0.1467475552577984,
          2.1288622921263234,
          -3.7507815356112144,
          -6.195367960153133,
          -0.6926987048140292,
          -2.9730071928024406,
          0.1242222827507556,
          -4.7507971628909145,
          -5.3185703300665,
          -5.6829831718756765,
          0.3358142127187917,
          -8.610319225434834,
          -4.371926573397498,
          3.469651447380873,
          -8.154982296032614,
          2.9435455306907756,
          -3.813938177863697,
          2.4074148999949374,
          -6.829830437269433,
          3.361920888366677,
          2.053604212160255,
          1.9985981098401653,
          -0.6969478706382349,
          2.2180614427547307,
          4.079086278345374,
          -1.8222328451514793,
          -7.029521506421024,
          3.7366929332673107,
          -7.160272729294199,
          -2.7210693838744184,
          4.046512236313135,
          1.886946518252846,
          -9.883700229135696,
          -7.870957935744603,
          -3.630934900440064,
          -4.950810453113946,
          -5.496544199883692,
          2.131999800521182,
          -2.273463482350792,
          2.620173397965337,
          -0.9677046878675546,
          1.3302181265063266,
          -4.03848976052435,
          -1.3875300039067266,
          -6.007223236487115,
          -3.1214915509708026,
          -2.4920838315153966,
          -7.251837145368361,
          -1.5218219400434378,
          -3.9662386758180594,
          -2.5892354965007898,
          -2.4185452587246914,
          3.485074456392838,
          -4.256532491259687,
          -1.4052659985939902,
          1.6354126643381588,
          -0.7114571469556151,
          -6.576765285179156,
          3.683843105162025,
          -0.4529641158924304,
          -11.132211045208876,
          1.6011979905045814,
          2.8569181726569344,
          -5.480898713867151,
          -3.4672088805478225,
          -5.3494044501765625,
          0.6385338235640846,
          -2.6122766019190307,
          -3.5091205376641534,
          -3.272792861972336,
          -5.394262114171165,
          2.434856992226436,
          2.3430737817457454,
          -0.14979787028971525,
          -0.5411515503945645,
          -0.2972991807036975,
          -5.836836032158211,
          4.796092810892218,
          -4.980824305829454,
          -7.966097910550473,
          4.350914528894918,
          2.01225940430923,
          2.194681681388696,
          -0.16916083446637334,
          -2.9880302174102797,
          -9.521491806454176,
          3.175041090631391,
          -2.6597581466900326,
          -5.447940305650794,
          3.3186670359997854,
          -7.812887145456835,
          -4.216805475296811,
          -1.8301446619530373,
          -3.2883449359708057,
          0.4717230750772856,
          -3.4733190990092613,
          -1.8894883896291885,
          4.110913664702953
         ],
         "y": [
          -5.231377690857776,
          -2.334498493175167,
          1.4263877484228202,
          2.388510492097378,
          -4.743033374149757,
          -4.048946057149949,
          -1.328160437659605,
          2.1174784671203,
          2.726524432560832,
          3.4054475574573844,
          2.025477598291277,
          0.7069434544069747,
          -1.029416884154045,
          -2.429011890973167,
          3.1816339034275907,
          -0.16710375670436453,
          -8.730768791255343,
          2.9966743364026915,
          -3.3010912787463162,
          -7.480091468537743,
          -0.2758254897974041,
          -4.474794555451879,
          4.080746387897272,
          1.9736124655055272,
          -3.9317035349125686,
          -0.8232903488487322,
          -7.5859886889336625,
          -2.5572620857797337,
          1.678721287026692,
          -2.849083180213157,
          -6.328799980939851,
          3.977753287666563,
          -4.897768329316188,
          2.4208288433771243,
          3.485833017955494,
          1.86283208258582,
          -1.2938713627542726,
          -1.8793180620960552,
          -2.4521618656027084,
          2.742292801848145,
          -2.0364477073212592,
          -0.513007960634099,
          0.4118970061515941,
          -1.2467323114701618,
          -5.968131077584406,
          -0.5860603845856149,
          -1.1579635136144226,
          -5.241430686584441,
          -3.987973138275134,
          0.12488599104144588,
          0.1426032546908627,
          -1.55796596662358,
          -4.570469838963539,
          -4.034308942815034,
          1.674679902734718,
          1.8259075092222212,
          -3.517657447378076,
          -4.456175599644096,
          2.51464506446317,
          -4.959589086234772,
          2.524757905093515,
          1.7855058205572554,
          -7.449442034209103,
          2.3423474113407696,
          2.13772987058438,
          1.850344325114347,
          0.5122054949960121,
          2.2948138300245025,
          -1.3679201270444574,
          0.8029424540237273,
          -5.280145440047147,
          0.447008066633825,
          -0.2559119976006509,
          4.072489612020049,
          2.595074372020911,
          -3.86276115047114,
          4.528976613352516,
          -6.095422923924971,
          0.9128244213248404,
          -0.7292922527300524,
          -0.8954513838886151,
          5.93042485232659,
          -6.154005287924512,
          -3.0312147744866693,
          0.978959844205664,
          4.124796027589309,
          -1.3489144346075397,
          -2.192484996664613,
          -3.9790338715533236,
          -0.18361984860838926,
          0.2739670487976533,
          -1.7061491516899372,
          3.1130246762580898,
          -0.40052252502088237,
          -6.7263916864724,
          -4.088901804972911,
          -1.250505692578052,
          -2.562258654688844,
          -0.8659440631629053,
          2.110310226437745,
          0.6498964108301091,
          -0.9115501144488817,
          0.10154231835380308,
          0.14895029381526997,
          -5.180649123394979,
          0.9007341439156722,
          2.036291076729301,
          -4.73739173429136,
          3.845727330906669,
          -7.950353202438603,
          -3.4603895953331048,
          1.9309572205945438,
          -0.7788497311926643,
          -5.330404596526433,
          4.875571478629307,
          1.8231376794154066,
          -3.156547193341463,
          2.2284711517444564,
          4.1652562404980955,
          3.2587584884863423,
          4.527047599385879,
          -6.695512183313176,
          -3.768482813189526,
          0.6193154897692346,
          2.9475372412741887,
          0.7413959236657648,
          4.9996185817608785,
          0.3537549010125978,
          0.7720453377075998,
          -0.016761145861315826,
          -0.8147115840009392,
          1.3805367819650394,
          -7.0942187188144645,
          0.8102471705297242,
          2.351246768428412,
          -3.376829089214706,
          1.8123779599548169,
          2.6858747501001012,
          -0.310107863687572,
          -4.801681182704988,
          -6.366619826936679,
          -1.3210257781059738,
          -4.768714853095339,
          2.548330084006803,
          -0.1588031208063903,
          1.9246246890584635,
          -2.1448382008440574,
          -0.7451861744280555,
          4.61088088267702,
          5.576098751570548,
          -2.55313345049569,
          4.169888485171783,
          -6.343845657110121,
          0.3271946943494713,
          -5.278419963864785,
          -5.679055027365979,
          1.4951014825210958,
          5.238076897936629,
          -2.091804038378989,
          -6.021854363747802,
          -0.6921832581536004,
          -0.616249573132402,
          -2.926772665514963,
          -5.682854607346231,
          -3.43721567949241,
          -7.842783523409935,
          -5.666242378300898,
          1.7638374158081342,
          0.10659589531697175,
          -0.8454989895833185,
          -4.464553606201834,
          2.670550420802294,
          -4.718247002916655,
          -1.0353880887592823,
          -4.434805867890059,
          -1.2425823337503679,
          2.170493255236984,
          0.4339458910358769,
          -3.3049312499429706,
          -2.425460893400416,
          0.5176537060827799,
          -7.565623060682956,
          0.7176884593693519,
          4.664351402299472,
          -3.1694762592167067,
          0.1902391087447508,
          0.5231503898260105,
          0.18979372929549423,
          -0.8870355704849853,
          4.705760651743889,
          1.1192897917128422,
          -7.368907536342485,
          -3.886227128406429,
          -0.8669743469038839,
          -0.8079307324609856,
          -7.718828882539364,
          5.598853231984572,
          -5.762347227179903,
          -0.1679419150977992,
          -2.6223973930135536,
          -4.792676093082221,
          -1.7025438213310728,
          -4.023046416057414,
          -3.3978851947482567,
          4.146814947075252,
          2.8095627055052423,
          0.29923107390392845,
          -6.168548280792286,
          4.968615006230725,
          4.452003749855272,
          0.1085808819745745,
          1.953098627280513,
          -0.7677339543345055,
          -0.7323300781350678,
          -7.221495480313619,
          2.650712745584264,
          -1.1026588013265402,
          -2.76994830134729,
          1.41146506417724,
          -1.7260091994564721,
          -2.0358765444906317,
          -3.7978061998768347,
          -2.5636224672307253,
          -7.63040365941095,
          -0.019009038393967014,
          -2.2576335972862847,
          -0.4801355806693451,
          1.3038561081691722,
          -1.2094924834891747,
          0.4547017303434304,
          0.39931381272032307,
          -1.6173802029847817,
          -2.101501431657872,
          2.4650123384535276,
          -0.061209277271391624,
          -4.631934774078723,
          -2.561419386717226,
          -0.054526431404799944,
          -5.1539661825988885,
          -2.1959742856199718,
          4.5136169594860265,
          -0.6630955979459421,
          3.3179222101462793,
          -2.763946780330389,
          -3.6295065713423678,
          1.1564706088975132,
          -0.12417965863615472,
          0.7833013851785824,
          -4.72901718911436,
          -6.097173900550439,
          -0.9439104672015097,
          4.249079799244409,
          1.4585037222542865,
          -8.352575020162883,
          -3.8430695095976293,
          2.8138038752300063,
          -1.01873257939853,
          2.343874624077561,
          -4.617268398764492,
          -0.017952855153175483,
          -5.630894253024164,
          -0.7455260184366446,
          -1.0188010971493502,
          -1.2085767465596924,
          -4.514412153090964,
          2.9356373655577195,
          -0.49909111908108755,
          0.16892097489010477,
          1.0779986986730137,
          -6.4006910948878195,
          -2.5278370701000097,
          -6.0488139331324735,
          0.4389495553344744,
          4.112861115581924,
          -3.200913362637777,
          0.8500303060743258,
          -2.8039203529973933,
          -2.3695290145233097,
          -0.717305624478162,
          -1.173958412569837,
          -3.014612651410018,
          3.854374170267593,
          -6.313091042431552,
          5.042435386322056,
          2.4419104092408466,
          -3.675564215418978,
          -4.971550405010258,
          -3.199330309142954,
          1.461185135445286,
          2.792630449511211,
          2.820021956253832,
          -2.210499643042245,
          1.6532694431337287,
          -7.570431253186912,
          -3.8141811226429647,
          -0.329876218284161,
          -6.123052239900306,
          -2.287638522859104,
          2.18755712503292,
          -6.285266942686042,
          2.8368476891317296,
          -4.211521809131606,
          2.4587126627144102,
          -0.5259986895032521,
          -0.39052405487850905,
          2.246135233480715,
          3.4112112930297123,
          2.6338643337813465,
          -3.9950082014639863,
          -2.606326212464939,
          -2.1002143927533257,
          -2.5156703042915725,
          -3.1945895862204967,
          -4.753556725505021,
          -2.144988155657594,
          -7.5366251116870595,
          0.9428618125543489,
          -2.1055112925519452,
          -6.239011681103806,
          -6.630082787902753,
          1.2726768937069126,
          -1.7805447393268652,
          3.798231159992644,
          -3.376276797491594,
          -5.286551078165724,
          -3.754130361970797,
          2.212390076618413,
          -4.613134459647852,
          2.680704571712011,
          1.5910712567254561,
          3.7916292408289958,
          1.9191329241627044,
          -2.933797497613835,
          1.0880677439003261,
          1.0974353842214923,
          -6.345064871346143,
          0.7186391168787429,
          -0.7237559257887539,
          -7.958886783921352,
          -2.379131752171293,
          -7.457724280165476,
          2.09124634005758,
          -1.7286370890277603,
          -3.1115326987009335,
          -7.982838676178202,
          0.745044824256006,
          -1.7058222430948766,
          -1.7792753571166582,
          -0.6076997991083816,
          -7.8570581993093676,
          -6.602998483787012,
          -4.006634740715461,
          -3.7901458648084287,
          -2.733170288146879,
          -1.6433497140086233,
          1.69066444404401,
          0.42762150992821985,
          -3.023388579154495,
          3.120764987070668,
          2.3078360024733033,
          -0.4723080886822588,
          -1.7427149159057342,
          2.2614579910045043,
          -6.606652957292581,
          0.22355567981941216,
          -3.675460460647872,
          0.24427546279718226,
          -0.043344828750975097,
          -2.4114959427078677,
          -4.6712022590785205,
          -1.9146285260915494,
          -8.166431274101557,
          2.179624439544783,
          0.9950725178320524,
          -1.0508154948056931,
          2.0007369393627554,
          0.5826873519405746,
          -3.148959077589213,
          -0.5516103180222754,
          2.6750345229444905,
          -0.8158797094192605,
          3.441661397156384,
          -4.0786491199920585,
          -1.4050137760304167,
          -4.0020454285395415,
          -2.873281611244118,
          -2.0220463731881813,
          3.6594667725709082,
          -0.4484503615313273,
          -3.168850119312837,
          -3.1796027461791367,
          -5.437799664344664,
          5.58403940039738,
          -0.8853398200512694
         ]
        },
        {
         "mode": "markers",
         "name": "James Bland",
         "type": "scatter",
         "visible": true,
         "x": [
          -9.045058359795243,
          -10.552877482551565,
          -13.956818282063756,
          -3.742206663913884,
          -14.159350076871732,
          -11.785671164409614,
          -14.472610314557167,
          -14.112342850475128,
          -9.731922695156502,
          -6.347506190504246,
          -14.560695175006225,
          -13.280140893043166,
          -7.969155448854246,
          -5.450590764391714,
          -10.952600226579055,
          -10.165204121077375,
          -16.702038964001403,
          -9.077242913742094,
          -15.543064206787012,
          -9.009322356248015,
          -17.250376967539456,
          -2.189400728347897,
          -8.322982496287388,
          -4.718137801360362,
          -14.778977892588053,
          -10.78043166220036,
          -13.62139958746549,
          -11.2822798771388,
          -9.500389008961285,
          -10.782796266846754,
          -11.681824429895784,
          -13.467934082275693,
          -13.415750427253316,
          -16.73700798654451,
          -2.354740374790433,
          -13.074727932807454,
          -9.88417369932872,
          -3.010344707733587,
          -10.253875651182858,
          -3.3887331756670647,
          -1.9369152269486714,
          -13.303230317521605,
          -14.591240187460107,
          -10.40068119152124,
          -5.013447796390922,
          -12.375840191975538,
          -10.062899196958963,
          -10.177135764359925,
          -6.8980016639566255,
          -12.996260179941592,
          -11.463112653136287,
          -8.503089503920192,
          -12.757943953085471,
          -11.166264809673054,
          -13.637594782727207,
          -10.079286925912546,
          -10.249737228468975,
          -14.72666508117819,
          -14.830866606723047,
          -11.568195335558288,
          -5.517320726359759,
          -10.481938025862796,
          -11.89401324915672,
          -11.31101043433044,
          -10.685342798547167,
          -11.803118975926262,
          -13.87060247430642,
          -6.088120385306883,
          -5.483110072955925,
          -13.37856322003818,
          -11.683558453752667,
          -7.691730895256205,
          -10.70769327937623,
          -10.777019008837934,
          -13.71859331896366,
          -9.684668812338558,
          -9.042672959832576,
          -13.50714969305764,
          -6.497467119457437,
          -11.218824624870136,
          -6.161608732558318,
          -10.366815102900022,
          -9.438599932636297,
          -12.935142852703425,
          -9.665809533930469,
          -11.324645909771268,
          -5.196173335288552,
          -11.943125055295729,
          -12.77397150192009,
          -6.575619721048105,
          -7.732762347977813,
          -10.644902769007063,
          -11.255422043390816,
          -12.397056936420956,
          -10.88822147831236,
          -10.521329603551832,
          -9.522324158213877,
          -8.495565605523565,
          -6.9074478099654675,
          -8.689077608075175,
          -12.773032999212013,
          -11.43542260833048,
          -10.947224270993381,
          -11.108787385994718,
          -14.816071328278557,
          -11.37225262224328,
          -12.646146300452008,
          -8.767104301311925,
          -12.949532566912437,
          -11.698187182156131,
          -8.140017535396323,
          -3.0334350217958868,
          -10.310727542101693,
          -16.448628785751797,
          -12.744736302230601,
          -16.003483307719932,
          -9.033948061827028,
          -13.159990418558797,
          -8.679762028579969,
          -9.468041832096631,
          -12.965467432349055,
          -5.407707647946197,
          -8.20371364800315,
          -2.930641460930866,
          -9.69142211046755,
          -9.439977537385609,
          -13.958229542588958,
          -12.240540759563686,
          -12.735692404470965,
          -11.95433662848022,
          -9.134341811627204,
          -11.351109191704039,
          -12.39611173602979,
          -10.861873049075383,
          -3.7555997098028264,
          -9.759485243607113,
          -8.45266098498233,
          -16.96369092586931,
          -9.088363673715552,
          -10.125552859542044,
          -15.005677309767998
         ],
         "y": [
          -5.48903478175972,
          -8.329755731061782,
          -10.455393624626556,
          -4.66475255464221,
          -8.767415338682772,
          -7.870940897292528,
          -12.295225734867712,
          -9.039114177831452,
          -9.438747112673726,
          -6.353788348521928,
          -9.704421694912302,
          -3.8592448265626422,
          -8.785449663214237,
          -5.157244952274397,
          -3.1995209783364396,
          -5.583422818439349,
          -12.89792747261936,
          -11.02171350303936,
          -12.911098069335008,
          -6.569360002975173,
          -15.22771291947005,
          -8.294290114355187,
          -4.1395228097177155,
          -0.6598667298210467,
          -13.40464964222183,
          -6.808242303895365,
          -9.70365112864017,
          -6.53307291431294,
          -12.961830528783118,
          2.3593263785435923,
          -8.445587093299066,
          -4.036520806429558,
          -7.827705208670262,
          -14.950009794005771,
          -8.961864600379432,
          -9.251136236340365,
          -9.042220611354562,
          -8.859241027129382,
          -8.409818481011065,
          -1.1186530978161708,
          -7.783552271866701,
          -2.208351537824394,
          -8.613367305149035,
          -7.278511208999391,
          -8.031704983864682,
          -5.7558149315440446,
          -0.9989639849389268,
          -5.321111959726708,
          -6.146839125743973,
          -6.158351845281623,
          -7.133725643744804,
          -5.978993018093212,
          -8.503557115973091,
          -6.487960738088316,
          -6.988120870495794,
          -5.450507524089612,
          -7.7704674862995935,
          -14.383869222087307,
          -7.989577414359054,
          -7.345764822927014,
          -7.108028546837976,
          -2.9628953909263203,
          0.6304822575802684,
          -0.3124707304002511,
          3.9272375505685426,
          0.9140805476579504,
          -7.15080071491823,
          -4.1788970782917,
          -4.395754578993263,
          -10.833357743598967,
          -11.944900980620847,
          -8.217198570378383,
          -6.5463772141275705,
          -5.142284248149433,
          -7.90659164425225,
          -4.577932691396191,
          -4.965697510101105,
          -6.893150298857992,
          -5.455711004260991,
          -7.487800665672769,
          -7.5757483597328195,
          -13.209771200923017,
          -1.9156224535813373,
          -5.660194135823081,
          4.286279563005873,
          -3.6375029925840225,
          -9.47758923276963,
          -5.33592994916378,
          -8.501536309767319,
          -8.034538678058546,
          -8.321675667002797,
          -4.204927963369979,
          -10.793330129294292,
          -1.847250148185361,
          0.6335422334362654,
          -3.2246694554230415,
          -0.5463487412435528,
          1.4107756270884193,
          -5.067891443856622,
          -11.92402694010648,
          -2.6866455189332417,
          -5.040102826094643,
          -2.447465569153446,
          -2.1501786126612648,
          -12.769995977516727,
          -3.1627062208708425,
          -5.025347505732986,
          -2.4514136996742852,
          0.8472520238752808,
          -7.232693995283181,
          -1.708564094041183,
          -9.869093522301648,
          -3.971186641762671,
          -16.451589779049094,
          -4.75939704507067,
          -14.8908816680003,
          -1.1694618487186563,
          -10.16441982532609,
          -7.8131914452686555,
          -8.234399382334034,
          -6.841295861774324,
          -11.06675343185888,
          -7.2795604331833195,
          -1.8821531390987976,
          -2.8988066003202198,
          -4.239364944553355,
          -7.872972391398519,
          0.8311167831063452,
          -2.8327537943971146,
          -3.3455103541723616,
          -3.28178601648823,
          -5.195519612631202,
          -9.850110464289985,
          -10.214874128118014,
          -11.32516146265099,
          -9.43049760303382,
          -14.96128125001152,
          -11.690193844339676,
          -3.6840168734573764,
          -3.0462783890317326,
          -9.852351506386366
         ]
        },
        {
         "mode": "markers",
         "name": "Marcel Stout",
         "type": "scatter",
         "visible": true,
         "x": [
          -8.835708447507777,
          -4.5489243934304,
          -4.887682975563299,
          5.352875973343445,
          2.807580982831122,
          7.744059688354503,
          -5.791028402402695,
          -0.1808631558719309,
          -7.071599903273555,
          1.1808895417741467,
          -2.8685677450087264,
          1.5348166911104535,
          -5.103985493120038,
          5.452264106925881,
          -2.4863156815014613,
          1.588191935987803,
          -7.259493012070656,
          1.253849592011932,
          0.01779111271828021,
          -1.8158356770719069,
          8.036860164965931,
          3.8616431671026374,
          -2.024782162991016,
          -2.7207427938777573,
          2.207724399706391,
          -10.752285276544697,
          -3.321622179541056,
          -8.755271824545328,
          -6.238777880314622,
          3.21843162156897,
          -9.217946598488389,
          -6.664666027651867,
          -4.59361945693668,
          1.0327484773781312,
          3.543061622794245,
          7.122297660486129,
          -4.9996194518959385,
          4.188661904010066,
          -2.4658282781636123,
          -10.644043683903673,
          1.6216164404171156,
          3.534865941922702,
          0.6620750883319902,
          -5.8119819251575535,
          -2.4616193705823877,
          1.81301218000121,
          -1.3991430996399934,
          -6.06796587359107,
          0.7332729316312971,
          -2.59166241689292,
          2.592143693639508,
          -4.207539188528446,
          5.519667158191341,
          5.50282947670817,
          -8.570642984068542,
          8.854839904217974,
          3.718641991401466,
          -9.491068588569178,
          6.136377478452892,
          6.97919408184477,
          -4.277476840683484,
          4.662371038221357,
          -6.840165365450532,
          2.7987697909660727,
          -2.368019032094434,
          -1.9602901421082939,
          3.491606957062253,
          0.7969733025077844,
          -0.28129696102687574,
          3.9691862474320003,
          1.4269339803644128,
          3.9445656780029115,
          6.777357618319323,
          0.822613232709364,
          -9.605862202183761,
          -5.467553144091399,
          -9.30440648052676,
          -2.969619200059532,
          4.529640869765095,
          -11.15888627353862,
          -9.771775621522501,
          4.733587178296665,
          1.0764064118782002,
          2.97572506708769,
          -1.4185946064488304,
          0.5191932605366167,
          2.617737771277597,
          -3.0544825800303386,
          2.825923353591771,
          -3.5708416114185004,
          11.907575908439698,
          3.8813212248158617,
          8.644647074890864,
          4.3778626215382905,
          3.00705644928704,
          2.2614672212105376,
          -3.3066468400766253,
          6.40350477316643,
          -2.546506910461776,
          -2.336328190322384,
          -4.148478166878189,
          2.4136465219732695,
          1.6379268348089886,
          -3.643495792878218,
          5.43889041134035,
          4.583844376197681,
          -8.01141462960606,
          -9.165210995019004,
          1.1623732094658965,
          8.001512302237199,
          0.7380668516578387,
          2.8460746420182708,
          -2.333434369720722,
          4.6468615708411,
          -0.9828593542317126,
          7.637262339344184,
          -5.075255613605615,
          7.5129202154985215,
          -4.537513410626382,
          8.923386187297652,
          -3.372374596993067,
          4.507810136513408,
          3.440414096977491,
          -5.374549503062813,
          7.5460296522268955,
          -8.716986542584898,
          -5.525312090964011,
          -2.8957924784265154,
          -7.8476964870932395,
          8.594247473332436,
          2.919412732254452,
          0.945033972769754,
          -1.8906014418965094,
          -8.767123255785076,
          -2.7095785907671015,
          1.277542717048337,
          -9.274694477867213,
          -0.9547514299515374,
          -6.127663363743103,
          1.9957031044082203,
          0.8681188967722012,
          1.157303567001745,
          -2.732658086545363,
          -10.976278460850754,
          -0.9047751078184059,
          8.722884248735669,
          -3.578825210144731,
          -9.450675346247236,
          3.0692424387549377,
          0.7200325248905833,
          8.142847673293742,
          1.3377006963285705,
          -7.296479382427252,
          -4.108274534110292,
          6.538917065246478,
          4.6371685590721645,
          2.3109273317911985,
          -9.069443563576778,
          5.518377716667668,
          -8.425593968201591,
          -9.786270064358723,
          5.707495668500251,
          6.894211970170138,
          5.790773286556697,
          0.011463727453367215,
          -9.546904250969526,
          9.912243314524266,
          6.687831890349979,
          -5.39245932423977,
          -10.721928520643354,
          3.745089563301875,
          1.50182055961661,
          -9.968729089711655,
          3.578278116752283,
          -2.218129110746764,
          -5.206676010985466,
          -10.27997137163619,
          -0.685032558069513,
          -2.4480921798008324,
          4.235230965645044,
          3.8538094972227444,
          12.73129402589828,
          3.56029958729923,
          6.682332866451943,
          -11.109025211570144,
          -9.396760618983782,
          -3.954547199412018,
          -3.7461908416370533,
          2.3706976353241416,
          -0.4119246356765978,
          -5.808355677541392,
          -5.100258152029898,
          -1.0901585655746995,
          -8.397727890505339,
          0.17823822679378673,
          0.7056927317860049
         ],
         "y": [
          7.936108976589639,
          15.27209600255977,
          6.732757519306541,
          3.1961560399404134,
          12.289986144464937,
          13.863725102597865,
          8.53033092196334,
          12.106546289113483,
          8.151951175938683,
          4.148542862194779,
          19.444292714674006,
          10.43116996741355,
          11.486002311574417,
          7.601152095248325,
          11.781112912086003,
          5.758049084048641,
          16.648722801172973,
          7.121122016770332,
          6.46586013788534,
          22.63573593991098,
          5.979932033497069,
          4.96835579381759,
          8.10787732529665,
          5.87156799671451,
          17.676583469429637,
          12.184342317381427,
          6.511317736049123,
          9.810078403317128,
          19.41718290394146,
          9.781891627692245,
          5.964267924592358,
          18.357971514023887,
          20.173890324007722,
          4.158675022094844,
          9.632596786906943,
          7.596231829361554,
          12.987881188627634,
          4.86817792606654,
          13.029399905366649,
          11.682935111049765,
          9.578047476440815,
          3.163924215817493,
          6.449984254845367,
          13.027897545938282,
          7.597603313306954,
          4.906069905850694,
          6.332238397430482,
          15.923341005238044,
          5.012707204407975,
          5.708710898685307,
          12.289143274244143,
          13.708141378047657,
          3.760242057136759,
          4.336049322875142,
          10.45696594599147,
          10.866003348765888,
          13.574388374692612,
          15.550769770994282,
          12.265599110731522,
          10.92460560242519,
          6.715896318555514,
          8.6381750860662,
          20.425576987636845,
          5.7972424805939395,
          5.588719293754742,
          6.829294793010275,
          9.500911902234579,
          5.238805784622719,
          7.199558867828864,
          10.327968420347753,
          5.0500542599164,
          1.790669344068838,
          8.26968661209046,
          10.490807517724837,
          15.583712513351292,
          7.6349279239749634,
          33.787698150953446,
          15.682625578964076,
          3.7370307281692248,
          7.83948264178445,
          10.001074814626964,
          6.054350350738158,
          18.083113888732402,
          2.9450657605421613,
          11.97449845136029,
          12.824042823282387,
          8.591010327469736,
          9.012837643871316,
          16.760492292591294,
          5.512068057881503,
          11.376964746964742,
          3.552393479609743,
          11.401608461064379,
          8.201541337571134,
          6.52998502154682,
          4.474870108278849,
          11.189079177820009,
          9.367946036576944,
          6.236040287939852,
          4.827341404218401,
          8.136577057077865,
          1.7345704361598215,
          12.85482006864431,
          7.290299239830241,
          6.137368020041743,
          7.949293784856813,
          16.419876014640483,
          15.779060656096936,
          3.551973755463774,
          12.83783238924196,
          4.36152715369203,
          2.4388829590938075,
          5.728038505338792,
          9.05150092374684,
          10.403783485362966,
          7.926232254142819,
          15.08700136607043,
          5.787030424106239,
          20.09059575264453,
          17.480786804641504,
          19.831411633038204,
          6.454323290473404,
          9.046024715318529,
          9.67616914776002,
          8.592453388160568,
          13.269010481403445,
          10.524245981733545,
          20.864479856424012,
          7.628821538788591,
          8.650729038004348,
          10.197919076629509,
          7.24020478067266,
          5.232692245988541,
          8.6013269737842,
          6.7038381687369855,
          4.911547501083313,
          17.601170764204987,
          5.83436781444297,
          9.83037069003181,
          6.4664341744645535,
          7.74542286630736,
          5.304384777479982,
          5.747766683233736,
          12.518050870761009,
          16.78757438124094,
          11.530081720704256,
          10.223699087591584,
          18.137848501634252,
          5.349640395988838,
          6.3595223589155525,
          7.6980343137148735,
          8.666486956841785,
          10.991541257926992,
          4.895154223055411,
          11.561284675422023,
          5.88341187526164,
          13.041264817139794,
          17.572028407309645,
          6.849073547707388,
          9.190376835588648,
          14.44637553364581,
          11.107262382272149,
          7.082180152939793,
          14.342465143587027,
          3.936251292875099,
          12.138401955275244,
          15.1400345927354,
          5.263072127459329,
          7.050177977505482,
          5.961983978530047,
          7.915026613028407,
          7.416371991521687,
          17.425172549783795,
          4.132915826437491,
          10.71072673173708,
          11.555173611064522,
          13.66068364418991,
          6.146455930930849,
          5.852069221266655,
          6.231655907623082,
          11.265695091132088,
          11.534694151063585,
          5.190732403795479,
          7.801706389586727,
          11.18055157903359,
          9.95835703731468,
          6.864176830426937,
          6.713054445685721,
          6.518646078368431,
          6.553432748077411,
          6.0146244308139005,
          6.521773269520281,
          4.958123837609369,
          17.055011596671974,
          6.669500953448247,
          3.1654350774754483
         ]
        },
        {
         "mode": "markers",
         "name": "Jean-Michel IPA",
         "type": "scatter",
         "visible": false,
         "x": [
          2.4592015743255615,
          2.538403034210205,
          4.709710121154785,
          2.50661301612854,
          4.591534614562988,
          4.265310764312744,
          2.8551154136657715,
          3.8425474166870117,
          3.5192654132843018,
          3.863178253173828,
          4.554144859313965,
          3.195624828338623,
          3.7211716175079346,
          3.543212652206421,
          4.221158027648926,
          2.2240192890167236,
          4.517001152038574,
          2.242941379547119,
          5.29814338684082,
          4.681717395782471,
          3.5410866737365723,
          2.628154993057251,
          3.8677163124084473,
          2.592752456665039,
          3.4467074871063232,
          2.7064833641052246,
          2.2216222286224365,
          4.37919282913208,
          2.589475393295288,
          3.826160430908203,
          1.98294997215271,
          2.5912225246429443,
          5.581089019775391,
          2.9412407875061035,
          4.608921527862549,
          2.441854953765869,
          3.3913869857788086,
          4.496394634246826,
          3.794400930404663,
          2.0335757732391357,
          4.044162273406982,
          4.6331562995910645,
          4.873665809631348,
          3.3282713890075684,
          2.3434364795684814,
          4.035494327545166,
          5.350231170654297,
          2.9952075481414795,
          4.128726005554199,
          3.4887850284576416,
          4.254861831665039,
          4.6431884765625,
          4.718013763427734,
          2.949803590774536,
          3.6387393474578857,
          4.162931442260742,
          2.2195069789886475,
          2.33062481880188,
          5.498576641082764,
          3.5334153175354004,
          3.724853754043579,
          2.875556707382202,
          3.8211543560028076,
          3.703798770904541,
          2.1832082271575928,
          2.7740707397460938,
          3.855756998062134,
          3.3324167728424072,
          2.948148727416992,
          2.1842899322509766,
          1.9825867414474487,
          3.02128005027771,
          3.3901255130767822,
          2.321422576904297,
          2.45507550239563,
          2.235870838165283,
          2.3153746128082275,
          4.853435516357422,
          2.5655510425567627,
          4.355175018310547,
          1.8631478548049927,
          3.6273975372314453,
          4.791347503662109,
          1.8912544250488281,
          2.108994245529175,
          2.0237302780151367,
          3.7570481300354004,
          2.031872510910034,
          4.1581711769104,
          3.077286720275879,
          3.1747078895568848,
          5.782581329345703,
          3.262467622756958,
          3.649445056915283,
          2.443918228149414,
          3.135199546813965,
          2.108027458190918,
          2.988603115081787,
          4.433215618133545,
          3.4917478561401367,
          4.584078788757324,
          3.3743011951446533,
          2.227228879928589,
          2.8432252407073975,
          2.0079760551452637,
          2.747220039367676,
          3.8632755279541016,
          2.674428701400757,
          3.8755617141723633,
          2.934368848800659,
          3.7707509994506836,
          4.191055774688721,
          3.691159248352051,
          3.8501312732696533,
          2.677694797515869,
          5.096962928771973,
          2.6762444972991943,
          2.11596417427063,
          3.0280532836914062,
          4.144149303436279,
          4.627737045288086,
          3.9761717319488525,
          3.4448933601379395,
          4.031707286834717,
          3.309882164001465,
          3.239914655685425,
          4.653191566467285,
          3.482027292251587,
          4.2516889572143555,
          5.37929105758667,
          3.911750316619873,
          2.0307083129882812,
          4.850528717041016,
          2.9896745681762695,
          3.6243436336517334,
          4.609950065612793,
          5.067019462585449,
          3.1931824684143066,
          2.1472268104553223,
          1.9808359146118164,
          3.708860158920288,
          3.0749552249908447,
          3.997469425201416,
          3.067347764968872,
          3.5710859298706055,
          2.730883836746216,
          3.9271724224090576,
          2.5547213554382324,
          4.549778938293457,
          3.119953155517578,
          2.2238364219665527,
          2.1460909843444824,
          2.9322092533111572,
          4.748275279998779,
          4.621667385101318,
          2.468235492706299,
          4.225978374481201,
          3.436474084854126,
          3.0274267196655273,
          4.05780029296875,
          3.883608102798462,
          3.1277945041656494,
          3.0114197731018066,
          2.4120845794677734,
          2.272242546081543,
          2.8995611667633057,
          6.368030071258545,
          4.861018657684326,
          4.328486442565918,
          4.649425029754639,
          2.495421886444092,
          2.142622947692871,
          2.643681287765503,
          4.4875874519348145,
          2.876107931137085,
          3.4203996658325195,
          3.6067330837249756,
          4.698464870452881,
          3.5069756507873535,
          3.94814395904541,
          2.450695037841797,
          1.9138779640197754,
          3.1593189239501953,
          4.42908239364624,
          3.5820000171661377,
          4.348587989807129,
          3.417501211166382,
          4.222881317138672,
          3.5327417850494385,
          5.004996299743652,
          3.6811118125915527,
          4.489567756652832,
          2.0769224166870117,
          1.86287522315979,
          3.5185773372650146,
          3.6297242641448975,
          2.102598190307617,
          4.2429375648498535,
          4.692477226257324,
          2.383274793624878,
          2.031189203262329,
          3.43975830078125,
          4.634753704071045,
          2.288163900375366,
          4.706598281860352,
          2.016544818878174,
          4.678155422210693,
          4.740830898284912,
          3.236719846725464,
          4.1493730545043945,
          4.081974506378174,
          4.080422878265381,
          4.011136531829834,
          3.127483367919922,
          1.999281406402588,
          4.29208517074585,
          4.3552422523498535,
          3.685845375061035,
          3.690760374069214,
          5.054333686828613,
          2.4396445751190186,
          3.3596224784851074,
          2.1987555027008057,
          1.8439888954162598,
          3.5819761753082275,
          3.562898874282837,
          3.4209249019622803,
          3.8534982204437256,
          3.496364116668701,
          3.4171667098999023,
          5.149104118347168,
          4.115932941436768,
          3.6944262981414795,
          3.8314008712768555,
          2.2044923305511475,
          2.5477757453918457,
          3.3921563625335693,
          4.150243759155273,
          3.5810024738311768
         ],
         "y": [
          1.828139066696167,
          2.281439781188965,
          2.5828380584716797,
          2.650733470916748,
          3.1398792266845703,
          1.9134018421173096,
          2.291210651397705,
          2.039757490158081,
          1.8054074048995972,
          1.932861566543579,
          3.801071882247925,
          1.7651993036270142,
          3.4389491081237793,
          2.5281217098236084,
          3.685788869857788,
          1.9639291763305664,
          2.2071614265441895,
          2.4881649017333984,
          2.3894786834716797,
          2.9111359119415283,
          2.4484357833862305,
          1.624099850654602,
          3.738915205001831,
          2.009701728820801,
          2.5531702041625977,
          2.8503968715667725,
          1.71822190284729,
          1.8936805725097656,
          1.6355714797973633,
          1.9946279525756836,
          1.5415985584259033,
          1.5986515283584595,
          2.338294267654419,
          1.372414469718933,
          2.746234655380249,
          2.514394760131836,
          2.1142842769622803,
          2.796276092529297,
          3.755443811416626,
          1.9601318836212158,
          2.4030797481536865,
          2.5775914192199707,
          3.0486323833465576,
          2.3584015369415283,
          2.4617247581481934,
          2.5486879348754883,
          2.3164398670196533,
          2.1061253547668457,
          2.563509941101074,
          1.540700912475586,
          3.167175054550171,
          2.336420774459839,
          2.974656820297241,
          2.0246856212615967,
          3.1112377643585205,
          3.0954113006591797,
          2.4204821586608887,
          1.4643570184707642,
          2.0353927612304688,
          2.976306438446045,
          1.7373367547988892,
          3.0615787506103516,
          3.536316394805908,
          2.174293279647827,
          1.673703670501709,
          1.468644618988037,
          3.1835856437683105,
          3.29957914352417,
          1.6350579261779785,
          1.5721908807754517,
          1.6852108240127563,
          1.8546388149261475,
          1.4585212469100952,
          1.8569343090057373,
          1.5196318626403809,
          1.3859091997146606,
          2.0063183307647705,
          3.019991159439087,
          2.8196420669555664,
          3.624682664871216,
          1.5891022682189941,
          3.7246861457824707,
          2.681089401245117,
          1.535654902458191,
          2.3537583351135254,
          1.452531337738037,
          3.1013150215148926,
          2.1890182495117188,
          2.8813369274139404,
          1.3107683658599854,
          3.175140142440796,
          2.160728931427002,
          3.8613266944885254,
          2.525923728942871,
          1.428745985031128,
          3.5297234058380127,
          2.249829053878784,
          2.6064484119415283,
          2.0728821754455566,
          3.654865026473999,
          2.3226277828216553,
          1.9402222633361816,
          1.7574284076690674,
          2.1204745769500732,
          2.011453628540039,
          1.5053943395614624,
          2.406041383743286,
          2.8430323600769043,
          3.6176507472991943,
          1.6661877632141113,
          3.8051867485046387,
          2.09653377532959,
          2.953038215637207,
          2.647460460662842,
          3.0745420455932617,
          1.7627812623977661,
          1.9054473638534546,
          1.6618297100067139,
          3.3696765899658203,
          3.0442471504211426,
          2.6177120208740234,
          3.037726640701294,
          3.1235952377319336,
          2.7387492656707764,
          3.3558645248413086,
          2.4879512786865234,
          3.3523688316345215,
          3.380580425262451,
          2.1257693767547607,
          2.019521951675415,
          3.8402833938598633,
          2.0684516429901123,
          2.58613920211792,
          1.6426805257797241,
          1.8873523473739624,
          2.6884727478027344,
          2.2937891483306885,
          1.7729113101959229,
          2.267078399658203,
          1.5437325239181519,
          2.875425100326538,
          3.2236201763153076,
          1.9272385835647583,
          1.91364586353302,
          1.9283744096755981,
          1.7592462301254272,
          3.2261335849761963,
          1.6077067852020264,
          2.856934070587158,
          3.3476874828338623,
          1.4916037321090698,
          1.6261347532272339,
          3.179245948791504,
          2.3408586978912354,
          2.916088104248047,
          1.5042037963867188,
          2.09476375579834,
          1.9610577821731567,
          1.7354308366775513,
          1.6901378631591797,
          3.2231948375701904,
          2.0551116466522217,
          1.5584754943847656,
          2.5955734252929688,
          2.382011890411377,
          2.2554190158843994,
          1.9080215692520142,
          3.138589382171631,
          2.0832359790802,
          2.3183207511901855,
          1.8495134115219116,
          2.340269088745117,
          1.4855316877365112,
          2.668975591659546,
          2.182558536529541,
          4.2494988441467285,
          4.305718421936035,
          2.650775671005249,
          2.452831745147705,
          2.5976624488830566,
          2.4217257499694824,
          1.6517598628997803,
          2.1070775985717773,
          2.6020474433898926,
          1.798190712928772,
          2.7476513385772705,
          2.134317636489868,
          2.362966299057007,
          1.8393311500549316,
          1.6653026342391968,
          3.723094940185547,
          2.144900321960449,
          1.8380889892578125,
          1.5411372184753418,
          2.199598789215088,
          3.7281181812286377,
          1.4198318719863892,
          2.759040594100952,
          3.0484459400177,
          1.4618611335754395,
          1.9237507581710815,
          1.7084441184997559,
          2.795351505279541,
          1.486132264137268,
          2.4348461627960205,
          1.6469628810882568,
          2.361604690551758,
          2.604855537414551,
          2.738093852996826,
          2.4232113361358643,
          3.5375328063964844,
          3.8167433738708496,
          2.125861883163452,
          1.3302806615829468,
          1.847355842590332,
          2.659393310546875,
          2.8480947017669678,
          1.4884639978408813,
          2.861703872680664,
          1.8523576259613037,
          2.3445279598236084,
          1.9193127155303955,
          2.3375442028045654,
          1.6318066120147705,
          2.2688276767730713,
          3.003157377243042,
          1.4654887914657593,
          2.644043207168579,
          4.594749450683594,
          3.339261770248413,
          2.368985652923584,
          2.856099843978882,
          1.797884225845337,
          4.277495861053467,
          1.505807638168335,
          2.7846527099609375,
          4.226266384124756,
          1.98884916305542,
          2.6138603687286377
         ]
        },
        {
         "mode": "markers",
         "name": "Ada the explorer",
         "type": "scatter",
         "visible": false,
         "x": [
          7.346025466918945,
          5.497200012207031,
          8.852862358093262,
          7.011411666870117,
          6.171056270599365,
          8.511335372924805,
          7.330801010131836,
          5.509662628173828,
          8.580824851989746,
          7.74388313293457,
          8.278751373291016,
          7.297238826751709,
          7.374323844909668,
          8.598618507385254,
          8.067843437194824,
          8.421451568603516,
          6.507953643798828,
          5.832789897918701,
          6.216418743133545,
          6.655503273010254,
          6.779824256896973,
          9.048558235168457,
          7.837001800537109,
          7.529869079589844,
          6.3562774658203125,
          7.43728494644165,
          7.310314655303955,
          8.351102828979492,
          7.390080451965332,
          6.986971378326416,
          6.245422840118408,
          8.514723777770996,
          6.845253944396973,
          4.870916843414307,
          7.087675094604492,
          7.701644420623779,
          5.012154579162598,
          8.396120071411133,
          7.278407096862793,
          7.817805290222168,
          8.394265174865723,
          7.531861305236816,
          6.234920501708984,
          5.641057014465332,
          7.39895486831665,
          9.138181686401367,
          6.137601852416992,
          7.200470924377441,
          6.819701671600342,
          7.187081813812256,
          7.318663597106934,
          5.657601833343506,
          6.564965724945068,
          6.686527252197266,
          6.130340099334717,
          6.366474151611328,
          5.396096706390381,
          7.077853679656982,
          7.4910993576049805,
          6.939412593841553,
          5.827526569366455,
          7.358469009399414,
          8.151968002319336,
          4.802337169647217,
          7.203306198120117,
          6.776480197906494,
          7.276941299438477,
          5.257296562194824,
          6.485984802246094,
          6.545569896697998,
          8.706482887268066,
          7.631490707397461,
          7.423193454742432,
          7.271513938903809,
          7.827136993408203,
          6.5438761711120605,
          6.986589431762695,
          7.210275173187256,
          7.911431789398193,
          6.897140979766846,
          4.999746322631836,
          7.088818550109863,
          6.852483749389648,
          6.151730537414551,
          6.073437690734863,
          7.274332523345947,
          8.671143531799316,
          6.121804237365723,
          7.522443771362305,
          7.254415035247803,
          7.013580799102783,
          7.247481346130371,
          5.58886194229126,
          6.507316589355469,
          6.085513591766357,
          8.56621265411377,
          5.522513389587402,
          6.909966945648193,
          6.963798999786377,
          6.406046390533447,
          6.006804466247559,
          8.475876808166504,
          7.883134841918945,
          7.446211338043213,
          9.304220199584961,
          7.682005882263184,
          7.166346549987793,
          9.246106147766113,
          7.582271099090576,
          7.3807759284973145,
          8.789222717285156,
          8.504331588745117,
          8.031272888183594,
          7.269060134887695,
          7.134720802307129,
          7.393999099731445,
          6.933690547943115,
          8.145370483398438,
          6.909328460693359,
          5.45338773727417,
          7.448378086090088,
          8.379069328308105,
          7.787686824798584,
          5.4047675132751465,
          7.1926164627075195,
          5.08661413192749,
          6.149809837341309,
          8.147797584533691,
          4.975178241729736,
          6.277015209197998,
          5.1075663566589355,
          8.33782958984375,
          8.801810264587402,
          6.434566974639893,
          5.103994846343994,
          7.658212184906006,
          7.337135314941406,
          7.557424068450928,
          7.818905353546143,
          8.391107559204102,
          7.159630298614502,
          5.087121963500977,
          6.508583068847656,
          7.6096930503845215,
          6.71577262878418,
          4.93389368057251,
          6.088264465332031,
          6.939319610595703,
          7.30047082901001,
          7.169861316680908,
          7.560231685638428,
          7.433155059814453,
          6.653125286102295,
          7.163343906402588,
          7.707550525665283,
          7.649363994598389,
          6.2985076904296875,
          6.427145481109619,
          8.849164962768555,
          7.2719316482543945,
          5.958306312561035,
          7.521759510040283,
          6.407731533050537,
          6.496499061584473,
          6.487456321716309,
          8.121221542358398,
          7.328727722167969,
          6.731733798980713,
          7.697094440460205,
          8.680108070373535,
          8.399535179138184,
          6.167383670806885,
          7.8290886878967285,
          7.397858142852783,
          7.569190502166748,
          7.01910400390625,
          6.488266468048096,
          6.975698471069336,
          8.599710464477539,
          7.444652557373047,
          5.570728302001953,
          7.709062099456787,
          5.9991021156311035,
          8.046915054321289,
          5.959542274475098,
          5.590409755706787,
          6.838876247406006,
          8.350543022155762,
          8.792860984802246,
          5.776224613189697,
          7.014342784881592,
          6.102533340454102,
          6.194093704223633,
          6.719191074371338,
          7.363407135009766,
          7.027556896209717,
          7.255903720855713,
          6.72144079208374,
          7.368307590484619,
          8.376982688903809,
          7.1098456382751465,
          6.492872714996338,
          8.73299503326416,
          7.482039928436279,
          7.7736053466796875,
          7.887842178344727,
          6.935638904571533,
          7.166836738586426,
          6.692962169647217,
          8.248289108276367,
          7.2301225662231445,
          6.9756903648376465,
          7.329875469207764,
          7.828402519226074,
          7.261101722717285,
          6.212118148803711,
          6.884593486785889,
          6.126749515533447,
          6.373223781585693,
          8.109731674194336,
          9.089151382446289,
          8.488856315612793,
          5.959346771240234,
          8.478046417236328,
          7.909085273742676,
          7.7021965980529785,
          8.3693265914917,
          6.810394763946533,
          6.382553577423096,
          8.110816955566406,
          7.171146869659424,
          8.413520812988281,
          8.256175994873047,
          7.857608795166016,
          8.145169258117676,
          6.823028087615967,
          8.303601264953613,
          7.702676296234131,
          8.317224502563477,
          6.312345027923584,
          7.222059726715088,
          7.228566646575928,
          5.415111064910889,
          7.957529544830322,
          6.523255348205566,
          5.372945785522461,
          5.7334675788879395,
          5.859970569610596,
          6.674135208129883,
          6.819496154785156,
          8.534647941589355,
          6.523410797119141,
          4.845498561859131,
          7.314258098602295,
          7.860250473022461,
          5.601491451263428,
          5.983137130737305,
          6.890137672424316,
          5.494119644165039,
          4.746159076690674,
          7.1175217628479,
          6.852541923522949,
          7.531698703765869,
          8.292895317077637,
          6.517601013183594,
          5.423595905303955,
          7.5501909255981445,
          8.279420852661133,
          6.92371129989624,
          6.526437759399414,
          8.664083480834961,
          7.726683139801025,
          7.29473876953125,
          8.655357360839844,
          6.4851179122924805,
          7.537477970123291,
          8.969863891601562,
          8.026540756225586,
          7.064503192901611,
          7.454520225524902,
          7.8804802894592285,
          7.8553056716918945,
          6.621808052062988,
          6.500642776489258,
          7.146781921386719,
          8.640177726745605,
          7.30795955657959,
          5.82754373550415,
          7.368383407592773,
          8.201231002807617,
          5.442368030548096,
          5.52169132232666,
          7.258785724639893,
          6.741279125213623,
          6.3005146980285645,
          7.622076511383057,
          7.161226272583008,
          6.282122611999512,
          6.692758083343506,
          8.737625122070312,
          5.982086658477783,
          7.901118278503418,
          5.7960591316223145,
          7.740164756774902,
          7.928340435028076,
          6.947105407714844,
          5.7530035972595215,
          8.505789756774902,
          7.148944854736328,
          4.743184566497803,
          8.053200721740723,
          5.601294040679932,
          7.518309593200684,
          6.124845027923584,
          8.035066604614258,
          6.106354236602783,
          4.692361354827881,
          5.66555118560791,
          6.958695411682129,
          6.592731952667236,
          4.807796478271484,
          6.951584815979004,
          8.46501636505127,
          6.048058032989502,
          9.236570358276367,
          7.397924900054932,
          4.8934736251831055,
          6.435357570648193,
          7.303250789642334,
          8.69808292388916,
          6.63478422164917,
          7.941781044006348,
          8.639486312866211,
          5.364263534545898,
          6.494093418121338,
          6.723970890045166,
          6.261541366577148,
          6.252779960632324,
          7.232746601104736,
          6.769839763641357,
          8.589872360229492,
          5.922290325164795,
          6.925868511199951,
          9.173123359680176,
          7.358693599700928,
          7.449627876281738,
          7.2183074951171875,
          7.048845291137695,
          4.987891674041748,
          7.634610176086426,
          6.345970630645752,
          6.491586208343506,
          6.954498291015625,
          9.017784118652344,
          5.173194885253906,
          5.8146138191223145,
          8.565736770629883,
          6.422555446624756,
          4.979556560516357,
          7.991070747375488,
          7.213107585906982,
          8.623766899108887,
          5.137557506561279,
          7.266151428222656,
          6.910414218902588,
          7.136603832244873,
          7.436718940734863,
          5.624454021453857,
          5.728819370269775,
          6.407959938049316,
          6.940209865570068,
          6.990295886993408,
          7.634057521820068,
          4.9294891357421875,
          7.1043548583984375,
          7.78203010559082,
          4.9149556159973145,
          6.229984283447266,
          5.1807861328125,
          6.603806495666504,
          7.099120616912842,
          8.081887245178223,
          6.3059844970703125,
          7.132741928100586,
          8.831374168395996,
          6.08825159072876,
          8.55461311340332,
          6.585480690002441,
          6.497455596923828,
          8.1829252243042,
          6.426021575927734,
          7.1747283935546875,
          6.248236179351807,
          5.265482425689697
         ],
         "y": [
          2.698514461517334,
          2.810821771621704,
          5.07027006149292,
          4.31596040725708,
          2.3577795028686523,
          3.7296788692474365,
          5.397111415863037,
          3.676260471343994,
          5.167730808258057,
          5.133948802947998,
          4.140881061553955,
          5.147815227508545,
          4.845309257507324,
          4.374837398529053,
          5.383677959442139,
          4.396811008453369,
          2.0596532821655273,
          4.045830249786377,
          3.393906831741333,
          2.57942533493042,
          3.8021352291107178,
          3.9833261966705322,
          5.093666076660156,
          4.165192604064941,
          2.6151843070983887,
          5.4755377769470215,
          2.188267707824707,
          3.6577601432800293,
          4.189704895019531,
          3.259791135787964,
          2.2657902240753174,
          5.290741920471191,
          2.4934499263763428,
          3.6133837699890137,
          4.9471540451049805,
          5.1705451011657715,
          2.7630205154418945,
          3.9574344158172607,
          4.846776485443115,
          5.232888698577881,
          4.635462284088135,
          4.497743606567383,
          3.576690912246704,
          3.246487855911255,
          2.5425825119018555,
          4.302968978881836,
          4.0865864753723145,
          2.983686685562134,
          2.721569538116455,
          4.134371280670166,
          3.7368433475494385,
          3.944528102874756,
          2.2908852100372314,
          2.427201271057129,
          4.535165786743164,
          4.129546642303467,
          2.5479257106781006,
          2.5497145652770996,
          5.468884468078613,
          2.8974387645721436,
          4.513374328613281,
          5.559427261352539,
          3.4305176734924316,
          3.5334389209747314,
          4.139255523681641,
          4.679166316986084,
          4.724740028381348,
          4.046994209289551,
          3.3424415588378906,
          3.702848434448242,
          3.77207088470459,
          4.370426177978516,
          4.740417957305908,
          5.507560729980469,
          5.437335968017578,
          2.4548020362854004,
          5.354059219360352,
          2.2941958904266357,
          4.7340312004089355,
          4.037195205688477,
          2.815045118331909,
          5.734509468078613,
          2.6451668739318848,
          2.678886890411377,
          3.852602481842041,
          5.472403049468994,
          4.316057205200195,
          2.7085025310516357,
          4.657316207885742,
          3.8804540634155273,
          3.442894220352173,
          3.815734386444092,
          4.530542373657227,
          3.1834352016448975,
          2.3726754188537598,
          4.575987339019775,
          3.159984827041626,
          3.141918659210205,
          3.323460578918457,
          4.547105312347412,
          3.8747951984405518,
          3.910778045654297,
          4.78176212310791,
          5.063920497894287,
          4.033180236816406,
          4.607577800750732,
          5.052717208862305,
          3.942366361618042,
          5.2745795249938965,
          2.586487054824829,
          3.6400907039642334,
          5.047330856323242,
          4.020779609680176,
          2.841193199157715,
          5.655737400054932,
          3.9564216136932373,
          3.011251449584961,
          4.8744401931762695,
          5.241921424865723,
          4.446380138397217,
          5.5114827156066895,
          3.1049678325653076,
          3.400115728378296,
          3.860353708267212,
          5.472107887268066,
          3.647796392440796,
          5.04102897644043,
          3.9419336318969727,
          3.488534927368164,
          3.857957601547241,
          2.932996988296509,
          5.031374454498291,
          3.1550886631011963,
          4.066403865814209,
          3.9706313610076904,
          3.129758596420288,
          3.9956724643707275,
          4.230840682983398,
          4.352842807769775,
          4.22027063369751,
          2.3027541637420654,
          2.807983160018921,
          2.3802578449249268,
          5.256609916687012,
          4.779524326324463,
          3.77496600151062,
          3.0381920337677,
          4.203763484954834,
          5.760079383850098,
          5.646091461181641,
          3.8485047817230225,
          5.685657501220703,
          2.1258816719055176,
          4.222566604614258,
          2.975078582763672,
          2.366199254989624,
          4.498987674713135,
          4.383943557739258,
          4.670344829559326,
          2.3601508140563965,
          2.6731770038604736,
          4.1252546310424805,
          2.403498411178589,
          3.270569086074829,
          2.2223029136657715,
          3.3461639881134033,
          2.9637794494628906,
          4.824596405029297,
          4.59729528427124,
          4.139832019805908,
          3.865114450454712,
          4.67977237701416,
          2.784587860107422,
          3.6580703258514404,
          3.3177340030670166,
          3.6458847522735596,
          4.0856709480285645,
          4.157909393310547,
          3.6067047119140625,
          3.2116034030914307,
          3.4095981121063232,
          2.498243570327759,
          2.984807252883911,
          5.106451988220215,
          2.7141177654266357,
          3.4554998874664307,
          4.713123798370361,
          4.902209758758545,
          4.06534481048584,
          4.83412504196167,
          4.964168071746826,
          2.2975246906280518,
          2.6466023921966553,
          4.874711990356445,
          4.883231163024902,
          2.125612258911133,
          5.327401161193848,
          2.5003905296325684,
          4.987072944641113,
          3.9961295127868652,
          2.842841863632202,
          3.6782524585723877,
          3.3837242126464844,
          2.7744274139404297,
          5.298076629638672,
          4.144207000732422,
          4.249622821807861,
          2.1899380683898926,
          5.601230144500732,
          5.319849967956543,
          4.681546211242676,
          4.394191741943359,
          5.307168006896973,
          4.188414096832275,
          2.4019267559051514,
          4.759603500366211,
          3.5795016288757324,
          2.7137598991394043,
          4.012232780456543,
          4.102633476257324,
          3.831134080886841,
          4.028646469116211,
          2.8492379188537598,
          2.885256767272949,
          4.230118274688721,
          3.7801032066345215,
          4.824446201324463,
          4.154613018035889,
          3.220292091369629,
          4.3469367027282715,
          3.79386830329895,
          4.758703231811523,
          4.567905902862549,
          5.115088939666748,
          3.9183759689331055,
          2.9100990295410156,
          3.781747341156006,
          3.9984593391418457,
          3.6125776767730713,
          3.9936776161193848,
          5.604443550109863,
          5.0398640632629395,
          4.11578369140625,
          3.6748833656311035,
          3.0713183879852295,
          3.6866445541381836,
          3.3310017585754395,
          3.7745893001556396,
          2.895932674407959,
          2.4751782417297363,
          4.665764808654785,
          5.98179817199707,
          3.438136577606201,
          2.086831569671631,
          3.7252883911132812,
          3.8675942420959473,
          3.342346668243408,
          5.533933162689209,
          2.8817219734191895,
          3.1589114665985107,
          2.239651918411255,
          3.9371531009674072,
          3.8267855644226074,
          4.117630958557129,
          3.486664056777954,
          4.358332633972168,
          3.658456802368164,
          4.2272443771362305,
          4.762129306793213,
          2.3929553031921387,
          4.610702037811279,
          3.015820026397705,
          5.368371486663818,
          5.254579067230225,
          3.00223445892334,
          5.10164737701416,
          4.115235805511475,
          3.727216958999634,
          3.170499086380005,
          5.47903299331665,
          3.5892579555511475,
          5.28668212890625,
          2.0940582752227783,
          5.8605265617370605,
          4.597385883331299,
          3.468262195587158,
          2.7156972885131836,
          2.5642056465148926,
          4.818866729736328,
          4.338599681854248,
          4.044366359710693,
          2.986267328262329,
          5.603221893310547,
          2.6690542697906494,
          2.610208749771118,
          4.72264289855957,
          2.2096846103668213,
          2.182755708694458,
          4.260253429412842,
          3.52897310256958,
          4.729222297668457,
          3.3011651039123535,
          4.210640907287598,
          4.415060520172119,
          4.201195240020752,
          5.081634998321533,
          4.461785316467285,
          5.230312824249268,
          4.014899253845215,
          2.681410074234009,
          3.8477251529693604,
          2.9381935596466064,
          3.3977928161621094,
          2.7913577556610107,
          3.612119674682617,
          2.255709409713745,
          4.059023857116699,
          2.871532678604126,
          2.375088691711426,
          2.1493563652038574,
          3.480527400970459,
          3.890482187271118,
          5.323879718780518,
          2.5877737998962402,
          3.987841844558716,
          3.1165976524353027,
          4.0927205085754395,
          2.108637571334839,
          5.382009029388428,
          5.035295486450195,
          4.984601020812988,
          4.823432445526123,
          3.2302629947662354,
          3.388167142868042,
          4.7557220458984375,
          2.0635688304901123,
          4.419430255889893,
          2.442017078399658,
          3.0412752628326416,
          3.0757174491882324,
          3.010187864303589,
          4.172736644744873,
          3.9546866416931152,
          4.085580825805664,
          2.154721260070801,
          4.620034694671631,
          3.740821123123169,
          3.497824192047119,
          2.9121158123016357,
          3.0931055545806885,
          3.188420057296753,
          2.948631525039673,
          2.601890802383423,
          4.211382865905762,
          2.669943332672119,
          4.222869396209717,
          4.96696138381958,
          2.002227306365967,
          3.72961688041687,
          4.950110912322998,
          4.133432388305664,
          3.4038712978363037,
          3.806352376937866,
          2.8096024990081787,
          4.382195949554443,
          3.556370496749878,
          4.8693437576293945,
          3.508336305618286,
          2.9774274826049805,
          3.4164071083068848,
          3.4191126823425293,
          2.1992645263671875,
          4.556284427642822,
          3.2878570556640625,
          4.158709526062012,
          4.247646331787109,
          3.2811686992645264,
          2.971113443374634,
          3.2787556648254395,
          4.098655700683594,
          4.404407024383545,
          5.069979667663574,
          2.098659038543701,
          3.3146767616271973,
          3.095571517944336,
          2.392794370651245,
          3.6772470474243164,
          5.187294006347656,
          3.442885398864746,
          2.973860025405884,
          2.801105260848999,
          3.0396194458007812,
          4.990891933441162,
          3.0958526134490967
         ]
        },
        {
         "mode": "markers",
         "name": "James Bland",
         "type": "scatter",
         "visible": false,
         "x": [
          9.228672981262207,
          9.672572135925293,
          10.537558555603027,
          7.736486434936523,
          10.673572540283203,
          9.024818420410156,
          10.692873001098633,
          10.813634872436523,
          8.953609466552734,
          10.00100326538086,
          10.852215766906738,
          9.458823204040527,
          9.883423805236816,
          9.68192195892334,
          9.265869140625,
          9.082042694091797,
          11.012977600097656,
          10.091287612915039,
          11.063360214233398,
          10.072962760925293,
          11.097960472106934,
          7.418248653411865,
          9.474961280822754,
          8.157705307006836,
          10.982571601867676,
          10.542464256286621,
          10.510334968566895,
          9.676589965820312,
          10.772128105163574,
          8.720077514648438,
          10.610135078430176,
          10.2576904296875,
          9.406049728393555,
          11.012065887451172,
          8.219014167785645,
          10.650439262390137,
          10.582149505615234,
          8.01340103149414,
          9.154316902160645,
          8.281393051147461,
          8.101988792419434,
          10.282273292541504,
          10.66186809539795,
          9.379015922546387,
          9.739761352539062,
          10.415780067443848,
          8.851179122924805,
          9.414042472839355,
          9.288572311401367,
          10.141470909118652,
          9.368085861206055,
          9.205528259277344,
          10.632360458374023,
          9.125903129577637,
          10.475423812866211,
          10.029626846313477,
          9.242352485656738,
          11.019975662231445,
          10.536844253540039,
          9.381269454956055,
          9.711265563964844,
          9.221899032592773,
          8.825508117675781,
          9.196885108947754,
          8.775735855102539,
          9.230948448181152,
          9.86405086517334,
          9.597352027893066,
          8.42017936706543,
          10.790874481201172,
          10.823346138000488,
          8.793935775756836,
          9.280882835388184,
          9.386035919189453,
          10.566080093383789,
          9.077969551086426,
          9.519500732421875,
          10.392715454101562,
          8.939204216003418,
          9.39676284790039,
          8.903642654418945,
          9.304495811462402,
          9.134600639343262,
          9.647208213806152,
          8.62477970123291,
          8.874157905578613,
          8.867598533630371,
          10.314679145812988,
          10.786431312561035,
          9.69958782196045,
          10.401270866394043,
          9.247797966003418,
          9.179779052734375,
          9.043379783630371,
          8.870352745056152,
          9.218517303466797,
          8.90848445892334,
          8.707061767578125,
          9.331239700317383,
          10.878888130187988,
          10.240078926086426,
          9.061725616455078,
          9.439153671264648,
          10.310775756835938,
          10.739263534545898,
          9.090360641479492,
          9.21827507019043,
          9.46254825592041,
          9.157485008239746,
          9.28537368774414,
          9.052848815917969,
          7.4332098960876465,
          9.04659652709961,
          11.047157287597656,
          9.436152458190918,
          11.14427375793457,
          9.233763694763184,
          10.817943572998047,
          8.7470064163208,
          10.255050659179688,
          10.512857437133789,
          9.68491268157959,
          9.293272018432617,
          8.173083305358887,
          9.233895301818848,
          9.21470832824707,
          10.586590766906738,
          9.08948802947998,
          9.378162384033203,
          9.495359420776367,
          9.729360580444336,
          9.88230037689209,
          9.32733154296875,
          10.590265274047852,
          8.82476806640625,
          8.948502540588379,
          10.730745315551758,
          10.856220245361328,
          9.155638694763184,
          9.05505657196045,
          10.688986778259277
         ],
         "y": [
          3.3452131748199463,
          3.4919896125793457,
          3.254213333129883,
          2.463563919067383,
          3.273151397705078,
          3.467250108718872,
          3.37454891204834,
          3.201981544494629,
          3.1002211570739746,
          3.2220184803009033,
          3.1316275596618652,
          3.920464515686035,
          3.121185064315796,
          3.253011703491211,
          3.69386625289917,
          3.8866708278656006,
          3.2298836708068848,
          3.219292163848877,
          3.162367582321167,
          3.4439313411712646,
          3.1733880043029785,
          2.171501636505127,
          3.770642042160034,
          3.222377061843872,
          3.2607533931732178,
          3.411778211593628,
          3.192814350128174,
          4.085090637207031,
          3.0931973457336426,
          5.121588230133057,
          3.203139066696167,
          3.7246651649475098,
          3.1974709033966064,
          3.1827592849731445,
          2.466987133026123,
          3.2055788040161133,
          3.28108811378479,
          2.613057851791382,
          3.0687854290008545,
          3.1323516368865967,
          2.55543851852417,
          3.696850061416626,
          3.4665963649749756,
          3.6454896926879883,
          3.0530617237091064,
          3.297070026397705,
          4.395866394042969,
          3.6612348556518555,
          3.293628692626953,
          3.488483428955078,
          3.294461488723755,
          3.8813791275024414,
          3.124629259109497,
          3.146284341812134,
          3.4751720428466797,
          3.41713547706604,
          3.650571346282959,
          3.2992615699768066,
          3.0924882888793945,
          3.416616678237915,
          3.092332601547241,
          4.0740556716918945,
          5.055649757385254,
          4.667484283447266,
          5.190114974975586,
          4.722371578216553,
          3.7286953926086426,
          3.2775461673736572,
          3.1300830841064453,
          3.368259906768799,
          3.2231059074401855,
          3.1815309524536133,
          4.252353191375732,
          3.728651285171509,
          3.1805028915405273,
          3.901139497756958,
          3.862936496734619,
          3.5747880935668945,
          3.522535562515259,
          3.6667466163635254,
          2.8755571842193604,
          3.070943832397461,
          4.506265640258789,
          3.8237297534942627,
          4.8353190422058105,
          3.747143507003784,
          2.8247859477996826,
          3.5804495811462402,
          3.2520039081573486,
          3.089991807937622,
          3.263361692428589,
          3.7086217403411865,
          3.0641558170318604,
          3.789952516555786,
          5.011048793792725,
          3.5782103538513184,
          4.882993221282959,
          4.694098472595215,
          3.201841115951538,
          3.1658413410186768,
          3.676286220550537,
          3.571497678756714,
          4.378610134124756,
          3.610032558441162,
          3.4702987670898438,
          3.8838183879852295,
          3.7631754875183105,
          4.178476810455322,
          4.666384696960449,
          3.4126460552215576,
          3.433509111404419,
          2.242814779281616,
          4.099790096282959,
          3.1723251342773438,
          4.186430931091309,
          3.1349284648895264,
          4.537280559539795,
          3.159330368041992,
          3.4247243404388428,
          3.4274446964263916,
          3.508382558822632,
          2.93359375,
          3.2711377143859863,
          3.1321921348571777,
          4.009223937988281,
          3.978290319442749,
          3.4883205890655518,
          4.769411087036133,
          4.403886318206787,
          4.230119705200195,
          3.865483283996582,
          3.5843629837036133,
          3.1144256591796875,
          3.5230727195739746,
          2.6777679920196533,
          3.150505304336548,
          3.0748279094696045,
          3.3544633388519287,
          3.26231050491333,
          4.752222061157227,
          3.459345579147339
         ]
        },
        {
         "mode": "markers",
         "name": "Marcel Stout",
         "type": "scatter",
         "visible": false,
         "x": [
          6.579113960266113,
          5.240030288696289,
          6.16143274307251,
          4.366636753082275,
          4.134338855743408,
          3.556856870651245,
          5.323836803436279,
          5.005130767822266,
          6.7586989402771,
          5.060747146606445,
          4.841104984283447,
          4.34663200378418,
          5.3587446212768555,
          3.9842233657836914,
          4.940629005432129,
          4.561428546905518,
          5.289803981781006,
          5.227192401885986,
          5.083498001098633,
          4.8139824867248535,
          3.711059808731079,
          4.484748840332031,
          5.415224552154541,
          5.669811248779297,
          4.454310417175293,
          5.462723731994629,
          6.266841888427734,
          5.724868297576904,
          5.566643238067627,
          3.8612923622131348,
          8.35107707977295,
          5.131258010864258,
          4.855550765991211,
          5.2298665046691895,
          4.121219158172607,
          3.749453544616699,
          5.44991397857666,
          4.476084232330322,
          5.570241928100586,
          6.599562168121338,
          4.460598945617676,
          4.82784366607666,
          5.290802955627441,
          6.05913782119751,
          5.439239978790283,
          4.834630489349365,
          5.910397529602051,
          5.529721260070801,
          4.976070404052734,
          5.594862461090088,
          3.9384617805480957,
          5.350536823272705,
          4.171483993530273,
          4.560701370239258,
          5.79655647277832,
          3.5514156818389893,
          4.10231351852417,
          5.323310375213623,
          3.6324524879455566,
          3.6890459060668945,
          5.954339981079102,
          3.7826666831970215,
          5.028327941894531,
          4.703847885131836,
          6.157217979431152,
          6.1557087898254395,
          3.933929681777954,
          4.959244251251221,
          5.357158660888672,
          4.110293388366699,
          5.215592861175537,
          4.589363098144531,
          3.8689117431640625,
          4.406817436218262,
          5.525483131408691,
          6.072980880737305,
          4.864470481872559,
          5.05165958404541,
          4.373786449432373,
          6.880894184112549,
          5.98415470123291,
          4.1822991371154785,
          4.6157546043396,
          4.869008541107178,
          4.5413641929626465,
          4.508381366729736,
          4.389611721038818,
          5.83966588973999,
          4.362579822540283,
          6.274325370788574,
          3.545851469039917,
          4.6492109298706055,
          3.666583776473999,
          4.294685363769531,
          4.403857231140137,
          4.758655548095703,
          5.222245216369629,
          3.6932220458984375,
          5.721136093139648,
          6.148190975189209,
          5.8539042472839355,
          5.015422344207764,
          4.3112101554870605,
          6.184220790863037,
          4.025132179260254,
          3.925974130630493,
          5.344840049743652,
          5.291543483734131,
          5.48121452331543,
          3.6561522483825684,
          5.265514373779297,
          4.627554893493652,
          5.813968658447266,
          4.254535675048828,
          4.845546245574951,
          3.7302374839782715,
          5.459381103515625,
          3.848860263824463,
          4.879001140594482,
          3.5871410369873047,
          4.862942695617676,
          4.073843002319336,
          3.7825465202331543,
          5.741182327270508,
          3.663729667663574,
          5.590034484863281,
          5.8656086921691895,
          4.76358699798584,
          6.946463584899902,
          3.54439640045166,
          4.2344584465026855,
          4.746856212615967,
          5.254683017730713,
          6.3617682456970215,
          5.785133361816406,
          5.047667503356934,
          5.201790809631348,
          5.827795505523682,
          6.097438812255859,
          5.136642932891846,
          4.984255790710449,
          4.942143440246582,
          5.971158504486084,
          5.670945644378662,
          4.742422103881836,
          3.55279278755188,
          5.511865615844727,
          5.036632537841797,
          4.700952529907227,
          5.022556781768799,
          3.6313488483428955,
          4.387914180755615,
          5.713125228881836,
          6.125999450683594,
          3.6536459922790527,
          5.166970729827881,
          4.109158515930176,
          5.1776933670043945,
          3.9667723178863525,
          7.034301280975342,
          5.1879377365112305,
          4.023961067199707,
          3.7796475887298584,
          3.6726551055908203,
          5.6100754737854,
          5.52203369140625,
          3.560391902923584,
          4.038559913635254,
          6.454224586486816,
          8.529854774475098,
          4.372287750244141,
          4.514952182769775,
          5.002777099609375,
          4.725824356079102,
          5.588411331176758,
          5.724178314208984,
          5.3458781242370605,
          6.148032188415527,
          5.487386226654053,
          4.164720058441162,
          4.150712013244629,
          3.41176438331604,
          4.359079837799072,
          3.8327836990356445,
          7.102331161499023,
          5.797657012939453,
          5.726799011230469,
          5.751368999481201,
          4.812664985656738,
          5.332256317138672,
          6.295853614807129,
          6.01872444152832,
          5.436514377593994,
          5.0346221923828125,
          4.887042045593262,
          5.265065670013428
         ],
         "y": [
          5.760341167449951,
          6.518185615539551,
          5.52827262878418,
          4.090987682342529,
          5.685379981994629,
          5.477238178253174,
          5.777987480163574,
          5.732522010803223,
          5.780705451965332,
          4.582527160644531,
          6.6322021484375,
          5.535109519958496,
          6.2239251136779785,
          5.05584716796875,
          6.023682594299316,
          4.45989465713501,
          6.648242950439453,
          4.462913990020752,
          5.172089576721191,
          6.6636176109313965,
          4.584897518157959,
          4.341874599456787,
          5.333650588989258,
          5.364788055419922,
          6.3386077880859375,
          6.468055248260498,
          5.213747024536133,
          6.320075988769531,
          6.633761405944824,
          5.382319450378418,
          5.39835786819458,
          6.734642505645752,
          6.699493885040283,
          4.672869682312012,
          5.217875957489014,
          5.134835720062256,
          6.433607578277588,
          4.624942779541016,
          6.190093040466309,
          6.176050662994385,
          5.396855354309082,
          4.047063827514648,
          5.037103652954102,
          6.0667643547058105,
          5.5730299949646,
          4.7732720375061035,
          5.190179347991943,
          6.562718391418457,
          4.802303314208984,
          5.414470672607422,
          5.620426177978516,
          6.530529022216797,
          4.366369724273682,
          4.158544540405273,
          6.3355488777160645,
          5.3983941078186035,
          5.638709545135498,
          6.732510089874268,
          5.419821739196777,
          5.366711139678955,
          5.832622528076172,
          4.866063594818115,
          6.653660297393799,
          4.755868434906006,
          5.357518672943115,
          4.961288928985596,
          5.364058971405029,
          4.868940353393555,
          5.372533321380615,
          5.3285017013549805,
          4.930692195892334,
          3.9034605026245117,
          4.998271942138672,
          5.519079208374023,
          6.6195855140686035,
          5.609879493713379,
          6.68688440322876,
          6.405945301055908,
          4.2804789543151855,
          5.7657084465026855,
          6.0741963386535645,
          4.511683464050293,
          6.495965957641602,
          4.357522010803223,
          5.894099235534668,
          5.614452362060547,
          5.2242350578308105,
          5.964756488800049,
          6.254273414611816,
          5.342250347137451,
          5.439016819000244,
          4.525311470031738,
          5.2753424644470215,
          5.124592304229736,
          5.046002388000488,
          4.691064357757568,
          5.810123920440674,
          5.245845317840576,
          5.416506767272949,
          4.822382926940918,
          5.893590927124023,
          4.234912395477295,
          5.614696025848389,
          5.320254802703857,
          4.475656509399414,
          5.100246429443359,
          6.56320333480835,
          6.720981121063232,
          4.764077663421631,
          5.586698532104492,
          4.287224769592285,
          4.1735100746154785,
          5.382606029510498,
          5.236530303955078,
          5.521363735198975,
          4.95089054107666,
          6.4849700927734375,
          4.552841663360596,
          6.685243606567383,
          5.52412748336792,
          6.66727352142334,
          4.911787033081055,
          5.447991847991943,
          5.798740386962891,
          4.901077747344971,
          6.595130443572998,
          5.995539665222168,
          6.669403076171875,
          5.728689193725586,
          4.73075008392334,
          5.360945224761963,
          5.229465961456299,
          4.7196502685546875,
          5.7860307693481445,
          5.461879253387451,
          4.253629684448242,
          6.772340774536133,
          4.9370646476745605,
          6.071863651275635,
          4.422916412353516,
          5.344906330108643,
          4.791581153869629,
          5.328440189361572,
          6.508350849151611,
          6.552797317504883,
          5.328507900238037,
          6.141108989715576,
          6.752577304840088,
          4.800856590270996,
          4.636873245239258,
          4.798526763916016,
          5.473444938659668,
          6.379868030548096,
          5.4180827140808105,
          5.485055446624756,
          4.247651100158691,
          5.676564693450928,
          6.705583095550537,
          4.788022994995117,
          5.738795280456543,
          6.558942794799805,
          5.489843368530273,
          4.757838726043701,
          5.499496936798096,
          4.603967666625977,
          6.542292594909668,
          5.461660385131836,
          4.465643882751465,
          5.461831569671631,
          5.408413410186768,
          5.20357608795166,
          5.246387481689453,
          6.675045013427734,
          4.716673851013184,
          6.114800930023193,
          6.22114372253418,
          6.658012866973877,
          4.945301532745361,
          5.227915287017822,
          4.908492565155029,
          5.404268741607666,
          5.225215435028076,
          4.47616720199585,
          4.950685501098633,
          5.6462721824646,
          6.146766662597656,
          5.62855863571167,
          5.4687042236328125,
          4.8173828125,
          5.012930393218994,
          5.517351150512695,
          5.48712682723999,
          4.945180892944336,
          6.785948276519775,
          5.272159099578857,
          4.803532123565674
         ]
        }
       ],
       "layout": {
        "height": 600,
        "template": {
         "data": {
          "bar": [
           {
            "error_x": {
             "color": "#2a3f5f"
            },
            "error_y": {
             "color": "#2a3f5f"
            },
            "marker": {
             "line": {
              "color": "#E5ECF6",
              "width": 0.5
             },
             "pattern": {
              "fillmode": "overlay",
              "size": 10,
              "solidity": 0.2
             }
            },
            "type": "bar"
           }
          ],
          "barpolar": [
           {
            "marker": {
             "line": {
              "color": "#E5ECF6",
              "width": 0.5
             },
             "pattern": {
              "fillmode": "overlay",
              "size": 10,
              "solidity": 0.2
             }
            },
            "type": "barpolar"
           }
          ],
          "carpet": [
           {
            "aaxis": {
             "endlinecolor": "#2a3f5f",
             "gridcolor": "white",
             "linecolor": "white",
             "minorgridcolor": "white",
             "startlinecolor": "#2a3f5f"
            },
            "baxis": {
             "endlinecolor": "#2a3f5f",
             "gridcolor": "white",
             "linecolor": "white",
             "minorgridcolor": "white",
             "startlinecolor": "#2a3f5f"
            },
            "type": "carpet"
           }
          ],
          "choropleth": [
           {
            "colorbar": {
             "outlinewidth": 0,
             "ticks": ""
            },
            "type": "choropleth"
           }
          ],
          "contour": [
           {
            "colorbar": {
             "outlinewidth": 0,
             "ticks": ""
            },
            "colorscale": [
             [
              0,
              "#0d0887"
             ],
             [
              0.1111111111111111,
              "#46039f"
             ],
             [
              0.2222222222222222,
              "#7201a8"
             ],
             [
              0.3333333333333333,
              "#9c179e"
             ],
             [
              0.4444444444444444,
              "#bd3786"
             ],
             [
              0.5555555555555556,
              "#d8576b"
             ],
             [
              0.6666666666666666,
              "#ed7953"
             ],
             [
              0.7777777777777778,
              "#fb9f3a"
             ],
             [
              0.8888888888888888,
              "#fdca26"
             ],
             [
              1,
              "#f0f921"
             ]
            ],
            "type": "contour"
           }
          ],
          "contourcarpet": [
           {
            "colorbar": {
             "outlinewidth": 0,
             "ticks": ""
            },
            "type": "contourcarpet"
           }
          ],
          "heatmap": [
           {
            "colorbar": {
             "outlinewidth": 0,
             "ticks": ""
            },
            "colorscale": [
             [
              0,
              "#0d0887"
             ],
             [
              0.1111111111111111,
              "#46039f"
             ],
             [
              0.2222222222222222,
              "#7201a8"
             ],
             [
              0.3333333333333333,
              "#9c179e"
             ],
             [
              0.4444444444444444,
              "#bd3786"
             ],
             [
              0.5555555555555556,
              "#d8576b"
             ],
             [
              0.6666666666666666,
              "#ed7953"
             ],
             [
              0.7777777777777778,
              "#fb9f3a"
             ],
             [
              0.8888888888888888,
              "#fdca26"
             ],
             [
              1,
              "#f0f921"
             ]
            ],
            "type": "heatmap"
           }
          ],
          "heatmapgl": [
           {
            "colorbar": {
             "outlinewidth": 0,
             "ticks": ""
            },
            "colorscale": [
             [
              0,
              "#0d0887"
             ],
             [
              0.1111111111111111,
              "#46039f"
             ],
             [
              0.2222222222222222,
              "#7201a8"
             ],
             [
              0.3333333333333333,
              "#9c179e"
             ],
             [
              0.4444444444444444,
              "#bd3786"
             ],
             [
              0.5555555555555556,
              "#d8576b"
             ],
             [
              0.6666666666666666,
              "#ed7953"
             ],
             [
              0.7777777777777778,
              "#fb9f3a"
             ],
             [
              0.8888888888888888,
              "#fdca26"
             ],
             [
              1,
              "#f0f921"
             ]
            ],
            "type": "heatmapgl"
           }
          ],
          "histogram": [
           {
            "marker": {
             "pattern": {
              "fillmode": "overlay",
              "size": 10,
              "solidity": 0.2
             }
            },
            "type": "histogram"
           }
          ],
          "histogram2d": [
           {
            "colorbar": {
             "outlinewidth": 0,
             "ticks": ""
            },
            "colorscale": [
             [
              0,
              "#0d0887"
             ],
             [
              0.1111111111111111,
              "#46039f"
             ],
             [
              0.2222222222222222,
              "#7201a8"
             ],
             [
              0.3333333333333333,
              "#9c179e"
             ],
             [
              0.4444444444444444,
              "#bd3786"
             ],
             [
              0.5555555555555556,
              "#d8576b"
             ],
             [
              0.6666666666666666,
              "#ed7953"
             ],
             [
              0.7777777777777778,
              "#fb9f3a"
             ],
             [
              0.8888888888888888,
              "#fdca26"
             ],
             [
              1,
              "#f0f921"
             ]
            ],
            "type": "histogram2d"
           }
          ],
          "histogram2dcontour": [
           {
            "colorbar": {
             "outlinewidth": 0,
             "ticks": ""
            },
            "colorscale": [
             [
              0,
              "#0d0887"
             ],
             [
              0.1111111111111111,
              "#46039f"
             ],
             [
              0.2222222222222222,
              "#7201a8"
             ],
             [
              0.3333333333333333,
              "#9c179e"
             ],
             [
              0.4444444444444444,
              "#bd3786"
             ],
             [
              0.5555555555555556,
              "#d8576b"
             ],
             [
              0.6666666666666666,
              "#ed7953"
             ],
             [
              0.7777777777777778,
              "#fb9f3a"
             ],
             [
              0.8888888888888888,
              "#fdca26"
             ],
             [
              1,
              "#f0f921"
             ]
            ],
            "type": "histogram2dcontour"
           }
          ],
          "mesh3d": [
           {
            "colorbar": {
             "outlinewidth": 0,
             "ticks": ""
            },
            "type": "mesh3d"
           }
          ],
          "parcoords": [
           {
            "line": {
             "colorbar": {
              "outlinewidth": 0,
              "ticks": ""
             }
            },
            "type": "parcoords"
           }
          ],
          "pie": [
           {
            "automargin": true,
            "type": "pie"
           }
          ],
          "scatter": [
           {
            "fillpattern": {
             "fillmode": "overlay",
             "size": 10,
             "solidity": 0.2
            },
            "type": "scatter"
           }
          ],
          "scatter3d": [
           {
            "line": {
             "colorbar": {
              "outlinewidth": 0,
              "ticks": ""
             }
            },
            "marker": {
             "colorbar": {
              "outlinewidth": 0,
              "ticks": ""
             }
            },
            "type": "scatter3d"
           }
          ],
          "scattercarpet": [
           {
            "marker": {
             "colorbar": {
              "outlinewidth": 0,
              "ticks": ""
             }
            },
            "type": "scattercarpet"
           }
          ],
          "scattergeo": [
           {
            "marker": {
             "colorbar": {
              "outlinewidth": 0,
              "ticks": ""
             }
            },
            "type": "scattergeo"
           }
          ],
          "scattergl": [
           {
            "marker": {
             "colorbar": {
              "outlinewidth": 0,
              "ticks": ""
             }
            },
            "type": "scattergl"
           }
          ],
          "scattermapbox": [
           {
            "marker": {
             "colorbar": {
              "outlinewidth": 0,
              "ticks": ""
             }
            },
            "type": "scattermapbox"
           }
          ],
          "scatterpolar": [
           {
            "marker": {
             "colorbar": {
              "outlinewidth": 0,
              "ticks": ""
             }
            },
            "type": "scatterpolar"
           }
          ],
          "scatterpolargl": [
           {
            "marker": {
             "colorbar": {
              "outlinewidth": 0,
              "ticks": ""
             }
            },
            "type": "scatterpolargl"
           }
          ],
          "scatterternary": [
           {
            "marker": {
             "colorbar": {
              "outlinewidth": 0,
              "ticks": ""
             }
            },
            "type": "scatterternary"
           }
          ],
          "surface": [
           {
            "colorbar": {
             "outlinewidth": 0,
             "ticks": ""
            },
            "colorscale": [
             [
              0,
              "#0d0887"
             ],
             [
              0.1111111111111111,
              "#46039f"
             ],
             [
              0.2222222222222222,
              "#7201a8"
             ],
             [
              0.3333333333333333,
              "#9c179e"
             ],
             [
              0.4444444444444444,
              "#bd3786"
             ],
             [
              0.5555555555555556,
              "#d8576b"
             ],
             [
              0.6666666666666666,
              "#ed7953"
             ],
             [
              0.7777777777777778,
              "#fb9f3a"
             ],
             [
              0.8888888888888888,
              "#fdca26"
             ],
             [
              1,
              "#f0f921"
             ]
            ],
            "type": "surface"
           }
          ],
          "table": [
           {
            "cells": {
             "fill": {
              "color": "#EBF0F8"
             },
             "line": {
              "color": "white"
             }
            },
            "header": {
             "fill": {
              "color": "#C8D4E3"
             },
             "line": {
              "color": "white"
             }
            },
            "type": "table"
           }
          ]
         },
         "layout": {
          "annotationdefaults": {
           "arrowcolor": "#2a3f5f",
           "arrowhead": 0,
           "arrowwidth": 1
          },
          "autotypenumbers": "strict",
          "coloraxis": {
           "colorbar": {
            "outlinewidth": 0,
            "ticks": ""
           }
          },
          "colorscale": {
           "diverging": [
            [
             0,
             "#8e0152"
            ],
            [
             0.1,
             "#c51b7d"
            ],
            [
             0.2,
             "#de77ae"
            ],
            [
             0.3,
             "#f1b6da"
            ],
            [
             0.4,
             "#fde0ef"
            ],
            [
             0.5,
             "#f7f7f7"
            ],
            [
             0.6,
             "#e6f5d0"
            ],
            [
             0.7,
             "#b8e186"
            ],
            [
             0.8,
             "#7fbc41"
            ],
            [
             0.9,
             "#4d9221"
            ],
            [
             1,
             "#276419"
            ]
           ],
           "sequential": [
            [
             0,
             "#0d0887"
            ],
            [
             0.1111111111111111,
             "#46039f"
            ],
            [
             0.2222222222222222,
             "#7201a8"
            ],
            [
             0.3333333333333333,
             "#9c179e"
            ],
            [
             0.4444444444444444,
             "#bd3786"
            ],
            [
             0.5555555555555556,
             "#d8576b"
            ],
            [
             0.6666666666666666,
             "#ed7953"
            ],
            [
             0.7777777777777778,
             "#fb9f3a"
            ],
            [
             0.8888888888888888,
             "#fdca26"
            ],
            [
             1,
             "#f0f921"
            ]
           ],
           "sequentialminus": [
            [
             0,
             "#0d0887"
            ],
            [
             0.1111111111111111,
             "#46039f"
            ],
            [
             0.2222222222222222,
             "#7201a8"
            ],
            [
             0.3333333333333333,
             "#9c179e"
            ],
            [
             0.4444444444444444,
             "#bd3786"
            ],
            [
             0.5555555555555556,
             "#d8576b"
            ],
            [
             0.6666666666666666,
             "#ed7953"
            ],
            [
             0.7777777777777778,
             "#fb9f3a"
            ],
            [
             0.8888888888888888,
             "#fdca26"
            ],
            [
             1,
             "#f0f921"
            ]
           ]
          },
          "colorway": [
           "#636efa",
           "#EF553B",
           "#00cc96",
           "#ab63fa",
           "#FFA15A",
           "#19d3f3",
           "#FF6692",
           "#B6E880",
           "#FF97FF",
           "#FECB52"
          ],
          "font": {
           "color": "#2a3f5f"
          },
          "geo": {
           "bgcolor": "white",
           "lakecolor": "white",
           "landcolor": "#E5ECF6",
           "showlakes": true,
           "showland": true,
           "subunitcolor": "white"
          },
          "hoverlabel": {
           "align": "left"
          },
          "hovermode": "closest",
          "mapbox": {
           "style": "light"
          },
          "paper_bgcolor": "white",
          "plot_bgcolor": "#E5ECF6",
          "polar": {
           "angularaxis": {
            "gridcolor": "white",
            "linecolor": "white",
            "ticks": ""
           },
           "bgcolor": "#E5ECF6",
           "radialaxis": {
            "gridcolor": "white",
            "linecolor": "white",
            "ticks": ""
           }
          },
          "scene": {
           "xaxis": {
            "backgroundcolor": "#E5ECF6",
            "gridcolor": "white",
            "gridwidth": 2,
            "linecolor": "white",
            "showbackground": true,
            "ticks": "",
            "zerolinecolor": "white"
           },
           "yaxis": {
            "backgroundcolor": "#E5ECF6",
            "gridcolor": "white",
            "gridwidth": 2,
            "linecolor": "white",
            "showbackground": true,
            "ticks": "",
            "zerolinecolor": "white"
           },
           "zaxis": {
            "backgroundcolor": "#E5ECF6",
            "gridcolor": "white",
            "gridwidth": 2,
            "linecolor": "white",
            "showbackground": true,
            "ticks": "",
            "zerolinecolor": "white"
           }
          },
          "shapedefaults": {
           "line": {
            "color": "#2a3f5f"
           }
          },
          "ternary": {
           "aaxis": {
            "gridcolor": "white",
            "linecolor": "white",
            "ticks": ""
           },
           "baxis": {
            "gridcolor": "white",
            "linecolor": "white",
            "ticks": ""
           },
           "bgcolor": "#E5ECF6",
           "caxis": {
            "gridcolor": "white",
            "linecolor": "white",
            "ticks": ""
           }
          },
          "title": {
           "x": 0.05
          },
          "xaxis": {
           "automargin": true,
           "gridcolor": "white",
           "linecolor": "white",
           "ticks": "",
           "title": {
            "standoff": 15
           },
           "zerolinecolor": "white",
           "zerolinewidth": 2
          },
          "yaxis": {
           "automargin": true,
           "gridcolor": "white",
           "linecolor": "white",
           "ticks": "",
           "title": {
            "standoff": 15
           },
           "zerolinecolor": "white",
           "zerolinewidth": 2
          }
         }
        },
        "title": {
         "text": "PCA and UMAP projections"
        },
        "updatemenus": [
         {
          "active": 0,
          "buttons": [
           {
            "args": [
             {
              "visible": [
               true,
               true,
               true,
               true,
               false,
               false,
               false,
               false
              ]
             }
            ],
            "label": "PCA",
            "method": "update"
           },
           {
            "args": [
             {
              "visible": [
               false,
               false,
               false,
               false,
               true,
               true,
               true,
               true
              ]
             }
            ],
            "label": "UMAP",
            "method": "update"
           }
          ],
          "direction": "right",
          "type": "buttons",
          "x": 1,
          "y": 1.1
         }
        ],
        "width": 1000,
        "xaxis": {
         "title": {
          "text": "axis 1"
         }
        },
        "yaxis": {
         "title": {
          "text": "axis 2"
         }
        }
       }
      }
     },
     "metadata": {},
     "output_type": "display_data"
    }
   ],
   "source": [
    "### on same plot with buttons\n",
    "list_0 = [True]*4 + [False]*4\n",
    "list_1 = [False]*4 + [True]*4\n",
    "list_2 = [True]*8\n",
    "\n",
    "fig = go.Figure()\n",
    "\n",
    "for cluster_id in [0,1,2,3]:\n",
    "    fig.add_trace(go.Scatter(x=users_pca_2.loc[users_pca_2['cluster'] == cluster_id]['Principal component 1'], y=users_pca_2.loc[users_pca_2['cluster']==cluster_id]['Principal component 2'], mode='markers', visible=True, name=mapping_idx_name[cluster_id]))\n",
    "\n",
    "for cluster_id in [0,1,2,3]:\n",
    "    fig.add_trace(go.Scatter(x=user_projected_umap.loc[user_projected_umap['cluster'] == cluster_id]['Axis x'], y=user_projected_umap.loc[user_projected_umap['cluster']==cluster_id]['Axis y'], mode='markers', visible=False, name=mapping_idx_name[cluster_id]))\n",
    "\n",
    "fig.update_layout(\n",
    "    width=1000,\n",
    "    height=600,\n",
    "    updatemenus=[\n",
    "        dict(\n",
    "            type=\"buttons\",\n",
    "            direction=\"right\",\n",
    "\n",
    "            active=0,\n",
    "            x=1,\n",
    "            y=1.1,\n",
    "            buttons=list([\n",
    "                dict(label=\"PCA\",\n",
    "                     method=\"update\",\n",
    "                     args=[{\"visible\": list_0}]),\n",
    "                dict(label=\"UMAP\",\n",
    "                \n",
    "                     method=\"update\",\n",
    "                     args=[{\"visible\": list_1}]),\n",
    "            ]),\n",
    "        )\n",
    "    ])\n",
    "\n",
    "#TODO??\n",
    "#fig.update_layout(yaxis_range=[-4,4])\n",
    "#fig.update_layout(xaxis_range=[-5,5])\n",
    "\n",
    "# Set title\n",
    "fig.update_xaxes(title_text=\"axis 1\")\n",
    "fig.update_yaxes(title_text=\"axis 2\")\n",
    "fig.update_layout(\n",
    "    title_text=\"PCA and UMAP projections\",\n",
    ")\n",
    "\n",
    "fig.show()\n",
    "#fig.write_html(\"umap_pca.html\")"
   ]
  }
 ],
 "metadata": {
  "kernelspec": {
   "display_name": "base",
   "language": "python",
   "name": "python3"
  },
  "language_info": {
   "codemirror_mode": {
    "name": "ipython",
    "version": 3
   },
   "file_extension": ".py",
   "mimetype": "text/x-python",
   "name": "python",
   "nbconvert_exporter": "python",
   "pygments_lexer": "ipython3",
   "version": "3.9.7"
  },
  "orig_nbformat": 4,
  "vscode": {
   "interpreter": {
    "hash": "40d3a090f54c6569ab1632332b64b2c03c39dcf918b08424e98f38b5ae0af88f"
   }
  }
 },
 "nbformat": 4,
 "nbformat_minor": 2
}
