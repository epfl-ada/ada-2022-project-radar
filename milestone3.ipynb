{
 "cells": [
  {
   "cell_type": "code",
   "execution_count": 207,
   "metadata": {},
   "outputs": [],
   "source": [
    "import sys\n",
    "import gzip\n",
    "import random\n",
    "import collections\n",
    "import math\n",
    "import datetime\n",
    "from datetime import *\n",
    "\n",
    "import pandas as pd\n",
    "import numpy as np\n",
    "import seaborn as sns\n",
    "import networkx as nx\n",
    "import matplotlib.pyplot as plt\n",
    "import matplotlib.cm as cm\n",
    "\n",
    "import plotly.express as px\n",
    "import pylab\n",
    "import scipy.stats as stats\n",
    "import plotly.graph_objects as go\n",
    "\n",
    "from scipy.stats import bootstrap, ttest_ind, ttest_rel\n",
    "from sklearn.cluster import KMeans\n",
    "from sklearn.decomposition import PCA\n",
    "from umap.umap_ import UMAP\n",
    "from sklearn.metrics import silhouette_samples, silhouette_score\n"
   ]
  },
  {
   "cell_type": "code",
   "execution_count": 208,
   "metadata": {},
   "outputs": [],
   "source": [
    "plt.style.use('seaborn')\n",
    "pd.options.mode.chained_assignment = None  # default='warn'"
   ]
  },
  {
   "attachments": {},
   "cell_type": "markdown",
   "metadata": {},
   "source": [
    "# Dataset of the beers (beers.csv)"
   ]
  },
  {
   "cell_type": "code",
   "execution_count": 209,
   "metadata": {},
   "outputs": [],
   "source": [
    "#load the data beers.csv\n",
    "df_beers = pd.read_csv('./data/beers.csv')"
   ]
  },
  {
   "cell_type": "code",
   "execution_count": 210,
   "metadata": {},
   "outputs": [
    {
     "data": {
      "text/html": [
       "<div>\n",
       "<style scoped>\n",
       "    .dataframe tbody tr th:only-of-type {\n",
       "        vertical-align: middle;\n",
       "    }\n",
       "\n",
       "    .dataframe tbody tr th {\n",
       "        vertical-align: top;\n",
       "    }\n",
       "\n",
       "    .dataframe thead th {\n",
       "        text-align: right;\n",
       "    }\n",
       "</style>\n",
       "<table border=\"1\" class=\"dataframe\">\n",
       "  <thead>\n",
       "    <tr style=\"text-align: right;\">\n",
       "      <th></th>\n",
       "      <th>beer_id</th>\n",
       "      <th>beer_name</th>\n",
       "      <th>brewery_id</th>\n",
       "      <th>brewery_name</th>\n",
       "      <th>style</th>\n",
       "      <th>nbr_ratings</th>\n",
       "      <th>nbr_reviews</th>\n",
       "      <th>avg</th>\n",
       "      <th>ba_score</th>\n",
       "      <th>bros_score</th>\n",
       "      <th>abv</th>\n",
       "      <th>avg_computed</th>\n",
       "      <th>zscore</th>\n",
       "      <th>nbr_matched_valid_ratings</th>\n",
       "      <th>avg_matched_valid_ratings</th>\n",
       "    </tr>\n",
       "  </thead>\n",
       "  <tbody>\n",
       "    <tr>\n",
       "      <th>0</th>\n",
       "      <td>166064</td>\n",
       "      <td>Nashe Moskovskoe</td>\n",
       "      <td>39912</td>\n",
       "      <td>Abdysh-Ata (Абдыш Ата)</td>\n",
       "      <td>Euro Pale Lager</td>\n",
       "      <td>0</td>\n",
       "      <td>0</td>\n",
       "      <td>NaN</td>\n",
       "      <td>NaN</td>\n",
       "      <td>NaN</td>\n",
       "      <td>4.7</td>\n",
       "      <td>NaN</td>\n",
       "      <td>NaN</td>\n",
       "      <td>0</td>\n",
       "      <td>NaN</td>\n",
       "    </tr>\n",
       "    <tr>\n",
       "      <th>1</th>\n",
       "      <td>166065</td>\n",
       "      <td>Nashe Pivovskoe</td>\n",
       "      <td>39912</td>\n",
       "      <td>Abdysh-Ata (Абдыш Ата)</td>\n",
       "      <td>Euro Pale Lager</td>\n",
       "      <td>0</td>\n",
       "      <td>0</td>\n",
       "      <td>NaN</td>\n",
       "      <td>NaN</td>\n",
       "      <td>NaN</td>\n",
       "      <td>3.8</td>\n",
       "      <td>NaN</td>\n",
       "      <td>NaN</td>\n",
       "      <td>0</td>\n",
       "      <td>NaN</td>\n",
       "    </tr>\n",
       "    <tr>\n",
       "      <th>2</th>\n",
       "      <td>166066</td>\n",
       "      <td>Nashe Shakhterskoe</td>\n",
       "      <td>39912</td>\n",
       "      <td>Abdysh-Ata (Абдыш Ата)</td>\n",
       "      <td>Euro Pale Lager</td>\n",
       "      <td>0</td>\n",
       "      <td>0</td>\n",
       "      <td>NaN</td>\n",
       "      <td>NaN</td>\n",
       "      <td>NaN</td>\n",
       "      <td>4.8</td>\n",
       "      <td>NaN</td>\n",
       "      <td>NaN</td>\n",
       "      <td>0</td>\n",
       "      <td>NaN</td>\n",
       "    </tr>\n",
       "    <tr>\n",
       "      <th>3</th>\n",
       "      <td>166067</td>\n",
       "      <td>Nashe Zhigulevskoe</td>\n",
       "      <td>39912</td>\n",
       "      <td>Abdysh-Ata (Абдыш Ата)</td>\n",
       "      <td>Euro Pale Lager</td>\n",
       "      <td>0</td>\n",
       "      <td>0</td>\n",
       "      <td>NaN</td>\n",
       "      <td>NaN</td>\n",
       "      <td>NaN</td>\n",
       "      <td>4.0</td>\n",
       "      <td>NaN</td>\n",
       "      <td>NaN</td>\n",
       "      <td>0</td>\n",
       "      <td>NaN</td>\n",
       "    </tr>\n",
       "    <tr>\n",
       "      <th>4</th>\n",
       "      <td>166063</td>\n",
       "      <td>Zhivoe</td>\n",
       "      <td>39912</td>\n",
       "      <td>Abdysh-Ata (Абдыш Ата)</td>\n",
       "      <td>Euro Pale Lager</td>\n",
       "      <td>0</td>\n",
       "      <td>0</td>\n",
       "      <td>NaN</td>\n",
       "      <td>NaN</td>\n",
       "      <td>NaN</td>\n",
       "      <td>4.5</td>\n",
       "      <td>NaN</td>\n",
       "      <td>NaN</td>\n",
       "      <td>0</td>\n",
       "      <td>NaN</td>\n",
       "    </tr>\n",
       "  </tbody>\n",
       "</table>\n",
       "</div>"
      ],
      "text/plain": [
       "   beer_id           beer_name  brewery_id            brewery_name  \\\n",
       "0   166064    Nashe Moskovskoe       39912  Abdysh-Ata (Абдыш Ата)   \n",
       "1   166065     Nashe Pivovskoe       39912  Abdysh-Ata (Абдыш Ата)   \n",
       "2   166066  Nashe Shakhterskoe       39912  Abdysh-Ata (Абдыш Ата)   \n",
       "3   166067  Nashe Zhigulevskoe       39912  Abdysh-Ata (Абдыш Ата)   \n",
       "4   166063              Zhivoe       39912  Abdysh-Ata (Абдыш Ата)   \n",
       "\n",
       "             style  nbr_ratings  nbr_reviews  avg  ba_score  bros_score  abv  \\\n",
       "0  Euro Pale Lager            0            0  NaN       NaN         NaN  4.7   \n",
       "1  Euro Pale Lager            0            0  NaN       NaN         NaN  3.8   \n",
       "2  Euro Pale Lager            0            0  NaN       NaN         NaN  4.8   \n",
       "3  Euro Pale Lager            0            0  NaN       NaN         NaN  4.0   \n",
       "4  Euro Pale Lager            0            0  NaN       NaN         NaN  4.5   \n",
       "\n",
       "   avg_computed  zscore  nbr_matched_valid_ratings  avg_matched_valid_ratings  \n",
       "0           NaN     NaN                          0                        NaN  \n",
       "1           NaN     NaN                          0                        NaN  \n",
       "2           NaN     NaN                          0                        NaN  \n",
       "3           NaN     NaN                          0                        NaN  \n",
       "4           NaN     NaN                          0                        NaN  "
      ]
     },
     "execution_count": 210,
     "metadata": {},
     "output_type": "execute_result"
    }
   ],
   "source": [
    "df_beers.head()"
   ]
  },
  {
   "cell_type": "code",
   "execution_count": 211,
   "metadata": {
    "cell_id": "f19be61f23d14b039515a428e733e967",
    "deepnote_cell_type": "code"
   },
   "outputs": [],
   "source": [
    "#We do not use some features\n",
    "list_considered_variable=['beer_id','beer_name','brewery_id','brewery_name','style',\n",
    "                          'nbr_reviews','nbr_ratings','avg', 'abv']\n",
    "df_beers=df_beers[list_considered_variable]"
   ]
  },
  {
   "cell_type": "code",
   "execution_count": 212,
   "metadata": {
    "cell_id": "eadfb89af763419cb9ac7620298c2aaa",
    "deepnote_cell_type": "code",
    "deepnote_to_be_reexecuted": false,
    "execution_millis": 36,
    "execution_start": 1668694159723,
    "source_hash": "763cc6b1",
    "tags": []
   },
   "outputs": [],
   "source": [
    "#Each style gets map to one of the 15 category\n",
    "beer_catalog = {\n",
    "    'Bocks' : ['Bock', 'Doppelbock', 'Eisbock', 'Maibock', 'Weizenbock', 'Maibock / Helles Bock'],\n",
    "\n",
    "    'Dark Ales' : ['Dubbel', 'Roggenbier', 'Scottish Ale', 'Winter Warmer'],\n",
    "\n",
    "    'Hybrid Beers' : ['Bière de Champagne / Bière Brut', 'Braggot', 'California Common / Steam Beer', 'Cream Ale'],\n",
    "\n",
    "    'Pale Ales' : ['American Amber / Red Ale', 'American Blonde Ale', 'American Pale Ale', 'Belgian Blonde Ale',\n",
    "    'Belgian Pale Ale', 'Bière de Garde', 'English Bitter', 'English Pale Ale', 'English Pale Mild Ale', 'Extra Special / Strong Bitter (ESB)',\n",
    "    'Grisette', 'Irish Red Ale', 'Kölsch', 'Saison', 'Saison / Farmhouse Ale', 'Belgian Strong Pale Ale', 'American Pale Ale (APA)'],\n",
    "\n",
    "    'Porters' : ['American Porter', 'Baltic Porter', 'English Porter', 'Imperial Porter', 'Robust Porter ', 'Smoked Porter'],\n",
    "\n",
    "    'Stouts' : ['American Imperial Stout', 'American Stout', 'English Stout', 'Foreign / Export Stout', 'Irish Dry Stout', 'Oatmeal Stout',\n",
    "    'Russian Imperial Stout', 'Milk / Sweet Stout', 'American Double / Imperial Stout'],\n",
    "\n",
    "    'Wheat Beers' : ['American Dark Wheat Beer', 'American Pale Wheat Beer', 'Dunkelweizen', 'Grodziskie', 'Hefeweizen', 'Kristallweizen', 'Witbier', \n",
    "    'American Pale Wheat Ale', 'American Dark Wheat Ale', 'Berliner Weissbier', 'Kristalweizen'],\n",
    "\n",
    "    'Brown Ales' : ['Altbier', 'American Brown Ale', 'Belgian Dark Ale', 'English Brown Ale', 'English Dark Mild Ale', 'Belgian Strong Dark Ale'],\n",
    "\n",
    "    'Dark Lagers' : ['American Amber / Red Lager', 'Czech Amber Lager', 'Czech Dark Lager', 'European Dark Lager', 'Märzen',\n",
    "    'Munich Dunkel', 'Rauchbier', 'Schwarzbier', 'Vienna Lager', 'Munich Dunkel Lager', 'Euro Dark Lager'],\n",
    "\n",
    "    'India Pale Ales' : ['American IPA', 'American Double / Imperial IPA', 'Belgian IPA', 'Black IPA', 'Brut IPA', 'English IPA', 'English India Pale Ale (IPA)', \n",
    "    'Imperial IPA', 'Milkshake IPA', 'New England IPA', 'American Black Ale'],\n",
    "\n",
    "    'Pale Lagers' : ['American Adjunct Lager', 'American Lager', 'Bohemian / Czech Pilsner', 'Czech Pale Lager', 'European / Dortmunder Export Lager',\n",
    "    'European Pale Lager', 'European Strong Lager', 'Festbier / Wiesnbier', 'German Pilsner', 'Helles', 'Imperial Pilsner', 'India Pale Lager (IPL)',\n",
    "    'Kellerbier / Zwickelbier', 'Light Lager', 'Malt Liquor', 'Czech Pilsener', 'Euro Pale Lager', 'American Pale Lager', 'German Pilsener', 'Dortmunder / Export Lager', \n",
    "    'Euro Strong Lager', 'Munich Helles Lager', 'American Double / Imperial Pilsner', 'American Malt Liquor', 'Märzen / Oktoberfest'],\n",
    "\n",
    "    'Specialty Beer' : ['Chile Beer', 'Fruit and Field Beer', 'Gruit / Ancient Herbed Ale', 'Happoshu', 'Herb and Spice Beer', 'Japanese Rice Lager',\n",
    "    'Kvass', 'Low-Alcohol Beer', 'Pumpkin Beer', 'Rye Beer', 'Sahti', 'Smoked Beer', 'Herbed / Spiced Beer', 'Pumpkin Ale', 'Scottish Gruit / Ancient Herbed Ale', 'Low Alcohol Beer'],\n",
    "\n",
    "    'Strong Ales' : ['American Barleywine', 'American Strong Ale', 'Belgian Dark Strong Ale', 'Belgian Pale Strong Ale', 'English Barleywine', 'English Strong Ale',\n",
    "    'Imperial Red Ale', 'Old Ale', 'Quadrupel (Quad)', 'Scotch Ale / Wee Heavy', 'Tripel', 'Wheatwine', 'Fruit / Vegetable Beer'],\n",
    "    \n",
    "    'Wild/Sour Beers' : ['Berliner Weisse', 'Brett Beer', 'Faro', 'Flanders Oud Bruin', 'Flanders Red Ale', 'Fruit Lambic',\n",
    "    'Fruited Kettle Sour', 'Gose', 'Gueuze', 'Lambic', 'Wild Ale', 'Lambic - Unblended', 'Lambic - Fruit', 'American Wild Ale'],\n",
    "\n",
    "    'Weird Cocktail' : ['Black & Tan']\n",
    "}"
   ]
  },
  {
   "cell_type": "code",
   "execution_count": 213,
   "metadata": {
    "cell_id": "26ffb113c1fd44f38af6d5ed9861ed16",
    "deepnote_cell_type": "code",
    "deepnote_to_be_reexecuted": false,
    "execution_millis": 8,
    "execution_start": 1668694159764,
    "source_hash": "390b466c",
    "tags": []
   },
   "outputs": [],
   "source": [
    "beer_catalog_reverse = {}\n",
    "for key, values in beer_catalog.items():\n",
    "    for value in values:\n",
    "            beer_catalog_reverse.setdefault(value, []).append(key)"
   ]
  },
  {
   "cell_type": "code",
   "execution_count": 214,
   "metadata": {
    "cell_id": "8aec10edbc964f71acf3ba71218c5896",
    "deepnote_cell_type": "code",
    "deepnote_to_be_reexecuted": false,
    "execution_millis": 40,
    "execution_start": 1668694159774,
    "source_hash": "6e14184a",
    "tags": []
   },
   "outputs": [],
   "source": [
    "def category_check(beer_style, beer_catalog):\n",
    "    '''\n",
    "    Return the new columns of 15 categories taken from the website https://www.beeradvocate.com/beer/styles/\n",
    "    '''\n",
    "    for category_name, beer_styles in beer_catalog.items():\n",
    "        if beer_style in beer_styles:\n",
    "            return category_name"
   ]
  },
  {
   "cell_type": "code",
   "execution_count": 215,
   "metadata": {
    "cell_id": "b478e5b39ab946288c93c71c01b1af4c",
    "deepnote_cell_type": "code",
    "deepnote_to_be_reexecuted": false,
    "execution_millis": 821,
    "execution_start": 1668694159814,
    "source_hash": "d2dcf1f1",
    "tags": []
   },
   "outputs": [],
   "source": [
    "df_beers['category'] = df_beers['style'].apply(lambda beer_style: category_check(beer_style, beer_catalog))"
   ]
  },
  {
   "cell_type": "code",
   "execution_count": 216,
   "metadata": {},
   "outputs": [
    {
     "data": {
      "text/html": [
       "<div>\n",
       "<style scoped>\n",
       "    .dataframe tbody tr th:only-of-type {\n",
       "        vertical-align: middle;\n",
       "    }\n",
       "\n",
       "    .dataframe tbody tr th {\n",
       "        vertical-align: top;\n",
       "    }\n",
       "\n",
       "    .dataframe thead th {\n",
       "        text-align: right;\n",
       "    }\n",
       "</style>\n",
       "<table border=\"1\" class=\"dataframe\">\n",
       "  <thead>\n",
       "    <tr style=\"text-align: right;\">\n",
       "      <th></th>\n",
       "      <th>beer_id</th>\n",
       "      <th>beer_name</th>\n",
       "      <th>brewery_id</th>\n",
       "      <th>brewery_name</th>\n",
       "      <th>style</th>\n",
       "      <th>nbr_reviews</th>\n",
       "      <th>nbr_ratings</th>\n",
       "      <th>avg</th>\n",
       "      <th>abv</th>\n",
       "      <th>category</th>\n",
       "    </tr>\n",
       "  </thead>\n",
       "  <tbody>\n",
       "    <tr>\n",
       "      <th>0</th>\n",
       "      <td>166064</td>\n",
       "      <td>Nashe Moskovskoe</td>\n",
       "      <td>39912</td>\n",
       "      <td>Abdysh-Ata (Абдыш Ата)</td>\n",
       "      <td>Euro Pale Lager</td>\n",
       "      <td>0</td>\n",
       "      <td>0</td>\n",
       "      <td>NaN</td>\n",
       "      <td>4.7</td>\n",
       "      <td>Pale Lagers</td>\n",
       "    </tr>\n",
       "    <tr>\n",
       "      <th>1</th>\n",
       "      <td>166065</td>\n",
       "      <td>Nashe Pivovskoe</td>\n",
       "      <td>39912</td>\n",
       "      <td>Abdysh-Ata (Абдыш Ата)</td>\n",
       "      <td>Euro Pale Lager</td>\n",
       "      <td>0</td>\n",
       "      <td>0</td>\n",
       "      <td>NaN</td>\n",
       "      <td>3.8</td>\n",
       "      <td>Pale Lagers</td>\n",
       "    </tr>\n",
       "    <tr>\n",
       "      <th>2</th>\n",
       "      <td>166066</td>\n",
       "      <td>Nashe Shakhterskoe</td>\n",
       "      <td>39912</td>\n",
       "      <td>Abdysh-Ata (Абдыш Ата)</td>\n",
       "      <td>Euro Pale Lager</td>\n",
       "      <td>0</td>\n",
       "      <td>0</td>\n",
       "      <td>NaN</td>\n",
       "      <td>4.8</td>\n",
       "      <td>Pale Lagers</td>\n",
       "    </tr>\n",
       "    <tr>\n",
       "      <th>3</th>\n",
       "      <td>166067</td>\n",
       "      <td>Nashe Zhigulevskoe</td>\n",
       "      <td>39912</td>\n",
       "      <td>Abdysh-Ata (Абдыш Ата)</td>\n",
       "      <td>Euro Pale Lager</td>\n",
       "      <td>0</td>\n",
       "      <td>0</td>\n",
       "      <td>NaN</td>\n",
       "      <td>4.0</td>\n",
       "      <td>Pale Lagers</td>\n",
       "    </tr>\n",
       "    <tr>\n",
       "      <th>4</th>\n",
       "      <td>166063</td>\n",
       "      <td>Zhivoe</td>\n",
       "      <td>39912</td>\n",
       "      <td>Abdysh-Ata (Абдыш Ата)</td>\n",
       "      <td>Euro Pale Lager</td>\n",
       "      <td>0</td>\n",
       "      <td>0</td>\n",
       "      <td>NaN</td>\n",
       "      <td>4.5</td>\n",
       "      <td>Pale Lagers</td>\n",
       "    </tr>\n",
       "  </tbody>\n",
       "</table>\n",
       "</div>"
      ],
      "text/plain": [
       "   beer_id           beer_name  brewery_id            brewery_name  \\\n",
       "0   166064    Nashe Moskovskoe       39912  Abdysh-Ata (Абдыш Ата)   \n",
       "1   166065     Nashe Pivovskoe       39912  Abdysh-Ata (Абдыш Ата)   \n",
       "2   166066  Nashe Shakhterskoe       39912  Abdysh-Ata (Абдыш Ата)   \n",
       "3   166067  Nashe Zhigulevskoe       39912  Abdysh-Ata (Абдыш Ата)   \n",
       "4   166063              Zhivoe       39912  Abdysh-Ata (Абдыш Ата)   \n",
       "\n",
       "             style  nbr_reviews  nbr_ratings  avg  abv     category  \n",
       "0  Euro Pale Lager            0            0  NaN  4.7  Pale Lagers  \n",
       "1  Euro Pale Lager            0            0  NaN  3.8  Pale Lagers  \n",
       "2  Euro Pale Lager            0            0  NaN  4.8  Pale Lagers  \n",
       "3  Euro Pale Lager            0            0  NaN  4.0  Pale Lagers  \n",
       "4  Euro Pale Lager            0            0  NaN  4.5  Pale Lagers  "
      ]
     },
     "execution_count": 216,
     "metadata": {},
     "output_type": "execute_result"
    }
   ],
   "source": [
    "df_beers.head(5)"
   ]
  },
  {
   "attachments": {},
   "cell_type": "markdown",
   "metadata": {},
   "source": [
    "# Dataset of the users (users.csv) and filtering"
   ]
  },
  {
   "cell_type": "code",
   "execution_count": 217,
   "metadata": {
    "cell_id": "a08802bdef7149109203f51bdf1142ce",
    "deepnote_cell_type": "code"
   },
   "outputs": [
    {
     "name": "stdout",
     "output_type": "stream",
     "text": [
      "         nbr_ratings    nbr_reviews        joined\n",
      "count  153704.000000  153704.000000  1.510520e+05\n",
      "mean       54.605163      16.847876  1.357238e+09\n",
      "std       252.388790     139.846706  9.195131e+07\n",
      "min         1.000000       0.000000  8.407944e+08\n",
      "25%         1.000000       0.000000  1.303121e+09\n",
      "50%         3.000000       0.000000  1.391944e+09\n",
      "75%        16.000000       2.000000  1.417691e+09\n",
      "max     12046.000000    8970.000000  1.501495e+09\n"
     ]
    },
    {
     "data": {
      "text/html": [
       "<div>\n",
       "<style scoped>\n",
       "    .dataframe tbody tr th:only-of-type {\n",
       "        vertical-align: middle;\n",
       "    }\n",
       "\n",
       "    .dataframe tbody tr th {\n",
       "        vertical-align: top;\n",
       "    }\n",
       "\n",
       "    .dataframe thead th {\n",
       "        text-align: right;\n",
       "    }\n",
       "</style>\n",
       "<table border=\"1\" class=\"dataframe\">\n",
       "  <thead>\n",
       "    <tr style=\"text-align: right;\">\n",
       "      <th></th>\n",
       "      <th>nbr_ratings</th>\n",
       "      <th>nbr_reviews</th>\n",
       "      <th>user_id</th>\n",
       "      <th>user_name</th>\n",
       "      <th>joined</th>\n",
       "      <th>location</th>\n",
       "    </tr>\n",
       "  </thead>\n",
       "  <tbody>\n",
       "    <tr>\n",
       "      <th>0</th>\n",
       "      <td>7820</td>\n",
       "      <td>465</td>\n",
       "      <td>nmann08.184925</td>\n",
       "      <td>nmann08</td>\n",
       "      <td>1.199704e+09</td>\n",
       "      <td>United States, Washington</td>\n",
       "    </tr>\n",
       "    <tr>\n",
       "      <th>1</th>\n",
       "      <td>2521</td>\n",
       "      <td>2504</td>\n",
       "      <td>stjamesgate.163714</td>\n",
       "      <td>StJamesGate</td>\n",
       "      <td>1.191838e+09</td>\n",
       "      <td>United States, New York</td>\n",
       "    </tr>\n",
       "    <tr>\n",
       "      <th>2</th>\n",
       "      <td>1797</td>\n",
       "      <td>1143</td>\n",
       "      <td>mdagnew.19527</td>\n",
       "      <td>mdagnew</td>\n",
       "      <td>1.116410e+09</td>\n",
       "      <td>Northern Ireland</td>\n",
       "    </tr>\n",
       "    <tr>\n",
       "      <th>3</th>\n",
       "      <td>31</td>\n",
       "      <td>31</td>\n",
       "      <td>helloloser12345.10867</td>\n",
       "      <td>helloloser12345</td>\n",
       "      <td>1.101380e+09</td>\n",
       "      <td>Northern Ireland</td>\n",
       "    </tr>\n",
       "    <tr>\n",
       "      <th>4</th>\n",
       "      <td>604</td>\n",
       "      <td>604</td>\n",
       "      <td>cypressbob.3708</td>\n",
       "      <td>cypressbob</td>\n",
       "      <td>1.069326e+09</td>\n",
       "      <td>Northern Ireland</td>\n",
       "    </tr>\n",
       "  </tbody>\n",
       "</table>\n",
       "</div>"
      ],
      "text/plain": [
       "   nbr_ratings  nbr_reviews                user_id        user_name  \\\n",
       "0         7820          465         nmann08.184925          nmann08   \n",
       "1         2521         2504     stjamesgate.163714      StJamesGate   \n",
       "2         1797         1143          mdagnew.19527          mdagnew   \n",
       "3           31           31  helloloser12345.10867  helloloser12345   \n",
       "4          604          604        cypressbob.3708       cypressbob   \n",
       "\n",
       "         joined                   location  \n",
       "0  1.199704e+09  United States, Washington  \n",
       "1  1.191838e+09    United States, New York  \n",
       "2  1.116410e+09           Northern Ireland  \n",
       "3  1.101380e+09           Northern Ireland  \n",
       "4  1.069326e+09           Northern Ireland  "
      ]
     },
     "execution_count": 217,
     "metadata": {},
     "output_type": "execute_result"
    }
   ],
   "source": [
    "#load the data\n",
    "\n",
    "df_users = pd.read_csv('./data/users.csv')\n",
    "print(df_users.describe())\n",
    "df_users.head(5)"
   ]
  },
  {
   "cell_type": "code",
   "execution_count": 218,
   "metadata": {
    "cell_id": "e9bbb0ea7e39456583d0b6628a387617",
    "deepnote_cell_type": "code"
   },
   "outputs": [
    {
     "name": "stdout",
     "output_type": "stream",
     "text": [
      "There are 113223 US users\n",
      "Cutoff low :  500\n",
      "Cutoff high :  1135.0\n",
      "Number of users left :  2232\n",
      "Total of ratings left :  1652164\n"
     ]
    }
   ],
   "source": [
    "# First user filtering phase \n",
    "\n",
    "# keep users from the USA only & who have made a minimum number of reviews in order to participate in our study\n",
    "\n",
    "df_us_users = df_users[df_users.location.str.contains('United States', na=False)]\n",
    "nb_us_users = df_us_users['user_id'].nunique()\n",
    "print(f\"There are {nb_us_users} US users\")\n",
    "\n",
    "#choose a minimum number of ratings per user, since we want to analyse an evolution!\n",
    "cutoff_low = 500\n",
    "print(\"Cutoff low : \", cutoff_low)\n",
    "\n",
    "#choose a maximum number of ratings per user, we want to filter our \"super-users\" or organisations\n",
    "cutoff_high = df_us_users.nbr_ratings.quantile(0.99)\n",
    "print(\"Cutoff high : \", cutoff_high)\n",
    "\n",
    "#create a valid user dataframe and a set with the valid user_names\n",
    "df_us_users = df_us_users[(df_us_users.nbr_ratings < cutoff_high) &\n",
    "                                (df_us_users.nbr_ratings >= cutoff_low)]\n",
    "us_users_names = set(df_us_users.user_name)\n",
    "print(\"Number of users left : \", len(us_users_names))\n",
    "print(\"Total of ratings left : \", df_us_users.nbr_ratings.sum())\n",
    "\n",
    "#convert the 'joined' column into datetime format\n",
    "df_us_users.loc[:,'date_joined'] = pd.to_datetime(df_us_users['joined'].apply(lambda dt : datetime.fromtimestamp(dt).strftime('%Y-%m-%d')))"
   ]
  },
  {
   "attachments": {},
   "cell_type": "markdown",
   "metadata": {},
   "source": [
    "# Dataset of the ratings (ratings.txt.gz) and filtering"
   ]
  },
  {
   "cell_type": "code",
   "execution_count": 219,
   "metadata": {},
   "outputs": [],
   "source": [
    "# We now gather some more user information by analyzing their behaviour as a reviewer"
   ]
  },
  {
   "cell_type": "code",
   "execution_count": 220,
   "metadata": {
    "cell_id": "4eb61738f844445ba471cd7668afab43",
    "deepnote_cell_type": "code",
    "deepnote_to_be_reexecuted": false,
    "execution_millis": 5,
    "execution_start": 1668694161680,
    "source_hash": "5f5f7f2d",
    "tags": []
   },
   "outputs": [],
   "source": [
    "def parse(filename):\n",
    "    \"\"\"\n",
    "    Parse a txt.gz file and return a generator for it\n",
    "    Copyright © 2017 Gael Lederrey <gael.lederrey@epfl.ch>\n",
    "    :param filename: name of the file\n",
    "    :return: Generator to go through the file\n",
    "    \"\"\"\n",
    "    file = gzip.open(filename, 'rb')\n",
    "    entry = {}\n",
    "    # Go through all the lines\n",
    "    for line in file:\n",
    "        # Transform the string-bytes into a string\n",
    "        line = line.decode(\"utf-8\").strip()\n",
    "\n",
    "        # We check for a colon in each line\n",
    "        colon_pos = line.find(\":\")\n",
    "        if colon_pos == -1:\n",
    "            # if no, we yield the entry\n",
    "            yield entry\n",
    "            entry = {}\n",
    "            continue\n",
    "        # otherwise, we add the key-value pair to the entry\n",
    "        key = line[:colon_pos]\n",
    "        value = line[colon_pos + 2:]\n",
    "        entry[key] = value"
   ]
  },
  {
   "cell_type": "code",
   "execution_count": 221,
   "metadata": {
    "cell_id": "cb2d5c48750b49048257c318e1a94601",
    "deepnote_cell_type": "code"
   },
   "outputs": [],
   "source": [
    "gen = parse('./data/ratings.txt.gz')"
   ]
  },
  {
   "cell_type": "code",
   "execution_count": 222,
   "metadata": {
    "cell_id": "d885e11d05b34b36931c83ed75198dc4",
    "deepnote_cell_type": "code"
   },
   "outputs": [],
   "source": [
    "#We create the dataframe of the valid us users previously determined\n",
    "\n",
    "create = False\n",
    "\n",
    "#This takes a few minutes (if create = True)\n",
    "if create:\n",
    "    undesired_features = set(['text','review', 'brewery_name', 'brewery_id', 'user_id', 'beer_name'])\n",
    "    full_ratings_ls = []\n",
    "    int_cols = ['beer_id']\n",
    "    float_cols = ['abv','appearance', 'aroma', 'palate', 'taste', 'overall', 'rating']\n",
    "\n",
    "    review = next(gen)\n",
    "    cols = [key for key, _ in review.items() if key not in undesired_features]\n",
    "\n",
    "    for idx, review in enumerate(gen):\n",
    "        user_name = review['user_name']\n",
    "        valid_rows = [value for key, value in review.items() if key not in undesired_features]\n",
    "        #only keep ratings of the previously filtered users\n",
    "        if user_name in us_users_names:\n",
    "            full_ratings_ls.append(valid_rows)\n",
    "\n",
    "    df_ratings = pd.DataFrame(full_ratings_ls, columns = cols)\n",
    "\n",
    "    df_ratings[int_cols] = df_ratings[int_cols].astype('int')\n",
    "    df_ratings[float_cols] = df_ratings[float_cols].astype('float') \n",
    "    df_ratings[\"date\"] = pd.to_datetime(df_ratings.date.apply(\n",
    "        lambda date : datetime.fromtimestamp(int(date)).strftime('%Y-%m-%d')\n",
    "    ))\n",
    "\n",
    "    #There is only one review in the year 2000, wich is an outlier\n",
    "    start_date = pd.to_datetime(\"2001-01-01\")\n",
    "    df_ratings = df_ratings.loc[df_ratings['date'] >= start_date]   \n",
    "    df_ratings.to_pickle('./data/ratings_valid_user.pkl')\n",
    "\n",
    "else:\n",
    "    df_ratings = pd.read_pickle('./data/ratings_valid_user.pkl')"
   ]
  },
  {
   "cell_type": "code",
   "execution_count": 223,
   "metadata": {},
   "outputs": [],
   "source": [
    "#add the category of the beer\n",
    "beers_id_cat = df_beers[['beer_id', 'category']]\n",
    "df_ratings = pd.merge(df_ratings, beers_id_cat, on = 'beer_id')\n",
    "\n",
    "#add the rating number, starts at 0\n",
    "df_ratings.sort_values(by = \"date\", inplace=True)\n",
    "df_ratings[\"rating_number\"] = df_ratings.groupby(\"user_name\").transform(\"cumcount\")\n",
    "\n",
    "#we also convert the date to the proper format\n",
    "df_ratings[\"date\"] = pd.to_datetime(df_ratings[\"date\"])"
   ]
  },
  {
   "cell_type": "code",
   "execution_count": 224,
   "metadata": {},
   "outputs": [],
   "source": [
    "#We apply the second of our filters, we only keep the 500 first ratings. (rating number at which you are considered an expert)\n",
    "nb_ratings_expert = 500\n",
    "df_us_ratings = df_ratings[df_ratings[\"rating_number\"] < nb_ratings_expert]"
   ]
  },
  {
   "cell_type": "code",
   "execution_count": 225,
   "metadata": {},
   "outputs": [
    {
     "data": {
      "text/html": [
       "<div>\n",
       "<style scoped>\n",
       "    .dataframe tbody tr th:only-of-type {\n",
       "        vertical-align: middle;\n",
       "    }\n",
       "\n",
       "    .dataframe tbody tr th {\n",
       "        vertical-align: top;\n",
       "    }\n",
       "\n",
       "    .dataframe thead th {\n",
       "        text-align: right;\n",
       "    }\n",
       "</style>\n",
       "<table border=\"1\" class=\"dataframe\">\n",
       "  <thead>\n",
       "    <tr style=\"text-align: right;\">\n",
       "      <th></th>\n",
       "      <th>beer_id</th>\n",
       "      <th>style</th>\n",
       "      <th>abv</th>\n",
       "      <th>date</th>\n",
       "      <th>user_name</th>\n",
       "      <th>appearance</th>\n",
       "      <th>aroma</th>\n",
       "      <th>palate</th>\n",
       "      <th>taste</th>\n",
       "      <th>overall</th>\n",
       "      <th>rating</th>\n",
       "      <th>category</th>\n",
       "      <th>rating_number</th>\n",
       "    </tr>\n",
       "  </thead>\n",
       "  <tbody>\n",
       "    <tr>\n",
       "      <th>1640018</th>\n",
       "      <td>167</td>\n",
       "      <td>Witbier</td>\n",
       "      <td>NaN</td>\n",
       "      <td>2001-03-16</td>\n",
       "      <td>frank4sail</td>\n",
       "      <td>4.5</td>\n",
       "      <td>4.5</td>\n",
       "      <td>4.0</td>\n",
       "      <td>5.0</td>\n",
       "      <td>5.0</td>\n",
       "      <td>4.75</td>\n",
       "      <td>Wheat Beers</td>\n",
       "      <td>0</td>\n",
       "    </tr>\n",
       "    <tr>\n",
       "      <th>311428</th>\n",
       "      <td>3558</td>\n",
       "      <td>Czech Pilsener</td>\n",
       "      <td>5.00</td>\n",
       "      <td>2001-06-18</td>\n",
       "      <td>Mark</td>\n",
       "      <td>4.0</td>\n",
       "      <td>4.0</td>\n",
       "      <td>3.0</td>\n",
       "      <td>4.0</td>\n",
       "      <td>4.0</td>\n",
       "      <td>3.90</td>\n",
       "      <td>Pale Lagers</td>\n",
       "      <td>0</td>\n",
       "    </tr>\n",
       "    <tr>\n",
       "      <th>17313</th>\n",
       "      <td>73</td>\n",
       "      <td>Milk / Sweet Stout</td>\n",
       "      <td>5.20</td>\n",
       "      <td>2001-06-18</td>\n",
       "      <td>Mark</td>\n",
       "      <td>5.0</td>\n",
       "      <td>5.0</td>\n",
       "      <td>5.0</td>\n",
       "      <td>5.0</td>\n",
       "      <td>5.0</td>\n",
       "      <td>5.00</td>\n",
       "      <td>Stouts</td>\n",
       "      <td>1</td>\n",
       "    </tr>\n",
       "    <tr>\n",
       "      <th>136697</th>\n",
       "      <td>261</td>\n",
       "      <td>Vienna Lager</td>\n",
       "      <td>4.48</td>\n",
       "      <td>2001-06-24</td>\n",
       "      <td>Mark</td>\n",
       "      <td>4.0</td>\n",
       "      <td>3.0</td>\n",
       "      <td>3.0</td>\n",
       "      <td>3.0</td>\n",
       "      <td>3.0</td>\n",
       "      <td>3.06</td>\n",
       "      <td>Dark Lagers</td>\n",
       "      <td>2</td>\n",
       "    </tr>\n",
       "    <tr>\n",
       "      <th>442671</th>\n",
       "      <td>87</td>\n",
       "      <td>American Pale Ale (APA)</td>\n",
       "      <td>5.40</td>\n",
       "      <td>2001-06-24</td>\n",
       "      <td>Mark</td>\n",
       "      <td>4.0</td>\n",
       "      <td>4.0</td>\n",
       "      <td>1.0</td>\n",
       "      <td>3.0</td>\n",
       "      <td>3.0</td>\n",
       "      <td>3.10</td>\n",
       "      <td>Pale Ales</td>\n",
       "      <td>3</td>\n",
       "    </tr>\n",
       "  </tbody>\n",
       "</table>\n",
       "</div>"
      ],
      "text/plain": [
       "         beer_id                    style   abv       date   user_name  \\\n",
       "1640018      167                  Witbier   NaN 2001-03-16  frank4sail   \n",
       "311428      3558           Czech Pilsener  5.00 2001-06-18        Mark   \n",
       "17313         73       Milk / Sweet Stout  5.20 2001-06-18        Mark   \n",
       "136697       261             Vienna Lager  4.48 2001-06-24        Mark   \n",
       "442671        87  American Pale Ale (APA)  5.40 2001-06-24        Mark   \n",
       "\n",
       "         appearance  aroma  palate  taste  overall  rating     category  \\\n",
       "1640018         4.5    4.5     4.0    5.0      5.0    4.75  Wheat Beers   \n",
       "311428          4.0    4.0     3.0    4.0      4.0    3.90  Pale Lagers   \n",
       "17313           5.0    5.0     5.0    5.0      5.0    5.00       Stouts   \n",
       "136697          4.0    3.0     3.0    3.0      3.0    3.06  Dark Lagers   \n",
       "442671          4.0    4.0     1.0    3.0      3.0    3.10    Pale Ales   \n",
       "\n",
       "         rating_number  \n",
       "1640018              0  \n",
       "311428               0  \n",
       "17313                1  \n",
       "136697               2  \n",
       "442671               3  "
      ]
     },
     "execution_count": 225,
     "metadata": {},
     "output_type": "execute_result"
    }
   ],
   "source": [
    "df_us_ratings.head(5)"
   ]
  },
  {
   "cell_type": "code",
   "execution_count": 226,
   "metadata": {},
   "outputs": [],
   "source": [
    "#We go back to users and compute on how many different days they were active\n",
    "\n",
    "user_active = df_us_ratings.groupby(['user_name'], as_index = False).date.nunique()\n",
    "user_active.columns = ['user_name', 'active_days']\n",
    "df_us_users = df_us_users.merge(user_active, on = 'user_name')"
   ]
  },
  {
   "cell_type": "code",
   "execution_count": 227,
   "metadata": {},
   "outputs": [
    {
     "data": {
      "text/html": [
       "<div>\n",
       "<style scoped>\n",
       "    .dataframe tbody tr th:only-of-type {\n",
       "        vertical-align: middle;\n",
       "    }\n",
       "\n",
       "    .dataframe tbody tr th {\n",
       "        vertical-align: top;\n",
       "    }\n",
       "\n",
       "    .dataframe thead th {\n",
       "        text-align: right;\n",
       "    }\n",
       "</style>\n",
       "<table border=\"1\" class=\"dataframe\">\n",
       "  <thead>\n",
       "    <tr style=\"text-align: right;\">\n",
       "      <th></th>\n",
       "      <th>nbr_ratings</th>\n",
       "      <th>nbr_reviews</th>\n",
       "      <th>user_id</th>\n",
       "      <th>user_name</th>\n",
       "      <th>joined</th>\n",
       "      <th>location</th>\n",
       "      <th>date_joined</th>\n",
       "      <th>active_days</th>\n",
       "      <th>delta_first_last</th>\n",
       "    </tr>\n",
       "  </thead>\n",
       "  <tbody>\n",
       "    <tr>\n",
       "      <th>0</th>\n",
       "      <td>1131</td>\n",
       "      <td>188</td>\n",
       "      <td>okcnittany.144868</td>\n",
       "      <td>OKCNittany</td>\n",
       "      <td>1.182766e+09</td>\n",
       "      <td>United States, Oklahoma</td>\n",
       "      <td>2007-06-25</td>\n",
       "      <td>187</td>\n",
       "      <td>2397</td>\n",
       "    </tr>\n",
       "    <tr>\n",
       "      <th>1</th>\n",
       "      <td>732</td>\n",
       "      <td>14</td>\n",
       "      <td>byofb.537281</td>\n",
       "      <td>BYOFB</td>\n",
       "      <td>1.292065e+09</td>\n",
       "      <td>United States, Wisconsin</td>\n",
       "      <td>2010-12-11</td>\n",
       "      <td>32</td>\n",
       "      <td>756</td>\n",
       "    </tr>\n",
       "    <tr>\n",
       "      <th>2</th>\n",
       "      <td>585</td>\n",
       "      <td>389</td>\n",
       "      <td>ferrari29.320392</td>\n",
       "      <td>ferrari29</td>\n",
       "      <td>1.239790e+09</td>\n",
       "      <td>United States, Illinois</td>\n",
       "      <td>2009-04-15</td>\n",
       "      <td>202</td>\n",
       "      <td>1193</td>\n",
       "    </tr>\n",
       "    <tr>\n",
       "      <th>3</th>\n",
       "      <td>1078</td>\n",
       "      <td>10</td>\n",
       "      <td>colsanders123.545441</td>\n",
       "      <td>ColSanders123</td>\n",
       "      <td>1.293620e+09</td>\n",
       "      <td>United States, Georgia</td>\n",
       "      <td>2010-12-29</td>\n",
       "      <td>135</td>\n",
       "      <td>1077</td>\n",
       "    </tr>\n",
       "    <tr>\n",
       "      <th>4</th>\n",
       "      <td>914</td>\n",
       "      <td>890</td>\n",
       "      <td>jays2629.517433</td>\n",
       "      <td>JayS2629</td>\n",
       "      <td>1.287828e+09</td>\n",
       "      <td>United States, Alabama</td>\n",
       "      <td>2010-10-23</td>\n",
       "      <td>101</td>\n",
       "      <td>244</td>\n",
       "    </tr>\n",
       "  </tbody>\n",
       "</table>\n",
       "</div>"
      ],
      "text/plain": [
       "   nbr_ratings  nbr_reviews               user_id      user_name  \\\n",
       "0         1131          188     okcnittany.144868     OKCNittany   \n",
       "1          732           14          byofb.537281          BYOFB   \n",
       "2          585          389      ferrari29.320392      ferrari29   \n",
       "3         1078           10  colsanders123.545441  ColSanders123   \n",
       "4          914          890       jays2629.517433       JayS2629   \n",
       "\n",
       "         joined                  location date_joined  active_days  \\\n",
       "0  1.182766e+09   United States, Oklahoma  2007-06-25          187   \n",
       "1  1.292065e+09  United States, Wisconsin  2010-12-11           32   \n",
       "2  1.239790e+09   United States, Illinois  2009-04-15          202   \n",
       "3  1.293620e+09    United States, Georgia  2010-12-29          135   \n",
       "4  1.287828e+09    United States, Alabama  2010-10-23          101   \n",
       "\n",
       "   delta_first_last  \n",
       "0              2397  \n",
       "1               756  \n",
       "2              1193  \n",
       "3              1077  \n",
       "4               244  "
      ]
     },
     "execution_count": 227,
     "metadata": {},
     "output_type": "execute_result"
    }
   ],
   "source": [
    "# We compute how long it took them to submit the 500 ratings\n",
    "user_delta = df_us_ratings.groupby('user_name', as_index = False).apply(lambda usr: (usr.date.max() - usr.date.min()).days)\n",
    "user_delta.columns = ['user_name', 'delta_first_last']\n",
    "df_us_users = df_us_users.merge(user_delta, on = 'user_name')\n",
    "df_us_users.head(5)"
   ]
  },
  {
   "cell_type": "code",
   "execution_count": 228,
   "metadata": {},
   "outputs": [],
   "source": [
    "# We compute the maximum number of ratings the user has done in a single month\n",
    "\n",
    "user_month = df_us_ratings[['user_name','date']].groupby([\"user_name\", pd.Grouper(freq = \"M\", key=\"date\")], as_index = False).size()\n",
    "user_month = user_month.groupby('user_name', as_index = False).apply(lambda usr : max(usr['size']))\n",
    "user_month.columns = ['user_name', 'max_active_month']\n",
    "df_us_users = df_us_users.merge(user_month, on = 'user_name') "
   ]
  },
  {
   "cell_type": "code",
   "execution_count": 229,
   "metadata": {},
   "outputs": [],
   "source": [
    "# We also want to know how much time the users took for submitting different number of ratings.\n",
    "\n",
    "def compute_diff_date(user):\n",
    "    \"\"\"\n",
    "    computes the difference in days between the 50th and the 1st ratings submitted by a user\n",
    "    \"\"\"\n",
    "    diff = {}\n",
    "    day = 50\n",
    "    diff[str(day)] = (user[user[\"rating_number\"] == day-1][\"date\"].item() -\\\n",
    "                         user[user[\"rating_number\"] == 0][\"date\"].item()).days\n",
    "    return pd.Series(diff)\n",
    "\n",
    "def compute_diff_date_last(user):\n",
    "    \"\"\"\n",
    "    computes the difference in days between the 500th and the 450th ratings submitted by a user\n",
    "    \"\"\"\n",
    "    diff = {}\n",
    "    day = 450\n",
    "    diff[str(day)] = (user[user[\"rating_number\"] == 500-1][\"date\"].item() -\\\n",
    "                         user[user[\"rating_number\"] == day][\"date\"].item()).days\n",
    "    return pd.Series(diff)"
   ]
  },
  {
   "cell_type": "code",
   "execution_count": 230,
   "metadata": {},
   "outputs": [],
   "source": [
    "# We focus on the 10% first reviews\n",
    "# We make the assumption that users are beginners for these ratings\n",
    "\n",
    "user_deltas_0_50 = df_us_ratings.groupby('user_name', as_index = False).apply(compute_diff_date)\n",
    "df_us_users = df_us_users.merge(user_deltas_0_50, on = 'user_name')"
   ]
  },
  {
   "cell_type": "code",
   "execution_count": 231,
   "metadata": {},
   "outputs": [],
   "source": [
    "# We focus on the 10% last reviews\n",
    "# We make the assumption that users are experts for these ratings\n",
    "\n",
    "user_deltas_450_500 = df_us_ratings.groupby('user_name', as_index = False).apply(compute_diff_date_last)\n",
    "df_us_users = df_us_users.merge(user_deltas_450_500, on = 'user_name')"
   ]
  },
  {
   "cell_type": "code",
   "execution_count": 232,
   "metadata": {},
   "outputs": [
    {
     "data": {
      "text/html": [
       "<div>\n",
       "<style scoped>\n",
       "    .dataframe tbody tr th:only-of-type {\n",
       "        vertical-align: middle;\n",
       "    }\n",
       "\n",
       "    .dataframe tbody tr th {\n",
       "        vertical-align: top;\n",
       "    }\n",
       "\n",
       "    .dataframe thead th {\n",
       "        text-align: right;\n",
       "    }\n",
       "</style>\n",
       "<table border=\"1\" class=\"dataframe\">\n",
       "  <thead>\n",
       "    <tr style=\"text-align: right;\">\n",
       "      <th></th>\n",
       "      <th>nbr_ratings</th>\n",
       "      <th>nbr_reviews</th>\n",
       "      <th>user_id</th>\n",
       "      <th>user_name</th>\n",
       "      <th>joined</th>\n",
       "      <th>location</th>\n",
       "      <th>date_joined</th>\n",
       "      <th>active_days</th>\n",
       "      <th>delta_first_last</th>\n",
       "      <th>max_active_month</th>\n",
       "      <th>50</th>\n",
       "      <th>450</th>\n",
       "    </tr>\n",
       "  </thead>\n",
       "  <tbody>\n",
       "    <tr>\n",
       "      <th>0</th>\n",
       "      <td>1131</td>\n",
       "      <td>188</td>\n",
       "      <td>okcnittany.144868</td>\n",
       "      <td>OKCNittany</td>\n",
       "      <td>1.182766e+09</td>\n",
       "      <td>United States, Oklahoma</td>\n",
       "      <td>2007-06-25</td>\n",
       "      <td>187</td>\n",
       "      <td>2397</td>\n",
       "      <td>91</td>\n",
       "      <td>45</td>\n",
       "      <td>16</td>\n",
       "    </tr>\n",
       "    <tr>\n",
       "      <th>1</th>\n",
       "      <td>732</td>\n",
       "      <td>14</td>\n",
       "      <td>byofb.537281</td>\n",
       "      <td>BYOFB</td>\n",
       "      <td>1.292065e+09</td>\n",
       "      <td>United States, Wisconsin</td>\n",
       "      <td>2010-12-11</td>\n",
       "      <td>32</td>\n",
       "      <td>756</td>\n",
       "      <td>273</td>\n",
       "      <td>447</td>\n",
       "      <td>146</td>\n",
       "    </tr>\n",
       "    <tr>\n",
       "      <th>2</th>\n",
       "      <td>585</td>\n",
       "      <td>389</td>\n",
       "      <td>ferrari29.320392</td>\n",
       "      <td>ferrari29</td>\n",
       "      <td>1.239790e+09</td>\n",
       "      <td>United States, Illinois</td>\n",
       "      <td>2009-04-15</td>\n",
       "      <td>202</td>\n",
       "      <td>1193</td>\n",
       "      <td>42</td>\n",
       "      <td>64</td>\n",
       "      <td>335</td>\n",
       "    </tr>\n",
       "    <tr>\n",
       "      <th>3</th>\n",
       "      <td>1078</td>\n",
       "      <td>10</td>\n",
       "      <td>colsanders123.545441</td>\n",
       "      <td>ColSanders123</td>\n",
       "      <td>1.293620e+09</td>\n",
       "      <td>United States, Georgia</td>\n",
       "      <td>2010-12-29</td>\n",
       "      <td>135</td>\n",
       "      <td>1077</td>\n",
       "      <td>247</td>\n",
       "      <td>254</td>\n",
       "      <td>159</td>\n",
       "    </tr>\n",
       "    <tr>\n",
       "      <th>4</th>\n",
       "      <td>914</td>\n",
       "      <td>890</td>\n",
       "      <td>jays2629.517433</td>\n",
       "      <td>JayS2629</td>\n",
       "      <td>1.287828e+09</td>\n",
       "      <td>United States, Alabama</td>\n",
       "      <td>2010-10-23</td>\n",
       "      <td>101</td>\n",
       "      <td>244</td>\n",
       "      <td>103</td>\n",
       "      <td>21</td>\n",
       "      <td>15</td>\n",
       "    </tr>\n",
       "  </tbody>\n",
       "</table>\n",
       "</div>"
      ],
      "text/plain": [
       "   nbr_ratings  nbr_reviews               user_id      user_name  \\\n",
       "0         1131          188     okcnittany.144868     OKCNittany   \n",
       "1          732           14          byofb.537281          BYOFB   \n",
       "2          585          389      ferrari29.320392      ferrari29   \n",
       "3         1078           10  colsanders123.545441  ColSanders123   \n",
       "4          914          890       jays2629.517433       JayS2629   \n",
       "\n",
       "         joined                  location date_joined  active_days  \\\n",
       "0  1.182766e+09   United States, Oklahoma  2007-06-25          187   \n",
       "1  1.292065e+09  United States, Wisconsin  2010-12-11           32   \n",
       "2  1.239790e+09   United States, Illinois  2009-04-15          202   \n",
       "3  1.293620e+09    United States, Georgia  2010-12-29          135   \n",
       "4  1.287828e+09    United States, Alabama  2010-10-23          101   \n",
       "\n",
       "   delta_first_last  max_active_month   50  450  \n",
       "0              2397                91   45   16  \n",
       "1               756               273  447  146  \n",
       "2              1193                42   64  335  \n",
       "3              1077               247  254  159  \n",
       "4               244               103   21   15  "
      ]
     },
     "execution_count": 232,
     "metadata": {},
     "output_type": "execute_result"
    }
   ],
   "source": [
    "df_us_users.head(5)"
   ]
  },
  {
   "cell_type": "code",
   "execution_count": 233,
   "metadata": {},
   "outputs": [],
   "source": [
    "# We now have a lot more information about the reviewing behaviour of our us users\n",
    "# We proceed with some more filtering to get the final set of users on which we will conduct our study.\n",
    "\n",
    "# Minimum number of active days required:\n",
    "min_active_days = 100\n",
    "df_valid_users = df_us_users[df_us_users['active_days'] >= min_active_days]\n",
    "\n",
    "# How many days needed to submit their 500 ratings:\n",
    "min_delta = 365\n",
    "max_delta = 7*365\n",
    "df_valid_users = df_valid_users[(df_valid_users['delta_first_last'] > min_delta) & (df_valid_users['delta_first_last'] < max_delta)]\n",
    "\n",
    "# Maximum number of reviews in a single month:\n",
    "max_per_month = 70\n",
    "df_valid_users = df_valid_users[df_valid_users['max_active_month'] <= max_per_month]"
   ]
  },
  {
   "cell_type": "code",
   "execution_count": 234,
   "metadata": {},
   "outputs": [],
   "source": [
    "# To make the people more similar at the beginning and the end of their ratings career, \n",
    "# we decide to apply a last filter on the users"
   ]
  },
  {
   "cell_type": "code",
   "execution_count": 235,
   "metadata": {},
   "outputs": [
    {
     "data": {
      "text/html": [
       "<div>\n",
       "<style scoped>\n",
       "    .dataframe tbody tr th:only-of-type {\n",
       "        vertical-align: middle;\n",
       "    }\n",
       "\n",
       "    .dataframe tbody tr th {\n",
       "        vertical-align: top;\n",
       "    }\n",
       "\n",
       "    .dataframe thead th {\n",
       "        text-align: right;\n",
       "    }\n",
       "</style>\n",
       "<table border=\"1\" class=\"dataframe\">\n",
       "  <thead>\n",
       "    <tr style=\"text-align: right;\">\n",
       "      <th></th>\n",
       "      <th>nbr_ratings</th>\n",
       "      <th>nbr_reviews</th>\n",
       "      <th>user_id</th>\n",
       "      <th>user_name</th>\n",
       "      <th>joined</th>\n",
       "      <th>location</th>\n",
       "      <th>date_joined</th>\n",
       "      <th>active_days</th>\n",
       "      <th>delta_first_last</th>\n",
       "      <th>max_active_month</th>\n",
       "      <th>50</th>\n",
       "      <th>450</th>\n",
       "    </tr>\n",
       "  </thead>\n",
       "  <tbody>\n",
       "    <tr>\n",
       "      <th>2</th>\n",
       "      <td>585</td>\n",
       "      <td>389</td>\n",
       "      <td>ferrari29.320392</td>\n",
       "      <td>ferrari29</td>\n",
       "      <td>1.239790e+09</td>\n",
       "      <td>United States, Illinois</td>\n",
       "      <td>2009-04-15</td>\n",
       "      <td>202</td>\n",
       "      <td>1193</td>\n",
       "      <td>42</td>\n",
       "      <td>64</td>\n",
       "      <td>335</td>\n",
       "    </tr>\n",
       "    <tr>\n",
       "      <th>5</th>\n",
       "      <td>676</td>\n",
       "      <td>676</td>\n",
       "      <td>dodo2step.110880</td>\n",
       "      <td>Dodo2step</td>\n",
       "      <td>1.165576e+09</td>\n",
       "      <td>United States, Pennsylvania</td>\n",
       "      <td>2006-12-08</td>\n",
       "      <td>411</td>\n",
       "      <td>2153</td>\n",
       "      <td>28</td>\n",
       "      <td>45</td>\n",
       "      <td>442</td>\n",
       "    </tr>\n",
       "    <tr>\n",
       "      <th>7</th>\n",
       "      <td>653</td>\n",
       "      <td>651</td>\n",
       "      <td>kadonny.156863</td>\n",
       "      <td>Kadonny</td>\n",
       "      <td>1.188986e+09</td>\n",
       "      <td>United States, Pennsylvania</td>\n",
       "      <td>2007-09-05</td>\n",
       "      <td>357</td>\n",
       "      <td>1800</td>\n",
       "      <td>22</td>\n",
       "      <td>249</td>\n",
       "      <td>263</td>\n",
       "    </tr>\n",
       "    <tr>\n",
       "      <th>8</th>\n",
       "      <td>748</td>\n",
       "      <td>748</td>\n",
       "      <td>biggred1.206640</td>\n",
       "      <td>biggred1</td>\n",
       "      <td>1.206616e+09</td>\n",
       "      <td>United States, Indiana</td>\n",
       "      <td>2008-03-27</td>\n",
       "      <td>318</td>\n",
       "      <td>819</td>\n",
       "      <td>37</td>\n",
       "      <td>102</td>\n",
       "      <td>69</td>\n",
       "    </tr>\n",
       "    <tr>\n",
       "      <th>9</th>\n",
       "      <td>546</td>\n",
       "      <td>484</td>\n",
       "      <td>brownbeer.220672</td>\n",
       "      <td>brownbeer</td>\n",
       "      <td>1.211105e+09</td>\n",
       "      <td>United States, Missouri</td>\n",
       "      <td>2008-05-18</td>\n",
       "      <td>143</td>\n",
       "      <td>1815</td>\n",
       "      <td>62</td>\n",
       "      <td>204</td>\n",
       "      <td>1302</td>\n",
       "    </tr>\n",
       "  </tbody>\n",
       "</table>\n",
       "</div>"
      ],
      "text/plain": [
       "   nbr_ratings  nbr_reviews           user_id  user_name        joined  \\\n",
       "2          585          389  ferrari29.320392  ferrari29  1.239790e+09   \n",
       "5          676          676  dodo2step.110880  Dodo2step  1.165576e+09   \n",
       "7          653          651    kadonny.156863    Kadonny  1.188986e+09   \n",
       "8          748          748   biggred1.206640   biggred1  1.206616e+09   \n",
       "9          546          484  brownbeer.220672  brownbeer  1.211105e+09   \n",
       "\n",
       "                      location date_joined  active_days  delta_first_last  \\\n",
       "2      United States, Illinois  2009-04-15          202              1193   \n",
       "5  United States, Pennsylvania  2006-12-08          411              2153   \n",
       "7  United States, Pennsylvania  2007-09-05          357              1800   \n",
       "8       United States, Indiana  2008-03-27          318               819   \n",
       "9      United States, Missouri  2008-05-18          143              1815   \n",
       "\n",
       "   max_active_month   50   450  \n",
       "2                42   64   335  \n",
       "5                28   45   442  \n",
       "7                22  249   263  \n",
       "8                37  102    69  \n",
       "9                62  204  1302  "
      ]
     },
     "execution_count": 235,
     "metadata": {},
     "output_type": "execute_result"
    }
   ],
   "source": [
    "df_valid_users.head(5)"
   ]
  },
  {
   "cell_type": "code",
   "execution_count": 236,
   "metadata": {},
   "outputs": [
    {
     "data": {
      "application/vnd.plotly.v1+json": {
       "config": {
        "plotlyServerURL": "https://plot.ly"
       },
       "data": [
        {
         "hovertemplate": "x=%{x}<br>50=%{y}<extra></extra>",
         "legendgroup": "",
         "line": {
          "color": "#636efa",
          "dash": "solid"
         },
         "marker": {
          "symbol": "circle"
         },
         "mode": "lines",
         "name": "",
         "showlegend": false,
         "type": "scattergl",
         "x": [
          0,
          1,
          2,
          3,
          4,
          5,
          6,
          7,
          8,
          9,
          10,
          11,
          12,
          13,
          14,
          15,
          16,
          17,
          18,
          19,
          20,
          21,
          22,
          23,
          24,
          25,
          26,
          27,
          28,
          29,
          30,
          31,
          32,
          33,
          34,
          35,
          36,
          37,
          38,
          39,
          40,
          41,
          42,
          43,
          44,
          45,
          46,
          47,
          48,
          49,
          50,
          51,
          52,
          53,
          54,
          55,
          56,
          57,
          58,
          59,
          60,
          61,
          62,
          63,
          64,
          65,
          66,
          67,
          68,
          69,
          70,
          71,
          72,
          73,
          74,
          75,
          76,
          77,
          78,
          79,
          80,
          81,
          82,
          83,
          84,
          85,
          86,
          87,
          88,
          89,
          90,
          91,
          92,
          93,
          94,
          95,
          96,
          97,
          98,
          99,
          100,
          101,
          102,
          103,
          104,
          105,
          106,
          107,
          108,
          109,
          110,
          111,
          112,
          113,
          114,
          115,
          116,
          117,
          118,
          119,
          120,
          121,
          122,
          123,
          124,
          125,
          126,
          127,
          128,
          129,
          130,
          131,
          132,
          133,
          134,
          135,
          136,
          137,
          138,
          139,
          140,
          141,
          142,
          143,
          144,
          145,
          146,
          147,
          148,
          149,
          150,
          151,
          152,
          153,
          154,
          155,
          156,
          157,
          158,
          159,
          160,
          161,
          162,
          163,
          164,
          165,
          166,
          167,
          168,
          169,
          170,
          171,
          172,
          173,
          174,
          175,
          176,
          177,
          178,
          179,
          180,
          181,
          182,
          183,
          184,
          185,
          186,
          187,
          188,
          189,
          190,
          191,
          192,
          193,
          194,
          195,
          196,
          197,
          198,
          199,
          200,
          201,
          202,
          203,
          204,
          205,
          206,
          207,
          208,
          209,
          210,
          211,
          212,
          213,
          214,
          215,
          216,
          217,
          218,
          219,
          220,
          221,
          222,
          223,
          224,
          225,
          226,
          227,
          228,
          229,
          230,
          231,
          232,
          233,
          234,
          235,
          236,
          237,
          238,
          239,
          240,
          241,
          242,
          243,
          244,
          245,
          246,
          247,
          248,
          249,
          250,
          251,
          252,
          253,
          254,
          255,
          256,
          257,
          258,
          259,
          260,
          261,
          262,
          263,
          264,
          265,
          266,
          267,
          268,
          269,
          270,
          271,
          272,
          273,
          274,
          275,
          276,
          277,
          278,
          279,
          280,
          281,
          282,
          283,
          284,
          285,
          286,
          287,
          288,
          289,
          290,
          291,
          292,
          293,
          294,
          295,
          296,
          297,
          298,
          299,
          300,
          301,
          302,
          303,
          304,
          305,
          306,
          307,
          308,
          309,
          310,
          311,
          312,
          313,
          314,
          315,
          316,
          317,
          318,
          319,
          320,
          321,
          322,
          323,
          324,
          325,
          326,
          327,
          328,
          329,
          330,
          331,
          332,
          333,
          334,
          335,
          336,
          337,
          338,
          339,
          340,
          341,
          342,
          343,
          344,
          345,
          346,
          347,
          348,
          349,
          350,
          351,
          352,
          353,
          354,
          355,
          356,
          357,
          358,
          359,
          360,
          361,
          362,
          363,
          364,
          365,
          366,
          367,
          368,
          369,
          370,
          371,
          372,
          373,
          374,
          375,
          376,
          377,
          378,
          379,
          380,
          381,
          382,
          383,
          384,
          385,
          386,
          387,
          388,
          389,
          390,
          391,
          392,
          393,
          394,
          395,
          396,
          397,
          398,
          399,
          400,
          401,
          402,
          403,
          404,
          405,
          406,
          407,
          408,
          409,
          410,
          411,
          412,
          413,
          414,
          415,
          416,
          417,
          418,
          419,
          420,
          421,
          422,
          423,
          424,
          425,
          426,
          427,
          428,
          429,
          430,
          431,
          432,
          433,
          434,
          435,
          436,
          437,
          438,
          439,
          440,
          441,
          442,
          443,
          444,
          445,
          446,
          447,
          448,
          449,
          450,
          451,
          452,
          453,
          454,
          455,
          456,
          457,
          458,
          459,
          460,
          461,
          462,
          463,
          464,
          465,
          466,
          467,
          468,
          469,
          470,
          471,
          472,
          473,
          474,
          475,
          476,
          477,
          478,
          479,
          480,
          481,
          482,
          483,
          484,
          485,
          486,
          487,
          488,
          489,
          490,
          491,
          492,
          493,
          494,
          495,
          496,
          497,
          498,
          499,
          500,
          501,
          502,
          503,
          504,
          505,
          506,
          507,
          508,
          509,
          510,
          511,
          512,
          513,
          514,
          515,
          516,
          517,
          518,
          519,
          520,
          521,
          522,
          523,
          524,
          525,
          526,
          527,
          528,
          529,
          530,
          531,
          532,
          533,
          534,
          535,
          536,
          537,
          538,
          539,
          540,
          541,
          542,
          543,
          544,
          545,
          546,
          547,
          548,
          549,
          550,
          551,
          552,
          553,
          554,
          555,
          556,
          557,
          558,
          559,
          560,
          561,
          562,
          563,
          564,
          565,
          566,
          567,
          568,
          569,
          570,
          571,
          572,
          573,
          574,
          575,
          576,
          577,
          578,
          579,
          580,
          581,
          582,
          583,
          584,
          585,
          586,
          587,
          588,
          589,
          590,
          591,
          592,
          593,
          594,
          595,
          596,
          597,
          598,
          599,
          600,
          601,
          602,
          603,
          604,
          605,
          606,
          607,
          608,
          609,
          610,
          611,
          612,
          613,
          614,
          615,
          616,
          617,
          618,
          619,
          620,
          621,
          622,
          623,
          624,
          625,
          626,
          627,
          628,
          629,
          630,
          631,
          632,
          633,
          634,
          635,
          636,
          637,
          638,
          639,
          640,
          641,
          642,
          643,
          644,
          645,
          646,
          647,
          648,
          649,
          650,
          651,
          652,
          653,
          654,
          655,
          656,
          657,
          658,
          659,
          660,
          661,
          662,
          663,
          664,
          665,
          666,
          667,
          668,
          669,
          670,
          671,
          672,
          673,
          674,
          675,
          676,
          677,
          678,
          679,
          680,
          681,
          682,
          683,
          684,
          685,
          686,
          687,
          688,
          689,
          690,
          691,
          692,
          693,
          694,
          695,
          696,
          697,
          698,
          699,
          700,
          701,
          702,
          703,
          704,
          705,
          706,
          707,
          708,
          709,
          710,
          711,
          712,
          713,
          714,
          715,
          716,
          717,
          718,
          719,
          720,
          721,
          722,
          723,
          724,
          725,
          726,
          727,
          728,
          729,
          730,
          731,
          732,
          733,
          734,
          735,
          736,
          737,
          738,
          739,
          740,
          741,
          742,
          743,
          744,
          745,
          746,
          747,
          748,
          749,
          750,
          751,
          752,
          753,
          754,
          755,
          756,
          757,
          758,
          759,
          760,
          761,
          762,
          763,
          764,
          765,
          766,
          767,
          768,
          769,
          770,
          771,
          772,
          773,
          774,
          775,
          776,
          777,
          778,
          779,
          780,
          781,
          782,
          783,
          784,
          785,
          786,
          787,
          788,
          789,
          790,
          791,
          792,
          793,
          794,
          795,
          796,
          797,
          798,
          799,
          800,
          801,
          802,
          803,
          804,
          805,
          806,
          807,
          808,
          809,
          810,
          811,
          812,
          813,
          814,
          815,
          816,
          817,
          818,
          819,
          820,
          821,
          822,
          823,
          824,
          825,
          826,
          827,
          828,
          829,
          830,
          831,
          832,
          833,
          834,
          835,
          836,
          837,
          838,
          839,
          840,
          841,
          842,
          843,
          844,
          845,
          846,
          847,
          848,
          849,
          850,
          851,
          852,
          853,
          854,
          855,
          856,
          857,
          858,
          859,
          860,
          861,
          862,
          863,
          864,
          865,
          866,
          867,
          868,
          869,
          870,
          871,
          872,
          873,
          874,
          875,
          876,
          877,
          878,
          879,
          880,
          881,
          882,
          883,
          884,
          885,
          886,
          887,
          888,
          889,
          890,
          891,
          892,
          893,
          894,
          895,
          896,
          897,
          898,
          899,
          900,
          901,
          902,
          903,
          904,
          905,
          906,
          907,
          908,
          909,
          910,
          911,
          912,
          913,
          914,
          915,
          916,
          917,
          918,
          919,
          920,
          921,
          922,
          923,
          924,
          925,
          926,
          927,
          928,
          929,
          930,
          931,
          932,
          933,
          934,
          935,
          936,
          937,
          938,
          939,
          940,
          941,
          942,
          943,
          944,
          945,
          946,
          947,
          948,
          949,
          950,
          951,
          952,
          953,
          954,
          955,
          956,
          957,
          958,
          959,
          960,
          961,
          962,
          963,
          964,
          965,
          966,
          967,
          968,
          969,
          970,
          971,
          972,
          973,
          974,
          975,
          976,
          977,
          978,
          979,
          980,
          981,
          982,
          983,
          984,
          985,
          986,
          987,
          988,
          989,
          990,
          991,
          992,
          993,
          994,
          995,
          996,
          997,
          998,
          999,
          1000,
          1001,
          1002,
          1003,
          1004,
          1005,
          1006,
          1007,
          1008,
          1009,
          1010,
          1011,
          1012,
          1013,
          1014,
          1015,
          1016,
          1017,
          1018,
          1019,
          1020,
          1021,
          1022,
          1023,
          1024,
          1025,
          1026,
          1027,
          1028,
          1029,
          1030,
          1031,
          1032,
          1033,
          1034,
          1035,
          1036,
          1037,
          1038,
          1039,
          1040,
          1041,
          1042,
          1043,
          1044,
          1045,
          1046,
          1047,
          1048,
          1049,
          1050
         ],
         "xaxis": "x",
         "y": [
          0,
          0,
          0,
          0,
          0,
          0,
          0,
          0,
          0,
          0,
          0,
          0,
          0,
          1,
          1,
          1,
          1,
          1,
          1,
          1,
          1,
          2,
          2,
          3,
          3,
          3,
          3,
          3,
          3,
          3,
          3,
          4,
          4,
          4,
          4,
          4,
          4,
          4,
          4,
          5,
          5,
          5,
          5,
          5,
          7,
          7,
          7,
          7,
          7,
          8,
          8,
          9,
          9,
          9,
          9,
          9,
          10,
          11,
          11,
          12,
          12,
          12,
          12,
          13,
          13,
          13,
          14,
          14,
          14,
          14,
          15,
          15,
          15,
          16,
          16,
          17,
          17,
          17,
          17,
          17,
          17,
          17,
          17,
          17,
          17,
          18,
          18,
          18,
          18,
          18,
          19,
          19,
          19,
          20,
          20,
          20,
          20,
          21,
          21,
          21,
          21,
          21,
          21,
          21,
          22,
          22,
          22,
          22,
          22,
          22,
          23,
          23,
          23,
          23,
          24,
          24,
          24,
          24,
          24,
          24,
          24,
          24,
          25,
          25,
          25,
          25,
          25,
          25,
          26,
          26,
          26,
          26,
          26,
          26,
          26,
          26,
          27,
          27,
          27,
          27,
          27,
          27,
          27,
          27,
          27,
          27,
          27,
          28,
          28,
          28,
          28,
          28,
          28,
          28,
          29,
          29,
          29,
          29,
          29,
          29,
          29,
          29,
          30,
          30,
          30,
          30,
          30,
          30,
          31,
          31,
          31,
          31,
          31,
          31,
          31,
          31,
          31,
          31,
          31,
          32,
          32,
          32,
          32,
          32,
          32,
          32,
          32,
          32,
          33,
          33,
          33,
          33,
          33,
          33,
          34,
          34,
          34,
          34,
          34,
          34,
          34,
          35,
          35,
          35,
          35,
          35,
          35,
          35,
          35,
          36,
          36,
          36,
          36,
          36,
          36,
          36,
          36,
          37,
          37,
          37,
          37,
          37,
          38,
          38,
          38,
          38,
          38,
          38,
          38,
          38,
          39,
          39,
          39,
          39,
          40,
          40,
          40,
          40,
          40,
          40,
          40,
          40,
          40,
          41,
          41,
          41,
          41,
          41,
          41,
          42,
          42,
          42,
          42,
          42,
          42,
          42,
          42,
          42,
          43,
          43,
          43,
          43,
          43,
          43,
          43,
          43,
          43,
          43,
          43,
          44,
          44,
          44,
          44,
          44,
          44,
          44,
          45,
          45,
          45,
          45,
          45,
          45,
          45,
          46,
          46,
          46,
          46,
          46,
          46,
          46,
          46,
          47,
          47,
          47,
          47,
          48,
          48,
          48,
          48,
          48,
          48,
          48,
          49,
          49,
          49,
          49,
          49,
          49,
          49,
          49,
          50,
          50,
          50,
          50,
          50,
          50,
          51,
          51,
          51,
          51,
          51,
          51,
          52,
          52,
          52,
          52,
          52,
          52,
          52,
          53,
          53,
          53,
          53,
          53,
          53,
          53,
          53,
          54,
          54,
          54,
          54,
          54,
          54,
          54,
          54,
          55,
          55,
          55,
          55,
          55,
          55,
          55,
          55,
          55,
          55,
          55,
          56,
          56,
          56,
          56,
          56,
          56,
          56,
          56,
          57,
          57,
          57,
          57,
          57,
          57,
          57,
          57,
          57,
          57,
          57,
          57,
          57,
          57,
          57,
          57,
          58,
          58,
          58,
          58,
          58,
          58,
          58,
          59,
          59,
          59,
          59,
          59,
          59,
          59,
          59,
          59,
          59,
          59,
          59,
          59,
          60,
          60,
          60,
          60,
          61,
          61,
          61,
          61,
          61,
          61,
          61,
          61,
          61,
          62,
          62,
          62,
          62,
          62,
          62,
          62,
          62,
          63,
          63,
          63,
          63,
          63,
          64,
          64,
          64,
          64,
          64,
          64,
          65,
          65,
          65,
          65,
          65,
          66,
          66,
          66,
          66,
          66,
          66,
          66,
          66,
          67,
          67,
          67,
          68,
          68,
          68,
          68,
          68,
          69,
          69,
          69,
          69,
          69,
          70,
          70,
          70,
          70,
          70,
          70,
          70,
          71,
          71,
          71,
          71,
          71,
          71,
          71,
          72,
          72,
          72,
          72,
          72,
          72,
          72,
          72,
          72,
          72,
          73,
          73,
          73,
          73,
          73,
          73,
          73,
          74,
          74,
          74,
          74,
          74,
          74,
          75,
          75,
          75,
          75,
          75,
          75,
          75,
          76,
          76,
          76,
          76,
          76,
          76,
          76,
          77,
          77,
          77,
          77,
          77,
          77,
          78,
          78,
          78,
          78,
          78,
          78,
          78,
          79,
          79,
          79,
          79,
          79,
          79,
          80,
          80,
          80,
          80,
          80,
          80,
          80,
          80,
          81,
          81,
          81,
          82,
          82,
          82,
          83,
          83,
          83,
          83,
          83,
          84,
          84,
          84,
          85,
          85,
          85,
          87,
          87,
          87,
          87,
          87,
          87,
          88,
          88,
          89,
          89,
          89,
          89,
          89,
          89,
          90,
          91,
          91,
          91,
          92,
          92,
          92,
          92,
          93,
          93,
          93,
          93,
          93,
          93,
          93,
          94,
          94,
          94,
          94,
          94,
          94,
          94,
          94,
          95,
          95,
          95,
          95,
          96,
          96,
          96,
          96,
          97,
          97,
          97,
          97,
          97,
          97,
          97,
          97,
          97,
          97,
          98,
          98,
          98,
          98,
          98,
          99,
          99,
          99,
          99,
          99,
          99,
          99,
          100,
          100,
          100,
          101,
          101,
          102,
          102,
          102,
          102,
          102,
          102,
          103,
          103,
          103,
          104,
          105,
          105,
          105,
          106,
          106,
          106,
          106,
          106,
          107,
          107,
          107,
          107,
          107,
          107,
          108,
          109,
          109,
          109,
          109,
          109,
          109,
          109,
          109,
          109,
          110,
          110,
          110,
          110,
          111,
          112,
          112,
          113,
          113,
          113,
          114,
          114,
          115,
          115,
          115,
          115,
          116,
          116,
          116,
          116,
          116,
          116,
          116,
          116,
          116,
          117,
          117,
          118,
          119,
          120,
          120,
          121,
          121,
          121,
          121,
          121,
          122,
          123,
          123,
          124,
          124,
          124,
          125,
          126,
          126,
          126,
          126,
          126,
          127,
          127,
          127,
          127,
          127,
          128,
          129,
          129,
          130,
          130,
          130,
          130,
          131,
          131,
          131,
          133,
          133,
          134,
          134,
          134,
          135,
          135,
          135,
          136,
          136,
          137,
          137,
          137,
          137,
          138,
          139,
          140,
          140,
          140,
          140,
          140,
          141,
          141,
          142,
          143,
          145,
          145,
          146,
          147,
          148,
          150,
          151,
          151,
          151,
          152,
          152,
          153,
          154,
          154,
          155,
          155,
          156,
          157,
          157,
          158,
          158,
          158,
          160,
          161,
          162,
          163,
          164,
          165,
          165,
          166,
          167,
          167,
          167,
          168,
          168,
          168,
          169,
          169,
          170,
          170,
          171,
          172,
          173,
          174,
          174,
          175,
          176,
          177,
          177,
          180,
          180,
          181,
          182,
          182,
          184,
          184,
          184,
          185,
          185,
          185,
          187,
          188,
          188,
          189,
          189,
          191,
          192,
          192,
          193,
          194,
          194,
          195,
          196,
          196,
          197,
          198,
          198,
          198,
          199,
          199,
          200,
          200,
          200,
          202,
          203,
          203,
          204,
          204,
          207,
          209,
          210,
          211,
          212,
          212,
          213,
          213,
          214,
          215,
          215,
          216,
          216,
          217,
          218,
          218,
          218,
          219,
          220,
          223,
          224,
          224,
          226,
          226,
          226,
          228,
          228,
          229,
          230,
          230,
          231,
          231,
          232,
          233,
          233,
          234,
          234,
          235,
          239,
          239,
          239,
          240,
          240,
          242,
          246,
          246,
          247,
          248,
          249,
          249,
          252,
          254,
          254,
          254,
          257,
          258,
          259,
          260,
          261,
          261,
          262,
          263,
          265,
          266,
          267,
          267,
          271,
          275,
          275,
          276,
          276,
          277,
          281,
          283,
          284,
          284,
          288,
          288,
          288,
          292,
          294,
          294,
          296,
          296,
          300,
          300,
          300,
          301,
          301,
          309,
          313,
          316,
          317,
          323,
          323,
          328,
          328,
          329,
          331,
          334,
          336,
          336,
          336,
          336,
          337,
          339,
          344,
          344,
          351,
          351,
          352,
          355,
          355,
          358,
          358,
          358,
          359,
          363,
          365,
          369,
          369,
          371,
          372,
          377,
          379,
          381,
          381,
          383,
          383,
          385,
          393,
          394,
          402,
          402,
          403,
          403,
          405,
          408,
          413,
          414,
          415,
          418,
          427,
          434,
          436,
          437,
          438,
          439,
          440,
          442,
          465,
          473,
          489,
          498,
          498,
          506,
          507,
          508,
          509,
          513,
          515,
          536,
          539,
          540,
          541,
          543,
          549,
          553,
          559,
          561,
          570,
          574,
          576,
          576,
          592,
          600,
          620,
          631,
          635,
          656,
          671,
          673,
          675,
          689,
          712,
          749,
          749,
          756,
          779,
          786,
          815,
          844,
          852,
          862,
          871,
          890,
          907,
          921,
          963,
          1058,
          1061,
          1116,
          1180,
          1191,
          1210,
          1213,
          1250,
          1303,
          1318,
          1393,
          1472,
          1480,
          1616,
          1624,
          1674,
          1794
         ],
         "yaxis": "y"
        }
       ],
       "layout": {
        "legend": {
         "tracegroupgap": 0
        },
        "shapes": [
         {
          "line": {
           "color": "red"
          },
          "type": "line",
          "x0": 0,
          "x1": 1,
          "xref": "x domain",
          "y0": 500,
          "y1": 500,
          "yref": "y"
         }
        ],
        "template": {
         "data": {
          "bar": [
           {
            "error_x": {
             "color": "#2a3f5f"
            },
            "error_y": {
             "color": "#2a3f5f"
            },
            "marker": {
             "line": {
              "color": "#E5ECF6",
              "width": 0.5
             },
             "pattern": {
              "fillmode": "overlay",
              "size": 10,
              "solidity": 0.2
             }
            },
            "type": "bar"
           }
          ],
          "barpolar": [
           {
            "marker": {
             "line": {
              "color": "#E5ECF6",
              "width": 0.5
             },
             "pattern": {
              "fillmode": "overlay",
              "size": 10,
              "solidity": 0.2
             }
            },
            "type": "barpolar"
           }
          ],
          "carpet": [
           {
            "aaxis": {
             "endlinecolor": "#2a3f5f",
             "gridcolor": "white",
             "linecolor": "white",
             "minorgridcolor": "white",
             "startlinecolor": "#2a3f5f"
            },
            "baxis": {
             "endlinecolor": "#2a3f5f",
             "gridcolor": "white",
             "linecolor": "white",
             "minorgridcolor": "white",
             "startlinecolor": "#2a3f5f"
            },
            "type": "carpet"
           }
          ],
          "choropleth": [
           {
            "colorbar": {
             "outlinewidth": 0,
             "ticks": ""
            },
            "type": "choropleth"
           }
          ],
          "contour": [
           {
            "colorbar": {
             "outlinewidth": 0,
             "ticks": ""
            },
            "colorscale": [
             [
              0,
              "#0d0887"
             ],
             [
              0.1111111111111111,
              "#46039f"
             ],
             [
              0.2222222222222222,
              "#7201a8"
             ],
             [
              0.3333333333333333,
              "#9c179e"
             ],
             [
              0.4444444444444444,
              "#bd3786"
             ],
             [
              0.5555555555555556,
              "#d8576b"
             ],
             [
              0.6666666666666666,
              "#ed7953"
             ],
             [
              0.7777777777777778,
              "#fb9f3a"
             ],
             [
              0.8888888888888888,
              "#fdca26"
             ],
             [
              1,
              "#f0f921"
             ]
            ],
            "type": "contour"
           }
          ],
          "contourcarpet": [
           {
            "colorbar": {
             "outlinewidth": 0,
             "ticks": ""
            },
            "type": "contourcarpet"
           }
          ],
          "heatmap": [
           {
            "colorbar": {
             "outlinewidth": 0,
             "ticks": ""
            },
            "colorscale": [
             [
              0,
              "#0d0887"
             ],
             [
              0.1111111111111111,
              "#46039f"
             ],
             [
              0.2222222222222222,
              "#7201a8"
             ],
             [
              0.3333333333333333,
              "#9c179e"
             ],
             [
              0.4444444444444444,
              "#bd3786"
             ],
             [
              0.5555555555555556,
              "#d8576b"
             ],
             [
              0.6666666666666666,
              "#ed7953"
             ],
             [
              0.7777777777777778,
              "#fb9f3a"
             ],
             [
              0.8888888888888888,
              "#fdca26"
             ],
             [
              1,
              "#f0f921"
             ]
            ],
            "type": "heatmap"
           }
          ],
          "heatmapgl": [
           {
            "colorbar": {
             "outlinewidth": 0,
             "ticks": ""
            },
            "colorscale": [
             [
              0,
              "#0d0887"
             ],
             [
              0.1111111111111111,
              "#46039f"
             ],
             [
              0.2222222222222222,
              "#7201a8"
             ],
             [
              0.3333333333333333,
              "#9c179e"
             ],
             [
              0.4444444444444444,
              "#bd3786"
             ],
             [
              0.5555555555555556,
              "#d8576b"
             ],
             [
              0.6666666666666666,
              "#ed7953"
             ],
             [
              0.7777777777777778,
              "#fb9f3a"
             ],
             [
              0.8888888888888888,
              "#fdca26"
             ],
             [
              1,
              "#f0f921"
             ]
            ],
            "type": "heatmapgl"
           }
          ],
          "histogram": [
           {
            "marker": {
             "pattern": {
              "fillmode": "overlay",
              "size": 10,
              "solidity": 0.2
             }
            },
            "type": "histogram"
           }
          ],
          "histogram2d": [
           {
            "colorbar": {
             "outlinewidth": 0,
             "ticks": ""
            },
            "colorscale": [
             [
              0,
              "#0d0887"
             ],
             [
              0.1111111111111111,
              "#46039f"
             ],
             [
              0.2222222222222222,
              "#7201a8"
             ],
             [
              0.3333333333333333,
              "#9c179e"
             ],
             [
              0.4444444444444444,
              "#bd3786"
             ],
             [
              0.5555555555555556,
              "#d8576b"
             ],
             [
              0.6666666666666666,
              "#ed7953"
             ],
             [
              0.7777777777777778,
              "#fb9f3a"
             ],
             [
              0.8888888888888888,
              "#fdca26"
             ],
             [
              1,
              "#f0f921"
             ]
            ],
            "type": "histogram2d"
           }
          ],
          "histogram2dcontour": [
           {
            "colorbar": {
             "outlinewidth": 0,
             "ticks": ""
            },
            "colorscale": [
             [
              0,
              "#0d0887"
             ],
             [
              0.1111111111111111,
              "#46039f"
             ],
             [
              0.2222222222222222,
              "#7201a8"
             ],
             [
              0.3333333333333333,
              "#9c179e"
             ],
             [
              0.4444444444444444,
              "#bd3786"
             ],
             [
              0.5555555555555556,
              "#d8576b"
             ],
             [
              0.6666666666666666,
              "#ed7953"
             ],
             [
              0.7777777777777778,
              "#fb9f3a"
             ],
             [
              0.8888888888888888,
              "#fdca26"
             ],
             [
              1,
              "#f0f921"
             ]
            ],
            "type": "histogram2dcontour"
           }
          ],
          "mesh3d": [
           {
            "colorbar": {
             "outlinewidth": 0,
             "ticks": ""
            },
            "type": "mesh3d"
           }
          ],
          "parcoords": [
           {
            "line": {
             "colorbar": {
              "outlinewidth": 0,
              "ticks": ""
             }
            },
            "type": "parcoords"
           }
          ],
          "pie": [
           {
            "automargin": true,
            "type": "pie"
           }
          ],
          "scatter": [
           {
            "fillpattern": {
             "fillmode": "overlay",
             "size": 10,
             "solidity": 0.2
            },
            "type": "scatter"
           }
          ],
          "scatter3d": [
           {
            "line": {
             "colorbar": {
              "outlinewidth": 0,
              "ticks": ""
             }
            },
            "marker": {
             "colorbar": {
              "outlinewidth": 0,
              "ticks": ""
             }
            },
            "type": "scatter3d"
           }
          ],
          "scattercarpet": [
           {
            "marker": {
             "colorbar": {
              "outlinewidth": 0,
              "ticks": ""
             }
            },
            "type": "scattercarpet"
           }
          ],
          "scattergeo": [
           {
            "marker": {
             "colorbar": {
              "outlinewidth": 0,
              "ticks": ""
             }
            },
            "type": "scattergeo"
           }
          ],
          "scattergl": [
           {
            "marker": {
             "colorbar": {
              "outlinewidth": 0,
              "ticks": ""
             }
            },
            "type": "scattergl"
           }
          ],
          "scattermapbox": [
           {
            "marker": {
             "colorbar": {
              "outlinewidth": 0,
              "ticks": ""
             }
            },
            "type": "scattermapbox"
           }
          ],
          "scatterpolar": [
           {
            "marker": {
             "colorbar": {
              "outlinewidth": 0,
              "ticks": ""
             }
            },
            "type": "scatterpolar"
           }
          ],
          "scatterpolargl": [
           {
            "marker": {
             "colorbar": {
              "outlinewidth": 0,
              "ticks": ""
             }
            },
            "type": "scatterpolargl"
           }
          ],
          "scatterternary": [
           {
            "marker": {
             "colorbar": {
              "outlinewidth": 0,
              "ticks": ""
             }
            },
            "type": "scatterternary"
           }
          ],
          "surface": [
           {
            "colorbar": {
             "outlinewidth": 0,
             "ticks": ""
            },
            "colorscale": [
             [
              0,
              "#0d0887"
             ],
             [
              0.1111111111111111,
              "#46039f"
             ],
             [
              0.2222222222222222,
              "#7201a8"
             ],
             [
              0.3333333333333333,
              "#9c179e"
             ],
             [
              0.4444444444444444,
              "#bd3786"
             ],
             [
              0.5555555555555556,
              "#d8576b"
             ],
             [
              0.6666666666666666,
              "#ed7953"
             ],
             [
              0.7777777777777778,
              "#fb9f3a"
             ],
             [
              0.8888888888888888,
              "#fdca26"
             ],
             [
              1,
              "#f0f921"
             ]
            ],
            "type": "surface"
           }
          ],
          "table": [
           {
            "cells": {
             "fill": {
              "color": "#EBF0F8"
             },
             "line": {
              "color": "white"
             }
            },
            "header": {
             "fill": {
              "color": "#C8D4E3"
             },
             "line": {
              "color": "white"
             }
            },
            "type": "table"
           }
          ]
         },
         "layout": {
          "annotationdefaults": {
           "arrowcolor": "#2a3f5f",
           "arrowhead": 0,
           "arrowwidth": 1
          },
          "autotypenumbers": "strict",
          "coloraxis": {
           "colorbar": {
            "outlinewidth": 0,
            "ticks": ""
           }
          },
          "colorscale": {
           "diverging": [
            [
             0,
             "#8e0152"
            ],
            [
             0.1,
             "#c51b7d"
            ],
            [
             0.2,
             "#de77ae"
            ],
            [
             0.3,
             "#f1b6da"
            ],
            [
             0.4,
             "#fde0ef"
            ],
            [
             0.5,
             "#f7f7f7"
            ],
            [
             0.6,
             "#e6f5d0"
            ],
            [
             0.7,
             "#b8e186"
            ],
            [
             0.8,
             "#7fbc41"
            ],
            [
             0.9,
             "#4d9221"
            ],
            [
             1,
             "#276419"
            ]
           ],
           "sequential": [
            [
             0,
             "#0d0887"
            ],
            [
             0.1111111111111111,
             "#46039f"
            ],
            [
             0.2222222222222222,
             "#7201a8"
            ],
            [
             0.3333333333333333,
             "#9c179e"
            ],
            [
             0.4444444444444444,
             "#bd3786"
            ],
            [
             0.5555555555555556,
             "#d8576b"
            ],
            [
             0.6666666666666666,
             "#ed7953"
            ],
            [
             0.7777777777777778,
             "#fb9f3a"
            ],
            [
             0.8888888888888888,
             "#fdca26"
            ],
            [
             1,
             "#f0f921"
            ]
           ],
           "sequentialminus": [
            [
             0,
             "#0d0887"
            ],
            [
             0.1111111111111111,
             "#46039f"
            ],
            [
             0.2222222222222222,
             "#7201a8"
            ],
            [
             0.3333333333333333,
             "#9c179e"
            ],
            [
             0.4444444444444444,
             "#bd3786"
            ],
            [
             0.5555555555555556,
             "#d8576b"
            ],
            [
             0.6666666666666666,
             "#ed7953"
            ],
            [
             0.7777777777777778,
             "#fb9f3a"
            ],
            [
             0.8888888888888888,
             "#fdca26"
            ],
            [
             1,
             "#f0f921"
            ]
           ]
          },
          "colorway": [
           "#636efa",
           "#EF553B",
           "#00cc96",
           "#ab63fa",
           "#FFA15A",
           "#19d3f3",
           "#FF6692",
           "#B6E880",
           "#FF97FF",
           "#FECB52"
          ],
          "font": {
           "color": "#2a3f5f"
          },
          "geo": {
           "bgcolor": "white",
           "lakecolor": "white",
           "landcolor": "#E5ECF6",
           "showlakes": true,
           "showland": true,
           "subunitcolor": "white"
          },
          "hoverlabel": {
           "align": "left"
          },
          "hovermode": "closest",
          "mapbox": {
           "style": "light"
          },
          "paper_bgcolor": "white",
          "plot_bgcolor": "#E5ECF6",
          "polar": {
           "angularaxis": {
            "gridcolor": "white",
            "linecolor": "white",
            "ticks": ""
           },
           "bgcolor": "#E5ECF6",
           "radialaxis": {
            "gridcolor": "white",
            "linecolor": "white",
            "ticks": ""
           }
          },
          "scene": {
           "xaxis": {
            "backgroundcolor": "#E5ECF6",
            "gridcolor": "white",
            "gridwidth": 2,
            "linecolor": "white",
            "showbackground": true,
            "ticks": "",
            "zerolinecolor": "white"
           },
           "yaxis": {
            "backgroundcolor": "#E5ECF6",
            "gridcolor": "white",
            "gridwidth": 2,
            "linecolor": "white",
            "showbackground": true,
            "ticks": "",
            "zerolinecolor": "white"
           },
           "zaxis": {
            "backgroundcolor": "#E5ECF6",
            "gridcolor": "white",
            "gridwidth": 2,
            "linecolor": "white",
            "showbackground": true,
            "ticks": "",
            "zerolinecolor": "white"
           }
          },
          "shapedefaults": {
           "line": {
            "color": "#2a3f5f"
           }
          },
          "ternary": {
           "aaxis": {
            "gridcolor": "white",
            "linecolor": "white",
            "ticks": ""
           },
           "baxis": {
            "gridcolor": "white",
            "linecolor": "white",
            "ticks": ""
           },
           "bgcolor": "#E5ECF6",
           "caxis": {
            "gridcolor": "white",
            "linecolor": "white",
            "ticks": ""
           }
          },
          "title": {
           "x": 0.05
          },
          "xaxis": {
           "automargin": true,
           "gridcolor": "white",
           "linecolor": "white",
           "ticks": "",
           "title": {
            "standoff": 15
           },
           "zerolinecolor": "white",
           "zerolinewidth": 2
          },
          "yaxis": {
           "automargin": true,
           "gridcolor": "white",
           "linecolor": "white",
           "ticks": "",
           "title": {
            "standoff": 15
           },
           "zerolinecolor": "white",
           "zerolinewidth": 2
          }
         }
        },
        "title": {
         "text": "Number of days taken to rate the first 50 beers"
        },
        "xaxis": {
         "anchor": "y",
         "domain": [
          0,
          1
         ],
         "title": {
          "text": "Users sorted from smallest to biggest"
         }
        },
        "yaxis": {
         "anchor": "x",
         "domain": [
          0,
          1
         ],
         "title": {
          "text": "Number of days"
         }
        }
       }
      }
     },
     "metadata": {},
     "output_type": "display_data"
    }
   ],
   "source": [
    "df_check = df_valid_users['50'].to_frame()\n",
    "df_check.sort_values(by = '50', inplace=True)\n",
    "fig = px.line(df_check, x = range(df_check.shape[0]), y = '50',\n",
    "    title=\"Number of days taken to rate the first 50 beers\").update_layout(    \n",
    "    xaxis_title=\"Users sorted from smallest to biggest\",\n",
    "    yaxis_title=\"Number of days\"\n",
    ")\n",
    "fig.add_hline(500, line_color = 'red')\n",
    "fig.show()"
   ]
  },
  {
   "cell_type": "code",
   "execution_count": 237,
   "metadata": {},
   "outputs": [],
   "source": [
    "#we notice that about 5% of the users take much a longer time to perform their first 50 ratings, \n",
    "#We decided to remove them in order to smooth out the global behaviour of users.\n",
    "\n",
    "max_time_to_rate = 500\n",
    "df_valid_users = df_valid_users[(df_valid_users['50'] < max_time_to_rate)]"
   ]
  },
  {
   "cell_type": "code",
   "execution_count": 238,
   "metadata": {},
   "outputs": [
    {
     "data": {
      "application/vnd.plotly.v1+json": {
       "config": {
        "plotlyServerURL": "https://plot.ly"
       },
       "data": [
        {
         "hovertemplate": "x=%{x}<br>450=%{y}<extra></extra>",
         "legendgroup": "",
         "line": {
          "color": "#636efa",
          "dash": "solid"
         },
         "marker": {
          "symbol": "circle"
         },
         "mode": "lines",
         "name": "",
         "orientation": "v",
         "showlegend": false,
         "type": "scatter",
         "x": [
          0,
          1,
          2,
          3,
          4,
          5,
          6,
          7,
          8,
          9,
          10,
          11,
          12,
          13,
          14,
          15,
          16,
          17,
          18,
          19,
          20,
          21,
          22,
          23,
          24,
          25,
          26,
          27,
          28,
          29,
          30,
          31,
          32,
          33,
          34,
          35,
          36,
          37,
          38,
          39,
          40,
          41,
          42,
          43,
          44,
          45,
          46,
          47,
          48,
          49,
          50,
          51,
          52,
          53,
          54,
          55,
          56,
          57,
          58,
          59,
          60,
          61,
          62,
          63,
          64,
          65,
          66,
          67,
          68,
          69,
          70,
          71,
          72,
          73,
          74,
          75,
          76,
          77,
          78,
          79,
          80,
          81,
          82,
          83,
          84,
          85,
          86,
          87,
          88,
          89,
          90,
          91,
          92,
          93,
          94,
          95,
          96,
          97,
          98,
          99,
          100,
          101,
          102,
          103,
          104,
          105,
          106,
          107,
          108,
          109,
          110,
          111,
          112,
          113,
          114,
          115,
          116,
          117,
          118,
          119,
          120,
          121,
          122,
          123,
          124,
          125,
          126,
          127,
          128,
          129,
          130,
          131,
          132,
          133,
          134,
          135,
          136,
          137,
          138,
          139,
          140,
          141,
          142,
          143,
          144,
          145,
          146,
          147,
          148,
          149,
          150,
          151,
          152,
          153,
          154,
          155,
          156,
          157,
          158,
          159,
          160,
          161,
          162,
          163,
          164,
          165,
          166,
          167,
          168,
          169,
          170,
          171,
          172,
          173,
          174,
          175,
          176,
          177,
          178,
          179,
          180,
          181,
          182,
          183,
          184,
          185,
          186,
          187,
          188,
          189,
          190,
          191,
          192,
          193,
          194,
          195,
          196,
          197,
          198,
          199,
          200,
          201,
          202,
          203,
          204,
          205,
          206,
          207,
          208,
          209,
          210,
          211,
          212,
          213,
          214,
          215,
          216,
          217,
          218,
          219,
          220,
          221,
          222,
          223,
          224,
          225,
          226,
          227,
          228,
          229,
          230,
          231,
          232,
          233,
          234,
          235,
          236,
          237,
          238,
          239,
          240,
          241,
          242,
          243,
          244,
          245,
          246,
          247,
          248,
          249,
          250,
          251,
          252,
          253,
          254,
          255,
          256,
          257,
          258,
          259,
          260,
          261,
          262,
          263,
          264,
          265,
          266,
          267,
          268,
          269,
          270,
          271,
          272,
          273,
          274,
          275,
          276,
          277,
          278,
          279,
          280,
          281,
          282,
          283,
          284,
          285,
          286,
          287,
          288,
          289,
          290,
          291,
          292,
          293,
          294,
          295,
          296,
          297,
          298,
          299,
          300,
          301,
          302,
          303,
          304,
          305,
          306,
          307,
          308,
          309,
          310,
          311,
          312,
          313,
          314,
          315,
          316,
          317,
          318,
          319,
          320,
          321,
          322,
          323,
          324,
          325,
          326,
          327,
          328,
          329,
          330,
          331,
          332,
          333,
          334,
          335,
          336,
          337,
          338,
          339,
          340,
          341,
          342,
          343,
          344,
          345,
          346,
          347,
          348,
          349,
          350,
          351,
          352,
          353,
          354,
          355,
          356,
          357,
          358,
          359,
          360,
          361,
          362,
          363,
          364,
          365,
          366,
          367,
          368,
          369,
          370,
          371,
          372,
          373,
          374,
          375,
          376,
          377,
          378,
          379,
          380,
          381,
          382,
          383,
          384,
          385,
          386,
          387,
          388,
          389,
          390,
          391,
          392,
          393,
          394,
          395,
          396,
          397,
          398,
          399,
          400,
          401,
          402,
          403,
          404,
          405,
          406,
          407,
          408,
          409,
          410,
          411,
          412,
          413,
          414,
          415,
          416,
          417,
          418,
          419,
          420,
          421,
          422,
          423,
          424,
          425,
          426,
          427,
          428,
          429,
          430,
          431,
          432,
          433,
          434,
          435,
          436,
          437,
          438,
          439,
          440,
          441,
          442,
          443,
          444,
          445,
          446,
          447,
          448,
          449,
          450,
          451,
          452,
          453,
          454,
          455,
          456,
          457,
          458,
          459,
          460,
          461,
          462,
          463,
          464,
          465,
          466,
          467,
          468,
          469,
          470,
          471,
          472,
          473,
          474,
          475,
          476,
          477,
          478,
          479,
          480,
          481,
          482,
          483,
          484,
          485,
          486,
          487,
          488,
          489,
          490,
          491,
          492,
          493,
          494,
          495,
          496,
          497,
          498,
          499,
          500,
          501,
          502,
          503,
          504,
          505,
          506,
          507,
          508,
          509,
          510,
          511,
          512,
          513,
          514,
          515,
          516,
          517,
          518,
          519,
          520,
          521,
          522,
          523,
          524,
          525,
          526,
          527,
          528,
          529,
          530,
          531,
          532,
          533,
          534,
          535,
          536,
          537,
          538,
          539,
          540,
          541,
          542,
          543,
          544,
          545,
          546,
          547,
          548,
          549,
          550,
          551,
          552,
          553,
          554,
          555,
          556,
          557,
          558,
          559,
          560,
          561,
          562,
          563,
          564,
          565,
          566,
          567,
          568,
          569,
          570,
          571,
          572,
          573,
          574,
          575,
          576,
          577,
          578,
          579,
          580,
          581,
          582,
          583,
          584,
          585,
          586,
          587,
          588,
          589,
          590,
          591,
          592,
          593,
          594,
          595,
          596,
          597,
          598,
          599,
          600,
          601,
          602,
          603,
          604,
          605,
          606,
          607,
          608,
          609,
          610,
          611,
          612,
          613,
          614,
          615,
          616,
          617,
          618,
          619,
          620,
          621,
          622,
          623,
          624,
          625,
          626,
          627,
          628,
          629,
          630,
          631,
          632,
          633,
          634,
          635,
          636,
          637,
          638,
          639,
          640,
          641,
          642,
          643,
          644,
          645,
          646,
          647,
          648,
          649,
          650,
          651,
          652,
          653,
          654,
          655,
          656,
          657,
          658,
          659,
          660,
          661,
          662,
          663,
          664,
          665,
          666,
          667,
          668,
          669,
          670,
          671,
          672,
          673,
          674,
          675,
          676,
          677,
          678,
          679,
          680,
          681,
          682,
          683,
          684,
          685,
          686,
          687,
          688,
          689,
          690,
          691,
          692,
          693,
          694,
          695,
          696,
          697,
          698,
          699,
          700,
          701,
          702,
          703,
          704,
          705,
          706,
          707,
          708,
          709,
          710,
          711,
          712,
          713,
          714,
          715,
          716,
          717,
          718,
          719,
          720,
          721,
          722,
          723,
          724,
          725,
          726,
          727,
          728,
          729,
          730,
          731,
          732,
          733,
          734,
          735,
          736,
          737,
          738,
          739,
          740,
          741,
          742,
          743,
          744,
          745,
          746,
          747,
          748,
          749,
          750,
          751,
          752,
          753,
          754,
          755,
          756,
          757,
          758,
          759,
          760,
          761,
          762,
          763,
          764,
          765,
          766,
          767,
          768,
          769,
          770,
          771,
          772,
          773,
          774,
          775,
          776,
          777,
          778,
          779,
          780,
          781,
          782,
          783,
          784,
          785,
          786,
          787,
          788,
          789,
          790,
          791,
          792,
          793,
          794,
          795,
          796,
          797,
          798,
          799,
          800,
          801,
          802,
          803,
          804,
          805,
          806,
          807,
          808,
          809,
          810,
          811,
          812,
          813,
          814,
          815,
          816,
          817,
          818,
          819,
          820,
          821,
          822,
          823,
          824,
          825,
          826,
          827,
          828,
          829,
          830,
          831,
          832,
          833,
          834,
          835,
          836,
          837,
          838,
          839,
          840,
          841,
          842,
          843,
          844,
          845,
          846,
          847,
          848,
          849,
          850,
          851,
          852,
          853,
          854,
          855,
          856,
          857,
          858,
          859,
          860,
          861,
          862,
          863,
          864,
          865,
          866,
          867,
          868,
          869,
          870,
          871,
          872,
          873,
          874,
          875,
          876,
          877,
          878,
          879,
          880,
          881,
          882,
          883,
          884,
          885,
          886,
          887,
          888,
          889,
          890,
          891,
          892,
          893,
          894,
          895,
          896,
          897,
          898,
          899,
          900,
          901,
          902,
          903,
          904,
          905,
          906,
          907,
          908,
          909,
          910,
          911,
          912,
          913,
          914,
          915,
          916,
          917,
          918,
          919,
          920,
          921,
          922,
          923,
          924,
          925,
          926,
          927,
          928,
          929,
          930,
          931,
          932,
          933,
          934,
          935,
          936,
          937,
          938,
          939,
          940,
          941,
          942,
          943,
          944,
          945,
          946,
          947,
          948,
          949,
          950,
          951,
          952,
          953,
          954,
          955,
          956,
          957,
          958,
          959,
          960,
          961,
          962,
          963,
          964,
          965,
          966,
          967,
          968,
          969,
          970,
          971,
          972,
          973,
          974,
          975,
          976,
          977,
          978,
          979,
          980,
          981,
          982,
          983,
          984,
          985,
          986,
          987,
          988,
          989
         ],
         "xaxis": "x",
         "y": [
          0,
          2,
          8,
          11,
          12,
          12,
          15,
          17,
          20,
          20,
          22,
          22,
          22,
          22,
          23,
          23,
          24,
          25,
          25,
          26,
          26,
          26,
          26,
          26,
          27,
          27,
          27,
          27,
          27,
          27,
          28,
          28,
          28,
          28,
          28,
          29,
          29,
          29,
          29,
          29,
          30,
          30,
          30,
          30,
          31,
          31,
          31,
          31,
          31,
          31,
          32,
          32,
          32,
          32,
          33,
          33,
          33,
          33,
          33,
          33,
          33,
          34,
          34,
          34,
          34,
          34,
          34,
          34,
          34,
          35,
          35,
          35,
          35,
          35,
          35,
          35,
          35,
          35,
          35,
          36,
          36,
          36,
          36,
          36,
          36,
          37,
          37,
          37,
          37,
          37,
          38,
          38,
          38,
          38,
          38,
          38,
          38,
          38,
          38,
          39,
          39,
          39,
          39,
          39,
          39,
          40,
          40,
          40,
          40,
          40,
          40,
          41,
          41,
          41,
          41,
          41,
          41,
          41,
          42,
          42,
          42,
          42,
          42,
          42,
          42,
          43,
          43,
          43,
          43,
          43,
          43,
          43,
          43,
          43,
          43,
          43,
          44,
          44,
          44,
          44,
          44,
          44,
          44,
          44,
          44,
          45,
          45,
          45,
          45,
          45,
          45,
          45,
          45,
          45,
          46,
          46,
          46,
          46,
          46,
          46,
          46,
          46,
          46,
          46,
          47,
          47,
          47,
          47,
          47,
          47,
          47,
          47,
          47,
          47,
          47,
          47,
          47,
          48,
          48,
          48,
          48,
          48,
          48,
          48,
          49,
          49,
          49,
          49,
          49,
          49,
          49,
          49,
          49,
          49,
          49,
          49,
          49,
          49,
          49,
          49,
          49,
          50,
          50,
          50,
          51,
          51,
          51,
          51,
          51,
          51,
          51,
          51,
          51,
          51,
          52,
          52,
          52,
          52,
          52,
          52,
          53,
          53,
          53,
          53,
          53,
          53,
          53,
          53,
          53,
          53,
          53,
          54,
          54,
          54,
          54,
          54,
          54,
          54,
          54,
          54,
          54,
          55,
          55,
          55,
          55,
          55,
          55,
          55,
          55,
          55,
          55,
          55,
          56,
          56,
          56,
          56,
          56,
          56,
          56,
          56,
          56,
          56,
          56,
          57,
          57,
          57,
          57,
          57,
          57,
          57,
          57,
          57,
          57,
          57,
          58,
          58,
          58,
          58,
          58,
          58,
          58,
          58,
          58,
          58,
          59,
          59,
          59,
          59,
          59,
          59,
          59,
          59,
          59,
          59,
          60,
          60,
          60,
          60,
          60,
          61,
          62,
          62,
          62,
          62,
          62,
          62,
          62,
          62,
          63,
          63,
          63,
          63,
          63,
          63,
          63,
          63,
          63,
          63,
          63,
          64,
          64,
          64,
          64,
          64,
          64,
          64,
          64,
          65,
          65,
          65,
          65,
          65,
          65,
          65,
          66,
          66,
          66,
          66,
          66,
          66,
          66,
          67,
          67,
          67,
          67,
          68,
          68,
          68,
          68,
          68,
          68,
          69,
          69,
          69,
          69,
          69,
          69,
          69,
          69,
          69,
          69,
          70,
          70,
          70,
          70,
          70,
          70,
          70,
          70,
          70,
          71,
          71,
          71,
          71,
          71,
          71,
          71,
          71,
          71,
          71,
          71,
          71,
          71,
          72,
          72,
          72,
          72,
          72,
          72,
          72,
          72,
          72,
          72,
          73,
          73,
          73,
          73,
          73,
          73,
          74,
          74,
          74,
          74,
          74,
          74,
          74,
          75,
          75,
          75,
          75,
          75,
          75,
          75,
          75,
          76,
          76,
          76,
          76,
          76,
          76,
          76,
          76,
          76,
          76,
          76,
          76,
          76,
          76,
          76,
          77,
          77,
          77,
          77,
          77,
          78,
          78,
          78,
          78,
          78,
          78,
          78,
          79,
          79,
          79,
          79,
          79,
          79,
          79,
          79,
          80,
          80,
          81,
          81,
          81,
          81,
          81,
          81,
          81,
          81,
          82,
          82,
          82,
          82,
          83,
          83,
          83,
          83,
          83,
          83,
          83,
          84,
          84,
          84,
          84,
          84,
          85,
          85,
          85,
          85,
          85,
          85,
          85,
          86,
          86,
          86,
          86,
          86,
          86,
          86,
          87,
          87,
          87,
          87,
          87,
          87,
          87,
          87,
          87,
          88,
          88,
          88,
          88,
          88,
          88,
          89,
          89,
          89,
          89,
          89,
          90,
          90,
          90,
          90,
          90,
          90,
          90,
          90,
          90,
          90,
          91,
          91,
          91,
          91,
          91,
          91,
          91,
          92,
          92,
          92,
          92,
          92,
          92,
          92,
          92,
          92,
          93,
          93,
          93,
          93,
          93,
          93,
          93,
          93,
          94,
          94,
          95,
          95,
          95,
          95,
          95,
          96,
          96,
          96,
          96,
          97,
          97,
          97,
          97,
          98,
          98,
          98,
          98,
          98,
          98,
          99,
          99,
          99,
          99,
          99,
          100,
          100,
          101,
          101,
          101,
          101,
          101,
          101,
          101,
          101,
          102,
          102,
          102,
          103,
          103,
          103,
          103,
          103,
          103,
          104,
          104,
          105,
          105,
          106,
          106,
          106,
          106,
          107,
          107,
          108,
          109,
          109,
          109,
          110,
          110,
          111,
          111,
          111,
          112,
          112,
          112,
          112,
          112,
          112,
          113,
          113,
          113,
          113,
          113,
          113,
          113,
          113,
          114,
          114,
          114,
          114,
          115,
          115,
          116,
          116,
          116,
          116,
          117,
          117,
          117,
          117,
          117,
          117,
          117,
          118,
          118,
          118,
          118,
          118,
          118,
          119,
          119,
          119,
          119,
          119,
          119,
          119,
          119,
          119,
          119,
          120,
          120,
          120,
          120,
          120,
          120,
          121,
          121,
          121,
          121,
          121,
          121,
          121,
          121,
          122,
          122,
          123,
          124,
          125,
          125,
          125,
          125,
          125,
          125,
          126,
          126,
          126,
          127,
          127,
          127,
          128,
          129,
          129,
          131,
          131,
          131,
          131,
          131,
          131,
          132,
          132,
          132,
          132,
          133,
          133,
          134,
          134,
          134,
          134,
          134,
          134,
          135,
          135,
          135,
          135,
          135,
          136,
          136,
          136,
          137,
          137,
          138,
          139,
          139,
          140,
          140,
          140,
          140,
          140,
          141,
          142,
          142,
          142,
          143,
          143,
          143,
          144,
          144,
          144,
          144,
          144,
          145,
          145,
          146,
          147,
          147,
          147,
          148,
          148,
          148,
          148,
          149,
          150,
          150,
          150,
          150,
          151,
          151,
          151,
          151,
          152,
          153,
          153,
          153,
          153,
          153,
          153,
          154,
          154,
          154,
          154,
          154,
          156,
          158,
          158,
          158,
          159,
          159,
          160,
          160,
          161,
          161,
          161,
          161,
          162,
          162,
          162,
          162,
          163,
          163,
          163,
          166,
          166,
          166,
          167,
          168,
          168,
          169,
          169,
          169,
          169,
          169,
          169,
          170,
          175,
          175,
          176,
          177,
          178,
          179,
          180,
          181,
          182,
          182,
          183,
          183,
          183,
          184,
          185,
          187,
          188,
          188,
          189,
          189,
          189,
          190,
          191,
          191,
          192,
          192,
          193,
          193,
          194,
          194,
          195,
          195,
          196,
          196,
          197,
          199,
          199,
          201,
          203,
          203,
          204,
          206,
          207,
          208,
          209,
          211,
          211,
          213,
          215,
          216,
          217,
          218,
          218,
          219,
          219,
          219,
          220,
          222,
          222,
          223,
          225,
          226,
          227,
          228,
          228,
          228,
          229,
          231,
          231,
          231,
          231,
          232,
          232,
          232,
          235,
          236,
          238,
          238,
          239,
          239,
          239,
          241,
          241,
          242,
          242,
          244,
          247,
          247,
          247,
          250,
          251,
          259,
          261,
          261,
          262,
          263,
          263,
          263,
          263,
          266,
          266,
          267,
          267,
          267,
          267,
          268,
          271,
          272,
          272,
          273,
          273,
          276,
          277,
          277,
          281,
          281,
          283,
          287,
          289,
          290,
          292,
          293,
          293,
          294,
          295,
          296,
          296,
          302,
          306,
          309,
          314,
          316,
          316,
          316,
          318,
          321,
          322,
          323,
          323,
          325,
          325,
          328,
          330,
          334,
          335,
          338,
          345,
          345,
          350,
          354,
          354,
          356,
          365,
          365,
          371,
          382,
          388,
          392,
          396,
          410,
          420,
          422,
          426,
          440,
          442,
          458,
          458,
          466,
          467,
          476,
          485,
          488,
          525,
          534,
          553,
          562,
          648,
          653,
          663,
          712,
          718,
          835,
          835,
          859,
          876,
          889,
          1042,
          1051,
          1063,
          1082,
          1302,
          1543
         ],
         "yaxis": "y"
        }
       ],
       "layout": {
        "legend": {
         "tracegroupgap": 0
        },
        "shapes": [
         {
          "line": {
           "color": "red"
          },
          "type": "line",
          "x0": 0,
          "x1": 1,
          "xref": "x domain",
          "y0": 500,
          "y1": 500,
          "yref": "y"
         }
        ],
        "template": {
         "data": {
          "bar": [
           {
            "error_x": {
             "color": "#2a3f5f"
            },
            "error_y": {
             "color": "#2a3f5f"
            },
            "marker": {
             "line": {
              "color": "#E5ECF6",
              "width": 0.5
             },
             "pattern": {
              "fillmode": "overlay",
              "size": 10,
              "solidity": 0.2
             }
            },
            "type": "bar"
           }
          ],
          "barpolar": [
           {
            "marker": {
             "line": {
              "color": "#E5ECF6",
              "width": 0.5
             },
             "pattern": {
              "fillmode": "overlay",
              "size": 10,
              "solidity": 0.2
             }
            },
            "type": "barpolar"
           }
          ],
          "carpet": [
           {
            "aaxis": {
             "endlinecolor": "#2a3f5f",
             "gridcolor": "white",
             "linecolor": "white",
             "minorgridcolor": "white",
             "startlinecolor": "#2a3f5f"
            },
            "baxis": {
             "endlinecolor": "#2a3f5f",
             "gridcolor": "white",
             "linecolor": "white",
             "minorgridcolor": "white",
             "startlinecolor": "#2a3f5f"
            },
            "type": "carpet"
           }
          ],
          "choropleth": [
           {
            "colorbar": {
             "outlinewidth": 0,
             "ticks": ""
            },
            "type": "choropleth"
           }
          ],
          "contour": [
           {
            "colorbar": {
             "outlinewidth": 0,
             "ticks": ""
            },
            "colorscale": [
             [
              0,
              "#0d0887"
             ],
             [
              0.1111111111111111,
              "#46039f"
             ],
             [
              0.2222222222222222,
              "#7201a8"
             ],
             [
              0.3333333333333333,
              "#9c179e"
             ],
             [
              0.4444444444444444,
              "#bd3786"
             ],
             [
              0.5555555555555556,
              "#d8576b"
             ],
             [
              0.6666666666666666,
              "#ed7953"
             ],
             [
              0.7777777777777778,
              "#fb9f3a"
             ],
             [
              0.8888888888888888,
              "#fdca26"
             ],
             [
              1,
              "#f0f921"
             ]
            ],
            "type": "contour"
           }
          ],
          "contourcarpet": [
           {
            "colorbar": {
             "outlinewidth": 0,
             "ticks": ""
            },
            "type": "contourcarpet"
           }
          ],
          "heatmap": [
           {
            "colorbar": {
             "outlinewidth": 0,
             "ticks": ""
            },
            "colorscale": [
             [
              0,
              "#0d0887"
             ],
             [
              0.1111111111111111,
              "#46039f"
             ],
             [
              0.2222222222222222,
              "#7201a8"
             ],
             [
              0.3333333333333333,
              "#9c179e"
             ],
             [
              0.4444444444444444,
              "#bd3786"
             ],
             [
              0.5555555555555556,
              "#d8576b"
             ],
             [
              0.6666666666666666,
              "#ed7953"
             ],
             [
              0.7777777777777778,
              "#fb9f3a"
             ],
             [
              0.8888888888888888,
              "#fdca26"
             ],
             [
              1,
              "#f0f921"
             ]
            ],
            "type": "heatmap"
           }
          ],
          "heatmapgl": [
           {
            "colorbar": {
             "outlinewidth": 0,
             "ticks": ""
            },
            "colorscale": [
             [
              0,
              "#0d0887"
             ],
             [
              0.1111111111111111,
              "#46039f"
             ],
             [
              0.2222222222222222,
              "#7201a8"
             ],
             [
              0.3333333333333333,
              "#9c179e"
             ],
             [
              0.4444444444444444,
              "#bd3786"
             ],
             [
              0.5555555555555556,
              "#d8576b"
             ],
             [
              0.6666666666666666,
              "#ed7953"
             ],
             [
              0.7777777777777778,
              "#fb9f3a"
             ],
             [
              0.8888888888888888,
              "#fdca26"
             ],
             [
              1,
              "#f0f921"
             ]
            ],
            "type": "heatmapgl"
           }
          ],
          "histogram": [
           {
            "marker": {
             "pattern": {
              "fillmode": "overlay",
              "size": 10,
              "solidity": 0.2
             }
            },
            "type": "histogram"
           }
          ],
          "histogram2d": [
           {
            "colorbar": {
             "outlinewidth": 0,
             "ticks": ""
            },
            "colorscale": [
             [
              0,
              "#0d0887"
             ],
             [
              0.1111111111111111,
              "#46039f"
             ],
             [
              0.2222222222222222,
              "#7201a8"
             ],
             [
              0.3333333333333333,
              "#9c179e"
             ],
             [
              0.4444444444444444,
              "#bd3786"
             ],
             [
              0.5555555555555556,
              "#d8576b"
             ],
             [
              0.6666666666666666,
              "#ed7953"
             ],
             [
              0.7777777777777778,
              "#fb9f3a"
             ],
             [
              0.8888888888888888,
              "#fdca26"
             ],
             [
              1,
              "#f0f921"
             ]
            ],
            "type": "histogram2d"
           }
          ],
          "histogram2dcontour": [
           {
            "colorbar": {
             "outlinewidth": 0,
             "ticks": ""
            },
            "colorscale": [
             [
              0,
              "#0d0887"
             ],
             [
              0.1111111111111111,
              "#46039f"
             ],
             [
              0.2222222222222222,
              "#7201a8"
             ],
             [
              0.3333333333333333,
              "#9c179e"
             ],
             [
              0.4444444444444444,
              "#bd3786"
             ],
             [
              0.5555555555555556,
              "#d8576b"
             ],
             [
              0.6666666666666666,
              "#ed7953"
             ],
             [
              0.7777777777777778,
              "#fb9f3a"
             ],
             [
              0.8888888888888888,
              "#fdca26"
             ],
             [
              1,
              "#f0f921"
             ]
            ],
            "type": "histogram2dcontour"
           }
          ],
          "mesh3d": [
           {
            "colorbar": {
             "outlinewidth": 0,
             "ticks": ""
            },
            "type": "mesh3d"
           }
          ],
          "parcoords": [
           {
            "line": {
             "colorbar": {
              "outlinewidth": 0,
              "ticks": ""
             }
            },
            "type": "parcoords"
           }
          ],
          "pie": [
           {
            "automargin": true,
            "type": "pie"
           }
          ],
          "scatter": [
           {
            "fillpattern": {
             "fillmode": "overlay",
             "size": 10,
             "solidity": 0.2
            },
            "type": "scatter"
           }
          ],
          "scatter3d": [
           {
            "line": {
             "colorbar": {
              "outlinewidth": 0,
              "ticks": ""
             }
            },
            "marker": {
             "colorbar": {
              "outlinewidth": 0,
              "ticks": ""
             }
            },
            "type": "scatter3d"
           }
          ],
          "scattercarpet": [
           {
            "marker": {
             "colorbar": {
              "outlinewidth": 0,
              "ticks": ""
             }
            },
            "type": "scattercarpet"
           }
          ],
          "scattergeo": [
           {
            "marker": {
             "colorbar": {
              "outlinewidth": 0,
              "ticks": ""
             }
            },
            "type": "scattergeo"
           }
          ],
          "scattergl": [
           {
            "marker": {
             "colorbar": {
              "outlinewidth": 0,
              "ticks": ""
             }
            },
            "type": "scattergl"
           }
          ],
          "scattermapbox": [
           {
            "marker": {
             "colorbar": {
              "outlinewidth": 0,
              "ticks": ""
             }
            },
            "type": "scattermapbox"
           }
          ],
          "scatterpolar": [
           {
            "marker": {
             "colorbar": {
              "outlinewidth": 0,
              "ticks": ""
             }
            },
            "type": "scatterpolar"
           }
          ],
          "scatterpolargl": [
           {
            "marker": {
             "colorbar": {
              "outlinewidth": 0,
              "ticks": ""
             }
            },
            "type": "scatterpolargl"
           }
          ],
          "scatterternary": [
           {
            "marker": {
             "colorbar": {
              "outlinewidth": 0,
              "ticks": ""
             }
            },
            "type": "scatterternary"
           }
          ],
          "surface": [
           {
            "colorbar": {
             "outlinewidth": 0,
             "ticks": ""
            },
            "colorscale": [
             [
              0,
              "#0d0887"
             ],
             [
              0.1111111111111111,
              "#46039f"
             ],
             [
              0.2222222222222222,
              "#7201a8"
             ],
             [
              0.3333333333333333,
              "#9c179e"
             ],
             [
              0.4444444444444444,
              "#bd3786"
             ],
             [
              0.5555555555555556,
              "#d8576b"
             ],
             [
              0.6666666666666666,
              "#ed7953"
             ],
             [
              0.7777777777777778,
              "#fb9f3a"
             ],
             [
              0.8888888888888888,
              "#fdca26"
             ],
             [
              1,
              "#f0f921"
             ]
            ],
            "type": "surface"
           }
          ],
          "table": [
           {
            "cells": {
             "fill": {
              "color": "#EBF0F8"
             },
             "line": {
              "color": "white"
             }
            },
            "header": {
             "fill": {
              "color": "#C8D4E3"
             },
             "line": {
              "color": "white"
             }
            },
            "type": "table"
           }
          ]
         },
         "layout": {
          "annotationdefaults": {
           "arrowcolor": "#2a3f5f",
           "arrowhead": 0,
           "arrowwidth": 1
          },
          "autotypenumbers": "strict",
          "coloraxis": {
           "colorbar": {
            "outlinewidth": 0,
            "ticks": ""
           }
          },
          "colorscale": {
           "diverging": [
            [
             0,
             "#8e0152"
            ],
            [
             0.1,
             "#c51b7d"
            ],
            [
             0.2,
             "#de77ae"
            ],
            [
             0.3,
             "#f1b6da"
            ],
            [
             0.4,
             "#fde0ef"
            ],
            [
             0.5,
             "#f7f7f7"
            ],
            [
             0.6,
             "#e6f5d0"
            ],
            [
             0.7,
             "#b8e186"
            ],
            [
             0.8,
             "#7fbc41"
            ],
            [
             0.9,
             "#4d9221"
            ],
            [
             1,
             "#276419"
            ]
           ],
           "sequential": [
            [
             0,
             "#0d0887"
            ],
            [
             0.1111111111111111,
             "#46039f"
            ],
            [
             0.2222222222222222,
             "#7201a8"
            ],
            [
             0.3333333333333333,
             "#9c179e"
            ],
            [
             0.4444444444444444,
             "#bd3786"
            ],
            [
             0.5555555555555556,
             "#d8576b"
            ],
            [
             0.6666666666666666,
             "#ed7953"
            ],
            [
             0.7777777777777778,
             "#fb9f3a"
            ],
            [
             0.8888888888888888,
             "#fdca26"
            ],
            [
             1,
             "#f0f921"
            ]
           ],
           "sequentialminus": [
            [
             0,
             "#0d0887"
            ],
            [
             0.1111111111111111,
             "#46039f"
            ],
            [
             0.2222222222222222,
             "#7201a8"
            ],
            [
             0.3333333333333333,
             "#9c179e"
            ],
            [
             0.4444444444444444,
             "#bd3786"
            ],
            [
             0.5555555555555556,
             "#d8576b"
            ],
            [
             0.6666666666666666,
             "#ed7953"
            ],
            [
             0.7777777777777778,
             "#fb9f3a"
            ],
            [
             0.8888888888888888,
             "#fdca26"
            ],
            [
             1,
             "#f0f921"
            ]
           ]
          },
          "colorway": [
           "#636efa",
           "#EF553B",
           "#00cc96",
           "#ab63fa",
           "#FFA15A",
           "#19d3f3",
           "#FF6692",
           "#B6E880",
           "#FF97FF",
           "#FECB52"
          ],
          "font": {
           "color": "#2a3f5f"
          },
          "geo": {
           "bgcolor": "white",
           "lakecolor": "white",
           "landcolor": "#E5ECF6",
           "showlakes": true,
           "showland": true,
           "subunitcolor": "white"
          },
          "hoverlabel": {
           "align": "left"
          },
          "hovermode": "closest",
          "mapbox": {
           "style": "light"
          },
          "paper_bgcolor": "white",
          "plot_bgcolor": "#E5ECF6",
          "polar": {
           "angularaxis": {
            "gridcolor": "white",
            "linecolor": "white",
            "ticks": ""
           },
           "bgcolor": "#E5ECF6",
           "radialaxis": {
            "gridcolor": "white",
            "linecolor": "white",
            "ticks": ""
           }
          },
          "scene": {
           "xaxis": {
            "backgroundcolor": "#E5ECF6",
            "gridcolor": "white",
            "gridwidth": 2,
            "linecolor": "white",
            "showbackground": true,
            "ticks": "",
            "zerolinecolor": "white"
           },
           "yaxis": {
            "backgroundcolor": "#E5ECF6",
            "gridcolor": "white",
            "gridwidth": 2,
            "linecolor": "white",
            "showbackground": true,
            "ticks": "",
            "zerolinecolor": "white"
           },
           "zaxis": {
            "backgroundcolor": "#E5ECF6",
            "gridcolor": "white",
            "gridwidth": 2,
            "linecolor": "white",
            "showbackground": true,
            "ticks": "",
            "zerolinecolor": "white"
           }
          },
          "shapedefaults": {
           "line": {
            "color": "#2a3f5f"
           }
          },
          "ternary": {
           "aaxis": {
            "gridcolor": "white",
            "linecolor": "white",
            "ticks": ""
           },
           "baxis": {
            "gridcolor": "white",
            "linecolor": "white",
            "ticks": ""
           },
           "bgcolor": "#E5ECF6",
           "caxis": {
            "gridcolor": "white",
            "linecolor": "white",
            "ticks": ""
           }
          },
          "title": {
           "x": 0.05
          },
          "xaxis": {
           "automargin": true,
           "gridcolor": "white",
           "linecolor": "white",
           "ticks": "",
           "title": {
            "standoff": 15
           },
           "zerolinecolor": "white",
           "zerolinewidth": 2
          },
          "yaxis": {
           "automargin": true,
           "gridcolor": "white",
           "linecolor": "white",
           "ticks": "",
           "title": {
            "standoff": 15
           },
           "zerolinecolor": "white",
           "zerolinewidth": 2
          }
         }
        },
        "title": {
         "text": "Number of days taken to rate the last 50 beers"
        },
        "xaxis": {
         "anchor": "y",
         "domain": [
          0,
          1
         ],
         "title": {
          "text": "Users sorted from smallest to biggest"
         }
        },
        "yaxis": {
         "anchor": "x",
         "domain": [
          0,
          1
         ],
         "title": {
          "text": "Number of days"
         }
        }
       }
      }
     },
     "metadata": {},
     "output_type": "display_data"
    }
   ],
   "source": [
    "df_check = df_valid_users['450'].to_frame()\n",
    "df_check.sort_values(by = '450', inplace=True)\n",
    "fig = px.line(df_check, x = range(df_check.shape[0]), y = '450',\n",
    "    title=\"Number of days taken to rate the last 50 beers\").update_layout(    \n",
    "    xaxis_title=\"Users sorted from smallest to biggest\",\n",
    "    yaxis_title=\"Number of days\"\n",
    ")\n",
    "fig.add_hline(500, line_color = 'red')\n",
    "fig.show()"
   ]
  },
  {
   "cell_type": "code",
   "execution_count": 239,
   "metadata": {},
   "outputs": [],
   "source": [
    "# We notive again that 2% of the remaining users take too much time to perform their last ratings.\n",
    "# We decided to recut at 500days as our final filtering step\n",
    "max_time_to_rate = 500\n",
    "df_valid_users = df_valid_users[(df_valid_users['450'] < max_time_to_rate)]"
   ]
  },
  {
   "cell_type": "code",
   "execution_count": 240,
   "metadata": {},
   "outputs": [
    {
     "name": "stdout",
     "output_type": "stream",
     "text": [
      "There is 970 users left and 485000 ratings in total.\n"
     ]
    }
   ],
   "source": [
    "# We have the final data set of users and the data set of their ratings\n",
    "\n",
    "valid_usernames = set(df_valid_users['user_name'])\n",
    "df_valid_ratings = df_us_ratings[df_us_ratings['user_name'].isin(valid_usernames)]\n",
    "print(f\"There is {len(valid_usernames)} users left and {df_valid_ratings.shape[0]} ratings in total.\")"
   ]
  },
  {
   "cell_type": "code",
   "execution_count": 241,
   "metadata": {},
   "outputs": [
    {
     "data": {
      "text/html": [
       "<div>\n",
       "<style scoped>\n",
       "    .dataframe tbody tr th:only-of-type {\n",
       "        vertical-align: middle;\n",
       "    }\n",
       "\n",
       "    .dataframe tbody tr th {\n",
       "        vertical-align: top;\n",
       "    }\n",
       "\n",
       "    .dataframe thead th {\n",
       "        text-align: right;\n",
       "    }\n",
       "</style>\n",
       "<table border=\"1\" class=\"dataframe\">\n",
       "  <thead>\n",
       "    <tr style=\"text-align: right;\">\n",
       "      <th></th>\n",
       "      <th>nbr_ratings</th>\n",
       "      <th>nbr_reviews</th>\n",
       "      <th>user_id</th>\n",
       "      <th>user_name</th>\n",
       "      <th>joined</th>\n",
       "      <th>location</th>\n",
       "      <th>date_joined</th>\n",
       "      <th>active_days</th>\n",
       "      <th>delta_first_last</th>\n",
       "      <th>max_active_month</th>\n",
       "      <th>50</th>\n",
       "      <th>450</th>\n",
       "    </tr>\n",
       "  </thead>\n",
       "  <tbody>\n",
       "    <tr>\n",
       "      <th>2</th>\n",
       "      <td>585</td>\n",
       "      <td>389</td>\n",
       "      <td>ferrari29.320392</td>\n",
       "      <td>ferrari29</td>\n",
       "      <td>1.239790e+09</td>\n",
       "      <td>United States, Illinois</td>\n",
       "      <td>2009-04-15</td>\n",
       "      <td>202</td>\n",
       "      <td>1193</td>\n",
       "      <td>42</td>\n",
       "      <td>64</td>\n",
       "      <td>335</td>\n",
       "    </tr>\n",
       "    <tr>\n",
       "      <th>5</th>\n",
       "      <td>676</td>\n",
       "      <td>676</td>\n",
       "      <td>dodo2step.110880</td>\n",
       "      <td>Dodo2step</td>\n",
       "      <td>1.165576e+09</td>\n",
       "      <td>United States, Pennsylvania</td>\n",
       "      <td>2006-12-08</td>\n",
       "      <td>411</td>\n",
       "      <td>2153</td>\n",
       "      <td>28</td>\n",
       "      <td>45</td>\n",
       "      <td>442</td>\n",
       "    </tr>\n",
       "    <tr>\n",
       "      <th>7</th>\n",
       "      <td>653</td>\n",
       "      <td>651</td>\n",
       "      <td>kadonny.156863</td>\n",
       "      <td>Kadonny</td>\n",
       "      <td>1.188986e+09</td>\n",
       "      <td>United States, Pennsylvania</td>\n",
       "      <td>2007-09-05</td>\n",
       "      <td>357</td>\n",
       "      <td>1800</td>\n",
       "      <td>22</td>\n",
       "      <td>249</td>\n",
       "      <td>263</td>\n",
       "    </tr>\n",
       "    <tr>\n",
       "      <th>8</th>\n",
       "      <td>748</td>\n",
       "      <td>748</td>\n",
       "      <td>biggred1.206640</td>\n",
       "      <td>biggred1</td>\n",
       "      <td>1.206616e+09</td>\n",
       "      <td>United States, Indiana</td>\n",
       "      <td>2008-03-27</td>\n",
       "      <td>318</td>\n",
       "      <td>819</td>\n",
       "      <td>37</td>\n",
       "      <td>102</td>\n",
       "      <td>69</td>\n",
       "    </tr>\n",
       "    <tr>\n",
       "      <th>10</th>\n",
       "      <td>614</td>\n",
       "      <td>614</td>\n",
       "      <td>whynot44.2033</td>\n",
       "      <td>whynot44</td>\n",
       "      <td>1.052129e+09</td>\n",
       "      <td>United States, Missouri</td>\n",
       "      <td>2003-05-05</td>\n",
       "      <td>276</td>\n",
       "      <td>1452</td>\n",
       "      <td>57</td>\n",
       "      <td>24</td>\n",
       "      <td>316</td>\n",
       "    </tr>\n",
       "  </tbody>\n",
       "</table>\n",
       "</div>"
      ],
      "text/plain": [
       "    nbr_ratings  nbr_reviews           user_id  user_name        joined  \\\n",
       "2           585          389  ferrari29.320392  ferrari29  1.239790e+09   \n",
       "5           676          676  dodo2step.110880  Dodo2step  1.165576e+09   \n",
       "7           653          651    kadonny.156863    Kadonny  1.188986e+09   \n",
       "8           748          748   biggred1.206640   biggred1  1.206616e+09   \n",
       "10          614          614     whynot44.2033   whynot44  1.052129e+09   \n",
       "\n",
       "                       location date_joined  active_days  delta_first_last  \\\n",
       "2       United States, Illinois  2009-04-15          202              1193   \n",
       "5   United States, Pennsylvania  2006-12-08          411              2153   \n",
       "7   United States, Pennsylvania  2007-09-05          357              1800   \n",
       "8        United States, Indiana  2008-03-27          318               819   \n",
       "10      United States, Missouri  2003-05-05          276              1452   \n",
       "\n",
       "    max_active_month   50  450  \n",
       "2                 42   64  335  \n",
       "5                 28   45  442  \n",
       "7                 22  249  263  \n",
       "8                 37  102   69  \n",
       "10                57   24  316  "
      ]
     },
     "execution_count": 241,
     "metadata": {},
     "output_type": "execute_result"
    }
   ],
   "source": [
    "df_valid_users.head(5)"
   ]
  },
  {
   "cell_type": "code",
   "execution_count": 242,
   "metadata": {},
   "outputs": [
    {
     "data": {
      "text/html": [
       "<div>\n",
       "<style scoped>\n",
       "    .dataframe tbody tr th:only-of-type {\n",
       "        vertical-align: middle;\n",
       "    }\n",
       "\n",
       "    .dataframe tbody tr th {\n",
       "        vertical-align: top;\n",
       "    }\n",
       "\n",
       "    .dataframe thead th {\n",
       "        text-align: right;\n",
       "    }\n",
       "</style>\n",
       "<table border=\"1\" class=\"dataframe\">\n",
       "  <thead>\n",
       "    <tr style=\"text-align: right;\">\n",
       "      <th></th>\n",
       "      <th>beer_id</th>\n",
       "      <th>style</th>\n",
       "      <th>abv</th>\n",
       "      <th>date</th>\n",
       "      <th>user_name</th>\n",
       "      <th>appearance</th>\n",
       "      <th>aroma</th>\n",
       "      <th>palate</th>\n",
       "      <th>taste</th>\n",
       "      <th>overall</th>\n",
       "      <th>rating</th>\n",
       "      <th>category</th>\n",
       "      <th>rating_number</th>\n",
       "    </tr>\n",
       "  </thead>\n",
       "  <tbody>\n",
       "    <tr>\n",
       "      <th>1640018</th>\n",
       "      <td>167</td>\n",
       "      <td>Witbier</td>\n",
       "      <td>NaN</td>\n",
       "      <td>2001-03-16</td>\n",
       "      <td>frank4sail</td>\n",
       "      <td>4.5</td>\n",
       "      <td>4.5</td>\n",
       "      <td>4.0</td>\n",
       "      <td>5.0</td>\n",
       "      <td>5.0</td>\n",
       "      <td>4.75</td>\n",
       "      <td>Wheat Beers</td>\n",
       "      <td>0</td>\n",
       "    </tr>\n",
       "    <tr>\n",
       "      <th>311428</th>\n",
       "      <td>3558</td>\n",
       "      <td>Czech Pilsener</td>\n",
       "      <td>5.00</td>\n",
       "      <td>2001-06-18</td>\n",
       "      <td>Mark</td>\n",
       "      <td>4.0</td>\n",
       "      <td>4.0</td>\n",
       "      <td>3.0</td>\n",
       "      <td>4.0</td>\n",
       "      <td>4.0</td>\n",
       "      <td>3.90</td>\n",
       "      <td>Pale Lagers</td>\n",
       "      <td>0</td>\n",
       "    </tr>\n",
       "    <tr>\n",
       "      <th>17313</th>\n",
       "      <td>73</td>\n",
       "      <td>Milk / Sweet Stout</td>\n",
       "      <td>5.20</td>\n",
       "      <td>2001-06-18</td>\n",
       "      <td>Mark</td>\n",
       "      <td>5.0</td>\n",
       "      <td>5.0</td>\n",
       "      <td>5.0</td>\n",
       "      <td>5.0</td>\n",
       "      <td>5.0</td>\n",
       "      <td>5.00</td>\n",
       "      <td>Stouts</td>\n",
       "      <td>1</td>\n",
       "    </tr>\n",
       "    <tr>\n",
       "      <th>136697</th>\n",
       "      <td>261</td>\n",
       "      <td>Vienna Lager</td>\n",
       "      <td>4.48</td>\n",
       "      <td>2001-06-24</td>\n",
       "      <td>Mark</td>\n",
       "      <td>4.0</td>\n",
       "      <td>3.0</td>\n",
       "      <td>3.0</td>\n",
       "      <td>3.0</td>\n",
       "      <td>3.0</td>\n",
       "      <td>3.06</td>\n",
       "      <td>Dark Lagers</td>\n",
       "      <td>2</td>\n",
       "    </tr>\n",
       "    <tr>\n",
       "      <th>442671</th>\n",
       "      <td>87</td>\n",
       "      <td>American Pale Ale (APA)</td>\n",
       "      <td>5.40</td>\n",
       "      <td>2001-06-24</td>\n",
       "      <td>Mark</td>\n",
       "      <td>4.0</td>\n",
       "      <td>4.0</td>\n",
       "      <td>1.0</td>\n",
       "      <td>3.0</td>\n",
       "      <td>3.0</td>\n",
       "      <td>3.10</td>\n",
       "      <td>Pale Ales</td>\n",
       "      <td>3</td>\n",
       "    </tr>\n",
       "  </tbody>\n",
       "</table>\n",
       "</div>"
      ],
      "text/plain": [
       "         beer_id                    style   abv       date   user_name  \\\n",
       "1640018      167                  Witbier   NaN 2001-03-16  frank4sail   \n",
       "311428      3558           Czech Pilsener  5.00 2001-06-18        Mark   \n",
       "17313         73       Milk / Sweet Stout  5.20 2001-06-18        Mark   \n",
       "136697       261             Vienna Lager  4.48 2001-06-24        Mark   \n",
       "442671        87  American Pale Ale (APA)  5.40 2001-06-24        Mark   \n",
       "\n",
       "         appearance  aroma  palate  taste  overall  rating     category  \\\n",
       "1640018         4.5    4.5     4.0    5.0      5.0    4.75  Wheat Beers   \n",
       "311428          4.0    4.0     3.0    4.0      4.0    3.90  Pale Lagers   \n",
       "17313           5.0    5.0     5.0    5.0      5.0    5.00       Stouts   \n",
       "136697          4.0    3.0     3.0    3.0      3.0    3.06  Dark Lagers   \n",
       "442671          4.0    4.0     1.0    3.0      3.0    3.10    Pale Ales   \n",
       "\n",
       "         rating_number  \n",
       "1640018              0  \n",
       "311428               0  \n",
       "17313                1  \n",
       "136697               2  \n",
       "442671               3  "
      ]
     },
     "execution_count": 242,
     "metadata": {},
     "output_type": "execute_result"
    }
   ],
   "source": [
    "df_valid_ratings.head(5)"
   ]
  },
  {
   "attachments": {},
   "cell_type": "markdown",
   "metadata": {},
   "source": [
    "# Clustering"
   ]
  },
  {
   "cell_type": "code",
   "execution_count": 243,
   "metadata": {},
   "outputs": [],
   "source": [
    "# Clustering starts :\n",
    "# We want to check if it is possible to extract meaningful clusters\n",
    "# out of the 50 first ratings submitted by users"
   ]
  },
  {
   "cell_type": "code",
   "execution_count": 244,
   "metadata": {},
   "outputs": [
    {
     "data": {
      "text/html": [
       "<div>\n",
       "<style scoped>\n",
       "    .dataframe tbody tr th:only-of-type {\n",
       "        vertical-align: middle;\n",
       "    }\n",
       "\n",
       "    .dataframe tbody tr th {\n",
       "        vertical-align: top;\n",
       "    }\n",
       "\n",
       "    .dataframe thead th {\n",
       "        text-align: right;\n",
       "    }\n",
       "</style>\n",
       "<table border=\"1\" class=\"dataframe\">\n",
       "  <thead>\n",
       "    <tr style=\"text-align: right;\">\n",
       "      <th>category</th>\n",
       "      <th>Bocks</th>\n",
       "      <th>Brown Ales</th>\n",
       "      <th>Dark Ales</th>\n",
       "      <th>Dark Lagers</th>\n",
       "      <th>Hybrid Beers</th>\n",
       "      <th>India Pale Ales</th>\n",
       "      <th>Pale Ales</th>\n",
       "      <th>Pale Lagers</th>\n",
       "      <th>Porters</th>\n",
       "      <th>Specialty Beer</th>\n",
       "      <th>Stouts</th>\n",
       "      <th>Strong Ales</th>\n",
       "      <th>Weird Cocktail</th>\n",
       "      <th>Wheat Beers</th>\n",
       "      <th>Wild/Sour Beers</th>\n",
       "    </tr>\n",
       "    <tr>\n",
       "      <th>user_name</th>\n",
       "      <th></th>\n",
       "      <th></th>\n",
       "      <th></th>\n",
       "      <th></th>\n",
       "      <th></th>\n",
       "      <th></th>\n",
       "      <th></th>\n",
       "      <th></th>\n",
       "      <th></th>\n",
       "      <th></th>\n",
       "      <th></th>\n",
       "      <th></th>\n",
       "      <th></th>\n",
       "      <th></th>\n",
       "      <th></th>\n",
       "    </tr>\n",
       "  </thead>\n",
       "  <tbody>\n",
       "    <tr>\n",
       "      <th>-Rick</th>\n",
       "      <td>0</td>\n",
       "      <td>2</td>\n",
       "      <td>0</td>\n",
       "      <td>2</td>\n",
       "      <td>0</td>\n",
       "      <td>29</td>\n",
       "      <td>7</td>\n",
       "      <td>2</td>\n",
       "      <td>2</td>\n",
       "      <td>2</td>\n",
       "      <td>3</td>\n",
       "      <td>1</td>\n",
       "      <td>0</td>\n",
       "      <td>0</td>\n",
       "      <td>0</td>\n",
       "    </tr>\n",
       "    <tr>\n",
       "      <th>1000lbgrizzly</th>\n",
       "      <td>0</td>\n",
       "      <td>5</td>\n",
       "      <td>0</td>\n",
       "      <td>1</td>\n",
       "      <td>0</td>\n",
       "      <td>4</td>\n",
       "      <td>9</td>\n",
       "      <td>7</td>\n",
       "      <td>2</td>\n",
       "      <td>8</td>\n",
       "      <td>6</td>\n",
       "      <td>4</td>\n",
       "      <td>0</td>\n",
       "      <td>3</td>\n",
       "      <td>1</td>\n",
       "    </tr>\n",
       "    <tr>\n",
       "      <th>1424IpA</th>\n",
       "      <td>0</td>\n",
       "      <td>0</td>\n",
       "      <td>1</td>\n",
       "      <td>0</td>\n",
       "      <td>0</td>\n",
       "      <td>21</td>\n",
       "      <td>3</td>\n",
       "      <td>1</td>\n",
       "      <td>1</td>\n",
       "      <td>1</td>\n",
       "      <td>12</td>\n",
       "      <td>4</td>\n",
       "      <td>0</td>\n",
       "      <td>1</td>\n",
       "      <td>5</td>\n",
       "    </tr>\n",
       "    <tr>\n",
       "      <th>2Xmd</th>\n",
       "      <td>0</td>\n",
       "      <td>2</td>\n",
       "      <td>1</td>\n",
       "      <td>1</td>\n",
       "      <td>0</td>\n",
       "      <td>25</td>\n",
       "      <td>5</td>\n",
       "      <td>1</td>\n",
       "      <td>1</td>\n",
       "      <td>2</td>\n",
       "      <td>9</td>\n",
       "      <td>1</td>\n",
       "      <td>0</td>\n",
       "      <td>2</td>\n",
       "      <td>0</td>\n",
       "    </tr>\n",
       "    <tr>\n",
       "      <th>2ellas</th>\n",
       "      <td>0</td>\n",
       "      <td>2</td>\n",
       "      <td>1</td>\n",
       "      <td>0</td>\n",
       "      <td>0</td>\n",
       "      <td>31</td>\n",
       "      <td>9</td>\n",
       "      <td>0</td>\n",
       "      <td>0</td>\n",
       "      <td>0</td>\n",
       "      <td>2</td>\n",
       "      <td>4</td>\n",
       "      <td>0</td>\n",
       "      <td>1</td>\n",
       "      <td>0</td>\n",
       "    </tr>\n",
       "    <tr>\n",
       "      <th>...</th>\n",
       "      <td>...</td>\n",
       "      <td>...</td>\n",
       "      <td>...</td>\n",
       "      <td>...</td>\n",
       "      <td>...</td>\n",
       "      <td>...</td>\n",
       "      <td>...</td>\n",
       "      <td>...</td>\n",
       "      <td>...</td>\n",
       "      <td>...</td>\n",
       "      <td>...</td>\n",
       "      <td>...</td>\n",
       "      <td>...</td>\n",
       "      <td>...</td>\n",
       "      <td>...</td>\n",
       "    </tr>\n",
       "    <tr>\n",
       "      <th>zenithberwyn</th>\n",
       "      <td>1</td>\n",
       "      <td>1</td>\n",
       "      <td>0</td>\n",
       "      <td>3</td>\n",
       "      <td>0</td>\n",
       "      <td>3</td>\n",
       "      <td>7</td>\n",
       "      <td>10</td>\n",
       "      <td>3</td>\n",
       "      <td>0</td>\n",
       "      <td>14</td>\n",
       "      <td>5</td>\n",
       "      <td>0</td>\n",
       "      <td>3</td>\n",
       "      <td>0</td>\n",
       "    </tr>\n",
       "    <tr>\n",
       "      <th>zhanson88</th>\n",
       "      <td>1</td>\n",
       "      <td>5</td>\n",
       "      <td>3</td>\n",
       "      <td>1</td>\n",
       "      <td>0</td>\n",
       "      <td>6</td>\n",
       "      <td>6</td>\n",
       "      <td>2</td>\n",
       "      <td>3</td>\n",
       "      <td>1</td>\n",
       "      <td>12</td>\n",
       "      <td>7</td>\n",
       "      <td>0</td>\n",
       "      <td>3</td>\n",
       "      <td>0</td>\n",
       "    </tr>\n",
       "    <tr>\n",
       "      <th>zookerman182</th>\n",
       "      <td>1</td>\n",
       "      <td>3</td>\n",
       "      <td>0</td>\n",
       "      <td>0</td>\n",
       "      <td>0</td>\n",
       "      <td>22</td>\n",
       "      <td>6</td>\n",
       "      <td>0</td>\n",
       "      <td>2</td>\n",
       "      <td>0</td>\n",
       "      <td>9</td>\n",
       "      <td>5</td>\n",
       "      <td>0</td>\n",
       "      <td>1</td>\n",
       "      <td>1</td>\n",
       "    </tr>\n",
       "    <tr>\n",
       "      <th>zoso1967</th>\n",
       "      <td>0</td>\n",
       "      <td>3</td>\n",
       "      <td>0</td>\n",
       "      <td>0</td>\n",
       "      <td>0</td>\n",
       "      <td>19</td>\n",
       "      <td>9</td>\n",
       "      <td>3</td>\n",
       "      <td>2</td>\n",
       "      <td>0</td>\n",
       "      <td>3</td>\n",
       "      <td>5</td>\n",
       "      <td>0</td>\n",
       "      <td>1</td>\n",
       "      <td>5</td>\n",
       "    </tr>\n",
       "    <tr>\n",
       "      <th>zotzot</th>\n",
       "      <td>1</td>\n",
       "      <td>4</td>\n",
       "      <td>0</td>\n",
       "      <td>1</td>\n",
       "      <td>0</td>\n",
       "      <td>18</td>\n",
       "      <td>11</td>\n",
       "      <td>1</td>\n",
       "      <td>0</td>\n",
       "      <td>1</td>\n",
       "      <td>7</td>\n",
       "      <td>2</td>\n",
       "      <td>0</td>\n",
       "      <td>4</td>\n",
       "      <td>0</td>\n",
       "    </tr>\n",
       "  </tbody>\n",
       "</table>\n",
       "<p>970 rows × 15 columns</p>\n",
       "</div>"
      ],
      "text/plain": [
       "category       Bocks  Brown Ales  Dark Ales  Dark Lagers  Hybrid Beers  \\\n",
       "user_name                                                                \n",
       "-Rick              0           2          0            2             0   \n",
       "1000lbgrizzly      0           5          0            1             0   \n",
       "1424IpA            0           0          1            0             0   \n",
       "2Xmd               0           2          1            1             0   \n",
       "2ellas             0           2          1            0             0   \n",
       "...              ...         ...        ...          ...           ...   \n",
       "zenithberwyn       1           1          0            3             0   \n",
       "zhanson88          1           5          3            1             0   \n",
       "zookerman182       1           3          0            0             0   \n",
       "zoso1967           0           3          0            0             0   \n",
       "zotzot             1           4          0            1             0   \n",
       "\n",
       "category       India Pale Ales  Pale Ales  Pale Lagers  Porters  \\\n",
       "user_name                                                         \n",
       "-Rick                       29          7            2        2   \n",
       "1000lbgrizzly                4          9            7        2   \n",
       "1424IpA                     21          3            1        1   \n",
       "2Xmd                        25          5            1        1   \n",
       "2ellas                      31          9            0        0   \n",
       "...                        ...        ...          ...      ...   \n",
       "zenithberwyn                 3          7           10        3   \n",
       "zhanson88                    6          6            2        3   \n",
       "zookerman182                22          6            0        2   \n",
       "zoso1967                    19          9            3        2   \n",
       "zotzot                      18         11            1        0   \n",
       "\n",
       "category       Specialty Beer  Stouts  Strong Ales  Weird Cocktail  \\\n",
       "user_name                                                            \n",
       "-Rick                       2       3            1               0   \n",
       "1000lbgrizzly               8       6            4               0   \n",
       "1424IpA                     1      12            4               0   \n",
       "2Xmd                        2       9            1               0   \n",
       "2ellas                      0       2            4               0   \n",
       "...                       ...     ...          ...             ...   \n",
       "zenithberwyn                0      14            5               0   \n",
       "zhanson88                   1      12            7               0   \n",
       "zookerman182                0       9            5               0   \n",
       "zoso1967                    0       3            5               0   \n",
       "zotzot                      1       7            2               0   \n",
       "\n",
       "category       Wheat Beers  Wild/Sour Beers  \n",
       "user_name                                    \n",
       "-Rick                    0                0  \n",
       "1000lbgrizzly            3                1  \n",
       "1424IpA                  1                5  \n",
       "2Xmd                     2                0  \n",
       "2ellas                   1                0  \n",
       "...                    ...              ...  \n",
       "zenithberwyn             3                0  \n",
       "zhanson88                3                0  \n",
       "zookerman182             1                1  \n",
       "zoso1967                 1                5  \n",
       "zotzot                   4                0  \n",
       "\n",
       "[970 rows x 15 columns]"
      ]
     },
     "execution_count": 244,
     "metadata": {},
     "output_type": "execute_result"
    }
   ],
   "source": [
    "# To do that, we check how many beers of different categories \n",
    "# a user rated in his first 50 ratings\n",
    "\n",
    "df_to_cluster = df_valid_ratings[df_valid_ratings[\"rating_number\"] < 50]\n",
    "user_to_cat_first = df_to_cluster.groupby([\"user_name\", \"category\"]).size()\n",
    "user_to_cat_first = user_to_cat_first.unstack(level=-1, fill_value = 0)\n",
    "user_to_cat_first"
   ]
  },
  {
   "cell_type": "code",
   "execution_count": 245,
   "metadata": {},
   "outputs": [
    {
     "name": "stdout",
     "output_type": "stream",
     "text": [
      "For n_clusters = 2 The average silhouette_score is : 0.25413325775018325\n",
      "For n_clusters = 3 The average silhouette_score is : 0.23938684221896325\n",
      "For n_clusters = 4 The average silhouette_score is : 0.21464242754530322\n",
      "For n_clusters = 5 The average silhouette_score is : 0.19260175262458518\n",
      "For n_clusters = 6 The average silhouette_score is : 0.1943307339741516\n",
      "For n_clusters = 7 The average silhouette_score is : 0.18504541213544645\n",
      "For n_clusters = 8 The average silhouette_score is : 0.16589581799014308\n",
      "For n_clusters = 9 The average silhouette_score is : 0.16619700227526854\n",
      "For n_clusters = 10 The average silhouette_score is : 0.15717962609474226\n",
      "For n_clusters = 11 The average silhouette_score is : 0.14767248541962297\n",
      "For n_clusters = 12 The average silhouette_score is : 0.14630224160775943\n",
      "For n_clusters = 13 The average silhouette_score is : 0.14313460716241858\n",
      "For n_clusters = 14 The average silhouette_score is : 0.1378898574188948\n",
      "For n_clusters = 15 The average silhouette_score is : 0.1385291108384775\n"
     ]
    },
    {
     "data": {
      "application/vnd.plotly.v1+json": {
       "config": {
        "plotlyServerURL": "https://plot.ly"
       },
       "data": [
        {
         "hovertemplate": "x=%{x}<br>y=%{y}<extra></extra>",
         "legendgroup": "",
         "line": {
          "color": "#636efa",
          "dash": "solid"
         },
         "marker": {
          "symbol": "circle"
         },
         "mode": "lines",
         "name": "",
         "orientation": "v",
         "showlegend": false,
         "type": "scatter",
         "x": [
          2,
          3,
          4,
          5,
          6,
          7,
          8,
          9,
          10,
          11,
          12,
          13,
          14,
          15
         ],
         "xaxis": "x",
         "y": [
          0.25413325775018325,
          0.23938684221896325,
          0.21464242754530322,
          0.19260175262458518,
          0.1943307339741516,
          0.18504541213544645,
          0.16589581799014308,
          0.16619700227526854,
          0.15717962609474226,
          0.14767248541962297,
          0.14630224160775943,
          0.14313460716241858,
          0.1378898574188948,
          0.1385291108384775
         ],
         "yaxis": "y"
        }
       ],
       "layout": {
        "legend": {
         "title": {
          "text": "Silhouette score"
         },
         "tracegroupgap": 0
        },
        "margin": {
         "t": 60
        },
        "template": {
         "data": {
          "bar": [
           {
            "error_x": {
             "color": "#2a3f5f"
            },
            "error_y": {
             "color": "#2a3f5f"
            },
            "marker": {
             "line": {
              "color": "#E5ECF6",
              "width": 0.5
             },
             "pattern": {
              "fillmode": "overlay",
              "size": 10,
              "solidity": 0.2
             }
            },
            "type": "bar"
           }
          ],
          "barpolar": [
           {
            "marker": {
             "line": {
              "color": "#E5ECF6",
              "width": 0.5
             },
             "pattern": {
              "fillmode": "overlay",
              "size": 10,
              "solidity": 0.2
             }
            },
            "type": "barpolar"
           }
          ],
          "carpet": [
           {
            "aaxis": {
             "endlinecolor": "#2a3f5f",
             "gridcolor": "white",
             "linecolor": "white",
             "minorgridcolor": "white",
             "startlinecolor": "#2a3f5f"
            },
            "baxis": {
             "endlinecolor": "#2a3f5f",
             "gridcolor": "white",
             "linecolor": "white",
             "minorgridcolor": "white",
             "startlinecolor": "#2a3f5f"
            },
            "type": "carpet"
           }
          ],
          "choropleth": [
           {
            "colorbar": {
             "outlinewidth": 0,
             "ticks": ""
            },
            "type": "choropleth"
           }
          ],
          "contour": [
           {
            "colorbar": {
             "outlinewidth": 0,
             "ticks": ""
            },
            "colorscale": [
             [
              0,
              "#0d0887"
             ],
             [
              0.1111111111111111,
              "#46039f"
             ],
             [
              0.2222222222222222,
              "#7201a8"
             ],
             [
              0.3333333333333333,
              "#9c179e"
             ],
             [
              0.4444444444444444,
              "#bd3786"
             ],
             [
              0.5555555555555556,
              "#d8576b"
             ],
             [
              0.6666666666666666,
              "#ed7953"
             ],
             [
              0.7777777777777778,
              "#fb9f3a"
             ],
             [
              0.8888888888888888,
              "#fdca26"
             ],
             [
              1,
              "#f0f921"
             ]
            ],
            "type": "contour"
           }
          ],
          "contourcarpet": [
           {
            "colorbar": {
             "outlinewidth": 0,
             "ticks": ""
            },
            "type": "contourcarpet"
           }
          ],
          "heatmap": [
           {
            "colorbar": {
             "outlinewidth": 0,
             "ticks": ""
            },
            "colorscale": [
             [
              0,
              "#0d0887"
             ],
             [
              0.1111111111111111,
              "#46039f"
             ],
             [
              0.2222222222222222,
              "#7201a8"
             ],
             [
              0.3333333333333333,
              "#9c179e"
             ],
             [
              0.4444444444444444,
              "#bd3786"
             ],
             [
              0.5555555555555556,
              "#d8576b"
             ],
             [
              0.6666666666666666,
              "#ed7953"
             ],
             [
              0.7777777777777778,
              "#fb9f3a"
             ],
             [
              0.8888888888888888,
              "#fdca26"
             ],
             [
              1,
              "#f0f921"
             ]
            ],
            "type": "heatmap"
           }
          ],
          "heatmapgl": [
           {
            "colorbar": {
             "outlinewidth": 0,
             "ticks": ""
            },
            "colorscale": [
             [
              0,
              "#0d0887"
             ],
             [
              0.1111111111111111,
              "#46039f"
             ],
             [
              0.2222222222222222,
              "#7201a8"
             ],
             [
              0.3333333333333333,
              "#9c179e"
             ],
             [
              0.4444444444444444,
              "#bd3786"
             ],
             [
              0.5555555555555556,
              "#d8576b"
             ],
             [
              0.6666666666666666,
              "#ed7953"
             ],
             [
              0.7777777777777778,
              "#fb9f3a"
             ],
             [
              0.8888888888888888,
              "#fdca26"
             ],
             [
              1,
              "#f0f921"
             ]
            ],
            "type": "heatmapgl"
           }
          ],
          "histogram": [
           {
            "marker": {
             "pattern": {
              "fillmode": "overlay",
              "size": 10,
              "solidity": 0.2
             }
            },
            "type": "histogram"
           }
          ],
          "histogram2d": [
           {
            "colorbar": {
             "outlinewidth": 0,
             "ticks": ""
            },
            "colorscale": [
             [
              0,
              "#0d0887"
             ],
             [
              0.1111111111111111,
              "#46039f"
             ],
             [
              0.2222222222222222,
              "#7201a8"
             ],
             [
              0.3333333333333333,
              "#9c179e"
             ],
             [
              0.4444444444444444,
              "#bd3786"
             ],
             [
              0.5555555555555556,
              "#d8576b"
             ],
             [
              0.6666666666666666,
              "#ed7953"
             ],
             [
              0.7777777777777778,
              "#fb9f3a"
             ],
             [
              0.8888888888888888,
              "#fdca26"
             ],
             [
              1,
              "#f0f921"
             ]
            ],
            "type": "histogram2d"
           }
          ],
          "histogram2dcontour": [
           {
            "colorbar": {
             "outlinewidth": 0,
             "ticks": ""
            },
            "colorscale": [
             [
              0,
              "#0d0887"
             ],
             [
              0.1111111111111111,
              "#46039f"
             ],
             [
              0.2222222222222222,
              "#7201a8"
             ],
             [
              0.3333333333333333,
              "#9c179e"
             ],
             [
              0.4444444444444444,
              "#bd3786"
             ],
             [
              0.5555555555555556,
              "#d8576b"
             ],
             [
              0.6666666666666666,
              "#ed7953"
             ],
             [
              0.7777777777777778,
              "#fb9f3a"
             ],
             [
              0.8888888888888888,
              "#fdca26"
             ],
             [
              1,
              "#f0f921"
             ]
            ],
            "type": "histogram2dcontour"
           }
          ],
          "mesh3d": [
           {
            "colorbar": {
             "outlinewidth": 0,
             "ticks": ""
            },
            "type": "mesh3d"
           }
          ],
          "parcoords": [
           {
            "line": {
             "colorbar": {
              "outlinewidth": 0,
              "ticks": ""
             }
            },
            "type": "parcoords"
           }
          ],
          "pie": [
           {
            "automargin": true,
            "type": "pie"
           }
          ],
          "scatter": [
           {
            "fillpattern": {
             "fillmode": "overlay",
             "size": 10,
             "solidity": 0.2
            },
            "type": "scatter"
           }
          ],
          "scatter3d": [
           {
            "line": {
             "colorbar": {
              "outlinewidth": 0,
              "ticks": ""
             }
            },
            "marker": {
             "colorbar": {
              "outlinewidth": 0,
              "ticks": ""
             }
            },
            "type": "scatter3d"
           }
          ],
          "scattercarpet": [
           {
            "marker": {
             "colorbar": {
              "outlinewidth": 0,
              "ticks": ""
             }
            },
            "type": "scattercarpet"
           }
          ],
          "scattergeo": [
           {
            "marker": {
             "colorbar": {
              "outlinewidth": 0,
              "ticks": ""
             }
            },
            "type": "scattergeo"
           }
          ],
          "scattergl": [
           {
            "marker": {
             "colorbar": {
              "outlinewidth": 0,
              "ticks": ""
             }
            },
            "type": "scattergl"
           }
          ],
          "scattermapbox": [
           {
            "marker": {
             "colorbar": {
              "outlinewidth": 0,
              "ticks": ""
             }
            },
            "type": "scattermapbox"
           }
          ],
          "scatterpolar": [
           {
            "marker": {
             "colorbar": {
              "outlinewidth": 0,
              "ticks": ""
             }
            },
            "type": "scatterpolar"
           }
          ],
          "scatterpolargl": [
           {
            "marker": {
             "colorbar": {
              "outlinewidth": 0,
              "ticks": ""
             }
            },
            "type": "scatterpolargl"
           }
          ],
          "scatterternary": [
           {
            "marker": {
             "colorbar": {
              "outlinewidth": 0,
              "ticks": ""
             }
            },
            "type": "scatterternary"
           }
          ],
          "surface": [
           {
            "colorbar": {
             "outlinewidth": 0,
             "ticks": ""
            },
            "colorscale": [
             [
              0,
              "#0d0887"
             ],
             [
              0.1111111111111111,
              "#46039f"
             ],
             [
              0.2222222222222222,
              "#7201a8"
             ],
             [
              0.3333333333333333,
              "#9c179e"
             ],
             [
              0.4444444444444444,
              "#bd3786"
             ],
             [
              0.5555555555555556,
              "#d8576b"
             ],
             [
              0.6666666666666666,
              "#ed7953"
             ],
             [
              0.7777777777777778,
              "#fb9f3a"
             ],
             [
              0.8888888888888888,
              "#fdca26"
             ],
             [
              1,
              "#f0f921"
             ]
            ],
            "type": "surface"
           }
          ],
          "table": [
           {
            "cells": {
             "fill": {
              "color": "#EBF0F8"
             },
             "line": {
              "color": "white"
             }
            },
            "header": {
             "fill": {
              "color": "#C8D4E3"
             },
             "line": {
              "color": "white"
             }
            },
            "type": "table"
           }
          ]
         },
         "layout": {
          "annotationdefaults": {
           "arrowcolor": "#2a3f5f",
           "arrowhead": 0,
           "arrowwidth": 1
          },
          "autotypenumbers": "strict",
          "coloraxis": {
           "colorbar": {
            "outlinewidth": 0,
            "ticks": ""
           }
          },
          "colorscale": {
           "diverging": [
            [
             0,
             "#8e0152"
            ],
            [
             0.1,
             "#c51b7d"
            ],
            [
             0.2,
             "#de77ae"
            ],
            [
             0.3,
             "#f1b6da"
            ],
            [
             0.4,
             "#fde0ef"
            ],
            [
             0.5,
             "#f7f7f7"
            ],
            [
             0.6,
             "#e6f5d0"
            ],
            [
             0.7,
             "#b8e186"
            ],
            [
             0.8,
             "#7fbc41"
            ],
            [
             0.9,
             "#4d9221"
            ],
            [
             1,
             "#276419"
            ]
           ],
           "sequential": [
            [
             0,
             "#0d0887"
            ],
            [
             0.1111111111111111,
             "#46039f"
            ],
            [
             0.2222222222222222,
             "#7201a8"
            ],
            [
             0.3333333333333333,
             "#9c179e"
            ],
            [
             0.4444444444444444,
             "#bd3786"
            ],
            [
             0.5555555555555556,
             "#d8576b"
            ],
            [
             0.6666666666666666,
             "#ed7953"
            ],
            [
             0.7777777777777778,
             "#fb9f3a"
            ],
            [
             0.8888888888888888,
             "#fdca26"
            ],
            [
             1,
             "#f0f921"
            ]
           ],
           "sequentialminus": [
            [
             0,
             "#0d0887"
            ],
            [
             0.1111111111111111,
             "#46039f"
            ],
            [
             0.2222222222222222,
             "#7201a8"
            ],
            [
             0.3333333333333333,
             "#9c179e"
            ],
            [
             0.4444444444444444,
             "#bd3786"
            ],
            [
             0.5555555555555556,
             "#d8576b"
            ],
            [
             0.6666666666666666,
             "#ed7953"
            ],
            [
             0.7777777777777778,
             "#fb9f3a"
            ],
            [
             0.8888888888888888,
             "#fdca26"
            ],
            [
             1,
             "#f0f921"
            ]
           ]
          },
          "colorway": [
           "#636efa",
           "#EF553B",
           "#00cc96",
           "#ab63fa",
           "#FFA15A",
           "#19d3f3",
           "#FF6692",
           "#B6E880",
           "#FF97FF",
           "#FECB52"
          ],
          "font": {
           "color": "#2a3f5f"
          },
          "geo": {
           "bgcolor": "white",
           "lakecolor": "white",
           "landcolor": "#E5ECF6",
           "showlakes": true,
           "showland": true,
           "subunitcolor": "white"
          },
          "hoverlabel": {
           "align": "left"
          },
          "hovermode": "closest",
          "mapbox": {
           "style": "light"
          },
          "paper_bgcolor": "white",
          "plot_bgcolor": "#E5ECF6",
          "polar": {
           "angularaxis": {
            "gridcolor": "white",
            "linecolor": "white",
            "ticks": ""
           },
           "bgcolor": "#E5ECF6",
           "radialaxis": {
            "gridcolor": "white",
            "linecolor": "white",
            "ticks": ""
           }
          },
          "scene": {
           "xaxis": {
            "backgroundcolor": "#E5ECF6",
            "gridcolor": "white",
            "gridwidth": 2,
            "linecolor": "white",
            "showbackground": true,
            "ticks": "",
            "zerolinecolor": "white"
           },
           "yaxis": {
            "backgroundcolor": "#E5ECF6",
            "gridcolor": "white",
            "gridwidth": 2,
            "linecolor": "white",
            "showbackground": true,
            "ticks": "",
            "zerolinecolor": "white"
           },
           "zaxis": {
            "backgroundcolor": "#E5ECF6",
            "gridcolor": "white",
            "gridwidth": 2,
            "linecolor": "white",
            "showbackground": true,
            "ticks": "",
            "zerolinecolor": "white"
           }
          },
          "shapedefaults": {
           "line": {
            "color": "#2a3f5f"
           }
          },
          "ternary": {
           "aaxis": {
            "gridcolor": "white",
            "linecolor": "white",
            "ticks": ""
           },
           "baxis": {
            "gridcolor": "white",
            "linecolor": "white",
            "ticks": ""
           },
           "bgcolor": "#E5ECF6",
           "caxis": {
            "gridcolor": "white",
            "linecolor": "white",
            "ticks": ""
           }
          },
          "title": {
           "x": 0.05
          },
          "xaxis": {
           "automargin": true,
           "gridcolor": "white",
           "linecolor": "white",
           "ticks": "",
           "title": {
            "standoff": 15
           },
           "zerolinecolor": "white",
           "zerolinewidth": 2
          },
          "yaxis": {
           "automargin": true,
           "gridcolor": "white",
           "linecolor": "white",
           "ticks": "",
           "title": {
            "standoff": 15
           },
           "zerolinecolor": "white",
           "zerolinewidth": 2
          }
         }
        },
        "title": {
         "text": "Silhouette score"
        },
        "xaxis": {
         "anchor": "y",
         "domain": [
          0,
          1
         ],
         "title": {
          "text": "Number of clusters"
         }
        },
        "yaxis": {
         "anchor": "x",
         "domain": [
          0,
          1
         ],
         "title": {
          "text": "Silhouette score"
         }
        }
       }
      }
     },
     "metadata": {},
     "output_type": "display_data"
    }
   ],
   "source": [
    "#Here we perform a silouhette score analysis to select a good number of cluster.\n",
    "X = user_to_cat_first.values\n",
    "y = 0\n",
    "\n",
    "range_n_clusters = range(2, 15 + 1)\n",
    "silhouette_score_list=[]\n",
    "for n_clusters in range_n_clusters:\n",
    "    clusterer = KMeans(n_clusters=n_clusters)\n",
    "    clusterer.fit(X)\n",
    "    cluster_labels = clusterer.labels_\n",
    "\n",
    "    # The silhouette_score gives the average value for all the samples.\n",
    "    # This gives a perspective into the density and separation of the formed\n",
    "    # clusters\n",
    "    silhouette_avg = silhouette_score(X, cluster_labels)\n",
    "    silhouette_score_list.append(silhouette_avg)\n",
    "    print(\n",
    "        \"For n_clusters =\",\n",
    "        n_clusters,\n",
    "        \"The average silhouette_score is :\",\n",
    "        silhouette_avg,\n",
    "    )\n",
    "fig=px.line(x=range_n_clusters,y=silhouette_score_list)\n",
    "fig.update_layout(\n",
    "    title=\"Silhouette score\",\n",
    "    xaxis_title=\"Number of clusters\",\n",
    "    yaxis_title=\"Silhouette score\",\n",
    "    legend_title=\"Silhouette score\",)\n",
    "fig.show()\n"
   ]
  },
  {
   "cell_type": "code",
   "execution_count": 246,
   "metadata": {},
   "outputs": [
    {
     "data": {
      "text/plain": [
       "Text(0.5, 1.0, 'Elbow curve')"
      ]
     },
     "execution_count": 246,
     "metadata": {},
     "output_type": "execute_result"
    },
    {
     "data": {
      "image/png": "[encoded data removed]",
      "text/plain": [
       "<Figure size 1500x500 with 1 Axes>"
      ]
     },
     "metadata": {},
     "output_type": "display_data"
    }
   ],
   "source": [
    "#Here we perform an elbow curve analysis to select a good number of cluster.\n",
    "X = user_to_cat_first.values\n",
    "distorsions = []\n",
    "for k in range(2, 15):\n",
    "    kmeans = KMeans(n_clusters=k)\n",
    "    kmeans.fit(X)\n",
    "    distorsions.append(kmeans.inertia_)\n",
    "\n",
    "fig = plt.figure(figsize=(15, 5))\n",
    "plt.plot(range(2, 15), distorsions)\n",
    "plt.grid(True)\n",
    "plt.title('Elbow curve')"
   ]
  },
  {
   "cell_type": "code",
   "execution_count": 247,
   "metadata": {},
   "outputs": [],
   "source": [
    "#From these analysis, we conclude that 4 or 5 clusters were a good number. There is a small elbow at 4, and the \n",
    "# silouette score of 4 and 5 are quite high. We will see what the clusters look like to make our final choice."
   ]
  },
  {
   "cell_type": "code",
   "execution_count": 248,
   "metadata": {},
   "outputs": [],
   "source": [
    "np.random.seed(10) #this is to ensure that we have consistency in the coloring/labels of the clustering!\n",
    "\n",
    "user_clustering_5 = 0\n",
    "user_clustering_4 = KMeans(4).fit(user_to_cat_first.values)\n",
    "user_clustering_5 = KMeans(5).fit(user_to_cat_first.values)"
   ]
  },
  {
   "cell_type": "code",
   "execution_count": 249,
   "metadata": {},
   "outputs": [
    {
     "name": "stdout",
     "output_type": "stream",
     "text": [
      "Number of users by cluster (k = 4)\n",
      "Counter({1: 394, 0: 239, 3: 196, 2: 141})\n",
      "Number of users by cluster (k = 5)\n",
      "Counter({2: 293, 4: 284, 3: 158, 0: 137, 1: 98})\n"
     ]
    }
   ],
   "source": [
    "count_4 = collections.Counter(user_clustering_4.labels_)\n",
    "print('Number of users by cluster (k = 4)')\n",
    "print(count_4)\n",
    "count_5 = collections.Counter(user_clustering_5.labels_)\n",
    "print('Number of users by cluster (k = 5)')\n",
    "print(count_5)"
   ]
  },
  {
   "cell_type": "code",
   "execution_count": 250,
   "metadata": {},
   "outputs": [],
   "source": [
    "#Prepare 4 clusters\n",
    "df_cluster_beer_4 = pd.DataFrame(user_clustering_4.cluster_centers_.T)\n",
    "df_cluster_beer_4.index = user_to_cat_first.columns\n",
    "df_cluster_beer_4[\"category\"] = df_cluster_beer_4.index\n",
    "df_cluster_beer_4 = pd.melt(df_cluster_beer_4, id_vars=[\"category\"], value_vars=[0,1,2,3])\n",
    "df_cluster_beer_4.columns = [\"category\", \"cluster\", \"Number of beer\"]"
   ]
  },
  {
   "cell_type": "code",
   "execution_count": 251,
   "metadata": {},
   "outputs": [],
   "source": [
    "#Prepare 5 clusters\n",
    "df_cluster_beer_5 = pd.DataFrame(user_clustering_5.cluster_centers_.T)\n",
    "df_cluster_beer_5.index = user_to_cat_first.columns\n",
    "df_cluster_beer_5[\"category\"] = df_cluster_beer_5.index\n",
    "df_cluster_beer_5 = pd.melt(df_cluster_beer_5, id_vars=[\"category\"], value_vars=[0,1,2,3,4])\n",
    "df_cluster_beer_5.columns = [\"category\", \"cluster\", \"Number of beer\"]"
   ]
  },
  {
   "cell_type": "code",
   "execution_count": 252,
   "metadata": {},
   "outputs": [
    {
     "data": {
      "application/vnd.plotly.v1+json": {
       "config": {
        "plotlyServerURL": "https://plot.ly"
       },
       "data": [
        {
         "hovertemplate": "cluster=0<br>category=%{x}<br>Number of beer=%{y}<extra></extra>",
         "legendgroup": "0",
         "line": {
          "color": "#636efa",
          "dash": "solid"
         },
         "marker": {
          "symbol": "circle"
         },
         "mode": "lines",
         "name": "0",
         "orientation": "v",
         "showlegend": true,
         "type": "scatter",
         "x": [
          "Bocks",
          "Brown Ales",
          "Dark Ales",
          "Dark Lagers",
          "Hybrid Beers",
          "India Pale Ales",
          "Pale Ales",
          "Pale Lagers",
          "Porters",
          "Specialty Beer",
          "Stouts",
          "Strong Ales",
          "Weird Cocktail",
          "Wheat Beers",
          "Wild/Sour Beers"
         ],
         "xaxis": "x",
         "y": [
          0.5983263598326367,
          1.7322175732217566,
          0.6150627615062763,
          0.5481171548117162,
          0.2343096234309624,
          22.83263598326361,
          7.468619246861924,
          2.012552301255228,
          1.351464435146444,
          1.2217573221757325,
          4.556485355648537,
          4.07531380753138,
          0.012552301255230047,
          1.8786610878661096,
          0.8619246861924685
         ],
         "yaxis": "y"
        },
        {
         "hovertemplate": "cluster=1<br>category=%{x}<br>Number of beer=%{y}<extra></extra>",
         "legendgroup": "1",
         "line": {
          "color": "#EF553B",
          "dash": "solid"
         },
         "marker": {
          "symbol": "circle"
         },
         "mode": "lines",
         "name": "1",
         "orientation": "v",
         "showlegend": true,
         "type": "scatter",
         "x": [
          "Bocks",
          "Brown Ales",
          "Dark Ales",
          "Dark Lagers",
          "Hybrid Beers",
          "India Pale Ales",
          "Pale Ales",
          "Pale Lagers",
          "Porters",
          "Specialty Beer",
          "Stouts",
          "Strong Ales",
          "Weird Cocktail",
          "Wheat Beers",
          "Wild/Sour Beers"
         ],
         "xaxis": "x",
         "y": [
          1.659898477157361,
          3.281725888324872,
          1.6548223350253808,
          1.530456852791878,
          0.33756345177664976,
          8.192893401015231,
          9.408629441624365,
          3.868020304568528,
          2.296954314720812,
          1.7436548223350263,
          5.119289340101523,
          6.131979695431471,
          0.0634517766497462,
          3.619289340101523,
          1.091370558375634
         ],
         "yaxis": "y"
        },
        {
         "hovertemplate": "cluster=2<br>category=%{x}<br>Number of beer=%{y}<extra></extra>",
         "legendgroup": "2",
         "line": {
          "color": "#00cc96",
          "dash": "solid"
         },
         "marker": {
          "symbol": "circle"
         },
         "mode": "lines",
         "name": "2",
         "orientation": "v",
         "showlegend": true,
         "type": "scatter",
         "x": [
          "Bocks",
          "Brown Ales",
          "Dark Ales",
          "Dark Lagers",
          "Hybrid Beers",
          "India Pale Ales",
          "Pale Ales",
          "Pale Lagers",
          "Porters",
          "Specialty Beer",
          "Stouts",
          "Strong Ales",
          "Weird Cocktail",
          "Wheat Beers",
          "Wild/Sour Beers"
         ],
         "xaxis": "x",
         "y": [
          1.7943262411347523,
          2.723404255319149,
          1.425531914893617,
          3.3475177304964547,
          0.3829787234042553,
          3.297872340425533,
          7.780141843971631,
          13.62411347517731,
          1.5602836879432624,
          1.4184397163120568,
          3.510638297872343,
          3.950354609929078,
          0.15602836879432622,
          4.74468085106383,
          0.28368794326241065
         ],
         "yaxis": "y"
        },
        {
         "hovertemplate": "cluster=3<br>category=%{x}<br>Number of beer=%{y}<extra></extra>",
         "legendgroup": "3",
         "line": {
          "color": "#ab63fa",
          "dash": "solid"
         },
         "marker": {
          "symbol": "circle"
         },
         "mode": "lines",
         "name": "3",
         "orientation": "v",
         "showlegend": true,
         "type": "scatter",
         "x": [
          "Bocks",
          "Brown Ales",
          "Dark Ales",
          "Dark Lagers",
          "Hybrid Beers",
          "India Pale Ales",
          "Pale Ales",
          "Pale Lagers",
          "Porters",
          "Specialty Beer",
          "Stouts",
          "Strong Ales",
          "Weird Cocktail",
          "Wheat Beers",
          "Wild/Sour Beers"
         ],
         "xaxis": "x",
         "y": [
          0.8163265306122454,
          2.5051020408163267,
          0.959183673469388,
          0.6326530612244905,
          0.2806122448979592,
          9.872448979591834,
          4.75,
          1.295918367346938,
          3.0969387755102042,
          1.3418367346938775,
          15.147959183673475,
          6.1683673469387745,
          0.07653061224489796,
          1.5510204081632657,
          1.5051020408163256
         ],
         "yaxis": "y"
        }
       ],
       "layout": {
        "legend": {
         "title": {
          "text": "cluster"
         },
         "tracegroupgap": 0
        },
        "template": {
         "data": {
          "bar": [
           {
            "error_x": {
             "color": "#2a3f5f"
            },
            "error_y": {
             "color": "#2a3f5f"
            },
            "marker": {
             "line": {
              "color": "#E5ECF6",
              "width": 0.5
             },
             "pattern": {
              "fillmode": "overlay",
              "size": 10,
              "solidity": 0.2
             }
            },
            "type": "bar"
           }
          ],
          "barpolar": [
           {
            "marker": {
             "line": {
              "color": "#E5ECF6",
              "width": 0.5
             },
             "pattern": {
              "fillmode": "overlay",
              "size": 10,
              "solidity": 0.2
             }
            },
            "type": "barpolar"
           }
          ],
          "carpet": [
           {
            "aaxis": {
             "endlinecolor": "#2a3f5f",
             "gridcolor": "white",
             "linecolor": "white",
             "minorgridcolor": "white",
             "startlinecolor": "#2a3f5f"
            },
            "baxis": {
             "endlinecolor": "#2a3f5f",
             "gridcolor": "white",
             "linecolor": "white",
             "minorgridcolor": "white",
             "startlinecolor": "#2a3f5f"
            },
            "type": "carpet"
           }
          ],
          "choropleth": [
           {
            "colorbar": {
             "outlinewidth": 0,
             "ticks": ""
            },
            "type": "choropleth"
           }
          ],
          "contour": [
           {
            "colorbar": {
             "outlinewidth": 0,
             "ticks": ""
            },
            "colorscale": [
             [
              0,
              "#0d0887"
             ],
             [
              0.1111111111111111,
              "#46039f"
             ],
             [
              0.2222222222222222,
              "#7201a8"
             ],
             [
              0.3333333333333333,
              "#9c179e"
             ],
             [
              0.4444444444444444,
              "#bd3786"
             ],
             [
              0.5555555555555556,
              "#d8576b"
             ],
             [
              0.6666666666666666,
              "#ed7953"
             ],
             [
              0.7777777777777778,
              "#fb9f3a"
             ],
             [
              0.8888888888888888,
              "#fdca26"
             ],
             [
              1,
              "#f0f921"
             ]
            ],
            "type": "contour"
           }
          ],
          "contourcarpet": [
           {
            "colorbar": {
             "outlinewidth": 0,
             "ticks": ""
            },
            "type": "contourcarpet"
           }
          ],
          "heatmap": [
           {
            "colorbar": {
             "outlinewidth": 0,
             "ticks": ""
            },
            "colorscale": [
             [
              0,
              "#0d0887"
             ],
             [
              0.1111111111111111,
              "#46039f"
             ],
             [
              0.2222222222222222,
              "#7201a8"
             ],
             [
              0.3333333333333333,
              "#9c179e"
             ],
             [
              0.4444444444444444,
              "#bd3786"
             ],
             [
              0.5555555555555556,
              "#d8576b"
             ],
             [
              0.6666666666666666,
              "#ed7953"
             ],
             [
              0.7777777777777778,
              "#fb9f3a"
             ],
             [
              0.8888888888888888,
              "#fdca26"
             ],
             [
              1,
              "#f0f921"
             ]
            ],
            "type": "heatmap"
           }
          ],
          "heatmapgl": [
           {
            "colorbar": {
             "outlinewidth": 0,
             "ticks": ""
            },
            "colorscale": [
             [
              0,
              "#0d0887"
             ],
             [
              0.1111111111111111,
              "#46039f"
             ],
             [
              0.2222222222222222,
              "#7201a8"
             ],
             [
              0.3333333333333333,
              "#9c179e"
             ],
             [
              0.4444444444444444,
              "#bd3786"
             ],
             [
              0.5555555555555556,
              "#d8576b"
             ],
             [
              0.6666666666666666,
              "#ed7953"
             ],
             [
              0.7777777777777778,
              "#fb9f3a"
             ],
             [
              0.8888888888888888,
              "#fdca26"
             ],
             [
              1,
              "#f0f921"
             ]
            ],
            "type": "heatmapgl"
           }
          ],
          "histogram": [
           {
            "marker": {
             "pattern": {
              "fillmode": "overlay",
              "size": 10,
              "solidity": 0.2
             }
            },
            "type": "histogram"
           }
          ],
          "histogram2d": [
           {
            "colorbar": {
             "outlinewidth": 0,
             "ticks": ""
            },
            "colorscale": [
             [
              0,
              "#0d0887"
             ],
             [
              0.1111111111111111,
              "#46039f"
             ],
             [
              0.2222222222222222,
              "#7201a8"
             ],
             [
              0.3333333333333333,
              "#9c179e"
             ],
             [
              0.4444444444444444,
              "#bd3786"
             ],
             [
              0.5555555555555556,
              "#d8576b"
             ],
             [
              0.6666666666666666,
              "#ed7953"
             ],
             [
              0.7777777777777778,
              "#fb9f3a"
             ],
             [
              0.8888888888888888,
              "#fdca26"
             ],
             [
              1,
              "#f0f921"
             ]
            ],
            "type": "histogram2d"
           }
          ],
          "histogram2dcontour": [
           {
            "colorbar": {
             "outlinewidth": 0,
             "ticks": ""
            },
            "colorscale": [
             [
              0,
              "#0d0887"
             ],
             [
              0.1111111111111111,
              "#46039f"
             ],
             [
              0.2222222222222222,
              "#7201a8"
             ],
             [
              0.3333333333333333,
              "#9c179e"
             ],
             [
              0.4444444444444444,
              "#bd3786"
             ],
             [
              0.5555555555555556,
              "#d8576b"
             ],
             [
              0.6666666666666666,
              "#ed7953"
             ],
             [
              0.7777777777777778,
              "#fb9f3a"
             ],
             [
              0.8888888888888888,
              "#fdca26"
             ],
             [
              1,
              "#f0f921"
             ]
            ],
            "type": "histogram2dcontour"
           }
          ],
          "mesh3d": [
           {
            "colorbar": {
             "outlinewidth": 0,
             "ticks": ""
            },
            "type": "mesh3d"
           }
          ],
          "parcoords": [
           {
            "line": {
             "colorbar": {
              "outlinewidth": 0,
              "ticks": ""
             }
            },
            "type": "parcoords"
           }
          ],
          "pie": [
           {
            "automargin": true,
            "type": "pie"
           }
          ],
          "scatter": [
           {
            "fillpattern": {
             "fillmode": "overlay",
             "size": 10,
             "solidity": 0.2
            },
            "type": "scatter"
           }
          ],
          "scatter3d": [
           {
            "line": {
             "colorbar": {
              "outlinewidth": 0,
              "ticks": ""
             }
            },
            "marker": {
             "colorbar": {
              "outlinewidth": 0,
              "ticks": ""
             }
            },
            "type": "scatter3d"
           }
          ],
          "scattercarpet": [
           {
            "marker": {
             "colorbar": {
              "outlinewidth": 0,
              "ticks": ""
             }
            },
            "type": "scattercarpet"
           }
          ],
          "scattergeo": [
           {
            "marker": {
             "colorbar": {
              "outlinewidth": 0,
              "ticks": ""
             }
            },
            "type": "scattergeo"
           }
          ],
          "scattergl": [
           {
            "marker": {
             "colorbar": {
              "outlinewidth": 0,
              "ticks": ""
             }
            },
            "type": "scattergl"
           }
          ],
          "scattermapbox": [
           {
            "marker": {
             "colorbar": {
              "outlinewidth": 0,
              "ticks": ""
             }
            },
            "type": "scattermapbox"
           }
          ],
          "scatterpolar": [
           {
            "marker": {
             "colorbar": {
              "outlinewidth": 0,
              "ticks": ""
             }
            },
            "type": "scatterpolar"
           }
          ],
          "scatterpolargl": [
           {
            "marker": {
             "colorbar": {
              "outlinewidth": 0,
              "ticks": ""
             }
            },
            "type": "scatterpolargl"
           }
          ],
          "scatterternary": [
           {
            "marker": {
             "colorbar": {
              "outlinewidth": 0,
              "ticks": ""
             }
            },
            "type": "scatterternary"
           }
          ],
          "surface": [
           {
            "colorbar": {
             "outlinewidth": 0,
             "ticks": ""
            },
            "colorscale": [
             [
              0,
              "#0d0887"
             ],
             [
              0.1111111111111111,
              "#46039f"
             ],
             [
              0.2222222222222222,
              "#7201a8"
             ],
             [
              0.3333333333333333,
              "#9c179e"
             ],
             [
              0.4444444444444444,
              "#bd3786"
             ],
             [
              0.5555555555555556,
              "#d8576b"
             ],
             [
              0.6666666666666666,
              "#ed7953"
             ],
             [
              0.7777777777777778,
              "#fb9f3a"
             ],
             [
              0.8888888888888888,
              "#fdca26"
             ],
             [
              1,
              "#f0f921"
             ]
            ],
            "type": "surface"
           }
          ],
          "table": [
           {
            "cells": {
             "fill": {
              "color": "#EBF0F8"
             },
             "line": {
              "color": "white"
             }
            },
            "header": {
             "fill": {
              "color": "#C8D4E3"
             },
             "line": {
              "color": "white"
             }
            },
            "type": "table"
           }
          ]
         },
         "layout": {
          "annotationdefaults": {
           "arrowcolor": "#2a3f5f",
           "arrowhead": 0,
           "arrowwidth": 1
          },
          "autotypenumbers": "strict",
          "coloraxis": {
           "colorbar": {
            "outlinewidth": 0,
            "ticks": ""
           }
          },
          "colorscale": {
           "diverging": [
            [
             0,
             "#8e0152"
            ],
            [
             0.1,
             "#c51b7d"
            ],
            [
             0.2,
             "#de77ae"
            ],
            [
             0.3,
             "#f1b6da"
            ],
            [
             0.4,
             "#fde0ef"
            ],
            [
             0.5,
             "#f7f7f7"
            ],
            [
             0.6,
             "#e6f5d0"
            ],
            [
             0.7,
             "#b8e186"
            ],
            [
             0.8,
             "#7fbc41"
            ],
            [
             0.9,
             "#4d9221"
            ],
            [
             1,
             "#276419"
            ]
           ],
           "sequential": [
            [
             0,
             "#0d0887"
            ],
            [
             0.1111111111111111,
             "#46039f"
            ],
            [
             0.2222222222222222,
             "#7201a8"
            ],
            [
             0.3333333333333333,
             "#9c179e"
            ],
            [
             0.4444444444444444,
             "#bd3786"
            ],
            [
             0.5555555555555556,
             "#d8576b"
            ],
            [
             0.6666666666666666,
             "#ed7953"
            ],
            [
             0.7777777777777778,
             "#fb9f3a"
            ],
            [
             0.8888888888888888,
             "#fdca26"
            ],
            [
             1,
             "#f0f921"
            ]
           ],
           "sequentialminus": [
            [
             0,
             "#0d0887"
            ],
            [
             0.1111111111111111,
             "#46039f"
            ],
            [
             0.2222222222222222,
             "#7201a8"
            ],
            [
             0.3333333333333333,
             "#9c179e"
            ],
            [
             0.4444444444444444,
             "#bd3786"
            ],
            [
             0.5555555555555556,
             "#d8576b"
            ],
            [
             0.6666666666666666,
             "#ed7953"
            ],
            [
             0.7777777777777778,
             "#fb9f3a"
            ],
            [
             0.8888888888888888,
             "#fdca26"
            ],
            [
             1,
             "#f0f921"
            ]
           ]
          },
          "colorway": [
           "#636efa",
           "#EF553B",
           "#00cc96",
           "#ab63fa",
           "#FFA15A",
           "#19d3f3",
           "#FF6692",
           "#B6E880",
           "#FF97FF",
           "#FECB52"
          ],
          "font": {
           "color": "#2a3f5f"
          },
          "geo": {
           "bgcolor": "white",
           "lakecolor": "white",
           "landcolor": "#E5ECF6",
           "showlakes": true,
           "showland": true,
           "subunitcolor": "white"
          },
          "hoverlabel": {
           "align": "left"
          },
          "hovermode": "closest",
          "mapbox": {
           "style": "light"
          },
          "paper_bgcolor": "white",
          "plot_bgcolor": "#E5ECF6",
          "polar": {
           "angularaxis": {
            "gridcolor": "white",
            "linecolor": "white",
            "ticks": ""
           },
           "bgcolor": "#E5ECF6",
           "radialaxis": {
            "gridcolor": "white",
            "linecolor": "white",
            "ticks": ""
           }
          },
          "scene": {
           "xaxis": {
            "backgroundcolor": "#E5ECF6",
            "gridcolor": "white",
            "gridwidth": 2,
            "linecolor": "white",
            "showbackground": true,
            "ticks": "",
            "zerolinecolor": "white"
           },
           "yaxis": {
            "backgroundcolor": "#E5ECF6",
            "gridcolor": "white",
            "gridwidth": 2,
            "linecolor": "white",
            "showbackground": true,
            "ticks": "",
            "zerolinecolor": "white"
           },
           "zaxis": {
            "backgroundcolor": "#E5ECF6",
            "gridcolor": "white",
            "gridwidth": 2,
            "linecolor": "white",
            "showbackground": true,
            "ticks": "",
            "zerolinecolor": "white"
           }
          },
          "shapedefaults": {
           "line": {
            "color": "#2a3f5f"
           }
          },
          "ternary": {
           "aaxis": {
            "gridcolor": "white",
            "linecolor": "white",
            "ticks": ""
           },
           "baxis": {
            "gridcolor": "white",
            "linecolor": "white",
            "ticks": ""
           },
           "bgcolor": "#E5ECF6",
           "caxis": {
            "gridcolor": "white",
            "linecolor": "white",
            "ticks": ""
           }
          },
          "title": {
           "x": 0.05
          },
          "xaxis": {
           "automargin": true,
           "gridcolor": "white",
           "linecolor": "white",
           "ticks": "",
           "title": {
            "standoff": 15
           },
           "zerolinecolor": "white",
           "zerolinewidth": 2
          },
          "yaxis": {
           "automargin": true,
           "gridcolor": "white",
           "linecolor": "white",
           "ticks": "",
           "title": {
            "standoff": 15
           },
           "zerolinecolor": "white",
           "zerolinewidth": 2
          }
         }
        },
        "title": {
         "text": "Centroids obtained with Kmeans (k=4) of the first 50 ratings of each user"
        },
        "xaxis": {
         "anchor": "y",
         "domain": [
          0,
          1
         ],
         "title": {
          "text": "category"
         }
        },
        "yaxis": {
         "anchor": "x",
         "domain": [
          0,
          1
         ],
         "title": {
          "text": "Number of beer"
         }
        }
       }
      }
     },
     "metadata": {},
     "output_type": "display_data"
    }
   ],
   "source": [
    "#Display 4 clusters\n",
    "fig = px.line(df_cluster_beer_4, x=\"category\", y=\"Number of beer\", color=\"cluster\",\n",
    "              title=\"Centroids obtained with Kmeans (k=4) of the first 50 ratings of each user\")\n",
    "fig.show()"
   ]
  },
  {
   "cell_type": "code",
   "execution_count": 253,
   "metadata": {},
   "outputs": [
    {
     "data": {
      "application/vnd.plotly.v1+json": {
       "config": {
        "plotlyServerURL": "https://plot.ly"
       },
       "data": [
        {
         "hovertemplate": "cluster=0<br>category=%{x}<br>Number of beer=%{y}<extra></extra>",
         "legendgroup": "0",
         "line": {
          "color": "#636efa",
          "dash": "solid"
         },
         "marker": {
          "symbol": "circle"
         },
         "mode": "lines",
         "name": "0",
         "orientation": "v",
         "showlegend": true,
         "type": "scatter",
         "x": [
          "Bocks",
          "Brown Ales",
          "Dark Ales",
          "Dark Lagers",
          "Hybrid Beers",
          "India Pale Ales",
          "Pale Ales",
          "Pale Lagers",
          "Porters",
          "Specialty Beer",
          "Stouts",
          "Strong Ales",
          "Weird Cocktail",
          "Wheat Beers",
          "Wild/Sour Beers"
         ],
         "xaxis": "x",
         "y": [
          0.3722627737226284,
          1.2919708029197075,
          0.43065693430657004,
          0.48905109489051135,
          0.197080291970803,
          26.40145985401461,
          7.21897810218978,
          1.7007299270072984,
          1.058394160583942,
          0.9270072992700733,
          4.0875912408759145,
          3.3941605839416047,
          0.01459854014598539,
          1.576642335766424,
          0.8394160583941606
         ],
         "yaxis": "y"
        },
        {
         "hovertemplate": "cluster=1<br>category=%{x}<br>Number of beer=%{y}<extra></extra>",
         "legendgroup": "1",
         "line": {
          "color": "#EF553B",
          "dash": "solid"
         },
         "marker": {
          "symbol": "circle"
         },
         "mode": "lines",
         "name": "1",
         "orientation": "v",
         "showlegend": true,
         "type": "scatter",
         "x": [
          "Bocks",
          "Brown Ales",
          "Dark Ales",
          "Dark Lagers",
          "Hybrid Beers",
          "India Pale Ales",
          "Pale Ales",
          "Pale Lagers",
          "Porters",
          "Specialty Beer",
          "Stouts",
          "Strong Ales",
          "Weird Cocktail",
          "Wheat Beers",
          "Wild/Sour Beers"
         ],
         "xaxis": "x",
         "y": [
          1.5816326530612246,
          2.2142857142857144,
          1.0816326530612246,
          3.2142857142857144,
          0.40816326530612246,
          3.765306122448977,
          7.530612244897959,
          15.857142857142861,
          1.1530612244897958,
          1.2653061224489797,
          2.8571428571428594,
          3.612244897959184,
          0.16326530612244897,
          5.071428571428571,
          0.22448979591836704
         ],
         "yaxis": "y"
        },
        {
         "hovertemplate": "cluster=2<br>category=%{x}<br>Number of beer=%{y}<extra></extra>",
         "legendgroup": "2",
         "line": {
          "color": "#00cc96",
          "dash": "solid"
         },
         "marker": {
          "symbol": "circle"
         },
         "mode": "lines",
         "name": "2",
         "orientation": "v",
         "showlegend": true,
         "type": "scatter",
         "x": [
          "Bocks",
          "Brown Ales",
          "Dark Ales",
          "Dark Lagers",
          "Hybrid Beers",
          "India Pale Ales",
          "Pale Ales",
          "Pale Lagers",
          "Porters",
          "Specialty Beer",
          "Stouts",
          "Strong Ales",
          "Weird Cocktail",
          "Wheat Beers",
          "Wild/Sour Beers"
         ],
         "xaxis": "x",
         "y": [
          1.034129692832765,
          2.559726962457338,
          1.1911262798634814,
          1.0068259385665534,
          0.28668941979522194,
          14.4778156996587,
          8.470989761092149,
          3.252559726962457,
          1.9522184300341296,
          1.8088737201365193,
          5.430034129692834,
          4.986348122866894,
          0.04095563139931736,
          2.610921501706485,
          0.8907849829351535
         ],
         "yaxis": "y"
        },
        {
         "hovertemplate": "cluster=3<br>category=%{x}<br>Number of beer=%{y}<extra></extra>",
         "legendgroup": "3",
         "line": {
          "color": "#ab63fa",
          "dash": "solid"
         },
         "marker": {
          "symbol": "circle"
         },
         "mode": "lines",
         "name": "3",
         "orientation": "v",
         "showlegend": true,
         "type": "scatter",
         "x": [
          "Bocks",
          "Brown Ales",
          "Dark Ales",
          "Dark Lagers",
          "Hybrid Beers",
          "India Pale Ales",
          "Pale Ales",
          "Pale Lagers",
          "Porters",
          "Specialty Beer",
          "Stouts",
          "Strong Ales",
          "Weird Cocktail",
          "Wheat Beers",
          "Wild/Sour Beers"
         ],
         "xaxis": "x",
         "y": [
          0.8037974683544307,
          2.2278481012658227,
          0.8734177215189878,
          0.5886075949367094,
          0.2848101265822785,
          9.632911392405061,
          4.443037974683544,
          1.0949367088607578,
          3.208860759493671,
          1.2215189873417722,
          16.253164556962027,
          6.1265822784810124,
          0.06329113924050629,
          1.4683544303797469,
          1.70886075949367
         ],
         "yaxis": "y"
        },
        {
         "hovertemplate": "cluster=4<br>category=%{x}<br>Number of beer=%{y}<extra></extra>",
         "legendgroup": "4",
         "line": {
          "color": "#FFA15A",
          "dash": "solid"
         },
         "marker": {
          "symbol": "circle"
         },
         "mode": "lines",
         "name": "4",
         "orientation": "v",
         "showlegend": true,
         "type": "scatter",
         "x": [
          "Bocks",
          "Brown Ales",
          "Dark Ales",
          "Dark Lagers",
          "Hybrid Beers",
          "India Pale Ales",
          "Pale Ales",
          "Pale Lagers",
          "Porters",
          "Specialty Beer",
          "Stouts",
          "Strong Ales",
          "Weird Cocktail",
          "Wheat Beers",
          "Wild/Sour Beers"
         ],
         "xaxis": "x",
         "y": [
          2.021126760563381,
          3.82394366197183,
          1.887323943661971,
          1.9718309859154934,
          0.3591549295774649,
          4.700704225352122,
          9.186619718309858,
          4.461267605633803,
          2.528169014084507,
          1.6478873239436629,
          5.531690140845072,
          6.718309859154928,
          0.08802816901408447,
          4.007042253521127,
          1.066901408450704
         ],
         "yaxis": "y"
        }
       ],
       "layout": {
        "legend": {
         "title": {
          "text": "cluster"
         },
         "tracegroupgap": 0
        },
        "template": {
         "data": {
          "bar": [
           {
            "error_x": {
             "color": "#2a3f5f"
            },
            "error_y": {
             "color": "#2a3f5f"
            },
            "marker": {
             "line": {
              "color": "#E5ECF6",
              "width": 0.5
             },
             "pattern": {
              "fillmode": "overlay",
              "size": 10,
              "solidity": 0.2
             }
            },
            "type": "bar"
           }
          ],
          "barpolar": [
           {
            "marker": {
             "line": {
              "color": "#E5ECF6",
              "width": 0.5
             },
             "pattern": {
              "fillmode": "overlay",
              "size": 10,
              "solidity": 0.2
             }
            },
            "type": "barpolar"
           }
          ],
          "carpet": [
           {
            "aaxis": {
             "endlinecolor": "#2a3f5f",
             "gridcolor": "white",
             "linecolor": "white",
             "minorgridcolor": "white",
             "startlinecolor": "#2a3f5f"
            },
            "baxis": {
             "endlinecolor": "#2a3f5f",
             "gridcolor": "white",
             "linecolor": "white",
             "minorgridcolor": "white",
             "startlinecolor": "#2a3f5f"
            },
            "type": "carpet"
           }
          ],
          "choropleth": [
           {
            "colorbar": {
             "outlinewidth": 0,
             "ticks": ""
            },
            "type": "choropleth"
           }
          ],
          "contour": [
           {
            "colorbar": {
             "outlinewidth": 0,
             "ticks": ""
            },
            "colorscale": [
             [
              0,
              "#0d0887"
             ],
             [
              0.1111111111111111,
              "#46039f"
             ],
             [
              0.2222222222222222,
              "#7201a8"
             ],
             [
              0.3333333333333333,
              "#9c179e"
             ],
             [
              0.4444444444444444,
              "#bd3786"
             ],
             [
              0.5555555555555556,
              "#d8576b"
             ],
             [
              0.6666666666666666,
              "#ed7953"
             ],
             [
              0.7777777777777778,
              "#fb9f3a"
             ],
             [
              0.8888888888888888,
              "#fdca26"
             ],
             [
              1,
              "#f0f921"
             ]
            ],
            "type": "contour"
           }
          ],
          "contourcarpet": [
           {
            "colorbar": {
             "outlinewidth": 0,
             "ticks": ""
            },
            "type": "contourcarpet"
           }
          ],
          "heatmap": [
           {
            "colorbar": {
             "outlinewidth": 0,
             "ticks": ""
            },
            "colorscale": [
             [
              0,
              "#0d0887"
             ],
             [
              0.1111111111111111,
              "#46039f"
             ],
             [
              0.2222222222222222,
              "#7201a8"
             ],
             [
              0.3333333333333333,
              "#9c179e"
             ],
             [
              0.4444444444444444,
              "#bd3786"
             ],
             [
              0.5555555555555556,
              "#d8576b"
             ],
             [
              0.6666666666666666,
              "#ed7953"
             ],
             [
              0.7777777777777778,
              "#fb9f3a"
             ],
             [
              0.8888888888888888,
              "#fdca26"
             ],
             [
              1,
              "#f0f921"
             ]
            ],
            "type": "heatmap"
           }
          ],
          "heatmapgl": [
           {
            "colorbar": {
             "outlinewidth": 0,
             "ticks": ""
            },
            "colorscale": [
             [
              0,
              "#0d0887"
             ],
             [
              0.1111111111111111,
              "#46039f"
             ],
             [
              0.2222222222222222,
              "#7201a8"
             ],
             [
              0.3333333333333333,
              "#9c179e"
             ],
             [
              0.4444444444444444,
              "#bd3786"
             ],
             [
              0.5555555555555556,
              "#d8576b"
             ],
             [
              0.6666666666666666,
              "#ed7953"
             ],
             [
              0.7777777777777778,
              "#fb9f3a"
             ],
             [
              0.8888888888888888,
              "#fdca26"
             ],
             [
              1,
              "#f0f921"
             ]
            ],
            "type": "heatmapgl"
           }
          ],
          "histogram": [
           {
            "marker": {
             "pattern": {
              "fillmode": "overlay",
              "size": 10,
              "solidity": 0.2
             }
            },
            "type": "histogram"
           }
          ],
          "histogram2d": [
           {
            "colorbar": {
             "outlinewidth": 0,
             "ticks": ""
            },
            "colorscale": [
             [
              0,
              "#0d0887"
             ],
             [
              0.1111111111111111,
              "#46039f"
             ],
             [
              0.2222222222222222,
              "#7201a8"
             ],
             [
              0.3333333333333333,
              "#9c179e"
             ],
             [
              0.4444444444444444,
              "#bd3786"
             ],
             [
              0.5555555555555556,
              "#d8576b"
             ],
             [
              0.6666666666666666,
              "#ed7953"
             ],
             [
              0.7777777777777778,
              "#fb9f3a"
             ],
             [
              0.8888888888888888,
              "#fdca26"
             ],
             [
              1,
              "#f0f921"
             ]
            ],
            "type": "histogram2d"
           }
          ],
          "histogram2dcontour": [
           {
            "colorbar": {
             "outlinewidth": 0,
             "ticks": ""
            },
            "colorscale": [
             [
              0,
              "#0d0887"
             ],
             [
              0.1111111111111111,
              "#46039f"
             ],
             [
              0.2222222222222222,
              "#7201a8"
             ],
             [
              0.3333333333333333,
              "#9c179e"
             ],
             [
              0.4444444444444444,
              "#bd3786"
             ],
             [
              0.5555555555555556,
              "#d8576b"
             ],
             [
              0.6666666666666666,
              "#ed7953"
             ],
             [
              0.7777777777777778,
              "#fb9f3a"
             ],
             [
              0.8888888888888888,
              "#fdca26"
             ],
             [
              1,
              "#f0f921"
             ]
            ],
            "type": "histogram2dcontour"
           }
          ],
          "mesh3d": [
           {
            "colorbar": {
             "outlinewidth": 0,
             "ticks": ""
            },
            "type": "mesh3d"
           }
          ],
          "parcoords": [
           {
            "line": {
             "colorbar": {
              "outlinewidth": 0,
              "ticks": ""
             }
            },
            "type": "parcoords"
           }
          ],
          "pie": [
           {
            "automargin": true,
            "type": "pie"
           }
          ],
          "scatter": [
           {
            "fillpattern": {
             "fillmode": "overlay",
             "size": 10,
             "solidity": 0.2
            },
            "type": "scatter"
           }
          ],
          "scatter3d": [
           {
            "line": {
             "colorbar": {
              "outlinewidth": 0,
              "ticks": ""
             }
            },
            "marker": {
             "colorbar": {
              "outlinewidth": 0,
              "ticks": ""
             }
            },
            "type": "scatter3d"
           }
          ],
          "scattercarpet": [
           {
            "marker": {
             "colorbar": {
              "outlinewidth": 0,
              "ticks": ""
             }
            },
            "type": "scattercarpet"
           }
          ],
          "scattergeo": [
           {
            "marker": {
             "colorbar": {
              "outlinewidth": 0,
              "ticks": ""
             }
            },
            "type": "scattergeo"
           }
          ],
          "scattergl": [
           {
            "marker": {
             "colorbar": {
              "outlinewidth": 0,
              "ticks": ""
             }
            },
            "type": "scattergl"
           }
          ],
          "scattermapbox": [
           {
            "marker": {
             "colorbar": {
              "outlinewidth": 0,
              "ticks": ""
             }
            },
            "type": "scattermapbox"
           }
          ],
          "scatterpolar": [
           {
            "marker": {
             "colorbar": {
              "outlinewidth": 0,
              "ticks": ""
             }
            },
            "type": "scatterpolar"
           }
          ],
          "scatterpolargl": [
           {
            "marker": {
             "colorbar": {
              "outlinewidth": 0,
              "ticks": ""
             }
            },
            "type": "scatterpolargl"
           }
          ],
          "scatterternary": [
           {
            "marker": {
             "colorbar": {
              "outlinewidth": 0,
              "ticks": ""
             }
            },
            "type": "scatterternary"
           }
          ],
          "surface": [
           {
            "colorbar": {
             "outlinewidth": 0,
             "ticks": ""
            },
            "colorscale": [
             [
              0,
              "#0d0887"
             ],
             [
              0.1111111111111111,
              "#46039f"
             ],
             [
              0.2222222222222222,
              "#7201a8"
             ],
             [
              0.3333333333333333,
              "#9c179e"
             ],
             [
              0.4444444444444444,
              "#bd3786"
             ],
             [
              0.5555555555555556,
              "#d8576b"
             ],
             [
              0.6666666666666666,
              "#ed7953"
             ],
             [
              0.7777777777777778,
              "#fb9f3a"
             ],
             [
              0.8888888888888888,
              "#fdca26"
             ],
             [
              1,
              "#f0f921"
             ]
            ],
            "type": "surface"
           }
          ],
          "table": [
           {
            "cells": {
             "fill": {
              "color": "#EBF0F8"
             },
             "line": {
              "color": "white"
             }
            },
            "header": {
             "fill": {
              "color": "#C8D4E3"
             },
             "line": {
              "color": "white"
             }
            },
            "type": "table"
           }
          ]
         },
         "layout": {
          "annotationdefaults": {
           "arrowcolor": "#2a3f5f",
           "arrowhead": 0,
           "arrowwidth": 1
          },
          "autotypenumbers": "strict",
          "coloraxis": {
           "colorbar": {
            "outlinewidth": 0,
            "ticks": ""
           }
          },
          "colorscale": {
           "diverging": [
            [
             0,
             "#8e0152"
            ],
            [
             0.1,
             "#c51b7d"
            ],
            [
             0.2,
             "#de77ae"
            ],
            [
             0.3,
             "#f1b6da"
            ],
            [
             0.4,
             "#fde0ef"
            ],
            [
             0.5,
             "#f7f7f7"
            ],
            [
             0.6,
             "#e6f5d0"
            ],
            [
             0.7,
             "#b8e186"
            ],
            [
             0.8,
             "#7fbc41"
            ],
            [
             0.9,
             "#4d9221"
            ],
            [
             1,
             "#276419"
            ]
           ],
           "sequential": [
            [
             0,
             "#0d0887"
            ],
            [
             0.1111111111111111,
             "#46039f"
            ],
            [
             0.2222222222222222,
             "#7201a8"
            ],
            [
             0.3333333333333333,
             "#9c179e"
            ],
            [
             0.4444444444444444,
             "#bd3786"
            ],
            [
             0.5555555555555556,
             "#d8576b"
            ],
            [
             0.6666666666666666,
             "#ed7953"
            ],
            [
             0.7777777777777778,
             "#fb9f3a"
            ],
            [
             0.8888888888888888,
             "#fdca26"
            ],
            [
             1,
             "#f0f921"
            ]
           ],
           "sequentialminus": [
            [
             0,
             "#0d0887"
            ],
            [
             0.1111111111111111,
             "#46039f"
            ],
            [
             0.2222222222222222,
             "#7201a8"
            ],
            [
             0.3333333333333333,
             "#9c179e"
            ],
            [
             0.4444444444444444,
             "#bd3786"
            ],
            [
             0.5555555555555556,
             "#d8576b"
            ],
            [
             0.6666666666666666,
             "#ed7953"
            ],
            [
             0.7777777777777778,
             "#fb9f3a"
            ],
            [
             0.8888888888888888,
             "#fdca26"
            ],
            [
             1,
             "#f0f921"
            ]
           ]
          },
          "colorway": [
           "#636efa",
           "#EF553B",
           "#00cc96",
           "#ab63fa",
           "#FFA15A",
           "#19d3f3",
           "#FF6692",
           "#B6E880",
           "#FF97FF",
           "#FECB52"
          ],
          "font": {
           "color": "#2a3f5f"
          },
          "geo": {
           "bgcolor": "white",
           "lakecolor": "white",
           "landcolor": "#E5ECF6",
           "showlakes": true,
           "showland": true,
           "subunitcolor": "white"
          },
          "hoverlabel": {
           "align": "left"
          },
          "hovermode": "closest",
          "mapbox": {
           "style": "light"
          },
          "paper_bgcolor": "white",
          "plot_bgcolor": "#E5ECF6",
          "polar": {
           "angularaxis": {
            "gridcolor": "white",
            "linecolor": "white",
            "ticks": ""
           },
           "bgcolor": "#E5ECF6",
           "radialaxis": {
            "gridcolor": "white",
            "linecolor": "white",
            "ticks": ""
           }
          },
          "scene": {
           "xaxis": {
            "backgroundcolor": "#E5ECF6",
            "gridcolor": "white",
            "gridwidth": 2,
            "linecolor": "white",
            "showbackground": true,
            "ticks": "",
            "zerolinecolor": "white"
           },
           "yaxis": {
            "backgroundcolor": "#E5ECF6",
            "gridcolor": "white",
            "gridwidth": 2,
            "linecolor": "white",
            "showbackground": true,
            "ticks": "",
            "zerolinecolor": "white"
           },
           "zaxis": {
            "backgroundcolor": "#E5ECF6",
            "gridcolor": "white",
            "gridwidth": 2,
            "linecolor": "white",
            "showbackground": true,
            "ticks": "",
            "zerolinecolor": "white"
           }
          },
          "shapedefaults": {
           "line": {
            "color": "#2a3f5f"
           }
          },
          "ternary": {
           "aaxis": {
            "gridcolor": "white",
            "linecolor": "white",
            "ticks": ""
           },
           "baxis": {
            "gridcolor": "white",
            "linecolor": "white",
            "ticks": ""
           },
           "bgcolor": "#E5ECF6",
           "caxis": {
            "gridcolor": "white",
            "linecolor": "white",
            "ticks": ""
           }
          },
          "title": {
           "x": 0.05
          },
          "xaxis": {
           "automargin": true,
           "gridcolor": "white",
           "linecolor": "white",
           "ticks": "",
           "title": {
            "standoff": 15
           },
           "zerolinecolor": "white",
           "zerolinewidth": 2
          },
          "yaxis": {
           "automargin": true,
           "gridcolor": "white",
           "linecolor": "white",
           "ticks": "",
           "title": {
            "standoff": 15
           },
           "zerolinecolor": "white",
           "zerolinewidth": 2
          }
         }
        },
        "title": {
         "text": "Centroids obtained with Kmeans (k=5) of the first 50 ratings of each user"
        },
        "xaxis": {
         "anchor": "y",
         "domain": [
          0,
          1
         ],
         "title": {
          "text": "category"
         }
        },
        "yaxis": {
         "anchor": "x",
         "domain": [
          0,
          1
         ],
         "title": {
          "text": "Number of beer"
         }
        }
       }
      }
     },
     "metadata": {},
     "output_type": "display_data"
    }
   ],
   "source": [
    "#Display 5 clusters\n",
    "fig = px.line(df_cluster_beer_5, x=\"category\", y=\"Number of beer\", color=\"cluster\", \n",
    "              title=\"Centroids obtained with Kmeans (k=5) of the first 50 ratings of each user\")\n",
    "fig.show()\n"
   ]
  },
  {
   "cell_type": "code",
   "execution_count": 254,
   "metadata": {},
   "outputs": [],
   "source": [
    "# We see that 3 clusters (blue, green and orange) are really correlated : they can be merged into 2,\n",
    "# one whose users really likes IPA's and one whose users taste a lot of different beers.\n",
    "# Therefore, we decide to work with 4 over 5 clusters."
   ]
  },
  {
   "cell_type": "code",
   "execution_count": 255,
   "metadata": {},
   "outputs": [],
   "source": [
    "# We settle on k = 4 \n",
    "df_cluster_beer = df_cluster_beer_4.copy()\n",
    "df_cluster_centers = pd.DataFrame(user_clustering_4.cluster_centers_.T)\n",
    "df_cluster_centers.index = user_to_cat_first.columns\n",
    "\n",
    "user_to_cat_first[\"first_50_cluster\"] = user_clustering_4.labels_"
   ]
  },
  {
   "cell_type": "code",
   "execution_count": 256,
   "metadata": {},
   "outputs": [
    {
     "data": {
      "text/html": [
       "<div>\n",
       "<style scoped>\n",
       "    .dataframe tbody tr th:only-of-type {\n",
       "        vertical-align: middle;\n",
       "    }\n",
       "\n",
       "    .dataframe tbody tr th {\n",
       "        vertical-align: top;\n",
       "    }\n",
       "\n",
       "    .dataframe thead th {\n",
       "        text-align: right;\n",
       "    }\n",
       "</style>\n",
       "<table border=\"1\" class=\"dataframe\">\n",
       "  <thead>\n",
       "    <tr style=\"text-align: right;\">\n",
       "      <th></th>\n",
       "      <th>0</th>\n",
       "      <th>1</th>\n",
       "      <th>2</th>\n",
       "      <th>3</th>\n",
       "    </tr>\n",
       "    <tr>\n",
       "      <th>category</th>\n",
       "      <th></th>\n",
       "      <th></th>\n",
       "      <th></th>\n",
       "      <th></th>\n",
       "    </tr>\n",
       "  </thead>\n",
       "  <tbody>\n",
       "    <tr>\n",
       "      <th>Bocks</th>\n",
       "      <td>0.598326</td>\n",
       "      <td>1.659898</td>\n",
       "      <td>1.794326</td>\n",
       "      <td>0.816327</td>\n",
       "    </tr>\n",
       "    <tr>\n",
       "      <th>Brown Ales</th>\n",
       "      <td>1.732218</td>\n",
       "      <td>3.281726</td>\n",
       "      <td>2.723404</td>\n",
       "      <td>2.505102</td>\n",
       "    </tr>\n",
       "    <tr>\n",
       "      <th>Dark Ales</th>\n",
       "      <td>0.615063</td>\n",
       "      <td>1.654822</td>\n",
       "      <td>1.425532</td>\n",
       "      <td>0.959184</td>\n",
       "    </tr>\n",
       "    <tr>\n",
       "      <th>Dark Lagers</th>\n",
       "      <td>0.548117</td>\n",
       "      <td>1.530457</td>\n",
       "      <td>3.347518</td>\n",
       "      <td>0.632653</td>\n",
       "    </tr>\n",
       "    <tr>\n",
       "      <th>Hybrid Beers</th>\n",
       "      <td>0.234310</td>\n",
       "      <td>0.337563</td>\n",
       "      <td>0.382979</td>\n",
       "      <td>0.280612</td>\n",
       "    </tr>\n",
       "    <tr>\n",
       "      <th>India Pale Ales</th>\n",
       "      <td>22.832636</td>\n",
       "      <td>8.192893</td>\n",
       "      <td>3.297872</td>\n",
       "      <td>9.872449</td>\n",
       "    </tr>\n",
       "    <tr>\n",
       "      <th>Pale Ales</th>\n",
       "      <td>7.468619</td>\n",
       "      <td>9.408629</td>\n",
       "      <td>7.780142</td>\n",
       "      <td>4.750000</td>\n",
       "    </tr>\n",
       "    <tr>\n",
       "      <th>Pale Lagers</th>\n",
       "      <td>2.012552</td>\n",
       "      <td>3.868020</td>\n",
       "      <td>13.624113</td>\n",
       "      <td>1.295918</td>\n",
       "    </tr>\n",
       "    <tr>\n",
       "      <th>Porters</th>\n",
       "      <td>1.351464</td>\n",
       "      <td>2.296954</td>\n",
       "      <td>1.560284</td>\n",
       "      <td>3.096939</td>\n",
       "    </tr>\n",
       "    <tr>\n",
       "      <th>Specialty Beer</th>\n",
       "      <td>1.221757</td>\n",
       "      <td>1.743655</td>\n",
       "      <td>1.418440</td>\n",
       "      <td>1.341837</td>\n",
       "    </tr>\n",
       "    <tr>\n",
       "      <th>Stouts</th>\n",
       "      <td>4.556485</td>\n",
       "      <td>5.119289</td>\n",
       "      <td>3.510638</td>\n",
       "      <td>15.147959</td>\n",
       "    </tr>\n",
       "    <tr>\n",
       "      <th>Strong Ales</th>\n",
       "      <td>4.075314</td>\n",
       "      <td>6.131980</td>\n",
       "      <td>3.950355</td>\n",
       "      <td>6.168367</td>\n",
       "    </tr>\n",
       "    <tr>\n",
       "      <th>Weird Cocktail</th>\n",
       "      <td>0.012552</td>\n",
       "      <td>0.063452</td>\n",
       "      <td>0.156028</td>\n",
       "      <td>0.076531</td>\n",
       "    </tr>\n",
       "    <tr>\n",
       "      <th>Wheat Beers</th>\n",
       "      <td>1.878661</td>\n",
       "      <td>3.619289</td>\n",
       "      <td>4.744681</td>\n",
       "      <td>1.551020</td>\n",
       "    </tr>\n",
       "    <tr>\n",
       "      <th>Wild/Sour Beers</th>\n",
       "      <td>0.861925</td>\n",
       "      <td>1.091371</td>\n",
       "      <td>0.283688</td>\n",
       "      <td>1.505102</td>\n",
       "    </tr>\n",
       "  </tbody>\n",
       "</table>\n",
       "</div>"
      ],
      "text/plain": [
       "                         0         1          2          3\n",
       "category                                                  \n",
       "Bocks             0.598326  1.659898   1.794326   0.816327\n",
       "Brown Ales        1.732218  3.281726   2.723404   2.505102\n",
       "Dark Ales         0.615063  1.654822   1.425532   0.959184\n",
       "Dark Lagers       0.548117  1.530457   3.347518   0.632653\n",
       "Hybrid Beers      0.234310  0.337563   0.382979   0.280612\n",
       "India Pale Ales  22.832636  8.192893   3.297872   9.872449\n",
       "Pale Ales         7.468619  9.408629   7.780142   4.750000\n",
       "Pale Lagers       2.012552  3.868020  13.624113   1.295918\n",
       "Porters           1.351464  2.296954   1.560284   3.096939\n",
       "Specialty Beer    1.221757  1.743655   1.418440   1.341837\n",
       "Stouts            4.556485  5.119289   3.510638  15.147959\n",
       "Strong Ales       4.075314  6.131980   3.950355   6.168367\n",
       "Weird Cocktail    0.012552  0.063452   0.156028   0.076531\n",
       "Wheat Beers       1.878661  3.619289   4.744681   1.551020\n",
       "Wild/Sour Beers   0.861925  1.091371   0.283688   1.505102"
      ]
     },
     "execution_count": 256,
     "metadata": {},
     "output_type": "execute_result"
    }
   ],
   "source": [
    "df_cluster_centers"
   ]
  },
  {
   "cell_type": "code",
   "execution_count": 257,
   "metadata": {},
   "outputs": [
    {
     "data": {
      "text/plain": [
       "{4: 'All',\n",
       " 0: 'Jean-Michel IPA',\n",
       " 3: 'Marcel Stout',\n",
       " 2: 'James Bland',\n",
       " 1: 'Ada the explorer'}"
      ]
     },
     "execution_count": 257,
     "metadata": {},
     "output_type": "execute_result"
    }
   ],
   "source": [
    "# We decide to give some names to the different clusters! The names are:\n",
    "# Jean-Michel IPA, Marcel Stout, James Bland and Ada the explorer.\n",
    "\n",
    "ipa_idx = (df_cluster_centers.loc['India Pale Ales',:]).argmax()\n",
    "stout_idx = (df_cluster_centers.loc['Stouts',:]).argmax()\n",
    "pale_idx = (df_cluster_centers.loc['Pale Lagers',:]).argmax()\n",
    "\n",
    "possible_indices = [0,1,2,3] #column indices\n",
    "expl_col = sum(possible_indices) - (ipa_idx + stout_idx + pale_idx)\n",
    "\n",
    "mapping_name_idx = {'All' : 4, 'Jean-Michel IPA' : ipa_idx, 'Marcel Stout' : stout_idx, \n",
    "\n",
    "           'James Bland' : pale_idx, 'Ada the explorer' : expl_col}\n",
    "mapping_idx_name = {values:key for key, values in mapping_name_idx.items()}\n",
    "mapping_idx_name"
   ]
  },
  {
   "cell_type": "code",
   "execution_count": 258,
   "metadata": {},
   "outputs": [
    {
     "data": {
      "application/vnd.plotly.v1+json": {
       "config": {
        "plotlyServerURL": "https://plot.ly"
       },
       "data": [
        {
         "hovertemplate": "color=Jean-Michel IPA<br>category=%{x}<br>Number of beer=%{y}<extra></extra>",
         "legendgroup": "Jean-Michel IPA",
         "line": {
          "color": "#636efa",
          "dash": "solid"
         },
         "marker": {
          "symbol": "circle"
         },
         "mode": "lines",
         "name": "Jean-Michel IPA",
         "orientation": "v",
         "showlegend": true,
         "type": "scatter",
         "x": [
          "Bocks",
          "Brown Ales",
          "Dark Ales",
          "Dark Lagers",
          "Hybrid Beers",
          "India Pale Ales",
          "Pale Ales",
          "Pale Lagers",
          "Porters",
          "Specialty Beer",
          "Stouts",
          "Strong Ales",
          "Weird Cocktail",
          "Wheat Beers",
          "Wild/Sour Beers"
         ],
         "xaxis": "x",
         "y": [
          0.5983263598326367,
          1.7322175732217566,
          0.6150627615062763,
          0.5481171548117162,
          0.2343096234309624,
          22.83263598326361,
          7.468619246861924,
          2.012552301255228,
          1.351464435146444,
          1.2217573221757325,
          4.556485355648537,
          4.07531380753138,
          0.012552301255230047,
          1.8786610878661096,
          0.8619246861924685
         ],
         "yaxis": "y"
        },
        {
         "hovertemplate": "color=Ada the explorer<br>category=%{x}<br>Number of beer=%{y}<extra></extra>",
         "legendgroup": "Ada the explorer",
         "line": {
          "color": "#EF553B",
          "dash": "solid"
         },
         "marker": {
          "symbol": "circle"
         },
         "mode": "lines",
         "name": "Ada the explorer",
         "orientation": "v",
         "showlegend": true,
         "type": "scatter",
         "x": [
          "Bocks",
          "Brown Ales",
          "Dark Ales",
          "Dark Lagers",
          "Hybrid Beers",
          "India Pale Ales",
          "Pale Ales",
          "Pale Lagers",
          "Porters",
          "Specialty Beer",
          "Stouts",
          "Strong Ales",
          "Weird Cocktail",
          "Wheat Beers",
          "Wild/Sour Beers"
         ],
         "xaxis": "x",
         "y": [
          1.659898477157361,
          3.281725888324872,
          1.6548223350253808,
          1.530456852791878,
          0.33756345177664976,
          8.192893401015231,
          9.408629441624365,
          3.868020304568528,
          2.296954314720812,
          1.7436548223350263,
          5.119289340101523,
          6.131979695431471,
          0.0634517766497462,
          3.619289340101523,
          1.091370558375634
         ],
         "yaxis": "y"
        },
        {
         "hovertemplate": "color=James Bland<br>category=%{x}<br>Number of beer=%{y}<extra></extra>",
         "legendgroup": "James Bland",
         "line": {
          "color": "#00cc96",
          "dash": "solid"
         },
         "marker": {
          "symbol": "circle"
         },
         "mode": "lines",
         "name": "James Bland",
         "orientation": "v",
         "showlegend": true,
         "type": "scatter",
         "x": [
          "Bocks",
          "Brown Ales",
          "Dark Ales",
          "Dark Lagers",
          "Hybrid Beers",
          "India Pale Ales",
          "Pale Ales",
          "Pale Lagers",
          "Porters",
          "Specialty Beer",
          "Stouts",
          "Strong Ales",
          "Weird Cocktail",
          "Wheat Beers",
          "Wild/Sour Beers"
         ],
         "xaxis": "x",
         "y": [
          1.7943262411347523,
          2.723404255319149,
          1.425531914893617,
          3.3475177304964547,
          0.3829787234042553,
          3.297872340425533,
          7.780141843971631,
          13.62411347517731,
          1.5602836879432624,
          1.4184397163120568,
          3.510638297872343,
          3.950354609929078,
          0.15602836879432622,
          4.74468085106383,
          0.28368794326241065
         ],
         "yaxis": "y"
        },
        {
         "hovertemplate": "color=Marcel Stout<br>category=%{x}<br>Number of beer=%{y}<extra></extra>",
         "legendgroup": "Marcel Stout",
         "line": {
          "color": "#ab63fa",
          "dash": "solid"
         },
         "marker": {
          "symbol": "circle"
         },
         "mode": "lines",
         "name": "Marcel Stout",
         "orientation": "v",
         "showlegend": true,
         "type": "scatter",
         "x": [
          "Bocks",
          "Brown Ales",
          "Dark Ales",
          "Dark Lagers",
          "Hybrid Beers",
          "India Pale Ales",
          "Pale Ales",
          "Pale Lagers",
          "Porters",
          "Specialty Beer",
          "Stouts",
          "Strong Ales",
          "Weird Cocktail",
          "Wheat Beers",
          "Wild/Sour Beers"
         ],
         "xaxis": "x",
         "y": [
          0.8163265306122454,
          2.5051020408163267,
          0.959183673469388,
          0.6326530612244905,
          0.2806122448979592,
          9.872448979591834,
          4.75,
          1.295918367346938,
          3.0969387755102042,
          1.3418367346938775,
          15.147959183673475,
          6.1683673469387745,
          0.07653061224489796,
          1.5510204081632657,
          1.5051020408163256
         ],
         "yaxis": "y"
        }
       ],
       "layout": {
        "legend": {
         "title": {
          "text": "color"
         },
         "tracegroupgap": 0
        },
        "template": {
         "data": {
          "bar": [
           {
            "error_x": {
             "color": "#2a3f5f"
            },
            "error_y": {
             "color": "#2a3f5f"
            },
            "marker": {
             "line": {
              "color": "#E5ECF6",
              "width": 0.5
             },
             "pattern": {
              "fillmode": "overlay",
              "size": 10,
              "solidity": 0.2
             }
            },
            "type": "bar"
           }
          ],
          "barpolar": [
           {
            "marker": {
             "line": {
              "color": "#E5ECF6",
              "width": 0.5
             },
             "pattern": {
              "fillmode": "overlay",
              "size": 10,
              "solidity": 0.2
             }
            },
            "type": "barpolar"
           }
          ],
          "carpet": [
           {
            "aaxis": {
             "endlinecolor": "#2a3f5f",
             "gridcolor": "white",
             "linecolor": "white",
             "minorgridcolor": "white",
             "startlinecolor": "#2a3f5f"
            },
            "baxis": {
             "endlinecolor": "#2a3f5f",
             "gridcolor": "white",
             "linecolor": "white",
             "minorgridcolor": "white",
             "startlinecolor": "#2a3f5f"
            },
            "type": "carpet"
           }
          ],
          "choropleth": [
           {
            "colorbar": {
             "outlinewidth": 0,
             "ticks": ""
            },
            "type": "choropleth"
           }
          ],
          "contour": [
           {
            "colorbar": {
             "outlinewidth": 0,
             "ticks": ""
            },
            "colorscale": [
             [
              0,
              "#0d0887"
             ],
             [
              0.1111111111111111,
              "#46039f"
             ],
             [
              0.2222222222222222,
              "#7201a8"
             ],
             [
              0.3333333333333333,
              "#9c179e"
             ],
             [
              0.4444444444444444,
              "#bd3786"
             ],
             [
              0.5555555555555556,
              "#d8576b"
             ],
             [
              0.6666666666666666,
              "#ed7953"
             ],
             [
              0.7777777777777778,
              "#fb9f3a"
             ],
             [
              0.8888888888888888,
              "#fdca26"
             ],
             [
              1,
              "#f0f921"
             ]
            ],
            "type": "contour"
           }
          ],
          "contourcarpet": [
           {
            "colorbar": {
             "outlinewidth": 0,
             "ticks": ""
            },
            "type": "contourcarpet"
           }
          ],
          "heatmap": [
           {
            "colorbar": {
             "outlinewidth": 0,
             "ticks": ""
            },
            "colorscale": [
             [
              0,
              "#0d0887"
             ],
             [
              0.1111111111111111,
              "#46039f"
             ],
             [
              0.2222222222222222,
              "#7201a8"
             ],
             [
              0.3333333333333333,
              "#9c179e"
             ],
             [
              0.4444444444444444,
              "#bd3786"
             ],
             [
              0.5555555555555556,
              "#d8576b"
             ],
             [
              0.6666666666666666,
              "#ed7953"
             ],
             [
              0.7777777777777778,
              "#fb9f3a"
             ],
             [
              0.8888888888888888,
              "#fdca26"
             ],
             [
              1,
              "#f0f921"
             ]
            ],
            "type": "heatmap"
           }
          ],
          "heatmapgl": [
           {
            "colorbar": {
             "outlinewidth": 0,
             "ticks": ""
            },
            "colorscale": [
             [
              0,
              "#0d0887"
             ],
             [
              0.1111111111111111,
              "#46039f"
             ],
             [
              0.2222222222222222,
              "#7201a8"
             ],
             [
              0.3333333333333333,
              "#9c179e"
             ],
             [
              0.4444444444444444,
              "#bd3786"
             ],
             [
              0.5555555555555556,
              "#d8576b"
             ],
             [
              0.6666666666666666,
              "#ed7953"
             ],
             [
              0.7777777777777778,
              "#fb9f3a"
             ],
             [
              0.8888888888888888,
              "#fdca26"
             ],
             [
              1,
              "#f0f921"
             ]
            ],
            "type": "heatmapgl"
           }
          ],
          "histogram": [
           {
            "marker": {
             "pattern": {
              "fillmode": "overlay",
              "size": 10,
              "solidity": 0.2
             }
            },
            "type": "histogram"
           }
          ],
          "histogram2d": [
           {
            "colorbar": {
             "outlinewidth": 0,
             "ticks": ""
            },
            "colorscale": [
             [
              0,
              "#0d0887"
             ],
             [
              0.1111111111111111,
              "#46039f"
             ],
             [
              0.2222222222222222,
              "#7201a8"
             ],
             [
              0.3333333333333333,
              "#9c179e"
             ],
             [
              0.4444444444444444,
              "#bd3786"
             ],
             [
              0.5555555555555556,
              "#d8576b"
             ],
             [
              0.6666666666666666,
              "#ed7953"
             ],
             [
              0.7777777777777778,
              "#fb9f3a"
             ],
             [
              0.8888888888888888,
              "#fdca26"
             ],
             [
              1,
              "#f0f921"
             ]
            ],
            "type": "histogram2d"
           }
          ],
          "histogram2dcontour": [
           {
            "colorbar": {
             "outlinewidth": 0,
             "ticks": ""
            },
            "colorscale": [
             [
              0,
              "#0d0887"
             ],
             [
              0.1111111111111111,
              "#46039f"
             ],
             [
              0.2222222222222222,
              "#7201a8"
             ],
             [
              0.3333333333333333,
              "#9c179e"
             ],
             [
              0.4444444444444444,
              "#bd3786"
             ],
             [
              0.5555555555555556,
              "#d8576b"
             ],
             [
              0.6666666666666666,
              "#ed7953"
             ],
             [
              0.7777777777777778,
              "#fb9f3a"
             ],
             [
              0.8888888888888888,
              "#fdca26"
             ],
             [
              1,
              "#f0f921"
             ]
            ],
            "type": "histogram2dcontour"
           }
          ],
          "mesh3d": [
           {
            "colorbar": {
             "outlinewidth": 0,
             "ticks": ""
            },
            "type": "mesh3d"
           }
          ],
          "parcoords": [
           {
            "line": {
             "colorbar": {
              "outlinewidth": 0,
              "ticks": ""
             }
            },
            "type": "parcoords"
           }
          ],
          "pie": [
           {
            "automargin": true,
            "type": "pie"
           }
          ],
          "scatter": [
           {
            "fillpattern": {
             "fillmode": "overlay",
             "size": 10,
             "solidity": 0.2
            },
            "type": "scatter"
           }
          ],
          "scatter3d": [
           {
            "line": {
             "colorbar": {
              "outlinewidth": 0,
              "ticks": ""
             }
            },
            "marker": {
             "colorbar": {
              "outlinewidth": 0,
              "ticks": ""
             }
            },
            "type": "scatter3d"
           }
          ],
          "scattercarpet": [
           {
            "marker": {
             "colorbar": {
              "outlinewidth": 0,
              "ticks": ""
             }
            },
            "type": "scattercarpet"
           }
          ],
          "scattergeo": [
           {
            "marker": {
             "colorbar": {
              "outlinewidth": 0,
              "ticks": ""
             }
            },
            "type": "scattergeo"
           }
          ],
          "scattergl": [
           {
            "marker": {
             "colorbar": {
              "outlinewidth": 0,
              "ticks": ""
             }
            },
            "type": "scattergl"
           }
          ],
          "scattermapbox": [
           {
            "marker": {
             "colorbar": {
              "outlinewidth": 0,
              "ticks": ""
             }
            },
            "type": "scattermapbox"
           }
          ],
          "scatterpolar": [
           {
            "marker": {
             "colorbar": {
              "outlinewidth": 0,
              "ticks": ""
             }
            },
            "type": "scatterpolar"
           }
          ],
          "scatterpolargl": [
           {
            "marker": {
             "colorbar": {
              "outlinewidth": 0,
              "ticks": ""
             }
            },
            "type": "scatterpolargl"
           }
          ],
          "scatterternary": [
           {
            "marker": {
             "colorbar": {
              "outlinewidth": 0,
              "ticks": ""
             }
            },
            "type": "scatterternary"
           }
          ],
          "surface": [
           {
            "colorbar": {
             "outlinewidth": 0,
             "ticks": ""
            },
            "colorscale": [
             [
              0,
              "#0d0887"
             ],
             [
              0.1111111111111111,
              "#46039f"
             ],
             [
              0.2222222222222222,
              "#7201a8"
             ],
             [
              0.3333333333333333,
              "#9c179e"
             ],
             [
              0.4444444444444444,
              "#bd3786"
             ],
             [
              0.5555555555555556,
              "#d8576b"
             ],
             [
              0.6666666666666666,
              "#ed7953"
             ],
             [
              0.7777777777777778,
              "#fb9f3a"
             ],
             [
              0.8888888888888888,
              "#fdca26"
             ],
             [
              1,
              "#f0f921"
             ]
            ],
            "type": "surface"
           }
          ],
          "table": [
           {
            "cells": {
             "fill": {
              "color": "#EBF0F8"
             },
             "line": {
              "color": "white"
             }
            },
            "header": {
             "fill": {
              "color": "#C8D4E3"
             },
             "line": {
              "color": "white"
             }
            },
            "type": "table"
           }
          ]
         },
         "layout": {
          "annotationdefaults": {
           "arrowcolor": "#2a3f5f",
           "arrowhead": 0,
           "arrowwidth": 1
          },
          "autotypenumbers": "strict",
          "coloraxis": {
           "colorbar": {
            "outlinewidth": 0,
            "ticks": ""
           }
          },
          "colorscale": {
           "diverging": [
            [
             0,
             "#8e0152"
            ],
            [
             0.1,
             "#c51b7d"
            ],
            [
             0.2,
             "#de77ae"
            ],
            [
             0.3,
             "#f1b6da"
            ],
            [
             0.4,
             "#fde0ef"
            ],
            [
             0.5,
             "#f7f7f7"
            ],
            [
             0.6,
             "#e6f5d0"
            ],
            [
             0.7,
             "#b8e186"
            ],
            [
             0.8,
             "#7fbc41"
            ],
            [
             0.9,
             "#4d9221"
            ],
            [
             1,
             "#276419"
            ]
           ],
           "sequential": [
            [
             0,
             "#0d0887"
            ],
            [
             0.1111111111111111,
             "#46039f"
            ],
            [
             0.2222222222222222,
             "#7201a8"
            ],
            [
             0.3333333333333333,
             "#9c179e"
            ],
            [
             0.4444444444444444,
             "#bd3786"
            ],
            [
             0.5555555555555556,
             "#d8576b"
            ],
            [
             0.6666666666666666,
             "#ed7953"
            ],
            [
             0.7777777777777778,
             "#fb9f3a"
            ],
            [
             0.8888888888888888,
             "#fdca26"
            ],
            [
             1,
             "#f0f921"
            ]
           ],
           "sequentialminus": [
            [
             0,
             "#0d0887"
            ],
            [
             0.1111111111111111,
             "#46039f"
            ],
            [
             0.2222222222222222,
             "#7201a8"
            ],
            [
             0.3333333333333333,
             "#9c179e"
            ],
            [
             0.4444444444444444,
             "#bd3786"
            ],
            [
             0.5555555555555556,
             "#d8576b"
            ],
            [
             0.6666666666666666,
             "#ed7953"
            ],
            [
             0.7777777777777778,
             "#fb9f3a"
            ],
            [
             0.8888888888888888,
             "#fdca26"
            ],
            [
             1,
             "#f0f921"
            ]
           ]
          },
          "colorway": [
           "#636efa",
           "#EF553B",
           "#00cc96",
           "#ab63fa",
           "#FFA15A",
           "#19d3f3",
           "#FF6692",
           "#B6E880",
           "#FF97FF",
           "#FECB52"
          ],
          "font": {
           "color": "#2a3f5f"
          },
          "geo": {
           "bgcolor": "white",
           "lakecolor": "white",
           "landcolor": "#E5ECF6",
           "showlakes": true,
           "showland": true,
           "subunitcolor": "white"
          },
          "hoverlabel": {
           "align": "left"
          },
          "hovermode": "closest",
          "mapbox": {
           "style": "light"
          },
          "paper_bgcolor": "white",
          "plot_bgcolor": "#E5ECF6",
          "polar": {
           "angularaxis": {
            "gridcolor": "white",
            "linecolor": "white",
            "ticks": ""
           },
           "bgcolor": "#E5ECF6",
           "radialaxis": {
            "gridcolor": "white",
            "linecolor": "white",
            "ticks": ""
           }
          },
          "scene": {
           "xaxis": {
            "backgroundcolor": "#E5ECF6",
            "gridcolor": "white",
            "gridwidth": 2,
            "linecolor": "white",
            "showbackground": true,
            "ticks": "",
            "zerolinecolor": "white"
           },
           "yaxis": {
            "backgroundcolor": "#E5ECF6",
            "gridcolor": "white",
            "gridwidth": 2,
            "linecolor": "white",
            "showbackground": true,
            "ticks": "",
            "zerolinecolor": "white"
           },
           "zaxis": {
            "backgroundcolor": "#E5ECF6",
            "gridcolor": "white",
            "gridwidth": 2,
            "linecolor": "white",
            "showbackground": true,
            "ticks": "",
            "zerolinecolor": "white"
           }
          },
          "shapedefaults": {
           "line": {
            "color": "#2a3f5f"
           }
          },
          "ternary": {
           "aaxis": {
            "gridcolor": "white",
            "linecolor": "white",
            "ticks": ""
           },
           "baxis": {
            "gridcolor": "white",
            "linecolor": "white",
            "ticks": ""
           },
           "bgcolor": "#E5ECF6",
           "caxis": {
            "gridcolor": "white",
            "linecolor": "white",
            "ticks": ""
           }
          },
          "title": {
           "x": 0.05
          },
          "xaxis": {
           "automargin": true,
           "gridcolor": "white",
           "linecolor": "white",
           "ticks": "",
           "title": {
            "standoff": 15
           },
           "zerolinecolor": "white",
           "zerolinewidth": 2
          },
          "yaxis": {
           "automargin": true,
           "gridcolor": "white",
           "linecolor": "white",
           "ticks": "",
           "title": {
            "standoff": 15
           },
           "zerolinecolor": "white",
           "zerolinewidth": 2
          }
         }
        },
        "title": {
         "text": "Centroids obtained with Kmeans (k=4) of the first 50 ratings of each user"
        },
        "xaxis": {
         "anchor": "y",
         "domain": [
          0,
          1
         ],
         "title": {
          "text": "category"
         }
        },
        "yaxis": {
         "anchor": "x",
         "domain": [
          0,
          1
         ],
         "title": {
          "text": "Number of beer"
         }
        }
       }
      }
     },
     "metadata": {},
     "output_type": "display_data"
    }
   ],
   "source": [
    "# Final clustering with names!\n",
    "cl_names = df_cluster_beer['cluster'].apply(lambda cl_id : mapping_idx_name[cl_id])\n",
    "fig = px.line(df_cluster_beer, x = \"category\", y = \"Number of beer\", color = cl_names, \n",
    "              title=\"Centroids obtained with Kmeans (k=4) of the first 50 ratings of each user\")\n",
    "fig.show()"
   ]
  },
  {
   "attachments": {},
   "cell_type": "markdown",
   "metadata": {},
   "source": [
    "# Comparison first 50 vs last 50 in the clusters"
   ]
  },
  {
   "cell_type": "code",
   "execution_count": 259,
   "metadata": {},
   "outputs": [
    {
     "data": {
      "text/html": [
       "<div>\n",
       "<style scoped>\n",
       "    .dataframe tbody tr th:only-of-type {\n",
       "        vertical-align: middle;\n",
       "    }\n",
       "\n",
       "    .dataframe tbody tr th {\n",
       "        vertical-align: top;\n",
       "    }\n",
       "\n",
       "    .dataframe thead th {\n",
       "        text-align: right;\n",
       "    }\n",
       "</style>\n",
       "<table border=\"1\" class=\"dataframe\">\n",
       "  <thead>\n",
       "    <tr style=\"text-align: right;\">\n",
       "      <th>category</th>\n",
       "      <th>Bocks</th>\n",
       "      <th>Brown Ales</th>\n",
       "      <th>Dark Ales</th>\n",
       "      <th>Dark Lagers</th>\n",
       "      <th>Hybrid Beers</th>\n",
       "      <th>India Pale Ales</th>\n",
       "      <th>Pale Ales</th>\n",
       "      <th>Pale Lagers</th>\n",
       "      <th>Porters</th>\n",
       "      <th>Specialty Beer</th>\n",
       "      <th>Stouts</th>\n",
       "      <th>Strong Ales</th>\n",
       "      <th>Weird Cocktail</th>\n",
       "      <th>Wheat Beers</th>\n",
       "      <th>Wild/Sour Beers</th>\n",
       "    </tr>\n",
       "    <tr>\n",
       "      <th>user_name</th>\n",
       "      <th></th>\n",
       "      <th></th>\n",
       "      <th></th>\n",
       "      <th></th>\n",
       "      <th></th>\n",
       "      <th></th>\n",
       "      <th></th>\n",
       "      <th></th>\n",
       "      <th></th>\n",
       "      <th></th>\n",
       "      <th></th>\n",
       "      <th></th>\n",
       "      <th></th>\n",
       "      <th></th>\n",
       "      <th></th>\n",
       "    </tr>\n",
       "  </thead>\n",
       "  <tbody>\n",
       "    <tr>\n",
       "      <th>-Rick</th>\n",
       "      <td>0</td>\n",
       "      <td>0</td>\n",
       "      <td>0</td>\n",
       "      <td>0</td>\n",
       "      <td>0</td>\n",
       "      <td>14</td>\n",
       "      <td>4</td>\n",
       "      <td>0</td>\n",
       "      <td>1</td>\n",
       "      <td>0</td>\n",
       "      <td>16</td>\n",
       "      <td>7</td>\n",
       "      <td>0</td>\n",
       "      <td>1</td>\n",
       "      <td>7</td>\n",
       "    </tr>\n",
       "    <tr>\n",
       "      <th>1000lbgrizzly</th>\n",
       "      <td>0</td>\n",
       "      <td>3</td>\n",
       "      <td>2</td>\n",
       "      <td>0</td>\n",
       "      <td>1</td>\n",
       "      <td>10</td>\n",
       "      <td>10</td>\n",
       "      <td>3</td>\n",
       "      <td>1</td>\n",
       "      <td>2</td>\n",
       "      <td>9</td>\n",
       "      <td>2</td>\n",
       "      <td>0</td>\n",
       "      <td>5</td>\n",
       "      <td>2</td>\n",
       "    </tr>\n",
       "    <tr>\n",
       "      <th>1424IpA</th>\n",
       "      <td>0</td>\n",
       "      <td>1</td>\n",
       "      <td>0</td>\n",
       "      <td>0</td>\n",
       "      <td>0</td>\n",
       "      <td>14</td>\n",
       "      <td>9</td>\n",
       "      <td>2</td>\n",
       "      <td>6</td>\n",
       "      <td>1</td>\n",
       "      <td>8</td>\n",
       "      <td>4</td>\n",
       "      <td>0</td>\n",
       "      <td>1</td>\n",
       "      <td>4</td>\n",
       "    </tr>\n",
       "    <tr>\n",
       "      <th>2Xmd</th>\n",
       "      <td>0</td>\n",
       "      <td>0</td>\n",
       "      <td>0</td>\n",
       "      <td>1</td>\n",
       "      <td>1</td>\n",
       "      <td>14</td>\n",
       "      <td>8</td>\n",
       "      <td>4</td>\n",
       "      <td>1</td>\n",
       "      <td>3</td>\n",
       "      <td>5</td>\n",
       "      <td>7</td>\n",
       "      <td>1</td>\n",
       "      <td>3</td>\n",
       "      <td>2</td>\n",
       "    </tr>\n",
       "    <tr>\n",
       "      <th>2ellas</th>\n",
       "      <td>0</td>\n",
       "      <td>3</td>\n",
       "      <td>1</td>\n",
       "      <td>2</td>\n",
       "      <td>0</td>\n",
       "      <td>15</td>\n",
       "      <td>3</td>\n",
       "      <td>10</td>\n",
       "      <td>3</td>\n",
       "      <td>1</td>\n",
       "      <td>6</td>\n",
       "      <td>3</td>\n",
       "      <td>0</td>\n",
       "      <td>2</td>\n",
       "      <td>1</td>\n",
       "    </tr>\n",
       "  </tbody>\n",
       "</table>\n",
       "</div>"
      ],
      "text/plain": [
       "category       Bocks  Brown Ales  Dark Ales  Dark Lagers  Hybrid Beers  \\\n",
       "user_name                                                                \n",
       "-Rick              0           0          0            0             0   \n",
       "1000lbgrizzly      0           3          2            0             1   \n",
       "1424IpA            0           1          0            0             0   \n",
       "2Xmd               0           0          0            1             1   \n",
       "2ellas             0           3          1            2             0   \n",
       "\n",
       "category       India Pale Ales  Pale Ales  Pale Lagers  Porters  \\\n",
       "user_name                                                         \n",
       "-Rick                       14          4            0        1   \n",
       "1000lbgrizzly               10         10            3        1   \n",
       "1424IpA                     14          9            2        6   \n",
       "2Xmd                        14          8            4        1   \n",
       "2ellas                      15          3           10        3   \n",
       "\n",
       "category       Specialty Beer  Stouts  Strong Ales  Weird Cocktail  \\\n",
       "user_name                                                            \n",
       "-Rick                       0      16            7               0   \n",
       "1000lbgrizzly               2       9            2               0   \n",
       "1424IpA                     1       8            4               0   \n",
       "2Xmd                        3       5            7               1   \n",
       "2ellas                      1       6            3               0   \n",
       "\n",
       "category       Wheat Beers  Wild/Sour Beers  \n",
       "user_name                                    \n",
       "-Rick                    1                7  \n",
       "1000lbgrizzly            5                2  \n",
       "1424IpA                  1                4  \n",
       "2Xmd                     3                2  \n",
       "2ellas                   2                1  "
      ]
     },
     "execution_count": 259,
     "metadata": {},
     "output_type": "execute_result"
    }
   ],
   "source": [
    "# How many beers of different categories a user rated in his last 50 ratings\n",
    "\n",
    "df_ratings_last = df_valid_ratings[df_valid_ratings[\"rating_number\"] >= 450]\n",
    "user_to_cat_last = df_ratings_last.groupby([\"user_name\", \"category\"])[\"beer_id\"].count()\n",
    "user_to_cat_last = user_to_cat_last.unstack(level=-1, fill_value = 0)\n",
    "user_to_cat_last.head(5)"
   ]
  },
  {
   "cell_type": "code",
   "execution_count": 260,
   "metadata": {},
   "outputs": [
    {
     "data": {
      "text/html": [
       "<div>\n",
       "<style scoped>\n",
       "    .dataframe tbody tr th:only-of-type {\n",
       "        vertical-align: middle;\n",
       "    }\n",
       "\n",
       "    .dataframe tbody tr th {\n",
       "        vertical-align: top;\n",
       "    }\n",
       "\n",
       "    .dataframe thead th {\n",
       "        text-align: right;\n",
       "    }\n",
       "</style>\n",
       "<table border=\"1\" class=\"dataframe\">\n",
       "  <thead>\n",
       "    <tr style=\"text-align: right;\">\n",
       "      <th>category</th>\n",
       "      <th>Bocks</th>\n",
       "      <th>Brown Ales</th>\n",
       "      <th>Dark Ales</th>\n",
       "      <th>Dark Lagers</th>\n",
       "      <th>Hybrid Beers</th>\n",
       "      <th>India Pale Ales</th>\n",
       "      <th>Pale Ales</th>\n",
       "      <th>Pale Lagers</th>\n",
       "      <th>Porters</th>\n",
       "      <th>Specialty Beer</th>\n",
       "      <th>Stouts</th>\n",
       "      <th>Strong Ales</th>\n",
       "      <th>Weird Cocktail</th>\n",
       "      <th>Wheat Beers</th>\n",
       "      <th>Wild/Sour Beers</th>\n",
       "      <th>first_50_cluster</th>\n",
       "    </tr>\n",
       "    <tr>\n",
       "      <th>user_name</th>\n",
       "      <th></th>\n",
       "      <th></th>\n",
       "      <th></th>\n",
       "      <th></th>\n",
       "      <th></th>\n",
       "      <th></th>\n",
       "      <th></th>\n",
       "      <th></th>\n",
       "      <th></th>\n",
       "      <th></th>\n",
       "      <th></th>\n",
       "      <th></th>\n",
       "      <th></th>\n",
       "      <th></th>\n",
       "      <th></th>\n",
       "      <th></th>\n",
       "    </tr>\n",
       "  </thead>\n",
       "  <tbody>\n",
       "    <tr>\n",
       "      <th>-Rick</th>\n",
       "      <td>0</td>\n",
       "      <td>2</td>\n",
       "      <td>0</td>\n",
       "      <td>2</td>\n",
       "      <td>0</td>\n",
       "      <td>29</td>\n",
       "      <td>7</td>\n",
       "      <td>2</td>\n",
       "      <td>2</td>\n",
       "      <td>2</td>\n",
       "      <td>3</td>\n",
       "      <td>1</td>\n",
       "      <td>0</td>\n",
       "      <td>0</td>\n",
       "      <td>0</td>\n",
       "      <td>0</td>\n",
       "    </tr>\n",
       "    <tr>\n",
       "      <th>1000lbgrizzly</th>\n",
       "      <td>0</td>\n",
       "      <td>5</td>\n",
       "      <td>0</td>\n",
       "      <td>1</td>\n",
       "      <td>0</td>\n",
       "      <td>4</td>\n",
       "      <td>9</td>\n",
       "      <td>7</td>\n",
       "      <td>2</td>\n",
       "      <td>8</td>\n",
       "      <td>6</td>\n",
       "      <td>4</td>\n",
       "      <td>0</td>\n",
       "      <td>3</td>\n",
       "      <td>1</td>\n",
       "      <td>1</td>\n",
       "    </tr>\n",
       "    <tr>\n",
       "      <th>1424IpA</th>\n",
       "      <td>0</td>\n",
       "      <td>0</td>\n",
       "      <td>1</td>\n",
       "      <td>0</td>\n",
       "      <td>0</td>\n",
       "      <td>21</td>\n",
       "      <td>3</td>\n",
       "      <td>1</td>\n",
       "      <td>1</td>\n",
       "      <td>1</td>\n",
       "      <td>12</td>\n",
       "      <td>4</td>\n",
       "      <td>0</td>\n",
       "      <td>1</td>\n",
       "      <td>5</td>\n",
       "      <td>0</td>\n",
       "    </tr>\n",
       "    <tr>\n",
       "      <th>2Xmd</th>\n",
       "      <td>0</td>\n",
       "      <td>2</td>\n",
       "      <td>1</td>\n",
       "      <td>1</td>\n",
       "      <td>0</td>\n",
       "      <td>25</td>\n",
       "      <td>5</td>\n",
       "      <td>1</td>\n",
       "      <td>1</td>\n",
       "      <td>2</td>\n",
       "      <td>9</td>\n",
       "      <td>1</td>\n",
       "      <td>0</td>\n",
       "      <td>2</td>\n",
       "      <td>0</td>\n",
       "      <td>0</td>\n",
       "    </tr>\n",
       "    <tr>\n",
       "      <th>2ellas</th>\n",
       "      <td>0</td>\n",
       "      <td>2</td>\n",
       "      <td>1</td>\n",
       "      <td>0</td>\n",
       "      <td>0</td>\n",
       "      <td>31</td>\n",
       "      <td>9</td>\n",
       "      <td>0</td>\n",
       "      <td>0</td>\n",
       "      <td>0</td>\n",
       "      <td>2</td>\n",
       "      <td>4</td>\n",
       "      <td>0</td>\n",
       "      <td>1</td>\n",
       "      <td>0</td>\n",
       "      <td>0</td>\n",
       "    </tr>\n",
       "  </tbody>\n",
       "</table>\n",
       "</div>"
      ],
      "text/plain": [
       "category       Bocks  Brown Ales  Dark Ales  Dark Lagers  Hybrid Beers  \\\n",
       "user_name                                                                \n",
       "-Rick              0           2          0            2             0   \n",
       "1000lbgrizzly      0           5          0            1             0   \n",
       "1424IpA            0           0          1            0             0   \n",
       "2Xmd               0           2          1            1             0   \n",
       "2ellas             0           2          1            0             0   \n",
       "\n",
       "category       India Pale Ales  Pale Ales  Pale Lagers  Porters  \\\n",
       "user_name                                                         \n",
       "-Rick                       29          7            2        2   \n",
       "1000lbgrizzly                4          9            7        2   \n",
       "1424IpA                     21          3            1        1   \n",
       "2Xmd                        25          5            1        1   \n",
       "2ellas                      31          9            0        0   \n",
       "\n",
       "category       Specialty Beer  Stouts  Strong Ales  Weird Cocktail  \\\n",
       "user_name                                                            \n",
       "-Rick                       2       3            1               0   \n",
       "1000lbgrizzly               8       6            4               0   \n",
       "1424IpA                     1      12            4               0   \n",
       "2Xmd                        2       9            1               0   \n",
       "2ellas                      0       2            4               0   \n",
       "\n",
       "category       Wheat Beers  Wild/Sour Beers  first_50_cluster  \n",
       "user_name                                                      \n",
       "-Rick                    0                0                 0  \n",
       "1000lbgrizzly            3                1                 1  \n",
       "1424IpA                  1                5                 0  \n",
       "2Xmd                     2                0                 0  \n",
       "2ellas                   1                0                 0  "
      ]
     },
     "execution_count": 260,
     "metadata": {},
     "output_type": "execute_result"
    }
   ],
   "source": [
    "#We keep track of each user assigned cluster (at the beginning and at the end)\n",
    "\n",
    "user_to_cat_first[\"first_50_cluster\"] = user_clustering_4.labels_\n",
    "user_to_cat_last[\"first_50_cluster\"] = user_clustering_4.labels_\n",
    "\n",
    "user_to_cat_first.head(5)"
   ]
  },
  {
   "cell_type": "code",
   "execution_count": 261,
   "metadata": {},
   "outputs": [],
   "source": [
    "## To be even more confident about our clusters, we bootstrap the data to get 95% confidence intervals.\n",
    "\n",
    "cluster_list=[]\n",
    "cate_list=[]\n",
    "ci_low_mean_first_rating_list=[]\n",
    "ci_high_mean_first_rating_list=[]\n",
    "mean_first_rating_list=[]\n",
    "ci_low_mean_last_rating_list=[]\n",
    "ci_high_mean_last_rating_list=[]\n",
    "mean_last_rating_list=[]\n",
    "t_test_list=[]\n",
    "\n",
    "cluster_team = user_to_cat_first['first_50_cluster'].unique()\n",
    "categ_beer = user_to_cat_first.columns[0:15]\n",
    "\n",
    "for team in cluster_team:\n",
    "\n",
    "    current_team_first_rating = user_to_cat_first[user_to_cat_first['first_50_cluster']==team]\n",
    "    current_team_last_rating = user_to_cat_last[user_to_cat_last['first_50_cluster']==team]\n",
    "\n",
    "    for cate in categ_beer:\n",
    "\n",
    "        current_ttest=ttest_rel(current_team_first_rating[cate],current_team_last_rating[cate])[1]\n",
    "        #if current_ttest<0.05:\n",
    "            #print('the p-value for ttest in the team',team,'for the category',cate,'is',current_ttest)\n",
    "\n",
    "        ci_low_mean_first_rating, ci_high_mean_first_rating = bootstrap((current_team_first_rating[cate].values,), np.mean).confidence_interval\n",
    "        ci_low_mean_last_rating, ci_high_mean_last_rating = bootstrap((current_team_last_rating[cate].values,), np.mean).confidence_interval\n",
    "\n",
    "        mean_first_rating_list.append(current_team_first_rating[cate].mean())\n",
    "        mean_last_rating_list.append(current_team_last_rating[cate].mean())\n",
    "\n",
    "        cluster_list.append(team)\n",
    "        cate_list.append(cate)\n",
    "\n",
    "        ci_low_mean_first_rating_list.append(ci_low_mean_first_rating)\n",
    "        ci_high_mean_first_rating_list.append(ci_high_mean_first_rating)\n",
    "        ci_low_mean_last_rating_list.append(ci_low_mean_last_rating)\n",
    "        ci_high_mean_last_rating_list.append(ci_high_mean_last_rating)\n",
    "        t_test_list.append(current_ttest)"
   ]
  },
  {
   "cell_type": "code",
   "execution_count": 262,
   "metadata": {},
   "outputs": [],
   "source": [
    "conf_inter_cluster = pd.DataFrame({'Cluster' : cluster_list, 'Category' : cate_list, 'CI_low_first_rating':ci_low_mean_first_rating_list,\n",
    "                                'CI_high_first_rating':ci_high_mean_first_rating_list,'mean_first_ratings':mean_first_rating_list,\n",
    "                                'CI_low_last_rating':ci_low_mean_last_rating_list,'CI_high_last_rating':ci_high_mean_last_rating_list,\n",
    "                                'mean_last_ratings':mean_last_rating_list,'t_test':t_test_list})"
   ]
  },
  {
   "cell_type": "code",
   "execution_count": 263,
   "metadata": {},
   "outputs": [],
   "source": [
    "## We also perform bootstrapping on all users (without clustering)\n",
    "\n",
    "cate_list=[]\n",
    "ci_low_mean_first_rating_list=[]\n",
    "ci_high_mean_first_rating_list=[]\n",
    "mean_first_rating_list=[]\n",
    "ci_low_mean_last_rating_list=[]\n",
    "ci_high_mean_last_rating_list=[]\n",
    "mean_last_rating_list=[]\n",
    "t_test_list=[]\n",
    "categ_beer = user_to_cat_first.columns[0:15]\n",
    "\n",
    "for cate in categ_beer:\n",
    "\n",
    "    current_ttest=ttest_rel(user_to_cat_first[cate],user_to_cat_last[cate])[1]\n",
    "    #if current_ttest<0.05:\n",
    "    #print('the p-value for ttest in the team',team,'for the category',cate,'is',current_ttest)\n",
    "    ci_low_mean_first_rating, ci_high_mean_first_rating = bootstrap(\n",
    "        (user_to_cat_first[cate].values,), np.mean\n",
    "    ).confidence_interval\n",
    "    ci_low_mean_last_rating, ci_high_mean_last_rating = bootstrap(\n",
    "        (user_to_cat_last[cate].values,), np.mean\n",
    "    ).confidence_interval\n",
    "    mean_first_rating_list.append(user_to_cat_first[cate].mean())\n",
    "    mean_last_rating_list.append(user_to_cat_last[cate].mean())\n",
    "    cate_list.append(cate)\n",
    "    ci_low_mean_first_rating_list.append(ci_low_mean_first_rating)\n",
    "    ci_high_mean_first_rating_list.append(ci_high_mean_first_rating)\n",
    "    ci_low_mean_last_rating_list.append(ci_low_mean_last_rating)\n",
    "    ci_high_mean_last_rating_list.append(ci_high_mean_last_rating)\n",
    "    t_test_list.append(current_ttest)"
   ]
  },
  {
   "cell_type": "code",
   "execution_count": 264,
   "metadata": {},
   "outputs": [
    {
     "data": {
      "text/html": [
       "<div>\n",
       "<style scoped>\n",
       "    .dataframe tbody tr th:only-of-type {\n",
       "        vertical-align: middle;\n",
       "    }\n",
       "\n",
       "    .dataframe tbody tr th {\n",
       "        vertical-align: top;\n",
       "    }\n",
       "\n",
       "    .dataframe thead th {\n",
       "        text-align: right;\n",
       "    }\n",
       "</style>\n",
       "<table border=\"1\" class=\"dataframe\">\n",
       "  <thead>\n",
       "    <tr style=\"text-align: right;\">\n",
       "      <th></th>\n",
       "      <th>Category</th>\n",
       "      <th>CI_low_first_rating</th>\n",
       "      <th>CI_high_first_rating</th>\n",
       "      <th>mean_first_ratings</th>\n",
       "      <th>CI_low_last_rating</th>\n",
       "      <th>CI_high_last_rating</th>\n",
       "      <th>mean_last_ratings</th>\n",
       "      <th>t_test</th>\n",
       "      <th>Cluster</th>\n",
       "    </tr>\n",
       "  </thead>\n",
       "  <tbody>\n",
       "    <tr>\n",
       "      <th>0</th>\n",
       "      <td>Bocks</td>\n",
       "      <td>1.158763</td>\n",
       "      <td>1.339175</td>\n",
       "      <td>1.247423</td>\n",
       "      <td>0.854639</td>\n",
       "      <td>1.020619</td>\n",
       "      <td>0.932990</td>\n",
       "      <td>1.040049e-08</td>\n",
       "      <td>All</td>\n",
       "    </tr>\n",
       "    <tr>\n",
       "      <th>1</th>\n",
       "      <td>Brown Ales</td>\n",
       "      <td>2.534021</td>\n",
       "      <td>2.791753</td>\n",
       "      <td>2.661856</td>\n",
       "      <td>1.974227</td>\n",
       "      <td>2.192784</td>\n",
       "      <td>2.082474</td>\n",
       "      <td>9.232355e-14</td>\n",
       "      <td>All</td>\n",
       "    </tr>\n",
       "    <tr>\n",
       "      <th>2</th>\n",
       "      <td>Dark Ales</td>\n",
       "      <td>1.135086</td>\n",
       "      <td>1.314433</td>\n",
       "      <td>1.224742</td>\n",
       "      <td>0.761856</td>\n",
       "      <td>0.913402</td>\n",
       "      <td>0.837113</td>\n",
       "      <td>5.993624e-13</td>\n",
       "      <td>All</td>\n",
       "    </tr>\n",
       "    <tr>\n",
       "      <th>3</th>\n",
       "      <td>Dark Lagers</td>\n",
       "      <td>1.271134</td>\n",
       "      <td>1.475258</td>\n",
       "      <td>1.371134</td>\n",
       "      <td>0.722680</td>\n",
       "      <td>0.860825</td>\n",
       "      <td>0.790722</td>\n",
       "      <td>8.970276e-25</td>\n",
       "      <td>All</td>\n",
       "    </tr>\n",
       "    <tr>\n",
       "      <th>4</th>\n",
       "      <td>Hybrid Beers</td>\n",
       "      <td>0.272165</td>\n",
       "      <td>0.342268</td>\n",
       "      <td>0.307216</td>\n",
       "      <td>0.277320</td>\n",
       "      <td>0.348454</td>\n",
       "      <td>0.312371</td>\n",
       "      <td>8.332273e-01</td>\n",
       "      <td>All</td>\n",
       "    </tr>\n",
       "  </tbody>\n",
       "</table>\n",
       "</div>"
      ],
      "text/plain": [
       "       Category  CI_low_first_rating  CI_high_first_rating  \\\n",
       "0         Bocks             1.158763              1.339175   \n",
       "1    Brown Ales             2.534021              2.791753   \n",
       "2     Dark Ales             1.135086              1.314433   \n",
       "3   Dark Lagers             1.271134              1.475258   \n",
       "4  Hybrid Beers             0.272165              0.342268   \n",
       "\n",
       "   mean_first_ratings  CI_low_last_rating  CI_high_last_rating  \\\n",
       "0            1.247423            0.854639             1.020619   \n",
       "1            2.661856            1.974227             2.192784   \n",
       "2            1.224742            0.761856             0.913402   \n",
       "3            1.371134            0.722680             0.860825   \n",
       "4            0.307216            0.277320             0.348454   \n",
       "\n",
       "   mean_last_ratings        t_test Cluster  \n",
       "0           0.932990  1.040049e-08     All  \n",
       "1           2.082474  9.232355e-14     All  \n",
       "2           0.837113  5.993624e-13     All  \n",
       "3           0.790722  8.970276e-25     All  \n",
       "4           0.312371  8.332273e-01     All  "
      ]
     },
     "execution_count": 264,
     "metadata": {},
     "output_type": "execute_result"
    }
   ],
   "source": [
    "conf_inter_all= pd.DataFrame({ 'Category' : cate_list, 'CI_low_first_rating':ci_low_mean_first_rating_list,\n",
    "                    'CI_high_first_rating':ci_high_mean_first_rating_list,'mean_first_ratings':mean_first_rating_list,\n",
    "                    'CI_low_last_rating':ci_low_mean_last_rating_list,'CI_high_last_rating':ci_high_mean_last_rating_list,\n",
    "                    'mean_last_ratings':mean_last_rating_list,'t_test':t_test_list})\n",
    "conf_inter_all['Cluster'] = 'All'\n",
    "conf_inter_all.head(5)"
   ]
  },
  {
   "cell_type": "code",
   "execution_count": 265,
   "metadata": {},
   "outputs": [
    {
     "data": {
      "text/html": [
       "<div>\n",
       "<style scoped>\n",
       "    .dataframe tbody tr th:only-of-type {\n",
       "        vertical-align: middle;\n",
       "    }\n",
       "\n",
       "    .dataframe tbody tr th {\n",
       "        vertical-align: top;\n",
       "    }\n",
       "\n",
       "    .dataframe thead th {\n",
       "        text-align: right;\n",
       "    }\n",
       "</style>\n",
       "<table border=\"1\" class=\"dataframe\">\n",
       "  <thead>\n",
       "    <tr style=\"text-align: right;\">\n",
       "      <th></th>\n",
       "      <th>Category</th>\n",
       "      <th>CI_low_first_rating</th>\n",
       "      <th>CI_high_first_rating</th>\n",
       "      <th>mean_first_ratings</th>\n",
       "      <th>CI_low_last_rating</th>\n",
       "      <th>CI_high_last_rating</th>\n",
       "      <th>mean_last_ratings</th>\n",
       "      <th>t_test</th>\n",
       "      <th>Cluster</th>\n",
       "    </tr>\n",
       "  </thead>\n",
       "  <tbody>\n",
       "    <tr>\n",
       "      <th>0</th>\n",
       "      <td>Bocks</td>\n",
       "      <td>1.158763</td>\n",
       "      <td>1.339175</td>\n",
       "      <td>1.247423</td>\n",
       "      <td>0.854639</td>\n",
       "      <td>1.020619</td>\n",
       "      <td>0.932990</td>\n",
       "      <td>1.040049e-08</td>\n",
       "      <td>All</td>\n",
       "    </tr>\n",
       "    <tr>\n",
       "      <th>1</th>\n",
       "      <td>Brown Ales</td>\n",
       "      <td>2.534021</td>\n",
       "      <td>2.791753</td>\n",
       "      <td>2.661856</td>\n",
       "      <td>1.974227</td>\n",
       "      <td>2.192784</td>\n",
       "      <td>2.082474</td>\n",
       "      <td>9.232355e-14</td>\n",
       "      <td>All</td>\n",
       "    </tr>\n",
       "    <tr>\n",
       "      <th>2</th>\n",
       "      <td>Dark Ales</td>\n",
       "      <td>1.135086</td>\n",
       "      <td>1.314433</td>\n",
       "      <td>1.224742</td>\n",
       "      <td>0.761856</td>\n",
       "      <td>0.913402</td>\n",
       "      <td>0.837113</td>\n",
       "      <td>5.993624e-13</td>\n",
       "      <td>All</td>\n",
       "    </tr>\n",
       "    <tr>\n",
       "      <th>3</th>\n",
       "      <td>Dark Lagers</td>\n",
       "      <td>1.271134</td>\n",
       "      <td>1.475258</td>\n",
       "      <td>1.371134</td>\n",
       "      <td>0.722680</td>\n",
       "      <td>0.860825</td>\n",
       "      <td>0.790722</td>\n",
       "      <td>8.970276e-25</td>\n",
       "      <td>All</td>\n",
       "    </tr>\n",
       "    <tr>\n",
       "      <th>4</th>\n",
       "      <td>Hybrid Beers</td>\n",
       "      <td>0.272165</td>\n",
       "      <td>0.342268</td>\n",
       "      <td>0.307216</td>\n",
       "      <td>0.277320</td>\n",
       "      <td>0.348454</td>\n",
       "      <td>0.312371</td>\n",
       "      <td>8.332273e-01</td>\n",
       "      <td>All</td>\n",
       "    </tr>\n",
       "  </tbody>\n",
       "</table>\n",
       "</div>"
      ],
      "text/plain": [
       "       Category  CI_low_first_rating  CI_high_first_rating  \\\n",
       "0         Bocks             1.158763              1.339175   \n",
       "1    Brown Ales             2.534021              2.791753   \n",
       "2     Dark Ales             1.135086              1.314433   \n",
       "3   Dark Lagers             1.271134              1.475258   \n",
       "4  Hybrid Beers             0.272165              0.342268   \n",
       "\n",
       "   mean_first_ratings  CI_low_last_rating  CI_high_last_rating  \\\n",
       "0            1.247423            0.854639             1.020619   \n",
       "1            2.661856            1.974227             2.192784   \n",
       "2            1.224742            0.761856             0.913402   \n",
       "3            1.371134            0.722680             0.860825   \n",
       "4            0.307216            0.277320             0.348454   \n",
       "\n",
       "   mean_last_ratings        t_test Cluster  \n",
       "0           0.932990  1.040049e-08     All  \n",
       "1           2.082474  9.232355e-14     All  \n",
       "2           0.837113  5.993624e-13     All  \n",
       "3           0.790722  8.970276e-25     All  \n",
       "4           0.312371  8.332273e-01     All  "
      ]
     },
     "execution_count": 265,
     "metadata": {},
     "output_type": "execute_result"
    }
   ],
   "source": [
    "df_conf_inter = pd.concat([conf_inter_all, conf_inter_cluster], ignore_index = True)\n",
    "df_conf_inter.head(5)"
   ]
  },
  {
   "cell_type": "code",
   "execution_count": 266,
   "metadata": {},
   "outputs": [
    {
     "data": {
      "text/html": [
       "<div>\n",
       "<style scoped>\n",
       "    .dataframe tbody tr th:only-of-type {\n",
       "        vertical-align: middle;\n",
       "    }\n",
       "\n",
       "    .dataframe tbody tr th {\n",
       "        vertical-align: top;\n",
       "    }\n",
       "\n",
       "    .dataframe thead th {\n",
       "        text-align: right;\n",
       "    }\n",
       "</style>\n",
       "<table border=\"1\" class=\"dataframe\">\n",
       "  <thead>\n",
       "    <tr style=\"text-align: right;\">\n",
       "      <th></th>\n",
       "      <th>(CI_low_first_rating, 0)</th>\n",
       "      <th>(CI_low_first_rating, 1)</th>\n",
       "      <th>(CI_low_first_rating, 2)</th>\n",
       "      <th>(CI_low_first_rating, 3)</th>\n",
       "      <th>(CI_low_first_rating, All)</th>\n",
       "      <th>(CI_high_first_rating, 0)</th>\n",
       "      <th>(CI_high_first_rating, 1)</th>\n",
       "      <th>(CI_high_first_rating, 2)</th>\n",
       "      <th>(CI_high_first_rating, 3)</th>\n",
       "      <th>(CI_high_first_rating, All)</th>\n",
       "      <th>...</th>\n",
       "      <th>(mean_last_ratings, 0)</th>\n",
       "      <th>(mean_last_ratings, 1)</th>\n",
       "      <th>(mean_last_ratings, 2)</th>\n",
       "      <th>(mean_last_ratings, 3)</th>\n",
       "      <th>(mean_last_ratings, All)</th>\n",
       "      <th>(t_test, 0)</th>\n",
       "      <th>(t_test, 1)</th>\n",
       "      <th>(t_test, 2)</th>\n",
       "      <th>(t_test, 3)</th>\n",
       "      <th>(t_test, All)</th>\n",
       "    </tr>\n",
       "    <tr>\n",
       "      <th>Category</th>\n",
       "      <th></th>\n",
       "      <th></th>\n",
       "      <th></th>\n",
       "      <th></th>\n",
       "      <th></th>\n",
       "      <th></th>\n",
       "      <th></th>\n",
       "      <th></th>\n",
       "      <th></th>\n",
       "      <th></th>\n",
       "      <th></th>\n",
       "      <th></th>\n",
       "      <th></th>\n",
       "      <th></th>\n",
       "      <th></th>\n",
       "      <th></th>\n",
       "      <th></th>\n",
       "      <th></th>\n",
       "      <th></th>\n",
       "      <th></th>\n",
       "      <th></th>\n",
       "    </tr>\n",
       "  </thead>\n",
       "  <tbody>\n",
       "    <tr>\n",
       "      <th>Bocks</th>\n",
       "      <td>0.493724</td>\n",
       "      <td>1.517766</td>\n",
       "      <td>1.539007</td>\n",
       "      <td>0.673469</td>\n",
       "      <td>1.158763</td>\n",
       "      <td>0.715481</td>\n",
       "      <td>1.817259</td>\n",
       "      <td>2.092199</td>\n",
       "      <td>0.969388</td>\n",
       "      <td>1.339175</td>\n",
       "      <td>...</td>\n",
       "      <td>0.531381</td>\n",
       "      <td>1.116751</td>\n",
       "      <td>1.631206</td>\n",
       "      <td>0.551020</td>\n",
       "      <td>0.932990</td>\n",
       "      <td>0.378103</td>\n",
       "      <td>1.210879e-08</td>\n",
       "      <td>4.189340e-01</td>\n",
       "      <td>0.002002</td>\n",
       "      <td>1.040049e-08</td>\n",
       "    </tr>\n",
       "    <tr>\n",
       "      <th>Brown Ales</th>\n",
       "      <td>1.543933</td>\n",
       "      <td>3.076142</td>\n",
       "      <td>2.397163</td>\n",
       "      <td>2.224490</td>\n",
       "      <td>2.534021</td>\n",
       "      <td>1.925201</td>\n",
       "      <td>3.489848</td>\n",
       "      <td>3.070922</td>\n",
       "      <td>2.795918</td>\n",
       "      <td>2.791753</td>\n",
       "      <td>...</td>\n",
       "      <td>1.263598</td>\n",
       "      <td>2.489848</td>\n",
       "      <td>2.617021</td>\n",
       "      <td>1.877551</td>\n",
       "      <td>2.082474</td>\n",
       "      <td>0.000191</td>\n",
       "      <td>1.567179e-09</td>\n",
       "      <td>6.209248e-01</td>\n",
       "      <td>0.000374</td>\n",
       "      <td>9.232355e-14</td>\n",
       "    </tr>\n",
       "    <tr>\n",
       "      <th>Dark Ales</th>\n",
       "      <td>0.510460</td>\n",
       "      <td>1.505076</td>\n",
       "      <td>1.198582</td>\n",
       "      <td>0.794748</td>\n",
       "      <td>1.135086</td>\n",
       "      <td>0.736402</td>\n",
       "      <td>1.812183</td>\n",
       "      <td>1.680851</td>\n",
       "      <td>1.139349</td>\n",
       "      <td>1.314433</td>\n",
       "      <td>...</td>\n",
       "      <td>0.451883</td>\n",
       "      <td>1.050761</td>\n",
       "      <td>1.219858</td>\n",
       "      <td>0.602041</td>\n",
       "      <td>0.837113</td>\n",
       "      <td>0.023793</td>\n",
       "      <td>3.901109e-10</td>\n",
       "      <td>2.220434e-01</td>\n",
       "      <td>0.000568</td>\n",
       "      <td>5.993624e-13</td>\n",
       "    </tr>\n",
       "    <tr>\n",
       "      <th>Dark Lagers</th>\n",
       "      <td>0.447699</td>\n",
       "      <td>1.388325</td>\n",
       "      <td>3.035461</td>\n",
       "      <td>0.505102</td>\n",
       "      <td>1.271134</td>\n",
       "      <td>0.669456</td>\n",
       "      <td>1.672589</td>\n",
       "      <td>3.666667</td>\n",
       "      <td>0.780612</td>\n",
       "      <td>1.475258</td>\n",
       "      <td>...</td>\n",
       "      <td>0.489540</td>\n",
       "      <td>0.923858</td>\n",
       "      <td>1.269504</td>\n",
       "      <td>0.545918</td>\n",
       "      <td>0.790722</td>\n",
       "      <td>0.424669</td>\n",
       "      <td>4.049361e-12</td>\n",
       "      <td>1.775291e-21</td>\n",
       "      <td>0.346989</td>\n",
       "      <td>8.970276e-25</td>\n",
       "    </tr>\n",
       "    <tr>\n",
       "      <th>Hybrid Beers</th>\n",
       "      <td>0.171548</td>\n",
       "      <td>0.281726</td>\n",
       "      <td>0.276596</td>\n",
       "      <td>0.209184</td>\n",
       "      <td>0.272165</td>\n",
       "      <td>0.301255</td>\n",
       "      <td>0.393401</td>\n",
       "      <td>0.492549</td>\n",
       "      <td>0.357143</td>\n",
       "      <td>0.342268</td>\n",
       "      <td>...</td>\n",
       "      <td>0.246862</td>\n",
       "      <td>0.390863</td>\n",
       "      <td>0.297872</td>\n",
       "      <td>0.244898</td>\n",
       "      <td>0.312371</td>\n",
       "      <td>0.790709</td>\n",
       "      <td>1.923013e-01</td>\n",
       "      <td>2.219053e-01</td>\n",
       "      <td>0.438106</td>\n",
       "      <td>8.332273e-01</td>\n",
       "    </tr>\n",
       "  </tbody>\n",
       "</table>\n",
       "<p>5 rows × 35 columns</p>\n",
       "</div>"
      ],
      "text/plain": [
       "              (CI_low_first_rating, 0)  (CI_low_first_rating, 1)  \\\n",
       "Category                                                           \n",
       "Bocks                         0.493724                  1.517766   \n",
       "Brown Ales                    1.543933                  3.076142   \n",
       "Dark Ales                     0.510460                  1.505076   \n",
       "Dark Lagers                   0.447699                  1.388325   \n",
       "Hybrid Beers                  0.171548                  0.281726   \n",
       "\n",
       "              (CI_low_first_rating, 2)  (CI_low_first_rating, 3)  \\\n",
       "Category                                                           \n",
       "Bocks                         1.539007                  0.673469   \n",
       "Brown Ales                    2.397163                  2.224490   \n",
       "Dark Ales                     1.198582                  0.794748   \n",
       "Dark Lagers                   3.035461                  0.505102   \n",
       "Hybrid Beers                  0.276596                  0.209184   \n",
       "\n",
       "              (CI_low_first_rating, All)  (CI_high_first_rating, 0)  \\\n",
       "Category                                                              \n",
       "Bocks                           1.158763                   0.715481   \n",
       "Brown Ales                      2.534021                   1.925201   \n",
       "Dark Ales                       1.135086                   0.736402   \n",
       "Dark Lagers                     1.271134                   0.669456   \n",
       "Hybrid Beers                    0.272165                   0.301255   \n",
       "\n",
       "              (CI_high_first_rating, 1)  (CI_high_first_rating, 2)  \\\n",
       "Category                                                             \n",
       "Bocks                          1.817259                   2.092199   \n",
       "Brown Ales                     3.489848                   3.070922   \n",
       "Dark Ales                      1.812183                   1.680851   \n",
       "Dark Lagers                    1.672589                   3.666667   \n",
       "Hybrid Beers                   0.393401                   0.492549   \n",
       "\n",
       "              (CI_high_first_rating, 3)  (CI_high_first_rating, All)  ...  \\\n",
       "Category                                                              ...   \n",
       "Bocks                          0.969388                     1.339175  ...   \n",
       "Brown Ales                     2.795918                     2.791753  ...   \n",
       "Dark Ales                      1.139349                     1.314433  ...   \n",
       "Dark Lagers                    0.780612                     1.475258  ...   \n",
       "Hybrid Beers                   0.357143                     0.342268  ...   \n",
       "\n",
       "              (mean_last_ratings, 0)  (mean_last_ratings, 1)  \\\n",
       "Category                                                       \n",
       "Bocks                       0.531381                1.116751   \n",
       "Brown Ales                  1.263598                2.489848   \n",
       "Dark Ales                   0.451883                1.050761   \n",
       "Dark Lagers                 0.489540                0.923858   \n",
       "Hybrid Beers                0.246862                0.390863   \n",
       "\n",
       "              (mean_last_ratings, 2)  (mean_last_ratings, 3)  \\\n",
       "Category                                                       \n",
       "Bocks                       1.631206                0.551020   \n",
       "Brown Ales                  2.617021                1.877551   \n",
       "Dark Ales                   1.219858                0.602041   \n",
       "Dark Lagers                 1.269504                0.545918   \n",
       "Hybrid Beers                0.297872                0.244898   \n",
       "\n",
       "              (mean_last_ratings, All)  (t_test, 0)   (t_test, 1)  \\\n",
       "Category                                                            \n",
       "Bocks                         0.932990     0.378103  1.210879e-08   \n",
       "Brown Ales                    2.082474     0.000191  1.567179e-09   \n",
       "Dark Ales                     0.837113     0.023793  3.901109e-10   \n",
       "Dark Lagers                   0.790722     0.424669  4.049361e-12   \n",
       "Hybrid Beers                  0.312371     0.790709  1.923013e-01   \n",
       "\n",
       "               (t_test, 2)  (t_test, 3)  (t_test, All)  \n",
       "Category                                                \n",
       "Bocks         4.189340e-01     0.002002   1.040049e-08  \n",
       "Brown Ales    6.209248e-01     0.000374   9.232355e-14  \n",
       "Dark Ales     2.220434e-01     0.000568   5.993624e-13  \n",
       "Dark Lagers   1.775291e-21     0.346989   8.970276e-25  \n",
       "Hybrid Beers  2.219053e-01     0.438106   8.332273e-01  \n",
       "\n",
       "[5 rows x 35 columns]"
      ]
     },
     "execution_count": 266,
     "metadata": {},
     "output_type": "execute_result"
    }
   ],
   "source": [
    "df_pivot = df_conf_inter.pivot(index='Category', columns='Cluster')\n",
    "df_pivot.columns = df_pivot.columns.to_flat_index()\n",
    "df_pivot.head(5)"
   ]
  },
  {
   "cell_type": "code",
   "execution_count": 267,
   "metadata": {},
   "outputs": [],
   "source": [
    "df_means = df_pivot.iloc[:,10:15]"
   ]
  },
  {
   "cell_type": "code",
   "execution_count": 268,
   "metadata": {},
   "outputs": [
    {
     "data": {
      "application/vnd.plotly.v1+json": {
       "config": {
        "plotlyServerURL": "https://plot.ly"
       },
       "data": [
        {
         "line": {
          "color": "rgb(239,85,59)"
         },
         "mode": "lines",
         "name": "last 50 beers",
         "showlegend": true,
         "type": "scatter",
         "visible": true,
         "x": [
          "Bocks",
          "Brown Ales",
          "Dark Ales",
          "Dark Lagers",
          "Hybrid Beers",
          "India Pale Ales",
          "Pale Ales",
          "Pale Lagers",
          "Porters",
          "Specialty Beer",
          "Stouts",
          "Strong Ales",
          "Weird Cocktail",
          "Wheat Beers",
          "Wild/Sour Beers"
         ],
         "y": [
          0.9329896907216495,
          2.082474226804124,
          0.8371134020618557,
          0.790721649484536,
          0.31237113402061856,
          12.076288659793814,
          8.402061855670103,
          2.8824742268041237,
          2.2103092783505156,
          1.5257731958762886,
          7.223711340206186,
          4.818556701030928,
          0.021649484536082474,
          2.2824742268041236,
          3.6010309278350516
         ]
        },
        {
         "fillcolor": "rgba(239,85,59,0.3)",
         "line": {
          "width": 0
         },
         "mode": "lines",
         "name": "first, CI Low",
         "showlegend": false,
         "type": "scatter",
         "visible": true,
         "x": [
          "Bocks",
          "Brown Ales",
          "Dark Ales",
          "Dark Lagers",
          "Hybrid Beers",
          "India Pale Ales",
          "Pale Ales",
          "Pale Lagers",
          "Porters",
          "Specialty Beer",
          "Stouts",
          "Strong Ales",
          "Weird Cocktail",
          "Wheat Beers",
          "Wild/Sour Beers"
         ],
         "y": [
          0.8546391752577319,
          1.9742268041237114,
          0.7618556701030927,
          0.722680412371134,
          0.277319587628866,
          11.655986321627253,
          8.15979381443299,
          2.7041237113402063,
          2.1,
          1.4195876288659794,
          6.934020618556701,
          4.617525773195876,
          0.013402061855670102,
          2.160824742268041,
          3.3556701030927836
         ]
        },
        {
         "fill": "tonexty",
         "fillcolor": "rgba(239,85,59,0.3)",
         "line": {
          "width": 0
         },
         "mode": "lines",
         "name": "first, CI high",
         "showlegend": false,
         "type": "scatter",
         "visible": true,
         "x": [
          "Bocks",
          "Brown Ales",
          "Dark Ales",
          "Dark Lagers",
          "Hybrid Beers",
          "India Pale Ales",
          "Pale Ales",
          "Pale Lagers",
          "Porters",
          "Specialty Beer",
          "Stouts",
          "Strong Ales",
          "Weird Cocktail",
          "Wheat Beers",
          "Wild/Sour Beers"
         ],
         "y": [
          1.0206185567010309,
          2.1927835051546394,
          0.9134020618556701,
          0.8608247422680413,
          0.34845360824742266,
          12.529896907216495,
          8.644329896907216,
          3.084166265022489,
          2.318556701030928,
          1.6432989690721649,
          7.543298969072165,
          5.028865979381443,
          0.030927835051546393,
          2.41581234698991,
          3.8783505154639175
         ]
        },
        {
         "line": {
          "color": "rgb(0,204,150)"
         },
         "mode": "lines",
         "name": "first 50 beers",
         "showlegend": true,
         "type": "scatter",
         "visible": true,
         "x": [
          "Bocks",
          "Brown Ales",
          "Dark Ales",
          "Dark Lagers",
          "Hybrid Beers",
          "India Pale Ales",
          "Pale Ales",
          "Pale Lagers",
          "Porters",
          "Specialty Beer",
          "Stouts",
          "Strong Ales",
          "Weird Cocktail",
          "Wheat Beers",
          "Wild/Sour Beers"
         ],
         "y": [
          1.2474226804123711,
          2.6618556701030927,
          1.2247422680412372,
          1.3711340206185567,
          0.30721649484536084,
          11.427835051546392,
          7.752577319587629,
          4.309278350515464,
          2.118556701030928,
          1.48659793814433,
          6.77319587628866,
          5.315463917525773,
          0.06701030927835051,
          2.936082474226804,
          1.0010309278350515
         ]
        },
        {
         "fillcolor": "rgba(0,204,150,0.3)",
         "line": {
          "width": 0
         },
         "mode": "lines",
         "name": "first, CI Low",
         "showlegend": false,
         "type": "scatter",
         "visible": true,
         "x": [
          "Bocks",
          "Brown Ales",
          "Dark Ales",
          "Dark Lagers",
          "Hybrid Beers",
          "India Pale Ales",
          "Pale Ales",
          "Pale Lagers",
          "Porters",
          "Specialty Beer",
          "Stouts",
          "Strong Ales",
          "Weird Cocktail",
          "Wheat Beers",
          "Wild/Sour Beers"
         ],
         "y": [
          1.1587628865979382,
          2.534020618556701,
          1.135085669366151,
          1.2711340206185566,
          0.2721649484536082,
          10.911340206185567,
          7.521649484536082,
          4.006185567010309,
          2.0061855670103093,
          1.3762886597938144,
          6.444329896907217,
          5.10721649484536,
          0.05154639175257732,
          2.775257731958763,
          0.8804123711340206
         ]
        },
        {
         "fill": "tonexty",
         "fillcolor": "rgba(0,204,150,0.3)",
         "line": {
          "width": 0
         },
         "mode": "lines",
         "name": "first, CI High",
         "showlegend": false,
         "type": "scatter",
         "visible": true,
         "x": [
          "Bocks",
          "Brown Ales",
          "Dark Ales",
          "Dark Lagers",
          "Hybrid Beers",
          "India Pale Ales",
          "Pale Ales",
          "Pale Lagers",
          "Porters",
          "Specialty Beer",
          "Stouts",
          "Strong Ales",
          "Weird Cocktail",
          "Wheat Beers",
          "Wild/Sour Beers"
         ],
         "y": [
          1.3391752577319587,
          2.7917525773195875,
          1.3144329896907216,
          1.475257731958763,
          0.3422680412371134,
          11.938144329896907,
          7.988659793814433,
          4.637113402061856,
          2.241237113402062,
          1.609278350515464,
          7.125773195876289,
          5.533972052092363,
          0.08350515463917525,
          3.1043132581278696,
          1.1422680412371133
         ]
        },
        {
         "line": {
          "color": "rgb(239,85,59)"
         },
         "mode": "lines",
         "name": "last 50 beers",
         "showlegend": true,
         "type": "scatter",
         "visible": false,
         "x": [
          "Bocks",
          "Brown Ales",
          "Dark Ales",
          "Dark Lagers",
          "Hybrid Beers",
          "India Pale Ales",
          "Pale Ales",
          "Pale Lagers",
          "Porters",
          "Specialty Beer",
          "Stouts",
          "Strong Ales",
          "Weird Cocktail",
          "Wheat Beers",
          "Wild/Sour Beers"
         ],
         "y": [
          0.5313807531380753,
          1.2635983263598327,
          0.45188284518828453,
          0.4895397489539749,
          0.24686192468619247,
          16.16317991631799,
          8.142259414225942,
          2.200836820083682,
          1.9623430962343096,
          1.200836820083682,
          7.606694560669456,
          3.702928870292887,
          0.008368200836820083,
          1.8242677824267783,
          4.205020920502092
         ]
        },
        {
         "fillcolor": "rgba(239,85,59,0.3)",
         "line": {
          "width": 0
         },
         "mode": "lines",
         "name": "first, CI Low",
         "showlegend": false,
         "type": "scatter",
         "visible": false,
         "x": [
          "Bocks",
          "Brown Ales",
          "Dark Ales",
          "Dark Lagers",
          "Hybrid Beers",
          "India Pale Ales",
          "Pale Ales",
          "Pale Lagers",
          "Porters",
          "Specialty Beer",
          "Stouts",
          "Strong Ales",
          "Weird Cocktail",
          "Wheat Beers",
          "Wild/Sour Beers"
         ],
         "y": [
          0.41841004184100417,
          1.100418410041841,
          0.3514644351464435,
          0.3891213389121339,
          0.18828451882845187,
          15.276150627615063,
          7.677824267782427,
          1.9121338912133892,
          1.7573221757322175,
          1.0292887029288702,
          6.958158995815899,
          3.3682008368200838,
          0,
          1.6192468619246863,
          3.702928870292887
         ]
        },
        {
         "fill": "tonexty",
         "fillcolor": "rgba(239,85,59,0.3)",
         "line": {
          "width": 0
         },
         "mode": "lines",
         "name": "first, CI high",
         "showlegend": false,
         "type": "scatter",
         "visible": false,
         "x": [
          "Bocks",
          "Brown Ales",
          "Dark Ales",
          "Dark Lagers",
          "Hybrid Beers",
          "India Pale Ales",
          "Pale Ales",
          "Pale Lagers",
          "Porters",
          "Specialty Beer",
          "Stouts",
          "Strong Ales",
          "Weird Cocktail",
          "Wheat Beers",
          "Wild/Sour Beers"
         ],
         "y": [
          0.6694560669456067,
          1.4309623430962344,
          0.5648535564853556,
          0.5899581589958159,
          0.30962343096234307,
          17.11715481171548,
          8.623430962343097,
          2.5439330543933054,
          2.1799163179916317,
          1.389121338912134,
          8.338912133891213,
          4.054393305439331,
          0.02092050209205021,
          2.0585774058577404,
          4.7656903765690375
         ]
        },
        {
         "line": {
          "color": "rgb(0,204,150)"
         },
         "mode": "lines",
         "name": "first 50 beers",
         "showlegend": true,
         "type": "scatter",
         "visible": false,
         "x": [
          "Bocks",
          "Brown Ales",
          "Dark Ales",
          "Dark Lagers",
          "Hybrid Beers",
          "India Pale Ales",
          "Pale Ales",
          "Pale Lagers",
          "Porters",
          "Specialty Beer",
          "Stouts",
          "Strong Ales",
          "Weird Cocktail",
          "Wheat Beers",
          "Wild/Sour Beers"
         ],
         "y": [
          0.5983263598326359,
          1.7322175732217573,
          0.6150627615062761,
          0.5481171548117155,
          0.23430962343096234,
          22.832635983263597,
          7.468619246861925,
          2.01255230125523,
          1.3514644351464435,
          1.2217573221757323,
          4.556485355648536,
          4.075313807531381,
          0.012552301255230125,
          1.8786610878661087,
          0.8619246861924686
         ]
        },
        {
         "fillcolor": "rgba(0,204,150,0.3)",
         "line": {
          "width": 0
         },
         "mode": "lines",
         "name": "first, CI Low",
         "showlegend": false,
         "type": "scatter",
         "visible": false,
         "x": [
          "Bocks",
          "Brown Ales",
          "Dark Ales",
          "Dark Lagers",
          "Hybrid Beers",
          "India Pale Ales",
          "Pale Ales",
          "Pale Lagers",
          "Porters",
          "Specialty Beer",
          "Stouts",
          "Strong Ales",
          "Weird Cocktail",
          "Wheat Beers",
          "Wild/Sour Beers"
         ],
         "y": [
          0.49372384937238495,
          1.5439330543933054,
          0.5104602510460251,
          0.4476987447698745,
          0.17154811715481172,
          22.188284518828453,
          7.050209205020921,
          1.7656903765690377,
          1.1882845188284519,
          1.0502092050209204,
          4.138911190102778,
          3.7615062761506275,
          0,
          1.6694560669456067,
          0.6778242677824268
         ]
        },
        {
         "fill": "tonexty",
         "fillcolor": "rgba(0,204,150,0.3)",
         "line": {
          "width": 0
         },
         "mode": "lines",
         "name": "first, CI High",
         "showlegend": false,
         "type": "scatter",
         "visible": false,
         "x": [
          "Bocks",
          "Brown Ales",
          "Dark Ales",
          "Dark Lagers",
          "Hybrid Beers",
          "India Pale Ales",
          "Pale Ales",
          "Pale Lagers",
          "Porters",
          "Specialty Beer",
          "Stouts",
          "Strong Ales",
          "Weird Cocktail",
          "Wheat Beers",
          "Wild/Sour Beers"
         ],
         "y": [
          0.7154811715481172,
          1.9252013061922826,
          0.7364016736401674,
          0.6694560669456067,
          0.301255230125523,
          23.543933054393307,
          7.916317991631799,
          2.292887029288703,
          1.5188284518828452,
          1.4393305439330544,
          4.97907949790795,
          4.405857740585774,
          0.029288702928870293,
          2.1129707112970713,
          1.1506276150627615
         ]
        },
        {
         "line": {
          "color": "rgb(239,85,59)"
         },
         "mode": "lines",
         "name": "last 50 beers",
         "showlegend": true,
         "type": "scatter",
         "visible": false,
         "x": [
          "Bocks",
          "Brown Ales",
          "Dark Ales",
          "Dark Lagers",
          "Hybrid Beers",
          "India Pale Ales",
          "Pale Ales",
          "Pale Lagers",
          "Porters",
          "Specialty Beer",
          "Stouts",
          "Strong Ales",
          "Weird Cocktail",
          "Wheat Beers",
          "Wild/Sour Beers"
         ],
         "y": [
          0.5510204081632653,
          1.8775510204081634,
          0.6020408163265306,
          0.5459183673469388,
          0.24489795918367346,
          11.474489795918368,
          7.040816326530612,
          1.6377551020408163,
          2.576530612244898,
          1.4846938775510203,
          10.188775510204081,
          5.091836734693878,
          0.00510204081632653,
          1.8775510204081634,
          4.801020408163265
         ]
        },
        {
         "fillcolor": "rgba(239,85,59,0.3)",
         "line": {
          "width": 0
         },
         "mode": "lines",
         "name": "first, CI Low",
         "showlegend": false,
         "type": "scatter",
         "visible": false,
         "x": [
          "Bocks",
          "Brown Ales",
          "Dark Ales",
          "Dark Lagers",
          "Hybrid Beers",
          "India Pale Ales",
          "Pale Ales",
          "Pale Lagers",
          "Porters",
          "Specialty Beer",
          "Stouts",
          "Strong Ales",
          "Weird Cocktail",
          "Wheat Beers",
          "Wild/Sour Beers"
         ],
         "y": [
          0.4387755102040816,
          1.653061224489796,
          0.4846938775510204,
          0.42346938775510207,
          0.17857142857142858,
          10.683673469387756,
          6.591836734693878,
          1.3673469387755102,
          2.326530612244898,
          1.2653061224489797,
          9.46938775510204,
          4.627551020408164,
          0,
          1.6479591836734695,
          4.178571428571429
         ]
        },
        {
         "fill": "tonexty",
         "fillcolor": "rgba(239,85,59,0.3)",
         "line": {
          "width": 0
         },
         "mode": "lines",
         "name": "first, CI high",
         "showlegend": false,
         "type": "scatter",
         "visible": false,
         "x": [
          "Bocks",
          "Brown Ales",
          "Dark Ales",
          "Dark Lagers",
          "Hybrid Beers",
          "India Pale Ales",
          "Pale Ales",
          "Pale Lagers",
          "Porters",
          "Specialty Beer",
          "Stouts",
          "Strong Ales",
          "Weird Cocktail",
          "Wheat Beers",
          "Wild/Sour Beers"
         ],
         "y": [
          0.6785714285714286,
          2.127551020408163,
          0.7346938775510204,
          0.6836734693877551,
          0.3163265306122449,
          12.375022579898049,
          7.510204081632653,
          1.969387755102041,
          2.836734693877551,
          1.75,
          10.979591836734693,
          5.607142857142857,
          0.015306122448979591,
          2.107142857142857,
          5.470814906091377
         ]
        },
        {
         "line": {
          "color": "rgb(0,204,150)"
         },
         "mode": "lines",
         "name": "first 50 beers",
         "showlegend": true,
         "type": "scatter",
         "visible": false,
         "x": [
          "Bocks",
          "Brown Ales",
          "Dark Ales",
          "Dark Lagers",
          "Hybrid Beers",
          "India Pale Ales",
          "Pale Ales",
          "Pale Lagers",
          "Porters",
          "Specialty Beer",
          "Stouts",
          "Strong Ales",
          "Weird Cocktail",
          "Wheat Beers",
          "Wild/Sour Beers"
         ],
         "y": [
          0.8163265306122449,
          2.5051020408163267,
          0.9591836734693877,
          0.6326530612244898,
          0.28061224489795916,
          9.872448979591837,
          4.75,
          1.2959183673469388,
          3.0969387755102042,
          1.3418367346938775,
          15.14795918367347,
          6.168367346938775,
          0.07653061224489796,
          1.5510204081632653,
          1.5051020408163265
         ]
        },
        {
         "fillcolor": "rgba(0,204,150,0.3)",
         "line": {
          "width": 0
         },
         "mode": "lines",
         "name": "first, CI Low",
         "showlegend": false,
         "type": "scatter",
         "visible": false,
         "x": [
          "Bocks",
          "Brown Ales",
          "Dark Ales",
          "Dark Lagers",
          "Hybrid Beers",
          "India Pale Ales",
          "Pale Ales",
          "Pale Lagers",
          "Porters",
          "Specialty Beer",
          "Stouts",
          "Strong Ales",
          "Weird Cocktail",
          "Wheat Beers",
          "Wild/Sour Beers"
         ],
         "y": [
          0.673469387755102,
          2.2244897959183674,
          0.7947483279125193,
          0.5051020408163265,
          0.20918367346938777,
          9.08673469387755,
          4.3979591836734695,
          1.1122448979591837,
          2.8010204081632653,
          1.1326530612244898,
          14.48469387755102,
          5.673469387755102,
          0.04081632653061224,
          1.316326530612245,
          1.1785714285714286
         ]
        },
        {
         "fill": "tonexty",
         "fillcolor": "rgba(0,204,150,0.3)",
         "line": {
          "width": 0
         },
         "mode": "lines",
         "name": "first, CI High",
         "showlegend": false,
         "type": "scatter",
         "visible": false,
         "x": [
          "Bocks",
          "Brown Ales",
          "Dark Ales",
          "Dark Lagers",
          "Hybrid Beers",
          "India Pale Ales",
          "Pale Ales",
          "Pale Lagers",
          "Porters",
          "Specialty Beer",
          "Stouts",
          "Strong Ales",
          "Weird Cocktail",
          "Wheat Beers",
          "Wild/Sour Beers"
         ],
         "y": [
          0.9693877551020408,
          2.795918367346939,
          1.139348906508447,
          0.7806122448979592,
          0.35714285714285715,
          10.642857142857142,
          5.112244897959184,
          1.5051020408163265,
          3.438775510204082,
          1.586734693877551,
          15.887755102040817,
          6.75,
          0.12244897959183673,
          1.8265306122448979,
          1.9183673469387754
         ]
        },
        {
         "line": {
          "color": "rgb(239,85,59)"
         },
         "mode": "lines",
         "name": "last 50 beers",
         "showlegend": true,
         "type": "scatter",
         "visible": false,
         "x": [
          "Bocks",
          "Brown Ales",
          "Dark Ales",
          "Dark Lagers",
          "Hybrid Beers",
          "India Pale Ales",
          "Pale Ales",
          "Pale Lagers",
          "Porters",
          "Specialty Beer",
          "Stouts",
          "Strong Ales",
          "Weird Cocktail",
          "Wheat Beers",
          "Wild/Sour Beers"
         ],
         "y": [
          1.6312056737588652,
          2.617021276595745,
          1.2198581560283688,
          1.2695035460992907,
          0.2978723404255319,
          10.148936170212766,
          9.51063829787234,
          4.652482269503546,
          2.1631205673758864,
          1.6879432624113475,
          5.297872340425532,
          4.680851063829787,
          0.028368794326241134,
          2.893617021276596,
          1.900709219858156
         ]
        },
        {
         "fillcolor": "rgba(239,85,59,0.3)",
         "line": {
          "width": 0
         },
         "mode": "lines",
         "name": "first, CI Low",
         "showlegend": false,
         "type": "scatter",
         "visible": false,
         "x": [
          "Bocks",
          "Brown Ales",
          "Dark Ales",
          "Dark Lagers",
          "Hybrid Beers",
          "India Pale Ales",
          "Pale Ales",
          "Pale Lagers",
          "Porters",
          "Specialty Beer",
          "Stouts",
          "Strong Ales",
          "Weird Cocktail",
          "Wheat Beers",
          "Wild/Sour Beers"
         ],
         "y": [
          1.3404255319148937,
          2.326241134751773,
          0.9858156028368794,
          1.0638297872340425,
          0.20567375886524822,
          9.077095762199015,
          8.950354609929079,
          4.092198581560283,
          1.8865248226950355,
          1.3829787234042554,
          4.75177304964539,
          4.177304964539007,
          0.0070921985815602835,
          2.5390070921985815,
          1.4822695035460993
         ]
        },
        {
         "fill": "tonexty",
         "fillcolor": "rgba(239,85,59,0.3)",
         "line": {
          "width": 0
         },
         "mode": "lines",
         "name": "first, CI high",
         "showlegend": false,
         "type": "scatter",
         "visible": false,
         "x": [
          "Bocks",
          "Brown Ales",
          "Dark Ales",
          "Dark Lagers",
          "Hybrid Beers",
          "India Pale Ales",
          "Pale Ales",
          "Pale Lagers",
          "Porters",
          "Specialty Beer",
          "Stouts",
          "Strong Ales",
          "Weird Cocktail",
          "Wheat Beers",
          "Wild/Sour Beers"
         ],
         "y": [
          2,
          2.9148936170212765,
          1.475177304964539,
          1.50354609929078,
          0.3971631205673759,
          11.326241134751774,
          10.156028368794326,
          5.320517876015072,
          2.475177304964539,
          2.1134751773049647,
          5.971631205673759,
          5.205673758865248,
          0.05673758865248227,
          3.297872340425532,
          2.49645390070922
         ]
        },
        {
         "line": {
          "color": "rgb(0,204,150)"
         },
         "mode": "lines",
         "name": "first 50 beers",
         "showlegend": true,
         "type": "scatter",
         "visible": false,
         "x": [
          "Bocks",
          "Brown Ales",
          "Dark Ales",
          "Dark Lagers",
          "Hybrid Beers",
          "India Pale Ales",
          "Pale Ales",
          "Pale Lagers",
          "Porters",
          "Specialty Beer",
          "Stouts",
          "Strong Ales",
          "Weird Cocktail",
          "Wheat Beers",
          "Wild/Sour Beers"
         ],
         "y": [
          1.7943262411347518,
          2.723404255319149,
          1.425531914893617,
          3.347517730496454,
          0.3829787234042553,
          3.297872340425532,
          7.780141843971631,
          13.624113475177305,
          1.5602836879432624,
          1.4184397163120568,
          3.5106382978723403,
          3.950354609929078,
          0.15602836879432624,
          4.74468085106383,
          0.28368794326241137
         ]
        },
        {
         "fillcolor": "rgba(0,204,150,0.3)",
         "line": {
          "width": 0
         },
         "mode": "lines",
         "name": "first, CI Low",
         "showlegend": false,
         "type": "scatter",
         "visible": false,
         "x": [
          "Bocks",
          "Brown Ales",
          "Dark Ales",
          "Dark Lagers",
          "Hybrid Beers",
          "India Pale Ales",
          "Pale Ales",
          "Pale Lagers",
          "Porters",
          "Specialty Beer",
          "Stouts",
          "Strong Ales",
          "Weird Cocktail",
          "Wheat Beers",
          "Wild/Sour Beers"
         ],
         "y": [
          1.5390070921985815,
          2.397163120567376,
          1.198581560283688,
          3.0354609929078014,
          0.2765957446808511,
          2.858156028368794,
          7.191489361702128,
          12.77304964539007,
          1.3120567375886525,
          1.1631205673758864,
          3.0921985815602837,
          3.5531914893617023,
          0.09929078014184398,
          4.2695035460992905,
          0.19148936170212766
         ]
        },
        {
         "fill": "tonexty",
         "fillcolor": "rgba(0,204,150,0.3)",
         "line": {
          "width": 0
         },
         "mode": "lines",
         "name": "first, CI High",
         "showlegend": false,
         "type": "scatter",
         "visible": false,
         "x": [
          "Bocks",
          "Brown Ales",
          "Dark Ales",
          "Dark Lagers",
          "Hybrid Beers",
          "India Pale Ales",
          "Pale Ales",
          "Pale Lagers",
          "Porters",
          "Specialty Beer",
          "Stouts",
          "Strong Ales",
          "Weird Cocktail",
          "Wheat Beers",
          "Wild/Sour Beers"
         ],
         "y": [
          2.0921985815602837,
          3.0709219858156027,
          1.6808510638297873,
          3.6666666666666665,
          0.4925488047720524,
          3.8156028368794326,
          8.347517730496454,
          14.631205673758865,
          1.822695035460993,
          1.7304964539007093,
          3.9858156028368796,
          4.347517730496454,
          0.2127659574468085,
          5.219858156028369,
          0.3900709219858156
         ]
        },
        {
         "line": {
          "color": "rgb(239,85,59)"
         },
         "mode": "lines",
         "name": "last 50 beers",
         "showlegend": true,
         "type": "scatter",
         "visible": false,
         "x": [
          "Bocks",
          "Brown Ales",
          "Dark Ales",
          "Dark Lagers",
          "Hybrid Beers",
          "India Pale Ales",
          "Pale Ales",
          "Pale Lagers",
          "Porters",
          "Specialty Beer",
          "Stouts",
          "Strong Ales",
          "Weird Cocktail",
          "Wheat Beers",
          "Wild/Sour Beers"
         ],
         "y": [
          1.116751269035533,
          2.489847715736041,
          1.0507614213197969,
          0.9238578680203046,
          0.39086294416243655,
          10.586294416243655,
          8.84010152284264,
          3.281725888324873,
          2.1954314720812182,
          1.6852791878172588,
          6.2055837563451774,
          5.408629441624366,
          0.03553299492385787,
          2.5431472081218276,
          3.246192893401015
         ]
        },
        {
         "fillcolor": "rgba(239,85,59,0.3)",
         "line": {
          "width": 0
         },
         "mode": "lines",
         "name": "first, CI Low",
         "showlegend": false,
         "type": "scatter",
         "visible": false,
         "x": [
          "Bocks",
          "Brown Ales",
          "Dark Ales",
          "Dark Lagers",
          "Hybrid Beers",
          "India Pale Ales",
          "Pale Ales",
          "Pale Lagers",
          "Porters",
          "Specialty Beer",
          "Stouts",
          "Strong Ales",
          "Weird Cocktail",
          "Wheat Beers",
          "Wild/Sour Beers"
         ],
         "y": [
          0.9949238578680203,
          2.317258883248731,
          0.9289340101522843,
          0.817258883248731,
          0.3299492385786802,
          10,
          8.467005076142131,
          2.994933848627088,
          2.035532994923858,
          1.5101522842639594,
          5.822335025380711,
          5.088832487309645,
          0.017766497461928935,
          2.3375634517766497,
          2.8781725888324874
         ]
        },
        {
         "fill": "tonexty",
         "fillcolor": "rgba(239,85,59,0.3)",
         "line": {
          "width": 0
         },
         "mode": "lines",
         "name": "first, CI high",
         "showlegend": false,
         "type": "scatter",
         "visible": false,
         "x": [
          "Bocks",
          "Brown Ales",
          "Dark Ales",
          "Dark Lagers",
          "Hybrid Beers",
          "India Pale Ales",
          "Pale Ales",
          "Pale Lagers",
          "Porters",
          "Specialty Beer",
          "Stouts",
          "Strong Ales",
          "Weird Cocktail",
          "Wheat Beers",
          "Wild/Sour Beers"
         ],
         "y": [
          1.251269035532995,
          2.6598984771573604,
          1.1852791878172588,
          1.0380710659898478,
          0.4517766497461929,
          11.180203045685278,
          9.256345177664974,
          3.6040609137055837,
          2.3604060913705585,
          1.8781725888324874,
          6.601522842639594,
          5.7360406091370555,
          0.05583756345177665,
          2.7498257007364235,
          3.6802030456852792
         ]
        },
        {
         "line": {
          "color": "rgb(0,204,150)"
         },
         "mode": "lines",
         "name": "first 50 beers",
         "showlegend": true,
         "type": "scatter",
         "visible": false,
         "x": [
          "Bocks",
          "Brown Ales",
          "Dark Ales",
          "Dark Lagers",
          "Hybrid Beers",
          "India Pale Ales",
          "Pale Ales",
          "Pale Lagers",
          "Porters",
          "Specialty Beer",
          "Stouts",
          "Strong Ales",
          "Weird Cocktail",
          "Wheat Beers",
          "Wild/Sour Beers"
         ],
         "y": [
          1.6598984771573604,
          3.281725888324873,
          1.6548223350253808,
          1.5304568527918783,
          0.33756345177664976,
          8.192893401015228,
          9.408629441624365,
          3.8680203045685277,
          2.296954314720812,
          1.7436548223350254,
          5.119289340101523,
          6.131979695431472,
          0.06345177664974619,
          3.6192893401015227,
          1.0913705583756346
         ]
        },
        {
         "fillcolor": "rgba(0,204,150,0.3)",
         "line": {
          "width": 0
         },
         "mode": "lines",
         "name": "first, CI Low",
         "showlegend": false,
         "type": "scatter",
         "visible": false,
         "x": [
          "Bocks",
          "Brown Ales",
          "Dark Ales",
          "Dark Lagers",
          "Hybrid Beers",
          "India Pale Ales",
          "Pale Ales",
          "Pale Lagers",
          "Porters",
          "Specialty Beer",
          "Stouts",
          "Strong Ales",
          "Weird Cocktail",
          "Wheat Beers",
          "Wild/Sour Beers"
         ],
         "y": [
          1.517766497461929,
          3.0761421319796955,
          1.5050761421319796,
          1.3883248730964468,
          0.2817258883248731,
          7.771573604060913,
          9.083756345177665,
          3.6116705614313296,
          2.1192893401015227,
          1.5558375634517767,
          4.865482233502538,
          5.791878172588833,
          0.04060913705583756,
          3.3654822335025383,
          0.9035532994923858
         ]
        },
        {
         "fill": "tonexty",
         "fillcolor": "rgba(0,204,150,0.3)",
         "line": {
          "width": 0
         },
         "mode": "lines",
         "name": "first, CI High",
         "showlegend": false,
         "type": "scatter",
         "visible": false,
         "x": [
          "Bocks",
          "Brown Ales",
          "Dark Ales",
          "Dark Lagers",
          "Hybrid Beers",
          "India Pale Ales",
          "Pale Ales",
          "Pale Lagers",
          "Porters",
          "Specialty Beer",
          "Stouts",
          "Strong Ales",
          "Weird Cocktail",
          "Wheat Beers",
          "Wild/Sour Beers"
         ],
         "y": [
          1.8172588832487309,
          3.489847715736041,
          1.8121827411167513,
          1.6725888324873097,
          0.3934010152284264,
          8.601522842639595,
          9.771573604060913,
          4.126903553299492,
          2.479695431472081,
          1.9771573604060915,
          5.385786802030457,
          6.477157360406092,
          0.08883248730964467,
          3.8984771573604062,
          1.3375634517766497
         ]
        }
       ],
       "layout": {
        "height": 600,
        "template": {
         "data": {
          "bar": [
           {
            "error_x": {
             "color": "#2a3f5f"
            },
            "error_y": {
             "color": "#2a3f5f"
            },
            "marker": {
             "line": {
              "color": "#E5ECF6",
              "width": 0.5
             },
             "pattern": {
              "fillmode": "overlay",
              "size": 10,
              "solidity": 0.2
             }
            },
            "type": "bar"
           }
          ],
          "barpolar": [
           {
            "marker": {
             "line": {
              "color": "#E5ECF6",
              "width": 0.5
             },
             "pattern": {
              "fillmode": "overlay",
              "size": 10,
              "solidity": 0.2
             }
            },
            "type": "barpolar"
           }
          ],
          "carpet": [
           {
            "aaxis": {
             "endlinecolor": "#2a3f5f",
             "gridcolor": "white",
             "linecolor": "white",
             "minorgridcolor": "white",
             "startlinecolor": "#2a3f5f"
            },
            "baxis": {
             "endlinecolor": "#2a3f5f",
             "gridcolor": "white",
             "linecolor": "white",
             "minorgridcolor": "white",
             "startlinecolor": "#2a3f5f"
            },
            "type": "carpet"
           }
          ],
          "choropleth": [
           {
            "colorbar": {
             "outlinewidth": 0,
             "ticks": ""
            },
            "type": "choropleth"
           }
          ],
          "contour": [
           {
            "colorbar": {
             "outlinewidth": 0,
             "ticks": ""
            },
            "colorscale": [
             [
              0,
              "#0d0887"
             ],
             [
              0.1111111111111111,
              "#46039f"
             ],
             [
              0.2222222222222222,
              "#7201a8"
             ],
             [
              0.3333333333333333,
              "#9c179e"
             ],
             [
              0.4444444444444444,
              "#bd3786"
             ],
             [
              0.5555555555555556,
              "#d8576b"
             ],
             [
              0.6666666666666666,
              "#ed7953"
             ],
             [
              0.7777777777777778,
              "#fb9f3a"
             ],
             [
              0.8888888888888888,
              "#fdca26"
             ],
             [
              1,
              "#f0f921"
             ]
            ],
            "type": "contour"
           }
          ],
          "contourcarpet": [
           {
            "colorbar": {
             "outlinewidth": 0,
             "ticks": ""
            },
            "type": "contourcarpet"
           }
          ],
          "heatmap": [
           {
            "colorbar": {
             "outlinewidth": 0,
             "ticks": ""
            },
            "colorscale": [
             [
              0,
              "#0d0887"
             ],
             [
              0.1111111111111111,
              "#46039f"
             ],
             [
              0.2222222222222222,
              "#7201a8"
             ],
             [
              0.3333333333333333,
              "#9c179e"
             ],
             [
              0.4444444444444444,
              "#bd3786"
             ],
             [
              0.5555555555555556,
              "#d8576b"
             ],
             [
              0.6666666666666666,
              "#ed7953"
             ],
             [
              0.7777777777777778,
              "#fb9f3a"
             ],
             [
              0.8888888888888888,
              "#fdca26"
             ],
             [
              1,
              "#f0f921"
             ]
            ],
            "type": "heatmap"
           }
          ],
          "heatmapgl": [
           {
            "colorbar": {
             "outlinewidth": 0,
             "ticks": ""
            },
            "colorscale": [
             [
              0,
              "#0d0887"
             ],
             [
              0.1111111111111111,
              "#46039f"
             ],
             [
              0.2222222222222222,
              "#7201a8"
             ],
             [
              0.3333333333333333,
              "#9c179e"
             ],
             [
              0.4444444444444444,
              "#bd3786"
             ],
             [
              0.5555555555555556,
              "#d8576b"
             ],
             [
              0.6666666666666666,
              "#ed7953"
             ],
             [
              0.7777777777777778,
              "#fb9f3a"
             ],
             [
              0.8888888888888888,
              "#fdca26"
             ],
             [
              1,
              "#f0f921"
             ]
            ],
            "type": "heatmapgl"
           }
          ],
          "histogram": [
           {
            "marker": {
             "pattern": {
              "fillmode": "overlay",
              "size": 10,
              "solidity": 0.2
             }
            },
            "type": "histogram"
           }
          ],
          "histogram2d": [
           {
            "colorbar": {
             "outlinewidth": 0,
             "ticks": ""
            },
            "colorscale": [
             [
              0,
              "#0d0887"
             ],
             [
              0.1111111111111111,
              "#46039f"
             ],
             [
              0.2222222222222222,
              "#7201a8"
             ],
             [
              0.3333333333333333,
              "#9c179e"
             ],
             [
              0.4444444444444444,
              "#bd3786"
             ],
             [
              0.5555555555555556,
              "#d8576b"
             ],
             [
              0.6666666666666666,
              "#ed7953"
             ],
             [
              0.7777777777777778,
              "#fb9f3a"
             ],
             [
              0.8888888888888888,
              "#fdca26"
             ],
             [
              1,
              "#f0f921"
             ]
            ],
            "type": "histogram2d"
           }
          ],
          "histogram2dcontour": [
           {
            "colorbar": {
             "outlinewidth": 0,
             "ticks": ""
            },
            "colorscale": [
             [
              0,
              "#0d0887"
             ],
             [
              0.1111111111111111,
              "#46039f"
             ],
             [
              0.2222222222222222,
              "#7201a8"
             ],
             [
              0.3333333333333333,
              "#9c179e"
             ],
             [
              0.4444444444444444,
              "#bd3786"
             ],
             [
              0.5555555555555556,
              "#d8576b"
             ],
             [
              0.6666666666666666,
              "#ed7953"
             ],
             [
              0.7777777777777778,
              "#fb9f3a"
             ],
             [
              0.8888888888888888,
              "#fdca26"
             ],
             [
              1,
              "#f0f921"
             ]
            ],
            "type": "histogram2dcontour"
           }
          ],
          "mesh3d": [
           {
            "colorbar": {
             "outlinewidth": 0,
             "ticks": ""
            },
            "type": "mesh3d"
           }
          ],
          "parcoords": [
           {
            "line": {
             "colorbar": {
              "outlinewidth": 0,
              "ticks": ""
             }
            },
            "type": "parcoords"
           }
          ],
          "pie": [
           {
            "automargin": true,
            "type": "pie"
           }
          ],
          "scatter": [
           {
            "fillpattern": {
             "fillmode": "overlay",
             "size": 10,
             "solidity": 0.2
            },
            "type": "scatter"
           }
          ],
          "scatter3d": [
           {
            "line": {
             "colorbar": {
              "outlinewidth": 0,
              "ticks": ""
             }
            },
            "marker": {
             "colorbar": {
              "outlinewidth": 0,
              "ticks": ""
             }
            },
            "type": "scatter3d"
           }
          ],
          "scattercarpet": [
           {
            "marker": {
             "colorbar": {
              "outlinewidth": 0,
              "ticks": ""
             }
            },
            "type": "scattercarpet"
           }
          ],
          "scattergeo": [
           {
            "marker": {
             "colorbar": {
              "outlinewidth": 0,
              "ticks": ""
             }
            },
            "type": "scattergeo"
           }
          ],
          "scattergl": [
           {
            "marker": {
             "colorbar": {
              "outlinewidth": 0,
              "ticks": ""
             }
            },
            "type": "scattergl"
           }
          ],
          "scattermapbox": [
           {
            "marker": {
             "colorbar": {
              "outlinewidth": 0,
              "ticks": ""
             }
            },
            "type": "scattermapbox"
           }
          ],
          "scatterpolar": [
           {
            "marker": {
             "colorbar": {
              "outlinewidth": 0,
              "ticks": ""
             }
            },
            "type": "scatterpolar"
           }
          ],
          "scatterpolargl": [
           {
            "marker": {
             "colorbar": {
              "outlinewidth": 0,
              "ticks": ""
             }
            },
            "type": "scatterpolargl"
           }
          ],
          "scatterternary": [
           {
            "marker": {
             "colorbar": {
              "outlinewidth": 0,
              "ticks": ""
             }
            },
            "type": "scatterternary"
           }
          ],
          "surface": [
           {
            "colorbar": {
             "outlinewidth": 0,
             "ticks": ""
            },
            "colorscale": [
             [
              0,
              "#0d0887"
             ],
             [
              0.1111111111111111,
              "#46039f"
             ],
             [
              0.2222222222222222,
              "#7201a8"
             ],
             [
              0.3333333333333333,
              "#9c179e"
             ],
             [
              0.4444444444444444,
              "#bd3786"
             ],
             [
              0.5555555555555556,
              "#d8576b"
             ],
             [
              0.6666666666666666,
              "#ed7953"
             ],
             [
              0.7777777777777778,
              "#fb9f3a"
             ],
             [
              0.8888888888888888,
              "#fdca26"
             ],
             [
              1,
              "#f0f921"
             ]
            ],
            "type": "surface"
           }
          ],
          "table": [
           {
            "cells": {
             "fill": {
              "color": "#EBF0F8"
             },
             "line": {
              "color": "white"
             }
            },
            "header": {
             "fill": {
              "color": "#C8D4E3"
             },
             "line": {
              "color": "white"
             }
            },
            "type": "table"
           }
          ]
         },
         "layout": {
          "annotationdefaults": {
           "arrowcolor": "#2a3f5f",
           "arrowhead": 0,
           "arrowwidth": 1
          },
          "autotypenumbers": "strict",
          "coloraxis": {
           "colorbar": {
            "outlinewidth": 0,
            "ticks": ""
           }
          },
          "colorscale": {
           "diverging": [
            [
             0,
             "#8e0152"
            ],
            [
             0.1,
             "#c51b7d"
            ],
            [
             0.2,
             "#de77ae"
            ],
            [
             0.3,
             "#f1b6da"
            ],
            [
             0.4,
             "#fde0ef"
            ],
            [
             0.5,
             "#f7f7f7"
            ],
            [
             0.6,
             "#e6f5d0"
            ],
            [
             0.7,
             "#b8e186"
            ],
            [
             0.8,
             "#7fbc41"
            ],
            [
             0.9,
             "#4d9221"
            ],
            [
             1,
             "#276419"
            ]
           ],
           "sequential": [
            [
             0,
             "#0d0887"
            ],
            [
             0.1111111111111111,
             "#46039f"
            ],
            [
             0.2222222222222222,
             "#7201a8"
            ],
            [
             0.3333333333333333,
             "#9c179e"
            ],
            [
             0.4444444444444444,
             "#bd3786"
            ],
            [
             0.5555555555555556,
             "#d8576b"
            ],
            [
             0.6666666666666666,
             "#ed7953"
            ],
            [
             0.7777777777777778,
             "#fb9f3a"
            ],
            [
             0.8888888888888888,
             "#fdca26"
            ],
            [
             1,
             "#f0f921"
            ]
           ],
           "sequentialminus": [
            [
             0,
             "#0d0887"
            ],
            [
             0.1111111111111111,
             "#46039f"
            ],
            [
             0.2222222222222222,
             "#7201a8"
            ],
            [
             0.3333333333333333,
             "#9c179e"
            ],
            [
             0.4444444444444444,
             "#bd3786"
            ],
            [
             0.5555555555555556,
             "#d8576b"
            ],
            [
             0.6666666666666666,
             "#ed7953"
            ],
            [
             0.7777777777777778,
             "#fb9f3a"
            ],
            [
             0.8888888888888888,
             "#fdca26"
            ],
            [
             1,
             "#f0f921"
            ]
           ]
          },
          "colorway": [
           "#636efa",
           "#EF553B",
           "#00cc96",
           "#ab63fa",
           "#FFA15A",
           "#19d3f3",
           "#FF6692",
           "#B6E880",
           "#FF97FF",
           "#FECB52"
          ],
          "font": {
           "color": "#2a3f5f"
          },
          "geo": {
           "bgcolor": "white",
           "lakecolor": "white",
           "landcolor": "#E5ECF6",
           "showlakes": true,
           "showland": true,
           "subunitcolor": "white"
          },
          "hoverlabel": {
           "align": "left"
          },
          "hovermode": "closest",
          "mapbox": {
           "style": "light"
          },
          "paper_bgcolor": "white",
          "plot_bgcolor": "#E5ECF6",
          "polar": {
           "angularaxis": {
            "gridcolor": "white",
            "linecolor": "white",
            "ticks": ""
           },
           "bgcolor": "#E5ECF6",
           "radialaxis": {
            "gridcolor": "white",
            "linecolor": "white",
            "ticks": ""
           }
          },
          "scene": {
           "xaxis": {
            "backgroundcolor": "#E5ECF6",
            "gridcolor": "white",
            "gridwidth": 2,
            "linecolor": "white",
            "showbackground": true,
            "ticks": "",
            "zerolinecolor": "white"
           },
           "yaxis": {
            "backgroundcolor": "#E5ECF6",
            "gridcolor": "white",
            "gridwidth": 2,
            "linecolor": "white",
            "showbackground": true,
            "ticks": "",
            "zerolinecolor": "white"
           },
           "zaxis": {
            "backgroundcolor": "#E5ECF6",
            "gridcolor": "white",
            "gridwidth": 2,
            "linecolor": "white",
            "showbackground": true,
            "ticks": "",
            "zerolinecolor": "white"
           }
          },
          "shapedefaults": {
           "line": {
            "color": "#2a3f5f"
           }
          },
          "ternary": {
           "aaxis": {
            "gridcolor": "white",
            "linecolor": "white",
            "ticks": ""
           },
           "baxis": {
            "gridcolor": "white",
            "linecolor": "white",
            "ticks": ""
           },
           "bgcolor": "#E5ECF6",
           "caxis": {
            "gridcolor": "white",
            "linecolor": "white",
            "ticks": ""
           }
          },
          "title": {
           "x": 0.05
          },
          "xaxis": {
           "automargin": true,
           "gridcolor": "white",
           "linecolor": "white",
           "ticks": "",
           "title": {
            "standoff": 15
           },
           "zerolinecolor": "white",
           "zerolinewidth": 2
          },
          "yaxis": {
           "automargin": true,
           "gridcolor": "white",
           "linecolor": "white",
           "ticks": "",
           "title": {
            "standoff": 15
           },
           "zerolinecolor": "white",
           "zerolinewidth": 2
          }
         }
        },
        "title": {
         "text": "All together : average number of beers rated from each category"
        },
        "updatemenus": [
         {
          "active": 0,
          "buttons": [
           {
            "args": [
             {
              "visible": [
               true,
               true,
               true,
               true,
               true,
               true,
               false,
               false,
               false,
               false,
               false,
               false,
               false,
               false,
               false,
               false,
               false,
               false,
               false,
               false,
               false,
               false,
               false,
               false,
               false,
               false,
               false,
               false,
               false,
               false
              ]
             },
             {
              "title": "All together : average number of beers rated from each category"
             }
            ],
            "label": "All togheter",
            "method": "update"
           },
           {
            "args": [
             {
              "visible": [
               false,
               false,
               false,
               false,
               false,
               false,
               true,
               true,
               true,
               true,
               true,
               true,
               false,
               false,
               false,
               false,
               false,
               false,
               false,
               false,
               false,
               false,
               false,
               false,
               false,
               false,
               false,
               false,
               false,
               false
              ]
             },
             {
              "title": "Team \"Jean-Michel IPA\" : average number of beers rated from each category"
             }
            ],
            "label": "Jean-Michel IPA",
            "method": "update"
           },
           {
            "args": [
             {
              "visible": [
               false,
               false,
               false,
               false,
               false,
               false,
               false,
               false,
               false,
               false,
               false,
               false,
               true,
               true,
               true,
               true,
               true,
               true,
               false,
               false,
               false,
               false,
               false,
               false,
               false,
               false,
               false,
               false,
               false,
               false
              ]
             },
             {
              "title": "Team \"Marcel Stout\" : average number of beers rated from each category"
             }
            ],
            "label": "Marcel Stout",
            "method": "update"
           },
           {
            "args": [
             {
              "visible": [
               false,
               false,
               false,
               false,
               false,
               false,
               false,
               false,
               false,
               false,
               false,
               false,
               false,
               false,
               false,
               false,
               false,
               false,
               true,
               true,
               true,
               true,
               true,
               true,
               false,
               false,
               false,
               false,
               false,
               false
              ]
             },
             {
              "title": "Team \"James Bland\" : average number of beers rated from each category"
             }
            ],
            "label": "James Bland",
            "method": "update"
           },
           {
            "args": [
             {
              "visible": [
               false,
               false,
               false,
               false,
               false,
               false,
               false,
               false,
               false,
               false,
               false,
               false,
               false,
               false,
               false,
               false,
               false,
               false,
               false,
               false,
               false,
               false,
               false,
               false,
               true,
               true,
               true,
               true,
               true,
               true
              ]
             },
             {
              "title": "Team \"Ada the explorer\" : average number of beers rated from each category"
             }
            ],
            "label": "Ada the explorer",
            "method": "update"
           }
          ],
          "direction": "right",
          "type": "buttons",
          "x": 1,
          "y": 1.1
         }
        ],
        "width": 1000,
        "xaxis": {
         "title": {
          "text": "Category"
         }
        },
        "yaxis": {
         "range": [
          0,
          25
         ],
         "title": {
          "text": "Number of beers"
         }
        }
       }
      }
     },
     "metadata": {},
     "output_type": "display_data"
    }
   ],
   "source": [
    "# Interactive plot with the different clusters for Kmeans with k = 4\n",
    "mean_user = df_pivot.copy()\n",
    "\n",
    "# plotly setup \n",
    "fig = go.Figure()\n",
    "\n",
    "# Add all the traces\n",
    "x = mean_user.index\n",
    "\n",
    "for key in mapping_name_idx.keys():\n",
    "    viz = False\n",
    "    if key == \"All\":\n",
    "        viz = True\n",
    "    \n",
    "    #last\n",
    "    #mean\n",
    "    fig.add_trace(go.Scatter(x=x, y=mean_user.iloc[:, 25 + mapping_name_idx[key]].values,\n",
    "                             name='last 50 beers', mode='lines', line_color='rgb(239,85,59)', \n",
    "                             visible=viz, showlegend=True))\n",
    "    #CI low\n",
    "    fig.add_trace(go.Scatter(x=x, y=mean_user.iloc[:, 15 + mapping_name_idx[key]].values,\n",
    "                             name='first, CI Low', fill=None, mode='lines', line_width = 0.00,\n",
    "                             fillcolor='rgba(239,85,59,0.3)', visible=viz, showlegend=False))\n",
    "    #CI high\n",
    "    fig.add_trace(go.Scatter(x=x, y=mean_user.iloc[:, 20 + mapping_name_idx[key]].values,\n",
    "                             name='first, CI high', fill='tonexty', mode='lines', line_width = 0.00,\n",
    "                             fillcolor='rgba(239,85,59,0.3)', visible=viz, showlegend=False))\n",
    "\n",
    "    #first\n",
    "    #mean\n",
    "    fig.add_trace(go.Scatter(x=x, y=mean_user.iloc[:, 10 + mapping_name_idx[key]].values,\n",
    "                             name='first 50 beers', mode='lines', line_color = \"rgb(0,204,150)\",\n",
    "                             visible=viz, showlegend=True))\n",
    "    #CI low\n",
    "    fig.add_trace(go.Scatter(x=x, y=mean_user.iloc[:, 0 + mapping_name_idx[key]].values,\n",
    "                             name='first, CI Low', fill=None, mode='lines', line_width = 0.00,\n",
    "                             fillcolor='rgba(0,204,150,0.3)', visible=viz, showlegend=False))\n",
    "    #CI high\n",
    "    fig.add_trace(go.Scatter(x=x, y=mean_user.iloc[:, 5 + mapping_name_idx[key]].values,\n",
    "                             name='first, CI High', fill='tonexty', mode='lines', line_width = 0.00,\n",
    "                             fillcolor='rgba(0,204,150,0.3)', visible=viz, showlegend=False))\n",
    "\n",
    "#build 5 mask coresponding to each button\n",
    "list_0 = [True]*6 + [False]*24\n",
    "list_1 = [False]*6 + [True]*6 + [False]*18\n",
    "list_2 = [False]*12 + [True]*6 + [False]*12\n",
    "list_3 = [False]*18 + [True]*6 + [False]*6\n",
    "list_4 = [False]*24 + [True]*6\n",
    "\n",
    "fig.update_layout(\n",
    "    yaxis_range=[0,25],\n",
    "    width=1000,\n",
    "    height=600,\n",
    "    updatemenus=[\n",
    "        dict(\n",
    "            type=\"buttons\",\n",
    "            direction=\"right\",\n",
    "            active=0,\n",
    "            x=1,\n",
    "            y=1.1,\n",
    "            buttons=list([\n",
    "                dict(label=\"All togheter\",\n",
    "                     method=\"update\",\n",
    "                     args=[{\"visible\": list_0},\n",
    "                           {'title':'All together : average number of beers rated from each category'}]),\n",
    "                dict(label=\"Jean-Michel IPA\",\n",
    "                     method=\"update\",\n",
    "                     args=[{\"visible\": list_1},\n",
    "                           {'title' : 'Team \"Jean-Michel IPA\" : average number of beers rated from each category'}]),\n",
    "                dict(label=\"Marcel Stout\",\n",
    "                     method=\"update\",\n",
    "                     args=[{\"visible\": list_2},\n",
    "                           {'title' : 'Team \"Marcel Stout\" : average number of beers rated from each category'}]),\n",
    "                dict(label=\"James Bland\",\n",
    "                     method=\"update\",\n",
    "                     args=[{\"visible\": list_3},\n",
    "                           {'title' : 'Team \"James Bland\" : average number of beers rated from each category'}]),\n",
    "                dict(label=\"Ada the explorer\",\n",
    "                     method=\"update\",\n",
    "                     args=[{\"visible\": list_4},\n",
    "                           {'title' : 'Team \"Ada the explorer\" : average number of beers rated from each category'}])\n",
    "\n",
    "            ]),\n",
    "        )\n",
    "    ])\n",
    "\n",
    "# Set title\n",
    "fig.update_xaxes(title_text=\"Category\")\n",
    "fig.update_yaxes(title_text=\"Number of beers\")\n",
    "\n",
    "fig.update_layout({'title' : 'All together : average number of beers rated from each category'})\n",
    "\n",
    "fig.show()\n",
    "#fig.write_html(\"all_first_vs_last.html\")"
   ]
  },
  {
   "cell_type": "code",
   "execution_count": 269,
   "metadata": {},
   "outputs": [
    {
     "data": {
      "application/vnd.plotly.v1+json": {
       "config": {
        "plotlyServerURL": "https://plot.ly"
       },
       "data": [
        {
         "coloraxis": "coloraxis",
         "hovertemplate": "Category: %{x}<br>Clusters: %{y}<br>-log10(Pvalue): %{z}<extra></extra>",
         "name": "0",
         "texttemplate": "%{z}",
         "type": "heatmap",
         "x": [
          "Bocks",
          "Brown Ales",
          "Dark Ales",
          "Dark Lagers",
          "Hybrid Beers",
          "India Pale Ales",
          "Pale Ales",
          "Pale Lagers",
          "Porters",
          "Specialty Beer",
          "Stouts",
          "Strong Ales",
          "Weird Cocktail",
          "Wheat Beers",
          "Wild/Sour Beers"
         ],
         "xaxis": "x",
         "y": [
          "Jean-Michel IPA",
          "Ada the explorer",
          "James Bland",
          "Marcel Stout",
          "All"
         ],
         "yaxis": "y",
         "z": [
          [
           0,
           3.72,
           1.62,
           0,
           0,
           20,
           1.46,
           0,
           5.1,
           0,
           14.4,
           0,
           0,
           0,
           20
          ],
          [
           7.92,
           8.8,
           9.41,
           11.39,
           0,
           13.6,
           1.85,
           2.76,
           0,
           0,
           6.39,
           3.33,
           0,
           10.3,
           20
          ],
          [
           0,
           0,
           0,
           20,
           0,
           20,
           5.15,
           20,
           2.51,
           0,
           5.47,
           1.63,
           3.75,
           8.53,
           8.46
          ],
          [
           2.7,
           3.43,
           3.25,
           0,
           0,
           2.62,
           13.14,
           1.39,
           2.49,
           0,
           20,
           2.96,
           2.8,
           1.32,
           20
          ],
          [
           7.98,
           13.03,
           12.22,
           20,
           0,
           1.83,
           4.81,
           17.53,
           0,
           0,
           1.85,
           3.93,
           5.61,
           11.07,
           20
          ]
         ]
        }
       ],
       "layout": {
        "coloraxis": {
         "colorbar": {
          "ticktext": [
           "1",
           "5",
           "10",
           "20"
          ],
          "tickvals": [
           1,
           5,
           10,
           20
          ],
          "title": {
           "text": "-log(Pvalue)"
          }
         },
         "colorscale": [
          [
           0,
           "#0d0887"
          ],
          [
           0.1111111111111111,
           "#46039f"
          ],
          [
           0.2222222222222222,
           "#7201a8"
          ],
          [
           0.3333333333333333,
           "#9c179e"
          ],
          [
           0.4444444444444444,
           "#bd3786"
          ],
          [
           0.5555555555555556,
           "#d8576b"
          ],
          [
           0.6666666666666666,
           "#ed7953"
          ],
          [
           0.7777777777777778,
           "#fb9f3a"
          ],
          [
           0.8888888888888888,
           "#fdca26"
          ],
          [
           1,
           "#f0f921"
          ]
         ]
        },
        "template": {
         "data": {
          "bar": [
           {
            "error_x": {
             "color": "#2a3f5f"
            },
            "error_y": {
             "color": "#2a3f5f"
            },
            "marker": {
             "line": {
              "color": "#E5ECF6",
              "width": 0.5
             },
             "pattern": {
              "fillmode": "overlay",
              "size": 10,
              "solidity": 0.2
             }
            },
            "type": "bar"
           }
          ],
          "barpolar": [
           {
            "marker": {
             "line": {
              "color": "#E5ECF6",
              "width": 0.5
             },
             "pattern": {
              "fillmode": "overlay",
              "size": 10,
              "solidity": 0.2
             }
            },
            "type": "barpolar"
           }
          ],
          "carpet": [
           {
            "aaxis": {
             "endlinecolor": "#2a3f5f",
             "gridcolor": "white",
             "linecolor": "white",
             "minorgridcolor": "white",
             "startlinecolor": "#2a3f5f"
            },
            "baxis": {
             "endlinecolor": "#2a3f5f",
             "gridcolor": "white",
             "linecolor": "white",
             "minorgridcolor": "white",
             "startlinecolor": "#2a3f5f"
            },
            "type": "carpet"
           }
          ],
          "choropleth": [
           {
            "colorbar": {
             "outlinewidth": 0,
             "ticks": ""
            },
            "type": "choropleth"
           }
          ],
          "contour": [
           {
            "colorbar": {
             "outlinewidth": 0,
             "ticks": ""
            },
            "colorscale": [
             [
              0,
              "#0d0887"
             ],
             [
              0.1111111111111111,
              "#46039f"
             ],
             [
              0.2222222222222222,
              "#7201a8"
             ],
             [
              0.3333333333333333,
              "#9c179e"
             ],
             [
              0.4444444444444444,
              "#bd3786"
             ],
             [
              0.5555555555555556,
              "#d8576b"
             ],
             [
              0.6666666666666666,
              "#ed7953"
             ],
             [
              0.7777777777777778,
              "#fb9f3a"
             ],
             [
              0.8888888888888888,
              "#fdca26"
             ],
             [
              1,
              "#f0f921"
             ]
            ],
            "type": "contour"
           }
          ],
          "contourcarpet": [
           {
            "colorbar": {
             "outlinewidth": 0,
             "ticks": ""
            },
            "type": "contourcarpet"
           }
          ],
          "heatmap": [
           {
            "colorbar": {
             "outlinewidth": 0,
             "ticks": ""
            },
            "colorscale": [
             [
              0,
              "#0d0887"
             ],
             [
              0.1111111111111111,
              "#46039f"
             ],
             [
              0.2222222222222222,
              "#7201a8"
             ],
             [
              0.3333333333333333,
              "#9c179e"
             ],
             [
              0.4444444444444444,
              "#bd3786"
             ],
             [
              0.5555555555555556,
              "#d8576b"
             ],
             [
              0.6666666666666666,
              "#ed7953"
             ],
             [
              0.7777777777777778,
              "#fb9f3a"
             ],
             [
              0.8888888888888888,
              "#fdca26"
             ],
             [
              1,
              "#f0f921"
             ]
            ],
            "type": "heatmap"
           }
          ],
          "heatmapgl": [
           {
            "colorbar": {
             "outlinewidth": 0,
             "ticks": ""
            },
            "colorscale": [
             [
              0,
              "#0d0887"
             ],
             [
              0.1111111111111111,
              "#46039f"
             ],
             [
              0.2222222222222222,
              "#7201a8"
             ],
             [
              0.3333333333333333,
              "#9c179e"
             ],
             [
              0.4444444444444444,
              "#bd3786"
             ],
             [
              0.5555555555555556,
              "#d8576b"
             ],
             [
              0.6666666666666666,
              "#ed7953"
             ],
             [
              0.7777777777777778,
              "#fb9f3a"
             ],
             [
              0.8888888888888888,
              "#fdca26"
             ],
             [
              1,
              "#f0f921"
             ]
            ],
            "type": "heatmapgl"
           }
          ],
          "histogram": [
           {
            "marker": {
             "pattern": {
              "fillmode": "overlay",
              "size": 10,
              "solidity": 0.2
             }
            },
            "type": "histogram"
           }
          ],
          "histogram2d": [
           {
            "colorbar": {
             "outlinewidth": 0,
             "ticks": ""
            },
            "colorscale": [
             [
              0,
              "#0d0887"
             ],
             [
              0.1111111111111111,
              "#46039f"
             ],
             [
              0.2222222222222222,
              "#7201a8"
             ],
             [
              0.3333333333333333,
              "#9c179e"
             ],
             [
              0.4444444444444444,
              "#bd3786"
             ],
             [
              0.5555555555555556,
              "#d8576b"
             ],
             [
              0.6666666666666666,
              "#ed7953"
             ],
             [
              0.7777777777777778,
              "#fb9f3a"
             ],
             [
              0.8888888888888888,
              "#fdca26"
             ],
             [
              1,
              "#f0f921"
             ]
            ],
            "type": "histogram2d"
           }
          ],
          "histogram2dcontour": [
           {
            "colorbar": {
             "outlinewidth": 0,
             "ticks": ""
            },
            "colorscale": [
             [
              0,
              "#0d0887"
             ],
             [
              0.1111111111111111,
              "#46039f"
             ],
             [
              0.2222222222222222,
              "#7201a8"
             ],
             [
              0.3333333333333333,
              "#9c179e"
             ],
             [
              0.4444444444444444,
              "#bd3786"
             ],
             [
              0.5555555555555556,
              "#d8576b"
             ],
             [
              0.6666666666666666,
              "#ed7953"
             ],
             [
              0.7777777777777778,
              "#fb9f3a"
             ],
             [
              0.8888888888888888,
              "#fdca26"
             ],
             [
              1,
              "#f0f921"
             ]
            ],
            "type": "histogram2dcontour"
           }
          ],
          "mesh3d": [
           {
            "colorbar": {
             "outlinewidth": 0,
             "ticks": ""
            },
            "type": "mesh3d"
           }
          ],
          "parcoords": [
           {
            "line": {
             "colorbar": {
              "outlinewidth": 0,
              "ticks": ""
             }
            },
            "type": "parcoords"
           }
          ],
          "pie": [
           {
            "automargin": true,
            "type": "pie"
           }
          ],
          "scatter": [
           {
            "fillpattern": {
             "fillmode": "overlay",
             "size": 10,
             "solidity": 0.2
            },
            "type": "scatter"
           }
          ],
          "scatter3d": [
           {
            "line": {
             "colorbar": {
              "outlinewidth": 0,
              "ticks": ""
             }
            },
            "marker": {
             "colorbar": {
              "outlinewidth": 0,
              "ticks": ""
             }
            },
            "type": "scatter3d"
           }
          ],
          "scattercarpet": [
           {
            "marker": {
             "colorbar": {
              "outlinewidth": 0,
              "ticks": ""
             }
            },
            "type": "scattercarpet"
           }
          ],
          "scattergeo": [
           {
            "marker": {
             "colorbar": {
              "outlinewidth": 0,
              "ticks": ""
             }
            },
            "type": "scattergeo"
           }
          ],
          "scattergl": [
           {
            "marker": {
             "colorbar": {
              "outlinewidth": 0,
              "ticks": ""
             }
            },
            "type": "scattergl"
           }
          ],
          "scattermapbox": [
           {
            "marker": {
             "colorbar": {
              "outlinewidth": 0,
              "ticks": ""
             }
            },
            "type": "scattermapbox"
           }
          ],
          "scatterpolar": [
           {
            "marker": {
             "colorbar": {
              "outlinewidth": 0,
              "ticks": ""
             }
            },
            "type": "scatterpolar"
           }
          ],
          "scatterpolargl": [
           {
            "marker": {
             "colorbar": {
              "outlinewidth": 0,
              "ticks": ""
             }
            },
            "type": "scatterpolargl"
           }
          ],
          "scatterternary": [
           {
            "marker": {
             "colorbar": {
              "outlinewidth": 0,
              "ticks": ""
             }
            },
            "type": "scatterternary"
           }
          ],
          "surface": [
           {
            "colorbar": {
             "outlinewidth": 0,
             "ticks": ""
            },
            "colorscale": [
             [
              0,
              "#0d0887"
             ],
             [
              0.1111111111111111,
              "#46039f"
             ],
             [
              0.2222222222222222,
              "#7201a8"
             ],
             [
              0.3333333333333333,
              "#9c179e"
             ],
             [
              0.4444444444444444,
              "#bd3786"
             ],
             [
              0.5555555555555556,
              "#d8576b"
             ],
             [
              0.6666666666666666,
              "#ed7953"
             ],
             [
              0.7777777777777778,
              "#fb9f3a"
             ],
             [
              0.8888888888888888,
              "#fdca26"
             ],
             [
              1,
              "#f0f921"
             ]
            ],
            "type": "surface"
           }
          ],
          "table": [
           {
            "cells": {
             "fill": {
              "color": "#EBF0F8"
             },
             "line": {
              "color": "white"
             }
            },
            "header": {
             "fill": {
              "color": "#C8D4E3"
             },
             "line": {
              "color": "white"
             }
            },
            "type": "table"
           }
          ]
         },
         "layout": {
          "annotationdefaults": {
           "arrowcolor": "#2a3f5f",
           "arrowhead": 0,
           "arrowwidth": 1
          },
          "autotypenumbers": "strict",
          "coloraxis": {
           "colorbar": {
            "outlinewidth": 0,
            "ticks": ""
           }
          },
          "colorscale": {
           "diverging": [
            [
             0,
             "#8e0152"
            ],
            [
             0.1,
             "#c51b7d"
            ],
            [
             0.2,
             "#de77ae"
            ],
            [
             0.3,
             "#f1b6da"
            ],
            [
             0.4,
             "#fde0ef"
            ],
            [
             0.5,
             "#f7f7f7"
            ],
            [
             0.6,
             "#e6f5d0"
            ],
            [
             0.7,
             "#b8e186"
            ],
            [
             0.8,
             "#7fbc41"
            ],
            [
             0.9,
             "#4d9221"
            ],
            [
             1,
             "#276419"
            ]
           ],
           "sequential": [
            [
             0,
             "#0d0887"
            ],
            [
             0.1111111111111111,
             "#46039f"
            ],
            [
             0.2222222222222222,
             "#7201a8"
            ],
            [
             0.3333333333333333,
             "#9c179e"
            ],
            [
             0.4444444444444444,
             "#bd3786"
            ],
            [
             0.5555555555555556,
             "#d8576b"
            ],
            [
             0.6666666666666666,
             "#ed7953"
            ],
            [
             0.7777777777777778,
             "#fb9f3a"
            ],
            [
             0.8888888888888888,
             "#fdca26"
            ],
            [
             1,
             "#f0f921"
            ]
           ],
           "sequentialminus": [
            [
             0,
             "#0d0887"
            ],
            [
             0.1111111111111111,
             "#46039f"
            ],
            [
             0.2222222222222222,
             "#7201a8"
            ],
            [
             0.3333333333333333,
             "#9c179e"
            ],
            [
             0.4444444444444444,
             "#bd3786"
            ],
            [
             0.5555555555555556,
             "#d8576b"
            ],
            [
             0.6666666666666666,
             "#ed7953"
            ],
            [
             0.7777777777777778,
             "#fb9f3a"
            ],
            [
             0.8888888888888888,
             "#fdca26"
            ],
            [
             1,
             "#f0f921"
            ]
           ]
          },
          "colorway": [
           "#636efa",
           "#EF553B",
           "#00cc96",
           "#ab63fa",
           "#FFA15A",
           "#19d3f3",
           "#FF6692",
           "#B6E880",
           "#FF97FF",
           "#FECB52"
          ],
          "font": {
           "color": "#2a3f5f"
          },
          "geo": {
           "bgcolor": "white",
           "lakecolor": "white",
           "landcolor": "#E5ECF6",
           "showlakes": true,
           "showland": true,
           "subunitcolor": "white"
          },
          "hoverlabel": {
           "align": "left"
          },
          "hovermode": "closest",
          "mapbox": {
           "style": "light"
          },
          "paper_bgcolor": "white",
          "plot_bgcolor": "#E5ECF6",
          "polar": {
           "angularaxis": {
            "gridcolor": "white",
            "linecolor": "white",
            "ticks": ""
           },
           "bgcolor": "#E5ECF6",
           "radialaxis": {
            "gridcolor": "white",
            "linecolor": "white",
            "ticks": ""
           }
          },
          "scene": {
           "xaxis": {
            "backgroundcolor": "#E5ECF6",
            "gridcolor": "white",
            "gridwidth": 2,
            "linecolor": "white",
            "showbackground": true,
            "ticks": "",
            "zerolinecolor": "white"
           },
           "yaxis": {
            "backgroundcolor": "#E5ECF6",
            "gridcolor": "white",
            "gridwidth": 2,
            "linecolor": "white",
            "showbackground": true,
            "ticks": "",
            "zerolinecolor": "white"
           },
           "zaxis": {
            "backgroundcolor": "#E5ECF6",
            "gridcolor": "white",
            "gridwidth": 2,
            "linecolor": "white",
            "showbackground": true,
            "ticks": "",
            "zerolinecolor": "white"
           }
          },
          "shapedefaults": {
           "line": {
            "color": "#2a3f5f"
           }
          },
          "ternary": {
           "aaxis": {
            "gridcolor": "white",
            "linecolor": "white",
            "ticks": ""
           },
           "baxis": {
            "gridcolor": "white",
            "linecolor": "white",
            "ticks": ""
           },
           "bgcolor": "#E5ECF6",
           "caxis": {
            "gridcolor": "white",
            "linecolor": "white",
            "ticks": ""
           }
          },
          "title": {
           "x": 0.05
          },
          "xaxis": {
           "automargin": true,
           "gridcolor": "white",
           "linecolor": "white",
           "ticks": "",
           "title": {
            "standoff": 15
           },
           "zerolinecolor": "white",
           "zerolinewidth": 2
          },
          "yaxis": {
           "automargin": true,
           "gridcolor": "white",
           "linecolor": "white",
           "ticks": "",
           "title": {
            "standoff": 15
           },
           "zerolinecolor": "white",
           "zerolinewidth": 2
          }
         }
        },
        "title": {
         "text": "Confidence in the change of the number of beers rated in each category <br>between the first 50 and last 50 ratings per cluster<br><sup>Heatmap of -log10(pval) (with pval > 0.05 clipped to 1 and pval < 1e-20 clipped to 1e-20)</sup>"
        },
        "xaxis": {
         "anchor": "y",
         "constrain": "domain",
         "domain": [
          0,
          1
         ],
         "scaleanchor": "y",
         "title": {
          "text": "Category"
         }
        },
        "yaxis": {
         "anchor": "x",
         "autorange": "reversed",
         "constrain": "domain",
         "domain": [
          0,
          1
         ],
         "title": {
          "text": "Clusters"
         }
        }
       }
      }
     },
     "metadata": {},
     "output_type": "display_data"
    }
   ],
   "source": [
    "#Heatmap to show the confidence in the changes\n",
    "\n",
    "df_pval = mean_user.iloc[:,30:35].T.copy()\n",
    "pval = df_pval.to_numpy()\n",
    "#print(pval.dtypes)\n",
    "\n",
    "idx = {k: v for k, v in sorted(mapping_name_idx.items(), key=lambda item: item[1])}\n",
    "\n",
    "\n",
    "#We clip extreme values for visibility \n",
    "pval[pval < 1e-20] = 1e-20 #extremelly confident\n",
    "pval[pval > 0.05] = 1      #unsignificant\n",
    "pval = -np.log10(pval)\n",
    "pval = np.round(pval,2)\n",
    "\n",
    "fig = px.imshow(pval, text_auto=True,\n",
    "                title=\"Confidence in the change of the number of beers rated in each category <br>\"\\\n",
    "                      \"between the first 50 and last 50 ratings per cluster<br><sup>\"\\\n",
    "                      \"Heatmap of -log10(pval) (with pval > 0.05 clipped to 1 and pval < 1e-20 clipped to 1e-20)</sup>\",\n",
    "                labels=dict(x=\"Category\", y=\"Clusters\", color=\"-log10(Pvalue)\"),\n",
    "                x=df_pval.columns.values,\n",
    "                y=list(idx.keys()),\n",
    "               )\n",
    "\n",
    "fig.update_layout(coloraxis_colorbar=dict(\n",
    "    title=\"-log(Pvalue)\",\n",
    "    tickvals=[1,5,10,20],\n",
    "    ticktext=[\"1\", \"5\", \"10\", \"20\"],\n",
    "))\n",
    "\n",
    "\n",
    "fig.show()"
   ]
  },
  {
   "attachments": {},
   "cell_type": "markdown",
   "metadata": {},
   "source": [
    "# Dimensionality reduction"
   ]
  },
  {
   "cell_type": "code",
   "execution_count": 270,
   "metadata": {},
   "outputs": [],
   "source": [
    "# To vizualize our clusters, we procede a dimensionality reduction with PCA and UMAP"
   ]
  },
  {
   "attachments": {},
   "cell_type": "markdown",
   "metadata": {},
   "source": [
    "### PCA"
   ]
  },
  {
   "cell_type": "code",
   "execution_count": 271,
   "metadata": {},
   "outputs": [
    {
     "name": "stdout",
     "output_type": "stream",
     "text": [
      "the variances explained by the 3 first principal components are [0.43681178 0.23533086 0.10548838] (respectively)\n"
     ]
    }
   ],
   "source": [
    "#plot by using pca methods in order to have a visualization of our clustering\n",
    "\n",
    "pca_3 = PCA(n_components=3)\n",
    "users_pca_3 = pca_3.fit_transform(user_to_cat_first[user_to_cat_first.columns[0:15]].values)\n",
    "print('the variances explained by the 3 first principal components are',pca_3.explained_variance_ratio_,'(respectively)')\n",
    "\n",
    "# We store the results in a dataframe - indices keep the same order\n",
    "users_pca_3 = pd.DataFrame(users_pca_3)\n",
    "users_pca_3.index = user_to_cat_first.index\n",
    "users_pca_3.columns= ['Principal component 1','Principal component 2','Principal component 3']\n",
    "users_pca_3['cluster'] = user_to_cat_first['first_50_cluster']"
   ]
  },
  {
   "cell_type": "code",
   "execution_count": 272,
   "metadata": {},
   "outputs": [
    {
     "data": {
      "application/vnd.plotly.v1+json": {
       "config": {
        "plotlyServerURL": "https://plot.ly"
       },
       "data": [
        {
         "hovertemplate": "color=Jean-Michel IPA<br>Principal component 1=%{x}<br>Principal component 2=%{y}<br>Principal component 3=%{z}<extra></extra>",
         "legendgroup": "Jean-Michel IPA",
         "marker": {
          "color": "#636efa",
          "opacity": 1,
          "symbol": "circle"
         },
         "mode": "markers",
         "name": "Jean-Michel IPA",
         "scene": "scene",
         "showlegend": true,
         "type": "scatter3d",
         "x": [
          18.047276169860368,
          14.667616564811032,
          5.923413144620739,
          15.13593904977276,
          4.966910633476264,
          7.184598718627457,
          13.068839751520157,
          10.339555620752845,
          11.322101292736264,
          8.757688972022146,
          4.380975177322201,
          11.81481612489448,
          9.393921124331374,
          10.423781960784291,
          6.047573655349518,
          17.826270717924054,
          5.603051621695663,
          17.79167421334025,
          4.741326729432896,
          5.541612259348227,
          11.326783367737589,
          16.778985429708676,
          5.579575113512362,
          16.35706684644843,
          11.332177060359115,
          13.652685008815203,
          20.566690484733726,
          5.999759114723304,
          16.460097412995434,
          9.417237858139059,
          22.648201593679232,
          15.446298687821535,
          5.32280988650686,
          17.55353495277019,
          6.201974470562018,
          15.24971725890608,
          12.810224841998503,
          4.972612655100481,
          8.158876770537399,
          20.473843449687717,
          8.008118919733725,
          6.550778670606021,
          5.4745702853121045,
          12.174955562729826,
          16.18364965509037,
          8.409127058409727,
          4.28973912522962,
          12.632790311190712,
          8.624719548670482,
          11.670074987791995,
          7.282159983027054,
          6.330504665279952,
          5.429657729166791,
          12.578186460397287,
          9.63155820004212,
          7.549733008426708,
          18.557040565637553,
          23.50917002305491,
          5.492021985048898,
          10.327794021594288,
          10.049474956660436,
          15.291477556894447,
          7.6109848164172496,
          10.13108691406391,
          19.369566194167408,
          16.39734106290256,
          8.111119486968503,
          10.736991760682896,
          13.776698137894265,
          20.255598058387157,
          20.45622951537053,
          13.462803512722868,
          13.610179176149385,
          16.814518246698306,
          18.04788138692151,
          20.383439282805192,
          17.805402100529435,
          5.027143894005585,
          15.545831616321026,
          6.15571452731134,
          23.923063465660217,
          9.524267037670624,
          5.303965238403477,
          25.383199411978016,
          20.540249782396355,
          21.774714044683936,
          8.692064414758695,
          20.75046107856578,
          7.469127577148814,
          17.81414760952941,
          12.266345747542571,
          4.9924225391218195,
          9.894936914482326,
          10.131227130283309,
          17.909659677945395,
          11.717122973987456,
          20.131868667178416,
          15.9721472705848,
          5.810049436747686,
          8.603096137424942,
          6.648390838400468,
          12.153765222546168,
          19.49942918932972,
          12.234276295298725,
          22.251716444497593,
          15.568022034040833,
          9.097284143895319,
          14.076560141805777,
          6.918279095037638,
          15.176727549551169,
          8.407581831494989,
          7.323500440805257,
          10.402157705031964,
          9.001236947756896,
          16.527281207669226,
          7.0838903155050135,
          14.840546548547776,
          19.973455950485185,
          11.768667554731813,
          7.993716913678665,
          5.285556017795175,
          8.435280335189793,
          11.516517285465023,
          7.042118933667313,
          11.548984175885238,
          12.762611266058132,
          5.563711581296725,
          9.71467081375147,
          7.674129670969795,
          6.468018109329162,
          7.274830366241049,
          25.508080001806427,
          5.672102758812032,
          13.798101076131996,
          11.413407570220562,
          6.169460993699707,
          5.357749015393883,
          12.39669648103056,
          19.47322498738228,
          26.463624599835303,
          9.369122821657255,
          11.998425884241913,
          8.449156958606723,
          14.334765288475818,
          10.266168426965947,
          16.214820955389996,
          8.067643033823968,
          18.0154081619763,
          6.737454123091218,
          9.820986956420562,
          20.504348157925868,
          21.567359748243156,
          12.657457656817718,
          5.93698409775203,
          5.593086011154027,
          15.66289489531239,
          8.086439741047085,
          9.330939082333186,
          12.961627445621879,
          7.929130848695127,
          8.315347226356737,
          11.757140463882099,
          14.158880377430291,
          15.213920988711529,
          17.454389164472683,
          13.248608228805015,
          3.8542338797324294,
          5.473909391539604,
          7.1571523726349575,
          6.650455286722633,
          17.0423229649669,
          19.571727917975974,
          17.70982352120261,
          6.865011335217456,
          14.048072328864846,
          10.547284858385018,
          7.624436541881557,
          5.2521382614430525,
          11.679198157637748,
          9.127093022898146,
          16.379661543563394,
          27.161990147089607,
          13.020617025840233,
          6.574370411470975,
          10.481421305083115,
          7.294330374024456,
          11.972114412453159,
          8.83376715779079,
          11.131402922054285,
          7.216827933749091,
          8.31767718919612,
          6.740041468404495,
          20.26129462351255,
          26.106979445975647,
          10.922984850142294,
          9.309570785273031,
          21.070378396915004,
          7.27608883271191,
          5.754947036215776,
          18.46378107307762,
          19.88466042672108,
          12.15515809592126,
          5.559710538728989,
          17.97924083309109,
          5.000696446611739,
          18.276545196061843,
          5.880583384181635,
          5.619845248214907,
          12.272352312079013,
          8.262445072030829,
          6.049096061744313,
          6.166280684933815,
          10.114679357966967,
          16.79443085812137,
          17.714445207108422,
          7.27021365449202,
          6.75680928414636,
          10.396799336856722,
          9.116512634677628,
          7.047082740086004,
          14.768102300707147,
          11.146230280565108,
          18.145296453827218,
          32.078935815939445,
          12.24641585639189,
          9.211511351055288,
          12.764338947228444,
          9.250369570867843,
          9.700576988143542,
          10.44776615280702,
          4.993708102097271,
          7.64480892825318,
          9.896878109726625,
          7.746876683720691,
          20.33469763194451,
          14.36679012984812,
          10.698707118801467,
          8.655288284378193,
          9.356338086926206
         ],
         "y": [
          -4.419624294990099,
          -0.7664808307243559,
          -3.60164571743981,
          0.3645181443285507,
          -0.7780156923326235,
          -7.668738464518927,
          -1.0948825502785366,
          -2.828222453667911,
          -4.556585447080083,
          -5.190333040372202,
          1.940982989259955,
          -6.433656299326955,
          3.624707036520681,
          -1.663647007259528,
          2.2103027102099015,
          -3.250199150548722,
          -3.5812550977827318,
          0.8828693050827793,
          -3.796841668521691,
          0.9871960600367395,
          -1.1749600407506053,
          -5.9726684455568355,
          3.14606466845966,
          -1.9214719083084075,
          -0.8921267320081786,
          1.7144009918050793,
          -2.6122050972053867,
          -8.98908907123219,
          -6.692649348058145,
          -4.263873191130615,
          -6.696187202400183,
          -6.763213307663456,
          -5.913266569871839,
          -7.398877601680109,
          -0.9840676868635698,
          -0.2597329042495491,
          -3.5843227328330958,
          -1.342343321307848,
          3.6740184633382857,
          -2.35031248151162,
          -3.1305171307657615,
          -3.152979868294804,
          0.589065733137707,
          -2.037653779613627,
          0.30966832953430024,
          -1.9778257960266887,
          -4.6561213774753325,
          -3.067412345917102,
          -1.7714477599136615,
          -8.677681522240619,
          0.53484235389781,
          -2.0412224269826478,
          -0.35896913833663957,
          -4.713514621265304,
          0.3622246559808929,
          0.9970622014446325,
          2.094144173441559,
          -8.87372782951444,
          -7.899285533550414,
          0.8126202825057578,
          -5.000385904520179,
          5.7157946760024805,
          1.7694070179919799,
          -2.3630787626878678,
          -3.5790675093480866,
          -6.320045238207499,
          0.8567306850381822,
          2.841920877724294,
          -6.381645830581803,
          -5.114502797575849,
          -5.877378909613682,
          -5.79108439650352,
          -6.0818179341251515,
          -4.244699302004939,
          -6.368987053971845,
          -8.247440272449575,
          -3.366425783083838,
          -0.348752849314651,
          1.7553659136097322,
          2.4591530944984634,
          -4.843325606976999,
          4.01638695266558,
          -1.3053364772754843,
          -4.481664306512584,
          3.6623183301242834,
          -6.315192486859319,
          2.877855041516258,
          0.35695604404295506,
          -0.8722569059445157,
          -9.928833346885082,
          3.098843480704771,
          -6.849429174489834,
          4.5679185782260765,
          -0.5844867369975613,
          -6.432558140265804,
          5.177881465989812,
          1.3828724702283781,
          -0.09706183292163209,
          -4.985336149443827,
          3.699418152494732,
          -3.49905832269317,
          -4.1185922819064045,
          -4.575260682836106,
          -3.7371797356224397,
          -1.8794510535383455,
          -8.000097378903707,
          -2.207727465227286,
          2.0842327052343035,
          1.553647145189171,
          -5.078941210110641,
          4.167169444077959,
          -5.421797094568139,
          0.2705424031766991,
          -1.476392730689306,
          7.855419329474337,
          -8.10632938835592,
          -3.9088203338899157,
          -5.3407803042264055,
          3.8338520841158776,
          0.11145858700658426,
          -3.4234597555139357,
          2.108016567885084,
          1.610455909208367,
          -1.675175778417678,
          3.162708496030529,
          -2.149799648017751,
          2.17679283489425,
          3.5369651817651886,
          -4.817580245886484,
          -8.190097839877977,
          4.67419990364507,
          0.8115624485125402,
          -4.159923513428528,
          -7.215701909875718,
          -3.660368197836179,
          -1.442458901868341,
          -4.682986560694481,
          -6.54987583752944,
          0.13426300159263785,
          -7.425693734663337,
          0.8881455547577258,
          3.089490443850714,
          -6.6781202860789115,
          -2.894906057810103,
          -4.869663817911596,
          -5.3515311490098725,
          0.8247937734319525,
          -7.797433877348495,
          -0.31979182943638834,
          2.752254015143943,
          -5.801999226199094,
          -4.465703884661705,
          3.0904944347745125,
          -3.573931454091486,
          -0.28917330680985254,
          -9.093583289560232,
          -5.637784442147944,
          -5.605954034118221,
          -7.051603836229712,
          -8.952665709795491,
          1.1695711019145412,
          -4.5026168797071335,
          -6.509865524185731,
          1.171286520395889,
          0.30658265138482366,
          -1.9774451508849769,
          -6.164169454003847,
          0.8216055827435187,
          -5.558878456672861,
          -2.8392450082438003,
          -3.433171340051124,
          3.0370282438703335,
          -5.1511542952146705,
          -2.386181883205395,
          -1.7639463061656915,
          6.108770048111683,
          5.814584943587587,
          -1.4542106459039257,
          -0.49762837947416333,
          0.16835583078541735,
          0.2169586681530753,
          -5.312104662057598,
          -3.629380582416718,
          -1.3043878325560592,
          -5.817948727893208,
          -0.4194306646359876,
          -3.58907210610115,
          -2.941219383824265,
          -6.083996145781463,
          -9.13355228647427,
          4.427338787109442,
          -4.141132608176977,
          -3.0579222797995382,
          -6.2521046508647,
          -3.6688344138526365,
          4.794141206443825,
          -6.711857861839595,
          -1.0195304468124933,
          0.5180770724439041,
          -7.29670352081754,
          -2.5016034454881413,
          -6.071765781860025,
          -1.5945548958325273,
          -7.679186324118777,
          -2.163653170590324,
          -8.23124787720094,
          -4.114145694501767,
          -1.9370473869734461,
          0.805862140504062,
          -1.5609105733906403,
          2.4466778455210885,
          3.6485377421252747,
          -3.762679912693141,
          -9.057563394417823,
          -4.28824771371982,
          -0.6217727260271695,
          -0.7080336358226168,
          -6.340835247958756,
          0.5398859704277608,
          -7.6606707503662195,
          -1.1720587444322232,
          -5.164590709514254,
          0.10543326164167989,
          -7.2970396732541705,
          -3.1121369508435284,
          0.6620979579168349,
          -6.660126918057641,
          -1.0371887127185395,
          7.710512579183021,
          3.5362270018747997,
          -3.400242274313119,
          -1.2824884235763834,
          -5.620558748397419,
          5.235397228548011,
          -4.850009065806391,
          1.565646216006073,
          6.037139768067775,
          -2.5837020309684475,
          -2.8788613749555934
         ],
         "z": [
          2.3693577225417433,
          5.943391308702438,
          -0.4815914305126181,
          4.151865102837753,
          0.899897262181633,
          4.710158617179093,
          0.9693360447306338,
          -3.824632698885274,
          -2.0502655128597875,
          4.448676506813942,
          2.1286428294402238,
          4.190888360689496,
          -1.7617333599948104,
          -4.9471783047848,
          0.5658750786311679,
          4.095770319179051,
          -0.5727029512208031,
          2.3025680266463384,
          -2.9463211203373323,
          -1.7470561309200225,
          -0.136338186353309,
          0.8845970263558401,
          1.9720054520281116,
          -1.3667104405901358,
          -2.1161137103437824,
          0.8068832368188104,
          -0.005551667761023029,
          2.1680006739937543,
          2.065731446058954,
          -3.74098749080949,
          3.232925976847586,
          1.154327037859095,
          -5.981191471440162,
          -4.316628258031094,
          -1.8645842098152516,
          1.5688923162251651,
          -1.517625329600151,
          3.990888059541852,
          2.4728590927358196,
          0.6578188449160193,
          -1.7537371350538713,
          0.13092620593907026,
          -2.799005016861517,
          -1.7057108087109902,
          2.1092994997801604,
          -1.4686960966440457,
          0.3119722937468879,
          2.3380781253382104,
          -1.9028676741658246,
          -3.3924461693691783,
          -1.3733867171449443,
          -4.656890195279646,
          -3.3109735475377335,
          1.5144641580994882,
          2.02659897703891,
          -1.7215817635290804,
          2.0500771092210477,
          -2.4385562627492128,
          -2.7048265294124727,
          -0.49923216614637855,
          -1.3285788772707414,
          2.5385577172064053,
          1.5698592026730616,
          0.3361743957544684,
          0.07891771782268106,
          -2.3977897095079825,
          3.6301485871387644,
          -0.3526057666246818,
          -1.12446997441446,
          0.31418464285060527,
          4.462711677485094,
          0.27403931238918905,
          -5.499047444378703,
          1.5466091120971892,
          -0.6340039392886213,
          1.0457710422833413,
          5.264104420907891,
          -1.4724626351716599,
          3.3101516026294724,
          0.021349618343258707,
          2.192896445257554,
          -0.003562800688955307,
          -3.6260148456486476,
          1.7765685759604608,
          5.894266906790004,
          2.2417277927334127,
          2.3418167500428977,
          2.8381852224960444,
          1.4344907631268207,
          -6.902882779650035,
          2.6347270452653797,
          -4.102487166273517,
          1.3144141087383814,
          0.12278184492518238,
          -1.2041859585252626,
          1.395342702283297,
          5.027870052078452,
          -0.6019096803115681,
          2.946625014053474,
          -0.5309279619619843,
          -1.957723790507939,
          -0.9177870034743163,
          1.3877491862567384,
          5.574810404822484,
          3.485788364213275,
          2.4589412704752878,
          -1.040818896884546,
          3.1469901068887625,
          -0.5547798755550012,
          -1.4631340110702116,
          2.3679654948768776,
          -1.8408979957220273,
          -1.4749764520252029,
          0.7897584865322215,
          5.418777283548872,
          -0.8322054704984941,
          1.91966055908577,
          1.8701528127426248,
          1.4975325692757273,
          -0.07955104986946325,
          1.93006664304478,
          0.849212744448188,
          -1.6478549105807365,
          0.5713065154835896,
          0.42644491606986523,
          -0.4152089330032298,
          -3.7540503000598715,
          -0.978579804069188,
          -0.7950671901579676,
          -2.245441153796873,
          -1.451820189064509,
          5.8555806014831635,
          -4.157688045172176,
          -2.0600800828691437,
          -3.204937187531332,
          -1.7154134390687448,
          -1.596803247593607,
          1.2028965963844056,
          2.583542193354824,
          0.9196858083096571,
          0.8456199041607555,
          1.4255393514685848,
          -1.4553910131326613,
          -2.8134465160826925,
          1.0062782882013788,
          0.972008331112096,
          -2.634031377110751,
          0.5168643952727524,
          -4.287757561022947,
          6.261629095844891,
          -1.704328203710398,
          0.6292009591237505,
          2.4779601833777476,
          -4.368770262989617,
          -5.9360724095383315,
          3.054509381240174,
          0.7909243001532325,
          7.98821261271638,
          2.1743309047789046,
          0.596046781275148,
          -1.4821419893810461,
          1.3108442780495564,
          -2.26184590675244,
          3.4097783092836975,
          4.403645385393057,
          2.63402800168548,
          7.600497890384379,
          -3.760164884137553,
          1.0603117851067214,
          -0.7254965014956088,
          1.2757424400439126,
          4.660197535573259,
          -2.7823384182849518,
          -0.8045827108384221,
          4.044003731194076,
          5.0293625955773225,
          1.7256434715625142,
          -1.807964064574828,
          -1.3647216959170976,
          -0.29120438952274,
          1.6608159926389259,
          2.8058798964597655,
          0.93267170849936,
          1.7771292039061466,
          -0.21767516606800552,
          -0.951027096167635,
          0.10786985153688575,
          -0.1943932906390175,
          -6.3241323212572045,
          -6.614470240077809,
          1.2352710320760185,
          -0.6323573919814875,
          1.9235928284704322,
          3.2720557617294994,
          -0.9020686398709135,
          0.36855803104476664,
          -0.4319621403165956,
          -1.6772527760868925,
          -5.038149338314259,
          2.1560832090095126,
          2.9374155373698883,
          -5.275408750111451,
          0.5054096718176032,
          2.644854535056408,
          -0.25629102740456705,
          7.875650852655406,
          -7.312230160065062,
          0.44225610252962927,
          -2.2156097666956227,
          -1.8992571375702736,
          -0.9876412528565033,
          -0.33591740843394563,
          -0.7039228705553542,
          -6.466021428966961,
          7.3552148080997055,
          -0.36148278333425454,
          1.4664409701881036,
          -5.098648361167929,
          2.3802989877230636,
          -0.8934171761592445,
          3.284848182639645,
          1.5197416452282353,
          2.6259547150197062,
          5.452042855049326,
          -1.1886270813573048,
          2.1369173357177065,
          -6.458072803265763,
          1.0222338302320548,
          2.262445028589878,
          2.1675103533062203,
          1.1337572569589778,
          5.186385258616916,
          -3.0336417925931887,
          0.4337965897996297,
          -1.3640427660132686,
          3.784348206372711,
          3.849672880844081,
          -4.128099512372241,
          1.0509816351720216
         ]
        },
        {
         "hovertemplate": "color=Ada the explorer<br>Principal component 1=%{x}<br>Principal component 2=%{y}<br>Principal component 3=%{z}<extra></extra>",
         "legendgroup": "Ada the explorer",
         "marker": {
          "color": "#EF553B",
          "opacity": 1,
          "symbol": "circle"
         },
         "mode": "markers",
         "name": "Ada the explorer",
         "scene": "scene",
         "showlegend": true,
         "type": "scatter3d",
         "x": [
          -1.292770774742946,
          2.348664077418896,
          -10.039098367267469,
          -2.59470578531458,
          1.9332557008825726,
          -10.80607025118067,
          -11.707770647084773,
          1.4227778103163764,
          -9.492169671436654,
          -7.8440206960937715,
          -9.286791973045922,
          -7.933237322088518,
          -6.476435513154787,
          -9.404181452269988,
          -7.12574334037501,
          -5.2920318048078085,
          2.5808312570070964,
          0.04865472854515804,
          0.3990215956332594,
          -0.08211905887507986,
          -1.969637690712272,
          -8.168741010333903,
          -6.96695537592829,
          -3.6449472006521138,
          0.4945814357423436,
          -11.902931832187956,
          -2.06756264410749,
          -6.294733433081775,
          -4.170424613086015,
          -1.293273517749902,
          2.5532219954870454,
          -9.484221405722366,
          0.18536442125448394,
          3.380648116171147,
          -5.709539685105756,
          -10.331361974770836,
          4.3271593764512986,
          -9.3656481032404,
          -4.568622749966073,
          -7.377000693165256,
          -7.200998747612075,
          -6.634671875857904,
          0.3682766018340139,
          2.7030099981951703,
          -3.290945261286114,
          -8.256032120655554,
          -0.1743107039533935,
          -2.232524681673142,
          -0.8800575104081285,
          -4.73011557958439,
          -3.419019878722551,
          -2.7965505083552187,
          1.1592462426765915,
          1.1571822114891168,
          -0.29626340780264016,
          -0.700579589251639,
          3.202669097562657,
          -1.158838053838127,
          -8.72674647740356,
          -1.2468058523481247,
          -0.8288057554510543,
          -11.531188858625987,
          -6.938748198969587,
          4.3513803229154435,
          -2.4369265333525507,
          -2.9764520807690324,
          -5.1581868693843544,
          2.620577576752906,
          -0.26663086695355026,
          -3.7519169431495905,
          -10.489323275339702,
          -9.242565970049062,
          -4.708740104625691,
          -7.413270584255968,
          -7.323465150575457,
          0.42850181554309824,
          -6.180878673455869,
          -1.472381206293305,
          -7.253867015612654,
          -1.8828054802970586,
          4.2598671227618,
          -9.238036164010273,
          -0.33825704207910773,
          2.1334908346862624,
          0.27754176883024856,
          -8.645125318402487,
          -7.737556683387125,
          2.620747772060424,
          -7.705890598607393,
          -2.801699495299053,
          -2.2289279159651745,
          -3.4031860798962437,
          2.3736614251856407,
          0.025049418861543795,
          2.37278057519033,
          -11.306771347214902,
          2.242317332444995,
          -1.7569156096034944,
          -2.5718992400541203,
          -0.7461589832534063,
          0.5992292045512047,
          -7.463019567698241,
          -4.420727576185734,
          -7.766624836260339,
          -6.5856776966342485,
          -5.3921869967890785,
          -5.7242610839588846,
          -7.581225236011303,
          -9.553781060039315,
          -2.171991528118187,
          -8.338366765833923,
          -7.4855847898518215,
          -6.581052757085901,
          -2.2897634484360823,
          -8.324735940137792,
          -2.6622473081972307,
          -0.9356346413618009,
          -7.163490048692028,
          -4.602745753914958,
          1.7320563655677115,
          -5.702971300085995,
          -5.439886796014982,
          -4.666318488795397,
          1.7906251104540687,
          -5.526464788692741,
          2.8616327927938796,
          -0.7360647802847063,
          -10.634542315977788,
          3.5157567095989113,
          -0.2965407417419023,
          3.781329511559948,
          -8.030122660297502,
          -8.83672592053802,
          -1.2260948771051257,
          3.1231927196885483,
          -3.5565044701063804,
          -1.3114400663833325,
          -5.049144606721276,
          -5.390169972993847,
          -11.893111750446108,
          -0.9967183186857217,
          3.5461501459939213,
          1.9740368926569647,
          -9.98797129663838,
          -2.73807129348679,
          3.0346594717389506,
          0.7468857936761399,
          -1.6543470264341311,
          -7.326487179989517,
          -8.883741111038512,
          -5.513643033859736,
          -11.567591749742924,
          2.9085310282147736,
          -2.4005078554064245,
          -3.4645153673008644,
          -2.887910237537548,
          0.22126897982515242,
          -6.7776892927270795,
          -9.123265269813315,
          -1.3459929389715923,
          3.7019288921016535,
          -4.834378458841266,
          1.4387808353298979,
          -0.7551134305755585,
          0.9053274692172525,
          -6.48164279449761,
          -2.7275254175754244,
          -3.107324959085075,
          -6.517014613943304,
          -7.343626531180766,
          -7.727681424347604,
          -1.9301763852854605,
          -5.256927182988398,
          -2.9104592422654005,
          -3.1160139222023733,
          -2.1003221982068685,
          -1.998764564196336,
          -3.916870578078882,
          -6.373983377036615,
          -3.2517241114820186,
          2.0814978618237165,
          -4.060087610304398,
          2.756255545442438,
          -9.893182082731677,
          4.815056275460832,
          0.7337729932506031,
          -3.0434034394212257,
          -7.701406830994617,
          -8.739221975766347,
          0.24694720479285354,
          -4.0266936596096565,
          2.186291977592057,
          1.5735583978220617,
          -2.187113923640173,
          -8.304019927989064,
          1.064908125956504,
          -9.00573872463698,
          0.6451258704070884,
          -8.33370304377023,
          -9.62082290353138,
          -1.483129983859851,
          -0.6798420636080167,
          -6.426394632818326,
          -2.8619068163882715,
          -8.800871402358673,
          -7.6452363609568526,
          -3.25106046914266,
          -0.7430104797275151,
          -6.862151286853891,
          -6.565775235877028,
          -5.988966242376735,
          -3.675800219048317,
          -10.747428362628252,
          -7.863040432645081,
          -1.5723650885113551,
          -1.1436929525329995,
          -3.4577439065509923,
          1.6851468854494682,
          -1.161854869118756,
          -5.553263263886759,
          -9.529793541423569,
          -9.272648043577087,
          1.9235144625324048,
          -4.791555991748701,
          -6.810237231212316,
          -5.317316887061606,
          -8.56199325741507,
          -4.483133547451512,
          1.1878788816938046,
          -8.384878768963766,
          -3.0702092554934874,
          -10.572537634032098,
          -7.899441383246345,
          -11.20885645312916,
          -9.94516363610929,
          -0.2328221169997377,
          -5.893675204975216,
          -5.336102924982126,
          -6.666159260784633,
          -0.16007816320619864,
          -8.333261886406502,
          -4.9227731874843235,
          -0.4076696362294096,
          -5.547607640334794,
          -1.34555259710439,
          1.7310164119031184,
          1.8041331297544605,
          0.4500050830194823,
          -0.5134524612704955,
          0.7592402458382964,
          -7.686567791996049,
          -8.490247147073482,
          3.923743628148161,
          -0.8788652620363604,
          -6.053189880889355,
          0.795269781639674,
          1.1156102619476365,
          -6.833538581452423,
          3.544724117186132,
          3.045884736584306,
          -1.4569041457723968,
          -1.3504861683568834,
          -3.936261874510122,
          -8.52062197889331,
          -0.8867788219946401,
          1.7659045699808327,
          -3.7222852864216285,
          -5.225772946328677,
          -3.618317936042852,
          2.0306537436288217,
          -8.61495321506672,
          -3.23621815377956,
          -7.975733922728056,
          -10.964137774135478,
          1.1410033424456596,
          -5.212123764639931,
          -7.40929451767813,
          -9.13561473039497,
          -1.0717158755355478,
          -11.928062553165528,
          -4.645234366445245,
          -5.788730508069107,
          1.3058707569224373,
          -7.4858551387446814,
          -4.147447964738657,
          -7.233725734747101,
          -1.7627615229679723,
          3.692591479139648,
          -4.745462550034257,
          -5.734812436811075,
          0.014417956929161315,
          2.859139947290711,
          -8.758366407121343,
          -0.18061051324741412,
          2.1645007335367565,
          -6.268725417507124,
          -0.14674755513382504,
          2.1288622922367604,
          -3.7507815362187613,
          -6.195367959992549,
          -0.6926987050435837,
          -2.9730071929920743,
          0.12422228282355736,
          -4.7507971630742585,
          -5.3185703299383835,
          -5.682983172106367,
          0.3358142128184534,
          -8.610319225293381,
          -4.371926573294195,
          3.46965144749641,
          -8.154982295864857,
          2.9435455307933855,
          -3.8139381780768846,
          2.4074149000910943,
          -6.82983043711711,
          3.3619208884958653,
          2.0536042122232576,
          1.998598109626381,
          -0.6969478704959912,
          2.218061442864515,
          4.0790862784353354,
          -1.8222328450378615,
          -7.029521506289248,
          3.7366929333767582,
          -7.160272729522187,
          -2.721069384080934,
          4.046512236377019,
          1.886946518364717,
          -9.883700229029182,
          -7.870957935643897,
          -3.630934900376918,
          -4.950810453347217,
          -5.496544199736322,
          2.1319998006292025,
          -2.2734634822482307,
          2.6201733980730433,
          -0.967704687799401,
          1.330218125934979,
          -4.038489760358163,
          -1.3875300041093435,
          -6.007223236340875,
          -3.1214915508673418,
          -2.492083831712706,
          -7.251837145614814,
          -1.5218219402636957,
          -3.9662386760619737,
          -2.5892354964053683,
          -2.4185452586381513,
          3.485074456509458,
          -4.256532491059159,
          -1.4052659988350156,
          1.6354126644397267,
          -0.7114571468416544,
          -6.576765285090551,
          3.683843105275744,
          -0.45296411581217566,
          -11.13221104506585,
          1.6011979906121736,
          2.8569181727667665,
          -5.480898713774099,
          -3.4672088804412646,
          -5.349404450058759,
          0.638533823667387,
          -2.612276602133681,
          -3.509120537900009,
          -3.2727928618488575,
          -5.394262114392225,
          2.4348569919558076,
          2.343073781513292,
          -0.14979787021097973,
          -0.5411515506119796,
          -0.2972991809314132,
          -5.83683603236819,
          4.796092810992476,
          -4.980824305713684,
          -7.966097910383903,
          4.350914528992464,
          2.0122594044135003,
          2.194681681482799,
          -0.1691608346782932,
          -2.98803021764957,
          -9.521491806637226,
          3.175041090767467,
          -2.659758146904735,
          -5.44794030585508,
          3.3186670361381916,
          -7.812887145638126,
          -4.216805475196425,
          -1.8301446618426995,
          -3.2883449358379804,
          0.47172307488735726,
          -3.4733190991954093,
          -1.8894883895696035,
          4.1109136647929345
         ],
         "y": [
          -5.231377685295039,
          -2.334498484733604,
          1.4263877581975106,
          2.3885105006056664,
          -4.743033364811014,
          -4.048946044474663,
          -1.3281604316348408,
          2.117478475032561,
          2.7265244463689804,
          3.4054475415381713,
          2.0254776102937395,
          0.7069434383667735,
          -1.0294168753468604,
          -2.429011880772471,
          3.1816338863825853,
          -0.1671037456611918,
          -8.73076878190005,
          2.9966743458397658,
          -3.3010912723757633,
          -7.480091509385172,
          -0.27582548180282,
          -4.474794545913602,
          4.080746399425746,
          1.973612449405548,
          -3.9317035520465717,
          -0.823290340600397,
          -7.585988679585044,
          -2.557262074396188,
          1.6787212709266242,
          -2.8490831971328854,
          -6.3287999715911525,
          3.9777532987864226,
          -4.8977683452154785,
          2.420828851469766,
          3.485833027184005,
          1.8628320918328243,
          -1.2938713558777712,
          -1.8793180747314495,
          -2.452161858637454,
          2.74229280668064,
          -2.036447721151196,
          -0.513007950645489,
          0.4118970171717233,
          -1.246732302755924,
          -5.96813109446017,
          -0.5860603775716962,
          -1.1579635063817753,
          -5.241430676944193,
          -3.987973155103269,
          0.12488599843864313,
          0.14260326572707266,
          -1.5579659616206007,
          -4.570469829278987,
          -4.034308963077084,
          1.674679909422421,
          1.8259075176197332,
          -3.517657439534639,
          -4.456175589945371,
          2.5146450730364225,
          -4.959589101642338,
          2.5247579137094283,
          1.785505826633219,
          -7.449442074729501,
          2.342347416605747,
          2.1377298535096747,
          1.8503443084869873,
          0.5122055035366996,
          2.294813837194039,
          -1.3679201175830995,
          0.802942441738349,
          -5.280145428863902,
          0.44700807717087115,
          -0.25591198881945887,
          4.0724895895591615,
          2.595074380888849,
          -3.862761166498068,
          4.528976619862486,
          -6.095422913306246,
          0.9128244339430149,
          -0.7292922696868138,
          -0.8954513779543266,
          5.930424859952607,
          -6.1540053028593595,
          -3.0312147636940763,
          0.9789598267834067,
          4.124796037107226,
          -1.3489144230412176,
          -2.1924849854175856,
          -3.9790338644903467,
          -0.18361984156963676,
          0.27396706150854716,
          -1.7061491688067778,
          3.1130246832635806,
          -0.4005225437027148,
          -6.72639170132279,
          -4.088901793639965,
          -1.2505056843050977,
          -2.562258643474611,
          -0.8659440518067003,
          2.110310206555543,
          0.6498964189602787,
          -0.9115501545599546,
          0.10154232955231633,
          0.14895027702229982,
          -5.180649114833345,
          0.9007341277572871,
          2.036291084451775,
          -4.737391723975331,
          3.845727338207872,
          -7.950353217126727,
          -3.4603896097718394,
          1.9309572340027108,
          -0.7788497196277343,
          -5.330404590369709,
          4.875571486071411,
          1.8231376915963593,
          -3.156547181974595,
          2.2284711346202166,
          4.165256247352047,
          3.258758469920024,
          4.527047607168653,
          -6.695512173600764,
          -3.768482802135868,
          0.6193154959514212,
          2.9475372482620212,
          0.7413959290394991,
          4.999618586543111,
          0.3537549144055077,
          0.772045342655338,
          -0.016761137364306563,
          -0.8147115753752608,
          1.3805367928888157,
          -7.094218706614195,
          0.8102471808414236,
          2.3512467723940893,
          -3.3768291041055782,
          1.812377946262763,
          2.685874734714861,
          -0.3101078540968229,
          -4.8016811738120015,
          -6.366619818016908,
          -1.3210257951505655,
          -4.768714846575353,
          2.548330066688192,
          -0.15880316805318262,
          1.9246246973811656,
          -2.144838216826729,
          -0.745186167426801,
          4.610880890013721,
          5.576098758515348,
          -2.553133442315205,
          4.169888492450946,
          -6.343845700039659,
          0.32719467642845407,
          -5.278419954533174,
          -5.679055017594912,
          1.4951014860005927,
          5.238076911109982,
          -2.0918040244948304,
          -6.0218543818384695,
          -0.692183274812782,
          -0.6162495627116197,
          -2.926772654940122,
          -5.682854619685436,
          -3.4372156691699765,
          -7.842783511589529,
          -5.666242392922596,
          1.763837420592757,
          0.10659590396984,
          -0.8454990018882914,
          -4.464553593850552,
          2.670550427255784,
          -4.718246996619038,
          -1.0353881056542211,
          -4.434805856915589,
          -1.2425823245518035,
          2.1704932627732534,
          0.43394589936580524,
          -3.3049312383500267,
          -2.4254608822035393,
          0.5176537135911784,
          -7.565623054025141,
          0.7176884708250322,
          4.664351414537421,
          -3.1694762500645197,
          0.19023911701948581,
          0.5231503948245342,
          0.18979368687132442,
          -0.8870355585612694,
          4.705760658668278,
          1.119289799905679,
          -7.368907526854994,
          -3.8862271203755103,
          -0.8669743421393123,
          -0.8079307491767435,
          -7.71882889945856,
          5.598853236927519,
          -5.762347219282417,
          -0.16794190728930614,
          -2.622397382373164,
          -4.792676081379301,
          -1.702543837547451,
          -4.023046404282689,
          -3.3978851873324283,
          4.146814955120489,
          2.809562717289474,
          0.29923105455791593,
          -6.168548322544951,
          4.968615015411402,
          4.45200375641074,
          0.10858089093855433,
          1.953098635609012,
          -0.767733973660637,
          -0.7323301427181177,
          -7.22149546882421,
          2.6507127519323013,
          -1.1026587899129499,
          -2.7699482930667476,
          1.411465073791505,
          -1.726009214563197,
          -2.0358765341316722,
          -3.797806188683462,
          -2.5636224602596465,
          -7.630403649599972,
          -0.01900905388944434,
          -2.257633640419195,
          -0.48013557020711595,
          1.3038561188482714,
          -1.209492499658643,
          0.45470171303787177,
          0.39931381909824987,
          -1.6173801927671014,
          -2.1015014984722415,
          2.465012347969098,
          -0.06120926478668701,
          -4.631934790142793,
          -2.561419379010129,
          -0.05452642176599393,
          -5.1539661964667385,
          -2.195974280218207,
          4.51361696667478,
          -0.6630956409300798,
          3.3179222170330496,
          -2.763946795898155,
          -3.6295066125367,
          1.1564706185764624,
          -0.12417965243952431,
          0.7833013921319893,
          -4.729017232806785,
          -6.097173891238624,
          -0.9439104819931619,
          4.249079779756935,
          1.458503729973564,
          -8.352575009181056,
          -3.8430695203042653,
          2.8138038589091012,
          -1.0187325959340434,
          2.3438746260156442,
          -4.617268393256358,
          -0.017952848450589448,
          -5.630894241242014,
          -0.7455260104179895,
          -1.0188011140021835,
          -1.208576741630664,
          -4.514412147385275,
          2.9356373732279204,
          -0.49909110720716293,
          0.1689209851530729,
          1.0779986799006924,
          -6.400691084757482,
          -2.5278370558948713,
          -6.048813923042136,
          0.43894956274012586,
          4.112861125430961,
          -3.2009133555143765,
          0.8500302617653134,
          -2.8039203431840463,
          -2.3695290015026833,
          -0.717305613125961,
          -1.1739584072632385,
          -3.0146126409599603,
          3.854374126351865,
          -6.313091033637439,
          5.042435389992746,
          2.441910419125549,
          -3.6755642312173107,
          -4.9715503931766465,
          -3.1993303257414296,
          1.4611851463085919,
          2.7926304595221176,
          2.820021964351415,
          -2.2104996381314197,
          1.6532694482844805,
          -7.57043124131384,
          -3.8141811121398796,
          -0.32987620798538875,
          -6.123052230311583,
          -2.287638514315277,
          2.187557078037922,
          -6.285266930261729,
          2.836847671369397,
          -4.211521823806355,
          2.458712668348044,
          -0.5259987036895751,
          -0.39052404496744214,
          2.2461352156270635,
          3.411211300739899,
          2.6338643447237176,
          -3.9950081934715898,
          -2.606326203525202,
          -2.1002143797731,
          -2.5156702963520114,
          -3.194589602721841,
          -4.753556718064331,
          -2.144988143870045,
          -7.536625101691721,
          0.9428618174301218,
          -2.1055113090973876,
          -6.239011670098195,
          -6.630082779410586,
          1.2726769006648497,
          -1.7805447305370368,
          3.7982311701898586,
          -3.376276789023054,
          -5.286551095811335,
          -3.7541303779506867,
          2.212390081562764,
          -4.613134450992578,
          2.680704579952426,
          1.5910712645146576,
          3.791629245714615,
          1.919132906128457,
          -2.9337974862122835,
          1.0880677522589897,
          1.097435392154063,
          -6.345064863012963,
          0.7186391221720347,
          -0.7237559700028091,
          -7.958886771061809,
          -2.3791317678484893,
          -7.45772426885171,
          2.0912463480631738,
          -1.7286371042988078,
          -3.1115327177544834,
          -7.982838693224327,
          0.7450448054011266,
          -1.7058222357129365,
          -1.7792753504232988,
          -0.6076997900825525,
          -7.857058183795027,
          -6.602998502437962,
          -4.006634732861331,
          -3.7901458559919288,
          -2.733170281293031,
          -1.6433497052114034,
          1.690664450251137,
          0.4276215209931961,
          -3.023388570830647,
          3.120764995568969,
          2.3078360096700323,
          -0.4723080804399107,
          -1.7427149067724383,
          2.261457998998759,
          -6.606652973903129,
          0.2235556615682304,
          -3.675460451093751,
          0.24427544569108106,
          -0.0433448496930006,
          -2.4114959606972115,
          -4.671202252986857,
          -1.9146285429153715,
          -8.166431291726338,
          2.1796244232954565,
          0.9950725255883117,
          -1.0508154858311118,
          2.0007369522501555,
          0.582687359488016,
          -3.1489590695232024,
          -0.5516103107416154,
          2.675034506545157,
          -0.8158797279378279,
          3.4416613829840492,
          -4.078649109462639,
          -1.4050137926449764,
          -4.002045444348431,
          -2.873281600536212,
          -2.022046387218311,
          3.659466780336332,
          -0.448450352974497,
          -3.168850109036419,
          -3.1796027608787583,
          -5.437799678750495,
          5.584039405008588,
          -0.8853398130895408
         ],
         "z": [
          -0.026054242668324526,
          -0.3946915951224445,
          1.7299207355318966,
          -3.956989658543982,
          -3.406758301635812,
          -5.446201762899864,
          -13.21363586841638,
          -2.7207986811858103,
          1.6165698979562093,
          -4.117108000528742,
          -2.717911225379258,
          -8.391239110194824,
          -6.035389830100058,
          -0.7107398614167968,
          -0.17288903101809375,
          4.040837070749408,
          0.14617011575357997,
          -4.472334283889904,
          -2.3028278533587843,
          -5.718225968016494,
          3.1941693056408935,
          -2.237482060312521,
          -1.7414336291161843,
          -3.009280388172048,
          -3.084952585879981,
          -8.925027823166163,
          -1.3069454939123126,
          -1.6608976298225628,
          -7.902860709311873,
          -8.757777143607987,
          -3.4375062609912552,
          -0.03915743555673247,
          -1.3504690519886753,
          -2.728538219028012,
          -5.768078113729888,
          -3.9453462292869843,
          -3.9894709365225967,
          -5.196756553094665,
          -13.936491845420335,
          2.0494014921681627,
          -3.362318882439193,
          -9.20894855981349,
          -1.3248480505576596,
          -3.8405342312194617,
          -0.7337971765606318,
          0.8797115633593604,
          -0.4656427002152941,
          -5.11497265483071,
          -0.99266050655099,
          1.594955371823623,
          7.1009662547499595,
          -1.3552821707774798,
          0.49935954056284854,
          0.594448844690649,
          -1.7044155445217755,
          2.9604136721122365,
          -0.4893748105365016,
          0.5901503590347535,
          -6.410785707191135,
          -5.792399300905824,
          -2.866845372717523,
          -7.070022063031391,
          -6.456751338639676,
          -2.3022956801933976,
          -3.158425931958191,
          -3.1970478648055987,
          -4.817699128146178,
          -0.3735794331399659,
          -0.0791457702815057,
          -1.8693704253647712,
          -8.687478552339806,
          -8.846951933001488,
          -1.1227919438957776,
          -5.344610107010626,
          -2.4186591388112757,
          -1.8364891053406776,
          -6.314969732423756,
          4.643078775163434,
          -2.1551059332723157,
          -7.832358713734416,
          -3.7015824052734527,
          -4.242261876376413,
          2.700424670421223,
          -3.20775338450201,
          -2.220345905561048,
          -6.718070566299238,
          -0.04451045328819239,
          -4.906780923950774,
          -6.0927617594554055,
          0.35549351738709484,
          -6.764279366140025,
          3.102558037354063,
          -4.382998608256138,
          3.4552183560669514,
          -8.129457331991974,
          -4.754624945371359,
          -5.592233119198259,
          -4.893088138074205,
          -2.372518178229376,
          -3.265844471713631,
          0.17871904728138982,
          -2.6563253441538346,
          -1.0852211416156627,
          -3.5850833379543996,
          -0.47105515229075534,
          -6.872070488976029,
          -8.098905890139916,
          -2.180678229018534,
          -7.516944739692747,
          -1.5437873093337962,
          -1.3939729898890703,
          1.6087432681782696,
          -1.9952419260885008,
          -1.158507297008551,
          -7.279418629229954,
          -3.0231007039178146,
          -5.337280104013947,
          -1.3035470564210987,
          -3.990522601183915,
          -0.09616476567737516,
          -3.519496538007794,
          -2.6898157056167062,
          -4.182191091825119,
          -2.2027210099328625,
          -6.151882765148878,
          0.5063884417005518,
          -3.648271756241018,
          -7.827125390033017,
          -4.809318155865876,
          1.3617278822373504,
          -0.29331230742078185,
          2.119306556803975,
          -5.180538999050911,
          -0.42570708428967186,
          -3.0678782658326678,
          -1.6081285765616322,
          -2.932560129913291,
          -0.11332473503977941,
          -2.9366303091684376,
          -11.005458437068384,
          -2.4688642979853825,
          2.13163780293826,
          0.5418012579156615,
          -6.430745980081762,
          -6.3863143818971455,
          0.10123921702797893,
          -1.5997605336357978,
          -5.779194966382127,
          -1.8207458373559753,
          -4.819802595707346,
          1.7237367749384545,
          -1.4343778342848839,
          3.742279428042007,
          -6.783289853160243,
          -1.446633069171969,
          2.028413962400133,
          -4.529026170519713,
          -2.304333653676324,
          -1.4118916538171404,
          1.5296699449124824,
          -5.281351289235645,
          -5.636427364102156,
          0.5821244315307937,
          -2.9627893493081428,
          1.663555906420669,
          -2.454794369717798,
          -4.144032807319502,
          -4.714201359669479,
          -3.995871438735642,
          -0.3183453677369265,
          -4.4570112137895475,
          1.5499945779145885,
          -3.1560236555600936,
          -5.09739752557878,
          -6.2554179787310815,
          1.8335867922143643,
          3.6186619566476455,
          1.0265007426725876,
          0.10298579217362637,
          -2.5367337487892714,
          -4.4853079946692755,
          -2.701202216339544,
          -3.38600022767949,
          -1.756843563012389,
          -6.362299602353321,
          -2.562475623852974,
          -4.817155865368313,
          -0.08268423101850468,
          -1.7818618498260832,
          -3.800866529036615,
          -8.342454451193936,
          -3.4790852325862307,
          -3.8734801081694457,
          -7.534804948134595,
          -13.376342906548631,
          3.574391176895493,
          -5.811727181914127,
          1.9029472279952513,
          -7.086308046187155,
          -5.586878631182065,
          -2.618087193098601,
          0.6477082519848177,
          0.254346432316347,
          -0.2911402348314699,
          -3.5760493796174773,
          -4.912957350816671,
          2.585250205763605,
          4.405223807352157,
          -3.0423015224113263,
          1.9669695435988332,
          -4.668039346117031,
          -5.060650371921019,
          -15.255969895627295,
          -2.3281750360708338,
          0.4030246859319135,
          -4.999494852599087,
          1.0313338467830866,
          -1.8120523149269094,
          0.5619653336996561,
          -0.5346144958884714,
          -1.0498268579694097,
          -4.660891359214822,
          -1.5177245190631974,
          -1.6872387670307136,
          -4.23872895867383,
          -2.7464886036058656,
          -2.8311089060907766,
          1.827945033783255,
          -2.483886386423605,
          -0.9760017997115028,
          3.531178467400773,
          -5.078713763114496,
          -5.956537689928512,
          -5.132771463243499,
          -7.553764559989602,
          -6.213107358433308,
          -2.595785202754952,
          -3.9746383211282708,
          -3.7484659575120487,
          -1.7951747450987254,
          -5.687022546797364,
          -8.172893403771415,
          -2.890795414783213,
          -3.783912160978331,
          -2.3391039030830205,
          -0.5505992008502947,
          1.95197779811241,
          -2.9049646558015736,
          -2.8214106202888987,
          0.6771900378004355,
          -0.7586589065899265,
          -2.341362926274411,
          -1.0913282785008647,
          0.6774892283690921,
          -5.034836519517851,
          -3.675599166757967,
          -0.4145634974050685,
          -8.98619487265838,
          0.28616008351005506,
          2.5686996553359425,
          2.495583314118959,
          -7.167321833554945,
          -0.11467438651547932,
          -2.966921677171557,
          0.3489725082754077,
          0.5860498652134566,
          -3.529659703284486,
          2.398847856975478,
          -6.232063151386367,
          -0.628824401433664,
          -1.107109327738084,
          -2.6939933129700715,
          -8.531755305784818,
          2.0595939501702203,
          -7.32138732003708,
          -2.7498447272029325,
          0.06269614813714122,
          -6.837574415820003,
          -3.028723543227492,
          -6.603619302017485,
          -2.692095481630848,
          -0.3535035928349245,
          4.3040874734637775,
          -5.818167523089455,
          -2.282683560715814,
          -0.4969432970155394,
          -1.444865150424157,
          -6.056445976396168,
          -4.1522102414402715,
          2.4309025794341865,
          -3.779744128474736,
          -2.1994775399118804,
          -6.76245133131073,
          -7.245803099146599,
          -5.868703797993216,
          -3.392101297713727,
          -0.8205733460872366,
          1.9355572981841713,
          2.926677418757063,
          -1.771397365062541,
          -6.738361669131988,
          -0.14556949949401954,
          -3.1265737009038657,
          -5.861039883840805,
          -3.163904210778738,
          0.3001571198845775,
          -4.310730291467945,
          1.6861117526551872,
          -6.4234997418415976,
          1.2269927794329967,
          -5.660730173337627,
          -3.310016394702273,
          -2.490166148954265,
          -6.458068181104999,
          -1.8736206796999306,
          -2.9751688473670956,
          2.9058421238834047,
          -3.7169081888117934,
          3.081642784025095,
          -1.6320774012886925,
          -0.8846890939305483,
          -7.510399683488524,
          3.876038452367142,
          -3.101440538076518,
          -2.06956864174329,
          -2.482420895901642,
          -2.2473438722822916,
          1.050349006405107,
          -9.079308433261703,
          3.138128660627181,
          -6.06414896594853,
          -2.149821193118737,
          0.9560252414838846,
          -2.796714232409977,
          -5.528792326080683,
          3.6707804437554827,
          -2.914534922928362,
          3.652156073434977,
          -14.175865606142986,
          -4.186779162166473,
          -3.955315216009252,
          -2.1427019190659227,
          -8.032705319108866,
          0.7274614971535016,
          0.2295195033144895,
          1.6221319238361356,
          -7.916410500852395,
          3.457719276259336,
          0.5347055660922394,
          -6.71623050597501,
          -8.440328067105316,
          1.3489905772600728,
          -0.6233024158882938,
          -0.6070692645308654,
          -1.910803682131209,
          0.5139592160659692,
          -1.2755966277704869,
          4.219705532912746,
          -4.648139125151239,
          -0.15400543064333722,
          -1.4726477615030038,
          3.427724150278343,
          0.26529055478077285,
          -1.775952533183705,
          -1.6095437945131825,
          -6.233323822374861,
          -3.1990737742648134,
          -3.611784005245091,
          -2.22526640728227,
          -2.1080322643169707,
          -10.033809471644382,
          -1.6170875215909375,
          -4.663173504221324,
          -2.041739953019115,
          -6.3938289818237655,
          -1.6820252296068565,
          -0.9602749784757,
          -6.313278010499804,
          2.1343537010987323,
          -3.9693694202872734,
          -0.861812852324182,
          -5.689827657250708,
          1.3340128520633692,
          -0.8723407342250917,
          2.0355866375860994,
          -4.928938197409836,
          -2.0224669186695112,
          -0.6178673126029615,
          -0.6086216455049235,
          1.680147546644052,
          -4.215885672387613,
          -10.071820862320312,
          -6.137508838226792,
          -2.3188103383266765
         ]
        },
        {
         "hovertemplate": "color=James Bland<br>Principal component 1=%{x}<br>Principal component 2=%{y}<br>Principal component 3=%{z}<extra></extra>",
         "legendgroup": "James Bland",
         "marker": {
          "color": "#00cc96",
          "opacity": 1,
          "symbol": "circle"
         },
         "mode": "markers",
         "name": "James Bland",
         "scene": "scene",
         "showlegend": true,
         "type": "scatter3d",
         "x": [
          -9.045058359655245,
          -10.55287748271887,
          -13.956818281923896,
          -3.7422066641230427,
          -14.159350076711082,
          -11.785671164222904,
          -14.472610314399196,
          -14.11234285037173,
          -9.731922695028281,
          -6.347506190418275,
          -14.560695174905518,
          -13.280140892927783,
          -7.969155449058067,
          -5.450590764269441,
          -10.95260022640522,
          -10.16520412160615,
          -16.702038964221604,
          -9.077242913959022,
          -15.543064206683638,
          -9.00932235616221,
          -17.250376967395447,
          -2.1894007282200922,
          -8.322982496154614,
          -4.718137801244529,
          -14.778977892441807,
          -10.780431662049756,
          -13.621399587320846,
          -11.282279877668179,
          -9.500389008825069,
          -10.782796267029868,
          -11.681824429757102,
          -13.467934082822653,
          -13.415750427105603,
          -16.737007986409388,
          -2.354740374658383,
          -13.07472793264188,
          -9.884173699187247,
          -3.010344707951225,
          -10.253875651032287,
          -3.3887331758971824,
          -1.9369152268430536,
          -13.303230317386054,
          -14.591240187657082,
          -10.400681191389081,
          -5.01344779627309,
          -12.375840192227171,
          -10.062899196806589,
          -10.17713576426676,
          -6.8980016638041715,
          -12.996260180130548,
          -11.463112653037644,
          -8.50308950381284,
          -12.7579439529396,
          -11.166264809863344,
          -13.637594782579898,
          -10.079286925801314,
          -10.249737228343115,
          -14.726665081023416,
          -14.830866606909984,
          -11.568195335391914,
          -5.517320726225223,
          -10.481938026720512,
          -11.894013248982198,
          -11.311010434598565,
          -10.685342798386047,
          -11.803118975796178,
          -13.870602474165668,
          -6.088120385536138,
          -5.4831100727899,
          -13.37856322021923,
          -11.683558453621055,
          -7.691730895125375,
          -10.707693279222333,
          -10.777019008677117,
          -13.71859331916789,
          -9.684668812201256,
          -9.042672959695198,
          -13.507149693242342,
          -6.497467119373452,
          -11.218824625050187,
          -6.161608732407206,
          -10.366815103069246,
          -9.43859993248365,
          -12.935142852589262,
          -9.665809533796574,
          -11.3246459095933,
          -5.196173335835513,
          -11.943125055528457,
          -12.77397150179677,
          -6.575619720885915,
          -7.732762347849017,
          -10.644902769182739,
          -11.25542204325522,
          -12.39705693627429,
          -10.888221478123327,
          -10.521329603441368,
          -9.522324158085844,
          -8.49556560537768,
          -6.907447810194548,
          -8.68907760795274,
          -12.773032999409894,
          -11.435422608190283,
          -10.947224270878056,
          -11.108787385873926,
          -14.816071328105304,
          -11.372252622101536,
          -12.646146300310729,
          -8.767104301207555,
          -12.94953256676747,
          -11.698187182690866,
          -8.140017535269363,
          -3.0334350216597437,
          -10.310727541931357,
          -16.44862878592683,
          -12.744736302142641,
          -16.003483307610907,
          -9.033948061692818,
          -13.159990418448285,
          -8.679762028421987,
          -9.468041832645923,
          -12.965467432178261,
          -5.407707647809574,
          -8.203713647860877,
          -2.9306414608121574,
          -9.691422110331226,
          -9.43997753792733,
          -13.958229542439316,
          -12.240540759429177,
          -12.735692404617122,
          -11.954336628730616,
          -9.134341811859503,
          -11.351109192275942,
          -12.396111736191527,
          -10.861873048943432,
          -3.755599710006151,
          -9.759485243459748,
          -8.452660985506816,
          -16.963690926079842,
          -9.088363673562373,
          -10.125552859386815,
          -15.005677310279987
         ],
         "y": [
          -5.489034770929565,
          -8.32975574400736,
          -10.455393613807804,
          -4.664752570828056,
          -8.76741532625885,
          -7.870940882847917,
          -12.295225722650335,
          -9.039114169832224,
          -9.43874710273534,
          -6.353788341872634,
          -9.704421687104555,
          -3.8592448176357808,
          -8.785449678987854,
          -5.157244942815971,
          -3.1995209648848864,
          -5.5834228593357675,
          -12.897927489664173,
          -11.021713519808209,
          -12.911098061319388,
          -6.569359996318006,
          -15.227712908330407,
          -8.294290104467796,
          -4.139522799443358,
          -0.6598667208599092,
          -13.404649630907452,
          -6.808242292243277,
          -9.703651117428295,
          -6.533072955282614,
          -12.961830518245739,
          2.359326364373278,
          -8.44558708257184,
          -4.036520848736958,
          -7.827705197224658,
          -14.950009783554881,
          -8.961864590162854,
          -9.25113622353181,
          -9.042220600409978,
          -8.859241043970814,
          -8.409818469362783,
          -1.1186531156274837,
          -7.783552263694735,
          -2.20835152733877,
          -8.613367320393476,
          -7.278511198777404,
          -8.031704974747734,
          -5.755814950998812,
          -0.9989639731492574,
          -5.32111195250067,
          -6.146839113947038,
          -6.158351859905443,
          -7.1337256360952885,
          -5.978993009770403,
          -8.503557104689929,
          -6.487960752818806,
          -6.988120859098733,
          -5.450507515484316,
          -7.770467476561732,
          -14.383869210112792,
          -7.989577428827164,
          -7.345764810055649,
          -7.108028536430104,
          -2.962895457297962,
          0.6304822710854755,
          -0.31247075113299777,
          3.92723756303255,
          0.9140805577202165,
          -7.15080070402726,
          -4.178897096034679,
          -4.395754566146901,
          -10.833357757613479,
          -11.944900970441463,
          -8.217198560255538,
          -6.546377202222269,
          -5.14228423570564,
          -7.906591660060769,
          -4.5779326807729825,
          -4.965697499471769,
          -6.893150313152262,
          -5.455710997742882,
          -7.487800679603295,
          -7.575748348044911,
          -13.209771214020341,
          -1.915622441771188,
          -5.660194126988319,
          4.28627957336531,
          -3.6375029788129885,
          -9.477589275095863,
          -5.335929967154005,
          -8.501536300226903,
          -8.034538665509015,
          -8.321675657038089,
          -4.204927976966471,
          -10.79333011878449,
          -1.8472501368369638,
          0.633542248061847,
          -3.2246694468591692,
          -0.5463487313395493,
          1.4107756383768382,
          -5.067891461565233,
          -11.92402693063876,
          -2.686645534247535,
          -5.040102815249219,
          -2.4474655602340984,
          -2.1501786033170514,
          -12.769995964114157,
          -3.16270620990396,
          -5.025347494801302,
          -2.4514136916014615,
          0.8472520350937859,
          -7.232694036642193,
          -1.7085640842228842,
          -9.869093511768728,
          -3.9711866285842703,
          -16.451589792598025,
          -4.75939703826744,
          -14.890881659548404,
          -1.1694618383347908,
          -10.164419816780478,
          -7.813191433046019,
          -8.234399424842229,
          -6.841295848559356,
          -11.066753421288666,
          -7.279560422175879,
          -1.88215312991398,
          -2.8988065897735025,
          -4.23936498647525,
          -7.872972379820784,
          0.8311167935089268,
          -2.8327538057102166,
          -3.345510373553638,
          -3.2817860344684298,
          -5.1955196568676865,
          -9.850110476809405,
          -10.214874117913206,
          -11.32516147839072,
          -9.430497591633028,
          -14.961281290601898,
          -11.690193860631947,
          -3.684016861607395,
          -3.046278377026179,
          -9.852351546009164
         ],
         "z": [
          2.2480937196747646,
          2.1555449575788566,
          4.071923426012298,
          4.2409823377445575,
          10.898079434763469,
          -1.1232844854103576,
          8.573211465674186,
          11.913034727630677,
          -3.2077100382464803,
          7.000403520034066,
          9.070009924897562,
          -0.7826422590550458,
          3.2130557928895396,
          5.150021663540504,
          2.675159292253103,
          -0.4667525280565944,
          12.716702529664001,
          4.343457468825288,
          19.079987421952442,
          5.053096011994907,
          19.8499579101656,
          2.7448549223529803,
          3.552746138328686,
          11.293136015452278,
          13.113287963010283,
          9.713877687329694,
          7.330823412990142,
          2.045604500812278,
          9.366765882633386,
          3.054111761135619,
          8.169079918468658,
          6.314101345117092,
          2.4421477854372804,
          17.399346808118064,
          3.4644942482797054,
          8.412600449023813,
          8.645224079455636,
          7.211893436793139,
          -0.12121829098388717,
          10.684497222275267,
          7.538299732753703,
          9.631326056131392,
          11.5727905435405,
          -0.13253380444252727,
          6.006115932378812,
          6.898490364159822,
          0.3224325248641412,
          0.5511243834506513,
          3.1775199236067917,
          4.2028568310906715,
          0.88187266654674,
          -0.6838988648064943,
          7.372357524670825,
          0.9924550562439046,
          7.881188541217734,
          5.508925559896264,
          -1.9896235993583367,
          12.967656855124726,
          6.6648051979632665,
          0.5384740583809764,
          5.712468583589318,
          0.9622361665295265,
          1.1380970022402472,
          2.759532010834763,
          4.195363319372478,
          4.8551570494984695,
          3.456752735192038,
          4.416921339818505,
          3.7183731819026815,
          9.189956288832212,
          10.370604491292033,
          -3.148259209266749,
          1.8907038992060778,
          -0.5368225686032393,
          6.885043468993094,
          -1.8784977517745154,
          1.6750180680031608,
          5.325497617756442,
          1.3591171279073206,
          -1.0285102819412062,
          1.432487967614037,
          3.0888101713195675,
          2.963287201208438,
          0.5978172378738354,
          5.765769376337251,
          -1.330069527159283,
          0.5700798913640294,
          6.209440714180823,
          12.94190025078868,
          5.254097035544328,
          10.670836965579932,
          0.3270134544244775,
          -0.700816722717935,
          -1.8596919533643907,
          1.2744741144742613,
          1.3229902152995072,
          1.2712801132739675,
          3.744205657231699,
          2.981041995533249,
          12.20909414609146,
          6.825106700447715,
          -2.0912136854972316,
          1.8651723223761052,
          8.36277914963938,
          11.073798272733065,
          -2.262319662694893,
          -3.763171936637891,
          1.5246312427574527,
          3.4177527751777865,
          -3.131929305671959,
          5.7888656072546185,
          1.90754615371758,
          0.24189278822947044,
          15.6383389764198,
          -2.690871520460035,
          19.85426054064475,
          1.9846720138272036,
          11.044028270653243,
          -1.4672644924159992,
          6.260526695996243,
          8.514459314458342,
          4.593541518057646,
          0.3155765937583197,
          6.360523753363279,
          0.5001688632460088,
          -0.8127698011335635,
          7.094084922717558,
          1.69891614163959,
          2.1842191966795315,
          0.9082450946312868,
          3.6684618736299983,
          4.09226493652155,
          1.040851003361306,
          7.894350023112097,
          3.167909830119775,
          -4.668173625236385,
          8.905727889212427,
          12.562910497794013,
          2.4193323028175007,
          2.4051900180852024,
          8.120032701746549
         ]
        },
        {
         "hovertemplate": "color=Marcel Stout<br>Principal component 1=%{x}<br>Principal component 2=%{y}<br>Principal component 3=%{z}<extra></extra>",
         "legendgroup": "Marcel Stout",
         "marker": {
          "color": "#ab63fa",
          "opacity": 1,
          "symbol": "circle"
         },
         "mode": "markers",
         "name": "Marcel Stout",
         "scene": "scene",
         "showlegend": true,
         "type": "scatter3d",
         "x": [
          -8.835708447409738,
          -4.548924393683242,
          -4.88768297547107,
          5.352875973445116,
          2.807580982910038,
          7.744059688393602,
          -5.79102840229378,
          -0.18086315576141643,
          -7.071599903518186,
          1.1808895418711307,
          -2.868567744933519,
          1.5348166908527312,
          -5.103985492974364,
          5.452264106654527,
          -2.4863156814036094,
          1.5881919361079124,
          -7.259493011999422,
          1.2538495920959989,
          0.017791112459632084,
          -1.8158356769789101,
          8.036860165047955,
          3.8616431672192673,
          -2.024782162888505,
          -2.7207427941046527,
          2.2077243997875198,
          -10.752285276738142,
          -3.3216221794337635,
          -8.755271824397367,
          -6.238777880272578,
          3.218431621659159,
          -9.217946598676933,
          -6.6646660275760246,
          -4.593619456831458,
          1.0327484774662865,
          3.5430616228652645,
          7.122297660565828,
          -4.9996194524733895,
          4.1886619040849045,
          -2.4658282780932654,
          -10.644043683800447,
          1.6216164404753293,
          3.5348659420123067,
          0.6620750880916225,
          -5.811981925142357,
          -2.461619370480899,
          1.8130121800444086,
          -1.399143099865147,
          -6.067965873524419,
          0.7332729317170527,
          -2.591662416789216,
          2.592143693724341,
          -4.207539188505073,
          5.519667157572056,
          5.502829476792148,
          -8.570642984278788,
          8.854839904270499,
          3.7186419914598896,
          -9.491068588477031,
          6.136377478529484,
          6.979194081908839,
          -4.277476840572339,
          4.662371038263888,
          -6.840165365405475,
          2.798769791042241,
          -2.3680190319549026,
          -1.9602901420380696,
          3.491606956813887,
          0.7969733025769872,
          -0.2812969609175789,
          3.9691862474952466,
          1.4269339801301957,
          3.9445656777325477,
          6.777357618404326,
          0.8226132327750806,
          -9.60586220210422,
          -5.46755314429999,
          -9.30440648044052,
          -2.969619199979993,
          4.52964086986774,
          -11.158886273426749,
          -9.771775621432957,
          4.733587178405617,
          1.076406411955455,
          2.975725067176373,
          -1.418594606453056,
          0.519193260588584,
          2.6177377713587844,
          -3.054482579977722,
          2.8259233532898995,
          -3.5708416116540658,
          11.907575908160737,
          3.88132122488579,
          8.64464707492708,
          4.377862621622609,
          3.007056449012037,
          2.261467220925758,
          -3.3066468399396247,
          6.40350477321787,
          -2.5465069107252205,
          -2.336328190207141,
          -4.148478166795258,
          2.4136465220257644,
          1.637926834870262,
          -3.6434957927782636,
          5.4388904113874625,
          4.5838443759566365,
          -8.011414629508481,
          -9.16521099526948,
          1.1623732095796095,
          8.001512302302574,
          0.7380668517575419,
          2.846074642096953,
          -2.3334343702728786,
          4.646861570902521,
          -0.9828593541022861,
          7.63726233942806,
          -5.075255613537445,
          7.512920215575961,
          -4.537513411226438,
          8.92338618733332,
          -3.372374596921018,
          4.507810136581787,
          3.4404140970605135,
          -5.374549502938548,
          7.5460296522849015,
          -8.716986542493908,
          -5.525312091574491,
          -2.8957924783506126,
          -7.847696487010575,
          8.594247473380925,
          2.9194127319839955,
          0.9450339725063455,
          -1.8906014418012993,
          -8.767123256016976,
          -2.7095785906632774,
          1.2775427168142846,
          -9.274694478470645,
          -0.9547514302040472,
          -6.127663363686037,
          1.9957031045075198,
          0.8681188968868102,
          1.1573035667424207,
          -2.732658086446328,
          -10.976278460785831,
          -0.9047751077408983,
          8.722884248778945,
          -3.578825210422007,
          -9.450675346209147,
          3.0692424388246544,
          0.7200325249812314,
          8.14284767302177,
          1.3377006964497424,
          -7.296479382656976,
          -4.108274534327778,
          6.5389170652948305,
          4.637168559137137,
          2.3109273318455186,
          -9.069443563461556,
          5.518377716745086,
          -8.425593968128071,
          -9.786270064223828,
          5.707495668560127,
          6.894211970243067,
          5.790773286625867,
          0.011463727575190088,
          -9.546904250836006,
          9.912243314572915,
          6.687831890421695,
          -5.392459324164148,
          -10.721928520554355,
          3.745089562683275,
          1.5018205596888297,
          -9.968729089918359,
          3.578278116461072,
          -2.21812911068547,
          -5.206676010913887,
          -10.279971371510662,
          -0.68503255801011,
          -2.4480921800820736,
          4.235230965742349,
          3.8538094969418033,
          12.731294025938197,
          3.5602995874185406,
          6.682332866532912,
          -11.109025211537903,
          -9.396760618827608,
          -3.9545471996358526,
          -3.746190841509445,
          2.370697635366671,
          -0.4119246356035051,
          -5.8083556774725835,
          -5.100258151890035,
          -1.0901585654938706,
          -8.397727890734444,
          0.17823822654878757,
          0.7056927315353072
         ],
         "y": [
          7.936108984175818,
          15.27209598299439,
          6.732757526442368,
          3.1961560478070146,
          12.289986150569796,
          13.863725105623937,
          8.530330930388981,
          12.106546297664899,
          8.151951157008279,
          4.148542869698489,
          19.444292720493475,
          10.431169947470309,
          11.486002322844895,
          7.60115207424795,
          11.78111291965658,
          5.758049093342145,
          16.648722806683278,
          7.121122023275997,
          6.465860117869591,
          22.635735947106156,
          5.979932039844042,
          4.968355802842849,
          8.107877333229435,
          5.871567979156758,
          17.676583475706618,
          12.18434230241266,
          6.511317744350192,
          9.81007841476602,
          19.41718290719695,
          9.781891634670805,
          5.964267909999907,
          18.35797151989274,
          20.17389033214846,
          4.158675028912929,
          9.632596792401577,
          7.596231835527374,
          12.987881143943694,
          4.868177931856534,
          13.02939991081119,
          11.682935119037584,
          9.578047480946772,
          3.1639242227481157,
          6.449984236245706,
          13.027897547117586,
          7.597603321158988,
          4.906069909212436,
          6.332238380006095,
          15.923341010396726,
          5.012707211042415,
          5.708710906709817,
          12.289143280807385,
          13.70814137987422,
          3.760242009234576,
          4.336049329375054,
          10.456965929723022,
          10.866003352829074,
          13.574388379213989,
          15.550769778125753,
          12.265599116657224,
          10.924605607382334,
          6.715896327157232,
          8.638175089357762,
          20.425576991124174,
          5.79724248648816,
          5.588719304551383,
          6.829294798446346,
          9.500911883015284,
          5.23880578997508,
          7.199558876285186,
          10.327968425241822,
          5.050054241793641,
          1.7906693231659052,
          8.269686618668239,
          10.490807522810323,
          15.58371251950581,
          7.634927907835649,
          33.787698157625215,
          15.682625585118798,
          3.737030736109615,
          7.83948265044161,
          10.001074821554798,
          6.054350359168505,
          18.08311389471033,
          2.945065767403032,
          11.974498451071472,
          12.824042827304446,
          8.591010333751461,
          9.012837647943089,
          16.760492269250932,
          5.512068039651653,
          11.376964725378054,
          3.5523934850216845,
          11.401608463866715,
          8.201541344095709,
          6.529985000267169,
          4.474870086240084,
          11.18907918842103,
          9.367946040557488,
          6.236040267573878,
          4.8273414131333565,
          8.136577063496848,
          1.7345704402391808,
          12.854820073385827,
          7.290299247563147,
          6.1373680236876496,
          7.949293766203776,
          16.419876022191655,
          15.77906063671418,
          3.551973764262786,
          12.837832394300525,
          4.3615271614068885,
          2.438882965178212,
          5.728038462606964,
          9.05150092849984,
          10.403783495376134,
          7.926232260631458,
          15.087001371344702,
          5.787030430097266,
          20.090595706229927,
          17.480786807401415,
          19.831411638613883,
          6.454323295762226,
          9.046024721740334,
          9.676169157374478,
          8.59245339264854,
          13.269010488441682,
          10.524245934494528,
          20.86447986229844,
          7.628821545186743,
          8.650729041756719,
          10.197919055700758,
          7.240204760287465,
          5.232692253355717,
          8.601326955838479,
          6.70383817676963,
          4.911547482972043,
          17.601170717509877,
          5.834367794902977,
          9.830370694449638,
          6.466434182148442,
          7.745422875175122,
          5.30438475741387,
          5.747766690895482,
          12.518050875783404,
          16.787574387237765,
          11.530081724053126,
          10.223699066134685,
          18.13784850461912,
          5.349640401382637,
          6.359522365930339,
          7.6980342926683525,
          8.666486966216283,
          10.991541240149036,
          4.895154206225458,
          11.561284679163336,
          5.883411880289397,
          13.041264821342914,
          17.572028416224303,
          6.849073553697997,
          9.190376841278914,
          14.446375544082246,
          11.107262386906044,
          7.082180158583377,
          14.34246514893984,
          3.936251302301046,
          12.138401965604515,
          15.140034596499461,
          5.26307213300773,
          7.050177983356534,
          5.961983985435743,
          7.915026565159874,
          7.416371997110191,
          17.42517253378801,
          4.132915803902723,
          10.710726736482075,
          11.55517361660373,
          13.660683653901303,
          6.146455935528739,
          5.852069199522001,
          6.231655915150962,
          11.265695069394052,
          11.534694154152547,
          5.190732413027573,
          7.8017063958523245,
          11.180551581531033,
          9.958357049400123,
          6.864176813103891,
          6.713054455560249,
          6.518646081658173,
          6.553432753731947,
          6.014624436156687,
          6.521773280342041,
          4.95812384386048,
          17.05501157894271,
          6.669500934490138,
          3.165435058076006
         ],
         "z": [
          -3.9158706207294376,
          3.162663136711451,
          -0.8641439958751309,
          0.9089505372673351,
          3.719425186225258,
          5.590969874881764,
          6.339895673268708,
          2.330746421438947,
          -1.0683297746946567,
          -0.6139754371072866,
          5.256060189749807,
          2.339811247081675,
          1.5832258701204944,
          3.7353687022363347,
          5.13250865802524,
          0.7486822161239289,
          1.7901341906531192,
          -2.3315057599119644,
          2.494219705181458,
          9.681982594857807,
          1.3232051413055184,
          -0.48552055028892616,
          3.5791075671327266,
          0.8452267379140149,
          6.8484322308888785,
          3.6058745019055323,
          -3.266681772428416,
          3.475925549217675,
          0.04725322059433856,
          5.637310055197485,
          1.210302702691763,
          1.6641514470575876,
          7.753963201026575,
          2.5226676256529665,
          1.2433795353349146,
          5.684134447124947,
          -0.49532244761329103,
          0.6781104444911443,
          0.5826016932928659,
          0.011745656478473494,
          -1.3751689983584612,
          -0.11735726880942024,
          0.5400417100011555,
          -2.4445737605769087,
          0.10853253307621709,
          1.0220415700209182,
          0.7001468622648792,
          1.0125686508314728,
          -0.021303210749801946,
          1.147942068753592,
          4.391576758769376,
          0.2883414430173819,
          1.1870131771651486,
          1.9468109732516277,
          0.16582218886491376,
          6.218330518046707,
          1.9020624068263174,
          1.1632497820358685,
          5.345105929318118,
          3.0581520954652595,
          -1.5329679787626236,
          1.8795663410674752,
          2.7432349157280678,
          1.6350928597895429,
          -2.2039522459536984,
          -4.488840242625312,
          5.779893440134876,
          3.3211675403230316,
          -1.2567154593464507,
          1.596197691957272,
          -1.5976201290909573,
          2.0006976032321444,
          2.8947691316455177,
          -0.7821225189237166,
          1.3301901326676158,
          -1.8420238720525652,
          11.966199989471068,
          0.4102928626649905,
          0.9872935886213554,
          -3.4467425041196273,
          -3.561765544091168,
          -0.16488739059961507,
          5.4924081728134295,
          1.8270136473892418,
          1.4351149423036833,
          -1.07099454905779,
          0.6085488509986104,
          1.0948671043429041,
          9.389439569437187,
          -2.231906488499084,
          6.7058358232889805,
          2.892128600212832,
          3.550437490930528,
          1.319124907631983,
          1.302261465412933,
          0.9630374224778736,
          1.920847427469559,
          4.102143818484389,
          1.1512851625257225,
          3.0451213835682354,
          -2.19796037227258,
          4.8873839972344175,
          0.9299950752841349,
          -2.8706198463483235,
          -0.2773128641225683,
          3.4274565499856373,
          0.9005394867675732,
          2.332167545062797,
          1.0731867688398489,
          4.638543853614191,
          -0.9120666583676833,
          3.8851371740536784,
          -0.604229157199289,
          -0.0016689986259989912,
          2.262015496590463,
          4.165948842427927,
          0.5776437408931492,
          1.5771785836986392,
          6.0273366045314285,
          8.028814721545496,
          5.418376314020707,
          1.656986581524761,
          4.312060249709241,
          -1.9931319287918772,
          1.929418816826683,
          -0.9458639873348642,
          1.3084118371589775,
          6.590249622768695,
          -4.717568289798998,
          4.113890472475266,
          1.494577214434122,
          4.062377358142312,
          -1.3186828799848678,
          -0.07448867187209546,
          -0.7856899117887869,
          -0.5438954620552637,
          2.4205004589194017,
          -2.3758651531578403,
          -2.820472885158709,
          -1.6765800580999366,
          0.7893361806295938,
          0.10954901890182688,
          -0.6046918220502838,
          -0.6060437061433821,
          5.596585309752434,
          3.7336244310102065,
          0.5175293613317667,
          7.432685732555536,
          -1.063994746187251,
          -0.03569977013735404,
          1.592168070036598,
          4.731880014331084,
          -3.0215995397898543,
          -0.16538760224713409,
          4.60183886153714,
          -1.0547485758412183,
          4.620847815032122,
          2.8980855298812735,
          2.0054988886309646,
          -2.5792944912348834,
          5.465517964773675,
          1.3640967980090322,
          2.333022070547804,
          6.636405594279822,
          3.184328323323448,
          0.21401171557553803,
          7.774814064465575,
          1.0606509087430858,
          -4.832918760006947,
          3.9360016026229805,
          -1.1093797778512706,
          0.15386455363446658,
          9.325957976205402,
          -0.4328486716140975,
          0.005621287351337075,
          -0.8773203785995721,
          1.8206004513695335,
          -5.858710226673099,
          3.9267843083981,
          4.2620389665726846,
          1.9270517103181062,
          6.3512300558825805,
          0.09615277713219447,
          1.5790768720417343,
          -9.412521641886613,
          -0.03174354469082246,
          1.1440050620137245,
          1.0427646752033033,
          -2.1902562996444024,
          -0.8969837352375863,
          0.6773477585707733,
          -1.8950055923468188,
          2.6000477600244087,
          5.852064251328581,
          1.7737455375027595,
          2.154027346916553
         ]
        }
       ],
       "layout": {
        "height": 600,
        "legend": {
         "title": {
          "text": "color"
         },
         "tracegroupgap": 0
        },
        "scene": {
         "domain": {
          "x": [
           0,
           1
          ],
          "y": [
           0,
           1
          ]
         },
         "xaxis": {
          "title": {
           "text": "Principal component 1"
          }
         },
         "yaxis": {
          "title": {
           "text": "Principal component 2"
          }
         },
         "zaxis": {
          "title": {
           "text": "Principal component 3"
          }
         }
        },
        "template": {
         "data": {
          "bar": [
           {
            "error_x": {
             "color": "#2a3f5f"
            },
            "error_y": {
             "color": "#2a3f5f"
            },
            "marker": {
             "line": {
              "color": "#E5ECF6",
              "width": 0.5
             },
             "pattern": {
              "fillmode": "overlay",
              "size": 10,
              "solidity": 0.2
             }
            },
            "type": "bar"
           }
          ],
          "barpolar": [
           {
            "marker": {
             "line": {
              "color": "#E5ECF6",
              "width": 0.5
             },
             "pattern": {
              "fillmode": "overlay",
              "size": 10,
              "solidity": 0.2
             }
            },
            "type": "barpolar"
           }
          ],
          "carpet": [
           {
            "aaxis": {
             "endlinecolor": "#2a3f5f",
             "gridcolor": "white",
             "linecolor": "white",
             "minorgridcolor": "white",
             "startlinecolor": "#2a3f5f"
            },
            "baxis": {
             "endlinecolor": "#2a3f5f",
             "gridcolor": "white",
             "linecolor": "white",
             "minorgridcolor": "white",
             "startlinecolor": "#2a3f5f"
            },
            "type": "carpet"
           }
          ],
          "choropleth": [
           {
            "colorbar": {
             "outlinewidth": 0,
             "ticks": ""
            },
            "type": "choropleth"
           }
          ],
          "contour": [
           {
            "colorbar": {
             "outlinewidth": 0,
             "ticks": ""
            },
            "colorscale": [
             [
              0,
              "#0d0887"
             ],
             [
              0.1111111111111111,
              "#46039f"
             ],
             [
              0.2222222222222222,
              "#7201a8"
             ],
             [
              0.3333333333333333,
              "#9c179e"
             ],
             [
              0.4444444444444444,
              "#bd3786"
             ],
             [
              0.5555555555555556,
              "#d8576b"
             ],
             [
              0.6666666666666666,
              "#ed7953"
             ],
             [
              0.7777777777777778,
              "#fb9f3a"
             ],
             [
              0.8888888888888888,
              "#fdca26"
             ],
             [
              1,
              "#f0f921"
             ]
            ],
            "type": "contour"
           }
          ],
          "contourcarpet": [
           {
            "colorbar": {
             "outlinewidth": 0,
             "ticks": ""
            },
            "type": "contourcarpet"
           }
          ],
          "heatmap": [
           {
            "colorbar": {
             "outlinewidth": 0,
             "ticks": ""
            },
            "colorscale": [
             [
              0,
              "#0d0887"
             ],
             [
              0.1111111111111111,
              "#46039f"
             ],
             [
              0.2222222222222222,
              "#7201a8"
             ],
             [
              0.3333333333333333,
              "#9c179e"
             ],
             [
              0.4444444444444444,
              "#bd3786"
             ],
             [
              0.5555555555555556,
              "#d8576b"
             ],
             [
              0.6666666666666666,
              "#ed7953"
             ],
             [
              0.7777777777777778,
              "#fb9f3a"
             ],
             [
              0.8888888888888888,
              "#fdca26"
             ],
             [
              1,
              "#f0f921"
             ]
            ],
            "type": "heatmap"
           }
          ],
          "heatmapgl": [
           {
            "colorbar": {
             "outlinewidth": 0,
             "ticks": ""
            },
            "colorscale": [
             [
              0,
              "#0d0887"
             ],
             [
              0.1111111111111111,
              "#46039f"
             ],
             [
              0.2222222222222222,
              "#7201a8"
             ],
             [
              0.3333333333333333,
              "#9c179e"
             ],
             [
              0.4444444444444444,
              "#bd3786"
             ],
             [
              0.5555555555555556,
              "#d8576b"
             ],
             [
              0.6666666666666666,
              "#ed7953"
             ],
             [
              0.7777777777777778,
              "#fb9f3a"
             ],
             [
              0.8888888888888888,
              "#fdca26"
             ],
             [
              1,
              "#f0f921"
             ]
            ],
            "type": "heatmapgl"
           }
          ],
          "histogram": [
           {
            "marker": {
             "pattern": {
              "fillmode": "overlay",
              "size": 10,
              "solidity": 0.2
             }
            },
            "type": "histogram"
           }
          ],
          "histogram2d": [
           {
            "colorbar": {
             "outlinewidth": 0,
             "ticks": ""
            },
            "colorscale": [
             [
              0,
              "#0d0887"
             ],
             [
              0.1111111111111111,
              "#46039f"
             ],
             [
              0.2222222222222222,
              "#7201a8"
             ],
             [
              0.3333333333333333,
              "#9c179e"
             ],
             [
              0.4444444444444444,
              "#bd3786"
             ],
             [
              0.5555555555555556,
              "#d8576b"
             ],
             [
              0.6666666666666666,
              "#ed7953"
             ],
             [
              0.7777777777777778,
              "#fb9f3a"
             ],
             [
              0.8888888888888888,
              "#fdca26"
             ],
             [
              1,
              "#f0f921"
             ]
            ],
            "type": "histogram2d"
           }
          ],
          "histogram2dcontour": [
           {
            "colorbar": {
             "outlinewidth": 0,
             "ticks": ""
            },
            "colorscale": [
             [
              0,
              "#0d0887"
             ],
             [
              0.1111111111111111,
              "#46039f"
             ],
             [
              0.2222222222222222,
              "#7201a8"
             ],
             [
              0.3333333333333333,
              "#9c179e"
             ],
             [
              0.4444444444444444,
              "#bd3786"
             ],
             [
              0.5555555555555556,
              "#d8576b"
             ],
             [
              0.6666666666666666,
              "#ed7953"
             ],
             [
              0.7777777777777778,
              "#fb9f3a"
             ],
             [
              0.8888888888888888,
              "#fdca26"
             ],
             [
              1,
              "#f0f921"
             ]
            ],
            "type": "histogram2dcontour"
           }
          ],
          "mesh3d": [
           {
            "colorbar": {
             "outlinewidth": 0,
             "ticks": ""
            },
            "type": "mesh3d"
           }
          ],
          "parcoords": [
           {
            "line": {
             "colorbar": {
              "outlinewidth": 0,
              "ticks": ""
             }
            },
            "type": "parcoords"
           }
          ],
          "pie": [
           {
            "automargin": true,
            "type": "pie"
           }
          ],
          "scatter": [
           {
            "fillpattern": {
             "fillmode": "overlay",
             "size": 10,
             "solidity": 0.2
            },
            "type": "scatter"
           }
          ],
          "scatter3d": [
           {
            "line": {
             "colorbar": {
              "outlinewidth": 0,
              "ticks": ""
             }
            },
            "marker": {
             "colorbar": {
              "outlinewidth": 0,
              "ticks": ""
             }
            },
            "type": "scatter3d"
           }
          ],
          "scattercarpet": [
           {
            "marker": {
             "colorbar": {
              "outlinewidth": 0,
              "ticks": ""
             }
            },
            "type": "scattercarpet"
           }
          ],
          "scattergeo": [
           {
            "marker": {
             "colorbar": {
              "outlinewidth": 0,
              "ticks": ""
             }
            },
            "type": "scattergeo"
           }
          ],
          "scattergl": [
           {
            "marker": {
             "colorbar": {
              "outlinewidth": 0,
              "ticks": ""
             }
            },
            "type": "scattergl"
           }
          ],
          "scattermapbox": [
           {
            "marker": {
             "colorbar": {
              "outlinewidth": 0,
              "ticks": ""
             }
            },
            "type": "scattermapbox"
           }
          ],
          "scatterpolar": [
           {
            "marker": {
             "colorbar": {
              "outlinewidth": 0,
              "ticks": ""
             }
            },
            "type": "scatterpolar"
           }
          ],
          "scatterpolargl": [
           {
            "marker": {
             "colorbar": {
              "outlinewidth": 0,
              "ticks": ""
             }
            },
            "type": "scatterpolargl"
           }
          ],
          "scatterternary": [
           {
            "marker": {
             "colorbar": {
              "outlinewidth": 0,
              "ticks": ""
             }
            },
            "type": "scatterternary"
           }
          ],
          "surface": [
           {
            "colorbar": {
             "outlinewidth": 0,
             "ticks": ""
            },
            "colorscale": [
             [
              0,
              "#0d0887"
             ],
             [
              0.1111111111111111,
              "#46039f"
             ],
             [
              0.2222222222222222,
              "#7201a8"
             ],
             [
              0.3333333333333333,
              "#9c179e"
             ],
             [
              0.4444444444444444,
              "#bd3786"
             ],
             [
              0.5555555555555556,
              "#d8576b"
             ],
             [
              0.6666666666666666,
              "#ed7953"
             ],
             [
              0.7777777777777778,
              "#fb9f3a"
             ],
             [
              0.8888888888888888,
              "#fdca26"
             ],
             [
              1,
              "#f0f921"
             ]
            ],
            "type": "surface"
           }
          ],
          "table": [
           {
            "cells": {
             "fill": {
              "color": "#EBF0F8"
             },
             "line": {
              "color": "white"
             }
            },
            "header": {
             "fill": {
              "color": "#C8D4E3"
             },
             "line": {
              "color": "white"
             }
            },
            "type": "table"
           }
          ]
         },
         "layout": {
          "annotationdefaults": {
           "arrowcolor": "#2a3f5f",
           "arrowhead": 0,
           "arrowwidth": 1
          },
          "autotypenumbers": "strict",
          "coloraxis": {
           "colorbar": {
            "outlinewidth": 0,
            "ticks": ""
           }
          },
          "colorscale": {
           "diverging": [
            [
             0,
             "#8e0152"
            ],
            [
             0.1,
             "#c51b7d"
            ],
            [
             0.2,
             "#de77ae"
            ],
            [
             0.3,
             "#f1b6da"
            ],
            [
             0.4,
             "#fde0ef"
            ],
            [
             0.5,
             "#f7f7f7"
            ],
            [
             0.6,
             "#e6f5d0"
            ],
            [
             0.7,
             "#b8e186"
            ],
            [
             0.8,
             "#7fbc41"
            ],
            [
             0.9,
             "#4d9221"
            ],
            [
             1,
             "#276419"
            ]
           ],
           "sequential": [
            [
             0,
             "#0d0887"
            ],
            [
             0.1111111111111111,
             "#46039f"
            ],
            [
             0.2222222222222222,
             "#7201a8"
            ],
            [
             0.3333333333333333,
             "#9c179e"
            ],
            [
             0.4444444444444444,
             "#bd3786"
            ],
            [
             0.5555555555555556,
             "#d8576b"
            ],
            [
             0.6666666666666666,
             "#ed7953"
            ],
            [
             0.7777777777777778,
             "#fb9f3a"
            ],
            [
             0.8888888888888888,
             "#fdca26"
            ],
            [
             1,
             "#f0f921"
            ]
           ],
           "sequentialminus": [
            [
             0,
             "#0d0887"
            ],
            [
             0.1111111111111111,
             "#46039f"
            ],
            [
             0.2222222222222222,
             "#7201a8"
            ],
            [
             0.3333333333333333,
             "#9c179e"
            ],
            [
             0.4444444444444444,
             "#bd3786"
            ],
            [
             0.5555555555555556,
             "#d8576b"
            ],
            [
             0.6666666666666666,
             "#ed7953"
            ],
            [
             0.7777777777777778,
             "#fb9f3a"
            ],
            [
             0.8888888888888888,
             "#fdca26"
            ],
            [
             1,
             "#f0f921"
            ]
           ]
          },
          "colorway": [
           "#636efa",
           "#EF553B",
           "#00cc96",
           "#ab63fa",
           "#FFA15A",
           "#19d3f3",
           "#FF6692",
           "#B6E880",
           "#FF97FF",
           "#FECB52"
          ],
          "font": {
           "color": "#2a3f5f"
          },
          "geo": {
           "bgcolor": "white",
           "lakecolor": "white",
           "landcolor": "#E5ECF6",
           "showlakes": true,
           "showland": true,
           "subunitcolor": "white"
          },
          "hoverlabel": {
           "align": "left"
          },
          "hovermode": "closest",
          "mapbox": {
           "style": "light"
          },
          "paper_bgcolor": "white",
          "plot_bgcolor": "#E5ECF6",
          "polar": {
           "angularaxis": {
            "gridcolor": "white",
            "linecolor": "white",
            "ticks": ""
           },
           "bgcolor": "#E5ECF6",
           "radialaxis": {
            "gridcolor": "white",
            "linecolor": "white",
            "ticks": ""
           }
          },
          "scene": {
           "xaxis": {
            "backgroundcolor": "#E5ECF6",
            "gridcolor": "white",
            "gridwidth": 2,
            "linecolor": "white",
            "showbackground": true,
            "ticks": "",
            "zerolinecolor": "white"
           },
           "yaxis": {
            "backgroundcolor": "#E5ECF6",
            "gridcolor": "white",
            "gridwidth": 2,
            "linecolor": "white",
            "showbackground": true,
            "ticks": "",
            "zerolinecolor": "white"
           },
           "zaxis": {
            "backgroundcolor": "#E5ECF6",
            "gridcolor": "white",
            "gridwidth": 2,
            "linecolor": "white",
            "showbackground": true,
            "ticks": "",
            "zerolinecolor": "white"
           }
          },
          "shapedefaults": {
           "line": {
            "color": "#2a3f5f"
           }
          },
          "ternary": {
           "aaxis": {
            "gridcolor": "white",
            "linecolor": "white",
            "ticks": ""
           },
           "baxis": {
            "gridcolor": "white",
            "linecolor": "white",
            "ticks": ""
           },
           "bgcolor": "#E5ECF6",
           "caxis": {
            "gridcolor": "white",
            "linecolor": "white",
            "ticks": ""
           }
          },
          "title": {
           "x": 0.05
          },
          "xaxis": {
           "automargin": true,
           "gridcolor": "white",
           "linecolor": "white",
           "ticks": "",
           "title": {
            "standoff": 15
           },
           "zerolinecolor": "white",
           "zerolinewidth": 2
          },
          "yaxis": {
           "automargin": true,
           "gridcolor": "white",
           "linecolor": "white",
           "ticks": "",
           "title": {
            "standoff": 15
           },
           "zerolinecolor": "white",
           "zerolinewidth": 2
          }
         }
        },
        "title": {
         "text": "PCA projection of the 15 categories into the 3 Principal components"
        },
        "width": 1000
       }
      }
     },
     "metadata": {},
     "output_type": "display_data"
    }
   ],
   "source": [
    "users_pca_3.sort_values(by = 'cluster', inplace=True) #to guarantee color consistency\n",
    "cl_names = users_pca_3['cluster'].apply(lambda cl : mapping_idx_name[cl])\n",
    "fig = px.scatter_3d(users_pca_3, x='Principal component 1', y='Principal component 2', z='Principal component 3',opacity =1,\n",
    "             color=cl_names ,size_max =50,width=1000, height=600,title ='PCA projection of the 15 categories into the 3 Principal components')\n",
    "\n",
    "fig.show()"
   ]
  },
  {
   "cell_type": "code",
   "execution_count": 273,
   "metadata": {},
   "outputs": [
    {
     "name": "stdout",
     "output_type": "stream",
     "text": [
      "the variances explained by the 2 first principal components are [0.43681178 0.23533086] (respectively)\n"
     ]
    }
   ],
   "source": [
    "pca_2 = PCA(n_components=2)\n",
    "users_pca_2 = pca_2.fit_transform(user_to_cat_first[user_to_cat_first.columns[0:15]].values)\n",
    "print('the variances explained by the 2 first principal components are',pca_2.explained_variance_ratio_,'(respectively)')"
   ]
  },
  {
   "cell_type": "code",
   "execution_count": 274,
   "metadata": {},
   "outputs": [],
   "source": [
    "users_pca_2 = pd.DataFrame(users_pca_2)\n",
    "users_pca_2.index = user_to_cat_first.index\n",
    "users_pca_2.columns=['Principal component 1','Principal component 2']\n",
    "users_pca_2['cluster'] = user_to_cat_first['first_50_cluster']"
   ]
  },
  {
   "cell_type": "code",
   "execution_count": 275,
   "metadata": {},
   "outputs": [
    {
     "data": {
      "application/vnd.plotly.v1+json": {
       "config": {
        "plotlyServerURL": "https://plot.ly"
       },
       "data": [
        {
         "hovertemplate": "color=Jean-Michel IPA<br>Principal component 1=%{x}<br>Principal component 2=%{y}<extra></extra>",
         "legendgroup": "Jean-Michel IPA",
         "marker": {
          "color": "#636efa",
          "opacity": 1,
          "symbol": "circle"
         },
         "mode": "markers",
         "name": "Jean-Michel IPA",
         "orientation": "v",
         "showlegend": true,
         "type": "scatter",
         "x": [
          18.047276169772907,
          14.667616564749315,
          5.923413144844566,
          15.135939049690888,
          4.966910633690099,
          7.184598718873909,
          13.068839751431572,
          10.339555620668634,
          11.322101292646222,
          8.75768897192496,
          4.380975177272189,
          11.814816124811506,
          9.393921124270243,
          10.423781961065698,
          6.047573655295086,
          17.82627071818632,
          5.603051621585632,
          17.791674213604143,
          4.741326729651987,
          5.541612259243361,
          11.326783367661745,
          16.778985429628666,
          5.579575113448703,
          16.357066846384047,
          11.332177060306131,
          13.652685008734156,
          20.566690484679462,
          5.99975911462846,
          16.460097412953388,
          9.417237858378803,
          22.64820159362212,
          15.446298688079615,
          5.32280988640151,
          17.553534953012267,
          6.201974470835211,
          15.249717258841079,
          12.810224841927727,
          4.97261265534147,
          8.158876770795343,
          20.473843449626898,
          8.008118919661678,
          6.5507786705258155,
          5.474570285207271,
          12.174955562663518,
          16.1836496550432,
          8.409127058984902,
          4.289739125471407,
          12.632790311099797,
          8.62471954855108,
          11.670074987691544,
          7.282159983285023,
          6.330504665185374,
          5.429657729089542,
          12.578186460315385,
          9.631558199968847,
          7.549733008362677,
          18.557040565586888,
          23.509170022972395,
          5.49202198493271,
          10.327794021505762,
          10.049474956917388,
          15.291477556863173,
          7.610984816358099,
          10.131086913986454,
          19.36956619409802,
          16.397341062806507,
          8.111119486891186,
          10.736991760602846,
          13.77669813781152,
          20.25559805832313,
          20.45622951530965,
          13.46280351299515,
          13.610179176037779,
          16.814518246625607,
          18.047881386844015,
          20.38343928274571,
          17.805402100485367,
          5.027143893906251,
          15.545831616257022,
          6.1557145272173575,
          23.923063465619848,
          9.524267037627805,
          5.303965238293809,
          25.383199411933823,
          20.540249782370072,
          21.774714044633615,
          8.692064414654586,
          20.750461078512497,
          7.469127577072554,
          17.814147609414768,
          12.266345747803971,
          4.992422539348234,
          9.894936915071652,
          10.131227130229155,
          17.90965967786948,
          11.71712297392341,
          20.13186866714518,
          15.97214727054529,
          5.810049437325985,
          8.60309613734211,
          6.648390838307435,
          12.153765222449298,
          19.499429189604697,
          12.234276295225683,
          22.251716444445,
          15.568022034280434,
          9.097284143817527,
          14.076560141749281,
          6.91827909498588,
          15.176727549456663,
          8.4075818314378,
          7.3235004407085125,
          10.402157704955254,
          9.0012369476582,
          16.527281207644595,
          7.083890315725247,
          14.84054654846397,
          19.97345595043672,
          11.76866755533823,
          7.993716913608483,
          5.285556017725031,
          8.435280335103045,
          11.516517285743603,
          7.04211893355682,
          11.548984175819754,
          12.762611265999594,
          5.563711581212729,
          9.714670813689105,
          7.6741296708733815,
          6.468018109217798,
          7.274830366194015,
          25.508080001766814,
          5.672102758760005,
          13.798101076045231,
          11.413407570115861,
          6.169460993606115,
          5.357749015290836,
          12.39669648093008,
          19.47322498733348,
          26.46362460010966,
          9.3691228215583,
          11.998425884177468,
          8.449156958844506,
          14.334765288394692,
          10.26616842688744,
          16.214820955649827,
          8.06764303410462,
          18.015408161895213,
          6.737454124005212,
          9.820986956319144,
          20.504348157868645,
          21.567359748172304,
          12.657457656751752,
          5.936984097643977,
          5.593086011072866,
          15.66289489558055,
          8.08643974129237,
          9.330939082916407,
          12.961627445539884,
          7.929130848565847,
          8.31534722625519,
          11.757140464136135,
          14.158880378003872,
          15.21392098865646,
          17.454389164734835,
          13.248608229370792,
          3.854233879615568,
          5.473909391450624,
          7.157152372555853,
          6.650455286587369,
          17.042322964924768,
          19.57172791791866,
          17.709823521118828,
          6.865011335102466,
          14.04807232879678,
          10.54728485833832,
          7.6244365418542674,
          5.252138261330307,
          11.679198157560991,
          9.127093022801235,
          16.379661543488506,
          27.161990147042996,
          13.020617026101847,
          6.574370411365231,
          10.481421304979419,
          7.294330374264059,
          11.972114412352857,
          8.83376715768715,
          11.131402921966723,
          7.216827933949844,
          8.317677189128128,
          6.740041468299485,
          20.261294623442364,
          26.106979445923603,
          10.922984850074696,
          9.309570785215948,
          21.070378396858384,
          7.276088832606462,
          5.754947036135818,
          18.463781073000185,
          19.884660427021903,
          12.155158095829222,
          5.559710538636931,
          17.979240833030364,
          5.000696446481807,
          18.276545196009508,
          5.88058338410214,
          5.619845248120099,
          12.272352312043138,
          8.262445071931737,
          6.049096061671489,
          6.166280684850473,
          10.114679358197392,
          16.79443085800292,
          17.714445207061665,
          7.270213654377735,
          6.756809284426107,
          10.396799336737322,
          9.11651263458343,
          7.047082739975279,
          14.768102300647266,
          11.146230280491743,
          18.14529645377977,
          32.078935815903435,
          12.246415856374421,
          9.211511350954618,
          12.764338947121646,
          9.250369571096764,
          9.700576988099364,
          10.44776615272605,
          4.993708102004448,
          7.644808928184865,
          9.896878109611459,
          7.746876683965085,
          20.33469763189016,
          14.366790129776932,
          10.698707118760836,
          8.65528828425963,
          9.35633808688534
         ],
         "xaxis": "x",
         "y": [
          -4.419624301758114,
          -0.7664808354981234,
          -3.6016457001181488,
          0.36451813799441496,
          -0.778015675785906,
          -7.668738445448379,
          -1.0948825571300143,
          -2.828222460182922,
          -4.556585454045102,
          -5.190333047892476,
          1.9409829853738765,
          -6.433656305744414,
          3.624707031789447,
          -1.663646985483941,
          2.210302706002174,
          -3.2501991302517816,
          -3.581255106296572,
          0.882869325503893,
          -3.796841651565842,
          0.9871960519229248,
          -1.174960046618645,
          -5.97266845174593,
          3.146064663538519,
          -1.9214719132894527,
          -0.8921267361078872,
          1.7144009855344062,
          -2.6122051014036103,
          -8.98908907857008,
          -6.692649351310925,
          -4.263873172578599,
          -6.696187206817629,
          -6.763213287691025,
          -5.913266578021861,
          -7.398877582946773,
          -0.9840676657214011,
          -0.2597329092788884,
          -3.584322738309439,
          -1.3423433026590161,
          3.674018483297565,
          -2.350312486217155,
          -3.130517136340597,
          -3.1529798744996262,
          0.5890657250266201,
          -2.0376537847439624,
          0.3096683258841643,
          -1.977825751517994,
          -4.656121358762934,
          -3.0674123529488697,
          -1.7714477691515074,
          -8.677681530012201,
          0.5348423738594266,
          -2.0412224343000798,
          -0.35896914431472343,
          -4.713514627603178,
          0.3622246503126317,
          0.9970621964902785,
          2.0941441695219774,
          -8.87372783589827,
          -7.899285542541424,
          0.8126202756556702,
          -5.000385884656415,
          5.7157946735814456,
          1.7694070134157431,
          -2.363078768681689,
          -3.579067514717875,
          -6.320045245640006,
          0.8567306790568653,
          2.841920871530259,
          -6.3816458369829485,
          -5.1145028025301995,
          -5.877378914322698,
          -5.7910843754332415,
          -6.081817942760468,
          -4.244699307628822,
          -6.368987059966941,
          -8.247440277050522,
          -3.366425786514739,
          -0.3487528570003829,
          1.7553659086570663,
          2.4591530872266807,
          -4.843325610101139,
          4.01638694935242,
          -1.3053364857597807,
          -4.481664309931114,
          3.662318328091557,
          -6.3151924907509756,
          2.8778550334617092,
          0.35695603992091884,
          -0.8722569118440853,
          -9.928833355754438,
          3.0988435009329147,
          -6.849429156966341,
          4.567918623830157,
          -0.5844867411872298,
          -6.432558146138556,
          5.1778814610347395,
          1.3828724676576576,
          -0.0970618359791031,
          -4.985336104692345,
          3.6994181460846094,
          -3.4990583298926996,
          -4.1185922894003175,
          -4.575260661556243,
          -3.7371797412734358,
          -1.8794510576072931,
          -8.000097360362053,
          -2.207727471246923,
          2.0842327008627066,
          1.553647141184066,
          -5.078941217423406,
          4.167169439654249,
          -5.421797102053992,
          0.2705423972413753,
          -1.4763927383248518,
          7.855419327569445,
          -8.10632937131144,
          -3.9088203403721713,
          -5.3407803079754945,
          3.833852131040773,
          0.11145858157716798,
          -3.423459760938363,
          2.108016561172558,
          1.6104559307666728,
          -1.675175786964935,
          3.1627084909638814,
          -2.1497996525465948,
          2.176792828395695,
          3.5369651769401984,
          -4.817580253346013,
          -8.190097848495817,
          4.674199900003857,
          0.811562445449433,
          -4.1599235174511096,
          -7.215701916588441,
          -3.6603682059368494,
          -1.4424589091098299,
          -4.682986568663998,
          -6.549875845301271,
          0.1342629978162386,
          -7.425693713432635,
          0.8881455471015305,
          3.0894904388640074,
          -6.678120267677276,
          -2.8949060640882553,
          -4.869663823985124,
          -5.3515311289031064,
          0.8247937951485145,
          -7.7974338836228565,
          -0.31979175871060184,
          2.7522540072950274,
          -5.801999230626694,
          -4.465703890141493,
          3.0904944296722876,
          -3.573931462451646,
          -0.2891733130904265,
          -9.093583268807715,
          -5.637784423164068,
          -5.605953988984755,
          -7.051603842572474,
          -8.952665719799356,
          1.1695710940567046,
          -4.502616860047219,
          -6.5098654798004505,
          1.1712865161336805,
          0.3065826716732711,
          -1.9774451071021848,
          -6.164169463044675,
          0.821605575858973,
          -5.558878462790592,
          -2.839245018709137,
          -3.433171343309964,
          3.0370282394375123,
          -5.1511543016964465,
          -2.386181892101559,
          -1.763946311431437,
          6.108770044499497,
          5.814584941474731,
          -1.4542106546241935,
          -0.4976283854135716,
          0.1683558232882189,
          0.21695866235855932,
          -5.312104665663612,
          -3.6293805621711845,
          -1.304387840737107,
          -5.817948735916506,
          -0.4194306460931434,
          -3.5890721138624757,
          -2.9412193918418357,
          -6.083996152556499,
          -9.1335522709372,
          4.427338781848874,
          -4.141132616300876,
          -3.0579222852298007,
          -6.252104654890329,
          -3.668834419082211,
          4.794141202028199,
          -6.711857866219844,
          -1.0195304549716735,
          0.5180770662560303,
          -7.296703526808988,
          -2.5016034222088006,
          -6.071765788981584,
          -1.5945549029545512,
          -7.679186328816317,
          -2.1636531806454604,
          -8.231247881247718,
          -4.11414570065012,
          -1.9370473943075281,
          0.8058621377281183,
          -1.5609105810577957,
          2.446677839885845,
          3.6485377356758986,
          -3.762679894861294,
          -9.057563403582348,
          -4.288247717335364,
          -0.6217727348695951,
          -0.7080336141742075,
          -6.340835257197178,
          0.5398859631399672,
          -7.6606707589318805,
          -1.172058749063771,
          -5.16459071518941,
          0.10543325797017683,
          -7.297039676038319,
          -3.112136952196646,
          0.6620979501282812,
          -6.660126926319649,
          -1.0371886950023033,
          7.710512575763851,
          3.5362269956107184,
          -3.4002422814938695,
          -1.2824884288611897,
          -5.620558757307532,
          5.235397247460708,
          -4.850009070010681,
          1.5656462104979536,
          6.037139764924063,
          -2.583702040142076,
          -2.878861378117555
         ],
         "yaxis": "y"
        },
        {
         "hovertemplate": "color=Ada the explorer<br>Principal component 1=%{x}<br>Principal component 2=%{y}<extra></extra>",
         "legendgroup": "Ada the explorer",
         "marker": {
          "color": "#EF553B",
          "opacity": 1,
          "symbol": "circle"
         },
         "mode": "markers",
         "name": "Ada the explorer",
         "orientation": "v",
         "showlegend": true,
         "type": "scatter",
         "x": [
          -1.2927707748146078,
          2.348664077309784,
          -10.039098367393825,
          -2.594705785424539,
          1.933255700761849,
          -10.806070251344503,
          -11.707770647162638,
          1.4227778102141477,
          -9.492169671615123,
          -7.8440206958880285,
          -9.286791973201067,
          -7.933237321881212,
          -6.476435513268608,
          -9.404181452401867,
          -7.125743340154768,
          -5.2920318049505095,
          2.58083125688617,
          0.0486547284231944,
          0.3990215955509051,
          -0.08211905834721805,
          -1.9696376908156372,
          -8.168741010457198,
          -6.9669553760772684,
          -3.64494720044409,
          0.4945814359637424,
          -11.902931832294568,
          -2.067562644228357,
          -6.294733433228914,
          -4.170424612877951,
          -1.2932735175312888,
          2.553221995366199,
          -9.484221405866064,
          0.18536442145993653,
          3.3806481160665465,
          -5.709539685225047,
          -10.331361974890365,
          4.32715937636242,
          -9.365648103077108,
          -4.5686227500560825,
          -7.377000693227754,
          -7.200998747433379,
          -6.634671875986995,
          0.3682766016915917,
          2.7030099980825586,
          -3.2909452610680443,
          -8.256032120745934,
          -0.17431070404686838,
          -2.232524681797478,
          -0.8800575101906817,
          -4.730115579679962,
          -3.419019878865192,
          -2.796550508419877,
          1.1592462425514094,
          1.1571822117511854,
          -0.2962634078890585,
          -0.7005795893601925,
          3.202669097461246,
          -1.1588380539634755,
          -8.726746477514387,
          -1.2468058521490455,
          -0.8288057555624069,
          -11.531188858704558,
          -6.93874819844593,
          4.351380322847406,
          -2.436926533131931,
          -2.9764520805541648,
          -5.15818686949474,
          2.620577576660247,
          -0.2666308670758278,
          -3.751916942990842,
          -10.489323275484201,
          -9.242565970185202,
          -4.708740104739195,
          -7.413270583965451,
          -7.32346515069009,
          0.42850181575020535,
          -6.180878673539984,
          -1.4723812064305744,
          -7.253867015775728,
          -1.8828054800779497,
          4.259867122685376,
          -9.238036164108848,
          -0.3382570418861104,
          2.13349083454678,
          0.277541769055405,
          -8.64512531852545,
          -7.737556683536615,
          2.620747771915075,
          -7.7058905986986685,
          -2.8016994953900207,
          -2.22892791612945,
          -3.403186079675037,
          2.3736614250951042,
          0.02504941910295698,
          2.3727805753822357,
          -11.306771347361426,
          2.2423173323381027,
          -1.7569156097484475,
          -2.5718992402009095,
          -0.7461589829964715,
          0.599229204446084,
          -7.463019567179884,
          -4.420727576330462,
          -7.7666248360433405,
          -6.585677696744939,
          -5.392186996580287,
          -5.724261084058665,
          -7.581225236144612,
          -9.553781060133717,
          -2.171991527928407,
          -8.338366765647349,
          -7.485584790025114,
          -6.581052757235375,
          -2.2897634485153926,
          -8.32473594023395,
          -2.6622473083546754,
          -0.9356346415087043,
          -7.163490048470762,
          -4.602745754003553,
          1.7320563658076005,
          -5.702971300186611,
          -5.439886796140531,
          -4.666318488938217,
          1.7906251103741844,
          -5.526464788783065,
          2.8616327927244027,
          -0.7360647803465097,
          -10.634542316150846,
          3.5157567095349447,
          -0.296540741851714,
          3.7813295114484586,
          -8.030122660438694,
          -8.836725920695702,
          -1.2260948772384133,
          3.123192719637304,
          -3.556504469913971,
          -1.3114400662064136,
          -5.049144606522493,
          -5.39016997311779,
          -11.893111750561044,
          -0.9967183188010349,
          3.546150146214178,
          1.9740368925729361,
          -9.987971296414571,
          -2.7380712928762434,
          3.0346594716313757,
          0.7468857938826485,
          -1.6543470265246247,
          -7.326487180084344,
          -8.883741111128291,
          -5.513643033965496,
          -11.567591749837002,
          2.9085310287694925,
          -2.4005078551748307,
          -3.464515367421518,
          -2.8879102376638417,
          0.22126897978017881,
          -6.777689292897323,
          -9.123265269992768,
          -1.3459929387378726,
          3.7019288923169333,
          -4.834378458975946,
          1.4387808351931954,
          -0.7551134304161257,
          0.9053274690838512,
          -6.481642794650395,
          -2.727525417386442,
          -3.107324959146912,
          -6.517014614055098,
          -7.343626531021742,
          -7.727681424507228,
          -1.9301763853688725,
          -5.256927183069565,
          -2.9104592420470796,
          -3.1160139223442282,
          -2.1003221983257645,
          -1.9987645642937517,
          -3.916870578186568,
          -6.373983377186452,
          -3.251724111626719,
          2.0814978617266853,
          -4.060087610390246,
          2.756255545294388,
          -9.893182082889812,
          4.815056275342552,
          0.733772993143664,
          -3.0434034394858673,
          -7.701406830446423,
          -8.739221975920444,
          0.24694720470336134,
          -4.026693659715521,
          2.1862919774694345,
          1.573558397718258,
          -2.187113923701778,
          -8.304019927773048,
          1.0649081261751159,
          -9.005738724700882,
          0.6451258703049929,
          -8.333703043871143,
          -9.620822903668934,
          -1.483129984011132,
          -0.679842063398496,
          -6.42639463297053,
          -2.8619068164838444,
          -8.800871402462676,
          -7.64523636110919,
          -3.251060468892673,
          -0.7430104791879764,
          -6.862151286972529,
          -6.565775235961493,
          -5.988966242492598,
          -3.675800219155968,
          -10.747428362378493,
          -7.863040431810518,
          -1.5723650886598675,
          -1.1436929526150603,
          -3.4577439066985067,
          1.6851468853424416,
          -1.1618548692430146,
          -5.553263263691525,
          -9.529793541557458,
          -9.272648043721707,
          1.9235144624422784,
          -4.791555991875547,
          -6.810237231012105,
          -5.317316886504235,
          -8.561993257550323,
          -4.483133547589568,
          1.1878788819027455,
          -8.384878768740148,
          -3.0702092555756777,
          -10.572537634164211,
          -7.899441382382916,
          -11.208856453252142,
          -9.945163636270633,
          -0.2328221167921757,
          -5.8936752050748415,
          -5.336102925106734,
          -6.666159260605412,
          -0.16007816327603944,
          -8.333261886499468,
          -4.922773186928812,
          -0.40766963631841135,
          -5.547607640133639,
          -1.345552596572039,
          1.731016411778024,
          1.8041331296746212,
          0.45000508292958996,
          -0.5134524607058637,
          0.7592402457179194,
          -7.686567791804932,
          -8.490247146821648,
          3.9237436280483964,
          -0.8788652621783132,
          -6.053189880751015,
          0.7952697818505787,
          1.1156102621612725,
          -6.83353858147743,
          3.5447241171149364,
          3.0458847364976824,
          -1.4569041459246541,
          -1.3504861684605423,
          -3.936261874292393,
          -8.520621978956523,
          -0.8867788220683948,
          1.7659045698816787,
          -3.7222852865751066,
          -5.225772946461313,
          -3.6183179358002593,
          2.030653743497881,
          -8.614953215250267,
          -3.2362181539099706,
          -7.975733922823779,
          -10.964137774262813,
          1.1410033423536012,
          -5.2121237640673606,
          -7.409294517804993,
          -9.135614730563267,
          -1.0717158756822727,
          -11.92806255323387,
          -4.645234366580278,
          -5.7887305075016,
          1.3058707568087655,
          -7.485855138792073,
          -4.14744796486641,
          -7.233725734542975,
          -1.7627615231208906,
          3.692591479354144,
          -4.745462550174658,
          -5.734812436940483,
          0.01441795682450127,
          2.8591399472272023,
          -8.758366407187903,
          -0.18061051340084894,
          2.1645007334010202,
          -6.268725417640231,
          -0.14674755525780045,
          2.128862292126323,
          -3.7507815356112117,
          -6.195367960153132,
          -0.6926987048140272,
          -2.9730071928024406,
          0.12422228275075659,
          -4.750797162890911,
          -5.318570330066494,
          -5.682983171875676,
          0.33581421271879375,
          -8.610319225434832,
          -4.3719265733974995,
          3.4696514473808717,
          -8.154982296032609,
          2.9435455306907774,
          -3.813938177863697,
          2.4074148999949383,
          -6.829830437269433,
          3.3619208883666767,
          2.053604212160254,
          1.9985981098401642,
          -0.696947870638238,
          2.2180614427547285,
          4.079086278345376,
          -1.822232845151478,
          -7.029521506421021,
          3.7366929332673102,
          -7.160272729294204,
          -2.7210693838744184,
          4.046512236313134,
          1.8869465182528435,
          -9.883700229135695,
          -7.870957935744602,
          -3.6309349004400597,
          -4.950810453113944,
          -5.496544199883692,
          2.1319998005211827,
          -2.273463482350792,
          2.620173397965334,
          -0.9677046878675553,
          1.3302181265063255,
          -4.038489760524347,
          -1.387530003906727,
          -6.007223236487115,
          -3.1214915509708003,
          -2.4920838315153953,
          -7.251837145368362,
          -1.521821940043441,
          -3.966238675818061,
          -2.5892354965007858,
          -2.4185452587246936,
          3.4850744563928364,
          -4.256532491259683,
          -1.4052659985939888,
          1.6354126643381557,
          -0.7114571469556148,
          -6.5767652851791585,
          3.6838431051620217,
          -0.45296411589242896,
          -11.132211045208875,
          1.6011979905045797,
          2.8569181726569375,
          -5.480898713867145,
          -3.467208880547822,
          -5.34940445017656,
          0.6385338235640861,
          -2.612276601919034,
          -3.5091205376641534,
          -3.2727928619723357,
          -5.394262114171162,
          2.4348569922264374,
          2.3430737817457468,
          -0.14979787028971836,
          -0.541151550394563,
          -0.2972991807037001,
          -5.836836032158208,
          4.796092810892218,
          -4.9808243058294535,
          -7.9660979105504675,
          4.3509145288949185,
          2.0122594043092294,
          2.1946816813886936,
          -0.16916083446636887,
          -2.9880302174102793,
          -9.521491806454168,
          3.1750410906313897,
          -2.659758146690033,
          -5.447940305650797,
          3.3186670359997867,
          -7.812887145456832,
          -4.216805475296809,
          -1.8301446619530375,
          -3.2883449359708066,
          0.4717230750772871,
          -3.473319099009258,
          -1.8894883896291859,
          4.110913664702951
         ],
         "xaxis": "x",
         "y": [
          -5.231377690857776,
          -2.3344984931751664,
          1.4263877484228207,
          2.3885104920973808,
          -4.743033374149751,
          -4.048946057149942,
          -1.328160437659596,
          2.1174784671202995,
          2.726524432560834,
          3.405447557457388,
          2.0254775982912836,
          0.7069434544069801,
          -1.0294168841540405,
          -2.429011890973165,
          3.181633903427589,
          -0.16710375670436414,
          -8.73076879125534,
          2.9966743364026946,
          -3.3010912787463167,
          -7.480091468537735,
          -0.27582548979740834,
          -4.474794555451874,
          4.080746387897276,
          1.973612465505531,
          -3.9317035349125637,
          -0.8232903488487261,
          -7.5859886889336545,
          -2.5572620857797297,
          1.6787212870266972,
          -2.8490831802131518,
          -6.32879998093985,
          3.9777532876665633,
          -4.897768329316183,
          2.420828843377125,
          3.485833017955498,
          1.8628320825858211,
          -1.2938713627542726,
          -1.8793180620960468,
          -2.4521618656026964,
          2.7422928018481425,
          -2.036447707321258,
          -0.5130079606340916,
          0.41189700615159186,
          -1.2467323114701596,
          -5.968131077584402,
          -0.5860603845856114,
          -1.1579635136144237,
          -5.241430686584433,
          -3.9879731382751324,
          0.12488599104144554,
          0.14260325469085694,
          -1.5579659666235814,
          -4.570469838963536,
          -4.034308942815034,
          1.674679902734717,
          1.8259075092222197,
          -3.5176574473780757,
          -4.456175599644094,
          2.51464506446317,
          -4.959589086234764,
          2.524757905093514,
          1.7855058205572585,
          -7.4494420342090955,
          2.342347411340768,
          2.1377298705843812,
          1.8503443251143472,
          0.512205494996014,
          2.2948138300245016,
          -1.3679201270444576,
          0.8029424540237253,
          -5.280145440047138,
          0.4470080666338328,
          -0.2559119976006507,
          4.07248961202005,
          2.5950743720209104,
          -3.862761150471134,
          4.528976613352517,
          -6.0954229239249695,
          0.9128244213248421,
          -0.7292922527300484,
          -0.8954513838886146,
          5.930424852326593,
          -6.1540052879245115,
          -3.031214774486665,
          0.9789598442056641,
          4.12479602758931,
          -1.348914434607545,
          -2.1924849966646076,
          -3.9790338715533218,
          -0.18361984860839015,
          0.2739670487976614,
          -1.7061491516899376,
          3.1130246762580875,
          -0.40052252502088453,
          -6.726391686472389,
          -4.088901804972904,
          -1.25050569257805,
          -2.5622586546888377,
          -0.8659440631629024,
          2.1103102264377456,
          0.6498964108301077,
          -0.9115501144488746,
          0.10154231835380506,
          0.14895029381527267,
          -5.180649123394975,
          0.9007341439156765,
          2.036291076729306,
          -4.737391734291354,
          3.8457273309066755,
          -7.950353202438597,
          -3.4603895953330994,
          1.9309572205945438,
          -0.7788497311926594,
          -5.330404596526432,
          4.875571478629309,
          1.8231376794154122,
          -3.156547193341456,
          2.228471151744458,
          4.165256240498097,
          3.258758488486336,
          4.527047599385879,
          -6.695512183313172,
          -3.7684828131895216,
          0.619315489769234,
          2.9475372412741896,
          0.7413959236657627,
          4.9996185817608785,
          0.35375490101260243,
          0.772045337707599,
          -0.016761145861315822,
          -0.8147115840009397,
          1.3805367819650398,
          -7.094218718814453,
          0.8102471705297236,
          2.3512467684284077,
          -3.376829089214702,
          1.8123779599548193,
          2.6858747501001043,
          -0.31010786368756993,
          -4.8016811827049795,
          -6.366619826936673,
          -1.3210257781059749,
          -4.768714853095336,
          2.548330084006806,
          -0.15880312080638762,
          1.9246246890584613,
          -2.1448382008440565,
          -0.7451861744280537,
          4.610880882677019,
          5.576098751570547,
          -2.55313345049569,
          4.169888485171782,
          -6.3438456571101245,
          0.32719469434947474,
          -5.278419963864782,
          -5.679055027365975,
          1.4951014825210949,
          5.238076897936624,
          -2.0918040383789864,
          -6.0218543637478,
          -0.692183258153594,
          -0.6162495731323979,
          -2.9267726655149606,
          -5.682854607346228,
          -3.4372156794924056,
          -7.842783523409935,
          -5.666242378300892,
          1.7638374158081334,
          0.10659589531697575,
          -0.845498989583314,
          -4.464553606201829,
          2.6705504208022925,
          -4.7182470029166454,
          -1.0353880887592763,
          -4.434805867890053,
          -1.2425823337503674,
          2.170493255236983,
          0.43394589103587644,
          -3.3049312499429666,
          -2.4254608934004103,
          0.5176537060827823,
          -7.565623060682949,
          0.7176884593693562,
          4.664351402299471,
          -3.1694762592167027,
          0.19023910874475297,
          0.5231503898260117,
          0.18979372929549596,
          -0.887035570484979,
          4.70576065174389,
          1.1192897917128453,
          -7.368907536342481,
          -3.886227128406426,
          -0.8669743469038839,
          -0.8079307324609744,
          -7.718828882539363,
          5.598853231984571,
          -5.762347227179905,
          -0.16794191509779421,
          -2.6223973930135482,
          -4.792676093082215,
          -1.7025438213310735,
          -4.023046416057409,
          -3.3978851947482527,
          4.146814947075252,
          2.809562705505246,
          0.2992310739039268,
          -6.168548280792285,
          4.968615006230728,
          4.452003749855268,
          0.10858088197457552,
          1.9530986272805155,
          -0.7677339543344943,
          -0.7323300781350622,
          -7.221495480313615,
          2.6507127455842654,
          -1.1026588013265408,
          -2.7699483013472896,
          1.4114650641772395,
          -1.7260091994564728,
          -2.0358765444906273,
          -3.7978061998768284,
          -2.563622467230724,
          -7.630403659410941,
          -0.019009038393962358,
          -2.2576335972862807,
          -0.48013558066934203,
          1.3038561081691704,
          -1.2094924834891734,
          0.45470173034342976,
          0.3993138127203228,
          -1.6173802029847772,
          -2.1015014316578653,
          2.4650123384535307,
          -0.06120927727138175,
          -4.63193477407872,
          -2.561419386717222,
          -0.054526431404797064,
          -5.153966182598881,
          -2.1959742856199718,
          4.513616959486024,
          -0.663095597945939,
          3.317922210146281,
          -2.7639467803303837,
          -3.629506571342366,
          1.1564706088975119,
          -0.12417965863615775,
          0.7833013851785825,
          -4.729017189114357,
          -6.097173900550439,
          -0.9439104672015075,
          4.2490797992444085,
          1.4585037222542858,
          -8.352575020162877,
          -3.84306950959762,
          2.813803875230008,
          -1.0187325793985302,
          2.343874624077559,
          -4.617268398764493,
          -0.017952855153180586,
          -5.630894253024164,
          -0.7455260184366407,
          -1.018801097149349,
          -1.2085767465596888,
          -4.514412153090964,
          2.9356373655577173,
          -0.4990911190810841,
          0.1689209748901067,
          1.0779986986730181,
          -6.400691094887818,
          -2.5278370701000097,
          -6.048813933132471,
          0.4389495553344781,
          4.112861115581923,
          -3.200913362637773,
          0.850030306074327,
          -2.8039203529973897,
          -2.3695290145233012,
          -0.7173056244781582,
          -1.1739584125698312,
          -3.0146126514100153,
          3.8543741702675907,
          -6.313091042431552,
          5.042435386322054,
          2.4419104092408483,
          -3.6755642154189747,
          -4.9715504050102535,
          -3.1993303091429524,
          1.4611851354452865,
          2.7926304495112126,
          2.8200219562538322,
          -2.2104996430422434,
          1.6532694431337296,
          -7.5704312531869045,
          -3.8141811226429594,
          -0.32987621828415825,
          -6.123052239900301,
          -2.2876385228591016,
          2.187557125032919,
          -6.285266942686035,
          2.836847689131733,
          -4.211521809131605,
          2.4587126627144067,
          -0.5259986895032498,
          -0.39052405487850567,
          2.2461352334807123,
          3.4112112930297127,
          2.6338643337813448,
          -3.9950082014639823,
          -2.6063262124649413,
          -2.1002143927533186,
          -2.5156703042915702,
          -3.194589586220494,
          -4.753556725505017,
          -2.144988155657592,
          -7.5366251116870515,
          0.9428618125543443,
          -2.105511292551944,
          -6.239011681103803,
          -6.6300827879027455,
          1.2726768937069097,
          -1.7805447393268587,
          3.798231159992641,
          -3.376276797491592,
          -5.28655107816572,
          -3.7541303619707938,
          2.2123900766184086,
          -4.613134459647848,
          2.680704571712017,
          1.5910712567254541,
          3.7916292408289998,
          1.9191329241627038,
          -2.9337974976138317,
          1.0880677439003268,
          1.0974353842214926,
          -6.345064871346143,
          0.7186391168787415,
          -0.7237559257887546,
          -7.958886783921338,
          -2.3791317521712885,
          -7.457724280165468,
          2.0912463400575816,
          -1.7286370890277571,
          -3.1115326987009295,
          -7.982838676178197,
          0.7450448242560052,
          -1.7058222430948702,
          -1.779275357116659,
          -0.6076997991083822,
          -7.857058199309352,
          -6.602998483787005,
          -4.006634740715466,
          -3.7901458648084256,
          -2.7331702881468765,
          -1.643349714008622,
          1.690664444044008,
          0.4276215099282237,
          -3.023388579154495,
          3.1207649870706713,
          2.3078360024733042,
          -0.47230808868225777,
          -1.7427149159057302,
          2.261457991004504,
          -6.606652957292576,
          0.223555679819413,
          -3.675460460647866,
          0.24427546279718343,
          -0.043344828750975756,
          -2.411495942707866,
          -4.671202259078519,
          -1.9146285260915397,
          -8.166431274101551,
          2.179624439544786,
          0.9950725178320514,
          -1.0508154948056867,
          2.0007369393627603,
          0.5826873519405718,
          -3.1489590775892085,
          -0.5516103180222772,
          2.675034522944496,
          -0.8158797094192608,
          3.4416613971563876,
          -4.078649119992056,
          -1.4050137760304142,
          -4.00204542853954,
          -2.873281611244112,
          -2.0220463731881737,
          3.659466772570907,
          -0.44845036153132756,
          -3.1688501193128333,
          -3.179602746179129,
          -5.437799664344656,
          5.584039400397381,
          -0.8853398200512697
         ],
         "yaxis": "y"
        },
        {
         "hovertemplate": "color=James Bland<br>Principal component 1=%{x}<br>Principal component 2=%{y}<extra></extra>",
         "legendgroup": "James Bland",
         "marker": {
          "color": "#00cc96",
          "opacity": 1,
          "symbol": "circle"
         },
         "mode": "markers",
         "name": "James Bland",
         "orientation": "v",
         "showlegend": true,
         "type": "scatter",
         "x": [
          -9.045058359795243,
          -10.552877482551569,
          -13.956818282063761,
          -3.742206663913885,
          -14.159350076871736,
          -11.785671164409615,
          -14.472610314557176,
          -14.11234285047513,
          -9.731922695156504,
          -6.347506190504251,
          -14.560695175006234,
          -13.280140893043166,
          -7.969155448854251,
          -5.450590764391718,
          -10.952600226579058,
          -10.165204121077378,
          -16.702038964001407,
          -9.077242913742095,
          -15.543064206787028,
          -9.009322356248024,
          -17.250376967539474,
          -2.189400728347902,
          -8.322982496287388,
          -4.718137801360365,
          -14.778977892588056,
          -10.780431662200368,
          -13.621399587465497,
          -11.2822798771388,
          -9.500389008961296,
          -10.782796266846749,
          -11.681824429895789,
          -13.467934082275699,
          -13.415750427253315,
          -16.737007986544523,
          -2.354740374790437,
          -13.074727932807457,
          -9.884173699328725,
          -3.010344707733594,
          -10.253875651182856,
          -3.3887331756670678,
          -1.9369152269486773,
          -13.3032303175216,
          -14.591240187460112,
          -10.400681191521242,
          -5.013447796390927,
          -12.375840191975543,
          -10.062899196958963,
          -10.177135764359926,
          -6.898001663956626,
          -12.996260179941595,
          -11.463112653136294,
          -8.503089503920188,
          -12.757943953085473,
          -11.166264809673054,
          -13.637594782727216,
          -10.079286925912548,
          -10.249737228468977,
          -14.726665081178208,
          -14.830866606723047,
          -11.568195335558293,
          -5.5173207263597615,
          -10.481938025862796,
          -11.894013249156714,
          -11.311010434330441,
          -10.68534279854716,
          -11.803118975926267,
          -13.870602474306418,
          -6.088120385306884,
          -5.48311007295593,
          -13.378563220038187,
          -11.683558453752678,
          -7.691730895256205,
          -10.707693279376228,
          -10.777019008837934,
          -13.718593318963663,
          -9.68466881233856,
          -9.042672959832577,
          -13.507149693057645,
          -6.497467119457436,
          -11.218824624870141,
          -6.161608732558321,
          -10.366815102900029,
          -9.438599932636295,
          -12.93514285270343,
          -9.665809533930465,
          -11.324645909771267,
          -5.196173335288554,
          -11.943125055295734,
          -12.7739715019201,
          -6.575619721048108,
          -7.732762347977818,
          -10.644902769007059,
          -11.255422043390817,
          -12.397056936420956,
          -10.888221478312355,
          -10.521329603551832,
          -9.522324158213879,
          -8.495565605523565,
          -6.907447809965473,
          -8.689077608075186,
          -12.773032999212019,
          -11.43542260833048,
          -10.947224270993381,
          -11.10878738599472,
          -14.816071328278564,
          -11.372252622243282,
          -12.64614630045201,
          -8.767104301311928,
          -12.949532566912437,
          -11.698187182156131,
          -8.140017535396323,
          -3.03343502179589,
          -10.310727542101699,
          -16.448628785751808,
          -12.744736302230598,
          -16.003483307719943,
          -9.03394806182703,
          -13.159990418558797,
          -8.67976202857997,
          -9.468041832096638,
          -12.965467432349064,
          -5.407707647946204,
          -8.203713648003156,
          -2.9306414609308695,
          -9.691422110467549,
          -9.439977537385609,
          -13.958229542588965,
          -12.240540759563688,
          -12.735692404470969,
          -11.954336628480219,
          -9.134341811627209,
          -11.35110919170404,
          -12.396111736029793,
          -10.86187304907539,
          -3.755599709802832,
          -9.759485243607113,
          -8.452660984982339,
          -16.96369092586932,
          -9.088363673715554,
          -10.125552859542044,
          -15.005677309768007
         ],
         "xaxis": "x",
         "y": [
          -5.489034781759714,
          -8.329755731061779,
          -10.455393624626549,
          -4.664752554642207,
          -8.767415338682767,
          -7.87094089729252,
          -12.295225734867712,
          -9.039114177831454,
          -9.438747112673717,
          -6.353788348521931,
          -9.7044216949123,
          -3.8592448265626365,
          -8.78544966321423,
          -5.157244952274398,
          -3.1995209783364342,
          -5.583422818439342,
          -12.897927472619362,
          -11.021713503039354,
          -12.911098069335006,
          -6.569360002975169,
          -15.227712919470045,
          -8.294290114355183,
          -4.139522809717712,
          -0.659866729821047,
          -13.404649642221823,
          -6.808242303895361,
          -9.703651128640166,
          -6.533072914312937,
          -12.961830528783107,
          2.3593263785435936,
          -8.445587093299064,
          -4.036520806429559,
          -7.827705208670253,
          -14.950009794005773,
          -8.961864600379423,
          -9.25113623634036,
          -9.042220611354558,
          -8.859241027129388,
          -8.40981848101106,
          -1.1186530978161693,
          -7.783552271866706,
          -2.2083515378243943,
          -8.613367305149039,
          -7.278511208999387,
          -8.031704983864682,
          -5.755814931544043,
          -0.9989639849389231,
          -5.321111959726704,
          -6.146839125743969,
          -6.158351845281619,
          -7.133725643744795,
          -5.978993018093206,
          -8.503557115973091,
          -6.487960738088305,
          -6.988120870495797,
          -5.4505075240896055,
          -7.770467486299587,
          -14.383869222087306,
          -7.98957741435905,
          -7.345764822927006,
          -7.108028546837971,
          -2.962895390926315,
          0.6304822575802729,
          -0.31247073040025114,
          3.9272375505685417,
          0.9140805476579488,
          -7.1508007149182236,
          -4.178897078291698,
          -4.395754578993263,
          -10.833357743598967,
          -11.944900980620845,
          -8.217198570378375,
          -6.546377214127563,
          -5.142284248149429,
          -7.906591644252249,
          -4.577932691396185,
          -4.965697510101102,
          -6.893150298857992,
          -5.455711004260988,
          -7.487800665672765,
          -7.5757483597328115,
          -13.20977120092301,
          -1.9156224535813364,
          -5.660194135823082,
          4.286279563005874,
          -3.6375029925840185,
          -9.477589232769624,
          -5.335929949163778,
          -8.501536309767323,
          -8.03453867805854,
          -8.321675667002799,
          -4.204927963369972,
          -10.793330129294283,
          -1.8472501481853534,
          0.6335422334362691,
          -3.2246694554230353,
          -0.5463487412435512,
          1.4107756270884206,
          -5.067891443856618,
          -11.924026940106481,
          -2.686645518933241,
          -5.040102826094637,
          -2.447465569153444,
          -2.1501786126612665,
          -12.769995977516722,
          -3.162706220870834,
          -5.025347505732978,
          -2.4514136996742835,
          0.8472520238752839,
          -7.232693995283171,
          -1.70856409404118,
          -9.869093522301641,
          -3.9711866417626642,
          -16.451589779049087,
          -4.759397045070665,
          -14.890881668000294,
          -1.1694618487186565,
          -10.164419825326085,
          -7.813191445268652,
          -8.234399382334033,
          -6.8412958617743245,
          -11.066753431858874,
          -7.279560433183313,
          -1.8821531390987989,
          -2.898806600320215,
          -4.239364944553349,
          -7.872972391398515,
          0.8311167831063452,
          -2.8327537943971124,
          -3.34551035417236,
          -3.2817860164882298,
          -5.1955196126311955,
          -9.850110464289974,
          -10.214874128118012,
          -11.325161462650986,
          -9.43049760303381,
          -14.961281250011504,
          -11.69019384433968,
          -3.6840168734573724,
          -3.046278389031732,
          -9.852351506386361
         ],
         "yaxis": "y"
        },
        {
         "hovertemplate": "color=Marcel Stout<br>Principal component 1=%{x}<br>Principal component 2=%{y}<extra></extra>",
         "legendgroup": "Marcel Stout",
         "marker": {
          "color": "#ab63fa",
          "opacity": 1,
          "symbol": "circle"
         },
         "mode": "markers",
         "name": "Marcel Stout",
         "orientation": "v",
         "showlegend": true,
         "type": "scatter",
         "x": [
          -8.835708447507772,
          -4.548924393430388,
          -4.887682975563295,
          5.352875973343447,
          2.807580982831128,
          7.744059688354505,
          -5.791028402402691,
          -0.18086315587192422,
          -7.07159990327355,
          1.1808895417741483,
          -2.8685677450087184,
          1.5348166911104564,
          -5.103985493120033,
          5.452264106925884,
          -2.486315681501456,
          1.588191935987807,
          -7.2594930120706485,
          1.2538495920119366,
          0.017791112718281453,
          -1.8158356770718982,
          8.036860164965931,
          3.8616431671026406,
          -2.0247821629910128,
          -2.720742793877755,
          2.2077243997063944,
          -10.75228527654469,
          -3.3216221795410528,
          -8.755271824545327,
          -6.238777880314614,
          3.218431621568972,
          -9.217946598488385,
          -6.66466602765186,
          -4.593619456936669,
          1.0327484773781317,
          3.5430616227942475,
          7.122297660486129,
          -4.999619451895932,
          4.188661904010067,
          -2.465828278163605,
          -10.644043683903663,
          1.6216164404171187,
          3.534865941922705,
          0.6620750883319917,
          -5.811981925157544,
          -2.4616193705823823,
          1.8130121800012096,
          -1.3991430996399894,
          -6.0679658735910635,
          0.7332729316312968,
          -2.591662416892916,
          2.592143693639513,
          -4.207539188528439,
          5.519667158191342,
          5.502829476708171,
          -8.570642984068535,
          8.854839904217979,
          3.7186419914014714,
          -9.491068588569165,
          6.136377478452897,
          6.979194081844773,
          -4.27747684068348,
          4.662371038221359,
          -6.840165365450522,
          2.7987697909660723,
          -2.3680190320944305,
          -1.9602901421082919,
          3.491606957062255,
          0.7969733025077856,
          -0.28129696102686996,
          3.969186247432005,
          1.4269339803644148,
          3.944565678002911,
          6.7773576183193285,
          0.8226132327093691,
          -9.605862202183756,
          -5.467553144091394,
          -9.304406480526746,
          -2.969619200059525,
          4.529640869765096,
          -11.158886273538615,
          -9.77177562152249,
          4.733587178296669,
          1.0764064118782068,
          2.97572506708769,
          -1.4185946064488255,
          0.5191932605366207,
          2.617737771277601,
          -3.0544825800303332,
          2.825923353591775,
          -3.570841611418495,
          11.907575908439702,
          3.8813212248158617,
          8.644647074890864,
          4.377862621538292,
          3.007056449287041,
          2.2614672212105393,
          -3.3066468400766165,
          6.403504773166431,
          -2.5465069104617712,
          -2.336328190322384,
          -4.148478166878181,
          2.413646521973268,
          1.6379268348089926,
          -3.6434957928782135,
          5.438890411340351,
          4.583844376197681,
          -8.011414629606051,
          -9.165210995019,
          1.162373209465898,
          8.001512302237202,
          0.7380668516578417,
          2.8460746420182725,
          -2.3334343697207176,
          4.646861570841104,
          -0.9828593542317057,
          7.6372623393441845,
          -5.075255613605608,
          7.5129202154985215,
          -4.537513410626368,
          8.923386187297655,
          -3.372374596993058,
          4.50781013651341,
          3.440414096977494,
          -5.374549503062806,
          7.5460296522268955,
          -8.71698654258489,
          -5.5253120909640066,
          -2.8957924784265074,
          -7.847696487093234,
          8.59424747333244,
          2.919412732254456,
          0.9450339727697559,
          -1.8906014418965063,
          -8.767123255785071,
          -2.709578590767096,
          1.2775427170483389,
          -9.274694477867202,
          -0.9547514299515361,
          -6.127663363743097,
          1.995703104408224,
          0.8681188967722063,
          1.157303567001745,
          -2.7326580865453605,
          -10.976278460850747,
          -0.904775107818398,
          8.722884248735674,
          -3.578825210144727,
          -9.450675346247227,
          3.069242438754938,
          0.7200325248905873,
          8.142847673293748,
          1.3377006963285731,
          -7.296479382427244,
          -4.108274534110286,
          6.538917065246481,
          4.637168559072171,
          2.310927331791201,
          -9.069443563576773,
          5.51837771666767,
          -8.42559396820159,
          -9.786270064358717,
          5.707495668500254,
          6.894211970170142,
          5.790773286556699,
          0.011463727453366284,
          -9.546904250969517,
          9.912243314524272,
          6.687831890349983,
          -5.392459324239764,
          -10.721928520643353,
          3.7450895633018773,
          1.5018205596166139,
          -9.96872908971165,
          3.5782781167522826,
          -2.2181291107467596,
          -5.2066760109854595,
          -10.27997137163618,
          -0.6850325580695102,
          -2.448092179800832,
          4.235230965645046,
          3.853809497222747,
          12.73129402589828,
          3.5602995872992347,
          6.6823328664519455,
          -11.10902521157014,
          -9.396760618983771,
          -3.954547199412016,
          -3.746190841637047,
          2.370697635324145,
          -0.4119246356765945,
          -5.808355677541386,
          -5.100258152029893,
          -1.0901585655746961,
          -8.397727890505328,
          0.17823822679378937,
          0.7056927317860048
         ],
         "xaxis": "x",
         "y": [
          7.936108976589645,
          15.272096002559762,
          6.732757519306542,
          3.196156039940412,
          12.289986144464928,
          13.863725102597856,
          8.53033092196334,
          12.106546289113478,
          8.15195117593868,
          4.148542862194779,
          19.444292714673995,
          10.431169967413549,
          11.486002311574415,
          7.6011520952483185,
          11.781112912085998,
          5.758049084048642,
          16.64872280117297,
          7.1211220167703315,
          6.465860137885334,
          22.63573593991097,
          5.979932033497067,
          4.968355793817588,
          8.107877325296647,
          5.87156799671451,
          17.676583469429627,
          12.184342317381422,
          6.511317736049122,
          9.810078403317123,
          19.41718290394146,
          9.781891627692238,
          5.964267924592359,
          18.357971514023877,
          20.173890324007715,
          4.15867502209484,
          9.632596786906936,
          7.596231829361548,
          12.987881188627638,
          4.8681779260665365,
          13.029399905366649,
          11.682935111049762,
          9.57804747644081,
          3.163924215817492,
          6.449984254845363,
          13.027897545938277,
          7.597603313306955,
          4.906069905850692,
          6.332238397430482,
          15.923341005238038,
          5.012707204407973,
          5.708710898685304,
          12.28914327424414,
          13.708141378047653,
          3.760242057136756,
          4.336049322875136,
          10.456965945991465,
          10.866003348765881,
          13.574388374692605,
          15.550769770994279,
          12.265599110731516,
          10.924605602425185,
          6.7158963185555125,
          8.638175086066193,
          20.42557698763684,
          5.797242480593935,
          5.588719293754742,
          6.829294793010276,
          9.50091190223457,
          5.238805784622714,
          7.19955886782886,
          10.32796842034775,
          5.050054259916399,
          1.7906693440688384,
          8.269686612090453,
          10.490807517724837,
          15.583712513351289,
          7.634927923974965,
          33.787698150953425,
          15.682625578964071,
          3.7370307281692217,
          7.839482641784453,
          10.001074814626964,
          6.054350350738157,
          18.083113888732402,
          2.9450657605421586,
          11.974498451360287,
          12.82404282328238,
          8.59101032746973,
          9.01283764387131,
          16.760492292591284,
          5.512068057881506,
          11.376964746964733,
          3.552393479609738,
          11.40160846106437,
          8.201541337571129,
          6.529985021546815,
          4.474870108278844,
          11.189079177820007,
          9.367946036576937,
          6.2360402879398515,
          4.827341404218396,
          8.136577057077867,
          1.7345704361598169,
          12.854820068644305,
          7.290299239830238,
          6.137368020041738,
          7.949293784856811,
          16.419876014640483,
          15.77906065609693,
          3.55197375546377,
          12.837832389241955,
          4.36152715369203,
          2.438882959093803,
          5.72803850533879,
          9.051500923746834,
          10.403783485362963,
          7.926232254142813,
          15.087001366070428,
          5.787030424106236,
          20.09059575264453,
          17.480786804641486,
          19.831411633038197,
          6.4543232904734005,
          9.046024715318525,
          9.676169147760021,
          8.59245338816056,
          13.269010481403447,
          10.524245981733538,
          20.864479856424005,
          7.62882153878859,
          8.650729038004338,
          10.197919076629502,
          7.240204780672657,
          5.232692245988543,
          8.6013269737842,
          6.703838168736983,
          4.911547501083311,
          17.601170764204987,
          5.8343678144429685,
          9.830370690031806,
          6.466434174464551,
          7.745422866307357,
          5.304384777479978,
          5.747766683233734,
          12.518050870761005,
          16.787574381240933,
          11.530081720704247,
          10.223699087591582,
          18.137848501634245,
          5.3496403959888355,
          6.359522358915547,
          7.6980343137148655,
          8.666486956841778,
          10.991541257926993,
          4.89515422305541,
          11.56128467542202,
          5.883411875261639,
          13.041264817139787,
          17.57202840730964,
          6.84907354770738,
          9.190376835588646,
          14.446375533645803,
          11.10726238227214,
          7.08218015293979,
          14.34246514358702,
          3.9362512928750943,
          12.138401955275242,
          15.140034592735395,
          5.263072127459323,
          7.050177977505487,
          5.961983978530048,
          7.915026613028404,
          7.416371991521687,
          17.42517254978379,
          4.132915826437485,
          10.710726731737072,
          11.555173611064516,
          13.660683644189906,
          6.146455930930849,
          5.852069221266652,
          6.231655907623077,
          11.265695091132082,
          11.534694151063574,
          5.19073240379548,
          7.8017063895867205,
          11.180551579033587,
          9.958357037314679,
          6.864176830426933,
          6.713054445685723,
          6.518646078368424,
          6.553432748077408,
          6.0146244308139,
          6.521773269520274,
          4.958123837609365,
          17.055011596671967,
          6.669500953448246,
          3.1654350774754456
         ],
         "yaxis": "y"
        }
       ],
       "layout": {
        "height": 600,
        "legend": {
         "title": {
          "text": "color"
         },
         "tracegroupgap": 0
        },
        "template": {
         "data": {
          "bar": [
           {
            "error_x": {
             "color": "#2a3f5f"
            },
            "error_y": {
             "color": "#2a3f5f"
            },
            "marker": {
             "line": {
              "color": "#E5ECF6",
              "width": 0.5
             },
             "pattern": {
              "fillmode": "overlay",
              "size": 10,
              "solidity": 0.2
             }
            },
            "type": "bar"
           }
          ],
          "barpolar": [
           {
            "marker": {
             "line": {
              "color": "#E5ECF6",
              "width": 0.5
             },
             "pattern": {
              "fillmode": "overlay",
              "size": 10,
              "solidity": 0.2
             }
            },
            "type": "barpolar"
           }
          ],
          "carpet": [
           {
            "aaxis": {
             "endlinecolor": "#2a3f5f",
             "gridcolor": "white",
             "linecolor": "white",
             "minorgridcolor": "white",
             "startlinecolor": "#2a3f5f"
            },
            "baxis": {
             "endlinecolor": "#2a3f5f",
             "gridcolor": "white",
             "linecolor": "white",
             "minorgridcolor": "white",
             "startlinecolor": "#2a3f5f"
            },
            "type": "carpet"
           }
          ],
          "choropleth": [
           {
            "colorbar": {
             "outlinewidth": 0,
             "ticks": ""
            },
            "type": "choropleth"
           }
          ],
          "contour": [
           {
            "colorbar": {
             "outlinewidth": 0,
             "ticks": ""
            },
            "colorscale": [
             [
              0,
              "#0d0887"
             ],
             [
              0.1111111111111111,
              "#46039f"
             ],
             [
              0.2222222222222222,
              "#7201a8"
             ],
             [
              0.3333333333333333,
              "#9c179e"
             ],
             [
              0.4444444444444444,
              "#bd3786"
             ],
             [
              0.5555555555555556,
              "#d8576b"
             ],
             [
              0.6666666666666666,
              "#ed7953"
             ],
             [
              0.7777777777777778,
              "#fb9f3a"
             ],
             [
              0.8888888888888888,
              "#fdca26"
             ],
             [
              1,
              "#f0f921"
             ]
            ],
            "type": "contour"
           }
          ],
          "contourcarpet": [
           {
            "colorbar": {
             "outlinewidth": 0,
             "ticks": ""
            },
            "type": "contourcarpet"
           }
          ],
          "heatmap": [
           {
            "colorbar": {
             "outlinewidth": 0,
             "ticks": ""
            },
            "colorscale": [
             [
              0,
              "#0d0887"
             ],
             [
              0.1111111111111111,
              "#46039f"
             ],
             [
              0.2222222222222222,
              "#7201a8"
             ],
             [
              0.3333333333333333,
              "#9c179e"
             ],
             [
              0.4444444444444444,
              "#bd3786"
             ],
             [
              0.5555555555555556,
              "#d8576b"
             ],
             [
              0.6666666666666666,
              "#ed7953"
             ],
             [
              0.7777777777777778,
              "#fb9f3a"
             ],
             [
              0.8888888888888888,
              "#fdca26"
             ],
             [
              1,
              "#f0f921"
             ]
            ],
            "type": "heatmap"
           }
          ],
          "heatmapgl": [
           {
            "colorbar": {
             "outlinewidth": 0,
             "ticks": ""
            },
            "colorscale": [
             [
              0,
              "#0d0887"
             ],
             [
              0.1111111111111111,
              "#46039f"
             ],
             [
              0.2222222222222222,
              "#7201a8"
             ],
             [
              0.3333333333333333,
              "#9c179e"
             ],
             [
              0.4444444444444444,
              "#bd3786"
             ],
             [
              0.5555555555555556,
              "#d8576b"
             ],
             [
              0.6666666666666666,
              "#ed7953"
             ],
             [
              0.7777777777777778,
              "#fb9f3a"
             ],
             [
              0.8888888888888888,
              "#fdca26"
             ],
             [
              1,
              "#f0f921"
             ]
            ],
            "type": "heatmapgl"
           }
          ],
          "histogram": [
           {
            "marker": {
             "pattern": {
              "fillmode": "overlay",
              "size": 10,
              "solidity": 0.2
             }
            },
            "type": "histogram"
           }
          ],
          "histogram2d": [
           {
            "colorbar": {
             "outlinewidth": 0,
             "ticks": ""
            },
            "colorscale": [
             [
              0,
              "#0d0887"
             ],
             [
              0.1111111111111111,
              "#46039f"
             ],
             [
              0.2222222222222222,
              "#7201a8"
             ],
             [
              0.3333333333333333,
              "#9c179e"
             ],
             [
              0.4444444444444444,
              "#bd3786"
             ],
             [
              0.5555555555555556,
              "#d8576b"
             ],
             [
              0.6666666666666666,
              "#ed7953"
             ],
             [
              0.7777777777777778,
              "#fb9f3a"
             ],
             [
              0.8888888888888888,
              "#fdca26"
             ],
             [
              1,
              "#f0f921"
             ]
            ],
            "type": "histogram2d"
           }
          ],
          "histogram2dcontour": [
           {
            "colorbar": {
             "outlinewidth": 0,
             "ticks": ""
            },
            "colorscale": [
             [
              0,
              "#0d0887"
             ],
             [
              0.1111111111111111,
              "#46039f"
             ],
             [
              0.2222222222222222,
              "#7201a8"
             ],
             [
              0.3333333333333333,
              "#9c179e"
             ],
             [
              0.4444444444444444,
              "#bd3786"
             ],
             [
              0.5555555555555556,
              "#d8576b"
             ],
             [
              0.6666666666666666,
              "#ed7953"
             ],
             [
              0.7777777777777778,
              "#fb9f3a"
             ],
             [
              0.8888888888888888,
              "#fdca26"
             ],
             [
              1,
              "#f0f921"
             ]
            ],
            "type": "histogram2dcontour"
           }
          ],
          "mesh3d": [
           {
            "colorbar": {
             "outlinewidth": 0,
             "ticks": ""
            },
            "type": "mesh3d"
           }
          ],
          "parcoords": [
           {
            "line": {
             "colorbar": {
              "outlinewidth": 0,
              "ticks": ""
             }
            },
            "type": "parcoords"
           }
          ],
          "pie": [
           {
            "automargin": true,
            "type": "pie"
           }
          ],
          "scatter": [
           {
            "fillpattern": {
             "fillmode": "overlay",
             "size": 10,
             "solidity": 0.2
            },
            "type": "scatter"
           }
          ],
          "scatter3d": [
           {
            "line": {
             "colorbar": {
              "outlinewidth": 0,
              "ticks": ""
             }
            },
            "marker": {
             "colorbar": {
              "outlinewidth": 0,
              "ticks": ""
             }
            },
            "type": "scatter3d"
           }
          ],
          "scattercarpet": [
           {
            "marker": {
             "colorbar": {
              "outlinewidth": 0,
              "ticks": ""
             }
            },
            "type": "scattercarpet"
           }
          ],
          "scattergeo": [
           {
            "marker": {
             "colorbar": {
              "outlinewidth": 0,
              "ticks": ""
             }
            },
            "type": "scattergeo"
           }
          ],
          "scattergl": [
           {
            "marker": {
             "colorbar": {
              "outlinewidth": 0,
              "ticks": ""
             }
            },
            "type": "scattergl"
           }
          ],
          "scattermapbox": [
           {
            "marker": {
             "colorbar": {
              "outlinewidth": 0,
              "ticks": ""
             }
            },
            "type": "scattermapbox"
           }
          ],
          "scatterpolar": [
           {
            "marker": {
             "colorbar": {
              "outlinewidth": 0,
              "ticks": ""
             }
            },
            "type": "scatterpolar"
           }
          ],
          "scatterpolargl": [
           {
            "marker": {
             "colorbar": {
              "outlinewidth": 0,
              "ticks": ""
             }
            },
            "type": "scatterpolargl"
           }
          ],
          "scatterternary": [
           {
            "marker": {
             "colorbar": {
              "outlinewidth": 0,
              "ticks": ""
             }
            },
            "type": "scatterternary"
           }
          ],
          "surface": [
           {
            "colorbar": {
             "outlinewidth": 0,
             "ticks": ""
            },
            "colorscale": [
             [
              0,
              "#0d0887"
             ],
             [
              0.1111111111111111,
              "#46039f"
             ],
             [
              0.2222222222222222,
              "#7201a8"
             ],
             [
              0.3333333333333333,
              "#9c179e"
             ],
             [
              0.4444444444444444,
              "#bd3786"
             ],
             [
              0.5555555555555556,
              "#d8576b"
             ],
             [
              0.6666666666666666,
              "#ed7953"
             ],
             [
              0.7777777777777778,
              "#fb9f3a"
             ],
             [
              0.8888888888888888,
              "#fdca26"
             ],
             [
              1,
              "#f0f921"
             ]
            ],
            "type": "surface"
           }
          ],
          "table": [
           {
            "cells": {
             "fill": {
              "color": "#EBF0F8"
             },
             "line": {
              "color": "white"
             }
            },
            "header": {
             "fill": {
              "color": "#C8D4E3"
             },
             "line": {
              "color": "white"
             }
            },
            "type": "table"
           }
          ]
         },
         "layout": {
          "annotationdefaults": {
           "arrowcolor": "#2a3f5f",
           "arrowhead": 0,
           "arrowwidth": 1
          },
          "autotypenumbers": "strict",
          "coloraxis": {
           "colorbar": {
            "outlinewidth": 0,
            "ticks": ""
           }
          },
          "colorscale": {
           "diverging": [
            [
             0,
             "#8e0152"
            ],
            [
             0.1,
             "#c51b7d"
            ],
            [
             0.2,
             "#de77ae"
            ],
            [
             0.3,
             "#f1b6da"
            ],
            [
             0.4,
             "#fde0ef"
            ],
            [
             0.5,
             "#f7f7f7"
            ],
            [
             0.6,
             "#e6f5d0"
            ],
            [
             0.7,
             "#b8e186"
            ],
            [
             0.8,
             "#7fbc41"
            ],
            [
             0.9,
             "#4d9221"
            ],
            [
             1,
             "#276419"
            ]
           ],
           "sequential": [
            [
             0,
             "#0d0887"
            ],
            [
             0.1111111111111111,
             "#46039f"
            ],
            [
             0.2222222222222222,
             "#7201a8"
            ],
            [
             0.3333333333333333,
             "#9c179e"
            ],
            [
             0.4444444444444444,
             "#bd3786"
            ],
            [
             0.5555555555555556,
             "#d8576b"
            ],
            [
             0.6666666666666666,
             "#ed7953"
            ],
            [
             0.7777777777777778,
             "#fb9f3a"
            ],
            [
             0.8888888888888888,
             "#fdca26"
            ],
            [
             1,
             "#f0f921"
            ]
           ],
           "sequentialminus": [
            [
             0,
             "#0d0887"
            ],
            [
             0.1111111111111111,
             "#46039f"
            ],
            [
             0.2222222222222222,
             "#7201a8"
            ],
            [
             0.3333333333333333,
             "#9c179e"
            ],
            [
             0.4444444444444444,
             "#bd3786"
            ],
            [
             0.5555555555555556,
             "#d8576b"
            ],
            [
             0.6666666666666666,
             "#ed7953"
            ],
            [
             0.7777777777777778,
             "#fb9f3a"
            ],
            [
             0.8888888888888888,
             "#fdca26"
            ],
            [
             1,
             "#f0f921"
            ]
           ]
          },
          "colorway": [
           "#636efa",
           "#EF553B",
           "#00cc96",
           "#ab63fa",
           "#FFA15A",
           "#19d3f3",
           "#FF6692",
           "#B6E880",
           "#FF97FF",
           "#FECB52"
          ],
          "font": {
           "color": "#2a3f5f"
          },
          "geo": {
           "bgcolor": "white",
           "lakecolor": "white",
           "landcolor": "#E5ECF6",
           "showlakes": true,
           "showland": true,
           "subunitcolor": "white"
          },
          "hoverlabel": {
           "align": "left"
          },
          "hovermode": "closest",
          "mapbox": {
           "style": "light"
          },
          "paper_bgcolor": "white",
          "plot_bgcolor": "#E5ECF6",
          "polar": {
           "angularaxis": {
            "gridcolor": "white",
            "linecolor": "white",
            "ticks": ""
           },
           "bgcolor": "#E5ECF6",
           "radialaxis": {
            "gridcolor": "white",
            "linecolor": "white",
            "ticks": ""
           }
          },
          "scene": {
           "xaxis": {
            "backgroundcolor": "#E5ECF6",
            "gridcolor": "white",
            "gridwidth": 2,
            "linecolor": "white",
            "showbackground": true,
            "ticks": "",
            "zerolinecolor": "white"
           },
           "yaxis": {
            "backgroundcolor": "#E5ECF6",
            "gridcolor": "white",
            "gridwidth": 2,
            "linecolor": "white",
            "showbackground": true,
            "ticks": "",
            "zerolinecolor": "white"
           },
           "zaxis": {
            "backgroundcolor": "#E5ECF6",
            "gridcolor": "white",
            "gridwidth": 2,
            "linecolor": "white",
            "showbackground": true,
            "ticks": "",
            "zerolinecolor": "white"
           }
          },
          "shapedefaults": {
           "line": {
            "color": "#2a3f5f"
           }
          },
          "ternary": {
           "aaxis": {
            "gridcolor": "white",
            "linecolor": "white",
            "ticks": ""
           },
           "baxis": {
            "gridcolor": "white",
            "linecolor": "white",
            "ticks": ""
           },
           "bgcolor": "#E5ECF6",
           "caxis": {
            "gridcolor": "white",
            "linecolor": "white",
            "ticks": ""
           }
          },
          "title": {
           "x": 0.05
          },
          "xaxis": {
           "automargin": true,
           "gridcolor": "white",
           "linecolor": "white",
           "ticks": "",
           "title": {
            "standoff": 15
           },
           "zerolinecolor": "white",
           "zerolinewidth": 2
          },
          "yaxis": {
           "automargin": true,
           "gridcolor": "white",
           "linecolor": "white",
           "ticks": "",
           "title": {
            "standoff": 15
           },
           "zerolinecolor": "white",
           "zerolinewidth": 2
          }
         }
        },
        "title": {
         "text": "PCA projection of the 15 categories into the 2 Principal components"
        },
        "width": 1000,
        "xaxis": {
         "anchor": "y",
         "domain": [
          0,
          1
         ],
         "range": [
          -20,
          25
         ],
         "title": {
          "text": "Principal component 1"
         }
        },
        "yaxis": {
         "anchor": "x",
         "domain": [
          0,
          1
         ],
         "range": [
          -20,
          40
         ],
         "title": {
          "text": "Principal component 2"
         }
        }
       }
      }
     },
     "metadata": {},
     "output_type": "display_data"
    }
   ],
   "source": [
    "#Plot of PCA\n",
    "users_pca_2.sort_values(by = 'cluster', inplace=True) #to guarantee color consistency\n",
    "cl_names = users_pca_2['cluster'].apply(lambda cl: mapping_idx_name[cl])\n",
    "fig = px.scatter(users_pca_2, x='Principal component 1', y='Principal component 2',opacity =1,\n",
    "             color = cl_names ,size_max =50,width=1000, height=600,title ='PCA projection of the 15 categories into the 2 Principal components',\n",
    "             range_x = [-20,25], range_y=[-20,40])\n",
    "fig.show()\n",
    "#fig.write_html(\"cluster_2dvisual.html\")"
   ]
  },
  {
   "attachments": {},
   "cell_type": "markdown",
   "metadata": {},
   "source": [
    "### UMAP"
   ]
  },
  {
   "cell_type": "code",
   "execution_count": 70,
   "metadata": {},
   "outputs": [],
   "source": [
    "# We also want to visualize our clustering with a non-linear projection techniques. \n",
    "# Therefore, we use a non linear dimension reduction technique called UMAP.\n",
    "\n",
    "trans = UMAP(n_neighbors=70, random_state=852484677).fit(user_to_cat_first[user_to_cat_first.columns[0:15]].values)\n",
    "\n",
    "user_projected_umap=pd.DataFrame(trans.embedding_)\n",
    "user_projected_umap.columns = ['Axis x','Axis y']\n",
    "user_projected_umap.index = user_to_cat_first.index\n",
    "user_projected_umap['cluster'] = user_to_cat_first['first_50_cluster']"
   ]
  },
  {
   "cell_type": "code",
   "execution_count": 71,
   "metadata": {},
   "outputs": [
    {
     "data": {
      "application/vnd.plotly.v1+json": {
       "config": {
        "plotlyServerURL": "https://plot.ly"
       },
       "data": [
        {
         "hovertemplate": "color=Jean-Michel IPA<br>Axis x=%{x}<br>Axis y=%{y}<extra></extra>",
         "legendgroup": "Jean-Michel IPA",
         "marker": {
          "color": "#636efa",
          "opacity": 1,
          "symbol": "circle"
         },
         "mode": "markers",
         "name": "Jean-Michel IPA",
         "orientation": "v",
         "showlegend": true,
         "type": "scatter",
         "x": [
          1.146957278251648,
          1.5394386053085327,
          3.372936725616455,
          1.668722152709961,
          3.6527211666107178,
          2.819798707962036,
          1.8035768270492554,
          2.4677681922912598,
          2.1943469047546387,
          2.3315141201019287,
          4.0853729248046875,
          1.7224899530410767,
          3.1759893894195557,
          2.5657079219818115,
          3.872907876968384,
          1.178392767906189,
          3.1969244480133057,
          1.4576958417892456,
          3.8713643550872803,
          3.5991711616516113,
          2.5407907962799072,
          1.2676352262496948,
          3.5443179607391357,
          1.3803417682647705,
          2.4939894676208496,
          2.0380234718322754,
          0.8752220273017883,
          2.8955557346343994,
          1.205350637435913,
          2.4270896911621094,
          0.6447237730026245,
          1.170222520828247,
          4.096468925476074,
          1.4121931791305542,
          3.5113632678985596,
          1.6711220741271973,
          2.330547571182251,
          3.4479329586029053,
          3.5162441730499268,
          0.9036557078361511,
          2.8461368083953857,
          3.3058741092681885,
          3.8516931533813477,
          2.2853329181671143,
          1.5417702198028564,
          2.9081459045410156,
          3.9039835929870605,
          1.811943531036377,
          3.029409408569336,
          1.836120843887329,
          3.512767791748047,
          3.2763943672180176,
          3.8727283477783203,
          1.7545791864395142,
          2.929236888885498,
          3.3906233310699463,
          1.3315566778182983,
          0.8773960471153259,
          3.875206708908081,
          2.820380687713623,
          2.207411289215088,
          2.231877088546753,
          3.3921234607696533,
          2.4593913555145264,
          0.9671791195869446,
          1.3755751848220825,
          3.139643907546997,
          2.8473927974700928,
          1.5572494268417358,
          0.862421989440918,
          0.7992640137672424,
          1.6531002521514893,
          1.7594103813171387,
          1.1582450866699219,
          1.0283976793289185,
          0.8153099417686462,
          1.2379779815673828,
          3.911557197570801,
          1.8520087003707886,
          3.8336801528930664,
          0.5896105766296387,
          3.3048882484436035,
          3.6776816844940186,
          0.6278907060623169,
          1.2917629480361938,
          0.6948537826538086,
          3.0727453231811523,
          1.1316168308258057,
          3.132598638534546,
          1.4805628061294556,
          2.6148500442504883,
          4.08861780166626,
          3.043703317642212,
          2.6096928119659424,
          0.9175040125846863,
          2.805201768875122,
          1.1728854179382324,
          2.115649938583374,
          2.9495697021484375,
          3.038560628890991,
          3.2036871910095215,
          2.028005361557007,
          0.9737244844436646,
          1.6776148080825806,
          0.9267840385437012,
          1.26612389087677,
          2.6463112831115723,
          1.9230570793151855,
          3.4793848991394043,
          1.54849112033844,
          3.4641013145446777,
          2.704313039779663,
          2.908646583557129,
          2.842381238937378,
          2.049609661102295,
          3.4890081882476807,
          1.5334309339523315,
          0.9364222884178162,
          2.636103391647339,
          3.313992738723755,
          3.348668098449707,
          3.0588057041168213,
          2.8358497619628906,
          3.011699914932251,
          2.822418451309204,
          2.25154447555542,
          3.972874879837036,
          2.973473310470581,
          2.898615598678589,
          3.718395233154297,
          3.5804381370544434,
          0.9925864934921265,
          3.5342278480529785,
          1.6226602792739868,
          2.202974557876587,
          3.4921720027923584,
          3.6875321865081787,
          1.9153919219970703,
          1.192439317703247,
          0.6561523675918579,
          2.8738179206848145,
          2.6027328968048096,
          2.523111581802368,
          1.8121217489242554,
          2.2734873294830322,
          1.2713969945907593,
          3.2631561756134033,
          1.1847641468048096,
          3.378162145614624,
          2.712808847427368,
          0.769668698310852,
          0.9165047407150269,
          2.4989516735076904,
          3.341114044189453,
          3.7201521396636963,
          1.0960602760314941,
          2.8456664085388184,
          2.0418307781219482,
          1.5763825178146362,
          2.4494986534118652,
          3.2353005409240723,
          1.8486506938934326,
          1.5951690673828125,
          1.6797878742218018,
          1.4088404178619385,
          1.7809505462646484,
          4.564462184906006,
          3.9825284481048584,
          2.952188014984131,
          3.349654197692871,
          1.242173194885254,
          1.2742677927017212,
          1.2500810623168945,
          3.353341817855835,
          1.7591707706451416,
          3.4755165576934814,
          3.628824234008789,
          3.5641427040100098,
          2.484078884124756,
          2.921053409576416,
          1.4966363906860352,
          0.690068244934082,
          1.8589040040969849,
          3.279994487762451,
          2.123943567276001,
          3.2704522609710693,
          2.156662702560425,
          2.962491512298584,
          2.1227939128875732,
          3.477027654647827,
          3.3665096759796143,
          3.064448356628418,
          0.8682407140731812,
          0.5970636010169983,
          2.2968602180480957,
          3.333275318145752,
          0.7266546487808228,
          3.292578935623169,
          3.742464065551758,
          0.9534188508987427,
          0.9950612187385559,
          1.9564261436462402,
          3.502347230911255,
          0.8060377240180969,
          3.4784915447235107,
          0.7653348445892334,
          3.311354875564575,
          3.464998960494995,
          2.4144253730773926,
          2.9551174640655518,
          3.553851366043091,
          3.7595527172088623,
          2.679868459701538,
          1.4901388883590698,
          1.0738869905471802,
          3.190870761871338,
          3.318972110748291,
          2.035109758377075,
          2.897477865219116,
          3.4447054862976074,
          1.5242623090744019,
          2.049332857131958,
          1.3316049575805664,
          0.5804387331008911,
          2.5479819774627686,
          2.7661564350128174,
          1.7797503471374512,
          2.8705310821533203,
          3.7423763275146484,
          2.953389883041382,
          3.7623531818389893,
          3.1944167613983154,
          2.2995405197143555,
          3.834573268890381,
          0.8814242482185364,
          1.8740746974945068,
          3.4552557468414307,
          2.7826430797576904,
          2.6205172538757324
         ],
         "xaxis": "x",
         "y": [
          2.94599986076355,
          3.210548162460327,
          2.2049381732940674,
          3.4618728160858154,
          2.7818334102630615,
          1.846914291381836,
          3.0143697261810303,
          2.21120285987854,
          2.3216702938079834,
          2.2490720748901367,
          3.332711935043335,
          2.4403491020202637,
          3.465719699859619,
          2.817960023880005,
          3.323176622390747,
          3.1621880531311035,
          2.0111162662506104,
          3.546509027481079,
          1.7243202924728394,
          2.4864070415496826,
          2.7943577766418457,
          2.6133921146392822,
          3.643866777420044,
          2.9907443523406982,
          2.9315998554229736,
          3.5854403972625732,
          3.038184881210327,
          1.7399262189865112,
          2.6335864067077637,
          2.298288345336914,
          2.9782462120056152,
          2.564253807067871,
          1.4721497297286987,
          2.2181613445281982,
          2.422074556350708,
          3.3760945796966553,
          2.56180739402771,
          2.323340892791748,
          3.726055860519409,
          3.1844615936279297,
          2.473839282989502,
          2.284543037414551,
          2.5365381240844727,
          2.8327105045318604,
          3.488661766052246,
          2.5200140476226807,
          1.6194334030151367,
          2.824829578399658,
          2.4985885620117188,
          2.125039577484131,
          2.9636433124542236,
          2.054569959640503,
          2.5928006172180176,
          2.6459574699401855,
          3.268976926803589,
          2.974461317062378,
          3.5279135704040527,
          2.5871238708496094,
          1.2627038955688477,
          3.2719061374664307,
          2.1981146335601807,
          3.6170456409454346,
          3.5263237953186035,
          2.6167681217193604,
          2.971158504486084,
          2.369136095046997,
          3.193121910095215,
          3.6594889163970947,
          2.4693338871002197,
          2.78623104095459,
          3.077256679534912,
          2.5808169841766357,
          2.092355251312256,
          2.82816481590271,
          2.6589832305908203,
          2.7602434158325195,
          3.0582542419433594,
          2.460057497024536,
          3.633516311645508,
          3.251776695251465,
          3.0518150329589844,
          3.8350799083709717,
          2.1110050678253174,
          3.0544497966766357,
          3.5496532917022705,
          2.9558911323547363,
          3.239039659500122,
          3.460123300552368,
          2.7183609008789062,
          2.1458652019500732,
          3.5678870677948,
          1.202236294746399,
          3.9792916774749756,
          2.786513566970825,
          2.6711323261260986,
          3.877704620361328,
          3.4654314517974854,
          3.1870086193084717,
          1.8761473894119263,
          3.771446943283081,
          2.0739521980285645,
          2.480178117752075,
          2.9637932777404785,
          2.873058557510376,
          3.298658609390259,
          2.555263042449951,
          2.575986862182617,
          3.564842462539673,
          3.553525924682617,
          2.4469194412231445,
          3.816413640975952,
          2.093951940536499,
          3.0791563987731934,
          2.7842137813568115,
          3.7827861309051514,
          1.2381101846694946,
          2.8054144382476807,
          2.9927384853363037,
          3.8543124198913574,
          2.9189846515655518,
          2.2333333492279053,
          3.007956027984619,
          3.4148595333099365,
          2.6702349185943604,
          3.6139745712280273,
          2.9548873901367188,
          2.879049301147461,
          3.6134138107299805,
          2.1320488452911377,
          1.2953605651855469,
          3.681163787841797,
          3.362637758255005,
          2.1202569007873535,
          2.3953373432159424,
          2.232619285583496,
          2.338895559310913,
          1.7635987997055054,
          2.3870720863342285,
          3.4065115451812744,
          2.9704713821411133,
          3.047980546951294,
          3.650474786758423,
          2.0097758769989014,
          2.622560501098633,
          2.3939049243927,
          2.6770122051239014,
          3.227818250656128,
          2.566648006439209,
          2.3603601455688477,
          3.724161148071289,
          2.8103106021881104,
          2.9028875827789307,
          3.737034559249878,
          1.9521701335906982,
          2.55802845954895,
          2.609067916870117,
          2.0110716819763184,
          2.4916820526123047,
          2.468942880630493,
          1.8619234561920166,
          3.170395612716675,
          2.645127773284912,
          2.265943765640259,
          3.561668872833252,
          3.403324842453003,
          2.929710865020752,
          0.6395993232727051,
          2.595705032348633,
          1.9835671186447144,
          1.9822858572006226,
          2.9011611938476562,
          3.5019004344940186,
          2.4997074604034424,
          2.3820900917053223,
          2.9352080821990967,
          4.232151508331299,
          4.2248077392578125,
          2.17364501953125,
          2.7145063877105713,
          2.6550800800323486,
          3.413472890853882,
          3.071841239929199,
          2.7161741256713867,
          2.4142978191375732,
          2.23372220993042,
          2.479949474334717,
          2.5521018505096436,
          2.336829423904419,
          2.2314975261688232,
          1.2015916109085083,
          3.789123773574829,
          1.9865604639053345,
          3.1450753211975098,
          3.051136016845703,
          2.6205899715423584,
          3.7523036003112793,
          2.8395864963531494,
          2.6921803951263428,
          2.623023271560669,
          2.614964246749878,
          3.2935850620269775,
          2.206042766571045,
          2.343322277069092,
          2.720289707183838,
          2.0824875831604004,
          3.0254387855529785,
          2.0179972648620605,
          2.1992580890655518,
          3.1743271350860596,
          2.475916862487793,
          3.3450777530670166,
          3.6030497550964355,
          2.1912128925323486,
          2.0886452198028564,
          3.2114546298980713,
          2.591541290283203,
          2.556304454803467,
          1.9907547235488892,
          2.99109148979187,
          1.3684957027435303,
          3.2871875762939453,
          2.3946735858917236,
          3.4834866523742676,
          3.1225967407226562,
          2.634610176086426,
          3.2190983295440674,
          2.0187578201293945,
          2.757153034210205,
          4.4893364906311035,
          3.5631978511810303,
          1.9109562635421753,
          2.8336241245269775,
          2.121039628982544,
          4.074470043182373,
          2.886197328567505,
          3.582263708114624,
          4.275558948516846,
          2.150987148284912,
          2.8930866718292236
         ],
         "yaxis": "y"
        },
        {
         "hovertemplate": "color=Ada the explorer<br>Axis x=%{x}<br>Axis y=%{y}<extra></extra>",
         "legendgroup": "Ada the explorer",
         "marker": {
          "color": "#EF553B",
          "opacity": 1,
          "symbol": "circle"
         },
         "mode": "markers",
         "name": "Ada the explorer",
         "orientation": "v",
         "showlegend": true,
         "type": "scatter",
         "x": [
          5.675100326538086,
          4.315097808837891,
          8.25485897064209,
          6.532486915588379,
          4.556022644042969,
          7.174174785614014,
          7.316892623901367,
          4.777734756469727,
          8.201004981994629,
          7.557907581329346,
          7.368031024932861,
          7.1732964515686035,
          7.120772838592529,
          7.714964389801025,
          7.8747687339782715,
          6.9612345695495605,
          4.672738552093506,
          5.285933494567871,
          5.181064128875732,
          5.080333709716797,
          5.843582630157471,
          7.749871730804443,
          7.591902732849121,
          6.681000709533691,
          4.832268238067627,
          7.5248236656188965,
          5.450439453125,
          6.951575756072998,
          6.696237087249756,
          5.8014631271362305,
          4.543254852294922,
          8.187337875366211,
          5.211304664611816,
          4.194709777832031,
          6.927270412445068,
          7.619155406951904,
          3.8058784008026123,
          7.327656269073486,
          7.052906036376953,
          7.6080756187438965,
          7.669551849365234,
          6.941637992858887,
          5.294270992279053,
          4.6802496910095215,
          5.679466724395752,
          8.162444114685059,
          5.568395137786865,
          5.855837345123291,
          5.446831703186035,
          6.260693073272705,
          6.095046520233154,
          5.061052322387695,
          4.848057270050049,
          5.131771087646484,
          5.821079254150391,
          5.658536434173584,
          4.1060919761657715,
          5.424117088317871,
          7.550726413726807,
          5.505185127258301,
          5.561294078826904,
          7.484377384185791,
          6.775963306427002,
          4.091747760772705,
          6.451839923858643,
          6.492090702056885,
          7.117671966552734,
          4.8041181564331055,
          5.3125152587890625,
          5.66077184677124,
          7.416975975036621,
          6.926411151885986,
          6.9726386070251465,
          7.476831912994385,
          7.770208358764648,
          4.855446815490723,
          6.973785877227783,
          5.37750244140625,
          7.475503921508789,
          6.379370212554932,
          3.8336849212646484,
          7.361184597015381,
          5.208239555358887,
          4.754974842071533,
          5.411345958709717,
          7.328908443450928,
          7.751016616821289,
          4.622979640960693,
          7.053115367889404,
          6.181766510009766,
          5.982351303100586,
          6.225604057312012,
          5.377132892608643,
          5.236144065856934,
          4.4320502281188965,
          7.793013572692871,
          4.546999454498291,
          5.739567756652832,
          5.903872966766357,
          6.006782531738281,
          5.286180019378662,
          7.3106889724731445,
          7.246354579925537,
          7.2268900871276855,
          8.070295333862305,
          7.043057441711426,
          7.090095520019531,
          7.903743267059326,
          7.54892635345459,
          5.672593116760254,
          7.388149261474609,
          7.99118185043335,
          7.0125813484191895,
          5.742827415466309,
          7.307916641235352,
          6.574391841888428,
          5.618813514709473,
          7.668207168579102,
          6.832180500030518,
          5.271430015563965,
          7.4382195472717285,
          6.8150315284729,
          6.453650951385498,
          4.806283473968506,
          7.326362609863281,
          4.462789058685303,
          6.160032272338867,
          7.181950569152832,
          4.297316551208496,
          5.473926544189453,
          3.9734506607055664,
          7.921321392059326,
          7.137226104736328,
          5.743821620941162,
          4.6215949058532715,
          6.182476997375488,
          6.485199928283691,
          6.805823802947998,
          7.150054931640625,
          7.388357162475586,
          5.271381378173828,
          3.8729631900787354,
          4.757380962371826,
          7.517993927001953,
          6.514204502105713,
          4.375197887420654,
          4.905938625335693,
          6.391748428344727,
          7.394379615783691,
          7.420705318450928,
          6.4098358154296875,
          7.614279747009277,
          4.840147972106934,
          6.456488609313965,
          6.132678031921387,
          5.766512393951416,
          6.0517683029174805,
          6.093705654144287,
          8.062479972839355,
          5.396681308746338,
          4.527347087860107,
          6.80772590637207,
          4.866774559020996,
          5.3716535568237305,
          4.7654643058776855,
          6.686541557312012,
          5.952733516693115,
          6.49306058883667,
          7.170450210571289,
          7.6248626708984375,
          7.307134628295898,
          6.041853427886963,
          6.207458019256592,
          6.255101203918457,
          6.372760772705078,
          5.932216644287109,
          5.820926189422607,
          6.178454399108887,
          7.258538246154785,
          6.202252388000488,
          4.630670070648193,
          5.876707553863525,
          4.527963638305664,
          7.817260265350342,
          4.557191371917725,
          4.7666449546813965,
          6.610339164733887,
          7.891930103302002,
          7.613086223602295,
          5.758357524871826,
          6.9320969581604,
          4.465117931365967,
          4.77289342880249,
          6.426126480102539,
          7.15517520904541,
          5.024277687072754,
          7.434937953948975,
          5.13508415222168,
          7.150815010070801,
          7.37569522857666,
          5.661122798919678,
          5.452605247497559,
          7.365534782409668,
          5.766074180603027,
          7.602839469909668,
          7.033456802368164,
          6.171678066253662,
          5.241065502166748,
          6.949887275695801,
          7.956528186798096,
          6.948442459106445,
          6.565892696380615,
          7.372568130493164,
          6.94245719909668,
          5.398697853088379,
          5.986011981964111,
          5.787947177886963,
          4.706387042999268,
          5.597430229187012,
          7.149890422821045,
          7.848647594451904,
          7.473807334899902,
          4.695965766906738,
          6.706490993499756,
          7.061966419219971,
          6.907526016235352,
          7.812167167663574,
          6.060274600982666,
          5.02745246887207,
          7.281535625457764,
          5.924808979034424,
          7.729498386383057,
          7.524250507354736,
          7.629788398742676,
          7.037439823150635,
          5.46935510635376,
          7.038794994354248,
          6.797833442687988,
          7.017739772796631,
          5.628469467163086,
          7.4158616065979,
          7.06695032119751,
          4.987146377563477,
          6.821066856384277,
          5.269772529602051,
          4.660010814666748,
          4.736841201782227,
          5.109349250793457,
          5.3794121742248535,
          5.283951759338379,
          7.714448928833008,
          7.120206832885742,
          4.130683898925781,
          5.348260879516602,
          6.795843601226807,
          5.037108421325684,
          5.041286945343018,
          7.155943393707275,
          4.266672134399414,
          3.9059340953826904,
          5.275172710418701,
          6.361848831176758,
          6.358705520629883,
          7.383347988128662,
          5.480886936187744,
          5.175464153289795,
          6.4601898193359375,
          7.354605197906494,
          6.678618907928467,
          4.890403747558594,
          7.904792785644531,
          6.167891979217529,
          7.246540069580078,
          8.363195419311523,
          5.220379829406738,
          7.357048034667969,
          7.874526023864746,
          6.96557092666626,
          5.722703456878662,
          7.422468185424805,
          6.617514133453369,
          7.656288146972656,
          4.769250869750977,
          7.041565418243408,
          6.673630237579346,
          7.137943267822266,
          5.740148067474365,
          4.39394998550415,
          7.0817999839782715,
          7.481607913970947,
          5.002264976501465,
          4.433401107788086,
          7.339103698730469,
          5.385707378387451,
          4.780092716217041,
          7.055214881896973,
          5.321572780609131,
          4.63956880569458,
          5.998265266418457,
          7.471700191497803,
          5.902638912200928,
          6.484160900115967,
          5.351358890533447,
          7.159320831298828,
          7.041589260101318,
          6.779833793640137,
          5.618179798126221,
          8.162704467773438,
          6.4394731521606445,
          3.6152498722076416,
          6.992883205413818,
          4.420800685882568,
          6.246589660644531,
          4.875608444213867,
          6.777997016906738,
          4.4367265701293945,
          4.264218330383301,
          4.485918998718262,
          5.175751209259033,
          4.744406223297119,
          4.1203765869140625,
          6.291399002075195,
          8.161652565002441,
          4.651062965393066,
          7.92139196395874,
          5.999746322631836,
          4.603541374206543,
          4.675818920135498,
          7.312828063964844,
          8.154565811157227,
          6.534826755523682,
          7.471731662750244,
          7.007816314697266,
          4.537106037139893,
          6.27779483795166,
          4.923299789428711,
          5.826237678527832,
          4.6376848220825195,
          5.994280815124512,
          5.528614044189453,
          6.837523460388184,
          5.483359336853027,
          6.4890642166137695,
          8.067926406860352,
          5.432018756866455,
          6.971398830413818,
          6.31962776184082,
          5.832177639007568,
          3.884981155395508,
          6.113067626953125,
          5.270474433898926,
          5.160995960235596,
          5.255723476409912,
          7.829159259796143,
          3.98473858833313,
          5.441890716552734,
          8.026782035827637,
          4.595920562744141,
          4.388974666595459,
          7.534792423248291,
          6.270873069763184,
          7.091832637786865,
          4.691350936889648,
          5.762614727020264,
          6.301167011260986,
          6.227644443511963,
          6.975286960601807,
          4.87996244430542,
          4.53447151184082,
          5.449145793914795,
          5.961277484893799,
          5.099647045135498,
          7.212716579437256,
          4.116100788116455,
          6.533627033233643,
          7.0171589851379395,
          3.9592928886413574,
          5.020686626434326,
          4.35719108581543,
          5.959228992462158,
          6.594081878662109,
          7.713868618011475,
          4.571953773498535,
          5.8108601570129395,
          7.012587547302246,
          4.490208148956299,
          7.3311920166015625,
          6.602183818817139,
          5.445428848266602,
          6.451861381530762,
          4.972400665283203,
          5.913496494293213,
          6.115673542022705,
          4.232831954956055
         ],
         "xaxis": "x",
         "y": [
          0.7742586731910706,
          1.9184598922729492,
          1.6202232837677002,
          2.3003313541412354,
          1.149179220199585,
          0.8460352420806885,
          2.8470520973205566,
          2.5932133197784424,
          1.9066529273986816,
          2.414001226425171,
          1.4052456617355347,
          2.7103657722473145,
          2.4910523891448975,
          1.3325839042663574,
          2.455965042114258,
          1.3323943614959717,
          0.6247492432594299,
          2.7081618309020996,
          1.9281699657440186,
          1.0179444551467896,
          2.049215793609619,
          0.696053683757782,
          2.3432841300964355,
          1.7975770235061646,
          1.2551597356796265,
          2.9208600521087646,
          0.3635835349559784,
          0.8718381524085999,
          1.9125051498413086,
          1.466722846031189,
          1.0726162195205688,
          2.0291190147399902,
          0.9739559292793274,
          2.849762439727783,
          2.7101986408233643,
          2.4628210067749023,
          2.1728713512420654,
          1.0197519063949585,
          2.555210828781128,
          2.41719651222229,
          1.589084267616272,
          2.0377252101898193,
          2.070401668548584,
          2.2135961055755615,
          0.5678937435150146,
          0.8896647095680237,
          2.579961061477661,
          1.054396390914917,
          1.123619794845581,
          2.146700620651245,
          1.7846760749816895,
          2.734522819519043,
          0.9096627235412598,
          1.0151649713516235,
          2.93560791015625,
          2.518550395965576,
          1.729986310005188,
          0.7286292910575867,
          2.85494065284729,
          1.150305986404419,
          3.0955617427825928,
          3.0321028232574463,
          0.8644706010818481,
          2.87553071975708,
          1.9067384004592896,
          2.678999423980713,
          2.4923346042633057,
          2.985173225402832,
          1.783698320388794,
          2.084420680999756,
          0.8636147379875183,
          2.051443338394165,
          2.3553073406219482,
          3.0256636142730713,
          2.660745143890381,
          0.9824947118759155,
          3.042868137359619,
          0.5022995471954346,
          2.108842372894287,
          2.1519603729248047,
          2.315255641937256,
          3.3311924934387207,
          0.9031276106834412,
          1.4650155305862427,
          2.394089698791504,
          2.993406057357788,
          1.2363879680633545,
          1.4316145181655884,
          2.1625778675079346,
          1.8854572772979736,
          1.5728269815444946,
          1.6792547702789307,
          3.2239789962768555,
          1.6974222660064697,
          1.2310750484466553,
          1.5005691051483154,
          2.217808723449707,
          1.3818286657333374,
          1.488545536994934,
          2.82568359375,
          2.4719362258911133,
          1.0412362813949585,
          1.931129813194275,
          2.4159233570098877,
          0.7354393005371094,
          2.0979268550872803,
          2.8272788524627686,
          0.6552624702453613,
          2.6846587657928467,
          0.6630755066871643,
          0.670924723148346,
          1.8997498750686646,
          1.5316119194030762,
          0.9532569050788879,
          3.1299307346343994,
          1.7768439054489136,
          1.3356518745422363,
          2.109546422958374,
          3.0634632110595703,
          3.2936556339263916,
          2.9589807987213135,
          0.501969575881958,
          1.060963749885559,
          2.845604181289673,
          3.033630847930908,
          2.8977737426757812,
          3.371674060821533,
          1.2400308847427368,
          2.7821619510650635,
          2.269660472869873,
          2.1570825576782227,
          1.8200594186782837,
          0.26925739645957947,
          2.230203151702881,
          3.165968179702759,
          0.907832682132721,
          1.8684604167938232,
          1.8381950855255127,
          1.6886990070343018,
          1.3032596111297607,
          0.5692179799079895,
          2.150668144226074,
          0.8338664770126343,
          2.552466630935669,
          2.8038811683654785,
          2.9939815998077393,
          1.728299617767334,
          2.1585187911987305,
          3.2245357036590576,
          3.231302261352539,
          1.7207969427108765,
          3.1311235427856445,
          0.6975032091140747,
          2.110102415084839,
          0.8606413006782532,
          0.3612862825393677,
          2.8921327590942383,
          2.6629128456115723,
          1.3744916915893555,
          0.5099431276321411,
          1.5075870752334595,
          1.8343846797943115,
          0.9911842942237854,
          1.7440359592437744,
          0.9710071086883545,
          0.8634029030799866,
          0.9625882506370544,
          2.820382595062256,
          2.0214810371398926,
          1.0817166566848755,
          0.9969670176506042,
          3.0010123252868652,
          0.4522188901901245,
          1.5307964086532593,
          1.2036511898040771,
          1.7591243982315063,
          2.5018746852874756,
          2.211641311645508,
          0.6895388960838318,
          1.2050528526306152,
          2.356032133102417,
          0.354897141456604,
          1.612890601158142,
          2.300262689590454,
          1.6512938737869263,
          2.3911218643188477,
          2.835759401321411,
          1.858625888824463,
          0.8800591230392456,
          3.374127149581909,
          2.7905948162078857,
          1.0838985443115234,
          1.4282772541046143,
          2.8033957481384277,
          2.5534214973449707,
          0.4532800316810608,
          3.0567588806152344,
          0.8895772695541382,
          2.620163679122925,
          1.2504090070724487,
          0.9551531076431274,
          1.9196668863296509,
          0.49229896068573,
          0.7441809773445129,
          2.5949485301971436,
          1.6532756090164185,
          2.3059744834899902,
          0.44697561860084534,
          3.419853687286377,
          2.2016563415527344,
          2.3625574111938477,
          2.252969264984131,
          2.800950050354004,
          1.651757001876831,
          0.5492855906486511,
          3.0993547439575195,
          1.7190463542938232,
          1.5333060026168823,
          2.3355963230133057,
          1.4470133781433105,
          0.6232348084449768,
          1.231693983078003,
          1.6560235023498535,
          0.2790777087211609,
          1.6521915197372437,
          1.313432216644287,
          1.7648957967758179,
          2.2492268085479736,
          1.758248209953308,
          1.6263548135757446,
          2.02931809425354,
          1.7973577976226807,
          1.6174145936965942,
          2.4519920349121094,
          1.242958664894104,
          1.272586703300476,
          1.0168756246566772,
          1.5967174768447876,
          0.9352594614028931,
          2.4058761596679688,
          3.1580393314361572,
          2.6397149562835693,
          3.095306158065796,
          1.1672307252883911,
          1.5682929754257202,
          2.659846544265747,
          2.147273063659668,
          2.5057764053344727,
          1.2280488014221191,
          0.8304473757743835,
          1.4535503387451172,
          3.91255784034729,
          2.838608741760254,
          0.3012504279613495,
          1.3735437393188477,
          2.7159740924835205,
          2.105031967163086,
          3.3444602489471436,
          2.0021347999572754,
          2.449803590774536,
          0.501395583152771,
          2.1458263397216797,
          1.633042573928833,
          1.3495702743530273,
          1.890038251876831,
          3.209927558898926,
          1.3950093984603882,
          1.4359991550445557,
          2.682637929916382,
          0.8319304585456848,
          1.4015523195266724,
          0.7857593894004822,
          2.947929620742798,
          1.9510012865066528,
          1.6170451641082764,
          2.6799309253692627,
          0.834540605545044,
          1.1723726987838745,
          1.2505557537078857,
          2.895372152328491,
          1.269620418548584,
          2.5231146812438965,
          0.6884484887123108,
          3.8101966381073,
          2.207509756088257,
          0.5574578642845154,
          0.8920046091079712,
          1.4950923919677734,
          2.362565755844116,
          1.564074993133545,
          2.9079060554504395,
          1.95177161693573,
          3.103802442550659,
          1.104526162147522,
          1.304069995880127,
          2.3299672603607178,
          0.5578650832176208,
          1.0683873891830444,
          2.4290127754211426,
          0.5689792037010193,
          3.17113995552063,
          0.9037088751792908,
          2.8304085731506348,
          1.834415316581726,
          1.6076432466506958,
          2.953669548034668,
          3.170499324798584,
          1.9674979448318481,
          2.0288209915161133,
          2.1852283477783203,
          1.229421615600586,
          1.9635531902313232,
          1.2073906660079956,
          1.5052158832550049,
          1.1333004236221313,
          0.993653416633606,
          3.4244167804718018,
          1.8907610177993774,
          0.7221984267234802,
          0.7123578190803528,
          2.8230056762695312,
          1.9326452016830444,
          2.1360933780670166,
          1.2196998596191406,
          0.6134733557701111,
          1.1114554405212402,
          3.280555248260498,
          0.8303579688072205,
          2.965268850326538,
          1.794104814529419,
          3.0151445865631104,
          2.1132400035858154,
          0.46785134077072144,
          2.4335923194885254,
          2.9092302322387695,
          0.5256447792053223,
          2.753722906112671,
          1.1904886960983276,
          1.0426172018051147,
          1.3245192766189575,
          0.33837825059890747,
          2.788458824157715,
          2.212859869003296,
          0.6904889345169067,
          0.3628619909286499,
          2.2950193881988525,
          1.6360962390899658,
          1.6637439727783203,
          2.2935712337493896,
          1.0031547546386719,
          1.6725308895111084,
          1.4064828157424927,
          0.9780826568603516,
          0.9981203079223633,
          1.9961488246917725,
          2.8946375846862793,
          1.7821862697601318,
          0.7358618974685669,
          2.869291067123413,
          2.1571381092071533,
          2.0910634994506836,
          0.5717163681983948,
          2.974795341491699,
          0.8927971720695496,
          2.4590048789978027,
          1.788637638092041,
          2.4019052982330322,
          2.4653899669647217,
          1.9191901683807373,
          1.842796802520752,
          1.597963571548462,
          0.5606220364570618,
          2.0215046405792236,
          2.667180299758911,
          2.115551710128784,
          1.747374415397644,
          2.649693489074707,
          1.6452105045318604,
          2.377441644668579,
          2.3199219703674316,
          2.2991034984588623,
          2.122735023498535,
          0.9159020781517029,
          1.3064440488815308,
          0.1861184686422348,
          1.3309533596038818,
          0.7443529367446899,
          3.1854488849639893,
          1.93108332157135,
          0.5127681493759155,
          1.4843710660934448,
          1.1489137411117554,
          3.251030206680298,
          2.3814775943756104
         ],
         "yaxis": "y"
        },
        {
         "hovertemplate": "color=James Bland<br>Axis x=%{x}<br>Axis y=%{y}<extra></extra>",
         "legendgroup": "James Bland",
         "marker": {
          "color": "#00cc96",
          "opacity": 1,
          "symbol": "circle"
         },
         "mode": "markers",
         "name": "James Bland",
         "orientation": "v",
         "showlegend": true,
         "type": "scatter",
         "x": [
          7.616852760314941,
          7.994156360626221,
          8.28339672088623,
          5.950177192687988,
          8.477176666259766,
          7.389707565307617,
          8.433740615844727,
          8.517983436584473,
          7.213334560394287,
          7.80824613571167,
          8.452997207641602,
          8.024162292480469,
          7.782686233520508,
          7.553076267242432,
          7.86134147644043,
          7.938626766204834,
          8.595303535461426,
          7.982672691345215,
          8.584190368652344,
          8.042448043823242,
          8.581196784973145,
          5.573291301727295,
          8.144640922546387,
          6.5925374031066895,
          8.588733673095703,
          8.399603843688965,
          8.273999214172363,
          8.317129135131836,
          8.274178504943848,
          8.365252494812012,
          8.263289451599121,
          8.41265869140625,
          7.586546421051025,
          8.562828063964844,
          6.253746509552002,
          8.375557899475098,
          8.23237419128418,
          6.14254093170166,
          7.316554069519043,
          6.620949745178223,
          6.160395622253418,
          8.397233009338379,
          8.539100646972656,
          7.884932518005371,
          7.516193866729736,
          8.219620704650879,
          7.952662944793701,
          7.998151779174805,
          7.438276290893555,
          8.188441276550293,
          7.5705156326293945,
          8.039759635925293,
          8.340571403503418,
          7.328007698059082,
          8.415425300598145,
          8.08746337890625,
          7.687978744506836,
          8.541027069091797,
          8.267427444458008,
          7.677430629730225,
          7.510785102844238,
          7.9958720207214355,
          8.359370231628418,
          8.354645729064941,
          8.398937225341797,
          8.377583503723145,
          8.280159950256348,
          7.511596202850342,
          6.822099208831787,
          8.502633094787598,
          8.441898345947266,
          7.167119979858398,
          8.159464836120605,
          7.970473766326904,
          8.27402400970459,
          7.812971115112305,
          8.118951797485352,
          8.41357707977295,
          7.406810760498047,
          7.933784484863281,
          7.050975799560547,
          7.428180694580078,
          8.21557903289795,
          8.08093547821045,
          8.032266616821289,
          7.474764347076416,
          6.884104251861572,
          8.276126861572266,
          8.414223670959473,
          7.533524513244629,
          8.141444206237793,
          7.8118367195129395,
          7.30043363571167,
          7.6908674240112305,
          8.358604431152344,
          7.768098831176758,
          8.21934700012207,
          7.945635795593262,
          7.499706268310547,
          8.369752883911133,
          8.426189422607422,
          7.668666362762451,
          8.29727554321289,
          8.312119483947754,
          8.51667308807373,
          7.8146233558654785,
          7.862759590148926,
          8.26901912689209,
          8.3824462890625,
          7.648867130279541,
          7.414281845092773,
          5.563701152801514,
          8.004135131835938,
          8.552131652832031,
          8.204480171203613,
          8.629776000976562,
          8.287328720092773,
          8.437868118286133,
          7.165542125701904,
          8.0951509475708,
          8.413191795349121,
          7.401939392089844,
          7.510374069213867,
          6.512709140777588,
          8.016143798828125,
          7.958794116973877,
          8.494695663452148,
          8.36614990234375,
          8.457051277160645,
          8.219959259033203,
          8.216760635375977,
          8.139382362365723,
          7.551994800567627,
          8.44541072845459,
          6.829398155212402,
          7.201646327972412,
          8.310840606689453,
          8.598001480102539,
          7.521174907684326,
          8.255582809448242,
          8.564684867858887
         ],
         "xaxis": "x",
         "y": [
          0.1888222098350525,
          -0.17929407954216003,
          -0.8954474329948425,
          0.3194008767604828,
          -0.9780855774879456,
          0.389205664396286,
          -0.9240738749504089,
          -1.0324769020080566,
          0.25526079535484314,
          -0.58545982837677,
          -1.0699315071105957,
          0.46924063563346863,
          -0.542248547077179,
          -0.34488603472709656,
          0.3883744180202484,
          0.6876600384712219,
          -1.227501630783081,
          -0.6681419610977173,
          -1.2659575939178467,
          -0.3435238301753998,
          -1.3007577657699585,
          0.21832743287086487,
          0.22180242836475372,
          0.6521245837211609,
          -1.2278046607971191,
          -0.7468749284744263,
          -0.9379079341888428,
          0.3340165913105011,
          -1.1275675296783447,
          1.768343210220337,
          -0.9806315898895264,
          -0.2929580509662628,
          -0.09374678879976273,
          -1.2603868246078491,
          -0.01077843364328146,
          -0.9755203127861023,
          -0.8546685576438904,
          0.22880437970161438,
          0.03522542864084244,
          0.4340377449989319,
          0.11999879777431488,
          -0.45473694801330566,
          -0.9471546411514282,
          0.18605384230613708,
          -0.5295499563217163,
          -0.7086930274963379,
          1.1049976348876953,
          0.22221052646636963,
          -0.06597670912742615,
          -0.43325212597846985,
          0.018574615940451622,
          0.627643883228302,
          -1.0759862661361694,
          0.06905167549848557,
          -0.6725852489471436,
          -0.41973820328712463,
          0.29690346121788025,
          -1.1817816495895386,
          -0.9541144371032715,
          0.04274292662739754,
          -0.39906081557273865,
          0.7670704126358032,
          1.7043935060501099,
          1.0989649295806885,
          1.7783093452453613,
          1.207983374595642,
          -0.09995553642511368,
          -0.2736199200153351,
          0.41131672263145447,
          -0.9573350548744202,
          -1.0897260904312134,
          0.29498013854026794,
          0.7172242999076843,
          0.33394768834114075,
          -0.8644266724586487,
          0.5748924016952515,
          0.3676959276199341,
          -0.5847780108451843,
          0.40883496403694153,
          0.22471268475055695,
          0.023438692092895508,
          -0.16041143238544464,
          1.1013227701187134,
          0.1299528181552887,
          1.7232022285461426,
          0.6234880685806274,
          -0.030602164566516876,
          -0.5067740678787231,
          -0.9983651638031006,
          -0.42446333169937134,
          -0.8128336668014526,
          0.365780770778656,
          -0.01564699597656727,
          0.49557116627693176,
          1.5514777898788452,
          0.4337335526943207,
          1.435207486152649,
          1.5511358976364136,
          -0.07741976529359818,
          -1.1856043338775635,
          -0.32793644070625305,
          0.34559333324432373,
          0.7126973867416382,
          -0.43048185110092163,
          -0.8436750173568726,
          0.5122949481010437,
          0.3917471170425415,
          0.5859981775283813,
          1.145346760749817,
          0.18141180276870728,
          0.22813084721565247,
          0.31442034244537354,
          0.7831780910491943,
          -1.2656354904174805,
          0.6052560210227966,
          -1.3515288829803467,
          1.093302607536316,
          -1.1292612552642822,
          0.5021830797195435,
          -0.5814342498779297,
          -0.7472594380378723,
          -0.46504050493240356,
          0.034739091992378235,
          0.43907639384269714,
          0.6797813773155212,
          0.6685619354248047,
          -0.8812451958656311,
          1.3013988733291626,
          0.7538896799087524,
          0.6166561245918274,
          0.23534050583839417,
          -0.15964370965957642,
          -0.09177815914154053,
          -0.7739779949188232,
          -0.12139778584241867,
          0.25360792875289917,
          -1.1377098560333252,
          -1.1064133644104004,
          0.16914404928684235,
          1.293431282043457,
          -0.7915898561477661
         ],
         "yaxis": "y"
        },
        {
         "hovertemplate": "color=Marcel Stout<br>Axis x=%{x}<br>Axis y=%{y}<extra></extra>",
         "legendgroup": "Marcel Stout",
         "marker": {
          "color": "#ab63fa",
          "opacity": 1,
          "symbol": "circle"
         },
         "mode": "markers",
         "name": "Marcel Stout",
         "orientation": "v",
         "showlegend": true,
         "type": "scatter",
         "x": [
          6.950024127960205,
          6.284083366394043,
          6.494602680206299,
          4.151505947113037,
          4.900929927825928,
          4.323388576507568,
          6.020171642303467,
          5.66606330871582,
          7.134335517883301,
          5.088376522064209,
          6.104038238525391,
          4.9247894287109375,
          6.19719123840332,
          4.349508762359619,
          5.744382858276367,
          4.612144470214844,
          6.530593395233154,
          5.024040699005127,
          5.338449001312256,
          5.99194860458374,
          3.939525842666626,
          4.438580513000488,
          5.765968322753906,
          5.987797737121582,
          5.648988246917725,
          6.406540870666504,
          6.339211463928223,
          6.3395562171936035,
          6.57745885848999,
          4.529089450836182,
          8.127474784851074,
          6.431848049163818,
          6.07695198059082,
          5.17053747177124,
          4.677698135375977,
          4.2470197677612305,
          6.522456645965576,
          4.553098201751709,
          6.608628749847412,
          7.292420387268066,
          4.9532389640808105,
          4.533878326416016,
          5.4688262939453125,
          6.827668190002441,
          6.0010271072387695,
          4.924720764160156,
          6.034933567047119,
          6.679515838623047,
          5.0651116371154785,
          5.846884727478027,
          4.664867401123047,
          6.546192169189453,
          4.15322208404541,
          4.339531898498535,
          6.713446140289307,
          4.3063178062438965,
          4.793496131896973,
          6.548830509185791,
          4.385369300842285,
          4.378973484039307,
          6.72380256652832,
          4.247125148773193,
          6.360297203063965,
          4.9217610359191895,
          6.312954902648926,
          6.128918170928955,
          4.618074417114258,
          5.181241989135742,
          5.740614414215088,
          4.550168991088867,
          5.336652755737305,
          4.2181010246276855,
          4.329498291015625,
          4.99670934677124,
          6.67171573638916,
          6.4761643409729,
          6.090230941772461,
          6.356212139129639,
          4.281465530395508,
          7.143487930297852,
          6.743861675262451,
          4.344380855560303,
          5.818691730499268,
          4.7106242179870605,
          5.388625621795654,
          5.203783988952637,
          4.813800811767578,
          6.673923969268799,
          5.411725044250488,
          6.430514812469482,
          4.187502384185791,
          4.7775397300720215,
          4.264808654785156,
          4.7259368896484375,
          4.7434000968933105,
          4.837968826293945,
          5.904027462005615,
          4.377995014190674,
          6.006067752838135,
          5.983695030212402,
          6.618884563446045,
          4.767262935638428,
          4.97303581237793,
          6.376772880554199,
          4.0910539627075195,
          4.45380973815918,
          6.429014205932617,
          6.508779525756836,
          5.446043014526367,
          4.391567707061768,
          4.996439456939697,
          4.4448323249816895,
          6.104830265045166,
          4.795336723327637,
          5.400380611419678,
          4.1817121505737305,
          6.589926719665527,
          4.0210795402526855,
          6.0516180992126465,
          4.453919887542725,
          6.096503257751465,
          4.3658270835876465,
          4.5361104011535645,
          6.35425329208374,
          4.092315196990967,
          6.589302062988281,
          6.688391208648682,
          6.014337539672852,
          7.181817054748535,
          3.856973886489868,
          4.778443813323975,
          5.152255535125732,
          5.247600078582764,
          6.731597423553467,
          6.181580066680908,
          4.912238597869873,
          6.483162879943848,
          5.766485691070557,
          6.844601154327393,
          4.879022121429443,
          5.390881538391113,
          5.024354457855225,
          6.229702472686768,
          6.766446113586426,
          5.943578720092773,
          4.183712005615234,
          6.514465808868408,
          6.3185834884643555,
          4.822401523590088,
          4.986274719238281,
          4.0931525230407715,
          5.046241283416748,
          6.623614311218262,
          6.456730842590332,
          4.391507625579834,
          4.914690971374512,
          4.8624348640441895,
          6.3714375495910645,
          4.24823522567749,
          7.305282115936279,
          6.279025077819824,
          4.700310707092285,
          4.037137985229492,
          4.463048458099365,
          5.396692276000977,
          6.593292713165283,
          4.2728590965271,
          4.138888835906982,
          6.677394866943359,
          8.326807022094727,
          4.796533584594727,
          4.947286128997803,
          6.200510501861572,
          4.694679260253906,
          6.589622974395752,
          6.711491584777832,
          6.407014846801758,
          6.055331230163574,
          5.679445743560791,
          4.552451133728027,
          4.766562461853027,
          4.0426506996154785,
          4.450011730194092,
          4.2289886474609375,
          7.240725040435791,
          6.367576599121094,
          6.1849751472473145,
          6.063416004180908,
          4.890079498291016,
          5.59605073928833,
          6.710390567779541,
          6.275199890136719,
          5.479760646820068,
          6.244679927825928,
          5.292694091796875,
          5.288224697113037
         ],
         "xaxis": "x",
         "y": [
          3.652562141418457,
          5.076480865478516,
          3.713895082473755,
          3.598919630050659,
          5.029478073120117,
          5.2532057762146,
          4.434109210968018,
          4.5485944747924805,
          3.514735698699951,
          3.6662216186523438,
          5.3783087730407715,
          4.839415073394775,
          4.720250606536865,
          4.648780345916748,
          4.826752185821533,
          3.7199692726135254,
          5.089118957519531,
          3.445237398147583,
          4.068727970123291,
          5.4379777908325195,
          4.364789009094238,
          3.795119285583496,
          4.013608932495117,
          3.9665234088897705,
          5.384984970092773,
          4.875480651855469,
          3.4150326251983643,
          4.672966480255127,
          4.989223957061768,
          4.998688697814941,
          2.287759780883789,
          5.339151859283447,
          5.431376934051514,
          3.5104122161865234,
          4.717325210571289,
          4.903500556945801,
          4.994168281555176,
          4.093398094177246,
          4.61226224899292,
          3.8835549354553223,
          4.546074390411377,
          3.4360554218292236,
          3.873854637145996,
          4.3045735359191895,
          4.063882350921631,
          3.91243839263916,
          3.635758399963379,
          4.926757335662842,
          3.7856156826019287,
          3.8554649353027344,
          5.156968593597412,
          4.9698567390441895,
          3.9457359313964844,
          3.629124164581299,
          4.703937530517578,
          5.171079158782959,
          5.050055027008057,
          5.182043075561523,
          5.218159198760986,
          5.120034217834473,
          4.097287178039551,
          4.599559783935547,
          5.295508861541748,
          3.9799811840057373,
          3.5641376972198486,
          3.305859088897705,
          4.963572978973389,
          3.9114670753479004,
          4.068886756896973,
          4.823777675628662,
          3.7554543018341064,
          3.32157826423645,
          4.596486568450928,
          4.757969856262207,
          4.992770195007324,
          3.8098788261413574,
          5.434787273406982,
          5.052133560180664,
          3.845911979675293,
          3.480341911315918,
          4.313385009765625,
          4.001471042633057,
          5.399087905883789,
          3.5732994079589844,
          5.005769729614258,
          4.7897210121154785,
          4.6224822998046875,
          4.360626220703125,
          5.359062194824219,
          3.5322000980377197,
          5.204924583435059,
          3.904017210006714,
          5.030614852905273,
          4.451602458953857,
          4.456720352172852,
          3.768603563308716,
          4.5024027824401855,
          5.03065299987793,
          3.9041171073913574,
          2.9587464332580566,
          4.2181806564331055,
          3.294485330581665,
          4.934545993804932,
          3.4739067554473877,
          4.103567123413086,
          4.8044352531433105,
          5.088659763336182,
          5.172122955322266,
          3.542177438735962,
          5.228128433227539,
          3.212374448776245,
          3.460613965988159,
          3.814249277114868,
          4.644593715667725,
          4.517581939697266,
          4.663407802581787,
          4.954462051391602,
          4.270958423614502,
          5.432499408721924,
          5.279958248138428,
          5.375760078430176,
          4.450204372406006,
          5.033027172088623,
          4.160672664642334,
          4.619746208190918,
          4.9623613357543945,
          4.319462776184082,
          5.491157531738281,
          3.4053053855895996,
          4.588055610656738,
          4.75883674621582,
          4.2549567222595215,
          3.5994577407836914,
          3.840792179107666,
          3.881206750869751,
          3.416334629058838,
          5.265866756439209,
          3.436924457550049,
          4.300373077392578,
          3.408351421356201,
          4.260309219360352,
          3.9255635738372803,
          3.6561262607574463,
          4.803617000579834,
          5.274848937988281,
          5.055760383605957,
          4.4682769775390625,
          5.2472686767578125,
          4.001009464263916,
          3.6086442470550537,
          4.605274200439453,
          4.745673179626465,
          4.67847204208374,
          3.6790497303009033,
          5.230626583099365,
          3.293673038482666,
          5.060741424560547,
          5.1880340576171875,
          4.398290634155273,
          3.3982443809509277,
          5.081919193267822,
          4.8730573654174805,
          4.487753868103027,
          5.225290298461914,
          3.3598616123199463,
          4.879920959472656,
          5.290182113647461,
          4.1663289070129395,
          3.4961838722229004,
          2.132596015930176,
          4.5010986328125,
          4.362971305847168,
          5.395219802856445,
          3.926166534423828,
          4.5078277587890625,
          4.587827682495117,
          5.130654335021973,
          3.2610509395599365,
          3.941041946411133,
          4.390811920166016,
          4.818791389465332,
          5.116293430328369,
          3.919560670852661,
          4.7547688484191895,
          3.2003519535064697,
          4.489513874053955,
          4.0015950202941895,
          3.91351056098938,
          3.953068733215332,
          3.8204307556152344,
          3.7104060649871826,
          3.688920259475708,
          3.709965705871582,
          5.37075138092041,
          4.180828094482422,
          3.5713694095611572
         ],
         "yaxis": "y"
        }
       ],
       "layout": {
        "height": 600,
        "legend": {
         "title": {
          "text": "color"
         },
         "tracegroupgap": 0
        },
        "template": {
         "data": {
          "bar": [
           {
            "error_x": {
             "color": "#2a3f5f"
            },
            "error_y": {
             "color": "#2a3f5f"
            },
            "marker": {
             "line": {
              "color": "#E5ECF6",
              "width": 0.5
             },
             "pattern": {
              "fillmode": "overlay",
              "size": 10,
              "solidity": 0.2
             }
            },
            "type": "bar"
           }
          ],
          "barpolar": [
           {
            "marker": {
             "line": {
              "color": "#E5ECF6",
              "width": 0.5
             },
             "pattern": {
              "fillmode": "overlay",
              "size": 10,
              "solidity": 0.2
             }
            },
            "type": "barpolar"
           }
          ],
          "carpet": [
           {
            "aaxis": {
             "endlinecolor": "#2a3f5f",
             "gridcolor": "white",
             "linecolor": "white",
             "minorgridcolor": "white",
             "startlinecolor": "#2a3f5f"
            },
            "baxis": {
             "endlinecolor": "#2a3f5f",
             "gridcolor": "white",
             "linecolor": "white",
             "minorgridcolor": "white",
             "startlinecolor": "#2a3f5f"
            },
            "type": "carpet"
           }
          ],
          "choropleth": [
           {
            "colorbar": {
             "outlinewidth": 0,
             "ticks": ""
            },
            "type": "choropleth"
           }
          ],
          "contour": [
           {
            "colorbar": {
             "outlinewidth": 0,
             "ticks": ""
            },
            "colorscale": [
             [
              0,
              "#0d0887"
             ],
             [
              0.1111111111111111,
              "#46039f"
             ],
             [
              0.2222222222222222,
              "#7201a8"
             ],
             [
              0.3333333333333333,
              "#9c179e"
             ],
             [
              0.4444444444444444,
              "#bd3786"
             ],
             [
              0.5555555555555556,
              "#d8576b"
             ],
             [
              0.6666666666666666,
              "#ed7953"
             ],
             [
              0.7777777777777778,
              "#fb9f3a"
             ],
             [
              0.8888888888888888,
              "#fdca26"
             ],
             [
              1,
              "#f0f921"
             ]
            ],
            "type": "contour"
           }
          ],
          "contourcarpet": [
           {
            "colorbar": {
             "outlinewidth": 0,
             "ticks": ""
            },
            "type": "contourcarpet"
           }
          ],
          "heatmap": [
           {
            "colorbar": {
             "outlinewidth": 0,
             "ticks": ""
            },
            "colorscale": [
             [
              0,
              "#0d0887"
             ],
             [
              0.1111111111111111,
              "#46039f"
             ],
             [
              0.2222222222222222,
              "#7201a8"
             ],
             [
              0.3333333333333333,
              "#9c179e"
             ],
             [
              0.4444444444444444,
              "#bd3786"
             ],
             [
              0.5555555555555556,
              "#d8576b"
             ],
             [
              0.6666666666666666,
              "#ed7953"
             ],
             [
              0.7777777777777778,
              "#fb9f3a"
             ],
             [
              0.8888888888888888,
              "#fdca26"
             ],
             [
              1,
              "#f0f921"
             ]
            ],
            "type": "heatmap"
           }
          ],
          "heatmapgl": [
           {
            "colorbar": {
             "outlinewidth": 0,
             "ticks": ""
            },
            "colorscale": [
             [
              0,
              "#0d0887"
             ],
             [
              0.1111111111111111,
              "#46039f"
             ],
             [
              0.2222222222222222,
              "#7201a8"
             ],
             [
              0.3333333333333333,
              "#9c179e"
             ],
             [
              0.4444444444444444,
              "#bd3786"
             ],
             [
              0.5555555555555556,
              "#d8576b"
             ],
             [
              0.6666666666666666,
              "#ed7953"
             ],
             [
              0.7777777777777778,
              "#fb9f3a"
             ],
             [
              0.8888888888888888,
              "#fdca26"
             ],
             [
              1,
              "#f0f921"
             ]
            ],
            "type": "heatmapgl"
           }
          ],
          "histogram": [
           {
            "marker": {
             "pattern": {
              "fillmode": "overlay",
              "size": 10,
              "solidity": 0.2
             }
            },
            "type": "histogram"
           }
          ],
          "histogram2d": [
           {
            "colorbar": {
             "outlinewidth": 0,
             "ticks": ""
            },
            "colorscale": [
             [
              0,
              "#0d0887"
             ],
             [
              0.1111111111111111,
              "#46039f"
             ],
             [
              0.2222222222222222,
              "#7201a8"
             ],
             [
              0.3333333333333333,
              "#9c179e"
             ],
             [
              0.4444444444444444,
              "#bd3786"
             ],
             [
              0.5555555555555556,
              "#d8576b"
             ],
             [
              0.6666666666666666,
              "#ed7953"
             ],
             [
              0.7777777777777778,
              "#fb9f3a"
             ],
             [
              0.8888888888888888,
              "#fdca26"
             ],
             [
              1,
              "#f0f921"
             ]
            ],
            "type": "histogram2d"
           }
          ],
          "histogram2dcontour": [
           {
            "colorbar": {
             "outlinewidth": 0,
             "ticks": ""
            },
            "colorscale": [
             [
              0,
              "#0d0887"
             ],
             [
              0.1111111111111111,
              "#46039f"
             ],
             [
              0.2222222222222222,
              "#7201a8"
             ],
             [
              0.3333333333333333,
              "#9c179e"
             ],
             [
              0.4444444444444444,
              "#bd3786"
             ],
             [
              0.5555555555555556,
              "#d8576b"
             ],
             [
              0.6666666666666666,
              "#ed7953"
             ],
             [
              0.7777777777777778,
              "#fb9f3a"
             ],
             [
              0.8888888888888888,
              "#fdca26"
             ],
             [
              1,
              "#f0f921"
             ]
            ],
            "type": "histogram2dcontour"
           }
          ],
          "mesh3d": [
           {
            "colorbar": {
             "outlinewidth": 0,
             "ticks": ""
            },
            "type": "mesh3d"
           }
          ],
          "parcoords": [
           {
            "line": {
             "colorbar": {
              "outlinewidth": 0,
              "ticks": ""
             }
            },
            "type": "parcoords"
           }
          ],
          "pie": [
           {
            "automargin": true,
            "type": "pie"
           }
          ],
          "scatter": [
           {
            "fillpattern": {
             "fillmode": "overlay",
             "size": 10,
             "solidity": 0.2
            },
            "type": "scatter"
           }
          ],
          "scatter3d": [
           {
            "line": {
             "colorbar": {
              "outlinewidth": 0,
              "ticks": ""
             }
            },
            "marker": {
             "colorbar": {
              "outlinewidth": 0,
              "ticks": ""
             }
            },
            "type": "scatter3d"
           }
          ],
          "scattercarpet": [
           {
            "marker": {
             "colorbar": {
              "outlinewidth": 0,
              "ticks": ""
             }
            },
            "type": "scattercarpet"
           }
          ],
          "scattergeo": [
           {
            "marker": {
             "colorbar": {
              "outlinewidth": 0,
              "ticks": ""
             }
            },
            "type": "scattergeo"
           }
          ],
          "scattergl": [
           {
            "marker": {
             "colorbar": {
              "outlinewidth": 0,
              "ticks": ""
             }
            },
            "type": "scattergl"
           }
          ],
          "scattermapbox": [
           {
            "marker": {
             "colorbar": {
              "outlinewidth": 0,
              "ticks": ""
             }
            },
            "type": "scattermapbox"
           }
          ],
          "scatterpolar": [
           {
            "marker": {
             "colorbar": {
              "outlinewidth": 0,
              "ticks": ""
             }
            },
            "type": "scatterpolar"
           }
          ],
          "scatterpolargl": [
           {
            "marker": {
             "colorbar": {
              "outlinewidth": 0,
              "ticks": ""
             }
            },
            "type": "scatterpolargl"
           }
          ],
          "scatterternary": [
           {
            "marker": {
             "colorbar": {
              "outlinewidth": 0,
              "ticks": ""
             }
            },
            "type": "scatterternary"
           }
          ],
          "surface": [
           {
            "colorbar": {
             "outlinewidth": 0,
             "ticks": ""
            },
            "colorscale": [
             [
              0,
              "#0d0887"
             ],
             [
              0.1111111111111111,
              "#46039f"
             ],
             [
              0.2222222222222222,
              "#7201a8"
             ],
             [
              0.3333333333333333,
              "#9c179e"
             ],
             [
              0.4444444444444444,
              "#bd3786"
             ],
             [
              0.5555555555555556,
              "#d8576b"
             ],
             [
              0.6666666666666666,
              "#ed7953"
             ],
             [
              0.7777777777777778,
              "#fb9f3a"
             ],
             [
              0.8888888888888888,
              "#fdca26"
             ],
             [
              1,
              "#f0f921"
             ]
            ],
            "type": "surface"
           }
          ],
          "table": [
           {
            "cells": {
             "fill": {
              "color": "#EBF0F8"
             },
             "line": {
              "color": "white"
             }
            },
            "header": {
             "fill": {
              "color": "#C8D4E3"
             },
             "line": {
              "color": "white"
             }
            },
            "type": "table"
           }
          ]
         },
         "layout": {
          "annotationdefaults": {
           "arrowcolor": "#2a3f5f",
           "arrowhead": 0,
           "arrowwidth": 1
          },
          "autotypenumbers": "strict",
          "coloraxis": {
           "colorbar": {
            "outlinewidth": 0,
            "ticks": ""
           }
          },
          "colorscale": {
           "diverging": [
            [
             0,
             "#8e0152"
            ],
            [
             0.1,
             "#c51b7d"
            ],
            [
             0.2,
             "#de77ae"
            ],
            [
             0.3,
             "#f1b6da"
            ],
            [
             0.4,
             "#fde0ef"
            ],
            [
             0.5,
             "#f7f7f7"
            ],
            [
             0.6,
             "#e6f5d0"
            ],
            [
             0.7,
             "#b8e186"
            ],
            [
             0.8,
             "#7fbc41"
            ],
            [
             0.9,
             "#4d9221"
            ],
            [
             1,
             "#276419"
            ]
           ],
           "sequential": [
            [
             0,
             "#0d0887"
            ],
            [
             0.1111111111111111,
             "#46039f"
            ],
            [
             0.2222222222222222,
             "#7201a8"
            ],
            [
             0.3333333333333333,
             "#9c179e"
            ],
            [
             0.4444444444444444,
             "#bd3786"
            ],
            [
             0.5555555555555556,
             "#d8576b"
            ],
            [
             0.6666666666666666,
             "#ed7953"
            ],
            [
             0.7777777777777778,
             "#fb9f3a"
            ],
            [
             0.8888888888888888,
             "#fdca26"
            ],
            [
             1,
             "#f0f921"
            ]
           ],
           "sequentialminus": [
            [
             0,
             "#0d0887"
            ],
            [
             0.1111111111111111,
             "#46039f"
            ],
            [
             0.2222222222222222,
             "#7201a8"
            ],
            [
             0.3333333333333333,
             "#9c179e"
            ],
            [
             0.4444444444444444,
             "#bd3786"
            ],
            [
             0.5555555555555556,
             "#d8576b"
            ],
            [
             0.6666666666666666,
             "#ed7953"
            ],
            [
             0.7777777777777778,
             "#fb9f3a"
            ],
            [
             0.8888888888888888,
             "#fdca26"
            ],
            [
             1,
             "#f0f921"
            ]
           ]
          },
          "colorway": [
           "#636efa",
           "#EF553B",
           "#00cc96",
           "#ab63fa",
           "#FFA15A",
           "#19d3f3",
           "#FF6692",
           "#B6E880",
           "#FF97FF",
           "#FECB52"
          ],
          "font": {
           "color": "#2a3f5f"
          },
          "geo": {
           "bgcolor": "white",
           "lakecolor": "white",
           "landcolor": "#E5ECF6",
           "showlakes": true,
           "showland": true,
           "subunitcolor": "white"
          },
          "hoverlabel": {
           "align": "left"
          },
          "hovermode": "closest",
          "mapbox": {
           "style": "light"
          },
          "paper_bgcolor": "white",
          "plot_bgcolor": "#E5ECF6",
          "polar": {
           "angularaxis": {
            "gridcolor": "white",
            "linecolor": "white",
            "ticks": ""
           },
           "bgcolor": "#E5ECF6",
           "radialaxis": {
            "gridcolor": "white",
            "linecolor": "white",
            "ticks": ""
           }
          },
          "scene": {
           "xaxis": {
            "backgroundcolor": "#E5ECF6",
            "gridcolor": "white",
            "gridwidth": 2,
            "linecolor": "white",
            "showbackground": true,
            "ticks": "",
            "zerolinecolor": "white"
           },
           "yaxis": {
            "backgroundcolor": "#E5ECF6",
            "gridcolor": "white",
            "gridwidth": 2,
            "linecolor": "white",
            "showbackground": true,
            "ticks": "",
            "zerolinecolor": "white"
           },
           "zaxis": {
            "backgroundcolor": "#E5ECF6",
            "gridcolor": "white",
            "gridwidth": 2,
            "linecolor": "white",
            "showbackground": true,
            "ticks": "",
            "zerolinecolor": "white"
           }
          },
          "shapedefaults": {
           "line": {
            "color": "#2a3f5f"
           }
          },
          "ternary": {
           "aaxis": {
            "gridcolor": "white",
            "linecolor": "white",
            "ticks": ""
           },
           "baxis": {
            "gridcolor": "white",
            "linecolor": "white",
            "ticks": ""
           },
           "bgcolor": "#E5ECF6",
           "caxis": {
            "gridcolor": "white",
            "linecolor": "white",
            "ticks": ""
           }
          },
          "title": {
           "x": 0.05
          },
          "xaxis": {
           "automargin": true,
           "gridcolor": "white",
           "linecolor": "white",
           "ticks": "",
           "title": {
            "standoff": 15
           },
           "zerolinecolor": "white",
           "zerolinewidth": 2
          },
          "yaxis": {
           "automargin": true,
           "gridcolor": "white",
           "linecolor": "white",
           "ticks": "",
           "title": {
            "standoff": 15
           },
           "zerolinecolor": "white",
           "zerolinewidth": 2
          }
         }
        },
        "title": {
         "text": "UMAP of the 15 categories"
        },
        "width": 1000,
        "xaxis": {
         "anchor": "y",
         "domain": [
          0,
          1
         ],
         "range": [
          0,
          12
         ],
         "title": {
          "text": "Axis x"
         }
        },
        "yaxis": {
         "anchor": "x",
         "domain": [
          0,
          1
         ],
         "range": [
          1,
          7
         ],
         "title": {
          "text": "Axis y"
         }
        }
       }
      }
     },
     "metadata": {},
     "output_type": "display_data"
    }
   ],
   "source": [
    "#Plot of UMAP\n",
    "\n",
    "user_projected_umap.sort_values(by = 'cluster', inplace=True) #to guarantee color consistency\n",
    "cl_names = user_projected_umap['cluster'].apply(lambda cl: mapping_idx_name[cl])\n",
    "\n",
    "fig = px.scatter(user_projected_umap, x='Axis x', y='Axis y',opacity =1,\n",
    "             color = cl_names ,size_max =50,width=1000, height=600,title = 'UMAP of the 15 categories', range_x=[0,12], range_y =[1,7])\n",
    "\n",
    "fig.show()\n",
    "#fig.write_html(\"cluster_visual_umap.html\")"
   ]
  },
  {
   "attachments": {},
   "cell_type": "markdown",
   "metadata": {},
   "source": [
    "#### Display"
   ]
  },
  {
   "cell_type": "code",
   "execution_count": 72,
   "metadata": {},
   "outputs": [
    {
     "data": {
      "application/vnd.plotly.v1+json": {
       "config": {
        "plotlyServerURL": "https://plot.ly"
       },
       "data": [
        {
         "mode": "markers",
         "name": "Jean-Michel IPA",
         "type": "scatter",
         "visible": true,
         "x": [
          18.047276169772907,
          14.667616564749315,
          5.923413144844566,
          15.135939049690888,
          4.966910633690099,
          7.184598718873909,
          13.068839751431572,
          10.339555620668634,
          11.322101292646222,
          8.75768897192496,
          4.380975177272189,
          11.814816124811506,
          9.393921124270243,
          10.423781961065698,
          6.047573655295086,
          17.82627071818632,
          5.603051621585632,
          17.791674213604143,
          4.741326729651987,
          5.541612259243361,
          11.326783367661745,
          16.778985429628666,
          5.579575113448703,
          16.357066846384047,
          11.332177060306131,
          13.652685008734156,
          20.566690484679462,
          5.99975911462846,
          16.460097412953388,
          9.417237858378803,
          22.64820159362212,
          15.446298688079615,
          5.32280988640151,
          17.553534953012267,
          6.201974470835211,
          15.249717258841079,
          12.810224841927727,
          4.97261265534147,
          8.158876770795343,
          20.473843449626898,
          8.008118919661678,
          6.5507786705258155,
          5.474570285207271,
          12.174955562663518,
          16.1836496550432,
          8.409127058984902,
          4.289739125471407,
          12.632790311099797,
          8.62471954855108,
          11.670074987691544,
          7.282159983285023,
          6.330504665185374,
          5.429657729089542,
          12.578186460315385,
          9.631558199968847,
          7.549733008362677,
          18.557040565586888,
          23.509170022972395,
          5.49202198493271,
          10.327794021505762,
          10.049474956917388,
          15.291477556863173,
          7.610984816358099,
          10.131086913986454,
          19.36956619409802,
          16.397341062806507,
          8.111119486891186,
          10.736991760602846,
          13.77669813781152,
          20.25559805832313,
          20.45622951530965,
          13.46280351299515,
          13.610179176037779,
          16.814518246625607,
          18.047881386844015,
          20.38343928274571,
          17.805402100485367,
          5.027143893906251,
          15.545831616257022,
          6.1557145272173575,
          23.923063465619848,
          9.524267037627805,
          5.303965238293809,
          25.383199411933823,
          20.540249782370072,
          21.774714044633615,
          8.692064414654586,
          20.750461078512497,
          7.469127577072554,
          17.814147609414768,
          12.266345747803971,
          4.992422539348234,
          9.894936915071652,
          10.131227130229155,
          17.90965967786948,
          11.71712297392341,
          20.13186866714518,
          15.97214727054529,
          5.810049437325985,
          8.60309613734211,
          6.648390838307435,
          12.153765222449298,
          19.499429189604697,
          12.234276295225683,
          22.251716444445,
          15.568022034280434,
          9.097284143817527,
          14.076560141749281,
          6.91827909498588,
          15.176727549456663,
          8.4075818314378,
          7.3235004407085125,
          10.402157704955254,
          9.0012369476582,
          16.527281207644595,
          7.083890315725247,
          14.84054654846397,
          19.97345595043672,
          11.76866755533823,
          7.993716913608483,
          5.285556017725031,
          8.435280335103045,
          11.516517285743603,
          7.04211893355682,
          11.548984175819754,
          12.762611265999594,
          5.563711581212729,
          9.714670813689105,
          7.6741296708733815,
          6.468018109217798,
          7.274830366194015,
          25.508080001766814,
          5.672102758760005,
          13.798101076045231,
          11.413407570115861,
          6.169460993606115,
          5.357749015290836,
          12.39669648093008,
          19.47322498733348,
          26.46362460010966,
          9.3691228215583,
          11.998425884177468,
          8.449156958844506,
          14.334765288394692,
          10.26616842688744,
          16.214820955649827,
          8.06764303410462,
          18.015408161895213,
          6.737454124005212,
          9.820986956319144,
          20.504348157868645,
          21.567359748172304,
          12.657457656751752,
          5.936984097643977,
          5.593086011072866,
          15.66289489558055,
          8.08643974129237,
          9.330939082916407,
          12.961627445539884,
          7.929130848565847,
          8.31534722625519,
          11.757140464136135,
          14.158880378003872,
          15.21392098865646,
          17.454389164734835,
          13.248608229370792,
          3.854233879615568,
          5.473909391450624,
          7.157152372555853,
          6.650455286587369,
          17.042322964924768,
          19.57172791791866,
          17.709823521118828,
          6.865011335102466,
          14.04807232879678,
          10.54728485833832,
          7.6244365418542674,
          5.252138261330307,
          11.679198157560991,
          9.127093022801235,
          16.379661543488506,
          27.161990147042996,
          13.020617026101847,
          6.574370411365231,
          10.481421304979419,
          7.294330374264059,
          11.972114412352857,
          8.83376715768715,
          11.131402921966723,
          7.216827933949844,
          8.317677189128128,
          6.740041468299485,
          20.261294623442364,
          26.106979445923603,
          10.922984850074696,
          9.309570785215948,
          21.070378396858384,
          7.276088832606462,
          5.754947036135818,
          18.463781073000185,
          19.884660427021903,
          12.155158095829222,
          5.559710538636931,
          17.979240833030364,
          5.000696446481807,
          18.276545196009508,
          5.88058338410214,
          5.619845248120099,
          12.272352312043138,
          8.262445071931737,
          6.049096061671489,
          6.166280684850473,
          10.114679358197392,
          16.79443085800292,
          17.714445207061665,
          7.270213654377735,
          6.756809284426107,
          10.396799336737322,
          9.11651263458343,
          7.047082739975279,
          14.768102300647266,
          11.146230280491743,
          18.14529645377977,
          32.078935815903435,
          12.246415856374421,
          9.211511350954618,
          12.764338947121646,
          9.250369571096764,
          9.700576988099364,
          10.44776615272605,
          4.993708102004448,
          7.644808928184865,
          9.896878109611459,
          7.746876683965085,
          20.33469763189016,
          14.366790129776932,
          10.698707118760836,
          8.65528828425963,
          9.35633808688534
         ],
         "y": [
          -4.419624301758114,
          -0.7664808354981234,
          -3.6016457001181488,
          0.36451813799441496,
          -0.778015675785906,
          -7.668738445448379,
          -1.0948825571300143,
          -2.828222460182922,
          -4.556585454045102,
          -5.190333047892476,
          1.9409829853738765,
          -6.433656305744414,
          3.624707031789447,
          -1.663646985483941,
          2.210302706002174,
          -3.2501991302517816,
          -3.581255106296572,
          0.882869325503893,
          -3.796841651565842,
          0.9871960519229248,
          -1.174960046618645,
          -5.97266845174593,
          3.146064663538519,
          -1.9214719132894527,
          -0.8921267361078872,
          1.7144009855344062,
          -2.6122051014036103,
          -8.98908907857008,
          -6.692649351310925,
          -4.263873172578599,
          -6.696187206817629,
          -6.763213287691025,
          -5.913266578021861,
          -7.398877582946773,
          -0.9840676657214011,
          -0.2597329092788884,
          -3.584322738309439,
          -1.3423433026590161,
          3.674018483297565,
          -2.350312486217155,
          -3.130517136340597,
          -3.1529798744996262,
          0.5890657250266201,
          -2.0376537847439624,
          0.3096683258841643,
          -1.977825751517994,
          -4.656121358762934,
          -3.0674123529488697,
          -1.7714477691515074,
          -8.677681530012201,
          0.5348423738594266,
          -2.0412224343000798,
          -0.35896914431472343,
          -4.713514627603178,
          0.3622246503126317,
          0.9970621964902785,
          2.0941441695219774,
          -8.87372783589827,
          -7.899285542541424,
          0.8126202756556702,
          -5.000385884656415,
          5.7157946735814456,
          1.7694070134157431,
          -2.363078768681689,
          -3.579067514717875,
          -6.320045245640006,
          0.8567306790568653,
          2.841920871530259,
          -6.3816458369829485,
          -5.1145028025301995,
          -5.877378914322698,
          -5.7910843754332415,
          -6.081817942760468,
          -4.244699307628822,
          -6.368987059966941,
          -8.247440277050522,
          -3.366425786514739,
          -0.3487528570003829,
          1.7553659086570663,
          2.4591530872266807,
          -4.843325610101139,
          4.01638694935242,
          -1.3053364857597807,
          -4.481664309931114,
          3.662318328091557,
          -6.3151924907509756,
          2.8778550334617092,
          0.35695603992091884,
          -0.8722569118440853,
          -9.928833355754438,
          3.0988435009329147,
          -6.849429156966341,
          4.567918623830157,
          -0.5844867411872298,
          -6.432558146138556,
          5.1778814610347395,
          1.3828724676576576,
          -0.0970618359791031,
          -4.985336104692345,
          3.6994181460846094,
          -3.4990583298926996,
          -4.1185922894003175,
          -4.575260661556243,
          -3.7371797412734358,
          -1.8794510576072931,
          -8.000097360362053,
          -2.207727471246923,
          2.0842327008627066,
          1.553647141184066,
          -5.078941217423406,
          4.167169439654249,
          -5.421797102053992,
          0.2705423972413753,
          -1.4763927383248518,
          7.855419327569445,
          -8.10632937131144,
          -3.9088203403721713,
          -5.3407803079754945,
          3.833852131040773,
          0.11145858157716798,
          -3.423459760938363,
          2.108016561172558,
          1.6104559307666728,
          -1.675175786964935,
          3.1627084909638814,
          -2.1497996525465948,
          2.176792828395695,
          3.5369651769401984,
          -4.817580253346013,
          -8.190097848495817,
          4.674199900003857,
          0.811562445449433,
          -4.1599235174511096,
          -7.215701916588441,
          -3.6603682059368494,
          -1.4424589091098299,
          -4.682986568663998,
          -6.549875845301271,
          0.1342629978162386,
          -7.425693713432635,
          0.8881455471015305,
          3.0894904388640074,
          -6.678120267677276,
          -2.8949060640882553,
          -4.869663823985124,
          -5.3515311289031064,
          0.8247937951485145,
          -7.7974338836228565,
          -0.31979175871060184,
          2.7522540072950274,
          -5.801999230626694,
          -4.465703890141493,
          3.0904944296722876,
          -3.573931462451646,
          -0.2891733130904265,
          -9.093583268807715,
          -5.637784423164068,
          -5.605953988984755,
          -7.051603842572474,
          -8.952665719799356,
          1.1695710940567046,
          -4.502616860047219,
          -6.5098654798004505,
          1.1712865161336805,
          0.3065826716732711,
          -1.9774451071021848,
          -6.164169463044675,
          0.821605575858973,
          -5.558878462790592,
          -2.839245018709137,
          -3.433171343309964,
          3.0370282394375123,
          -5.1511543016964465,
          -2.386181892101559,
          -1.763946311431437,
          6.108770044499497,
          5.814584941474731,
          -1.4542106546241935,
          -0.4976283854135716,
          0.1683558232882189,
          0.21695866235855932,
          -5.312104665663612,
          -3.6293805621711845,
          -1.304387840737107,
          -5.817948735916506,
          -0.4194306460931434,
          -3.5890721138624757,
          -2.9412193918418357,
          -6.083996152556499,
          -9.1335522709372,
          4.427338781848874,
          -4.141132616300876,
          -3.0579222852298007,
          -6.252104654890329,
          -3.668834419082211,
          4.794141202028199,
          -6.711857866219844,
          -1.0195304549716735,
          0.5180770662560303,
          -7.296703526808988,
          -2.5016034222088006,
          -6.071765788981584,
          -1.5945549029545512,
          -7.679186328816317,
          -2.1636531806454604,
          -8.231247881247718,
          -4.11414570065012,
          -1.9370473943075281,
          0.8058621377281183,
          -1.5609105810577957,
          2.446677839885845,
          3.6485377356758986,
          -3.762679894861294,
          -9.057563403582348,
          -4.288247717335364,
          -0.6217727348695951,
          -0.7080336141742075,
          -6.340835257197178,
          0.5398859631399672,
          -7.6606707589318805,
          -1.172058749063771,
          -5.16459071518941,
          0.10543325797017683,
          -7.297039676038319,
          -3.112136952196646,
          0.6620979501282812,
          -6.660126926319649,
          -1.0371886950023033,
          7.710512575763851,
          3.5362269956107184,
          -3.4002422814938695,
          -1.2824884288611897,
          -5.620558757307532,
          5.235397247460708,
          -4.850009070010681,
          1.5656462104979536,
          6.037139764924063,
          -2.583702040142076,
          -2.878861378117555
         ]
        },
        {
         "mode": "markers",
         "name": "Ada the explorer",
         "type": "scatter",
         "visible": true,
         "x": [
          -1.2927707748146078,
          2.348664077309784,
          -10.039098367393825,
          -2.594705785424539,
          1.933255700761849,
          -10.806070251344503,
          -11.707770647162638,
          1.4227778102141477,
          -9.492169671615123,
          -7.8440206958880285,
          -9.286791973201067,
          -7.933237321881212,
          -6.476435513268608,
          -9.404181452401867,
          -7.125743340154768,
          -5.2920318049505095,
          2.58083125688617,
          0.0486547284231944,
          0.3990215955509051,
          -0.08211905834721805,
          -1.9696376908156372,
          -8.168741010457198,
          -6.9669553760772684,
          -3.64494720044409,
          0.4945814359637424,
          -11.902931832294568,
          -2.067562644228357,
          -6.294733433228914,
          -4.170424612877951,
          -1.2932735175312888,
          2.553221995366199,
          -9.484221405866064,
          0.18536442145993653,
          3.3806481160665465,
          -5.709539685225047,
          -10.331361974890365,
          4.32715937636242,
          -9.365648103077108,
          -4.5686227500560825,
          -7.377000693227754,
          -7.200998747433379,
          -6.634671875986995,
          0.3682766016915917,
          2.7030099980825586,
          -3.2909452610680443,
          -8.256032120745934,
          -0.17431070404686838,
          -2.232524681797478,
          -0.8800575101906817,
          -4.730115579679962,
          -3.419019878865192,
          -2.796550508419877,
          1.1592462425514094,
          1.1571822117511854,
          -0.2962634078890585,
          -0.7005795893601925,
          3.202669097461246,
          -1.1588380539634755,
          -8.726746477514387,
          -1.2468058521490455,
          -0.8288057555624069,
          -11.531188858704558,
          -6.93874819844593,
          4.351380322847406,
          -2.436926533131931,
          -2.9764520805541648,
          -5.15818686949474,
          2.620577576660247,
          -0.2666308670758278,
          -3.751916942990842,
          -10.489323275484201,
          -9.242565970185202,
          -4.708740104739195,
          -7.413270583965451,
          -7.32346515069009,
          0.42850181575020535,
          -6.180878673539984,
          -1.4723812064305744,
          -7.253867015775728,
          -1.8828054800779497,
          4.259867122685376,
          -9.238036164108848,
          -0.3382570418861104,
          2.13349083454678,
          0.277541769055405,
          -8.64512531852545,
          -7.737556683536615,
          2.620747771915075,
          -7.7058905986986685,
          -2.8016994953900207,
          -2.22892791612945,
          -3.403186079675037,
          2.3736614250951042,
          0.02504941910295698,
          2.3727805753822357,
          -11.306771347361426,
          2.2423173323381027,
          -1.7569156097484475,
          -2.5718992402009095,
          -0.7461589829964715,
          0.599229204446084,
          -7.463019567179884,
          -4.420727576330462,
          -7.7666248360433405,
          -6.585677696744939,
          -5.392186996580287,
          -5.724261084058665,
          -7.581225236144612,
          -9.553781060133717,
          -2.171991527928407,
          -8.338366765647349,
          -7.485584790025114,
          -6.581052757235375,
          -2.2897634485153926,
          -8.32473594023395,
          -2.6622473083546754,
          -0.9356346415087043,
          -7.163490048470762,
          -4.602745754003553,
          1.7320563658076005,
          -5.702971300186611,
          -5.439886796140531,
          -4.666318488938217,
          1.7906251103741844,
          -5.526464788783065,
          2.8616327927244027,
          -0.7360647803465097,
          -10.634542316150846,
          3.5157567095349447,
          -0.296540741851714,
          3.7813295114484586,
          -8.030122660438694,
          -8.836725920695702,
          -1.2260948772384133,
          3.123192719637304,
          -3.556504469913971,
          -1.3114400662064136,
          -5.049144606522493,
          -5.39016997311779,
          -11.893111750561044,
          -0.9967183188010349,
          3.546150146214178,
          1.9740368925729361,
          -9.987971296414571,
          -2.7380712928762434,
          3.0346594716313757,
          0.7468857938826485,
          -1.6543470265246247,
          -7.326487180084344,
          -8.883741111128291,
          -5.513643033965496,
          -11.567591749837002,
          2.9085310287694925,
          -2.4005078551748307,
          -3.464515367421518,
          -2.8879102376638417,
          0.22126897978017881,
          -6.777689292897323,
          -9.123265269992768,
          -1.3459929387378726,
          3.7019288923169333,
          -4.834378458975946,
          1.4387808351931954,
          -0.7551134304161257,
          0.9053274690838512,
          -6.481642794650395,
          -2.727525417386442,
          -3.107324959146912,
          -6.517014614055098,
          -7.343626531021742,
          -7.727681424507228,
          -1.9301763853688725,
          -5.256927183069565,
          -2.9104592420470796,
          -3.1160139223442282,
          -2.1003221983257645,
          -1.9987645642937517,
          -3.916870578186568,
          -6.373983377186452,
          -3.251724111626719,
          2.0814978617266853,
          -4.060087610390246,
          2.756255545294388,
          -9.893182082889812,
          4.815056275342552,
          0.733772993143664,
          -3.0434034394858673,
          -7.701406830446423,
          -8.739221975920444,
          0.24694720470336134,
          -4.026693659715521,
          2.1862919774694345,
          1.573558397718258,
          -2.187113923701778,
          -8.304019927773048,
          1.0649081261751159,
          -9.005738724700882,
          0.6451258703049929,
          -8.333703043871143,
          -9.620822903668934,
          -1.483129984011132,
          -0.679842063398496,
          -6.42639463297053,
          -2.8619068164838444,
          -8.800871402462676,
          -7.64523636110919,
          -3.251060468892673,
          -0.7430104791879764,
          -6.862151286972529,
          -6.565775235961493,
          -5.988966242492598,
          -3.675800219155968,
          -10.747428362378493,
          -7.863040431810518,
          -1.5723650886598675,
          -1.1436929526150603,
          -3.4577439066985067,
          1.6851468853424416,
          -1.1618548692430146,
          -5.553263263691525,
          -9.529793541557458,
          -9.272648043721707,
          1.9235144624422784,
          -4.791555991875547,
          -6.810237231012105,
          -5.317316886504235,
          -8.561993257550323,
          -4.483133547589568,
          1.1878788819027455,
          -8.384878768740148,
          -3.0702092555756777,
          -10.572537634164211,
          -7.899441382382916,
          -11.208856453252142,
          -9.945163636270633,
          -0.2328221167921757,
          -5.8936752050748415,
          -5.336102925106734,
          -6.666159260605412,
          -0.16007816327603944,
          -8.333261886499468,
          -4.922773186928812,
          -0.40766963631841135,
          -5.547607640133639,
          -1.345552596572039,
          1.731016411778024,
          1.8041331296746212,
          0.45000508292958996,
          -0.5134524607058637,
          0.7592402457179194,
          -7.686567791804932,
          -8.490247146821648,
          3.9237436280483964,
          -0.8788652621783132,
          -6.053189880751015,
          0.7952697818505787,
          1.1156102621612725,
          -6.83353858147743,
          3.5447241171149364,
          3.0458847364976824,
          -1.4569041459246541,
          -1.3504861684605423,
          -3.936261874292393,
          -8.520621978956523,
          -0.8867788220683948,
          1.7659045698816787,
          -3.7222852865751066,
          -5.225772946461313,
          -3.6183179358002593,
          2.030653743497881,
          -8.614953215250267,
          -3.2362181539099706,
          -7.975733922823779,
          -10.964137774262813,
          1.1410033423536012,
          -5.2121237640673606,
          -7.409294517804993,
          -9.135614730563267,
          -1.0717158756822727,
          -11.92806255323387,
          -4.645234366580278,
          -5.7887305075016,
          1.3058707568087655,
          -7.485855138792073,
          -4.14744796486641,
          -7.233725734542975,
          -1.7627615231208906,
          3.692591479354144,
          -4.745462550174658,
          -5.734812436940483,
          0.01441795682450127,
          2.8591399472272023,
          -8.758366407187903,
          -0.18061051340084894,
          2.1645007334010202,
          -6.268725417640231,
          -0.14674755525780045,
          2.128862292126323,
          -3.7507815356112117,
          -6.195367960153132,
          -0.6926987048140272,
          -2.9730071928024406,
          0.12422228275075659,
          -4.750797162890911,
          -5.318570330066494,
          -5.682983171875676,
          0.33581421271879375,
          -8.610319225434832,
          -4.3719265733974995,
          3.4696514473808717,
          -8.154982296032609,
          2.9435455306907774,
          -3.813938177863697,
          2.4074148999949383,
          -6.829830437269433,
          3.3619208883666767,
          2.053604212160254,
          1.9985981098401642,
          -0.696947870638238,
          2.2180614427547285,
          4.079086278345376,
          -1.822232845151478,
          -7.029521506421021,
          3.7366929332673102,
          -7.160272729294204,
          -2.7210693838744184,
          4.046512236313134,
          1.8869465182528435,
          -9.883700229135695,
          -7.870957935744602,
          -3.6309349004400597,
          -4.950810453113944,
          -5.496544199883692,
          2.1319998005211827,
          -2.273463482350792,
          2.620173397965334,
          -0.9677046878675553,
          1.3302181265063255,
          -4.038489760524347,
          -1.387530003906727,
          -6.007223236487115,
          -3.1214915509708003,
          -2.4920838315153953,
          -7.251837145368362,
          -1.521821940043441,
          -3.966238675818061,
          -2.5892354965007858,
          -2.4185452587246936,
          3.4850744563928364,
          -4.256532491259683,
          -1.4052659985939888,
          1.6354126643381557,
          -0.7114571469556148,
          -6.5767652851791585,
          3.6838431051620217,
          -0.45296411589242896,
          -11.132211045208875,
          1.6011979905045797,
          2.8569181726569375,
          -5.480898713867145,
          -3.467208880547822,
          -5.34940445017656,
          0.6385338235640861,
          -2.612276601919034,
          -3.5091205376641534,
          -3.2727928619723357,
          -5.394262114171162,
          2.4348569922264374,
          2.3430737817457468,
          -0.14979787028971836,
          -0.541151550394563,
          -0.2972991807037001,
          -5.836836032158208,
          4.796092810892218,
          -4.9808243058294535,
          -7.9660979105504675,
          4.3509145288949185,
          2.0122594043092294,
          2.1946816813886936,
          -0.16916083446636887,
          -2.9880302174102793,
          -9.521491806454168,
          3.1750410906313897,
          -2.659758146690033,
          -5.447940305650797,
          3.3186670359997867,
          -7.812887145456832,
          -4.216805475296809,
          -1.8301446619530375,
          -3.2883449359708066,
          0.4717230750772871,
          -3.473319099009258,
          -1.8894883896291859,
          4.110913664702951
         ],
         "y": [
          -5.231377690857776,
          -2.3344984931751664,
          1.4263877484228207,
          2.3885104920973808,
          -4.743033374149751,
          -4.048946057149942,
          -1.328160437659596,
          2.1174784671202995,
          2.726524432560834,
          3.405447557457388,
          2.0254775982912836,
          0.7069434544069801,
          -1.0294168841540405,
          -2.429011890973165,
          3.181633903427589,
          -0.16710375670436414,
          -8.73076879125534,
          2.9966743364026946,
          -3.3010912787463167,
          -7.480091468537735,
          -0.27582548979740834,
          -4.474794555451874,
          4.080746387897276,
          1.973612465505531,
          -3.9317035349125637,
          -0.8232903488487261,
          -7.5859886889336545,
          -2.5572620857797297,
          1.6787212870266972,
          -2.8490831802131518,
          -6.32879998093985,
          3.9777532876665633,
          -4.897768329316183,
          2.420828843377125,
          3.485833017955498,
          1.8628320825858211,
          -1.2938713627542726,
          -1.8793180620960468,
          -2.4521618656026964,
          2.7422928018481425,
          -2.036447707321258,
          -0.5130079606340916,
          0.41189700615159186,
          -1.2467323114701596,
          -5.968131077584402,
          -0.5860603845856114,
          -1.1579635136144237,
          -5.241430686584433,
          -3.9879731382751324,
          0.12488599104144554,
          0.14260325469085694,
          -1.5579659666235814,
          -4.570469838963536,
          -4.034308942815034,
          1.674679902734717,
          1.8259075092222197,
          -3.5176574473780757,
          -4.456175599644094,
          2.51464506446317,
          -4.959589086234764,
          2.524757905093514,
          1.7855058205572585,
          -7.4494420342090955,
          2.342347411340768,
          2.1377298705843812,
          1.8503443251143472,
          0.512205494996014,
          2.2948138300245016,
          -1.3679201270444576,
          0.8029424540237253,
          -5.280145440047138,
          0.4470080666338328,
          -0.2559119976006507,
          4.07248961202005,
          2.5950743720209104,
          -3.862761150471134,
          4.528976613352517,
          -6.0954229239249695,
          0.9128244213248421,
          -0.7292922527300484,
          -0.8954513838886146,
          5.930424852326593,
          -6.1540052879245115,
          -3.031214774486665,
          0.9789598442056641,
          4.12479602758931,
          -1.348914434607545,
          -2.1924849966646076,
          -3.9790338715533218,
          -0.18361984860839015,
          0.2739670487976614,
          -1.7061491516899376,
          3.1130246762580875,
          -0.40052252502088453,
          -6.726391686472389,
          -4.088901804972904,
          -1.25050569257805,
          -2.5622586546888377,
          -0.8659440631629024,
          2.1103102264377456,
          0.6498964108301077,
          -0.9115501144488746,
          0.10154231835380506,
          0.14895029381527267,
          -5.180649123394975,
          0.9007341439156765,
          2.036291076729306,
          -4.737391734291354,
          3.8457273309066755,
          -7.950353202438597,
          -3.4603895953330994,
          1.9309572205945438,
          -0.7788497311926594,
          -5.330404596526432,
          4.875571478629309,
          1.8231376794154122,
          -3.156547193341456,
          2.228471151744458,
          4.165256240498097,
          3.258758488486336,
          4.527047599385879,
          -6.695512183313172,
          -3.7684828131895216,
          0.619315489769234,
          2.9475372412741896,
          0.7413959236657627,
          4.9996185817608785,
          0.35375490101260243,
          0.772045337707599,
          -0.016761145861315822,
          -0.8147115840009397,
          1.3805367819650398,
          -7.094218718814453,
          0.8102471705297236,
          2.3512467684284077,
          -3.376829089214702,
          1.8123779599548193,
          2.6858747501001043,
          -0.31010786368756993,
          -4.8016811827049795,
          -6.366619826936673,
          -1.3210257781059749,
          -4.768714853095336,
          2.548330084006806,
          -0.15880312080638762,
          1.9246246890584613,
          -2.1448382008440565,
          -0.7451861744280537,
          4.610880882677019,
          5.576098751570547,
          -2.55313345049569,
          4.169888485171782,
          -6.3438456571101245,
          0.32719469434947474,
          -5.278419963864782,
          -5.679055027365975,
          1.4951014825210949,
          5.238076897936624,
          -2.0918040383789864,
          -6.0218543637478,
          -0.692183258153594,
          -0.6162495731323979,
          -2.9267726655149606,
          -5.682854607346228,
          -3.4372156794924056,
          -7.842783523409935,
          -5.666242378300892,
          1.7638374158081334,
          0.10659589531697575,
          -0.845498989583314,
          -4.464553606201829,
          2.6705504208022925,
          -4.7182470029166454,
          -1.0353880887592763,
          -4.434805867890053,
          -1.2425823337503674,
          2.170493255236983,
          0.43394589103587644,
          -3.3049312499429666,
          -2.4254608934004103,
          0.5176537060827823,
          -7.565623060682949,
          0.7176884593693562,
          4.664351402299471,
          -3.1694762592167027,
          0.19023910874475297,
          0.5231503898260117,
          0.18979372929549596,
          -0.887035570484979,
          4.70576065174389,
          1.1192897917128453,
          -7.368907536342481,
          -3.886227128406426,
          -0.8669743469038839,
          -0.8079307324609744,
          -7.718828882539363,
          5.598853231984571,
          -5.762347227179905,
          -0.16794191509779421,
          -2.6223973930135482,
          -4.792676093082215,
          -1.7025438213310735,
          -4.023046416057409,
          -3.3978851947482527,
          4.146814947075252,
          2.809562705505246,
          0.2992310739039268,
          -6.168548280792285,
          4.968615006230728,
          4.452003749855268,
          0.10858088197457552,
          1.9530986272805155,
          -0.7677339543344943,
          -0.7323300781350622,
          -7.221495480313615,
          2.6507127455842654,
          -1.1026588013265408,
          -2.7699483013472896,
          1.4114650641772395,
          -1.7260091994564728,
          -2.0358765444906273,
          -3.7978061998768284,
          -2.563622467230724,
          -7.630403659410941,
          -0.019009038393962358,
          -2.2576335972862807,
          -0.48013558066934203,
          1.3038561081691704,
          -1.2094924834891734,
          0.45470173034342976,
          0.3993138127203228,
          -1.6173802029847772,
          -2.1015014316578653,
          2.4650123384535307,
          -0.06120927727138175,
          -4.63193477407872,
          -2.561419386717222,
          -0.054526431404797064,
          -5.153966182598881,
          -2.1959742856199718,
          4.513616959486024,
          -0.663095597945939,
          3.317922210146281,
          -2.7639467803303837,
          -3.629506571342366,
          1.1564706088975119,
          -0.12417965863615775,
          0.7833013851785825,
          -4.729017189114357,
          -6.097173900550439,
          -0.9439104672015075,
          4.2490797992444085,
          1.4585037222542858,
          -8.352575020162877,
          -3.84306950959762,
          2.813803875230008,
          -1.0187325793985302,
          2.343874624077559,
          -4.617268398764493,
          -0.017952855153180586,
          -5.630894253024164,
          -0.7455260184366407,
          -1.018801097149349,
          -1.2085767465596888,
          -4.514412153090964,
          2.9356373655577173,
          -0.4990911190810841,
          0.1689209748901067,
          1.0779986986730181,
          -6.400691094887818,
          -2.5278370701000097,
          -6.048813933132471,
          0.4389495553344781,
          4.112861115581923,
          -3.200913362637773,
          0.850030306074327,
          -2.8039203529973897,
          -2.3695290145233012,
          -0.7173056244781582,
          -1.1739584125698312,
          -3.0146126514100153,
          3.8543741702675907,
          -6.313091042431552,
          5.042435386322054,
          2.4419104092408483,
          -3.6755642154189747,
          -4.9715504050102535,
          -3.1993303091429524,
          1.4611851354452865,
          2.7926304495112126,
          2.8200219562538322,
          -2.2104996430422434,
          1.6532694431337296,
          -7.5704312531869045,
          -3.8141811226429594,
          -0.32987621828415825,
          -6.123052239900301,
          -2.2876385228591016,
          2.187557125032919,
          -6.285266942686035,
          2.836847689131733,
          -4.211521809131605,
          2.4587126627144067,
          -0.5259986895032498,
          -0.39052405487850567,
          2.2461352334807123,
          3.4112112930297127,
          2.6338643337813448,
          -3.9950082014639823,
          -2.6063262124649413,
          -2.1002143927533186,
          -2.5156703042915702,
          -3.194589586220494,
          -4.753556725505017,
          -2.144988155657592,
          -7.5366251116870515,
          0.9428618125543443,
          -2.105511292551944,
          -6.239011681103803,
          -6.6300827879027455,
          1.2726768937069097,
          -1.7805447393268587,
          3.798231159992641,
          -3.376276797491592,
          -5.28655107816572,
          -3.7541303619707938,
          2.2123900766184086,
          -4.613134459647848,
          2.680704571712017,
          1.5910712567254541,
          3.7916292408289998,
          1.9191329241627038,
          -2.9337974976138317,
          1.0880677439003268,
          1.0974353842214926,
          -6.345064871346143,
          0.7186391168787415,
          -0.7237559257887546,
          -7.958886783921338,
          -2.3791317521712885,
          -7.457724280165468,
          2.0912463400575816,
          -1.7286370890277571,
          -3.1115326987009295,
          -7.982838676178197,
          0.7450448242560052,
          -1.7058222430948702,
          -1.779275357116659,
          -0.6076997991083822,
          -7.857058199309352,
          -6.602998483787005,
          -4.006634740715466,
          -3.7901458648084256,
          -2.7331702881468765,
          -1.643349714008622,
          1.690664444044008,
          0.4276215099282237,
          -3.023388579154495,
          3.1207649870706713,
          2.3078360024733042,
          -0.47230808868225777,
          -1.7427149159057302,
          2.261457991004504,
          -6.606652957292576,
          0.223555679819413,
          -3.675460460647866,
          0.24427546279718343,
          -0.043344828750975756,
          -2.411495942707866,
          -4.671202259078519,
          -1.9146285260915397,
          -8.166431274101551,
          2.179624439544786,
          0.9950725178320514,
          -1.0508154948056867,
          2.0007369393627603,
          0.5826873519405718,
          -3.1489590775892085,
          -0.5516103180222772,
          2.675034522944496,
          -0.8158797094192608,
          3.4416613971563876,
          -4.078649119992056,
          -1.4050137760304142,
          -4.00204542853954,
          -2.873281611244112,
          -2.0220463731881737,
          3.659466772570907,
          -0.44845036153132756,
          -3.1688501193128333,
          -3.179602746179129,
          -5.437799664344656,
          5.584039400397381,
          -0.8853398200512697
         ]
        },
        {
         "mode": "markers",
         "name": "James Bland",
         "type": "scatter",
         "visible": true,
         "x": [
          -9.045058359795243,
          -10.552877482551569,
          -13.956818282063761,
          -3.742206663913885,
          -14.159350076871736,
          -11.785671164409615,
          -14.472610314557176,
          -14.11234285047513,
          -9.731922695156504,
          -6.347506190504251,
          -14.560695175006234,
          -13.280140893043166,
          -7.969155448854251,
          -5.450590764391718,
          -10.952600226579058,
          -10.165204121077378,
          -16.702038964001407,
          -9.077242913742095,
          -15.543064206787028,
          -9.009322356248024,
          -17.250376967539474,
          -2.189400728347902,
          -8.322982496287388,
          -4.718137801360365,
          -14.778977892588056,
          -10.780431662200368,
          -13.621399587465497,
          -11.2822798771388,
          -9.500389008961296,
          -10.782796266846749,
          -11.681824429895789,
          -13.467934082275699,
          -13.415750427253315,
          -16.737007986544523,
          -2.354740374790437,
          -13.074727932807457,
          -9.884173699328725,
          -3.010344707733594,
          -10.253875651182856,
          -3.3887331756670678,
          -1.9369152269486773,
          -13.3032303175216,
          -14.591240187460112,
          -10.400681191521242,
          -5.013447796390927,
          -12.375840191975543,
          -10.062899196958963,
          -10.177135764359926,
          -6.898001663956626,
          -12.996260179941595,
          -11.463112653136294,
          -8.503089503920188,
          -12.757943953085473,
          -11.166264809673054,
          -13.637594782727216,
          -10.079286925912548,
          -10.249737228468977,
          -14.726665081178208,
          -14.830866606723047,
          -11.568195335558293,
          -5.5173207263597615,
          -10.481938025862796,
          -11.894013249156714,
          -11.311010434330441,
          -10.68534279854716,
          -11.803118975926267,
          -13.870602474306418,
          -6.088120385306884,
          -5.48311007295593,
          -13.378563220038187,
          -11.683558453752678,
          -7.691730895256205,
          -10.707693279376228,
          -10.777019008837934,
          -13.718593318963663,
          -9.68466881233856,
          -9.042672959832577,
          -13.507149693057645,
          -6.497467119457436,
          -11.218824624870141,
          -6.161608732558321,
          -10.366815102900029,
          -9.438599932636295,
          -12.93514285270343,
          -9.665809533930465,
          -11.324645909771267,
          -5.196173335288554,
          -11.943125055295734,
          -12.7739715019201,
          -6.575619721048108,
          -7.732762347977818,
          -10.644902769007059,
          -11.255422043390817,
          -12.397056936420956,
          -10.888221478312355,
          -10.521329603551832,
          -9.522324158213879,
          -8.495565605523565,
          -6.907447809965473,
          -8.689077608075186,
          -12.773032999212019,
          -11.43542260833048,
          -10.947224270993381,
          -11.10878738599472,
          -14.816071328278564,
          -11.372252622243282,
          -12.64614630045201,
          -8.767104301311928,
          -12.949532566912437,
          -11.698187182156131,
          -8.140017535396323,
          -3.03343502179589,
          -10.310727542101699,
          -16.448628785751808,
          -12.744736302230598,
          -16.003483307719943,
          -9.03394806182703,
          -13.159990418558797,
          -8.67976202857997,
          -9.468041832096638,
          -12.965467432349064,
          -5.407707647946204,
          -8.203713648003156,
          -2.9306414609308695,
          -9.691422110467549,
          -9.439977537385609,
          -13.958229542588965,
          -12.240540759563688,
          -12.735692404470969,
          -11.954336628480219,
          -9.134341811627209,
          -11.35110919170404,
          -12.396111736029793,
          -10.86187304907539,
          -3.755599709802832,
          -9.759485243607113,
          -8.452660984982339,
          -16.96369092586932,
          -9.088363673715554,
          -10.125552859542044,
          -15.005677309768007
         ],
         "y": [
          -5.489034781759714,
          -8.329755731061779,
          -10.455393624626549,
          -4.664752554642207,
          -8.767415338682767,
          -7.87094089729252,
          -12.295225734867712,
          -9.039114177831454,
          -9.438747112673717,
          -6.353788348521931,
          -9.7044216949123,
          -3.8592448265626365,
          -8.78544966321423,
          -5.157244952274398,
          -3.1995209783364342,
          -5.583422818439342,
          -12.897927472619362,
          -11.021713503039354,
          -12.911098069335006,
          -6.569360002975169,
          -15.227712919470045,
          -8.294290114355183,
          -4.139522809717712,
          -0.659866729821047,
          -13.404649642221823,
          -6.808242303895361,
          -9.703651128640166,
          -6.533072914312937,
          -12.961830528783107,
          2.3593263785435936,
          -8.445587093299064,
          -4.036520806429559,
          -7.827705208670253,
          -14.950009794005773,
          -8.961864600379423,
          -9.25113623634036,
          -9.042220611354558,
          -8.859241027129388,
          -8.40981848101106,
          -1.1186530978161693,
          -7.783552271866706,
          -2.2083515378243943,
          -8.613367305149039,
          -7.278511208999387,
          -8.031704983864682,
          -5.755814931544043,
          -0.9989639849389231,
          -5.321111959726704,
          -6.146839125743969,
          -6.158351845281619,
          -7.133725643744795,
          -5.978993018093206,
          -8.503557115973091,
          -6.487960738088305,
          -6.988120870495797,
          -5.4505075240896055,
          -7.770467486299587,
          -14.383869222087306,
          -7.98957741435905,
          -7.345764822927006,
          -7.108028546837971,
          -2.962895390926315,
          0.6304822575802729,
          -0.31247073040025114,
          3.9272375505685417,
          0.9140805476579488,
          -7.1508007149182236,
          -4.178897078291698,
          -4.395754578993263,
          -10.833357743598967,
          -11.944900980620845,
          -8.217198570378375,
          -6.546377214127563,
          -5.142284248149429,
          -7.906591644252249,
          -4.577932691396185,
          -4.965697510101102,
          -6.893150298857992,
          -5.455711004260988,
          -7.487800665672765,
          -7.5757483597328115,
          -13.20977120092301,
          -1.9156224535813364,
          -5.660194135823082,
          4.286279563005874,
          -3.6375029925840185,
          -9.477589232769624,
          -5.335929949163778,
          -8.501536309767323,
          -8.03453867805854,
          -8.321675667002799,
          -4.204927963369972,
          -10.793330129294283,
          -1.8472501481853534,
          0.6335422334362691,
          -3.2246694554230353,
          -0.5463487412435512,
          1.4107756270884206,
          -5.067891443856618,
          -11.924026940106481,
          -2.686645518933241,
          -5.040102826094637,
          -2.447465569153444,
          -2.1501786126612665,
          -12.769995977516722,
          -3.162706220870834,
          -5.025347505732978,
          -2.4514136996742835,
          0.8472520238752839,
          -7.232693995283171,
          -1.70856409404118,
          -9.869093522301641,
          -3.9711866417626642,
          -16.451589779049087,
          -4.759397045070665,
          -14.890881668000294,
          -1.1694618487186565,
          -10.164419825326085,
          -7.813191445268652,
          -8.234399382334033,
          -6.8412958617743245,
          -11.066753431858874,
          -7.279560433183313,
          -1.8821531390987989,
          -2.898806600320215,
          -4.239364944553349,
          -7.872972391398515,
          0.8311167831063452,
          -2.8327537943971124,
          -3.34551035417236,
          -3.2817860164882298,
          -5.1955196126311955,
          -9.850110464289974,
          -10.214874128118012,
          -11.325161462650986,
          -9.43049760303381,
          -14.961281250011504,
          -11.69019384433968,
          -3.6840168734573724,
          -3.046278389031732,
          -9.852351506386361
         ]
        },
        {
         "mode": "markers",
         "name": "Marcel Stout",
         "type": "scatter",
         "visible": true,
         "x": [
          -8.835708447507772,
          -4.548924393430388,
          -4.887682975563295,
          5.352875973343447,
          2.807580982831128,
          7.744059688354505,
          -5.791028402402691,
          -0.18086315587192422,
          -7.07159990327355,
          1.1808895417741483,
          -2.8685677450087184,
          1.5348166911104564,
          -5.103985493120033,
          5.452264106925884,
          -2.486315681501456,
          1.588191935987807,
          -7.2594930120706485,
          1.2538495920119366,
          0.017791112718281453,
          -1.8158356770718982,
          8.036860164965931,
          3.8616431671026406,
          -2.0247821629910128,
          -2.720742793877755,
          2.2077243997063944,
          -10.75228527654469,
          -3.3216221795410528,
          -8.755271824545327,
          -6.238777880314614,
          3.218431621568972,
          -9.217946598488385,
          -6.66466602765186,
          -4.593619456936669,
          1.0327484773781317,
          3.5430616227942475,
          7.122297660486129,
          -4.999619451895932,
          4.188661904010067,
          -2.465828278163605,
          -10.644043683903663,
          1.6216164404171187,
          3.534865941922705,
          0.6620750883319917,
          -5.811981925157544,
          -2.4616193705823823,
          1.8130121800012096,
          -1.3991430996399894,
          -6.0679658735910635,
          0.7332729316312968,
          -2.591662416892916,
          2.592143693639513,
          -4.207539188528439,
          5.519667158191342,
          5.502829476708171,
          -8.570642984068535,
          8.854839904217979,
          3.7186419914014714,
          -9.491068588569165,
          6.136377478452897,
          6.979194081844773,
          -4.27747684068348,
          4.662371038221359,
          -6.840165365450522,
          2.7987697909660723,
          -2.3680190320944305,
          -1.9602901421082919,
          3.491606957062255,
          0.7969733025077856,
          -0.28129696102686996,
          3.969186247432005,
          1.4269339803644148,
          3.944565678002911,
          6.7773576183193285,
          0.8226132327093691,
          -9.605862202183756,
          -5.467553144091394,
          -9.304406480526746,
          -2.969619200059525,
          4.529640869765096,
          -11.158886273538615,
          -9.77177562152249,
          4.733587178296669,
          1.0764064118782068,
          2.97572506708769,
          -1.4185946064488255,
          0.5191932605366207,
          2.617737771277601,
          -3.0544825800303332,
          2.825923353591775,
          -3.570841611418495,
          11.907575908439702,
          3.8813212248158617,
          8.644647074890864,
          4.377862621538292,
          3.007056449287041,
          2.2614672212105393,
          -3.3066468400766165,
          6.403504773166431,
          -2.5465069104617712,
          -2.336328190322384,
          -4.148478166878181,
          2.413646521973268,
          1.6379268348089926,
          -3.6434957928782135,
          5.438890411340351,
          4.583844376197681,
          -8.011414629606051,
          -9.165210995019,
          1.162373209465898,
          8.001512302237202,
          0.7380668516578417,
          2.8460746420182725,
          -2.3334343697207176,
          4.646861570841104,
          -0.9828593542317057,
          7.6372623393441845,
          -5.075255613605608,
          7.5129202154985215,
          -4.537513410626368,
          8.923386187297655,
          -3.372374596993058,
          4.50781013651341,
          3.440414096977494,
          -5.374549503062806,
          7.5460296522268955,
          -8.71698654258489,
          -5.5253120909640066,
          -2.8957924784265074,
          -7.847696487093234,
          8.59424747333244,
          2.919412732254456,
          0.9450339727697559,
          -1.8906014418965063,
          -8.767123255785071,
          -2.709578590767096,
          1.2775427170483389,
          -9.274694477867202,
          -0.9547514299515361,
          -6.127663363743097,
          1.995703104408224,
          0.8681188967722063,
          1.157303567001745,
          -2.7326580865453605,
          -10.976278460850747,
          -0.904775107818398,
          8.722884248735674,
          -3.578825210144727,
          -9.450675346247227,
          3.069242438754938,
          0.7200325248905873,
          8.142847673293748,
          1.3377006963285731,
          -7.296479382427244,
          -4.108274534110286,
          6.538917065246481,
          4.637168559072171,
          2.310927331791201,
          -9.069443563576773,
          5.51837771666767,
          -8.42559396820159,
          -9.786270064358717,
          5.707495668500254,
          6.894211970170142,
          5.790773286556699,
          0.011463727453366284,
          -9.546904250969517,
          9.912243314524272,
          6.687831890349983,
          -5.392459324239764,
          -10.721928520643353,
          3.7450895633018773,
          1.5018205596166139,
          -9.96872908971165,
          3.5782781167522826,
          -2.2181291107467596,
          -5.2066760109854595,
          -10.27997137163618,
          -0.6850325580695102,
          -2.448092179800832,
          4.235230965645046,
          3.853809497222747,
          12.73129402589828,
          3.5602995872992347,
          6.6823328664519455,
          -11.10902521157014,
          -9.396760618983771,
          -3.954547199412016,
          -3.746190841637047,
          2.370697635324145,
          -0.4119246356765945,
          -5.808355677541386,
          -5.100258152029893,
          -1.0901585655746961,
          -8.397727890505328,
          0.17823822679378937,
          0.7056927317860048
         ],
         "y": [
          7.936108976589645,
          15.272096002559762,
          6.732757519306542,
          3.196156039940412,
          12.289986144464928,
          13.863725102597856,
          8.53033092196334,
          12.106546289113478,
          8.15195117593868,
          4.148542862194779,
          19.444292714673995,
          10.431169967413549,
          11.486002311574415,
          7.6011520952483185,
          11.781112912085998,
          5.758049084048642,
          16.64872280117297,
          7.1211220167703315,
          6.465860137885334,
          22.63573593991097,
          5.979932033497067,
          4.968355793817588,
          8.107877325296647,
          5.87156799671451,
          17.676583469429627,
          12.184342317381422,
          6.511317736049122,
          9.810078403317123,
          19.41718290394146,
          9.781891627692238,
          5.964267924592359,
          18.357971514023877,
          20.173890324007715,
          4.15867502209484,
          9.632596786906936,
          7.596231829361548,
          12.987881188627638,
          4.8681779260665365,
          13.029399905366649,
          11.682935111049762,
          9.57804747644081,
          3.163924215817492,
          6.449984254845363,
          13.027897545938277,
          7.597603313306955,
          4.906069905850692,
          6.332238397430482,
          15.923341005238038,
          5.012707204407973,
          5.708710898685304,
          12.28914327424414,
          13.708141378047653,
          3.760242057136756,
          4.336049322875136,
          10.456965945991465,
          10.866003348765881,
          13.574388374692605,
          15.550769770994279,
          12.265599110731516,
          10.924605602425185,
          6.7158963185555125,
          8.638175086066193,
          20.42557698763684,
          5.797242480593935,
          5.588719293754742,
          6.829294793010276,
          9.50091190223457,
          5.238805784622714,
          7.19955886782886,
          10.32796842034775,
          5.050054259916399,
          1.7906693440688384,
          8.269686612090453,
          10.490807517724837,
          15.583712513351289,
          7.634927923974965,
          33.787698150953425,
          15.682625578964071,
          3.7370307281692217,
          7.839482641784453,
          10.001074814626964,
          6.054350350738157,
          18.083113888732402,
          2.9450657605421586,
          11.974498451360287,
          12.82404282328238,
          8.59101032746973,
          9.01283764387131,
          16.760492292591284,
          5.512068057881506,
          11.376964746964733,
          3.552393479609738,
          11.40160846106437,
          8.201541337571129,
          6.529985021546815,
          4.474870108278844,
          11.189079177820007,
          9.367946036576937,
          6.2360402879398515,
          4.827341404218396,
          8.136577057077867,
          1.7345704361598169,
          12.854820068644305,
          7.290299239830238,
          6.137368020041738,
          7.949293784856811,
          16.419876014640483,
          15.77906065609693,
          3.55197375546377,
          12.837832389241955,
          4.36152715369203,
          2.438882959093803,
          5.72803850533879,
          9.051500923746834,
          10.403783485362963,
          7.926232254142813,
          15.087001366070428,
          5.787030424106236,
          20.09059575264453,
          17.480786804641486,
          19.831411633038197,
          6.4543232904734005,
          9.046024715318525,
          9.676169147760021,
          8.59245338816056,
          13.269010481403447,
          10.524245981733538,
          20.864479856424005,
          7.62882153878859,
          8.650729038004338,
          10.197919076629502,
          7.240204780672657,
          5.232692245988543,
          8.6013269737842,
          6.703838168736983,
          4.911547501083311,
          17.601170764204987,
          5.8343678144429685,
          9.830370690031806,
          6.466434174464551,
          7.745422866307357,
          5.304384777479978,
          5.747766683233734,
          12.518050870761005,
          16.787574381240933,
          11.530081720704247,
          10.223699087591582,
          18.137848501634245,
          5.3496403959888355,
          6.359522358915547,
          7.6980343137148655,
          8.666486956841778,
          10.991541257926993,
          4.89515422305541,
          11.56128467542202,
          5.883411875261639,
          13.041264817139787,
          17.57202840730964,
          6.84907354770738,
          9.190376835588646,
          14.446375533645803,
          11.10726238227214,
          7.08218015293979,
          14.34246514358702,
          3.9362512928750943,
          12.138401955275242,
          15.140034592735395,
          5.263072127459323,
          7.050177977505487,
          5.961983978530048,
          7.915026613028404,
          7.416371991521687,
          17.42517254978379,
          4.132915826437485,
          10.710726731737072,
          11.555173611064516,
          13.660683644189906,
          6.146455930930849,
          5.852069221266652,
          6.231655907623077,
          11.265695091132082,
          11.534694151063574,
          5.19073240379548,
          7.8017063895867205,
          11.180551579033587,
          9.958357037314679,
          6.864176830426933,
          6.713054445685723,
          6.518646078368424,
          6.553432748077408,
          6.0146244308139,
          6.521773269520274,
          4.958123837609365,
          17.055011596671967,
          6.669500953448246,
          3.1654350774754456
         ]
        },
        {
         "mode": "markers",
         "name": "Jean-Michel IPA",
         "type": "scatter",
         "visible": false,
         "x": [
          1.146957278251648,
          1.5394386053085327,
          3.372936725616455,
          1.668722152709961,
          3.6527211666107178,
          2.819798707962036,
          1.8035768270492554,
          2.4677681922912598,
          2.1943469047546387,
          2.3315141201019287,
          4.0853729248046875,
          1.7224899530410767,
          3.1759893894195557,
          2.5657079219818115,
          3.872907876968384,
          1.178392767906189,
          3.1969244480133057,
          1.4576958417892456,
          3.8713643550872803,
          3.5991711616516113,
          2.5407907962799072,
          1.2676352262496948,
          3.5443179607391357,
          1.3803417682647705,
          2.4939894676208496,
          2.0380234718322754,
          0.8752220273017883,
          2.8955557346343994,
          1.205350637435913,
          2.4270896911621094,
          0.6447237730026245,
          1.170222520828247,
          4.096468925476074,
          1.4121931791305542,
          3.5113632678985596,
          1.6711220741271973,
          2.330547571182251,
          3.4479329586029053,
          3.5162441730499268,
          0.9036557078361511,
          2.8461368083953857,
          3.3058741092681885,
          3.8516931533813477,
          2.2853329181671143,
          1.5417702198028564,
          2.9081459045410156,
          3.9039835929870605,
          1.811943531036377,
          3.029409408569336,
          1.836120843887329,
          3.512767791748047,
          3.2763943672180176,
          3.8727283477783203,
          1.7545791864395142,
          2.929236888885498,
          3.3906233310699463,
          1.3315566778182983,
          0.8773960471153259,
          3.875206708908081,
          2.820380687713623,
          2.207411289215088,
          2.231877088546753,
          3.3921234607696533,
          2.4593913555145264,
          0.9671791195869446,
          1.3755751848220825,
          3.139643907546997,
          2.8473927974700928,
          1.5572494268417358,
          0.862421989440918,
          0.7992640137672424,
          1.6531002521514893,
          1.7594103813171387,
          1.1582450866699219,
          1.0283976793289185,
          0.8153099417686462,
          1.2379779815673828,
          3.911557197570801,
          1.8520087003707886,
          3.8336801528930664,
          0.5896105766296387,
          3.3048882484436035,
          3.6776816844940186,
          0.6278907060623169,
          1.2917629480361938,
          0.6948537826538086,
          3.0727453231811523,
          1.1316168308258057,
          3.132598638534546,
          1.4805628061294556,
          2.6148500442504883,
          4.08861780166626,
          3.043703317642212,
          2.6096928119659424,
          0.9175040125846863,
          2.805201768875122,
          1.1728854179382324,
          2.115649938583374,
          2.9495697021484375,
          3.038560628890991,
          3.2036871910095215,
          2.028005361557007,
          0.9737244844436646,
          1.6776148080825806,
          0.9267840385437012,
          1.26612389087677,
          2.6463112831115723,
          1.9230570793151855,
          3.4793848991394043,
          1.54849112033844,
          3.4641013145446777,
          2.704313039779663,
          2.908646583557129,
          2.842381238937378,
          2.049609661102295,
          3.4890081882476807,
          1.5334309339523315,
          0.9364222884178162,
          2.636103391647339,
          3.313992738723755,
          3.348668098449707,
          3.0588057041168213,
          2.8358497619628906,
          3.011699914932251,
          2.822418451309204,
          2.25154447555542,
          3.972874879837036,
          2.973473310470581,
          2.898615598678589,
          3.718395233154297,
          3.5804381370544434,
          0.9925864934921265,
          3.5342278480529785,
          1.6226602792739868,
          2.202974557876587,
          3.4921720027923584,
          3.6875321865081787,
          1.9153919219970703,
          1.192439317703247,
          0.6561523675918579,
          2.8738179206848145,
          2.6027328968048096,
          2.523111581802368,
          1.8121217489242554,
          2.2734873294830322,
          1.2713969945907593,
          3.2631561756134033,
          1.1847641468048096,
          3.378162145614624,
          2.712808847427368,
          0.769668698310852,
          0.9165047407150269,
          2.4989516735076904,
          3.341114044189453,
          3.7201521396636963,
          1.0960602760314941,
          2.8456664085388184,
          2.0418307781219482,
          1.5763825178146362,
          2.4494986534118652,
          3.2353005409240723,
          1.8486506938934326,
          1.5951690673828125,
          1.6797878742218018,
          1.4088404178619385,
          1.7809505462646484,
          4.564462184906006,
          3.9825284481048584,
          2.952188014984131,
          3.349654197692871,
          1.242173194885254,
          1.2742677927017212,
          1.2500810623168945,
          3.353341817855835,
          1.7591707706451416,
          3.4755165576934814,
          3.628824234008789,
          3.5641427040100098,
          2.484078884124756,
          2.921053409576416,
          1.4966363906860352,
          0.690068244934082,
          1.8589040040969849,
          3.279994487762451,
          2.123943567276001,
          3.2704522609710693,
          2.156662702560425,
          2.962491512298584,
          2.1227939128875732,
          3.477027654647827,
          3.3665096759796143,
          3.064448356628418,
          0.8682407140731812,
          0.5970636010169983,
          2.2968602180480957,
          3.333275318145752,
          0.7266546487808228,
          3.292578935623169,
          3.742464065551758,
          0.9534188508987427,
          0.9950612187385559,
          1.9564261436462402,
          3.502347230911255,
          0.8060377240180969,
          3.4784915447235107,
          0.7653348445892334,
          3.311354875564575,
          3.464998960494995,
          2.4144253730773926,
          2.9551174640655518,
          3.553851366043091,
          3.7595527172088623,
          2.679868459701538,
          1.4901388883590698,
          1.0738869905471802,
          3.190870761871338,
          3.318972110748291,
          2.035109758377075,
          2.897477865219116,
          3.4447054862976074,
          1.5242623090744019,
          2.049332857131958,
          1.3316049575805664,
          0.5804387331008911,
          2.5479819774627686,
          2.7661564350128174,
          1.7797503471374512,
          2.8705310821533203,
          3.7423763275146484,
          2.953389883041382,
          3.7623531818389893,
          3.1944167613983154,
          2.2995405197143555,
          3.834573268890381,
          0.8814242482185364,
          1.8740746974945068,
          3.4552557468414307,
          2.7826430797576904,
          2.6205172538757324
         ],
         "y": [
          2.94599986076355,
          3.210548162460327,
          2.2049381732940674,
          3.4618728160858154,
          2.7818334102630615,
          1.846914291381836,
          3.0143697261810303,
          2.21120285987854,
          2.3216702938079834,
          2.2490720748901367,
          3.332711935043335,
          2.4403491020202637,
          3.465719699859619,
          2.817960023880005,
          3.323176622390747,
          3.1621880531311035,
          2.0111162662506104,
          3.546509027481079,
          1.7243202924728394,
          2.4864070415496826,
          2.7943577766418457,
          2.6133921146392822,
          3.643866777420044,
          2.9907443523406982,
          2.9315998554229736,
          3.5854403972625732,
          3.038184881210327,
          1.7399262189865112,
          2.6335864067077637,
          2.298288345336914,
          2.9782462120056152,
          2.564253807067871,
          1.4721497297286987,
          2.2181613445281982,
          2.422074556350708,
          3.3760945796966553,
          2.56180739402771,
          2.323340892791748,
          3.726055860519409,
          3.1844615936279297,
          2.473839282989502,
          2.284543037414551,
          2.5365381240844727,
          2.8327105045318604,
          3.488661766052246,
          2.5200140476226807,
          1.6194334030151367,
          2.824829578399658,
          2.4985885620117188,
          2.125039577484131,
          2.9636433124542236,
          2.054569959640503,
          2.5928006172180176,
          2.6459574699401855,
          3.268976926803589,
          2.974461317062378,
          3.5279135704040527,
          2.5871238708496094,
          1.2627038955688477,
          3.2719061374664307,
          2.1981146335601807,
          3.6170456409454346,
          3.5263237953186035,
          2.6167681217193604,
          2.971158504486084,
          2.369136095046997,
          3.193121910095215,
          3.6594889163970947,
          2.4693338871002197,
          2.78623104095459,
          3.077256679534912,
          2.5808169841766357,
          2.092355251312256,
          2.82816481590271,
          2.6589832305908203,
          2.7602434158325195,
          3.0582542419433594,
          2.460057497024536,
          3.633516311645508,
          3.251776695251465,
          3.0518150329589844,
          3.8350799083709717,
          2.1110050678253174,
          3.0544497966766357,
          3.5496532917022705,
          2.9558911323547363,
          3.239039659500122,
          3.460123300552368,
          2.7183609008789062,
          2.1458652019500732,
          3.5678870677948,
          1.202236294746399,
          3.9792916774749756,
          2.786513566970825,
          2.6711323261260986,
          3.877704620361328,
          3.4654314517974854,
          3.1870086193084717,
          1.8761473894119263,
          3.771446943283081,
          2.0739521980285645,
          2.480178117752075,
          2.9637932777404785,
          2.873058557510376,
          3.298658609390259,
          2.555263042449951,
          2.575986862182617,
          3.564842462539673,
          3.553525924682617,
          2.4469194412231445,
          3.816413640975952,
          2.093951940536499,
          3.0791563987731934,
          2.7842137813568115,
          3.7827861309051514,
          1.2381101846694946,
          2.8054144382476807,
          2.9927384853363037,
          3.8543124198913574,
          2.9189846515655518,
          2.2333333492279053,
          3.007956027984619,
          3.4148595333099365,
          2.6702349185943604,
          3.6139745712280273,
          2.9548873901367188,
          2.879049301147461,
          3.6134138107299805,
          2.1320488452911377,
          1.2953605651855469,
          3.681163787841797,
          3.362637758255005,
          2.1202569007873535,
          2.3953373432159424,
          2.232619285583496,
          2.338895559310913,
          1.7635987997055054,
          2.3870720863342285,
          3.4065115451812744,
          2.9704713821411133,
          3.047980546951294,
          3.650474786758423,
          2.0097758769989014,
          2.622560501098633,
          2.3939049243927,
          2.6770122051239014,
          3.227818250656128,
          2.566648006439209,
          2.3603601455688477,
          3.724161148071289,
          2.8103106021881104,
          2.9028875827789307,
          3.737034559249878,
          1.9521701335906982,
          2.55802845954895,
          2.609067916870117,
          2.0110716819763184,
          2.4916820526123047,
          2.468942880630493,
          1.8619234561920166,
          3.170395612716675,
          2.645127773284912,
          2.265943765640259,
          3.561668872833252,
          3.403324842453003,
          2.929710865020752,
          0.6395993232727051,
          2.595705032348633,
          1.9835671186447144,
          1.9822858572006226,
          2.9011611938476562,
          3.5019004344940186,
          2.4997074604034424,
          2.3820900917053223,
          2.9352080821990967,
          4.232151508331299,
          4.2248077392578125,
          2.17364501953125,
          2.7145063877105713,
          2.6550800800323486,
          3.413472890853882,
          3.071841239929199,
          2.7161741256713867,
          2.4142978191375732,
          2.23372220993042,
          2.479949474334717,
          2.5521018505096436,
          2.336829423904419,
          2.2314975261688232,
          1.2015916109085083,
          3.789123773574829,
          1.9865604639053345,
          3.1450753211975098,
          3.051136016845703,
          2.6205899715423584,
          3.7523036003112793,
          2.8395864963531494,
          2.6921803951263428,
          2.623023271560669,
          2.614964246749878,
          3.2935850620269775,
          2.206042766571045,
          2.343322277069092,
          2.720289707183838,
          2.0824875831604004,
          3.0254387855529785,
          2.0179972648620605,
          2.1992580890655518,
          3.1743271350860596,
          2.475916862487793,
          3.3450777530670166,
          3.6030497550964355,
          2.1912128925323486,
          2.0886452198028564,
          3.2114546298980713,
          2.591541290283203,
          2.556304454803467,
          1.9907547235488892,
          2.99109148979187,
          1.3684957027435303,
          3.2871875762939453,
          2.3946735858917236,
          3.4834866523742676,
          3.1225967407226562,
          2.634610176086426,
          3.2190983295440674,
          2.0187578201293945,
          2.757153034210205,
          4.4893364906311035,
          3.5631978511810303,
          1.9109562635421753,
          2.8336241245269775,
          2.121039628982544,
          4.074470043182373,
          2.886197328567505,
          3.582263708114624,
          4.275558948516846,
          2.150987148284912,
          2.8930866718292236
         ]
        },
        {
         "mode": "markers",
         "name": "Ada the explorer",
         "type": "scatter",
         "visible": false,
         "x": [
          5.675100326538086,
          4.315097808837891,
          8.25485897064209,
          6.532486915588379,
          4.556022644042969,
          7.174174785614014,
          7.316892623901367,
          4.777734756469727,
          8.201004981994629,
          7.557907581329346,
          7.368031024932861,
          7.1732964515686035,
          7.120772838592529,
          7.714964389801025,
          7.8747687339782715,
          6.9612345695495605,
          4.672738552093506,
          5.285933494567871,
          5.181064128875732,
          5.080333709716797,
          5.843582630157471,
          7.749871730804443,
          7.591902732849121,
          6.681000709533691,
          4.832268238067627,
          7.5248236656188965,
          5.450439453125,
          6.951575756072998,
          6.696237087249756,
          5.8014631271362305,
          4.543254852294922,
          8.187337875366211,
          5.211304664611816,
          4.194709777832031,
          6.927270412445068,
          7.619155406951904,
          3.8058784008026123,
          7.327656269073486,
          7.052906036376953,
          7.6080756187438965,
          7.669551849365234,
          6.941637992858887,
          5.294270992279053,
          4.6802496910095215,
          5.679466724395752,
          8.162444114685059,
          5.568395137786865,
          5.855837345123291,
          5.446831703186035,
          6.260693073272705,
          6.095046520233154,
          5.061052322387695,
          4.848057270050049,
          5.131771087646484,
          5.821079254150391,
          5.658536434173584,
          4.1060919761657715,
          5.424117088317871,
          7.550726413726807,
          5.505185127258301,
          5.561294078826904,
          7.484377384185791,
          6.775963306427002,
          4.091747760772705,
          6.451839923858643,
          6.492090702056885,
          7.117671966552734,
          4.8041181564331055,
          5.3125152587890625,
          5.66077184677124,
          7.416975975036621,
          6.926411151885986,
          6.9726386070251465,
          7.476831912994385,
          7.770208358764648,
          4.855446815490723,
          6.973785877227783,
          5.37750244140625,
          7.475503921508789,
          6.379370212554932,
          3.8336849212646484,
          7.361184597015381,
          5.208239555358887,
          4.754974842071533,
          5.411345958709717,
          7.328908443450928,
          7.751016616821289,
          4.622979640960693,
          7.053115367889404,
          6.181766510009766,
          5.982351303100586,
          6.225604057312012,
          5.377132892608643,
          5.236144065856934,
          4.4320502281188965,
          7.793013572692871,
          4.546999454498291,
          5.739567756652832,
          5.903872966766357,
          6.006782531738281,
          5.286180019378662,
          7.3106889724731445,
          7.246354579925537,
          7.2268900871276855,
          8.070295333862305,
          7.043057441711426,
          7.090095520019531,
          7.903743267059326,
          7.54892635345459,
          5.672593116760254,
          7.388149261474609,
          7.99118185043335,
          7.0125813484191895,
          5.742827415466309,
          7.307916641235352,
          6.574391841888428,
          5.618813514709473,
          7.668207168579102,
          6.832180500030518,
          5.271430015563965,
          7.4382195472717285,
          6.8150315284729,
          6.453650951385498,
          4.806283473968506,
          7.326362609863281,
          4.462789058685303,
          6.160032272338867,
          7.181950569152832,
          4.297316551208496,
          5.473926544189453,
          3.9734506607055664,
          7.921321392059326,
          7.137226104736328,
          5.743821620941162,
          4.6215949058532715,
          6.182476997375488,
          6.485199928283691,
          6.805823802947998,
          7.150054931640625,
          7.388357162475586,
          5.271381378173828,
          3.8729631900787354,
          4.757380962371826,
          7.517993927001953,
          6.514204502105713,
          4.375197887420654,
          4.905938625335693,
          6.391748428344727,
          7.394379615783691,
          7.420705318450928,
          6.4098358154296875,
          7.614279747009277,
          4.840147972106934,
          6.456488609313965,
          6.132678031921387,
          5.766512393951416,
          6.0517683029174805,
          6.093705654144287,
          8.062479972839355,
          5.396681308746338,
          4.527347087860107,
          6.80772590637207,
          4.866774559020996,
          5.3716535568237305,
          4.7654643058776855,
          6.686541557312012,
          5.952733516693115,
          6.49306058883667,
          7.170450210571289,
          7.6248626708984375,
          7.307134628295898,
          6.041853427886963,
          6.207458019256592,
          6.255101203918457,
          6.372760772705078,
          5.932216644287109,
          5.820926189422607,
          6.178454399108887,
          7.258538246154785,
          6.202252388000488,
          4.630670070648193,
          5.876707553863525,
          4.527963638305664,
          7.817260265350342,
          4.557191371917725,
          4.7666449546813965,
          6.610339164733887,
          7.891930103302002,
          7.613086223602295,
          5.758357524871826,
          6.9320969581604,
          4.465117931365967,
          4.77289342880249,
          6.426126480102539,
          7.15517520904541,
          5.024277687072754,
          7.434937953948975,
          5.13508415222168,
          7.150815010070801,
          7.37569522857666,
          5.661122798919678,
          5.452605247497559,
          7.365534782409668,
          5.766074180603027,
          7.602839469909668,
          7.033456802368164,
          6.171678066253662,
          5.241065502166748,
          6.949887275695801,
          7.956528186798096,
          6.948442459106445,
          6.565892696380615,
          7.372568130493164,
          6.94245719909668,
          5.398697853088379,
          5.986011981964111,
          5.787947177886963,
          4.706387042999268,
          5.597430229187012,
          7.149890422821045,
          7.848647594451904,
          7.473807334899902,
          4.695965766906738,
          6.706490993499756,
          7.061966419219971,
          6.907526016235352,
          7.812167167663574,
          6.060274600982666,
          5.02745246887207,
          7.281535625457764,
          5.924808979034424,
          7.729498386383057,
          7.524250507354736,
          7.629788398742676,
          7.037439823150635,
          5.46935510635376,
          7.038794994354248,
          6.797833442687988,
          7.017739772796631,
          5.628469467163086,
          7.4158616065979,
          7.06695032119751,
          4.987146377563477,
          6.821066856384277,
          5.269772529602051,
          4.660010814666748,
          4.736841201782227,
          5.109349250793457,
          5.3794121742248535,
          5.283951759338379,
          7.714448928833008,
          7.120206832885742,
          4.130683898925781,
          5.348260879516602,
          6.795843601226807,
          5.037108421325684,
          5.041286945343018,
          7.155943393707275,
          4.266672134399414,
          3.9059340953826904,
          5.275172710418701,
          6.361848831176758,
          6.358705520629883,
          7.383347988128662,
          5.480886936187744,
          5.175464153289795,
          6.4601898193359375,
          7.354605197906494,
          6.678618907928467,
          4.890403747558594,
          7.904792785644531,
          6.167891979217529,
          7.246540069580078,
          8.363195419311523,
          5.220379829406738,
          7.357048034667969,
          7.874526023864746,
          6.96557092666626,
          5.722703456878662,
          7.422468185424805,
          6.617514133453369,
          7.656288146972656,
          4.769250869750977,
          7.041565418243408,
          6.673630237579346,
          7.137943267822266,
          5.740148067474365,
          4.39394998550415,
          7.0817999839782715,
          7.481607913970947,
          5.002264976501465,
          4.433401107788086,
          7.339103698730469,
          5.385707378387451,
          4.780092716217041,
          7.055214881896973,
          5.321572780609131,
          4.63956880569458,
          5.998265266418457,
          7.471700191497803,
          5.902638912200928,
          6.484160900115967,
          5.351358890533447,
          7.159320831298828,
          7.041589260101318,
          6.779833793640137,
          5.618179798126221,
          8.162704467773438,
          6.4394731521606445,
          3.6152498722076416,
          6.992883205413818,
          4.420800685882568,
          6.246589660644531,
          4.875608444213867,
          6.777997016906738,
          4.4367265701293945,
          4.264218330383301,
          4.485918998718262,
          5.175751209259033,
          4.744406223297119,
          4.1203765869140625,
          6.291399002075195,
          8.161652565002441,
          4.651062965393066,
          7.92139196395874,
          5.999746322631836,
          4.603541374206543,
          4.675818920135498,
          7.312828063964844,
          8.154565811157227,
          6.534826755523682,
          7.471731662750244,
          7.007816314697266,
          4.537106037139893,
          6.27779483795166,
          4.923299789428711,
          5.826237678527832,
          4.6376848220825195,
          5.994280815124512,
          5.528614044189453,
          6.837523460388184,
          5.483359336853027,
          6.4890642166137695,
          8.067926406860352,
          5.432018756866455,
          6.971398830413818,
          6.31962776184082,
          5.832177639007568,
          3.884981155395508,
          6.113067626953125,
          5.270474433898926,
          5.160995960235596,
          5.255723476409912,
          7.829159259796143,
          3.98473858833313,
          5.441890716552734,
          8.026782035827637,
          4.595920562744141,
          4.388974666595459,
          7.534792423248291,
          6.270873069763184,
          7.091832637786865,
          4.691350936889648,
          5.762614727020264,
          6.301167011260986,
          6.227644443511963,
          6.975286960601807,
          4.87996244430542,
          4.53447151184082,
          5.449145793914795,
          5.961277484893799,
          5.099647045135498,
          7.212716579437256,
          4.116100788116455,
          6.533627033233643,
          7.0171589851379395,
          3.9592928886413574,
          5.020686626434326,
          4.35719108581543,
          5.959228992462158,
          6.594081878662109,
          7.713868618011475,
          4.571953773498535,
          5.8108601570129395,
          7.012587547302246,
          4.490208148956299,
          7.3311920166015625,
          6.602183818817139,
          5.445428848266602,
          6.451861381530762,
          4.972400665283203,
          5.913496494293213,
          6.115673542022705,
          4.232831954956055
         ],
         "y": [
          0.7742586731910706,
          1.9184598922729492,
          1.6202232837677002,
          2.3003313541412354,
          1.149179220199585,
          0.8460352420806885,
          2.8470520973205566,
          2.5932133197784424,
          1.9066529273986816,
          2.414001226425171,
          1.4052456617355347,
          2.7103657722473145,
          2.4910523891448975,
          1.3325839042663574,
          2.455965042114258,
          1.3323943614959717,
          0.6247492432594299,
          2.7081618309020996,
          1.9281699657440186,
          1.0179444551467896,
          2.049215793609619,
          0.696053683757782,
          2.3432841300964355,
          1.7975770235061646,
          1.2551597356796265,
          2.9208600521087646,
          0.3635835349559784,
          0.8718381524085999,
          1.9125051498413086,
          1.466722846031189,
          1.0726162195205688,
          2.0291190147399902,
          0.9739559292793274,
          2.849762439727783,
          2.7101986408233643,
          2.4628210067749023,
          2.1728713512420654,
          1.0197519063949585,
          2.555210828781128,
          2.41719651222229,
          1.589084267616272,
          2.0377252101898193,
          2.070401668548584,
          2.2135961055755615,
          0.5678937435150146,
          0.8896647095680237,
          2.579961061477661,
          1.054396390914917,
          1.123619794845581,
          2.146700620651245,
          1.7846760749816895,
          2.734522819519043,
          0.9096627235412598,
          1.0151649713516235,
          2.93560791015625,
          2.518550395965576,
          1.729986310005188,
          0.7286292910575867,
          2.85494065284729,
          1.150305986404419,
          3.0955617427825928,
          3.0321028232574463,
          0.8644706010818481,
          2.87553071975708,
          1.9067384004592896,
          2.678999423980713,
          2.4923346042633057,
          2.985173225402832,
          1.783698320388794,
          2.084420680999756,
          0.8636147379875183,
          2.051443338394165,
          2.3553073406219482,
          3.0256636142730713,
          2.660745143890381,
          0.9824947118759155,
          3.042868137359619,
          0.5022995471954346,
          2.108842372894287,
          2.1519603729248047,
          2.315255641937256,
          3.3311924934387207,
          0.9031276106834412,
          1.4650155305862427,
          2.394089698791504,
          2.993406057357788,
          1.2363879680633545,
          1.4316145181655884,
          2.1625778675079346,
          1.8854572772979736,
          1.5728269815444946,
          1.6792547702789307,
          3.2239789962768555,
          1.6974222660064697,
          1.2310750484466553,
          1.5005691051483154,
          2.217808723449707,
          1.3818286657333374,
          1.488545536994934,
          2.82568359375,
          2.4719362258911133,
          1.0412362813949585,
          1.931129813194275,
          2.4159233570098877,
          0.7354393005371094,
          2.0979268550872803,
          2.8272788524627686,
          0.6552624702453613,
          2.6846587657928467,
          0.6630755066871643,
          0.670924723148346,
          1.8997498750686646,
          1.5316119194030762,
          0.9532569050788879,
          3.1299307346343994,
          1.7768439054489136,
          1.3356518745422363,
          2.109546422958374,
          3.0634632110595703,
          3.2936556339263916,
          2.9589807987213135,
          0.501969575881958,
          1.060963749885559,
          2.845604181289673,
          3.033630847930908,
          2.8977737426757812,
          3.371674060821533,
          1.2400308847427368,
          2.7821619510650635,
          2.269660472869873,
          2.1570825576782227,
          1.8200594186782837,
          0.26925739645957947,
          2.230203151702881,
          3.165968179702759,
          0.907832682132721,
          1.8684604167938232,
          1.8381950855255127,
          1.6886990070343018,
          1.3032596111297607,
          0.5692179799079895,
          2.150668144226074,
          0.8338664770126343,
          2.552466630935669,
          2.8038811683654785,
          2.9939815998077393,
          1.728299617767334,
          2.1585187911987305,
          3.2245357036590576,
          3.231302261352539,
          1.7207969427108765,
          3.1311235427856445,
          0.6975032091140747,
          2.110102415084839,
          0.8606413006782532,
          0.3612862825393677,
          2.8921327590942383,
          2.6629128456115723,
          1.3744916915893555,
          0.5099431276321411,
          1.5075870752334595,
          1.8343846797943115,
          0.9911842942237854,
          1.7440359592437744,
          0.9710071086883545,
          0.8634029030799866,
          0.9625882506370544,
          2.820382595062256,
          2.0214810371398926,
          1.0817166566848755,
          0.9969670176506042,
          3.0010123252868652,
          0.4522188901901245,
          1.5307964086532593,
          1.2036511898040771,
          1.7591243982315063,
          2.5018746852874756,
          2.211641311645508,
          0.6895388960838318,
          1.2050528526306152,
          2.356032133102417,
          0.354897141456604,
          1.612890601158142,
          2.300262689590454,
          1.6512938737869263,
          2.3911218643188477,
          2.835759401321411,
          1.858625888824463,
          0.8800591230392456,
          3.374127149581909,
          2.7905948162078857,
          1.0838985443115234,
          1.4282772541046143,
          2.8033957481384277,
          2.5534214973449707,
          0.4532800316810608,
          3.0567588806152344,
          0.8895772695541382,
          2.620163679122925,
          1.2504090070724487,
          0.9551531076431274,
          1.9196668863296509,
          0.49229896068573,
          0.7441809773445129,
          2.5949485301971436,
          1.6532756090164185,
          2.3059744834899902,
          0.44697561860084534,
          3.419853687286377,
          2.2016563415527344,
          2.3625574111938477,
          2.252969264984131,
          2.800950050354004,
          1.651757001876831,
          0.5492855906486511,
          3.0993547439575195,
          1.7190463542938232,
          1.5333060026168823,
          2.3355963230133057,
          1.4470133781433105,
          0.6232348084449768,
          1.231693983078003,
          1.6560235023498535,
          0.2790777087211609,
          1.6521915197372437,
          1.313432216644287,
          1.7648957967758179,
          2.2492268085479736,
          1.758248209953308,
          1.6263548135757446,
          2.02931809425354,
          1.7973577976226807,
          1.6174145936965942,
          2.4519920349121094,
          1.242958664894104,
          1.272586703300476,
          1.0168756246566772,
          1.5967174768447876,
          0.9352594614028931,
          2.4058761596679688,
          3.1580393314361572,
          2.6397149562835693,
          3.095306158065796,
          1.1672307252883911,
          1.5682929754257202,
          2.659846544265747,
          2.147273063659668,
          2.5057764053344727,
          1.2280488014221191,
          0.8304473757743835,
          1.4535503387451172,
          3.91255784034729,
          2.838608741760254,
          0.3012504279613495,
          1.3735437393188477,
          2.7159740924835205,
          2.105031967163086,
          3.3444602489471436,
          2.0021347999572754,
          2.449803590774536,
          0.501395583152771,
          2.1458263397216797,
          1.633042573928833,
          1.3495702743530273,
          1.890038251876831,
          3.209927558898926,
          1.3950093984603882,
          1.4359991550445557,
          2.682637929916382,
          0.8319304585456848,
          1.4015523195266724,
          0.7857593894004822,
          2.947929620742798,
          1.9510012865066528,
          1.6170451641082764,
          2.6799309253692627,
          0.834540605545044,
          1.1723726987838745,
          1.2505557537078857,
          2.895372152328491,
          1.269620418548584,
          2.5231146812438965,
          0.6884484887123108,
          3.8101966381073,
          2.207509756088257,
          0.5574578642845154,
          0.8920046091079712,
          1.4950923919677734,
          2.362565755844116,
          1.564074993133545,
          2.9079060554504395,
          1.95177161693573,
          3.103802442550659,
          1.104526162147522,
          1.304069995880127,
          2.3299672603607178,
          0.5578650832176208,
          1.0683873891830444,
          2.4290127754211426,
          0.5689792037010193,
          3.17113995552063,
          0.9037088751792908,
          2.8304085731506348,
          1.834415316581726,
          1.6076432466506958,
          2.953669548034668,
          3.170499324798584,
          1.9674979448318481,
          2.0288209915161133,
          2.1852283477783203,
          1.229421615600586,
          1.9635531902313232,
          1.2073906660079956,
          1.5052158832550049,
          1.1333004236221313,
          0.993653416633606,
          3.4244167804718018,
          1.8907610177993774,
          0.7221984267234802,
          0.7123578190803528,
          2.8230056762695312,
          1.9326452016830444,
          2.1360933780670166,
          1.2196998596191406,
          0.6134733557701111,
          1.1114554405212402,
          3.280555248260498,
          0.8303579688072205,
          2.965268850326538,
          1.794104814529419,
          3.0151445865631104,
          2.1132400035858154,
          0.46785134077072144,
          2.4335923194885254,
          2.9092302322387695,
          0.5256447792053223,
          2.753722906112671,
          1.1904886960983276,
          1.0426172018051147,
          1.3245192766189575,
          0.33837825059890747,
          2.788458824157715,
          2.212859869003296,
          0.6904889345169067,
          0.3628619909286499,
          2.2950193881988525,
          1.6360962390899658,
          1.6637439727783203,
          2.2935712337493896,
          1.0031547546386719,
          1.6725308895111084,
          1.4064828157424927,
          0.9780826568603516,
          0.9981203079223633,
          1.9961488246917725,
          2.8946375846862793,
          1.7821862697601318,
          0.7358618974685669,
          2.869291067123413,
          2.1571381092071533,
          2.0910634994506836,
          0.5717163681983948,
          2.974795341491699,
          0.8927971720695496,
          2.4590048789978027,
          1.788637638092041,
          2.4019052982330322,
          2.4653899669647217,
          1.9191901683807373,
          1.842796802520752,
          1.597963571548462,
          0.5606220364570618,
          2.0215046405792236,
          2.667180299758911,
          2.115551710128784,
          1.747374415397644,
          2.649693489074707,
          1.6452105045318604,
          2.377441644668579,
          2.3199219703674316,
          2.2991034984588623,
          2.122735023498535,
          0.9159020781517029,
          1.3064440488815308,
          0.1861184686422348,
          1.3309533596038818,
          0.7443529367446899,
          3.1854488849639893,
          1.93108332157135,
          0.5127681493759155,
          1.4843710660934448,
          1.1489137411117554,
          3.251030206680298,
          2.3814775943756104
         ]
        },
        {
         "mode": "markers",
         "name": "James Bland",
         "type": "scatter",
         "visible": false,
         "x": [
          7.616852760314941,
          7.994156360626221,
          8.28339672088623,
          5.950177192687988,
          8.477176666259766,
          7.389707565307617,
          8.433740615844727,
          8.517983436584473,
          7.213334560394287,
          7.80824613571167,
          8.452997207641602,
          8.024162292480469,
          7.782686233520508,
          7.553076267242432,
          7.86134147644043,
          7.938626766204834,
          8.595303535461426,
          7.982672691345215,
          8.584190368652344,
          8.042448043823242,
          8.581196784973145,
          5.573291301727295,
          8.144640922546387,
          6.5925374031066895,
          8.588733673095703,
          8.399603843688965,
          8.273999214172363,
          8.317129135131836,
          8.274178504943848,
          8.365252494812012,
          8.263289451599121,
          8.41265869140625,
          7.586546421051025,
          8.562828063964844,
          6.253746509552002,
          8.375557899475098,
          8.23237419128418,
          6.14254093170166,
          7.316554069519043,
          6.620949745178223,
          6.160395622253418,
          8.397233009338379,
          8.539100646972656,
          7.884932518005371,
          7.516193866729736,
          8.219620704650879,
          7.952662944793701,
          7.998151779174805,
          7.438276290893555,
          8.188441276550293,
          7.5705156326293945,
          8.039759635925293,
          8.340571403503418,
          7.328007698059082,
          8.415425300598145,
          8.08746337890625,
          7.687978744506836,
          8.541027069091797,
          8.267427444458008,
          7.677430629730225,
          7.510785102844238,
          7.9958720207214355,
          8.359370231628418,
          8.354645729064941,
          8.398937225341797,
          8.377583503723145,
          8.280159950256348,
          7.511596202850342,
          6.822099208831787,
          8.502633094787598,
          8.441898345947266,
          7.167119979858398,
          8.159464836120605,
          7.970473766326904,
          8.27402400970459,
          7.812971115112305,
          8.118951797485352,
          8.41357707977295,
          7.406810760498047,
          7.933784484863281,
          7.050975799560547,
          7.428180694580078,
          8.21557903289795,
          8.08093547821045,
          8.032266616821289,
          7.474764347076416,
          6.884104251861572,
          8.276126861572266,
          8.414223670959473,
          7.533524513244629,
          8.141444206237793,
          7.8118367195129395,
          7.30043363571167,
          7.6908674240112305,
          8.358604431152344,
          7.768098831176758,
          8.21934700012207,
          7.945635795593262,
          7.499706268310547,
          8.369752883911133,
          8.426189422607422,
          7.668666362762451,
          8.29727554321289,
          8.312119483947754,
          8.51667308807373,
          7.8146233558654785,
          7.862759590148926,
          8.26901912689209,
          8.3824462890625,
          7.648867130279541,
          7.414281845092773,
          5.563701152801514,
          8.004135131835938,
          8.552131652832031,
          8.204480171203613,
          8.629776000976562,
          8.287328720092773,
          8.437868118286133,
          7.165542125701904,
          8.0951509475708,
          8.413191795349121,
          7.401939392089844,
          7.510374069213867,
          6.512709140777588,
          8.016143798828125,
          7.958794116973877,
          8.494695663452148,
          8.36614990234375,
          8.457051277160645,
          8.219959259033203,
          8.216760635375977,
          8.139382362365723,
          7.551994800567627,
          8.44541072845459,
          6.829398155212402,
          7.201646327972412,
          8.310840606689453,
          8.598001480102539,
          7.521174907684326,
          8.255582809448242,
          8.564684867858887
         ],
         "y": [
          0.1888222098350525,
          -0.17929407954216003,
          -0.8954474329948425,
          0.3194008767604828,
          -0.9780855774879456,
          0.389205664396286,
          -0.9240738749504089,
          -1.0324769020080566,
          0.25526079535484314,
          -0.58545982837677,
          -1.0699315071105957,
          0.46924063563346863,
          -0.542248547077179,
          -0.34488603472709656,
          0.3883744180202484,
          0.6876600384712219,
          -1.227501630783081,
          -0.6681419610977173,
          -1.2659575939178467,
          -0.3435238301753998,
          -1.3007577657699585,
          0.21832743287086487,
          0.22180242836475372,
          0.6521245837211609,
          -1.2278046607971191,
          -0.7468749284744263,
          -0.9379079341888428,
          0.3340165913105011,
          -1.1275675296783447,
          1.768343210220337,
          -0.9806315898895264,
          -0.2929580509662628,
          -0.09374678879976273,
          -1.2603868246078491,
          -0.01077843364328146,
          -0.9755203127861023,
          -0.8546685576438904,
          0.22880437970161438,
          0.03522542864084244,
          0.4340377449989319,
          0.11999879777431488,
          -0.45473694801330566,
          -0.9471546411514282,
          0.18605384230613708,
          -0.5295499563217163,
          -0.7086930274963379,
          1.1049976348876953,
          0.22221052646636963,
          -0.06597670912742615,
          -0.43325212597846985,
          0.018574615940451622,
          0.627643883228302,
          -1.0759862661361694,
          0.06905167549848557,
          -0.6725852489471436,
          -0.41973820328712463,
          0.29690346121788025,
          -1.1817816495895386,
          -0.9541144371032715,
          0.04274292662739754,
          -0.39906081557273865,
          0.7670704126358032,
          1.7043935060501099,
          1.0989649295806885,
          1.7783093452453613,
          1.207983374595642,
          -0.09995553642511368,
          -0.2736199200153351,
          0.41131672263145447,
          -0.9573350548744202,
          -1.0897260904312134,
          0.29498013854026794,
          0.7172242999076843,
          0.33394768834114075,
          -0.8644266724586487,
          0.5748924016952515,
          0.3676959276199341,
          -0.5847780108451843,
          0.40883496403694153,
          0.22471268475055695,
          0.023438692092895508,
          -0.16041143238544464,
          1.1013227701187134,
          0.1299528181552887,
          1.7232022285461426,
          0.6234880685806274,
          -0.030602164566516876,
          -0.5067740678787231,
          -0.9983651638031006,
          -0.42446333169937134,
          -0.8128336668014526,
          0.365780770778656,
          -0.01564699597656727,
          0.49557116627693176,
          1.5514777898788452,
          0.4337335526943207,
          1.435207486152649,
          1.5511358976364136,
          -0.07741976529359818,
          -1.1856043338775635,
          -0.32793644070625305,
          0.34559333324432373,
          0.7126973867416382,
          -0.43048185110092163,
          -0.8436750173568726,
          0.5122949481010437,
          0.3917471170425415,
          0.5859981775283813,
          1.145346760749817,
          0.18141180276870728,
          0.22813084721565247,
          0.31442034244537354,
          0.7831780910491943,
          -1.2656354904174805,
          0.6052560210227966,
          -1.3515288829803467,
          1.093302607536316,
          -1.1292612552642822,
          0.5021830797195435,
          -0.5814342498779297,
          -0.7472594380378723,
          -0.46504050493240356,
          0.034739091992378235,
          0.43907639384269714,
          0.6797813773155212,
          0.6685619354248047,
          -0.8812451958656311,
          1.3013988733291626,
          0.7538896799087524,
          0.6166561245918274,
          0.23534050583839417,
          -0.15964370965957642,
          -0.09177815914154053,
          -0.7739779949188232,
          -0.12139778584241867,
          0.25360792875289917,
          -1.1377098560333252,
          -1.1064133644104004,
          0.16914404928684235,
          1.293431282043457,
          -0.7915898561477661
         ]
        },
        {
         "mode": "markers",
         "name": "Marcel Stout",
         "type": "scatter",
         "visible": false,
         "x": [
          6.950024127960205,
          6.284083366394043,
          6.494602680206299,
          4.151505947113037,
          4.900929927825928,
          4.323388576507568,
          6.020171642303467,
          5.66606330871582,
          7.134335517883301,
          5.088376522064209,
          6.104038238525391,
          4.9247894287109375,
          6.19719123840332,
          4.349508762359619,
          5.744382858276367,
          4.612144470214844,
          6.530593395233154,
          5.024040699005127,
          5.338449001312256,
          5.99194860458374,
          3.939525842666626,
          4.438580513000488,
          5.765968322753906,
          5.987797737121582,
          5.648988246917725,
          6.406540870666504,
          6.339211463928223,
          6.3395562171936035,
          6.57745885848999,
          4.529089450836182,
          8.127474784851074,
          6.431848049163818,
          6.07695198059082,
          5.17053747177124,
          4.677698135375977,
          4.2470197677612305,
          6.522456645965576,
          4.553098201751709,
          6.608628749847412,
          7.292420387268066,
          4.9532389640808105,
          4.533878326416016,
          5.4688262939453125,
          6.827668190002441,
          6.0010271072387695,
          4.924720764160156,
          6.034933567047119,
          6.679515838623047,
          5.0651116371154785,
          5.846884727478027,
          4.664867401123047,
          6.546192169189453,
          4.15322208404541,
          4.339531898498535,
          6.713446140289307,
          4.3063178062438965,
          4.793496131896973,
          6.548830509185791,
          4.385369300842285,
          4.378973484039307,
          6.72380256652832,
          4.247125148773193,
          6.360297203063965,
          4.9217610359191895,
          6.312954902648926,
          6.128918170928955,
          4.618074417114258,
          5.181241989135742,
          5.740614414215088,
          4.550168991088867,
          5.336652755737305,
          4.2181010246276855,
          4.329498291015625,
          4.99670934677124,
          6.67171573638916,
          6.4761643409729,
          6.090230941772461,
          6.356212139129639,
          4.281465530395508,
          7.143487930297852,
          6.743861675262451,
          4.344380855560303,
          5.818691730499268,
          4.7106242179870605,
          5.388625621795654,
          5.203783988952637,
          4.813800811767578,
          6.673923969268799,
          5.411725044250488,
          6.430514812469482,
          4.187502384185791,
          4.7775397300720215,
          4.264808654785156,
          4.7259368896484375,
          4.7434000968933105,
          4.837968826293945,
          5.904027462005615,
          4.377995014190674,
          6.006067752838135,
          5.983695030212402,
          6.618884563446045,
          4.767262935638428,
          4.97303581237793,
          6.376772880554199,
          4.0910539627075195,
          4.45380973815918,
          6.429014205932617,
          6.508779525756836,
          5.446043014526367,
          4.391567707061768,
          4.996439456939697,
          4.4448323249816895,
          6.104830265045166,
          4.795336723327637,
          5.400380611419678,
          4.1817121505737305,
          6.589926719665527,
          4.0210795402526855,
          6.0516180992126465,
          4.453919887542725,
          6.096503257751465,
          4.3658270835876465,
          4.5361104011535645,
          6.35425329208374,
          4.092315196990967,
          6.589302062988281,
          6.688391208648682,
          6.014337539672852,
          7.181817054748535,
          3.856973886489868,
          4.778443813323975,
          5.152255535125732,
          5.247600078582764,
          6.731597423553467,
          6.181580066680908,
          4.912238597869873,
          6.483162879943848,
          5.766485691070557,
          6.844601154327393,
          4.879022121429443,
          5.390881538391113,
          5.024354457855225,
          6.229702472686768,
          6.766446113586426,
          5.943578720092773,
          4.183712005615234,
          6.514465808868408,
          6.3185834884643555,
          4.822401523590088,
          4.986274719238281,
          4.0931525230407715,
          5.046241283416748,
          6.623614311218262,
          6.456730842590332,
          4.391507625579834,
          4.914690971374512,
          4.8624348640441895,
          6.3714375495910645,
          4.24823522567749,
          7.305282115936279,
          6.279025077819824,
          4.700310707092285,
          4.037137985229492,
          4.463048458099365,
          5.396692276000977,
          6.593292713165283,
          4.2728590965271,
          4.138888835906982,
          6.677394866943359,
          8.326807022094727,
          4.796533584594727,
          4.947286128997803,
          6.200510501861572,
          4.694679260253906,
          6.589622974395752,
          6.711491584777832,
          6.407014846801758,
          6.055331230163574,
          5.679445743560791,
          4.552451133728027,
          4.766562461853027,
          4.0426506996154785,
          4.450011730194092,
          4.2289886474609375,
          7.240725040435791,
          6.367576599121094,
          6.1849751472473145,
          6.063416004180908,
          4.890079498291016,
          5.59605073928833,
          6.710390567779541,
          6.275199890136719,
          5.479760646820068,
          6.244679927825928,
          5.292694091796875,
          5.288224697113037
         ],
         "y": [
          3.652562141418457,
          5.076480865478516,
          3.713895082473755,
          3.598919630050659,
          5.029478073120117,
          5.2532057762146,
          4.434109210968018,
          4.5485944747924805,
          3.514735698699951,
          3.6662216186523438,
          5.3783087730407715,
          4.839415073394775,
          4.720250606536865,
          4.648780345916748,
          4.826752185821533,
          3.7199692726135254,
          5.089118957519531,
          3.445237398147583,
          4.068727970123291,
          5.4379777908325195,
          4.364789009094238,
          3.795119285583496,
          4.013608932495117,
          3.9665234088897705,
          5.384984970092773,
          4.875480651855469,
          3.4150326251983643,
          4.672966480255127,
          4.989223957061768,
          4.998688697814941,
          2.287759780883789,
          5.339151859283447,
          5.431376934051514,
          3.5104122161865234,
          4.717325210571289,
          4.903500556945801,
          4.994168281555176,
          4.093398094177246,
          4.61226224899292,
          3.8835549354553223,
          4.546074390411377,
          3.4360554218292236,
          3.873854637145996,
          4.3045735359191895,
          4.063882350921631,
          3.91243839263916,
          3.635758399963379,
          4.926757335662842,
          3.7856156826019287,
          3.8554649353027344,
          5.156968593597412,
          4.9698567390441895,
          3.9457359313964844,
          3.629124164581299,
          4.703937530517578,
          5.171079158782959,
          5.050055027008057,
          5.182043075561523,
          5.218159198760986,
          5.120034217834473,
          4.097287178039551,
          4.599559783935547,
          5.295508861541748,
          3.9799811840057373,
          3.5641376972198486,
          3.305859088897705,
          4.963572978973389,
          3.9114670753479004,
          4.068886756896973,
          4.823777675628662,
          3.7554543018341064,
          3.32157826423645,
          4.596486568450928,
          4.757969856262207,
          4.992770195007324,
          3.8098788261413574,
          5.434787273406982,
          5.052133560180664,
          3.845911979675293,
          3.480341911315918,
          4.313385009765625,
          4.001471042633057,
          5.399087905883789,
          3.5732994079589844,
          5.005769729614258,
          4.7897210121154785,
          4.6224822998046875,
          4.360626220703125,
          5.359062194824219,
          3.5322000980377197,
          5.204924583435059,
          3.904017210006714,
          5.030614852905273,
          4.451602458953857,
          4.456720352172852,
          3.768603563308716,
          4.5024027824401855,
          5.03065299987793,
          3.9041171073913574,
          2.9587464332580566,
          4.2181806564331055,
          3.294485330581665,
          4.934545993804932,
          3.4739067554473877,
          4.103567123413086,
          4.8044352531433105,
          5.088659763336182,
          5.172122955322266,
          3.542177438735962,
          5.228128433227539,
          3.212374448776245,
          3.460613965988159,
          3.814249277114868,
          4.644593715667725,
          4.517581939697266,
          4.663407802581787,
          4.954462051391602,
          4.270958423614502,
          5.432499408721924,
          5.279958248138428,
          5.375760078430176,
          4.450204372406006,
          5.033027172088623,
          4.160672664642334,
          4.619746208190918,
          4.9623613357543945,
          4.319462776184082,
          5.491157531738281,
          3.4053053855895996,
          4.588055610656738,
          4.75883674621582,
          4.2549567222595215,
          3.5994577407836914,
          3.840792179107666,
          3.881206750869751,
          3.416334629058838,
          5.265866756439209,
          3.436924457550049,
          4.300373077392578,
          3.408351421356201,
          4.260309219360352,
          3.9255635738372803,
          3.6561262607574463,
          4.803617000579834,
          5.274848937988281,
          5.055760383605957,
          4.4682769775390625,
          5.2472686767578125,
          4.001009464263916,
          3.6086442470550537,
          4.605274200439453,
          4.745673179626465,
          4.67847204208374,
          3.6790497303009033,
          5.230626583099365,
          3.293673038482666,
          5.060741424560547,
          5.1880340576171875,
          4.398290634155273,
          3.3982443809509277,
          5.081919193267822,
          4.8730573654174805,
          4.487753868103027,
          5.225290298461914,
          3.3598616123199463,
          4.879920959472656,
          5.290182113647461,
          4.1663289070129395,
          3.4961838722229004,
          2.132596015930176,
          4.5010986328125,
          4.362971305847168,
          5.395219802856445,
          3.926166534423828,
          4.5078277587890625,
          4.587827682495117,
          5.130654335021973,
          3.2610509395599365,
          3.941041946411133,
          4.390811920166016,
          4.818791389465332,
          5.116293430328369,
          3.919560670852661,
          4.7547688484191895,
          3.2003519535064697,
          4.489513874053955,
          4.0015950202941895,
          3.91351056098938,
          3.953068733215332,
          3.8204307556152344,
          3.7104060649871826,
          3.688920259475708,
          3.709965705871582,
          5.37075138092041,
          4.180828094482422,
          3.5713694095611572
         ]
        }
       ],
       "layout": {
        "height": 600,
        "template": {
         "data": {
          "bar": [
           {
            "error_x": {
             "color": "#2a3f5f"
            },
            "error_y": {
             "color": "#2a3f5f"
            },
            "marker": {
             "line": {
              "color": "#E5ECF6",
              "width": 0.5
             },
             "pattern": {
              "fillmode": "overlay",
              "size": 10,
              "solidity": 0.2
             }
            },
            "type": "bar"
           }
          ],
          "barpolar": [
           {
            "marker": {
             "line": {
              "color": "#E5ECF6",
              "width": 0.5
             },
             "pattern": {
              "fillmode": "overlay",
              "size": 10,
              "solidity": 0.2
             }
            },
            "type": "barpolar"
           }
          ],
          "carpet": [
           {
            "aaxis": {
             "endlinecolor": "#2a3f5f",
             "gridcolor": "white",
             "linecolor": "white",
             "minorgridcolor": "white",
             "startlinecolor": "#2a3f5f"
            },
            "baxis": {
             "endlinecolor": "#2a3f5f",
             "gridcolor": "white",
             "linecolor": "white",
             "minorgridcolor": "white",
             "startlinecolor": "#2a3f5f"
            },
            "type": "carpet"
           }
          ],
          "choropleth": [
           {
            "colorbar": {
             "outlinewidth": 0,
             "ticks": ""
            },
            "type": "choropleth"
           }
          ],
          "contour": [
           {
            "colorbar": {
             "outlinewidth": 0,
             "ticks": ""
            },
            "colorscale": [
             [
              0,
              "#0d0887"
             ],
             [
              0.1111111111111111,
              "#46039f"
             ],
             [
              0.2222222222222222,
              "#7201a8"
             ],
             [
              0.3333333333333333,
              "#9c179e"
             ],
             [
              0.4444444444444444,
              "#bd3786"
             ],
             [
              0.5555555555555556,
              "#d8576b"
             ],
             [
              0.6666666666666666,
              "#ed7953"
             ],
             [
              0.7777777777777778,
              "#fb9f3a"
             ],
             [
              0.8888888888888888,
              "#fdca26"
             ],
             [
              1,
              "#f0f921"
             ]
            ],
            "type": "contour"
           }
          ],
          "contourcarpet": [
           {
            "colorbar": {
             "outlinewidth": 0,
             "ticks": ""
            },
            "type": "contourcarpet"
           }
          ],
          "heatmap": [
           {
            "colorbar": {
             "outlinewidth": 0,
             "ticks": ""
            },
            "colorscale": [
             [
              0,
              "#0d0887"
             ],
             [
              0.1111111111111111,
              "#46039f"
             ],
             [
              0.2222222222222222,
              "#7201a8"
             ],
             [
              0.3333333333333333,
              "#9c179e"
             ],
             [
              0.4444444444444444,
              "#bd3786"
             ],
             [
              0.5555555555555556,
              "#d8576b"
             ],
             [
              0.6666666666666666,
              "#ed7953"
             ],
             [
              0.7777777777777778,
              "#fb9f3a"
             ],
             [
              0.8888888888888888,
              "#fdca26"
             ],
             [
              1,
              "#f0f921"
             ]
            ],
            "type": "heatmap"
           }
          ],
          "heatmapgl": [
           {
            "colorbar": {
             "outlinewidth": 0,
             "ticks": ""
            },
            "colorscale": [
             [
              0,
              "#0d0887"
             ],
             [
              0.1111111111111111,
              "#46039f"
             ],
             [
              0.2222222222222222,
              "#7201a8"
             ],
             [
              0.3333333333333333,
              "#9c179e"
             ],
             [
              0.4444444444444444,
              "#bd3786"
             ],
             [
              0.5555555555555556,
              "#d8576b"
             ],
             [
              0.6666666666666666,
              "#ed7953"
             ],
             [
              0.7777777777777778,
              "#fb9f3a"
             ],
             [
              0.8888888888888888,
              "#fdca26"
             ],
             [
              1,
              "#f0f921"
             ]
            ],
            "type": "heatmapgl"
           }
          ],
          "histogram": [
           {
            "marker": {
             "pattern": {
              "fillmode": "overlay",
              "size": 10,
              "solidity": 0.2
             }
            },
            "type": "histogram"
           }
          ],
          "histogram2d": [
           {
            "colorbar": {
             "outlinewidth": 0,
             "ticks": ""
            },
            "colorscale": [
             [
              0,
              "#0d0887"
             ],
             [
              0.1111111111111111,
              "#46039f"
             ],
             [
              0.2222222222222222,
              "#7201a8"
             ],
             [
              0.3333333333333333,
              "#9c179e"
             ],
             [
              0.4444444444444444,
              "#bd3786"
             ],
             [
              0.5555555555555556,
              "#d8576b"
             ],
             [
              0.6666666666666666,
              "#ed7953"
             ],
             [
              0.7777777777777778,
              "#fb9f3a"
             ],
             [
              0.8888888888888888,
              "#fdca26"
             ],
             [
              1,
              "#f0f921"
             ]
            ],
            "type": "histogram2d"
           }
          ],
          "histogram2dcontour": [
           {
            "colorbar": {
             "outlinewidth": 0,
             "ticks": ""
            },
            "colorscale": [
             [
              0,
              "#0d0887"
             ],
             [
              0.1111111111111111,
              "#46039f"
             ],
             [
              0.2222222222222222,
              "#7201a8"
             ],
             [
              0.3333333333333333,
              "#9c179e"
             ],
             [
              0.4444444444444444,
              "#bd3786"
             ],
             [
              0.5555555555555556,
              "#d8576b"
             ],
             [
              0.6666666666666666,
              "#ed7953"
             ],
             [
              0.7777777777777778,
              "#fb9f3a"
             ],
             [
              0.8888888888888888,
              "#fdca26"
             ],
             [
              1,
              "#f0f921"
             ]
            ],
            "type": "histogram2dcontour"
           }
          ],
          "mesh3d": [
           {
            "colorbar": {
             "outlinewidth": 0,
             "ticks": ""
            },
            "type": "mesh3d"
           }
          ],
          "parcoords": [
           {
            "line": {
             "colorbar": {
              "outlinewidth": 0,
              "ticks": ""
             }
            },
            "type": "parcoords"
           }
          ],
          "pie": [
           {
            "automargin": true,
            "type": "pie"
           }
          ],
          "scatter": [
           {
            "fillpattern": {
             "fillmode": "overlay",
             "size": 10,
             "solidity": 0.2
            },
            "type": "scatter"
           }
          ],
          "scatter3d": [
           {
            "line": {
             "colorbar": {
              "outlinewidth": 0,
              "ticks": ""
             }
            },
            "marker": {
             "colorbar": {
              "outlinewidth": 0,
              "ticks": ""
             }
            },
            "type": "scatter3d"
           }
          ],
          "scattercarpet": [
           {
            "marker": {
             "colorbar": {
              "outlinewidth": 0,
              "ticks": ""
             }
            },
            "type": "scattercarpet"
           }
          ],
          "scattergeo": [
           {
            "marker": {
             "colorbar": {
              "outlinewidth": 0,
              "ticks": ""
             }
            },
            "type": "scattergeo"
           }
          ],
          "scattergl": [
           {
            "marker": {
             "colorbar": {
              "outlinewidth": 0,
              "ticks": ""
             }
            },
            "type": "scattergl"
           }
          ],
          "scattermapbox": [
           {
            "marker": {
             "colorbar": {
              "outlinewidth": 0,
              "ticks": ""
             }
            },
            "type": "scattermapbox"
           }
          ],
          "scatterpolar": [
           {
            "marker": {
             "colorbar": {
              "outlinewidth": 0,
              "ticks": ""
             }
            },
            "type": "scatterpolar"
           }
          ],
          "scatterpolargl": [
           {
            "marker": {
             "colorbar": {
              "outlinewidth": 0,
              "ticks": ""
             }
            },
            "type": "scatterpolargl"
           }
          ],
          "scatterternary": [
           {
            "marker": {
             "colorbar": {
              "outlinewidth": 0,
              "ticks": ""
             }
            },
            "type": "scatterternary"
           }
          ],
          "surface": [
           {
            "colorbar": {
             "outlinewidth": 0,
             "ticks": ""
            },
            "colorscale": [
             [
              0,
              "#0d0887"
             ],
             [
              0.1111111111111111,
              "#46039f"
             ],
             [
              0.2222222222222222,
              "#7201a8"
             ],
             [
              0.3333333333333333,
              "#9c179e"
             ],
             [
              0.4444444444444444,
              "#bd3786"
             ],
             [
              0.5555555555555556,
              "#d8576b"
             ],
             [
              0.6666666666666666,
              "#ed7953"
             ],
             [
              0.7777777777777778,
              "#fb9f3a"
             ],
             [
              0.8888888888888888,
              "#fdca26"
             ],
             [
              1,
              "#f0f921"
             ]
            ],
            "type": "surface"
           }
          ],
          "table": [
           {
            "cells": {
             "fill": {
              "color": "#EBF0F8"
             },
             "line": {
              "color": "white"
             }
            },
            "header": {
             "fill": {
              "color": "#C8D4E3"
             },
             "line": {
              "color": "white"
             }
            },
            "type": "table"
           }
          ]
         },
         "layout": {
          "annotationdefaults": {
           "arrowcolor": "#2a3f5f",
           "arrowhead": 0,
           "arrowwidth": 1
          },
          "autotypenumbers": "strict",
          "coloraxis": {
           "colorbar": {
            "outlinewidth": 0,
            "ticks": ""
           }
          },
          "colorscale": {
           "diverging": [
            [
             0,
             "#8e0152"
            ],
            [
             0.1,
             "#c51b7d"
            ],
            [
             0.2,
             "#de77ae"
            ],
            [
             0.3,
             "#f1b6da"
            ],
            [
             0.4,
             "#fde0ef"
            ],
            [
             0.5,
             "#f7f7f7"
            ],
            [
             0.6,
             "#e6f5d0"
            ],
            [
             0.7,
             "#b8e186"
            ],
            [
             0.8,
             "#7fbc41"
            ],
            [
             0.9,
             "#4d9221"
            ],
            [
             1,
             "#276419"
            ]
           ],
           "sequential": [
            [
             0,
             "#0d0887"
            ],
            [
             0.1111111111111111,
             "#46039f"
            ],
            [
             0.2222222222222222,
             "#7201a8"
            ],
            [
             0.3333333333333333,
             "#9c179e"
            ],
            [
             0.4444444444444444,
             "#bd3786"
            ],
            [
             0.5555555555555556,
             "#d8576b"
            ],
            [
             0.6666666666666666,
             "#ed7953"
            ],
            [
             0.7777777777777778,
             "#fb9f3a"
            ],
            [
             0.8888888888888888,
             "#fdca26"
            ],
            [
             1,
             "#f0f921"
            ]
           ],
           "sequentialminus": [
            [
             0,
             "#0d0887"
            ],
            [
             0.1111111111111111,
             "#46039f"
            ],
            [
             0.2222222222222222,
             "#7201a8"
            ],
            [
             0.3333333333333333,
             "#9c179e"
            ],
            [
             0.4444444444444444,
             "#bd3786"
            ],
            [
             0.5555555555555556,
             "#d8576b"
            ],
            [
             0.6666666666666666,
             "#ed7953"
            ],
            [
             0.7777777777777778,
             "#fb9f3a"
            ],
            [
             0.8888888888888888,
             "#fdca26"
            ],
            [
             1,
             "#f0f921"
            ]
           ]
          },
          "colorway": [
           "#636efa",
           "#EF553B",
           "#00cc96",
           "#ab63fa",
           "#FFA15A",
           "#19d3f3",
           "#FF6692",
           "#B6E880",
           "#FF97FF",
           "#FECB52"
          ],
          "font": {
           "color": "#2a3f5f"
          },
          "geo": {
           "bgcolor": "white",
           "lakecolor": "white",
           "landcolor": "#E5ECF6",
           "showlakes": true,
           "showland": true,
           "subunitcolor": "white"
          },
          "hoverlabel": {
           "align": "left"
          },
          "hovermode": "closest",
          "mapbox": {
           "style": "light"
          },
          "paper_bgcolor": "white",
          "plot_bgcolor": "#E5ECF6",
          "polar": {
           "angularaxis": {
            "gridcolor": "white",
            "linecolor": "white",
            "ticks": ""
           },
           "bgcolor": "#E5ECF6",
           "radialaxis": {
            "gridcolor": "white",
            "linecolor": "white",
            "ticks": ""
           }
          },
          "scene": {
           "xaxis": {
            "backgroundcolor": "#E5ECF6",
            "gridcolor": "white",
            "gridwidth": 2,
            "linecolor": "white",
            "showbackground": true,
            "ticks": "",
            "zerolinecolor": "white"
           },
           "yaxis": {
            "backgroundcolor": "#E5ECF6",
            "gridcolor": "white",
            "gridwidth": 2,
            "linecolor": "white",
            "showbackground": true,
            "ticks": "",
            "zerolinecolor": "white"
           },
           "zaxis": {
            "backgroundcolor": "#E5ECF6",
            "gridcolor": "white",
            "gridwidth": 2,
            "linecolor": "white",
            "showbackground": true,
            "ticks": "",
            "zerolinecolor": "white"
           }
          },
          "shapedefaults": {
           "line": {
            "color": "#2a3f5f"
           }
          },
          "ternary": {
           "aaxis": {
            "gridcolor": "white",
            "linecolor": "white",
            "ticks": ""
           },
           "baxis": {
            "gridcolor": "white",
            "linecolor": "white",
            "ticks": ""
           },
           "bgcolor": "#E5ECF6",
           "caxis": {
            "gridcolor": "white",
            "linecolor": "white",
            "ticks": ""
           }
          },
          "title": {
           "x": 0.05
          },
          "xaxis": {
           "automargin": true,
           "gridcolor": "white",
           "linecolor": "white",
           "ticks": "",
           "title": {
            "standoff": 15
           },
           "zerolinecolor": "white",
           "zerolinewidth": 2
          },
          "yaxis": {
           "automargin": true,
           "gridcolor": "white",
           "linecolor": "white",
           "ticks": "",
           "title": {
            "standoff": 15
           },
           "zerolinecolor": "white",
           "zerolinewidth": 2
          }
         }
        },
        "title": {
         "text": "PCA and UMAP projections"
        },
        "updatemenus": [
         {
          "active": 0,
          "buttons": [
           {
            "args": [
             {
              "visible": [
               true,
               true,
               true,
               true,
               false,
               false,
               false,
               false
              ]
             }
            ],
            "label": "PCA",
            "method": "update"
           },
           {
            "args": [
             {
              "visible": [
               false,
               false,
               false,
               false,
               true,
               true,
               true,
               true
              ]
             }
            ],
            "label": "UMAP",
            "method": "update"
           }
          ],
          "direction": "right",
          "type": "buttons",
          "x": 1,
          "y": 1.1
         }
        ],
        "width": 1000,
        "xaxis": {
         "title": {
          "text": "axis 1"
         }
        },
        "yaxis": {
         "title": {
          "text": "axis 2"
         }
        }
       }
      }
     },
     "metadata": {},
     "output_type": "display_data"
    }
   ],
   "source": [
    "### on same plot with buttons\n",
    "list_0 = [True]*4 + [False]*4\n",
    "list_1 = [False]*4 + [True]*4\n",
    "list_2 = [True]*8\n",
    "\n",
    "fig = go.Figure()\n",
    "\n",
    "for cluster_id in [0,1,2,3]:\n",
    "    fig.add_trace(go.Scatter(x=users_pca_2.loc[users_pca_2['cluster'] == cluster_id]['Principal component 1'], y=users_pca_2.loc[users_pca_2['cluster']==cluster_id]['Principal component 2'], mode='markers', visible=True, name=mapping_idx_name[cluster_id]))\n",
    "\n",
    "for cluster_id in [0,1,2,3]:\n",
    "    fig.add_trace(go.Scatter(x=user_projected_umap.loc[user_projected_umap['cluster'] == cluster_id]['Axis x'], y=user_projected_umap.loc[user_projected_umap['cluster']==cluster_id]['Axis y'], mode='markers', visible=False, name=mapping_idx_name[cluster_id]))\n",
    "\n",
    "fig.update_layout(\n",
    "    width=1000,\n",
    "    height=600,\n",
    "    updatemenus=[\n",
    "        dict(\n",
    "            type=\"buttons\",\n",
    "            direction=\"right\",\n",
    "\n",
    "            active=0,\n",
    "            x=1,\n",
    "            y=1.1,\n",
    "            buttons=list([\n",
    "                dict(label=\"PCA\",\n",
    "                     method=\"update\",\n",
    "                     args=[{\"visible\": list_0}]),\n",
    "                dict(label=\"UMAP\",\n",
    "                \n",
    "                     method=\"update\",\n",
    "                     args=[{\"visible\": list_1}]),\n",
    "            ]),\n",
    "        )\n",
    "    ])\n",
    "\n",
    "#TODO??\n",
    "#fig.update_layout(yaxis_range=[-4,4])\n",
    "#fig.update_layout(xaxis_range=[-5,5])\n",
    "\n",
    "# Set title\n",
    "fig.update_xaxes(title_text=\"axis 1\")\n",
    "fig.update_yaxes(title_text=\"axis 2\")\n",
    "fig.update_layout(\n",
    "    title_text=\"PCA and UMAP projections\",\n",
    ")\n",
    "\n",
    "fig.show()\n",
    "#fig.write_html(\"umap_pca.html\")"
   ]
  }
 ],
 "metadata": {
  "kernelspec": {
   "display_name": "Python 3",
   "language": "python",
   "name": "python3"
  },
  "language_info": {
   "codemirror_mode": {
    "name": "ipython",
    "version": 3
   },
   "file_extension": ".py",
   "mimetype": "text/x-python",
   "name": "python",
   "nbconvert_exporter": "python",
   "pygments_lexer": "ipython3",
   "version": "3.10.7"
  },
  "orig_nbformat": 4,
  "vscode": {
   "interpreter": {
    "hash": "7a30b7485557a43924c0104e177ec6bab6e0008128359b6d23b2129353110e8f"
   }
  }
 },
 "nbformat": 4,
 "nbformat_minor": 2
}
