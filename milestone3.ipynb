{
 "cells": [
  {
   "cell_type": "code",
   "execution_count": 418,
   "metadata": {},
   "outputs": [],
   "source": [
    "import pandas as pd\n",
    "import seaborn as sns\n",
    "import datetime\n",
    "from datetime import *\n",
    "import sys\n",
    "import gzip\n",
    "import networkx as nx\n",
    "import matplotlib.pyplot as plt\n",
    "import numpy as np\n",
    "import plotly.express as px\n",
    "import pylab\n",
    "import scipy.stats as stats\n",
    "import plotly.graph_objects as go\n",
    "import collections\n",
    "from scipy.stats import bootstrap, ttest_ind, ttest_rel\n",
    "import math\n",
    "from sklearn.cluster import KMeans\n",
    "from sklearn.decomposition import PCA\n",
    "from umap.umap_ import UMAP\n",
    "from sklearn.metrics import silhouette_samples, silhouette_score\n",
    "import matplotlib.cm as cm\n",
    "import random"
   ]
  },
  {
   "cell_type": "code",
   "execution_count": 419,
   "metadata": {},
   "outputs": [],
   "source": [
    "plt.style.use('seaborn')\n",
    "pd.options.mode.chained_assignment = None  # default='warn'"
   ]
  },
  {
   "cell_type": "markdown",
   "metadata": {},
   "source": [
    "# beer"
   ]
  },
  {
   "cell_type": "code",
   "execution_count": 420,
   "metadata": {},
   "outputs": [],
   "source": [
    "#load the data beers.csv\n",
    "df_beers = pd.read_csv('./data/beers.csv')"
   ]
  },
  {
   "cell_type": "code",
   "execution_count": 421,
   "metadata": {},
   "outputs": [
    {
     "data": {
      "text/html": [
       "<div>\n",
       "<style scoped>\n",
       "    .dataframe tbody tr th:only-of-type {\n",
       "        vertical-align: middle;\n",
       "    }\n",
       "\n",
       "    .dataframe tbody tr th {\n",
       "        vertical-align: top;\n",
       "    }\n",
       "\n",
       "    .dataframe thead th {\n",
       "        text-align: right;\n",
       "    }\n",
       "</style>\n",
       "<table border=\"1\" class=\"dataframe\">\n",
       "  <thead>\n",
       "    <tr style=\"text-align: right;\">\n",
       "      <th></th>\n",
       "      <th>beer_id</th>\n",
       "      <th>beer_name</th>\n",
       "      <th>brewery_id</th>\n",
       "      <th>brewery_name</th>\n",
       "      <th>style</th>\n",
       "      <th>nbr_ratings</th>\n",
       "      <th>nbr_reviews</th>\n",
       "      <th>avg</th>\n",
       "      <th>ba_score</th>\n",
       "      <th>bros_score</th>\n",
       "      <th>abv</th>\n",
       "      <th>avg_computed</th>\n",
       "      <th>zscore</th>\n",
       "      <th>nbr_matched_valid_ratings</th>\n",
       "      <th>avg_matched_valid_ratings</th>\n",
       "    </tr>\n",
       "  </thead>\n",
       "  <tbody>\n",
       "    <tr>\n",
       "      <th>0</th>\n",
       "      <td>166064</td>\n",
       "      <td>Nashe Moskovskoe</td>\n",
       "      <td>39912</td>\n",
       "      <td>Abdysh-Ata (Абдыш Ата)</td>\n",
       "      <td>Euro Pale Lager</td>\n",
       "      <td>0</td>\n",
       "      <td>0</td>\n",
       "      <td>NaN</td>\n",
       "      <td>NaN</td>\n",
       "      <td>NaN</td>\n",
       "      <td>4.7</td>\n",
       "      <td>NaN</td>\n",
       "      <td>NaN</td>\n",
       "      <td>0</td>\n",
       "      <td>NaN</td>\n",
       "    </tr>\n",
       "    <tr>\n",
       "      <th>1</th>\n",
       "      <td>166065</td>\n",
       "      <td>Nashe Pivovskoe</td>\n",
       "      <td>39912</td>\n",
       "      <td>Abdysh-Ata (Абдыш Ата)</td>\n",
       "      <td>Euro Pale Lager</td>\n",
       "      <td>0</td>\n",
       "      <td>0</td>\n",
       "      <td>NaN</td>\n",
       "      <td>NaN</td>\n",
       "      <td>NaN</td>\n",
       "      <td>3.8</td>\n",
       "      <td>NaN</td>\n",
       "      <td>NaN</td>\n",
       "      <td>0</td>\n",
       "      <td>NaN</td>\n",
       "    </tr>\n",
       "    <tr>\n",
       "      <th>2</th>\n",
       "      <td>166066</td>\n",
       "      <td>Nashe Shakhterskoe</td>\n",
       "      <td>39912</td>\n",
       "      <td>Abdysh-Ata (Абдыш Ата)</td>\n",
       "      <td>Euro Pale Lager</td>\n",
       "      <td>0</td>\n",
       "      <td>0</td>\n",
       "      <td>NaN</td>\n",
       "      <td>NaN</td>\n",
       "      <td>NaN</td>\n",
       "      <td>4.8</td>\n",
       "      <td>NaN</td>\n",
       "      <td>NaN</td>\n",
       "      <td>0</td>\n",
       "      <td>NaN</td>\n",
       "    </tr>\n",
       "    <tr>\n",
       "      <th>3</th>\n",
       "      <td>166067</td>\n",
       "      <td>Nashe Zhigulevskoe</td>\n",
       "      <td>39912</td>\n",
       "      <td>Abdysh-Ata (Абдыш Ата)</td>\n",
       "      <td>Euro Pale Lager</td>\n",
       "      <td>0</td>\n",
       "      <td>0</td>\n",
       "      <td>NaN</td>\n",
       "      <td>NaN</td>\n",
       "      <td>NaN</td>\n",
       "      <td>4.0</td>\n",
       "      <td>NaN</td>\n",
       "      <td>NaN</td>\n",
       "      <td>0</td>\n",
       "      <td>NaN</td>\n",
       "    </tr>\n",
       "    <tr>\n",
       "      <th>4</th>\n",
       "      <td>166063</td>\n",
       "      <td>Zhivoe</td>\n",
       "      <td>39912</td>\n",
       "      <td>Abdysh-Ata (Абдыш Ата)</td>\n",
       "      <td>Euro Pale Lager</td>\n",
       "      <td>0</td>\n",
       "      <td>0</td>\n",
       "      <td>NaN</td>\n",
       "      <td>NaN</td>\n",
       "      <td>NaN</td>\n",
       "      <td>4.5</td>\n",
       "      <td>NaN</td>\n",
       "      <td>NaN</td>\n",
       "      <td>0</td>\n",
       "      <td>NaN</td>\n",
       "    </tr>\n",
       "  </tbody>\n",
       "</table>\n",
       "</div>"
      ],
      "text/plain": [
       "   beer_id           beer_name  brewery_id            brewery_name  \\\n",
       "0   166064    Nashe Moskovskoe       39912  Abdysh-Ata (Абдыш Ата)   \n",
       "1   166065     Nashe Pivovskoe       39912  Abdysh-Ata (Абдыш Ата)   \n",
       "2   166066  Nashe Shakhterskoe       39912  Abdysh-Ata (Абдыш Ата)   \n",
       "3   166067  Nashe Zhigulevskoe       39912  Abdysh-Ata (Абдыш Ата)   \n",
       "4   166063              Zhivoe       39912  Abdysh-Ata (Абдыш Ата)   \n",
       "\n",
       "             style  nbr_ratings  nbr_reviews  avg  ba_score  bros_score  abv  \\\n",
       "0  Euro Pale Lager            0            0  NaN       NaN         NaN  4.7   \n",
       "1  Euro Pale Lager            0            0  NaN       NaN         NaN  3.8   \n",
       "2  Euro Pale Lager            0            0  NaN       NaN         NaN  4.8   \n",
       "3  Euro Pale Lager            0            0  NaN       NaN         NaN  4.0   \n",
       "4  Euro Pale Lager            0            0  NaN       NaN         NaN  4.5   \n",
       "\n",
       "   avg_computed  zscore  nbr_matched_valid_ratings  avg_matched_valid_ratings  \n",
       "0           NaN     NaN                          0                        NaN  \n",
       "1           NaN     NaN                          0                        NaN  \n",
       "2           NaN     NaN                          0                        NaN  \n",
       "3           NaN     NaN                          0                        NaN  \n",
       "4           NaN     NaN                          0                        NaN  "
      ]
     },
     "execution_count": 421,
     "metadata": {},
     "output_type": "execute_result"
    }
   ],
   "source": [
    "df_beers.head()"
   ]
  },
  {
   "cell_type": "code",
   "execution_count": 422,
   "metadata": {
    "cell_id": "f19be61f23d14b039515a428e733e967",
    "deepnote_cell_type": "code"
   },
   "outputs": [],
   "source": [
    "list_considered_variable=['beer_id','beer_name','brewery_id','brewery_name','style',\n",
    "                          'nbr_reviews','nbr_ratings','avg', 'abv']\n",
    "df_beers=df_beers[list_considered_variable]"
   ]
  },
  {
   "cell_type": "code",
   "execution_count": 423,
   "metadata": {
    "cell_id": "eadfb89af763419cb9ac7620298c2aaa",
    "deepnote_cell_type": "code",
    "deepnote_to_be_reexecuted": false,
    "execution_millis": 36,
    "execution_start": 1668694159723,
    "source_hash": "763cc6b1",
    "tags": []
   },
   "outputs": [],
   "source": [
    "beer_catalog = {\n",
    "    'Bocks' : ['Bock', 'Doppelbock', 'Eisbock', 'Maibock', 'Weizenbock', 'Maibock / Helles Bock'],\n",
    "\n",
    "    'Dark Ales' : ['Dubbel', 'Roggenbier', 'Scottish Ale', 'Winter Warmer'],\n",
    "\n",
    "    'Hybrid Beers' : ['Bière de Champagne / Bière Brut', 'Braggot', 'California Common / Steam Beer', 'Cream Ale'],\n",
    "\n",
    "    'Pale Ales' : ['American Amber / Red Ale', 'American Blonde Ale', 'American Pale Ale', 'Belgian Blonde Ale',\n",
    "    'Belgian Pale Ale', 'Bière de Garde', 'English Bitter', 'English Pale Ale', 'English Pale Mild Ale', 'Extra Special / Strong Bitter (ESB)',\n",
    "    'Grisette', 'Irish Red Ale', 'Kölsch', 'Saison', 'Saison / Farmhouse Ale', 'Belgian Strong Pale Ale', 'American Pale Ale (APA)'],\n",
    "\n",
    "    'Porters' : ['American Porter', 'Baltic Porter', 'English Porter', 'Imperial Porter', 'Robust Porter ', 'Smoked Porter'],\n",
    "\n",
    "    'Stouts' : ['American Imperial Stout', 'American Stout', 'English Stout', 'Foreign / Export Stout', 'Irish Dry Stout', 'Oatmeal Stout',\n",
    "    'Russian Imperial Stout', 'Milk / Sweet Stout', 'American Double / Imperial Stout'],\n",
    "\n",
    "    'Wheat Beers' : ['American Dark Wheat Beer', 'American Pale Wheat Beer', 'Dunkelweizen', 'Grodziskie', 'Hefeweizen', 'Kristallweizen', 'Witbier', \n",
    "    'American Pale Wheat Ale', 'American Dark Wheat Ale', 'Berliner Weissbier', 'Kristalweizen'],\n",
    "\n",
    "    'Brown Ales' : ['Altbier', 'American Brown Ale', 'Belgian Dark Ale', 'English Brown Ale', 'English Dark Mild Ale', 'Belgian Strong Dark Ale'],\n",
    "\n",
    "    'Dark Lagers' : ['American Amber / Red Lager', 'Czech Amber Lager', 'Czech Dark Lager', 'European Dark Lager', 'Märzen',\n",
    "    'Munich Dunkel', 'Rauchbier', 'Schwarzbier', 'Vienna Lager', 'Munich Dunkel Lager', 'Euro Dark Lager'],\n",
    "\n",
    "    'India Pale Ales' : ['American IPA', 'American Double / Imperial IPA', 'Belgian IPA', 'Black IPA', 'Brut IPA', 'English IPA', 'English India Pale Ale (IPA)', \n",
    "    'Imperial IPA', 'Milkshake IPA', 'New England IPA', 'American Black Ale'],\n",
    "\n",
    "    'Pale Lagers' : ['American Adjunct Lager', 'American Lager', 'Bohemian / Czech Pilsner', 'Czech Pale Lager', 'European / Dortmunder Export Lager',\n",
    "    'European Pale Lager', 'European Strong Lager', 'Festbier / Wiesnbier', 'German Pilsner', 'Helles', 'Imperial Pilsner', 'India Pale Lager (IPL)',\n",
    "    'Kellerbier / Zwickelbier', 'Light Lager', 'Malt Liquor', 'Czech Pilsener', 'Euro Pale Lager', 'American Pale Lager', 'German Pilsener', 'Dortmunder / Export Lager', \n",
    "    'Euro Strong Lager', 'Munich Helles Lager', 'American Double / Imperial Pilsner', 'American Malt Liquor', 'Märzen / Oktoberfest'],\n",
    "\n",
    "    'Specialty Beer' : ['Chile Beer', 'Fruit and Field Beer', 'Gruit / Ancient Herbed Ale', 'Happoshu', 'Herb and Spice Beer', 'Japanese Rice Lager',\n",
    "    'Kvass', 'Low-Alcohol Beer', 'Pumpkin Beer', 'Rye Beer', 'Sahti', 'Smoked Beer', 'Herbed / Spiced Beer', 'Pumpkin Ale', 'Scottish Gruit / Ancient Herbed Ale', 'Low Alcohol Beer'],\n",
    "\n",
    "    'Strong Ales' : ['American Barleywine', 'American Strong Ale', 'Belgian Dark Strong Ale', 'Belgian Pale Strong Ale', 'English Barleywine', 'English Strong Ale',\n",
    "    'Imperial Red Ale', 'Old Ale', 'Quadrupel (Quad)', 'Scotch Ale / Wee Heavy', 'Tripel', 'Wheatwine', 'Fruit / Vegetable Beer'],\n",
    "    \n",
    "    'Wild/Sour Beers' : ['Berliner Weisse', 'Brett Beer', 'Faro', 'Flanders Oud Bruin', 'Flanders Red Ale', 'Fruit Lambic',\n",
    "    'Fruited Kettle Sour', 'Gose', 'Gueuze', 'Lambic', 'Wild Ale', 'Lambic - Unblended', 'Lambic - Fruit', 'American Wild Ale'],\n",
    "\n",
    "    'Weird Cocktail' : ['Black & Tan']\n",
    "}"
   ]
  },
  {
   "cell_type": "code",
   "execution_count": 424,
   "metadata": {
    "cell_id": "26ffb113c1fd44f38af6d5ed9861ed16",
    "deepnote_cell_type": "code",
    "deepnote_to_be_reexecuted": false,
    "execution_millis": 8,
    "execution_start": 1668694159764,
    "source_hash": "390b466c",
    "tags": []
   },
   "outputs": [],
   "source": [
    "beer_catalog_reverse = {}\n",
    "for key, values in beer_catalog.items():\n",
    "    for value in values:\n",
    "            beer_catalog_reverse.setdefault(value, []).append(key)"
   ]
  },
  {
   "cell_type": "code",
   "execution_count": 425,
   "metadata": {
    "cell_id": "8aec10edbc964f71acf3ba71218c5896",
    "deepnote_cell_type": "code",
    "deepnote_to_be_reexecuted": false,
    "execution_millis": 40,
    "execution_start": 1668694159774,
    "source_hash": "6e14184a",
    "tags": []
   },
   "outputs": [],
   "source": [
    "def category_check(beer_style, beer_catalog):\n",
    "    '''\n",
    "    Return the new columns of 15 categories made in the website https://www.beeradvocate.com/beer/styles/\n",
    "    '''\n",
    "    for category_name, beer_styles in beer_catalog.items():\n",
    "        if beer_style in beer_styles:\n",
    "            return category_name"
   ]
  },
  {
   "cell_type": "code",
   "execution_count": 426,
   "metadata": {
    "cell_id": "b478e5b39ab946288c93c71c01b1af4c",
    "deepnote_cell_type": "code",
    "deepnote_to_be_reexecuted": false,
    "execution_millis": 821,
    "execution_start": 1668694159814,
    "source_hash": "d2dcf1f1",
    "tags": []
   },
   "outputs": [],
   "source": [
    "df_beers['category'] = df_beers['style'].apply(lambda beer_style: category_check(beer_style, beer_catalog))"
   ]
  },
  {
   "cell_type": "code",
   "execution_count": 427,
   "metadata": {},
   "outputs": [
    {
     "data": {
      "text/html": [
       "<div>\n",
       "<style scoped>\n",
       "    .dataframe tbody tr th:only-of-type {\n",
       "        vertical-align: middle;\n",
       "    }\n",
       "\n",
       "    .dataframe tbody tr th {\n",
       "        vertical-align: top;\n",
       "    }\n",
       "\n",
       "    .dataframe thead th {\n",
       "        text-align: right;\n",
       "    }\n",
       "</style>\n",
       "<table border=\"1\" class=\"dataframe\">\n",
       "  <thead>\n",
       "    <tr style=\"text-align: right;\">\n",
       "      <th></th>\n",
       "      <th>beer_id</th>\n",
       "      <th>beer_name</th>\n",
       "      <th>brewery_id</th>\n",
       "      <th>brewery_name</th>\n",
       "      <th>style</th>\n",
       "      <th>nbr_reviews</th>\n",
       "      <th>nbr_ratings</th>\n",
       "      <th>avg</th>\n",
       "      <th>abv</th>\n",
       "      <th>category</th>\n",
       "    </tr>\n",
       "  </thead>\n",
       "  <tbody>\n",
       "    <tr>\n",
       "      <th>0</th>\n",
       "      <td>166064</td>\n",
       "      <td>Nashe Moskovskoe</td>\n",
       "      <td>39912</td>\n",
       "      <td>Abdysh-Ata (Абдыш Ата)</td>\n",
       "      <td>Euro Pale Lager</td>\n",
       "      <td>0</td>\n",
       "      <td>0</td>\n",
       "      <td>NaN</td>\n",
       "      <td>4.7</td>\n",
       "      <td>Pale Lagers</td>\n",
       "    </tr>\n",
       "    <tr>\n",
       "      <th>1</th>\n",
       "      <td>166065</td>\n",
       "      <td>Nashe Pivovskoe</td>\n",
       "      <td>39912</td>\n",
       "      <td>Abdysh-Ata (Абдыш Ата)</td>\n",
       "      <td>Euro Pale Lager</td>\n",
       "      <td>0</td>\n",
       "      <td>0</td>\n",
       "      <td>NaN</td>\n",
       "      <td>3.8</td>\n",
       "      <td>Pale Lagers</td>\n",
       "    </tr>\n",
       "    <tr>\n",
       "      <th>2</th>\n",
       "      <td>166066</td>\n",
       "      <td>Nashe Shakhterskoe</td>\n",
       "      <td>39912</td>\n",
       "      <td>Abdysh-Ata (Абдыш Ата)</td>\n",
       "      <td>Euro Pale Lager</td>\n",
       "      <td>0</td>\n",
       "      <td>0</td>\n",
       "      <td>NaN</td>\n",
       "      <td>4.8</td>\n",
       "      <td>Pale Lagers</td>\n",
       "    </tr>\n",
       "    <tr>\n",
       "      <th>3</th>\n",
       "      <td>166067</td>\n",
       "      <td>Nashe Zhigulevskoe</td>\n",
       "      <td>39912</td>\n",
       "      <td>Abdysh-Ata (Абдыш Ата)</td>\n",
       "      <td>Euro Pale Lager</td>\n",
       "      <td>0</td>\n",
       "      <td>0</td>\n",
       "      <td>NaN</td>\n",
       "      <td>4.0</td>\n",
       "      <td>Pale Lagers</td>\n",
       "    </tr>\n",
       "    <tr>\n",
       "      <th>4</th>\n",
       "      <td>166063</td>\n",
       "      <td>Zhivoe</td>\n",
       "      <td>39912</td>\n",
       "      <td>Abdysh-Ata (Абдыш Ата)</td>\n",
       "      <td>Euro Pale Lager</td>\n",
       "      <td>0</td>\n",
       "      <td>0</td>\n",
       "      <td>NaN</td>\n",
       "      <td>4.5</td>\n",
       "      <td>Pale Lagers</td>\n",
       "    </tr>\n",
       "    <tr>\n",
       "      <th>...</th>\n",
       "      <td>...</td>\n",
       "      <td>...</td>\n",
       "      <td>...</td>\n",
       "      <td>...</td>\n",
       "      <td>...</td>\n",
       "      <td>...</td>\n",
       "      <td>...</td>\n",
       "      <td>...</td>\n",
       "      <td>...</td>\n",
       "      <td>...</td>\n",
       "    </tr>\n",
       "    <tr>\n",
       "      <th>280818</th>\n",
       "      <td>19139</td>\n",
       "      <td>Kölsch Ale</td>\n",
       "      <td>885</td>\n",
       "      <td>Summit Station Restaurant &amp; Brewery</td>\n",
       "      <td>Kölsch</td>\n",
       "      <td>3</td>\n",
       "      <td>3</td>\n",
       "      <td>2.71</td>\n",
       "      <td>5.0</td>\n",
       "      <td>Pale Ales</td>\n",
       "    </tr>\n",
       "    <tr>\n",
       "      <th>280819</th>\n",
       "      <td>19140</td>\n",
       "      <td>Nut Brown Ale</td>\n",
       "      <td>885</td>\n",
       "      <td>Summit Station Restaurant &amp; Brewery</td>\n",
       "      <td>English Brown Ale</td>\n",
       "      <td>1</td>\n",
       "      <td>2</td>\n",
       "      <td>3.10</td>\n",
       "      <td>5.3</td>\n",
       "      <td>Brown Ales</td>\n",
       "    </tr>\n",
       "    <tr>\n",
       "      <th>280820</th>\n",
       "      <td>19146</td>\n",
       "      <td>Octoberfest</td>\n",
       "      <td>885</td>\n",
       "      <td>Summit Station Restaurant &amp; Brewery</td>\n",
       "      <td>Märzen / Oktoberfest</td>\n",
       "      <td>0</td>\n",
       "      <td>0</td>\n",
       "      <td>NaN</td>\n",
       "      <td>NaN</td>\n",
       "      <td>Pale Lagers</td>\n",
       "    </tr>\n",
       "    <tr>\n",
       "      <th>280821</th>\n",
       "      <td>2805</td>\n",
       "      <td>Scotch Ale</td>\n",
       "      <td>885</td>\n",
       "      <td>Summit Station Restaurant &amp; Brewery</td>\n",
       "      <td>Scotch Ale / Wee Heavy</td>\n",
       "      <td>0</td>\n",
       "      <td>0</td>\n",
       "      <td>NaN</td>\n",
       "      <td>7.0</td>\n",
       "      <td>Strong Ales</td>\n",
       "    </tr>\n",
       "    <tr>\n",
       "      <th>280822</th>\n",
       "      <td>19148</td>\n",
       "      <td>Smoked Porter</td>\n",
       "      <td>885</td>\n",
       "      <td>Summit Station Restaurant &amp; Brewery</td>\n",
       "      <td>American Porter</td>\n",
       "      <td>0</td>\n",
       "      <td>0</td>\n",
       "      <td>NaN</td>\n",
       "      <td>NaN</td>\n",
       "      <td>Porters</td>\n",
       "    </tr>\n",
       "  </tbody>\n",
       "</table>\n",
       "<p>280823 rows × 10 columns</p>\n",
       "</div>"
      ],
      "text/plain": [
       "        beer_id           beer_name  brewery_id  \\\n",
       "0        166064    Nashe Moskovskoe       39912   \n",
       "1        166065     Nashe Pivovskoe       39912   \n",
       "2        166066  Nashe Shakhterskoe       39912   \n",
       "3        166067  Nashe Zhigulevskoe       39912   \n",
       "4        166063              Zhivoe       39912   \n",
       "...         ...                 ...         ...   \n",
       "280818    19139          Kölsch Ale         885   \n",
       "280819    19140       Nut Brown Ale         885   \n",
       "280820    19146         Octoberfest         885   \n",
       "280821     2805          Scotch Ale         885   \n",
       "280822    19148       Smoked Porter         885   \n",
       "\n",
       "                               brewery_name                   style  \\\n",
       "0                    Abdysh-Ata (Абдыш Ата)         Euro Pale Lager   \n",
       "1                    Abdysh-Ata (Абдыш Ата)         Euro Pale Lager   \n",
       "2                    Abdysh-Ata (Абдыш Ата)         Euro Pale Lager   \n",
       "3                    Abdysh-Ata (Абдыш Ата)         Euro Pale Lager   \n",
       "4                    Abdysh-Ata (Абдыш Ата)         Euro Pale Lager   \n",
       "...                                     ...                     ...   \n",
       "280818  Summit Station Restaurant & Brewery                  Kölsch   \n",
       "280819  Summit Station Restaurant & Brewery       English Brown Ale   \n",
       "280820  Summit Station Restaurant & Brewery    Märzen / Oktoberfest   \n",
       "280821  Summit Station Restaurant & Brewery  Scotch Ale / Wee Heavy   \n",
       "280822  Summit Station Restaurant & Brewery         American Porter   \n",
       "\n",
       "        nbr_reviews  nbr_ratings   avg  abv     category  \n",
       "0                 0            0   NaN  4.7  Pale Lagers  \n",
       "1                 0            0   NaN  3.8  Pale Lagers  \n",
       "2                 0            0   NaN  4.8  Pale Lagers  \n",
       "3                 0            0   NaN  4.0  Pale Lagers  \n",
       "4                 0            0   NaN  4.5  Pale Lagers  \n",
       "...             ...          ...   ...  ...          ...  \n",
       "280818            3            3  2.71  5.0    Pale Ales  \n",
       "280819            1            2  3.10  5.3   Brown Ales  \n",
       "280820            0            0   NaN  NaN  Pale Lagers  \n",
       "280821            0            0   NaN  7.0  Strong Ales  \n",
       "280822            0            0   NaN  NaN      Porters  \n",
       "\n",
       "[280823 rows x 10 columns]"
      ]
     },
     "execution_count": 427,
     "metadata": {},
     "output_type": "execute_result"
    }
   ],
   "source": [
    "df_beers"
   ]
  },
  {
   "attachments": {},
   "cell_type": "markdown",
   "metadata": {},
   "source": [
    "# Users and filtering"
   ]
  },
  {
   "cell_type": "code",
   "execution_count": 428,
   "metadata": {
    "cell_id": "a08802bdef7149109203f51bdf1142ce",
    "deepnote_cell_type": "code"
   },
   "outputs": [
    {
     "name": "stdout",
     "output_type": "stream",
     "text": [
      "         nbr_ratings    nbr_reviews        joined\n",
      "count  153704.000000  153704.000000  1.510520e+05\n",
      "mean       54.605163      16.847876  1.357238e+09\n",
      "std       252.388790     139.846706  9.195131e+07\n",
      "min         1.000000       0.000000  8.407944e+08\n",
      "25%         1.000000       0.000000  1.303121e+09\n",
      "50%         3.000000       0.000000  1.391944e+09\n",
      "75%        16.000000       2.000000  1.417691e+09\n",
      "max     12046.000000    8970.000000  1.501495e+09\n"
     ]
    },
    {
     "data": {
      "text/html": [
       "<div>\n",
       "<style scoped>\n",
       "    .dataframe tbody tr th:only-of-type {\n",
       "        vertical-align: middle;\n",
       "    }\n",
       "\n",
       "    .dataframe tbody tr th {\n",
       "        vertical-align: top;\n",
       "    }\n",
       "\n",
       "    .dataframe thead th {\n",
       "        text-align: right;\n",
       "    }\n",
       "</style>\n",
       "<table border=\"1\" class=\"dataframe\">\n",
       "  <thead>\n",
       "    <tr style=\"text-align: right;\">\n",
       "      <th></th>\n",
       "      <th>nbr_ratings</th>\n",
       "      <th>nbr_reviews</th>\n",
       "      <th>user_id</th>\n",
       "      <th>user_name</th>\n",
       "      <th>joined</th>\n",
       "      <th>location</th>\n",
       "    </tr>\n",
       "  </thead>\n",
       "  <tbody>\n",
       "    <tr>\n",
       "      <th>0</th>\n",
       "      <td>7820</td>\n",
       "      <td>465</td>\n",
       "      <td>nmann08.184925</td>\n",
       "      <td>nmann08</td>\n",
       "      <td>1.199704e+09</td>\n",
       "      <td>United States, Washington</td>\n",
       "    </tr>\n",
       "    <tr>\n",
       "      <th>1</th>\n",
       "      <td>2521</td>\n",
       "      <td>2504</td>\n",
       "      <td>stjamesgate.163714</td>\n",
       "      <td>StJamesGate</td>\n",
       "      <td>1.191838e+09</td>\n",
       "      <td>United States, New York</td>\n",
       "    </tr>\n",
       "    <tr>\n",
       "      <th>2</th>\n",
       "      <td>1797</td>\n",
       "      <td>1143</td>\n",
       "      <td>mdagnew.19527</td>\n",
       "      <td>mdagnew</td>\n",
       "      <td>1.116410e+09</td>\n",
       "      <td>Northern Ireland</td>\n",
       "    </tr>\n",
       "    <tr>\n",
       "      <th>3</th>\n",
       "      <td>31</td>\n",
       "      <td>31</td>\n",
       "      <td>helloloser12345.10867</td>\n",
       "      <td>helloloser12345</td>\n",
       "      <td>1.101380e+09</td>\n",
       "      <td>Northern Ireland</td>\n",
       "    </tr>\n",
       "    <tr>\n",
       "      <th>4</th>\n",
       "      <td>604</td>\n",
       "      <td>604</td>\n",
       "      <td>cypressbob.3708</td>\n",
       "      <td>cypressbob</td>\n",
       "      <td>1.069326e+09</td>\n",
       "      <td>Northern Ireland</td>\n",
       "    </tr>\n",
       "  </tbody>\n",
       "</table>\n",
       "</div>"
      ],
      "text/plain": [
       "   nbr_ratings  nbr_reviews                user_id        user_name  \\\n",
       "0         7820          465         nmann08.184925          nmann08   \n",
       "1         2521         2504     stjamesgate.163714      StJamesGate   \n",
       "2         1797         1143          mdagnew.19527          mdagnew   \n",
       "3           31           31  helloloser12345.10867  helloloser12345   \n",
       "4          604          604        cypressbob.3708       cypressbob   \n",
       "\n",
       "         joined                   location  \n",
       "0  1.199704e+09  United States, Washington  \n",
       "1  1.191838e+09    United States, New York  \n",
       "2  1.116410e+09           Northern Ireland  \n",
       "3  1.101380e+09           Northern Ireland  \n",
       "4  1.069326e+09           Northern Ireland  "
      ]
     },
     "execution_count": 428,
     "metadata": {},
     "output_type": "execute_result"
    }
   ],
   "source": [
    "#load the data\n",
    "\n",
    "df_users = pd.read_csv('./data/users.csv')\n",
    "print(df_users.describe())\n",
    "df_users.head(5)"
   ]
  },
  {
   "cell_type": "code",
   "execution_count": 429,
   "metadata": {
    "cell_id": "e9bbb0ea7e39456583d0b6628a387617",
    "deepnote_cell_type": "code"
   },
   "outputs": [
    {
     "name": "stdout",
     "output_type": "stream",
     "text": [
      "There are 113223 US users\n",
      "Cutoff low :  500\n",
      "Cutoff high :  1135.0\n",
      "Number of users left :  2232\n",
      "Total of ratings left :  1652164\n"
     ]
    }
   ],
   "source": [
    "# First user filtering phase \n",
    "\n",
    "# keep users from the USA only & who have made a minimum number of reviews in order to participate in our study\n",
    "\n",
    "df_us_users = df_users[df_users.location.str.contains('United States', na=False)]\n",
    "nb_us_users = df_us_users['user_id'].nunique()\n",
    "print(f\"There are {nb_us_users} US users\")\n",
    "\n",
    "#choose a minimum number of ratings per user, since we want to analyse an evolution!\n",
    "cutoff_low = 500\n",
    "print(\"Cutoff low : \", cutoff_low)\n",
    "\n",
    "#choose a maximum number of ratings per user, we want to filter our super-users or organisations\n",
    "cutoff_high = df_us_users.nbr_ratings.quantile(0.99)\n",
    "print(\"Cutoff high : \", cutoff_high)\n",
    "\n",
    "#create a valid user dataframe and a set with the valid user_names\n",
    "df_us_users = df_us_users[(df_us_users.nbr_ratings < cutoff_high) &\n",
    "                                (df_us_users.nbr_ratings >= cutoff_low)]\n",
    "us_users_names = set(df_us_users.user_name)\n",
    "print(\"Number of users left : \", len(us_users_names))\n",
    "print(\"Total of ratings left : \", df_us_users.nbr_ratings.sum())\n",
    "\n",
    "#convert the 'joined' column into datetime format\n",
    "df_us_users.loc[:,'date_joined'] = pd.to_datetime(df_us_users['joined'].apply(lambda dt : datetime.fromtimestamp(dt).strftime('%Y-%m-%d')))"
   ]
  },
  {
   "cell_type": "code",
   "execution_count": 430,
   "metadata": {},
   "outputs": [],
   "source": [
    "# We now gather some more user information by analyzing their behaviour as a reviewer"
   ]
  },
  {
   "cell_type": "code",
   "execution_count": 431,
   "metadata": {
    "cell_id": "4eb61738f844445ba471cd7668afab43",
    "deepnote_cell_type": "code",
    "deepnote_to_be_reexecuted": false,
    "execution_millis": 5,
    "execution_start": 1668694161680,
    "source_hash": "5f5f7f2d",
    "tags": []
   },
   "outputs": [],
   "source": [
    "def parse(filename):\n",
    "    \"\"\"\n",
    "    Parse a txt.gz file and return a generator for it\n",
    "    Copyright © 2017 Gael Lederrey <gael.lederrey@epfl.ch>\n",
    "    :param filename: name of the file\n",
    "    :return: Generator to go through the file\n",
    "    \"\"\"\n",
    "    file = gzip.open(filename, 'rb')\n",
    "    entry = {}\n",
    "    # Go through all the lines\n",
    "    for line in file:\n",
    "        # Transform the string-bytes into a string\n",
    "        line = line.decode(\"utf-8\").strip()\n",
    "\n",
    "        # We check for a colon in each line\n",
    "        colon_pos = line.find(\":\")\n",
    "        if colon_pos == -1:\n",
    "            # if no, we yield the entry\n",
    "            yield entry\n",
    "            entry = {}\n",
    "            continue\n",
    "        # otherwise, we add the key-value pair to the entry\n",
    "        key = line[:colon_pos]\n",
    "        value = line[colon_pos + 2:]\n",
    "        entry[key] = value"
   ]
  },
  {
   "cell_type": "code",
   "execution_count": 432,
   "metadata": {
    "cell_id": "cb2d5c48750b49048257c318e1a94601",
    "deepnote_cell_type": "code"
   },
   "outputs": [],
   "source": [
    "gen = parse('./data/ratings.txt.gz')"
   ]
  },
  {
   "cell_type": "code",
   "execution_count": 433,
   "metadata": {
    "cell_id": "d885e11d05b34b36931c83ed75198dc4",
    "deepnote_cell_type": "code"
   },
   "outputs": [],
   "source": [
    "#We create the dataframe of the valid us users previously determined\n",
    "\n",
    "create = False\n",
    "\n",
    "if create:\n",
    "    undesired_features = set(['text','review', 'brewery_name', 'brewery_id', 'user_id', 'beer_name'])\n",
    "    full_ratings_ls = []\n",
    "    int_cols = ['beer_id']\n",
    "    float_cols = ['abv','appearance', 'aroma', 'palate', 'taste', 'overall', 'rating']\n",
    "\n",
    "    review = next(gen)\n",
    "    cols = [key for key, _ in review.items() if key not in undesired_features]\n",
    "\n",
    "    for idx, review in enumerate(gen):\n",
    "        user_name = review['user_name']\n",
    "        valid_rows = [value for key, value in review.items() if key not in undesired_features]\n",
    "        if user_name in us_users_names:\n",
    "            full_ratings_ls.append(valid_rows)\n",
    "\n",
    "    df_ratings = pd.DataFrame(full_ratings_ls, columns = cols)\n",
    "\n",
    "    df_ratings[int_cols] = df_ratings[int_cols].astype('int')\n",
    "    df_ratings[float_cols] = df_ratings[float_cols].astype('float') \n",
    "    df_ratings[\"date\"] = pd.to_datetime(df_ratings.date.apply(\n",
    "        lambda date : datetime.fromtimestamp(int(date)).strftime('%Y-%m-%d')\n",
    "    ))\n",
    "\n",
    "    #There is one review in 2000, wich is an outlier\n",
    "    start_date = pd.to_datetime(\"2001-01-01\")\n",
    "    df_ratings = df_ratings.loc[df_ratings['date'] >= start_date]   \n",
    "    df_ratings.to_pickle('./data/ratings_valid_user.pkl')\n",
    "\n",
    "else:\n",
    "    df_ratings = pd.read_pickle('./data/ratings_valid_user.pkl')"
   ]
  },
  {
   "cell_type": "code",
   "execution_count": 434,
   "metadata": {},
   "outputs": [],
   "source": [
    "#add the category of the beer\n",
    "beers_id_cat = df_beers[['beer_id', 'category']]\n",
    "df_ratings = pd.merge(df_ratings, beers_id_cat, on = 'beer_id')\n",
    "\n",
    "#add the rating number, starts at 0\n",
    "df_ratings.sort_values(by = \"date\", inplace=True)\n",
    "df_ratings[\"rating_number\"] = df_ratings.groupby(\"user_name\").transform(\"cumcount\")\n",
    "\n",
    "#we also convert the date to the proper format\n",
    "df_ratings[\"date\"] = pd.to_datetime(df_ratings[\"date\"])"
   ]
  },
  {
   "cell_type": "code",
   "execution_count": 435,
   "metadata": {},
   "outputs": [],
   "source": [
    "#We apply the second of our filters, we only keep the 500 first ratings. (rating number at which you are considered an expert)\n",
    "nb_ratings_expert = 500\n",
    "df_us_ratings = df_ratings[df_ratings[\"rating_number\"] < nb_ratings_expert]"
   ]
  },
  {
   "cell_type": "code",
   "execution_count": 436,
   "metadata": {},
   "outputs": [
    {
     "data": {
      "text/html": [
       "<div>\n",
       "<style scoped>\n",
       "    .dataframe tbody tr th:only-of-type {\n",
       "        vertical-align: middle;\n",
       "    }\n",
       "\n",
       "    .dataframe tbody tr th {\n",
       "        vertical-align: top;\n",
       "    }\n",
       "\n",
       "    .dataframe thead th {\n",
       "        text-align: right;\n",
       "    }\n",
       "</style>\n",
       "<table border=\"1\" class=\"dataframe\">\n",
       "  <thead>\n",
       "    <tr style=\"text-align: right;\">\n",
       "      <th></th>\n",
       "      <th>beer_id</th>\n",
       "      <th>style</th>\n",
       "      <th>abv</th>\n",
       "      <th>date</th>\n",
       "      <th>user_name</th>\n",
       "      <th>appearance</th>\n",
       "      <th>aroma</th>\n",
       "      <th>palate</th>\n",
       "      <th>taste</th>\n",
       "      <th>overall</th>\n",
       "      <th>rating</th>\n",
       "      <th>category</th>\n",
       "      <th>rating_number</th>\n",
       "    </tr>\n",
       "  </thead>\n",
       "  <tbody>\n",
       "    <tr>\n",
       "      <th>1640018</th>\n",
       "      <td>167</td>\n",
       "      <td>Witbier</td>\n",
       "      <td>NaN</td>\n",
       "      <td>2001-03-16</td>\n",
       "      <td>frank4sail</td>\n",
       "      <td>4.5</td>\n",
       "      <td>4.5</td>\n",
       "      <td>4.0</td>\n",
       "      <td>5.0</td>\n",
       "      <td>5.0</td>\n",
       "      <td>4.75</td>\n",
       "      <td>Wheat Beers</td>\n",
       "      <td>0</td>\n",
       "    </tr>\n",
       "    <tr>\n",
       "      <th>311428</th>\n",
       "      <td>3558</td>\n",
       "      <td>Czech Pilsener</td>\n",
       "      <td>5.00</td>\n",
       "      <td>2001-06-18</td>\n",
       "      <td>Mark</td>\n",
       "      <td>4.0</td>\n",
       "      <td>4.0</td>\n",
       "      <td>3.0</td>\n",
       "      <td>4.0</td>\n",
       "      <td>4.0</td>\n",
       "      <td>3.90</td>\n",
       "      <td>Pale Lagers</td>\n",
       "      <td>0</td>\n",
       "    </tr>\n",
       "    <tr>\n",
       "      <th>17313</th>\n",
       "      <td>73</td>\n",
       "      <td>Milk / Sweet Stout</td>\n",
       "      <td>5.20</td>\n",
       "      <td>2001-06-18</td>\n",
       "      <td>Mark</td>\n",
       "      <td>5.0</td>\n",
       "      <td>5.0</td>\n",
       "      <td>5.0</td>\n",
       "      <td>5.0</td>\n",
       "      <td>5.0</td>\n",
       "      <td>5.00</td>\n",
       "      <td>Stouts</td>\n",
       "      <td>1</td>\n",
       "    </tr>\n",
       "    <tr>\n",
       "      <th>136697</th>\n",
       "      <td>261</td>\n",
       "      <td>Vienna Lager</td>\n",
       "      <td>4.48</td>\n",
       "      <td>2001-06-24</td>\n",
       "      <td>Mark</td>\n",
       "      <td>4.0</td>\n",
       "      <td>3.0</td>\n",
       "      <td>3.0</td>\n",
       "      <td>3.0</td>\n",
       "      <td>3.0</td>\n",
       "      <td>3.06</td>\n",
       "      <td>Dark Lagers</td>\n",
       "      <td>2</td>\n",
       "    </tr>\n",
       "    <tr>\n",
       "      <th>442671</th>\n",
       "      <td>87</td>\n",
       "      <td>American Pale Ale (APA)</td>\n",
       "      <td>5.40</td>\n",
       "      <td>2001-06-24</td>\n",
       "      <td>Mark</td>\n",
       "      <td>4.0</td>\n",
       "      <td>4.0</td>\n",
       "      <td>1.0</td>\n",
       "      <td>3.0</td>\n",
       "      <td>3.0</td>\n",
       "      <td>3.10</td>\n",
       "      <td>Pale Ales</td>\n",
       "      <td>3</td>\n",
       "    </tr>\n",
       "  </tbody>\n",
       "</table>\n",
       "</div>"
      ],
      "text/plain": [
       "         beer_id                    style   abv       date   user_name  \\\n",
       "1640018      167                  Witbier   NaN 2001-03-16  frank4sail   \n",
       "311428      3558           Czech Pilsener  5.00 2001-06-18        Mark   \n",
       "17313         73       Milk / Sweet Stout  5.20 2001-06-18        Mark   \n",
       "136697       261             Vienna Lager  4.48 2001-06-24        Mark   \n",
       "442671        87  American Pale Ale (APA)  5.40 2001-06-24        Mark   \n",
       "\n",
       "         appearance  aroma  palate  taste  overall  rating     category  \\\n",
       "1640018         4.5    4.5     4.0    5.0      5.0    4.75  Wheat Beers   \n",
       "311428          4.0    4.0     3.0    4.0      4.0    3.90  Pale Lagers   \n",
       "17313           5.0    5.0     5.0    5.0      5.0    5.00       Stouts   \n",
       "136697          4.0    3.0     3.0    3.0      3.0    3.06  Dark Lagers   \n",
       "442671          4.0    4.0     1.0    3.0      3.0    3.10    Pale Ales   \n",
       "\n",
       "         rating_number  \n",
       "1640018              0  \n",
       "311428               0  \n",
       "17313                1  \n",
       "136697               2  \n",
       "442671               3  "
      ]
     },
     "execution_count": 436,
     "metadata": {},
     "output_type": "execute_result"
    }
   ],
   "source": [
    "df_us_ratings.head(5)"
   ]
  },
  {
   "cell_type": "code",
   "execution_count": 437,
   "metadata": {},
   "outputs": [],
   "source": [
    "#We go back to users and compute on how many different days they were active\n",
    "\n",
    "user_active = df_us_ratings.groupby(['user_name'], as_index = False).date.nunique()\n",
    "user_active.columns = ['user_name', 'active_days']\n",
    "df_us_users = df_us_users.merge(user_active, on = 'user_name')"
   ]
  },
  {
   "cell_type": "code",
   "execution_count": 438,
   "metadata": {},
   "outputs": [
    {
     "data": {
      "text/html": [
       "<div>\n",
       "<style scoped>\n",
       "    .dataframe tbody tr th:only-of-type {\n",
       "        vertical-align: middle;\n",
       "    }\n",
       "\n",
       "    .dataframe tbody tr th {\n",
       "        vertical-align: top;\n",
       "    }\n",
       "\n",
       "    .dataframe thead th {\n",
       "        text-align: right;\n",
       "    }\n",
       "</style>\n",
       "<table border=\"1\" class=\"dataframe\">\n",
       "  <thead>\n",
       "    <tr style=\"text-align: right;\">\n",
       "      <th></th>\n",
       "      <th>nbr_ratings</th>\n",
       "      <th>nbr_reviews</th>\n",
       "      <th>user_id</th>\n",
       "      <th>user_name</th>\n",
       "      <th>joined</th>\n",
       "      <th>location</th>\n",
       "      <th>date_joined</th>\n",
       "      <th>active_days</th>\n",
       "      <th>delta_first_last</th>\n",
       "    </tr>\n",
       "  </thead>\n",
       "  <tbody>\n",
       "    <tr>\n",
       "      <th>0</th>\n",
       "      <td>1131</td>\n",
       "      <td>188</td>\n",
       "      <td>okcnittany.144868</td>\n",
       "      <td>OKCNittany</td>\n",
       "      <td>1.182766e+09</td>\n",
       "      <td>United States, Oklahoma</td>\n",
       "      <td>2007-06-25</td>\n",
       "      <td>187</td>\n",
       "      <td>2397</td>\n",
       "    </tr>\n",
       "    <tr>\n",
       "      <th>1</th>\n",
       "      <td>732</td>\n",
       "      <td>14</td>\n",
       "      <td>byofb.537281</td>\n",
       "      <td>BYOFB</td>\n",
       "      <td>1.292065e+09</td>\n",
       "      <td>United States, Wisconsin</td>\n",
       "      <td>2010-12-11</td>\n",
       "      <td>32</td>\n",
       "      <td>756</td>\n",
       "    </tr>\n",
       "    <tr>\n",
       "      <th>2</th>\n",
       "      <td>585</td>\n",
       "      <td>389</td>\n",
       "      <td>ferrari29.320392</td>\n",
       "      <td>ferrari29</td>\n",
       "      <td>1.239790e+09</td>\n",
       "      <td>United States, Illinois</td>\n",
       "      <td>2009-04-15</td>\n",
       "      <td>202</td>\n",
       "      <td>1193</td>\n",
       "    </tr>\n",
       "    <tr>\n",
       "      <th>3</th>\n",
       "      <td>1078</td>\n",
       "      <td>10</td>\n",
       "      <td>colsanders123.545441</td>\n",
       "      <td>ColSanders123</td>\n",
       "      <td>1.293620e+09</td>\n",
       "      <td>United States, Georgia</td>\n",
       "      <td>2010-12-29</td>\n",
       "      <td>135</td>\n",
       "      <td>1077</td>\n",
       "    </tr>\n",
       "    <tr>\n",
       "      <th>4</th>\n",
       "      <td>914</td>\n",
       "      <td>890</td>\n",
       "      <td>jays2629.517433</td>\n",
       "      <td>JayS2629</td>\n",
       "      <td>1.287828e+09</td>\n",
       "      <td>United States, Alabama</td>\n",
       "      <td>2010-10-23</td>\n",
       "      <td>101</td>\n",
       "      <td>244</td>\n",
       "    </tr>\n",
       "    <tr>\n",
       "      <th>...</th>\n",
       "      <td>...</td>\n",
       "      <td>...</td>\n",
       "      <td>...</td>\n",
       "      <td>...</td>\n",
       "      <td>...</td>\n",
       "      <td>...</td>\n",
       "      <td>...</td>\n",
       "      <td>...</td>\n",
       "      <td>...</td>\n",
       "    </tr>\n",
       "    <tr>\n",
       "      <th>2227</th>\n",
       "      <td>548</td>\n",
       "      <td>21</td>\n",
       "      <td>crafteyedoc.675112</td>\n",
       "      <td>CraftEyeDoc</td>\n",
       "      <td>1.336039e+09</td>\n",
       "      <td>United States, North Carolina</td>\n",
       "      <td>2012-05-03</td>\n",
       "      <td>143</td>\n",
       "      <td>970</td>\n",
       "    </tr>\n",
       "    <tr>\n",
       "      <th>2228</th>\n",
       "      <td>630</td>\n",
       "      <td>23</td>\n",
       "      <td>pmoney.592770</td>\n",
       "      <td>pmoney</td>\n",
       "      <td>1.302862e+09</td>\n",
       "      <td>United States, Illinois</td>\n",
       "      <td>2011-04-15</td>\n",
       "      <td>132</td>\n",
       "      <td>854</td>\n",
       "    </tr>\n",
       "    <tr>\n",
       "      <th>2229</th>\n",
       "      <td>637</td>\n",
       "      <td>48</td>\n",
       "      <td>aleckpa.541457</td>\n",
       "      <td>aleckpa</td>\n",
       "      <td>1.292843e+09</td>\n",
       "      <td>United States, North Carolina</td>\n",
       "      <td>2010-12-20</td>\n",
       "      <td>275</td>\n",
       "      <td>1853</td>\n",
       "    </tr>\n",
       "    <tr>\n",
       "      <th>2230</th>\n",
       "      <td>1117</td>\n",
       "      <td>4</td>\n",
       "      <td>dinoblueshoes.607196</td>\n",
       "      <td>DinoBlueShoes</td>\n",
       "      <td>1.309342e+09</td>\n",
       "      <td>United States, Maine</td>\n",
       "      <td>2011-06-29</td>\n",
       "      <td>196</td>\n",
       "      <td>1047</td>\n",
       "    </tr>\n",
       "    <tr>\n",
       "      <th>2231</th>\n",
       "      <td>550</td>\n",
       "      <td>0</td>\n",
       "      <td>mikerieder.227228</td>\n",
       "      <td>mikerieder</td>\n",
       "      <td>1.213265e+09</td>\n",
       "      <td>United States, South Dakota</td>\n",
       "      <td>2008-06-12</td>\n",
       "      <td>95</td>\n",
       "      <td>1044</td>\n",
       "    </tr>\n",
       "  </tbody>\n",
       "</table>\n",
       "<p>2232 rows × 9 columns</p>\n",
       "</div>"
      ],
      "text/plain": [
       "      nbr_ratings  nbr_reviews               user_id      user_name  \\\n",
       "0            1131          188     okcnittany.144868     OKCNittany   \n",
       "1             732           14          byofb.537281          BYOFB   \n",
       "2             585          389      ferrari29.320392      ferrari29   \n",
       "3            1078           10  colsanders123.545441  ColSanders123   \n",
       "4             914          890       jays2629.517433       JayS2629   \n",
       "...           ...          ...                   ...            ...   \n",
       "2227          548           21    crafteyedoc.675112    CraftEyeDoc   \n",
       "2228          630           23         pmoney.592770         pmoney   \n",
       "2229          637           48        aleckpa.541457        aleckpa   \n",
       "2230         1117            4  dinoblueshoes.607196  DinoBlueShoes   \n",
       "2231          550            0     mikerieder.227228     mikerieder   \n",
       "\n",
       "            joined                       location date_joined  active_days  \\\n",
       "0     1.182766e+09        United States, Oklahoma  2007-06-25          187   \n",
       "1     1.292065e+09       United States, Wisconsin  2010-12-11           32   \n",
       "2     1.239790e+09        United States, Illinois  2009-04-15          202   \n",
       "3     1.293620e+09         United States, Georgia  2010-12-29          135   \n",
       "4     1.287828e+09         United States, Alabama  2010-10-23          101   \n",
       "...            ...                            ...         ...          ...   \n",
       "2227  1.336039e+09  United States, North Carolina  2012-05-03          143   \n",
       "2228  1.302862e+09        United States, Illinois  2011-04-15          132   \n",
       "2229  1.292843e+09  United States, North Carolina  2010-12-20          275   \n",
       "2230  1.309342e+09           United States, Maine  2011-06-29          196   \n",
       "2231  1.213265e+09    United States, South Dakota  2008-06-12           95   \n",
       "\n",
       "      delta_first_last  \n",
       "0                 2397  \n",
       "1                  756  \n",
       "2                 1193  \n",
       "3                 1077  \n",
       "4                  244  \n",
       "...                ...  \n",
       "2227               970  \n",
       "2228               854  \n",
       "2229              1853  \n",
       "2230              1047  \n",
       "2231              1044  \n",
       "\n",
       "[2232 rows x 9 columns]"
      ]
     },
     "execution_count": 438,
     "metadata": {},
     "output_type": "execute_result"
    }
   ],
   "source": [
    "# We compute how long it took them to submit the 500 ratings\n",
    "user_delta = df_us_ratings.groupby('user_name', as_index = False).apply(lambda usr: (usr.date.max() - usr.date.min()).days)\n",
    "user_delta.columns = ['user_name', 'delta_first_last']\n",
    "df_us_users = df_us_users.merge(user_delta, on = 'user_name')\n",
    "df_us_users"
   ]
  },
  {
   "cell_type": "code",
   "execution_count": 439,
   "metadata": {},
   "outputs": [],
   "source": [
    "# We compute the maximum number of ratings the user has done in a single day\n",
    "\n",
    "user_day = df_us_ratings[['user_name','date']].groupby([\"user_name\", pd.Grouper(freq = \"D\", key=\"date\")], as_index = False).size()\n",
    "user_day = user_day.groupby('user_name', as_index = False).apply(lambda usr : max(usr['size']))\n",
    "user_day.columns = ['user_name', 'max_active_day']\n",
    "df_us_users = df_us_users.merge(user_day, on = 'user_name')"
   ]
  },
  {
   "cell_type": "code",
   "execution_count": 440,
   "metadata": {},
   "outputs": [],
   "source": [
    "# We compute the maximum number of ratings the user has done in a single month\n",
    "\n",
    "user_month = df_us_ratings[['user_name','date']].groupby([\"user_name\", pd.Grouper(freq = \"M\", key=\"date\")], as_index = False).size()\n",
    "user_month = user_month.groupby('user_name', as_index = False).apply(lambda usr : max(usr['size']))\n",
    "user_month.columns = ['user_name', 'max_active_month']\n",
    "df_us_users = df_us_users.merge(user_month, on = 'user_name') "
   ]
  },
  {
   "cell_type": "code",
   "execution_count": 441,
   "metadata": {},
   "outputs": [],
   "source": [
    "# We also want to know how much time the users took for submitting different number of ratings.\n",
    "\n",
    "def compute_diff_date(user):\n",
    "    diff = {}\n",
    "    day = 50\n",
    "    diff[str(day)] = (user[user[\"rating_number\"] == day-1][\"date\"].item() -\\\n",
    "                         user[user[\"rating_number\"] == 0][\"date\"].item()).days\n",
    "    return pd.Series(diff)"
   ]
  },
  {
   "cell_type": "code",
   "execution_count": 442,
   "metadata": {},
   "outputs": [],
   "source": [
    "def compute_diff_date_last(user):\n",
    "    diff = {}\n",
    "    day = 450\n",
    "    diff[str(day)] = (user[user[\"rating_number\"] == 500-1][\"date\"].item() -\\\n",
    "                         user[user[\"rating_number\"] == day][\"date\"].item()).days\n",
    "    return pd.Series(diff)"
   ]
  },
  {
   "cell_type": "code",
   "execution_count": 443,
   "metadata": {},
   "outputs": [],
   "source": [
    "# We focus on the 10% first reviews (more justification)\n",
    "user_deltas_0_50 = df_us_ratings.groupby('user_name', as_index = False).apply(compute_diff_date)\n",
    "df_us_users = df_us_users.merge(user_deltas_0_50, on = 'user_name')"
   ]
  },
  {
   "cell_type": "code",
   "execution_count": 444,
   "metadata": {},
   "outputs": [],
   "source": [
    "# We focus on the 10% last reviews (more justification)\n",
    "user_deltas_450_500 = df_us_ratings.groupby('user_name', as_index = False).apply(compute_diff_date_last)\n",
    "df_us_users = df_us_users.merge(user_deltas_450_500, on = 'user_name')"
   ]
  },
  {
   "cell_type": "code",
   "execution_count": 445,
   "metadata": {},
   "outputs": [
    {
     "data": {
      "text/html": [
       "<div>\n",
       "<style scoped>\n",
       "    .dataframe tbody tr th:only-of-type {\n",
       "        vertical-align: middle;\n",
       "    }\n",
       "\n",
       "    .dataframe tbody tr th {\n",
       "        vertical-align: top;\n",
       "    }\n",
       "\n",
       "    .dataframe thead th {\n",
       "        text-align: right;\n",
       "    }\n",
       "</style>\n",
       "<table border=\"1\" class=\"dataframe\">\n",
       "  <thead>\n",
       "    <tr style=\"text-align: right;\">\n",
       "      <th></th>\n",
       "      <th>nbr_ratings</th>\n",
       "      <th>nbr_reviews</th>\n",
       "      <th>user_id</th>\n",
       "      <th>user_name</th>\n",
       "      <th>joined</th>\n",
       "      <th>location</th>\n",
       "      <th>date_joined</th>\n",
       "      <th>active_days</th>\n",
       "      <th>delta_first_last</th>\n",
       "      <th>max_active_day</th>\n",
       "      <th>max_active_month</th>\n",
       "      <th>50</th>\n",
       "      <th>450</th>\n",
       "    </tr>\n",
       "  </thead>\n",
       "  <tbody>\n",
       "    <tr>\n",
       "      <th>0</th>\n",
       "      <td>1131</td>\n",
       "      <td>188</td>\n",
       "      <td>okcnittany.144868</td>\n",
       "      <td>OKCNittany</td>\n",
       "      <td>1.182766e+09</td>\n",
       "      <td>United States, Oklahoma</td>\n",
       "      <td>2007-06-25</td>\n",
       "      <td>187</td>\n",
       "      <td>2397</td>\n",
       "      <td>11</td>\n",
       "      <td>91</td>\n",
       "      <td>45</td>\n",
       "      <td>16</td>\n",
       "    </tr>\n",
       "    <tr>\n",
       "      <th>1</th>\n",
       "      <td>732</td>\n",
       "      <td>14</td>\n",
       "      <td>byofb.537281</td>\n",
       "      <td>BYOFB</td>\n",
       "      <td>1.292065e+09</td>\n",
       "      <td>United States, Wisconsin</td>\n",
       "      <td>2010-12-11</td>\n",
       "      <td>32</td>\n",
       "      <td>756</td>\n",
       "      <td>232</td>\n",
       "      <td>273</td>\n",
       "      <td>447</td>\n",
       "      <td>146</td>\n",
       "    </tr>\n",
       "    <tr>\n",
       "      <th>2</th>\n",
       "      <td>585</td>\n",
       "      <td>389</td>\n",
       "      <td>ferrari29.320392</td>\n",
       "      <td>ferrari29</td>\n",
       "      <td>1.239790e+09</td>\n",
       "      <td>United States, Illinois</td>\n",
       "      <td>2009-04-15</td>\n",
       "      <td>202</td>\n",
       "      <td>1193</td>\n",
       "      <td>12</td>\n",
       "      <td>42</td>\n",
       "      <td>64</td>\n",
       "      <td>335</td>\n",
       "    </tr>\n",
       "    <tr>\n",
       "      <th>3</th>\n",
       "      <td>1078</td>\n",
       "      <td>10</td>\n",
       "      <td>colsanders123.545441</td>\n",
       "      <td>ColSanders123</td>\n",
       "      <td>1.293620e+09</td>\n",
       "      <td>United States, Georgia</td>\n",
       "      <td>2010-12-29</td>\n",
       "      <td>135</td>\n",
       "      <td>1077</td>\n",
       "      <td>238</td>\n",
       "      <td>247</td>\n",
       "      <td>254</td>\n",
       "      <td>159</td>\n",
       "    </tr>\n",
       "    <tr>\n",
       "      <th>4</th>\n",
       "      <td>914</td>\n",
       "      <td>890</td>\n",
       "      <td>jays2629.517433</td>\n",
       "      <td>JayS2629</td>\n",
       "      <td>1.287828e+09</td>\n",
       "      <td>United States, Alabama</td>\n",
       "      <td>2010-10-23</td>\n",
       "      <td>101</td>\n",
       "      <td>244</td>\n",
       "      <td>20</td>\n",
       "      <td>103</td>\n",
       "      <td>21</td>\n",
       "      <td>15</td>\n",
       "    </tr>\n",
       "  </tbody>\n",
       "</table>\n",
       "</div>"
      ],
      "text/plain": [
       "   nbr_ratings  nbr_reviews               user_id      user_name  \\\n",
       "0         1131          188     okcnittany.144868     OKCNittany   \n",
       "1          732           14          byofb.537281          BYOFB   \n",
       "2          585          389      ferrari29.320392      ferrari29   \n",
       "3         1078           10  colsanders123.545441  ColSanders123   \n",
       "4          914          890       jays2629.517433       JayS2629   \n",
       "\n",
       "         joined                  location date_joined  active_days  \\\n",
       "0  1.182766e+09   United States, Oklahoma  2007-06-25          187   \n",
       "1  1.292065e+09  United States, Wisconsin  2010-12-11           32   \n",
       "2  1.239790e+09   United States, Illinois  2009-04-15          202   \n",
       "3  1.293620e+09    United States, Georgia  2010-12-29          135   \n",
       "4  1.287828e+09    United States, Alabama  2010-10-23          101   \n",
       "\n",
       "   delta_first_last  max_active_day  max_active_month   50  450  \n",
       "0              2397              11                91   45   16  \n",
       "1               756             232               273  447  146  \n",
       "2              1193              12                42   64  335  \n",
       "3              1077             238               247  254  159  \n",
       "4               244              20               103   21   15  "
      ]
     },
     "execution_count": 445,
     "metadata": {},
     "output_type": "execute_result"
    }
   ],
   "source": [
    "df_us_users.head(5)"
   ]
  },
  {
   "cell_type": "code",
   "execution_count": 446,
   "metadata": {},
   "outputs": [],
   "source": [
    "# We now have a lot more information about the reviewing behaviour of our us users\n",
    "# We proceed with some more filtering to get the final set of users on which we will conduct our study.\n",
    "\n",
    "# Minimum number of active days required:\n",
    "min_active_days = 100\n",
    "df_valid_users = df_us_users[df_us_users['active_days'] >= min_active_days]\n",
    "\n",
    "# How many days needed to submit their 500 ratings:\n",
    "min_delta = 365\n",
    "max_delta = 7*365\n",
    "df_valid_users = df_valid_users[(df_valid_users['delta_first_last'] > min_delta) & (df_valid_users['delta_first_last'] < max_delta)]\n",
    "# Maximum number of reviews in a single day: \n",
    "# On utilise pas pour le moment\n",
    "max_per_day = 70\n",
    "\n",
    "#df_valid_users = df_valid_users[df_valid_users['max_active_day'] < 70]\n",
    "# Maximum number of reviews in a single month:\n",
    "max_per_month = 70\n",
    "df_valid_users = df_valid_users[df_valid_users['max_active_month'] <= max_per_month]"
   ]
  },
  {
   "cell_type": "code",
   "execution_count": 447,
   "metadata": {},
   "outputs": [],
   "source": [
    "# To make the people more similar at the beginning and the end of their ratings career, \n",
    "# we decide to apply a last filter on the users"
   ]
  },
  {
   "cell_type": "code",
   "execution_count": 448,
   "metadata": {},
   "outputs": [
    {
     "data": {
      "text/html": [
       "<div>\n",
       "<style scoped>\n",
       "    .dataframe tbody tr th:only-of-type {\n",
       "        vertical-align: middle;\n",
       "    }\n",
       "\n",
       "    .dataframe tbody tr th {\n",
       "        vertical-align: top;\n",
       "    }\n",
       "\n",
       "    .dataframe thead th {\n",
       "        text-align: right;\n",
       "    }\n",
       "</style>\n",
       "<table border=\"1\" class=\"dataframe\">\n",
       "  <thead>\n",
       "    <tr style=\"text-align: right;\">\n",
       "      <th></th>\n",
       "      <th>nbr_ratings</th>\n",
       "      <th>nbr_reviews</th>\n",
       "      <th>user_id</th>\n",
       "      <th>user_name</th>\n",
       "      <th>joined</th>\n",
       "      <th>location</th>\n",
       "      <th>date_joined</th>\n",
       "      <th>active_days</th>\n",
       "      <th>delta_first_last</th>\n",
       "      <th>max_active_day</th>\n",
       "      <th>max_active_month</th>\n",
       "      <th>50</th>\n",
       "      <th>450</th>\n",
       "    </tr>\n",
       "  </thead>\n",
       "  <tbody>\n",
       "    <tr>\n",
       "      <th>2</th>\n",
       "      <td>585</td>\n",
       "      <td>389</td>\n",
       "      <td>ferrari29.320392</td>\n",
       "      <td>ferrari29</td>\n",
       "      <td>1.239790e+09</td>\n",
       "      <td>United States, Illinois</td>\n",
       "      <td>2009-04-15</td>\n",
       "      <td>202</td>\n",
       "      <td>1193</td>\n",
       "      <td>12</td>\n",
       "      <td>42</td>\n",
       "      <td>64</td>\n",
       "      <td>335</td>\n",
       "    </tr>\n",
       "    <tr>\n",
       "      <th>5</th>\n",
       "      <td>676</td>\n",
       "      <td>676</td>\n",
       "      <td>dodo2step.110880</td>\n",
       "      <td>Dodo2step</td>\n",
       "      <td>1.165576e+09</td>\n",
       "      <td>United States, Pennsylvania</td>\n",
       "      <td>2006-12-08</td>\n",
       "      <td>411</td>\n",
       "      <td>2153</td>\n",
       "      <td>13</td>\n",
       "      <td>28</td>\n",
       "      <td>45</td>\n",
       "      <td>442</td>\n",
       "    </tr>\n",
       "    <tr>\n",
       "      <th>7</th>\n",
       "      <td>653</td>\n",
       "      <td>651</td>\n",
       "      <td>kadonny.156863</td>\n",
       "      <td>Kadonny</td>\n",
       "      <td>1.188986e+09</td>\n",
       "      <td>United States, Pennsylvania</td>\n",
       "      <td>2007-09-05</td>\n",
       "      <td>357</td>\n",
       "      <td>1800</td>\n",
       "      <td>5</td>\n",
       "      <td>22</td>\n",
       "      <td>249</td>\n",
       "      <td>263</td>\n",
       "    </tr>\n",
       "    <tr>\n",
       "      <th>8</th>\n",
       "      <td>748</td>\n",
       "      <td>748</td>\n",
       "      <td>biggred1.206640</td>\n",
       "      <td>biggred1</td>\n",
       "      <td>1.206616e+09</td>\n",
       "      <td>United States, Indiana</td>\n",
       "      <td>2008-03-27</td>\n",
       "      <td>318</td>\n",
       "      <td>819</td>\n",
       "      <td>5</td>\n",
       "      <td>37</td>\n",
       "      <td>102</td>\n",
       "      <td>69</td>\n",
       "    </tr>\n",
       "    <tr>\n",
       "      <th>9</th>\n",
       "      <td>546</td>\n",
       "      <td>484</td>\n",
       "      <td>brownbeer.220672</td>\n",
       "      <td>brownbeer</td>\n",
       "      <td>1.211105e+09</td>\n",
       "      <td>United States, Missouri</td>\n",
       "      <td>2008-05-18</td>\n",
       "      <td>143</td>\n",
       "      <td>1815</td>\n",
       "      <td>17</td>\n",
       "      <td>62</td>\n",
       "      <td>204</td>\n",
       "      <td>1302</td>\n",
       "    </tr>\n",
       "  </tbody>\n",
       "</table>\n",
       "</div>"
      ],
      "text/plain": [
       "   nbr_ratings  nbr_reviews           user_id  user_name        joined  \\\n",
       "2          585          389  ferrari29.320392  ferrari29  1.239790e+09   \n",
       "5          676          676  dodo2step.110880  Dodo2step  1.165576e+09   \n",
       "7          653          651    kadonny.156863    Kadonny  1.188986e+09   \n",
       "8          748          748   biggred1.206640   biggred1  1.206616e+09   \n",
       "9          546          484  brownbeer.220672  brownbeer  1.211105e+09   \n",
       "\n",
       "                      location date_joined  active_days  delta_first_last  \\\n",
       "2      United States, Illinois  2009-04-15          202              1193   \n",
       "5  United States, Pennsylvania  2006-12-08          411              2153   \n",
       "7  United States, Pennsylvania  2007-09-05          357              1800   \n",
       "8       United States, Indiana  2008-03-27          318               819   \n",
       "9      United States, Missouri  2008-05-18          143              1815   \n",
       "\n",
       "   max_active_day  max_active_month   50   450  \n",
       "2              12                42   64   335  \n",
       "5              13                28   45   442  \n",
       "7               5                22  249   263  \n",
       "8               5                37  102    69  \n",
       "9              17                62  204  1302  "
      ]
     },
     "execution_count": 448,
     "metadata": {},
     "output_type": "execute_result"
    }
   ],
   "source": [
    "df_valid_users.head(5)"
   ]
  },
  {
   "cell_type": "code",
   "execution_count": 449,
   "metadata": {},
   "outputs": [
    {
     "data": {
      "application/vnd.plotly.v1+json": {
       "config": {
        "plotlyServerURL": "https://plot.ly"
       },
       "data": [
        {
         "hovertemplate": "x=%{x}<br>50=%{y}<extra></extra>",
         "legendgroup": "",
         "line": {
          "color": "#636efa",
          "dash": "solid"
         },
         "marker": {
          "symbol": "circle"
         },
         "mode": "lines",
         "name": "",
         "showlegend": false,
         "type": "scattergl",
         "x": [
          0,
          1,
          2,
          3,
          4,
          5,
          6,
          7,
          8,
          9,
          10,
          11,
          12,
          13,
          14,
          15,
          16,
          17,
          18,
          19,
          20,
          21,
          22,
          23,
          24,
          25,
          26,
          27,
          28,
          29,
          30,
          31,
          32,
          33,
          34,
          35,
          36,
          37,
          38,
          39,
          40,
          41,
          42,
          43,
          44,
          45,
          46,
          47,
          48,
          49,
          50,
          51,
          52,
          53,
          54,
          55,
          56,
          57,
          58,
          59,
          60,
          61,
          62,
          63,
          64,
          65,
          66,
          67,
          68,
          69,
          70,
          71,
          72,
          73,
          74,
          75,
          76,
          77,
          78,
          79,
          80,
          81,
          82,
          83,
          84,
          85,
          86,
          87,
          88,
          89,
          90,
          91,
          92,
          93,
          94,
          95,
          96,
          97,
          98,
          99,
          100,
          101,
          102,
          103,
          104,
          105,
          106,
          107,
          108,
          109,
          110,
          111,
          112,
          113,
          114,
          115,
          116,
          117,
          118,
          119,
          120,
          121,
          122,
          123,
          124,
          125,
          126,
          127,
          128,
          129,
          130,
          131,
          132,
          133,
          134,
          135,
          136,
          137,
          138,
          139,
          140,
          141,
          142,
          143,
          144,
          145,
          146,
          147,
          148,
          149,
          150,
          151,
          152,
          153,
          154,
          155,
          156,
          157,
          158,
          159,
          160,
          161,
          162,
          163,
          164,
          165,
          166,
          167,
          168,
          169,
          170,
          171,
          172,
          173,
          174,
          175,
          176,
          177,
          178,
          179,
          180,
          181,
          182,
          183,
          184,
          185,
          186,
          187,
          188,
          189,
          190,
          191,
          192,
          193,
          194,
          195,
          196,
          197,
          198,
          199,
          200,
          201,
          202,
          203,
          204,
          205,
          206,
          207,
          208,
          209,
          210,
          211,
          212,
          213,
          214,
          215,
          216,
          217,
          218,
          219,
          220,
          221,
          222,
          223,
          224,
          225,
          226,
          227,
          228,
          229,
          230,
          231,
          232,
          233,
          234,
          235,
          236,
          237,
          238,
          239,
          240,
          241,
          242,
          243,
          244,
          245,
          246,
          247,
          248,
          249,
          250,
          251,
          252,
          253,
          254,
          255,
          256,
          257,
          258,
          259,
          260,
          261,
          262,
          263,
          264,
          265,
          266,
          267,
          268,
          269,
          270,
          271,
          272,
          273,
          274,
          275,
          276,
          277,
          278,
          279,
          280,
          281,
          282,
          283,
          284,
          285,
          286,
          287,
          288,
          289,
          290,
          291,
          292,
          293,
          294,
          295,
          296,
          297,
          298,
          299,
          300,
          301,
          302,
          303,
          304,
          305,
          306,
          307,
          308,
          309,
          310,
          311,
          312,
          313,
          314,
          315,
          316,
          317,
          318,
          319,
          320,
          321,
          322,
          323,
          324,
          325,
          326,
          327,
          328,
          329,
          330,
          331,
          332,
          333,
          334,
          335,
          336,
          337,
          338,
          339,
          340,
          341,
          342,
          343,
          344,
          345,
          346,
          347,
          348,
          349,
          350,
          351,
          352,
          353,
          354,
          355,
          356,
          357,
          358,
          359,
          360,
          361,
          362,
          363,
          364,
          365,
          366,
          367,
          368,
          369,
          370,
          371,
          372,
          373,
          374,
          375,
          376,
          377,
          378,
          379,
          380,
          381,
          382,
          383,
          384,
          385,
          386,
          387,
          388,
          389,
          390,
          391,
          392,
          393,
          394,
          395,
          396,
          397,
          398,
          399,
          400,
          401,
          402,
          403,
          404,
          405,
          406,
          407,
          408,
          409,
          410,
          411,
          412,
          413,
          414,
          415,
          416,
          417,
          418,
          419,
          420,
          421,
          422,
          423,
          424,
          425,
          426,
          427,
          428,
          429,
          430,
          431,
          432,
          433,
          434,
          435,
          436,
          437,
          438,
          439,
          440,
          441,
          442,
          443,
          444,
          445,
          446,
          447,
          448,
          449,
          450,
          451,
          452,
          453,
          454,
          455,
          456,
          457,
          458,
          459,
          460,
          461,
          462,
          463,
          464,
          465,
          466,
          467,
          468,
          469,
          470,
          471,
          472,
          473,
          474,
          475,
          476,
          477,
          478,
          479,
          480,
          481,
          482,
          483,
          484,
          485,
          486,
          487,
          488,
          489,
          490,
          491,
          492,
          493,
          494,
          495,
          496,
          497,
          498,
          499,
          500,
          501,
          502,
          503,
          504,
          505,
          506,
          507,
          508,
          509,
          510,
          511,
          512,
          513,
          514,
          515,
          516,
          517,
          518,
          519,
          520,
          521,
          522,
          523,
          524,
          525,
          526,
          527,
          528,
          529,
          530,
          531,
          532,
          533,
          534,
          535,
          536,
          537,
          538,
          539,
          540,
          541,
          542,
          543,
          544,
          545,
          546,
          547,
          548,
          549,
          550,
          551,
          552,
          553,
          554,
          555,
          556,
          557,
          558,
          559,
          560,
          561,
          562,
          563,
          564,
          565,
          566,
          567,
          568,
          569,
          570,
          571,
          572,
          573,
          574,
          575,
          576,
          577,
          578,
          579,
          580,
          581,
          582,
          583,
          584,
          585,
          586,
          587,
          588,
          589,
          590,
          591,
          592,
          593,
          594,
          595,
          596,
          597,
          598,
          599,
          600,
          601,
          602,
          603,
          604,
          605,
          606,
          607,
          608,
          609,
          610,
          611,
          612,
          613,
          614,
          615,
          616,
          617,
          618,
          619,
          620,
          621,
          622,
          623,
          624,
          625,
          626,
          627,
          628,
          629,
          630,
          631,
          632,
          633,
          634,
          635,
          636,
          637,
          638,
          639,
          640,
          641,
          642,
          643,
          644,
          645,
          646,
          647,
          648,
          649,
          650,
          651,
          652,
          653,
          654,
          655,
          656,
          657,
          658,
          659,
          660,
          661,
          662,
          663,
          664,
          665,
          666,
          667,
          668,
          669,
          670,
          671,
          672,
          673,
          674,
          675,
          676,
          677,
          678,
          679,
          680,
          681,
          682,
          683,
          684,
          685,
          686,
          687,
          688,
          689,
          690,
          691,
          692,
          693,
          694,
          695,
          696,
          697,
          698,
          699,
          700,
          701,
          702,
          703,
          704,
          705,
          706,
          707,
          708,
          709,
          710,
          711,
          712,
          713,
          714,
          715,
          716,
          717,
          718,
          719,
          720,
          721,
          722,
          723,
          724,
          725,
          726,
          727,
          728,
          729,
          730,
          731,
          732,
          733,
          734,
          735,
          736,
          737,
          738,
          739,
          740,
          741,
          742,
          743,
          744,
          745,
          746,
          747,
          748,
          749,
          750,
          751,
          752,
          753,
          754,
          755,
          756,
          757,
          758,
          759,
          760,
          761,
          762,
          763,
          764,
          765,
          766,
          767,
          768,
          769,
          770,
          771,
          772,
          773,
          774,
          775,
          776,
          777,
          778,
          779,
          780,
          781,
          782,
          783,
          784,
          785,
          786,
          787,
          788,
          789,
          790,
          791,
          792,
          793,
          794,
          795,
          796,
          797,
          798,
          799,
          800,
          801,
          802,
          803,
          804,
          805,
          806,
          807,
          808,
          809,
          810,
          811,
          812,
          813,
          814,
          815,
          816,
          817,
          818,
          819,
          820,
          821,
          822,
          823,
          824,
          825,
          826,
          827,
          828,
          829,
          830,
          831,
          832,
          833,
          834,
          835,
          836,
          837,
          838,
          839,
          840,
          841,
          842,
          843,
          844,
          845,
          846,
          847,
          848,
          849,
          850,
          851,
          852,
          853,
          854,
          855,
          856,
          857,
          858,
          859,
          860,
          861,
          862,
          863,
          864,
          865,
          866,
          867,
          868,
          869,
          870,
          871,
          872,
          873,
          874,
          875,
          876,
          877,
          878,
          879,
          880,
          881,
          882,
          883,
          884,
          885,
          886,
          887,
          888,
          889,
          890,
          891,
          892,
          893,
          894,
          895,
          896,
          897,
          898,
          899,
          900,
          901,
          902,
          903,
          904,
          905,
          906,
          907,
          908,
          909,
          910,
          911,
          912,
          913,
          914,
          915,
          916,
          917,
          918,
          919,
          920,
          921,
          922,
          923,
          924,
          925,
          926,
          927,
          928,
          929,
          930,
          931,
          932,
          933,
          934,
          935,
          936,
          937,
          938,
          939,
          940,
          941,
          942,
          943,
          944,
          945,
          946,
          947,
          948,
          949,
          950,
          951,
          952,
          953,
          954,
          955,
          956,
          957,
          958,
          959,
          960,
          961,
          962,
          963,
          964,
          965,
          966,
          967,
          968,
          969,
          970,
          971,
          972,
          973,
          974,
          975,
          976,
          977,
          978,
          979,
          980,
          981,
          982,
          983,
          984,
          985,
          986,
          987,
          988,
          989,
          990,
          991,
          992,
          993,
          994,
          995,
          996,
          997,
          998,
          999,
          1000,
          1001,
          1002,
          1003,
          1004,
          1005,
          1006,
          1007,
          1008,
          1009,
          1010,
          1011,
          1012,
          1013,
          1014,
          1015,
          1016,
          1017,
          1018,
          1019,
          1020,
          1021,
          1022,
          1023,
          1024,
          1025,
          1026,
          1027,
          1028,
          1029,
          1030,
          1031,
          1032,
          1033,
          1034,
          1035,
          1036,
          1037,
          1038,
          1039,
          1040,
          1041,
          1042,
          1043,
          1044,
          1045,
          1046,
          1047,
          1048,
          1049,
          1050
         ],
         "xaxis": "x",
         "y": [
          0,
          0,
          0,
          0,
          0,
          0,
          0,
          0,
          0,
          0,
          0,
          0,
          0,
          1,
          1,
          1,
          1,
          1,
          1,
          1,
          1,
          2,
          2,
          3,
          3,
          3,
          3,
          3,
          3,
          3,
          3,
          4,
          4,
          4,
          4,
          4,
          4,
          4,
          4,
          5,
          5,
          5,
          5,
          5,
          7,
          7,
          7,
          7,
          7,
          8,
          8,
          9,
          9,
          9,
          9,
          9,
          10,
          11,
          11,
          12,
          12,
          12,
          12,
          13,
          13,
          13,
          14,
          14,
          14,
          14,
          15,
          15,
          15,
          16,
          16,
          17,
          17,
          17,
          17,
          17,
          17,
          17,
          17,
          17,
          17,
          18,
          18,
          18,
          18,
          18,
          19,
          19,
          19,
          20,
          20,
          20,
          20,
          21,
          21,
          21,
          21,
          21,
          21,
          21,
          22,
          22,
          22,
          22,
          22,
          22,
          23,
          23,
          23,
          23,
          24,
          24,
          24,
          24,
          24,
          24,
          24,
          24,
          25,
          25,
          25,
          25,
          25,
          25,
          26,
          26,
          26,
          26,
          26,
          26,
          26,
          26,
          27,
          27,
          27,
          27,
          27,
          27,
          27,
          27,
          27,
          27,
          27,
          28,
          28,
          28,
          28,
          28,
          28,
          28,
          29,
          29,
          29,
          29,
          29,
          29,
          29,
          29,
          30,
          30,
          30,
          30,
          30,
          30,
          31,
          31,
          31,
          31,
          31,
          31,
          31,
          31,
          31,
          31,
          31,
          32,
          32,
          32,
          32,
          32,
          32,
          32,
          32,
          32,
          33,
          33,
          33,
          33,
          33,
          33,
          34,
          34,
          34,
          34,
          34,
          34,
          34,
          35,
          35,
          35,
          35,
          35,
          35,
          35,
          35,
          36,
          36,
          36,
          36,
          36,
          36,
          36,
          36,
          37,
          37,
          37,
          37,
          37,
          38,
          38,
          38,
          38,
          38,
          38,
          38,
          38,
          39,
          39,
          39,
          39,
          40,
          40,
          40,
          40,
          40,
          40,
          40,
          40,
          40,
          41,
          41,
          41,
          41,
          41,
          41,
          42,
          42,
          42,
          42,
          42,
          42,
          42,
          42,
          42,
          43,
          43,
          43,
          43,
          43,
          43,
          43,
          43,
          43,
          43,
          43,
          44,
          44,
          44,
          44,
          44,
          44,
          44,
          45,
          45,
          45,
          45,
          45,
          45,
          45,
          46,
          46,
          46,
          46,
          46,
          46,
          46,
          46,
          47,
          47,
          47,
          47,
          48,
          48,
          48,
          48,
          48,
          48,
          48,
          49,
          49,
          49,
          49,
          49,
          49,
          49,
          49,
          50,
          50,
          50,
          50,
          50,
          50,
          51,
          51,
          51,
          51,
          51,
          51,
          52,
          52,
          52,
          52,
          52,
          52,
          52,
          53,
          53,
          53,
          53,
          53,
          53,
          53,
          53,
          54,
          54,
          54,
          54,
          54,
          54,
          54,
          54,
          55,
          55,
          55,
          55,
          55,
          55,
          55,
          55,
          55,
          55,
          55,
          56,
          56,
          56,
          56,
          56,
          56,
          56,
          56,
          57,
          57,
          57,
          57,
          57,
          57,
          57,
          57,
          57,
          57,
          57,
          57,
          57,
          57,
          57,
          57,
          58,
          58,
          58,
          58,
          58,
          58,
          58,
          59,
          59,
          59,
          59,
          59,
          59,
          59,
          59,
          59,
          59,
          59,
          59,
          59,
          60,
          60,
          60,
          60,
          61,
          61,
          61,
          61,
          61,
          61,
          61,
          61,
          61,
          62,
          62,
          62,
          62,
          62,
          62,
          62,
          62,
          63,
          63,
          63,
          63,
          63,
          64,
          64,
          64,
          64,
          64,
          64,
          65,
          65,
          65,
          65,
          65,
          66,
          66,
          66,
          66,
          66,
          66,
          66,
          66,
          67,
          67,
          67,
          68,
          68,
          68,
          68,
          68,
          69,
          69,
          69,
          69,
          69,
          70,
          70,
          70,
          70,
          70,
          70,
          70,
          71,
          71,
          71,
          71,
          71,
          71,
          71,
          72,
          72,
          72,
          72,
          72,
          72,
          72,
          72,
          72,
          72,
          73,
          73,
          73,
          73,
          73,
          73,
          73,
          74,
          74,
          74,
          74,
          74,
          74,
          75,
          75,
          75,
          75,
          75,
          75,
          75,
          76,
          76,
          76,
          76,
          76,
          76,
          76,
          77,
          77,
          77,
          77,
          77,
          77,
          78,
          78,
          78,
          78,
          78,
          78,
          78,
          79,
          79,
          79,
          79,
          79,
          79,
          80,
          80,
          80,
          80,
          80,
          80,
          80,
          80,
          81,
          81,
          81,
          82,
          82,
          82,
          83,
          83,
          83,
          83,
          83,
          84,
          84,
          84,
          85,
          85,
          85,
          87,
          87,
          87,
          87,
          87,
          87,
          88,
          88,
          89,
          89,
          89,
          89,
          89,
          89,
          90,
          91,
          91,
          91,
          92,
          92,
          92,
          92,
          93,
          93,
          93,
          93,
          93,
          93,
          93,
          94,
          94,
          94,
          94,
          94,
          94,
          94,
          94,
          95,
          95,
          95,
          95,
          96,
          96,
          96,
          96,
          97,
          97,
          97,
          97,
          97,
          97,
          97,
          97,
          97,
          97,
          98,
          98,
          98,
          98,
          98,
          99,
          99,
          99,
          99,
          99,
          99,
          99,
          100,
          100,
          100,
          101,
          101,
          102,
          102,
          102,
          102,
          102,
          102,
          103,
          103,
          103,
          104,
          105,
          105,
          105,
          106,
          106,
          106,
          106,
          106,
          107,
          107,
          107,
          107,
          107,
          107,
          108,
          109,
          109,
          109,
          109,
          109,
          109,
          109,
          109,
          109,
          110,
          110,
          110,
          110,
          111,
          112,
          112,
          113,
          113,
          113,
          114,
          114,
          115,
          115,
          115,
          115,
          116,
          116,
          116,
          116,
          116,
          116,
          116,
          116,
          116,
          117,
          117,
          118,
          119,
          120,
          120,
          121,
          121,
          121,
          121,
          121,
          122,
          123,
          123,
          124,
          124,
          124,
          125,
          126,
          126,
          126,
          126,
          126,
          127,
          127,
          127,
          127,
          127,
          128,
          129,
          129,
          130,
          130,
          130,
          130,
          131,
          131,
          131,
          133,
          133,
          134,
          134,
          134,
          135,
          135,
          135,
          136,
          136,
          137,
          137,
          137,
          137,
          138,
          139,
          140,
          140,
          140,
          140,
          140,
          141,
          141,
          142,
          143,
          145,
          145,
          146,
          147,
          148,
          150,
          151,
          151,
          151,
          152,
          152,
          153,
          154,
          154,
          155,
          155,
          156,
          157,
          157,
          158,
          158,
          158,
          160,
          161,
          162,
          163,
          164,
          165,
          165,
          166,
          167,
          167,
          167,
          168,
          168,
          168,
          169,
          169,
          170,
          170,
          171,
          172,
          173,
          174,
          174,
          175,
          176,
          177,
          177,
          180,
          180,
          181,
          182,
          182,
          184,
          184,
          184,
          185,
          185,
          185,
          187,
          188,
          188,
          189,
          189,
          191,
          192,
          192,
          193,
          194,
          194,
          195,
          196,
          196,
          197,
          198,
          198,
          198,
          199,
          199,
          200,
          200,
          200,
          202,
          203,
          203,
          204,
          204,
          207,
          209,
          210,
          211,
          212,
          212,
          213,
          213,
          214,
          215,
          215,
          216,
          216,
          217,
          218,
          218,
          218,
          219,
          220,
          223,
          224,
          224,
          226,
          226,
          226,
          228,
          228,
          229,
          230,
          230,
          231,
          231,
          232,
          233,
          233,
          234,
          234,
          235,
          239,
          239,
          239,
          240,
          240,
          242,
          246,
          246,
          247,
          248,
          249,
          249,
          252,
          254,
          254,
          254,
          257,
          258,
          259,
          260,
          261,
          261,
          262,
          263,
          265,
          266,
          267,
          267,
          271,
          275,
          275,
          276,
          276,
          277,
          281,
          283,
          284,
          284,
          288,
          288,
          288,
          292,
          294,
          294,
          296,
          296,
          300,
          300,
          300,
          301,
          301,
          309,
          313,
          316,
          317,
          323,
          323,
          328,
          328,
          329,
          331,
          334,
          336,
          336,
          336,
          336,
          337,
          339,
          344,
          344,
          351,
          351,
          352,
          355,
          355,
          358,
          358,
          358,
          359,
          363,
          365,
          369,
          369,
          371,
          372,
          377,
          379,
          381,
          381,
          383,
          383,
          385,
          393,
          394,
          402,
          402,
          403,
          403,
          405,
          408,
          413,
          414,
          415,
          418,
          427,
          434,
          436,
          437,
          438,
          439,
          440,
          442,
          465,
          473,
          489,
          498,
          498,
          506,
          507,
          508,
          509,
          513,
          515,
          536,
          539,
          540,
          541,
          543,
          549,
          553,
          559,
          561,
          570,
          574,
          576,
          576,
          592,
          600,
          620,
          631,
          635,
          656,
          671,
          673,
          675,
          689,
          712,
          749,
          749,
          756,
          779,
          786,
          815,
          844,
          852,
          862,
          871,
          890,
          907,
          921,
          963,
          1058,
          1061,
          1116,
          1180,
          1191,
          1210,
          1213,
          1250,
          1303,
          1318,
          1393,
          1472,
          1480,
          1616,
          1624,
          1674,
          1794
         ],
         "yaxis": "y"
        }
       ],
       "layout": {
        "legend": {
         "tracegroupgap": 0
        },
        "margin": {
         "t": 60
        },
        "shapes": [
         {
          "line": {
           "color": "red"
          },
          "type": "line",
          "x0": 0,
          "x1": 1,
          "xref": "x domain",
          "y0": 500,
          "y1": 500,
          "yref": "y"
         }
        ],
        "template": {
         "data": {
          "bar": [
           {
            "error_x": {
             "color": "#2a3f5f"
            },
            "error_y": {
             "color": "#2a3f5f"
            },
            "marker": {
             "line": {
              "color": "#E5ECF6",
              "width": 0.5
             },
             "pattern": {
              "fillmode": "overlay",
              "size": 10,
              "solidity": 0.2
             }
            },
            "type": "bar"
           }
          ],
          "barpolar": [
           {
            "marker": {
             "line": {
              "color": "#E5ECF6",
              "width": 0.5
             },
             "pattern": {
              "fillmode": "overlay",
              "size": 10,
              "solidity": 0.2
             }
            },
            "type": "barpolar"
           }
          ],
          "carpet": [
           {
            "aaxis": {
             "endlinecolor": "#2a3f5f",
             "gridcolor": "white",
             "linecolor": "white",
             "minorgridcolor": "white",
             "startlinecolor": "#2a3f5f"
            },
            "baxis": {
             "endlinecolor": "#2a3f5f",
             "gridcolor": "white",
             "linecolor": "white",
             "minorgridcolor": "white",
             "startlinecolor": "#2a3f5f"
            },
            "type": "carpet"
           }
          ],
          "choropleth": [
           {
            "colorbar": {
             "outlinewidth": 0,
             "ticks": ""
            },
            "type": "choropleth"
           }
          ],
          "contour": [
           {
            "colorbar": {
             "outlinewidth": 0,
             "ticks": ""
            },
            "colorscale": [
             [
              0,
              "#0d0887"
             ],
             [
              0.1111111111111111,
              "#46039f"
             ],
             [
              0.2222222222222222,
              "#7201a8"
             ],
             [
              0.3333333333333333,
              "#9c179e"
             ],
             [
              0.4444444444444444,
              "#bd3786"
             ],
             [
              0.5555555555555556,
              "#d8576b"
             ],
             [
              0.6666666666666666,
              "#ed7953"
             ],
             [
              0.7777777777777778,
              "#fb9f3a"
             ],
             [
              0.8888888888888888,
              "#fdca26"
             ],
             [
              1,
              "#f0f921"
             ]
            ],
            "type": "contour"
           }
          ],
          "contourcarpet": [
           {
            "colorbar": {
             "outlinewidth": 0,
             "ticks": ""
            },
            "type": "contourcarpet"
           }
          ],
          "heatmap": [
           {
            "colorbar": {
             "outlinewidth": 0,
             "ticks": ""
            },
            "colorscale": [
             [
              0,
              "#0d0887"
             ],
             [
              0.1111111111111111,
              "#46039f"
             ],
             [
              0.2222222222222222,
              "#7201a8"
             ],
             [
              0.3333333333333333,
              "#9c179e"
             ],
             [
              0.4444444444444444,
              "#bd3786"
             ],
             [
              0.5555555555555556,
              "#d8576b"
             ],
             [
              0.6666666666666666,
              "#ed7953"
             ],
             [
              0.7777777777777778,
              "#fb9f3a"
             ],
             [
              0.8888888888888888,
              "#fdca26"
             ],
             [
              1,
              "#f0f921"
             ]
            ],
            "type": "heatmap"
           }
          ],
          "heatmapgl": [
           {
            "colorbar": {
             "outlinewidth": 0,
             "ticks": ""
            },
            "colorscale": [
             [
              0,
              "#0d0887"
             ],
             [
              0.1111111111111111,
              "#46039f"
             ],
             [
              0.2222222222222222,
              "#7201a8"
             ],
             [
              0.3333333333333333,
              "#9c179e"
             ],
             [
              0.4444444444444444,
              "#bd3786"
             ],
             [
              0.5555555555555556,
              "#d8576b"
             ],
             [
              0.6666666666666666,
              "#ed7953"
             ],
             [
              0.7777777777777778,
              "#fb9f3a"
             ],
             [
              0.8888888888888888,
              "#fdca26"
             ],
             [
              1,
              "#f0f921"
             ]
            ],
            "type": "heatmapgl"
           }
          ],
          "histogram": [
           {
            "marker": {
             "pattern": {
              "fillmode": "overlay",
              "size": 10,
              "solidity": 0.2
             }
            },
            "type": "histogram"
           }
          ],
          "histogram2d": [
           {
            "colorbar": {
             "outlinewidth": 0,
             "ticks": ""
            },
            "colorscale": [
             [
              0,
              "#0d0887"
             ],
             [
              0.1111111111111111,
              "#46039f"
             ],
             [
              0.2222222222222222,
              "#7201a8"
             ],
             [
              0.3333333333333333,
              "#9c179e"
             ],
             [
              0.4444444444444444,
              "#bd3786"
             ],
             [
              0.5555555555555556,
              "#d8576b"
             ],
             [
              0.6666666666666666,
              "#ed7953"
             ],
             [
              0.7777777777777778,
              "#fb9f3a"
             ],
             [
              0.8888888888888888,
              "#fdca26"
             ],
             [
              1,
              "#f0f921"
             ]
            ],
            "type": "histogram2d"
           }
          ],
          "histogram2dcontour": [
           {
            "colorbar": {
             "outlinewidth": 0,
             "ticks": ""
            },
            "colorscale": [
             [
              0,
              "#0d0887"
             ],
             [
              0.1111111111111111,
              "#46039f"
             ],
             [
              0.2222222222222222,
              "#7201a8"
             ],
             [
              0.3333333333333333,
              "#9c179e"
             ],
             [
              0.4444444444444444,
              "#bd3786"
             ],
             [
              0.5555555555555556,
              "#d8576b"
             ],
             [
              0.6666666666666666,
              "#ed7953"
             ],
             [
              0.7777777777777778,
              "#fb9f3a"
             ],
             [
              0.8888888888888888,
              "#fdca26"
             ],
             [
              1,
              "#f0f921"
             ]
            ],
            "type": "histogram2dcontour"
           }
          ],
          "mesh3d": [
           {
            "colorbar": {
             "outlinewidth": 0,
             "ticks": ""
            },
            "type": "mesh3d"
           }
          ],
          "parcoords": [
           {
            "line": {
             "colorbar": {
              "outlinewidth": 0,
              "ticks": ""
             }
            },
            "type": "parcoords"
           }
          ],
          "pie": [
           {
            "automargin": true,
            "type": "pie"
           }
          ],
          "scatter": [
           {
            "fillpattern": {
             "fillmode": "overlay",
             "size": 10,
             "solidity": 0.2
            },
            "type": "scatter"
           }
          ],
          "scatter3d": [
           {
            "line": {
             "colorbar": {
              "outlinewidth": 0,
              "ticks": ""
             }
            },
            "marker": {
             "colorbar": {
              "outlinewidth": 0,
              "ticks": ""
             }
            },
            "type": "scatter3d"
           }
          ],
          "scattercarpet": [
           {
            "marker": {
             "colorbar": {
              "outlinewidth": 0,
              "ticks": ""
             }
            },
            "type": "scattercarpet"
           }
          ],
          "scattergeo": [
           {
            "marker": {
             "colorbar": {
              "outlinewidth": 0,
              "ticks": ""
             }
            },
            "type": "scattergeo"
           }
          ],
          "scattergl": [
           {
            "marker": {
             "colorbar": {
              "outlinewidth": 0,
              "ticks": ""
             }
            },
            "type": "scattergl"
           }
          ],
          "scattermapbox": [
           {
            "marker": {
             "colorbar": {
              "outlinewidth": 0,
              "ticks": ""
             }
            },
            "type": "scattermapbox"
           }
          ],
          "scatterpolar": [
           {
            "marker": {
             "colorbar": {
              "outlinewidth": 0,
              "ticks": ""
             }
            },
            "type": "scatterpolar"
           }
          ],
          "scatterpolargl": [
           {
            "marker": {
             "colorbar": {
              "outlinewidth": 0,
              "ticks": ""
             }
            },
            "type": "scatterpolargl"
           }
          ],
          "scatterternary": [
           {
            "marker": {
             "colorbar": {
              "outlinewidth": 0,
              "ticks": ""
             }
            },
            "type": "scatterternary"
           }
          ],
          "surface": [
           {
            "colorbar": {
             "outlinewidth": 0,
             "ticks": ""
            },
            "colorscale": [
             [
              0,
              "#0d0887"
             ],
             [
              0.1111111111111111,
              "#46039f"
             ],
             [
              0.2222222222222222,
              "#7201a8"
             ],
             [
              0.3333333333333333,
              "#9c179e"
             ],
             [
              0.4444444444444444,
              "#bd3786"
             ],
             [
              0.5555555555555556,
              "#d8576b"
             ],
             [
              0.6666666666666666,
              "#ed7953"
             ],
             [
              0.7777777777777778,
              "#fb9f3a"
             ],
             [
              0.8888888888888888,
              "#fdca26"
             ],
             [
              1,
              "#f0f921"
             ]
            ],
            "type": "surface"
           }
          ],
          "table": [
           {
            "cells": {
             "fill": {
              "color": "#EBF0F8"
             },
             "line": {
              "color": "white"
             }
            },
            "header": {
             "fill": {
              "color": "#C8D4E3"
             },
             "line": {
              "color": "white"
             }
            },
            "type": "table"
           }
          ]
         },
         "layout": {
          "annotationdefaults": {
           "arrowcolor": "#2a3f5f",
           "arrowhead": 0,
           "arrowwidth": 1
          },
          "autotypenumbers": "strict",
          "coloraxis": {
           "colorbar": {
            "outlinewidth": 0,
            "ticks": ""
           }
          },
          "colorscale": {
           "diverging": [
            [
             0,
             "#8e0152"
            ],
            [
             0.1,
             "#c51b7d"
            ],
            [
             0.2,
             "#de77ae"
            ],
            [
             0.3,
             "#f1b6da"
            ],
            [
             0.4,
             "#fde0ef"
            ],
            [
             0.5,
             "#f7f7f7"
            ],
            [
             0.6,
             "#e6f5d0"
            ],
            [
             0.7,
             "#b8e186"
            ],
            [
             0.8,
             "#7fbc41"
            ],
            [
             0.9,
             "#4d9221"
            ],
            [
             1,
             "#276419"
            ]
           ],
           "sequential": [
            [
             0,
             "#0d0887"
            ],
            [
             0.1111111111111111,
             "#46039f"
            ],
            [
             0.2222222222222222,
             "#7201a8"
            ],
            [
             0.3333333333333333,
             "#9c179e"
            ],
            [
             0.4444444444444444,
             "#bd3786"
            ],
            [
             0.5555555555555556,
             "#d8576b"
            ],
            [
             0.6666666666666666,
             "#ed7953"
            ],
            [
             0.7777777777777778,
             "#fb9f3a"
            ],
            [
             0.8888888888888888,
             "#fdca26"
            ],
            [
             1,
             "#f0f921"
            ]
           ],
           "sequentialminus": [
            [
             0,
             "#0d0887"
            ],
            [
             0.1111111111111111,
             "#46039f"
            ],
            [
             0.2222222222222222,
             "#7201a8"
            ],
            [
             0.3333333333333333,
             "#9c179e"
            ],
            [
             0.4444444444444444,
             "#bd3786"
            ],
            [
             0.5555555555555556,
             "#d8576b"
            ],
            [
             0.6666666666666666,
             "#ed7953"
            ],
            [
             0.7777777777777778,
             "#fb9f3a"
            ],
            [
             0.8888888888888888,
             "#fdca26"
            ],
            [
             1,
             "#f0f921"
            ]
           ]
          },
          "colorway": [
           "#636efa",
           "#EF553B",
           "#00cc96",
           "#ab63fa",
           "#FFA15A",
           "#19d3f3",
           "#FF6692",
           "#B6E880",
           "#FF97FF",
           "#FECB52"
          ],
          "font": {
           "color": "#2a3f5f"
          },
          "geo": {
           "bgcolor": "white",
           "lakecolor": "white",
           "landcolor": "#E5ECF6",
           "showlakes": true,
           "showland": true,
           "subunitcolor": "white"
          },
          "hoverlabel": {
           "align": "left"
          },
          "hovermode": "closest",
          "mapbox": {
           "style": "light"
          },
          "paper_bgcolor": "white",
          "plot_bgcolor": "#E5ECF6",
          "polar": {
           "angularaxis": {
            "gridcolor": "white",
            "linecolor": "white",
            "ticks": ""
           },
           "bgcolor": "#E5ECF6",
           "radialaxis": {
            "gridcolor": "white",
            "linecolor": "white",
            "ticks": ""
           }
          },
          "scene": {
           "xaxis": {
            "backgroundcolor": "#E5ECF6",
            "gridcolor": "white",
            "gridwidth": 2,
            "linecolor": "white",
            "showbackground": true,
            "ticks": "",
            "zerolinecolor": "white"
           },
           "yaxis": {
            "backgroundcolor": "#E5ECF6",
            "gridcolor": "white",
            "gridwidth": 2,
            "linecolor": "white",
            "showbackground": true,
            "ticks": "",
            "zerolinecolor": "white"
           },
           "zaxis": {
            "backgroundcolor": "#E5ECF6",
            "gridcolor": "white",
            "gridwidth": 2,
            "linecolor": "white",
            "showbackground": true,
            "ticks": "",
            "zerolinecolor": "white"
           }
          },
          "shapedefaults": {
           "line": {
            "color": "#2a3f5f"
           }
          },
          "ternary": {
           "aaxis": {
            "gridcolor": "white",
            "linecolor": "white",
            "ticks": ""
           },
           "baxis": {
            "gridcolor": "white",
            "linecolor": "white",
            "ticks": ""
           },
           "bgcolor": "#E5ECF6",
           "caxis": {
            "gridcolor": "white",
            "linecolor": "white",
            "ticks": ""
           }
          },
          "title": {
           "x": 0.05
          },
          "xaxis": {
           "automargin": true,
           "gridcolor": "white",
           "linecolor": "white",
           "ticks": "",
           "title": {
            "standoff": 15
           },
           "zerolinecolor": "white",
           "zerolinewidth": 2
          },
          "yaxis": {
           "automargin": true,
           "gridcolor": "white",
           "linecolor": "white",
           "ticks": "",
           "title": {
            "standoff": 15
           },
           "zerolinecolor": "white",
           "zerolinewidth": 2
          }
         }
        },
        "xaxis": {
         "anchor": "y",
         "domain": [
          0,
          1
         ],
         "title": {
          "text": "x"
         }
        },
        "yaxis": {
         "anchor": "x",
         "domain": [
          0,
          1
         ],
         "title": {
          "text": "50"
         }
        }
       }
      }
     },
     "metadata": {},
     "output_type": "display_data"
    }
   ],
   "source": [
    "df_check = df_valid_users['50'].to_frame()\n",
    "df_check.sort_values(by = '50', inplace=True)\n",
    "fig = px.line(df_check, x = range(df_check.shape[0]), y = '50')\n",
    "fig.add_hline(500, line_color = 'red')\n",
    "fig.show()"
   ]
  },
  {
   "cell_type": "code",
   "execution_count": 450,
   "metadata": {},
   "outputs": [],
   "source": [
    "max_time_to_rate = 500\n",
    "df_valid_users = df_valid_users[(df_valid_users['50'] < max_time_to_rate)]"
   ]
  },
  {
   "cell_type": "code",
   "execution_count": 451,
   "metadata": {},
   "outputs": [
    {
     "data": {
      "application/vnd.plotly.v1+json": {
       "config": {
        "plotlyServerURL": "https://plot.ly"
       },
       "data": [
        {
         "hovertemplate": "x=%{x}<br>450=%{y}<extra></extra>",
         "legendgroup": "",
         "line": {
          "color": "#636efa",
          "dash": "solid"
         },
         "marker": {
          "symbol": "circle"
         },
         "mode": "lines",
         "name": "",
         "orientation": "v",
         "showlegend": false,
         "type": "scatter",
         "x": [
          0,
          1,
          2,
          3,
          4,
          5,
          6,
          7,
          8,
          9,
          10,
          11,
          12,
          13,
          14,
          15,
          16,
          17,
          18,
          19,
          20,
          21,
          22,
          23,
          24,
          25,
          26,
          27,
          28,
          29,
          30,
          31,
          32,
          33,
          34,
          35,
          36,
          37,
          38,
          39,
          40,
          41,
          42,
          43,
          44,
          45,
          46,
          47,
          48,
          49,
          50,
          51,
          52,
          53,
          54,
          55,
          56,
          57,
          58,
          59,
          60,
          61,
          62,
          63,
          64,
          65,
          66,
          67,
          68,
          69,
          70,
          71,
          72,
          73,
          74,
          75,
          76,
          77,
          78,
          79,
          80,
          81,
          82,
          83,
          84,
          85,
          86,
          87,
          88,
          89,
          90,
          91,
          92,
          93,
          94,
          95,
          96,
          97,
          98,
          99,
          100,
          101,
          102,
          103,
          104,
          105,
          106,
          107,
          108,
          109,
          110,
          111,
          112,
          113,
          114,
          115,
          116,
          117,
          118,
          119,
          120,
          121,
          122,
          123,
          124,
          125,
          126,
          127,
          128,
          129,
          130,
          131,
          132,
          133,
          134,
          135,
          136,
          137,
          138,
          139,
          140,
          141,
          142,
          143,
          144,
          145,
          146,
          147,
          148,
          149,
          150,
          151,
          152,
          153,
          154,
          155,
          156,
          157,
          158,
          159,
          160,
          161,
          162,
          163,
          164,
          165,
          166,
          167,
          168,
          169,
          170,
          171,
          172,
          173,
          174,
          175,
          176,
          177,
          178,
          179,
          180,
          181,
          182,
          183,
          184,
          185,
          186,
          187,
          188,
          189,
          190,
          191,
          192,
          193,
          194,
          195,
          196,
          197,
          198,
          199,
          200,
          201,
          202,
          203,
          204,
          205,
          206,
          207,
          208,
          209,
          210,
          211,
          212,
          213,
          214,
          215,
          216,
          217,
          218,
          219,
          220,
          221,
          222,
          223,
          224,
          225,
          226,
          227,
          228,
          229,
          230,
          231,
          232,
          233,
          234,
          235,
          236,
          237,
          238,
          239,
          240,
          241,
          242,
          243,
          244,
          245,
          246,
          247,
          248,
          249,
          250,
          251,
          252,
          253,
          254,
          255,
          256,
          257,
          258,
          259,
          260,
          261,
          262,
          263,
          264,
          265,
          266,
          267,
          268,
          269,
          270,
          271,
          272,
          273,
          274,
          275,
          276,
          277,
          278,
          279,
          280,
          281,
          282,
          283,
          284,
          285,
          286,
          287,
          288,
          289,
          290,
          291,
          292,
          293,
          294,
          295,
          296,
          297,
          298,
          299,
          300,
          301,
          302,
          303,
          304,
          305,
          306,
          307,
          308,
          309,
          310,
          311,
          312,
          313,
          314,
          315,
          316,
          317,
          318,
          319,
          320,
          321,
          322,
          323,
          324,
          325,
          326,
          327,
          328,
          329,
          330,
          331,
          332,
          333,
          334,
          335,
          336,
          337,
          338,
          339,
          340,
          341,
          342,
          343,
          344,
          345,
          346,
          347,
          348,
          349,
          350,
          351,
          352,
          353,
          354,
          355,
          356,
          357,
          358,
          359,
          360,
          361,
          362,
          363,
          364,
          365,
          366,
          367,
          368,
          369,
          370,
          371,
          372,
          373,
          374,
          375,
          376,
          377,
          378,
          379,
          380,
          381,
          382,
          383,
          384,
          385,
          386,
          387,
          388,
          389,
          390,
          391,
          392,
          393,
          394,
          395,
          396,
          397,
          398,
          399,
          400,
          401,
          402,
          403,
          404,
          405,
          406,
          407,
          408,
          409,
          410,
          411,
          412,
          413,
          414,
          415,
          416,
          417,
          418,
          419,
          420,
          421,
          422,
          423,
          424,
          425,
          426,
          427,
          428,
          429,
          430,
          431,
          432,
          433,
          434,
          435,
          436,
          437,
          438,
          439,
          440,
          441,
          442,
          443,
          444,
          445,
          446,
          447,
          448,
          449,
          450,
          451,
          452,
          453,
          454,
          455,
          456,
          457,
          458,
          459,
          460,
          461,
          462,
          463,
          464,
          465,
          466,
          467,
          468,
          469,
          470,
          471,
          472,
          473,
          474,
          475,
          476,
          477,
          478,
          479,
          480,
          481,
          482,
          483,
          484,
          485,
          486,
          487,
          488,
          489,
          490,
          491,
          492,
          493,
          494,
          495,
          496,
          497,
          498,
          499,
          500,
          501,
          502,
          503,
          504,
          505,
          506,
          507,
          508,
          509,
          510,
          511,
          512,
          513,
          514,
          515,
          516,
          517,
          518,
          519,
          520,
          521,
          522,
          523,
          524,
          525,
          526,
          527,
          528,
          529,
          530,
          531,
          532,
          533,
          534,
          535,
          536,
          537,
          538,
          539,
          540,
          541,
          542,
          543,
          544,
          545,
          546,
          547,
          548,
          549,
          550,
          551,
          552,
          553,
          554,
          555,
          556,
          557,
          558,
          559,
          560,
          561,
          562,
          563,
          564,
          565,
          566,
          567,
          568,
          569,
          570,
          571,
          572,
          573,
          574,
          575,
          576,
          577,
          578,
          579,
          580,
          581,
          582,
          583,
          584,
          585,
          586,
          587,
          588,
          589,
          590,
          591,
          592,
          593,
          594,
          595,
          596,
          597,
          598,
          599,
          600,
          601,
          602,
          603,
          604,
          605,
          606,
          607,
          608,
          609,
          610,
          611,
          612,
          613,
          614,
          615,
          616,
          617,
          618,
          619,
          620,
          621,
          622,
          623,
          624,
          625,
          626,
          627,
          628,
          629,
          630,
          631,
          632,
          633,
          634,
          635,
          636,
          637,
          638,
          639,
          640,
          641,
          642,
          643,
          644,
          645,
          646,
          647,
          648,
          649,
          650,
          651,
          652,
          653,
          654,
          655,
          656,
          657,
          658,
          659,
          660,
          661,
          662,
          663,
          664,
          665,
          666,
          667,
          668,
          669,
          670,
          671,
          672,
          673,
          674,
          675,
          676,
          677,
          678,
          679,
          680,
          681,
          682,
          683,
          684,
          685,
          686,
          687,
          688,
          689,
          690,
          691,
          692,
          693,
          694,
          695,
          696,
          697,
          698,
          699,
          700,
          701,
          702,
          703,
          704,
          705,
          706,
          707,
          708,
          709,
          710,
          711,
          712,
          713,
          714,
          715,
          716,
          717,
          718,
          719,
          720,
          721,
          722,
          723,
          724,
          725,
          726,
          727,
          728,
          729,
          730,
          731,
          732,
          733,
          734,
          735,
          736,
          737,
          738,
          739,
          740,
          741,
          742,
          743,
          744,
          745,
          746,
          747,
          748,
          749,
          750,
          751,
          752,
          753,
          754,
          755,
          756,
          757,
          758,
          759,
          760,
          761,
          762,
          763,
          764,
          765,
          766,
          767,
          768,
          769,
          770,
          771,
          772,
          773,
          774,
          775,
          776,
          777,
          778,
          779,
          780,
          781,
          782,
          783,
          784,
          785,
          786,
          787,
          788,
          789,
          790,
          791,
          792,
          793,
          794,
          795,
          796,
          797,
          798,
          799,
          800,
          801,
          802,
          803,
          804,
          805,
          806,
          807,
          808,
          809,
          810,
          811,
          812,
          813,
          814,
          815,
          816,
          817,
          818,
          819,
          820,
          821,
          822,
          823,
          824,
          825,
          826,
          827,
          828,
          829,
          830,
          831,
          832,
          833,
          834,
          835,
          836,
          837,
          838,
          839,
          840,
          841,
          842,
          843,
          844,
          845,
          846,
          847,
          848,
          849,
          850,
          851,
          852,
          853,
          854,
          855,
          856,
          857,
          858,
          859,
          860,
          861,
          862,
          863,
          864,
          865,
          866,
          867,
          868,
          869,
          870,
          871,
          872,
          873,
          874,
          875,
          876,
          877,
          878,
          879,
          880,
          881,
          882,
          883,
          884,
          885,
          886,
          887,
          888,
          889,
          890,
          891,
          892,
          893,
          894,
          895,
          896,
          897,
          898,
          899,
          900,
          901,
          902,
          903,
          904,
          905,
          906,
          907,
          908,
          909,
          910,
          911,
          912,
          913,
          914,
          915,
          916,
          917,
          918,
          919,
          920,
          921,
          922,
          923,
          924,
          925,
          926,
          927,
          928,
          929,
          930,
          931,
          932,
          933,
          934,
          935,
          936,
          937,
          938,
          939,
          940,
          941,
          942,
          943,
          944,
          945,
          946,
          947,
          948,
          949,
          950,
          951,
          952,
          953,
          954,
          955,
          956,
          957,
          958,
          959,
          960,
          961,
          962,
          963,
          964,
          965,
          966,
          967,
          968,
          969,
          970,
          971,
          972,
          973,
          974,
          975,
          976,
          977,
          978,
          979,
          980,
          981,
          982,
          983,
          984,
          985,
          986,
          987,
          988,
          989
         ],
         "xaxis": "x",
         "y": [
          0,
          2,
          8,
          11,
          12,
          12,
          15,
          17,
          20,
          20,
          22,
          22,
          22,
          22,
          23,
          23,
          24,
          25,
          25,
          26,
          26,
          26,
          26,
          26,
          27,
          27,
          27,
          27,
          27,
          27,
          28,
          28,
          28,
          28,
          28,
          29,
          29,
          29,
          29,
          29,
          30,
          30,
          30,
          30,
          31,
          31,
          31,
          31,
          31,
          31,
          32,
          32,
          32,
          32,
          33,
          33,
          33,
          33,
          33,
          33,
          33,
          34,
          34,
          34,
          34,
          34,
          34,
          34,
          34,
          35,
          35,
          35,
          35,
          35,
          35,
          35,
          35,
          35,
          35,
          36,
          36,
          36,
          36,
          36,
          36,
          37,
          37,
          37,
          37,
          37,
          38,
          38,
          38,
          38,
          38,
          38,
          38,
          38,
          38,
          39,
          39,
          39,
          39,
          39,
          39,
          40,
          40,
          40,
          40,
          40,
          40,
          41,
          41,
          41,
          41,
          41,
          41,
          41,
          42,
          42,
          42,
          42,
          42,
          42,
          42,
          43,
          43,
          43,
          43,
          43,
          43,
          43,
          43,
          43,
          43,
          43,
          44,
          44,
          44,
          44,
          44,
          44,
          44,
          44,
          44,
          45,
          45,
          45,
          45,
          45,
          45,
          45,
          45,
          45,
          46,
          46,
          46,
          46,
          46,
          46,
          46,
          46,
          46,
          46,
          47,
          47,
          47,
          47,
          47,
          47,
          47,
          47,
          47,
          47,
          47,
          47,
          47,
          48,
          48,
          48,
          48,
          48,
          48,
          48,
          49,
          49,
          49,
          49,
          49,
          49,
          49,
          49,
          49,
          49,
          49,
          49,
          49,
          49,
          49,
          49,
          49,
          50,
          50,
          50,
          51,
          51,
          51,
          51,
          51,
          51,
          51,
          51,
          51,
          51,
          52,
          52,
          52,
          52,
          52,
          52,
          53,
          53,
          53,
          53,
          53,
          53,
          53,
          53,
          53,
          53,
          53,
          54,
          54,
          54,
          54,
          54,
          54,
          54,
          54,
          54,
          54,
          55,
          55,
          55,
          55,
          55,
          55,
          55,
          55,
          55,
          55,
          55,
          56,
          56,
          56,
          56,
          56,
          56,
          56,
          56,
          56,
          56,
          56,
          57,
          57,
          57,
          57,
          57,
          57,
          57,
          57,
          57,
          57,
          57,
          58,
          58,
          58,
          58,
          58,
          58,
          58,
          58,
          58,
          58,
          59,
          59,
          59,
          59,
          59,
          59,
          59,
          59,
          59,
          59,
          60,
          60,
          60,
          60,
          60,
          61,
          62,
          62,
          62,
          62,
          62,
          62,
          62,
          62,
          63,
          63,
          63,
          63,
          63,
          63,
          63,
          63,
          63,
          63,
          63,
          64,
          64,
          64,
          64,
          64,
          64,
          64,
          64,
          65,
          65,
          65,
          65,
          65,
          65,
          65,
          66,
          66,
          66,
          66,
          66,
          66,
          66,
          67,
          67,
          67,
          67,
          68,
          68,
          68,
          68,
          68,
          68,
          69,
          69,
          69,
          69,
          69,
          69,
          69,
          69,
          69,
          69,
          70,
          70,
          70,
          70,
          70,
          70,
          70,
          70,
          70,
          71,
          71,
          71,
          71,
          71,
          71,
          71,
          71,
          71,
          71,
          71,
          71,
          71,
          72,
          72,
          72,
          72,
          72,
          72,
          72,
          72,
          72,
          72,
          73,
          73,
          73,
          73,
          73,
          73,
          74,
          74,
          74,
          74,
          74,
          74,
          74,
          75,
          75,
          75,
          75,
          75,
          75,
          75,
          75,
          76,
          76,
          76,
          76,
          76,
          76,
          76,
          76,
          76,
          76,
          76,
          76,
          76,
          76,
          76,
          77,
          77,
          77,
          77,
          77,
          78,
          78,
          78,
          78,
          78,
          78,
          78,
          79,
          79,
          79,
          79,
          79,
          79,
          79,
          79,
          80,
          80,
          81,
          81,
          81,
          81,
          81,
          81,
          81,
          81,
          82,
          82,
          82,
          82,
          83,
          83,
          83,
          83,
          83,
          83,
          83,
          84,
          84,
          84,
          84,
          84,
          85,
          85,
          85,
          85,
          85,
          85,
          85,
          86,
          86,
          86,
          86,
          86,
          86,
          86,
          87,
          87,
          87,
          87,
          87,
          87,
          87,
          87,
          87,
          88,
          88,
          88,
          88,
          88,
          88,
          89,
          89,
          89,
          89,
          89,
          90,
          90,
          90,
          90,
          90,
          90,
          90,
          90,
          90,
          90,
          91,
          91,
          91,
          91,
          91,
          91,
          91,
          92,
          92,
          92,
          92,
          92,
          92,
          92,
          92,
          92,
          93,
          93,
          93,
          93,
          93,
          93,
          93,
          93,
          94,
          94,
          95,
          95,
          95,
          95,
          95,
          96,
          96,
          96,
          96,
          97,
          97,
          97,
          97,
          98,
          98,
          98,
          98,
          98,
          98,
          99,
          99,
          99,
          99,
          99,
          100,
          100,
          101,
          101,
          101,
          101,
          101,
          101,
          101,
          101,
          102,
          102,
          102,
          103,
          103,
          103,
          103,
          103,
          103,
          104,
          104,
          105,
          105,
          106,
          106,
          106,
          106,
          107,
          107,
          108,
          109,
          109,
          109,
          110,
          110,
          111,
          111,
          111,
          112,
          112,
          112,
          112,
          112,
          112,
          113,
          113,
          113,
          113,
          113,
          113,
          113,
          113,
          114,
          114,
          114,
          114,
          115,
          115,
          116,
          116,
          116,
          116,
          117,
          117,
          117,
          117,
          117,
          117,
          117,
          118,
          118,
          118,
          118,
          118,
          118,
          119,
          119,
          119,
          119,
          119,
          119,
          119,
          119,
          119,
          119,
          120,
          120,
          120,
          120,
          120,
          120,
          121,
          121,
          121,
          121,
          121,
          121,
          121,
          121,
          122,
          122,
          123,
          124,
          125,
          125,
          125,
          125,
          125,
          125,
          126,
          126,
          126,
          127,
          127,
          127,
          128,
          129,
          129,
          131,
          131,
          131,
          131,
          131,
          131,
          132,
          132,
          132,
          132,
          133,
          133,
          134,
          134,
          134,
          134,
          134,
          134,
          135,
          135,
          135,
          135,
          135,
          136,
          136,
          136,
          137,
          137,
          138,
          139,
          139,
          140,
          140,
          140,
          140,
          140,
          141,
          142,
          142,
          142,
          143,
          143,
          143,
          144,
          144,
          144,
          144,
          144,
          145,
          145,
          146,
          147,
          147,
          147,
          148,
          148,
          148,
          148,
          149,
          150,
          150,
          150,
          150,
          151,
          151,
          151,
          151,
          152,
          153,
          153,
          153,
          153,
          153,
          153,
          154,
          154,
          154,
          154,
          154,
          156,
          158,
          158,
          158,
          159,
          159,
          160,
          160,
          161,
          161,
          161,
          161,
          162,
          162,
          162,
          162,
          163,
          163,
          163,
          166,
          166,
          166,
          167,
          168,
          168,
          169,
          169,
          169,
          169,
          169,
          169,
          170,
          175,
          175,
          176,
          177,
          178,
          179,
          180,
          181,
          182,
          182,
          183,
          183,
          183,
          184,
          185,
          187,
          188,
          188,
          189,
          189,
          189,
          190,
          191,
          191,
          192,
          192,
          193,
          193,
          194,
          194,
          195,
          195,
          196,
          196,
          197,
          199,
          199,
          201,
          203,
          203,
          204,
          206,
          207,
          208,
          209,
          211,
          211,
          213,
          215,
          216,
          217,
          218,
          218,
          219,
          219,
          219,
          220,
          222,
          222,
          223,
          225,
          226,
          227,
          228,
          228,
          228,
          229,
          231,
          231,
          231,
          231,
          232,
          232,
          232,
          235,
          236,
          238,
          238,
          239,
          239,
          239,
          241,
          241,
          242,
          242,
          244,
          247,
          247,
          247,
          250,
          251,
          259,
          261,
          261,
          262,
          263,
          263,
          263,
          263,
          266,
          266,
          267,
          267,
          267,
          267,
          268,
          271,
          272,
          272,
          273,
          273,
          276,
          277,
          277,
          281,
          281,
          283,
          287,
          289,
          290,
          292,
          293,
          293,
          294,
          295,
          296,
          296,
          302,
          306,
          309,
          314,
          316,
          316,
          316,
          318,
          321,
          322,
          323,
          323,
          325,
          325,
          328,
          330,
          334,
          335,
          338,
          345,
          345,
          350,
          354,
          354,
          356,
          365,
          365,
          371,
          382,
          388,
          392,
          396,
          410,
          420,
          422,
          426,
          440,
          442,
          458,
          458,
          466,
          467,
          476,
          485,
          488,
          525,
          534,
          553,
          562,
          648,
          653,
          663,
          712,
          718,
          835,
          835,
          859,
          876,
          889,
          1042,
          1051,
          1063,
          1082,
          1302,
          1543
         ],
         "yaxis": "y"
        }
       ],
       "layout": {
        "legend": {
         "tracegroupgap": 0
        },
        "margin": {
         "t": 60
        },
        "shapes": [
         {
          "line": {
           "color": "red"
          },
          "type": "line",
          "x0": 0,
          "x1": 1,
          "xref": "x domain",
          "y0": 500,
          "y1": 500,
          "yref": "y"
         }
        ],
        "template": {
         "data": {
          "bar": [
           {
            "error_x": {
             "color": "#2a3f5f"
            },
            "error_y": {
             "color": "#2a3f5f"
            },
            "marker": {
             "line": {
              "color": "#E5ECF6",
              "width": 0.5
             },
             "pattern": {
              "fillmode": "overlay",
              "size": 10,
              "solidity": 0.2
             }
            },
            "type": "bar"
           }
          ],
          "barpolar": [
           {
            "marker": {
             "line": {
              "color": "#E5ECF6",
              "width": 0.5
             },
             "pattern": {
              "fillmode": "overlay",
              "size": 10,
              "solidity": 0.2
             }
            },
            "type": "barpolar"
           }
          ],
          "carpet": [
           {
            "aaxis": {
             "endlinecolor": "#2a3f5f",
             "gridcolor": "white",
             "linecolor": "white",
             "minorgridcolor": "white",
             "startlinecolor": "#2a3f5f"
            },
            "baxis": {
             "endlinecolor": "#2a3f5f",
             "gridcolor": "white",
             "linecolor": "white",
             "minorgridcolor": "white",
             "startlinecolor": "#2a3f5f"
            },
            "type": "carpet"
           }
          ],
          "choropleth": [
           {
            "colorbar": {
             "outlinewidth": 0,
             "ticks": ""
            },
            "type": "choropleth"
           }
          ],
          "contour": [
           {
            "colorbar": {
             "outlinewidth": 0,
             "ticks": ""
            },
            "colorscale": [
             [
              0,
              "#0d0887"
             ],
             [
              0.1111111111111111,
              "#46039f"
             ],
             [
              0.2222222222222222,
              "#7201a8"
             ],
             [
              0.3333333333333333,
              "#9c179e"
             ],
             [
              0.4444444444444444,
              "#bd3786"
             ],
             [
              0.5555555555555556,
              "#d8576b"
             ],
             [
              0.6666666666666666,
              "#ed7953"
             ],
             [
              0.7777777777777778,
              "#fb9f3a"
             ],
             [
              0.8888888888888888,
              "#fdca26"
             ],
             [
              1,
              "#f0f921"
             ]
            ],
            "type": "contour"
           }
          ],
          "contourcarpet": [
           {
            "colorbar": {
             "outlinewidth": 0,
             "ticks": ""
            },
            "type": "contourcarpet"
           }
          ],
          "heatmap": [
           {
            "colorbar": {
             "outlinewidth": 0,
             "ticks": ""
            },
            "colorscale": [
             [
              0,
              "#0d0887"
             ],
             [
              0.1111111111111111,
              "#46039f"
             ],
             [
              0.2222222222222222,
              "#7201a8"
             ],
             [
              0.3333333333333333,
              "#9c179e"
             ],
             [
              0.4444444444444444,
              "#bd3786"
             ],
             [
              0.5555555555555556,
              "#d8576b"
             ],
             [
              0.6666666666666666,
              "#ed7953"
             ],
             [
              0.7777777777777778,
              "#fb9f3a"
             ],
             [
              0.8888888888888888,
              "#fdca26"
             ],
             [
              1,
              "#f0f921"
             ]
            ],
            "type": "heatmap"
           }
          ],
          "heatmapgl": [
           {
            "colorbar": {
             "outlinewidth": 0,
             "ticks": ""
            },
            "colorscale": [
             [
              0,
              "#0d0887"
             ],
             [
              0.1111111111111111,
              "#46039f"
             ],
             [
              0.2222222222222222,
              "#7201a8"
             ],
             [
              0.3333333333333333,
              "#9c179e"
             ],
             [
              0.4444444444444444,
              "#bd3786"
             ],
             [
              0.5555555555555556,
              "#d8576b"
             ],
             [
              0.6666666666666666,
              "#ed7953"
             ],
             [
              0.7777777777777778,
              "#fb9f3a"
             ],
             [
              0.8888888888888888,
              "#fdca26"
             ],
             [
              1,
              "#f0f921"
             ]
            ],
            "type": "heatmapgl"
           }
          ],
          "histogram": [
           {
            "marker": {
             "pattern": {
              "fillmode": "overlay",
              "size": 10,
              "solidity": 0.2
             }
            },
            "type": "histogram"
           }
          ],
          "histogram2d": [
           {
            "colorbar": {
             "outlinewidth": 0,
             "ticks": ""
            },
            "colorscale": [
             [
              0,
              "#0d0887"
             ],
             [
              0.1111111111111111,
              "#46039f"
             ],
             [
              0.2222222222222222,
              "#7201a8"
             ],
             [
              0.3333333333333333,
              "#9c179e"
             ],
             [
              0.4444444444444444,
              "#bd3786"
             ],
             [
              0.5555555555555556,
              "#d8576b"
             ],
             [
              0.6666666666666666,
              "#ed7953"
             ],
             [
              0.7777777777777778,
              "#fb9f3a"
             ],
             [
              0.8888888888888888,
              "#fdca26"
             ],
             [
              1,
              "#f0f921"
             ]
            ],
            "type": "histogram2d"
           }
          ],
          "histogram2dcontour": [
           {
            "colorbar": {
             "outlinewidth": 0,
             "ticks": ""
            },
            "colorscale": [
             [
              0,
              "#0d0887"
             ],
             [
              0.1111111111111111,
              "#46039f"
             ],
             [
              0.2222222222222222,
              "#7201a8"
             ],
             [
              0.3333333333333333,
              "#9c179e"
             ],
             [
              0.4444444444444444,
              "#bd3786"
             ],
             [
              0.5555555555555556,
              "#d8576b"
             ],
             [
              0.6666666666666666,
              "#ed7953"
             ],
             [
              0.7777777777777778,
              "#fb9f3a"
             ],
             [
              0.8888888888888888,
              "#fdca26"
             ],
             [
              1,
              "#f0f921"
             ]
            ],
            "type": "histogram2dcontour"
           }
          ],
          "mesh3d": [
           {
            "colorbar": {
             "outlinewidth": 0,
             "ticks": ""
            },
            "type": "mesh3d"
           }
          ],
          "parcoords": [
           {
            "line": {
             "colorbar": {
              "outlinewidth": 0,
              "ticks": ""
             }
            },
            "type": "parcoords"
           }
          ],
          "pie": [
           {
            "automargin": true,
            "type": "pie"
           }
          ],
          "scatter": [
           {
            "fillpattern": {
             "fillmode": "overlay",
             "size": 10,
             "solidity": 0.2
            },
            "type": "scatter"
           }
          ],
          "scatter3d": [
           {
            "line": {
             "colorbar": {
              "outlinewidth": 0,
              "ticks": ""
             }
            },
            "marker": {
             "colorbar": {
              "outlinewidth": 0,
              "ticks": ""
             }
            },
            "type": "scatter3d"
           }
          ],
          "scattercarpet": [
           {
            "marker": {
             "colorbar": {
              "outlinewidth": 0,
              "ticks": ""
             }
            },
            "type": "scattercarpet"
           }
          ],
          "scattergeo": [
           {
            "marker": {
             "colorbar": {
              "outlinewidth": 0,
              "ticks": ""
             }
            },
            "type": "scattergeo"
           }
          ],
          "scattergl": [
           {
            "marker": {
             "colorbar": {
              "outlinewidth": 0,
              "ticks": ""
             }
            },
            "type": "scattergl"
           }
          ],
          "scattermapbox": [
           {
            "marker": {
             "colorbar": {
              "outlinewidth": 0,
              "ticks": ""
             }
            },
            "type": "scattermapbox"
           }
          ],
          "scatterpolar": [
           {
            "marker": {
             "colorbar": {
              "outlinewidth": 0,
              "ticks": ""
             }
            },
            "type": "scatterpolar"
           }
          ],
          "scatterpolargl": [
           {
            "marker": {
             "colorbar": {
              "outlinewidth": 0,
              "ticks": ""
             }
            },
            "type": "scatterpolargl"
           }
          ],
          "scatterternary": [
           {
            "marker": {
             "colorbar": {
              "outlinewidth": 0,
              "ticks": ""
             }
            },
            "type": "scatterternary"
           }
          ],
          "surface": [
           {
            "colorbar": {
             "outlinewidth": 0,
             "ticks": ""
            },
            "colorscale": [
             [
              0,
              "#0d0887"
             ],
             [
              0.1111111111111111,
              "#46039f"
             ],
             [
              0.2222222222222222,
              "#7201a8"
             ],
             [
              0.3333333333333333,
              "#9c179e"
             ],
             [
              0.4444444444444444,
              "#bd3786"
             ],
             [
              0.5555555555555556,
              "#d8576b"
             ],
             [
              0.6666666666666666,
              "#ed7953"
             ],
             [
              0.7777777777777778,
              "#fb9f3a"
             ],
             [
              0.8888888888888888,
              "#fdca26"
             ],
             [
              1,
              "#f0f921"
             ]
            ],
            "type": "surface"
           }
          ],
          "table": [
           {
            "cells": {
             "fill": {
              "color": "#EBF0F8"
             },
             "line": {
              "color": "white"
             }
            },
            "header": {
             "fill": {
              "color": "#C8D4E3"
             },
             "line": {
              "color": "white"
             }
            },
            "type": "table"
           }
          ]
         },
         "layout": {
          "annotationdefaults": {
           "arrowcolor": "#2a3f5f",
           "arrowhead": 0,
           "arrowwidth": 1
          },
          "autotypenumbers": "strict",
          "coloraxis": {
           "colorbar": {
            "outlinewidth": 0,
            "ticks": ""
           }
          },
          "colorscale": {
           "diverging": [
            [
             0,
             "#8e0152"
            ],
            [
             0.1,
             "#c51b7d"
            ],
            [
             0.2,
             "#de77ae"
            ],
            [
             0.3,
             "#f1b6da"
            ],
            [
             0.4,
             "#fde0ef"
            ],
            [
             0.5,
             "#f7f7f7"
            ],
            [
             0.6,
             "#e6f5d0"
            ],
            [
             0.7,
             "#b8e186"
            ],
            [
             0.8,
             "#7fbc41"
            ],
            [
             0.9,
             "#4d9221"
            ],
            [
             1,
             "#276419"
            ]
           ],
           "sequential": [
            [
             0,
             "#0d0887"
            ],
            [
             0.1111111111111111,
             "#46039f"
            ],
            [
             0.2222222222222222,
             "#7201a8"
            ],
            [
             0.3333333333333333,
             "#9c179e"
            ],
            [
             0.4444444444444444,
             "#bd3786"
            ],
            [
             0.5555555555555556,
             "#d8576b"
            ],
            [
             0.6666666666666666,
             "#ed7953"
            ],
            [
             0.7777777777777778,
             "#fb9f3a"
            ],
            [
             0.8888888888888888,
             "#fdca26"
            ],
            [
             1,
             "#f0f921"
            ]
           ],
           "sequentialminus": [
            [
             0,
             "#0d0887"
            ],
            [
             0.1111111111111111,
             "#46039f"
            ],
            [
             0.2222222222222222,
             "#7201a8"
            ],
            [
             0.3333333333333333,
             "#9c179e"
            ],
            [
             0.4444444444444444,
             "#bd3786"
            ],
            [
             0.5555555555555556,
             "#d8576b"
            ],
            [
             0.6666666666666666,
             "#ed7953"
            ],
            [
             0.7777777777777778,
             "#fb9f3a"
            ],
            [
             0.8888888888888888,
             "#fdca26"
            ],
            [
             1,
             "#f0f921"
            ]
           ]
          },
          "colorway": [
           "#636efa",
           "#EF553B",
           "#00cc96",
           "#ab63fa",
           "#FFA15A",
           "#19d3f3",
           "#FF6692",
           "#B6E880",
           "#FF97FF",
           "#FECB52"
          ],
          "font": {
           "color": "#2a3f5f"
          },
          "geo": {
           "bgcolor": "white",
           "lakecolor": "white",
           "landcolor": "#E5ECF6",
           "showlakes": true,
           "showland": true,
           "subunitcolor": "white"
          },
          "hoverlabel": {
           "align": "left"
          },
          "hovermode": "closest",
          "mapbox": {
           "style": "light"
          },
          "paper_bgcolor": "white",
          "plot_bgcolor": "#E5ECF6",
          "polar": {
           "angularaxis": {
            "gridcolor": "white",
            "linecolor": "white",
            "ticks": ""
           },
           "bgcolor": "#E5ECF6",
           "radialaxis": {
            "gridcolor": "white",
            "linecolor": "white",
            "ticks": ""
           }
          },
          "scene": {
           "xaxis": {
            "backgroundcolor": "#E5ECF6",
            "gridcolor": "white",
            "gridwidth": 2,
            "linecolor": "white",
            "showbackground": true,
            "ticks": "",
            "zerolinecolor": "white"
           },
           "yaxis": {
            "backgroundcolor": "#E5ECF6",
            "gridcolor": "white",
            "gridwidth": 2,
            "linecolor": "white",
            "showbackground": true,
            "ticks": "",
            "zerolinecolor": "white"
           },
           "zaxis": {
            "backgroundcolor": "#E5ECF6",
            "gridcolor": "white",
            "gridwidth": 2,
            "linecolor": "white",
            "showbackground": true,
            "ticks": "",
            "zerolinecolor": "white"
           }
          },
          "shapedefaults": {
           "line": {
            "color": "#2a3f5f"
           }
          },
          "ternary": {
           "aaxis": {
            "gridcolor": "white",
            "linecolor": "white",
            "ticks": ""
           },
           "baxis": {
            "gridcolor": "white",
            "linecolor": "white",
            "ticks": ""
           },
           "bgcolor": "#E5ECF6",
           "caxis": {
            "gridcolor": "white",
            "linecolor": "white",
            "ticks": ""
           }
          },
          "title": {
           "x": 0.05
          },
          "xaxis": {
           "automargin": true,
           "gridcolor": "white",
           "linecolor": "white",
           "ticks": "",
           "title": {
            "standoff": 15
           },
           "zerolinecolor": "white",
           "zerolinewidth": 2
          },
          "yaxis": {
           "automargin": true,
           "gridcolor": "white",
           "linecolor": "white",
           "ticks": "",
           "title": {
            "standoff": 15
           },
           "zerolinecolor": "white",
           "zerolinewidth": 2
          }
         }
        },
        "xaxis": {
         "anchor": "y",
         "domain": [
          0,
          1
         ],
         "title": {
          "text": "x"
         }
        },
        "yaxis": {
         "anchor": "x",
         "domain": [
          0,
          1
         ],
         "title": {
          "text": "450"
         }
        }
       }
      }
     },
     "metadata": {},
     "output_type": "display_data"
    }
   ],
   "source": [
    "df_check = df_valid_users['450'].to_frame()\n",
    "df_check.sort_values(by = '450', inplace=True)\n",
    "fig = px.line(df_check, x = range(df_check.shape[0]), y = '450')\n",
    "fig.add_hline(500, line_color = 'red')\n",
    "fig.show()"
   ]
  },
  {
   "cell_type": "code",
   "execution_count": 452,
   "metadata": {},
   "outputs": [],
   "source": [
    "# We recut at 500\n",
    "max_time_to_rate = 500\n",
    "df_valid_users = df_valid_users[(df_valid_users['450'] < max_time_to_rate)]"
   ]
  },
  {
   "cell_type": "code",
   "execution_count": 453,
   "metadata": {},
   "outputs": [],
   "source": [
    "# We have the final data set of users and the data set of their ratings\n",
    "\n",
    "valid_usernames = set(df_valid_users['user_name'])\n",
    "df_valid_ratings = df_us_ratings[df_us_ratings['user_name'].isin(valid_usernames)]"
   ]
  },
  {
   "cell_type": "code",
   "execution_count": 454,
   "metadata": {},
   "outputs": [
    {
     "data": {
      "text/html": [
       "<div>\n",
       "<style scoped>\n",
       "    .dataframe tbody tr th:only-of-type {\n",
       "        vertical-align: middle;\n",
       "    }\n",
       "\n",
       "    .dataframe tbody tr th {\n",
       "        vertical-align: top;\n",
       "    }\n",
       "\n",
       "    .dataframe thead th {\n",
       "        text-align: right;\n",
       "    }\n",
       "</style>\n",
       "<table border=\"1\" class=\"dataframe\">\n",
       "  <thead>\n",
       "    <tr style=\"text-align: right;\">\n",
       "      <th></th>\n",
       "      <th>nbr_ratings</th>\n",
       "      <th>nbr_reviews</th>\n",
       "      <th>user_id</th>\n",
       "      <th>user_name</th>\n",
       "      <th>joined</th>\n",
       "      <th>location</th>\n",
       "      <th>date_joined</th>\n",
       "      <th>active_days</th>\n",
       "      <th>delta_first_last</th>\n",
       "      <th>max_active_day</th>\n",
       "      <th>max_active_month</th>\n",
       "      <th>50</th>\n",
       "      <th>450</th>\n",
       "    </tr>\n",
       "  </thead>\n",
       "  <tbody>\n",
       "    <tr>\n",
       "      <th>2</th>\n",
       "      <td>585</td>\n",
       "      <td>389</td>\n",
       "      <td>ferrari29.320392</td>\n",
       "      <td>ferrari29</td>\n",
       "      <td>1.239790e+09</td>\n",
       "      <td>United States, Illinois</td>\n",
       "      <td>2009-04-15</td>\n",
       "      <td>202</td>\n",
       "      <td>1193</td>\n",
       "      <td>12</td>\n",
       "      <td>42</td>\n",
       "      <td>64</td>\n",
       "      <td>335</td>\n",
       "    </tr>\n",
       "    <tr>\n",
       "      <th>5</th>\n",
       "      <td>676</td>\n",
       "      <td>676</td>\n",
       "      <td>dodo2step.110880</td>\n",
       "      <td>Dodo2step</td>\n",
       "      <td>1.165576e+09</td>\n",
       "      <td>United States, Pennsylvania</td>\n",
       "      <td>2006-12-08</td>\n",
       "      <td>411</td>\n",
       "      <td>2153</td>\n",
       "      <td>13</td>\n",
       "      <td>28</td>\n",
       "      <td>45</td>\n",
       "      <td>442</td>\n",
       "    </tr>\n",
       "    <tr>\n",
       "      <th>7</th>\n",
       "      <td>653</td>\n",
       "      <td>651</td>\n",
       "      <td>kadonny.156863</td>\n",
       "      <td>Kadonny</td>\n",
       "      <td>1.188986e+09</td>\n",
       "      <td>United States, Pennsylvania</td>\n",
       "      <td>2007-09-05</td>\n",
       "      <td>357</td>\n",
       "      <td>1800</td>\n",
       "      <td>5</td>\n",
       "      <td>22</td>\n",
       "      <td>249</td>\n",
       "      <td>263</td>\n",
       "    </tr>\n",
       "    <tr>\n",
       "      <th>8</th>\n",
       "      <td>748</td>\n",
       "      <td>748</td>\n",
       "      <td>biggred1.206640</td>\n",
       "      <td>biggred1</td>\n",
       "      <td>1.206616e+09</td>\n",
       "      <td>United States, Indiana</td>\n",
       "      <td>2008-03-27</td>\n",
       "      <td>318</td>\n",
       "      <td>819</td>\n",
       "      <td>5</td>\n",
       "      <td>37</td>\n",
       "      <td>102</td>\n",
       "      <td>69</td>\n",
       "    </tr>\n",
       "    <tr>\n",
       "      <th>10</th>\n",
       "      <td>614</td>\n",
       "      <td>614</td>\n",
       "      <td>whynot44.2033</td>\n",
       "      <td>whynot44</td>\n",
       "      <td>1.052129e+09</td>\n",
       "      <td>United States, Missouri</td>\n",
       "      <td>2003-05-05</td>\n",
       "      <td>276</td>\n",
       "      <td>1452</td>\n",
       "      <td>7</td>\n",
       "      <td>57</td>\n",
       "      <td>24</td>\n",
       "      <td>316</td>\n",
       "    </tr>\n",
       "  </tbody>\n",
       "</table>\n",
       "</div>"
      ],
      "text/plain": [
       "    nbr_ratings  nbr_reviews           user_id  user_name        joined  \\\n",
       "2           585          389  ferrari29.320392  ferrari29  1.239790e+09   \n",
       "5           676          676  dodo2step.110880  Dodo2step  1.165576e+09   \n",
       "7           653          651    kadonny.156863    Kadonny  1.188986e+09   \n",
       "8           748          748   biggred1.206640   biggred1  1.206616e+09   \n",
       "10          614          614     whynot44.2033   whynot44  1.052129e+09   \n",
       "\n",
       "                       location date_joined  active_days  delta_first_last  \\\n",
       "2       United States, Illinois  2009-04-15          202              1193   \n",
       "5   United States, Pennsylvania  2006-12-08          411              2153   \n",
       "7   United States, Pennsylvania  2007-09-05          357              1800   \n",
       "8        United States, Indiana  2008-03-27          318               819   \n",
       "10      United States, Missouri  2003-05-05          276              1452   \n",
       "\n",
       "    max_active_day  max_active_month   50  450  \n",
       "2               12                42   64  335  \n",
       "5               13                28   45  442  \n",
       "7                5                22  249  263  \n",
       "8                5                37  102   69  \n",
       "10               7                57   24  316  "
      ]
     },
     "execution_count": 454,
     "metadata": {},
     "output_type": "execute_result"
    }
   ],
   "source": [
    "df_valid_users.head(5)"
   ]
  },
  {
   "cell_type": "code",
   "execution_count": 455,
   "metadata": {},
   "outputs": [
    {
     "data": {
      "text/html": [
       "<div>\n",
       "<style scoped>\n",
       "    .dataframe tbody tr th:only-of-type {\n",
       "        vertical-align: middle;\n",
       "    }\n",
       "\n",
       "    .dataframe tbody tr th {\n",
       "        vertical-align: top;\n",
       "    }\n",
       "\n",
       "    .dataframe thead th {\n",
       "        text-align: right;\n",
       "    }\n",
       "</style>\n",
       "<table border=\"1\" class=\"dataframe\">\n",
       "  <thead>\n",
       "    <tr style=\"text-align: right;\">\n",
       "      <th></th>\n",
       "      <th>beer_id</th>\n",
       "      <th>style</th>\n",
       "      <th>abv</th>\n",
       "      <th>date</th>\n",
       "      <th>user_name</th>\n",
       "      <th>appearance</th>\n",
       "      <th>aroma</th>\n",
       "      <th>palate</th>\n",
       "      <th>taste</th>\n",
       "      <th>overall</th>\n",
       "      <th>rating</th>\n",
       "      <th>category</th>\n",
       "      <th>rating_number</th>\n",
       "    </tr>\n",
       "  </thead>\n",
       "  <tbody>\n",
       "    <tr>\n",
       "      <th>1640018</th>\n",
       "      <td>167</td>\n",
       "      <td>Witbier</td>\n",
       "      <td>NaN</td>\n",
       "      <td>2001-03-16</td>\n",
       "      <td>frank4sail</td>\n",
       "      <td>4.5</td>\n",
       "      <td>4.5</td>\n",
       "      <td>4.0</td>\n",
       "      <td>5.0</td>\n",
       "      <td>5.0</td>\n",
       "      <td>4.75</td>\n",
       "      <td>Wheat Beers</td>\n",
       "      <td>0</td>\n",
       "    </tr>\n",
       "    <tr>\n",
       "      <th>311428</th>\n",
       "      <td>3558</td>\n",
       "      <td>Czech Pilsener</td>\n",
       "      <td>5.00</td>\n",
       "      <td>2001-06-18</td>\n",
       "      <td>Mark</td>\n",
       "      <td>4.0</td>\n",
       "      <td>4.0</td>\n",
       "      <td>3.0</td>\n",
       "      <td>4.0</td>\n",
       "      <td>4.0</td>\n",
       "      <td>3.90</td>\n",
       "      <td>Pale Lagers</td>\n",
       "      <td>0</td>\n",
       "    </tr>\n",
       "    <tr>\n",
       "      <th>17313</th>\n",
       "      <td>73</td>\n",
       "      <td>Milk / Sweet Stout</td>\n",
       "      <td>5.20</td>\n",
       "      <td>2001-06-18</td>\n",
       "      <td>Mark</td>\n",
       "      <td>5.0</td>\n",
       "      <td>5.0</td>\n",
       "      <td>5.0</td>\n",
       "      <td>5.0</td>\n",
       "      <td>5.0</td>\n",
       "      <td>5.00</td>\n",
       "      <td>Stouts</td>\n",
       "      <td>1</td>\n",
       "    </tr>\n",
       "    <tr>\n",
       "      <th>136697</th>\n",
       "      <td>261</td>\n",
       "      <td>Vienna Lager</td>\n",
       "      <td>4.48</td>\n",
       "      <td>2001-06-24</td>\n",
       "      <td>Mark</td>\n",
       "      <td>4.0</td>\n",
       "      <td>3.0</td>\n",
       "      <td>3.0</td>\n",
       "      <td>3.0</td>\n",
       "      <td>3.0</td>\n",
       "      <td>3.06</td>\n",
       "      <td>Dark Lagers</td>\n",
       "      <td>2</td>\n",
       "    </tr>\n",
       "    <tr>\n",
       "      <th>442671</th>\n",
       "      <td>87</td>\n",
       "      <td>American Pale Ale (APA)</td>\n",
       "      <td>5.40</td>\n",
       "      <td>2001-06-24</td>\n",
       "      <td>Mark</td>\n",
       "      <td>4.0</td>\n",
       "      <td>4.0</td>\n",
       "      <td>1.0</td>\n",
       "      <td>3.0</td>\n",
       "      <td>3.0</td>\n",
       "      <td>3.10</td>\n",
       "      <td>Pale Ales</td>\n",
       "      <td>3</td>\n",
       "    </tr>\n",
       "  </tbody>\n",
       "</table>\n",
       "</div>"
      ],
      "text/plain": [
       "         beer_id                    style   abv       date   user_name  \\\n",
       "1640018      167                  Witbier   NaN 2001-03-16  frank4sail   \n",
       "311428      3558           Czech Pilsener  5.00 2001-06-18        Mark   \n",
       "17313         73       Milk / Sweet Stout  5.20 2001-06-18        Mark   \n",
       "136697       261             Vienna Lager  4.48 2001-06-24        Mark   \n",
       "442671        87  American Pale Ale (APA)  5.40 2001-06-24        Mark   \n",
       "\n",
       "         appearance  aroma  palate  taste  overall  rating     category  \\\n",
       "1640018         4.5    4.5     4.0    5.0      5.0    4.75  Wheat Beers   \n",
       "311428          4.0    4.0     3.0    4.0      4.0    3.90  Pale Lagers   \n",
       "17313           5.0    5.0     5.0    5.0      5.0    5.00       Stouts   \n",
       "136697          4.0    3.0     3.0    3.0      3.0    3.06  Dark Lagers   \n",
       "442671          4.0    4.0     1.0    3.0      3.0    3.10    Pale Ales   \n",
       "\n",
       "         rating_number  \n",
       "1640018              0  \n",
       "311428               0  \n",
       "17313                1  \n",
       "136697               2  \n",
       "442671               3  "
      ]
     },
     "execution_count": 455,
     "metadata": {},
     "output_type": "execute_result"
    }
   ],
   "source": [
    "df_valid_ratings.head(5)"
   ]
  },
  {
   "cell_type": "code",
   "execution_count": 456,
   "metadata": {},
   "outputs": [],
   "source": [
    "# Clustering starts\n",
    "# We want to check if it is possible to extract meaningful clusters\n",
    "# out of the 50 first ratings submitted by users"
   ]
  },
  {
   "cell_type": "code",
   "execution_count": 457,
   "metadata": {},
   "outputs": [
    {
     "data": {
      "text/html": [
       "<div>\n",
       "<style scoped>\n",
       "    .dataframe tbody tr th:only-of-type {\n",
       "        vertical-align: middle;\n",
       "    }\n",
       "\n",
       "    .dataframe tbody tr th {\n",
       "        vertical-align: top;\n",
       "    }\n",
       "\n",
       "    .dataframe thead th {\n",
       "        text-align: right;\n",
       "    }\n",
       "</style>\n",
       "<table border=\"1\" class=\"dataframe\">\n",
       "  <thead>\n",
       "    <tr style=\"text-align: right;\">\n",
       "      <th>category</th>\n",
       "      <th>Bocks</th>\n",
       "      <th>Brown Ales</th>\n",
       "      <th>Dark Ales</th>\n",
       "      <th>Dark Lagers</th>\n",
       "      <th>Hybrid Beers</th>\n",
       "      <th>India Pale Ales</th>\n",
       "      <th>Pale Ales</th>\n",
       "      <th>Pale Lagers</th>\n",
       "      <th>Porters</th>\n",
       "      <th>Specialty Beer</th>\n",
       "      <th>Stouts</th>\n",
       "      <th>Strong Ales</th>\n",
       "      <th>Weird Cocktail</th>\n",
       "      <th>Wheat Beers</th>\n",
       "      <th>Wild/Sour Beers</th>\n",
       "    </tr>\n",
       "    <tr>\n",
       "      <th>user_name</th>\n",
       "      <th></th>\n",
       "      <th></th>\n",
       "      <th></th>\n",
       "      <th></th>\n",
       "      <th></th>\n",
       "      <th></th>\n",
       "      <th></th>\n",
       "      <th></th>\n",
       "      <th></th>\n",
       "      <th></th>\n",
       "      <th></th>\n",
       "      <th></th>\n",
       "      <th></th>\n",
       "      <th></th>\n",
       "      <th></th>\n",
       "    </tr>\n",
       "  </thead>\n",
       "  <tbody>\n",
       "    <tr>\n",
       "      <th>-Rick</th>\n",
       "      <td>0</td>\n",
       "      <td>2</td>\n",
       "      <td>0</td>\n",
       "      <td>2</td>\n",
       "      <td>0</td>\n",
       "      <td>29</td>\n",
       "      <td>7</td>\n",
       "      <td>2</td>\n",
       "      <td>2</td>\n",
       "      <td>2</td>\n",
       "      <td>3</td>\n",
       "      <td>1</td>\n",
       "      <td>0</td>\n",
       "      <td>0</td>\n",
       "      <td>0</td>\n",
       "    </tr>\n",
       "    <tr>\n",
       "      <th>1000lbgrizzly</th>\n",
       "      <td>0</td>\n",
       "      <td>5</td>\n",
       "      <td>0</td>\n",
       "      <td>1</td>\n",
       "      <td>0</td>\n",
       "      <td>4</td>\n",
       "      <td>9</td>\n",
       "      <td>7</td>\n",
       "      <td>2</td>\n",
       "      <td>8</td>\n",
       "      <td>6</td>\n",
       "      <td>4</td>\n",
       "      <td>0</td>\n",
       "      <td>3</td>\n",
       "      <td>1</td>\n",
       "    </tr>\n",
       "    <tr>\n",
       "      <th>1424IpA</th>\n",
       "      <td>0</td>\n",
       "      <td>0</td>\n",
       "      <td>1</td>\n",
       "      <td>0</td>\n",
       "      <td>0</td>\n",
       "      <td>21</td>\n",
       "      <td>3</td>\n",
       "      <td>1</td>\n",
       "      <td>1</td>\n",
       "      <td>1</td>\n",
       "      <td>12</td>\n",
       "      <td>4</td>\n",
       "      <td>0</td>\n",
       "      <td>1</td>\n",
       "      <td>5</td>\n",
       "    </tr>\n",
       "    <tr>\n",
       "      <th>2Xmd</th>\n",
       "      <td>0</td>\n",
       "      <td>2</td>\n",
       "      <td>1</td>\n",
       "      <td>1</td>\n",
       "      <td>0</td>\n",
       "      <td>25</td>\n",
       "      <td>5</td>\n",
       "      <td>1</td>\n",
       "      <td>1</td>\n",
       "      <td>2</td>\n",
       "      <td>9</td>\n",
       "      <td>1</td>\n",
       "      <td>0</td>\n",
       "      <td>2</td>\n",
       "      <td>0</td>\n",
       "    </tr>\n",
       "    <tr>\n",
       "      <th>2ellas</th>\n",
       "      <td>0</td>\n",
       "      <td>2</td>\n",
       "      <td>1</td>\n",
       "      <td>0</td>\n",
       "      <td>0</td>\n",
       "      <td>31</td>\n",
       "      <td>9</td>\n",
       "      <td>0</td>\n",
       "      <td>0</td>\n",
       "      <td>0</td>\n",
       "      <td>2</td>\n",
       "      <td>4</td>\n",
       "      <td>0</td>\n",
       "      <td>1</td>\n",
       "      <td>0</td>\n",
       "    </tr>\n",
       "    <tr>\n",
       "      <th>...</th>\n",
       "      <td>...</td>\n",
       "      <td>...</td>\n",
       "      <td>...</td>\n",
       "      <td>...</td>\n",
       "      <td>...</td>\n",
       "      <td>...</td>\n",
       "      <td>...</td>\n",
       "      <td>...</td>\n",
       "      <td>...</td>\n",
       "      <td>...</td>\n",
       "      <td>...</td>\n",
       "      <td>...</td>\n",
       "      <td>...</td>\n",
       "      <td>...</td>\n",
       "      <td>...</td>\n",
       "    </tr>\n",
       "    <tr>\n",
       "      <th>zenithberwyn</th>\n",
       "      <td>1</td>\n",
       "      <td>1</td>\n",
       "      <td>0</td>\n",
       "      <td>3</td>\n",
       "      <td>0</td>\n",
       "      <td>3</td>\n",
       "      <td>7</td>\n",
       "      <td>10</td>\n",
       "      <td>3</td>\n",
       "      <td>0</td>\n",
       "      <td>14</td>\n",
       "      <td>5</td>\n",
       "      <td>0</td>\n",
       "      <td>3</td>\n",
       "      <td>0</td>\n",
       "    </tr>\n",
       "    <tr>\n",
       "      <th>zhanson88</th>\n",
       "      <td>1</td>\n",
       "      <td>5</td>\n",
       "      <td>3</td>\n",
       "      <td>1</td>\n",
       "      <td>0</td>\n",
       "      <td>6</td>\n",
       "      <td>6</td>\n",
       "      <td>2</td>\n",
       "      <td>3</td>\n",
       "      <td>1</td>\n",
       "      <td>12</td>\n",
       "      <td>7</td>\n",
       "      <td>0</td>\n",
       "      <td>3</td>\n",
       "      <td>0</td>\n",
       "    </tr>\n",
       "    <tr>\n",
       "      <th>zookerman182</th>\n",
       "      <td>1</td>\n",
       "      <td>3</td>\n",
       "      <td>0</td>\n",
       "      <td>0</td>\n",
       "      <td>0</td>\n",
       "      <td>22</td>\n",
       "      <td>6</td>\n",
       "      <td>0</td>\n",
       "      <td>2</td>\n",
       "      <td>0</td>\n",
       "      <td>9</td>\n",
       "      <td>5</td>\n",
       "      <td>0</td>\n",
       "      <td>1</td>\n",
       "      <td>1</td>\n",
       "    </tr>\n",
       "    <tr>\n",
       "      <th>zoso1967</th>\n",
       "      <td>0</td>\n",
       "      <td>3</td>\n",
       "      <td>0</td>\n",
       "      <td>0</td>\n",
       "      <td>0</td>\n",
       "      <td>19</td>\n",
       "      <td>9</td>\n",
       "      <td>3</td>\n",
       "      <td>2</td>\n",
       "      <td>0</td>\n",
       "      <td>3</td>\n",
       "      <td>5</td>\n",
       "      <td>0</td>\n",
       "      <td>1</td>\n",
       "      <td>5</td>\n",
       "    </tr>\n",
       "    <tr>\n",
       "      <th>zotzot</th>\n",
       "      <td>1</td>\n",
       "      <td>4</td>\n",
       "      <td>0</td>\n",
       "      <td>1</td>\n",
       "      <td>0</td>\n",
       "      <td>18</td>\n",
       "      <td>11</td>\n",
       "      <td>1</td>\n",
       "      <td>0</td>\n",
       "      <td>1</td>\n",
       "      <td>7</td>\n",
       "      <td>2</td>\n",
       "      <td>0</td>\n",
       "      <td>4</td>\n",
       "      <td>0</td>\n",
       "    </tr>\n",
       "  </tbody>\n",
       "</table>\n",
       "<p>970 rows × 15 columns</p>\n",
       "</div>"
      ],
      "text/plain": [
       "category       Bocks  Brown Ales  Dark Ales  Dark Lagers  Hybrid Beers  \\\n",
       "user_name                                                                \n",
       "-Rick              0           2          0            2             0   \n",
       "1000lbgrizzly      0           5          0            1             0   \n",
       "1424IpA            0           0          1            0             0   \n",
       "2Xmd               0           2          1            1             0   \n",
       "2ellas             0           2          1            0             0   \n",
       "...              ...         ...        ...          ...           ...   \n",
       "zenithberwyn       1           1          0            3             0   \n",
       "zhanson88          1           5          3            1             0   \n",
       "zookerman182       1           3          0            0             0   \n",
       "zoso1967           0           3          0            0             0   \n",
       "zotzot             1           4          0            1             0   \n",
       "\n",
       "category       India Pale Ales  Pale Ales  Pale Lagers  Porters  \\\n",
       "user_name                                                         \n",
       "-Rick                       29          7            2        2   \n",
       "1000lbgrizzly                4          9            7        2   \n",
       "1424IpA                     21          3            1        1   \n",
       "2Xmd                        25          5            1        1   \n",
       "2ellas                      31          9            0        0   \n",
       "...                        ...        ...          ...      ...   \n",
       "zenithberwyn                 3          7           10        3   \n",
       "zhanson88                    6          6            2        3   \n",
       "zookerman182                22          6            0        2   \n",
       "zoso1967                    19          9            3        2   \n",
       "zotzot                      18         11            1        0   \n",
       "\n",
       "category       Specialty Beer  Stouts  Strong Ales  Weird Cocktail  \\\n",
       "user_name                                                            \n",
       "-Rick                       2       3            1               0   \n",
       "1000lbgrizzly               8       6            4               0   \n",
       "1424IpA                     1      12            4               0   \n",
       "2Xmd                        2       9            1               0   \n",
       "2ellas                      0       2            4               0   \n",
       "...                       ...     ...          ...             ...   \n",
       "zenithberwyn                0      14            5               0   \n",
       "zhanson88                   1      12            7               0   \n",
       "zookerman182                0       9            5               0   \n",
       "zoso1967                    0       3            5               0   \n",
       "zotzot                      1       7            2               0   \n",
       "\n",
       "category       Wheat Beers  Wild/Sour Beers  \n",
       "user_name                                    \n",
       "-Rick                    0                0  \n",
       "1000lbgrizzly            3                1  \n",
       "1424IpA                  1                5  \n",
       "2Xmd                     2                0  \n",
       "2ellas                   1                0  \n",
       "...                    ...              ...  \n",
       "zenithberwyn             3                0  \n",
       "zhanson88                3                0  \n",
       "zookerman182             1                1  \n",
       "zoso1967                 1                5  \n",
       "zotzot                   4                0  \n",
       "\n",
       "[970 rows x 15 columns]"
      ]
     },
     "execution_count": 457,
     "metadata": {},
     "output_type": "execute_result"
    }
   ],
   "source": [
    "# To do that, we check how many beers of different categories \n",
    "# a user rated in his first 50 ratings\n",
    "\n",
    "df_to_cluster = df_valid_ratings[df_valid_ratings[\"rating_number\"] < 50]\n",
    "user_to_cat_first = df_to_cluster.groupby([\"user_name\", \"category\"]).size()\n",
    "user_to_cat_first = user_to_cat_first.unstack(level=-1, fill_value = 0)\n",
    "user_to_cat_first"
   ]
  },
  {
   "cell_type": "code",
   "execution_count": 458,
   "metadata": {},
   "outputs": [
    {
     "name": "stdout",
     "output_type": "stream",
     "text": [
      "For n_clusters = 2 The average silhouette_score is : 0.25413325775018325\n",
      "For n_clusters = 3 The average silhouette_score is : 0.240323402139305\n",
      "For n_clusters = 4 The average silhouette_score is : 0.21464242754530322\n",
      "For n_clusters = 5 The average silhouette_score is : 0.19260175262458518\n",
      "For n_clusters = 6 The average silhouette_score is : 0.19498253246237626\n",
      "For n_clusters = 7 The average silhouette_score is : 0.18318847089460955\n",
      "For n_clusters = 8 The average silhouette_score is : 0.16626334080333469\n",
      "For n_clusters = 9 The average silhouette_score is : 0.16731724966101866\n",
      "For n_clusters = 10 The average silhouette_score is : 0.15489975103522458\n",
      "For n_clusters = 11 The average silhouette_score is : 0.1515082186106639\n",
      "For n_clusters = 12 The average silhouette_score is : 0.14591205795960832\n",
      "For n_clusters = 13 The average silhouette_score is : 0.1380410769317549\n",
      "For n_clusters = 14 The average silhouette_score is : 0.14809891055455748\n",
      "For n_clusters = 15 The average silhouette_score is : 0.1375700360974248\n"
     ]
    }
   ],
   "source": [
    "# Generating the sample data from make_blobs\n",
    "# This particular setting has one distinct cluster and 3 clusters placed close\n",
    "# together.\n",
    "X = user_to_cat_first.values\n",
    "y = 0\n",
    "\n",
    "range_n_clusters = range(2, 15 + 1)\n",
    "silhouette_score_list=[]\n",
    "for n_clusters in range_n_clusters:\n",
    "    clusterer = KMeans(n_clusters=n_clusters) # , n_init=\"auto\", random_state=10\n",
    "    clusterer.fit(X)\n",
    "    cluster_labels = clusterer.labels_\n",
    "\n",
    "    # The silhouette_score gives the average value for all the samples.\n",
    "    # This gives a perspective into the density and separation of the formed\n",
    "    # clusters\n",
    "    silhouette_avg = silhouette_score(X, cluster_labels)\n",
    "    silhouette_score_list.append(silhouette_avg)\n",
    "    print(\n",
    "        \"For n_clusters =\",\n",
    "        n_clusters,\n",
    "        \"The average silhouette_score is :\",\n",
    "        silhouette_avg,\n",
    "    )\n",
    "\n"
   ]
  },
  {
   "cell_type": "code",
   "execution_count": 459,
   "metadata": {},
   "outputs": [
    {
     "data": {
      "application/vnd.plotly.v1+json": {
       "config": {
        "plotlyServerURL": "https://plot.ly"
       },
       "data": [
        {
         "hovertemplate": "x=%{x}<br>y=%{y}<extra></extra>",
         "legendgroup": "",
         "line": {
          "color": "#636efa",
          "dash": "solid"
         },
         "marker": {
          "symbol": "circle"
         },
         "mode": "lines",
         "name": "",
         "orientation": "v",
         "showlegend": false,
         "type": "scatter",
         "x": [
          2,
          3,
          4,
          5,
          6,
          7,
          8,
          9,
          10,
          11,
          12,
          13,
          14,
          15
         ],
         "xaxis": "x",
         "y": [
          0.25413325775018325,
          0.240323402139305,
          0.21464242754530322,
          0.19260175262458518,
          0.19498253246237626,
          0.18318847089460955,
          0.16626334080333469,
          0.16731724966101866,
          0.15489975103522458,
          0.1515082186106639,
          0.14591205795960832,
          0.1380410769317549,
          0.14809891055455748,
          0.1375700360974248
         ],
         "yaxis": "y"
        }
       ],
       "layout": {
        "legend": {
         "title": {
          "text": "Silhouette score"
         },
         "tracegroupgap": 0
        },
        "margin": {
         "t": 60
        },
        "template": {
         "data": {
          "bar": [
           {
            "error_x": {
             "color": "#2a3f5f"
            },
            "error_y": {
             "color": "#2a3f5f"
            },
            "marker": {
             "line": {
              "color": "#E5ECF6",
              "width": 0.5
             },
             "pattern": {
              "fillmode": "overlay",
              "size": 10,
              "solidity": 0.2
             }
            },
            "type": "bar"
           }
          ],
          "barpolar": [
           {
            "marker": {
             "line": {
              "color": "#E5ECF6",
              "width": 0.5
             },
             "pattern": {
              "fillmode": "overlay",
              "size": 10,
              "solidity": 0.2
             }
            },
            "type": "barpolar"
           }
          ],
          "carpet": [
           {
            "aaxis": {
             "endlinecolor": "#2a3f5f",
             "gridcolor": "white",
             "linecolor": "white",
             "minorgridcolor": "white",
             "startlinecolor": "#2a3f5f"
            },
            "baxis": {
             "endlinecolor": "#2a3f5f",
             "gridcolor": "white",
             "linecolor": "white",
             "minorgridcolor": "white",
             "startlinecolor": "#2a3f5f"
            },
            "type": "carpet"
           }
          ],
          "choropleth": [
           {
            "colorbar": {
             "outlinewidth": 0,
             "ticks": ""
            },
            "type": "choropleth"
           }
          ],
          "contour": [
           {
            "colorbar": {
             "outlinewidth": 0,
             "ticks": ""
            },
            "colorscale": [
             [
              0,
              "#0d0887"
             ],
             [
              0.1111111111111111,
              "#46039f"
             ],
             [
              0.2222222222222222,
              "#7201a8"
             ],
             [
              0.3333333333333333,
              "#9c179e"
             ],
             [
              0.4444444444444444,
              "#bd3786"
             ],
             [
              0.5555555555555556,
              "#d8576b"
             ],
             [
              0.6666666666666666,
              "#ed7953"
             ],
             [
              0.7777777777777778,
              "#fb9f3a"
             ],
             [
              0.8888888888888888,
              "#fdca26"
             ],
             [
              1,
              "#f0f921"
             ]
            ],
            "type": "contour"
           }
          ],
          "contourcarpet": [
           {
            "colorbar": {
             "outlinewidth": 0,
             "ticks": ""
            },
            "type": "contourcarpet"
           }
          ],
          "heatmap": [
           {
            "colorbar": {
             "outlinewidth": 0,
             "ticks": ""
            },
            "colorscale": [
             [
              0,
              "#0d0887"
             ],
             [
              0.1111111111111111,
              "#46039f"
             ],
             [
              0.2222222222222222,
              "#7201a8"
             ],
             [
              0.3333333333333333,
              "#9c179e"
             ],
             [
              0.4444444444444444,
              "#bd3786"
             ],
             [
              0.5555555555555556,
              "#d8576b"
             ],
             [
              0.6666666666666666,
              "#ed7953"
             ],
             [
              0.7777777777777778,
              "#fb9f3a"
             ],
             [
              0.8888888888888888,
              "#fdca26"
             ],
             [
              1,
              "#f0f921"
             ]
            ],
            "type": "heatmap"
           }
          ],
          "heatmapgl": [
           {
            "colorbar": {
             "outlinewidth": 0,
             "ticks": ""
            },
            "colorscale": [
             [
              0,
              "#0d0887"
             ],
             [
              0.1111111111111111,
              "#46039f"
             ],
             [
              0.2222222222222222,
              "#7201a8"
             ],
             [
              0.3333333333333333,
              "#9c179e"
             ],
             [
              0.4444444444444444,
              "#bd3786"
             ],
             [
              0.5555555555555556,
              "#d8576b"
             ],
             [
              0.6666666666666666,
              "#ed7953"
             ],
             [
              0.7777777777777778,
              "#fb9f3a"
             ],
             [
              0.8888888888888888,
              "#fdca26"
             ],
             [
              1,
              "#f0f921"
             ]
            ],
            "type": "heatmapgl"
           }
          ],
          "histogram": [
           {
            "marker": {
             "pattern": {
              "fillmode": "overlay",
              "size": 10,
              "solidity": 0.2
             }
            },
            "type": "histogram"
           }
          ],
          "histogram2d": [
           {
            "colorbar": {
             "outlinewidth": 0,
             "ticks": ""
            },
            "colorscale": [
             [
              0,
              "#0d0887"
             ],
             [
              0.1111111111111111,
              "#46039f"
             ],
             [
              0.2222222222222222,
              "#7201a8"
             ],
             [
              0.3333333333333333,
              "#9c179e"
             ],
             [
              0.4444444444444444,
              "#bd3786"
             ],
             [
              0.5555555555555556,
              "#d8576b"
             ],
             [
              0.6666666666666666,
              "#ed7953"
             ],
             [
              0.7777777777777778,
              "#fb9f3a"
             ],
             [
              0.8888888888888888,
              "#fdca26"
             ],
             [
              1,
              "#f0f921"
             ]
            ],
            "type": "histogram2d"
           }
          ],
          "histogram2dcontour": [
           {
            "colorbar": {
             "outlinewidth": 0,
             "ticks": ""
            },
            "colorscale": [
             [
              0,
              "#0d0887"
             ],
             [
              0.1111111111111111,
              "#46039f"
             ],
             [
              0.2222222222222222,
              "#7201a8"
             ],
             [
              0.3333333333333333,
              "#9c179e"
             ],
             [
              0.4444444444444444,
              "#bd3786"
             ],
             [
              0.5555555555555556,
              "#d8576b"
             ],
             [
              0.6666666666666666,
              "#ed7953"
             ],
             [
              0.7777777777777778,
              "#fb9f3a"
             ],
             [
              0.8888888888888888,
              "#fdca26"
             ],
             [
              1,
              "#f0f921"
             ]
            ],
            "type": "histogram2dcontour"
           }
          ],
          "mesh3d": [
           {
            "colorbar": {
             "outlinewidth": 0,
             "ticks": ""
            },
            "type": "mesh3d"
           }
          ],
          "parcoords": [
           {
            "line": {
             "colorbar": {
              "outlinewidth": 0,
              "ticks": ""
             }
            },
            "type": "parcoords"
           }
          ],
          "pie": [
           {
            "automargin": true,
            "type": "pie"
           }
          ],
          "scatter": [
           {
            "fillpattern": {
             "fillmode": "overlay",
             "size": 10,
             "solidity": 0.2
            },
            "type": "scatter"
           }
          ],
          "scatter3d": [
           {
            "line": {
             "colorbar": {
              "outlinewidth": 0,
              "ticks": ""
             }
            },
            "marker": {
             "colorbar": {
              "outlinewidth": 0,
              "ticks": ""
             }
            },
            "type": "scatter3d"
           }
          ],
          "scattercarpet": [
           {
            "marker": {
             "colorbar": {
              "outlinewidth": 0,
              "ticks": ""
             }
            },
            "type": "scattercarpet"
           }
          ],
          "scattergeo": [
           {
            "marker": {
             "colorbar": {
              "outlinewidth": 0,
              "ticks": ""
             }
            },
            "type": "scattergeo"
           }
          ],
          "scattergl": [
           {
            "marker": {
             "colorbar": {
              "outlinewidth": 0,
              "ticks": ""
             }
            },
            "type": "scattergl"
           }
          ],
          "scattermapbox": [
           {
            "marker": {
             "colorbar": {
              "outlinewidth": 0,
              "ticks": ""
             }
            },
            "type": "scattermapbox"
           }
          ],
          "scatterpolar": [
           {
            "marker": {
             "colorbar": {
              "outlinewidth": 0,
              "ticks": ""
             }
            },
            "type": "scatterpolar"
           }
          ],
          "scatterpolargl": [
           {
            "marker": {
             "colorbar": {
              "outlinewidth": 0,
              "ticks": ""
             }
            },
            "type": "scatterpolargl"
           }
          ],
          "scatterternary": [
           {
            "marker": {
             "colorbar": {
              "outlinewidth": 0,
              "ticks": ""
             }
            },
            "type": "scatterternary"
           }
          ],
          "surface": [
           {
            "colorbar": {
             "outlinewidth": 0,
             "ticks": ""
            },
            "colorscale": [
             [
              0,
              "#0d0887"
             ],
             [
              0.1111111111111111,
              "#46039f"
             ],
             [
              0.2222222222222222,
              "#7201a8"
             ],
             [
              0.3333333333333333,
              "#9c179e"
             ],
             [
              0.4444444444444444,
              "#bd3786"
             ],
             [
              0.5555555555555556,
              "#d8576b"
             ],
             [
              0.6666666666666666,
              "#ed7953"
             ],
             [
              0.7777777777777778,
              "#fb9f3a"
             ],
             [
              0.8888888888888888,
              "#fdca26"
             ],
             [
              1,
              "#f0f921"
             ]
            ],
            "type": "surface"
           }
          ],
          "table": [
           {
            "cells": {
             "fill": {
              "color": "#EBF0F8"
             },
             "line": {
              "color": "white"
             }
            },
            "header": {
             "fill": {
              "color": "#C8D4E3"
             },
             "line": {
              "color": "white"
             }
            },
            "type": "table"
           }
          ]
         },
         "layout": {
          "annotationdefaults": {
           "arrowcolor": "#2a3f5f",
           "arrowhead": 0,
           "arrowwidth": 1
          },
          "autotypenumbers": "strict",
          "coloraxis": {
           "colorbar": {
            "outlinewidth": 0,
            "ticks": ""
           }
          },
          "colorscale": {
           "diverging": [
            [
             0,
             "#8e0152"
            ],
            [
             0.1,
             "#c51b7d"
            ],
            [
             0.2,
             "#de77ae"
            ],
            [
             0.3,
             "#f1b6da"
            ],
            [
             0.4,
             "#fde0ef"
            ],
            [
             0.5,
             "#f7f7f7"
            ],
            [
             0.6,
             "#e6f5d0"
            ],
            [
             0.7,
             "#b8e186"
            ],
            [
             0.8,
             "#7fbc41"
            ],
            [
             0.9,
             "#4d9221"
            ],
            [
             1,
             "#276419"
            ]
           ],
           "sequential": [
            [
             0,
             "#0d0887"
            ],
            [
             0.1111111111111111,
             "#46039f"
            ],
            [
             0.2222222222222222,
             "#7201a8"
            ],
            [
             0.3333333333333333,
             "#9c179e"
            ],
            [
             0.4444444444444444,
             "#bd3786"
            ],
            [
             0.5555555555555556,
             "#d8576b"
            ],
            [
             0.6666666666666666,
             "#ed7953"
            ],
            [
             0.7777777777777778,
             "#fb9f3a"
            ],
            [
             0.8888888888888888,
             "#fdca26"
            ],
            [
             1,
             "#f0f921"
            ]
           ],
           "sequentialminus": [
            [
             0,
             "#0d0887"
            ],
            [
             0.1111111111111111,
             "#46039f"
            ],
            [
             0.2222222222222222,
             "#7201a8"
            ],
            [
             0.3333333333333333,
             "#9c179e"
            ],
            [
             0.4444444444444444,
             "#bd3786"
            ],
            [
             0.5555555555555556,
             "#d8576b"
            ],
            [
             0.6666666666666666,
             "#ed7953"
            ],
            [
             0.7777777777777778,
             "#fb9f3a"
            ],
            [
             0.8888888888888888,
             "#fdca26"
            ],
            [
             1,
             "#f0f921"
            ]
           ]
          },
          "colorway": [
           "#636efa",
           "#EF553B",
           "#00cc96",
           "#ab63fa",
           "#FFA15A",
           "#19d3f3",
           "#FF6692",
           "#B6E880",
           "#FF97FF",
           "#FECB52"
          ],
          "font": {
           "color": "#2a3f5f"
          },
          "geo": {
           "bgcolor": "white",
           "lakecolor": "white",
           "landcolor": "#E5ECF6",
           "showlakes": true,
           "showland": true,
           "subunitcolor": "white"
          },
          "hoverlabel": {
           "align": "left"
          },
          "hovermode": "closest",
          "mapbox": {
           "style": "light"
          },
          "paper_bgcolor": "white",
          "plot_bgcolor": "#E5ECF6",
          "polar": {
           "angularaxis": {
            "gridcolor": "white",
            "linecolor": "white",
            "ticks": ""
           },
           "bgcolor": "#E5ECF6",
           "radialaxis": {
            "gridcolor": "white",
            "linecolor": "white",
            "ticks": ""
           }
          },
          "scene": {
           "xaxis": {
            "backgroundcolor": "#E5ECF6",
            "gridcolor": "white",
            "gridwidth": 2,
            "linecolor": "white",
            "showbackground": true,
            "ticks": "",
            "zerolinecolor": "white"
           },
           "yaxis": {
            "backgroundcolor": "#E5ECF6",
            "gridcolor": "white",
            "gridwidth": 2,
            "linecolor": "white",
            "showbackground": true,
            "ticks": "",
            "zerolinecolor": "white"
           },
           "zaxis": {
            "backgroundcolor": "#E5ECF6",
            "gridcolor": "white",
            "gridwidth": 2,
            "linecolor": "white",
            "showbackground": true,
            "ticks": "",
            "zerolinecolor": "white"
           }
          },
          "shapedefaults": {
           "line": {
            "color": "#2a3f5f"
           }
          },
          "ternary": {
           "aaxis": {
            "gridcolor": "white",
            "linecolor": "white",
            "ticks": ""
           },
           "baxis": {
            "gridcolor": "white",
            "linecolor": "white",
            "ticks": ""
           },
           "bgcolor": "#E5ECF6",
           "caxis": {
            "gridcolor": "white",
            "linecolor": "white",
            "ticks": ""
           }
          },
          "title": {
           "x": 0.05
          },
          "xaxis": {
           "automargin": true,
           "gridcolor": "white",
           "linecolor": "white",
           "ticks": "",
           "title": {
            "standoff": 15
           },
           "zerolinecolor": "white",
           "zerolinewidth": 2
          },
          "yaxis": {
           "automargin": true,
           "gridcolor": "white",
           "linecolor": "white",
           "ticks": "",
           "title": {
            "standoff": 15
           },
           "zerolinecolor": "white",
           "zerolinewidth": 2
          }
         }
        },
        "title": {
         "text": "Silhouette score"
        },
        "xaxis": {
         "anchor": "y",
         "domain": [
          0,
          1
         ],
         "title": {
          "text": "Number of clusters"
         }
        },
        "yaxis": {
         "anchor": "x",
         "domain": [
          0,
          1
         ],
         "title": {
          "text": "Silhouette score"
         }
        }
       }
      }
     },
     "metadata": {},
     "output_type": "display_data"
    }
   ],
   "source": [
    "fig=px.line(x=range_n_clusters,y=silhouette_score_list)\n",
    "fig.update_layout(\n",
    "    title=\"Silhouette score\",\n",
    "    xaxis_title=\"Number of clusters\",\n",
    "    yaxis_title=\"Silhouette score\",\n",
    "    legend_title=\"Silhouette score\",)\n",
    "fig.show()"
   ]
  },
  {
   "cell_type": "code",
   "execution_count": 460,
   "metadata": {},
   "outputs": [],
   "source": [
    "#Rename tu user_clustering?\n",
    "\n",
    "random.seed(10)\n",
    "\n",
    "our_clustering_4 = KMeans(4).fit(user_to_cat_first.values)\n",
    "our_clustering_5 = KMeans(5).fit(user_to_cat_first.values)"
   ]
  },
  {
   "cell_type": "code",
   "execution_count": 461,
   "metadata": {},
   "outputs": [
    {
     "data": {
      "text/plain": [
       "Counter({1: 239, 0: 393, 2: 197, 3: 141})"
      ]
     },
     "execution_count": 461,
     "metadata": {},
     "output_type": "execute_result"
    }
   ],
   "source": [
    "count = collections.Counter(our_clustering_4.labels_)\n",
    "count"
   ]
  },
  {
   "cell_type": "code",
   "execution_count": 462,
   "metadata": {},
   "outputs": [
    {
     "data": {
      "text/html": [
       "<div>\n",
       "<style scoped>\n",
       "    .dataframe tbody tr th:only-of-type {\n",
       "        vertical-align: middle;\n",
       "    }\n",
       "\n",
       "    .dataframe tbody tr th {\n",
       "        vertical-align: top;\n",
       "    }\n",
       "\n",
       "    .dataframe thead th {\n",
       "        text-align: right;\n",
       "    }\n",
       "</style>\n",
       "<table border=\"1\" class=\"dataframe\">\n",
       "  <thead>\n",
       "    <tr style=\"text-align: right;\">\n",
       "      <th></th>\n",
       "      <th>0</th>\n",
       "      <th>1</th>\n",
       "      <th>2</th>\n",
       "      <th>3</th>\n",
       "    </tr>\n",
       "    <tr>\n",
       "      <th>category</th>\n",
       "      <th></th>\n",
       "      <th></th>\n",
       "      <th></th>\n",
       "      <th></th>\n",
       "    </tr>\n",
       "  </thead>\n",
       "  <tbody>\n",
       "    <tr>\n",
       "      <th>Bocks</th>\n",
       "      <td>1.664122</td>\n",
       "      <td>0.598326</td>\n",
       "      <td>0.812183</td>\n",
       "      <td>1.794326</td>\n",
       "    </tr>\n",
       "    <tr>\n",
       "      <th>Brown Ales</th>\n",
       "      <td>3.272265</td>\n",
       "      <td>1.732218</td>\n",
       "      <td>2.527919</td>\n",
       "      <td>2.723404</td>\n",
       "    </tr>\n",
       "    <tr>\n",
       "      <th>Dark Ales</th>\n",
       "      <td>1.651399</td>\n",
       "      <td>0.615063</td>\n",
       "      <td>0.969543</td>\n",
       "      <td>1.425532</td>\n",
       "    </tr>\n",
       "    <tr>\n",
       "      <th>Dark Lagers</th>\n",
       "      <td>1.534351</td>\n",
       "      <td>0.548117</td>\n",
       "      <td>0.629442</td>\n",
       "      <td>3.347518</td>\n",
       "    </tr>\n",
       "    <tr>\n",
       "      <th>Hybrid Beers</th>\n",
       "      <td>0.338422</td>\n",
       "      <td>0.234310</td>\n",
       "      <td>0.279188</td>\n",
       "      <td>0.382979</td>\n",
       "    </tr>\n",
       "    <tr>\n",
       "      <th>India Pale Ales</th>\n",
       "      <td>8.188295</td>\n",
       "      <td>22.832636</td>\n",
       "      <td>9.873096</td>\n",
       "      <td>3.297872</td>\n",
       "    </tr>\n",
       "    <tr>\n",
       "      <th>Pale Ales</th>\n",
       "      <td>9.412214</td>\n",
       "      <td>7.468619</td>\n",
       "      <td>4.766497</td>\n",
       "      <td>7.780142</td>\n",
       "    </tr>\n",
       "    <tr>\n",
       "      <th>Pale Lagers</th>\n",
       "      <td>3.875318</td>\n",
       "      <td>2.012552</td>\n",
       "      <td>1.294416</td>\n",
       "      <td>13.624113</td>\n",
       "    </tr>\n",
       "    <tr>\n",
       "      <th>Porters</th>\n",
       "      <td>2.300254</td>\n",
       "      <td>1.351464</td>\n",
       "      <td>3.086294</td>\n",
       "      <td>1.560284</td>\n",
       "    </tr>\n",
       "    <tr>\n",
       "      <th>Specialty Beer</th>\n",
       "      <td>1.748092</td>\n",
       "      <td>1.221757</td>\n",
       "      <td>1.335025</td>\n",
       "      <td>1.418440</td>\n",
       "    </tr>\n",
       "    <tr>\n",
       "      <th>Stouts</th>\n",
       "      <td>5.106870</td>\n",
       "      <td>4.556485</td>\n",
       "      <td>15.121827</td>\n",
       "      <td>3.510638</td>\n",
       "    </tr>\n",
       "    <tr>\n",
       "      <th>Strong Ales</th>\n",
       "      <td>6.124682</td>\n",
       "      <td>4.075314</td>\n",
       "      <td>6.182741</td>\n",
       "      <td>3.950355</td>\n",
       "    </tr>\n",
       "    <tr>\n",
       "      <th>Weird Cocktail</th>\n",
       "      <td>0.063613</td>\n",
       "      <td>0.012552</td>\n",
       "      <td>0.076142</td>\n",
       "      <td>0.156028</td>\n",
       "    </tr>\n",
       "    <tr>\n",
       "      <th>Wheat Beers</th>\n",
       "      <td>3.625954</td>\n",
       "      <td>1.878661</td>\n",
       "      <td>1.548223</td>\n",
       "      <td>4.744681</td>\n",
       "    </tr>\n",
       "    <tr>\n",
       "      <th>Wild/Sour Beers</th>\n",
       "      <td>1.094148</td>\n",
       "      <td>0.861925</td>\n",
       "      <td>1.497462</td>\n",
       "      <td>0.283688</td>\n",
       "    </tr>\n",
       "  </tbody>\n",
       "</table>\n",
       "</div>"
      ],
      "text/plain": [
       "                        0          1          2          3\n",
       "category                                                  \n",
       "Bocks            1.664122   0.598326   0.812183   1.794326\n",
       "Brown Ales       3.272265   1.732218   2.527919   2.723404\n",
       "Dark Ales        1.651399   0.615063   0.969543   1.425532\n",
       "Dark Lagers      1.534351   0.548117   0.629442   3.347518\n",
       "Hybrid Beers     0.338422   0.234310   0.279188   0.382979\n",
       "India Pale Ales  8.188295  22.832636   9.873096   3.297872\n",
       "Pale Ales        9.412214   7.468619   4.766497   7.780142\n",
       "Pale Lagers      3.875318   2.012552   1.294416  13.624113\n",
       "Porters          2.300254   1.351464   3.086294   1.560284\n",
       "Specialty Beer   1.748092   1.221757   1.335025   1.418440\n",
       "Stouts           5.106870   4.556485  15.121827   3.510638\n",
       "Strong Ales      6.124682   4.075314   6.182741   3.950355\n",
       "Weird Cocktail   0.063613   0.012552   0.076142   0.156028\n",
       "Wheat Beers      3.625954   1.878661   1.548223   4.744681\n",
       "Wild/Sour Beers  1.094148   0.861925   1.497462   0.283688"
      ]
     },
     "execution_count": 462,
     "metadata": {},
     "output_type": "execute_result"
    }
   ],
   "source": [
    "df_cluster_beer = pd.DataFrame(our_clustering_4.cluster_centers_.T)\n",
    "df_cluster_beer.index = user_to_cat_first.columns\n",
    "df_cluster_beer"
   ]
  },
  {
   "cell_type": "code",
   "execution_count": 463,
   "metadata": {},
   "outputs": [],
   "source": [
    "ipa_idx = (df_cluster_beer.loc['India Pale Ales',:]).argmax()\n",
    "stout_idx = (df_cluster_beer.loc['Stouts',:]).argmax()\n",
    "pale_idx = (df_cluster_beer.loc['Pale Lagers',:]).argmax()\n",
    "\n",
    "possible_indices = [0,1,2,3] #column indices\n",
    "expl_col = sum(possible_indices) - (ipa_idx + stout_idx + pale_idx)\n",
    "\n",
    "mapping = {'All' : 4, 'Jean-Michel IPA' : ipa_idx, 'Marcel Stout' : stout_idx, \n",
    "           'James Bland' : pale_idx, 'Ada the explorer' : expl_col}\n",
    "reverse_mapping ={ values:key for key, values in mapping.items()}"
   ]
  },
  {
   "cell_type": "code",
   "execution_count": 464,
   "metadata": {},
   "outputs": [
    {
     "data": {
      "text/html": [
       "<div>\n",
       "<style scoped>\n",
       "    .dataframe tbody tr th:only-of-type {\n",
       "        vertical-align: middle;\n",
       "    }\n",
       "\n",
       "    .dataframe tbody tr th {\n",
       "        vertical-align: top;\n",
       "    }\n",
       "\n",
       "    .dataframe thead th {\n",
       "        text-align: right;\n",
       "    }\n",
       "</style>\n",
       "<table border=\"1\" class=\"dataframe\">\n",
       "  <thead>\n",
       "    <tr style=\"text-align: right;\">\n",
       "      <th></th>\n",
       "      <th>0</th>\n",
       "      <th>1</th>\n",
       "      <th>2</th>\n",
       "      <th>3</th>\n",
       "    </tr>\n",
       "    <tr>\n",
       "      <th>category</th>\n",
       "      <th></th>\n",
       "      <th></th>\n",
       "      <th></th>\n",
       "      <th></th>\n",
       "    </tr>\n",
       "  </thead>\n",
       "  <tbody>\n",
       "    <tr>\n",
       "      <th>Bocks</th>\n",
       "      <td>1.664122</td>\n",
       "      <td>0.598326</td>\n",
       "      <td>0.812183</td>\n",
       "      <td>1.794326</td>\n",
       "    </tr>\n",
       "    <tr>\n",
       "      <th>Brown Ales</th>\n",
       "      <td>3.272265</td>\n",
       "      <td>1.732218</td>\n",
       "      <td>2.527919</td>\n",
       "      <td>2.723404</td>\n",
       "    </tr>\n",
       "    <tr>\n",
       "      <th>Dark Ales</th>\n",
       "      <td>1.651399</td>\n",
       "      <td>0.615063</td>\n",
       "      <td>0.969543</td>\n",
       "      <td>1.425532</td>\n",
       "    </tr>\n",
       "    <tr>\n",
       "      <th>Dark Lagers</th>\n",
       "      <td>1.534351</td>\n",
       "      <td>0.548117</td>\n",
       "      <td>0.629442</td>\n",
       "      <td>3.347518</td>\n",
       "    </tr>\n",
       "    <tr>\n",
       "      <th>Hybrid Beers</th>\n",
       "      <td>0.338422</td>\n",
       "      <td>0.234310</td>\n",
       "      <td>0.279188</td>\n",
       "      <td>0.382979</td>\n",
       "    </tr>\n",
       "    <tr>\n",
       "      <th>India Pale Ales</th>\n",
       "      <td>8.188295</td>\n",
       "      <td>22.832636</td>\n",
       "      <td>9.873096</td>\n",
       "      <td>3.297872</td>\n",
       "    </tr>\n",
       "    <tr>\n",
       "      <th>Pale Ales</th>\n",
       "      <td>9.412214</td>\n",
       "      <td>7.468619</td>\n",
       "      <td>4.766497</td>\n",
       "      <td>7.780142</td>\n",
       "    </tr>\n",
       "    <tr>\n",
       "      <th>Pale Lagers</th>\n",
       "      <td>3.875318</td>\n",
       "      <td>2.012552</td>\n",
       "      <td>1.294416</td>\n",
       "      <td>13.624113</td>\n",
       "    </tr>\n",
       "    <tr>\n",
       "      <th>Porters</th>\n",
       "      <td>2.300254</td>\n",
       "      <td>1.351464</td>\n",
       "      <td>3.086294</td>\n",
       "      <td>1.560284</td>\n",
       "    </tr>\n",
       "    <tr>\n",
       "      <th>Specialty Beer</th>\n",
       "      <td>1.748092</td>\n",
       "      <td>1.221757</td>\n",
       "      <td>1.335025</td>\n",
       "      <td>1.418440</td>\n",
       "    </tr>\n",
       "    <tr>\n",
       "      <th>Stouts</th>\n",
       "      <td>5.106870</td>\n",
       "      <td>4.556485</td>\n",
       "      <td>15.121827</td>\n",
       "      <td>3.510638</td>\n",
       "    </tr>\n",
       "    <tr>\n",
       "      <th>Strong Ales</th>\n",
       "      <td>6.124682</td>\n",
       "      <td>4.075314</td>\n",
       "      <td>6.182741</td>\n",
       "      <td>3.950355</td>\n",
       "    </tr>\n",
       "    <tr>\n",
       "      <th>Weird Cocktail</th>\n",
       "      <td>0.063613</td>\n",
       "      <td>0.012552</td>\n",
       "      <td>0.076142</td>\n",
       "      <td>0.156028</td>\n",
       "    </tr>\n",
       "    <tr>\n",
       "      <th>Wheat Beers</th>\n",
       "      <td>3.625954</td>\n",
       "      <td>1.878661</td>\n",
       "      <td>1.548223</td>\n",
       "      <td>4.744681</td>\n",
       "    </tr>\n",
       "    <tr>\n",
       "      <th>Wild/Sour Beers</th>\n",
       "      <td>1.094148</td>\n",
       "      <td>0.861925</td>\n",
       "      <td>1.497462</td>\n",
       "      <td>0.283688</td>\n",
       "    </tr>\n",
       "  </tbody>\n",
       "</table>\n",
       "</div>"
      ],
      "text/plain": [
       "                        0          1          2          3\n",
       "category                                                  \n",
       "Bocks            1.664122   0.598326   0.812183   1.794326\n",
       "Brown Ales       3.272265   1.732218   2.527919   2.723404\n",
       "Dark Ales        1.651399   0.615063   0.969543   1.425532\n",
       "Dark Lagers      1.534351   0.548117   0.629442   3.347518\n",
       "Hybrid Beers     0.338422   0.234310   0.279188   0.382979\n",
       "India Pale Ales  8.188295  22.832636   9.873096   3.297872\n",
       "Pale Ales        9.412214   7.468619   4.766497   7.780142\n",
       "Pale Lagers      3.875318   2.012552   1.294416  13.624113\n",
       "Porters          2.300254   1.351464   3.086294   1.560284\n",
       "Specialty Beer   1.748092   1.221757   1.335025   1.418440\n",
       "Stouts           5.106870   4.556485  15.121827   3.510638\n",
       "Strong Ales      6.124682   4.075314   6.182741   3.950355\n",
       "Weird Cocktail   0.063613   0.012552   0.076142   0.156028\n",
       "Wheat Beers      3.625954   1.878661   1.548223   4.744681\n",
       "Wild/Sour Beers  1.094148   0.861925   1.497462   0.283688"
      ]
     },
     "execution_count": 464,
     "metadata": {},
     "output_type": "execute_result"
    }
   ],
   "source": [
    "df_cluster_beer"
   ]
  },
  {
   "cell_type": "code",
   "execution_count": 465,
   "metadata": {},
   "outputs": [
    {
     "data": {
      "text/html": [
       "<div>\n",
       "<style scoped>\n",
       "    .dataframe tbody tr th:only-of-type {\n",
       "        vertical-align: middle;\n",
       "    }\n",
       "\n",
       "    .dataframe tbody tr th {\n",
       "        vertical-align: top;\n",
       "    }\n",
       "\n",
       "    .dataframe thead th {\n",
       "        text-align: right;\n",
       "    }\n",
       "</style>\n",
       "<table border=\"1\" class=\"dataframe\">\n",
       "  <thead>\n",
       "    <tr style=\"text-align: right;\">\n",
       "      <th></th>\n",
       "      <th>category</th>\n",
       "      <th>cluster</th>\n",
       "      <th>Number of beer</th>\n",
       "    </tr>\n",
       "  </thead>\n",
       "  <tbody>\n",
       "    <tr>\n",
       "      <th>0</th>\n",
       "      <td>Bocks</td>\n",
       "      <td>0</td>\n",
       "      <td>1.664122</td>\n",
       "    </tr>\n",
       "    <tr>\n",
       "      <th>1</th>\n",
       "      <td>Brown Ales</td>\n",
       "      <td>0</td>\n",
       "      <td>3.272265</td>\n",
       "    </tr>\n",
       "    <tr>\n",
       "      <th>2</th>\n",
       "      <td>Dark Ales</td>\n",
       "      <td>0</td>\n",
       "      <td>1.651399</td>\n",
       "    </tr>\n",
       "    <tr>\n",
       "      <th>3</th>\n",
       "      <td>Dark Lagers</td>\n",
       "      <td>0</td>\n",
       "      <td>1.534351</td>\n",
       "    </tr>\n",
       "    <tr>\n",
       "      <th>4</th>\n",
       "      <td>Hybrid Beers</td>\n",
       "      <td>0</td>\n",
       "      <td>0.338422</td>\n",
       "    </tr>\n",
       "    <tr>\n",
       "      <th>5</th>\n",
       "      <td>India Pale Ales</td>\n",
       "      <td>0</td>\n",
       "      <td>8.188295</td>\n",
       "    </tr>\n",
       "    <tr>\n",
       "      <th>6</th>\n",
       "      <td>Pale Ales</td>\n",
       "      <td>0</td>\n",
       "      <td>9.412214</td>\n",
       "    </tr>\n",
       "    <tr>\n",
       "      <th>7</th>\n",
       "      <td>Pale Lagers</td>\n",
       "      <td>0</td>\n",
       "      <td>3.875318</td>\n",
       "    </tr>\n",
       "    <tr>\n",
       "      <th>8</th>\n",
       "      <td>Porters</td>\n",
       "      <td>0</td>\n",
       "      <td>2.300254</td>\n",
       "    </tr>\n",
       "    <tr>\n",
       "      <th>9</th>\n",
       "      <td>Specialty Beer</td>\n",
       "      <td>0</td>\n",
       "      <td>1.748092</td>\n",
       "    </tr>\n",
       "    <tr>\n",
       "      <th>10</th>\n",
       "      <td>Stouts</td>\n",
       "      <td>0</td>\n",
       "      <td>5.106870</td>\n",
       "    </tr>\n",
       "    <tr>\n",
       "      <th>11</th>\n",
       "      <td>Strong Ales</td>\n",
       "      <td>0</td>\n",
       "      <td>6.124682</td>\n",
       "    </tr>\n",
       "    <tr>\n",
       "      <th>12</th>\n",
       "      <td>Weird Cocktail</td>\n",
       "      <td>0</td>\n",
       "      <td>0.063613</td>\n",
       "    </tr>\n",
       "    <tr>\n",
       "      <th>13</th>\n",
       "      <td>Wheat Beers</td>\n",
       "      <td>0</td>\n",
       "      <td>3.625954</td>\n",
       "    </tr>\n",
       "    <tr>\n",
       "      <th>14</th>\n",
       "      <td>Wild/Sour Beers</td>\n",
       "      <td>0</td>\n",
       "      <td>1.094148</td>\n",
       "    </tr>\n",
       "    <tr>\n",
       "      <th>15</th>\n",
       "      <td>Bocks</td>\n",
       "      <td>1</td>\n",
       "      <td>0.598326</td>\n",
       "    </tr>\n",
       "    <tr>\n",
       "      <th>16</th>\n",
       "      <td>Brown Ales</td>\n",
       "      <td>1</td>\n",
       "      <td>1.732218</td>\n",
       "    </tr>\n",
       "    <tr>\n",
       "      <th>17</th>\n",
       "      <td>Dark Ales</td>\n",
       "      <td>1</td>\n",
       "      <td>0.615063</td>\n",
       "    </tr>\n",
       "    <tr>\n",
       "      <th>18</th>\n",
       "      <td>Dark Lagers</td>\n",
       "      <td>1</td>\n",
       "      <td>0.548117</td>\n",
       "    </tr>\n",
       "    <tr>\n",
       "      <th>19</th>\n",
       "      <td>Hybrid Beers</td>\n",
       "      <td>1</td>\n",
       "      <td>0.234310</td>\n",
       "    </tr>\n",
       "    <tr>\n",
       "      <th>20</th>\n",
       "      <td>India Pale Ales</td>\n",
       "      <td>1</td>\n",
       "      <td>22.832636</td>\n",
       "    </tr>\n",
       "    <tr>\n",
       "      <th>21</th>\n",
       "      <td>Pale Ales</td>\n",
       "      <td>1</td>\n",
       "      <td>7.468619</td>\n",
       "    </tr>\n",
       "    <tr>\n",
       "      <th>22</th>\n",
       "      <td>Pale Lagers</td>\n",
       "      <td>1</td>\n",
       "      <td>2.012552</td>\n",
       "    </tr>\n",
       "    <tr>\n",
       "      <th>23</th>\n",
       "      <td>Porters</td>\n",
       "      <td>1</td>\n",
       "      <td>1.351464</td>\n",
       "    </tr>\n",
       "    <tr>\n",
       "      <th>24</th>\n",
       "      <td>Specialty Beer</td>\n",
       "      <td>1</td>\n",
       "      <td>1.221757</td>\n",
       "    </tr>\n",
       "    <tr>\n",
       "      <th>25</th>\n",
       "      <td>Stouts</td>\n",
       "      <td>1</td>\n",
       "      <td>4.556485</td>\n",
       "    </tr>\n",
       "    <tr>\n",
       "      <th>26</th>\n",
       "      <td>Strong Ales</td>\n",
       "      <td>1</td>\n",
       "      <td>4.075314</td>\n",
       "    </tr>\n",
       "    <tr>\n",
       "      <th>27</th>\n",
       "      <td>Weird Cocktail</td>\n",
       "      <td>1</td>\n",
       "      <td>0.012552</td>\n",
       "    </tr>\n",
       "    <tr>\n",
       "      <th>28</th>\n",
       "      <td>Wheat Beers</td>\n",
       "      <td>1</td>\n",
       "      <td>1.878661</td>\n",
       "    </tr>\n",
       "    <tr>\n",
       "      <th>29</th>\n",
       "      <td>Wild/Sour Beers</td>\n",
       "      <td>1</td>\n",
       "      <td>0.861925</td>\n",
       "    </tr>\n",
       "    <tr>\n",
       "      <th>30</th>\n",
       "      <td>Bocks</td>\n",
       "      <td>2</td>\n",
       "      <td>0.812183</td>\n",
       "    </tr>\n",
       "    <tr>\n",
       "      <th>31</th>\n",
       "      <td>Brown Ales</td>\n",
       "      <td>2</td>\n",
       "      <td>2.527919</td>\n",
       "    </tr>\n",
       "    <tr>\n",
       "      <th>32</th>\n",
       "      <td>Dark Ales</td>\n",
       "      <td>2</td>\n",
       "      <td>0.969543</td>\n",
       "    </tr>\n",
       "    <tr>\n",
       "      <th>33</th>\n",
       "      <td>Dark Lagers</td>\n",
       "      <td>2</td>\n",
       "      <td>0.629442</td>\n",
       "    </tr>\n",
       "    <tr>\n",
       "      <th>34</th>\n",
       "      <td>Hybrid Beers</td>\n",
       "      <td>2</td>\n",
       "      <td>0.279188</td>\n",
       "    </tr>\n",
       "    <tr>\n",
       "      <th>35</th>\n",
       "      <td>India Pale Ales</td>\n",
       "      <td>2</td>\n",
       "      <td>9.873096</td>\n",
       "    </tr>\n",
       "    <tr>\n",
       "      <th>36</th>\n",
       "      <td>Pale Ales</td>\n",
       "      <td>2</td>\n",
       "      <td>4.766497</td>\n",
       "    </tr>\n",
       "    <tr>\n",
       "      <th>37</th>\n",
       "      <td>Pale Lagers</td>\n",
       "      <td>2</td>\n",
       "      <td>1.294416</td>\n",
       "    </tr>\n",
       "    <tr>\n",
       "      <th>38</th>\n",
       "      <td>Porters</td>\n",
       "      <td>2</td>\n",
       "      <td>3.086294</td>\n",
       "    </tr>\n",
       "    <tr>\n",
       "      <th>39</th>\n",
       "      <td>Specialty Beer</td>\n",
       "      <td>2</td>\n",
       "      <td>1.335025</td>\n",
       "    </tr>\n",
       "    <tr>\n",
       "      <th>40</th>\n",
       "      <td>Stouts</td>\n",
       "      <td>2</td>\n",
       "      <td>15.121827</td>\n",
       "    </tr>\n",
       "    <tr>\n",
       "      <th>41</th>\n",
       "      <td>Strong Ales</td>\n",
       "      <td>2</td>\n",
       "      <td>6.182741</td>\n",
       "    </tr>\n",
       "    <tr>\n",
       "      <th>42</th>\n",
       "      <td>Weird Cocktail</td>\n",
       "      <td>2</td>\n",
       "      <td>0.076142</td>\n",
       "    </tr>\n",
       "    <tr>\n",
       "      <th>43</th>\n",
       "      <td>Wheat Beers</td>\n",
       "      <td>2</td>\n",
       "      <td>1.548223</td>\n",
       "    </tr>\n",
       "    <tr>\n",
       "      <th>44</th>\n",
       "      <td>Wild/Sour Beers</td>\n",
       "      <td>2</td>\n",
       "      <td>1.497462</td>\n",
       "    </tr>\n",
       "    <tr>\n",
       "      <th>45</th>\n",
       "      <td>Bocks</td>\n",
       "      <td>3</td>\n",
       "      <td>1.794326</td>\n",
       "    </tr>\n",
       "    <tr>\n",
       "      <th>46</th>\n",
       "      <td>Brown Ales</td>\n",
       "      <td>3</td>\n",
       "      <td>2.723404</td>\n",
       "    </tr>\n",
       "    <tr>\n",
       "      <th>47</th>\n",
       "      <td>Dark Ales</td>\n",
       "      <td>3</td>\n",
       "      <td>1.425532</td>\n",
       "    </tr>\n",
       "    <tr>\n",
       "      <th>48</th>\n",
       "      <td>Dark Lagers</td>\n",
       "      <td>3</td>\n",
       "      <td>3.347518</td>\n",
       "    </tr>\n",
       "    <tr>\n",
       "      <th>49</th>\n",
       "      <td>Hybrid Beers</td>\n",
       "      <td>3</td>\n",
       "      <td>0.382979</td>\n",
       "    </tr>\n",
       "    <tr>\n",
       "      <th>50</th>\n",
       "      <td>India Pale Ales</td>\n",
       "      <td>3</td>\n",
       "      <td>3.297872</td>\n",
       "    </tr>\n",
       "    <tr>\n",
       "      <th>51</th>\n",
       "      <td>Pale Ales</td>\n",
       "      <td>3</td>\n",
       "      <td>7.780142</td>\n",
       "    </tr>\n",
       "    <tr>\n",
       "      <th>52</th>\n",
       "      <td>Pale Lagers</td>\n",
       "      <td>3</td>\n",
       "      <td>13.624113</td>\n",
       "    </tr>\n",
       "    <tr>\n",
       "      <th>53</th>\n",
       "      <td>Porters</td>\n",
       "      <td>3</td>\n",
       "      <td>1.560284</td>\n",
       "    </tr>\n",
       "    <tr>\n",
       "      <th>54</th>\n",
       "      <td>Specialty Beer</td>\n",
       "      <td>3</td>\n",
       "      <td>1.418440</td>\n",
       "    </tr>\n",
       "    <tr>\n",
       "      <th>55</th>\n",
       "      <td>Stouts</td>\n",
       "      <td>3</td>\n",
       "      <td>3.510638</td>\n",
       "    </tr>\n",
       "    <tr>\n",
       "      <th>56</th>\n",
       "      <td>Strong Ales</td>\n",
       "      <td>3</td>\n",
       "      <td>3.950355</td>\n",
       "    </tr>\n",
       "    <tr>\n",
       "      <th>57</th>\n",
       "      <td>Weird Cocktail</td>\n",
       "      <td>3</td>\n",
       "      <td>0.156028</td>\n",
       "    </tr>\n",
       "    <tr>\n",
       "      <th>58</th>\n",
       "      <td>Wheat Beers</td>\n",
       "      <td>3</td>\n",
       "      <td>4.744681</td>\n",
       "    </tr>\n",
       "    <tr>\n",
       "      <th>59</th>\n",
       "      <td>Wild/Sour Beers</td>\n",
       "      <td>3</td>\n",
       "      <td>0.283688</td>\n",
       "    </tr>\n",
       "  </tbody>\n",
       "</table>\n",
       "</div>"
      ],
      "text/plain": [
       "           category cluster  Number of beer\n",
       "0             Bocks       0        1.664122\n",
       "1        Brown Ales       0        3.272265\n",
       "2         Dark Ales       0        1.651399\n",
       "3       Dark Lagers       0        1.534351\n",
       "4      Hybrid Beers       0        0.338422\n",
       "5   India Pale Ales       0        8.188295\n",
       "6         Pale Ales       0        9.412214\n",
       "7       Pale Lagers       0        3.875318\n",
       "8           Porters       0        2.300254\n",
       "9    Specialty Beer       0        1.748092\n",
       "10           Stouts       0        5.106870\n",
       "11      Strong Ales       0        6.124682\n",
       "12   Weird Cocktail       0        0.063613\n",
       "13      Wheat Beers       0        3.625954\n",
       "14  Wild/Sour Beers       0        1.094148\n",
       "15            Bocks       1        0.598326\n",
       "16       Brown Ales       1        1.732218\n",
       "17        Dark Ales       1        0.615063\n",
       "18      Dark Lagers       1        0.548117\n",
       "19     Hybrid Beers       1        0.234310\n",
       "20  India Pale Ales       1       22.832636\n",
       "21        Pale Ales       1        7.468619\n",
       "22      Pale Lagers       1        2.012552\n",
       "23          Porters       1        1.351464\n",
       "24   Specialty Beer       1        1.221757\n",
       "25           Stouts       1        4.556485\n",
       "26      Strong Ales       1        4.075314\n",
       "27   Weird Cocktail       1        0.012552\n",
       "28      Wheat Beers       1        1.878661\n",
       "29  Wild/Sour Beers       1        0.861925\n",
       "30            Bocks       2        0.812183\n",
       "31       Brown Ales       2        2.527919\n",
       "32        Dark Ales       2        0.969543\n",
       "33      Dark Lagers       2        0.629442\n",
       "34     Hybrid Beers       2        0.279188\n",
       "35  India Pale Ales       2        9.873096\n",
       "36        Pale Ales       2        4.766497\n",
       "37      Pale Lagers       2        1.294416\n",
       "38          Porters       2        3.086294\n",
       "39   Specialty Beer       2        1.335025\n",
       "40           Stouts       2       15.121827\n",
       "41      Strong Ales       2        6.182741\n",
       "42   Weird Cocktail       2        0.076142\n",
       "43      Wheat Beers       2        1.548223\n",
       "44  Wild/Sour Beers       2        1.497462\n",
       "45            Bocks       3        1.794326\n",
       "46       Brown Ales       3        2.723404\n",
       "47        Dark Ales       3        1.425532\n",
       "48      Dark Lagers       3        3.347518\n",
       "49     Hybrid Beers       3        0.382979\n",
       "50  India Pale Ales       3        3.297872\n",
       "51        Pale Ales       3        7.780142\n",
       "52      Pale Lagers       3       13.624113\n",
       "53          Porters       3        1.560284\n",
       "54   Specialty Beer       3        1.418440\n",
       "55           Stouts       3        3.510638\n",
       "56      Strong Ales       3        3.950355\n",
       "57   Weird Cocktail       3        0.156028\n",
       "58      Wheat Beers       3        4.744681\n",
       "59  Wild/Sour Beers       3        0.283688"
      ]
     },
     "execution_count": 465,
     "metadata": {},
     "output_type": "execute_result"
    }
   ],
   "source": [
    "#Display 4 clusters\n",
    "\n",
    "df_cluster_beer[\"category\"] = df_cluster_beer.index\n",
    "df_cluster_beer = pd.melt(df_cluster_beer, id_vars=[\"category\"], value_vars=[0,1,2,3])\n",
    "df_cluster_beer.columns = [\"category\", \"cluster\", \"Number of beer\"]\n",
    "df_cluster_beer"
   ]
  },
  {
   "cell_type": "code",
   "execution_count": 466,
   "metadata": {},
   "outputs": [],
   "source": [
    "# df_cluster_beer[\"cluster_name\"] = df_cluster_beer[\"cluster\"].apply(lambda x: reverse_mapping[x])\n",
    "# df_cluster_beer"
   ]
  },
  {
   "cell_type": "code",
   "execution_count": 467,
   "metadata": {},
   "outputs": [
    {
     "data": {
      "text/html": [
       "<div>\n",
       "<style scoped>\n",
       "    .dataframe tbody tr th:only-of-type {\n",
       "        vertical-align: middle;\n",
       "    }\n",
       "\n",
       "    .dataframe tbody tr th {\n",
       "        vertical-align: top;\n",
       "    }\n",
       "\n",
       "    .dataframe thead th {\n",
       "        text-align: right;\n",
       "    }\n",
       "</style>\n",
       "<table border=\"1\" class=\"dataframe\">\n",
       "  <thead>\n",
       "    <tr style=\"text-align: right;\">\n",
       "      <th></th>\n",
       "      <th>category</th>\n",
       "      <th>cluster</th>\n",
       "      <th>Number of beer</th>\n",
       "    </tr>\n",
       "  </thead>\n",
       "  <tbody>\n",
       "    <tr>\n",
       "      <th>0</th>\n",
       "      <td>Bocks</td>\n",
       "      <td>0</td>\n",
       "      <td>2.028269</td>\n",
       "    </tr>\n",
       "    <tr>\n",
       "      <th>1</th>\n",
       "      <td>Brown Ales</td>\n",
       "      <td>0</td>\n",
       "      <td>3.830389</td>\n",
       "    </tr>\n",
       "    <tr>\n",
       "      <th>2</th>\n",
       "      <td>Dark Ales</td>\n",
       "      <td>0</td>\n",
       "      <td>1.890459</td>\n",
       "    </tr>\n",
       "    <tr>\n",
       "      <th>3</th>\n",
       "      <td>Dark Lagers</td>\n",
       "      <td>0</td>\n",
       "      <td>1.978799</td>\n",
       "    </tr>\n",
       "    <tr>\n",
       "      <th>4</th>\n",
       "      <td>Hybrid Beers</td>\n",
       "      <td>0</td>\n",
       "      <td>0.356890</td>\n",
       "    </tr>\n",
       "    <tr>\n",
       "      <th>...</th>\n",
       "      <td>...</td>\n",
       "      <td>...</td>\n",
       "      <td>...</td>\n",
       "    </tr>\n",
       "    <tr>\n",
       "      <th>70</th>\n",
       "      <td>Stouts</td>\n",
       "      <td>4</td>\n",
       "      <td>5.357388</td>\n",
       "    </tr>\n",
       "    <tr>\n",
       "      <th>71</th>\n",
       "      <td>Strong Ales</td>\n",
       "      <td>4</td>\n",
       "      <td>4.958763</td>\n",
       "    </tr>\n",
       "    <tr>\n",
       "      <th>72</th>\n",
       "      <td>Weird Cocktail</td>\n",
       "      <td>4</td>\n",
       "      <td>0.037801</td>\n",
       "    </tr>\n",
       "    <tr>\n",
       "      <th>73</th>\n",
       "      <td>Wheat Beers</td>\n",
       "      <td>4</td>\n",
       "      <td>2.615120</td>\n",
       "    </tr>\n",
       "    <tr>\n",
       "      <th>74</th>\n",
       "      <td>Wild/Sour Beers</td>\n",
       "      <td>4</td>\n",
       "      <td>0.917526</td>\n",
       "    </tr>\n",
       "  </tbody>\n",
       "</table>\n",
       "<p>75 rows × 3 columns</p>\n",
       "</div>"
      ],
      "text/plain": [
       "           category cluster  Number of beer\n",
       "0             Bocks       0        2.028269\n",
       "1        Brown Ales       0        3.830389\n",
       "2         Dark Ales       0        1.890459\n",
       "3       Dark Lagers       0        1.978799\n",
       "4      Hybrid Beers       0        0.356890\n",
       "..              ...     ...             ...\n",
       "70           Stouts       4        5.357388\n",
       "71      Strong Ales       4        4.958763\n",
       "72   Weird Cocktail       4        0.037801\n",
       "73      Wheat Beers       4        2.615120\n",
       "74  Wild/Sour Beers       4        0.917526\n",
       "\n",
       "[75 rows x 3 columns]"
      ]
     },
     "execution_count": 467,
     "metadata": {},
     "output_type": "execute_result"
    }
   ],
   "source": [
    "#display 5 clusters\n",
    "df_cluster_beer_5 = pd.DataFrame(our_clustering_5.cluster_centers_.T)\n",
    "df_cluster_beer_5.index = user_to_cat_first.columns\n",
    "df_cluster_beer_5[\"category\"] = df_cluster_beer_5.index\n",
    "df_cluster_beer_5 = pd.melt(df_cluster_beer_5, id_vars=[\"category\"], value_vars=[0,1,2,3,4])\n",
    "df_cluster_beer_5.columns = [\"category\", \"cluster\", \"Number of beer\"]\n",
    "df_cluster_beer_5"
   ]
  },
  {
   "cell_type": "code",
   "execution_count": 468,
   "metadata": {},
   "outputs": [
    {
     "data": {
      "application/vnd.plotly.v1+json": {
       "config": {
        "plotlyServerURL": "https://plot.ly"
       },
       "data": [
        {
         "hovertemplate": "cluster=0<br>category=%{x}<br>Number of beer=%{y}<extra></extra>",
         "legendgroup": "0",
         "line": {
          "color": "#636efa",
          "dash": "solid"
         },
         "marker": {
          "symbol": "circle"
         },
         "mode": "lines",
         "name": "0",
         "orientation": "v",
         "showlegend": true,
         "type": "scatter",
         "x": [
          "Bocks",
          "Brown Ales",
          "Dark Ales",
          "Dark Lagers",
          "Hybrid Beers",
          "India Pale Ales",
          "Pale Ales",
          "Pale Lagers",
          "Porters",
          "Specialty Beer",
          "Stouts",
          "Strong Ales",
          "Weird Cocktail",
          "Wheat Beers",
          "Wild/Sour Beers"
         ],
         "xaxis": "x",
         "y": [
          1.664122137404581,
          3.272264631043256,
          1.6513994910941476,
          1.5343511450381677,
          0.3384223918575064,
          8.188295165394404,
          9.412213740458014,
          3.8753180661577606,
          2.300254452926209,
          1.7480916030534361,
          5.106870229007634,
          6.124681933842238,
          0.06361323155216286,
          3.625954198473283,
          1.0941475826972005
         ],
         "yaxis": "y"
        },
        {
         "hovertemplate": "cluster=1<br>category=%{x}<br>Number of beer=%{y}<extra></extra>",
         "legendgroup": "1",
         "line": {
          "color": "#EF553B",
          "dash": "solid"
         },
         "marker": {
          "symbol": "circle"
         },
         "mode": "lines",
         "name": "1",
         "orientation": "v",
         "showlegend": true,
         "type": "scatter",
         "x": [
          "Bocks",
          "Brown Ales",
          "Dark Ales",
          "Dark Lagers",
          "Hybrid Beers",
          "India Pale Ales",
          "Pale Ales",
          "Pale Lagers",
          "Porters",
          "Specialty Beer",
          "Stouts",
          "Strong Ales",
          "Weird Cocktail",
          "Wheat Beers",
          "Wild/Sour Beers"
         ],
         "xaxis": "x",
         "y": [
          0.5983263598326367,
          1.7322175732217566,
          0.6150627615062763,
          0.5481171548117163,
          0.2343096234309624,
          22.83263598326361,
          7.468619246861924,
          2.0125523012552287,
          1.351464435146444,
          1.2217573221757325,
          4.556485355648537,
          4.07531380753138,
          0.01255230125523004,
          1.8786610878661099,
          0.8619246861924685
         ],
         "yaxis": "y"
        },
        {
         "hovertemplate": "cluster=2<br>category=%{x}<br>Number of beer=%{y}<extra></extra>",
         "legendgroup": "2",
         "line": {
          "color": "#00cc96",
          "dash": "solid"
         },
         "marker": {
          "symbol": "circle"
         },
         "mode": "lines",
         "name": "2",
         "orientation": "v",
         "showlegend": true,
         "type": "scatter",
         "x": [
          "Bocks",
          "Brown Ales",
          "Dark Ales",
          "Dark Lagers",
          "Hybrid Beers",
          "India Pale Ales",
          "Pale Ales",
          "Pale Lagers",
          "Porters",
          "Specialty Beer",
          "Stouts",
          "Strong Ales",
          "Weird Cocktail",
          "Wheat Beers",
          "Wild/Sour Beers"
         ],
         "xaxis": "x",
         "y": [
          0.8121827411167517,
          2.527918781725888,
          0.9695431472081222,
          0.629441624365483,
          0.2791878172588833,
          9.873096446700506,
          4.766497461928934,
          1.2944162436548212,
          3.086294416243655,
          1.33502538071066,
          15.121827411167516,
          6.182741116751268,
          0.07614213197969542,
          1.5482233502538076,
          1.4974619289340092
         ],
         "yaxis": "y"
        },
        {
         "hovertemplate": "cluster=3<br>category=%{x}<br>Number of beer=%{y}<extra></extra>",
         "legendgroup": "3",
         "line": {
          "color": "#ab63fa",
          "dash": "solid"
         },
         "marker": {
          "symbol": "circle"
         },
         "mode": "lines",
         "name": "3",
         "orientation": "v",
         "showlegend": true,
         "type": "scatter",
         "x": [
          "Bocks",
          "Brown Ales",
          "Dark Ales",
          "Dark Lagers",
          "Hybrid Beers",
          "India Pale Ales",
          "Pale Ales",
          "Pale Lagers",
          "Porters",
          "Specialty Beer",
          "Stouts",
          "Strong Ales",
          "Weird Cocktail",
          "Wheat Beers",
          "Wild/Sour Beers"
         ],
         "xaxis": "x",
         "y": [
          1.7943262411347523,
          2.723404255319149,
          1.425531914893617,
          3.3475177304964547,
          0.3829787234042553,
          3.297872340425533,
          7.780141843971631,
          13.62411347517731,
          1.5602836879432624,
          1.4184397163120568,
          3.510638297872343,
          3.950354609929078,
          0.15602836879432622,
          4.74468085106383,
          0.28368794326241065
         ],
         "yaxis": "y"
        }
       ],
       "layout": {
        "legend": {
         "title": {
          "text": "cluster"
         },
         "tracegroupgap": 0
        },
        "template": {
         "data": {
          "bar": [
           {
            "error_x": {
             "color": "#2a3f5f"
            },
            "error_y": {
             "color": "#2a3f5f"
            },
            "marker": {
             "line": {
              "color": "#E5ECF6",
              "width": 0.5
             },
             "pattern": {
              "fillmode": "overlay",
              "size": 10,
              "solidity": 0.2
             }
            },
            "type": "bar"
           }
          ],
          "barpolar": [
           {
            "marker": {
             "line": {
              "color": "#E5ECF6",
              "width": 0.5
             },
             "pattern": {
              "fillmode": "overlay",
              "size": 10,
              "solidity": 0.2
             }
            },
            "type": "barpolar"
           }
          ],
          "carpet": [
           {
            "aaxis": {
             "endlinecolor": "#2a3f5f",
             "gridcolor": "white",
             "linecolor": "white",
             "minorgridcolor": "white",
             "startlinecolor": "#2a3f5f"
            },
            "baxis": {
             "endlinecolor": "#2a3f5f",
             "gridcolor": "white",
             "linecolor": "white",
             "minorgridcolor": "white",
             "startlinecolor": "#2a3f5f"
            },
            "type": "carpet"
           }
          ],
          "choropleth": [
           {
            "colorbar": {
             "outlinewidth": 0,
             "ticks": ""
            },
            "type": "choropleth"
           }
          ],
          "contour": [
           {
            "colorbar": {
             "outlinewidth": 0,
             "ticks": ""
            },
            "colorscale": [
             [
              0,
              "#0d0887"
             ],
             [
              0.1111111111111111,
              "#46039f"
             ],
             [
              0.2222222222222222,
              "#7201a8"
             ],
             [
              0.3333333333333333,
              "#9c179e"
             ],
             [
              0.4444444444444444,
              "#bd3786"
             ],
             [
              0.5555555555555556,
              "#d8576b"
             ],
             [
              0.6666666666666666,
              "#ed7953"
             ],
             [
              0.7777777777777778,
              "#fb9f3a"
             ],
             [
              0.8888888888888888,
              "#fdca26"
             ],
             [
              1,
              "#f0f921"
             ]
            ],
            "type": "contour"
           }
          ],
          "contourcarpet": [
           {
            "colorbar": {
             "outlinewidth": 0,
             "ticks": ""
            },
            "type": "contourcarpet"
           }
          ],
          "heatmap": [
           {
            "colorbar": {
             "outlinewidth": 0,
             "ticks": ""
            },
            "colorscale": [
             [
              0,
              "#0d0887"
             ],
             [
              0.1111111111111111,
              "#46039f"
             ],
             [
              0.2222222222222222,
              "#7201a8"
             ],
             [
              0.3333333333333333,
              "#9c179e"
             ],
             [
              0.4444444444444444,
              "#bd3786"
             ],
             [
              0.5555555555555556,
              "#d8576b"
             ],
             [
              0.6666666666666666,
              "#ed7953"
             ],
             [
              0.7777777777777778,
              "#fb9f3a"
             ],
             [
              0.8888888888888888,
              "#fdca26"
             ],
             [
              1,
              "#f0f921"
             ]
            ],
            "type": "heatmap"
           }
          ],
          "heatmapgl": [
           {
            "colorbar": {
             "outlinewidth": 0,
             "ticks": ""
            },
            "colorscale": [
             [
              0,
              "#0d0887"
             ],
             [
              0.1111111111111111,
              "#46039f"
             ],
             [
              0.2222222222222222,
              "#7201a8"
             ],
             [
              0.3333333333333333,
              "#9c179e"
             ],
             [
              0.4444444444444444,
              "#bd3786"
             ],
             [
              0.5555555555555556,
              "#d8576b"
             ],
             [
              0.6666666666666666,
              "#ed7953"
             ],
             [
              0.7777777777777778,
              "#fb9f3a"
             ],
             [
              0.8888888888888888,
              "#fdca26"
             ],
             [
              1,
              "#f0f921"
             ]
            ],
            "type": "heatmapgl"
           }
          ],
          "histogram": [
           {
            "marker": {
             "pattern": {
              "fillmode": "overlay",
              "size": 10,
              "solidity": 0.2
             }
            },
            "type": "histogram"
           }
          ],
          "histogram2d": [
           {
            "colorbar": {
             "outlinewidth": 0,
             "ticks": ""
            },
            "colorscale": [
             [
              0,
              "#0d0887"
             ],
             [
              0.1111111111111111,
              "#46039f"
             ],
             [
              0.2222222222222222,
              "#7201a8"
             ],
             [
              0.3333333333333333,
              "#9c179e"
             ],
             [
              0.4444444444444444,
              "#bd3786"
             ],
             [
              0.5555555555555556,
              "#d8576b"
             ],
             [
              0.6666666666666666,
              "#ed7953"
             ],
             [
              0.7777777777777778,
              "#fb9f3a"
             ],
             [
              0.8888888888888888,
              "#fdca26"
             ],
             [
              1,
              "#f0f921"
             ]
            ],
            "type": "histogram2d"
           }
          ],
          "histogram2dcontour": [
           {
            "colorbar": {
             "outlinewidth": 0,
             "ticks": ""
            },
            "colorscale": [
             [
              0,
              "#0d0887"
             ],
             [
              0.1111111111111111,
              "#46039f"
             ],
             [
              0.2222222222222222,
              "#7201a8"
             ],
             [
              0.3333333333333333,
              "#9c179e"
             ],
             [
              0.4444444444444444,
              "#bd3786"
             ],
             [
              0.5555555555555556,
              "#d8576b"
             ],
             [
              0.6666666666666666,
              "#ed7953"
             ],
             [
              0.7777777777777778,
              "#fb9f3a"
             ],
             [
              0.8888888888888888,
              "#fdca26"
             ],
             [
              1,
              "#f0f921"
             ]
            ],
            "type": "histogram2dcontour"
           }
          ],
          "mesh3d": [
           {
            "colorbar": {
             "outlinewidth": 0,
             "ticks": ""
            },
            "type": "mesh3d"
           }
          ],
          "parcoords": [
           {
            "line": {
             "colorbar": {
              "outlinewidth": 0,
              "ticks": ""
             }
            },
            "type": "parcoords"
           }
          ],
          "pie": [
           {
            "automargin": true,
            "type": "pie"
           }
          ],
          "scatter": [
           {
            "fillpattern": {
             "fillmode": "overlay",
             "size": 10,
             "solidity": 0.2
            },
            "type": "scatter"
           }
          ],
          "scatter3d": [
           {
            "line": {
             "colorbar": {
              "outlinewidth": 0,
              "ticks": ""
             }
            },
            "marker": {
             "colorbar": {
              "outlinewidth": 0,
              "ticks": ""
             }
            },
            "type": "scatter3d"
           }
          ],
          "scattercarpet": [
           {
            "marker": {
             "colorbar": {
              "outlinewidth": 0,
              "ticks": ""
             }
            },
            "type": "scattercarpet"
           }
          ],
          "scattergeo": [
           {
            "marker": {
             "colorbar": {
              "outlinewidth": 0,
              "ticks": ""
             }
            },
            "type": "scattergeo"
           }
          ],
          "scattergl": [
           {
            "marker": {
             "colorbar": {
              "outlinewidth": 0,
              "ticks": ""
             }
            },
            "type": "scattergl"
           }
          ],
          "scattermapbox": [
           {
            "marker": {
             "colorbar": {
              "outlinewidth": 0,
              "ticks": ""
             }
            },
            "type": "scattermapbox"
           }
          ],
          "scatterpolar": [
           {
            "marker": {
             "colorbar": {
              "outlinewidth": 0,
              "ticks": ""
             }
            },
            "type": "scatterpolar"
           }
          ],
          "scatterpolargl": [
           {
            "marker": {
             "colorbar": {
              "outlinewidth": 0,
              "ticks": ""
             }
            },
            "type": "scatterpolargl"
           }
          ],
          "scatterternary": [
           {
            "marker": {
             "colorbar": {
              "outlinewidth": 0,
              "ticks": ""
             }
            },
            "type": "scatterternary"
           }
          ],
          "surface": [
           {
            "colorbar": {
             "outlinewidth": 0,
             "ticks": ""
            },
            "colorscale": [
             [
              0,
              "#0d0887"
             ],
             [
              0.1111111111111111,
              "#46039f"
             ],
             [
              0.2222222222222222,
              "#7201a8"
             ],
             [
              0.3333333333333333,
              "#9c179e"
             ],
             [
              0.4444444444444444,
              "#bd3786"
             ],
             [
              0.5555555555555556,
              "#d8576b"
             ],
             [
              0.6666666666666666,
              "#ed7953"
             ],
             [
              0.7777777777777778,
              "#fb9f3a"
             ],
             [
              0.8888888888888888,
              "#fdca26"
             ],
             [
              1,
              "#f0f921"
             ]
            ],
            "type": "surface"
           }
          ],
          "table": [
           {
            "cells": {
             "fill": {
              "color": "#EBF0F8"
             },
             "line": {
              "color": "white"
             }
            },
            "header": {
             "fill": {
              "color": "#C8D4E3"
             },
             "line": {
              "color": "white"
             }
            },
            "type": "table"
           }
          ]
         },
         "layout": {
          "annotationdefaults": {
           "arrowcolor": "#2a3f5f",
           "arrowhead": 0,
           "arrowwidth": 1
          },
          "autotypenumbers": "strict",
          "coloraxis": {
           "colorbar": {
            "outlinewidth": 0,
            "ticks": ""
           }
          },
          "colorscale": {
           "diverging": [
            [
             0,
             "#8e0152"
            ],
            [
             0.1,
             "#c51b7d"
            ],
            [
             0.2,
             "#de77ae"
            ],
            [
             0.3,
             "#f1b6da"
            ],
            [
             0.4,
             "#fde0ef"
            ],
            [
             0.5,
             "#f7f7f7"
            ],
            [
             0.6,
             "#e6f5d0"
            ],
            [
             0.7,
             "#b8e186"
            ],
            [
             0.8,
             "#7fbc41"
            ],
            [
             0.9,
             "#4d9221"
            ],
            [
             1,
             "#276419"
            ]
           ],
           "sequential": [
            [
             0,
             "#0d0887"
            ],
            [
             0.1111111111111111,
             "#46039f"
            ],
            [
             0.2222222222222222,
             "#7201a8"
            ],
            [
             0.3333333333333333,
             "#9c179e"
            ],
            [
             0.4444444444444444,
             "#bd3786"
            ],
            [
             0.5555555555555556,
             "#d8576b"
            ],
            [
             0.6666666666666666,
             "#ed7953"
            ],
            [
             0.7777777777777778,
             "#fb9f3a"
            ],
            [
             0.8888888888888888,
             "#fdca26"
            ],
            [
             1,
             "#f0f921"
            ]
           ],
           "sequentialminus": [
            [
             0,
             "#0d0887"
            ],
            [
             0.1111111111111111,
             "#46039f"
            ],
            [
             0.2222222222222222,
             "#7201a8"
            ],
            [
             0.3333333333333333,
             "#9c179e"
            ],
            [
             0.4444444444444444,
             "#bd3786"
            ],
            [
             0.5555555555555556,
             "#d8576b"
            ],
            [
             0.6666666666666666,
             "#ed7953"
            ],
            [
             0.7777777777777778,
             "#fb9f3a"
            ],
            [
             0.8888888888888888,
             "#fdca26"
            ],
            [
             1,
             "#f0f921"
            ]
           ]
          },
          "colorway": [
           "#636efa",
           "#EF553B",
           "#00cc96",
           "#ab63fa",
           "#FFA15A",
           "#19d3f3",
           "#FF6692",
           "#B6E880",
           "#FF97FF",
           "#FECB52"
          ],
          "font": {
           "color": "#2a3f5f"
          },
          "geo": {
           "bgcolor": "white",
           "lakecolor": "white",
           "landcolor": "#E5ECF6",
           "showlakes": true,
           "showland": true,
           "subunitcolor": "white"
          },
          "hoverlabel": {
           "align": "left"
          },
          "hovermode": "closest",
          "mapbox": {
           "style": "light"
          },
          "paper_bgcolor": "white",
          "plot_bgcolor": "#E5ECF6",
          "polar": {
           "angularaxis": {
            "gridcolor": "white",
            "linecolor": "white",
            "ticks": ""
           },
           "bgcolor": "#E5ECF6",
           "radialaxis": {
            "gridcolor": "white",
            "linecolor": "white",
            "ticks": ""
           }
          },
          "scene": {
           "xaxis": {
            "backgroundcolor": "#E5ECF6",
            "gridcolor": "white",
            "gridwidth": 2,
            "linecolor": "white",
            "showbackground": true,
            "ticks": "",
            "zerolinecolor": "white"
           },
           "yaxis": {
            "backgroundcolor": "#E5ECF6",
            "gridcolor": "white",
            "gridwidth": 2,
            "linecolor": "white",
            "showbackground": true,
            "ticks": "",
            "zerolinecolor": "white"
           },
           "zaxis": {
            "backgroundcolor": "#E5ECF6",
            "gridcolor": "white",
            "gridwidth": 2,
            "linecolor": "white",
            "showbackground": true,
            "ticks": "",
            "zerolinecolor": "white"
           }
          },
          "shapedefaults": {
           "line": {
            "color": "#2a3f5f"
           }
          },
          "ternary": {
           "aaxis": {
            "gridcolor": "white",
            "linecolor": "white",
            "ticks": ""
           },
           "baxis": {
            "gridcolor": "white",
            "linecolor": "white",
            "ticks": ""
           },
           "bgcolor": "#E5ECF6",
           "caxis": {
            "gridcolor": "white",
            "linecolor": "white",
            "ticks": ""
           }
          },
          "title": {
           "x": 0.05
          },
          "xaxis": {
           "automargin": true,
           "gridcolor": "white",
           "linecolor": "white",
           "ticks": "",
           "title": {
            "standoff": 15
           },
           "zerolinecolor": "white",
           "zerolinewidth": 2
          },
          "yaxis": {
           "automargin": true,
           "gridcolor": "white",
           "linecolor": "white",
           "ticks": "",
           "title": {
            "standoff": 15
           },
           "zerolinecolor": "white",
           "zerolinewidth": 2
          }
         }
        },
        "title": {
         "text": "Centroids obtained with Kmeans (k=4) of the first 50 ratings of each user"
        },
        "xaxis": {
         "anchor": "y",
         "domain": [
          0,
          1
         ],
         "title": {
          "text": "category"
         }
        },
        "yaxis": {
         "anchor": "x",
         "domain": [
          0,
          1
         ],
         "title": {
          "text": "Number of beer"
         }
        }
       }
      }
     },
     "metadata": {},
     "output_type": "display_data"
    }
   ],
   "source": [
    "fig = px.line(df_cluster_beer, x=\"category\", y=\"Number of beer\", color=\"cluster\", title=\"Centroids obtained with Kmeans (k=4) of the first 50 ratings of each user\")\n",
    "fig.show()\n",
    "#fig.write_html(\"centroid.html\")"
   ]
  },
  {
   "attachments": {},
   "cell_type": "markdown",
   "metadata": {},
   "source": [
    "we see that 3 cluster are really corelatd -> can be merged into 2 : IPA lovers, and beer discoverer -> keep k = 4"
   ]
  },
  {
   "cell_type": "code",
   "execution_count": 469,
   "metadata": {},
   "outputs": [],
   "source": [
    "df_valid_ratings.to_pickle('leandrinho.pkl')"
   ]
  },
  {
   "cell_type": "code",
   "execution_count": 470,
   "metadata": {},
   "outputs": [
    {
     "data": {
      "application/vnd.plotly.v1+json": {
       "config": {
        "plotlyServerURL": "https://plot.ly"
       },
       "data": [
        {
         "hovertemplate": "cluster=0<br>category=%{x}<br>Number of beer=%{y}<extra></extra>",
         "legendgroup": "0",
         "line": {
          "color": "#636efa",
          "dash": "solid"
         },
         "marker": {
          "symbol": "circle"
         },
         "mode": "lines",
         "name": "0",
         "orientation": "v",
         "showlegend": true,
         "type": "scatter",
         "x": [
          "Bocks",
          "Brown Ales",
          "Dark Ales",
          "Dark Lagers",
          "Hybrid Beers",
          "India Pale Ales",
          "Pale Ales",
          "Pale Lagers",
          "Porters",
          "Specialty Beer",
          "Stouts",
          "Strong Ales",
          "Weird Cocktail",
          "Wheat Beers",
          "Wild/Sour Beers"
         ],
         "xaxis": "x",
         "y": [
          2.0282685512367498,
          3.830388692579504,
          1.8904593639575964,
          1.9787985865724387,
          0.3568904593639577,
          4.685512367491175,
          9.159010600706713,
          4.466431095406361,
          2.537102473498233,
          1.6537102473498242,
          5.551236749116609,
          6.727915194346289,
          0.08833922261484095,
          4.014134275618375,
          1.0318021201413425
         ],
         "yaxis": "y"
        },
        {
         "hovertemplate": "cluster=1<br>category=%{x}<br>Number of beer=%{y}<extra></extra>",
         "legendgroup": "1",
         "line": {
          "color": "#EF553B",
          "dash": "solid"
         },
         "marker": {
          "symbol": "circle"
         },
         "mode": "lines",
         "name": "1",
         "orientation": "v",
         "showlegend": true,
         "type": "scatter",
         "x": [
          "Bocks",
          "Brown Ales",
          "Dark Ales",
          "Dark Lagers",
          "Hybrid Beers",
          "India Pale Ales",
          "Pale Ales",
          "Pale Lagers",
          "Porters",
          "Specialty Beer",
          "Stouts",
          "Strong Ales",
          "Weird Cocktail",
          "Wheat Beers",
          "Wild/Sour Beers"
         ],
         "xaxis": "x",
         "y": [
          0.3722627737226284,
          1.2919708029197075,
          0.4306569343065699,
          0.48905109489051135,
          0.197080291970803,
          26.40145985401461,
          7.21897810218978,
          1.7007299270072984,
          1.058394160583942,
          0.9270072992700733,
          4.0875912408759145,
          3.3941605839416047,
          0.014598540145985398,
          1.576642335766424,
          0.8394160583941606
         ],
         "yaxis": "y"
        },
        {
         "hovertemplate": "cluster=2<br>category=%{x}<br>Number of beer=%{y}<extra></extra>",
         "legendgroup": "2",
         "line": {
          "color": "#00cc96",
          "dash": "solid"
         },
         "marker": {
          "symbol": "circle"
         },
         "mode": "lines",
         "name": "2",
         "orientation": "v",
         "showlegend": true,
         "type": "scatter",
         "x": [
          "Bocks",
          "Brown Ales",
          "Dark Ales",
          "Dark Lagers",
          "Hybrid Beers",
          "India Pale Ales",
          "Pale Ales",
          "Pale Lagers",
          "Porters",
          "Specialty Beer",
          "Stouts",
          "Strong Ales",
          "Weird Cocktail",
          "Wheat Beers",
          "Wild/Sour Beers"
         ],
         "xaxis": "x",
         "y": [
          1.5816326530612246,
          2.2142857142857144,
          1.0816326530612246,
          3.2142857142857144,
          0.40816326530612246,
          3.765306122448977,
          7.530612244897959,
          15.857142857142861,
          1.1530612244897958,
          1.2653061224489797,
          2.8571428571428594,
          3.612244897959184,
          0.16326530612244897,
          5.071428571428571,
          0.22448979591836704
         ],
         "yaxis": "y"
        },
        {
         "hovertemplate": "cluster=3<br>category=%{x}<br>Number of beer=%{y}<extra></extra>",
         "legendgroup": "3",
         "line": {
          "color": "#ab63fa",
          "dash": "solid"
         },
         "marker": {
          "symbol": "circle"
         },
         "mode": "lines",
         "name": "3",
         "orientation": "v",
         "showlegend": true,
         "type": "scatter",
         "x": [
          "Bocks",
          "Brown Ales",
          "Dark Ales",
          "Dark Lagers",
          "Hybrid Beers",
          "India Pale Ales",
          "Pale Ales",
          "Pale Lagers",
          "Porters",
          "Specialty Beer",
          "Stouts",
          "Strong Ales",
          "Weird Cocktail",
          "Wheat Beers",
          "Wild/Sour Beers"
         ],
         "xaxis": "x",
         "y": [
          0.7888198757763979,
          2.2360248447204967,
          0.8819875776397519,
          0.5776397515527957,
          0.27950310559006214,
          9.664596273291924,
          4.503105590062112,
          1.111801242236023,
          3.1801242236024847,
          1.2236024844720497,
          16.149068322981368,
          6.149068322981366,
          0.06832298136645959,
          1.4782608695652177,
          1.7080745341614896
         ],
         "yaxis": "y"
        },
        {
         "hovertemplate": "cluster=4<br>category=%{x}<br>Number of beer=%{y}<extra></extra>",
         "legendgroup": "4",
         "line": {
          "color": "#FFA15A",
          "dash": "solid"
         },
         "marker": {
          "symbol": "circle"
         },
         "mode": "lines",
         "name": "4",
         "orientation": "v",
         "showlegend": true,
         "type": "scatter",
         "x": [
          "Bocks",
          "Brown Ales",
          "Dark Ales",
          "Dark Lagers",
          "Hybrid Beers",
          "India Pale Ales",
          "Pale Ales",
          "Pale Lagers",
          "Porters",
          "Specialty Beer",
          "Stouts",
          "Strong Ales",
          "Weird Cocktail",
          "Wheat Beers",
          "Wild/Sour Beers"
         ],
         "xaxis": "x",
         "y": [
          1.0412371134020624,
          2.5567010309278353,
          1.189003436426117,
          1.0137457044673543,
          0.29209621993127155,
          14.4914089347079,
          8.508591065292096,
          3.2646048109965635,
          1.9484536082474226,
          1.8075601374570454,
          5.357388316151205,
          4.958762886597938,
          0.03780068728522331,
          2.61512027491409,
          0.9175257731958762
         ],
         "yaxis": "y"
        }
       ],
       "layout": {
        "legend": {
         "title": {
          "text": "cluster"
         },
         "tracegroupgap": 0
        },
        "template": {
         "data": {
          "bar": [
           {
            "error_x": {
             "color": "#2a3f5f"
            },
            "error_y": {
             "color": "#2a3f5f"
            },
            "marker": {
             "line": {
              "color": "#E5ECF6",
              "width": 0.5
             },
             "pattern": {
              "fillmode": "overlay",
              "size": 10,
              "solidity": 0.2
             }
            },
            "type": "bar"
           }
          ],
          "barpolar": [
           {
            "marker": {
             "line": {
              "color": "#E5ECF6",
              "width": 0.5
             },
             "pattern": {
              "fillmode": "overlay",
              "size": 10,
              "solidity": 0.2
             }
            },
            "type": "barpolar"
           }
          ],
          "carpet": [
           {
            "aaxis": {
             "endlinecolor": "#2a3f5f",
             "gridcolor": "white",
             "linecolor": "white",
             "minorgridcolor": "white",
             "startlinecolor": "#2a3f5f"
            },
            "baxis": {
             "endlinecolor": "#2a3f5f",
             "gridcolor": "white",
             "linecolor": "white",
             "minorgridcolor": "white",
             "startlinecolor": "#2a3f5f"
            },
            "type": "carpet"
           }
          ],
          "choropleth": [
           {
            "colorbar": {
             "outlinewidth": 0,
             "ticks": ""
            },
            "type": "choropleth"
           }
          ],
          "contour": [
           {
            "colorbar": {
             "outlinewidth": 0,
             "ticks": ""
            },
            "colorscale": [
             [
              0,
              "#0d0887"
             ],
             [
              0.1111111111111111,
              "#46039f"
             ],
             [
              0.2222222222222222,
              "#7201a8"
             ],
             [
              0.3333333333333333,
              "#9c179e"
             ],
             [
              0.4444444444444444,
              "#bd3786"
             ],
             [
              0.5555555555555556,
              "#d8576b"
             ],
             [
              0.6666666666666666,
              "#ed7953"
             ],
             [
              0.7777777777777778,
              "#fb9f3a"
             ],
             [
              0.8888888888888888,
              "#fdca26"
             ],
             [
              1,
              "#f0f921"
             ]
            ],
            "type": "contour"
           }
          ],
          "contourcarpet": [
           {
            "colorbar": {
             "outlinewidth": 0,
             "ticks": ""
            },
            "type": "contourcarpet"
           }
          ],
          "heatmap": [
           {
            "colorbar": {
             "outlinewidth": 0,
             "ticks": ""
            },
            "colorscale": [
             [
              0,
              "#0d0887"
             ],
             [
              0.1111111111111111,
              "#46039f"
             ],
             [
              0.2222222222222222,
              "#7201a8"
             ],
             [
              0.3333333333333333,
              "#9c179e"
             ],
             [
              0.4444444444444444,
              "#bd3786"
             ],
             [
              0.5555555555555556,
              "#d8576b"
             ],
             [
              0.6666666666666666,
              "#ed7953"
             ],
             [
              0.7777777777777778,
              "#fb9f3a"
             ],
             [
              0.8888888888888888,
              "#fdca26"
             ],
             [
              1,
              "#f0f921"
             ]
            ],
            "type": "heatmap"
           }
          ],
          "heatmapgl": [
           {
            "colorbar": {
             "outlinewidth": 0,
             "ticks": ""
            },
            "colorscale": [
             [
              0,
              "#0d0887"
             ],
             [
              0.1111111111111111,
              "#46039f"
             ],
             [
              0.2222222222222222,
              "#7201a8"
             ],
             [
              0.3333333333333333,
              "#9c179e"
             ],
             [
              0.4444444444444444,
              "#bd3786"
             ],
             [
              0.5555555555555556,
              "#d8576b"
             ],
             [
              0.6666666666666666,
              "#ed7953"
             ],
             [
              0.7777777777777778,
              "#fb9f3a"
             ],
             [
              0.8888888888888888,
              "#fdca26"
             ],
             [
              1,
              "#f0f921"
             ]
            ],
            "type": "heatmapgl"
           }
          ],
          "histogram": [
           {
            "marker": {
             "pattern": {
              "fillmode": "overlay",
              "size": 10,
              "solidity": 0.2
             }
            },
            "type": "histogram"
           }
          ],
          "histogram2d": [
           {
            "colorbar": {
             "outlinewidth": 0,
             "ticks": ""
            },
            "colorscale": [
             [
              0,
              "#0d0887"
             ],
             [
              0.1111111111111111,
              "#46039f"
             ],
             [
              0.2222222222222222,
              "#7201a8"
             ],
             [
              0.3333333333333333,
              "#9c179e"
             ],
             [
              0.4444444444444444,
              "#bd3786"
             ],
             [
              0.5555555555555556,
              "#d8576b"
             ],
             [
              0.6666666666666666,
              "#ed7953"
             ],
             [
              0.7777777777777778,
              "#fb9f3a"
             ],
             [
              0.8888888888888888,
              "#fdca26"
             ],
             [
              1,
              "#f0f921"
             ]
            ],
            "type": "histogram2d"
           }
          ],
          "histogram2dcontour": [
           {
            "colorbar": {
             "outlinewidth": 0,
             "ticks": ""
            },
            "colorscale": [
             [
              0,
              "#0d0887"
             ],
             [
              0.1111111111111111,
              "#46039f"
             ],
             [
              0.2222222222222222,
              "#7201a8"
             ],
             [
              0.3333333333333333,
              "#9c179e"
             ],
             [
              0.4444444444444444,
              "#bd3786"
             ],
             [
              0.5555555555555556,
              "#d8576b"
             ],
             [
              0.6666666666666666,
              "#ed7953"
             ],
             [
              0.7777777777777778,
              "#fb9f3a"
             ],
             [
              0.8888888888888888,
              "#fdca26"
             ],
             [
              1,
              "#f0f921"
             ]
            ],
            "type": "histogram2dcontour"
           }
          ],
          "mesh3d": [
           {
            "colorbar": {
             "outlinewidth": 0,
             "ticks": ""
            },
            "type": "mesh3d"
           }
          ],
          "parcoords": [
           {
            "line": {
             "colorbar": {
              "outlinewidth": 0,
              "ticks": ""
             }
            },
            "type": "parcoords"
           }
          ],
          "pie": [
           {
            "automargin": true,
            "type": "pie"
           }
          ],
          "scatter": [
           {
            "fillpattern": {
             "fillmode": "overlay",
             "size": 10,
             "solidity": 0.2
            },
            "type": "scatter"
           }
          ],
          "scatter3d": [
           {
            "line": {
             "colorbar": {
              "outlinewidth": 0,
              "ticks": ""
             }
            },
            "marker": {
             "colorbar": {
              "outlinewidth": 0,
              "ticks": ""
             }
            },
            "type": "scatter3d"
           }
          ],
          "scattercarpet": [
           {
            "marker": {
             "colorbar": {
              "outlinewidth": 0,
              "ticks": ""
             }
            },
            "type": "scattercarpet"
           }
          ],
          "scattergeo": [
           {
            "marker": {
             "colorbar": {
              "outlinewidth": 0,
              "ticks": ""
             }
            },
            "type": "scattergeo"
           }
          ],
          "scattergl": [
           {
            "marker": {
             "colorbar": {
              "outlinewidth": 0,
              "ticks": ""
             }
            },
            "type": "scattergl"
           }
          ],
          "scattermapbox": [
           {
            "marker": {
             "colorbar": {
              "outlinewidth": 0,
              "ticks": ""
             }
            },
            "type": "scattermapbox"
           }
          ],
          "scatterpolar": [
           {
            "marker": {
             "colorbar": {
              "outlinewidth": 0,
              "ticks": ""
             }
            },
            "type": "scatterpolar"
           }
          ],
          "scatterpolargl": [
           {
            "marker": {
             "colorbar": {
              "outlinewidth": 0,
              "ticks": ""
             }
            },
            "type": "scatterpolargl"
           }
          ],
          "scatterternary": [
           {
            "marker": {
             "colorbar": {
              "outlinewidth": 0,
              "ticks": ""
             }
            },
            "type": "scatterternary"
           }
          ],
          "surface": [
           {
            "colorbar": {
             "outlinewidth": 0,
             "ticks": ""
            },
            "colorscale": [
             [
              0,
              "#0d0887"
             ],
             [
              0.1111111111111111,
              "#46039f"
             ],
             [
              0.2222222222222222,
              "#7201a8"
             ],
             [
              0.3333333333333333,
              "#9c179e"
             ],
             [
              0.4444444444444444,
              "#bd3786"
             ],
             [
              0.5555555555555556,
              "#d8576b"
             ],
             [
              0.6666666666666666,
              "#ed7953"
             ],
             [
              0.7777777777777778,
              "#fb9f3a"
             ],
             [
              0.8888888888888888,
              "#fdca26"
             ],
             [
              1,
              "#f0f921"
             ]
            ],
            "type": "surface"
           }
          ],
          "table": [
           {
            "cells": {
             "fill": {
              "color": "#EBF0F8"
             },
             "line": {
              "color": "white"
             }
            },
            "header": {
             "fill": {
              "color": "#C8D4E3"
             },
             "line": {
              "color": "white"
             }
            },
            "type": "table"
           }
          ]
         },
         "layout": {
          "annotationdefaults": {
           "arrowcolor": "#2a3f5f",
           "arrowhead": 0,
           "arrowwidth": 1
          },
          "autotypenumbers": "strict",
          "coloraxis": {
           "colorbar": {
            "outlinewidth": 0,
            "ticks": ""
           }
          },
          "colorscale": {
           "diverging": [
            [
             0,
             "#8e0152"
            ],
            [
             0.1,
             "#c51b7d"
            ],
            [
             0.2,
             "#de77ae"
            ],
            [
             0.3,
             "#f1b6da"
            ],
            [
             0.4,
             "#fde0ef"
            ],
            [
             0.5,
             "#f7f7f7"
            ],
            [
             0.6,
             "#e6f5d0"
            ],
            [
             0.7,
             "#b8e186"
            ],
            [
             0.8,
             "#7fbc41"
            ],
            [
             0.9,
             "#4d9221"
            ],
            [
             1,
             "#276419"
            ]
           ],
           "sequential": [
            [
             0,
             "#0d0887"
            ],
            [
             0.1111111111111111,
             "#46039f"
            ],
            [
             0.2222222222222222,
             "#7201a8"
            ],
            [
             0.3333333333333333,
             "#9c179e"
            ],
            [
             0.4444444444444444,
             "#bd3786"
            ],
            [
             0.5555555555555556,
             "#d8576b"
            ],
            [
             0.6666666666666666,
             "#ed7953"
            ],
            [
             0.7777777777777778,
             "#fb9f3a"
            ],
            [
             0.8888888888888888,
             "#fdca26"
            ],
            [
             1,
             "#f0f921"
            ]
           ],
           "sequentialminus": [
            [
             0,
             "#0d0887"
            ],
            [
             0.1111111111111111,
             "#46039f"
            ],
            [
             0.2222222222222222,
             "#7201a8"
            ],
            [
             0.3333333333333333,
             "#9c179e"
            ],
            [
             0.4444444444444444,
             "#bd3786"
            ],
            [
             0.5555555555555556,
             "#d8576b"
            ],
            [
             0.6666666666666666,
             "#ed7953"
            ],
            [
             0.7777777777777778,
             "#fb9f3a"
            ],
            [
             0.8888888888888888,
             "#fdca26"
            ],
            [
             1,
             "#f0f921"
            ]
           ]
          },
          "colorway": [
           "#636efa",
           "#EF553B",
           "#00cc96",
           "#ab63fa",
           "#FFA15A",
           "#19d3f3",
           "#FF6692",
           "#B6E880",
           "#FF97FF",
           "#FECB52"
          ],
          "font": {
           "color": "#2a3f5f"
          },
          "geo": {
           "bgcolor": "white",
           "lakecolor": "white",
           "landcolor": "#E5ECF6",
           "showlakes": true,
           "showland": true,
           "subunitcolor": "white"
          },
          "hoverlabel": {
           "align": "left"
          },
          "hovermode": "closest",
          "mapbox": {
           "style": "light"
          },
          "paper_bgcolor": "white",
          "plot_bgcolor": "#E5ECF6",
          "polar": {
           "angularaxis": {
            "gridcolor": "white",
            "linecolor": "white",
            "ticks": ""
           },
           "bgcolor": "#E5ECF6",
           "radialaxis": {
            "gridcolor": "white",
            "linecolor": "white",
            "ticks": ""
           }
          },
          "scene": {
           "xaxis": {
            "backgroundcolor": "#E5ECF6",
            "gridcolor": "white",
            "gridwidth": 2,
            "linecolor": "white",
            "showbackground": true,
            "ticks": "",
            "zerolinecolor": "white"
           },
           "yaxis": {
            "backgroundcolor": "#E5ECF6",
            "gridcolor": "white",
            "gridwidth": 2,
            "linecolor": "white",
            "showbackground": true,
            "ticks": "",
            "zerolinecolor": "white"
           },
           "zaxis": {
            "backgroundcolor": "#E5ECF6",
            "gridcolor": "white",
            "gridwidth": 2,
            "linecolor": "white",
            "showbackground": true,
            "ticks": "",
            "zerolinecolor": "white"
           }
          },
          "shapedefaults": {
           "line": {
            "color": "#2a3f5f"
           }
          },
          "ternary": {
           "aaxis": {
            "gridcolor": "white",
            "linecolor": "white",
            "ticks": ""
           },
           "baxis": {
            "gridcolor": "white",
            "linecolor": "white",
            "ticks": ""
           },
           "bgcolor": "#E5ECF6",
           "caxis": {
            "gridcolor": "white",
            "linecolor": "white",
            "ticks": ""
           }
          },
          "title": {
           "x": 0.05
          },
          "xaxis": {
           "automargin": true,
           "gridcolor": "white",
           "linecolor": "white",
           "ticks": "",
           "title": {
            "standoff": 15
           },
           "zerolinecolor": "white",
           "zerolinewidth": 2
          },
          "yaxis": {
           "automargin": true,
           "gridcolor": "white",
           "linecolor": "white",
           "ticks": "",
           "title": {
            "standoff": 15
           },
           "zerolinecolor": "white",
           "zerolinewidth": 2
          }
         }
        },
        "title": {
         "text": "Centroids obtained with Kmeans (k=5) of the first 50 ratings of each user"
        },
        "xaxis": {
         "anchor": "y",
         "domain": [
          0,
          1
         ],
         "title": {
          "text": "category"
         }
        },
        "yaxis": {
         "anchor": "x",
         "domain": [
          0,
          1
         ],
         "title": {
          "text": "Number of beer"
         }
        }
       }
      }
     },
     "metadata": {},
     "output_type": "display_data"
    }
   ],
   "source": [
    "fig = px.line(df_cluster_beer_5, x=\"category\", y=\"Number of beer\", color=\"cluster\", title=\"Centroids obtained with Kmeans (k=5) of the first 50 ratings of each user\")\n",
    "fig.show()\n",
    "#fig.write_html(\"centroid_first_5_justification.html\")"
   ]
  },
  {
   "cell_type": "code",
   "execution_count": 471,
   "metadata": {},
   "outputs": [],
   "source": [
    "user_to_cat_first[\"first_50_cluster\"] = our_clustering_4.labels_"
   ]
  },
  {
   "cell_type": "code",
   "execution_count": 472,
   "metadata": {},
   "outputs": [
    {
     "data": {
      "text/html": [
       "<div>\n",
       "<style scoped>\n",
       "    .dataframe tbody tr th:only-of-type {\n",
       "        vertical-align: middle;\n",
       "    }\n",
       "\n",
       "    .dataframe tbody tr th {\n",
       "        vertical-align: top;\n",
       "    }\n",
       "\n",
       "    .dataframe thead th {\n",
       "        text-align: right;\n",
       "    }\n",
       "</style>\n",
       "<table border=\"1\" class=\"dataframe\">\n",
       "  <thead>\n",
       "    <tr style=\"text-align: right;\">\n",
       "      <th>category</th>\n",
       "      <th>Bocks</th>\n",
       "      <th>Brown Ales</th>\n",
       "      <th>Dark Ales</th>\n",
       "      <th>Dark Lagers</th>\n",
       "      <th>Hybrid Beers</th>\n",
       "      <th>India Pale Ales</th>\n",
       "      <th>Pale Ales</th>\n",
       "      <th>Pale Lagers</th>\n",
       "      <th>Porters</th>\n",
       "      <th>Specialty Beer</th>\n",
       "      <th>Stouts</th>\n",
       "      <th>Strong Ales</th>\n",
       "      <th>Weird Cocktail</th>\n",
       "      <th>Wheat Beers</th>\n",
       "      <th>Wild/Sour Beers</th>\n",
       "    </tr>\n",
       "    <tr>\n",
       "      <th>user_name</th>\n",
       "      <th></th>\n",
       "      <th></th>\n",
       "      <th></th>\n",
       "      <th></th>\n",
       "      <th></th>\n",
       "      <th></th>\n",
       "      <th></th>\n",
       "      <th></th>\n",
       "      <th></th>\n",
       "      <th></th>\n",
       "      <th></th>\n",
       "      <th></th>\n",
       "      <th></th>\n",
       "      <th></th>\n",
       "      <th></th>\n",
       "    </tr>\n",
       "  </thead>\n",
       "  <tbody>\n",
       "    <tr>\n",
       "      <th>-Rick</th>\n",
       "      <td>0</td>\n",
       "      <td>0</td>\n",
       "      <td>0</td>\n",
       "      <td>0</td>\n",
       "      <td>0</td>\n",
       "      <td>14</td>\n",
       "      <td>4</td>\n",
       "      <td>0</td>\n",
       "      <td>1</td>\n",
       "      <td>0</td>\n",
       "      <td>16</td>\n",
       "      <td>7</td>\n",
       "      <td>0</td>\n",
       "      <td>1</td>\n",
       "      <td>7</td>\n",
       "    </tr>\n",
       "    <tr>\n",
       "      <th>1000lbgrizzly</th>\n",
       "      <td>0</td>\n",
       "      <td>3</td>\n",
       "      <td>2</td>\n",
       "      <td>0</td>\n",
       "      <td>1</td>\n",
       "      <td>10</td>\n",
       "      <td>10</td>\n",
       "      <td>3</td>\n",
       "      <td>1</td>\n",
       "      <td>2</td>\n",
       "      <td>9</td>\n",
       "      <td>2</td>\n",
       "      <td>0</td>\n",
       "      <td>5</td>\n",
       "      <td>2</td>\n",
       "    </tr>\n",
       "    <tr>\n",
       "      <th>1424IpA</th>\n",
       "      <td>0</td>\n",
       "      <td>1</td>\n",
       "      <td>0</td>\n",
       "      <td>0</td>\n",
       "      <td>0</td>\n",
       "      <td>14</td>\n",
       "      <td>9</td>\n",
       "      <td>2</td>\n",
       "      <td>6</td>\n",
       "      <td>1</td>\n",
       "      <td>8</td>\n",
       "      <td>4</td>\n",
       "      <td>0</td>\n",
       "      <td>1</td>\n",
       "      <td>4</td>\n",
       "    </tr>\n",
       "    <tr>\n",
       "      <th>2Xmd</th>\n",
       "      <td>0</td>\n",
       "      <td>0</td>\n",
       "      <td>0</td>\n",
       "      <td>1</td>\n",
       "      <td>1</td>\n",
       "      <td>14</td>\n",
       "      <td>8</td>\n",
       "      <td>4</td>\n",
       "      <td>1</td>\n",
       "      <td>3</td>\n",
       "      <td>5</td>\n",
       "      <td>7</td>\n",
       "      <td>1</td>\n",
       "      <td>3</td>\n",
       "      <td>2</td>\n",
       "    </tr>\n",
       "    <tr>\n",
       "      <th>2ellas</th>\n",
       "      <td>0</td>\n",
       "      <td>3</td>\n",
       "      <td>1</td>\n",
       "      <td>2</td>\n",
       "      <td>0</td>\n",
       "      <td>15</td>\n",
       "      <td>3</td>\n",
       "      <td>10</td>\n",
       "      <td>3</td>\n",
       "      <td>1</td>\n",
       "      <td>6</td>\n",
       "      <td>3</td>\n",
       "      <td>0</td>\n",
       "      <td>2</td>\n",
       "      <td>1</td>\n",
       "    </tr>\n",
       "  </tbody>\n",
       "</table>\n",
       "</div>"
      ],
      "text/plain": [
       "category       Bocks  Brown Ales  Dark Ales  Dark Lagers  Hybrid Beers  \\\n",
       "user_name                                                                \n",
       "-Rick              0           0          0            0             0   \n",
       "1000lbgrizzly      0           3          2            0             1   \n",
       "1424IpA            0           1          0            0             0   \n",
       "2Xmd               0           0          0            1             1   \n",
       "2ellas             0           3          1            2             0   \n",
       "\n",
       "category       India Pale Ales  Pale Ales  Pale Lagers  Porters  \\\n",
       "user_name                                                         \n",
       "-Rick                       14          4            0        1   \n",
       "1000lbgrizzly               10         10            3        1   \n",
       "1424IpA                     14          9            2        6   \n",
       "2Xmd                        14          8            4        1   \n",
       "2ellas                      15          3           10        3   \n",
       "\n",
       "category       Specialty Beer  Stouts  Strong Ales  Weird Cocktail  \\\n",
       "user_name                                                            \n",
       "-Rick                       0      16            7               0   \n",
       "1000lbgrizzly               2       9            2               0   \n",
       "1424IpA                     1       8            4               0   \n",
       "2Xmd                        3       5            7               1   \n",
       "2ellas                      1       6            3               0   \n",
       "\n",
       "category       Wheat Beers  Wild/Sour Beers  \n",
       "user_name                                    \n",
       "-Rick                    1                7  \n",
       "1000lbgrizzly            5                2  \n",
       "1424IpA                  1                4  \n",
       "2Xmd                     3                2  \n",
       "2ellas                   2                1  "
      ]
     },
     "execution_count": 472,
     "metadata": {},
     "output_type": "execute_result"
    }
   ],
   "source": [
    "# How many beers of different categories a user rated in his last 50 ratings\n",
    "\n",
    "df_to_cluster_last = df_valid_ratings[df_valid_ratings[\"rating_number\"] >= 450]\n",
    "user_to_cat_last = df_to_cluster_last.groupby([\"user_name\", \"category\"])[\"beer_id\"].count()\n",
    "user_to_cat_last = user_to_cat_last.unstack(level=-1, fill_value = 0)\n",
    "user_to_cat_last.head(5)"
   ]
  },
  {
   "cell_type": "code",
   "execution_count": 473,
   "metadata": {},
   "outputs": [
    {
     "data": {
      "text/html": [
       "<div>\n",
       "<style scoped>\n",
       "    .dataframe tbody tr th:only-of-type {\n",
       "        vertical-align: middle;\n",
       "    }\n",
       "\n",
       "    .dataframe tbody tr th {\n",
       "        vertical-align: top;\n",
       "    }\n",
       "\n",
       "    .dataframe thead th {\n",
       "        text-align: right;\n",
       "    }\n",
       "</style>\n",
       "<table border=\"1\" class=\"dataframe\">\n",
       "  <thead>\n",
       "    <tr style=\"text-align: right;\">\n",
       "      <th>category</th>\n",
       "      <th>Bocks</th>\n",
       "      <th>Brown Ales</th>\n",
       "      <th>Dark Ales</th>\n",
       "      <th>Dark Lagers</th>\n",
       "      <th>Hybrid Beers</th>\n",
       "      <th>India Pale Ales</th>\n",
       "      <th>Pale Ales</th>\n",
       "      <th>Pale Lagers</th>\n",
       "      <th>Porters</th>\n",
       "      <th>Specialty Beer</th>\n",
       "      <th>Stouts</th>\n",
       "      <th>Strong Ales</th>\n",
       "      <th>Weird Cocktail</th>\n",
       "      <th>Wheat Beers</th>\n",
       "      <th>Wild/Sour Beers</th>\n",
       "      <th>first_50_cluster</th>\n",
       "    </tr>\n",
       "    <tr>\n",
       "      <th>user_name</th>\n",
       "      <th></th>\n",
       "      <th></th>\n",
       "      <th></th>\n",
       "      <th></th>\n",
       "      <th></th>\n",
       "      <th></th>\n",
       "      <th></th>\n",
       "      <th></th>\n",
       "      <th></th>\n",
       "      <th></th>\n",
       "      <th></th>\n",
       "      <th></th>\n",
       "      <th></th>\n",
       "      <th></th>\n",
       "      <th></th>\n",
       "      <th></th>\n",
       "    </tr>\n",
       "  </thead>\n",
       "  <tbody>\n",
       "    <tr>\n",
       "      <th>-Rick</th>\n",
       "      <td>0</td>\n",
       "      <td>2</td>\n",
       "      <td>0</td>\n",
       "      <td>2</td>\n",
       "      <td>0</td>\n",
       "      <td>29</td>\n",
       "      <td>7</td>\n",
       "      <td>2</td>\n",
       "      <td>2</td>\n",
       "      <td>2</td>\n",
       "      <td>3</td>\n",
       "      <td>1</td>\n",
       "      <td>0</td>\n",
       "      <td>0</td>\n",
       "      <td>0</td>\n",
       "      <td>1</td>\n",
       "    </tr>\n",
       "    <tr>\n",
       "      <th>1000lbgrizzly</th>\n",
       "      <td>0</td>\n",
       "      <td>5</td>\n",
       "      <td>0</td>\n",
       "      <td>1</td>\n",
       "      <td>0</td>\n",
       "      <td>4</td>\n",
       "      <td>9</td>\n",
       "      <td>7</td>\n",
       "      <td>2</td>\n",
       "      <td>8</td>\n",
       "      <td>6</td>\n",
       "      <td>4</td>\n",
       "      <td>0</td>\n",
       "      <td>3</td>\n",
       "      <td>1</td>\n",
       "      <td>0</td>\n",
       "    </tr>\n",
       "    <tr>\n",
       "      <th>1424IpA</th>\n",
       "      <td>0</td>\n",
       "      <td>0</td>\n",
       "      <td>1</td>\n",
       "      <td>0</td>\n",
       "      <td>0</td>\n",
       "      <td>21</td>\n",
       "      <td>3</td>\n",
       "      <td>1</td>\n",
       "      <td>1</td>\n",
       "      <td>1</td>\n",
       "      <td>12</td>\n",
       "      <td>4</td>\n",
       "      <td>0</td>\n",
       "      <td>1</td>\n",
       "      <td>5</td>\n",
       "      <td>1</td>\n",
       "    </tr>\n",
       "    <tr>\n",
       "      <th>2Xmd</th>\n",
       "      <td>0</td>\n",
       "      <td>2</td>\n",
       "      <td>1</td>\n",
       "      <td>1</td>\n",
       "      <td>0</td>\n",
       "      <td>25</td>\n",
       "      <td>5</td>\n",
       "      <td>1</td>\n",
       "      <td>1</td>\n",
       "      <td>2</td>\n",
       "      <td>9</td>\n",
       "      <td>1</td>\n",
       "      <td>0</td>\n",
       "      <td>2</td>\n",
       "      <td>0</td>\n",
       "      <td>1</td>\n",
       "    </tr>\n",
       "    <tr>\n",
       "      <th>2ellas</th>\n",
       "      <td>0</td>\n",
       "      <td>2</td>\n",
       "      <td>1</td>\n",
       "      <td>0</td>\n",
       "      <td>0</td>\n",
       "      <td>31</td>\n",
       "      <td>9</td>\n",
       "      <td>0</td>\n",
       "      <td>0</td>\n",
       "      <td>0</td>\n",
       "      <td>2</td>\n",
       "      <td>4</td>\n",
       "      <td>0</td>\n",
       "      <td>1</td>\n",
       "      <td>0</td>\n",
       "      <td>1</td>\n",
       "    </tr>\n",
       "  </tbody>\n",
       "</table>\n",
       "</div>"
      ],
      "text/plain": [
       "category       Bocks  Brown Ales  Dark Ales  Dark Lagers  Hybrid Beers  \\\n",
       "user_name                                                                \n",
       "-Rick              0           2          0            2             0   \n",
       "1000lbgrizzly      0           5          0            1             0   \n",
       "1424IpA            0           0          1            0             0   \n",
       "2Xmd               0           2          1            1             0   \n",
       "2ellas             0           2          1            0             0   \n",
       "\n",
       "category       India Pale Ales  Pale Ales  Pale Lagers  Porters  \\\n",
       "user_name                                                         \n",
       "-Rick                       29          7            2        2   \n",
       "1000lbgrizzly                4          9            7        2   \n",
       "1424IpA                     21          3            1        1   \n",
       "2Xmd                        25          5            1        1   \n",
       "2ellas                      31          9            0        0   \n",
       "\n",
       "category       Specialty Beer  Stouts  Strong Ales  Weird Cocktail  \\\n",
       "user_name                                                            \n",
       "-Rick                       2       3            1               0   \n",
       "1000lbgrizzly               8       6            4               0   \n",
       "1424IpA                     1      12            4               0   \n",
       "2Xmd                        2       9            1               0   \n",
       "2ellas                      0       2            4               0   \n",
       "\n",
       "category       Wheat Beers  Wild/Sour Beers  first_50_cluster  \n",
       "user_name                                                      \n",
       "-Rick                    0                0                 1  \n",
       "1000lbgrizzly            3                1                 0  \n",
       "1424IpA                  1                5                 1  \n",
       "2Xmd                     2                0                 1  \n",
       "2ellas                   1                0                 1  "
      ]
     },
     "execution_count": 473,
     "metadata": {},
     "output_type": "execute_result"
    }
   ],
   "source": [
    "user_to_cat_first[\"first_50_cluster\"] = our_clustering_4.labels_\n",
    "user_to_cat_last[\"first_50_cluster\"] = our_clustering_4.labels_\n",
    "\n",
    "user_to_cat_first.head(5)"
   ]
  },
  {
   "cell_type": "code",
   "execution_count": 474,
   "metadata": {},
   "outputs": [],
   "source": [
    "# cluster_team = user_to_cat_first['first_50_cluster'].unique()\n",
    "# categ_beer = user_to_cat_first.columns[1:16]\n",
    "\n",
    "# for team in cluster_team:\n",
    "#     for cate in categ_beer:\n",
    "#        _, ttest_pval = ttest_rel(user_to_cat_first[user_to_cat_first['first_50_cluster'] == team][cate],\n",
    "#                                  user_to_cat_last[user_to_cat_last['first_50_cluster'] == team][cate])\n",
    "#        ci_low_mean_first_rating, ci_high_mean_first_rating = bootstrap((user_to_cat_first[user_to_cat_first['first_50_cluster'] == team][cate].values,), np.mean).confidence_interval\n",
    "#        #ci_low_mean_last_rating, ci_high_mean_last_rating = bootstrap(user_to_cat_last[user_to_cat_last['first_50_cluster']==team][cate], np.mean).confidence_interval\n",
    "#        if ttest_pval<0.05:\n",
    "#         print('the p-value for ttest in the team',team,'for the category',cate,'is',ttest_pval)"
   ]
  },
  {
   "cell_type": "code",
   "execution_count": 475,
   "metadata": {},
   "outputs": [],
   "source": [
    "## Cluster bootstrap\n",
    "\n",
    "cluster_list=[]\n",
    "cate_list=[]\n",
    "ci_low_mean_first_rating_list=[]\n",
    "ci_high_mean_first_rating_list=[]\n",
    "mean_first_rating_list=[]\n",
    "ci_low_mean_last_rating_list=[]\n",
    "ci_high_mean_last_rating_list=[]\n",
    "mean_last_rating_list=[]\n",
    "t_test_list=[]\n",
    "\n",
    "cluster_team = user_to_cat_first['first_50_cluster'].unique()\n",
    "categ_beer = user_to_cat_first.columns[0:15]\n",
    "\n",
    "for team in cluster_team:\n",
    "\n",
    "    current_team_first_rating = user_to_cat_first[user_to_cat_first['first_50_cluster']==team]\n",
    "    current_team_last_rating = user_to_cat_last[user_to_cat_last['first_50_cluster']==team]\n",
    "\n",
    "    for cate in categ_beer:\n",
    "\n",
    "        current_ttest=ttest_rel(current_team_first_rating[cate],current_team_last_rating[cate])[1]\n",
    "        #if current_ttest<0.05:\n",
    "            #print('the p-value for ttest in the team',team,'for the category',cate,'is',current_ttest)\n",
    "\n",
    "        ci_low_mean_first_rating, ci_high_mean_first_rating = bootstrap((current_team_first_rating[cate].values,), np.mean).confidence_interval\n",
    "        ci_low_mean_last_rating, ci_high_mean_last_rating = bootstrap((current_team_last_rating[cate].values,), np.mean).confidence_interval\n",
    "\n",
    "        mean_first_rating_list.append(current_team_first_rating[cate].mean())\n",
    "        mean_last_rating_list.append(current_team_last_rating[cate].mean())\n",
    "\n",
    "        cluster_list.append(team)\n",
    "        cate_list.append(cate)\n",
    "\n",
    "        ci_low_mean_first_rating_list.append(ci_low_mean_first_rating)\n",
    "        ci_high_mean_first_rating_list.append(ci_high_mean_first_rating)\n",
    "        ci_low_mean_last_rating_list.append(ci_low_mean_last_rating)\n",
    "        ci_high_mean_last_rating_list.append(ci_high_mean_last_rating)\n",
    "        t_test_list.append(current_ttest)"
   ]
  },
  {
   "cell_type": "code",
   "execution_count": 476,
   "metadata": {},
   "outputs": [],
   "source": [
    "conf_inter_cluster = pd.DataFrame({'Cluster' : cluster_list, 'Category' : cate_list, 'CI_low_first_rating':ci_low_mean_first_rating_list,\n",
    "                                'CI_high_first_rating':ci_high_mean_first_rating_list,'mean_first_ratings':mean_first_rating_list,\n",
    "                                'CI_low_last_rating':ci_low_mean_last_rating_list,'CI_high_last_rating':ci_high_mean_last_rating_list,\n",
    "                                'mean_last_ratings':mean_last_rating_list,'t_test':t_test_list})"
   ]
  },
  {
   "cell_type": "code",
   "execution_count": 477,
   "metadata": {},
   "outputs": [],
   "source": [
    "## All bootstrap\n",
    "\n",
    "cate_list=[]\n",
    "ci_low_mean_first_rating_list=[]\n",
    "ci_high_mean_first_rating_list=[]\n",
    "mean_first_rating_list=[]\n",
    "ci_low_mean_last_rating_list=[]\n",
    "ci_high_mean_last_rating_list=[]\n",
    "mean_last_rating_list=[]\n",
    "t_test_list=[]\n",
    "categ_beer = user_to_cat_first.columns[0:15]\n",
    "\n",
    "for cate in categ_beer:\n",
    "\n",
    "    current_ttest=ttest_rel(user_to_cat_first[cate],user_to_cat_last[cate])[1]\n",
    "    #if current_ttest<0.05:\n",
    "    #print('the p-value for ttest in the team',team,'for the category',cate,'is',current_ttest)\n",
    "    ci_low_mean_first_rating, ci_high_mean_first_rating = bootstrap((user_to_cat_first[cate].values,), np.mean).confidence_interval\n",
    "    ci_low_mean_last_rating, ci_high_mean_last_rating = bootstrap((user_to_cat_last[cate].values,), np.mean).confidence_interval\n",
    "    mean_first_rating_list.append(user_to_cat_first[cate].mean())\n",
    "    mean_last_rating_list.append(user_to_cat_last[cate].mean())\n",
    "    cate_list.append(cate)\n",
    "    ci_low_mean_first_rating_list.append(ci_low_mean_first_rating)\n",
    "    ci_high_mean_first_rating_list.append(ci_high_mean_first_rating)\n",
    "    ci_low_mean_last_rating_list.append(ci_low_mean_last_rating)\n",
    "    ci_high_mean_last_rating_list.append(ci_high_mean_last_rating)\n",
    "    t_test_list.append(current_ttest)"
   ]
  },
  {
   "cell_type": "code",
   "execution_count": 478,
   "metadata": {},
   "outputs": [],
   "source": [
    "conf_inter_all= pd.DataFrame({ 'Category' : cate_list, 'CI_low_first_rating':ci_low_mean_first_rating_list,\n",
    "                    'CI_high_first_rating':ci_high_mean_first_rating_list,'mean_first_ratings':mean_first_rating_list,\n",
    "                    'CI_low_last_rating':ci_low_mean_last_rating_list,'CI_high_last_rating':ci_high_mean_last_rating_list,\n",
    "                    'mean_last_ratings':mean_last_rating_list,'t_test':t_test_list})\n",
    "conf_inter_all['Cluster'] = 'All'\n"
   ]
  },
  {
   "cell_type": "code",
   "execution_count": 479,
   "metadata": {},
   "outputs": [
    {
     "data": {
      "text/html": [
       "<div>\n",
       "<style scoped>\n",
       "    .dataframe tbody tr th:only-of-type {\n",
       "        vertical-align: middle;\n",
       "    }\n",
       "\n",
       "    .dataframe tbody tr th {\n",
       "        vertical-align: top;\n",
       "    }\n",
       "\n",
       "    .dataframe thead th {\n",
       "        text-align: right;\n",
       "    }\n",
       "</style>\n",
       "<table border=\"1\" class=\"dataframe\">\n",
       "  <thead>\n",
       "    <tr style=\"text-align: right;\">\n",
       "      <th></th>\n",
       "      <th>Category</th>\n",
       "      <th>CI_low_first_rating</th>\n",
       "      <th>CI_high_first_rating</th>\n",
       "      <th>mean_first_ratings</th>\n",
       "      <th>CI_low_last_rating</th>\n",
       "      <th>CI_high_last_rating</th>\n",
       "      <th>mean_last_ratings</th>\n",
       "      <th>t_test</th>\n",
       "      <th>Cluster</th>\n",
       "    </tr>\n",
       "  </thead>\n",
       "  <tbody>\n",
       "    <tr>\n",
       "      <th>0</th>\n",
       "      <td>Bocks</td>\n",
       "      <td>1.160825</td>\n",
       "      <td>1.340652</td>\n",
       "      <td>1.247423</td>\n",
       "      <td>0.851546</td>\n",
       "      <td>1.019588</td>\n",
       "      <td>0.932990</td>\n",
       "      <td>1.040049e-08</td>\n",
       "      <td>All</td>\n",
       "    </tr>\n",
       "    <tr>\n",
       "      <th>1</th>\n",
       "      <td>Brown Ales</td>\n",
       "      <td>2.531959</td>\n",
       "      <td>2.790722</td>\n",
       "      <td>2.661856</td>\n",
       "      <td>1.975258</td>\n",
       "      <td>2.193814</td>\n",
       "      <td>2.082474</td>\n",
       "      <td>9.232355e-14</td>\n",
       "      <td>All</td>\n",
       "    </tr>\n",
       "    <tr>\n",
       "      <th>2</th>\n",
       "      <td>Dark Ales</td>\n",
       "      <td>1.138144</td>\n",
       "      <td>1.314433</td>\n",
       "      <td>1.224742</td>\n",
       "      <td>0.764948</td>\n",
       "      <td>0.915464</td>\n",
       "      <td>0.837113</td>\n",
       "      <td>5.993624e-13</td>\n",
       "      <td>All</td>\n",
       "    </tr>\n",
       "    <tr>\n",
       "      <th>3</th>\n",
       "      <td>Dark Lagers</td>\n",
       "      <td>1.270103</td>\n",
       "      <td>1.478351</td>\n",
       "      <td>1.371134</td>\n",
       "      <td>0.723135</td>\n",
       "      <td>0.860825</td>\n",
       "      <td>0.790722</td>\n",
       "      <td>8.970276e-25</td>\n",
       "      <td>All</td>\n",
       "    </tr>\n",
       "    <tr>\n",
       "      <th>4</th>\n",
       "      <td>Hybrid Beers</td>\n",
       "      <td>0.272165</td>\n",
       "      <td>0.343299</td>\n",
       "      <td>0.307216</td>\n",
       "      <td>0.277320</td>\n",
       "      <td>0.347423</td>\n",
       "      <td>0.312371</td>\n",
       "      <td>8.332273e-01</td>\n",
       "      <td>All</td>\n",
       "    </tr>\n",
       "    <tr>\n",
       "      <th>5</th>\n",
       "      <td>India Pale Ales</td>\n",
       "      <td>10.925773</td>\n",
       "      <td>11.961718</td>\n",
       "      <td>11.427835</td>\n",
       "      <td>11.643299</td>\n",
       "      <td>12.518557</td>\n",
       "      <td>12.076289</td>\n",
       "      <td>1.467942e-02</td>\n",
       "      <td>All</td>\n",
       "    </tr>\n",
       "    <tr>\n",
       "      <th>6</th>\n",
       "      <td>Pale Ales</td>\n",
       "      <td>7.519588</td>\n",
       "      <td>7.986598</td>\n",
       "      <td>7.752577</td>\n",
       "      <td>8.158763</td>\n",
       "      <td>8.652577</td>\n",
       "      <td>8.402062</td>\n",
       "      <td>1.559042e-05</td>\n",
       "      <td>All</td>\n",
       "    </tr>\n",
       "    <tr>\n",
       "      <th>7</th>\n",
       "      <td>Pale Lagers</td>\n",
       "      <td>4.009278</td>\n",
       "      <td>4.634021</td>\n",
       "      <td>4.309278</td>\n",
       "      <td>2.698969</td>\n",
       "      <td>3.086598</td>\n",
       "      <td>2.882474</td>\n",
       "      <td>2.939323e-18</td>\n",
       "      <td>All</td>\n",
       "    </tr>\n",
       "    <tr>\n",
       "      <th>8</th>\n",
       "      <td>Porters</td>\n",
       "      <td>2.002062</td>\n",
       "      <td>2.237113</td>\n",
       "      <td>2.118557</td>\n",
       "      <td>2.101994</td>\n",
       "      <td>2.319588</td>\n",
       "      <td>2.210309</td>\n",
       "      <td>2.196372e-01</td>\n",
       "      <td>All</td>\n",
       "    </tr>\n",
       "    <tr>\n",
       "      <th>9</th>\n",
       "      <td>Specialty Beer</td>\n",
       "      <td>1.378351</td>\n",
       "      <td>1.609278</td>\n",
       "      <td>1.486598</td>\n",
       "      <td>1.419588</td>\n",
       "      <td>1.644330</td>\n",
       "      <td>1.525773</td>\n",
       "      <td>6.030390e-01</td>\n",
       "      <td>All</td>\n",
       "    </tr>\n",
       "    <tr>\n",
       "      <th>10</th>\n",
       "      <td>Stouts</td>\n",
       "      <td>6.446392</td>\n",
       "      <td>7.125773</td>\n",
       "      <td>6.773196</td>\n",
       "      <td>6.922054</td>\n",
       "      <td>7.542006</td>\n",
       "      <td>7.223711</td>\n",
       "      <td>1.425922e-02</td>\n",
       "      <td>All</td>\n",
       "    </tr>\n",
       "    <tr>\n",
       "      <th>11</th>\n",
       "      <td>Strong Ales</td>\n",
       "      <td>5.110309</td>\n",
       "      <td>5.540206</td>\n",
       "      <td>5.315464</td>\n",
       "      <td>4.621649</td>\n",
       "      <td>5.032990</td>\n",
       "      <td>4.818557</td>\n",
       "      <td>1.184995e-04</td>\n",
       "      <td>All</td>\n",
       "    </tr>\n",
       "    <tr>\n",
       "      <th>12</th>\n",
       "      <td>Weird Cocktail</td>\n",
       "      <td>0.050515</td>\n",
       "      <td>0.084536</td>\n",
       "      <td>0.067010</td>\n",
       "      <td>0.013402</td>\n",
       "      <td>0.030928</td>\n",
       "      <td>0.021649</td>\n",
       "      <td>2.432629e-06</td>\n",
       "      <td>All</td>\n",
       "    </tr>\n",
       "    <tr>\n",
       "      <th>13</th>\n",
       "      <td>Wheat Beers</td>\n",
       "      <td>2.768041</td>\n",
       "      <td>3.102062</td>\n",
       "      <td>2.936082</td>\n",
       "      <td>2.157732</td>\n",
       "      <td>2.412371</td>\n",
       "      <td>2.282474</td>\n",
       "      <td>8.487360e-12</td>\n",
       "      <td>All</td>\n",
       "    </tr>\n",
       "    <tr>\n",
       "      <th>14</th>\n",
       "      <td>Wild/Sour Beers</td>\n",
       "      <td>0.882474</td>\n",
       "      <td>1.144330</td>\n",
       "      <td>1.001031</td>\n",
       "      <td>3.348454</td>\n",
       "      <td>3.877320</td>\n",
       "      <td>3.601031</td>\n",
       "      <td>4.314128e-79</td>\n",
       "      <td>All</td>\n",
       "    </tr>\n",
       "  </tbody>\n",
       "</table>\n",
       "</div>"
      ],
      "text/plain": [
       "           Category  CI_low_first_rating  CI_high_first_rating  \\\n",
       "0             Bocks             1.160825              1.340652   \n",
       "1        Brown Ales             2.531959              2.790722   \n",
       "2         Dark Ales             1.138144              1.314433   \n",
       "3       Dark Lagers             1.270103              1.478351   \n",
       "4      Hybrid Beers             0.272165              0.343299   \n",
       "5   India Pale Ales            10.925773             11.961718   \n",
       "6         Pale Ales             7.519588              7.986598   \n",
       "7       Pale Lagers             4.009278              4.634021   \n",
       "8           Porters             2.002062              2.237113   \n",
       "9    Specialty Beer             1.378351              1.609278   \n",
       "10           Stouts             6.446392              7.125773   \n",
       "11      Strong Ales             5.110309              5.540206   \n",
       "12   Weird Cocktail             0.050515              0.084536   \n",
       "13      Wheat Beers             2.768041              3.102062   \n",
       "14  Wild/Sour Beers             0.882474              1.144330   \n",
       "\n",
       "    mean_first_ratings  CI_low_last_rating  CI_high_last_rating  \\\n",
       "0             1.247423            0.851546             1.019588   \n",
       "1             2.661856            1.975258             2.193814   \n",
       "2             1.224742            0.764948             0.915464   \n",
       "3             1.371134            0.723135             0.860825   \n",
       "4             0.307216            0.277320             0.347423   \n",
       "5            11.427835           11.643299            12.518557   \n",
       "6             7.752577            8.158763             8.652577   \n",
       "7             4.309278            2.698969             3.086598   \n",
       "8             2.118557            2.101994             2.319588   \n",
       "9             1.486598            1.419588             1.644330   \n",
       "10            6.773196            6.922054             7.542006   \n",
       "11            5.315464            4.621649             5.032990   \n",
       "12            0.067010            0.013402             0.030928   \n",
       "13            2.936082            2.157732             2.412371   \n",
       "14            1.001031            3.348454             3.877320   \n",
       "\n",
       "    mean_last_ratings        t_test Cluster  \n",
       "0            0.932990  1.040049e-08     All  \n",
       "1            2.082474  9.232355e-14     All  \n",
       "2            0.837113  5.993624e-13     All  \n",
       "3            0.790722  8.970276e-25     All  \n",
       "4            0.312371  8.332273e-01     All  \n",
       "5           12.076289  1.467942e-02     All  \n",
       "6            8.402062  1.559042e-05     All  \n",
       "7            2.882474  2.939323e-18     All  \n",
       "8            2.210309  2.196372e-01     All  \n",
       "9            1.525773  6.030390e-01     All  \n",
       "10           7.223711  1.425922e-02     All  \n",
       "11           4.818557  1.184995e-04     All  \n",
       "12           0.021649  2.432629e-06     All  \n",
       "13           2.282474  8.487360e-12     All  \n",
       "14           3.601031  4.314128e-79     All  "
      ]
     },
     "execution_count": 479,
     "metadata": {},
     "output_type": "execute_result"
    }
   ],
   "source": [
    "conf_inter_all"
   ]
  },
  {
   "cell_type": "code",
   "execution_count": 480,
   "metadata": {},
   "outputs": [],
   "source": [
    "df_conf_inter = pd.concat([conf_inter_all, conf_inter_cluster], ignore_index = True)\n",
    "#conf_inter.reset_index(drop=True, inplace=True)\n"
   ]
  },
  {
   "cell_type": "code",
   "execution_count": 481,
   "metadata": {},
   "outputs": [
    {
     "data": {
      "text/html": [
       "<div>\n",
       "<style scoped>\n",
       "    .dataframe tbody tr th:only-of-type {\n",
       "        vertical-align: middle;\n",
       "    }\n",
       "\n",
       "    .dataframe tbody tr th {\n",
       "        vertical-align: top;\n",
       "    }\n",
       "\n",
       "    .dataframe thead th {\n",
       "        text-align: right;\n",
       "    }\n",
       "</style>\n",
       "<table border=\"1\" class=\"dataframe\">\n",
       "  <thead>\n",
       "    <tr style=\"text-align: right;\">\n",
       "      <th></th>\n",
       "      <th>Category</th>\n",
       "      <th>CI_low_first_rating</th>\n",
       "      <th>CI_high_first_rating</th>\n",
       "      <th>mean_first_ratings</th>\n",
       "      <th>CI_low_last_rating</th>\n",
       "      <th>CI_high_last_rating</th>\n",
       "      <th>mean_last_ratings</th>\n",
       "      <th>t_test</th>\n",
       "      <th>Cluster</th>\n",
       "    </tr>\n",
       "  </thead>\n",
       "  <tbody>\n",
       "    <tr>\n",
       "      <th>0</th>\n",
       "      <td>Bocks</td>\n",
       "      <td>1.160825</td>\n",
       "      <td>1.340652</td>\n",
       "      <td>1.247423</td>\n",
       "      <td>0.851546</td>\n",
       "      <td>1.019588</td>\n",
       "      <td>0.932990</td>\n",
       "      <td>1.040049e-08</td>\n",
       "      <td>All</td>\n",
       "    </tr>\n",
       "    <tr>\n",
       "      <th>1</th>\n",
       "      <td>Brown Ales</td>\n",
       "      <td>2.531959</td>\n",
       "      <td>2.790722</td>\n",
       "      <td>2.661856</td>\n",
       "      <td>1.975258</td>\n",
       "      <td>2.193814</td>\n",
       "      <td>2.082474</td>\n",
       "      <td>9.232355e-14</td>\n",
       "      <td>All</td>\n",
       "    </tr>\n",
       "    <tr>\n",
       "      <th>2</th>\n",
       "      <td>Dark Ales</td>\n",
       "      <td>1.138144</td>\n",
       "      <td>1.314433</td>\n",
       "      <td>1.224742</td>\n",
       "      <td>0.764948</td>\n",
       "      <td>0.915464</td>\n",
       "      <td>0.837113</td>\n",
       "      <td>5.993624e-13</td>\n",
       "      <td>All</td>\n",
       "    </tr>\n",
       "    <tr>\n",
       "      <th>3</th>\n",
       "      <td>Dark Lagers</td>\n",
       "      <td>1.270103</td>\n",
       "      <td>1.478351</td>\n",
       "      <td>1.371134</td>\n",
       "      <td>0.723135</td>\n",
       "      <td>0.860825</td>\n",
       "      <td>0.790722</td>\n",
       "      <td>8.970276e-25</td>\n",
       "      <td>All</td>\n",
       "    </tr>\n",
       "    <tr>\n",
       "      <th>4</th>\n",
       "      <td>Hybrid Beers</td>\n",
       "      <td>0.272165</td>\n",
       "      <td>0.343299</td>\n",
       "      <td>0.307216</td>\n",
       "      <td>0.277320</td>\n",
       "      <td>0.347423</td>\n",
       "      <td>0.312371</td>\n",
       "      <td>8.332273e-01</td>\n",
       "      <td>All</td>\n",
       "    </tr>\n",
       "    <tr>\n",
       "      <th>...</th>\n",
       "      <td>...</td>\n",
       "      <td>...</td>\n",
       "      <td>...</td>\n",
       "      <td>...</td>\n",
       "      <td>...</td>\n",
       "      <td>...</td>\n",
       "      <td>...</td>\n",
       "      <td>...</td>\n",
       "      <td>...</td>\n",
       "    </tr>\n",
       "    <tr>\n",
       "      <th>70</th>\n",
       "      <td>Stouts</td>\n",
       "      <td>3.099291</td>\n",
       "      <td>3.978723</td>\n",
       "      <td>3.510638</td>\n",
       "      <td>4.730496</td>\n",
       "      <td>5.950355</td>\n",
       "      <td>5.297872</td>\n",
       "      <td>3.360124e-06</td>\n",
       "      <td>3</td>\n",
       "    </tr>\n",
       "    <tr>\n",
       "      <th>71</th>\n",
       "      <td>Strong Ales</td>\n",
       "      <td>3.567376</td>\n",
       "      <td>4.361702</td>\n",
       "      <td>3.950355</td>\n",
       "      <td>4.191489</td>\n",
       "      <td>5.212766</td>\n",
       "      <td>4.680851</td>\n",
       "      <td>2.355251e-02</td>\n",
       "      <td>3</td>\n",
       "    </tr>\n",
       "    <tr>\n",
       "      <th>72</th>\n",
       "      <td>Weird Cocktail</td>\n",
       "      <td>0.099291</td>\n",
       "      <td>0.212766</td>\n",
       "      <td>0.156028</td>\n",
       "      <td>0.007092</td>\n",
       "      <td>0.056738</td>\n",
       "      <td>0.028369</td>\n",
       "      <td>1.789359e-04</td>\n",
       "      <td>3</td>\n",
       "    </tr>\n",
       "    <tr>\n",
       "      <th>73</th>\n",
       "      <td>Wheat Beers</td>\n",
       "      <td>4.269504</td>\n",
       "      <td>5.226950</td>\n",
       "      <td>4.744681</td>\n",
       "      <td>2.531915</td>\n",
       "      <td>3.290780</td>\n",
       "      <td>2.893617</td>\n",
       "      <td>2.932158e-09</td>\n",
       "      <td>3</td>\n",
       "    </tr>\n",
       "    <tr>\n",
       "      <th>74</th>\n",
       "      <td>Wild/Sour Beers</td>\n",
       "      <td>0.191489</td>\n",
       "      <td>0.390071</td>\n",
       "      <td>0.283688</td>\n",
       "      <td>1.485342</td>\n",
       "      <td>2.503546</td>\n",
       "      <td>1.900709</td>\n",
       "      <td>3.479107e-09</td>\n",
       "      <td>3</td>\n",
       "    </tr>\n",
       "  </tbody>\n",
       "</table>\n",
       "<p>75 rows × 9 columns</p>\n",
       "</div>"
      ],
      "text/plain": [
       "           Category  CI_low_first_rating  CI_high_first_rating  \\\n",
       "0             Bocks             1.160825              1.340652   \n",
       "1        Brown Ales             2.531959              2.790722   \n",
       "2         Dark Ales             1.138144              1.314433   \n",
       "3       Dark Lagers             1.270103              1.478351   \n",
       "4      Hybrid Beers             0.272165              0.343299   \n",
       "..              ...                  ...                   ...   \n",
       "70           Stouts             3.099291              3.978723   \n",
       "71      Strong Ales             3.567376              4.361702   \n",
       "72   Weird Cocktail             0.099291              0.212766   \n",
       "73      Wheat Beers             4.269504              5.226950   \n",
       "74  Wild/Sour Beers             0.191489              0.390071   \n",
       "\n",
       "    mean_first_ratings  CI_low_last_rating  CI_high_last_rating  \\\n",
       "0             1.247423            0.851546             1.019588   \n",
       "1             2.661856            1.975258             2.193814   \n",
       "2             1.224742            0.764948             0.915464   \n",
       "3             1.371134            0.723135             0.860825   \n",
       "4             0.307216            0.277320             0.347423   \n",
       "..                 ...                 ...                  ...   \n",
       "70            3.510638            4.730496             5.950355   \n",
       "71            3.950355            4.191489             5.212766   \n",
       "72            0.156028            0.007092             0.056738   \n",
       "73            4.744681            2.531915             3.290780   \n",
       "74            0.283688            1.485342             2.503546   \n",
       "\n",
       "    mean_last_ratings        t_test Cluster  \n",
       "0            0.932990  1.040049e-08     All  \n",
       "1            2.082474  9.232355e-14     All  \n",
       "2            0.837113  5.993624e-13     All  \n",
       "3            0.790722  8.970276e-25     All  \n",
       "4            0.312371  8.332273e-01     All  \n",
       "..                ...           ...     ...  \n",
       "70           5.297872  3.360124e-06       3  \n",
       "71           4.680851  2.355251e-02       3  \n",
       "72           0.028369  1.789359e-04       3  \n",
       "73           2.893617  2.932158e-09       3  \n",
       "74           1.900709  3.479107e-09       3  \n",
       "\n",
       "[75 rows x 9 columns]"
      ]
     },
     "execution_count": 481,
     "metadata": {},
     "output_type": "execute_result"
    }
   ],
   "source": [
    "df_conf_inter"
   ]
  },
  {
   "cell_type": "code",
   "execution_count": 482,
   "metadata": {},
   "outputs": [
    {
     "data": {
      "text/html": [
       "<div>\n",
       "<style scoped>\n",
       "    .dataframe tbody tr th:only-of-type {\n",
       "        vertical-align: middle;\n",
       "    }\n",
       "\n",
       "    .dataframe tbody tr th {\n",
       "        vertical-align: top;\n",
       "    }\n",
       "\n",
       "    .dataframe thead th {\n",
       "        text-align: right;\n",
       "    }\n",
       "</style>\n",
       "<table border=\"1\" class=\"dataframe\">\n",
       "  <thead>\n",
       "    <tr style=\"text-align: right;\">\n",
       "      <th></th>\n",
       "      <th>(CI_low_first_rating, 0)</th>\n",
       "      <th>(CI_low_first_rating, 1)</th>\n",
       "      <th>(CI_low_first_rating, 2)</th>\n",
       "      <th>(CI_low_first_rating, 3)</th>\n",
       "      <th>(CI_low_first_rating, All)</th>\n",
       "      <th>(CI_high_first_rating, 0)</th>\n",
       "      <th>(CI_high_first_rating, 1)</th>\n",
       "      <th>(CI_high_first_rating, 2)</th>\n",
       "      <th>(CI_high_first_rating, 3)</th>\n",
       "      <th>(CI_high_first_rating, All)</th>\n",
       "      <th>...</th>\n",
       "      <th>(mean_last_ratings, 0)</th>\n",
       "      <th>(mean_last_ratings, 1)</th>\n",
       "      <th>(mean_last_ratings, 2)</th>\n",
       "      <th>(mean_last_ratings, 3)</th>\n",
       "      <th>(mean_last_ratings, All)</th>\n",
       "      <th>(t_test, 0)</th>\n",
       "      <th>(t_test, 1)</th>\n",
       "      <th>(t_test, 2)</th>\n",
       "      <th>(t_test, 3)</th>\n",
       "      <th>(t_test, All)</th>\n",
       "    </tr>\n",
       "    <tr>\n",
       "      <th>Category</th>\n",
       "      <th></th>\n",
       "      <th></th>\n",
       "      <th></th>\n",
       "      <th></th>\n",
       "      <th></th>\n",
       "      <th></th>\n",
       "      <th></th>\n",
       "      <th></th>\n",
       "      <th></th>\n",
       "      <th></th>\n",
       "      <th></th>\n",
       "      <th></th>\n",
       "      <th></th>\n",
       "      <th></th>\n",
       "      <th></th>\n",
       "      <th></th>\n",
       "      <th></th>\n",
       "      <th></th>\n",
       "      <th></th>\n",
       "      <th></th>\n",
       "      <th></th>\n",
       "    </tr>\n",
       "  </thead>\n",
       "  <tbody>\n",
       "    <tr>\n",
       "      <th>Bocks</th>\n",
       "      <td>1.511450</td>\n",
       "      <td>0.497908</td>\n",
       "      <td>0.670051</td>\n",
       "      <td>1.524823</td>\n",
       "      <td>1.160825</td>\n",
       "      <td>1.824427</td>\n",
       "      <td>0.719665</td>\n",
       "      <td>0.964467</td>\n",
       "      <td>2.092199</td>\n",
       "      <td>1.340652</td>\n",
       "      <td>...</td>\n",
       "      <td>1.119593</td>\n",
       "      <td>0.531381</td>\n",
       "      <td>0.548223</td>\n",
       "      <td>1.631206</td>\n",
       "      <td>0.932990</td>\n",
       "      <td>1.208887e-08</td>\n",
       "      <td>3.781030e-01</td>\n",
       "      <td>2.002898e-03</td>\n",
       "      <td>4.189340e-01</td>\n",
       "      <td>1.040049e-08</td>\n",
       "    </tr>\n",
       "    <tr>\n",
       "      <th>Brown Ales</th>\n",
       "      <td>3.073791</td>\n",
       "      <td>1.548117</td>\n",
       "      <td>2.243655</td>\n",
       "      <td>2.404255</td>\n",
       "      <td>2.531959</td>\n",
       "      <td>3.482868</td>\n",
       "      <td>1.924686</td>\n",
       "      <td>2.837563</td>\n",
       "      <td>3.056738</td>\n",
       "      <td>2.790722</td>\n",
       "      <td>...</td>\n",
       "      <td>2.486005</td>\n",
       "      <td>1.263598</td>\n",
       "      <td>1.888325</td>\n",
       "      <td>2.617021</td>\n",
       "      <td>2.082474</td>\n",
       "      <td>2.137884e-09</td>\n",
       "      <td>1.907517e-04</td>\n",
       "      <td>2.793904e-04</td>\n",
       "      <td>6.209248e-01</td>\n",
       "      <td>9.232355e-14</td>\n",
       "    </tr>\n",
       "    <tr>\n",
       "      <th>Dark Ales</th>\n",
       "      <td>1.501272</td>\n",
       "      <td>0.506276</td>\n",
       "      <td>0.802030</td>\n",
       "      <td>1.198582</td>\n",
       "      <td>1.138144</td>\n",
       "      <td>1.806616</td>\n",
       "      <td>0.736402</td>\n",
       "      <td>1.157360</td>\n",
       "      <td>1.673759</td>\n",
       "      <td>1.314433</td>\n",
       "      <td>...</td>\n",
       "      <td>1.053435</td>\n",
       "      <td>0.451883</td>\n",
       "      <td>0.598985</td>\n",
       "      <td>1.219858</td>\n",
       "      <td>0.837113</td>\n",
       "      <td>5.835957e-10</td>\n",
       "      <td>2.379335e-02</td>\n",
       "      <td>3.711117e-04</td>\n",
       "      <td>2.220434e-01</td>\n",
       "      <td>5.993624e-13</td>\n",
       "    </tr>\n",
       "    <tr>\n",
       "      <th>Dark Lagers</th>\n",
       "      <td>1.396947</td>\n",
       "      <td>0.439331</td>\n",
       "      <td>0.497462</td>\n",
       "      <td>3.028369</td>\n",
       "      <td>1.270103</td>\n",
       "      <td>1.679389</td>\n",
       "      <td>0.665272</td>\n",
       "      <td>0.776650</td>\n",
       "      <td>3.666667</td>\n",
       "      <td>1.478351</td>\n",
       "      <td>...</td>\n",
       "      <td>0.923664</td>\n",
       "      <td>0.489540</td>\n",
       "      <td>0.548223</td>\n",
       "      <td>1.269504</td>\n",
       "      <td>0.790722</td>\n",
       "      <td>3.173409e-12</td>\n",
       "      <td>4.246688e-01</td>\n",
       "      <td>3.768791e-01</td>\n",
       "      <td>1.775291e-21</td>\n",
       "      <td>8.970276e-25</td>\n",
       "    </tr>\n",
       "    <tr>\n",
       "      <th>Hybrid Beers</th>\n",
       "      <td>0.282443</td>\n",
       "      <td>0.171548</td>\n",
       "      <td>0.208122</td>\n",
       "      <td>0.283688</td>\n",
       "      <td>0.272165</td>\n",
       "      <td>0.396947</td>\n",
       "      <td>0.301255</td>\n",
       "      <td>0.350254</td>\n",
       "      <td>0.496454</td>\n",
       "      <td>0.343299</td>\n",
       "      <td>...</td>\n",
       "      <td>0.391858</td>\n",
       "      <td>0.246862</td>\n",
       "      <td>0.243655</td>\n",
       "      <td>0.297872</td>\n",
       "      <td>0.312371</td>\n",
       "      <td>1.923022e-01</td>\n",
       "      <td>7.907089e-01</td>\n",
       "      <td>4.380984e-01</td>\n",
       "      <td>2.219053e-01</td>\n",
       "      <td>8.332273e-01</td>\n",
       "    </tr>\n",
       "    <tr>\n",
       "      <th>India Pale Ales</th>\n",
       "      <td>7.783715</td>\n",
       "      <td>22.158996</td>\n",
       "      <td>9.076142</td>\n",
       "      <td>2.843972</td>\n",
       "      <td>10.925773</td>\n",
       "      <td>8.597964</td>\n",
       "      <td>23.539749</td>\n",
       "      <td>10.619289</td>\n",
       "      <td>3.808511</td>\n",
       "      <td>11.961718</td>\n",
       "      <td>...</td>\n",
       "      <td>10.585242</td>\n",
       "      <td>16.163180</td>\n",
       "      <td>11.472081</td>\n",
       "      <td>10.148936</td>\n",
       "      <td>12.076289</td>\n",
       "      <td>2.641243e-14</td>\n",
       "      <td>4.386729e-28</td>\n",
       "      <td>2.334538e-03</td>\n",
       "      <td>1.859514e-24</td>\n",
       "      <td>1.467942e-02</td>\n",
       "    </tr>\n",
       "    <tr>\n",
       "      <th>Pale Ales</th>\n",
       "      <td>9.061069</td>\n",
       "      <td>7.058577</td>\n",
       "      <td>4.406091</td>\n",
       "      <td>7.205674</td>\n",
       "      <td>7.519588</td>\n",
       "      <td>9.765903</td>\n",
       "      <td>7.924686</td>\n",
       "      <td>5.121827</td>\n",
       "      <td>8.340426</td>\n",
       "      <td>7.986598</td>\n",
       "      <td>...</td>\n",
       "      <td>8.847328</td>\n",
       "      <td>8.142259</td>\n",
       "      <td>7.035533</td>\n",
       "      <td>9.510638</td>\n",
       "      <td>8.402062</td>\n",
       "      <td>1.484823e-02</td>\n",
       "      <td>3.506138e-02</td>\n",
       "      <td>1.019241e-13</td>\n",
       "      <td>7.017638e-06</td>\n",
       "      <td>1.559042e-05</td>\n",
       "    </tr>\n",
       "    <tr>\n",
       "      <th>Pale Lagers</th>\n",
       "      <td>3.620865</td>\n",
       "      <td>1.765690</td>\n",
       "      <td>1.106599</td>\n",
       "      <td>12.751773</td>\n",
       "      <td>4.009278</td>\n",
       "      <td>4.137405</td>\n",
       "      <td>2.292887</td>\n",
       "      <td>1.492386</td>\n",
       "      <td>14.631206</td>\n",
       "      <td>4.634021</td>\n",
       "      <td>...</td>\n",
       "      <td>3.287532</td>\n",
       "      <td>2.200837</td>\n",
       "      <td>1.634518</td>\n",
       "      <td>4.652482</td>\n",
       "      <td>2.882474</td>\n",
       "      <td>1.749565e-03</td>\n",
       "      <td>3.107862e-01</td>\n",
       "      <td>4.069664e-02</td>\n",
       "      <td>4.205912e-33</td>\n",
       "      <td>2.939323e-18</td>\n",
       "    </tr>\n",
       "    <tr>\n",
       "      <th>Porters</th>\n",
       "      <td>2.127226</td>\n",
       "      <td>1.188285</td>\n",
       "      <td>2.776650</td>\n",
       "      <td>1.326241</td>\n",
       "      <td>2.002062</td>\n",
       "      <td>2.482584</td>\n",
       "      <td>1.518828</td>\n",
       "      <td>3.421320</td>\n",
       "      <td>1.815603</td>\n",
       "      <td>2.237113</td>\n",
       "      <td>...</td>\n",
       "      <td>2.195929</td>\n",
       "      <td>1.962343</td>\n",
       "      <td>2.573604</td>\n",
       "      <td>2.163121</td>\n",
       "      <td>2.210309</td>\n",
       "      <td>3.696751e-01</td>\n",
       "      <td>8.027743e-06</td>\n",
       "      <td>3.606425e-03</td>\n",
       "      <td>3.062677e-03</td>\n",
       "      <td>2.196372e-01</td>\n",
       "    </tr>\n",
       "    <tr>\n",
       "      <th>Specialty Beer</th>\n",
       "      <td>1.562341</td>\n",
       "      <td>1.046025</td>\n",
       "      <td>1.131980</td>\n",
       "      <td>1.170213</td>\n",
       "      <td>1.378351</td>\n",
       "      <td>1.979644</td>\n",
       "      <td>1.430962</td>\n",
       "      <td>1.573604</td>\n",
       "      <td>1.723404</td>\n",
       "      <td>1.609278</td>\n",
       "      <td>...</td>\n",
       "      <td>1.689567</td>\n",
       "      <td>1.200837</td>\n",
       "      <td>1.477157</td>\n",
       "      <td>1.687943</td>\n",
       "      <td>1.525773</td>\n",
       "      <td>6.610042e-01</td>\n",
       "      <td>8.681132e-01</td>\n",
       "      <td>3.448733e-01</td>\n",
       "      <td>1.843903e-01</td>\n",
       "      <td>6.030390e-01</td>\n",
       "    </tr>\n",
       "    <tr>\n",
       "      <th>Stouts</th>\n",
       "      <td>4.854962</td>\n",
       "      <td>4.133891</td>\n",
       "      <td>14.467005</td>\n",
       "      <td>3.099291</td>\n",
       "      <td>6.446392</td>\n",
       "      <td>5.356234</td>\n",
       "      <td>4.983264</td>\n",
       "      <td>15.873096</td>\n",
       "      <td>3.978723</td>\n",
       "      <td>7.125773</td>\n",
       "      <td>...</td>\n",
       "      <td>6.193384</td>\n",
       "      <td>7.606695</td>\n",
       "      <td>10.192893</td>\n",
       "      <td>5.297872</td>\n",
       "      <td>7.223711</td>\n",
       "      <td>4.371458e-07</td>\n",
       "      <td>3.962554e-15</td>\n",
       "      <td>2.522035e-24</td>\n",
       "      <td>3.360124e-06</td>\n",
       "      <td>1.425922e-02</td>\n",
       "    </tr>\n",
       "    <tr>\n",
       "      <th>Strong Ales</th>\n",
       "      <td>5.793893</td>\n",
       "      <td>3.757322</td>\n",
       "      <td>5.675127</td>\n",
       "      <td>3.567376</td>\n",
       "      <td>5.110309</td>\n",
       "      <td>6.480916</td>\n",
       "      <td>4.405858</td>\n",
       "      <td>6.746193</td>\n",
       "      <td>4.361702</td>\n",
       "      <td>5.540206</td>\n",
       "      <td>...</td>\n",
       "      <td>5.394402</td>\n",
       "      <td>3.702929</td>\n",
       "      <td>5.121827</td>\n",
       "      <td>4.680851</td>\n",
       "      <td>4.818557</td>\n",
       "      <td>4.200627e-04</td>\n",
       "      <td>8.847073e-02</td>\n",
       "      <td>1.228024e-03</td>\n",
       "      <td>2.355251e-02</td>\n",
       "      <td>1.184995e-04</td>\n",
       "    </tr>\n",
       "    <tr>\n",
       "      <th>Weird Cocktail</th>\n",
       "      <td>0.040712</td>\n",
       "      <td>0.000000</td>\n",
       "      <td>0.040609</td>\n",
       "      <td>0.099291</td>\n",
       "      <td>0.050515</td>\n",
       "      <td>0.089059</td>\n",
       "      <td>0.029289</td>\n",
       "      <td>0.121827</td>\n",
       "      <td>0.212766</td>\n",
       "      <td>0.084536</td>\n",
       "      <td>...</td>\n",
       "      <td>0.035623</td>\n",
       "      <td>0.008368</td>\n",
       "      <td>0.005076</td>\n",
       "      <td>0.028369</td>\n",
       "      <td>0.021649</td>\n",
       "      <td>7.814855e-02</td>\n",
       "      <td>6.556682e-01</td>\n",
       "      <td>1.586148e-03</td>\n",
       "      <td>1.789359e-04</td>\n",
       "      <td>2.432629e-06</td>\n",
       "    </tr>\n",
       "    <tr>\n",
       "      <th>Wheat Beers</th>\n",
       "      <td>3.368957</td>\n",
       "      <td>1.669456</td>\n",
       "      <td>1.329949</td>\n",
       "      <td>4.269504</td>\n",
       "      <td>2.768041</td>\n",
       "      <td>3.918575</td>\n",
       "      <td>2.112971</td>\n",
       "      <td>1.828845</td>\n",
       "      <td>5.226950</td>\n",
       "      <td>3.102062</td>\n",
       "      <td>...</td>\n",
       "      <td>2.549618</td>\n",
       "      <td>1.824268</td>\n",
       "      <td>1.868020</td>\n",
       "      <td>2.893617</td>\n",
       "      <td>2.282474</td>\n",
       "      <td>5.528841e-11</td>\n",
       "      <td>7.104695e-01</td>\n",
       "      <td>5.151813e-02</td>\n",
       "      <td>2.932158e-09</td>\n",
       "      <td>8.487360e-12</td>\n",
       "    </tr>\n",
       "    <tr>\n",
       "      <th>Wild/Sour Beers</th>\n",
       "      <td>0.910941</td>\n",
       "      <td>0.677824</td>\n",
       "      <td>1.172589</td>\n",
       "      <td>0.191489</td>\n",
       "      <td>0.882474</td>\n",
       "      <td>1.343511</td>\n",
       "      <td>1.142259</td>\n",
       "      <td>1.913706</td>\n",
       "      <td>0.390071</td>\n",
       "      <td>1.144330</td>\n",
       "      <td>...</td>\n",
       "      <td>3.246819</td>\n",
       "      <td>4.205021</td>\n",
       "      <td>4.791878</td>\n",
       "      <td>1.900709</td>\n",
       "      <td>3.601031</td>\n",
       "      <td>6.180610e-26</td>\n",
       "      <td>5.285727e-27</td>\n",
       "      <td>3.957751e-23</td>\n",
       "      <td>3.479107e-09</td>\n",
       "      <td>4.314128e-79</td>\n",
       "    </tr>\n",
       "  </tbody>\n",
       "</table>\n",
       "<p>15 rows × 35 columns</p>\n",
       "</div>"
      ],
      "text/plain": [
       "                 (CI_low_first_rating, 0)  (CI_low_first_rating, 1)  \\\n",
       "Category                                                              \n",
       "Bocks                            1.511450                  0.497908   \n",
       "Brown Ales                       3.073791                  1.548117   \n",
       "Dark Ales                        1.501272                  0.506276   \n",
       "Dark Lagers                      1.396947                  0.439331   \n",
       "Hybrid Beers                     0.282443                  0.171548   \n",
       "India Pale Ales                  7.783715                 22.158996   \n",
       "Pale Ales                        9.061069                  7.058577   \n",
       "Pale Lagers                      3.620865                  1.765690   \n",
       "Porters                          2.127226                  1.188285   \n",
       "Specialty Beer                   1.562341                  1.046025   \n",
       "Stouts                           4.854962                  4.133891   \n",
       "Strong Ales                      5.793893                  3.757322   \n",
       "Weird Cocktail                   0.040712                  0.000000   \n",
       "Wheat Beers                      3.368957                  1.669456   \n",
       "Wild/Sour Beers                  0.910941                  0.677824   \n",
       "\n",
       "                 (CI_low_first_rating, 2)  (CI_low_first_rating, 3)  \\\n",
       "Category                                                              \n",
       "Bocks                            0.670051                  1.524823   \n",
       "Brown Ales                       2.243655                  2.404255   \n",
       "Dark Ales                        0.802030                  1.198582   \n",
       "Dark Lagers                      0.497462                  3.028369   \n",
       "Hybrid Beers                     0.208122                  0.283688   \n",
       "India Pale Ales                  9.076142                  2.843972   \n",
       "Pale Ales                        4.406091                  7.205674   \n",
       "Pale Lagers                      1.106599                 12.751773   \n",
       "Porters                          2.776650                  1.326241   \n",
       "Specialty Beer                   1.131980                  1.170213   \n",
       "Stouts                          14.467005                  3.099291   \n",
       "Strong Ales                      5.675127                  3.567376   \n",
       "Weird Cocktail                   0.040609                  0.099291   \n",
       "Wheat Beers                      1.329949                  4.269504   \n",
       "Wild/Sour Beers                  1.172589                  0.191489   \n",
       "\n",
       "                 (CI_low_first_rating, All)  (CI_high_first_rating, 0)  \\\n",
       "Category                                                                 \n",
       "Bocks                              1.160825                   1.824427   \n",
       "Brown Ales                         2.531959                   3.482868   \n",
       "Dark Ales                          1.138144                   1.806616   \n",
       "Dark Lagers                        1.270103                   1.679389   \n",
       "Hybrid Beers                       0.272165                   0.396947   \n",
       "India Pale Ales                   10.925773                   8.597964   \n",
       "Pale Ales                          7.519588                   9.765903   \n",
       "Pale Lagers                        4.009278                   4.137405   \n",
       "Porters                            2.002062                   2.482584   \n",
       "Specialty Beer                     1.378351                   1.979644   \n",
       "Stouts                             6.446392                   5.356234   \n",
       "Strong Ales                        5.110309                   6.480916   \n",
       "Weird Cocktail                     0.050515                   0.089059   \n",
       "Wheat Beers                        2.768041                   3.918575   \n",
       "Wild/Sour Beers                    0.882474                   1.343511   \n",
       "\n",
       "                 (CI_high_first_rating, 1)  (CI_high_first_rating, 2)  \\\n",
       "Category                                                                \n",
       "Bocks                             0.719665                   0.964467   \n",
       "Brown Ales                        1.924686                   2.837563   \n",
       "Dark Ales                         0.736402                   1.157360   \n",
       "Dark Lagers                       0.665272                   0.776650   \n",
       "Hybrid Beers                      0.301255                   0.350254   \n",
       "India Pale Ales                  23.539749                  10.619289   \n",
       "Pale Ales                         7.924686                   5.121827   \n",
       "Pale Lagers                       2.292887                   1.492386   \n",
       "Porters                           1.518828                   3.421320   \n",
       "Specialty Beer                    1.430962                   1.573604   \n",
       "Stouts                            4.983264                  15.873096   \n",
       "Strong Ales                       4.405858                   6.746193   \n",
       "Weird Cocktail                    0.029289                   0.121827   \n",
       "Wheat Beers                       2.112971                   1.828845   \n",
       "Wild/Sour Beers                   1.142259                   1.913706   \n",
       "\n",
       "                 (CI_high_first_rating, 3)  (CI_high_first_rating, All)  ...  \\\n",
       "Category                                                                 ...   \n",
       "Bocks                             2.092199                     1.340652  ...   \n",
       "Brown Ales                        3.056738                     2.790722  ...   \n",
       "Dark Ales                         1.673759                     1.314433  ...   \n",
       "Dark Lagers                       3.666667                     1.478351  ...   \n",
       "Hybrid Beers                      0.496454                     0.343299  ...   \n",
       "India Pale Ales                   3.808511                    11.961718  ...   \n",
       "Pale Ales                         8.340426                     7.986598  ...   \n",
       "Pale Lagers                      14.631206                     4.634021  ...   \n",
       "Porters                           1.815603                     2.237113  ...   \n",
       "Specialty Beer                    1.723404                     1.609278  ...   \n",
       "Stouts                            3.978723                     7.125773  ...   \n",
       "Strong Ales                       4.361702                     5.540206  ...   \n",
       "Weird Cocktail                    0.212766                     0.084536  ...   \n",
       "Wheat Beers                       5.226950                     3.102062  ...   \n",
       "Wild/Sour Beers                   0.390071                     1.144330  ...   \n",
       "\n",
       "                 (mean_last_ratings, 0)  (mean_last_ratings, 1)  \\\n",
       "Category                                                          \n",
       "Bocks                          1.119593                0.531381   \n",
       "Brown Ales                     2.486005                1.263598   \n",
       "Dark Ales                      1.053435                0.451883   \n",
       "Dark Lagers                    0.923664                0.489540   \n",
       "Hybrid Beers                   0.391858                0.246862   \n",
       "India Pale Ales               10.585242               16.163180   \n",
       "Pale Ales                      8.847328                8.142259   \n",
       "Pale Lagers                    3.287532                2.200837   \n",
       "Porters                        2.195929                1.962343   \n",
       "Specialty Beer                 1.689567                1.200837   \n",
       "Stouts                         6.193384                7.606695   \n",
       "Strong Ales                    5.394402                3.702929   \n",
       "Weird Cocktail                 0.035623                0.008368   \n",
       "Wheat Beers                    2.549618                1.824268   \n",
       "Wild/Sour Beers                3.246819                4.205021   \n",
       "\n",
       "                 (mean_last_ratings, 2)  (mean_last_ratings, 3)  \\\n",
       "Category                                                          \n",
       "Bocks                          0.548223                1.631206   \n",
       "Brown Ales                     1.888325                2.617021   \n",
       "Dark Ales                      0.598985                1.219858   \n",
       "Dark Lagers                    0.548223                1.269504   \n",
       "Hybrid Beers                   0.243655                0.297872   \n",
       "India Pale Ales               11.472081               10.148936   \n",
       "Pale Ales                      7.035533                9.510638   \n",
       "Pale Lagers                    1.634518                4.652482   \n",
       "Porters                        2.573604                2.163121   \n",
       "Specialty Beer                 1.477157                1.687943   \n",
       "Stouts                        10.192893                5.297872   \n",
       "Strong Ales                    5.121827                4.680851   \n",
       "Weird Cocktail                 0.005076                0.028369   \n",
       "Wheat Beers                    1.868020                2.893617   \n",
       "Wild/Sour Beers                4.791878                1.900709   \n",
       "\n",
       "                 (mean_last_ratings, All)   (t_test, 0)   (t_test, 1)  \\\n",
       "Category                                                                \n",
       "Bocks                            0.932990  1.208887e-08  3.781030e-01   \n",
       "Brown Ales                       2.082474  2.137884e-09  1.907517e-04   \n",
       "Dark Ales                        0.837113  5.835957e-10  2.379335e-02   \n",
       "Dark Lagers                      0.790722  3.173409e-12  4.246688e-01   \n",
       "Hybrid Beers                     0.312371  1.923022e-01  7.907089e-01   \n",
       "India Pale Ales                 12.076289  2.641243e-14  4.386729e-28   \n",
       "Pale Ales                        8.402062  1.484823e-02  3.506138e-02   \n",
       "Pale Lagers                      2.882474  1.749565e-03  3.107862e-01   \n",
       "Porters                          2.210309  3.696751e-01  8.027743e-06   \n",
       "Specialty Beer                   1.525773  6.610042e-01  8.681132e-01   \n",
       "Stouts                           7.223711  4.371458e-07  3.962554e-15   \n",
       "Strong Ales                      4.818557  4.200627e-04  8.847073e-02   \n",
       "Weird Cocktail                   0.021649  7.814855e-02  6.556682e-01   \n",
       "Wheat Beers                      2.282474  5.528841e-11  7.104695e-01   \n",
       "Wild/Sour Beers                  3.601031  6.180610e-26  5.285727e-27   \n",
       "\n",
       "                  (t_test, 2)   (t_test, 3)  (t_test, All)  \n",
       "Category                                                    \n",
       "Bocks            2.002898e-03  4.189340e-01   1.040049e-08  \n",
       "Brown Ales       2.793904e-04  6.209248e-01   9.232355e-14  \n",
       "Dark Ales        3.711117e-04  2.220434e-01   5.993624e-13  \n",
       "Dark Lagers      3.768791e-01  1.775291e-21   8.970276e-25  \n",
       "Hybrid Beers     4.380984e-01  2.219053e-01   8.332273e-01  \n",
       "India Pale Ales  2.334538e-03  1.859514e-24   1.467942e-02  \n",
       "Pale Ales        1.019241e-13  7.017638e-06   1.559042e-05  \n",
       "Pale Lagers      4.069664e-02  4.205912e-33   2.939323e-18  \n",
       "Porters          3.606425e-03  3.062677e-03   2.196372e-01  \n",
       "Specialty Beer   3.448733e-01  1.843903e-01   6.030390e-01  \n",
       "Stouts           2.522035e-24  3.360124e-06   1.425922e-02  \n",
       "Strong Ales      1.228024e-03  2.355251e-02   1.184995e-04  \n",
       "Weird Cocktail   1.586148e-03  1.789359e-04   2.432629e-06  \n",
       "Wheat Beers      5.151813e-02  2.932158e-09   8.487360e-12  \n",
       "Wild/Sour Beers  3.957751e-23  3.479107e-09   4.314128e-79  \n",
       "\n",
       "[15 rows x 35 columns]"
      ]
     },
     "execution_count": 482,
     "metadata": {},
     "output_type": "execute_result"
    }
   ],
   "source": [
    "df_pivot = df_conf_inter.pivot(index='Category', columns='Cluster')\n",
    "df_pivot.columns = df_pivot.columns.to_flat_index()\n",
    "df_pivot"
   ]
  },
  {
   "cell_type": "code",
   "execution_count": 483,
   "metadata": {},
   "outputs": [
    {
     "data": {
      "text/plain": [
       "Index([     ('CI_low_first_rating', 0),      ('CI_low_first_rating', 1),\n",
       "            ('CI_low_first_rating', 2),      ('CI_low_first_rating', 3),\n",
       "        ('CI_low_first_rating', 'All'),     ('CI_high_first_rating', 0),\n",
       "           ('CI_high_first_rating', 1),     ('CI_high_first_rating', 2),\n",
       "           ('CI_high_first_rating', 3), ('CI_high_first_rating', 'All'),\n",
       "             ('mean_first_ratings', 0),       ('mean_first_ratings', 1),\n",
       "             ('mean_first_ratings', 2),       ('mean_first_ratings', 3),\n",
       "         ('mean_first_ratings', 'All'),       ('CI_low_last_rating', 0),\n",
       "             ('CI_low_last_rating', 1),       ('CI_low_last_rating', 2),\n",
       "             ('CI_low_last_rating', 3),   ('CI_low_last_rating', 'All'),\n",
       "            ('CI_high_last_rating', 0),      ('CI_high_last_rating', 1),\n",
       "            ('CI_high_last_rating', 2),      ('CI_high_last_rating', 3),\n",
       "        ('CI_high_last_rating', 'All'),        ('mean_last_ratings', 0),\n",
       "              ('mean_last_ratings', 1),        ('mean_last_ratings', 2),\n",
       "              ('mean_last_ratings', 3),    ('mean_last_ratings', 'All'),\n",
       "                         ('t_test', 0),                   ('t_test', 1),\n",
       "                         ('t_test', 2),                   ('t_test', 3),\n",
       "                     ('t_test', 'All')],\n",
       "      dtype='object')"
      ]
     },
     "execution_count": 483,
     "metadata": {},
     "output_type": "execute_result"
    }
   ],
   "source": [
    "df_pivot.columns"
   ]
  },
  {
   "cell_type": "code",
   "execution_count": 484,
   "metadata": {},
   "outputs": [],
   "source": [
    "df_means = df_pivot.iloc[:,10:15]"
   ]
  },
  {
   "cell_type": "code",
   "execution_count": null,
   "metadata": {},
   "outputs": [],
   "source": []
  },
  {
   "cell_type": "code",
   "execution_count": 485,
   "metadata": {},
   "outputs": [],
   "source": [
    "# mean_user = pd.DataFrame()\n",
    "\n",
    "# #Cluster 0\n",
    "\n",
    "# cluster_0 = user_to_cat_first[user_to_cat_first[\"first_50_cluster\"] == 0] #/!\\ the number will vary depending on the Kmeans init\n",
    "# cluster_0.drop(columns = \"first_50_cluster\", inplace = True)\n",
    "# #add the average number of beer rated during the FIRST 50 rarings of the cluster 0\n",
    "# mean_user[\"first_50_0\"] = cluster_0.mean()\n",
    "# mean_user = mean_user.reset_index(level=0) #makes the category a column rather than the index\n",
    "# #add the average number of beer rated during the LAST 50 rarings of the cluster 0\n",
    "# mean_user[\"last_50_0\"] = user_to_cat_last[user_to_cat_last.index.isin(cluster_0.index)].mean().values\n",
    "\n",
    "# #Cluster 1\n",
    "# cluster_1 = user_to_cat_first[user_to_cat_first[\"first_50_cluster\"] == 1]#/!\\ the number will vary depending on the Kmeans init\n",
    "# cluster_1.drop(columns = \"first_50_cluster\", inplace = True)\n",
    "# #add the average number of beer rated during the FIRST 50 rarings of the cluster 1\n",
    "# #print(stout_lovers.mean())\n",
    "# mean_user[\"first_50_1\"] = cluster_1.mean().values\n",
    "# #add the average number of beer rated during the LAST 50 rarings of the cluster 1\n",
    "# mean_user[\"last_50_1\"] =  user_to_cat_last[user_to_cat_last.index.isin(cluster_1.index)].mean().values\n",
    "\n",
    "# #Cluster 2\n",
    "# cluster_2 = user_to_cat_first[user_to_cat_first[\"first_50_cluster\"] == 2]#/!\\ the number will vary depending on the Kmeans init\n",
    "# cluster_2.drop(columns = \"first_50_cluster\", inplace = True)\n",
    "# #add the average number of beer rated during the FIRST 50 ratings of the cluster 2\n",
    "# mean_user[\"first_50_2\"] = cluster_2.mean().values\n",
    "# #add the average number of beer rated during the LAST 50 rarings of the cluster 2\n",
    "# mean_user[\"last_50_2\"] =  user_to_cat_last[user_to_cat_last.index.isin(cluster_2.index)].mean().values\n",
    "\n",
    "# #Cluster 3\n",
    "# cluster_3 = user_to_cat_first[user_to_cat_first[\"first_50_cluster\"] == 3]#/!\\ the number will vary depending on the Kmeans init\n",
    "# cluster_3.drop(columns = \"first_50_cluster\", inplace = True)\n",
    "# #add the average number of beer rated during the FIRST 50 ratings of the cluster 3\n",
    "# mean_user[\"first_50_3\"] = cluster_3.mean().values\n",
    "# #add the average number of beer rated during the LAST 50 rarings of the cluster 3\n",
    "# mean_user[\"last_50_3\"] =  user_to_cat_last[user_to_cat_last.index.isin(cluster_3.index)].mean().values\n",
    "# mean_user\n",
    "\n",
    "# #ALL TOGETHER\n",
    "# mean_user[\"all_first_50\"] = mean_user[[\"first_50_0\", \"first_50_1\", \"first_50_2\", \"first_50_3\"]].mean(axis=1)\n",
    "# mean_user[\"all_last_50\"] = mean_user[[\"last_50_0\", \"last_50_1\", \"last_50_2\", \"last_50_3\"]].mean(axis=1)"
   ]
  },
  {
   "cell_type": "code",
   "execution_count": 486,
   "metadata": {},
   "outputs": [],
   "source": [
    "#defined above\n",
    "\n",
    "# ipa_col = (df_means.loc['India Pale Ales',:]).argmax()\n",
    "# stout_col = (df_means.loc['Stouts',:]).argmax()\n",
    "# pale_col = (df_means.loc['Pale Lagers',:]).argmax()\n",
    "\n",
    "# possible_indices = [0,1,2,3] #column indices\n",
    "# expl_col = sum(possible_indices) - (ipa_col + stout_col + pale_col)\n",
    "\n",
    "# mapping = {'All' : 4, 'Jean-Michel IPA' : ipa_col, 'Marcel Stout' : stout_col, \n",
    "#            'James Bland' : pale_col, 'Ada the explorer' : expl_col}\n",
    "# reverse_mapping ={ values:key for key, values in mapping.items()}\n",
    "\n",
    "\n"
   ]
  },
  {
   "cell_type": "code",
   "execution_count": 487,
   "metadata": {},
   "outputs": [
    {
     "data": {
      "application/vnd.plotly.v1+json": {
       "config": {
        "plotlyServerURL": "https://plot.ly"
       },
       "data": [
        {
         "line": {
          "color": "rgb(239,85,59)"
         },
         "mode": "lines",
         "name": "last 50 beers",
         "showlegend": true,
         "type": "scatter",
         "visible": true,
         "x": [
          "Bocks",
          "Brown Ales",
          "Dark Ales",
          "Dark Lagers",
          "Hybrid Beers",
          "India Pale Ales",
          "Pale Ales",
          "Pale Lagers",
          "Porters",
          "Specialty Beer",
          "Stouts",
          "Strong Ales",
          "Weird Cocktail",
          "Wheat Beers",
          "Wild/Sour Beers"
         ],
         "y": [
          0.9329896907216495,
          2.082474226804124,
          0.8371134020618557,
          0.790721649484536,
          0.31237113402061856,
          12.076288659793814,
          8.402061855670103,
          2.8824742268041237,
          2.2103092783505156,
          1.5257731958762886,
          7.223711340206186,
          4.818556701030928,
          0.021649484536082474,
          2.2824742268041236,
          3.6010309278350516
         ]
        },
        {
         "fillcolor": "rgba(239,85,59,0.3)",
         "line": {
          "width": 0
         },
         "mode": "lines",
         "name": "first, CI Low",
         "showlegend": false,
         "type": "scatter",
         "visible": true,
         "x": [
          "Bocks",
          "Brown Ales",
          "Dark Ales",
          "Dark Lagers",
          "Hybrid Beers",
          "India Pale Ales",
          "Pale Ales",
          "Pale Lagers",
          "Porters",
          "Specialty Beer",
          "Stouts",
          "Strong Ales",
          "Weird Cocktail",
          "Wheat Beers",
          "Wild/Sour Beers"
         ],
         "y": [
          0.8515463917525773,
          1.975257731958763,
          0.7649484536082474,
          0.7231347519968105,
          0.277319587628866,
          11.643298969072164,
          8.158762886597938,
          2.6989690721649486,
          2.1019937641182063,
          1.4195876288659794,
          6.922053576672007,
          4.621649484536082,
          0.013402061855670102,
          2.1577319587628865,
          3.3484536082474228
         ]
        },
        {
         "fill": "tonexty",
         "fillcolor": "rgba(239,85,59,0.3)",
         "line": {
          "width": 0
         },
         "mode": "lines",
         "name": "first, CI high",
         "showlegend": false,
         "type": "scatter",
         "visible": true,
         "x": [
          "Bocks",
          "Brown Ales",
          "Dark Ales",
          "Dark Lagers",
          "Hybrid Beers",
          "India Pale Ales",
          "Pale Ales",
          "Pale Lagers",
          "Porters",
          "Specialty Beer",
          "Stouts",
          "Strong Ales",
          "Weird Cocktail",
          "Wheat Beers",
          "Wild/Sour Beers"
         ],
         "y": [
          1.0195876288659793,
          2.193814432989691,
          0.9154639175257732,
          0.8608247422680413,
          0.3474226804123711,
          12.518556701030928,
          8.652577319587628,
          3.08659793814433,
          2.3195876288659796,
          1.6443298969072164,
          7.542006184248448,
          5.032989690721649,
          0.030927835051546393,
          2.4123711340206184,
          3.877319587628866
         ]
        },
        {
         "line": {
          "color": "rgb(0,204,150)"
         },
         "mode": "lines",
         "name": "first 50 beers",
         "showlegend": true,
         "type": "scatter",
         "visible": true,
         "x": [
          "Bocks",
          "Brown Ales",
          "Dark Ales",
          "Dark Lagers",
          "Hybrid Beers",
          "India Pale Ales",
          "Pale Ales",
          "Pale Lagers",
          "Porters",
          "Specialty Beer",
          "Stouts",
          "Strong Ales",
          "Weird Cocktail",
          "Wheat Beers",
          "Wild/Sour Beers"
         ],
         "y": [
          1.2474226804123711,
          2.6618556701030927,
          1.2247422680412372,
          1.3711340206185567,
          0.30721649484536084,
          11.427835051546392,
          7.752577319587629,
          4.309278350515464,
          2.118556701030928,
          1.48659793814433,
          6.77319587628866,
          5.315463917525773,
          0.06701030927835051,
          2.936082474226804,
          1.0010309278350515
         ]
        },
        {
         "fillcolor": "rgba(0,204,150,0.3)",
         "line": {
          "width": 0
         },
         "mode": "lines",
         "name": "first, CI Low",
         "showlegend": false,
         "type": "scatter",
         "visible": true,
         "x": [
          "Bocks",
          "Brown Ales",
          "Dark Ales",
          "Dark Lagers",
          "Hybrid Beers",
          "India Pale Ales",
          "Pale Ales",
          "Pale Lagers",
          "Porters",
          "Specialty Beer",
          "Stouts",
          "Strong Ales",
          "Weird Cocktail",
          "Wheat Beers",
          "Wild/Sour Beers"
         ],
         "y": [
          1.1608247422680413,
          2.531958762886598,
          1.1381443298969072,
          1.270103092783505,
          0.2721649484536082,
          10.925773195876289,
          7.519587628865979,
          4.009278350515464,
          2.002061855670103,
          1.3783505154639175,
          6.44639175257732,
          5.110309278350515,
          0.050515463917525774,
          2.768041237113402,
          0.8824742268041237
         ]
        },
        {
         "fill": "tonexty",
         "fillcolor": "rgba(0,204,150,0.3)",
         "line": {
          "width": 0
         },
         "mode": "lines",
         "name": "first, CI High",
         "showlegend": false,
         "type": "scatter",
         "visible": true,
         "x": [
          "Bocks",
          "Brown Ales",
          "Dark Ales",
          "Dark Lagers",
          "Hybrid Beers",
          "India Pale Ales",
          "Pale Ales",
          "Pale Lagers",
          "Porters",
          "Specialty Beer",
          "Stouts",
          "Strong Ales",
          "Weird Cocktail",
          "Wheat Beers",
          "Wild/Sour Beers"
         ],
         "y": [
          1.3406520925012673,
          2.790721649484536,
          1.3144329896907216,
          1.4783505154639176,
          0.34329896907216495,
          11.961718401454036,
          7.98659793814433,
          4.634020618556701,
          2.2371134020618557,
          1.609278350515464,
          7.125773195876289,
          5.54020618556701,
          0.08453608247422681,
          3.102061855670103,
          1.1443298969072164
         ]
        },
        {
         "line": {
          "color": "rgb(239,85,59)"
         },
         "mode": "lines",
         "name": "last 50 beers",
         "showlegend": true,
         "type": "scatter",
         "visible": false,
         "x": [
          "Bocks",
          "Brown Ales",
          "Dark Ales",
          "Dark Lagers",
          "Hybrid Beers",
          "India Pale Ales",
          "Pale Ales",
          "Pale Lagers",
          "Porters",
          "Specialty Beer",
          "Stouts",
          "Strong Ales",
          "Weird Cocktail",
          "Wheat Beers",
          "Wild/Sour Beers"
         ],
         "y": [
          0.5313807531380753,
          1.2635983263598327,
          0.45188284518828453,
          0.4895397489539749,
          0.24686192468619247,
          16.16317991631799,
          8.142259414225942,
          2.200836820083682,
          1.9623430962343096,
          1.200836820083682,
          7.606694560669456,
          3.702928870292887,
          0.008368200836820083,
          1.8242677824267783,
          4.205020920502092
         ]
        },
        {
         "fillcolor": "rgba(239,85,59,0.3)",
         "line": {
          "width": 0
         },
         "mode": "lines",
         "name": "first, CI Low",
         "showlegend": false,
         "type": "scatter",
         "visible": false,
         "x": [
          "Bocks",
          "Brown Ales",
          "Dark Ales",
          "Dark Lagers",
          "Hybrid Beers",
          "India Pale Ales",
          "Pale Ales",
          "Pale Lagers",
          "Porters",
          "Specialty Beer",
          "Stouts",
          "Strong Ales",
          "Weird Cocktail",
          "Wheat Beers",
          "Wild/Sour Beers"
         ],
         "y": [
          0.41841004184100417,
          1.104602510460251,
          0.35564853556485354,
          0.39330543933054396,
          0.18410041841004185,
          15.234309623430962,
          7.657621792673643,
          1.9079497907949792,
          1.7615062761506277,
          1.0334728033472804,
          6.958158995815899,
          3.3682008368200838,
          0,
          1.6192468619246863,
          3.715481171548117
         ]
        },
        {
         "fill": "tonexty",
         "fillcolor": "rgba(239,85,59,0.3)",
         "line": {
          "width": 0
         },
         "mode": "lines",
         "name": "first, CI high",
         "showlegend": false,
         "type": "scatter",
         "visible": false,
         "x": [
          "Bocks",
          "Brown Ales",
          "Dark Ales",
          "Dark Lagers",
          "Hybrid Beers",
          "India Pale Ales",
          "Pale Ales",
          "Pale Lagers",
          "Porters",
          "Specialty Beer",
          "Stouts",
          "Strong Ales",
          "Weird Cocktail",
          "Wheat Beers",
          "Wild/Sour Beers"
         ],
         "y": [
          0.6652719665271967,
          1.4309623430962344,
          0.5690376569037657,
          0.5941422594142259,
          0.30962343096234307,
          17.16317991631799,
          8.644351464435147,
          2.5397489539748954,
          2.1841004184100417,
          1.383618345596656,
          8.326359832635983,
          4.062761506276151,
          0.02092050209205021,
          2.066945606694561,
          4.7782426778242675
         ]
        },
        {
         "line": {
          "color": "rgb(0,204,150)"
         },
         "mode": "lines",
         "name": "first 50 beers",
         "showlegend": true,
         "type": "scatter",
         "visible": false,
         "x": [
          "Bocks",
          "Brown Ales",
          "Dark Ales",
          "Dark Lagers",
          "Hybrid Beers",
          "India Pale Ales",
          "Pale Ales",
          "Pale Lagers",
          "Porters",
          "Specialty Beer",
          "Stouts",
          "Strong Ales",
          "Weird Cocktail",
          "Wheat Beers",
          "Wild/Sour Beers"
         ],
         "y": [
          0.5983263598326359,
          1.7322175732217573,
          0.6150627615062761,
          0.5481171548117155,
          0.23430962343096234,
          22.832635983263597,
          7.468619246861925,
          2.01255230125523,
          1.3514644351464435,
          1.2217573221757323,
          4.556485355648536,
          4.075313807531381,
          0.012552301255230125,
          1.8786610878661087,
          0.8619246861924686
         ]
        },
        {
         "fillcolor": "rgba(0,204,150,0.3)",
         "line": {
          "width": 0
         },
         "mode": "lines",
         "name": "first, CI Low",
         "showlegend": false,
         "type": "scatter",
         "visible": false,
         "x": [
          "Bocks",
          "Brown Ales",
          "Dark Ales",
          "Dark Lagers",
          "Hybrid Beers",
          "India Pale Ales",
          "Pale Ales",
          "Pale Lagers",
          "Porters",
          "Specialty Beer",
          "Stouts",
          "Strong Ales",
          "Weird Cocktail",
          "Wheat Beers",
          "Wild/Sour Beers"
         ],
         "y": [
          0.497907949790795,
          1.5481171548117154,
          0.5062761506276151,
          0.4393305439330544,
          0.17154811715481172,
          22.15899581589958,
          7.058577405857741,
          1.7656903765690377,
          1.1882845188284519,
          1.0460251046025104,
          4.133891213389122,
          3.7573221757322175,
          0,
          1.6694560669456067,
          0.6778242677824268
         ]
        },
        {
         "fill": "tonexty",
         "fillcolor": "rgba(0,204,150,0.3)",
         "line": {
          "width": 0
         },
         "mode": "lines",
         "name": "first, CI High",
         "showlegend": false,
         "type": "scatter",
         "visible": false,
         "x": [
          "Bocks",
          "Brown Ales",
          "Dark Ales",
          "Dark Lagers",
          "Hybrid Beers",
          "India Pale Ales",
          "Pale Ales",
          "Pale Lagers",
          "Porters",
          "Specialty Beer",
          "Stouts",
          "Strong Ales",
          "Weird Cocktail",
          "Wheat Beers",
          "Wild/Sour Beers"
         ],
         "y": [
          0.7196652719665272,
          1.9246861924686192,
          0.7364016736401674,
          0.6652719665271967,
          0.301255230125523,
          23.539748953974897,
          7.924686192468619,
          2.292887029288703,
          1.5188284518828452,
          1.4309623430962344,
          4.98326359832636,
          4.405857740585774,
          0.029288702928870293,
          2.1129707112970713,
          1.1422594142259415
         ]
        },
        {
         "line": {
          "color": "rgb(239,85,59)"
         },
         "mode": "lines",
         "name": "last 50 beers",
         "showlegend": true,
         "type": "scatter",
         "visible": false,
         "x": [
          "Bocks",
          "Brown Ales",
          "Dark Ales",
          "Dark Lagers",
          "Hybrid Beers",
          "India Pale Ales",
          "Pale Ales",
          "Pale Lagers",
          "Porters",
          "Specialty Beer",
          "Stouts",
          "Strong Ales",
          "Weird Cocktail",
          "Wheat Beers",
          "Wild/Sour Beers"
         ],
         "y": [
          0.5482233502538071,
          1.8883248730964468,
          0.5989847715736041,
          0.5482233502538071,
          0.2436548223350254,
          11.472081218274111,
          7.035532994923858,
          1.634517766497462,
          2.5736040609137056,
          1.4771573604060915,
          10.192893401015228,
          5.121827411167513,
          0.005076142131979695,
          1.868020304568528,
          4.791878172588833
         ]
        },
        {
         "fillcolor": "rgba(239,85,59,0.3)",
         "line": {
          "width": 0
         },
         "mode": "lines",
         "name": "first, CI Low",
         "showlegend": false,
         "type": "scatter",
         "visible": false,
         "x": [
          "Bocks",
          "Brown Ales",
          "Dark Ales",
          "Dark Lagers",
          "Hybrid Beers",
          "India Pale Ales",
          "Pale Ales",
          "Pale Lagers",
          "Porters",
          "Specialty Beer",
          "Stouts",
          "Strong Ales",
          "Weird Cocktail",
          "Wheat Beers",
          "Wild/Sour Beers"
         ],
         "y": [
          0.4365482233502538,
          1.6649746192893402,
          0.47715736040609136,
          0.43147208121827413,
          0.17258883248730963,
          10.680568907151319,
          6.573636988974547,
          1.3604060913705585,
          2.3248730964467006,
          1.2588832487309645,
          9.487082887901751,
          4.654822335025381,
          0,
          1.6395939086294415,
          4.192893401015229
         ]
        },
        {
         "fill": "tonexty",
         "fillcolor": "rgba(239,85,59,0.3)",
         "line": {
          "width": 0
         },
         "mode": "lines",
         "name": "first, CI high",
         "showlegend": false,
         "type": "scatter",
         "visible": false,
         "x": [
          "Bocks",
          "Brown Ales",
          "Dark Ales",
          "Dark Lagers",
          "Hybrid Beers",
          "India Pale Ales",
          "Pale Ales",
          "Pale Lagers",
          "Porters",
          "Specialty Beer",
          "Stouts",
          "Strong Ales",
          "Weird Cocktail",
          "Wheat Beers",
          "Wild/Sour Beers"
         ],
         "y": [
          0.6751269035532995,
          2.1421319796954315,
          0.7309644670050761,
          0.6903553299492385,
          0.3096446700507614,
          12.360406091370558,
          7.49746192893401,
          1.9543147208121827,
          2.83248730964467,
          1.7411167512690355,
          10.974619289340101,
          5.644670050761421,
          0.015228426395939087,
          2.1116751269035534,
          5.482233502538071
         ]
        },
        {
         "line": {
          "color": "rgb(0,204,150)"
         },
         "mode": "lines",
         "name": "first 50 beers",
         "showlegend": true,
         "type": "scatter",
         "visible": false,
         "x": [
          "Bocks",
          "Brown Ales",
          "Dark Ales",
          "Dark Lagers",
          "Hybrid Beers",
          "India Pale Ales",
          "Pale Ales",
          "Pale Lagers",
          "Porters",
          "Specialty Beer",
          "Stouts",
          "Strong Ales",
          "Weird Cocktail",
          "Wheat Beers",
          "Wild/Sour Beers"
         ],
         "y": [
          0.8121827411167513,
          2.527918781725888,
          0.9695431472081218,
          0.6294416243654822,
          0.27918781725888325,
          9.873096446700508,
          4.766497461928934,
          1.2944162436548223,
          3.0862944162436547,
          1.3350253807106598,
          15.121827411167512,
          6.182741116751269,
          0.07614213197969544,
          1.5482233502538072,
          1.49746192893401
         ]
        },
        {
         "fillcolor": "rgba(0,204,150,0.3)",
         "line": {
          "width": 0
         },
         "mode": "lines",
         "name": "first, CI Low",
         "showlegend": false,
         "type": "scatter",
         "visible": false,
         "x": [
          "Bocks",
          "Brown Ales",
          "Dark Ales",
          "Dark Lagers",
          "Hybrid Beers",
          "India Pale Ales",
          "Pale Ales",
          "Pale Lagers",
          "Porters",
          "Specialty Beer",
          "Stouts",
          "Strong Ales",
          "Weird Cocktail",
          "Wheat Beers",
          "Wild/Sour Beers"
         ],
         "y": [
          0.6700507614213198,
          2.2436548223350252,
          0.8020304568527918,
          0.49746192893401014,
          0.20812182741116753,
          9.076142131979696,
          4.406091370558376,
          1.1065989847715736,
          2.7766497461928936,
          1.131979695431472,
          14.467005076142131,
          5.675126903553299,
          0.04060913705583756,
          1.3299492385786802,
          1.1725888324873097
         ]
        },
        {
         "fill": "tonexty",
         "fillcolor": "rgba(0,204,150,0.3)",
         "line": {
          "width": 0
         },
         "mode": "lines",
         "name": "first, CI High",
         "showlegend": false,
         "type": "scatter",
         "visible": false,
         "x": [
          "Bocks",
          "Brown Ales",
          "Dark Ales",
          "Dark Lagers",
          "Hybrid Beers",
          "India Pale Ales",
          "Pale Ales",
          "Pale Lagers",
          "Porters",
          "Specialty Beer",
          "Stouts",
          "Strong Ales",
          "Weird Cocktail",
          "Wheat Beers",
          "Wild/Sour Beers"
         ],
         "y": [
          0.9644670050761421,
          2.8375634517766497,
          1.1573604060913705,
          0.7766497461928934,
          0.350253807106599,
          10.619289340101522,
          5.121827411167513,
          1.4923857868020305,
          3.4213197969543145,
          1.5736040609137056,
          15.873096446700508,
          6.746192893401015,
          0.1218274111675127,
          1.8288447665877703,
          1.9137055837563453
         ]
        },
        {
         "line": {
          "color": "rgb(239,85,59)"
         },
         "mode": "lines",
         "name": "last 50 beers",
         "showlegend": true,
         "type": "scatter",
         "visible": false,
         "x": [
          "Bocks",
          "Brown Ales",
          "Dark Ales",
          "Dark Lagers",
          "Hybrid Beers",
          "India Pale Ales",
          "Pale Ales",
          "Pale Lagers",
          "Porters",
          "Specialty Beer",
          "Stouts",
          "Strong Ales",
          "Weird Cocktail",
          "Wheat Beers",
          "Wild/Sour Beers"
         ],
         "y": [
          1.6312056737588652,
          2.617021276595745,
          1.2198581560283688,
          1.2695035460992907,
          0.2978723404255319,
          10.148936170212766,
          9.51063829787234,
          4.652482269503546,
          2.1631205673758864,
          1.6879432624113475,
          5.297872340425532,
          4.680851063829787,
          0.028368794326241134,
          2.893617021276596,
          1.900709219858156
         ]
        },
        {
         "fillcolor": "rgba(239,85,59,0.3)",
         "line": {
          "width": 0
         },
         "mode": "lines",
         "name": "first, CI Low",
         "showlegend": false,
         "type": "scatter",
         "visible": false,
         "x": [
          "Bocks",
          "Brown Ales",
          "Dark Ales",
          "Dark Lagers",
          "Hybrid Beers",
          "India Pale Ales",
          "Pale Ales",
          "Pale Lagers",
          "Porters",
          "Specialty Beer",
          "Stouts",
          "Strong Ales",
          "Weird Cocktail",
          "Wheat Beers",
          "Wild/Sour Beers"
         ],
         "y": [
          1.3404255319148937,
          2.326241134751773,
          0.9929078014184397,
          1.0638297872340425,
          0.20567375886524822,
          9.099290780141844,
          8.929078014184396,
          4.078014184397163,
          1.8794326241134751,
          1.3829787234042554,
          4.7304964539007095,
          4.191489361702128,
          0.0070921985815602835,
          2.5319148936170213,
          1.4853423203300082
         ]
        },
        {
         "fill": "tonexty",
         "fillcolor": "rgba(239,85,59,0.3)",
         "line": {
          "width": 0
         },
         "mode": "lines",
         "name": "first, CI high",
         "showlegend": false,
         "type": "scatter",
         "visible": false,
         "x": [
          "Bocks",
          "Brown Ales",
          "Dark Ales",
          "Dark Lagers",
          "Hybrid Beers",
          "India Pale Ales",
          "Pale Ales",
          "Pale Lagers",
          "Porters",
          "Specialty Beer",
          "Stouts",
          "Strong Ales",
          "Weird Cocktail",
          "Wheat Beers",
          "Wild/Sour Beers"
         ],
         "y": [
          1.9929078014184398,
          2.9148936170212765,
          1.475177304964539,
          1.49645390070922,
          0.3971631205673759,
          11.347517730496454,
          10.156028368794326,
          5.304964539007092,
          2.4609929078014185,
          2.1347517730496453,
          5.950354609929078,
          5.212765957446808,
          0.05673758865248227,
          3.2907801418439715,
          2.50354609929078
         ]
        },
        {
         "line": {
          "color": "rgb(0,204,150)"
         },
         "mode": "lines",
         "name": "first 50 beers",
         "showlegend": true,
         "type": "scatter",
         "visible": false,
         "x": [
          "Bocks",
          "Brown Ales",
          "Dark Ales",
          "Dark Lagers",
          "Hybrid Beers",
          "India Pale Ales",
          "Pale Ales",
          "Pale Lagers",
          "Porters",
          "Specialty Beer",
          "Stouts",
          "Strong Ales",
          "Weird Cocktail",
          "Wheat Beers",
          "Wild/Sour Beers"
         ],
         "y": [
          1.7943262411347518,
          2.723404255319149,
          1.425531914893617,
          3.347517730496454,
          0.3829787234042553,
          3.297872340425532,
          7.780141843971631,
          13.624113475177305,
          1.5602836879432624,
          1.4184397163120568,
          3.5106382978723403,
          3.950354609929078,
          0.15602836879432624,
          4.74468085106383,
          0.28368794326241137
         ]
        },
        {
         "fillcolor": "rgba(0,204,150,0.3)",
         "line": {
          "width": 0
         },
         "mode": "lines",
         "name": "first, CI Low",
         "showlegend": false,
         "type": "scatter",
         "visible": false,
         "x": [
          "Bocks",
          "Brown Ales",
          "Dark Ales",
          "Dark Lagers",
          "Hybrid Beers",
          "India Pale Ales",
          "Pale Ales",
          "Pale Lagers",
          "Porters",
          "Specialty Beer",
          "Stouts",
          "Strong Ales",
          "Weird Cocktail",
          "Wheat Beers",
          "Wild/Sour Beers"
         ],
         "y": [
          1.524822695035461,
          2.404255319148936,
          1.198581560283688,
          3.028368794326241,
          0.28368794326241137,
          2.8439716312056738,
          7.205673758865248,
          12.75177304964539,
          1.326241134751773,
          1.1702127659574468,
          3.099290780141844,
          3.5673758865248226,
          0.09929078014184398,
          4.2695035460992905,
          0.19148936170212766
         ]
        },
        {
         "fill": "tonexty",
         "fillcolor": "rgba(0,204,150,0.3)",
         "line": {
          "width": 0
         },
         "mode": "lines",
         "name": "first, CI High",
         "showlegend": false,
         "type": "scatter",
         "visible": false,
         "x": [
          "Bocks",
          "Brown Ales",
          "Dark Ales",
          "Dark Lagers",
          "Hybrid Beers",
          "India Pale Ales",
          "Pale Ales",
          "Pale Lagers",
          "Porters",
          "Specialty Beer",
          "Stouts",
          "Strong Ales",
          "Weird Cocktail",
          "Wheat Beers",
          "Wild/Sour Beers"
         ],
         "y": [
          2.0921985815602837,
          3.0567375886524824,
          1.673758865248227,
          3.6666666666666665,
          0.49645390070921985,
          3.8085106382978724,
          8.340425531914894,
          14.631205673758865,
          1.8156028368794326,
          1.7234042553191489,
          3.978723404255319,
          4.361702127659575,
          0.2127659574468085,
          5.226950354609929,
          0.3900709219858156
         ]
        },
        {
         "line": {
          "color": "rgb(239,85,59)"
         },
         "mode": "lines",
         "name": "last 50 beers",
         "showlegend": true,
         "type": "scatter",
         "visible": false,
         "x": [
          "Bocks",
          "Brown Ales",
          "Dark Ales",
          "Dark Lagers",
          "Hybrid Beers",
          "India Pale Ales",
          "Pale Ales",
          "Pale Lagers",
          "Porters",
          "Specialty Beer",
          "Stouts",
          "Strong Ales",
          "Weird Cocktail",
          "Wheat Beers",
          "Wild/Sour Beers"
         ],
         "y": [
          1.1195928753180662,
          2.486005089058524,
          1.0534351145038168,
          0.9236641221374046,
          0.39185750636132316,
          10.585241730279899,
          8.84732824427481,
          3.287531806615776,
          2.1959287531806617,
          1.6895674300254453,
          6.193384223918575,
          5.3944020356234095,
          0.035623409669211195,
          2.549618320610687,
          3.246819338422392
         ]
        },
        {
         "fillcolor": "rgba(239,85,59,0.3)",
         "line": {
          "width": 0
         },
         "mode": "lines",
         "name": "first, CI Low",
         "showlegend": false,
         "type": "scatter",
         "visible": false,
         "x": [
          "Bocks",
          "Brown Ales",
          "Dark Ales",
          "Dark Lagers",
          "Hybrid Beers",
          "India Pale Ales",
          "Pale Ales",
          "Pale Lagers",
          "Porters",
          "Specialty Beer",
          "Stouts",
          "Strong Ales",
          "Weird Cocktail",
          "Wheat Beers",
          "Wild/Sour Beers"
         ],
         "y": [
          0.9949109414758269,
          2.312977099236641,
          0.9287531806615776,
          0.816793893129771,
          0.3333333333333333,
          9.992366412213741,
          8.470737913486005,
          3.0127226463104324,
          2.037220661755267,
          1.5165394402035624,
          5.819338422391858,
          5.081424936386768,
          0.017811704834605598,
          2.3536895674300253,
          2.8753180661577606
         ]
        },
        {
         "fill": "tonexty",
         "fillcolor": "rgba(239,85,59,0.3)",
         "line": {
          "width": 0
         },
         "mode": "lines",
         "name": "first, CI high",
         "showlegend": false,
         "type": "scatter",
         "visible": false,
         "x": [
          "Bocks",
          "Brown Ales",
          "Dark Ales",
          "Dark Lagers",
          "Hybrid Beers",
          "India Pale Ales",
          "Pale Ales",
          "Pale Lagers",
          "Porters",
          "Specialty Beer",
          "Stouts",
          "Strong Ales",
          "Weird Cocktail",
          "Wheat Beers",
          "Wild/Sour Beers"
         ],
         "y": [
          1.2493638676844783,
          2.659033078880407,
          1.188295165394402,
          1.0407124681933841,
          0.4529262086513995,
          11.183206106870228,
          9.256997455470739,
          3.61323155216285,
          2.3613231552162848,
          1.8829516539440203,
          6.597964376590331,
          5.735368956743002,
          0.05343511450381679,
          2.758269720101781,
          3.681933842239186
         ]
        },
        {
         "line": {
          "color": "rgb(0,204,150)"
         },
         "mode": "lines",
         "name": "first 50 beers",
         "showlegend": true,
         "type": "scatter",
         "visible": false,
         "x": [
          "Bocks",
          "Brown Ales",
          "Dark Ales",
          "Dark Lagers",
          "Hybrid Beers",
          "India Pale Ales",
          "Pale Ales",
          "Pale Lagers",
          "Porters",
          "Specialty Beer",
          "Stouts",
          "Strong Ales",
          "Weird Cocktail",
          "Wheat Beers",
          "Wild/Sour Beers"
         ],
         "y": [
          1.6641221374045803,
          3.272264631043257,
          1.6513994910941476,
          1.534351145038168,
          0.3384223918575064,
          8.188295165394402,
          9.412213740458014,
          3.8753180661577606,
          2.300254452926209,
          1.748091603053435,
          5.106870229007634,
          6.124681933842239,
          0.06361323155216285,
          3.6259541984732824,
          1.094147582697201
         ]
        },
        {
         "fillcolor": "rgba(0,204,150,0.3)",
         "line": {
          "width": 0
         },
         "mode": "lines",
         "name": "first, CI Low",
         "showlegend": false,
         "type": "scatter",
         "visible": false,
         "x": [
          "Bocks",
          "Brown Ales",
          "Dark Ales",
          "Dark Lagers",
          "Hybrid Beers",
          "India Pale Ales",
          "Pale Ales",
          "Pale Lagers",
          "Porters",
          "Specialty Beer",
          "Stouts",
          "Strong Ales",
          "Weird Cocktail",
          "Wheat Beers",
          "Wild/Sour Beers"
         ],
         "y": [
          1.5114503816793894,
          3.073791348600509,
          1.5012722646310432,
          1.3969465648854962,
          0.2824427480916031,
          7.783715012722646,
          9.061068702290076,
          3.6208651399491094,
          2.127226463104326,
          1.5623409669211197,
          4.854961832061068,
          5.793893129770993,
          0.04071246819338423,
          3.3689567430025447,
          0.910941475826972
         ]
        },
        {
         "fill": "tonexty",
         "fillcolor": "rgba(0,204,150,0.3)",
         "line": {
          "width": 0
         },
         "mode": "lines",
         "name": "first, CI High",
         "showlegend": false,
         "type": "scatter",
         "visible": false,
         "x": [
          "Bocks",
          "Brown Ales",
          "Dark Ales",
          "Dark Lagers",
          "Hybrid Beers",
          "India Pale Ales",
          "Pale Ales",
          "Pale Lagers",
          "Porters",
          "Specialty Beer",
          "Stouts",
          "Strong Ales",
          "Weird Cocktail",
          "Wheat Beers",
          "Wild/Sour Beers"
         ],
         "y": [
          1.8244274809160306,
          3.4828675563484843,
          1.806615776081425,
          1.6793893129770991,
          0.3969465648854962,
          8.597964376590332,
          9.76590330788804,
          4.137404580152672,
          2.4825839208717424,
          1.979643765903308,
          5.356234096692112,
          6.480916030534351,
          0.089058524173028,
          3.9185750636132317,
          1.3435114503816794
         ]
        }
       ],
       "layout": {
        "height": 600,
        "template": {
         "data": {
          "bar": [
           {
            "error_x": {
             "color": "#2a3f5f"
            },
            "error_y": {
             "color": "#2a3f5f"
            },
            "marker": {
             "line": {
              "color": "#E5ECF6",
              "width": 0.5
             },
             "pattern": {
              "fillmode": "overlay",
              "size": 10,
              "solidity": 0.2
             }
            },
            "type": "bar"
           }
          ],
          "barpolar": [
           {
            "marker": {
             "line": {
              "color": "#E5ECF6",
              "width": 0.5
             },
             "pattern": {
              "fillmode": "overlay",
              "size": 10,
              "solidity": 0.2
             }
            },
            "type": "barpolar"
           }
          ],
          "carpet": [
           {
            "aaxis": {
             "endlinecolor": "#2a3f5f",
             "gridcolor": "white",
             "linecolor": "white",
             "minorgridcolor": "white",
             "startlinecolor": "#2a3f5f"
            },
            "baxis": {
             "endlinecolor": "#2a3f5f",
             "gridcolor": "white",
             "linecolor": "white",
             "minorgridcolor": "white",
             "startlinecolor": "#2a3f5f"
            },
            "type": "carpet"
           }
          ],
          "choropleth": [
           {
            "colorbar": {
             "outlinewidth": 0,
             "ticks": ""
            },
            "type": "choropleth"
           }
          ],
          "contour": [
           {
            "colorbar": {
             "outlinewidth": 0,
             "ticks": ""
            },
            "colorscale": [
             [
              0,
              "#0d0887"
             ],
             [
              0.1111111111111111,
              "#46039f"
             ],
             [
              0.2222222222222222,
              "#7201a8"
             ],
             [
              0.3333333333333333,
              "#9c179e"
             ],
             [
              0.4444444444444444,
              "#bd3786"
             ],
             [
              0.5555555555555556,
              "#d8576b"
             ],
             [
              0.6666666666666666,
              "#ed7953"
             ],
             [
              0.7777777777777778,
              "#fb9f3a"
             ],
             [
              0.8888888888888888,
              "#fdca26"
             ],
             [
              1,
              "#f0f921"
             ]
            ],
            "type": "contour"
           }
          ],
          "contourcarpet": [
           {
            "colorbar": {
             "outlinewidth": 0,
             "ticks": ""
            },
            "type": "contourcarpet"
           }
          ],
          "heatmap": [
           {
            "colorbar": {
             "outlinewidth": 0,
             "ticks": ""
            },
            "colorscale": [
             [
              0,
              "#0d0887"
             ],
             [
              0.1111111111111111,
              "#46039f"
             ],
             [
              0.2222222222222222,
              "#7201a8"
             ],
             [
              0.3333333333333333,
              "#9c179e"
             ],
             [
              0.4444444444444444,
              "#bd3786"
             ],
             [
              0.5555555555555556,
              "#d8576b"
             ],
             [
              0.6666666666666666,
              "#ed7953"
             ],
             [
              0.7777777777777778,
              "#fb9f3a"
             ],
             [
              0.8888888888888888,
              "#fdca26"
             ],
             [
              1,
              "#f0f921"
             ]
            ],
            "type": "heatmap"
           }
          ],
          "heatmapgl": [
           {
            "colorbar": {
             "outlinewidth": 0,
             "ticks": ""
            },
            "colorscale": [
             [
              0,
              "#0d0887"
             ],
             [
              0.1111111111111111,
              "#46039f"
             ],
             [
              0.2222222222222222,
              "#7201a8"
             ],
             [
              0.3333333333333333,
              "#9c179e"
             ],
             [
              0.4444444444444444,
              "#bd3786"
             ],
             [
              0.5555555555555556,
              "#d8576b"
             ],
             [
              0.6666666666666666,
              "#ed7953"
             ],
             [
              0.7777777777777778,
              "#fb9f3a"
             ],
             [
              0.8888888888888888,
              "#fdca26"
             ],
             [
              1,
              "#f0f921"
             ]
            ],
            "type": "heatmapgl"
           }
          ],
          "histogram": [
           {
            "marker": {
             "pattern": {
              "fillmode": "overlay",
              "size": 10,
              "solidity": 0.2
             }
            },
            "type": "histogram"
           }
          ],
          "histogram2d": [
           {
            "colorbar": {
             "outlinewidth": 0,
             "ticks": ""
            },
            "colorscale": [
             [
              0,
              "#0d0887"
             ],
             [
              0.1111111111111111,
              "#46039f"
             ],
             [
              0.2222222222222222,
              "#7201a8"
             ],
             [
              0.3333333333333333,
              "#9c179e"
             ],
             [
              0.4444444444444444,
              "#bd3786"
             ],
             [
              0.5555555555555556,
              "#d8576b"
             ],
             [
              0.6666666666666666,
              "#ed7953"
             ],
             [
              0.7777777777777778,
              "#fb9f3a"
             ],
             [
              0.8888888888888888,
              "#fdca26"
             ],
             [
              1,
              "#f0f921"
             ]
            ],
            "type": "histogram2d"
           }
          ],
          "histogram2dcontour": [
           {
            "colorbar": {
             "outlinewidth": 0,
             "ticks": ""
            },
            "colorscale": [
             [
              0,
              "#0d0887"
             ],
             [
              0.1111111111111111,
              "#46039f"
             ],
             [
              0.2222222222222222,
              "#7201a8"
             ],
             [
              0.3333333333333333,
              "#9c179e"
             ],
             [
              0.4444444444444444,
              "#bd3786"
             ],
             [
              0.5555555555555556,
              "#d8576b"
             ],
             [
              0.6666666666666666,
              "#ed7953"
             ],
             [
              0.7777777777777778,
              "#fb9f3a"
             ],
             [
              0.8888888888888888,
              "#fdca26"
             ],
             [
              1,
              "#f0f921"
             ]
            ],
            "type": "histogram2dcontour"
           }
          ],
          "mesh3d": [
           {
            "colorbar": {
             "outlinewidth": 0,
             "ticks": ""
            },
            "type": "mesh3d"
           }
          ],
          "parcoords": [
           {
            "line": {
             "colorbar": {
              "outlinewidth": 0,
              "ticks": ""
             }
            },
            "type": "parcoords"
           }
          ],
          "pie": [
           {
            "automargin": true,
            "type": "pie"
           }
          ],
          "scatter": [
           {
            "fillpattern": {
             "fillmode": "overlay",
             "size": 10,
             "solidity": 0.2
            },
            "type": "scatter"
           }
          ],
          "scatter3d": [
           {
            "line": {
             "colorbar": {
              "outlinewidth": 0,
              "ticks": ""
             }
            },
            "marker": {
             "colorbar": {
              "outlinewidth": 0,
              "ticks": ""
             }
            },
            "type": "scatter3d"
           }
          ],
          "scattercarpet": [
           {
            "marker": {
             "colorbar": {
              "outlinewidth": 0,
              "ticks": ""
             }
            },
            "type": "scattercarpet"
           }
          ],
          "scattergeo": [
           {
            "marker": {
             "colorbar": {
              "outlinewidth": 0,
              "ticks": ""
             }
            },
            "type": "scattergeo"
           }
          ],
          "scattergl": [
           {
            "marker": {
             "colorbar": {
              "outlinewidth": 0,
              "ticks": ""
             }
            },
            "type": "scattergl"
           }
          ],
          "scattermapbox": [
           {
            "marker": {
             "colorbar": {
              "outlinewidth": 0,
              "ticks": ""
             }
            },
            "type": "scattermapbox"
           }
          ],
          "scatterpolar": [
           {
            "marker": {
             "colorbar": {
              "outlinewidth": 0,
              "ticks": ""
             }
            },
            "type": "scatterpolar"
           }
          ],
          "scatterpolargl": [
           {
            "marker": {
             "colorbar": {
              "outlinewidth": 0,
              "ticks": ""
             }
            },
            "type": "scatterpolargl"
           }
          ],
          "scatterternary": [
           {
            "marker": {
             "colorbar": {
              "outlinewidth": 0,
              "ticks": ""
             }
            },
            "type": "scatterternary"
           }
          ],
          "surface": [
           {
            "colorbar": {
             "outlinewidth": 0,
             "ticks": ""
            },
            "colorscale": [
             [
              0,
              "#0d0887"
             ],
             [
              0.1111111111111111,
              "#46039f"
             ],
             [
              0.2222222222222222,
              "#7201a8"
             ],
             [
              0.3333333333333333,
              "#9c179e"
             ],
             [
              0.4444444444444444,
              "#bd3786"
             ],
             [
              0.5555555555555556,
              "#d8576b"
             ],
             [
              0.6666666666666666,
              "#ed7953"
             ],
             [
              0.7777777777777778,
              "#fb9f3a"
             ],
             [
              0.8888888888888888,
              "#fdca26"
             ],
             [
              1,
              "#f0f921"
             ]
            ],
            "type": "surface"
           }
          ],
          "table": [
           {
            "cells": {
             "fill": {
              "color": "#EBF0F8"
             },
             "line": {
              "color": "white"
             }
            },
            "header": {
             "fill": {
              "color": "#C8D4E3"
             },
             "line": {
              "color": "white"
             }
            },
            "type": "table"
           }
          ]
         },
         "layout": {
          "annotationdefaults": {
           "arrowcolor": "#2a3f5f",
           "arrowhead": 0,
           "arrowwidth": 1
          },
          "autotypenumbers": "strict",
          "coloraxis": {
           "colorbar": {
            "outlinewidth": 0,
            "ticks": ""
           }
          },
          "colorscale": {
           "diverging": [
            [
             0,
             "#8e0152"
            ],
            [
             0.1,
             "#c51b7d"
            ],
            [
             0.2,
             "#de77ae"
            ],
            [
             0.3,
             "#f1b6da"
            ],
            [
             0.4,
             "#fde0ef"
            ],
            [
             0.5,
             "#f7f7f7"
            ],
            [
             0.6,
             "#e6f5d0"
            ],
            [
             0.7,
             "#b8e186"
            ],
            [
             0.8,
             "#7fbc41"
            ],
            [
             0.9,
             "#4d9221"
            ],
            [
             1,
             "#276419"
            ]
           ],
           "sequential": [
            [
             0,
             "#0d0887"
            ],
            [
             0.1111111111111111,
             "#46039f"
            ],
            [
             0.2222222222222222,
             "#7201a8"
            ],
            [
             0.3333333333333333,
             "#9c179e"
            ],
            [
             0.4444444444444444,
             "#bd3786"
            ],
            [
             0.5555555555555556,
             "#d8576b"
            ],
            [
             0.6666666666666666,
             "#ed7953"
            ],
            [
             0.7777777777777778,
             "#fb9f3a"
            ],
            [
             0.8888888888888888,
             "#fdca26"
            ],
            [
             1,
             "#f0f921"
            ]
           ],
           "sequentialminus": [
            [
             0,
             "#0d0887"
            ],
            [
             0.1111111111111111,
             "#46039f"
            ],
            [
             0.2222222222222222,
             "#7201a8"
            ],
            [
             0.3333333333333333,
             "#9c179e"
            ],
            [
             0.4444444444444444,
             "#bd3786"
            ],
            [
             0.5555555555555556,
             "#d8576b"
            ],
            [
             0.6666666666666666,
             "#ed7953"
            ],
            [
             0.7777777777777778,
             "#fb9f3a"
            ],
            [
             0.8888888888888888,
             "#fdca26"
            ],
            [
             1,
             "#f0f921"
            ]
           ]
          },
          "colorway": [
           "#636efa",
           "#EF553B",
           "#00cc96",
           "#ab63fa",
           "#FFA15A",
           "#19d3f3",
           "#FF6692",
           "#B6E880",
           "#FF97FF",
           "#FECB52"
          ],
          "font": {
           "color": "#2a3f5f"
          },
          "geo": {
           "bgcolor": "white",
           "lakecolor": "white",
           "landcolor": "#E5ECF6",
           "showlakes": true,
           "showland": true,
           "subunitcolor": "white"
          },
          "hoverlabel": {
           "align": "left"
          },
          "hovermode": "closest",
          "mapbox": {
           "style": "light"
          },
          "paper_bgcolor": "white",
          "plot_bgcolor": "#E5ECF6",
          "polar": {
           "angularaxis": {
            "gridcolor": "white",
            "linecolor": "white",
            "ticks": ""
           },
           "bgcolor": "#E5ECF6",
           "radialaxis": {
            "gridcolor": "white",
            "linecolor": "white",
            "ticks": ""
           }
          },
          "scene": {
           "xaxis": {
            "backgroundcolor": "#E5ECF6",
            "gridcolor": "white",
            "gridwidth": 2,
            "linecolor": "white",
            "showbackground": true,
            "ticks": "",
            "zerolinecolor": "white"
           },
           "yaxis": {
            "backgroundcolor": "#E5ECF6",
            "gridcolor": "white",
            "gridwidth": 2,
            "linecolor": "white",
            "showbackground": true,
            "ticks": "",
            "zerolinecolor": "white"
           },
           "zaxis": {
            "backgroundcolor": "#E5ECF6",
            "gridcolor": "white",
            "gridwidth": 2,
            "linecolor": "white",
            "showbackground": true,
            "ticks": "",
            "zerolinecolor": "white"
           }
          },
          "shapedefaults": {
           "line": {
            "color": "#2a3f5f"
           }
          },
          "ternary": {
           "aaxis": {
            "gridcolor": "white",
            "linecolor": "white",
            "ticks": ""
           },
           "baxis": {
            "gridcolor": "white",
            "linecolor": "white",
            "ticks": ""
           },
           "bgcolor": "#E5ECF6",
           "caxis": {
            "gridcolor": "white",
            "linecolor": "white",
            "ticks": ""
           }
          },
          "title": {
           "x": 0.05
          },
          "xaxis": {
           "automargin": true,
           "gridcolor": "white",
           "linecolor": "white",
           "ticks": "",
           "title": {
            "standoff": 15
           },
           "zerolinecolor": "white",
           "zerolinewidth": 2
          },
          "yaxis": {
           "automargin": true,
           "gridcolor": "white",
           "linecolor": "white",
           "ticks": "",
           "title": {
            "standoff": 15
           },
           "zerolinecolor": "white",
           "zerolinewidth": 2
          }
         }
        },
        "title": {
         "text": "All together : average number of beers rated from each category"
        },
        "updatemenus": [
         {
          "active": 0,
          "buttons": [
           {
            "args": [
             {
              "visible": [
               true,
               true,
               true,
               true,
               true,
               true,
               false,
               false,
               false,
               false,
               false,
               false,
               false,
               false,
               false,
               false,
               false,
               false,
               false,
               false,
               false,
               false,
               false,
               false,
               false,
               false,
               false,
               false,
               false,
               false
              ]
             },
             {
              "title": "All together : average number of beers rated from each category"
             }
            ],
            "label": "All togheter",
            "method": "update"
           },
           {
            "args": [
             {
              "visible": [
               false,
               false,
               false,
               false,
               false,
               false,
               true,
               true,
               true,
               true,
               true,
               true,
               false,
               false,
               false,
               false,
               false,
               false,
               false,
               false,
               false,
               false,
               false,
               false,
               false,
               false,
               false,
               false,
               false,
               false
              ]
             },
             {
              "title": "Team \"Jean-Michel IPA\" : average number of beers rated from each category"
             }
            ],
            "label": "Jean-Michel IPA",
            "method": "update"
           },
           {
            "args": [
             {
              "visible": [
               false,
               false,
               false,
               false,
               false,
               false,
               false,
               false,
               false,
               false,
               false,
               false,
               true,
               true,
               true,
               true,
               true,
               true,
               false,
               false,
               false,
               false,
               false,
               false,
               false,
               false,
               false,
               false,
               false,
               false
              ]
             },
             {
              "title": "Team \"Marcel Stout\" : average number of beers rated from each category"
             }
            ],
            "label": "Marcel Stout",
            "method": "update"
           },
           {
            "args": [
             {
              "visible": [
               false,
               false,
               false,
               false,
               false,
               false,
               false,
               false,
               false,
               false,
               false,
               false,
               false,
               false,
               false,
               false,
               false,
               false,
               true,
               true,
               true,
               true,
               true,
               true,
               false,
               false,
               false,
               false,
               false,
               false
              ]
             },
             {
              "title": "Team \"James Bland\" : average number of beers rated from each category"
             }
            ],
            "label": "James Bland",
            "method": "update"
           },
           {
            "args": [
             {
              "visible": [
               false,
               false,
               false,
               false,
               false,
               false,
               false,
               false,
               false,
               false,
               false,
               false,
               false,
               false,
               false,
               false,
               false,
               false,
               false,
               false,
               false,
               false,
               false,
               false,
               true,
               true,
               true,
               true,
               true,
               true
              ]
             },
             {
              "title": "Team \"Ada the explorer\" : average number of beers rated from each category"
             }
            ],
            "label": "Ada the explorer",
            "method": "update"
           }
          ],
          "direction": "right",
          "type": "buttons",
          "x": 1,
          "y": 1.1
         }
        ],
        "width": 1000,
        "xaxis": {
         "title": {
          "text": "Category"
         }
        },
        "yaxis": {
         "range": [
          0,
          25
         ],
         "title": {
          "text": "Number of beers"
         }
        }
       }
      }
     },
     "metadata": {},
     "output_type": "display_data"
    }
   ],
   "source": [
    "#le vrai - redoo avec CI\n",
    "mean_user = df_pivot.copy()\n",
    "# plotly setup \n",
    "fig = go.Figure()\n",
    "\n",
    "# Add one ore more traces\n",
    "x = mean_user.index\n",
    "\n",
    "for i in mapping.keys():\n",
    "    viz = False\n",
    "    if i == \"All\":\n",
    "        viz = True\n",
    "    \n",
    "    #last\n",
    "    #mean\n",
    "    fig.add_trace(go.Scatter(x=x, y=mean_user.iloc[:, 25 + mapping[i]].values,\n",
    "                             name='last 50 beers', mode='lines', line_color='rgb(239,85,59)', \n",
    "                             visible=viz, showlegend=True))\n",
    "    #CI low\n",
    "    fig.add_trace(go.Scatter(x=x, y=mean_user.iloc[:, 15 + mapping[i]].values,\n",
    "                             name='first, CI Low', fill=None, mode='lines', line_width = 0.00,\n",
    "                             fillcolor='rgba(239,85,59,0.3)', visible=viz, showlegend=False))\n",
    "    #CI high\n",
    "    fig.add_trace(go.Scatter(x=x, y=mean_user.iloc[:, 20 + mapping[i]].values,\n",
    "                             name='first, CI high', fill='tonexty', mode='lines', line_width = 0.00,\n",
    "                             fillcolor='rgba(239,85,59,0.3)', visible=viz, showlegend=False))\n",
    "\n",
    "    #first\n",
    "    #mean\n",
    "    fig.add_trace(go.Scatter(x=x, y=mean_user.iloc[:, 10 + mapping[i]].values,\n",
    "                             name='first 50 beers', mode='lines', line_color = \"rgb(0,204,150)\",\n",
    "                             visible=viz, showlegend=True))\n",
    "    #CI low\n",
    "    fig.add_trace(go.Scatter(x=x, y=mean_user.iloc[:, 0 + mapping[i]].values,\n",
    "                             name='first, CI Low', fill=None, mode='lines', line_width = 0.00,\n",
    "                             fillcolor='rgba(0,204,150,0.3)', visible=viz, showlegend=False))\n",
    "    #CI high\n",
    "    fig.add_trace(go.Scatter(x=x, y=mean_user.iloc[:, 5 + mapping[i]].values,\n",
    "                             name='first, CI High', fill='tonexty', mode='lines', line_width = 0.00,\n",
    "                             fillcolor='rgba(0,204,150,0.3)', visible=viz, showlegend=False))\n",
    "\n",
    "#build 5 mask coresponding to each button\n",
    "list_0 = [True]*6 + [False]*24\n",
    "list_1 = [False]*6 + [True]*6 + [False]*18\n",
    "list_2 = [False]*12 + [True]*6 + [False]*12\n",
    "list_3 = [False]*18 + [True]*6 + [False]*6\n",
    "list_4 = [False]*24 + [True]*6\n",
    "\n",
    "fig.update_layout(\n",
    "    yaxis_range=[0,25],\n",
    "    width=1000,\n",
    "    height=600,\n",
    "    updatemenus=[\n",
    "        dict(\n",
    "            type=\"buttons\",\n",
    "            direction=\"right\",\n",
    "            active=0,\n",
    "            x=1,\n",
    "            y=1.1,\n",
    "            buttons=list([\n",
    "                dict(label=\"All togheter\",\n",
    "                     method=\"update\",\n",
    "                     args=[{\"visible\": list_0},\n",
    "                           {'title':'All together : average number of beers rated from each category'}]),\n",
    "                dict(label=\"Jean-Michel IPA\",\n",
    "                     method=\"update\",\n",
    "                     args=[{\"visible\": list_1},\n",
    "                           {'title' : 'Team \"Jean-Michel IPA\" : average number of beers rated from each category'}]),\n",
    "                dict(label=\"Marcel Stout\",\n",
    "                     method=\"update\",\n",
    "                     args=[{\"visible\": list_2},\n",
    "                           {'title' : 'Team \"Marcel Stout\" : average number of beers rated from each category'}]),\n",
    "                dict(label=\"James Bland\",\n",
    "                     method=\"update\",\n",
    "                     args=[{\"visible\": list_3},\n",
    "                           {'title' : 'Team \"James Bland\" : average number of beers rated from each category'}]),\n",
    "                dict(label=\"Ada the explorer\",\n",
    "                     method=\"update\",\n",
    "                     args=[{\"visible\": list_4},\n",
    "                           {'title' : 'Team \"Ada the explorer\" : average number of beers rated from each category'}])\n",
    "\n",
    "            ]),\n",
    "        )\n",
    "    ])\n",
    "\n",
    "# Set title\n",
    "fig.update_xaxes(title_text=\"Category\")\n",
    "fig.update_yaxes(title_text=\"Number of beers\")\n",
    "\n",
    "fig.update_layout({'title' : 'All together : average number of beers rated from each category'})\n",
    "\n",
    "fig.show()\n",
    "fig.write_html(\"all_first_vs_last.html\")"
   ]
  },
  {
   "cell_type": "code",
   "execution_count": 488,
   "metadata": {},
   "outputs": [
    {
     "data": {
      "text/plain": [
       "dict_values([0, 1, 2, 3, 4])"
      ]
     },
     "execution_count": 488,
     "metadata": {},
     "output_type": "execute_result"
    }
   ],
   "source": [
    "idx = {k: v for k, v in sorted(mapping.items(), key=lambda item: item[1])}\n",
    "idx.values()"
   ]
  },
  {
   "cell_type": "code",
   "execution_count": 489,
   "metadata": {},
   "outputs": [
    {
     "data": {
      "application/vnd.plotly.v1+json": {
       "config": {
        "plotlyServerURL": "https://plot.ly"
       },
       "data": [
        {
         "coloraxis": "coloraxis",
         "hovertemplate": "Category: %{x}<br>Clusters: %{y}<br>-log10(Pvalue): %{z}<extra></extra>",
         "name": "0",
         "texttemplate": "%{z}",
         "type": "heatmap",
         "x": [
          "Bocks",
          "Brown Ales",
          "Dark Ales",
          "Dark Lagers",
          "Hybrid Beers",
          "India Pale Ales",
          "Pale Ales",
          "Pale Lagers",
          "Porters",
          "Specialty Beer",
          "Stouts",
          "Strong Ales",
          "Weird Cocktail",
          "Wheat Beers",
          "Wild/Sour Beers"
         ],
         "xaxis": "x",
         "y": [
          "Ada the explorer",
          "Jean-Michel IPA",
          "Marcel Stout",
          "James Bland",
          "All"
         ],
         "yaxis": "y",
         "z": [
          [
           7.92,
           8.67,
           9.23,
           11.5,
           0,
           13.58,
           1.83,
           2.76,
           0,
           0,
           6.36,
           3.38,
           0,
           10.26,
           20
          ],
          [
           0,
           3.72,
           1.62,
           0,
           0,
           20,
           1.46,
           0,
           5.1,
           0,
           14.4,
           0,
           0,
           0,
           20
          ],
          [
           2.7,
           3.55,
           3.43,
           0,
           0,
           2.63,
           12.99,
           1.39,
           2.44,
           0,
           20,
           2.91,
           2.8,
           0,
           20
          ],
          [
           0,
           0,
           0,
           20,
           0,
           20,
           5.15,
           20,
           2.51,
           0,
           5.47,
           1.63,
           3.75,
           8.53,
           8.46
          ],
          [
           7.98,
           13.03,
           12.22,
           20,
           0,
           1.83,
           4.81,
           17.53,
           0,
           0,
           1.85,
           3.93,
           5.61,
           11.07,
           20
          ]
         ]
        }
       ],
       "layout": {
        "coloraxis": {
         "colorbar": {
          "ticktext": [
           "1",
           "5",
           "10",
           "20"
          ],
          "tickvals": [
           1,
           5,
           10,
           20
          ],
          "title": {
           "text": "-log(Pvalue)"
          }
         },
         "colorscale": [
          [
           0,
           "#0d0887"
          ],
          [
           0.1111111111111111,
           "#46039f"
          ],
          [
           0.2222222222222222,
           "#7201a8"
          ],
          [
           0.3333333333333333,
           "#9c179e"
          ],
          [
           0.4444444444444444,
           "#bd3786"
          ],
          [
           0.5555555555555556,
           "#d8576b"
          ],
          [
           0.6666666666666666,
           "#ed7953"
          ],
          [
           0.7777777777777778,
           "#fb9f3a"
          ],
          [
           0.8888888888888888,
           "#fdca26"
          ],
          [
           1,
           "#f0f921"
          ]
         ]
        },
        "template": {
         "data": {
          "bar": [
           {
            "error_x": {
             "color": "#2a3f5f"
            },
            "error_y": {
             "color": "#2a3f5f"
            },
            "marker": {
             "line": {
              "color": "#E5ECF6",
              "width": 0.5
             },
             "pattern": {
              "fillmode": "overlay",
              "size": 10,
              "solidity": 0.2
             }
            },
            "type": "bar"
           }
          ],
          "barpolar": [
           {
            "marker": {
             "line": {
              "color": "#E5ECF6",
              "width": 0.5
             },
             "pattern": {
              "fillmode": "overlay",
              "size": 10,
              "solidity": 0.2
             }
            },
            "type": "barpolar"
           }
          ],
          "carpet": [
           {
            "aaxis": {
             "endlinecolor": "#2a3f5f",
             "gridcolor": "white",
             "linecolor": "white",
             "minorgridcolor": "white",
             "startlinecolor": "#2a3f5f"
            },
            "baxis": {
             "endlinecolor": "#2a3f5f",
             "gridcolor": "white",
             "linecolor": "white",
             "minorgridcolor": "white",
             "startlinecolor": "#2a3f5f"
            },
            "type": "carpet"
           }
          ],
          "choropleth": [
           {
            "colorbar": {
             "outlinewidth": 0,
             "ticks": ""
            },
            "type": "choropleth"
           }
          ],
          "contour": [
           {
            "colorbar": {
             "outlinewidth": 0,
             "ticks": ""
            },
            "colorscale": [
             [
              0,
              "#0d0887"
             ],
             [
              0.1111111111111111,
              "#46039f"
             ],
             [
              0.2222222222222222,
              "#7201a8"
             ],
             [
              0.3333333333333333,
              "#9c179e"
             ],
             [
              0.4444444444444444,
              "#bd3786"
             ],
             [
              0.5555555555555556,
              "#d8576b"
             ],
             [
              0.6666666666666666,
              "#ed7953"
             ],
             [
              0.7777777777777778,
              "#fb9f3a"
             ],
             [
              0.8888888888888888,
              "#fdca26"
             ],
             [
              1,
              "#f0f921"
             ]
            ],
            "type": "contour"
           }
          ],
          "contourcarpet": [
           {
            "colorbar": {
             "outlinewidth": 0,
             "ticks": ""
            },
            "type": "contourcarpet"
           }
          ],
          "heatmap": [
           {
            "colorbar": {
             "outlinewidth": 0,
             "ticks": ""
            },
            "colorscale": [
             [
              0,
              "#0d0887"
             ],
             [
              0.1111111111111111,
              "#46039f"
             ],
             [
              0.2222222222222222,
              "#7201a8"
             ],
             [
              0.3333333333333333,
              "#9c179e"
             ],
             [
              0.4444444444444444,
              "#bd3786"
             ],
             [
              0.5555555555555556,
              "#d8576b"
             ],
             [
              0.6666666666666666,
              "#ed7953"
             ],
             [
              0.7777777777777778,
              "#fb9f3a"
             ],
             [
              0.8888888888888888,
              "#fdca26"
             ],
             [
              1,
              "#f0f921"
             ]
            ],
            "type": "heatmap"
           }
          ],
          "heatmapgl": [
           {
            "colorbar": {
             "outlinewidth": 0,
             "ticks": ""
            },
            "colorscale": [
             [
              0,
              "#0d0887"
             ],
             [
              0.1111111111111111,
              "#46039f"
             ],
             [
              0.2222222222222222,
              "#7201a8"
             ],
             [
              0.3333333333333333,
              "#9c179e"
             ],
             [
              0.4444444444444444,
              "#bd3786"
             ],
             [
              0.5555555555555556,
              "#d8576b"
             ],
             [
              0.6666666666666666,
              "#ed7953"
             ],
             [
              0.7777777777777778,
              "#fb9f3a"
             ],
             [
              0.8888888888888888,
              "#fdca26"
             ],
             [
              1,
              "#f0f921"
             ]
            ],
            "type": "heatmapgl"
           }
          ],
          "histogram": [
           {
            "marker": {
             "pattern": {
              "fillmode": "overlay",
              "size": 10,
              "solidity": 0.2
             }
            },
            "type": "histogram"
           }
          ],
          "histogram2d": [
           {
            "colorbar": {
             "outlinewidth": 0,
             "ticks": ""
            },
            "colorscale": [
             [
              0,
              "#0d0887"
             ],
             [
              0.1111111111111111,
              "#46039f"
             ],
             [
              0.2222222222222222,
              "#7201a8"
             ],
             [
              0.3333333333333333,
              "#9c179e"
             ],
             [
              0.4444444444444444,
              "#bd3786"
             ],
             [
              0.5555555555555556,
              "#d8576b"
             ],
             [
              0.6666666666666666,
              "#ed7953"
             ],
             [
              0.7777777777777778,
              "#fb9f3a"
             ],
             [
              0.8888888888888888,
              "#fdca26"
             ],
             [
              1,
              "#f0f921"
             ]
            ],
            "type": "histogram2d"
           }
          ],
          "histogram2dcontour": [
           {
            "colorbar": {
             "outlinewidth": 0,
             "ticks": ""
            },
            "colorscale": [
             [
              0,
              "#0d0887"
             ],
             [
              0.1111111111111111,
              "#46039f"
             ],
             [
              0.2222222222222222,
              "#7201a8"
             ],
             [
              0.3333333333333333,
              "#9c179e"
             ],
             [
              0.4444444444444444,
              "#bd3786"
             ],
             [
              0.5555555555555556,
              "#d8576b"
             ],
             [
              0.6666666666666666,
              "#ed7953"
             ],
             [
              0.7777777777777778,
              "#fb9f3a"
             ],
             [
              0.8888888888888888,
              "#fdca26"
             ],
             [
              1,
              "#f0f921"
             ]
            ],
            "type": "histogram2dcontour"
           }
          ],
          "mesh3d": [
           {
            "colorbar": {
             "outlinewidth": 0,
             "ticks": ""
            },
            "type": "mesh3d"
           }
          ],
          "parcoords": [
           {
            "line": {
             "colorbar": {
              "outlinewidth": 0,
              "ticks": ""
             }
            },
            "type": "parcoords"
           }
          ],
          "pie": [
           {
            "automargin": true,
            "type": "pie"
           }
          ],
          "scatter": [
           {
            "fillpattern": {
             "fillmode": "overlay",
             "size": 10,
             "solidity": 0.2
            },
            "type": "scatter"
           }
          ],
          "scatter3d": [
           {
            "line": {
             "colorbar": {
              "outlinewidth": 0,
              "ticks": ""
             }
            },
            "marker": {
             "colorbar": {
              "outlinewidth": 0,
              "ticks": ""
             }
            },
            "type": "scatter3d"
           }
          ],
          "scattercarpet": [
           {
            "marker": {
             "colorbar": {
              "outlinewidth": 0,
              "ticks": ""
             }
            },
            "type": "scattercarpet"
           }
          ],
          "scattergeo": [
           {
            "marker": {
             "colorbar": {
              "outlinewidth": 0,
              "ticks": ""
             }
            },
            "type": "scattergeo"
           }
          ],
          "scattergl": [
           {
            "marker": {
             "colorbar": {
              "outlinewidth": 0,
              "ticks": ""
             }
            },
            "type": "scattergl"
           }
          ],
          "scattermapbox": [
           {
            "marker": {
             "colorbar": {
              "outlinewidth": 0,
              "ticks": ""
             }
            },
            "type": "scattermapbox"
           }
          ],
          "scatterpolar": [
           {
            "marker": {
             "colorbar": {
              "outlinewidth": 0,
              "ticks": ""
             }
            },
            "type": "scatterpolar"
           }
          ],
          "scatterpolargl": [
           {
            "marker": {
             "colorbar": {
              "outlinewidth": 0,
              "ticks": ""
             }
            },
            "type": "scatterpolargl"
           }
          ],
          "scatterternary": [
           {
            "marker": {
             "colorbar": {
              "outlinewidth": 0,
              "ticks": ""
             }
            },
            "type": "scatterternary"
           }
          ],
          "surface": [
           {
            "colorbar": {
             "outlinewidth": 0,
             "ticks": ""
            },
            "colorscale": [
             [
              0,
              "#0d0887"
             ],
             [
              0.1111111111111111,
              "#46039f"
             ],
             [
              0.2222222222222222,
              "#7201a8"
             ],
             [
              0.3333333333333333,
              "#9c179e"
             ],
             [
              0.4444444444444444,
              "#bd3786"
             ],
             [
              0.5555555555555556,
              "#d8576b"
             ],
             [
              0.6666666666666666,
              "#ed7953"
             ],
             [
              0.7777777777777778,
              "#fb9f3a"
             ],
             [
              0.8888888888888888,
              "#fdca26"
             ],
             [
              1,
              "#f0f921"
             ]
            ],
            "type": "surface"
           }
          ],
          "table": [
           {
            "cells": {
             "fill": {
              "color": "#EBF0F8"
             },
             "line": {
              "color": "white"
             }
            },
            "header": {
             "fill": {
              "color": "#C8D4E3"
             },
             "line": {
              "color": "white"
             }
            },
            "type": "table"
           }
          ]
         },
         "layout": {
          "annotationdefaults": {
           "arrowcolor": "#2a3f5f",
           "arrowhead": 0,
           "arrowwidth": 1
          },
          "autotypenumbers": "strict",
          "coloraxis": {
           "colorbar": {
            "outlinewidth": 0,
            "ticks": ""
           }
          },
          "colorscale": {
           "diverging": [
            [
             0,
             "#8e0152"
            ],
            [
             0.1,
             "#c51b7d"
            ],
            [
             0.2,
             "#de77ae"
            ],
            [
             0.3,
             "#f1b6da"
            ],
            [
             0.4,
             "#fde0ef"
            ],
            [
             0.5,
             "#f7f7f7"
            ],
            [
             0.6,
             "#e6f5d0"
            ],
            [
             0.7,
             "#b8e186"
            ],
            [
             0.8,
             "#7fbc41"
            ],
            [
             0.9,
             "#4d9221"
            ],
            [
             1,
             "#276419"
            ]
           ],
           "sequential": [
            [
             0,
             "#0d0887"
            ],
            [
             0.1111111111111111,
             "#46039f"
            ],
            [
             0.2222222222222222,
             "#7201a8"
            ],
            [
             0.3333333333333333,
             "#9c179e"
            ],
            [
             0.4444444444444444,
             "#bd3786"
            ],
            [
             0.5555555555555556,
             "#d8576b"
            ],
            [
             0.6666666666666666,
             "#ed7953"
            ],
            [
             0.7777777777777778,
             "#fb9f3a"
            ],
            [
             0.8888888888888888,
             "#fdca26"
            ],
            [
             1,
             "#f0f921"
            ]
           ],
           "sequentialminus": [
            [
             0,
             "#0d0887"
            ],
            [
             0.1111111111111111,
             "#46039f"
            ],
            [
             0.2222222222222222,
             "#7201a8"
            ],
            [
             0.3333333333333333,
             "#9c179e"
            ],
            [
             0.4444444444444444,
             "#bd3786"
            ],
            [
             0.5555555555555556,
             "#d8576b"
            ],
            [
             0.6666666666666666,
             "#ed7953"
            ],
            [
             0.7777777777777778,
             "#fb9f3a"
            ],
            [
             0.8888888888888888,
             "#fdca26"
            ],
            [
             1,
             "#f0f921"
            ]
           ]
          },
          "colorway": [
           "#636efa",
           "#EF553B",
           "#00cc96",
           "#ab63fa",
           "#FFA15A",
           "#19d3f3",
           "#FF6692",
           "#B6E880",
           "#FF97FF",
           "#FECB52"
          ],
          "font": {
           "color": "#2a3f5f"
          },
          "geo": {
           "bgcolor": "white",
           "lakecolor": "white",
           "landcolor": "#E5ECF6",
           "showlakes": true,
           "showland": true,
           "subunitcolor": "white"
          },
          "hoverlabel": {
           "align": "left"
          },
          "hovermode": "closest",
          "mapbox": {
           "style": "light"
          },
          "paper_bgcolor": "white",
          "plot_bgcolor": "#E5ECF6",
          "polar": {
           "angularaxis": {
            "gridcolor": "white",
            "linecolor": "white",
            "ticks": ""
           },
           "bgcolor": "#E5ECF6",
           "radialaxis": {
            "gridcolor": "white",
            "linecolor": "white",
            "ticks": ""
           }
          },
          "scene": {
           "xaxis": {
            "backgroundcolor": "#E5ECF6",
            "gridcolor": "white",
            "gridwidth": 2,
            "linecolor": "white",
            "showbackground": true,
            "ticks": "",
            "zerolinecolor": "white"
           },
           "yaxis": {
            "backgroundcolor": "#E5ECF6",
            "gridcolor": "white",
            "gridwidth": 2,
            "linecolor": "white",
            "showbackground": true,
            "ticks": "",
            "zerolinecolor": "white"
           },
           "zaxis": {
            "backgroundcolor": "#E5ECF6",
            "gridcolor": "white",
            "gridwidth": 2,
            "linecolor": "white",
            "showbackground": true,
            "ticks": "",
            "zerolinecolor": "white"
           }
          },
          "shapedefaults": {
           "line": {
            "color": "#2a3f5f"
           }
          },
          "ternary": {
           "aaxis": {
            "gridcolor": "white",
            "linecolor": "white",
            "ticks": ""
           },
           "baxis": {
            "gridcolor": "white",
            "linecolor": "white",
            "ticks": ""
           },
           "bgcolor": "#E5ECF6",
           "caxis": {
            "gridcolor": "white",
            "linecolor": "white",
            "ticks": ""
           }
          },
          "title": {
           "x": 0.05
          },
          "xaxis": {
           "automargin": true,
           "gridcolor": "white",
           "linecolor": "white",
           "ticks": "",
           "title": {
            "standoff": 15
           },
           "zerolinecolor": "white",
           "zerolinewidth": 2
          },
          "yaxis": {
           "automargin": true,
           "gridcolor": "white",
           "linecolor": "white",
           "ticks": "",
           "title": {
            "standoff": 15
           },
           "zerolinecolor": "white",
           "zerolinewidth": 2
          }
         }
        },
        "title": {
         "text": "Confidence in the change of the number of beers rated in each category <br>between the first 50 and last 50 ratings per cluster<br><sup>Heatmap of -log10(pval) (with pval > 0.05 clipped to 1 and pval < 1e-20 clipped to 1e-20)</sup>"
        },
        "xaxis": {
         "anchor": "y",
         "constrain": "domain",
         "domain": [
          0,
          1
         ],
         "scaleanchor": "y",
         "title": {
          "text": "Category"
         }
        },
        "yaxis": {
         "anchor": "x",
         "autorange": "reversed",
         "constrain": "domain",
         "domain": [
          0,
          1
         ],
         "title": {
          "text": "Clusters"
         }
        }
       }
      }
     },
     "metadata": {},
     "output_type": "display_data"
    }
   ],
   "source": [
    "df_pval = mean_user.iloc[:,30:35].T.copy()\n",
    "pval = df_pval.to_numpy()\n",
    "#print(pval.dtypes)\n",
    "\n",
    "# pval = pval[pval > 0.05]\n",
    "\n",
    "pval[pval < 1e-20] = 1e-20\n",
    "pval[pval > 0.05] = 1\n",
    "pval = -np.log10(pval)\n",
    "pval = np.round(pval,2)\n",
    "\n",
    "\n",
    "#pval.iloc[4,14] = max(pval)Plot Title <br><sup>Plot Subtitle</sup>\n",
    "fig = px.imshow(pval, text_auto=True, title=\"Confidence in the change of the number of beers rated in each category <br>\"\\\n",
    "                                            \"between the first 50 and last 50 ratings per cluster<br><sup>\"\\\n",
    "                                            \"Heatmap of -log10(pval) (with pval > 0.05 clipped to 1 and pval < 1e-20 clipped to 1e-20)</sup>\",\n",
    "                labels=dict(x=\"Category\", y=\"Clusters\", color=\"-log10(Pvalue)\"),\n",
    "                x=df_pval.columns.values,\n",
    "                y=list(idx.keys()),\n",
    "               )\n",
    "#plt.figtext(0.5, 0.01, \"fdnpobfsubgpafbagèaiègs\")\n",
    "\n",
    "fig.update_layout(coloraxis_colorbar=dict(\n",
    "    title=\"-log(Pvalue)\",\n",
    "    tickvals=[1,5,10,20],\n",
    "    ticktext=[\"1\", \"5\", \"10\", \"20\"],\n",
    "))\n",
    "\n",
    "\n",
    "fig.show()\n",
    "fig.write_html(\"heatmap_pval.html\")"
   ]
  },
  {
   "cell_type": "code",
   "execution_count": 490,
   "metadata": {},
   "outputs": [
    {
     "data": {
      "text/html": [
       "<div>\n",
       "<style scoped>\n",
       "    .dataframe tbody tr th:only-of-type {\n",
       "        vertical-align: middle;\n",
       "    }\n",
       "\n",
       "    .dataframe tbody tr th {\n",
       "        vertical-align: top;\n",
       "    }\n",
       "\n",
       "    .dataframe thead th {\n",
       "        text-align: right;\n",
       "    }\n",
       "</style>\n",
       "<table border=\"1\" class=\"dataframe\">\n",
       "  <thead>\n",
       "    <tr style=\"text-align: right;\">\n",
       "      <th>category</th>\n",
       "      <th>Bocks</th>\n",
       "      <th>Brown Ales</th>\n",
       "      <th>Dark Ales</th>\n",
       "      <th>Dark Lagers</th>\n",
       "      <th>Hybrid Beers</th>\n",
       "      <th>India Pale Ales</th>\n",
       "      <th>Pale Ales</th>\n",
       "      <th>Pale Lagers</th>\n",
       "      <th>Porters</th>\n",
       "      <th>Specialty Beer</th>\n",
       "      <th>Stouts</th>\n",
       "      <th>Strong Ales</th>\n",
       "      <th>Weird Cocktail</th>\n",
       "      <th>Wheat Beers</th>\n",
       "      <th>Wild/Sour Beers</th>\n",
       "      <th>first_50_cluster</th>\n",
       "    </tr>\n",
       "    <tr>\n",
       "      <th>user_name</th>\n",
       "      <th></th>\n",
       "      <th></th>\n",
       "      <th></th>\n",
       "      <th></th>\n",
       "      <th></th>\n",
       "      <th></th>\n",
       "      <th></th>\n",
       "      <th></th>\n",
       "      <th></th>\n",
       "      <th></th>\n",
       "      <th></th>\n",
       "      <th></th>\n",
       "      <th></th>\n",
       "      <th></th>\n",
       "      <th></th>\n",
       "      <th></th>\n",
       "    </tr>\n",
       "  </thead>\n",
       "  <tbody>\n",
       "    <tr>\n",
       "      <th>-Rick</th>\n",
       "      <td>0</td>\n",
       "      <td>2</td>\n",
       "      <td>0</td>\n",
       "      <td>2</td>\n",
       "      <td>0</td>\n",
       "      <td>29</td>\n",
       "      <td>7</td>\n",
       "      <td>2</td>\n",
       "      <td>2</td>\n",
       "      <td>2</td>\n",
       "      <td>3</td>\n",
       "      <td>1</td>\n",
       "      <td>0</td>\n",
       "      <td>0</td>\n",
       "      <td>0</td>\n",
       "      <td>1</td>\n",
       "    </tr>\n",
       "    <tr>\n",
       "      <th>1000lbgrizzly</th>\n",
       "      <td>0</td>\n",
       "      <td>5</td>\n",
       "      <td>0</td>\n",
       "      <td>1</td>\n",
       "      <td>0</td>\n",
       "      <td>4</td>\n",
       "      <td>9</td>\n",
       "      <td>7</td>\n",
       "      <td>2</td>\n",
       "      <td>8</td>\n",
       "      <td>6</td>\n",
       "      <td>4</td>\n",
       "      <td>0</td>\n",
       "      <td>3</td>\n",
       "      <td>1</td>\n",
       "      <td>0</td>\n",
       "    </tr>\n",
       "    <tr>\n",
       "      <th>1424IpA</th>\n",
       "      <td>0</td>\n",
       "      <td>0</td>\n",
       "      <td>1</td>\n",
       "      <td>0</td>\n",
       "      <td>0</td>\n",
       "      <td>21</td>\n",
       "      <td>3</td>\n",
       "      <td>1</td>\n",
       "      <td>1</td>\n",
       "      <td>1</td>\n",
       "      <td>12</td>\n",
       "      <td>4</td>\n",
       "      <td>0</td>\n",
       "      <td>1</td>\n",
       "      <td>5</td>\n",
       "      <td>1</td>\n",
       "    </tr>\n",
       "    <tr>\n",
       "      <th>2Xmd</th>\n",
       "      <td>0</td>\n",
       "      <td>2</td>\n",
       "      <td>1</td>\n",
       "      <td>1</td>\n",
       "      <td>0</td>\n",
       "      <td>25</td>\n",
       "      <td>5</td>\n",
       "      <td>1</td>\n",
       "      <td>1</td>\n",
       "      <td>2</td>\n",
       "      <td>9</td>\n",
       "      <td>1</td>\n",
       "      <td>0</td>\n",
       "      <td>2</td>\n",
       "      <td>0</td>\n",
       "      <td>1</td>\n",
       "    </tr>\n",
       "    <tr>\n",
       "      <th>2ellas</th>\n",
       "      <td>0</td>\n",
       "      <td>2</td>\n",
       "      <td>1</td>\n",
       "      <td>0</td>\n",
       "      <td>0</td>\n",
       "      <td>31</td>\n",
       "      <td>9</td>\n",
       "      <td>0</td>\n",
       "      <td>0</td>\n",
       "      <td>0</td>\n",
       "      <td>2</td>\n",
       "      <td>4</td>\n",
       "      <td>0</td>\n",
       "      <td>1</td>\n",
       "      <td>0</td>\n",
       "      <td>1</td>\n",
       "    </tr>\n",
       "    <tr>\n",
       "      <th>...</th>\n",
       "      <td>...</td>\n",
       "      <td>...</td>\n",
       "      <td>...</td>\n",
       "      <td>...</td>\n",
       "      <td>...</td>\n",
       "      <td>...</td>\n",
       "      <td>...</td>\n",
       "      <td>...</td>\n",
       "      <td>...</td>\n",
       "      <td>...</td>\n",
       "      <td>...</td>\n",
       "      <td>...</td>\n",
       "      <td>...</td>\n",
       "      <td>...</td>\n",
       "      <td>...</td>\n",
       "      <td>...</td>\n",
       "    </tr>\n",
       "    <tr>\n",
       "      <th>zenithberwyn</th>\n",
       "      <td>1</td>\n",
       "      <td>1</td>\n",
       "      <td>0</td>\n",
       "      <td>3</td>\n",
       "      <td>0</td>\n",
       "      <td>3</td>\n",
       "      <td>7</td>\n",
       "      <td>10</td>\n",
       "      <td>3</td>\n",
       "      <td>0</td>\n",
       "      <td>14</td>\n",
       "      <td>5</td>\n",
       "      <td>0</td>\n",
       "      <td>3</td>\n",
       "      <td>0</td>\n",
       "      <td>3</td>\n",
       "    </tr>\n",
       "    <tr>\n",
       "      <th>zhanson88</th>\n",
       "      <td>1</td>\n",
       "      <td>5</td>\n",
       "      <td>3</td>\n",
       "      <td>1</td>\n",
       "      <td>0</td>\n",
       "      <td>6</td>\n",
       "      <td>6</td>\n",
       "      <td>2</td>\n",
       "      <td>3</td>\n",
       "      <td>1</td>\n",
       "      <td>12</td>\n",
       "      <td>7</td>\n",
       "      <td>0</td>\n",
       "      <td>3</td>\n",
       "      <td>0</td>\n",
       "      <td>2</td>\n",
       "    </tr>\n",
       "    <tr>\n",
       "      <th>zookerman182</th>\n",
       "      <td>1</td>\n",
       "      <td>3</td>\n",
       "      <td>0</td>\n",
       "      <td>0</td>\n",
       "      <td>0</td>\n",
       "      <td>22</td>\n",
       "      <td>6</td>\n",
       "      <td>0</td>\n",
       "      <td>2</td>\n",
       "      <td>0</td>\n",
       "      <td>9</td>\n",
       "      <td>5</td>\n",
       "      <td>0</td>\n",
       "      <td>1</td>\n",
       "      <td>1</td>\n",
       "      <td>1</td>\n",
       "    </tr>\n",
       "    <tr>\n",
       "      <th>zoso1967</th>\n",
       "      <td>0</td>\n",
       "      <td>3</td>\n",
       "      <td>0</td>\n",
       "      <td>0</td>\n",
       "      <td>0</td>\n",
       "      <td>19</td>\n",
       "      <td>9</td>\n",
       "      <td>3</td>\n",
       "      <td>2</td>\n",
       "      <td>0</td>\n",
       "      <td>3</td>\n",
       "      <td>5</td>\n",
       "      <td>0</td>\n",
       "      <td>1</td>\n",
       "      <td>5</td>\n",
       "      <td>1</td>\n",
       "    </tr>\n",
       "    <tr>\n",
       "      <th>zotzot</th>\n",
       "      <td>1</td>\n",
       "      <td>4</td>\n",
       "      <td>0</td>\n",
       "      <td>1</td>\n",
       "      <td>0</td>\n",
       "      <td>18</td>\n",
       "      <td>11</td>\n",
       "      <td>1</td>\n",
       "      <td>0</td>\n",
       "      <td>1</td>\n",
       "      <td>7</td>\n",
       "      <td>2</td>\n",
       "      <td>0</td>\n",
       "      <td>4</td>\n",
       "      <td>0</td>\n",
       "      <td>1</td>\n",
       "    </tr>\n",
       "  </tbody>\n",
       "</table>\n",
       "<p>970 rows × 16 columns</p>\n",
       "</div>"
      ],
      "text/plain": [
       "category       Bocks  Brown Ales  Dark Ales  Dark Lagers  Hybrid Beers  \\\n",
       "user_name                                                                \n",
       "-Rick              0           2          0            2             0   \n",
       "1000lbgrizzly      0           5          0            1             0   \n",
       "1424IpA            0           0          1            0             0   \n",
       "2Xmd               0           2          1            1             0   \n",
       "2ellas             0           2          1            0             0   \n",
       "...              ...         ...        ...          ...           ...   \n",
       "zenithberwyn       1           1          0            3             0   \n",
       "zhanson88          1           5          3            1             0   \n",
       "zookerman182       1           3          0            0             0   \n",
       "zoso1967           0           3          0            0             0   \n",
       "zotzot             1           4          0            1             0   \n",
       "\n",
       "category       India Pale Ales  Pale Ales  Pale Lagers  Porters  \\\n",
       "user_name                                                         \n",
       "-Rick                       29          7            2        2   \n",
       "1000lbgrizzly                4          9            7        2   \n",
       "1424IpA                     21          3            1        1   \n",
       "2Xmd                        25          5            1        1   \n",
       "2ellas                      31          9            0        0   \n",
       "...                        ...        ...          ...      ...   \n",
       "zenithberwyn                 3          7           10        3   \n",
       "zhanson88                    6          6            2        3   \n",
       "zookerman182                22          6            0        2   \n",
       "zoso1967                    19          9            3        2   \n",
       "zotzot                      18         11            1        0   \n",
       "\n",
       "category       Specialty Beer  Stouts  Strong Ales  Weird Cocktail  \\\n",
       "user_name                                                            \n",
       "-Rick                       2       3            1               0   \n",
       "1000lbgrizzly               8       6            4               0   \n",
       "1424IpA                     1      12            4               0   \n",
       "2Xmd                        2       9            1               0   \n",
       "2ellas                      0       2            4               0   \n",
       "...                       ...     ...          ...             ...   \n",
       "zenithberwyn                0      14            5               0   \n",
       "zhanson88                   1      12            7               0   \n",
       "zookerman182                0       9            5               0   \n",
       "zoso1967                    0       3            5               0   \n",
       "zotzot                      1       7            2               0   \n",
       "\n",
       "category       Wheat Beers  Wild/Sour Beers  first_50_cluster  \n",
       "user_name                                                      \n",
       "-Rick                    0                0                 1  \n",
       "1000lbgrizzly            3                1                 0  \n",
       "1424IpA                  1                5                 1  \n",
       "2Xmd                     2                0                 1  \n",
       "2ellas                   1                0                 1  \n",
       "...                    ...              ...               ...  \n",
       "zenithberwyn             3                0                 3  \n",
       "zhanson88                3                0                 2  \n",
       "zookerman182             1                1                 1  \n",
       "zoso1967                 1                5                 1  \n",
       "zotzot                   4                0                 1  \n",
       "\n",
       "[970 rows x 16 columns]"
      ]
     },
     "execution_count": 490,
     "metadata": {},
     "output_type": "execute_result"
    }
   ],
   "source": [
    "user_to_cat_first"
   ]
  },
  {
   "cell_type": "code",
   "execution_count": 492,
   "metadata": {},
   "outputs": [],
   "source": [
    "user_to_cat_first['cluster_assigned']=user_to_cat_first['first_50_cluster'].apply(lambda idx: reverse_mapping[idx])"
   ]
  },
  {
   "cell_type": "code",
   "execution_count": 493,
   "metadata": {},
   "outputs": [
    {
     "name": "stdout",
     "output_type": "stream",
     "text": [
      "the variance explained by the 3 first principal components are [0.43681178 0.23533086 0.10548838] (respectively)\n"
     ]
    }
   ],
   "source": [
    "#plot by using pca methods in order to have a visualization of our clustering\n",
    "pca_3 = PCA(n_components=3)\n",
    "User_modify_3=pca_3.fit_transform(user_to_cat_first[user_to_cat_first.columns[0:15]].values)\n",
    "\n",
    "print('the variance explained by the 3 first principal components are',pca_3.explained_variance_ratio_,'(respectively)')"
   ]
  },
  {
   "cell_type": "code",
   "execution_count": 494,
   "metadata": {},
   "outputs": [],
   "source": [
    "User_modify_3=pd.DataFrame( User_modify_3)\n",
    "User_modify_3.columns=['Principal component 1','Principal component 2','Principal component 3']\n",
    "User_modify_3['cluster_assigned']=user_to_cat_first['cluster_assigned'].values"
   ]
  },
  {
   "cell_type": "code",
   "execution_count": 495,
   "metadata": {},
   "outputs": [
    {
     "data": {
      "application/vnd.plotly.v1+json": {
       "config": {
        "plotlyServerURL": "https://plot.ly"
       },
       "data": [
        {
         "hovertemplate": "cluster_assigned=Jean-Michel IPA<br>Principal component 1=%{x}<br>Principal component 2=%{y}<br>Principal component 3=%{z}<extra></extra>",
         "legendgroup": "Jean-Michel IPA",
         "marker": {
          "color": "#636efa",
          "opacity": 1,
          "symbol": "circle"
         },
         "mode": "markers",
         "name": "Jean-Michel IPA",
         "scene": "scene",
         "showlegend": true,
         "type": "scatter3d",
         "x": [
          18.0472761698604,
          10.698707118801467,
          14.36679012984814,
          20.334697631944483,
          9.35633808692623,
          8.655288284378214,
          17.714445207108415,
          10.114679357966981,
          6.166280684933829,
          6.049096061744323,
          5.61984524821494,
          16.794430858121338,
          5.88058338418159,
          7.746876683720721,
          17.979240833091087,
          5.5597105387290116,
          12.155158095921239,
          18.463781073077623,
          6.7568092841464,
          4.9937081020972816,
          10.447766152807047,
          9.700576988143542,
          9.250369570867859,
          5.754947036215761,
          9.21151135105529,
          7.644808928253208,
          18.14529645382723,
          14.768102300707131,
          9.116512634677635,
          10.396799336856708,
          7.047082740086011,
          11.146230280565105,
          12.246415856391808,
          12.76433894722842,
          32.07893581593939,
          7.2702136544920375,
          18.27654519606182,
          19.884660426721087,
          5.0006964466117685,
          12.272352312079008,
          8.26244507203081,
          9.896878109726627,
          21.070378396914972,
          15.972147270584772,
          20.456229515370516,
          20.25559805838713,
          13.776698137894256,
          10.73699176068291,
          8.111119486968523,
          16.39734106290254,
          19.369566194167398,
          10.13108691406387,
          7.610984816417251,
          15.291477556894451,
          10.04947495665988,
          10.32779402159432,
          5.492021985048906,
          23.50917002305487,
          18.557040565637543,
          7.5497330084266645,
          9.631558200042141,
          12.578186460397331,
          5.429657729166766,
          6.330504665279934,
          7.282159983027062,
          13.462803512722877,
          16.81451824669832,
          20.13186866717842,
          18.047881386921503,
          11.717122973987466,
          17.909659677945356,
          10.131227130283282,
          9.894936914482379,
          4.992422539121845,
          12.266345747542623,
          17.814147609529396,
          7.4691275771488,
          20.750461078565767,
          8.692064414758704,
          21.77471404468391,
          20.540249782396334,
          25.38319941197799,
          5.303965238403487,
          9.524267037670594,
          23.92306346566018,
          6.155714527311319,
          15.545831616321017,
          5.02714389400561,
          17.805402100528877,
          20.383439282805163,
          11.670074987791988,
          8.624719548670491,
          12.6327903111907,
          4.289739125229639,
          11.326783367737578,
          5.541612259348237,
          4.741326729432935,
          17.791674213340258,
          5.6030516216956885,
          17.826270717924068,
          6.0475736553495185,
          10.423781960784298,
          9.393921124331378,
          16.77898542970863,
          11.814816124894481,
          8.757688972022184,
          11.322101292736242,
          10.339555620752844,
          13.068839751520146,
          7.184598718627526,
          4.9669106334763375,
          15.135939049772773,
          5.923413144620786,
          14.667616564811027,
          4.38097517732162,
          5.5795751135123375,
          16.357066846448397,
          11.332177060359097,
          8.409127058409755,
          16.183649655090356,
          12.174955562729817,
          5.474570285312125,
          6.550778670606088,
          20.473843449687696,
          8.15887677053744,
          4.972612655100556,
          12.810224841998473,
          15.249717258906092,
          6.201974470562049,
          17.553534952770185,
          5.322809886506829,
          15.446298687821558,
          22.648201593679186,
          9.417237858139066,
          16.4600974129954,
          5.999759114723316,
          20.566690484733698,
          13.652685008815187,
          13.610179176149357,
          5.810049436747753,
          19.571727917975956,
          8.603096137424991,
          6.650455286722623,
          7.157152372634921,
          5.473909391539579,
          3.854233879732517,
          13.24860822880508,
          17.454389164472683,
          15.213920988711545,
          14.158880377430343,
          11.757140463882132,
          8.315347226356762,
          7.929130848695221,
          12.961627445621883,
          9.330939082333282,
          8.086439741047094,
          15.6628948953124,
          5.59308601115401,
          5.9369840977520125,
          12.657457656817735,
          21.567359748243124,
          20.50434815792581,
          9.820986956420647,
          17.04232296496689,
          17.709823521202583,
          9.309570785273007,
          6.865011335217501,
          10.922984850142283,
          26.10697944597561,
          20.26129462351255,
          6.740041468404487,
          8.317677189196116,
          7.216827933749104,
          11.131402922054267,
          8.833767157790804,
          11.972114412453163,
          7.294330374024491,
          10.481421305083128,
          6.574370411471002,
          13.020617025840245,
          27.16199014708958,
          16.379661543563408,
          9.127093022898157,
          11.679198157637751,
          5.25213826144303,
          7.624436541881536,
          10.547284858384993,
          14.048072328864828,
          6.737454123091294,
          18.015408161976275,
          8.067643033823986,
          16.214820955390014,
          7.993716913678658,
          11.768667554731886,
          19.973455950485185,
          14.840546548547787,
          7.08389031550504,
          16.52728120766923,
          9.001236947756903,
          10.402157705031948,
          7.3235004408052236,
          5.285556017795191,
          8.407581831494975,
          6.918279095037613,
          14.076560141805796,
          9.097284143895326,
          15.568022034040858,
          22.251716444497585,
          12.23427629529874,
          19.499429189329696,
          12.153765222546147,
          6.6483908384004735,
          15.176727549551167,
          8.435280335189795,
          11.516517285465033,
          7.042118933667296,
          10.266168426965915,
          14.334765288475825,
          8.449156958606748,
          11.998425884241891,
          9.369122821657262,
          26.463624599835285,
          19.473224987382252,
          12.396696481030515,
          5.357749015393867,
          6.169460993699708,
          11.413407570220544,
          13.798101076131982,
          5.672102758812052,
          25.508080001806412,
          7.274830366241072,
          6.468018109329231,
          7.674129670969821,
          9.714670813751466,
          5.563711581296731,
          12.762611266058121,
          11.548984175885227,
          8.00811891973371,
          7.276088832711905
         ],
         "y": [
          -4.419624294989657,
          6.037139768067791,
          1.5656462160063227,
          -4.850009065806567,
          -2.8788613749552616,
          -2.5837020309680754,
          -4.288247713719748,
          -3.762679912692888,
          3.648537742125441,
          2.4466778455212035,
          -1.9370473869730478,
          -9.057563394418013,
          -4.114145694502198,
          5.235397228548389,
          -7.679186324118753,
          -1.5945548958322313,
          -6.071765781860164,
          -7.29670352081742,
          -0.7080336358221659,
          -3.400242274312956,
          3.536227001875146,
          7.710512579183066,
          -1.0371887127182389,
          0.5180770724437836,
          0.6620979579169414,
          -1.282488423576052,
          0.10543326164182655,
          -1.1720587444322972,
          0.539885970427844,
          -6.340835247958797,
          -7.660670750366025,
          -5.164590709514226,
          -3.1121369508442824,
          -6.660126918057668,
          -7.297039673254564,
          -0.6217727260269406,
          -8.231247877201003,
          -2.5016034454879343,
          -2.16365317058996,
          0.8058621405040985,
          -1.5609105733908089,
          -5.620558748397302,
          -6.711857861839805,
          -0.09706183292179933,
          -5.877378909613764,
          -5.114502797576079,
          -6.381645830581812,
          2.841920877724436,
          0.8567306850384477,
          -6.3200452382076096,
          -3.5790675093480093,
          -2.3630787626882945,
          1.7694070179920236,
          5.715794676002578,
          -5.000385904526552,
          0.8126202825061446,
          -7.899285533550214,
          -8.87372782951474,
          2.0941441734415496,
          0.9970622014441477,
          0.36222465598112147,
          -4.713514621264712,
          -0.35896913833685423,
          -2.0412224269827925,
          0.5348423538979445,
          -5.791084396503282,
          -4.244699302004648,
          1.3828724702284594,
          -6.368987053971847,
          5.177881465990016,
          -6.432558140266044,
          -0.5844867369977107,
          4.567918578226718,
          -6.849429174489472,
          3.0988434807054106,
          -9.928833346885213,
          -0.8722569059446064,
          0.3569560440428497,
          2.8778550415164226,
          -6.315192486859481,
          3.662318330124149,
          -4.481664306512829,
          -1.3053364772753497,
          4.016386952665257,
          -4.843325606977265,
          2.4591530944982614,
          1.755365913609637,
          -0.34875284931430534,
          -3.3664257830902264,
          -8.247440272449685,
          -8.677681522240524,
          -1.7714477599135117,
          -3.067412345917192,
          -4.6561213774750465,
          -1.1749600407506489,
          0.9871960600369026,
          -3.796841668521187,
          0.8828693050830552,
          -3.5812550977823885,
          -3.250199150548462,
          2.2103027102099317,
          -1.6636470072593228,
          3.6247070365207166,
          -5.972668445557215,
          -6.433656299326808,
          -5.1903330403717165,
          -4.55658544708023,
          -2.8282224536678098,
          -1.0948825502786361,
          -7.668738464518093,
          -0.7780156923317518,
          0.36451814432879975,
          -3.601645717439237,
          -0.7664808307243925,
          1.940982989253212,
          3.1460646684593083,
          -1.9214719083085805,
          -0.8921267320082303,
          -1.9778257960262344,
          0.30966832953411133,
          -2.0376537796136125,
          0.5890657331379581,
          -3.152979868293986,
          -2.350312481511782,
          3.6740184633387543,
          -1.342343321306992,
          -3.584322732833307,
          -0.2597329042493086,
          -0.9840676868631592,
          -7.398877601680039,
          -5.913266569872102,
          -6.763213307663093,
          -6.6961872024005356,
          -4.263873191130436,
          -6.692649348058519,
          -8.98908907123199,
          -2.612205097205562,
          1.7144009918050527,
          -6.081817934125313,
          -4.9853361494429755,
          3.037028243870377,
          3.6994181524953396,
          -2.839245008243797,
          -5.558878456673261,
          0.8216055827432317,
          -6.164169454002811,
          -1.9774451508840758,
          0.30658265138470747,
          1.1712865203961607,
          -6.509865524184981,
          -4.502616879706611,
          1.1695711019148678,
          -8.952665709794319,
          -7.051603836229592,
          -5.605954034117034,
          -5.637784442147715,
          -9.093583289559946,
          -0.28917330681000897,
          -3.5739314540916327,
          3.0904944347747447,
          -4.465703884661865,
          -5.801999226199448,
          2.7522540151449273,
          -3.43317134005119,
          -5.151154295214758,
          4.794141206443527,
          -2.3861818832049004,
          -3.668834413852648,
          -6.252104650865063,
          -3.0579222797994476,
          -4.141132608177008,
          4.427338787109431,
          -9.13355228647395,
          -6.0839961457815015,
          -2.941219383823995,
          -3.5890721061010433,
          -0.4194306646355542,
          -5.817948727893054,
          -1.304387832555717,
          -3.629380582416506,
          -5.312104662057742,
          0.21695866815316203,
          0.168355830785587,
          -0.4976283794740224,
          -1.454210645904139,
          5.814584943587401,
          6.108770048111395,
          -1.7639463061658545,
          -0.3197918294354355,
          -7.7974338773487215,
          0.8247937734322199,
          -5.351531149009494,
          0.1114585870065484,
          3.8338520841167214,
          -5.340780304226405,
          -3.9088203338897056,
          -8.106329388355503,
          7.855419329474417,
          -1.4763927306891738,
          0.2705424031765177,
          -5.421797094568448,
          -3.4234597555137647,
          4.167169444077809,
          1.5536471451889406,
          2.0842327052345833,
          -2.207727465227149,
          -8.000097378903343,
          -1.879451053538469,
          -3.7371797356222536,
          -4.575260682836102,
          -4.118592281906543,
          -3.4990583226930254,
          -5.078941210110562,
          2.1080165678851177,
          1.6104559092086554,
          -1.675175778417858,
          -4.869663817911871,
          -2.8949060578099433,
          -6.678120286078513,
          3.0894904438505177,
          0.8881455547578214,
          -7.4256937346633265,
          0.13426300159244595,
          -6.549875837529774,
          -4.682986560694578,
          -1.4424589018682825,
          -3.6603681978362776,
          -7.2157019098757615,
          -4.159923513428216,
          0.8115624485124909,
          4.6741999036453485,
          -8.190097839877108,
          -4.817580245886143,
          3.5369651817651797,
          2.1767928348943206,
          -2.1497996480177557,
          3.1627084960304326,
          -3.1305171307659103,
          -1.0195304468125033
         ],
         "z": [
          2.36935772254873,
          3.8496728808445657,
          3.7843482063773406,
          -1.3640427660163643,
          1.0509816351781636,
          -4.128099512365685,
          7.3552148081012145,
          -0.7039228705507572,
          -0.33591740843092127,
          -0.9876412528543486,
          0.44225610253682285,
          -6.466021428970609,
          -7.312230160072897,
          0.43379658980642605,
          2.644854535056991,
          0.5054096718230011,
          -5.2754087501140425,
          2.1560832090117437,
          1.4664409701962955,
          1.1337572569619394,
          2.1675103533125757,
          2.2624450285908466,
          1.0222338302374678,
          -5.038149338316483,
          2.1369173357196467,
          5.186385258623094,
          2.625954715022539,
          3.2848481826384677,
          2.3802989877246645,
          -5.098648361168856,
          -0.8934171761558488,
          1.5197416452288006,
          -1.1886270813708275,
          -6.458072803266492,
          5.452042855042507,
          -0.3614827833301047,
          7.875650852654495,
          2.9374155373738087,
          -0.25629102739798226,
          -2.215609766694817,
          -1.8992571375733507,
          -3.033641792591175,
          -0.43196214032028607,
          -0.6019096803144595,
          4.46271167748382,
          0.3141846428465747,
          -1.1244699744146682,
          -0.3526057666220829,
          3.630148587143691,
          -2.3977897095100755,
          0.0789177178241566,
          0.3361743957467593,
          1.5698592026740066,
          2.5385577172083944,
          -1.3285788773854827,
          -0.4992321661393549,
          -2.7048265294089116,
          -2.4385562627546826,
          2.050077109220993,
          -1.7215817635377897,
          2.0265989770431796,
          1.5144641581102614,
          -3.310973547541645,
          -4.656890195282326,
          -1.3733867171425824,
          0.27403931239353874,
          1.5466091121024974,
          5.027870052080206,
          -0.6340039392886384,
          1.3953427022870386,
          -1.2041859585294992,
          0.12278184492253598,
          1.3144141087498848,
          -4.102487166267141,
          2.6347270452770393,
          -6.902882779652654,
          1.4344907631252577,
          2.8381852224942485,
          2.3418167500459948,
          2.241727792730587,
          5.89426690678792,
          1.776568575956124,
          -3.6260148456462797,
          -0.0035628006946645044,
          2.192896445252926,
          0.021349618339559846,
          3.3101516026278732,
          -1.4724626351655048,
          5.264104420793124,
          1.0457710422814452,
          -3.3924461693676866,
          -1.9028676741631718,
          2.338078125336678,
          0.31197229375195507,
          -0.13633818635402328,
          -1.7470561309170745,
          -2.9463211203283666,
          2.3025680266513144,
          -0.5727029512145886,
          4.095770319183829,
          0.5658750786317952,
          -4.947178304781167,
          -1.7617333599941256,
          0.8845970263490283,
          4.190888360692252,
          4.448676506822682,
          -2.0502655128624823,
          -3.8246326988835055,
          0.9693360447289101,
          4.710158617194189,
          0.8998972621972834,
          4.151865102842326,
          -0.48159143050225817,
          5.943391308702024,
          2.128642829318969,
          1.9720054520219275,
          -1.3667104405932469,
          -2.1161137103446506,
          -1.4686960966360614,
          2.10929949977688,
          -1.7057108087107082,
          -2.7990050168570693,
          0.13092620595388668,
          0.6578188449131361,
          2.4728590927442866,
          3.9908880595574154,
          -1.5176253296039697,
          1.5688923162296033,
          -1.864584209807842,
          -4.316628258030051,
          -5.9811914714450305,
          1.1543270378656723,
          3.232925976841454,
          -3.7409874908063534,
          2.065731446052381,
          2.1680006739973656,
          -0.005551667764102087,
          0.8068832368183821,
          -5.499047444381824,
          2.946625014068849,
          4.6601975355742224,
          -0.5309279619509885,
          -0.7254965014955069,
          1.0603117850995298,
          -3.7601648841427933,
          7.600497890403217,
          2.6340280017017133,
          4.4036453853910915,
          3.409778309288727,
          -2.2618459067391057,
          1.3108442780589706,
          -1.4821419893751988,
          0.5960467812962467,
          2.1743309047811454,
          7.98821261273791,
          0.7909243001574192,
          3.0545093812452966,
          -5.936072409541165,
          -4.368770262992309,
          2.477960183382024,
          0.6292009591208144,
          -1.7043282037166898,
          6.261629095862806,
          1.2757424400428692,
          -2.7823384182865616,
          0.3685580310395156,
          -0.804582710829482,
          -0.9020686398711095,
          3.2720557617230854,
          1.9235928284721566,
          -0.6323573919820257,
          1.2352710320759905,
          -6.614470240072432,
          -6.32413232125805,
          -0.194393290634172,
          0.10786985153889356,
          -0.9510270961598482,
          -0.21767516606528414,
          1.7771292039123667,
          0.9326717085031744,
          2.8058798964573457,
          1.6608159926406267,
          -0.2912043895196418,
          -1.364721695914539,
          -1.8079640645786603,
          1.7256434715593032,
          5.029362595572286,
          4.044003731191331,
          -4.287757561005938,
          0.5168643952686509,
          -2.634031377105934,
          0.9720083311189204,
          -0.07955104987003356,
          1.4975325692909092,
          1.8701528127428264,
          1.919660559089656,
          -0.8322054704911351,
          5.418777283550462,
          0.7897584865346106,
          -1.4749764520283994,
          -1.8408979957276634,
          1.9300666430479008,
          2.3679654948743942,
          -0.5547798755590647,
          3.146990106893944,
          -1.0408188968820673,
          2.458941270481823,
          3.4857883642112286,
          5.574810404826011,
          1.3877491862568896,
          -0.9177870034768003,
          -1.957723790505271,
          -1.463134011068813,
          0.849212744448893,
          -1.6478549105755402,
          0.571306515480364,
          1.0062782881964942,
          -2.813446516079768,
          -1.4553910131255294,
          1.4255393514651356,
          0.845619904162491,
          0.9196858083099797,
          2.5835421933515255,
          1.2028965963784537,
          -1.596803247595454,
          -1.7154134390676774,
          -3.2049371875332007,
          -2.0600800828700554,
          -4.15768804516662,
          5.855580601482545,
          -1.4518201890593003,
          -2.24544115378129,
          -0.7950671901518327,
          -0.9785798040693363,
          -3.754050300058655,
          -0.4152089330031784,
          0.42644491606822166,
          -1.7537371350565514,
          -1.6772527760871565
         ]
        },
        {
         "hovertemplate": "cluster_assigned=Ada the explorer<br>Principal component 1=%{x}<br>Principal component 2=%{y}<br>Principal component 3=%{z}<extra></extra>",
         "legendgroup": "Ada the explorer",
         "marker": {
          "color": "#EF553B",
          "opacity": 1,
          "symbol": "circle"
         },
         "mode": "markers",
         "name": "Ada the explorer",
         "scene": "scene",
         "showlegend": true,
         "type": "scatter3d",
         "x": [
          -7.737556683387105,
          -2.571899240054057,
          -11.902931832187944,
          -2.0675626441074324,
          -3.457743906550928,
          -4.922773187484265,
          1.804133129753927,
          -10.634542315977795,
          -1.1436929525330002,
          -0.7551134305755184,
          2.756255545442466,
          -2.1003221982068276,
          -3.2517241114819635,
          -11.567591749742917,
          -5.5136430338597275,
          -1.2260948771051108,
          1.9740368926563645,
          -9.893182082731617,
          -5.553263263886647,
          -9.52979354142351,
          -5.3173168870615015,
          -8.561993257415027,
          -5.893675204975158,
          -5.336102924982173,
          1.573558397822101,
          -8.304019927989014,
          1.0649081259565893,
          -7.645236360956846,
          -3.2510604691425944,
          -5.702971300085949,
          -10.331361974770816,
          4.327159376451314,
          -9.36564810324027,
          -0.29626340780259786,
          -0.7005795892515889,
          -1.1588380538380638,
          -6.29473343308174,
          -10.806070251180676,
          -10.03909836726735,
          -7.125743340374933,
          2.580831257007124,
          -2.801699495299022,
          0.025049418861613392,
          -11.30677134721489,
          0.5992292045511964,
          -4.420727576185666,
          -5.392186996789009,
          -5.724261083958853,
          -9.553781060039299,
          -8.338366765833863,
          -2.2289279159651496,
          -7.253867015612603,
          2.133490834686321,
          -0.16916083467824522,
          1.3302181259350712,
          -2.4920838317127108,
          3.683843105275739,
          2.85691817276681,
          1.6011979906122606,
          -2.4185452586381513,
          -1.405265998835029,
          -7.812887145638041,
          0.47172307488740006,
          -1.8301446618432362,
          -9.135614730394991,
          -5.734812436811039,
          -8.614953215066597,
          -5.22577294632857,
          3.9237436281481877,
          -8.75836640712133,
          3.6925914791396663,
          2.1319998006292167,
          4.796092810992481,
          2.1946816814828134,
          -0.9677046877999704,
          -7.251837145615302,
          -3.5091205378999315,
          4.350914528992443,
          -0.29729918093135,
          1.7659045699808598,
          -0.18061051324738334,
          3.54472411718611,
          -0.5411515506119553,
          1.6354126644397435,
          -4.038489760358216,
          -0.513452461270455,
          -3.2883449358379355,
          -3.9662386760624635,
          -1.3875300041092613,
          -5.447940305855017,
          -2.659758146904674,
          -2.988030217649523,
          2.6201733980731,
          -5.212123764639852,
          -1.0717158755355372,
          -8.490247147073473,
          0.7952697816397071,
          -7.0295215062891545,
          -6.829830437117096,
          3.3619208884958476,
          2.0536042122232834,
          4.0465122363770485,
          2.943545530793414,
          -6.268725417507121,
          -4.750797163074198,
          3.469651447496439,
          0.3358142128184564,
          -3.750781536219268,
          3.736692933376734,
          4.0790862784353665,
          2.8591399472907306,
          1.1156102619477166,
          -4.745462550034233,
          -7.485855138744724,
          -4.980824305714266,
          -6.576765285090519,
          -5.3942621143921405,
          -3.473319099195403,
          -3.813938178076865,
          -9.521491806637211,
          -0.14979787021096305,
          2.3430737815132954,
          -11.132211045065779,
          -2.612276602133619,
          3.318667036138221,
          0.6385338236674635,
          -5.349404450059281,
          -5.480898713774036,
          -4.25653249105909,
          -6.007223236340828,
          4.110913664792915,
          -1.889488389569573,
          -10.964137774135395,
          1.141003342445684,
          -4.645234366445214,
          1.3058707569224621,
          -3.618317936042725,
          -7.686567791995983,
          -0.8788652620363032,
          -6.053189880889268,
          -1.4569041457722953,
          -8.520621978894475,
          -0.8867788219946121,
          -3.7222852864216267,
          -0.6969478704959611,
          2.2180614428645673,
          -7.160272729522151,
          -2.7210693840808746,
          -7.870957935643801,
          -8.154982295864844,
          -6.195367959992455,
          -5.318570329938356,
          -2.2734634822482493,
          -5.78873050806901,
          -4.371926573294219,
          -8.610319225293336,
          -5.68298317210634,
          0.12422228282354063,
          -2.9730071929920223,
          -0.6926987050435173,
          2.1288622922368305,
          -0.14674755513379523,
          2.1645007335367725,
          2.4074149000910956,
          -4.950810453347775,
          -3.630934900376889,
          -9.883700229029186,
          1.88694651836475,
          -5.496544199736268,
          -1.8222328450378698,
          1.9985981096263752,
          -3.9362618745100892,
          -1.3504861683569047,
          3.0458847365843185,
          -6.833538581452467,
          2.030653743628832,
          -1.7627615229679212,
          -7.233725734747062,
          -4.147447964738629,
          0.7592402458382873,
          -7.409294517678082,
          -7.975733922728072,
          -3.236218153779546,
          0.014417956929151729,
          -0.7114571468416105,
          -5.836836032368148,
          -7.966097910383811,
          2.0122594044134896,
          3.175041090767539,
          2.43485699195583,
          -3.121491550867315,
          -1.5218219402636204,
          3.4850744565095533,
          -3.272792861848846,
          -3.467208880441246,
          -0.45296411581212637,
          -2.5892354964053523,
          -4.216805475196378,
          -11.928062553166068,
          0.45000508301950465,
          -8.33370304377023,
          2.620747772060476,
          0.27754176883032444,
          -0.3382570420790567,
          4.259867122761255,
          -1.4723812062932373,
          -6.180878673455881,
          0.4285018155431714,
          -7.323465150575393,
          -7.41327058425655,
          -4.7087401046256705,
          -9.242565970049032,
          -10.489323275339643,
          -3.7519169431495776,
          -0.2666308669535154,
          2.6205775767529316,
          -5.158186869384346,
          -2.976452080768996,
          -2.4369265333525307,
          4.3513803229154355,
          -6.9387481989695505,
          -11.531188858625983,
          1.7320563655677559,
          -3.403186079896149,
          -4.602745753914894,
          -7.163490048691928,
          -0.9356346413617564,
          -2.662247308197197,
          -8.324735940137801,
          -2.2897634484366565,
          -6.581052757085836,
          -7.485584789851691,
          -2.171991528118137,
          -6.585677696634144,
          -7.766624836260279,
          -7.463019567698096,
          -0.7461589832533421,
          2.242317332445049,
          2.3727805751904,
          2.3736614251856305,
          -1.2468058523480758,
          -8.726746477403612,
          -1.2932735177499,
          0.4945814357423828,
          -3.6449472006520467,
          -8.168741010333811,
          -1.9696376907122473,
          -0.08211905887502323,
          0.3990215956332989,
          0.048654728545166503,
          -5.29203180480769,
          -9.404181452269967,
          -7.933237322088439,
          2.348664077418891,
          -2.5947057853145514,
          1.9332557008825841,
          -11.707770647084761,
          1.4227778103163762,
          -9.492169671436633,
          -7.84402069609365,
          -4.1704246130859834,
          1.15718221148854,
          -2.7965505083552467,
          -4.730115579584297,
          -0.8800575104080759,
          -2.2325246816737225,
          -0.174310703953343,
          -3.2909452612860446,
          2.7030099981951743,
          0.3682766018340195,
          -6.6346718758579035,
          -7.377000693165221,
          -4.568622749966082,
          -5.709539685105744,
          3.380648116171168,
          0.18536442125454736,
          -9.484221405722282,
          2.5532219954870623,
          -0.8288057554510141,
          -5.439886796014952,
          -4.666318488795346,
          -7.863040432644942,
          -10.747428362628195,
          -3.675800219048311,
          -5.988966242376739,
          -6.565775235877553,
          -6.862151286853847,
          -0.7430104797273932,
          -8.800871402358608,
          -2.8619068163887653,
          -6.426394632818264,
          -0.679842063608002,
          -1.4831299838598173,
          0.645125870407105,
          -9.005738724636982,
          -2.1871139236402133,
          2.186291977592054,
          -4.026693659609651,
          0.24694720479287333,
          -8.73922197576621,
          -7.701406830994492,
          -3.043403439421182,
          -9.620822903531373,
          -10.57253763403208,
          1.6851468854494778,
          1.731016411903113,
          -1.3455525971043092,
          -5.547607640334762,
          -0.4076696362294251,
          -8.33326188640653,
          -0.16007816320619392,
          -6.666159260784544,
          -0.23282211699972274,
          -9.945163636109223,
          -11.208856453129174,
          -7.899441383246185,
          -3.0702092554940266,
          -8.384878768963727,
          1.1878788816938457,
          -4.483133547451506,
          -6.810237231212217,
          -4.791555991748716,
          1.923514462532419,
          -9.272648043577027,
          -1.1618548691187025,
          0.7337729932506186,
          4.8150562754607895,
          -8.883741111038477,
          -7.326487179989415,
          -1.6543470264341555,
          3.0346594717389515,
          -2.738071293486699,
          -9.987971296638325,
          3.5461501459939813,
          -0.996718318685684,
          -11.89311175044613,
          -5.390169972993812,
          -5.0491446067211845,
          -1.3114400663832808,
          -3.5565044701063524,
          3.123192719688536,
          -8.836725920537962,
          -8.03012266029743,
          3.7813295115599534,
          -0.2965407417418021,
          3.5157567095989255,
          2.861632792793958,
          1.7906251104540352,
          2.908531028214868,
          -2.4005078554064156,
          -4.060087610304954,
          2.081497861823712,
          -3.9168705780788757,
          -1.998764564196322,
          -3.116013922202372,
          -2.9104592422653286,
          -5.2569271829889335,
          -7.72768142434753,
          -7.3436265311805755,
          -6.517014613943239,
          -2.7275254175753094,
          -6.481642794497619,
          0.905327469217321,
          1.4387808353298972,
          -4.834378458841238,
          3.701928892101679,
          -9.123265269813198,
          -6.777689292727072,
          0.22126897982516852,
          -2.8879102375374424,
          -3.4645153673008764,
          -6.476435513154749,
          -1.3459929389715488,
          -1.930176385285417,
          -6.373983377036573,
          -5.526464788692725,
          0.7468857936761713,
          -3.1073249590850573,
          -1.5723650885113178,
          -7.200998747612003,
          -8.256032120656055,
          -3.419019878722479,
          1.1592462426766346,
          3.2026690975626755,
          -9.286791973045899,
          -1.2927707747435202,
          -6.966955375928198,
          -1.7569156096034524,
          -7.581225236011194,
          -7.705890598607405,
          -1.8828054802970442,
          -9.23803616401022,
          -8.645125318402412
         ],
         "y": [
          -1.3489144230407202,
          -0.8659440518059539,
          -0.8232903406003195,
          -7.585988679584339,
          -1.1026587899122249,
          -0.6630956409293484,
          -0.12417965244570556,
          0.3537549144053064,
          2.6507127519322817,
          -5.682854619684897,
          0.7176884708254131,
          -1.2425823245513363,
          -2.4254608822029002,
          4.169888492450953,
          -2.553133442315167,
          0.8102471808415685,
          -4.7687148465822835,
          4.664351414538055,
          -1.72600921456195,
          -2.0358765341309986,
          -2.257633640417966,
          -0.480135570206762,
          -2.5614193790094717,
          -0.05452642176655733,
          -3.886227120375004,
          -0.8079307491761577,
          -7.7188288994575185,
          2.8095627172894724,
          0.29923105455866483,
          4.527047607169096,
          1.8628320918329904,
          -1.2938713558775583,
          -1.8793180747300104,
          1.6746799094229088,
          1.8259075176202668,
          -4.456175589944605,
          -2.5572620743958083,
          -4.0489460444747705,
          1.4263877581988307,
          3.1816338863834566,
          -8.730768781899647,
          -0.18361984156930874,
          -0.4005225437018843,
          -4.088901793639789,
          0.6498964189601577,
          0.10154232955307532,
          0.9007341277580634,
          2.0362910844521225,
          3.845727338207966,
          -3.4603896097711995,
          0.27396706150889377,
          0.9128244339435528,
          -3.0312147636933573,
          2.675034506545708,
          -0.7237559700017231,
          -1.728637104298832,
          -1.6433497052113908,
          3.120764995569516,
          -3.0233885708296473,
          -1.77927535042329,
          -6.602998502438003,
          -2.022046387217328,
          -3.179602760878185,
          -0.4484503529807135,
          -2.3695290015029378,
          2.7926304595225044,
          -2.5278370558935426,
          0.16892098515426704,
          1.4585037299738706,
          1.6532694482845798,
          -3.1993303257411476,
          1.0880677522591602,
          0.99507252558839,
          -0.5516103107414358,
          0.7186391221654512,
          -3.1115327177601046,
          0.22355566156910087,
          0.5826873594878511,
          -8.166431291725523,
          2.9356373732282015,
          -7.570431241313429,
          -4.617268393256541,
          -1.9146285429150016,
          -4.0066347328610865,
          -7.958886771062256,
          -4.729017232806235,
          -3.168850109035908,
          0.7450448053954003,
          -2.3791317678475097,
          -4.002045444347689,
          -1.4050137926442248,
          -0.8158797279372865,
          -6.3450648630122615,
          0.8500302617661892,
          -0.7173056131258437,
          4.249079779756967,
          2.813803858909493,
          3.798231170190791,
          -2.1449881438699023,
          -7.536625101691851,
          0.9428618174304391,
          2.212390081563103,
          -2.515670296351641,
          -0.3298762079853365,
          -0.525998703688894,
          -2.6063262035248407,
          3.411211300739938,
          2.187557078031981,
          -3.3762767890232803,
          1.2726769006651877,
          -2.210499638131168,
          -1.0187325959331008,
          1.4611851463088448,
          5.042435389992222,
          -1.05081548583787,
          -2.7331702812927006,
          0.24427544569200396,
          -5.437799678750344,
          -3.194589602721626,
          3.4416613829841567,
          -4.671202252986621,
          -2.4114959606971103,
          0.42762152099389183,
          -6.606652973902378,
          -2.873281600535807,
          2.2614579989996395,
          -1.7427149067785253,
          2.307836009670716,
          -7.857058183794122,
          -7.4577242688511385,
          -0.8853398130897344,
          5.584039405008921,
          4.112861125431786,
          -3.200913355514033,
          -3.0146126409596077,
          -6.313091033637116,
          1.0779986799021526,
          -0.9439104819924138,
          -8.352575009180349,
          -3.8430695203032617,
          -5.630894241240849,
          -1.2085767416442115,
          -4.514412147384922,
          -0.4990911072071605,
          -6.239011670097843,
          -6.630082779409927,
          -5.28655109581091,
          -3.754130377949957,
          1.5910712645156753,
          -2.1002143797730044,
          -6.2852669302606525,
          -0.39052404496717774,
          1.0974353921538385,
          3.854374126352952,
          -3.9950081934718416,
          2.633864344724104,
          2.246135215627346,
          2.4587126683478346,
          -4.211521823805749,
          2.836847671370197,
          -2.287638514314434,
          -6.123052230311203,
          -3.8141811121396376,
          -4.753556718064212,
          1.9191329061219184,
          3.7916292457149163,
          2.680704579952376,
          -4.613134450992155,
          -2.9337974862116853,
          -1.7805447305371078,
          -2.105511309097405,
          -1.0188011140018358,
          -0.745526010418193,
          -0.017952848450454147,
          2.343874626015166,
          -6.400691084757322,
          -4.9715503931760425,
          -3.6755642312168835,
          2.4419104191257857,
          -6.097173891238685,
          -2.8039203431835187,
          0.4389495627399467,
          -6.048813923041961,
          2.8200219643513282,
          -3.7901458559914194,
          2.1796244232959068,
          2.00073695225114,
          -3.148959069523262,
          -4.078649109461782,
          -0.043344849692692144,
          2.0912463480634726,
          -7.982838693223411,
          -0.607699790081447,
          -3.67546045109359,
          -0.4723080804397318,
          1.6906644502516641,
          -1.7058222357127113,
          3.659466780336842,
          -1.1739584072695892,
          0.7833013921322639,
          -0.16794190728928388,
          -2.19248498541695,
          0.9789598267842846,
          -6.154005302858724,
          -0.8954513779606076,
          -6.095422913305429,
          4.528976619862308,
          -3.8627611664971675,
          2.5950743808895207,
          4.072489589552387,
          -0.25591198881923083,
          0.44700807717122526,
          -5.280145428863231,
          0.8029424417385462,
          -1.3679201175826732,
          2.2948138371943703,
          0.5122055035367793,
          1.8503443084874127,
          2.1377298535098705,
          2.3423474166057083,
          -7.449442074729085,
          1.785505826633165,
          3.2587584699205525,
          -1.70614916880568,
          4.165256247352751,
          2.2284711346213033,
          -3.156547181974058,
          1.82313769159674,
          4.875571486071278,
          -5.330404590376347,
          -0.7788497196270179,
          1.930957234004141,
          -7.950353217126105,
          -5.180649114832136,
          0.14895027702295066,
          -0.9115501545582816,
          2.1103102065562895,
          -1.25050568430447,
          -6.726391701321882,
          3.11302468326347,
          -4.959589101641725,
          2.5146450730358474,
          -2.849083197132799,
          -3.9317035520460535,
          1.9736124494062972,
          -4.474794545912537,
          -0.27582548180256183,
          -7.480091509384433,
          -3.301091272375288,
          2.996674345839873,
          -0.16710374565991468,
          -2.4290118807722814,
          0.706943438367729,
          -2.3344984847336283,
          2.388510500605964,
          -4.743033364810852,
          -1.3281604316347169,
          2.1174784750325633,
          2.7265244463691123,
          3.405447541539486,
          1.6787212709270245,
          -4.034308963083762,
          -1.5579659616209125,
          0.12488599843966129,
          -3.9879731551026283,
          -5.2414306769509,
          -1.1579635063811655,
          -5.968131094459347,
          -1.2467323027558173,
          0.41189701717179383,
          -0.51300795064549,
          2.7422928066809833,
          -2.452161858637536,
          3.485833027184063,
          2.4208288514700134,
          -4.897768345214691,
          3.9777532987873325,
          -6.328799971590872,
          2.524757913709863,
          -6.695512173600403,
          -3.768482802135297,
          -0.732330142716498,
          -0.7677339736599942,
          1.9530986356090725,
          0.10858089093846658,
          4.4520037564045305,
          4.9686150154119035,
          -6.168548322543524,
          4.146814955121168,
          -3.3978851873381335,
          -4.023046404281971,
          -1.7025438375472852,
          -4.792676081378886,
          -5.762347219282183,
          5.598853236927393,
          -0.8669743421397662,
          -7.368907526854951,
          1.1192897999057454,
          4.70576065866849,
          -0.8870355585597461,
          0.18979368687276052,
          0.5231503948250638,
          -2.6223973823730136,
          -1.617380192766973,
          -2.769948293066617,
          1.1564706185763893,
          -3.6295066125356996,
          -2.7639467958977657,
          3.3179222170328946,
          4.513616966674368,
          -2.195974280218129,
          -5.15396619646568,
          -4.631934790142561,
          -0.061209264785975215,
          2.4650123479688864,
          -2.1015014984704243,
          0.39931381909191993,
          0.454701713038225,
          -1.2094924996581133,
          1.303856118848284,
          -0.01900905388833319,
          -7.630403649600132,
          -2.5636224602594666,
          -3.797806188682719,
          1.411465073792089,
          0.19023911701967583,
          -3.1694762500649265,
          5.576098758515682,
          4.610880890014796,
          -0.7451861674270759,
          1.9246246973811747,
          -0.15880316805211028,
          2.5483300666888336,
          -1.3210257951498405,
          -6.366619818016412,
          -4.801681173812205,
          -0.3101078540964433,
          2.685874734715847,
          1.8123779462633354,
          -3.3768291041052505,
          2.351246772393932,
          -7.094218706613512,
          1.3805367928895842,
          -0.8147115753751891,
          -0.016761137363181706,
          0.7720453426555233,
          0.7413959290403971,
          0.6193154959510875,
          -6.343845700038522,
          0.3271946764285617,
          -7.565623054031517,
          0.517653713591156,
          0.43394589936582595,
          2.1704932627733777,
          -4.434805856915587,
          -1.0353881056533685,
          -4.718246996625211,
          -4.464553593849666,
          -0.8454990018860906,
          0.10659590397051953,
          -5.666242392921218,
          -7.842783511589575,
          -3.4372156691691647,
          -2.926772654940116,
          -0.6162495627113057,
          -0.6921832748124342,
          -2.0918040244935034,
          5.238076911110041,
          1.4951014860007914,
          -5.679055017593662,
          -5.278419954533306,
          -1.0294168753464783,
          -6.021854381837946,
          2.670550427256266,
          -3.304931238349565,
          2.947537248262193,
          -2.144838216826329,
          1.7638374205929415,
          -7.2214954688237505,
          -2.0364477211504126,
          -0.5860603775775084,
          0.1426032657278572,
          -4.57046982927844,
          -3.517657439534375,
          2.025477610294021,
          -5.231377685301703,
          4.080746399426748,
          -2.562258643474096,
          -4.737391723974046,
          -3.9790338644904995,
          -0.7292922696866261,
          5.930424859953116,
          4.1247960371079815
         ],
         "z": [
          -0.0445104532803267,
          -2.37251817821603,
          -8.925027823164891,
          -1.3069454938997218,
          1.0313338467961988,
          -8.172893403758469,
          1.9519777980013333,
          -7.827125390036935,
          -4.9994948525994145,
          -2.962789349298558,
          -3.386000227672798,
          1.8335867922227853,
          -2.5367337487779267,
          -1.4343778342847904,
          1.7237367749391193,
          -0.4257070842870748,
          0.5418012577908116,
          -1.7568435630010488,
          -0.5346144958660606,
          -1.0498268579573857,
          -2.7464886035838774,
          -2.8311089060844545,
          -2.5957852027432238,
          -3.9746383211386127,
          -3.8734801081604346,
          -13.376342906538424,
          3.5743911769143173,
          -4.9129573508169,
          2.585250205777148,
          -3.5194965379998187,
          -3.9453462292841004,
          -3.9894709365187757,
          -5.196756553069034,
          -1.7044155445128952,
          2.9604136721219403,
          0.5901503590485965,
          -1.6608976298158376,
          -5.446201762902114,
          1.729920735555698,
          -0.17288903100242975,
          0.1461701157606497,
          0.3554935173929937,
          3.4552183560819985,
          -4.754624945368307,
          0.17871904727922922,
          -1.085221141602013,
          -6.872070488962226,
          -8.098905890133784,
          -7.516944739691254,
          -1.3939729898777162,
          -6.76427936613399,
          -2.155105933262645,
          -3.2077533844891724,
          -3.9693694202774914,
          3.6521560734545173,
          -8.032705319109507,
          -1.910803682130999,
          -4.648139125141459,
          4.219705532930873,
          3.4577192762595175,
          -8.440328067106373,
          -2.0224669186519777,
          -4.2158856723775555,
          -0.6086216456167494,
          -6.837574415824982,
          2.4309025794411,
          -1.1071093277141015,
          2.398847856997042,
          -1.0913282784953242,
          -6.762451331308965,
          -6.0564459763912835,
          -2.7967142324070133,
          -2.0417399530177485,
          2.134353701101996,
          -2.9145349230468125,
          0.7274614970522967,
          -1.6095437944975515,
          -0.9602749784786325,
          -1.6170875215764586,
          0.5860498652186237,
          -7.245803099139455,
          0.28616008350673994,
          -10.03380947163802,
          1.3489905772645618,
          -14.175865606151676,
          -2.8214106202791798,
          1.6801475466531857,
          1.6221319237331977,
          -4.186779162148973,
          2.0355866375993688,
          -0.8723407342116393,
          -0.8618128523144699,
          3.6707804437682072,
          -2.749844727187221,
          -3.028723543225564,
          -2.341362926273891,
          -3.675599166751052,
          3.876038452384048,
          -1.873620679697541,
          -2.975168847369639,
          2.905842123889274,
          -2.2473438722760704,
          -3.310016394695703,
          -3.392101297712884,
          -5.861039883828723,
          1.2269927794395796,
          -4.3107302914672845,
          2.9266774186501796,
          -3.1014405380807863,
          -0.8846890939243868,
          -2.1994775399074293,
          -0.414563497388117,
          -4.1522102414357684,
          -5.818167523098923,
          -6.393828981945549,
          -0.6070692645249295,
          -3.1990737742482738,
          -10.071820862318026,
          -2.4901661489505287,
          -5.6898276572488875,
          -2.1080322643127083,
          -2.225266407280644,
          -1.2755966277579605,
          -1.7759525331703245,
          -4.928938197402751,
          0.2652905547966496,
          3.4277241501688023,
          -0.15400543063102387,
          -6.71623050595911,
          -3.955315215999196,
          -2.3188103383302434,
          -6.137508838220783,
          2.0595939501851515,
          -7.321387320031096,
          -2.692095481624668,
          4.304087473469557,
          -6.232063151360216,
          -0.7586589065765375,
          0.6774892283817728,
          -5.034836519500083,
          2.4955833141400583,
          -2.966921677415439,
          0.34897250828188525,
          -3.52965970328466,
          3.0816427840314344,
          -1.6320774012769135,
          -2.069568641735726,
          -2.4824208958886627,
          3.1381286606456196,
          -5.66073017333617,
          -1.771397365043243,
          -3.1639042107741155,
          -5.528792326084731,
          -0.3535035928154014,
          -6.423499741846273,
          1.6861117526621598,
          0.30015711988972116,
          -3.1265737009076267,
          -0.14556949948329256,
          -6.738361669117707,
          1.9355572981993059,
          -0.8205733460804895,
          -5.868703797989114,
          -6.458068181102977,
          -2.149821193236417,
          -6.0641489659431445,
          -9.079308433262737,
          1.0503490064126952,
          0.9560252414946123,
          -7.510399683489952,
          -3.716908188812227,
          -0.11467438650927105,
          -7.167321833558747,
          2.5686996553385466,
          -8.986194872667106,
          -0.6288244014309023,
          -1.444865150413394,
          -0.4969432970079975,
          -2.282683560711614,
          0.6771900377993025,
          0.06269614814660303,
          -8.531755305788149,
          -2.6939933129670797,
          -3.7797441284764246,
          -0.6233024158792088,
          -4.663173504213433,
          -1.6820252295891949,
          -6.313278010501014,
          1.3340128520788057,
          -3.6117840052396133,
          -2.142701919060696,
          0.22951950333083476,
          0.5347055661122618,
          -6.233323822372126,
          -1.4726477614998426,
          0.513959216075549,
          -7.916410500848585,
          -0.6178673125937352,
          -6.603619302131841,
          -2.904964655796645,
          -7.086308046186913,
          -4.906780923939509,
          -2.2203459055452965,
          2.7004246704326196,
          -3.7015824053864694,
          4.6430787751782745,
          -6.3149697324269765,
          -1.8364891053246535,
          -2.4186591387991374,
          -5.344610107132653,
          -1.1227919438916356,
          -8.846951932995342,
          -8.687478552327967,
          -1.869370425361304,
          -0.07914577027380668,
          -0.3735794331340304,
          -4.817699128144822,
          -3.1970478647980376,
          -3.1584259319548234,
          -2.3022956801941103,
          -6.456751338632585,
          -7.070022063032396,
          -0.09616476566784701,
          3.102558037373829,
          -3.990522601171253,
          -1.3035470564015954,
          -5.337280104004488,
          -3.023100703911096,
          -7.279418629232423,
          -1.158507297128021,
          -1.9952419260757346,
          1.608743268204128,
          -1.5437873093228511,
          -0.471055152268926,
          -3.585083337942757,
          -2.6563253441239705,
          -3.2658444717002566,
          -5.592233119186963,
          -8.12945733197594,
          -4.382998608258047,
          -5.792399300894973,
          -6.410785707201651,
          -8.757777143606718,
          -3.084952585870845,
          -3.0092803881587273,
          -2.2374820602934675,
          3.1941693056456484,
          -5.718225968003483,
          -2.3028278533502653,
          -4.472334283888083,
          4.04083707077249,
          -0.7107398614134414,
          -8.391239110177809,
          -0.39469159512290575,
          -3.956989658538726,
          -3.406758301633016,
          -13.213635868414313,
          -2.7207986811858285,
          1.6165698979584988,
          -4.1171080005051595,
          -7.902860709304933,
          0.5944488445703525,
          -1.3552821707831373,
          1.5949553718420117,
          -0.9926605065395026,
          -5.114972654951662,
          -0.4656427002041998,
          -0.7337971765458804,
          -3.840534231217668,
          -1.324848050556386,
          -9.20894855981373,
          2.049401492174439,
          -13.936491845422111,
          -5.768078113728939,
          -2.728538219023566,
          -1.35046905197457,
          -0.039157435540281886,
          -3.4375062609863583,
          -2.8668453727096677,
          -2.6898157056104237,
          -4.182191091814988,
          -2.3281750360419027,
          -15.255969895616026,
          -5.060650371920075,
          -4.668039346118667,
          1.9669695434872334,
          -3.0423015224023415,
          4.405223807377876,
          -3.5760493796053137,
          -0.29114023493408303,
          0.2543464323292143,
          0.6477082519877736,
          -2.618087193091278,
          1.9029472279994504,
          -5.811727181916383,
          -7.534804948142833,
          -3.4790852325855224,
          -8.342454451192896,
          -3.800866529032761,
          -1.7818618497987642,
          -0.0826842309927006,
          -4.8171558653588145,
          -5.58687863117957,
          -5.078713763112319,
          -1.812052314924639,
          -0.5505992008516439,
          -2.339103903065103,
          -3.783912160971517,
          -2.890795414786117,
          -5.687022546804794,
          -1.795174745097253,
          -3.7484659574931585,
          -6.213107358429423,
          -7.553764559977103,
          -5.132771463247528,
          -5.9565376898960345,
          3.5311784672869497,
          -0.9760017997052546,
          -2.483886386414126,
          1.827945033783476,
          -4.238728958654011,
          -1.6872387670338067,
          -1.517724519060055,
          -4.660891359201555,
          0.5619653337101626,
          -2.562475623849619,
          -6.362299602360896,
          -4.819802595701387,
          -1.8207458373365288,
          -5.779194966387221,
          0.10123921702810468,
          -6.386314381877982,
          -6.430745980070439,
          2.131637802951342,
          -2.468864297976633,
          -11.005458437072402,
          -2.9366303091617287,
          -0.11332473502210841,
          -2.932560129903151,
          -1.6081285765559428,
          -3.0678782658354615,
          -5.1805389990388795,
          2.1193065568178526,
          -0.2933123074194928,
          1.3617278822576773,
          -4.809318155862527,
          0.5063884417168248,
          -2.2027210099389496,
          3.742279428062421,
          -6.783289853158521,
          -2.701202216454434,
          -4.485307994669807,
          1.0265007426729897,
          3.6186619566499365,
          -6.255417978731288,
          -5.09739752556365,
          -3.1560236556713024,
          -4.4570112137737725,
          -0.31834536769743776,
          -3.9958714387235275,
          -4.144032807294806,
          -2.4547943697188424,
          1.6635559064352146,
          0.5821244315308144,
          -5.636427364096669,
          -5.281351289229654,
          -1.411891653793306,
          -2.3043336536751307,
          -4.5290261705161265,
          2.02841396242269,
          -1.4466330691744458,
          -6.035389830093299,
          1.529669944921864,
          1.5499945779233686,
          0.10298579218188977,
          -6.151882765145818,
          -1.5997605336286567,
          -4.7142013596661565,
          0.4030246859401929,
          -3.3623188824251855,
          0.8797115632548016,
          7.100966254764277,
          0.49935954057262044,
          -0.48937481053178306,
          -2.717911225374358,
          -0.02605424278831468,
          -1.741433629098133,
          -4.893088138065094,
          -2.1806782289954776,
          -6.092761759458306,
          -7.832358713731233,
          -4.242261876367292,
          -6.718070566285656
         ]
        },
        {
         "hovertemplate": "cluster_assigned=Marcel Stout<br>Principal component 1=%{x}<br>Principal component 2=%{y}<br>Principal component 3=%{z}<extra></extra>",
         "legendgroup": "Marcel Stout",
         "marker": {
          "color": "#00cc96",
          "opacity": 1,
          "symbol": "circle"
         },
         "mode": "markers",
         "name": "Marcel Stout",
         "scene": "scene",
         "showlegend": true,
         "type": "scatter3d",
         "x": [
          -4.207539188505627,
          2.2077243997875637,
          -4.999619452473294,
          -9.491068588476956,
          -8.42559396812798,
          2.919412731984085,
          5.707495668560157,
          6.894211970243065,
          6.682332866532927,
          -11.109025211537881,
          0.17823822654886073,
          -5.206676010913881,
          -1.4185946064542427,
          2.825923353289376,
          -2.3680190319548315,
          2.79876979104227,
          -8.011414629508415,
          -2.3363281902071775,
          4.377862621622652,
          2.261467220925816,
          6.403504773217891,
          5.438890411387455,
          -5.374549502938508,
          3.9691862474952706,
          1.4269339801302818,
          -10.72192852055483,
          -5.808355677473041,
          -3.954547199635768,
          -7.847696487010531,
          1.277542716814325,
          -4.108274534327713,
          8.72288424877896,
          -2.4616193704808254,
          -9.217946598676871,
          -2.0247821628884433,
          5.519667157571526,
          -4.593619456831379,
          -10.752285276738016,
          -1.399143099865085,
          2.8075809829100886,
          6.13637747852952,
          1.1808895418711605,
          -0.1808631557613597,
          -5.103985492974308,
          8.036860165047955,
          7.744059688393623,
          3.534865942012334,
          1.0327484774662898,
          -5.791028402293708,
          5.352875973445124,
          5.452264106654594,
          -2.591662416789204,
          -8.57064298427871,
          3.861643167219327,
          -6.664666027575988,
          3.5430616228652685,
          1.6216164404753466,
          -6.06796587352438,
          -2.720742794104575,
          -8.71698654249384,
          -3.5788252104219676,
          -9.450675346210211,
          0.7200325249812628,
          8.142847673021809,
          -7.2964793826568926,
          6.538917065294864,
          4.637168559137112,
          5.518377716745116,
          -2.732658086446294,
          1.1573035667424818,
          -1.8906014418012589,
          1.337700696449799,
          3.8538094969418704,
          -3.746190841509364,
          3.718641991459929,
          -5.100258151890018,
          -1.090158565493814,
          -8.397727890734322,
          -10.279971371510582,
          1.5018205596888738,
          3.7450895626833396,
          -2.8957924783505375,
          11.907575908160792,
          4.5296408698677695,
          1.0764064119555123,
          2.9757250671763926,
          -3.054482579977713,
          0.8226132327751065,
          -0.28129696091749234,
          -1.960290142038028,
          6.9791940819088705,
          3.8813212248858098,
          2.8460746420969762,
          4.64686157090255,
          -0.9828593541022221,
          -4.537513411226911,
          -3.372374596920974,
          -4.148478166795255,
          -3.3066468399395132,
          3.007056449012074,
          0.7056927315353551,
          8.854839904270523,
          -2.546506910725746,
          2.413646522025223,
          1.6379268348702798,
          -3.6434957927782317,
          4.583844375956678,
          -9.165210995269396,
          1.162373209579636,
          8.00151230230261,
          3.4404140970605495,
          4.5078101365818375,
          8.92338618733336,
          7.546029652284904,
          7.512920215575978,
          7.637262339428082,
          -2.3334343702728204,
          0.7380668517575448,
          8.644647074927091,
          -5.07525561353742,
          4.733587178405666,
          -4.277476840572343,
          4.6623710382638786,
          -6.840165365405431,
          3.491606956813941,
          0.7969733025770063,
          3.9445656777319815,
          6.777357618404378,
          -9.605862202104179,
          2.617737771358807,
          0.5191932605886264,
          -3.570841611654003,
          -9.771775621432925,
          -11.158886273426706,
          -2.9696191999799373,
          -9.304406480440406,
          -5.467553144299865,
          -5.525312091574453,
          -9.786270064223691,
          5.790773286625907,
          0.011463727575215821,
          -9.546904250835976,
          9.912243314572942,
          6.68783189042172,
          -5.392459324164112,
          -9.968729089918206,
          3.578278116461129,
          -2.2181291106854366,
          -0.6850325580100943,
          -2.448092180082597,
          4.235230965742394,
          -0.4119246356034539,
          2.3706976353667217,
          -9.396760618827523,
          3.5602995874185837,
          12.731294025938212,
          8.594247473380937,
          0.945033972506415,
          -8.767123256016877,
          -2.709578590663249,
          -9.274694478470536,
          -0.9547514302040165,
          -6.127663363686036,
          1.9957031045075366,
          0.8681188968868723,
          -10.976278460785762,
          -0.9047751077408387,
          -9.069443563461514,
          2.310927331845567,
          3.069242438824694,
          -2.486315681403543,
          -2.8685677449334794,
          -2.4658282780932486,
          2.5921436937243763,
          1.8130121800438266,
          -0.7360647802846769,
          -10.644043683800458,
          4.18866190408495,
          -8.755271824397282,
          -6.238777880272528,
          3.21843162165919,
          -7.0715999035181145,
          1.253849592096004,
          0.017791112459664814,
          1.588191936107925,
          -8.8357084474097,
          -4.5489243936831665,
          -7.2594930119993535,
          0.7332729317170562,
          0.6620750880916754,
          -3.3216221794337786,
          7.122297660565849,
          -5.8119819251423674,
          5.502829476792217,
          1.5348166908527932,
          -1.815835676978827,
          -4.887682975471013
         ],
         "y": [
          13.708141379867701,
          17.676583475707012,
          12.987881143944747,
          15.550769778126442,
          9.190376841279848,
          10.197919055701758,
          11.107262386906358,
          7.082180158583308,
          7.80170639585246,
          11.18055158153123,
          6.669500934490956,
          11.555173616603772,
          11.97449845105761,
          16.760492269244736,
          5.588719304552122,
          5.797242486488448,
          16.419876022192256,
          4.827341413132853,
          8.201541344096174,
          4.474870086240736,
          9.36794604055767,
          6.137368023687532,
          9.67616915737487,
          10.327968425242045,
          5.050054241794636,
          5.96198398543014,
          6.0146244361513075,
          6.864176813104804,
          7.628821545187193,
          4.91154748297249,
          4.895154206226145,
          11.530081724053352,
          7.597603321159777,
          5.9642679100005855,
          8.107877333230059,
          3.7602420092283952,
          20.173890332149195,
          12.184342302413917,
          6.332238380006746,
          12.28998615057026,
          12.26559911665759,
          4.148542869698843,
          12.106546297665442,
          11.486002322845392,
          5.9799320398440665,
          13.86372510562418,
          3.163924222748427,
          4.1586750289129135,
          8.530330930389743,
          3.1961560478071176,
          7.601152074248695,
          5.70871090670991,
          10.456965929723841,
          4.968355802843535,
          18.357971519893013,
          9.63259679240157,
          9.578047480946932,
          15.923341010397094,
          5.871567979157616,
          13.269010488442307,
          10.223699066135069,
          18.137848504606588,
          6.359522365930682,
          7.698034292668854,
          10.99154124014989,
          11.561284679163656,
          5.88341188028918,
          6.849073553698277,
          5.747766690895832,
          5.304384757414557,
          5.232692253356155,
          8.666486966216866,
          11.265695069394782,
          6.713054455561074,
          13.57438837921437,
          6.521773280342149,
          4.958123843861056,
          17.055011578943933,
          13.660683653902188,
          7.416371997110648,
          7.915026565160624,
          20.864479862299152,
          11.376964725378635,
          3.737030736109936,
          18.08311389471089,
          2.9450657674032366,
          9.012837647943174,
          10.490807522810575,
          7.199558876286133,
          6.8292947984467895,
          10.924605607382679,
          3.5523934850218737,
          2.4388829651784327,
          9.05150092850015,
          10.403783495376791,
          20.090595706224278,
          19.83141163861427,
          8.136577063496851,
          11.189079188422214,
          6.529985000267586,
          3.165435058076528,
          10.866003352829354,
          6.236040267567697,
          1.7345704402328392,
          12.85482007338599,
          7.2902992475634605,
          7.94929376620421,
          15.779060636715036,
          3.55197376426303,
          12.837832394300866,
          9.046024721740698,
          6.454323295762811,
          17.4807868074018,
          8.592453392648506,
          5.787030430097476,
          7.926232260631739,
          5.728038462607565,
          4.361527161406915,
          11.401608463866806,
          15.087001371344853,
          6.054350359169063,
          6.715896327157182,
          8.638175089357649,
          20.425576991124558,
          9.500911883015867,
          5.238805789975246,
          1.7906693231593334,
          8.269686618668773,
          15.58371251950621,
          8.591010333751655,
          12.824042827304892,
          5.512068039652306,
          10.001074821555084,
          7.839482650442048,
          15.682625585119364,
          33.78769815762615,
          7.634927907837021,
          10.524245934494898,
          14.446375544083672,
          14.342465148940212,
          3.9362513023013284,
          12.138401965604741,
          15.140034596499797,
          5.263072133008028,
          7.050177983356935,
          17.425172533789635,
          4.132915803903392,
          10.710726736482421,
          6.146455935528888,
          5.852069199515862,
          6.2316559151514435,
          6.553432753732511,
          6.518646081658742,
          9.958357049400947,
          5.190732413028065,
          11.534694154152783,
          8.650729041756838,
          7.240204760288206,
          8.60132695583957,
          6.703838176769905,
          17.601170717511074,
          5.8343677949032795,
          9.830370694449625,
          6.466434182148622,
          7.745422875175788,
          12.518050875783995,
          16.78757438723834,
          17.572028416224644,
          13.04126482134341,
          5.349640401383096,
          11.78111291965724,
          19.44429272049381,
          13.029399910811295,
          12.289143280807735,
          4.90606990920567,
          4.999618586543416,
          11.682935119037294,
          4.868177931857027,
          9.810078414766812,
          19.41718290719739,
          9.781891634671062,
          8.151951157009089,
          7.121122023276034,
          6.465860117869909,
          5.7580490933422555,
          7.936108984176181,
          15.272095982995136,
          16.648722806683935,
          5.012707211042423,
          6.4499842362462765,
          6.511317744349968,
          7.596231835527597,
          13.027897547117407,
          4.336049329375814,
          10.431169947470993,
          22.635735947106955,
          6.732757526442912
         ],
         "z": [
          0.2883414429002627,
          6.848432230896251,
          -0.4953224475944164,
          1.1632497820484438,
          -2.5792944912178113,
          1.4945772144522311,
          1.3640967980148349,
          2.333022070546709,
          1.5790768720442072,
          -9.41252164188309,
          1.773745537517531,
          -0.8773203785987933,
          1.4351149420543594,
          9.38943956932592,
          -2.203952245940345,
          1.635092859794932,
          0.9005394867784161,
          3.0451213835592,
          1.3191249076405525,
          0.963037422489702,
          4.102143818487795,
          -0.2773128641246148,
          -1.9931319287848486,
          1.596197691961461,
          -1.5976201290730407,
          3.9360016025222264,
          0.6773477584739902,
          1.1440050620302569,
          -4.717568289790854,
          -0.543895462047329,
          -0.16538760223478283,
          3.7336244310144915,
          0.10853253309053103,
          1.2103027027039133,
          3.579107567144107,
          1.1870131770539358,
          7.753963201040166,
          3.6058745019282186,
          0.7001468622765941,
          3.7194251862338867,
          5.345105929324731,
          -0.6139754371009111,
          2.3307464214488807,
          1.5832258701295532,
          1.3232051413060288,
          5.5909698748862295,
          -0.11735726880377917,
          2.5226676256527965,
          6.339895673282472,
          0.9089505372692105,
          3.7353687022498514,
          1.1479420687552615,
          0.1658221888796754,
          -0.48552055027657337,
          1.6641514470626486,
          1.2433795353349006,
          -1.375168998355498,
          1.0125686508382412,
          0.8452267379294722,
          -0.9458639873233715,
          0.5175293613386811,
          7.432685732330105,
          -0.03569977013117789,
          1.5921680700456864,
          -3.021599539774579,
          4.601838861543074,
          -1.054748575845192,
          2.005498888636123,
          -0.6046918220439519,
          0.10954901891426452,
          -1.3186828799770662,
          4.731880014341787,
          1.9270517103313762,
          1.0427646752182531,
          1.9020624068333796,
          -1.8950055923449594,
          2.6000477600348595,
          5.852064251350829,
          1.8206004513854914,
          0.1538645536427943,
          -1.1093797778377459,
          6.590249622781775,
          6.70583582329969,
          0.987293588627161,
          5.4924081728237475,
          1.827013647392993,
          1.0948671043445541,
          -0.7821225189192365,
          -1.2567154593294203,
          -4.488840242617253,
          3.0581520954715415,
          2.892128600216374,
          3.885137174057764,
          -0.0016689986203199435,
          2.2620154966023396,
          6.0273366044299435,
          5.418376314027771,
          -2.197960372272505,
          1.920847427491029,
          1.3022614654204328,
          2.154027346926047,
          6.218330518052014,
          1.1512851624145712,
          4.887383997120521,
          0.9299950752871925,
          -2.8706198463426578,
          3.427456549993582,
          2.3321675450783266,
          1.0731867688443621,
          4.638543853620344,
          4.31206024971594,
          1.6569865815353517,
          8.028814721552825,
          1.929418816826254,
          1.5771785837025571,
          4.165948842433124,
          -0.6042291571885418,
          -0.9120666583672553,
          3.5504374909322935,
          0.5776437408959053,
          -0.16488739058951316,
          -1.5329679787634014,
          1.8795663410655896,
          2.743234915735182,
          5.779893440145398,
          3.321167540326195,
          2.000697603113839,
          2.8947691316551794,
          1.3301901326747863,
          0.6085488510022282,
          -1.0709945490495794,
          -2.23190648848739,
          -3.5617655440860707,
          -3.446742504111785,
          0.41029286267511467,
          11.966199989488445,
          -1.8420238720279056,
          1.3084118371656466,
          5.4655179647995045,
          6.636405594286759,
          3.184328323328686,
          0.21401171557959728,
          7.774814064471774,
          1.0606509087485338,
          -4.832918759999838,
          9.32595797623468,
          -0.43284867160188756,
          0.005621287357644646,
          -5.858710226670396,
          3.9267843082877114,
          4.262038966581553,
          -0.8969837352273315,
          -2.1902562996340915,
          -0.03174354467591946,
          0.09615277714107082,
          6.351230055887109,
          4.113890472477562,
          4.0623773581557465,
          -0.07448867185238307,
          -0.7856899117837868,
          2.420500458940917,
          -2.3758651531523043,
          -2.820472885158932,
          -1.67658005809673,
          0.7893361806415987,
          -0.6060437061326182,
          5.596585309763003,
          2.89808552988743,
          4.620847815041286,
          -1.0639947461789507,
          5.13250865803728,
          5.256060189755983,
          0.5826016932949128,
          4.391576758775725,
          1.0220415698992895,
          -3.648271756235522,
          0.011745656473245976,
          0.6781104445001077,
          3.4759255492319867,
          0.04725322060250861,
          5.637310055202331,
          -1.0683297746800062,
          -2.331505759911212,
          2.494219705187379,
          0.7486822161258276,
          -3.9158706207230165,
          3.1626631367250715,
          1.7901341906652943,
          -0.02130321074956605,
          0.5400417100115201,
          -3.266681772432454,
          5.684134447129135,
          -2.4445737605800524,
          1.946810973265487,
          2.3398112470940333,
          9.681982594872467,
          -0.8641439958653482
         ]
        },
        {
         "hovertemplate": "cluster_assigned=James Bland<br>Principal component 1=%{x}<br>Principal component 2=%{y}<br>Principal component 3=%{z}<extra></extra>",
         "legendgroup": "James Bland",
         "marker": {
          "color": "#ab63fa",
          "opacity": 1,
          "symbol": "circle"
         },
         "mode": "markers",
         "name": "James Bland",
         "scene": "scene",
         "showlegend": true,
         "type": "scatter3d",
         "x": [
          -12.735692404616966,
          -13.415750427106133,
          -13.30323031738597,
          -10.165204121606578,
          -10.25387565103224,
          -8.50308950381333,
          -12.757943952939469,
          -9.500389008824984,
          -11.681824429757015,
          -2.354740374658315,
          -10.177135764267328,
          -16.70203896422147,
          -11.943125055528938,
          -11.10878738587387,
          -12.935142852589246,
          -9.684668812201194,
          -9.088363673562313,
          -11.351109192276398,
          -8.140017535269324,
          -12.744736302142547,
          -2.9306414608120543,
          -9.73192269502883,
          -14.560695174906039,
          -13.074727932641766,
          -10.780431662049647,
          -1.9369152268430185,
          -9.134341811859437,
          -3.7555997100061274,
          -11.372252622101444,
          -9.52232415808579,
          -10.685342798385896,
          -13.718593319167814,
          -10.366815103069207,
          -16.00348330761133,
          -10.310727541931206,
          -16.9636909260797,
          -3.74220666412289,
          -3.010344707951171,
          -4.718137801244434,
          -3.388733175897088,
          -11.785671164222904,
          -7.96915544905794,
          -13.956818281923832,
          -14.591240187656947,
          -17.250376967395272,
          -16.73700798640924,
          -11.282279877668083,
          -5.013447796273005,
          -10.552877482718696,
          -11.683558453620952,
          -10.249737228343077,
          -9.43997753792719,
          -13.958229542439188,
          -9.468041832645849,
          -9.033948061692746,
          -9.759485243459698,
          -5.407707647809508,
          -13.3785632202191,
          -10.48193802672033,
          -5.517320726225184,
          -6.907447810195054,
          -10.888221478123217,
          -5.196173335835434,
          -12.773971501796618,
          -6.5756197208858085,
          -7.73276234784893,
          -10.644902769182632,
          -11.25542204325576,
          -12.39705693627418,
          -10.52132960344188,
          -8.689077607952662,
          -12.773032999409752,
          -10.947224270877994,
          -12.646146300310672,
          -8.767104301207489,
          -9.438599932483548,
          -6.161608732407193,
          -14.726665081023283,
          -11.56819533539185,
          -11.894013248982006,
          -11.311010434599083,
          -11.80311897579612,
          -13.870602474165471,
          -6.088120385536039,
          -11.69818718269131,
          -10.707693279222202,
          -10.777019008677033,
          -6.497467119373964,
          -12.949532566767353,
          -15.005677310279818,
          -10.125552859386728,
          -10.86187304894337,
          -3.0334350216596477,
          -13.1599904184482,
          -12.965467432178135,
          -11.954336628730482,
          -13.637594782579784,
          -8.203713647860823,
          -12.24054075942913,
          -8.679762028421992,
          -8.452660985506684,
          -10.952600226405096,
          -9.045058359655169,
          -5.450590764269415,
          -14.159350076710991,
          -15.543064206684072,
          -10.40068119138907,
          -12.375840192227658,
          -10.062899196806507,
          -11.463112653038195,
          -8.322982496154468,
          -10.782796267029727,
          -13.621399587321283,
          -12.996260180130447,
          -14.112342850371581,
          -6.347506190418215,
          -14.472610314399175,
          -10.07928692580122,
          -13.280140892927728,
          -6.898001663804072,
          -11.166264809863252,
          -9.009322356162789,
          -2.189400728220039,
          -13.467934082823101,
          -14.77897789244164,
          -9.884173699187167,
          -9.077242913959475,
          -16.448628785926633,
          -9.691422110331118,
          -12.396111736191445,
          -11.218824625050052,
          -13.507149693242187,
          -9.0426729596951,
          -7.691730895125326,
          -5.48311007278984,
          -14.830866606909819,
          -14.816071328105181,
          -11.435422608190247,
          -8.49556560537757,
          -11.324645909593235,
          -9.665809533796466
         ],
         "y": [
          -2.8327538057084882,
          -7.827705197230878,
          -2.2083515273378627,
          -5.583422859340742,
          -8.409818469362257,
          -5.978993009776048,
          -8.50355710468843,
          -12.961830518244765,
          -8.44558708257079,
          -8.961864590162012,
          -5.321111952507282,
          -12.897927489662697,
          -5.335929967159665,
          -2.1501786033164274,
          -5.660194126988183,
          -4.5779326807722605,
          -3.6840168616067626,
          -5.1955196568729916,
          -1.708564084222467,
          -4.759397038266295,
          -1.882153129912801,
          -9.438747102741642,
          -9.704421687110656,
          -9.25113622353061,
          -6.808242292242092,
          -7.783552263694353,
          -3.2817860344676903,
          -11.325161478390374,
          -3.1627062099029515,
          -0.5463487313389281,
          3.927237563034205,
          -7.906591660059885,
          -13.209771214019824,
          -14.890881659553308,
          -3.9711866285825383,
          -11.690193860630348,
          -4.664752570826334,
          -8.859241043970185,
          -0.6598667208588748,
          -1.1186531156263981,
          -7.87094088284787,
          -8.78544967898633,
          -10.455393613807063,
          -8.613367320391905,
          -15.22771290832846,
          -14.95000978355318,
          -6.533072955281527,
          -8.031704974746736,
          -8.329755744005318,
          -11.944900970440257,
          -7.770467476561318,
          -4.239364986473671,
          -7.872972379819295,
          -8.234399424841396,
          -1.16946183833414,
          -9.430497591632433,
          -11.06675342128787,
          -10.833357757611951,
          -2.9628954572958675,
          -7.108028536429618,
          -5.067891461571099,
          0.6335422480630134,
          -9.477589275094932,
          -8.50153630022517,
          -8.034538665507727,
          -8.321675657037106,
          -4.204927976965263,
          -10.793330118790697,
          -1.8472501368356995,
          -3.224669446865051,
          -11.92402693063777,
          -2.686645534245934,
          -2.4474655602334865,
          -5.02534749480069,
          -2.4514136916007088,
          -1.9156224417700616,
          -7.575748348044732,
          -14.383869210111175,
          -7.345764810054915,
          0.630482271087629,
          -0.31247075113910844,
          0.9140805577206909,
          -7.150800704025012,
          -4.178897096033542,
          -7.232694036647342,
          -6.5463772022207545,
          -5.142284235704642,
          -5.455710997748856,
          0.8472520350950454,
          -9.852351546007196,
          -3.0462783770253,
          -10.21487411791256,
          -9.86909351176758,
          -10.16441981677951,
          -6.841295848557941,
          -3.3455103735521003,
          -6.988120859097555,
          -7.2795604221752805,
          0.8311167935093471,
          -7.813191433046068,
          -14.961281290600315,
          -3.1995209648835083,
          -5.489034770928755,
          -5.157244942815677,
          -8.767415326257899,
          -12.91109806132444,
          -7.2785111987773226,
          -5.755814951004459,
          -0.9989639731483755,
          -7.133725636101646,
          -4.1395227994417505,
          2.3593263643747884,
          -9.703651117433376,
          -6.1583518599043225,
          -9.039114169830592,
          -6.353788341871911,
          -12.295225722650095,
          -5.450507515483259,
          -3.8592448176351835,
          -6.146839113945886,
          -6.487960752817744,
          -6.569359996324736,
          -8.294290104467139,
          -4.036520848742112,
          -13.404649630905428,
          -9.04222060040903,
          -11.021713519813414,
          -16.451589792595787,
          -2.8988065897722843,
          -9.85011047680844,
          -7.487800679601724,
          -6.893150313150469,
          -4.965697499470585,
          -8.21719856025495,
          -4.395754566146221,
          -7.9895774288252355,
          -12.769995964112796,
          -5.040102815248909,
          1.4107756383780572,
          -3.6375029788122824,
          4.286279573366456
         ],
         "z": [
          2.1842191967106217,
          2.442147785325228,
          9.631326056147888,
          -0.46675252814619644,
          -0.12121829097474403,
          -0.6838988649081722,
          7.372357524697894,
          9.366765882650924,
          8.16907991848759,
          3.4644942482948076,
          0.5511243833316091,
          12.716702529690801,
          6.209440714079028,
          8.362779149650681,
          0.5978172378763431,
          -1.878497751761641,
          2.419332302828821,
          4.092264936426008,
          5.788865607262136,
          -2.690871520439484,
          6.360523753384687,
          -3.2077100383602573,
          9.070009924787826,
          8.412600449045465,
          9.713877687351069,
          7.538299732760659,
          3.6684618736433285,
          3.167909830125854,
          -2.262319662676898,
          1.2712801132851734,
          4.1953633194023325,
          6.8850434690090045,
          3.0888101713284875,
          19.854260540556727,
          0.24189278826053165,
          12.562910497822934,
          4.240982337775637,
          7.2118934368044245,
          11.293136015471143,
          10.68449722229491,
          -1.1232844854098458,
          3.213055792916867,
          4.071923426025549,
          11.572790543568876,
          19.849957910200906,
          17.399346808148874,
          2.0456045008317747,
          6.006115932396804,
          2.1555449576156303,
          10.370604491313816,
          -1.9896235993509668,
          -0.8127698011052273,
          7.094084922744349,
          6.260526696011252,
          1.9846720138390195,
          -4.668173625225867,
          4.593541518072007,
          9.18995628885974,
          0.9622361665670923,
          5.71246858359802,
          2.9810419954276313,
          1.2744741144952159,
          0.5700798913806129,
          12.941900250820103,
          5.254097035567398,
          10.67083696559778,
          0.3270134544460676,
          -0.7008167228297943,
          -1.8596919533417615,
          1.3229902151936144,
          12.209094146109482,
          6.825106700476649,
          1.8651723223871561,
          -3.7631719366270002,
          1.5246312427710746,
          2.9632872012287264,
          1.4324879676170046,
          12.967656855153926,
          0.538474058394071,
          1.1380970022790315,
          2.759532010724831,
          4.855157049507135,
          3.4567527352325427,
          4.416921339839,
          -3.1319293057648188,
          1.8907038992333034,
          -0.5368225685853298,
          1.3591171277997791,
          3.417752775200511,
          8.120032701782016,
          2.4051900181010932,
          7.894350023123713,
          1.90754615373814,
          11.044028270670715,
          8.51445931448401,
          0.9082450946590342,
          7.881188541239035,
          0.3155765937689699,
          1.6989161416471847,
          -1.467264492416997,
          8.905727889240925,
          2.67515929227779,
          2.2480937196892854,
          5.150021663545887,
          10.898079434780676,
          19.079987421861887,
          -0.13253380444118545,
          6.8984903640582775,
          0.32243252487996327,
          0.8818726664321908,
          3.552746138357667,
          3.0541117611628037,
          7.330823412898728,
          4.202856831110801,
          11.91303472766031,
          7.000403520047182,
          8.573211465678447,
          5.5089255599153555,
          -0.7826422590443712,
          3.1775199236275764,
          0.9924550562627872,
          5.053096011873837,
          2.744854922364707,
          6.314101345024367,
          13.113287963046785,
          8.645224079472841,
          4.343457468731561,
          15.63833897646028,
          0.5001688632679174,
          1.0408510033784222,
          -1.0285102819130476,
          5.325497617788792,
          1.675018068024558,
          -3.148259209256329,
          3.7183731819149908,
          6.664805197997899,
          11.073798272757575,
          -2.091213685491826,
          3.7442056572536977,
          -1.3300695271467229,
          5.765769376357952
         ]
        }
       ],
       "layout": {
        "height": 600,
        "legend": {
         "title": {
          "text": "cluster_assigned"
         },
         "tracegroupgap": 0
        },
        "scene": {
         "domain": {
          "x": [
           0,
           1
          ],
          "y": [
           0,
           1
          ]
         },
         "xaxis": {
          "title": {
           "text": "Principal component 1"
          }
         },
         "yaxis": {
          "title": {
           "text": "Principal component 2"
          }
         },
         "zaxis": {
          "title": {
           "text": "Principal component 3"
          }
         }
        },
        "template": {
         "data": {
          "bar": [
           {
            "error_x": {
             "color": "#2a3f5f"
            },
            "error_y": {
             "color": "#2a3f5f"
            },
            "marker": {
             "line": {
              "color": "#E5ECF6",
              "width": 0.5
             },
             "pattern": {
              "fillmode": "overlay",
              "size": 10,
              "solidity": 0.2
             }
            },
            "type": "bar"
           }
          ],
          "barpolar": [
           {
            "marker": {
             "line": {
              "color": "#E5ECF6",
              "width": 0.5
             },
             "pattern": {
              "fillmode": "overlay",
              "size": 10,
              "solidity": 0.2
             }
            },
            "type": "barpolar"
           }
          ],
          "carpet": [
           {
            "aaxis": {
             "endlinecolor": "#2a3f5f",
             "gridcolor": "white",
             "linecolor": "white",
             "minorgridcolor": "white",
             "startlinecolor": "#2a3f5f"
            },
            "baxis": {
             "endlinecolor": "#2a3f5f",
             "gridcolor": "white",
             "linecolor": "white",
             "minorgridcolor": "white",
             "startlinecolor": "#2a3f5f"
            },
            "type": "carpet"
           }
          ],
          "choropleth": [
           {
            "colorbar": {
             "outlinewidth": 0,
             "ticks": ""
            },
            "type": "choropleth"
           }
          ],
          "contour": [
           {
            "colorbar": {
             "outlinewidth": 0,
             "ticks": ""
            },
            "colorscale": [
             [
              0,
              "#0d0887"
             ],
             [
              0.1111111111111111,
              "#46039f"
             ],
             [
              0.2222222222222222,
              "#7201a8"
             ],
             [
              0.3333333333333333,
              "#9c179e"
             ],
             [
              0.4444444444444444,
              "#bd3786"
             ],
             [
              0.5555555555555556,
              "#d8576b"
             ],
             [
              0.6666666666666666,
              "#ed7953"
             ],
             [
              0.7777777777777778,
              "#fb9f3a"
             ],
             [
              0.8888888888888888,
              "#fdca26"
             ],
             [
              1,
              "#f0f921"
             ]
            ],
            "type": "contour"
           }
          ],
          "contourcarpet": [
           {
            "colorbar": {
             "outlinewidth": 0,
             "ticks": ""
            },
            "type": "contourcarpet"
           }
          ],
          "heatmap": [
           {
            "colorbar": {
             "outlinewidth": 0,
             "ticks": ""
            },
            "colorscale": [
             [
              0,
              "#0d0887"
             ],
             [
              0.1111111111111111,
              "#46039f"
             ],
             [
              0.2222222222222222,
              "#7201a8"
             ],
             [
              0.3333333333333333,
              "#9c179e"
             ],
             [
              0.4444444444444444,
              "#bd3786"
             ],
             [
              0.5555555555555556,
              "#d8576b"
             ],
             [
              0.6666666666666666,
              "#ed7953"
             ],
             [
              0.7777777777777778,
              "#fb9f3a"
             ],
             [
              0.8888888888888888,
              "#fdca26"
             ],
             [
              1,
              "#f0f921"
             ]
            ],
            "type": "heatmap"
           }
          ],
          "heatmapgl": [
           {
            "colorbar": {
             "outlinewidth": 0,
             "ticks": ""
            },
            "colorscale": [
             [
              0,
              "#0d0887"
             ],
             [
              0.1111111111111111,
              "#46039f"
             ],
             [
              0.2222222222222222,
              "#7201a8"
             ],
             [
              0.3333333333333333,
              "#9c179e"
             ],
             [
              0.4444444444444444,
              "#bd3786"
             ],
             [
              0.5555555555555556,
              "#d8576b"
             ],
             [
              0.6666666666666666,
              "#ed7953"
             ],
             [
              0.7777777777777778,
              "#fb9f3a"
             ],
             [
              0.8888888888888888,
              "#fdca26"
             ],
             [
              1,
              "#f0f921"
             ]
            ],
            "type": "heatmapgl"
           }
          ],
          "histogram": [
           {
            "marker": {
             "pattern": {
              "fillmode": "overlay",
              "size": 10,
              "solidity": 0.2
             }
            },
            "type": "histogram"
           }
          ],
          "histogram2d": [
           {
            "colorbar": {
             "outlinewidth": 0,
             "ticks": ""
            },
            "colorscale": [
             [
              0,
              "#0d0887"
             ],
             [
              0.1111111111111111,
              "#46039f"
             ],
             [
              0.2222222222222222,
              "#7201a8"
             ],
             [
              0.3333333333333333,
              "#9c179e"
             ],
             [
              0.4444444444444444,
              "#bd3786"
             ],
             [
              0.5555555555555556,
              "#d8576b"
             ],
             [
              0.6666666666666666,
              "#ed7953"
             ],
             [
              0.7777777777777778,
              "#fb9f3a"
             ],
             [
              0.8888888888888888,
              "#fdca26"
             ],
             [
              1,
              "#f0f921"
             ]
            ],
            "type": "histogram2d"
           }
          ],
          "histogram2dcontour": [
           {
            "colorbar": {
             "outlinewidth": 0,
             "ticks": ""
            },
            "colorscale": [
             [
              0,
              "#0d0887"
             ],
             [
              0.1111111111111111,
              "#46039f"
             ],
             [
              0.2222222222222222,
              "#7201a8"
             ],
             [
              0.3333333333333333,
              "#9c179e"
             ],
             [
              0.4444444444444444,
              "#bd3786"
             ],
             [
              0.5555555555555556,
              "#d8576b"
             ],
             [
              0.6666666666666666,
              "#ed7953"
             ],
             [
              0.7777777777777778,
              "#fb9f3a"
             ],
             [
              0.8888888888888888,
              "#fdca26"
             ],
             [
              1,
              "#f0f921"
             ]
            ],
            "type": "histogram2dcontour"
           }
          ],
          "mesh3d": [
           {
            "colorbar": {
             "outlinewidth": 0,
             "ticks": ""
            },
            "type": "mesh3d"
           }
          ],
          "parcoords": [
           {
            "line": {
             "colorbar": {
              "outlinewidth": 0,
              "ticks": ""
             }
            },
            "type": "parcoords"
           }
          ],
          "pie": [
           {
            "automargin": true,
            "type": "pie"
           }
          ],
          "scatter": [
           {
            "fillpattern": {
             "fillmode": "overlay",
             "size": 10,
             "solidity": 0.2
            },
            "type": "scatter"
           }
          ],
          "scatter3d": [
           {
            "line": {
             "colorbar": {
              "outlinewidth": 0,
              "ticks": ""
             }
            },
            "marker": {
             "colorbar": {
              "outlinewidth": 0,
              "ticks": ""
             }
            },
            "type": "scatter3d"
           }
          ],
          "scattercarpet": [
           {
            "marker": {
             "colorbar": {
              "outlinewidth": 0,
              "ticks": ""
             }
            },
            "type": "scattercarpet"
           }
          ],
          "scattergeo": [
           {
            "marker": {
             "colorbar": {
              "outlinewidth": 0,
              "ticks": ""
             }
            },
            "type": "scattergeo"
           }
          ],
          "scattergl": [
           {
            "marker": {
             "colorbar": {
              "outlinewidth": 0,
              "ticks": ""
             }
            },
            "type": "scattergl"
           }
          ],
          "scattermapbox": [
           {
            "marker": {
             "colorbar": {
              "outlinewidth": 0,
              "ticks": ""
             }
            },
            "type": "scattermapbox"
           }
          ],
          "scatterpolar": [
           {
            "marker": {
             "colorbar": {
              "outlinewidth": 0,
              "ticks": ""
             }
            },
            "type": "scatterpolar"
           }
          ],
          "scatterpolargl": [
           {
            "marker": {
             "colorbar": {
              "outlinewidth": 0,
              "ticks": ""
             }
            },
            "type": "scatterpolargl"
           }
          ],
          "scatterternary": [
           {
            "marker": {
             "colorbar": {
              "outlinewidth": 0,
              "ticks": ""
             }
            },
            "type": "scatterternary"
           }
          ],
          "surface": [
           {
            "colorbar": {
             "outlinewidth": 0,
             "ticks": ""
            },
            "colorscale": [
             [
              0,
              "#0d0887"
             ],
             [
              0.1111111111111111,
              "#46039f"
             ],
             [
              0.2222222222222222,
              "#7201a8"
             ],
             [
              0.3333333333333333,
              "#9c179e"
             ],
             [
              0.4444444444444444,
              "#bd3786"
             ],
             [
              0.5555555555555556,
              "#d8576b"
             ],
             [
              0.6666666666666666,
              "#ed7953"
             ],
             [
              0.7777777777777778,
              "#fb9f3a"
             ],
             [
              0.8888888888888888,
              "#fdca26"
             ],
             [
              1,
              "#f0f921"
             ]
            ],
            "type": "surface"
           }
          ],
          "table": [
           {
            "cells": {
             "fill": {
              "color": "#EBF0F8"
             },
             "line": {
              "color": "white"
             }
            },
            "header": {
             "fill": {
              "color": "#C8D4E3"
             },
             "line": {
              "color": "white"
             }
            },
            "type": "table"
           }
          ]
         },
         "layout": {
          "annotationdefaults": {
           "arrowcolor": "#2a3f5f",
           "arrowhead": 0,
           "arrowwidth": 1
          },
          "autotypenumbers": "strict",
          "coloraxis": {
           "colorbar": {
            "outlinewidth": 0,
            "ticks": ""
           }
          },
          "colorscale": {
           "diverging": [
            [
             0,
             "#8e0152"
            ],
            [
             0.1,
             "#c51b7d"
            ],
            [
             0.2,
             "#de77ae"
            ],
            [
             0.3,
             "#f1b6da"
            ],
            [
             0.4,
             "#fde0ef"
            ],
            [
             0.5,
             "#f7f7f7"
            ],
            [
             0.6,
             "#e6f5d0"
            ],
            [
             0.7,
             "#b8e186"
            ],
            [
             0.8,
             "#7fbc41"
            ],
            [
             0.9,
             "#4d9221"
            ],
            [
             1,
             "#276419"
            ]
           ],
           "sequential": [
            [
             0,
             "#0d0887"
            ],
            [
             0.1111111111111111,
             "#46039f"
            ],
            [
             0.2222222222222222,
             "#7201a8"
            ],
            [
             0.3333333333333333,
             "#9c179e"
            ],
            [
             0.4444444444444444,
             "#bd3786"
            ],
            [
             0.5555555555555556,
             "#d8576b"
            ],
            [
             0.6666666666666666,
             "#ed7953"
            ],
            [
             0.7777777777777778,
             "#fb9f3a"
            ],
            [
             0.8888888888888888,
             "#fdca26"
            ],
            [
             1,
             "#f0f921"
            ]
           ],
           "sequentialminus": [
            [
             0,
             "#0d0887"
            ],
            [
             0.1111111111111111,
             "#46039f"
            ],
            [
             0.2222222222222222,
             "#7201a8"
            ],
            [
             0.3333333333333333,
             "#9c179e"
            ],
            [
             0.4444444444444444,
             "#bd3786"
            ],
            [
             0.5555555555555556,
             "#d8576b"
            ],
            [
             0.6666666666666666,
             "#ed7953"
            ],
            [
             0.7777777777777778,
             "#fb9f3a"
            ],
            [
             0.8888888888888888,
             "#fdca26"
            ],
            [
             1,
             "#f0f921"
            ]
           ]
          },
          "colorway": [
           "#636efa",
           "#EF553B",
           "#00cc96",
           "#ab63fa",
           "#FFA15A",
           "#19d3f3",
           "#FF6692",
           "#B6E880",
           "#FF97FF",
           "#FECB52"
          ],
          "font": {
           "color": "#2a3f5f"
          },
          "geo": {
           "bgcolor": "white",
           "lakecolor": "white",
           "landcolor": "#E5ECF6",
           "showlakes": true,
           "showland": true,
           "subunitcolor": "white"
          },
          "hoverlabel": {
           "align": "left"
          },
          "hovermode": "closest",
          "mapbox": {
           "style": "light"
          },
          "paper_bgcolor": "white",
          "plot_bgcolor": "#E5ECF6",
          "polar": {
           "angularaxis": {
            "gridcolor": "white",
            "linecolor": "white",
            "ticks": ""
           },
           "bgcolor": "#E5ECF6",
           "radialaxis": {
            "gridcolor": "white",
            "linecolor": "white",
            "ticks": ""
           }
          },
          "scene": {
           "xaxis": {
            "backgroundcolor": "#E5ECF6",
            "gridcolor": "white",
            "gridwidth": 2,
            "linecolor": "white",
            "showbackground": true,
            "ticks": "",
            "zerolinecolor": "white"
           },
           "yaxis": {
            "backgroundcolor": "#E5ECF6",
            "gridcolor": "white",
            "gridwidth": 2,
            "linecolor": "white",
            "showbackground": true,
            "ticks": "",
            "zerolinecolor": "white"
           },
           "zaxis": {
            "backgroundcolor": "#E5ECF6",
            "gridcolor": "white",
            "gridwidth": 2,
            "linecolor": "white",
            "showbackground": true,
            "ticks": "",
            "zerolinecolor": "white"
           }
          },
          "shapedefaults": {
           "line": {
            "color": "#2a3f5f"
           }
          },
          "ternary": {
           "aaxis": {
            "gridcolor": "white",
            "linecolor": "white",
            "ticks": ""
           },
           "baxis": {
            "gridcolor": "white",
            "linecolor": "white",
            "ticks": ""
           },
           "bgcolor": "#E5ECF6",
           "caxis": {
            "gridcolor": "white",
            "linecolor": "white",
            "ticks": ""
           }
          },
          "title": {
           "x": 0.05
          },
          "xaxis": {
           "automargin": true,
           "gridcolor": "white",
           "linecolor": "white",
           "ticks": "",
           "title": {
            "standoff": 15
           },
           "zerolinecolor": "white",
           "zerolinewidth": 2
          },
          "yaxis": {
           "automargin": true,
           "gridcolor": "white",
           "linecolor": "white",
           "ticks": "",
           "title": {
            "standoff": 15
           },
           "zerolinecolor": "white",
           "zerolinewidth": 2
          }
         }
        },
        "title": {
         "text": "PCA projection of the 15 categories into the 3 Principal components"
        },
        "width": 1000
       }
      }
     },
     "metadata": {},
     "output_type": "display_data"
    }
   ],
   "source": [
    "User_modify_3\n",
    "fig = px.scatter_3d(User_modify_3, x='Principal component 1', y='Principal component 2', z='Principal component 3',opacity =1,\n",
    "             color='cluster_assigned' ,size_max =50,width=1000, height=600,title ='PCA projection of the 15 categories into the 3 Principal components')\n",
    "\n",
    "fig.show()\n",
    "fig.write_html(\"cluster_3dvisual.html\")"
   ]
  },
  {
   "cell_type": "code",
   "execution_count": 496,
   "metadata": {},
   "outputs": [
    {
     "name": "stdout",
     "output_type": "stream",
     "text": [
      "the variance explained by the 3 first principal components are [0.43681178 0.23533086] (respectively)\n"
     ]
    }
   ],
   "source": [
    "pca_2 = PCA(n_components=2)\n",
    "User_modify_2=pca_2.fit_transform(user_to_cat_first[user_to_cat_first.columns[0:15]].values)\n",
    "print('the variance explained by the 3 first principal components are',pca_2.explained_variance_ratio_,'(respectively)')"
   ]
  },
  {
   "cell_type": "code",
   "execution_count": 497,
   "metadata": {},
   "outputs": [
    {
     "data": {
      "application/vnd.plotly.v1+json": {
       "config": {
        "plotlyServerURL": "https://plot.ly"
       },
       "data": [
        {
         "hovertemplate": "cluster_assigned=Jean-Michel IPA<br>Principal component 1=%{x}<br>Principal component 2=%{y}<extra></extra>",
         "legendgroup": "Jean-Michel IPA",
         "marker": {
          "color": "#636efa",
          "opacity": 1,
          "symbol": "circle"
         },
         "mode": "markers",
         "name": "Jean-Michel IPA",
         "orientation": "v",
         "showlegend": true,
         "type": "scatter",
         "x": [
          18.0472761698604,
          10.698707118801467,
          14.36679012984814,
          20.334697631944483,
          9.35633808692623,
          8.655288284378214,
          17.714445207108415,
          10.114679357966981,
          6.166280684933829,
          6.049096061744323,
          5.61984524821494,
          16.794430858121338,
          5.88058338418159,
          7.746876683720721,
          17.979240833091087,
          5.5597105387290116,
          12.155158095921239,
          18.463781073077623,
          6.7568092841464,
          4.9937081020972816,
          10.447766152807047,
          9.700576988143542,
          9.250369570867859,
          5.754947036215761,
          9.21151135105529,
          7.644808928253208,
          18.14529645382723,
          14.768102300707131,
          9.116512634677635,
          10.396799336856708,
          7.047082740086011,
          11.146230280565105,
          12.246415856391808,
          12.76433894722842,
          32.07893581593939,
          7.2702136544920375,
          18.27654519606182,
          19.884660426721087,
          5.0006964466117685,
          12.272352312079008,
          8.26244507203081,
          9.896878109726627,
          21.070378396914972,
          15.972147270584772,
          20.456229515370516,
          20.25559805838713,
          13.776698137894256,
          10.73699176068291,
          8.111119486968523,
          16.39734106290254,
          19.369566194167398,
          10.13108691406387,
          7.610984816417251,
          15.291477556894451,
          10.04947495665988,
          10.32779402159432,
          5.492021985048906,
          23.50917002305487,
          18.557040565637543,
          7.5497330084266645,
          9.631558200042141,
          12.578186460397331,
          5.429657729166766,
          6.330504665279934,
          7.282159983027062,
          13.462803512722877,
          16.81451824669832,
          20.13186866717842,
          18.047881386921503,
          11.717122973987466,
          17.909659677945356,
          10.131227130283282,
          9.894936914482379,
          4.992422539121845,
          12.266345747542623,
          17.814147609529396,
          7.4691275771488,
          20.750461078565767,
          8.692064414758704,
          21.77471404468391,
          20.540249782396334,
          25.38319941197799,
          5.303965238403487,
          9.524267037670594,
          23.92306346566018,
          6.155714527311319,
          15.545831616321017,
          5.02714389400561,
          17.805402100528877,
          20.383439282805163,
          11.670074987791988,
          8.624719548670491,
          12.6327903111907,
          4.289739125229639,
          11.326783367737578,
          5.541612259348237,
          4.741326729432935,
          17.791674213340258,
          5.6030516216956885,
          17.826270717924068,
          6.0475736553495185,
          10.423781960784298,
          9.393921124331378,
          16.77898542970863,
          11.814816124894481,
          8.757688972022184,
          11.322101292736242,
          10.339555620752844,
          13.068839751520146,
          7.184598718627526,
          4.9669106334763375,
          15.135939049772773,
          5.923413144620786,
          14.667616564811027,
          4.38097517732162,
          5.5795751135123375,
          16.357066846448397,
          11.332177060359097,
          8.409127058409755,
          16.183649655090356,
          12.174955562729817,
          5.474570285312125,
          6.550778670606088,
          20.473843449687696,
          8.15887677053744,
          4.972612655100556,
          12.810224841998473,
          15.249717258906092,
          6.201974470562049,
          17.553534952770185,
          5.322809886506829,
          15.446298687821558,
          22.648201593679186,
          9.417237858139066,
          16.4600974129954,
          5.999759114723316,
          20.566690484733698,
          13.652685008815187,
          13.610179176149357,
          5.810049436747753,
          19.571727917975956,
          8.603096137424991,
          6.650455286722623,
          7.157152372634921,
          5.473909391539579,
          3.854233879732517,
          13.24860822880508,
          17.454389164472683,
          15.213920988711545,
          14.158880377430343,
          11.757140463882132,
          8.315347226356762,
          7.929130848695221,
          12.961627445621883,
          9.330939082333282,
          8.086439741047094,
          15.6628948953124,
          5.59308601115401,
          5.9369840977520125,
          12.657457656817735,
          21.567359748243124,
          20.50434815792581,
          9.820986956420647,
          17.04232296496689,
          17.709823521202583,
          9.309570785273007,
          6.865011335217501,
          10.922984850142283,
          26.10697944597561,
          20.26129462351255,
          6.740041468404487,
          8.317677189196116,
          7.216827933749104,
          11.131402922054267,
          8.833767157790804,
          11.972114412453163,
          7.294330374024491,
          10.481421305083128,
          6.574370411471002,
          13.020617025840245,
          27.16199014708958,
          16.379661543563408,
          9.127093022898157,
          11.679198157637751,
          5.25213826144303,
          7.624436541881536,
          10.547284858384993,
          14.048072328864828,
          6.737454123091294,
          18.015408161976275,
          8.067643033823986,
          16.214820955390014,
          7.993716913678658,
          11.768667554731886,
          19.973455950485185,
          14.840546548547787,
          7.08389031550504,
          16.52728120766923,
          9.001236947756903,
          10.402157705031948,
          7.3235004408052236,
          5.285556017795191,
          8.407581831494975,
          6.918279095037613,
          14.076560141805796,
          9.097284143895326,
          15.568022034040858,
          22.251716444497585,
          12.23427629529874,
          19.499429189329696,
          12.153765222546147,
          6.6483908384004735,
          15.176727549551167,
          8.435280335189795,
          11.516517285465033,
          7.042118933667296,
          10.266168426965915,
          14.334765288475825,
          8.449156958606748,
          11.998425884241891,
          9.369122821657262,
          26.463624599835285,
          19.473224987382252,
          12.396696481030515,
          5.357749015393867,
          6.169460993699708,
          11.413407570220544,
          13.798101076131982,
          5.672102758812052,
          25.508080001806412,
          7.274830366241072,
          6.468018109329231,
          7.674129670969821,
          9.714670813751466,
          5.563711581296731,
          12.762611266058121,
          11.548984175885227,
          8.00811891973371,
          7.276088832711905
         ],
         "xaxis": "x",
         "y": [
          -4.419624294989657,
          6.037139768067791,
          1.5656462160063227,
          -4.850009065806567,
          -2.8788613749552616,
          -2.5837020309680754,
          -4.288247713719748,
          -3.762679912692888,
          3.648537742125441,
          2.4466778455212035,
          -1.9370473869730478,
          -9.057563394418013,
          -4.114145694502198,
          5.235397228548389,
          -7.679186324118753,
          -1.5945548958322313,
          -6.071765781860164,
          -7.29670352081742,
          -0.7080336358221659,
          -3.400242274312956,
          3.536227001875146,
          7.710512579183066,
          -1.0371887127182389,
          0.5180770724437836,
          0.6620979579169414,
          -1.282488423576052,
          0.10543326164182655,
          -1.1720587444322972,
          0.539885970427844,
          -6.340835247958797,
          -7.660670750366025,
          -5.164590709514226,
          -3.1121369508442824,
          -6.660126918057668,
          -7.297039673254564,
          -0.6217727260269406,
          -8.231247877201003,
          -2.5016034454879343,
          -2.16365317058996,
          0.8058621405040985,
          -1.5609105733908089,
          -5.620558748397302,
          -6.711857861839805,
          -0.09706183292179933,
          -5.877378909613764,
          -5.114502797576079,
          -6.381645830581812,
          2.841920877724436,
          0.8567306850384477,
          -6.3200452382076096,
          -3.5790675093480093,
          -2.3630787626882945,
          1.7694070179920236,
          5.715794676002578,
          -5.000385904526552,
          0.8126202825061446,
          -7.899285533550214,
          -8.87372782951474,
          2.0941441734415496,
          0.9970622014441477,
          0.36222465598112147,
          -4.713514621264712,
          -0.35896913833685423,
          -2.0412224269827925,
          0.5348423538979445,
          -5.791084396503282,
          -4.244699302004648,
          1.3828724702284594,
          -6.368987053971847,
          5.177881465990016,
          -6.432558140266044,
          -0.5844867369977107,
          4.567918578226718,
          -6.849429174489472,
          3.0988434807054106,
          -9.928833346885213,
          -0.8722569059446064,
          0.3569560440428497,
          2.8778550415164226,
          -6.315192486859481,
          3.662318330124149,
          -4.481664306512829,
          -1.3053364772753497,
          4.016386952665257,
          -4.843325606977265,
          2.4591530944982614,
          1.755365913609637,
          -0.34875284931430534,
          -3.3664257830902264,
          -8.247440272449685,
          -8.677681522240524,
          -1.7714477599135117,
          -3.067412345917192,
          -4.6561213774750465,
          -1.1749600407506489,
          0.9871960600369026,
          -3.796841668521187,
          0.8828693050830552,
          -3.5812550977823885,
          -3.250199150548462,
          2.2103027102099317,
          -1.6636470072593228,
          3.6247070365207166,
          -5.972668445557215,
          -6.433656299326808,
          -5.1903330403717165,
          -4.55658544708023,
          -2.8282224536678098,
          -1.0948825502786361,
          -7.668738464518093,
          -0.7780156923317518,
          0.36451814432879975,
          -3.601645717439237,
          -0.7664808307243925,
          1.940982989253212,
          3.1460646684593083,
          -1.9214719083085805,
          -0.8921267320082303,
          -1.9778257960262344,
          0.30966832953411133,
          -2.0376537796136125,
          0.5890657331379581,
          -3.152979868293986,
          -2.350312481511782,
          3.6740184633387543,
          -1.342343321306992,
          -3.584322732833307,
          -0.2597329042493086,
          -0.9840676868631592,
          -7.398877601680039,
          -5.913266569872102,
          -6.763213307663093,
          -6.6961872024005356,
          -4.263873191130436,
          -6.692649348058519,
          -8.98908907123199,
          -2.612205097205562,
          1.7144009918050527,
          -6.081817934125313,
          -4.9853361494429755,
          3.037028243870377,
          3.6994181524953396,
          -2.839245008243797,
          -5.558878456673261,
          0.8216055827432317,
          -6.164169454002811,
          -1.9774451508840758,
          0.30658265138470747,
          1.1712865203961607,
          -6.509865524184981,
          -4.502616879706611,
          1.1695711019148678,
          -8.952665709794319,
          -7.051603836229592,
          -5.605954034117034,
          -5.637784442147715,
          -9.093583289559946,
          -0.28917330681000897,
          -3.5739314540916327,
          3.0904944347747447,
          -4.465703884661865,
          -5.801999226199448,
          2.7522540151449273,
          -3.43317134005119,
          -5.151154295214758,
          4.794141206443527,
          -2.3861818832049004,
          -3.668834413852648,
          -6.252104650865063,
          -3.0579222797994476,
          -4.141132608177008,
          4.427338787109431,
          -9.13355228647395,
          -6.0839961457815015,
          -2.941219383823995,
          -3.5890721061010433,
          -0.4194306646355542,
          -5.817948727893054,
          -1.304387832555717,
          -3.629380582416506,
          -5.312104662057742,
          0.21695866815316203,
          0.168355830785587,
          -0.4976283794740224,
          -1.454210645904139,
          5.814584943587401,
          6.108770048111395,
          -1.7639463061658545,
          -0.3197918294354355,
          -7.7974338773487215,
          0.8247937734322199,
          -5.351531149009494,
          0.1114585870065484,
          3.8338520841167214,
          -5.340780304226405,
          -3.9088203338897056,
          -8.106329388355503,
          7.855419329474417,
          -1.4763927306891738,
          0.2705424031765177,
          -5.421797094568448,
          -3.4234597555137647,
          4.167169444077809,
          1.5536471451889406,
          2.0842327052345833,
          -2.207727465227149,
          -8.000097378903343,
          -1.879451053538469,
          -3.7371797356222536,
          -4.575260682836102,
          -4.118592281906543,
          -3.4990583226930254,
          -5.078941210110562,
          2.1080165678851177,
          1.6104559092086554,
          -1.675175778417858,
          -4.869663817911871,
          -2.8949060578099433,
          -6.678120286078513,
          3.0894904438505177,
          0.8881455547578214,
          -7.4256937346633265,
          0.13426300159244595,
          -6.549875837529774,
          -4.682986560694578,
          -1.4424589018682825,
          -3.6603681978362776,
          -7.2157019098757615,
          -4.159923513428216,
          0.8115624485124909,
          4.6741999036453485,
          -8.190097839877108,
          -4.817580245886143,
          3.5369651817651797,
          2.1767928348943206,
          -2.1497996480177557,
          3.1627084960304326,
          -3.1305171307659103,
          -1.0195304468125033
         ],
         "yaxis": "y"
        },
        {
         "hovertemplate": "cluster_assigned=Ada the explorer<br>Principal component 1=%{x}<br>Principal component 2=%{y}<extra></extra>",
         "legendgroup": "Ada the explorer",
         "marker": {
          "color": "#EF553B",
          "opacity": 1,
          "symbol": "circle"
         },
         "mode": "markers",
         "name": "Ada the explorer",
         "orientation": "v",
         "showlegend": true,
         "type": "scatter",
         "x": [
          -7.737556683387105,
          -2.571899240054057,
          -11.902931832187944,
          -2.0675626441074324,
          -3.457743906550928,
          -4.922773187484265,
          1.804133129753927,
          -10.634542315977795,
          -1.1436929525330002,
          -0.7551134305755184,
          2.756255545442466,
          -2.1003221982068276,
          -3.2517241114819635,
          -11.567591749742917,
          -5.5136430338597275,
          -1.2260948771051108,
          1.9740368926563645,
          -9.893182082731617,
          -5.553263263886647,
          -9.52979354142351,
          -5.3173168870615015,
          -8.561993257415027,
          -5.893675204975158,
          -5.336102924982173,
          1.573558397822101,
          -8.304019927989014,
          1.0649081259565893,
          -7.645236360956846,
          -3.2510604691425944,
          -5.702971300085949,
          -10.331361974770816,
          4.327159376451314,
          -9.36564810324027,
          -0.29626340780259786,
          -0.7005795892515889,
          -1.1588380538380638,
          -6.29473343308174,
          -10.806070251180676,
          -10.03909836726735,
          -7.125743340374933,
          2.580831257007124,
          -2.801699495299022,
          0.025049418861613392,
          -11.30677134721489,
          0.5992292045511964,
          -4.420727576185666,
          -5.392186996789009,
          -5.724261083958853,
          -9.553781060039299,
          -8.338366765833863,
          -2.2289279159651496,
          -7.253867015612603,
          2.133490834686321,
          -0.16916083467824522,
          1.3302181259350712,
          -2.4920838317127108,
          3.683843105275739,
          2.85691817276681,
          1.6011979906122606,
          -2.4185452586381513,
          -1.405265998835029,
          -7.812887145638041,
          0.47172307488740006,
          -1.8301446618432362,
          -9.135614730394991,
          -5.734812436811039,
          -8.614953215066597,
          -5.22577294632857,
          3.9237436281481877,
          -8.75836640712133,
          3.6925914791396663,
          2.1319998006292167,
          4.796092810992481,
          2.1946816814828134,
          -0.9677046877999704,
          -7.251837145615302,
          -3.5091205378999315,
          4.350914528992443,
          -0.29729918093135,
          1.7659045699808598,
          -0.18061051324738334,
          3.54472411718611,
          -0.5411515506119553,
          1.6354126644397435,
          -4.038489760358216,
          -0.513452461270455,
          -3.2883449358379355,
          -3.9662386760624635,
          -1.3875300041092613,
          -5.447940305855017,
          -2.659758146904674,
          -2.988030217649523,
          2.6201733980731,
          -5.212123764639852,
          -1.0717158755355372,
          -8.490247147073473,
          0.7952697816397071,
          -7.0295215062891545,
          -6.829830437117096,
          3.3619208884958476,
          2.0536042122232834,
          4.0465122363770485,
          2.943545530793414,
          -6.268725417507121,
          -4.750797163074198,
          3.469651447496439,
          0.3358142128184564,
          -3.750781536219268,
          3.736692933376734,
          4.0790862784353665,
          2.8591399472907306,
          1.1156102619477166,
          -4.745462550034233,
          -7.485855138744724,
          -4.980824305714266,
          -6.576765285090519,
          -5.3942621143921405,
          -3.473319099195403,
          -3.813938178076865,
          -9.521491806637211,
          -0.14979787021096305,
          2.3430737815132954,
          -11.132211045065779,
          -2.612276602133619,
          3.318667036138221,
          0.6385338236674635,
          -5.349404450059281,
          -5.480898713774036,
          -4.25653249105909,
          -6.007223236340828,
          4.110913664792915,
          -1.889488389569573,
          -10.964137774135395,
          1.141003342445684,
          -4.645234366445214,
          1.3058707569224621,
          -3.618317936042725,
          -7.686567791995983,
          -0.8788652620363032,
          -6.053189880889268,
          -1.4569041457722953,
          -8.520621978894475,
          -0.8867788219946121,
          -3.7222852864216267,
          -0.6969478704959611,
          2.2180614428645673,
          -7.160272729522151,
          -2.7210693840808746,
          -7.870957935643801,
          -8.154982295864844,
          -6.195367959992455,
          -5.318570329938356,
          -2.2734634822482493,
          -5.78873050806901,
          -4.371926573294219,
          -8.610319225293336,
          -5.68298317210634,
          0.12422228282354063,
          -2.9730071929920223,
          -0.6926987050435173,
          2.1288622922368305,
          -0.14674755513379523,
          2.1645007335367725,
          2.4074149000910956,
          -4.950810453347775,
          -3.630934900376889,
          -9.883700229029186,
          1.88694651836475,
          -5.496544199736268,
          -1.8222328450378698,
          1.9985981096263752,
          -3.9362618745100892,
          -1.3504861683569047,
          3.0458847365843185,
          -6.833538581452467,
          2.030653743628832,
          -1.7627615229679212,
          -7.233725734747062,
          -4.147447964738629,
          0.7592402458382873,
          -7.409294517678082,
          -7.975733922728072,
          -3.236218153779546,
          0.014417956929151729,
          -0.7114571468416105,
          -5.836836032368148,
          -7.966097910383811,
          2.0122594044134896,
          3.175041090767539,
          2.43485699195583,
          -3.121491550867315,
          -1.5218219402636204,
          3.4850744565095533,
          -3.272792861848846,
          -3.467208880441246,
          -0.45296411581212637,
          -2.5892354964053523,
          -4.216805475196378,
          -11.928062553166068,
          0.45000508301950465,
          -8.33370304377023,
          2.620747772060476,
          0.27754176883032444,
          -0.3382570420790567,
          4.259867122761255,
          -1.4723812062932373,
          -6.180878673455881,
          0.4285018155431714,
          -7.323465150575393,
          -7.41327058425655,
          -4.7087401046256705,
          -9.242565970049032,
          -10.489323275339643,
          -3.7519169431495776,
          -0.2666308669535154,
          2.6205775767529316,
          -5.158186869384346,
          -2.976452080768996,
          -2.4369265333525307,
          4.3513803229154355,
          -6.9387481989695505,
          -11.531188858625983,
          1.7320563655677559,
          -3.403186079896149,
          -4.602745753914894,
          -7.163490048691928,
          -0.9356346413617564,
          -2.662247308197197,
          -8.324735940137801,
          -2.2897634484366565,
          -6.581052757085836,
          -7.485584789851691,
          -2.171991528118137,
          -6.585677696634144,
          -7.766624836260279,
          -7.463019567698096,
          -0.7461589832533421,
          2.242317332445049,
          2.3727805751904,
          2.3736614251856305,
          -1.2468058523480758,
          -8.726746477403612,
          -1.2932735177499,
          0.4945814357423828,
          -3.6449472006520467,
          -8.168741010333811,
          -1.9696376907122473,
          -0.08211905887502323,
          0.3990215956332989,
          0.048654728545166503,
          -5.29203180480769,
          -9.404181452269967,
          -7.933237322088439,
          2.348664077418891,
          -2.5947057853145514,
          1.9332557008825841,
          -11.707770647084761,
          1.4227778103163762,
          -9.492169671436633,
          -7.84402069609365,
          -4.1704246130859834,
          1.15718221148854,
          -2.7965505083552467,
          -4.730115579584297,
          -0.8800575104080759,
          -2.2325246816737225,
          -0.174310703953343,
          -3.2909452612860446,
          2.7030099981951743,
          0.3682766018340195,
          -6.6346718758579035,
          -7.377000693165221,
          -4.568622749966082,
          -5.709539685105744,
          3.380648116171168,
          0.18536442125454736,
          -9.484221405722282,
          2.5532219954870623,
          -0.8288057554510141,
          -5.439886796014952,
          -4.666318488795346,
          -7.863040432644942,
          -10.747428362628195,
          -3.675800219048311,
          -5.988966242376739,
          -6.565775235877553,
          -6.862151286853847,
          -0.7430104797273932,
          -8.800871402358608,
          -2.8619068163887653,
          -6.426394632818264,
          -0.679842063608002,
          -1.4831299838598173,
          0.645125870407105,
          -9.005738724636982,
          -2.1871139236402133,
          2.186291977592054,
          -4.026693659609651,
          0.24694720479287333,
          -8.73922197576621,
          -7.701406830994492,
          -3.043403439421182,
          -9.620822903531373,
          -10.57253763403208,
          1.6851468854494778,
          1.731016411903113,
          -1.3455525971043092,
          -5.547607640334762,
          -0.4076696362294251,
          -8.33326188640653,
          -0.16007816320619392,
          -6.666159260784544,
          -0.23282211699972274,
          -9.945163636109223,
          -11.208856453129174,
          -7.899441383246185,
          -3.0702092554940266,
          -8.384878768963727,
          1.1878788816938457,
          -4.483133547451506,
          -6.810237231212217,
          -4.791555991748716,
          1.923514462532419,
          -9.272648043577027,
          -1.1618548691187025,
          0.7337729932506186,
          4.8150562754607895,
          -8.883741111038477,
          -7.326487179989415,
          -1.6543470264341555,
          3.0346594717389515,
          -2.738071293486699,
          -9.987971296638325,
          3.5461501459939813,
          -0.996718318685684,
          -11.89311175044613,
          -5.390169972993812,
          -5.0491446067211845,
          -1.3114400663832808,
          -3.5565044701063524,
          3.123192719688536,
          -8.836725920537962,
          -8.03012266029743,
          3.7813295115599534,
          -0.2965407417418021,
          3.5157567095989255,
          2.861632792793958,
          1.7906251104540352,
          2.908531028214868,
          -2.4005078554064156,
          -4.060087610304954,
          2.081497861823712,
          -3.9168705780788757,
          -1.998764564196322,
          -3.116013922202372,
          -2.9104592422653286,
          -5.2569271829889335,
          -7.72768142434753,
          -7.3436265311805755,
          -6.517014613943239,
          -2.7275254175753094,
          -6.481642794497619,
          0.905327469217321,
          1.4387808353298972,
          -4.834378458841238,
          3.701928892101679,
          -9.123265269813198,
          -6.777689292727072,
          0.22126897982516852,
          -2.8879102375374424,
          -3.4645153673008764,
          -6.476435513154749,
          -1.3459929389715488,
          -1.930176385285417,
          -6.373983377036573,
          -5.526464788692725,
          0.7468857936761713,
          -3.1073249590850573,
          -1.5723650885113178,
          -7.200998747612003,
          -8.256032120656055,
          -3.419019878722479,
          1.1592462426766346,
          3.2026690975626755,
          -9.286791973045899,
          -1.2927707747435202,
          -6.966955375928198,
          -1.7569156096034524,
          -7.581225236011194,
          -7.705890598607405,
          -1.8828054802970442,
          -9.23803616401022,
          -8.645125318402412
         ],
         "xaxis": "x",
         "y": [
          -1.3489144230407202,
          -0.8659440518059539,
          -0.8232903406003195,
          -7.585988679584339,
          -1.1026587899122249,
          -0.6630956409293484,
          -0.12417965244570556,
          0.3537549144053064,
          2.6507127519322817,
          -5.682854619684897,
          0.7176884708254131,
          -1.2425823245513363,
          -2.4254608822029002,
          4.169888492450953,
          -2.553133442315167,
          0.8102471808415685,
          -4.7687148465822835,
          4.664351414538055,
          -1.72600921456195,
          -2.0358765341309986,
          -2.257633640417966,
          -0.480135570206762,
          -2.5614193790094717,
          -0.05452642176655733,
          -3.886227120375004,
          -0.8079307491761577,
          -7.7188288994575185,
          2.8095627172894724,
          0.29923105455866483,
          4.527047607169096,
          1.8628320918329904,
          -1.2938713558775583,
          -1.8793180747300104,
          1.6746799094229088,
          1.8259075176202668,
          -4.456175589944605,
          -2.5572620743958083,
          -4.0489460444747705,
          1.4263877581988307,
          3.1816338863834566,
          -8.730768781899647,
          -0.18361984156930874,
          -0.4005225437018843,
          -4.088901793639789,
          0.6498964189601577,
          0.10154232955307532,
          0.9007341277580634,
          2.0362910844521225,
          3.845727338207966,
          -3.4603896097711995,
          0.27396706150889377,
          0.9128244339435528,
          -3.0312147636933573,
          2.675034506545708,
          -0.7237559700017231,
          -1.728637104298832,
          -1.6433497052113908,
          3.120764995569516,
          -3.0233885708296473,
          -1.77927535042329,
          -6.602998502438003,
          -2.022046387217328,
          -3.179602760878185,
          -0.4484503529807135,
          -2.3695290015029378,
          2.7926304595225044,
          -2.5278370558935426,
          0.16892098515426704,
          1.4585037299738706,
          1.6532694482845798,
          -3.1993303257411476,
          1.0880677522591602,
          0.99507252558839,
          -0.5516103107414358,
          0.7186391221654512,
          -3.1115327177601046,
          0.22355566156910087,
          0.5826873594878511,
          -8.166431291725523,
          2.9356373732282015,
          -7.570431241313429,
          -4.617268393256541,
          -1.9146285429150016,
          -4.0066347328610865,
          -7.958886771062256,
          -4.729017232806235,
          -3.168850109035908,
          0.7450448053954003,
          -2.3791317678475097,
          -4.002045444347689,
          -1.4050137926442248,
          -0.8158797279372865,
          -6.3450648630122615,
          0.8500302617661892,
          -0.7173056131258437,
          4.249079779756967,
          2.813803858909493,
          3.798231170190791,
          -2.1449881438699023,
          -7.536625101691851,
          0.9428618174304391,
          2.212390081563103,
          -2.515670296351641,
          -0.3298762079853365,
          -0.525998703688894,
          -2.6063262035248407,
          3.411211300739938,
          2.187557078031981,
          -3.3762767890232803,
          1.2726769006651877,
          -2.210499638131168,
          -1.0187325959331008,
          1.4611851463088448,
          5.042435389992222,
          -1.05081548583787,
          -2.7331702812927006,
          0.24427544569200396,
          -5.437799678750344,
          -3.194589602721626,
          3.4416613829841567,
          -4.671202252986621,
          -2.4114959606971103,
          0.42762152099389183,
          -6.606652973902378,
          -2.873281600535807,
          2.2614579989996395,
          -1.7427149067785253,
          2.307836009670716,
          -7.857058183794122,
          -7.4577242688511385,
          -0.8853398130897344,
          5.584039405008921,
          4.112861125431786,
          -3.200913355514033,
          -3.0146126409596077,
          -6.313091033637116,
          1.0779986799021526,
          -0.9439104819924138,
          -8.352575009180349,
          -3.8430695203032617,
          -5.630894241240849,
          -1.2085767416442115,
          -4.514412147384922,
          -0.4990911072071605,
          -6.239011670097843,
          -6.630082779409927,
          -5.28655109581091,
          -3.754130377949957,
          1.5910712645156753,
          -2.1002143797730044,
          -6.2852669302606525,
          -0.39052404496717774,
          1.0974353921538385,
          3.854374126352952,
          -3.9950081934718416,
          2.633864344724104,
          2.246135215627346,
          2.4587126683478346,
          -4.211521823805749,
          2.836847671370197,
          -2.287638514314434,
          -6.123052230311203,
          -3.8141811121396376,
          -4.753556718064212,
          1.9191329061219184,
          3.7916292457149163,
          2.680704579952376,
          -4.613134450992155,
          -2.9337974862116853,
          -1.7805447305371078,
          -2.105511309097405,
          -1.0188011140018358,
          -0.745526010418193,
          -0.017952848450454147,
          2.343874626015166,
          -6.400691084757322,
          -4.9715503931760425,
          -3.6755642312168835,
          2.4419104191257857,
          -6.097173891238685,
          -2.8039203431835187,
          0.4389495627399467,
          -6.048813923041961,
          2.8200219643513282,
          -3.7901458559914194,
          2.1796244232959068,
          2.00073695225114,
          -3.148959069523262,
          -4.078649109461782,
          -0.043344849692692144,
          2.0912463480634726,
          -7.982838693223411,
          -0.607699790081447,
          -3.67546045109359,
          -0.4723080804397318,
          1.6906644502516641,
          -1.7058222357127113,
          3.659466780336842,
          -1.1739584072695892,
          0.7833013921322639,
          -0.16794190728928388,
          -2.19248498541695,
          0.9789598267842846,
          -6.154005302858724,
          -0.8954513779606076,
          -6.095422913305429,
          4.528976619862308,
          -3.8627611664971675,
          2.5950743808895207,
          4.072489589552387,
          -0.25591198881923083,
          0.44700807717122526,
          -5.280145428863231,
          0.8029424417385462,
          -1.3679201175826732,
          2.2948138371943703,
          0.5122055035367793,
          1.8503443084874127,
          2.1377298535098705,
          2.3423474166057083,
          -7.449442074729085,
          1.785505826633165,
          3.2587584699205525,
          -1.70614916880568,
          4.165256247352751,
          2.2284711346213033,
          -3.156547181974058,
          1.82313769159674,
          4.875571486071278,
          -5.330404590376347,
          -0.7788497196270179,
          1.930957234004141,
          -7.950353217126105,
          -5.180649114832136,
          0.14895027702295066,
          -0.9115501545582816,
          2.1103102065562895,
          -1.25050568430447,
          -6.726391701321882,
          3.11302468326347,
          -4.959589101641725,
          2.5146450730358474,
          -2.849083197132799,
          -3.9317035520460535,
          1.9736124494062972,
          -4.474794545912537,
          -0.27582548180256183,
          -7.480091509384433,
          -3.301091272375288,
          2.996674345839873,
          -0.16710374565991468,
          -2.4290118807722814,
          0.706943438367729,
          -2.3344984847336283,
          2.388510500605964,
          -4.743033364810852,
          -1.3281604316347169,
          2.1174784750325633,
          2.7265244463691123,
          3.405447541539486,
          1.6787212709270245,
          -4.034308963083762,
          -1.5579659616209125,
          0.12488599843966129,
          -3.9879731551026283,
          -5.2414306769509,
          -1.1579635063811655,
          -5.968131094459347,
          -1.2467323027558173,
          0.41189701717179383,
          -0.51300795064549,
          2.7422928066809833,
          -2.452161858637536,
          3.485833027184063,
          2.4208288514700134,
          -4.897768345214691,
          3.9777532987873325,
          -6.328799971590872,
          2.524757913709863,
          -6.695512173600403,
          -3.768482802135297,
          -0.732330142716498,
          -0.7677339736599942,
          1.9530986356090725,
          0.10858089093846658,
          4.4520037564045305,
          4.9686150154119035,
          -6.168548322543524,
          4.146814955121168,
          -3.3978851873381335,
          -4.023046404281971,
          -1.7025438375472852,
          -4.792676081378886,
          -5.762347219282183,
          5.598853236927393,
          -0.8669743421397662,
          -7.368907526854951,
          1.1192897999057454,
          4.70576065866849,
          -0.8870355585597461,
          0.18979368687276052,
          0.5231503948250638,
          -2.6223973823730136,
          -1.617380192766973,
          -2.769948293066617,
          1.1564706185763893,
          -3.6295066125356996,
          -2.7639467958977657,
          3.3179222170328946,
          4.513616966674368,
          -2.195974280218129,
          -5.15396619646568,
          -4.631934790142561,
          -0.061209264785975215,
          2.4650123479688864,
          -2.1015014984704243,
          0.39931381909191993,
          0.454701713038225,
          -1.2094924996581133,
          1.303856118848284,
          -0.01900905388833319,
          -7.630403649600132,
          -2.5636224602594666,
          -3.797806188682719,
          1.411465073792089,
          0.19023911701967583,
          -3.1694762500649265,
          5.576098758515682,
          4.610880890014796,
          -0.7451861674270759,
          1.9246246973811747,
          -0.15880316805211028,
          2.5483300666888336,
          -1.3210257951498405,
          -6.366619818016412,
          -4.801681173812205,
          -0.3101078540964433,
          2.685874734715847,
          1.8123779462633354,
          -3.3768291041052505,
          2.351246772393932,
          -7.094218706613512,
          1.3805367928895842,
          -0.8147115753751891,
          -0.016761137363181706,
          0.7720453426555233,
          0.7413959290403971,
          0.6193154959510875,
          -6.343845700038522,
          0.3271946764285617,
          -7.565623054031517,
          0.517653713591156,
          0.43394589936582595,
          2.1704932627733777,
          -4.434805856915587,
          -1.0353881056533685,
          -4.718246996625211,
          -4.464553593849666,
          -0.8454990018860906,
          0.10659590397051953,
          -5.666242392921218,
          -7.842783511589575,
          -3.4372156691691647,
          -2.926772654940116,
          -0.6162495627113057,
          -0.6921832748124342,
          -2.0918040244935034,
          5.238076911110041,
          1.4951014860007914,
          -5.679055017593662,
          -5.278419954533306,
          -1.0294168753464783,
          -6.021854381837946,
          2.670550427256266,
          -3.304931238349565,
          2.947537248262193,
          -2.144838216826329,
          1.7638374205929415,
          -7.2214954688237505,
          -2.0364477211504126,
          -0.5860603775775084,
          0.1426032657278572,
          -4.57046982927844,
          -3.517657439534375,
          2.025477610294021,
          -5.231377685301703,
          4.080746399426748,
          -2.562258643474096,
          -4.737391723974046,
          -3.9790338644904995,
          -0.7292922696866261,
          5.930424859953116,
          4.1247960371079815
         ],
         "yaxis": "y"
        },
        {
         "hovertemplate": "cluster_assigned=Marcel Stout<br>Principal component 1=%{x}<br>Principal component 2=%{y}<extra></extra>",
         "legendgroup": "Marcel Stout",
         "marker": {
          "color": "#00cc96",
          "opacity": 1,
          "symbol": "circle"
         },
         "mode": "markers",
         "name": "Marcel Stout",
         "orientation": "v",
         "showlegend": true,
         "type": "scatter",
         "x": [
          -4.207539188505627,
          2.2077243997875637,
          -4.999619452473294,
          -9.491068588476956,
          -8.42559396812798,
          2.919412731984085,
          5.707495668560157,
          6.894211970243065,
          6.682332866532927,
          -11.109025211537881,
          0.17823822654886073,
          -5.206676010913881,
          -1.4185946064542427,
          2.825923353289376,
          -2.3680190319548315,
          2.79876979104227,
          -8.011414629508415,
          -2.3363281902071775,
          4.377862621622652,
          2.261467220925816,
          6.403504773217891,
          5.438890411387455,
          -5.374549502938508,
          3.9691862474952706,
          1.4269339801302818,
          -10.72192852055483,
          -5.808355677473041,
          -3.954547199635768,
          -7.847696487010531,
          1.277542716814325,
          -4.108274534327713,
          8.72288424877896,
          -2.4616193704808254,
          -9.217946598676871,
          -2.0247821628884433,
          5.519667157571526,
          -4.593619456831379,
          -10.752285276738016,
          -1.399143099865085,
          2.8075809829100886,
          6.13637747852952,
          1.1808895418711605,
          -0.1808631557613597,
          -5.103985492974308,
          8.036860165047955,
          7.744059688393623,
          3.534865942012334,
          1.0327484774662898,
          -5.791028402293708,
          5.352875973445124,
          5.452264106654594,
          -2.591662416789204,
          -8.57064298427871,
          3.861643167219327,
          -6.664666027575988,
          3.5430616228652685,
          1.6216164404753466,
          -6.06796587352438,
          -2.720742794104575,
          -8.71698654249384,
          -3.5788252104219676,
          -9.450675346210211,
          0.7200325249812628,
          8.142847673021809,
          -7.2964793826568926,
          6.538917065294864,
          4.637168559137112,
          5.518377716745116,
          -2.732658086446294,
          1.1573035667424818,
          -1.8906014418012589,
          1.337700696449799,
          3.8538094969418704,
          -3.746190841509364,
          3.718641991459929,
          -5.100258151890018,
          -1.090158565493814,
          -8.397727890734322,
          -10.279971371510582,
          1.5018205596888738,
          3.7450895626833396,
          -2.8957924783505375,
          11.907575908160792,
          4.5296408698677695,
          1.0764064119555123,
          2.9757250671763926,
          -3.054482579977713,
          0.8226132327751065,
          -0.28129696091749234,
          -1.960290142038028,
          6.9791940819088705,
          3.8813212248858098,
          2.8460746420969762,
          4.64686157090255,
          -0.9828593541022221,
          -4.537513411226911,
          -3.372374596920974,
          -4.148478166795255,
          -3.3066468399395132,
          3.007056449012074,
          0.7056927315353551,
          8.854839904270523,
          -2.546506910725746,
          2.413646522025223,
          1.6379268348702798,
          -3.6434957927782317,
          4.583844375956678,
          -9.165210995269396,
          1.162373209579636,
          8.00151230230261,
          3.4404140970605495,
          4.5078101365818375,
          8.92338618733336,
          7.546029652284904,
          7.512920215575978,
          7.637262339428082,
          -2.3334343702728204,
          0.7380668517575448,
          8.644647074927091,
          -5.07525561353742,
          4.733587178405666,
          -4.277476840572343,
          4.6623710382638786,
          -6.840165365405431,
          3.491606956813941,
          0.7969733025770063,
          3.9445656777319815,
          6.777357618404378,
          -9.605862202104179,
          2.617737771358807,
          0.5191932605886264,
          -3.570841611654003,
          -9.771775621432925,
          -11.158886273426706,
          -2.9696191999799373,
          -9.304406480440406,
          -5.467553144299865,
          -5.525312091574453,
          -9.786270064223691,
          5.790773286625907,
          0.011463727575215821,
          -9.546904250835976,
          9.912243314572942,
          6.68783189042172,
          -5.392459324164112,
          -9.968729089918206,
          3.578278116461129,
          -2.2181291106854366,
          -0.6850325580100943,
          -2.448092180082597,
          4.235230965742394,
          -0.4119246356034539,
          2.3706976353667217,
          -9.396760618827523,
          3.5602995874185837,
          12.731294025938212,
          8.594247473380937,
          0.945033972506415,
          -8.767123256016877,
          -2.709578590663249,
          -9.274694478470536,
          -0.9547514302040165,
          -6.127663363686036,
          1.9957031045075366,
          0.8681188968868723,
          -10.976278460785762,
          -0.9047751077408387,
          -9.069443563461514,
          2.310927331845567,
          3.069242438824694,
          -2.486315681403543,
          -2.8685677449334794,
          -2.4658282780932486,
          2.5921436937243763,
          1.8130121800438266,
          -0.7360647802846769,
          -10.644043683800458,
          4.18866190408495,
          -8.755271824397282,
          -6.238777880272528,
          3.21843162165919,
          -7.0715999035181145,
          1.253849592096004,
          0.017791112459664814,
          1.588191936107925,
          -8.8357084474097,
          -4.5489243936831665,
          -7.2594930119993535,
          0.7332729317170562,
          0.6620750880916754,
          -3.3216221794337786,
          7.122297660565849,
          -5.8119819251423674,
          5.502829476792217,
          1.5348166908527932,
          -1.815835676978827,
          -4.887682975471013
         ],
         "xaxis": "x",
         "y": [
          13.708141379867701,
          17.676583475707012,
          12.987881143944747,
          15.550769778126442,
          9.190376841279848,
          10.197919055701758,
          11.107262386906358,
          7.082180158583308,
          7.80170639585246,
          11.18055158153123,
          6.669500934490956,
          11.555173616603772,
          11.97449845105761,
          16.760492269244736,
          5.588719304552122,
          5.797242486488448,
          16.419876022192256,
          4.827341413132853,
          8.201541344096174,
          4.474870086240736,
          9.36794604055767,
          6.137368023687532,
          9.67616915737487,
          10.327968425242045,
          5.050054241794636,
          5.96198398543014,
          6.0146244361513075,
          6.864176813104804,
          7.628821545187193,
          4.91154748297249,
          4.895154206226145,
          11.530081724053352,
          7.597603321159777,
          5.9642679100005855,
          8.107877333230059,
          3.7602420092283952,
          20.173890332149195,
          12.184342302413917,
          6.332238380006746,
          12.28998615057026,
          12.26559911665759,
          4.148542869698843,
          12.106546297665442,
          11.486002322845392,
          5.9799320398440665,
          13.86372510562418,
          3.163924222748427,
          4.1586750289129135,
          8.530330930389743,
          3.1961560478071176,
          7.601152074248695,
          5.70871090670991,
          10.456965929723841,
          4.968355802843535,
          18.357971519893013,
          9.63259679240157,
          9.578047480946932,
          15.923341010397094,
          5.871567979157616,
          13.269010488442307,
          10.223699066135069,
          18.137848504606588,
          6.359522365930682,
          7.698034292668854,
          10.99154124014989,
          11.561284679163656,
          5.88341188028918,
          6.849073553698277,
          5.747766690895832,
          5.304384757414557,
          5.232692253356155,
          8.666486966216866,
          11.265695069394782,
          6.713054455561074,
          13.57438837921437,
          6.521773280342149,
          4.958123843861056,
          17.055011578943933,
          13.660683653902188,
          7.416371997110648,
          7.915026565160624,
          20.864479862299152,
          11.376964725378635,
          3.737030736109936,
          18.08311389471089,
          2.9450657674032366,
          9.012837647943174,
          10.490807522810575,
          7.199558876286133,
          6.8292947984467895,
          10.924605607382679,
          3.5523934850218737,
          2.4388829651784327,
          9.05150092850015,
          10.403783495376791,
          20.090595706224278,
          19.83141163861427,
          8.136577063496851,
          11.189079188422214,
          6.529985000267586,
          3.165435058076528,
          10.866003352829354,
          6.236040267567697,
          1.7345704402328392,
          12.85482007338599,
          7.2902992475634605,
          7.94929376620421,
          15.779060636715036,
          3.55197376426303,
          12.837832394300866,
          9.046024721740698,
          6.454323295762811,
          17.4807868074018,
          8.592453392648506,
          5.787030430097476,
          7.926232260631739,
          5.728038462607565,
          4.361527161406915,
          11.401608463866806,
          15.087001371344853,
          6.054350359169063,
          6.715896327157182,
          8.638175089357649,
          20.425576991124558,
          9.500911883015867,
          5.238805789975246,
          1.7906693231593334,
          8.269686618668773,
          15.58371251950621,
          8.591010333751655,
          12.824042827304892,
          5.512068039652306,
          10.001074821555084,
          7.839482650442048,
          15.682625585119364,
          33.78769815762615,
          7.634927907837021,
          10.524245934494898,
          14.446375544083672,
          14.342465148940212,
          3.9362513023013284,
          12.138401965604741,
          15.140034596499797,
          5.263072133008028,
          7.050177983356935,
          17.425172533789635,
          4.132915803903392,
          10.710726736482421,
          6.146455935528888,
          5.852069199515862,
          6.2316559151514435,
          6.553432753732511,
          6.518646081658742,
          9.958357049400947,
          5.190732413028065,
          11.534694154152783,
          8.650729041756838,
          7.240204760288206,
          8.60132695583957,
          6.703838176769905,
          17.601170717511074,
          5.8343677949032795,
          9.830370694449625,
          6.466434182148622,
          7.745422875175788,
          12.518050875783995,
          16.78757438723834,
          17.572028416224644,
          13.04126482134341,
          5.349640401383096,
          11.78111291965724,
          19.44429272049381,
          13.029399910811295,
          12.289143280807735,
          4.90606990920567,
          4.999618586543416,
          11.682935119037294,
          4.868177931857027,
          9.810078414766812,
          19.41718290719739,
          9.781891634671062,
          8.151951157009089,
          7.121122023276034,
          6.465860117869909,
          5.7580490933422555,
          7.936108984176181,
          15.272095982995136,
          16.648722806683935,
          5.012707211042423,
          6.4499842362462765,
          6.511317744349968,
          7.596231835527597,
          13.027897547117407,
          4.336049329375814,
          10.431169947470993,
          22.635735947106955,
          6.732757526442912
         ],
         "yaxis": "y"
        },
        {
         "hovertemplate": "cluster_assigned=James Bland<br>Principal component 1=%{x}<br>Principal component 2=%{y}<extra></extra>",
         "legendgroup": "James Bland",
         "marker": {
          "color": "#ab63fa",
          "opacity": 1,
          "symbol": "circle"
         },
         "mode": "markers",
         "name": "James Bland",
         "orientation": "v",
         "showlegend": true,
         "type": "scatter",
         "x": [
          -12.735692404616966,
          -13.415750427106133,
          -13.30323031738597,
          -10.165204121606578,
          -10.25387565103224,
          -8.50308950381333,
          -12.757943952939469,
          -9.500389008824984,
          -11.681824429757015,
          -2.354740374658315,
          -10.177135764267328,
          -16.70203896422147,
          -11.943125055528938,
          -11.10878738587387,
          -12.935142852589246,
          -9.684668812201194,
          -9.088363673562313,
          -11.351109192276398,
          -8.140017535269324,
          -12.744736302142547,
          -2.9306414608120543,
          -9.73192269502883,
          -14.560695174906039,
          -13.074727932641766,
          -10.780431662049647,
          -1.9369152268430185,
          -9.134341811859437,
          -3.7555997100061274,
          -11.372252622101444,
          -9.52232415808579,
          -10.685342798385896,
          -13.718593319167814,
          -10.366815103069207,
          -16.00348330761133,
          -10.310727541931206,
          -16.9636909260797,
          -3.74220666412289,
          -3.010344707951171,
          -4.718137801244434,
          -3.388733175897088,
          -11.785671164222904,
          -7.96915544905794,
          -13.956818281923832,
          -14.591240187656947,
          -17.250376967395272,
          -16.73700798640924,
          -11.282279877668083,
          -5.013447796273005,
          -10.552877482718696,
          -11.683558453620952,
          -10.249737228343077,
          -9.43997753792719,
          -13.958229542439188,
          -9.468041832645849,
          -9.033948061692746,
          -9.759485243459698,
          -5.407707647809508,
          -13.3785632202191,
          -10.48193802672033,
          -5.517320726225184,
          -6.907447810195054,
          -10.888221478123217,
          -5.196173335835434,
          -12.773971501796618,
          -6.5756197208858085,
          -7.73276234784893,
          -10.644902769182632,
          -11.25542204325576,
          -12.39705693627418,
          -10.52132960344188,
          -8.689077607952662,
          -12.773032999409752,
          -10.947224270877994,
          -12.646146300310672,
          -8.767104301207489,
          -9.438599932483548,
          -6.161608732407193,
          -14.726665081023283,
          -11.56819533539185,
          -11.894013248982006,
          -11.311010434599083,
          -11.80311897579612,
          -13.870602474165471,
          -6.088120385536039,
          -11.69818718269131,
          -10.707693279222202,
          -10.777019008677033,
          -6.497467119373964,
          -12.949532566767353,
          -15.005677310279818,
          -10.125552859386728,
          -10.86187304894337,
          -3.0334350216596477,
          -13.1599904184482,
          -12.965467432178135,
          -11.954336628730482,
          -13.637594782579784,
          -8.203713647860823,
          -12.24054075942913,
          -8.679762028421992,
          -8.452660985506684,
          -10.952600226405096,
          -9.045058359655169,
          -5.450590764269415,
          -14.159350076710991,
          -15.543064206684072,
          -10.40068119138907,
          -12.375840192227658,
          -10.062899196806507,
          -11.463112653038195,
          -8.322982496154468,
          -10.782796267029727,
          -13.621399587321283,
          -12.996260180130447,
          -14.112342850371581,
          -6.347506190418215,
          -14.472610314399175,
          -10.07928692580122,
          -13.280140892927728,
          -6.898001663804072,
          -11.166264809863252,
          -9.009322356162789,
          -2.189400728220039,
          -13.467934082823101,
          -14.77897789244164,
          -9.884173699187167,
          -9.077242913959475,
          -16.448628785926633,
          -9.691422110331118,
          -12.396111736191445,
          -11.218824625050052,
          -13.507149693242187,
          -9.0426729596951,
          -7.691730895125326,
          -5.48311007278984,
          -14.830866606909819,
          -14.816071328105181,
          -11.435422608190247,
          -8.49556560537757,
          -11.324645909593235,
          -9.665809533796466
         ],
         "xaxis": "x",
         "y": [
          -2.8327538057084882,
          -7.827705197230878,
          -2.2083515273378627,
          -5.583422859340742,
          -8.409818469362257,
          -5.978993009776048,
          -8.50355710468843,
          -12.961830518244765,
          -8.44558708257079,
          -8.961864590162012,
          -5.321111952507282,
          -12.897927489662697,
          -5.335929967159665,
          -2.1501786033164274,
          -5.660194126988183,
          -4.5779326807722605,
          -3.6840168616067626,
          -5.1955196568729916,
          -1.708564084222467,
          -4.759397038266295,
          -1.882153129912801,
          -9.438747102741642,
          -9.704421687110656,
          -9.25113622353061,
          -6.808242292242092,
          -7.783552263694353,
          -3.2817860344676903,
          -11.325161478390374,
          -3.1627062099029515,
          -0.5463487313389281,
          3.927237563034205,
          -7.906591660059885,
          -13.209771214019824,
          -14.890881659553308,
          -3.9711866285825383,
          -11.690193860630348,
          -4.664752570826334,
          -8.859241043970185,
          -0.6598667208588748,
          -1.1186531156263981,
          -7.87094088284787,
          -8.78544967898633,
          -10.455393613807063,
          -8.613367320391905,
          -15.22771290832846,
          -14.95000978355318,
          -6.533072955281527,
          -8.031704974746736,
          -8.329755744005318,
          -11.944900970440257,
          -7.770467476561318,
          -4.239364986473671,
          -7.872972379819295,
          -8.234399424841396,
          -1.16946183833414,
          -9.430497591632433,
          -11.06675342128787,
          -10.833357757611951,
          -2.9628954572958675,
          -7.108028536429618,
          -5.067891461571099,
          0.6335422480630134,
          -9.477589275094932,
          -8.50153630022517,
          -8.034538665507727,
          -8.321675657037106,
          -4.204927976965263,
          -10.793330118790697,
          -1.8472501368356995,
          -3.224669446865051,
          -11.92402693063777,
          -2.686645534245934,
          -2.4474655602334865,
          -5.02534749480069,
          -2.4514136916007088,
          -1.9156224417700616,
          -7.575748348044732,
          -14.383869210111175,
          -7.345764810054915,
          0.630482271087629,
          -0.31247075113910844,
          0.9140805577206909,
          -7.150800704025012,
          -4.178897096033542,
          -7.232694036647342,
          -6.5463772022207545,
          -5.142284235704642,
          -5.455710997748856,
          0.8472520350950454,
          -9.852351546007196,
          -3.0462783770253,
          -10.21487411791256,
          -9.86909351176758,
          -10.16441981677951,
          -6.841295848557941,
          -3.3455103735521003,
          -6.988120859097555,
          -7.2795604221752805,
          0.8311167935093471,
          -7.813191433046068,
          -14.961281290600315,
          -3.1995209648835083,
          -5.489034770928755,
          -5.157244942815677,
          -8.767415326257899,
          -12.91109806132444,
          -7.2785111987773226,
          -5.755814951004459,
          -0.9989639731483755,
          -7.133725636101646,
          -4.1395227994417505,
          2.3593263643747884,
          -9.703651117433376,
          -6.1583518599043225,
          -9.039114169830592,
          -6.353788341871911,
          -12.295225722650095,
          -5.450507515483259,
          -3.8592448176351835,
          -6.146839113945886,
          -6.487960752817744,
          -6.569359996324736,
          -8.294290104467139,
          -4.036520848742112,
          -13.404649630905428,
          -9.04222060040903,
          -11.021713519813414,
          -16.451589792595787,
          -2.8988065897722843,
          -9.85011047680844,
          -7.487800679601724,
          -6.893150313150469,
          -4.965697499470585,
          -8.21719856025495,
          -4.395754566146221,
          -7.9895774288252355,
          -12.769995964112796,
          -5.040102815248909,
          1.4107756383780572,
          -3.6375029788122824,
          4.286279573366456
         ],
         "yaxis": "y"
        }
       ],
       "layout": {
        "height": 600,
        "legend": {
         "title": {
          "text": "cluster_assigned"
         },
         "tracegroupgap": 0
        },
        "template": {
         "data": {
          "bar": [
           {
            "error_x": {
             "color": "#2a3f5f"
            },
            "error_y": {
             "color": "#2a3f5f"
            },
            "marker": {
             "line": {
              "color": "#E5ECF6",
              "width": 0.5
             },
             "pattern": {
              "fillmode": "overlay",
              "size": 10,
              "solidity": 0.2
             }
            },
            "type": "bar"
           }
          ],
          "barpolar": [
           {
            "marker": {
             "line": {
              "color": "#E5ECF6",
              "width": 0.5
             },
             "pattern": {
              "fillmode": "overlay",
              "size": 10,
              "solidity": 0.2
             }
            },
            "type": "barpolar"
           }
          ],
          "carpet": [
           {
            "aaxis": {
             "endlinecolor": "#2a3f5f",
             "gridcolor": "white",
             "linecolor": "white",
             "minorgridcolor": "white",
             "startlinecolor": "#2a3f5f"
            },
            "baxis": {
             "endlinecolor": "#2a3f5f",
             "gridcolor": "white",
             "linecolor": "white",
             "minorgridcolor": "white",
             "startlinecolor": "#2a3f5f"
            },
            "type": "carpet"
           }
          ],
          "choropleth": [
           {
            "colorbar": {
             "outlinewidth": 0,
             "ticks": ""
            },
            "type": "choropleth"
           }
          ],
          "contour": [
           {
            "colorbar": {
             "outlinewidth": 0,
             "ticks": ""
            },
            "colorscale": [
             [
              0,
              "#0d0887"
             ],
             [
              0.1111111111111111,
              "#46039f"
             ],
             [
              0.2222222222222222,
              "#7201a8"
             ],
             [
              0.3333333333333333,
              "#9c179e"
             ],
             [
              0.4444444444444444,
              "#bd3786"
             ],
             [
              0.5555555555555556,
              "#d8576b"
             ],
             [
              0.6666666666666666,
              "#ed7953"
             ],
             [
              0.7777777777777778,
              "#fb9f3a"
             ],
             [
              0.8888888888888888,
              "#fdca26"
             ],
             [
              1,
              "#f0f921"
             ]
            ],
            "type": "contour"
           }
          ],
          "contourcarpet": [
           {
            "colorbar": {
             "outlinewidth": 0,
             "ticks": ""
            },
            "type": "contourcarpet"
           }
          ],
          "heatmap": [
           {
            "colorbar": {
             "outlinewidth": 0,
             "ticks": ""
            },
            "colorscale": [
             [
              0,
              "#0d0887"
             ],
             [
              0.1111111111111111,
              "#46039f"
             ],
             [
              0.2222222222222222,
              "#7201a8"
             ],
             [
              0.3333333333333333,
              "#9c179e"
             ],
             [
              0.4444444444444444,
              "#bd3786"
             ],
             [
              0.5555555555555556,
              "#d8576b"
             ],
             [
              0.6666666666666666,
              "#ed7953"
             ],
             [
              0.7777777777777778,
              "#fb9f3a"
             ],
             [
              0.8888888888888888,
              "#fdca26"
             ],
             [
              1,
              "#f0f921"
             ]
            ],
            "type": "heatmap"
           }
          ],
          "heatmapgl": [
           {
            "colorbar": {
             "outlinewidth": 0,
             "ticks": ""
            },
            "colorscale": [
             [
              0,
              "#0d0887"
             ],
             [
              0.1111111111111111,
              "#46039f"
             ],
             [
              0.2222222222222222,
              "#7201a8"
             ],
             [
              0.3333333333333333,
              "#9c179e"
             ],
             [
              0.4444444444444444,
              "#bd3786"
             ],
             [
              0.5555555555555556,
              "#d8576b"
             ],
             [
              0.6666666666666666,
              "#ed7953"
             ],
             [
              0.7777777777777778,
              "#fb9f3a"
             ],
             [
              0.8888888888888888,
              "#fdca26"
             ],
             [
              1,
              "#f0f921"
             ]
            ],
            "type": "heatmapgl"
           }
          ],
          "histogram": [
           {
            "marker": {
             "pattern": {
              "fillmode": "overlay",
              "size": 10,
              "solidity": 0.2
             }
            },
            "type": "histogram"
           }
          ],
          "histogram2d": [
           {
            "colorbar": {
             "outlinewidth": 0,
             "ticks": ""
            },
            "colorscale": [
             [
              0,
              "#0d0887"
             ],
             [
              0.1111111111111111,
              "#46039f"
             ],
             [
              0.2222222222222222,
              "#7201a8"
             ],
             [
              0.3333333333333333,
              "#9c179e"
             ],
             [
              0.4444444444444444,
              "#bd3786"
             ],
             [
              0.5555555555555556,
              "#d8576b"
             ],
             [
              0.6666666666666666,
              "#ed7953"
             ],
             [
              0.7777777777777778,
              "#fb9f3a"
             ],
             [
              0.8888888888888888,
              "#fdca26"
             ],
             [
              1,
              "#f0f921"
             ]
            ],
            "type": "histogram2d"
           }
          ],
          "histogram2dcontour": [
           {
            "colorbar": {
             "outlinewidth": 0,
             "ticks": ""
            },
            "colorscale": [
             [
              0,
              "#0d0887"
             ],
             [
              0.1111111111111111,
              "#46039f"
             ],
             [
              0.2222222222222222,
              "#7201a8"
             ],
             [
              0.3333333333333333,
              "#9c179e"
             ],
             [
              0.4444444444444444,
              "#bd3786"
             ],
             [
              0.5555555555555556,
              "#d8576b"
             ],
             [
              0.6666666666666666,
              "#ed7953"
             ],
             [
              0.7777777777777778,
              "#fb9f3a"
             ],
             [
              0.8888888888888888,
              "#fdca26"
             ],
             [
              1,
              "#f0f921"
             ]
            ],
            "type": "histogram2dcontour"
           }
          ],
          "mesh3d": [
           {
            "colorbar": {
             "outlinewidth": 0,
             "ticks": ""
            },
            "type": "mesh3d"
           }
          ],
          "parcoords": [
           {
            "line": {
             "colorbar": {
              "outlinewidth": 0,
              "ticks": ""
             }
            },
            "type": "parcoords"
           }
          ],
          "pie": [
           {
            "automargin": true,
            "type": "pie"
           }
          ],
          "scatter": [
           {
            "fillpattern": {
             "fillmode": "overlay",
             "size": 10,
             "solidity": 0.2
            },
            "type": "scatter"
           }
          ],
          "scatter3d": [
           {
            "line": {
             "colorbar": {
              "outlinewidth": 0,
              "ticks": ""
             }
            },
            "marker": {
             "colorbar": {
              "outlinewidth": 0,
              "ticks": ""
             }
            },
            "type": "scatter3d"
           }
          ],
          "scattercarpet": [
           {
            "marker": {
             "colorbar": {
              "outlinewidth": 0,
              "ticks": ""
             }
            },
            "type": "scattercarpet"
           }
          ],
          "scattergeo": [
           {
            "marker": {
             "colorbar": {
              "outlinewidth": 0,
              "ticks": ""
             }
            },
            "type": "scattergeo"
           }
          ],
          "scattergl": [
           {
            "marker": {
             "colorbar": {
              "outlinewidth": 0,
              "ticks": ""
             }
            },
            "type": "scattergl"
           }
          ],
          "scattermapbox": [
           {
            "marker": {
             "colorbar": {
              "outlinewidth": 0,
              "ticks": ""
             }
            },
            "type": "scattermapbox"
           }
          ],
          "scatterpolar": [
           {
            "marker": {
             "colorbar": {
              "outlinewidth": 0,
              "ticks": ""
             }
            },
            "type": "scatterpolar"
           }
          ],
          "scatterpolargl": [
           {
            "marker": {
             "colorbar": {
              "outlinewidth": 0,
              "ticks": ""
             }
            },
            "type": "scatterpolargl"
           }
          ],
          "scatterternary": [
           {
            "marker": {
             "colorbar": {
              "outlinewidth": 0,
              "ticks": ""
             }
            },
            "type": "scatterternary"
           }
          ],
          "surface": [
           {
            "colorbar": {
             "outlinewidth": 0,
             "ticks": ""
            },
            "colorscale": [
             [
              0,
              "#0d0887"
             ],
             [
              0.1111111111111111,
              "#46039f"
             ],
             [
              0.2222222222222222,
              "#7201a8"
             ],
             [
              0.3333333333333333,
              "#9c179e"
             ],
             [
              0.4444444444444444,
              "#bd3786"
             ],
             [
              0.5555555555555556,
              "#d8576b"
             ],
             [
              0.6666666666666666,
              "#ed7953"
             ],
             [
              0.7777777777777778,
              "#fb9f3a"
             ],
             [
              0.8888888888888888,
              "#fdca26"
             ],
             [
              1,
              "#f0f921"
             ]
            ],
            "type": "surface"
           }
          ],
          "table": [
           {
            "cells": {
             "fill": {
              "color": "#EBF0F8"
             },
             "line": {
              "color": "white"
             }
            },
            "header": {
             "fill": {
              "color": "#C8D4E3"
             },
             "line": {
              "color": "white"
             }
            },
            "type": "table"
           }
          ]
         },
         "layout": {
          "annotationdefaults": {
           "arrowcolor": "#2a3f5f",
           "arrowhead": 0,
           "arrowwidth": 1
          },
          "autotypenumbers": "strict",
          "coloraxis": {
           "colorbar": {
            "outlinewidth": 0,
            "ticks": ""
           }
          },
          "colorscale": {
           "diverging": [
            [
             0,
             "#8e0152"
            ],
            [
             0.1,
             "#c51b7d"
            ],
            [
             0.2,
             "#de77ae"
            ],
            [
             0.3,
             "#f1b6da"
            ],
            [
             0.4,
             "#fde0ef"
            ],
            [
             0.5,
             "#f7f7f7"
            ],
            [
             0.6,
             "#e6f5d0"
            ],
            [
             0.7,
             "#b8e186"
            ],
            [
             0.8,
             "#7fbc41"
            ],
            [
             0.9,
             "#4d9221"
            ],
            [
             1,
             "#276419"
            ]
           ],
           "sequential": [
            [
             0,
             "#0d0887"
            ],
            [
             0.1111111111111111,
             "#46039f"
            ],
            [
             0.2222222222222222,
             "#7201a8"
            ],
            [
             0.3333333333333333,
             "#9c179e"
            ],
            [
             0.4444444444444444,
             "#bd3786"
            ],
            [
             0.5555555555555556,
             "#d8576b"
            ],
            [
             0.6666666666666666,
             "#ed7953"
            ],
            [
             0.7777777777777778,
             "#fb9f3a"
            ],
            [
             0.8888888888888888,
             "#fdca26"
            ],
            [
             1,
             "#f0f921"
            ]
           ],
           "sequentialminus": [
            [
             0,
             "#0d0887"
            ],
            [
             0.1111111111111111,
             "#46039f"
            ],
            [
             0.2222222222222222,
             "#7201a8"
            ],
            [
             0.3333333333333333,
             "#9c179e"
            ],
            [
             0.4444444444444444,
             "#bd3786"
            ],
            [
             0.5555555555555556,
             "#d8576b"
            ],
            [
             0.6666666666666666,
             "#ed7953"
            ],
            [
             0.7777777777777778,
             "#fb9f3a"
            ],
            [
             0.8888888888888888,
             "#fdca26"
            ],
            [
             1,
             "#f0f921"
            ]
           ]
          },
          "colorway": [
           "#636efa",
           "#EF553B",
           "#00cc96",
           "#ab63fa",
           "#FFA15A",
           "#19d3f3",
           "#FF6692",
           "#B6E880",
           "#FF97FF",
           "#FECB52"
          ],
          "font": {
           "color": "#2a3f5f"
          },
          "geo": {
           "bgcolor": "white",
           "lakecolor": "white",
           "landcolor": "#E5ECF6",
           "showlakes": true,
           "showland": true,
           "subunitcolor": "white"
          },
          "hoverlabel": {
           "align": "left"
          },
          "hovermode": "closest",
          "mapbox": {
           "style": "light"
          },
          "paper_bgcolor": "white",
          "plot_bgcolor": "#E5ECF6",
          "polar": {
           "angularaxis": {
            "gridcolor": "white",
            "linecolor": "white",
            "ticks": ""
           },
           "bgcolor": "#E5ECF6",
           "radialaxis": {
            "gridcolor": "white",
            "linecolor": "white",
            "ticks": ""
           }
          },
          "scene": {
           "xaxis": {
            "backgroundcolor": "#E5ECF6",
            "gridcolor": "white",
            "gridwidth": 2,
            "linecolor": "white",
            "showbackground": true,
            "ticks": "",
            "zerolinecolor": "white"
           },
           "yaxis": {
            "backgroundcolor": "#E5ECF6",
            "gridcolor": "white",
            "gridwidth": 2,
            "linecolor": "white",
            "showbackground": true,
            "ticks": "",
            "zerolinecolor": "white"
           },
           "zaxis": {
            "backgroundcolor": "#E5ECF6",
            "gridcolor": "white",
            "gridwidth": 2,
            "linecolor": "white",
            "showbackground": true,
            "ticks": "",
            "zerolinecolor": "white"
           }
          },
          "shapedefaults": {
           "line": {
            "color": "#2a3f5f"
           }
          },
          "ternary": {
           "aaxis": {
            "gridcolor": "white",
            "linecolor": "white",
            "ticks": ""
           },
           "baxis": {
            "gridcolor": "white",
            "linecolor": "white",
            "ticks": ""
           },
           "bgcolor": "#E5ECF6",
           "caxis": {
            "gridcolor": "white",
            "linecolor": "white",
            "ticks": ""
           }
          },
          "title": {
           "x": 0.05
          },
          "xaxis": {
           "automargin": true,
           "gridcolor": "white",
           "linecolor": "white",
           "ticks": "",
           "title": {
            "standoff": 15
           },
           "zerolinecolor": "white",
           "zerolinewidth": 2
          },
          "yaxis": {
           "automargin": true,
           "gridcolor": "white",
           "linecolor": "white",
           "ticks": "",
           "title": {
            "standoff": 15
           },
           "zerolinecolor": "white",
           "zerolinewidth": 2
          }
         }
        },
        "title": {
         "text": "PCA projection of the 15 categories into the 3 Principal components"
        },
        "width": 1000,
        "xaxis": {
         "anchor": "y",
         "domain": [
          0,
          1
         ],
         "title": {
          "text": "Principal component 1"
         }
        },
        "yaxis": {
         "anchor": "x",
         "domain": [
          0,
          1
         ],
         "title": {
          "text": "Principal component 2"
         }
        }
       }
      }
     },
     "metadata": {},
     "output_type": "display_data"
    }
   ],
   "source": [
    "User_modify_2=pd.DataFrame( User_modify_2)\n",
    "User_modify_2.columns=['Principal component 1','Principal component 2']\n",
    "User_modify_2['cluster_assigned']=user_to_cat_first['cluster_assigned'].values\n",
    "fig = px.scatter(User_modify_3, x='Principal component 1', y='Principal component 2',opacity =1,\n",
    "             color='cluster_assigned' ,size_max =50,width=1000, height=600,title ='PCA projection of the 15 categories into the 3 Principal components')\n",
    "\n",
    "fig.show()\n",
    "fig.write_html(\"cluster_2dvisual.html\")"
   ]
  },
  {
   "cell_type": "code",
   "execution_count": 498,
   "metadata": {},
   "outputs": [],
   "source": [
    "# We also want to visualize our clustering with a non-linear projection techniques. Therefore, we use UMAP method"
   ]
  },
  {
   "cell_type": "code",
   "execution_count": 499,
   "metadata": {},
   "outputs": [],
   "source": [
    "trans = UMAP(n_neighbors=70, random_state=852484677).fit(user_to_cat_first[user_to_cat_first.columns[0:15]].values)\n",
    "user_projected_umap=pd.DataFrame(trans.embedding_)\n",
    "user_projected_umap.columns=['Axis x','Axis y']\n",
    "user_projected_umap['cluster_assigned']=user_to_cat_first['cluster_assigned'].values"
   ]
  },
  {
   "cell_type": "code",
   "execution_count": 500,
   "metadata": {},
   "outputs": [
    {
     "data": {
      "application/vnd.plotly.v1+json": {
       "config": {
        "plotlyServerURL": "https://plot.ly"
       },
       "data": [
        {
         "hovertemplate": "cluster_assigned=Jean-Michel IPA<br>Axis x=%{x}<br>Axis y=%{y}<extra></extra>",
         "legendgroup": "Jean-Michel IPA",
         "marker": {
          "color": "#636efa",
          "opacity": 1,
          "symbol": "circle"
         },
         "mode": "markers",
         "name": "Jean-Michel IPA",
         "orientation": "v",
         "showlegend": true,
         "type": "scatter",
         "x": [
          1.146957278251648,
          3.4552557468414307,
          1.8740746974945068,
          0.8814242482185364,
          2.6205172538757324,
          2.7826430797576904,
          1.0738869905471802,
          2.679868459701538,
          3.7595527172088623,
          3.553851366043091,
          3.464998960494995,
          1.4901388883590698,
          3.311354875564575,
          3.834573268890381,
          0.8060377240180969,
          3.502347230911255,
          1.9564261436462402,
          0.9534188508987427,
          3.318972110748291,
          3.7623531818389893,
          2.953389883041382,
          3.7423763275146484,
          2.8705310821533203,
          3.742464065551758,
          2.7661564350128174,
          3.1944167613983154,
          1.3316049575805664,
          1.5242623090744019,
          2.897477865219116,
          2.035109758377075,
          3.4447054862976074,
          2.049332857131958,
          2.5479819774627686,
          1.7797503471374512,
          0.5804387331008911,
          3.190870761871338,
          0.7653348445892334,
          0.9950612187385559,
          3.4784915447235107,
          2.4144253730773926,
          2.9551174640655518,
          2.2995405197143555,
          0.7266546487808228,
          2.115649938583374,
          0.7992640137672424,
          0.862421989440918,
          1.5572494268417358,
          2.8473927974700928,
          3.139643907546997,
          1.3755751848220825,
          0.9671791195869446,
          2.4593913555145264,
          3.3921234607696533,
          2.231877088546753,
          2.207411289215088,
          2.820380687713623,
          3.875206708908081,
          0.8773960471153259,
          1.3315566778182983,
          3.3906233310699463,
          2.929236888885498,
          1.7545791864395142,
          3.8727283477783203,
          3.2763943672180176,
          3.512767791748047,
          1.6531002521514893,
          1.1582450866699219,
          1.1728854179382324,
          1.0283976793289185,
          2.805201768875122,
          0.9175040125846863,
          2.6096928119659424,
          3.043703317642212,
          4.08861780166626,
          2.6148500442504883,
          1.4805628061294556,
          3.132598638534546,
          1.1316168308258057,
          3.0727453231811523,
          0.6948537826538086,
          1.2917629480361938,
          0.6278907060623169,
          3.6776816844940186,
          3.3048882484436035,
          0.5896105766296387,
          3.8336801528930664,
          1.8520087003707886,
          3.911557197570801,
          1.2379779815673828,
          0.8153099417686462,
          1.836120843887329,
          3.029409408569336,
          1.811943531036377,
          3.9039835929870605,
          2.5407907962799072,
          3.5991711616516113,
          3.8713643550872803,
          1.4576958417892456,
          3.1969244480133057,
          1.178392767906189,
          3.872907876968384,
          2.5657079219818115,
          3.1759893894195557,
          1.2676352262496948,
          1.7224899530410767,
          2.3315141201019287,
          2.1943469047546387,
          2.4677681922912598,
          1.8035768270492554,
          2.819798707962036,
          3.6527211666107178,
          1.668722152709961,
          3.372936725616455,
          1.5394386053085327,
          4.0853729248046875,
          3.5443179607391357,
          1.3803417682647705,
          2.4939894676208496,
          2.9081459045410156,
          1.5417702198028564,
          2.2853329181671143,
          3.8516931533813477,
          3.3058741092681885,
          0.9036557078361511,
          3.5162441730499268,
          3.4479329586029053,
          2.330547571182251,
          1.6711220741271973,
          3.5113632678985596,
          1.4121931791305542,
          4.096468925476074,
          1.170222520828247,
          0.6447237730026245,
          2.4270896911621094,
          1.205350637435913,
          2.8955557346343994,
          0.8752220273017883,
          2.0380234718322754,
          1.7594103813171387,
          2.9495697021484375,
          1.2742677927017212,
          3.038560628890991,
          3.349654197692871,
          2.952188014984131,
          3.9825284481048584,
          4.564462184906006,
          1.7809505462646484,
          1.4088404178619385,
          1.6797878742218018,
          1.5951690673828125,
          1.8486506938934326,
          3.2353005409240723,
          2.4494986534118652,
          1.5763825178146362,
          2.0418307781219482,
          2.8456664085388184,
          1.0960602760314941,
          3.7201521396636963,
          3.341114044189453,
          2.4989516735076904,
          0.9165047407150269,
          0.769668698310852,
          2.712808847427368,
          1.242173194885254,
          1.2500810623168945,
          3.333275318145752,
          3.353341817855835,
          2.2968602180480957,
          0.5970636010169983,
          0.8682407140731812,
          3.064448356628418,
          3.3665096759796143,
          3.477027654647827,
          2.1227939128875732,
          2.962491512298584,
          2.156662702560425,
          3.2704522609710693,
          2.123943567276001,
          3.279994487762451,
          1.8589040040969849,
          0.690068244934082,
          1.4966363906860352,
          2.921053409576416,
          2.484078884124756,
          3.5641427040100098,
          3.628824234008789,
          3.4755165576934814,
          1.7591707706451416,
          3.378162145614624,
          1.1847641468048096,
          3.2631561756134033,
          1.2713969945907593,
          3.313992738723755,
          2.636103391647339,
          0.9364222884178162,
          1.5334309339523315,
          3.4890081882476807,
          2.049609661102295,
          2.842381238937378,
          2.908646583557129,
          2.704313039779663,
          3.348668098449707,
          3.4641013145446777,
          3.4793848991394043,
          1.9230570793151855,
          2.6463112831115723,
          1.26612389087677,
          0.9267840385437012,
          1.6776148080825806,
          0.9737244844436646,
          2.028005361557007,
          3.2036871910095215,
          1.54849112033844,
          3.0588057041168213,
          2.8358497619628906,
          3.011699914932251,
          2.2734873294830322,
          1.8121217489242554,
          2.523111581802368,
          2.6027328968048096,
          2.8738179206848145,
          0.6561523675918579,
          1.192439317703247,
          1.9153919219970703,
          3.6875321865081787,
          3.4921720027923584,
          2.202974557876587,
          1.6226602792739868,
          3.5342278480529785,
          0.9925864934921265,
          3.5804381370544434,
          3.718395233154297,
          2.898615598678589,
          2.973473310470581,
          3.972874879837036,
          2.25154447555542,
          2.822418451309204,
          2.8461368083953857,
          3.292578935623169
         ],
         "xaxis": "x",
         "y": [
          2.94599986076355,
          4.275558948516846,
          3.582263708114624,
          2.886197328567505,
          2.8930866718292236,
          2.150987148284912,
          3.2114546298980713,
          2.1912128925323486,
          3.6030497550964355,
          3.3450777530670166,
          2.1992580890655518,
          2.0886452198028564,
          2.0179972648620605,
          4.074470043182373,
          2.720289707183838,
          2.343322277069092,
          2.206042766571045,
          2.614964246749878,
          2.556304454803467,
          1.9109562635421753,
          3.5631978511810303,
          4.4893364906311035,
          2.757153034210205,
          2.623023271560669,
          3.2190983295440674,
          2.8336241245269775,
          3.4834866523742676,
          3.2871875762939453,
          2.99109148979187,
          1.9907547235488892,
          1.3684957027435303,
          2.3946735858917236,
          2.634610176086426,
          2.0187578201293945,
          3.1225967407226562,
          2.591541290283203,
          3.0254387855529785,
          3.2935850620269775,
          2.0824875831604004,
          3.1743271350860596,
          2.475916862487793,
          2.121039628982544,
          2.8395864963531494,
          3.1870086193084717,
          3.077256679534912,
          2.78623104095459,
          2.4693338871002197,
          3.6594889163970947,
          3.193121910095215,
          2.369136095046997,
          2.971158504486084,
          2.6167681217193604,
          3.5263237953186035,
          3.6170456409454346,
          2.1981146335601807,
          3.2719061374664307,
          1.2627038955688477,
          2.5871238708496094,
          3.5279135704040527,
          2.974461317062378,
          3.268976926803589,
          2.6459574699401855,
          2.5928006172180176,
          2.054569959640503,
          2.9636433124542236,
          2.5808169841766357,
          2.82816481590271,
          3.4654314517974854,
          2.6589832305908203,
          3.877704620361328,
          2.6711323261260986,
          2.786513566970825,
          3.9792916774749756,
          1.202236294746399,
          3.5678870677948,
          2.1458652019500732,
          2.7183609008789062,
          3.460123300552368,
          3.239039659500122,
          2.9558911323547363,
          3.5496532917022705,
          3.0544497966766357,
          2.1110050678253174,
          3.8350799083709717,
          3.0518150329589844,
          3.251776695251465,
          3.633516311645508,
          2.460057497024536,
          3.0582542419433594,
          2.7602434158325195,
          2.125039577484131,
          2.4985885620117188,
          2.824829578399658,
          1.6194334030151367,
          2.7943577766418457,
          2.4864070415496826,
          1.7243202924728394,
          3.546509027481079,
          2.0111162662506104,
          3.1621880531311035,
          3.323176622390747,
          2.817960023880005,
          3.465719699859619,
          2.6133921146392822,
          2.4403491020202637,
          2.2490720748901367,
          2.3216702938079834,
          2.21120285987854,
          3.0143697261810303,
          1.846914291381836,
          2.7818334102630615,
          3.4618728160858154,
          2.2049381732940674,
          3.210548162460327,
          3.332711935043335,
          3.643866777420044,
          2.9907443523406982,
          2.9315998554229736,
          2.5200140476226807,
          3.488661766052246,
          2.8327105045318604,
          2.5365381240844727,
          2.284543037414551,
          3.1844615936279297,
          3.726055860519409,
          2.323340892791748,
          2.56180739402771,
          3.3760945796966553,
          2.422074556350708,
          2.2181613445281982,
          1.4721497297286987,
          2.564253807067871,
          2.9782462120056152,
          2.298288345336914,
          2.6335864067077637,
          1.7399262189865112,
          3.038184881210327,
          3.5854403972625732,
          2.092355251312256,
          1.8761473894119263,
          3.5019004344940186,
          3.771446943283081,
          1.9822858572006226,
          1.9835671186447144,
          2.595705032348633,
          0.6395993232727051,
          2.929710865020752,
          3.403324842453003,
          3.561668872833252,
          2.265943765640259,
          2.645127773284912,
          3.170395612716675,
          1.8619234561920166,
          2.468942880630493,
          2.4916820526123047,
          2.0110716819763184,
          2.609067916870117,
          2.55802845954895,
          1.9521701335906982,
          3.737034559249878,
          2.9028875827789307,
          2.8103106021881104,
          3.724161148071289,
          2.9011611938476562,
          2.4997074604034424,
          3.7523036003112793,
          2.3820900917053223,
          2.6205899715423584,
          3.051136016845703,
          3.1450753211975098,
          1.9865604639053345,
          3.789123773574829,
          1.2015916109085083,
          2.2314975261688232,
          2.336829423904419,
          2.5521018505096436,
          2.479949474334717,
          2.23372220993042,
          2.4142978191375732,
          2.7161741256713867,
          3.071841239929199,
          3.413472890853882,
          2.6550800800323486,
          2.7145063877105713,
          2.17364501953125,
          4.2248077392578125,
          4.232151508331299,
          2.9352080821990967,
          2.3603601455688477,
          2.566648006439209,
          3.227818250656128,
          2.6770122051239014,
          2.9189846515655518,
          3.8543124198913574,
          2.9927384853363037,
          2.8054144382476807,
          1.2381101846694946,
          3.7827861309051514,
          2.7842137813568115,
          3.0791563987731934,
          2.093951940536499,
          2.2333333492279053,
          3.816413640975952,
          3.553525924682617,
          3.564842462539673,
          2.575986862182617,
          2.555263042449951,
          3.298658609390259,
          2.873058557510376,
          2.9637932777404785,
          2.480178117752075,
          2.0739521980285645,
          2.4469194412231445,
          3.007956027984619,
          3.4148595333099365,
          2.6702349185943604,
          2.3939049243927,
          2.622560501098633,
          2.0097758769989014,
          3.650474786758423,
          3.047980546951294,
          2.9704713821411133,
          3.4065115451812744,
          2.3870720863342285,
          1.7635987997055054,
          2.338895559310913,
          2.232619285583496,
          2.3953373432159424,
          2.1202569007873535,
          3.362637758255005,
          3.681163787841797,
          1.2953605651855469,
          2.1320488452911377,
          3.6134138107299805,
          2.879049301147461,
          2.9548873901367188,
          3.6139745712280273,
          2.473839282989502,
          2.6921803951263428
         ],
         "yaxis": "y"
        },
        {
         "hovertemplate": "cluster_assigned=Ada the explorer<br>Axis x=%{x}<br>Axis y=%{y}<extra></extra>",
         "legendgroup": "Ada the explorer",
         "marker": {
          "color": "#EF553B",
          "opacity": 1,
          "symbol": "circle"
         },
         "mode": "markers",
         "name": "Ada the explorer",
         "orientation": "v",
         "showlegend": true,
         "type": "scatter",
         "x": [
          7.751016616821289,
          5.903872966766357,
          7.5248236656188965,
          5.450439453125,
          5.787947177886963,
          7.06695032119751,
          4.736841201782227,
          7.181950569152832,
          5.986011981964111,
          5.3716535568237305,
          4.527963638305664,
          5.932216644287109,
          6.202252388000488,
          7.614279747009277,
          6.4098358154296875,
          5.743821620941162,
          4.757380962371826,
          7.817260265350342,
          7.149890422821045,
          7.848647594451904,
          6.907526016235352,
          7.812167167663574,
          7.038794994354248,
          6.797833442687988,
          4.77289342880249,
          7.15517520904541,
          5.024277687072754,
          7.033456802368164,
          6.171678066253662,
          7.4382195472717285,
          7.619155406951904,
          3.8058784008026123,
          7.327656269073486,
          5.821079254150391,
          5.658536434173584,
          5.424117088317871,
          6.951575756072998,
          7.174174785614014,
          8.25485897064209,
          7.8747687339782715,
          4.672738552093506,
          6.181766510009766,
          5.236144065856934,
          7.793013572692871,
          5.286180019378662,
          7.246354579925537,
          7.043057441711426,
          7.090095520019531,
          7.54892635345459,
          7.388149261474609,
          5.982351303100586,
          7.475503921508789,
          4.754974842071533,
          5.959228992462158,
          4.6376848220825195,
          6.4890642166137695,
          3.98473858833313,
          4.388974666595459,
          4.595920562744141,
          5.832177639007568,
          5.270474433898926,
          7.3311920166015625,
          4.972400665283203,
          5.445428848266602,
          6.96557092666626,
          7.481607913970947,
          7.904792785644531,
          7.354605197906494,
          4.130683898925781,
          7.339103698730469,
          4.39394998550415,
          4.537106037139893,
          4.116100788116455,
          4.35719108581543,
          5.826237678527832,
          8.067926406860352,
          6.301167011260986,
          3.9592928886413574,
          5.099647045135498,
          5.175464153289795,
          5.385707378387451,
          4.266672134399414,
          5.961277484893799,
          5.160995960235596,
          5.994280815124512,
          5.3794121742248535,
          6.451861381530762,
          6.971398830413818,
          5.528614044189453,
          7.012587547302246,
          5.8108601570129395,
          6.594081878662109,
          4.923299789428711,
          7.357048034667969,
          5.722703456878662,
          7.120206832885742,
          5.037108421325684,
          8.161652565002441,
          6.777997016906738,
          4.4367265701293945,
          4.264218330383301,
          4.603541374206543,
          4.420800685882568,
          7.055214881896973,
          7.159320831298828,
          3.6152498722076416,
          5.618179798126221,
          5.998265266418457,
          4.651062965393066,
          4.1203765869140625,
          4.433401107788086,
          5.041286945343018,
          7.0817999839782715,
          7.041565418243408,
          6.533627033233643,
          7.829159259796143,
          6.975286960601807,
          5.913496494293213,
          6.246589660644531,
          7.713868618011475,
          5.449145793914795,
          4.53447151184082,
          8.026782035827637,
          5.762614727020264,
          4.490208148956299,
          4.691350936889648,
          7.091832637786865,
          7.534792423248291,
          6.113067626953125,
          6.837523460388184,
          4.232831954956055,
          6.115673542022705,
          8.363195419311523,
          5.220379829406738,
          6.617514133453369,
          4.769250869750977,
          6.678618907928467,
          7.714448928833008,
          5.348260879516602,
          6.795843601226807,
          5.275172710418701,
          7.383347988128662,
          5.480886936187744,
          6.4601898193359375,
          5.175751209259033,
          4.744406223297119,
          7.92139196395874,
          5.999746322631836,
          8.154565811157227,
          6.992883205413818,
          7.471700191497803,
          7.041589260101318,
          6.27779483795166,
          7.656288146972656,
          6.4394731521606445,
          8.162704467773438,
          6.779833793640137,
          5.351358890533447,
          6.484160900115967,
          5.902638912200928,
          4.63956880569458,
          5.321572780609131,
          4.780092716217041,
          4.875608444213867,
          7.471731662750244,
          6.534826755523682,
          7.312828063964844,
          4.675818920135498,
          7.007816314697266,
          6.291399002075195,
          4.485918998718262,
          6.358705520629883,
          6.361848831176758,
          3.9059340953826904,
          7.155943393707275,
          4.890403747558594,
          5.740148067474365,
          7.137943267822266,
          6.673630237579346,
          5.283951759338379,
          7.874526023864746,
          7.246540069580078,
          6.167891979217529,
          5.002264976501465,
          5.255723476409912,
          7.212716579437256,
          7.0171589851379395,
          5.020686626434326,
          4.571953773498535,
          4.87996244430542,
          5.483359336853027,
          5.432018756866455,
          3.884981155395508,
          6.227644443511963,
          6.270873069763184,
          5.441890716552734,
          6.31962776184082,
          6.602183818817139,
          7.422468185424805,
          5.109349250793457,
          7.150815010070801,
          4.622979640960693,
          5.411345958709717,
          5.208239555358887,
          3.8336849212646484,
          5.37750244140625,
          6.973785877227783,
          4.855446815490723,
          7.770208358764648,
          7.476831912994385,
          6.9726386070251465,
          6.926411151885986,
          7.416975975036621,
          5.66077184677124,
          5.3125152587890625,
          4.8041181564331055,
          7.117671966552734,
          6.492090702056885,
          6.451839923858643,
          4.091747760772705,
          6.775963306427002,
          7.484377384185791,
          5.271430015563965,
          6.225604057312012,
          6.832180500030518,
          7.668207168579102,
          5.618813514709473,
          6.574391841888428,
          7.307916641235352,
          5.742827415466309,
          7.0125813484191895,
          7.99118185043335,
          5.672593116760254,
          8.070295333862305,
          7.2268900871276855,
          7.3106889724731445,
          6.006782531738281,
          4.546999454498291,
          4.4320502281188965,
          5.377132892608643,
          5.505185127258301,
          7.550726413726807,
          5.8014631271362305,
          4.832268238067627,
          6.681000709533691,
          7.749871730804443,
          5.843582630157471,
          5.080333709716797,
          5.181064128875732,
          5.285933494567871,
          6.9612345695495605,
          7.714964389801025,
          7.1732964515686035,
          4.315097808837891,
          6.532486915588379,
          4.556022644042969,
          7.316892623901367,
          4.777734756469727,
          8.201004981994629,
          7.557907581329346,
          6.696237087249756,
          5.131771087646484,
          5.061052322387695,
          6.260693073272705,
          5.446831703186035,
          5.855837345123291,
          5.568395137786865,
          5.679466724395752,
          4.6802496910095215,
          5.294270992279053,
          6.941637992858887,
          7.6080756187438965,
          7.052906036376953,
          6.927270412445068,
          4.194709777832031,
          5.211304664611816,
          8.187337875366211,
          4.543254852294922,
          5.561294078826904,
          6.8150315284729,
          6.453650951385498,
          6.94245719909668,
          7.372568130493164,
          6.565892696380615,
          6.948442459106445,
          7.956528186798096,
          6.949887275695801,
          5.241065502166748,
          7.602839469909668,
          5.766074180603027,
          7.365534782409668,
          5.452605247497559,
          5.661122798919678,
          5.13508415222168,
          7.434937953948975,
          6.426126480102539,
          4.465117931365967,
          6.9320969581604,
          5.758357524871826,
          7.613086223602295,
          7.891930103302002,
          6.610339164733887,
          7.37569522857666,
          7.729498386383057,
          4.706387042999268,
          4.660010814666748,
          5.269772529602051,
          6.821066856384277,
          4.987146377563477,
          7.4158616065979,
          5.628469467163086,
          7.017739772796631,
          5.46935510635376,
          7.037439823150635,
          7.629788398742676,
          7.524250507354736,
          5.924808979034424,
          7.281535625457764,
          5.02745246887207,
          6.060274600982666,
          7.061966419219971,
          6.706490993499756,
          4.695965766906738,
          7.473807334899902,
          5.597430229187012,
          4.7666449546813965,
          4.557191371917725,
          7.420705318450928,
          7.394379615783691,
          6.391748428344727,
          4.375197887420654,
          6.514204502105713,
          7.517993927001953,
          3.8729631900787354,
          5.271381378173828,
          7.388357162475586,
          7.150054931640625,
          6.805823802947998,
          6.485199928283691,
          6.182476997375488,
          4.6215949058532715,
          7.137226104736328,
          7.921321392059326,
          3.9734506607055664,
          5.473926544189453,
          4.297316551208496,
          4.462789058685303,
          4.806283473968506,
          4.840147972106934,
          6.456488609313965,
          5.876707553863525,
          4.630670070648193,
          6.178454399108887,
          5.820926189422607,
          6.372760772705078,
          6.255101203918457,
          6.207458019256592,
          7.307134628295898,
          7.6248626708984375,
          7.170450210571289,
          5.952733516693115,
          6.686541557312012,
          4.7654643058776855,
          4.866774559020996,
          6.80772590637207,
          4.527347087860107,
          8.062479972839355,
          6.093705654144287,
          6.0517683029174805,
          5.766512393951416,
          6.132678031921387,
          7.120772838592529,
          5.396681308746338,
          6.041853427886963,
          7.258538246154785,
          7.326362609863281,
          4.905938625335693,
          6.49306058883667,
          5.398697853088379,
          7.669551849365234,
          8.162444114685059,
          6.095046520233154,
          4.848057270050049,
          4.1060919761657715,
          7.368031024932861,
          5.675100326538086,
          7.591902732849121,
          5.739567756652832,
          7.903743267059326,
          7.053115367889404,
          6.379370212554932,
          7.361184597015381,
          7.328908443450928
         ],
         "xaxis": "x",
         "y": [
          1.2363879680633545,
          1.488545536994934,
          2.9208600521087646,
          0.3635835349559784,
          1.7190463542938232,
          2.6397149562835693,
          2.147273063659668,
          1.2400308847427368,
          3.0993547439575195,
          1.7440359592437744,
          1.612890601158142,
          1.7591243982315063,
          1.2050528526306152,
          3.1311235427856445,
          1.7207969427108765,
          2.230203151702881,
          0.8338664770126343,
          2.300262689590454,
          1.4470133781433105,
          0.6232348084449768,
          1.313432216644287,
          1.7648957967758179,
          1.0168756246566772,
          1.5967174768447876,
          1.4282772541046143,
          2.5534214973449707,
          0.4532800316810608,
          1.6532756090164185,
          2.3059744834899902,
          2.9589807987213135,
          2.4628210067749023,
          2.1728713512420654,
          1.0197519063949585,
          2.93560791015625,
          2.518550395965576,
          0.7286292910575867,
          0.8718381524085999,
          0.8460352420806885,
          1.6202232837677002,
          2.455965042114258,
          0.6247492432594299,
          1.8854572772979736,
          1.6974222660064697,
          1.5005691051483154,
          2.4719362258911133,
          1.931129813194275,
          2.0979268550872803,
          2.8272788524627686,
          2.6846587657928467,
          0.670924723148346,
          1.5728269815444946,
          2.108842372894287,
          1.4650155305862427,
          2.3199219703674316,
          1.1904886960983276,
          2.212859869003296,
          1.9961488246917725,
          2.869291067123413,
          0.7358618974685669,
          1.6637439727783203,
          1.6725308895111084,
          0.7443529367446899,
          1.4843710660934448,
          1.93108332157135,
          1.1723726987838745,
          1.564074993133545,
          1.4015523195266724,
          1.4359991550445557,
          2.838608741760254,
          3.103802442550659,
          1.4950923919677734,
          2.4335923194885254,
          2.667180299758911,
          2.377441644668579,
          2.753722906112671,
          0.6904889345169067,
          2.4590048789978027,
          2.649693489074707,
          0.5606220364570618,
          3.209927558898926,
          1.104526162147522,
          2.0021347999572754,
          1.597963571548462,
          1.4064828157424927,
          1.0426172018051147,
          1.2280488014221191,
          0.5127681493759155,
          2.2950193881988525,
          1.3245192766189575,
          0.1861184686422348,
          1.3064440488815308,
          2.2991034984588623,
          0.5256447792053223,
          2.6799309253692627,
          1.2505557537078857,
          3.91255784034729,
          2.7159740924835205,
          2.1360933780670166,
          1.1333004236221313,
          0.993653416633606,
          3.4244167804718018,
          3.280555248260498,
          1.9635531902313232,
          2.3299672603607178,
          1.834415316581726,
          2.1852283477783203,
          3.170499324798584,
          2.4290127754211426,
          1.2196998596191406,
          2.8230056762695312,
          1.95177161693573,
          2.105031967163086,
          2.362565755844116,
          3.8101966381073,
          2.115551710128784,
          0.9981203079223633,
          2.4019052982330322,
          1.1489137411117554,
          1.2073906660079956,
          2.122735023498535,
          1.842796802520752,
          1.9191901683807373,
          1.7821862697601318,
          0.8927971720695496,
          1.3309533596038818,
          2.974795341491699,
          0.5717163681983948,
          2.1571381092071533,
          1.0031547546386719,
          0.33837825059890747,
          2.3814775943756104,
          3.251030206680298,
          1.9510012865066528,
          1.6170451641082764,
          1.269620418548584,
          0.6884484887123108,
          2.682637929916382,
          1.4535503387451172,
          0.3012504279613495,
          1.3735437393188477,
          0.501395583152771,
          1.3495702743530273,
          1.890038251876831,
          1.3950093984603882,
          0.7221984267234802,
          0.7123578190803528,
          0.6134733557701111,
          1.1114554405212402,
          1.794104814529419,
          1.229421615600586,
          0.5689792037010193,
          1.6076432466506958,
          2.9092302322387695,
          2.5231146812438965,
          2.0288209915161133,
          1.9674979448318481,
          2.953669548034668,
          2.8304085731506348,
          0.9037088751792908,
          3.17113995552063,
          1.0683873891830444,
          0.5578650832176208,
          1.304069995880127,
          1.5052158832550049,
          2.1132400035858154,
          3.0151445865631104,
          2.965268850326538,
          0.8303579688072205,
          0.46785134077072144,
          1.9326452016830444,
          1.8907610177993774,
          1.633042573928833,
          2.1458263397216797,
          2.449803590774536,
          3.3444602489471436,
          0.8319304585456848,
          0.8920046091079712,
          0.5574578642845154,
          2.207509756088257,
          0.8304473757743835,
          0.834540605545044,
          2.947929620742798,
          0.7857593894004822,
          2.9079060554504395,
          0.9780826568603516,
          2.0215046405792236,
          1.747374415397644,
          1.6452105045318604,
          0.9159020781517029,
          2.4653899669647217,
          2.788458824157715,
          0.3628619909286499,
          2.2935712337493896,
          1.788637638092041,
          2.0910634994506836,
          2.8946375846862793,
          1.6360962390899658,
          3.1854488849639893,
          2.895372152328491,
          2.5057764053344727,
          2.620163679122925,
          1.4316145181655884,
          2.394089698791504,
          0.9031276106834412,
          2.315255641937256,
          0.5022995471954346,
          3.042868137359619,
          0.9824947118759155,
          2.660745143890381,
          3.0256636142730713,
          2.3553073406219482,
          2.051443338394165,
          0.8636147379875183,
          2.084420680999756,
          1.783698320388794,
          2.985173225402832,
          2.4923346042633057,
          2.678999423980713,
          1.9067384004592896,
          2.87553071975708,
          0.8644706010818481,
          3.0321028232574463,
          3.2936556339263916,
          1.6792547702789307,
          3.0634632110595703,
          2.109546422958374,
          1.3356518745422363,
          1.7768439054489136,
          3.1299307346343994,
          0.9532569050788879,
          1.5316119194030762,
          1.8997498750686646,
          0.6630755066871643,
          0.7354393005371094,
          2.4159233570098877,
          1.0412362813949585,
          2.82568359375,
          2.217808723449707,
          1.2310750484466553,
          3.2239789962768555,
          1.150305986404419,
          2.85494065284729,
          1.466722846031189,
          1.2551597356796265,
          1.7975770235061646,
          0.696053683757782,
          2.049215793609619,
          1.0179444551467896,
          1.9281699657440186,
          2.7081618309020996,
          1.3323943614959717,
          1.3325839042663574,
          2.7103657722473145,
          1.9184598922729492,
          2.3003313541412354,
          1.149179220199585,
          2.8470520973205566,
          2.5932133197784424,
          1.9066529273986816,
          2.414001226425171,
          1.9125051498413086,
          1.0151649713516235,
          2.734522819519043,
          2.146700620651245,
          1.123619794845581,
          1.054396390914917,
          2.579961061477661,
          0.5678937435150146,
          2.2135961055755615,
          2.070401668548584,
          2.0377252101898193,
          2.41719651222229,
          2.555210828781128,
          2.7101986408233643,
          2.849762439727783,
          0.9739559292793274,
          2.0291190147399902,
          1.0726162195205688,
          3.0955617427825928,
          0.501969575881958,
          1.060963749885559,
          1.651757001876831,
          2.800950050354004,
          2.252969264984131,
          2.3625574111938477,
          2.2016563415527344,
          3.419853687286377,
          0.44697561860084534,
          2.5949485301971436,
          0.7441809773445129,
          0.49229896068573,
          1.9196668863296509,
          0.9551531076431274,
          0.8895772695541382,
          3.0567588806152344,
          2.8033957481384277,
          1.0838985443115234,
          2.7905948162078857,
          3.374127149581909,
          0.8800591230392456,
          1.858625888824463,
          2.835759401321411,
          1.2504090070724487,
          1.7973577976226807,
          1.5333060026168823,
          2.659846544265747,
          1.5682929754257202,
          1.1672307252883911,
          3.095306158065796,
          3.1580393314361572,
          2.4058761596679688,
          0.9352594614028931,
          1.272586703300476,
          1.242958664894104,
          2.4519920349121094,
          1.6174145936965942,
          2.02931809425354,
          1.6263548135757446,
          1.758248209953308,
          2.2492268085479736,
          1.6521915197372437,
          0.2790777087211609,
          1.6560235023498535,
          1.231693983078003,
          2.3355963230133057,
          2.3911218643188477,
          1.6512938737869263,
          3.231302261352539,
          3.2245357036590576,
          2.1585187911987305,
          2.9939815998077393,
          2.8038811683654785,
          2.552466630935669,
          2.150668144226074,
          0.5692179799079895,
          1.3032596111297607,
          1.6886990070343018,
          1.8381950855255127,
          1.8684604167938232,
          0.907832682132721,
          3.165968179702759,
          0.26925739645957947,
          1.8200594186782837,
          2.1570825576782227,
          2.269660472869873,
          2.7821619510650635,
          2.8977737426757812,
          2.845604181289673,
          0.6975032091140747,
          2.110102415084839,
          0.354897141456604,
          2.356032133102417,
          2.211641311645508,
          2.5018746852874756,
          1.2036511898040771,
          1.5307964086532593,
          0.4522188901901245,
          0.9969670176506042,
          1.0817166566848755,
          2.0214810371398926,
          0.9625882506370544,
          0.8634029030799866,
          0.9710071086883545,
          0.9911842942237854,
          1.8343846797943115,
          1.5075870752334595,
          1.3744916915893555,
          2.6629128456115723,
          2.8921327590942383,
          0.3612862825393677,
          0.8606413006782532,
          2.4910523891448975,
          0.5099431276321411,
          3.0010123252868652,
          0.6895388960838318,
          3.033630847930908,
          1.728299617767334,
          2.820382595062256,
          0.5492855906486511,
          1.589084267616272,
          0.8896647095680237,
          1.7846760749816895,
          0.9096627235412598,
          1.729986310005188,
          1.4052456617355347,
          0.7742586731910706,
          2.3432841300964355,
          1.3818286657333374,
          0.6552624702453613,
          2.1625778675079346,
          2.1519603729248047,
          3.3311924934387207,
          2.993406057357788
         ],
         "yaxis": "y"
        },
        {
         "hovertemplate": "cluster_assigned=Marcel Stout<br>Axis x=%{x}<br>Axis y=%{y}<extra></extra>",
         "legendgroup": "Marcel Stout",
         "marker": {
          "color": "#00cc96",
          "opacity": 1,
          "symbol": "circle"
         },
         "mode": "markers",
         "name": "Marcel Stout",
         "orientation": "v",
         "showlegend": true,
         "type": "scatter",
         "x": [
          6.546192169189453,
          5.648988246917725,
          6.522456645965576,
          6.548830509185791,
          7.305282115936279,
          4.778443813323975,
          4.700310707092285,
          4.037137985229492,
          4.2289886474609375,
          7.240725040435791,
          5.292694091796875,
          6.711491584777832,
          5.388625621795654,
          5.411725044250488,
          6.312954902648926,
          4.9217610359191895,
          6.429014205932617,
          5.983695030212402,
          4.7259368896484375,
          4.837968826293945,
          4.377995014190674,
          4.0910539627075195,
          6.35425329208374,
          4.550168991088867,
          5.336652755737305,
          8.326807022094727,
          6.710390567779541,
          6.1849751472473145,
          7.181817054748535,
          4.912238597869873,
          6.456730842590332,
          4.183712005615234,
          6.0010271072387695,
          8.127474784851074,
          5.765968322753906,
          4.15322208404541,
          6.07695198059082,
          6.406540870666504,
          6.034933567047119,
          4.900929927825928,
          4.385369300842285,
          5.088376522064209,
          5.66606330871582,
          6.19719123840332,
          3.939525842666626,
          4.323388576507568,
          4.533878326416016,
          5.17053747177124,
          6.020171642303467,
          4.151505947113037,
          4.349508762359619,
          5.846884727478027,
          6.713446140289307,
          4.438580513000488,
          6.431848049163818,
          4.677698135375977,
          4.9532389640808105,
          6.679515838623047,
          5.987797737121582,
          6.589302062988281,
          6.514465808868408,
          6.3185834884643555,
          4.986274719238281,
          4.0931525230407715,
          6.623614311218262,
          4.391507625579834,
          4.914690971374512,
          4.24823522567749,
          6.229702472686768,
          5.024354457855225,
          5.247600078582764,
          5.046241283416748,
          4.766562461853027,
          6.063416004180908,
          4.793496131896973,
          6.275199890136719,
          5.479760646820068,
          6.244679927825928,
          6.407014846801758,
          4.947286128997803,
          4.796533584594727,
          6.014337539672852,
          4.187502384185791,
          4.281465530395508,
          5.818691730499268,
          4.7106242179870605,
          6.673923969268799,
          4.99670934677124,
          5.740614414215088,
          6.128918170928955,
          4.378973484039307,
          4.7775397300720215,
          4.4448323249816895,
          4.795336723327637,
          5.400380611419678,
          6.0516180992126465,
          6.096503257751465,
          6.618884563446045,
          5.904027462005615,
          4.7434000968933105,
          5.288224697113037,
          4.3063178062438965,
          6.006067752838135,
          4.767262935638428,
          4.97303581237793,
          6.376772880554199,
          4.45380973815918,
          6.508779525756836,
          5.446043014526367,
          4.391567707061768,
          4.5361104011535645,
          4.3658270835876465,
          4.453919887542725,
          4.092315196990967,
          4.0210795402526855,
          4.1817121505737305,
          6.104830265045166,
          4.996439456939697,
          4.264808654785156,
          6.589926719665527,
          4.344380855560303,
          6.72380256652832,
          4.247125148773193,
          6.360297203063965,
          4.618074417114258,
          5.181241989135742,
          4.2181010246276855,
          4.329498291015625,
          6.67171573638916,
          4.813800811767578,
          5.203783988952637,
          6.430514812469482,
          6.743861675262451,
          7.143487930297852,
          6.356212139129639,
          6.090230941772461,
          6.4761643409729,
          6.688391208648682,
          6.279025077819824,
          4.463048458099365,
          5.396692276000977,
          6.593292713165283,
          4.2728590965271,
          4.138888835906982,
          6.677394866943359,
          6.200510501861572,
          4.694679260253906,
          6.589622974395752,
          6.055331230163574,
          5.679445743560791,
          4.552451133728027,
          5.59605073928833,
          4.890079498291016,
          6.367576599121094,
          4.450011730194092,
          4.0426506996154785,
          3.856973886489868,
          5.152255535125732,
          6.731597423553467,
          6.181580066680908,
          6.483162879943848,
          5.766485691070557,
          6.844601154327393,
          4.879022121429443,
          5.390881538391113,
          6.766446113586426,
          5.943578720092773,
          6.3714375495910645,
          4.8624348640441895,
          4.822401523590088,
          5.744382858276367,
          6.104038238525391,
          6.608628749847412,
          4.664867401123047,
          4.924720764160156,
          6.160032272338867,
          7.292420387268066,
          4.553098201751709,
          6.3395562171936035,
          6.57745885848999,
          4.529089450836182,
          7.134335517883301,
          5.024040699005127,
          5.338449001312256,
          4.612144470214844,
          6.950024127960205,
          6.284083366394043,
          6.530593395233154,
          5.0651116371154785,
          5.4688262939453125,
          6.339211463928223,
          4.2470197677612305,
          6.827668190002441,
          4.339531898498535,
          4.9247894287109375,
          5.99194860458374,
          6.494602680206299
         ],
         "xaxis": "x",
         "y": [
          4.9698567390441895,
          5.384984970092773,
          4.994168281555176,
          5.182043075561523,
          3.3982443809509277,
          4.75883674621582,
          4.8730573654174805,
          4.487753868103027,
          4.7547688484191895,
          3.2003519535064697,
          4.180828094482422,
          4.587827682495117,
          5.005769729614258,
          5.359062194824219,
          3.5641376972198486,
          3.9799811840057373,
          5.088659763336182,
          2.9587464332580566,
          4.451602458953857,
          3.768603563308716,
          5.03065299987793,
          4.103567123413086,
          4.160672664642334,
          4.823777675628662,
          3.7554543018341064,
          2.132596015930176,
          3.7104060649871826,
          4.0015950202941895,
          3.4053053855895996,
          3.416334629058838,
          3.6790497303009033,
          5.055760383605957,
          4.063882350921631,
          2.287759780883789,
          4.013608932495117,
          3.9457359313964844,
          5.431376934051514,
          4.875480651855469,
          3.635758399963379,
          5.029478073120117,
          5.218159198760986,
          3.6662216186523438,
          4.5485944747924805,
          4.720250606536865,
          4.364789009094238,
          5.2532057762146,
          3.4360554218292236,
          3.5104122161865234,
          4.434109210968018,
          3.598919630050659,
          4.648780345916748,
          3.8554649353027344,
          4.703937530517578,
          3.795119285583496,
          5.339151859283447,
          4.717325210571289,
          4.546074390411377,
          4.926757335662842,
          3.9665234088897705,
          4.9623613357543945,
          4.4682769775390625,
          5.2472686767578125,
          3.6086442470550537,
          4.605274200439453,
          4.67847204208374,
          5.230626583099365,
          3.293673038482666,
          4.398290634155273,
          3.6561262607574463,
          3.9255635738372803,
          3.5994577407836914,
          4.745673179626465,
          4.818791389465332,
          3.91351056098938,
          5.050055027008057,
          3.688920259475708,
          3.709965705871582,
          5.37075138092041,
          5.130654335021973,
          4.362971305847168,
          4.5010986328125,
          5.491157531738281,
          5.204924583435059,
          3.845911979675293,
          5.399087905883789,
          3.5732994079589844,
          4.360626220703125,
          4.757969856262207,
          4.068886756896973,
          3.305859088897705,
          5.120034217834473,
          3.904017210006714,
          3.460613965988159,
          4.644593715667725,
          4.517581939697266,
          5.432499408721924,
          5.375760078430176,
          4.2181806564331055,
          4.5024027824401855,
          4.456720352172852,
          3.5713694095611572,
          5.171079158782959,
          3.9041171073913574,
          3.294485330581665,
          4.934545993804932,
          3.4739067554473877,
          4.8044352531433105,
          5.172122955322266,
          3.542177438735962,
          5.228128433227539,
          5.033027172088623,
          4.450204372406006,
          5.279958248138428,
          4.619746208190918,
          4.270958423614502,
          4.663407802581787,
          3.814249277114868,
          3.212374448776245,
          5.030614852905273,
          4.954462051391602,
          4.001471042633057,
          4.097287178039551,
          4.599559783935547,
          5.295508861541748,
          4.963572978973389,
          3.9114670753479004,
          3.32157826423645,
          4.596486568450928,
          4.992770195007324,
          4.6224822998046875,
          4.7897210121154785,
          3.5322000980377197,
          4.313385009765625,
          3.480341911315918,
          5.052133560180664,
          5.434787273406982,
          3.8098788261413574,
          4.319462776184082,
          5.081919193267822,
          5.225290298461914,
          3.3598616123199463,
          4.879920959472656,
          5.290182113647461,
          4.1663289070129395,
          3.4961838722229004,
          5.395219802856445,
          3.926166534423828,
          4.5078277587890625,
          3.2610509395599365,
          3.941041946411133,
          4.390811920166016,
          3.8204307556152344,
          3.953068733215332,
          4.489513874053955,
          3.919560670852661,
          5.116293430328369,
          4.588055610656738,
          4.2549567222595215,
          3.840792179107666,
          3.881206750869751,
          5.265866756439209,
          3.436924457550049,
          4.300373077392578,
          3.408351421356201,
          4.260309219360352,
          4.803617000579834,
          5.274848937988281,
          5.1880340576171875,
          5.060741424560547,
          4.001009464263916,
          4.826752185821533,
          5.3783087730407715,
          4.61226224899292,
          5.156968593597412,
          3.91243839263916,
          3.371674060821533,
          3.8835549354553223,
          4.093398094177246,
          4.672966480255127,
          4.989223957061768,
          4.998688697814941,
          3.514735698699951,
          3.445237398147583,
          4.068727970123291,
          3.7199692726135254,
          3.652562141418457,
          5.076480865478516,
          5.089118957519531,
          3.7856156826019287,
          3.873854637145996,
          3.4150326251983643,
          4.903500556945801,
          4.3045735359191895,
          3.629124164581299,
          4.839415073394775,
          5.4379777908325195,
          3.713895082473755
         ],
         "yaxis": "y"
        },
        {
         "hovertemplate": "cluster_assigned=James Bland<br>Axis x=%{x}<br>Axis y=%{y}<extra></extra>",
         "legendgroup": "James Bland",
         "marker": {
          "color": "#ab63fa",
          "opacity": 1,
          "symbol": "circle"
         },
         "mode": "markers",
         "name": "James Bland",
         "orientation": "v",
         "showlegend": true,
         "type": "scatter",
         "x": [
          8.457051277160645,
          7.586546421051025,
          8.397233009338379,
          7.938626766204834,
          7.316554069519043,
          8.039759635925293,
          8.340571403503418,
          8.274178504943848,
          8.263289451599121,
          6.253746509552002,
          7.998151779174805,
          8.595303535461426,
          8.276126861572266,
          8.312119483947754,
          8.08093547821045,
          7.812971115112305,
          7.521174907684326,
          8.139382362365723,
          7.414281845092773,
          8.204480171203613,
          6.512709140777588,
          7.213334560394287,
          8.452997207641602,
          8.375557899475098,
          8.399603843688965,
          6.160395622253418,
          8.216760635375977,
          6.829398155212402,
          7.8146233558654785,
          8.21934700012207,
          8.398937225341797,
          8.27402400970459,
          7.428180694580078,
          8.629776000976562,
          8.004135131835938,
          8.598001480102539,
          5.950177192687988,
          6.14254093170166,
          6.5925374031066895,
          6.620949745178223,
          7.389707565307617,
          7.782686233520508,
          8.28339672088623,
          8.539100646972656,
          8.581196784973145,
          8.562828063964844,
          8.317129135131836,
          7.516193866729736,
          7.994156360626221,
          8.441898345947266,
          7.687978744506836,
          7.958794116973877,
          8.494695663452148,
          8.0951509475708,
          8.287328720092773,
          7.201646327972412,
          7.401939392089844,
          8.502633094787598,
          7.9958720207214355,
          7.510785102844238,
          7.499706268310547,
          8.358604431152344,
          6.884104251861572,
          8.414223670959473,
          7.533524513244629,
          8.141444206237793,
          7.8118367195129395,
          7.30043363571167,
          7.6908674240112305,
          7.768098831176758,
          8.369752883911133,
          8.426189422607422,
          8.29727554321289,
          7.862759590148926,
          8.26901912689209,
          8.21557903289795,
          7.050975799560547,
          8.541027069091797,
          7.677430629730225,
          8.359370231628418,
          8.354645729064941,
          8.377583503723145,
          8.280159950256348,
          7.511596202850342,
          7.648867130279541,
          8.159464836120605,
          7.970473766326904,
          7.406810760498047,
          8.3824462890625,
          8.564684867858887,
          8.255582809448242,
          8.44541072845459,
          5.563701152801514,
          8.437868118286133,
          8.413191795349121,
          8.219959259033203,
          8.415425300598145,
          7.510374069213867,
          8.36614990234375,
          7.165542125701904,
          8.310840606689453,
          7.86134147644043,
          7.616852760314941,
          7.553076267242432,
          8.477176666259766,
          8.584190368652344,
          7.884932518005371,
          8.219620704650879,
          7.952662944793701,
          7.5705156326293945,
          8.144640922546387,
          8.365252494812012,
          8.273999214172363,
          8.188441276550293,
          8.517983436584473,
          7.80824613571167,
          8.433740615844727,
          8.08746337890625,
          8.024162292480469,
          7.438276290893555,
          7.328007698059082,
          8.042448043823242,
          5.573291301727295,
          8.41265869140625,
          8.588733673095703,
          8.23237419128418,
          7.982672691345215,
          8.552131652832031,
          8.016143798828125,
          7.551994800567627,
          7.933784484863281,
          8.41357707977295,
          8.118951797485352,
          7.167119979858398,
          6.822099208831787,
          8.267427444458008,
          8.51667308807373,
          7.668666362762451,
          7.945635795593262,
          7.474764347076416,
          8.032266616821289
         ],
         "xaxis": "x",
         "y": [
          0.7538896799087524,
          -0.09374678879976273,
          -0.45473694801330566,
          0.6876600384712219,
          0.03522542864084244,
          0.627643883228302,
          -1.0759862661361694,
          -1.1275675296783447,
          -0.9806315898895264,
          -0.01077843364328146,
          0.22221052646636963,
          -1.227501630783081,
          -0.5067740678787231,
          -0.43048185110092163,
          0.1299528181552887,
          0.5748924016952515,
          0.16914404928684235,
          -0.15964370965957642,
          0.22813084721565247,
          0.6052560210227966,
          0.43907639384269714,
          0.25526079535484314,
          -1.0699315071105957,
          -0.9755203127861023,
          -0.7468749284744263,
          0.11999879777431488,
          0.23534050583839417,
          -0.12139778584241867,
          0.5122949481010437,
          1.435207486152649,
          1.7783093452453613,
          -0.8644266724586487,
          -0.16041143238544464,
          -1.3515288829803467,
          0.7831780910491943,
          -1.1064133644104004,
          0.3194008767604828,
          0.22880437970161438,
          0.6521245837211609,
          0.4340377449989319,
          0.389205664396286,
          -0.542248547077179,
          -0.8954474329948425,
          -0.9471546411514282,
          -1.3007577657699585,
          -1.2603868246078491,
          0.3340165913105011,
          -0.5295499563217163,
          -0.17929407954216003,
          -1.0897260904312134,
          0.29690346121788025,
          0.6685619354248047,
          -0.8812451958656311,
          -0.5814342498779297,
          1.093302607536316,
          0.25360792875289917,
          -0.46504050493240356,
          -0.9573350548744202,
          0.7670704126358032,
          -0.39906081557273865,
          -0.07741976529359818,
          1.5514777898788452,
          -0.030602164566516876,
          -0.9983651638031006,
          -0.42446333169937134,
          -0.8128336668014526,
          0.365780770778656,
          -0.01564699597656727,
          0.49557116627693176,
          0.4337335526943207,
          -1.1856043338775635,
          -0.32793644070625305,
          0.7126973867416382,
          0.3917471170425415,
          0.5859981775283813,
          1.1013227701187134,
          0.023438692092895508,
          -1.1817816495895386,
          0.04274292662739754,
          1.7043935060501099,
          1.0989649295806885,
          1.207983374595642,
          -0.09995553642511368,
          -0.2736199200153351,
          0.18141180276870728,
          0.7172242999076843,
          0.33394768834114075,
          0.40883496403694153,
          1.145346760749817,
          -0.7915898561477661,
          1.293431282043457,
          -0.7739779949188232,
          0.31442034244537354,
          -1.1292612552642822,
          -0.7472594380378723,
          0.6166561245918274,
          -0.6725852489471436,
          0.034739091992378235,
          1.3013988733291626,
          0.5021830797195435,
          -1.1377098560333252,
          0.3883744180202484,
          0.1888222098350525,
          -0.34488603472709656,
          -0.9780855774879456,
          -1.2659575939178467,
          0.18605384230613708,
          -0.7086930274963379,
          1.1049976348876953,
          0.018574615940451622,
          0.22180242836475372,
          1.768343210220337,
          -0.9379079341888428,
          -0.43325212597846985,
          -1.0324769020080566,
          -0.58545982837677,
          -0.9240738749504089,
          -0.41973820328712463,
          0.46924063563346863,
          -0.06597670912742615,
          0.06905167549848557,
          -0.3435238301753998,
          0.21832743287086487,
          -0.2929580509662628,
          -1.2278046607971191,
          -0.8546685576438904,
          -0.6681419610977173,
          -1.2656354904174805,
          0.6797813773155212,
          -0.09177815914154053,
          0.22471268475055695,
          -0.5847780108451843,
          0.3676959276199341,
          0.29498013854026794,
          0.41131672263145447,
          -0.9541144371032715,
          -0.8436750173568726,
          0.34559333324432373,
          1.5511358976364136,
          0.6234880685806274,
          1.7232022285461426
         ],
         "yaxis": "y"
        }
       ],
       "layout": {
        "height": 600,
        "legend": {
         "title": {
          "text": "cluster_assigned"
         },
         "tracegroupgap": 0
        },
        "template": {
         "data": {
          "bar": [
           {
            "error_x": {
             "color": "#2a3f5f"
            },
            "error_y": {
             "color": "#2a3f5f"
            },
            "marker": {
             "line": {
              "color": "#E5ECF6",
              "width": 0.5
             },
             "pattern": {
              "fillmode": "overlay",
              "size": 10,
              "solidity": 0.2
             }
            },
            "type": "bar"
           }
          ],
          "barpolar": [
           {
            "marker": {
             "line": {
              "color": "#E5ECF6",
              "width": 0.5
             },
             "pattern": {
              "fillmode": "overlay",
              "size": 10,
              "solidity": 0.2
             }
            },
            "type": "barpolar"
           }
          ],
          "carpet": [
           {
            "aaxis": {
             "endlinecolor": "#2a3f5f",
             "gridcolor": "white",
             "linecolor": "white",
             "minorgridcolor": "white",
             "startlinecolor": "#2a3f5f"
            },
            "baxis": {
             "endlinecolor": "#2a3f5f",
             "gridcolor": "white",
             "linecolor": "white",
             "minorgridcolor": "white",
             "startlinecolor": "#2a3f5f"
            },
            "type": "carpet"
           }
          ],
          "choropleth": [
           {
            "colorbar": {
             "outlinewidth": 0,
             "ticks": ""
            },
            "type": "choropleth"
           }
          ],
          "contour": [
           {
            "colorbar": {
             "outlinewidth": 0,
             "ticks": ""
            },
            "colorscale": [
             [
              0,
              "#0d0887"
             ],
             [
              0.1111111111111111,
              "#46039f"
             ],
             [
              0.2222222222222222,
              "#7201a8"
             ],
             [
              0.3333333333333333,
              "#9c179e"
             ],
             [
              0.4444444444444444,
              "#bd3786"
             ],
             [
              0.5555555555555556,
              "#d8576b"
             ],
             [
              0.6666666666666666,
              "#ed7953"
             ],
             [
              0.7777777777777778,
              "#fb9f3a"
             ],
             [
              0.8888888888888888,
              "#fdca26"
             ],
             [
              1,
              "#f0f921"
             ]
            ],
            "type": "contour"
           }
          ],
          "contourcarpet": [
           {
            "colorbar": {
             "outlinewidth": 0,
             "ticks": ""
            },
            "type": "contourcarpet"
           }
          ],
          "heatmap": [
           {
            "colorbar": {
             "outlinewidth": 0,
             "ticks": ""
            },
            "colorscale": [
             [
              0,
              "#0d0887"
             ],
             [
              0.1111111111111111,
              "#46039f"
             ],
             [
              0.2222222222222222,
              "#7201a8"
             ],
             [
              0.3333333333333333,
              "#9c179e"
             ],
             [
              0.4444444444444444,
              "#bd3786"
             ],
             [
              0.5555555555555556,
              "#d8576b"
             ],
             [
              0.6666666666666666,
              "#ed7953"
             ],
             [
              0.7777777777777778,
              "#fb9f3a"
             ],
             [
              0.8888888888888888,
              "#fdca26"
             ],
             [
              1,
              "#f0f921"
             ]
            ],
            "type": "heatmap"
           }
          ],
          "heatmapgl": [
           {
            "colorbar": {
             "outlinewidth": 0,
             "ticks": ""
            },
            "colorscale": [
             [
              0,
              "#0d0887"
             ],
             [
              0.1111111111111111,
              "#46039f"
             ],
             [
              0.2222222222222222,
              "#7201a8"
             ],
             [
              0.3333333333333333,
              "#9c179e"
             ],
             [
              0.4444444444444444,
              "#bd3786"
             ],
             [
              0.5555555555555556,
              "#d8576b"
             ],
             [
              0.6666666666666666,
              "#ed7953"
             ],
             [
              0.7777777777777778,
              "#fb9f3a"
             ],
             [
              0.8888888888888888,
              "#fdca26"
             ],
             [
              1,
              "#f0f921"
             ]
            ],
            "type": "heatmapgl"
           }
          ],
          "histogram": [
           {
            "marker": {
             "pattern": {
              "fillmode": "overlay",
              "size": 10,
              "solidity": 0.2
             }
            },
            "type": "histogram"
           }
          ],
          "histogram2d": [
           {
            "colorbar": {
             "outlinewidth": 0,
             "ticks": ""
            },
            "colorscale": [
             [
              0,
              "#0d0887"
             ],
             [
              0.1111111111111111,
              "#46039f"
             ],
             [
              0.2222222222222222,
              "#7201a8"
             ],
             [
              0.3333333333333333,
              "#9c179e"
             ],
             [
              0.4444444444444444,
              "#bd3786"
             ],
             [
              0.5555555555555556,
              "#d8576b"
             ],
             [
              0.6666666666666666,
              "#ed7953"
             ],
             [
              0.7777777777777778,
              "#fb9f3a"
             ],
             [
              0.8888888888888888,
              "#fdca26"
             ],
             [
              1,
              "#f0f921"
             ]
            ],
            "type": "histogram2d"
           }
          ],
          "histogram2dcontour": [
           {
            "colorbar": {
             "outlinewidth": 0,
             "ticks": ""
            },
            "colorscale": [
             [
              0,
              "#0d0887"
             ],
             [
              0.1111111111111111,
              "#46039f"
             ],
             [
              0.2222222222222222,
              "#7201a8"
             ],
             [
              0.3333333333333333,
              "#9c179e"
             ],
             [
              0.4444444444444444,
              "#bd3786"
             ],
             [
              0.5555555555555556,
              "#d8576b"
             ],
             [
              0.6666666666666666,
              "#ed7953"
             ],
             [
              0.7777777777777778,
              "#fb9f3a"
             ],
             [
              0.8888888888888888,
              "#fdca26"
             ],
             [
              1,
              "#f0f921"
             ]
            ],
            "type": "histogram2dcontour"
           }
          ],
          "mesh3d": [
           {
            "colorbar": {
             "outlinewidth": 0,
             "ticks": ""
            },
            "type": "mesh3d"
           }
          ],
          "parcoords": [
           {
            "line": {
             "colorbar": {
              "outlinewidth": 0,
              "ticks": ""
             }
            },
            "type": "parcoords"
           }
          ],
          "pie": [
           {
            "automargin": true,
            "type": "pie"
           }
          ],
          "scatter": [
           {
            "fillpattern": {
             "fillmode": "overlay",
             "size": 10,
             "solidity": 0.2
            },
            "type": "scatter"
           }
          ],
          "scatter3d": [
           {
            "line": {
             "colorbar": {
              "outlinewidth": 0,
              "ticks": ""
             }
            },
            "marker": {
             "colorbar": {
              "outlinewidth": 0,
              "ticks": ""
             }
            },
            "type": "scatter3d"
           }
          ],
          "scattercarpet": [
           {
            "marker": {
             "colorbar": {
              "outlinewidth": 0,
              "ticks": ""
             }
            },
            "type": "scattercarpet"
           }
          ],
          "scattergeo": [
           {
            "marker": {
             "colorbar": {
              "outlinewidth": 0,
              "ticks": ""
             }
            },
            "type": "scattergeo"
           }
          ],
          "scattergl": [
           {
            "marker": {
             "colorbar": {
              "outlinewidth": 0,
              "ticks": ""
             }
            },
            "type": "scattergl"
           }
          ],
          "scattermapbox": [
           {
            "marker": {
             "colorbar": {
              "outlinewidth": 0,
              "ticks": ""
             }
            },
            "type": "scattermapbox"
           }
          ],
          "scatterpolar": [
           {
            "marker": {
             "colorbar": {
              "outlinewidth": 0,
              "ticks": ""
             }
            },
            "type": "scatterpolar"
           }
          ],
          "scatterpolargl": [
           {
            "marker": {
             "colorbar": {
              "outlinewidth": 0,
              "ticks": ""
             }
            },
            "type": "scatterpolargl"
           }
          ],
          "scatterternary": [
           {
            "marker": {
             "colorbar": {
              "outlinewidth": 0,
              "ticks": ""
             }
            },
            "type": "scatterternary"
           }
          ],
          "surface": [
           {
            "colorbar": {
             "outlinewidth": 0,
             "ticks": ""
            },
            "colorscale": [
             [
              0,
              "#0d0887"
             ],
             [
              0.1111111111111111,
              "#46039f"
             ],
             [
              0.2222222222222222,
              "#7201a8"
             ],
             [
              0.3333333333333333,
              "#9c179e"
             ],
             [
              0.4444444444444444,
              "#bd3786"
             ],
             [
              0.5555555555555556,
              "#d8576b"
             ],
             [
              0.6666666666666666,
              "#ed7953"
             ],
             [
              0.7777777777777778,
              "#fb9f3a"
             ],
             [
              0.8888888888888888,
              "#fdca26"
             ],
             [
              1,
              "#f0f921"
             ]
            ],
            "type": "surface"
           }
          ],
          "table": [
           {
            "cells": {
             "fill": {
              "color": "#EBF0F8"
             },
             "line": {
              "color": "white"
             }
            },
            "header": {
             "fill": {
              "color": "#C8D4E3"
             },
             "line": {
              "color": "white"
             }
            },
            "type": "table"
           }
          ]
         },
         "layout": {
          "annotationdefaults": {
           "arrowcolor": "#2a3f5f",
           "arrowhead": 0,
           "arrowwidth": 1
          },
          "autotypenumbers": "strict",
          "coloraxis": {
           "colorbar": {
            "outlinewidth": 0,
            "ticks": ""
           }
          },
          "colorscale": {
           "diverging": [
            [
             0,
             "#8e0152"
            ],
            [
             0.1,
             "#c51b7d"
            ],
            [
             0.2,
             "#de77ae"
            ],
            [
             0.3,
             "#f1b6da"
            ],
            [
             0.4,
             "#fde0ef"
            ],
            [
             0.5,
             "#f7f7f7"
            ],
            [
             0.6,
             "#e6f5d0"
            ],
            [
             0.7,
             "#b8e186"
            ],
            [
             0.8,
             "#7fbc41"
            ],
            [
             0.9,
             "#4d9221"
            ],
            [
             1,
             "#276419"
            ]
           ],
           "sequential": [
            [
             0,
             "#0d0887"
            ],
            [
             0.1111111111111111,
             "#46039f"
            ],
            [
             0.2222222222222222,
             "#7201a8"
            ],
            [
             0.3333333333333333,
             "#9c179e"
            ],
            [
             0.4444444444444444,
             "#bd3786"
            ],
            [
             0.5555555555555556,
             "#d8576b"
            ],
            [
             0.6666666666666666,
             "#ed7953"
            ],
            [
             0.7777777777777778,
             "#fb9f3a"
            ],
            [
             0.8888888888888888,
             "#fdca26"
            ],
            [
             1,
             "#f0f921"
            ]
           ],
           "sequentialminus": [
            [
             0,
             "#0d0887"
            ],
            [
             0.1111111111111111,
             "#46039f"
            ],
            [
             0.2222222222222222,
             "#7201a8"
            ],
            [
             0.3333333333333333,
             "#9c179e"
            ],
            [
             0.4444444444444444,
             "#bd3786"
            ],
            [
             0.5555555555555556,
             "#d8576b"
            ],
            [
             0.6666666666666666,
             "#ed7953"
            ],
            [
             0.7777777777777778,
             "#fb9f3a"
            ],
            [
             0.8888888888888888,
             "#fdca26"
            ],
            [
             1,
             "#f0f921"
            ]
           ]
          },
          "colorway": [
           "#636efa",
           "#EF553B",
           "#00cc96",
           "#ab63fa",
           "#FFA15A",
           "#19d3f3",
           "#FF6692",
           "#B6E880",
           "#FF97FF",
           "#FECB52"
          ],
          "font": {
           "color": "#2a3f5f"
          },
          "geo": {
           "bgcolor": "white",
           "lakecolor": "white",
           "landcolor": "#E5ECF6",
           "showlakes": true,
           "showland": true,
           "subunitcolor": "white"
          },
          "hoverlabel": {
           "align": "left"
          },
          "hovermode": "closest",
          "mapbox": {
           "style": "light"
          },
          "paper_bgcolor": "white",
          "plot_bgcolor": "#E5ECF6",
          "polar": {
           "angularaxis": {
            "gridcolor": "white",
            "linecolor": "white",
            "ticks": ""
           },
           "bgcolor": "#E5ECF6",
           "radialaxis": {
            "gridcolor": "white",
            "linecolor": "white",
            "ticks": ""
           }
          },
          "scene": {
           "xaxis": {
            "backgroundcolor": "#E5ECF6",
            "gridcolor": "white",
            "gridwidth": 2,
            "linecolor": "white",
            "showbackground": true,
            "ticks": "",
            "zerolinecolor": "white"
           },
           "yaxis": {
            "backgroundcolor": "#E5ECF6",
            "gridcolor": "white",
            "gridwidth": 2,
            "linecolor": "white",
            "showbackground": true,
            "ticks": "",
            "zerolinecolor": "white"
           },
           "zaxis": {
            "backgroundcolor": "#E5ECF6",
            "gridcolor": "white",
            "gridwidth": 2,
            "linecolor": "white",
            "showbackground": true,
            "ticks": "",
            "zerolinecolor": "white"
           }
          },
          "shapedefaults": {
           "line": {
            "color": "#2a3f5f"
           }
          },
          "ternary": {
           "aaxis": {
            "gridcolor": "white",
            "linecolor": "white",
            "ticks": ""
           },
           "baxis": {
            "gridcolor": "white",
            "linecolor": "white",
            "ticks": ""
           },
           "bgcolor": "#E5ECF6",
           "caxis": {
            "gridcolor": "white",
            "linecolor": "white",
            "ticks": ""
           }
          },
          "title": {
           "x": 0.05
          },
          "xaxis": {
           "automargin": true,
           "gridcolor": "white",
           "linecolor": "white",
           "ticks": "",
           "title": {
            "standoff": 15
           },
           "zerolinecolor": "white",
           "zerolinewidth": 2
          },
          "yaxis": {
           "automargin": true,
           "gridcolor": "white",
           "linecolor": "white",
           "ticks": "",
           "title": {
            "standoff": 15
           },
           "zerolinecolor": "white",
           "zerolinewidth": 2
          }
         }
        },
        "title": {
         "text": "UMAP of the 15 categories"
        },
        "width": 1000,
        "xaxis": {
         "anchor": "y",
         "domain": [
          0,
          1
         ],
         "title": {
          "text": "Axis x"
         }
        },
        "yaxis": {
         "anchor": "x",
         "domain": [
          0,
          1
         ],
         "title": {
          "text": "Axis y"
         }
        }
       }
      }
     },
     "metadata": {},
     "output_type": "display_data"
    }
   ],
   "source": [
    "fig = px.scatter(user_projected_umap, x='Axis x', y='Axis y',opacity =1,\n",
    "             color='cluster_assigned' ,size_max =50,width=1000, height=600,title ='UMAP of the 15 categories')\n",
    "\n",
    "fig.show()\n",
    "fig.write_html(\"cluster_visual_umap.html\")"
   ]
  }
 ],
 "metadata": {
  "kernelspec": {
   "display_name": "Python 3",
   "language": "python",
   "name": "python3"
  },
  "language_info": {
   "codemirror_mode": {
    "name": "ipython",
    "version": 3
   },
   "file_extension": ".py",
   "mimetype": "text/x-python",
   "name": "python",
   "nbconvert_exporter": "python",
   "pygments_lexer": "ipython3",
   "version": "3.10.7"
  },
  "orig_nbformat": 4,
  "vscode": {
   "interpreter": {
    "hash": "7a30b7485557a43924c0104e177ec6bab6e0008128359b6d23b2129353110e8f"
   }
  }
 },
 "nbformat": 4,
 "nbformat_minor": 2
}
