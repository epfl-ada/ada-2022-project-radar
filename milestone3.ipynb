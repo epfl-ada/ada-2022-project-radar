{
 "cells": [
  {
   "cell_type": "code",
   "execution_count": 213,
   "metadata": {},
   "outputs": [],
   "source": [
    "import pandas as pd\n",
    "import seaborn as sns\n",
    "import datetime\n",
    "from datetime import *\n",
    "import sys\n",
    "import gzip\n",
    "import networkx as nx\n",
    "import matplotlib.pyplot as plt\n",
    "import numpy as np\n",
    "import plotly.express as px\n",
    "import pylab\n",
    "import scipy.stats as stats\n",
    "import plotly.graph_objects as go\n",
    "import collections\n",
    "from scipy.stats import bootstrap, ttest_ind, ttest_rel\n",
    "import math\n",
    "\n",
    "\n",
    "from sklearn.cluster import KMeans"
   ]
  },
  {
   "cell_type": "code",
   "execution_count": 2,
   "metadata": {},
   "outputs": [],
   "source": [
    "plt.style.use('seaborn')\n",
    "pd.options.mode.chained_assignment = None  # default='warn'"
   ]
  },
  {
   "cell_type": "markdown",
   "metadata": {},
   "source": [
    "# beer"
   ]
  },
  {
   "cell_type": "code",
   "execution_count": 3,
   "metadata": {},
   "outputs": [],
   "source": [
    "#load the data beers.csv\n",
    "df_beers = pd.read_csv('./data/beers.csv')"
   ]
  },
  {
   "cell_type": "code",
   "execution_count": 4,
   "metadata": {},
   "outputs": [
    {
     "data": {
      "text/html": [
       "<div>\n",
       "<style scoped>\n",
       "    .dataframe tbody tr th:only-of-type {\n",
       "        vertical-align: middle;\n",
       "    }\n",
       "\n",
       "    .dataframe tbody tr th {\n",
       "        vertical-align: top;\n",
       "    }\n",
       "\n",
       "    .dataframe thead th {\n",
       "        text-align: right;\n",
       "    }\n",
       "</style>\n",
       "<table border=\"1\" class=\"dataframe\">\n",
       "  <thead>\n",
       "    <tr style=\"text-align: right;\">\n",
       "      <th></th>\n",
       "      <th>beer_id</th>\n",
       "      <th>beer_name</th>\n",
       "      <th>brewery_id</th>\n",
       "      <th>brewery_name</th>\n",
       "      <th>style</th>\n",
       "      <th>nbr_ratings</th>\n",
       "      <th>nbr_reviews</th>\n",
       "      <th>avg</th>\n",
       "      <th>ba_score</th>\n",
       "      <th>bros_score</th>\n",
       "      <th>abv</th>\n",
       "      <th>avg_computed</th>\n",
       "      <th>zscore</th>\n",
       "      <th>nbr_matched_valid_ratings</th>\n",
       "      <th>avg_matched_valid_ratings</th>\n",
       "    </tr>\n",
       "  </thead>\n",
       "  <tbody>\n",
       "    <tr>\n",
       "      <th>0</th>\n",
       "      <td>166064</td>\n",
       "      <td>Nashe Moskovskoe</td>\n",
       "      <td>39912</td>\n",
       "      <td>Abdysh-Ata (Абдыш Ата)</td>\n",
       "      <td>Euro Pale Lager</td>\n",
       "      <td>0</td>\n",
       "      <td>0</td>\n",
       "      <td>NaN</td>\n",
       "      <td>NaN</td>\n",
       "      <td>NaN</td>\n",
       "      <td>4.7</td>\n",
       "      <td>NaN</td>\n",
       "      <td>NaN</td>\n",
       "      <td>0</td>\n",
       "      <td>NaN</td>\n",
       "    </tr>\n",
       "    <tr>\n",
       "      <th>1</th>\n",
       "      <td>166065</td>\n",
       "      <td>Nashe Pivovskoe</td>\n",
       "      <td>39912</td>\n",
       "      <td>Abdysh-Ata (Абдыш Ата)</td>\n",
       "      <td>Euro Pale Lager</td>\n",
       "      <td>0</td>\n",
       "      <td>0</td>\n",
       "      <td>NaN</td>\n",
       "      <td>NaN</td>\n",
       "      <td>NaN</td>\n",
       "      <td>3.8</td>\n",
       "      <td>NaN</td>\n",
       "      <td>NaN</td>\n",
       "      <td>0</td>\n",
       "      <td>NaN</td>\n",
       "    </tr>\n",
       "    <tr>\n",
       "      <th>2</th>\n",
       "      <td>166066</td>\n",
       "      <td>Nashe Shakhterskoe</td>\n",
       "      <td>39912</td>\n",
       "      <td>Abdysh-Ata (Абдыш Ата)</td>\n",
       "      <td>Euro Pale Lager</td>\n",
       "      <td>0</td>\n",
       "      <td>0</td>\n",
       "      <td>NaN</td>\n",
       "      <td>NaN</td>\n",
       "      <td>NaN</td>\n",
       "      <td>4.8</td>\n",
       "      <td>NaN</td>\n",
       "      <td>NaN</td>\n",
       "      <td>0</td>\n",
       "      <td>NaN</td>\n",
       "    </tr>\n",
       "    <tr>\n",
       "      <th>3</th>\n",
       "      <td>166067</td>\n",
       "      <td>Nashe Zhigulevskoe</td>\n",
       "      <td>39912</td>\n",
       "      <td>Abdysh-Ata (Абдыш Ата)</td>\n",
       "      <td>Euro Pale Lager</td>\n",
       "      <td>0</td>\n",
       "      <td>0</td>\n",
       "      <td>NaN</td>\n",
       "      <td>NaN</td>\n",
       "      <td>NaN</td>\n",
       "      <td>4.0</td>\n",
       "      <td>NaN</td>\n",
       "      <td>NaN</td>\n",
       "      <td>0</td>\n",
       "      <td>NaN</td>\n",
       "    </tr>\n",
       "    <tr>\n",
       "      <th>4</th>\n",
       "      <td>166063</td>\n",
       "      <td>Zhivoe</td>\n",
       "      <td>39912</td>\n",
       "      <td>Abdysh-Ata (Абдыш Ата)</td>\n",
       "      <td>Euro Pale Lager</td>\n",
       "      <td>0</td>\n",
       "      <td>0</td>\n",
       "      <td>NaN</td>\n",
       "      <td>NaN</td>\n",
       "      <td>NaN</td>\n",
       "      <td>4.5</td>\n",
       "      <td>NaN</td>\n",
       "      <td>NaN</td>\n",
       "      <td>0</td>\n",
       "      <td>NaN</td>\n",
       "    </tr>\n",
       "  </tbody>\n",
       "</table>\n",
       "</div>"
      ],
      "text/plain": [
       "   beer_id           beer_name  brewery_id            brewery_name  \\\n",
       "0   166064    Nashe Moskovskoe       39912  Abdysh-Ata (Абдыш Ата)   \n",
       "1   166065     Nashe Pivovskoe       39912  Abdysh-Ata (Абдыш Ата)   \n",
       "2   166066  Nashe Shakhterskoe       39912  Abdysh-Ata (Абдыш Ата)   \n",
       "3   166067  Nashe Zhigulevskoe       39912  Abdysh-Ata (Абдыш Ата)   \n",
       "4   166063              Zhivoe       39912  Abdysh-Ata (Абдыш Ата)   \n",
       "\n",
       "             style  nbr_ratings  nbr_reviews  avg  ba_score  bros_score  abv  \\\n",
       "0  Euro Pale Lager            0            0  NaN       NaN         NaN  4.7   \n",
       "1  Euro Pale Lager            0            0  NaN       NaN         NaN  3.8   \n",
       "2  Euro Pale Lager            0            0  NaN       NaN         NaN  4.8   \n",
       "3  Euro Pale Lager            0            0  NaN       NaN         NaN  4.0   \n",
       "4  Euro Pale Lager            0            0  NaN       NaN         NaN  4.5   \n",
       "\n",
       "   avg_computed  zscore  nbr_matched_valid_ratings  avg_matched_valid_ratings  \n",
       "0           NaN     NaN                          0                        NaN  \n",
       "1           NaN     NaN                          0                        NaN  \n",
       "2           NaN     NaN                          0                        NaN  \n",
       "3           NaN     NaN                          0                        NaN  \n",
       "4           NaN     NaN                          0                        NaN  "
      ]
     },
     "execution_count": 4,
     "metadata": {},
     "output_type": "execute_result"
    }
   ],
   "source": [
    "df_beers.head()"
   ]
  },
  {
   "cell_type": "code",
   "execution_count": 5,
   "metadata": {
    "cell_id": "f19be61f23d14b039515a428e733e967",
    "deepnote_cell_type": "code"
   },
   "outputs": [],
   "source": [
    "list_considered_variable=['beer_id','beer_name','brewery_id','brewery_name','style',\n",
    "                          'nbr_reviews','nbr_ratings','avg', 'abv']\n",
    "df_beers=df_beers[list_considered_variable]"
   ]
  },
  {
   "cell_type": "code",
   "execution_count": 6,
   "metadata": {
    "cell_id": "eadfb89af763419cb9ac7620298c2aaa",
    "deepnote_cell_type": "code",
    "deepnote_to_be_reexecuted": false,
    "execution_millis": 36,
    "execution_start": 1668694159723,
    "source_hash": "763cc6b1",
    "tags": []
   },
   "outputs": [],
   "source": [
    "beer_catalog = {\n",
    "    'Bocks' : ['Bock', 'Doppelbock', 'Eisbock', 'Maibock', 'Weizenbock', 'Maibock / Helles Bock'],\n",
    "\n",
    "    'Dark Ales' : ['Dubbel', 'Roggenbier', 'Scottish Ale', 'Winter Warmer'],\n",
    "\n",
    "    'Hybrid Beers' : ['Bière de Champagne / Bière Brut', 'Braggot', 'California Common / Steam Beer', 'Cream Ale'],\n",
    "\n",
    "    'Pale Ales' : ['American Amber / Red Ale', 'American Blonde Ale', 'American Pale Ale', 'Belgian Blonde Ale',\n",
    "    'Belgian Pale Ale', 'Bière de Garde', 'English Bitter', 'English Pale Ale', 'English Pale Mild Ale', 'Extra Special / Strong Bitter (ESB)',\n",
    "    'Grisette', 'Irish Red Ale', 'Kölsch', 'Saison', 'Saison / Farmhouse Ale', 'Belgian Strong Pale Ale', 'American Pale Ale (APA)'],\n",
    "\n",
    "    'Porters' : ['American Porter', 'Baltic Porter', 'English Porter', 'Imperial Porter', 'Robust Porter ', 'Smoked Porter'],\n",
    "\n",
    "    'Stouts' : ['American Imperial Stout', 'American Stout', 'English Stout', 'Foreign / Export Stout', 'Irish Dry Stout', 'Oatmeal Stout',\n",
    "    'Russian Imperial Stout', 'Milk / Sweet Stout', 'American Double / Imperial Stout'],\n",
    "\n",
    "    'Wheat Beers' : ['American Dark Wheat Beer', 'American Pale Wheat Beer', 'Dunkelweizen', 'Grodziskie', 'Hefeweizen', 'Kristallweizen', 'Witbier', \n",
    "    'American Pale Wheat Ale', 'American Dark Wheat Ale', 'Berliner Weissbier', 'Kristalweizen'],\n",
    "\n",
    "    'Brown Ales' : ['Altbier', 'American Brown Ale', 'Belgian Dark Ale', 'English Brown Ale', 'English Dark Mild Ale', 'Belgian Strong Dark Ale'],\n",
    "\n",
    "    'Dark Lagers' : ['American Amber / Red Lager', 'Czech Amber Lager', 'Czech Dark Lager', 'European Dark Lager', 'Märzen',\n",
    "    'Munich Dunkel', 'Rauchbier', 'Schwarzbier', 'Vienna Lager', 'Munich Dunkel Lager', 'Euro Dark Lager'],\n",
    "\n",
    "    'India Pale Ales' : ['American IPA', 'American Double / Imperial IPA', 'Belgian IPA', 'Black IPA', 'Brut IPA', 'English IPA', 'English India Pale Ale (IPA)', \n",
    "    'Imperial IPA', 'Milkshake IPA', 'New England IPA', 'American Black Ale'],\n",
    "\n",
    "    'Pale Lagers' : ['American Adjunct Lager', 'American Lager', 'Bohemian / Czech Pilsner', 'Czech Pale Lager', 'European / Dortmunder Export Lager',\n",
    "    'European Pale Lager', 'European Strong Lager', 'Festbier / Wiesnbier', 'German Pilsner', 'Helles', 'Imperial Pilsner', 'India Pale Lager (IPL)',\n",
    "    'Kellerbier / Zwickelbier', 'Light Lager', 'Malt Liquor', 'Czech Pilsener', 'Euro Pale Lager', 'American Pale Lager', 'German Pilsener', 'Dortmunder / Export Lager', \n",
    "    'Euro Strong Lager', 'Munich Helles Lager', 'American Double / Imperial Pilsner', 'American Malt Liquor', 'Märzen / Oktoberfest'],\n",
    "\n",
    "    'Specialty Beer' : ['Chile Beer', 'Fruit and Field Beer', 'Gruit / Ancient Herbed Ale', 'Happoshu', 'Herb and Spice Beer', 'Japanese Rice Lager',\n",
    "    'Kvass', 'Low-Alcohol Beer', 'Pumpkin Beer', 'Rye Beer', 'Sahti', 'Smoked Beer', 'Herbed / Spiced Beer', 'Pumpkin Ale', 'Scottish Gruit / Ancient Herbed Ale', 'Low Alcohol Beer'],\n",
    "\n",
    "    'Strong Ales' : ['American Barleywine', 'American Strong Ale', 'Belgian Dark Strong Ale', 'Belgian Pale Strong Ale', 'English Barleywine', 'English Strong Ale',\n",
    "    'Imperial Red Ale', 'Old Ale', 'Quadrupel (Quad)', 'Scotch Ale / Wee Heavy', 'Tripel', 'Wheatwine', 'Fruit / Vegetable Beer'],\n",
    "    \n",
    "    'Wild/Sour Beers' : ['Berliner Weisse', 'Brett Beer', 'Faro', 'Flanders Oud Bruin', 'Flanders Red Ale', 'Fruit Lambic',\n",
    "    'Fruited Kettle Sour', 'Gose', 'Gueuze', 'Lambic', 'Wild Ale', 'Lambic - Unblended', 'Lambic - Fruit', 'American Wild Ale'],\n",
    "\n",
    "    'Weird Cocktail' : ['Black & Tan']\n",
    "}"
   ]
  },
  {
   "cell_type": "code",
   "execution_count": 7,
   "metadata": {
    "cell_id": "26ffb113c1fd44f38af6d5ed9861ed16",
    "deepnote_cell_type": "code",
    "deepnote_to_be_reexecuted": false,
    "execution_millis": 8,
    "execution_start": 1668694159764,
    "source_hash": "390b466c",
    "tags": []
   },
   "outputs": [],
   "source": [
    "beer_catalog_reverse = {}\n",
    "for key, values in beer_catalog.items():\n",
    "    for value in values:\n",
    "            beer_catalog_reverse.setdefault(value, []).append(key)"
   ]
  },
  {
   "cell_type": "code",
   "execution_count": 8,
   "metadata": {
    "cell_id": "8aec10edbc964f71acf3ba71218c5896",
    "deepnote_cell_type": "code",
    "deepnote_to_be_reexecuted": false,
    "execution_millis": 40,
    "execution_start": 1668694159774,
    "source_hash": "6e14184a",
    "tags": []
   },
   "outputs": [],
   "source": [
    "def category_check(beer_style, beer_catalog):\n",
    "    '''\n",
    "    Return the new columns of 15 categories made in the website https://www.beeradvocate.com/beer/styles/\n",
    "    '''\n",
    "    for category_name, beer_styles in beer_catalog.items():\n",
    "        if beer_style in beer_styles:\n",
    "            return category_name"
   ]
  },
  {
   "cell_type": "code",
   "execution_count": 9,
   "metadata": {
    "cell_id": "b478e5b39ab946288c93c71c01b1af4c",
    "deepnote_cell_type": "code",
    "deepnote_to_be_reexecuted": false,
    "execution_millis": 821,
    "execution_start": 1668694159814,
    "source_hash": "d2dcf1f1",
    "tags": []
   },
   "outputs": [],
   "source": [
    "df_beers['category'] = df_beers['style'].apply(lambda beer_style: category_check(beer_style, beer_catalog))"
   ]
  },
  {
   "cell_type": "code",
   "execution_count": 10,
   "metadata": {},
   "outputs": [
    {
     "data": {
      "text/html": [
       "<div>\n",
       "<style scoped>\n",
       "    .dataframe tbody tr th:only-of-type {\n",
       "        vertical-align: middle;\n",
       "    }\n",
       "\n",
       "    .dataframe tbody tr th {\n",
       "        vertical-align: top;\n",
       "    }\n",
       "\n",
       "    .dataframe thead th {\n",
       "        text-align: right;\n",
       "    }\n",
       "</style>\n",
       "<table border=\"1\" class=\"dataframe\">\n",
       "  <thead>\n",
       "    <tr style=\"text-align: right;\">\n",
       "      <th></th>\n",
       "      <th>beer_id</th>\n",
       "      <th>beer_name</th>\n",
       "      <th>brewery_id</th>\n",
       "      <th>brewery_name</th>\n",
       "      <th>style</th>\n",
       "      <th>nbr_reviews</th>\n",
       "      <th>nbr_ratings</th>\n",
       "      <th>avg</th>\n",
       "      <th>abv</th>\n",
       "      <th>category</th>\n",
       "    </tr>\n",
       "  </thead>\n",
       "  <tbody>\n",
       "    <tr>\n",
       "      <th>0</th>\n",
       "      <td>166064</td>\n",
       "      <td>Nashe Moskovskoe</td>\n",
       "      <td>39912</td>\n",
       "      <td>Abdysh-Ata (Абдыш Ата)</td>\n",
       "      <td>Euro Pale Lager</td>\n",
       "      <td>0</td>\n",
       "      <td>0</td>\n",
       "      <td>NaN</td>\n",
       "      <td>4.7</td>\n",
       "      <td>Pale Lagers</td>\n",
       "    </tr>\n",
       "    <tr>\n",
       "      <th>1</th>\n",
       "      <td>166065</td>\n",
       "      <td>Nashe Pivovskoe</td>\n",
       "      <td>39912</td>\n",
       "      <td>Abdysh-Ata (Абдыш Ата)</td>\n",
       "      <td>Euro Pale Lager</td>\n",
       "      <td>0</td>\n",
       "      <td>0</td>\n",
       "      <td>NaN</td>\n",
       "      <td>3.8</td>\n",
       "      <td>Pale Lagers</td>\n",
       "    </tr>\n",
       "    <tr>\n",
       "      <th>2</th>\n",
       "      <td>166066</td>\n",
       "      <td>Nashe Shakhterskoe</td>\n",
       "      <td>39912</td>\n",
       "      <td>Abdysh-Ata (Абдыш Ата)</td>\n",
       "      <td>Euro Pale Lager</td>\n",
       "      <td>0</td>\n",
       "      <td>0</td>\n",
       "      <td>NaN</td>\n",
       "      <td>4.8</td>\n",
       "      <td>Pale Lagers</td>\n",
       "    </tr>\n",
       "    <tr>\n",
       "      <th>3</th>\n",
       "      <td>166067</td>\n",
       "      <td>Nashe Zhigulevskoe</td>\n",
       "      <td>39912</td>\n",
       "      <td>Abdysh-Ata (Абдыш Ата)</td>\n",
       "      <td>Euro Pale Lager</td>\n",
       "      <td>0</td>\n",
       "      <td>0</td>\n",
       "      <td>NaN</td>\n",
       "      <td>4.0</td>\n",
       "      <td>Pale Lagers</td>\n",
       "    </tr>\n",
       "    <tr>\n",
       "      <th>4</th>\n",
       "      <td>166063</td>\n",
       "      <td>Zhivoe</td>\n",
       "      <td>39912</td>\n",
       "      <td>Abdysh-Ata (Абдыш Ата)</td>\n",
       "      <td>Euro Pale Lager</td>\n",
       "      <td>0</td>\n",
       "      <td>0</td>\n",
       "      <td>NaN</td>\n",
       "      <td>4.5</td>\n",
       "      <td>Pale Lagers</td>\n",
       "    </tr>\n",
       "    <tr>\n",
       "      <th>...</th>\n",
       "      <td>...</td>\n",
       "      <td>...</td>\n",
       "      <td>...</td>\n",
       "      <td>...</td>\n",
       "      <td>...</td>\n",
       "      <td>...</td>\n",
       "      <td>...</td>\n",
       "      <td>...</td>\n",
       "      <td>...</td>\n",
       "      <td>...</td>\n",
       "    </tr>\n",
       "    <tr>\n",
       "      <th>280818</th>\n",
       "      <td>19139</td>\n",
       "      <td>Kölsch Ale</td>\n",
       "      <td>885</td>\n",
       "      <td>Summit Station Restaurant &amp; Brewery</td>\n",
       "      <td>Kölsch</td>\n",
       "      <td>3</td>\n",
       "      <td>3</td>\n",
       "      <td>2.71</td>\n",
       "      <td>5.0</td>\n",
       "      <td>Pale Ales</td>\n",
       "    </tr>\n",
       "    <tr>\n",
       "      <th>280819</th>\n",
       "      <td>19140</td>\n",
       "      <td>Nut Brown Ale</td>\n",
       "      <td>885</td>\n",
       "      <td>Summit Station Restaurant &amp; Brewery</td>\n",
       "      <td>English Brown Ale</td>\n",
       "      <td>1</td>\n",
       "      <td>2</td>\n",
       "      <td>3.10</td>\n",
       "      <td>5.3</td>\n",
       "      <td>Brown Ales</td>\n",
       "    </tr>\n",
       "    <tr>\n",
       "      <th>280820</th>\n",
       "      <td>19146</td>\n",
       "      <td>Octoberfest</td>\n",
       "      <td>885</td>\n",
       "      <td>Summit Station Restaurant &amp; Brewery</td>\n",
       "      <td>Märzen / Oktoberfest</td>\n",
       "      <td>0</td>\n",
       "      <td>0</td>\n",
       "      <td>NaN</td>\n",
       "      <td>NaN</td>\n",
       "      <td>Pale Lagers</td>\n",
       "    </tr>\n",
       "    <tr>\n",
       "      <th>280821</th>\n",
       "      <td>2805</td>\n",
       "      <td>Scotch Ale</td>\n",
       "      <td>885</td>\n",
       "      <td>Summit Station Restaurant &amp; Brewery</td>\n",
       "      <td>Scotch Ale / Wee Heavy</td>\n",
       "      <td>0</td>\n",
       "      <td>0</td>\n",
       "      <td>NaN</td>\n",
       "      <td>7.0</td>\n",
       "      <td>Strong Ales</td>\n",
       "    </tr>\n",
       "    <tr>\n",
       "      <th>280822</th>\n",
       "      <td>19148</td>\n",
       "      <td>Smoked Porter</td>\n",
       "      <td>885</td>\n",
       "      <td>Summit Station Restaurant &amp; Brewery</td>\n",
       "      <td>American Porter</td>\n",
       "      <td>0</td>\n",
       "      <td>0</td>\n",
       "      <td>NaN</td>\n",
       "      <td>NaN</td>\n",
       "      <td>Porters</td>\n",
       "    </tr>\n",
       "  </tbody>\n",
       "</table>\n",
       "<p>280823 rows × 10 columns</p>\n",
       "</div>"
      ],
      "text/plain": [
       "        beer_id           beer_name  brewery_id  \\\n",
       "0        166064    Nashe Moskovskoe       39912   \n",
       "1        166065     Nashe Pivovskoe       39912   \n",
       "2        166066  Nashe Shakhterskoe       39912   \n",
       "3        166067  Nashe Zhigulevskoe       39912   \n",
       "4        166063              Zhivoe       39912   \n",
       "...         ...                 ...         ...   \n",
       "280818    19139          Kölsch Ale         885   \n",
       "280819    19140       Nut Brown Ale         885   \n",
       "280820    19146         Octoberfest         885   \n",
       "280821     2805          Scotch Ale         885   \n",
       "280822    19148       Smoked Porter         885   \n",
       "\n",
       "                               brewery_name                   style  \\\n",
       "0                    Abdysh-Ata (Абдыш Ата)         Euro Pale Lager   \n",
       "1                    Abdysh-Ata (Абдыш Ата)         Euro Pale Lager   \n",
       "2                    Abdysh-Ata (Абдыш Ата)         Euro Pale Lager   \n",
       "3                    Abdysh-Ata (Абдыш Ата)         Euro Pale Lager   \n",
       "4                    Abdysh-Ata (Абдыш Ата)         Euro Pale Lager   \n",
       "...                                     ...                     ...   \n",
       "280818  Summit Station Restaurant & Brewery                  Kölsch   \n",
       "280819  Summit Station Restaurant & Brewery       English Brown Ale   \n",
       "280820  Summit Station Restaurant & Brewery    Märzen / Oktoberfest   \n",
       "280821  Summit Station Restaurant & Brewery  Scotch Ale / Wee Heavy   \n",
       "280822  Summit Station Restaurant & Brewery         American Porter   \n",
       "\n",
       "        nbr_reviews  nbr_ratings   avg  abv     category  \n",
       "0                 0            0   NaN  4.7  Pale Lagers  \n",
       "1                 0            0   NaN  3.8  Pale Lagers  \n",
       "2                 0            0   NaN  4.8  Pale Lagers  \n",
       "3                 0            0   NaN  4.0  Pale Lagers  \n",
       "4                 0            0   NaN  4.5  Pale Lagers  \n",
       "...             ...          ...   ...  ...          ...  \n",
       "280818            3            3  2.71  5.0    Pale Ales  \n",
       "280819            1            2  3.10  5.3   Brown Ales  \n",
       "280820            0            0   NaN  NaN  Pale Lagers  \n",
       "280821            0            0   NaN  7.0  Strong Ales  \n",
       "280822            0            0   NaN  NaN      Porters  \n",
       "\n",
       "[280823 rows x 10 columns]"
      ]
     },
     "execution_count": 10,
     "metadata": {},
     "output_type": "execute_result"
    }
   ],
   "source": [
    "df_beers"
   ]
  },
  {
   "attachments": {},
   "cell_type": "markdown",
   "metadata": {},
   "source": [
    "# Users and filtering"
   ]
  },
  {
   "cell_type": "code",
   "execution_count": 11,
   "metadata": {
    "cell_id": "a08802bdef7149109203f51bdf1142ce",
    "deepnote_cell_type": "code"
   },
   "outputs": [
    {
     "name": "stdout",
     "output_type": "stream",
     "text": [
      "         nbr_ratings    nbr_reviews        joined\n",
      "count  153704.000000  153704.000000  1.510520e+05\n",
      "mean       54.605163      16.847876  1.357238e+09\n",
      "std       252.388790     139.846706  9.195131e+07\n",
      "min         1.000000       0.000000  8.407944e+08\n",
      "25%         1.000000       0.000000  1.303121e+09\n",
      "50%         3.000000       0.000000  1.391944e+09\n",
      "75%        16.000000       2.000000  1.417691e+09\n",
      "max     12046.000000    8970.000000  1.501495e+09\n"
     ]
    },
    {
     "data": {
      "text/html": [
       "<div>\n",
       "<style scoped>\n",
       "    .dataframe tbody tr th:only-of-type {\n",
       "        vertical-align: middle;\n",
       "    }\n",
       "\n",
       "    .dataframe tbody tr th {\n",
       "        vertical-align: top;\n",
       "    }\n",
       "\n",
       "    .dataframe thead th {\n",
       "        text-align: right;\n",
       "    }\n",
       "</style>\n",
       "<table border=\"1\" class=\"dataframe\">\n",
       "  <thead>\n",
       "    <tr style=\"text-align: right;\">\n",
       "      <th></th>\n",
       "      <th>nbr_ratings</th>\n",
       "      <th>nbr_reviews</th>\n",
       "      <th>user_id</th>\n",
       "      <th>user_name</th>\n",
       "      <th>joined</th>\n",
       "      <th>location</th>\n",
       "    </tr>\n",
       "  </thead>\n",
       "  <tbody>\n",
       "    <tr>\n",
       "      <th>0</th>\n",
       "      <td>7820</td>\n",
       "      <td>465</td>\n",
       "      <td>nmann08.184925</td>\n",
       "      <td>nmann08</td>\n",
       "      <td>1.199704e+09</td>\n",
       "      <td>United States, Washington</td>\n",
       "    </tr>\n",
       "    <tr>\n",
       "      <th>1</th>\n",
       "      <td>2521</td>\n",
       "      <td>2504</td>\n",
       "      <td>stjamesgate.163714</td>\n",
       "      <td>StJamesGate</td>\n",
       "      <td>1.191838e+09</td>\n",
       "      <td>United States, New York</td>\n",
       "    </tr>\n",
       "    <tr>\n",
       "      <th>2</th>\n",
       "      <td>1797</td>\n",
       "      <td>1143</td>\n",
       "      <td>mdagnew.19527</td>\n",
       "      <td>mdagnew</td>\n",
       "      <td>1.116410e+09</td>\n",
       "      <td>Northern Ireland</td>\n",
       "    </tr>\n",
       "    <tr>\n",
       "      <th>3</th>\n",
       "      <td>31</td>\n",
       "      <td>31</td>\n",
       "      <td>helloloser12345.10867</td>\n",
       "      <td>helloloser12345</td>\n",
       "      <td>1.101380e+09</td>\n",
       "      <td>Northern Ireland</td>\n",
       "    </tr>\n",
       "    <tr>\n",
       "      <th>4</th>\n",
       "      <td>604</td>\n",
       "      <td>604</td>\n",
       "      <td>cypressbob.3708</td>\n",
       "      <td>cypressbob</td>\n",
       "      <td>1.069326e+09</td>\n",
       "      <td>Northern Ireland</td>\n",
       "    </tr>\n",
       "  </tbody>\n",
       "</table>\n",
       "</div>"
      ],
      "text/plain": [
       "   nbr_ratings  nbr_reviews                user_id        user_name  \\\n",
       "0         7820          465         nmann08.184925          nmann08   \n",
       "1         2521         2504     stjamesgate.163714      StJamesGate   \n",
       "2         1797         1143          mdagnew.19527          mdagnew   \n",
       "3           31           31  helloloser12345.10867  helloloser12345   \n",
       "4          604          604        cypressbob.3708       cypressbob   \n",
       "\n",
       "         joined                   location  \n",
       "0  1.199704e+09  United States, Washington  \n",
       "1  1.191838e+09    United States, New York  \n",
       "2  1.116410e+09           Northern Ireland  \n",
       "3  1.101380e+09           Northern Ireland  \n",
       "4  1.069326e+09           Northern Ireland  "
      ]
     },
     "execution_count": 11,
     "metadata": {},
     "output_type": "execute_result"
    }
   ],
   "source": [
    "#load the data\n",
    "\n",
    "df_users = pd.read_csv('./data/users.csv')\n",
    "print(df_users.describe())\n",
    "df_users.head(5)"
   ]
  },
  {
   "cell_type": "code",
   "execution_count": 12,
   "metadata": {
    "cell_id": "e9bbb0ea7e39456583d0b6628a387617",
    "deepnote_cell_type": "code"
   },
   "outputs": [
    {
     "name": "stdout",
     "output_type": "stream",
     "text": [
      "There are 113223 US users\n",
      "Cutoff low :  500\n",
      "Cutoff high :  1135.0\n",
      "Number of users left :  2232\n",
      "Total of ratings left :  1652164\n"
     ]
    }
   ],
   "source": [
    "# First user filtering phase \n",
    "\n",
    "# keep users from the USA only & who have made a minimum number of reviews in order to participate in our study\n",
    "\n",
    "df_us_users = df_users[df_users.location.str.contains('United States', na=False)]\n",
    "nb_us_users = df_us_users['user_id'].nunique()\n",
    "print(f\"There are {nb_us_users} US users\")\n",
    "\n",
    "#choose a minimum number of ratings per user, since we want to analyse an evolution!\n",
    "cutoff_low = 500\n",
    "print(\"Cutoff low : \", cutoff_low)\n",
    "\n",
    "#choose a maximum number of ratings per user, we want to filter our super-users or organisations\n",
    "cutoff_high = df_us_users.nbr_ratings.quantile(0.99)\n",
    "print(\"Cutoff high : \", cutoff_high)\n",
    "\n",
    "#create a valid user dataframe and a set with the valid user_names\n",
    "df_us_users = df_us_users[(df_us_users.nbr_ratings < cutoff_high) &\n",
    "                                (df_us_users.nbr_ratings >= cutoff_low)]\n",
    "us_users_names = set(df_us_users.user_name)\n",
    "print(\"Number of users left : \", len(us_users_names))\n",
    "print(\"Total of ratings left : \", df_us_users.nbr_ratings.sum())\n",
    "\n",
    "#convert the 'joined' column into datetime format\n",
    "df_us_users.loc[:,'date_joined'] = pd.to_datetime(df_us_users['joined'].apply(lambda dt : datetime.fromtimestamp(dt).strftime('%Y-%m-%d')))"
   ]
  },
  {
   "cell_type": "code",
   "execution_count": 13,
   "metadata": {},
   "outputs": [],
   "source": [
    "# We now gather some more user information by analyzing their behaviour as a reviewer"
   ]
  },
  {
   "cell_type": "code",
   "execution_count": 14,
   "metadata": {
    "cell_id": "4eb61738f844445ba471cd7668afab43",
    "deepnote_cell_type": "code",
    "deepnote_to_be_reexecuted": false,
    "execution_millis": 5,
    "execution_start": 1668694161680,
    "source_hash": "5f5f7f2d",
    "tags": []
   },
   "outputs": [],
   "source": [
    "def parse(filename):\n",
    "    \"\"\"\n",
    "    Parse a txt.gz file and return a generator for it\n",
    "    Copyright © 2017 Gael Lederrey <gael.lederrey@epfl.ch>\n",
    "    :param filename: name of the file\n",
    "    :return: Generator to go through the file\n",
    "    \"\"\"\n",
    "    file = gzip.open(filename, 'rb')\n",
    "    entry = {}\n",
    "    # Go through all the lines\n",
    "    for line in file:\n",
    "        # Transform the string-bytes into a string\n",
    "        line = line.decode(\"utf-8\").strip()\n",
    "\n",
    "        # We check for a colon in each line\n",
    "        colon_pos = line.find(\":\")\n",
    "        if colon_pos == -1:\n",
    "            # if no, we yield the entry\n",
    "            yield entry\n",
    "            entry = {}\n",
    "            continue\n",
    "        # otherwise, we add the key-value pair to the entry\n",
    "        key = line[:colon_pos]\n",
    "        value = line[colon_pos + 2:]\n",
    "        entry[key] = value"
   ]
  },
  {
   "cell_type": "code",
   "execution_count": 15,
   "metadata": {
    "cell_id": "cb2d5c48750b49048257c318e1a94601",
    "deepnote_cell_type": "code"
   },
   "outputs": [],
   "source": [
    "gen = parse('./data/ratings.txt.gz')"
   ]
  },
  {
   "cell_type": "code",
   "execution_count": 16,
   "metadata": {
    "cell_id": "d885e11d05b34b36931c83ed75198dc4",
    "deepnote_cell_type": "code"
   },
   "outputs": [],
   "source": [
    "#We create the dataframe of the valid us users previously determined\n",
    "\n",
    "create = False\n",
    "\n",
    "if create:\n",
    "    undesired_features = set(['text','review', 'brewery_name', 'brewery_id', 'user_id', 'beer_name'])\n",
    "    full_ratings_ls = []\n",
    "    int_cols = ['beer_id']\n",
    "    float_cols = ['abv','appearance', 'aroma', 'palate', 'taste', 'overall', 'rating']\n",
    "\n",
    "    review = next(gen)\n",
    "    cols = [key for key, _ in review.items() if key not in undesired_features]\n",
    "\n",
    "    for idx, review in enumerate(gen):\n",
    "        user_name = review['user_name']\n",
    "        valid_rows = [value for key, value in review.items() if key not in undesired_features]\n",
    "        if user_name in us_users_names:\n",
    "            full_ratings_ls.append(valid_rows)\n",
    "\n",
    "    df_ratings = pd.DataFrame(full_ratings_ls, columns = cols)\n",
    "\n",
    "    df_ratings[int_cols] = df_ratings[int_cols].astype('int')\n",
    "    df_ratings[float_cols] = df_ratings[float_cols].astype('float') \n",
    "    df_ratings[\"date\"] = pd.to_datetime(df_ratings.date.apply(\n",
    "        lambda date : datetime.fromtimestamp(int(date)).strftime('%Y-%m-%d')\n",
    "    ))\n",
    "\n",
    "    #There is one review in 2000, wich is an outlier\n",
    "    start_date = pd.to_datetime(\"2001-01-01\")\n",
    "    df_ratings = df_ratings.loc[df_ratings['date'] >= start_date]   \n",
    "    df_ratings.to_pickle('./data/ratings_valid_user.pkl')\n",
    "\n",
    "else:\n",
    "    df_ratings = pd.read_pickle('./data/ratings_valid_user.pkl')"
   ]
  },
  {
   "cell_type": "code",
   "execution_count": 17,
   "metadata": {},
   "outputs": [],
   "source": [
    "#add the category of the beer\n",
    "beers_id_cat = df_beers[['beer_id', 'category']]\n",
    "df_ratings = pd.merge(df_ratings, beers_id_cat, on = 'beer_id')\n",
    "\n",
    "#add the rating number, starts at 0\n",
    "df_ratings.sort_values(by = \"date\", inplace=True)\n",
    "df_ratings[\"rating_number\"] = df_ratings.groupby(\"user_name\").transform(\"cumcount\")\n",
    "\n",
    "#we also convert the date to the proper format\n",
    "df_ratings[\"date\"] = pd.to_datetime(df_ratings[\"date\"])"
   ]
  },
  {
   "cell_type": "code",
   "execution_count": 18,
   "metadata": {},
   "outputs": [],
   "source": [
    "#We apply the second of our filters, we only keep the 500 first ratings. (rating number at which you are considered an expert)\n",
    "nb_ratings_expert = 500\n",
    "df_us_ratings = df_ratings[df_ratings[\"rating_number\"] < nb_ratings_expert]"
   ]
  },
  {
   "cell_type": "code",
   "execution_count": 19,
   "metadata": {},
   "outputs": [
    {
     "data": {
      "text/html": [
       "<div>\n",
       "<style scoped>\n",
       "    .dataframe tbody tr th:only-of-type {\n",
       "        vertical-align: middle;\n",
       "    }\n",
       "\n",
       "    .dataframe tbody tr th {\n",
       "        vertical-align: top;\n",
       "    }\n",
       "\n",
       "    .dataframe thead th {\n",
       "        text-align: right;\n",
       "    }\n",
       "</style>\n",
       "<table border=\"1\" class=\"dataframe\">\n",
       "  <thead>\n",
       "    <tr style=\"text-align: right;\">\n",
       "      <th></th>\n",
       "      <th>beer_id</th>\n",
       "      <th>style</th>\n",
       "      <th>abv</th>\n",
       "      <th>date</th>\n",
       "      <th>user_name</th>\n",
       "      <th>appearance</th>\n",
       "      <th>aroma</th>\n",
       "      <th>palate</th>\n",
       "      <th>taste</th>\n",
       "      <th>overall</th>\n",
       "      <th>rating</th>\n",
       "      <th>category</th>\n",
       "      <th>rating_number</th>\n",
       "    </tr>\n",
       "  </thead>\n",
       "  <tbody>\n",
       "    <tr>\n",
       "      <th>1640018</th>\n",
       "      <td>167</td>\n",
       "      <td>Witbier</td>\n",
       "      <td>NaN</td>\n",
       "      <td>2001-03-16</td>\n",
       "      <td>frank4sail</td>\n",
       "      <td>4.5</td>\n",
       "      <td>4.5</td>\n",
       "      <td>4.0</td>\n",
       "      <td>5.0</td>\n",
       "      <td>5.0</td>\n",
       "      <td>4.75</td>\n",
       "      <td>Wheat Beers</td>\n",
       "      <td>0</td>\n",
       "    </tr>\n",
       "    <tr>\n",
       "      <th>311428</th>\n",
       "      <td>3558</td>\n",
       "      <td>Czech Pilsener</td>\n",
       "      <td>5.00</td>\n",
       "      <td>2001-06-18</td>\n",
       "      <td>Mark</td>\n",
       "      <td>4.0</td>\n",
       "      <td>4.0</td>\n",
       "      <td>3.0</td>\n",
       "      <td>4.0</td>\n",
       "      <td>4.0</td>\n",
       "      <td>3.90</td>\n",
       "      <td>Pale Lagers</td>\n",
       "      <td>0</td>\n",
       "    </tr>\n",
       "    <tr>\n",
       "      <th>17313</th>\n",
       "      <td>73</td>\n",
       "      <td>Milk / Sweet Stout</td>\n",
       "      <td>5.20</td>\n",
       "      <td>2001-06-18</td>\n",
       "      <td>Mark</td>\n",
       "      <td>5.0</td>\n",
       "      <td>5.0</td>\n",
       "      <td>5.0</td>\n",
       "      <td>5.0</td>\n",
       "      <td>5.0</td>\n",
       "      <td>5.00</td>\n",
       "      <td>Stouts</td>\n",
       "      <td>1</td>\n",
       "    </tr>\n",
       "    <tr>\n",
       "      <th>136697</th>\n",
       "      <td>261</td>\n",
       "      <td>Vienna Lager</td>\n",
       "      <td>4.48</td>\n",
       "      <td>2001-06-24</td>\n",
       "      <td>Mark</td>\n",
       "      <td>4.0</td>\n",
       "      <td>3.0</td>\n",
       "      <td>3.0</td>\n",
       "      <td>3.0</td>\n",
       "      <td>3.0</td>\n",
       "      <td>3.06</td>\n",
       "      <td>Dark Lagers</td>\n",
       "      <td>2</td>\n",
       "    </tr>\n",
       "    <tr>\n",
       "      <th>442671</th>\n",
       "      <td>87</td>\n",
       "      <td>American Pale Ale (APA)</td>\n",
       "      <td>5.40</td>\n",
       "      <td>2001-06-24</td>\n",
       "      <td>Mark</td>\n",
       "      <td>4.0</td>\n",
       "      <td>4.0</td>\n",
       "      <td>1.0</td>\n",
       "      <td>3.0</td>\n",
       "      <td>3.0</td>\n",
       "      <td>3.10</td>\n",
       "      <td>Pale Ales</td>\n",
       "      <td>3</td>\n",
       "    </tr>\n",
       "  </tbody>\n",
       "</table>\n",
       "</div>"
      ],
      "text/plain": [
       "         beer_id                    style   abv       date   user_name  \\\n",
       "1640018      167                  Witbier   NaN 2001-03-16  frank4sail   \n",
       "311428      3558           Czech Pilsener  5.00 2001-06-18        Mark   \n",
       "17313         73       Milk / Sweet Stout  5.20 2001-06-18        Mark   \n",
       "136697       261             Vienna Lager  4.48 2001-06-24        Mark   \n",
       "442671        87  American Pale Ale (APA)  5.40 2001-06-24        Mark   \n",
       "\n",
       "         appearance  aroma  palate  taste  overall  rating     category  \\\n",
       "1640018         4.5    4.5     4.0    5.0      5.0    4.75  Wheat Beers   \n",
       "311428          4.0    4.0     3.0    4.0      4.0    3.90  Pale Lagers   \n",
       "17313           5.0    5.0     5.0    5.0      5.0    5.00       Stouts   \n",
       "136697          4.0    3.0     3.0    3.0      3.0    3.06  Dark Lagers   \n",
       "442671          4.0    4.0     1.0    3.0      3.0    3.10    Pale Ales   \n",
       "\n",
       "         rating_number  \n",
       "1640018              0  \n",
       "311428               0  \n",
       "17313                1  \n",
       "136697               2  \n",
       "442671               3  "
      ]
     },
     "execution_count": 19,
     "metadata": {},
     "output_type": "execute_result"
    }
   ],
   "source": [
    "df_us_ratings.head(5)"
   ]
  },
  {
   "cell_type": "code",
   "execution_count": 20,
   "metadata": {},
   "outputs": [],
   "source": [
    "#We go back to users and compute on how many different days they were active\n",
    "\n",
    "user_active = df_us_ratings.groupby(['user_name'], as_index = False).date.nunique()\n",
    "user_active.columns = ['user_name', 'active_days']\n",
    "df_us_users = df_us_users.merge(user_active, on = 'user_name')"
   ]
  },
  {
   "cell_type": "code",
   "execution_count": 21,
   "metadata": {},
   "outputs": [
    {
     "data": {
      "text/html": [
       "<div>\n",
       "<style scoped>\n",
       "    .dataframe tbody tr th:only-of-type {\n",
       "        vertical-align: middle;\n",
       "    }\n",
       "\n",
       "    .dataframe tbody tr th {\n",
       "        vertical-align: top;\n",
       "    }\n",
       "\n",
       "    .dataframe thead th {\n",
       "        text-align: right;\n",
       "    }\n",
       "</style>\n",
       "<table border=\"1\" class=\"dataframe\">\n",
       "  <thead>\n",
       "    <tr style=\"text-align: right;\">\n",
       "      <th></th>\n",
       "      <th>nbr_ratings</th>\n",
       "      <th>nbr_reviews</th>\n",
       "      <th>user_id</th>\n",
       "      <th>user_name</th>\n",
       "      <th>joined</th>\n",
       "      <th>location</th>\n",
       "      <th>date_joined</th>\n",
       "      <th>active_days</th>\n",
       "      <th>delta_first_last</th>\n",
       "    </tr>\n",
       "  </thead>\n",
       "  <tbody>\n",
       "    <tr>\n",
       "      <th>0</th>\n",
       "      <td>1131</td>\n",
       "      <td>188</td>\n",
       "      <td>okcnittany.144868</td>\n",
       "      <td>OKCNittany</td>\n",
       "      <td>1.182766e+09</td>\n",
       "      <td>United States, Oklahoma</td>\n",
       "      <td>2007-06-25</td>\n",
       "      <td>187</td>\n",
       "      <td>2397</td>\n",
       "    </tr>\n",
       "    <tr>\n",
       "      <th>1</th>\n",
       "      <td>732</td>\n",
       "      <td>14</td>\n",
       "      <td>byofb.537281</td>\n",
       "      <td>BYOFB</td>\n",
       "      <td>1.292065e+09</td>\n",
       "      <td>United States, Wisconsin</td>\n",
       "      <td>2010-12-11</td>\n",
       "      <td>32</td>\n",
       "      <td>756</td>\n",
       "    </tr>\n",
       "    <tr>\n",
       "      <th>2</th>\n",
       "      <td>585</td>\n",
       "      <td>389</td>\n",
       "      <td>ferrari29.320392</td>\n",
       "      <td>ferrari29</td>\n",
       "      <td>1.239790e+09</td>\n",
       "      <td>United States, Illinois</td>\n",
       "      <td>2009-04-15</td>\n",
       "      <td>202</td>\n",
       "      <td>1193</td>\n",
       "    </tr>\n",
       "    <tr>\n",
       "      <th>3</th>\n",
       "      <td>1078</td>\n",
       "      <td>10</td>\n",
       "      <td>colsanders123.545441</td>\n",
       "      <td>ColSanders123</td>\n",
       "      <td>1.293620e+09</td>\n",
       "      <td>United States, Georgia</td>\n",
       "      <td>2010-12-29</td>\n",
       "      <td>135</td>\n",
       "      <td>1077</td>\n",
       "    </tr>\n",
       "    <tr>\n",
       "      <th>4</th>\n",
       "      <td>914</td>\n",
       "      <td>890</td>\n",
       "      <td>jays2629.517433</td>\n",
       "      <td>JayS2629</td>\n",
       "      <td>1.287828e+09</td>\n",
       "      <td>United States, Alabama</td>\n",
       "      <td>2010-10-23</td>\n",
       "      <td>101</td>\n",
       "      <td>244</td>\n",
       "    </tr>\n",
       "    <tr>\n",
       "      <th>...</th>\n",
       "      <td>...</td>\n",
       "      <td>...</td>\n",
       "      <td>...</td>\n",
       "      <td>...</td>\n",
       "      <td>...</td>\n",
       "      <td>...</td>\n",
       "      <td>...</td>\n",
       "      <td>...</td>\n",
       "      <td>...</td>\n",
       "    </tr>\n",
       "    <tr>\n",
       "      <th>2227</th>\n",
       "      <td>548</td>\n",
       "      <td>21</td>\n",
       "      <td>crafteyedoc.675112</td>\n",
       "      <td>CraftEyeDoc</td>\n",
       "      <td>1.336039e+09</td>\n",
       "      <td>United States, North Carolina</td>\n",
       "      <td>2012-05-03</td>\n",
       "      <td>143</td>\n",
       "      <td>970</td>\n",
       "    </tr>\n",
       "    <tr>\n",
       "      <th>2228</th>\n",
       "      <td>630</td>\n",
       "      <td>23</td>\n",
       "      <td>pmoney.592770</td>\n",
       "      <td>pmoney</td>\n",
       "      <td>1.302862e+09</td>\n",
       "      <td>United States, Illinois</td>\n",
       "      <td>2011-04-15</td>\n",
       "      <td>132</td>\n",
       "      <td>854</td>\n",
       "    </tr>\n",
       "    <tr>\n",
       "      <th>2229</th>\n",
       "      <td>637</td>\n",
       "      <td>48</td>\n",
       "      <td>aleckpa.541457</td>\n",
       "      <td>aleckpa</td>\n",
       "      <td>1.292843e+09</td>\n",
       "      <td>United States, North Carolina</td>\n",
       "      <td>2010-12-20</td>\n",
       "      <td>275</td>\n",
       "      <td>1853</td>\n",
       "    </tr>\n",
       "    <tr>\n",
       "      <th>2230</th>\n",
       "      <td>1117</td>\n",
       "      <td>4</td>\n",
       "      <td>dinoblueshoes.607196</td>\n",
       "      <td>DinoBlueShoes</td>\n",
       "      <td>1.309342e+09</td>\n",
       "      <td>United States, Maine</td>\n",
       "      <td>2011-06-29</td>\n",
       "      <td>196</td>\n",
       "      <td>1047</td>\n",
       "    </tr>\n",
       "    <tr>\n",
       "      <th>2231</th>\n",
       "      <td>550</td>\n",
       "      <td>0</td>\n",
       "      <td>mikerieder.227228</td>\n",
       "      <td>mikerieder</td>\n",
       "      <td>1.213265e+09</td>\n",
       "      <td>United States, South Dakota</td>\n",
       "      <td>2008-06-12</td>\n",
       "      <td>95</td>\n",
       "      <td>1044</td>\n",
       "    </tr>\n",
       "  </tbody>\n",
       "</table>\n",
       "<p>2232 rows × 9 columns</p>\n",
       "</div>"
      ],
      "text/plain": [
       "      nbr_ratings  nbr_reviews               user_id      user_name  \\\n",
       "0            1131          188     okcnittany.144868     OKCNittany   \n",
       "1             732           14          byofb.537281          BYOFB   \n",
       "2             585          389      ferrari29.320392      ferrari29   \n",
       "3            1078           10  colsanders123.545441  ColSanders123   \n",
       "4             914          890       jays2629.517433       JayS2629   \n",
       "...           ...          ...                   ...            ...   \n",
       "2227          548           21    crafteyedoc.675112    CraftEyeDoc   \n",
       "2228          630           23         pmoney.592770         pmoney   \n",
       "2229          637           48        aleckpa.541457        aleckpa   \n",
       "2230         1117            4  dinoblueshoes.607196  DinoBlueShoes   \n",
       "2231          550            0     mikerieder.227228     mikerieder   \n",
       "\n",
       "            joined                       location date_joined  active_days  \\\n",
       "0     1.182766e+09        United States, Oklahoma  2007-06-25          187   \n",
       "1     1.292065e+09       United States, Wisconsin  2010-12-11           32   \n",
       "2     1.239790e+09        United States, Illinois  2009-04-15          202   \n",
       "3     1.293620e+09         United States, Georgia  2010-12-29          135   \n",
       "4     1.287828e+09         United States, Alabama  2010-10-23          101   \n",
       "...            ...                            ...         ...          ...   \n",
       "2227  1.336039e+09  United States, North Carolina  2012-05-03          143   \n",
       "2228  1.302862e+09        United States, Illinois  2011-04-15          132   \n",
       "2229  1.292843e+09  United States, North Carolina  2010-12-20          275   \n",
       "2230  1.309342e+09           United States, Maine  2011-06-29          196   \n",
       "2231  1.213265e+09    United States, South Dakota  2008-06-12           95   \n",
       "\n",
       "      delta_first_last  \n",
       "0                 2397  \n",
       "1                  756  \n",
       "2                 1193  \n",
       "3                 1077  \n",
       "4                  244  \n",
       "...                ...  \n",
       "2227               970  \n",
       "2228               854  \n",
       "2229              1853  \n",
       "2230              1047  \n",
       "2231              1044  \n",
       "\n",
       "[2232 rows x 9 columns]"
      ]
     },
     "execution_count": 21,
     "metadata": {},
     "output_type": "execute_result"
    }
   ],
   "source": [
    "# We compute how long it took them to submit the 500 ratings\n",
    "user_delta = df_us_ratings.groupby('user_name', as_index = False).apply(lambda usr: (usr.date.max() - usr.date.min()).days)\n",
    "user_delta.columns = ['user_name', 'delta_first_last']\n",
    "df_us_users = df_us_users.merge(user_delta, on = 'user_name')\n",
    "df_us_users"
   ]
  },
  {
   "cell_type": "code",
   "execution_count": 22,
   "metadata": {},
   "outputs": [],
   "source": [
    "# We compute the maximum number of ratings the user has done in a single day\n",
    "\n",
    "user_day = df_us_ratings[['user_name','date']].groupby([\"user_name\", pd.Grouper(freq = \"D\", key=\"date\")], as_index = False).size()\n",
    "user_day = user_day.groupby('user_name', as_index = False).apply(lambda usr : max(usr['size']))\n",
    "user_day.columns = ['user_name', 'max_active_day']\n",
    "df_us_users = df_us_users.merge(user_day, on = 'user_name')"
   ]
  },
  {
   "cell_type": "code",
   "execution_count": 23,
   "metadata": {},
   "outputs": [],
   "source": [
    "# We compute the maximum number of ratings the user has done in a single month\n",
    "\n",
    "user_month = df_us_ratings[['user_name','date']].groupby([\"user_name\", pd.Grouper(freq = \"M\", key=\"date\")], as_index = False).size()\n",
    "user_month = user_month.groupby('user_name', as_index = False).apply(lambda usr : max(usr['size']))\n",
    "user_month.columns = ['user_name', 'max_active_month']\n",
    "df_us_users = df_us_users.merge(user_month, on = 'user_name') "
   ]
  },
  {
   "cell_type": "code",
   "execution_count": 24,
   "metadata": {},
   "outputs": [],
   "source": [
    "# We also want to know how much time the users took for submitting different number of ratings.\n",
    "\n",
    "def compute_diff_date(user):\n",
    "    diff = {}\n",
    "    day = 50\n",
    "    diff[str(day)] = (user[user[\"rating_number\"] == day-1][\"date\"].item() -\\\n",
    "                         user[user[\"rating_number\"] == 0][\"date\"].item()).days\n",
    "    return pd.Series(diff)"
   ]
  },
  {
   "cell_type": "code",
   "execution_count": 25,
   "metadata": {},
   "outputs": [],
   "source": [
    "def compute_diff_date_last(user):\n",
    "    diff = {}\n",
    "    day = 450\n",
    "    diff[str(day)] = (user[user[\"rating_number\"] == 500-1][\"date\"].item() -\\\n",
    "                         user[user[\"rating_number\"] == day][\"date\"].item()).days\n",
    "    return pd.Series(diff)"
   ]
  },
  {
   "cell_type": "code",
   "execution_count": 26,
   "metadata": {},
   "outputs": [],
   "source": [
    "# We focus on the 10% first reviews (more justification)\n",
    "user_deltas_0_50 = df_us_ratings.groupby('user_name', as_index = False).apply(compute_diff_date)\n",
    "df_us_users = df_us_users.merge(user_deltas_0_50, on = 'user_name')"
   ]
  },
  {
   "cell_type": "code",
   "execution_count": 27,
   "metadata": {},
   "outputs": [],
   "source": [
    "# We focus on the 10% last reviews (more justification)\n",
    "user_deltas_450_500 = df_us_ratings.groupby('user_name', as_index = False).apply(compute_diff_date_last)\n",
    "df_us_users = df_us_users.merge(user_deltas_450_500, on = 'user_name')"
   ]
  },
  {
   "cell_type": "code",
   "execution_count": 28,
   "metadata": {},
   "outputs": [
    {
     "data": {
      "text/html": [
       "<div>\n",
       "<style scoped>\n",
       "    .dataframe tbody tr th:only-of-type {\n",
       "        vertical-align: middle;\n",
       "    }\n",
       "\n",
       "    .dataframe tbody tr th {\n",
       "        vertical-align: top;\n",
       "    }\n",
       "\n",
       "    .dataframe thead th {\n",
       "        text-align: right;\n",
       "    }\n",
       "</style>\n",
       "<table border=\"1\" class=\"dataframe\">\n",
       "  <thead>\n",
       "    <tr style=\"text-align: right;\">\n",
       "      <th></th>\n",
       "      <th>nbr_ratings</th>\n",
       "      <th>nbr_reviews</th>\n",
       "      <th>user_id</th>\n",
       "      <th>user_name</th>\n",
       "      <th>joined</th>\n",
       "      <th>location</th>\n",
       "      <th>date_joined</th>\n",
       "      <th>active_days</th>\n",
       "      <th>delta_first_last</th>\n",
       "      <th>max_active_day</th>\n",
       "      <th>max_active_month</th>\n",
       "      <th>50</th>\n",
       "      <th>450</th>\n",
       "    </tr>\n",
       "  </thead>\n",
       "  <tbody>\n",
       "    <tr>\n",
       "      <th>0</th>\n",
       "      <td>1131</td>\n",
       "      <td>188</td>\n",
       "      <td>okcnittany.144868</td>\n",
       "      <td>OKCNittany</td>\n",
       "      <td>1.182766e+09</td>\n",
       "      <td>United States, Oklahoma</td>\n",
       "      <td>2007-06-25</td>\n",
       "      <td>187</td>\n",
       "      <td>2397</td>\n",
       "      <td>11</td>\n",
       "      <td>91</td>\n",
       "      <td>45</td>\n",
       "      <td>16</td>\n",
       "    </tr>\n",
       "    <tr>\n",
       "      <th>1</th>\n",
       "      <td>732</td>\n",
       "      <td>14</td>\n",
       "      <td>byofb.537281</td>\n",
       "      <td>BYOFB</td>\n",
       "      <td>1.292065e+09</td>\n",
       "      <td>United States, Wisconsin</td>\n",
       "      <td>2010-12-11</td>\n",
       "      <td>32</td>\n",
       "      <td>756</td>\n",
       "      <td>232</td>\n",
       "      <td>273</td>\n",
       "      <td>447</td>\n",
       "      <td>146</td>\n",
       "    </tr>\n",
       "    <tr>\n",
       "      <th>2</th>\n",
       "      <td>585</td>\n",
       "      <td>389</td>\n",
       "      <td>ferrari29.320392</td>\n",
       "      <td>ferrari29</td>\n",
       "      <td>1.239790e+09</td>\n",
       "      <td>United States, Illinois</td>\n",
       "      <td>2009-04-15</td>\n",
       "      <td>202</td>\n",
       "      <td>1193</td>\n",
       "      <td>12</td>\n",
       "      <td>42</td>\n",
       "      <td>64</td>\n",
       "      <td>335</td>\n",
       "    </tr>\n",
       "    <tr>\n",
       "      <th>3</th>\n",
       "      <td>1078</td>\n",
       "      <td>10</td>\n",
       "      <td>colsanders123.545441</td>\n",
       "      <td>ColSanders123</td>\n",
       "      <td>1.293620e+09</td>\n",
       "      <td>United States, Georgia</td>\n",
       "      <td>2010-12-29</td>\n",
       "      <td>135</td>\n",
       "      <td>1077</td>\n",
       "      <td>238</td>\n",
       "      <td>247</td>\n",
       "      <td>254</td>\n",
       "      <td>159</td>\n",
       "    </tr>\n",
       "    <tr>\n",
       "      <th>4</th>\n",
       "      <td>914</td>\n",
       "      <td>890</td>\n",
       "      <td>jays2629.517433</td>\n",
       "      <td>JayS2629</td>\n",
       "      <td>1.287828e+09</td>\n",
       "      <td>United States, Alabama</td>\n",
       "      <td>2010-10-23</td>\n",
       "      <td>101</td>\n",
       "      <td>244</td>\n",
       "      <td>20</td>\n",
       "      <td>103</td>\n",
       "      <td>21</td>\n",
       "      <td>15</td>\n",
       "    </tr>\n",
       "  </tbody>\n",
       "</table>\n",
       "</div>"
      ],
      "text/plain": [
       "   nbr_ratings  nbr_reviews               user_id      user_name  \\\n",
       "0         1131          188     okcnittany.144868     OKCNittany   \n",
       "1          732           14          byofb.537281          BYOFB   \n",
       "2          585          389      ferrari29.320392      ferrari29   \n",
       "3         1078           10  colsanders123.545441  ColSanders123   \n",
       "4          914          890       jays2629.517433       JayS2629   \n",
       "\n",
       "         joined                  location date_joined  active_days  \\\n",
       "0  1.182766e+09   United States, Oklahoma  2007-06-25          187   \n",
       "1  1.292065e+09  United States, Wisconsin  2010-12-11           32   \n",
       "2  1.239790e+09   United States, Illinois  2009-04-15          202   \n",
       "3  1.293620e+09    United States, Georgia  2010-12-29          135   \n",
       "4  1.287828e+09    United States, Alabama  2010-10-23          101   \n",
       "\n",
       "   delta_first_last  max_active_day  max_active_month   50  450  \n",
       "0              2397              11                91   45   16  \n",
       "1               756             232               273  447  146  \n",
       "2              1193              12                42   64  335  \n",
       "3              1077             238               247  254  159  \n",
       "4               244              20               103   21   15  "
      ]
     },
     "execution_count": 28,
     "metadata": {},
     "output_type": "execute_result"
    }
   ],
   "source": [
    "df_us_users.head(5)"
   ]
  },
  {
   "cell_type": "code",
   "execution_count": 29,
   "metadata": {},
   "outputs": [],
   "source": [
    "# We now have a lot more information about the reviewing behaviour of our us users\n",
    "# We proceed with some more filtering to get the final set of users on which we will conduct our study.\n",
    "\n",
    "# Minimum number of active days required:\n",
    "min_active_days = 100\n",
    "df_valid_users = df_us_users[df_us_users['active_days'] >= min_active_days]\n",
    "\n",
    "# How many days needed to submit their 500 ratings:\n",
    "min_delta = 365\n",
    "max_delta = 7*365\n",
    "df_valid_users = df_valid_users[(df_valid_users['delta_first_last'] > min_delta) & (df_valid_users['delta_first_last'] < max_delta)]\n",
    "# Maximum number of reviews in a single day: \n",
    "# On utilise pas pour le moment\n",
    "max_per_day = 70\n",
    "\n",
    "#df_valid_users = df_valid_users[df_valid_users['max_active_day'] < 70]\n",
    "# Maximum number of reviews in a single month:\n",
    "max_per_month = 70\n",
    "df_valid_users = df_valid_users[df_valid_users['max_active_month'] <= max_per_month]"
   ]
  },
  {
   "cell_type": "code",
   "execution_count": 30,
   "metadata": {},
   "outputs": [],
   "source": [
    "# To make the people more similar at the beginning and the end of their ratings career, \n",
    "# we decide to apply a last filter on the users"
   ]
  },
  {
   "cell_type": "code",
   "execution_count": 31,
   "metadata": {},
   "outputs": [
    {
     "data": {
      "text/html": [
       "<div>\n",
       "<style scoped>\n",
       "    .dataframe tbody tr th:only-of-type {\n",
       "        vertical-align: middle;\n",
       "    }\n",
       "\n",
       "    .dataframe tbody tr th {\n",
       "        vertical-align: top;\n",
       "    }\n",
       "\n",
       "    .dataframe thead th {\n",
       "        text-align: right;\n",
       "    }\n",
       "</style>\n",
       "<table border=\"1\" class=\"dataframe\">\n",
       "  <thead>\n",
       "    <tr style=\"text-align: right;\">\n",
       "      <th></th>\n",
       "      <th>nbr_ratings</th>\n",
       "      <th>nbr_reviews</th>\n",
       "      <th>user_id</th>\n",
       "      <th>user_name</th>\n",
       "      <th>joined</th>\n",
       "      <th>location</th>\n",
       "      <th>date_joined</th>\n",
       "      <th>active_days</th>\n",
       "      <th>delta_first_last</th>\n",
       "      <th>max_active_day</th>\n",
       "      <th>max_active_month</th>\n",
       "      <th>50</th>\n",
       "      <th>450</th>\n",
       "    </tr>\n",
       "  </thead>\n",
       "  <tbody>\n",
       "    <tr>\n",
       "      <th>2</th>\n",
       "      <td>585</td>\n",
       "      <td>389</td>\n",
       "      <td>ferrari29.320392</td>\n",
       "      <td>ferrari29</td>\n",
       "      <td>1.239790e+09</td>\n",
       "      <td>United States, Illinois</td>\n",
       "      <td>2009-04-15</td>\n",
       "      <td>202</td>\n",
       "      <td>1193</td>\n",
       "      <td>12</td>\n",
       "      <td>42</td>\n",
       "      <td>64</td>\n",
       "      <td>335</td>\n",
       "    </tr>\n",
       "    <tr>\n",
       "      <th>5</th>\n",
       "      <td>676</td>\n",
       "      <td>676</td>\n",
       "      <td>dodo2step.110880</td>\n",
       "      <td>Dodo2step</td>\n",
       "      <td>1.165576e+09</td>\n",
       "      <td>United States, Pennsylvania</td>\n",
       "      <td>2006-12-08</td>\n",
       "      <td>411</td>\n",
       "      <td>2153</td>\n",
       "      <td>13</td>\n",
       "      <td>28</td>\n",
       "      <td>45</td>\n",
       "      <td>442</td>\n",
       "    </tr>\n",
       "    <tr>\n",
       "      <th>7</th>\n",
       "      <td>653</td>\n",
       "      <td>651</td>\n",
       "      <td>kadonny.156863</td>\n",
       "      <td>Kadonny</td>\n",
       "      <td>1.188986e+09</td>\n",
       "      <td>United States, Pennsylvania</td>\n",
       "      <td>2007-09-05</td>\n",
       "      <td>357</td>\n",
       "      <td>1800</td>\n",
       "      <td>5</td>\n",
       "      <td>22</td>\n",
       "      <td>249</td>\n",
       "      <td>263</td>\n",
       "    </tr>\n",
       "    <tr>\n",
       "      <th>8</th>\n",
       "      <td>748</td>\n",
       "      <td>748</td>\n",
       "      <td>biggred1.206640</td>\n",
       "      <td>biggred1</td>\n",
       "      <td>1.206616e+09</td>\n",
       "      <td>United States, Indiana</td>\n",
       "      <td>2008-03-27</td>\n",
       "      <td>318</td>\n",
       "      <td>819</td>\n",
       "      <td>5</td>\n",
       "      <td>37</td>\n",
       "      <td>102</td>\n",
       "      <td>69</td>\n",
       "    </tr>\n",
       "    <tr>\n",
       "      <th>9</th>\n",
       "      <td>546</td>\n",
       "      <td>484</td>\n",
       "      <td>brownbeer.220672</td>\n",
       "      <td>brownbeer</td>\n",
       "      <td>1.211105e+09</td>\n",
       "      <td>United States, Missouri</td>\n",
       "      <td>2008-05-18</td>\n",
       "      <td>143</td>\n",
       "      <td>1815</td>\n",
       "      <td>17</td>\n",
       "      <td>62</td>\n",
       "      <td>204</td>\n",
       "      <td>1302</td>\n",
       "    </tr>\n",
       "  </tbody>\n",
       "</table>\n",
       "</div>"
      ],
      "text/plain": [
       "   nbr_ratings  nbr_reviews           user_id  user_name        joined  \\\n",
       "2          585          389  ferrari29.320392  ferrari29  1.239790e+09   \n",
       "5          676          676  dodo2step.110880  Dodo2step  1.165576e+09   \n",
       "7          653          651    kadonny.156863    Kadonny  1.188986e+09   \n",
       "8          748          748   biggred1.206640   biggred1  1.206616e+09   \n",
       "9          546          484  brownbeer.220672  brownbeer  1.211105e+09   \n",
       "\n",
       "                      location date_joined  active_days  delta_first_last  \\\n",
       "2      United States, Illinois  2009-04-15          202              1193   \n",
       "5  United States, Pennsylvania  2006-12-08          411              2153   \n",
       "7  United States, Pennsylvania  2007-09-05          357              1800   \n",
       "8       United States, Indiana  2008-03-27          318               819   \n",
       "9      United States, Missouri  2008-05-18          143              1815   \n",
       "\n",
       "   max_active_day  max_active_month   50   450  \n",
       "2              12                42   64   335  \n",
       "5              13                28   45   442  \n",
       "7               5                22  249   263  \n",
       "8               5                37  102    69  \n",
       "9              17                62  204  1302  "
      ]
     },
     "execution_count": 31,
     "metadata": {},
     "output_type": "execute_result"
    }
   ],
   "source": [
    "df_valid_users.head(5)"
   ]
  },
  {
   "cell_type": "code",
   "execution_count": 32,
   "metadata": {},
   "outputs": [
    {
     "data": {
      "application/vnd.plotly.v1+json": {
       "config": {
        "plotlyServerURL": "https://plot.ly"
       },
       "data": [
        {
         "hovertemplate": "x=%{x}<br>50=%{y}<extra></extra>",
         "legendgroup": "",
         "line": {
          "color": "#636efa",
          "dash": "solid"
         },
         "marker": {
          "symbol": "circle"
         },
         "mode": "lines",
         "name": "",
         "showlegend": false,
         "type": "scattergl",
         "x": [
          0,
          1,
          2,
          3,
          4,
          5,
          6,
          7,
          8,
          9,
          10,
          11,
          12,
          13,
          14,
          15,
          16,
          17,
          18,
          19,
          20,
          21,
          22,
          23,
          24,
          25,
          26,
          27,
          28,
          29,
          30,
          31,
          32,
          33,
          34,
          35,
          36,
          37,
          38,
          39,
          40,
          41,
          42,
          43,
          44,
          45,
          46,
          47,
          48,
          49,
          50,
          51,
          52,
          53,
          54,
          55,
          56,
          57,
          58,
          59,
          60,
          61,
          62,
          63,
          64,
          65,
          66,
          67,
          68,
          69,
          70,
          71,
          72,
          73,
          74,
          75,
          76,
          77,
          78,
          79,
          80,
          81,
          82,
          83,
          84,
          85,
          86,
          87,
          88,
          89,
          90,
          91,
          92,
          93,
          94,
          95,
          96,
          97,
          98,
          99,
          100,
          101,
          102,
          103,
          104,
          105,
          106,
          107,
          108,
          109,
          110,
          111,
          112,
          113,
          114,
          115,
          116,
          117,
          118,
          119,
          120,
          121,
          122,
          123,
          124,
          125,
          126,
          127,
          128,
          129,
          130,
          131,
          132,
          133,
          134,
          135,
          136,
          137,
          138,
          139,
          140,
          141,
          142,
          143,
          144,
          145,
          146,
          147,
          148,
          149,
          150,
          151,
          152,
          153,
          154,
          155,
          156,
          157,
          158,
          159,
          160,
          161,
          162,
          163,
          164,
          165,
          166,
          167,
          168,
          169,
          170,
          171,
          172,
          173,
          174,
          175,
          176,
          177,
          178,
          179,
          180,
          181,
          182,
          183,
          184,
          185,
          186,
          187,
          188,
          189,
          190,
          191,
          192,
          193,
          194,
          195,
          196,
          197,
          198,
          199,
          200,
          201,
          202,
          203,
          204,
          205,
          206,
          207,
          208,
          209,
          210,
          211,
          212,
          213,
          214,
          215,
          216,
          217,
          218,
          219,
          220,
          221,
          222,
          223,
          224,
          225,
          226,
          227,
          228,
          229,
          230,
          231,
          232,
          233,
          234,
          235,
          236,
          237,
          238,
          239,
          240,
          241,
          242,
          243,
          244,
          245,
          246,
          247,
          248,
          249,
          250,
          251,
          252,
          253,
          254,
          255,
          256,
          257,
          258,
          259,
          260,
          261,
          262,
          263,
          264,
          265,
          266,
          267,
          268,
          269,
          270,
          271,
          272,
          273,
          274,
          275,
          276,
          277,
          278,
          279,
          280,
          281,
          282,
          283,
          284,
          285,
          286,
          287,
          288,
          289,
          290,
          291,
          292,
          293,
          294,
          295,
          296,
          297,
          298,
          299,
          300,
          301,
          302,
          303,
          304,
          305,
          306,
          307,
          308,
          309,
          310,
          311,
          312,
          313,
          314,
          315,
          316,
          317,
          318,
          319,
          320,
          321,
          322,
          323,
          324,
          325,
          326,
          327,
          328,
          329,
          330,
          331,
          332,
          333,
          334,
          335,
          336,
          337,
          338,
          339,
          340,
          341,
          342,
          343,
          344,
          345,
          346,
          347,
          348,
          349,
          350,
          351,
          352,
          353,
          354,
          355,
          356,
          357,
          358,
          359,
          360,
          361,
          362,
          363,
          364,
          365,
          366,
          367,
          368,
          369,
          370,
          371,
          372,
          373,
          374,
          375,
          376,
          377,
          378,
          379,
          380,
          381,
          382,
          383,
          384,
          385,
          386,
          387,
          388,
          389,
          390,
          391,
          392,
          393,
          394,
          395,
          396,
          397,
          398,
          399,
          400,
          401,
          402,
          403,
          404,
          405,
          406,
          407,
          408,
          409,
          410,
          411,
          412,
          413,
          414,
          415,
          416,
          417,
          418,
          419,
          420,
          421,
          422,
          423,
          424,
          425,
          426,
          427,
          428,
          429,
          430,
          431,
          432,
          433,
          434,
          435,
          436,
          437,
          438,
          439,
          440,
          441,
          442,
          443,
          444,
          445,
          446,
          447,
          448,
          449,
          450,
          451,
          452,
          453,
          454,
          455,
          456,
          457,
          458,
          459,
          460,
          461,
          462,
          463,
          464,
          465,
          466,
          467,
          468,
          469,
          470,
          471,
          472,
          473,
          474,
          475,
          476,
          477,
          478,
          479,
          480,
          481,
          482,
          483,
          484,
          485,
          486,
          487,
          488,
          489,
          490,
          491,
          492,
          493,
          494,
          495,
          496,
          497,
          498,
          499,
          500,
          501,
          502,
          503,
          504,
          505,
          506,
          507,
          508,
          509,
          510,
          511,
          512,
          513,
          514,
          515,
          516,
          517,
          518,
          519,
          520,
          521,
          522,
          523,
          524,
          525,
          526,
          527,
          528,
          529,
          530,
          531,
          532,
          533,
          534,
          535,
          536,
          537,
          538,
          539,
          540,
          541,
          542,
          543,
          544,
          545,
          546,
          547,
          548,
          549,
          550,
          551,
          552,
          553,
          554,
          555,
          556,
          557,
          558,
          559,
          560,
          561,
          562,
          563,
          564,
          565,
          566,
          567,
          568,
          569,
          570,
          571,
          572,
          573,
          574,
          575,
          576,
          577,
          578,
          579,
          580,
          581,
          582,
          583,
          584,
          585,
          586,
          587,
          588,
          589,
          590,
          591,
          592,
          593,
          594,
          595,
          596,
          597,
          598,
          599,
          600,
          601,
          602,
          603,
          604,
          605,
          606,
          607,
          608,
          609,
          610,
          611,
          612,
          613,
          614,
          615,
          616,
          617,
          618,
          619,
          620,
          621,
          622,
          623,
          624,
          625,
          626,
          627,
          628,
          629,
          630,
          631,
          632,
          633,
          634,
          635,
          636,
          637,
          638,
          639,
          640,
          641,
          642,
          643,
          644,
          645,
          646,
          647,
          648,
          649,
          650,
          651,
          652,
          653,
          654,
          655,
          656,
          657,
          658,
          659,
          660,
          661,
          662,
          663,
          664,
          665,
          666,
          667,
          668,
          669,
          670,
          671,
          672,
          673,
          674,
          675,
          676,
          677,
          678,
          679,
          680,
          681,
          682,
          683,
          684,
          685,
          686,
          687,
          688,
          689,
          690,
          691,
          692,
          693,
          694,
          695,
          696,
          697,
          698,
          699,
          700,
          701,
          702,
          703,
          704,
          705,
          706,
          707,
          708,
          709,
          710,
          711,
          712,
          713,
          714,
          715,
          716,
          717,
          718,
          719,
          720,
          721,
          722,
          723,
          724,
          725,
          726,
          727,
          728,
          729,
          730,
          731,
          732,
          733,
          734,
          735,
          736,
          737,
          738,
          739,
          740,
          741,
          742,
          743,
          744,
          745,
          746,
          747,
          748,
          749,
          750,
          751,
          752,
          753,
          754,
          755,
          756,
          757,
          758,
          759,
          760,
          761,
          762,
          763,
          764,
          765,
          766,
          767,
          768,
          769,
          770,
          771,
          772,
          773,
          774,
          775,
          776,
          777,
          778,
          779,
          780,
          781,
          782,
          783,
          784,
          785,
          786,
          787,
          788,
          789,
          790,
          791,
          792,
          793,
          794,
          795,
          796,
          797,
          798,
          799,
          800,
          801,
          802,
          803,
          804,
          805,
          806,
          807,
          808,
          809,
          810,
          811,
          812,
          813,
          814,
          815,
          816,
          817,
          818,
          819,
          820,
          821,
          822,
          823,
          824,
          825,
          826,
          827,
          828,
          829,
          830,
          831,
          832,
          833,
          834,
          835,
          836,
          837,
          838,
          839,
          840,
          841,
          842,
          843,
          844,
          845,
          846,
          847,
          848,
          849,
          850,
          851,
          852,
          853,
          854,
          855,
          856,
          857,
          858,
          859,
          860,
          861,
          862,
          863,
          864,
          865,
          866,
          867,
          868,
          869,
          870,
          871,
          872,
          873,
          874,
          875,
          876,
          877,
          878,
          879,
          880,
          881,
          882,
          883,
          884,
          885,
          886,
          887,
          888,
          889,
          890,
          891,
          892,
          893,
          894,
          895,
          896,
          897,
          898,
          899,
          900,
          901,
          902,
          903,
          904,
          905,
          906,
          907,
          908,
          909,
          910,
          911,
          912,
          913,
          914,
          915,
          916,
          917,
          918,
          919,
          920,
          921,
          922,
          923,
          924,
          925,
          926,
          927,
          928,
          929,
          930,
          931,
          932,
          933,
          934,
          935,
          936,
          937,
          938,
          939,
          940,
          941,
          942,
          943,
          944,
          945,
          946,
          947,
          948,
          949,
          950,
          951,
          952,
          953,
          954,
          955,
          956,
          957,
          958,
          959,
          960,
          961,
          962,
          963,
          964,
          965,
          966,
          967,
          968,
          969,
          970,
          971,
          972,
          973,
          974,
          975,
          976,
          977,
          978,
          979,
          980,
          981,
          982,
          983,
          984,
          985,
          986,
          987,
          988,
          989,
          990,
          991,
          992,
          993,
          994,
          995,
          996,
          997,
          998,
          999,
          1000,
          1001,
          1002,
          1003,
          1004,
          1005,
          1006,
          1007,
          1008,
          1009,
          1010,
          1011,
          1012,
          1013,
          1014,
          1015,
          1016,
          1017,
          1018,
          1019,
          1020,
          1021,
          1022,
          1023,
          1024,
          1025,
          1026,
          1027,
          1028,
          1029,
          1030,
          1031,
          1032,
          1033,
          1034,
          1035,
          1036,
          1037,
          1038,
          1039,
          1040,
          1041,
          1042,
          1043,
          1044,
          1045,
          1046,
          1047,
          1048,
          1049,
          1050
         ],
         "xaxis": "x",
         "y": [
          0,
          0,
          0,
          0,
          0,
          0,
          0,
          0,
          0,
          0,
          0,
          0,
          0,
          1,
          1,
          1,
          1,
          1,
          1,
          1,
          1,
          2,
          2,
          3,
          3,
          3,
          3,
          3,
          3,
          3,
          3,
          4,
          4,
          4,
          4,
          4,
          4,
          4,
          4,
          5,
          5,
          5,
          5,
          5,
          7,
          7,
          7,
          7,
          7,
          8,
          8,
          9,
          9,
          9,
          9,
          9,
          10,
          11,
          11,
          12,
          12,
          12,
          12,
          13,
          13,
          13,
          14,
          14,
          14,
          14,
          15,
          15,
          15,
          16,
          16,
          17,
          17,
          17,
          17,
          17,
          17,
          17,
          17,
          17,
          17,
          18,
          18,
          18,
          18,
          18,
          19,
          19,
          19,
          20,
          20,
          20,
          20,
          21,
          21,
          21,
          21,
          21,
          21,
          21,
          22,
          22,
          22,
          22,
          22,
          22,
          23,
          23,
          23,
          23,
          24,
          24,
          24,
          24,
          24,
          24,
          24,
          24,
          25,
          25,
          25,
          25,
          25,
          25,
          26,
          26,
          26,
          26,
          26,
          26,
          26,
          26,
          27,
          27,
          27,
          27,
          27,
          27,
          27,
          27,
          27,
          27,
          27,
          28,
          28,
          28,
          28,
          28,
          28,
          28,
          29,
          29,
          29,
          29,
          29,
          29,
          29,
          29,
          30,
          30,
          30,
          30,
          30,
          30,
          31,
          31,
          31,
          31,
          31,
          31,
          31,
          31,
          31,
          31,
          31,
          32,
          32,
          32,
          32,
          32,
          32,
          32,
          32,
          32,
          33,
          33,
          33,
          33,
          33,
          33,
          34,
          34,
          34,
          34,
          34,
          34,
          34,
          35,
          35,
          35,
          35,
          35,
          35,
          35,
          35,
          36,
          36,
          36,
          36,
          36,
          36,
          36,
          36,
          37,
          37,
          37,
          37,
          37,
          38,
          38,
          38,
          38,
          38,
          38,
          38,
          38,
          39,
          39,
          39,
          39,
          40,
          40,
          40,
          40,
          40,
          40,
          40,
          40,
          40,
          41,
          41,
          41,
          41,
          41,
          41,
          42,
          42,
          42,
          42,
          42,
          42,
          42,
          42,
          42,
          43,
          43,
          43,
          43,
          43,
          43,
          43,
          43,
          43,
          43,
          43,
          44,
          44,
          44,
          44,
          44,
          44,
          44,
          45,
          45,
          45,
          45,
          45,
          45,
          45,
          46,
          46,
          46,
          46,
          46,
          46,
          46,
          46,
          47,
          47,
          47,
          47,
          48,
          48,
          48,
          48,
          48,
          48,
          48,
          49,
          49,
          49,
          49,
          49,
          49,
          49,
          49,
          50,
          50,
          50,
          50,
          50,
          50,
          51,
          51,
          51,
          51,
          51,
          51,
          52,
          52,
          52,
          52,
          52,
          52,
          52,
          53,
          53,
          53,
          53,
          53,
          53,
          53,
          53,
          54,
          54,
          54,
          54,
          54,
          54,
          54,
          54,
          55,
          55,
          55,
          55,
          55,
          55,
          55,
          55,
          55,
          55,
          55,
          56,
          56,
          56,
          56,
          56,
          56,
          56,
          56,
          57,
          57,
          57,
          57,
          57,
          57,
          57,
          57,
          57,
          57,
          57,
          57,
          57,
          57,
          57,
          57,
          58,
          58,
          58,
          58,
          58,
          58,
          58,
          59,
          59,
          59,
          59,
          59,
          59,
          59,
          59,
          59,
          59,
          59,
          59,
          59,
          60,
          60,
          60,
          60,
          61,
          61,
          61,
          61,
          61,
          61,
          61,
          61,
          61,
          62,
          62,
          62,
          62,
          62,
          62,
          62,
          62,
          63,
          63,
          63,
          63,
          63,
          64,
          64,
          64,
          64,
          64,
          64,
          65,
          65,
          65,
          65,
          65,
          66,
          66,
          66,
          66,
          66,
          66,
          66,
          66,
          67,
          67,
          67,
          68,
          68,
          68,
          68,
          68,
          69,
          69,
          69,
          69,
          69,
          70,
          70,
          70,
          70,
          70,
          70,
          70,
          71,
          71,
          71,
          71,
          71,
          71,
          71,
          72,
          72,
          72,
          72,
          72,
          72,
          72,
          72,
          72,
          72,
          73,
          73,
          73,
          73,
          73,
          73,
          73,
          74,
          74,
          74,
          74,
          74,
          74,
          75,
          75,
          75,
          75,
          75,
          75,
          75,
          76,
          76,
          76,
          76,
          76,
          76,
          76,
          77,
          77,
          77,
          77,
          77,
          77,
          78,
          78,
          78,
          78,
          78,
          78,
          78,
          79,
          79,
          79,
          79,
          79,
          79,
          80,
          80,
          80,
          80,
          80,
          80,
          80,
          80,
          81,
          81,
          81,
          82,
          82,
          82,
          83,
          83,
          83,
          83,
          83,
          84,
          84,
          84,
          85,
          85,
          85,
          87,
          87,
          87,
          87,
          87,
          87,
          88,
          88,
          89,
          89,
          89,
          89,
          89,
          89,
          90,
          91,
          91,
          91,
          92,
          92,
          92,
          92,
          93,
          93,
          93,
          93,
          93,
          93,
          93,
          94,
          94,
          94,
          94,
          94,
          94,
          94,
          94,
          95,
          95,
          95,
          95,
          96,
          96,
          96,
          96,
          97,
          97,
          97,
          97,
          97,
          97,
          97,
          97,
          97,
          97,
          98,
          98,
          98,
          98,
          98,
          99,
          99,
          99,
          99,
          99,
          99,
          99,
          100,
          100,
          100,
          101,
          101,
          102,
          102,
          102,
          102,
          102,
          102,
          103,
          103,
          103,
          104,
          105,
          105,
          105,
          106,
          106,
          106,
          106,
          106,
          107,
          107,
          107,
          107,
          107,
          107,
          108,
          109,
          109,
          109,
          109,
          109,
          109,
          109,
          109,
          109,
          110,
          110,
          110,
          110,
          111,
          112,
          112,
          113,
          113,
          113,
          114,
          114,
          115,
          115,
          115,
          115,
          116,
          116,
          116,
          116,
          116,
          116,
          116,
          116,
          116,
          117,
          117,
          118,
          119,
          120,
          120,
          121,
          121,
          121,
          121,
          121,
          122,
          123,
          123,
          124,
          124,
          124,
          125,
          126,
          126,
          126,
          126,
          126,
          127,
          127,
          127,
          127,
          127,
          128,
          129,
          129,
          130,
          130,
          130,
          130,
          131,
          131,
          131,
          133,
          133,
          134,
          134,
          134,
          135,
          135,
          135,
          136,
          136,
          137,
          137,
          137,
          137,
          138,
          139,
          140,
          140,
          140,
          140,
          140,
          141,
          141,
          142,
          143,
          145,
          145,
          146,
          147,
          148,
          150,
          151,
          151,
          151,
          152,
          152,
          153,
          154,
          154,
          155,
          155,
          156,
          157,
          157,
          158,
          158,
          158,
          160,
          161,
          162,
          163,
          164,
          165,
          165,
          166,
          167,
          167,
          167,
          168,
          168,
          168,
          169,
          169,
          170,
          170,
          171,
          172,
          173,
          174,
          174,
          175,
          176,
          177,
          177,
          180,
          180,
          181,
          182,
          182,
          184,
          184,
          184,
          185,
          185,
          185,
          187,
          188,
          188,
          189,
          189,
          191,
          192,
          192,
          193,
          194,
          194,
          195,
          196,
          196,
          197,
          198,
          198,
          198,
          199,
          199,
          200,
          200,
          200,
          202,
          203,
          203,
          204,
          204,
          207,
          209,
          210,
          211,
          212,
          212,
          213,
          213,
          214,
          215,
          215,
          216,
          216,
          217,
          218,
          218,
          218,
          219,
          220,
          223,
          224,
          224,
          226,
          226,
          226,
          228,
          228,
          229,
          230,
          230,
          231,
          231,
          232,
          233,
          233,
          234,
          234,
          235,
          239,
          239,
          239,
          240,
          240,
          242,
          246,
          246,
          247,
          248,
          249,
          249,
          252,
          254,
          254,
          254,
          257,
          258,
          259,
          260,
          261,
          261,
          262,
          263,
          265,
          266,
          267,
          267,
          271,
          275,
          275,
          276,
          276,
          277,
          281,
          283,
          284,
          284,
          288,
          288,
          288,
          292,
          294,
          294,
          296,
          296,
          300,
          300,
          300,
          301,
          301,
          309,
          313,
          316,
          317,
          323,
          323,
          328,
          328,
          329,
          331,
          334,
          336,
          336,
          336,
          336,
          337,
          339,
          344,
          344,
          351,
          351,
          352,
          355,
          355,
          358,
          358,
          358,
          359,
          363,
          365,
          369,
          369,
          371,
          372,
          377,
          379,
          381,
          381,
          383,
          383,
          385,
          393,
          394,
          402,
          402,
          403,
          403,
          405,
          408,
          413,
          414,
          415,
          418,
          427,
          434,
          436,
          437,
          438,
          439,
          440,
          442,
          465,
          473,
          489,
          498,
          498,
          506,
          507,
          508,
          509,
          513,
          515,
          536,
          539,
          540,
          541,
          543,
          549,
          553,
          559,
          561,
          570,
          574,
          576,
          576,
          592,
          600,
          620,
          631,
          635,
          656,
          671,
          673,
          675,
          689,
          712,
          749,
          749,
          756,
          779,
          786,
          815,
          844,
          852,
          862,
          871,
          890,
          907,
          921,
          963,
          1058,
          1061,
          1116,
          1180,
          1191,
          1210,
          1213,
          1250,
          1303,
          1318,
          1393,
          1472,
          1480,
          1616,
          1624,
          1674,
          1794
         ],
         "yaxis": "y"
        }
       ],
       "layout": {
        "legend": {
         "tracegroupgap": 0
        },
        "margin": {
         "t": 60
        },
        "shapes": [
         {
          "line": {
           "color": "red"
          },
          "type": "line",
          "x0": 0,
          "x1": 1,
          "xref": "x domain",
          "y0": 500,
          "y1": 500,
          "yref": "y"
         }
        ],
        "template": {
         "data": {
          "bar": [
           {
            "error_x": {
             "color": "#2a3f5f"
            },
            "error_y": {
             "color": "#2a3f5f"
            },
            "marker": {
             "line": {
              "color": "#E5ECF6",
              "width": 0.5
             },
             "pattern": {
              "fillmode": "overlay",
              "size": 10,
              "solidity": 0.2
             }
            },
            "type": "bar"
           }
          ],
          "barpolar": [
           {
            "marker": {
             "line": {
              "color": "#E5ECF6",
              "width": 0.5
             },
             "pattern": {
              "fillmode": "overlay",
              "size": 10,
              "solidity": 0.2
             }
            },
            "type": "barpolar"
           }
          ],
          "carpet": [
           {
            "aaxis": {
             "endlinecolor": "#2a3f5f",
             "gridcolor": "white",
             "linecolor": "white",
             "minorgridcolor": "white",
             "startlinecolor": "#2a3f5f"
            },
            "baxis": {
             "endlinecolor": "#2a3f5f",
             "gridcolor": "white",
             "linecolor": "white",
             "minorgridcolor": "white",
             "startlinecolor": "#2a3f5f"
            },
            "type": "carpet"
           }
          ],
          "choropleth": [
           {
            "colorbar": {
             "outlinewidth": 0,
             "ticks": ""
            },
            "type": "choropleth"
           }
          ],
          "contour": [
           {
            "colorbar": {
             "outlinewidth": 0,
             "ticks": ""
            },
            "colorscale": [
             [
              0,
              "#0d0887"
             ],
             [
              0.1111111111111111,
              "#46039f"
             ],
             [
              0.2222222222222222,
              "#7201a8"
             ],
             [
              0.3333333333333333,
              "#9c179e"
             ],
             [
              0.4444444444444444,
              "#bd3786"
             ],
             [
              0.5555555555555556,
              "#d8576b"
             ],
             [
              0.6666666666666666,
              "#ed7953"
             ],
             [
              0.7777777777777778,
              "#fb9f3a"
             ],
             [
              0.8888888888888888,
              "#fdca26"
             ],
             [
              1,
              "#f0f921"
             ]
            ],
            "type": "contour"
           }
          ],
          "contourcarpet": [
           {
            "colorbar": {
             "outlinewidth": 0,
             "ticks": ""
            },
            "type": "contourcarpet"
           }
          ],
          "heatmap": [
           {
            "colorbar": {
             "outlinewidth": 0,
             "ticks": ""
            },
            "colorscale": [
             [
              0,
              "#0d0887"
             ],
             [
              0.1111111111111111,
              "#46039f"
             ],
             [
              0.2222222222222222,
              "#7201a8"
             ],
             [
              0.3333333333333333,
              "#9c179e"
             ],
             [
              0.4444444444444444,
              "#bd3786"
             ],
             [
              0.5555555555555556,
              "#d8576b"
             ],
             [
              0.6666666666666666,
              "#ed7953"
             ],
             [
              0.7777777777777778,
              "#fb9f3a"
             ],
             [
              0.8888888888888888,
              "#fdca26"
             ],
             [
              1,
              "#f0f921"
             ]
            ],
            "type": "heatmap"
           }
          ],
          "heatmapgl": [
           {
            "colorbar": {
             "outlinewidth": 0,
             "ticks": ""
            },
            "colorscale": [
             [
              0,
              "#0d0887"
             ],
             [
              0.1111111111111111,
              "#46039f"
             ],
             [
              0.2222222222222222,
              "#7201a8"
             ],
             [
              0.3333333333333333,
              "#9c179e"
             ],
             [
              0.4444444444444444,
              "#bd3786"
             ],
             [
              0.5555555555555556,
              "#d8576b"
             ],
             [
              0.6666666666666666,
              "#ed7953"
             ],
             [
              0.7777777777777778,
              "#fb9f3a"
             ],
             [
              0.8888888888888888,
              "#fdca26"
             ],
             [
              1,
              "#f0f921"
             ]
            ],
            "type": "heatmapgl"
           }
          ],
          "histogram": [
           {
            "marker": {
             "pattern": {
              "fillmode": "overlay",
              "size": 10,
              "solidity": 0.2
             }
            },
            "type": "histogram"
           }
          ],
          "histogram2d": [
           {
            "colorbar": {
             "outlinewidth": 0,
             "ticks": ""
            },
            "colorscale": [
             [
              0,
              "#0d0887"
             ],
             [
              0.1111111111111111,
              "#46039f"
             ],
             [
              0.2222222222222222,
              "#7201a8"
             ],
             [
              0.3333333333333333,
              "#9c179e"
             ],
             [
              0.4444444444444444,
              "#bd3786"
             ],
             [
              0.5555555555555556,
              "#d8576b"
             ],
             [
              0.6666666666666666,
              "#ed7953"
             ],
             [
              0.7777777777777778,
              "#fb9f3a"
             ],
             [
              0.8888888888888888,
              "#fdca26"
             ],
             [
              1,
              "#f0f921"
             ]
            ],
            "type": "histogram2d"
           }
          ],
          "histogram2dcontour": [
           {
            "colorbar": {
             "outlinewidth": 0,
             "ticks": ""
            },
            "colorscale": [
             [
              0,
              "#0d0887"
             ],
             [
              0.1111111111111111,
              "#46039f"
             ],
             [
              0.2222222222222222,
              "#7201a8"
             ],
             [
              0.3333333333333333,
              "#9c179e"
             ],
             [
              0.4444444444444444,
              "#bd3786"
             ],
             [
              0.5555555555555556,
              "#d8576b"
             ],
             [
              0.6666666666666666,
              "#ed7953"
             ],
             [
              0.7777777777777778,
              "#fb9f3a"
             ],
             [
              0.8888888888888888,
              "#fdca26"
             ],
             [
              1,
              "#f0f921"
             ]
            ],
            "type": "histogram2dcontour"
           }
          ],
          "mesh3d": [
           {
            "colorbar": {
             "outlinewidth": 0,
             "ticks": ""
            },
            "type": "mesh3d"
           }
          ],
          "parcoords": [
           {
            "line": {
             "colorbar": {
              "outlinewidth": 0,
              "ticks": ""
             }
            },
            "type": "parcoords"
           }
          ],
          "pie": [
           {
            "automargin": true,
            "type": "pie"
           }
          ],
          "scatter": [
           {
            "fillpattern": {
             "fillmode": "overlay",
             "size": 10,
             "solidity": 0.2
            },
            "type": "scatter"
           }
          ],
          "scatter3d": [
           {
            "line": {
             "colorbar": {
              "outlinewidth": 0,
              "ticks": ""
             }
            },
            "marker": {
             "colorbar": {
              "outlinewidth": 0,
              "ticks": ""
             }
            },
            "type": "scatter3d"
           }
          ],
          "scattercarpet": [
           {
            "marker": {
             "colorbar": {
              "outlinewidth": 0,
              "ticks": ""
             }
            },
            "type": "scattercarpet"
           }
          ],
          "scattergeo": [
           {
            "marker": {
             "colorbar": {
              "outlinewidth": 0,
              "ticks": ""
             }
            },
            "type": "scattergeo"
           }
          ],
          "scattergl": [
           {
            "marker": {
             "colorbar": {
              "outlinewidth": 0,
              "ticks": ""
             }
            },
            "type": "scattergl"
           }
          ],
          "scattermapbox": [
           {
            "marker": {
             "colorbar": {
              "outlinewidth": 0,
              "ticks": ""
             }
            },
            "type": "scattermapbox"
           }
          ],
          "scatterpolar": [
           {
            "marker": {
             "colorbar": {
              "outlinewidth": 0,
              "ticks": ""
             }
            },
            "type": "scatterpolar"
           }
          ],
          "scatterpolargl": [
           {
            "marker": {
             "colorbar": {
              "outlinewidth": 0,
              "ticks": ""
             }
            },
            "type": "scatterpolargl"
           }
          ],
          "scatterternary": [
           {
            "marker": {
             "colorbar": {
              "outlinewidth": 0,
              "ticks": ""
             }
            },
            "type": "scatterternary"
           }
          ],
          "surface": [
           {
            "colorbar": {
             "outlinewidth": 0,
             "ticks": ""
            },
            "colorscale": [
             [
              0,
              "#0d0887"
             ],
             [
              0.1111111111111111,
              "#46039f"
             ],
             [
              0.2222222222222222,
              "#7201a8"
             ],
             [
              0.3333333333333333,
              "#9c179e"
             ],
             [
              0.4444444444444444,
              "#bd3786"
             ],
             [
              0.5555555555555556,
              "#d8576b"
             ],
             [
              0.6666666666666666,
              "#ed7953"
             ],
             [
              0.7777777777777778,
              "#fb9f3a"
             ],
             [
              0.8888888888888888,
              "#fdca26"
             ],
             [
              1,
              "#f0f921"
             ]
            ],
            "type": "surface"
           }
          ],
          "table": [
           {
            "cells": {
             "fill": {
              "color": "#EBF0F8"
             },
             "line": {
              "color": "white"
             }
            },
            "header": {
             "fill": {
              "color": "#C8D4E3"
             },
             "line": {
              "color": "white"
             }
            },
            "type": "table"
           }
          ]
         },
         "layout": {
          "annotationdefaults": {
           "arrowcolor": "#2a3f5f",
           "arrowhead": 0,
           "arrowwidth": 1
          },
          "autotypenumbers": "strict",
          "coloraxis": {
           "colorbar": {
            "outlinewidth": 0,
            "ticks": ""
           }
          },
          "colorscale": {
           "diverging": [
            [
             0,
             "#8e0152"
            ],
            [
             0.1,
             "#c51b7d"
            ],
            [
             0.2,
             "#de77ae"
            ],
            [
             0.3,
             "#f1b6da"
            ],
            [
             0.4,
             "#fde0ef"
            ],
            [
             0.5,
             "#f7f7f7"
            ],
            [
             0.6,
             "#e6f5d0"
            ],
            [
             0.7,
             "#b8e186"
            ],
            [
             0.8,
             "#7fbc41"
            ],
            [
             0.9,
             "#4d9221"
            ],
            [
             1,
             "#276419"
            ]
           ],
           "sequential": [
            [
             0,
             "#0d0887"
            ],
            [
             0.1111111111111111,
             "#46039f"
            ],
            [
             0.2222222222222222,
             "#7201a8"
            ],
            [
             0.3333333333333333,
             "#9c179e"
            ],
            [
             0.4444444444444444,
             "#bd3786"
            ],
            [
             0.5555555555555556,
             "#d8576b"
            ],
            [
             0.6666666666666666,
             "#ed7953"
            ],
            [
             0.7777777777777778,
             "#fb9f3a"
            ],
            [
             0.8888888888888888,
             "#fdca26"
            ],
            [
             1,
             "#f0f921"
            ]
           ],
           "sequentialminus": [
            [
             0,
             "#0d0887"
            ],
            [
             0.1111111111111111,
             "#46039f"
            ],
            [
             0.2222222222222222,
             "#7201a8"
            ],
            [
             0.3333333333333333,
             "#9c179e"
            ],
            [
             0.4444444444444444,
             "#bd3786"
            ],
            [
             0.5555555555555556,
             "#d8576b"
            ],
            [
             0.6666666666666666,
             "#ed7953"
            ],
            [
             0.7777777777777778,
             "#fb9f3a"
            ],
            [
             0.8888888888888888,
             "#fdca26"
            ],
            [
             1,
             "#f0f921"
            ]
           ]
          },
          "colorway": [
           "#636efa",
           "#EF553B",
           "#00cc96",
           "#ab63fa",
           "#FFA15A",
           "#19d3f3",
           "#FF6692",
           "#B6E880",
           "#FF97FF",
           "#FECB52"
          ],
          "font": {
           "color": "#2a3f5f"
          },
          "geo": {
           "bgcolor": "white",
           "lakecolor": "white",
           "landcolor": "#E5ECF6",
           "showlakes": true,
           "showland": true,
           "subunitcolor": "white"
          },
          "hoverlabel": {
           "align": "left"
          },
          "hovermode": "closest",
          "mapbox": {
           "style": "light"
          },
          "paper_bgcolor": "white",
          "plot_bgcolor": "#E5ECF6",
          "polar": {
           "angularaxis": {
            "gridcolor": "white",
            "linecolor": "white",
            "ticks": ""
           },
           "bgcolor": "#E5ECF6",
           "radialaxis": {
            "gridcolor": "white",
            "linecolor": "white",
            "ticks": ""
           }
          },
          "scene": {
           "xaxis": {
            "backgroundcolor": "#E5ECF6",
            "gridcolor": "white",
            "gridwidth": 2,
            "linecolor": "white",
            "showbackground": true,
            "ticks": "",
            "zerolinecolor": "white"
           },
           "yaxis": {
            "backgroundcolor": "#E5ECF6",
            "gridcolor": "white",
            "gridwidth": 2,
            "linecolor": "white",
            "showbackground": true,
            "ticks": "",
            "zerolinecolor": "white"
           },
           "zaxis": {
            "backgroundcolor": "#E5ECF6",
            "gridcolor": "white",
            "gridwidth": 2,
            "linecolor": "white",
            "showbackground": true,
            "ticks": "",
            "zerolinecolor": "white"
           }
          },
          "shapedefaults": {
           "line": {
            "color": "#2a3f5f"
           }
          },
          "ternary": {
           "aaxis": {
            "gridcolor": "white",
            "linecolor": "white",
            "ticks": ""
           },
           "baxis": {
            "gridcolor": "white",
            "linecolor": "white",
            "ticks": ""
           },
           "bgcolor": "#E5ECF6",
           "caxis": {
            "gridcolor": "white",
            "linecolor": "white",
            "ticks": ""
           }
          },
          "title": {
           "x": 0.05
          },
          "xaxis": {
           "automargin": true,
           "gridcolor": "white",
           "linecolor": "white",
           "ticks": "",
           "title": {
            "standoff": 15
           },
           "zerolinecolor": "white",
           "zerolinewidth": 2
          },
          "yaxis": {
           "automargin": true,
           "gridcolor": "white",
           "linecolor": "white",
           "ticks": "",
           "title": {
            "standoff": 15
           },
           "zerolinecolor": "white",
           "zerolinewidth": 2
          }
         }
        },
        "xaxis": {
         "anchor": "y",
         "domain": [
          0,
          1
         ],
         "title": {
          "text": "x"
         }
        },
        "yaxis": {
         "anchor": "x",
         "domain": [
          0,
          1
         ],
         "title": {
          "text": "50"
         }
        }
       }
      }
     },
     "metadata": {},
     "output_type": "display_data"
    }
   ],
   "source": [
    "df_check = df_valid_users['50'].to_frame()\n",
    "df_check.sort_values(by = '50', inplace=True)\n",
    "fig = px.line(df_check, x = range(df_check.shape[0]), y = '50')\n",
    "fig.add_hline(500, line_color = 'red')\n",
    "fig.show()"
   ]
  },
  {
   "cell_type": "code",
   "execution_count": 33,
   "metadata": {},
   "outputs": [],
   "source": [
    "max_time_to_rate = 500\n",
    "df_valid_users = df_valid_users[(df_valid_users['50'] < max_time_to_rate)]"
   ]
  },
  {
   "cell_type": "code",
   "execution_count": 34,
   "metadata": {},
   "outputs": [
    {
     "data": {
      "application/vnd.plotly.v1+json": {
       "config": {
        "plotlyServerURL": "https://plot.ly"
       },
       "data": [
        {
         "hovertemplate": "x=%{x}<br>450=%{y}<extra></extra>",
         "legendgroup": "",
         "line": {
          "color": "#636efa",
          "dash": "solid"
         },
         "marker": {
          "symbol": "circle"
         },
         "mode": "lines",
         "name": "",
         "orientation": "v",
         "showlegend": false,
         "type": "scatter",
         "x": [
          0,
          1,
          2,
          3,
          4,
          5,
          6,
          7,
          8,
          9,
          10,
          11,
          12,
          13,
          14,
          15,
          16,
          17,
          18,
          19,
          20,
          21,
          22,
          23,
          24,
          25,
          26,
          27,
          28,
          29,
          30,
          31,
          32,
          33,
          34,
          35,
          36,
          37,
          38,
          39,
          40,
          41,
          42,
          43,
          44,
          45,
          46,
          47,
          48,
          49,
          50,
          51,
          52,
          53,
          54,
          55,
          56,
          57,
          58,
          59,
          60,
          61,
          62,
          63,
          64,
          65,
          66,
          67,
          68,
          69,
          70,
          71,
          72,
          73,
          74,
          75,
          76,
          77,
          78,
          79,
          80,
          81,
          82,
          83,
          84,
          85,
          86,
          87,
          88,
          89,
          90,
          91,
          92,
          93,
          94,
          95,
          96,
          97,
          98,
          99,
          100,
          101,
          102,
          103,
          104,
          105,
          106,
          107,
          108,
          109,
          110,
          111,
          112,
          113,
          114,
          115,
          116,
          117,
          118,
          119,
          120,
          121,
          122,
          123,
          124,
          125,
          126,
          127,
          128,
          129,
          130,
          131,
          132,
          133,
          134,
          135,
          136,
          137,
          138,
          139,
          140,
          141,
          142,
          143,
          144,
          145,
          146,
          147,
          148,
          149,
          150,
          151,
          152,
          153,
          154,
          155,
          156,
          157,
          158,
          159,
          160,
          161,
          162,
          163,
          164,
          165,
          166,
          167,
          168,
          169,
          170,
          171,
          172,
          173,
          174,
          175,
          176,
          177,
          178,
          179,
          180,
          181,
          182,
          183,
          184,
          185,
          186,
          187,
          188,
          189,
          190,
          191,
          192,
          193,
          194,
          195,
          196,
          197,
          198,
          199,
          200,
          201,
          202,
          203,
          204,
          205,
          206,
          207,
          208,
          209,
          210,
          211,
          212,
          213,
          214,
          215,
          216,
          217,
          218,
          219,
          220,
          221,
          222,
          223,
          224,
          225,
          226,
          227,
          228,
          229,
          230,
          231,
          232,
          233,
          234,
          235,
          236,
          237,
          238,
          239,
          240,
          241,
          242,
          243,
          244,
          245,
          246,
          247,
          248,
          249,
          250,
          251,
          252,
          253,
          254,
          255,
          256,
          257,
          258,
          259,
          260,
          261,
          262,
          263,
          264,
          265,
          266,
          267,
          268,
          269,
          270,
          271,
          272,
          273,
          274,
          275,
          276,
          277,
          278,
          279,
          280,
          281,
          282,
          283,
          284,
          285,
          286,
          287,
          288,
          289,
          290,
          291,
          292,
          293,
          294,
          295,
          296,
          297,
          298,
          299,
          300,
          301,
          302,
          303,
          304,
          305,
          306,
          307,
          308,
          309,
          310,
          311,
          312,
          313,
          314,
          315,
          316,
          317,
          318,
          319,
          320,
          321,
          322,
          323,
          324,
          325,
          326,
          327,
          328,
          329,
          330,
          331,
          332,
          333,
          334,
          335,
          336,
          337,
          338,
          339,
          340,
          341,
          342,
          343,
          344,
          345,
          346,
          347,
          348,
          349,
          350,
          351,
          352,
          353,
          354,
          355,
          356,
          357,
          358,
          359,
          360,
          361,
          362,
          363,
          364,
          365,
          366,
          367,
          368,
          369,
          370,
          371,
          372,
          373,
          374,
          375,
          376,
          377,
          378,
          379,
          380,
          381,
          382,
          383,
          384,
          385,
          386,
          387,
          388,
          389,
          390,
          391,
          392,
          393,
          394,
          395,
          396,
          397,
          398,
          399,
          400,
          401,
          402,
          403,
          404,
          405,
          406,
          407,
          408,
          409,
          410,
          411,
          412,
          413,
          414,
          415,
          416,
          417,
          418,
          419,
          420,
          421,
          422,
          423,
          424,
          425,
          426,
          427,
          428,
          429,
          430,
          431,
          432,
          433,
          434,
          435,
          436,
          437,
          438,
          439,
          440,
          441,
          442,
          443,
          444,
          445,
          446,
          447,
          448,
          449,
          450,
          451,
          452,
          453,
          454,
          455,
          456,
          457,
          458,
          459,
          460,
          461,
          462,
          463,
          464,
          465,
          466,
          467,
          468,
          469,
          470,
          471,
          472,
          473,
          474,
          475,
          476,
          477,
          478,
          479,
          480,
          481,
          482,
          483,
          484,
          485,
          486,
          487,
          488,
          489,
          490,
          491,
          492,
          493,
          494,
          495,
          496,
          497,
          498,
          499,
          500,
          501,
          502,
          503,
          504,
          505,
          506,
          507,
          508,
          509,
          510,
          511,
          512,
          513,
          514,
          515,
          516,
          517,
          518,
          519,
          520,
          521,
          522,
          523,
          524,
          525,
          526,
          527,
          528,
          529,
          530,
          531,
          532,
          533,
          534,
          535,
          536,
          537,
          538,
          539,
          540,
          541,
          542,
          543,
          544,
          545,
          546,
          547,
          548,
          549,
          550,
          551,
          552,
          553,
          554,
          555,
          556,
          557,
          558,
          559,
          560,
          561,
          562,
          563,
          564,
          565,
          566,
          567,
          568,
          569,
          570,
          571,
          572,
          573,
          574,
          575,
          576,
          577,
          578,
          579,
          580,
          581,
          582,
          583,
          584,
          585,
          586,
          587,
          588,
          589,
          590,
          591,
          592,
          593,
          594,
          595,
          596,
          597,
          598,
          599,
          600,
          601,
          602,
          603,
          604,
          605,
          606,
          607,
          608,
          609,
          610,
          611,
          612,
          613,
          614,
          615,
          616,
          617,
          618,
          619,
          620,
          621,
          622,
          623,
          624,
          625,
          626,
          627,
          628,
          629,
          630,
          631,
          632,
          633,
          634,
          635,
          636,
          637,
          638,
          639,
          640,
          641,
          642,
          643,
          644,
          645,
          646,
          647,
          648,
          649,
          650,
          651,
          652,
          653,
          654,
          655,
          656,
          657,
          658,
          659,
          660,
          661,
          662,
          663,
          664,
          665,
          666,
          667,
          668,
          669,
          670,
          671,
          672,
          673,
          674,
          675,
          676,
          677,
          678,
          679,
          680,
          681,
          682,
          683,
          684,
          685,
          686,
          687,
          688,
          689,
          690,
          691,
          692,
          693,
          694,
          695,
          696,
          697,
          698,
          699,
          700,
          701,
          702,
          703,
          704,
          705,
          706,
          707,
          708,
          709,
          710,
          711,
          712,
          713,
          714,
          715,
          716,
          717,
          718,
          719,
          720,
          721,
          722,
          723,
          724,
          725,
          726,
          727,
          728,
          729,
          730,
          731,
          732,
          733,
          734,
          735,
          736,
          737,
          738,
          739,
          740,
          741,
          742,
          743,
          744,
          745,
          746,
          747,
          748,
          749,
          750,
          751,
          752,
          753,
          754,
          755,
          756,
          757,
          758,
          759,
          760,
          761,
          762,
          763,
          764,
          765,
          766,
          767,
          768,
          769,
          770,
          771,
          772,
          773,
          774,
          775,
          776,
          777,
          778,
          779,
          780,
          781,
          782,
          783,
          784,
          785,
          786,
          787,
          788,
          789,
          790,
          791,
          792,
          793,
          794,
          795,
          796,
          797,
          798,
          799,
          800,
          801,
          802,
          803,
          804,
          805,
          806,
          807,
          808,
          809,
          810,
          811,
          812,
          813,
          814,
          815,
          816,
          817,
          818,
          819,
          820,
          821,
          822,
          823,
          824,
          825,
          826,
          827,
          828,
          829,
          830,
          831,
          832,
          833,
          834,
          835,
          836,
          837,
          838,
          839,
          840,
          841,
          842,
          843,
          844,
          845,
          846,
          847,
          848,
          849,
          850,
          851,
          852,
          853,
          854,
          855,
          856,
          857,
          858,
          859,
          860,
          861,
          862,
          863,
          864,
          865,
          866,
          867,
          868,
          869,
          870,
          871,
          872,
          873,
          874,
          875,
          876,
          877,
          878,
          879,
          880,
          881,
          882,
          883,
          884,
          885,
          886,
          887,
          888,
          889,
          890,
          891,
          892,
          893,
          894,
          895,
          896,
          897,
          898,
          899,
          900,
          901,
          902,
          903,
          904,
          905,
          906,
          907,
          908,
          909,
          910,
          911,
          912,
          913,
          914,
          915,
          916,
          917,
          918,
          919,
          920,
          921,
          922,
          923,
          924,
          925,
          926,
          927,
          928,
          929,
          930,
          931,
          932,
          933,
          934,
          935,
          936,
          937,
          938,
          939,
          940,
          941,
          942,
          943,
          944,
          945,
          946,
          947,
          948,
          949,
          950,
          951,
          952,
          953,
          954,
          955,
          956,
          957,
          958,
          959,
          960,
          961,
          962,
          963,
          964,
          965,
          966,
          967,
          968,
          969,
          970,
          971,
          972,
          973,
          974,
          975,
          976,
          977,
          978,
          979,
          980,
          981,
          982,
          983,
          984,
          985,
          986,
          987,
          988,
          989
         ],
         "xaxis": "x",
         "y": [
          0,
          2,
          8,
          11,
          12,
          12,
          15,
          17,
          20,
          20,
          22,
          22,
          22,
          22,
          23,
          23,
          24,
          25,
          25,
          26,
          26,
          26,
          26,
          26,
          27,
          27,
          27,
          27,
          27,
          27,
          28,
          28,
          28,
          28,
          28,
          29,
          29,
          29,
          29,
          29,
          30,
          30,
          30,
          30,
          31,
          31,
          31,
          31,
          31,
          31,
          32,
          32,
          32,
          32,
          33,
          33,
          33,
          33,
          33,
          33,
          33,
          34,
          34,
          34,
          34,
          34,
          34,
          34,
          34,
          35,
          35,
          35,
          35,
          35,
          35,
          35,
          35,
          35,
          35,
          36,
          36,
          36,
          36,
          36,
          36,
          37,
          37,
          37,
          37,
          37,
          38,
          38,
          38,
          38,
          38,
          38,
          38,
          38,
          38,
          39,
          39,
          39,
          39,
          39,
          39,
          40,
          40,
          40,
          40,
          40,
          40,
          41,
          41,
          41,
          41,
          41,
          41,
          41,
          42,
          42,
          42,
          42,
          42,
          42,
          42,
          43,
          43,
          43,
          43,
          43,
          43,
          43,
          43,
          43,
          43,
          43,
          44,
          44,
          44,
          44,
          44,
          44,
          44,
          44,
          44,
          45,
          45,
          45,
          45,
          45,
          45,
          45,
          45,
          45,
          46,
          46,
          46,
          46,
          46,
          46,
          46,
          46,
          46,
          46,
          47,
          47,
          47,
          47,
          47,
          47,
          47,
          47,
          47,
          47,
          47,
          47,
          47,
          48,
          48,
          48,
          48,
          48,
          48,
          48,
          49,
          49,
          49,
          49,
          49,
          49,
          49,
          49,
          49,
          49,
          49,
          49,
          49,
          49,
          49,
          49,
          49,
          50,
          50,
          50,
          51,
          51,
          51,
          51,
          51,
          51,
          51,
          51,
          51,
          51,
          52,
          52,
          52,
          52,
          52,
          52,
          53,
          53,
          53,
          53,
          53,
          53,
          53,
          53,
          53,
          53,
          53,
          54,
          54,
          54,
          54,
          54,
          54,
          54,
          54,
          54,
          54,
          55,
          55,
          55,
          55,
          55,
          55,
          55,
          55,
          55,
          55,
          55,
          56,
          56,
          56,
          56,
          56,
          56,
          56,
          56,
          56,
          56,
          56,
          57,
          57,
          57,
          57,
          57,
          57,
          57,
          57,
          57,
          57,
          57,
          58,
          58,
          58,
          58,
          58,
          58,
          58,
          58,
          58,
          58,
          59,
          59,
          59,
          59,
          59,
          59,
          59,
          59,
          59,
          59,
          60,
          60,
          60,
          60,
          60,
          61,
          62,
          62,
          62,
          62,
          62,
          62,
          62,
          62,
          63,
          63,
          63,
          63,
          63,
          63,
          63,
          63,
          63,
          63,
          63,
          64,
          64,
          64,
          64,
          64,
          64,
          64,
          64,
          65,
          65,
          65,
          65,
          65,
          65,
          65,
          66,
          66,
          66,
          66,
          66,
          66,
          66,
          67,
          67,
          67,
          67,
          68,
          68,
          68,
          68,
          68,
          68,
          69,
          69,
          69,
          69,
          69,
          69,
          69,
          69,
          69,
          69,
          70,
          70,
          70,
          70,
          70,
          70,
          70,
          70,
          70,
          71,
          71,
          71,
          71,
          71,
          71,
          71,
          71,
          71,
          71,
          71,
          71,
          71,
          72,
          72,
          72,
          72,
          72,
          72,
          72,
          72,
          72,
          72,
          73,
          73,
          73,
          73,
          73,
          73,
          74,
          74,
          74,
          74,
          74,
          74,
          74,
          75,
          75,
          75,
          75,
          75,
          75,
          75,
          75,
          76,
          76,
          76,
          76,
          76,
          76,
          76,
          76,
          76,
          76,
          76,
          76,
          76,
          76,
          76,
          77,
          77,
          77,
          77,
          77,
          78,
          78,
          78,
          78,
          78,
          78,
          78,
          79,
          79,
          79,
          79,
          79,
          79,
          79,
          79,
          80,
          80,
          81,
          81,
          81,
          81,
          81,
          81,
          81,
          81,
          82,
          82,
          82,
          82,
          83,
          83,
          83,
          83,
          83,
          83,
          83,
          84,
          84,
          84,
          84,
          84,
          85,
          85,
          85,
          85,
          85,
          85,
          85,
          86,
          86,
          86,
          86,
          86,
          86,
          86,
          87,
          87,
          87,
          87,
          87,
          87,
          87,
          87,
          87,
          88,
          88,
          88,
          88,
          88,
          88,
          89,
          89,
          89,
          89,
          89,
          90,
          90,
          90,
          90,
          90,
          90,
          90,
          90,
          90,
          90,
          91,
          91,
          91,
          91,
          91,
          91,
          91,
          92,
          92,
          92,
          92,
          92,
          92,
          92,
          92,
          92,
          93,
          93,
          93,
          93,
          93,
          93,
          93,
          93,
          94,
          94,
          95,
          95,
          95,
          95,
          95,
          96,
          96,
          96,
          96,
          97,
          97,
          97,
          97,
          98,
          98,
          98,
          98,
          98,
          98,
          99,
          99,
          99,
          99,
          99,
          100,
          100,
          101,
          101,
          101,
          101,
          101,
          101,
          101,
          101,
          102,
          102,
          102,
          103,
          103,
          103,
          103,
          103,
          103,
          104,
          104,
          105,
          105,
          106,
          106,
          106,
          106,
          107,
          107,
          108,
          109,
          109,
          109,
          110,
          110,
          111,
          111,
          111,
          112,
          112,
          112,
          112,
          112,
          112,
          113,
          113,
          113,
          113,
          113,
          113,
          113,
          113,
          114,
          114,
          114,
          114,
          115,
          115,
          116,
          116,
          116,
          116,
          117,
          117,
          117,
          117,
          117,
          117,
          117,
          118,
          118,
          118,
          118,
          118,
          118,
          119,
          119,
          119,
          119,
          119,
          119,
          119,
          119,
          119,
          119,
          120,
          120,
          120,
          120,
          120,
          120,
          121,
          121,
          121,
          121,
          121,
          121,
          121,
          121,
          122,
          122,
          123,
          124,
          125,
          125,
          125,
          125,
          125,
          125,
          126,
          126,
          126,
          127,
          127,
          127,
          128,
          129,
          129,
          131,
          131,
          131,
          131,
          131,
          131,
          132,
          132,
          132,
          132,
          133,
          133,
          134,
          134,
          134,
          134,
          134,
          134,
          135,
          135,
          135,
          135,
          135,
          136,
          136,
          136,
          137,
          137,
          138,
          139,
          139,
          140,
          140,
          140,
          140,
          140,
          141,
          142,
          142,
          142,
          143,
          143,
          143,
          144,
          144,
          144,
          144,
          144,
          145,
          145,
          146,
          147,
          147,
          147,
          148,
          148,
          148,
          148,
          149,
          150,
          150,
          150,
          150,
          151,
          151,
          151,
          151,
          152,
          153,
          153,
          153,
          153,
          153,
          153,
          154,
          154,
          154,
          154,
          154,
          156,
          158,
          158,
          158,
          159,
          159,
          160,
          160,
          161,
          161,
          161,
          161,
          162,
          162,
          162,
          162,
          163,
          163,
          163,
          166,
          166,
          166,
          167,
          168,
          168,
          169,
          169,
          169,
          169,
          169,
          169,
          170,
          175,
          175,
          176,
          177,
          178,
          179,
          180,
          181,
          182,
          182,
          183,
          183,
          183,
          184,
          185,
          187,
          188,
          188,
          189,
          189,
          189,
          190,
          191,
          191,
          192,
          192,
          193,
          193,
          194,
          194,
          195,
          195,
          196,
          196,
          197,
          199,
          199,
          201,
          203,
          203,
          204,
          206,
          207,
          208,
          209,
          211,
          211,
          213,
          215,
          216,
          217,
          218,
          218,
          219,
          219,
          219,
          220,
          222,
          222,
          223,
          225,
          226,
          227,
          228,
          228,
          228,
          229,
          231,
          231,
          231,
          231,
          232,
          232,
          232,
          235,
          236,
          238,
          238,
          239,
          239,
          239,
          241,
          241,
          242,
          242,
          244,
          247,
          247,
          247,
          250,
          251,
          259,
          261,
          261,
          262,
          263,
          263,
          263,
          263,
          266,
          266,
          267,
          267,
          267,
          267,
          268,
          271,
          272,
          272,
          273,
          273,
          276,
          277,
          277,
          281,
          281,
          283,
          287,
          289,
          290,
          292,
          293,
          293,
          294,
          295,
          296,
          296,
          302,
          306,
          309,
          314,
          316,
          316,
          316,
          318,
          321,
          322,
          323,
          323,
          325,
          325,
          328,
          330,
          334,
          335,
          338,
          345,
          345,
          350,
          354,
          354,
          356,
          365,
          365,
          371,
          382,
          388,
          392,
          396,
          410,
          420,
          422,
          426,
          440,
          442,
          458,
          458,
          466,
          467,
          476,
          485,
          488,
          525,
          534,
          553,
          562,
          648,
          653,
          663,
          712,
          718,
          835,
          835,
          859,
          876,
          889,
          1042,
          1051,
          1063,
          1082,
          1302,
          1543
         ],
         "yaxis": "y"
        }
       ],
       "layout": {
        "legend": {
         "tracegroupgap": 0
        },
        "margin": {
         "t": 60
        },
        "shapes": [
         {
          "line": {
           "color": "red"
          },
          "type": "line",
          "x0": 0,
          "x1": 1,
          "xref": "x domain",
          "y0": 500,
          "y1": 500,
          "yref": "y"
         }
        ],
        "template": {
         "data": {
          "bar": [
           {
            "error_x": {
             "color": "#2a3f5f"
            },
            "error_y": {
             "color": "#2a3f5f"
            },
            "marker": {
             "line": {
              "color": "#E5ECF6",
              "width": 0.5
             },
             "pattern": {
              "fillmode": "overlay",
              "size": 10,
              "solidity": 0.2
             }
            },
            "type": "bar"
           }
          ],
          "barpolar": [
           {
            "marker": {
             "line": {
              "color": "#E5ECF6",
              "width": 0.5
             },
             "pattern": {
              "fillmode": "overlay",
              "size": 10,
              "solidity": 0.2
             }
            },
            "type": "barpolar"
           }
          ],
          "carpet": [
           {
            "aaxis": {
             "endlinecolor": "#2a3f5f",
             "gridcolor": "white",
             "linecolor": "white",
             "minorgridcolor": "white",
             "startlinecolor": "#2a3f5f"
            },
            "baxis": {
             "endlinecolor": "#2a3f5f",
             "gridcolor": "white",
             "linecolor": "white",
             "minorgridcolor": "white",
             "startlinecolor": "#2a3f5f"
            },
            "type": "carpet"
           }
          ],
          "choropleth": [
           {
            "colorbar": {
             "outlinewidth": 0,
             "ticks": ""
            },
            "type": "choropleth"
           }
          ],
          "contour": [
           {
            "colorbar": {
             "outlinewidth": 0,
             "ticks": ""
            },
            "colorscale": [
             [
              0,
              "#0d0887"
             ],
             [
              0.1111111111111111,
              "#46039f"
             ],
             [
              0.2222222222222222,
              "#7201a8"
             ],
             [
              0.3333333333333333,
              "#9c179e"
             ],
             [
              0.4444444444444444,
              "#bd3786"
             ],
             [
              0.5555555555555556,
              "#d8576b"
             ],
             [
              0.6666666666666666,
              "#ed7953"
             ],
             [
              0.7777777777777778,
              "#fb9f3a"
             ],
             [
              0.8888888888888888,
              "#fdca26"
             ],
             [
              1,
              "#f0f921"
             ]
            ],
            "type": "contour"
           }
          ],
          "contourcarpet": [
           {
            "colorbar": {
             "outlinewidth": 0,
             "ticks": ""
            },
            "type": "contourcarpet"
           }
          ],
          "heatmap": [
           {
            "colorbar": {
             "outlinewidth": 0,
             "ticks": ""
            },
            "colorscale": [
             [
              0,
              "#0d0887"
             ],
             [
              0.1111111111111111,
              "#46039f"
             ],
             [
              0.2222222222222222,
              "#7201a8"
             ],
             [
              0.3333333333333333,
              "#9c179e"
             ],
             [
              0.4444444444444444,
              "#bd3786"
             ],
             [
              0.5555555555555556,
              "#d8576b"
             ],
             [
              0.6666666666666666,
              "#ed7953"
             ],
             [
              0.7777777777777778,
              "#fb9f3a"
             ],
             [
              0.8888888888888888,
              "#fdca26"
             ],
             [
              1,
              "#f0f921"
             ]
            ],
            "type": "heatmap"
           }
          ],
          "heatmapgl": [
           {
            "colorbar": {
             "outlinewidth": 0,
             "ticks": ""
            },
            "colorscale": [
             [
              0,
              "#0d0887"
             ],
             [
              0.1111111111111111,
              "#46039f"
             ],
             [
              0.2222222222222222,
              "#7201a8"
             ],
             [
              0.3333333333333333,
              "#9c179e"
             ],
             [
              0.4444444444444444,
              "#bd3786"
             ],
             [
              0.5555555555555556,
              "#d8576b"
             ],
             [
              0.6666666666666666,
              "#ed7953"
             ],
             [
              0.7777777777777778,
              "#fb9f3a"
             ],
             [
              0.8888888888888888,
              "#fdca26"
             ],
             [
              1,
              "#f0f921"
             ]
            ],
            "type": "heatmapgl"
           }
          ],
          "histogram": [
           {
            "marker": {
             "pattern": {
              "fillmode": "overlay",
              "size": 10,
              "solidity": 0.2
             }
            },
            "type": "histogram"
           }
          ],
          "histogram2d": [
           {
            "colorbar": {
             "outlinewidth": 0,
             "ticks": ""
            },
            "colorscale": [
             [
              0,
              "#0d0887"
             ],
             [
              0.1111111111111111,
              "#46039f"
             ],
             [
              0.2222222222222222,
              "#7201a8"
             ],
             [
              0.3333333333333333,
              "#9c179e"
             ],
             [
              0.4444444444444444,
              "#bd3786"
             ],
             [
              0.5555555555555556,
              "#d8576b"
             ],
             [
              0.6666666666666666,
              "#ed7953"
             ],
             [
              0.7777777777777778,
              "#fb9f3a"
             ],
             [
              0.8888888888888888,
              "#fdca26"
             ],
             [
              1,
              "#f0f921"
             ]
            ],
            "type": "histogram2d"
           }
          ],
          "histogram2dcontour": [
           {
            "colorbar": {
             "outlinewidth": 0,
             "ticks": ""
            },
            "colorscale": [
             [
              0,
              "#0d0887"
             ],
             [
              0.1111111111111111,
              "#46039f"
             ],
             [
              0.2222222222222222,
              "#7201a8"
             ],
             [
              0.3333333333333333,
              "#9c179e"
             ],
             [
              0.4444444444444444,
              "#bd3786"
             ],
             [
              0.5555555555555556,
              "#d8576b"
             ],
             [
              0.6666666666666666,
              "#ed7953"
             ],
             [
              0.7777777777777778,
              "#fb9f3a"
             ],
             [
              0.8888888888888888,
              "#fdca26"
             ],
             [
              1,
              "#f0f921"
             ]
            ],
            "type": "histogram2dcontour"
           }
          ],
          "mesh3d": [
           {
            "colorbar": {
             "outlinewidth": 0,
             "ticks": ""
            },
            "type": "mesh3d"
           }
          ],
          "parcoords": [
           {
            "line": {
             "colorbar": {
              "outlinewidth": 0,
              "ticks": ""
             }
            },
            "type": "parcoords"
           }
          ],
          "pie": [
           {
            "automargin": true,
            "type": "pie"
           }
          ],
          "scatter": [
           {
            "fillpattern": {
             "fillmode": "overlay",
             "size": 10,
             "solidity": 0.2
            },
            "type": "scatter"
           }
          ],
          "scatter3d": [
           {
            "line": {
             "colorbar": {
              "outlinewidth": 0,
              "ticks": ""
             }
            },
            "marker": {
             "colorbar": {
              "outlinewidth": 0,
              "ticks": ""
             }
            },
            "type": "scatter3d"
           }
          ],
          "scattercarpet": [
           {
            "marker": {
             "colorbar": {
              "outlinewidth": 0,
              "ticks": ""
             }
            },
            "type": "scattercarpet"
           }
          ],
          "scattergeo": [
           {
            "marker": {
             "colorbar": {
              "outlinewidth": 0,
              "ticks": ""
             }
            },
            "type": "scattergeo"
           }
          ],
          "scattergl": [
           {
            "marker": {
             "colorbar": {
              "outlinewidth": 0,
              "ticks": ""
             }
            },
            "type": "scattergl"
           }
          ],
          "scattermapbox": [
           {
            "marker": {
             "colorbar": {
              "outlinewidth": 0,
              "ticks": ""
             }
            },
            "type": "scattermapbox"
           }
          ],
          "scatterpolar": [
           {
            "marker": {
             "colorbar": {
              "outlinewidth": 0,
              "ticks": ""
             }
            },
            "type": "scatterpolar"
           }
          ],
          "scatterpolargl": [
           {
            "marker": {
             "colorbar": {
              "outlinewidth": 0,
              "ticks": ""
             }
            },
            "type": "scatterpolargl"
           }
          ],
          "scatterternary": [
           {
            "marker": {
             "colorbar": {
              "outlinewidth": 0,
              "ticks": ""
             }
            },
            "type": "scatterternary"
           }
          ],
          "surface": [
           {
            "colorbar": {
             "outlinewidth": 0,
             "ticks": ""
            },
            "colorscale": [
             [
              0,
              "#0d0887"
             ],
             [
              0.1111111111111111,
              "#46039f"
             ],
             [
              0.2222222222222222,
              "#7201a8"
             ],
             [
              0.3333333333333333,
              "#9c179e"
             ],
             [
              0.4444444444444444,
              "#bd3786"
             ],
             [
              0.5555555555555556,
              "#d8576b"
             ],
             [
              0.6666666666666666,
              "#ed7953"
             ],
             [
              0.7777777777777778,
              "#fb9f3a"
             ],
             [
              0.8888888888888888,
              "#fdca26"
             ],
             [
              1,
              "#f0f921"
             ]
            ],
            "type": "surface"
           }
          ],
          "table": [
           {
            "cells": {
             "fill": {
              "color": "#EBF0F8"
             },
             "line": {
              "color": "white"
             }
            },
            "header": {
             "fill": {
              "color": "#C8D4E3"
             },
             "line": {
              "color": "white"
             }
            },
            "type": "table"
           }
          ]
         },
         "layout": {
          "annotationdefaults": {
           "arrowcolor": "#2a3f5f",
           "arrowhead": 0,
           "arrowwidth": 1
          },
          "autotypenumbers": "strict",
          "coloraxis": {
           "colorbar": {
            "outlinewidth": 0,
            "ticks": ""
           }
          },
          "colorscale": {
           "diverging": [
            [
             0,
             "#8e0152"
            ],
            [
             0.1,
             "#c51b7d"
            ],
            [
             0.2,
             "#de77ae"
            ],
            [
             0.3,
             "#f1b6da"
            ],
            [
             0.4,
             "#fde0ef"
            ],
            [
             0.5,
             "#f7f7f7"
            ],
            [
             0.6,
             "#e6f5d0"
            ],
            [
             0.7,
             "#b8e186"
            ],
            [
             0.8,
             "#7fbc41"
            ],
            [
             0.9,
             "#4d9221"
            ],
            [
             1,
             "#276419"
            ]
           ],
           "sequential": [
            [
             0,
             "#0d0887"
            ],
            [
             0.1111111111111111,
             "#46039f"
            ],
            [
             0.2222222222222222,
             "#7201a8"
            ],
            [
             0.3333333333333333,
             "#9c179e"
            ],
            [
             0.4444444444444444,
             "#bd3786"
            ],
            [
             0.5555555555555556,
             "#d8576b"
            ],
            [
             0.6666666666666666,
             "#ed7953"
            ],
            [
             0.7777777777777778,
             "#fb9f3a"
            ],
            [
             0.8888888888888888,
             "#fdca26"
            ],
            [
             1,
             "#f0f921"
            ]
           ],
           "sequentialminus": [
            [
             0,
             "#0d0887"
            ],
            [
             0.1111111111111111,
             "#46039f"
            ],
            [
             0.2222222222222222,
             "#7201a8"
            ],
            [
             0.3333333333333333,
             "#9c179e"
            ],
            [
             0.4444444444444444,
             "#bd3786"
            ],
            [
             0.5555555555555556,
             "#d8576b"
            ],
            [
             0.6666666666666666,
             "#ed7953"
            ],
            [
             0.7777777777777778,
             "#fb9f3a"
            ],
            [
             0.8888888888888888,
             "#fdca26"
            ],
            [
             1,
             "#f0f921"
            ]
           ]
          },
          "colorway": [
           "#636efa",
           "#EF553B",
           "#00cc96",
           "#ab63fa",
           "#FFA15A",
           "#19d3f3",
           "#FF6692",
           "#B6E880",
           "#FF97FF",
           "#FECB52"
          ],
          "font": {
           "color": "#2a3f5f"
          },
          "geo": {
           "bgcolor": "white",
           "lakecolor": "white",
           "landcolor": "#E5ECF6",
           "showlakes": true,
           "showland": true,
           "subunitcolor": "white"
          },
          "hoverlabel": {
           "align": "left"
          },
          "hovermode": "closest",
          "mapbox": {
           "style": "light"
          },
          "paper_bgcolor": "white",
          "plot_bgcolor": "#E5ECF6",
          "polar": {
           "angularaxis": {
            "gridcolor": "white",
            "linecolor": "white",
            "ticks": ""
           },
           "bgcolor": "#E5ECF6",
           "radialaxis": {
            "gridcolor": "white",
            "linecolor": "white",
            "ticks": ""
           }
          },
          "scene": {
           "xaxis": {
            "backgroundcolor": "#E5ECF6",
            "gridcolor": "white",
            "gridwidth": 2,
            "linecolor": "white",
            "showbackground": true,
            "ticks": "",
            "zerolinecolor": "white"
           },
           "yaxis": {
            "backgroundcolor": "#E5ECF6",
            "gridcolor": "white",
            "gridwidth": 2,
            "linecolor": "white",
            "showbackground": true,
            "ticks": "",
            "zerolinecolor": "white"
           },
           "zaxis": {
            "backgroundcolor": "#E5ECF6",
            "gridcolor": "white",
            "gridwidth": 2,
            "linecolor": "white",
            "showbackground": true,
            "ticks": "",
            "zerolinecolor": "white"
           }
          },
          "shapedefaults": {
           "line": {
            "color": "#2a3f5f"
           }
          },
          "ternary": {
           "aaxis": {
            "gridcolor": "white",
            "linecolor": "white",
            "ticks": ""
           },
           "baxis": {
            "gridcolor": "white",
            "linecolor": "white",
            "ticks": ""
           },
           "bgcolor": "#E5ECF6",
           "caxis": {
            "gridcolor": "white",
            "linecolor": "white",
            "ticks": ""
           }
          },
          "title": {
           "x": 0.05
          },
          "xaxis": {
           "automargin": true,
           "gridcolor": "white",
           "linecolor": "white",
           "ticks": "",
           "title": {
            "standoff": 15
           },
           "zerolinecolor": "white",
           "zerolinewidth": 2
          },
          "yaxis": {
           "automargin": true,
           "gridcolor": "white",
           "linecolor": "white",
           "ticks": "",
           "title": {
            "standoff": 15
           },
           "zerolinecolor": "white",
           "zerolinewidth": 2
          }
         }
        },
        "xaxis": {
         "anchor": "y",
         "domain": [
          0,
          1
         ],
         "title": {
          "text": "x"
         }
        },
        "yaxis": {
         "anchor": "x",
         "domain": [
          0,
          1
         ],
         "title": {
          "text": "450"
         }
        }
       }
      }
     },
     "metadata": {},
     "output_type": "display_data"
    }
   ],
   "source": [
    "df_check = df_valid_users['450'].to_frame()\n",
    "df_check.sort_values(by = '450', inplace=True)\n",
    "fig = px.line(df_check, x = range(df_check.shape[0]), y = '450')\n",
    "fig.add_hline(500, line_color = 'red')\n",
    "fig.show()"
   ]
  },
  {
   "cell_type": "code",
   "execution_count": 35,
   "metadata": {},
   "outputs": [],
   "source": [
    "# We recut at 500\n",
    "max_time_to_rate = 500\n",
    "df_valid_users = df_valid_users[(df_valid_users['450'] < max_time_to_rate)]"
   ]
  },
  {
   "cell_type": "code",
   "execution_count": 36,
   "metadata": {},
   "outputs": [],
   "source": [
    "# We have the final data set of users and the data set of their ratings\n",
    "\n",
    "valid_usernames = set(df_valid_users['user_name'])\n",
    "df_valid_ratings = df_us_ratings[df_us_ratings['user_name'].isin(valid_usernames)]"
   ]
  },
  {
   "cell_type": "code",
   "execution_count": 37,
   "metadata": {},
   "outputs": [
    {
     "data": {
      "text/html": [
       "<div>\n",
       "<style scoped>\n",
       "    .dataframe tbody tr th:only-of-type {\n",
       "        vertical-align: middle;\n",
       "    }\n",
       "\n",
       "    .dataframe tbody tr th {\n",
       "        vertical-align: top;\n",
       "    }\n",
       "\n",
       "    .dataframe thead th {\n",
       "        text-align: right;\n",
       "    }\n",
       "</style>\n",
       "<table border=\"1\" class=\"dataframe\">\n",
       "  <thead>\n",
       "    <tr style=\"text-align: right;\">\n",
       "      <th></th>\n",
       "      <th>nbr_ratings</th>\n",
       "      <th>nbr_reviews</th>\n",
       "      <th>user_id</th>\n",
       "      <th>user_name</th>\n",
       "      <th>joined</th>\n",
       "      <th>location</th>\n",
       "      <th>date_joined</th>\n",
       "      <th>active_days</th>\n",
       "      <th>delta_first_last</th>\n",
       "      <th>max_active_day</th>\n",
       "      <th>max_active_month</th>\n",
       "      <th>50</th>\n",
       "      <th>450</th>\n",
       "    </tr>\n",
       "  </thead>\n",
       "  <tbody>\n",
       "    <tr>\n",
       "      <th>2</th>\n",
       "      <td>585</td>\n",
       "      <td>389</td>\n",
       "      <td>ferrari29.320392</td>\n",
       "      <td>ferrari29</td>\n",
       "      <td>1.239790e+09</td>\n",
       "      <td>United States, Illinois</td>\n",
       "      <td>2009-04-15</td>\n",
       "      <td>202</td>\n",
       "      <td>1193</td>\n",
       "      <td>12</td>\n",
       "      <td>42</td>\n",
       "      <td>64</td>\n",
       "      <td>335</td>\n",
       "    </tr>\n",
       "    <tr>\n",
       "      <th>5</th>\n",
       "      <td>676</td>\n",
       "      <td>676</td>\n",
       "      <td>dodo2step.110880</td>\n",
       "      <td>Dodo2step</td>\n",
       "      <td>1.165576e+09</td>\n",
       "      <td>United States, Pennsylvania</td>\n",
       "      <td>2006-12-08</td>\n",
       "      <td>411</td>\n",
       "      <td>2153</td>\n",
       "      <td>13</td>\n",
       "      <td>28</td>\n",
       "      <td>45</td>\n",
       "      <td>442</td>\n",
       "    </tr>\n",
       "    <tr>\n",
       "      <th>7</th>\n",
       "      <td>653</td>\n",
       "      <td>651</td>\n",
       "      <td>kadonny.156863</td>\n",
       "      <td>Kadonny</td>\n",
       "      <td>1.188986e+09</td>\n",
       "      <td>United States, Pennsylvania</td>\n",
       "      <td>2007-09-05</td>\n",
       "      <td>357</td>\n",
       "      <td>1800</td>\n",
       "      <td>5</td>\n",
       "      <td>22</td>\n",
       "      <td>249</td>\n",
       "      <td>263</td>\n",
       "    </tr>\n",
       "    <tr>\n",
       "      <th>8</th>\n",
       "      <td>748</td>\n",
       "      <td>748</td>\n",
       "      <td>biggred1.206640</td>\n",
       "      <td>biggred1</td>\n",
       "      <td>1.206616e+09</td>\n",
       "      <td>United States, Indiana</td>\n",
       "      <td>2008-03-27</td>\n",
       "      <td>318</td>\n",
       "      <td>819</td>\n",
       "      <td>5</td>\n",
       "      <td>37</td>\n",
       "      <td>102</td>\n",
       "      <td>69</td>\n",
       "    </tr>\n",
       "    <tr>\n",
       "      <th>10</th>\n",
       "      <td>614</td>\n",
       "      <td>614</td>\n",
       "      <td>whynot44.2033</td>\n",
       "      <td>whynot44</td>\n",
       "      <td>1.052129e+09</td>\n",
       "      <td>United States, Missouri</td>\n",
       "      <td>2003-05-05</td>\n",
       "      <td>276</td>\n",
       "      <td>1452</td>\n",
       "      <td>7</td>\n",
       "      <td>57</td>\n",
       "      <td>24</td>\n",
       "      <td>316</td>\n",
       "    </tr>\n",
       "  </tbody>\n",
       "</table>\n",
       "</div>"
      ],
      "text/plain": [
       "    nbr_ratings  nbr_reviews           user_id  user_name        joined  \\\n",
       "2           585          389  ferrari29.320392  ferrari29  1.239790e+09   \n",
       "5           676          676  dodo2step.110880  Dodo2step  1.165576e+09   \n",
       "7           653          651    kadonny.156863    Kadonny  1.188986e+09   \n",
       "8           748          748   biggred1.206640   biggred1  1.206616e+09   \n",
       "10          614          614     whynot44.2033   whynot44  1.052129e+09   \n",
       "\n",
       "                       location date_joined  active_days  delta_first_last  \\\n",
       "2       United States, Illinois  2009-04-15          202              1193   \n",
       "5   United States, Pennsylvania  2006-12-08          411              2153   \n",
       "7   United States, Pennsylvania  2007-09-05          357              1800   \n",
       "8        United States, Indiana  2008-03-27          318               819   \n",
       "10      United States, Missouri  2003-05-05          276              1452   \n",
       "\n",
       "    max_active_day  max_active_month   50  450  \n",
       "2               12                42   64  335  \n",
       "5               13                28   45  442  \n",
       "7                5                22  249  263  \n",
       "8                5                37  102   69  \n",
       "10               7                57   24  316  "
      ]
     },
     "execution_count": 37,
     "metadata": {},
     "output_type": "execute_result"
    }
   ],
   "source": [
    "df_valid_users.head(5)"
   ]
  },
  {
   "cell_type": "code",
   "execution_count": 38,
   "metadata": {},
   "outputs": [
    {
     "data": {
      "text/html": [
       "<div>\n",
       "<style scoped>\n",
       "    .dataframe tbody tr th:only-of-type {\n",
       "        vertical-align: middle;\n",
       "    }\n",
       "\n",
       "    .dataframe tbody tr th {\n",
       "        vertical-align: top;\n",
       "    }\n",
       "\n",
       "    .dataframe thead th {\n",
       "        text-align: right;\n",
       "    }\n",
       "</style>\n",
       "<table border=\"1\" class=\"dataframe\">\n",
       "  <thead>\n",
       "    <tr style=\"text-align: right;\">\n",
       "      <th></th>\n",
       "      <th>beer_id</th>\n",
       "      <th>style</th>\n",
       "      <th>abv</th>\n",
       "      <th>date</th>\n",
       "      <th>user_name</th>\n",
       "      <th>appearance</th>\n",
       "      <th>aroma</th>\n",
       "      <th>palate</th>\n",
       "      <th>taste</th>\n",
       "      <th>overall</th>\n",
       "      <th>rating</th>\n",
       "      <th>category</th>\n",
       "      <th>rating_number</th>\n",
       "    </tr>\n",
       "  </thead>\n",
       "  <tbody>\n",
       "    <tr>\n",
       "      <th>1640018</th>\n",
       "      <td>167</td>\n",
       "      <td>Witbier</td>\n",
       "      <td>NaN</td>\n",
       "      <td>2001-03-16</td>\n",
       "      <td>frank4sail</td>\n",
       "      <td>4.5</td>\n",
       "      <td>4.5</td>\n",
       "      <td>4.0</td>\n",
       "      <td>5.0</td>\n",
       "      <td>5.0</td>\n",
       "      <td>4.75</td>\n",
       "      <td>Wheat Beers</td>\n",
       "      <td>0</td>\n",
       "    </tr>\n",
       "    <tr>\n",
       "      <th>311428</th>\n",
       "      <td>3558</td>\n",
       "      <td>Czech Pilsener</td>\n",
       "      <td>5.00</td>\n",
       "      <td>2001-06-18</td>\n",
       "      <td>Mark</td>\n",
       "      <td>4.0</td>\n",
       "      <td>4.0</td>\n",
       "      <td>3.0</td>\n",
       "      <td>4.0</td>\n",
       "      <td>4.0</td>\n",
       "      <td>3.90</td>\n",
       "      <td>Pale Lagers</td>\n",
       "      <td>0</td>\n",
       "    </tr>\n",
       "    <tr>\n",
       "      <th>17313</th>\n",
       "      <td>73</td>\n",
       "      <td>Milk / Sweet Stout</td>\n",
       "      <td>5.20</td>\n",
       "      <td>2001-06-18</td>\n",
       "      <td>Mark</td>\n",
       "      <td>5.0</td>\n",
       "      <td>5.0</td>\n",
       "      <td>5.0</td>\n",
       "      <td>5.0</td>\n",
       "      <td>5.0</td>\n",
       "      <td>5.00</td>\n",
       "      <td>Stouts</td>\n",
       "      <td>1</td>\n",
       "    </tr>\n",
       "    <tr>\n",
       "      <th>136697</th>\n",
       "      <td>261</td>\n",
       "      <td>Vienna Lager</td>\n",
       "      <td>4.48</td>\n",
       "      <td>2001-06-24</td>\n",
       "      <td>Mark</td>\n",
       "      <td>4.0</td>\n",
       "      <td>3.0</td>\n",
       "      <td>3.0</td>\n",
       "      <td>3.0</td>\n",
       "      <td>3.0</td>\n",
       "      <td>3.06</td>\n",
       "      <td>Dark Lagers</td>\n",
       "      <td>2</td>\n",
       "    </tr>\n",
       "    <tr>\n",
       "      <th>442671</th>\n",
       "      <td>87</td>\n",
       "      <td>American Pale Ale (APA)</td>\n",
       "      <td>5.40</td>\n",
       "      <td>2001-06-24</td>\n",
       "      <td>Mark</td>\n",
       "      <td>4.0</td>\n",
       "      <td>4.0</td>\n",
       "      <td>1.0</td>\n",
       "      <td>3.0</td>\n",
       "      <td>3.0</td>\n",
       "      <td>3.10</td>\n",
       "      <td>Pale Ales</td>\n",
       "      <td>3</td>\n",
       "    </tr>\n",
       "  </tbody>\n",
       "</table>\n",
       "</div>"
      ],
      "text/plain": [
       "         beer_id                    style   abv       date   user_name  \\\n",
       "1640018      167                  Witbier   NaN 2001-03-16  frank4sail   \n",
       "311428      3558           Czech Pilsener  5.00 2001-06-18        Mark   \n",
       "17313         73       Milk / Sweet Stout  5.20 2001-06-18        Mark   \n",
       "136697       261             Vienna Lager  4.48 2001-06-24        Mark   \n",
       "442671        87  American Pale Ale (APA)  5.40 2001-06-24        Mark   \n",
       "\n",
       "         appearance  aroma  palate  taste  overall  rating     category  \\\n",
       "1640018         4.5    4.5     4.0    5.0      5.0    4.75  Wheat Beers   \n",
       "311428          4.0    4.0     3.0    4.0      4.0    3.90  Pale Lagers   \n",
       "17313           5.0    5.0     5.0    5.0      5.0    5.00       Stouts   \n",
       "136697          4.0    3.0     3.0    3.0      3.0    3.06  Dark Lagers   \n",
       "442671          4.0    4.0     1.0    3.0      3.0    3.10    Pale Ales   \n",
       "\n",
       "         rating_number  \n",
       "1640018              0  \n",
       "311428               0  \n",
       "17313                1  \n",
       "136697               2  \n",
       "442671               3  "
      ]
     },
     "execution_count": 38,
     "metadata": {},
     "output_type": "execute_result"
    }
   ],
   "source": [
    "df_valid_ratings.head(5)"
   ]
  },
  {
   "cell_type": "code",
   "execution_count": 39,
   "metadata": {},
   "outputs": [],
   "source": [
    "# Clustering starts\n",
    "# We want to check if it is possible to extract meaningful clusters\n",
    "# out of the 50 first ratings submitted by users"
   ]
  },
  {
   "cell_type": "code",
   "execution_count": 40,
   "metadata": {},
   "outputs": [
    {
     "data": {
      "text/html": [
       "<div>\n",
       "<style scoped>\n",
       "    .dataframe tbody tr th:only-of-type {\n",
       "        vertical-align: middle;\n",
       "    }\n",
       "\n",
       "    .dataframe tbody tr th {\n",
       "        vertical-align: top;\n",
       "    }\n",
       "\n",
       "    .dataframe thead th {\n",
       "        text-align: right;\n",
       "    }\n",
       "</style>\n",
       "<table border=\"1\" class=\"dataframe\">\n",
       "  <thead>\n",
       "    <tr style=\"text-align: right;\">\n",
       "      <th>category</th>\n",
       "      <th>Bocks</th>\n",
       "      <th>Brown Ales</th>\n",
       "      <th>Dark Ales</th>\n",
       "      <th>Dark Lagers</th>\n",
       "      <th>Hybrid Beers</th>\n",
       "      <th>India Pale Ales</th>\n",
       "      <th>Pale Ales</th>\n",
       "      <th>Pale Lagers</th>\n",
       "      <th>Porters</th>\n",
       "      <th>Specialty Beer</th>\n",
       "      <th>Stouts</th>\n",
       "      <th>Strong Ales</th>\n",
       "      <th>Weird Cocktail</th>\n",
       "      <th>Wheat Beers</th>\n",
       "      <th>Wild/Sour Beers</th>\n",
       "    </tr>\n",
       "    <tr>\n",
       "      <th>user_name</th>\n",
       "      <th></th>\n",
       "      <th></th>\n",
       "      <th></th>\n",
       "      <th></th>\n",
       "      <th></th>\n",
       "      <th></th>\n",
       "      <th></th>\n",
       "      <th></th>\n",
       "      <th></th>\n",
       "      <th></th>\n",
       "      <th></th>\n",
       "      <th></th>\n",
       "      <th></th>\n",
       "      <th></th>\n",
       "      <th></th>\n",
       "    </tr>\n",
       "  </thead>\n",
       "  <tbody>\n",
       "    <tr>\n",
       "      <th>-Rick</th>\n",
       "      <td>0</td>\n",
       "      <td>2</td>\n",
       "      <td>0</td>\n",
       "      <td>2</td>\n",
       "      <td>0</td>\n",
       "      <td>29</td>\n",
       "      <td>7</td>\n",
       "      <td>2</td>\n",
       "      <td>2</td>\n",
       "      <td>2</td>\n",
       "      <td>3</td>\n",
       "      <td>1</td>\n",
       "      <td>0</td>\n",
       "      <td>0</td>\n",
       "      <td>0</td>\n",
       "    </tr>\n",
       "    <tr>\n",
       "      <th>1000lbgrizzly</th>\n",
       "      <td>0</td>\n",
       "      <td>5</td>\n",
       "      <td>0</td>\n",
       "      <td>1</td>\n",
       "      <td>0</td>\n",
       "      <td>4</td>\n",
       "      <td>9</td>\n",
       "      <td>7</td>\n",
       "      <td>2</td>\n",
       "      <td>8</td>\n",
       "      <td>6</td>\n",
       "      <td>4</td>\n",
       "      <td>0</td>\n",
       "      <td>3</td>\n",
       "      <td>1</td>\n",
       "    </tr>\n",
       "    <tr>\n",
       "      <th>1424IpA</th>\n",
       "      <td>0</td>\n",
       "      <td>0</td>\n",
       "      <td>1</td>\n",
       "      <td>0</td>\n",
       "      <td>0</td>\n",
       "      <td>21</td>\n",
       "      <td>3</td>\n",
       "      <td>1</td>\n",
       "      <td>1</td>\n",
       "      <td>1</td>\n",
       "      <td>12</td>\n",
       "      <td>4</td>\n",
       "      <td>0</td>\n",
       "      <td>1</td>\n",
       "      <td>5</td>\n",
       "    </tr>\n",
       "    <tr>\n",
       "      <th>2Xmd</th>\n",
       "      <td>0</td>\n",
       "      <td>2</td>\n",
       "      <td>1</td>\n",
       "      <td>1</td>\n",
       "      <td>0</td>\n",
       "      <td>25</td>\n",
       "      <td>5</td>\n",
       "      <td>1</td>\n",
       "      <td>1</td>\n",
       "      <td>2</td>\n",
       "      <td>9</td>\n",
       "      <td>1</td>\n",
       "      <td>0</td>\n",
       "      <td>2</td>\n",
       "      <td>0</td>\n",
       "    </tr>\n",
       "    <tr>\n",
       "      <th>2ellas</th>\n",
       "      <td>0</td>\n",
       "      <td>2</td>\n",
       "      <td>1</td>\n",
       "      <td>0</td>\n",
       "      <td>0</td>\n",
       "      <td>31</td>\n",
       "      <td>9</td>\n",
       "      <td>0</td>\n",
       "      <td>0</td>\n",
       "      <td>0</td>\n",
       "      <td>2</td>\n",
       "      <td>4</td>\n",
       "      <td>0</td>\n",
       "      <td>1</td>\n",
       "      <td>0</td>\n",
       "    </tr>\n",
       "    <tr>\n",
       "      <th>...</th>\n",
       "      <td>...</td>\n",
       "      <td>...</td>\n",
       "      <td>...</td>\n",
       "      <td>...</td>\n",
       "      <td>...</td>\n",
       "      <td>...</td>\n",
       "      <td>...</td>\n",
       "      <td>...</td>\n",
       "      <td>...</td>\n",
       "      <td>...</td>\n",
       "      <td>...</td>\n",
       "      <td>...</td>\n",
       "      <td>...</td>\n",
       "      <td>...</td>\n",
       "      <td>...</td>\n",
       "    </tr>\n",
       "    <tr>\n",
       "      <th>zenithberwyn</th>\n",
       "      <td>1</td>\n",
       "      <td>1</td>\n",
       "      <td>0</td>\n",
       "      <td>3</td>\n",
       "      <td>0</td>\n",
       "      <td>3</td>\n",
       "      <td>7</td>\n",
       "      <td>10</td>\n",
       "      <td>3</td>\n",
       "      <td>0</td>\n",
       "      <td>14</td>\n",
       "      <td>5</td>\n",
       "      <td>0</td>\n",
       "      <td>3</td>\n",
       "      <td>0</td>\n",
       "    </tr>\n",
       "    <tr>\n",
       "      <th>zhanson88</th>\n",
       "      <td>1</td>\n",
       "      <td>5</td>\n",
       "      <td>3</td>\n",
       "      <td>1</td>\n",
       "      <td>0</td>\n",
       "      <td>6</td>\n",
       "      <td>6</td>\n",
       "      <td>2</td>\n",
       "      <td>3</td>\n",
       "      <td>1</td>\n",
       "      <td>12</td>\n",
       "      <td>7</td>\n",
       "      <td>0</td>\n",
       "      <td>3</td>\n",
       "      <td>0</td>\n",
       "    </tr>\n",
       "    <tr>\n",
       "      <th>zookerman182</th>\n",
       "      <td>1</td>\n",
       "      <td>3</td>\n",
       "      <td>0</td>\n",
       "      <td>0</td>\n",
       "      <td>0</td>\n",
       "      <td>22</td>\n",
       "      <td>6</td>\n",
       "      <td>0</td>\n",
       "      <td>2</td>\n",
       "      <td>0</td>\n",
       "      <td>9</td>\n",
       "      <td>5</td>\n",
       "      <td>0</td>\n",
       "      <td>1</td>\n",
       "      <td>1</td>\n",
       "    </tr>\n",
       "    <tr>\n",
       "      <th>zoso1967</th>\n",
       "      <td>0</td>\n",
       "      <td>3</td>\n",
       "      <td>0</td>\n",
       "      <td>0</td>\n",
       "      <td>0</td>\n",
       "      <td>19</td>\n",
       "      <td>9</td>\n",
       "      <td>3</td>\n",
       "      <td>2</td>\n",
       "      <td>0</td>\n",
       "      <td>3</td>\n",
       "      <td>5</td>\n",
       "      <td>0</td>\n",
       "      <td>1</td>\n",
       "      <td>5</td>\n",
       "    </tr>\n",
       "    <tr>\n",
       "      <th>zotzot</th>\n",
       "      <td>1</td>\n",
       "      <td>4</td>\n",
       "      <td>0</td>\n",
       "      <td>1</td>\n",
       "      <td>0</td>\n",
       "      <td>18</td>\n",
       "      <td>11</td>\n",
       "      <td>1</td>\n",
       "      <td>0</td>\n",
       "      <td>1</td>\n",
       "      <td>7</td>\n",
       "      <td>2</td>\n",
       "      <td>0</td>\n",
       "      <td>4</td>\n",
       "      <td>0</td>\n",
       "    </tr>\n",
       "  </tbody>\n",
       "</table>\n",
       "<p>970 rows × 15 columns</p>\n",
       "</div>"
      ],
      "text/plain": [
       "category       Bocks  Brown Ales  Dark Ales  Dark Lagers  Hybrid Beers  \\\n",
       "user_name                                                                \n",
       "-Rick              0           2          0            2             0   \n",
       "1000lbgrizzly      0           5          0            1             0   \n",
       "1424IpA            0           0          1            0             0   \n",
       "2Xmd               0           2          1            1             0   \n",
       "2ellas             0           2          1            0             0   \n",
       "...              ...         ...        ...          ...           ...   \n",
       "zenithberwyn       1           1          0            3             0   \n",
       "zhanson88          1           5          3            1             0   \n",
       "zookerman182       1           3          0            0             0   \n",
       "zoso1967           0           3          0            0             0   \n",
       "zotzot             1           4          0            1             0   \n",
       "\n",
       "category       India Pale Ales  Pale Ales  Pale Lagers  Porters  \\\n",
       "user_name                                                         \n",
       "-Rick                       29          7            2        2   \n",
       "1000lbgrizzly                4          9            7        2   \n",
       "1424IpA                     21          3            1        1   \n",
       "2Xmd                        25          5            1        1   \n",
       "2ellas                      31          9            0        0   \n",
       "...                        ...        ...          ...      ...   \n",
       "zenithberwyn                 3          7           10        3   \n",
       "zhanson88                    6          6            2        3   \n",
       "zookerman182                22          6            0        2   \n",
       "zoso1967                    19          9            3        2   \n",
       "zotzot                      18         11            1        0   \n",
       "\n",
       "category       Specialty Beer  Stouts  Strong Ales  Weird Cocktail  \\\n",
       "user_name                                                            \n",
       "-Rick                       2       3            1               0   \n",
       "1000lbgrizzly               8       6            4               0   \n",
       "1424IpA                     1      12            4               0   \n",
       "2Xmd                        2       9            1               0   \n",
       "2ellas                      0       2            4               0   \n",
       "...                       ...     ...          ...             ...   \n",
       "zenithberwyn                0      14            5               0   \n",
       "zhanson88                   1      12            7               0   \n",
       "zookerman182                0       9            5               0   \n",
       "zoso1967                    0       3            5               0   \n",
       "zotzot                      1       7            2               0   \n",
       "\n",
       "category       Wheat Beers  Wild/Sour Beers  \n",
       "user_name                                    \n",
       "-Rick                    0                0  \n",
       "1000lbgrizzly            3                1  \n",
       "1424IpA                  1                5  \n",
       "2Xmd                     2                0  \n",
       "2ellas                   1                0  \n",
       "...                    ...              ...  \n",
       "zenithberwyn             3                0  \n",
       "zhanson88                3                0  \n",
       "zookerman182             1                1  \n",
       "zoso1967                 1                5  \n",
       "zotzot                   4                0  \n",
       "\n",
       "[970 rows x 15 columns]"
      ]
     },
     "execution_count": 40,
     "metadata": {},
     "output_type": "execute_result"
    }
   ],
   "source": [
    "# To do that, we check how many beers of different categories \n",
    "# a user rated in his first 50 ratings\n",
    "\n",
    "df_to_cluster = df_valid_ratings[df_valid_ratings[\"rating_number\"] < 50]\n",
    "user_to_cat_first = df_to_cluster.groupby([\"user_name\", \"category\"]).size()\n",
    "user_to_cat_first = user_to_cat_first.unstack(level=-1, fill_value = 0)\n",
    "user_to_cat_first"
   ]
  },
  {
   "cell_type": "code",
   "execution_count": 41,
   "metadata": {},
   "outputs": [],
   "source": [
    "#Rename tu user_clustering?\n",
    "\n",
    "our_clustering_4 = KMeans(4).fit(user_to_cat_first.values)\n",
    "our_clustering_5 = KMeans(5).fit(user_to_cat_first.values)"
   ]
  },
  {
   "cell_type": "code",
   "execution_count": 42,
   "metadata": {},
   "outputs": [
    {
     "data": {
      "text/plain": [
       "Counter({3: 239, 0: 394, 2: 196, 1: 141})"
      ]
     },
     "execution_count": 42,
     "metadata": {},
     "output_type": "execute_result"
    }
   ],
   "source": [
    "count = collections.Counter(our_clustering_4.labels_)\n",
    "count"
   ]
  },
  {
   "cell_type": "code",
   "execution_count": 43,
   "metadata": {},
   "outputs": [
    {
     "data": {
      "text/html": [
       "<div>\n",
       "<style scoped>\n",
       "    .dataframe tbody tr th:only-of-type {\n",
       "        vertical-align: middle;\n",
       "    }\n",
       "\n",
       "    .dataframe tbody tr th {\n",
       "        vertical-align: top;\n",
       "    }\n",
       "\n",
       "    .dataframe thead th {\n",
       "        text-align: right;\n",
       "    }\n",
       "</style>\n",
       "<table border=\"1\" class=\"dataframe\">\n",
       "  <thead>\n",
       "    <tr style=\"text-align: right;\">\n",
       "      <th></th>\n",
       "      <th>style</th>\n",
       "      <th>cluster</th>\n",
       "      <th>Number of beer</th>\n",
       "    </tr>\n",
       "  </thead>\n",
       "  <tbody>\n",
       "    <tr>\n",
       "      <th>0</th>\n",
       "      <td>Bocks</td>\n",
       "      <td>0</td>\n",
       "      <td>1.659898</td>\n",
       "    </tr>\n",
       "    <tr>\n",
       "      <th>1</th>\n",
       "      <td>Brown Ales</td>\n",
       "      <td>0</td>\n",
       "      <td>3.281726</td>\n",
       "    </tr>\n",
       "    <tr>\n",
       "      <th>2</th>\n",
       "      <td>Dark Ales</td>\n",
       "      <td>0</td>\n",
       "      <td>1.654822</td>\n",
       "    </tr>\n",
       "    <tr>\n",
       "      <th>3</th>\n",
       "      <td>Dark Lagers</td>\n",
       "      <td>0</td>\n",
       "      <td>1.530457</td>\n",
       "    </tr>\n",
       "    <tr>\n",
       "      <th>4</th>\n",
       "      <td>Hybrid Beers</td>\n",
       "      <td>0</td>\n",
       "      <td>0.337563</td>\n",
       "    </tr>\n",
       "    <tr>\n",
       "      <th>5</th>\n",
       "      <td>India Pale Ales</td>\n",
       "      <td>0</td>\n",
       "      <td>8.192893</td>\n",
       "    </tr>\n",
       "    <tr>\n",
       "      <th>6</th>\n",
       "      <td>Pale Ales</td>\n",
       "      <td>0</td>\n",
       "      <td>9.408629</td>\n",
       "    </tr>\n",
       "    <tr>\n",
       "      <th>7</th>\n",
       "      <td>Pale Lagers</td>\n",
       "      <td>0</td>\n",
       "      <td>3.868020</td>\n",
       "    </tr>\n",
       "    <tr>\n",
       "      <th>8</th>\n",
       "      <td>Porters</td>\n",
       "      <td>0</td>\n",
       "      <td>2.296954</td>\n",
       "    </tr>\n",
       "    <tr>\n",
       "      <th>9</th>\n",
       "      <td>Specialty Beer</td>\n",
       "      <td>0</td>\n",
       "      <td>1.743655</td>\n",
       "    </tr>\n",
       "    <tr>\n",
       "      <th>10</th>\n",
       "      <td>Stouts</td>\n",
       "      <td>0</td>\n",
       "      <td>5.119289</td>\n",
       "    </tr>\n",
       "    <tr>\n",
       "      <th>11</th>\n",
       "      <td>Strong Ales</td>\n",
       "      <td>0</td>\n",
       "      <td>6.131980</td>\n",
       "    </tr>\n",
       "    <tr>\n",
       "      <th>12</th>\n",
       "      <td>Weird Cocktail</td>\n",
       "      <td>0</td>\n",
       "      <td>0.063452</td>\n",
       "    </tr>\n",
       "    <tr>\n",
       "      <th>13</th>\n",
       "      <td>Wheat Beers</td>\n",
       "      <td>0</td>\n",
       "      <td>3.619289</td>\n",
       "    </tr>\n",
       "    <tr>\n",
       "      <th>14</th>\n",
       "      <td>Wild/Sour Beers</td>\n",
       "      <td>0</td>\n",
       "      <td>1.091371</td>\n",
       "    </tr>\n",
       "    <tr>\n",
       "      <th>15</th>\n",
       "      <td>Bocks</td>\n",
       "      <td>1</td>\n",
       "      <td>1.794326</td>\n",
       "    </tr>\n",
       "    <tr>\n",
       "      <th>16</th>\n",
       "      <td>Brown Ales</td>\n",
       "      <td>1</td>\n",
       "      <td>2.723404</td>\n",
       "    </tr>\n",
       "    <tr>\n",
       "      <th>17</th>\n",
       "      <td>Dark Ales</td>\n",
       "      <td>1</td>\n",
       "      <td>1.425532</td>\n",
       "    </tr>\n",
       "    <tr>\n",
       "      <th>18</th>\n",
       "      <td>Dark Lagers</td>\n",
       "      <td>1</td>\n",
       "      <td>3.347518</td>\n",
       "    </tr>\n",
       "    <tr>\n",
       "      <th>19</th>\n",
       "      <td>Hybrid Beers</td>\n",
       "      <td>1</td>\n",
       "      <td>0.382979</td>\n",
       "    </tr>\n",
       "    <tr>\n",
       "      <th>20</th>\n",
       "      <td>India Pale Ales</td>\n",
       "      <td>1</td>\n",
       "      <td>3.297872</td>\n",
       "    </tr>\n",
       "    <tr>\n",
       "      <th>21</th>\n",
       "      <td>Pale Ales</td>\n",
       "      <td>1</td>\n",
       "      <td>7.780142</td>\n",
       "    </tr>\n",
       "    <tr>\n",
       "      <th>22</th>\n",
       "      <td>Pale Lagers</td>\n",
       "      <td>1</td>\n",
       "      <td>13.624113</td>\n",
       "    </tr>\n",
       "    <tr>\n",
       "      <th>23</th>\n",
       "      <td>Porters</td>\n",
       "      <td>1</td>\n",
       "      <td>1.560284</td>\n",
       "    </tr>\n",
       "    <tr>\n",
       "      <th>24</th>\n",
       "      <td>Specialty Beer</td>\n",
       "      <td>1</td>\n",
       "      <td>1.418440</td>\n",
       "    </tr>\n",
       "    <tr>\n",
       "      <th>25</th>\n",
       "      <td>Stouts</td>\n",
       "      <td>1</td>\n",
       "      <td>3.510638</td>\n",
       "    </tr>\n",
       "    <tr>\n",
       "      <th>26</th>\n",
       "      <td>Strong Ales</td>\n",
       "      <td>1</td>\n",
       "      <td>3.950355</td>\n",
       "    </tr>\n",
       "    <tr>\n",
       "      <th>27</th>\n",
       "      <td>Weird Cocktail</td>\n",
       "      <td>1</td>\n",
       "      <td>0.156028</td>\n",
       "    </tr>\n",
       "    <tr>\n",
       "      <th>28</th>\n",
       "      <td>Wheat Beers</td>\n",
       "      <td>1</td>\n",
       "      <td>4.744681</td>\n",
       "    </tr>\n",
       "    <tr>\n",
       "      <th>29</th>\n",
       "      <td>Wild/Sour Beers</td>\n",
       "      <td>1</td>\n",
       "      <td>0.283688</td>\n",
       "    </tr>\n",
       "    <tr>\n",
       "      <th>30</th>\n",
       "      <td>Bocks</td>\n",
       "      <td>2</td>\n",
       "      <td>0.816327</td>\n",
       "    </tr>\n",
       "    <tr>\n",
       "      <th>31</th>\n",
       "      <td>Brown Ales</td>\n",
       "      <td>2</td>\n",
       "      <td>2.505102</td>\n",
       "    </tr>\n",
       "    <tr>\n",
       "      <th>32</th>\n",
       "      <td>Dark Ales</td>\n",
       "      <td>2</td>\n",
       "      <td>0.959184</td>\n",
       "    </tr>\n",
       "    <tr>\n",
       "      <th>33</th>\n",
       "      <td>Dark Lagers</td>\n",
       "      <td>2</td>\n",
       "      <td>0.632653</td>\n",
       "    </tr>\n",
       "    <tr>\n",
       "      <th>34</th>\n",
       "      <td>Hybrid Beers</td>\n",
       "      <td>2</td>\n",
       "      <td>0.280612</td>\n",
       "    </tr>\n",
       "    <tr>\n",
       "      <th>35</th>\n",
       "      <td>India Pale Ales</td>\n",
       "      <td>2</td>\n",
       "      <td>9.872449</td>\n",
       "    </tr>\n",
       "    <tr>\n",
       "      <th>36</th>\n",
       "      <td>Pale Ales</td>\n",
       "      <td>2</td>\n",
       "      <td>4.750000</td>\n",
       "    </tr>\n",
       "    <tr>\n",
       "      <th>37</th>\n",
       "      <td>Pale Lagers</td>\n",
       "      <td>2</td>\n",
       "      <td>1.295918</td>\n",
       "    </tr>\n",
       "    <tr>\n",
       "      <th>38</th>\n",
       "      <td>Porters</td>\n",
       "      <td>2</td>\n",
       "      <td>3.096939</td>\n",
       "    </tr>\n",
       "    <tr>\n",
       "      <th>39</th>\n",
       "      <td>Specialty Beer</td>\n",
       "      <td>2</td>\n",
       "      <td>1.341837</td>\n",
       "    </tr>\n",
       "    <tr>\n",
       "      <th>40</th>\n",
       "      <td>Stouts</td>\n",
       "      <td>2</td>\n",
       "      <td>15.147959</td>\n",
       "    </tr>\n",
       "    <tr>\n",
       "      <th>41</th>\n",
       "      <td>Strong Ales</td>\n",
       "      <td>2</td>\n",
       "      <td>6.168367</td>\n",
       "    </tr>\n",
       "    <tr>\n",
       "      <th>42</th>\n",
       "      <td>Weird Cocktail</td>\n",
       "      <td>2</td>\n",
       "      <td>0.076531</td>\n",
       "    </tr>\n",
       "    <tr>\n",
       "      <th>43</th>\n",
       "      <td>Wheat Beers</td>\n",
       "      <td>2</td>\n",
       "      <td>1.551020</td>\n",
       "    </tr>\n",
       "    <tr>\n",
       "      <th>44</th>\n",
       "      <td>Wild/Sour Beers</td>\n",
       "      <td>2</td>\n",
       "      <td>1.505102</td>\n",
       "    </tr>\n",
       "    <tr>\n",
       "      <th>45</th>\n",
       "      <td>Bocks</td>\n",
       "      <td>3</td>\n",
       "      <td>0.598326</td>\n",
       "    </tr>\n",
       "    <tr>\n",
       "      <th>46</th>\n",
       "      <td>Brown Ales</td>\n",
       "      <td>3</td>\n",
       "      <td>1.732218</td>\n",
       "    </tr>\n",
       "    <tr>\n",
       "      <th>47</th>\n",
       "      <td>Dark Ales</td>\n",
       "      <td>3</td>\n",
       "      <td>0.615063</td>\n",
       "    </tr>\n",
       "    <tr>\n",
       "      <th>48</th>\n",
       "      <td>Dark Lagers</td>\n",
       "      <td>3</td>\n",
       "      <td>0.548117</td>\n",
       "    </tr>\n",
       "    <tr>\n",
       "      <th>49</th>\n",
       "      <td>Hybrid Beers</td>\n",
       "      <td>3</td>\n",
       "      <td>0.234310</td>\n",
       "    </tr>\n",
       "    <tr>\n",
       "      <th>50</th>\n",
       "      <td>India Pale Ales</td>\n",
       "      <td>3</td>\n",
       "      <td>22.832636</td>\n",
       "    </tr>\n",
       "    <tr>\n",
       "      <th>51</th>\n",
       "      <td>Pale Ales</td>\n",
       "      <td>3</td>\n",
       "      <td>7.468619</td>\n",
       "    </tr>\n",
       "    <tr>\n",
       "      <th>52</th>\n",
       "      <td>Pale Lagers</td>\n",
       "      <td>3</td>\n",
       "      <td>2.012552</td>\n",
       "    </tr>\n",
       "    <tr>\n",
       "      <th>53</th>\n",
       "      <td>Porters</td>\n",
       "      <td>3</td>\n",
       "      <td>1.351464</td>\n",
       "    </tr>\n",
       "    <tr>\n",
       "      <th>54</th>\n",
       "      <td>Specialty Beer</td>\n",
       "      <td>3</td>\n",
       "      <td>1.221757</td>\n",
       "    </tr>\n",
       "    <tr>\n",
       "      <th>55</th>\n",
       "      <td>Stouts</td>\n",
       "      <td>3</td>\n",
       "      <td>4.556485</td>\n",
       "    </tr>\n",
       "    <tr>\n",
       "      <th>56</th>\n",
       "      <td>Strong Ales</td>\n",
       "      <td>3</td>\n",
       "      <td>4.075314</td>\n",
       "    </tr>\n",
       "    <tr>\n",
       "      <th>57</th>\n",
       "      <td>Weird Cocktail</td>\n",
       "      <td>3</td>\n",
       "      <td>0.012552</td>\n",
       "    </tr>\n",
       "    <tr>\n",
       "      <th>58</th>\n",
       "      <td>Wheat Beers</td>\n",
       "      <td>3</td>\n",
       "      <td>1.878661</td>\n",
       "    </tr>\n",
       "    <tr>\n",
       "      <th>59</th>\n",
       "      <td>Wild/Sour Beers</td>\n",
       "      <td>3</td>\n",
       "      <td>0.861925</td>\n",
       "    </tr>\n",
       "  </tbody>\n",
       "</table>\n",
       "</div>"
      ],
      "text/plain": [
       "              style cluster  Number of beer\n",
       "0             Bocks       0        1.659898\n",
       "1        Brown Ales       0        3.281726\n",
       "2         Dark Ales       0        1.654822\n",
       "3       Dark Lagers       0        1.530457\n",
       "4      Hybrid Beers       0        0.337563\n",
       "5   India Pale Ales       0        8.192893\n",
       "6         Pale Ales       0        9.408629\n",
       "7       Pale Lagers       0        3.868020\n",
       "8           Porters       0        2.296954\n",
       "9    Specialty Beer       0        1.743655\n",
       "10           Stouts       0        5.119289\n",
       "11      Strong Ales       0        6.131980\n",
       "12   Weird Cocktail       0        0.063452\n",
       "13      Wheat Beers       0        3.619289\n",
       "14  Wild/Sour Beers       0        1.091371\n",
       "15            Bocks       1        1.794326\n",
       "16       Brown Ales       1        2.723404\n",
       "17        Dark Ales       1        1.425532\n",
       "18      Dark Lagers       1        3.347518\n",
       "19     Hybrid Beers       1        0.382979\n",
       "20  India Pale Ales       1        3.297872\n",
       "21        Pale Ales       1        7.780142\n",
       "22      Pale Lagers       1       13.624113\n",
       "23          Porters       1        1.560284\n",
       "24   Specialty Beer       1        1.418440\n",
       "25           Stouts       1        3.510638\n",
       "26      Strong Ales       1        3.950355\n",
       "27   Weird Cocktail       1        0.156028\n",
       "28      Wheat Beers       1        4.744681\n",
       "29  Wild/Sour Beers       1        0.283688\n",
       "30            Bocks       2        0.816327\n",
       "31       Brown Ales       2        2.505102\n",
       "32        Dark Ales       2        0.959184\n",
       "33      Dark Lagers       2        0.632653\n",
       "34     Hybrid Beers       2        0.280612\n",
       "35  India Pale Ales       2        9.872449\n",
       "36        Pale Ales       2        4.750000\n",
       "37      Pale Lagers       2        1.295918\n",
       "38          Porters       2        3.096939\n",
       "39   Specialty Beer       2        1.341837\n",
       "40           Stouts       2       15.147959\n",
       "41      Strong Ales       2        6.168367\n",
       "42   Weird Cocktail       2        0.076531\n",
       "43      Wheat Beers       2        1.551020\n",
       "44  Wild/Sour Beers       2        1.505102\n",
       "45            Bocks       3        0.598326\n",
       "46       Brown Ales       3        1.732218\n",
       "47        Dark Ales       3        0.615063\n",
       "48      Dark Lagers       3        0.548117\n",
       "49     Hybrid Beers       3        0.234310\n",
       "50  India Pale Ales       3       22.832636\n",
       "51        Pale Ales       3        7.468619\n",
       "52      Pale Lagers       3        2.012552\n",
       "53          Porters       3        1.351464\n",
       "54   Specialty Beer       3        1.221757\n",
       "55           Stouts       3        4.556485\n",
       "56      Strong Ales       3        4.075314\n",
       "57   Weird Cocktail       3        0.012552\n",
       "58      Wheat Beers       3        1.878661\n",
       "59  Wild/Sour Beers       3        0.861925"
      ]
     },
     "execution_count": 43,
     "metadata": {},
     "output_type": "execute_result"
    }
   ],
   "source": [
    "#Display 4 clusters\n",
    "\n",
    "df_cluster_beer = pd.DataFrame(our_clustering_4.cluster_centers_.T)\n",
    "df_cluster_beer.index = user_to_cat_first.columns\n",
    "df_cluster_beer[\"style\"] = df_cluster_beer.index\n",
    "df_cluster_beer = pd.melt(df_cluster_beer, id_vars=[\"style\"], value_vars=[0,1,2,3])\n",
    "df_cluster_beer.columns = [\"style\", \"cluster\", \"Number of beer\"]\n",
    "df_cluster_beer"
   ]
  },
  {
   "cell_type": "code",
   "execution_count": 44,
   "metadata": {},
   "outputs": [
    {
     "data": {
      "text/html": [
       "<div>\n",
       "<style scoped>\n",
       "    .dataframe tbody tr th:only-of-type {\n",
       "        vertical-align: middle;\n",
       "    }\n",
       "\n",
       "    .dataframe tbody tr th {\n",
       "        vertical-align: top;\n",
       "    }\n",
       "\n",
       "    .dataframe thead th {\n",
       "        text-align: right;\n",
       "    }\n",
       "</style>\n",
       "<table border=\"1\" class=\"dataframe\">\n",
       "  <thead>\n",
       "    <tr style=\"text-align: right;\">\n",
       "      <th></th>\n",
       "      <th>category</th>\n",
       "      <th>cluster</th>\n",
       "      <th>Number of beer</th>\n",
       "    </tr>\n",
       "  </thead>\n",
       "  <tbody>\n",
       "    <tr>\n",
       "      <th>0</th>\n",
       "      <td>Bocks</td>\n",
       "      <td>0</td>\n",
       "      <td>1.034130</td>\n",
       "    </tr>\n",
       "    <tr>\n",
       "      <th>1</th>\n",
       "      <td>Brown Ales</td>\n",
       "      <td>0</td>\n",
       "      <td>2.559727</td>\n",
       "    </tr>\n",
       "    <tr>\n",
       "      <th>2</th>\n",
       "      <td>Dark Ales</td>\n",
       "      <td>0</td>\n",
       "      <td>1.191126</td>\n",
       "    </tr>\n",
       "    <tr>\n",
       "      <th>3</th>\n",
       "      <td>Dark Lagers</td>\n",
       "      <td>0</td>\n",
       "      <td>1.006826</td>\n",
       "    </tr>\n",
       "    <tr>\n",
       "      <th>4</th>\n",
       "      <td>Hybrid Beers</td>\n",
       "      <td>0</td>\n",
       "      <td>0.286689</td>\n",
       "    </tr>\n",
       "    <tr>\n",
       "      <th>...</th>\n",
       "      <td>...</td>\n",
       "      <td>...</td>\n",
       "      <td>...</td>\n",
       "    </tr>\n",
       "    <tr>\n",
       "      <th>70</th>\n",
       "      <td>Stouts</td>\n",
       "      <td>4</td>\n",
       "      <td>16.253165</td>\n",
       "    </tr>\n",
       "    <tr>\n",
       "      <th>71</th>\n",
       "      <td>Strong Ales</td>\n",
       "      <td>4</td>\n",
       "      <td>6.126582</td>\n",
       "    </tr>\n",
       "    <tr>\n",
       "      <th>72</th>\n",
       "      <td>Weird Cocktail</td>\n",
       "      <td>4</td>\n",
       "      <td>0.063291</td>\n",
       "    </tr>\n",
       "    <tr>\n",
       "      <th>73</th>\n",
       "      <td>Wheat Beers</td>\n",
       "      <td>4</td>\n",
       "      <td>1.468354</td>\n",
       "    </tr>\n",
       "    <tr>\n",
       "      <th>74</th>\n",
       "      <td>Wild/Sour Beers</td>\n",
       "      <td>4</td>\n",
       "      <td>1.708861</td>\n",
       "    </tr>\n",
       "  </tbody>\n",
       "</table>\n",
       "<p>75 rows × 3 columns</p>\n",
       "</div>"
      ],
      "text/plain": [
       "           category cluster  Number of beer\n",
       "0             Bocks       0        1.034130\n",
       "1        Brown Ales       0        2.559727\n",
       "2         Dark Ales       0        1.191126\n",
       "3       Dark Lagers       0        1.006826\n",
       "4      Hybrid Beers       0        0.286689\n",
       "..              ...     ...             ...\n",
       "70           Stouts       4       16.253165\n",
       "71      Strong Ales       4        6.126582\n",
       "72   Weird Cocktail       4        0.063291\n",
       "73      Wheat Beers       4        1.468354\n",
       "74  Wild/Sour Beers       4        1.708861\n",
       "\n",
       "[75 rows x 3 columns]"
      ]
     },
     "execution_count": 44,
     "metadata": {},
     "output_type": "execute_result"
    }
   ],
   "source": [
    "#display 5 clusters\n",
    "df_cluster_beer_5 = pd.DataFrame(our_clustering_5.cluster_centers_.T)\n",
    "df_cluster_beer_5.index = user_to_cat_first.columns\n",
    "df_cluster_beer_5[\"category\"] = df_cluster_beer_5.index\n",
    "df_cluster_beer_5 = pd.melt(df_cluster_beer_5, id_vars=[\"category\"], value_vars=[0,1,2,3,4])\n",
    "df_cluster_beer_5.columns = [\"category\", \"cluster\", \"Number of beer\"]\n",
    "df_cluster_beer_5"
   ]
  },
  {
   "cell_type": "code",
   "execution_count": 45,
   "metadata": {},
   "outputs": [
    {
     "data": {
      "application/vnd.plotly.v1+json": {
       "config": {
        "plotlyServerURL": "https://plot.ly"
       },
       "data": [
        {
         "hovertemplate": "cluster=0<br>style=%{x}<br>Number of beer=%{y}<extra></extra>",
         "legendgroup": "0",
         "line": {
          "color": "#636efa",
          "dash": "solid"
         },
         "marker": {
          "symbol": "circle"
         },
         "mode": "lines",
         "name": "0",
         "orientation": "v",
         "showlegend": true,
         "type": "scatter",
         "x": [
          "Bocks",
          "Brown Ales",
          "Dark Ales",
          "Dark Lagers",
          "Hybrid Beers",
          "India Pale Ales",
          "Pale Ales",
          "Pale Lagers",
          "Porters",
          "Specialty Beer",
          "Stouts",
          "Strong Ales",
          "Weird Cocktail",
          "Wheat Beers",
          "Wild/Sour Beers"
         ],
         "xaxis": "x",
         "y": [
          1.659898477157361,
          3.281725888324872,
          1.6548223350253808,
          1.530456852791878,
          0.33756345177664976,
          8.192893401015231,
          9.408629441624365,
          3.868020304568528,
          2.296954314720812,
          1.7436548223350261,
          5.119289340101523,
          6.131979695431471,
          0.0634517766497462,
          3.619289340101523,
          1.091370558375634
         ],
         "yaxis": "y"
        },
        {
         "hovertemplate": "cluster=1<br>style=%{x}<br>Number of beer=%{y}<extra></extra>",
         "legendgroup": "1",
         "line": {
          "color": "#EF553B",
          "dash": "solid"
         },
         "marker": {
          "symbol": "circle"
         },
         "mode": "lines",
         "name": "1",
         "orientation": "v",
         "showlegend": true,
         "type": "scatter",
         "x": [
          "Bocks",
          "Brown Ales",
          "Dark Ales",
          "Dark Lagers",
          "Hybrid Beers",
          "India Pale Ales",
          "Pale Ales",
          "Pale Lagers",
          "Porters",
          "Specialty Beer",
          "Stouts",
          "Strong Ales",
          "Weird Cocktail",
          "Wheat Beers",
          "Wild/Sour Beers"
         ],
         "xaxis": "x",
         "y": [
          1.7943262411347523,
          2.723404255319149,
          1.425531914893617,
          3.3475177304964547,
          0.3829787234042553,
          3.297872340425533,
          7.780141843971631,
          13.62411347517731,
          1.5602836879432624,
          1.4184397163120568,
          3.510638297872343,
          3.950354609929078,
          0.15602836879432622,
          4.74468085106383,
          0.28368794326241065
         ],
         "yaxis": "y"
        },
        {
         "hovertemplate": "cluster=2<br>style=%{x}<br>Number of beer=%{y}<extra></extra>",
         "legendgroup": "2",
         "line": {
          "color": "#00cc96",
          "dash": "solid"
         },
         "marker": {
          "symbol": "circle"
         },
         "mode": "lines",
         "name": "2",
         "orientation": "v",
         "showlegend": true,
         "type": "scatter",
         "x": [
          "Bocks",
          "Brown Ales",
          "Dark Ales",
          "Dark Lagers",
          "Hybrid Beers",
          "India Pale Ales",
          "Pale Ales",
          "Pale Lagers",
          "Porters",
          "Specialty Beer",
          "Stouts",
          "Strong Ales",
          "Weird Cocktail",
          "Wheat Beers",
          "Wild/Sour Beers"
         ],
         "xaxis": "x",
         "y": [
          0.8163265306122454,
          2.5051020408163267,
          0.959183673469388,
          0.6326530612244905,
          0.2806122448979592,
          9.872448979591834,
          4.75,
          1.295918367346938,
          3.0969387755102042,
          1.3418367346938775,
          15.147959183673475,
          6.1683673469387745,
          0.07653061224489796,
          1.5510204081632657,
          1.5051020408163256
         ],
         "yaxis": "y"
        },
        {
         "hovertemplate": "cluster=3<br>style=%{x}<br>Number of beer=%{y}<extra></extra>",
         "legendgroup": "3",
         "line": {
          "color": "#ab63fa",
          "dash": "solid"
         },
         "marker": {
          "symbol": "circle"
         },
         "mode": "lines",
         "name": "3",
         "orientation": "v",
         "showlegend": true,
         "type": "scatter",
         "x": [
          "Bocks",
          "Brown Ales",
          "Dark Ales",
          "Dark Lagers",
          "Hybrid Beers",
          "India Pale Ales",
          "Pale Ales",
          "Pale Lagers",
          "Porters",
          "Specialty Beer",
          "Stouts",
          "Strong Ales",
          "Weird Cocktail",
          "Wheat Beers",
          "Wild/Sour Beers"
         ],
         "xaxis": "x",
         "y": [
          0.5983263598326368,
          1.7322175732217566,
          0.6150627615062763,
          0.5481171548117162,
          0.2343096234309624,
          22.83263598326361,
          7.468619246861924,
          2.012552301255228,
          1.3514644351464442,
          1.2217573221757325,
          4.556485355648537,
          4.07531380753138,
          0.01255230125523004,
          1.8786610878661099,
          0.8619246861924685
         ],
         "yaxis": "y"
        }
       ],
       "layout": {
        "legend": {
         "title": {
          "text": "cluster"
         },
         "tracegroupgap": 0
        },
        "template": {
         "data": {
          "bar": [
           {
            "error_x": {
             "color": "#2a3f5f"
            },
            "error_y": {
             "color": "#2a3f5f"
            },
            "marker": {
             "line": {
              "color": "#E5ECF6",
              "width": 0.5
             },
             "pattern": {
              "fillmode": "overlay",
              "size": 10,
              "solidity": 0.2
             }
            },
            "type": "bar"
           }
          ],
          "barpolar": [
           {
            "marker": {
             "line": {
              "color": "#E5ECF6",
              "width": 0.5
             },
             "pattern": {
              "fillmode": "overlay",
              "size": 10,
              "solidity": 0.2
             }
            },
            "type": "barpolar"
           }
          ],
          "carpet": [
           {
            "aaxis": {
             "endlinecolor": "#2a3f5f",
             "gridcolor": "white",
             "linecolor": "white",
             "minorgridcolor": "white",
             "startlinecolor": "#2a3f5f"
            },
            "baxis": {
             "endlinecolor": "#2a3f5f",
             "gridcolor": "white",
             "linecolor": "white",
             "minorgridcolor": "white",
             "startlinecolor": "#2a3f5f"
            },
            "type": "carpet"
           }
          ],
          "choropleth": [
           {
            "colorbar": {
             "outlinewidth": 0,
             "ticks": ""
            },
            "type": "choropleth"
           }
          ],
          "contour": [
           {
            "colorbar": {
             "outlinewidth": 0,
             "ticks": ""
            },
            "colorscale": [
             [
              0,
              "#0d0887"
             ],
             [
              0.1111111111111111,
              "#46039f"
             ],
             [
              0.2222222222222222,
              "#7201a8"
             ],
             [
              0.3333333333333333,
              "#9c179e"
             ],
             [
              0.4444444444444444,
              "#bd3786"
             ],
             [
              0.5555555555555556,
              "#d8576b"
             ],
             [
              0.6666666666666666,
              "#ed7953"
             ],
             [
              0.7777777777777778,
              "#fb9f3a"
             ],
             [
              0.8888888888888888,
              "#fdca26"
             ],
             [
              1,
              "#f0f921"
             ]
            ],
            "type": "contour"
           }
          ],
          "contourcarpet": [
           {
            "colorbar": {
             "outlinewidth": 0,
             "ticks": ""
            },
            "type": "contourcarpet"
           }
          ],
          "heatmap": [
           {
            "colorbar": {
             "outlinewidth": 0,
             "ticks": ""
            },
            "colorscale": [
             [
              0,
              "#0d0887"
             ],
             [
              0.1111111111111111,
              "#46039f"
             ],
             [
              0.2222222222222222,
              "#7201a8"
             ],
             [
              0.3333333333333333,
              "#9c179e"
             ],
             [
              0.4444444444444444,
              "#bd3786"
             ],
             [
              0.5555555555555556,
              "#d8576b"
             ],
             [
              0.6666666666666666,
              "#ed7953"
             ],
             [
              0.7777777777777778,
              "#fb9f3a"
             ],
             [
              0.8888888888888888,
              "#fdca26"
             ],
             [
              1,
              "#f0f921"
             ]
            ],
            "type": "heatmap"
           }
          ],
          "heatmapgl": [
           {
            "colorbar": {
             "outlinewidth": 0,
             "ticks": ""
            },
            "colorscale": [
             [
              0,
              "#0d0887"
             ],
             [
              0.1111111111111111,
              "#46039f"
             ],
             [
              0.2222222222222222,
              "#7201a8"
             ],
             [
              0.3333333333333333,
              "#9c179e"
             ],
             [
              0.4444444444444444,
              "#bd3786"
             ],
             [
              0.5555555555555556,
              "#d8576b"
             ],
             [
              0.6666666666666666,
              "#ed7953"
             ],
             [
              0.7777777777777778,
              "#fb9f3a"
             ],
             [
              0.8888888888888888,
              "#fdca26"
             ],
             [
              1,
              "#f0f921"
             ]
            ],
            "type": "heatmapgl"
           }
          ],
          "histogram": [
           {
            "marker": {
             "pattern": {
              "fillmode": "overlay",
              "size": 10,
              "solidity": 0.2
             }
            },
            "type": "histogram"
           }
          ],
          "histogram2d": [
           {
            "colorbar": {
             "outlinewidth": 0,
             "ticks": ""
            },
            "colorscale": [
             [
              0,
              "#0d0887"
             ],
             [
              0.1111111111111111,
              "#46039f"
             ],
             [
              0.2222222222222222,
              "#7201a8"
             ],
             [
              0.3333333333333333,
              "#9c179e"
             ],
             [
              0.4444444444444444,
              "#bd3786"
             ],
             [
              0.5555555555555556,
              "#d8576b"
             ],
             [
              0.6666666666666666,
              "#ed7953"
             ],
             [
              0.7777777777777778,
              "#fb9f3a"
             ],
             [
              0.8888888888888888,
              "#fdca26"
             ],
             [
              1,
              "#f0f921"
             ]
            ],
            "type": "histogram2d"
           }
          ],
          "histogram2dcontour": [
           {
            "colorbar": {
             "outlinewidth": 0,
             "ticks": ""
            },
            "colorscale": [
             [
              0,
              "#0d0887"
             ],
             [
              0.1111111111111111,
              "#46039f"
             ],
             [
              0.2222222222222222,
              "#7201a8"
             ],
             [
              0.3333333333333333,
              "#9c179e"
             ],
             [
              0.4444444444444444,
              "#bd3786"
             ],
             [
              0.5555555555555556,
              "#d8576b"
             ],
             [
              0.6666666666666666,
              "#ed7953"
             ],
             [
              0.7777777777777778,
              "#fb9f3a"
             ],
             [
              0.8888888888888888,
              "#fdca26"
             ],
             [
              1,
              "#f0f921"
             ]
            ],
            "type": "histogram2dcontour"
           }
          ],
          "mesh3d": [
           {
            "colorbar": {
             "outlinewidth": 0,
             "ticks": ""
            },
            "type": "mesh3d"
           }
          ],
          "parcoords": [
           {
            "line": {
             "colorbar": {
              "outlinewidth": 0,
              "ticks": ""
             }
            },
            "type": "parcoords"
           }
          ],
          "pie": [
           {
            "automargin": true,
            "type": "pie"
           }
          ],
          "scatter": [
           {
            "fillpattern": {
             "fillmode": "overlay",
             "size": 10,
             "solidity": 0.2
            },
            "type": "scatter"
           }
          ],
          "scatter3d": [
           {
            "line": {
             "colorbar": {
              "outlinewidth": 0,
              "ticks": ""
             }
            },
            "marker": {
             "colorbar": {
              "outlinewidth": 0,
              "ticks": ""
             }
            },
            "type": "scatter3d"
           }
          ],
          "scattercarpet": [
           {
            "marker": {
             "colorbar": {
              "outlinewidth": 0,
              "ticks": ""
             }
            },
            "type": "scattercarpet"
           }
          ],
          "scattergeo": [
           {
            "marker": {
             "colorbar": {
              "outlinewidth": 0,
              "ticks": ""
             }
            },
            "type": "scattergeo"
           }
          ],
          "scattergl": [
           {
            "marker": {
             "colorbar": {
              "outlinewidth": 0,
              "ticks": ""
             }
            },
            "type": "scattergl"
           }
          ],
          "scattermapbox": [
           {
            "marker": {
             "colorbar": {
              "outlinewidth": 0,
              "ticks": ""
             }
            },
            "type": "scattermapbox"
           }
          ],
          "scatterpolar": [
           {
            "marker": {
             "colorbar": {
              "outlinewidth": 0,
              "ticks": ""
             }
            },
            "type": "scatterpolar"
           }
          ],
          "scatterpolargl": [
           {
            "marker": {
             "colorbar": {
              "outlinewidth": 0,
              "ticks": ""
             }
            },
            "type": "scatterpolargl"
           }
          ],
          "scatterternary": [
           {
            "marker": {
             "colorbar": {
              "outlinewidth": 0,
              "ticks": ""
             }
            },
            "type": "scatterternary"
           }
          ],
          "surface": [
           {
            "colorbar": {
             "outlinewidth": 0,
             "ticks": ""
            },
            "colorscale": [
             [
              0,
              "#0d0887"
             ],
             [
              0.1111111111111111,
              "#46039f"
             ],
             [
              0.2222222222222222,
              "#7201a8"
             ],
             [
              0.3333333333333333,
              "#9c179e"
             ],
             [
              0.4444444444444444,
              "#bd3786"
             ],
             [
              0.5555555555555556,
              "#d8576b"
             ],
             [
              0.6666666666666666,
              "#ed7953"
             ],
             [
              0.7777777777777778,
              "#fb9f3a"
             ],
             [
              0.8888888888888888,
              "#fdca26"
             ],
             [
              1,
              "#f0f921"
             ]
            ],
            "type": "surface"
           }
          ],
          "table": [
           {
            "cells": {
             "fill": {
              "color": "#EBF0F8"
             },
             "line": {
              "color": "white"
             }
            },
            "header": {
             "fill": {
              "color": "#C8D4E3"
             },
             "line": {
              "color": "white"
             }
            },
            "type": "table"
           }
          ]
         },
         "layout": {
          "annotationdefaults": {
           "arrowcolor": "#2a3f5f",
           "arrowhead": 0,
           "arrowwidth": 1
          },
          "autotypenumbers": "strict",
          "coloraxis": {
           "colorbar": {
            "outlinewidth": 0,
            "ticks": ""
           }
          },
          "colorscale": {
           "diverging": [
            [
             0,
             "#8e0152"
            ],
            [
             0.1,
             "#c51b7d"
            ],
            [
             0.2,
             "#de77ae"
            ],
            [
             0.3,
             "#f1b6da"
            ],
            [
             0.4,
             "#fde0ef"
            ],
            [
             0.5,
             "#f7f7f7"
            ],
            [
             0.6,
             "#e6f5d0"
            ],
            [
             0.7,
             "#b8e186"
            ],
            [
             0.8,
             "#7fbc41"
            ],
            [
             0.9,
             "#4d9221"
            ],
            [
             1,
             "#276419"
            ]
           ],
           "sequential": [
            [
             0,
             "#0d0887"
            ],
            [
             0.1111111111111111,
             "#46039f"
            ],
            [
             0.2222222222222222,
             "#7201a8"
            ],
            [
             0.3333333333333333,
             "#9c179e"
            ],
            [
             0.4444444444444444,
             "#bd3786"
            ],
            [
             0.5555555555555556,
             "#d8576b"
            ],
            [
             0.6666666666666666,
             "#ed7953"
            ],
            [
             0.7777777777777778,
             "#fb9f3a"
            ],
            [
             0.8888888888888888,
             "#fdca26"
            ],
            [
             1,
             "#f0f921"
            ]
           ],
           "sequentialminus": [
            [
             0,
             "#0d0887"
            ],
            [
             0.1111111111111111,
             "#46039f"
            ],
            [
             0.2222222222222222,
             "#7201a8"
            ],
            [
             0.3333333333333333,
             "#9c179e"
            ],
            [
             0.4444444444444444,
             "#bd3786"
            ],
            [
             0.5555555555555556,
             "#d8576b"
            ],
            [
             0.6666666666666666,
             "#ed7953"
            ],
            [
             0.7777777777777778,
             "#fb9f3a"
            ],
            [
             0.8888888888888888,
             "#fdca26"
            ],
            [
             1,
             "#f0f921"
            ]
           ]
          },
          "colorway": [
           "#636efa",
           "#EF553B",
           "#00cc96",
           "#ab63fa",
           "#FFA15A",
           "#19d3f3",
           "#FF6692",
           "#B6E880",
           "#FF97FF",
           "#FECB52"
          ],
          "font": {
           "color": "#2a3f5f"
          },
          "geo": {
           "bgcolor": "white",
           "lakecolor": "white",
           "landcolor": "#E5ECF6",
           "showlakes": true,
           "showland": true,
           "subunitcolor": "white"
          },
          "hoverlabel": {
           "align": "left"
          },
          "hovermode": "closest",
          "mapbox": {
           "style": "light"
          },
          "paper_bgcolor": "white",
          "plot_bgcolor": "#E5ECF6",
          "polar": {
           "angularaxis": {
            "gridcolor": "white",
            "linecolor": "white",
            "ticks": ""
           },
           "bgcolor": "#E5ECF6",
           "radialaxis": {
            "gridcolor": "white",
            "linecolor": "white",
            "ticks": ""
           }
          },
          "scene": {
           "xaxis": {
            "backgroundcolor": "#E5ECF6",
            "gridcolor": "white",
            "gridwidth": 2,
            "linecolor": "white",
            "showbackground": true,
            "ticks": "",
            "zerolinecolor": "white"
           },
           "yaxis": {
            "backgroundcolor": "#E5ECF6",
            "gridcolor": "white",
            "gridwidth": 2,
            "linecolor": "white",
            "showbackground": true,
            "ticks": "",
            "zerolinecolor": "white"
           },
           "zaxis": {
            "backgroundcolor": "#E5ECF6",
            "gridcolor": "white",
            "gridwidth": 2,
            "linecolor": "white",
            "showbackground": true,
            "ticks": "",
            "zerolinecolor": "white"
           }
          },
          "shapedefaults": {
           "line": {
            "color": "#2a3f5f"
           }
          },
          "ternary": {
           "aaxis": {
            "gridcolor": "white",
            "linecolor": "white",
            "ticks": ""
           },
           "baxis": {
            "gridcolor": "white",
            "linecolor": "white",
            "ticks": ""
           },
           "bgcolor": "#E5ECF6",
           "caxis": {
            "gridcolor": "white",
            "linecolor": "white",
            "ticks": ""
           }
          },
          "title": {
           "x": 0.05
          },
          "xaxis": {
           "automargin": true,
           "gridcolor": "white",
           "linecolor": "white",
           "ticks": "",
           "title": {
            "standoff": 15
           },
           "zerolinecolor": "white",
           "zerolinewidth": 2
          },
          "yaxis": {
           "automargin": true,
           "gridcolor": "white",
           "linecolor": "white",
           "ticks": "",
           "title": {
            "standoff": 15
           },
           "zerolinecolor": "white",
           "zerolinewidth": 2
          }
         }
        },
        "title": {
         "text": "Centroids obtained with Kmeans (k=4) of the first 50 ratings of each user"
        },
        "xaxis": {
         "anchor": "y",
         "domain": [
          0,
          1
         ],
         "title": {
          "text": "style"
         }
        },
        "yaxis": {
         "anchor": "x",
         "domain": [
          0,
          1
         ],
         "title": {
          "text": "Number of beer"
         }
        }
       }
      }
     },
     "metadata": {},
     "output_type": "display_data"
    }
   ],
   "source": [
    "fig = px.line(df_cluster_beer, x=\"style\", y=\"Number of beer\", color=\"cluster\", title=\"Centroids obtained with Kmeans (k=4) of the first 50 ratings of each user\")\n",
    "fig.show()\n",
    "#fig.write_html(\"centroid.html\")"
   ]
  },
  {
   "attachments": {},
   "cell_type": "markdown",
   "metadata": {},
   "source": [
    "we see that 3 cluster are really corelatd -> can be merged into 2 : IPA lovers, and beer discoverer -> keep k = 4"
   ]
  },
  {
   "cell_type": "code",
   "execution_count": 46,
   "metadata": {},
   "outputs": [],
   "source": [
    "df_valid_ratings.to_pickle('leandrinho.pkl')"
   ]
  },
  {
   "cell_type": "code",
   "execution_count": 47,
   "metadata": {},
   "outputs": [
    {
     "data": {
      "application/vnd.plotly.v1+json": {
       "config": {
        "plotlyServerURL": "https://plot.ly"
       },
       "data": [
        {
         "hovertemplate": "cluster=0<br>category=%{x}<br>Number of beer=%{y}<extra></extra>",
         "legendgroup": "0",
         "line": {
          "color": "#636efa",
          "dash": "solid"
         },
         "marker": {
          "symbol": "circle"
         },
         "mode": "lines",
         "name": "0",
         "orientation": "v",
         "showlegend": true,
         "type": "scatter",
         "x": [
          "Bocks",
          "Brown Ales",
          "Dark Ales",
          "Dark Lagers",
          "Hybrid Beers",
          "India Pale Ales",
          "Pale Ales",
          "Pale Lagers",
          "Porters",
          "Specialty Beer",
          "Stouts",
          "Strong Ales",
          "Weird Cocktail",
          "Wheat Beers",
          "Wild/Sour Beers"
         ],
         "xaxis": "x",
         "y": [
          1.034129692832765,
          2.559726962457338,
          1.1911262798634814,
          1.0068259385665534,
          0.28668941979522194,
          14.4778156996587,
          8.470989761092149,
          3.252559726962457,
          1.9522184300341296,
          1.8088737201365193,
          5.430034129692834,
          4.986348122866894,
          0.04095563139931736,
          2.610921501706485,
          0.8907849829351535
         ],
         "yaxis": "y"
        },
        {
         "hovertemplate": "cluster=1<br>category=%{x}<br>Number of beer=%{y}<extra></extra>",
         "legendgroup": "1",
         "line": {
          "color": "#EF553B",
          "dash": "solid"
         },
         "marker": {
          "symbol": "circle"
         },
         "mode": "lines",
         "name": "1",
         "orientation": "v",
         "showlegend": true,
         "type": "scatter",
         "x": [
          "Bocks",
          "Brown Ales",
          "Dark Ales",
          "Dark Lagers",
          "Hybrid Beers",
          "India Pale Ales",
          "Pale Ales",
          "Pale Lagers",
          "Porters",
          "Specialty Beer",
          "Stouts",
          "Strong Ales",
          "Weird Cocktail",
          "Wheat Beers",
          "Wild/Sour Beers"
         ],
         "xaxis": "x",
         "y": [
          0.3722627737226284,
          1.2919708029197075,
          0.4306569343065699,
          0.48905109489051135,
          0.197080291970803,
          26.40145985401461,
          7.21897810218978,
          1.7007299270072984,
          1.058394160583942,
          0.9270072992700734,
          4.087591240875914,
          3.3941605839416047,
          0.014598540145985398,
          1.576642335766424,
          0.8394160583941606
         ],
         "yaxis": "y"
        },
        {
         "hovertemplate": "cluster=2<br>category=%{x}<br>Number of beer=%{y}<extra></extra>",
         "legendgroup": "2",
         "line": {
          "color": "#00cc96",
          "dash": "solid"
         },
         "marker": {
          "symbol": "circle"
         },
         "mode": "lines",
         "name": "2",
         "orientation": "v",
         "showlegend": true,
         "type": "scatter",
         "x": [
          "Bocks",
          "Brown Ales",
          "Dark Ales",
          "Dark Lagers",
          "Hybrid Beers",
          "India Pale Ales",
          "Pale Ales",
          "Pale Lagers",
          "Porters",
          "Specialty Beer",
          "Stouts",
          "Strong Ales",
          "Weird Cocktail",
          "Wheat Beers",
          "Wild/Sour Beers"
         ],
         "xaxis": "x",
         "y": [
          1.5816326530612246,
          2.2142857142857144,
          1.0816326530612246,
          3.2142857142857144,
          0.40816326530612246,
          3.765306122448977,
          7.530612244897959,
          15.857142857142861,
          1.1530612244897958,
          1.2653061224489797,
          2.8571428571428594,
          3.612244897959184,
          0.163265306122449,
          5.071428571428571,
          0.22448979591836693
         ],
         "yaxis": "y"
        },
        {
         "hovertemplate": "cluster=3<br>category=%{x}<br>Number of beer=%{y}<extra></extra>",
         "legendgroup": "3",
         "line": {
          "color": "#ab63fa",
          "dash": "solid"
         },
         "marker": {
          "symbol": "circle"
         },
         "mode": "lines",
         "name": "3",
         "orientation": "v",
         "showlegend": true,
         "type": "scatter",
         "x": [
          "Bocks",
          "Brown Ales",
          "Dark Ales",
          "Dark Lagers",
          "Hybrid Beers",
          "India Pale Ales",
          "Pale Ales",
          "Pale Lagers",
          "Porters",
          "Specialty Beer",
          "Stouts",
          "Strong Ales",
          "Weird Cocktail",
          "Wheat Beers",
          "Wild/Sour Beers"
         ],
         "xaxis": "x",
         "y": [
          2.021126760563381,
          3.82394366197183,
          1.887323943661971,
          1.9718309859154934,
          0.3591549295774649,
          4.700704225352123,
          9.186619718309858,
          4.461267605633803,
          2.528169014084507,
          1.6478873239436629,
          5.531690140845072,
          6.718309859154928,
          0.08802816901408447,
          4.007042253521127,
          1.066901408450704
         ],
         "yaxis": "y"
        },
        {
         "hovertemplate": "cluster=4<br>category=%{x}<br>Number of beer=%{y}<extra></extra>",
         "legendgroup": "4",
         "line": {
          "color": "#FFA15A",
          "dash": "solid"
         },
         "marker": {
          "symbol": "circle"
         },
         "mode": "lines",
         "name": "4",
         "orientation": "v",
         "showlegend": true,
         "type": "scatter",
         "x": [
          "Bocks",
          "Brown Ales",
          "Dark Ales",
          "Dark Lagers",
          "Hybrid Beers",
          "India Pale Ales",
          "Pale Ales",
          "Pale Lagers",
          "Porters",
          "Specialty Beer",
          "Stouts",
          "Strong Ales",
          "Weird Cocktail",
          "Wheat Beers",
          "Wild/Sour Beers"
         ],
         "xaxis": "x",
         "y": [
          0.8037974683544307,
          2.2278481012658227,
          0.8734177215189877,
          0.5886075949367094,
          0.2848101265822785,
          9.632911392405061,
          4.443037974683544,
          1.0949367088607578,
          3.208860759493671,
          1.2215189873417722,
          16.253164556962027,
          6.1265822784810124,
          0.06329113924050629,
          1.4683544303797469,
          1.70886075949367
         ],
         "yaxis": "y"
        }
       ],
       "layout": {
        "legend": {
         "title": {
          "text": "cluster"
         },
         "tracegroupgap": 0
        },
        "template": {
         "data": {
          "bar": [
           {
            "error_x": {
             "color": "#2a3f5f"
            },
            "error_y": {
             "color": "#2a3f5f"
            },
            "marker": {
             "line": {
              "color": "#E5ECF6",
              "width": 0.5
             },
             "pattern": {
              "fillmode": "overlay",
              "size": 10,
              "solidity": 0.2
             }
            },
            "type": "bar"
           }
          ],
          "barpolar": [
           {
            "marker": {
             "line": {
              "color": "#E5ECF6",
              "width": 0.5
             },
             "pattern": {
              "fillmode": "overlay",
              "size": 10,
              "solidity": 0.2
             }
            },
            "type": "barpolar"
           }
          ],
          "carpet": [
           {
            "aaxis": {
             "endlinecolor": "#2a3f5f",
             "gridcolor": "white",
             "linecolor": "white",
             "minorgridcolor": "white",
             "startlinecolor": "#2a3f5f"
            },
            "baxis": {
             "endlinecolor": "#2a3f5f",
             "gridcolor": "white",
             "linecolor": "white",
             "minorgridcolor": "white",
             "startlinecolor": "#2a3f5f"
            },
            "type": "carpet"
           }
          ],
          "choropleth": [
           {
            "colorbar": {
             "outlinewidth": 0,
             "ticks": ""
            },
            "type": "choropleth"
           }
          ],
          "contour": [
           {
            "colorbar": {
             "outlinewidth": 0,
             "ticks": ""
            },
            "colorscale": [
             [
              0,
              "#0d0887"
             ],
             [
              0.1111111111111111,
              "#46039f"
             ],
             [
              0.2222222222222222,
              "#7201a8"
             ],
             [
              0.3333333333333333,
              "#9c179e"
             ],
             [
              0.4444444444444444,
              "#bd3786"
             ],
             [
              0.5555555555555556,
              "#d8576b"
             ],
             [
              0.6666666666666666,
              "#ed7953"
             ],
             [
              0.7777777777777778,
              "#fb9f3a"
             ],
             [
              0.8888888888888888,
              "#fdca26"
             ],
             [
              1,
              "#f0f921"
             ]
            ],
            "type": "contour"
           }
          ],
          "contourcarpet": [
           {
            "colorbar": {
             "outlinewidth": 0,
             "ticks": ""
            },
            "type": "contourcarpet"
           }
          ],
          "heatmap": [
           {
            "colorbar": {
             "outlinewidth": 0,
             "ticks": ""
            },
            "colorscale": [
             [
              0,
              "#0d0887"
             ],
             [
              0.1111111111111111,
              "#46039f"
             ],
             [
              0.2222222222222222,
              "#7201a8"
             ],
             [
              0.3333333333333333,
              "#9c179e"
             ],
             [
              0.4444444444444444,
              "#bd3786"
             ],
             [
              0.5555555555555556,
              "#d8576b"
             ],
             [
              0.6666666666666666,
              "#ed7953"
             ],
             [
              0.7777777777777778,
              "#fb9f3a"
             ],
             [
              0.8888888888888888,
              "#fdca26"
             ],
             [
              1,
              "#f0f921"
             ]
            ],
            "type": "heatmap"
           }
          ],
          "heatmapgl": [
           {
            "colorbar": {
             "outlinewidth": 0,
             "ticks": ""
            },
            "colorscale": [
             [
              0,
              "#0d0887"
             ],
             [
              0.1111111111111111,
              "#46039f"
             ],
             [
              0.2222222222222222,
              "#7201a8"
             ],
             [
              0.3333333333333333,
              "#9c179e"
             ],
             [
              0.4444444444444444,
              "#bd3786"
             ],
             [
              0.5555555555555556,
              "#d8576b"
             ],
             [
              0.6666666666666666,
              "#ed7953"
             ],
             [
              0.7777777777777778,
              "#fb9f3a"
             ],
             [
              0.8888888888888888,
              "#fdca26"
             ],
             [
              1,
              "#f0f921"
             ]
            ],
            "type": "heatmapgl"
           }
          ],
          "histogram": [
           {
            "marker": {
             "pattern": {
              "fillmode": "overlay",
              "size": 10,
              "solidity": 0.2
             }
            },
            "type": "histogram"
           }
          ],
          "histogram2d": [
           {
            "colorbar": {
             "outlinewidth": 0,
             "ticks": ""
            },
            "colorscale": [
             [
              0,
              "#0d0887"
             ],
             [
              0.1111111111111111,
              "#46039f"
             ],
             [
              0.2222222222222222,
              "#7201a8"
             ],
             [
              0.3333333333333333,
              "#9c179e"
             ],
             [
              0.4444444444444444,
              "#bd3786"
             ],
             [
              0.5555555555555556,
              "#d8576b"
             ],
             [
              0.6666666666666666,
              "#ed7953"
             ],
             [
              0.7777777777777778,
              "#fb9f3a"
             ],
             [
              0.8888888888888888,
              "#fdca26"
             ],
             [
              1,
              "#f0f921"
             ]
            ],
            "type": "histogram2d"
           }
          ],
          "histogram2dcontour": [
           {
            "colorbar": {
             "outlinewidth": 0,
             "ticks": ""
            },
            "colorscale": [
             [
              0,
              "#0d0887"
             ],
             [
              0.1111111111111111,
              "#46039f"
             ],
             [
              0.2222222222222222,
              "#7201a8"
             ],
             [
              0.3333333333333333,
              "#9c179e"
             ],
             [
              0.4444444444444444,
              "#bd3786"
             ],
             [
              0.5555555555555556,
              "#d8576b"
             ],
             [
              0.6666666666666666,
              "#ed7953"
             ],
             [
              0.7777777777777778,
              "#fb9f3a"
             ],
             [
              0.8888888888888888,
              "#fdca26"
             ],
             [
              1,
              "#f0f921"
             ]
            ],
            "type": "histogram2dcontour"
           }
          ],
          "mesh3d": [
           {
            "colorbar": {
             "outlinewidth": 0,
             "ticks": ""
            },
            "type": "mesh3d"
           }
          ],
          "parcoords": [
           {
            "line": {
             "colorbar": {
              "outlinewidth": 0,
              "ticks": ""
             }
            },
            "type": "parcoords"
           }
          ],
          "pie": [
           {
            "automargin": true,
            "type": "pie"
           }
          ],
          "scatter": [
           {
            "fillpattern": {
             "fillmode": "overlay",
             "size": 10,
             "solidity": 0.2
            },
            "type": "scatter"
           }
          ],
          "scatter3d": [
           {
            "line": {
             "colorbar": {
              "outlinewidth": 0,
              "ticks": ""
             }
            },
            "marker": {
             "colorbar": {
              "outlinewidth": 0,
              "ticks": ""
             }
            },
            "type": "scatter3d"
           }
          ],
          "scattercarpet": [
           {
            "marker": {
             "colorbar": {
              "outlinewidth": 0,
              "ticks": ""
             }
            },
            "type": "scattercarpet"
           }
          ],
          "scattergeo": [
           {
            "marker": {
             "colorbar": {
              "outlinewidth": 0,
              "ticks": ""
             }
            },
            "type": "scattergeo"
           }
          ],
          "scattergl": [
           {
            "marker": {
             "colorbar": {
              "outlinewidth": 0,
              "ticks": ""
             }
            },
            "type": "scattergl"
           }
          ],
          "scattermapbox": [
           {
            "marker": {
             "colorbar": {
              "outlinewidth": 0,
              "ticks": ""
             }
            },
            "type": "scattermapbox"
           }
          ],
          "scatterpolar": [
           {
            "marker": {
             "colorbar": {
              "outlinewidth": 0,
              "ticks": ""
             }
            },
            "type": "scatterpolar"
           }
          ],
          "scatterpolargl": [
           {
            "marker": {
             "colorbar": {
              "outlinewidth": 0,
              "ticks": ""
             }
            },
            "type": "scatterpolargl"
           }
          ],
          "scatterternary": [
           {
            "marker": {
             "colorbar": {
              "outlinewidth": 0,
              "ticks": ""
             }
            },
            "type": "scatterternary"
           }
          ],
          "surface": [
           {
            "colorbar": {
             "outlinewidth": 0,
             "ticks": ""
            },
            "colorscale": [
             [
              0,
              "#0d0887"
             ],
             [
              0.1111111111111111,
              "#46039f"
             ],
             [
              0.2222222222222222,
              "#7201a8"
             ],
             [
              0.3333333333333333,
              "#9c179e"
             ],
             [
              0.4444444444444444,
              "#bd3786"
             ],
             [
              0.5555555555555556,
              "#d8576b"
             ],
             [
              0.6666666666666666,
              "#ed7953"
             ],
             [
              0.7777777777777778,
              "#fb9f3a"
             ],
             [
              0.8888888888888888,
              "#fdca26"
             ],
             [
              1,
              "#f0f921"
             ]
            ],
            "type": "surface"
           }
          ],
          "table": [
           {
            "cells": {
             "fill": {
              "color": "#EBF0F8"
             },
             "line": {
              "color": "white"
             }
            },
            "header": {
             "fill": {
              "color": "#C8D4E3"
             },
             "line": {
              "color": "white"
             }
            },
            "type": "table"
           }
          ]
         },
         "layout": {
          "annotationdefaults": {
           "arrowcolor": "#2a3f5f",
           "arrowhead": 0,
           "arrowwidth": 1
          },
          "autotypenumbers": "strict",
          "coloraxis": {
           "colorbar": {
            "outlinewidth": 0,
            "ticks": ""
           }
          },
          "colorscale": {
           "diverging": [
            [
             0,
             "#8e0152"
            ],
            [
             0.1,
             "#c51b7d"
            ],
            [
             0.2,
             "#de77ae"
            ],
            [
             0.3,
             "#f1b6da"
            ],
            [
             0.4,
             "#fde0ef"
            ],
            [
             0.5,
             "#f7f7f7"
            ],
            [
             0.6,
             "#e6f5d0"
            ],
            [
             0.7,
             "#b8e186"
            ],
            [
             0.8,
             "#7fbc41"
            ],
            [
             0.9,
             "#4d9221"
            ],
            [
             1,
             "#276419"
            ]
           ],
           "sequential": [
            [
             0,
             "#0d0887"
            ],
            [
             0.1111111111111111,
             "#46039f"
            ],
            [
             0.2222222222222222,
             "#7201a8"
            ],
            [
             0.3333333333333333,
             "#9c179e"
            ],
            [
             0.4444444444444444,
             "#bd3786"
            ],
            [
             0.5555555555555556,
             "#d8576b"
            ],
            [
             0.6666666666666666,
             "#ed7953"
            ],
            [
             0.7777777777777778,
             "#fb9f3a"
            ],
            [
             0.8888888888888888,
             "#fdca26"
            ],
            [
             1,
             "#f0f921"
            ]
           ],
           "sequentialminus": [
            [
             0,
             "#0d0887"
            ],
            [
             0.1111111111111111,
             "#46039f"
            ],
            [
             0.2222222222222222,
             "#7201a8"
            ],
            [
             0.3333333333333333,
             "#9c179e"
            ],
            [
             0.4444444444444444,
             "#bd3786"
            ],
            [
             0.5555555555555556,
             "#d8576b"
            ],
            [
             0.6666666666666666,
             "#ed7953"
            ],
            [
             0.7777777777777778,
             "#fb9f3a"
            ],
            [
             0.8888888888888888,
             "#fdca26"
            ],
            [
             1,
             "#f0f921"
            ]
           ]
          },
          "colorway": [
           "#636efa",
           "#EF553B",
           "#00cc96",
           "#ab63fa",
           "#FFA15A",
           "#19d3f3",
           "#FF6692",
           "#B6E880",
           "#FF97FF",
           "#FECB52"
          ],
          "font": {
           "color": "#2a3f5f"
          },
          "geo": {
           "bgcolor": "white",
           "lakecolor": "white",
           "landcolor": "#E5ECF6",
           "showlakes": true,
           "showland": true,
           "subunitcolor": "white"
          },
          "hoverlabel": {
           "align": "left"
          },
          "hovermode": "closest",
          "mapbox": {
           "style": "light"
          },
          "paper_bgcolor": "white",
          "plot_bgcolor": "#E5ECF6",
          "polar": {
           "angularaxis": {
            "gridcolor": "white",
            "linecolor": "white",
            "ticks": ""
           },
           "bgcolor": "#E5ECF6",
           "radialaxis": {
            "gridcolor": "white",
            "linecolor": "white",
            "ticks": ""
           }
          },
          "scene": {
           "xaxis": {
            "backgroundcolor": "#E5ECF6",
            "gridcolor": "white",
            "gridwidth": 2,
            "linecolor": "white",
            "showbackground": true,
            "ticks": "",
            "zerolinecolor": "white"
           },
           "yaxis": {
            "backgroundcolor": "#E5ECF6",
            "gridcolor": "white",
            "gridwidth": 2,
            "linecolor": "white",
            "showbackground": true,
            "ticks": "",
            "zerolinecolor": "white"
           },
           "zaxis": {
            "backgroundcolor": "#E5ECF6",
            "gridcolor": "white",
            "gridwidth": 2,
            "linecolor": "white",
            "showbackground": true,
            "ticks": "",
            "zerolinecolor": "white"
           }
          },
          "shapedefaults": {
           "line": {
            "color": "#2a3f5f"
           }
          },
          "ternary": {
           "aaxis": {
            "gridcolor": "white",
            "linecolor": "white",
            "ticks": ""
           },
           "baxis": {
            "gridcolor": "white",
            "linecolor": "white",
            "ticks": ""
           },
           "bgcolor": "#E5ECF6",
           "caxis": {
            "gridcolor": "white",
            "linecolor": "white",
            "ticks": ""
           }
          },
          "title": {
           "x": 0.05
          },
          "xaxis": {
           "automargin": true,
           "gridcolor": "white",
           "linecolor": "white",
           "ticks": "",
           "title": {
            "standoff": 15
           },
           "zerolinecolor": "white",
           "zerolinewidth": 2
          },
          "yaxis": {
           "automargin": true,
           "gridcolor": "white",
           "linecolor": "white",
           "ticks": "",
           "title": {
            "standoff": 15
           },
           "zerolinecolor": "white",
           "zerolinewidth": 2
          }
         }
        },
        "title": {
         "text": "Centroids obtained with Kmeans (k=5) of the first 50 ratings of each user"
        },
        "xaxis": {
         "anchor": "y",
         "domain": [
          0,
          1
         ],
         "title": {
          "text": "category"
         }
        },
        "yaxis": {
         "anchor": "x",
         "domain": [
          0,
          1
         ],
         "title": {
          "text": "Number of beer"
         }
        }
       }
      }
     },
     "metadata": {},
     "output_type": "display_data"
    }
   ],
   "source": [
    "fig = px.line(df_cluster_beer_5, x=\"category\", y=\"Number of beer\", color=\"cluster\", title=\"Centroids obtained with Kmeans (k=5) of the first 50 ratings of each user\")\n",
    "fig.show()\n",
    "#fig.write_html(\"centroid_first_5_justification.html\")"
   ]
  },
  {
   "cell_type": "code",
   "execution_count": 48,
   "metadata": {},
   "outputs": [],
   "source": [
    "user_to_cat_first[\"first_50_cluster\"] = our_clustering_4.labels_"
   ]
  },
  {
   "cell_type": "code",
   "execution_count": 49,
   "metadata": {},
   "outputs": [
    {
     "data": {
      "text/html": [
       "<div>\n",
       "<style scoped>\n",
       "    .dataframe tbody tr th:only-of-type {\n",
       "        vertical-align: middle;\n",
       "    }\n",
       "\n",
       "    .dataframe tbody tr th {\n",
       "        vertical-align: top;\n",
       "    }\n",
       "\n",
       "    .dataframe thead th {\n",
       "        text-align: right;\n",
       "    }\n",
       "</style>\n",
       "<table border=\"1\" class=\"dataframe\">\n",
       "  <thead>\n",
       "    <tr style=\"text-align: right;\">\n",
       "      <th>category</th>\n",
       "      <th>Bocks</th>\n",
       "      <th>Brown Ales</th>\n",
       "      <th>Dark Ales</th>\n",
       "      <th>Dark Lagers</th>\n",
       "      <th>Hybrid Beers</th>\n",
       "      <th>India Pale Ales</th>\n",
       "      <th>Pale Ales</th>\n",
       "      <th>Pale Lagers</th>\n",
       "      <th>Porters</th>\n",
       "      <th>Specialty Beer</th>\n",
       "      <th>Stouts</th>\n",
       "      <th>Strong Ales</th>\n",
       "      <th>Weird Cocktail</th>\n",
       "      <th>Wheat Beers</th>\n",
       "      <th>Wild/Sour Beers</th>\n",
       "    </tr>\n",
       "    <tr>\n",
       "      <th>user_name</th>\n",
       "      <th></th>\n",
       "      <th></th>\n",
       "      <th></th>\n",
       "      <th></th>\n",
       "      <th></th>\n",
       "      <th></th>\n",
       "      <th></th>\n",
       "      <th></th>\n",
       "      <th></th>\n",
       "      <th></th>\n",
       "      <th></th>\n",
       "      <th></th>\n",
       "      <th></th>\n",
       "      <th></th>\n",
       "      <th></th>\n",
       "    </tr>\n",
       "  </thead>\n",
       "  <tbody>\n",
       "    <tr>\n",
       "      <th>-Rick</th>\n",
       "      <td>0</td>\n",
       "      <td>0</td>\n",
       "      <td>0</td>\n",
       "      <td>0</td>\n",
       "      <td>0</td>\n",
       "      <td>14</td>\n",
       "      <td>4</td>\n",
       "      <td>0</td>\n",
       "      <td>1</td>\n",
       "      <td>0</td>\n",
       "      <td>16</td>\n",
       "      <td>7</td>\n",
       "      <td>0</td>\n",
       "      <td>1</td>\n",
       "      <td>7</td>\n",
       "    </tr>\n",
       "    <tr>\n",
       "      <th>1000lbgrizzly</th>\n",
       "      <td>0</td>\n",
       "      <td>3</td>\n",
       "      <td>2</td>\n",
       "      <td>0</td>\n",
       "      <td>1</td>\n",
       "      <td>10</td>\n",
       "      <td>10</td>\n",
       "      <td>3</td>\n",
       "      <td>1</td>\n",
       "      <td>2</td>\n",
       "      <td>9</td>\n",
       "      <td>2</td>\n",
       "      <td>0</td>\n",
       "      <td>5</td>\n",
       "      <td>2</td>\n",
       "    </tr>\n",
       "    <tr>\n",
       "      <th>1424IpA</th>\n",
       "      <td>0</td>\n",
       "      <td>1</td>\n",
       "      <td>0</td>\n",
       "      <td>0</td>\n",
       "      <td>0</td>\n",
       "      <td>14</td>\n",
       "      <td>9</td>\n",
       "      <td>2</td>\n",
       "      <td>6</td>\n",
       "      <td>1</td>\n",
       "      <td>8</td>\n",
       "      <td>4</td>\n",
       "      <td>0</td>\n",
       "      <td>1</td>\n",
       "      <td>4</td>\n",
       "    </tr>\n",
       "    <tr>\n",
       "      <th>2Xmd</th>\n",
       "      <td>0</td>\n",
       "      <td>0</td>\n",
       "      <td>0</td>\n",
       "      <td>1</td>\n",
       "      <td>1</td>\n",
       "      <td>14</td>\n",
       "      <td>8</td>\n",
       "      <td>4</td>\n",
       "      <td>1</td>\n",
       "      <td>3</td>\n",
       "      <td>5</td>\n",
       "      <td>7</td>\n",
       "      <td>1</td>\n",
       "      <td>3</td>\n",
       "      <td>2</td>\n",
       "    </tr>\n",
       "    <tr>\n",
       "      <th>2ellas</th>\n",
       "      <td>0</td>\n",
       "      <td>3</td>\n",
       "      <td>1</td>\n",
       "      <td>2</td>\n",
       "      <td>0</td>\n",
       "      <td>15</td>\n",
       "      <td>3</td>\n",
       "      <td>10</td>\n",
       "      <td>3</td>\n",
       "      <td>1</td>\n",
       "      <td>6</td>\n",
       "      <td>3</td>\n",
       "      <td>0</td>\n",
       "      <td>2</td>\n",
       "      <td>1</td>\n",
       "    </tr>\n",
       "  </tbody>\n",
       "</table>\n",
       "</div>"
      ],
      "text/plain": [
       "category       Bocks  Brown Ales  Dark Ales  Dark Lagers  Hybrid Beers  \\\n",
       "user_name                                                                \n",
       "-Rick              0           0          0            0             0   \n",
       "1000lbgrizzly      0           3          2            0             1   \n",
       "1424IpA            0           1          0            0             0   \n",
       "2Xmd               0           0          0            1             1   \n",
       "2ellas             0           3          1            2             0   \n",
       "\n",
       "category       India Pale Ales  Pale Ales  Pale Lagers  Porters  \\\n",
       "user_name                                                         \n",
       "-Rick                       14          4            0        1   \n",
       "1000lbgrizzly               10         10            3        1   \n",
       "1424IpA                     14          9            2        6   \n",
       "2Xmd                        14          8            4        1   \n",
       "2ellas                      15          3           10        3   \n",
       "\n",
       "category       Specialty Beer  Stouts  Strong Ales  Weird Cocktail  \\\n",
       "user_name                                                            \n",
       "-Rick                       0      16            7               0   \n",
       "1000lbgrizzly               2       9            2               0   \n",
       "1424IpA                     1       8            4               0   \n",
       "2Xmd                        3       5            7               1   \n",
       "2ellas                      1       6            3               0   \n",
       "\n",
       "category       Wheat Beers  Wild/Sour Beers  \n",
       "user_name                                    \n",
       "-Rick                    1                7  \n",
       "1000lbgrizzly            5                2  \n",
       "1424IpA                  1                4  \n",
       "2Xmd                     3                2  \n",
       "2ellas                   2                1  "
      ]
     },
     "execution_count": 49,
     "metadata": {},
     "output_type": "execute_result"
    }
   ],
   "source": [
    "# How many beers of different categories a user rated in his last 50 ratings\n",
    "\n",
    "df_to_cluster_last = df_valid_ratings[df_valid_ratings[\"rating_number\"] >= 450]\n",
    "user_to_cat_last = df_to_cluster_last.groupby([\"user_name\", \"category\"])[\"beer_id\"].count()\n",
    "user_to_cat_last = user_to_cat_last.unstack(level=-1, fill_value = 0)\n",
    "user_to_cat_last.head(5)"
   ]
  },
  {
   "cell_type": "code",
   "execution_count": 50,
   "metadata": {},
   "outputs": [
    {
     "data": {
      "text/html": [
       "<div>\n",
       "<style scoped>\n",
       "    .dataframe tbody tr th:only-of-type {\n",
       "        vertical-align: middle;\n",
       "    }\n",
       "\n",
       "    .dataframe tbody tr th {\n",
       "        vertical-align: top;\n",
       "    }\n",
       "\n",
       "    .dataframe thead th {\n",
       "        text-align: right;\n",
       "    }\n",
       "</style>\n",
       "<table border=\"1\" class=\"dataframe\">\n",
       "  <thead>\n",
       "    <tr style=\"text-align: right;\">\n",
       "      <th>category</th>\n",
       "      <th>Bocks</th>\n",
       "      <th>Brown Ales</th>\n",
       "      <th>Dark Ales</th>\n",
       "      <th>Dark Lagers</th>\n",
       "      <th>Hybrid Beers</th>\n",
       "      <th>India Pale Ales</th>\n",
       "      <th>Pale Ales</th>\n",
       "      <th>Pale Lagers</th>\n",
       "      <th>Porters</th>\n",
       "      <th>Specialty Beer</th>\n",
       "      <th>Stouts</th>\n",
       "      <th>Strong Ales</th>\n",
       "      <th>Weird Cocktail</th>\n",
       "      <th>Wheat Beers</th>\n",
       "      <th>Wild/Sour Beers</th>\n",
       "      <th>first_50_cluster</th>\n",
       "    </tr>\n",
       "    <tr>\n",
       "      <th>user_name</th>\n",
       "      <th></th>\n",
       "      <th></th>\n",
       "      <th></th>\n",
       "      <th></th>\n",
       "      <th></th>\n",
       "      <th></th>\n",
       "      <th></th>\n",
       "      <th></th>\n",
       "      <th></th>\n",
       "      <th></th>\n",
       "      <th></th>\n",
       "      <th></th>\n",
       "      <th></th>\n",
       "      <th></th>\n",
       "      <th></th>\n",
       "      <th></th>\n",
       "    </tr>\n",
       "  </thead>\n",
       "  <tbody>\n",
       "    <tr>\n",
       "      <th>-Rick</th>\n",
       "      <td>0</td>\n",
       "      <td>2</td>\n",
       "      <td>0</td>\n",
       "      <td>2</td>\n",
       "      <td>0</td>\n",
       "      <td>29</td>\n",
       "      <td>7</td>\n",
       "      <td>2</td>\n",
       "      <td>2</td>\n",
       "      <td>2</td>\n",
       "      <td>3</td>\n",
       "      <td>1</td>\n",
       "      <td>0</td>\n",
       "      <td>0</td>\n",
       "      <td>0</td>\n",
       "      <td>3</td>\n",
       "    </tr>\n",
       "    <tr>\n",
       "      <th>1000lbgrizzly</th>\n",
       "      <td>0</td>\n",
       "      <td>5</td>\n",
       "      <td>0</td>\n",
       "      <td>1</td>\n",
       "      <td>0</td>\n",
       "      <td>4</td>\n",
       "      <td>9</td>\n",
       "      <td>7</td>\n",
       "      <td>2</td>\n",
       "      <td>8</td>\n",
       "      <td>6</td>\n",
       "      <td>4</td>\n",
       "      <td>0</td>\n",
       "      <td>3</td>\n",
       "      <td>1</td>\n",
       "      <td>0</td>\n",
       "    </tr>\n",
       "    <tr>\n",
       "      <th>1424IpA</th>\n",
       "      <td>0</td>\n",
       "      <td>0</td>\n",
       "      <td>1</td>\n",
       "      <td>0</td>\n",
       "      <td>0</td>\n",
       "      <td>21</td>\n",
       "      <td>3</td>\n",
       "      <td>1</td>\n",
       "      <td>1</td>\n",
       "      <td>1</td>\n",
       "      <td>12</td>\n",
       "      <td>4</td>\n",
       "      <td>0</td>\n",
       "      <td>1</td>\n",
       "      <td>5</td>\n",
       "      <td>3</td>\n",
       "    </tr>\n",
       "    <tr>\n",
       "      <th>2Xmd</th>\n",
       "      <td>0</td>\n",
       "      <td>2</td>\n",
       "      <td>1</td>\n",
       "      <td>1</td>\n",
       "      <td>0</td>\n",
       "      <td>25</td>\n",
       "      <td>5</td>\n",
       "      <td>1</td>\n",
       "      <td>1</td>\n",
       "      <td>2</td>\n",
       "      <td>9</td>\n",
       "      <td>1</td>\n",
       "      <td>0</td>\n",
       "      <td>2</td>\n",
       "      <td>0</td>\n",
       "      <td>3</td>\n",
       "    </tr>\n",
       "    <tr>\n",
       "      <th>2ellas</th>\n",
       "      <td>0</td>\n",
       "      <td>2</td>\n",
       "      <td>1</td>\n",
       "      <td>0</td>\n",
       "      <td>0</td>\n",
       "      <td>31</td>\n",
       "      <td>9</td>\n",
       "      <td>0</td>\n",
       "      <td>0</td>\n",
       "      <td>0</td>\n",
       "      <td>2</td>\n",
       "      <td>4</td>\n",
       "      <td>0</td>\n",
       "      <td>1</td>\n",
       "      <td>0</td>\n",
       "      <td>3</td>\n",
       "    </tr>\n",
       "  </tbody>\n",
       "</table>\n",
       "</div>"
      ],
      "text/plain": [
       "category       Bocks  Brown Ales  Dark Ales  Dark Lagers  Hybrid Beers  \\\n",
       "user_name                                                                \n",
       "-Rick              0           2          0            2             0   \n",
       "1000lbgrizzly      0           5          0            1             0   \n",
       "1424IpA            0           0          1            0             0   \n",
       "2Xmd               0           2          1            1             0   \n",
       "2ellas             0           2          1            0             0   \n",
       "\n",
       "category       India Pale Ales  Pale Ales  Pale Lagers  Porters  \\\n",
       "user_name                                                         \n",
       "-Rick                       29          7            2        2   \n",
       "1000lbgrizzly                4          9            7        2   \n",
       "1424IpA                     21          3            1        1   \n",
       "2Xmd                        25          5            1        1   \n",
       "2ellas                      31          9            0        0   \n",
       "\n",
       "category       Specialty Beer  Stouts  Strong Ales  Weird Cocktail  \\\n",
       "user_name                                                            \n",
       "-Rick                       2       3            1               0   \n",
       "1000lbgrizzly               8       6            4               0   \n",
       "1424IpA                     1      12            4               0   \n",
       "2Xmd                        2       9            1               0   \n",
       "2ellas                      0       2            4               0   \n",
       "\n",
       "category       Wheat Beers  Wild/Sour Beers  first_50_cluster  \n",
       "user_name                                                      \n",
       "-Rick                    0                0                 3  \n",
       "1000lbgrizzly            3                1                 0  \n",
       "1424IpA                  1                5                 3  \n",
       "2Xmd                     2                0                 3  \n",
       "2ellas                   1                0                 3  "
      ]
     },
     "execution_count": 50,
     "metadata": {},
     "output_type": "execute_result"
    }
   ],
   "source": [
    "user_to_cat_first[\"first_50_cluster\"] = our_clustering_4.labels_\n",
    "user_to_cat_last[\"first_50_cluster\"] = our_clustering_4.labels_\n",
    "\n",
    "user_to_cat_first.head(5)"
   ]
  },
  {
   "cell_type": "code",
   "execution_count": 51,
   "metadata": {},
   "outputs": [],
   "source": [
    "# cluster_team = user_to_cat_first['first_50_cluster'].unique()\n",
    "# categ_beer = user_to_cat_first.columns[1:16]\n",
    "\n",
    "# for team in cluster_team:\n",
    "#     for cate in categ_beer:\n",
    "#        _, ttest_pval = ttest_rel(user_to_cat_first[user_to_cat_first['first_50_cluster'] == team][cate],\n",
    "#                                  user_to_cat_last[user_to_cat_last['first_50_cluster'] == team][cate])\n",
    "#        ci_low_mean_first_rating, ci_high_mean_first_rating = bootstrap((user_to_cat_first[user_to_cat_first['first_50_cluster'] == team][cate].values,), np.mean).confidence_interval\n",
    "#        #ci_low_mean_last_rating, ci_high_mean_last_rating = bootstrap(user_to_cat_last[user_to_cat_last['first_50_cluster']==team][cate], np.mean).confidence_interval\n",
    "#        if ttest_pval<0.05:\n",
    "#         print('the p-value for ttest in the team',team,'for the category',cate,'is',ttest_pval)"
   ]
  },
  {
   "cell_type": "code",
   "execution_count": 52,
   "metadata": {},
   "outputs": [],
   "source": [
    "## Cluster bootstrap\n",
    "\n",
    "cluster_list=[]\n",
    "cate_list=[]\n",
    "ci_low_mean_first_rating_list=[]\n",
    "ci_high_mean_first_rating_list=[]\n",
    "mean_first_rating_list=[]\n",
    "ci_low_mean_last_rating_list=[]\n",
    "ci_high_mean_last_rating_list=[]\n",
    "mean_last_rating_list=[]\n",
    "t_test_list=[]\n",
    "\n",
    "cluster_team = user_to_cat_first['first_50_cluster'].unique()\n",
    "categ_beer = user_to_cat_first.columns[0:15]\n",
    "\n",
    "for team in cluster_team:\n",
    "\n",
    "    current_team_first_rating = user_to_cat_first[user_to_cat_first['first_50_cluster']==team]\n",
    "    current_team_last_rating = user_to_cat_last[user_to_cat_last['first_50_cluster']==team]\n",
    "\n",
    "    for cate in categ_beer:\n",
    "\n",
    "        current_ttest=ttest_rel(current_team_first_rating[cate],current_team_last_rating[cate])[1]\n",
    "        #if current_ttest<0.05:\n",
    "            #print('the p-value for ttest in the team',team,'for the category',cate,'is',current_ttest)\n",
    "\n",
    "        ci_low_mean_first_rating, ci_high_mean_first_rating = bootstrap((current_team_first_rating[cate].values,), np.mean).confidence_interval\n",
    "        ci_low_mean_last_rating, ci_high_mean_last_rating = bootstrap((current_team_last_rating[cate].values,), np.mean).confidence_interval\n",
    "\n",
    "        mean_first_rating_list.append(current_team_first_rating[cate].mean())\n",
    "        mean_last_rating_list.append(current_team_last_rating[cate].mean())\n",
    "\n",
    "        cluster_list.append(team)\n",
    "        cate_list.append(cate)\n",
    "\n",
    "        ci_low_mean_first_rating_list.append(ci_low_mean_first_rating)\n",
    "        ci_high_mean_first_rating_list.append(ci_high_mean_first_rating)\n",
    "        ci_low_mean_last_rating_list.append(ci_low_mean_last_rating)\n",
    "        ci_high_mean_last_rating_list.append(ci_high_mean_last_rating)\n",
    "        t_test_list.append(current_ttest)"
   ]
  },
  {
   "cell_type": "code",
   "execution_count": 53,
   "metadata": {},
   "outputs": [],
   "source": [
    "conf_inter_cluster = pd.DataFrame({'Cluster' : cluster_list, 'Category' : cate_list, 'CI_low_first_rating':ci_low_mean_first_rating_list,\n",
    "                                'CI_high_first_rating':ci_high_mean_first_rating_list,'mean_first_ratings':mean_first_rating_list,\n",
    "                                'CI_low_last_rating':ci_low_mean_last_rating_list,'CI_high_last_rating':ci_high_mean_last_rating_list,\n",
    "                                'mean_last_ratings':mean_last_rating_list,'t_test':t_test_list})"
   ]
  },
  {
   "cell_type": "code",
   "execution_count": 54,
   "metadata": {},
   "outputs": [],
   "source": [
    "## All bootstrap\n",
    "\n",
    "cate_list=[]\n",
    "ci_low_mean_first_rating_list=[]\n",
    "ci_high_mean_first_rating_list=[]\n",
    "mean_first_rating_list=[]\n",
    "ci_low_mean_last_rating_list=[]\n",
    "ci_high_mean_last_rating_list=[]\n",
    "mean_last_rating_list=[]\n",
    "t_test_list=[]\n",
    "categ_beer = user_to_cat_first.columns[0:15]\n",
    "\n",
    "for cate in categ_beer:\n",
    "\n",
    "    current_ttest=ttest_rel(user_to_cat_first[cate],user_to_cat_last[cate])[1]\n",
    "    #if current_ttest<0.05:\n",
    "    #print('the p-value for ttest in the team',team,'for the category',cate,'is',current_ttest)\n",
    "    ci_low_mean_first_rating, ci_high_mean_first_rating = bootstrap((user_to_cat_first[cate].values,), np.mean).confidence_interval\n",
    "    ci_low_mean_last_rating, ci_high_mean_last_rating = bootstrap((user_to_cat_last[cate].values,), np.mean).confidence_interval\n",
    "    mean_first_rating_list.append(user_to_cat_first[cate].mean())\n",
    "    mean_last_rating_list.append(user_to_cat_last[cate].mean())\n",
    "    cate_list.append(cate)\n",
    "    ci_low_mean_first_rating_list.append(ci_low_mean_first_rating)\n",
    "    ci_high_mean_first_rating_list.append(ci_high_mean_first_rating)\n",
    "    ci_low_mean_last_rating_list.append(ci_low_mean_last_rating)\n",
    "    ci_high_mean_last_rating_list.append(ci_high_mean_last_rating)\n",
    "    t_test_list.append(current_ttest)"
   ]
  },
  {
   "cell_type": "code",
   "execution_count": 55,
   "metadata": {},
   "outputs": [],
   "source": [
    "conf_inter_all= pd.DataFrame({ 'Category' : cate_list, 'CI_low_first_rating':ci_low_mean_first_rating_list,\n",
    "                    'CI_high_first_rating':ci_high_mean_first_rating_list,'mean_first_ratings':mean_first_rating_list,\n",
    "                    'CI_low_last_rating':ci_low_mean_last_rating_list,'CI_high_last_rating':ci_high_mean_last_rating_list,\n",
    "                    'mean_last_ratings':mean_last_rating_list,'t_test':t_test_list})\n",
    "conf_inter_all['Cluster'] = 'All'\n"
   ]
  },
  {
   "cell_type": "code",
   "execution_count": 56,
   "metadata": {},
   "outputs": [
    {
     "data": {
      "text/html": [
       "<div>\n",
       "<style scoped>\n",
       "    .dataframe tbody tr th:only-of-type {\n",
       "        vertical-align: middle;\n",
       "    }\n",
       "\n",
       "    .dataframe tbody tr th {\n",
       "        vertical-align: top;\n",
       "    }\n",
       "\n",
       "    .dataframe thead th {\n",
       "        text-align: right;\n",
       "    }\n",
       "</style>\n",
       "<table border=\"1\" class=\"dataframe\">\n",
       "  <thead>\n",
       "    <tr style=\"text-align: right;\">\n",
       "      <th></th>\n",
       "      <th>Category</th>\n",
       "      <th>CI_low_first_rating</th>\n",
       "      <th>CI_high_first_rating</th>\n",
       "      <th>mean_first_ratings</th>\n",
       "      <th>CI_low_last_rating</th>\n",
       "      <th>CI_high_last_rating</th>\n",
       "      <th>mean_last_ratings</th>\n",
       "      <th>t_test</th>\n",
       "      <th>Cluster</th>\n",
       "    </tr>\n",
       "  </thead>\n",
       "  <tbody>\n",
       "    <tr>\n",
       "      <th>0</th>\n",
       "      <td>Bocks</td>\n",
       "      <td>1.159012</td>\n",
       "      <td>1.339175</td>\n",
       "      <td>1.247423</td>\n",
       "      <td>0.854639</td>\n",
       "      <td>1.021649</td>\n",
       "      <td>0.932990</td>\n",
       "      <td>1.040049e-08</td>\n",
       "      <td>All</td>\n",
       "    </tr>\n",
       "    <tr>\n",
       "      <th>1</th>\n",
       "      <td>Brown Ales</td>\n",
       "      <td>2.536082</td>\n",
       "      <td>2.794845</td>\n",
       "      <td>2.661856</td>\n",
       "      <td>1.976526</td>\n",
       "      <td>2.197938</td>\n",
       "      <td>2.082474</td>\n",
       "      <td>9.232355e-14</td>\n",
       "      <td>All</td>\n",
       "    </tr>\n",
       "    <tr>\n",
       "      <th>2</th>\n",
       "      <td>Dark Ales</td>\n",
       "      <td>1.136082</td>\n",
       "      <td>1.315240</td>\n",
       "      <td>1.224742</td>\n",
       "      <td>0.762887</td>\n",
       "      <td>0.915464</td>\n",
       "      <td>0.837113</td>\n",
       "      <td>5.993624e-13</td>\n",
       "      <td>All</td>\n",
       "    </tr>\n",
       "    <tr>\n",
       "      <th>3</th>\n",
       "      <td>Dark Lagers</td>\n",
       "      <td>1.268041</td>\n",
       "      <td>1.471134</td>\n",
       "      <td>1.371134</td>\n",
       "      <td>0.723711</td>\n",
       "      <td>0.860276</td>\n",
       "      <td>0.790722</td>\n",
       "      <td>8.970276e-25</td>\n",
       "      <td>All</td>\n",
       "    </tr>\n",
       "    <tr>\n",
       "      <th>4</th>\n",
       "      <td>Hybrid Beers</td>\n",
       "      <td>0.272165</td>\n",
       "      <td>0.343299</td>\n",
       "      <td>0.307216</td>\n",
       "      <td>0.278351</td>\n",
       "      <td>0.348454</td>\n",
       "      <td>0.312371</td>\n",
       "      <td>8.332273e-01</td>\n",
       "      <td>All</td>\n",
       "    </tr>\n",
       "    <tr>\n",
       "      <th>5</th>\n",
       "      <td>India Pale Ales</td>\n",
       "      <td>10.906450</td>\n",
       "      <td>11.946748</td>\n",
       "      <td>11.427835</td>\n",
       "      <td>11.640206</td>\n",
       "      <td>12.514433</td>\n",
       "      <td>12.076289</td>\n",
       "      <td>1.467942e-02</td>\n",
       "      <td>All</td>\n",
       "    </tr>\n",
       "    <tr>\n",
       "      <th>6</th>\n",
       "      <td>Pale Ales</td>\n",
       "      <td>7.517526</td>\n",
       "      <td>7.989691</td>\n",
       "      <td>7.752577</td>\n",
       "      <td>8.162887</td>\n",
       "      <td>8.643299</td>\n",
       "      <td>8.402062</td>\n",
       "      <td>1.559042e-05</td>\n",
       "      <td>All</td>\n",
       "    </tr>\n",
       "    <tr>\n",
       "      <th>7</th>\n",
       "      <td>Pale Lagers</td>\n",
       "      <td>4.018557</td>\n",
       "      <td>4.639162</td>\n",
       "      <td>4.309278</td>\n",
       "      <td>2.693814</td>\n",
       "      <td>3.084929</td>\n",
       "      <td>2.882474</td>\n",
       "      <td>2.939323e-18</td>\n",
       "      <td>All</td>\n",
       "    </tr>\n",
       "    <tr>\n",
       "      <th>8</th>\n",
       "      <td>Porters</td>\n",
       "      <td>2.004124</td>\n",
       "      <td>2.238144</td>\n",
       "      <td>2.118557</td>\n",
       "      <td>2.104124</td>\n",
       "      <td>2.319588</td>\n",
       "      <td>2.210309</td>\n",
       "      <td>2.196372e-01</td>\n",
       "      <td>All</td>\n",
       "    </tr>\n",
       "    <tr>\n",
       "      <th>9</th>\n",
       "      <td>Specialty Beer</td>\n",
       "      <td>1.377320</td>\n",
       "      <td>1.614433</td>\n",
       "      <td>1.486598</td>\n",
       "      <td>1.419588</td>\n",
       "      <td>1.642268</td>\n",
       "      <td>1.525773</td>\n",
       "      <td>6.030390e-01</td>\n",
       "      <td>All</td>\n",
       "    </tr>\n",
       "    <tr>\n",
       "      <th>10</th>\n",
       "      <td>Stouts</td>\n",
       "      <td>6.447423</td>\n",
       "      <td>7.127835</td>\n",
       "      <td>6.773196</td>\n",
       "      <td>6.920484</td>\n",
       "      <td>7.537113</td>\n",
       "      <td>7.223711</td>\n",
       "      <td>1.425922e-02</td>\n",
       "      <td>All</td>\n",
       "    </tr>\n",
       "    <tr>\n",
       "      <th>11</th>\n",
       "      <td>Strong Ales</td>\n",
       "      <td>5.106186</td>\n",
       "      <td>5.525773</td>\n",
       "      <td>5.315464</td>\n",
       "      <td>4.614433</td>\n",
       "      <td>5.025773</td>\n",
       "      <td>4.818557</td>\n",
       "      <td>1.184995e-04</td>\n",
       "      <td>All</td>\n",
       "    </tr>\n",
       "    <tr>\n",
       "      <th>12</th>\n",
       "      <td>Weird Cocktail</td>\n",
       "      <td>0.051546</td>\n",
       "      <td>0.084536</td>\n",
       "      <td>0.067010</td>\n",
       "      <td>0.013402</td>\n",
       "      <td>0.030928</td>\n",
       "      <td>0.021649</td>\n",
       "      <td>2.432629e-06</td>\n",
       "      <td>All</td>\n",
       "    </tr>\n",
       "    <tr>\n",
       "      <th>13</th>\n",
       "      <td>Wheat Beers</td>\n",
       "      <td>2.776289</td>\n",
       "      <td>3.108247</td>\n",
       "      <td>2.936082</td>\n",
       "      <td>2.161725</td>\n",
       "      <td>2.413402</td>\n",
       "      <td>2.282474</td>\n",
       "      <td>8.487360e-12</td>\n",
       "      <td>All</td>\n",
       "    </tr>\n",
       "    <tr>\n",
       "      <th>14</th>\n",
       "      <td>Wild/Sour Beers</td>\n",
       "      <td>0.881443</td>\n",
       "      <td>1.143701</td>\n",
       "      <td>1.001031</td>\n",
       "      <td>3.345361</td>\n",
       "      <td>3.865979</td>\n",
       "      <td>3.601031</td>\n",
       "      <td>4.314128e-79</td>\n",
       "      <td>All</td>\n",
       "    </tr>\n",
       "  </tbody>\n",
       "</table>\n",
       "</div>"
      ],
      "text/plain": [
       "           Category  CI_low_first_rating  CI_high_first_rating  \\\n",
       "0             Bocks             1.159012              1.339175   \n",
       "1        Brown Ales             2.536082              2.794845   \n",
       "2         Dark Ales             1.136082              1.315240   \n",
       "3       Dark Lagers             1.268041              1.471134   \n",
       "4      Hybrid Beers             0.272165              0.343299   \n",
       "5   India Pale Ales            10.906450             11.946748   \n",
       "6         Pale Ales             7.517526              7.989691   \n",
       "7       Pale Lagers             4.018557              4.639162   \n",
       "8           Porters             2.004124              2.238144   \n",
       "9    Specialty Beer             1.377320              1.614433   \n",
       "10           Stouts             6.447423              7.127835   \n",
       "11      Strong Ales             5.106186              5.525773   \n",
       "12   Weird Cocktail             0.051546              0.084536   \n",
       "13      Wheat Beers             2.776289              3.108247   \n",
       "14  Wild/Sour Beers             0.881443              1.143701   \n",
       "\n",
       "    mean_first_ratings  CI_low_last_rating  CI_high_last_rating  \\\n",
       "0             1.247423            0.854639             1.021649   \n",
       "1             2.661856            1.976526             2.197938   \n",
       "2             1.224742            0.762887             0.915464   \n",
       "3             1.371134            0.723711             0.860276   \n",
       "4             0.307216            0.278351             0.348454   \n",
       "5            11.427835           11.640206            12.514433   \n",
       "6             7.752577            8.162887             8.643299   \n",
       "7             4.309278            2.693814             3.084929   \n",
       "8             2.118557            2.104124             2.319588   \n",
       "9             1.486598            1.419588             1.642268   \n",
       "10            6.773196            6.920484             7.537113   \n",
       "11            5.315464            4.614433             5.025773   \n",
       "12            0.067010            0.013402             0.030928   \n",
       "13            2.936082            2.161725             2.413402   \n",
       "14            1.001031            3.345361             3.865979   \n",
       "\n",
       "    mean_last_ratings        t_test Cluster  \n",
       "0            0.932990  1.040049e-08     All  \n",
       "1            2.082474  9.232355e-14     All  \n",
       "2            0.837113  5.993624e-13     All  \n",
       "3            0.790722  8.970276e-25     All  \n",
       "4            0.312371  8.332273e-01     All  \n",
       "5           12.076289  1.467942e-02     All  \n",
       "6            8.402062  1.559042e-05     All  \n",
       "7            2.882474  2.939323e-18     All  \n",
       "8            2.210309  2.196372e-01     All  \n",
       "9            1.525773  6.030390e-01     All  \n",
       "10           7.223711  1.425922e-02     All  \n",
       "11           4.818557  1.184995e-04     All  \n",
       "12           0.021649  2.432629e-06     All  \n",
       "13           2.282474  8.487360e-12     All  \n",
       "14           3.601031  4.314128e-79     All  "
      ]
     },
     "execution_count": 56,
     "metadata": {},
     "output_type": "execute_result"
    }
   ],
   "source": [
    "conf_inter_all"
   ]
  },
  {
   "cell_type": "code",
   "execution_count": 57,
   "metadata": {},
   "outputs": [],
   "source": [
    "df_conf_inter = pd.concat([conf_inter_all, conf_inter_cluster], ignore_index = True)\n",
    "#conf_inter.reset_index(drop=True, inplace=True)\n"
   ]
  },
  {
   "cell_type": "code",
   "execution_count": 58,
   "metadata": {},
   "outputs": [
    {
     "data": {
      "text/html": [
       "<div>\n",
       "<style scoped>\n",
       "    .dataframe tbody tr th:only-of-type {\n",
       "        vertical-align: middle;\n",
       "    }\n",
       "\n",
       "    .dataframe tbody tr th {\n",
       "        vertical-align: top;\n",
       "    }\n",
       "\n",
       "    .dataframe thead th {\n",
       "        text-align: right;\n",
       "    }\n",
       "</style>\n",
       "<table border=\"1\" class=\"dataframe\">\n",
       "  <thead>\n",
       "    <tr style=\"text-align: right;\">\n",
       "      <th></th>\n",
       "      <th>Category</th>\n",
       "      <th>CI_low_first_rating</th>\n",
       "      <th>CI_high_first_rating</th>\n",
       "      <th>mean_first_ratings</th>\n",
       "      <th>CI_low_last_rating</th>\n",
       "      <th>CI_high_last_rating</th>\n",
       "      <th>mean_last_ratings</th>\n",
       "      <th>t_test</th>\n",
       "      <th>Cluster</th>\n",
       "    </tr>\n",
       "  </thead>\n",
       "  <tbody>\n",
       "    <tr>\n",
       "      <th>0</th>\n",
       "      <td>Bocks</td>\n",
       "      <td>1.159012</td>\n",
       "      <td>1.339175</td>\n",
       "      <td>1.247423</td>\n",
       "      <td>0.854639</td>\n",
       "      <td>1.021649</td>\n",
       "      <td>0.932990</td>\n",
       "      <td>1.040049e-08</td>\n",
       "      <td>All</td>\n",
       "    </tr>\n",
       "    <tr>\n",
       "      <th>1</th>\n",
       "      <td>Brown Ales</td>\n",
       "      <td>2.536082</td>\n",
       "      <td>2.794845</td>\n",
       "      <td>2.661856</td>\n",
       "      <td>1.976526</td>\n",
       "      <td>2.197938</td>\n",
       "      <td>2.082474</td>\n",
       "      <td>9.232355e-14</td>\n",
       "      <td>All</td>\n",
       "    </tr>\n",
       "    <tr>\n",
       "      <th>2</th>\n",
       "      <td>Dark Ales</td>\n",
       "      <td>1.136082</td>\n",
       "      <td>1.315240</td>\n",
       "      <td>1.224742</td>\n",
       "      <td>0.762887</td>\n",
       "      <td>0.915464</td>\n",
       "      <td>0.837113</td>\n",
       "      <td>5.993624e-13</td>\n",
       "      <td>All</td>\n",
       "    </tr>\n",
       "    <tr>\n",
       "      <th>3</th>\n",
       "      <td>Dark Lagers</td>\n",
       "      <td>1.268041</td>\n",
       "      <td>1.471134</td>\n",
       "      <td>1.371134</td>\n",
       "      <td>0.723711</td>\n",
       "      <td>0.860276</td>\n",
       "      <td>0.790722</td>\n",
       "      <td>8.970276e-25</td>\n",
       "      <td>All</td>\n",
       "    </tr>\n",
       "    <tr>\n",
       "      <th>4</th>\n",
       "      <td>Hybrid Beers</td>\n",
       "      <td>0.272165</td>\n",
       "      <td>0.343299</td>\n",
       "      <td>0.307216</td>\n",
       "      <td>0.278351</td>\n",
       "      <td>0.348454</td>\n",
       "      <td>0.312371</td>\n",
       "      <td>8.332273e-01</td>\n",
       "      <td>All</td>\n",
       "    </tr>\n",
       "    <tr>\n",
       "      <th>...</th>\n",
       "      <td>...</td>\n",
       "      <td>...</td>\n",
       "      <td>...</td>\n",
       "      <td>...</td>\n",
       "      <td>...</td>\n",
       "      <td>...</td>\n",
       "      <td>...</td>\n",
       "      <td>...</td>\n",
       "      <td>...</td>\n",
       "    </tr>\n",
       "    <tr>\n",
       "      <th>70</th>\n",
       "      <td>Stouts</td>\n",
       "      <td>3.106383</td>\n",
       "      <td>3.978723</td>\n",
       "      <td>3.510638</td>\n",
       "      <td>4.737589</td>\n",
       "      <td>5.971631</td>\n",
       "      <td>5.297872</td>\n",
       "      <td>3.360124e-06</td>\n",
       "      <td>1</td>\n",
       "    </tr>\n",
       "    <tr>\n",
       "      <th>71</th>\n",
       "      <td>Strong Ales</td>\n",
       "      <td>3.574468</td>\n",
       "      <td>4.347518</td>\n",
       "      <td>3.950355</td>\n",
       "      <td>4.192658</td>\n",
       "      <td>5.198582</td>\n",
       "      <td>4.680851</td>\n",
       "      <td>2.355251e-02</td>\n",
       "      <td>1</td>\n",
       "    </tr>\n",
       "    <tr>\n",
       "      <th>72</th>\n",
       "      <td>Weird Cocktail</td>\n",
       "      <td>0.099291</td>\n",
       "      <td>0.212766</td>\n",
       "      <td>0.156028</td>\n",
       "      <td>0.007092</td>\n",
       "      <td>0.056738</td>\n",
       "      <td>0.028369</td>\n",
       "      <td>1.789359e-04</td>\n",
       "      <td>1</td>\n",
       "    </tr>\n",
       "    <tr>\n",
       "      <th>73</th>\n",
       "      <td>Wheat Beers</td>\n",
       "      <td>4.276596</td>\n",
       "      <td>5.234043</td>\n",
       "      <td>4.744681</td>\n",
       "      <td>2.531915</td>\n",
       "      <td>3.290780</td>\n",
       "      <td>2.893617</td>\n",
       "      <td>2.932158e-09</td>\n",
       "      <td>1</td>\n",
       "    </tr>\n",
       "    <tr>\n",
       "      <th>74</th>\n",
       "      <td>Wild/Sour Beers</td>\n",
       "      <td>0.191489</td>\n",
       "      <td>0.390071</td>\n",
       "      <td>0.283688</td>\n",
       "      <td>1.503546</td>\n",
       "      <td>2.503546</td>\n",
       "      <td>1.900709</td>\n",
       "      <td>3.479107e-09</td>\n",
       "      <td>1</td>\n",
       "    </tr>\n",
       "  </tbody>\n",
       "</table>\n",
       "<p>75 rows × 9 columns</p>\n",
       "</div>"
      ],
      "text/plain": [
       "           Category  CI_low_first_rating  CI_high_first_rating  \\\n",
       "0             Bocks             1.159012              1.339175   \n",
       "1        Brown Ales             2.536082              2.794845   \n",
       "2         Dark Ales             1.136082              1.315240   \n",
       "3       Dark Lagers             1.268041              1.471134   \n",
       "4      Hybrid Beers             0.272165              0.343299   \n",
       "..              ...                  ...                   ...   \n",
       "70           Stouts             3.106383              3.978723   \n",
       "71      Strong Ales             3.574468              4.347518   \n",
       "72   Weird Cocktail             0.099291              0.212766   \n",
       "73      Wheat Beers             4.276596              5.234043   \n",
       "74  Wild/Sour Beers             0.191489              0.390071   \n",
       "\n",
       "    mean_first_ratings  CI_low_last_rating  CI_high_last_rating  \\\n",
       "0             1.247423            0.854639             1.021649   \n",
       "1             2.661856            1.976526             2.197938   \n",
       "2             1.224742            0.762887             0.915464   \n",
       "3             1.371134            0.723711             0.860276   \n",
       "4             0.307216            0.278351             0.348454   \n",
       "..                 ...                 ...                  ...   \n",
       "70            3.510638            4.737589             5.971631   \n",
       "71            3.950355            4.192658             5.198582   \n",
       "72            0.156028            0.007092             0.056738   \n",
       "73            4.744681            2.531915             3.290780   \n",
       "74            0.283688            1.503546             2.503546   \n",
       "\n",
       "    mean_last_ratings        t_test Cluster  \n",
       "0            0.932990  1.040049e-08     All  \n",
       "1            2.082474  9.232355e-14     All  \n",
       "2            0.837113  5.993624e-13     All  \n",
       "3            0.790722  8.970276e-25     All  \n",
       "4            0.312371  8.332273e-01     All  \n",
       "..                ...           ...     ...  \n",
       "70           5.297872  3.360124e-06       1  \n",
       "71           4.680851  2.355251e-02       1  \n",
       "72           0.028369  1.789359e-04       1  \n",
       "73           2.893617  2.932158e-09       1  \n",
       "74           1.900709  3.479107e-09       1  \n",
       "\n",
       "[75 rows x 9 columns]"
      ]
     },
     "execution_count": 58,
     "metadata": {},
     "output_type": "execute_result"
    }
   ],
   "source": [
    "df_conf_inter"
   ]
  },
  {
   "cell_type": "code",
   "execution_count": 166,
   "metadata": {},
   "outputs": [
    {
     "data": {
      "text/html": [
       "<div>\n",
       "<style scoped>\n",
       "    .dataframe tbody tr th:only-of-type {\n",
       "        vertical-align: middle;\n",
       "    }\n",
       "\n",
       "    .dataframe tbody tr th {\n",
       "        vertical-align: top;\n",
       "    }\n",
       "\n",
       "    .dataframe thead th {\n",
       "        text-align: right;\n",
       "    }\n",
       "</style>\n",
       "<table border=\"1\" class=\"dataframe\">\n",
       "  <thead>\n",
       "    <tr style=\"text-align: right;\">\n",
       "      <th></th>\n",
       "      <th>(CI_low_first_rating, 0)</th>\n",
       "      <th>(CI_low_first_rating, 1)</th>\n",
       "      <th>(CI_low_first_rating, 2)</th>\n",
       "      <th>(CI_low_first_rating, 3)</th>\n",
       "      <th>(CI_low_first_rating, All)</th>\n",
       "      <th>(CI_high_first_rating, 0)</th>\n",
       "      <th>(CI_high_first_rating, 1)</th>\n",
       "      <th>(CI_high_first_rating, 2)</th>\n",
       "      <th>(CI_high_first_rating, 3)</th>\n",
       "      <th>(CI_high_first_rating, All)</th>\n",
       "      <th>...</th>\n",
       "      <th>(mean_last_ratings, 0)</th>\n",
       "      <th>(mean_last_ratings, 1)</th>\n",
       "      <th>(mean_last_ratings, 2)</th>\n",
       "      <th>(mean_last_ratings, 3)</th>\n",
       "      <th>(mean_last_ratings, All)</th>\n",
       "      <th>(t_test, 0)</th>\n",
       "      <th>(t_test, 1)</th>\n",
       "      <th>(t_test, 2)</th>\n",
       "      <th>(t_test, 3)</th>\n",
       "      <th>(t_test, All)</th>\n",
       "    </tr>\n",
       "    <tr>\n",
       "      <th>Category</th>\n",
       "      <th></th>\n",
       "      <th></th>\n",
       "      <th></th>\n",
       "      <th></th>\n",
       "      <th></th>\n",
       "      <th></th>\n",
       "      <th></th>\n",
       "      <th></th>\n",
       "      <th></th>\n",
       "      <th></th>\n",
       "      <th></th>\n",
       "      <th></th>\n",
       "      <th></th>\n",
       "      <th></th>\n",
       "      <th></th>\n",
       "      <th></th>\n",
       "      <th></th>\n",
       "      <th></th>\n",
       "      <th></th>\n",
       "      <th></th>\n",
       "      <th></th>\n",
       "    </tr>\n",
       "  </thead>\n",
       "  <tbody>\n",
       "    <tr>\n",
       "      <th>Bocks</th>\n",
       "      <td>1.512690</td>\n",
       "      <td>1.531915</td>\n",
       "      <td>0.673469</td>\n",
       "      <td>0.493724</td>\n",
       "      <td>1.159012</td>\n",
       "      <td>1.822335</td>\n",
       "      <td>2.092199</td>\n",
       "      <td>0.969388</td>\n",
       "      <td>0.719665</td>\n",
       "      <td>1.339175</td>\n",
       "      <td>...</td>\n",
       "      <td>1.116751</td>\n",
       "      <td>1.631206</td>\n",
       "      <td>0.551020</td>\n",
       "      <td>0.531381</td>\n",
       "      <td>0.932990</td>\n",
       "      <td>1.210879e-08</td>\n",
       "      <td>4.189340e-01</td>\n",
       "      <td>2.001985e-03</td>\n",
       "      <td>3.781030e-01</td>\n",
       "      <td>1.040049e-08</td>\n",
       "    </tr>\n",
       "    <tr>\n",
       "      <th>Brown Ales</th>\n",
       "      <td>3.081218</td>\n",
       "      <td>2.397163</td>\n",
       "      <td>2.224490</td>\n",
       "      <td>1.548117</td>\n",
       "      <td>2.536082</td>\n",
       "      <td>3.492386</td>\n",
       "      <td>3.078014</td>\n",
       "      <td>2.806122</td>\n",
       "      <td>1.924686</td>\n",
       "      <td>2.794845</td>\n",
       "      <td>...</td>\n",
       "      <td>2.489848</td>\n",
       "      <td>2.617021</td>\n",
       "      <td>1.877551</td>\n",
       "      <td>1.263598</td>\n",
       "      <td>2.082474</td>\n",
       "      <td>1.567179e-09</td>\n",
       "      <td>6.209248e-01</td>\n",
       "      <td>3.737509e-04</td>\n",
       "      <td>1.907517e-04</td>\n",
       "      <td>9.232355e-14</td>\n",
       "    </tr>\n",
       "    <tr>\n",
       "      <th>Dark Ales</th>\n",
       "      <td>1.509886</td>\n",
       "      <td>1.198582</td>\n",
       "      <td>0.790816</td>\n",
       "      <td>0.506276</td>\n",
       "      <td>1.136082</td>\n",
       "      <td>1.812183</td>\n",
       "      <td>1.680851</td>\n",
       "      <td>1.142857</td>\n",
       "      <td>0.740586</td>\n",
       "      <td>1.315240</td>\n",
       "      <td>...</td>\n",
       "      <td>1.050761</td>\n",
       "      <td>1.219858</td>\n",
       "      <td>0.602041</td>\n",
       "      <td>0.451883</td>\n",
       "      <td>0.837113</td>\n",
       "      <td>3.901109e-10</td>\n",
       "      <td>2.220434e-01</td>\n",
       "      <td>5.679719e-04</td>\n",
       "      <td>2.379335e-02</td>\n",
       "      <td>5.993624e-13</td>\n",
       "    </tr>\n",
       "    <tr>\n",
       "      <th>Dark Lagers</th>\n",
       "      <td>1.393401</td>\n",
       "      <td>3.035461</td>\n",
       "      <td>0.500000</td>\n",
       "      <td>0.439331</td>\n",
       "      <td>1.268041</td>\n",
       "      <td>1.677665</td>\n",
       "      <td>3.659574</td>\n",
       "      <td>0.780612</td>\n",
       "      <td>0.665272</td>\n",
       "      <td>1.471134</td>\n",
       "      <td>...</td>\n",
       "      <td>0.923858</td>\n",
       "      <td>1.269504</td>\n",
       "      <td>0.545918</td>\n",
       "      <td>0.489540</td>\n",
       "      <td>0.790722</td>\n",
       "      <td>4.049361e-12</td>\n",
       "      <td>1.775291e-21</td>\n",
       "      <td>3.469893e-01</td>\n",
       "      <td>4.246688e-01</td>\n",
       "      <td>8.970276e-25</td>\n",
       "    </tr>\n",
       "    <tr>\n",
       "      <th>Hybrid Beers</th>\n",
       "      <td>0.281726</td>\n",
       "      <td>0.283688</td>\n",
       "      <td>0.209184</td>\n",
       "      <td>0.171548</td>\n",
       "      <td>0.272165</td>\n",
       "      <td>0.395939</td>\n",
       "      <td>0.496454</td>\n",
       "      <td>0.357143</td>\n",
       "      <td>0.301255</td>\n",
       "      <td>0.343299</td>\n",
       "      <td>...</td>\n",
       "      <td>0.390863</td>\n",
       "      <td>0.297872</td>\n",
       "      <td>0.244898</td>\n",
       "      <td>0.246862</td>\n",
       "      <td>0.312371</td>\n",
       "      <td>1.923013e-01</td>\n",
       "      <td>2.219053e-01</td>\n",
       "      <td>4.381056e-01</td>\n",
       "      <td>7.907089e-01</td>\n",
       "      <td>8.332273e-01</td>\n",
       "    </tr>\n",
       "    <tr>\n",
       "      <th>India Pale Ales</th>\n",
       "      <td>7.774112</td>\n",
       "      <td>2.865248</td>\n",
       "      <td>9.086735</td>\n",
       "      <td>22.174638</td>\n",
       "      <td>10.906450</td>\n",
       "      <td>8.595270</td>\n",
       "      <td>3.822695</td>\n",
       "      <td>10.632653</td>\n",
       "      <td>23.548117</td>\n",
       "      <td>11.946748</td>\n",
       "      <td>...</td>\n",
       "      <td>10.586294</td>\n",
       "      <td>10.148936</td>\n",
       "      <td>11.474490</td>\n",
       "      <td>16.163180</td>\n",
       "      <td>12.076289</td>\n",
       "      <td>2.487439e-14</td>\n",
       "      <td>1.859514e-24</td>\n",
       "      <td>2.410343e-03</td>\n",
       "      <td>4.386729e-28</td>\n",
       "      <td>1.467942e-02</td>\n",
       "    </tr>\n",
       "    <tr>\n",
       "      <th>Pale Ales</th>\n",
       "      <td>9.058376</td>\n",
       "      <td>7.198582</td>\n",
       "      <td>4.392466</td>\n",
       "      <td>7.046025</td>\n",
       "      <td>7.517526</td>\n",
       "      <td>9.761421</td>\n",
       "      <td>8.354610</td>\n",
       "      <td>5.102041</td>\n",
       "      <td>7.912134</td>\n",
       "      <td>7.989691</td>\n",
       "      <td>...</td>\n",
       "      <td>8.840102</td>\n",
       "      <td>9.510638</td>\n",
       "      <td>7.040816</td>\n",
       "      <td>8.142259</td>\n",
       "      <td>8.402062</td>\n",
       "      <td>1.398808e-02</td>\n",
       "      <td>7.017638e-06</td>\n",
       "      <td>7.210528e-14</td>\n",
       "      <td>3.506138e-02</td>\n",
       "      <td>1.559042e-05</td>\n",
       "    </tr>\n",
       "    <tr>\n",
       "      <th>Pale Lagers</th>\n",
       "      <td>3.616751</td>\n",
       "      <td>12.751773</td>\n",
       "      <td>1.107143</td>\n",
       "      <td>1.769874</td>\n",
       "      <td>4.018557</td>\n",
       "      <td>4.129442</td>\n",
       "      <td>14.631206</td>\n",
       "      <td>1.500000</td>\n",
       "      <td>2.288703</td>\n",
       "      <td>4.639162</td>\n",
       "      <td>...</td>\n",
       "      <td>3.281726</td>\n",
       "      <td>4.652482</td>\n",
       "      <td>1.637755</td>\n",
       "      <td>2.200837</td>\n",
       "      <td>2.882474</td>\n",
       "      <td>1.749773e-03</td>\n",
       "      <td>4.205912e-33</td>\n",
       "      <td>4.069503e-02</td>\n",
       "      <td>3.107862e-01</td>\n",
       "      <td>2.939323e-18</td>\n",
       "    </tr>\n",
       "    <tr>\n",
       "      <th>Porters</th>\n",
       "      <td>2.121827</td>\n",
       "      <td>1.326241</td>\n",
       "      <td>2.801020</td>\n",
       "      <td>1.192469</td>\n",
       "      <td>2.004124</td>\n",
       "      <td>2.479695</td>\n",
       "      <td>1.829787</td>\n",
       "      <td>3.428571</td>\n",
       "      <td>1.514644</td>\n",
       "      <td>2.238144</td>\n",
       "      <td>...</td>\n",
       "      <td>2.195431</td>\n",
       "      <td>2.163121</td>\n",
       "      <td>2.576531</td>\n",
       "      <td>1.962343</td>\n",
       "      <td>2.210309</td>\n",
       "      <td>3.815884e-01</td>\n",
       "      <td>3.062677e-03</td>\n",
       "      <td>3.266419e-03</td>\n",
       "      <td>8.027743e-06</td>\n",
       "      <td>2.196372e-01</td>\n",
       "    </tr>\n",
       "    <tr>\n",
       "      <th>Specialty Beer</th>\n",
       "      <td>1.558376</td>\n",
       "      <td>1.163121</td>\n",
       "      <td>1.132653</td>\n",
       "      <td>1.046025</td>\n",
       "      <td>1.377320</td>\n",
       "      <td>1.982752</td>\n",
       "      <td>1.723404</td>\n",
       "      <td>1.591837</td>\n",
       "      <td>1.435146</td>\n",
       "      <td>1.614433</td>\n",
       "      <td>...</td>\n",
       "      <td>1.685279</td>\n",
       "      <td>1.687943</td>\n",
       "      <td>1.484694</td>\n",
       "      <td>1.200837</td>\n",
       "      <td>1.525773</td>\n",
       "      <td>6.610028e-01</td>\n",
       "      <td>1.843903e-01</td>\n",
       "      <td>3.448799e-01</td>\n",
       "      <td>8.681132e-01</td>\n",
       "      <td>6.030390e-01</td>\n",
       "    </tr>\n",
       "    <tr>\n",
       "      <th>Stouts</th>\n",
       "      <td>4.857868</td>\n",
       "      <td>3.106383</td>\n",
       "      <td>14.505102</td>\n",
       "      <td>4.142259</td>\n",
       "      <td>6.447423</td>\n",
       "      <td>5.373096</td>\n",
       "      <td>3.978723</td>\n",
       "      <td>15.882653</td>\n",
       "      <td>4.983264</td>\n",
       "      <td>7.127835</td>\n",
       "      <td>...</td>\n",
       "      <td>6.205584</td>\n",
       "      <td>5.297872</td>\n",
       "      <td>10.188776</td>\n",
       "      <td>7.606695</td>\n",
       "      <td>7.223711</td>\n",
       "      <td>4.111801e-07</td>\n",
       "      <td>3.360124e-06</td>\n",
       "      <td>2.000286e-24</td>\n",
       "      <td>3.962554e-15</td>\n",
       "      <td>1.425922e-02</td>\n",
       "    </tr>\n",
       "    <tr>\n",
       "      <th>Strong Ales</th>\n",
       "      <td>5.794416</td>\n",
       "      <td>3.574468</td>\n",
       "      <td>5.673469</td>\n",
       "      <td>3.753138</td>\n",
       "      <td>5.106186</td>\n",
       "      <td>6.479695</td>\n",
       "      <td>4.347518</td>\n",
       "      <td>6.744898</td>\n",
       "      <td>4.405858</td>\n",
       "      <td>5.525773</td>\n",
       "      <td>...</td>\n",
       "      <td>5.408629</td>\n",
       "      <td>4.680851</td>\n",
       "      <td>5.091837</td>\n",
       "      <td>3.702929</td>\n",
       "      <td>4.818557</td>\n",
       "      <td>4.634065e-04</td>\n",
       "      <td>2.355251e-02</td>\n",
       "      <td>1.091480e-03</td>\n",
       "      <td>8.847073e-02</td>\n",
       "      <td>1.184995e-04</td>\n",
       "    </tr>\n",
       "    <tr>\n",
       "      <th>Weird Cocktail</th>\n",
       "      <td>0.040609</td>\n",
       "      <td>0.099291</td>\n",
       "      <td>0.040816</td>\n",
       "      <td>0.000000</td>\n",
       "      <td>0.051546</td>\n",
       "      <td>0.088832</td>\n",
       "      <td>0.212766</td>\n",
       "      <td>0.122449</td>\n",
       "      <td>0.029289</td>\n",
       "      <td>0.084536</td>\n",
       "      <td>...</td>\n",
       "      <td>0.035533</td>\n",
       "      <td>0.028369</td>\n",
       "      <td>0.005102</td>\n",
       "      <td>0.008368</td>\n",
       "      <td>0.021649</td>\n",
       "      <td>7.814860e-02</td>\n",
       "      <td>1.789359e-04</td>\n",
       "      <td>1.585346e-03</td>\n",
       "      <td>6.556682e-01</td>\n",
       "      <td>2.432629e-06</td>\n",
       "    </tr>\n",
       "    <tr>\n",
       "      <th>Wheat Beers</th>\n",
       "      <td>3.365482</td>\n",
       "      <td>4.276596</td>\n",
       "      <td>1.331633</td>\n",
       "      <td>1.665272</td>\n",
       "      <td>2.776289</td>\n",
       "      <td>3.895939</td>\n",
       "      <td>5.234043</td>\n",
       "      <td>1.836735</td>\n",
       "      <td>2.106381</td>\n",
       "      <td>3.108247</td>\n",
       "      <td>...</td>\n",
       "      <td>2.543147</td>\n",
       "      <td>2.893617</td>\n",
       "      <td>1.877551</td>\n",
       "      <td>1.824268</td>\n",
       "      <td>2.282474</td>\n",
       "      <td>4.994585e-11</td>\n",
       "      <td>2.932158e-09</td>\n",
       "      <td>4.777999e-02</td>\n",
       "      <td>7.104695e-01</td>\n",
       "      <td>8.487360e-12</td>\n",
       "    </tr>\n",
       "    <tr>\n",
       "      <th>Wild/Sour Beers</th>\n",
       "      <td>0.906091</td>\n",
       "      <td>0.191489</td>\n",
       "      <td>1.173469</td>\n",
       "      <td>0.673640</td>\n",
       "      <td>0.881443</td>\n",
       "      <td>1.340102</td>\n",
       "      <td>0.390071</td>\n",
       "      <td>1.918367</td>\n",
       "      <td>1.138075</td>\n",
       "      <td>1.143701</td>\n",
       "      <td>...</td>\n",
       "      <td>3.246193</td>\n",
       "      <td>1.900709</td>\n",
       "      <td>4.801020</td>\n",
       "      <td>4.205021</td>\n",
       "      <td>3.601031</td>\n",
       "      <td>4.317902e-26</td>\n",
       "      <td>3.479107e-09</td>\n",
       "      <td>5.988160e-23</td>\n",
       "      <td>5.285727e-27</td>\n",
       "      <td>4.314128e-79</td>\n",
       "    </tr>\n",
       "  </tbody>\n",
       "</table>\n",
       "<p>15 rows × 35 columns</p>\n",
       "</div>"
      ],
      "text/plain": [
       "                 (CI_low_first_rating, 0)  (CI_low_first_rating, 1)  \\\n",
       "Category                                                              \n",
       "Bocks                            1.512690                  1.531915   \n",
       "Brown Ales                       3.081218                  2.397163   \n",
       "Dark Ales                        1.509886                  1.198582   \n",
       "Dark Lagers                      1.393401                  3.035461   \n",
       "Hybrid Beers                     0.281726                  0.283688   \n",
       "India Pale Ales                  7.774112                  2.865248   \n",
       "Pale Ales                        9.058376                  7.198582   \n",
       "Pale Lagers                      3.616751                 12.751773   \n",
       "Porters                          2.121827                  1.326241   \n",
       "Specialty Beer                   1.558376                  1.163121   \n",
       "Stouts                           4.857868                  3.106383   \n",
       "Strong Ales                      5.794416                  3.574468   \n",
       "Weird Cocktail                   0.040609                  0.099291   \n",
       "Wheat Beers                      3.365482                  4.276596   \n",
       "Wild/Sour Beers                  0.906091                  0.191489   \n",
       "\n",
       "                 (CI_low_first_rating, 2)  (CI_low_first_rating, 3)  \\\n",
       "Category                                                              \n",
       "Bocks                            0.673469                  0.493724   \n",
       "Brown Ales                       2.224490                  1.548117   \n",
       "Dark Ales                        0.790816                  0.506276   \n",
       "Dark Lagers                      0.500000                  0.439331   \n",
       "Hybrid Beers                     0.209184                  0.171548   \n",
       "India Pale Ales                  9.086735                 22.174638   \n",
       "Pale Ales                        4.392466                  7.046025   \n",
       "Pale Lagers                      1.107143                  1.769874   \n",
       "Porters                          2.801020                  1.192469   \n",
       "Specialty Beer                   1.132653                  1.046025   \n",
       "Stouts                          14.505102                  4.142259   \n",
       "Strong Ales                      5.673469                  3.753138   \n",
       "Weird Cocktail                   0.040816                  0.000000   \n",
       "Wheat Beers                      1.331633                  1.665272   \n",
       "Wild/Sour Beers                  1.173469                  0.673640   \n",
       "\n",
       "                 (CI_low_first_rating, All)  (CI_high_first_rating, 0)  \\\n",
       "Category                                                                 \n",
       "Bocks                              1.159012                   1.822335   \n",
       "Brown Ales                         2.536082                   3.492386   \n",
       "Dark Ales                          1.136082                   1.812183   \n",
       "Dark Lagers                        1.268041                   1.677665   \n",
       "Hybrid Beers                       0.272165                   0.395939   \n",
       "India Pale Ales                   10.906450                   8.595270   \n",
       "Pale Ales                          7.517526                   9.761421   \n",
       "Pale Lagers                        4.018557                   4.129442   \n",
       "Porters                            2.004124                   2.479695   \n",
       "Specialty Beer                     1.377320                   1.982752   \n",
       "Stouts                             6.447423                   5.373096   \n",
       "Strong Ales                        5.106186                   6.479695   \n",
       "Weird Cocktail                     0.051546                   0.088832   \n",
       "Wheat Beers                        2.776289                   3.895939   \n",
       "Wild/Sour Beers                    0.881443                   1.340102   \n",
       "\n",
       "                 (CI_high_first_rating, 1)  (CI_high_first_rating, 2)  \\\n",
       "Category                                                                \n",
       "Bocks                             2.092199                   0.969388   \n",
       "Brown Ales                        3.078014                   2.806122   \n",
       "Dark Ales                         1.680851                   1.142857   \n",
       "Dark Lagers                       3.659574                   0.780612   \n",
       "Hybrid Beers                      0.496454                   0.357143   \n",
       "India Pale Ales                   3.822695                  10.632653   \n",
       "Pale Ales                         8.354610                   5.102041   \n",
       "Pale Lagers                      14.631206                   1.500000   \n",
       "Porters                           1.829787                   3.428571   \n",
       "Specialty Beer                    1.723404                   1.591837   \n",
       "Stouts                            3.978723                  15.882653   \n",
       "Strong Ales                       4.347518                   6.744898   \n",
       "Weird Cocktail                    0.212766                   0.122449   \n",
       "Wheat Beers                       5.234043                   1.836735   \n",
       "Wild/Sour Beers                   0.390071                   1.918367   \n",
       "\n",
       "                 (CI_high_first_rating, 3)  (CI_high_first_rating, All)  ...  \\\n",
       "Category                                                                 ...   \n",
       "Bocks                             0.719665                     1.339175  ...   \n",
       "Brown Ales                        1.924686                     2.794845  ...   \n",
       "Dark Ales                         0.740586                     1.315240  ...   \n",
       "Dark Lagers                       0.665272                     1.471134  ...   \n",
       "Hybrid Beers                      0.301255                     0.343299  ...   \n",
       "India Pale Ales                  23.548117                    11.946748  ...   \n",
       "Pale Ales                         7.912134                     7.989691  ...   \n",
       "Pale Lagers                       2.288703                     4.639162  ...   \n",
       "Porters                           1.514644                     2.238144  ...   \n",
       "Specialty Beer                    1.435146                     1.614433  ...   \n",
       "Stouts                            4.983264                     7.127835  ...   \n",
       "Strong Ales                       4.405858                     5.525773  ...   \n",
       "Weird Cocktail                    0.029289                     0.084536  ...   \n",
       "Wheat Beers                       2.106381                     3.108247  ...   \n",
       "Wild/Sour Beers                   1.138075                     1.143701  ...   \n",
       "\n",
       "                 (mean_last_ratings, 0)  (mean_last_ratings, 1)  \\\n",
       "Category                                                          \n",
       "Bocks                          1.116751                1.631206   \n",
       "Brown Ales                     2.489848                2.617021   \n",
       "Dark Ales                      1.050761                1.219858   \n",
       "Dark Lagers                    0.923858                1.269504   \n",
       "Hybrid Beers                   0.390863                0.297872   \n",
       "India Pale Ales               10.586294               10.148936   \n",
       "Pale Ales                      8.840102                9.510638   \n",
       "Pale Lagers                    3.281726                4.652482   \n",
       "Porters                        2.195431                2.163121   \n",
       "Specialty Beer                 1.685279                1.687943   \n",
       "Stouts                         6.205584                5.297872   \n",
       "Strong Ales                    5.408629                4.680851   \n",
       "Weird Cocktail                 0.035533                0.028369   \n",
       "Wheat Beers                    2.543147                2.893617   \n",
       "Wild/Sour Beers                3.246193                1.900709   \n",
       "\n",
       "                 (mean_last_ratings, 2)  (mean_last_ratings, 3)  \\\n",
       "Category                                                          \n",
       "Bocks                          0.551020                0.531381   \n",
       "Brown Ales                     1.877551                1.263598   \n",
       "Dark Ales                      0.602041                0.451883   \n",
       "Dark Lagers                    0.545918                0.489540   \n",
       "Hybrid Beers                   0.244898                0.246862   \n",
       "India Pale Ales               11.474490               16.163180   \n",
       "Pale Ales                      7.040816                8.142259   \n",
       "Pale Lagers                    1.637755                2.200837   \n",
       "Porters                        2.576531                1.962343   \n",
       "Specialty Beer                 1.484694                1.200837   \n",
       "Stouts                        10.188776                7.606695   \n",
       "Strong Ales                    5.091837                3.702929   \n",
       "Weird Cocktail                 0.005102                0.008368   \n",
       "Wheat Beers                    1.877551                1.824268   \n",
       "Wild/Sour Beers                4.801020                4.205021   \n",
       "\n",
       "                 (mean_last_ratings, All)   (t_test, 0)   (t_test, 1)  \\\n",
       "Category                                                                \n",
       "Bocks                            0.932990  1.210879e-08  4.189340e-01   \n",
       "Brown Ales                       2.082474  1.567179e-09  6.209248e-01   \n",
       "Dark Ales                        0.837113  3.901109e-10  2.220434e-01   \n",
       "Dark Lagers                      0.790722  4.049361e-12  1.775291e-21   \n",
       "Hybrid Beers                     0.312371  1.923013e-01  2.219053e-01   \n",
       "India Pale Ales                 12.076289  2.487439e-14  1.859514e-24   \n",
       "Pale Ales                        8.402062  1.398808e-02  7.017638e-06   \n",
       "Pale Lagers                      2.882474  1.749773e-03  4.205912e-33   \n",
       "Porters                          2.210309  3.815884e-01  3.062677e-03   \n",
       "Specialty Beer                   1.525773  6.610028e-01  1.843903e-01   \n",
       "Stouts                           7.223711  4.111801e-07  3.360124e-06   \n",
       "Strong Ales                      4.818557  4.634065e-04  2.355251e-02   \n",
       "Weird Cocktail                   0.021649  7.814860e-02  1.789359e-04   \n",
       "Wheat Beers                      2.282474  4.994585e-11  2.932158e-09   \n",
       "Wild/Sour Beers                  3.601031  4.317902e-26  3.479107e-09   \n",
       "\n",
       "                  (t_test, 2)   (t_test, 3)  (t_test, All)  \n",
       "Category                                                    \n",
       "Bocks            2.001985e-03  3.781030e-01   1.040049e-08  \n",
       "Brown Ales       3.737509e-04  1.907517e-04   9.232355e-14  \n",
       "Dark Ales        5.679719e-04  2.379335e-02   5.993624e-13  \n",
       "Dark Lagers      3.469893e-01  4.246688e-01   8.970276e-25  \n",
       "Hybrid Beers     4.381056e-01  7.907089e-01   8.332273e-01  \n",
       "India Pale Ales  2.410343e-03  4.386729e-28   1.467942e-02  \n",
       "Pale Ales        7.210528e-14  3.506138e-02   1.559042e-05  \n",
       "Pale Lagers      4.069503e-02  3.107862e-01   2.939323e-18  \n",
       "Porters          3.266419e-03  8.027743e-06   2.196372e-01  \n",
       "Specialty Beer   3.448799e-01  8.681132e-01   6.030390e-01  \n",
       "Stouts           2.000286e-24  3.962554e-15   1.425922e-02  \n",
       "Strong Ales      1.091480e-03  8.847073e-02   1.184995e-04  \n",
       "Weird Cocktail   1.585346e-03  6.556682e-01   2.432629e-06  \n",
       "Wheat Beers      4.777999e-02  7.104695e-01   8.487360e-12  \n",
       "Wild/Sour Beers  5.988160e-23  5.285727e-27   4.314128e-79  \n",
       "\n",
       "[15 rows x 35 columns]"
      ]
     },
     "execution_count": 166,
     "metadata": {},
     "output_type": "execute_result"
    }
   ],
   "source": [
    "df_pivot = df_conf_inter.pivot(index='Category', columns='Cluster')\n",
    "df_pivot.columns = df_pivot.columns.to_flat_index()\n",
    "df_pivot"
   ]
  },
  {
   "cell_type": "code",
   "execution_count": 167,
   "metadata": {},
   "outputs": [
    {
     "data": {
      "text/plain": [
       "Index([     ('CI_low_first_rating', 0),      ('CI_low_first_rating', 1),\n",
       "            ('CI_low_first_rating', 2),      ('CI_low_first_rating', 3),\n",
       "        ('CI_low_first_rating', 'All'),     ('CI_high_first_rating', 0),\n",
       "           ('CI_high_first_rating', 1),     ('CI_high_first_rating', 2),\n",
       "           ('CI_high_first_rating', 3), ('CI_high_first_rating', 'All'),\n",
       "             ('mean_first_ratings', 0),       ('mean_first_ratings', 1),\n",
       "             ('mean_first_ratings', 2),       ('mean_first_ratings', 3),\n",
       "         ('mean_first_ratings', 'All'),       ('CI_low_last_rating', 0),\n",
       "             ('CI_low_last_rating', 1),       ('CI_low_last_rating', 2),\n",
       "             ('CI_low_last_rating', 3),   ('CI_low_last_rating', 'All'),\n",
       "            ('CI_high_last_rating', 0),      ('CI_high_last_rating', 1),\n",
       "            ('CI_high_last_rating', 2),      ('CI_high_last_rating', 3),\n",
       "        ('CI_high_last_rating', 'All'),        ('mean_last_ratings', 0),\n",
       "              ('mean_last_ratings', 1),        ('mean_last_ratings', 2),\n",
       "              ('mean_last_ratings', 3),    ('mean_last_ratings', 'All'),\n",
       "                         ('t_test', 0),                   ('t_test', 1),\n",
       "                         ('t_test', 2),                   ('t_test', 3),\n",
       "                     ('t_test', 'All')],\n",
       "      dtype='object')"
      ]
     },
     "execution_count": 167,
     "metadata": {},
     "output_type": "execute_result"
    }
   ],
   "source": [
    "df_pivot.columns"
   ]
  },
  {
   "cell_type": "code",
   "execution_count": 168,
   "metadata": {},
   "outputs": [],
   "source": [
    "df_means = df_pivot.iloc[:,10:15]"
   ]
  },
  {
   "cell_type": "code",
   "execution_count": null,
   "metadata": {},
   "outputs": [],
   "source": []
  },
  {
   "cell_type": "code",
   "execution_count": 169,
   "metadata": {},
   "outputs": [],
   "source": [
    "# mean_user = pd.DataFrame()\n",
    "\n",
    "# #Cluster 0\n",
    "\n",
    "# cluster_0 = user_to_cat_first[user_to_cat_first[\"first_50_cluster\"] == 0] #/!\\ the number will vary depending on the Kmeans init\n",
    "# cluster_0.drop(columns = \"first_50_cluster\", inplace = True)\n",
    "# #add the average number of beer rated during the FIRST 50 rarings of the cluster 0\n",
    "# mean_user[\"first_50_0\"] = cluster_0.mean()\n",
    "# mean_user = mean_user.reset_index(level=0) #makes the category a column rather than the index\n",
    "# #add the average number of beer rated during the LAST 50 rarings of the cluster 0\n",
    "# mean_user[\"last_50_0\"] = user_to_cat_last[user_to_cat_last.index.isin(cluster_0.index)].mean().values\n",
    "\n",
    "# #Cluster 1\n",
    "# cluster_1 = user_to_cat_first[user_to_cat_first[\"first_50_cluster\"] == 1]#/!\\ the number will vary depending on the Kmeans init\n",
    "# cluster_1.drop(columns = \"first_50_cluster\", inplace = True)\n",
    "# #add the average number of beer rated during the FIRST 50 rarings of the cluster 1\n",
    "# #print(stout_lovers.mean())\n",
    "# mean_user[\"first_50_1\"] = cluster_1.mean().values\n",
    "# #add the average number of beer rated during the LAST 50 rarings of the cluster 1\n",
    "# mean_user[\"last_50_1\"] =  user_to_cat_last[user_to_cat_last.index.isin(cluster_1.index)].mean().values\n",
    "\n",
    "# #Cluster 2\n",
    "# cluster_2 = user_to_cat_first[user_to_cat_first[\"first_50_cluster\"] == 2]#/!\\ the number will vary depending on the Kmeans init\n",
    "# cluster_2.drop(columns = \"first_50_cluster\", inplace = True)\n",
    "# #add the average number of beer rated during the FIRST 50 ratings of the cluster 2\n",
    "# mean_user[\"first_50_2\"] = cluster_2.mean().values\n",
    "# #add the average number of beer rated during the LAST 50 rarings of the cluster 2\n",
    "# mean_user[\"last_50_2\"] =  user_to_cat_last[user_to_cat_last.index.isin(cluster_2.index)].mean().values\n",
    "\n",
    "# #Cluster 3\n",
    "# cluster_3 = user_to_cat_first[user_to_cat_first[\"first_50_cluster\"] == 3]#/!\\ the number will vary depending on the Kmeans init\n",
    "# cluster_3.drop(columns = \"first_50_cluster\", inplace = True)\n",
    "# #add the average number of beer rated during the FIRST 50 ratings of the cluster 3\n",
    "# mean_user[\"first_50_3\"] = cluster_3.mean().values\n",
    "# #add the average number of beer rated during the LAST 50 rarings of the cluster 3\n",
    "# mean_user[\"last_50_3\"] =  user_to_cat_last[user_to_cat_last.index.isin(cluster_3.index)].mean().values\n",
    "# mean_user\n",
    "\n",
    "# #ALL TOGETHER\n",
    "# mean_user[\"all_first_50\"] = mean_user[[\"first_50_0\", \"first_50_1\", \"first_50_2\", \"first_50_3\"]].mean(axis=1)\n",
    "# mean_user[\"all_last_50\"] = mean_user[[\"last_50_0\", \"last_50_1\", \"last_50_2\", \"last_50_3\"]].mean(axis=1)"
   ]
  },
  {
   "cell_type": "code",
   "execution_count": 170,
   "metadata": {},
   "outputs": [],
   "source": [
    "ipa_col = (df_means.loc['India Pale Ales',:]).argmax()\n",
    "stout_col = (df_means.loc['Stouts',:]).argmax()\n",
    "pale_col = (df_means.loc['Pale Lagers',:]).argmax()\n",
    "\n",
    "possible_indices = [0,1,2,3] #column indices\n",
    "expl_col = sum(possible_indices) - (ipa_col + stout_col + pale_col)\n",
    "\n",
    "mapping = {'All' : 4, 'Jean-Michel IPA' : ipa_col, 'Marcel Stout' : stout_col, \n",
    "           'James Bland' : pale_col, 'Ada the explorer' : expl_col}\n"
   ]
  },
  {
   "cell_type": "code",
   "execution_count": 171,
   "metadata": {},
   "outputs": [
    {
     "data": {
      "text/plain": [
       "{'All': 4,\n",
       " 'Jean-Michel IPA': 3,\n",
       " 'Marcel Stout': 2,\n",
       " 'James Bland': 1,\n",
       " 'Ada the explorer': 0}"
      ]
     },
     "execution_count": 171,
     "metadata": {},
     "output_type": "execute_result"
    }
   ],
   "source": [
    "mapping"
   ]
  },
  {
   "cell_type": "code",
   "execution_count": 242,
   "metadata": {},
   "outputs": [
    {
     "data": {
      "application/vnd.plotly.v1+json": {
       "config": {
        "plotlyServerURL": "https://plot.ly"
       },
       "data": [
        {
         "line": {
          "color": "rgb(239,85,59)"
         },
         "mode": "lines",
         "name": "last 50 beers",
         "showlegend": true,
         "type": "scatter",
         "visible": true,
         "x": [
          "Bocks",
          "Brown Ales",
          "Dark Ales",
          "Dark Lagers",
          "Hybrid Beers",
          "India Pale Ales",
          "Pale Ales",
          "Pale Lagers",
          "Porters",
          "Specialty Beer",
          "Stouts",
          "Strong Ales",
          "Weird Cocktail",
          "Wheat Beers",
          "Wild/Sour Beers"
         ],
         "y": [
          0.9329896907216495,
          2.082474226804124,
          0.8371134020618557,
          0.790721649484536,
          0.31237113402061856,
          12.076288659793814,
          8.402061855670103,
          2.8824742268041237,
          2.2103092783505156,
          1.5257731958762886,
          7.223711340206186,
          4.818556701030928,
          0.021649484536082474,
          2.2824742268041236,
          3.6010309278350516
         ]
        },
        {
         "fillcolor": "rgba(239,85,59,0.3)",
         "line": {
          "width": 0
         },
         "mode": "lines",
         "name": "first, CI Low",
         "showlegend": false,
         "type": "scatter",
         "visible": true,
         "x": [
          "Bocks",
          "Brown Ales",
          "Dark Ales",
          "Dark Lagers",
          "Hybrid Beers",
          "India Pale Ales",
          "Pale Ales",
          "Pale Lagers",
          "Porters",
          "Specialty Beer",
          "Stouts",
          "Strong Ales",
          "Weird Cocktail",
          "Wheat Beers",
          "Wild/Sour Beers"
         ],
         "y": [
          0.8546391752577319,
          1.97652605548154,
          0.7628865979381443,
          0.7237113402061855,
          0.27835051546391754,
          11.64020618556701,
          8.162886597938144,
          2.693814432989691,
          2.1041237113402063,
          1.4195876288659794,
          6.92048422193249,
          4.614432989690721,
          0.013402061855670102,
          2.161725068592755,
          3.345360824742268
         ]
        },
        {
         "fill": "tonexty",
         "fillcolor": "rgba(239,85,59,0.3)",
         "line": {
          "width": 0
         },
         "mode": "lines",
         "name": "first, CI high",
         "showlegend": false,
         "type": "scatter",
         "visible": true,
         "x": [
          "Bocks",
          "Brown Ales",
          "Dark Ales",
          "Dark Lagers",
          "Hybrid Beers",
          "India Pale Ales",
          "Pale Ales",
          "Pale Lagers",
          "Porters",
          "Specialty Beer",
          "Stouts",
          "Strong Ales",
          "Weird Cocktail",
          "Wheat Beers",
          "Wild/Sour Beers"
         ],
         "y": [
          1.0216494845360824,
          2.197938144329897,
          0.9154639175257732,
          0.8602762951483324,
          0.34845360824742266,
          12.514432989690722,
          8.643298969072164,
          3.084929484467993,
          2.3195876288659796,
          1.6422680412371133,
          7.5371134020618555,
          5.025773195876289,
          0.030927835051546393,
          2.41340206185567,
          3.865979381443299
         ]
        },
        {
         "line": {
          "color": "rgb(0,204,150)"
         },
         "mode": "lines",
         "name": "first 50 beers",
         "showlegend": true,
         "type": "scatter",
         "visible": true,
         "x": [
          "Bocks",
          "Brown Ales",
          "Dark Ales",
          "Dark Lagers",
          "Hybrid Beers",
          "India Pale Ales",
          "Pale Ales",
          "Pale Lagers",
          "Porters",
          "Specialty Beer",
          "Stouts",
          "Strong Ales",
          "Weird Cocktail",
          "Wheat Beers",
          "Wild/Sour Beers"
         ],
         "y": [
          1.2474226804123711,
          2.6618556701030927,
          1.2247422680412372,
          1.3711340206185567,
          0.30721649484536084,
          11.427835051546392,
          7.752577319587629,
          4.309278350515464,
          2.118556701030928,
          1.48659793814433,
          6.77319587628866,
          5.315463917525773,
          0.06701030927835051,
          2.936082474226804,
          1.0010309278350515
         ]
        },
        {
         "fillcolor": "rgba(0,204,150,0.3)",
         "line": {
          "width": 0
         },
         "mode": "lines",
         "name": "first, CI Low",
         "showlegend": false,
         "type": "scatter",
         "visible": true,
         "x": [
          "Bocks",
          "Brown Ales",
          "Dark Ales",
          "Dark Lagers",
          "Hybrid Beers",
          "India Pale Ales",
          "Pale Ales",
          "Pale Lagers",
          "Porters",
          "Specialty Beer",
          "Stouts",
          "Strong Ales",
          "Weird Cocktail",
          "Wheat Beers",
          "Wild/Sour Beers"
         ],
         "y": [
          1.159011607145409,
          2.536082474226804,
          1.136082474226804,
          1.268041237113402,
          0.2721649484536082,
          10.90644993609431,
          7.517525773195876,
          4.018556701030928,
          2.004123711340206,
          1.377319587628866,
          6.447422680412371,
          5.106185567010309,
          0.05154639175257732,
          2.7762886597938143,
          0.8814432989690721
         ]
        },
        {
         "fill": "tonexty",
         "fillcolor": "rgba(0,204,150,0.3)",
         "line": {
          "width": 0
         },
         "mode": "lines",
         "name": "first, CI High",
         "showlegend": false,
         "type": "scatter",
         "visible": true,
         "x": [
          "Bocks",
          "Brown Ales",
          "Dark Ales",
          "Dark Lagers",
          "Hybrid Beers",
          "India Pale Ales",
          "Pale Ales",
          "Pale Lagers",
          "Porters",
          "Specialty Beer",
          "Stouts",
          "Strong Ales",
          "Weird Cocktail",
          "Wheat Beers",
          "Wild/Sour Beers"
         ],
         "y": [
          1.3391752577319587,
          2.794845360824742,
          1.3152397787747572,
          1.4711340206185568,
          0.34329896907216495,
          11.946747580906337,
          7.989690721649485,
          4.639162382917062,
          2.2381443298969073,
          1.6144329896907217,
          7.127835051546392,
          5.525773195876289,
          0.08453608247422681,
          3.1082474226804124,
          1.1437008572215999
         ]
        },
        {
         "line": {
          "color": "rgb(239,85,59)"
         },
         "mode": "lines",
         "name": "last 50 beers",
         "showlegend": true,
         "type": "scatter",
         "visible": false,
         "x": [
          "Bocks",
          "Brown Ales",
          "Dark Ales",
          "Dark Lagers",
          "Hybrid Beers",
          "India Pale Ales",
          "Pale Ales",
          "Pale Lagers",
          "Porters",
          "Specialty Beer",
          "Stouts",
          "Strong Ales",
          "Weird Cocktail",
          "Wheat Beers",
          "Wild/Sour Beers"
         ],
         "y": [
          0.5313807531380753,
          1.2635983263598327,
          0.45188284518828453,
          0.4895397489539749,
          0.24686192468619247,
          16.16317991631799,
          8.142259414225942,
          2.200836820083682,
          1.9623430962343096,
          1.200836820083682,
          7.606694560669456,
          3.702928870292887,
          0.008368200836820083,
          1.8242677824267783,
          4.205020920502092
         ]
        },
        {
         "fillcolor": "rgba(239,85,59,0.3)",
         "line": {
          "width": 0
         },
         "mode": "lines",
         "name": "first, CI Low",
         "showlegend": false,
         "type": "scatter",
         "visible": false,
         "x": [
          "Bocks",
          "Brown Ales",
          "Dark Ales",
          "Dark Lagers",
          "Hybrid Beers",
          "India Pale Ales",
          "Pale Ales",
          "Pale Lagers",
          "Porters",
          "Specialty Beer",
          "Stouts",
          "Strong Ales",
          "Weird Cocktail",
          "Wheat Beers",
          "Wild/Sour Beers"
         ],
         "y": [
          0.41841004184100417,
          1.100418410041841,
          0.35564853556485354,
          0.3891213389121339,
          0.18828451882845187,
          15.238493723849372,
          7.677824267782427,
          1.9147359287048744,
          1.7573221757322175,
          1.0334728033472804,
          6.945606694560669,
          3.3598326359832638,
          0,
          1.6276150627615062,
          3.719665271966527
         ]
        },
        {
         "fill": "tonexty",
         "fillcolor": "rgba(239,85,59,0.3)",
         "line": {
          "width": 0
         },
         "mode": "lines",
         "name": "first, CI high",
         "showlegend": false,
         "type": "scatter",
         "visible": false,
         "x": [
          "Bocks",
          "Brown Ales",
          "Dark Ales",
          "Dark Lagers",
          "Hybrid Beers",
          "India Pale Ales",
          "Pale Ales",
          "Pale Lagers",
          "Porters",
          "Specialty Beer",
          "Stouts",
          "Strong Ales",
          "Weird Cocktail",
          "Wheat Beers",
          "Wild/Sour Beers"
         ],
         "y": [
          0.6652719665271967,
          1.4309623430962344,
          0.5648535564853556,
          0.5899581589958159,
          0.3138075313807531,
          17.11715481171548,
          8.644351464435147,
          2.5564853556485354,
          2.1757322175732217,
          1.389121338912134,
          8.343096234309623,
          4.058577405857741,
          0.02092050209205021,
          2.0585774058577404,
          4.7531380753138075
         ]
        },
        {
         "line": {
          "color": "rgb(0,204,150)"
         },
         "mode": "lines",
         "name": "first 50 beers",
         "showlegend": true,
         "type": "scatter",
         "visible": false,
         "x": [
          "Bocks",
          "Brown Ales",
          "Dark Ales",
          "Dark Lagers",
          "Hybrid Beers",
          "India Pale Ales",
          "Pale Ales",
          "Pale Lagers",
          "Porters",
          "Specialty Beer",
          "Stouts",
          "Strong Ales",
          "Weird Cocktail",
          "Wheat Beers",
          "Wild/Sour Beers"
         ],
         "y": [
          0.5983263598326359,
          1.7322175732217573,
          0.6150627615062761,
          0.5481171548117155,
          0.23430962343096234,
          22.832635983263597,
          7.468619246861925,
          2.01255230125523,
          1.3514644351464435,
          1.2217573221757323,
          4.556485355648536,
          4.075313807531381,
          0.012552301255230125,
          1.8786610878661087,
          0.8619246861924686
         ]
        },
        {
         "fillcolor": "rgba(0,204,150,0.3)",
         "line": {
          "width": 0
         },
         "mode": "lines",
         "name": "first, CI Low",
         "showlegend": false,
         "type": "scatter",
         "visible": false,
         "x": [
          "Bocks",
          "Brown Ales",
          "Dark Ales",
          "Dark Lagers",
          "Hybrid Beers",
          "India Pale Ales",
          "Pale Ales",
          "Pale Lagers",
          "Porters",
          "Specialty Beer",
          "Stouts",
          "Strong Ales",
          "Weird Cocktail",
          "Wheat Beers",
          "Wild/Sour Beers"
         ],
         "y": [
          0.49372384937238495,
          1.5481171548117154,
          0.5062761506276151,
          0.4393305439330544,
          0.17154811715481172,
          22.174637592841375,
          7.046025104602511,
          1.7698744769874477,
          1.1924686192468619,
          1.0460251046025104,
          4.142259414225942,
          3.7531380753138075,
          0,
          1.6652719665271967,
          0.6736401673640168
         ]
        },
        {
         "fill": "tonexty",
         "fillcolor": "rgba(0,204,150,0.3)",
         "line": {
          "width": 0
         },
         "mode": "lines",
         "name": "first, CI High",
         "showlegend": false,
         "type": "scatter",
         "visible": false,
         "x": [
          "Bocks",
          "Brown Ales",
          "Dark Ales",
          "Dark Lagers",
          "Hybrid Beers",
          "India Pale Ales",
          "Pale Ales",
          "Pale Lagers",
          "Porters",
          "Specialty Beer",
          "Stouts",
          "Strong Ales",
          "Weird Cocktail",
          "Wheat Beers",
          "Wild/Sour Beers"
         ],
         "y": [
          0.7196652719665272,
          1.9246861924686192,
          0.7405857740585774,
          0.6652719665271967,
          0.301255230125523,
          23.548117154811717,
          7.912133891213389,
          2.288702928870293,
          1.5146443514644352,
          1.4351464435146444,
          4.98326359832636,
          4.405857740585774,
          0.029288702928870293,
          2.106380556982464,
          1.1380753138075315
         ]
        },
        {
         "line": {
          "color": "rgb(239,85,59)"
         },
         "mode": "lines",
         "name": "last 50 beers",
         "showlegend": true,
         "type": "scatter",
         "visible": false,
         "x": [
          "Bocks",
          "Brown Ales",
          "Dark Ales",
          "Dark Lagers",
          "Hybrid Beers",
          "India Pale Ales",
          "Pale Ales",
          "Pale Lagers",
          "Porters",
          "Specialty Beer",
          "Stouts",
          "Strong Ales",
          "Weird Cocktail",
          "Wheat Beers",
          "Wild/Sour Beers"
         ],
         "y": [
          0.5510204081632653,
          1.8775510204081634,
          0.6020408163265306,
          0.5459183673469388,
          0.24489795918367346,
          11.474489795918368,
          7.040816326530612,
          1.6377551020408163,
          2.576530612244898,
          1.4846938775510203,
          10.188775510204081,
          5.091836734693878,
          0.00510204081632653,
          1.8775510204081634,
          4.801020408163265
         ]
        },
        {
         "fillcolor": "rgba(239,85,59,0.3)",
         "line": {
          "width": 0
         },
         "mode": "lines",
         "name": "first, CI Low",
         "showlegend": false,
         "type": "scatter",
         "visible": false,
         "x": [
          "Bocks",
          "Brown Ales",
          "Dark Ales",
          "Dark Lagers",
          "Hybrid Beers",
          "India Pale Ales",
          "Pale Ales",
          "Pale Lagers",
          "Porters",
          "Specialty Beer",
          "Stouts",
          "Strong Ales",
          "Weird Cocktail",
          "Wheat Beers",
          "Wild/Sour Beers"
         ],
         "y": [
          0.4336734693877551,
          1.6479591836734695,
          0.47959183673469385,
          0.42857142857142855,
          0.17857142857142858,
          10.637755102040817,
          6.586734693877551,
          1.3724489795918366,
          2.326530612244898,
          1.260204081632653,
          9.489795918367347,
          4.620984601445147,
          0,
          1.6479591836734695,
          4.198979591836735
         ]
        },
        {
         "fill": "tonexty",
         "fillcolor": "rgba(239,85,59,0.3)",
         "line": {
          "width": 0
         },
         "mode": "lines",
         "name": "first, CI high",
         "showlegend": false,
         "type": "scatter",
         "visible": false,
         "x": [
          "Bocks",
          "Brown Ales",
          "Dark Ales",
          "Dark Lagers",
          "Hybrid Beers",
          "India Pale Ales",
          "Pale Ales",
          "Pale Lagers",
          "Porters",
          "Specialty Beer",
          "Stouts",
          "Strong Ales",
          "Weird Cocktail",
          "Wheat Beers",
          "Wild/Sour Beers"
         ],
         "y": [
          0.673469387755102,
          2.122448979591837,
          0.7346938775510204,
          0.6866467436047969,
          0.3163265306122449,
          12.331632653061224,
          7.510204081632653,
          1.9591836734693877,
          2.851791275026903,
          1.7448979591836735,
          10.974489795918368,
          5.61734693877551,
          0.015306122448979591,
          2.11734693877551,
          5.49632582291908
         ]
        },
        {
         "line": {
          "color": "rgb(0,204,150)"
         },
         "mode": "lines",
         "name": "first 50 beers",
         "showlegend": true,
         "type": "scatter",
         "visible": false,
         "x": [
          "Bocks",
          "Brown Ales",
          "Dark Ales",
          "Dark Lagers",
          "Hybrid Beers",
          "India Pale Ales",
          "Pale Ales",
          "Pale Lagers",
          "Porters",
          "Specialty Beer",
          "Stouts",
          "Strong Ales",
          "Weird Cocktail",
          "Wheat Beers",
          "Wild/Sour Beers"
         ],
         "y": [
          0.8163265306122449,
          2.5051020408163267,
          0.9591836734693877,
          0.6326530612244898,
          0.28061224489795916,
          9.872448979591837,
          4.75,
          1.2959183673469388,
          3.0969387755102042,
          1.3418367346938775,
          15.14795918367347,
          6.168367346938775,
          0.07653061224489796,
          1.5510204081632653,
          1.5051020408163265
         ]
        },
        {
         "fillcolor": "rgba(0,204,150,0.3)",
         "line": {
          "width": 0
         },
         "mode": "lines",
         "name": "first, CI Low",
         "showlegend": false,
         "type": "scatter",
         "visible": false,
         "x": [
          "Bocks",
          "Brown Ales",
          "Dark Ales",
          "Dark Lagers",
          "Hybrid Beers",
          "India Pale Ales",
          "Pale Ales",
          "Pale Lagers",
          "Porters",
          "Specialty Beer",
          "Stouts",
          "Strong Ales",
          "Weird Cocktail",
          "Wheat Beers",
          "Wild/Sour Beers"
         ],
         "y": [
          0.673469387755102,
          2.2244897959183674,
          0.7908163265306123,
          0.5,
          0.20918367346938777,
          9.08673469387755,
          4.392466414252538,
          1.1071428571428572,
          2.8010204081632653,
          1.1326530612244898,
          14.505102040816327,
          5.673469387755102,
          0.04081632653061224,
          1.3316326530612246,
          1.1734693877551021
         ]
        },
        {
         "fill": "tonexty",
         "fillcolor": "rgba(0,204,150,0.3)",
         "line": {
          "width": 0
         },
         "mode": "lines",
         "name": "first, CI High",
         "showlegend": false,
         "type": "scatter",
         "visible": false,
         "x": [
          "Bocks",
          "Brown Ales",
          "Dark Ales",
          "Dark Lagers",
          "Hybrid Beers",
          "India Pale Ales",
          "Pale Ales",
          "Pale Lagers",
          "Porters",
          "Specialty Beer",
          "Stouts",
          "Strong Ales",
          "Weird Cocktail",
          "Wheat Beers",
          "Wild/Sour Beers"
         ],
         "y": [
          0.9693877551020408,
          2.806122448979592,
          1.1428571428571428,
          0.7806122448979592,
          0.35714285714285715,
          10.63265306122449,
          5.1020408163265305,
          1.5,
          3.4285714285714284,
          1.5918367346938775,
          15.88265306122449,
          6.744897959183674,
          0.12244897959183673,
          1.836734693877551,
          1.9183673469387754
         ]
        },
        {
         "line": {
          "color": "rgb(239,85,59)"
         },
         "mode": "lines",
         "name": "last 50 beers",
         "showlegend": true,
         "type": "scatter",
         "visible": false,
         "x": [
          "Bocks",
          "Brown Ales",
          "Dark Ales",
          "Dark Lagers",
          "Hybrid Beers",
          "India Pale Ales",
          "Pale Ales",
          "Pale Lagers",
          "Porters",
          "Specialty Beer",
          "Stouts",
          "Strong Ales",
          "Weird Cocktail",
          "Wheat Beers",
          "Wild/Sour Beers"
         ],
         "y": [
          1.6312056737588652,
          2.617021276595745,
          1.2198581560283688,
          1.2695035460992907,
          0.2978723404255319,
          10.148936170212766,
          9.51063829787234,
          4.652482269503546,
          2.1631205673758864,
          1.6879432624113475,
          5.297872340425532,
          4.680851063829787,
          0.028368794326241134,
          2.893617021276596,
          1.900709219858156
         ]
        },
        {
         "fillcolor": "rgba(239,85,59,0.3)",
         "line": {
          "width": 0
         },
         "mode": "lines",
         "name": "first, CI Low",
         "showlegend": false,
         "type": "scatter",
         "visible": false,
         "x": [
          "Bocks",
          "Brown Ales",
          "Dark Ales",
          "Dark Lagers",
          "Hybrid Beers",
          "India Pale Ales",
          "Pale Ales",
          "Pale Lagers",
          "Porters",
          "Specialty Beer",
          "Stouts",
          "Strong Ales",
          "Weird Cocktail",
          "Wheat Beers",
          "Wild/Sour Beers"
         ],
         "y": [
          1.3475177304964538,
          2.3333333333333335,
          1,
          1.0638297872340425,
          0.2127659574468085,
          9.113475177304965,
          8.936170212765957,
          4.085106382978723,
          1.8865248226950355,
          1.3900709219858156,
          4.73758865248227,
          4.192657640386537,
          0.0070921985815602835,
          2.5319148936170213,
          1.50354609929078
         ]
        },
        {
         "fill": "tonexty",
         "fillcolor": "rgba(239,85,59,0.3)",
         "line": {
          "width": 0
         },
         "mode": "lines",
         "name": "first, CI high",
         "showlegend": false,
         "type": "scatter",
         "visible": false,
         "x": [
          "Bocks",
          "Brown Ales",
          "Dark Ales",
          "Dark Lagers",
          "Hybrid Beers",
          "India Pale Ales",
          "Pale Ales",
          "Pale Lagers",
          "Porters",
          "Specialty Beer",
          "Stouts",
          "Strong Ales",
          "Weird Cocktail",
          "Wheat Beers",
          "Wild/Sour Beers"
         ],
         "y": [
          2.00709219858156,
          2.9148936170212765,
          1.4822695035460993,
          1.50354609929078,
          0.3971631205673759,
          11.368794326241135,
          10.148936170212766,
          5.297872340425532,
          2.4680851063829787,
          2.127659574468085,
          5.971631205673759,
          5.198581560283688,
          0.05673758865248227,
          3.2907801418439715,
          2.50354609929078
         ]
        },
        {
         "line": {
          "color": "rgb(0,204,150)"
         },
         "mode": "lines",
         "name": "first 50 beers",
         "showlegend": true,
         "type": "scatter",
         "visible": false,
         "x": [
          "Bocks",
          "Brown Ales",
          "Dark Ales",
          "Dark Lagers",
          "Hybrid Beers",
          "India Pale Ales",
          "Pale Ales",
          "Pale Lagers",
          "Porters",
          "Specialty Beer",
          "Stouts",
          "Strong Ales",
          "Weird Cocktail",
          "Wheat Beers",
          "Wild/Sour Beers"
         ],
         "y": [
          1.7943262411347518,
          2.723404255319149,
          1.425531914893617,
          3.347517730496454,
          0.3829787234042553,
          3.297872340425532,
          7.780141843971631,
          13.624113475177305,
          1.5602836879432624,
          1.4184397163120568,
          3.5106382978723403,
          3.950354609929078,
          0.15602836879432624,
          4.74468085106383,
          0.28368794326241137
         ]
        },
        {
         "fillcolor": "rgba(0,204,150,0.3)",
         "line": {
          "width": 0
         },
         "mode": "lines",
         "name": "first, CI Low",
         "showlegend": false,
         "type": "scatter",
         "visible": false,
         "x": [
          "Bocks",
          "Brown Ales",
          "Dark Ales",
          "Dark Lagers",
          "Hybrid Beers",
          "India Pale Ales",
          "Pale Ales",
          "Pale Lagers",
          "Porters",
          "Specialty Beer",
          "Stouts",
          "Strong Ales",
          "Weird Cocktail",
          "Wheat Beers",
          "Wild/Sour Beers"
         ],
         "y": [
          1.5319148936170213,
          2.397163120567376,
          1.198581560283688,
          3.0354609929078014,
          0.28368794326241137,
          2.8652482269503547,
          7.198581560283688,
          12.75177304964539,
          1.326241134751773,
          1.1631205673758864,
          3.106382978723404,
          3.574468085106383,
          0.09929078014184398,
          4.276595744680851,
          0.19148936170212766
         ]
        },
        {
         "fill": "tonexty",
         "fillcolor": "rgba(0,204,150,0.3)",
         "line": {
          "width": 0
         },
         "mode": "lines",
         "name": "first, CI High",
         "showlegend": false,
         "type": "scatter",
         "visible": false,
         "x": [
          "Bocks",
          "Brown Ales",
          "Dark Ales",
          "Dark Lagers",
          "Hybrid Beers",
          "India Pale Ales",
          "Pale Ales",
          "Pale Lagers",
          "Porters",
          "Specialty Beer",
          "Stouts",
          "Strong Ales",
          "Weird Cocktail",
          "Wheat Beers",
          "Wild/Sour Beers"
         ],
         "y": [
          2.0921985815602837,
          3.078014184397163,
          1.6808510638297873,
          3.6595744680851063,
          0.49645390070921985,
          3.8226950354609928,
          8.354609929078014,
          14.631205673758865,
          1.8297872340425532,
          1.7234042553191489,
          3.978723404255319,
          4.347517730496454,
          0.2127659574468085,
          5.23404255319149,
          0.3900709219858156
         ]
        },
        {
         "line": {
          "color": "rgb(239,85,59)"
         },
         "mode": "lines",
         "name": "last 50 beers",
         "showlegend": true,
         "type": "scatter",
         "visible": false,
         "x": [
          "Bocks",
          "Brown Ales",
          "Dark Ales",
          "Dark Lagers",
          "Hybrid Beers",
          "India Pale Ales",
          "Pale Ales",
          "Pale Lagers",
          "Porters",
          "Specialty Beer",
          "Stouts",
          "Strong Ales",
          "Weird Cocktail",
          "Wheat Beers",
          "Wild/Sour Beers"
         ],
         "y": [
          1.116751269035533,
          2.489847715736041,
          1.0507614213197969,
          0.9238578680203046,
          0.39086294416243655,
          10.586294416243655,
          8.84010152284264,
          3.281725888324873,
          2.1954314720812182,
          1.6852791878172588,
          6.2055837563451774,
          5.408629441624366,
          0.03553299492385787,
          2.5431472081218276,
          3.246192893401015
         ]
        },
        {
         "fillcolor": "rgba(239,85,59,0.3)",
         "line": {
          "width": 0
         },
         "mode": "lines",
         "name": "first, CI Low",
         "showlegend": false,
         "type": "scatter",
         "visible": false,
         "x": [
          "Bocks",
          "Brown Ales",
          "Dark Ales",
          "Dark Lagers",
          "Hybrid Beers",
          "India Pale Ales",
          "Pale Ales",
          "Pale Lagers",
          "Porters",
          "Specialty Beer",
          "Stouts",
          "Strong Ales",
          "Weird Cocktail",
          "Wheat Beers",
          "Wild/Sour Beers"
         ],
         "y": [
          0.9923857868020305,
          2.314720812182741,
          0.9289340101522843,
          0.8147208121827412,
          0.3299492385786802,
          9.99746192893401,
          8.456852791878173,
          3.00507614213198,
          2.0380710659898478,
          1.5126903553299493,
          5.824873096446701,
          5.091370558375634,
          0.017766497461928935,
          2.3553299492385786,
          2.8730964467005076
         ]
        },
        {
         "fill": "tonexty",
         "fillcolor": "rgba(239,85,59,0.3)",
         "line": {
          "width": 0
         },
         "mode": "lines",
         "name": "first, CI high",
         "showlegend": false,
         "type": "scatter",
         "visible": false,
         "x": [
          "Bocks",
          "Brown Ales",
          "Dark Ales",
          "Dark Lagers",
          "Hybrid Beers",
          "India Pale Ales",
          "Pale Ales",
          "Pale Lagers",
          "Porters",
          "Specialty Beer",
          "Stouts",
          "Strong Ales",
          "Weird Cocktail",
          "Wheat Beers",
          "Wild/Sour Beers"
         ],
         "y": [
          1.251269035532995,
          2.6598984771573604,
          1.1903553299492386,
          1.0355329949238579,
          0.4543147208121827,
          11.190355329949238,
          9.236040609137056,
          3.5964467005076144,
          2.3604060913705585,
          1.8756345177664975,
          6.6091370558375635,
          5.744869273792288,
          0.0532994923857868,
          2.7588832487309647,
          3.6725888324873095
         ]
        },
        {
         "line": {
          "color": "rgb(0,204,150)"
         },
         "mode": "lines",
         "name": "first 50 beers",
         "showlegend": true,
         "type": "scatter",
         "visible": false,
         "x": [
          "Bocks",
          "Brown Ales",
          "Dark Ales",
          "Dark Lagers",
          "Hybrid Beers",
          "India Pale Ales",
          "Pale Ales",
          "Pale Lagers",
          "Porters",
          "Specialty Beer",
          "Stouts",
          "Strong Ales",
          "Weird Cocktail",
          "Wheat Beers",
          "Wild/Sour Beers"
         ],
         "y": [
          1.6598984771573604,
          3.281725888324873,
          1.6548223350253808,
          1.5304568527918783,
          0.33756345177664976,
          8.192893401015228,
          9.408629441624365,
          3.8680203045685277,
          2.296954314720812,
          1.7436548223350254,
          5.119289340101523,
          6.131979695431472,
          0.06345177664974619,
          3.6192893401015227,
          1.0913705583756346
         ]
        },
        {
         "fillcolor": "rgba(0,204,150,0.3)",
         "line": {
          "width": 0
         },
         "mode": "lines",
         "name": "first, CI Low",
         "showlegend": false,
         "type": "scatter",
         "visible": false,
         "x": [
          "Bocks",
          "Brown Ales",
          "Dark Ales",
          "Dark Lagers",
          "Hybrid Beers",
          "India Pale Ales",
          "Pale Ales",
          "Pale Lagers",
          "Porters",
          "Specialty Beer",
          "Stouts",
          "Strong Ales",
          "Weird Cocktail",
          "Wheat Beers",
          "Wild/Sour Beers"
         ],
         "y": [
          1.5126903553299493,
          3.081218274111675,
          1.5098859759852004,
          1.3934010152284264,
          0.2817258883248731,
          7.774111675126903,
          9.058375634517766,
          3.616751269035533,
          2.1218274111675126,
          1.5583756345177664,
          4.8578680203045685,
          5.7944162436548226,
          0.04060913705583756,
          3.3654822335025383,
          0.9060913705583756
         ]
        },
        {
         "fill": "tonexty",
         "fillcolor": "rgba(0,204,150,0.3)",
         "line": {
          "width": 0
         },
         "mode": "lines",
         "name": "first, CI High",
         "showlegend": false,
         "type": "scatter",
         "visible": false,
         "x": [
          "Bocks",
          "Brown Ales",
          "Dark Ales",
          "Dark Lagers",
          "Hybrid Beers",
          "India Pale Ales",
          "Pale Ales",
          "Pale Lagers",
          "Porters",
          "Specialty Beer",
          "Stouts",
          "Strong Ales",
          "Weird Cocktail",
          "Wheat Beers",
          "Wild/Sour Beers"
         ],
         "y": [
          1.8223350253807107,
          3.4923857868020303,
          1.8121827411167513,
          1.6776649746192893,
          0.39593908629441626,
          8.59526963081931,
          9.761421319796954,
          4.129441624365482,
          2.479695431472081,
          1.9827520739577429,
          5.373096446700508,
          6.479695431472082,
          0.08883248730964467,
          3.8959390862944163,
          1.3401015228426396
         ]
        }
       ],
       "layout": {
        "height": 600,
        "template": {
         "data": {
          "bar": [
           {
            "error_x": {
             "color": "#2a3f5f"
            },
            "error_y": {
             "color": "#2a3f5f"
            },
            "marker": {
             "line": {
              "color": "#E5ECF6",
              "width": 0.5
             },
             "pattern": {
              "fillmode": "overlay",
              "size": 10,
              "solidity": 0.2
             }
            },
            "type": "bar"
           }
          ],
          "barpolar": [
           {
            "marker": {
             "line": {
              "color": "#E5ECF6",
              "width": 0.5
             },
             "pattern": {
              "fillmode": "overlay",
              "size": 10,
              "solidity": 0.2
             }
            },
            "type": "barpolar"
           }
          ],
          "carpet": [
           {
            "aaxis": {
             "endlinecolor": "#2a3f5f",
             "gridcolor": "white",
             "linecolor": "white",
             "minorgridcolor": "white",
             "startlinecolor": "#2a3f5f"
            },
            "baxis": {
             "endlinecolor": "#2a3f5f",
             "gridcolor": "white",
             "linecolor": "white",
             "minorgridcolor": "white",
             "startlinecolor": "#2a3f5f"
            },
            "type": "carpet"
           }
          ],
          "choropleth": [
           {
            "colorbar": {
             "outlinewidth": 0,
             "ticks": ""
            },
            "type": "choropleth"
           }
          ],
          "contour": [
           {
            "colorbar": {
             "outlinewidth": 0,
             "ticks": ""
            },
            "colorscale": [
             [
              0,
              "#0d0887"
             ],
             [
              0.1111111111111111,
              "#46039f"
             ],
             [
              0.2222222222222222,
              "#7201a8"
             ],
             [
              0.3333333333333333,
              "#9c179e"
             ],
             [
              0.4444444444444444,
              "#bd3786"
             ],
             [
              0.5555555555555556,
              "#d8576b"
             ],
             [
              0.6666666666666666,
              "#ed7953"
             ],
             [
              0.7777777777777778,
              "#fb9f3a"
             ],
             [
              0.8888888888888888,
              "#fdca26"
             ],
             [
              1,
              "#f0f921"
             ]
            ],
            "type": "contour"
           }
          ],
          "contourcarpet": [
           {
            "colorbar": {
             "outlinewidth": 0,
             "ticks": ""
            },
            "type": "contourcarpet"
           }
          ],
          "heatmap": [
           {
            "colorbar": {
             "outlinewidth": 0,
             "ticks": ""
            },
            "colorscale": [
             [
              0,
              "#0d0887"
             ],
             [
              0.1111111111111111,
              "#46039f"
             ],
             [
              0.2222222222222222,
              "#7201a8"
             ],
             [
              0.3333333333333333,
              "#9c179e"
             ],
             [
              0.4444444444444444,
              "#bd3786"
             ],
             [
              0.5555555555555556,
              "#d8576b"
             ],
             [
              0.6666666666666666,
              "#ed7953"
             ],
             [
              0.7777777777777778,
              "#fb9f3a"
             ],
             [
              0.8888888888888888,
              "#fdca26"
             ],
             [
              1,
              "#f0f921"
             ]
            ],
            "type": "heatmap"
           }
          ],
          "heatmapgl": [
           {
            "colorbar": {
             "outlinewidth": 0,
             "ticks": ""
            },
            "colorscale": [
             [
              0,
              "#0d0887"
             ],
             [
              0.1111111111111111,
              "#46039f"
             ],
             [
              0.2222222222222222,
              "#7201a8"
             ],
             [
              0.3333333333333333,
              "#9c179e"
             ],
             [
              0.4444444444444444,
              "#bd3786"
             ],
             [
              0.5555555555555556,
              "#d8576b"
             ],
             [
              0.6666666666666666,
              "#ed7953"
             ],
             [
              0.7777777777777778,
              "#fb9f3a"
             ],
             [
              0.8888888888888888,
              "#fdca26"
             ],
             [
              1,
              "#f0f921"
             ]
            ],
            "type": "heatmapgl"
           }
          ],
          "histogram": [
           {
            "marker": {
             "pattern": {
              "fillmode": "overlay",
              "size": 10,
              "solidity": 0.2
             }
            },
            "type": "histogram"
           }
          ],
          "histogram2d": [
           {
            "colorbar": {
             "outlinewidth": 0,
             "ticks": ""
            },
            "colorscale": [
             [
              0,
              "#0d0887"
             ],
             [
              0.1111111111111111,
              "#46039f"
             ],
             [
              0.2222222222222222,
              "#7201a8"
             ],
             [
              0.3333333333333333,
              "#9c179e"
             ],
             [
              0.4444444444444444,
              "#bd3786"
             ],
             [
              0.5555555555555556,
              "#d8576b"
             ],
             [
              0.6666666666666666,
              "#ed7953"
             ],
             [
              0.7777777777777778,
              "#fb9f3a"
             ],
             [
              0.8888888888888888,
              "#fdca26"
             ],
             [
              1,
              "#f0f921"
             ]
            ],
            "type": "histogram2d"
           }
          ],
          "histogram2dcontour": [
           {
            "colorbar": {
             "outlinewidth": 0,
             "ticks": ""
            },
            "colorscale": [
             [
              0,
              "#0d0887"
             ],
             [
              0.1111111111111111,
              "#46039f"
             ],
             [
              0.2222222222222222,
              "#7201a8"
             ],
             [
              0.3333333333333333,
              "#9c179e"
             ],
             [
              0.4444444444444444,
              "#bd3786"
             ],
             [
              0.5555555555555556,
              "#d8576b"
             ],
             [
              0.6666666666666666,
              "#ed7953"
             ],
             [
              0.7777777777777778,
              "#fb9f3a"
             ],
             [
              0.8888888888888888,
              "#fdca26"
             ],
             [
              1,
              "#f0f921"
             ]
            ],
            "type": "histogram2dcontour"
           }
          ],
          "mesh3d": [
           {
            "colorbar": {
             "outlinewidth": 0,
             "ticks": ""
            },
            "type": "mesh3d"
           }
          ],
          "parcoords": [
           {
            "line": {
             "colorbar": {
              "outlinewidth": 0,
              "ticks": ""
             }
            },
            "type": "parcoords"
           }
          ],
          "pie": [
           {
            "automargin": true,
            "type": "pie"
           }
          ],
          "scatter": [
           {
            "fillpattern": {
             "fillmode": "overlay",
             "size": 10,
             "solidity": 0.2
            },
            "type": "scatter"
           }
          ],
          "scatter3d": [
           {
            "line": {
             "colorbar": {
              "outlinewidth": 0,
              "ticks": ""
             }
            },
            "marker": {
             "colorbar": {
              "outlinewidth": 0,
              "ticks": ""
             }
            },
            "type": "scatter3d"
           }
          ],
          "scattercarpet": [
           {
            "marker": {
             "colorbar": {
              "outlinewidth": 0,
              "ticks": ""
             }
            },
            "type": "scattercarpet"
           }
          ],
          "scattergeo": [
           {
            "marker": {
             "colorbar": {
              "outlinewidth": 0,
              "ticks": ""
             }
            },
            "type": "scattergeo"
           }
          ],
          "scattergl": [
           {
            "marker": {
             "colorbar": {
              "outlinewidth": 0,
              "ticks": ""
             }
            },
            "type": "scattergl"
           }
          ],
          "scattermapbox": [
           {
            "marker": {
             "colorbar": {
              "outlinewidth": 0,
              "ticks": ""
             }
            },
            "type": "scattermapbox"
           }
          ],
          "scatterpolar": [
           {
            "marker": {
             "colorbar": {
              "outlinewidth": 0,
              "ticks": ""
             }
            },
            "type": "scatterpolar"
           }
          ],
          "scatterpolargl": [
           {
            "marker": {
             "colorbar": {
              "outlinewidth": 0,
              "ticks": ""
             }
            },
            "type": "scatterpolargl"
           }
          ],
          "scatterternary": [
           {
            "marker": {
             "colorbar": {
              "outlinewidth": 0,
              "ticks": ""
             }
            },
            "type": "scatterternary"
           }
          ],
          "surface": [
           {
            "colorbar": {
             "outlinewidth": 0,
             "ticks": ""
            },
            "colorscale": [
             [
              0,
              "#0d0887"
             ],
             [
              0.1111111111111111,
              "#46039f"
             ],
             [
              0.2222222222222222,
              "#7201a8"
             ],
             [
              0.3333333333333333,
              "#9c179e"
             ],
             [
              0.4444444444444444,
              "#bd3786"
             ],
             [
              0.5555555555555556,
              "#d8576b"
             ],
             [
              0.6666666666666666,
              "#ed7953"
             ],
             [
              0.7777777777777778,
              "#fb9f3a"
             ],
             [
              0.8888888888888888,
              "#fdca26"
             ],
             [
              1,
              "#f0f921"
             ]
            ],
            "type": "surface"
           }
          ],
          "table": [
           {
            "cells": {
             "fill": {
              "color": "#EBF0F8"
             },
             "line": {
              "color": "white"
             }
            },
            "header": {
             "fill": {
              "color": "#C8D4E3"
             },
             "line": {
              "color": "white"
             }
            },
            "type": "table"
           }
          ]
         },
         "layout": {
          "annotationdefaults": {
           "arrowcolor": "#2a3f5f",
           "arrowhead": 0,
           "arrowwidth": 1
          },
          "autotypenumbers": "strict",
          "coloraxis": {
           "colorbar": {
            "outlinewidth": 0,
            "ticks": ""
           }
          },
          "colorscale": {
           "diverging": [
            [
             0,
             "#8e0152"
            ],
            [
             0.1,
             "#c51b7d"
            ],
            [
             0.2,
             "#de77ae"
            ],
            [
             0.3,
             "#f1b6da"
            ],
            [
             0.4,
             "#fde0ef"
            ],
            [
             0.5,
             "#f7f7f7"
            ],
            [
             0.6,
             "#e6f5d0"
            ],
            [
             0.7,
             "#b8e186"
            ],
            [
             0.8,
             "#7fbc41"
            ],
            [
             0.9,
             "#4d9221"
            ],
            [
             1,
             "#276419"
            ]
           ],
           "sequential": [
            [
             0,
             "#0d0887"
            ],
            [
             0.1111111111111111,
             "#46039f"
            ],
            [
             0.2222222222222222,
             "#7201a8"
            ],
            [
             0.3333333333333333,
             "#9c179e"
            ],
            [
             0.4444444444444444,
             "#bd3786"
            ],
            [
             0.5555555555555556,
             "#d8576b"
            ],
            [
             0.6666666666666666,
             "#ed7953"
            ],
            [
             0.7777777777777778,
             "#fb9f3a"
            ],
            [
             0.8888888888888888,
             "#fdca26"
            ],
            [
             1,
             "#f0f921"
            ]
           ],
           "sequentialminus": [
            [
             0,
             "#0d0887"
            ],
            [
             0.1111111111111111,
             "#46039f"
            ],
            [
             0.2222222222222222,
             "#7201a8"
            ],
            [
             0.3333333333333333,
             "#9c179e"
            ],
            [
             0.4444444444444444,
             "#bd3786"
            ],
            [
             0.5555555555555556,
             "#d8576b"
            ],
            [
             0.6666666666666666,
             "#ed7953"
            ],
            [
             0.7777777777777778,
             "#fb9f3a"
            ],
            [
             0.8888888888888888,
             "#fdca26"
            ],
            [
             1,
             "#f0f921"
            ]
           ]
          },
          "colorway": [
           "#636efa",
           "#EF553B",
           "#00cc96",
           "#ab63fa",
           "#FFA15A",
           "#19d3f3",
           "#FF6692",
           "#B6E880",
           "#FF97FF",
           "#FECB52"
          ],
          "font": {
           "color": "#2a3f5f"
          },
          "geo": {
           "bgcolor": "white",
           "lakecolor": "white",
           "landcolor": "#E5ECF6",
           "showlakes": true,
           "showland": true,
           "subunitcolor": "white"
          },
          "hoverlabel": {
           "align": "left"
          },
          "hovermode": "closest",
          "mapbox": {
           "style": "light"
          },
          "paper_bgcolor": "white",
          "plot_bgcolor": "#E5ECF6",
          "polar": {
           "angularaxis": {
            "gridcolor": "white",
            "linecolor": "white",
            "ticks": ""
           },
           "bgcolor": "#E5ECF6",
           "radialaxis": {
            "gridcolor": "white",
            "linecolor": "white",
            "ticks": ""
           }
          },
          "scene": {
           "xaxis": {
            "backgroundcolor": "#E5ECF6",
            "gridcolor": "white",
            "gridwidth": 2,
            "linecolor": "white",
            "showbackground": true,
            "ticks": "",
            "zerolinecolor": "white"
           },
           "yaxis": {
            "backgroundcolor": "#E5ECF6",
            "gridcolor": "white",
            "gridwidth": 2,
            "linecolor": "white",
            "showbackground": true,
            "ticks": "",
            "zerolinecolor": "white"
           },
           "zaxis": {
            "backgroundcolor": "#E5ECF6",
            "gridcolor": "white",
            "gridwidth": 2,
            "linecolor": "white",
            "showbackground": true,
            "ticks": "",
            "zerolinecolor": "white"
           }
          },
          "shapedefaults": {
           "line": {
            "color": "#2a3f5f"
           }
          },
          "ternary": {
           "aaxis": {
            "gridcolor": "white",
            "linecolor": "white",
            "ticks": ""
           },
           "baxis": {
            "gridcolor": "white",
            "linecolor": "white",
            "ticks": ""
           },
           "bgcolor": "#E5ECF6",
           "caxis": {
            "gridcolor": "white",
            "linecolor": "white",
            "ticks": ""
           }
          },
          "title": {
           "x": 0.05
          },
          "xaxis": {
           "automargin": true,
           "gridcolor": "white",
           "linecolor": "white",
           "ticks": "",
           "title": {
            "standoff": 15
           },
           "zerolinecolor": "white",
           "zerolinewidth": 2
          },
          "yaxis": {
           "automargin": true,
           "gridcolor": "white",
           "linecolor": "white",
           "ticks": "",
           "title": {
            "standoff": 15
           },
           "zerolinecolor": "white",
           "zerolinewidth": 2
          }
         }
        },
        "title": {
         "text": "All together : average number of beers rated from each category"
        },
        "updatemenus": [
         {
          "active": 0,
          "buttons": [
           {
            "args": [
             {
              "visible": [
               true,
               true,
               true,
               true,
               true,
               true,
               false,
               false,
               false,
               false,
               false,
               false,
               false,
               false,
               false,
               false,
               false,
               false,
               false,
               false,
               false,
               false,
               false,
               false,
               false,
               false,
               false,
               false,
               false,
               false
              ]
             },
             {
              "title": "All together : average number of beers rated from each category"
             }
            ],
            "label": "All togheter",
            "method": "update"
           },
           {
            "args": [
             {
              "visible": [
               false,
               false,
               false,
               false,
               false,
               false,
               true,
               true,
               true,
               true,
               true,
               true,
               false,
               false,
               false,
               false,
               false,
               false,
               false,
               false,
               false,
               false,
               false,
               false,
               false,
               false,
               false,
               false,
               false,
               false
              ]
             },
             {
              "title": "Team \"Jean-Michel IPA\" : average number of beers rated from each category"
             }
            ],
            "label": "Jean-Michel IPA",
            "method": "update"
           },
           {
            "args": [
             {
              "visible": [
               false,
               false,
               false,
               false,
               false,
               false,
               false,
               false,
               false,
               false,
               false,
               false,
               true,
               true,
               true,
               true,
               true,
               true,
               false,
               false,
               false,
               false,
               false,
               false,
               false,
               false,
               false,
               false,
               false,
               false
              ]
             },
             {
              "title": "Team \"Marcel Stout\" : average number of beers rated from each category"
             }
            ],
            "label": "Marcel Stout",
            "method": "update"
           },
           {
            "args": [
             {
              "visible": [
               false,
               false,
               false,
               false,
               false,
               false,
               false,
               false,
               false,
               false,
               false,
               false,
               false,
               false,
               false,
               false,
               false,
               false,
               true,
               true,
               true,
               true,
               true,
               true,
               false,
               false,
               false,
               false,
               false,
               false
              ]
             },
             {
              "title": "Team \"James Bland\" : average number of beers rated from each category"
             }
            ],
            "label": "James Bland",
            "method": "update"
           },
           {
            "args": [
             {
              "visible": [
               false,
               false,
               false,
               false,
               false,
               false,
               false,
               false,
               false,
               false,
               false,
               false,
               false,
               false,
               false,
               false,
               false,
               false,
               false,
               false,
               false,
               false,
               false,
               false,
               true,
               true,
               true,
               true,
               true,
               true
              ]
             },
             {
              "title": "Team \"Ada the explorer\" : average number of beers rated from each category"
             }
            ],
            "label": "Ada the explorer",
            "method": "update"
           }
          ],
          "direction": "right",
          "type": "buttons",
          "x": 1,
          "y": 1.1
         }
        ],
        "width": 1000,
        "xaxis": {
         "title": {
          "text": "Category"
         }
        },
        "yaxis": {
         "range": [
          0,
          25
         ],
         "title": {
          "text": "Number of beers"
         }
        }
       }
      }
     },
     "metadata": {},
     "output_type": "display_data"
    }
   ],
   "source": [
    "#le vrai - redoo avec CI\n",
    "mean_user = df_pivot.copy()\n",
    "# plotly setup \n",
    "fig = go.Figure()\n",
    "\n",
    "# Add one ore more traces\n",
    "x = mean_user.index\n",
    "\n",
    "for i in mapping.keys():\n",
    "    viz = False\n",
    "    if i == \"All\":\n",
    "        viz = True\n",
    "    \n",
    "    #last\n",
    "    #mean\n",
    "    fig.add_trace(go.Scatter(x=x, y=mean_user.iloc[:, 25 + mapping[i]].values,\n",
    "                             name='last 50 beers', mode='lines', line_color='rgb(239,85,59)', \n",
    "                             visible=viz, showlegend=True))\n",
    "    #CI low\n",
    "    fig.add_trace(go.Scatter(x=x, y=mean_user.iloc[:, 15 + mapping[i]].values,\n",
    "                             name='first, CI Low', fill=None, mode='lines', line_width = 0.00,\n",
    "                             fillcolor='rgba(239,85,59,0.3)', visible=viz, showlegend=False))\n",
    "    #CI high\n",
    "    fig.add_trace(go.Scatter(x=x, y=mean_user.iloc[:, 20 + mapping[i]].values,\n",
    "                             name='first, CI high', fill='tonexty', mode='lines', line_width = 0.00,\n",
    "                             fillcolor='rgba(239,85,59,0.3)', visible=viz, showlegend=False))\n",
    "\n",
    "    #first\n",
    "    #mean\n",
    "    fig.add_trace(go.Scatter(x=x, y=mean_user.iloc[:, 10 + mapping[i]].values,\n",
    "                             name='first 50 beers', mode='lines', line_color = \"rgb(0,204,150)\",\n",
    "                             visible=viz, showlegend=True))\n",
    "    #CI low\n",
    "    fig.add_trace(go.Scatter(x=x, y=mean_user.iloc[:, 0 + mapping[i]].values,\n",
    "                             name='first, CI Low', fill=None, mode='lines', line_width = 0.00,\n",
    "                             fillcolor='rgba(0,204,150,0.3)', visible=viz, showlegend=False))\n",
    "    #CI high\n",
    "    fig.add_trace(go.Scatter(x=x, y=mean_user.iloc[:, 5 + mapping[i]].values,\n",
    "                             name='first, CI High', fill='tonexty', mode='lines', line_width = 0.00,\n",
    "                             fillcolor='rgba(0,204,150,0.3)', visible=viz, showlegend=False))\n",
    "\n",
    "#build 5 mask coresponding to each button\n",
    "list_0 = [True]*6 + [False]*24\n",
    "list_1 = [False]*6 + [True]*6 + [False]*18\n",
    "list_2 = [False]*12 + [True]*6 + [False]*12\n",
    "list_3 = [False]*18 + [True]*6 + [False]*6\n",
    "list_4 = [False]*24 + [True]*6\n",
    "\n",
    "fig.update_layout(\n",
    "    yaxis_range=[0,25],\n",
    "    width=1000,\n",
    "    height=600,\n",
    "    updatemenus=[\n",
    "        dict(\n",
    "            type=\"buttons\",\n",
    "            direction=\"right\",\n",
    "            active=0,\n",
    "            x=1,\n",
    "            y=1.1,\n",
    "            buttons=list([\n",
    "                dict(label=\"All togheter\",\n",
    "                     method=\"update\",\n",
    "                     args=[{\"visible\": list_0},\n",
    "                           {'title':'All together : average number of beers rated from each category'}]),\n",
    "                dict(label=\"Jean-Michel IPA\",\n",
    "                     method=\"update\",\n",
    "                     args=[{\"visible\": list_1},\n",
    "                           {'title' : 'Team \"Jean-Michel IPA\" : average number of beers rated from each category'}]),\n",
    "                dict(label=\"Marcel Stout\",\n",
    "                     method=\"update\",\n",
    "                     args=[{\"visible\": list_2},\n",
    "                           {'title' : 'Team \"Marcel Stout\" : average number of beers rated from each category'}]),\n",
    "                dict(label=\"James Bland\",\n",
    "                     method=\"update\",\n",
    "                     args=[{\"visible\": list_3},\n",
    "                           {'title' : 'Team \"James Bland\" : average number of beers rated from each category'}]),\n",
    "                dict(label=\"Ada the explorer\",\n",
    "                     method=\"update\",\n",
    "                     args=[{\"visible\": list_4},\n",
    "                           {'title' : 'Team \"Ada the explorer\" : average number of beers rated from each category'}])\n",
    "\n",
    "            ]),\n",
    "        )\n",
    "    ])\n",
    "\n",
    "# Set title\n",
    "fig.update_xaxes(title_text=\"Category\")\n",
    "fig.update_yaxes(title_text=\"Number of beers\")\n",
    "\n",
    "fig.update_layout({'title' : 'All together : average number of beers rated from each category'})\n",
    "\n",
    "fig.show()\n",
    "fig.write_html(\"all_first_vs_last.html\")"
   ]
  },
  {
   "cell_type": "code",
   "execution_count": 173,
   "metadata": {},
   "outputs": [
    {
     "data": {
      "text/html": [
       "<div>\n",
       "<style scoped>\n",
       "    .dataframe tbody tr th:only-of-type {\n",
       "        vertical-align: middle;\n",
       "    }\n",
       "\n",
       "    .dataframe tbody tr th {\n",
       "        vertical-align: top;\n",
       "    }\n",
       "\n",
       "    .dataframe thead th {\n",
       "        text-align: right;\n",
       "    }\n",
       "</style>\n",
       "<table border=\"1\" class=\"dataframe\">\n",
       "  <thead>\n",
       "    <tr style=\"text-align: right;\">\n",
       "      <th></th>\n",
       "      <th>(CI_low_first_rating, 0)</th>\n",
       "      <th>(CI_low_first_rating, 1)</th>\n",
       "      <th>(CI_low_first_rating, 2)</th>\n",
       "      <th>(CI_low_first_rating, 3)</th>\n",
       "      <th>(CI_low_first_rating, All)</th>\n",
       "      <th>(CI_high_first_rating, 0)</th>\n",
       "      <th>(CI_high_first_rating, 1)</th>\n",
       "      <th>(CI_high_first_rating, 2)</th>\n",
       "      <th>(CI_high_first_rating, 3)</th>\n",
       "      <th>(CI_high_first_rating, All)</th>\n",
       "      <th>...</th>\n",
       "      <th>(mean_last_ratings, 0)</th>\n",
       "      <th>(mean_last_ratings, 1)</th>\n",
       "      <th>(mean_last_ratings, 2)</th>\n",
       "      <th>(mean_last_ratings, 3)</th>\n",
       "      <th>(mean_last_ratings, All)</th>\n",
       "      <th>(t_test, 0)</th>\n",
       "      <th>(t_test, 1)</th>\n",
       "      <th>(t_test, 2)</th>\n",
       "      <th>(t_test, 3)</th>\n",
       "      <th>(t_test, All)</th>\n",
       "    </tr>\n",
       "    <tr>\n",
       "      <th>Category</th>\n",
       "      <th></th>\n",
       "      <th></th>\n",
       "      <th></th>\n",
       "      <th></th>\n",
       "      <th></th>\n",
       "      <th></th>\n",
       "      <th></th>\n",
       "      <th></th>\n",
       "      <th></th>\n",
       "      <th></th>\n",
       "      <th></th>\n",
       "      <th></th>\n",
       "      <th></th>\n",
       "      <th></th>\n",
       "      <th></th>\n",
       "      <th></th>\n",
       "      <th></th>\n",
       "      <th></th>\n",
       "      <th></th>\n",
       "      <th></th>\n",
       "      <th></th>\n",
       "    </tr>\n",
       "  </thead>\n",
       "  <tbody>\n",
       "    <tr>\n",
       "      <th>Bocks</th>\n",
       "      <td>1.512690</td>\n",
       "      <td>1.531915</td>\n",
       "      <td>0.673469</td>\n",
       "      <td>0.493724</td>\n",
       "      <td>1.159012</td>\n",
       "      <td>1.822335</td>\n",
       "      <td>2.092199</td>\n",
       "      <td>0.969388</td>\n",
       "      <td>0.719665</td>\n",
       "      <td>1.339175</td>\n",
       "      <td>...</td>\n",
       "      <td>1.116751</td>\n",
       "      <td>1.631206</td>\n",
       "      <td>0.551020</td>\n",
       "      <td>0.531381</td>\n",
       "      <td>0.932990</td>\n",
       "      <td>1.210879e-08</td>\n",
       "      <td>4.189340e-01</td>\n",
       "      <td>2.001985e-03</td>\n",
       "      <td>3.781030e-01</td>\n",
       "      <td>1.040049e-08</td>\n",
       "    </tr>\n",
       "    <tr>\n",
       "      <th>Brown Ales</th>\n",
       "      <td>3.081218</td>\n",
       "      <td>2.397163</td>\n",
       "      <td>2.224490</td>\n",
       "      <td>1.548117</td>\n",
       "      <td>2.536082</td>\n",
       "      <td>3.492386</td>\n",
       "      <td>3.078014</td>\n",
       "      <td>2.806122</td>\n",
       "      <td>1.924686</td>\n",
       "      <td>2.794845</td>\n",
       "      <td>...</td>\n",
       "      <td>2.489848</td>\n",
       "      <td>2.617021</td>\n",
       "      <td>1.877551</td>\n",
       "      <td>1.263598</td>\n",
       "      <td>2.082474</td>\n",
       "      <td>1.567179e-09</td>\n",
       "      <td>6.209248e-01</td>\n",
       "      <td>3.737509e-04</td>\n",
       "      <td>1.907517e-04</td>\n",
       "      <td>9.232355e-14</td>\n",
       "    </tr>\n",
       "    <tr>\n",
       "      <th>Dark Ales</th>\n",
       "      <td>1.509886</td>\n",
       "      <td>1.198582</td>\n",
       "      <td>0.790816</td>\n",
       "      <td>0.506276</td>\n",
       "      <td>1.136082</td>\n",
       "      <td>1.812183</td>\n",
       "      <td>1.680851</td>\n",
       "      <td>1.142857</td>\n",
       "      <td>0.740586</td>\n",
       "      <td>1.315240</td>\n",
       "      <td>...</td>\n",
       "      <td>1.050761</td>\n",
       "      <td>1.219858</td>\n",
       "      <td>0.602041</td>\n",
       "      <td>0.451883</td>\n",
       "      <td>0.837113</td>\n",
       "      <td>3.901109e-10</td>\n",
       "      <td>2.220434e-01</td>\n",
       "      <td>5.679719e-04</td>\n",
       "      <td>2.379335e-02</td>\n",
       "      <td>5.993624e-13</td>\n",
       "    </tr>\n",
       "    <tr>\n",
       "      <th>Dark Lagers</th>\n",
       "      <td>1.393401</td>\n",
       "      <td>3.035461</td>\n",
       "      <td>0.500000</td>\n",
       "      <td>0.439331</td>\n",
       "      <td>1.268041</td>\n",
       "      <td>1.677665</td>\n",
       "      <td>3.659574</td>\n",
       "      <td>0.780612</td>\n",
       "      <td>0.665272</td>\n",
       "      <td>1.471134</td>\n",
       "      <td>...</td>\n",
       "      <td>0.923858</td>\n",
       "      <td>1.269504</td>\n",
       "      <td>0.545918</td>\n",
       "      <td>0.489540</td>\n",
       "      <td>0.790722</td>\n",
       "      <td>4.049361e-12</td>\n",
       "      <td>1.775291e-21</td>\n",
       "      <td>3.469893e-01</td>\n",
       "      <td>4.246688e-01</td>\n",
       "      <td>8.970276e-25</td>\n",
       "    </tr>\n",
       "    <tr>\n",
       "      <th>Hybrid Beers</th>\n",
       "      <td>0.281726</td>\n",
       "      <td>0.283688</td>\n",
       "      <td>0.209184</td>\n",
       "      <td>0.171548</td>\n",
       "      <td>0.272165</td>\n",
       "      <td>0.395939</td>\n",
       "      <td>0.496454</td>\n",
       "      <td>0.357143</td>\n",
       "      <td>0.301255</td>\n",
       "      <td>0.343299</td>\n",
       "      <td>...</td>\n",
       "      <td>0.390863</td>\n",
       "      <td>0.297872</td>\n",
       "      <td>0.244898</td>\n",
       "      <td>0.246862</td>\n",
       "      <td>0.312371</td>\n",
       "      <td>1.923013e-01</td>\n",
       "      <td>2.219053e-01</td>\n",
       "      <td>4.381056e-01</td>\n",
       "      <td>7.907089e-01</td>\n",
       "      <td>8.332273e-01</td>\n",
       "    </tr>\n",
       "    <tr>\n",
       "      <th>India Pale Ales</th>\n",
       "      <td>7.774112</td>\n",
       "      <td>2.865248</td>\n",
       "      <td>9.086735</td>\n",
       "      <td>22.174638</td>\n",
       "      <td>10.906450</td>\n",
       "      <td>8.595270</td>\n",
       "      <td>3.822695</td>\n",
       "      <td>10.632653</td>\n",
       "      <td>23.548117</td>\n",
       "      <td>11.946748</td>\n",
       "      <td>...</td>\n",
       "      <td>10.586294</td>\n",
       "      <td>10.148936</td>\n",
       "      <td>11.474490</td>\n",
       "      <td>16.163180</td>\n",
       "      <td>12.076289</td>\n",
       "      <td>2.487439e-14</td>\n",
       "      <td>1.859514e-24</td>\n",
       "      <td>2.410343e-03</td>\n",
       "      <td>4.386729e-28</td>\n",
       "      <td>1.467942e-02</td>\n",
       "    </tr>\n",
       "    <tr>\n",
       "      <th>Pale Ales</th>\n",
       "      <td>9.058376</td>\n",
       "      <td>7.198582</td>\n",
       "      <td>4.392466</td>\n",
       "      <td>7.046025</td>\n",
       "      <td>7.517526</td>\n",
       "      <td>9.761421</td>\n",
       "      <td>8.354610</td>\n",
       "      <td>5.102041</td>\n",
       "      <td>7.912134</td>\n",
       "      <td>7.989691</td>\n",
       "      <td>...</td>\n",
       "      <td>8.840102</td>\n",
       "      <td>9.510638</td>\n",
       "      <td>7.040816</td>\n",
       "      <td>8.142259</td>\n",
       "      <td>8.402062</td>\n",
       "      <td>1.398808e-02</td>\n",
       "      <td>7.017638e-06</td>\n",
       "      <td>7.210528e-14</td>\n",
       "      <td>3.506138e-02</td>\n",
       "      <td>1.559042e-05</td>\n",
       "    </tr>\n",
       "    <tr>\n",
       "      <th>Pale Lagers</th>\n",
       "      <td>3.616751</td>\n",
       "      <td>12.751773</td>\n",
       "      <td>1.107143</td>\n",
       "      <td>1.769874</td>\n",
       "      <td>4.018557</td>\n",
       "      <td>4.129442</td>\n",
       "      <td>14.631206</td>\n",
       "      <td>1.500000</td>\n",
       "      <td>2.288703</td>\n",
       "      <td>4.639162</td>\n",
       "      <td>...</td>\n",
       "      <td>3.281726</td>\n",
       "      <td>4.652482</td>\n",
       "      <td>1.637755</td>\n",
       "      <td>2.200837</td>\n",
       "      <td>2.882474</td>\n",
       "      <td>1.749773e-03</td>\n",
       "      <td>4.205912e-33</td>\n",
       "      <td>4.069503e-02</td>\n",
       "      <td>3.107862e-01</td>\n",
       "      <td>2.939323e-18</td>\n",
       "    </tr>\n",
       "    <tr>\n",
       "      <th>Porters</th>\n",
       "      <td>2.121827</td>\n",
       "      <td>1.326241</td>\n",
       "      <td>2.801020</td>\n",
       "      <td>1.192469</td>\n",
       "      <td>2.004124</td>\n",
       "      <td>2.479695</td>\n",
       "      <td>1.829787</td>\n",
       "      <td>3.428571</td>\n",
       "      <td>1.514644</td>\n",
       "      <td>2.238144</td>\n",
       "      <td>...</td>\n",
       "      <td>2.195431</td>\n",
       "      <td>2.163121</td>\n",
       "      <td>2.576531</td>\n",
       "      <td>1.962343</td>\n",
       "      <td>2.210309</td>\n",
       "      <td>3.815884e-01</td>\n",
       "      <td>3.062677e-03</td>\n",
       "      <td>3.266419e-03</td>\n",
       "      <td>8.027743e-06</td>\n",
       "      <td>2.196372e-01</td>\n",
       "    </tr>\n",
       "    <tr>\n",
       "      <th>Specialty Beer</th>\n",
       "      <td>1.558376</td>\n",
       "      <td>1.163121</td>\n",
       "      <td>1.132653</td>\n",
       "      <td>1.046025</td>\n",
       "      <td>1.377320</td>\n",
       "      <td>1.982752</td>\n",
       "      <td>1.723404</td>\n",
       "      <td>1.591837</td>\n",
       "      <td>1.435146</td>\n",
       "      <td>1.614433</td>\n",
       "      <td>...</td>\n",
       "      <td>1.685279</td>\n",
       "      <td>1.687943</td>\n",
       "      <td>1.484694</td>\n",
       "      <td>1.200837</td>\n",
       "      <td>1.525773</td>\n",
       "      <td>6.610028e-01</td>\n",
       "      <td>1.843903e-01</td>\n",
       "      <td>3.448799e-01</td>\n",
       "      <td>8.681132e-01</td>\n",
       "      <td>6.030390e-01</td>\n",
       "    </tr>\n",
       "    <tr>\n",
       "      <th>Stouts</th>\n",
       "      <td>4.857868</td>\n",
       "      <td>3.106383</td>\n",
       "      <td>14.505102</td>\n",
       "      <td>4.142259</td>\n",
       "      <td>6.447423</td>\n",
       "      <td>5.373096</td>\n",
       "      <td>3.978723</td>\n",
       "      <td>15.882653</td>\n",
       "      <td>4.983264</td>\n",
       "      <td>7.127835</td>\n",
       "      <td>...</td>\n",
       "      <td>6.205584</td>\n",
       "      <td>5.297872</td>\n",
       "      <td>10.188776</td>\n",
       "      <td>7.606695</td>\n",
       "      <td>7.223711</td>\n",
       "      <td>4.111801e-07</td>\n",
       "      <td>3.360124e-06</td>\n",
       "      <td>2.000286e-24</td>\n",
       "      <td>3.962554e-15</td>\n",
       "      <td>1.425922e-02</td>\n",
       "    </tr>\n",
       "    <tr>\n",
       "      <th>Strong Ales</th>\n",
       "      <td>5.794416</td>\n",
       "      <td>3.574468</td>\n",
       "      <td>5.673469</td>\n",
       "      <td>3.753138</td>\n",
       "      <td>5.106186</td>\n",
       "      <td>6.479695</td>\n",
       "      <td>4.347518</td>\n",
       "      <td>6.744898</td>\n",
       "      <td>4.405858</td>\n",
       "      <td>5.525773</td>\n",
       "      <td>...</td>\n",
       "      <td>5.408629</td>\n",
       "      <td>4.680851</td>\n",
       "      <td>5.091837</td>\n",
       "      <td>3.702929</td>\n",
       "      <td>4.818557</td>\n",
       "      <td>4.634065e-04</td>\n",
       "      <td>2.355251e-02</td>\n",
       "      <td>1.091480e-03</td>\n",
       "      <td>8.847073e-02</td>\n",
       "      <td>1.184995e-04</td>\n",
       "    </tr>\n",
       "    <tr>\n",
       "      <th>Weird Cocktail</th>\n",
       "      <td>0.040609</td>\n",
       "      <td>0.099291</td>\n",
       "      <td>0.040816</td>\n",
       "      <td>0.000000</td>\n",
       "      <td>0.051546</td>\n",
       "      <td>0.088832</td>\n",
       "      <td>0.212766</td>\n",
       "      <td>0.122449</td>\n",
       "      <td>0.029289</td>\n",
       "      <td>0.084536</td>\n",
       "      <td>...</td>\n",
       "      <td>0.035533</td>\n",
       "      <td>0.028369</td>\n",
       "      <td>0.005102</td>\n",
       "      <td>0.008368</td>\n",
       "      <td>0.021649</td>\n",
       "      <td>7.814860e-02</td>\n",
       "      <td>1.789359e-04</td>\n",
       "      <td>1.585346e-03</td>\n",
       "      <td>6.556682e-01</td>\n",
       "      <td>2.432629e-06</td>\n",
       "    </tr>\n",
       "    <tr>\n",
       "      <th>Wheat Beers</th>\n",
       "      <td>3.365482</td>\n",
       "      <td>4.276596</td>\n",
       "      <td>1.331633</td>\n",
       "      <td>1.665272</td>\n",
       "      <td>2.776289</td>\n",
       "      <td>3.895939</td>\n",
       "      <td>5.234043</td>\n",
       "      <td>1.836735</td>\n",
       "      <td>2.106381</td>\n",
       "      <td>3.108247</td>\n",
       "      <td>...</td>\n",
       "      <td>2.543147</td>\n",
       "      <td>2.893617</td>\n",
       "      <td>1.877551</td>\n",
       "      <td>1.824268</td>\n",
       "      <td>2.282474</td>\n",
       "      <td>4.994585e-11</td>\n",
       "      <td>2.932158e-09</td>\n",
       "      <td>4.777999e-02</td>\n",
       "      <td>7.104695e-01</td>\n",
       "      <td>8.487360e-12</td>\n",
       "    </tr>\n",
       "    <tr>\n",
       "      <th>Wild/Sour Beers</th>\n",
       "      <td>0.906091</td>\n",
       "      <td>0.191489</td>\n",
       "      <td>1.173469</td>\n",
       "      <td>0.673640</td>\n",
       "      <td>0.881443</td>\n",
       "      <td>1.340102</td>\n",
       "      <td>0.390071</td>\n",
       "      <td>1.918367</td>\n",
       "      <td>1.138075</td>\n",
       "      <td>1.143701</td>\n",
       "      <td>...</td>\n",
       "      <td>3.246193</td>\n",
       "      <td>1.900709</td>\n",
       "      <td>4.801020</td>\n",
       "      <td>4.205021</td>\n",
       "      <td>3.601031</td>\n",
       "      <td>4.317902e-26</td>\n",
       "      <td>3.479107e-09</td>\n",
       "      <td>5.988160e-23</td>\n",
       "      <td>5.285727e-27</td>\n",
       "      <td>4.314128e-79</td>\n",
       "    </tr>\n",
       "  </tbody>\n",
       "</table>\n",
       "<p>15 rows × 35 columns</p>\n",
       "</div>"
      ],
      "text/plain": [
       "                 (CI_low_first_rating, 0)  (CI_low_first_rating, 1)  \\\n",
       "Category                                                              \n",
       "Bocks                            1.512690                  1.531915   \n",
       "Brown Ales                       3.081218                  2.397163   \n",
       "Dark Ales                        1.509886                  1.198582   \n",
       "Dark Lagers                      1.393401                  3.035461   \n",
       "Hybrid Beers                     0.281726                  0.283688   \n",
       "India Pale Ales                  7.774112                  2.865248   \n",
       "Pale Ales                        9.058376                  7.198582   \n",
       "Pale Lagers                      3.616751                 12.751773   \n",
       "Porters                          2.121827                  1.326241   \n",
       "Specialty Beer                   1.558376                  1.163121   \n",
       "Stouts                           4.857868                  3.106383   \n",
       "Strong Ales                      5.794416                  3.574468   \n",
       "Weird Cocktail                   0.040609                  0.099291   \n",
       "Wheat Beers                      3.365482                  4.276596   \n",
       "Wild/Sour Beers                  0.906091                  0.191489   \n",
       "\n",
       "                 (CI_low_first_rating, 2)  (CI_low_first_rating, 3)  \\\n",
       "Category                                                              \n",
       "Bocks                            0.673469                  0.493724   \n",
       "Brown Ales                       2.224490                  1.548117   \n",
       "Dark Ales                        0.790816                  0.506276   \n",
       "Dark Lagers                      0.500000                  0.439331   \n",
       "Hybrid Beers                     0.209184                  0.171548   \n",
       "India Pale Ales                  9.086735                 22.174638   \n",
       "Pale Ales                        4.392466                  7.046025   \n",
       "Pale Lagers                      1.107143                  1.769874   \n",
       "Porters                          2.801020                  1.192469   \n",
       "Specialty Beer                   1.132653                  1.046025   \n",
       "Stouts                          14.505102                  4.142259   \n",
       "Strong Ales                      5.673469                  3.753138   \n",
       "Weird Cocktail                   0.040816                  0.000000   \n",
       "Wheat Beers                      1.331633                  1.665272   \n",
       "Wild/Sour Beers                  1.173469                  0.673640   \n",
       "\n",
       "                 (CI_low_first_rating, All)  (CI_high_first_rating, 0)  \\\n",
       "Category                                                                 \n",
       "Bocks                              1.159012                   1.822335   \n",
       "Brown Ales                         2.536082                   3.492386   \n",
       "Dark Ales                          1.136082                   1.812183   \n",
       "Dark Lagers                        1.268041                   1.677665   \n",
       "Hybrid Beers                       0.272165                   0.395939   \n",
       "India Pale Ales                   10.906450                   8.595270   \n",
       "Pale Ales                          7.517526                   9.761421   \n",
       "Pale Lagers                        4.018557                   4.129442   \n",
       "Porters                            2.004124                   2.479695   \n",
       "Specialty Beer                     1.377320                   1.982752   \n",
       "Stouts                             6.447423                   5.373096   \n",
       "Strong Ales                        5.106186                   6.479695   \n",
       "Weird Cocktail                     0.051546                   0.088832   \n",
       "Wheat Beers                        2.776289                   3.895939   \n",
       "Wild/Sour Beers                    0.881443                   1.340102   \n",
       "\n",
       "                 (CI_high_first_rating, 1)  (CI_high_first_rating, 2)  \\\n",
       "Category                                                                \n",
       "Bocks                             2.092199                   0.969388   \n",
       "Brown Ales                        3.078014                   2.806122   \n",
       "Dark Ales                         1.680851                   1.142857   \n",
       "Dark Lagers                       3.659574                   0.780612   \n",
       "Hybrid Beers                      0.496454                   0.357143   \n",
       "India Pale Ales                   3.822695                  10.632653   \n",
       "Pale Ales                         8.354610                   5.102041   \n",
       "Pale Lagers                      14.631206                   1.500000   \n",
       "Porters                           1.829787                   3.428571   \n",
       "Specialty Beer                    1.723404                   1.591837   \n",
       "Stouts                            3.978723                  15.882653   \n",
       "Strong Ales                       4.347518                   6.744898   \n",
       "Weird Cocktail                    0.212766                   0.122449   \n",
       "Wheat Beers                       5.234043                   1.836735   \n",
       "Wild/Sour Beers                   0.390071                   1.918367   \n",
       "\n",
       "                 (CI_high_first_rating, 3)  (CI_high_first_rating, All)  ...  \\\n",
       "Category                                                                 ...   \n",
       "Bocks                             0.719665                     1.339175  ...   \n",
       "Brown Ales                        1.924686                     2.794845  ...   \n",
       "Dark Ales                         0.740586                     1.315240  ...   \n",
       "Dark Lagers                       0.665272                     1.471134  ...   \n",
       "Hybrid Beers                      0.301255                     0.343299  ...   \n",
       "India Pale Ales                  23.548117                    11.946748  ...   \n",
       "Pale Ales                         7.912134                     7.989691  ...   \n",
       "Pale Lagers                       2.288703                     4.639162  ...   \n",
       "Porters                           1.514644                     2.238144  ...   \n",
       "Specialty Beer                    1.435146                     1.614433  ...   \n",
       "Stouts                            4.983264                     7.127835  ...   \n",
       "Strong Ales                       4.405858                     5.525773  ...   \n",
       "Weird Cocktail                    0.029289                     0.084536  ...   \n",
       "Wheat Beers                       2.106381                     3.108247  ...   \n",
       "Wild/Sour Beers                   1.138075                     1.143701  ...   \n",
       "\n",
       "                 (mean_last_ratings, 0)  (mean_last_ratings, 1)  \\\n",
       "Category                                                          \n",
       "Bocks                          1.116751                1.631206   \n",
       "Brown Ales                     2.489848                2.617021   \n",
       "Dark Ales                      1.050761                1.219858   \n",
       "Dark Lagers                    0.923858                1.269504   \n",
       "Hybrid Beers                   0.390863                0.297872   \n",
       "India Pale Ales               10.586294               10.148936   \n",
       "Pale Ales                      8.840102                9.510638   \n",
       "Pale Lagers                    3.281726                4.652482   \n",
       "Porters                        2.195431                2.163121   \n",
       "Specialty Beer                 1.685279                1.687943   \n",
       "Stouts                         6.205584                5.297872   \n",
       "Strong Ales                    5.408629                4.680851   \n",
       "Weird Cocktail                 0.035533                0.028369   \n",
       "Wheat Beers                    2.543147                2.893617   \n",
       "Wild/Sour Beers                3.246193                1.900709   \n",
       "\n",
       "                 (mean_last_ratings, 2)  (mean_last_ratings, 3)  \\\n",
       "Category                                                          \n",
       "Bocks                          0.551020                0.531381   \n",
       "Brown Ales                     1.877551                1.263598   \n",
       "Dark Ales                      0.602041                0.451883   \n",
       "Dark Lagers                    0.545918                0.489540   \n",
       "Hybrid Beers                   0.244898                0.246862   \n",
       "India Pale Ales               11.474490               16.163180   \n",
       "Pale Ales                      7.040816                8.142259   \n",
       "Pale Lagers                    1.637755                2.200837   \n",
       "Porters                        2.576531                1.962343   \n",
       "Specialty Beer                 1.484694                1.200837   \n",
       "Stouts                        10.188776                7.606695   \n",
       "Strong Ales                    5.091837                3.702929   \n",
       "Weird Cocktail                 0.005102                0.008368   \n",
       "Wheat Beers                    1.877551                1.824268   \n",
       "Wild/Sour Beers                4.801020                4.205021   \n",
       "\n",
       "                 (mean_last_ratings, All)   (t_test, 0)   (t_test, 1)  \\\n",
       "Category                                                                \n",
       "Bocks                            0.932990  1.210879e-08  4.189340e-01   \n",
       "Brown Ales                       2.082474  1.567179e-09  6.209248e-01   \n",
       "Dark Ales                        0.837113  3.901109e-10  2.220434e-01   \n",
       "Dark Lagers                      0.790722  4.049361e-12  1.775291e-21   \n",
       "Hybrid Beers                     0.312371  1.923013e-01  2.219053e-01   \n",
       "India Pale Ales                 12.076289  2.487439e-14  1.859514e-24   \n",
       "Pale Ales                        8.402062  1.398808e-02  7.017638e-06   \n",
       "Pale Lagers                      2.882474  1.749773e-03  4.205912e-33   \n",
       "Porters                          2.210309  3.815884e-01  3.062677e-03   \n",
       "Specialty Beer                   1.525773  6.610028e-01  1.843903e-01   \n",
       "Stouts                           7.223711  4.111801e-07  3.360124e-06   \n",
       "Strong Ales                      4.818557  4.634065e-04  2.355251e-02   \n",
       "Weird Cocktail                   0.021649  7.814860e-02  1.789359e-04   \n",
       "Wheat Beers                      2.282474  4.994585e-11  2.932158e-09   \n",
       "Wild/Sour Beers                  3.601031  4.317902e-26  3.479107e-09   \n",
       "\n",
       "                  (t_test, 2)   (t_test, 3)  (t_test, All)  \n",
       "Category                                                    \n",
       "Bocks            2.001985e-03  3.781030e-01   1.040049e-08  \n",
       "Brown Ales       3.737509e-04  1.907517e-04   9.232355e-14  \n",
       "Dark Ales        5.679719e-04  2.379335e-02   5.993624e-13  \n",
       "Dark Lagers      3.469893e-01  4.246688e-01   8.970276e-25  \n",
       "Hybrid Beers     4.381056e-01  7.907089e-01   8.332273e-01  \n",
       "India Pale Ales  2.410343e-03  4.386729e-28   1.467942e-02  \n",
       "Pale Ales        7.210528e-14  3.506138e-02   1.559042e-05  \n",
       "Pale Lagers      4.069503e-02  3.107862e-01   2.939323e-18  \n",
       "Porters          3.266419e-03  8.027743e-06   2.196372e-01  \n",
       "Specialty Beer   3.448799e-01  8.681132e-01   6.030390e-01  \n",
       "Stouts           2.000286e-24  3.962554e-15   1.425922e-02  \n",
       "Strong Ales      1.091480e-03  8.847073e-02   1.184995e-04  \n",
       "Weird Cocktail   1.585346e-03  6.556682e-01   2.432629e-06  \n",
       "Wheat Beers      4.777999e-02  7.104695e-01   8.487360e-12  \n",
       "Wild/Sour Beers  5.988160e-23  5.285727e-27   4.314128e-79  \n",
       "\n",
       "[15 rows x 35 columns]"
      ]
     },
     "execution_count": 173,
     "metadata": {},
     "output_type": "execute_result"
    }
   ],
   "source": [
    "mean_user"
   ]
  },
  {
   "cell_type": "code",
   "execution_count": 174,
   "metadata": {},
   "outputs": [
    {
     "data": {
      "text/plain": [
       "{'All': 4,\n",
       " 'Jean-Michel IPA': 3,\n",
       " 'Marcel Stout': 2,\n",
       " 'James Bland': 1,\n",
       " 'Ada the explorer': 0}"
      ]
     },
     "execution_count": 174,
     "metadata": {},
     "output_type": "execute_result"
    }
   ],
   "source": [
    "mapping"
   ]
  },
  {
   "cell_type": "code",
   "execution_count": 175,
   "metadata": {},
   "outputs": [
    {
     "data": {
      "text/plain": [
       "dict_values([0, 1, 2, 3, 4])"
      ]
     },
     "execution_count": 175,
     "metadata": {},
     "output_type": "execute_result"
    }
   ],
   "source": [
    "idx = {k: v for k, v in sorted(mapping.items(), key=lambda item: item[1])}\n",
    "idx.values()"
   ]
  },
  {
   "cell_type": "code",
   "execution_count": 241,
   "metadata": {},
   "outputs": [
    {
     "data": {
      "application/vnd.plotly.v1+json": {
       "config": {
        "plotlyServerURL": "https://plot.ly"
       },
       "data": [
        {
         "coloraxis": "coloraxis",
         "hovertemplate": "Category: %{x}<br>Clusters: %{y}<br>Pvalue: %{z}<extra></extra>",
         "name": "0",
         "texttemplate": "%{z}",
         "type": "heatmap",
         "x": [
          "Bocks",
          "Brown Ales",
          "Dark Ales",
          "Dark Lagers",
          "Hybrid Beers",
          "India Pale Ales",
          "Pale Ales",
          "Pale Lagers",
          "Porters",
          "Specialty Beer",
          "Stouts",
          "Strong Ales",
          "Weird Cocktail",
          "Wheat Beers",
          "Wild/Sour Beers"
         ],
         "xaxis": "x",
         "y": [
          "Ada the explorer",
          "James Bland",
          "Marcel Stout",
          "Jean-Michel IPA",
          "All"
         ],
         "yaxis": "y",
         "z": [
          [
           7.92,
           8.8,
           9.41,
           11.39,
           0,
           13.6,
           1.85,
           2.76,
           0,
           0,
           6.39,
           3.33,
           0,
           10.3,
           20
          ],
          [
           0,
           0,
           0,
           20,
           0,
           20,
           5.15,
           20,
           2.51,
           0,
           5.47,
           1.63,
           3.75,
           8.53,
           8.46
          ],
          [
           2.7,
           3.43,
           3.25,
           0,
           0,
           2.62,
           13.14,
           1.39,
           2.49,
           0,
           20,
           2.96,
           2.8,
           1.32,
           20
          ],
          [
           0,
           3.72,
           1.62,
           0,
           0,
           20,
           1.46,
           0,
           5.1,
           0,
           14.4,
           0,
           0,
           0,
           20
          ],
          [
           7.98,
           13.03,
           12.22,
           20,
           0,
           1.83,
           4.81,
           17.53,
           0,
           0,
           1.85,
           3.93,
           5.61,
           11.07,
           20
          ]
         ]
        }
       ],
       "layout": {
        "coloraxis": {
         "colorbar": {
          "ticktext": [
           "1",
           "5",
           "10",
           "20"
          ],
          "tickvals": [
           1,
           5,
           10,
           20
          ],
          "title": {
           "text": "-log(Pvalue)"
          }
         },
         "colorscale": [
          [
           0,
           "#0d0887"
          ],
          [
           0.1111111111111111,
           "#46039f"
          ],
          [
           0.2222222222222222,
           "#7201a8"
          ],
          [
           0.3333333333333333,
           "#9c179e"
          ],
          [
           0.4444444444444444,
           "#bd3786"
          ],
          [
           0.5555555555555556,
           "#d8576b"
          ],
          [
           0.6666666666666666,
           "#ed7953"
          ],
          [
           0.7777777777777778,
           "#fb9f3a"
          ],
          [
           0.8888888888888888,
           "#fdca26"
          ],
          [
           1,
           "#f0f921"
          ]
         ]
        },
        "template": {
         "data": {
          "bar": [
           {
            "error_x": {
             "color": "#2a3f5f"
            },
            "error_y": {
             "color": "#2a3f5f"
            },
            "marker": {
             "line": {
              "color": "#E5ECF6",
              "width": 0.5
             },
             "pattern": {
              "fillmode": "overlay",
              "size": 10,
              "solidity": 0.2
             }
            },
            "type": "bar"
           }
          ],
          "barpolar": [
           {
            "marker": {
             "line": {
              "color": "#E5ECF6",
              "width": 0.5
             },
             "pattern": {
              "fillmode": "overlay",
              "size": 10,
              "solidity": 0.2
             }
            },
            "type": "barpolar"
           }
          ],
          "carpet": [
           {
            "aaxis": {
             "endlinecolor": "#2a3f5f",
             "gridcolor": "white",
             "linecolor": "white",
             "minorgridcolor": "white",
             "startlinecolor": "#2a3f5f"
            },
            "baxis": {
             "endlinecolor": "#2a3f5f",
             "gridcolor": "white",
             "linecolor": "white",
             "minorgridcolor": "white",
             "startlinecolor": "#2a3f5f"
            },
            "type": "carpet"
           }
          ],
          "choropleth": [
           {
            "colorbar": {
             "outlinewidth": 0,
             "ticks": ""
            },
            "type": "choropleth"
           }
          ],
          "contour": [
           {
            "colorbar": {
             "outlinewidth": 0,
             "ticks": ""
            },
            "colorscale": [
             [
              0,
              "#0d0887"
             ],
             [
              0.1111111111111111,
              "#46039f"
             ],
             [
              0.2222222222222222,
              "#7201a8"
             ],
             [
              0.3333333333333333,
              "#9c179e"
             ],
             [
              0.4444444444444444,
              "#bd3786"
             ],
             [
              0.5555555555555556,
              "#d8576b"
             ],
             [
              0.6666666666666666,
              "#ed7953"
             ],
             [
              0.7777777777777778,
              "#fb9f3a"
             ],
             [
              0.8888888888888888,
              "#fdca26"
             ],
             [
              1,
              "#f0f921"
             ]
            ],
            "type": "contour"
           }
          ],
          "contourcarpet": [
           {
            "colorbar": {
             "outlinewidth": 0,
             "ticks": ""
            },
            "type": "contourcarpet"
           }
          ],
          "heatmap": [
           {
            "colorbar": {
             "outlinewidth": 0,
             "ticks": ""
            },
            "colorscale": [
             [
              0,
              "#0d0887"
             ],
             [
              0.1111111111111111,
              "#46039f"
             ],
             [
              0.2222222222222222,
              "#7201a8"
             ],
             [
              0.3333333333333333,
              "#9c179e"
             ],
             [
              0.4444444444444444,
              "#bd3786"
             ],
             [
              0.5555555555555556,
              "#d8576b"
             ],
             [
              0.6666666666666666,
              "#ed7953"
             ],
             [
              0.7777777777777778,
              "#fb9f3a"
             ],
             [
              0.8888888888888888,
              "#fdca26"
             ],
             [
              1,
              "#f0f921"
             ]
            ],
            "type": "heatmap"
           }
          ],
          "heatmapgl": [
           {
            "colorbar": {
             "outlinewidth": 0,
             "ticks": ""
            },
            "colorscale": [
             [
              0,
              "#0d0887"
             ],
             [
              0.1111111111111111,
              "#46039f"
             ],
             [
              0.2222222222222222,
              "#7201a8"
             ],
             [
              0.3333333333333333,
              "#9c179e"
             ],
             [
              0.4444444444444444,
              "#bd3786"
             ],
             [
              0.5555555555555556,
              "#d8576b"
             ],
             [
              0.6666666666666666,
              "#ed7953"
             ],
             [
              0.7777777777777778,
              "#fb9f3a"
             ],
             [
              0.8888888888888888,
              "#fdca26"
             ],
             [
              1,
              "#f0f921"
             ]
            ],
            "type": "heatmapgl"
           }
          ],
          "histogram": [
           {
            "marker": {
             "pattern": {
              "fillmode": "overlay",
              "size": 10,
              "solidity": 0.2
             }
            },
            "type": "histogram"
           }
          ],
          "histogram2d": [
           {
            "colorbar": {
             "outlinewidth": 0,
             "ticks": ""
            },
            "colorscale": [
             [
              0,
              "#0d0887"
             ],
             [
              0.1111111111111111,
              "#46039f"
             ],
             [
              0.2222222222222222,
              "#7201a8"
             ],
             [
              0.3333333333333333,
              "#9c179e"
             ],
             [
              0.4444444444444444,
              "#bd3786"
             ],
             [
              0.5555555555555556,
              "#d8576b"
             ],
             [
              0.6666666666666666,
              "#ed7953"
             ],
             [
              0.7777777777777778,
              "#fb9f3a"
             ],
             [
              0.8888888888888888,
              "#fdca26"
             ],
             [
              1,
              "#f0f921"
             ]
            ],
            "type": "histogram2d"
           }
          ],
          "histogram2dcontour": [
           {
            "colorbar": {
             "outlinewidth": 0,
             "ticks": ""
            },
            "colorscale": [
             [
              0,
              "#0d0887"
             ],
             [
              0.1111111111111111,
              "#46039f"
             ],
             [
              0.2222222222222222,
              "#7201a8"
             ],
             [
              0.3333333333333333,
              "#9c179e"
             ],
             [
              0.4444444444444444,
              "#bd3786"
             ],
             [
              0.5555555555555556,
              "#d8576b"
             ],
             [
              0.6666666666666666,
              "#ed7953"
             ],
             [
              0.7777777777777778,
              "#fb9f3a"
             ],
             [
              0.8888888888888888,
              "#fdca26"
             ],
             [
              1,
              "#f0f921"
             ]
            ],
            "type": "histogram2dcontour"
           }
          ],
          "mesh3d": [
           {
            "colorbar": {
             "outlinewidth": 0,
             "ticks": ""
            },
            "type": "mesh3d"
           }
          ],
          "parcoords": [
           {
            "line": {
             "colorbar": {
              "outlinewidth": 0,
              "ticks": ""
             }
            },
            "type": "parcoords"
           }
          ],
          "pie": [
           {
            "automargin": true,
            "type": "pie"
           }
          ],
          "scatter": [
           {
            "fillpattern": {
             "fillmode": "overlay",
             "size": 10,
             "solidity": 0.2
            },
            "type": "scatter"
           }
          ],
          "scatter3d": [
           {
            "line": {
             "colorbar": {
              "outlinewidth": 0,
              "ticks": ""
             }
            },
            "marker": {
             "colorbar": {
              "outlinewidth": 0,
              "ticks": ""
             }
            },
            "type": "scatter3d"
           }
          ],
          "scattercarpet": [
           {
            "marker": {
             "colorbar": {
              "outlinewidth": 0,
              "ticks": ""
             }
            },
            "type": "scattercarpet"
           }
          ],
          "scattergeo": [
           {
            "marker": {
             "colorbar": {
              "outlinewidth": 0,
              "ticks": ""
             }
            },
            "type": "scattergeo"
           }
          ],
          "scattergl": [
           {
            "marker": {
             "colorbar": {
              "outlinewidth": 0,
              "ticks": ""
             }
            },
            "type": "scattergl"
           }
          ],
          "scattermapbox": [
           {
            "marker": {
             "colorbar": {
              "outlinewidth": 0,
              "ticks": ""
             }
            },
            "type": "scattermapbox"
           }
          ],
          "scatterpolar": [
           {
            "marker": {
             "colorbar": {
              "outlinewidth": 0,
              "ticks": ""
             }
            },
            "type": "scatterpolar"
           }
          ],
          "scatterpolargl": [
           {
            "marker": {
             "colorbar": {
              "outlinewidth": 0,
              "ticks": ""
             }
            },
            "type": "scatterpolargl"
           }
          ],
          "scatterternary": [
           {
            "marker": {
             "colorbar": {
              "outlinewidth": 0,
              "ticks": ""
             }
            },
            "type": "scatterternary"
           }
          ],
          "surface": [
           {
            "colorbar": {
             "outlinewidth": 0,
             "ticks": ""
            },
            "colorscale": [
             [
              0,
              "#0d0887"
             ],
             [
              0.1111111111111111,
              "#46039f"
             ],
             [
              0.2222222222222222,
              "#7201a8"
             ],
             [
              0.3333333333333333,
              "#9c179e"
             ],
             [
              0.4444444444444444,
              "#bd3786"
             ],
             [
              0.5555555555555556,
              "#d8576b"
             ],
             [
              0.6666666666666666,
              "#ed7953"
             ],
             [
              0.7777777777777778,
              "#fb9f3a"
             ],
             [
              0.8888888888888888,
              "#fdca26"
             ],
             [
              1,
              "#f0f921"
             ]
            ],
            "type": "surface"
           }
          ],
          "table": [
           {
            "cells": {
             "fill": {
              "color": "#EBF0F8"
             },
             "line": {
              "color": "white"
             }
            },
            "header": {
             "fill": {
              "color": "#C8D4E3"
             },
             "line": {
              "color": "white"
             }
            },
            "type": "table"
           }
          ]
         },
         "layout": {
          "annotationdefaults": {
           "arrowcolor": "#2a3f5f",
           "arrowhead": 0,
           "arrowwidth": 1
          },
          "autotypenumbers": "strict",
          "coloraxis": {
           "colorbar": {
            "outlinewidth": 0,
            "ticks": ""
           }
          },
          "colorscale": {
           "diverging": [
            [
             0,
             "#8e0152"
            ],
            [
             0.1,
             "#c51b7d"
            ],
            [
             0.2,
             "#de77ae"
            ],
            [
             0.3,
             "#f1b6da"
            ],
            [
             0.4,
             "#fde0ef"
            ],
            [
             0.5,
             "#f7f7f7"
            ],
            [
             0.6,
             "#e6f5d0"
            ],
            [
             0.7,
             "#b8e186"
            ],
            [
             0.8,
             "#7fbc41"
            ],
            [
             0.9,
             "#4d9221"
            ],
            [
             1,
             "#276419"
            ]
           ],
           "sequential": [
            [
             0,
             "#0d0887"
            ],
            [
             0.1111111111111111,
             "#46039f"
            ],
            [
             0.2222222222222222,
             "#7201a8"
            ],
            [
             0.3333333333333333,
             "#9c179e"
            ],
            [
             0.4444444444444444,
             "#bd3786"
            ],
            [
             0.5555555555555556,
             "#d8576b"
            ],
            [
             0.6666666666666666,
             "#ed7953"
            ],
            [
             0.7777777777777778,
             "#fb9f3a"
            ],
            [
             0.8888888888888888,
             "#fdca26"
            ],
            [
             1,
             "#f0f921"
            ]
           ],
           "sequentialminus": [
            [
             0,
             "#0d0887"
            ],
            [
             0.1111111111111111,
             "#46039f"
            ],
            [
             0.2222222222222222,
             "#7201a8"
            ],
            [
             0.3333333333333333,
             "#9c179e"
            ],
            [
             0.4444444444444444,
             "#bd3786"
            ],
            [
             0.5555555555555556,
             "#d8576b"
            ],
            [
             0.6666666666666666,
             "#ed7953"
            ],
            [
             0.7777777777777778,
             "#fb9f3a"
            ],
            [
             0.8888888888888888,
             "#fdca26"
            ],
            [
             1,
             "#f0f921"
            ]
           ]
          },
          "colorway": [
           "#636efa",
           "#EF553B",
           "#00cc96",
           "#ab63fa",
           "#FFA15A",
           "#19d3f3",
           "#FF6692",
           "#B6E880",
           "#FF97FF",
           "#FECB52"
          ],
          "font": {
           "color": "#2a3f5f"
          },
          "geo": {
           "bgcolor": "white",
           "lakecolor": "white",
           "landcolor": "#E5ECF6",
           "showlakes": true,
           "showland": true,
           "subunitcolor": "white"
          },
          "hoverlabel": {
           "align": "left"
          },
          "hovermode": "closest",
          "mapbox": {
           "style": "light"
          },
          "paper_bgcolor": "white",
          "plot_bgcolor": "#E5ECF6",
          "polar": {
           "angularaxis": {
            "gridcolor": "white",
            "linecolor": "white",
            "ticks": ""
           },
           "bgcolor": "#E5ECF6",
           "radialaxis": {
            "gridcolor": "white",
            "linecolor": "white",
            "ticks": ""
           }
          },
          "scene": {
           "xaxis": {
            "backgroundcolor": "#E5ECF6",
            "gridcolor": "white",
            "gridwidth": 2,
            "linecolor": "white",
            "showbackground": true,
            "ticks": "",
            "zerolinecolor": "white"
           },
           "yaxis": {
            "backgroundcolor": "#E5ECF6",
            "gridcolor": "white",
            "gridwidth": 2,
            "linecolor": "white",
            "showbackground": true,
            "ticks": "",
            "zerolinecolor": "white"
           },
           "zaxis": {
            "backgroundcolor": "#E5ECF6",
            "gridcolor": "white",
            "gridwidth": 2,
            "linecolor": "white",
            "showbackground": true,
            "ticks": "",
            "zerolinecolor": "white"
           }
          },
          "shapedefaults": {
           "line": {
            "color": "#2a3f5f"
           }
          },
          "ternary": {
           "aaxis": {
            "gridcolor": "white",
            "linecolor": "white",
            "ticks": ""
           },
           "baxis": {
            "gridcolor": "white",
            "linecolor": "white",
            "ticks": ""
           },
           "bgcolor": "#E5ECF6",
           "caxis": {
            "gridcolor": "white",
            "linecolor": "white",
            "ticks": ""
           }
          },
          "title": {
           "x": 0.05
          },
          "xaxis": {
           "automargin": true,
           "gridcolor": "white",
           "linecolor": "white",
           "ticks": "",
           "title": {
            "standoff": 15
           },
           "zerolinecolor": "white",
           "zerolinewidth": 2
          },
          "yaxis": {
           "automargin": true,
           "gridcolor": "white",
           "linecolor": "white",
           "ticks": "",
           "title": {
            "standoff": 15
           },
           "zerolinecolor": "white",
           "zerolinewidth": 2
          }
         }
        },
        "title": {
         "text": "Confidence in the change of the number of beers rated in each category <br>between the first 50 and last 50 ratings per cluster<br><sup>Heatmap of -log10(pval) (with pval > 0.05 clipped to 1 and pval < 1e-20 clipped to 1e-20)</sup>"
        },
        "xaxis": {
         "anchor": "y",
         "constrain": "domain",
         "domain": [
          0,
          1
         ],
         "scaleanchor": "y",
         "title": {
          "text": "Category"
         }
        },
        "yaxis": {
         "anchor": "x",
         "autorange": "reversed",
         "constrain": "domain",
         "domain": [
          0,
          1
         ],
         "title": {
          "text": "Clusters"
         }
        }
       }
      }
     },
     "metadata": {},
     "output_type": "display_data"
    }
   ],
   "source": [
    "df_pval = mean_user.iloc[:,30:35].T.copy()\n",
    "pval = df_pval.to_numpy()\n",
    "#print(pval.dtypes)\n",
    "\n",
    "# pval = pval[pval > 0.05]\n",
    "\n",
    "pval[pval < 1e-20] = 1e-20\n",
    "pval[pval > 0.05] = 1\n",
    "pval = -np.log10(pval)\n",
    "pval = np.round(pval,2)\n",
    "\n",
    "\n",
    "#pval.iloc[4,14] = max(pval)Plot Title <br><sup>Plot Subtitle</sup>\n",
    "fig = px.imshow(pval, text_auto=True, title=\"Confidence in the change of the number of beers rated in each category <br>\"\\\n",
    "                                            \"between the first 50 and last 50 ratings per cluster<br><sup>\"\\\n",
    "                                            \"Heatmap of -log10(pval) (with pval > 0.05 clipped to 1 and pval < 1e-20 clipped to 1e-20)</sup>\",\n",
    "                labels=dict(x=\"Category\", y=\"Clusters\", color=\"Pvalue\"),\n",
    "                x=df_pval.columns.values,\n",
    "                y=list(idx.keys()),\n",
    "               )\n",
    "#plt.figtext(0.5, 0.01, \"fdnpobfsubgpafbagèaiègs\")\n",
    "\n",
    "fig.update_layout(coloraxis_colorbar=dict(\n",
    "    title=\"-log(Pvalue)\",\n",
    "    tickvals=[1,5,10,20],\n",
    "    ticktext=[\"1\", \"5\", \"10\", \"20\"],\n",
    "))\n",
    "\n",
    "\n",
    "fig.show()\n",
    "fig.write_html(\"heatmap_pval.html\")"
   ]
  }
 ],
 "metadata": {
  "kernelspec": {
   "display_name": "Python 3",
   "language": "python",
   "name": "python3"
  },
  "language_info": {
   "codemirror_mode": {
    "name": "ipython",
    "version": 3
   },
   "file_extension": ".py",
   "mimetype": "text/x-python",
   "name": "python",
   "nbconvert_exporter": "python",
   "pygments_lexer": "ipython3",
   "version": "3.10.7"
  },
  "orig_nbformat": 4,
  "vscode": {
   "interpreter": {
    "hash": "7a30b7485557a43924c0104e177ec6bab6e0008128359b6d23b2129353110e8f"
   }
  }
 },
 "nbformat": 4,
 "nbformat_minor": 2
}
