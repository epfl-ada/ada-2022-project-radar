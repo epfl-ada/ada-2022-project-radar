{
 "cells": [
  {
   "cell_type": "code",
   "execution_count": 1,
   "metadata": {},
   "outputs": [],
   "source": [
    "import pandas as pd\n",
    "import seaborn as sns\n",
    "import datetime\n",
    "from datetime import *\n",
    "import sys\n",
    "import gzip\n",
    "import networkx as nx\n",
    "import matplotlib.pyplot as plt\n",
    "import numpy as np\n",
    "import plotly.express as px\n",
    "import pylab\n",
    "import scipy.stats as stats\n",
    "import plotly.graph_objects as go\n",
    "import collections\n",
    "from scipy.stats import bootstrap, ttest_ind, ttest_rel\n",
    "import math\n",
    "from sklearn.cluster import KMeans\n",
    "from sklearn.decomposition import PCA\n",
    "from umap.umap_ import UMAP\n",
    "from sklearn.metrics import silhouette_samples, silhouette_score\n",
    "import matplotlib.cm as cm"
   ]
  },
  {
   "cell_type": "code",
   "execution_count": 2,
   "metadata": {},
   "outputs": [],
   "source": [
    "plt.style.use('seaborn')\n",
    "pd.options.mode.chained_assignment = None  # default='warn'"
   ]
  },
  {
   "cell_type": "markdown",
   "metadata": {},
   "source": [
    "# beer"
   ]
  },
  {
   "cell_type": "code",
   "execution_count": 3,
   "metadata": {},
   "outputs": [],
   "source": [
    "#load the data beers.csv\n",
    "df_beers = pd.read_csv('./data/beers.csv')"
   ]
  },
  {
   "cell_type": "code",
   "execution_count": 4,
   "metadata": {},
   "outputs": [
    {
     "data": {
      "text/html": [
       "<div>\n",
       "<style scoped>\n",
       "    .dataframe tbody tr th:only-of-type {\n",
       "        vertical-align: middle;\n",
       "    }\n",
       "\n",
       "    .dataframe tbody tr th {\n",
       "        vertical-align: top;\n",
       "    }\n",
       "\n",
       "    .dataframe thead th {\n",
       "        text-align: right;\n",
       "    }\n",
       "</style>\n",
       "<table border=\"1\" class=\"dataframe\">\n",
       "  <thead>\n",
       "    <tr style=\"text-align: right;\">\n",
       "      <th></th>\n",
       "      <th>beer_id</th>\n",
       "      <th>beer_name</th>\n",
       "      <th>brewery_id</th>\n",
       "      <th>brewery_name</th>\n",
       "      <th>style</th>\n",
       "      <th>nbr_ratings</th>\n",
       "      <th>nbr_reviews</th>\n",
       "      <th>avg</th>\n",
       "      <th>ba_score</th>\n",
       "      <th>bros_score</th>\n",
       "      <th>abv</th>\n",
       "      <th>avg_computed</th>\n",
       "      <th>zscore</th>\n",
       "      <th>nbr_matched_valid_ratings</th>\n",
       "      <th>avg_matched_valid_ratings</th>\n",
       "    </tr>\n",
       "  </thead>\n",
       "  <tbody>\n",
       "    <tr>\n",
       "      <th>0</th>\n",
       "      <td>166064</td>\n",
       "      <td>Nashe Moskovskoe</td>\n",
       "      <td>39912</td>\n",
       "      <td>Abdysh-Ata (Абдыш Ата)</td>\n",
       "      <td>Euro Pale Lager</td>\n",
       "      <td>0</td>\n",
       "      <td>0</td>\n",
       "      <td>NaN</td>\n",
       "      <td>NaN</td>\n",
       "      <td>NaN</td>\n",
       "      <td>4.7</td>\n",
       "      <td>NaN</td>\n",
       "      <td>NaN</td>\n",
       "      <td>0</td>\n",
       "      <td>NaN</td>\n",
       "    </tr>\n",
       "    <tr>\n",
       "      <th>1</th>\n",
       "      <td>166065</td>\n",
       "      <td>Nashe Pivovskoe</td>\n",
       "      <td>39912</td>\n",
       "      <td>Abdysh-Ata (Абдыш Ата)</td>\n",
       "      <td>Euro Pale Lager</td>\n",
       "      <td>0</td>\n",
       "      <td>0</td>\n",
       "      <td>NaN</td>\n",
       "      <td>NaN</td>\n",
       "      <td>NaN</td>\n",
       "      <td>3.8</td>\n",
       "      <td>NaN</td>\n",
       "      <td>NaN</td>\n",
       "      <td>0</td>\n",
       "      <td>NaN</td>\n",
       "    </tr>\n",
       "    <tr>\n",
       "      <th>2</th>\n",
       "      <td>166066</td>\n",
       "      <td>Nashe Shakhterskoe</td>\n",
       "      <td>39912</td>\n",
       "      <td>Abdysh-Ata (Абдыш Ата)</td>\n",
       "      <td>Euro Pale Lager</td>\n",
       "      <td>0</td>\n",
       "      <td>0</td>\n",
       "      <td>NaN</td>\n",
       "      <td>NaN</td>\n",
       "      <td>NaN</td>\n",
       "      <td>4.8</td>\n",
       "      <td>NaN</td>\n",
       "      <td>NaN</td>\n",
       "      <td>0</td>\n",
       "      <td>NaN</td>\n",
       "    </tr>\n",
       "    <tr>\n",
       "      <th>3</th>\n",
       "      <td>166067</td>\n",
       "      <td>Nashe Zhigulevskoe</td>\n",
       "      <td>39912</td>\n",
       "      <td>Abdysh-Ata (Абдыш Ата)</td>\n",
       "      <td>Euro Pale Lager</td>\n",
       "      <td>0</td>\n",
       "      <td>0</td>\n",
       "      <td>NaN</td>\n",
       "      <td>NaN</td>\n",
       "      <td>NaN</td>\n",
       "      <td>4.0</td>\n",
       "      <td>NaN</td>\n",
       "      <td>NaN</td>\n",
       "      <td>0</td>\n",
       "      <td>NaN</td>\n",
       "    </tr>\n",
       "    <tr>\n",
       "      <th>4</th>\n",
       "      <td>166063</td>\n",
       "      <td>Zhivoe</td>\n",
       "      <td>39912</td>\n",
       "      <td>Abdysh-Ata (Абдыш Ата)</td>\n",
       "      <td>Euro Pale Lager</td>\n",
       "      <td>0</td>\n",
       "      <td>0</td>\n",
       "      <td>NaN</td>\n",
       "      <td>NaN</td>\n",
       "      <td>NaN</td>\n",
       "      <td>4.5</td>\n",
       "      <td>NaN</td>\n",
       "      <td>NaN</td>\n",
       "      <td>0</td>\n",
       "      <td>NaN</td>\n",
       "    </tr>\n",
       "  </tbody>\n",
       "</table>\n",
       "</div>"
      ],
      "text/plain": [
       "   beer_id           beer_name  brewery_id            brewery_name  \\\n",
       "0   166064    Nashe Moskovskoe       39912  Abdysh-Ata (Абдыш Ата)   \n",
       "1   166065     Nashe Pivovskoe       39912  Abdysh-Ata (Абдыш Ата)   \n",
       "2   166066  Nashe Shakhterskoe       39912  Abdysh-Ata (Абдыш Ата)   \n",
       "3   166067  Nashe Zhigulevskoe       39912  Abdysh-Ata (Абдыш Ата)   \n",
       "4   166063              Zhivoe       39912  Abdysh-Ata (Абдыш Ата)   \n",
       "\n",
       "             style  nbr_ratings  nbr_reviews  avg  ba_score  bros_score  abv  \\\n",
       "0  Euro Pale Lager            0            0  NaN       NaN         NaN  4.7   \n",
       "1  Euro Pale Lager            0            0  NaN       NaN         NaN  3.8   \n",
       "2  Euro Pale Lager            0            0  NaN       NaN         NaN  4.8   \n",
       "3  Euro Pale Lager            0            0  NaN       NaN         NaN  4.0   \n",
       "4  Euro Pale Lager            0            0  NaN       NaN         NaN  4.5   \n",
       "\n",
       "   avg_computed  zscore  nbr_matched_valid_ratings  avg_matched_valid_ratings  \n",
       "0           NaN     NaN                          0                        NaN  \n",
       "1           NaN     NaN                          0                        NaN  \n",
       "2           NaN     NaN                          0                        NaN  \n",
       "3           NaN     NaN                          0                        NaN  \n",
       "4           NaN     NaN                          0                        NaN  "
      ]
     },
     "execution_count": 4,
     "metadata": {},
     "output_type": "execute_result"
    }
   ],
   "source": [
    "df_beers.head()"
   ]
  },
  {
   "cell_type": "code",
   "execution_count": 5,
   "metadata": {
    "cell_id": "f19be61f23d14b039515a428e733e967",
    "deepnote_cell_type": "code"
   },
   "outputs": [],
   "source": [
    "list_considered_variable=['beer_id','beer_name','brewery_id','brewery_name','style',\n",
    "                          'nbr_reviews','nbr_ratings','avg', 'abv']\n",
    "df_beers=df_beers[list_considered_variable]"
   ]
  },
  {
   "cell_type": "code",
   "execution_count": 6,
   "metadata": {
    "cell_id": "eadfb89af763419cb9ac7620298c2aaa",
    "deepnote_cell_type": "code",
    "deepnote_to_be_reexecuted": false,
    "execution_millis": 36,
    "execution_start": 1668694159723,
    "source_hash": "763cc6b1",
    "tags": []
   },
   "outputs": [],
   "source": [
    "beer_catalog = {\n",
    "    'Bocks' : ['Bock', 'Doppelbock', 'Eisbock', 'Maibock', 'Weizenbock', 'Maibock / Helles Bock'],\n",
    "\n",
    "    'Dark Ales' : ['Dubbel', 'Roggenbier', 'Scottish Ale', 'Winter Warmer'],\n",
    "\n",
    "    'Hybrid Beers' : ['Bière de Champagne / Bière Brut', 'Braggot', 'California Common / Steam Beer', 'Cream Ale'],\n",
    "\n",
    "    'Pale Ales' : ['American Amber / Red Ale', 'American Blonde Ale', 'American Pale Ale', 'Belgian Blonde Ale',\n",
    "    'Belgian Pale Ale', 'Bière de Garde', 'English Bitter', 'English Pale Ale', 'English Pale Mild Ale', 'Extra Special / Strong Bitter (ESB)',\n",
    "    'Grisette', 'Irish Red Ale', 'Kölsch', 'Saison', 'Saison / Farmhouse Ale', 'Belgian Strong Pale Ale', 'American Pale Ale (APA)'],\n",
    "\n",
    "    'Porters' : ['American Porter', 'Baltic Porter', 'English Porter', 'Imperial Porter', 'Robust Porter ', 'Smoked Porter'],\n",
    "\n",
    "    'Stouts' : ['American Imperial Stout', 'American Stout', 'English Stout', 'Foreign / Export Stout', 'Irish Dry Stout', 'Oatmeal Stout',\n",
    "    'Russian Imperial Stout', 'Milk / Sweet Stout', 'American Double / Imperial Stout'],\n",
    "\n",
    "    'Wheat Beers' : ['American Dark Wheat Beer', 'American Pale Wheat Beer', 'Dunkelweizen', 'Grodziskie', 'Hefeweizen', 'Kristallweizen', 'Witbier', \n",
    "    'American Pale Wheat Ale', 'American Dark Wheat Ale', 'Berliner Weissbier', 'Kristalweizen'],\n",
    "\n",
    "    'Brown Ales' : ['Altbier', 'American Brown Ale', 'Belgian Dark Ale', 'English Brown Ale', 'English Dark Mild Ale', 'Belgian Strong Dark Ale'],\n",
    "\n",
    "    'Dark Lagers' : ['American Amber / Red Lager', 'Czech Amber Lager', 'Czech Dark Lager', 'European Dark Lager', 'Märzen',\n",
    "    'Munich Dunkel', 'Rauchbier', 'Schwarzbier', 'Vienna Lager', 'Munich Dunkel Lager', 'Euro Dark Lager'],\n",
    "\n",
    "    'India Pale Ales' : ['American IPA', 'American Double / Imperial IPA', 'Belgian IPA', 'Black IPA', 'Brut IPA', 'English IPA', 'English India Pale Ale (IPA)', \n",
    "    'Imperial IPA', 'Milkshake IPA', 'New England IPA', 'American Black Ale'],\n",
    "\n",
    "    'Pale Lagers' : ['American Adjunct Lager', 'American Lager', 'Bohemian / Czech Pilsner', 'Czech Pale Lager', 'European / Dortmunder Export Lager',\n",
    "    'European Pale Lager', 'European Strong Lager', 'Festbier / Wiesnbier', 'German Pilsner', 'Helles', 'Imperial Pilsner', 'India Pale Lager (IPL)',\n",
    "    'Kellerbier / Zwickelbier', 'Light Lager', 'Malt Liquor', 'Czech Pilsener', 'Euro Pale Lager', 'American Pale Lager', 'German Pilsener', 'Dortmunder / Export Lager', \n",
    "    'Euro Strong Lager', 'Munich Helles Lager', 'American Double / Imperial Pilsner', 'American Malt Liquor', 'Märzen / Oktoberfest'],\n",
    "\n",
    "    'Specialty Beer' : ['Chile Beer', 'Fruit and Field Beer', 'Gruit / Ancient Herbed Ale', 'Happoshu', 'Herb and Spice Beer', 'Japanese Rice Lager',\n",
    "    'Kvass', 'Low-Alcohol Beer', 'Pumpkin Beer', 'Rye Beer', 'Sahti', 'Smoked Beer', 'Herbed / Spiced Beer', 'Pumpkin Ale', 'Scottish Gruit / Ancient Herbed Ale', 'Low Alcohol Beer'],\n",
    "\n",
    "    'Strong Ales' : ['American Barleywine', 'American Strong Ale', 'Belgian Dark Strong Ale', 'Belgian Pale Strong Ale', 'English Barleywine', 'English Strong Ale',\n",
    "    'Imperial Red Ale', 'Old Ale', 'Quadrupel (Quad)', 'Scotch Ale / Wee Heavy', 'Tripel', 'Wheatwine', 'Fruit / Vegetable Beer'],\n",
    "    \n",
    "    'Wild/Sour Beers' : ['Berliner Weisse', 'Brett Beer', 'Faro', 'Flanders Oud Bruin', 'Flanders Red Ale', 'Fruit Lambic',\n",
    "    'Fruited Kettle Sour', 'Gose', 'Gueuze', 'Lambic', 'Wild Ale', 'Lambic - Unblended', 'Lambic - Fruit', 'American Wild Ale'],\n",
    "\n",
    "    'Weird Cocktail' : ['Black & Tan']\n",
    "}"
   ]
  },
  {
   "cell_type": "code",
   "execution_count": 7,
   "metadata": {
    "cell_id": "26ffb113c1fd44f38af6d5ed9861ed16",
    "deepnote_cell_type": "code",
    "deepnote_to_be_reexecuted": false,
    "execution_millis": 8,
    "execution_start": 1668694159764,
    "source_hash": "390b466c",
    "tags": []
   },
   "outputs": [],
   "source": [
    "beer_catalog_reverse = {}\n",
    "for key, values in beer_catalog.items():\n",
    "    for value in values:\n",
    "            beer_catalog_reverse.setdefault(value, []).append(key)"
   ]
  },
  {
   "cell_type": "code",
   "execution_count": 8,
   "metadata": {
    "cell_id": "8aec10edbc964f71acf3ba71218c5896",
    "deepnote_cell_type": "code",
    "deepnote_to_be_reexecuted": false,
    "execution_millis": 40,
    "execution_start": 1668694159774,
    "source_hash": "6e14184a",
    "tags": []
   },
   "outputs": [],
   "source": [
    "def category_check(beer_style, beer_catalog):\n",
    "    '''\n",
    "    Return the new columns of 15 categories made in the website https://www.beeradvocate.com/beer/styles/\n",
    "    '''\n",
    "    for category_name, beer_styles in beer_catalog.items():\n",
    "        if beer_style in beer_styles:\n",
    "            return category_name"
   ]
  },
  {
   "cell_type": "code",
   "execution_count": 9,
   "metadata": {
    "cell_id": "b478e5b39ab946288c93c71c01b1af4c",
    "deepnote_cell_type": "code",
    "deepnote_to_be_reexecuted": false,
    "execution_millis": 821,
    "execution_start": 1668694159814,
    "source_hash": "d2dcf1f1",
    "tags": []
   },
   "outputs": [],
   "source": [
    "df_beers['category'] = df_beers['style'].apply(lambda beer_style: category_check(beer_style, beer_catalog))"
   ]
  },
  {
   "cell_type": "code",
   "execution_count": 10,
   "metadata": {},
   "outputs": [
    {
     "data": {
      "text/html": [
       "<div>\n",
       "<style scoped>\n",
       "    .dataframe tbody tr th:only-of-type {\n",
       "        vertical-align: middle;\n",
       "    }\n",
       "\n",
       "    .dataframe tbody tr th {\n",
       "        vertical-align: top;\n",
       "    }\n",
       "\n",
       "    .dataframe thead th {\n",
       "        text-align: right;\n",
       "    }\n",
       "</style>\n",
       "<table border=\"1\" class=\"dataframe\">\n",
       "  <thead>\n",
       "    <tr style=\"text-align: right;\">\n",
       "      <th></th>\n",
       "      <th>beer_id</th>\n",
       "      <th>beer_name</th>\n",
       "      <th>brewery_id</th>\n",
       "      <th>brewery_name</th>\n",
       "      <th>style</th>\n",
       "      <th>nbr_reviews</th>\n",
       "      <th>nbr_ratings</th>\n",
       "      <th>avg</th>\n",
       "      <th>abv</th>\n",
       "      <th>category</th>\n",
       "    </tr>\n",
       "  </thead>\n",
       "  <tbody>\n",
       "    <tr>\n",
       "      <th>0</th>\n",
       "      <td>166064</td>\n",
       "      <td>Nashe Moskovskoe</td>\n",
       "      <td>39912</td>\n",
       "      <td>Abdysh-Ata (Абдыш Ата)</td>\n",
       "      <td>Euro Pale Lager</td>\n",
       "      <td>0</td>\n",
       "      <td>0</td>\n",
       "      <td>NaN</td>\n",
       "      <td>4.7</td>\n",
       "      <td>Pale Lagers</td>\n",
       "    </tr>\n",
       "    <tr>\n",
       "      <th>1</th>\n",
       "      <td>166065</td>\n",
       "      <td>Nashe Pivovskoe</td>\n",
       "      <td>39912</td>\n",
       "      <td>Abdysh-Ata (Абдыш Ата)</td>\n",
       "      <td>Euro Pale Lager</td>\n",
       "      <td>0</td>\n",
       "      <td>0</td>\n",
       "      <td>NaN</td>\n",
       "      <td>3.8</td>\n",
       "      <td>Pale Lagers</td>\n",
       "    </tr>\n",
       "    <tr>\n",
       "      <th>2</th>\n",
       "      <td>166066</td>\n",
       "      <td>Nashe Shakhterskoe</td>\n",
       "      <td>39912</td>\n",
       "      <td>Abdysh-Ata (Абдыш Ата)</td>\n",
       "      <td>Euro Pale Lager</td>\n",
       "      <td>0</td>\n",
       "      <td>0</td>\n",
       "      <td>NaN</td>\n",
       "      <td>4.8</td>\n",
       "      <td>Pale Lagers</td>\n",
       "    </tr>\n",
       "    <tr>\n",
       "      <th>3</th>\n",
       "      <td>166067</td>\n",
       "      <td>Nashe Zhigulevskoe</td>\n",
       "      <td>39912</td>\n",
       "      <td>Abdysh-Ata (Абдыш Ата)</td>\n",
       "      <td>Euro Pale Lager</td>\n",
       "      <td>0</td>\n",
       "      <td>0</td>\n",
       "      <td>NaN</td>\n",
       "      <td>4.0</td>\n",
       "      <td>Pale Lagers</td>\n",
       "    </tr>\n",
       "    <tr>\n",
       "      <th>4</th>\n",
       "      <td>166063</td>\n",
       "      <td>Zhivoe</td>\n",
       "      <td>39912</td>\n",
       "      <td>Abdysh-Ata (Абдыш Ата)</td>\n",
       "      <td>Euro Pale Lager</td>\n",
       "      <td>0</td>\n",
       "      <td>0</td>\n",
       "      <td>NaN</td>\n",
       "      <td>4.5</td>\n",
       "      <td>Pale Lagers</td>\n",
       "    </tr>\n",
       "    <tr>\n",
       "      <th>...</th>\n",
       "      <td>...</td>\n",
       "      <td>...</td>\n",
       "      <td>...</td>\n",
       "      <td>...</td>\n",
       "      <td>...</td>\n",
       "      <td>...</td>\n",
       "      <td>...</td>\n",
       "      <td>...</td>\n",
       "      <td>...</td>\n",
       "      <td>...</td>\n",
       "    </tr>\n",
       "    <tr>\n",
       "      <th>280818</th>\n",
       "      <td>19139</td>\n",
       "      <td>Kölsch Ale</td>\n",
       "      <td>885</td>\n",
       "      <td>Summit Station Restaurant &amp; Brewery</td>\n",
       "      <td>Kölsch</td>\n",
       "      <td>3</td>\n",
       "      <td>3</td>\n",
       "      <td>2.71</td>\n",
       "      <td>5.0</td>\n",
       "      <td>Pale Ales</td>\n",
       "    </tr>\n",
       "    <tr>\n",
       "      <th>280819</th>\n",
       "      <td>19140</td>\n",
       "      <td>Nut Brown Ale</td>\n",
       "      <td>885</td>\n",
       "      <td>Summit Station Restaurant &amp; Brewery</td>\n",
       "      <td>English Brown Ale</td>\n",
       "      <td>1</td>\n",
       "      <td>2</td>\n",
       "      <td>3.10</td>\n",
       "      <td>5.3</td>\n",
       "      <td>Brown Ales</td>\n",
       "    </tr>\n",
       "    <tr>\n",
       "      <th>280820</th>\n",
       "      <td>19146</td>\n",
       "      <td>Octoberfest</td>\n",
       "      <td>885</td>\n",
       "      <td>Summit Station Restaurant &amp; Brewery</td>\n",
       "      <td>Märzen / Oktoberfest</td>\n",
       "      <td>0</td>\n",
       "      <td>0</td>\n",
       "      <td>NaN</td>\n",
       "      <td>NaN</td>\n",
       "      <td>Pale Lagers</td>\n",
       "    </tr>\n",
       "    <tr>\n",
       "      <th>280821</th>\n",
       "      <td>2805</td>\n",
       "      <td>Scotch Ale</td>\n",
       "      <td>885</td>\n",
       "      <td>Summit Station Restaurant &amp; Brewery</td>\n",
       "      <td>Scotch Ale / Wee Heavy</td>\n",
       "      <td>0</td>\n",
       "      <td>0</td>\n",
       "      <td>NaN</td>\n",
       "      <td>7.0</td>\n",
       "      <td>Strong Ales</td>\n",
       "    </tr>\n",
       "    <tr>\n",
       "      <th>280822</th>\n",
       "      <td>19148</td>\n",
       "      <td>Smoked Porter</td>\n",
       "      <td>885</td>\n",
       "      <td>Summit Station Restaurant &amp; Brewery</td>\n",
       "      <td>American Porter</td>\n",
       "      <td>0</td>\n",
       "      <td>0</td>\n",
       "      <td>NaN</td>\n",
       "      <td>NaN</td>\n",
       "      <td>Porters</td>\n",
       "    </tr>\n",
       "  </tbody>\n",
       "</table>\n",
       "<p>280823 rows × 10 columns</p>\n",
       "</div>"
      ],
      "text/plain": [
       "        beer_id           beer_name  brewery_id  \\\n",
       "0        166064    Nashe Moskovskoe       39912   \n",
       "1        166065     Nashe Pivovskoe       39912   \n",
       "2        166066  Nashe Shakhterskoe       39912   \n",
       "3        166067  Nashe Zhigulevskoe       39912   \n",
       "4        166063              Zhivoe       39912   \n",
       "...         ...                 ...         ...   \n",
       "280818    19139          Kölsch Ale         885   \n",
       "280819    19140       Nut Brown Ale         885   \n",
       "280820    19146         Octoberfest         885   \n",
       "280821     2805          Scotch Ale         885   \n",
       "280822    19148       Smoked Porter         885   \n",
       "\n",
       "                               brewery_name                   style  \\\n",
       "0                    Abdysh-Ata (Абдыш Ата)         Euro Pale Lager   \n",
       "1                    Abdysh-Ata (Абдыш Ата)         Euro Pale Lager   \n",
       "2                    Abdysh-Ata (Абдыш Ата)         Euro Pale Lager   \n",
       "3                    Abdysh-Ata (Абдыш Ата)         Euro Pale Lager   \n",
       "4                    Abdysh-Ata (Абдыш Ата)         Euro Pale Lager   \n",
       "...                                     ...                     ...   \n",
       "280818  Summit Station Restaurant & Brewery                  Kölsch   \n",
       "280819  Summit Station Restaurant & Brewery       English Brown Ale   \n",
       "280820  Summit Station Restaurant & Brewery    Märzen / Oktoberfest   \n",
       "280821  Summit Station Restaurant & Brewery  Scotch Ale / Wee Heavy   \n",
       "280822  Summit Station Restaurant & Brewery         American Porter   \n",
       "\n",
       "        nbr_reviews  nbr_ratings   avg  abv     category  \n",
       "0                 0            0   NaN  4.7  Pale Lagers  \n",
       "1                 0            0   NaN  3.8  Pale Lagers  \n",
       "2                 0            0   NaN  4.8  Pale Lagers  \n",
       "3                 0            0   NaN  4.0  Pale Lagers  \n",
       "4                 0            0   NaN  4.5  Pale Lagers  \n",
       "...             ...          ...   ...  ...          ...  \n",
       "280818            3            3  2.71  5.0    Pale Ales  \n",
       "280819            1            2  3.10  5.3   Brown Ales  \n",
       "280820            0            0   NaN  NaN  Pale Lagers  \n",
       "280821            0            0   NaN  7.0  Strong Ales  \n",
       "280822            0            0   NaN  NaN      Porters  \n",
       "\n",
       "[280823 rows x 10 columns]"
      ]
     },
     "execution_count": 10,
     "metadata": {},
     "output_type": "execute_result"
    }
   ],
   "source": [
    "df_beers"
   ]
  },
  {
   "attachments": {},
   "cell_type": "markdown",
   "metadata": {},
   "source": [
    "# Users and filtering"
   ]
  },
  {
   "cell_type": "code",
   "execution_count": 11,
   "metadata": {
    "cell_id": "a08802bdef7149109203f51bdf1142ce",
    "deepnote_cell_type": "code"
   },
   "outputs": [
    {
     "name": "stdout",
     "output_type": "stream",
     "text": [
      "         nbr_ratings    nbr_reviews        joined\n",
      "count  153704.000000  153704.000000  1.510520e+05\n",
      "mean       54.605163      16.847876  1.357238e+09\n",
      "std       252.388790     139.846706  9.195131e+07\n",
      "min         1.000000       0.000000  8.407944e+08\n",
      "25%         1.000000       0.000000  1.303121e+09\n",
      "50%         3.000000       0.000000  1.391944e+09\n",
      "75%        16.000000       2.000000  1.417691e+09\n",
      "max     12046.000000    8970.000000  1.501495e+09\n"
     ]
    },
    {
     "data": {
      "text/html": [
       "<div>\n",
       "<style scoped>\n",
       "    .dataframe tbody tr th:only-of-type {\n",
       "        vertical-align: middle;\n",
       "    }\n",
       "\n",
       "    .dataframe tbody tr th {\n",
       "        vertical-align: top;\n",
       "    }\n",
       "\n",
       "    .dataframe thead th {\n",
       "        text-align: right;\n",
       "    }\n",
       "</style>\n",
       "<table border=\"1\" class=\"dataframe\">\n",
       "  <thead>\n",
       "    <tr style=\"text-align: right;\">\n",
       "      <th></th>\n",
       "      <th>nbr_ratings</th>\n",
       "      <th>nbr_reviews</th>\n",
       "      <th>user_id</th>\n",
       "      <th>user_name</th>\n",
       "      <th>joined</th>\n",
       "      <th>location</th>\n",
       "    </tr>\n",
       "  </thead>\n",
       "  <tbody>\n",
       "    <tr>\n",
       "      <th>0</th>\n",
       "      <td>7820</td>\n",
       "      <td>465</td>\n",
       "      <td>nmann08.184925</td>\n",
       "      <td>nmann08</td>\n",
       "      <td>1.199704e+09</td>\n",
       "      <td>United States, Washington</td>\n",
       "    </tr>\n",
       "    <tr>\n",
       "      <th>1</th>\n",
       "      <td>2521</td>\n",
       "      <td>2504</td>\n",
       "      <td>stjamesgate.163714</td>\n",
       "      <td>StJamesGate</td>\n",
       "      <td>1.191838e+09</td>\n",
       "      <td>United States, New York</td>\n",
       "    </tr>\n",
       "    <tr>\n",
       "      <th>2</th>\n",
       "      <td>1797</td>\n",
       "      <td>1143</td>\n",
       "      <td>mdagnew.19527</td>\n",
       "      <td>mdagnew</td>\n",
       "      <td>1.116410e+09</td>\n",
       "      <td>Northern Ireland</td>\n",
       "    </tr>\n",
       "    <tr>\n",
       "      <th>3</th>\n",
       "      <td>31</td>\n",
       "      <td>31</td>\n",
       "      <td>helloloser12345.10867</td>\n",
       "      <td>helloloser12345</td>\n",
       "      <td>1.101380e+09</td>\n",
       "      <td>Northern Ireland</td>\n",
       "    </tr>\n",
       "    <tr>\n",
       "      <th>4</th>\n",
       "      <td>604</td>\n",
       "      <td>604</td>\n",
       "      <td>cypressbob.3708</td>\n",
       "      <td>cypressbob</td>\n",
       "      <td>1.069326e+09</td>\n",
       "      <td>Northern Ireland</td>\n",
       "    </tr>\n",
       "  </tbody>\n",
       "</table>\n",
       "</div>"
      ],
      "text/plain": [
       "   nbr_ratings  nbr_reviews                user_id        user_name  \\\n",
       "0         7820          465         nmann08.184925          nmann08   \n",
       "1         2521         2504     stjamesgate.163714      StJamesGate   \n",
       "2         1797         1143          mdagnew.19527          mdagnew   \n",
       "3           31           31  helloloser12345.10867  helloloser12345   \n",
       "4          604          604        cypressbob.3708       cypressbob   \n",
       "\n",
       "         joined                   location  \n",
       "0  1.199704e+09  United States, Washington  \n",
       "1  1.191838e+09    United States, New York  \n",
       "2  1.116410e+09           Northern Ireland  \n",
       "3  1.101380e+09           Northern Ireland  \n",
       "4  1.069326e+09           Northern Ireland  "
      ]
     },
     "execution_count": 11,
     "metadata": {},
     "output_type": "execute_result"
    }
   ],
   "source": [
    "#load the data\n",
    "\n",
    "df_users = pd.read_csv('./data/users.csv')\n",
    "print(df_users.describe())\n",
    "df_users.head(5)"
   ]
  },
  {
   "cell_type": "code",
   "execution_count": 12,
   "metadata": {
    "cell_id": "e9bbb0ea7e39456583d0b6628a387617",
    "deepnote_cell_type": "code"
   },
   "outputs": [
    {
     "name": "stdout",
     "output_type": "stream",
     "text": [
      "There are 113223 US users\n",
      "Cutoff low :  500\n",
      "Cutoff high :  1135.0\n",
      "Number of users left :  2232\n",
      "Total of ratings left :  1652164\n"
     ]
    }
   ],
   "source": [
    "# First user filtering phase \n",
    "\n",
    "# keep users from the USA only & who have made a minimum number of reviews in order to participate in our study\n",
    "\n",
    "df_us_users = df_users[df_users.location.str.contains('United States', na=False)]\n",
    "nb_us_users = df_us_users['user_id'].nunique()\n",
    "print(f\"There are {nb_us_users} US users\")\n",
    "\n",
    "#choose a minimum number of ratings per user, since we want to analyse an evolution!\n",
    "cutoff_low = 500\n",
    "print(\"Cutoff low : \", cutoff_low)\n",
    "\n",
    "#choose a maximum number of ratings per user, we want to filter our super-users or organisations\n",
    "cutoff_high = df_us_users.nbr_ratings.quantile(0.99)\n",
    "print(\"Cutoff high : \", cutoff_high)\n",
    "\n",
    "#create a valid user dataframe and a set with the valid user_names\n",
    "df_us_users = df_us_users[(df_us_users.nbr_ratings < cutoff_high) &\n",
    "                                (df_us_users.nbr_ratings >= cutoff_low)]\n",
    "us_users_names = set(df_us_users.user_name)\n",
    "print(\"Number of users left : \", len(us_users_names))\n",
    "print(\"Total of ratings left : \", df_us_users.nbr_ratings.sum())\n",
    "\n",
    "#convert the 'joined' column into datetime format\n",
    "df_us_users.loc[:,'date_joined'] = pd.to_datetime(df_us_users['joined'].apply(lambda dt : datetime.fromtimestamp(dt).strftime('%Y-%m-%d')))"
   ]
  },
  {
   "cell_type": "code",
   "execution_count": 13,
   "metadata": {},
   "outputs": [],
   "source": [
    "# We now gather some more user information by analyzing their behaviour as a reviewer"
   ]
  },
  {
   "cell_type": "code",
   "execution_count": 14,
   "metadata": {
    "cell_id": "4eb61738f844445ba471cd7668afab43",
    "deepnote_cell_type": "code",
    "deepnote_to_be_reexecuted": false,
    "execution_millis": 5,
    "execution_start": 1668694161680,
    "source_hash": "5f5f7f2d",
    "tags": []
   },
   "outputs": [],
   "source": [
    "def parse(filename):\n",
    "    \"\"\"\n",
    "    Parse a txt.gz file and return a generator for it\n",
    "    Copyright © 2017 Gael Lederrey <gael.lederrey@epfl.ch>\n",
    "    :param filename: name of the file\n",
    "    :return: Generator to go through the file\n",
    "    \"\"\"\n",
    "    file = gzip.open(filename, 'rb')\n",
    "    entry = {}\n",
    "    # Go through all the lines\n",
    "    for line in file:\n",
    "        # Transform the string-bytes into a string\n",
    "        line = line.decode(\"utf-8\").strip()\n",
    "\n",
    "        # We check for a colon in each line\n",
    "        colon_pos = line.find(\":\")\n",
    "        if colon_pos == -1:\n",
    "            # if no, we yield the entry\n",
    "            yield entry\n",
    "            entry = {}\n",
    "            continue\n",
    "        # otherwise, we add the key-value pair to the entry\n",
    "        key = line[:colon_pos]\n",
    "        value = line[colon_pos + 2:]\n",
    "        entry[key] = value"
   ]
  },
  {
   "cell_type": "code",
   "execution_count": 15,
   "metadata": {
    "cell_id": "cb2d5c48750b49048257c318e1a94601",
    "deepnote_cell_type": "code"
   },
   "outputs": [],
   "source": [
    "gen = parse('./data/ratings.txt.gz')"
   ]
  },
  {
   "cell_type": "code",
   "execution_count": 16,
   "metadata": {
    "cell_id": "d885e11d05b34b36931c83ed75198dc4",
    "deepnote_cell_type": "code"
   },
   "outputs": [],
   "source": [
    "#We create the dataframe of the valid us users previously determined\n",
    "\n",
    "create = False\n",
    "\n",
    "if create:\n",
    "    undesired_features = set(['text','review', 'brewery_name', 'brewery_id', 'user_id', 'beer_name'])\n",
    "    full_ratings_ls = []\n",
    "    int_cols = ['beer_id']\n",
    "    float_cols = ['abv','appearance', 'aroma', 'palate', 'taste', 'overall', 'rating']\n",
    "\n",
    "    review = next(gen)\n",
    "    cols = [key for key, _ in review.items() if key not in undesired_features]\n",
    "\n",
    "    for idx, review in enumerate(gen):\n",
    "        user_name = review['user_name']\n",
    "        valid_rows = [value for key, value in review.items() if key not in undesired_features]\n",
    "        if user_name in us_users_names:\n",
    "            full_ratings_ls.append(valid_rows)\n",
    "\n",
    "    df_ratings = pd.DataFrame(full_ratings_ls, columns = cols)\n",
    "\n",
    "    df_ratings[int_cols] = df_ratings[int_cols].astype('int')\n",
    "    df_ratings[float_cols] = df_ratings[float_cols].astype('float') \n",
    "    df_ratings[\"date\"] = pd.to_datetime(df_ratings.date.apply(\n",
    "        lambda date : datetime.fromtimestamp(int(date)).strftime('%Y-%m-%d')\n",
    "    ))\n",
    "\n",
    "    #There is one review in 2000, wich is an outlier\n",
    "    start_date = pd.to_datetime(\"2001-01-01\")\n",
    "    df_ratings = df_ratings.loc[df_ratings['date'] >= start_date]   \n",
    "    df_ratings.to_pickle('./data/ratings_valid_user.pkl')\n",
    "\n",
    "else:\n",
    "    df_ratings = pd.read_pickle('./data/ratings_valid_user.pkl')"
   ]
  },
  {
   "cell_type": "code",
   "execution_count": 17,
   "metadata": {},
   "outputs": [],
   "source": [
    "#add the category of the beer\n",
    "beers_id_cat = df_beers[['beer_id', 'category']]\n",
    "df_ratings = pd.merge(df_ratings, beers_id_cat, on = 'beer_id')\n",
    "\n",
    "#add the rating number, starts at 0\n",
    "df_ratings.sort_values(by = \"date\", inplace=True)\n",
    "df_ratings[\"rating_number\"] = df_ratings.groupby(\"user_name\").transform(\"cumcount\")\n",
    "\n",
    "#we also convert the date to the proper format\n",
    "df_ratings[\"date\"] = pd.to_datetime(df_ratings[\"date\"])"
   ]
  },
  {
   "cell_type": "code",
   "execution_count": 18,
   "metadata": {},
   "outputs": [],
   "source": [
    "#We apply the second of our filters, we only keep the 500 first ratings. (rating number at which you are considered an expert)\n",
    "nb_ratings_expert = 500\n",
    "df_us_ratings = df_ratings[df_ratings[\"rating_number\"] < nb_ratings_expert]"
   ]
  },
  {
   "cell_type": "code",
   "execution_count": 19,
   "metadata": {},
   "outputs": [
    {
     "data": {
      "text/html": [
       "<div>\n",
       "<style scoped>\n",
       "    .dataframe tbody tr th:only-of-type {\n",
       "        vertical-align: middle;\n",
       "    }\n",
       "\n",
       "    .dataframe tbody tr th {\n",
       "        vertical-align: top;\n",
       "    }\n",
       "\n",
       "    .dataframe thead th {\n",
       "        text-align: right;\n",
       "    }\n",
       "</style>\n",
       "<table border=\"1\" class=\"dataframe\">\n",
       "  <thead>\n",
       "    <tr style=\"text-align: right;\">\n",
       "      <th></th>\n",
       "      <th>beer_id</th>\n",
       "      <th>style</th>\n",
       "      <th>abv</th>\n",
       "      <th>date</th>\n",
       "      <th>user_name</th>\n",
       "      <th>appearance</th>\n",
       "      <th>aroma</th>\n",
       "      <th>palate</th>\n",
       "      <th>taste</th>\n",
       "      <th>overall</th>\n",
       "      <th>rating</th>\n",
       "      <th>category</th>\n",
       "      <th>rating_number</th>\n",
       "    </tr>\n",
       "  </thead>\n",
       "  <tbody>\n",
       "    <tr>\n",
       "      <th>1640018</th>\n",
       "      <td>167</td>\n",
       "      <td>Witbier</td>\n",
       "      <td>NaN</td>\n",
       "      <td>2001-03-16</td>\n",
       "      <td>frank4sail</td>\n",
       "      <td>4.5</td>\n",
       "      <td>4.5</td>\n",
       "      <td>4.0</td>\n",
       "      <td>5.0</td>\n",
       "      <td>5.0</td>\n",
       "      <td>4.75</td>\n",
       "      <td>Wheat Beers</td>\n",
       "      <td>0</td>\n",
       "    </tr>\n",
       "    <tr>\n",
       "      <th>311428</th>\n",
       "      <td>3558</td>\n",
       "      <td>Czech Pilsener</td>\n",
       "      <td>5.00</td>\n",
       "      <td>2001-06-18</td>\n",
       "      <td>Mark</td>\n",
       "      <td>4.0</td>\n",
       "      <td>4.0</td>\n",
       "      <td>3.0</td>\n",
       "      <td>4.0</td>\n",
       "      <td>4.0</td>\n",
       "      <td>3.90</td>\n",
       "      <td>Pale Lagers</td>\n",
       "      <td>0</td>\n",
       "    </tr>\n",
       "    <tr>\n",
       "      <th>17313</th>\n",
       "      <td>73</td>\n",
       "      <td>Milk / Sweet Stout</td>\n",
       "      <td>5.20</td>\n",
       "      <td>2001-06-18</td>\n",
       "      <td>Mark</td>\n",
       "      <td>5.0</td>\n",
       "      <td>5.0</td>\n",
       "      <td>5.0</td>\n",
       "      <td>5.0</td>\n",
       "      <td>5.0</td>\n",
       "      <td>5.00</td>\n",
       "      <td>Stouts</td>\n",
       "      <td>1</td>\n",
       "    </tr>\n",
       "    <tr>\n",
       "      <th>136697</th>\n",
       "      <td>261</td>\n",
       "      <td>Vienna Lager</td>\n",
       "      <td>4.48</td>\n",
       "      <td>2001-06-24</td>\n",
       "      <td>Mark</td>\n",
       "      <td>4.0</td>\n",
       "      <td>3.0</td>\n",
       "      <td>3.0</td>\n",
       "      <td>3.0</td>\n",
       "      <td>3.0</td>\n",
       "      <td>3.06</td>\n",
       "      <td>Dark Lagers</td>\n",
       "      <td>2</td>\n",
       "    </tr>\n",
       "    <tr>\n",
       "      <th>442671</th>\n",
       "      <td>87</td>\n",
       "      <td>American Pale Ale (APA)</td>\n",
       "      <td>5.40</td>\n",
       "      <td>2001-06-24</td>\n",
       "      <td>Mark</td>\n",
       "      <td>4.0</td>\n",
       "      <td>4.0</td>\n",
       "      <td>1.0</td>\n",
       "      <td>3.0</td>\n",
       "      <td>3.0</td>\n",
       "      <td>3.10</td>\n",
       "      <td>Pale Ales</td>\n",
       "      <td>3</td>\n",
       "    </tr>\n",
       "  </tbody>\n",
       "</table>\n",
       "</div>"
      ],
      "text/plain": [
       "         beer_id                    style   abv       date   user_name  \\\n",
       "1640018      167                  Witbier   NaN 2001-03-16  frank4sail   \n",
       "311428      3558           Czech Pilsener  5.00 2001-06-18        Mark   \n",
       "17313         73       Milk / Sweet Stout  5.20 2001-06-18        Mark   \n",
       "136697       261             Vienna Lager  4.48 2001-06-24        Mark   \n",
       "442671        87  American Pale Ale (APA)  5.40 2001-06-24        Mark   \n",
       "\n",
       "         appearance  aroma  palate  taste  overall  rating     category  \\\n",
       "1640018         4.5    4.5     4.0    5.0      5.0    4.75  Wheat Beers   \n",
       "311428          4.0    4.0     3.0    4.0      4.0    3.90  Pale Lagers   \n",
       "17313           5.0    5.0     5.0    5.0      5.0    5.00       Stouts   \n",
       "136697          4.0    3.0     3.0    3.0      3.0    3.06  Dark Lagers   \n",
       "442671          4.0    4.0     1.0    3.0      3.0    3.10    Pale Ales   \n",
       "\n",
       "         rating_number  \n",
       "1640018              0  \n",
       "311428               0  \n",
       "17313                1  \n",
       "136697               2  \n",
       "442671               3  "
      ]
     },
     "execution_count": 19,
     "metadata": {},
     "output_type": "execute_result"
    }
   ],
   "source": [
    "df_us_ratings.head(5)"
   ]
  },
  {
   "cell_type": "code",
   "execution_count": 20,
   "metadata": {},
   "outputs": [],
   "source": [
    "#We go back to users and compute on how many different days they were active\n",
    "\n",
    "user_active = df_us_ratings.groupby(['user_name'], as_index = False).date.nunique()\n",
    "user_active.columns = ['user_name', 'active_days']\n",
    "df_us_users = df_us_users.merge(user_active, on = 'user_name')"
   ]
  },
  {
   "cell_type": "code",
   "execution_count": 21,
   "metadata": {},
   "outputs": [
    {
     "data": {
      "text/html": [
       "<div>\n",
       "<style scoped>\n",
       "    .dataframe tbody tr th:only-of-type {\n",
       "        vertical-align: middle;\n",
       "    }\n",
       "\n",
       "    .dataframe tbody tr th {\n",
       "        vertical-align: top;\n",
       "    }\n",
       "\n",
       "    .dataframe thead th {\n",
       "        text-align: right;\n",
       "    }\n",
       "</style>\n",
       "<table border=\"1\" class=\"dataframe\">\n",
       "  <thead>\n",
       "    <tr style=\"text-align: right;\">\n",
       "      <th></th>\n",
       "      <th>nbr_ratings</th>\n",
       "      <th>nbr_reviews</th>\n",
       "      <th>user_id</th>\n",
       "      <th>user_name</th>\n",
       "      <th>joined</th>\n",
       "      <th>location</th>\n",
       "      <th>date_joined</th>\n",
       "      <th>active_days</th>\n",
       "      <th>delta_first_last</th>\n",
       "    </tr>\n",
       "  </thead>\n",
       "  <tbody>\n",
       "    <tr>\n",
       "      <th>0</th>\n",
       "      <td>1131</td>\n",
       "      <td>188</td>\n",
       "      <td>okcnittany.144868</td>\n",
       "      <td>OKCNittany</td>\n",
       "      <td>1.182766e+09</td>\n",
       "      <td>United States, Oklahoma</td>\n",
       "      <td>2007-06-25</td>\n",
       "      <td>187</td>\n",
       "      <td>2397</td>\n",
       "    </tr>\n",
       "    <tr>\n",
       "      <th>1</th>\n",
       "      <td>732</td>\n",
       "      <td>14</td>\n",
       "      <td>byofb.537281</td>\n",
       "      <td>BYOFB</td>\n",
       "      <td>1.292065e+09</td>\n",
       "      <td>United States, Wisconsin</td>\n",
       "      <td>2010-12-11</td>\n",
       "      <td>32</td>\n",
       "      <td>756</td>\n",
       "    </tr>\n",
       "    <tr>\n",
       "      <th>2</th>\n",
       "      <td>585</td>\n",
       "      <td>389</td>\n",
       "      <td>ferrari29.320392</td>\n",
       "      <td>ferrari29</td>\n",
       "      <td>1.239790e+09</td>\n",
       "      <td>United States, Illinois</td>\n",
       "      <td>2009-04-15</td>\n",
       "      <td>202</td>\n",
       "      <td>1193</td>\n",
       "    </tr>\n",
       "    <tr>\n",
       "      <th>3</th>\n",
       "      <td>1078</td>\n",
       "      <td>10</td>\n",
       "      <td>colsanders123.545441</td>\n",
       "      <td>ColSanders123</td>\n",
       "      <td>1.293620e+09</td>\n",
       "      <td>United States, Georgia</td>\n",
       "      <td>2010-12-29</td>\n",
       "      <td>135</td>\n",
       "      <td>1077</td>\n",
       "    </tr>\n",
       "    <tr>\n",
       "      <th>4</th>\n",
       "      <td>914</td>\n",
       "      <td>890</td>\n",
       "      <td>jays2629.517433</td>\n",
       "      <td>JayS2629</td>\n",
       "      <td>1.287828e+09</td>\n",
       "      <td>United States, Alabama</td>\n",
       "      <td>2010-10-23</td>\n",
       "      <td>101</td>\n",
       "      <td>244</td>\n",
       "    </tr>\n",
       "    <tr>\n",
       "      <th>...</th>\n",
       "      <td>...</td>\n",
       "      <td>...</td>\n",
       "      <td>...</td>\n",
       "      <td>...</td>\n",
       "      <td>...</td>\n",
       "      <td>...</td>\n",
       "      <td>...</td>\n",
       "      <td>...</td>\n",
       "      <td>...</td>\n",
       "    </tr>\n",
       "    <tr>\n",
       "      <th>2227</th>\n",
       "      <td>548</td>\n",
       "      <td>21</td>\n",
       "      <td>crafteyedoc.675112</td>\n",
       "      <td>CraftEyeDoc</td>\n",
       "      <td>1.336039e+09</td>\n",
       "      <td>United States, North Carolina</td>\n",
       "      <td>2012-05-03</td>\n",
       "      <td>143</td>\n",
       "      <td>970</td>\n",
       "    </tr>\n",
       "    <tr>\n",
       "      <th>2228</th>\n",
       "      <td>630</td>\n",
       "      <td>23</td>\n",
       "      <td>pmoney.592770</td>\n",
       "      <td>pmoney</td>\n",
       "      <td>1.302862e+09</td>\n",
       "      <td>United States, Illinois</td>\n",
       "      <td>2011-04-15</td>\n",
       "      <td>132</td>\n",
       "      <td>854</td>\n",
       "    </tr>\n",
       "    <tr>\n",
       "      <th>2229</th>\n",
       "      <td>637</td>\n",
       "      <td>48</td>\n",
       "      <td>aleckpa.541457</td>\n",
       "      <td>aleckpa</td>\n",
       "      <td>1.292843e+09</td>\n",
       "      <td>United States, North Carolina</td>\n",
       "      <td>2010-12-20</td>\n",
       "      <td>275</td>\n",
       "      <td>1853</td>\n",
       "    </tr>\n",
       "    <tr>\n",
       "      <th>2230</th>\n",
       "      <td>1117</td>\n",
       "      <td>4</td>\n",
       "      <td>dinoblueshoes.607196</td>\n",
       "      <td>DinoBlueShoes</td>\n",
       "      <td>1.309342e+09</td>\n",
       "      <td>United States, Maine</td>\n",
       "      <td>2011-06-29</td>\n",
       "      <td>196</td>\n",
       "      <td>1047</td>\n",
       "    </tr>\n",
       "    <tr>\n",
       "      <th>2231</th>\n",
       "      <td>550</td>\n",
       "      <td>0</td>\n",
       "      <td>mikerieder.227228</td>\n",
       "      <td>mikerieder</td>\n",
       "      <td>1.213265e+09</td>\n",
       "      <td>United States, South Dakota</td>\n",
       "      <td>2008-06-12</td>\n",
       "      <td>95</td>\n",
       "      <td>1044</td>\n",
       "    </tr>\n",
       "  </tbody>\n",
       "</table>\n",
       "<p>2232 rows × 9 columns</p>\n",
       "</div>"
      ],
      "text/plain": [
       "      nbr_ratings  nbr_reviews               user_id      user_name  \\\n",
       "0            1131          188     okcnittany.144868     OKCNittany   \n",
       "1             732           14          byofb.537281          BYOFB   \n",
       "2             585          389      ferrari29.320392      ferrari29   \n",
       "3            1078           10  colsanders123.545441  ColSanders123   \n",
       "4             914          890       jays2629.517433       JayS2629   \n",
       "...           ...          ...                   ...            ...   \n",
       "2227          548           21    crafteyedoc.675112    CraftEyeDoc   \n",
       "2228          630           23         pmoney.592770         pmoney   \n",
       "2229          637           48        aleckpa.541457        aleckpa   \n",
       "2230         1117            4  dinoblueshoes.607196  DinoBlueShoes   \n",
       "2231          550            0     mikerieder.227228     mikerieder   \n",
       "\n",
       "            joined                       location date_joined  active_days  \\\n",
       "0     1.182766e+09        United States, Oklahoma  2007-06-25          187   \n",
       "1     1.292065e+09       United States, Wisconsin  2010-12-11           32   \n",
       "2     1.239790e+09        United States, Illinois  2009-04-15          202   \n",
       "3     1.293620e+09         United States, Georgia  2010-12-29          135   \n",
       "4     1.287828e+09         United States, Alabama  2010-10-23          101   \n",
       "...            ...                            ...         ...          ...   \n",
       "2227  1.336039e+09  United States, North Carolina  2012-05-03          143   \n",
       "2228  1.302862e+09        United States, Illinois  2011-04-15          132   \n",
       "2229  1.292843e+09  United States, North Carolina  2010-12-20          275   \n",
       "2230  1.309342e+09           United States, Maine  2011-06-29          196   \n",
       "2231  1.213265e+09    United States, South Dakota  2008-06-12           95   \n",
       "\n",
       "      delta_first_last  \n",
       "0                 2397  \n",
       "1                  756  \n",
       "2                 1193  \n",
       "3                 1077  \n",
       "4                  244  \n",
       "...                ...  \n",
       "2227               970  \n",
       "2228               854  \n",
       "2229              1853  \n",
       "2230              1047  \n",
       "2231              1044  \n",
       "\n",
       "[2232 rows x 9 columns]"
      ]
     },
     "execution_count": 21,
     "metadata": {},
     "output_type": "execute_result"
    }
   ],
   "source": [
    "# We compute how long it took them to submit the 500 ratings\n",
    "user_delta = df_us_ratings.groupby('user_name', as_index = False).apply(lambda usr: (usr.date.max() - usr.date.min()).days)\n",
    "user_delta.columns = ['user_name', 'delta_first_last']\n",
    "df_us_users = df_us_users.merge(user_delta, on = 'user_name')\n",
    "df_us_users"
   ]
  },
  {
   "cell_type": "code",
   "execution_count": 22,
   "metadata": {},
   "outputs": [],
   "source": [
    "# We compute the maximum number of ratings the user has done in a single day\n",
    "\n",
    "user_day = df_us_ratings[['user_name','date']].groupby([\"user_name\", pd.Grouper(freq = \"D\", key=\"date\")], as_index = False).size()\n",
    "user_day = user_day.groupby('user_name', as_index = False).apply(lambda usr : max(usr['size']))\n",
    "user_day.columns = ['user_name', 'max_active_day']\n",
    "df_us_users = df_us_users.merge(user_day, on = 'user_name')"
   ]
  },
  {
   "cell_type": "code",
   "execution_count": 23,
   "metadata": {},
   "outputs": [],
   "source": [
    "# We compute the maximum number of ratings the user has done in a single month\n",
    "\n",
    "user_month = df_us_ratings[['user_name','date']].groupby([\"user_name\", pd.Grouper(freq = \"M\", key=\"date\")], as_index = False).size()\n",
    "user_month = user_month.groupby('user_name', as_index = False).apply(lambda usr : max(usr['size']))\n",
    "user_month.columns = ['user_name', 'max_active_month']\n",
    "df_us_users = df_us_users.merge(user_month, on = 'user_name') "
   ]
  },
  {
   "cell_type": "code",
   "execution_count": 24,
   "metadata": {},
   "outputs": [],
   "source": [
    "# We also want to know how much time the users took for submitting different number of ratings.\n",
    "\n",
    "def compute_diff_date(user):\n",
    "    diff = {}\n",
    "    day = 50\n",
    "    diff[str(day)] = (user[user[\"rating_number\"] == day-1][\"date\"].item() -\\\n",
    "                         user[user[\"rating_number\"] == 0][\"date\"].item()).days\n",
    "    return pd.Series(diff)"
   ]
  },
  {
   "cell_type": "code",
   "execution_count": 25,
   "metadata": {},
   "outputs": [],
   "source": [
    "def compute_diff_date_last(user):\n",
    "    diff = {}\n",
    "    day = 450\n",
    "    diff[str(day)] = (user[user[\"rating_number\"] == 500-1][\"date\"].item() -\\\n",
    "                         user[user[\"rating_number\"] == day][\"date\"].item()).days\n",
    "    return pd.Series(diff)"
   ]
  },
  {
   "cell_type": "code",
   "execution_count": 26,
   "metadata": {},
   "outputs": [],
   "source": [
    "# We focus on the 10% first reviews (more justification)\n",
    "user_deltas_0_50 = df_us_ratings.groupby('user_name', as_index = False).apply(compute_diff_date)\n",
    "df_us_users = df_us_users.merge(user_deltas_0_50, on = 'user_name')"
   ]
  },
  {
   "cell_type": "code",
   "execution_count": 27,
   "metadata": {},
   "outputs": [],
   "source": [
    "# We focus on the 10% last reviews (more justification)\n",
    "user_deltas_450_500 = df_us_ratings.groupby('user_name', as_index = False).apply(compute_diff_date_last)\n",
    "df_us_users = df_us_users.merge(user_deltas_450_500, on = 'user_name')"
   ]
  },
  {
   "cell_type": "code",
   "execution_count": 28,
   "metadata": {},
   "outputs": [
    {
     "data": {
      "text/html": [
       "<div>\n",
       "<style scoped>\n",
       "    .dataframe tbody tr th:only-of-type {\n",
       "        vertical-align: middle;\n",
       "    }\n",
       "\n",
       "    .dataframe tbody tr th {\n",
       "        vertical-align: top;\n",
       "    }\n",
       "\n",
       "    .dataframe thead th {\n",
       "        text-align: right;\n",
       "    }\n",
       "</style>\n",
       "<table border=\"1\" class=\"dataframe\">\n",
       "  <thead>\n",
       "    <tr style=\"text-align: right;\">\n",
       "      <th></th>\n",
       "      <th>nbr_ratings</th>\n",
       "      <th>nbr_reviews</th>\n",
       "      <th>user_id</th>\n",
       "      <th>user_name</th>\n",
       "      <th>joined</th>\n",
       "      <th>location</th>\n",
       "      <th>date_joined</th>\n",
       "      <th>active_days</th>\n",
       "      <th>delta_first_last</th>\n",
       "      <th>max_active_day</th>\n",
       "      <th>max_active_month</th>\n",
       "      <th>50</th>\n",
       "      <th>450</th>\n",
       "    </tr>\n",
       "  </thead>\n",
       "  <tbody>\n",
       "    <tr>\n",
       "      <th>0</th>\n",
       "      <td>1131</td>\n",
       "      <td>188</td>\n",
       "      <td>okcnittany.144868</td>\n",
       "      <td>OKCNittany</td>\n",
       "      <td>1.182766e+09</td>\n",
       "      <td>United States, Oklahoma</td>\n",
       "      <td>2007-06-25</td>\n",
       "      <td>187</td>\n",
       "      <td>2397</td>\n",
       "      <td>11</td>\n",
       "      <td>91</td>\n",
       "      <td>45</td>\n",
       "      <td>16</td>\n",
       "    </tr>\n",
       "    <tr>\n",
       "      <th>1</th>\n",
       "      <td>732</td>\n",
       "      <td>14</td>\n",
       "      <td>byofb.537281</td>\n",
       "      <td>BYOFB</td>\n",
       "      <td>1.292065e+09</td>\n",
       "      <td>United States, Wisconsin</td>\n",
       "      <td>2010-12-11</td>\n",
       "      <td>32</td>\n",
       "      <td>756</td>\n",
       "      <td>232</td>\n",
       "      <td>273</td>\n",
       "      <td>447</td>\n",
       "      <td>146</td>\n",
       "    </tr>\n",
       "    <tr>\n",
       "      <th>2</th>\n",
       "      <td>585</td>\n",
       "      <td>389</td>\n",
       "      <td>ferrari29.320392</td>\n",
       "      <td>ferrari29</td>\n",
       "      <td>1.239790e+09</td>\n",
       "      <td>United States, Illinois</td>\n",
       "      <td>2009-04-15</td>\n",
       "      <td>202</td>\n",
       "      <td>1193</td>\n",
       "      <td>12</td>\n",
       "      <td>42</td>\n",
       "      <td>64</td>\n",
       "      <td>335</td>\n",
       "    </tr>\n",
       "    <tr>\n",
       "      <th>3</th>\n",
       "      <td>1078</td>\n",
       "      <td>10</td>\n",
       "      <td>colsanders123.545441</td>\n",
       "      <td>ColSanders123</td>\n",
       "      <td>1.293620e+09</td>\n",
       "      <td>United States, Georgia</td>\n",
       "      <td>2010-12-29</td>\n",
       "      <td>135</td>\n",
       "      <td>1077</td>\n",
       "      <td>238</td>\n",
       "      <td>247</td>\n",
       "      <td>254</td>\n",
       "      <td>159</td>\n",
       "    </tr>\n",
       "    <tr>\n",
       "      <th>4</th>\n",
       "      <td>914</td>\n",
       "      <td>890</td>\n",
       "      <td>jays2629.517433</td>\n",
       "      <td>JayS2629</td>\n",
       "      <td>1.287828e+09</td>\n",
       "      <td>United States, Alabama</td>\n",
       "      <td>2010-10-23</td>\n",
       "      <td>101</td>\n",
       "      <td>244</td>\n",
       "      <td>20</td>\n",
       "      <td>103</td>\n",
       "      <td>21</td>\n",
       "      <td>15</td>\n",
       "    </tr>\n",
       "  </tbody>\n",
       "</table>\n",
       "</div>"
      ],
      "text/plain": [
       "   nbr_ratings  nbr_reviews               user_id      user_name  \\\n",
       "0         1131          188     okcnittany.144868     OKCNittany   \n",
       "1          732           14          byofb.537281          BYOFB   \n",
       "2          585          389      ferrari29.320392      ferrari29   \n",
       "3         1078           10  colsanders123.545441  ColSanders123   \n",
       "4          914          890       jays2629.517433       JayS2629   \n",
       "\n",
       "         joined                  location date_joined  active_days  \\\n",
       "0  1.182766e+09   United States, Oklahoma  2007-06-25          187   \n",
       "1  1.292065e+09  United States, Wisconsin  2010-12-11           32   \n",
       "2  1.239790e+09   United States, Illinois  2009-04-15          202   \n",
       "3  1.293620e+09    United States, Georgia  2010-12-29          135   \n",
       "4  1.287828e+09    United States, Alabama  2010-10-23          101   \n",
       "\n",
       "   delta_first_last  max_active_day  max_active_month   50  450  \n",
       "0              2397              11                91   45   16  \n",
       "1               756             232               273  447  146  \n",
       "2              1193              12                42   64  335  \n",
       "3              1077             238               247  254  159  \n",
       "4               244              20               103   21   15  "
      ]
     },
     "execution_count": 28,
     "metadata": {},
     "output_type": "execute_result"
    }
   ],
   "source": [
    "df_us_users.head(5)"
   ]
  },
  {
   "cell_type": "code",
   "execution_count": 29,
   "metadata": {},
   "outputs": [],
   "source": [
    "# We now have a lot more information about the reviewing behaviour of our us users\n",
    "# We proceed with some more filtering to get the final set of users on which we will conduct our study.\n",
    "\n",
    "# Minimum number of active days required:\n",
    "min_active_days = 100\n",
    "df_valid_users = df_us_users[df_us_users['active_days'] >= min_active_days]\n",
    "\n",
    "# How many days needed to submit their 500 ratings:\n",
    "min_delta = 365\n",
    "max_delta = 7*365\n",
    "df_valid_users = df_valid_users[(df_valid_users['delta_first_last'] > min_delta) & (df_valid_users['delta_first_last'] < max_delta)]\n",
    "# Maximum number of reviews in a single day: \n",
    "# On utilise pas pour le moment\n",
    "max_per_day = 70\n",
    "\n",
    "#df_valid_users = df_valid_users[df_valid_users['max_active_day'] < 70]\n",
    "# Maximum number of reviews in a single month:\n",
    "max_per_month = 70\n",
    "df_valid_users = df_valid_users[df_valid_users['max_active_month'] <= max_per_month]"
   ]
  },
  {
   "cell_type": "code",
   "execution_count": 30,
   "metadata": {},
   "outputs": [],
   "source": [
    "# To make the people more similar at the beginning and the end of their ratings career, \n",
    "# we decide to apply a last filter on the users"
   ]
  },
  {
   "cell_type": "code",
   "execution_count": 31,
   "metadata": {},
   "outputs": [
    {
     "data": {
      "text/html": [
       "<div>\n",
       "<style scoped>\n",
       "    .dataframe tbody tr th:only-of-type {\n",
       "        vertical-align: middle;\n",
       "    }\n",
       "\n",
       "    .dataframe tbody tr th {\n",
       "        vertical-align: top;\n",
       "    }\n",
       "\n",
       "    .dataframe thead th {\n",
       "        text-align: right;\n",
       "    }\n",
       "</style>\n",
       "<table border=\"1\" class=\"dataframe\">\n",
       "  <thead>\n",
       "    <tr style=\"text-align: right;\">\n",
       "      <th></th>\n",
       "      <th>nbr_ratings</th>\n",
       "      <th>nbr_reviews</th>\n",
       "      <th>user_id</th>\n",
       "      <th>user_name</th>\n",
       "      <th>joined</th>\n",
       "      <th>location</th>\n",
       "      <th>date_joined</th>\n",
       "      <th>active_days</th>\n",
       "      <th>delta_first_last</th>\n",
       "      <th>max_active_day</th>\n",
       "      <th>max_active_month</th>\n",
       "      <th>50</th>\n",
       "      <th>450</th>\n",
       "    </tr>\n",
       "  </thead>\n",
       "  <tbody>\n",
       "    <tr>\n",
       "      <th>2</th>\n",
       "      <td>585</td>\n",
       "      <td>389</td>\n",
       "      <td>ferrari29.320392</td>\n",
       "      <td>ferrari29</td>\n",
       "      <td>1.239790e+09</td>\n",
       "      <td>United States, Illinois</td>\n",
       "      <td>2009-04-15</td>\n",
       "      <td>202</td>\n",
       "      <td>1193</td>\n",
       "      <td>12</td>\n",
       "      <td>42</td>\n",
       "      <td>64</td>\n",
       "      <td>335</td>\n",
       "    </tr>\n",
       "    <tr>\n",
       "      <th>5</th>\n",
       "      <td>676</td>\n",
       "      <td>676</td>\n",
       "      <td>dodo2step.110880</td>\n",
       "      <td>Dodo2step</td>\n",
       "      <td>1.165576e+09</td>\n",
       "      <td>United States, Pennsylvania</td>\n",
       "      <td>2006-12-08</td>\n",
       "      <td>411</td>\n",
       "      <td>2153</td>\n",
       "      <td>13</td>\n",
       "      <td>28</td>\n",
       "      <td>45</td>\n",
       "      <td>442</td>\n",
       "    </tr>\n",
       "    <tr>\n",
       "      <th>7</th>\n",
       "      <td>653</td>\n",
       "      <td>651</td>\n",
       "      <td>kadonny.156863</td>\n",
       "      <td>Kadonny</td>\n",
       "      <td>1.188986e+09</td>\n",
       "      <td>United States, Pennsylvania</td>\n",
       "      <td>2007-09-05</td>\n",
       "      <td>357</td>\n",
       "      <td>1800</td>\n",
       "      <td>5</td>\n",
       "      <td>22</td>\n",
       "      <td>249</td>\n",
       "      <td>263</td>\n",
       "    </tr>\n",
       "    <tr>\n",
       "      <th>8</th>\n",
       "      <td>748</td>\n",
       "      <td>748</td>\n",
       "      <td>biggred1.206640</td>\n",
       "      <td>biggred1</td>\n",
       "      <td>1.206616e+09</td>\n",
       "      <td>United States, Indiana</td>\n",
       "      <td>2008-03-27</td>\n",
       "      <td>318</td>\n",
       "      <td>819</td>\n",
       "      <td>5</td>\n",
       "      <td>37</td>\n",
       "      <td>102</td>\n",
       "      <td>69</td>\n",
       "    </tr>\n",
       "    <tr>\n",
       "      <th>9</th>\n",
       "      <td>546</td>\n",
       "      <td>484</td>\n",
       "      <td>brownbeer.220672</td>\n",
       "      <td>brownbeer</td>\n",
       "      <td>1.211105e+09</td>\n",
       "      <td>United States, Missouri</td>\n",
       "      <td>2008-05-18</td>\n",
       "      <td>143</td>\n",
       "      <td>1815</td>\n",
       "      <td>17</td>\n",
       "      <td>62</td>\n",
       "      <td>204</td>\n",
       "      <td>1302</td>\n",
       "    </tr>\n",
       "  </tbody>\n",
       "</table>\n",
       "</div>"
      ],
      "text/plain": [
       "   nbr_ratings  nbr_reviews           user_id  user_name        joined  \\\n",
       "2          585          389  ferrari29.320392  ferrari29  1.239790e+09   \n",
       "5          676          676  dodo2step.110880  Dodo2step  1.165576e+09   \n",
       "7          653          651    kadonny.156863    Kadonny  1.188986e+09   \n",
       "8          748          748   biggred1.206640   biggred1  1.206616e+09   \n",
       "9          546          484  brownbeer.220672  brownbeer  1.211105e+09   \n",
       "\n",
       "                      location date_joined  active_days  delta_first_last  \\\n",
       "2      United States, Illinois  2009-04-15          202              1193   \n",
       "5  United States, Pennsylvania  2006-12-08          411              2153   \n",
       "7  United States, Pennsylvania  2007-09-05          357              1800   \n",
       "8       United States, Indiana  2008-03-27          318               819   \n",
       "9      United States, Missouri  2008-05-18          143              1815   \n",
       "\n",
       "   max_active_day  max_active_month   50   450  \n",
       "2              12                42   64   335  \n",
       "5              13                28   45   442  \n",
       "7               5                22  249   263  \n",
       "8               5                37  102    69  \n",
       "9              17                62  204  1302  "
      ]
     },
     "execution_count": 31,
     "metadata": {},
     "output_type": "execute_result"
    }
   ],
   "source": [
    "df_valid_users.head(5)"
   ]
  },
  {
   "cell_type": "code",
   "execution_count": 32,
   "metadata": {},
   "outputs": [
    {
     "data": {
      "application/vnd.plotly.v1+json": {
       "config": {
        "plotlyServerURL": "https://plot.ly"
       },
       "data": [
        {
         "hovertemplate": "x=%{x}<br>50=%{y}<extra></extra>",
         "legendgroup": "",
         "line": {
          "color": "#636efa",
          "dash": "solid"
         },
         "marker": {
          "symbol": "circle"
         },
         "mode": "lines",
         "name": "",
         "showlegend": false,
         "type": "scattergl",
         "x": [
          0,
          1,
          2,
          3,
          4,
          5,
          6,
          7,
          8,
          9,
          10,
          11,
          12,
          13,
          14,
          15,
          16,
          17,
          18,
          19,
          20,
          21,
          22,
          23,
          24,
          25,
          26,
          27,
          28,
          29,
          30,
          31,
          32,
          33,
          34,
          35,
          36,
          37,
          38,
          39,
          40,
          41,
          42,
          43,
          44,
          45,
          46,
          47,
          48,
          49,
          50,
          51,
          52,
          53,
          54,
          55,
          56,
          57,
          58,
          59,
          60,
          61,
          62,
          63,
          64,
          65,
          66,
          67,
          68,
          69,
          70,
          71,
          72,
          73,
          74,
          75,
          76,
          77,
          78,
          79,
          80,
          81,
          82,
          83,
          84,
          85,
          86,
          87,
          88,
          89,
          90,
          91,
          92,
          93,
          94,
          95,
          96,
          97,
          98,
          99,
          100,
          101,
          102,
          103,
          104,
          105,
          106,
          107,
          108,
          109,
          110,
          111,
          112,
          113,
          114,
          115,
          116,
          117,
          118,
          119,
          120,
          121,
          122,
          123,
          124,
          125,
          126,
          127,
          128,
          129,
          130,
          131,
          132,
          133,
          134,
          135,
          136,
          137,
          138,
          139,
          140,
          141,
          142,
          143,
          144,
          145,
          146,
          147,
          148,
          149,
          150,
          151,
          152,
          153,
          154,
          155,
          156,
          157,
          158,
          159,
          160,
          161,
          162,
          163,
          164,
          165,
          166,
          167,
          168,
          169,
          170,
          171,
          172,
          173,
          174,
          175,
          176,
          177,
          178,
          179,
          180,
          181,
          182,
          183,
          184,
          185,
          186,
          187,
          188,
          189,
          190,
          191,
          192,
          193,
          194,
          195,
          196,
          197,
          198,
          199,
          200,
          201,
          202,
          203,
          204,
          205,
          206,
          207,
          208,
          209,
          210,
          211,
          212,
          213,
          214,
          215,
          216,
          217,
          218,
          219,
          220,
          221,
          222,
          223,
          224,
          225,
          226,
          227,
          228,
          229,
          230,
          231,
          232,
          233,
          234,
          235,
          236,
          237,
          238,
          239,
          240,
          241,
          242,
          243,
          244,
          245,
          246,
          247,
          248,
          249,
          250,
          251,
          252,
          253,
          254,
          255,
          256,
          257,
          258,
          259,
          260,
          261,
          262,
          263,
          264,
          265,
          266,
          267,
          268,
          269,
          270,
          271,
          272,
          273,
          274,
          275,
          276,
          277,
          278,
          279,
          280,
          281,
          282,
          283,
          284,
          285,
          286,
          287,
          288,
          289,
          290,
          291,
          292,
          293,
          294,
          295,
          296,
          297,
          298,
          299,
          300,
          301,
          302,
          303,
          304,
          305,
          306,
          307,
          308,
          309,
          310,
          311,
          312,
          313,
          314,
          315,
          316,
          317,
          318,
          319,
          320,
          321,
          322,
          323,
          324,
          325,
          326,
          327,
          328,
          329,
          330,
          331,
          332,
          333,
          334,
          335,
          336,
          337,
          338,
          339,
          340,
          341,
          342,
          343,
          344,
          345,
          346,
          347,
          348,
          349,
          350,
          351,
          352,
          353,
          354,
          355,
          356,
          357,
          358,
          359,
          360,
          361,
          362,
          363,
          364,
          365,
          366,
          367,
          368,
          369,
          370,
          371,
          372,
          373,
          374,
          375,
          376,
          377,
          378,
          379,
          380,
          381,
          382,
          383,
          384,
          385,
          386,
          387,
          388,
          389,
          390,
          391,
          392,
          393,
          394,
          395,
          396,
          397,
          398,
          399,
          400,
          401,
          402,
          403,
          404,
          405,
          406,
          407,
          408,
          409,
          410,
          411,
          412,
          413,
          414,
          415,
          416,
          417,
          418,
          419,
          420,
          421,
          422,
          423,
          424,
          425,
          426,
          427,
          428,
          429,
          430,
          431,
          432,
          433,
          434,
          435,
          436,
          437,
          438,
          439,
          440,
          441,
          442,
          443,
          444,
          445,
          446,
          447,
          448,
          449,
          450,
          451,
          452,
          453,
          454,
          455,
          456,
          457,
          458,
          459,
          460,
          461,
          462,
          463,
          464,
          465,
          466,
          467,
          468,
          469,
          470,
          471,
          472,
          473,
          474,
          475,
          476,
          477,
          478,
          479,
          480,
          481,
          482,
          483,
          484,
          485,
          486,
          487,
          488,
          489,
          490,
          491,
          492,
          493,
          494,
          495,
          496,
          497,
          498,
          499,
          500,
          501,
          502,
          503,
          504,
          505,
          506,
          507,
          508,
          509,
          510,
          511,
          512,
          513,
          514,
          515,
          516,
          517,
          518,
          519,
          520,
          521,
          522,
          523,
          524,
          525,
          526,
          527,
          528,
          529,
          530,
          531,
          532,
          533,
          534,
          535,
          536,
          537,
          538,
          539,
          540,
          541,
          542,
          543,
          544,
          545,
          546,
          547,
          548,
          549,
          550,
          551,
          552,
          553,
          554,
          555,
          556,
          557,
          558,
          559,
          560,
          561,
          562,
          563,
          564,
          565,
          566,
          567,
          568,
          569,
          570,
          571,
          572,
          573,
          574,
          575,
          576,
          577,
          578,
          579,
          580,
          581,
          582,
          583,
          584,
          585,
          586,
          587,
          588,
          589,
          590,
          591,
          592,
          593,
          594,
          595,
          596,
          597,
          598,
          599,
          600,
          601,
          602,
          603,
          604,
          605,
          606,
          607,
          608,
          609,
          610,
          611,
          612,
          613,
          614,
          615,
          616,
          617,
          618,
          619,
          620,
          621,
          622,
          623,
          624,
          625,
          626,
          627,
          628,
          629,
          630,
          631,
          632,
          633,
          634,
          635,
          636,
          637,
          638,
          639,
          640,
          641,
          642,
          643,
          644,
          645,
          646,
          647,
          648,
          649,
          650,
          651,
          652,
          653,
          654,
          655,
          656,
          657,
          658,
          659,
          660,
          661,
          662,
          663,
          664,
          665,
          666,
          667,
          668,
          669,
          670,
          671,
          672,
          673,
          674,
          675,
          676,
          677,
          678,
          679,
          680,
          681,
          682,
          683,
          684,
          685,
          686,
          687,
          688,
          689,
          690,
          691,
          692,
          693,
          694,
          695,
          696,
          697,
          698,
          699,
          700,
          701,
          702,
          703,
          704,
          705,
          706,
          707,
          708,
          709,
          710,
          711,
          712,
          713,
          714,
          715,
          716,
          717,
          718,
          719,
          720,
          721,
          722,
          723,
          724,
          725,
          726,
          727,
          728,
          729,
          730,
          731,
          732,
          733,
          734,
          735,
          736,
          737,
          738,
          739,
          740,
          741,
          742,
          743,
          744,
          745,
          746,
          747,
          748,
          749,
          750,
          751,
          752,
          753,
          754,
          755,
          756,
          757,
          758,
          759,
          760,
          761,
          762,
          763,
          764,
          765,
          766,
          767,
          768,
          769,
          770,
          771,
          772,
          773,
          774,
          775,
          776,
          777,
          778,
          779,
          780,
          781,
          782,
          783,
          784,
          785,
          786,
          787,
          788,
          789,
          790,
          791,
          792,
          793,
          794,
          795,
          796,
          797,
          798,
          799,
          800,
          801,
          802,
          803,
          804,
          805,
          806,
          807,
          808,
          809,
          810,
          811,
          812,
          813,
          814,
          815,
          816,
          817,
          818,
          819,
          820,
          821,
          822,
          823,
          824,
          825,
          826,
          827,
          828,
          829,
          830,
          831,
          832,
          833,
          834,
          835,
          836,
          837,
          838,
          839,
          840,
          841,
          842,
          843,
          844,
          845,
          846,
          847,
          848,
          849,
          850,
          851,
          852,
          853,
          854,
          855,
          856,
          857,
          858,
          859,
          860,
          861,
          862,
          863,
          864,
          865,
          866,
          867,
          868,
          869,
          870,
          871,
          872,
          873,
          874,
          875,
          876,
          877,
          878,
          879,
          880,
          881,
          882,
          883,
          884,
          885,
          886,
          887,
          888,
          889,
          890,
          891,
          892,
          893,
          894,
          895,
          896,
          897,
          898,
          899,
          900,
          901,
          902,
          903,
          904,
          905,
          906,
          907,
          908,
          909,
          910,
          911,
          912,
          913,
          914,
          915,
          916,
          917,
          918,
          919,
          920,
          921,
          922,
          923,
          924,
          925,
          926,
          927,
          928,
          929,
          930,
          931,
          932,
          933,
          934,
          935,
          936,
          937,
          938,
          939,
          940,
          941,
          942,
          943,
          944,
          945,
          946,
          947,
          948,
          949,
          950,
          951,
          952,
          953,
          954,
          955,
          956,
          957,
          958,
          959,
          960,
          961,
          962,
          963,
          964,
          965,
          966,
          967,
          968,
          969,
          970,
          971,
          972,
          973,
          974,
          975,
          976,
          977,
          978,
          979,
          980,
          981,
          982,
          983,
          984,
          985,
          986,
          987,
          988,
          989,
          990,
          991,
          992,
          993,
          994,
          995,
          996,
          997,
          998,
          999,
          1000,
          1001,
          1002,
          1003,
          1004,
          1005,
          1006,
          1007,
          1008,
          1009,
          1010,
          1011,
          1012,
          1013,
          1014,
          1015,
          1016,
          1017,
          1018,
          1019,
          1020,
          1021,
          1022,
          1023,
          1024,
          1025,
          1026,
          1027,
          1028,
          1029,
          1030,
          1031,
          1032,
          1033,
          1034,
          1035,
          1036,
          1037,
          1038,
          1039,
          1040,
          1041,
          1042,
          1043,
          1044,
          1045,
          1046,
          1047,
          1048,
          1049,
          1050
         ],
         "xaxis": "x",
         "y": [
          0,
          0,
          0,
          0,
          0,
          0,
          0,
          0,
          0,
          0,
          0,
          0,
          0,
          1,
          1,
          1,
          1,
          1,
          1,
          1,
          1,
          2,
          2,
          3,
          3,
          3,
          3,
          3,
          3,
          3,
          3,
          4,
          4,
          4,
          4,
          4,
          4,
          4,
          4,
          5,
          5,
          5,
          5,
          5,
          7,
          7,
          7,
          7,
          7,
          8,
          8,
          9,
          9,
          9,
          9,
          9,
          10,
          11,
          11,
          12,
          12,
          12,
          12,
          13,
          13,
          13,
          14,
          14,
          14,
          14,
          15,
          15,
          15,
          16,
          16,
          17,
          17,
          17,
          17,
          17,
          17,
          17,
          17,
          17,
          17,
          18,
          18,
          18,
          18,
          18,
          19,
          19,
          19,
          20,
          20,
          20,
          20,
          21,
          21,
          21,
          21,
          21,
          21,
          21,
          22,
          22,
          22,
          22,
          22,
          22,
          23,
          23,
          23,
          23,
          24,
          24,
          24,
          24,
          24,
          24,
          24,
          24,
          25,
          25,
          25,
          25,
          25,
          25,
          26,
          26,
          26,
          26,
          26,
          26,
          26,
          26,
          27,
          27,
          27,
          27,
          27,
          27,
          27,
          27,
          27,
          27,
          27,
          28,
          28,
          28,
          28,
          28,
          28,
          28,
          29,
          29,
          29,
          29,
          29,
          29,
          29,
          29,
          30,
          30,
          30,
          30,
          30,
          30,
          31,
          31,
          31,
          31,
          31,
          31,
          31,
          31,
          31,
          31,
          31,
          32,
          32,
          32,
          32,
          32,
          32,
          32,
          32,
          32,
          33,
          33,
          33,
          33,
          33,
          33,
          34,
          34,
          34,
          34,
          34,
          34,
          34,
          35,
          35,
          35,
          35,
          35,
          35,
          35,
          35,
          36,
          36,
          36,
          36,
          36,
          36,
          36,
          36,
          37,
          37,
          37,
          37,
          37,
          38,
          38,
          38,
          38,
          38,
          38,
          38,
          38,
          39,
          39,
          39,
          39,
          40,
          40,
          40,
          40,
          40,
          40,
          40,
          40,
          40,
          41,
          41,
          41,
          41,
          41,
          41,
          42,
          42,
          42,
          42,
          42,
          42,
          42,
          42,
          42,
          43,
          43,
          43,
          43,
          43,
          43,
          43,
          43,
          43,
          43,
          43,
          44,
          44,
          44,
          44,
          44,
          44,
          44,
          45,
          45,
          45,
          45,
          45,
          45,
          45,
          46,
          46,
          46,
          46,
          46,
          46,
          46,
          46,
          47,
          47,
          47,
          47,
          48,
          48,
          48,
          48,
          48,
          48,
          48,
          49,
          49,
          49,
          49,
          49,
          49,
          49,
          49,
          50,
          50,
          50,
          50,
          50,
          50,
          51,
          51,
          51,
          51,
          51,
          51,
          52,
          52,
          52,
          52,
          52,
          52,
          52,
          53,
          53,
          53,
          53,
          53,
          53,
          53,
          53,
          54,
          54,
          54,
          54,
          54,
          54,
          54,
          54,
          55,
          55,
          55,
          55,
          55,
          55,
          55,
          55,
          55,
          55,
          55,
          56,
          56,
          56,
          56,
          56,
          56,
          56,
          56,
          57,
          57,
          57,
          57,
          57,
          57,
          57,
          57,
          57,
          57,
          57,
          57,
          57,
          57,
          57,
          57,
          58,
          58,
          58,
          58,
          58,
          58,
          58,
          59,
          59,
          59,
          59,
          59,
          59,
          59,
          59,
          59,
          59,
          59,
          59,
          59,
          60,
          60,
          60,
          60,
          61,
          61,
          61,
          61,
          61,
          61,
          61,
          61,
          61,
          62,
          62,
          62,
          62,
          62,
          62,
          62,
          62,
          63,
          63,
          63,
          63,
          63,
          64,
          64,
          64,
          64,
          64,
          64,
          65,
          65,
          65,
          65,
          65,
          66,
          66,
          66,
          66,
          66,
          66,
          66,
          66,
          67,
          67,
          67,
          68,
          68,
          68,
          68,
          68,
          69,
          69,
          69,
          69,
          69,
          70,
          70,
          70,
          70,
          70,
          70,
          70,
          71,
          71,
          71,
          71,
          71,
          71,
          71,
          72,
          72,
          72,
          72,
          72,
          72,
          72,
          72,
          72,
          72,
          73,
          73,
          73,
          73,
          73,
          73,
          73,
          74,
          74,
          74,
          74,
          74,
          74,
          75,
          75,
          75,
          75,
          75,
          75,
          75,
          76,
          76,
          76,
          76,
          76,
          76,
          76,
          77,
          77,
          77,
          77,
          77,
          77,
          78,
          78,
          78,
          78,
          78,
          78,
          78,
          79,
          79,
          79,
          79,
          79,
          79,
          80,
          80,
          80,
          80,
          80,
          80,
          80,
          80,
          81,
          81,
          81,
          82,
          82,
          82,
          83,
          83,
          83,
          83,
          83,
          84,
          84,
          84,
          85,
          85,
          85,
          87,
          87,
          87,
          87,
          87,
          87,
          88,
          88,
          89,
          89,
          89,
          89,
          89,
          89,
          90,
          91,
          91,
          91,
          92,
          92,
          92,
          92,
          93,
          93,
          93,
          93,
          93,
          93,
          93,
          94,
          94,
          94,
          94,
          94,
          94,
          94,
          94,
          95,
          95,
          95,
          95,
          96,
          96,
          96,
          96,
          97,
          97,
          97,
          97,
          97,
          97,
          97,
          97,
          97,
          97,
          98,
          98,
          98,
          98,
          98,
          99,
          99,
          99,
          99,
          99,
          99,
          99,
          100,
          100,
          100,
          101,
          101,
          102,
          102,
          102,
          102,
          102,
          102,
          103,
          103,
          103,
          104,
          105,
          105,
          105,
          106,
          106,
          106,
          106,
          106,
          107,
          107,
          107,
          107,
          107,
          107,
          108,
          109,
          109,
          109,
          109,
          109,
          109,
          109,
          109,
          109,
          110,
          110,
          110,
          110,
          111,
          112,
          112,
          113,
          113,
          113,
          114,
          114,
          115,
          115,
          115,
          115,
          116,
          116,
          116,
          116,
          116,
          116,
          116,
          116,
          116,
          117,
          117,
          118,
          119,
          120,
          120,
          121,
          121,
          121,
          121,
          121,
          122,
          123,
          123,
          124,
          124,
          124,
          125,
          126,
          126,
          126,
          126,
          126,
          127,
          127,
          127,
          127,
          127,
          128,
          129,
          129,
          130,
          130,
          130,
          130,
          131,
          131,
          131,
          133,
          133,
          134,
          134,
          134,
          135,
          135,
          135,
          136,
          136,
          137,
          137,
          137,
          137,
          138,
          139,
          140,
          140,
          140,
          140,
          140,
          141,
          141,
          142,
          143,
          145,
          145,
          146,
          147,
          148,
          150,
          151,
          151,
          151,
          152,
          152,
          153,
          154,
          154,
          155,
          155,
          156,
          157,
          157,
          158,
          158,
          158,
          160,
          161,
          162,
          163,
          164,
          165,
          165,
          166,
          167,
          167,
          167,
          168,
          168,
          168,
          169,
          169,
          170,
          170,
          171,
          172,
          173,
          174,
          174,
          175,
          176,
          177,
          177,
          180,
          180,
          181,
          182,
          182,
          184,
          184,
          184,
          185,
          185,
          185,
          187,
          188,
          188,
          189,
          189,
          191,
          192,
          192,
          193,
          194,
          194,
          195,
          196,
          196,
          197,
          198,
          198,
          198,
          199,
          199,
          200,
          200,
          200,
          202,
          203,
          203,
          204,
          204,
          207,
          209,
          210,
          211,
          212,
          212,
          213,
          213,
          214,
          215,
          215,
          216,
          216,
          217,
          218,
          218,
          218,
          219,
          220,
          223,
          224,
          224,
          226,
          226,
          226,
          228,
          228,
          229,
          230,
          230,
          231,
          231,
          232,
          233,
          233,
          234,
          234,
          235,
          239,
          239,
          239,
          240,
          240,
          242,
          246,
          246,
          247,
          248,
          249,
          249,
          252,
          254,
          254,
          254,
          257,
          258,
          259,
          260,
          261,
          261,
          262,
          263,
          265,
          266,
          267,
          267,
          271,
          275,
          275,
          276,
          276,
          277,
          281,
          283,
          284,
          284,
          288,
          288,
          288,
          292,
          294,
          294,
          296,
          296,
          300,
          300,
          300,
          301,
          301,
          309,
          313,
          316,
          317,
          323,
          323,
          328,
          328,
          329,
          331,
          334,
          336,
          336,
          336,
          336,
          337,
          339,
          344,
          344,
          351,
          351,
          352,
          355,
          355,
          358,
          358,
          358,
          359,
          363,
          365,
          369,
          369,
          371,
          372,
          377,
          379,
          381,
          381,
          383,
          383,
          385,
          393,
          394,
          402,
          402,
          403,
          403,
          405,
          408,
          413,
          414,
          415,
          418,
          427,
          434,
          436,
          437,
          438,
          439,
          440,
          442,
          465,
          473,
          489,
          498,
          498,
          506,
          507,
          508,
          509,
          513,
          515,
          536,
          539,
          540,
          541,
          543,
          549,
          553,
          559,
          561,
          570,
          574,
          576,
          576,
          592,
          600,
          620,
          631,
          635,
          656,
          671,
          673,
          675,
          689,
          712,
          749,
          749,
          756,
          779,
          786,
          815,
          844,
          852,
          862,
          871,
          890,
          907,
          921,
          963,
          1058,
          1061,
          1116,
          1180,
          1191,
          1210,
          1213,
          1250,
          1303,
          1318,
          1393,
          1472,
          1480,
          1616,
          1624,
          1674,
          1794
         ],
         "yaxis": "y"
        }
       ],
       "layout": {
        "legend": {
         "tracegroupgap": 0
        },
        "margin": {
         "t": 60
        },
        "shapes": [
         {
          "line": {
           "color": "red"
          },
          "type": "line",
          "x0": 0,
          "x1": 1,
          "xref": "x domain",
          "y0": 500,
          "y1": 500,
          "yref": "y"
         }
        ],
        "template": {
         "data": {
          "bar": [
           {
            "error_x": {
             "color": "#2a3f5f"
            },
            "error_y": {
             "color": "#2a3f5f"
            },
            "marker": {
             "line": {
              "color": "#E5ECF6",
              "width": 0.5
             },
             "pattern": {
              "fillmode": "overlay",
              "size": 10,
              "solidity": 0.2
             }
            },
            "type": "bar"
           }
          ],
          "barpolar": [
           {
            "marker": {
             "line": {
              "color": "#E5ECF6",
              "width": 0.5
             },
             "pattern": {
              "fillmode": "overlay",
              "size": 10,
              "solidity": 0.2
             }
            },
            "type": "barpolar"
           }
          ],
          "carpet": [
           {
            "aaxis": {
             "endlinecolor": "#2a3f5f",
             "gridcolor": "white",
             "linecolor": "white",
             "minorgridcolor": "white",
             "startlinecolor": "#2a3f5f"
            },
            "baxis": {
             "endlinecolor": "#2a3f5f",
             "gridcolor": "white",
             "linecolor": "white",
             "minorgridcolor": "white",
             "startlinecolor": "#2a3f5f"
            },
            "type": "carpet"
           }
          ],
          "choropleth": [
           {
            "colorbar": {
             "outlinewidth": 0,
             "ticks": ""
            },
            "type": "choropleth"
           }
          ],
          "contour": [
           {
            "colorbar": {
             "outlinewidth": 0,
             "ticks": ""
            },
            "colorscale": [
             [
              0,
              "#0d0887"
             ],
             [
              0.1111111111111111,
              "#46039f"
             ],
             [
              0.2222222222222222,
              "#7201a8"
             ],
             [
              0.3333333333333333,
              "#9c179e"
             ],
             [
              0.4444444444444444,
              "#bd3786"
             ],
             [
              0.5555555555555556,
              "#d8576b"
             ],
             [
              0.6666666666666666,
              "#ed7953"
             ],
             [
              0.7777777777777778,
              "#fb9f3a"
             ],
             [
              0.8888888888888888,
              "#fdca26"
             ],
             [
              1,
              "#f0f921"
             ]
            ],
            "type": "contour"
           }
          ],
          "contourcarpet": [
           {
            "colorbar": {
             "outlinewidth": 0,
             "ticks": ""
            },
            "type": "contourcarpet"
           }
          ],
          "heatmap": [
           {
            "colorbar": {
             "outlinewidth": 0,
             "ticks": ""
            },
            "colorscale": [
             [
              0,
              "#0d0887"
             ],
             [
              0.1111111111111111,
              "#46039f"
             ],
             [
              0.2222222222222222,
              "#7201a8"
             ],
             [
              0.3333333333333333,
              "#9c179e"
             ],
             [
              0.4444444444444444,
              "#bd3786"
             ],
             [
              0.5555555555555556,
              "#d8576b"
             ],
             [
              0.6666666666666666,
              "#ed7953"
             ],
             [
              0.7777777777777778,
              "#fb9f3a"
             ],
             [
              0.8888888888888888,
              "#fdca26"
             ],
             [
              1,
              "#f0f921"
             ]
            ],
            "type": "heatmap"
           }
          ],
          "heatmapgl": [
           {
            "colorbar": {
             "outlinewidth": 0,
             "ticks": ""
            },
            "colorscale": [
             [
              0,
              "#0d0887"
             ],
             [
              0.1111111111111111,
              "#46039f"
             ],
             [
              0.2222222222222222,
              "#7201a8"
             ],
             [
              0.3333333333333333,
              "#9c179e"
             ],
             [
              0.4444444444444444,
              "#bd3786"
             ],
             [
              0.5555555555555556,
              "#d8576b"
             ],
             [
              0.6666666666666666,
              "#ed7953"
             ],
             [
              0.7777777777777778,
              "#fb9f3a"
             ],
             [
              0.8888888888888888,
              "#fdca26"
             ],
             [
              1,
              "#f0f921"
             ]
            ],
            "type": "heatmapgl"
           }
          ],
          "histogram": [
           {
            "marker": {
             "pattern": {
              "fillmode": "overlay",
              "size": 10,
              "solidity": 0.2
             }
            },
            "type": "histogram"
           }
          ],
          "histogram2d": [
           {
            "colorbar": {
             "outlinewidth": 0,
             "ticks": ""
            },
            "colorscale": [
             [
              0,
              "#0d0887"
             ],
             [
              0.1111111111111111,
              "#46039f"
             ],
             [
              0.2222222222222222,
              "#7201a8"
             ],
             [
              0.3333333333333333,
              "#9c179e"
             ],
             [
              0.4444444444444444,
              "#bd3786"
             ],
             [
              0.5555555555555556,
              "#d8576b"
             ],
             [
              0.6666666666666666,
              "#ed7953"
             ],
             [
              0.7777777777777778,
              "#fb9f3a"
             ],
             [
              0.8888888888888888,
              "#fdca26"
             ],
             [
              1,
              "#f0f921"
             ]
            ],
            "type": "histogram2d"
           }
          ],
          "histogram2dcontour": [
           {
            "colorbar": {
             "outlinewidth": 0,
             "ticks": ""
            },
            "colorscale": [
             [
              0,
              "#0d0887"
             ],
             [
              0.1111111111111111,
              "#46039f"
             ],
             [
              0.2222222222222222,
              "#7201a8"
             ],
             [
              0.3333333333333333,
              "#9c179e"
             ],
             [
              0.4444444444444444,
              "#bd3786"
             ],
             [
              0.5555555555555556,
              "#d8576b"
             ],
             [
              0.6666666666666666,
              "#ed7953"
             ],
             [
              0.7777777777777778,
              "#fb9f3a"
             ],
             [
              0.8888888888888888,
              "#fdca26"
             ],
             [
              1,
              "#f0f921"
             ]
            ],
            "type": "histogram2dcontour"
           }
          ],
          "mesh3d": [
           {
            "colorbar": {
             "outlinewidth": 0,
             "ticks": ""
            },
            "type": "mesh3d"
           }
          ],
          "parcoords": [
           {
            "line": {
             "colorbar": {
              "outlinewidth": 0,
              "ticks": ""
             }
            },
            "type": "parcoords"
           }
          ],
          "pie": [
           {
            "automargin": true,
            "type": "pie"
           }
          ],
          "scatter": [
           {
            "marker": {
             "colorbar": {
              "outlinewidth": 0,
              "ticks": ""
             }
            },
            "type": "scatter"
           }
          ],
          "scatter3d": [
           {
            "line": {
             "colorbar": {
              "outlinewidth": 0,
              "ticks": ""
             }
            },
            "marker": {
             "colorbar": {
              "outlinewidth": 0,
              "ticks": ""
             }
            },
            "type": "scatter3d"
           }
          ],
          "scattercarpet": [
           {
            "marker": {
             "colorbar": {
              "outlinewidth": 0,
              "ticks": ""
             }
            },
            "type": "scattercarpet"
           }
          ],
          "scattergeo": [
           {
            "marker": {
             "colorbar": {
              "outlinewidth": 0,
              "ticks": ""
             }
            },
            "type": "scattergeo"
           }
          ],
          "scattergl": [
           {
            "marker": {
             "colorbar": {
              "outlinewidth": 0,
              "ticks": ""
             }
            },
            "type": "scattergl"
           }
          ],
          "scattermapbox": [
           {
            "marker": {
             "colorbar": {
              "outlinewidth": 0,
              "ticks": ""
             }
            },
            "type": "scattermapbox"
           }
          ],
          "scatterpolar": [
           {
            "marker": {
             "colorbar": {
              "outlinewidth": 0,
              "ticks": ""
             }
            },
            "type": "scatterpolar"
           }
          ],
          "scatterpolargl": [
           {
            "marker": {
             "colorbar": {
              "outlinewidth": 0,
              "ticks": ""
             }
            },
            "type": "scatterpolargl"
           }
          ],
          "scatterternary": [
           {
            "marker": {
             "colorbar": {
              "outlinewidth": 0,
              "ticks": ""
             }
            },
            "type": "scatterternary"
           }
          ],
          "surface": [
           {
            "colorbar": {
             "outlinewidth": 0,
             "ticks": ""
            },
            "colorscale": [
             [
              0,
              "#0d0887"
             ],
             [
              0.1111111111111111,
              "#46039f"
             ],
             [
              0.2222222222222222,
              "#7201a8"
             ],
             [
              0.3333333333333333,
              "#9c179e"
             ],
             [
              0.4444444444444444,
              "#bd3786"
             ],
             [
              0.5555555555555556,
              "#d8576b"
             ],
             [
              0.6666666666666666,
              "#ed7953"
             ],
             [
              0.7777777777777778,
              "#fb9f3a"
             ],
             [
              0.8888888888888888,
              "#fdca26"
             ],
             [
              1,
              "#f0f921"
             ]
            ],
            "type": "surface"
           }
          ],
          "table": [
           {
            "cells": {
             "fill": {
              "color": "#EBF0F8"
             },
             "line": {
              "color": "white"
             }
            },
            "header": {
             "fill": {
              "color": "#C8D4E3"
             },
             "line": {
              "color": "white"
             }
            },
            "type": "table"
           }
          ]
         },
         "layout": {
          "annotationdefaults": {
           "arrowcolor": "#2a3f5f",
           "arrowhead": 0,
           "arrowwidth": 1
          },
          "autotypenumbers": "strict",
          "coloraxis": {
           "colorbar": {
            "outlinewidth": 0,
            "ticks": ""
           }
          },
          "colorscale": {
           "diverging": [
            [
             0,
             "#8e0152"
            ],
            [
             0.1,
             "#c51b7d"
            ],
            [
             0.2,
             "#de77ae"
            ],
            [
             0.3,
             "#f1b6da"
            ],
            [
             0.4,
             "#fde0ef"
            ],
            [
             0.5,
             "#f7f7f7"
            ],
            [
             0.6,
             "#e6f5d0"
            ],
            [
             0.7,
             "#b8e186"
            ],
            [
             0.8,
             "#7fbc41"
            ],
            [
             0.9,
             "#4d9221"
            ],
            [
             1,
             "#276419"
            ]
           ],
           "sequential": [
            [
             0,
             "#0d0887"
            ],
            [
             0.1111111111111111,
             "#46039f"
            ],
            [
             0.2222222222222222,
             "#7201a8"
            ],
            [
             0.3333333333333333,
             "#9c179e"
            ],
            [
             0.4444444444444444,
             "#bd3786"
            ],
            [
             0.5555555555555556,
             "#d8576b"
            ],
            [
             0.6666666666666666,
             "#ed7953"
            ],
            [
             0.7777777777777778,
             "#fb9f3a"
            ],
            [
             0.8888888888888888,
             "#fdca26"
            ],
            [
             1,
             "#f0f921"
            ]
           ],
           "sequentialminus": [
            [
             0,
             "#0d0887"
            ],
            [
             0.1111111111111111,
             "#46039f"
            ],
            [
             0.2222222222222222,
             "#7201a8"
            ],
            [
             0.3333333333333333,
             "#9c179e"
            ],
            [
             0.4444444444444444,
             "#bd3786"
            ],
            [
             0.5555555555555556,
             "#d8576b"
            ],
            [
             0.6666666666666666,
             "#ed7953"
            ],
            [
             0.7777777777777778,
             "#fb9f3a"
            ],
            [
             0.8888888888888888,
             "#fdca26"
            ],
            [
             1,
             "#f0f921"
            ]
           ]
          },
          "colorway": [
           "#636efa",
           "#EF553B",
           "#00cc96",
           "#ab63fa",
           "#FFA15A",
           "#19d3f3",
           "#FF6692",
           "#B6E880",
           "#FF97FF",
           "#FECB52"
          ],
          "font": {
           "color": "#2a3f5f"
          },
          "geo": {
           "bgcolor": "white",
           "lakecolor": "white",
           "landcolor": "#E5ECF6",
           "showlakes": true,
           "showland": true,
           "subunitcolor": "white"
          },
          "hoverlabel": {
           "align": "left"
          },
          "hovermode": "closest",
          "mapbox": {
           "style": "light"
          },
          "paper_bgcolor": "white",
          "plot_bgcolor": "#E5ECF6",
          "polar": {
           "angularaxis": {
            "gridcolor": "white",
            "linecolor": "white",
            "ticks": ""
           },
           "bgcolor": "#E5ECF6",
           "radialaxis": {
            "gridcolor": "white",
            "linecolor": "white",
            "ticks": ""
           }
          },
          "scene": {
           "xaxis": {
            "backgroundcolor": "#E5ECF6",
            "gridcolor": "white",
            "gridwidth": 2,
            "linecolor": "white",
            "showbackground": true,
            "ticks": "",
            "zerolinecolor": "white"
           },
           "yaxis": {
            "backgroundcolor": "#E5ECF6",
            "gridcolor": "white",
            "gridwidth": 2,
            "linecolor": "white",
            "showbackground": true,
            "ticks": "",
            "zerolinecolor": "white"
           },
           "zaxis": {
            "backgroundcolor": "#E5ECF6",
            "gridcolor": "white",
            "gridwidth": 2,
            "linecolor": "white",
            "showbackground": true,
            "ticks": "",
            "zerolinecolor": "white"
           }
          },
          "shapedefaults": {
           "line": {
            "color": "#2a3f5f"
           }
          },
          "ternary": {
           "aaxis": {
            "gridcolor": "white",
            "linecolor": "white",
            "ticks": ""
           },
           "baxis": {
            "gridcolor": "white",
            "linecolor": "white",
            "ticks": ""
           },
           "bgcolor": "#E5ECF6",
           "caxis": {
            "gridcolor": "white",
            "linecolor": "white",
            "ticks": ""
           }
          },
          "title": {
           "x": 0.05
          },
          "xaxis": {
           "automargin": true,
           "gridcolor": "white",
           "linecolor": "white",
           "ticks": "",
           "title": {
            "standoff": 15
           },
           "zerolinecolor": "white",
           "zerolinewidth": 2
          },
          "yaxis": {
           "automargin": true,
           "gridcolor": "white",
           "linecolor": "white",
           "ticks": "",
           "title": {
            "standoff": 15
           },
           "zerolinecolor": "white",
           "zerolinewidth": 2
          }
         }
        },
        "xaxis": {
         "anchor": "y",
         "domain": [
          0,
          1
         ],
         "title": {
          "text": "x"
         }
        },
        "yaxis": {
         "anchor": "x",
         "domain": [
          0,
          1
         ],
         "title": {
          "text": "50"
         }
        }
       }
      }
     },
     "metadata": {},
     "output_type": "display_data"
    }
   ],
   "source": [
    "df_check = df_valid_users['50'].to_frame()\n",
    "df_check.sort_values(by = '50', inplace=True)\n",
    "fig = px.line(df_check, x = range(df_check.shape[0]), y = '50')\n",
    "fig.add_hline(500, line_color = 'red')\n",
    "fig.show()"
   ]
  },
  {
   "cell_type": "code",
   "execution_count": 33,
   "metadata": {},
   "outputs": [],
   "source": [
    "max_time_to_rate = 500\n",
    "df_valid_users = df_valid_users[(df_valid_users['50'] < max_time_to_rate)]"
   ]
  },
  {
   "cell_type": "code",
   "execution_count": 34,
   "metadata": {},
   "outputs": [
    {
     "data": {
      "application/vnd.plotly.v1+json": {
       "config": {
        "plotlyServerURL": "https://plot.ly"
       },
       "data": [
        {
         "hovertemplate": "x=%{x}<br>450=%{y}<extra></extra>",
         "legendgroup": "",
         "line": {
          "color": "#636efa",
          "dash": "solid"
         },
         "marker": {
          "symbol": "circle"
         },
         "mode": "lines",
         "name": "",
         "orientation": "v",
         "showlegend": false,
         "type": "scatter",
         "x": [
          0,
          1,
          2,
          3,
          4,
          5,
          6,
          7,
          8,
          9,
          10,
          11,
          12,
          13,
          14,
          15,
          16,
          17,
          18,
          19,
          20,
          21,
          22,
          23,
          24,
          25,
          26,
          27,
          28,
          29,
          30,
          31,
          32,
          33,
          34,
          35,
          36,
          37,
          38,
          39,
          40,
          41,
          42,
          43,
          44,
          45,
          46,
          47,
          48,
          49,
          50,
          51,
          52,
          53,
          54,
          55,
          56,
          57,
          58,
          59,
          60,
          61,
          62,
          63,
          64,
          65,
          66,
          67,
          68,
          69,
          70,
          71,
          72,
          73,
          74,
          75,
          76,
          77,
          78,
          79,
          80,
          81,
          82,
          83,
          84,
          85,
          86,
          87,
          88,
          89,
          90,
          91,
          92,
          93,
          94,
          95,
          96,
          97,
          98,
          99,
          100,
          101,
          102,
          103,
          104,
          105,
          106,
          107,
          108,
          109,
          110,
          111,
          112,
          113,
          114,
          115,
          116,
          117,
          118,
          119,
          120,
          121,
          122,
          123,
          124,
          125,
          126,
          127,
          128,
          129,
          130,
          131,
          132,
          133,
          134,
          135,
          136,
          137,
          138,
          139,
          140,
          141,
          142,
          143,
          144,
          145,
          146,
          147,
          148,
          149,
          150,
          151,
          152,
          153,
          154,
          155,
          156,
          157,
          158,
          159,
          160,
          161,
          162,
          163,
          164,
          165,
          166,
          167,
          168,
          169,
          170,
          171,
          172,
          173,
          174,
          175,
          176,
          177,
          178,
          179,
          180,
          181,
          182,
          183,
          184,
          185,
          186,
          187,
          188,
          189,
          190,
          191,
          192,
          193,
          194,
          195,
          196,
          197,
          198,
          199,
          200,
          201,
          202,
          203,
          204,
          205,
          206,
          207,
          208,
          209,
          210,
          211,
          212,
          213,
          214,
          215,
          216,
          217,
          218,
          219,
          220,
          221,
          222,
          223,
          224,
          225,
          226,
          227,
          228,
          229,
          230,
          231,
          232,
          233,
          234,
          235,
          236,
          237,
          238,
          239,
          240,
          241,
          242,
          243,
          244,
          245,
          246,
          247,
          248,
          249,
          250,
          251,
          252,
          253,
          254,
          255,
          256,
          257,
          258,
          259,
          260,
          261,
          262,
          263,
          264,
          265,
          266,
          267,
          268,
          269,
          270,
          271,
          272,
          273,
          274,
          275,
          276,
          277,
          278,
          279,
          280,
          281,
          282,
          283,
          284,
          285,
          286,
          287,
          288,
          289,
          290,
          291,
          292,
          293,
          294,
          295,
          296,
          297,
          298,
          299,
          300,
          301,
          302,
          303,
          304,
          305,
          306,
          307,
          308,
          309,
          310,
          311,
          312,
          313,
          314,
          315,
          316,
          317,
          318,
          319,
          320,
          321,
          322,
          323,
          324,
          325,
          326,
          327,
          328,
          329,
          330,
          331,
          332,
          333,
          334,
          335,
          336,
          337,
          338,
          339,
          340,
          341,
          342,
          343,
          344,
          345,
          346,
          347,
          348,
          349,
          350,
          351,
          352,
          353,
          354,
          355,
          356,
          357,
          358,
          359,
          360,
          361,
          362,
          363,
          364,
          365,
          366,
          367,
          368,
          369,
          370,
          371,
          372,
          373,
          374,
          375,
          376,
          377,
          378,
          379,
          380,
          381,
          382,
          383,
          384,
          385,
          386,
          387,
          388,
          389,
          390,
          391,
          392,
          393,
          394,
          395,
          396,
          397,
          398,
          399,
          400,
          401,
          402,
          403,
          404,
          405,
          406,
          407,
          408,
          409,
          410,
          411,
          412,
          413,
          414,
          415,
          416,
          417,
          418,
          419,
          420,
          421,
          422,
          423,
          424,
          425,
          426,
          427,
          428,
          429,
          430,
          431,
          432,
          433,
          434,
          435,
          436,
          437,
          438,
          439,
          440,
          441,
          442,
          443,
          444,
          445,
          446,
          447,
          448,
          449,
          450,
          451,
          452,
          453,
          454,
          455,
          456,
          457,
          458,
          459,
          460,
          461,
          462,
          463,
          464,
          465,
          466,
          467,
          468,
          469,
          470,
          471,
          472,
          473,
          474,
          475,
          476,
          477,
          478,
          479,
          480,
          481,
          482,
          483,
          484,
          485,
          486,
          487,
          488,
          489,
          490,
          491,
          492,
          493,
          494,
          495,
          496,
          497,
          498,
          499,
          500,
          501,
          502,
          503,
          504,
          505,
          506,
          507,
          508,
          509,
          510,
          511,
          512,
          513,
          514,
          515,
          516,
          517,
          518,
          519,
          520,
          521,
          522,
          523,
          524,
          525,
          526,
          527,
          528,
          529,
          530,
          531,
          532,
          533,
          534,
          535,
          536,
          537,
          538,
          539,
          540,
          541,
          542,
          543,
          544,
          545,
          546,
          547,
          548,
          549,
          550,
          551,
          552,
          553,
          554,
          555,
          556,
          557,
          558,
          559,
          560,
          561,
          562,
          563,
          564,
          565,
          566,
          567,
          568,
          569,
          570,
          571,
          572,
          573,
          574,
          575,
          576,
          577,
          578,
          579,
          580,
          581,
          582,
          583,
          584,
          585,
          586,
          587,
          588,
          589,
          590,
          591,
          592,
          593,
          594,
          595,
          596,
          597,
          598,
          599,
          600,
          601,
          602,
          603,
          604,
          605,
          606,
          607,
          608,
          609,
          610,
          611,
          612,
          613,
          614,
          615,
          616,
          617,
          618,
          619,
          620,
          621,
          622,
          623,
          624,
          625,
          626,
          627,
          628,
          629,
          630,
          631,
          632,
          633,
          634,
          635,
          636,
          637,
          638,
          639,
          640,
          641,
          642,
          643,
          644,
          645,
          646,
          647,
          648,
          649,
          650,
          651,
          652,
          653,
          654,
          655,
          656,
          657,
          658,
          659,
          660,
          661,
          662,
          663,
          664,
          665,
          666,
          667,
          668,
          669,
          670,
          671,
          672,
          673,
          674,
          675,
          676,
          677,
          678,
          679,
          680,
          681,
          682,
          683,
          684,
          685,
          686,
          687,
          688,
          689,
          690,
          691,
          692,
          693,
          694,
          695,
          696,
          697,
          698,
          699,
          700,
          701,
          702,
          703,
          704,
          705,
          706,
          707,
          708,
          709,
          710,
          711,
          712,
          713,
          714,
          715,
          716,
          717,
          718,
          719,
          720,
          721,
          722,
          723,
          724,
          725,
          726,
          727,
          728,
          729,
          730,
          731,
          732,
          733,
          734,
          735,
          736,
          737,
          738,
          739,
          740,
          741,
          742,
          743,
          744,
          745,
          746,
          747,
          748,
          749,
          750,
          751,
          752,
          753,
          754,
          755,
          756,
          757,
          758,
          759,
          760,
          761,
          762,
          763,
          764,
          765,
          766,
          767,
          768,
          769,
          770,
          771,
          772,
          773,
          774,
          775,
          776,
          777,
          778,
          779,
          780,
          781,
          782,
          783,
          784,
          785,
          786,
          787,
          788,
          789,
          790,
          791,
          792,
          793,
          794,
          795,
          796,
          797,
          798,
          799,
          800,
          801,
          802,
          803,
          804,
          805,
          806,
          807,
          808,
          809,
          810,
          811,
          812,
          813,
          814,
          815,
          816,
          817,
          818,
          819,
          820,
          821,
          822,
          823,
          824,
          825,
          826,
          827,
          828,
          829,
          830,
          831,
          832,
          833,
          834,
          835,
          836,
          837,
          838,
          839,
          840,
          841,
          842,
          843,
          844,
          845,
          846,
          847,
          848,
          849,
          850,
          851,
          852,
          853,
          854,
          855,
          856,
          857,
          858,
          859,
          860,
          861,
          862,
          863,
          864,
          865,
          866,
          867,
          868,
          869,
          870,
          871,
          872,
          873,
          874,
          875,
          876,
          877,
          878,
          879,
          880,
          881,
          882,
          883,
          884,
          885,
          886,
          887,
          888,
          889,
          890,
          891,
          892,
          893,
          894,
          895,
          896,
          897,
          898,
          899,
          900,
          901,
          902,
          903,
          904,
          905,
          906,
          907,
          908,
          909,
          910,
          911,
          912,
          913,
          914,
          915,
          916,
          917,
          918,
          919,
          920,
          921,
          922,
          923,
          924,
          925,
          926,
          927,
          928,
          929,
          930,
          931,
          932,
          933,
          934,
          935,
          936,
          937,
          938,
          939,
          940,
          941,
          942,
          943,
          944,
          945,
          946,
          947,
          948,
          949,
          950,
          951,
          952,
          953,
          954,
          955,
          956,
          957,
          958,
          959,
          960,
          961,
          962,
          963,
          964,
          965,
          966,
          967,
          968,
          969,
          970,
          971,
          972,
          973,
          974,
          975,
          976,
          977,
          978,
          979,
          980,
          981,
          982,
          983,
          984,
          985,
          986,
          987,
          988,
          989
         ],
         "xaxis": "x",
         "y": [
          0,
          2,
          8,
          11,
          12,
          12,
          15,
          17,
          20,
          20,
          22,
          22,
          22,
          22,
          23,
          23,
          24,
          25,
          25,
          26,
          26,
          26,
          26,
          26,
          27,
          27,
          27,
          27,
          27,
          27,
          28,
          28,
          28,
          28,
          28,
          29,
          29,
          29,
          29,
          29,
          30,
          30,
          30,
          30,
          31,
          31,
          31,
          31,
          31,
          31,
          32,
          32,
          32,
          32,
          33,
          33,
          33,
          33,
          33,
          33,
          33,
          34,
          34,
          34,
          34,
          34,
          34,
          34,
          34,
          35,
          35,
          35,
          35,
          35,
          35,
          35,
          35,
          35,
          35,
          36,
          36,
          36,
          36,
          36,
          36,
          37,
          37,
          37,
          37,
          37,
          38,
          38,
          38,
          38,
          38,
          38,
          38,
          38,
          38,
          39,
          39,
          39,
          39,
          39,
          39,
          40,
          40,
          40,
          40,
          40,
          40,
          41,
          41,
          41,
          41,
          41,
          41,
          41,
          42,
          42,
          42,
          42,
          42,
          42,
          42,
          43,
          43,
          43,
          43,
          43,
          43,
          43,
          43,
          43,
          43,
          43,
          44,
          44,
          44,
          44,
          44,
          44,
          44,
          44,
          44,
          45,
          45,
          45,
          45,
          45,
          45,
          45,
          45,
          45,
          46,
          46,
          46,
          46,
          46,
          46,
          46,
          46,
          46,
          46,
          47,
          47,
          47,
          47,
          47,
          47,
          47,
          47,
          47,
          47,
          47,
          47,
          47,
          48,
          48,
          48,
          48,
          48,
          48,
          48,
          49,
          49,
          49,
          49,
          49,
          49,
          49,
          49,
          49,
          49,
          49,
          49,
          49,
          49,
          49,
          49,
          49,
          50,
          50,
          50,
          51,
          51,
          51,
          51,
          51,
          51,
          51,
          51,
          51,
          51,
          52,
          52,
          52,
          52,
          52,
          52,
          53,
          53,
          53,
          53,
          53,
          53,
          53,
          53,
          53,
          53,
          53,
          54,
          54,
          54,
          54,
          54,
          54,
          54,
          54,
          54,
          54,
          55,
          55,
          55,
          55,
          55,
          55,
          55,
          55,
          55,
          55,
          55,
          56,
          56,
          56,
          56,
          56,
          56,
          56,
          56,
          56,
          56,
          56,
          57,
          57,
          57,
          57,
          57,
          57,
          57,
          57,
          57,
          57,
          57,
          58,
          58,
          58,
          58,
          58,
          58,
          58,
          58,
          58,
          58,
          59,
          59,
          59,
          59,
          59,
          59,
          59,
          59,
          59,
          59,
          60,
          60,
          60,
          60,
          60,
          61,
          62,
          62,
          62,
          62,
          62,
          62,
          62,
          62,
          63,
          63,
          63,
          63,
          63,
          63,
          63,
          63,
          63,
          63,
          63,
          64,
          64,
          64,
          64,
          64,
          64,
          64,
          64,
          65,
          65,
          65,
          65,
          65,
          65,
          65,
          66,
          66,
          66,
          66,
          66,
          66,
          66,
          67,
          67,
          67,
          67,
          68,
          68,
          68,
          68,
          68,
          68,
          69,
          69,
          69,
          69,
          69,
          69,
          69,
          69,
          69,
          69,
          70,
          70,
          70,
          70,
          70,
          70,
          70,
          70,
          70,
          71,
          71,
          71,
          71,
          71,
          71,
          71,
          71,
          71,
          71,
          71,
          71,
          71,
          72,
          72,
          72,
          72,
          72,
          72,
          72,
          72,
          72,
          72,
          73,
          73,
          73,
          73,
          73,
          73,
          74,
          74,
          74,
          74,
          74,
          74,
          74,
          75,
          75,
          75,
          75,
          75,
          75,
          75,
          75,
          76,
          76,
          76,
          76,
          76,
          76,
          76,
          76,
          76,
          76,
          76,
          76,
          76,
          76,
          76,
          77,
          77,
          77,
          77,
          77,
          78,
          78,
          78,
          78,
          78,
          78,
          78,
          79,
          79,
          79,
          79,
          79,
          79,
          79,
          79,
          80,
          80,
          81,
          81,
          81,
          81,
          81,
          81,
          81,
          81,
          82,
          82,
          82,
          82,
          83,
          83,
          83,
          83,
          83,
          83,
          83,
          84,
          84,
          84,
          84,
          84,
          85,
          85,
          85,
          85,
          85,
          85,
          85,
          86,
          86,
          86,
          86,
          86,
          86,
          86,
          87,
          87,
          87,
          87,
          87,
          87,
          87,
          87,
          87,
          88,
          88,
          88,
          88,
          88,
          88,
          89,
          89,
          89,
          89,
          89,
          90,
          90,
          90,
          90,
          90,
          90,
          90,
          90,
          90,
          90,
          91,
          91,
          91,
          91,
          91,
          91,
          91,
          92,
          92,
          92,
          92,
          92,
          92,
          92,
          92,
          92,
          93,
          93,
          93,
          93,
          93,
          93,
          93,
          93,
          94,
          94,
          95,
          95,
          95,
          95,
          95,
          96,
          96,
          96,
          96,
          97,
          97,
          97,
          97,
          98,
          98,
          98,
          98,
          98,
          98,
          99,
          99,
          99,
          99,
          99,
          100,
          100,
          101,
          101,
          101,
          101,
          101,
          101,
          101,
          101,
          102,
          102,
          102,
          103,
          103,
          103,
          103,
          103,
          103,
          104,
          104,
          105,
          105,
          106,
          106,
          106,
          106,
          107,
          107,
          108,
          109,
          109,
          109,
          110,
          110,
          111,
          111,
          111,
          112,
          112,
          112,
          112,
          112,
          112,
          113,
          113,
          113,
          113,
          113,
          113,
          113,
          113,
          114,
          114,
          114,
          114,
          115,
          115,
          116,
          116,
          116,
          116,
          117,
          117,
          117,
          117,
          117,
          117,
          117,
          118,
          118,
          118,
          118,
          118,
          118,
          119,
          119,
          119,
          119,
          119,
          119,
          119,
          119,
          119,
          119,
          120,
          120,
          120,
          120,
          120,
          120,
          121,
          121,
          121,
          121,
          121,
          121,
          121,
          121,
          122,
          122,
          123,
          124,
          125,
          125,
          125,
          125,
          125,
          125,
          126,
          126,
          126,
          127,
          127,
          127,
          128,
          129,
          129,
          131,
          131,
          131,
          131,
          131,
          131,
          132,
          132,
          132,
          132,
          133,
          133,
          134,
          134,
          134,
          134,
          134,
          134,
          135,
          135,
          135,
          135,
          135,
          136,
          136,
          136,
          137,
          137,
          138,
          139,
          139,
          140,
          140,
          140,
          140,
          140,
          141,
          142,
          142,
          142,
          143,
          143,
          143,
          144,
          144,
          144,
          144,
          144,
          145,
          145,
          146,
          147,
          147,
          147,
          148,
          148,
          148,
          148,
          149,
          150,
          150,
          150,
          150,
          151,
          151,
          151,
          151,
          152,
          153,
          153,
          153,
          153,
          153,
          153,
          154,
          154,
          154,
          154,
          154,
          156,
          158,
          158,
          158,
          159,
          159,
          160,
          160,
          161,
          161,
          161,
          161,
          162,
          162,
          162,
          162,
          163,
          163,
          163,
          166,
          166,
          166,
          167,
          168,
          168,
          169,
          169,
          169,
          169,
          169,
          169,
          170,
          175,
          175,
          176,
          177,
          178,
          179,
          180,
          181,
          182,
          182,
          183,
          183,
          183,
          184,
          185,
          187,
          188,
          188,
          189,
          189,
          189,
          190,
          191,
          191,
          192,
          192,
          193,
          193,
          194,
          194,
          195,
          195,
          196,
          196,
          197,
          199,
          199,
          201,
          203,
          203,
          204,
          206,
          207,
          208,
          209,
          211,
          211,
          213,
          215,
          216,
          217,
          218,
          218,
          219,
          219,
          219,
          220,
          222,
          222,
          223,
          225,
          226,
          227,
          228,
          228,
          228,
          229,
          231,
          231,
          231,
          231,
          232,
          232,
          232,
          235,
          236,
          238,
          238,
          239,
          239,
          239,
          241,
          241,
          242,
          242,
          244,
          247,
          247,
          247,
          250,
          251,
          259,
          261,
          261,
          262,
          263,
          263,
          263,
          263,
          266,
          266,
          267,
          267,
          267,
          267,
          268,
          271,
          272,
          272,
          273,
          273,
          276,
          277,
          277,
          281,
          281,
          283,
          287,
          289,
          290,
          292,
          293,
          293,
          294,
          295,
          296,
          296,
          302,
          306,
          309,
          314,
          316,
          316,
          316,
          318,
          321,
          322,
          323,
          323,
          325,
          325,
          328,
          330,
          334,
          335,
          338,
          345,
          345,
          350,
          354,
          354,
          356,
          365,
          365,
          371,
          382,
          388,
          392,
          396,
          410,
          420,
          422,
          426,
          440,
          442,
          458,
          458,
          466,
          467,
          476,
          485,
          488,
          525,
          534,
          553,
          562,
          648,
          653,
          663,
          712,
          718,
          835,
          835,
          859,
          876,
          889,
          1042,
          1051,
          1063,
          1082,
          1302,
          1543
         ],
         "yaxis": "y"
        }
       ],
       "layout": {
        "legend": {
         "tracegroupgap": 0
        },
        "margin": {
         "t": 60
        },
        "shapes": [
         {
          "line": {
           "color": "red"
          },
          "type": "line",
          "x0": 0,
          "x1": 1,
          "xref": "x domain",
          "y0": 500,
          "y1": 500,
          "yref": "y"
         }
        ],
        "template": {
         "data": {
          "bar": [
           {
            "error_x": {
             "color": "#2a3f5f"
            },
            "error_y": {
             "color": "#2a3f5f"
            },
            "marker": {
             "line": {
              "color": "#E5ECF6",
              "width": 0.5
             },
             "pattern": {
              "fillmode": "overlay",
              "size": 10,
              "solidity": 0.2
             }
            },
            "type": "bar"
           }
          ],
          "barpolar": [
           {
            "marker": {
             "line": {
              "color": "#E5ECF6",
              "width": 0.5
             },
             "pattern": {
              "fillmode": "overlay",
              "size": 10,
              "solidity": 0.2
             }
            },
            "type": "barpolar"
           }
          ],
          "carpet": [
           {
            "aaxis": {
             "endlinecolor": "#2a3f5f",
             "gridcolor": "white",
             "linecolor": "white",
             "minorgridcolor": "white",
             "startlinecolor": "#2a3f5f"
            },
            "baxis": {
             "endlinecolor": "#2a3f5f",
             "gridcolor": "white",
             "linecolor": "white",
             "minorgridcolor": "white",
             "startlinecolor": "#2a3f5f"
            },
            "type": "carpet"
           }
          ],
          "choropleth": [
           {
            "colorbar": {
             "outlinewidth": 0,
             "ticks": ""
            },
            "type": "choropleth"
           }
          ],
          "contour": [
           {
            "colorbar": {
             "outlinewidth": 0,
             "ticks": ""
            },
            "colorscale": [
             [
              0,
              "#0d0887"
             ],
             [
              0.1111111111111111,
              "#46039f"
             ],
             [
              0.2222222222222222,
              "#7201a8"
             ],
             [
              0.3333333333333333,
              "#9c179e"
             ],
             [
              0.4444444444444444,
              "#bd3786"
             ],
             [
              0.5555555555555556,
              "#d8576b"
             ],
             [
              0.6666666666666666,
              "#ed7953"
             ],
             [
              0.7777777777777778,
              "#fb9f3a"
             ],
             [
              0.8888888888888888,
              "#fdca26"
             ],
             [
              1,
              "#f0f921"
             ]
            ],
            "type": "contour"
           }
          ],
          "contourcarpet": [
           {
            "colorbar": {
             "outlinewidth": 0,
             "ticks": ""
            },
            "type": "contourcarpet"
           }
          ],
          "heatmap": [
           {
            "colorbar": {
             "outlinewidth": 0,
             "ticks": ""
            },
            "colorscale": [
             [
              0,
              "#0d0887"
             ],
             [
              0.1111111111111111,
              "#46039f"
             ],
             [
              0.2222222222222222,
              "#7201a8"
             ],
             [
              0.3333333333333333,
              "#9c179e"
             ],
             [
              0.4444444444444444,
              "#bd3786"
             ],
             [
              0.5555555555555556,
              "#d8576b"
             ],
             [
              0.6666666666666666,
              "#ed7953"
             ],
             [
              0.7777777777777778,
              "#fb9f3a"
             ],
             [
              0.8888888888888888,
              "#fdca26"
             ],
             [
              1,
              "#f0f921"
             ]
            ],
            "type": "heatmap"
           }
          ],
          "heatmapgl": [
           {
            "colorbar": {
             "outlinewidth": 0,
             "ticks": ""
            },
            "colorscale": [
             [
              0,
              "#0d0887"
             ],
             [
              0.1111111111111111,
              "#46039f"
             ],
             [
              0.2222222222222222,
              "#7201a8"
             ],
             [
              0.3333333333333333,
              "#9c179e"
             ],
             [
              0.4444444444444444,
              "#bd3786"
             ],
             [
              0.5555555555555556,
              "#d8576b"
             ],
             [
              0.6666666666666666,
              "#ed7953"
             ],
             [
              0.7777777777777778,
              "#fb9f3a"
             ],
             [
              0.8888888888888888,
              "#fdca26"
             ],
             [
              1,
              "#f0f921"
             ]
            ],
            "type": "heatmapgl"
           }
          ],
          "histogram": [
           {
            "marker": {
             "pattern": {
              "fillmode": "overlay",
              "size": 10,
              "solidity": 0.2
             }
            },
            "type": "histogram"
           }
          ],
          "histogram2d": [
           {
            "colorbar": {
             "outlinewidth": 0,
             "ticks": ""
            },
            "colorscale": [
             [
              0,
              "#0d0887"
             ],
             [
              0.1111111111111111,
              "#46039f"
             ],
             [
              0.2222222222222222,
              "#7201a8"
             ],
             [
              0.3333333333333333,
              "#9c179e"
             ],
             [
              0.4444444444444444,
              "#bd3786"
             ],
             [
              0.5555555555555556,
              "#d8576b"
             ],
             [
              0.6666666666666666,
              "#ed7953"
             ],
             [
              0.7777777777777778,
              "#fb9f3a"
             ],
             [
              0.8888888888888888,
              "#fdca26"
             ],
             [
              1,
              "#f0f921"
             ]
            ],
            "type": "histogram2d"
           }
          ],
          "histogram2dcontour": [
           {
            "colorbar": {
             "outlinewidth": 0,
             "ticks": ""
            },
            "colorscale": [
             [
              0,
              "#0d0887"
             ],
             [
              0.1111111111111111,
              "#46039f"
             ],
             [
              0.2222222222222222,
              "#7201a8"
             ],
             [
              0.3333333333333333,
              "#9c179e"
             ],
             [
              0.4444444444444444,
              "#bd3786"
             ],
             [
              0.5555555555555556,
              "#d8576b"
             ],
             [
              0.6666666666666666,
              "#ed7953"
             ],
             [
              0.7777777777777778,
              "#fb9f3a"
             ],
             [
              0.8888888888888888,
              "#fdca26"
             ],
             [
              1,
              "#f0f921"
             ]
            ],
            "type": "histogram2dcontour"
           }
          ],
          "mesh3d": [
           {
            "colorbar": {
             "outlinewidth": 0,
             "ticks": ""
            },
            "type": "mesh3d"
           }
          ],
          "parcoords": [
           {
            "line": {
             "colorbar": {
              "outlinewidth": 0,
              "ticks": ""
             }
            },
            "type": "parcoords"
           }
          ],
          "pie": [
           {
            "automargin": true,
            "type": "pie"
           }
          ],
          "scatter": [
           {
            "marker": {
             "colorbar": {
              "outlinewidth": 0,
              "ticks": ""
             }
            },
            "type": "scatter"
           }
          ],
          "scatter3d": [
           {
            "line": {
             "colorbar": {
              "outlinewidth": 0,
              "ticks": ""
             }
            },
            "marker": {
             "colorbar": {
              "outlinewidth": 0,
              "ticks": ""
             }
            },
            "type": "scatter3d"
           }
          ],
          "scattercarpet": [
           {
            "marker": {
             "colorbar": {
              "outlinewidth": 0,
              "ticks": ""
             }
            },
            "type": "scattercarpet"
           }
          ],
          "scattergeo": [
           {
            "marker": {
             "colorbar": {
              "outlinewidth": 0,
              "ticks": ""
             }
            },
            "type": "scattergeo"
           }
          ],
          "scattergl": [
           {
            "marker": {
             "colorbar": {
              "outlinewidth": 0,
              "ticks": ""
             }
            },
            "type": "scattergl"
           }
          ],
          "scattermapbox": [
           {
            "marker": {
             "colorbar": {
              "outlinewidth": 0,
              "ticks": ""
             }
            },
            "type": "scattermapbox"
           }
          ],
          "scatterpolar": [
           {
            "marker": {
             "colorbar": {
              "outlinewidth": 0,
              "ticks": ""
             }
            },
            "type": "scatterpolar"
           }
          ],
          "scatterpolargl": [
           {
            "marker": {
             "colorbar": {
              "outlinewidth": 0,
              "ticks": ""
             }
            },
            "type": "scatterpolargl"
           }
          ],
          "scatterternary": [
           {
            "marker": {
             "colorbar": {
              "outlinewidth": 0,
              "ticks": ""
             }
            },
            "type": "scatterternary"
           }
          ],
          "surface": [
           {
            "colorbar": {
             "outlinewidth": 0,
             "ticks": ""
            },
            "colorscale": [
             [
              0,
              "#0d0887"
             ],
             [
              0.1111111111111111,
              "#46039f"
             ],
             [
              0.2222222222222222,
              "#7201a8"
             ],
             [
              0.3333333333333333,
              "#9c179e"
             ],
             [
              0.4444444444444444,
              "#bd3786"
             ],
             [
              0.5555555555555556,
              "#d8576b"
             ],
             [
              0.6666666666666666,
              "#ed7953"
             ],
             [
              0.7777777777777778,
              "#fb9f3a"
             ],
             [
              0.8888888888888888,
              "#fdca26"
             ],
             [
              1,
              "#f0f921"
             ]
            ],
            "type": "surface"
           }
          ],
          "table": [
           {
            "cells": {
             "fill": {
              "color": "#EBF0F8"
             },
             "line": {
              "color": "white"
             }
            },
            "header": {
             "fill": {
              "color": "#C8D4E3"
             },
             "line": {
              "color": "white"
             }
            },
            "type": "table"
           }
          ]
         },
         "layout": {
          "annotationdefaults": {
           "arrowcolor": "#2a3f5f",
           "arrowhead": 0,
           "arrowwidth": 1
          },
          "autotypenumbers": "strict",
          "coloraxis": {
           "colorbar": {
            "outlinewidth": 0,
            "ticks": ""
           }
          },
          "colorscale": {
           "diverging": [
            [
             0,
             "#8e0152"
            ],
            [
             0.1,
             "#c51b7d"
            ],
            [
             0.2,
             "#de77ae"
            ],
            [
             0.3,
             "#f1b6da"
            ],
            [
             0.4,
             "#fde0ef"
            ],
            [
             0.5,
             "#f7f7f7"
            ],
            [
             0.6,
             "#e6f5d0"
            ],
            [
             0.7,
             "#b8e186"
            ],
            [
             0.8,
             "#7fbc41"
            ],
            [
             0.9,
             "#4d9221"
            ],
            [
             1,
             "#276419"
            ]
           ],
           "sequential": [
            [
             0,
             "#0d0887"
            ],
            [
             0.1111111111111111,
             "#46039f"
            ],
            [
             0.2222222222222222,
             "#7201a8"
            ],
            [
             0.3333333333333333,
             "#9c179e"
            ],
            [
             0.4444444444444444,
             "#bd3786"
            ],
            [
             0.5555555555555556,
             "#d8576b"
            ],
            [
             0.6666666666666666,
             "#ed7953"
            ],
            [
             0.7777777777777778,
             "#fb9f3a"
            ],
            [
             0.8888888888888888,
             "#fdca26"
            ],
            [
             1,
             "#f0f921"
            ]
           ],
           "sequentialminus": [
            [
             0,
             "#0d0887"
            ],
            [
             0.1111111111111111,
             "#46039f"
            ],
            [
             0.2222222222222222,
             "#7201a8"
            ],
            [
             0.3333333333333333,
             "#9c179e"
            ],
            [
             0.4444444444444444,
             "#bd3786"
            ],
            [
             0.5555555555555556,
             "#d8576b"
            ],
            [
             0.6666666666666666,
             "#ed7953"
            ],
            [
             0.7777777777777778,
             "#fb9f3a"
            ],
            [
             0.8888888888888888,
             "#fdca26"
            ],
            [
             1,
             "#f0f921"
            ]
           ]
          },
          "colorway": [
           "#636efa",
           "#EF553B",
           "#00cc96",
           "#ab63fa",
           "#FFA15A",
           "#19d3f3",
           "#FF6692",
           "#B6E880",
           "#FF97FF",
           "#FECB52"
          ],
          "font": {
           "color": "#2a3f5f"
          },
          "geo": {
           "bgcolor": "white",
           "lakecolor": "white",
           "landcolor": "#E5ECF6",
           "showlakes": true,
           "showland": true,
           "subunitcolor": "white"
          },
          "hoverlabel": {
           "align": "left"
          },
          "hovermode": "closest",
          "mapbox": {
           "style": "light"
          },
          "paper_bgcolor": "white",
          "plot_bgcolor": "#E5ECF6",
          "polar": {
           "angularaxis": {
            "gridcolor": "white",
            "linecolor": "white",
            "ticks": ""
           },
           "bgcolor": "#E5ECF6",
           "radialaxis": {
            "gridcolor": "white",
            "linecolor": "white",
            "ticks": ""
           }
          },
          "scene": {
           "xaxis": {
            "backgroundcolor": "#E5ECF6",
            "gridcolor": "white",
            "gridwidth": 2,
            "linecolor": "white",
            "showbackground": true,
            "ticks": "",
            "zerolinecolor": "white"
           },
           "yaxis": {
            "backgroundcolor": "#E5ECF6",
            "gridcolor": "white",
            "gridwidth": 2,
            "linecolor": "white",
            "showbackground": true,
            "ticks": "",
            "zerolinecolor": "white"
           },
           "zaxis": {
            "backgroundcolor": "#E5ECF6",
            "gridcolor": "white",
            "gridwidth": 2,
            "linecolor": "white",
            "showbackground": true,
            "ticks": "",
            "zerolinecolor": "white"
           }
          },
          "shapedefaults": {
           "line": {
            "color": "#2a3f5f"
           }
          },
          "ternary": {
           "aaxis": {
            "gridcolor": "white",
            "linecolor": "white",
            "ticks": ""
           },
           "baxis": {
            "gridcolor": "white",
            "linecolor": "white",
            "ticks": ""
           },
           "bgcolor": "#E5ECF6",
           "caxis": {
            "gridcolor": "white",
            "linecolor": "white",
            "ticks": ""
           }
          },
          "title": {
           "x": 0.05
          },
          "xaxis": {
           "automargin": true,
           "gridcolor": "white",
           "linecolor": "white",
           "ticks": "",
           "title": {
            "standoff": 15
           },
           "zerolinecolor": "white",
           "zerolinewidth": 2
          },
          "yaxis": {
           "automargin": true,
           "gridcolor": "white",
           "linecolor": "white",
           "ticks": "",
           "title": {
            "standoff": 15
           },
           "zerolinecolor": "white",
           "zerolinewidth": 2
          }
         }
        },
        "xaxis": {
         "anchor": "y",
         "domain": [
          0,
          1
         ],
         "title": {
          "text": "x"
         }
        },
        "yaxis": {
         "anchor": "x",
         "domain": [
          0,
          1
         ],
         "title": {
          "text": "450"
         }
        }
       }
      }
     },
     "metadata": {},
     "output_type": "display_data"
    }
   ],
   "source": [
    "df_check = df_valid_users['450'].to_frame()\n",
    "df_check.sort_values(by = '450', inplace=True)\n",
    "fig = px.line(df_check, x = range(df_check.shape[0]), y = '450')\n",
    "fig.add_hline(500, line_color = 'red')\n",
    "fig.show()"
   ]
  },
  {
   "cell_type": "code",
   "execution_count": 35,
   "metadata": {},
   "outputs": [],
   "source": [
    "# We recut at 500\n",
    "max_time_to_rate = 500\n",
    "df_valid_users = df_valid_users[(df_valid_users['450'] < max_time_to_rate)]"
   ]
  },
  {
   "cell_type": "code",
   "execution_count": 36,
   "metadata": {},
   "outputs": [],
   "source": [
    "# We have the final data set of users and the data set of their ratings\n",
    "\n",
    "valid_usernames = set(df_valid_users['user_name'])\n",
    "df_valid_ratings = df_us_ratings[df_us_ratings['user_name'].isin(valid_usernames)]"
   ]
  },
  {
   "cell_type": "code",
   "execution_count": 37,
   "metadata": {},
   "outputs": [
    {
     "data": {
      "text/html": [
       "<div>\n",
       "<style scoped>\n",
       "    .dataframe tbody tr th:only-of-type {\n",
       "        vertical-align: middle;\n",
       "    }\n",
       "\n",
       "    .dataframe tbody tr th {\n",
       "        vertical-align: top;\n",
       "    }\n",
       "\n",
       "    .dataframe thead th {\n",
       "        text-align: right;\n",
       "    }\n",
       "</style>\n",
       "<table border=\"1\" class=\"dataframe\">\n",
       "  <thead>\n",
       "    <tr style=\"text-align: right;\">\n",
       "      <th></th>\n",
       "      <th>nbr_ratings</th>\n",
       "      <th>nbr_reviews</th>\n",
       "      <th>user_id</th>\n",
       "      <th>user_name</th>\n",
       "      <th>joined</th>\n",
       "      <th>location</th>\n",
       "      <th>date_joined</th>\n",
       "      <th>active_days</th>\n",
       "      <th>delta_first_last</th>\n",
       "      <th>max_active_day</th>\n",
       "      <th>max_active_month</th>\n",
       "      <th>50</th>\n",
       "      <th>450</th>\n",
       "    </tr>\n",
       "  </thead>\n",
       "  <tbody>\n",
       "    <tr>\n",
       "      <th>2</th>\n",
       "      <td>585</td>\n",
       "      <td>389</td>\n",
       "      <td>ferrari29.320392</td>\n",
       "      <td>ferrari29</td>\n",
       "      <td>1.239790e+09</td>\n",
       "      <td>United States, Illinois</td>\n",
       "      <td>2009-04-15</td>\n",
       "      <td>202</td>\n",
       "      <td>1193</td>\n",
       "      <td>12</td>\n",
       "      <td>42</td>\n",
       "      <td>64</td>\n",
       "      <td>335</td>\n",
       "    </tr>\n",
       "    <tr>\n",
       "      <th>5</th>\n",
       "      <td>676</td>\n",
       "      <td>676</td>\n",
       "      <td>dodo2step.110880</td>\n",
       "      <td>Dodo2step</td>\n",
       "      <td>1.165576e+09</td>\n",
       "      <td>United States, Pennsylvania</td>\n",
       "      <td>2006-12-08</td>\n",
       "      <td>411</td>\n",
       "      <td>2153</td>\n",
       "      <td>13</td>\n",
       "      <td>28</td>\n",
       "      <td>45</td>\n",
       "      <td>442</td>\n",
       "    </tr>\n",
       "    <tr>\n",
       "      <th>7</th>\n",
       "      <td>653</td>\n",
       "      <td>651</td>\n",
       "      <td>kadonny.156863</td>\n",
       "      <td>Kadonny</td>\n",
       "      <td>1.188986e+09</td>\n",
       "      <td>United States, Pennsylvania</td>\n",
       "      <td>2007-09-05</td>\n",
       "      <td>357</td>\n",
       "      <td>1800</td>\n",
       "      <td>5</td>\n",
       "      <td>22</td>\n",
       "      <td>249</td>\n",
       "      <td>263</td>\n",
       "    </tr>\n",
       "    <tr>\n",
       "      <th>8</th>\n",
       "      <td>748</td>\n",
       "      <td>748</td>\n",
       "      <td>biggred1.206640</td>\n",
       "      <td>biggred1</td>\n",
       "      <td>1.206616e+09</td>\n",
       "      <td>United States, Indiana</td>\n",
       "      <td>2008-03-27</td>\n",
       "      <td>318</td>\n",
       "      <td>819</td>\n",
       "      <td>5</td>\n",
       "      <td>37</td>\n",
       "      <td>102</td>\n",
       "      <td>69</td>\n",
       "    </tr>\n",
       "    <tr>\n",
       "      <th>10</th>\n",
       "      <td>614</td>\n",
       "      <td>614</td>\n",
       "      <td>whynot44.2033</td>\n",
       "      <td>whynot44</td>\n",
       "      <td>1.052129e+09</td>\n",
       "      <td>United States, Missouri</td>\n",
       "      <td>2003-05-05</td>\n",
       "      <td>276</td>\n",
       "      <td>1452</td>\n",
       "      <td>7</td>\n",
       "      <td>57</td>\n",
       "      <td>24</td>\n",
       "      <td>316</td>\n",
       "    </tr>\n",
       "  </tbody>\n",
       "</table>\n",
       "</div>"
      ],
      "text/plain": [
       "    nbr_ratings  nbr_reviews           user_id  user_name        joined  \\\n",
       "2           585          389  ferrari29.320392  ferrari29  1.239790e+09   \n",
       "5           676          676  dodo2step.110880  Dodo2step  1.165576e+09   \n",
       "7           653          651    kadonny.156863    Kadonny  1.188986e+09   \n",
       "8           748          748   biggred1.206640   biggred1  1.206616e+09   \n",
       "10          614          614     whynot44.2033   whynot44  1.052129e+09   \n",
       "\n",
       "                       location date_joined  active_days  delta_first_last  \\\n",
       "2       United States, Illinois  2009-04-15          202              1193   \n",
       "5   United States, Pennsylvania  2006-12-08          411              2153   \n",
       "7   United States, Pennsylvania  2007-09-05          357              1800   \n",
       "8        United States, Indiana  2008-03-27          318               819   \n",
       "10      United States, Missouri  2003-05-05          276              1452   \n",
       "\n",
       "    max_active_day  max_active_month   50  450  \n",
       "2               12                42   64  335  \n",
       "5               13                28   45  442  \n",
       "7                5                22  249  263  \n",
       "8                5                37  102   69  \n",
       "10               7                57   24  316  "
      ]
     },
     "execution_count": 37,
     "metadata": {},
     "output_type": "execute_result"
    }
   ],
   "source": [
    "df_valid_users.head(5)"
   ]
  },
  {
   "cell_type": "code",
   "execution_count": 38,
   "metadata": {},
   "outputs": [
    {
     "data": {
      "text/html": [
       "<div>\n",
       "<style scoped>\n",
       "    .dataframe tbody tr th:only-of-type {\n",
       "        vertical-align: middle;\n",
       "    }\n",
       "\n",
       "    .dataframe tbody tr th {\n",
       "        vertical-align: top;\n",
       "    }\n",
       "\n",
       "    .dataframe thead th {\n",
       "        text-align: right;\n",
       "    }\n",
       "</style>\n",
       "<table border=\"1\" class=\"dataframe\">\n",
       "  <thead>\n",
       "    <tr style=\"text-align: right;\">\n",
       "      <th></th>\n",
       "      <th>beer_id</th>\n",
       "      <th>style</th>\n",
       "      <th>abv</th>\n",
       "      <th>date</th>\n",
       "      <th>user_name</th>\n",
       "      <th>appearance</th>\n",
       "      <th>aroma</th>\n",
       "      <th>palate</th>\n",
       "      <th>taste</th>\n",
       "      <th>overall</th>\n",
       "      <th>rating</th>\n",
       "      <th>category</th>\n",
       "      <th>rating_number</th>\n",
       "    </tr>\n",
       "  </thead>\n",
       "  <tbody>\n",
       "    <tr>\n",
       "      <th>1640018</th>\n",
       "      <td>167</td>\n",
       "      <td>Witbier</td>\n",
       "      <td>NaN</td>\n",
       "      <td>2001-03-16</td>\n",
       "      <td>frank4sail</td>\n",
       "      <td>4.5</td>\n",
       "      <td>4.5</td>\n",
       "      <td>4.0</td>\n",
       "      <td>5.0</td>\n",
       "      <td>5.0</td>\n",
       "      <td>4.75</td>\n",
       "      <td>Wheat Beers</td>\n",
       "      <td>0</td>\n",
       "    </tr>\n",
       "    <tr>\n",
       "      <th>311428</th>\n",
       "      <td>3558</td>\n",
       "      <td>Czech Pilsener</td>\n",
       "      <td>5.00</td>\n",
       "      <td>2001-06-18</td>\n",
       "      <td>Mark</td>\n",
       "      <td>4.0</td>\n",
       "      <td>4.0</td>\n",
       "      <td>3.0</td>\n",
       "      <td>4.0</td>\n",
       "      <td>4.0</td>\n",
       "      <td>3.90</td>\n",
       "      <td>Pale Lagers</td>\n",
       "      <td>0</td>\n",
       "    </tr>\n",
       "    <tr>\n",
       "      <th>17313</th>\n",
       "      <td>73</td>\n",
       "      <td>Milk / Sweet Stout</td>\n",
       "      <td>5.20</td>\n",
       "      <td>2001-06-18</td>\n",
       "      <td>Mark</td>\n",
       "      <td>5.0</td>\n",
       "      <td>5.0</td>\n",
       "      <td>5.0</td>\n",
       "      <td>5.0</td>\n",
       "      <td>5.0</td>\n",
       "      <td>5.00</td>\n",
       "      <td>Stouts</td>\n",
       "      <td>1</td>\n",
       "    </tr>\n",
       "    <tr>\n",
       "      <th>136697</th>\n",
       "      <td>261</td>\n",
       "      <td>Vienna Lager</td>\n",
       "      <td>4.48</td>\n",
       "      <td>2001-06-24</td>\n",
       "      <td>Mark</td>\n",
       "      <td>4.0</td>\n",
       "      <td>3.0</td>\n",
       "      <td>3.0</td>\n",
       "      <td>3.0</td>\n",
       "      <td>3.0</td>\n",
       "      <td>3.06</td>\n",
       "      <td>Dark Lagers</td>\n",
       "      <td>2</td>\n",
       "    </tr>\n",
       "    <tr>\n",
       "      <th>442671</th>\n",
       "      <td>87</td>\n",
       "      <td>American Pale Ale (APA)</td>\n",
       "      <td>5.40</td>\n",
       "      <td>2001-06-24</td>\n",
       "      <td>Mark</td>\n",
       "      <td>4.0</td>\n",
       "      <td>4.0</td>\n",
       "      <td>1.0</td>\n",
       "      <td>3.0</td>\n",
       "      <td>3.0</td>\n",
       "      <td>3.10</td>\n",
       "      <td>Pale Ales</td>\n",
       "      <td>3</td>\n",
       "    </tr>\n",
       "  </tbody>\n",
       "</table>\n",
       "</div>"
      ],
      "text/plain": [
       "         beer_id                    style   abv       date   user_name  \\\n",
       "1640018      167                  Witbier   NaN 2001-03-16  frank4sail   \n",
       "311428      3558           Czech Pilsener  5.00 2001-06-18        Mark   \n",
       "17313         73       Milk / Sweet Stout  5.20 2001-06-18        Mark   \n",
       "136697       261             Vienna Lager  4.48 2001-06-24        Mark   \n",
       "442671        87  American Pale Ale (APA)  5.40 2001-06-24        Mark   \n",
       "\n",
       "         appearance  aroma  palate  taste  overall  rating     category  \\\n",
       "1640018         4.5    4.5     4.0    5.0      5.0    4.75  Wheat Beers   \n",
       "311428          4.0    4.0     3.0    4.0      4.0    3.90  Pale Lagers   \n",
       "17313           5.0    5.0     5.0    5.0      5.0    5.00       Stouts   \n",
       "136697          4.0    3.0     3.0    3.0      3.0    3.06  Dark Lagers   \n",
       "442671          4.0    4.0     1.0    3.0      3.0    3.10    Pale Ales   \n",
       "\n",
       "         rating_number  \n",
       "1640018              0  \n",
       "311428               0  \n",
       "17313                1  \n",
       "136697               2  \n",
       "442671               3  "
      ]
     },
     "execution_count": 38,
     "metadata": {},
     "output_type": "execute_result"
    }
   ],
   "source": [
    "df_valid_ratings.head(5)"
   ]
  },
  {
   "cell_type": "code",
   "execution_count": 39,
   "metadata": {},
   "outputs": [],
   "source": [
    "# Clustering starts\n",
    "# We want to check if it is possible to extract meaningful clusters\n",
    "# out of the 50 first ratings submitted by users"
   ]
  },
  {
   "cell_type": "code",
   "execution_count": 40,
   "metadata": {},
   "outputs": [
    {
     "data": {
      "text/html": [
       "<div>\n",
       "<style scoped>\n",
       "    .dataframe tbody tr th:only-of-type {\n",
       "        vertical-align: middle;\n",
       "    }\n",
       "\n",
       "    .dataframe tbody tr th {\n",
       "        vertical-align: top;\n",
       "    }\n",
       "\n",
       "    .dataframe thead th {\n",
       "        text-align: right;\n",
       "    }\n",
       "</style>\n",
       "<table border=\"1\" class=\"dataframe\">\n",
       "  <thead>\n",
       "    <tr style=\"text-align: right;\">\n",
       "      <th>category</th>\n",
       "      <th>Bocks</th>\n",
       "      <th>Brown Ales</th>\n",
       "      <th>Dark Ales</th>\n",
       "      <th>Dark Lagers</th>\n",
       "      <th>Hybrid Beers</th>\n",
       "      <th>India Pale Ales</th>\n",
       "      <th>Pale Ales</th>\n",
       "      <th>Pale Lagers</th>\n",
       "      <th>Porters</th>\n",
       "      <th>Specialty Beer</th>\n",
       "      <th>Stouts</th>\n",
       "      <th>Strong Ales</th>\n",
       "      <th>Weird Cocktail</th>\n",
       "      <th>Wheat Beers</th>\n",
       "      <th>Wild/Sour Beers</th>\n",
       "    </tr>\n",
       "    <tr>\n",
       "      <th>user_name</th>\n",
       "      <th></th>\n",
       "      <th></th>\n",
       "      <th></th>\n",
       "      <th></th>\n",
       "      <th></th>\n",
       "      <th></th>\n",
       "      <th></th>\n",
       "      <th></th>\n",
       "      <th></th>\n",
       "      <th></th>\n",
       "      <th></th>\n",
       "      <th></th>\n",
       "      <th></th>\n",
       "      <th></th>\n",
       "      <th></th>\n",
       "    </tr>\n",
       "  </thead>\n",
       "  <tbody>\n",
       "    <tr>\n",
       "      <th>-Rick</th>\n",
       "      <td>0</td>\n",
       "      <td>2</td>\n",
       "      <td>0</td>\n",
       "      <td>2</td>\n",
       "      <td>0</td>\n",
       "      <td>29</td>\n",
       "      <td>7</td>\n",
       "      <td>2</td>\n",
       "      <td>2</td>\n",
       "      <td>2</td>\n",
       "      <td>3</td>\n",
       "      <td>1</td>\n",
       "      <td>0</td>\n",
       "      <td>0</td>\n",
       "      <td>0</td>\n",
       "    </tr>\n",
       "    <tr>\n",
       "      <th>1000lbgrizzly</th>\n",
       "      <td>0</td>\n",
       "      <td>5</td>\n",
       "      <td>0</td>\n",
       "      <td>1</td>\n",
       "      <td>0</td>\n",
       "      <td>4</td>\n",
       "      <td>9</td>\n",
       "      <td>7</td>\n",
       "      <td>2</td>\n",
       "      <td>8</td>\n",
       "      <td>6</td>\n",
       "      <td>4</td>\n",
       "      <td>0</td>\n",
       "      <td>3</td>\n",
       "      <td>1</td>\n",
       "    </tr>\n",
       "    <tr>\n",
       "      <th>1424IpA</th>\n",
       "      <td>0</td>\n",
       "      <td>0</td>\n",
       "      <td>1</td>\n",
       "      <td>0</td>\n",
       "      <td>0</td>\n",
       "      <td>21</td>\n",
       "      <td>3</td>\n",
       "      <td>1</td>\n",
       "      <td>1</td>\n",
       "      <td>1</td>\n",
       "      <td>12</td>\n",
       "      <td>4</td>\n",
       "      <td>0</td>\n",
       "      <td>1</td>\n",
       "      <td>5</td>\n",
       "    </tr>\n",
       "    <tr>\n",
       "      <th>2Xmd</th>\n",
       "      <td>0</td>\n",
       "      <td>2</td>\n",
       "      <td>1</td>\n",
       "      <td>1</td>\n",
       "      <td>0</td>\n",
       "      <td>25</td>\n",
       "      <td>5</td>\n",
       "      <td>1</td>\n",
       "      <td>1</td>\n",
       "      <td>2</td>\n",
       "      <td>9</td>\n",
       "      <td>1</td>\n",
       "      <td>0</td>\n",
       "      <td>2</td>\n",
       "      <td>0</td>\n",
       "    </tr>\n",
       "    <tr>\n",
       "      <th>2ellas</th>\n",
       "      <td>0</td>\n",
       "      <td>2</td>\n",
       "      <td>1</td>\n",
       "      <td>0</td>\n",
       "      <td>0</td>\n",
       "      <td>31</td>\n",
       "      <td>9</td>\n",
       "      <td>0</td>\n",
       "      <td>0</td>\n",
       "      <td>0</td>\n",
       "      <td>2</td>\n",
       "      <td>4</td>\n",
       "      <td>0</td>\n",
       "      <td>1</td>\n",
       "      <td>0</td>\n",
       "    </tr>\n",
       "    <tr>\n",
       "      <th>...</th>\n",
       "      <td>...</td>\n",
       "      <td>...</td>\n",
       "      <td>...</td>\n",
       "      <td>...</td>\n",
       "      <td>...</td>\n",
       "      <td>...</td>\n",
       "      <td>...</td>\n",
       "      <td>...</td>\n",
       "      <td>...</td>\n",
       "      <td>...</td>\n",
       "      <td>...</td>\n",
       "      <td>...</td>\n",
       "      <td>...</td>\n",
       "      <td>...</td>\n",
       "      <td>...</td>\n",
       "    </tr>\n",
       "    <tr>\n",
       "      <th>zenithberwyn</th>\n",
       "      <td>1</td>\n",
       "      <td>1</td>\n",
       "      <td>0</td>\n",
       "      <td>3</td>\n",
       "      <td>0</td>\n",
       "      <td>3</td>\n",
       "      <td>7</td>\n",
       "      <td>10</td>\n",
       "      <td>3</td>\n",
       "      <td>0</td>\n",
       "      <td>14</td>\n",
       "      <td>5</td>\n",
       "      <td>0</td>\n",
       "      <td>3</td>\n",
       "      <td>0</td>\n",
       "    </tr>\n",
       "    <tr>\n",
       "      <th>zhanson88</th>\n",
       "      <td>1</td>\n",
       "      <td>5</td>\n",
       "      <td>3</td>\n",
       "      <td>1</td>\n",
       "      <td>0</td>\n",
       "      <td>6</td>\n",
       "      <td>6</td>\n",
       "      <td>2</td>\n",
       "      <td>3</td>\n",
       "      <td>1</td>\n",
       "      <td>12</td>\n",
       "      <td>7</td>\n",
       "      <td>0</td>\n",
       "      <td>3</td>\n",
       "      <td>0</td>\n",
       "    </tr>\n",
       "    <tr>\n",
       "      <th>zookerman182</th>\n",
       "      <td>1</td>\n",
       "      <td>3</td>\n",
       "      <td>0</td>\n",
       "      <td>0</td>\n",
       "      <td>0</td>\n",
       "      <td>22</td>\n",
       "      <td>6</td>\n",
       "      <td>0</td>\n",
       "      <td>2</td>\n",
       "      <td>0</td>\n",
       "      <td>9</td>\n",
       "      <td>5</td>\n",
       "      <td>0</td>\n",
       "      <td>1</td>\n",
       "      <td>1</td>\n",
       "    </tr>\n",
       "    <tr>\n",
       "      <th>zoso1967</th>\n",
       "      <td>0</td>\n",
       "      <td>3</td>\n",
       "      <td>0</td>\n",
       "      <td>0</td>\n",
       "      <td>0</td>\n",
       "      <td>19</td>\n",
       "      <td>9</td>\n",
       "      <td>3</td>\n",
       "      <td>2</td>\n",
       "      <td>0</td>\n",
       "      <td>3</td>\n",
       "      <td>5</td>\n",
       "      <td>0</td>\n",
       "      <td>1</td>\n",
       "      <td>5</td>\n",
       "    </tr>\n",
       "    <tr>\n",
       "      <th>zotzot</th>\n",
       "      <td>1</td>\n",
       "      <td>4</td>\n",
       "      <td>0</td>\n",
       "      <td>1</td>\n",
       "      <td>0</td>\n",
       "      <td>18</td>\n",
       "      <td>11</td>\n",
       "      <td>1</td>\n",
       "      <td>0</td>\n",
       "      <td>1</td>\n",
       "      <td>7</td>\n",
       "      <td>2</td>\n",
       "      <td>0</td>\n",
       "      <td>4</td>\n",
       "      <td>0</td>\n",
       "    </tr>\n",
       "  </tbody>\n",
       "</table>\n",
       "<p>970 rows × 15 columns</p>\n",
       "</div>"
      ],
      "text/plain": [
       "category       Bocks  Brown Ales  Dark Ales  Dark Lagers  Hybrid Beers  \\\n",
       "user_name                                                                \n",
       "-Rick              0           2          0            2             0   \n",
       "1000lbgrizzly      0           5          0            1             0   \n",
       "1424IpA            0           0          1            0             0   \n",
       "2Xmd               0           2          1            1             0   \n",
       "2ellas             0           2          1            0             0   \n",
       "...              ...         ...        ...          ...           ...   \n",
       "zenithberwyn       1           1          0            3             0   \n",
       "zhanson88          1           5          3            1             0   \n",
       "zookerman182       1           3          0            0             0   \n",
       "zoso1967           0           3          0            0             0   \n",
       "zotzot             1           4          0            1             0   \n",
       "\n",
       "category       India Pale Ales  Pale Ales  Pale Lagers  Porters  \\\n",
       "user_name                                                         \n",
       "-Rick                       29          7            2        2   \n",
       "1000lbgrizzly                4          9            7        2   \n",
       "1424IpA                     21          3            1        1   \n",
       "2Xmd                        25          5            1        1   \n",
       "2ellas                      31          9            0        0   \n",
       "...                        ...        ...          ...      ...   \n",
       "zenithberwyn                 3          7           10        3   \n",
       "zhanson88                    6          6            2        3   \n",
       "zookerman182                22          6            0        2   \n",
       "zoso1967                    19          9            3        2   \n",
       "zotzot                      18         11            1        0   \n",
       "\n",
       "category       Specialty Beer  Stouts  Strong Ales  Weird Cocktail  \\\n",
       "user_name                                                            \n",
       "-Rick                       2       3            1               0   \n",
       "1000lbgrizzly               8       6            4               0   \n",
       "1424IpA                     1      12            4               0   \n",
       "2Xmd                        2       9            1               0   \n",
       "2ellas                      0       2            4               0   \n",
       "...                       ...     ...          ...             ...   \n",
       "zenithberwyn                0      14            5               0   \n",
       "zhanson88                   1      12            7               0   \n",
       "zookerman182                0       9            5               0   \n",
       "zoso1967                    0       3            5               0   \n",
       "zotzot                      1       7            2               0   \n",
       "\n",
       "category       Wheat Beers  Wild/Sour Beers  \n",
       "user_name                                    \n",
       "-Rick                    0                0  \n",
       "1000lbgrizzly            3                1  \n",
       "1424IpA                  1                5  \n",
       "2Xmd                     2                0  \n",
       "2ellas                   1                0  \n",
       "...                    ...              ...  \n",
       "zenithberwyn             3                0  \n",
       "zhanson88                3                0  \n",
       "zookerman182             1                1  \n",
       "zoso1967                 1                5  \n",
       "zotzot                   4                0  \n",
       "\n",
       "[970 rows x 15 columns]"
      ]
     },
     "execution_count": 40,
     "metadata": {},
     "output_type": "execute_result"
    }
   ],
   "source": [
    "# To do that, we check how many beers of different categories \n",
    "# a user rated in his first 50 ratings\n",
    "\n",
    "df_to_cluster = df_valid_ratings[df_valid_ratings[\"rating_number\"] < 50]\n",
    "user_to_cat_first = df_to_cluster.groupby([\"user_name\", \"category\"]).size()\n",
    "user_to_cat_first = user_to_cat_first.unstack(level=-1, fill_value = 0)\n",
    "user_to_cat_first"
   ]
  },
  {
   "cell_type": "code",
   "execution_count": 41,
   "metadata": {},
   "outputs": [
    {
     "name": "stderr",
     "output_type": "stream",
     "text": [
      "C:\\Users\\cale9\\AppData\\Roaming\\Python\\Python39\\site-packages\\sklearn\\cluster\\_kmeans.py:1334: UserWarning:\n",
      "\n",
      "KMeans is known to have a memory leak on Windows with MKL, when there are less chunks than available threads. You can avoid it by setting the environment variable OMP_NUM_THREADS=4.\n",
      "\n"
     ]
    },
    {
     "name": "stdout",
     "output_type": "stream",
     "text": [
      "For n_clusters = 2 The average silhouette_score is : 0.2542403428596163\n"
     ]
    },
    {
     "name": "stderr",
     "output_type": "stream",
     "text": [
      "C:\\Users\\cale9\\AppData\\Roaming\\Python\\Python39\\site-packages\\sklearn\\cluster\\_kmeans.py:1334: UserWarning:\n",
      "\n",
      "KMeans is known to have a memory leak on Windows with MKL, when there are less chunks than available threads. You can avoid it by setting the environment variable OMP_NUM_THREADS=4.\n",
      "\n"
     ]
    },
    {
     "name": "stdout",
     "output_type": "stream",
     "text": [
      "For n_clusters = 3 The average silhouette_score is : 0.23509500492604746\n"
     ]
    },
    {
     "name": "stderr",
     "output_type": "stream",
     "text": [
      "C:\\Users\\cale9\\AppData\\Roaming\\Python\\Python39\\site-packages\\sklearn\\cluster\\_kmeans.py:1334: UserWarning:\n",
      "\n",
      "KMeans is known to have a memory leak on Windows with MKL, when there are less chunks than available threads. You can avoid it by setting the environment variable OMP_NUM_THREADS=4.\n",
      "\n"
     ]
    },
    {
     "name": "stdout",
     "output_type": "stream",
     "text": [
      "For n_clusters = 4 The average silhouette_score is : 0.2147532704491709\n"
     ]
    },
    {
     "name": "stderr",
     "output_type": "stream",
     "text": [
      "C:\\Users\\cale9\\AppData\\Roaming\\Python\\Python39\\site-packages\\sklearn\\cluster\\_kmeans.py:1334: UserWarning:\n",
      "\n",
      "KMeans is known to have a memory leak on Windows with MKL, when there are less chunks than available threads. You can avoid it by setting the environment variable OMP_NUM_THREADS=4.\n",
      "\n"
     ]
    },
    {
     "name": "stdout",
     "output_type": "stream",
     "text": [
      "For n_clusters = 5 The average silhouette_score is : 0.19260175262458518\n"
     ]
    },
    {
     "name": "stderr",
     "output_type": "stream",
     "text": [
      "C:\\Users\\cale9\\AppData\\Roaming\\Python\\Python39\\site-packages\\sklearn\\cluster\\_kmeans.py:1334: UserWarning:\n",
      "\n",
      "KMeans is known to have a memory leak on Windows with MKL, when there are less chunks than available threads. You can avoid it by setting the environment variable OMP_NUM_THREADS=4.\n",
      "\n"
     ]
    },
    {
     "name": "stdout",
     "output_type": "stream",
     "text": [
      "For n_clusters = 6 The average silhouette_score is : 0.1918300969840252\n"
     ]
    },
    {
     "name": "stderr",
     "output_type": "stream",
     "text": [
      "C:\\Users\\cale9\\AppData\\Roaming\\Python\\Python39\\site-packages\\sklearn\\cluster\\_kmeans.py:1334: UserWarning:\n",
      "\n",
      "KMeans is known to have a memory leak on Windows with MKL, when there are less chunks than available threads. You can avoid it by setting the environment variable OMP_NUM_THREADS=4.\n",
      "\n"
     ]
    },
    {
     "name": "stdout",
     "output_type": "stream",
     "text": [
      "For n_clusters = 7 The average silhouette_score is : 0.18303815733468567\n"
     ]
    },
    {
     "name": "stderr",
     "output_type": "stream",
     "text": [
      "C:\\Users\\cale9\\AppData\\Roaming\\Python\\Python39\\site-packages\\sklearn\\cluster\\_kmeans.py:1334: UserWarning:\n",
      "\n",
      "KMeans is known to have a memory leak on Windows with MKL, when there are less chunks than available threads. You can avoid it by setting the environment variable OMP_NUM_THREADS=4.\n",
      "\n"
     ]
    },
    {
     "name": "stdout",
     "output_type": "stream",
     "text": [
      "For n_clusters = 8 The average silhouette_score is : 0.16607554914921302\n"
     ]
    },
    {
     "name": "stderr",
     "output_type": "stream",
     "text": [
      "C:\\Users\\cale9\\AppData\\Roaming\\Python\\Python39\\site-packages\\sklearn\\cluster\\_kmeans.py:1334: UserWarning:\n",
      "\n",
      "KMeans is known to have a memory leak on Windows with MKL, when there are less chunks than available threads. You can avoid it by setting the environment variable OMP_NUM_THREADS=4.\n",
      "\n"
     ]
    },
    {
     "name": "stdout",
     "output_type": "stream",
     "text": [
      "For n_clusters = 9 The average silhouette_score is : 0.16202178986925447\n"
     ]
    },
    {
     "name": "stderr",
     "output_type": "stream",
     "text": [
      "C:\\Users\\cale9\\AppData\\Roaming\\Python\\Python39\\site-packages\\sklearn\\cluster\\_kmeans.py:1334: UserWarning:\n",
      "\n",
      "KMeans is known to have a memory leak on Windows with MKL, when there are less chunks than available threads. You can avoid it by setting the environment variable OMP_NUM_THREADS=4.\n",
      "\n"
     ]
    },
    {
     "name": "stdout",
     "output_type": "stream",
     "text": [
      "For n_clusters = 10 The average silhouette_score is : 0.16057796890631856\n"
     ]
    },
    {
     "name": "stderr",
     "output_type": "stream",
     "text": [
      "C:\\Users\\cale9\\AppData\\Roaming\\Python\\Python39\\site-packages\\sklearn\\cluster\\_kmeans.py:1334: UserWarning:\n",
      "\n",
      "KMeans is known to have a memory leak on Windows with MKL, when there are less chunks than available threads. You can avoid it by setting the environment variable OMP_NUM_THREADS=4.\n",
      "\n"
     ]
    },
    {
     "name": "stdout",
     "output_type": "stream",
     "text": [
      "For n_clusters = 11 The average silhouette_score is : 0.15512882702230546\n"
     ]
    },
    {
     "name": "stderr",
     "output_type": "stream",
     "text": [
      "C:\\Users\\cale9\\AppData\\Roaming\\Python\\Python39\\site-packages\\sklearn\\cluster\\_kmeans.py:1334: UserWarning:\n",
      "\n",
      "KMeans is known to have a memory leak on Windows with MKL, when there are less chunks than available threads. You can avoid it by setting the environment variable OMP_NUM_THREADS=4.\n",
      "\n"
     ]
    },
    {
     "name": "stdout",
     "output_type": "stream",
     "text": [
      "For n_clusters = 12 The average silhouette_score is : 0.15374778297483527\n"
     ]
    },
    {
     "name": "stderr",
     "output_type": "stream",
     "text": [
      "C:\\Users\\cale9\\AppData\\Roaming\\Python\\Python39\\site-packages\\sklearn\\cluster\\_kmeans.py:1334: UserWarning:\n",
      "\n",
      "KMeans is known to have a memory leak on Windows with MKL, when there are less chunks than available threads. You can avoid it by setting the environment variable OMP_NUM_THREADS=4.\n",
      "\n"
     ]
    },
    {
     "name": "stdout",
     "output_type": "stream",
     "text": [
      "For n_clusters = 13 The average silhouette_score is : 0.14611269380793726\n"
     ]
    },
    {
     "name": "stderr",
     "output_type": "stream",
     "text": [
      "C:\\Users\\cale9\\AppData\\Roaming\\Python\\Python39\\site-packages\\sklearn\\cluster\\_kmeans.py:1334: UserWarning:\n",
      "\n",
      "KMeans is known to have a memory leak on Windows with MKL, when there are less chunks than available threads. You can avoid it by setting the environment variable OMP_NUM_THREADS=4.\n",
      "\n"
     ]
    },
    {
     "name": "stdout",
     "output_type": "stream",
     "text": [
      "For n_clusters = 14 The average silhouette_score is : 0.14519779323157486\n"
     ]
    },
    {
     "name": "stderr",
     "output_type": "stream",
     "text": [
      "C:\\Users\\cale9\\AppData\\Roaming\\Python\\Python39\\site-packages\\sklearn\\cluster\\_kmeans.py:1334: UserWarning:\n",
      "\n",
      "KMeans is known to have a memory leak on Windows with MKL, when there are less chunks than available threads. You can avoid it by setting the environment variable OMP_NUM_THREADS=4.\n",
      "\n"
     ]
    },
    {
     "name": "stdout",
     "output_type": "stream",
     "text": [
      "For n_clusters = 15 The average silhouette_score is : 0.1468835850946244\n"
     ]
    }
   ],
   "source": [
    "# Generating the sample data from make_blobs\n",
    "# This particular setting has one distinct cluster and 3 clusters placed close\n",
    "# together.\n",
    "X = user_to_cat_first.values\n",
    "y = 0\n",
    "\n",
    "range_n_clusters = range(2, 15 + 1)\n",
    "\n",
    "for n_clusters in range_n_clusters:\n",
    "    clusterer = KMeans(n_clusters=n_clusters) # , n_init=\"auto\", random_state=10\n",
    "    clusterer.fit(X)\n",
    "    cluster_labels = clusterer.labels_\n",
    "\n",
    "    # The silhouette_score gives the average value for all the samples.\n",
    "    # This gives a perspective into the density and separation of the formed\n",
    "    # clusters\n",
    "    silhouette_avg = silhouette_score(X, cluster_labels)\n",
    "    print(\n",
    "        \"For n_clusters =\",\n",
    "        n_clusters,\n",
    "        \"The average silhouette_score is :\",\n",
    "        silhouette_avg,\n",
    "    )\n",
    "\n",
    "\n",
    "\n",
    "plt.show()"
   ]
  },
  {
   "cell_type": "code",
   "execution_count": 42,
   "metadata": {},
   "outputs": [
    {
     "name": "stderr",
     "output_type": "stream",
     "text": [
      "C:\\Users\\cale9\\AppData\\Roaming\\Python\\Python39\\site-packages\\sklearn\\cluster\\_kmeans.py:1334: UserWarning:\n",
      "\n",
      "KMeans is known to have a memory leak on Windows with MKL, when there are less chunks than available threads. You can avoid it by setting the environment variable OMP_NUM_THREADS=4.\n",
      "\n",
      "C:\\Users\\cale9\\AppData\\Roaming\\Python\\Python39\\site-packages\\sklearn\\cluster\\_kmeans.py:1334: UserWarning:\n",
      "\n",
      "KMeans is known to have a memory leak on Windows with MKL, when there are less chunks than available threads. You can avoid it by setting the environment variable OMP_NUM_THREADS=4.\n",
      "\n"
     ]
    }
   ],
   "source": [
    "#Rename tu user_clustering?\n",
    "\n",
    "our_clustering_4 = KMeans(4).fit(user_to_cat_first.values)\n",
    "our_clustering_5 = KMeans(5).fit(user_to_cat_first.values)"
   ]
  },
  {
   "cell_type": "code",
   "execution_count": 43,
   "metadata": {},
   "outputs": [
    {
     "data": {
      "text/plain": [
       "Counter({3: 239, 2: 394, 0: 196, 1: 141})"
      ]
     },
     "execution_count": 43,
     "metadata": {},
     "output_type": "execute_result"
    }
   ],
   "source": [
    "count = collections.Counter(our_clustering_4.labels_)\n",
    "count"
   ]
  },
  {
   "cell_type": "code",
   "execution_count": 44,
   "metadata": {},
   "outputs": [
    {
     "data": {
      "text/html": [
       "<div>\n",
       "<style scoped>\n",
       "    .dataframe tbody tr th:only-of-type {\n",
       "        vertical-align: middle;\n",
       "    }\n",
       "\n",
       "    .dataframe tbody tr th {\n",
       "        vertical-align: top;\n",
       "    }\n",
       "\n",
       "    .dataframe thead th {\n",
       "        text-align: right;\n",
       "    }\n",
       "</style>\n",
       "<table border=\"1\" class=\"dataframe\">\n",
       "  <thead>\n",
       "    <tr style=\"text-align: right;\">\n",
       "      <th></th>\n",
       "      <th>style</th>\n",
       "      <th>cluster</th>\n",
       "      <th>Number of beer</th>\n",
       "    </tr>\n",
       "  </thead>\n",
       "  <tbody>\n",
       "    <tr>\n",
       "      <th>0</th>\n",
       "      <td>Bocks</td>\n",
       "      <td>0</td>\n",
       "      <td>0.816327</td>\n",
       "    </tr>\n",
       "    <tr>\n",
       "      <th>1</th>\n",
       "      <td>Brown Ales</td>\n",
       "      <td>0</td>\n",
       "      <td>2.505102</td>\n",
       "    </tr>\n",
       "    <tr>\n",
       "      <th>2</th>\n",
       "      <td>Dark Ales</td>\n",
       "      <td>0</td>\n",
       "      <td>0.959184</td>\n",
       "    </tr>\n",
       "    <tr>\n",
       "      <th>3</th>\n",
       "      <td>Dark Lagers</td>\n",
       "      <td>0</td>\n",
       "      <td>0.632653</td>\n",
       "    </tr>\n",
       "    <tr>\n",
       "      <th>4</th>\n",
       "      <td>Hybrid Beers</td>\n",
       "      <td>0</td>\n",
       "      <td>0.280612</td>\n",
       "    </tr>\n",
       "    <tr>\n",
       "      <th>5</th>\n",
       "      <td>India Pale Ales</td>\n",
       "      <td>0</td>\n",
       "      <td>9.872449</td>\n",
       "    </tr>\n",
       "    <tr>\n",
       "      <th>6</th>\n",
       "      <td>Pale Ales</td>\n",
       "      <td>0</td>\n",
       "      <td>4.750000</td>\n",
       "    </tr>\n",
       "    <tr>\n",
       "      <th>7</th>\n",
       "      <td>Pale Lagers</td>\n",
       "      <td>0</td>\n",
       "      <td>1.295918</td>\n",
       "    </tr>\n",
       "    <tr>\n",
       "      <th>8</th>\n",
       "      <td>Porters</td>\n",
       "      <td>0</td>\n",
       "      <td>3.096939</td>\n",
       "    </tr>\n",
       "    <tr>\n",
       "      <th>9</th>\n",
       "      <td>Specialty Beer</td>\n",
       "      <td>0</td>\n",
       "      <td>1.341837</td>\n",
       "    </tr>\n",
       "    <tr>\n",
       "      <th>10</th>\n",
       "      <td>Stouts</td>\n",
       "      <td>0</td>\n",
       "      <td>15.147959</td>\n",
       "    </tr>\n",
       "    <tr>\n",
       "      <th>11</th>\n",
       "      <td>Strong Ales</td>\n",
       "      <td>0</td>\n",
       "      <td>6.168367</td>\n",
       "    </tr>\n",
       "    <tr>\n",
       "      <th>12</th>\n",
       "      <td>Weird Cocktail</td>\n",
       "      <td>0</td>\n",
       "      <td>0.076531</td>\n",
       "    </tr>\n",
       "    <tr>\n",
       "      <th>13</th>\n",
       "      <td>Wheat Beers</td>\n",
       "      <td>0</td>\n",
       "      <td>1.551020</td>\n",
       "    </tr>\n",
       "    <tr>\n",
       "      <th>14</th>\n",
       "      <td>Wild/Sour Beers</td>\n",
       "      <td>0</td>\n",
       "      <td>1.505102</td>\n",
       "    </tr>\n",
       "    <tr>\n",
       "      <th>15</th>\n",
       "      <td>Bocks</td>\n",
       "      <td>1</td>\n",
       "      <td>1.794326</td>\n",
       "    </tr>\n",
       "    <tr>\n",
       "      <th>16</th>\n",
       "      <td>Brown Ales</td>\n",
       "      <td>1</td>\n",
       "      <td>2.723404</td>\n",
       "    </tr>\n",
       "    <tr>\n",
       "      <th>17</th>\n",
       "      <td>Dark Ales</td>\n",
       "      <td>1</td>\n",
       "      <td>1.425532</td>\n",
       "    </tr>\n",
       "    <tr>\n",
       "      <th>18</th>\n",
       "      <td>Dark Lagers</td>\n",
       "      <td>1</td>\n",
       "      <td>3.347518</td>\n",
       "    </tr>\n",
       "    <tr>\n",
       "      <th>19</th>\n",
       "      <td>Hybrid Beers</td>\n",
       "      <td>1</td>\n",
       "      <td>0.382979</td>\n",
       "    </tr>\n",
       "    <tr>\n",
       "      <th>20</th>\n",
       "      <td>India Pale Ales</td>\n",
       "      <td>1</td>\n",
       "      <td>3.297872</td>\n",
       "    </tr>\n",
       "    <tr>\n",
       "      <th>21</th>\n",
       "      <td>Pale Ales</td>\n",
       "      <td>1</td>\n",
       "      <td>7.780142</td>\n",
       "    </tr>\n",
       "    <tr>\n",
       "      <th>22</th>\n",
       "      <td>Pale Lagers</td>\n",
       "      <td>1</td>\n",
       "      <td>13.624113</td>\n",
       "    </tr>\n",
       "    <tr>\n",
       "      <th>23</th>\n",
       "      <td>Porters</td>\n",
       "      <td>1</td>\n",
       "      <td>1.560284</td>\n",
       "    </tr>\n",
       "    <tr>\n",
       "      <th>24</th>\n",
       "      <td>Specialty Beer</td>\n",
       "      <td>1</td>\n",
       "      <td>1.418440</td>\n",
       "    </tr>\n",
       "    <tr>\n",
       "      <th>25</th>\n",
       "      <td>Stouts</td>\n",
       "      <td>1</td>\n",
       "      <td>3.510638</td>\n",
       "    </tr>\n",
       "    <tr>\n",
       "      <th>26</th>\n",
       "      <td>Strong Ales</td>\n",
       "      <td>1</td>\n",
       "      <td>3.950355</td>\n",
       "    </tr>\n",
       "    <tr>\n",
       "      <th>27</th>\n",
       "      <td>Weird Cocktail</td>\n",
       "      <td>1</td>\n",
       "      <td>0.156028</td>\n",
       "    </tr>\n",
       "    <tr>\n",
       "      <th>28</th>\n",
       "      <td>Wheat Beers</td>\n",
       "      <td>1</td>\n",
       "      <td>4.744681</td>\n",
       "    </tr>\n",
       "    <tr>\n",
       "      <th>29</th>\n",
       "      <td>Wild/Sour Beers</td>\n",
       "      <td>1</td>\n",
       "      <td>0.283688</td>\n",
       "    </tr>\n",
       "    <tr>\n",
       "      <th>30</th>\n",
       "      <td>Bocks</td>\n",
       "      <td>2</td>\n",
       "      <td>1.659898</td>\n",
       "    </tr>\n",
       "    <tr>\n",
       "      <th>31</th>\n",
       "      <td>Brown Ales</td>\n",
       "      <td>2</td>\n",
       "      <td>3.281726</td>\n",
       "    </tr>\n",
       "    <tr>\n",
       "      <th>32</th>\n",
       "      <td>Dark Ales</td>\n",
       "      <td>2</td>\n",
       "      <td>1.654822</td>\n",
       "    </tr>\n",
       "    <tr>\n",
       "      <th>33</th>\n",
       "      <td>Dark Lagers</td>\n",
       "      <td>2</td>\n",
       "      <td>1.530457</td>\n",
       "    </tr>\n",
       "    <tr>\n",
       "      <th>34</th>\n",
       "      <td>Hybrid Beers</td>\n",
       "      <td>2</td>\n",
       "      <td>0.337563</td>\n",
       "    </tr>\n",
       "    <tr>\n",
       "      <th>35</th>\n",
       "      <td>India Pale Ales</td>\n",
       "      <td>2</td>\n",
       "      <td>8.192893</td>\n",
       "    </tr>\n",
       "    <tr>\n",
       "      <th>36</th>\n",
       "      <td>Pale Ales</td>\n",
       "      <td>2</td>\n",
       "      <td>9.408629</td>\n",
       "    </tr>\n",
       "    <tr>\n",
       "      <th>37</th>\n",
       "      <td>Pale Lagers</td>\n",
       "      <td>2</td>\n",
       "      <td>3.868020</td>\n",
       "    </tr>\n",
       "    <tr>\n",
       "      <th>38</th>\n",
       "      <td>Porters</td>\n",
       "      <td>2</td>\n",
       "      <td>2.296954</td>\n",
       "    </tr>\n",
       "    <tr>\n",
       "      <th>39</th>\n",
       "      <td>Specialty Beer</td>\n",
       "      <td>2</td>\n",
       "      <td>1.743655</td>\n",
       "    </tr>\n",
       "    <tr>\n",
       "      <th>40</th>\n",
       "      <td>Stouts</td>\n",
       "      <td>2</td>\n",
       "      <td>5.119289</td>\n",
       "    </tr>\n",
       "    <tr>\n",
       "      <th>41</th>\n",
       "      <td>Strong Ales</td>\n",
       "      <td>2</td>\n",
       "      <td>6.131980</td>\n",
       "    </tr>\n",
       "    <tr>\n",
       "      <th>42</th>\n",
       "      <td>Weird Cocktail</td>\n",
       "      <td>2</td>\n",
       "      <td>0.063452</td>\n",
       "    </tr>\n",
       "    <tr>\n",
       "      <th>43</th>\n",
       "      <td>Wheat Beers</td>\n",
       "      <td>2</td>\n",
       "      <td>3.619289</td>\n",
       "    </tr>\n",
       "    <tr>\n",
       "      <th>44</th>\n",
       "      <td>Wild/Sour Beers</td>\n",
       "      <td>2</td>\n",
       "      <td>1.091371</td>\n",
       "    </tr>\n",
       "    <tr>\n",
       "      <th>45</th>\n",
       "      <td>Bocks</td>\n",
       "      <td>3</td>\n",
       "      <td>0.598326</td>\n",
       "    </tr>\n",
       "    <tr>\n",
       "      <th>46</th>\n",
       "      <td>Brown Ales</td>\n",
       "      <td>3</td>\n",
       "      <td>1.732218</td>\n",
       "    </tr>\n",
       "    <tr>\n",
       "      <th>47</th>\n",
       "      <td>Dark Ales</td>\n",
       "      <td>3</td>\n",
       "      <td>0.615063</td>\n",
       "    </tr>\n",
       "    <tr>\n",
       "      <th>48</th>\n",
       "      <td>Dark Lagers</td>\n",
       "      <td>3</td>\n",
       "      <td>0.548117</td>\n",
       "    </tr>\n",
       "    <tr>\n",
       "      <th>49</th>\n",
       "      <td>Hybrid Beers</td>\n",
       "      <td>3</td>\n",
       "      <td>0.234310</td>\n",
       "    </tr>\n",
       "    <tr>\n",
       "      <th>50</th>\n",
       "      <td>India Pale Ales</td>\n",
       "      <td>3</td>\n",
       "      <td>22.832636</td>\n",
       "    </tr>\n",
       "    <tr>\n",
       "      <th>51</th>\n",
       "      <td>Pale Ales</td>\n",
       "      <td>3</td>\n",
       "      <td>7.468619</td>\n",
       "    </tr>\n",
       "    <tr>\n",
       "      <th>52</th>\n",
       "      <td>Pale Lagers</td>\n",
       "      <td>3</td>\n",
       "      <td>2.012552</td>\n",
       "    </tr>\n",
       "    <tr>\n",
       "      <th>53</th>\n",
       "      <td>Porters</td>\n",
       "      <td>3</td>\n",
       "      <td>1.351464</td>\n",
       "    </tr>\n",
       "    <tr>\n",
       "      <th>54</th>\n",
       "      <td>Specialty Beer</td>\n",
       "      <td>3</td>\n",
       "      <td>1.221757</td>\n",
       "    </tr>\n",
       "    <tr>\n",
       "      <th>55</th>\n",
       "      <td>Stouts</td>\n",
       "      <td>3</td>\n",
       "      <td>4.556485</td>\n",
       "    </tr>\n",
       "    <tr>\n",
       "      <th>56</th>\n",
       "      <td>Strong Ales</td>\n",
       "      <td>3</td>\n",
       "      <td>4.075314</td>\n",
       "    </tr>\n",
       "    <tr>\n",
       "      <th>57</th>\n",
       "      <td>Weird Cocktail</td>\n",
       "      <td>3</td>\n",
       "      <td>0.012552</td>\n",
       "    </tr>\n",
       "    <tr>\n",
       "      <th>58</th>\n",
       "      <td>Wheat Beers</td>\n",
       "      <td>3</td>\n",
       "      <td>1.878661</td>\n",
       "    </tr>\n",
       "    <tr>\n",
       "      <th>59</th>\n",
       "      <td>Wild/Sour Beers</td>\n",
       "      <td>3</td>\n",
       "      <td>0.861925</td>\n",
       "    </tr>\n",
       "  </tbody>\n",
       "</table>\n",
       "</div>"
      ],
      "text/plain": [
       "              style cluster  Number of beer\n",
       "0             Bocks       0        0.816327\n",
       "1        Brown Ales       0        2.505102\n",
       "2         Dark Ales       0        0.959184\n",
       "3       Dark Lagers       0        0.632653\n",
       "4      Hybrid Beers       0        0.280612\n",
       "5   India Pale Ales       0        9.872449\n",
       "6         Pale Ales       0        4.750000\n",
       "7       Pale Lagers       0        1.295918\n",
       "8           Porters       0        3.096939\n",
       "9    Specialty Beer       0        1.341837\n",
       "10           Stouts       0       15.147959\n",
       "11      Strong Ales       0        6.168367\n",
       "12   Weird Cocktail       0        0.076531\n",
       "13      Wheat Beers       0        1.551020\n",
       "14  Wild/Sour Beers       0        1.505102\n",
       "15            Bocks       1        1.794326\n",
       "16       Brown Ales       1        2.723404\n",
       "17        Dark Ales       1        1.425532\n",
       "18      Dark Lagers       1        3.347518\n",
       "19     Hybrid Beers       1        0.382979\n",
       "20  India Pale Ales       1        3.297872\n",
       "21        Pale Ales       1        7.780142\n",
       "22      Pale Lagers       1       13.624113\n",
       "23          Porters       1        1.560284\n",
       "24   Specialty Beer       1        1.418440\n",
       "25           Stouts       1        3.510638\n",
       "26      Strong Ales       1        3.950355\n",
       "27   Weird Cocktail       1        0.156028\n",
       "28      Wheat Beers       1        4.744681\n",
       "29  Wild/Sour Beers       1        0.283688\n",
       "30            Bocks       2        1.659898\n",
       "31       Brown Ales       2        3.281726\n",
       "32        Dark Ales       2        1.654822\n",
       "33      Dark Lagers       2        1.530457\n",
       "34     Hybrid Beers       2        0.337563\n",
       "35  India Pale Ales       2        8.192893\n",
       "36        Pale Ales       2        9.408629\n",
       "37      Pale Lagers       2        3.868020\n",
       "38          Porters       2        2.296954\n",
       "39   Specialty Beer       2        1.743655\n",
       "40           Stouts       2        5.119289\n",
       "41      Strong Ales       2        6.131980\n",
       "42   Weird Cocktail       2        0.063452\n",
       "43      Wheat Beers       2        3.619289\n",
       "44  Wild/Sour Beers       2        1.091371\n",
       "45            Bocks       3        0.598326\n",
       "46       Brown Ales       3        1.732218\n",
       "47        Dark Ales       3        0.615063\n",
       "48      Dark Lagers       3        0.548117\n",
       "49     Hybrid Beers       3        0.234310\n",
       "50  India Pale Ales       3       22.832636\n",
       "51        Pale Ales       3        7.468619\n",
       "52      Pale Lagers       3        2.012552\n",
       "53          Porters       3        1.351464\n",
       "54   Specialty Beer       3        1.221757\n",
       "55           Stouts       3        4.556485\n",
       "56      Strong Ales       3        4.075314\n",
       "57   Weird Cocktail       3        0.012552\n",
       "58      Wheat Beers       3        1.878661\n",
       "59  Wild/Sour Beers       3        0.861925"
      ]
     },
     "execution_count": 44,
     "metadata": {},
     "output_type": "execute_result"
    }
   ],
   "source": [
    "#Display 4 clusters\n",
    "\n",
    "df_cluster_beer = pd.DataFrame(our_clustering_4.cluster_centers_.T)\n",
    "df_cluster_beer.index = user_to_cat_first.columns\n",
    "df_cluster_beer[\"style\"] = df_cluster_beer.index\n",
    "df_cluster_beer = pd.melt(df_cluster_beer, id_vars=[\"style\"], value_vars=[0,1,2,3])\n",
    "df_cluster_beer.columns = [\"style\", \"cluster\", \"Number of beer\"]\n",
    "df_cluster_beer"
   ]
  },
  {
   "cell_type": "code",
   "execution_count": 45,
   "metadata": {},
   "outputs": [
    {
     "data": {
      "text/html": [
       "<div>\n",
       "<style scoped>\n",
       "    .dataframe tbody tr th:only-of-type {\n",
       "        vertical-align: middle;\n",
       "    }\n",
       "\n",
       "    .dataframe tbody tr th {\n",
       "        vertical-align: top;\n",
       "    }\n",
       "\n",
       "    .dataframe thead th {\n",
       "        text-align: right;\n",
       "    }\n",
       "</style>\n",
       "<table border=\"1\" class=\"dataframe\">\n",
       "  <thead>\n",
       "    <tr style=\"text-align: right;\">\n",
       "      <th></th>\n",
       "      <th>category</th>\n",
       "      <th>cluster</th>\n",
       "      <th>Number of beer</th>\n",
       "    </tr>\n",
       "  </thead>\n",
       "  <tbody>\n",
       "    <tr>\n",
       "      <th>0</th>\n",
       "      <td>Bocks</td>\n",
       "      <td>0</td>\n",
       "      <td>0.993127</td>\n",
       "    </tr>\n",
       "    <tr>\n",
       "      <th>1</th>\n",
       "      <td>Brown Ales</td>\n",
       "      <td>0</td>\n",
       "      <td>2.477663</td>\n",
       "    </tr>\n",
       "    <tr>\n",
       "      <th>2</th>\n",
       "      <td>Dark Ales</td>\n",
       "      <td>0</td>\n",
       "      <td>1.171821</td>\n",
       "    </tr>\n",
       "    <tr>\n",
       "      <th>3</th>\n",
       "      <td>Dark Lagers</td>\n",
       "      <td>0</td>\n",
       "      <td>0.938144</td>\n",
       "    </tr>\n",
       "    <tr>\n",
       "      <th>4</th>\n",
       "      <td>Hybrid Beers</td>\n",
       "      <td>0</td>\n",
       "      <td>0.271478</td>\n",
       "    </tr>\n",
       "    <tr>\n",
       "      <th>...</th>\n",
       "      <td>...</td>\n",
       "      <td>...</td>\n",
       "      <td>...</td>\n",
       "    </tr>\n",
       "    <tr>\n",
       "      <th>70</th>\n",
       "      <td>Stouts</td>\n",
       "      <td>4</td>\n",
       "      <td>5.400673</td>\n",
       "    </tr>\n",
       "    <tr>\n",
       "      <th>71</th>\n",
       "      <td>Strong Ales</td>\n",
       "      <td>4</td>\n",
       "      <td>6.595960</td>\n",
       "    </tr>\n",
       "    <tr>\n",
       "      <th>72</th>\n",
       "      <td>Weird Cocktail</td>\n",
       "      <td>4</td>\n",
       "      <td>0.090909</td>\n",
       "    </tr>\n",
       "    <tr>\n",
       "      <th>73</th>\n",
       "      <td>Wheat Beers</td>\n",
       "      <td>4</td>\n",
       "      <td>3.969697</td>\n",
       "    </tr>\n",
       "    <tr>\n",
       "      <th>74</th>\n",
       "      <td>Wild/Sour Beers</td>\n",
       "      <td>4</td>\n",
       "      <td>1.037037</td>\n",
       "    </tr>\n",
       "  </tbody>\n",
       "</table>\n",
       "<p>75 rows × 3 columns</p>\n",
       "</div>"
      ],
      "text/plain": [
       "           category cluster  Number of beer\n",
       "0             Bocks       0        0.993127\n",
       "1        Brown Ales       0        2.477663\n",
       "2         Dark Ales       0        1.171821\n",
       "3       Dark Lagers       0        0.938144\n",
       "4      Hybrid Beers       0        0.271478\n",
       "..              ...     ...             ...\n",
       "70           Stouts       4        5.400673\n",
       "71      Strong Ales       4        6.595960\n",
       "72   Weird Cocktail       4        0.090909\n",
       "73      Wheat Beers       4        3.969697\n",
       "74  Wild/Sour Beers       4        1.037037\n",
       "\n",
       "[75 rows x 3 columns]"
      ]
     },
     "execution_count": 45,
     "metadata": {},
     "output_type": "execute_result"
    }
   ],
   "source": [
    "#display 5 clusters\n",
    "df_cluster_beer_5 = pd.DataFrame(our_clustering_5.cluster_centers_.T)\n",
    "df_cluster_beer_5.index = user_to_cat_first.columns\n",
    "df_cluster_beer_5[\"category\"] = df_cluster_beer_5.index\n",
    "df_cluster_beer_5 = pd.melt(df_cluster_beer_5, id_vars=[\"category\"], value_vars=[0,1,2,3,4])\n",
    "df_cluster_beer_5.columns = [\"category\", \"cluster\", \"Number of beer\"]\n",
    "df_cluster_beer_5"
   ]
  },
  {
   "cell_type": "code",
   "execution_count": 46,
   "metadata": {},
   "outputs": [
    {
     "data": {
      "application/vnd.plotly.v1+json": {
       "config": {
        "plotlyServerURL": "https://plot.ly"
       },
       "data": [
        {
         "hovertemplate": "cluster=0<br>style=%{x}<br>Number of beer=%{y}<extra></extra>",
         "legendgroup": "0",
         "line": {
          "color": "#636efa",
          "dash": "solid"
         },
         "marker": {
          "symbol": "circle"
         },
         "mode": "lines",
         "name": "0",
         "orientation": "v",
         "showlegend": true,
         "type": "scatter",
         "x": [
          "Bocks",
          "Brown Ales",
          "Dark Ales",
          "Dark Lagers",
          "Hybrid Beers",
          "India Pale Ales",
          "Pale Ales",
          "Pale Lagers",
          "Porters",
          "Specialty Beer",
          "Stouts",
          "Strong Ales",
          "Weird Cocktail",
          "Wheat Beers",
          "Wild/Sour Beers"
         ],
         "xaxis": "x",
         "y": [
          0.8163265306122454,
          2.5051020408163267,
          0.9591836734693882,
          0.6326530612244905,
          0.2806122448979592,
          9.872448979591834,
          4.75,
          1.295918367346938,
          3.0969387755102042,
          1.3418367346938775,
          15.147959183673475,
          6.1683673469387745,
          0.07653061224489796,
          1.5510204081632657,
          1.5051020408163258
         ],
         "yaxis": "y"
        },
        {
         "hovertemplate": "cluster=1<br>style=%{x}<br>Number of beer=%{y}<extra></extra>",
         "legendgroup": "1",
         "line": {
          "color": "#EF553B",
          "dash": "solid"
         },
         "marker": {
          "symbol": "circle"
         },
         "mode": "lines",
         "name": "1",
         "orientation": "v",
         "showlegend": true,
         "type": "scatter",
         "x": [
          "Bocks",
          "Brown Ales",
          "Dark Ales",
          "Dark Lagers",
          "Hybrid Beers",
          "India Pale Ales",
          "Pale Ales",
          "Pale Lagers",
          "Porters",
          "Specialty Beer",
          "Stouts",
          "Strong Ales",
          "Weird Cocktail",
          "Wheat Beers",
          "Wild/Sour Beers"
         ],
         "xaxis": "x",
         "y": [
          1.7943262411347523,
          2.723404255319149,
          1.425531914893617,
          3.3475177304964547,
          0.3829787234042553,
          3.297872340425533,
          7.780141843971631,
          13.62411347517731,
          1.5602836879432624,
          1.4184397163120568,
          3.510638297872343,
          3.950354609929078,
          0.15602836879432622,
          4.74468085106383,
          0.28368794326241065
         ],
         "yaxis": "y"
        },
        {
         "hovertemplate": "cluster=2<br>style=%{x}<br>Number of beer=%{y}<extra></extra>",
         "legendgroup": "2",
         "line": {
          "color": "#00cc96",
          "dash": "solid"
         },
         "marker": {
          "symbol": "circle"
         },
         "mode": "lines",
         "name": "2",
         "orientation": "v",
         "showlegend": true,
         "type": "scatter",
         "x": [
          "Bocks",
          "Brown Ales",
          "Dark Ales",
          "Dark Lagers",
          "Hybrid Beers",
          "India Pale Ales",
          "Pale Ales",
          "Pale Lagers",
          "Porters",
          "Specialty Beer",
          "Stouts",
          "Strong Ales",
          "Weird Cocktail",
          "Wheat Beers",
          "Wild/Sour Beers"
         ],
         "xaxis": "x",
         "y": [
          1.659898477157361,
          3.281725888324872,
          1.6548223350253806,
          1.530456852791878,
          0.33756345177664976,
          8.192893401015233,
          9.408629441624365,
          3.868020304568528,
          2.296954314720812,
          1.7436548223350263,
          5.119289340101524,
          6.131979695431471,
          0.0634517766497462,
          3.619289340101523,
          1.091370558375634
         ],
         "yaxis": "y"
        },
        {
         "hovertemplate": "cluster=3<br>style=%{x}<br>Number of beer=%{y}<extra></extra>",
         "legendgroup": "3",
         "line": {
          "color": "#ab63fa",
          "dash": "solid"
         },
         "marker": {
          "symbol": "circle"
         },
         "mode": "lines",
         "name": "3",
         "orientation": "v",
         "showlegend": true,
         "type": "scatter",
         "x": [
          "Bocks",
          "Brown Ales",
          "Dark Ales",
          "Dark Lagers",
          "Hybrid Beers",
          "India Pale Ales",
          "Pale Ales",
          "Pale Lagers",
          "Porters",
          "Specialty Beer",
          "Stouts",
          "Strong Ales",
          "Weird Cocktail",
          "Wheat Beers",
          "Wild/Sour Beers"
         ],
         "xaxis": "x",
         "y": [
          0.5983263598326367,
          1.7322175732217566,
          0.6150627615062763,
          0.5481171548117163,
          0.2343096234309624,
          22.83263598326361,
          7.468619246861924,
          2.0125523012552287,
          1.351464435146444,
          1.2217573221757325,
          4.556485355648537,
          4.07531380753138,
          0.01255230125523004,
          1.8786610878661099,
          0.8619246861924685
         ],
         "yaxis": "y"
        }
       ],
       "layout": {
        "legend": {
         "title": {
          "text": "cluster"
         },
         "tracegroupgap": 0
        },
        "template": {
         "data": {
          "bar": [
           {
            "error_x": {
             "color": "#2a3f5f"
            },
            "error_y": {
             "color": "#2a3f5f"
            },
            "marker": {
             "line": {
              "color": "#E5ECF6",
              "width": 0.5
             },
             "pattern": {
              "fillmode": "overlay",
              "size": 10,
              "solidity": 0.2
             }
            },
            "type": "bar"
           }
          ],
          "barpolar": [
           {
            "marker": {
             "line": {
              "color": "#E5ECF6",
              "width": 0.5
             },
             "pattern": {
              "fillmode": "overlay",
              "size": 10,
              "solidity": 0.2
             }
            },
            "type": "barpolar"
           }
          ],
          "carpet": [
           {
            "aaxis": {
             "endlinecolor": "#2a3f5f",
             "gridcolor": "white",
             "linecolor": "white",
             "minorgridcolor": "white",
             "startlinecolor": "#2a3f5f"
            },
            "baxis": {
             "endlinecolor": "#2a3f5f",
             "gridcolor": "white",
             "linecolor": "white",
             "minorgridcolor": "white",
             "startlinecolor": "#2a3f5f"
            },
            "type": "carpet"
           }
          ],
          "choropleth": [
           {
            "colorbar": {
             "outlinewidth": 0,
             "ticks": ""
            },
            "type": "choropleth"
           }
          ],
          "contour": [
           {
            "colorbar": {
             "outlinewidth": 0,
             "ticks": ""
            },
            "colorscale": [
             [
              0,
              "#0d0887"
             ],
             [
              0.1111111111111111,
              "#46039f"
             ],
             [
              0.2222222222222222,
              "#7201a8"
             ],
             [
              0.3333333333333333,
              "#9c179e"
             ],
             [
              0.4444444444444444,
              "#bd3786"
             ],
             [
              0.5555555555555556,
              "#d8576b"
             ],
             [
              0.6666666666666666,
              "#ed7953"
             ],
             [
              0.7777777777777778,
              "#fb9f3a"
             ],
             [
              0.8888888888888888,
              "#fdca26"
             ],
             [
              1,
              "#f0f921"
             ]
            ],
            "type": "contour"
           }
          ],
          "contourcarpet": [
           {
            "colorbar": {
             "outlinewidth": 0,
             "ticks": ""
            },
            "type": "contourcarpet"
           }
          ],
          "heatmap": [
           {
            "colorbar": {
             "outlinewidth": 0,
             "ticks": ""
            },
            "colorscale": [
             [
              0,
              "#0d0887"
             ],
             [
              0.1111111111111111,
              "#46039f"
             ],
             [
              0.2222222222222222,
              "#7201a8"
             ],
             [
              0.3333333333333333,
              "#9c179e"
             ],
             [
              0.4444444444444444,
              "#bd3786"
             ],
             [
              0.5555555555555556,
              "#d8576b"
             ],
             [
              0.6666666666666666,
              "#ed7953"
             ],
             [
              0.7777777777777778,
              "#fb9f3a"
             ],
             [
              0.8888888888888888,
              "#fdca26"
             ],
             [
              1,
              "#f0f921"
             ]
            ],
            "type": "heatmap"
           }
          ],
          "heatmapgl": [
           {
            "colorbar": {
             "outlinewidth": 0,
             "ticks": ""
            },
            "colorscale": [
             [
              0,
              "#0d0887"
             ],
             [
              0.1111111111111111,
              "#46039f"
             ],
             [
              0.2222222222222222,
              "#7201a8"
             ],
             [
              0.3333333333333333,
              "#9c179e"
             ],
             [
              0.4444444444444444,
              "#bd3786"
             ],
             [
              0.5555555555555556,
              "#d8576b"
             ],
             [
              0.6666666666666666,
              "#ed7953"
             ],
             [
              0.7777777777777778,
              "#fb9f3a"
             ],
             [
              0.8888888888888888,
              "#fdca26"
             ],
             [
              1,
              "#f0f921"
             ]
            ],
            "type": "heatmapgl"
           }
          ],
          "histogram": [
           {
            "marker": {
             "pattern": {
              "fillmode": "overlay",
              "size": 10,
              "solidity": 0.2
             }
            },
            "type": "histogram"
           }
          ],
          "histogram2d": [
           {
            "colorbar": {
             "outlinewidth": 0,
             "ticks": ""
            },
            "colorscale": [
             [
              0,
              "#0d0887"
             ],
             [
              0.1111111111111111,
              "#46039f"
             ],
             [
              0.2222222222222222,
              "#7201a8"
             ],
             [
              0.3333333333333333,
              "#9c179e"
             ],
             [
              0.4444444444444444,
              "#bd3786"
             ],
             [
              0.5555555555555556,
              "#d8576b"
             ],
             [
              0.6666666666666666,
              "#ed7953"
             ],
             [
              0.7777777777777778,
              "#fb9f3a"
             ],
             [
              0.8888888888888888,
              "#fdca26"
             ],
             [
              1,
              "#f0f921"
             ]
            ],
            "type": "histogram2d"
           }
          ],
          "histogram2dcontour": [
           {
            "colorbar": {
             "outlinewidth": 0,
             "ticks": ""
            },
            "colorscale": [
             [
              0,
              "#0d0887"
             ],
             [
              0.1111111111111111,
              "#46039f"
             ],
             [
              0.2222222222222222,
              "#7201a8"
             ],
             [
              0.3333333333333333,
              "#9c179e"
             ],
             [
              0.4444444444444444,
              "#bd3786"
             ],
             [
              0.5555555555555556,
              "#d8576b"
             ],
             [
              0.6666666666666666,
              "#ed7953"
             ],
             [
              0.7777777777777778,
              "#fb9f3a"
             ],
             [
              0.8888888888888888,
              "#fdca26"
             ],
             [
              1,
              "#f0f921"
             ]
            ],
            "type": "histogram2dcontour"
           }
          ],
          "mesh3d": [
           {
            "colorbar": {
             "outlinewidth": 0,
             "ticks": ""
            },
            "type": "mesh3d"
           }
          ],
          "parcoords": [
           {
            "line": {
             "colorbar": {
              "outlinewidth": 0,
              "ticks": ""
             }
            },
            "type": "parcoords"
           }
          ],
          "pie": [
           {
            "automargin": true,
            "type": "pie"
           }
          ],
          "scatter": [
           {
            "marker": {
             "colorbar": {
              "outlinewidth": 0,
              "ticks": ""
             }
            },
            "type": "scatter"
           }
          ],
          "scatter3d": [
           {
            "line": {
             "colorbar": {
              "outlinewidth": 0,
              "ticks": ""
             }
            },
            "marker": {
             "colorbar": {
              "outlinewidth": 0,
              "ticks": ""
             }
            },
            "type": "scatter3d"
           }
          ],
          "scattercarpet": [
           {
            "marker": {
             "colorbar": {
              "outlinewidth": 0,
              "ticks": ""
             }
            },
            "type": "scattercarpet"
           }
          ],
          "scattergeo": [
           {
            "marker": {
             "colorbar": {
              "outlinewidth": 0,
              "ticks": ""
             }
            },
            "type": "scattergeo"
           }
          ],
          "scattergl": [
           {
            "marker": {
             "colorbar": {
              "outlinewidth": 0,
              "ticks": ""
             }
            },
            "type": "scattergl"
           }
          ],
          "scattermapbox": [
           {
            "marker": {
             "colorbar": {
              "outlinewidth": 0,
              "ticks": ""
             }
            },
            "type": "scattermapbox"
           }
          ],
          "scatterpolar": [
           {
            "marker": {
             "colorbar": {
              "outlinewidth": 0,
              "ticks": ""
             }
            },
            "type": "scatterpolar"
           }
          ],
          "scatterpolargl": [
           {
            "marker": {
             "colorbar": {
              "outlinewidth": 0,
              "ticks": ""
             }
            },
            "type": "scatterpolargl"
           }
          ],
          "scatterternary": [
           {
            "marker": {
             "colorbar": {
              "outlinewidth": 0,
              "ticks": ""
             }
            },
            "type": "scatterternary"
           }
          ],
          "surface": [
           {
            "colorbar": {
             "outlinewidth": 0,
             "ticks": ""
            },
            "colorscale": [
             [
              0,
              "#0d0887"
             ],
             [
              0.1111111111111111,
              "#46039f"
             ],
             [
              0.2222222222222222,
              "#7201a8"
             ],
             [
              0.3333333333333333,
              "#9c179e"
             ],
             [
              0.4444444444444444,
              "#bd3786"
             ],
             [
              0.5555555555555556,
              "#d8576b"
             ],
             [
              0.6666666666666666,
              "#ed7953"
             ],
             [
              0.7777777777777778,
              "#fb9f3a"
             ],
             [
              0.8888888888888888,
              "#fdca26"
             ],
             [
              1,
              "#f0f921"
             ]
            ],
            "type": "surface"
           }
          ],
          "table": [
           {
            "cells": {
             "fill": {
              "color": "#EBF0F8"
             },
             "line": {
              "color": "white"
             }
            },
            "header": {
             "fill": {
              "color": "#C8D4E3"
             },
             "line": {
              "color": "white"
             }
            },
            "type": "table"
           }
          ]
         },
         "layout": {
          "annotationdefaults": {
           "arrowcolor": "#2a3f5f",
           "arrowhead": 0,
           "arrowwidth": 1
          },
          "autotypenumbers": "strict",
          "coloraxis": {
           "colorbar": {
            "outlinewidth": 0,
            "ticks": ""
           }
          },
          "colorscale": {
           "diverging": [
            [
             0,
             "#8e0152"
            ],
            [
             0.1,
             "#c51b7d"
            ],
            [
             0.2,
             "#de77ae"
            ],
            [
             0.3,
             "#f1b6da"
            ],
            [
             0.4,
             "#fde0ef"
            ],
            [
             0.5,
             "#f7f7f7"
            ],
            [
             0.6,
             "#e6f5d0"
            ],
            [
             0.7,
             "#b8e186"
            ],
            [
             0.8,
             "#7fbc41"
            ],
            [
             0.9,
             "#4d9221"
            ],
            [
             1,
             "#276419"
            ]
           ],
           "sequential": [
            [
             0,
             "#0d0887"
            ],
            [
             0.1111111111111111,
             "#46039f"
            ],
            [
             0.2222222222222222,
             "#7201a8"
            ],
            [
             0.3333333333333333,
             "#9c179e"
            ],
            [
             0.4444444444444444,
             "#bd3786"
            ],
            [
             0.5555555555555556,
             "#d8576b"
            ],
            [
             0.6666666666666666,
             "#ed7953"
            ],
            [
             0.7777777777777778,
             "#fb9f3a"
            ],
            [
             0.8888888888888888,
             "#fdca26"
            ],
            [
             1,
             "#f0f921"
            ]
           ],
           "sequentialminus": [
            [
             0,
             "#0d0887"
            ],
            [
             0.1111111111111111,
             "#46039f"
            ],
            [
             0.2222222222222222,
             "#7201a8"
            ],
            [
             0.3333333333333333,
             "#9c179e"
            ],
            [
             0.4444444444444444,
             "#bd3786"
            ],
            [
             0.5555555555555556,
             "#d8576b"
            ],
            [
             0.6666666666666666,
             "#ed7953"
            ],
            [
             0.7777777777777778,
             "#fb9f3a"
            ],
            [
             0.8888888888888888,
             "#fdca26"
            ],
            [
             1,
             "#f0f921"
            ]
           ]
          },
          "colorway": [
           "#636efa",
           "#EF553B",
           "#00cc96",
           "#ab63fa",
           "#FFA15A",
           "#19d3f3",
           "#FF6692",
           "#B6E880",
           "#FF97FF",
           "#FECB52"
          ],
          "font": {
           "color": "#2a3f5f"
          },
          "geo": {
           "bgcolor": "white",
           "lakecolor": "white",
           "landcolor": "#E5ECF6",
           "showlakes": true,
           "showland": true,
           "subunitcolor": "white"
          },
          "hoverlabel": {
           "align": "left"
          },
          "hovermode": "closest",
          "mapbox": {
           "style": "light"
          },
          "paper_bgcolor": "white",
          "plot_bgcolor": "#E5ECF6",
          "polar": {
           "angularaxis": {
            "gridcolor": "white",
            "linecolor": "white",
            "ticks": ""
           },
           "bgcolor": "#E5ECF6",
           "radialaxis": {
            "gridcolor": "white",
            "linecolor": "white",
            "ticks": ""
           }
          },
          "scene": {
           "xaxis": {
            "backgroundcolor": "#E5ECF6",
            "gridcolor": "white",
            "gridwidth": 2,
            "linecolor": "white",
            "showbackground": true,
            "ticks": "",
            "zerolinecolor": "white"
           },
           "yaxis": {
            "backgroundcolor": "#E5ECF6",
            "gridcolor": "white",
            "gridwidth": 2,
            "linecolor": "white",
            "showbackground": true,
            "ticks": "",
            "zerolinecolor": "white"
           },
           "zaxis": {
            "backgroundcolor": "#E5ECF6",
            "gridcolor": "white",
            "gridwidth": 2,
            "linecolor": "white",
            "showbackground": true,
            "ticks": "",
            "zerolinecolor": "white"
           }
          },
          "shapedefaults": {
           "line": {
            "color": "#2a3f5f"
           }
          },
          "ternary": {
           "aaxis": {
            "gridcolor": "white",
            "linecolor": "white",
            "ticks": ""
           },
           "baxis": {
            "gridcolor": "white",
            "linecolor": "white",
            "ticks": ""
           },
           "bgcolor": "#E5ECF6",
           "caxis": {
            "gridcolor": "white",
            "linecolor": "white",
            "ticks": ""
           }
          },
          "title": {
           "x": 0.05
          },
          "xaxis": {
           "automargin": true,
           "gridcolor": "white",
           "linecolor": "white",
           "ticks": "",
           "title": {
            "standoff": 15
           },
           "zerolinecolor": "white",
           "zerolinewidth": 2
          },
          "yaxis": {
           "automargin": true,
           "gridcolor": "white",
           "linecolor": "white",
           "ticks": "",
           "title": {
            "standoff": 15
           },
           "zerolinecolor": "white",
           "zerolinewidth": 2
          }
         }
        },
        "title": {
         "text": "Centroids obtained with Kmeans (k=4) of the first 50 ratings of each user"
        },
        "xaxis": {
         "anchor": "y",
         "domain": [
          0,
          1
         ],
         "title": {
          "text": "style"
         }
        },
        "yaxis": {
         "anchor": "x",
         "domain": [
          0,
          1
         ],
         "title": {
          "text": "Number of beer"
         }
        }
       }
      }
     },
     "metadata": {},
     "output_type": "display_data"
    }
   ],
   "source": [
    "fig = px.line(df_cluster_beer, x=\"style\", y=\"Number of beer\", color=\"cluster\", title=\"Centroids obtained with Kmeans (k=4) of the first 50 ratings of each user\")\n",
    "fig.show()\n",
    "#fig.write_html(\"centroid.html\")"
   ]
  },
  {
   "attachments": {},
   "cell_type": "markdown",
   "metadata": {},
   "source": [
    "we see that 3 cluster are really corelatd -> can be merged into 2 : IPA lovers, and beer discoverer -> keep k = 4"
   ]
  },
  {
   "cell_type": "code",
   "execution_count": 47,
   "metadata": {},
   "outputs": [],
   "source": [
    "df_valid_ratings.to_pickle('leandrinho.pkl')"
   ]
  },
  {
   "cell_type": "code",
   "execution_count": 48,
   "metadata": {},
   "outputs": [
    {
     "data": {
      "application/vnd.plotly.v1+json": {
       "config": {
        "plotlyServerURL": "https://plot.ly"
       },
       "data": [
        {
         "hovertemplate": "cluster=0<br>category=%{x}<br>Number of beer=%{y}<extra></extra>",
         "legendgroup": "0",
         "line": {
          "color": "#636efa",
          "dash": "solid"
         },
         "marker": {
          "symbol": "circle"
         },
         "mode": "lines",
         "name": "0",
         "orientation": "v",
         "showlegend": true,
         "type": "scatter",
         "x": [
          "Bocks",
          "Brown Ales",
          "Dark Ales",
          "Dark Lagers",
          "Hybrid Beers",
          "India Pale Ales",
          "Pale Ales",
          "Pale Lagers",
          "Porters",
          "Specialty Beer",
          "Stouts",
          "Strong Ales",
          "Weird Cocktail",
          "Wheat Beers",
          "Wild/Sour Beers"
         ],
         "xaxis": "x",
         "y": [
          0.9931271477663235,
          2.47766323024055,
          1.1718213058419247,
          0.9381443298969077,
          0.27147766323024064,
          14.86254295532646,
          8.144329896907216,
          3.1408934707903775,
          1.93127147766323,
          1.8144329896907223,
          5.711340206185568,
          5,
          0.03780068728522333,
          2.5360824742268044,
          0.9690721649484536
         ],
         "yaxis": "y"
        },
        {
         "hovertemplate": "cluster=1<br>category=%{x}<br>Number of beer=%{y}<extra></extra>",
         "legendgroup": "1",
         "line": {
          "color": "#EF553B",
          "dash": "solid"
         },
         "marker": {
          "symbol": "circle"
         },
         "mode": "lines",
         "name": "1",
         "orientation": "v",
         "showlegend": true,
         "type": "scatter",
         "x": [
          "Bocks",
          "Brown Ales",
          "Dark Ales",
          "Dark Lagers",
          "Hybrid Beers",
          "India Pale Ales",
          "Pale Ales",
          "Pale Lagers",
          "Porters",
          "Specialty Beer",
          "Stouts",
          "Strong Ales",
          "Weird Cocktail",
          "Wheat Beers",
          "Wild/Sour Beers"
         ],
         "xaxis": "x",
         "y": [
          1.5876288659793816,
          2.195876288659794,
          1.0824742268041239,
          3.2268041237113407,
          0.4123711340206186,
          3.773195876288658,
          7.422680412371133,
          15.907216494845365,
          1.134020618556701,
          1.2783505154639174,
          2.876288659793816,
          3.6185567010309283,
          0.1546391752577319,
          5.11340206185567,
          0.21649484536082442
         ],
         "yaxis": "y"
        },
        {
         "hovertemplate": "cluster=2<br>category=%{x}<br>Number of beer=%{y}<extra></extra>",
         "legendgroup": "2",
         "line": {
          "color": "#00cc96",
          "dash": "solid"
         },
         "marker": {
          "symbol": "circle"
         },
         "mode": "lines",
         "name": "2",
         "orientation": "v",
         "showlegend": true,
         "type": "scatter",
         "x": [
          "Bocks",
          "Brown Ales",
          "Dark Ales",
          "Dark Lagers",
          "Hybrid Beers",
          "India Pale Ales",
          "Pale Ales",
          "Pale Lagers",
          "Porters",
          "Specialty Beer",
          "Stouts",
          "Strong Ales",
          "Weird Cocktail",
          "Wheat Beers",
          "Wild/Sour Beers"
         ],
         "xaxis": "x",
         "y": [
          0.35384615384615437,
          1.3384615384615377,
          0.4153846153846158,
          0.4615384615384619,
          0.2076923076923078,
          26.692307692307704,
          7.361538461538461,
          1.7153846153846146,
          1.0076923076923077,
          0.9000000000000004,
          3.800000000000001,
          3.3307692307692296,
          0.015384615384615379,
          1.5923076923076929,
          0.8076923076923077
         ],
         "yaxis": "y"
        },
        {
         "hovertemplate": "cluster=3<br>category=%{x}<br>Number of beer=%{y}<extra></extra>",
         "legendgroup": "3",
         "line": {
          "color": "#ab63fa",
          "dash": "solid"
         },
         "marker": {
          "symbol": "circle"
         },
         "mode": "lines",
         "name": "3",
         "orientation": "v",
         "showlegend": true,
         "type": "scatter",
         "x": [
          "Bocks",
          "Brown Ales",
          "Dark Ales",
          "Dark Lagers",
          "Hybrid Beers",
          "India Pale Ales",
          "Pale Ales",
          "Pale Lagers",
          "Porters",
          "Specialty Beer",
          "Stouts",
          "Strong Ales",
          "Weird Cocktail",
          "Wheat Beers",
          "Wild/Sour Beers"
         ],
         "xaxis": "x",
         "y": [
          0.8322580645161293,
          2.3161290322580643,
          0.9032258064516132,
          0.6064516129032262,
          0.2838709677419355,
          9.387096774193546,
          4.380645161290322,
          1.103225806451611,
          3.2451612903225806,
          1.2516129032258063,
          16.32903225806452,
          6.180645161290323,
          0.06451612903225803,
          1.470967741935484,
          1.6451612903225799
         ],
         "yaxis": "y"
        },
        {
         "hovertemplate": "cluster=4<br>category=%{x}<br>Number of beer=%{y}<extra></extra>",
         "legendgroup": "4",
         "line": {
          "color": "#FFA15A",
          "dash": "solid"
         },
         "marker": {
          "symbol": "circle"
         },
         "mode": "lines",
         "name": "4",
         "orientation": "v",
         "showlegend": true,
         "type": "scatter",
         "x": [
          "Bocks",
          "Brown Ales",
          "Dark Ales",
          "Dark Lagers",
          "Hybrid Beers",
          "India Pale Ales",
          "Pale Ales",
          "Pale Lagers",
          "Porters",
          "Specialty Beer",
          "Stouts",
          "Strong Ales",
          "Weird Cocktail",
          "Wheat Beers",
          "Wild/Sour Beers"
         ],
         "xaxis": "x",
         "y": [
          1.993265993265994,
          3.754208754208753,
          1.8451178451178445,
          1.986531986531987,
          0.36363636363636376,
          4.946127946127956,
          9.407407407407407,
          4.474747474747475,
          2.5218855218855216,
          1.6127946127946136,
          5.400673400673403,
          6.595959595959595,
          0.09090909090909086,
          3.9696969696969697,
          1.037037037037037
         ],
         "yaxis": "y"
        }
       ],
       "layout": {
        "legend": {
         "title": {
          "text": "cluster"
         },
         "tracegroupgap": 0
        },
        "template": {
         "data": {
          "bar": [
           {
            "error_x": {
             "color": "#2a3f5f"
            },
            "error_y": {
             "color": "#2a3f5f"
            },
            "marker": {
             "line": {
              "color": "#E5ECF6",
              "width": 0.5
             },
             "pattern": {
              "fillmode": "overlay",
              "size": 10,
              "solidity": 0.2
             }
            },
            "type": "bar"
           }
          ],
          "barpolar": [
           {
            "marker": {
             "line": {
              "color": "#E5ECF6",
              "width": 0.5
             },
             "pattern": {
              "fillmode": "overlay",
              "size": 10,
              "solidity": 0.2
             }
            },
            "type": "barpolar"
           }
          ],
          "carpet": [
           {
            "aaxis": {
             "endlinecolor": "#2a3f5f",
             "gridcolor": "white",
             "linecolor": "white",
             "minorgridcolor": "white",
             "startlinecolor": "#2a3f5f"
            },
            "baxis": {
             "endlinecolor": "#2a3f5f",
             "gridcolor": "white",
             "linecolor": "white",
             "minorgridcolor": "white",
             "startlinecolor": "#2a3f5f"
            },
            "type": "carpet"
           }
          ],
          "choropleth": [
           {
            "colorbar": {
             "outlinewidth": 0,
             "ticks": ""
            },
            "type": "choropleth"
           }
          ],
          "contour": [
           {
            "colorbar": {
             "outlinewidth": 0,
             "ticks": ""
            },
            "colorscale": [
             [
              0,
              "#0d0887"
             ],
             [
              0.1111111111111111,
              "#46039f"
             ],
             [
              0.2222222222222222,
              "#7201a8"
             ],
             [
              0.3333333333333333,
              "#9c179e"
             ],
             [
              0.4444444444444444,
              "#bd3786"
             ],
             [
              0.5555555555555556,
              "#d8576b"
             ],
             [
              0.6666666666666666,
              "#ed7953"
             ],
             [
              0.7777777777777778,
              "#fb9f3a"
             ],
             [
              0.8888888888888888,
              "#fdca26"
             ],
             [
              1,
              "#f0f921"
             ]
            ],
            "type": "contour"
           }
          ],
          "contourcarpet": [
           {
            "colorbar": {
             "outlinewidth": 0,
             "ticks": ""
            },
            "type": "contourcarpet"
           }
          ],
          "heatmap": [
           {
            "colorbar": {
             "outlinewidth": 0,
             "ticks": ""
            },
            "colorscale": [
             [
              0,
              "#0d0887"
             ],
             [
              0.1111111111111111,
              "#46039f"
             ],
             [
              0.2222222222222222,
              "#7201a8"
             ],
             [
              0.3333333333333333,
              "#9c179e"
             ],
             [
              0.4444444444444444,
              "#bd3786"
             ],
             [
              0.5555555555555556,
              "#d8576b"
             ],
             [
              0.6666666666666666,
              "#ed7953"
             ],
             [
              0.7777777777777778,
              "#fb9f3a"
             ],
             [
              0.8888888888888888,
              "#fdca26"
             ],
             [
              1,
              "#f0f921"
             ]
            ],
            "type": "heatmap"
           }
          ],
          "heatmapgl": [
           {
            "colorbar": {
             "outlinewidth": 0,
             "ticks": ""
            },
            "colorscale": [
             [
              0,
              "#0d0887"
             ],
             [
              0.1111111111111111,
              "#46039f"
             ],
             [
              0.2222222222222222,
              "#7201a8"
             ],
             [
              0.3333333333333333,
              "#9c179e"
             ],
             [
              0.4444444444444444,
              "#bd3786"
             ],
             [
              0.5555555555555556,
              "#d8576b"
             ],
             [
              0.6666666666666666,
              "#ed7953"
             ],
             [
              0.7777777777777778,
              "#fb9f3a"
             ],
             [
              0.8888888888888888,
              "#fdca26"
             ],
             [
              1,
              "#f0f921"
             ]
            ],
            "type": "heatmapgl"
           }
          ],
          "histogram": [
           {
            "marker": {
             "pattern": {
              "fillmode": "overlay",
              "size": 10,
              "solidity": 0.2
             }
            },
            "type": "histogram"
           }
          ],
          "histogram2d": [
           {
            "colorbar": {
             "outlinewidth": 0,
             "ticks": ""
            },
            "colorscale": [
             [
              0,
              "#0d0887"
             ],
             [
              0.1111111111111111,
              "#46039f"
             ],
             [
              0.2222222222222222,
              "#7201a8"
             ],
             [
              0.3333333333333333,
              "#9c179e"
             ],
             [
              0.4444444444444444,
              "#bd3786"
             ],
             [
              0.5555555555555556,
              "#d8576b"
             ],
             [
              0.6666666666666666,
              "#ed7953"
             ],
             [
              0.7777777777777778,
              "#fb9f3a"
             ],
             [
              0.8888888888888888,
              "#fdca26"
             ],
             [
              1,
              "#f0f921"
             ]
            ],
            "type": "histogram2d"
           }
          ],
          "histogram2dcontour": [
           {
            "colorbar": {
             "outlinewidth": 0,
             "ticks": ""
            },
            "colorscale": [
             [
              0,
              "#0d0887"
             ],
             [
              0.1111111111111111,
              "#46039f"
             ],
             [
              0.2222222222222222,
              "#7201a8"
             ],
             [
              0.3333333333333333,
              "#9c179e"
             ],
             [
              0.4444444444444444,
              "#bd3786"
             ],
             [
              0.5555555555555556,
              "#d8576b"
             ],
             [
              0.6666666666666666,
              "#ed7953"
             ],
             [
              0.7777777777777778,
              "#fb9f3a"
             ],
             [
              0.8888888888888888,
              "#fdca26"
             ],
             [
              1,
              "#f0f921"
             ]
            ],
            "type": "histogram2dcontour"
           }
          ],
          "mesh3d": [
           {
            "colorbar": {
             "outlinewidth": 0,
             "ticks": ""
            },
            "type": "mesh3d"
           }
          ],
          "parcoords": [
           {
            "line": {
             "colorbar": {
              "outlinewidth": 0,
              "ticks": ""
             }
            },
            "type": "parcoords"
           }
          ],
          "pie": [
           {
            "automargin": true,
            "type": "pie"
           }
          ],
          "scatter": [
           {
            "marker": {
             "colorbar": {
              "outlinewidth": 0,
              "ticks": ""
             }
            },
            "type": "scatter"
           }
          ],
          "scatter3d": [
           {
            "line": {
             "colorbar": {
              "outlinewidth": 0,
              "ticks": ""
             }
            },
            "marker": {
             "colorbar": {
              "outlinewidth": 0,
              "ticks": ""
             }
            },
            "type": "scatter3d"
           }
          ],
          "scattercarpet": [
           {
            "marker": {
             "colorbar": {
              "outlinewidth": 0,
              "ticks": ""
             }
            },
            "type": "scattercarpet"
           }
          ],
          "scattergeo": [
           {
            "marker": {
             "colorbar": {
              "outlinewidth": 0,
              "ticks": ""
             }
            },
            "type": "scattergeo"
           }
          ],
          "scattergl": [
           {
            "marker": {
             "colorbar": {
              "outlinewidth": 0,
              "ticks": ""
             }
            },
            "type": "scattergl"
           }
          ],
          "scattermapbox": [
           {
            "marker": {
             "colorbar": {
              "outlinewidth": 0,
              "ticks": ""
             }
            },
            "type": "scattermapbox"
           }
          ],
          "scatterpolar": [
           {
            "marker": {
             "colorbar": {
              "outlinewidth": 0,
              "ticks": ""
             }
            },
            "type": "scatterpolar"
           }
          ],
          "scatterpolargl": [
           {
            "marker": {
             "colorbar": {
              "outlinewidth": 0,
              "ticks": ""
             }
            },
            "type": "scatterpolargl"
           }
          ],
          "scatterternary": [
           {
            "marker": {
             "colorbar": {
              "outlinewidth": 0,
              "ticks": ""
             }
            },
            "type": "scatterternary"
           }
          ],
          "surface": [
           {
            "colorbar": {
             "outlinewidth": 0,
             "ticks": ""
            },
            "colorscale": [
             [
              0,
              "#0d0887"
             ],
             [
              0.1111111111111111,
              "#46039f"
             ],
             [
              0.2222222222222222,
              "#7201a8"
             ],
             [
              0.3333333333333333,
              "#9c179e"
             ],
             [
              0.4444444444444444,
              "#bd3786"
             ],
             [
              0.5555555555555556,
              "#d8576b"
             ],
             [
              0.6666666666666666,
              "#ed7953"
             ],
             [
              0.7777777777777778,
              "#fb9f3a"
             ],
             [
              0.8888888888888888,
              "#fdca26"
             ],
             [
              1,
              "#f0f921"
             ]
            ],
            "type": "surface"
           }
          ],
          "table": [
           {
            "cells": {
             "fill": {
              "color": "#EBF0F8"
             },
             "line": {
              "color": "white"
             }
            },
            "header": {
             "fill": {
              "color": "#C8D4E3"
             },
             "line": {
              "color": "white"
             }
            },
            "type": "table"
           }
          ]
         },
         "layout": {
          "annotationdefaults": {
           "arrowcolor": "#2a3f5f",
           "arrowhead": 0,
           "arrowwidth": 1
          },
          "autotypenumbers": "strict",
          "coloraxis": {
           "colorbar": {
            "outlinewidth": 0,
            "ticks": ""
           }
          },
          "colorscale": {
           "diverging": [
            [
             0,
             "#8e0152"
            ],
            [
             0.1,
             "#c51b7d"
            ],
            [
             0.2,
             "#de77ae"
            ],
            [
             0.3,
             "#f1b6da"
            ],
            [
             0.4,
             "#fde0ef"
            ],
            [
             0.5,
             "#f7f7f7"
            ],
            [
             0.6,
             "#e6f5d0"
            ],
            [
             0.7,
             "#b8e186"
            ],
            [
             0.8,
             "#7fbc41"
            ],
            [
             0.9,
             "#4d9221"
            ],
            [
             1,
             "#276419"
            ]
           ],
           "sequential": [
            [
             0,
             "#0d0887"
            ],
            [
             0.1111111111111111,
             "#46039f"
            ],
            [
             0.2222222222222222,
             "#7201a8"
            ],
            [
             0.3333333333333333,
             "#9c179e"
            ],
            [
             0.4444444444444444,
             "#bd3786"
            ],
            [
             0.5555555555555556,
             "#d8576b"
            ],
            [
             0.6666666666666666,
             "#ed7953"
            ],
            [
             0.7777777777777778,
             "#fb9f3a"
            ],
            [
             0.8888888888888888,
             "#fdca26"
            ],
            [
             1,
             "#f0f921"
            ]
           ],
           "sequentialminus": [
            [
             0,
             "#0d0887"
            ],
            [
             0.1111111111111111,
             "#46039f"
            ],
            [
             0.2222222222222222,
             "#7201a8"
            ],
            [
             0.3333333333333333,
             "#9c179e"
            ],
            [
             0.4444444444444444,
             "#bd3786"
            ],
            [
             0.5555555555555556,
             "#d8576b"
            ],
            [
             0.6666666666666666,
             "#ed7953"
            ],
            [
             0.7777777777777778,
             "#fb9f3a"
            ],
            [
             0.8888888888888888,
             "#fdca26"
            ],
            [
             1,
             "#f0f921"
            ]
           ]
          },
          "colorway": [
           "#636efa",
           "#EF553B",
           "#00cc96",
           "#ab63fa",
           "#FFA15A",
           "#19d3f3",
           "#FF6692",
           "#B6E880",
           "#FF97FF",
           "#FECB52"
          ],
          "font": {
           "color": "#2a3f5f"
          },
          "geo": {
           "bgcolor": "white",
           "lakecolor": "white",
           "landcolor": "#E5ECF6",
           "showlakes": true,
           "showland": true,
           "subunitcolor": "white"
          },
          "hoverlabel": {
           "align": "left"
          },
          "hovermode": "closest",
          "mapbox": {
           "style": "light"
          },
          "paper_bgcolor": "white",
          "plot_bgcolor": "#E5ECF6",
          "polar": {
           "angularaxis": {
            "gridcolor": "white",
            "linecolor": "white",
            "ticks": ""
           },
           "bgcolor": "#E5ECF6",
           "radialaxis": {
            "gridcolor": "white",
            "linecolor": "white",
            "ticks": ""
           }
          },
          "scene": {
           "xaxis": {
            "backgroundcolor": "#E5ECF6",
            "gridcolor": "white",
            "gridwidth": 2,
            "linecolor": "white",
            "showbackground": true,
            "ticks": "",
            "zerolinecolor": "white"
           },
           "yaxis": {
            "backgroundcolor": "#E5ECF6",
            "gridcolor": "white",
            "gridwidth": 2,
            "linecolor": "white",
            "showbackground": true,
            "ticks": "",
            "zerolinecolor": "white"
           },
           "zaxis": {
            "backgroundcolor": "#E5ECF6",
            "gridcolor": "white",
            "gridwidth": 2,
            "linecolor": "white",
            "showbackground": true,
            "ticks": "",
            "zerolinecolor": "white"
           }
          },
          "shapedefaults": {
           "line": {
            "color": "#2a3f5f"
           }
          },
          "ternary": {
           "aaxis": {
            "gridcolor": "white",
            "linecolor": "white",
            "ticks": ""
           },
           "baxis": {
            "gridcolor": "white",
            "linecolor": "white",
            "ticks": ""
           },
           "bgcolor": "#E5ECF6",
           "caxis": {
            "gridcolor": "white",
            "linecolor": "white",
            "ticks": ""
           }
          },
          "title": {
           "x": 0.05
          },
          "xaxis": {
           "automargin": true,
           "gridcolor": "white",
           "linecolor": "white",
           "ticks": "",
           "title": {
            "standoff": 15
           },
           "zerolinecolor": "white",
           "zerolinewidth": 2
          },
          "yaxis": {
           "automargin": true,
           "gridcolor": "white",
           "linecolor": "white",
           "ticks": "",
           "title": {
            "standoff": 15
           },
           "zerolinecolor": "white",
           "zerolinewidth": 2
          }
         }
        },
        "title": {
         "text": "Centroids obtained with Kmeans (k=5) of the first 50 ratings of each user"
        },
        "xaxis": {
         "anchor": "y",
         "domain": [
          0,
          1
         ],
         "title": {
          "text": "category"
         }
        },
        "yaxis": {
         "anchor": "x",
         "domain": [
          0,
          1
         ],
         "title": {
          "text": "Number of beer"
         }
        }
       }
      }
     },
     "metadata": {},
     "output_type": "display_data"
    }
   ],
   "source": [
    "fig = px.line(df_cluster_beer_5, x=\"category\", y=\"Number of beer\", color=\"cluster\", title=\"Centroids obtained with Kmeans (k=5) of the first 50 ratings of each user\")\n",
    "fig.show()\n",
    "#fig.write_html(\"centroid_first_5_justification.html\")"
   ]
  },
  {
   "cell_type": "code",
   "execution_count": 49,
   "metadata": {},
   "outputs": [],
   "source": [
    "user_to_cat_first[\"first_50_cluster\"] = our_clustering_4.labels_"
   ]
  },
  {
   "cell_type": "code",
   "execution_count": 50,
   "metadata": {},
   "outputs": [
    {
     "data": {
      "text/html": [
       "<div>\n",
       "<style scoped>\n",
       "    .dataframe tbody tr th:only-of-type {\n",
       "        vertical-align: middle;\n",
       "    }\n",
       "\n",
       "    .dataframe tbody tr th {\n",
       "        vertical-align: top;\n",
       "    }\n",
       "\n",
       "    .dataframe thead th {\n",
       "        text-align: right;\n",
       "    }\n",
       "</style>\n",
       "<table border=\"1\" class=\"dataframe\">\n",
       "  <thead>\n",
       "    <tr style=\"text-align: right;\">\n",
       "      <th>category</th>\n",
       "      <th>Bocks</th>\n",
       "      <th>Brown Ales</th>\n",
       "      <th>Dark Ales</th>\n",
       "      <th>Dark Lagers</th>\n",
       "      <th>Hybrid Beers</th>\n",
       "      <th>India Pale Ales</th>\n",
       "      <th>Pale Ales</th>\n",
       "      <th>Pale Lagers</th>\n",
       "      <th>Porters</th>\n",
       "      <th>Specialty Beer</th>\n",
       "      <th>Stouts</th>\n",
       "      <th>Strong Ales</th>\n",
       "      <th>Weird Cocktail</th>\n",
       "      <th>Wheat Beers</th>\n",
       "      <th>Wild/Sour Beers</th>\n",
       "    </tr>\n",
       "    <tr>\n",
       "      <th>user_name</th>\n",
       "      <th></th>\n",
       "      <th></th>\n",
       "      <th></th>\n",
       "      <th></th>\n",
       "      <th></th>\n",
       "      <th></th>\n",
       "      <th></th>\n",
       "      <th></th>\n",
       "      <th></th>\n",
       "      <th></th>\n",
       "      <th></th>\n",
       "      <th></th>\n",
       "      <th></th>\n",
       "      <th></th>\n",
       "      <th></th>\n",
       "    </tr>\n",
       "  </thead>\n",
       "  <tbody>\n",
       "    <tr>\n",
       "      <th>-Rick</th>\n",
       "      <td>0</td>\n",
       "      <td>0</td>\n",
       "      <td>0</td>\n",
       "      <td>0</td>\n",
       "      <td>0</td>\n",
       "      <td>14</td>\n",
       "      <td>4</td>\n",
       "      <td>0</td>\n",
       "      <td>1</td>\n",
       "      <td>0</td>\n",
       "      <td>16</td>\n",
       "      <td>7</td>\n",
       "      <td>0</td>\n",
       "      <td>1</td>\n",
       "      <td>7</td>\n",
       "    </tr>\n",
       "    <tr>\n",
       "      <th>1000lbgrizzly</th>\n",
       "      <td>0</td>\n",
       "      <td>3</td>\n",
       "      <td>2</td>\n",
       "      <td>0</td>\n",
       "      <td>1</td>\n",
       "      <td>10</td>\n",
       "      <td>10</td>\n",
       "      <td>3</td>\n",
       "      <td>1</td>\n",
       "      <td>2</td>\n",
       "      <td>9</td>\n",
       "      <td>2</td>\n",
       "      <td>0</td>\n",
       "      <td>5</td>\n",
       "      <td>2</td>\n",
       "    </tr>\n",
       "    <tr>\n",
       "      <th>1424IpA</th>\n",
       "      <td>0</td>\n",
       "      <td>1</td>\n",
       "      <td>0</td>\n",
       "      <td>0</td>\n",
       "      <td>0</td>\n",
       "      <td>14</td>\n",
       "      <td>9</td>\n",
       "      <td>2</td>\n",
       "      <td>6</td>\n",
       "      <td>1</td>\n",
       "      <td>8</td>\n",
       "      <td>4</td>\n",
       "      <td>0</td>\n",
       "      <td>1</td>\n",
       "      <td>4</td>\n",
       "    </tr>\n",
       "    <tr>\n",
       "      <th>2Xmd</th>\n",
       "      <td>0</td>\n",
       "      <td>0</td>\n",
       "      <td>0</td>\n",
       "      <td>1</td>\n",
       "      <td>1</td>\n",
       "      <td>14</td>\n",
       "      <td>8</td>\n",
       "      <td>4</td>\n",
       "      <td>1</td>\n",
       "      <td>3</td>\n",
       "      <td>5</td>\n",
       "      <td>7</td>\n",
       "      <td>1</td>\n",
       "      <td>3</td>\n",
       "      <td>2</td>\n",
       "    </tr>\n",
       "    <tr>\n",
       "      <th>2ellas</th>\n",
       "      <td>0</td>\n",
       "      <td>3</td>\n",
       "      <td>1</td>\n",
       "      <td>2</td>\n",
       "      <td>0</td>\n",
       "      <td>15</td>\n",
       "      <td>3</td>\n",
       "      <td>10</td>\n",
       "      <td>3</td>\n",
       "      <td>1</td>\n",
       "      <td>6</td>\n",
       "      <td>3</td>\n",
       "      <td>0</td>\n",
       "      <td>2</td>\n",
       "      <td>1</td>\n",
       "    </tr>\n",
       "  </tbody>\n",
       "</table>\n",
       "</div>"
      ],
      "text/plain": [
       "category       Bocks  Brown Ales  Dark Ales  Dark Lagers  Hybrid Beers  \\\n",
       "user_name                                                                \n",
       "-Rick              0           0          0            0             0   \n",
       "1000lbgrizzly      0           3          2            0             1   \n",
       "1424IpA            0           1          0            0             0   \n",
       "2Xmd               0           0          0            1             1   \n",
       "2ellas             0           3          1            2             0   \n",
       "\n",
       "category       India Pale Ales  Pale Ales  Pale Lagers  Porters  \\\n",
       "user_name                                                         \n",
       "-Rick                       14          4            0        1   \n",
       "1000lbgrizzly               10         10            3        1   \n",
       "1424IpA                     14          9            2        6   \n",
       "2Xmd                        14          8            4        1   \n",
       "2ellas                      15          3           10        3   \n",
       "\n",
       "category       Specialty Beer  Stouts  Strong Ales  Weird Cocktail  \\\n",
       "user_name                                                            \n",
       "-Rick                       0      16            7               0   \n",
       "1000lbgrizzly               2       9            2               0   \n",
       "1424IpA                     1       8            4               0   \n",
       "2Xmd                        3       5            7               1   \n",
       "2ellas                      1       6            3               0   \n",
       "\n",
       "category       Wheat Beers  Wild/Sour Beers  \n",
       "user_name                                    \n",
       "-Rick                    1                7  \n",
       "1000lbgrizzly            5                2  \n",
       "1424IpA                  1                4  \n",
       "2Xmd                     3                2  \n",
       "2ellas                   2                1  "
      ]
     },
     "execution_count": 50,
     "metadata": {},
     "output_type": "execute_result"
    }
   ],
   "source": [
    "# How many beers of different categories a user rated in his last 50 ratings\n",
    "\n",
    "df_to_cluster_last = df_valid_ratings[df_valid_ratings[\"rating_number\"] >= 450]\n",
    "user_to_cat_last = df_to_cluster_last.groupby([\"user_name\", \"category\"])[\"beer_id\"].count()\n",
    "user_to_cat_last = user_to_cat_last.unstack(level=-1, fill_value = 0)\n",
    "user_to_cat_last.head(5)"
   ]
  },
  {
   "cell_type": "code",
   "execution_count": 51,
   "metadata": {},
   "outputs": [
    {
     "data": {
      "text/html": [
       "<div>\n",
       "<style scoped>\n",
       "    .dataframe tbody tr th:only-of-type {\n",
       "        vertical-align: middle;\n",
       "    }\n",
       "\n",
       "    .dataframe tbody tr th {\n",
       "        vertical-align: top;\n",
       "    }\n",
       "\n",
       "    .dataframe thead th {\n",
       "        text-align: right;\n",
       "    }\n",
       "</style>\n",
       "<table border=\"1\" class=\"dataframe\">\n",
       "  <thead>\n",
       "    <tr style=\"text-align: right;\">\n",
       "      <th>category</th>\n",
       "      <th>Bocks</th>\n",
       "      <th>Brown Ales</th>\n",
       "      <th>Dark Ales</th>\n",
       "      <th>Dark Lagers</th>\n",
       "      <th>Hybrid Beers</th>\n",
       "      <th>India Pale Ales</th>\n",
       "      <th>Pale Ales</th>\n",
       "      <th>Pale Lagers</th>\n",
       "      <th>Porters</th>\n",
       "      <th>Specialty Beer</th>\n",
       "      <th>Stouts</th>\n",
       "      <th>Strong Ales</th>\n",
       "      <th>Weird Cocktail</th>\n",
       "      <th>Wheat Beers</th>\n",
       "      <th>Wild/Sour Beers</th>\n",
       "      <th>first_50_cluster</th>\n",
       "    </tr>\n",
       "    <tr>\n",
       "      <th>user_name</th>\n",
       "      <th></th>\n",
       "      <th></th>\n",
       "      <th></th>\n",
       "      <th></th>\n",
       "      <th></th>\n",
       "      <th></th>\n",
       "      <th></th>\n",
       "      <th></th>\n",
       "      <th></th>\n",
       "      <th></th>\n",
       "      <th></th>\n",
       "      <th></th>\n",
       "      <th></th>\n",
       "      <th></th>\n",
       "      <th></th>\n",
       "      <th></th>\n",
       "    </tr>\n",
       "  </thead>\n",
       "  <tbody>\n",
       "    <tr>\n",
       "      <th>-Rick</th>\n",
       "      <td>0</td>\n",
       "      <td>2</td>\n",
       "      <td>0</td>\n",
       "      <td>2</td>\n",
       "      <td>0</td>\n",
       "      <td>29</td>\n",
       "      <td>7</td>\n",
       "      <td>2</td>\n",
       "      <td>2</td>\n",
       "      <td>2</td>\n",
       "      <td>3</td>\n",
       "      <td>1</td>\n",
       "      <td>0</td>\n",
       "      <td>0</td>\n",
       "      <td>0</td>\n",
       "      <td>3</td>\n",
       "    </tr>\n",
       "    <tr>\n",
       "      <th>1000lbgrizzly</th>\n",
       "      <td>0</td>\n",
       "      <td>5</td>\n",
       "      <td>0</td>\n",
       "      <td>1</td>\n",
       "      <td>0</td>\n",
       "      <td>4</td>\n",
       "      <td>9</td>\n",
       "      <td>7</td>\n",
       "      <td>2</td>\n",
       "      <td>8</td>\n",
       "      <td>6</td>\n",
       "      <td>4</td>\n",
       "      <td>0</td>\n",
       "      <td>3</td>\n",
       "      <td>1</td>\n",
       "      <td>2</td>\n",
       "    </tr>\n",
       "    <tr>\n",
       "      <th>1424IpA</th>\n",
       "      <td>0</td>\n",
       "      <td>0</td>\n",
       "      <td>1</td>\n",
       "      <td>0</td>\n",
       "      <td>0</td>\n",
       "      <td>21</td>\n",
       "      <td>3</td>\n",
       "      <td>1</td>\n",
       "      <td>1</td>\n",
       "      <td>1</td>\n",
       "      <td>12</td>\n",
       "      <td>4</td>\n",
       "      <td>0</td>\n",
       "      <td>1</td>\n",
       "      <td>5</td>\n",
       "      <td>3</td>\n",
       "    </tr>\n",
       "    <tr>\n",
       "      <th>2Xmd</th>\n",
       "      <td>0</td>\n",
       "      <td>2</td>\n",
       "      <td>1</td>\n",
       "      <td>1</td>\n",
       "      <td>0</td>\n",
       "      <td>25</td>\n",
       "      <td>5</td>\n",
       "      <td>1</td>\n",
       "      <td>1</td>\n",
       "      <td>2</td>\n",
       "      <td>9</td>\n",
       "      <td>1</td>\n",
       "      <td>0</td>\n",
       "      <td>2</td>\n",
       "      <td>0</td>\n",
       "      <td>3</td>\n",
       "    </tr>\n",
       "    <tr>\n",
       "      <th>2ellas</th>\n",
       "      <td>0</td>\n",
       "      <td>2</td>\n",
       "      <td>1</td>\n",
       "      <td>0</td>\n",
       "      <td>0</td>\n",
       "      <td>31</td>\n",
       "      <td>9</td>\n",
       "      <td>0</td>\n",
       "      <td>0</td>\n",
       "      <td>0</td>\n",
       "      <td>2</td>\n",
       "      <td>4</td>\n",
       "      <td>0</td>\n",
       "      <td>1</td>\n",
       "      <td>0</td>\n",
       "      <td>3</td>\n",
       "    </tr>\n",
       "  </tbody>\n",
       "</table>\n",
       "</div>"
      ],
      "text/plain": [
       "category       Bocks  Brown Ales  Dark Ales  Dark Lagers  Hybrid Beers  \\\n",
       "user_name                                                                \n",
       "-Rick              0           2          0            2             0   \n",
       "1000lbgrizzly      0           5          0            1             0   \n",
       "1424IpA            0           0          1            0             0   \n",
       "2Xmd               0           2          1            1             0   \n",
       "2ellas             0           2          1            0             0   \n",
       "\n",
       "category       India Pale Ales  Pale Ales  Pale Lagers  Porters  \\\n",
       "user_name                                                         \n",
       "-Rick                       29          7            2        2   \n",
       "1000lbgrizzly                4          9            7        2   \n",
       "1424IpA                     21          3            1        1   \n",
       "2Xmd                        25          5            1        1   \n",
       "2ellas                      31          9            0        0   \n",
       "\n",
       "category       Specialty Beer  Stouts  Strong Ales  Weird Cocktail  \\\n",
       "user_name                                                            \n",
       "-Rick                       2       3            1               0   \n",
       "1000lbgrizzly               8       6            4               0   \n",
       "1424IpA                     1      12            4               0   \n",
       "2Xmd                        2       9            1               0   \n",
       "2ellas                      0       2            4               0   \n",
       "\n",
       "category       Wheat Beers  Wild/Sour Beers  first_50_cluster  \n",
       "user_name                                                      \n",
       "-Rick                    0                0                 3  \n",
       "1000lbgrizzly            3                1                 2  \n",
       "1424IpA                  1                5                 3  \n",
       "2Xmd                     2                0                 3  \n",
       "2ellas                   1                0                 3  "
      ]
     },
     "execution_count": 51,
     "metadata": {},
     "output_type": "execute_result"
    }
   ],
   "source": [
    "user_to_cat_first[\"first_50_cluster\"] = our_clustering_4.labels_\n",
    "user_to_cat_last[\"first_50_cluster\"] = our_clustering_4.labels_\n",
    "\n",
    "user_to_cat_first.head(5)"
   ]
  },
  {
   "cell_type": "code",
   "execution_count": 52,
   "metadata": {},
   "outputs": [],
   "source": [
    "# cluster_team = user_to_cat_first['first_50_cluster'].unique()\n",
    "# categ_beer = user_to_cat_first.columns[1:16]\n",
    "\n",
    "# for team in cluster_team:\n",
    "#     for cate in categ_beer:\n",
    "#        _, ttest_pval = ttest_rel(user_to_cat_first[user_to_cat_first['first_50_cluster'] == team][cate],\n",
    "#                                  user_to_cat_last[user_to_cat_last['first_50_cluster'] == team][cate])\n",
    "#        ci_low_mean_first_rating, ci_high_mean_first_rating = bootstrap((user_to_cat_first[user_to_cat_first['first_50_cluster'] == team][cate].values,), np.mean).confidence_interval\n",
    "#        #ci_low_mean_last_rating, ci_high_mean_last_rating = bootstrap(user_to_cat_last[user_to_cat_last['first_50_cluster']==team][cate], np.mean).confidence_interval\n",
    "#        if ttest_pval<0.05:\n",
    "#         print('the p-value for ttest in the team',team,'for the category',cate,'is',ttest_pval)"
   ]
  },
  {
   "cell_type": "code",
   "execution_count": 53,
   "metadata": {},
   "outputs": [],
   "source": [
    "## Cluster bootstrap\n",
    "\n",
    "cluster_list=[]\n",
    "cate_list=[]\n",
    "ci_low_mean_first_rating_list=[]\n",
    "ci_high_mean_first_rating_list=[]\n",
    "mean_first_rating_list=[]\n",
    "ci_low_mean_last_rating_list=[]\n",
    "ci_high_mean_last_rating_list=[]\n",
    "mean_last_rating_list=[]\n",
    "t_test_list=[]\n",
    "\n",
    "cluster_team = user_to_cat_first['first_50_cluster'].unique()\n",
    "categ_beer = user_to_cat_first.columns[0:15]\n",
    "\n",
    "for team in cluster_team:\n",
    "\n",
    "    current_team_first_rating = user_to_cat_first[user_to_cat_first['first_50_cluster']==team]\n",
    "    current_team_last_rating = user_to_cat_last[user_to_cat_last['first_50_cluster']==team]\n",
    "\n",
    "    for cate in categ_beer:\n",
    "\n",
    "        current_ttest=ttest_rel(current_team_first_rating[cate],current_team_last_rating[cate])[1]\n",
    "        #if current_ttest<0.05:\n",
    "            #print('the p-value for ttest in the team',team,'for the category',cate,'is',current_ttest)\n",
    "\n",
    "        ci_low_mean_first_rating, ci_high_mean_first_rating = bootstrap((current_team_first_rating[cate].values,), np.mean).confidence_interval\n",
    "        ci_low_mean_last_rating, ci_high_mean_last_rating = bootstrap((current_team_last_rating[cate].values,), np.mean).confidence_interval\n",
    "\n",
    "        mean_first_rating_list.append(current_team_first_rating[cate].mean())\n",
    "        mean_last_rating_list.append(current_team_last_rating[cate].mean())\n",
    "\n",
    "        cluster_list.append(team)\n",
    "        cate_list.append(cate)\n",
    "\n",
    "        ci_low_mean_first_rating_list.append(ci_low_mean_first_rating)\n",
    "        ci_high_mean_first_rating_list.append(ci_high_mean_first_rating)\n",
    "        ci_low_mean_last_rating_list.append(ci_low_mean_last_rating)\n",
    "        ci_high_mean_last_rating_list.append(ci_high_mean_last_rating)\n",
    "        t_test_list.append(current_ttest)"
   ]
  },
  {
   "cell_type": "code",
   "execution_count": 54,
   "metadata": {},
   "outputs": [],
   "source": [
    "conf_inter_cluster = pd.DataFrame({'Cluster' : cluster_list, 'Category' : cate_list, 'CI_low_first_rating':ci_low_mean_first_rating_list,\n",
    "                                'CI_high_first_rating':ci_high_mean_first_rating_list,'mean_first_ratings':mean_first_rating_list,\n",
    "                                'CI_low_last_rating':ci_low_mean_last_rating_list,'CI_high_last_rating':ci_high_mean_last_rating_list,\n",
    "                                'mean_last_ratings':mean_last_rating_list,'t_test':t_test_list})"
   ]
  },
  {
   "cell_type": "code",
   "execution_count": 55,
   "metadata": {},
   "outputs": [],
   "source": [
    "## All bootstrap\n",
    "\n",
    "cate_list=[]\n",
    "ci_low_mean_first_rating_list=[]\n",
    "ci_high_mean_first_rating_list=[]\n",
    "mean_first_rating_list=[]\n",
    "ci_low_mean_last_rating_list=[]\n",
    "ci_high_mean_last_rating_list=[]\n",
    "mean_last_rating_list=[]\n",
    "t_test_list=[]\n",
    "categ_beer = user_to_cat_first.columns[0:15]\n",
    "\n",
    "for cate in categ_beer:\n",
    "\n",
    "    current_ttest=ttest_rel(user_to_cat_first[cate],user_to_cat_last[cate])[1]\n",
    "    #if current_ttest<0.05:\n",
    "    #print('the p-value for ttest in the team',team,'for the category',cate,'is',current_ttest)\n",
    "    ci_low_mean_first_rating, ci_high_mean_first_rating = bootstrap((user_to_cat_first[cate].values,), np.mean).confidence_interval\n",
    "    ci_low_mean_last_rating, ci_high_mean_last_rating = bootstrap((user_to_cat_last[cate].values,), np.mean).confidence_interval\n",
    "    mean_first_rating_list.append(user_to_cat_first[cate].mean())\n",
    "    mean_last_rating_list.append(user_to_cat_last[cate].mean())\n",
    "    cate_list.append(cate)\n",
    "    ci_low_mean_first_rating_list.append(ci_low_mean_first_rating)\n",
    "    ci_high_mean_first_rating_list.append(ci_high_mean_first_rating)\n",
    "    ci_low_mean_last_rating_list.append(ci_low_mean_last_rating)\n",
    "    ci_high_mean_last_rating_list.append(ci_high_mean_last_rating)\n",
    "    t_test_list.append(current_ttest)"
   ]
  },
  {
   "cell_type": "code",
   "execution_count": 56,
   "metadata": {},
   "outputs": [],
   "source": [
    "conf_inter_all= pd.DataFrame({ 'Category' : cate_list, 'CI_low_first_rating':ci_low_mean_first_rating_list,\n",
    "                    'CI_high_first_rating':ci_high_mean_first_rating_list,'mean_first_ratings':mean_first_rating_list,\n",
    "                    'CI_low_last_rating':ci_low_mean_last_rating_list,'CI_high_last_rating':ci_high_mean_last_rating_list,\n",
    "                    'mean_last_ratings':mean_last_rating_list,'t_test':t_test_list})\n",
    "conf_inter_all['Cluster'] = 'All'\n"
   ]
  },
  {
   "cell_type": "code",
   "execution_count": 57,
   "metadata": {},
   "outputs": [
    {
     "data": {
      "text/html": [
       "<div>\n",
       "<style scoped>\n",
       "    .dataframe tbody tr th:only-of-type {\n",
       "        vertical-align: middle;\n",
       "    }\n",
       "\n",
       "    .dataframe tbody tr th {\n",
       "        vertical-align: top;\n",
       "    }\n",
       "\n",
       "    .dataframe thead th {\n",
       "        text-align: right;\n",
       "    }\n",
       "</style>\n",
       "<table border=\"1\" class=\"dataframe\">\n",
       "  <thead>\n",
       "    <tr style=\"text-align: right;\">\n",
       "      <th></th>\n",
       "      <th>Category</th>\n",
       "      <th>CI_low_first_rating</th>\n",
       "      <th>CI_high_first_rating</th>\n",
       "      <th>mean_first_ratings</th>\n",
       "      <th>CI_low_last_rating</th>\n",
       "      <th>CI_high_last_rating</th>\n",
       "      <th>mean_last_ratings</th>\n",
       "      <th>t_test</th>\n",
       "      <th>Cluster</th>\n",
       "    </tr>\n",
       "  </thead>\n",
       "  <tbody>\n",
       "    <tr>\n",
       "      <th>0</th>\n",
       "      <td>Bocks</td>\n",
       "      <td>1.160825</td>\n",
       "      <td>1.341237</td>\n",
       "      <td>1.247423</td>\n",
       "      <td>0.854639</td>\n",
       "      <td>1.020619</td>\n",
       "      <td>0.932990</td>\n",
       "      <td>1.040049e-08</td>\n",
       "      <td>All</td>\n",
       "    </tr>\n",
       "    <tr>\n",
       "      <th>1</th>\n",
       "      <td>Brown Ales</td>\n",
       "      <td>2.536082</td>\n",
       "      <td>2.792784</td>\n",
       "      <td>2.661856</td>\n",
       "      <td>1.975258</td>\n",
       "      <td>2.192784</td>\n",
       "      <td>2.082474</td>\n",
       "      <td>9.232355e-14</td>\n",
       "      <td>All</td>\n",
       "    </tr>\n",
       "    <tr>\n",
       "      <th>2</th>\n",
       "      <td>Dark Ales</td>\n",
       "      <td>1.138144</td>\n",
       "      <td>1.316495</td>\n",
       "      <td>1.224742</td>\n",
       "      <td>0.764948</td>\n",
       "      <td>0.914433</td>\n",
       "      <td>0.837113</td>\n",
       "      <td>5.993624e-13</td>\n",
       "      <td>All</td>\n",
       "    </tr>\n",
       "    <tr>\n",
       "      <th>3</th>\n",
       "      <td>Dark Lagers</td>\n",
       "      <td>1.269072</td>\n",
       "      <td>1.478275</td>\n",
       "      <td>1.371134</td>\n",
       "      <td>0.725773</td>\n",
       "      <td>0.858763</td>\n",
       "      <td>0.790722</td>\n",
       "      <td>8.970276e-25</td>\n",
       "      <td>All</td>\n",
       "    </tr>\n",
       "    <tr>\n",
       "      <th>4</th>\n",
       "      <td>Hybrid Beers</td>\n",
       "      <td>0.273196</td>\n",
       "      <td>0.343299</td>\n",
       "      <td>0.307216</td>\n",
       "      <td>0.277320</td>\n",
       "      <td>0.347423</td>\n",
       "      <td>0.312371</td>\n",
       "      <td>8.332273e-01</td>\n",
       "      <td>All</td>\n",
       "    </tr>\n",
       "    <tr>\n",
       "      <th>5</th>\n",
       "      <td>India Pale Ales</td>\n",
       "      <td>10.913402</td>\n",
       "      <td>11.970249</td>\n",
       "      <td>11.427835</td>\n",
       "      <td>11.653608</td>\n",
       "      <td>12.511162</td>\n",
       "      <td>12.076289</td>\n",
       "      <td>1.467942e-02</td>\n",
       "      <td>All</td>\n",
       "    </tr>\n",
       "    <tr>\n",
       "      <th>6</th>\n",
       "      <td>Pale Ales</td>\n",
       "      <td>7.523711</td>\n",
       "      <td>7.987629</td>\n",
       "      <td>7.752577</td>\n",
       "      <td>8.157732</td>\n",
       "      <td>8.642268</td>\n",
       "      <td>8.402062</td>\n",
       "      <td>1.559042e-05</td>\n",
       "      <td>All</td>\n",
       "    </tr>\n",
       "    <tr>\n",
       "      <th>7</th>\n",
       "      <td>Pale Lagers</td>\n",
       "      <td>4.005155</td>\n",
       "      <td>4.635052</td>\n",
       "      <td>4.309278</td>\n",
       "      <td>2.698665</td>\n",
       "      <td>3.081443</td>\n",
       "      <td>2.882474</td>\n",
       "      <td>2.939323e-18</td>\n",
       "      <td>All</td>\n",
       "    </tr>\n",
       "    <tr>\n",
       "      <th>8</th>\n",
       "      <td>Porters</td>\n",
       "      <td>2.000000</td>\n",
       "      <td>2.236082</td>\n",
       "      <td>2.118557</td>\n",
       "      <td>2.107216</td>\n",
       "      <td>2.319588</td>\n",
       "      <td>2.210309</td>\n",
       "      <td>2.196372e-01</td>\n",
       "      <td>All</td>\n",
       "    </tr>\n",
       "    <tr>\n",
       "      <th>9</th>\n",
       "      <td>Specialty Beer</td>\n",
       "      <td>1.378351</td>\n",
       "      <td>1.606186</td>\n",
       "      <td>1.486598</td>\n",
       "      <td>1.418557</td>\n",
       "      <td>1.643299</td>\n",
       "      <td>1.525773</td>\n",
       "      <td>6.030390e-01</td>\n",
       "      <td>All</td>\n",
       "    </tr>\n",
       "    <tr>\n",
       "      <th>10</th>\n",
       "      <td>Stouts</td>\n",
       "      <td>6.434021</td>\n",
       "      <td>7.127134</td>\n",
       "      <td>6.773196</td>\n",
       "      <td>6.921532</td>\n",
       "      <td>7.533828</td>\n",
       "      <td>7.223711</td>\n",
       "      <td>1.425922e-02</td>\n",
       "      <td>All</td>\n",
       "    </tr>\n",
       "    <tr>\n",
       "      <th>11</th>\n",
       "      <td>Strong Ales</td>\n",
       "      <td>5.107216</td>\n",
       "      <td>5.535877</td>\n",
       "      <td>5.315464</td>\n",
       "      <td>4.617590</td>\n",
       "      <td>5.027835</td>\n",
       "      <td>4.818557</td>\n",
       "      <td>1.184995e-04</td>\n",
       "      <td>All</td>\n",
       "    </tr>\n",
       "    <tr>\n",
       "      <th>12</th>\n",
       "      <td>Weird Cocktail</td>\n",
       "      <td>0.051546</td>\n",
       "      <td>0.084536</td>\n",
       "      <td>0.067010</td>\n",
       "      <td>0.012371</td>\n",
       "      <td>0.030928</td>\n",
       "      <td>0.021649</td>\n",
       "      <td>2.432629e-06</td>\n",
       "      <td>All</td>\n",
       "    </tr>\n",
       "    <tr>\n",
       "      <th>13</th>\n",
       "      <td>Wheat Beers</td>\n",
       "      <td>2.778991</td>\n",
       "      <td>3.107216</td>\n",
       "      <td>2.936082</td>\n",
       "      <td>2.160825</td>\n",
       "      <td>2.409278</td>\n",
       "      <td>2.282474</td>\n",
       "      <td>8.487360e-12</td>\n",
       "      <td>All</td>\n",
       "    </tr>\n",
       "    <tr>\n",
       "      <th>14</th>\n",
       "      <td>Wild/Sour Beers</td>\n",
       "      <td>0.879381</td>\n",
       "      <td>1.141237</td>\n",
       "      <td>1.001031</td>\n",
       "      <td>3.354639</td>\n",
       "      <td>3.871134</td>\n",
       "      <td>3.601031</td>\n",
       "      <td>4.314128e-79</td>\n",
       "      <td>All</td>\n",
       "    </tr>\n",
       "  </tbody>\n",
       "</table>\n",
       "</div>"
      ],
      "text/plain": [
       "           Category  CI_low_first_rating  CI_high_first_rating  \\\n",
       "0             Bocks             1.160825              1.341237   \n",
       "1        Brown Ales             2.536082              2.792784   \n",
       "2         Dark Ales             1.138144              1.316495   \n",
       "3       Dark Lagers             1.269072              1.478275   \n",
       "4      Hybrid Beers             0.273196              0.343299   \n",
       "5   India Pale Ales            10.913402             11.970249   \n",
       "6         Pale Ales             7.523711              7.987629   \n",
       "7       Pale Lagers             4.005155              4.635052   \n",
       "8           Porters             2.000000              2.236082   \n",
       "9    Specialty Beer             1.378351              1.606186   \n",
       "10           Stouts             6.434021              7.127134   \n",
       "11      Strong Ales             5.107216              5.535877   \n",
       "12   Weird Cocktail             0.051546              0.084536   \n",
       "13      Wheat Beers             2.778991              3.107216   \n",
       "14  Wild/Sour Beers             0.879381              1.141237   \n",
       "\n",
       "    mean_first_ratings  CI_low_last_rating  CI_high_last_rating  \\\n",
       "0             1.247423            0.854639             1.020619   \n",
       "1             2.661856            1.975258             2.192784   \n",
       "2             1.224742            0.764948             0.914433   \n",
       "3             1.371134            0.725773             0.858763   \n",
       "4             0.307216            0.277320             0.347423   \n",
       "5            11.427835           11.653608            12.511162   \n",
       "6             7.752577            8.157732             8.642268   \n",
       "7             4.309278            2.698665             3.081443   \n",
       "8             2.118557            2.107216             2.319588   \n",
       "9             1.486598            1.418557             1.643299   \n",
       "10            6.773196            6.921532             7.533828   \n",
       "11            5.315464            4.617590             5.027835   \n",
       "12            0.067010            0.012371             0.030928   \n",
       "13            2.936082            2.160825             2.409278   \n",
       "14            1.001031            3.354639             3.871134   \n",
       "\n",
       "    mean_last_ratings        t_test Cluster  \n",
       "0            0.932990  1.040049e-08     All  \n",
       "1            2.082474  9.232355e-14     All  \n",
       "2            0.837113  5.993624e-13     All  \n",
       "3            0.790722  8.970276e-25     All  \n",
       "4            0.312371  8.332273e-01     All  \n",
       "5           12.076289  1.467942e-02     All  \n",
       "6            8.402062  1.559042e-05     All  \n",
       "7            2.882474  2.939323e-18     All  \n",
       "8            2.210309  2.196372e-01     All  \n",
       "9            1.525773  6.030390e-01     All  \n",
       "10           7.223711  1.425922e-02     All  \n",
       "11           4.818557  1.184995e-04     All  \n",
       "12           0.021649  2.432629e-06     All  \n",
       "13           2.282474  8.487360e-12     All  \n",
       "14           3.601031  4.314128e-79     All  "
      ]
     },
     "execution_count": 57,
     "metadata": {},
     "output_type": "execute_result"
    }
   ],
   "source": [
    "conf_inter_all"
   ]
  },
  {
   "cell_type": "code",
   "execution_count": 58,
   "metadata": {},
   "outputs": [],
   "source": [
    "df_conf_inter = pd.concat([conf_inter_all, conf_inter_cluster], ignore_index = True)\n",
    "#conf_inter.reset_index(drop=True, inplace=True)\n"
   ]
  },
  {
   "cell_type": "code",
   "execution_count": 59,
   "metadata": {},
   "outputs": [
    {
     "data": {
      "text/html": [
       "<div>\n",
       "<style scoped>\n",
       "    .dataframe tbody tr th:only-of-type {\n",
       "        vertical-align: middle;\n",
       "    }\n",
       "\n",
       "    .dataframe tbody tr th {\n",
       "        vertical-align: top;\n",
       "    }\n",
       "\n",
       "    .dataframe thead th {\n",
       "        text-align: right;\n",
       "    }\n",
       "</style>\n",
       "<table border=\"1\" class=\"dataframe\">\n",
       "  <thead>\n",
       "    <tr style=\"text-align: right;\">\n",
       "      <th></th>\n",
       "      <th>Category</th>\n",
       "      <th>CI_low_first_rating</th>\n",
       "      <th>CI_high_first_rating</th>\n",
       "      <th>mean_first_ratings</th>\n",
       "      <th>CI_low_last_rating</th>\n",
       "      <th>CI_high_last_rating</th>\n",
       "      <th>mean_last_ratings</th>\n",
       "      <th>t_test</th>\n",
       "      <th>Cluster</th>\n",
       "    </tr>\n",
       "  </thead>\n",
       "  <tbody>\n",
       "    <tr>\n",
       "      <th>0</th>\n",
       "      <td>Bocks</td>\n",
       "      <td>1.160825</td>\n",
       "      <td>1.341237</td>\n",
       "      <td>1.247423</td>\n",
       "      <td>0.854639</td>\n",
       "      <td>1.020619</td>\n",
       "      <td>0.932990</td>\n",
       "      <td>1.040049e-08</td>\n",
       "      <td>All</td>\n",
       "    </tr>\n",
       "    <tr>\n",
       "      <th>1</th>\n",
       "      <td>Brown Ales</td>\n",
       "      <td>2.536082</td>\n",
       "      <td>2.792784</td>\n",
       "      <td>2.661856</td>\n",
       "      <td>1.975258</td>\n",
       "      <td>2.192784</td>\n",
       "      <td>2.082474</td>\n",
       "      <td>9.232355e-14</td>\n",
       "      <td>All</td>\n",
       "    </tr>\n",
       "    <tr>\n",
       "      <th>2</th>\n",
       "      <td>Dark Ales</td>\n",
       "      <td>1.138144</td>\n",
       "      <td>1.316495</td>\n",
       "      <td>1.224742</td>\n",
       "      <td>0.764948</td>\n",
       "      <td>0.914433</td>\n",
       "      <td>0.837113</td>\n",
       "      <td>5.993624e-13</td>\n",
       "      <td>All</td>\n",
       "    </tr>\n",
       "    <tr>\n",
       "      <th>3</th>\n",
       "      <td>Dark Lagers</td>\n",
       "      <td>1.269072</td>\n",
       "      <td>1.478275</td>\n",
       "      <td>1.371134</td>\n",
       "      <td>0.725773</td>\n",
       "      <td>0.858763</td>\n",
       "      <td>0.790722</td>\n",
       "      <td>8.970276e-25</td>\n",
       "      <td>All</td>\n",
       "    </tr>\n",
       "    <tr>\n",
       "      <th>4</th>\n",
       "      <td>Hybrid Beers</td>\n",
       "      <td>0.273196</td>\n",
       "      <td>0.343299</td>\n",
       "      <td>0.307216</td>\n",
       "      <td>0.277320</td>\n",
       "      <td>0.347423</td>\n",
       "      <td>0.312371</td>\n",
       "      <td>8.332273e-01</td>\n",
       "      <td>All</td>\n",
       "    </tr>\n",
       "    <tr>\n",
       "      <th>...</th>\n",
       "      <td>...</td>\n",
       "      <td>...</td>\n",
       "      <td>...</td>\n",
       "      <td>...</td>\n",
       "      <td>...</td>\n",
       "      <td>...</td>\n",
       "      <td>...</td>\n",
       "      <td>...</td>\n",
       "      <td>...</td>\n",
       "    </tr>\n",
       "    <tr>\n",
       "      <th>70</th>\n",
       "      <td>Stouts</td>\n",
       "      <td>3.099291</td>\n",
       "      <td>4.000000</td>\n",
       "      <td>3.510638</td>\n",
       "      <td>4.737589</td>\n",
       "      <td>5.936170</td>\n",
       "      <td>5.297872</td>\n",
       "      <td>3.360124e-06</td>\n",
       "      <td>1</td>\n",
       "    </tr>\n",
       "    <tr>\n",
       "      <th>71</th>\n",
       "      <td>Strong Ales</td>\n",
       "      <td>3.574468</td>\n",
       "      <td>4.354610</td>\n",
       "      <td>3.950355</td>\n",
       "      <td>4.191489</td>\n",
       "      <td>5.212766</td>\n",
       "      <td>4.680851</td>\n",
       "      <td>2.355251e-02</td>\n",
       "      <td>1</td>\n",
       "    </tr>\n",
       "    <tr>\n",
       "      <th>72</th>\n",
       "      <td>Weird Cocktail</td>\n",
       "      <td>0.099291</td>\n",
       "      <td>0.212766</td>\n",
       "      <td>0.156028</td>\n",
       "      <td>0.007092</td>\n",
       "      <td>0.056738</td>\n",
       "      <td>0.028369</td>\n",
       "      <td>1.789359e-04</td>\n",
       "      <td>1</td>\n",
       "    </tr>\n",
       "    <tr>\n",
       "      <th>73</th>\n",
       "      <td>Wheat Beers</td>\n",
       "      <td>4.283688</td>\n",
       "      <td>5.234043</td>\n",
       "      <td>4.744681</td>\n",
       "      <td>2.539007</td>\n",
       "      <td>3.290780</td>\n",
       "      <td>2.893617</td>\n",
       "      <td>2.932158e-09</td>\n",
       "      <td>1</td>\n",
       "    </tr>\n",
       "    <tr>\n",
       "      <th>74</th>\n",
       "      <td>Wild/Sour Beers</td>\n",
       "      <td>0.191489</td>\n",
       "      <td>0.390071</td>\n",
       "      <td>0.283688</td>\n",
       "      <td>1.482270</td>\n",
       "      <td>2.496454</td>\n",
       "      <td>1.900709</td>\n",
       "      <td>3.479107e-09</td>\n",
       "      <td>1</td>\n",
       "    </tr>\n",
       "  </tbody>\n",
       "</table>\n",
       "<p>75 rows × 9 columns</p>\n",
       "</div>"
      ],
      "text/plain": [
       "           Category  CI_low_first_rating  CI_high_first_rating  \\\n",
       "0             Bocks             1.160825              1.341237   \n",
       "1        Brown Ales             2.536082              2.792784   \n",
       "2         Dark Ales             1.138144              1.316495   \n",
       "3       Dark Lagers             1.269072              1.478275   \n",
       "4      Hybrid Beers             0.273196              0.343299   \n",
       "..              ...                  ...                   ...   \n",
       "70           Stouts             3.099291              4.000000   \n",
       "71      Strong Ales             3.574468              4.354610   \n",
       "72   Weird Cocktail             0.099291              0.212766   \n",
       "73      Wheat Beers             4.283688              5.234043   \n",
       "74  Wild/Sour Beers             0.191489              0.390071   \n",
       "\n",
       "    mean_first_ratings  CI_low_last_rating  CI_high_last_rating  \\\n",
       "0             1.247423            0.854639             1.020619   \n",
       "1             2.661856            1.975258             2.192784   \n",
       "2             1.224742            0.764948             0.914433   \n",
       "3             1.371134            0.725773             0.858763   \n",
       "4             0.307216            0.277320             0.347423   \n",
       "..                 ...                 ...                  ...   \n",
       "70            3.510638            4.737589             5.936170   \n",
       "71            3.950355            4.191489             5.212766   \n",
       "72            0.156028            0.007092             0.056738   \n",
       "73            4.744681            2.539007             3.290780   \n",
       "74            0.283688            1.482270             2.496454   \n",
       "\n",
       "    mean_last_ratings        t_test Cluster  \n",
       "0            0.932990  1.040049e-08     All  \n",
       "1            2.082474  9.232355e-14     All  \n",
       "2            0.837113  5.993624e-13     All  \n",
       "3            0.790722  8.970276e-25     All  \n",
       "4            0.312371  8.332273e-01     All  \n",
       "..                ...           ...     ...  \n",
       "70           5.297872  3.360124e-06       1  \n",
       "71           4.680851  2.355251e-02       1  \n",
       "72           0.028369  1.789359e-04       1  \n",
       "73           2.893617  2.932158e-09       1  \n",
       "74           1.900709  3.479107e-09       1  \n",
       "\n",
       "[75 rows x 9 columns]"
      ]
     },
     "execution_count": 59,
     "metadata": {},
     "output_type": "execute_result"
    }
   ],
   "source": [
    "df_conf_inter"
   ]
  },
  {
   "cell_type": "code",
   "execution_count": 60,
   "metadata": {},
   "outputs": [
    {
     "data": {
      "text/html": [
       "<div>\n",
       "<style scoped>\n",
       "    .dataframe tbody tr th:only-of-type {\n",
       "        vertical-align: middle;\n",
       "    }\n",
       "\n",
       "    .dataframe tbody tr th {\n",
       "        vertical-align: top;\n",
       "    }\n",
       "\n",
       "    .dataframe thead th {\n",
       "        text-align: right;\n",
       "    }\n",
       "</style>\n",
       "<table border=\"1\" class=\"dataframe\">\n",
       "  <thead>\n",
       "    <tr style=\"text-align: right;\">\n",
       "      <th></th>\n",
       "      <th>(CI_low_first_rating, 0)</th>\n",
       "      <th>(CI_low_first_rating, 1)</th>\n",
       "      <th>(CI_low_first_rating, 2)</th>\n",
       "      <th>(CI_low_first_rating, 3)</th>\n",
       "      <th>(CI_low_first_rating, All)</th>\n",
       "      <th>(CI_high_first_rating, 0)</th>\n",
       "      <th>(CI_high_first_rating, 1)</th>\n",
       "      <th>(CI_high_first_rating, 2)</th>\n",
       "      <th>(CI_high_first_rating, 3)</th>\n",
       "      <th>(CI_high_first_rating, All)</th>\n",
       "      <th>...</th>\n",
       "      <th>(mean_last_ratings, 0)</th>\n",
       "      <th>(mean_last_ratings, 1)</th>\n",
       "      <th>(mean_last_ratings, 2)</th>\n",
       "      <th>(mean_last_ratings, 3)</th>\n",
       "      <th>(mean_last_ratings, All)</th>\n",
       "      <th>(t_test, 0)</th>\n",
       "      <th>(t_test, 1)</th>\n",
       "      <th>(t_test, 2)</th>\n",
       "      <th>(t_test, 3)</th>\n",
       "      <th>(t_test, All)</th>\n",
       "    </tr>\n",
       "    <tr>\n",
       "      <th>Category</th>\n",
       "      <th></th>\n",
       "      <th></th>\n",
       "      <th></th>\n",
       "      <th></th>\n",
       "      <th></th>\n",
       "      <th></th>\n",
       "      <th></th>\n",
       "      <th></th>\n",
       "      <th></th>\n",
       "      <th></th>\n",
       "      <th></th>\n",
       "      <th></th>\n",
       "      <th></th>\n",
       "      <th></th>\n",
       "      <th></th>\n",
       "      <th></th>\n",
       "      <th></th>\n",
       "      <th></th>\n",
       "      <th></th>\n",
       "      <th></th>\n",
       "      <th></th>\n",
       "    </tr>\n",
       "  </thead>\n",
       "  <tbody>\n",
       "    <tr>\n",
       "      <th>Bocks</th>\n",
       "      <td>0.673469</td>\n",
       "      <td>1.531915</td>\n",
       "      <td>1.515228</td>\n",
       "      <td>0.493724</td>\n",
       "      <td>1.160825</td>\n",
       "      <td>0.969388</td>\n",
       "      <td>2.085106</td>\n",
       "      <td>1.822335</td>\n",
       "      <td>0.715481</td>\n",
       "      <td>1.341237</td>\n",
       "      <td>...</td>\n",
       "      <td>0.551020</td>\n",
       "      <td>1.631206</td>\n",
       "      <td>1.116751</td>\n",
       "      <td>0.531381</td>\n",
       "      <td>0.932990</td>\n",
       "      <td>2.001985e-03</td>\n",
       "      <td>4.189340e-01</td>\n",
       "      <td>1.210879e-08</td>\n",
       "      <td>3.781030e-01</td>\n",
       "      <td>1.040049e-08</td>\n",
       "    </tr>\n",
       "    <tr>\n",
       "      <th>Brown Ales</th>\n",
       "      <td>2.229592</td>\n",
       "      <td>2.404255</td>\n",
       "      <td>3.076142</td>\n",
       "      <td>1.552301</td>\n",
       "      <td>2.536082</td>\n",
       "      <td>2.806122</td>\n",
       "      <td>3.078014</td>\n",
       "      <td>3.489848</td>\n",
       "      <td>1.928870</td>\n",
       "      <td>2.792784</td>\n",
       "      <td>...</td>\n",
       "      <td>1.877551</td>\n",
       "      <td>2.617021</td>\n",
       "      <td>2.489848</td>\n",
       "      <td>1.263598</td>\n",
       "      <td>2.082474</td>\n",
       "      <td>3.737509e-04</td>\n",
       "      <td>6.209248e-01</td>\n",
       "      <td>1.567179e-09</td>\n",
       "      <td>1.907517e-04</td>\n",
       "      <td>9.232355e-14</td>\n",
       "    </tr>\n",
       "    <tr>\n",
       "      <th>Dark Ales</th>\n",
       "      <td>0.790816</td>\n",
       "      <td>1.198582</td>\n",
       "      <td>1.505076</td>\n",
       "      <td>0.506276</td>\n",
       "      <td>1.138144</td>\n",
       "      <td>1.142857</td>\n",
       "      <td>1.687943</td>\n",
       "      <td>1.807107</td>\n",
       "      <td>0.744770</td>\n",
       "      <td>1.316495</td>\n",
       "      <td>...</td>\n",
       "      <td>0.602041</td>\n",
       "      <td>1.219858</td>\n",
       "      <td>1.050761</td>\n",
       "      <td>0.451883</td>\n",
       "      <td>0.837113</td>\n",
       "      <td>5.679719e-04</td>\n",
       "      <td>2.220434e-01</td>\n",
       "      <td>3.901109e-10</td>\n",
       "      <td>2.379335e-02</td>\n",
       "      <td>5.993624e-13</td>\n",
       "    </tr>\n",
       "    <tr>\n",
       "      <th>Dark Lagers</th>\n",
       "      <td>0.500000</td>\n",
       "      <td>3.028369</td>\n",
       "      <td>1.390863</td>\n",
       "      <td>0.443515</td>\n",
       "      <td>1.269072</td>\n",
       "      <td>0.780612</td>\n",
       "      <td>3.659574</td>\n",
       "      <td>1.675127</td>\n",
       "      <td>0.669456</td>\n",
       "      <td>1.478275</td>\n",
       "      <td>...</td>\n",
       "      <td>0.545918</td>\n",
       "      <td>1.269504</td>\n",
       "      <td>0.923858</td>\n",
       "      <td>0.489540</td>\n",
       "      <td>0.790722</td>\n",
       "      <td>3.469893e-01</td>\n",
       "      <td>1.775291e-21</td>\n",
       "      <td>4.049361e-12</td>\n",
       "      <td>4.246688e-01</td>\n",
       "      <td>8.970276e-25</td>\n",
       "    </tr>\n",
       "    <tr>\n",
       "      <th>Hybrid Beers</th>\n",
       "      <td>0.209184</td>\n",
       "      <td>0.276596</td>\n",
       "      <td>0.281726</td>\n",
       "      <td>0.171548</td>\n",
       "      <td>0.273196</td>\n",
       "      <td>0.357143</td>\n",
       "      <td>0.489362</td>\n",
       "      <td>0.395939</td>\n",
       "      <td>0.301255</td>\n",
       "      <td>0.343299</td>\n",
       "      <td>...</td>\n",
       "      <td>0.244898</td>\n",
       "      <td>0.297872</td>\n",
       "      <td>0.390863</td>\n",
       "      <td>0.246862</td>\n",
       "      <td>0.312371</td>\n",
       "      <td>4.381056e-01</td>\n",
       "      <td>2.219053e-01</td>\n",
       "      <td>1.923013e-01</td>\n",
       "      <td>7.907089e-01</td>\n",
       "      <td>8.332273e-01</td>\n",
       "    </tr>\n",
       "    <tr>\n",
       "      <th>India Pale Ales</th>\n",
       "      <td>9.096939</td>\n",
       "      <td>2.851064</td>\n",
       "      <td>7.763959</td>\n",
       "      <td>22.158996</td>\n",
       "      <td>10.913402</td>\n",
       "      <td>10.653061</td>\n",
       "      <td>3.801418</td>\n",
       "      <td>8.591371</td>\n",
       "      <td>23.543933</td>\n",
       "      <td>11.970249</td>\n",
       "      <td>...</td>\n",
       "      <td>11.474490</td>\n",
       "      <td>10.148936</td>\n",
       "      <td>10.586294</td>\n",
       "      <td>16.163180</td>\n",
       "      <td>12.076289</td>\n",
       "      <td>2.410343e-03</td>\n",
       "      <td>1.859514e-24</td>\n",
       "      <td>2.487439e-14</td>\n",
       "      <td>4.386729e-28</td>\n",
       "      <td>1.467942e-02</td>\n",
       "    </tr>\n",
       "    <tr>\n",
       "      <th>Pale Ales</th>\n",
       "      <td>4.403061</td>\n",
       "      <td>7.198582</td>\n",
       "      <td>9.073604</td>\n",
       "      <td>7.046025</td>\n",
       "      <td>7.523711</td>\n",
       "      <td>5.096939</td>\n",
       "      <td>8.361702</td>\n",
       "      <td>9.758760</td>\n",
       "      <td>7.916318</td>\n",
       "      <td>7.987629</td>\n",
       "      <td>...</td>\n",
       "      <td>7.040816</td>\n",
       "      <td>9.510638</td>\n",
       "      <td>8.840102</td>\n",
       "      <td>8.142259</td>\n",
       "      <td>8.402062</td>\n",
       "      <td>7.210528e-14</td>\n",
       "      <td>7.017638e-06</td>\n",
       "      <td>1.398808e-02</td>\n",
       "      <td>3.506138e-02</td>\n",
       "      <td>1.559042e-05</td>\n",
       "    </tr>\n",
       "    <tr>\n",
       "      <th>Pale Lagers</th>\n",
       "      <td>1.112245</td>\n",
       "      <td>12.765957</td>\n",
       "      <td>3.606599</td>\n",
       "      <td>1.765690</td>\n",
       "      <td>4.005155</td>\n",
       "      <td>1.494898</td>\n",
       "      <td>14.638298</td>\n",
       "      <td>4.119289</td>\n",
       "      <td>2.288703</td>\n",
       "      <td>4.635052</td>\n",
       "      <td>...</td>\n",
       "      <td>1.637755</td>\n",
       "      <td>4.652482</td>\n",
       "      <td>3.281726</td>\n",
       "      <td>2.200837</td>\n",
       "      <td>2.882474</td>\n",
       "      <td>4.069503e-02</td>\n",
       "      <td>4.205912e-33</td>\n",
       "      <td>1.749773e-03</td>\n",
       "      <td>3.107862e-01</td>\n",
       "      <td>2.939323e-18</td>\n",
       "    </tr>\n",
       "    <tr>\n",
       "      <th>Porters</th>\n",
       "      <td>2.790816</td>\n",
       "      <td>1.319149</td>\n",
       "      <td>2.119795</td>\n",
       "      <td>1.192469</td>\n",
       "      <td>2.000000</td>\n",
       "      <td>3.433673</td>\n",
       "      <td>1.836879</td>\n",
       "      <td>2.477157</td>\n",
       "      <td>1.518828</td>\n",
       "      <td>2.236082</td>\n",
       "      <td>...</td>\n",
       "      <td>2.576531</td>\n",
       "      <td>2.163121</td>\n",
       "      <td>2.195431</td>\n",
       "      <td>1.962343</td>\n",
       "      <td>2.210309</td>\n",
       "      <td>3.266419e-03</td>\n",
       "      <td>3.062677e-03</td>\n",
       "      <td>3.815884e-01</td>\n",
       "      <td>8.027743e-06</td>\n",
       "      <td>2.196372e-01</td>\n",
       "    </tr>\n",
       "    <tr>\n",
       "      <th>Specialty Beer</th>\n",
       "      <td>1.137755</td>\n",
       "      <td>1.170213</td>\n",
       "      <td>1.558376</td>\n",
       "      <td>1.046025</td>\n",
       "      <td>1.378351</td>\n",
       "      <td>1.591837</td>\n",
       "      <td>1.716312</td>\n",
       "      <td>1.969247</td>\n",
       "      <td>1.430080</td>\n",
       "      <td>1.606186</td>\n",
       "      <td>...</td>\n",
       "      <td>1.484694</td>\n",
       "      <td>1.687943</td>\n",
       "      <td>1.685279</td>\n",
       "      <td>1.200837</td>\n",
       "      <td>1.525773</td>\n",
       "      <td>3.448799e-01</td>\n",
       "      <td>1.843903e-01</td>\n",
       "      <td>6.610028e-01</td>\n",
       "      <td>8.681132e-01</td>\n",
       "      <td>6.030390e-01</td>\n",
       "    </tr>\n",
       "    <tr>\n",
       "      <th>Stouts</th>\n",
       "      <td>14.489796</td>\n",
       "      <td>3.099291</td>\n",
       "      <td>4.865482</td>\n",
       "      <td>4.142259</td>\n",
       "      <td>6.434021</td>\n",
       "      <td>15.897959</td>\n",
       "      <td>4.000000</td>\n",
       "      <td>5.368020</td>\n",
       "      <td>4.974895</td>\n",
       "      <td>7.127134</td>\n",
       "      <td>...</td>\n",
       "      <td>10.188776</td>\n",
       "      <td>5.297872</td>\n",
       "      <td>6.205584</td>\n",
       "      <td>7.606695</td>\n",
       "      <td>7.223711</td>\n",
       "      <td>2.000286e-24</td>\n",
       "      <td>3.360124e-06</td>\n",
       "      <td>4.111801e-07</td>\n",
       "      <td>3.962554e-15</td>\n",
       "      <td>1.425922e-02</td>\n",
       "    </tr>\n",
       "    <tr>\n",
       "      <th>Strong Ales</th>\n",
       "      <td>5.668367</td>\n",
       "      <td>3.574468</td>\n",
       "      <td>5.802030</td>\n",
       "      <td>3.761506</td>\n",
       "      <td>5.107216</td>\n",
       "      <td>6.743626</td>\n",
       "      <td>4.354610</td>\n",
       "      <td>6.487310</td>\n",
       "      <td>4.414226</td>\n",
       "      <td>5.535877</td>\n",
       "      <td>...</td>\n",
       "      <td>5.091837</td>\n",
       "      <td>4.680851</td>\n",
       "      <td>5.408629</td>\n",
       "      <td>3.702929</td>\n",
       "      <td>4.818557</td>\n",
       "      <td>1.091480e-03</td>\n",
       "      <td>2.355251e-02</td>\n",
       "      <td>4.634065e-04</td>\n",
       "      <td>8.847073e-02</td>\n",
       "      <td>1.184995e-04</td>\n",
       "    </tr>\n",
       "    <tr>\n",
       "      <th>Weird Cocktail</th>\n",
       "      <td>0.040816</td>\n",
       "      <td>0.099291</td>\n",
       "      <td>0.038071</td>\n",
       "      <td>0.000000</td>\n",
       "      <td>0.051546</td>\n",
       "      <td>0.122449</td>\n",
       "      <td>0.212766</td>\n",
       "      <td>0.091371</td>\n",
       "      <td>0.029289</td>\n",
       "      <td>0.084536</td>\n",
       "      <td>...</td>\n",
       "      <td>0.005102</td>\n",
       "      <td>0.028369</td>\n",
       "      <td>0.035533</td>\n",
       "      <td>0.008368</td>\n",
       "      <td>0.021649</td>\n",
       "      <td>1.585346e-03</td>\n",
       "      <td>1.789359e-04</td>\n",
       "      <td>7.814860e-02</td>\n",
       "      <td>6.556682e-01</td>\n",
       "      <td>2.432629e-06</td>\n",
       "    </tr>\n",
       "    <tr>\n",
       "      <th>Wheat Beers</th>\n",
       "      <td>1.331633</td>\n",
       "      <td>4.283688</td>\n",
       "      <td>3.355330</td>\n",
       "      <td>1.669456</td>\n",
       "      <td>2.778991</td>\n",
       "      <td>1.826531</td>\n",
       "      <td>5.234043</td>\n",
       "      <td>3.885787</td>\n",
       "      <td>2.112971</td>\n",
       "      <td>3.107216</td>\n",
       "      <td>...</td>\n",
       "      <td>1.877551</td>\n",
       "      <td>2.893617</td>\n",
       "      <td>2.543147</td>\n",
       "      <td>1.824268</td>\n",
       "      <td>2.282474</td>\n",
       "      <td>4.777999e-02</td>\n",
       "      <td>2.932158e-09</td>\n",
       "      <td>4.994585e-11</td>\n",
       "      <td>7.104695e-01</td>\n",
       "      <td>8.487360e-12</td>\n",
       "    </tr>\n",
       "    <tr>\n",
       "      <th>Wild/Sour Beers</th>\n",
       "      <td>1.178571</td>\n",
       "      <td>0.191489</td>\n",
       "      <td>0.906091</td>\n",
       "      <td>0.669456</td>\n",
       "      <td>0.879381</td>\n",
       "      <td>1.924382</td>\n",
       "      <td>0.390071</td>\n",
       "      <td>1.332487</td>\n",
       "      <td>1.138075</td>\n",
       "      <td>1.141237</td>\n",
       "      <td>...</td>\n",
       "      <td>4.801020</td>\n",
       "      <td>1.900709</td>\n",
       "      <td>3.246193</td>\n",
       "      <td>4.205021</td>\n",
       "      <td>3.601031</td>\n",
       "      <td>5.988160e-23</td>\n",
       "      <td>3.479107e-09</td>\n",
       "      <td>4.317902e-26</td>\n",
       "      <td>5.285727e-27</td>\n",
       "      <td>4.314128e-79</td>\n",
       "    </tr>\n",
       "  </tbody>\n",
       "</table>\n",
       "<p>15 rows × 35 columns</p>\n",
       "</div>"
      ],
      "text/plain": [
       "                 (CI_low_first_rating, 0)  (CI_low_first_rating, 1)  \\\n",
       "Category                                                              \n",
       "Bocks                            0.673469                  1.531915   \n",
       "Brown Ales                       2.229592                  2.404255   \n",
       "Dark Ales                        0.790816                  1.198582   \n",
       "Dark Lagers                      0.500000                  3.028369   \n",
       "Hybrid Beers                     0.209184                  0.276596   \n",
       "India Pale Ales                  9.096939                  2.851064   \n",
       "Pale Ales                        4.403061                  7.198582   \n",
       "Pale Lagers                      1.112245                 12.765957   \n",
       "Porters                          2.790816                  1.319149   \n",
       "Specialty Beer                   1.137755                  1.170213   \n",
       "Stouts                          14.489796                  3.099291   \n",
       "Strong Ales                      5.668367                  3.574468   \n",
       "Weird Cocktail                   0.040816                  0.099291   \n",
       "Wheat Beers                      1.331633                  4.283688   \n",
       "Wild/Sour Beers                  1.178571                  0.191489   \n",
       "\n",
       "                 (CI_low_first_rating, 2)  (CI_low_first_rating, 3)  \\\n",
       "Category                                                              \n",
       "Bocks                            1.515228                  0.493724   \n",
       "Brown Ales                       3.076142                  1.552301   \n",
       "Dark Ales                        1.505076                  0.506276   \n",
       "Dark Lagers                      1.390863                  0.443515   \n",
       "Hybrid Beers                     0.281726                  0.171548   \n",
       "India Pale Ales                  7.763959                 22.158996   \n",
       "Pale Ales                        9.073604                  7.046025   \n",
       "Pale Lagers                      3.606599                  1.765690   \n",
       "Porters                          2.119795                  1.192469   \n",
       "Specialty Beer                   1.558376                  1.046025   \n",
       "Stouts                           4.865482                  4.142259   \n",
       "Strong Ales                      5.802030                  3.761506   \n",
       "Weird Cocktail                   0.038071                  0.000000   \n",
       "Wheat Beers                      3.355330                  1.669456   \n",
       "Wild/Sour Beers                  0.906091                  0.669456   \n",
       "\n",
       "                 (CI_low_first_rating, All)  (CI_high_first_rating, 0)  \\\n",
       "Category                                                                 \n",
       "Bocks                              1.160825                   0.969388   \n",
       "Brown Ales                         2.536082                   2.806122   \n",
       "Dark Ales                          1.138144                   1.142857   \n",
       "Dark Lagers                        1.269072                   0.780612   \n",
       "Hybrid Beers                       0.273196                   0.357143   \n",
       "India Pale Ales                   10.913402                  10.653061   \n",
       "Pale Ales                          7.523711                   5.096939   \n",
       "Pale Lagers                        4.005155                   1.494898   \n",
       "Porters                            2.000000                   3.433673   \n",
       "Specialty Beer                     1.378351                   1.591837   \n",
       "Stouts                             6.434021                  15.897959   \n",
       "Strong Ales                        5.107216                   6.743626   \n",
       "Weird Cocktail                     0.051546                   0.122449   \n",
       "Wheat Beers                        2.778991                   1.826531   \n",
       "Wild/Sour Beers                    0.879381                   1.924382   \n",
       "\n",
       "                 (CI_high_first_rating, 1)  (CI_high_first_rating, 2)  \\\n",
       "Category                                                                \n",
       "Bocks                             2.085106                   1.822335   \n",
       "Brown Ales                        3.078014                   3.489848   \n",
       "Dark Ales                         1.687943                   1.807107   \n",
       "Dark Lagers                       3.659574                   1.675127   \n",
       "Hybrid Beers                      0.489362                   0.395939   \n",
       "India Pale Ales                   3.801418                   8.591371   \n",
       "Pale Ales                         8.361702                   9.758760   \n",
       "Pale Lagers                      14.638298                   4.119289   \n",
       "Porters                           1.836879                   2.477157   \n",
       "Specialty Beer                    1.716312                   1.969247   \n",
       "Stouts                            4.000000                   5.368020   \n",
       "Strong Ales                       4.354610                   6.487310   \n",
       "Weird Cocktail                    0.212766                   0.091371   \n",
       "Wheat Beers                       5.234043                   3.885787   \n",
       "Wild/Sour Beers                   0.390071                   1.332487   \n",
       "\n",
       "                 (CI_high_first_rating, 3)  (CI_high_first_rating, All)  ...  \\\n",
       "Category                                                                 ...   \n",
       "Bocks                             0.715481                     1.341237  ...   \n",
       "Brown Ales                        1.928870                     2.792784  ...   \n",
       "Dark Ales                         0.744770                     1.316495  ...   \n",
       "Dark Lagers                       0.669456                     1.478275  ...   \n",
       "Hybrid Beers                      0.301255                     0.343299  ...   \n",
       "India Pale Ales                  23.543933                    11.970249  ...   \n",
       "Pale Ales                         7.916318                     7.987629  ...   \n",
       "Pale Lagers                       2.288703                     4.635052  ...   \n",
       "Porters                           1.518828                     2.236082  ...   \n",
       "Specialty Beer                    1.430080                     1.606186  ...   \n",
       "Stouts                            4.974895                     7.127134  ...   \n",
       "Strong Ales                       4.414226                     5.535877  ...   \n",
       "Weird Cocktail                    0.029289                     0.084536  ...   \n",
       "Wheat Beers                       2.112971                     3.107216  ...   \n",
       "Wild/Sour Beers                   1.138075                     1.141237  ...   \n",
       "\n",
       "                 (mean_last_ratings, 0)  (mean_last_ratings, 1)  \\\n",
       "Category                                                          \n",
       "Bocks                          0.551020                1.631206   \n",
       "Brown Ales                     1.877551                2.617021   \n",
       "Dark Ales                      0.602041                1.219858   \n",
       "Dark Lagers                    0.545918                1.269504   \n",
       "Hybrid Beers                   0.244898                0.297872   \n",
       "India Pale Ales               11.474490               10.148936   \n",
       "Pale Ales                      7.040816                9.510638   \n",
       "Pale Lagers                    1.637755                4.652482   \n",
       "Porters                        2.576531                2.163121   \n",
       "Specialty Beer                 1.484694                1.687943   \n",
       "Stouts                        10.188776                5.297872   \n",
       "Strong Ales                    5.091837                4.680851   \n",
       "Weird Cocktail                 0.005102                0.028369   \n",
       "Wheat Beers                    1.877551                2.893617   \n",
       "Wild/Sour Beers                4.801020                1.900709   \n",
       "\n",
       "                 (mean_last_ratings, 2)  (mean_last_ratings, 3)  \\\n",
       "Category                                                          \n",
       "Bocks                          1.116751                0.531381   \n",
       "Brown Ales                     2.489848                1.263598   \n",
       "Dark Ales                      1.050761                0.451883   \n",
       "Dark Lagers                    0.923858                0.489540   \n",
       "Hybrid Beers                   0.390863                0.246862   \n",
       "India Pale Ales               10.586294               16.163180   \n",
       "Pale Ales                      8.840102                8.142259   \n",
       "Pale Lagers                    3.281726                2.200837   \n",
       "Porters                        2.195431                1.962343   \n",
       "Specialty Beer                 1.685279                1.200837   \n",
       "Stouts                         6.205584                7.606695   \n",
       "Strong Ales                    5.408629                3.702929   \n",
       "Weird Cocktail                 0.035533                0.008368   \n",
       "Wheat Beers                    2.543147                1.824268   \n",
       "Wild/Sour Beers                3.246193                4.205021   \n",
       "\n",
       "                 (mean_last_ratings, All)   (t_test, 0)   (t_test, 1)  \\\n",
       "Category                                                                \n",
       "Bocks                            0.932990  2.001985e-03  4.189340e-01   \n",
       "Brown Ales                       2.082474  3.737509e-04  6.209248e-01   \n",
       "Dark Ales                        0.837113  5.679719e-04  2.220434e-01   \n",
       "Dark Lagers                      0.790722  3.469893e-01  1.775291e-21   \n",
       "Hybrid Beers                     0.312371  4.381056e-01  2.219053e-01   \n",
       "India Pale Ales                 12.076289  2.410343e-03  1.859514e-24   \n",
       "Pale Ales                        8.402062  7.210528e-14  7.017638e-06   \n",
       "Pale Lagers                      2.882474  4.069503e-02  4.205912e-33   \n",
       "Porters                          2.210309  3.266419e-03  3.062677e-03   \n",
       "Specialty Beer                   1.525773  3.448799e-01  1.843903e-01   \n",
       "Stouts                           7.223711  2.000286e-24  3.360124e-06   \n",
       "Strong Ales                      4.818557  1.091480e-03  2.355251e-02   \n",
       "Weird Cocktail                   0.021649  1.585346e-03  1.789359e-04   \n",
       "Wheat Beers                      2.282474  4.777999e-02  2.932158e-09   \n",
       "Wild/Sour Beers                  3.601031  5.988160e-23  3.479107e-09   \n",
       "\n",
       "                  (t_test, 2)   (t_test, 3)  (t_test, All)  \n",
       "Category                                                    \n",
       "Bocks            1.210879e-08  3.781030e-01   1.040049e-08  \n",
       "Brown Ales       1.567179e-09  1.907517e-04   9.232355e-14  \n",
       "Dark Ales        3.901109e-10  2.379335e-02   5.993624e-13  \n",
       "Dark Lagers      4.049361e-12  4.246688e-01   8.970276e-25  \n",
       "Hybrid Beers     1.923013e-01  7.907089e-01   8.332273e-01  \n",
       "India Pale Ales  2.487439e-14  4.386729e-28   1.467942e-02  \n",
       "Pale Ales        1.398808e-02  3.506138e-02   1.559042e-05  \n",
       "Pale Lagers      1.749773e-03  3.107862e-01   2.939323e-18  \n",
       "Porters          3.815884e-01  8.027743e-06   2.196372e-01  \n",
       "Specialty Beer   6.610028e-01  8.681132e-01   6.030390e-01  \n",
       "Stouts           4.111801e-07  3.962554e-15   1.425922e-02  \n",
       "Strong Ales      4.634065e-04  8.847073e-02   1.184995e-04  \n",
       "Weird Cocktail   7.814860e-02  6.556682e-01   2.432629e-06  \n",
       "Wheat Beers      4.994585e-11  7.104695e-01   8.487360e-12  \n",
       "Wild/Sour Beers  4.317902e-26  5.285727e-27   4.314128e-79  \n",
       "\n",
       "[15 rows x 35 columns]"
      ]
     },
     "execution_count": 60,
     "metadata": {},
     "output_type": "execute_result"
    }
   ],
   "source": [
    "df_pivot = df_conf_inter.pivot(index='Category', columns='Cluster')\n",
    "df_pivot.columns = df_pivot.columns.to_flat_index()\n",
    "df_pivot"
   ]
  },
  {
   "cell_type": "code",
   "execution_count": 61,
   "metadata": {},
   "outputs": [
    {
     "data": {
      "text/plain": [
       "Index([     ('CI_low_first_rating', 0),      ('CI_low_first_rating', 1),\n",
       "            ('CI_low_first_rating', 2),      ('CI_low_first_rating', 3),\n",
       "        ('CI_low_first_rating', 'All'),     ('CI_high_first_rating', 0),\n",
       "           ('CI_high_first_rating', 1),     ('CI_high_first_rating', 2),\n",
       "           ('CI_high_first_rating', 3), ('CI_high_first_rating', 'All'),\n",
       "             ('mean_first_ratings', 0),       ('mean_first_ratings', 1),\n",
       "             ('mean_first_ratings', 2),       ('mean_first_ratings', 3),\n",
       "         ('mean_first_ratings', 'All'),       ('CI_low_last_rating', 0),\n",
       "             ('CI_low_last_rating', 1),       ('CI_low_last_rating', 2),\n",
       "             ('CI_low_last_rating', 3),   ('CI_low_last_rating', 'All'),\n",
       "            ('CI_high_last_rating', 0),      ('CI_high_last_rating', 1),\n",
       "            ('CI_high_last_rating', 2),      ('CI_high_last_rating', 3),\n",
       "        ('CI_high_last_rating', 'All'),        ('mean_last_ratings', 0),\n",
       "              ('mean_last_ratings', 1),        ('mean_last_ratings', 2),\n",
       "              ('mean_last_ratings', 3),    ('mean_last_ratings', 'All'),\n",
       "                         ('t_test', 0),                   ('t_test', 1),\n",
       "                         ('t_test', 2),                   ('t_test', 3),\n",
       "                     ('t_test', 'All')],\n",
       "      dtype='object')"
      ]
     },
     "execution_count": 61,
     "metadata": {},
     "output_type": "execute_result"
    }
   ],
   "source": [
    "df_pivot.columns"
   ]
  },
  {
   "cell_type": "code",
   "execution_count": 62,
   "metadata": {},
   "outputs": [],
   "source": [
    "df_means = df_pivot.iloc[:,10:15]"
   ]
  },
  {
   "cell_type": "code",
   "execution_count": null,
   "metadata": {},
   "outputs": [],
   "source": []
  },
  {
   "cell_type": "code",
   "execution_count": 63,
   "metadata": {},
   "outputs": [],
   "source": [
    "# mean_user = pd.DataFrame()\n",
    "\n",
    "# #Cluster 0\n",
    "\n",
    "# cluster_0 = user_to_cat_first[user_to_cat_first[\"first_50_cluster\"] == 0] #/!\\ the number will vary depending on the Kmeans init\n",
    "# cluster_0.drop(columns = \"first_50_cluster\", inplace = True)\n",
    "# #add the average number of beer rated during the FIRST 50 rarings of the cluster 0\n",
    "# mean_user[\"first_50_0\"] = cluster_0.mean()\n",
    "# mean_user = mean_user.reset_index(level=0) #makes the category a column rather than the index\n",
    "# #add the average number of beer rated during the LAST 50 rarings of the cluster 0\n",
    "# mean_user[\"last_50_0\"] = user_to_cat_last[user_to_cat_last.index.isin(cluster_0.index)].mean().values\n",
    "\n",
    "# #Cluster 1\n",
    "# cluster_1 = user_to_cat_first[user_to_cat_first[\"first_50_cluster\"] == 1]#/!\\ the number will vary depending on the Kmeans init\n",
    "# cluster_1.drop(columns = \"first_50_cluster\", inplace = True)\n",
    "# #add the average number of beer rated during the FIRST 50 rarings of the cluster 1\n",
    "# #print(stout_lovers.mean())\n",
    "# mean_user[\"first_50_1\"] = cluster_1.mean().values\n",
    "# #add the average number of beer rated during the LAST 50 rarings of the cluster 1\n",
    "# mean_user[\"last_50_1\"] =  user_to_cat_last[user_to_cat_last.index.isin(cluster_1.index)].mean().values\n",
    "\n",
    "# #Cluster 2\n",
    "# cluster_2 = user_to_cat_first[user_to_cat_first[\"first_50_cluster\"] == 2]#/!\\ the number will vary depending on the Kmeans init\n",
    "# cluster_2.drop(columns = \"first_50_cluster\", inplace = True)\n",
    "# #add the average number of beer rated during the FIRST 50 ratings of the cluster 2\n",
    "# mean_user[\"first_50_2\"] = cluster_2.mean().values\n",
    "# #add the average number of beer rated during the LAST 50 rarings of the cluster 2\n",
    "# mean_user[\"last_50_2\"] =  user_to_cat_last[user_to_cat_last.index.isin(cluster_2.index)].mean().values\n",
    "\n",
    "# #Cluster 3\n",
    "# cluster_3 = user_to_cat_first[user_to_cat_first[\"first_50_cluster\"] == 3]#/!\\ the number will vary depending on the Kmeans init\n",
    "# cluster_3.drop(columns = \"first_50_cluster\", inplace = True)\n",
    "# #add the average number of beer rated during the FIRST 50 ratings of the cluster 3\n",
    "# mean_user[\"first_50_3\"] = cluster_3.mean().values\n",
    "# #add the average number of beer rated during the LAST 50 rarings of the cluster 3\n",
    "# mean_user[\"last_50_3\"] =  user_to_cat_last[user_to_cat_last.index.isin(cluster_3.index)].mean().values\n",
    "# mean_user\n",
    "\n",
    "# #ALL TOGETHER\n",
    "# mean_user[\"all_first_50\"] = mean_user[[\"first_50_0\", \"first_50_1\", \"first_50_2\", \"first_50_3\"]].mean(axis=1)\n",
    "# mean_user[\"all_last_50\"] = mean_user[[\"last_50_0\", \"last_50_1\", \"last_50_2\", \"last_50_3\"]].mean(axis=1)"
   ]
  },
  {
   "cell_type": "code",
   "execution_count": 64,
   "metadata": {},
   "outputs": [],
   "source": [
    "ipa_col = (df_means.loc['India Pale Ales',:]).argmax()\n",
    "stout_col = (df_means.loc['Stouts',:]).argmax()\n",
    "pale_col = (df_means.loc['Pale Lagers',:]).argmax()\n",
    "\n",
    "possible_indices = [0,1,2,3] #column indices\n",
    "expl_col = sum(possible_indices) - (ipa_col + stout_col + pale_col)\n",
    "\n",
    "mapping = {'All' : 4, 'Jean-Michel IPA' : ipa_col, 'Marcel Stout' : stout_col, \n",
    "           'James Bland' : pale_col, 'Ada the explorer' : expl_col}\n",
    "reverse_mapping ={ values:key for key, values in mapping.items()}\n",
    "\n",
    "\n"
   ]
  },
  {
   "cell_type": "code",
   "execution_count": 65,
   "metadata": {},
   "outputs": [
    {
     "data": {
      "text/plain": [
       "{4: 'All',\n",
       " 3: 'Jean-Michel IPA',\n",
       " 0: 'Marcel Stout',\n",
       " 1: 'James Bland',\n",
       " 2: 'Ada the explorer'}"
      ]
     },
     "execution_count": 65,
     "metadata": {},
     "output_type": "execute_result"
    }
   ],
   "source": [
    "reverse_mapping"
   ]
  },
  {
   "cell_type": "code",
   "execution_count": 66,
   "metadata": {},
   "outputs": [
    {
     "data": {
      "text/plain": [
       "{'All': 4,\n",
       " 'Jean-Michel IPA': 3,\n",
       " 'Marcel Stout': 0,\n",
       " 'James Bland': 1,\n",
       " 'Ada the explorer': 2}"
      ]
     },
     "execution_count": 66,
     "metadata": {},
     "output_type": "execute_result"
    }
   ],
   "source": [
    "mapping"
   ]
  },
  {
   "cell_type": "code",
   "execution_count": 67,
   "metadata": {},
   "outputs": [
    {
     "data": {
      "application/vnd.plotly.v1+json": {
       "config": {
        "plotlyServerURL": "https://plot.ly"
       },
       "data": [
        {
         "line": {
          "color": "rgb(239,85,59)"
         },
         "mode": "lines",
         "name": "last 50 beers",
         "showlegend": true,
         "type": "scatter",
         "visible": true,
         "x": [
          "Bocks",
          "Brown Ales",
          "Dark Ales",
          "Dark Lagers",
          "Hybrid Beers",
          "India Pale Ales",
          "Pale Ales",
          "Pale Lagers",
          "Porters",
          "Specialty Beer",
          "Stouts",
          "Strong Ales",
          "Weird Cocktail",
          "Wheat Beers",
          "Wild/Sour Beers"
         ],
         "y": [
          0.9329896907216495,
          2.082474226804124,
          0.8371134020618557,
          0.790721649484536,
          0.31237113402061856,
          12.076288659793814,
          8.402061855670103,
          2.8824742268041237,
          2.2103092783505156,
          1.5257731958762886,
          7.223711340206186,
          4.818556701030928,
          0.021649484536082474,
          2.2824742268041236,
          3.6010309278350516
         ]
        },
        {
         "fillcolor": "rgba(239,85,59,0.3)",
         "line": {
          "width": 0
         },
         "mode": "lines",
         "name": "first, CI Low",
         "showlegend": false,
         "type": "scatter",
         "visible": true,
         "x": [
          "Bocks",
          "Brown Ales",
          "Dark Ales",
          "Dark Lagers",
          "Hybrid Beers",
          "India Pale Ales",
          "Pale Ales",
          "Pale Lagers",
          "Porters",
          "Specialty Beer",
          "Stouts",
          "Strong Ales",
          "Weird Cocktail",
          "Wheat Beers",
          "Wild/Sour Beers"
         ],
         "y": [
          0.8546391752577319,
          1.975257731958763,
          0.7649484536082474,
          0.7257731958762886,
          0.277319587628866,
          11.65360824742268,
          8.157731958762886,
          2.69866485541633,
          2.107216494845361,
          1.418556701030928,
          6.921532104634536,
          4.617589969156343,
          0.012371134020618556,
          2.160824742268041,
          3.354639175257732
         ]
        },
        {
         "fill": "tonexty",
         "fillcolor": "rgba(239,85,59,0.3)",
         "line": {
          "width": 0
         },
         "mode": "lines",
         "name": "first, CI high",
         "showlegend": false,
         "type": "scatter",
         "visible": true,
         "x": [
          "Bocks",
          "Brown Ales",
          "Dark Ales",
          "Dark Lagers",
          "Hybrid Beers",
          "India Pale Ales",
          "Pale Ales",
          "Pale Lagers",
          "Porters",
          "Specialty Beer",
          "Stouts",
          "Strong Ales",
          "Weird Cocktail",
          "Wheat Beers",
          "Wild/Sour Beers"
         ],
         "y": [
          1.0206185567010309,
          2.1927835051546394,
          0.9144329896907216,
          0.8587628865979381,
          0.3474226804123711,
          12.511162074059044,
          8.642268041237113,
          3.0814432989690723,
          2.3195876288659796,
          1.6432989690721649,
          7.533827844506719,
          5.027835051546392,
          0.030927835051546393,
          2.409278350515464,
          3.8711340206185567
         ]
        },
        {
         "line": {
          "color": "rgb(0,204,150)"
         },
         "mode": "lines",
         "name": "first 50 beers",
         "showlegend": true,
         "type": "scatter",
         "visible": true,
         "x": [
          "Bocks",
          "Brown Ales",
          "Dark Ales",
          "Dark Lagers",
          "Hybrid Beers",
          "India Pale Ales",
          "Pale Ales",
          "Pale Lagers",
          "Porters",
          "Specialty Beer",
          "Stouts",
          "Strong Ales",
          "Weird Cocktail",
          "Wheat Beers",
          "Wild/Sour Beers"
         ],
         "y": [
          1.2474226804123711,
          2.6618556701030927,
          1.2247422680412372,
          1.3711340206185567,
          0.30721649484536084,
          11.427835051546392,
          7.752577319587629,
          4.309278350515464,
          2.118556701030928,
          1.48659793814433,
          6.77319587628866,
          5.315463917525773,
          0.06701030927835051,
          2.936082474226804,
          1.0010309278350515
         ]
        },
        {
         "fillcolor": "rgba(0,204,150,0.3)",
         "line": {
          "width": 0
         },
         "mode": "lines",
         "name": "first, CI Low",
         "showlegend": false,
         "type": "scatter",
         "visible": true,
         "x": [
          "Bocks",
          "Brown Ales",
          "Dark Ales",
          "Dark Lagers",
          "Hybrid Beers",
          "India Pale Ales",
          "Pale Ales",
          "Pale Lagers",
          "Porters",
          "Specialty Beer",
          "Stouts",
          "Strong Ales",
          "Weird Cocktail",
          "Wheat Beers",
          "Wild/Sour Beers"
         ],
         "y": [
          1.1608247422680413,
          2.536082474226804,
          1.1381443298969072,
          1.2690721649484535,
          0.27319587628865977,
          10.91340206185567,
          7.5237113402061855,
          4.005154639175258,
          2,
          1.3783505154639175,
          6.434020618556701,
          5.10721649484536,
          0.05154639175257732,
          2.7789910326040803,
          0.8793814432989691
         ]
        },
        {
         "fill": "tonexty",
         "fillcolor": "rgba(0,204,150,0.3)",
         "line": {
          "width": 0
         },
         "mode": "lines",
         "name": "first, CI High",
         "showlegend": false,
         "type": "scatter",
         "visible": true,
         "x": [
          "Bocks",
          "Brown Ales",
          "Dark Ales",
          "Dark Lagers",
          "Hybrid Beers",
          "India Pale Ales",
          "Pale Ales",
          "Pale Lagers",
          "Porters",
          "Specialty Beer",
          "Stouts",
          "Strong Ales",
          "Weird Cocktail",
          "Wheat Beers",
          "Wild/Sour Beers"
         ],
         "y": [
          1.3412371134020618,
          2.792783505154639,
          1.3164948453608247,
          1.478274607194906,
          0.34329896907216495,
          11.970248595317917,
          7.9876288659793815,
          4.635051546391753,
          2.236082474226804,
          1.6061855670103093,
          7.127134107894387,
          5.535876607658148,
          0.08453608247422681,
          3.107216494845361,
          1.1412371134020618
         ]
        },
        {
         "line": {
          "color": "rgb(239,85,59)"
         },
         "mode": "lines",
         "name": "last 50 beers",
         "showlegend": true,
         "type": "scatter",
         "visible": false,
         "x": [
          "Bocks",
          "Brown Ales",
          "Dark Ales",
          "Dark Lagers",
          "Hybrid Beers",
          "India Pale Ales",
          "Pale Ales",
          "Pale Lagers",
          "Porters",
          "Specialty Beer",
          "Stouts",
          "Strong Ales",
          "Weird Cocktail",
          "Wheat Beers",
          "Wild/Sour Beers"
         ],
         "y": [
          0.5313807531380753,
          1.2635983263598327,
          0.45188284518828453,
          0.4895397489539749,
          0.24686192468619247,
          16.16317991631799,
          8.142259414225942,
          2.200836820083682,
          1.9623430962343096,
          1.200836820083682,
          7.606694560669456,
          3.702928870292887,
          0.008368200836820083,
          1.8242677824267783,
          4.205020920502092
         ]
        },
        {
         "fillcolor": "rgba(239,85,59,0.3)",
         "line": {
          "width": 0
         },
         "mode": "lines",
         "name": "first, CI Low",
         "showlegend": false,
         "type": "scatter",
         "visible": false,
         "x": [
          "Bocks",
          "Brown Ales",
          "Dark Ales",
          "Dark Lagers",
          "Hybrid Beers",
          "India Pale Ales",
          "Pale Ales",
          "Pale Lagers",
          "Porters",
          "Specialty Beer",
          "Stouts",
          "Strong Ales",
          "Weird Cocktail",
          "Wheat Beers",
          "Wild/Sour Beers"
         ],
         "y": [
          0.41841004184100417,
          1.096234309623431,
          0.3514644351464435,
          0.39330543933054396,
          0.18410041841004185,
          15.257116240370022,
          7.677824267782427,
          1.9121338912133892,
          1.7573221757322175,
          1.0334728033472804,
          6.958158995815899,
          3.3651504038829843,
          0,
          1.6234309623430963,
          3.711297071129707
         ]
        },
        {
         "fill": "tonexty",
         "fillcolor": "rgba(239,85,59,0.3)",
         "line": {
          "width": 0
         },
         "mode": "lines",
         "name": "first, CI high",
         "showlegend": false,
         "type": "scatter",
         "visible": false,
         "x": [
          "Bocks",
          "Brown Ales",
          "Dark Ales",
          "Dark Lagers",
          "Hybrid Beers",
          "India Pale Ales",
          "Pale Ales",
          "Pale Lagers",
          "Porters",
          "Specialty Beer",
          "Stouts",
          "Strong Ales",
          "Weird Cocktail",
          "Wheat Beers",
          "Wild/Sour Beers"
         ],
         "y": [
          0.6652719665271967,
          1.4267782426778242,
          0.5648535564853556,
          0.5899581589958159,
          0.30962343096234307,
          17.12970711297071,
          8.640167364016737,
          2.5564853556485354,
          2.188284518828452,
          1.3871592706674167,
          8.326359832635983,
          4.062761506276151,
          0.02092050209205021,
          2.062761506276151,
          4.7656903765690375
         ]
        },
        {
         "line": {
          "color": "rgb(0,204,150)"
         },
         "mode": "lines",
         "name": "first 50 beers",
         "showlegend": true,
         "type": "scatter",
         "visible": false,
         "x": [
          "Bocks",
          "Brown Ales",
          "Dark Ales",
          "Dark Lagers",
          "Hybrid Beers",
          "India Pale Ales",
          "Pale Ales",
          "Pale Lagers",
          "Porters",
          "Specialty Beer",
          "Stouts",
          "Strong Ales",
          "Weird Cocktail",
          "Wheat Beers",
          "Wild/Sour Beers"
         ],
         "y": [
          0.5983263598326359,
          1.7322175732217573,
          0.6150627615062761,
          0.5481171548117155,
          0.23430962343096234,
          22.832635983263597,
          7.468619246861925,
          2.01255230125523,
          1.3514644351464435,
          1.2217573221757323,
          4.556485355648536,
          4.075313807531381,
          0.012552301255230125,
          1.8786610878661087,
          0.8619246861924686
         ]
        },
        {
         "fillcolor": "rgba(0,204,150,0.3)",
         "line": {
          "width": 0
         },
         "mode": "lines",
         "name": "first, CI Low",
         "showlegend": false,
         "type": "scatter",
         "visible": false,
         "x": [
          "Bocks",
          "Brown Ales",
          "Dark Ales",
          "Dark Lagers",
          "Hybrid Beers",
          "India Pale Ales",
          "Pale Ales",
          "Pale Lagers",
          "Porters",
          "Specialty Beer",
          "Stouts",
          "Strong Ales",
          "Weird Cocktail",
          "Wheat Beers",
          "Wild/Sour Beers"
         ],
         "y": [
          0.49372384937238495,
          1.5523012552301256,
          0.5062761506276151,
          0.4435146443514644,
          0.17154811715481172,
          22.15899581589958,
          7.046025104602511,
          1.7656903765690377,
          1.1924686192468619,
          1.0460251046025104,
          4.142259414225942,
          3.7615062761506275,
          0,
          1.6694560669456067,
          0.6694560669456067
         ]
        },
        {
         "fill": "tonexty",
         "fillcolor": "rgba(0,204,150,0.3)",
         "line": {
          "width": 0
         },
         "mode": "lines",
         "name": "first, CI High",
         "showlegend": false,
         "type": "scatter",
         "visible": false,
         "x": [
          "Bocks",
          "Brown Ales",
          "Dark Ales",
          "Dark Lagers",
          "Hybrid Beers",
          "India Pale Ales",
          "Pale Ales",
          "Pale Lagers",
          "Porters",
          "Specialty Beer",
          "Stouts",
          "Strong Ales",
          "Weird Cocktail",
          "Wheat Beers",
          "Wild/Sour Beers"
         ],
         "y": [
          0.7154811715481172,
          1.9288702928870294,
          0.7447698744769874,
          0.6694560669456067,
          0.301255230125523,
          23.543933054393307,
          7.916317991631799,
          2.288702928870293,
          1.5188284518828452,
          1.4300803496916537,
          4.97489539748954,
          4.414225941422594,
          0.029288702928870293,
          2.1129707112970713,
          1.1380753138075315
         ]
        },
        {
         "line": {
          "color": "rgb(239,85,59)"
         },
         "mode": "lines",
         "name": "last 50 beers",
         "showlegend": true,
         "type": "scatter",
         "visible": false,
         "x": [
          "Bocks",
          "Brown Ales",
          "Dark Ales",
          "Dark Lagers",
          "Hybrid Beers",
          "India Pale Ales",
          "Pale Ales",
          "Pale Lagers",
          "Porters",
          "Specialty Beer",
          "Stouts",
          "Strong Ales",
          "Weird Cocktail",
          "Wheat Beers",
          "Wild/Sour Beers"
         ],
         "y": [
          0.5510204081632653,
          1.8775510204081634,
          0.6020408163265306,
          0.5459183673469388,
          0.24489795918367346,
          11.474489795918368,
          7.040816326530612,
          1.6377551020408163,
          2.576530612244898,
          1.4846938775510203,
          10.188775510204081,
          5.091836734693878,
          0.00510204081632653,
          1.8775510204081634,
          4.801020408163265
         ]
        },
        {
         "fillcolor": "rgba(239,85,59,0.3)",
         "line": {
          "width": 0
         },
         "mode": "lines",
         "name": "first, CI Low",
         "showlegend": false,
         "type": "scatter",
         "visible": false,
         "x": [
          "Bocks",
          "Brown Ales",
          "Dark Ales",
          "Dark Lagers",
          "Hybrid Beers",
          "India Pale Ales",
          "Pale Ales",
          "Pale Lagers",
          "Porters",
          "Specialty Beer",
          "Stouts",
          "Strong Ales",
          "Weird Cocktail",
          "Wheat Beers",
          "Wild/Sour Beers"
         ],
         "y": [
          0.4336734693877551,
          1.653061224489796,
          0.4846938775510204,
          0.42346938775510207,
          0.17857142857142858,
          10.683673469387756,
          6.596938775510204,
          1.3724489795918366,
          2.3311112832893794,
          1.2653061224489797,
          9.479591836734693,
          4.622448979591836,
          0,
          1.6428571428571428,
          4.183673469387755
         ]
        },
        {
         "fill": "tonexty",
         "fillcolor": "rgba(239,85,59,0.3)",
         "line": {
          "width": 0
         },
         "mode": "lines",
         "name": "first, CI high",
         "showlegend": false,
         "type": "scatter",
         "visible": false,
         "x": [
          "Bocks",
          "Brown Ales",
          "Dark Ales",
          "Dark Lagers",
          "Hybrid Beers",
          "India Pale Ales",
          "Pale Ales",
          "Pale Lagers",
          "Porters",
          "Specialty Beer",
          "Stouts",
          "Strong Ales",
          "Weird Cocktail",
          "Wheat Beers",
          "Wild/Sour Beers"
         ],
         "y": [
          0.673469387755102,
          2.1377551020408165,
          0.7397959183673469,
          0.6887755102040817,
          0.3163265306122449,
          12.357142857142858,
          7.510204081632653,
          1.9642857142857142,
          2.836734693877551,
          1.760204081632653,
          10.989795918367347,
          5.607142857142857,
          0.015306122448979591,
          2.11734693877551,
          5.479591836734694
         ]
        },
        {
         "line": {
          "color": "rgb(0,204,150)"
         },
         "mode": "lines",
         "name": "first 50 beers",
         "showlegend": true,
         "type": "scatter",
         "visible": false,
         "x": [
          "Bocks",
          "Brown Ales",
          "Dark Ales",
          "Dark Lagers",
          "Hybrid Beers",
          "India Pale Ales",
          "Pale Ales",
          "Pale Lagers",
          "Porters",
          "Specialty Beer",
          "Stouts",
          "Strong Ales",
          "Weird Cocktail",
          "Wheat Beers",
          "Wild/Sour Beers"
         ],
         "y": [
          0.8163265306122449,
          2.5051020408163267,
          0.9591836734693877,
          0.6326530612244898,
          0.28061224489795916,
          9.872448979591837,
          4.75,
          1.2959183673469388,
          3.0969387755102042,
          1.3418367346938775,
          15.14795918367347,
          6.168367346938775,
          0.07653061224489796,
          1.5510204081632653,
          1.5051020408163265
         ]
        },
        {
         "fillcolor": "rgba(0,204,150,0.3)",
         "line": {
          "width": 0
         },
         "mode": "lines",
         "name": "first, CI Low",
         "showlegend": false,
         "type": "scatter",
         "visible": false,
         "x": [
          "Bocks",
          "Brown Ales",
          "Dark Ales",
          "Dark Lagers",
          "Hybrid Beers",
          "India Pale Ales",
          "Pale Ales",
          "Pale Lagers",
          "Porters",
          "Specialty Beer",
          "Stouts",
          "Strong Ales",
          "Weird Cocktail",
          "Wheat Beers",
          "Wild/Sour Beers"
         ],
         "y": [
          0.673469387755102,
          2.229591836734694,
          0.7908163265306123,
          0.5,
          0.20918367346938777,
          9.096938775510203,
          4.403061224489796,
          1.1122448979591837,
          2.7908163265306123,
          1.1377551020408163,
          14.489795918367347,
          5.668367346938775,
          0.04081632653061224,
          1.3316326530612246,
          1.1785714285714286
         ]
        },
        {
         "fill": "tonexty",
         "fillcolor": "rgba(0,204,150,0.3)",
         "line": {
          "width": 0
         },
         "mode": "lines",
         "name": "first, CI High",
         "showlegend": false,
         "type": "scatter",
         "visible": false,
         "x": [
          "Bocks",
          "Brown Ales",
          "Dark Ales",
          "Dark Lagers",
          "Hybrid Beers",
          "India Pale Ales",
          "Pale Ales",
          "Pale Lagers",
          "Porters",
          "Specialty Beer",
          "Stouts",
          "Strong Ales",
          "Weird Cocktail",
          "Wheat Beers",
          "Wild/Sour Beers"
         ],
         "y": [
          0.9693877551020408,
          2.806122448979592,
          1.1428571428571428,
          0.7806122448979592,
          0.35714285714285715,
          10.653061224489797,
          5.096938775510204,
          1.4948979591836735,
          3.433673469387755,
          1.5918367346938775,
          15.89795918367347,
          6.743626183435936,
          0.12244897959183673,
          1.8265306122448979,
          1.9243820360508408
         ]
        },
        {
         "line": {
          "color": "rgb(239,85,59)"
         },
         "mode": "lines",
         "name": "last 50 beers",
         "showlegend": true,
         "type": "scatter",
         "visible": false,
         "x": [
          "Bocks",
          "Brown Ales",
          "Dark Ales",
          "Dark Lagers",
          "Hybrid Beers",
          "India Pale Ales",
          "Pale Ales",
          "Pale Lagers",
          "Porters",
          "Specialty Beer",
          "Stouts",
          "Strong Ales",
          "Weird Cocktail",
          "Wheat Beers",
          "Wild/Sour Beers"
         ],
         "y": [
          1.6312056737588652,
          2.617021276595745,
          1.2198581560283688,
          1.2695035460992907,
          0.2978723404255319,
          10.148936170212766,
          9.51063829787234,
          4.652482269503546,
          2.1631205673758864,
          1.6879432624113475,
          5.297872340425532,
          4.680851063829787,
          0.028368794326241134,
          2.893617021276596,
          1.900709219858156
         ]
        },
        {
         "fillcolor": "rgba(239,85,59,0.3)",
         "line": {
          "width": 0
         },
         "mode": "lines",
         "name": "first, CI Low",
         "showlegend": false,
         "type": "scatter",
         "visible": false,
         "x": [
          "Bocks",
          "Brown Ales",
          "Dark Ales",
          "Dark Lagers",
          "Hybrid Beers",
          "India Pale Ales",
          "Pale Ales",
          "Pale Lagers",
          "Porters",
          "Specialty Beer",
          "Stouts",
          "Strong Ales",
          "Weird Cocktail",
          "Wheat Beers",
          "Wild/Sour Beers"
         ],
         "y": [
          1.3404255319148937,
          2.3333333333333335,
          0.9929078014184397,
          1.0638297872340425,
          0.20567375886524822,
          9.078014184397164,
          8.936170212765957,
          4.092198581560283,
          1.8865248226950355,
          1.3829787234042554,
          4.73758865248227,
          4.191489361702128,
          0.0070921985815602835,
          2.5390070921985815,
          1.4822695035460993
         ]
        },
        {
         "fill": "tonexty",
         "fillcolor": "rgba(239,85,59,0.3)",
         "line": {
          "width": 0
         },
         "mode": "lines",
         "name": "first, CI high",
         "showlegend": false,
         "type": "scatter",
         "visible": false,
         "x": [
          "Bocks",
          "Brown Ales",
          "Dark Ales",
          "Dark Lagers",
          "Hybrid Beers",
          "India Pale Ales",
          "Pale Ales",
          "Pale Lagers",
          "Porters",
          "Specialty Beer",
          "Stouts",
          "Strong Ales",
          "Weird Cocktail",
          "Wheat Beers",
          "Wild/Sour Beers"
         ],
         "y": [
          2.00709219858156,
          2.9361702127659575,
          1.4822695035460993,
          1.50354609929078,
          0.3971631205673759,
          11.333333333333334,
          10.156028368794326,
          5.333774848137568,
          2.4680851063829787,
          2.106382978723404,
          5.9361702127659575,
          5.212765957446808,
          0.05673758865248227,
          3.2907801418439715,
          2.49645390070922
         ]
        },
        {
         "line": {
          "color": "rgb(0,204,150)"
         },
         "mode": "lines",
         "name": "first 50 beers",
         "showlegend": true,
         "type": "scatter",
         "visible": false,
         "x": [
          "Bocks",
          "Brown Ales",
          "Dark Ales",
          "Dark Lagers",
          "Hybrid Beers",
          "India Pale Ales",
          "Pale Ales",
          "Pale Lagers",
          "Porters",
          "Specialty Beer",
          "Stouts",
          "Strong Ales",
          "Weird Cocktail",
          "Wheat Beers",
          "Wild/Sour Beers"
         ],
         "y": [
          1.7943262411347518,
          2.723404255319149,
          1.425531914893617,
          3.347517730496454,
          0.3829787234042553,
          3.297872340425532,
          7.780141843971631,
          13.624113475177305,
          1.5602836879432624,
          1.4184397163120568,
          3.5106382978723403,
          3.950354609929078,
          0.15602836879432624,
          4.74468085106383,
          0.28368794326241137
         ]
        },
        {
         "fillcolor": "rgba(0,204,150,0.3)",
         "line": {
          "width": 0
         },
         "mode": "lines",
         "name": "first, CI Low",
         "showlegend": false,
         "type": "scatter",
         "visible": false,
         "x": [
          "Bocks",
          "Brown Ales",
          "Dark Ales",
          "Dark Lagers",
          "Hybrid Beers",
          "India Pale Ales",
          "Pale Ales",
          "Pale Lagers",
          "Porters",
          "Specialty Beer",
          "Stouts",
          "Strong Ales",
          "Weird Cocktail",
          "Wheat Beers",
          "Wild/Sour Beers"
         ],
         "y": [
          1.5319148936170213,
          2.404255319148936,
          1.198581560283688,
          3.028368794326241,
          0.2765957446808511,
          2.851063829787234,
          7.198581560283688,
          12.76595744680851,
          1.3191489361702127,
          1.1702127659574468,
          3.099290780141844,
          3.574468085106383,
          0.09929078014184398,
          4.283687943262412,
          0.19148936170212766
         ]
        },
        {
         "fill": "tonexty",
         "fillcolor": "rgba(0,204,150,0.3)",
         "line": {
          "width": 0
         },
         "mode": "lines",
         "name": "first, CI High",
         "showlegend": false,
         "type": "scatter",
         "visible": false,
         "x": [
          "Bocks",
          "Brown Ales",
          "Dark Ales",
          "Dark Lagers",
          "Hybrid Beers",
          "India Pale Ales",
          "Pale Ales",
          "Pale Lagers",
          "Porters",
          "Specialty Beer",
          "Stouts",
          "Strong Ales",
          "Weird Cocktail",
          "Wheat Beers",
          "Wild/Sour Beers"
         ],
         "y": [
          2.0851063829787235,
          3.078014184397163,
          1.6879432624113475,
          3.6595744680851063,
          0.48936170212765956,
          3.801418439716312,
          8.361702127659575,
          14.638297872340425,
          1.8368794326241136,
          1.7163120567375887,
          4,
          4.3546099290780145,
          0.2127659574468085,
          5.23404255319149,
          0.3900709219858156
         ]
        },
        {
         "line": {
          "color": "rgb(239,85,59)"
         },
         "mode": "lines",
         "name": "last 50 beers",
         "showlegend": true,
         "type": "scatter",
         "visible": false,
         "x": [
          "Bocks",
          "Brown Ales",
          "Dark Ales",
          "Dark Lagers",
          "Hybrid Beers",
          "India Pale Ales",
          "Pale Ales",
          "Pale Lagers",
          "Porters",
          "Specialty Beer",
          "Stouts",
          "Strong Ales",
          "Weird Cocktail",
          "Wheat Beers",
          "Wild/Sour Beers"
         ],
         "y": [
          1.116751269035533,
          2.489847715736041,
          1.0507614213197969,
          0.9238578680203046,
          0.39086294416243655,
          10.586294416243655,
          8.84010152284264,
          3.281725888324873,
          2.1954314720812182,
          1.6852791878172588,
          6.2055837563451774,
          5.408629441624366,
          0.03553299492385787,
          2.5431472081218276,
          3.246192893401015
         ]
        },
        {
         "fillcolor": "rgba(239,85,59,0.3)",
         "line": {
          "width": 0
         },
         "mode": "lines",
         "name": "first, CI Low",
         "showlegend": false,
         "type": "scatter",
         "visible": false,
         "x": [
          "Bocks",
          "Brown Ales",
          "Dark Ales",
          "Dark Lagers",
          "Hybrid Beers",
          "India Pale Ales",
          "Pale Ales",
          "Pale Lagers",
          "Porters",
          "Specialty Beer",
          "Stouts",
          "Strong Ales",
          "Weird Cocktail",
          "Wheat Beers",
          "Wild/Sour Beers"
         ],
         "y": [
          0.9923857868020305,
          2.317258883248731,
          0.9289340101522843,
          0.8121827411167513,
          0.3299492385786802,
          10.02030456852792,
          8.446700507614214,
          2.99746192893401,
          2.035532994923858,
          1.517766497461929,
          5.8274111675126905,
          5.088832487309645,
          0.017766497461928935,
          2.3426395939086295,
          2.8730964467005076
         ]
        },
        {
         "fill": "tonexty",
         "fillcolor": "rgba(239,85,59,0.3)",
         "line": {
          "width": 0
         },
         "mode": "lines",
         "name": "first, CI high",
         "showlegend": false,
         "type": "scatter",
         "visible": false,
         "x": [
          "Bocks",
          "Brown Ales",
          "Dark Ales",
          "Dark Lagers",
          "Hybrid Beers",
          "India Pale Ales",
          "Pale Ales",
          "Pale Lagers",
          "Porters",
          "Specialty Beer",
          "Stouts",
          "Strong Ales",
          "Weird Cocktail",
          "Wheat Beers",
          "Wild/Sour Beers"
         ],
         "y": [
          1.248730964467005,
          2.66497461928934,
          1.1903553299492386,
          1.0406091370558375,
          0.4543147208121827,
          11.197969543147208,
          9.238364923572716,
          3.6015228426395938,
          2.3578680203045685,
          1.880710659898477,
          6.604060913705584,
          5.733502538071066,
          0.055663008708677644,
          2.753807106598985,
          3.6802030456852792
         ]
        },
        {
         "line": {
          "color": "rgb(0,204,150)"
         },
         "mode": "lines",
         "name": "first 50 beers",
         "showlegend": true,
         "type": "scatter",
         "visible": false,
         "x": [
          "Bocks",
          "Brown Ales",
          "Dark Ales",
          "Dark Lagers",
          "Hybrid Beers",
          "India Pale Ales",
          "Pale Ales",
          "Pale Lagers",
          "Porters",
          "Specialty Beer",
          "Stouts",
          "Strong Ales",
          "Weird Cocktail",
          "Wheat Beers",
          "Wild/Sour Beers"
         ],
         "y": [
          1.6598984771573604,
          3.281725888324873,
          1.6548223350253808,
          1.5304568527918783,
          0.33756345177664976,
          8.192893401015228,
          9.408629441624365,
          3.8680203045685277,
          2.296954314720812,
          1.7436548223350254,
          5.119289340101523,
          6.131979695431472,
          0.06345177664974619,
          3.6192893401015227,
          1.0913705583756346
         ]
        },
        {
         "fillcolor": "rgba(0,204,150,0.3)",
         "line": {
          "width": 0
         },
         "mode": "lines",
         "name": "first, CI Low",
         "showlegend": false,
         "type": "scatter",
         "visible": false,
         "x": [
          "Bocks",
          "Brown Ales",
          "Dark Ales",
          "Dark Lagers",
          "Hybrid Beers",
          "India Pale Ales",
          "Pale Ales",
          "Pale Lagers",
          "Porters",
          "Specialty Beer",
          "Stouts",
          "Strong Ales",
          "Weird Cocktail",
          "Wheat Beers",
          "Wild/Sour Beers"
         ],
         "y": [
          1.515228426395939,
          3.0761421319796955,
          1.5050761421319796,
          1.3908629441624365,
          0.2817258883248731,
          7.7639593908629445,
          9.073604060913706,
          3.6065989847715736,
          2.1197952009487335,
          1.5583756345177664,
          4.865482233502538,
          5.802030456852792,
          0.03807106598984772,
          3.3553299492385786,
          0.9060913705583756
         ]
        },
        {
         "fill": "tonexty",
         "fillcolor": "rgba(0,204,150,0.3)",
         "line": {
          "width": 0
         },
         "mode": "lines",
         "name": "first, CI High",
         "showlegend": false,
         "type": "scatter",
         "visible": false,
         "x": [
          "Bocks",
          "Brown Ales",
          "Dark Ales",
          "Dark Lagers",
          "Hybrid Beers",
          "India Pale Ales",
          "Pale Ales",
          "Pale Lagers",
          "Porters",
          "Specialty Beer",
          "Stouts",
          "Strong Ales",
          "Weird Cocktail",
          "Wheat Beers",
          "Wild/Sour Beers"
         ],
         "y": [
          1.8223350253807107,
          3.489847715736041,
          1.8071065989847717,
          1.6751269035532994,
          0.39593908629441626,
          8.591370558375635,
          9.758759982160761,
          4.119289340101523,
          2.4771573604060912,
          1.9692466117192287,
          5.368020304568528,
          6.4873096446700504,
          0.09137055837563451,
          3.8857868020304567,
          1.33248730964467
         ]
        }
       ],
       "layout": {
        "height": 600,
        "template": {
         "data": {
          "bar": [
           {
            "error_x": {
             "color": "#2a3f5f"
            },
            "error_y": {
             "color": "#2a3f5f"
            },
            "marker": {
             "line": {
              "color": "#E5ECF6",
              "width": 0.5
             },
             "pattern": {
              "fillmode": "overlay",
              "size": 10,
              "solidity": 0.2
             }
            },
            "type": "bar"
           }
          ],
          "barpolar": [
           {
            "marker": {
             "line": {
              "color": "#E5ECF6",
              "width": 0.5
             },
             "pattern": {
              "fillmode": "overlay",
              "size": 10,
              "solidity": 0.2
             }
            },
            "type": "barpolar"
           }
          ],
          "carpet": [
           {
            "aaxis": {
             "endlinecolor": "#2a3f5f",
             "gridcolor": "white",
             "linecolor": "white",
             "minorgridcolor": "white",
             "startlinecolor": "#2a3f5f"
            },
            "baxis": {
             "endlinecolor": "#2a3f5f",
             "gridcolor": "white",
             "linecolor": "white",
             "minorgridcolor": "white",
             "startlinecolor": "#2a3f5f"
            },
            "type": "carpet"
           }
          ],
          "choropleth": [
           {
            "colorbar": {
             "outlinewidth": 0,
             "ticks": ""
            },
            "type": "choropleth"
           }
          ],
          "contour": [
           {
            "colorbar": {
             "outlinewidth": 0,
             "ticks": ""
            },
            "colorscale": [
             [
              0,
              "#0d0887"
             ],
             [
              0.1111111111111111,
              "#46039f"
             ],
             [
              0.2222222222222222,
              "#7201a8"
             ],
             [
              0.3333333333333333,
              "#9c179e"
             ],
             [
              0.4444444444444444,
              "#bd3786"
             ],
             [
              0.5555555555555556,
              "#d8576b"
             ],
             [
              0.6666666666666666,
              "#ed7953"
             ],
             [
              0.7777777777777778,
              "#fb9f3a"
             ],
             [
              0.8888888888888888,
              "#fdca26"
             ],
             [
              1,
              "#f0f921"
             ]
            ],
            "type": "contour"
           }
          ],
          "contourcarpet": [
           {
            "colorbar": {
             "outlinewidth": 0,
             "ticks": ""
            },
            "type": "contourcarpet"
           }
          ],
          "heatmap": [
           {
            "colorbar": {
             "outlinewidth": 0,
             "ticks": ""
            },
            "colorscale": [
             [
              0,
              "#0d0887"
             ],
             [
              0.1111111111111111,
              "#46039f"
             ],
             [
              0.2222222222222222,
              "#7201a8"
             ],
             [
              0.3333333333333333,
              "#9c179e"
             ],
             [
              0.4444444444444444,
              "#bd3786"
             ],
             [
              0.5555555555555556,
              "#d8576b"
             ],
             [
              0.6666666666666666,
              "#ed7953"
             ],
             [
              0.7777777777777778,
              "#fb9f3a"
             ],
             [
              0.8888888888888888,
              "#fdca26"
             ],
             [
              1,
              "#f0f921"
             ]
            ],
            "type": "heatmap"
           }
          ],
          "heatmapgl": [
           {
            "colorbar": {
             "outlinewidth": 0,
             "ticks": ""
            },
            "colorscale": [
             [
              0,
              "#0d0887"
             ],
             [
              0.1111111111111111,
              "#46039f"
             ],
             [
              0.2222222222222222,
              "#7201a8"
             ],
             [
              0.3333333333333333,
              "#9c179e"
             ],
             [
              0.4444444444444444,
              "#bd3786"
             ],
             [
              0.5555555555555556,
              "#d8576b"
             ],
             [
              0.6666666666666666,
              "#ed7953"
             ],
             [
              0.7777777777777778,
              "#fb9f3a"
             ],
             [
              0.8888888888888888,
              "#fdca26"
             ],
             [
              1,
              "#f0f921"
             ]
            ],
            "type": "heatmapgl"
           }
          ],
          "histogram": [
           {
            "marker": {
             "pattern": {
              "fillmode": "overlay",
              "size": 10,
              "solidity": 0.2
             }
            },
            "type": "histogram"
           }
          ],
          "histogram2d": [
           {
            "colorbar": {
             "outlinewidth": 0,
             "ticks": ""
            },
            "colorscale": [
             [
              0,
              "#0d0887"
             ],
             [
              0.1111111111111111,
              "#46039f"
             ],
             [
              0.2222222222222222,
              "#7201a8"
             ],
             [
              0.3333333333333333,
              "#9c179e"
             ],
             [
              0.4444444444444444,
              "#bd3786"
             ],
             [
              0.5555555555555556,
              "#d8576b"
             ],
             [
              0.6666666666666666,
              "#ed7953"
             ],
             [
              0.7777777777777778,
              "#fb9f3a"
             ],
             [
              0.8888888888888888,
              "#fdca26"
             ],
             [
              1,
              "#f0f921"
             ]
            ],
            "type": "histogram2d"
           }
          ],
          "histogram2dcontour": [
           {
            "colorbar": {
             "outlinewidth": 0,
             "ticks": ""
            },
            "colorscale": [
             [
              0,
              "#0d0887"
             ],
             [
              0.1111111111111111,
              "#46039f"
             ],
             [
              0.2222222222222222,
              "#7201a8"
             ],
             [
              0.3333333333333333,
              "#9c179e"
             ],
             [
              0.4444444444444444,
              "#bd3786"
             ],
             [
              0.5555555555555556,
              "#d8576b"
             ],
             [
              0.6666666666666666,
              "#ed7953"
             ],
             [
              0.7777777777777778,
              "#fb9f3a"
             ],
             [
              0.8888888888888888,
              "#fdca26"
             ],
             [
              1,
              "#f0f921"
             ]
            ],
            "type": "histogram2dcontour"
           }
          ],
          "mesh3d": [
           {
            "colorbar": {
             "outlinewidth": 0,
             "ticks": ""
            },
            "type": "mesh3d"
           }
          ],
          "parcoords": [
           {
            "line": {
             "colorbar": {
              "outlinewidth": 0,
              "ticks": ""
             }
            },
            "type": "parcoords"
           }
          ],
          "pie": [
           {
            "automargin": true,
            "type": "pie"
           }
          ],
          "scatter": [
           {
            "marker": {
             "colorbar": {
              "outlinewidth": 0,
              "ticks": ""
             }
            },
            "type": "scatter"
           }
          ],
          "scatter3d": [
           {
            "line": {
             "colorbar": {
              "outlinewidth": 0,
              "ticks": ""
             }
            },
            "marker": {
             "colorbar": {
              "outlinewidth": 0,
              "ticks": ""
             }
            },
            "type": "scatter3d"
           }
          ],
          "scattercarpet": [
           {
            "marker": {
             "colorbar": {
              "outlinewidth": 0,
              "ticks": ""
             }
            },
            "type": "scattercarpet"
           }
          ],
          "scattergeo": [
           {
            "marker": {
             "colorbar": {
              "outlinewidth": 0,
              "ticks": ""
             }
            },
            "type": "scattergeo"
           }
          ],
          "scattergl": [
           {
            "marker": {
             "colorbar": {
              "outlinewidth": 0,
              "ticks": ""
             }
            },
            "type": "scattergl"
           }
          ],
          "scattermapbox": [
           {
            "marker": {
             "colorbar": {
              "outlinewidth": 0,
              "ticks": ""
             }
            },
            "type": "scattermapbox"
           }
          ],
          "scatterpolar": [
           {
            "marker": {
             "colorbar": {
              "outlinewidth": 0,
              "ticks": ""
             }
            },
            "type": "scatterpolar"
           }
          ],
          "scatterpolargl": [
           {
            "marker": {
             "colorbar": {
              "outlinewidth": 0,
              "ticks": ""
             }
            },
            "type": "scatterpolargl"
           }
          ],
          "scatterternary": [
           {
            "marker": {
             "colorbar": {
              "outlinewidth": 0,
              "ticks": ""
             }
            },
            "type": "scatterternary"
           }
          ],
          "surface": [
           {
            "colorbar": {
             "outlinewidth": 0,
             "ticks": ""
            },
            "colorscale": [
             [
              0,
              "#0d0887"
             ],
             [
              0.1111111111111111,
              "#46039f"
             ],
             [
              0.2222222222222222,
              "#7201a8"
             ],
             [
              0.3333333333333333,
              "#9c179e"
             ],
             [
              0.4444444444444444,
              "#bd3786"
             ],
             [
              0.5555555555555556,
              "#d8576b"
             ],
             [
              0.6666666666666666,
              "#ed7953"
             ],
             [
              0.7777777777777778,
              "#fb9f3a"
             ],
             [
              0.8888888888888888,
              "#fdca26"
             ],
             [
              1,
              "#f0f921"
             ]
            ],
            "type": "surface"
           }
          ],
          "table": [
           {
            "cells": {
             "fill": {
              "color": "#EBF0F8"
             },
             "line": {
              "color": "white"
             }
            },
            "header": {
             "fill": {
              "color": "#C8D4E3"
             },
             "line": {
              "color": "white"
             }
            },
            "type": "table"
           }
          ]
         },
         "layout": {
          "annotationdefaults": {
           "arrowcolor": "#2a3f5f",
           "arrowhead": 0,
           "arrowwidth": 1
          },
          "autotypenumbers": "strict",
          "coloraxis": {
           "colorbar": {
            "outlinewidth": 0,
            "ticks": ""
           }
          },
          "colorscale": {
           "diverging": [
            [
             0,
             "#8e0152"
            ],
            [
             0.1,
             "#c51b7d"
            ],
            [
             0.2,
             "#de77ae"
            ],
            [
             0.3,
             "#f1b6da"
            ],
            [
             0.4,
             "#fde0ef"
            ],
            [
             0.5,
             "#f7f7f7"
            ],
            [
             0.6,
             "#e6f5d0"
            ],
            [
             0.7,
             "#b8e186"
            ],
            [
             0.8,
             "#7fbc41"
            ],
            [
             0.9,
             "#4d9221"
            ],
            [
             1,
             "#276419"
            ]
           ],
           "sequential": [
            [
             0,
             "#0d0887"
            ],
            [
             0.1111111111111111,
             "#46039f"
            ],
            [
             0.2222222222222222,
             "#7201a8"
            ],
            [
             0.3333333333333333,
             "#9c179e"
            ],
            [
             0.4444444444444444,
             "#bd3786"
            ],
            [
             0.5555555555555556,
             "#d8576b"
            ],
            [
             0.6666666666666666,
             "#ed7953"
            ],
            [
             0.7777777777777778,
             "#fb9f3a"
            ],
            [
             0.8888888888888888,
             "#fdca26"
            ],
            [
             1,
             "#f0f921"
            ]
           ],
           "sequentialminus": [
            [
             0,
             "#0d0887"
            ],
            [
             0.1111111111111111,
             "#46039f"
            ],
            [
             0.2222222222222222,
             "#7201a8"
            ],
            [
             0.3333333333333333,
             "#9c179e"
            ],
            [
             0.4444444444444444,
             "#bd3786"
            ],
            [
             0.5555555555555556,
             "#d8576b"
            ],
            [
             0.6666666666666666,
             "#ed7953"
            ],
            [
             0.7777777777777778,
             "#fb9f3a"
            ],
            [
             0.8888888888888888,
             "#fdca26"
            ],
            [
             1,
             "#f0f921"
            ]
           ]
          },
          "colorway": [
           "#636efa",
           "#EF553B",
           "#00cc96",
           "#ab63fa",
           "#FFA15A",
           "#19d3f3",
           "#FF6692",
           "#B6E880",
           "#FF97FF",
           "#FECB52"
          ],
          "font": {
           "color": "#2a3f5f"
          },
          "geo": {
           "bgcolor": "white",
           "lakecolor": "white",
           "landcolor": "#E5ECF6",
           "showlakes": true,
           "showland": true,
           "subunitcolor": "white"
          },
          "hoverlabel": {
           "align": "left"
          },
          "hovermode": "closest",
          "mapbox": {
           "style": "light"
          },
          "paper_bgcolor": "white",
          "plot_bgcolor": "#E5ECF6",
          "polar": {
           "angularaxis": {
            "gridcolor": "white",
            "linecolor": "white",
            "ticks": ""
           },
           "bgcolor": "#E5ECF6",
           "radialaxis": {
            "gridcolor": "white",
            "linecolor": "white",
            "ticks": ""
           }
          },
          "scene": {
           "xaxis": {
            "backgroundcolor": "#E5ECF6",
            "gridcolor": "white",
            "gridwidth": 2,
            "linecolor": "white",
            "showbackground": true,
            "ticks": "",
            "zerolinecolor": "white"
           },
           "yaxis": {
            "backgroundcolor": "#E5ECF6",
            "gridcolor": "white",
            "gridwidth": 2,
            "linecolor": "white",
            "showbackground": true,
            "ticks": "",
            "zerolinecolor": "white"
           },
           "zaxis": {
            "backgroundcolor": "#E5ECF6",
            "gridcolor": "white",
            "gridwidth": 2,
            "linecolor": "white",
            "showbackground": true,
            "ticks": "",
            "zerolinecolor": "white"
           }
          },
          "shapedefaults": {
           "line": {
            "color": "#2a3f5f"
           }
          },
          "ternary": {
           "aaxis": {
            "gridcolor": "white",
            "linecolor": "white",
            "ticks": ""
           },
           "baxis": {
            "gridcolor": "white",
            "linecolor": "white",
            "ticks": ""
           },
           "bgcolor": "#E5ECF6",
           "caxis": {
            "gridcolor": "white",
            "linecolor": "white",
            "ticks": ""
           }
          },
          "title": {
           "x": 0.05
          },
          "xaxis": {
           "automargin": true,
           "gridcolor": "white",
           "linecolor": "white",
           "ticks": "",
           "title": {
            "standoff": 15
           },
           "zerolinecolor": "white",
           "zerolinewidth": 2
          },
          "yaxis": {
           "automargin": true,
           "gridcolor": "white",
           "linecolor": "white",
           "ticks": "",
           "title": {
            "standoff": 15
           },
           "zerolinecolor": "white",
           "zerolinewidth": 2
          }
         }
        },
        "title": {
         "text": "All together : average number of beers rated from each category"
        },
        "updatemenus": [
         {
          "active": 0,
          "buttons": [
           {
            "args": [
             {
              "visible": [
               true,
               true,
               true,
               true,
               true,
               true,
               false,
               false,
               false,
               false,
               false,
               false,
               false,
               false,
               false,
               false,
               false,
               false,
               false,
               false,
               false,
               false,
               false,
               false,
               false,
               false,
               false,
               false,
               false,
               false
              ]
             },
             {
              "title": "All together : average number of beers rated from each category"
             }
            ],
            "label": "All togheter",
            "method": "update"
           },
           {
            "args": [
             {
              "visible": [
               false,
               false,
               false,
               false,
               false,
               false,
               true,
               true,
               true,
               true,
               true,
               true,
               false,
               false,
               false,
               false,
               false,
               false,
               false,
               false,
               false,
               false,
               false,
               false,
               false,
               false,
               false,
               false,
               false,
               false
              ]
             },
             {
              "title": "Team \"Jean-Michel IPA\" : average number of beers rated from each category"
             }
            ],
            "label": "Jean-Michel IPA",
            "method": "update"
           },
           {
            "args": [
             {
              "visible": [
               false,
               false,
               false,
               false,
               false,
               false,
               false,
               false,
               false,
               false,
               false,
               false,
               true,
               true,
               true,
               true,
               true,
               true,
               false,
               false,
               false,
               false,
               false,
               false,
               false,
               false,
               false,
               false,
               false,
               false
              ]
             },
             {
              "title": "Team \"Marcel Stout\" : average number of beers rated from each category"
             }
            ],
            "label": "Marcel Stout",
            "method": "update"
           },
           {
            "args": [
             {
              "visible": [
               false,
               false,
               false,
               false,
               false,
               false,
               false,
               false,
               false,
               false,
               false,
               false,
               false,
               false,
               false,
               false,
               false,
               false,
               true,
               true,
               true,
               true,
               true,
               true,
               false,
               false,
               false,
               false,
               false,
               false
              ]
             },
             {
              "title": "Team \"James Bland\" : average number of beers rated from each category"
             }
            ],
            "label": "James Bland",
            "method": "update"
           },
           {
            "args": [
             {
              "visible": [
               false,
               false,
               false,
               false,
               false,
               false,
               false,
               false,
               false,
               false,
               false,
               false,
               false,
               false,
               false,
               false,
               false,
               false,
               false,
               false,
               false,
               false,
               false,
               false,
               true,
               true,
               true,
               true,
               true,
               true
              ]
             },
             {
              "title": "Team \"Ada the explorer\" : average number of beers rated from each category"
             }
            ],
            "label": "Ada the explorer",
            "method": "update"
           }
          ],
          "direction": "right",
          "type": "buttons",
          "x": 1,
          "y": 1.1
         }
        ],
        "width": 1000,
        "xaxis": {
         "title": {
          "text": "Category"
         }
        },
        "yaxis": {
         "range": [
          0,
          25
         ],
         "title": {
          "text": "Number of beers"
         }
        }
       }
      }
     },
     "metadata": {},
     "output_type": "display_data"
    }
   ],
   "source": [
    "#le vrai - redoo avec CI\n",
    "mean_user = df_pivot.copy()\n",
    "# plotly setup \n",
    "fig = go.Figure()\n",
    "\n",
    "# Add one ore more traces\n",
    "x = mean_user.index\n",
    "\n",
    "for i in mapping.keys():\n",
    "    viz = False\n",
    "    if i == \"All\":\n",
    "        viz = True\n",
    "    \n",
    "    #last\n",
    "    #mean\n",
    "    fig.add_trace(go.Scatter(x=x, y=mean_user.iloc[:, 25 + mapping[i]].values,\n",
    "                             name='last 50 beers', mode='lines', line_color='rgb(239,85,59)', \n",
    "                             visible=viz, showlegend=True))\n",
    "    #CI low\n",
    "    fig.add_trace(go.Scatter(x=x, y=mean_user.iloc[:, 15 + mapping[i]].values,\n",
    "                             name='first, CI Low', fill=None, mode='lines', line_width = 0.00,\n",
    "                             fillcolor='rgba(239,85,59,0.3)', visible=viz, showlegend=False))\n",
    "    #CI high\n",
    "    fig.add_trace(go.Scatter(x=x, y=mean_user.iloc[:, 20 + mapping[i]].values,\n",
    "                             name='first, CI high', fill='tonexty', mode='lines', line_width = 0.00,\n",
    "                             fillcolor='rgba(239,85,59,0.3)', visible=viz, showlegend=False))\n",
    "\n",
    "    #first\n",
    "    #mean\n",
    "    fig.add_trace(go.Scatter(x=x, y=mean_user.iloc[:, 10 + mapping[i]].values,\n",
    "                             name='first 50 beers', mode='lines', line_color = \"rgb(0,204,150)\",\n",
    "                             visible=viz, showlegend=True))\n",
    "    #CI low\n",
    "    fig.add_trace(go.Scatter(x=x, y=mean_user.iloc[:, 0 + mapping[i]].values,\n",
    "                             name='first, CI Low', fill=None, mode='lines', line_width = 0.00,\n",
    "                             fillcolor='rgba(0,204,150,0.3)', visible=viz, showlegend=False))\n",
    "    #CI high\n",
    "    fig.add_trace(go.Scatter(x=x, y=mean_user.iloc[:, 5 + mapping[i]].values,\n",
    "                             name='first, CI High', fill='tonexty', mode='lines', line_width = 0.00,\n",
    "                             fillcolor='rgba(0,204,150,0.3)', visible=viz, showlegend=False))\n",
    "\n",
    "#build 5 mask coresponding to each button\n",
    "list_0 = [True]*6 + [False]*24\n",
    "list_1 = [False]*6 + [True]*6 + [False]*18\n",
    "list_2 = [False]*12 + [True]*6 + [False]*12\n",
    "list_3 = [False]*18 + [True]*6 + [False]*6\n",
    "list_4 = [False]*24 + [True]*6\n",
    "\n",
    "fig.update_layout(\n",
    "    yaxis_range=[0,25],\n",
    "    width=1000,\n",
    "    height=600,\n",
    "    updatemenus=[\n",
    "        dict(\n",
    "            type=\"buttons\",\n",
    "            direction=\"right\",\n",
    "            active=0,\n",
    "            x=1,\n",
    "            y=1.1,\n",
    "            buttons=list([\n",
    "                dict(label=\"All togheter\",\n",
    "                     method=\"update\",\n",
    "                     args=[{\"visible\": list_0},\n",
    "                           {'title':'All together : average number of beers rated from each category'}]),\n",
    "                dict(label=\"Jean-Michel IPA\",\n",
    "                     method=\"update\",\n",
    "                     args=[{\"visible\": list_1},\n",
    "                           {'title' : 'Team \"Jean-Michel IPA\" : average number of beers rated from each category'}]),\n",
    "                dict(label=\"Marcel Stout\",\n",
    "                     method=\"update\",\n",
    "                     args=[{\"visible\": list_2},\n",
    "                           {'title' : 'Team \"Marcel Stout\" : average number of beers rated from each category'}]),\n",
    "                dict(label=\"James Bland\",\n",
    "                     method=\"update\",\n",
    "                     args=[{\"visible\": list_3},\n",
    "                           {'title' : 'Team \"James Bland\" : average number of beers rated from each category'}]),\n",
    "                dict(label=\"Ada the explorer\",\n",
    "                     method=\"update\",\n",
    "                     args=[{\"visible\": list_4},\n",
    "                           {'title' : 'Team \"Ada the explorer\" : average number of beers rated from each category'}])\n",
    "\n",
    "            ]),\n",
    "        )\n",
    "    ])\n",
    "\n",
    "# Set title\n",
    "fig.update_xaxes(title_text=\"Category\")\n",
    "fig.update_yaxes(title_text=\"Number of beers\")\n",
    "\n",
    "fig.update_layout({'title' : 'All together : average number of beers rated from each category'})\n",
    "\n",
    "fig.show()\n",
    "fig.write_html(\"all_first_vs_last.html\")"
   ]
  },
  {
   "cell_type": "code",
   "execution_count": 68,
   "metadata": {},
   "outputs": [
    {
     "data": {
      "text/html": [
       "<div>\n",
       "<style scoped>\n",
       "    .dataframe tbody tr th:only-of-type {\n",
       "        vertical-align: middle;\n",
       "    }\n",
       "\n",
       "    .dataframe tbody tr th {\n",
       "        vertical-align: top;\n",
       "    }\n",
       "\n",
       "    .dataframe thead th {\n",
       "        text-align: right;\n",
       "    }\n",
       "</style>\n",
       "<table border=\"1\" class=\"dataframe\">\n",
       "  <thead>\n",
       "    <tr style=\"text-align: right;\">\n",
       "      <th></th>\n",
       "      <th>(CI_low_first_rating, 0)</th>\n",
       "      <th>(CI_low_first_rating, 1)</th>\n",
       "      <th>(CI_low_first_rating, 2)</th>\n",
       "      <th>(CI_low_first_rating, 3)</th>\n",
       "      <th>(CI_low_first_rating, All)</th>\n",
       "      <th>(CI_high_first_rating, 0)</th>\n",
       "      <th>(CI_high_first_rating, 1)</th>\n",
       "      <th>(CI_high_first_rating, 2)</th>\n",
       "      <th>(CI_high_first_rating, 3)</th>\n",
       "      <th>(CI_high_first_rating, All)</th>\n",
       "      <th>...</th>\n",
       "      <th>(mean_last_ratings, 0)</th>\n",
       "      <th>(mean_last_ratings, 1)</th>\n",
       "      <th>(mean_last_ratings, 2)</th>\n",
       "      <th>(mean_last_ratings, 3)</th>\n",
       "      <th>(mean_last_ratings, All)</th>\n",
       "      <th>(t_test, 0)</th>\n",
       "      <th>(t_test, 1)</th>\n",
       "      <th>(t_test, 2)</th>\n",
       "      <th>(t_test, 3)</th>\n",
       "      <th>(t_test, All)</th>\n",
       "    </tr>\n",
       "    <tr>\n",
       "      <th>Category</th>\n",
       "      <th></th>\n",
       "      <th></th>\n",
       "      <th></th>\n",
       "      <th></th>\n",
       "      <th></th>\n",
       "      <th></th>\n",
       "      <th></th>\n",
       "      <th></th>\n",
       "      <th></th>\n",
       "      <th></th>\n",
       "      <th></th>\n",
       "      <th></th>\n",
       "      <th></th>\n",
       "      <th></th>\n",
       "      <th></th>\n",
       "      <th></th>\n",
       "      <th></th>\n",
       "      <th></th>\n",
       "      <th></th>\n",
       "      <th></th>\n",
       "      <th></th>\n",
       "    </tr>\n",
       "  </thead>\n",
       "  <tbody>\n",
       "    <tr>\n",
       "      <th>Bocks</th>\n",
       "      <td>0.673469</td>\n",
       "      <td>1.531915</td>\n",
       "      <td>1.515228</td>\n",
       "      <td>0.493724</td>\n",
       "      <td>1.160825</td>\n",
       "      <td>0.969388</td>\n",
       "      <td>2.085106</td>\n",
       "      <td>1.822335</td>\n",
       "      <td>0.715481</td>\n",
       "      <td>1.341237</td>\n",
       "      <td>...</td>\n",
       "      <td>0.551020</td>\n",
       "      <td>1.631206</td>\n",
       "      <td>1.116751</td>\n",
       "      <td>0.531381</td>\n",
       "      <td>0.932990</td>\n",
       "      <td>2.001985e-03</td>\n",
       "      <td>4.189340e-01</td>\n",
       "      <td>1.210879e-08</td>\n",
       "      <td>3.781030e-01</td>\n",
       "      <td>1.040049e-08</td>\n",
       "    </tr>\n",
       "    <tr>\n",
       "      <th>Brown Ales</th>\n",
       "      <td>2.229592</td>\n",
       "      <td>2.404255</td>\n",
       "      <td>3.076142</td>\n",
       "      <td>1.552301</td>\n",
       "      <td>2.536082</td>\n",
       "      <td>2.806122</td>\n",
       "      <td>3.078014</td>\n",
       "      <td>3.489848</td>\n",
       "      <td>1.928870</td>\n",
       "      <td>2.792784</td>\n",
       "      <td>...</td>\n",
       "      <td>1.877551</td>\n",
       "      <td>2.617021</td>\n",
       "      <td>2.489848</td>\n",
       "      <td>1.263598</td>\n",
       "      <td>2.082474</td>\n",
       "      <td>3.737509e-04</td>\n",
       "      <td>6.209248e-01</td>\n",
       "      <td>1.567179e-09</td>\n",
       "      <td>1.907517e-04</td>\n",
       "      <td>9.232355e-14</td>\n",
       "    </tr>\n",
       "    <tr>\n",
       "      <th>Dark Ales</th>\n",
       "      <td>0.790816</td>\n",
       "      <td>1.198582</td>\n",
       "      <td>1.505076</td>\n",
       "      <td>0.506276</td>\n",
       "      <td>1.138144</td>\n",
       "      <td>1.142857</td>\n",
       "      <td>1.687943</td>\n",
       "      <td>1.807107</td>\n",
       "      <td>0.744770</td>\n",
       "      <td>1.316495</td>\n",
       "      <td>...</td>\n",
       "      <td>0.602041</td>\n",
       "      <td>1.219858</td>\n",
       "      <td>1.050761</td>\n",
       "      <td>0.451883</td>\n",
       "      <td>0.837113</td>\n",
       "      <td>5.679719e-04</td>\n",
       "      <td>2.220434e-01</td>\n",
       "      <td>3.901109e-10</td>\n",
       "      <td>2.379335e-02</td>\n",
       "      <td>5.993624e-13</td>\n",
       "    </tr>\n",
       "    <tr>\n",
       "      <th>Dark Lagers</th>\n",
       "      <td>0.500000</td>\n",
       "      <td>3.028369</td>\n",
       "      <td>1.390863</td>\n",
       "      <td>0.443515</td>\n",
       "      <td>1.269072</td>\n",
       "      <td>0.780612</td>\n",
       "      <td>3.659574</td>\n",
       "      <td>1.675127</td>\n",
       "      <td>0.669456</td>\n",
       "      <td>1.478275</td>\n",
       "      <td>...</td>\n",
       "      <td>0.545918</td>\n",
       "      <td>1.269504</td>\n",
       "      <td>0.923858</td>\n",
       "      <td>0.489540</td>\n",
       "      <td>0.790722</td>\n",
       "      <td>3.469893e-01</td>\n",
       "      <td>1.775291e-21</td>\n",
       "      <td>4.049361e-12</td>\n",
       "      <td>4.246688e-01</td>\n",
       "      <td>8.970276e-25</td>\n",
       "    </tr>\n",
       "    <tr>\n",
       "      <th>Hybrid Beers</th>\n",
       "      <td>0.209184</td>\n",
       "      <td>0.276596</td>\n",
       "      <td>0.281726</td>\n",
       "      <td>0.171548</td>\n",
       "      <td>0.273196</td>\n",
       "      <td>0.357143</td>\n",
       "      <td>0.489362</td>\n",
       "      <td>0.395939</td>\n",
       "      <td>0.301255</td>\n",
       "      <td>0.343299</td>\n",
       "      <td>...</td>\n",
       "      <td>0.244898</td>\n",
       "      <td>0.297872</td>\n",
       "      <td>0.390863</td>\n",
       "      <td>0.246862</td>\n",
       "      <td>0.312371</td>\n",
       "      <td>4.381056e-01</td>\n",
       "      <td>2.219053e-01</td>\n",
       "      <td>1.923013e-01</td>\n",
       "      <td>7.907089e-01</td>\n",
       "      <td>8.332273e-01</td>\n",
       "    </tr>\n",
       "    <tr>\n",
       "      <th>India Pale Ales</th>\n",
       "      <td>9.096939</td>\n",
       "      <td>2.851064</td>\n",
       "      <td>7.763959</td>\n",
       "      <td>22.158996</td>\n",
       "      <td>10.913402</td>\n",
       "      <td>10.653061</td>\n",
       "      <td>3.801418</td>\n",
       "      <td>8.591371</td>\n",
       "      <td>23.543933</td>\n",
       "      <td>11.970249</td>\n",
       "      <td>...</td>\n",
       "      <td>11.474490</td>\n",
       "      <td>10.148936</td>\n",
       "      <td>10.586294</td>\n",
       "      <td>16.163180</td>\n",
       "      <td>12.076289</td>\n",
       "      <td>2.410343e-03</td>\n",
       "      <td>1.859514e-24</td>\n",
       "      <td>2.487439e-14</td>\n",
       "      <td>4.386729e-28</td>\n",
       "      <td>1.467942e-02</td>\n",
       "    </tr>\n",
       "    <tr>\n",
       "      <th>Pale Ales</th>\n",
       "      <td>4.403061</td>\n",
       "      <td>7.198582</td>\n",
       "      <td>9.073604</td>\n",
       "      <td>7.046025</td>\n",
       "      <td>7.523711</td>\n",
       "      <td>5.096939</td>\n",
       "      <td>8.361702</td>\n",
       "      <td>9.758760</td>\n",
       "      <td>7.916318</td>\n",
       "      <td>7.987629</td>\n",
       "      <td>...</td>\n",
       "      <td>7.040816</td>\n",
       "      <td>9.510638</td>\n",
       "      <td>8.840102</td>\n",
       "      <td>8.142259</td>\n",
       "      <td>8.402062</td>\n",
       "      <td>7.210528e-14</td>\n",
       "      <td>7.017638e-06</td>\n",
       "      <td>1.398808e-02</td>\n",
       "      <td>3.506138e-02</td>\n",
       "      <td>1.559042e-05</td>\n",
       "    </tr>\n",
       "    <tr>\n",
       "      <th>Pale Lagers</th>\n",
       "      <td>1.112245</td>\n",
       "      <td>12.765957</td>\n",
       "      <td>3.606599</td>\n",
       "      <td>1.765690</td>\n",
       "      <td>4.005155</td>\n",
       "      <td>1.494898</td>\n",
       "      <td>14.638298</td>\n",
       "      <td>4.119289</td>\n",
       "      <td>2.288703</td>\n",
       "      <td>4.635052</td>\n",
       "      <td>...</td>\n",
       "      <td>1.637755</td>\n",
       "      <td>4.652482</td>\n",
       "      <td>3.281726</td>\n",
       "      <td>2.200837</td>\n",
       "      <td>2.882474</td>\n",
       "      <td>4.069503e-02</td>\n",
       "      <td>4.205912e-33</td>\n",
       "      <td>1.749773e-03</td>\n",
       "      <td>3.107862e-01</td>\n",
       "      <td>2.939323e-18</td>\n",
       "    </tr>\n",
       "    <tr>\n",
       "      <th>Porters</th>\n",
       "      <td>2.790816</td>\n",
       "      <td>1.319149</td>\n",
       "      <td>2.119795</td>\n",
       "      <td>1.192469</td>\n",
       "      <td>2.000000</td>\n",
       "      <td>3.433673</td>\n",
       "      <td>1.836879</td>\n",
       "      <td>2.477157</td>\n",
       "      <td>1.518828</td>\n",
       "      <td>2.236082</td>\n",
       "      <td>...</td>\n",
       "      <td>2.576531</td>\n",
       "      <td>2.163121</td>\n",
       "      <td>2.195431</td>\n",
       "      <td>1.962343</td>\n",
       "      <td>2.210309</td>\n",
       "      <td>3.266419e-03</td>\n",
       "      <td>3.062677e-03</td>\n",
       "      <td>3.815884e-01</td>\n",
       "      <td>8.027743e-06</td>\n",
       "      <td>2.196372e-01</td>\n",
       "    </tr>\n",
       "    <tr>\n",
       "      <th>Specialty Beer</th>\n",
       "      <td>1.137755</td>\n",
       "      <td>1.170213</td>\n",
       "      <td>1.558376</td>\n",
       "      <td>1.046025</td>\n",
       "      <td>1.378351</td>\n",
       "      <td>1.591837</td>\n",
       "      <td>1.716312</td>\n",
       "      <td>1.969247</td>\n",
       "      <td>1.430080</td>\n",
       "      <td>1.606186</td>\n",
       "      <td>...</td>\n",
       "      <td>1.484694</td>\n",
       "      <td>1.687943</td>\n",
       "      <td>1.685279</td>\n",
       "      <td>1.200837</td>\n",
       "      <td>1.525773</td>\n",
       "      <td>3.448799e-01</td>\n",
       "      <td>1.843903e-01</td>\n",
       "      <td>6.610028e-01</td>\n",
       "      <td>8.681132e-01</td>\n",
       "      <td>6.030390e-01</td>\n",
       "    </tr>\n",
       "    <tr>\n",
       "      <th>Stouts</th>\n",
       "      <td>14.489796</td>\n",
       "      <td>3.099291</td>\n",
       "      <td>4.865482</td>\n",
       "      <td>4.142259</td>\n",
       "      <td>6.434021</td>\n",
       "      <td>15.897959</td>\n",
       "      <td>4.000000</td>\n",
       "      <td>5.368020</td>\n",
       "      <td>4.974895</td>\n",
       "      <td>7.127134</td>\n",
       "      <td>...</td>\n",
       "      <td>10.188776</td>\n",
       "      <td>5.297872</td>\n",
       "      <td>6.205584</td>\n",
       "      <td>7.606695</td>\n",
       "      <td>7.223711</td>\n",
       "      <td>2.000286e-24</td>\n",
       "      <td>3.360124e-06</td>\n",
       "      <td>4.111801e-07</td>\n",
       "      <td>3.962554e-15</td>\n",
       "      <td>1.425922e-02</td>\n",
       "    </tr>\n",
       "    <tr>\n",
       "      <th>Strong Ales</th>\n",
       "      <td>5.668367</td>\n",
       "      <td>3.574468</td>\n",
       "      <td>5.802030</td>\n",
       "      <td>3.761506</td>\n",
       "      <td>5.107216</td>\n",
       "      <td>6.743626</td>\n",
       "      <td>4.354610</td>\n",
       "      <td>6.487310</td>\n",
       "      <td>4.414226</td>\n",
       "      <td>5.535877</td>\n",
       "      <td>...</td>\n",
       "      <td>5.091837</td>\n",
       "      <td>4.680851</td>\n",
       "      <td>5.408629</td>\n",
       "      <td>3.702929</td>\n",
       "      <td>4.818557</td>\n",
       "      <td>1.091480e-03</td>\n",
       "      <td>2.355251e-02</td>\n",
       "      <td>4.634065e-04</td>\n",
       "      <td>8.847073e-02</td>\n",
       "      <td>1.184995e-04</td>\n",
       "    </tr>\n",
       "    <tr>\n",
       "      <th>Weird Cocktail</th>\n",
       "      <td>0.040816</td>\n",
       "      <td>0.099291</td>\n",
       "      <td>0.038071</td>\n",
       "      <td>0.000000</td>\n",
       "      <td>0.051546</td>\n",
       "      <td>0.122449</td>\n",
       "      <td>0.212766</td>\n",
       "      <td>0.091371</td>\n",
       "      <td>0.029289</td>\n",
       "      <td>0.084536</td>\n",
       "      <td>...</td>\n",
       "      <td>0.005102</td>\n",
       "      <td>0.028369</td>\n",
       "      <td>0.035533</td>\n",
       "      <td>0.008368</td>\n",
       "      <td>0.021649</td>\n",
       "      <td>1.585346e-03</td>\n",
       "      <td>1.789359e-04</td>\n",
       "      <td>7.814860e-02</td>\n",
       "      <td>6.556682e-01</td>\n",
       "      <td>2.432629e-06</td>\n",
       "    </tr>\n",
       "    <tr>\n",
       "      <th>Wheat Beers</th>\n",
       "      <td>1.331633</td>\n",
       "      <td>4.283688</td>\n",
       "      <td>3.355330</td>\n",
       "      <td>1.669456</td>\n",
       "      <td>2.778991</td>\n",
       "      <td>1.826531</td>\n",
       "      <td>5.234043</td>\n",
       "      <td>3.885787</td>\n",
       "      <td>2.112971</td>\n",
       "      <td>3.107216</td>\n",
       "      <td>...</td>\n",
       "      <td>1.877551</td>\n",
       "      <td>2.893617</td>\n",
       "      <td>2.543147</td>\n",
       "      <td>1.824268</td>\n",
       "      <td>2.282474</td>\n",
       "      <td>4.777999e-02</td>\n",
       "      <td>2.932158e-09</td>\n",
       "      <td>4.994585e-11</td>\n",
       "      <td>7.104695e-01</td>\n",
       "      <td>8.487360e-12</td>\n",
       "    </tr>\n",
       "    <tr>\n",
       "      <th>Wild/Sour Beers</th>\n",
       "      <td>1.178571</td>\n",
       "      <td>0.191489</td>\n",
       "      <td>0.906091</td>\n",
       "      <td>0.669456</td>\n",
       "      <td>0.879381</td>\n",
       "      <td>1.924382</td>\n",
       "      <td>0.390071</td>\n",
       "      <td>1.332487</td>\n",
       "      <td>1.138075</td>\n",
       "      <td>1.141237</td>\n",
       "      <td>...</td>\n",
       "      <td>4.801020</td>\n",
       "      <td>1.900709</td>\n",
       "      <td>3.246193</td>\n",
       "      <td>4.205021</td>\n",
       "      <td>3.601031</td>\n",
       "      <td>5.988160e-23</td>\n",
       "      <td>3.479107e-09</td>\n",
       "      <td>4.317902e-26</td>\n",
       "      <td>5.285727e-27</td>\n",
       "      <td>4.314128e-79</td>\n",
       "    </tr>\n",
       "  </tbody>\n",
       "</table>\n",
       "<p>15 rows × 35 columns</p>\n",
       "</div>"
      ],
      "text/plain": [
       "                 (CI_low_first_rating, 0)  (CI_low_first_rating, 1)  \\\n",
       "Category                                                              \n",
       "Bocks                            0.673469                  1.531915   \n",
       "Brown Ales                       2.229592                  2.404255   \n",
       "Dark Ales                        0.790816                  1.198582   \n",
       "Dark Lagers                      0.500000                  3.028369   \n",
       "Hybrid Beers                     0.209184                  0.276596   \n",
       "India Pale Ales                  9.096939                  2.851064   \n",
       "Pale Ales                        4.403061                  7.198582   \n",
       "Pale Lagers                      1.112245                 12.765957   \n",
       "Porters                          2.790816                  1.319149   \n",
       "Specialty Beer                   1.137755                  1.170213   \n",
       "Stouts                          14.489796                  3.099291   \n",
       "Strong Ales                      5.668367                  3.574468   \n",
       "Weird Cocktail                   0.040816                  0.099291   \n",
       "Wheat Beers                      1.331633                  4.283688   \n",
       "Wild/Sour Beers                  1.178571                  0.191489   \n",
       "\n",
       "                 (CI_low_first_rating, 2)  (CI_low_first_rating, 3)  \\\n",
       "Category                                                              \n",
       "Bocks                            1.515228                  0.493724   \n",
       "Brown Ales                       3.076142                  1.552301   \n",
       "Dark Ales                        1.505076                  0.506276   \n",
       "Dark Lagers                      1.390863                  0.443515   \n",
       "Hybrid Beers                     0.281726                  0.171548   \n",
       "India Pale Ales                  7.763959                 22.158996   \n",
       "Pale Ales                        9.073604                  7.046025   \n",
       "Pale Lagers                      3.606599                  1.765690   \n",
       "Porters                          2.119795                  1.192469   \n",
       "Specialty Beer                   1.558376                  1.046025   \n",
       "Stouts                           4.865482                  4.142259   \n",
       "Strong Ales                      5.802030                  3.761506   \n",
       "Weird Cocktail                   0.038071                  0.000000   \n",
       "Wheat Beers                      3.355330                  1.669456   \n",
       "Wild/Sour Beers                  0.906091                  0.669456   \n",
       "\n",
       "                 (CI_low_first_rating, All)  (CI_high_first_rating, 0)  \\\n",
       "Category                                                                 \n",
       "Bocks                              1.160825                   0.969388   \n",
       "Brown Ales                         2.536082                   2.806122   \n",
       "Dark Ales                          1.138144                   1.142857   \n",
       "Dark Lagers                        1.269072                   0.780612   \n",
       "Hybrid Beers                       0.273196                   0.357143   \n",
       "India Pale Ales                   10.913402                  10.653061   \n",
       "Pale Ales                          7.523711                   5.096939   \n",
       "Pale Lagers                        4.005155                   1.494898   \n",
       "Porters                            2.000000                   3.433673   \n",
       "Specialty Beer                     1.378351                   1.591837   \n",
       "Stouts                             6.434021                  15.897959   \n",
       "Strong Ales                        5.107216                   6.743626   \n",
       "Weird Cocktail                     0.051546                   0.122449   \n",
       "Wheat Beers                        2.778991                   1.826531   \n",
       "Wild/Sour Beers                    0.879381                   1.924382   \n",
       "\n",
       "                 (CI_high_first_rating, 1)  (CI_high_first_rating, 2)  \\\n",
       "Category                                                                \n",
       "Bocks                             2.085106                   1.822335   \n",
       "Brown Ales                        3.078014                   3.489848   \n",
       "Dark Ales                         1.687943                   1.807107   \n",
       "Dark Lagers                       3.659574                   1.675127   \n",
       "Hybrid Beers                      0.489362                   0.395939   \n",
       "India Pale Ales                   3.801418                   8.591371   \n",
       "Pale Ales                         8.361702                   9.758760   \n",
       "Pale Lagers                      14.638298                   4.119289   \n",
       "Porters                           1.836879                   2.477157   \n",
       "Specialty Beer                    1.716312                   1.969247   \n",
       "Stouts                            4.000000                   5.368020   \n",
       "Strong Ales                       4.354610                   6.487310   \n",
       "Weird Cocktail                    0.212766                   0.091371   \n",
       "Wheat Beers                       5.234043                   3.885787   \n",
       "Wild/Sour Beers                   0.390071                   1.332487   \n",
       "\n",
       "                 (CI_high_first_rating, 3)  (CI_high_first_rating, All)  ...  \\\n",
       "Category                                                                 ...   \n",
       "Bocks                             0.715481                     1.341237  ...   \n",
       "Brown Ales                        1.928870                     2.792784  ...   \n",
       "Dark Ales                         0.744770                     1.316495  ...   \n",
       "Dark Lagers                       0.669456                     1.478275  ...   \n",
       "Hybrid Beers                      0.301255                     0.343299  ...   \n",
       "India Pale Ales                  23.543933                    11.970249  ...   \n",
       "Pale Ales                         7.916318                     7.987629  ...   \n",
       "Pale Lagers                       2.288703                     4.635052  ...   \n",
       "Porters                           1.518828                     2.236082  ...   \n",
       "Specialty Beer                    1.430080                     1.606186  ...   \n",
       "Stouts                            4.974895                     7.127134  ...   \n",
       "Strong Ales                       4.414226                     5.535877  ...   \n",
       "Weird Cocktail                    0.029289                     0.084536  ...   \n",
       "Wheat Beers                       2.112971                     3.107216  ...   \n",
       "Wild/Sour Beers                   1.138075                     1.141237  ...   \n",
       "\n",
       "                 (mean_last_ratings, 0)  (mean_last_ratings, 1)  \\\n",
       "Category                                                          \n",
       "Bocks                          0.551020                1.631206   \n",
       "Brown Ales                     1.877551                2.617021   \n",
       "Dark Ales                      0.602041                1.219858   \n",
       "Dark Lagers                    0.545918                1.269504   \n",
       "Hybrid Beers                   0.244898                0.297872   \n",
       "India Pale Ales               11.474490               10.148936   \n",
       "Pale Ales                      7.040816                9.510638   \n",
       "Pale Lagers                    1.637755                4.652482   \n",
       "Porters                        2.576531                2.163121   \n",
       "Specialty Beer                 1.484694                1.687943   \n",
       "Stouts                        10.188776                5.297872   \n",
       "Strong Ales                    5.091837                4.680851   \n",
       "Weird Cocktail                 0.005102                0.028369   \n",
       "Wheat Beers                    1.877551                2.893617   \n",
       "Wild/Sour Beers                4.801020                1.900709   \n",
       "\n",
       "                 (mean_last_ratings, 2)  (mean_last_ratings, 3)  \\\n",
       "Category                                                          \n",
       "Bocks                          1.116751                0.531381   \n",
       "Brown Ales                     2.489848                1.263598   \n",
       "Dark Ales                      1.050761                0.451883   \n",
       "Dark Lagers                    0.923858                0.489540   \n",
       "Hybrid Beers                   0.390863                0.246862   \n",
       "India Pale Ales               10.586294               16.163180   \n",
       "Pale Ales                      8.840102                8.142259   \n",
       "Pale Lagers                    3.281726                2.200837   \n",
       "Porters                        2.195431                1.962343   \n",
       "Specialty Beer                 1.685279                1.200837   \n",
       "Stouts                         6.205584                7.606695   \n",
       "Strong Ales                    5.408629                3.702929   \n",
       "Weird Cocktail                 0.035533                0.008368   \n",
       "Wheat Beers                    2.543147                1.824268   \n",
       "Wild/Sour Beers                3.246193                4.205021   \n",
       "\n",
       "                 (mean_last_ratings, All)   (t_test, 0)   (t_test, 1)  \\\n",
       "Category                                                                \n",
       "Bocks                            0.932990  2.001985e-03  4.189340e-01   \n",
       "Brown Ales                       2.082474  3.737509e-04  6.209248e-01   \n",
       "Dark Ales                        0.837113  5.679719e-04  2.220434e-01   \n",
       "Dark Lagers                      0.790722  3.469893e-01  1.775291e-21   \n",
       "Hybrid Beers                     0.312371  4.381056e-01  2.219053e-01   \n",
       "India Pale Ales                 12.076289  2.410343e-03  1.859514e-24   \n",
       "Pale Ales                        8.402062  7.210528e-14  7.017638e-06   \n",
       "Pale Lagers                      2.882474  4.069503e-02  4.205912e-33   \n",
       "Porters                          2.210309  3.266419e-03  3.062677e-03   \n",
       "Specialty Beer                   1.525773  3.448799e-01  1.843903e-01   \n",
       "Stouts                           7.223711  2.000286e-24  3.360124e-06   \n",
       "Strong Ales                      4.818557  1.091480e-03  2.355251e-02   \n",
       "Weird Cocktail                   0.021649  1.585346e-03  1.789359e-04   \n",
       "Wheat Beers                      2.282474  4.777999e-02  2.932158e-09   \n",
       "Wild/Sour Beers                  3.601031  5.988160e-23  3.479107e-09   \n",
       "\n",
       "                  (t_test, 2)   (t_test, 3)  (t_test, All)  \n",
       "Category                                                    \n",
       "Bocks            1.210879e-08  3.781030e-01   1.040049e-08  \n",
       "Brown Ales       1.567179e-09  1.907517e-04   9.232355e-14  \n",
       "Dark Ales        3.901109e-10  2.379335e-02   5.993624e-13  \n",
       "Dark Lagers      4.049361e-12  4.246688e-01   8.970276e-25  \n",
       "Hybrid Beers     1.923013e-01  7.907089e-01   8.332273e-01  \n",
       "India Pale Ales  2.487439e-14  4.386729e-28   1.467942e-02  \n",
       "Pale Ales        1.398808e-02  3.506138e-02   1.559042e-05  \n",
       "Pale Lagers      1.749773e-03  3.107862e-01   2.939323e-18  \n",
       "Porters          3.815884e-01  8.027743e-06   2.196372e-01  \n",
       "Specialty Beer   6.610028e-01  8.681132e-01   6.030390e-01  \n",
       "Stouts           4.111801e-07  3.962554e-15   1.425922e-02  \n",
       "Strong Ales      4.634065e-04  8.847073e-02   1.184995e-04  \n",
       "Weird Cocktail   7.814860e-02  6.556682e-01   2.432629e-06  \n",
       "Wheat Beers      4.994585e-11  7.104695e-01   8.487360e-12  \n",
       "Wild/Sour Beers  4.317902e-26  5.285727e-27   4.314128e-79  \n",
       "\n",
       "[15 rows x 35 columns]"
      ]
     },
     "execution_count": 68,
     "metadata": {},
     "output_type": "execute_result"
    }
   ],
   "source": [
    "mean_user"
   ]
  },
  {
   "cell_type": "code",
   "execution_count": 69,
   "metadata": {},
   "outputs": [
    {
     "data": {
      "text/plain": [
       "{'All': 4,\n",
       " 'Jean-Michel IPA': 3,\n",
       " 'Marcel Stout': 0,\n",
       " 'James Bland': 1,\n",
       " 'Ada the explorer': 2}"
      ]
     },
     "execution_count": 69,
     "metadata": {},
     "output_type": "execute_result"
    }
   ],
   "source": [
    "mapping"
   ]
  },
  {
   "cell_type": "code",
   "execution_count": null,
   "metadata": {},
   "outputs": [],
   "source": []
  },
  {
   "cell_type": "code",
   "execution_count": 70,
   "metadata": {},
   "outputs": [
    {
     "data": {
      "text/plain": [
       "dict_values([0, 1, 2, 3, 4])"
      ]
     },
     "execution_count": 70,
     "metadata": {},
     "output_type": "execute_result"
    }
   ],
   "source": [
    "idx = {k: v for k, v in sorted(mapping.items(), key=lambda item: item[1])}\n",
    "idx.values()"
   ]
  },
  {
   "cell_type": "code",
   "execution_count": 71,
   "metadata": {},
   "outputs": [
    {
     "data": {
      "application/vnd.plotly.v1+json": {
       "config": {
        "plotlyServerURL": "https://plot.ly"
       },
       "data": [
        {
         "coloraxis": "coloraxis",
         "hovertemplate": "Category: %{x}<br>Clusters: %{y}<br>Pvalue: %{z}<extra></extra>",
         "name": "0",
         "texttemplate": "%{z}",
         "type": "heatmap",
         "x": [
          "Bocks",
          "Brown Ales",
          "Dark Ales",
          "Dark Lagers",
          "Hybrid Beers",
          "India Pale Ales",
          "Pale Ales",
          "Pale Lagers",
          "Porters",
          "Specialty Beer",
          "Stouts",
          "Strong Ales",
          "Weird Cocktail",
          "Wheat Beers",
          "Wild/Sour Beers"
         ],
         "xaxis": "x",
         "y": [
          "Marcel Stout",
          "James Bland",
          "Ada the explorer",
          "Jean-Michel IPA",
          "All"
         ],
         "yaxis": "y",
         "z": [
          [
           2.7,
           3.43,
           3.25,
           0,
           0,
           2.62,
           13.14,
           1.39,
           2.49,
           0,
           20,
           2.96,
           2.8,
           1.32,
           20
          ],
          [
           0,
           0,
           0,
           20,
           0,
           20,
           5.15,
           20,
           2.51,
           0,
           5.47,
           1.63,
           3.75,
           8.53,
           8.46
          ],
          [
           7.92,
           8.8,
           9.41,
           11.39,
           0,
           13.6,
           1.85,
           2.76,
           0,
           0,
           6.39,
           3.33,
           0,
           10.3,
           20
          ],
          [
           0,
           3.72,
           1.62,
           0,
           0,
           20,
           1.46,
           0,
           5.1,
           0,
           14.4,
           0,
           0,
           0,
           20
          ],
          [
           7.98,
           13.03,
           12.22,
           20,
           0,
           1.83,
           4.81,
           17.53,
           0,
           0,
           1.85,
           3.93,
           5.61,
           11.07,
           20
          ]
         ]
        }
       ],
       "layout": {
        "coloraxis": {
         "colorbar": {
          "ticktext": [
           "1",
           "5",
           "10",
           "20"
          ],
          "tickvals": [
           1,
           5,
           10,
           20
          ],
          "title": {
           "text": "-log(Pvalue)"
          }
         },
         "colorscale": [
          [
           0,
           "#0d0887"
          ],
          [
           0.1111111111111111,
           "#46039f"
          ],
          [
           0.2222222222222222,
           "#7201a8"
          ],
          [
           0.3333333333333333,
           "#9c179e"
          ],
          [
           0.4444444444444444,
           "#bd3786"
          ],
          [
           0.5555555555555556,
           "#d8576b"
          ],
          [
           0.6666666666666666,
           "#ed7953"
          ],
          [
           0.7777777777777778,
           "#fb9f3a"
          ],
          [
           0.8888888888888888,
           "#fdca26"
          ],
          [
           1,
           "#f0f921"
          ]
         ]
        },
        "template": {
         "data": {
          "bar": [
           {
            "error_x": {
             "color": "#2a3f5f"
            },
            "error_y": {
             "color": "#2a3f5f"
            },
            "marker": {
             "line": {
              "color": "#E5ECF6",
              "width": 0.5
             },
             "pattern": {
              "fillmode": "overlay",
              "size": 10,
              "solidity": 0.2
             }
            },
            "type": "bar"
           }
          ],
          "barpolar": [
           {
            "marker": {
             "line": {
              "color": "#E5ECF6",
              "width": 0.5
             },
             "pattern": {
              "fillmode": "overlay",
              "size": 10,
              "solidity": 0.2
             }
            },
            "type": "barpolar"
           }
          ],
          "carpet": [
           {
            "aaxis": {
             "endlinecolor": "#2a3f5f",
             "gridcolor": "white",
             "linecolor": "white",
             "minorgridcolor": "white",
             "startlinecolor": "#2a3f5f"
            },
            "baxis": {
             "endlinecolor": "#2a3f5f",
             "gridcolor": "white",
             "linecolor": "white",
             "minorgridcolor": "white",
             "startlinecolor": "#2a3f5f"
            },
            "type": "carpet"
           }
          ],
          "choropleth": [
           {
            "colorbar": {
             "outlinewidth": 0,
             "ticks": ""
            },
            "type": "choropleth"
           }
          ],
          "contour": [
           {
            "colorbar": {
             "outlinewidth": 0,
             "ticks": ""
            },
            "colorscale": [
             [
              0,
              "#0d0887"
             ],
             [
              0.1111111111111111,
              "#46039f"
             ],
             [
              0.2222222222222222,
              "#7201a8"
             ],
             [
              0.3333333333333333,
              "#9c179e"
             ],
             [
              0.4444444444444444,
              "#bd3786"
             ],
             [
              0.5555555555555556,
              "#d8576b"
             ],
             [
              0.6666666666666666,
              "#ed7953"
             ],
             [
              0.7777777777777778,
              "#fb9f3a"
             ],
             [
              0.8888888888888888,
              "#fdca26"
             ],
             [
              1,
              "#f0f921"
             ]
            ],
            "type": "contour"
           }
          ],
          "contourcarpet": [
           {
            "colorbar": {
             "outlinewidth": 0,
             "ticks": ""
            },
            "type": "contourcarpet"
           }
          ],
          "heatmap": [
           {
            "colorbar": {
             "outlinewidth": 0,
             "ticks": ""
            },
            "colorscale": [
             [
              0,
              "#0d0887"
             ],
             [
              0.1111111111111111,
              "#46039f"
             ],
             [
              0.2222222222222222,
              "#7201a8"
             ],
             [
              0.3333333333333333,
              "#9c179e"
             ],
             [
              0.4444444444444444,
              "#bd3786"
             ],
             [
              0.5555555555555556,
              "#d8576b"
             ],
             [
              0.6666666666666666,
              "#ed7953"
             ],
             [
              0.7777777777777778,
              "#fb9f3a"
             ],
             [
              0.8888888888888888,
              "#fdca26"
             ],
             [
              1,
              "#f0f921"
             ]
            ],
            "type": "heatmap"
           }
          ],
          "heatmapgl": [
           {
            "colorbar": {
             "outlinewidth": 0,
             "ticks": ""
            },
            "colorscale": [
             [
              0,
              "#0d0887"
             ],
             [
              0.1111111111111111,
              "#46039f"
             ],
             [
              0.2222222222222222,
              "#7201a8"
             ],
             [
              0.3333333333333333,
              "#9c179e"
             ],
             [
              0.4444444444444444,
              "#bd3786"
             ],
             [
              0.5555555555555556,
              "#d8576b"
             ],
             [
              0.6666666666666666,
              "#ed7953"
             ],
             [
              0.7777777777777778,
              "#fb9f3a"
             ],
             [
              0.8888888888888888,
              "#fdca26"
             ],
             [
              1,
              "#f0f921"
             ]
            ],
            "type": "heatmapgl"
           }
          ],
          "histogram": [
           {
            "marker": {
             "pattern": {
              "fillmode": "overlay",
              "size": 10,
              "solidity": 0.2
             }
            },
            "type": "histogram"
           }
          ],
          "histogram2d": [
           {
            "colorbar": {
             "outlinewidth": 0,
             "ticks": ""
            },
            "colorscale": [
             [
              0,
              "#0d0887"
             ],
             [
              0.1111111111111111,
              "#46039f"
             ],
             [
              0.2222222222222222,
              "#7201a8"
             ],
             [
              0.3333333333333333,
              "#9c179e"
             ],
             [
              0.4444444444444444,
              "#bd3786"
             ],
             [
              0.5555555555555556,
              "#d8576b"
             ],
             [
              0.6666666666666666,
              "#ed7953"
             ],
             [
              0.7777777777777778,
              "#fb9f3a"
             ],
             [
              0.8888888888888888,
              "#fdca26"
             ],
             [
              1,
              "#f0f921"
             ]
            ],
            "type": "histogram2d"
           }
          ],
          "histogram2dcontour": [
           {
            "colorbar": {
             "outlinewidth": 0,
             "ticks": ""
            },
            "colorscale": [
             [
              0,
              "#0d0887"
             ],
             [
              0.1111111111111111,
              "#46039f"
             ],
             [
              0.2222222222222222,
              "#7201a8"
             ],
             [
              0.3333333333333333,
              "#9c179e"
             ],
             [
              0.4444444444444444,
              "#bd3786"
             ],
             [
              0.5555555555555556,
              "#d8576b"
             ],
             [
              0.6666666666666666,
              "#ed7953"
             ],
             [
              0.7777777777777778,
              "#fb9f3a"
             ],
             [
              0.8888888888888888,
              "#fdca26"
             ],
             [
              1,
              "#f0f921"
             ]
            ],
            "type": "histogram2dcontour"
           }
          ],
          "mesh3d": [
           {
            "colorbar": {
             "outlinewidth": 0,
             "ticks": ""
            },
            "type": "mesh3d"
           }
          ],
          "parcoords": [
           {
            "line": {
             "colorbar": {
              "outlinewidth": 0,
              "ticks": ""
             }
            },
            "type": "parcoords"
           }
          ],
          "pie": [
           {
            "automargin": true,
            "type": "pie"
           }
          ],
          "scatter": [
           {
            "marker": {
             "colorbar": {
              "outlinewidth": 0,
              "ticks": ""
             }
            },
            "type": "scatter"
           }
          ],
          "scatter3d": [
           {
            "line": {
             "colorbar": {
              "outlinewidth": 0,
              "ticks": ""
             }
            },
            "marker": {
             "colorbar": {
              "outlinewidth": 0,
              "ticks": ""
             }
            },
            "type": "scatter3d"
           }
          ],
          "scattercarpet": [
           {
            "marker": {
             "colorbar": {
              "outlinewidth": 0,
              "ticks": ""
             }
            },
            "type": "scattercarpet"
           }
          ],
          "scattergeo": [
           {
            "marker": {
             "colorbar": {
              "outlinewidth": 0,
              "ticks": ""
             }
            },
            "type": "scattergeo"
           }
          ],
          "scattergl": [
           {
            "marker": {
             "colorbar": {
              "outlinewidth": 0,
              "ticks": ""
             }
            },
            "type": "scattergl"
           }
          ],
          "scattermapbox": [
           {
            "marker": {
             "colorbar": {
              "outlinewidth": 0,
              "ticks": ""
             }
            },
            "type": "scattermapbox"
           }
          ],
          "scatterpolar": [
           {
            "marker": {
             "colorbar": {
              "outlinewidth": 0,
              "ticks": ""
             }
            },
            "type": "scatterpolar"
           }
          ],
          "scatterpolargl": [
           {
            "marker": {
             "colorbar": {
              "outlinewidth": 0,
              "ticks": ""
             }
            },
            "type": "scatterpolargl"
           }
          ],
          "scatterternary": [
           {
            "marker": {
             "colorbar": {
              "outlinewidth": 0,
              "ticks": ""
             }
            },
            "type": "scatterternary"
           }
          ],
          "surface": [
           {
            "colorbar": {
             "outlinewidth": 0,
             "ticks": ""
            },
            "colorscale": [
             [
              0,
              "#0d0887"
             ],
             [
              0.1111111111111111,
              "#46039f"
             ],
             [
              0.2222222222222222,
              "#7201a8"
             ],
             [
              0.3333333333333333,
              "#9c179e"
             ],
             [
              0.4444444444444444,
              "#bd3786"
             ],
             [
              0.5555555555555556,
              "#d8576b"
             ],
             [
              0.6666666666666666,
              "#ed7953"
             ],
             [
              0.7777777777777778,
              "#fb9f3a"
             ],
             [
              0.8888888888888888,
              "#fdca26"
             ],
             [
              1,
              "#f0f921"
             ]
            ],
            "type": "surface"
           }
          ],
          "table": [
           {
            "cells": {
             "fill": {
              "color": "#EBF0F8"
             },
             "line": {
              "color": "white"
             }
            },
            "header": {
             "fill": {
              "color": "#C8D4E3"
             },
             "line": {
              "color": "white"
             }
            },
            "type": "table"
           }
          ]
         },
         "layout": {
          "annotationdefaults": {
           "arrowcolor": "#2a3f5f",
           "arrowhead": 0,
           "arrowwidth": 1
          },
          "autotypenumbers": "strict",
          "coloraxis": {
           "colorbar": {
            "outlinewidth": 0,
            "ticks": ""
           }
          },
          "colorscale": {
           "diverging": [
            [
             0,
             "#8e0152"
            ],
            [
             0.1,
             "#c51b7d"
            ],
            [
             0.2,
             "#de77ae"
            ],
            [
             0.3,
             "#f1b6da"
            ],
            [
             0.4,
             "#fde0ef"
            ],
            [
             0.5,
             "#f7f7f7"
            ],
            [
             0.6,
             "#e6f5d0"
            ],
            [
             0.7,
             "#b8e186"
            ],
            [
             0.8,
             "#7fbc41"
            ],
            [
             0.9,
             "#4d9221"
            ],
            [
             1,
             "#276419"
            ]
           ],
           "sequential": [
            [
             0,
             "#0d0887"
            ],
            [
             0.1111111111111111,
             "#46039f"
            ],
            [
             0.2222222222222222,
             "#7201a8"
            ],
            [
             0.3333333333333333,
             "#9c179e"
            ],
            [
             0.4444444444444444,
             "#bd3786"
            ],
            [
             0.5555555555555556,
             "#d8576b"
            ],
            [
             0.6666666666666666,
             "#ed7953"
            ],
            [
             0.7777777777777778,
             "#fb9f3a"
            ],
            [
             0.8888888888888888,
             "#fdca26"
            ],
            [
             1,
             "#f0f921"
            ]
           ],
           "sequentialminus": [
            [
             0,
             "#0d0887"
            ],
            [
             0.1111111111111111,
             "#46039f"
            ],
            [
             0.2222222222222222,
             "#7201a8"
            ],
            [
             0.3333333333333333,
             "#9c179e"
            ],
            [
             0.4444444444444444,
             "#bd3786"
            ],
            [
             0.5555555555555556,
             "#d8576b"
            ],
            [
             0.6666666666666666,
             "#ed7953"
            ],
            [
             0.7777777777777778,
             "#fb9f3a"
            ],
            [
             0.8888888888888888,
             "#fdca26"
            ],
            [
             1,
             "#f0f921"
            ]
           ]
          },
          "colorway": [
           "#636efa",
           "#EF553B",
           "#00cc96",
           "#ab63fa",
           "#FFA15A",
           "#19d3f3",
           "#FF6692",
           "#B6E880",
           "#FF97FF",
           "#FECB52"
          ],
          "font": {
           "color": "#2a3f5f"
          },
          "geo": {
           "bgcolor": "white",
           "lakecolor": "white",
           "landcolor": "#E5ECF6",
           "showlakes": true,
           "showland": true,
           "subunitcolor": "white"
          },
          "hoverlabel": {
           "align": "left"
          },
          "hovermode": "closest",
          "mapbox": {
           "style": "light"
          },
          "paper_bgcolor": "white",
          "plot_bgcolor": "#E5ECF6",
          "polar": {
           "angularaxis": {
            "gridcolor": "white",
            "linecolor": "white",
            "ticks": ""
           },
           "bgcolor": "#E5ECF6",
           "radialaxis": {
            "gridcolor": "white",
            "linecolor": "white",
            "ticks": ""
           }
          },
          "scene": {
           "xaxis": {
            "backgroundcolor": "#E5ECF6",
            "gridcolor": "white",
            "gridwidth": 2,
            "linecolor": "white",
            "showbackground": true,
            "ticks": "",
            "zerolinecolor": "white"
           },
           "yaxis": {
            "backgroundcolor": "#E5ECF6",
            "gridcolor": "white",
            "gridwidth": 2,
            "linecolor": "white",
            "showbackground": true,
            "ticks": "",
            "zerolinecolor": "white"
           },
           "zaxis": {
            "backgroundcolor": "#E5ECF6",
            "gridcolor": "white",
            "gridwidth": 2,
            "linecolor": "white",
            "showbackground": true,
            "ticks": "",
            "zerolinecolor": "white"
           }
          },
          "shapedefaults": {
           "line": {
            "color": "#2a3f5f"
           }
          },
          "ternary": {
           "aaxis": {
            "gridcolor": "white",
            "linecolor": "white",
            "ticks": ""
           },
           "baxis": {
            "gridcolor": "white",
            "linecolor": "white",
            "ticks": ""
           },
           "bgcolor": "#E5ECF6",
           "caxis": {
            "gridcolor": "white",
            "linecolor": "white",
            "ticks": ""
           }
          },
          "title": {
           "x": 0.05
          },
          "xaxis": {
           "automargin": true,
           "gridcolor": "white",
           "linecolor": "white",
           "ticks": "",
           "title": {
            "standoff": 15
           },
           "zerolinecolor": "white",
           "zerolinewidth": 2
          },
          "yaxis": {
           "automargin": true,
           "gridcolor": "white",
           "linecolor": "white",
           "ticks": "",
           "title": {
            "standoff": 15
           },
           "zerolinecolor": "white",
           "zerolinewidth": 2
          }
         }
        },
        "title": {
         "text": "Confidence in the change of the number of beers rated in each category <br>between the first 50 and last 50 ratings per cluster<br><sup>Heatmap of -log10(pval) (with pval > 0.05 clipped to 1 and pval < 1e-20 clipped to 1e-20)</sup>"
        },
        "xaxis": {
         "anchor": "y",
         "constrain": "domain",
         "domain": [
          0,
          1
         ],
         "scaleanchor": "y",
         "title": {
          "text": "Category"
         }
        },
        "yaxis": {
         "anchor": "x",
         "autorange": "reversed",
         "constrain": "domain",
         "domain": [
          0,
          1
         ],
         "title": {
          "text": "Clusters"
         }
        }
       }
      }
     },
     "metadata": {},
     "output_type": "display_data"
    }
   ],
   "source": [
    "df_pval = mean_user.iloc[:,30:35].T.copy()\n",
    "pval = df_pval.to_numpy()\n",
    "#print(pval.dtypes)\n",
    "\n",
    "# pval = pval[pval > 0.05]\n",
    "\n",
    "pval[pval < 1e-20] = 1e-20\n",
    "pval[pval > 0.05] = 1\n",
    "pval = -np.log10(pval)\n",
    "pval = np.round(pval,2)\n",
    "\n",
    "\n",
    "#pval.iloc[4,14] = max(pval)Plot Title <br><sup>Plot Subtitle</sup>\n",
    "fig = px.imshow(pval, text_auto=True, title=\"Confidence in the change of the number of beers rated in each category <br>\"\\\n",
    "                                            \"between the first 50 and last 50 ratings per cluster<br><sup>\"\\\n",
    "                                            \"Heatmap of -log10(pval) (with pval > 0.05 clipped to 1 and pval < 1e-20 clipped to 1e-20)</sup>\",\n",
    "                labels=dict(x=\"Category\", y=\"Clusters\", color=\"Pvalue\"),\n",
    "                x=df_pval.columns.values,\n",
    "                y=list(idx.keys()),\n",
    "               )\n",
    "#plt.figtext(0.5, 0.01, \"fdnpobfsubgpafbagèaiègs\")\n",
    "\n",
    "fig.update_layout(coloraxis_colorbar=dict(\n",
    "    title=\"-log(Pvalue)\",\n",
    "    tickvals=[1,5,10,20],\n",
    "    ticktext=[\"1\", \"5\", \"10\", \"20\"],\n",
    "))\n",
    "\n",
    "\n",
    "fig.show()\n",
    "fig.write_html(\"heatmap_pval.html\")"
   ]
  },
  {
   "cell_type": "code",
   "execution_count": 72,
   "metadata": {},
   "outputs": [],
   "source": [
    "user_to_cat_first['cluster_assigned']=user_to_cat_first['first_50_cluster'].apply(lambda idx: reverse_mapping[idx])"
   ]
  },
  {
   "cell_type": "code",
   "execution_count": 73,
   "metadata": {},
   "outputs": [
    {
     "name": "stdout",
     "output_type": "stream",
     "text": [
      "the variance explained by the 3 first principal components are [0.43681178 0.23533086 0.10548838] (respectively)\n"
     ]
    }
   ],
   "source": [
    "#plot by using pca methods in order to have a visualization of our clustering\n",
    "pca_3 = PCA(n_components=3)\n",
    "User_modify_3=pca_3.fit_transform(user_to_cat_first[user_to_cat_first.columns[0:15]].values)\n",
    "\n",
    "print('the variance explained by the 3 first principal components are',pca_3.explained_variance_ratio_,'(respectively)')"
   ]
  },
  {
   "cell_type": "code",
   "execution_count": 74,
   "metadata": {},
   "outputs": [],
   "source": [
    "User_modify_3=pd.DataFrame( User_modify_3)\n",
    "User_modify_3.columns=['Principal component 1','Principal component 2','Principal component 3']\n",
    "User_modify_3['cluster_assigned']=user_to_cat_first['cluster_assigned'].values"
   ]
  },
  {
   "cell_type": "code",
   "execution_count": 75,
   "metadata": {},
   "outputs": [
    {
     "data": {
      "application/vnd.plotly.v1+json": {
       "config": {
        "plotlyServerURL": "https://plot.ly"
       },
       "data": [
        {
         "hovertemplate": "cluster_assigned=Jean-Michel IPA<br>Principal component 1=%{x}<br>Principal component 2=%{y}<br>Principal component 3=%{z}<extra></extra>",
         "legendgroup": "Jean-Michel IPA",
         "marker": {
          "color": "#636efa",
          "opacity": 1,
          "symbol": "circle"
         },
         "mode": "markers",
         "name": "Jean-Michel IPA",
         "scene": "scene",
         "showlegend": true,
         "type": "scatter3d",
         "x": [
          18.047276169860353,
          10.698707118801465,
          14.366790129848129,
          20.334697631944486,
          9.356338086926222,
          8.655288284378207,
          17.714445207108415,
          10.114679357966974,
          6.166280684933822,
          6.049096061744319,
          5.619845248214926,
          16.794430858121345,
          5.880583384181597,
          7.746876683720713,
          17.979240833091087,
          5.559710538729005,
          12.155158095921239,
          18.463781073077623,
          6.756809284146388,
          4.993708102097275,
          10.447766152807041,
          9.700576988143549,
          9.250369570867853,
          5.754947036215763,
          9.211511351055288,
          7.644808928253203,
          18.14529645382722,
          14.768102300707136,
          9.11651263467763,
          10.396799336856706,
          7.047082740086003,
          11.146230280565096,
          12.246415856391835,
          12.764338947228422,
          32.0789358159394,
          7.270213654492027,
          18.276545196061825,
          19.884660426721098,
          5.000696446611756,
          12.27235231207901,
          8.26244507203081,
          9.896878109726618,
          21.070378396914982,
          15.972147270584781,
          20.456229515370516,
          20.255598058387136,
          13.776698137894254,
          10.736991760682901,
          8.111119486968517,
          16.397341062902537,
          19.369566194167405,
          10.131086914063875,
          7.610984816417251,
          15.291477556894458,
          10.049474956660054,
          10.327794021594313,
          5.492021985048899,
          23.50917002305488,
          18.557040565637543,
          7.549733008426675,
          9.631558200042134,
          12.57818646039731,
          5.429657729166773,
          6.330504665279938,
          7.282159983027055,
          13.462803512722877,
          16.814518246698317,
          20.13186866717842,
          18.0478813869215,
          11.717122973987461,
          17.909659677945378,
          10.131227130283287,
          9.89493691448236,
          4.992422539121834,
          12.266345747542607,
          17.814147609529385,
          7.469127577148805,
          20.75046107856577,
          8.692064414758706,
          21.774714044683922,
          20.540249782396337,
          25.383199411977994,
          5.3039652384034826,
          9.524267037670606,
          23.923063465660203,
          6.155714527311323,
          15.545831616321015,
          5.027143894005602,
          17.80540210052906,
          20.383439282805174,
          11.670074987791985,
          8.624719548670488,
          12.632790311190702,
          4.289739125229629,
          11.326783367737583,
          5.541612259348233,
          4.74132672943292,
          17.791674213340265,
          5.603051621695678,
          17.826270717924068,
          6.047573655349517,
          10.423781960784295,
          9.393921124331372,
          16.778985429708637,
          11.814816124894476,
          8.757688972022162,
          11.322101292736239,
          10.33955562075284,
          13.068839751520143,
          7.184598718627502,
          4.96691063347631,
          15.135939049772773,
          5.923413144620769,
          14.667616564811029,
          4.380975177321809,
          5.579575113512346,
          16.357066846448408,
          11.332177060359108,
          8.409127058409743,
          16.183649655090356,
          12.174955562729817,
          5.474570285312117,
          6.550778670606065,
          20.4738434496877,
          8.158876770537425,
          4.972612655100532,
          12.810224841998485,
          15.249717258906085,
          6.201974470562039,
          17.553534952770182,
          5.322809886506837,
          15.446298687821546,
          22.64820159367919,
          9.417237858139059,
          16.4600974129954,
          5.999759114723309,
          20.566690484733705,
          13.652685008815192,
          13.610179176149359,
          5.810049436747731,
          19.57172791797597,
          8.60309613742498,
          6.650455286722629,
          7.157152372634929,
          5.473909391539586,
          3.8542338797324884,
          13.248608228805056,
          17.454389164472676,
          15.213920988711541,
          14.158880377430314,
          11.75714046388212,
          8.315347226356753,
          7.929130848695183,
          12.961627445621879,
          9.330939082333252,
          8.086439741047087,
          15.662894895312398,
          5.5930860111540115,
          5.936984097752016,
          12.657457656817728,
          21.567359748243135,
          20.504348157925843,
          9.820986956420619,
          17.042322964966893,
          17.709823521202587,
          9.309570785273014,
          6.865011335217482,
          10.922984850142285,
          26.106979445975618,
          20.261294623512555,
          6.74004146840449,
          8.31767718919612,
          7.216827933749095,
          11.131402922054267,
          8.8337671577908,
          11.972114412453154,
          7.294330374024478,
          10.481421305083112,
          6.5743704114709915,
          13.020617025840236,
          27.16199014708959,
          16.379661543563405,
          9.127093022898153,
          11.679198157637751,
          5.252138261443035,
          7.624436541881545,
          10.547284858385003,
          14.048072328864832,
          6.7374541230912675,
          18.01540816197628,
          8.067643033823977,
          16.214820955390007,
          7.993716913678658,
          11.768667554731854,
          19.97345595048518,
          14.840546548547776,
          7.0838903155050295,
          16.527281207669237,
          9.001236947756896,
          10.402157705031952,
          7.323500440805227,
          5.285556017795185,
          8.407581831494982,
          6.918279095037621,
          14.076560141805793,
          9.097284143895319,
          15.568022034040844,
          22.251716444497596,
          12.234276295298727,
          19.4994291893297,
          12.153765222546152,
          6.648390838400472,
          15.176727549551167,
          8.435280335189796,
          11.51651728546503,
          7.042118933667301,
          10.266168426965919,
          14.334765288475817,
          8.449156958606732,
          11.998425884241891,
          9.369122821657259,
          26.46362459983529,
          19.473224987382256,
          12.396696481030522,
          5.3577490153938685,
          6.169460993699705,
          11.41340757022054,
          13.798101076131978,
          5.672102758812044,
          25.508080001806416,
          7.274830366241063,
          6.468018109329207,
          7.674129670969808,
          9.714670813751471,
          5.563711581296729,
          12.762611266058116,
          11.548984175885227,
          8.008118919733711,
          7.276088832711902
         ],
         "y": [
          -4.4196242949895765,
          6.037139768067812,
          1.5656462160064188,
          -4.850009065806638,
          -2.8788613749551417,
          -2.5837020309679555,
          -4.288247713719723,
          -3.762679912692802,
          3.6485377421255083,
          2.446677845521251,
          -1.937047386972908,
          -9.057563394418116,
          -4.114145694502364,
          5.235397228548533,
          -7.679186324118753,
          -1.594554895832125,
          -6.0717657818602335,
          -7.296703520817392,
          -0.7080336358220011,
          -3.4002422743129017,
          3.5362270018752784,
          7.710512579183105,
          -1.037188712718133,
          0.5180770724437362,
          0.6620979579169799,
          -1.2824884235759249,
          0.1054332616418856,
          -1.1720587444323205,
          0.5398859704278768,
          -6.340835247958835,
          -7.660670750365975,
          -5.164590709514223,
          -3.112136950844558,
          -6.660126918057708,
          -7.29703967325471,
          -0.6217727260268598,
          -8.231247877201028,
          -2.501603445487857,
          -2.1636531705898334,
          0.8058621405041163,
          -1.5609105733908772,
          -5.6205587483972765,
          -6.71185786183989,
          -0.09706183292185956,
          -5.877378909613797,
          -5.114502797576171,
          -6.3816458305818315,
          2.8419208777244904,
          0.8567306850385498,
          -6.320045238207666,
          -3.5790675093479876,
          -2.3630787626884557,
          1.7694070179920474,
          5.715794676002629,
          -5.000385904528858,
          0.8126202825062846,
          -7.8992855335501595,
          -8.873727829514868,
          2.0941441734415505,
          0.9970622014439746,
          0.36222465598121006,
          -4.713514621264502,
          -0.35896913833693583,
          -2.0412224269828565,
          0.5348423538979904,
          -5.791084396503205,
          -4.244699302004552,
          1.3828724702284998,
          -6.368987053971862,
          5.177881465990097,
          -6.432558140266143,
          -0.5844867369977648,
          4.567918578226958,
          -6.84942917448936,
          3.098843480705651,
          -9.928833346885298,
          -0.8722569059446387,
          0.35695604404281245,
          2.877855041516489,
          -6.315192486859551,
          3.6623183301241173,
          -4.4816643065129265,
          -1.3053364772753084,
          4.01638695266515,
          -4.843325606977365,
          2.459153094498187,
          1.7553659136096087,
          -0.3487528493141868,
          -3.366425783092526,
          -8.247440272449742,
          -8.677681522240517,
          -1.7714477599134664,
          -3.067412345917228,
          -4.656121377474956,
          -1.1749600407506662,
          0.9871960600369613,
          -3.7968416685210173,
          0.8828693050831533,
          -3.581255097782271,
          -3.250199150548373,
          2.2103027102099486,
          -1.6636470072592566,
          3.6247070365207366,
          -5.972668445557365,
          -6.4336562993267625,
          -5.19033304037155,
          -4.556585447080297,
          -2.828222453667785,
          -1.0948825502786725,
          -7.668738464517807,
          -0.7780156923314409,
          0.36451814432889124,
          -3.601645717439034,
          -0.7664808307243978,
          1.9409829892507908,
          3.1460646684591955,
          -1.9214719083086491,
          -0.8921267320082504,
          -1.9778257960260817,
          0.30966832953404594,
          -2.0376537796136134,
          0.5890657331380437,
          -3.1529798682936945,
          -2.350312481511848,
          3.6740184633389292,
          -1.3423433213066776,
          -3.584322732833393,
          -0.25973290424922085,
          -0.9840676868630124,
          -7.3988776016800415,
          -5.913266569872215,
          -6.763213307662973,
          -6.696187202400668,
          -4.263873191130384,
          -6.69264934805866,
          -8.989089071231934,
          -2.6122050972056305,
          1.714400991805044,
          -6.081817934125393,
          -4.9853361494426744,
          3.0370282438704024,
          3.699418152495563,
          -2.839245008243804,
          -5.558878456673418,
          0.8216055827431257,
          -6.164169454002437,
          -1.9774451508837527,
          0.30658265138467006,
          1.1712865203962635,
          -6.509865524184727,
          -4.502616879706431,
          1.1695711019149833,
          -8.952665709793914,
          -7.051603836229559,
          -5.605954034116605,
          -5.637784442147638,
          -9.093583289559861,
          -0.2891733068100683,
          -3.5739314540916958,
          3.090494434774835,
          -4.46570388466194,
          -5.801999226199587,
          2.7522540151452937,
          -3.433171340051217,
          -5.151154295214807,
          4.794141206443429,
          -2.3861818832047272,
          -3.668834413852661,
          -6.252104650865205,
          -3.0579222797994214,
          -4.1411326081770286,
          4.4273387871094405,
          -9.133552286473872,
          -6.083996145781538,
          -2.9412193838239062,
          -3.5890721061010096,
          -0.4194306646353999,
          -5.817948727893012,
          -1.3043878325555947,
          -3.629380582416438,
          -5.3121046620577985,
          0.2169586681531963,
          0.1683558307856471,
          -0.4976283794739743,
          -1.4542106459042201,
          5.814584943587347,
          6.108770048111306,
          -1.7639463061659113,
          -0.3197918294350976,
          -7.797433877348818,
          0.824793773432318,
          -5.351531149009368,
          0.11145858700653757,
          3.8338520841170336,
          -5.340780304226409,
          -3.908820333889635,
          -8.106329388355377,
          7.855419329474459,
          -1.4763927306891305,
          0.27054240317645467,
          -5.421797094568573,
          -3.423459755513705,
          4.16716944407777,
          1.5536471451888627,
          2.084232705234691,
          -2.2077274652271037,
          -8.000097378903227,
          -1.8794510535385125,
          -3.7371797356221848,
          -4.575260682836109,
          -4.118592281906599,
          -3.499058322692977,
          -5.07894121011055,
          2.1080165678851364,
          1.6104559092087616,
          -1.6751757784179266,
          -4.869663817911977,
          -2.8949060578098913,
          -6.678120286078384,
          3.0894904438504542,
          0.8881455547578553,
          -7.425693734663335,
          0.13426300159238092,
          -6.549875837529902,
          -4.682986560694627,
          -1.4424589018682654,
          -3.6603681978363287,
          -7.215701909875797,
          -4.159923513428119,
          0.8115624485124827,
          4.674199903645461,
          -8.190097839876822,
          -4.817580245886031,
          3.5369651817651793,
          2.1767928348943446,
          -2.1497996480177575,
          3.162708496030405,
          -3.13051713076597,
          -1.0195304468125146
         ],
         "z": [
          2.3693577225605185,
          3.8496728808453686,
          3.7843482063850913,
          -1.3640427660215724,
          1.0509816351885182,
          -4.128099512354757,
          7.355214808103769,
          -0.7039228705429689,
          -0.33591740842585927,
          -0.9876412528507247,
          0.4422561025488745,
          -6.466021428976821,
          -7.312230160086041,
          0.43379658981787156,
          2.644854535057997,
          0.505409671832049,
          -5.275408750118417,
          2.1560832090154847,
          1.4664409702101346,
          1.133757256966898,
          2.1675103533232347,
          2.2624450285924835,
          1.0222338302465959,
          -5.038149338320234,
          2.1369173357228615,
          5.186385258633489,
          2.6259547150272913,
          3.2848481826364857,
          2.380298987727341,
          -5.09864836117048,
          -0.8934171761501875,
          1.5197416452297492,
          -1.1886270813935236,
          -6.458072803267795,
          5.45204285503108,
          -0.3614827833231801,
          7.8756508526530045,
          2.937415537380486,
          -0.2562910273869507,
          -2.2156097666934236,
          -1.8992571375785385,
          -3.0336417925878236,
          -0.43196214032647423,
          -0.6019096803192612,
          4.462711677481696,
          0.3141846428398022,
          -1.1244699744150364,
          -0.3526057666177539,
          3.6301485871519525,
          -2.3977897095136154,
          0.07891771782663688,
          0.33617439573381996,
          1.569859202675622,
          2.5385577172117686,
          -1.3285788775780694,
          -0.49923216612758553,
          -2.7048265294029625,
          -2.438556262763909,
          2.050077109220893,
          -1.7215817635524178,
          2.0265989770503596,
          1.5144641581283482,
          -3.310973547548233,
          -4.656890195286835,
          -1.3733867171385512,
          0.27403931240094337,
          1.5466091121113885,
          5.027870052083173,
          -0.6340039392886865,
          1.395342702293285,
          -1.2041859585366173,
          0.12278184491809009,
          1.3144141087693,
          -4.102487166256417,
          2.634727045296696,
          -6.902882779657152,
          1.4344907631226391,
          2.8381852224912043,
          2.3418167500511657,
          2.241727792725852,
          5.8942669067844395,
          1.7765685759488345,
          -3.626014845642357,
          -0.0035628007042351724,
          2.1928964452451827,
          0.021349618333328317,
          3.310151602625154,
          -1.4724626351552186,
          5.264104420600444,
          1.0457710422782627,
          -3.3924461693652237,
          -1.9028676741587778,
          2.338078125334082,
          0.311972293760531,
          -0.13633818635523817,
          -1.7470561309121695,
          -2.9463211203132866,
          2.3025680266597113,
          -0.5727029512041523,
          4.095770319191923,
          0.5658750786328449,
          -4.947178304774991,
          -1.761733359992982,
          0.8845970263375902,
          4.1908883606968494,
          4.448676506837351,
          -2.0502655128670533,
          -3.8246326988805763,
          0.9693360447259932,
          4.710158617219656,
          0.899897262223616,
          4.151865102849964,
          -0.4815914304848103,
          5.943391308701338,
          2.1286428291153703,
          1.9720054520115706,
          -1.3667104405984838,
          -2.116113710346102,
          -1.468696096622549,
          2.109299499771383,
          -1.705710808710236,
          -2.7990050168496645,
          0.13092620597875188,
          0.6578188449082825,
          2.4728590927585743,
          3.9908880595836296,
          -1.5176253296104163,
          1.568892316237039,
          -1.864584209795334,
          -4.3166282580282775,
          -5.981191471453249,
          1.1543270378767907,
          3.232925976831184,
          -3.740987490801032,
          2.065731446041376,
          2.1680006740034465,
          -0.005551667769279495,
          0.8068832368176333,
          -5.499047444387129,
          2.946625014094831,
          4.660197535575835,
          -0.5309279619325683,
          -0.7254965014953618,
          1.0603117850874921,
          -3.7601648841516355,
          7.600497890434835,
          2.6340280017290825,
          4.40364538538786,
          3.409778309297169,
          -2.26184590671659,
          1.3108442780748504,
          -1.4821419893654193,
          0.5960467813316342,
          2.1743309047848958,
          7.988212612774202,
          0.7909243001645374,
          3.054509381253983,
          -5.936072409545936,
          -4.368770262996835,
          2.47796018338916,
          0.6292009591158516,
          -1.7043282037272447,
          6.261629095892861,
          1.27574244004113,
          -2.782338418289303,
          0.3685580310307068,
          -0.8045827108145043,
          -0.9020686398714511,
          3.2720557617123265,
          1.9235928284750303,
          -0.632357391982931,
          1.2352710320759552,
          -6.614470240063414,
          -6.324132321259497,
          -0.19439329062607813,
          0.10786985154227477,
          -0.9510270961467339,
          -0.21767516606073187,
          1.7771292039227724,
          0.9326717085096544,
          2.8058798964533116,
          1.6608159926434611,
          -0.2912043895144935,
          -1.364721695910274,
          -1.8079640645851245,
          1.7256434715539273,
          5.029362595563832,
          4.044003731186743,
          -4.287757560977181,
          0.5168643952617493,
          -2.634031377097761,
          0.9720083311304402,
          -0.07955104987099984,
          1.4975325693165185,
          1.8701528127431941,
          1.919660559096172,
          -0.8322054704787644,
          5.41877728355314,
          0.7897584865385932,
          -1.4749764520337711,
          -1.840897995737117,
          1.9300666430531441,
          2.367965494870231,
          -0.5547798755658565,
          3.146990106902639,
          -1.0408188968779353,
          2.4589412704928644,
          3.485788364207779,
          5.574810404831943,
          1.3877491862572269,
          -0.9177870034810036,
          -1.9577237905007834,
          -1.46313401106649,
          0.8492127444500693,
          -1.647854910566744,
          0.571306515474924,
          1.006278288188309,
          -2.8134465160748663,
          -1.4553910131134766,
          1.4255393514593113,
          0.8456199041653688,
          0.9196858083105943,
          2.5835421933459872,
          1.2028965963684457,
          -1.5968032475985827,
          -1.7154134390659064,
          -3.2049371875363644,
          -2.0600800828715977,
          -4.157688045157288,
          5.855580601481509,
          -1.4518201890505258,
          -2.245441153755174,
          -0.7950671901415456,
          -0.9785798040696001,
          -3.7540503000566425,
          -0.4152089330030637,
          0.4264449160654465,
          -1.7537371350610633,
          -1.677252776087648
         ]
        },
        {
         "hovertemplate": "cluster_assigned=Ada the explorer<br>Principal component 1=%{x}<br>Principal component 2=%{y}<br>Principal component 3=%{z}<extra></extra>",
         "legendgroup": "Ada the explorer",
         "marker": {
          "color": "#EF553B",
          "opacity": 1,
          "symbol": "circle"
         },
         "mode": "markers",
         "name": "Ada the explorer",
         "scene": "scene",
         "showlegend": true,
         "type": "scatter3d",
         "x": [
          -7.7375566833871,
          -2.571899240054076,
          -11.90293183218795,
          -2.0675626441074524,
          -3.457743906550947,
          -4.922773187484284,
          1.8041331297540992,
          -10.6345423159778,
          -1.1436929525330009,
          -0.7551134305755322,
          2.756255545442456,
          -2.10032219820684,
          -3.2517241114819817,
          -11.567591749742919,
          -5.513643033859731,
          -1.2260948771051157,
          1.9740368926565544,
          -9.893182082731634,
          -5.553263263886688,
          -9.529793541423533,
          -5.317316887061537,
          -8.561993257415043,
          -5.893675204975179,
          -5.33610292498216,
          1.5735583978220855,
          -8.304019927989033,
          1.0649081259565611,
          -7.6452363609568526,
          -3.2510604691426135,
          -5.702971300085965,
          -10.33136197477082,
          4.327159376451306,
          -9.365648103240316,
          -0.2962634078026107,
          -0.7005795892516037,
          -1.158838053838085,
          -6.2947334330817535,
          -10.806070251180678,
          -10.039098367267385,
          -7.125743340374954,
          2.5808312570071115,
          -2.8016994952990335,
          0.025049418861594147,
          -11.306771347214895,
          0.599229204551199,
          -4.420727576185688,
          -5.392186996789033,
          -5.724261083958863,
          -9.553781060039302,
          -8.338366765833886,
          -2.2289279159651567,
          -7.253867015612616,
          2.1334908346862993,
          -0.16916083467826065,
          1.3302181259350425,
          -2.4920838317127108,
          3.683843105275742,
          2.8569181727667945,
          1.6011979906122324,
          -2.4185452586381504,
          -1.4052659988350253,
          -7.8128871456380695,
          0.47172307488738524,
          -1.8301446618430626,
          -9.135614730394984,
          -5.734812436811048,
          -8.614953215066638,
          -5.225772946328604,
          3.9237436281481775,
          -8.758366407121335,
          3.692591479139658,
          2.13199980062921,
          4.7960928109924765,
          2.194681681482808,
          -0.9677046877997874,
          -7.251837145615145,
          -3.509120537899956,
          4.350914528992451,
          -0.29729918093137253,
          1.7659045699808518,
          -0.18061051324739943,
          3.5447241171861172,
          -0.5411515506119655,
          1.6354126644397378,
          -4.038489760358202,
          -0.5134524612704683,
          -3.2883449358379506,
          -3.966238676062305,
          -1.3875300041092904,
          -5.447940305855036,
          -2.659758146904694,
          -2.988030217649541,
          2.620173398073082,
          -5.212123764639877,
          -1.071715875535543,
          -8.490247147073472,
          0.7952697816396963,
          -7.029521506289186,
          -6.829830437117104,
          3.361920888495849,
          2.053604212223277,
          4.046512236377037,
          2.943545530793401,
          -6.268725417507121,
          -4.750797163074221,
          3.4696514474964277,
          0.33581421281845525,
          -3.7507815362191037,
          3.7366929333767374,
          4.079086278435357,
          2.859139947290722,
          1.1156102619476902,
          -4.745462550034239,
          -7.485855138744704,
          -4.98082430571408,
          -6.576765285090529,
          -5.394262114392169,
          -3.473319099195409,
          -3.813938178076874,
          -9.521491806637215,
          -0.1497978702109696,
          2.343073781513293,
          -11.132211045065795,
          -2.612276602133641,
          3.318667036138208,
          0.6385338236674392,
          -5.349404450059113,
          -5.480898713774056,
          -4.256532491059115,
          -6.007223236340844,
          4.1109136647929185,
          -1.8894883895695824,
          -10.964137774135418,
          1.1410033424456723,
          -4.645234366445228,
          1.3058707569224532,
          -3.6183179360427675,
          -7.686567791996005,
          -0.8788652620363244,
          -6.053189880889301,
          -1.45690414577233,
          -8.520621978894104,
          -0.886778821994622,
          -3.722285286421631,
          -0.6969478704959741,
          2.2180614428645478,
          -7.1602727295221635,
          -2.7210693840808946,
          -7.870957935643832,
          -8.154982295864855,
          -6.195367959992488,
          -5.3185703299383675,
          -2.273463482248246,
          -5.78873050806904,
          -4.371926573294211,
          -8.610319225293352,
          -5.682983172106345,
          0.12422228282354461,
          -2.9730071929920427,
          -0.6926987050435389,
          2.128862292236808,
          -0.14674755513380672,
          2.1645007335367623,
          2.4074149000910943,
          -4.950810453347595,
          -3.6309349003768983,
          -9.883700229029186,
          1.8869465183647383,
          -5.496544199736286,
          -1.82223284503787,
          1.9985981096263743,
          -3.936261874510101,
          -1.350486168356898,
          3.045884736584314,
          -6.833538581452452,
          2.030653743628824,
          -1.7627615229679423,
          -7.233725734747076,
          -4.14744796473864,
          0.7592402458382889,
          -7.4092945176780995,
          -7.975733922728064,
          -3.236218153779554,
          0.014417956929155696,
          -0.7114571468416271,
          -5.836836032368162,
          -7.966097910383841,
          2.0122594044134905,
          3.1750410907675137,
          2.4348569919558214,
          -3.1214915508673236,
          -1.5218219402636473,
          3.485074456509522,
          -3.272792861848852,
          -3.4672088804412535,
          -0.45296411581214246,
          -2.5892354964053594,
          -4.2168054751963915,
          -11.928062553165896,
          0.4500050830194983,
          -8.333703043770226,
          2.620747772060457,
          0.2775417688302991,
          -0.3382570420790751,
          4.259867122761425,
          -1.4723812062932566,
          -6.1808786734558785,
          0.4285018155431459,
          -7.323465150575413,
          -7.41327058425636,
          -4.7087401046256785,
          -9.242565970049041,
          -10.489323275339666,
          -3.7519169431495776,
          -0.266630866953526,
          2.6205775767529245,
          -5.15818686938435,
          -2.976452080769007,
          -2.4369265333525387,
          4.351380322915439,
          -6.93874819896957,
          -11.531188858625983,
          1.732056365567745,
          -3.4031860798961793,
          -4.602745753914914,
          -7.1634900486919575,
          -0.9356346413617733,
          -2.662247308197207,
          -8.324735940137794,
          -2.289763448436473,
          -6.581052757085859,
          -7.485584789851732,
          -2.171991528118157,
          -6.5856776966341775,
          -7.766624836260301,
          -7.463019567698141,
          -0.7461589832533632,
          2.2423173324450296,
          2.372780575190374,
          2.3736614251856327,
          -1.2468058523480945,
          -8.726746477403596,
          -1.293273517749903,
          0.49458143574236757,
          -3.644947200652068,
          -8.168741010333843,
          -1.9696376907122548,
          -0.08211905887504546,
          0.39902159563328393,
          0.04865472854516492,
          -5.292031804807729,
          -9.40418145226998,
          -7.933237322088463,
          2.348664077418892,
          -2.5947057853145625,
          1.933255700882577,
          -11.70777064708477,
          1.4227778103163748,
          -9.492169671436642,
          -7.844020696093692,
          -4.170424613085995,
          1.1571822114887222,
          -2.7965505083552356,
          -4.730115579584323,
          -0.8800575104080942,
          -2.2325246816735387,
          -0.1743107039533594,
          -3.290945261286066,
          2.703009998195173,
          0.36827660183401717,
          -6.634671875857911,
          -7.37700069316523,
          -4.568622749966083,
          -5.709539685105746,
          3.3806481161711597,
          0.1853644212545257,
          -9.48422140572231,
          2.5532219954870543,
          -0.828805755451028,
          -5.439886796014965,
          -4.666318488795365,
          -7.8630404326449845,
          -10.747428362628222,
          -3.6758002190483103,
          -5.98896624237674,
          -6.565775235877383,
          -6.862151286853858,
          -0.743010479727433,
          -8.800871402358627,
          -2.861906816388608,
          -6.426394632818282,
          -0.6798420636080074,
          -1.4831299838598315,
          0.6451258704070972,
          -9.00573872463698,
          -2.1871139236402035,
          2.1862919775920515,
          -4.026693659609654,
          0.24694720479286728,
          -8.739221975766252,
          -7.701406830994529,
          -3.043403439421196,
          -9.620822903531376,
          -10.572537634032088,
          1.6851468854494716,
          1.7310164119031146,
          -1.345552597104336,
          -5.547607640334774,
          -0.40766963622941754,
          -8.333261886406522,
          -0.16007816320619608,
          -6.666159260784575,
          -0.23282211699973115,
          -9.945163636109246,
          -11.208856453129167,
          -7.899441383246242,
          -3.0702092554938547,
          -8.384878768963743,
          1.187878881693833,
          -4.483133547451503,
          -6.810237231212252,
          -4.791555991748714,
          1.9235144625324128,
          -9.272648043577053,
          -1.16185486911872,
          0.7337729932506126,
          4.815056275460799,
          -8.883741111038486,
          -7.3264871799894475,
          -1.654347026434149,
          3.0346594717389497,
          -2.7380712934867293,
          -9.987971296638339,
          3.5461501459939626,
          -0.9967183186856985,
          -11.893111750446133,
          -5.390169972993824,
          -5.049144606721215,
          -1.3114400663832984,
          -3.5565044701063653,
          3.123192719688537,
          -8.836725920537983,
          -8.03012266029745,
          3.781329511559952,
          -0.2965407417418345,
          3.515756709598918,
          -0.7360647802846861,
          2.861632792793932,
          1.7906251104540478,
          2.9085310282148376,
          -2.40050785540642,
          -4.0600876103047785,
          2.0814978618237103,
          -3.916870578078875,
          -1.9987645641963248,
          -3.116013922202378,
          -2.910459242265355,
          -5.256927182988761,
          -7.7276814243475584,
          -7.343626531180638,
          -6.517014613943264,
          -2.727525417575351,
          -6.481642794497619,
          0.9053274692172975,
          1.4387808353298954,
          -4.83437845884125,
          3.7019288921016673,
          -9.123265269813237,
          -6.777689292727067,
          0.2212689798251631,
          -2.887910237537477,
          -3.4645153673008755,
          -6.476435513154765,
          -1.3459929389715641,
          -1.9301763852854288,
          -6.373983377036589,
          -5.52646478869273,
          0.7468857936761606,
          -3.1073249590850645,
          -1.5723650885113323,
          -7.200998747612027,
          -8.256032120655892,
          -3.4190198787225,
          1.1592462426766197,
          3.2026690975626666,
          -9.286791973045903,
          -1.2927707747433388,
          -6.966955375928227,
          -1.7569156096034688,
          -7.581225236011228,
          -7.705890598607405,
          -1.8828054802970517,
          -9.238036164010238,
          -8.645125318402437
         ],
         "y": [
          -1.3489144230406034,
          -0.865944051805693,
          -0.8232903406002967,
          -7.58598867958411,
          -1.1026587899119629,
          -0.663095640929094,
          -0.12417965244792557,
          0.3537549144052198,
          2.6507127519322804,
          -5.6828546196847185,
          0.7176884708255409,
          -1.2425823245511685,
          -2.425460882202681,
          4.169888492450963,
          -2.553133442315156,
          0.8102471808416215,
          -4.7687148465847935,
          4.664351414538288,
          -1.7260092145615042,
          -2.0358765341307614,
          -2.257633640417531,
          -0.4801355702066355,
          -2.5614193790092434,
          -0.05452642176676857,
          -3.8862271203748358,
          -0.8079307491759633,
          -7.71882889945715,
          2.8095627172894684,
          0.2992310545589404,
          4.52704760716926,
          1.86283209183305,
          -1.2938713558774875,
          -1.879318074729506,
          1.674679909423091,
          1.8259075176204682,
          -4.456175589944334,
          -2.5572620743956813,
          -4.04894604447483,
          1.4263877581993114,
          3.181633886383776,
          -8.730768781899526,
          -0.1836198415691908,
          -0.4005225437015795,
          -4.088901793639735,
          0.6498964189601162,
          0.10154232955334826,
          0.9007341277583382,
          2.0362910844522437,
          3.845727338207998,
          -3.4603896097709774,
          0.27396706150900724,
          0.9128244339437472,
          -3.0312147636931104,
          2.6750345065459067,
          -0.7237559700013304,
          -1.7286371042988529,
          -1.6433497052113915,
          3.1207649955697114,
          -3.0233885708292845,
          -1.7792753504232879,
          -6.602998502438041,
          -2.022046387216982,
          -3.1796027608779975,
          -0.4484503529829527,
          -2.3695290015030506,
          2.7926304595226483,
          -2.5278370558930643,
          0.1689209851547024,
          1.4585037299739827,
          1.6532694482846182,
          -3.1993303257410606,
          1.0880677522592177,
          0.9950725255884156,
          -0.5516103107413711,
          0.7186391221630808,
          -3.1115327177621337,
          0.22355566156941453,
          0.582687359487792,
          -8.166431291725253,
          2.935637373228313,
          -7.5704312413133055,
          -4.617268393256617,
          -1.9146285429148864,
          -4.006634732861005,
          -7.958886771062465,
          -4.729017232806052,
          -3.168850109035731,
          0.7450448053933472,
          -2.379131767847166,
          -4.00204544434743,
          -1.405013792643958,
          -0.8158797279370926,
          -6.345064863012015,
          0.8500302617665068,
          -0.7173056131258121,
          4.249079779756984,
          2.813803858909632,
          3.7982311701911406,
          -2.144988143869862,
          -7.536625101691923,
          0.9428618174305624,
          2.212390081563233,
          -2.5156702963515185,
          -0.3298762079853231,
          -0.5259987036886578,
          -2.6063262035247123,
          3.411211300739953,
          2.1875570780298523,
          -3.376276789023378,
          1.2726769006653134,
          -2.210499638131086,
          -1.0187325959327647,
          1.461185146308935,
          5.04243538999204,
          -1.0508154858403114,
          -2.7331702812925855,
          0.24427544569233464,
          -5.437799678750319,
          -3.194589602721557,
          3.4416613829842,
          -4.671202252986546,
          -2.4114959606970867,
          0.4276215209941464,
          -6.606652973902123,
          -2.873281600535677,
          2.26145799899996,
          -1.7427149067807177,
          2.307836009670966,
          -7.857058183793827,
          -7.457724268850956,
          -0.8853398130898109,
          5.58403940500905,
          4.112861125432097,
          -3.200913355513927,
          -3.014612640959493,
          -6.313091033637014,
          1.0779986799026726,
          -0.9439104819921476,
          -8.352575009180109,
          -3.8430695203029184,
          -5.6308942412404335,
          -1.2085767416490951,
          -4.514412147384796,
          -0.49909110720717015,
          -6.239011670097726,
          -6.630082779409704,
          -5.286551095810765,
          -3.754130377949707,
          1.59107126451605,
          -2.1002143797729844,
          -6.2852669302602795,
          -0.39052404496708976,
          1.0974353921537587,
          3.8543741263533513,
          -3.9950081934719446,
          2.6338643447242496,
          2.2461352156274557,
          2.4587126683477627,
          -4.211521823805546,
          2.8368476713704838,
          -2.287638514314136,
          -6.123052230311079,
          -3.814181112139571,
          -4.753556718064185,
          1.9191329061195692,
          3.791629245715028,
          2.680704579952356,
          -4.6131344509920105,
          -2.9337974862114753,
          -1.7805447305371456,
          -2.10551130909742,
          -1.0188011140017112,
          -0.7455260104182755,
          -0.017952848450397525,
          2.3438746260149936,
          -6.4006910847572795,
          -4.971550393175838,
          -3.6755642312167414,
          2.441910419125873,
          -6.097173891238721,
          -2.803920343183332,
          0.4389495627398778,
          -6.048813923041918,
          2.8200219643512936,
          -3.790145855991246,
          2.179624423296064,
          2.000736952251497,
          -3.148959069523295,
          -4.07864910946148,
          -0.04334484969258486,
          2.0912463480635757,
          -7.982838693223095,
          -0.6076997900810452,
          -3.675460451093547,
          -0.4723080804396709,
          1.6906644502518615,
          -1.7058222357126474,
          3.6594667803370333,
          -1.1739584072718798,
          0.783301392132361,
          -0.16794190728928268,
          -2.192484985416735,
          0.9789598267846003,
          -6.154005302858507,
          -0.8954513779628724,
          -6.095422913305138,
          4.52897661986225,
          -3.8627611664968584,
          2.5950743808897694,
          4.072489589549953,
          -0.2559119888191473,
          0.447008077171342,
          -5.280145428863006,
          0.8029424417386126,
          -1.3679201175825213,
          2.29481383719449,
          0.5122055035368065,
          1.8503443084875644,
          2.1377298535099394,
          2.342347416605696,
          -7.449442074728961,
          1.785505826633149,
          3.2587584699207484,
          -1.7061491688052846,
          4.1652562473530095,
          2.2284711346216968,
          -3.15654718197388,
          1.823137691596874,
          4.875571486071236,
          -5.330404590378748,
          -0.7788497196267669,
          1.9309572340046655,
          -7.950353217125903,
          -5.180649114831707,
          0.14895027702318417,
          -0.9115501545576883,
          2.110310206556559,
          -1.2505056843042468,
          -6.726391701321581,
          3.1130246832634367,
          -4.95958910164152,
          2.5146450730356387,
          -2.849083197132786,
          -3.931703552045882,
          1.9736124494065637,
          -4.4747945459121645,
          -0.2758254818024646,
          -7.4800915093841915,
          -3.3010912723751242,
          2.9966743458399097,
          -0.16710374565944913,
          -2.429011880772218,
          0.7069434383680655,
          -2.3344984847336425,
          2.3885105006060705,
          -4.743033364810807,
          -1.3281604316346816,
          2.1174784750325637,
          2.726524446369162,
          3.4054475415399637,
          1.678721270927159,
          -4.034308963086176,
          -1.5579659616210286,
          0.12488599844003243,
          -3.9879731551024045,
          -5.241430676953337,
          -1.1579635063809437,
          -5.9681310944590615,
          -1.2467323027557893,
          0.4118970171718172,
          -0.5130079506455006,
          2.742292806681118,
          -2.452161858637585,
          3.485833027184086,
          2.4208288514701044,
          -4.897768345214417,
          3.977753298787672,
          -6.328799971590796,
          2.5247579137100242,
          -6.695512173600295,
          -3.7684828021351056,
          -0.7323301427159212,
          -0.7677339736597765,
          1.9530986356090905,
          0.10858089093843233,
          4.452003756402314,
          4.96861501541209,
          -6.16854832254301,
          4.146814955121418,
          -3.3978851873401905,
          -4.0230464042817236,
          -1.7025438375472275,
          -4.792676081378751,
          -5.762347219282109,
          5.5988532369273605,
          -0.866974342139935,
          -7.368907526854953,
          1.119289799905762,
          4.7057606586685745,
          -0.887035558559203,
          0.18979368687327988,
          0.5231503948252514,
          -2.622397382372973,
          -1.6173801927669347,
          -2.7699482930665784,
          1.1564706185763625,
          -3.6295066125353492,
          -2.763946795897637,
          3.3179222170328395,
          4.5136169666742285,
          -2.1959742802181017,
          -5.153966196465314,
          -4.6319347901425,
          -0.06120926478573523,
          2.465012347968806,
          -2.1015014984697786,
          0.39931381908964764,
          0.45470171303834933,
          -1.2094924996579282,
          1.3038561188482924,
          -0.019009053887940986,
          -7.630403649600208,
          -2.563622460259412,
          -3.797806188682462,
          1.411465073792301,
          0.19023911701974092,
          -3.169476250065095,
          5.576098758515809,
          4.610880890015196,
          -0.745186167427183,
          1.9246246973811785,
          -0.1588031680517301,
          2.5483300666890605,
          -1.321025795149579,
          -6.366619818016253,
          -4.801681173812301,
          -0.3101078540963134,
          2.6858747347162066,
          1.8123779462635365,
          -3.3768291041051453,
          2.351246772393881,
          -7.09421870661329,
          1.3805367928898669,
          -0.8147115753751659,
          -0.01676113736277307,
          0.7720453426555884,
          4.9996185865435345,
          0.7413959290407248,
          0.6193154959509638,
          -6.343845700038121,
          0.3271946764285916,
          -7.5656230540338365,
          0.5176537135911405,
          0.43394589936583783,
          2.17049326277343,
          -4.434805856915604,
          -1.035388105653073,
          -4.718246996627445,
          -4.464553593849363,
          -0.845499001885305,
          0.10659590397075905,
          -5.666242392920737,
          -7.842783511589613,
          -3.437215669168881,
          -2.926772654940123,
          -0.6162495627112021,
          -0.6921832748123229,
          -2.0918040244930323,
          5.238076911110072,
          1.4951014860008638,
          -5.679055017593218,
          -5.278419954533366,
          -1.029416875346348,
          -6.021854381837768,
          2.67055042725645,
          -3.3049312383494036,
          2.947537248262258,
          -2.144838216826191,
          1.763837420593009,
          -7.221495468823594,
          -2.0364477211501373,
          -0.5860603775795987,
          0.14260326572815035,
          -4.570469829278254,
          -3.5176574395342883,
          2.0254776102941197,
          -5.231377685304115,
          4.080746399427117,
          -2.5622586434739234,
          -4.737391723973594,
          -3.979033864490566,
          -0.7292922696865676,
          5.930424859953307,
          4.1247960371082595
         ],
         "z": [
          -0.044510453267018066,
          -2.3725181781937104,
          -8.925027823162743,
          -1.306945493878641,
          1.0313338468181774,
          -8.172893403736571,
          1.9519777978148412,
          -7.827125390043558,
          -4.999494852599956,
          -2.9627893492824375,
          -3.386000227661664,
          1.8335867922368925,
          -2.536733748758953,
          -1.4343778342846236,
          1.7237367749402321,
          -0.42570708428274334,
          0.5418012575811768,
          -1.7568435629820365,
          -0.5346144958283493,
          -1.0498268579372318,
          -2.746488603546849,
          -2.8311089060738817,
          -2.595785202723566,
          -3.9746383211560112,
          -3.873480108145338,
          -13.376342906521291,
          3.5743911769459955,
          -4.912957350817354,
          2.5852502057999724,
          -3.5194965379864476,
          -3.9453462292792776,
          -3.9894709365123764,
          -5.196756553025999,
          -1.7044155444979783,
          2.960413672138208,
          0.5901503590718175,
          -1.6608976298046039,
          -5.446201762905926,
          1.729920735595629,
          -0.17288903097605576,
          0.14617011577249026,
          0.3554935174028992,
          3.455218356107325,
          -4.754624945363197,
          0.17871904727557758,
          -1.0852211415791324,
          -6.8720704889390385,
          -8.098905890123499,
          -7.516944739688793,
          -1.3939729898586135,
          -6.764279366123949,
          -2.155105933246451,
          -3.207753384467677,
          -3.9693694202610725,
          3.6521560734874403,
          -8.032705319110542,
          -1.9108036821306704,
          -4.648139125125098,
          4.219705532961293,
          3.457719276259811,
          -8.440328067108128,
          -2.022466918622541,
          -4.215885672360689,
          -0.60862164580453,
          -6.837574415833427,
          2.4309025794526464,
          -1.1071093276738533,
          2.398847857033209,
          -1.0913282784860472,
          -6.762451331306002,
          -6.056445976383057,
          -2.7967142324020813,
          -2.0417399530155045,
          2.1343537011074747,
          -2.914534923245675,
          0.7274614968824292,
          -1.6095437944712458,
          -0.9602749784835712,
          -1.617087521552107,
          0.5860498652272885,
          -7.245803099127526,
          0.2861600835011612,
          -10.033809471627324,
          1.3489905772720938,
          -14.175865606166404,
          -2.821410620262726,
          1.6801475466684812,
          1.622131923560462,
          -4.186779162119542,
          2.035586637621701,
          -0.8723407341890119,
          -0.8618128522980737,
          3.6707804437895653,
          -2.7498447271606956,
          -3.028723543222386,
          -2.341362926272954,
          -3.675599166739427,
          3.8760384524124096,
          -1.8736206796935484,
          -2.9751688473739613,
          2.905842123899162,
          -2.2473438722655916,
          -3.310016394684697,
          -3.3921012977115117,
          -5.8610398838083855,
          1.2269927794506248,
          -4.310730291466194,
          2.926677418470876,
          -3.10144053808798,
          -0.8846890939140565,
          -2.1994775398999864,
          -0.4145634973596239,
          -4.152210241428246,
          -5.818167523114815,
          -6.393828982150064,
          -0.6070692645149516,
          -3.199073774220431,
          -10.071820862314194,
          -2.490166148944219,
          -5.689827657245804,
          -2.1080322643055376,
          -2.225266407277896,
          -1.2755966277369644,
          -1.775952533147783,
          -4.928938197390948,
          0.26529055482328884,
          3.427724149984834,
          -0.1540054306103801,
          -6.71623050593256,
          -3.955315215982383,
          -2.3188103383362595,
          -6.137508838210685,
          2.0595939502101888,
          -7.321387320021065,
          -2.6920954816143152,
          4.304087473479231,
          -6.232063151316274,
          -0.7586589065540029,
          0.677489228403018,
          -5.034836519470282,
          2.4955833141754624,
          -2.9669216778249154,
          0.3489725082927953,
          -3.5296597032850285,
          3.081642784042067,
          -1.6320774012571952,
          -2.0695686417229604,
          -2.482420895866828,
          3.138128660676557,
          -5.660730173333791,
          -1.7713973650109014,
          -3.1639042107663924,
          -5.528792326091508,
          -0.3535035927824984,
          -6.423499741854137,
          1.6861117526738383,
          0.300157119898446,
          -3.126573700913904,
          -0.14556949946520994,
          -6.7383616690936785,
          1.9355572982246536,
          -0.8205733460691986,
          -5.8687037979822785,
          -6.45806818109962,
          -2.149821193433947,
          -6.064148965934106,
          -9.079308433264481,
          1.0503490064253886,
          0.9560252415125887,
          -7.510399683492387,
          -3.7169081888129005,
          -0.11467438649879338,
          -7.167321833565177,
          2.5686996553429453,
          -8.986194872681725,
          -0.6288244014262871,
          -1.444865150395363,
          -0.4969432969952971,
          -2.282683560704612,
          0.6771900377974003,
          0.06269614816245991,
          -8.531755305793737,
          -2.6939933129620535,
          -3.7797441284793174,
          -0.6233024158640037,
          -4.663173504200145,
          -1.6820252295596263,
          -6.313278010503079,
          1.3340128521046686,
          -3.611784005230352,
          -2.1427019190519627,
          0.22951950335832005,
          0.5347055661458654,
          -6.233323822367575,
          -1.47264776149456,
          0.513959216091623,
          -7.916410500842233,
          -0.6178673125782624,
          -6.603619302323818,
          -2.904964655788413,
          -7.086308046186533,
          -4.906780923920679,
          -2.220345905518801,
          2.7004246704518313,
          -3.701582405576235,
          4.643078775203162,
          -6.314969732432347,
          -1.8364891052977268,
          -2.418659138778761,
          -5.344610107337462,
          -1.1227919438846885,
          -8.846951932985084,
          -8.687478552308136,
          -1.8693704253554724,
          -0.07914577026090654,
          -0.37357943312411324,
          -4.817699128142566,
          -3.19704786478529,
          -3.1584259319491452,
          -2.302295680195324,
          -6.456751338620532,
          -7.070022063034063,
          -0.0961647656518021,
          3.102558037407094,
          -3.9905226011500154,
          -1.303547056368818,
          -5.337280103988673,
          -3.023100703899912,
          -7.2794186292365675,
          -1.1585072973285833,
          -1.9952419260543628,
          1.6087432682475007,
          -1.5437873093044563,
          -0.4710551522322763,
          -3.5850833379231393,
          -2.6563253440737453,
          -3.265844471677735,
          -5.59223311916802,
          -8.129457331949048,
          -4.3829986082612304,
          -5.792399300876741,
          -6.410785707219313,
          -8.75777714360456,
          -3.0849525858554614,
          -3.0092803881363626,
          -2.237482060261518,
          3.194169305653632,
          -5.718225967981551,
          -2.302827853335962,
          -4.472334283885097,
          4.04083707081121,
          -0.7107398614077934,
          -8.391239110149204,
          -0.3946915951236983,
          -3.9569896585299484,
          -3.406758301628393,
          -13.213635868410824,
          -2.7207986811858684,
          1.616569897962284,
          -4.117108000465531,
          -7.902860709293274,
          0.5944488443684568,
          -1.3552821707926523,
          1.5949553718728584,
          -0.9926605065201574,
          -5.114972655154795,
          -0.4656427001855445,
          -0.7337971765210604,
          -3.840534231214709,
          -1.3248480505542692,
          -9.208948559814193,
          2.049401492184995,
          -13.936491845425136,
          -5.768078113727405,
          -2.7285382190161327,
          -1.3504690519508478,
          -0.039157435512686384,
          -3.437506260978187,
          -2.86684537269649,
          -2.689815705599913,
          -4.182191091798011,
          -2.3281750359931843,
          -15.255969895597035,
          -5.0606503719185465,
          -4.668039346121434,
          1.9669695432998566,
          -3.0423015223873024,
          4.405223807421197,
          -3.576049379584927,
          -0.2911402351063887,
          0.25434643235076154,
          0.6477082519927962,
          -2.6180871930790337,
          1.9029472280065078,
          -5.811727181920173,
          -7.534804948156615,
          -3.479085232584358,
          -8.342454451191154,
          -3.8008665290263055,
          -1.7818618497529641,
          -0.0826842309492495,
          -4.817155865342884,
          -5.586878631175429,
          -5.078713763108691,
          -1.8120523149208474,
          -0.5505992008539641,
          -2.33910390303488,
          -3.7839121609600523,
          -2.8907954147910404,
          -5.6870225468172375,
          -1.7951747450947524,
          -3.748465957461417,
          -6.2131073584228655,
          -7.553764559956187,
          -5.13277146325432,
          -5.956537689841317,
          3.531178467095827,
          -0.9760017996946897,
          -2.4838863863981726,
          1.8279450337838163,
          -4.23872895862072,
          -1.687238767039028,
          -1.5177245190548254,
          -4.6608913591792795,
          0.5619653337277667,
          -2.5624756238440196,
          -6.362299602373678,
          -4.819802595691386,
          -1.8207458373038787,
          -5.779194966395803,
          0.10123921702828403,
          -6.386314381845649,
          -6.430745980051366,
          2.1316378029733554,
          -2.4688642979619866,
          -11.00545843707914,
          -2.9366303091504906,
          -0.1133247349924395,
          -2.932560129886143,
          -1.608128576546367,
          -3.067878265840137,
          -5.180538999018754,
          2.1193065568411273,
          -0.29331230741735864,
          1.3617278822917713,
          -4.809318155856898,
          -3.6482717562263143,
          0.5063884417441343,
          -2.2027210099492125,
          3.7422794280968357,
          -6.783289853155616,
          -2.701202216647376,
          -4.485307994670723,
          1.0265007426736465,
          3.618661956653757,
          -6.255417978731673,
          -5.097397525538231,
          -3.1560236558580437,
          -4.457011213747331,
          -0.31834536763112864,
          -3.9958714387032055,
          -4.144032807253289,
          -2.4547943697205903,
          1.6635559064595802,
          0.5821244315307943,
          -5.636427364087505,
          -5.281351289219606,
          -1.4118916537533395,
          -2.3043336536731522,
          -4.529026170510092,
          2.0284139624605415,
          -1.4466330691786116,
          -6.035389830081972,
          1.5296699449376703,
          1.5499945779381097,
          0.10298579219574956,
          -6.151882765140682,
          -1.5997605336166207,
          -4.714201359660554,
          0.4030246859540596,
          -3.3623188824016186,
          0.8797115630792287,
          7.100966254788314,
          0.49935954058898946,
          -0.48937481052387954,
          -2.71791122536621,
          -0.02605424298976133,
          -1.741433629067872,
          -4.893088138049865,
          -2.1806782289567876,
          -6.0927617594631815,
          -7.832358713725838,
          -4.24226187635198,
          -6.71807056626286
         ]
        },
        {
         "hovertemplate": "cluster_assigned=Marcel Stout<br>Principal component 1=%{x}<br>Principal component 2=%{y}<br>Principal component 3=%{z}<extra></extra>",
         "legendgroup": "Marcel Stout",
         "marker": {
          "color": "#00cc96",
          "opacity": 1,
          "symbol": "circle"
         },
         "mode": "markers",
         "name": "Marcel Stout",
         "scene": "scene",
         "showlegend": true,
         "type": "scatter3d",
         "x": [
          -4.207539188505441,
          2.207724399787558,
          -4.999619452473317,
          -9.491068588476972,
          -8.425593968128007,
          2.9194127319840617,
          5.707495668560153,
          6.894211970243066,
          6.682332866532926,
          -11.109025211537885,
          0.178238226548841,
          -5.206676010913875,
          -1.4185946064538566,
          2.8259233532895545,
          -2.368019031954852,
          2.7987697910422633,
          -8.01141462950843,
          -2.336328190207166,
          4.377862621622643,
          2.261467220925799,
          6.403504773217886,
          5.438890411387458,
          -5.374549502938518,
          3.9691862474952657,
          1.4269339801302554,
          -10.721928520554679,
          -5.808355677472892,
          -3.9545471996357917,
          -7.847696487010542,
          1.2775427168143119,
          -4.108274534327733,
          8.722884248778957,
          -2.4616193704808444,
          -9.217946598676887,
          -2.0247821628884584,
          5.519667157571697,
          -4.593619456831394,
          -10.752285276738057,
          -1.3991430998651035,
          2.8075809829100757,
          6.136377478529513,
          1.1808895418711538,
          -0.18086315576137363,
          -5.103985492974324,
          8.036860165047957,
          7.744059688393618,
          3.5348659420123245,
          1.0327484774662907,
          -5.791028402293724,
          5.352875973445122,
          5.452264106654576,
          -2.591662416789204,
          -8.570642984278727,
          3.8616431672193086,
          -6.664666027575993,
          3.5430616228652685,
          1.6216164404753446,
          -6.067965873524385,
          -2.7207427941045967,
          -8.716986542493856,
          -3.5788252104219755,
          -9.45067534620986,
          0.7200325249812557,
          8.1428476730218,
          -7.296479382656916,
          6.538917065294858,
          4.637168559137125,
          5.518377716745107,
          -2.7326580864463033,
          1.1573035667424643,
          -1.8906014418012707,
          1.3377006964497857,
          3.8538094969418535,
          -3.7461908415093883,
          3.7186419914599202,
          -5.100258151890022,
          -1.0901585654938308,
          -8.397727890734357,
          -10.2799713715106,
          1.5018205596888612,
          3.745089562683322,
          -2.8957924783505518,
          11.90757590816078,
          4.529640869867761,
          1.0764064119555012,
          2.975725067176389,
          -3.054482579977708,
          0.8226132327751023,
          -0.2812969609175188,
          -1.9602901420380399,
          6.979194081908862,
          3.8813212248858022,
          2.84607464209697,
          4.646861570902543,
          -0.9828593541022383,
          -4.53751341122675,
          -3.372374596920977,
          -4.148478166795251,
          -3.3066468399395443,
          3.0070564490120657,
          0.7056927315353418,
          8.854839904270518,
          -2.546506910725574,
          2.4136465220253966,
          1.6379268348702798,
          -3.6434957927782397,
          4.583844375956668,
          -9.165210995269412,
          1.1623732095796286,
          8.001512302302604,
          3.440414097060542,
          4.5078101365818215,
          8.923386187333351,
          7.546029652284904,
          7.512920215575976,
          7.637262339428075,
          -2.3334343702728373,
          0.738066851757546,
          8.64464707492709,
          -5.075255613537423,
          4.733587178405651,
          -4.277476840572334,
          4.662371038263887,
          -6.840165365405435,
          3.4916069568139276,
          0.796973302577003,
          3.944565677732164,
          6.777357618404365,
          -9.605862202104184,
          2.617737771358802,
          0.5191932605886175,
          -3.570841611654023,
          -9.771775621432928,
          -11.158886273426718,
          -2.9696191999799484,
          -9.30440648044043,
          -5.467553144299902,
          -5.525312091574459,
          -9.786270064223729,
          5.790773286625902,
          0.011463727575211422,
          -9.546904250835981,
          9.912243314572946,
          6.687831890421714,
          -5.392459324164122,
          -9.968729089918247,
          3.57827811646111,
          -2.21812911068544,
          -0.6850325580100992,
          -2.4480921800824262,
          4.235230965742383,
          -0.41192463560346704,
          2.3706976353667075,
          -9.396760618827546,
          3.560299587418572,
          12.731294025938213,
          8.594247473380939,
          0.9450339725063964,
          -8.767123256016907,
          -2.7095785906632566,
          -9.274694478470565,
          -0.9547514302040254,
          -6.12766336368603,
          1.9957031045075329,
          0.8681188968868543,
          -10.97627846078578,
          -0.9047751077408492,
          -9.069443563461517,
          2.310927331845558,
          3.069242438824682,
          -2.4863156814035574,
          -2.8685677449334817,
          -2.4658282780932472,
          2.5921436937243705,
          1.8130121800440142,
          -10.64404368380045,
          4.188661904084936,
          -8.755271824397303,
          -6.238777880272533,
          3.2184316216591813,
          -7.071599903518131,
          1.253849592096006,
          0.01779111245965778,
          1.5881919361079222,
          -8.835708447409717,
          -4.548924393683181,
          -7.259493011999365,
          0.7332729317170559,
          0.6620750880916612,
          -3.32162217943377,
          7.122297660565844,
          -5.811981925142353,
          5.502829476792197,
          1.5348166908527783,
          -1.8158356769788422,
          -4.8876829754710265
         ],
         "y": [
          13.70814137986538,
          17.676583475707197,
          12.987881143945145,
          15.550769778126725,
          9.19037684128021,
          10.197919055702139,
          11.107262386906495,
          7.0821801585832995,
          7.801706395852521,
          11.18055158153132,
          6.669500934491268,
          11.555173616603808,
          11.974498451052643,
          16.760492269242548,
          5.5887193045524,
          5.797242486488572,
          16.419876022192508,
          4.827341413132684,
          8.201541344096363,
          4.474870086240981,
          9.367946040557758,
          6.137368023687501,
          9.676169157375021,
          10.32796842524215,
          5.050054241795003,
          5.961983985428137,
          6.014624436149381,
          6.864176813105152,
          7.628821545187369,
          4.911547482972656,
          4.895154206226402,
          11.53008172405346,
          7.597603321160075,
          5.96426791000084,
          8.107877333230304,
          3.760242009226179,
          20.173890332149508,
          12.184342302414397,
          6.332238380006991,
          12.289986150570462,
          12.265599116657743,
          4.148542869698977,
          12.106546297665663,
          11.486002322845595,
          5.979932039844085,
          13.8637251056243,
          3.163924222748542,
          4.15867502891292,
          8.53033093039003,
          3.196156047807158,
          7.60115207424898,
          5.708710906709953,
          10.456965929724156,
          4.968355802843789,
          18.35797151989315,
          9.632596792401586,
          9.578047480947005,
          15.92334101039726,
          5.871567979157937,
          13.269010488442555,
          10.223699066135225,
          18.137848504602115,
          6.359522365930815,
          7.69803429266905,
          10.99154124015021,
          11.561284679163796,
          5.883411880289109,
          6.849073553698393,
          5.747766690895969,
          5.304384757414815,
          5.232692253356316,
          8.666486966217102,
          11.265695069395077,
          6.713054455561388,
          13.574388379214533,
          6.521773280342194,
          4.958123843861277,
          17.05501157894442,
          13.660683653902524,
          7.416371997110825,
          7.915026565160911,
          20.864479862299454,
          11.376964725378873,
          3.7370307361100563,
          18.08311389471113,
          2.9450657674033187,
          9.01283764794322,
          10.490807522810679,
          7.199558876286486,
          6.82929479844696,
          10.924605607382826,
          3.552393485021955,
          2.43888296517852,
          9.051500928500278,
          10.403783495377043,
          20.090595706222288,
          19.831411638614448,
          8.136577063496867,
          11.18907918842266,
          6.529985000267745,
          3.165435058076728,
          10.86600335282948,
          6.236040267565489,
          1.7345704402305702,
          12.85482007338608,
          7.2902992475635875,
          7.949293766204388,
          15.779060636715382,
          3.5519737642631277,
          12.83783239430101,
          9.046024721740855,
          6.454323295763033,
          17.480786807401984,
          8.592453392648517,
          5.787030430097566,
          7.926232260631859,
          5.72803846260779,
          4.361527161406928,
          11.40160846386686,
          15.087001371344938,
          6.054350359169276,
          6.715896327157183,
          8.638175089357627,
          20.425576991124736,
          9.500911883016098,
          5.238805789975323,
          1.7906693231569693,
          8.269686618668976,
          15.58371251950638,
          8.591010333751742,
          12.824042827305083,
          5.512068039652549,
          10.001074821555203,
          7.8394826504422195,
          15.682625585119592,
          33.78769815762657,
          7.634927907837528,
          10.524245934495056,
          14.446375544084223,
          14.34246514894038,
          3.9362513023014425,
          12.138401965604846,
          15.140034596499946,
          5.263072133008144,
          7.050177983357084,
          17.42517253379026,
          4.132915803903649,
          10.710726736482561,
          6.146455935528951,
          5.852069199513668,
          6.2316559151516335,
          6.553432753732729,
          6.5186460816589555,
          9.958357049401267,
          5.1907324130282495,
          11.534694154152898,
          8.650729041756902,
          7.240204760288493,
          8.601326955839982,
          6.7038381767700175,
          17.601170717511547,
          5.834367794903404,
          9.830370694449638,
          6.466434182148692,
          7.745422875176039,
          12.518050875784235,
          16.78757438723858,
          17.572028416224803,
          13.041264821343624,
          5.349640401383271,
          11.781112919657506,
          19.444292720493966,
          13.029399910811364,
          12.289143280807885,
          4.9060699092032465,
          11.682935119037209,
          4.868177931857214,
          9.810078414767117,
          19.417182907197585,
          9.781891634671178,
          8.151951157009394,
          7.121122023276061,
          6.465860117870044,
          5.7580490933423,
          7.936108984176324,
          15.272095982995442,
          16.64872280668422,
          5.01270721104244,
          6.449984236246499,
          6.511317744349899,
          7.596231835527698,
          13.027897547117368,
          4.336049329376102,
          10.431169947471261,
          22.635735947107296,
          6.73275752644312
         ],
         "z": [
          0.2883414427036231,
          6.848432230908578,
          -0.49532244756261884,
          1.1632497820695122,
          -2.5792944911891027,
          1.4945772144826754,
          1.3640967980245637,
          2.3330220705448372,
          1.5790768720483188,
          -9.412521641877092,
          1.7737455375423752,
          -0.8773203785974963,
          1.435114941635747,
          9.389439569139148,
          -2.2039522459179754,
          1.6350928598039998,
          0.9005394867965772,
          3.0451213835440356,
          1.3191249076549276,
          0.9630374225096406,
          4.102143818493499,
          -0.27731286412804546,
          -1.9931319287731202,
          1.596197691968462,
          -1.5976201290429164,
          3.936001602353035,
          0.6773477583114461,
          1.1440050620580606,
          -4.7175682897771845,
          -0.5438954620339627,
          -0.1653876022140024,
          3.7336244310216813,
          0.10853253311450224,
          1.2103027027243358,
          3.5791075671631902,
          1.1870131768673398,
          7.753963201062918,
          3.6058745019663316,
          0.7001468622962984,
          3.719425186248346,
          5.345105929335766,
          -0.6139754370902504,
          2.3307464214655225,
          1.5832258701447026,
          1.3232051413068335,
          5.590969874893715,
          -0.11735726879434882,
          2.5226676256524767,
          6.339895673305504,
          0.9089505372723099,
          3.735368702272595,
          1.1479420687580049,
          0.16582218890448638,
          -0.4855205502558932,
          1.664151447071082,
          1.2433795353348625,
          -1.3751689983505206,
          1.0125686508495915,
          0.8452267379554448,
          -0.9458639873041266,
          0.5175293613503524,
          7.432685731951579,
          -0.03569977012084338,
          1.5921680700609628,
          -3.021599539748907,
          4.601838861553005,
          -1.054748575851934,
          2.0054988886447664,
          -0.6046918220333499,
          0.10954901893523179,
          -1.3186828799640151,
          4.731880014359716,
          1.9270517103537168,
          1.042764675243294,
          1.9020624068452185,
          -1.8950055923419002,
          2.600047760052382,
          5.852064251388177,
          1.8206004514121874,
          0.15386455365673898,
          -1.1093797778149024,
          6.590249622803681,
          6.7058358233177096,
          0.9872935886368621,
          5.4924081728410306,
          1.827013647399256,
          1.0948671043473113,
          -0.7821225189117652,
          -1.2567154593008631,
          -4.48884024260372,
          3.0581520954820363,
          2.8921286002223057,
          3.8851371740646052,
          -0.0016689986108013816,
          2.2620154966221824,
          6.027336604259635,
          5.418376314039558,
          -2.197960372272451,
          1.9208474275270229,
          1.3022614654330922,
          2.1540273469420486,
          6.218330518060884,
          1.1512851622279856,
          4.887383996929294,
          0.9299950752923141,
          -2.8706198463331667,
          3.4274565500069745,
          2.3321675451044257,
          1.0731867688519159,
          4.6385438536306145,
          4.312060249727131,
          1.6569865815530938,
          8.0288147215651,
          1.9294188168255397,
          1.5771785837091057,
          4.165948842441807,
          -0.6042291571703949,
          -0.9120666583666006,
          3.5504374909352476,
          0.5776437409005161,
          -0.16488739057260177,
          -1.5329679787647348,
          1.879566341062435,
          2.7432349157470832,
          5.779893440163117,
          3.3211675403314955,
          2.0006976029152406,
          2.8947691316713664,
          1.3301901326868033,
          0.6085488510082726,
          -1.0709945490357822,
          -2.231906488467728,
          -3.5617655440775864,
          -3.4467425040986326,
          0.41029286269206156,
          11.96619998951751,
          -1.8420238719864828,
          1.3084118371769589,
          5.465517964842813,
          6.636405594298381,
          3.1843283233374513,
          0.2140117155863509,
          7.774814064482138,
          1.0606509087576517,
          -4.83291875998795,
          9.325957976283812,
          -0.4328486715812719,
          0.005621287368224438,
          -5.858710226665858,
          3.926784308102441,
          4.262038966596397,
          -0.8969837352101355,
          -2.1902562996167694,
          -0.03174354465094518,
          0.09615277715591505,
          6.3512300558947,
          4.113890472481408,
          4.062377358178352,
          -0.07448867181924906,
          -0.7856899117754276,
          2.420500458977138,
          -2.3758651531429202,
          -2.820472885159302,
          -1.676580058091409,
          0.7893361806616982,
          -0.6060437061145421,
          5.596585309780689,
          2.8980855298977133,
          4.620847815056656,
          -1.0639947461650197,
          5.132508658057463,
          5.2560601897663135,
          0.5826016932982955,
          4.391576758786339,
          1.0220415696950984,
          0.011745656464478383,
          0.6781104445151438,
          3.475925549255949,
          0.04725322061623324,
          5.637310055210445,
          -1.068329774655331,
          -2.3315057599100104,
          2.4942197051973998,
          0.748682216128942,
          -3.915870620712282,
          3.162663136747959,
          1.7901341906856996,
          -0.021303210749172116,
          0.5400417100289774,
          -3.266681772439263,
          5.684134447136139,
          -2.444573760585305,
          1.9468109732887435,
          2.3398112471148083,
          9.681982594897,
          -0.8641439958489515
         ]
        },
        {
         "hovertemplate": "cluster_assigned=James Bland<br>Principal component 1=%{x}<br>Principal component 2=%{y}<br>Principal component 3=%{z}<extra></extra>",
         "legendgroup": "James Bland",
         "marker": {
          "color": "#ab63fa",
          "opacity": 1,
          "symbol": "circle"
         },
         "mode": "markers",
         "name": "James Bland",
         "scene": "scene",
         "showlegend": true,
         "type": "scatter3d",
         "x": [
          -12.735692404617016,
          -13.415750427105959,
          -13.30323031738599,
          -10.165204121606441,
          -10.253875651032262,
          -8.503089503813172,
          -12.757943952939508,
          -9.500389008825012,
          -11.681824429757038,
          -2.354740374658341,
          -10.177135764267147,
          -16.702038964221508,
          -11.943125055528785,
          -11.108787385873883,
          -12.935142852589255,
          -9.684668812201211,
          -9.088363673562336,
          -11.351109192276251,
          -8.140017535269333,
          -12.744736302142579,
          -2.930641460812084,
          -9.731922695028658,
          -14.560695174905877,
          -13.074727932641803,
          -10.780431662049677,
          -1.936915226843033,
          -9.134341811859452,
          -3.755599710006139,
          -11.372252622101474,
          -9.52232415808581,
          -10.685342798385943,
          -13.718593319167839,
          -10.366815103069225,
          -16.003483307611187,
          -10.310727541931257,
          -16.96369092607974,
          -3.742206664122942,
          -3.010344707951191,
          -4.7181378012444615,
          -3.3887331758971135,
          -11.785671164222904,
          -7.969155449057983,
          -13.95681828192385,
          -14.591240187656984,
          -17.25037696739532,
          -16.737007986409285,
          -11.282279877668113,
          -5.01344779627303,
          -10.552877482718753,
          -11.683558453620982,
          -10.24973722834309,
          -9.439977537927234,
          -13.958229542439229,
          -9.468041832645877,
          -9.033948061692763,
          -9.759485243459721,
          -5.40770764780953,
          -13.378563220219137,
          -10.48193802672039,
          -5.517320726225197,
          -6.907447810194889,
          -10.888221478123251,
          -5.196173335835463,
          -12.773971501796655,
          -6.575619720885845,
          -7.732762347848956,
          -10.644902769182668,
          -11.25542204325559,
          -12.397056936274218,
          -10.521329603441712,
          -8.689077607952683,
          -12.773032999409798,
          -10.947224270878015,
          -12.646146300310686,
          -8.767104301207508,
          -9.438599932483582,
          -6.161608732407196,
          -14.72666508102332,
          -11.568195335391872,
          -11.894013248982066,
          -11.31101043459891,
          -11.803118975796137,
          -13.870602474165537,
          -6.088120385536067,
          -11.698187182691168,
          -10.70769327922225,
          -10.777019008677065,
          -6.497467119373802,
          -12.949532566767386,
          -15.005677310279866,
          -10.125552859386758,
          -10.86187304894339,
          -3.0334350216596806,
          -13.159990418448222,
          -12.965467432178174,
          -11.954336628730523,
          -13.637594782579818,
          -8.203713647860843,
          -12.240540759429145,
          -8.679762028421992,
          -8.452660985506727,
          -10.95260022640514,
          -9.0450583596552,
          -5.450590764269421,
          -14.159350076711021,
          -15.54306420668392,
          -10.400681191389074,
          -12.375840192227495,
          -10.062899196806535,
          -11.463112653038019,
          -8.322982496154514,
          -10.782796267029774,
          -13.621399587321134,
          -12.99626018013048,
          -14.11234285037162,
          -6.347506190418232,
          -14.472610314399185,
          -10.07928692580125,
          -13.280140892927745,
          -6.898001663804106,
          -11.166264809863275,
          -9.009322356162604,
          -2.189400728220057,
          -13.467934082822948,
          -14.778977892441686,
          -9.884173699187196,
          -9.077242913959331,
          -16.448628785926687,
          -9.691422110331155,
          -12.396111736191473,
          -11.218824625050097,
          -13.507149693242235,
          -9.042672959695132,
          -7.691730895125346,
          -5.4831100727898585,
          -14.830866606909861,
          -14.816071328105219,
          -11.435422608190269,
          -8.495565605377601,
          -11.324645909593258,
          -9.665809533796498
         ],
         "y": [
          -2.8327538057078683,
          -7.827705197233135,
          -2.208351527337528,
          -5.583422859342543,
          -8.409818469362095,
          -5.978993009778097,
          -8.503557104687893,
          -12.961830518244422,
          -8.445587082570423,
          -8.961864590161726,
          -5.32111195250967,
          -12.897927489662164,
          -5.335929967161704,
          -2.150178603316201,
          -5.660194126988139,
          -4.577932680772013,
          -3.684016861606542,
          -5.195519656874906,
          -1.7085640842223162,
          -4.759397038265893,
          -1.88215312991237,
          -9.438747102743939,
          -9.70442168711286,
          -9.251136223530183,
          -6.808242292241665,
          -7.783552263694221,
          -3.281786034467425,
          -11.325161478390271,
          -3.1627062099026,
          -0.546348731338701,
          3.927237563034813,
          -7.906591660059575,
          -13.209771214019673,
          -14.890881659555086,
          -3.971186628581925,
          -11.690193860629774,
          -4.664752570825715,
          -8.859241043969972,
          -0.6598667208584876,
          -1.1186531156259998,
          -7.870940882847883,
          -8.785449678985794,
          -10.455393613806814,
          -8.613367320391342,
          -15.227712908327764,
          -14.950009783552575,
          -6.533072955281143,
          -8.031704974746388,
          -8.329755744004592,
          -11.944900970439836,
          -7.770467476561185,
          -4.23936498647311,
          -7.872972379818772,
          -8.2343994248411,
          -1.169461838333901,
          -9.430497591632243,
          -11.066753421287595,
          -10.833357757611408,
          -2.962895457295117,
          -7.108028536429456,
          -5.067891461573217,
          0.6335422480634356,
          -9.477589275094617,
          -8.501536300224547,
          -8.034538665507277,
          -8.321675657036758,
          -4.2049279769648376,
          -10.793330118792955,
          -1.8472501368352534,
          -3.2246694468671753,
          -11.924026930637417,
          -2.6866455342453524,
          -2.4474655602332653,
          -5.025347494800482,
          -2.451413691600437,
          -1.9156224417696561,
          -7.575748348044688,
          -14.38386921011061,
          -7.345764810054667,
          0.6304822710884092,
          -0.31247075114130257,
          0.914080557720872,
          -7.150800704024208,
          -4.178897096033137,
          -7.232694036649213,
          -6.546377202220217,
          -5.1422842357042935,
          -5.455710997751018,
          0.847252035095507,
          -9.852351546006494,
          -3.0462783770249833,
          -10.214874117912341,
          -9.869093511767188,
          -10.16441981677917,
          -6.841295848557436,
          -3.3455103735515443,
          -6.988120859097138,
          -7.279560422175079,
          0.8311167935095041,
          -7.813191433046101,
          -14.96128129059976,
          -3.1995209648830207,
          -5.489034770928475,
          -5.157244942815574,
          -8.767415326257561,
          -12.91109806132626,
          -7.278511198777306,
          -5.755814951006491,
          -0.9989639731480608,
          -7.133725636103952,
          -4.139522799441174,
          2.3593263643753395,
          -9.703651117435218,
          -6.158351859903924,
          -9.03911416983,
          -6.353788341871656,
          -12.295225722650022,
          -5.45050751548288,
          -3.8592448176349747,
          -6.1468391139454805,
          -6.487960752817378,
          -6.569359996327165,
          -8.294290104466917,
          -4.036520848743968,
          -13.404649630904718,
          -9.042220600408692,
          -11.021713519815307,
          -16.451589792594984,
          -2.898806589771849,
          -9.850110476808117,
          -7.487800679601173,
          -6.8931503131498255,
          -4.965697499470158,
          -8.217198560254761,
          -4.395754566145979,
          -7.989577428824554,
          -12.769995964112324,
          -5.04010281524881,
          1.4107756383785028,
          -3.6375029788120408,
          4.286279573366883
         ],
         "z": [
          2.184219196762875,
          2.442147785137042,
          9.6313260561756,
          -0.46675252829652575,
          -0.12121829095944342,
          -0.6838988650789231,
          7.372357524743324,
          9.366765882680358,
          8.169079918519351,
          3.4644942483201473,
          0.5511243831317391,
          12.716702529735905,
          6.209440713908216,
          8.362779149669668,
          0.5978172378806331,
          -1.8784977517400432,
          2.4193323028477898,
          4.092264936265721,
          5.788865607274727,
          -2.690871520404991,
          6.360523753420619,
          -3.2077100385513595,
          9.07000992460358,
          8.412600449081799,
          9.713877687386951,
          7.538299732772373,
          3.668461873665783,
          3.1679098301361086,
          -2.2623196626467315,
          1.271280113303974,
          4.195363319452403,
          6.885043469035791,
          3.088810171343522,
          19.854260540408937,
          0.24189278831260955,
          12.562910497871647,
          4.2409823378278695,
          7.211893436823484,
          11.29313601550281,
          10.684497222327918,
          -1.1232844854090247,
          3.2130557929628005,
          4.0719234260478,
          11.572790543616618,
          19.849957910260233,
          17.399346808200626,
          2.0456045008646657,
          6.006115932427018,
          2.1555449576774333,
          10.37060449135038,
          -1.9896235993386104,
          -0.8127698010575188,
          7.094084922789354,
          6.260526696036633,
          1.9846720138588319,
          -4.668173625208258,
          4.593541518096128,
          9.189956288906044,
          0.9622361666303652,
          5.71246858361261,
          2.9810419952503455,
          1.2744741145303349,
          0.5700798914085929,
          12.941900250872859,
          5.254097035606096,
          10.670836965627759,
          0.3270134544823415,
          -0.7008167230176351,
          -1.8596919533038268,
          1.322990215015776,
          12.209094146139725,
          6.825106700525302,
          1.8651723224057066,
          -3.7631719366087424,
          1.524631242793934,
          2.963287201262762,
          1.4324879676219238,
          12.967656855202934,
          0.5384740584160246,
          1.1380970023440902,
          2.759532010540333,
          4.855157049521678,
          3.4567527353005323,
          4.41692133987348,
          -3.131929305920601,
          1.890703899278975,
          -0.5368225685552648,
          1.3591171276192093,
          3.417752775238637,
          8.12003270184171,
          2.405190018127739,
          7.894350023143236,
          1.9075461537726273,
          11.04402827070004,
          8.514459314527103,
          0.9082450947057185,
          7.881188541274797,
          0.31557659378683156,
          1.698916141659917,
          -1.467264492418695,
          8.905727889288887,
          2.67515929231919,
          2.2480937197136157,
          5.1500216635549245,
          10.898079434809539,
          19.07998742170989,
          -0.1325338044389419,
          6.8984903638878725,
          0.32243252490648505,
          0.8818726662398594,
          3.5527461384063095,
          3.054111761208477,
          7.330823412745225,
          4.202856831144656,
          11.913034727710087,
          7.000403520069248,
          8.573211465685599,
          5.50892555994742,
          -0.782642259026464,
          3.1775199236624516,
          0.9924550562944955,
          5.053096011670606,
          2.744854922384373,
          6.314101344868864,
          13.113287963108116,
          8.645224079501709,
          4.3434574685742655,
          15.638338976528312,
          0.5001688633046704,
          1.0408510034071679,
          -1.0285102818656935,
          5.325497617843209,
          1.675018068060464,
          -3.148259209238873,
          3.7183731819356263,
          6.664805198056087,
          11.07379827279874,
          -2.0912136854827943,
          3.744205657290596,
          -1.3300695271256788,
          5.76576937639266
         ]
        }
       ],
       "layout": {
        "height": 600,
        "legend": {
         "title": {
          "text": "cluster_assigned"
         },
         "tracegroupgap": 0
        },
        "scene": {
         "domain": {
          "x": [
           0,
           1
          ],
          "y": [
           0,
           1
          ]
         },
         "xaxis": {
          "title": {
           "text": "Principal component 1"
          }
         },
         "yaxis": {
          "title": {
           "text": "Principal component 2"
          }
         },
         "zaxis": {
          "title": {
           "text": "Principal component 3"
          }
         }
        },
        "template": {
         "data": {
          "bar": [
           {
            "error_x": {
             "color": "#2a3f5f"
            },
            "error_y": {
             "color": "#2a3f5f"
            },
            "marker": {
             "line": {
              "color": "#E5ECF6",
              "width": 0.5
             },
             "pattern": {
              "fillmode": "overlay",
              "size": 10,
              "solidity": 0.2
             }
            },
            "type": "bar"
           }
          ],
          "barpolar": [
           {
            "marker": {
             "line": {
              "color": "#E5ECF6",
              "width": 0.5
             },
             "pattern": {
              "fillmode": "overlay",
              "size": 10,
              "solidity": 0.2
             }
            },
            "type": "barpolar"
           }
          ],
          "carpet": [
           {
            "aaxis": {
             "endlinecolor": "#2a3f5f",
             "gridcolor": "white",
             "linecolor": "white",
             "minorgridcolor": "white",
             "startlinecolor": "#2a3f5f"
            },
            "baxis": {
             "endlinecolor": "#2a3f5f",
             "gridcolor": "white",
             "linecolor": "white",
             "minorgridcolor": "white",
             "startlinecolor": "#2a3f5f"
            },
            "type": "carpet"
           }
          ],
          "choropleth": [
           {
            "colorbar": {
             "outlinewidth": 0,
             "ticks": ""
            },
            "type": "choropleth"
           }
          ],
          "contour": [
           {
            "colorbar": {
             "outlinewidth": 0,
             "ticks": ""
            },
            "colorscale": [
             [
              0,
              "#0d0887"
             ],
             [
              0.1111111111111111,
              "#46039f"
             ],
             [
              0.2222222222222222,
              "#7201a8"
             ],
             [
              0.3333333333333333,
              "#9c179e"
             ],
             [
              0.4444444444444444,
              "#bd3786"
             ],
             [
              0.5555555555555556,
              "#d8576b"
             ],
             [
              0.6666666666666666,
              "#ed7953"
             ],
             [
              0.7777777777777778,
              "#fb9f3a"
             ],
             [
              0.8888888888888888,
              "#fdca26"
             ],
             [
              1,
              "#f0f921"
             ]
            ],
            "type": "contour"
           }
          ],
          "contourcarpet": [
           {
            "colorbar": {
             "outlinewidth": 0,
             "ticks": ""
            },
            "type": "contourcarpet"
           }
          ],
          "heatmap": [
           {
            "colorbar": {
             "outlinewidth": 0,
             "ticks": ""
            },
            "colorscale": [
             [
              0,
              "#0d0887"
             ],
             [
              0.1111111111111111,
              "#46039f"
             ],
             [
              0.2222222222222222,
              "#7201a8"
             ],
             [
              0.3333333333333333,
              "#9c179e"
             ],
             [
              0.4444444444444444,
              "#bd3786"
             ],
             [
              0.5555555555555556,
              "#d8576b"
             ],
             [
              0.6666666666666666,
              "#ed7953"
             ],
             [
              0.7777777777777778,
              "#fb9f3a"
             ],
             [
              0.8888888888888888,
              "#fdca26"
             ],
             [
              1,
              "#f0f921"
             ]
            ],
            "type": "heatmap"
           }
          ],
          "heatmapgl": [
           {
            "colorbar": {
             "outlinewidth": 0,
             "ticks": ""
            },
            "colorscale": [
             [
              0,
              "#0d0887"
             ],
             [
              0.1111111111111111,
              "#46039f"
             ],
             [
              0.2222222222222222,
              "#7201a8"
             ],
             [
              0.3333333333333333,
              "#9c179e"
             ],
             [
              0.4444444444444444,
              "#bd3786"
             ],
             [
              0.5555555555555556,
              "#d8576b"
             ],
             [
              0.6666666666666666,
              "#ed7953"
             ],
             [
              0.7777777777777778,
              "#fb9f3a"
             ],
             [
              0.8888888888888888,
              "#fdca26"
             ],
             [
              1,
              "#f0f921"
             ]
            ],
            "type": "heatmapgl"
           }
          ],
          "histogram": [
           {
            "marker": {
             "pattern": {
              "fillmode": "overlay",
              "size": 10,
              "solidity": 0.2
             }
            },
            "type": "histogram"
           }
          ],
          "histogram2d": [
           {
            "colorbar": {
             "outlinewidth": 0,
             "ticks": ""
            },
            "colorscale": [
             [
              0,
              "#0d0887"
             ],
             [
              0.1111111111111111,
              "#46039f"
             ],
             [
              0.2222222222222222,
              "#7201a8"
             ],
             [
              0.3333333333333333,
              "#9c179e"
             ],
             [
              0.4444444444444444,
              "#bd3786"
             ],
             [
              0.5555555555555556,
              "#d8576b"
             ],
             [
              0.6666666666666666,
              "#ed7953"
             ],
             [
              0.7777777777777778,
              "#fb9f3a"
             ],
             [
              0.8888888888888888,
              "#fdca26"
             ],
             [
              1,
              "#f0f921"
             ]
            ],
            "type": "histogram2d"
           }
          ],
          "histogram2dcontour": [
           {
            "colorbar": {
             "outlinewidth": 0,
             "ticks": ""
            },
            "colorscale": [
             [
              0,
              "#0d0887"
             ],
             [
              0.1111111111111111,
              "#46039f"
             ],
             [
              0.2222222222222222,
              "#7201a8"
             ],
             [
              0.3333333333333333,
              "#9c179e"
             ],
             [
              0.4444444444444444,
              "#bd3786"
             ],
             [
              0.5555555555555556,
              "#d8576b"
             ],
             [
              0.6666666666666666,
              "#ed7953"
             ],
             [
              0.7777777777777778,
              "#fb9f3a"
             ],
             [
              0.8888888888888888,
              "#fdca26"
             ],
             [
              1,
              "#f0f921"
             ]
            ],
            "type": "histogram2dcontour"
           }
          ],
          "mesh3d": [
           {
            "colorbar": {
             "outlinewidth": 0,
             "ticks": ""
            },
            "type": "mesh3d"
           }
          ],
          "parcoords": [
           {
            "line": {
             "colorbar": {
              "outlinewidth": 0,
              "ticks": ""
             }
            },
            "type": "parcoords"
           }
          ],
          "pie": [
           {
            "automargin": true,
            "type": "pie"
           }
          ],
          "scatter": [
           {
            "marker": {
             "colorbar": {
              "outlinewidth": 0,
              "ticks": ""
             }
            },
            "type": "scatter"
           }
          ],
          "scatter3d": [
           {
            "line": {
             "colorbar": {
              "outlinewidth": 0,
              "ticks": ""
             }
            },
            "marker": {
             "colorbar": {
              "outlinewidth": 0,
              "ticks": ""
             }
            },
            "type": "scatter3d"
           }
          ],
          "scattercarpet": [
           {
            "marker": {
             "colorbar": {
              "outlinewidth": 0,
              "ticks": ""
             }
            },
            "type": "scattercarpet"
           }
          ],
          "scattergeo": [
           {
            "marker": {
             "colorbar": {
              "outlinewidth": 0,
              "ticks": ""
             }
            },
            "type": "scattergeo"
           }
          ],
          "scattergl": [
           {
            "marker": {
             "colorbar": {
              "outlinewidth": 0,
              "ticks": ""
             }
            },
            "type": "scattergl"
           }
          ],
          "scattermapbox": [
           {
            "marker": {
             "colorbar": {
              "outlinewidth": 0,
              "ticks": ""
             }
            },
            "type": "scattermapbox"
           }
          ],
          "scatterpolar": [
           {
            "marker": {
             "colorbar": {
              "outlinewidth": 0,
              "ticks": ""
             }
            },
            "type": "scatterpolar"
           }
          ],
          "scatterpolargl": [
           {
            "marker": {
             "colorbar": {
              "outlinewidth": 0,
              "ticks": ""
             }
            },
            "type": "scatterpolargl"
           }
          ],
          "scatterternary": [
           {
            "marker": {
             "colorbar": {
              "outlinewidth": 0,
              "ticks": ""
             }
            },
            "type": "scatterternary"
           }
          ],
          "surface": [
           {
            "colorbar": {
             "outlinewidth": 0,
             "ticks": ""
            },
            "colorscale": [
             [
              0,
              "#0d0887"
             ],
             [
              0.1111111111111111,
              "#46039f"
             ],
             [
              0.2222222222222222,
              "#7201a8"
             ],
             [
              0.3333333333333333,
              "#9c179e"
             ],
             [
              0.4444444444444444,
              "#bd3786"
             ],
             [
              0.5555555555555556,
              "#d8576b"
             ],
             [
              0.6666666666666666,
              "#ed7953"
             ],
             [
              0.7777777777777778,
              "#fb9f3a"
             ],
             [
              0.8888888888888888,
              "#fdca26"
             ],
             [
              1,
              "#f0f921"
             ]
            ],
            "type": "surface"
           }
          ],
          "table": [
           {
            "cells": {
             "fill": {
              "color": "#EBF0F8"
             },
             "line": {
              "color": "white"
             }
            },
            "header": {
             "fill": {
              "color": "#C8D4E3"
             },
             "line": {
              "color": "white"
             }
            },
            "type": "table"
           }
          ]
         },
         "layout": {
          "annotationdefaults": {
           "arrowcolor": "#2a3f5f",
           "arrowhead": 0,
           "arrowwidth": 1
          },
          "autotypenumbers": "strict",
          "coloraxis": {
           "colorbar": {
            "outlinewidth": 0,
            "ticks": ""
           }
          },
          "colorscale": {
           "diverging": [
            [
             0,
             "#8e0152"
            ],
            [
             0.1,
             "#c51b7d"
            ],
            [
             0.2,
             "#de77ae"
            ],
            [
             0.3,
             "#f1b6da"
            ],
            [
             0.4,
             "#fde0ef"
            ],
            [
             0.5,
             "#f7f7f7"
            ],
            [
             0.6,
             "#e6f5d0"
            ],
            [
             0.7,
             "#b8e186"
            ],
            [
             0.8,
             "#7fbc41"
            ],
            [
             0.9,
             "#4d9221"
            ],
            [
             1,
             "#276419"
            ]
           ],
           "sequential": [
            [
             0,
             "#0d0887"
            ],
            [
             0.1111111111111111,
             "#46039f"
            ],
            [
             0.2222222222222222,
             "#7201a8"
            ],
            [
             0.3333333333333333,
             "#9c179e"
            ],
            [
             0.4444444444444444,
             "#bd3786"
            ],
            [
             0.5555555555555556,
             "#d8576b"
            ],
            [
             0.6666666666666666,
             "#ed7953"
            ],
            [
             0.7777777777777778,
             "#fb9f3a"
            ],
            [
             0.8888888888888888,
             "#fdca26"
            ],
            [
             1,
             "#f0f921"
            ]
           ],
           "sequentialminus": [
            [
             0,
             "#0d0887"
            ],
            [
             0.1111111111111111,
             "#46039f"
            ],
            [
             0.2222222222222222,
             "#7201a8"
            ],
            [
             0.3333333333333333,
             "#9c179e"
            ],
            [
             0.4444444444444444,
             "#bd3786"
            ],
            [
             0.5555555555555556,
             "#d8576b"
            ],
            [
             0.6666666666666666,
             "#ed7953"
            ],
            [
             0.7777777777777778,
             "#fb9f3a"
            ],
            [
             0.8888888888888888,
             "#fdca26"
            ],
            [
             1,
             "#f0f921"
            ]
           ]
          },
          "colorway": [
           "#636efa",
           "#EF553B",
           "#00cc96",
           "#ab63fa",
           "#FFA15A",
           "#19d3f3",
           "#FF6692",
           "#B6E880",
           "#FF97FF",
           "#FECB52"
          ],
          "font": {
           "color": "#2a3f5f"
          },
          "geo": {
           "bgcolor": "white",
           "lakecolor": "white",
           "landcolor": "#E5ECF6",
           "showlakes": true,
           "showland": true,
           "subunitcolor": "white"
          },
          "hoverlabel": {
           "align": "left"
          },
          "hovermode": "closest",
          "mapbox": {
           "style": "light"
          },
          "paper_bgcolor": "white",
          "plot_bgcolor": "#E5ECF6",
          "polar": {
           "angularaxis": {
            "gridcolor": "white",
            "linecolor": "white",
            "ticks": ""
           },
           "bgcolor": "#E5ECF6",
           "radialaxis": {
            "gridcolor": "white",
            "linecolor": "white",
            "ticks": ""
           }
          },
          "scene": {
           "xaxis": {
            "backgroundcolor": "#E5ECF6",
            "gridcolor": "white",
            "gridwidth": 2,
            "linecolor": "white",
            "showbackground": true,
            "ticks": "",
            "zerolinecolor": "white"
           },
           "yaxis": {
            "backgroundcolor": "#E5ECF6",
            "gridcolor": "white",
            "gridwidth": 2,
            "linecolor": "white",
            "showbackground": true,
            "ticks": "",
            "zerolinecolor": "white"
           },
           "zaxis": {
            "backgroundcolor": "#E5ECF6",
            "gridcolor": "white",
            "gridwidth": 2,
            "linecolor": "white",
            "showbackground": true,
            "ticks": "",
            "zerolinecolor": "white"
           }
          },
          "shapedefaults": {
           "line": {
            "color": "#2a3f5f"
           }
          },
          "ternary": {
           "aaxis": {
            "gridcolor": "white",
            "linecolor": "white",
            "ticks": ""
           },
           "baxis": {
            "gridcolor": "white",
            "linecolor": "white",
            "ticks": ""
           },
           "bgcolor": "#E5ECF6",
           "caxis": {
            "gridcolor": "white",
            "linecolor": "white",
            "ticks": ""
           }
          },
          "title": {
           "x": 0.05
          },
          "xaxis": {
           "automargin": true,
           "gridcolor": "white",
           "linecolor": "white",
           "ticks": "",
           "title": {
            "standoff": 15
           },
           "zerolinecolor": "white",
           "zerolinewidth": 2
          },
          "yaxis": {
           "automargin": true,
           "gridcolor": "white",
           "linecolor": "white",
           "ticks": "",
           "title": {
            "standoff": 15
           },
           "zerolinecolor": "white",
           "zerolinewidth": 2
          }
         }
        },
        "title": {
         "text": "PCA projection of the 15 categories into the 3 Principal components"
        },
        "width": 1000
       }
      }
     },
     "metadata": {},
     "output_type": "display_data"
    }
   ],
   "source": [
    "User_modify_3\n",
    "fig = px.scatter_3d(User_modify_3, x='Principal component 1', y='Principal component 2', z='Principal component 3',opacity =1,\n",
    "             color='cluster_assigned' ,size_max =50,width=1000, height=600,title ='PCA projection of the 15 categories into the 3 Principal components')\n",
    "\n",
    "fig.show()\n",
    "fig.write_html(\"cluster_3dvisual.html\")"
   ]
  },
  {
   "cell_type": "code",
   "execution_count": 76,
   "metadata": {},
   "outputs": [
    {
     "name": "stdout",
     "output_type": "stream",
     "text": [
      "the variance explained by the 3 first principal components are [0.43681178 0.23533086] (respectively)\n"
     ]
    }
   ],
   "source": [
    "pca_2 = PCA(n_components=2)\n",
    "User_modify_2=pca_2.fit_transform(user_to_cat_first[user_to_cat_first.columns[0:15]].values)\n",
    "print('the variance explained by the 3 first principal components are',pca_2.explained_variance_ratio_,'(respectively)')"
   ]
  },
  {
   "cell_type": "code",
   "execution_count": 77,
   "metadata": {},
   "outputs": [
    {
     "data": {
      "application/vnd.plotly.v1+json": {
       "config": {
        "plotlyServerURL": "https://plot.ly"
       },
       "data": [
        {
         "hovertemplate": "cluster_assigned=Jean-Michel IPA<br>Principal component 1=%{x}<br>Principal component 2=%{y}<extra></extra>",
         "legendgroup": "Jean-Michel IPA",
         "marker": {
          "color": "#636efa",
          "opacity": 1,
          "symbol": "circle"
         },
         "mode": "markers",
         "name": "Jean-Michel IPA",
         "orientation": "v",
         "showlegend": true,
         "type": "scatter",
         "x": [
          18.047276169860353,
          10.698707118801465,
          14.366790129848129,
          20.334697631944486,
          9.356338086926222,
          8.655288284378207,
          17.714445207108415,
          10.114679357966974,
          6.166280684933822,
          6.049096061744319,
          5.619845248214926,
          16.794430858121345,
          5.880583384181597,
          7.746876683720713,
          17.979240833091087,
          5.559710538729005,
          12.155158095921239,
          18.463781073077623,
          6.756809284146388,
          4.993708102097275,
          10.447766152807041,
          9.700576988143549,
          9.250369570867853,
          5.754947036215763,
          9.211511351055288,
          7.644808928253203,
          18.14529645382722,
          14.768102300707136,
          9.11651263467763,
          10.396799336856706,
          7.047082740086003,
          11.146230280565096,
          12.246415856391835,
          12.764338947228422,
          32.0789358159394,
          7.270213654492027,
          18.276545196061825,
          19.884660426721098,
          5.000696446611756,
          12.27235231207901,
          8.26244507203081,
          9.896878109726618,
          21.070378396914982,
          15.972147270584781,
          20.456229515370516,
          20.255598058387136,
          13.776698137894254,
          10.736991760682901,
          8.111119486968517,
          16.397341062902537,
          19.369566194167405,
          10.131086914063875,
          7.610984816417251,
          15.291477556894458,
          10.049474956660054,
          10.327794021594313,
          5.492021985048899,
          23.50917002305488,
          18.557040565637543,
          7.549733008426675,
          9.631558200042134,
          12.57818646039731,
          5.429657729166773,
          6.330504665279938,
          7.282159983027055,
          13.462803512722877,
          16.814518246698317,
          20.13186866717842,
          18.0478813869215,
          11.717122973987461,
          17.909659677945378,
          10.131227130283287,
          9.89493691448236,
          4.992422539121834,
          12.266345747542607,
          17.814147609529385,
          7.469127577148805,
          20.75046107856577,
          8.692064414758706,
          21.774714044683922,
          20.540249782396337,
          25.383199411977994,
          5.3039652384034826,
          9.524267037670606,
          23.923063465660203,
          6.155714527311323,
          15.545831616321015,
          5.027143894005602,
          17.80540210052906,
          20.383439282805174,
          11.670074987791985,
          8.624719548670488,
          12.632790311190702,
          4.289739125229629,
          11.326783367737583,
          5.541612259348233,
          4.74132672943292,
          17.791674213340265,
          5.603051621695678,
          17.826270717924068,
          6.047573655349517,
          10.423781960784295,
          9.393921124331372,
          16.778985429708637,
          11.814816124894476,
          8.757688972022162,
          11.322101292736239,
          10.33955562075284,
          13.068839751520143,
          7.184598718627502,
          4.96691063347631,
          15.135939049772773,
          5.923413144620769,
          14.667616564811029,
          4.380975177321809,
          5.579575113512346,
          16.357066846448408,
          11.332177060359108,
          8.409127058409743,
          16.183649655090356,
          12.174955562729817,
          5.474570285312117,
          6.550778670606065,
          20.4738434496877,
          8.158876770537425,
          4.972612655100532,
          12.810224841998485,
          15.249717258906085,
          6.201974470562039,
          17.553534952770182,
          5.322809886506837,
          15.446298687821546,
          22.64820159367919,
          9.417237858139059,
          16.4600974129954,
          5.999759114723309,
          20.566690484733705,
          13.652685008815192,
          13.610179176149359,
          5.810049436747731,
          19.57172791797597,
          8.60309613742498,
          6.650455286722629,
          7.157152372634929,
          5.473909391539586,
          3.8542338797324884,
          13.248608228805056,
          17.454389164472676,
          15.213920988711541,
          14.158880377430314,
          11.75714046388212,
          8.315347226356753,
          7.929130848695183,
          12.961627445621879,
          9.330939082333252,
          8.086439741047087,
          15.662894895312398,
          5.5930860111540115,
          5.936984097752016,
          12.657457656817728,
          21.567359748243135,
          20.504348157925843,
          9.820986956420619,
          17.042322964966893,
          17.709823521202587,
          9.309570785273014,
          6.865011335217482,
          10.922984850142285,
          26.106979445975618,
          20.261294623512555,
          6.74004146840449,
          8.31767718919612,
          7.216827933749095,
          11.131402922054267,
          8.8337671577908,
          11.972114412453154,
          7.294330374024478,
          10.481421305083112,
          6.5743704114709915,
          13.020617025840236,
          27.16199014708959,
          16.379661543563405,
          9.127093022898153,
          11.679198157637751,
          5.252138261443035,
          7.624436541881545,
          10.547284858385003,
          14.048072328864832,
          6.7374541230912675,
          18.01540816197628,
          8.067643033823977,
          16.214820955390007,
          7.993716913678658,
          11.768667554731854,
          19.97345595048518,
          14.840546548547776,
          7.0838903155050295,
          16.527281207669237,
          9.001236947756896,
          10.402157705031952,
          7.323500440805227,
          5.285556017795185,
          8.407581831494982,
          6.918279095037621,
          14.076560141805793,
          9.097284143895319,
          15.568022034040844,
          22.251716444497596,
          12.234276295298727,
          19.4994291893297,
          12.153765222546152,
          6.648390838400472,
          15.176727549551167,
          8.435280335189796,
          11.51651728546503,
          7.042118933667301,
          10.266168426965919,
          14.334765288475817,
          8.449156958606732,
          11.998425884241891,
          9.369122821657259,
          26.46362459983529,
          19.473224987382256,
          12.396696481030522,
          5.3577490153938685,
          6.169460993699705,
          11.41340757022054,
          13.798101076131978,
          5.672102758812044,
          25.508080001806416,
          7.274830366241063,
          6.468018109329207,
          7.674129670969808,
          9.714670813751471,
          5.563711581296729,
          12.762611266058116,
          11.548984175885227,
          8.008118919733711,
          7.276088832711902
         ],
         "xaxis": "x",
         "y": [
          -4.4196242949895765,
          6.037139768067812,
          1.5656462160064188,
          -4.850009065806638,
          -2.8788613749551417,
          -2.5837020309679555,
          -4.288247713719723,
          -3.762679912692802,
          3.6485377421255083,
          2.446677845521251,
          -1.937047386972908,
          -9.057563394418116,
          -4.114145694502364,
          5.235397228548533,
          -7.679186324118753,
          -1.594554895832125,
          -6.0717657818602335,
          -7.296703520817392,
          -0.7080336358220011,
          -3.4002422743129017,
          3.5362270018752784,
          7.710512579183105,
          -1.037188712718133,
          0.5180770724437362,
          0.6620979579169799,
          -1.2824884235759249,
          0.1054332616418856,
          -1.1720587444323205,
          0.5398859704278768,
          -6.340835247958835,
          -7.660670750365975,
          -5.164590709514223,
          -3.112136950844558,
          -6.660126918057708,
          -7.29703967325471,
          -0.6217727260268598,
          -8.231247877201028,
          -2.501603445487857,
          -2.1636531705898334,
          0.8058621405041163,
          -1.5609105733908772,
          -5.6205587483972765,
          -6.71185786183989,
          -0.09706183292185956,
          -5.877378909613797,
          -5.114502797576171,
          -6.3816458305818315,
          2.8419208777244904,
          0.8567306850385498,
          -6.320045238207666,
          -3.5790675093479876,
          -2.3630787626884557,
          1.7694070179920474,
          5.715794676002629,
          -5.000385904528858,
          0.8126202825062846,
          -7.8992855335501595,
          -8.873727829514868,
          2.0941441734415505,
          0.9970622014439746,
          0.36222465598121006,
          -4.713514621264502,
          -0.35896913833693583,
          -2.0412224269828565,
          0.5348423538979904,
          -5.791084396503205,
          -4.244699302004552,
          1.3828724702284998,
          -6.368987053971862,
          5.177881465990097,
          -6.432558140266143,
          -0.5844867369977648,
          4.567918578226958,
          -6.84942917448936,
          3.098843480705651,
          -9.928833346885298,
          -0.8722569059446387,
          0.35695604404281245,
          2.877855041516489,
          -6.315192486859551,
          3.6623183301241173,
          -4.4816643065129265,
          -1.3053364772753084,
          4.01638695266515,
          -4.843325606977365,
          2.459153094498187,
          1.7553659136096087,
          -0.3487528493141868,
          -3.366425783092526,
          -8.247440272449742,
          -8.677681522240517,
          -1.7714477599134664,
          -3.067412345917228,
          -4.656121377474956,
          -1.1749600407506662,
          0.9871960600369613,
          -3.7968416685210173,
          0.8828693050831533,
          -3.581255097782271,
          -3.250199150548373,
          2.2103027102099486,
          -1.6636470072592566,
          3.6247070365207366,
          -5.972668445557365,
          -6.4336562993267625,
          -5.19033304037155,
          -4.556585447080297,
          -2.828222453667785,
          -1.0948825502786725,
          -7.668738464517807,
          -0.7780156923314409,
          0.36451814432889124,
          -3.601645717439034,
          -0.7664808307243978,
          1.9409829892507908,
          3.1460646684591955,
          -1.9214719083086491,
          -0.8921267320082504,
          -1.9778257960260817,
          0.30966832953404594,
          -2.0376537796136134,
          0.5890657331380437,
          -3.1529798682936945,
          -2.350312481511848,
          3.6740184633389292,
          -1.3423433213066776,
          -3.584322732833393,
          -0.25973290424922085,
          -0.9840676868630124,
          -7.3988776016800415,
          -5.913266569872215,
          -6.763213307662973,
          -6.696187202400668,
          -4.263873191130384,
          -6.69264934805866,
          -8.989089071231934,
          -2.6122050972056305,
          1.714400991805044,
          -6.081817934125393,
          -4.9853361494426744,
          3.0370282438704024,
          3.699418152495563,
          -2.839245008243804,
          -5.558878456673418,
          0.8216055827431257,
          -6.164169454002437,
          -1.9774451508837527,
          0.30658265138467006,
          1.1712865203962635,
          -6.509865524184727,
          -4.502616879706431,
          1.1695711019149833,
          -8.952665709793914,
          -7.051603836229559,
          -5.605954034116605,
          -5.637784442147638,
          -9.093583289559861,
          -0.2891733068100683,
          -3.5739314540916958,
          3.090494434774835,
          -4.46570388466194,
          -5.801999226199587,
          2.7522540151452937,
          -3.433171340051217,
          -5.151154295214807,
          4.794141206443429,
          -2.3861818832047272,
          -3.668834413852661,
          -6.252104650865205,
          -3.0579222797994214,
          -4.1411326081770286,
          4.4273387871094405,
          -9.133552286473872,
          -6.083996145781538,
          -2.9412193838239062,
          -3.5890721061010096,
          -0.4194306646353999,
          -5.817948727893012,
          -1.3043878325555947,
          -3.629380582416438,
          -5.3121046620577985,
          0.2169586681531963,
          0.1683558307856471,
          -0.4976283794739743,
          -1.4542106459042201,
          5.814584943587347,
          6.108770048111306,
          -1.7639463061659113,
          -0.3197918294350976,
          -7.797433877348818,
          0.824793773432318,
          -5.351531149009368,
          0.11145858700653757,
          3.8338520841170336,
          -5.340780304226409,
          -3.908820333889635,
          -8.106329388355377,
          7.855419329474459,
          -1.4763927306891305,
          0.27054240317645467,
          -5.421797094568573,
          -3.423459755513705,
          4.16716944407777,
          1.5536471451888627,
          2.084232705234691,
          -2.2077274652271037,
          -8.000097378903227,
          -1.8794510535385125,
          -3.7371797356221848,
          -4.575260682836109,
          -4.118592281906599,
          -3.499058322692977,
          -5.07894121011055,
          2.1080165678851364,
          1.6104559092087616,
          -1.6751757784179266,
          -4.869663817911977,
          -2.8949060578098913,
          -6.678120286078384,
          3.0894904438504542,
          0.8881455547578553,
          -7.425693734663335,
          0.13426300159238092,
          -6.549875837529902,
          -4.682986560694627,
          -1.4424589018682654,
          -3.6603681978363287,
          -7.215701909875797,
          -4.159923513428119,
          0.8115624485124827,
          4.674199903645461,
          -8.190097839876822,
          -4.817580245886031,
          3.5369651817651793,
          2.1767928348943446,
          -2.1497996480177575,
          3.162708496030405,
          -3.13051713076597,
          -1.0195304468125146
         ],
         "yaxis": "y"
        },
        {
         "hovertemplate": "cluster_assigned=Ada the explorer<br>Principal component 1=%{x}<br>Principal component 2=%{y}<extra></extra>",
         "legendgroup": "Ada the explorer",
         "marker": {
          "color": "#EF553B",
          "opacity": 1,
          "symbol": "circle"
         },
         "mode": "markers",
         "name": "Ada the explorer",
         "orientation": "v",
         "showlegend": true,
         "type": "scatter",
         "x": [
          -7.7375566833871,
          -2.571899240054076,
          -11.90293183218795,
          -2.0675626441074524,
          -3.457743906550947,
          -4.922773187484284,
          1.8041331297540992,
          -10.6345423159778,
          -1.1436929525330009,
          -0.7551134305755322,
          2.756255545442456,
          -2.10032219820684,
          -3.2517241114819817,
          -11.567591749742919,
          -5.513643033859731,
          -1.2260948771051157,
          1.9740368926565544,
          -9.893182082731634,
          -5.553263263886688,
          -9.529793541423533,
          -5.317316887061537,
          -8.561993257415043,
          -5.893675204975179,
          -5.33610292498216,
          1.5735583978220855,
          -8.304019927989033,
          1.0649081259565611,
          -7.6452363609568526,
          -3.2510604691426135,
          -5.702971300085965,
          -10.33136197477082,
          4.327159376451306,
          -9.365648103240316,
          -0.2962634078026107,
          -0.7005795892516037,
          -1.158838053838085,
          -6.2947334330817535,
          -10.806070251180678,
          -10.039098367267385,
          -7.125743340374954,
          2.5808312570071115,
          -2.8016994952990335,
          0.025049418861594147,
          -11.306771347214895,
          0.599229204551199,
          -4.420727576185688,
          -5.392186996789033,
          -5.724261083958863,
          -9.553781060039302,
          -8.338366765833886,
          -2.2289279159651567,
          -7.253867015612616,
          2.1334908346862993,
          -0.16916083467826065,
          1.3302181259350425,
          -2.4920838317127108,
          3.683843105275742,
          2.8569181727667945,
          1.6011979906122324,
          -2.4185452586381504,
          -1.4052659988350253,
          -7.8128871456380695,
          0.47172307488738524,
          -1.8301446618430626,
          -9.135614730394984,
          -5.734812436811048,
          -8.614953215066638,
          -5.225772946328604,
          3.9237436281481775,
          -8.758366407121335,
          3.692591479139658,
          2.13199980062921,
          4.7960928109924765,
          2.194681681482808,
          -0.9677046877997874,
          -7.251837145615145,
          -3.509120537899956,
          4.350914528992451,
          -0.29729918093137253,
          1.7659045699808518,
          -0.18061051324739943,
          3.5447241171861172,
          -0.5411515506119655,
          1.6354126644397378,
          -4.038489760358202,
          -0.5134524612704683,
          -3.2883449358379506,
          -3.966238676062305,
          -1.3875300041092904,
          -5.447940305855036,
          -2.659758146904694,
          -2.988030217649541,
          2.620173398073082,
          -5.212123764639877,
          -1.071715875535543,
          -8.490247147073472,
          0.7952697816396963,
          -7.029521506289186,
          -6.829830437117104,
          3.361920888495849,
          2.053604212223277,
          4.046512236377037,
          2.943545530793401,
          -6.268725417507121,
          -4.750797163074221,
          3.4696514474964277,
          0.33581421281845525,
          -3.7507815362191037,
          3.7366929333767374,
          4.079086278435357,
          2.859139947290722,
          1.1156102619476902,
          -4.745462550034239,
          -7.485855138744704,
          -4.98082430571408,
          -6.576765285090529,
          -5.394262114392169,
          -3.473319099195409,
          -3.813938178076874,
          -9.521491806637215,
          -0.1497978702109696,
          2.343073781513293,
          -11.132211045065795,
          -2.612276602133641,
          3.318667036138208,
          0.6385338236674392,
          -5.349404450059113,
          -5.480898713774056,
          -4.256532491059115,
          -6.007223236340844,
          4.1109136647929185,
          -1.8894883895695824,
          -10.964137774135418,
          1.1410033424456723,
          -4.645234366445228,
          1.3058707569224532,
          -3.6183179360427675,
          -7.686567791996005,
          -0.8788652620363244,
          -6.053189880889301,
          -1.45690414577233,
          -8.520621978894104,
          -0.886778821994622,
          -3.722285286421631,
          -0.6969478704959741,
          2.2180614428645478,
          -7.1602727295221635,
          -2.7210693840808946,
          -7.870957935643832,
          -8.154982295864855,
          -6.195367959992488,
          -5.3185703299383675,
          -2.273463482248246,
          -5.78873050806904,
          -4.371926573294211,
          -8.610319225293352,
          -5.682983172106345,
          0.12422228282354461,
          -2.9730071929920427,
          -0.6926987050435389,
          2.128862292236808,
          -0.14674755513380672,
          2.1645007335367623,
          2.4074149000910943,
          -4.950810453347595,
          -3.6309349003768983,
          -9.883700229029186,
          1.8869465183647383,
          -5.496544199736286,
          -1.82223284503787,
          1.9985981096263743,
          -3.936261874510101,
          -1.350486168356898,
          3.045884736584314,
          -6.833538581452452,
          2.030653743628824,
          -1.7627615229679423,
          -7.233725734747076,
          -4.14744796473864,
          0.7592402458382889,
          -7.4092945176780995,
          -7.975733922728064,
          -3.236218153779554,
          0.014417956929155696,
          -0.7114571468416271,
          -5.836836032368162,
          -7.966097910383841,
          2.0122594044134905,
          3.1750410907675137,
          2.4348569919558214,
          -3.1214915508673236,
          -1.5218219402636473,
          3.485074456509522,
          -3.272792861848852,
          -3.4672088804412535,
          -0.45296411581214246,
          -2.5892354964053594,
          -4.2168054751963915,
          -11.928062553165896,
          0.4500050830194983,
          -8.333703043770226,
          2.620747772060457,
          0.2775417688302991,
          -0.3382570420790751,
          4.259867122761425,
          -1.4723812062932566,
          -6.1808786734558785,
          0.4285018155431459,
          -7.323465150575413,
          -7.41327058425636,
          -4.7087401046256785,
          -9.242565970049041,
          -10.489323275339666,
          -3.7519169431495776,
          -0.266630866953526,
          2.6205775767529245,
          -5.15818686938435,
          -2.976452080769007,
          -2.4369265333525387,
          4.351380322915439,
          -6.93874819896957,
          -11.531188858625983,
          1.732056365567745,
          -3.4031860798961793,
          -4.602745753914914,
          -7.1634900486919575,
          -0.9356346413617733,
          -2.662247308197207,
          -8.324735940137794,
          -2.289763448436473,
          -6.581052757085859,
          -7.485584789851732,
          -2.171991528118157,
          -6.5856776966341775,
          -7.766624836260301,
          -7.463019567698141,
          -0.7461589832533632,
          2.2423173324450296,
          2.372780575190374,
          2.3736614251856327,
          -1.2468058523480945,
          -8.726746477403596,
          -1.293273517749903,
          0.49458143574236757,
          -3.644947200652068,
          -8.168741010333843,
          -1.9696376907122548,
          -0.08211905887504546,
          0.39902159563328393,
          0.04865472854516492,
          -5.292031804807729,
          -9.40418145226998,
          -7.933237322088463,
          2.348664077418892,
          -2.5947057853145625,
          1.933255700882577,
          -11.70777064708477,
          1.4227778103163748,
          -9.492169671436642,
          -7.844020696093692,
          -4.170424613085995,
          1.1571822114887222,
          -2.7965505083552356,
          -4.730115579584323,
          -0.8800575104080942,
          -2.2325246816735387,
          -0.1743107039533594,
          -3.290945261286066,
          2.703009998195173,
          0.36827660183401717,
          -6.634671875857911,
          -7.37700069316523,
          -4.568622749966083,
          -5.709539685105746,
          3.3806481161711597,
          0.1853644212545257,
          -9.48422140572231,
          2.5532219954870543,
          -0.828805755451028,
          -5.439886796014965,
          -4.666318488795365,
          -7.8630404326449845,
          -10.747428362628222,
          -3.6758002190483103,
          -5.98896624237674,
          -6.565775235877383,
          -6.862151286853858,
          -0.743010479727433,
          -8.800871402358627,
          -2.861906816388608,
          -6.426394632818282,
          -0.6798420636080074,
          -1.4831299838598315,
          0.6451258704070972,
          -9.00573872463698,
          -2.1871139236402035,
          2.1862919775920515,
          -4.026693659609654,
          0.24694720479286728,
          -8.739221975766252,
          -7.701406830994529,
          -3.043403439421196,
          -9.620822903531376,
          -10.572537634032088,
          1.6851468854494716,
          1.7310164119031146,
          -1.345552597104336,
          -5.547607640334774,
          -0.40766963622941754,
          -8.333261886406522,
          -0.16007816320619608,
          -6.666159260784575,
          -0.23282211699973115,
          -9.945163636109246,
          -11.208856453129167,
          -7.899441383246242,
          -3.0702092554938547,
          -8.384878768963743,
          1.187878881693833,
          -4.483133547451503,
          -6.810237231212252,
          -4.791555991748714,
          1.9235144625324128,
          -9.272648043577053,
          -1.16185486911872,
          0.7337729932506126,
          4.815056275460799,
          -8.883741111038486,
          -7.3264871799894475,
          -1.654347026434149,
          3.0346594717389497,
          -2.7380712934867293,
          -9.987971296638339,
          3.5461501459939626,
          -0.9967183186856985,
          -11.893111750446133,
          -5.390169972993824,
          -5.049144606721215,
          -1.3114400663832984,
          -3.5565044701063653,
          3.123192719688537,
          -8.836725920537983,
          -8.03012266029745,
          3.781329511559952,
          -0.2965407417418345,
          3.515756709598918,
          -0.7360647802846861,
          2.861632792793932,
          1.7906251104540478,
          2.9085310282148376,
          -2.40050785540642,
          -4.0600876103047785,
          2.0814978618237103,
          -3.916870578078875,
          -1.9987645641963248,
          -3.116013922202378,
          -2.910459242265355,
          -5.256927182988761,
          -7.7276814243475584,
          -7.343626531180638,
          -6.517014613943264,
          -2.727525417575351,
          -6.481642794497619,
          0.9053274692172975,
          1.4387808353298954,
          -4.83437845884125,
          3.7019288921016673,
          -9.123265269813237,
          -6.777689292727067,
          0.2212689798251631,
          -2.887910237537477,
          -3.4645153673008755,
          -6.476435513154765,
          -1.3459929389715641,
          -1.9301763852854288,
          -6.373983377036589,
          -5.52646478869273,
          0.7468857936761606,
          -3.1073249590850645,
          -1.5723650885113323,
          -7.200998747612027,
          -8.256032120655892,
          -3.4190198787225,
          1.1592462426766197,
          3.2026690975626666,
          -9.286791973045903,
          -1.2927707747433388,
          -6.966955375928227,
          -1.7569156096034688,
          -7.581225236011228,
          -7.705890598607405,
          -1.8828054802970517,
          -9.238036164010238,
          -8.645125318402437
         ],
         "xaxis": "x",
         "y": [
          -1.3489144230406034,
          -0.865944051805693,
          -0.8232903406002967,
          -7.58598867958411,
          -1.1026587899119629,
          -0.663095640929094,
          -0.12417965244792557,
          0.3537549144052198,
          2.6507127519322804,
          -5.6828546196847185,
          0.7176884708255409,
          -1.2425823245511685,
          -2.425460882202681,
          4.169888492450963,
          -2.553133442315156,
          0.8102471808416215,
          -4.7687148465847935,
          4.664351414538288,
          -1.7260092145615042,
          -2.0358765341307614,
          -2.257633640417531,
          -0.4801355702066355,
          -2.5614193790092434,
          -0.05452642176676857,
          -3.8862271203748358,
          -0.8079307491759633,
          -7.71882889945715,
          2.8095627172894684,
          0.2992310545589404,
          4.52704760716926,
          1.86283209183305,
          -1.2938713558774875,
          -1.879318074729506,
          1.674679909423091,
          1.8259075176204682,
          -4.456175589944334,
          -2.5572620743956813,
          -4.04894604447483,
          1.4263877581993114,
          3.181633886383776,
          -8.730768781899526,
          -0.1836198415691908,
          -0.4005225437015795,
          -4.088901793639735,
          0.6498964189601162,
          0.10154232955334826,
          0.9007341277583382,
          2.0362910844522437,
          3.845727338207998,
          -3.4603896097709774,
          0.27396706150900724,
          0.9128244339437472,
          -3.0312147636931104,
          2.6750345065459067,
          -0.7237559700013304,
          -1.7286371042988529,
          -1.6433497052113915,
          3.1207649955697114,
          -3.0233885708292845,
          -1.7792753504232879,
          -6.602998502438041,
          -2.022046387216982,
          -3.1796027608779975,
          -0.4484503529829527,
          -2.3695290015030506,
          2.7926304595226483,
          -2.5278370558930643,
          0.1689209851547024,
          1.4585037299739827,
          1.6532694482846182,
          -3.1993303257410606,
          1.0880677522592177,
          0.9950725255884156,
          -0.5516103107413711,
          0.7186391221630808,
          -3.1115327177621337,
          0.22355566156941453,
          0.582687359487792,
          -8.166431291725253,
          2.935637373228313,
          -7.5704312413133055,
          -4.617268393256617,
          -1.9146285429148864,
          -4.006634732861005,
          -7.958886771062465,
          -4.729017232806052,
          -3.168850109035731,
          0.7450448053933472,
          -2.379131767847166,
          -4.00204544434743,
          -1.405013792643958,
          -0.8158797279370926,
          -6.345064863012015,
          0.8500302617665068,
          -0.7173056131258121,
          4.249079779756984,
          2.813803858909632,
          3.7982311701911406,
          -2.144988143869862,
          -7.536625101691923,
          0.9428618174305624,
          2.212390081563233,
          -2.5156702963515185,
          -0.3298762079853231,
          -0.5259987036886578,
          -2.6063262035247123,
          3.411211300739953,
          2.1875570780298523,
          -3.376276789023378,
          1.2726769006653134,
          -2.210499638131086,
          -1.0187325959327647,
          1.461185146308935,
          5.04243538999204,
          -1.0508154858403114,
          -2.7331702812925855,
          0.24427544569233464,
          -5.437799678750319,
          -3.194589602721557,
          3.4416613829842,
          -4.671202252986546,
          -2.4114959606970867,
          0.4276215209941464,
          -6.606652973902123,
          -2.873281600535677,
          2.26145799899996,
          -1.7427149067807177,
          2.307836009670966,
          -7.857058183793827,
          -7.457724268850956,
          -0.8853398130898109,
          5.58403940500905,
          4.112861125432097,
          -3.200913355513927,
          -3.014612640959493,
          -6.313091033637014,
          1.0779986799026726,
          -0.9439104819921476,
          -8.352575009180109,
          -3.8430695203029184,
          -5.6308942412404335,
          -1.2085767416490951,
          -4.514412147384796,
          -0.49909110720717015,
          -6.239011670097726,
          -6.630082779409704,
          -5.286551095810765,
          -3.754130377949707,
          1.59107126451605,
          -2.1002143797729844,
          -6.2852669302602795,
          -0.39052404496708976,
          1.0974353921537587,
          3.8543741263533513,
          -3.9950081934719446,
          2.6338643447242496,
          2.2461352156274557,
          2.4587126683477627,
          -4.211521823805546,
          2.8368476713704838,
          -2.287638514314136,
          -6.123052230311079,
          -3.814181112139571,
          -4.753556718064185,
          1.9191329061195692,
          3.791629245715028,
          2.680704579952356,
          -4.6131344509920105,
          -2.9337974862114753,
          -1.7805447305371456,
          -2.10551130909742,
          -1.0188011140017112,
          -0.7455260104182755,
          -0.017952848450397525,
          2.3438746260149936,
          -6.4006910847572795,
          -4.971550393175838,
          -3.6755642312167414,
          2.441910419125873,
          -6.097173891238721,
          -2.803920343183332,
          0.4389495627398778,
          -6.048813923041918,
          2.8200219643512936,
          -3.790145855991246,
          2.179624423296064,
          2.000736952251497,
          -3.148959069523295,
          -4.07864910946148,
          -0.04334484969258486,
          2.0912463480635757,
          -7.982838693223095,
          -0.6076997900810452,
          -3.675460451093547,
          -0.4723080804396709,
          1.6906644502518615,
          -1.7058222357126474,
          3.6594667803370333,
          -1.1739584072718798,
          0.783301392132361,
          -0.16794190728928268,
          -2.192484985416735,
          0.9789598267846003,
          -6.154005302858507,
          -0.8954513779628724,
          -6.095422913305138,
          4.52897661986225,
          -3.8627611664968584,
          2.5950743808897694,
          4.072489589549953,
          -0.2559119888191473,
          0.447008077171342,
          -5.280145428863006,
          0.8029424417386126,
          -1.3679201175825213,
          2.29481383719449,
          0.5122055035368065,
          1.8503443084875644,
          2.1377298535099394,
          2.342347416605696,
          -7.449442074728961,
          1.785505826633149,
          3.2587584699207484,
          -1.7061491688052846,
          4.1652562473530095,
          2.2284711346216968,
          -3.15654718197388,
          1.823137691596874,
          4.875571486071236,
          -5.330404590378748,
          -0.7788497196267669,
          1.9309572340046655,
          -7.950353217125903,
          -5.180649114831707,
          0.14895027702318417,
          -0.9115501545576883,
          2.110310206556559,
          -1.2505056843042468,
          -6.726391701321581,
          3.1130246832634367,
          -4.95958910164152,
          2.5146450730356387,
          -2.849083197132786,
          -3.931703552045882,
          1.9736124494065637,
          -4.4747945459121645,
          -0.2758254818024646,
          -7.4800915093841915,
          -3.3010912723751242,
          2.9966743458399097,
          -0.16710374565944913,
          -2.429011880772218,
          0.7069434383680655,
          -2.3344984847336425,
          2.3885105006060705,
          -4.743033364810807,
          -1.3281604316346816,
          2.1174784750325637,
          2.726524446369162,
          3.4054475415399637,
          1.678721270927159,
          -4.034308963086176,
          -1.5579659616210286,
          0.12488599844003243,
          -3.9879731551024045,
          -5.241430676953337,
          -1.1579635063809437,
          -5.9681310944590615,
          -1.2467323027557893,
          0.4118970171718172,
          -0.5130079506455006,
          2.742292806681118,
          -2.452161858637585,
          3.485833027184086,
          2.4208288514701044,
          -4.897768345214417,
          3.977753298787672,
          -6.328799971590796,
          2.5247579137100242,
          -6.695512173600295,
          -3.7684828021351056,
          -0.7323301427159212,
          -0.7677339736597765,
          1.9530986356090905,
          0.10858089093843233,
          4.452003756402314,
          4.96861501541209,
          -6.16854832254301,
          4.146814955121418,
          -3.3978851873401905,
          -4.0230464042817236,
          -1.7025438375472275,
          -4.792676081378751,
          -5.762347219282109,
          5.5988532369273605,
          -0.866974342139935,
          -7.368907526854953,
          1.119289799905762,
          4.7057606586685745,
          -0.887035558559203,
          0.18979368687327988,
          0.5231503948252514,
          -2.622397382372973,
          -1.6173801927669347,
          -2.7699482930665784,
          1.1564706185763625,
          -3.6295066125353492,
          -2.763946795897637,
          3.3179222170328395,
          4.5136169666742285,
          -2.1959742802181017,
          -5.153966196465314,
          -4.6319347901425,
          -0.06120926478573523,
          2.465012347968806,
          -2.1015014984697786,
          0.39931381908964764,
          0.45470171303834933,
          -1.2094924996579282,
          1.3038561188482924,
          -0.019009053887940986,
          -7.630403649600208,
          -2.563622460259412,
          -3.797806188682462,
          1.411465073792301,
          0.19023911701974092,
          -3.169476250065095,
          5.576098758515809,
          4.610880890015196,
          -0.745186167427183,
          1.9246246973811785,
          -0.1588031680517301,
          2.5483300666890605,
          -1.321025795149579,
          -6.366619818016253,
          -4.801681173812301,
          -0.3101078540963134,
          2.6858747347162066,
          1.8123779462635365,
          -3.3768291041051453,
          2.351246772393881,
          -7.09421870661329,
          1.3805367928898669,
          -0.8147115753751659,
          -0.01676113736277307,
          0.7720453426555884,
          4.9996185865435345,
          0.7413959290407248,
          0.6193154959509638,
          -6.343845700038121,
          0.3271946764285916,
          -7.5656230540338365,
          0.5176537135911405,
          0.43394589936583783,
          2.17049326277343,
          -4.434805856915604,
          -1.035388105653073,
          -4.718246996627445,
          -4.464553593849363,
          -0.845499001885305,
          0.10659590397075905,
          -5.666242392920737,
          -7.842783511589613,
          -3.437215669168881,
          -2.926772654940123,
          -0.6162495627112021,
          -0.6921832748123229,
          -2.0918040244930323,
          5.238076911110072,
          1.4951014860008638,
          -5.679055017593218,
          -5.278419954533366,
          -1.029416875346348,
          -6.021854381837768,
          2.67055042725645,
          -3.3049312383494036,
          2.947537248262258,
          -2.144838216826191,
          1.763837420593009,
          -7.221495468823594,
          -2.0364477211501373,
          -0.5860603775795987,
          0.14260326572815035,
          -4.570469829278254,
          -3.5176574395342883,
          2.0254776102941197,
          -5.231377685304115,
          4.080746399427117,
          -2.5622586434739234,
          -4.737391723973594,
          -3.979033864490566,
          -0.7292922696865676,
          5.930424859953307,
          4.1247960371082595
         ],
         "yaxis": "y"
        },
        {
         "hovertemplate": "cluster_assigned=Marcel Stout<br>Principal component 1=%{x}<br>Principal component 2=%{y}<extra></extra>",
         "legendgroup": "Marcel Stout",
         "marker": {
          "color": "#00cc96",
          "opacity": 1,
          "symbol": "circle"
         },
         "mode": "markers",
         "name": "Marcel Stout",
         "orientation": "v",
         "showlegend": true,
         "type": "scatter",
         "x": [
          -4.207539188505441,
          2.207724399787558,
          -4.999619452473317,
          -9.491068588476972,
          -8.425593968128007,
          2.9194127319840617,
          5.707495668560153,
          6.894211970243066,
          6.682332866532926,
          -11.109025211537885,
          0.178238226548841,
          -5.206676010913875,
          -1.4185946064538566,
          2.8259233532895545,
          -2.368019031954852,
          2.7987697910422633,
          -8.01141462950843,
          -2.336328190207166,
          4.377862621622643,
          2.261467220925799,
          6.403504773217886,
          5.438890411387458,
          -5.374549502938518,
          3.9691862474952657,
          1.4269339801302554,
          -10.721928520554679,
          -5.808355677472892,
          -3.9545471996357917,
          -7.847696487010542,
          1.2775427168143119,
          -4.108274534327733,
          8.722884248778957,
          -2.4616193704808444,
          -9.217946598676887,
          -2.0247821628884584,
          5.519667157571697,
          -4.593619456831394,
          -10.752285276738057,
          -1.3991430998651035,
          2.8075809829100757,
          6.136377478529513,
          1.1808895418711538,
          -0.18086315576137363,
          -5.103985492974324,
          8.036860165047957,
          7.744059688393618,
          3.5348659420123245,
          1.0327484774662907,
          -5.791028402293724,
          5.352875973445122,
          5.452264106654576,
          -2.591662416789204,
          -8.570642984278727,
          3.8616431672193086,
          -6.664666027575993,
          3.5430616228652685,
          1.6216164404753446,
          -6.067965873524385,
          -2.7207427941045967,
          -8.716986542493856,
          -3.5788252104219755,
          -9.45067534620986,
          0.7200325249812557,
          8.1428476730218,
          -7.296479382656916,
          6.538917065294858,
          4.637168559137125,
          5.518377716745107,
          -2.7326580864463033,
          1.1573035667424643,
          -1.8906014418012707,
          1.3377006964497857,
          3.8538094969418535,
          -3.7461908415093883,
          3.7186419914599202,
          -5.100258151890022,
          -1.0901585654938308,
          -8.397727890734357,
          -10.2799713715106,
          1.5018205596888612,
          3.745089562683322,
          -2.8957924783505518,
          11.90757590816078,
          4.529640869867761,
          1.0764064119555012,
          2.975725067176389,
          -3.054482579977708,
          0.8226132327751023,
          -0.2812969609175188,
          -1.9602901420380399,
          6.979194081908862,
          3.8813212248858022,
          2.84607464209697,
          4.646861570902543,
          -0.9828593541022383,
          -4.53751341122675,
          -3.372374596920977,
          -4.148478166795251,
          -3.3066468399395443,
          3.0070564490120657,
          0.7056927315353418,
          8.854839904270518,
          -2.546506910725574,
          2.4136465220253966,
          1.6379268348702798,
          -3.6434957927782397,
          4.583844375956668,
          -9.165210995269412,
          1.1623732095796286,
          8.001512302302604,
          3.440414097060542,
          4.5078101365818215,
          8.923386187333351,
          7.546029652284904,
          7.512920215575976,
          7.637262339428075,
          -2.3334343702728373,
          0.738066851757546,
          8.64464707492709,
          -5.075255613537423,
          4.733587178405651,
          -4.277476840572334,
          4.662371038263887,
          -6.840165365405435,
          3.4916069568139276,
          0.796973302577003,
          3.944565677732164,
          6.777357618404365,
          -9.605862202104184,
          2.617737771358802,
          0.5191932605886175,
          -3.570841611654023,
          -9.771775621432928,
          -11.158886273426718,
          -2.9696191999799484,
          -9.30440648044043,
          -5.467553144299902,
          -5.525312091574459,
          -9.786270064223729,
          5.790773286625902,
          0.011463727575211422,
          -9.546904250835981,
          9.912243314572946,
          6.687831890421714,
          -5.392459324164122,
          -9.968729089918247,
          3.57827811646111,
          -2.21812911068544,
          -0.6850325580100992,
          -2.4480921800824262,
          4.235230965742383,
          -0.41192463560346704,
          2.3706976353667075,
          -9.396760618827546,
          3.560299587418572,
          12.731294025938213,
          8.594247473380939,
          0.9450339725063964,
          -8.767123256016907,
          -2.7095785906632566,
          -9.274694478470565,
          -0.9547514302040254,
          -6.12766336368603,
          1.9957031045075329,
          0.8681188968868543,
          -10.97627846078578,
          -0.9047751077408492,
          -9.069443563461517,
          2.310927331845558,
          3.069242438824682,
          -2.4863156814035574,
          -2.8685677449334817,
          -2.4658282780932472,
          2.5921436937243705,
          1.8130121800440142,
          -10.64404368380045,
          4.188661904084936,
          -8.755271824397303,
          -6.238777880272533,
          3.2184316216591813,
          -7.071599903518131,
          1.253849592096006,
          0.01779111245965778,
          1.5881919361079222,
          -8.835708447409717,
          -4.548924393683181,
          -7.259493011999365,
          0.7332729317170559,
          0.6620750880916612,
          -3.32162217943377,
          7.122297660565844,
          -5.811981925142353,
          5.502829476792197,
          1.5348166908527783,
          -1.8158356769788422,
          -4.8876829754710265
         ],
         "xaxis": "x",
         "y": [
          13.70814137986538,
          17.676583475707197,
          12.987881143945145,
          15.550769778126725,
          9.19037684128021,
          10.197919055702139,
          11.107262386906495,
          7.0821801585832995,
          7.801706395852521,
          11.18055158153132,
          6.669500934491268,
          11.555173616603808,
          11.974498451052643,
          16.760492269242548,
          5.5887193045524,
          5.797242486488572,
          16.419876022192508,
          4.827341413132684,
          8.201541344096363,
          4.474870086240981,
          9.367946040557758,
          6.137368023687501,
          9.676169157375021,
          10.32796842524215,
          5.050054241795003,
          5.961983985428137,
          6.014624436149381,
          6.864176813105152,
          7.628821545187369,
          4.911547482972656,
          4.895154206226402,
          11.53008172405346,
          7.597603321160075,
          5.96426791000084,
          8.107877333230304,
          3.760242009226179,
          20.173890332149508,
          12.184342302414397,
          6.332238380006991,
          12.289986150570462,
          12.265599116657743,
          4.148542869698977,
          12.106546297665663,
          11.486002322845595,
          5.979932039844085,
          13.8637251056243,
          3.163924222748542,
          4.15867502891292,
          8.53033093039003,
          3.196156047807158,
          7.60115207424898,
          5.708710906709953,
          10.456965929724156,
          4.968355802843789,
          18.35797151989315,
          9.632596792401586,
          9.578047480947005,
          15.92334101039726,
          5.871567979157937,
          13.269010488442555,
          10.223699066135225,
          18.137848504602115,
          6.359522365930815,
          7.69803429266905,
          10.99154124015021,
          11.561284679163796,
          5.883411880289109,
          6.849073553698393,
          5.747766690895969,
          5.304384757414815,
          5.232692253356316,
          8.666486966217102,
          11.265695069395077,
          6.713054455561388,
          13.574388379214533,
          6.521773280342194,
          4.958123843861277,
          17.05501157894442,
          13.660683653902524,
          7.416371997110825,
          7.915026565160911,
          20.864479862299454,
          11.376964725378873,
          3.7370307361100563,
          18.08311389471113,
          2.9450657674033187,
          9.01283764794322,
          10.490807522810679,
          7.199558876286486,
          6.82929479844696,
          10.924605607382826,
          3.552393485021955,
          2.43888296517852,
          9.051500928500278,
          10.403783495377043,
          20.090595706222288,
          19.831411638614448,
          8.136577063496867,
          11.18907918842266,
          6.529985000267745,
          3.165435058076728,
          10.86600335282948,
          6.236040267565489,
          1.7345704402305702,
          12.85482007338608,
          7.2902992475635875,
          7.949293766204388,
          15.779060636715382,
          3.5519737642631277,
          12.83783239430101,
          9.046024721740855,
          6.454323295763033,
          17.480786807401984,
          8.592453392648517,
          5.787030430097566,
          7.926232260631859,
          5.72803846260779,
          4.361527161406928,
          11.40160846386686,
          15.087001371344938,
          6.054350359169276,
          6.715896327157183,
          8.638175089357627,
          20.425576991124736,
          9.500911883016098,
          5.238805789975323,
          1.7906693231569693,
          8.269686618668976,
          15.58371251950638,
          8.591010333751742,
          12.824042827305083,
          5.512068039652549,
          10.001074821555203,
          7.8394826504422195,
          15.682625585119592,
          33.78769815762657,
          7.634927907837528,
          10.524245934495056,
          14.446375544084223,
          14.34246514894038,
          3.9362513023014425,
          12.138401965604846,
          15.140034596499946,
          5.263072133008144,
          7.050177983357084,
          17.42517253379026,
          4.132915803903649,
          10.710726736482561,
          6.146455935528951,
          5.852069199513668,
          6.2316559151516335,
          6.553432753732729,
          6.5186460816589555,
          9.958357049401267,
          5.1907324130282495,
          11.534694154152898,
          8.650729041756902,
          7.240204760288493,
          8.601326955839982,
          6.7038381767700175,
          17.601170717511547,
          5.834367794903404,
          9.830370694449638,
          6.466434182148692,
          7.745422875176039,
          12.518050875784235,
          16.78757438723858,
          17.572028416224803,
          13.041264821343624,
          5.349640401383271,
          11.781112919657506,
          19.444292720493966,
          13.029399910811364,
          12.289143280807885,
          4.9060699092032465,
          11.682935119037209,
          4.868177931857214,
          9.810078414767117,
          19.417182907197585,
          9.781891634671178,
          8.151951157009394,
          7.121122023276061,
          6.465860117870044,
          5.7580490933423,
          7.936108984176324,
          15.272095982995442,
          16.64872280668422,
          5.01270721104244,
          6.449984236246499,
          6.511317744349899,
          7.596231835527698,
          13.027897547117368,
          4.336049329376102,
          10.431169947471261,
          22.635735947107296,
          6.73275752644312
         ],
         "yaxis": "y"
        },
        {
         "hovertemplate": "cluster_assigned=James Bland<br>Principal component 1=%{x}<br>Principal component 2=%{y}<extra></extra>",
         "legendgroup": "James Bland",
         "marker": {
          "color": "#ab63fa",
          "opacity": 1,
          "symbol": "circle"
         },
         "mode": "markers",
         "name": "James Bland",
         "orientation": "v",
         "showlegend": true,
         "type": "scatter",
         "x": [
          -12.735692404617016,
          -13.415750427105959,
          -13.30323031738599,
          -10.165204121606441,
          -10.253875651032262,
          -8.503089503813172,
          -12.757943952939508,
          -9.500389008825012,
          -11.681824429757038,
          -2.354740374658341,
          -10.177135764267147,
          -16.702038964221508,
          -11.943125055528785,
          -11.108787385873883,
          -12.935142852589255,
          -9.684668812201211,
          -9.088363673562336,
          -11.351109192276251,
          -8.140017535269333,
          -12.744736302142579,
          -2.930641460812084,
          -9.731922695028658,
          -14.560695174905877,
          -13.074727932641803,
          -10.780431662049677,
          -1.936915226843033,
          -9.134341811859452,
          -3.755599710006139,
          -11.372252622101474,
          -9.52232415808581,
          -10.685342798385943,
          -13.718593319167839,
          -10.366815103069225,
          -16.003483307611187,
          -10.310727541931257,
          -16.96369092607974,
          -3.742206664122942,
          -3.010344707951191,
          -4.7181378012444615,
          -3.3887331758971135,
          -11.785671164222904,
          -7.969155449057983,
          -13.95681828192385,
          -14.591240187656984,
          -17.25037696739532,
          -16.737007986409285,
          -11.282279877668113,
          -5.01344779627303,
          -10.552877482718753,
          -11.683558453620982,
          -10.24973722834309,
          -9.439977537927234,
          -13.958229542439229,
          -9.468041832645877,
          -9.033948061692763,
          -9.759485243459721,
          -5.40770764780953,
          -13.378563220219137,
          -10.48193802672039,
          -5.517320726225197,
          -6.907447810194889,
          -10.888221478123251,
          -5.196173335835463,
          -12.773971501796655,
          -6.575619720885845,
          -7.732762347848956,
          -10.644902769182668,
          -11.25542204325559,
          -12.397056936274218,
          -10.521329603441712,
          -8.689077607952683,
          -12.773032999409798,
          -10.947224270878015,
          -12.646146300310686,
          -8.767104301207508,
          -9.438599932483582,
          -6.161608732407196,
          -14.72666508102332,
          -11.568195335391872,
          -11.894013248982066,
          -11.31101043459891,
          -11.803118975796137,
          -13.870602474165537,
          -6.088120385536067,
          -11.698187182691168,
          -10.70769327922225,
          -10.777019008677065,
          -6.497467119373802,
          -12.949532566767386,
          -15.005677310279866,
          -10.125552859386758,
          -10.86187304894339,
          -3.0334350216596806,
          -13.159990418448222,
          -12.965467432178174,
          -11.954336628730523,
          -13.637594782579818,
          -8.203713647860843,
          -12.240540759429145,
          -8.679762028421992,
          -8.452660985506727,
          -10.95260022640514,
          -9.0450583596552,
          -5.450590764269421,
          -14.159350076711021,
          -15.54306420668392,
          -10.400681191389074,
          -12.375840192227495,
          -10.062899196806535,
          -11.463112653038019,
          -8.322982496154514,
          -10.782796267029774,
          -13.621399587321134,
          -12.99626018013048,
          -14.11234285037162,
          -6.347506190418232,
          -14.472610314399185,
          -10.07928692580125,
          -13.280140892927745,
          -6.898001663804106,
          -11.166264809863275,
          -9.009322356162604,
          -2.189400728220057,
          -13.467934082822948,
          -14.778977892441686,
          -9.884173699187196,
          -9.077242913959331,
          -16.448628785926687,
          -9.691422110331155,
          -12.396111736191473,
          -11.218824625050097,
          -13.507149693242235,
          -9.042672959695132,
          -7.691730895125346,
          -5.4831100727898585,
          -14.830866606909861,
          -14.816071328105219,
          -11.435422608190269,
          -8.495565605377601,
          -11.324645909593258,
          -9.665809533796498
         ],
         "xaxis": "x",
         "y": [
          -2.8327538057078683,
          -7.827705197233135,
          -2.208351527337528,
          -5.583422859342543,
          -8.409818469362095,
          -5.978993009778097,
          -8.503557104687893,
          -12.961830518244422,
          -8.445587082570423,
          -8.961864590161726,
          -5.32111195250967,
          -12.897927489662164,
          -5.335929967161704,
          -2.150178603316201,
          -5.660194126988139,
          -4.577932680772013,
          -3.684016861606542,
          -5.195519656874906,
          -1.7085640842223162,
          -4.759397038265893,
          -1.88215312991237,
          -9.438747102743939,
          -9.70442168711286,
          -9.251136223530183,
          -6.808242292241665,
          -7.783552263694221,
          -3.281786034467425,
          -11.325161478390271,
          -3.1627062099026,
          -0.546348731338701,
          3.927237563034813,
          -7.906591660059575,
          -13.209771214019673,
          -14.890881659555086,
          -3.971186628581925,
          -11.690193860629774,
          -4.664752570825715,
          -8.859241043969972,
          -0.6598667208584876,
          -1.1186531156259998,
          -7.870940882847883,
          -8.785449678985794,
          -10.455393613806814,
          -8.613367320391342,
          -15.227712908327764,
          -14.950009783552575,
          -6.533072955281143,
          -8.031704974746388,
          -8.329755744004592,
          -11.944900970439836,
          -7.770467476561185,
          -4.23936498647311,
          -7.872972379818772,
          -8.2343994248411,
          -1.169461838333901,
          -9.430497591632243,
          -11.066753421287595,
          -10.833357757611408,
          -2.962895457295117,
          -7.108028536429456,
          -5.067891461573217,
          0.6335422480634356,
          -9.477589275094617,
          -8.501536300224547,
          -8.034538665507277,
          -8.321675657036758,
          -4.2049279769648376,
          -10.793330118792955,
          -1.8472501368352534,
          -3.2246694468671753,
          -11.924026930637417,
          -2.6866455342453524,
          -2.4474655602332653,
          -5.025347494800482,
          -2.451413691600437,
          -1.9156224417696561,
          -7.575748348044688,
          -14.38386921011061,
          -7.345764810054667,
          0.6304822710884092,
          -0.31247075114130257,
          0.914080557720872,
          -7.150800704024208,
          -4.178897096033137,
          -7.232694036649213,
          -6.546377202220217,
          -5.1422842357042935,
          -5.455710997751018,
          0.847252035095507,
          -9.852351546006494,
          -3.0462783770249833,
          -10.214874117912341,
          -9.869093511767188,
          -10.16441981677917,
          -6.841295848557436,
          -3.3455103735515443,
          -6.988120859097138,
          -7.279560422175079,
          0.8311167935095041,
          -7.813191433046101,
          -14.96128129059976,
          -3.1995209648830207,
          -5.489034770928475,
          -5.157244942815574,
          -8.767415326257561,
          -12.91109806132626,
          -7.278511198777306,
          -5.755814951006491,
          -0.9989639731480608,
          -7.133725636103952,
          -4.139522799441174,
          2.3593263643753395,
          -9.703651117435218,
          -6.158351859903924,
          -9.03911416983,
          -6.353788341871656,
          -12.295225722650022,
          -5.45050751548288,
          -3.8592448176349747,
          -6.1468391139454805,
          -6.487960752817378,
          -6.569359996327165,
          -8.294290104466917,
          -4.036520848743968,
          -13.404649630904718,
          -9.042220600408692,
          -11.021713519815307,
          -16.451589792594984,
          -2.898806589771849,
          -9.850110476808117,
          -7.487800679601173,
          -6.8931503131498255,
          -4.965697499470158,
          -8.217198560254761,
          -4.395754566145979,
          -7.989577428824554,
          -12.769995964112324,
          -5.04010281524881,
          1.4107756383785028,
          -3.6375029788120408,
          4.286279573366883
         ],
         "yaxis": "y"
        }
       ],
       "layout": {
        "height": 600,
        "legend": {
         "title": {
          "text": "cluster_assigned"
         },
         "tracegroupgap": 0
        },
        "template": {
         "data": {
          "bar": [
           {
            "error_x": {
             "color": "#2a3f5f"
            },
            "error_y": {
             "color": "#2a3f5f"
            },
            "marker": {
             "line": {
              "color": "#E5ECF6",
              "width": 0.5
             },
             "pattern": {
              "fillmode": "overlay",
              "size": 10,
              "solidity": 0.2
             }
            },
            "type": "bar"
           }
          ],
          "barpolar": [
           {
            "marker": {
             "line": {
              "color": "#E5ECF6",
              "width": 0.5
             },
             "pattern": {
              "fillmode": "overlay",
              "size": 10,
              "solidity": 0.2
             }
            },
            "type": "barpolar"
           }
          ],
          "carpet": [
           {
            "aaxis": {
             "endlinecolor": "#2a3f5f",
             "gridcolor": "white",
             "linecolor": "white",
             "minorgridcolor": "white",
             "startlinecolor": "#2a3f5f"
            },
            "baxis": {
             "endlinecolor": "#2a3f5f",
             "gridcolor": "white",
             "linecolor": "white",
             "minorgridcolor": "white",
             "startlinecolor": "#2a3f5f"
            },
            "type": "carpet"
           }
          ],
          "choropleth": [
           {
            "colorbar": {
             "outlinewidth": 0,
             "ticks": ""
            },
            "type": "choropleth"
           }
          ],
          "contour": [
           {
            "colorbar": {
             "outlinewidth": 0,
             "ticks": ""
            },
            "colorscale": [
             [
              0,
              "#0d0887"
             ],
             [
              0.1111111111111111,
              "#46039f"
             ],
             [
              0.2222222222222222,
              "#7201a8"
             ],
             [
              0.3333333333333333,
              "#9c179e"
             ],
             [
              0.4444444444444444,
              "#bd3786"
             ],
             [
              0.5555555555555556,
              "#d8576b"
             ],
             [
              0.6666666666666666,
              "#ed7953"
             ],
             [
              0.7777777777777778,
              "#fb9f3a"
             ],
             [
              0.8888888888888888,
              "#fdca26"
             ],
             [
              1,
              "#f0f921"
             ]
            ],
            "type": "contour"
           }
          ],
          "contourcarpet": [
           {
            "colorbar": {
             "outlinewidth": 0,
             "ticks": ""
            },
            "type": "contourcarpet"
           }
          ],
          "heatmap": [
           {
            "colorbar": {
             "outlinewidth": 0,
             "ticks": ""
            },
            "colorscale": [
             [
              0,
              "#0d0887"
             ],
             [
              0.1111111111111111,
              "#46039f"
             ],
             [
              0.2222222222222222,
              "#7201a8"
             ],
             [
              0.3333333333333333,
              "#9c179e"
             ],
             [
              0.4444444444444444,
              "#bd3786"
             ],
             [
              0.5555555555555556,
              "#d8576b"
             ],
             [
              0.6666666666666666,
              "#ed7953"
             ],
             [
              0.7777777777777778,
              "#fb9f3a"
             ],
             [
              0.8888888888888888,
              "#fdca26"
             ],
             [
              1,
              "#f0f921"
             ]
            ],
            "type": "heatmap"
           }
          ],
          "heatmapgl": [
           {
            "colorbar": {
             "outlinewidth": 0,
             "ticks": ""
            },
            "colorscale": [
             [
              0,
              "#0d0887"
             ],
             [
              0.1111111111111111,
              "#46039f"
             ],
             [
              0.2222222222222222,
              "#7201a8"
             ],
             [
              0.3333333333333333,
              "#9c179e"
             ],
             [
              0.4444444444444444,
              "#bd3786"
             ],
             [
              0.5555555555555556,
              "#d8576b"
             ],
             [
              0.6666666666666666,
              "#ed7953"
             ],
             [
              0.7777777777777778,
              "#fb9f3a"
             ],
             [
              0.8888888888888888,
              "#fdca26"
             ],
             [
              1,
              "#f0f921"
             ]
            ],
            "type": "heatmapgl"
           }
          ],
          "histogram": [
           {
            "marker": {
             "pattern": {
              "fillmode": "overlay",
              "size": 10,
              "solidity": 0.2
             }
            },
            "type": "histogram"
           }
          ],
          "histogram2d": [
           {
            "colorbar": {
             "outlinewidth": 0,
             "ticks": ""
            },
            "colorscale": [
             [
              0,
              "#0d0887"
             ],
             [
              0.1111111111111111,
              "#46039f"
             ],
             [
              0.2222222222222222,
              "#7201a8"
             ],
             [
              0.3333333333333333,
              "#9c179e"
             ],
             [
              0.4444444444444444,
              "#bd3786"
             ],
             [
              0.5555555555555556,
              "#d8576b"
             ],
             [
              0.6666666666666666,
              "#ed7953"
             ],
             [
              0.7777777777777778,
              "#fb9f3a"
             ],
             [
              0.8888888888888888,
              "#fdca26"
             ],
             [
              1,
              "#f0f921"
             ]
            ],
            "type": "histogram2d"
           }
          ],
          "histogram2dcontour": [
           {
            "colorbar": {
             "outlinewidth": 0,
             "ticks": ""
            },
            "colorscale": [
             [
              0,
              "#0d0887"
             ],
             [
              0.1111111111111111,
              "#46039f"
             ],
             [
              0.2222222222222222,
              "#7201a8"
             ],
             [
              0.3333333333333333,
              "#9c179e"
             ],
             [
              0.4444444444444444,
              "#bd3786"
             ],
             [
              0.5555555555555556,
              "#d8576b"
             ],
             [
              0.6666666666666666,
              "#ed7953"
             ],
             [
              0.7777777777777778,
              "#fb9f3a"
             ],
             [
              0.8888888888888888,
              "#fdca26"
             ],
             [
              1,
              "#f0f921"
             ]
            ],
            "type": "histogram2dcontour"
           }
          ],
          "mesh3d": [
           {
            "colorbar": {
             "outlinewidth": 0,
             "ticks": ""
            },
            "type": "mesh3d"
           }
          ],
          "parcoords": [
           {
            "line": {
             "colorbar": {
              "outlinewidth": 0,
              "ticks": ""
             }
            },
            "type": "parcoords"
           }
          ],
          "pie": [
           {
            "automargin": true,
            "type": "pie"
           }
          ],
          "scatter": [
           {
            "marker": {
             "colorbar": {
              "outlinewidth": 0,
              "ticks": ""
             }
            },
            "type": "scatter"
           }
          ],
          "scatter3d": [
           {
            "line": {
             "colorbar": {
              "outlinewidth": 0,
              "ticks": ""
             }
            },
            "marker": {
             "colorbar": {
              "outlinewidth": 0,
              "ticks": ""
             }
            },
            "type": "scatter3d"
           }
          ],
          "scattercarpet": [
           {
            "marker": {
             "colorbar": {
              "outlinewidth": 0,
              "ticks": ""
             }
            },
            "type": "scattercarpet"
           }
          ],
          "scattergeo": [
           {
            "marker": {
             "colorbar": {
              "outlinewidth": 0,
              "ticks": ""
             }
            },
            "type": "scattergeo"
           }
          ],
          "scattergl": [
           {
            "marker": {
             "colorbar": {
              "outlinewidth": 0,
              "ticks": ""
             }
            },
            "type": "scattergl"
           }
          ],
          "scattermapbox": [
           {
            "marker": {
             "colorbar": {
              "outlinewidth": 0,
              "ticks": ""
             }
            },
            "type": "scattermapbox"
           }
          ],
          "scatterpolar": [
           {
            "marker": {
             "colorbar": {
              "outlinewidth": 0,
              "ticks": ""
             }
            },
            "type": "scatterpolar"
           }
          ],
          "scatterpolargl": [
           {
            "marker": {
             "colorbar": {
              "outlinewidth": 0,
              "ticks": ""
             }
            },
            "type": "scatterpolargl"
           }
          ],
          "scatterternary": [
           {
            "marker": {
             "colorbar": {
              "outlinewidth": 0,
              "ticks": ""
             }
            },
            "type": "scatterternary"
           }
          ],
          "surface": [
           {
            "colorbar": {
             "outlinewidth": 0,
             "ticks": ""
            },
            "colorscale": [
             [
              0,
              "#0d0887"
             ],
             [
              0.1111111111111111,
              "#46039f"
             ],
             [
              0.2222222222222222,
              "#7201a8"
             ],
             [
              0.3333333333333333,
              "#9c179e"
             ],
             [
              0.4444444444444444,
              "#bd3786"
             ],
             [
              0.5555555555555556,
              "#d8576b"
             ],
             [
              0.6666666666666666,
              "#ed7953"
             ],
             [
              0.7777777777777778,
              "#fb9f3a"
             ],
             [
              0.8888888888888888,
              "#fdca26"
             ],
             [
              1,
              "#f0f921"
             ]
            ],
            "type": "surface"
           }
          ],
          "table": [
           {
            "cells": {
             "fill": {
              "color": "#EBF0F8"
             },
             "line": {
              "color": "white"
             }
            },
            "header": {
             "fill": {
              "color": "#C8D4E3"
             },
             "line": {
              "color": "white"
             }
            },
            "type": "table"
           }
          ]
         },
         "layout": {
          "annotationdefaults": {
           "arrowcolor": "#2a3f5f",
           "arrowhead": 0,
           "arrowwidth": 1
          },
          "autotypenumbers": "strict",
          "coloraxis": {
           "colorbar": {
            "outlinewidth": 0,
            "ticks": ""
           }
          },
          "colorscale": {
           "diverging": [
            [
             0,
             "#8e0152"
            ],
            [
             0.1,
             "#c51b7d"
            ],
            [
             0.2,
             "#de77ae"
            ],
            [
             0.3,
             "#f1b6da"
            ],
            [
             0.4,
             "#fde0ef"
            ],
            [
             0.5,
             "#f7f7f7"
            ],
            [
             0.6,
             "#e6f5d0"
            ],
            [
             0.7,
             "#b8e186"
            ],
            [
             0.8,
             "#7fbc41"
            ],
            [
             0.9,
             "#4d9221"
            ],
            [
             1,
             "#276419"
            ]
           ],
           "sequential": [
            [
             0,
             "#0d0887"
            ],
            [
             0.1111111111111111,
             "#46039f"
            ],
            [
             0.2222222222222222,
             "#7201a8"
            ],
            [
             0.3333333333333333,
             "#9c179e"
            ],
            [
             0.4444444444444444,
             "#bd3786"
            ],
            [
             0.5555555555555556,
             "#d8576b"
            ],
            [
             0.6666666666666666,
             "#ed7953"
            ],
            [
             0.7777777777777778,
             "#fb9f3a"
            ],
            [
             0.8888888888888888,
             "#fdca26"
            ],
            [
             1,
             "#f0f921"
            ]
           ],
           "sequentialminus": [
            [
             0,
             "#0d0887"
            ],
            [
             0.1111111111111111,
             "#46039f"
            ],
            [
             0.2222222222222222,
             "#7201a8"
            ],
            [
             0.3333333333333333,
             "#9c179e"
            ],
            [
             0.4444444444444444,
             "#bd3786"
            ],
            [
             0.5555555555555556,
             "#d8576b"
            ],
            [
             0.6666666666666666,
             "#ed7953"
            ],
            [
             0.7777777777777778,
             "#fb9f3a"
            ],
            [
             0.8888888888888888,
             "#fdca26"
            ],
            [
             1,
             "#f0f921"
            ]
           ]
          },
          "colorway": [
           "#636efa",
           "#EF553B",
           "#00cc96",
           "#ab63fa",
           "#FFA15A",
           "#19d3f3",
           "#FF6692",
           "#B6E880",
           "#FF97FF",
           "#FECB52"
          ],
          "font": {
           "color": "#2a3f5f"
          },
          "geo": {
           "bgcolor": "white",
           "lakecolor": "white",
           "landcolor": "#E5ECF6",
           "showlakes": true,
           "showland": true,
           "subunitcolor": "white"
          },
          "hoverlabel": {
           "align": "left"
          },
          "hovermode": "closest",
          "mapbox": {
           "style": "light"
          },
          "paper_bgcolor": "white",
          "plot_bgcolor": "#E5ECF6",
          "polar": {
           "angularaxis": {
            "gridcolor": "white",
            "linecolor": "white",
            "ticks": ""
           },
           "bgcolor": "#E5ECF6",
           "radialaxis": {
            "gridcolor": "white",
            "linecolor": "white",
            "ticks": ""
           }
          },
          "scene": {
           "xaxis": {
            "backgroundcolor": "#E5ECF6",
            "gridcolor": "white",
            "gridwidth": 2,
            "linecolor": "white",
            "showbackground": true,
            "ticks": "",
            "zerolinecolor": "white"
           },
           "yaxis": {
            "backgroundcolor": "#E5ECF6",
            "gridcolor": "white",
            "gridwidth": 2,
            "linecolor": "white",
            "showbackground": true,
            "ticks": "",
            "zerolinecolor": "white"
           },
           "zaxis": {
            "backgroundcolor": "#E5ECF6",
            "gridcolor": "white",
            "gridwidth": 2,
            "linecolor": "white",
            "showbackground": true,
            "ticks": "",
            "zerolinecolor": "white"
           }
          },
          "shapedefaults": {
           "line": {
            "color": "#2a3f5f"
           }
          },
          "ternary": {
           "aaxis": {
            "gridcolor": "white",
            "linecolor": "white",
            "ticks": ""
           },
           "baxis": {
            "gridcolor": "white",
            "linecolor": "white",
            "ticks": ""
           },
           "bgcolor": "#E5ECF6",
           "caxis": {
            "gridcolor": "white",
            "linecolor": "white",
            "ticks": ""
           }
          },
          "title": {
           "x": 0.05
          },
          "xaxis": {
           "automargin": true,
           "gridcolor": "white",
           "linecolor": "white",
           "ticks": "",
           "title": {
            "standoff": 15
           },
           "zerolinecolor": "white",
           "zerolinewidth": 2
          },
          "yaxis": {
           "automargin": true,
           "gridcolor": "white",
           "linecolor": "white",
           "ticks": "",
           "title": {
            "standoff": 15
           },
           "zerolinecolor": "white",
           "zerolinewidth": 2
          }
         }
        },
        "title": {
         "text": "PCA projection of the 15 categories into the 3 Principal components"
        },
        "width": 1000,
        "xaxis": {
         "anchor": "y",
         "domain": [
          0,
          1
         ],
         "title": {
          "text": "Principal component 1"
         }
        },
        "yaxis": {
         "anchor": "x",
         "domain": [
          0,
          1
         ],
         "title": {
          "text": "Principal component 2"
         }
        }
       }
      }
     },
     "metadata": {},
     "output_type": "display_data"
    }
   ],
   "source": [
    "User_modify_2=pd.DataFrame( User_modify_2)\n",
    "User_modify_2.columns=['Principal component 1','Principal component 2']\n",
    "User_modify_2['cluster_assigned']=user_to_cat_first['cluster_assigned'].values\n",
    "fig = px.scatter(User_modify_3, x='Principal component 1', y='Principal component 2',opacity =1,\n",
    "             color='cluster_assigned' ,size_max =50,width=1000, height=600,title ='PCA projection of the 15 categories into the 3 Principal components')\n",
    "\n",
    "fig.show()\n",
    "fig.write_html(\"cluster_2dvisual.html\")"
   ]
  },
  {
   "cell_type": "code",
   "execution_count": 78,
   "metadata": {},
   "outputs": [],
   "source": [
    "# We also want to visualize our clustering with a non-linear projection techniques. Therefore, we use UMAP method"
   ]
  },
  {
   "cell_type": "code",
   "execution_count": 79,
   "metadata": {},
   "outputs": [],
   "source": [
    "trans = UMAP(n_neighbors=70, random_state=852484677).fit(user_to_cat_first[user_to_cat_first.columns[0:15]].values)\n",
    "user_projected_umap=pd.DataFrame(trans.embedding_)\n",
    "user_projected_umap.columns=['Axis x','Axis y']\n",
    "user_projected_umap['cluster_assigned']=user_to_cat_first['cluster_assigned'].values"
   ]
  },
  {
   "cell_type": "code",
   "execution_count": 80,
   "metadata": {},
   "outputs": [
    {
     "data": {
      "application/vnd.plotly.v1+json": {
       "config": {
        "plotlyServerURL": "https://plot.ly"
       },
       "data": [
        {
         "hovertemplate": "cluster_assigned=Jean-Michel IPA<br>Axis x=%{x}<br>Axis y=%{y}<extra></extra>",
         "legendgroup": "Jean-Michel IPA",
         "marker": {
          "color": "#636efa",
          "opacity": 1,
          "symbol": "circle"
         },
         "mode": "markers",
         "name": "Jean-Michel IPA",
         "orientation": "v",
         "showlegend": true,
         "type": "scatter",
         "x": [
          -0.5336853265762329,
          1.229577660560608,
          -0.13383285701274872,
          -0.8390582799911499,
          0.764096736907959,
          1.0720056295394897,
          -0.860582709312439,
          1.0449362993240356,
          1.6535511016845703,
          1.5650696754455566,
          1.7652736902236938,
          -0.08274388313293457,
          1.9199689626693726,
          1.6516793966293335,
          -0.8273476958274841,
          1.8806368112564087,
          0.4457230269908905,
          -0.7612266540527344,
          1.6055017709732056,
          2.17995548248291,
          0.9020557403564453,
          1.5580042600631714,
          1.072693109512329,
          2.0102345943450928,
          0.9580232501029968,
          1.440313696861267,
          -0.5784969925880432,
          -0.3190371096134186,
          1.1036052703857422,
          0.5566195249557495,
          1.8494462966918945,
          0.3941517174243927,
          0.7820268273353577,
          0.24940742552280426,
          -1.1306254863739014,
          1.5133854150772095,
          -0.9490917921066284,
          -0.8323341608047485,
          1.9154289960861206,
          0.5569950342178345,
          1.3177907466888428,
          0.6148163676261902,
          -1.0095276832580566,
          0.25108224153518677,
          -0.9593455195426941,
          -0.8894245624542236,
          -0.059870559722185135,
          0.8322007656097412,
          1.252759575843811,
          -0.3078921437263489,
          -0.8388194441795349,
          0.8415567874908447,
          1.4265474081039429,
          0.2584136128425598,
          0.5619570016860962,
          0.8681800961494446,
          2.409738779067993,
          -0.7888434529304504,
          -0.5458635687828064,
          1.4710878133773804,
          1.0587655305862427,
          -0.006505655590444803,
          2.0618886947631836,
          1.700747013092041,
          1.591143012046814,
          -0.043014559894800186,
          -0.6672240495681763,
          -0.7377884984016418,
          -0.5771228075027466,
          0.7878267168998718,
          -0.7031273245811462,
          0.88306725025177,
          0.9768388867378235,
          2.649050712585449,
          0.6202844381332397,
          -0.14434374868869781,
          1.449081301689148,
          -0.777556836605072,
          1.1463675498962402,
          -1.0439937114715576,
          -0.7104232311248779,
          -1.2227121591567993,
          1.989117980003357,
          1.32729172706604,
          -1.1667221784591675,
          1.8209792375564575,
          -0.11936123669147491,
          2.1230266094207764,
          -0.5600840449333191,
          -0.8217303156852722,
          0.33312708139419556,
          1.3098984956741333,
          0.09732157737016678,
          2.242433786392212,
          0.7088330388069153,
          1.828493356704712,
          2.3034956455230713,
          -0.4762468934059143,
          1.5813051462173462,
          -0.7022753953933716,
          1.8164440393447876,
          0.757837176322937,
          1.1823654174804688,
          -0.45721644163131714,
          0.19131392240524292,
          0.7651597857475281,
          0.47149667143821716,
          0.8607484698295593,
          0.016841422766447067,
          1.2802388668060303,
          1.8639898300170898,
          -0.2423495352268219,
          1.7877376079559326,
          -0.2336186021566391,
          2.1850101947784424,
          1.5989344120025635,
          -0.31287381052970886,
          0.7070351243019104,
          1.2363133430480957,
          -0.40056532621383667,
          0.46178051829338074,
          2.1100428104400635,
          1.7540682554244995,
          -0.9151562452316284,
          1.4956456422805786,
          1.8951882123947144,
          0.5928604602813721,
          -0.29981446266174316,
          1.8157378435134888,
          -0.2511760890483856,
          2.5461061000823975,
          -0.41892209649086,
          -1.140953779220581,
          0.8126182556152344,
          -0.5058416128158569,
          1.3786543607711792,
          -0.8858111500740051,
          0.04476913809776306,
          0.258314311504364,
          1.4122273921966553,
          -0.6504500508308411,
          1.0410510301589966,
          1.8100368976593018,
          1.4350382089614868,
          2.103811502456665,
          3.3710007667541504,
          0.035162750631570816,
          -0.4987160563468933,
          -0.3195721507072449,
          -0.10386750102043152,
          0.23753416538238525,
          1.3468568325042725,
          0.8995474576950073,
          -0.012697592377662659,
          0.5975093841552734,
          1.2264816761016846,
          -0.5759571194648743,
          1.9882804155349731,
          1.8621814250946045,
          0.46444451808929443,
          -0.9123585820198059,
          -0.8987513780593872,
          0.6259156465530396,
          -0.5341193675994873,
          -0.5429232716560364,
          1.3124682903289795,
          1.725738286972046,
          0.5878011584281921,
          -1.1904358863830566,
          -0.8794100880622864,
          1.5038667917251587,
          1.3092856407165527,
          1.5489082336425781,
          0.6059017777442932,
          1.329461932182312,
          0.44664430618286133,
          1.6006349325180054,
          0.4858749806880951,
          1.583242416381836,
          0.28587886691093445,
          -1.1847167015075684,
          -0.3472241759300232,
          1.2243441343307495,
          0.7280805706977844,
          1.9347178936004639,
          1.5390149354934692,
          1.2407426834106445,
          0.013233860954642296,
          1.7565147876739502,
          -0.5016778707504272,
          1.3561152219772339,
          -0.3158213794231415,
          1.4514644145965576,
          0.6517804265022278,
          -0.8389742374420166,
          -0.28816697001457214,
          1.7775254249572754,
          0.10106318444013596,
          1.1061747074127197,
          0.9505448937416077,
          1.1284246444702148,
          1.724703073501587,
          1.4085880517959595,
          1.5231353044509888,
          0.02341610938310623,
          1.0418974161148071,
          -0.31787171959877014,
          -0.9091624021530151,
          -0.04229479283094406,
          -0.7476251721382141,
          0.373880535364151,
          1.5892378091812134,
          -0.20004580914974213,
          1.314178705215454,
          0.8531675934791565,
          1.2822234630584717,
          0.6615315079689026,
          0.08978090435266495,
          1.0190551280975342,
          0.5208097696304321,
          1.139490008354187,
          -1.1135176420211792,
          -0.6174629926681519,
          0.1650284230709076,
          2.1041014194488525,
          1.8173000812530518,
          0.5954521298408508,
          -0.0070673562586307526,
          1.8844672441482544,
          -0.8956051468849182,
          1.5923643112182617,
          2.1948082447052,
          1.3152549266815186,
          0.993781328201294,
          2.1284382343292236,
          0.4644140601158142,
          0.8129918575286865,
          1.1694363355636597,
          1.4689040184020996
         ],
         "xaxis": "x",
         "y": [
          4.616734027862549,
          6.437345504760742,
          5.411885738372803,
          4.324301242828369,
          4.839544773101807,
          4.094214916229248,
          4.781951427459717,
          4.230141639709473,
          5.902685642242432,
          5.58925199508667,
          4.569763660430908,
          3.8623430728912354,
          4.23345422744751,
          6.290689945220947,
          4.367956638336182,
          4.67420768737793,
          4.16462516784668,
          4.422101020812988,
          4.6642961502075195,
          4.127535820007324,
          5.670572280883789,
          6.716556549072266,
          4.813406467437744,
          4.927809715270996,
          5.32174015045166,
          4.8951263427734375,
          5.0622968673706055,
          5.004433631896973,
          5.180169582366943,
          3.7695724964141846,
          3.5506997108459473,
          4.185398101806641,
          4.599104881286621,
          3.858455181121826,
          4.5665202140808105,
          4.716263771057129,
          4.607347011566162,
          4.832257270812988,
          4.290925979614258,
          5.072368621826172,
          4.605112075805664,
          4.089447498321533,
          4.341163158416748,
          5.025317192077637,
          4.633028507232666,
          4.482944488525391,
          4.260688781738281,
          5.671922206878662,
          5.3677897453308105,
          4.108395099639893,
          4.572649955749512,
          4.482228755950928,
          5.668856143951416,
          5.54320764541626,
          4.061639308929443,
          5.216645240783691,
          3.5243680477142334,
          4.213892936706543,
          5.1785197257995605,
          5.117814540863037,
          5.33151912689209,
          4.537112712860107,
          4.8230671882629395,
          4.270369052886963,
          5.189626216888428,
          4.309647083282471,
          4.520867347717285,
          5.139802932739258,
          4.2647271156311035,
          5.918753147125244,
          4.327991962432861,
          4.890705585479736,
          6.1056718826293945,
          3.5588371753692627,
          5.5324931144714355,
          3.8925554752349854,
          4.802604675292969,
          5.07421875,
          5.362138748168945,
          4.428400993347168,
          5.194726467132568,
          4.5323262214660645,
          4.26061487197876,
          5.936480522155762,
          4.606235027313232,
          5.583703517913818,
          5.426918029785156,
          4.560378551483154,
          4.81321382522583,
          4.46077299118042,
          3.8940110206604004,
          4.605409145355225,
          4.617676734924316,
          3.8654873371124268,
          4.69619083404541,
          4.7667365074157715,
          3.9439868927001953,
          5.22501277923584,
          4.158797740936279,
          4.765989303588867,
          5.659739017486572,
          4.7815961837768555,
          5.6601972579956055,
          4.353544235229492,
          4.151240348815918,
          4.108597278594971,
          4.232269287109375,
          4.324821472167969,
          4.841145038604736,
          3.9266951084136963,
          5.06521463394165,
          5.259029865264893,
          4.4026360511779785,
          4.8721537590026855,
          5.582339286804199,
          5.838264465332031,
          4.640124797821045,
          4.868829250335693,
          4.687378406524658,
          5.147369861602783,
          4.762669563293457,
          4.657724380493164,
          4.355288982391357,
          4.74889612197876,
          5.860213756561279,
          4.742309093475342,
          4.473061561584473,
          5.1664042472839355,
          4.58097505569458,
          3.9894800186157227,
          3.863675832748413,
          4.365800857543945,
          4.534902572631836,
          4.3170390129089355,
          4.348273277282715,
          3.8645975589752197,
          4.559349536895752,
          5.4148454666137695,
          3.860236883163452,
          3.9970383644104004,
          5.1570024490356445,
          5.870411396026611,
          4.1644816398620605,
          4.12872314453125,
          4.808502197265625,
          3.009455919265747,
          4.802855968475342,
          5.111800670623779,
          5.297355651855469,
          4.105336666107178,
          4.498042106628418,
          5.2022809982299805,
          3.869750738143921,
          4.257943630218506,
          4.174233436584473,
          4.120695114135742,
          4.30696439743042,
          4.885165691375732,
          4.139538288116455,
          5.691938400268555,
          4.48370361328125,
          4.272533416748047,
          5.761787414550781,
          4.548072814941406,
          4.25136137008667,
          5.904227256774902,
          4.469048500061035,
          4.525561809539795,
          4.555093765258789,
          4.66646146774292,
          4.131405830383301,
          5.926583290100098,
          3.444817304611206,
          4.143794536590576,
          4.376996040344238,
          4.47920036315918,
          4.655941009521484,
          4.0781965255737305,
          4.669699192047119,
          4.516068935394287,
          4.5963215827941895,
          5.136813640594482,
          4.804194450378418,
          4.785299777984619,
          4.535558700561523,
          6.457968235015869,
          6.433450698852539,
          4.714587688446045,
          4.704070568084717,
          4.290207386016846,
          5.346655368804932,
          4.427005767822266,
          5.077741622924805,
          5.847396373748779,
          4.577689170837402,
          4.5846333503723145,
          3.4692606925964355,
          5.628127098083496,
          4.825618743896484,
          5.094221115112305,
          4.176661014556885,
          4.4770026206970215,
          5.928378582000732,
          5.721922397613525,
          5.408295154571533,
          4.680724620819092,
          4.210740566253662,
          4.864037990570068,
          4.680831432342529,
          4.608711242675781,
          4.353116989135742,
          4.241563320159912,
          4.265678405761719,
          5.1041460037231445,
          5.4336838722229,
          4.848776340484619,
          4.241862773895264,
          4.414157390594482,
          4.078149318695068,
          5.716387748718262,
          5.1084723472595215,
          4.494362831115723,
          5.102994441986084,
          4.236929893493652,
          3.9370334148406982,
          4.560062885284424,
          4.286479473114014,
          4.205771446228027,
          4.339003086090088,
          4.949193954467773,
          5.902202606201172,
          3.5244979858398438,
          4.194247722625732,
          5.687236309051514,
          5.089576244354248,
          4.872239112854004,
          5.67562198638916,
          4.5890116691589355,
          4.808223724365234
         ],
         "yaxis": "y"
        },
        {
         "hovertemplate": "cluster_assigned=Ada the explorer<br>Axis x=%{x}<br>Axis y=%{y}<extra></extra>",
         "legendgroup": "Ada the explorer",
         "marker": {
          "color": "#EF553B",
          "opacity": 1,
          "symbol": "circle"
         },
         "mode": "markers",
         "name": "Ada the explorer",
         "orientation": "v",
         "showlegend": true,
         "type": "scatter",
         "x": [
          6.256021022796631,
          4.202884197235107,
          5.488187313079834,
          4.092648506164551,
          4.245785713195801,
          5.045271396636963,
          2.9936957359313965,
          5.572925090789795,
          4.084099769592285,
          3.734027862548828,
          3.159210681915283,
          4.355695724487305,
          4.451573371887207,
          5.45941686630249,
          5.061920166015625,
          3.866041898727417,
          3.609825372695923,
          5.804538249969482,
          5.387553691864014,
          6.502169132232666,
          5.030970096588135,
          6.0047221183776855,
          5.389481544494629,
          5.133419990539551,
          3.2212719917297363,
          5.18645715713501,
          3.8069162368774414,
          5.387575626373291,
          4.6059956550598145,
          5.547313690185547,
          5.517667770385742,
          2.2379536628723145,
          5.812898635864258,
          3.8064849376678467,
          3.7876391410827637,
          4.065725803375244,
          5.553552150726318,
          5.7458906173706055,
          6.556669235229492,
          5.923744201660156,
          3.3498456478118896,
          4.708120346069336,
          4.111354827880859,
          6.056626796722412,
          3.522758722305298,
          5.0725555419921875,
          5.102563381195068,
          4.980199813842773,
          5.363207817077637,
          5.856199741363525,
          4.183999061584473,
          5.54807710647583,
          3.215571403503418,
          4.272638320922852,
          3.347597122192383,
          4.4915947914123535,
          2.2737600803375244,
          2.4781606197357178,
          3.485128879547119,
          4.514819145202637,
          3.4969136714935303,
          5.823127269744873,
          3.378230571746826,
          3.7982161045074463,
          5.392641544342041,
          5.493753433227539,
          6.245707035064697,
          5.376894474029541,
          2.343759775161743,
          5.223812580108643,
          2.797694444656372,
          2.720682144165039,
          2.2081785202026367,
          2.533308982849121,
          3.9592080116271973,
          6.661930561065674,
          4.548267841339111,
          2.1927311420440674,
          3.760657787322998,
          3.130281686782837,
          3.744563579559326,
          2.528651237487793,
          4.113389492034912,
          3.609954357147217,
          4.040801525115967,
          3.892902374267578,
          5.069269180297852,
          5.36456298828125,
          3.966960906982422,
          5.68704891204834,
          4.368435382843018,
          4.90034294128418,
          3.56661319732666,
          5.542782306671143,
          3.9165961742401123,
          4.836172580718994,
          3.1380715370178223,
          6.197511672973633,
          5.301302433013916,
          3.165313959121704,
          2.287160634994507,
          2.437819719314575,
          2.7494330406188965,
          5.126584053039551,
          5.199021816253662,
          1.8566778898239136,
          3.6398637294769287,
          4.418040752410889,
          3.121180534362793,
          2.2557294368743896,
          2.7029905319213867,
          3.2294931411743164,
          5.182778835296631,
          4.741594314575195,
          4.677999973297119,
          6.11522102355957,
          5.24005126953125,
          4.106530666351318,
          4.74751615524292,
          5.899039268493652,
          3.840611219406128,
          2.8863284587860107,
          6.243235111236572,
          4.307089805603027,
          3.0033011436462402,
          2.7857863903045654,
          5.649327278137207,
          5.746214866638184,
          4.622255802154541,
          5.504083156585693,
          2.512941598892212,
          4.142959117889404,
          6.428166389465332,
          3.550633192062378,
          5.165892601013184,
          3.453627347946167,
          4.751948356628418,
          6.099806308746338,
          4.03452205657959,
          5.211306571960449,
          3.9593656063079834,
          5.752756595611572,
          3.8981404304504395,
          4.730575084686279,
          4.03012752532959,
          3.2964978218078613,
          6.351639270782471,
          4.4442291259765625,
          6.366689205169678,
          5.511112689971924,
          6.023242473602295,
          5.327816009521484,
          4.419682502746582,
          5.7447428703308105,
          4.574733734130859,
          6.2854509353637695,
          4.90275764465332,
          3.529801368713379,
          4.982329368591309,
          3.837596893310547,
          3.221295118331909,
          3.9794089794158936,
          3.269731283187866,
          3.132603406906128,
          5.559795379638672,
          4.46814489364624,
          5.33939266204834,
          3.2292981147766113,
          5.634698867797852,
          4.47961950302124,
          2.8556265830993652,
          4.841692924499512,
          4.364794731140137,
          2.0318052768707275,
          4.909196376800537,
          3.5183844566345215,
          4.137828826904297,
          5.746446132659912,
          4.7753705978393555,
          3.848874092102051,
          6.311826229095459,
          5.381378173828125,
          4.705358982086182,
          3.003695249557495,
          3.757195472717285,
          5.2665486335754395,
          5.541014194488525,
          3.276654005050659,
          3.0954246520996094,
          3.051600694656372,
          3.6140031814575195,
          4.0798420906066895,
          2.294992446899414,
          4.420896053314209,
          4.751044750213623,
          3.4080965518951416,
          4.5451202392578125,
          4.505868434906006,
          5.563692569732666,
          3.2689971923828125,
          5.197865009307861,
          3.145768642425537,
          3.43628191947937,
          4.020021915435791,
          2.2385830879211426,
          4.156153678894043,
          4.874711990356445,
          3.414072036743164,
          5.8011603355407715,
          5.325516223907471,
          5.177107810974121,
          5.089625835418701,
          6.015450954437256,
          3.945868730545044,
          3.7132039070129395,
          2.798053503036499,
          4.965204238891602,
          4.339724540710449,
          4.488369464874268,
          2.1591498851776123,
          5.316330432891846,
          5.478959083557129,
          3.1485228538513184,
          4.750102519989014,
          4.906053066253662,
          5.893087863922119,
          3.9389448165893555,
          4.768319606781006,
          5.354901313781738,
          4.210753440856934,
          5.5778021812438965,
          6.237837314605713,
          4.1413068771362305,
          6.597026824951172,
          5.389564514160156,
          5.8563032150268555,
          4.105496883392334,
          2.62892484664917,
          3.073620319366455,
          3.2521605491638184,
          3.842315435409546,
          5.465669631958008,
          4.115055561065674,
          3.3169057369232178,
          4.901468753814697,
          6.438604831695557,
          4.3784074783325195,
          3.519105911254883,
          3.5017175674438477,
          3.320924997329712,
          5.422479152679443,
          6.012297630310059,
          5.211453914642334,
          2.627350330352783,
          4.53061580657959,
          3.095623016357422,
          5.302481651306152,
          3.0496485233306885,
          6.205986499786377,
          5.615082263946533,
          4.843662261962891,
          3.659917116165161,
          3.241363525390625,
          4.722891807556152,
          4.009289264678955,
          4.195868015289307,
          3.8432929515838623,
          4.369547367095947,
          2.7820534706115723,
          3.5319149494171143,
          5.069162845611572,
          5.7522993087768555,
          5.082475662231445,
          4.9143290519714355,
          2.4141879081726074,
          3.803398370742798,
          6.279609203338623,
          3.1491127014160156,
          3.608215808868408,
          5.364786624908447,
          4.891485214233398,
          5.410860538482666,
          5.2618560791015625,
          4.646130561828613,
          5.009796619415283,
          6.114685535430908,
          4.790642738342285,
          3.9669337272644043,
          5.6839919090271,
          4.4125471115112305,
          5.840603828430176,
          3.8351471424102783,
          4.018909931182861,
          3.7092084884643555,
          5.4259748458862305,
          4.528219699859619,
          3.1465346813201904,
          4.806422233581543,
          3.7187161445617676,
          6.164773941040039,
          6.089913845062256,
          4.606592655181885,
          5.749811172485352,
          5.990977764129639,
          3.226369619369507,
          2.8499088287353516,
          3.8252882957458496,
          5.261931419372559,
          3.0619027614593506,
          5.327426433563232,
          3.815263271331787,
          5.684274196624756,
          3.6768736839294434,
          5.57884407043457,
          5.603447437286377,
          5.926090240478516,
          4.652423858642578,
          5.518662452697754,
          3.5761191844940186,
          4.225950241088867,
          5.498517036437988,
          5.245397090911865,
          2.907940626144409,
          5.822135925292969,
          3.7824289798736572,
          2.9659578800201416,
          2.954942464828491,
          5.262502670288086,
          5.51486349105835,
          4.572118759155273,
          2.4840915203094482,
          4.495641708374023,
          5.449289321899414,
          2.13901948928833,
          3.9470107555389404,
          5.803533554077148,
          5.282548904418945,
          5.084602355957031,
          4.60911750793457,
          4.689818859100342,
          2.6271822452545166,
          5.747500896453857,
          6.122339725494385,
          2.29718279838562,
          3.6109507083892822,
          2.3851068019866943,
          4.071744441986084,
          2.5813162326812744,
          2.8965046405792236,
          3.537491798400879,
          4.586916446685791,
          4.521846294403076,
          2.8956246376037598,
          4.504093170166016,
          4.157406806945801,
          4.686525344848633,
          4.614798545837402,
          4.820689678192139,
          5.84743595123291,
          6.079132556915283,
          5.3333306312561035,
          4.350576877593994,
          5.265746116638184,
          3.295196056365967,
          3.396552562713623,
          5.021524429321289,
          3.029587984085083,
          6.404478549957275,
          4.090675354003906,
          4.064830780029297,
          4.482021331787109,
          4.71732234954834,
          5.180131912231445,
          4.029828071594238,
          3.9215946197509766,
          5.67166805267334,
          5.337732315063477,
          3.2830684185028076,
          4.445193767547607,
          4.147468566894531,
          5.947324752807617,
          6.577099323272705,
          4.760730743408203,
          3.472055435180664,
          2.486584424972534,
          5.781355857849121,
          4.27095365524292,
          5.679364204406738,
          4.10406494140625,
          6.507437229156494,
          5.215890884399414,
          4.460949897766113,
          5.267852783203125,
          5.3522748947143555
         ],
         "xaxis": "x",
         "y": [
          4.376097679138184,
          4.287029266357422,
          6.055397033691406,
          2.9654862880706787,
          4.359729290008545,
          5.670419692993164,
          4.643491268157959,
          4.413689613342285,
          5.77706241607666,
          4.372649669647217,
          4.015865802764893,
          4.296435356140137,
          3.9395463466644287,
          6.253072738647461,
          4.187314510345459,
          4.953013896942139,
          3.3691296577453613,
          5.214700222015381,
          4.391713619232178,
          3.920841932296753,
          4.13516902923584,
          5.002191066741943,
          4.029595375061035,
          4.671853065490723,
          3.8608813285827637,
          5.698097229003906,
          2.987269639968872,
          4.718114376068115,
          4.595627307891846,
          5.921560287475586,
          5.546123027801514,
          4.486264228820801,
          4.22086238861084,
          5.603377819061279,
          5.02450704574585,
          3.3885364532470703,
          4.071100234985352,
          3.9838507175445557,
          5.079578876495361,
          5.562204360961914,
          3.168316125869751,
          4.378706932067871,
          3.8561747074127197,
          4.782005786895752,
          4.992116928100586,
          4.830353260040283,
          5.072293281555176,
          5.731555461883545,
          5.994229316711426,
          3.7844510078430176,
          4.410135746002197,
          5.080136775970459,
          3.907719135284424,
          4.925881862640381,
          3.281092882156372,
          5.022409439086914,
          4.200684070587158,
          5.204949378967285,
          3.037432909011841,
          4.016414165496826,
          4.1850266456604,
          3.8957133293151855,
          3.9010415077209473,
          4.489511966705322,
          4.226498603820801,
          4.629228115081787,
          4.681787014007568,
          4.204768180847168,
          5.070516109466553,
          6.23809289932251,
          3.9725518226623535,
          4.810948371887207,
          5.029848575592041,
          4.805333137512207,
          5.321441650390625,
          4.018520832061768,
          5.100415229797363,
          4.888715744018555,
          3.0460941791534424,
          5.608273029327393,
          3.671292543411255,
          4.573735237121582,
          4.693640232086182,
          3.983663320541382,
          3.9565231800079346,
          3.735065221786499,
          3.402362585067749,
          5.278740406036377,
          4.143669128417969,
          3.2281625270843506,
          3.9667084217071533,
          4.882566452026367,
          3.0360100269317627,
          5.695505619049072,
          4.019985198974609,
          6.765463352203369,
          5.193418502807617,
          5.494344234466553,
          4.00759220123291,
          3.463991641998291,
          5.872954845428467,
          5.5458903312683105,
          4.259334087371826,
          5.380760192871094,
          4.9689178466796875,
          4.385255336761475,
          5.826981544494629,
          4.6514892578125,
          3.7045371532440186,
          5.204605579376221,
          4.355323314666748,
          4.617557048797607,
          5.426163673400879,
          6.679157257080078,
          5.021553993225098,
          4.227161884307861,
          5.311756610870361,
          4.024660110473633,
          3.8833229541778564,
          5.334228038787842,
          4.215839862823486,
          4.258842468261719,
          5.018853187561035,
          3.5515410900115967,
          3.6706860065460205,
          5.503714561462402,
          3.634157657623291,
          5.276862621307373,
          3.843780517578125,
          3.334841012954712,
          4.6051225662231445,
          6.007278919219971,
          5.296507358551025,
          4.266758441925049,
          4.103851795196533,
          3.12317156791687,
          5.526257514953613,
          4.766517162322998,
          2.9396679401397705,
          4.369316101074219,
          3.0130422115325928,
          4.464632034301758,
          4.352417945861816,
          4.316494941711426,
          3.331768035888672,
          3.237347364425659,
          3.724832773208618,
          3.7654943466186523,
          5.1086745262146,
          4.305169105529785,
          3.8147213459014893,
          4.592596530914307,
          5.71373176574707,
          5.633293151855469,
          5.049206256866455,
          5.306815147399902,
          5.842287063598633,
          5.485147476196289,
          3.7213239669799805,
          5.868274688720703,
          3.3061978816986084,
          3.05342698097229,
          3.7709238529205322,
          4.074748992919922,
          5.103516578674316,
          5.830502986907959,
          6.078958034515381,
          3.197619915008545,
          3.4769906997680664,
          4.947953701019287,
          4.182406902313232,
          4.296399116516113,
          5.058563709259033,
          4.809281826019287,
          6.328463554382324,
          3.472172260284424,
          3.437558889389038,
          3.7334043979644775,
          5.233293533325195,
          3.2880091667175293,
          4.0804057121276855,
          6.01679801940918,
          3.5641393661499023,
          5.415282726287842,
          3.5172555446624756,
          5.090241432189941,
          4.72883415222168,
          4.181588649749756,
          3.277907609939575,
          4.8806633949279785,
          5.401494026184082,
          2.945441722869873,
          4.661645412445068,
          4.7615742683410645,
          4.659882545471191,
          5.42903995513916,
          4.728302001953125,
          6.0258283615112305,
          6.019036769866943,
          4.996016979217529,
          5.689431190490723,
          3.8956875801086426,
          5.008159637451172,
          3.379751205444336,
          4.619409561157227,
          3.0461020469665527,
          6.053355693817139,
          3.512451648712158,
          5.7007155418396,
          6.209902286529541,
          5.523505687713623,
          5.117532730102539,
          3.9917500019073486,
          4.745449066162109,
          4.368748188018799,
          5.459972858428955,
          5.362308502197266,
          5.52256441116333,
          4.887486457824707,
          5.2297282218933105,
          3.802947521209717,
          6.139339923858643,
          5.786828994750977,
          4.266860008239746,
          5.913992404937744,
          5.080049991607666,
          3.857675790786743,
          4.616968154907227,
          6.2124409675598145,
          3.5082509517669678,
          4.543865203857422,
          5.209239959716797,
          3.302072525024414,
          3.9475934505462646,
          5.622969627380371,
          4.101765155792236,
          5.4788641929626465,
          4.517475605010986,
          3.716075897216797,
          5.683323383331299,
          3.8115391731262207,
          6.0208539962768555,
          4.353979110717773,
          3.725099563598633,
          4.73542594909668,
          3.9421157836914062,
          4.478582859039307,
          3.604367733001709,
          4.382582664489746,
          5.213747024536133,
          4.253367900848389,
          4.631353855133057,
          5.776437759399414,
          4.2348246574401855,
          5.103226184844971,
          3.6635377407073975,
          6.062924385070801,
          5.062710285186768,
          5.156574726104736,
          5.590753078460693,
          5.097049236297607,
          3.525390386581421,
          5.396718502044678,
          4.490872859954834,
          3.5502443313598633,
          3.836574077606201,
          5.223414897918701,
          3.2970643043518066,
          4.605896472930908,
          4.592989444732666,
          5.102030277252197,
          5.5104875564575195,
          5.62822151184082,
          5.784837245941162,
          5.153161525726318,
          3.4435198307037354,
          5.352370262145996,
          3.4152960777282715,
          5.556567192077637,
          3.4219305515289307,
          3.901890754699707,
          4.549797534942627,
          5.944635391235352,
          5.302540302276611,
          5.318045139312744,
          5.516857624053955,
          6.386096954345703,
          2.982250452041626,
          5.724383354187012,
          3.5211474895477295,
          3.53945255279541,
          4.667294502258301,
          3.6767923831939697,
          3.4328081607818604,
          6.175253391265869,
          5.616331100463867,
          3.5234923362731934,
          5.698812007904053,
          6.03400182723999,
          4.132367134094238,
          5.125213146209717,
          5.535118103027344,
          4.245471954345703,
          5.0033040046691895,
          3.9710750579833984,
          5.142967224121094,
          4.01685905456543,
          4.085372447967529,
          5.565978527069092,
          6.180461883544922,
          5.07623815536499,
          4.030890941619873,
          3.9571878910064697,
          4.311135768890381,
          5.253167152404785,
          4.791614532470703,
          4.327789783477783,
          4.673243522644043,
          4.305522918701172,
          4.916102409362793,
          4.746899604797363,
          3.1819264888763428,
          4.080074787139893,
          4.4966583251953125,
          4.957844257354736,
          4.736176013946533,
          4.060572147369385,
          6.250874996185303,
          5.956401348114014,
          5.0498528480529785,
          5.456812858581543,
          5.667601108551025,
          5.672408103942871,
          4.447943210601807,
          3.1848294734954834,
          4.567948818206787,
          4.88700532913208,
          4.758358478546143,
          4.712569713592529,
          3.7747936248779297,
          5.420413970947266,
          3.351832151412964,
          5.199952125549316,
          4.532730579376221,
          4.827210903167725,
          5.085048675537109,
          6.090353965759277,
          5.254969596862793,
          5.316400527954102,
          3.0949881076812744,
          4.988286018371582,
          3.107787847518921,
          4.732885360717773,
          4.629496097564697,
          4.708956718444824,
          4.029996395111084,
          4.494385719299316,
          3.3572537899017334,
          4.275191307067871,
          4.26094913482666,
          5.097864151000977,
          3.699097156524658,
          3.6985630989074707,
          3.3622376918792725,
          3.482990026473999,
          4.873380184173584,
          3.956618309020996,
          4.6926164627075195,
          5.139695167541504,
          5.518717288970947,
          3.052640676498413,
          3.6006600856781006,
          5.439380645751953,
          3.164355516433716,
          5.7409749031066895,
          3.7152292728424072,
          6.162336826324463,
          4.253631114959717,
          5.61309814453125,
          3.193754196166992,
          4.831396579742432,
          4.1911516189575195,
          4.1994829177856445,
          3.3409488201141357,
          3.9903619289398193,
          4.422245502471924,
          3.4511947631835938,
          5.412649631500244,
          4.040482521057129,
          3.923382043838501,
          5.3587799072265625,
          5.105888843536377,
          6.347002029418945,
          6.131536483764648
         ],
         "yaxis": "y"
        },
        {
         "hovertemplate": "cluster_assigned=Marcel Stout<br>Axis x=%{x}<br>Axis y=%{y}<extra></extra>",
         "legendgroup": "Marcel Stout",
         "marker": {
          "color": "#00cc96",
          "opacity": 1,
          "symbol": "circle"
         },
         "mode": "markers",
         "name": "Marcel Stout",
         "orientation": "v",
         "showlegend": true,
         "type": "scatter",
         "x": [
          4.037696361541748,
          2.9700498580932617,
          4.041448593139648,
          3.935453176498413,
          5.176206111907959,
          2.4418740272521973,
          2.2507519721984863,
          1.7860727310180664,
          1.903507113456726,
          5.220880031585693,
          3.0117344856262207,
          4.165732383728027,
          2.969036102294922,
          2.888964891433716,
          4.224063873291016,
          2.578413248062134,
          3.8954877853393555,
          3.9026262760162354,
          2.315446615219116,
          2.7024166584014893,
          2.0538759231567383,
          1.89516282081604,
          3.9882545471191406,
          2.3328826427459717,
          3.190936803817749,
          6.4211626052856445,
          4.495333671569824,
          4.0591325759887695,
          5.017876625061035,
          2.8836426734924316,
          4.115149021148682,
          1.7813090085983276,
          3.6374197006225586,
          6.135741710662842,
          3.4277303218841553,
          1.9958772659301758,
          3.500633478164673,
          4.105887413024902,
          3.89337158203125,
          2.65164852142334,
          1.9764751195907593,
          3.096646308898926,
          3.343435525894165,
          3.7363102436065674,
          1.6767925024032593,
          1.9641417264938354,
          2.5502686500549316,
          3.1074459552764893,
          3.775829553604126,
          2.1023786067962646,
          2.1186602115631104,
          3.5923686027526855,
          4.17520809173584,
          2.338386058807373,
          3.7197375297546387,
          2.2899670600891113,
          2.656233310699463,
          4.113884449005127,
          3.777101993560791,
          4.12506103515625,
          3.9350037574768066,
          3.7530300617218018,
          3.0237348079681396,
          1.7206214666366577,
          4.1599578857421875,
          2.0170373916625977,
          2.904155731201172,
          2.0125114917755127,
          4.082512378692627,
          2.8446602821350098,
          3.4136245250701904,
          2.705509662628174,
          2.383061170578003,
          3.812014579772949,
          2.4701552391052246,
          4.074275016784668,
          3.3267436027526855,
          3.696168899536133,
          3.8770833015441895,
          2.692061424255371,
          2.4841694831848145,
          3.4751744270324707,
          1.8950403928756714,
          2.200360059738159,
          3.2887606620788574,
          2.6979691982269287,
          4.183719158172607,
          2.6596732139587402,
          3.5714516639709473,
          4.071274280548096,
          1.9796890020370483,
          2.5099689960479736,
          2.4021995067596436,
          2.385310411453247,
          3.034961223602295,
          3.5021979808807373,
          3.5292181968688965,
          4.212978363037109,
          3.580171823501587,
          2.5368075370788574,
          3.0297136306762695,
          1.937319040298462,
          3.774200677871704,
          2.7676782608032227,
          2.5738086700439453,
          4.246435165405273,
          2.0890824794769287,
          3.944403886795044,
          3.227322816848755,
          1.9714511632919312,
          2.099890947341919,
          2.155791997909546,
          2.0124917030334473,
          1.8246873617172241,
          1.8071141242980957,
          1.8092126846313477,
          3.9264965057373047,
          3.00294828414917,
          1.8132688999176025,
          3.98708438873291,
          2.103998899459839,
          4.313117980957031,
          1.9725018739700317,
          3.7018253803253174,
          2.2676451206207275,
          2.9636387825012207,
          2.1369776725769043,
          2.0381879806518555,
          4.069779872894287,
          2.561779499053955,
          2.837306022644043,
          4.311025619506836,
          4.373254776000977,
          5.022072792053223,
          3.6523396968841553,
          3.5342109203338623,
          4.2618184089660645,
          4.290821075439453,
          3.8545825481414795,
          2.135828733444214,
          3.3602423667907715,
          3.98333477973938,
          1.9589704275131226,
          1.930335283279419,
          4.536066055297852,
          3.6507761478424072,
          2.5833163261413574,
          3.9858334064483643,
          4.0313615798950195,
          3.5518603324890137,
          2.3114912509918213,
          3.3869495391845703,
          2.758937120437622,
          4.135913848876953,
          2.261504650115967,
          1.7405998706817627,
          1.6567425727844238,
          2.835890293121338,
          4.5411248207092285,
          3.9595224857330322,
          3.7743616104125977,
          3.7982776165008545,
          4.486742973327637,
          2.900883197784424,
          3.0485873222351074,
          4.202159404754639,
          3.3430607318878174,
          3.7745344638824463,
          2.502718210220337,
          2.6679415702819824,
          3.3152871131896973,
          3.562138319015503,
          4.003063201904297,
          2.2953603267669678,
          2.786541223526001,
          4.897764205932617,
          2.4164881706237793,
          4.083395957946777,
          3.9800236225128174,
          2.24489164352417,
          4.900918483734131,
          3.011011838912964,
          3.0478570461273193,
          2.4257185459136963,
          4.641364097595215,
          3.793891191482544,
          3.9107439517974854,
          2.958970069885254,
          3.311953067779541,
          4.207276344299316,
          1.9331220388412476,
          4.4503889083862305,
          2.2340621948242188,
          2.633063316345215,
          3.4717044830322266,
          4.277676582336426
         ],
         "xaxis": "x",
         "y": [
          7.691638946533203,
          7.9152302742004395,
          7.576484203338623,
          7.900423526763916,
          6.411266803741455,
          7.125550270080566,
          7.2785749435424805,
          6.78146505355835,
          6.90268087387085,
          6.2998480796813965,
          6.821493148803711,
          7.3903350830078125,
          7.4938225746154785,
          7.878012657165527,
          6.4129509925842285,
          6.323816776275635,
          7.848386287689209,
          5.867578029632568,
          6.906365394592285,
          6.345249652862549,
          7.306312084197998,
          6.4394917488098145,
          6.95380163192749,
          7.153160572052002,
          6.336489677429199,
          5.39608907699585,
          6.488340854644775,
          6.754159927368164,
          6.399643421173096,
          5.890646934509277,
          6.4166579246521,
          7.349925518035889,
          6.795201778411865,
          5.578461170196533,
          6.690776348114014,
          6.18895149230957,
          8.096602439880371,
          7.515063285827637,
          6.299920082092285,
          7.410067558288574,
          7.5326247215271,
          6.164870262145996,
          7.112682819366455,
          7.436712265014648,
          6.581629753112793,
          7.4919891357421875,
          5.745998382568359,
          6.066682815551758,
          6.982956409454346,
          6.006018161773682,
          7.129763603210449,
          6.537332057952881,
          7.478636264801025,
          6.156924247741699,
          8.005472183227539,
          7.098684310913086,
          7.060174942016602,
          7.670219898223877,
          6.612845420837402,
          7.667534351348877,
          7.343571662902832,
          7.936402320861816,
          6.252813339233398,
          6.853744983673096,
          7.44330358505249,
          7.464231491088867,
          5.761163234710693,
          6.682864665985107,
          6.408570766448975,
          6.339214324951172,
          5.960746765136719,
          7.1704583168029785,
          7.253055095672607,
          6.620044708251953,
          7.4361443519592285,
          6.559470176696777,
          6.291994094848633,
          8.02040958404541,
          7.7644476890563965,
          6.831139087677002,
          6.9220452308654785,
          8.150599479675293,
          7.453811168670654,
          6.177014350891113,
          8.003958702087402,
          5.916990756988525,
          7.072110176086426,
          7.189182281494141,
          6.658262729644775,
          6.045376300811768,
          7.393403053283691,
          6.303420066833496,
          5.8495869636535645,
          7.0068206787109375,
          7.041752815246582,
          8.113916397094727,
          8.126581192016602,
          6.953422546386719,
          7.141660690307617,
          6.783828258514404,
          6.074541091918945,
          7.443594932556152,
          6.5772833824157715,
          5.681033134460449,
          7.386054992675781,
          6.3310394287109375,
          7.066693305969238,
          7.835270881652832,
          5.9707818031311035,
          7.553986549377441,
          7.360506057739258,
          6.795324802398682,
          7.578144550323486,
          6.831043720245361,
          6.553811550140381,
          6.976118564605713,
          6.505455493927002,
          5.803439140319824,
          7.290492534637451,
          7.664621353149414,
          6.348406791687012,
          6.894495487213135,
          6.844555377960205,
          7.967350006103516,
          7.249481678009033,
          6.414435863494873,
          5.810237407684326,
          7.049513816833496,
          7.743985176086426,
          6.924940586090088,
          7.24226713180542,
          6.285442352294922,
          7.0420308113098145,
          6.454283237457275,
          7.65200138092041,
          8.161201477050781,
          6.619164943695068,
          7.074899673461914,
          7.806717395782471,
          7.511764049530029,
          5.870189666748047,
          7.719852924346924,
          7.508508682250977,
          6.445844650268555,
          6.425590991973877,
          7.992434024810791,
          6.351742267608643,
          7.347777843475342,
          6.028753757476807,
          6.52895450592041,
          6.778653144836426,
          6.434703350067139,
          6.446712493896484,
          7.224850177764893,
          6.296750545501709,
          7.2790422439575195,
          6.8584489822387695,
          6.854582786560059,
          6.694570541381836,
          6.521136283874512,
          7.970495700836182,
          6.133391380310059,
          7.076087951660156,
          6.008673191070557,
          6.783177852630615,
          7.616380214691162,
          7.9768147468566895,
          7.885955810546875,
          7.503793716430664,
          6.433462142944336,
          7.4732561111450195,
          8.03469181060791,
          7.355143070220947,
          7.444935321807861,
          6.294334888458252,
          6.918793678283691,
          6.3891167640686035,
          7.365778923034668,
          7.801766395568848,
          7.26672887802124,
          6.507012844085693,
          6.030037879943848,
          6.5981903076171875,
          6.220639705657959,
          6.588191032409668,
          7.790505409240723,
          7.843373775482178,
          6.261849880218506,
          6.463591575622559,
          6.2805633544921875,
          7.179886341094971,
          7.206544399261475,
          5.824806213378906,
          7.275162220001221,
          8.102556228637695,
          6.576962471008301
         ],
         "yaxis": "y"
        },
        {
         "hovertemplate": "cluster_assigned=James Bland<br>Axis x=%{x}<br>Axis y=%{y}<extra></extra>",
         "legendgroup": "James Bland",
         "marker": {
          "color": "#ab63fa",
          "opacity": 1,
          "symbol": "circle"
         },
         "mode": "markers",
         "name": "James Bland",
         "orientation": "v",
         "showlegend": true,
         "type": "scatter",
         "x": [
          6.775842189788818,
          6.298650741577148,
          7.145224571228027,
          6.567370414733887,
          6.079559803009033,
          6.5780487060546875,
          7.152207851409912,
          7.205103397369385,
          7.030608177185059,
          4.8742899894714355,
          6.505431175231934,
          7.3351263999938965,
          7.08441162109375,
          7.051636219024658,
          6.795846939086914,
          6.417891502380371,
          6.168020725250244,
          6.7630815505981445,
          6.0049004554748535,
          6.788910865783691,
          4.988831520080566,
          5.901336193084717,
          7.086932182312012,
          7.116114616394043,
          7.169890403747559,
          4.77121114730835,
          6.86566162109375,
          5.4366230964660645,
          6.351382255554199,
          6.528512477874756,
          6.557456016540527,
          7.11700439453125,
          6.126169681549072,
          7.415735721588135,
          6.559588432312012,
          7.390134811401367,
          4.797499656677246,
          4.811191082000732,
          5.13308572769165,
          5.230893611907959,
          6.17818021774292,
          6.466031551361084,
          7.062169551849365,
          7.299281120300293,
          7.394679069519043,
          7.364872455596924,
          6.887063026428223,
          6.252340316772461,
          6.596920967102051,
          7.220946788787842,
          6.245152950286865,
          6.509247779846191,
          7.156387805938721,
          6.969405651092529,
          6.706456184387207,
          5.937971115112305,
          6.196694850921631,
          7.251043319702148,
          6.560305118560791,
          6.242337226867676,
          6.1522722244262695,
          6.611941814422607,
          5.675946235656738,
          7.214541435241699,
          6.23603630065918,
          6.945224761962891,
          6.375504493713379,
          6.09108829498291,
          6.351792812347412,
          6.347995758056641,
          7.170543193817139,
          7.002502918243408,
          6.798694610595703,
          6.2913336753845215,
          6.756748199462891,
          6.590771675109863,
          5.70873498916626,
          7.386627674102783,
          6.45339822769165,
          6.584918022155762,
          6.733529567718506,
          6.747074604034424,
          6.888687610626221,
          6.156235694885254,
          6.340062618255615,
          6.595143795013428,
          6.589533805847168,
          5.955526351928711,
          6.666201114654541,
          7.336996555328369,
          6.658158779144287,
          7.301031112670898,
          4.286377429962158,
          7.146366596221924,
          7.2033867835998535,
          6.772130489349365,
          7.193922519683838,
          6.237528324127197,
          6.623293399810791,
          5.854919910430908,
          7.082870006561279,
          6.4183478355407715,
          6.233692169189453,
          6.180563926696777,
          7.113160133361816,
          7.344429969787598,
          6.53842306137085,
          6.973013401031494,
          6.290309429168701,
          6.4065775871276855,
          6.639998435974121,
          6.493518352508545,
          6.904952526092529,
          6.917993068695068,
          7.197650909423828,
          6.599178791046143,
          7.313907623291016,
          6.759788990020752,
          6.613656044006348,
          6.038578510284424,
          6.068297386169434,
          6.898123741149902,
          4.266844749450684,
          7.134994029998779,
          7.379793643951416,
          7.084833145141602,
          6.699428558349609,
          7.376734256744385,
          6.489683628082275,
          6.2672553062438965,
          6.3961100578308105,
          7.048856258392334,
          6.733781337738037,
          5.8074846267700195,
          5.456024646759033,
          7.000174522399902,
          7.333600997924805,
          6.2155656814575195,
          6.350888252258301,
          6.08954381942749,
          6.27208948135376
         ],
         "xaxis": "x",
         "y": [
          4.315941333770752,
          3.1440348625183105,
          2.990676164627075,
          4.035527229309082,
          3.20699405670166,
          3.8860485553741455,
          2.3123137950897217,
          2.321376323699951,
          2.416642427444458,
          2.8502726554870605,
          3.475503921508789,
          2.196148157119751,
          2.861851930618286,
          2.916165351867676,
          3.3849239349365234,
          3.832606315612793,
          3.3129756450653076,
          3.150846481323242,
          3.5043911933898926,
          3.8624751567840576,
          3.354879856109619,
          3.292250871658325,
          2.2724361419677734,
          2.3301265239715576,
          2.564491033554077,
          2.9099934101104736,
          3.4676616191864014,
          2.8839216232299805,
          3.9077258110046387,
          4.754267692565918,
          5.154513835906982,
          2.4893901348114014,
          3.04569935798645,
          2.0756523609161377,
          4.1106109619140625,
          2.4287052154541016,
          3.1560072898864746,
          2.9977993965148926,
          3.5773890018463135,
          3.4237537384033203,
          3.481168031692505,
          2.7656853199005127,
          2.4887964725494385,
          2.542370557785034,
          2.1229159832000732,
          2.1619625091552734,
          3.701331853866577,
          2.6767749786376953,
          3.219783067703247,
          2.2984015941619873,
          3.5800554752349854,
          3.8864455223083496,
          2.694451332092285,
          2.7479445934295654,
          4.3968825340271,
          3.3165371417999268,
          2.7192022800445557,
          2.404100179672241,
          4.070191383361816,
          2.785459280014038,
          3.117518663406372,
          4.996616840362549,
          2.989424705505371,
          2.349307060241699,
          2.8104400634765625,
          2.4957456588745117,
          3.6310815811157227,
          3.1739561557769775,
          3.8605198860168457,
          3.8526816368103027,
          2.2360622882843018,
          2.9044008255004883,
          4.087311267852783,
          3.7674124240875244,
          3.797276496887207,
          4.358799934387207,
          3.093266487121582,
          2.1478312015533447,
          3.315443754196167,
          5.023209095001221,
          4.532228469848633,
          4.55700159072876,
          3.2055437564849854,
          2.87206768989563,
          3.422950506210327,
          4.1710309982299805,
          3.535451889038086,
          3.730684518814087,
          4.530684947967529,
          2.561441659927368,
          4.574779987335205,
          2.679253339767456,
          2.9242067337036133,
          2.2564644813537598,
          2.7534401416778564,
          4.027342319488525,
          2.677675724029541,
          3.231333017349243,
          4.721383571624756,
          3.612025499343872,
          2.309030771255493,
          3.6418702602386475,
          3.420207977294922,
          2.7985854148864746,
          2.3321588039398193,
          2.129114866256714,
          3.4303231239318848,
          2.626844644546509,
          4.391441345214844,
          3.2219762802124023,
          3.536072254180908,
          5.081889629364014,
          2.496396780014038,
          2.9422173500061035,
          2.311375617980957,
          2.723076105117798,
          2.432854175567627,
          2.874868392944336,
          3.6910340785980225,
          3.2232143878936768,
          3.331414222717285,
          2.987715721130371,
          2.8982787132263184,
          3.0530712604522705,
          2.277228355407715,
          2.46712064743042,
          2.6645781993865967,
          2.121656894683838,
          3.935772180557251,
          3.1451594829559326,
          3.592507839202881,
          2.869429111480713,
          3.606933832168579,
          3.3416025638580322,
          3.39570951461792,
          2.3843538761138916,
          2.571943759918213,
          3.58662748336792,
          4.6684770584106445,
          3.882566452026367,
          4.7924957275390625
         ],
         "yaxis": "y"
        }
       ],
       "layout": {
        "height": 600,
        "legend": {
         "title": {
          "text": "cluster_assigned"
         },
         "tracegroupgap": 0
        },
        "template": {
         "data": {
          "bar": [
           {
            "error_x": {
             "color": "#2a3f5f"
            },
            "error_y": {
             "color": "#2a3f5f"
            },
            "marker": {
             "line": {
              "color": "#E5ECF6",
              "width": 0.5
             },
             "pattern": {
              "fillmode": "overlay",
              "size": 10,
              "solidity": 0.2
             }
            },
            "type": "bar"
           }
          ],
          "barpolar": [
           {
            "marker": {
             "line": {
              "color": "#E5ECF6",
              "width": 0.5
             },
             "pattern": {
              "fillmode": "overlay",
              "size": 10,
              "solidity": 0.2
             }
            },
            "type": "barpolar"
           }
          ],
          "carpet": [
           {
            "aaxis": {
             "endlinecolor": "#2a3f5f",
             "gridcolor": "white",
             "linecolor": "white",
             "minorgridcolor": "white",
             "startlinecolor": "#2a3f5f"
            },
            "baxis": {
             "endlinecolor": "#2a3f5f",
             "gridcolor": "white",
             "linecolor": "white",
             "minorgridcolor": "white",
             "startlinecolor": "#2a3f5f"
            },
            "type": "carpet"
           }
          ],
          "choropleth": [
           {
            "colorbar": {
             "outlinewidth": 0,
             "ticks": ""
            },
            "type": "choropleth"
           }
          ],
          "contour": [
           {
            "colorbar": {
             "outlinewidth": 0,
             "ticks": ""
            },
            "colorscale": [
             [
              0,
              "#0d0887"
             ],
             [
              0.1111111111111111,
              "#46039f"
             ],
             [
              0.2222222222222222,
              "#7201a8"
             ],
             [
              0.3333333333333333,
              "#9c179e"
             ],
             [
              0.4444444444444444,
              "#bd3786"
             ],
             [
              0.5555555555555556,
              "#d8576b"
             ],
             [
              0.6666666666666666,
              "#ed7953"
             ],
             [
              0.7777777777777778,
              "#fb9f3a"
             ],
             [
              0.8888888888888888,
              "#fdca26"
             ],
             [
              1,
              "#f0f921"
             ]
            ],
            "type": "contour"
           }
          ],
          "contourcarpet": [
           {
            "colorbar": {
             "outlinewidth": 0,
             "ticks": ""
            },
            "type": "contourcarpet"
           }
          ],
          "heatmap": [
           {
            "colorbar": {
             "outlinewidth": 0,
             "ticks": ""
            },
            "colorscale": [
             [
              0,
              "#0d0887"
             ],
             [
              0.1111111111111111,
              "#46039f"
             ],
             [
              0.2222222222222222,
              "#7201a8"
             ],
             [
              0.3333333333333333,
              "#9c179e"
             ],
             [
              0.4444444444444444,
              "#bd3786"
             ],
             [
              0.5555555555555556,
              "#d8576b"
             ],
             [
              0.6666666666666666,
              "#ed7953"
             ],
             [
              0.7777777777777778,
              "#fb9f3a"
             ],
             [
              0.8888888888888888,
              "#fdca26"
             ],
             [
              1,
              "#f0f921"
             ]
            ],
            "type": "heatmap"
           }
          ],
          "heatmapgl": [
           {
            "colorbar": {
             "outlinewidth": 0,
             "ticks": ""
            },
            "colorscale": [
             [
              0,
              "#0d0887"
             ],
             [
              0.1111111111111111,
              "#46039f"
             ],
             [
              0.2222222222222222,
              "#7201a8"
             ],
             [
              0.3333333333333333,
              "#9c179e"
             ],
             [
              0.4444444444444444,
              "#bd3786"
             ],
             [
              0.5555555555555556,
              "#d8576b"
             ],
             [
              0.6666666666666666,
              "#ed7953"
             ],
             [
              0.7777777777777778,
              "#fb9f3a"
             ],
             [
              0.8888888888888888,
              "#fdca26"
             ],
             [
              1,
              "#f0f921"
             ]
            ],
            "type": "heatmapgl"
           }
          ],
          "histogram": [
           {
            "marker": {
             "pattern": {
              "fillmode": "overlay",
              "size": 10,
              "solidity": 0.2
             }
            },
            "type": "histogram"
           }
          ],
          "histogram2d": [
           {
            "colorbar": {
             "outlinewidth": 0,
             "ticks": ""
            },
            "colorscale": [
             [
              0,
              "#0d0887"
             ],
             [
              0.1111111111111111,
              "#46039f"
             ],
             [
              0.2222222222222222,
              "#7201a8"
             ],
             [
              0.3333333333333333,
              "#9c179e"
             ],
             [
              0.4444444444444444,
              "#bd3786"
             ],
             [
              0.5555555555555556,
              "#d8576b"
             ],
             [
              0.6666666666666666,
              "#ed7953"
             ],
             [
              0.7777777777777778,
              "#fb9f3a"
             ],
             [
              0.8888888888888888,
              "#fdca26"
             ],
             [
              1,
              "#f0f921"
             ]
            ],
            "type": "histogram2d"
           }
          ],
          "histogram2dcontour": [
           {
            "colorbar": {
             "outlinewidth": 0,
             "ticks": ""
            },
            "colorscale": [
             [
              0,
              "#0d0887"
             ],
             [
              0.1111111111111111,
              "#46039f"
             ],
             [
              0.2222222222222222,
              "#7201a8"
             ],
             [
              0.3333333333333333,
              "#9c179e"
             ],
             [
              0.4444444444444444,
              "#bd3786"
             ],
             [
              0.5555555555555556,
              "#d8576b"
             ],
             [
              0.6666666666666666,
              "#ed7953"
             ],
             [
              0.7777777777777778,
              "#fb9f3a"
             ],
             [
              0.8888888888888888,
              "#fdca26"
             ],
             [
              1,
              "#f0f921"
             ]
            ],
            "type": "histogram2dcontour"
           }
          ],
          "mesh3d": [
           {
            "colorbar": {
             "outlinewidth": 0,
             "ticks": ""
            },
            "type": "mesh3d"
           }
          ],
          "parcoords": [
           {
            "line": {
             "colorbar": {
              "outlinewidth": 0,
              "ticks": ""
             }
            },
            "type": "parcoords"
           }
          ],
          "pie": [
           {
            "automargin": true,
            "type": "pie"
           }
          ],
          "scatter": [
           {
            "marker": {
             "colorbar": {
              "outlinewidth": 0,
              "ticks": ""
             }
            },
            "type": "scatter"
           }
          ],
          "scatter3d": [
           {
            "line": {
             "colorbar": {
              "outlinewidth": 0,
              "ticks": ""
             }
            },
            "marker": {
             "colorbar": {
              "outlinewidth": 0,
              "ticks": ""
             }
            },
            "type": "scatter3d"
           }
          ],
          "scattercarpet": [
           {
            "marker": {
             "colorbar": {
              "outlinewidth": 0,
              "ticks": ""
             }
            },
            "type": "scattercarpet"
           }
          ],
          "scattergeo": [
           {
            "marker": {
             "colorbar": {
              "outlinewidth": 0,
              "ticks": ""
             }
            },
            "type": "scattergeo"
           }
          ],
          "scattergl": [
           {
            "marker": {
             "colorbar": {
              "outlinewidth": 0,
              "ticks": ""
             }
            },
            "type": "scattergl"
           }
          ],
          "scattermapbox": [
           {
            "marker": {
             "colorbar": {
              "outlinewidth": 0,
              "ticks": ""
             }
            },
            "type": "scattermapbox"
           }
          ],
          "scatterpolar": [
           {
            "marker": {
             "colorbar": {
              "outlinewidth": 0,
              "ticks": ""
             }
            },
            "type": "scatterpolar"
           }
          ],
          "scatterpolargl": [
           {
            "marker": {
             "colorbar": {
              "outlinewidth": 0,
              "ticks": ""
             }
            },
            "type": "scatterpolargl"
           }
          ],
          "scatterternary": [
           {
            "marker": {
             "colorbar": {
              "outlinewidth": 0,
              "ticks": ""
             }
            },
            "type": "scatterternary"
           }
          ],
          "surface": [
           {
            "colorbar": {
             "outlinewidth": 0,
             "ticks": ""
            },
            "colorscale": [
             [
              0,
              "#0d0887"
             ],
             [
              0.1111111111111111,
              "#46039f"
             ],
             [
              0.2222222222222222,
              "#7201a8"
             ],
             [
              0.3333333333333333,
              "#9c179e"
             ],
             [
              0.4444444444444444,
              "#bd3786"
             ],
             [
              0.5555555555555556,
              "#d8576b"
             ],
             [
              0.6666666666666666,
              "#ed7953"
             ],
             [
              0.7777777777777778,
              "#fb9f3a"
             ],
             [
              0.8888888888888888,
              "#fdca26"
             ],
             [
              1,
              "#f0f921"
             ]
            ],
            "type": "surface"
           }
          ],
          "table": [
           {
            "cells": {
             "fill": {
              "color": "#EBF0F8"
             },
             "line": {
              "color": "white"
             }
            },
            "header": {
             "fill": {
              "color": "#C8D4E3"
             },
             "line": {
              "color": "white"
             }
            },
            "type": "table"
           }
          ]
         },
         "layout": {
          "annotationdefaults": {
           "arrowcolor": "#2a3f5f",
           "arrowhead": 0,
           "arrowwidth": 1
          },
          "autotypenumbers": "strict",
          "coloraxis": {
           "colorbar": {
            "outlinewidth": 0,
            "ticks": ""
           }
          },
          "colorscale": {
           "diverging": [
            [
             0,
             "#8e0152"
            ],
            [
             0.1,
             "#c51b7d"
            ],
            [
             0.2,
             "#de77ae"
            ],
            [
             0.3,
             "#f1b6da"
            ],
            [
             0.4,
             "#fde0ef"
            ],
            [
             0.5,
             "#f7f7f7"
            ],
            [
             0.6,
             "#e6f5d0"
            ],
            [
             0.7,
             "#b8e186"
            ],
            [
             0.8,
             "#7fbc41"
            ],
            [
             0.9,
             "#4d9221"
            ],
            [
             1,
             "#276419"
            ]
           ],
           "sequential": [
            [
             0,
             "#0d0887"
            ],
            [
             0.1111111111111111,
             "#46039f"
            ],
            [
             0.2222222222222222,
             "#7201a8"
            ],
            [
             0.3333333333333333,
             "#9c179e"
            ],
            [
             0.4444444444444444,
             "#bd3786"
            ],
            [
             0.5555555555555556,
             "#d8576b"
            ],
            [
             0.6666666666666666,
             "#ed7953"
            ],
            [
             0.7777777777777778,
             "#fb9f3a"
            ],
            [
             0.8888888888888888,
             "#fdca26"
            ],
            [
             1,
             "#f0f921"
            ]
           ],
           "sequentialminus": [
            [
             0,
             "#0d0887"
            ],
            [
             0.1111111111111111,
             "#46039f"
            ],
            [
             0.2222222222222222,
             "#7201a8"
            ],
            [
             0.3333333333333333,
             "#9c179e"
            ],
            [
             0.4444444444444444,
             "#bd3786"
            ],
            [
             0.5555555555555556,
             "#d8576b"
            ],
            [
             0.6666666666666666,
             "#ed7953"
            ],
            [
             0.7777777777777778,
             "#fb9f3a"
            ],
            [
             0.8888888888888888,
             "#fdca26"
            ],
            [
             1,
             "#f0f921"
            ]
           ]
          },
          "colorway": [
           "#636efa",
           "#EF553B",
           "#00cc96",
           "#ab63fa",
           "#FFA15A",
           "#19d3f3",
           "#FF6692",
           "#B6E880",
           "#FF97FF",
           "#FECB52"
          ],
          "font": {
           "color": "#2a3f5f"
          },
          "geo": {
           "bgcolor": "white",
           "lakecolor": "white",
           "landcolor": "#E5ECF6",
           "showlakes": true,
           "showland": true,
           "subunitcolor": "white"
          },
          "hoverlabel": {
           "align": "left"
          },
          "hovermode": "closest",
          "mapbox": {
           "style": "light"
          },
          "paper_bgcolor": "white",
          "plot_bgcolor": "#E5ECF6",
          "polar": {
           "angularaxis": {
            "gridcolor": "white",
            "linecolor": "white",
            "ticks": ""
           },
           "bgcolor": "#E5ECF6",
           "radialaxis": {
            "gridcolor": "white",
            "linecolor": "white",
            "ticks": ""
           }
          },
          "scene": {
           "xaxis": {
            "backgroundcolor": "#E5ECF6",
            "gridcolor": "white",
            "gridwidth": 2,
            "linecolor": "white",
            "showbackground": true,
            "ticks": "",
            "zerolinecolor": "white"
           },
           "yaxis": {
            "backgroundcolor": "#E5ECF6",
            "gridcolor": "white",
            "gridwidth": 2,
            "linecolor": "white",
            "showbackground": true,
            "ticks": "",
            "zerolinecolor": "white"
           },
           "zaxis": {
            "backgroundcolor": "#E5ECF6",
            "gridcolor": "white",
            "gridwidth": 2,
            "linecolor": "white",
            "showbackground": true,
            "ticks": "",
            "zerolinecolor": "white"
           }
          },
          "shapedefaults": {
           "line": {
            "color": "#2a3f5f"
           }
          },
          "ternary": {
           "aaxis": {
            "gridcolor": "white",
            "linecolor": "white",
            "ticks": ""
           },
           "baxis": {
            "gridcolor": "white",
            "linecolor": "white",
            "ticks": ""
           },
           "bgcolor": "#E5ECF6",
           "caxis": {
            "gridcolor": "white",
            "linecolor": "white",
            "ticks": ""
           }
          },
          "title": {
           "x": 0.05
          },
          "xaxis": {
           "automargin": true,
           "gridcolor": "white",
           "linecolor": "white",
           "ticks": "",
           "title": {
            "standoff": 15
           },
           "zerolinecolor": "white",
           "zerolinewidth": 2
          },
          "yaxis": {
           "automargin": true,
           "gridcolor": "white",
           "linecolor": "white",
           "ticks": "",
           "title": {
            "standoff": 15
           },
           "zerolinecolor": "white",
           "zerolinewidth": 2
          }
         }
        },
        "title": {
         "text": "UMAP of the 15 categories"
        },
        "width": 1000,
        "xaxis": {
         "anchor": "y",
         "domain": [
          0,
          1
         ],
         "title": {
          "text": "Axis x"
         }
        },
        "yaxis": {
         "anchor": "x",
         "domain": [
          0,
          1
         ],
         "title": {
          "text": "Axis y"
         }
        }
       }
      }
     },
     "metadata": {},
     "output_type": "display_data"
    }
   ],
   "source": [
    "fig = px.scatter(user_projected_umap, x='Axis x', y='Axis y',opacity =1,\n",
    "             color='cluster_assigned' ,size_max =50,width=1000, height=600,title ='UMAP of the 15 categories')\n",
    "\n",
    "fig.show()\n",
    "fig.write_html(\"cluster_visual_umap.html\")"
   ]
  }
 ],
 "metadata": {
  "kernelspec": {
   "display_name": "base",
   "language": "python",
   "name": "python3"
  },
  "language_info": {
   "codemirror_mode": {
    "name": "ipython",
    "version": 3
   },
   "file_extension": ".py",
   "mimetype": "text/x-python",
   "name": "python",
   "nbconvert_exporter": "python",
   "pygments_lexer": "ipython3",
   "version": "3.9.12"
  },
  "orig_nbformat": 4,
  "vscode": {
   "interpreter": {
    "hash": "911f51d76eeb7942430ae9b06dd6e9a539612ed351cfe319b2831bd8b56e28c3"
   }
  }
 },
 "nbformat": 4,
 "nbformat_minor": 2
}
