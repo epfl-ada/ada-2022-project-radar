{
 "cells": [
  {
   "cell_type": "code",
   "execution_count": 1,
   "metadata": {},
   "outputs": [],
   "source": [
    "import pandas as pd\n",
    "import seaborn as sns\n",
    "import datetime\n",
    "from datetime import *\n",
    "import sys\n",
    "import gzip\n",
    "import networkx as nx\n",
    "import matplotlib.pyplot as plt\n",
    "import numpy as np\n",
    "import plotly.express as px\n",
    "import pylab\n",
    "import scipy.stats as stats\n",
    "import plotly.graph_objects as go\n",
    "import collections\n",
    "from scipy.stats import bootstrap, ttest_ind, ttest_rel\n",
    "import math\n",
    "from sklearn.cluster import KMeans\n",
    "from sklearn.decomposition import PCA\n",
    "from umap.umap_ import UMAP\n",
    "from sklearn.metrics import silhouette_samples, silhouette_score\n",
    "import matplotlib.cm as cm"
   ]
  },
  {
   "cell_type": "code",
   "execution_count": 2,
   "metadata": {},
   "outputs": [],
   "source": [
    "plt.style.use('seaborn')\n",
    "pd.options.mode.chained_assignment = None  # default='warn'"
   ]
  },
  {
   "cell_type": "markdown",
   "metadata": {},
   "source": [
    "# beer"
   ]
  },
  {
   "cell_type": "code",
   "execution_count": 3,
   "metadata": {},
   "outputs": [],
   "source": [
    "#load the data beers.csv\n",
    "df_beers = pd.read_csv('./data/beers.csv')"
   ]
  },
  {
   "cell_type": "code",
   "execution_count": 4,
   "metadata": {},
   "outputs": [
    {
     "data": {
      "text/html": [
       "<div>\n",
       "<style scoped>\n",
       "    .dataframe tbody tr th:only-of-type {\n",
       "        vertical-align: middle;\n",
       "    }\n",
       "\n",
       "    .dataframe tbody tr th {\n",
       "        vertical-align: top;\n",
       "    }\n",
       "\n",
       "    .dataframe thead th {\n",
       "        text-align: right;\n",
       "    }\n",
       "</style>\n",
       "<table border=\"1\" class=\"dataframe\">\n",
       "  <thead>\n",
       "    <tr style=\"text-align: right;\">\n",
       "      <th></th>\n",
       "      <th>beer_id</th>\n",
       "      <th>beer_name</th>\n",
       "      <th>brewery_id</th>\n",
       "      <th>brewery_name</th>\n",
       "      <th>style</th>\n",
       "      <th>nbr_ratings</th>\n",
       "      <th>nbr_reviews</th>\n",
       "      <th>avg</th>\n",
       "      <th>ba_score</th>\n",
       "      <th>bros_score</th>\n",
       "      <th>abv</th>\n",
       "      <th>avg_computed</th>\n",
       "      <th>zscore</th>\n",
       "      <th>nbr_matched_valid_ratings</th>\n",
       "      <th>avg_matched_valid_ratings</th>\n",
       "    </tr>\n",
       "  </thead>\n",
       "  <tbody>\n",
       "    <tr>\n",
       "      <th>0</th>\n",
       "      <td>166064</td>\n",
       "      <td>Nashe Moskovskoe</td>\n",
       "      <td>39912</td>\n",
       "      <td>Abdysh-Ata (Абдыш Ата)</td>\n",
       "      <td>Euro Pale Lager</td>\n",
       "      <td>0</td>\n",
       "      <td>0</td>\n",
       "      <td>NaN</td>\n",
       "      <td>NaN</td>\n",
       "      <td>NaN</td>\n",
       "      <td>4.7</td>\n",
       "      <td>NaN</td>\n",
       "      <td>NaN</td>\n",
       "      <td>0</td>\n",
       "      <td>NaN</td>\n",
       "    </tr>\n",
       "    <tr>\n",
       "      <th>1</th>\n",
       "      <td>166065</td>\n",
       "      <td>Nashe Pivovskoe</td>\n",
       "      <td>39912</td>\n",
       "      <td>Abdysh-Ata (Абдыш Ата)</td>\n",
       "      <td>Euro Pale Lager</td>\n",
       "      <td>0</td>\n",
       "      <td>0</td>\n",
       "      <td>NaN</td>\n",
       "      <td>NaN</td>\n",
       "      <td>NaN</td>\n",
       "      <td>3.8</td>\n",
       "      <td>NaN</td>\n",
       "      <td>NaN</td>\n",
       "      <td>0</td>\n",
       "      <td>NaN</td>\n",
       "    </tr>\n",
       "    <tr>\n",
       "      <th>2</th>\n",
       "      <td>166066</td>\n",
       "      <td>Nashe Shakhterskoe</td>\n",
       "      <td>39912</td>\n",
       "      <td>Abdysh-Ata (Абдыш Ата)</td>\n",
       "      <td>Euro Pale Lager</td>\n",
       "      <td>0</td>\n",
       "      <td>0</td>\n",
       "      <td>NaN</td>\n",
       "      <td>NaN</td>\n",
       "      <td>NaN</td>\n",
       "      <td>4.8</td>\n",
       "      <td>NaN</td>\n",
       "      <td>NaN</td>\n",
       "      <td>0</td>\n",
       "      <td>NaN</td>\n",
       "    </tr>\n",
       "    <tr>\n",
       "      <th>3</th>\n",
       "      <td>166067</td>\n",
       "      <td>Nashe Zhigulevskoe</td>\n",
       "      <td>39912</td>\n",
       "      <td>Abdysh-Ata (Абдыш Ата)</td>\n",
       "      <td>Euro Pale Lager</td>\n",
       "      <td>0</td>\n",
       "      <td>0</td>\n",
       "      <td>NaN</td>\n",
       "      <td>NaN</td>\n",
       "      <td>NaN</td>\n",
       "      <td>4.0</td>\n",
       "      <td>NaN</td>\n",
       "      <td>NaN</td>\n",
       "      <td>0</td>\n",
       "      <td>NaN</td>\n",
       "    </tr>\n",
       "    <tr>\n",
       "      <th>4</th>\n",
       "      <td>166063</td>\n",
       "      <td>Zhivoe</td>\n",
       "      <td>39912</td>\n",
       "      <td>Abdysh-Ata (Абдыш Ата)</td>\n",
       "      <td>Euro Pale Lager</td>\n",
       "      <td>0</td>\n",
       "      <td>0</td>\n",
       "      <td>NaN</td>\n",
       "      <td>NaN</td>\n",
       "      <td>NaN</td>\n",
       "      <td>4.5</td>\n",
       "      <td>NaN</td>\n",
       "      <td>NaN</td>\n",
       "      <td>0</td>\n",
       "      <td>NaN</td>\n",
       "    </tr>\n",
       "  </tbody>\n",
       "</table>\n",
       "</div>"
      ],
      "text/plain": [
       "   beer_id           beer_name  brewery_id            brewery_name  \\\n",
       "0   166064    Nashe Moskovskoe       39912  Abdysh-Ata (Абдыш Ата)   \n",
       "1   166065     Nashe Pivovskoe       39912  Abdysh-Ata (Абдыш Ата)   \n",
       "2   166066  Nashe Shakhterskoe       39912  Abdysh-Ata (Абдыш Ата)   \n",
       "3   166067  Nashe Zhigulevskoe       39912  Abdysh-Ata (Абдыш Ата)   \n",
       "4   166063              Zhivoe       39912  Abdysh-Ata (Абдыш Ата)   \n",
       "\n",
       "             style  nbr_ratings  nbr_reviews  avg  ba_score  bros_score  abv  \\\n",
       "0  Euro Pale Lager            0            0  NaN       NaN         NaN  4.7   \n",
       "1  Euro Pale Lager            0            0  NaN       NaN         NaN  3.8   \n",
       "2  Euro Pale Lager            0            0  NaN       NaN         NaN  4.8   \n",
       "3  Euro Pale Lager            0            0  NaN       NaN         NaN  4.0   \n",
       "4  Euro Pale Lager            0            0  NaN       NaN         NaN  4.5   \n",
       "\n",
       "   avg_computed  zscore  nbr_matched_valid_ratings  avg_matched_valid_ratings  \n",
       "0           NaN     NaN                          0                        NaN  \n",
       "1           NaN     NaN                          0                        NaN  \n",
       "2           NaN     NaN                          0                        NaN  \n",
       "3           NaN     NaN                          0                        NaN  \n",
       "4           NaN     NaN                          0                        NaN  "
      ]
     },
     "execution_count": 4,
     "metadata": {},
     "output_type": "execute_result"
    }
   ],
   "source": [
    "df_beers.head()"
   ]
  },
  {
   "cell_type": "code",
   "execution_count": 5,
   "metadata": {
    "cell_id": "f19be61f23d14b039515a428e733e967",
    "deepnote_cell_type": "code"
   },
   "outputs": [],
   "source": [
    "list_considered_variable=['beer_id','beer_name','brewery_id','brewery_name','style',\n",
    "                          'nbr_reviews','nbr_ratings','avg', 'abv']\n",
    "df_beers=df_beers[list_considered_variable]"
   ]
  },
  {
   "cell_type": "code",
   "execution_count": 6,
   "metadata": {
    "cell_id": "eadfb89af763419cb9ac7620298c2aaa",
    "deepnote_cell_type": "code",
    "deepnote_to_be_reexecuted": false,
    "execution_millis": 36,
    "execution_start": 1668694159723,
    "source_hash": "763cc6b1",
    "tags": []
   },
   "outputs": [],
   "source": [
    "beer_catalog = {\n",
    "    'Bocks' : ['Bock', 'Doppelbock', 'Eisbock', 'Maibock', 'Weizenbock', 'Maibock / Helles Bock'],\n",
    "\n",
    "    'Dark Ales' : ['Dubbel', 'Roggenbier', 'Scottish Ale', 'Winter Warmer'],\n",
    "\n",
    "    'Hybrid Beers' : ['Bière de Champagne / Bière Brut', 'Braggot', 'California Common / Steam Beer', 'Cream Ale'],\n",
    "\n",
    "    'Pale Ales' : ['American Amber / Red Ale', 'American Blonde Ale', 'American Pale Ale', 'Belgian Blonde Ale',\n",
    "    'Belgian Pale Ale', 'Bière de Garde', 'English Bitter', 'English Pale Ale', 'English Pale Mild Ale', 'Extra Special / Strong Bitter (ESB)',\n",
    "    'Grisette', 'Irish Red Ale', 'Kölsch', 'Saison', 'Saison / Farmhouse Ale', 'Belgian Strong Pale Ale', 'American Pale Ale (APA)'],\n",
    "\n",
    "    'Porters' : ['American Porter', 'Baltic Porter', 'English Porter', 'Imperial Porter', 'Robust Porter ', 'Smoked Porter'],\n",
    "\n",
    "    'Stouts' : ['American Imperial Stout', 'American Stout', 'English Stout', 'Foreign / Export Stout', 'Irish Dry Stout', 'Oatmeal Stout',\n",
    "    'Russian Imperial Stout', 'Milk / Sweet Stout', 'American Double / Imperial Stout'],\n",
    "\n",
    "    'Wheat Beers' : ['American Dark Wheat Beer', 'American Pale Wheat Beer', 'Dunkelweizen', 'Grodziskie', 'Hefeweizen', 'Kristallweizen', 'Witbier', \n",
    "    'American Pale Wheat Ale', 'American Dark Wheat Ale', 'Berliner Weissbier', 'Kristalweizen'],\n",
    "\n",
    "    'Brown Ales' : ['Altbier', 'American Brown Ale', 'Belgian Dark Ale', 'English Brown Ale', 'English Dark Mild Ale', 'Belgian Strong Dark Ale'],\n",
    "\n",
    "    'Dark Lagers' : ['American Amber / Red Lager', 'Czech Amber Lager', 'Czech Dark Lager', 'European Dark Lager', 'Märzen',\n",
    "    'Munich Dunkel', 'Rauchbier', 'Schwarzbier', 'Vienna Lager', 'Munich Dunkel Lager', 'Euro Dark Lager'],\n",
    "\n",
    "    'India Pale Ales' : ['American IPA', 'American Double / Imperial IPA', 'Belgian IPA', 'Black IPA', 'Brut IPA', 'English IPA', 'English India Pale Ale (IPA)', \n",
    "    'Imperial IPA', 'Milkshake IPA', 'New England IPA', 'American Black Ale'],\n",
    "\n",
    "    'Pale Lagers' : ['American Adjunct Lager', 'American Lager', 'Bohemian / Czech Pilsner', 'Czech Pale Lager', 'European / Dortmunder Export Lager',\n",
    "    'European Pale Lager', 'European Strong Lager', 'Festbier / Wiesnbier', 'German Pilsner', 'Helles', 'Imperial Pilsner', 'India Pale Lager (IPL)',\n",
    "    'Kellerbier / Zwickelbier', 'Light Lager', 'Malt Liquor', 'Czech Pilsener', 'Euro Pale Lager', 'American Pale Lager', 'German Pilsener', 'Dortmunder / Export Lager', \n",
    "    'Euro Strong Lager', 'Munich Helles Lager', 'American Double / Imperial Pilsner', 'American Malt Liquor', 'Märzen / Oktoberfest'],\n",
    "\n",
    "    'Specialty Beer' : ['Chile Beer', 'Fruit and Field Beer', 'Gruit / Ancient Herbed Ale', 'Happoshu', 'Herb and Spice Beer', 'Japanese Rice Lager',\n",
    "    'Kvass', 'Low-Alcohol Beer', 'Pumpkin Beer', 'Rye Beer', 'Sahti', 'Smoked Beer', 'Herbed / Spiced Beer', 'Pumpkin Ale', 'Scottish Gruit / Ancient Herbed Ale', 'Low Alcohol Beer'],\n",
    "\n",
    "    'Strong Ales' : ['American Barleywine', 'American Strong Ale', 'Belgian Dark Strong Ale', 'Belgian Pale Strong Ale', 'English Barleywine', 'English Strong Ale',\n",
    "    'Imperial Red Ale', 'Old Ale', 'Quadrupel (Quad)', 'Scotch Ale / Wee Heavy', 'Tripel', 'Wheatwine', 'Fruit / Vegetable Beer'],\n",
    "    \n",
    "    'Wild/Sour Beers' : ['Berliner Weisse', 'Brett Beer', 'Faro', 'Flanders Oud Bruin', 'Flanders Red Ale', 'Fruit Lambic',\n",
    "    'Fruited Kettle Sour', 'Gose', 'Gueuze', 'Lambic', 'Wild Ale', 'Lambic - Unblended', 'Lambic - Fruit', 'American Wild Ale'],\n",
    "\n",
    "    'Weird Cocktail' : ['Black & Tan']\n",
    "}"
   ]
  },
  {
   "cell_type": "code",
   "execution_count": 7,
   "metadata": {
    "cell_id": "26ffb113c1fd44f38af6d5ed9861ed16",
    "deepnote_cell_type": "code",
    "deepnote_to_be_reexecuted": false,
    "execution_millis": 8,
    "execution_start": 1668694159764,
    "source_hash": "390b466c",
    "tags": []
   },
   "outputs": [],
   "source": [
    "beer_catalog_reverse = {}\n",
    "for key, values in beer_catalog.items():\n",
    "    for value in values:\n",
    "            beer_catalog_reverse.setdefault(value, []).append(key)"
   ]
  },
  {
   "cell_type": "code",
   "execution_count": 8,
   "metadata": {
    "cell_id": "8aec10edbc964f71acf3ba71218c5896",
    "deepnote_cell_type": "code",
    "deepnote_to_be_reexecuted": false,
    "execution_millis": 40,
    "execution_start": 1668694159774,
    "source_hash": "6e14184a",
    "tags": []
   },
   "outputs": [],
   "source": [
    "def category_check(beer_style, beer_catalog):\n",
    "    '''\n",
    "    Return the new columns of 15 categories made in the website https://www.beeradvocate.com/beer/styles/\n",
    "    '''\n",
    "    for category_name, beer_styles in beer_catalog.items():\n",
    "        if beer_style in beer_styles:\n",
    "            return category_name"
   ]
  },
  {
   "cell_type": "code",
   "execution_count": 9,
   "metadata": {
    "cell_id": "b478e5b39ab946288c93c71c01b1af4c",
    "deepnote_cell_type": "code",
    "deepnote_to_be_reexecuted": false,
    "execution_millis": 821,
    "execution_start": 1668694159814,
    "source_hash": "d2dcf1f1",
    "tags": []
   },
   "outputs": [],
   "source": [
    "df_beers['category'] = df_beers['style'].apply(lambda beer_style: category_check(beer_style, beer_catalog))"
   ]
  },
  {
   "cell_type": "code",
   "execution_count": 10,
   "metadata": {},
   "outputs": [
    {
     "data": {
      "text/html": [
       "<div>\n",
       "<style scoped>\n",
       "    .dataframe tbody tr th:only-of-type {\n",
       "        vertical-align: middle;\n",
       "    }\n",
       "\n",
       "    .dataframe tbody tr th {\n",
       "        vertical-align: top;\n",
       "    }\n",
       "\n",
       "    .dataframe thead th {\n",
       "        text-align: right;\n",
       "    }\n",
       "</style>\n",
       "<table border=\"1\" class=\"dataframe\">\n",
       "  <thead>\n",
       "    <tr style=\"text-align: right;\">\n",
       "      <th></th>\n",
       "      <th>beer_id</th>\n",
       "      <th>beer_name</th>\n",
       "      <th>brewery_id</th>\n",
       "      <th>brewery_name</th>\n",
       "      <th>style</th>\n",
       "      <th>nbr_reviews</th>\n",
       "      <th>nbr_ratings</th>\n",
       "      <th>avg</th>\n",
       "      <th>abv</th>\n",
       "      <th>category</th>\n",
       "    </tr>\n",
       "  </thead>\n",
       "  <tbody>\n",
       "    <tr>\n",
       "      <th>0</th>\n",
       "      <td>166064</td>\n",
       "      <td>Nashe Moskovskoe</td>\n",
       "      <td>39912</td>\n",
       "      <td>Abdysh-Ata (Абдыш Ата)</td>\n",
       "      <td>Euro Pale Lager</td>\n",
       "      <td>0</td>\n",
       "      <td>0</td>\n",
       "      <td>NaN</td>\n",
       "      <td>4.7</td>\n",
       "      <td>Pale Lagers</td>\n",
       "    </tr>\n",
       "    <tr>\n",
       "      <th>1</th>\n",
       "      <td>166065</td>\n",
       "      <td>Nashe Pivovskoe</td>\n",
       "      <td>39912</td>\n",
       "      <td>Abdysh-Ata (Абдыш Ата)</td>\n",
       "      <td>Euro Pale Lager</td>\n",
       "      <td>0</td>\n",
       "      <td>0</td>\n",
       "      <td>NaN</td>\n",
       "      <td>3.8</td>\n",
       "      <td>Pale Lagers</td>\n",
       "    </tr>\n",
       "    <tr>\n",
       "      <th>2</th>\n",
       "      <td>166066</td>\n",
       "      <td>Nashe Shakhterskoe</td>\n",
       "      <td>39912</td>\n",
       "      <td>Abdysh-Ata (Абдыш Ата)</td>\n",
       "      <td>Euro Pale Lager</td>\n",
       "      <td>0</td>\n",
       "      <td>0</td>\n",
       "      <td>NaN</td>\n",
       "      <td>4.8</td>\n",
       "      <td>Pale Lagers</td>\n",
       "    </tr>\n",
       "    <tr>\n",
       "      <th>3</th>\n",
       "      <td>166067</td>\n",
       "      <td>Nashe Zhigulevskoe</td>\n",
       "      <td>39912</td>\n",
       "      <td>Abdysh-Ata (Абдыш Ата)</td>\n",
       "      <td>Euro Pale Lager</td>\n",
       "      <td>0</td>\n",
       "      <td>0</td>\n",
       "      <td>NaN</td>\n",
       "      <td>4.0</td>\n",
       "      <td>Pale Lagers</td>\n",
       "    </tr>\n",
       "    <tr>\n",
       "      <th>4</th>\n",
       "      <td>166063</td>\n",
       "      <td>Zhivoe</td>\n",
       "      <td>39912</td>\n",
       "      <td>Abdysh-Ata (Абдыш Ата)</td>\n",
       "      <td>Euro Pale Lager</td>\n",
       "      <td>0</td>\n",
       "      <td>0</td>\n",
       "      <td>NaN</td>\n",
       "      <td>4.5</td>\n",
       "      <td>Pale Lagers</td>\n",
       "    </tr>\n",
       "    <tr>\n",
       "      <th>...</th>\n",
       "      <td>...</td>\n",
       "      <td>...</td>\n",
       "      <td>...</td>\n",
       "      <td>...</td>\n",
       "      <td>...</td>\n",
       "      <td>...</td>\n",
       "      <td>...</td>\n",
       "      <td>...</td>\n",
       "      <td>...</td>\n",
       "      <td>...</td>\n",
       "    </tr>\n",
       "    <tr>\n",
       "      <th>280818</th>\n",
       "      <td>19139</td>\n",
       "      <td>Kölsch Ale</td>\n",
       "      <td>885</td>\n",
       "      <td>Summit Station Restaurant &amp; Brewery</td>\n",
       "      <td>Kölsch</td>\n",
       "      <td>3</td>\n",
       "      <td>3</td>\n",
       "      <td>2.71</td>\n",
       "      <td>5.0</td>\n",
       "      <td>Pale Ales</td>\n",
       "    </tr>\n",
       "    <tr>\n",
       "      <th>280819</th>\n",
       "      <td>19140</td>\n",
       "      <td>Nut Brown Ale</td>\n",
       "      <td>885</td>\n",
       "      <td>Summit Station Restaurant &amp; Brewery</td>\n",
       "      <td>English Brown Ale</td>\n",
       "      <td>1</td>\n",
       "      <td>2</td>\n",
       "      <td>3.10</td>\n",
       "      <td>5.3</td>\n",
       "      <td>Brown Ales</td>\n",
       "    </tr>\n",
       "    <tr>\n",
       "      <th>280820</th>\n",
       "      <td>19146</td>\n",
       "      <td>Octoberfest</td>\n",
       "      <td>885</td>\n",
       "      <td>Summit Station Restaurant &amp; Brewery</td>\n",
       "      <td>Märzen / Oktoberfest</td>\n",
       "      <td>0</td>\n",
       "      <td>0</td>\n",
       "      <td>NaN</td>\n",
       "      <td>NaN</td>\n",
       "      <td>Pale Lagers</td>\n",
       "    </tr>\n",
       "    <tr>\n",
       "      <th>280821</th>\n",
       "      <td>2805</td>\n",
       "      <td>Scotch Ale</td>\n",
       "      <td>885</td>\n",
       "      <td>Summit Station Restaurant &amp; Brewery</td>\n",
       "      <td>Scotch Ale / Wee Heavy</td>\n",
       "      <td>0</td>\n",
       "      <td>0</td>\n",
       "      <td>NaN</td>\n",
       "      <td>7.0</td>\n",
       "      <td>Strong Ales</td>\n",
       "    </tr>\n",
       "    <tr>\n",
       "      <th>280822</th>\n",
       "      <td>19148</td>\n",
       "      <td>Smoked Porter</td>\n",
       "      <td>885</td>\n",
       "      <td>Summit Station Restaurant &amp; Brewery</td>\n",
       "      <td>American Porter</td>\n",
       "      <td>0</td>\n",
       "      <td>0</td>\n",
       "      <td>NaN</td>\n",
       "      <td>NaN</td>\n",
       "      <td>Porters</td>\n",
       "    </tr>\n",
       "  </tbody>\n",
       "</table>\n",
       "<p>280823 rows × 10 columns</p>\n",
       "</div>"
      ],
      "text/plain": [
       "        beer_id           beer_name  brewery_id  \\\n",
       "0        166064    Nashe Moskovskoe       39912   \n",
       "1        166065     Nashe Pivovskoe       39912   \n",
       "2        166066  Nashe Shakhterskoe       39912   \n",
       "3        166067  Nashe Zhigulevskoe       39912   \n",
       "4        166063              Zhivoe       39912   \n",
       "...         ...                 ...         ...   \n",
       "280818    19139          Kölsch Ale         885   \n",
       "280819    19140       Nut Brown Ale         885   \n",
       "280820    19146         Octoberfest         885   \n",
       "280821     2805          Scotch Ale         885   \n",
       "280822    19148       Smoked Porter         885   \n",
       "\n",
       "                               brewery_name                   style  \\\n",
       "0                    Abdysh-Ata (Абдыш Ата)         Euro Pale Lager   \n",
       "1                    Abdysh-Ata (Абдыш Ата)         Euro Pale Lager   \n",
       "2                    Abdysh-Ata (Абдыш Ата)         Euro Pale Lager   \n",
       "3                    Abdysh-Ata (Абдыш Ата)         Euro Pale Lager   \n",
       "4                    Abdysh-Ata (Абдыш Ата)         Euro Pale Lager   \n",
       "...                                     ...                     ...   \n",
       "280818  Summit Station Restaurant & Brewery                  Kölsch   \n",
       "280819  Summit Station Restaurant & Brewery       English Brown Ale   \n",
       "280820  Summit Station Restaurant & Brewery    Märzen / Oktoberfest   \n",
       "280821  Summit Station Restaurant & Brewery  Scotch Ale / Wee Heavy   \n",
       "280822  Summit Station Restaurant & Brewery         American Porter   \n",
       "\n",
       "        nbr_reviews  nbr_ratings   avg  abv     category  \n",
       "0                 0            0   NaN  4.7  Pale Lagers  \n",
       "1                 0            0   NaN  3.8  Pale Lagers  \n",
       "2                 0            0   NaN  4.8  Pale Lagers  \n",
       "3                 0            0   NaN  4.0  Pale Lagers  \n",
       "4                 0            0   NaN  4.5  Pale Lagers  \n",
       "...             ...          ...   ...  ...          ...  \n",
       "280818            3            3  2.71  5.0    Pale Ales  \n",
       "280819            1            2  3.10  5.3   Brown Ales  \n",
       "280820            0            0   NaN  NaN  Pale Lagers  \n",
       "280821            0            0   NaN  7.0  Strong Ales  \n",
       "280822            0            0   NaN  NaN      Porters  \n",
       "\n",
       "[280823 rows x 10 columns]"
      ]
     },
     "execution_count": 10,
     "metadata": {},
     "output_type": "execute_result"
    }
   ],
   "source": [
    "df_beers"
   ]
  },
  {
   "attachments": {},
   "cell_type": "markdown",
   "metadata": {},
   "source": [
    "# Users and filtering"
   ]
  },
  {
   "cell_type": "code",
   "execution_count": 11,
   "metadata": {
    "cell_id": "a08802bdef7149109203f51bdf1142ce",
    "deepnote_cell_type": "code"
   },
   "outputs": [
    {
     "name": "stdout",
     "output_type": "stream",
     "text": [
      "         nbr_ratings    nbr_reviews        joined\n",
      "count  153704.000000  153704.000000  1.510520e+05\n",
      "mean       54.605163      16.847876  1.357238e+09\n",
      "std       252.388790     139.846706  9.195131e+07\n",
      "min         1.000000       0.000000  8.407944e+08\n",
      "25%         1.000000       0.000000  1.303121e+09\n",
      "50%         3.000000       0.000000  1.391944e+09\n",
      "75%        16.000000       2.000000  1.417691e+09\n",
      "max     12046.000000    8970.000000  1.501495e+09\n"
     ]
    },
    {
     "data": {
      "text/html": [
       "<div>\n",
       "<style scoped>\n",
       "    .dataframe tbody tr th:only-of-type {\n",
       "        vertical-align: middle;\n",
       "    }\n",
       "\n",
       "    .dataframe tbody tr th {\n",
       "        vertical-align: top;\n",
       "    }\n",
       "\n",
       "    .dataframe thead th {\n",
       "        text-align: right;\n",
       "    }\n",
       "</style>\n",
       "<table border=\"1\" class=\"dataframe\">\n",
       "  <thead>\n",
       "    <tr style=\"text-align: right;\">\n",
       "      <th></th>\n",
       "      <th>nbr_ratings</th>\n",
       "      <th>nbr_reviews</th>\n",
       "      <th>user_id</th>\n",
       "      <th>user_name</th>\n",
       "      <th>joined</th>\n",
       "      <th>location</th>\n",
       "    </tr>\n",
       "  </thead>\n",
       "  <tbody>\n",
       "    <tr>\n",
       "      <th>0</th>\n",
       "      <td>7820</td>\n",
       "      <td>465</td>\n",
       "      <td>nmann08.184925</td>\n",
       "      <td>nmann08</td>\n",
       "      <td>1.199704e+09</td>\n",
       "      <td>United States, Washington</td>\n",
       "    </tr>\n",
       "    <tr>\n",
       "      <th>1</th>\n",
       "      <td>2521</td>\n",
       "      <td>2504</td>\n",
       "      <td>stjamesgate.163714</td>\n",
       "      <td>StJamesGate</td>\n",
       "      <td>1.191838e+09</td>\n",
       "      <td>United States, New York</td>\n",
       "    </tr>\n",
       "    <tr>\n",
       "      <th>2</th>\n",
       "      <td>1797</td>\n",
       "      <td>1143</td>\n",
       "      <td>mdagnew.19527</td>\n",
       "      <td>mdagnew</td>\n",
       "      <td>1.116410e+09</td>\n",
       "      <td>Northern Ireland</td>\n",
       "    </tr>\n",
       "    <tr>\n",
       "      <th>3</th>\n",
       "      <td>31</td>\n",
       "      <td>31</td>\n",
       "      <td>helloloser12345.10867</td>\n",
       "      <td>helloloser12345</td>\n",
       "      <td>1.101380e+09</td>\n",
       "      <td>Northern Ireland</td>\n",
       "    </tr>\n",
       "    <tr>\n",
       "      <th>4</th>\n",
       "      <td>604</td>\n",
       "      <td>604</td>\n",
       "      <td>cypressbob.3708</td>\n",
       "      <td>cypressbob</td>\n",
       "      <td>1.069326e+09</td>\n",
       "      <td>Northern Ireland</td>\n",
       "    </tr>\n",
       "  </tbody>\n",
       "</table>\n",
       "</div>"
      ],
      "text/plain": [
       "   nbr_ratings  nbr_reviews                user_id        user_name  \\\n",
       "0         7820          465         nmann08.184925          nmann08   \n",
       "1         2521         2504     stjamesgate.163714      StJamesGate   \n",
       "2         1797         1143          mdagnew.19527          mdagnew   \n",
       "3           31           31  helloloser12345.10867  helloloser12345   \n",
       "4          604          604        cypressbob.3708       cypressbob   \n",
       "\n",
       "         joined                   location  \n",
       "0  1.199704e+09  United States, Washington  \n",
       "1  1.191838e+09    United States, New York  \n",
       "2  1.116410e+09           Northern Ireland  \n",
       "3  1.101380e+09           Northern Ireland  \n",
       "4  1.069326e+09           Northern Ireland  "
      ]
     },
     "execution_count": 11,
     "metadata": {},
     "output_type": "execute_result"
    }
   ],
   "source": [
    "#load the data\n",
    "\n",
    "df_users = pd.read_csv('./data/users.csv')\n",
    "print(df_users.describe())\n",
    "df_users.head(5)"
   ]
  },
  {
   "cell_type": "code",
   "execution_count": 12,
   "metadata": {
    "cell_id": "e9bbb0ea7e39456583d0b6628a387617",
    "deepnote_cell_type": "code"
   },
   "outputs": [
    {
     "name": "stdout",
     "output_type": "stream",
     "text": [
      "There are 113223 US users\n",
      "Cutoff low :  500\n",
      "Cutoff high :  1135.0\n",
      "Number of users left :  2232\n",
      "Total of ratings left :  1652164\n"
     ]
    }
   ],
   "source": [
    "# First user filtering phase \n",
    "\n",
    "# keep users from the USA only & who have made a minimum number of reviews in order to participate in our study\n",
    "\n",
    "df_us_users = df_users[df_users.location.str.contains('United States', na=False)]\n",
    "nb_us_users = df_us_users['user_id'].nunique()\n",
    "print(f\"There are {nb_us_users} US users\")\n",
    "\n",
    "#choose a minimum number of ratings per user, since we want to analyse an evolution!\n",
    "cutoff_low = 500\n",
    "print(\"Cutoff low : \", cutoff_low)\n",
    "\n",
    "#choose a maximum number of ratings per user, we want to filter our super-users or organisations\n",
    "cutoff_high = df_us_users.nbr_ratings.quantile(0.99)\n",
    "print(\"Cutoff high : \", cutoff_high)\n",
    "\n",
    "#create a valid user dataframe and a set with the valid user_names\n",
    "df_us_users = df_us_users[(df_us_users.nbr_ratings < cutoff_high) &\n",
    "                                (df_us_users.nbr_ratings >= cutoff_low)]\n",
    "us_users_names = set(df_us_users.user_name)\n",
    "print(\"Number of users left : \", len(us_users_names))\n",
    "print(\"Total of ratings left : \", df_us_users.nbr_ratings.sum())\n",
    "\n",
    "#convert the 'joined' column into datetime format\n",
    "df_us_users.loc[:,'date_joined'] = pd.to_datetime(df_us_users['joined'].apply(lambda dt : datetime.fromtimestamp(dt).strftime('%Y-%m-%d')))"
   ]
  },
  {
   "cell_type": "code",
   "execution_count": 13,
   "metadata": {},
   "outputs": [],
   "source": [
    "# We now gather some more user information by analyzing their behaviour as a reviewer"
   ]
  },
  {
   "cell_type": "code",
   "execution_count": 14,
   "metadata": {
    "cell_id": "4eb61738f844445ba471cd7668afab43",
    "deepnote_cell_type": "code",
    "deepnote_to_be_reexecuted": false,
    "execution_millis": 5,
    "execution_start": 1668694161680,
    "source_hash": "5f5f7f2d",
    "tags": []
   },
   "outputs": [],
   "source": [
    "def parse(filename):\n",
    "    \"\"\"\n",
    "    Parse a txt.gz file and return a generator for it\n",
    "    Copyright © 2017 Gael Lederrey <gael.lederrey@epfl.ch>\n",
    "    :param filename: name of the file\n",
    "    :return: Generator to go through the file\n",
    "    \"\"\"\n",
    "    file = gzip.open(filename, 'rb')\n",
    "    entry = {}\n",
    "    # Go through all the lines\n",
    "    for line in file:\n",
    "        # Transform the string-bytes into a string\n",
    "        line = line.decode(\"utf-8\").strip()\n",
    "\n",
    "        # We check for a colon in each line\n",
    "        colon_pos = line.find(\":\")\n",
    "        if colon_pos == -1:\n",
    "            # if no, we yield the entry\n",
    "            yield entry\n",
    "            entry = {}\n",
    "            continue\n",
    "        # otherwise, we add the key-value pair to the entry\n",
    "        key = line[:colon_pos]\n",
    "        value = line[colon_pos + 2:]\n",
    "        entry[key] = value"
   ]
  },
  {
   "cell_type": "code",
   "execution_count": 15,
   "metadata": {
    "cell_id": "cb2d5c48750b49048257c318e1a94601",
    "deepnote_cell_type": "code"
   },
   "outputs": [],
   "source": [
    "gen = parse('./data/ratings.txt.gz')"
   ]
  },
  {
   "cell_type": "code",
   "execution_count": 16,
   "metadata": {
    "cell_id": "d885e11d05b34b36931c83ed75198dc4",
    "deepnote_cell_type": "code"
   },
   "outputs": [],
   "source": [
    "#We create the dataframe of the valid us users previously determined\n",
    "\n",
    "create = False\n",
    "\n",
    "if create:\n",
    "    undesired_features = set(['text','review', 'brewery_name', 'brewery_id', 'user_id', 'beer_name'])\n",
    "    full_ratings_ls = []\n",
    "    int_cols = ['beer_id']\n",
    "    float_cols = ['abv','appearance', 'aroma', 'palate', 'taste', 'overall', 'rating']\n",
    "\n",
    "    review = next(gen)\n",
    "    cols = [key for key, _ in review.items() if key not in undesired_features]\n",
    "\n",
    "    for idx, review in enumerate(gen):\n",
    "        user_name = review['user_name']\n",
    "        valid_rows = [value for key, value in review.items() if key not in undesired_features]\n",
    "        if user_name in us_users_names:\n",
    "            full_ratings_ls.append(valid_rows)\n",
    "\n",
    "    df_ratings = pd.DataFrame(full_ratings_ls, columns = cols)\n",
    "\n",
    "    df_ratings[int_cols] = df_ratings[int_cols].astype('int')\n",
    "    df_ratings[float_cols] = df_ratings[float_cols].astype('float') \n",
    "    df_ratings[\"date\"] = pd.to_datetime(df_ratings.date.apply(\n",
    "        lambda date : datetime.fromtimestamp(int(date)).strftime('%Y-%m-%d')\n",
    "    ))\n",
    "\n",
    "    #There is one review in 2000, wich is an outlier\n",
    "    start_date = pd.to_datetime(\"2001-01-01\")\n",
    "    df_ratings = df_ratings.loc[df_ratings['date'] >= start_date]   \n",
    "    df_ratings.to_pickle('./data/ratings_valid_user.pkl')\n",
    "\n",
    "else:\n",
    "    df_ratings = pd.read_pickle('./data/ratings_valid_user.pkl')"
   ]
  },
  {
   "cell_type": "code",
   "execution_count": 17,
   "metadata": {},
   "outputs": [],
   "source": [
    "#add the category of the beer\n",
    "beers_id_cat = df_beers[['beer_id', 'category']]\n",
    "df_ratings = pd.merge(df_ratings, beers_id_cat, on = 'beer_id')\n",
    "\n",
    "#add the rating number, starts at 0\n",
    "df_ratings.sort_values(by = \"date\", inplace=True)\n",
    "df_ratings[\"rating_number\"] = df_ratings.groupby(\"user_name\").transform(\"cumcount\")\n",
    "\n",
    "#we also convert the date to the proper format\n",
    "df_ratings[\"date\"] = pd.to_datetime(df_ratings[\"date\"])"
   ]
  },
  {
   "cell_type": "code",
   "execution_count": 18,
   "metadata": {},
   "outputs": [],
   "source": [
    "#We apply the second of our filters, we only keep the 500 first ratings. (rating number at which you are considered an expert)\n",
    "nb_ratings_expert = 500\n",
    "df_us_ratings = df_ratings[df_ratings[\"rating_number\"] < nb_ratings_expert]"
   ]
  },
  {
   "cell_type": "code",
   "execution_count": 19,
   "metadata": {},
   "outputs": [
    {
     "data": {
      "text/html": [
       "<div>\n",
       "<style scoped>\n",
       "    .dataframe tbody tr th:only-of-type {\n",
       "        vertical-align: middle;\n",
       "    }\n",
       "\n",
       "    .dataframe tbody tr th {\n",
       "        vertical-align: top;\n",
       "    }\n",
       "\n",
       "    .dataframe thead th {\n",
       "        text-align: right;\n",
       "    }\n",
       "</style>\n",
       "<table border=\"1\" class=\"dataframe\">\n",
       "  <thead>\n",
       "    <tr style=\"text-align: right;\">\n",
       "      <th></th>\n",
       "      <th>beer_id</th>\n",
       "      <th>style</th>\n",
       "      <th>abv</th>\n",
       "      <th>date</th>\n",
       "      <th>user_name</th>\n",
       "      <th>appearance</th>\n",
       "      <th>aroma</th>\n",
       "      <th>palate</th>\n",
       "      <th>taste</th>\n",
       "      <th>overall</th>\n",
       "      <th>rating</th>\n",
       "      <th>category</th>\n",
       "      <th>rating_number</th>\n",
       "    </tr>\n",
       "  </thead>\n",
       "  <tbody>\n",
       "    <tr>\n",
       "      <th>1640018</th>\n",
       "      <td>167</td>\n",
       "      <td>Witbier</td>\n",
       "      <td>NaN</td>\n",
       "      <td>2001-03-16</td>\n",
       "      <td>frank4sail</td>\n",
       "      <td>4.5</td>\n",
       "      <td>4.5</td>\n",
       "      <td>4.0</td>\n",
       "      <td>5.0</td>\n",
       "      <td>5.0</td>\n",
       "      <td>4.75</td>\n",
       "      <td>Wheat Beers</td>\n",
       "      <td>0</td>\n",
       "    </tr>\n",
       "    <tr>\n",
       "      <th>311428</th>\n",
       "      <td>3558</td>\n",
       "      <td>Czech Pilsener</td>\n",
       "      <td>5.00</td>\n",
       "      <td>2001-06-18</td>\n",
       "      <td>Mark</td>\n",
       "      <td>4.0</td>\n",
       "      <td>4.0</td>\n",
       "      <td>3.0</td>\n",
       "      <td>4.0</td>\n",
       "      <td>4.0</td>\n",
       "      <td>3.90</td>\n",
       "      <td>Pale Lagers</td>\n",
       "      <td>0</td>\n",
       "    </tr>\n",
       "    <tr>\n",
       "      <th>17313</th>\n",
       "      <td>73</td>\n",
       "      <td>Milk / Sweet Stout</td>\n",
       "      <td>5.20</td>\n",
       "      <td>2001-06-18</td>\n",
       "      <td>Mark</td>\n",
       "      <td>5.0</td>\n",
       "      <td>5.0</td>\n",
       "      <td>5.0</td>\n",
       "      <td>5.0</td>\n",
       "      <td>5.0</td>\n",
       "      <td>5.00</td>\n",
       "      <td>Stouts</td>\n",
       "      <td>1</td>\n",
       "    </tr>\n",
       "    <tr>\n",
       "      <th>136697</th>\n",
       "      <td>261</td>\n",
       "      <td>Vienna Lager</td>\n",
       "      <td>4.48</td>\n",
       "      <td>2001-06-24</td>\n",
       "      <td>Mark</td>\n",
       "      <td>4.0</td>\n",
       "      <td>3.0</td>\n",
       "      <td>3.0</td>\n",
       "      <td>3.0</td>\n",
       "      <td>3.0</td>\n",
       "      <td>3.06</td>\n",
       "      <td>Dark Lagers</td>\n",
       "      <td>2</td>\n",
       "    </tr>\n",
       "    <tr>\n",
       "      <th>442671</th>\n",
       "      <td>87</td>\n",
       "      <td>American Pale Ale (APA)</td>\n",
       "      <td>5.40</td>\n",
       "      <td>2001-06-24</td>\n",
       "      <td>Mark</td>\n",
       "      <td>4.0</td>\n",
       "      <td>4.0</td>\n",
       "      <td>1.0</td>\n",
       "      <td>3.0</td>\n",
       "      <td>3.0</td>\n",
       "      <td>3.10</td>\n",
       "      <td>Pale Ales</td>\n",
       "      <td>3</td>\n",
       "    </tr>\n",
       "  </tbody>\n",
       "</table>\n",
       "</div>"
      ],
      "text/plain": [
       "         beer_id                    style   abv       date   user_name  \\\n",
       "1640018      167                  Witbier   NaN 2001-03-16  frank4sail   \n",
       "311428      3558           Czech Pilsener  5.00 2001-06-18        Mark   \n",
       "17313         73       Milk / Sweet Stout  5.20 2001-06-18        Mark   \n",
       "136697       261             Vienna Lager  4.48 2001-06-24        Mark   \n",
       "442671        87  American Pale Ale (APA)  5.40 2001-06-24        Mark   \n",
       "\n",
       "         appearance  aroma  palate  taste  overall  rating     category  \\\n",
       "1640018         4.5    4.5     4.0    5.0      5.0    4.75  Wheat Beers   \n",
       "311428          4.0    4.0     3.0    4.0      4.0    3.90  Pale Lagers   \n",
       "17313           5.0    5.0     5.0    5.0      5.0    5.00       Stouts   \n",
       "136697          4.0    3.0     3.0    3.0      3.0    3.06  Dark Lagers   \n",
       "442671          4.0    4.0     1.0    3.0      3.0    3.10    Pale Ales   \n",
       "\n",
       "         rating_number  \n",
       "1640018              0  \n",
       "311428               0  \n",
       "17313                1  \n",
       "136697               2  \n",
       "442671               3  "
      ]
     },
     "execution_count": 19,
     "metadata": {},
     "output_type": "execute_result"
    }
   ],
   "source": [
    "df_us_ratings.head(5)"
   ]
  },
  {
   "cell_type": "code",
   "execution_count": 20,
   "metadata": {},
   "outputs": [],
   "source": [
    "#We go back to users and compute on how many different days they were active\n",
    "\n",
    "user_active = df_us_ratings.groupby(['user_name'], as_index = False).date.nunique()\n",
    "user_active.columns = ['user_name', 'active_days']\n",
    "df_us_users = df_us_users.merge(user_active, on = 'user_name')"
   ]
  },
  {
   "cell_type": "code",
   "execution_count": 21,
   "metadata": {},
   "outputs": [
    {
     "data": {
      "text/html": [
       "<div>\n",
       "<style scoped>\n",
       "    .dataframe tbody tr th:only-of-type {\n",
       "        vertical-align: middle;\n",
       "    }\n",
       "\n",
       "    .dataframe tbody tr th {\n",
       "        vertical-align: top;\n",
       "    }\n",
       "\n",
       "    .dataframe thead th {\n",
       "        text-align: right;\n",
       "    }\n",
       "</style>\n",
       "<table border=\"1\" class=\"dataframe\">\n",
       "  <thead>\n",
       "    <tr style=\"text-align: right;\">\n",
       "      <th></th>\n",
       "      <th>nbr_ratings</th>\n",
       "      <th>nbr_reviews</th>\n",
       "      <th>user_id</th>\n",
       "      <th>user_name</th>\n",
       "      <th>joined</th>\n",
       "      <th>location</th>\n",
       "      <th>date_joined</th>\n",
       "      <th>active_days</th>\n",
       "      <th>delta_first_last</th>\n",
       "    </tr>\n",
       "  </thead>\n",
       "  <tbody>\n",
       "    <tr>\n",
       "      <th>0</th>\n",
       "      <td>1131</td>\n",
       "      <td>188</td>\n",
       "      <td>okcnittany.144868</td>\n",
       "      <td>OKCNittany</td>\n",
       "      <td>1.182766e+09</td>\n",
       "      <td>United States, Oklahoma</td>\n",
       "      <td>2007-06-25</td>\n",
       "      <td>187</td>\n",
       "      <td>2397</td>\n",
       "    </tr>\n",
       "    <tr>\n",
       "      <th>1</th>\n",
       "      <td>732</td>\n",
       "      <td>14</td>\n",
       "      <td>byofb.537281</td>\n",
       "      <td>BYOFB</td>\n",
       "      <td>1.292065e+09</td>\n",
       "      <td>United States, Wisconsin</td>\n",
       "      <td>2010-12-11</td>\n",
       "      <td>32</td>\n",
       "      <td>756</td>\n",
       "    </tr>\n",
       "    <tr>\n",
       "      <th>2</th>\n",
       "      <td>585</td>\n",
       "      <td>389</td>\n",
       "      <td>ferrari29.320392</td>\n",
       "      <td>ferrari29</td>\n",
       "      <td>1.239790e+09</td>\n",
       "      <td>United States, Illinois</td>\n",
       "      <td>2009-04-15</td>\n",
       "      <td>202</td>\n",
       "      <td>1193</td>\n",
       "    </tr>\n",
       "    <tr>\n",
       "      <th>3</th>\n",
       "      <td>1078</td>\n",
       "      <td>10</td>\n",
       "      <td>colsanders123.545441</td>\n",
       "      <td>ColSanders123</td>\n",
       "      <td>1.293620e+09</td>\n",
       "      <td>United States, Georgia</td>\n",
       "      <td>2010-12-29</td>\n",
       "      <td>135</td>\n",
       "      <td>1077</td>\n",
       "    </tr>\n",
       "    <tr>\n",
       "      <th>4</th>\n",
       "      <td>914</td>\n",
       "      <td>890</td>\n",
       "      <td>jays2629.517433</td>\n",
       "      <td>JayS2629</td>\n",
       "      <td>1.287828e+09</td>\n",
       "      <td>United States, Alabama</td>\n",
       "      <td>2010-10-23</td>\n",
       "      <td>101</td>\n",
       "      <td>244</td>\n",
       "    </tr>\n",
       "    <tr>\n",
       "      <th>...</th>\n",
       "      <td>...</td>\n",
       "      <td>...</td>\n",
       "      <td>...</td>\n",
       "      <td>...</td>\n",
       "      <td>...</td>\n",
       "      <td>...</td>\n",
       "      <td>...</td>\n",
       "      <td>...</td>\n",
       "      <td>...</td>\n",
       "    </tr>\n",
       "    <tr>\n",
       "      <th>2227</th>\n",
       "      <td>548</td>\n",
       "      <td>21</td>\n",
       "      <td>crafteyedoc.675112</td>\n",
       "      <td>CraftEyeDoc</td>\n",
       "      <td>1.336039e+09</td>\n",
       "      <td>United States, North Carolina</td>\n",
       "      <td>2012-05-03</td>\n",
       "      <td>143</td>\n",
       "      <td>970</td>\n",
       "    </tr>\n",
       "    <tr>\n",
       "      <th>2228</th>\n",
       "      <td>630</td>\n",
       "      <td>23</td>\n",
       "      <td>pmoney.592770</td>\n",
       "      <td>pmoney</td>\n",
       "      <td>1.302862e+09</td>\n",
       "      <td>United States, Illinois</td>\n",
       "      <td>2011-04-15</td>\n",
       "      <td>132</td>\n",
       "      <td>854</td>\n",
       "    </tr>\n",
       "    <tr>\n",
       "      <th>2229</th>\n",
       "      <td>637</td>\n",
       "      <td>48</td>\n",
       "      <td>aleckpa.541457</td>\n",
       "      <td>aleckpa</td>\n",
       "      <td>1.292843e+09</td>\n",
       "      <td>United States, North Carolina</td>\n",
       "      <td>2010-12-20</td>\n",
       "      <td>275</td>\n",
       "      <td>1853</td>\n",
       "    </tr>\n",
       "    <tr>\n",
       "      <th>2230</th>\n",
       "      <td>1117</td>\n",
       "      <td>4</td>\n",
       "      <td>dinoblueshoes.607196</td>\n",
       "      <td>DinoBlueShoes</td>\n",
       "      <td>1.309342e+09</td>\n",
       "      <td>United States, Maine</td>\n",
       "      <td>2011-06-29</td>\n",
       "      <td>196</td>\n",
       "      <td>1047</td>\n",
       "    </tr>\n",
       "    <tr>\n",
       "      <th>2231</th>\n",
       "      <td>550</td>\n",
       "      <td>0</td>\n",
       "      <td>mikerieder.227228</td>\n",
       "      <td>mikerieder</td>\n",
       "      <td>1.213265e+09</td>\n",
       "      <td>United States, South Dakota</td>\n",
       "      <td>2008-06-12</td>\n",
       "      <td>95</td>\n",
       "      <td>1044</td>\n",
       "    </tr>\n",
       "  </tbody>\n",
       "</table>\n",
       "<p>2232 rows × 9 columns</p>\n",
       "</div>"
      ],
      "text/plain": [
       "      nbr_ratings  nbr_reviews               user_id      user_name  \\\n",
       "0            1131          188     okcnittany.144868     OKCNittany   \n",
       "1             732           14          byofb.537281          BYOFB   \n",
       "2             585          389      ferrari29.320392      ferrari29   \n",
       "3            1078           10  colsanders123.545441  ColSanders123   \n",
       "4             914          890       jays2629.517433       JayS2629   \n",
       "...           ...          ...                   ...            ...   \n",
       "2227          548           21    crafteyedoc.675112    CraftEyeDoc   \n",
       "2228          630           23         pmoney.592770         pmoney   \n",
       "2229          637           48        aleckpa.541457        aleckpa   \n",
       "2230         1117            4  dinoblueshoes.607196  DinoBlueShoes   \n",
       "2231          550            0     mikerieder.227228     mikerieder   \n",
       "\n",
       "            joined                       location date_joined  active_days  \\\n",
       "0     1.182766e+09        United States, Oklahoma  2007-06-25          187   \n",
       "1     1.292065e+09       United States, Wisconsin  2010-12-11           32   \n",
       "2     1.239790e+09        United States, Illinois  2009-04-15          202   \n",
       "3     1.293620e+09         United States, Georgia  2010-12-29          135   \n",
       "4     1.287828e+09         United States, Alabama  2010-10-23          101   \n",
       "...            ...                            ...         ...          ...   \n",
       "2227  1.336039e+09  United States, North Carolina  2012-05-03          143   \n",
       "2228  1.302862e+09        United States, Illinois  2011-04-15          132   \n",
       "2229  1.292843e+09  United States, North Carolina  2010-12-20          275   \n",
       "2230  1.309342e+09           United States, Maine  2011-06-29          196   \n",
       "2231  1.213265e+09    United States, South Dakota  2008-06-12           95   \n",
       "\n",
       "      delta_first_last  \n",
       "0                 2397  \n",
       "1                  756  \n",
       "2                 1193  \n",
       "3                 1077  \n",
       "4                  244  \n",
       "...                ...  \n",
       "2227               970  \n",
       "2228               854  \n",
       "2229              1853  \n",
       "2230              1047  \n",
       "2231              1044  \n",
       "\n",
       "[2232 rows x 9 columns]"
      ]
     },
     "execution_count": 21,
     "metadata": {},
     "output_type": "execute_result"
    }
   ],
   "source": [
    "# We compute how long it took them to submit the 500 ratings\n",
    "user_delta = df_us_ratings.groupby('user_name', as_index = False).apply(lambda usr: (usr.date.max() - usr.date.min()).days)\n",
    "user_delta.columns = ['user_name', 'delta_first_last']\n",
    "df_us_users = df_us_users.merge(user_delta, on = 'user_name')\n",
    "df_us_users"
   ]
  },
  {
   "cell_type": "code",
   "execution_count": 22,
   "metadata": {},
   "outputs": [],
   "source": [
    "# We compute the maximum number of ratings the user has done in a single day\n",
    "\n",
    "user_day = df_us_ratings[['user_name','date']].groupby([\"user_name\", pd.Grouper(freq = \"D\", key=\"date\")], as_index = False).size()\n",
    "user_day = user_day.groupby('user_name', as_index = False).apply(lambda usr : max(usr['size']))\n",
    "user_day.columns = ['user_name', 'max_active_day']\n",
    "df_us_users = df_us_users.merge(user_day, on = 'user_name')"
   ]
  },
  {
   "cell_type": "code",
   "execution_count": 23,
   "metadata": {},
   "outputs": [],
   "source": [
    "# We compute the maximum number of ratings the user has done in a single month\n",
    "\n",
    "user_month = df_us_ratings[['user_name','date']].groupby([\"user_name\", pd.Grouper(freq = \"M\", key=\"date\")], as_index = False).size()\n",
    "user_month = user_month.groupby('user_name', as_index = False).apply(lambda usr : max(usr['size']))\n",
    "user_month.columns = ['user_name', 'max_active_month']\n",
    "df_us_users = df_us_users.merge(user_month, on = 'user_name') "
   ]
  },
  {
   "cell_type": "code",
   "execution_count": 24,
   "metadata": {},
   "outputs": [],
   "source": [
    "# We also want to know how much time the users took for submitting different number of ratings.\n",
    "\n",
    "def compute_diff_date(user):\n",
    "    diff = {}\n",
    "    day = 50\n",
    "    diff[str(day)] = (user[user[\"rating_number\"] == day-1][\"date\"].item() -\\\n",
    "                         user[user[\"rating_number\"] == 0][\"date\"].item()).days\n",
    "    return pd.Series(diff)"
   ]
  },
  {
   "cell_type": "code",
   "execution_count": 25,
   "metadata": {},
   "outputs": [],
   "source": [
    "def compute_diff_date_last(user):\n",
    "    diff = {}\n",
    "    day = 450\n",
    "    diff[str(day)] = (user[user[\"rating_number\"] == 500-1][\"date\"].item() -\\\n",
    "                         user[user[\"rating_number\"] == day][\"date\"].item()).days\n",
    "    return pd.Series(diff)"
   ]
  },
  {
   "cell_type": "code",
   "execution_count": 26,
   "metadata": {},
   "outputs": [],
   "source": [
    "# We focus on the 10% first reviews (more justification)\n",
    "user_deltas_0_50 = df_us_ratings.groupby('user_name', as_index = False).apply(compute_diff_date)\n",
    "df_us_users = df_us_users.merge(user_deltas_0_50, on = 'user_name')"
   ]
  },
  {
   "cell_type": "code",
   "execution_count": 27,
   "metadata": {},
   "outputs": [],
   "source": [
    "# We focus on the 10% last reviews (more justification)\n",
    "user_deltas_450_500 = df_us_ratings.groupby('user_name', as_index = False).apply(compute_diff_date_last)\n",
    "df_us_users = df_us_users.merge(user_deltas_450_500, on = 'user_name')"
   ]
  },
  {
   "cell_type": "code",
   "execution_count": 28,
   "metadata": {},
   "outputs": [
    {
     "data": {
      "text/html": [
       "<div>\n",
       "<style scoped>\n",
       "    .dataframe tbody tr th:only-of-type {\n",
       "        vertical-align: middle;\n",
       "    }\n",
       "\n",
       "    .dataframe tbody tr th {\n",
       "        vertical-align: top;\n",
       "    }\n",
       "\n",
       "    .dataframe thead th {\n",
       "        text-align: right;\n",
       "    }\n",
       "</style>\n",
       "<table border=\"1\" class=\"dataframe\">\n",
       "  <thead>\n",
       "    <tr style=\"text-align: right;\">\n",
       "      <th></th>\n",
       "      <th>nbr_ratings</th>\n",
       "      <th>nbr_reviews</th>\n",
       "      <th>user_id</th>\n",
       "      <th>user_name</th>\n",
       "      <th>joined</th>\n",
       "      <th>location</th>\n",
       "      <th>date_joined</th>\n",
       "      <th>active_days</th>\n",
       "      <th>delta_first_last</th>\n",
       "      <th>max_active_day</th>\n",
       "      <th>max_active_month</th>\n",
       "      <th>50</th>\n",
       "      <th>450</th>\n",
       "    </tr>\n",
       "  </thead>\n",
       "  <tbody>\n",
       "    <tr>\n",
       "      <th>0</th>\n",
       "      <td>1131</td>\n",
       "      <td>188</td>\n",
       "      <td>okcnittany.144868</td>\n",
       "      <td>OKCNittany</td>\n",
       "      <td>1.182766e+09</td>\n",
       "      <td>United States, Oklahoma</td>\n",
       "      <td>2007-06-25</td>\n",
       "      <td>187</td>\n",
       "      <td>2397</td>\n",
       "      <td>11</td>\n",
       "      <td>91</td>\n",
       "      <td>45</td>\n",
       "      <td>16</td>\n",
       "    </tr>\n",
       "    <tr>\n",
       "      <th>1</th>\n",
       "      <td>732</td>\n",
       "      <td>14</td>\n",
       "      <td>byofb.537281</td>\n",
       "      <td>BYOFB</td>\n",
       "      <td>1.292065e+09</td>\n",
       "      <td>United States, Wisconsin</td>\n",
       "      <td>2010-12-11</td>\n",
       "      <td>32</td>\n",
       "      <td>756</td>\n",
       "      <td>232</td>\n",
       "      <td>273</td>\n",
       "      <td>447</td>\n",
       "      <td>146</td>\n",
       "    </tr>\n",
       "    <tr>\n",
       "      <th>2</th>\n",
       "      <td>585</td>\n",
       "      <td>389</td>\n",
       "      <td>ferrari29.320392</td>\n",
       "      <td>ferrari29</td>\n",
       "      <td>1.239790e+09</td>\n",
       "      <td>United States, Illinois</td>\n",
       "      <td>2009-04-15</td>\n",
       "      <td>202</td>\n",
       "      <td>1193</td>\n",
       "      <td>12</td>\n",
       "      <td>42</td>\n",
       "      <td>64</td>\n",
       "      <td>335</td>\n",
       "    </tr>\n",
       "    <tr>\n",
       "      <th>3</th>\n",
       "      <td>1078</td>\n",
       "      <td>10</td>\n",
       "      <td>colsanders123.545441</td>\n",
       "      <td>ColSanders123</td>\n",
       "      <td>1.293620e+09</td>\n",
       "      <td>United States, Georgia</td>\n",
       "      <td>2010-12-29</td>\n",
       "      <td>135</td>\n",
       "      <td>1077</td>\n",
       "      <td>238</td>\n",
       "      <td>247</td>\n",
       "      <td>254</td>\n",
       "      <td>159</td>\n",
       "    </tr>\n",
       "    <tr>\n",
       "      <th>4</th>\n",
       "      <td>914</td>\n",
       "      <td>890</td>\n",
       "      <td>jays2629.517433</td>\n",
       "      <td>JayS2629</td>\n",
       "      <td>1.287828e+09</td>\n",
       "      <td>United States, Alabama</td>\n",
       "      <td>2010-10-23</td>\n",
       "      <td>101</td>\n",
       "      <td>244</td>\n",
       "      <td>20</td>\n",
       "      <td>103</td>\n",
       "      <td>21</td>\n",
       "      <td>15</td>\n",
       "    </tr>\n",
       "  </tbody>\n",
       "</table>\n",
       "</div>"
      ],
      "text/plain": [
       "   nbr_ratings  nbr_reviews               user_id      user_name  \\\n",
       "0         1131          188     okcnittany.144868     OKCNittany   \n",
       "1          732           14          byofb.537281          BYOFB   \n",
       "2          585          389      ferrari29.320392      ferrari29   \n",
       "3         1078           10  colsanders123.545441  ColSanders123   \n",
       "4          914          890       jays2629.517433       JayS2629   \n",
       "\n",
       "         joined                  location date_joined  active_days  \\\n",
       "0  1.182766e+09   United States, Oklahoma  2007-06-25          187   \n",
       "1  1.292065e+09  United States, Wisconsin  2010-12-11           32   \n",
       "2  1.239790e+09   United States, Illinois  2009-04-15          202   \n",
       "3  1.293620e+09    United States, Georgia  2010-12-29          135   \n",
       "4  1.287828e+09    United States, Alabama  2010-10-23          101   \n",
       "\n",
       "   delta_first_last  max_active_day  max_active_month   50  450  \n",
       "0              2397              11                91   45   16  \n",
       "1               756             232               273  447  146  \n",
       "2              1193              12                42   64  335  \n",
       "3              1077             238               247  254  159  \n",
       "4               244              20               103   21   15  "
      ]
     },
     "execution_count": 28,
     "metadata": {},
     "output_type": "execute_result"
    }
   ],
   "source": [
    "df_us_users.head(5)"
   ]
  },
  {
   "cell_type": "code",
   "execution_count": 29,
   "metadata": {},
   "outputs": [],
   "source": [
    "# We now have a lot more information about the reviewing behaviour of our us users\n",
    "# We proceed with some more filtering to get the final set of users on which we will conduct our study.\n",
    "\n",
    "# Minimum number of active days required:\n",
    "min_active_days = 100\n",
    "df_valid_users = df_us_users[df_us_users['active_days'] >= min_active_days]\n",
    "\n",
    "# How many days needed to submit their 500 ratings:\n",
    "min_delta = 365\n",
    "max_delta = 7*365\n",
    "df_valid_users = df_valid_users[(df_valid_users['delta_first_last'] > min_delta) & (df_valid_users['delta_first_last'] < max_delta)]\n",
    "# Maximum number of reviews in a single day: \n",
    "# On utilise pas pour le moment\n",
    "max_per_day = 70\n",
    "\n",
    "#df_valid_users = df_valid_users[df_valid_users['max_active_day'] < 70]\n",
    "# Maximum number of reviews in a single month:\n",
    "max_per_month = 70\n",
    "df_valid_users = df_valid_users[df_valid_users['max_active_month'] <= max_per_month]"
   ]
  },
  {
   "cell_type": "code",
   "execution_count": 30,
   "metadata": {},
   "outputs": [],
   "source": [
    "# To make the people more similar at the beginning and the end of their ratings career, \n",
    "# we decide to apply a last filter on the users"
   ]
  },
  {
   "cell_type": "code",
   "execution_count": 31,
   "metadata": {},
   "outputs": [
    {
     "data": {
      "text/html": [
       "<div>\n",
       "<style scoped>\n",
       "    .dataframe tbody tr th:only-of-type {\n",
       "        vertical-align: middle;\n",
       "    }\n",
       "\n",
       "    .dataframe tbody tr th {\n",
       "        vertical-align: top;\n",
       "    }\n",
       "\n",
       "    .dataframe thead th {\n",
       "        text-align: right;\n",
       "    }\n",
       "</style>\n",
       "<table border=\"1\" class=\"dataframe\">\n",
       "  <thead>\n",
       "    <tr style=\"text-align: right;\">\n",
       "      <th></th>\n",
       "      <th>nbr_ratings</th>\n",
       "      <th>nbr_reviews</th>\n",
       "      <th>user_id</th>\n",
       "      <th>user_name</th>\n",
       "      <th>joined</th>\n",
       "      <th>location</th>\n",
       "      <th>date_joined</th>\n",
       "      <th>active_days</th>\n",
       "      <th>delta_first_last</th>\n",
       "      <th>max_active_day</th>\n",
       "      <th>max_active_month</th>\n",
       "      <th>50</th>\n",
       "      <th>450</th>\n",
       "    </tr>\n",
       "  </thead>\n",
       "  <tbody>\n",
       "    <tr>\n",
       "      <th>2</th>\n",
       "      <td>585</td>\n",
       "      <td>389</td>\n",
       "      <td>ferrari29.320392</td>\n",
       "      <td>ferrari29</td>\n",
       "      <td>1.239790e+09</td>\n",
       "      <td>United States, Illinois</td>\n",
       "      <td>2009-04-15</td>\n",
       "      <td>202</td>\n",
       "      <td>1193</td>\n",
       "      <td>12</td>\n",
       "      <td>42</td>\n",
       "      <td>64</td>\n",
       "      <td>335</td>\n",
       "    </tr>\n",
       "    <tr>\n",
       "      <th>5</th>\n",
       "      <td>676</td>\n",
       "      <td>676</td>\n",
       "      <td>dodo2step.110880</td>\n",
       "      <td>Dodo2step</td>\n",
       "      <td>1.165576e+09</td>\n",
       "      <td>United States, Pennsylvania</td>\n",
       "      <td>2006-12-08</td>\n",
       "      <td>411</td>\n",
       "      <td>2153</td>\n",
       "      <td>13</td>\n",
       "      <td>28</td>\n",
       "      <td>45</td>\n",
       "      <td>442</td>\n",
       "    </tr>\n",
       "    <tr>\n",
       "      <th>7</th>\n",
       "      <td>653</td>\n",
       "      <td>651</td>\n",
       "      <td>kadonny.156863</td>\n",
       "      <td>Kadonny</td>\n",
       "      <td>1.188986e+09</td>\n",
       "      <td>United States, Pennsylvania</td>\n",
       "      <td>2007-09-05</td>\n",
       "      <td>357</td>\n",
       "      <td>1800</td>\n",
       "      <td>5</td>\n",
       "      <td>22</td>\n",
       "      <td>249</td>\n",
       "      <td>263</td>\n",
       "    </tr>\n",
       "    <tr>\n",
       "      <th>8</th>\n",
       "      <td>748</td>\n",
       "      <td>748</td>\n",
       "      <td>biggred1.206640</td>\n",
       "      <td>biggred1</td>\n",
       "      <td>1.206616e+09</td>\n",
       "      <td>United States, Indiana</td>\n",
       "      <td>2008-03-27</td>\n",
       "      <td>318</td>\n",
       "      <td>819</td>\n",
       "      <td>5</td>\n",
       "      <td>37</td>\n",
       "      <td>102</td>\n",
       "      <td>69</td>\n",
       "    </tr>\n",
       "    <tr>\n",
       "      <th>9</th>\n",
       "      <td>546</td>\n",
       "      <td>484</td>\n",
       "      <td>brownbeer.220672</td>\n",
       "      <td>brownbeer</td>\n",
       "      <td>1.211105e+09</td>\n",
       "      <td>United States, Missouri</td>\n",
       "      <td>2008-05-18</td>\n",
       "      <td>143</td>\n",
       "      <td>1815</td>\n",
       "      <td>17</td>\n",
       "      <td>62</td>\n",
       "      <td>204</td>\n",
       "      <td>1302</td>\n",
       "    </tr>\n",
       "  </tbody>\n",
       "</table>\n",
       "</div>"
      ],
      "text/plain": [
       "   nbr_ratings  nbr_reviews           user_id  user_name        joined  \\\n",
       "2          585          389  ferrari29.320392  ferrari29  1.239790e+09   \n",
       "5          676          676  dodo2step.110880  Dodo2step  1.165576e+09   \n",
       "7          653          651    kadonny.156863    Kadonny  1.188986e+09   \n",
       "8          748          748   biggred1.206640   biggred1  1.206616e+09   \n",
       "9          546          484  brownbeer.220672  brownbeer  1.211105e+09   \n",
       "\n",
       "                      location date_joined  active_days  delta_first_last  \\\n",
       "2      United States, Illinois  2009-04-15          202              1193   \n",
       "5  United States, Pennsylvania  2006-12-08          411              2153   \n",
       "7  United States, Pennsylvania  2007-09-05          357              1800   \n",
       "8       United States, Indiana  2008-03-27          318               819   \n",
       "9      United States, Missouri  2008-05-18          143              1815   \n",
       "\n",
       "   max_active_day  max_active_month   50   450  \n",
       "2              12                42   64   335  \n",
       "5              13                28   45   442  \n",
       "7               5                22  249   263  \n",
       "8               5                37  102    69  \n",
       "9              17                62  204  1302  "
      ]
     },
     "execution_count": 31,
     "metadata": {},
     "output_type": "execute_result"
    }
   ],
   "source": [
    "df_valid_users.head(5)"
   ]
  },
  {
   "cell_type": "code",
   "execution_count": 32,
   "metadata": {},
   "outputs": [
    {
     "data": {
      "application/vnd.plotly.v1+json": {
       "config": {
        "plotlyServerURL": "https://plot.ly"
       },
       "data": [
        {
         "hovertemplate": "x=%{x}<br>50=%{y}<extra></extra>",
         "legendgroup": "",
         "line": {
          "color": "#636efa",
          "dash": "solid"
         },
         "marker": {
          "symbol": "circle"
         },
         "mode": "lines",
         "name": "",
         "showlegend": false,
         "type": "scattergl",
         "x": [
          0,
          1,
          2,
          3,
          4,
          5,
          6,
          7,
          8,
          9,
          10,
          11,
          12,
          13,
          14,
          15,
          16,
          17,
          18,
          19,
          20,
          21,
          22,
          23,
          24,
          25,
          26,
          27,
          28,
          29,
          30,
          31,
          32,
          33,
          34,
          35,
          36,
          37,
          38,
          39,
          40,
          41,
          42,
          43,
          44,
          45,
          46,
          47,
          48,
          49,
          50,
          51,
          52,
          53,
          54,
          55,
          56,
          57,
          58,
          59,
          60,
          61,
          62,
          63,
          64,
          65,
          66,
          67,
          68,
          69,
          70,
          71,
          72,
          73,
          74,
          75,
          76,
          77,
          78,
          79,
          80,
          81,
          82,
          83,
          84,
          85,
          86,
          87,
          88,
          89,
          90,
          91,
          92,
          93,
          94,
          95,
          96,
          97,
          98,
          99,
          100,
          101,
          102,
          103,
          104,
          105,
          106,
          107,
          108,
          109,
          110,
          111,
          112,
          113,
          114,
          115,
          116,
          117,
          118,
          119,
          120,
          121,
          122,
          123,
          124,
          125,
          126,
          127,
          128,
          129,
          130,
          131,
          132,
          133,
          134,
          135,
          136,
          137,
          138,
          139,
          140,
          141,
          142,
          143,
          144,
          145,
          146,
          147,
          148,
          149,
          150,
          151,
          152,
          153,
          154,
          155,
          156,
          157,
          158,
          159,
          160,
          161,
          162,
          163,
          164,
          165,
          166,
          167,
          168,
          169,
          170,
          171,
          172,
          173,
          174,
          175,
          176,
          177,
          178,
          179,
          180,
          181,
          182,
          183,
          184,
          185,
          186,
          187,
          188,
          189,
          190,
          191,
          192,
          193,
          194,
          195,
          196,
          197,
          198,
          199,
          200,
          201,
          202,
          203,
          204,
          205,
          206,
          207,
          208,
          209,
          210,
          211,
          212,
          213,
          214,
          215,
          216,
          217,
          218,
          219,
          220,
          221,
          222,
          223,
          224,
          225,
          226,
          227,
          228,
          229,
          230,
          231,
          232,
          233,
          234,
          235,
          236,
          237,
          238,
          239,
          240,
          241,
          242,
          243,
          244,
          245,
          246,
          247,
          248,
          249,
          250,
          251,
          252,
          253,
          254,
          255,
          256,
          257,
          258,
          259,
          260,
          261,
          262,
          263,
          264,
          265,
          266,
          267,
          268,
          269,
          270,
          271,
          272,
          273,
          274,
          275,
          276,
          277,
          278,
          279,
          280,
          281,
          282,
          283,
          284,
          285,
          286,
          287,
          288,
          289,
          290,
          291,
          292,
          293,
          294,
          295,
          296,
          297,
          298,
          299,
          300,
          301,
          302,
          303,
          304,
          305,
          306,
          307,
          308,
          309,
          310,
          311,
          312,
          313,
          314,
          315,
          316,
          317,
          318,
          319,
          320,
          321,
          322,
          323,
          324,
          325,
          326,
          327,
          328,
          329,
          330,
          331,
          332,
          333,
          334,
          335,
          336,
          337,
          338,
          339,
          340,
          341,
          342,
          343,
          344,
          345,
          346,
          347,
          348,
          349,
          350,
          351,
          352,
          353,
          354,
          355,
          356,
          357,
          358,
          359,
          360,
          361,
          362,
          363,
          364,
          365,
          366,
          367,
          368,
          369,
          370,
          371,
          372,
          373,
          374,
          375,
          376,
          377,
          378,
          379,
          380,
          381,
          382,
          383,
          384,
          385,
          386,
          387,
          388,
          389,
          390,
          391,
          392,
          393,
          394,
          395,
          396,
          397,
          398,
          399,
          400,
          401,
          402,
          403,
          404,
          405,
          406,
          407,
          408,
          409,
          410,
          411,
          412,
          413,
          414,
          415,
          416,
          417,
          418,
          419,
          420,
          421,
          422,
          423,
          424,
          425,
          426,
          427,
          428,
          429,
          430,
          431,
          432,
          433,
          434,
          435,
          436,
          437,
          438,
          439,
          440,
          441,
          442,
          443,
          444,
          445,
          446,
          447,
          448,
          449,
          450,
          451,
          452,
          453,
          454,
          455,
          456,
          457,
          458,
          459,
          460,
          461,
          462,
          463,
          464,
          465,
          466,
          467,
          468,
          469,
          470,
          471,
          472,
          473,
          474,
          475,
          476,
          477,
          478,
          479,
          480,
          481,
          482,
          483,
          484,
          485,
          486,
          487,
          488,
          489,
          490,
          491,
          492,
          493,
          494,
          495,
          496,
          497,
          498,
          499,
          500,
          501,
          502,
          503,
          504,
          505,
          506,
          507,
          508,
          509,
          510,
          511,
          512,
          513,
          514,
          515,
          516,
          517,
          518,
          519,
          520,
          521,
          522,
          523,
          524,
          525,
          526,
          527,
          528,
          529,
          530,
          531,
          532,
          533,
          534,
          535,
          536,
          537,
          538,
          539,
          540,
          541,
          542,
          543,
          544,
          545,
          546,
          547,
          548,
          549,
          550,
          551,
          552,
          553,
          554,
          555,
          556,
          557,
          558,
          559,
          560,
          561,
          562,
          563,
          564,
          565,
          566,
          567,
          568,
          569,
          570,
          571,
          572,
          573,
          574,
          575,
          576,
          577,
          578,
          579,
          580,
          581,
          582,
          583,
          584,
          585,
          586,
          587,
          588,
          589,
          590,
          591,
          592,
          593,
          594,
          595,
          596,
          597,
          598,
          599,
          600,
          601,
          602,
          603,
          604,
          605,
          606,
          607,
          608,
          609,
          610,
          611,
          612,
          613,
          614,
          615,
          616,
          617,
          618,
          619,
          620,
          621,
          622,
          623,
          624,
          625,
          626,
          627,
          628,
          629,
          630,
          631,
          632,
          633,
          634,
          635,
          636,
          637,
          638,
          639,
          640,
          641,
          642,
          643,
          644,
          645,
          646,
          647,
          648,
          649,
          650,
          651,
          652,
          653,
          654,
          655,
          656,
          657,
          658,
          659,
          660,
          661,
          662,
          663,
          664,
          665,
          666,
          667,
          668,
          669,
          670,
          671,
          672,
          673,
          674,
          675,
          676,
          677,
          678,
          679,
          680,
          681,
          682,
          683,
          684,
          685,
          686,
          687,
          688,
          689,
          690,
          691,
          692,
          693,
          694,
          695,
          696,
          697,
          698,
          699,
          700,
          701,
          702,
          703,
          704,
          705,
          706,
          707,
          708,
          709,
          710,
          711,
          712,
          713,
          714,
          715,
          716,
          717,
          718,
          719,
          720,
          721,
          722,
          723,
          724,
          725,
          726,
          727,
          728,
          729,
          730,
          731,
          732,
          733,
          734,
          735,
          736,
          737,
          738,
          739,
          740,
          741,
          742,
          743,
          744,
          745,
          746,
          747,
          748,
          749,
          750,
          751,
          752,
          753,
          754,
          755,
          756,
          757,
          758,
          759,
          760,
          761,
          762,
          763,
          764,
          765,
          766,
          767,
          768,
          769,
          770,
          771,
          772,
          773,
          774,
          775,
          776,
          777,
          778,
          779,
          780,
          781,
          782,
          783,
          784,
          785,
          786,
          787,
          788,
          789,
          790,
          791,
          792,
          793,
          794,
          795,
          796,
          797,
          798,
          799,
          800,
          801,
          802,
          803,
          804,
          805,
          806,
          807,
          808,
          809,
          810,
          811,
          812,
          813,
          814,
          815,
          816,
          817,
          818,
          819,
          820,
          821,
          822,
          823,
          824,
          825,
          826,
          827,
          828,
          829,
          830,
          831,
          832,
          833,
          834,
          835,
          836,
          837,
          838,
          839,
          840,
          841,
          842,
          843,
          844,
          845,
          846,
          847,
          848,
          849,
          850,
          851,
          852,
          853,
          854,
          855,
          856,
          857,
          858,
          859,
          860,
          861,
          862,
          863,
          864,
          865,
          866,
          867,
          868,
          869,
          870,
          871,
          872,
          873,
          874,
          875,
          876,
          877,
          878,
          879,
          880,
          881,
          882,
          883,
          884,
          885,
          886,
          887,
          888,
          889,
          890,
          891,
          892,
          893,
          894,
          895,
          896,
          897,
          898,
          899,
          900,
          901,
          902,
          903,
          904,
          905,
          906,
          907,
          908,
          909,
          910,
          911,
          912,
          913,
          914,
          915,
          916,
          917,
          918,
          919,
          920,
          921,
          922,
          923,
          924,
          925,
          926,
          927,
          928,
          929,
          930,
          931,
          932,
          933,
          934,
          935,
          936,
          937,
          938,
          939,
          940,
          941,
          942,
          943,
          944,
          945,
          946,
          947,
          948,
          949,
          950,
          951,
          952,
          953,
          954,
          955,
          956,
          957,
          958,
          959,
          960,
          961,
          962,
          963,
          964,
          965,
          966,
          967,
          968,
          969,
          970,
          971,
          972,
          973,
          974,
          975,
          976,
          977,
          978,
          979,
          980,
          981,
          982,
          983,
          984,
          985,
          986,
          987,
          988,
          989,
          990,
          991,
          992,
          993,
          994,
          995,
          996,
          997,
          998,
          999,
          1000,
          1001,
          1002,
          1003,
          1004,
          1005,
          1006,
          1007,
          1008,
          1009,
          1010,
          1011,
          1012,
          1013,
          1014,
          1015,
          1016,
          1017,
          1018,
          1019,
          1020,
          1021,
          1022,
          1023,
          1024,
          1025,
          1026,
          1027,
          1028,
          1029,
          1030,
          1031,
          1032,
          1033,
          1034,
          1035,
          1036,
          1037,
          1038,
          1039,
          1040,
          1041,
          1042,
          1043,
          1044,
          1045,
          1046,
          1047,
          1048,
          1049,
          1050
         ],
         "xaxis": "x",
         "y": [
          0,
          0,
          0,
          0,
          0,
          0,
          0,
          0,
          0,
          0,
          0,
          0,
          0,
          1,
          1,
          1,
          1,
          1,
          1,
          1,
          1,
          2,
          2,
          3,
          3,
          3,
          3,
          3,
          3,
          3,
          3,
          4,
          4,
          4,
          4,
          4,
          4,
          4,
          4,
          5,
          5,
          5,
          5,
          5,
          7,
          7,
          7,
          7,
          7,
          8,
          8,
          9,
          9,
          9,
          9,
          9,
          10,
          11,
          11,
          12,
          12,
          12,
          12,
          13,
          13,
          13,
          14,
          14,
          14,
          14,
          15,
          15,
          15,
          16,
          16,
          17,
          17,
          17,
          17,
          17,
          17,
          17,
          17,
          17,
          17,
          18,
          18,
          18,
          18,
          18,
          19,
          19,
          19,
          20,
          20,
          20,
          20,
          21,
          21,
          21,
          21,
          21,
          21,
          21,
          22,
          22,
          22,
          22,
          22,
          22,
          23,
          23,
          23,
          23,
          24,
          24,
          24,
          24,
          24,
          24,
          24,
          24,
          25,
          25,
          25,
          25,
          25,
          25,
          26,
          26,
          26,
          26,
          26,
          26,
          26,
          26,
          27,
          27,
          27,
          27,
          27,
          27,
          27,
          27,
          27,
          27,
          27,
          28,
          28,
          28,
          28,
          28,
          28,
          28,
          29,
          29,
          29,
          29,
          29,
          29,
          29,
          29,
          30,
          30,
          30,
          30,
          30,
          30,
          31,
          31,
          31,
          31,
          31,
          31,
          31,
          31,
          31,
          31,
          31,
          32,
          32,
          32,
          32,
          32,
          32,
          32,
          32,
          32,
          33,
          33,
          33,
          33,
          33,
          33,
          34,
          34,
          34,
          34,
          34,
          34,
          34,
          35,
          35,
          35,
          35,
          35,
          35,
          35,
          35,
          36,
          36,
          36,
          36,
          36,
          36,
          36,
          36,
          37,
          37,
          37,
          37,
          37,
          38,
          38,
          38,
          38,
          38,
          38,
          38,
          38,
          39,
          39,
          39,
          39,
          40,
          40,
          40,
          40,
          40,
          40,
          40,
          40,
          40,
          41,
          41,
          41,
          41,
          41,
          41,
          42,
          42,
          42,
          42,
          42,
          42,
          42,
          42,
          42,
          43,
          43,
          43,
          43,
          43,
          43,
          43,
          43,
          43,
          43,
          43,
          44,
          44,
          44,
          44,
          44,
          44,
          44,
          45,
          45,
          45,
          45,
          45,
          45,
          45,
          46,
          46,
          46,
          46,
          46,
          46,
          46,
          46,
          47,
          47,
          47,
          47,
          48,
          48,
          48,
          48,
          48,
          48,
          48,
          49,
          49,
          49,
          49,
          49,
          49,
          49,
          49,
          50,
          50,
          50,
          50,
          50,
          50,
          51,
          51,
          51,
          51,
          51,
          51,
          52,
          52,
          52,
          52,
          52,
          52,
          52,
          53,
          53,
          53,
          53,
          53,
          53,
          53,
          53,
          54,
          54,
          54,
          54,
          54,
          54,
          54,
          54,
          55,
          55,
          55,
          55,
          55,
          55,
          55,
          55,
          55,
          55,
          55,
          56,
          56,
          56,
          56,
          56,
          56,
          56,
          56,
          57,
          57,
          57,
          57,
          57,
          57,
          57,
          57,
          57,
          57,
          57,
          57,
          57,
          57,
          57,
          57,
          58,
          58,
          58,
          58,
          58,
          58,
          58,
          59,
          59,
          59,
          59,
          59,
          59,
          59,
          59,
          59,
          59,
          59,
          59,
          59,
          60,
          60,
          60,
          60,
          61,
          61,
          61,
          61,
          61,
          61,
          61,
          61,
          61,
          62,
          62,
          62,
          62,
          62,
          62,
          62,
          62,
          63,
          63,
          63,
          63,
          63,
          64,
          64,
          64,
          64,
          64,
          64,
          65,
          65,
          65,
          65,
          65,
          66,
          66,
          66,
          66,
          66,
          66,
          66,
          66,
          67,
          67,
          67,
          68,
          68,
          68,
          68,
          68,
          69,
          69,
          69,
          69,
          69,
          70,
          70,
          70,
          70,
          70,
          70,
          70,
          71,
          71,
          71,
          71,
          71,
          71,
          71,
          72,
          72,
          72,
          72,
          72,
          72,
          72,
          72,
          72,
          72,
          73,
          73,
          73,
          73,
          73,
          73,
          73,
          74,
          74,
          74,
          74,
          74,
          74,
          75,
          75,
          75,
          75,
          75,
          75,
          75,
          76,
          76,
          76,
          76,
          76,
          76,
          76,
          77,
          77,
          77,
          77,
          77,
          77,
          78,
          78,
          78,
          78,
          78,
          78,
          78,
          79,
          79,
          79,
          79,
          79,
          79,
          80,
          80,
          80,
          80,
          80,
          80,
          80,
          80,
          81,
          81,
          81,
          82,
          82,
          82,
          83,
          83,
          83,
          83,
          83,
          84,
          84,
          84,
          85,
          85,
          85,
          87,
          87,
          87,
          87,
          87,
          87,
          88,
          88,
          89,
          89,
          89,
          89,
          89,
          89,
          90,
          91,
          91,
          91,
          92,
          92,
          92,
          92,
          93,
          93,
          93,
          93,
          93,
          93,
          93,
          94,
          94,
          94,
          94,
          94,
          94,
          94,
          94,
          95,
          95,
          95,
          95,
          96,
          96,
          96,
          96,
          97,
          97,
          97,
          97,
          97,
          97,
          97,
          97,
          97,
          97,
          98,
          98,
          98,
          98,
          98,
          99,
          99,
          99,
          99,
          99,
          99,
          99,
          100,
          100,
          100,
          101,
          101,
          102,
          102,
          102,
          102,
          102,
          102,
          103,
          103,
          103,
          104,
          105,
          105,
          105,
          106,
          106,
          106,
          106,
          106,
          107,
          107,
          107,
          107,
          107,
          107,
          108,
          109,
          109,
          109,
          109,
          109,
          109,
          109,
          109,
          109,
          110,
          110,
          110,
          110,
          111,
          112,
          112,
          113,
          113,
          113,
          114,
          114,
          115,
          115,
          115,
          115,
          116,
          116,
          116,
          116,
          116,
          116,
          116,
          116,
          116,
          117,
          117,
          118,
          119,
          120,
          120,
          121,
          121,
          121,
          121,
          121,
          122,
          123,
          123,
          124,
          124,
          124,
          125,
          126,
          126,
          126,
          126,
          126,
          127,
          127,
          127,
          127,
          127,
          128,
          129,
          129,
          130,
          130,
          130,
          130,
          131,
          131,
          131,
          133,
          133,
          134,
          134,
          134,
          135,
          135,
          135,
          136,
          136,
          137,
          137,
          137,
          137,
          138,
          139,
          140,
          140,
          140,
          140,
          140,
          141,
          141,
          142,
          143,
          145,
          145,
          146,
          147,
          148,
          150,
          151,
          151,
          151,
          152,
          152,
          153,
          154,
          154,
          155,
          155,
          156,
          157,
          157,
          158,
          158,
          158,
          160,
          161,
          162,
          163,
          164,
          165,
          165,
          166,
          167,
          167,
          167,
          168,
          168,
          168,
          169,
          169,
          170,
          170,
          171,
          172,
          173,
          174,
          174,
          175,
          176,
          177,
          177,
          180,
          180,
          181,
          182,
          182,
          184,
          184,
          184,
          185,
          185,
          185,
          187,
          188,
          188,
          189,
          189,
          191,
          192,
          192,
          193,
          194,
          194,
          195,
          196,
          196,
          197,
          198,
          198,
          198,
          199,
          199,
          200,
          200,
          200,
          202,
          203,
          203,
          204,
          204,
          207,
          209,
          210,
          211,
          212,
          212,
          213,
          213,
          214,
          215,
          215,
          216,
          216,
          217,
          218,
          218,
          218,
          219,
          220,
          223,
          224,
          224,
          226,
          226,
          226,
          228,
          228,
          229,
          230,
          230,
          231,
          231,
          232,
          233,
          233,
          234,
          234,
          235,
          239,
          239,
          239,
          240,
          240,
          242,
          246,
          246,
          247,
          248,
          249,
          249,
          252,
          254,
          254,
          254,
          257,
          258,
          259,
          260,
          261,
          261,
          262,
          263,
          265,
          266,
          267,
          267,
          271,
          275,
          275,
          276,
          276,
          277,
          281,
          283,
          284,
          284,
          288,
          288,
          288,
          292,
          294,
          294,
          296,
          296,
          300,
          300,
          300,
          301,
          301,
          309,
          313,
          316,
          317,
          323,
          323,
          328,
          328,
          329,
          331,
          334,
          336,
          336,
          336,
          336,
          337,
          339,
          344,
          344,
          351,
          351,
          352,
          355,
          355,
          358,
          358,
          358,
          359,
          363,
          365,
          369,
          369,
          371,
          372,
          377,
          379,
          381,
          381,
          383,
          383,
          385,
          393,
          394,
          402,
          402,
          403,
          403,
          405,
          408,
          413,
          414,
          415,
          418,
          427,
          434,
          436,
          437,
          438,
          439,
          440,
          442,
          465,
          473,
          489,
          498,
          498,
          506,
          507,
          508,
          509,
          513,
          515,
          536,
          539,
          540,
          541,
          543,
          549,
          553,
          559,
          561,
          570,
          574,
          576,
          576,
          592,
          600,
          620,
          631,
          635,
          656,
          671,
          673,
          675,
          689,
          712,
          749,
          749,
          756,
          779,
          786,
          815,
          844,
          852,
          862,
          871,
          890,
          907,
          921,
          963,
          1058,
          1061,
          1116,
          1180,
          1191,
          1210,
          1213,
          1250,
          1303,
          1318,
          1393,
          1472,
          1480,
          1616,
          1624,
          1674,
          1794
         ],
         "yaxis": "y"
        }
       ],
       "layout": {
        "legend": {
         "tracegroupgap": 0
        },
        "margin": {
         "t": 60
        },
        "shapes": [
         {
          "line": {
           "color": "red"
          },
          "type": "line",
          "x0": 0,
          "x1": 1,
          "xref": "x domain",
          "y0": 500,
          "y1": 500,
          "yref": "y"
         }
        ],
        "template": {
         "data": {
          "bar": [
           {
            "error_x": {
             "color": "#2a3f5f"
            },
            "error_y": {
             "color": "#2a3f5f"
            },
            "marker": {
             "line": {
              "color": "#E5ECF6",
              "width": 0.5
             },
             "pattern": {
              "fillmode": "overlay",
              "size": 10,
              "solidity": 0.2
             }
            },
            "type": "bar"
           }
          ],
          "barpolar": [
           {
            "marker": {
             "line": {
              "color": "#E5ECF6",
              "width": 0.5
             },
             "pattern": {
              "fillmode": "overlay",
              "size": 10,
              "solidity": 0.2
             }
            },
            "type": "barpolar"
           }
          ],
          "carpet": [
           {
            "aaxis": {
             "endlinecolor": "#2a3f5f",
             "gridcolor": "white",
             "linecolor": "white",
             "minorgridcolor": "white",
             "startlinecolor": "#2a3f5f"
            },
            "baxis": {
             "endlinecolor": "#2a3f5f",
             "gridcolor": "white",
             "linecolor": "white",
             "minorgridcolor": "white",
             "startlinecolor": "#2a3f5f"
            },
            "type": "carpet"
           }
          ],
          "choropleth": [
           {
            "colorbar": {
             "outlinewidth": 0,
             "ticks": ""
            },
            "type": "choropleth"
           }
          ],
          "contour": [
           {
            "colorbar": {
             "outlinewidth": 0,
             "ticks": ""
            },
            "colorscale": [
             [
              0,
              "#0d0887"
             ],
             [
              0.1111111111111111,
              "#46039f"
             ],
             [
              0.2222222222222222,
              "#7201a8"
             ],
             [
              0.3333333333333333,
              "#9c179e"
             ],
             [
              0.4444444444444444,
              "#bd3786"
             ],
             [
              0.5555555555555556,
              "#d8576b"
             ],
             [
              0.6666666666666666,
              "#ed7953"
             ],
             [
              0.7777777777777778,
              "#fb9f3a"
             ],
             [
              0.8888888888888888,
              "#fdca26"
             ],
             [
              1,
              "#f0f921"
             ]
            ],
            "type": "contour"
           }
          ],
          "contourcarpet": [
           {
            "colorbar": {
             "outlinewidth": 0,
             "ticks": ""
            },
            "type": "contourcarpet"
           }
          ],
          "heatmap": [
           {
            "colorbar": {
             "outlinewidth": 0,
             "ticks": ""
            },
            "colorscale": [
             [
              0,
              "#0d0887"
             ],
             [
              0.1111111111111111,
              "#46039f"
             ],
             [
              0.2222222222222222,
              "#7201a8"
             ],
             [
              0.3333333333333333,
              "#9c179e"
             ],
             [
              0.4444444444444444,
              "#bd3786"
             ],
             [
              0.5555555555555556,
              "#d8576b"
             ],
             [
              0.6666666666666666,
              "#ed7953"
             ],
             [
              0.7777777777777778,
              "#fb9f3a"
             ],
             [
              0.8888888888888888,
              "#fdca26"
             ],
             [
              1,
              "#f0f921"
             ]
            ],
            "type": "heatmap"
           }
          ],
          "heatmapgl": [
           {
            "colorbar": {
             "outlinewidth": 0,
             "ticks": ""
            },
            "colorscale": [
             [
              0,
              "#0d0887"
             ],
             [
              0.1111111111111111,
              "#46039f"
             ],
             [
              0.2222222222222222,
              "#7201a8"
             ],
             [
              0.3333333333333333,
              "#9c179e"
             ],
             [
              0.4444444444444444,
              "#bd3786"
             ],
             [
              0.5555555555555556,
              "#d8576b"
             ],
             [
              0.6666666666666666,
              "#ed7953"
             ],
             [
              0.7777777777777778,
              "#fb9f3a"
             ],
             [
              0.8888888888888888,
              "#fdca26"
             ],
             [
              1,
              "#f0f921"
             ]
            ],
            "type": "heatmapgl"
           }
          ],
          "histogram": [
           {
            "marker": {
             "pattern": {
              "fillmode": "overlay",
              "size": 10,
              "solidity": 0.2
             }
            },
            "type": "histogram"
           }
          ],
          "histogram2d": [
           {
            "colorbar": {
             "outlinewidth": 0,
             "ticks": ""
            },
            "colorscale": [
             [
              0,
              "#0d0887"
             ],
             [
              0.1111111111111111,
              "#46039f"
             ],
             [
              0.2222222222222222,
              "#7201a8"
             ],
             [
              0.3333333333333333,
              "#9c179e"
             ],
             [
              0.4444444444444444,
              "#bd3786"
             ],
             [
              0.5555555555555556,
              "#d8576b"
             ],
             [
              0.6666666666666666,
              "#ed7953"
             ],
             [
              0.7777777777777778,
              "#fb9f3a"
             ],
             [
              0.8888888888888888,
              "#fdca26"
             ],
             [
              1,
              "#f0f921"
             ]
            ],
            "type": "histogram2d"
           }
          ],
          "histogram2dcontour": [
           {
            "colorbar": {
             "outlinewidth": 0,
             "ticks": ""
            },
            "colorscale": [
             [
              0,
              "#0d0887"
             ],
             [
              0.1111111111111111,
              "#46039f"
             ],
             [
              0.2222222222222222,
              "#7201a8"
             ],
             [
              0.3333333333333333,
              "#9c179e"
             ],
             [
              0.4444444444444444,
              "#bd3786"
             ],
             [
              0.5555555555555556,
              "#d8576b"
             ],
             [
              0.6666666666666666,
              "#ed7953"
             ],
             [
              0.7777777777777778,
              "#fb9f3a"
             ],
             [
              0.8888888888888888,
              "#fdca26"
             ],
             [
              1,
              "#f0f921"
             ]
            ],
            "type": "histogram2dcontour"
           }
          ],
          "mesh3d": [
           {
            "colorbar": {
             "outlinewidth": 0,
             "ticks": ""
            },
            "type": "mesh3d"
           }
          ],
          "parcoords": [
           {
            "line": {
             "colorbar": {
              "outlinewidth": 0,
              "ticks": ""
             }
            },
            "type": "parcoords"
           }
          ],
          "pie": [
           {
            "automargin": true,
            "type": "pie"
           }
          ],
          "scatter": [
           {
            "marker": {
             "colorbar": {
              "outlinewidth": 0,
              "ticks": ""
             }
            },
            "type": "scatter"
           }
          ],
          "scatter3d": [
           {
            "line": {
             "colorbar": {
              "outlinewidth": 0,
              "ticks": ""
             }
            },
            "marker": {
             "colorbar": {
              "outlinewidth": 0,
              "ticks": ""
             }
            },
            "type": "scatter3d"
           }
          ],
          "scattercarpet": [
           {
            "marker": {
             "colorbar": {
              "outlinewidth": 0,
              "ticks": ""
             }
            },
            "type": "scattercarpet"
           }
          ],
          "scattergeo": [
           {
            "marker": {
             "colorbar": {
              "outlinewidth": 0,
              "ticks": ""
             }
            },
            "type": "scattergeo"
           }
          ],
          "scattergl": [
           {
            "marker": {
             "colorbar": {
              "outlinewidth": 0,
              "ticks": ""
             }
            },
            "type": "scattergl"
           }
          ],
          "scattermapbox": [
           {
            "marker": {
             "colorbar": {
              "outlinewidth": 0,
              "ticks": ""
             }
            },
            "type": "scattermapbox"
           }
          ],
          "scatterpolar": [
           {
            "marker": {
             "colorbar": {
              "outlinewidth": 0,
              "ticks": ""
             }
            },
            "type": "scatterpolar"
           }
          ],
          "scatterpolargl": [
           {
            "marker": {
             "colorbar": {
              "outlinewidth": 0,
              "ticks": ""
             }
            },
            "type": "scatterpolargl"
           }
          ],
          "scatterternary": [
           {
            "marker": {
             "colorbar": {
              "outlinewidth": 0,
              "ticks": ""
             }
            },
            "type": "scatterternary"
           }
          ],
          "surface": [
           {
            "colorbar": {
             "outlinewidth": 0,
             "ticks": ""
            },
            "colorscale": [
             [
              0,
              "#0d0887"
             ],
             [
              0.1111111111111111,
              "#46039f"
             ],
             [
              0.2222222222222222,
              "#7201a8"
             ],
             [
              0.3333333333333333,
              "#9c179e"
             ],
             [
              0.4444444444444444,
              "#bd3786"
             ],
             [
              0.5555555555555556,
              "#d8576b"
             ],
             [
              0.6666666666666666,
              "#ed7953"
             ],
             [
              0.7777777777777778,
              "#fb9f3a"
             ],
             [
              0.8888888888888888,
              "#fdca26"
             ],
             [
              1,
              "#f0f921"
             ]
            ],
            "type": "surface"
           }
          ],
          "table": [
           {
            "cells": {
             "fill": {
              "color": "#EBF0F8"
             },
             "line": {
              "color": "white"
             }
            },
            "header": {
             "fill": {
              "color": "#C8D4E3"
             },
             "line": {
              "color": "white"
             }
            },
            "type": "table"
           }
          ]
         },
         "layout": {
          "annotationdefaults": {
           "arrowcolor": "#2a3f5f",
           "arrowhead": 0,
           "arrowwidth": 1
          },
          "autotypenumbers": "strict",
          "coloraxis": {
           "colorbar": {
            "outlinewidth": 0,
            "ticks": ""
           }
          },
          "colorscale": {
           "diverging": [
            [
             0,
             "#8e0152"
            ],
            [
             0.1,
             "#c51b7d"
            ],
            [
             0.2,
             "#de77ae"
            ],
            [
             0.3,
             "#f1b6da"
            ],
            [
             0.4,
             "#fde0ef"
            ],
            [
             0.5,
             "#f7f7f7"
            ],
            [
             0.6,
             "#e6f5d0"
            ],
            [
             0.7,
             "#b8e186"
            ],
            [
             0.8,
             "#7fbc41"
            ],
            [
             0.9,
             "#4d9221"
            ],
            [
             1,
             "#276419"
            ]
           ],
           "sequential": [
            [
             0,
             "#0d0887"
            ],
            [
             0.1111111111111111,
             "#46039f"
            ],
            [
             0.2222222222222222,
             "#7201a8"
            ],
            [
             0.3333333333333333,
             "#9c179e"
            ],
            [
             0.4444444444444444,
             "#bd3786"
            ],
            [
             0.5555555555555556,
             "#d8576b"
            ],
            [
             0.6666666666666666,
             "#ed7953"
            ],
            [
             0.7777777777777778,
             "#fb9f3a"
            ],
            [
             0.8888888888888888,
             "#fdca26"
            ],
            [
             1,
             "#f0f921"
            ]
           ],
           "sequentialminus": [
            [
             0,
             "#0d0887"
            ],
            [
             0.1111111111111111,
             "#46039f"
            ],
            [
             0.2222222222222222,
             "#7201a8"
            ],
            [
             0.3333333333333333,
             "#9c179e"
            ],
            [
             0.4444444444444444,
             "#bd3786"
            ],
            [
             0.5555555555555556,
             "#d8576b"
            ],
            [
             0.6666666666666666,
             "#ed7953"
            ],
            [
             0.7777777777777778,
             "#fb9f3a"
            ],
            [
             0.8888888888888888,
             "#fdca26"
            ],
            [
             1,
             "#f0f921"
            ]
           ]
          },
          "colorway": [
           "#636efa",
           "#EF553B",
           "#00cc96",
           "#ab63fa",
           "#FFA15A",
           "#19d3f3",
           "#FF6692",
           "#B6E880",
           "#FF97FF",
           "#FECB52"
          ],
          "font": {
           "color": "#2a3f5f"
          },
          "geo": {
           "bgcolor": "white",
           "lakecolor": "white",
           "landcolor": "#E5ECF6",
           "showlakes": true,
           "showland": true,
           "subunitcolor": "white"
          },
          "hoverlabel": {
           "align": "left"
          },
          "hovermode": "closest",
          "mapbox": {
           "style": "light"
          },
          "paper_bgcolor": "white",
          "plot_bgcolor": "#E5ECF6",
          "polar": {
           "angularaxis": {
            "gridcolor": "white",
            "linecolor": "white",
            "ticks": ""
           },
           "bgcolor": "#E5ECF6",
           "radialaxis": {
            "gridcolor": "white",
            "linecolor": "white",
            "ticks": ""
           }
          },
          "scene": {
           "xaxis": {
            "backgroundcolor": "#E5ECF6",
            "gridcolor": "white",
            "gridwidth": 2,
            "linecolor": "white",
            "showbackground": true,
            "ticks": "",
            "zerolinecolor": "white"
           },
           "yaxis": {
            "backgroundcolor": "#E5ECF6",
            "gridcolor": "white",
            "gridwidth": 2,
            "linecolor": "white",
            "showbackground": true,
            "ticks": "",
            "zerolinecolor": "white"
           },
           "zaxis": {
            "backgroundcolor": "#E5ECF6",
            "gridcolor": "white",
            "gridwidth": 2,
            "linecolor": "white",
            "showbackground": true,
            "ticks": "",
            "zerolinecolor": "white"
           }
          },
          "shapedefaults": {
           "line": {
            "color": "#2a3f5f"
           }
          },
          "ternary": {
           "aaxis": {
            "gridcolor": "white",
            "linecolor": "white",
            "ticks": ""
           },
           "baxis": {
            "gridcolor": "white",
            "linecolor": "white",
            "ticks": ""
           },
           "bgcolor": "#E5ECF6",
           "caxis": {
            "gridcolor": "white",
            "linecolor": "white",
            "ticks": ""
           }
          },
          "title": {
           "x": 0.05
          },
          "xaxis": {
           "automargin": true,
           "gridcolor": "white",
           "linecolor": "white",
           "ticks": "",
           "title": {
            "standoff": 15
           },
           "zerolinecolor": "white",
           "zerolinewidth": 2
          },
          "yaxis": {
           "automargin": true,
           "gridcolor": "white",
           "linecolor": "white",
           "ticks": "",
           "title": {
            "standoff": 15
           },
           "zerolinecolor": "white",
           "zerolinewidth": 2
          }
         }
        },
        "xaxis": {
         "anchor": "y",
         "domain": [
          0,
          1
         ],
         "title": {
          "text": "x"
         }
        },
        "yaxis": {
         "anchor": "x",
         "domain": [
          0,
          1
         ],
         "title": {
          "text": "50"
         }
        }
       }
      }
     },
     "metadata": {},
     "output_type": "display_data"
    }
   ],
   "source": [
    "df_check = df_valid_users['50'].to_frame()\n",
    "df_check.sort_values(by = '50', inplace=True)\n",
    "fig = px.line(df_check, x = range(df_check.shape[0]), y = '50')\n",
    "fig.add_hline(500, line_color = 'red')\n",
    "fig.show()"
   ]
  },
  {
   "cell_type": "code",
   "execution_count": 33,
   "metadata": {},
   "outputs": [],
   "source": [
    "max_time_to_rate = 500\n",
    "df_valid_users = df_valid_users[(df_valid_users['50'] < max_time_to_rate)]"
   ]
  },
  {
   "cell_type": "code",
   "execution_count": 34,
   "metadata": {},
   "outputs": [
    {
     "data": {
      "application/vnd.plotly.v1+json": {
       "config": {
        "plotlyServerURL": "https://plot.ly"
       },
       "data": [
        {
         "hovertemplate": "x=%{x}<br>450=%{y}<extra></extra>",
         "legendgroup": "",
         "line": {
          "color": "#636efa",
          "dash": "solid"
         },
         "marker": {
          "symbol": "circle"
         },
         "mode": "lines",
         "name": "",
         "orientation": "v",
         "showlegend": false,
         "type": "scatter",
         "x": [
          0,
          1,
          2,
          3,
          4,
          5,
          6,
          7,
          8,
          9,
          10,
          11,
          12,
          13,
          14,
          15,
          16,
          17,
          18,
          19,
          20,
          21,
          22,
          23,
          24,
          25,
          26,
          27,
          28,
          29,
          30,
          31,
          32,
          33,
          34,
          35,
          36,
          37,
          38,
          39,
          40,
          41,
          42,
          43,
          44,
          45,
          46,
          47,
          48,
          49,
          50,
          51,
          52,
          53,
          54,
          55,
          56,
          57,
          58,
          59,
          60,
          61,
          62,
          63,
          64,
          65,
          66,
          67,
          68,
          69,
          70,
          71,
          72,
          73,
          74,
          75,
          76,
          77,
          78,
          79,
          80,
          81,
          82,
          83,
          84,
          85,
          86,
          87,
          88,
          89,
          90,
          91,
          92,
          93,
          94,
          95,
          96,
          97,
          98,
          99,
          100,
          101,
          102,
          103,
          104,
          105,
          106,
          107,
          108,
          109,
          110,
          111,
          112,
          113,
          114,
          115,
          116,
          117,
          118,
          119,
          120,
          121,
          122,
          123,
          124,
          125,
          126,
          127,
          128,
          129,
          130,
          131,
          132,
          133,
          134,
          135,
          136,
          137,
          138,
          139,
          140,
          141,
          142,
          143,
          144,
          145,
          146,
          147,
          148,
          149,
          150,
          151,
          152,
          153,
          154,
          155,
          156,
          157,
          158,
          159,
          160,
          161,
          162,
          163,
          164,
          165,
          166,
          167,
          168,
          169,
          170,
          171,
          172,
          173,
          174,
          175,
          176,
          177,
          178,
          179,
          180,
          181,
          182,
          183,
          184,
          185,
          186,
          187,
          188,
          189,
          190,
          191,
          192,
          193,
          194,
          195,
          196,
          197,
          198,
          199,
          200,
          201,
          202,
          203,
          204,
          205,
          206,
          207,
          208,
          209,
          210,
          211,
          212,
          213,
          214,
          215,
          216,
          217,
          218,
          219,
          220,
          221,
          222,
          223,
          224,
          225,
          226,
          227,
          228,
          229,
          230,
          231,
          232,
          233,
          234,
          235,
          236,
          237,
          238,
          239,
          240,
          241,
          242,
          243,
          244,
          245,
          246,
          247,
          248,
          249,
          250,
          251,
          252,
          253,
          254,
          255,
          256,
          257,
          258,
          259,
          260,
          261,
          262,
          263,
          264,
          265,
          266,
          267,
          268,
          269,
          270,
          271,
          272,
          273,
          274,
          275,
          276,
          277,
          278,
          279,
          280,
          281,
          282,
          283,
          284,
          285,
          286,
          287,
          288,
          289,
          290,
          291,
          292,
          293,
          294,
          295,
          296,
          297,
          298,
          299,
          300,
          301,
          302,
          303,
          304,
          305,
          306,
          307,
          308,
          309,
          310,
          311,
          312,
          313,
          314,
          315,
          316,
          317,
          318,
          319,
          320,
          321,
          322,
          323,
          324,
          325,
          326,
          327,
          328,
          329,
          330,
          331,
          332,
          333,
          334,
          335,
          336,
          337,
          338,
          339,
          340,
          341,
          342,
          343,
          344,
          345,
          346,
          347,
          348,
          349,
          350,
          351,
          352,
          353,
          354,
          355,
          356,
          357,
          358,
          359,
          360,
          361,
          362,
          363,
          364,
          365,
          366,
          367,
          368,
          369,
          370,
          371,
          372,
          373,
          374,
          375,
          376,
          377,
          378,
          379,
          380,
          381,
          382,
          383,
          384,
          385,
          386,
          387,
          388,
          389,
          390,
          391,
          392,
          393,
          394,
          395,
          396,
          397,
          398,
          399,
          400,
          401,
          402,
          403,
          404,
          405,
          406,
          407,
          408,
          409,
          410,
          411,
          412,
          413,
          414,
          415,
          416,
          417,
          418,
          419,
          420,
          421,
          422,
          423,
          424,
          425,
          426,
          427,
          428,
          429,
          430,
          431,
          432,
          433,
          434,
          435,
          436,
          437,
          438,
          439,
          440,
          441,
          442,
          443,
          444,
          445,
          446,
          447,
          448,
          449,
          450,
          451,
          452,
          453,
          454,
          455,
          456,
          457,
          458,
          459,
          460,
          461,
          462,
          463,
          464,
          465,
          466,
          467,
          468,
          469,
          470,
          471,
          472,
          473,
          474,
          475,
          476,
          477,
          478,
          479,
          480,
          481,
          482,
          483,
          484,
          485,
          486,
          487,
          488,
          489,
          490,
          491,
          492,
          493,
          494,
          495,
          496,
          497,
          498,
          499,
          500,
          501,
          502,
          503,
          504,
          505,
          506,
          507,
          508,
          509,
          510,
          511,
          512,
          513,
          514,
          515,
          516,
          517,
          518,
          519,
          520,
          521,
          522,
          523,
          524,
          525,
          526,
          527,
          528,
          529,
          530,
          531,
          532,
          533,
          534,
          535,
          536,
          537,
          538,
          539,
          540,
          541,
          542,
          543,
          544,
          545,
          546,
          547,
          548,
          549,
          550,
          551,
          552,
          553,
          554,
          555,
          556,
          557,
          558,
          559,
          560,
          561,
          562,
          563,
          564,
          565,
          566,
          567,
          568,
          569,
          570,
          571,
          572,
          573,
          574,
          575,
          576,
          577,
          578,
          579,
          580,
          581,
          582,
          583,
          584,
          585,
          586,
          587,
          588,
          589,
          590,
          591,
          592,
          593,
          594,
          595,
          596,
          597,
          598,
          599,
          600,
          601,
          602,
          603,
          604,
          605,
          606,
          607,
          608,
          609,
          610,
          611,
          612,
          613,
          614,
          615,
          616,
          617,
          618,
          619,
          620,
          621,
          622,
          623,
          624,
          625,
          626,
          627,
          628,
          629,
          630,
          631,
          632,
          633,
          634,
          635,
          636,
          637,
          638,
          639,
          640,
          641,
          642,
          643,
          644,
          645,
          646,
          647,
          648,
          649,
          650,
          651,
          652,
          653,
          654,
          655,
          656,
          657,
          658,
          659,
          660,
          661,
          662,
          663,
          664,
          665,
          666,
          667,
          668,
          669,
          670,
          671,
          672,
          673,
          674,
          675,
          676,
          677,
          678,
          679,
          680,
          681,
          682,
          683,
          684,
          685,
          686,
          687,
          688,
          689,
          690,
          691,
          692,
          693,
          694,
          695,
          696,
          697,
          698,
          699,
          700,
          701,
          702,
          703,
          704,
          705,
          706,
          707,
          708,
          709,
          710,
          711,
          712,
          713,
          714,
          715,
          716,
          717,
          718,
          719,
          720,
          721,
          722,
          723,
          724,
          725,
          726,
          727,
          728,
          729,
          730,
          731,
          732,
          733,
          734,
          735,
          736,
          737,
          738,
          739,
          740,
          741,
          742,
          743,
          744,
          745,
          746,
          747,
          748,
          749,
          750,
          751,
          752,
          753,
          754,
          755,
          756,
          757,
          758,
          759,
          760,
          761,
          762,
          763,
          764,
          765,
          766,
          767,
          768,
          769,
          770,
          771,
          772,
          773,
          774,
          775,
          776,
          777,
          778,
          779,
          780,
          781,
          782,
          783,
          784,
          785,
          786,
          787,
          788,
          789,
          790,
          791,
          792,
          793,
          794,
          795,
          796,
          797,
          798,
          799,
          800,
          801,
          802,
          803,
          804,
          805,
          806,
          807,
          808,
          809,
          810,
          811,
          812,
          813,
          814,
          815,
          816,
          817,
          818,
          819,
          820,
          821,
          822,
          823,
          824,
          825,
          826,
          827,
          828,
          829,
          830,
          831,
          832,
          833,
          834,
          835,
          836,
          837,
          838,
          839,
          840,
          841,
          842,
          843,
          844,
          845,
          846,
          847,
          848,
          849,
          850,
          851,
          852,
          853,
          854,
          855,
          856,
          857,
          858,
          859,
          860,
          861,
          862,
          863,
          864,
          865,
          866,
          867,
          868,
          869,
          870,
          871,
          872,
          873,
          874,
          875,
          876,
          877,
          878,
          879,
          880,
          881,
          882,
          883,
          884,
          885,
          886,
          887,
          888,
          889,
          890,
          891,
          892,
          893,
          894,
          895,
          896,
          897,
          898,
          899,
          900,
          901,
          902,
          903,
          904,
          905,
          906,
          907,
          908,
          909,
          910,
          911,
          912,
          913,
          914,
          915,
          916,
          917,
          918,
          919,
          920,
          921,
          922,
          923,
          924,
          925,
          926,
          927,
          928,
          929,
          930,
          931,
          932,
          933,
          934,
          935,
          936,
          937,
          938,
          939,
          940,
          941,
          942,
          943,
          944,
          945,
          946,
          947,
          948,
          949,
          950,
          951,
          952,
          953,
          954,
          955,
          956,
          957,
          958,
          959,
          960,
          961,
          962,
          963,
          964,
          965,
          966,
          967,
          968,
          969,
          970,
          971,
          972,
          973,
          974,
          975,
          976,
          977,
          978,
          979,
          980,
          981,
          982,
          983,
          984,
          985,
          986,
          987,
          988,
          989
         ],
         "xaxis": "x",
         "y": [
          0,
          2,
          8,
          11,
          12,
          12,
          15,
          17,
          20,
          20,
          22,
          22,
          22,
          22,
          23,
          23,
          24,
          25,
          25,
          26,
          26,
          26,
          26,
          26,
          27,
          27,
          27,
          27,
          27,
          27,
          28,
          28,
          28,
          28,
          28,
          29,
          29,
          29,
          29,
          29,
          30,
          30,
          30,
          30,
          31,
          31,
          31,
          31,
          31,
          31,
          32,
          32,
          32,
          32,
          33,
          33,
          33,
          33,
          33,
          33,
          33,
          34,
          34,
          34,
          34,
          34,
          34,
          34,
          34,
          35,
          35,
          35,
          35,
          35,
          35,
          35,
          35,
          35,
          35,
          36,
          36,
          36,
          36,
          36,
          36,
          37,
          37,
          37,
          37,
          37,
          38,
          38,
          38,
          38,
          38,
          38,
          38,
          38,
          38,
          39,
          39,
          39,
          39,
          39,
          39,
          40,
          40,
          40,
          40,
          40,
          40,
          41,
          41,
          41,
          41,
          41,
          41,
          41,
          42,
          42,
          42,
          42,
          42,
          42,
          42,
          43,
          43,
          43,
          43,
          43,
          43,
          43,
          43,
          43,
          43,
          43,
          44,
          44,
          44,
          44,
          44,
          44,
          44,
          44,
          44,
          45,
          45,
          45,
          45,
          45,
          45,
          45,
          45,
          45,
          46,
          46,
          46,
          46,
          46,
          46,
          46,
          46,
          46,
          46,
          47,
          47,
          47,
          47,
          47,
          47,
          47,
          47,
          47,
          47,
          47,
          47,
          47,
          48,
          48,
          48,
          48,
          48,
          48,
          48,
          49,
          49,
          49,
          49,
          49,
          49,
          49,
          49,
          49,
          49,
          49,
          49,
          49,
          49,
          49,
          49,
          49,
          50,
          50,
          50,
          51,
          51,
          51,
          51,
          51,
          51,
          51,
          51,
          51,
          51,
          52,
          52,
          52,
          52,
          52,
          52,
          53,
          53,
          53,
          53,
          53,
          53,
          53,
          53,
          53,
          53,
          53,
          54,
          54,
          54,
          54,
          54,
          54,
          54,
          54,
          54,
          54,
          55,
          55,
          55,
          55,
          55,
          55,
          55,
          55,
          55,
          55,
          55,
          56,
          56,
          56,
          56,
          56,
          56,
          56,
          56,
          56,
          56,
          56,
          57,
          57,
          57,
          57,
          57,
          57,
          57,
          57,
          57,
          57,
          57,
          58,
          58,
          58,
          58,
          58,
          58,
          58,
          58,
          58,
          58,
          59,
          59,
          59,
          59,
          59,
          59,
          59,
          59,
          59,
          59,
          60,
          60,
          60,
          60,
          60,
          61,
          62,
          62,
          62,
          62,
          62,
          62,
          62,
          62,
          63,
          63,
          63,
          63,
          63,
          63,
          63,
          63,
          63,
          63,
          63,
          64,
          64,
          64,
          64,
          64,
          64,
          64,
          64,
          65,
          65,
          65,
          65,
          65,
          65,
          65,
          66,
          66,
          66,
          66,
          66,
          66,
          66,
          67,
          67,
          67,
          67,
          68,
          68,
          68,
          68,
          68,
          68,
          69,
          69,
          69,
          69,
          69,
          69,
          69,
          69,
          69,
          69,
          70,
          70,
          70,
          70,
          70,
          70,
          70,
          70,
          70,
          71,
          71,
          71,
          71,
          71,
          71,
          71,
          71,
          71,
          71,
          71,
          71,
          71,
          72,
          72,
          72,
          72,
          72,
          72,
          72,
          72,
          72,
          72,
          73,
          73,
          73,
          73,
          73,
          73,
          74,
          74,
          74,
          74,
          74,
          74,
          74,
          75,
          75,
          75,
          75,
          75,
          75,
          75,
          75,
          76,
          76,
          76,
          76,
          76,
          76,
          76,
          76,
          76,
          76,
          76,
          76,
          76,
          76,
          76,
          77,
          77,
          77,
          77,
          77,
          78,
          78,
          78,
          78,
          78,
          78,
          78,
          79,
          79,
          79,
          79,
          79,
          79,
          79,
          79,
          80,
          80,
          81,
          81,
          81,
          81,
          81,
          81,
          81,
          81,
          82,
          82,
          82,
          82,
          83,
          83,
          83,
          83,
          83,
          83,
          83,
          84,
          84,
          84,
          84,
          84,
          85,
          85,
          85,
          85,
          85,
          85,
          85,
          86,
          86,
          86,
          86,
          86,
          86,
          86,
          87,
          87,
          87,
          87,
          87,
          87,
          87,
          87,
          87,
          88,
          88,
          88,
          88,
          88,
          88,
          89,
          89,
          89,
          89,
          89,
          90,
          90,
          90,
          90,
          90,
          90,
          90,
          90,
          90,
          90,
          91,
          91,
          91,
          91,
          91,
          91,
          91,
          92,
          92,
          92,
          92,
          92,
          92,
          92,
          92,
          92,
          93,
          93,
          93,
          93,
          93,
          93,
          93,
          93,
          94,
          94,
          95,
          95,
          95,
          95,
          95,
          96,
          96,
          96,
          96,
          97,
          97,
          97,
          97,
          98,
          98,
          98,
          98,
          98,
          98,
          99,
          99,
          99,
          99,
          99,
          100,
          100,
          101,
          101,
          101,
          101,
          101,
          101,
          101,
          101,
          102,
          102,
          102,
          103,
          103,
          103,
          103,
          103,
          103,
          104,
          104,
          105,
          105,
          106,
          106,
          106,
          106,
          107,
          107,
          108,
          109,
          109,
          109,
          110,
          110,
          111,
          111,
          111,
          112,
          112,
          112,
          112,
          112,
          112,
          113,
          113,
          113,
          113,
          113,
          113,
          113,
          113,
          114,
          114,
          114,
          114,
          115,
          115,
          116,
          116,
          116,
          116,
          117,
          117,
          117,
          117,
          117,
          117,
          117,
          118,
          118,
          118,
          118,
          118,
          118,
          119,
          119,
          119,
          119,
          119,
          119,
          119,
          119,
          119,
          119,
          120,
          120,
          120,
          120,
          120,
          120,
          121,
          121,
          121,
          121,
          121,
          121,
          121,
          121,
          122,
          122,
          123,
          124,
          125,
          125,
          125,
          125,
          125,
          125,
          126,
          126,
          126,
          127,
          127,
          127,
          128,
          129,
          129,
          131,
          131,
          131,
          131,
          131,
          131,
          132,
          132,
          132,
          132,
          133,
          133,
          134,
          134,
          134,
          134,
          134,
          134,
          135,
          135,
          135,
          135,
          135,
          136,
          136,
          136,
          137,
          137,
          138,
          139,
          139,
          140,
          140,
          140,
          140,
          140,
          141,
          142,
          142,
          142,
          143,
          143,
          143,
          144,
          144,
          144,
          144,
          144,
          145,
          145,
          146,
          147,
          147,
          147,
          148,
          148,
          148,
          148,
          149,
          150,
          150,
          150,
          150,
          151,
          151,
          151,
          151,
          152,
          153,
          153,
          153,
          153,
          153,
          153,
          154,
          154,
          154,
          154,
          154,
          156,
          158,
          158,
          158,
          159,
          159,
          160,
          160,
          161,
          161,
          161,
          161,
          162,
          162,
          162,
          162,
          163,
          163,
          163,
          166,
          166,
          166,
          167,
          168,
          168,
          169,
          169,
          169,
          169,
          169,
          169,
          170,
          175,
          175,
          176,
          177,
          178,
          179,
          180,
          181,
          182,
          182,
          183,
          183,
          183,
          184,
          185,
          187,
          188,
          188,
          189,
          189,
          189,
          190,
          191,
          191,
          192,
          192,
          193,
          193,
          194,
          194,
          195,
          195,
          196,
          196,
          197,
          199,
          199,
          201,
          203,
          203,
          204,
          206,
          207,
          208,
          209,
          211,
          211,
          213,
          215,
          216,
          217,
          218,
          218,
          219,
          219,
          219,
          220,
          222,
          222,
          223,
          225,
          226,
          227,
          228,
          228,
          228,
          229,
          231,
          231,
          231,
          231,
          232,
          232,
          232,
          235,
          236,
          238,
          238,
          239,
          239,
          239,
          241,
          241,
          242,
          242,
          244,
          247,
          247,
          247,
          250,
          251,
          259,
          261,
          261,
          262,
          263,
          263,
          263,
          263,
          266,
          266,
          267,
          267,
          267,
          267,
          268,
          271,
          272,
          272,
          273,
          273,
          276,
          277,
          277,
          281,
          281,
          283,
          287,
          289,
          290,
          292,
          293,
          293,
          294,
          295,
          296,
          296,
          302,
          306,
          309,
          314,
          316,
          316,
          316,
          318,
          321,
          322,
          323,
          323,
          325,
          325,
          328,
          330,
          334,
          335,
          338,
          345,
          345,
          350,
          354,
          354,
          356,
          365,
          365,
          371,
          382,
          388,
          392,
          396,
          410,
          420,
          422,
          426,
          440,
          442,
          458,
          458,
          466,
          467,
          476,
          485,
          488,
          525,
          534,
          553,
          562,
          648,
          653,
          663,
          712,
          718,
          835,
          835,
          859,
          876,
          889,
          1042,
          1051,
          1063,
          1082,
          1302,
          1543
         ],
         "yaxis": "y"
        }
       ],
       "layout": {
        "legend": {
         "tracegroupgap": 0
        },
        "margin": {
         "t": 60
        },
        "shapes": [
         {
          "line": {
           "color": "red"
          },
          "type": "line",
          "x0": 0,
          "x1": 1,
          "xref": "x domain",
          "y0": 500,
          "y1": 500,
          "yref": "y"
         }
        ],
        "template": {
         "data": {
          "bar": [
           {
            "error_x": {
             "color": "#2a3f5f"
            },
            "error_y": {
             "color": "#2a3f5f"
            },
            "marker": {
             "line": {
              "color": "#E5ECF6",
              "width": 0.5
             },
             "pattern": {
              "fillmode": "overlay",
              "size": 10,
              "solidity": 0.2
             }
            },
            "type": "bar"
           }
          ],
          "barpolar": [
           {
            "marker": {
             "line": {
              "color": "#E5ECF6",
              "width": 0.5
             },
             "pattern": {
              "fillmode": "overlay",
              "size": 10,
              "solidity": 0.2
             }
            },
            "type": "barpolar"
           }
          ],
          "carpet": [
           {
            "aaxis": {
             "endlinecolor": "#2a3f5f",
             "gridcolor": "white",
             "linecolor": "white",
             "minorgridcolor": "white",
             "startlinecolor": "#2a3f5f"
            },
            "baxis": {
             "endlinecolor": "#2a3f5f",
             "gridcolor": "white",
             "linecolor": "white",
             "minorgridcolor": "white",
             "startlinecolor": "#2a3f5f"
            },
            "type": "carpet"
           }
          ],
          "choropleth": [
           {
            "colorbar": {
             "outlinewidth": 0,
             "ticks": ""
            },
            "type": "choropleth"
           }
          ],
          "contour": [
           {
            "colorbar": {
             "outlinewidth": 0,
             "ticks": ""
            },
            "colorscale": [
             [
              0,
              "#0d0887"
             ],
             [
              0.1111111111111111,
              "#46039f"
             ],
             [
              0.2222222222222222,
              "#7201a8"
             ],
             [
              0.3333333333333333,
              "#9c179e"
             ],
             [
              0.4444444444444444,
              "#bd3786"
             ],
             [
              0.5555555555555556,
              "#d8576b"
             ],
             [
              0.6666666666666666,
              "#ed7953"
             ],
             [
              0.7777777777777778,
              "#fb9f3a"
             ],
             [
              0.8888888888888888,
              "#fdca26"
             ],
             [
              1,
              "#f0f921"
             ]
            ],
            "type": "contour"
           }
          ],
          "contourcarpet": [
           {
            "colorbar": {
             "outlinewidth": 0,
             "ticks": ""
            },
            "type": "contourcarpet"
           }
          ],
          "heatmap": [
           {
            "colorbar": {
             "outlinewidth": 0,
             "ticks": ""
            },
            "colorscale": [
             [
              0,
              "#0d0887"
             ],
             [
              0.1111111111111111,
              "#46039f"
             ],
             [
              0.2222222222222222,
              "#7201a8"
             ],
             [
              0.3333333333333333,
              "#9c179e"
             ],
             [
              0.4444444444444444,
              "#bd3786"
             ],
             [
              0.5555555555555556,
              "#d8576b"
             ],
             [
              0.6666666666666666,
              "#ed7953"
             ],
             [
              0.7777777777777778,
              "#fb9f3a"
             ],
             [
              0.8888888888888888,
              "#fdca26"
             ],
             [
              1,
              "#f0f921"
             ]
            ],
            "type": "heatmap"
           }
          ],
          "heatmapgl": [
           {
            "colorbar": {
             "outlinewidth": 0,
             "ticks": ""
            },
            "colorscale": [
             [
              0,
              "#0d0887"
             ],
             [
              0.1111111111111111,
              "#46039f"
             ],
             [
              0.2222222222222222,
              "#7201a8"
             ],
             [
              0.3333333333333333,
              "#9c179e"
             ],
             [
              0.4444444444444444,
              "#bd3786"
             ],
             [
              0.5555555555555556,
              "#d8576b"
             ],
             [
              0.6666666666666666,
              "#ed7953"
             ],
             [
              0.7777777777777778,
              "#fb9f3a"
             ],
             [
              0.8888888888888888,
              "#fdca26"
             ],
             [
              1,
              "#f0f921"
             ]
            ],
            "type": "heatmapgl"
           }
          ],
          "histogram": [
           {
            "marker": {
             "pattern": {
              "fillmode": "overlay",
              "size": 10,
              "solidity": 0.2
             }
            },
            "type": "histogram"
           }
          ],
          "histogram2d": [
           {
            "colorbar": {
             "outlinewidth": 0,
             "ticks": ""
            },
            "colorscale": [
             [
              0,
              "#0d0887"
             ],
             [
              0.1111111111111111,
              "#46039f"
             ],
             [
              0.2222222222222222,
              "#7201a8"
             ],
             [
              0.3333333333333333,
              "#9c179e"
             ],
             [
              0.4444444444444444,
              "#bd3786"
             ],
             [
              0.5555555555555556,
              "#d8576b"
             ],
             [
              0.6666666666666666,
              "#ed7953"
             ],
             [
              0.7777777777777778,
              "#fb9f3a"
             ],
             [
              0.8888888888888888,
              "#fdca26"
             ],
             [
              1,
              "#f0f921"
             ]
            ],
            "type": "histogram2d"
           }
          ],
          "histogram2dcontour": [
           {
            "colorbar": {
             "outlinewidth": 0,
             "ticks": ""
            },
            "colorscale": [
             [
              0,
              "#0d0887"
             ],
             [
              0.1111111111111111,
              "#46039f"
             ],
             [
              0.2222222222222222,
              "#7201a8"
             ],
             [
              0.3333333333333333,
              "#9c179e"
             ],
             [
              0.4444444444444444,
              "#bd3786"
             ],
             [
              0.5555555555555556,
              "#d8576b"
             ],
             [
              0.6666666666666666,
              "#ed7953"
             ],
             [
              0.7777777777777778,
              "#fb9f3a"
             ],
             [
              0.8888888888888888,
              "#fdca26"
             ],
             [
              1,
              "#f0f921"
             ]
            ],
            "type": "histogram2dcontour"
           }
          ],
          "mesh3d": [
           {
            "colorbar": {
             "outlinewidth": 0,
             "ticks": ""
            },
            "type": "mesh3d"
           }
          ],
          "parcoords": [
           {
            "line": {
             "colorbar": {
              "outlinewidth": 0,
              "ticks": ""
             }
            },
            "type": "parcoords"
           }
          ],
          "pie": [
           {
            "automargin": true,
            "type": "pie"
           }
          ],
          "scatter": [
           {
            "marker": {
             "colorbar": {
              "outlinewidth": 0,
              "ticks": ""
             }
            },
            "type": "scatter"
           }
          ],
          "scatter3d": [
           {
            "line": {
             "colorbar": {
              "outlinewidth": 0,
              "ticks": ""
             }
            },
            "marker": {
             "colorbar": {
              "outlinewidth": 0,
              "ticks": ""
             }
            },
            "type": "scatter3d"
           }
          ],
          "scattercarpet": [
           {
            "marker": {
             "colorbar": {
              "outlinewidth": 0,
              "ticks": ""
             }
            },
            "type": "scattercarpet"
           }
          ],
          "scattergeo": [
           {
            "marker": {
             "colorbar": {
              "outlinewidth": 0,
              "ticks": ""
             }
            },
            "type": "scattergeo"
           }
          ],
          "scattergl": [
           {
            "marker": {
             "colorbar": {
              "outlinewidth": 0,
              "ticks": ""
             }
            },
            "type": "scattergl"
           }
          ],
          "scattermapbox": [
           {
            "marker": {
             "colorbar": {
              "outlinewidth": 0,
              "ticks": ""
             }
            },
            "type": "scattermapbox"
           }
          ],
          "scatterpolar": [
           {
            "marker": {
             "colorbar": {
              "outlinewidth": 0,
              "ticks": ""
             }
            },
            "type": "scatterpolar"
           }
          ],
          "scatterpolargl": [
           {
            "marker": {
             "colorbar": {
              "outlinewidth": 0,
              "ticks": ""
             }
            },
            "type": "scatterpolargl"
           }
          ],
          "scatterternary": [
           {
            "marker": {
             "colorbar": {
              "outlinewidth": 0,
              "ticks": ""
             }
            },
            "type": "scatterternary"
           }
          ],
          "surface": [
           {
            "colorbar": {
             "outlinewidth": 0,
             "ticks": ""
            },
            "colorscale": [
             [
              0,
              "#0d0887"
             ],
             [
              0.1111111111111111,
              "#46039f"
             ],
             [
              0.2222222222222222,
              "#7201a8"
             ],
             [
              0.3333333333333333,
              "#9c179e"
             ],
             [
              0.4444444444444444,
              "#bd3786"
             ],
             [
              0.5555555555555556,
              "#d8576b"
             ],
             [
              0.6666666666666666,
              "#ed7953"
             ],
             [
              0.7777777777777778,
              "#fb9f3a"
             ],
             [
              0.8888888888888888,
              "#fdca26"
             ],
             [
              1,
              "#f0f921"
             ]
            ],
            "type": "surface"
           }
          ],
          "table": [
           {
            "cells": {
             "fill": {
              "color": "#EBF0F8"
             },
             "line": {
              "color": "white"
             }
            },
            "header": {
             "fill": {
              "color": "#C8D4E3"
             },
             "line": {
              "color": "white"
             }
            },
            "type": "table"
           }
          ]
         },
         "layout": {
          "annotationdefaults": {
           "arrowcolor": "#2a3f5f",
           "arrowhead": 0,
           "arrowwidth": 1
          },
          "autotypenumbers": "strict",
          "coloraxis": {
           "colorbar": {
            "outlinewidth": 0,
            "ticks": ""
           }
          },
          "colorscale": {
           "diverging": [
            [
             0,
             "#8e0152"
            ],
            [
             0.1,
             "#c51b7d"
            ],
            [
             0.2,
             "#de77ae"
            ],
            [
             0.3,
             "#f1b6da"
            ],
            [
             0.4,
             "#fde0ef"
            ],
            [
             0.5,
             "#f7f7f7"
            ],
            [
             0.6,
             "#e6f5d0"
            ],
            [
             0.7,
             "#b8e186"
            ],
            [
             0.8,
             "#7fbc41"
            ],
            [
             0.9,
             "#4d9221"
            ],
            [
             1,
             "#276419"
            ]
           ],
           "sequential": [
            [
             0,
             "#0d0887"
            ],
            [
             0.1111111111111111,
             "#46039f"
            ],
            [
             0.2222222222222222,
             "#7201a8"
            ],
            [
             0.3333333333333333,
             "#9c179e"
            ],
            [
             0.4444444444444444,
             "#bd3786"
            ],
            [
             0.5555555555555556,
             "#d8576b"
            ],
            [
             0.6666666666666666,
             "#ed7953"
            ],
            [
             0.7777777777777778,
             "#fb9f3a"
            ],
            [
             0.8888888888888888,
             "#fdca26"
            ],
            [
             1,
             "#f0f921"
            ]
           ],
           "sequentialminus": [
            [
             0,
             "#0d0887"
            ],
            [
             0.1111111111111111,
             "#46039f"
            ],
            [
             0.2222222222222222,
             "#7201a8"
            ],
            [
             0.3333333333333333,
             "#9c179e"
            ],
            [
             0.4444444444444444,
             "#bd3786"
            ],
            [
             0.5555555555555556,
             "#d8576b"
            ],
            [
             0.6666666666666666,
             "#ed7953"
            ],
            [
             0.7777777777777778,
             "#fb9f3a"
            ],
            [
             0.8888888888888888,
             "#fdca26"
            ],
            [
             1,
             "#f0f921"
            ]
           ]
          },
          "colorway": [
           "#636efa",
           "#EF553B",
           "#00cc96",
           "#ab63fa",
           "#FFA15A",
           "#19d3f3",
           "#FF6692",
           "#B6E880",
           "#FF97FF",
           "#FECB52"
          ],
          "font": {
           "color": "#2a3f5f"
          },
          "geo": {
           "bgcolor": "white",
           "lakecolor": "white",
           "landcolor": "#E5ECF6",
           "showlakes": true,
           "showland": true,
           "subunitcolor": "white"
          },
          "hoverlabel": {
           "align": "left"
          },
          "hovermode": "closest",
          "mapbox": {
           "style": "light"
          },
          "paper_bgcolor": "white",
          "plot_bgcolor": "#E5ECF6",
          "polar": {
           "angularaxis": {
            "gridcolor": "white",
            "linecolor": "white",
            "ticks": ""
           },
           "bgcolor": "#E5ECF6",
           "radialaxis": {
            "gridcolor": "white",
            "linecolor": "white",
            "ticks": ""
           }
          },
          "scene": {
           "xaxis": {
            "backgroundcolor": "#E5ECF6",
            "gridcolor": "white",
            "gridwidth": 2,
            "linecolor": "white",
            "showbackground": true,
            "ticks": "",
            "zerolinecolor": "white"
           },
           "yaxis": {
            "backgroundcolor": "#E5ECF6",
            "gridcolor": "white",
            "gridwidth": 2,
            "linecolor": "white",
            "showbackground": true,
            "ticks": "",
            "zerolinecolor": "white"
           },
           "zaxis": {
            "backgroundcolor": "#E5ECF6",
            "gridcolor": "white",
            "gridwidth": 2,
            "linecolor": "white",
            "showbackground": true,
            "ticks": "",
            "zerolinecolor": "white"
           }
          },
          "shapedefaults": {
           "line": {
            "color": "#2a3f5f"
           }
          },
          "ternary": {
           "aaxis": {
            "gridcolor": "white",
            "linecolor": "white",
            "ticks": ""
           },
           "baxis": {
            "gridcolor": "white",
            "linecolor": "white",
            "ticks": ""
           },
           "bgcolor": "#E5ECF6",
           "caxis": {
            "gridcolor": "white",
            "linecolor": "white",
            "ticks": ""
           }
          },
          "title": {
           "x": 0.05
          },
          "xaxis": {
           "automargin": true,
           "gridcolor": "white",
           "linecolor": "white",
           "ticks": "",
           "title": {
            "standoff": 15
           },
           "zerolinecolor": "white",
           "zerolinewidth": 2
          },
          "yaxis": {
           "automargin": true,
           "gridcolor": "white",
           "linecolor": "white",
           "ticks": "",
           "title": {
            "standoff": 15
           },
           "zerolinecolor": "white",
           "zerolinewidth": 2
          }
         }
        },
        "xaxis": {
         "anchor": "y",
         "domain": [
          0,
          1
         ],
         "title": {
          "text": "x"
         }
        },
        "yaxis": {
         "anchor": "x",
         "domain": [
          0,
          1
         ],
         "title": {
          "text": "450"
         }
        }
       }
      }
     },
     "metadata": {},
     "output_type": "display_data"
    }
   ],
   "source": [
    "df_check = df_valid_users['450'].to_frame()\n",
    "df_check.sort_values(by = '450', inplace=True)\n",
    "fig = px.line(df_check, x = range(df_check.shape[0]), y = '450')\n",
    "fig.add_hline(500, line_color = 'red')\n",
    "fig.show()"
   ]
  },
  {
   "cell_type": "code",
   "execution_count": 35,
   "metadata": {},
   "outputs": [],
   "source": [
    "# We recut at 500\n",
    "max_time_to_rate = 500\n",
    "df_valid_users = df_valid_users[(df_valid_users['450'] < max_time_to_rate)]"
   ]
  },
  {
   "cell_type": "code",
   "execution_count": 36,
   "metadata": {},
   "outputs": [],
   "source": [
    "# We have the final data set of users and the data set of their ratings\n",
    "\n",
    "valid_usernames = set(df_valid_users['user_name'])\n",
    "df_valid_ratings = df_us_ratings[df_us_ratings['user_name'].isin(valid_usernames)]"
   ]
  },
  {
   "cell_type": "code",
   "execution_count": 37,
   "metadata": {},
   "outputs": [
    {
     "data": {
      "text/html": [
       "<div>\n",
       "<style scoped>\n",
       "    .dataframe tbody tr th:only-of-type {\n",
       "        vertical-align: middle;\n",
       "    }\n",
       "\n",
       "    .dataframe tbody tr th {\n",
       "        vertical-align: top;\n",
       "    }\n",
       "\n",
       "    .dataframe thead th {\n",
       "        text-align: right;\n",
       "    }\n",
       "</style>\n",
       "<table border=\"1\" class=\"dataframe\">\n",
       "  <thead>\n",
       "    <tr style=\"text-align: right;\">\n",
       "      <th></th>\n",
       "      <th>nbr_ratings</th>\n",
       "      <th>nbr_reviews</th>\n",
       "      <th>user_id</th>\n",
       "      <th>user_name</th>\n",
       "      <th>joined</th>\n",
       "      <th>location</th>\n",
       "      <th>date_joined</th>\n",
       "      <th>active_days</th>\n",
       "      <th>delta_first_last</th>\n",
       "      <th>max_active_day</th>\n",
       "      <th>max_active_month</th>\n",
       "      <th>50</th>\n",
       "      <th>450</th>\n",
       "    </tr>\n",
       "  </thead>\n",
       "  <tbody>\n",
       "    <tr>\n",
       "      <th>2</th>\n",
       "      <td>585</td>\n",
       "      <td>389</td>\n",
       "      <td>ferrari29.320392</td>\n",
       "      <td>ferrari29</td>\n",
       "      <td>1.239790e+09</td>\n",
       "      <td>United States, Illinois</td>\n",
       "      <td>2009-04-15</td>\n",
       "      <td>202</td>\n",
       "      <td>1193</td>\n",
       "      <td>12</td>\n",
       "      <td>42</td>\n",
       "      <td>64</td>\n",
       "      <td>335</td>\n",
       "    </tr>\n",
       "    <tr>\n",
       "      <th>5</th>\n",
       "      <td>676</td>\n",
       "      <td>676</td>\n",
       "      <td>dodo2step.110880</td>\n",
       "      <td>Dodo2step</td>\n",
       "      <td>1.165576e+09</td>\n",
       "      <td>United States, Pennsylvania</td>\n",
       "      <td>2006-12-08</td>\n",
       "      <td>411</td>\n",
       "      <td>2153</td>\n",
       "      <td>13</td>\n",
       "      <td>28</td>\n",
       "      <td>45</td>\n",
       "      <td>442</td>\n",
       "    </tr>\n",
       "    <tr>\n",
       "      <th>7</th>\n",
       "      <td>653</td>\n",
       "      <td>651</td>\n",
       "      <td>kadonny.156863</td>\n",
       "      <td>Kadonny</td>\n",
       "      <td>1.188986e+09</td>\n",
       "      <td>United States, Pennsylvania</td>\n",
       "      <td>2007-09-05</td>\n",
       "      <td>357</td>\n",
       "      <td>1800</td>\n",
       "      <td>5</td>\n",
       "      <td>22</td>\n",
       "      <td>249</td>\n",
       "      <td>263</td>\n",
       "    </tr>\n",
       "    <tr>\n",
       "      <th>8</th>\n",
       "      <td>748</td>\n",
       "      <td>748</td>\n",
       "      <td>biggred1.206640</td>\n",
       "      <td>biggred1</td>\n",
       "      <td>1.206616e+09</td>\n",
       "      <td>United States, Indiana</td>\n",
       "      <td>2008-03-27</td>\n",
       "      <td>318</td>\n",
       "      <td>819</td>\n",
       "      <td>5</td>\n",
       "      <td>37</td>\n",
       "      <td>102</td>\n",
       "      <td>69</td>\n",
       "    </tr>\n",
       "    <tr>\n",
       "      <th>10</th>\n",
       "      <td>614</td>\n",
       "      <td>614</td>\n",
       "      <td>whynot44.2033</td>\n",
       "      <td>whynot44</td>\n",
       "      <td>1.052129e+09</td>\n",
       "      <td>United States, Missouri</td>\n",
       "      <td>2003-05-05</td>\n",
       "      <td>276</td>\n",
       "      <td>1452</td>\n",
       "      <td>7</td>\n",
       "      <td>57</td>\n",
       "      <td>24</td>\n",
       "      <td>316</td>\n",
       "    </tr>\n",
       "  </tbody>\n",
       "</table>\n",
       "</div>"
      ],
      "text/plain": [
       "    nbr_ratings  nbr_reviews           user_id  user_name        joined  \\\n",
       "2           585          389  ferrari29.320392  ferrari29  1.239790e+09   \n",
       "5           676          676  dodo2step.110880  Dodo2step  1.165576e+09   \n",
       "7           653          651    kadonny.156863    Kadonny  1.188986e+09   \n",
       "8           748          748   biggred1.206640   biggred1  1.206616e+09   \n",
       "10          614          614     whynot44.2033   whynot44  1.052129e+09   \n",
       "\n",
       "                       location date_joined  active_days  delta_first_last  \\\n",
       "2       United States, Illinois  2009-04-15          202              1193   \n",
       "5   United States, Pennsylvania  2006-12-08          411              2153   \n",
       "7   United States, Pennsylvania  2007-09-05          357              1800   \n",
       "8        United States, Indiana  2008-03-27          318               819   \n",
       "10      United States, Missouri  2003-05-05          276              1452   \n",
       "\n",
       "    max_active_day  max_active_month   50  450  \n",
       "2               12                42   64  335  \n",
       "5               13                28   45  442  \n",
       "7                5                22  249  263  \n",
       "8                5                37  102   69  \n",
       "10               7                57   24  316  "
      ]
     },
     "execution_count": 37,
     "metadata": {},
     "output_type": "execute_result"
    }
   ],
   "source": [
    "df_valid_users.head(5)"
   ]
  },
  {
   "cell_type": "code",
   "execution_count": 38,
   "metadata": {},
   "outputs": [
    {
     "data": {
      "text/html": [
       "<div>\n",
       "<style scoped>\n",
       "    .dataframe tbody tr th:only-of-type {\n",
       "        vertical-align: middle;\n",
       "    }\n",
       "\n",
       "    .dataframe tbody tr th {\n",
       "        vertical-align: top;\n",
       "    }\n",
       "\n",
       "    .dataframe thead th {\n",
       "        text-align: right;\n",
       "    }\n",
       "</style>\n",
       "<table border=\"1\" class=\"dataframe\">\n",
       "  <thead>\n",
       "    <tr style=\"text-align: right;\">\n",
       "      <th></th>\n",
       "      <th>beer_id</th>\n",
       "      <th>style</th>\n",
       "      <th>abv</th>\n",
       "      <th>date</th>\n",
       "      <th>user_name</th>\n",
       "      <th>appearance</th>\n",
       "      <th>aroma</th>\n",
       "      <th>palate</th>\n",
       "      <th>taste</th>\n",
       "      <th>overall</th>\n",
       "      <th>rating</th>\n",
       "      <th>category</th>\n",
       "      <th>rating_number</th>\n",
       "    </tr>\n",
       "  </thead>\n",
       "  <tbody>\n",
       "    <tr>\n",
       "      <th>1640018</th>\n",
       "      <td>167</td>\n",
       "      <td>Witbier</td>\n",
       "      <td>NaN</td>\n",
       "      <td>2001-03-16</td>\n",
       "      <td>frank4sail</td>\n",
       "      <td>4.5</td>\n",
       "      <td>4.5</td>\n",
       "      <td>4.0</td>\n",
       "      <td>5.0</td>\n",
       "      <td>5.0</td>\n",
       "      <td>4.75</td>\n",
       "      <td>Wheat Beers</td>\n",
       "      <td>0</td>\n",
       "    </tr>\n",
       "    <tr>\n",
       "      <th>311428</th>\n",
       "      <td>3558</td>\n",
       "      <td>Czech Pilsener</td>\n",
       "      <td>5.00</td>\n",
       "      <td>2001-06-18</td>\n",
       "      <td>Mark</td>\n",
       "      <td>4.0</td>\n",
       "      <td>4.0</td>\n",
       "      <td>3.0</td>\n",
       "      <td>4.0</td>\n",
       "      <td>4.0</td>\n",
       "      <td>3.90</td>\n",
       "      <td>Pale Lagers</td>\n",
       "      <td>0</td>\n",
       "    </tr>\n",
       "    <tr>\n",
       "      <th>17313</th>\n",
       "      <td>73</td>\n",
       "      <td>Milk / Sweet Stout</td>\n",
       "      <td>5.20</td>\n",
       "      <td>2001-06-18</td>\n",
       "      <td>Mark</td>\n",
       "      <td>5.0</td>\n",
       "      <td>5.0</td>\n",
       "      <td>5.0</td>\n",
       "      <td>5.0</td>\n",
       "      <td>5.0</td>\n",
       "      <td>5.00</td>\n",
       "      <td>Stouts</td>\n",
       "      <td>1</td>\n",
       "    </tr>\n",
       "    <tr>\n",
       "      <th>136697</th>\n",
       "      <td>261</td>\n",
       "      <td>Vienna Lager</td>\n",
       "      <td>4.48</td>\n",
       "      <td>2001-06-24</td>\n",
       "      <td>Mark</td>\n",
       "      <td>4.0</td>\n",
       "      <td>3.0</td>\n",
       "      <td>3.0</td>\n",
       "      <td>3.0</td>\n",
       "      <td>3.0</td>\n",
       "      <td>3.06</td>\n",
       "      <td>Dark Lagers</td>\n",
       "      <td>2</td>\n",
       "    </tr>\n",
       "    <tr>\n",
       "      <th>442671</th>\n",
       "      <td>87</td>\n",
       "      <td>American Pale Ale (APA)</td>\n",
       "      <td>5.40</td>\n",
       "      <td>2001-06-24</td>\n",
       "      <td>Mark</td>\n",
       "      <td>4.0</td>\n",
       "      <td>4.0</td>\n",
       "      <td>1.0</td>\n",
       "      <td>3.0</td>\n",
       "      <td>3.0</td>\n",
       "      <td>3.10</td>\n",
       "      <td>Pale Ales</td>\n",
       "      <td>3</td>\n",
       "    </tr>\n",
       "  </tbody>\n",
       "</table>\n",
       "</div>"
      ],
      "text/plain": [
       "         beer_id                    style   abv       date   user_name  \\\n",
       "1640018      167                  Witbier   NaN 2001-03-16  frank4sail   \n",
       "311428      3558           Czech Pilsener  5.00 2001-06-18        Mark   \n",
       "17313         73       Milk / Sweet Stout  5.20 2001-06-18        Mark   \n",
       "136697       261             Vienna Lager  4.48 2001-06-24        Mark   \n",
       "442671        87  American Pale Ale (APA)  5.40 2001-06-24        Mark   \n",
       "\n",
       "         appearance  aroma  palate  taste  overall  rating     category  \\\n",
       "1640018         4.5    4.5     4.0    5.0      5.0    4.75  Wheat Beers   \n",
       "311428          4.0    4.0     3.0    4.0      4.0    3.90  Pale Lagers   \n",
       "17313           5.0    5.0     5.0    5.0      5.0    5.00       Stouts   \n",
       "136697          4.0    3.0     3.0    3.0      3.0    3.06  Dark Lagers   \n",
       "442671          4.0    4.0     1.0    3.0      3.0    3.10    Pale Ales   \n",
       "\n",
       "         rating_number  \n",
       "1640018              0  \n",
       "311428               0  \n",
       "17313                1  \n",
       "136697               2  \n",
       "442671               3  "
      ]
     },
     "execution_count": 38,
     "metadata": {},
     "output_type": "execute_result"
    }
   ],
   "source": [
    "df_valid_ratings.head(5)"
   ]
  },
  {
   "cell_type": "code",
   "execution_count": 39,
   "metadata": {},
   "outputs": [],
   "source": [
    "# Clustering starts\n",
    "# We want to check if it is possible to extract meaningful clusters\n",
    "# out of the 50 first ratings submitted by users"
   ]
  },
  {
   "cell_type": "code",
   "execution_count": 40,
   "metadata": {},
   "outputs": [
    {
     "data": {
      "text/html": [
       "<div>\n",
       "<style scoped>\n",
       "    .dataframe tbody tr th:only-of-type {\n",
       "        vertical-align: middle;\n",
       "    }\n",
       "\n",
       "    .dataframe tbody tr th {\n",
       "        vertical-align: top;\n",
       "    }\n",
       "\n",
       "    .dataframe thead th {\n",
       "        text-align: right;\n",
       "    }\n",
       "</style>\n",
       "<table border=\"1\" class=\"dataframe\">\n",
       "  <thead>\n",
       "    <tr style=\"text-align: right;\">\n",
       "      <th>category</th>\n",
       "      <th>Bocks</th>\n",
       "      <th>Brown Ales</th>\n",
       "      <th>Dark Ales</th>\n",
       "      <th>Dark Lagers</th>\n",
       "      <th>Hybrid Beers</th>\n",
       "      <th>India Pale Ales</th>\n",
       "      <th>Pale Ales</th>\n",
       "      <th>Pale Lagers</th>\n",
       "      <th>Porters</th>\n",
       "      <th>Specialty Beer</th>\n",
       "      <th>Stouts</th>\n",
       "      <th>Strong Ales</th>\n",
       "      <th>Weird Cocktail</th>\n",
       "      <th>Wheat Beers</th>\n",
       "      <th>Wild/Sour Beers</th>\n",
       "    </tr>\n",
       "    <tr>\n",
       "      <th>user_name</th>\n",
       "      <th></th>\n",
       "      <th></th>\n",
       "      <th></th>\n",
       "      <th></th>\n",
       "      <th></th>\n",
       "      <th></th>\n",
       "      <th></th>\n",
       "      <th></th>\n",
       "      <th></th>\n",
       "      <th></th>\n",
       "      <th></th>\n",
       "      <th></th>\n",
       "      <th></th>\n",
       "      <th></th>\n",
       "      <th></th>\n",
       "    </tr>\n",
       "  </thead>\n",
       "  <tbody>\n",
       "    <tr>\n",
       "      <th>-Rick</th>\n",
       "      <td>0</td>\n",
       "      <td>2</td>\n",
       "      <td>0</td>\n",
       "      <td>2</td>\n",
       "      <td>0</td>\n",
       "      <td>29</td>\n",
       "      <td>7</td>\n",
       "      <td>2</td>\n",
       "      <td>2</td>\n",
       "      <td>2</td>\n",
       "      <td>3</td>\n",
       "      <td>1</td>\n",
       "      <td>0</td>\n",
       "      <td>0</td>\n",
       "      <td>0</td>\n",
       "    </tr>\n",
       "    <tr>\n",
       "      <th>1000lbgrizzly</th>\n",
       "      <td>0</td>\n",
       "      <td>5</td>\n",
       "      <td>0</td>\n",
       "      <td>1</td>\n",
       "      <td>0</td>\n",
       "      <td>4</td>\n",
       "      <td>9</td>\n",
       "      <td>7</td>\n",
       "      <td>2</td>\n",
       "      <td>8</td>\n",
       "      <td>6</td>\n",
       "      <td>4</td>\n",
       "      <td>0</td>\n",
       "      <td>3</td>\n",
       "      <td>1</td>\n",
       "    </tr>\n",
       "    <tr>\n",
       "      <th>1424IpA</th>\n",
       "      <td>0</td>\n",
       "      <td>0</td>\n",
       "      <td>1</td>\n",
       "      <td>0</td>\n",
       "      <td>0</td>\n",
       "      <td>21</td>\n",
       "      <td>3</td>\n",
       "      <td>1</td>\n",
       "      <td>1</td>\n",
       "      <td>1</td>\n",
       "      <td>12</td>\n",
       "      <td>4</td>\n",
       "      <td>0</td>\n",
       "      <td>1</td>\n",
       "      <td>5</td>\n",
       "    </tr>\n",
       "    <tr>\n",
       "      <th>2Xmd</th>\n",
       "      <td>0</td>\n",
       "      <td>2</td>\n",
       "      <td>1</td>\n",
       "      <td>1</td>\n",
       "      <td>0</td>\n",
       "      <td>25</td>\n",
       "      <td>5</td>\n",
       "      <td>1</td>\n",
       "      <td>1</td>\n",
       "      <td>2</td>\n",
       "      <td>9</td>\n",
       "      <td>1</td>\n",
       "      <td>0</td>\n",
       "      <td>2</td>\n",
       "      <td>0</td>\n",
       "    </tr>\n",
       "    <tr>\n",
       "      <th>2ellas</th>\n",
       "      <td>0</td>\n",
       "      <td>2</td>\n",
       "      <td>1</td>\n",
       "      <td>0</td>\n",
       "      <td>0</td>\n",
       "      <td>31</td>\n",
       "      <td>9</td>\n",
       "      <td>0</td>\n",
       "      <td>0</td>\n",
       "      <td>0</td>\n",
       "      <td>2</td>\n",
       "      <td>4</td>\n",
       "      <td>0</td>\n",
       "      <td>1</td>\n",
       "      <td>0</td>\n",
       "    </tr>\n",
       "    <tr>\n",
       "      <th>...</th>\n",
       "      <td>...</td>\n",
       "      <td>...</td>\n",
       "      <td>...</td>\n",
       "      <td>...</td>\n",
       "      <td>...</td>\n",
       "      <td>...</td>\n",
       "      <td>...</td>\n",
       "      <td>...</td>\n",
       "      <td>...</td>\n",
       "      <td>...</td>\n",
       "      <td>...</td>\n",
       "      <td>...</td>\n",
       "      <td>...</td>\n",
       "      <td>...</td>\n",
       "      <td>...</td>\n",
       "    </tr>\n",
       "    <tr>\n",
       "      <th>zenithberwyn</th>\n",
       "      <td>1</td>\n",
       "      <td>1</td>\n",
       "      <td>0</td>\n",
       "      <td>3</td>\n",
       "      <td>0</td>\n",
       "      <td>3</td>\n",
       "      <td>7</td>\n",
       "      <td>10</td>\n",
       "      <td>3</td>\n",
       "      <td>0</td>\n",
       "      <td>14</td>\n",
       "      <td>5</td>\n",
       "      <td>0</td>\n",
       "      <td>3</td>\n",
       "      <td>0</td>\n",
       "    </tr>\n",
       "    <tr>\n",
       "      <th>zhanson88</th>\n",
       "      <td>1</td>\n",
       "      <td>5</td>\n",
       "      <td>3</td>\n",
       "      <td>1</td>\n",
       "      <td>0</td>\n",
       "      <td>6</td>\n",
       "      <td>6</td>\n",
       "      <td>2</td>\n",
       "      <td>3</td>\n",
       "      <td>1</td>\n",
       "      <td>12</td>\n",
       "      <td>7</td>\n",
       "      <td>0</td>\n",
       "      <td>3</td>\n",
       "      <td>0</td>\n",
       "    </tr>\n",
       "    <tr>\n",
       "      <th>zookerman182</th>\n",
       "      <td>1</td>\n",
       "      <td>3</td>\n",
       "      <td>0</td>\n",
       "      <td>0</td>\n",
       "      <td>0</td>\n",
       "      <td>22</td>\n",
       "      <td>6</td>\n",
       "      <td>0</td>\n",
       "      <td>2</td>\n",
       "      <td>0</td>\n",
       "      <td>9</td>\n",
       "      <td>5</td>\n",
       "      <td>0</td>\n",
       "      <td>1</td>\n",
       "      <td>1</td>\n",
       "    </tr>\n",
       "    <tr>\n",
       "      <th>zoso1967</th>\n",
       "      <td>0</td>\n",
       "      <td>3</td>\n",
       "      <td>0</td>\n",
       "      <td>0</td>\n",
       "      <td>0</td>\n",
       "      <td>19</td>\n",
       "      <td>9</td>\n",
       "      <td>3</td>\n",
       "      <td>2</td>\n",
       "      <td>0</td>\n",
       "      <td>3</td>\n",
       "      <td>5</td>\n",
       "      <td>0</td>\n",
       "      <td>1</td>\n",
       "      <td>5</td>\n",
       "    </tr>\n",
       "    <tr>\n",
       "      <th>zotzot</th>\n",
       "      <td>1</td>\n",
       "      <td>4</td>\n",
       "      <td>0</td>\n",
       "      <td>1</td>\n",
       "      <td>0</td>\n",
       "      <td>18</td>\n",
       "      <td>11</td>\n",
       "      <td>1</td>\n",
       "      <td>0</td>\n",
       "      <td>1</td>\n",
       "      <td>7</td>\n",
       "      <td>2</td>\n",
       "      <td>0</td>\n",
       "      <td>4</td>\n",
       "      <td>0</td>\n",
       "    </tr>\n",
       "  </tbody>\n",
       "</table>\n",
       "<p>970 rows × 15 columns</p>\n",
       "</div>"
      ],
      "text/plain": [
       "category       Bocks  Brown Ales  Dark Ales  Dark Lagers  Hybrid Beers  \\\n",
       "user_name                                                                \n",
       "-Rick              0           2          0            2             0   \n",
       "1000lbgrizzly      0           5          0            1             0   \n",
       "1424IpA            0           0          1            0             0   \n",
       "2Xmd               0           2          1            1             0   \n",
       "2ellas             0           2          1            0             0   \n",
       "...              ...         ...        ...          ...           ...   \n",
       "zenithberwyn       1           1          0            3             0   \n",
       "zhanson88          1           5          3            1             0   \n",
       "zookerman182       1           3          0            0             0   \n",
       "zoso1967           0           3          0            0             0   \n",
       "zotzot             1           4          0            1             0   \n",
       "\n",
       "category       India Pale Ales  Pale Ales  Pale Lagers  Porters  \\\n",
       "user_name                                                         \n",
       "-Rick                       29          7            2        2   \n",
       "1000lbgrizzly                4          9            7        2   \n",
       "1424IpA                     21          3            1        1   \n",
       "2Xmd                        25          5            1        1   \n",
       "2ellas                      31          9            0        0   \n",
       "...                        ...        ...          ...      ...   \n",
       "zenithberwyn                 3          7           10        3   \n",
       "zhanson88                    6          6            2        3   \n",
       "zookerman182                22          6            0        2   \n",
       "zoso1967                    19          9            3        2   \n",
       "zotzot                      18         11            1        0   \n",
       "\n",
       "category       Specialty Beer  Stouts  Strong Ales  Weird Cocktail  \\\n",
       "user_name                                                            \n",
       "-Rick                       2       3            1               0   \n",
       "1000lbgrizzly               8       6            4               0   \n",
       "1424IpA                     1      12            4               0   \n",
       "2Xmd                        2       9            1               0   \n",
       "2ellas                      0       2            4               0   \n",
       "...                       ...     ...          ...             ...   \n",
       "zenithberwyn                0      14            5               0   \n",
       "zhanson88                   1      12            7               0   \n",
       "zookerman182                0       9            5               0   \n",
       "zoso1967                    0       3            5               0   \n",
       "zotzot                      1       7            2               0   \n",
       "\n",
       "category       Wheat Beers  Wild/Sour Beers  \n",
       "user_name                                    \n",
       "-Rick                    0                0  \n",
       "1000lbgrizzly            3                1  \n",
       "1424IpA                  1                5  \n",
       "2Xmd                     2                0  \n",
       "2ellas                   1                0  \n",
       "...                    ...              ...  \n",
       "zenithberwyn             3                0  \n",
       "zhanson88                3                0  \n",
       "zookerman182             1                1  \n",
       "zoso1967                 1                5  \n",
       "zotzot                   4                0  \n",
       "\n",
       "[970 rows x 15 columns]"
      ]
     },
     "execution_count": 40,
     "metadata": {},
     "output_type": "execute_result"
    }
   ],
   "source": [
    "# To do that, we check how many beers of different categories \n",
    "# a user rated in his first 50 ratings\n",
    "\n",
    "df_to_cluster = df_valid_ratings[df_valid_ratings[\"rating_number\"] < 50]\n",
    "user_to_cat_first = df_to_cluster.groupby([\"user_name\", \"category\"]).size()\n",
    "user_to_cat_first = user_to_cat_first.unstack(level=-1, fill_value = 0)\n",
    "user_to_cat_first"
   ]
  },
  {
   "cell_type": "code",
   "execution_count": 41,
   "metadata": {},
   "outputs": [
    {
     "name": "stderr",
     "output_type": "stream",
     "text": [
      "C:\\Users\\cale9\\AppData\\Roaming\\Python\\Python39\\site-packages\\sklearn\\cluster\\_kmeans.py:1334: UserWarning:\n",
      "\n",
      "KMeans is known to have a memory leak on Windows with MKL, when there are less chunks than available threads. You can avoid it by setting the environment variable OMP_NUM_THREADS=4.\n",
      "\n"
     ]
    },
    {
     "name": "stdout",
     "output_type": "stream",
     "text": [
      "For n_clusters = 2 The average silhouette_score is : 0.25413325775018325\n"
     ]
    },
    {
     "name": "stderr",
     "output_type": "stream",
     "text": [
      "C:\\Users\\cale9\\AppData\\Roaming\\Python\\Python39\\site-packages\\sklearn\\cluster\\_kmeans.py:1334: UserWarning:\n",
      "\n",
      "KMeans is known to have a memory leak on Windows with MKL, when there are less chunks than available threads. You can avoid it by setting the environment variable OMP_NUM_THREADS=4.\n",
      "\n"
     ]
    },
    {
     "name": "stdout",
     "output_type": "stream",
     "text": [
      "For n_clusters = 3 The average silhouette_score is : 0.23958948058332766\n"
     ]
    },
    {
     "name": "stderr",
     "output_type": "stream",
     "text": [
      "C:\\Users\\cale9\\AppData\\Roaming\\Python\\Python39\\site-packages\\sklearn\\cluster\\_kmeans.py:1334: UserWarning:\n",
      "\n",
      "KMeans is known to have a memory leak on Windows with MKL, when there are less chunks than available threads. You can avoid it by setting the environment variable OMP_NUM_THREADS=4.\n",
      "\n"
     ]
    },
    {
     "name": "stdout",
     "output_type": "stream",
     "text": [
      "For n_clusters = 4 The average silhouette_score is : 0.2147532704491709\n"
     ]
    },
    {
     "name": "stderr",
     "output_type": "stream",
     "text": [
      "C:\\Users\\cale9\\AppData\\Roaming\\Python\\Python39\\site-packages\\sklearn\\cluster\\_kmeans.py:1334: UserWarning:\n",
      "\n",
      "KMeans is known to have a memory leak on Windows with MKL, when there are less chunks than available threads. You can avoid it by setting the environment variable OMP_NUM_THREADS=4.\n",
      "\n"
     ]
    },
    {
     "name": "stdout",
     "output_type": "stream",
     "text": [
      "For n_clusters = 5 The average silhouette_score is : 0.19260175262458518\n"
     ]
    },
    {
     "name": "stderr",
     "output_type": "stream",
     "text": [
      "C:\\Users\\cale9\\AppData\\Roaming\\Python\\Python39\\site-packages\\sklearn\\cluster\\_kmeans.py:1334: UserWarning:\n",
      "\n",
      "KMeans is known to have a memory leak on Windows with MKL, when there are less chunks than available threads. You can avoid it by setting the environment variable OMP_NUM_THREADS=4.\n",
      "\n"
     ]
    },
    {
     "name": "stdout",
     "output_type": "stream",
     "text": [
      "For n_clusters = 6 The average silhouette_score is : 0.19373167687391527\n"
     ]
    },
    {
     "name": "stderr",
     "output_type": "stream",
     "text": [
      "C:\\Users\\cale9\\AppData\\Roaming\\Python\\Python39\\site-packages\\sklearn\\cluster\\_kmeans.py:1334: UserWarning:\n",
      "\n",
      "KMeans is known to have a memory leak on Windows with MKL, when there are less chunks than available threads. You can avoid it by setting the environment variable OMP_NUM_THREADS=4.\n",
      "\n"
     ]
    },
    {
     "name": "stdout",
     "output_type": "stream",
     "text": [
      "For n_clusters = 7 The average silhouette_score is : 0.18141138730638665\n"
     ]
    },
    {
     "name": "stderr",
     "output_type": "stream",
     "text": [
      "C:\\Users\\cale9\\AppData\\Roaming\\Python\\Python39\\site-packages\\sklearn\\cluster\\_kmeans.py:1334: UserWarning:\n",
      "\n",
      "KMeans is known to have a memory leak on Windows with MKL, when there are less chunks than available threads. You can avoid it by setting the environment variable OMP_NUM_THREADS=4.\n",
      "\n"
     ]
    },
    {
     "name": "stdout",
     "output_type": "stream",
     "text": [
      "For n_clusters = 8 The average silhouette_score is : 0.16632880856228197\n"
     ]
    },
    {
     "name": "stderr",
     "output_type": "stream",
     "text": [
      "C:\\Users\\cale9\\AppData\\Roaming\\Python\\Python39\\site-packages\\sklearn\\cluster\\_kmeans.py:1334: UserWarning:\n",
      "\n",
      "KMeans is known to have a memory leak on Windows with MKL, when there are less chunks than available threads. You can avoid it by setting the environment variable OMP_NUM_THREADS=4.\n",
      "\n"
     ]
    },
    {
     "name": "stdout",
     "output_type": "stream",
     "text": [
      "For n_clusters = 9 The average silhouette_score is : 0.16272999132398064\n"
     ]
    },
    {
     "name": "stderr",
     "output_type": "stream",
     "text": [
      "C:\\Users\\cale9\\AppData\\Roaming\\Python\\Python39\\site-packages\\sklearn\\cluster\\_kmeans.py:1334: UserWarning:\n",
      "\n",
      "KMeans is known to have a memory leak on Windows with MKL, when there are less chunks than available threads. You can avoid it by setting the environment variable OMP_NUM_THREADS=4.\n",
      "\n"
     ]
    },
    {
     "name": "stdout",
     "output_type": "stream",
     "text": [
      "For n_clusters = 10 The average silhouette_score is : 0.16111347903852385\n"
     ]
    },
    {
     "name": "stderr",
     "output_type": "stream",
     "text": [
      "C:\\Users\\cale9\\AppData\\Roaming\\Python\\Python39\\site-packages\\sklearn\\cluster\\_kmeans.py:1334: UserWarning:\n",
      "\n",
      "KMeans is known to have a memory leak on Windows with MKL, when there are less chunks than available threads. You can avoid it by setting the environment variable OMP_NUM_THREADS=4.\n",
      "\n"
     ]
    },
    {
     "name": "stdout",
     "output_type": "stream",
     "text": [
      "For n_clusters = 11 The average silhouette_score is : 0.14897468332467703\n"
     ]
    },
    {
     "name": "stderr",
     "output_type": "stream",
     "text": [
      "C:\\Users\\cale9\\AppData\\Roaming\\Python\\Python39\\site-packages\\sklearn\\cluster\\_kmeans.py:1334: UserWarning:\n",
      "\n",
      "KMeans is known to have a memory leak on Windows with MKL, when there are less chunks than available threads. You can avoid it by setting the environment variable OMP_NUM_THREADS=4.\n",
      "\n"
     ]
    },
    {
     "name": "stdout",
     "output_type": "stream",
     "text": [
      "For n_clusters = 12 The average silhouette_score is : 0.15529336433667457\n"
     ]
    },
    {
     "name": "stderr",
     "output_type": "stream",
     "text": [
      "C:\\Users\\cale9\\AppData\\Roaming\\Python\\Python39\\site-packages\\sklearn\\cluster\\_kmeans.py:1334: UserWarning:\n",
      "\n",
      "KMeans is known to have a memory leak on Windows with MKL, when there are less chunks than available threads. You can avoid it by setting the environment variable OMP_NUM_THREADS=4.\n",
      "\n"
     ]
    },
    {
     "name": "stdout",
     "output_type": "stream",
     "text": [
      "For n_clusters = 13 The average silhouette_score is : 0.14276921142911053\n"
     ]
    },
    {
     "name": "stderr",
     "output_type": "stream",
     "text": [
      "C:\\Users\\cale9\\AppData\\Roaming\\Python\\Python39\\site-packages\\sklearn\\cluster\\_kmeans.py:1334: UserWarning:\n",
      "\n",
      "KMeans is known to have a memory leak on Windows with MKL, when there are less chunks than available threads. You can avoid it by setting the environment variable OMP_NUM_THREADS=4.\n",
      "\n"
     ]
    },
    {
     "name": "stdout",
     "output_type": "stream",
     "text": [
      "For n_clusters = 14 The average silhouette_score is : 0.15009716670788287\n"
     ]
    },
    {
     "name": "stderr",
     "output_type": "stream",
     "text": [
      "C:\\Users\\cale9\\AppData\\Roaming\\Python\\Python39\\site-packages\\sklearn\\cluster\\_kmeans.py:1334: UserWarning:\n",
      "\n",
      "KMeans is known to have a memory leak on Windows with MKL, when there are less chunks than available threads. You can avoid it by setting the environment variable OMP_NUM_THREADS=4.\n",
      "\n"
     ]
    },
    {
     "name": "stdout",
     "output_type": "stream",
     "text": [
      "For n_clusters = 15 The average silhouette_score is : 0.1376770952177379\n"
     ]
    }
   ],
   "source": [
    "# Generating the sample data from make_blobs\n",
    "# This particular setting has one distinct cluster and 3 clusters placed close\n",
    "# together.\n",
    "X = user_to_cat_first.values\n",
    "y = 0\n",
    "\n",
    "range_n_clusters = range(2, 15 + 1)\n",
    "silhouette_score_list=[]\n",
    "for n_clusters in range_n_clusters:\n",
    "    clusterer = KMeans(n_clusters=n_clusters) # , n_init=\"auto\", random_state=10\n",
    "    clusterer.fit(X)\n",
    "    cluster_labels = clusterer.labels_\n",
    "\n",
    "    # The silhouette_score gives the average value for all the samples.\n",
    "    # This gives a perspective into the density and separation of the formed\n",
    "    # clusters\n",
    "    silhouette_avg = silhouette_score(X, cluster_labels)\n",
    "    silhouette_score_list.append(silhouette_avg)\n",
    "    print(\n",
    "        \"For n_clusters =\",\n",
    "        n_clusters,\n",
    "        \"The average silhouette_score is :\",\n",
    "        silhouette_avg,\n",
    "    )\n",
    "\n"
   ]
  },
  {
   "cell_type": "code",
   "execution_count": 42,
   "metadata": {},
   "outputs": [
    {
     "data": {
      "application/vnd.plotly.v1+json": {
       "config": {
        "plotlyServerURL": "https://plot.ly"
       },
       "data": [
        {
         "hovertemplate": "x=%{x}<br>y=%{y}<extra></extra>",
         "legendgroup": "",
         "line": {
          "color": "#636efa",
          "dash": "solid"
         },
         "marker": {
          "symbol": "circle"
         },
         "mode": "lines",
         "name": "",
         "orientation": "v",
         "showlegend": false,
         "type": "scatter",
         "x": [
          2,
          3,
          4,
          5,
          6,
          7,
          8,
          9,
          10,
          11,
          12,
          13,
          14,
          15
         ],
         "xaxis": "x",
         "y": [
          0.25413325775018325,
          0.23958948058332766,
          0.2147532704491709,
          0.19260175262458518,
          0.19373167687391527,
          0.18141138730638665,
          0.16632880856228197,
          0.16272999132398064,
          0.16111347903852385,
          0.14897468332467703,
          0.15529336433667457,
          0.14276921142911053,
          0.15009716670788287,
          0.1376770952177379
         ],
         "yaxis": "y"
        }
       ],
       "layout": {
        "legend": {
         "title": {
          "text": "Silhouette score"
         },
         "tracegroupgap": 0
        },
        "margin": {
         "t": 60
        },
        "template": {
         "data": {
          "bar": [
           {
            "error_x": {
             "color": "#2a3f5f"
            },
            "error_y": {
             "color": "#2a3f5f"
            },
            "marker": {
             "line": {
              "color": "#E5ECF6",
              "width": 0.5
             },
             "pattern": {
              "fillmode": "overlay",
              "size": 10,
              "solidity": 0.2
             }
            },
            "type": "bar"
           }
          ],
          "barpolar": [
           {
            "marker": {
             "line": {
              "color": "#E5ECF6",
              "width": 0.5
             },
             "pattern": {
              "fillmode": "overlay",
              "size": 10,
              "solidity": 0.2
             }
            },
            "type": "barpolar"
           }
          ],
          "carpet": [
           {
            "aaxis": {
             "endlinecolor": "#2a3f5f",
             "gridcolor": "white",
             "linecolor": "white",
             "minorgridcolor": "white",
             "startlinecolor": "#2a3f5f"
            },
            "baxis": {
             "endlinecolor": "#2a3f5f",
             "gridcolor": "white",
             "linecolor": "white",
             "minorgridcolor": "white",
             "startlinecolor": "#2a3f5f"
            },
            "type": "carpet"
           }
          ],
          "choropleth": [
           {
            "colorbar": {
             "outlinewidth": 0,
             "ticks": ""
            },
            "type": "choropleth"
           }
          ],
          "contour": [
           {
            "colorbar": {
             "outlinewidth": 0,
             "ticks": ""
            },
            "colorscale": [
             [
              0,
              "#0d0887"
             ],
             [
              0.1111111111111111,
              "#46039f"
             ],
             [
              0.2222222222222222,
              "#7201a8"
             ],
             [
              0.3333333333333333,
              "#9c179e"
             ],
             [
              0.4444444444444444,
              "#bd3786"
             ],
             [
              0.5555555555555556,
              "#d8576b"
             ],
             [
              0.6666666666666666,
              "#ed7953"
             ],
             [
              0.7777777777777778,
              "#fb9f3a"
             ],
             [
              0.8888888888888888,
              "#fdca26"
             ],
             [
              1,
              "#f0f921"
             ]
            ],
            "type": "contour"
           }
          ],
          "contourcarpet": [
           {
            "colorbar": {
             "outlinewidth": 0,
             "ticks": ""
            },
            "type": "contourcarpet"
           }
          ],
          "heatmap": [
           {
            "colorbar": {
             "outlinewidth": 0,
             "ticks": ""
            },
            "colorscale": [
             [
              0,
              "#0d0887"
             ],
             [
              0.1111111111111111,
              "#46039f"
             ],
             [
              0.2222222222222222,
              "#7201a8"
             ],
             [
              0.3333333333333333,
              "#9c179e"
             ],
             [
              0.4444444444444444,
              "#bd3786"
             ],
             [
              0.5555555555555556,
              "#d8576b"
             ],
             [
              0.6666666666666666,
              "#ed7953"
             ],
             [
              0.7777777777777778,
              "#fb9f3a"
             ],
             [
              0.8888888888888888,
              "#fdca26"
             ],
             [
              1,
              "#f0f921"
             ]
            ],
            "type": "heatmap"
           }
          ],
          "heatmapgl": [
           {
            "colorbar": {
             "outlinewidth": 0,
             "ticks": ""
            },
            "colorscale": [
             [
              0,
              "#0d0887"
             ],
             [
              0.1111111111111111,
              "#46039f"
             ],
             [
              0.2222222222222222,
              "#7201a8"
             ],
             [
              0.3333333333333333,
              "#9c179e"
             ],
             [
              0.4444444444444444,
              "#bd3786"
             ],
             [
              0.5555555555555556,
              "#d8576b"
             ],
             [
              0.6666666666666666,
              "#ed7953"
             ],
             [
              0.7777777777777778,
              "#fb9f3a"
             ],
             [
              0.8888888888888888,
              "#fdca26"
             ],
             [
              1,
              "#f0f921"
             ]
            ],
            "type": "heatmapgl"
           }
          ],
          "histogram": [
           {
            "marker": {
             "pattern": {
              "fillmode": "overlay",
              "size": 10,
              "solidity": 0.2
             }
            },
            "type": "histogram"
           }
          ],
          "histogram2d": [
           {
            "colorbar": {
             "outlinewidth": 0,
             "ticks": ""
            },
            "colorscale": [
             [
              0,
              "#0d0887"
             ],
             [
              0.1111111111111111,
              "#46039f"
             ],
             [
              0.2222222222222222,
              "#7201a8"
             ],
             [
              0.3333333333333333,
              "#9c179e"
             ],
             [
              0.4444444444444444,
              "#bd3786"
             ],
             [
              0.5555555555555556,
              "#d8576b"
             ],
             [
              0.6666666666666666,
              "#ed7953"
             ],
             [
              0.7777777777777778,
              "#fb9f3a"
             ],
             [
              0.8888888888888888,
              "#fdca26"
             ],
             [
              1,
              "#f0f921"
             ]
            ],
            "type": "histogram2d"
           }
          ],
          "histogram2dcontour": [
           {
            "colorbar": {
             "outlinewidth": 0,
             "ticks": ""
            },
            "colorscale": [
             [
              0,
              "#0d0887"
             ],
             [
              0.1111111111111111,
              "#46039f"
             ],
             [
              0.2222222222222222,
              "#7201a8"
             ],
             [
              0.3333333333333333,
              "#9c179e"
             ],
             [
              0.4444444444444444,
              "#bd3786"
             ],
             [
              0.5555555555555556,
              "#d8576b"
             ],
             [
              0.6666666666666666,
              "#ed7953"
             ],
             [
              0.7777777777777778,
              "#fb9f3a"
             ],
             [
              0.8888888888888888,
              "#fdca26"
             ],
             [
              1,
              "#f0f921"
             ]
            ],
            "type": "histogram2dcontour"
           }
          ],
          "mesh3d": [
           {
            "colorbar": {
             "outlinewidth": 0,
             "ticks": ""
            },
            "type": "mesh3d"
           }
          ],
          "parcoords": [
           {
            "line": {
             "colorbar": {
              "outlinewidth": 0,
              "ticks": ""
             }
            },
            "type": "parcoords"
           }
          ],
          "pie": [
           {
            "automargin": true,
            "type": "pie"
           }
          ],
          "scatter": [
           {
            "marker": {
             "colorbar": {
              "outlinewidth": 0,
              "ticks": ""
             }
            },
            "type": "scatter"
           }
          ],
          "scatter3d": [
           {
            "line": {
             "colorbar": {
              "outlinewidth": 0,
              "ticks": ""
             }
            },
            "marker": {
             "colorbar": {
              "outlinewidth": 0,
              "ticks": ""
             }
            },
            "type": "scatter3d"
           }
          ],
          "scattercarpet": [
           {
            "marker": {
             "colorbar": {
              "outlinewidth": 0,
              "ticks": ""
             }
            },
            "type": "scattercarpet"
           }
          ],
          "scattergeo": [
           {
            "marker": {
             "colorbar": {
              "outlinewidth": 0,
              "ticks": ""
             }
            },
            "type": "scattergeo"
           }
          ],
          "scattergl": [
           {
            "marker": {
             "colorbar": {
              "outlinewidth": 0,
              "ticks": ""
             }
            },
            "type": "scattergl"
           }
          ],
          "scattermapbox": [
           {
            "marker": {
             "colorbar": {
              "outlinewidth": 0,
              "ticks": ""
             }
            },
            "type": "scattermapbox"
           }
          ],
          "scatterpolar": [
           {
            "marker": {
             "colorbar": {
              "outlinewidth": 0,
              "ticks": ""
             }
            },
            "type": "scatterpolar"
           }
          ],
          "scatterpolargl": [
           {
            "marker": {
             "colorbar": {
              "outlinewidth": 0,
              "ticks": ""
             }
            },
            "type": "scatterpolargl"
           }
          ],
          "scatterternary": [
           {
            "marker": {
             "colorbar": {
              "outlinewidth": 0,
              "ticks": ""
             }
            },
            "type": "scatterternary"
           }
          ],
          "surface": [
           {
            "colorbar": {
             "outlinewidth": 0,
             "ticks": ""
            },
            "colorscale": [
             [
              0,
              "#0d0887"
             ],
             [
              0.1111111111111111,
              "#46039f"
             ],
             [
              0.2222222222222222,
              "#7201a8"
             ],
             [
              0.3333333333333333,
              "#9c179e"
             ],
             [
              0.4444444444444444,
              "#bd3786"
             ],
             [
              0.5555555555555556,
              "#d8576b"
             ],
             [
              0.6666666666666666,
              "#ed7953"
             ],
             [
              0.7777777777777778,
              "#fb9f3a"
             ],
             [
              0.8888888888888888,
              "#fdca26"
             ],
             [
              1,
              "#f0f921"
             ]
            ],
            "type": "surface"
           }
          ],
          "table": [
           {
            "cells": {
             "fill": {
              "color": "#EBF0F8"
             },
             "line": {
              "color": "white"
             }
            },
            "header": {
             "fill": {
              "color": "#C8D4E3"
             },
             "line": {
              "color": "white"
             }
            },
            "type": "table"
           }
          ]
         },
         "layout": {
          "annotationdefaults": {
           "arrowcolor": "#2a3f5f",
           "arrowhead": 0,
           "arrowwidth": 1
          },
          "autotypenumbers": "strict",
          "coloraxis": {
           "colorbar": {
            "outlinewidth": 0,
            "ticks": ""
           }
          },
          "colorscale": {
           "diverging": [
            [
             0,
             "#8e0152"
            ],
            [
             0.1,
             "#c51b7d"
            ],
            [
             0.2,
             "#de77ae"
            ],
            [
             0.3,
             "#f1b6da"
            ],
            [
             0.4,
             "#fde0ef"
            ],
            [
             0.5,
             "#f7f7f7"
            ],
            [
             0.6,
             "#e6f5d0"
            ],
            [
             0.7,
             "#b8e186"
            ],
            [
             0.8,
             "#7fbc41"
            ],
            [
             0.9,
             "#4d9221"
            ],
            [
             1,
             "#276419"
            ]
           ],
           "sequential": [
            [
             0,
             "#0d0887"
            ],
            [
             0.1111111111111111,
             "#46039f"
            ],
            [
             0.2222222222222222,
             "#7201a8"
            ],
            [
             0.3333333333333333,
             "#9c179e"
            ],
            [
             0.4444444444444444,
             "#bd3786"
            ],
            [
             0.5555555555555556,
             "#d8576b"
            ],
            [
             0.6666666666666666,
             "#ed7953"
            ],
            [
             0.7777777777777778,
             "#fb9f3a"
            ],
            [
             0.8888888888888888,
             "#fdca26"
            ],
            [
             1,
             "#f0f921"
            ]
           ],
           "sequentialminus": [
            [
             0,
             "#0d0887"
            ],
            [
             0.1111111111111111,
             "#46039f"
            ],
            [
             0.2222222222222222,
             "#7201a8"
            ],
            [
             0.3333333333333333,
             "#9c179e"
            ],
            [
             0.4444444444444444,
             "#bd3786"
            ],
            [
             0.5555555555555556,
             "#d8576b"
            ],
            [
             0.6666666666666666,
             "#ed7953"
            ],
            [
             0.7777777777777778,
             "#fb9f3a"
            ],
            [
             0.8888888888888888,
             "#fdca26"
            ],
            [
             1,
             "#f0f921"
            ]
           ]
          },
          "colorway": [
           "#636efa",
           "#EF553B",
           "#00cc96",
           "#ab63fa",
           "#FFA15A",
           "#19d3f3",
           "#FF6692",
           "#B6E880",
           "#FF97FF",
           "#FECB52"
          ],
          "font": {
           "color": "#2a3f5f"
          },
          "geo": {
           "bgcolor": "white",
           "lakecolor": "white",
           "landcolor": "#E5ECF6",
           "showlakes": true,
           "showland": true,
           "subunitcolor": "white"
          },
          "hoverlabel": {
           "align": "left"
          },
          "hovermode": "closest",
          "mapbox": {
           "style": "light"
          },
          "paper_bgcolor": "white",
          "plot_bgcolor": "#E5ECF6",
          "polar": {
           "angularaxis": {
            "gridcolor": "white",
            "linecolor": "white",
            "ticks": ""
           },
           "bgcolor": "#E5ECF6",
           "radialaxis": {
            "gridcolor": "white",
            "linecolor": "white",
            "ticks": ""
           }
          },
          "scene": {
           "xaxis": {
            "backgroundcolor": "#E5ECF6",
            "gridcolor": "white",
            "gridwidth": 2,
            "linecolor": "white",
            "showbackground": true,
            "ticks": "",
            "zerolinecolor": "white"
           },
           "yaxis": {
            "backgroundcolor": "#E5ECF6",
            "gridcolor": "white",
            "gridwidth": 2,
            "linecolor": "white",
            "showbackground": true,
            "ticks": "",
            "zerolinecolor": "white"
           },
           "zaxis": {
            "backgroundcolor": "#E5ECF6",
            "gridcolor": "white",
            "gridwidth": 2,
            "linecolor": "white",
            "showbackground": true,
            "ticks": "",
            "zerolinecolor": "white"
           }
          },
          "shapedefaults": {
           "line": {
            "color": "#2a3f5f"
           }
          },
          "ternary": {
           "aaxis": {
            "gridcolor": "white",
            "linecolor": "white",
            "ticks": ""
           },
           "baxis": {
            "gridcolor": "white",
            "linecolor": "white",
            "ticks": ""
           },
           "bgcolor": "#E5ECF6",
           "caxis": {
            "gridcolor": "white",
            "linecolor": "white",
            "ticks": ""
           }
          },
          "title": {
           "x": 0.05
          },
          "xaxis": {
           "automargin": true,
           "gridcolor": "white",
           "linecolor": "white",
           "ticks": "",
           "title": {
            "standoff": 15
           },
           "zerolinecolor": "white",
           "zerolinewidth": 2
          },
          "yaxis": {
           "automargin": true,
           "gridcolor": "white",
           "linecolor": "white",
           "ticks": "",
           "title": {
            "standoff": 15
           },
           "zerolinecolor": "white",
           "zerolinewidth": 2
          }
         }
        },
        "title": {
         "text": "Silhouette score"
        },
        "xaxis": {
         "anchor": "y",
         "domain": [
          0,
          1
         ],
         "title": {
          "text": "Number of clusters"
         }
        },
        "yaxis": {
         "anchor": "x",
         "domain": [
          0,
          1
         ],
         "title": {
          "text": "Silhouette score"
         }
        }
       }
      }
     },
     "metadata": {},
     "output_type": "display_data"
    }
   ],
   "source": [
    "fig=px.line(x=range_n_clusters,y=silhouette_score_list)\n",
    "fig.update_layout(\n",
    "    title=\"Silhouette score\",\n",
    "    xaxis_title=\"Number of clusters\",\n",
    "    yaxis_title=\"Silhouette score\",\n",
    "    legend_title=\"Silhouette score\",)\n",
    "fig.show()"
   ]
  },
  {
   "cell_type": "code",
   "execution_count": 43,
   "metadata": {},
   "outputs": [
    {
     "name": "stderr",
     "output_type": "stream",
     "text": [
      "C:\\Users\\cale9\\AppData\\Roaming\\Python\\Python39\\site-packages\\sklearn\\cluster\\_kmeans.py:1334: UserWarning:\n",
      "\n",
      "KMeans is known to have a memory leak on Windows with MKL, when there are less chunks than available threads. You can avoid it by setting the environment variable OMP_NUM_THREADS=4.\n",
      "\n",
      "C:\\Users\\cale9\\AppData\\Roaming\\Python\\Python39\\site-packages\\sklearn\\cluster\\_kmeans.py:1334: UserWarning:\n",
      "\n",
      "KMeans is known to have a memory leak on Windows with MKL, when there are less chunks than available threads. You can avoid it by setting the environment variable OMP_NUM_THREADS=4.\n",
      "\n"
     ]
    }
   ],
   "source": [
    "#Rename tu user_clustering?\n",
    "\n",
    "our_clustering_4 = KMeans(4).fit(user_to_cat_first.values)\n",
    "our_clustering_5 = KMeans(5).fit(user_to_cat_first.values)"
   ]
  },
  {
   "cell_type": "code",
   "execution_count": 44,
   "metadata": {},
   "outputs": [
    {
     "data": {
      "text/plain": [
       "Counter({3: 239, 1: 394, 0: 196, 2: 141})"
      ]
     },
     "execution_count": 44,
     "metadata": {},
     "output_type": "execute_result"
    }
   ],
   "source": [
    "count = collections.Counter(our_clustering_4.labels_)\n",
    "count"
   ]
  },
  {
   "cell_type": "code",
   "execution_count": 45,
   "metadata": {},
   "outputs": [
    {
     "data": {
      "text/html": [
       "<div>\n",
       "<style scoped>\n",
       "    .dataframe tbody tr th:only-of-type {\n",
       "        vertical-align: middle;\n",
       "    }\n",
       "\n",
       "    .dataframe tbody tr th {\n",
       "        vertical-align: top;\n",
       "    }\n",
       "\n",
       "    .dataframe thead th {\n",
       "        text-align: right;\n",
       "    }\n",
       "</style>\n",
       "<table border=\"1\" class=\"dataframe\">\n",
       "  <thead>\n",
       "    <tr style=\"text-align: right;\">\n",
       "      <th></th>\n",
       "      <th>style</th>\n",
       "      <th>cluster</th>\n",
       "      <th>Number of beer</th>\n",
       "    </tr>\n",
       "  </thead>\n",
       "  <tbody>\n",
       "    <tr>\n",
       "      <th>0</th>\n",
       "      <td>Bocks</td>\n",
       "      <td>0</td>\n",
       "      <td>0.816327</td>\n",
       "    </tr>\n",
       "    <tr>\n",
       "      <th>1</th>\n",
       "      <td>Brown Ales</td>\n",
       "      <td>0</td>\n",
       "      <td>2.505102</td>\n",
       "    </tr>\n",
       "    <tr>\n",
       "      <th>2</th>\n",
       "      <td>Dark Ales</td>\n",
       "      <td>0</td>\n",
       "      <td>0.959184</td>\n",
       "    </tr>\n",
       "    <tr>\n",
       "      <th>3</th>\n",
       "      <td>Dark Lagers</td>\n",
       "      <td>0</td>\n",
       "      <td>0.632653</td>\n",
       "    </tr>\n",
       "    <tr>\n",
       "      <th>4</th>\n",
       "      <td>Hybrid Beers</td>\n",
       "      <td>0</td>\n",
       "      <td>0.280612</td>\n",
       "    </tr>\n",
       "    <tr>\n",
       "      <th>5</th>\n",
       "      <td>India Pale Ales</td>\n",
       "      <td>0</td>\n",
       "      <td>9.872449</td>\n",
       "    </tr>\n",
       "    <tr>\n",
       "      <th>6</th>\n",
       "      <td>Pale Ales</td>\n",
       "      <td>0</td>\n",
       "      <td>4.750000</td>\n",
       "    </tr>\n",
       "    <tr>\n",
       "      <th>7</th>\n",
       "      <td>Pale Lagers</td>\n",
       "      <td>0</td>\n",
       "      <td>1.295918</td>\n",
       "    </tr>\n",
       "    <tr>\n",
       "      <th>8</th>\n",
       "      <td>Porters</td>\n",
       "      <td>0</td>\n",
       "      <td>3.096939</td>\n",
       "    </tr>\n",
       "    <tr>\n",
       "      <th>9</th>\n",
       "      <td>Specialty Beer</td>\n",
       "      <td>0</td>\n",
       "      <td>1.341837</td>\n",
       "    </tr>\n",
       "    <tr>\n",
       "      <th>10</th>\n",
       "      <td>Stouts</td>\n",
       "      <td>0</td>\n",
       "      <td>15.147959</td>\n",
       "    </tr>\n",
       "    <tr>\n",
       "      <th>11</th>\n",
       "      <td>Strong Ales</td>\n",
       "      <td>0</td>\n",
       "      <td>6.168367</td>\n",
       "    </tr>\n",
       "    <tr>\n",
       "      <th>12</th>\n",
       "      <td>Weird Cocktail</td>\n",
       "      <td>0</td>\n",
       "      <td>0.076531</td>\n",
       "    </tr>\n",
       "    <tr>\n",
       "      <th>13</th>\n",
       "      <td>Wheat Beers</td>\n",
       "      <td>0</td>\n",
       "      <td>1.551020</td>\n",
       "    </tr>\n",
       "    <tr>\n",
       "      <th>14</th>\n",
       "      <td>Wild/Sour Beers</td>\n",
       "      <td>0</td>\n",
       "      <td>1.505102</td>\n",
       "    </tr>\n",
       "    <tr>\n",
       "      <th>15</th>\n",
       "      <td>Bocks</td>\n",
       "      <td>1</td>\n",
       "      <td>1.659898</td>\n",
       "    </tr>\n",
       "    <tr>\n",
       "      <th>16</th>\n",
       "      <td>Brown Ales</td>\n",
       "      <td>1</td>\n",
       "      <td>3.281726</td>\n",
       "    </tr>\n",
       "    <tr>\n",
       "      <th>17</th>\n",
       "      <td>Dark Ales</td>\n",
       "      <td>1</td>\n",
       "      <td>1.654822</td>\n",
       "    </tr>\n",
       "    <tr>\n",
       "      <th>18</th>\n",
       "      <td>Dark Lagers</td>\n",
       "      <td>1</td>\n",
       "      <td>1.530457</td>\n",
       "    </tr>\n",
       "    <tr>\n",
       "      <th>19</th>\n",
       "      <td>Hybrid Beers</td>\n",
       "      <td>1</td>\n",
       "      <td>0.337563</td>\n",
       "    </tr>\n",
       "    <tr>\n",
       "      <th>20</th>\n",
       "      <td>India Pale Ales</td>\n",
       "      <td>1</td>\n",
       "      <td>8.192893</td>\n",
       "    </tr>\n",
       "    <tr>\n",
       "      <th>21</th>\n",
       "      <td>Pale Ales</td>\n",
       "      <td>1</td>\n",
       "      <td>9.408629</td>\n",
       "    </tr>\n",
       "    <tr>\n",
       "      <th>22</th>\n",
       "      <td>Pale Lagers</td>\n",
       "      <td>1</td>\n",
       "      <td>3.868020</td>\n",
       "    </tr>\n",
       "    <tr>\n",
       "      <th>23</th>\n",
       "      <td>Porters</td>\n",
       "      <td>1</td>\n",
       "      <td>2.296954</td>\n",
       "    </tr>\n",
       "    <tr>\n",
       "      <th>24</th>\n",
       "      <td>Specialty Beer</td>\n",
       "      <td>1</td>\n",
       "      <td>1.743655</td>\n",
       "    </tr>\n",
       "    <tr>\n",
       "      <th>25</th>\n",
       "      <td>Stouts</td>\n",
       "      <td>1</td>\n",
       "      <td>5.119289</td>\n",
       "    </tr>\n",
       "    <tr>\n",
       "      <th>26</th>\n",
       "      <td>Strong Ales</td>\n",
       "      <td>1</td>\n",
       "      <td>6.131980</td>\n",
       "    </tr>\n",
       "    <tr>\n",
       "      <th>27</th>\n",
       "      <td>Weird Cocktail</td>\n",
       "      <td>1</td>\n",
       "      <td>0.063452</td>\n",
       "    </tr>\n",
       "    <tr>\n",
       "      <th>28</th>\n",
       "      <td>Wheat Beers</td>\n",
       "      <td>1</td>\n",
       "      <td>3.619289</td>\n",
       "    </tr>\n",
       "    <tr>\n",
       "      <th>29</th>\n",
       "      <td>Wild/Sour Beers</td>\n",
       "      <td>1</td>\n",
       "      <td>1.091371</td>\n",
       "    </tr>\n",
       "    <tr>\n",
       "      <th>30</th>\n",
       "      <td>Bocks</td>\n",
       "      <td>2</td>\n",
       "      <td>1.794326</td>\n",
       "    </tr>\n",
       "    <tr>\n",
       "      <th>31</th>\n",
       "      <td>Brown Ales</td>\n",
       "      <td>2</td>\n",
       "      <td>2.723404</td>\n",
       "    </tr>\n",
       "    <tr>\n",
       "      <th>32</th>\n",
       "      <td>Dark Ales</td>\n",
       "      <td>2</td>\n",
       "      <td>1.425532</td>\n",
       "    </tr>\n",
       "    <tr>\n",
       "      <th>33</th>\n",
       "      <td>Dark Lagers</td>\n",
       "      <td>2</td>\n",
       "      <td>3.347518</td>\n",
       "    </tr>\n",
       "    <tr>\n",
       "      <th>34</th>\n",
       "      <td>Hybrid Beers</td>\n",
       "      <td>2</td>\n",
       "      <td>0.382979</td>\n",
       "    </tr>\n",
       "    <tr>\n",
       "      <th>35</th>\n",
       "      <td>India Pale Ales</td>\n",
       "      <td>2</td>\n",
       "      <td>3.297872</td>\n",
       "    </tr>\n",
       "    <tr>\n",
       "      <th>36</th>\n",
       "      <td>Pale Ales</td>\n",
       "      <td>2</td>\n",
       "      <td>7.780142</td>\n",
       "    </tr>\n",
       "    <tr>\n",
       "      <th>37</th>\n",
       "      <td>Pale Lagers</td>\n",
       "      <td>2</td>\n",
       "      <td>13.624113</td>\n",
       "    </tr>\n",
       "    <tr>\n",
       "      <th>38</th>\n",
       "      <td>Porters</td>\n",
       "      <td>2</td>\n",
       "      <td>1.560284</td>\n",
       "    </tr>\n",
       "    <tr>\n",
       "      <th>39</th>\n",
       "      <td>Specialty Beer</td>\n",
       "      <td>2</td>\n",
       "      <td>1.418440</td>\n",
       "    </tr>\n",
       "    <tr>\n",
       "      <th>40</th>\n",
       "      <td>Stouts</td>\n",
       "      <td>2</td>\n",
       "      <td>3.510638</td>\n",
       "    </tr>\n",
       "    <tr>\n",
       "      <th>41</th>\n",
       "      <td>Strong Ales</td>\n",
       "      <td>2</td>\n",
       "      <td>3.950355</td>\n",
       "    </tr>\n",
       "    <tr>\n",
       "      <th>42</th>\n",
       "      <td>Weird Cocktail</td>\n",
       "      <td>2</td>\n",
       "      <td>0.156028</td>\n",
       "    </tr>\n",
       "    <tr>\n",
       "      <th>43</th>\n",
       "      <td>Wheat Beers</td>\n",
       "      <td>2</td>\n",
       "      <td>4.744681</td>\n",
       "    </tr>\n",
       "    <tr>\n",
       "      <th>44</th>\n",
       "      <td>Wild/Sour Beers</td>\n",
       "      <td>2</td>\n",
       "      <td>0.283688</td>\n",
       "    </tr>\n",
       "    <tr>\n",
       "      <th>45</th>\n",
       "      <td>Bocks</td>\n",
       "      <td>3</td>\n",
       "      <td>0.598326</td>\n",
       "    </tr>\n",
       "    <tr>\n",
       "      <th>46</th>\n",
       "      <td>Brown Ales</td>\n",
       "      <td>3</td>\n",
       "      <td>1.732218</td>\n",
       "    </tr>\n",
       "    <tr>\n",
       "      <th>47</th>\n",
       "      <td>Dark Ales</td>\n",
       "      <td>3</td>\n",
       "      <td>0.615063</td>\n",
       "    </tr>\n",
       "    <tr>\n",
       "      <th>48</th>\n",
       "      <td>Dark Lagers</td>\n",
       "      <td>3</td>\n",
       "      <td>0.548117</td>\n",
       "    </tr>\n",
       "    <tr>\n",
       "      <th>49</th>\n",
       "      <td>Hybrid Beers</td>\n",
       "      <td>3</td>\n",
       "      <td>0.234310</td>\n",
       "    </tr>\n",
       "    <tr>\n",
       "      <th>50</th>\n",
       "      <td>India Pale Ales</td>\n",
       "      <td>3</td>\n",
       "      <td>22.832636</td>\n",
       "    </tr>\n",
       "    <tr>\n",
       "      <th>51</th>\n",
       "      <td>Pale Ales</td>\n",
       "      <td>3</td>\n",
       "      <td>7.468619</td>\n",
       "    </tr>\n",
       "    <tr>\n",
       "      <th>52</th>\n",
       "      <td>Pale Lagers</td>\n",
       "      <td>3</td>\n",
       "      <td>2.012552</td>\n",
       "    </tr>\n",
       "    <tr>\n",
       "      <th>53</th>\n",
       "      <td>Porters</td>\n",
       "      <td>3</td>\n",
       "      <td>1.351464</td>\n",
       "    </tr>\n",
       "    <tr>\n",
       "      <th>54</th>\n",
       "      <td>Specialty Beer</td>\n",
       "      <td>3</td>\n",
       "      <td>1.221757</td>\n",
       "    </tr>\n",
       "    <tr>\n",
       "      <th>55</th>\n",
       "      <td>Stouts</td>\n",
       "      <td>3</td>\n",
       "      <td>4.556485</td>\n",
       "    </tr>\n",
       "    <tr>\n",
       "      <th>56</th>\n",
       "      <td>Strong Ales</td>\n",
       "      <td>3</td>\n",
       "      <td>4.075314</td>\n",
       "    </tr>\n",
       "    <tr>\n",
       "      <th>57</th>\n",
       "      <td>Weird Cocktail</td>\n",
       "      <td>3</td>\n",
       "      <td>0.012552</td>\n",
       "    </tr>\n",
       "    <tr>\n",
       "      <th>58</th>\n",
       "      <td>Wheat Beers</td>\n",
       "      <td>3</td>\n",
       "      <td>1.878661</td>\n",
       "    </tr>\n",
       "    <tr>\n",
       "      <th>59</th>\n",
       "      <td>Wild/Sour Beers</td>\n",
       "      <td>3</td>\n",
       "      <td>0.861925</td>\n",
       "    </tr>\n",
       "  </tbody>\n",
       "</table>\n",
       "</div>"
      ],
      "text/plain": [
       "              style cluster  Number of beer\n",
       "0             Bocks       0        0.816327\n",
       "1        Brown Ales       0        2.505102\n",
       "2         Dark Ales       0        0.959184\n",
       "3       Dark Lagers       0        0.632653\n",
       "4      Hybrid Beers       0        0.280612\n",
       "5   India Pale Ales       0        9.872449\n",
       "6         Pale Ales       0        4.750000\n",
       "7       Pale Lagers       0        1.295918\n",
       "8           Porters       0        3.096939\n",
       "9    Specialty Beer       0        1.341837\n",
       "10           Stouts       0       15.147959\n",
       "11      Strong Ales       0        6.168367\n",
       "12   Weird Cocktail       0        0.076531\n",
       "13      Wheat Beers       0        1.551020\n",
       "14  Wild/Sour Beers       0        1.505102\n",
       "15            Bocks       1        1.659898\n",
       "16       Brown Ales       1        3.281726\n",
       "17        Dark Ales       1        1.654822\n",
       "18      Dark Lagers       1        1.530457\n",
       "19     Hybrid Beers       1        0.337563\n",
       "20  India Pale Ales       1        8.192893\n",
       "21        Pale Ales       1        9.408629\n",
       "22      Pale Lagers       1        3.868020\n",
       "23          Porters       1        2.296954\n",
       "24   Specialty Beer       1        1.743655\n",
       "25           Stouts       1        5.119289\n",
       "26      Strong Ales       1        6.131980\n",
       "27   Weird Cocktail       1        0.063452\n",
       "28      Wheat Beers       1        3.619289\n",
       "29  Wild/Sour Beers       1        1.091371\n",
       "30            Bocks       2        1.794326\n",
       "31       Brown Ales       2        2.723404\n",
       "32        Dark Ales       2        1.425532\n",
       "33      Dark Lagers       2        3.347518\n",
       "34     Hybrid Beers       2        0.382979\n",
       "35  India Pale Ales       2        3.297872\n",
       "36        Pale Ales       2        7.780142\n",
       "37      Pale Lagers       2       13.624113\n",
       "38          Porters       2        1.560284\n",
       "39   Specialty Beer       2        1.418440\n",
       "40           Stouts       2        3.510638\n",
       "41      Strong Ales       2        3.950355\n",
       "42   Weird Cocktail       2        0.156028\n",
       "43      Wheat Beers       2        4.744681\n",
       "44  Wild/Sour Beers       2        0.283688\n",
       "45            Bocks       3        0.598326\n",
       "46       Brown Ales       3        1.732218\n",
       "47        Dark Ales       3        0.615063\n",
       "48      Dark Lagers       3        0.548117\n",
       "49     Hybrid Beers       3        0.234310\n",
       "50  India Pale Ales       3       22.832636\n",
       "51        Pale Ales       3        7.468619\n",
       "52      Pale Lagers       3        2.012552\n",
       "53          Porters       3        1.351464\n",
       "54   Specialty Beer       3        1.221757\n",
       "55           Stouts       3        4.556485\n",
       "56      Strong Ales       3        4.075314\n",
       "57   Weird Cocktail       3        0.012552\n",
       "58      Wheat Beers       3        1.878661\n",
       "59  Wild/Sour Beers       3        0.861925"
      ]
     },
     "execution_count": 45,
     "metadata": {},
     "output_type": "execute_result"
    }
   ],
   "source": [
    "#Display 4 clusters\n",
    "\n",
    "df_cluster_beer = pd.DataFrame(our_clustering_4.cluster_centers_.T)\n",
    "df_cluster_beer.index = user_to_cat_first.columns\n",
    "df_cluster_beer[\"style\"] = df_cluster_beer.index\n",
    "df_cluster_beer = pd.melt(df_cluster_beer, id_vars=[\"style\"], value_vars=[0,1,2,3])\n",
    "df_cluster_beer.columns = [\"style\", \"cluster\", \"Number of beer\"]\n",
    "df_cluster_beer"
   ]
  },
  {
   "cell_type": "code",
   "execution_count": 46,
   "metadata": {},
   "outputs": [
    {
     "data": {
      "text/html": [
       "<div>\n",
       "<style scoped>\n",
       "    .dataframe tbody tr th:only-of-type {\n",
       "        vertical-align: middle;\n",
       "    }\n",
       "\n",
       "    .dataframe tbody tr th {\n",
       "        vertical-align: top;\n",
       "    }\n",
       "\n",
       "    .dataframe thead th {\n",
       "        text-align: right;\n",
       "    }\n",
       "</style>\n",
       "<table border=\"1\" class=\"dataframe\">\n",
       "  <thead>\n",
       "    <tr style=\"text-align: right;\">\n",
       "      <th></th>\n",
       "      <th>category</th>\n",
       "      <th>cluster</th>\n",
       "      <th>Number of beer</th>\n",
       "    </tr>\n",
       "  </thead>\n",
       "  <tbody>\n",
       "    <tr>\n",
       "      <th>0</th>\n",
       "      <td>Bocks</td>\n",
       "      <td>0</td>\n",
       "      <td>1.581633</td>\n",
       "    </tr>\n",
       "    <tr>\n",
       "      <th>1</th>\n",
       "      <td>Brown Ales</td>\n",
       "      <td>0</td>\n",
       "      <td>2.214286</td>\n",
       "    </tr>\n",
       "    <tr>\n",
       "      <th>2</th>\n",
       "      <td>Dark Ales</td>\n",
       "      <td>0</td>\n",
       "      <td>1.081633</td>\n",
       "    </tr>\n",
       "    <tr>\n",
       "      <th>3</th>\n",
       "      <td>Dark Lagers</td>\n",
       "      <td>0</td>\n",
       "      <td>3.214286</td>\n",
       "    </tr>\n",
       "    <tr>\n",
       "      <th>4</th>\n",
       "      <td>Hybrid Beers</td>\n",
       "      <td>0</td>\n",
       "      <td>0.408163</td>\n",
       "    </tr>\n",
       "    <tr>\n",
       "      <th>...</th>\n",
       "      <td>...</td>\n",
       "      <td>...</td>\n",
       "      <td>...</td>\n",
       "    </tr>\n",
       "    <tr>\n",
       "      <th>70</th>\n",
       "      <td>Stouts</td>\n",
       "      <td>4</td>\n",
       "      <td>5.551237</td>\n",
       "    </tr>\n",
       "    <tr>\n",
       "      <th>71</th>\n",
       "      <td>Strong Ales</td>\n",
       "      <td>4</td>\n",
       "      <td>6.727915</td>\n",
       "    </tr>\n",
       "    <tr>\n",
       "      <th>72</th>\n",
       "      <td>Weird Cocktail</td>\n",
       "      <td>4</td>\n",
       "      <td>0.088339</td>\n",
       "    </tr>\n",
       "    <tr>\n",
       "      <th>73</th>\n",
       "      <td>Wheat Beers</td>\n",
       "      <td>4</td>\n",
       "      <td>4.014134</td>\n",
       "    </tr>\n",
       "    <tr>\n",
       "      <th>74</th>\n",
       "      <td>Wild/Sour Beers</td>\n",
       "      <td>4</td>\n",
       "      <td>1.031802</td>\n",
       "    </tr>\n",
       "  </tbody>\n",
       "</table>\n",
       "<p>75 rows × 3 columns</p>\n",
       "</div>"
      ],
      "text/plain": [
       "           category cluster  Number of beer\n",
       "0             Bocks       0        1.581633\n",
       "1        Brown Ales       0        2.214286\n",
       "2         Dark Ales       0        1.081633\n",
       "3       Dark Lagers       0        3.214286\n",
       "4      Hybrid Beers       0        0.408163\n",
       "..              ...     ...             ...\n",
       "70           Stouts       4        5.551237\n",
       "71      Strong Ales       4        6.727915\n",
       "72   Weird Cocktail       4        0.088339\n",
       "73      Wheat Beers       4        4.014134\n",
       "74  Wild/Sour Beers       4        1.031802\n",
       "\n",
       "[75 rows x 3 columns]"
      ]
     },
     "execution_count": 46,
     "metadata": {},
     "output_type": "execute_result"
    }
   ],
   "source": [
    "#display 5 clusters\n",
    "df_cluster_beer_5 = pd.DataFrame(our_clustering_5.cluster_centers_.T)\n",
    "df_cluster_beer_5.index = user_to_cat_first.columns\n",
    "df_cluster_beer_5[\"category\"] = df_cluster_beer_5.index\n",
    "df_cluster_beer_5 = pd.melt(df_cluster_beer_5, id_vars=[\"category\"], value_vars=[0,1,2,3,4])\n",
    "df_cluster_beer_5.columns = [\"category\", \"cluster\", \"Number of beer\"]\n",
    "df_cluster_beer_5"
   ]
  },
  {
   "cell_type": "code",
   "execution_count": 47,
   "metadata": {},
   "outputs": [
    {
     "data": {
      "application/vnd.plotly.v1+json": {
       "config": {
        "plotlyServerURL": "https://plot.ly"
       },
       "data": [
        {
         "hovertemplate": "cluster=0<br>style=%{x}<br>Number of beer=%{y}<extra></extra>",
         "legendgroup": "0",
         "line": {
          "color": "#636efa",
          "dash": "solid"
         },
         "marker": {
          "symbol": "circle"
         },
         "mode": "lines",
         "name": "0",
         "orientation": "v",
         "showlegend": true,
         "type": "scatter",
         "x": [
          "Bocks",
          "Brown Ales",
          "Dark Ales",
          "Dark Lagers",
          "Hybrid Beers",
          "India Pale Ales",
          "Pale Ales",
          "Pale Lagers",
          "Porters",
          "Specialty Beer",
          "Stouts",
          "Strong Ales",
          "Weird Cocktail",
          "Wheat Beers",
          "Wild/Sour Beers"
         ],
         "xaxis": "x",
         "y": [
          0.8163265306122454,
          2.5051020408163267,
          0.9591836734693882,
          0.6326530612244905,
          0.2806122448979592,
          9.872448979591834,
          4.75,
          1.295918367346938,
          3.0969387755102042,
          1.3418367346938775,
          15.147959183673475,
          6.1683673469387745,
          0.07653061224489796,
          1.5510204081632657,
          1.5051020408163258
         ],
         "yaxis": "y"
        },
        {
         "hovertemplate": "cluster=1<br>style=%{x}<br>Number of beer=%{y}<extra></extra>",
         "legendgroup": "1",
         "line": {
          "color": "#EF553B",
          "dash": "solid"
         },
         "marker": {
          "symbol": "circle"
         },
         "mode": "lines",
         "name": "1",
         "orientation": "v",
         "showlegend": true,
         "type": "scatter",
         "x": [
          "Bocks",
          "Brown Ales",
          "Dark Ales",
          "Dark Lagers",
          "Hybrid Beers",
          "India Pale Ales",
          "Pale Ales",
          "Pale Lagers",
          "Porters",
          "Specialty Beer",
          "Stouts",
          "Strong Ales",
          "Weird Cocktail",
          "Wheat Beers",
          "Wild/Sour Beers"
         ],
         "xaxis": "x",
         "y": [
          1.659898477157361,
          3.281725888324872,
          1.6548223350253806,
          1.530456852791878,
          0.33756345177664976,
          8.192893401015233,
          9.408629441624365,
          3.868020304568528,
          2.296954314720812,
          1.7436548223350263,
          5.119289340101524,
          6.131979695431471,
          0.0634517766497462,
          3.619289340101523,
          1.091370558375634
         ],
         "yaxis": "y"
        },
        {
         "hovertemplate": "cluster=2<br>style=%{x}<br>Number of beer=%{y}<extra></extra>",
         "legendgroup": "2",
         "line": {
          "color": "#00cc96",
          "dash": "solid"
         },
         "marker": {
          "symbol": "circle"
         },
         "mode": "lines",
         "name": "2",
         "orientation": "v",
         "showlegend": true,
         "type": "scatter",
         "x": [
          "Bocks",
          "Brown Ales",
          "Dark Ales",
          "Dark Lagers",
          "Hybrid Beers",
          "India Pale Ales",
          "Pale Ales",
          "Pale Lagers",
          "Porters",
          "Specialty Beer",
          "Stouts",
          "Strong Ales",
          "Weird Cocktail",
          "Wheat Beers",
          "Wild/Sour Beers"
         ],
         "xaxis": "x",
         "y": [
          1.7943262411347523,
          2.723404255319149,
          1.425531914893617,
          3.3475177304964547,
          0.3829787234042553,
          3.297872340425533,
          7.780141843971631,
          13.62411347517731,
          1.5602836879432624,
          1.4184397163120568,
          3.510638297872343,
          3.950354609929078,
          0.15602836879432622,
          4.74468085106383,
          0.28368794326241065
         ],
         "yaxis": "y"
        },
        {
         "hovertemplate": "cluster=3<br>style=%{x}<br>Number of beer=%{y}<extra></extra>",
         "legendgroup": "3",
         "line": {
          "color": "#ab63fa",
          "dash": "solid"
         },
         "marker": {
          "symbol": "circle"
         },
         "mode": "lines",
         "name": "3",
         "orientation": "v",
         "showlegend": true,
         "type": "scatter",
         "x": [
          "Bocks",
          "Brown Ales",
          "Dark Ales",
          "Dark Lagers",
          "Hybrid Beers",
          "India Pale Ales",
          "Pale Ales",
          "Pale Lagers",
          "Porters",
          "Specialty Beer",
          "Stouts",
          "Strong Ales",
          "Weird Cocktail",
          "Wheat Beers",
          "Wild/Sour Beers"
         ],
         "xaxis": "x",
         "y": [
          0.5983263598326367,
          1.7322175732217566,
          0.6150627615062763,
          0.5481171548117163,
          0.2343096234309624,
          22.83263598326361,
          7.468619246861924,
          2.0125523012552287,
          1.351464435146444,
          1.2217573221757325,
          4.556485355648537,
          4.07531380753138,
          0.01255230125523004,
          1.8786610878661099,
          0.8619246861924685
         ],
         "yaxis": "y"
        }
       ],
       "layout": {
        "legend": {
         "title": {
          "text": "cluster"
         },
         "tracegroupgap": 0
        },
        "template": {
         "data": {
          "bar": [
           {
            "error_x": {
             "color": "#2a3f5f"
            },
            "error_y": {
             "color": "#2a3f5f"
            },
            "marker": {
             "line": {
              "color": "#E5ECF6",
              "width": 0.5
             },
             "pattern": {
              "fillmode": "overlay",
              "size": 10,
              "solidity": 0.2
             }
            },
            "type": "bar"
           }
          ],
          "barpolar": [
           {
            "marker": {
             "line": {
              "color": "#E5ECF6",
              "width": 0.5
             },
             "pattern": {
              "fillmode": "overlay",
              "size": 10,
              "solidity": 0.2
             }
            },
            "type": "barpolar"
           }
          ],
          "carpet": [
           {
            "aaxis": {
             "endlinecolor": "#2a3f5f",
             "gridcolor": "white",
             "linecolor": "white",
             "minorgridcolor": "white",
             "startlinecolor": "#2a3f5f"
            },
            "baxis": {
             "endlinecolor": "#2a3f5f",
             "gridcolor": "white",
             "linecolor": "white",
             "minorgridcolor": "white",
             "startlinecolor": "#2a3f5f"
            },
            "type": "carpet"
           }
          ],
          "choropleth": [
           {
            "colorbar": {
             "outlinewidth": 0,
             "ticks": ""
            },
            "type": "choropleth"
           }
          ],
          "contour": [
           {
            "colorbar": {
             "outlinewidth": 0,
             "ticks": ""
            },
            "colorscale": [
             [
              0,
              "#0d0887"
             ],
             [
              0.1111111111111111,
              "#46039f"
             ],
             [
              0.2222222222222222,
              "#7201a8"
             ],
             [
              0.3333333333333333,
              "#9c179e"
             ],
             [
              0.4444444444444444,
              "#bd3786"
             ],
             [
              0.5555555555555556,
              "#d8576b"
             ],
             [
              0.6666666666666666,
              "#ed7953"
             ],
             [
              0.7777777777777778,
              "#fb9f3a"
             ],
             [
              0.8888888888888888,
              "#fdca26"
             ],
             [
              1,
              "#f0f921"
             ]
            ],
            "type": "contour"
           }
          ],
          "contourcarpet": [
           {
            "colorbar": {
             "outlinewidth": 0,
             "ticks": ""
            },
            "type": "contourcarpet"
           }
          ],
          "heatmap": [
           {
            "colorbar": {
             "outlinewidth": 0,
             "ticks": ""
            },
            "colorscale": [
             [
              0,
              "#0d0887"
             ],
             [
              0.1111111111111111,
              "#46039f"
             ],
             [
              0.2222222222222222,
              "#7201a8"
             ],
             [
              0.3333333333333333,
              "#9c179e"
             ],
             [
              0.4444444444444444,
              "#bd3786"
             ],
             [
              0.5555555555555556,
              "#d8576b"
             ],
             [
              0.6666666666666666,
              "#ed7953"
             ],
             [
              0.7777777777777778,
              "#fb9f3a"
             ],
             [
              0.8888888888888888,
              "#fdca26"
             ],
             [
              1,
              "#f0f921"
             ]
            ],
            "type": "heatmap"
           }
          ],
          "heatmapgl": [
           {
            "colorbar": {
             "outlinewidth": 0,
             "ticks": ""
            },
            "colorscale": [
             [
              0,
              "#0d0887"
             ],
             [
              0.1111111111111111,
              "#46039f"
             ],
             [
              0.2222222222222222,
              "#7201a8"
             ],
             [
              0.3333333333333333,
              "#9c179e"
             ],
             [
              0.4444444444444444,
              "#bd3786"
             ],
             [
              0.5555555555555556,
              "#d8576b"
             ],
             [
              0.6666666666666666,
              "#ed7953"
             ],
             [
              0.7777777777777778,
              "#fb9f3a"
             ],
             [
              0.8888888888888888,
              "#fdca26"
             ],
             [
              1,
              "#f0f921"
             ]
            ],
            "type": "heatmapgl"
           }
          ],
          "histogram": [
           {
            "marker": {
             "pattern": {
              "fillmode": "overlay",
              "size": 10,
              "solidity": 0.2
             }
            },
            "type": "histogram"
           }
          ],
          "histogram2d": [
           {
            "colorbar": {
             "outlinewidth": 0,
             "ticks": ""
            },
            "colorscale": [
             [
              0,
              "#0d0887"
             ],
             [
              0.1111111111111111,
              "#46039f"
             ],
             [
              0.2222222222222222,
              "#7201a8"
             ],
             [
              0.3333333333333333,
              "#9c179e"
             ],
             [
              0.4444444444444444,
              "#bd3786"
             ],
             [
              0.5555555555555556,
              "#d8576b"
             ],
             [
              0.6666666666666666,
              "#ed7953"
             ],
             [
              0.7777777777777778,
              "#fb9f3a"
             ],
             [
              0.8888888888888888,
              "#fdca26"
             ],
             [
              1,
              "#f0f921"
             ]
            ],
            "type": "histogram2d"
           }
          ],
          "histogram2dcontour": [
           {
            "colorbar": {
             "outlinewidth": 0,
             "ticks": ""
            },
            "colorscale": [
             [
              0,
              "#0d0887"
             ],
             [
              0.1111111111111111,
              "#46039f"
             ],
             [
              0.2222222222222222,
              "#7201a8"
             ],
             [
              0.3333333333333333,
              "#9c179e"
             ],
             [
              0.4444444444444444,
              "#bd3786"
             ],
             [
              0.5555555555555556,
              "#d8576b"
             ],
             [
              0.6666666666666666,
              "#ed7953"
             ],
             [
              0.7777777777777778,
              "#fb9f3a"
             ],
             [
              0.8888888888888888,
              "#fdca26"
             ],
             [
              1,
              "#f0f921"
             ]
            ],
            "type": "histogram2dcontour"
           }
          ],
          "mesh3d": [
           {
            "colorbar": {
             "outlinewidth": 0,
             "ticks": ""
            },
            "type": "mesh3d"
           }
          ],
          "parcoords": [
           {
            "line": {
             "colorbar": {
              "outlinewidth": 0,
              "ticks": ""
             }
            },
            "type": "parcoords"
           }
          ],
          "pie": [
           {
            "automargin": true,
            "type": "pie"
           }
          ],
          "scatter": [
           {
            "marker": {
             "colorbar": {
              "outlinewidth": 0,
              "ticks": ""
             }
            },
            "type": "scatter"
           }
          ],
          "scatter3d": [
           {
            "line": {
             "colorbar": {
              "outlinewidth": 0,
              "ticks": ""
             }
            },
            "marker": {
             "colorbar": {
              "outlinewidth": 0,
              "ticks": ""
             }
            },
            "type": "scatter3d"
           }
          ],
          "scattercarpet": [
           {
            "marker": {
             "colorbar": {
              "outlinewidth": 0,
              "ticks": ""
             }
            },
            "type": "scattercarpet"
           }
          ],
          "scattergeo": [
           {
            "marker": {
             "colorbar": {
              "outlinewidth": 0,
              "ticks": ""
             }
            },
            "type": "scattergeo"
           }
          ],
          "scattergl": [
           {
            "marker": {
             "colorbar": {
              "outlinewidth": 0,
              "ticks": ""
             }
            },
            "type": "scattergl"
           }
          ],
          "scattermapbox": [
           {
            "marker": {
             "colorbar": {
              "outlinewidth": 0,
              "ticks": ""
             }
            },
            "type": "scattermapbox"
           }
          ],
          "scatterpolar": [
           {
            "marker": {
             "colorbar": {
              "outlinewidth": 0,
              "ticks": ""
             }
            },
            "type": "scatterpolar"
           }
          ],
          "scatterpolargl": [
           {
            "marker": {
             "colorbar": {
              "outlinewidth": 0,
              "ticks": ""
             }
            },
            "type": "scatterpolargl"
           }
          ],
          "scatterternary": [
           {
            "marker": {
             "colorbar": {
              "outlinewidth": 0,
              "ticks": ""
             }
            },
            "type": "scatterternary"
           }
          ],
          "surface": [
           {
            "colorbar": {
             "outlinewidth": 0,
             "ticks": ""
            },
            "colorscale": [
             [
              0,
              "#0d0887"
             ],
             [
              0.1111111111111111,
              "#46039f"
             ],
             [
              0.2222222222222222,
              "#7201a8"
             ],
             [
              0.3333333333333333,
              "#9c179e"
             ],
             [
              0.4444444444444444,
              "#bd3786"
             ],
             [
              0.5555555555555556,
              "#d8576b"
             ],
             [
              0.6666666666666666,
              "#ed7953"
             ],
             [
              0.7777777777777778,
              "#fb9f3a"
             ],
             [
              0.8888888888888888,
              "#fdca26"
             ],
             [
              1,
              "#f0f921"
             ]
            ],
            "type": "surface"
           }
          ],
          "table": [
           {
            "cells": {
             "fill": {
              "color": "#EBF0F8"
             },
             "line": {
              "color": "white"
             }
            },
            "header": {
             "fill": {
              "color": "#C8D4E3"
             },
             "line": {
              "color": "white"
             }
            },
            "type": "table"
           }
          ]
         },
         "layout": {
          "annotationdefaults": {
           "arrowcolor": "#2a3f5f",
           "arrowhead": 0,
           "arrowwidth": 1
          },
          "autotypenumbers": "strict",
          "coloraxis": {
           "colorbar": {
            "outlinewidth": 0,
            "ticks": ""
           }
          },
          "colorscale": {
           "diverging": [
            [
             0,
             "#8e0152"
            ],
            [
             0.1,
             "#c51b7d"
            ],
            [
             0.2,
             "#de77ae"
            ],
            [
             0.3,
             "#f1b6da"
            ],
            [
             0.4,
             "#fde0ef"
            ],
            [
             0.5,
             "#f7f7f7"
            ],
            [
             0.6,
             "#e6f5d0"
            ],
            [
             0.7,
             "#b8e186"
            ],
            [
             0.8,
             "#7fbc41"
            ],
            [
             0.9,
             "#4d9221"
            ],
            [
             1,
             "#276419"
            ]
           ],
           "sequential": [
            [
             0,
             "#0d0887"
            ],
            [
             0.1111111111111111,
             "#46039f"
            ],
            [
             0.2222222222222222,
             "#7201a8"
            ],
            [
             0.3333333333333333,
             "#9c179e"
            ],
            [
             0.4444444444444444,
             "#bd3786"
            ],
            [
             0.5555555555555556,
             "#d8576b"
            ],
            [
             0.6666666666666666,
             "#ed7953"
            ],
            [
             0.7777777777777778,
             "#fb9f3a"
            ],
            [
             0.8888888888888888,
             "#fdca26"
            ],
            [
             1,
             "#f0f921"
            ]
           ],
           "sequentialminus": [
            [
             0,
             "#0d0887"
            ],
            [
             0.1111111111111111,
             "#46039f"
            ],
            [
             0.2222222222222222,
             "#7201a8"
            ],
            [
             0.3333333333333333,
             "#9c179e"
            ],
            [
             0.4444444444444444,
             "#bd3786"
            ],
            [
             0.5555555555555556,
             "#d8576b"
            ],
            [
             0.6666666666666666,
             "#ed7953"
            ],
            [
             0.7777777777777778,
             "#fb9f3a"
            ],
            [
             0.8888888888888888,
             "#fdca26"
            ],
            [
             1,
             "#f0f921"
            ]
           ]
          },
          "colorway": [
           "#636efa",
           "#EF553B",
           "#00cc96",
           "#ab63fa",
           "#FFA15A",
           "#19d3f3",
           "#FF6692",
           "#B6E880",
           "#FF97FF",
           "#FECB52"
          ],
          "font": {
           "color": "#2a3f5f"
          },
          "geo": {
           "bgcolor": "white",
           "lakecolor": "white",
           "landcolor": "#E5ECF6",
           "showlakes": true,
           "showland": true,
           "subunitcolor": "white"
          },
          "hoverlabel": {
           "align": "left"
          },
          "hovermode": "closest",
          "mapbox": {
           "style": "light"
          },
          "paper_bgcolor": "white",
          "plot_bgcolor": "#E5ECF6",
          "polar": {
           "angularaxis": {
            "gridcolor": "white",
            "linecolor": "white",
            "ticks": ""
           },
           "bgcolor": "#E5ECF6",
           "radialaxis": {
            "gridcolor": "white",
            "linecolor": "white",
            "ticks": ""
           }
          },
          "scene": {
           "xaxis": {
            "backgroundcolor": "#E5ECF6",
            "gridcolor": "white",
            "gridwidth": 2,
            "linecolor": "white",
            "showbackground": true,
            "ticks": "",
            "zerolinecolor": "white"
           },
           "yaxis": {
            "backgroundcolor": "#E5ECF6",
            "gridcolor": "white",
            "gridwidth": 2,
            "linecolor": "white",
            "showbackground": true,
            "ticks": "",
            "zerolinecolor": "white"
           },
           "zaxis": {
            "backgroundcolor": "#E5ECF6",
            "gridcolor": "white",
            "gridwidth": 2,
            "linecolor": "white",
            "showbackground": true,
            "ticks": "",
            "zerolinecolor": "white"
           }
          },
          "shapedefaults": {
           "line": {
            "color": "#2a3f5f"
           }
          },
          "ternary": {
           "aaxis": {
            "gridcolor": "white",
            "linecolor": "white",
            "ticks": ""
           },
           "baxis": {
            "gridcolor": "white",
            "linecolor": "white",
            "ticks": ""
           },
           "bgcolor": "#E5ECF6",
           "caxis": {
            "gridcolor": "white",
            "linecolor": "white",
            "ticks": ""
           }
          },
          "title": {
           "x": 0.05
          },
          "xaxis": {
           "automargin": true,
           "gridcolor": "white",
           "linecolor": "white",
           "ticks": "",
           "title": {
            "standoff": 15
           },
           "zerolinecolor": "white",
           "zerolinewidth": 2
          },
          "yaxis": {
           "automargin": true,
           "gridcolor": "white",
           "linecolor": "white",
           "ticks": "",
           "title": {
            "standoff": 15
           },
           "zerolinecolor": "white",
           "zerolinewidth": 2
          }
         }
        },
        "title": {
         "text": "Centroids obtained with Kmeans (k=4) of the first 50 ratings of each user"
        },
        "xaxis": {
         "anchor": "y",
         "domain": [
          0,
          1
         ],
         "title": {
          "text": "style"
         }
        },
        "yaxis": {
         "anchor": "x",
         "domain": [
          0,
          1
         ],
         "title": {
          "text": "Number of beer"
         }
        }
       }
      }
     },
     "metadata": {},
     "output_type": "display_data"
    }
   ],
   "source": [
    "fig = px.line(df_cluster_beer, x=\"style\", y=\"Number of beer\", color=\"cluster\", title=\"Centroids obtained with Kmeans (k=4) of the first 50 ratings of each user\")\n",
    "fig.show()\n",
    "#fig.write_html(\"centroid.html\")"
   ]
  },
  {
   "attachments": {},
   "cell_type": "markdown",
   "metadata": {},
   "source": [
    "we see that 3 cluster are really corelatd -> can be merged into 2 : IPA lovers, and beer discoverer -> keep k = 4"
   ]
  },
  {
   "cell_type": "code",
   "execution_count": 48,
   "metadata": {},
   "outputs": [],
   "source": [
    "df_valid_ratings.to_pickle('leandrinho.pkl')"
   ]
  },
  {
   "cell_type": "code",
   "execution_count": 49,
   "metadata": {},
   "outputs": [
    {
     "data": {
      "application/vnd.plotly.v1+json": {
       "config": {
        "plotlyServerURL": "https://plot.ly"
       },
       "data": [
        {
         "hovertemplate": "cluster=0<br>category=%{x}<br>Number of beer=%{y}<extra></extra>",
         "legendgroup": "0",
         "line": {
          "color": "#636efa",
          "dash": "solid"
         },
         "marker": {
          "symbol": "circle"
         },
         "mode": "lines",
         "name": "0",
         "orientation": "v",
         "showlegend": true,
         "type": "scatter",
         "x": [
          "Bocks",
          "Brown Ales",
          "Dark Ales",
          "Dark Lagers",
          "Hybrid Beers",
          "India Pale Ales",
          "Pale Ales",
          "Pale Lagers",
          "Porters",
          "Specialty Beer",
          "Stouts",
          "Strong Ales",
          "Weird Cocktail",
          "Wheat Beers",
          "Wild/Sour Beers"
         ],
         "xaxis": "x",
         "y": [
          1.5816326530612246,
          2.2142857142857144,
          1.0816326530612246,
          3.2142857142857144,
          0.40816326530612246,
          3.765306122448977,
          7.530612244897959,
          15.857142857142861,
          1.1530612244897958,
          1.2653061224489797,
          2.8571428571428594,
          3.612244897959184,
          0.163265306122449,
          5.071428571428571,
          0.22448979591836693
         ],
         "yaxis": "y"
        },
        {
         "hovertemplate": "cluster=1<br>category=%{x}<br>Number of beer=%{y}<extra></extra>",
         "legendgroup": "1",
         "line": {
          "color": "#EF553B",
          "dash": "solid"
         },
         "marker": {
          "symbol": "circle"
         },
         "mode": "lines",
         "name": "1",
         "orientation": "v",
         "showlegend": true,
         "type": "scatter",
         "x": [
          "Bocks",
          "Brown Ales",
          "Dark Ales",
          "Dark Lagers",
          "Hybrid Beers",
          "India Pale Ales",
          "Pale Ales",
          "Pale Lagers",
          "Porters",
          "Specialty Beer",
          "Stouts",
          "Strong Ales",
          "Weird Cocktail",
          "Wheat Beers",
          "Wild/Sour Beers"
         ],
         "xaxis": "x",
         "y": [
          1.0306122448979596,
          2.557823129251701,
          1.1904761904761907,
          1.0034013605442182,
          0.2891156462585035,
          14.459183673469385,
          8.5,
          3.2517006802721085,
          1.945578231292517,
          1.8027210884353746,
          5.4115646258503425,
          4.982993197278912,
          0.04081632653061221,
          2.608843537414966,
          0.9251700680272109
         ],
         "yaxis": "y"
        },
        {
         "hovertemplate": "cluster=2<br>category=%{x}<br>Number of beer=%{y}<extra></extra>",
         "legendgroup": "2",
         "line": {
          "color": "#00cc96",
          "dash": "solid"
         },
         "marker": {
          "symbol": "circle"
         },
         "mode": "lines",
         "name": "2",
         "orientation": "v",
         "showlegend": true,
         "type": "scatter",
         "x": [
          "Bocks",
          "Brown Ales",
          "Dark Ales",
          "Dark Lagers",
          "Hybrid Beers",
          "India Pale Ales",
          "Pale Ales",
          "Pale Lagers",
          "Porters",
          "Specialty Beer",
          "Stouts",
          "Strong Ales",
          "Weird Cocktail",
          "Wheat Beers",
          "Wild/Sour Beers"
         ],
         "xaxis": "x",
         "y": [
          0.8037974683544307,
          2.2278481012658227,
          0.8734177215189878,
          0.5886075949367094,
          0.2848101265822785,
          9.632911392405061,
          4.443037974683545,
          1.0949367088607573,
          3.208860759493671,
          1.2215189873417722,
          16.25316455696203,
          6.1265822784810124,
          0.06329113924050629,
          1.4683544303797469,
          1.7088607594936698
         ],
         "yaxis": "y"
        },
        {
         "hovertemplate": "cluster=3<br>category=%{x}<br>Number of beer=%{y}<extra></extra>",
         "legendgroup": "3",
         "line": {
          "color": "#ab63fa",
          "dash": "solid"
         },
         "marker": {
          "symbol": "circle"
         },
         "mode": "lines",
         "name": "3",
         "orientation": "v",
         "showlegend": true,
         "type": "scatter",
         "x": [
          "Bocks",
          "Brown Ales",
          "Dark Ales",
          "Dark Lagers",
          "Hybrid Beers",
          "India Pale Ales",
          "Pale Ales",
          "Pale Lagers",
          "Porters",
          "Specialty Beer",
          "Stouts",
          "Strong Ales",
          "Weird Cocktail",
          "Wheat Beers",
          "Wild/Sour Beers"
         ],
         "xaxis": "x",
         "y": [
          0.3722627737226284,
          1.2919708029197075,
          0.43065693430657004,
          0.48905109489051135,
          0.197080291970803,
          26.40145985401461,
          7.21897810218978,
          1.7007299270072984,
          1.0583941605839418,
          0.9270072992700733,
          4.087591240875914,
          3.3941605839416047,
          0.014598540145985398,
          1.5766423357664243,
          0.8394160583941606
         ],
         "yaxis": "y"
        },
        {
         "hovertemplate": "cluster=4<br>category=%{x}<br>Number of beer=%{y}<extra></extra>",
         "legendgroup": "4",
         "line": {
          "color": "#FFA15A",
          "dash": "solid"
         },
         "marker": {
          "symbol": "circle"
         },
         "mode": "lines",
         "name": "4",
         "orientation": "v",
         "showlegend": true,
         "type": "scatter",
         "x": [
          "Bocks",
          "Brown Ales",
          "Dark Ales",
          "Dark Lagers",
          "Hybrid Beers",
          "India Pale Ales",
          "Pale Ales",
          "Pale Lagers",
          "Porters",
          "Specialty Beer",
          "Stouts",
          "Strong Ales",
          "Weird Cocktail",
          "Wheat Beers",
          "Wild/Sour Beers"
         ],
         "xaxis": "x",
         "y": [
          2.0282685512367498,
          3.830388692579504,
          1.8904593639575964,
          1.978798586572439,
          0.3568904593639577,
          4.685512367491176,
          9.159010600706713,
          4.466431095406361,
          2.537102473498233,
          1.6537102473498242,
          5.551236749116609,
          6.727915194346289,
          0.08833922261484095,
          4.014134275618375,
          1.0318021201413425
         ],
         "yaxis": "y"
        }
       ],
       "layout": {
        "legend": {
         "title": {
          "text": "cluster"
         },
         "tracegroupgap": 0
        },
        "template": {
         "data": {
          "bar": [
           {
            "error_x": {
             "color": "#2a3f5f"
            },
            "error_y": {
             "color": "#2a3f5f"
            },
            "marker": {
             "line": {
              "color": "#E5ECF6",
              "width": 0.5
             },
             "pattern": {
              "fillmode": "overlay",
              "size": 10,
              "solidity": 0.2
             }
            },
            "type": "bar"
           }
          ],
          "barpolar": [
           {
            "marker": {
             "line": {
              "color": "#E5ECF6",
              "width": 0.5
             },
             "pattern": {
              "fillmode": "overlay",
              "size": 10,
              "solidity": 0.2
             }
            },
            "type": "barpolar"
           }
          ],
          "carpet": [
           {
            "aaxis": {
             "endlinecolor": "#2a3f5f",
             "gridcolor": "white",
             "linecolor": "white",
             "minorgridcolor": "white",
             "startlinecolor": "#2a3f5f"
            },
            "baxis": {
             "endlinecolor": "#2a3f5f",
             "gridcolor": "white",
             "linecolor": "white",
             "minorgridcolor": "white",
             "startlinecolor": "#2a3f5f"
            },
            "type": "carpet"
           }
          ],
          "choropleth": [
           {
            "colorbar": {
             "outlinewidth": 0,
             "ticks": ""
            },
            "type": "choropleth"
           }
          ],
          "contour": [
           {
            "colorbar": {
             "outlinewidth": 0,
             "ticks": ""
            },
            "colorscale": [
             [
              0,
              "#0d0887"
             ],
             [
              0.1111111111111111,
              "#46039f"
             ],
             [
              0.2222222222222222,
              "#7201a8"
             ],
             [
              0.3333333333333333,
              "#9c179e"
             ],
             [
              0.4444444444444444,
              "#bd3786"
             ],
             [
              0.5555555555555556,
              "#d8576b"
             ],
             [
              0.6666666666666666,
              "#ed7953"
             ],
             [
              0.7777777777777778,
              "#fb9f3a"
             ],
             [
              0.8888888888888888,
              "#fdca26"
             ],
             [
              1,
              "#f0f921"
             ]
            ],
            "type": "contour"
           }
          ],
          "contourcarpet": [
           {
            "colorbar": {
             "outlinewidth": 0,
             "ticks": ""
            },
            "type": "contourcarpet"
           }
          ],
          "heatmap": [
           {
            "colorbar": {
             "outlinewidth": 0,
             "ticks": ""
            },
            "colorscale": [
             [
              0,
              "#0d0887"
             ],
             [
              0.1111111111111111,
              "#46039f"
             ],
             [
              0.2222222222222222,
              "#7201a8"
             ],
             [
              0.3333333333333333,
              "#9c179e"
             ],
             [
              0.4444444444444444,
              "#bd3786"
             ],
             [
              0.5555555555555556,
              "#d8576b"
             ],
             [
              0.6666666666666666,
              "#ed7953"
             ],
             [
              0.7777777777777778,
              "#fb9f3a"
             ],
             [
              0.8888888888888888,
              "#fdca26"
             ],
             [
              1,
              "#f0f921"
             ]
            ],
            "type": "heatmap"
           }
          ],
          "heatmapgl": [
           {
            "colorbar": {
             "outlinewidth": 0,
             "ticks": ""
            },
            "colorscale": [
             [
              0,
              "#0d0887"
             ],
             [
              0.1111111111111111,
              "#46039f"
             ],
             [
              0.2222222222222222,
              "#7201a8"
             ],
             [
              0.3333333333333333,
              "#9c179e"
             ],
             [
              0.4444444444444444,
              "#bd3786"
             ],
             [
              0.5555555555555556,
              "#d8576b"
             ],
             [
              0.6666666666666666,
              "#ed7953"
             ],
             [
              0.7777777777777778,
              "#fb9f3a"
             ],
             [
              0.8888888888888888,
              "#fdca26"
             ],
             [
              1,
              "#f0f921"
             ]
            ],
            "type": "heatmapgl"
           }
          ],
          "histogram": [
           {
            "marker": {
             "pattern": {
              "fillmode": "overlay",
              "size": 10,
              "solidity": 0.2
             }
            },
            "type": "histogram"
           }
          ],
          "histogram2d": [
           {
            "colorbar": {
             "outlinewidth": 0,
             "ticks": ""
            },
            "colorscale": [
             [
              0,
              "#0d0887"
             ],
             [
              0.1111111111111111,
              "#46039f"
             ],
             [
              0.2222222222222222,
              "#7201a8"
             ],
             [
              0.3333333333333333,
              "#9c179e"
             ],
             [
              0.4444444444444444,
              "#bd3786"
             ],
             [
              0.5555555555555556,
              "#d8576b"
             ],
             [
              0.6666666666666666,
              "#ed7953"
             ],
             [
              0.7777777777777778,
              "#fb9f3a"
             ],
             [
              0.8888888888888888,
              "#fdca26"
             ],
             [
              1,
              "#f0f921"
             ]
            ],
            "type": "histogram2d"
           }
          ],
          "histogram2dcontour": [
           {
            "colorbar": {
             "outlinewidth": 0,
             "ticks": ""
            },
            "colorscale": [
             [
              0,
              "#0d0887"
             ],
             [
              0.1111111111111111,
              "#46039f"
             ],
             [
              0.2222222222222222,
              "#7201a8"
             ],
             [
              0.3333333333333333,
              "#9c179e"
             ],
             [
              0.4444444444444444,
              "#bd3786"
             ],
             [
              0.5555555555555556,
              "#d8576b"
             ],
             [
              0.6666666666666666,
              "#ed7953"
             ],
             [
              0.7777777777777778,
              "#fb9f3a"
             ],
             [
              0.8888888888888888,
              "#fdca26"
             ],
             [
              1,
              "#f0f921"
             ]
            ],
            "type": "histogram2dcontour"
           }
          ],
          "mesh3d": [
           {
            "colorbar": {
             "outlinewidth": 0,
             "ticks": ""
            },
            "type": "mesh3d"
           }
          ],
          "parcoords": [
           {
            "line": {
             "colorbar": {
              "outlinewidth": 0,
              "ticks": ""
             }
            },
            "type": "parcoords"
           }
          ],
          "pie": [
           {
            "automargin": true,
            "type": "pie"
           }
          ],
          "scatter": [
           {
            "marker": {
             "colorbar": {
              "outlinewidth": 0,
              "ticks": ""
             }
            },
            "type": "scatter"
           }
          ],
          "scatter3d": [
           {
            "line": {
             "colorbar": {
              "outlinewidth": 0,
              "ticks": ""
             }
            },
            "marker": {
             "colorbar": {
              "outlinewidth": 0,
              "ticks": ""
             }
            },
            "type": "scatter3d"
           }
          ],
          "scattercarpet": [
           {
            "marker": {
             "colorbar": {
              "outlinewidth": 0,
              "ticks": ""
             }
            },
            "type": "scattercarpet"
           }
          ],
          "scattergeo": [
           {
            "marker": {
             "colorbar": {
              "outlinewidth": 0,
              "ticks": ""
             }
            },
            "type": "scattergeo"
           }
          ],
          "scattergl": [
           {
            "marker": {
             "colorbar": {
              "outlinewidth": 0,
              "ticks": ""
             }
            },
            "type": "scattergl"
           }
          ],
          "scattermapbox": [
           {
            "marker": {
             "colorbar": {
              "outlinewidth": 0,
              "ticks": ""
             }
            },
            "type": "scattermapbox"
           }
          ],
          "scatterpolar": [
           {
            "marker": {
             "colorbar": {
              "outlinewidth": 0,
              "ticks": ""
             }
            },
            "type": "scatterpolar"
           }
          ],
          "scatterpolargl": [
           {
            "marker": {
             "colorbar": {
              "outlinewidth": 0,
              "ticks": ""
             }
            },
            "type": "scatterpolargl"
           }
          ],
          "scatterternary": [
           {
            "marker": {
             "colorbar": {
              "outlinewidth": 0,
              "ticks": ""
             }
            },
            "type": "scatterternary"
           }
          ],
          "surface": [
           {
            "colorbar": {
             "outlinewidth": 0,
             "ticks": ""
            },
            "colorscale": [
             [
              0,
              "#0d0887"
             ],
             [
              0.1111111111111111,
              "#46039f"
             ],
             [
              0.2222222222222222,
              "#7201a8"
             ],
             [
              0.3333333333333333,
              "#9c179e"
             ],
             [
              0.4444444444444444,
              "#bd3786"
             ],
             [
              0.5555555555555556,
              "#d8576b"
             ],
             [
              0.6666666666666666,
              "#ed7953"
             ],
             [
              0.7777777777777778,
              "#fb9f3a"
             ],
             [
              0.8888888888888888,
              "#fdca26"
             ],
             [
              1,
              "#f0f921"
             ]
            ],
            "type": "surface"
           }
          ],
          "table": [
           {
            "cells": {
             "fill": {
              "color": "#EBF0F8"
             },
             "line": {
              "color": "white"
             }
            },
            "header": {
             "fill": {
              "color": "#C8D4E3"
             },
             "line": {
              "color": "white"
             }
            },
            "type": "table"
           }
          ]
         },
         "layout": {
          "annotationdefaults": {
           "arrowcolor": "#2a3f5f",
           "arrowhead": 0,
           "arrowwidth": 1
          },
          "autotypenumbers": "strict",
          "coloraxis": {
           "colorbar": {
            "outlinewidth": 0,
            "ticks": ""
           }
          },
          "colorscale": {
           "diverging": [
            [
             0,
             "#8e0152"
            ],
            [
             0.1,
             "#c51b7d"
            ],
            [
             0.2,
             "#de77ae"
            ],
            [
             0.3,
             "#f1b6da"
            ],
            [
             0.4,
             "#fde0ef"
            ],
            [
             0.5,
             "#f7f7f7"
            ],
            [
             0.6,
             "#e6f5d0"
            ],
            [
             0.7,
             "#b8e186"
            ],
            [
             0.8,
             "#7fbc41"
            ],
            [
             0.9,
             "#4d9221"
            ],
            [
             1,
             "#276419"
            ]
           ],
           "sequential": [
            [
             0,
             "#0d0887"
            ],
            [
             0.1111111111111111,
             "#46039f"
            ],
            [
             0.2222222222222222,
             "#7201a8"
            ],
            [
             0.3333333333333333,
             "#9c179e"
            ],
            [
             0.4444444444444444,
             "#bd3786"
            ],
            [
             0.5555555555555556,
             "#d8576b"
            ],
            [
             0.6666666666666666,
             "#ed7953"
            ],
            [
             0.7777777777777778,
             "#fb9f3a"
            ],
            [
             0.8888888888888888,
             "#fdca26"
            ],
            [
             1,
             "#f0f921"
            ]
           ],
           "sequentialminus": [
            [
             0,
             "#0d0887"
            ],
            [
             0.1111111111111111,
             "#46039f"
            ],
            [
             0.2222222222222222,
             "#7201a8"
            ],
            [
             0.3333333333333333,
             "#9c179e"
            ],
            [
             0.4444444444444444,
             "#bd3786"
            ],
            [
             0.5555555555555556,
             "#d8576b"
            ],
            [
             0.6666666666666666,
             "#ed7953"
            ],
            [
             0.7777777777777778,
             "#fb9f3a"
            ],
            [
             0.8888888888888888,
             "#fdca26"
            ],
            [
             1,
             "#f0f921"
            ]
           ]
          },
          "colorway": [
           "#636efa",
           "#EF553B",
           "#00cc96",
           "#ab63fa",
           "#FFA15A",
           "#19d3f3",
           "#FF6692",
           "#B6E880",
           "#FF97FF",
           "#FECB52"
          ],
          "font": {
           "color": "#2a3f5f"
          },
          "geo": {
           "bgcolor": "white",
           "lakecolor": "white",
           "landcolor": "#E5ECF6",
           "showlakes": true,
           "showland": true,
           "subunitcolor": "white"
          },
          "hoverlabel": {
           "align": "left"
          },
          "hovermode": "closest",
          "mapbox": {
           "style": "light"
          },
          "paper_bgcolor": "white",
          "plot_bgcolor": "#E5ECF6",
          "polar": {
           "angularaxis": {
            "gridcolor": "white",
            "linecolor": "white",
            "ticks": ""
           },
           "bgcolor": "#E5ECF6",
           "radialaxis": {
            "gridcolor": "white",
            "linecolor": "white",
            "ticks": ""
           }
          },
          "scene": {
           "xaxis": {
            "backgroundcolor": "#E5ECF6",
            "gridcolor": "white",
            "gridwidth": 2,
            "linecolor": "white",
            "showbackground": true,
            "ticks": "",
            "zerolinecolor": "white"
           },
           "yaxis": {
            "backgroundcolor": "#E5ECF6",
            "gridcolor": "white",
            "gridwidth": 2,
            "linecolor": "white",
            "showbackground": true,
            "ticks": "",
            "zerolinecolor": "white"
           },
           "zaxis": {
            "backgroundcolor": "#E5ECF6",
            "gridcolor": "white",
            "gridwidth": 2,
            "linecolor": "white",
            "showbackground": true,
            "ticks": "",
            "zerolinecolor": "white"
           }
          },
          "shapedefaults": {
           "line": {
            "color": "#2a3f5f"
           }
          },
          "ternary": {
           "aaxis": {
            "gridcolor": "white",
            "linecolor": "white",
            "ticks": ""
           },
           "baxis": {
            "gridcolor": "white",
            "linecolor": "white",
            "ticks": ""
           },
           "bgcolor": "#E5ECF6",
           "caxis": {
            "gridcolor": "white",
            "linecolor": "white",
            "ticks": ""
           }
          },
          "title": {
           "x": 0.05
          },
          "xaxis": {
           "automargin": true,
           "gridcolor": "white",
           "linecolor": "white",
           "ticks": "",
           "title": {
            "standoff": 15
           },
           "zerolinecolor": "white",
           "zerolinewidth": 2
          },
          "yaxis": {
           "automargin": true,
           "gridcolor": "white",
           "linecolor": "white",
           "ticks": "",
           "title": {
            "standoff": 15
           },
           "zerolinecolor": "white",
           "zerolinewidth": 2
          }
         }
        },
        "title": {
         "text": "Centroids obtained with Kmeans (k=5) of the first 50 ratings of each user"
        },
        "xaxis": {
         "anchor": "y",
         "domain": [
          0,
          1
         ],
         "title": {
          "text": "category"
         }
        },
        "yaxis": {
         "anchor": "x",
         "domain": [
          0,
          1
         ],
         "title": {
          "text": "Number of beer"
         }
        }
       }
      }
     },
     "metadata": {},
     "output_type": "display_data"
    }
   ],
   "source": [
    "fig = px.line(df_cluster_beer_5, x=\"category\", y=\"Number of beer\", color=\"cluster\", title=\"Centroids obtained with Kmeans (k=5) of the first 50 ratings of each user\")\n",
    "fig.show()\n",
    "#fig.write_html(\"centroid_first_5_justification.html\")"
   ]
  },
  {
   "cell_type": "code",
   "execution_count": 50,
   "metadata": {},
   "outputs": [],
   "source": [
    "user_to_cat_first[\"first_50_cluster\"] = our_clustering_4.labels_"
   ]
  },
  {
   "cell_type": "code",
   "execution_count": 51,
   "metadata": {},
   "outputs": [
    {
     "data": {
      "text/html": [
       "<div>\n",
       "<style scoped>\n",
       "    .dataframe tbody tr th:only-of-type {\n",
       "        vertical-align: middle;\n",
       "    }\n",
       "\n",
       "    .dataframe tbody tr th {\n",
       "        vertical-align: top;\n",
       "    }\n",
       "\n",
       "    .dataframe thead th {\n",
       "        text-align: right;\n",
       "    }\n",
       "</style>\n",
       "<table border=\"1\" class=\"dataframe\">\n",
       "  <thead>\n",
       "    <tr style=\"text-align: right;\">\n",
       "      <th>category</th>\n",
       "      <th>Bocks</th>\n",
       "      <th>Brown Ales</th>\n",
       "      <th>Dark Ales</th>\n",
       "      <th>Dark Lagers</th>\n",
       "      <th>Hybrid Beers</th>\n",
       "      <th>India Pale Ales</th>\n",
       "      <th>Pale Ales</th>\n",
       "      <th>Pale Lagers</th>\n",
       "      <th>Porters</th>\n",
       "      <th>Specialty Beer</th>\n",
       "      <th>Stouts</th>\n",
       "      <th>Strong Ales</th>\n",
       "      <th>Weird Cocktail</th>\n",
       "      <th>Wheat Beers</th>\n",
       "      <th>Wild/Sour Beers</th>\n",
       "    </tr>\n",
       "    <tr>\n",
       "      <th>user_name</th>\n",
       "      <th></th>\n",
       "      <th></th>\n",
       "      <th></th>\n",
       "      <th></th>\n",
       "      <th></th>\n",
       "      <th></th>\n",
       "      <th></th>\n",
       "      <th></th>\n",
       "      <th></th>\n",
       "      <th></th>\n",
       "      <th></th>\n",
       "      <th></th>\n",
       "      <th></th>\n",
       "      <th></th>\n",
       "      <th></th>\n",
       "    </tr>\n",
       "  </thead>\n",
       "  <tbody>\n",
       "    <tr>\n",
       "      <th>-Rick</th>\n",
       "      <td>0</td>\n",
       "      <td>0</td>\n",
       "      <td>0</td>\n",
       "      <td>0</td>\n",
       "      <td>0</td>\n",
       "      <td>14</td>\n",
       "      <td>4</td>\n",
       "      <td>0</td>\n",
       "      <td>1</td>\n",
       "      <td>0</td>\n",
       "      <td>16</td>\n",
       "      <td>7</td>\n",
       "      <td>0</td>\n",
       "      <td>1</td>\n",
       "      <td>7</td>\n",
       "    </tr>\n",
       "    <tr>\n",
       "      <th>1000lbgrizzly</th>\n",
       "      <td>0</td>\n",
       "      <td>3</td>\n",
       "      <td>2</td>\n",
       "      <td>0</td>\n",
       "      <td>1</td>\n",
       "      <td>10</td>\n",
       "      <td>10</td>\n",
       "      <td>3</td>\n",
       "      <td>1</td>\n",
       "      <td>2</td>\n",
       "      <td>9</td>\n",
       "      <td>2</td>\n",
       "      <td>0</td>\n",
       "      <td>5</td>\n",
       "      <td>2</td>\n",
       "    </tr>\n",
       "    <tr>\n",
       "      <th>1424IpA</th>\n",
       "      <td>0</td>\n",
       "      <td>1</td>\n",
       "      <td>0</td>\n",
       "      <td>0</td>\n",
       "      <td>0</td>\n",
       "      <td>14</td>\n",
       "      <td>9</td>\n",
       "      <td>2</td>\n",
       "      <td>6</td>\n",
       "      <td>1</td>\n",
       "      <td>8</td>\n",
       "      <td>4</td>\n",
       "      <td>0</td>\n",
       "      <td>1</td>\n",
       "      <td>4</td>\n",
       "    </tr>\n",
       "    <tr>\n",
       "      <th>2Xmd</th>\n",
       "      <td>0</td>\n",
       "      <td>0</td>\n",
       "      <td>0</td>\n",
       "      <td>1</td>\n",
       "      <td>1</td>\n",
       "      <td>14</td>\n",
       "      <td>8</td>\n",
       "      <td>4</td>\n",
       "      <td>1</td>\n",
       "      <td>3</td>\n",
       "      <td>5</td>\n",
       "      <td>7</td>\n",
       "      <td>1</td>\n",
       "      <td>3</td>\n",
       "      <td>2</td>\n",
       "    </tr>\n",
       "    <tr>\n",
       "      <th>2ellas</th>\n",
       "      <td>0</td>\n",
       "      <td>3</td>\n",
       "      <td>1</td>\n",
       "      <td>2</td>\n",
       "      <td>0</td>\n",
       "      <td>15</td>\n",
       "      <td>3</td>\n",
       "      <td>10</td>\n",
       "      <td>3</td>\n",
       "      <td>1</td>\n",
       "      <td>6</td>\n",
       "      <td>3</td>\n",
       "      <td>0</td>\n",
       "      <td>2</td>\n",
       "      <td>1</td>\n",
       "    </tr>\n",
       "  </tbody>\n",
       "</table>\n",
       "</div>"
      ],
      "text/plain": [
       "category       Bocks  Brown Ales  Dark Ales  Dark Lagers  Hybrid Beers  \\\n",
       "user_name                                                                \n",
       "-Rick              0           0          0            0             0   \n",
       "1000lbgrizzly      0           3          2            0             1   \n",
       "1424IpA            0           1          0            0             0   \n",
       "2Xmd               0           0          0            1             1   \n",
       "2ellas             0           3          1            2             0   \n",
       "\n",
       "category       India Pale Ales  Pale Ales  Pale Lagers  Porters  \\\n",
       "user_name                                                         \n",
       "-Rick                       14          4            0        1   \n",
       "1000lbgrizzly               10         10            3        1   \n",
       "1424IpA                     14          9            2        6   \n",
       "2Xmd                        14          8            4        1   \n",
       "2ellas                      15          3           10        3   \n",
       "\n",
       "category       Specialty Beer  Stouts  Strong Ales  Weird Cocktail  \\\n",
       "user_name                                                            \n",
       "-Rick                       0      16            7               0   \n",
       "1000lbgrizzly               2       9            2               0   \n",
       "1424IpA                     1       8            4               0   \n",
       "2Xmd                        3       5            7               1   \n",
       "2ellas                      1       6            3               0   \n",
       "\n",
       "category       Wheat Beers  Wild/Sour Beers  \n",
       "user_name                                    \n",
       "-Rick                    1                7  \n",
       "1000lbgrizzly            5                2  \n",
       "1424IpA                  1                4  \n",
       "2Xmd                     3                2  \n",
       "2ellas                   2                1  "
      ]
     },
     "execution_count": 51,
     "metadata": {},
     "output_type": "execute_result"
    }
   ],
   "source": [
    "# How many beers of different categories a user rated in his last 50 ratings\n",
    "\n",
    "df_to_cluster_last = df_valid_ratings[df_valid_ratings[\"rating_number\"] >= 450]\n",
    "user_to_cat_last = df_to_cluster_last.groupby([\"user_name\", \"category\"])[\"beer_id\"].count()\n",
    "user_to_cat_last = user_to_cat_last.unstack(level=-1, fill_value = 0)\n",
    "user_to_cat_last.head(5)"
   ]
  },
  {
   "cell_type": "code",
   "execution_count": 52,
   "metadata": {},
   "outputs": [
    {
     "data": {
      "text/html": [
       "<div>\n",
       "<style scoped>\n",
       "    .dataframe tbody tr th:only-of-type {\n",
       "        vertical-align: middle;\n",
       "    }\n",
       "\n",
       "    .dataframe tbody tr th {\n",
       "        vertical-align: top;\n",
       "    }\n",
       "\n",
       "    .dataframe thead th {\n",
       "        text-align: right;\n",
       "    }\n",
       "</style>\n",
       "<table border=\"1\" class=\"dataframe\">\n",
       "  <thead>\n",
       "    <tr style=\"text-align: right;\">\n",
       "      <th>category</th>\n",
       "      <th>Bocks</th>\n",
       "      <th>Brown Ales</th>\n",
       "      <th>Dark Ales</th>\n",
       "      <th>Dark Lagers</th>\n",
       "      <th>Hybrid Beers</th>\n",
       "      <th>India Pale Ales</th>\n",
       "      <th>Pale Ales</th>\n",
       "      <th>Pale Lagers</th>\n",
       "      <th>Porters</th>\n",
       "      <th>Specialty Beer</th>\n",
       "      <th>Stouts</th>\n",
       "      <th>Strong Ales</th>\n",
       "      <th>Weird Cocktail</th>\n",
       "      <th>Wheat Beers</th>\n",
       "      <th>Wild/Sour Beers</th>\n",
       "      <th>first_50_cluster</th>\n",
       "    </tr>\n",
       "    <tr>\n",
       "      <th>user_name</th>\n",
       "      <th></th>\n",
       "      <th></th>\n",
       "      <th></th>\n",
       "      <th></th>\n",
       "      <th></th>\n",
       "      <th></th>\n",
       "      <th></th>\n",
       "      <th></th>\n",
       "      <th></th>\n",
       "      <th></th>\n",
       "      <th></th>\n",
       "      <th></th>\n",
       "      <th></th>\n",
       "      <th></th>\n",
       "      <th></th>\n",
       "      <th></th>\n",
       "    </tr>\n",
       "  </thead>\n",
       "  <tbody>\n",
       "    <tr>\n",
       "      <th>-Rick</th>\n",
       "      <td>0</td>\n",
       "      <td>2</td>\n",
       "      <td>0</td>\n",
       "      <td>2</td>\n",
       "      <td>0</td>\n",
       "      <td>29</td>\n",
       "      <td>7</td>\n",
       "      <td>2</td>\n",
       "      <td>2</td>\n",
       "      <td>2</td>\n",
       "      <td>3</td>\n",
       "      <td>1</td>\n",
       "      <td>0</td>\n",
       "      <td>0</td>\n",
       "      <td>0</td>\n",
       "      <td>3</td>\n",
       "    </tr>\n",
       "    <tr>\n",
       "      <th>1000lbgrizzly</th>\n",
       "      <td>0</td>\n",
       "      <td>5</td>\n",
       "      <td>0</td>\n",
       "      <td>1</td>\n",
       "      <td>0</td>\n",
       "      <td>4</td>\n",
       "      <td>9</td>\n",
       "      <td>7</td>\n",
       "      <td>2</td>\n",
       "      <td>8</td>\n",
       "      <td>6</td>\n",
       "      <td>4</td>\n",
       "      <td>0</td>\n",
       "      <td>3</td>\n",
       "      <td>1</td>\n",
       "      <td>1</td>\n",
       "    </tr>\n",
       "    <tr>\n",
       "      <th>1424IpA</th>\n",
       "      <td>0</td>\n",
       "      <td>0</td>\n",
       "      <td>1</td>\n",
       "      <td>0</td>\n",
       "      <td>0</td>\n",
       "      <td>21</td>\n",
       "      <td>3</td>\n",
       "      <td>1</td>\n",
       "      <td>1</td>\n",
       "      <td>1</td>\n",
       "      <td>12</td>\n",
       "      <td>4</td>\n",
       "      <td>0</td>\n",
       "      <td>1</td>\n",
       "      <td>5</td>\n",
       "      <td>3</td>\n",
       "    </tr>\n",
       "    <tr>\n",
       "      <th>2Xmd</th>\n",
       "      <td>0</td>\n",
       "      <td>2</td>\n",
       "      <td>1</td>\n",
       "      <td>1</td>\n",
       "      <td>0</td>\n",
       "      <td>25</td>\n",
       "      <td>5</td>\n",
       "      <td>1</td>\n",
       "      <td>1</td>\n",
       "      <td>2</td>\n",
       "      <td>9</td>\n",
       "      <td>1</td>\n",
       "      <td>0</td>\n",
       "      <td>2</td>\n",
       "      <td>0</td>\n",
       "      <td>3</td>\n",
       "    </tr>\n",
       "    <tr>\n",
       "      <th>2ellas</th>\n",
       "      <td>0</td>\n",
       "      <td>2</td>\n",
       "      <td>1</td>\n",
       "      <td>0</td>\n",
       "      <td>0</td>\n",
       "      <td>31</td>\n",
       "      <td>9</td>\n",
       "      <td>0</td>\n",
       "      <td>0</td>\n",
       "      <td>0</td>\n",
       "      <td>2</td>\n",
       "      <td>4</td>\n",
       "      <td>0</td>\n",
       "      <td>1</td>\n",
       "      <td>0</td>\n",
       "      <td>3</td>\n",
       "    </tr>\n",
       "  </tbody>\n",
       "</table>\n",
       "</div>"
      ],
      "text/plain": [
       "category       Bocks  Brown Ales  Dark Ales  Dark Lagers  Hybrid Beers  \\\n",
       "user_name                                                                \n",
       "-Rick              0           2          0            2             0   \n",
       "1000lbgrizzly      0           5          0            1             0   \n",
       "1424IpA            0           0          1            0             0   \n",
       "2Xmd               0           2          1            1             0   \n",
       "2ellas             0           2          1            0             0   \n",
       "\n",
       "category       India Pale Ales  Pale Ales  Pale Lagers  Porters  \\\n",
       "user_name                                                         \n",
       "-Rick                       29          7            2        2   \n",
       "1000lbgrizzly                4          9            7        2   \n",
       "1424IpA                     21          3            1        1   \n",
       "2Xmd                        25          5            1        1   \n",
       "2ellas                      31          9            0        0   \n",
       "\n",
       "category       Specialty Beer  Stouts  Strong Ales  Weird Cocktail  \\\n",
       "user_name                                                            \n",
       "-Rick                       2       3            1               0   \n",
       "1000lbgrizzly               8       6            4               0   \n",
       "1424IpA                     1      12            4               0   \n",
       "2Xmd                        2       9            1               0   \n",
       "2ellas                      0       2            4               0   \n",
       "\n",
       "category       Wheat Beers  Wild/Sour Beers  first_50_cluster  \n",
       "user_name                                                      \n",
       "-Rick                    0                0                 3  \n",
       "1000lbgrizzly            3                1                 1  \n",
       "1424IpA                  1                5                 3  \n",
       "2Xmd                     2                0                 3  \n",
       "2ellas                   1                0                 3  "
      ]
     },
     "execution_count": 52,
     "metadata": {},
     "output_type": "execute_result"
    }
   ],
   "source": [
    "user_to_cat_first[\"first_50_cluster\"] = our_clustering_4.labels_\n",
    "user_to_cat_last[\"first_50_cluster\"] = our_clustering_4.labels_\n",
    "\n",
    "user_to_cat_first.head(5)"
   ]
  },
  {
   "cell_type": "code",
   "execution_count": 53,
   "metadata": {},
   "outputs": [],
   "source": [
    "# cluster_team = user_to_cat_first['first_50_cluster'].unique()\n",
    "# categ_beer = user_to_cat_first.columns[1:16]\n",
    "\n",
    "# for team in cluster_team:\n",
    "#     for cate in categ_beer:\n",
    "#        _, ttest_pval = ttest_rel(user_to_cat_first[user_to_cat_first['first_50_cluster'] == team][cate],\n",
    "#                                  user_to_cat_last[user_to_cat_last['first_50_cluster'] == team][cate])\n",
    "#        ci_low_mean_first_rating, ci_high_mean_first_rating = bootstrap((user_to_cat_first[user_to_cat_first['first_50_cluster'] == team][cate].values,), np.mean).confidence_interval\n",
    "#        #ci_low_mean_last_rating, ci_high_mean_last_rating = bootstrap(user_to_cat_last[user_to_cat_last['first_50_cluster']==team][cate], np.mean).confidence_interval\n",
    "#        if ttest_pval<0.05:\n",
    "#         print('the p-value for ttest in the team',team,'for the category',cate,'is',ttest_pval)"
   ]
  },
  {
   "cell_type": "code",
   "execution_count": 54,
   "metadata": {},
   "outputs": [],
   "source": [
    "## Cluster bootstrap\n",
    "\n",
    "cluster_list=[]\n",
    "cate_list=[]\n",
    "ci_low_mean_first_rating_list=[]\n",
    "ci_high_mean_first_rating_list=[]\n",
    "mean_first_rating_list=[]\n",
    "ci_low_mean_last_rating_list=[]\n",
    "ci_high_mean_last_rating_list=[]\n",
    "mean_last_rating_list=[]\n",
    "t_test_list=[]\n",
    "\n",
    "cluster_team = user_to_cat_first['first_50_cluster'].unique()\n",
    "categ_beer = user_to_cat_first.columns[0:15]\n",
    "\n",
    "for team in cluster_team:\n",
    "\n",
    "    current_team_first_rating = user_to_cat_first[user_to_cat_first['first_50_cluster']==team]\n",
    "    current_team_last_rating = user_to_cat_last[user_to_cat_last['first_50_cluster']==team]\n",
    "\n",
    "    for cate in categ_beer:\n",
    "\n",
    "        current_ttest=ttest_rel(current_team_first_rating[cate],current_team_last_rating[cate])[1]\n",
    "        #if current_ttest<0.05:\n",
    "            #print('the p-value for ttest in the team',team,'for the category',cate,'is',current_ttest)\n",
    "\n",
    "        ci_low_mean_first_rating, ci_high_mean_first_rating = bootstrap((current_team_first_rating[cate].values,), np.mean).confidence_interval\n",
    "        ci_low_mean_last_rating, ci_high_mean_last_rating = bootstrap((current_team_last_rating[cate].values,), np.mean).confidence_interval\n",
    "\n",
    "        mean_first_rating_list.append(current_team_first_rating[cate].mean())\n",
    "        mean_last_rating_list.append(current_team_last_rating[cate].mean())\n",
    "\n",
    "        cluster_list.append(team)\n",
    "        cate_list.append(cate)\n",
    "\n",
    "        ci_low_mean_first_rating_list.append(ci_low_mean_first_rating)\n",
    "        ci_high_mean_first_rating_list.append(ci_high_mean_first_rating)\n",
    "        ci_low_mean_last_rating_list.append(ci_low_mean_last_rating)\n",
    "        ci_high_mean_last_rating_list.append(ci_high_mean_last_rating)\n",
    "        t_test_list.append(current_ttest)"
   ]
  },
  {
   "cell_type": "code",
   "execution_count": 55,
   "metadata": {},
   "outputs": [],
   "source": [
    "conf_inter_cluster = pd.DataFrame({'Cluster' : cluster_list, 'Category' : cate_list, 'CI_low_first_rating':ci_low_mean_first_rating_list,\n",
    "                                'CI_high_first_rating':ci_high_mean_first_rating_list,'mean_first_ratings':mean_first_rating_list,\n",
    "                                'CI_low_last_rating':ci_low_mean_last_rating_list,'CI_high_last_rating':ci_high_mean_last_rating_list,\n",
    "                                'mean_last_ratings':mean_last_rating_list,'t_test':t_test_list})"
   ]
  },
  {
   "cell_type": "code",
   "execution_count": 56,
   "metadata": {},
   "outputs": [],
   "source": [
    "## All bootstrap\n",
    "\n",
    "cate_list=[]\n",
    "ci_low_mean_first_rating_list=[]\n",
    "ci_high_mean_first_rating_list=[]\n",
    "mean_first_rating_list=[]\n",
    "ci_low_mean_last_rating_list=[]\n",
    "ci_high_mean_last_rating_list=[]\n",
    "mean_last_rating_list=[]\n",
    "t_test_list=[]\n",
    "categ_beer = user_to_cat_first.columns[0:15]\n",
    "\n",
    "for cate in categ_beer:\n",
    "\n",
    "    current_ttest=ttest_rel(user_to_cat_first[cate],user_to_cat_last[cate])[1]\n",
    "    #if current_ttest<0.05:\n",
    "    #print('the p-value for ttest in the team',team,'for the category',cate,'is',current_ttest)\n",
    "    ci_low_mean_first_rating, ci_high_mean_first_rating = bootstrap((user_to_cat_first[cate].values,), np.mean).confidence_interval\n",
    "    ci_low_mean_last_rating, ci_high_mean_last_rating = bootstrap((user_to_cat_last[cate].values,), np.mean).confidence_interval\n",
    "    mean_first_rating_list.append(user_to_cat_first[cate].mean())\n",
    "    mean_last_rating_list.append(user_to_cat_last[cate].mean())\n",
    "    cate_list.append(cate)\n",
    "    ci_low_mean_first_rating_list.append(ci_low_mean_first_rating)\n",
    "    ci_high_mean_first_rating_list.append(ci_high_mean_first_rating)\n",
    "    ci_low_mean_last_rating_list.append(ci_low_mean_last_rating)\n",
    "    ci_high_mean_last_rating_list.append(ci_high_mean_last_rating)\n",
    "    t_test_list.append(current_ttest)"
   ]
  },
  {
   "cell_type": "code",
   "execution_count": 57,
   "metadata": {},
   "outputs": [],
   "source": [
    "conf_inter_all= pd.DataFrame({ 'Category' : cate_list, 'CI_low_first_rating':ci_low_mean_first_rating_list,\n",
    "                    'CI_high_first_rating':ci_high_mean_first_rating_list,'mean_first_ratings':mean_first_rating_list,\n",
    "                    'CI_low_last_rating':ci_low_mean_last_rating_list,'CI_high_last_rating':ci_high_mean_last_rating_list,\n",
    "                    'mean_last_ratings':mean_last_rating_list,'t_test':t_test_list})\n",
    "conf_inter_all['Cluster'] = 'All'\n"
   ]
  },
  {
   "cell_type": "code",
   "execution_count": 58,
   "metadata": {},
   "outputs": [
    {
     "data": {
      "text/html": [
       "<div>\n",
       "<style scoped>\n",
       "    .dataframe tbody tr th:only-of-type {\n",
       "        vertical-align: middle;\n",
       "    }\n",
       "\n",
       "    .dataframe tbody tr th {\n",
       "        vertical-align: top;\n",
       "    }\n",
       "\n",
       "    .dataframe thead th {\n",
       "        text-align: right;\n",
       "    }\n",
       "</style>\n",
       "<table border=\"1\" class=\"dataframe\">\n",
       "  <thead>\n",
       "    <tr style=\"text-align: right;\">\n",
       "      <th></th>\n",
       "      <th>Category</th>\n",
       "      <th>CI_low_first_rating</th>\n",
       "      <th>CI_high_first_rating</th>\n",
       "      <th>mean_first_ratings</th>\n",
       "      <th>CI_low_last_rating</th>\n",
       "      <th>CI_high_last_rating</th>\n",
       "      <th>mean_last_ratings</th>\n",
       "      <th>t_test</th>\n",
       "      <th>Cluster</th>\n",
       "    </tr>\n",
       "  </thead>\n",
       "  <tbody>\n",
       "    <tr>\n",
       "      <th>0</th>\n",
       "      <td>Bocks</td>\n",
       "      <td>1.160825</td>\n",
       "      <td>1.340206</td>\n",
       "      <td>1.247423</td>\n",
       "      <td>0.854425</td>\n",
       "      <td>1.020619</td>\n",
       "      <td>0.932990</td>\n",
       "      <td>1.040049e-08</td>\n",
       "      <td>All</td>\n",
       "    </tr>\n",
       "    <tr>\n",
       "      <th>1</th>\n",
       "      <td>Brown Ales</td>\n",
       "      <td>2.534235</td>\n",
       "      <td>2.786598</td>\n",
       "      <td>2.661856</td>\n",
       "      <td>1.973196</td>\n",
       "      <td>2.191753</td>\n",
       "      <td>2.082474</td>\n",
       "      <td>9.232355e-14</td>\n",
       "      <td>All</td>\n",
       "    </tr>\n",
       "    <tr>\n",
       "      <th>2</th>\n",
       "      <td>Dark Ales</td>\n",
       "      <td>1.136082</td>\n",
       "      <td>1.314433</td>\n",
       "      <td>1.224742</td>\n",
       "      <td>0.764948</td>\n",
       "      <td>0.914433</td>\n",
       "      <td>0.837113</td>\n",
       "      <td>5.993624e-13</td>\n",
       "      <td>All</td>\n",
       "    </tr>\n",
       "    <tr>\n",
       "      <th>3</th>\n",
       "      <td>Dark Lagers</td>\n",
       "      <td>1.275258</td>\n",
       "      <td>1.479381</td>\n",
       "      <td>1.371134</td>\n",
       "      <td>0.722680</td>\n",
       "      <td>0.860825</td>\n",
       "      <td>0.790722</td>\n",
       "      <td>8.970276e-25</td>\n",
       "      <td>All</td>\n",
       "    </tr>\n",
       "    <tr>\n",
       "      <th>4</th>\n",
       "      <td>Hybrid Beers</td>\n",
       "      <td>0.271134</td>\n",
       "      <td>0.343299</td>\n",
       "      <td>0.307216</td>\n",
       "      <td>0.277320</td>\n",
       "      <td>0.348454</td>\n",
       "      <td>0.312371</td>\n",
       "      <td>8.332273e-01</td>\n",
       "      <td>All</td>\n",
       "    </tr>\n",
       "    <tr>\n",
       "      <th>5</th>\n",
       "      <td>India Pale Ales</td>\n",
       "      <td>10.934021</td>\n",
       "      <td>11.958763</td>\n",
       "      <td>11.427835</td>\n",
       "      <td>11.640206</td>\n",
       "      <td>12.525773</td>\n",
       "      <td>12.076289</td>\n",
       "      <td>1.467942e-02</td>\n",
       "      <td>All</td>\n",
       "    </tr>\n",
       "    <tr>\n",
       "      <th>6</th>\n",
       "      <td>Pale Ales</td>\n",
       "      <td>7.524742</td>\n",
       "      <td>7.995953</td>\n",
       "      <td>7.752577</td>\n",
       "      <td>8.165979</td>\n",
       "      <td>8.642268</td>\n",
       "      <td>8.402062</td>\n",
       "      <td>1.559042e-05</td>\n",
       "      <td>All</td>\n",
       "    </tr>\n",
       "    <tr>\n",
       "      <th>7</th>\n",
       "      <td>Pale Lagers</td>\n",
       "      <td>4.013402</td>\n",
       "      <td>4.651546</td>\n",
       "      <td>4.309278</td>\n",
       "      <td>2.703093</td>\n",
       "      <td>3.079381</td>\n",
       "      <td>2.882474</td>\n",
       "      <td>2.939323e-18</td>\n",
       "      <td>All</td>\n",
       "    </tr>\n",
       "    <tr>\n",
       "      <th>8</th>\n",
       "      <td>Porters</td>\n",
       "      <td>2.005155</td>\n",
       "      <td>2.239175</td>\n",
       "      <td>2.118557</td>\n",
       "      <td>2.104124</td>\n",
       "      <td>2.318557</td>\n",
       "      <td>2.210309</td>\n",
       "      <td>2.196372e-01</td>\n",
       "      <td>All</td>\n",
       "    </tr>\n",
       "    <tr>\n",
       "      <th>9</th>\n",
       "      <td>Specialty Beer</td>\n",
       "      <td>1.378351</td>\n",
       "      <td>1.608247</td>\n",
       "      <td>1.486598</td>\n",
       "      <td>1.417526</td>\n",
       "      <td>1.644330</td>\n",
       "      <td>1.525773</td>\n",
       "      <td>6.030390e-01</td>\n",
       "      <td>All</td>\n",
       "    </tr>\n",
       "    <tr>\n",
       "      <th>10</th>\n",
       "      <td>Stouts</td>\n",
       "      <td>6.440206</td>\n",
       "      <td>7.129897</td>\n",
       "      <td>6.773196</td>\n",
       "      <td>6.925773</td>\n",
       "      <td>7.531959</td>\n",
       "      <td>7.223711</td>\n",
       "      <td>1.425922e-02</td>\n",
       "      <td>All</td>\n",
       "    </tr>\n",
       "    <tr>\n",
       "      <th>11</th>\n",
       "      <td>Strong Ales</td>\n",
       "      <td>5.111340</td>\n",
       "      <td>5.534021</td>\n",
       "      <td>5.315464</td>\n",
       "      <td>4.617912</td>\n",
       "      <td>5.027835</td>\n",
       "      <td>4.818557</td>\n",
       "      <td>1.184995e-04</td>\n",
       "      <td>All</td>\n",
       "    </tr>\n",
       "    <tr>\n",
       "      <th>12</th>\n",
       "      <td>Weird Cocktail</td>\n",
       "      <td>0.051546</td>\n",
       "      <td>0.084536</td>\n",
       "      <td>0.067010</td>\n",
       "      <td>0.013253</td>\n",
       "      <td>0.031959</td>\n",
       "      <td>0.021649</td>\n",
       "      <td>2.432629e-06</td>\n",
       "      <td>All</td>\n",
       "    </tr>\n",
       "    <tr>\n",
       "      <th>13</th>\n",
       "      <td>Wheat Beers</td>\n",
       "      <td>2.774227</td>\n",
       "      <td>3.109278</td>\n",
       "      <td>2.936082</td>\n",
       "      <td>2.157732</td>\n",
       "      <td>2.410309</td>\n",
       "      <td>2.282474</td>\n",
       "      <td>8.487360e-12</td>\n",
       "      <td>All</td>\n",
       "    </tr>\n",
       "    <tr>\n",
       "      <th>14</th>\n",
       "      <td>Wild/Sour Beers</td>\n",
       "      <td>0.880412</td>\n",
       "      <td>1.139175</td>\n",
       "      <td>1.001031</td>\n",
       "      <td>3.341237</td>\n",
       "      <td>3.880412</td>\n",
       "      <td>3.601031</td>\n",
       "      <td>4.314128e-79</td>\n",
       "      <td>All</td>\n",
       "    </tr>\n",
       "  </tbody>\n",
       "</table>\n",
       "</div>"
      ],
      "text/plain": [
       "           Category  CI_low_first_rating  CI_high_first_rating  \\\n",
       "0             Bocks             1.160825              1.340206   \n",
       "1        Brown Ales             2.534235              2.786598   \n",
       "2         Dark Ales             1.136082              1.314433   \n",
       "3       Dark Lagers             1.275258              1.479381   \n",
       "4      Hybrid Beers             0.271134              0.343299   \n",
       "5   India Pale Ales            10.934021             11.958763   \n",
       "6         Pale Ales             7.524742              7.995953   \n",
       "7       Pale Lagers             4.013402              4.651546   \n",
       "8           Porters             2.005155              2.239175   \n",
       "9    Specialty Beer             1.378351              1.608247   \n",
       "10           Stouts             6.440206              7.129897   \n",
       "11      Strong Ales             5.111340              5.534021   \n",
       "12   Weird Cocktail             0.051546              0.084536   \n",
       "13      Wheat Beers             2.774227              3.109278   \n",
       "14  Wild/Sour Beers             0.880412              1.139175   \n",
       "\n",
       "    mean_first_ratings  CI_low_last_rating  CI_high_last_rating  \\\n",
       "0             1.247423            0.854425             1.020619   \n",
       "1             2.661856            1.973196             2.191753   \n",
       "2             1.224742            0.764948             0.914433   \n",
       "3             1.371134            0.722680             0.860825   \n",
       "4             0.307216            0.277320             0.348454   \n",
       "5            11.427835           11.640206            12.525773   \n",
       "6             7.752577            8.165979             8.642268   \n",
       "7             4.309278            2.703093             3.079381   \n",
       "8             2.118557            2.104124             2.318557   \n",
       "9             1.486598            1.417526             1.644330   \n",
       "10            6.773196            6.925773             7.531959   \n",
       "11            5.315464            4.617912             5.027835   \n",
       "12            0.067010            0.013253             0.031959   \n",
       "13            2.936082            2.157732             2.410309   \n",
       "14            1.001031            3.341237             3.880412   \n",
       "\n",
       "    mean_last_ratings        t_test Cluster  \n",
       "0            0.932990  1.040049e-08     All  \n",
       "1            2.082474  9.232355e-14     All  \n",
       "2            0.837113  5.993624e-13     All  \n",
       "3            0.790722  8.970276e-25     All  \n",
       "4            0.312371  8.332273e-01     All  \n",
       "5           12.076289  1.467942e-02     All  \n",
       "6            8.402062  1.559042e-05     All  \n",
       "7            2.882474  2.939323e-18     All  \n",
       "8            2.210309  2.196372e-01     All  \n",
       "9            1.525773  6.030390e-01     All  \n",
       "10           7.223711  1.425922e-02     All  \n",
       "11           4.818557  1.184995e-04     All  \n",
       "12           0.021649  2.432629e-06     All  \n",
       "13           2.282474  8.487360e-12     All  \n",
       "14           3.601031  4.314128e-79     All  "
      ]
     },
     "execution_count": 58,
     "metadata": {},
     "output_type": "execute_result"
    }
   ],
   "source": [
    "conf_inter_all"
   ]
  },
  {
   "cell_type": "code",
   "execution_count": 59,
   "metadata": {},
   "outputs": [],
   "source": [
    "df_conf_inter = pd.concat([conf_inter_all, conf_inter_cluster], ignore_index = True)\n",
    "#conf_inter.reset_index(drop=True, inplace=True)\n"
   ]
  },
  {
   "cell_type": "code",
   "execution_count": 60,
   "metadata": {},
   "outputs": [
    {
     "data": {
      "text/html": [
       "<div>\n",
       "<style scoped>\n",
       "    .dataframe tbody tr th:only-of-type {\n",
       "        vertical-align: middle;\n",
       "    }\n",
       "\n",
       "    .dataframe tbody tr th {\n",
       "        vertical-align: top;\n",
       "    }\n",
       "\n",
       "    .dataframe thead th {\n",
       "        text-align: right;\n",
       "    }\n",
       "</style>\n",
       "<table border=\"1\" class=\"dataframe\">\n",
       "  <thead>\n",
       "    <tr style=\"text-align: right;\">\n",
       "      <th></th>\n",
       "      <th>Category</th>\n",
       "      <th>CI_low_first_rating</th>\n",
       "      <th>CI_high_first_rating</th>\n",
       "      <th>mean_first_ratings</th>\n",
       "      <th>CI_low_last_rating</th>\n",
       "      <th>CI_high_last_rating</th>\n",
       "      <th>mean_last_ratings</th>\n",
       "      <th>t_test</th>\n",
       "      <th>Cluster</th>\n",
       "    </tr>\n",
       "  </thead>\n",
       "  <tbody>\n",
       "    <tr>\n",
       "      <th>0</th>\n",
       "      <td>Bocks</td>\n",
       "      <td>1.160825</td>\n",
       "      <td>1.340206</td>\n",
       "      <td>1.247423</td>\n",
       "      <td>0.854425</td>\n",
       "      <td>1.020619</td>\n",
       "      <td>0.932990</td>\n",
       "      <td>1.040049e-08</td>\n",
       "      <td>All</td>\n",
       "    </tr>\n",
       "    <tr>\n",
       "      <th>1</th>\n",
       "      <td>Brown Ales</td>\n",
       "      <td>2.534235</td>\n",
       "      <td>2.786598</td>\n",
       "      <td>2.661856</td>\n",
       "      <td>1.973196</td>\n",
       "      <td>2.191753</td>\n",
       "      <td>2.082474</td>\n",
       "      <td>9.232355e-14</td>\n",
       "      <td>All</td>\n",
       "    </tr>\n",
       "    <tr>\n",
       "      <th>2</th>\n",
       "      <td>Dark Ales</td>\n",
       "      <td>1.136082</td>\n",
       "      <td>1.314433</td>\n",
       "      <td>1.224742</td>\n",
       "      <td>0.764948</td>\n",
       "      <td>0.914433</td>\n",
       "      <td>0.837113</td>\n",
       "      <td>5.993624e-13</td>\n",
       "      <td>All</td>\n",
       "    </tr>\n",
       "    <tr>\n",
       "      <th>3</th>\n",
       "      <td>Dark Lagers</td>\n",
       "      <td>1.275258</td>\n",
       "      <td>1.479381</td>\n",
       "      <td>1.371134</td>\n",
       "      <td>0.722680</td>\n",
       "      <td>0.860825</td>\n",
       "      <td>0.790722</td>\n",
       "      <td>8.970276e-25</td>\n",
       "      <td>All</td>\n",
       "    </tr>\n",
       "    <tr>\n",
       "      <th>4</th>\n",
       "      <td>Hybrid Beers</td>\n",
       "      <td>0.271134</td>\n",
       "      <td>0.343299</td>\n",
       "      <td>0.307216</td>\n",
       "      <td>0.277320</td>\n",
       "      <td>0.348454</td>\n",
       "      <td>0.312371</td>\n",
       "      <td>8.332273e-01</td>\n",
       "      <td>All</td>\n",
       "    </tr>\n",
       "    <tr>\n",
       "      <th>...</th>\n",
       "      <td>...</td>\n",
       "      <td>...</td>\n",
       "      <td>...</td>\n",
       "      <td>...</td>\n",
       "      <td>...</td>\n",
       "      <td>...</td>\n",
       "      <td>...</td>\n",
       "      <td>...</td>\n",
       "      <td>...</td>\n",
       "    </tr>\n",
       "    <tr>\n",
       "      <th>70</th>\n",
       "      <td>Stouts</td>\n",
       "      <td>3.085106</td>\n",
       "      <td>3.978723</td>\n",
       "      <td>3.510638</td>\n",
       "      <td>4.744681</td>\n",
       "      <td>5.978723</td>\n",
       "      <td>5.297872</td>\n",
       "      <td>3.360124e-06</td>\n",
       "      <td>2</td>\n",
       "    </tr>\n",
       "    <tr>\n",
       "      <th>71</th>\n",
       "      <td>Strong Ales</td>\n",
       "      <td>3.567376</td>\n",
       "      <td>4.361702</td>\n",
       "      <td>3.950355</td>\n",
       "      <td>4.170213</td>\n",
       "      <td>5.219858</td>\n",
       "      <td>4.680851</td>\n",
       "      <td>2.355251e-02</td>\n",
       "      <td>2</td>\n",
       "    </tr>\n",
       "    <tr>\n",
       "      <th>72</th>\n",
       "      <td>Weird Cocktail</td>\n",
       "      <td>0.099291</td>\n",
       "      <td>0.219858</td>\n",
       "      <td>0.156028</td>\n",
       "      <td>0.007092</td>\n",
       "      <td>0.056738</td>\n",
       "      <td>0.028369</td>\n",
       "      <td>1.789359e-04</td>\n",
       "      <td>2</td>\n",
       "    </tr>\n",
       "    <tr>\n",
       "      <th>73</th>\n",
       "      <td>Wheat Beers</td>\n",
       "      <td>4.283688</td>\n",
       "      <td>5.234043</td>\n",
       "      <td>4.744681</td>\n",
       "      <td>2.524823</td>\n",
       "      <td>3.290780</td>\n",
       "      <td>2.893617</td>\n",
       "      <td>2.932158e-09</td>\n",
       "      <td>2</td>\n",
       "    </tr>\n",
       "    <tr>\n",
       "      <th>74</th>\n",
       "      <td>Wild/Sour Beers</td>\n",
       "      <td>0.191489</td>\n",
       "      <td>0.397163</td>\n",
       "      <td>0.283688</td>\n",
       "      <td>1.489362</td>\n",
       "      <td>2.496454</td>\n",
       "      <td>1.900709</td>\n",
       "      <td>3.479107e-09</td>\n",
       "      <td>2</td>\n",
       "    </tr>\n",
       "  </tbody>\n",
       "</table>\n",
       "<p>75 rows × 9 columns</p>\n",
       "</div>"
      ],
      "text/plain": [
       "           Category  CI_low_first_rating  CI_high_first_rating  \\\n",
       "0             Bocks             1.160825              1.340206   \n",
       "1        Brown Ales             2.534235              2.786598   \n",
       "2         Dark Ales             1.136082              1.314433   \n",
       "3       Dark Lagers             1.275258              1.479381   \n",
       "4      Hybrid Beers             0.271134              0.343299   \n",
       "..              ...                  ...                   ...   \n",
       "70           Stouts             3.085106              3.978723   \n",
       "71      Strong Ales             3.567376              4.361702   \n",
       "72   Weird Cocktail             0.099291              0.219858   \n",
       "73      Wheat Beers             4.283688              5.234043   \n",
       "74  Wild/Sour Beers             0.191489              0.397163   \n",
       "\n",
       "    mean_first_ratings  CI_low_last_rating  CI_high_last_rating  \\\n",
       "0             1.247423            0.854425             1.020619   \n",
       "1             2.661856            1.973196             2.191753   \n",
       "2             1.224742            0.764948             0.914433   \n",
       "3             1.371134            0.722680             0.860825   \n",
       "4             0.307216            0.277320             0.348454   \n",
       "..                 ...                 ...                  ...   \n",
       "70            3.510638            4.744681             5.978723   \n",
       "71            3.950355            4.170213             5.219858   \n",
       "72            0.156028            0.007092             0.056738   \n",
       "73            4.744681            2.524823             3.290780   \n",
       "74            0.283688            1.489362             2.496454   \n",
       "\n",
       "    mean_last_ratings        t_test Cluster  \n",
       "0            0.932990  1.040049e-08     All  \n",
       "1            2.082474  9.232355e-14     All  \n",
       "2            0.837113  5.993624e-13     All  \n",
       "3            0.790722  8.970276e-25     All  \n",
       "4            0.312371  8.332273e-01     All  \n",
       "..                ...           ...     ...  \n",
       "70           5.297872  3.360124e-06       2  \n",
       "71           4.680851  2.355251e-02       2  \n",
       "72           0.028369  1.789359e-04       2  \n",
       "73           2.893617  2.932158e-09       2  \n",
       "74           1.900709  3.479107e-09       2  \n",
       "\n",
       "[75 rows x 9 columns]"
      ]
     },
     "execution_count": 60,
     "metadata": {},
     "output_type": "execute_result"
    }
   ],
   "source": [
    "df_conf_inter"
   ]
  },
  {
   "cell_type": "code",
   "execution_count": 61,
   "metadata": {},
   "outputs": [
    {
     "data": {
      "text/html": [
       "<div>\n",
       "<style scoped>\n",
       "    .dataframe tbody tr th:only-of-type {\n",
       "        vertical-align: middle;\n",
       "    }\n",
       "\n",
       "    .dataframe tbody tr th {\n",
       "        vertical-align: top;\n",
       "    }\n",
       "\n",
       "    .dataframe thead th {\n",
       "        text-align: right;\n",
       "    }\n",
       "</style>\n",
       "<table border=\"1\" class=\"dataframe\">\n",
       "  <thead>\n",
       "    <tr style=\"text-align: right;\">\n",
       "      <th></th>\n",
       "      <th>(CI_low_first_rating, 0)</th>\n",
       "      <th>(CI_low_first_rating, 1)</th>\n",
       "      <th>(CI_low_first_rating, 2)</th>\n",
       "      <th>(CI_low_first_rating, 3)</th>\n",
       "      <th>(CI_low_first_rating, All)</th>\n",
       "      <th>(CI_high_first_rating, 0)</th>\n",
       "      <th>(CI_high_first_rating, 1)</th>\n",
       "      <th>(CI_high_first_rating, 2)</th>\n",
       "      <th>(CI_high_first_rating, 3)</th>\n",
       "      <th>(CI_high_first_rating, All)</th>\n",
       "      <th>...</th>\n",
       "      <th>(mean_last_ratings, 0)</th>\n",
       "      <th>(mean_last_ratings, 1)</th>\n",
       "      <th>(mean_last_ratings, 2)</th>\n",
       "      <th>(mean_last_ratings, 3)</th>\n",
       "      <th>(mean_last_ratings, All)</th>\n",
       "      <th>(t_test, 0)</th>\n",
       "      <th>(t_test, 1)</th>\n",
       "      <th>(t_test, 2)</th>\n",
       "      <th>(t_test, 3)</th>\n",
       "      <th>(t_test, All)</th>\n",
       "    </tr>\n",
       "    <tr>\n",
       "      <th>Category</th>\n",
       "      <th></th>\n",
       "      <th></th>\n",
       "      <th></th>\n",
       "      <th></th>\n",
       "      <th></th>\n",
       "      <th></th>\n",
       "      <th></th>\n",
       "      <th></th>\n",
       "      <th></th>\n",
       "      <th></th>\n",
       "      <th></th>\n",
       "      <th></th>\n",
       "      <th></th>\n",
       "      <th></th>\n",
       "      <th></th>\n",
       "      <th></th>\n",
       "      <th></th>\n",
       "      <th></th>\n",
       "      <th></th>\n",
       "      <th></th>\n",
       "      <th></th>\n",
       "    </tr>\n",
       "  </thead>\n",
       "  <tbody>\n",
       "    <tr>\n",
       "      <th>Bocks</th>\n",
       "      <td>0.673469</td>\n",
       "      <td>1.515228</td>\n",
       "      <td>1.531915</td>\n",
       "      <td>0.493724</td>\n",
       "      <td>1.160825</td>\n",
       "      <td>0.974490</td>\n",
       "      <td>1.816329</td>\n",
       "      <td>2.078014</td>\n",
       "      <td>0.715481</td>\n",
       "      <td>1.340206</td>\n",
       "      <td>...</td>\n",
       "      <td>0.551020</td>\n",
       "      <td>1.116751</td>\n",
       "      <td>1.631206</td>\n",
       "      <td>0.531381</td>\n",
       "      <td>0.932990</td>\n",
       "      <td>2.001985e-03</td>\n",
       "      <td>1.210879e-08</td>\n",
       "      <td>4.189340e-01</td>\n",
       "      <td>3.781030e-01</td>\n",
       "      <td>1.040049e-08</td>\n",
       "    </tr>\n",
       "    <tr>\n",
       "      <th>Brown Ales</th>\n",
       "      <td>2.224490</td>\n",
       "      <td>3.086294</td>\n",
       "      <td>2.397163</td>\n",
       "      <td>1.548117</td>\n",
       "      <td>2.534235</td>\n",
       "      <td>2.795918</td>\n",
       "      <td>3.493966</td>\n",
       "      <td>3.049645</td>\n",
       "      <td>1.928870</td>\n",
       "      <td>2.786598</td>\n",
       "      <td>...</td>\n",
       "      <td>1.877551</td>\n",
       "      <td>2.489848</td>\n",
       "      <td>2.617021</td>\n",
       "      <td>1.263598</td>\n",
       "      <td>2.082474</td>\n",
       "      <td>3.737509e-04</td>\n",
       "      <td>1.567179e-09</td>\n",
       "      <td>6.209248e-01</td>\n",
       "      <td>1.907517e-04</td>\n",
       "      <td>9.232355e-14</td>\n",
       "    </tr>\n",
       "    <tr>\n",
       "      <th>Dark Ales</th>\n",
       "      <td>0.795918</td>\n",
       "      <td>1.505076</td>\n",
       "      <td>1.191489</td>\n",
       "      <td>0.510460</td>\n",
       "      <td>1.136082</td>\n",
       "      <td>1.142857</td>\n",
       "      <td>1.812183</td>\n",
       "      <td>1.680851</td>\n",
       "      <td>0.740586</td>\n",
       "      <td>1.314433</td>\n",
       "      <td>...</td>\n",
       "      <td>0.602041</td>\n",
       "      <td>1.050761</td>\n",
       "      <td>1.219858</td>\n",
       "      <td>0.451883</td>\n",
       "      <td>0.837113</td>\n",
       "      <td>5.679719e-04</td>\n",
       "      <td>3.901109e-10</td>\n",
       "      <td>2.220434e-01</td>\n",
       "      <td>2.379335e-02</td>\n",
       "      <td>5.993624e-13</td>\n",
       "    </tr>\n",
       "    <tr>\n",
       "      <th>Dark Lagers</th>\n",
       "      <td>0.500000</td>\n",
       "      <td>1.393401</td>\n",
       "      <td>3.035461</td>\n",
       "      <td>0.443515</td>\n",
       "      <td>1.275258</td>\n",
       "      <td>0.785714</td>\n",
       "      <td>1.675127</td>\n",
       "      <td>3.673759</td>\n",
       "      <td>0.673640</td>\n",
       "      <td>1.479381</td>\n",
       "      <td>...</td>\n",
       "      <td>0.545918</td>\n",
       "      <td>0.923858</td>\n",
       "      <td>1.269504</td>\n",
       "      <td>0.489540</td>\n",
       "      <td>0.790722</td>\n",
       "      <td>3.469893e-01</td>\n",
       "      <td>4.049361e-12</td>\n",
       "      <td>1.775291e-21</td>\n",
       "      <td>4.246688e-01</td>\n",
       "      <td>8.970276e-25</td>\n",
       "    </tr>\n",
       "    <tr>\n",
       "      <th>Hybrid Beers</th>\n",
       "      <td>0.209184</td>\n",
       "      <td>0.281726</td>\n",
       "      <td>0.276596</td>\n",
       "      <td>0.171548</td>\n",
       "      <td>0.271134</td>\n",
       "      <td>0.357143</td>\n",
       "      <td>0.395939</td>\n",
       "      <td>0.496454</td>\n",
       "      <td>0.305439</td>\n",
       "      <td>0.343299</td>\n",
       "      <td>...</td>\n",
       "      <td>0.244898</td>\n",
       "      <td>0.390863</td>\n",
       "      <td>0.297872</td>\n",
       "      <td>0.246862</td>\n",
       "      <td>0.312371</td>\n",
       "      <td>4.381056e-01</td>\n",
       "      <td>1.923013e-01</td>\n",
       "      <td>2.219053e-01</td>\n",
       "      <td>7.907089e-01</td>\n",
       "      <td>8.332273e-01</td>\n",
       "    </tr>\n",
       "    <tr>\n",
       "      <th>India Pale Ales</th>\n",
       "      <td>9.107143</td>\n",
       "      <td>7.787561</td>\n",
       "      <td>2.836879</td>\n",
       "      <td>22.175732</td>\n",
       "      <td>10.934021</td>\n",
       "      <td>10.653061</td>\n",
       "      <td>8.601523</td>\n",
       "      <td>3.801418</td>\n",
       "      <td>23.548117</td>\n",
       "      <td>11.958763</td>\n",
       "      <td>...</td>\n",
       "      <td>11.474490</td>\n",
       "      <td>10.586294</td>\n",
       "      <td>10.148936</td>\n",
       "      <td>16.163180</td>\n",
       "      <td>12.076289</td>\n",
       "      <td>2.410343e-03</td>\n",
       "      <td>2.487439e-14</td>\n",
       "      <td>1.859514e-24</td>\n",
       "      <td>4.386729e-28</td>\n",
       "      <td>1.467942e-02</td>\n",
       "    </tr>\n",
       "    <tr>\n",
       "      <th>Pale Ales</th>\n",
       "      <td>4.397428</td>\n",
       "      <td>9.065990</td>\n",
       "      <td>7.205674</td>\n",
       "      <td>7.046025</td>\n",
       "      <td>7.524742</td>\n",
       "      <td>5.107143</td>\n",
       "      <td>9.756345</td>\n",
       "      <td>8.361702</td>\n",
       "      <td>7.920502</td>\n",
       "      <td>7.995953</td>\n",
       "      <td>...</td>\n",
       "      <td>7.040816</td>\n",
       "      <td>8.840102</td>\n",
       "      <td>9.510638</td>\n",
       "      <td>8.142259</td>\n",
       "      <td>8.402062</td>\n",
       "      <td>7.210528e-14</td>\n",
       "      <td>1.398808e-02</td>\n",
       "      <td>7.017638e-06</td>\n",
       "      <td>3.506138e-02</td>\n",
       "      <td>1.559042e-05</td>\n",
       "    </tr>\n",
       "    <tr>\n",
       "      <th>Pale Lagers</th>\n",
       "      <td>1.107143</td>\n",
       "      <td>3.616751</td>\n",
       "      <td>12.744681</td>\n",
       "      <td>1.758646</td>\n",
       "      <td>4.013402</td>\n",
       "      <td>1.500000</td>\n",
       "      <td>4.126904</td>\n",
       "      <td>14.602837</td>\n",
       "      <td>2.292887</td>\n",
       "      <td>4.651546</td>\n",
       "      <td>...</td>\n",
       "      <td>1.637755</td>\n",
       "      <td>3.281726</td>\n",
       "      <td>4.652482</td>\n",
       "      <td>2.200837</td>\n",
       "      <td>2.882474</td>\n",
       "      <td>4.069503e-02</td>\n",
       "      <td>1.749773e-03</td>\n",
       "      <td>4.205912e-33</td>\n",
       "      <td>3.107862e-01</td>\n",
       "      <td>2.939323e-18</td>\n",
       "    </tr>\n",
       "    <tr>\n",
       "      <th>Porters</th>\n",
       "      <td>2.790816</td>\n",
       "      <td>2.121827</td>\n",
       "      <td>1.312057</td>\n",
       "      <td>1.192469</td>\n",
       "      <td>2.005155</td>\n",
       "      <td>3.427690</td>\n",
       "      <td>2.484772</td>\n",
       "      <td>1.829787</td>\n",
       "      <td>1.514644</td>\n",
       "      <td>2.239175</td>\n",
       "      <td>...</td>\n",
       "      <td>2.576531</td>\n",
       "      <td>2.195431</td>\n",
       "      <td>2.163121</td>\n",
       "      <td>1.962343</td>\n",
       "      <td>2.210309</td>\n",
       "      <td>3.266419e-03</td>\n",
       "      <td>3.815884e-01</td>\n",
       "      <td>3.062677e-03</td>\n",
       "      <td>8.027743e-06</td>\n",
       "      <td>2.196372e-01</td>\n",
       "    </tr>\n",
       "    <tr>\n",
       "      <th>Specialty Beer</th>\n",
       "      <td>1.137755</td>\n",
       "      <td>1.550761</td>\n",
       "      <td>1.163121</td>\n",
       "      <td>1.046025</td>\n",
       "      <td>1.378351</td>\n",
       "      <td>1.591837</td>\n",
       "      <td>1.972081</td>\n",
       "      <td>1.716312</td>\n",
       "      <td>1.435146</td>\n",
       "      <td>1.608247</td>\n",
       "      <td>...</td>\n",
       "      <td>1.484694</td>\n",
       "      <td>1.685279</td>\n",
       "      <td>1.687943</td>\n",
       "      <td>1.200837</td>\n",
       "      <td>1.525773</td>\n",
       "      <td>3.448799e-01</td>\n",
       "      <td>6.610028e-01</td>\n",
       "      <td>1.843903e-01</td>\n",
       "      <td>8.681132e-01</td>\n",
       "      <td>6.030390e-01</td>\n",
       "    </tr>\n",
       "    <tr>\n",
       "      <th>Stouts</th>\n",
       "      <td>14.500000</td>\n",
       "      <td>4.865482</td>\n",
       "      <td>3.085106</td>\n",
       "      <td>4.146444</td>\n",
       "      <td>6.440206</td>\n",
       "      <td>15.913265</td>\n",
       "      <td>5.375635</td>\n",
       "      <td>3.978723</td>\n",
       "      <td>4.987448</td>\n",
       "      <td>7.129897</td>\n",
       "      <td>...</td>\n",
       "      <td>10.188776</td>\n",
       "      <td>6.205584</td>\n",
       "      <td>5.297872</td>\n",
       "      <td>7.606695</td>\n",
       "      <td>7.223711</td>\n",
       "      <td>2.000286e-24</td>\n",
       "      <td>4.111801e-07</td>\n",
       "      <td>3.360124e-06</td>\n",
       "      <td>3.962554e-15</td>\n",
       "      <td>1.425922e-02</td>\n",
       "    </tr>\n",
       "    <tr>\n",
       "      <th>Strong Ales</th>\n",
       "      <td>5.678571</td>\n",
       "      <td>5.794416</td>\n",
       "      <td>3.567376</td>\n",
       "      <td>3.757322</td>\n",
       "      <td>5.111340</td>\n",
       "      <td>6.744898</td>\n",
       "      <td>6.482234</td>\n",
       "      <td>4.361702</td>\n",
       "      <td>4.405858</td>\n",
       "      <td>5.534021</td>\n",
       "      <td>...</td>\n",
       "      <td>5.091837</td>\n",
       "      <td>5.408629</td>\n",
       "      <td>4.680851</td>\n",
       "      <td>3.702929</td>\n",
       "      <td>4.818557</td>\n",
       "      <td>1.091480e-03</td>\n",
       "      <td>4.634065e-04</td>\n",
       "      <td>2.355251e-02</td>\n",
       "      <td>8.847073e-02</td>\n",
       "      <td>1.184995e-04</td>\n",
       "    </tr>\n",
       "    <tr>\n",
       "      <th>Weird Cocktail</th>\n",
       "      <td>0.040816</td>\n",
       "      <td>0.040609</td>\n",
       "      <td>0.099291</td>\n",
       "      <td>0.000000</td>\n",
       "      <td>0.051546</td>\n",
       "      <td>0.122449</td>\n",
       "      <td>0.088832</td>\n",
       "      <td>0.219858</td>\n",
       "      <td>0.029289</td>\n",
       "      <td>0.084536</td>\n",
       "      <td>...</td>\n",
       "      <td>0.005102</td>\n",
       "      <td>0.035533</td>\n",
       "      <td>0.028369</td>\n",
       "      <td>0.008368</td>\n",
       "      <td>0.021649</td>\n",
       "      <td>1.585346e-03</td>\n",
       "      <td>7.814860e-02</td>\n",
       "      <td>1.789359e-04</td>\n",
       "      <td>6.556682e-01</td>\n",
       "      <td>2.432629e-06</td>\n",
       "    </tr>\n",
       "    <tr>\n",
       "      <th>Wheat Beers</th>\n",
       "      <td>1.331633</td>\n",
       "      <td>3.370558</td>\n",
       "      <td>4.283688</td>\n",
       "      <td>1.669456</td>\n",
       "      <td>2.774227</td>\n",
       "      <td>1.841837</td>\n",
       "      <td>3.901015</td>\n",
       "      <td>5.234043</td>\n",
       "      <td>2.112971</td>\n",
       "      <td>3.109278</td>\n",
       "      <td>...</td>\n",
       "      <td>1.877551</td>\n",
       "      <td>2.543147</td>\n",
       "      <td>2.893617</td>\n",
       "      <td>1.824268</td>\n",
       "      <td>2.282474</td>\n",
       "      <td>4.777999e-02</td>\n",
       "      <td>4.994585e-11</td>\n",
       "      <td>2.932158e-09</td>\n",
       "      <td>7.104695e-01</td>\n",
       "      <td>8.487360e-12</td>\n",
       "    </tr>\n",
       "    <tr>\n",
       "      <th>Wild/Sour Beers</th>\n",
       "      <td>1.165021</td>\n",
       "      <td>0.906091</td>\n",
       "      <td>0.191489</td>\n",
       "      <td>0.682008</td>\n",
       "      <td>0.880412</td>\n",
       "      <td>1.918367</td>\n",
       "      <td>1.337563</td>\n",
       "      <td>0.397163</td>\n",
       "      <td>1.154812</td>\n",
       "      <td>1.139175</td>\n",
       "      <td>...</td>\n",
       "      <td>4.801020</td>\n",
       "      <td>3.246193</td>\n",
       "      <td>1.900709</td>\n",
       "      <td>4.205021</td>\n",
       "      <td>3.601031</td>\n",
       "      <td>5.988160e-23</td>\n",
       "      <td>4.317902e-26</td>\n",
       "      <td>3.479107e-09</td>\n",
       "      <td>5.285727e-27</td>\n",
       "      <td>4.314128e-79</td>\n",
       "    </tr>\n",
       "  </tbody>\n",
       "</table>\n",
       "<p>15 rows × 35 columns</p>\n",
       "</div>"
      ],
      "text/plain": [
       "                 (CI_low_first_rating, 0)  (CI_low_first_rating, 1)  \\\n",
       "Category                                                              \n",
       "Bocks                            0.673469                  1.515228   \n",
       "Brown Ales                       2.224490                  3.086294   \n",
       "Dark Ales                        0.795918                  1.505076   \n",
       "Dark Lagers                      0.500000                  1.393401   \n",
       "Hybrid Beers                     0.209184                  0.281726   \n",
       "India Pale Ales                  9.107143                  7.787561   \n",
       "Pale Ales                        4.397428                  9.065990   \n",
       "Pale Lagers                      1.107143                  3.616751   \n",
       "Porters                          2.790816                  2.121827   \n",
       "Specialty Beer                   1.137755                  1.550761   \n",
       "Stouts                          14.500000                  4.865482   \n",
       "Strong Ales                      5.678571                  5.794416   \n",
       "Weird Cocktail                   0.040816                  0.040609   \n",
       "Wheat Beers                      1.331633                  3.370558   \n",
       "Wild/Sour Beers                  1.165021                  0.906091   \n",
       "\n",
       "                 (CI_low_first_rating, 2)  (CI_low_first_rating, 3)  \\\n",
       "Category                                                              \n",
       "Bocks                            1.531915                  0.493724   \n",
       "Brown Ales                       2.397163                  1.548117   \n",
       "Dark Ales                        1.191489                  0.510460   \n",
       "Dark Lagers                      3.035461                  0.443515   \n",
       "Hybrid Beers                     0.276596                  0.171548   \n",
       "India Pale Ales                  2.836879                 22.175732   \n",
       "Pale Ales                        7.205674                  7.046025   \n",
       "Pale Lagers                     12.744681                  1.758646   \n",
       "Porters                          1.312057                  1.192469   \n",
       "Specialty Beer                   1.163121                  1.046025   \n",
       "Stouts                           3.085106                  4.146444   \n",
       "Strong Ales                      3.567376                  3.757322   \n",
       "Weird Cocktail                   0.099291                  0.000000   \n",
       "Wheat Beers                      4.283688                  1.669456   \n",
       "Wild/Sour Beers                  0.191489                  0.682008   \n",
       "\n",
       "                 (CI_low_first_rating, All)  (CI_high_first_rating, 0)  \\\n",
       "Category                                                                 \n",
       "Bocks                              1.160825                   0.974490   \n",
       "Brown Ales                         2.534235                   2.795918   \n",
       "Dark Ales                          1.136082                   1.142857   \n",
       "Dark Lagers                        1.275258                   0.785714   \n",
       "Hybrid Beers                       0.271134                   0.357143   \n",
       "India Pale Ales                   10.934021                  10.653061   \n",
       "Pale Ales                          7.524742                   5.107143   \n",
       "Pale Lagers                        4.013402                   1.500000   \n",
       "Porters                            2.005155                   3.427690   \n",
       "Specialty Beer                     1.378351                   1.591837   \n",
       "Stouts                             6.440206                  15.913265   \n",
       "Strong Ales                        5.111340                   6.744898   \n",
       "Weird Cocktail                     0.051546                   0.122449   \n",
       "Wheat Beers                        2.774227                   1.841837   \n",
       "Wild/Sour Beers                    0.880412                   1.918367   \n",
       "\n",
       "                 (CI_high_first_rating, 1)  (CI_high_first_rating, 2)  \\\n",
       "Category                                                                \n",
       "Bocks                             1.816329                   2.078014   \n",
       "Brown Ales                        3.493966                   3.049645   \n",
       "Dark Ales                         1.812183                   1.680851   \n",
       "Dark Lagers                       1.675127                   3.673759   \n",
       "Hybrid Beers                      0.395939                   0.496454   \n",
       "India Pale Ales                   8.601523                   3.801418   \n",
       "Pale Ales                         9.756345                   8.361702   \n",
       "Pale Lagers                       4.126904                  14.602837   \n",
       "Porters                           2.484772                   1.829787   \n",
       "Specialty Beer                    1.972081                   1.716312   \n",
       "Stouts                            5.375635                   3.978723   \n",
       "Strong Ales                       6.482234                   4.361702   \n",
       "Weird Cocktail                    0.088832                   0.219858   \n",
       "Wheat Beers                       3.901015                   5.234043   \n",
       "Wild/Sour Beers                   1.337563                   0.397163   \n",
       "\n",
       "                 (CI_high_first_rating, 3)  (CI_high_first_rating, All)  ...  \\\n",
       "Category                                                                 ...   \n",
       "Bocks                             0.715481                     1.340206  ...   \n",
       "Brown Ales                        1.928870                     2.786598  ...   \n",
       "Dark Ales                         0.740586                     1.314433  ...   \n",
       "Dark Lagers                       0.673640                     1.479381  ...   \n",
       "Hybrid Beers                      0.305439                     0.343299  ...   \n",
       "India Pale Ales                  23.548117                    11.958763  ...   \n",
       "Pale Ales                         7.920502                     7.995953  ...   \n",
       "Pale Lagers                       2.292887                     4.651546  ...   \n",
       "Porters                           1.514644                     2.239175  ...   \n",
       "Specialty Beer                    1.435146                     1.608247  ...   \n",
       "Stouts                            4.987448                     7.129897  ...   \n",
       "Strong Ales                       4.405858                     5.534021  ...   \n",
       "Weird Cocktail                    0.029289                     0.084536  ...   \n",
       "Wheat Beers                       2.112971                     3.109278  ...   \n",
       "Wild/Sour Beers                   1.154812                     1.139175  ...   \n",
       "\n",
       "                 (mean_last_ratings, 0)  (mean_last_ratings, 1)  \\\n",
       "Category                                                          \n",
       "Bocks                          0.551020                1.116751   \n",
       "Brown Ales                     1.877551                2.489848   \n",
       "Dark Ales                      0.602041                1.050761   \n",
       "Dark Lagers                    0.545918                0.923858   \n",
       "Hybrid Beers                   0.244898                0.390863   \n",
       "India Pale Ales               11.474490               10.586294   \n",
       "Pale Ales                      7.040816                8.840102   \n",
       "Pale Lagers                    1.637755                3.281726   \n",
       "Porters                        2.576531                2.195431   \n",
       "Specialty Beer                 1.484694                1.685279   \n",
       "Stouts                        10.188776                6.205584   \n",
       "Strong Ales                    5.091837                5.408629   \n",
       "Weird Cocktail                 0.005102                0.035533   \n",
       "Wheat Beers                    1.877551                2.543147   \n",
       "Wild/Sour Beers                4.801020                3.246193   \n",
       "\n",
       "                 (mean_last_ratings, 2)  (mean_last_ratings, 3)  \\\n",
       "Category                                                          \n",
       "Bocks                          1.631206                0.531381   \n",
       "Brown Ales                     2.617021                1.263598   \n",
       "Dark Ales                      1.219858                0.451883   \n",
       "Dark Lagers                    1.269504                0.489540   \n",
       "Hybrid Beers                   0.297872                0.246862   \n",
       "India Pale Ales               10.148936               16.163180   \n",
       "Pale Ales                      9.510638                8.142259   \n",
       "Pale Lagers                    4.652482                2.200837   \n",
       "Porters                        2.163121                1.962343   \n",
       "Specialty Beer                 1.687943                1.200837   \n",
       "Stouts                         5.297872                7.606695   \n",
       "Strong Ales                    4.680851                3.702929   \n",
       "Weird Cocktail                 0.028369                0.008368   \n",
       "Wheat Beers                    2.893617                1.824268   \n",
       "Wild/Sour Beers                1.900709                4.205021   \n",
       "\n",
       "                 (mean_last_ratings, All)   (t_test, 0)   (t_test, 1)  \\\n",
       "Category                                                                \n",
       "Bocks                            0.932990  2.001985e-03  1.210879e-08   \n",
       "Brown Ales                       2.082474  3.737509e-04  1.567179e-09   \n",
       "Dark Ales                        0.837113  5.679719e-04  3.901109e-10   \n",
       "Dark Lagers                      0.790722  3.469893e-01  4.049361e-12   \n",
       "Hybrid Beers                     0.312371  4.381056e-01  1.923013e-01   \n",
       "India Pale Ales                 12.076289  2.410343e-03  2.487439e-14   \n",
       "Pale Ales                        8.402062  7.210528e-14  1.398808e-02   \n",
       "Pale Lagers                      2.882474  4.069503e-02  1.749773e-03   \n",
       "Porters                          2.210309  3.266419e-03  3.815884e-01   \n",
       "Specialty Beer                   1.525773  3.448799e-01  6.610028e-01   \n",
       "Stouts                           7.223711  2.000286e-24  4.111801e-07   \n",
       "Strong Ales                      4.818557  1.091480e-03  4.634065e-04   \n",
       "Weird Cocktail                   0.021649  1.585346e-03  7.814860e-02   \n",
       "Wheat Beers                      2.282474  4.777999e-02  4.994585e-11   \n",
       "Wild/Sour Beers                  3.601031  5.988160e-23  4.317902e-26   \n",
       "\n",
       "                  (t_test, 2)   (t_test, 3)  (t_test, All)  \n",
       "Category                                                    \n",
       "Bocks            4.189340e-01  3.781030e-01   1.040049e-08  \n",
       "Brown Ales       6.209248e-01  1.907517e-04   9.232355e-14  \n",
       "Dark Ales        2.220434e-01  2.379335e-02   5.993624e-13  \n",
       "Dark Lagers      1.775291e-21  4.246688e-01   8.970276e-25  \n",
       "Hybrid Beers     2.219053e-01  7.907089e-01   8.332273e-01  \n",
       "India Pale Ales  1.859514e-24  4.386729e-28   1.467942e-02  \n",
       "Pale Ales        7.017638e-06  3.506138e-02   1.559042e-05  \n",
       "Pale Lagers      4.205912e-33  3.107862e-01   2.939323e-18  \n",
       "Porters          3.062677e-03  8.027743e-06   2.196372e-01  \n",
       "Specialty Beer   1.843903e-01  8.681132e-01   6.030390e-01  \n",
       "Stouts           3.360124e-06  3.962554e-15   1.425922e-02  \n",
       "Strong Ales      2.355251e-02  8.847073e-02   1.184995e-04  \n",
       "Weird Cocktail   1.789359e-04  6.556682e-01   2.432629e-06  \n",
       "Wheat Beers      2.932158e-09  7.104695e-01   8.487360e-12  \n",
       "Wild/Sour Beers  3.479107e-09  5.285727e-27   4.314128e-79  \n",
       "\n",
       "[15 rows x 35 columns]"
      ]
     },
     "execution_count": 61,
     "metadata": {},
     "output_type": "execute_result"
    }
   ],
   "source": [
    "df_pivot = df_conf_inter.pivot(index='Category', columns='Cluster')\n",
    "df_pivot.columns = df_pivot.columns.to_flat_index()\n",
    "df_pivot"
   ]
  },
  {
   "cell_type": "code",
   "execution_count": 62,
   "metadata": {},
   "outputs": [
    {
     "data": {
      "text/plain": [
       "Index([     ('CI_low_first_rating', 0),      ('CI_low_first_rating', 1),\n",
       "            ('CI_low_first_rating', 2),      ('CI_low_first_rating', 3),\n",
       "        ('CI_low_first_rating', 'All'),     ('CI_high_first_rating', 0),\n",
       "           ('CI_high_first_rating', 1),     ('CI_high_first_rating', 2),\n",
       "           ('CI_high_first_rating', 3), ('CI_high_first_rating', 'All'),\n",
       "             ('mean_first_ratings', 0),       ('mean_first_ratings', 1),\n",
       "             ('mean_first_ratings', 2),       ('mean_first_ratings', 3),\n",
       "         ('mean_first_ratings', 'All'),       ('CI_low_last_rating', 0),\n",
       "             ('CI_low_last_rating', 1),       ('CI_low_last_rating', 2),\n",
       "             ('CI_low_last_rating', 3),   ('CI_low_last_rating', 'All'),\n",
       "            ('CI_high_last_rating', 0),      ('CI_high_last_rating', 1),\n",
       "            ('CI_high_last_rating', 2),      ('CI_high_last_rating', 3),\n",
       "        ('CI_high_last_rating', 'All'),        ('mean_last_ratings', 0),\n",
       "              ('mean_last_ratings', 1),        ('mean_last_ratings', 2),\n",
       "              ('mean_last_ratings', 3),    ('mean_last_ratings', 'All'),\n",
       "                         ('t_test', 0),                   ('t_test', 1),\n",
       "                         ('t_test', 2),                   ('t_test', 3),\n",
       "                     ('t_test', 'All')],\n",
       "      dtype='object')"
      ]
     },
     "execution_count": 62,
     "metadata": {},
     "output_type": "execute_result"
    }
   ],
   "source": [
    "df_pivot.columns"
   ]
  },
  {
   "cell_type": "code",
   "execution_count": 63,
   "metadata": {},
   "outputs": [],
   "source": [
    "df_means = df_pivot.iloc[:,10:15]"
   ]
  },
  {
   "cell_type": "code",
   "execution_count": null,
   "metadata": {},
   "outputs": [],
   "source": []
  },
  {
   "cell_type": "code",
   "execution_count": 64,
   "metadata": {},
   "outputs": [],
   "source": [
    "# mean_user = pd.DataFrame()\n",
    "\n",
    "# #Cluster 0\n",
    "\n",
    "# cluster_0 = user_to_cat_first[user_to_cat_first[\"first_50_cluster\"] == 0] #/!\\ the number will vary depending on the Kmeans init\n",
    "# cluster_0.drop(columns = \"first_50_cluster\", inplace = True)\n",
    "# #add the average number of beer rated during the FIRST 50 rarings of the cluster 0\n",
    "# mean_user[\"first_50_0\"] = cluster_0.mean()\n",
    "# mean_user = mean_user.reset_index(level=0) #makes the category a column rather than the index\n",
    "# #add the average number of beer rated during the LAST 50 rarings of the cluster 0\n",
    "# mean_user[\"last_50_0\"] = user_to_cat_last[user_to_cat_last.index.isin(cluster_0.index)].mean().values\n",
    "\n",
    "# #Cluster 1\n",
    "# cluster_1 = user_to_cat_first[user_to_cat_first[\"first_50_cluster\"] == 1]#/!\\ the number will vary depending on the Kmeans init\n",
    "# cluster_1.drop(columns = \"first_50_cluster\", inplace = True)\n",
    "# #add the average number of beer rated during the FIRST 50 rarings of the cluster 1\n",
    "# #print(stout_lovers.mean())\n",
    "# mean_user[\"first_50_1\"] = cluster_1.mean().values\n",
    "# #add the average number of beer rated during the LAST 50 rarings of the cluster 1\n",
    "# mean_user[\"last_50_1\"] =  user_to_cat_last[user_to_cat_last.index.isin(cluster_1.index)].mean().values\n",
    "\n",
    "# #Cluster 2\n",
    "# cluster_2 = user_to_cat_first[user_to_cat_first[\"first_50_cluster\"] == 2]#/!\\ the number will vary depending on the Kmeans init\n",
    "# cluster_2.drop(columns = \"first_50_cluster\", inplace = True)\n",
    "# #add the average number of beer rated during the FIRST 50 ratings of the cluster 2\n",
    "# mean_user[\"first_50_2\"] = cluster_2.mean().values\n",
    "# #add the average number of beer rated during the LAST 50 rarings of the cluster 2\n",
    "# mean_user[\"last_50_2\"] =  user_to_cat_last[user_to_cat_last.index.isin(cluster_2.index)].mean().values\n",
    "\n",
    "# #Cluster 3\n",
    "# cluster_3 = user_to_cat_first[user_to_cat_first[\"first_50_cluster\"] == 3]#/!\\ the number will vary depending on the Kmeans init\n",
    "# cluster_3.drop(columns = \"first_50_cluster\", inplace = True)\n",
    "# #add the average number of beer rated during the FIRST 50 ratings of the cluster 3\n",
    "# mean_user[\"first_50_3\"] = cluster_3.mean().values\n",
    "# #add the average number of beer rated during the LAST 50 rarings of the cluster 3\n",
    "# mean_user[\"last_50_3\"] =  user_to_cat_last[user_to_cat_last.index.isin(cluster_3.index)].mean().values\n",
    "# mean_user\n",
    "\n",
    "# #ALL TOGETHER\n",
    "# mean_user[\"all_first_50\"] = mean_user[[\"first_50_0\", \"first_50_1\", \"first_50_2\", \"first_50_3\"]].mean(axis=1)\n",
    "# mean_user[\"all_last_50\"] = mean_user[[\"last_50_0\", \"last_50_1\", \"last_50_2\", \"last_50_3\"]].mean(axis=1)"
   ]
  },
  {
   "cell_type": "code",
   "execution_count": 65,
   "metadata": {},
   "outputs": [],
   "source": [
    "ipa_col = (df_means.loc['India Pale Ales',:]).argmax()\n",
    "stout_col = (df_means.loc['Stouts',:]).argmax()\n",
    "pale_col = (df_means.loc['Pale Lagers',:]).argmax()\n",
    "\n",
    "possible_indices = [0,1,2,3] #column indices\n",
    "expl_col = sum(possible_indices) - (ipa_col + stout_col + pale_col)\n",
    "\n",
    "mapping = {'All' : 4, 'Jean-Michel IPA' : ipa_col, 'Marcel Stout' : stout_col, \n",
    "           'James Bland' : pale_col, 'Ada the explorer' : expl_col}\n",
    "reverse_mapping ={ values:key for key, values in mapping.items()}\n",
    "\n",
    "\n"
   ]
  },
  {
   "cell_type": "code",
   "execution_count": 66,
   "metadata": {},
   "outputs": [
    {
     "data": {
      "text/plain": [
       "{4: 'All',\n",
       " 3: 'Jean-Michel IPA',\n",
       " 0: 'Marcel Stout',\n",
       " 2: 'James Bland',\n",
       " 1: 'Ada the explorer'}"
      ]
     },
     "execution_count": 66,
     "metadata": {},
     "output_type": "execute_result"
    }
   ],
   "source": [
    "reverse_mapping"
   ]
  },
  {
   "cell_type": "code",
   "execution_count": 67,
   "metadata": {},
   "outputs": [
    {
     "data": {
      "text/plain": [
       "{'All': 4,\n",
       " 'Jean-Michel IPA': 3,\n",
       " 'Marcel Stout': 0,\n",
       " 'James Bland': 2,\n",
       " 'Ada the explorer': 1}"
      ]
     },
     "execution_count": 67,
     "metadata": {},
     "output_type": "execute_result"
    }
   ],
   "source": [
    "mapping"
   ]
  },
  {
   "cell_type": "code",
   "execution_count": 68,
   "metadata": {},
   "outputs": [
    {
     "data": {
      "application/vnd.plotly.v1+json": {
       "config": {
        "plotlyServerURL": "https://plot.ly"
       },
       "data": [
        {
         "line": {
          "color": "rgb(239,85,59)"
         },
         "mode": "lines",
         "name": "last 50 beers",
         "showlegend": true,
         "type": "scatter",
         "visible": true,
         "x": [
          "Bocks",
          "Brown Ales",
          "Dark Ales",
          "Dark Lagers",
          "Hybrid Beers",
          "India Pale Ales",
          "Pale Ales",
          "Pale Lagers",
          "Porters",
          "Specialty Beer",
          "Stouts",
          "Strong Ales",
          "Weird Cocktail",
          "Wheat Beers",
          "Wild/Sour Beers"
         ],
         "y": [
          0.9329896907216495,
          2.082474226804124,
          0.8371134020618557,
          0.790721649484536,
          0.31237113402061856,
          12.076288659793814,
          8.402061855670103,
          2.8824742268041237,
          2.2103092783505156,
          1.5257731958762886,
          7.223711340206186,
          4.818556701030928,
          0.021649484536082474,
          2.2824742268041236,
          3.6010309278350516
         ]
        },
        {
         "fillcolor": "rgba(239,85,59,0.3)",
         "line": {
          "width": 0
         },
         "mode": "lines",
         "name": "first, CI Low",
         "showlegend": false,
         "type": "scatter",
         "visible": true,
         "x": [
          "Bocks",
          "Brown Ales",
          "Dark Ales",
          "Dark Lagers",
          "Hybrid Beers",
          "India Pale Ales",
          "Pale Ales",
          "Pale Lagers",
          "Porters",
          "Specialty Beer",
          "Stouts",
          "Strong Ales",
          "Weird Cocktail",
          "Wheat Beers",
          "Wild/Sour Beers"
         ],
         "y": [
          0.8544250339387496,
          1.97319587628866,
          0.7649484536082474,
          0.722680412371134,
          0.277319587628866,
          11.64020618556701,
          8.165979381443298,
          2.703092783505155,
          2.1041237113402063,
          1.4175257731958764,
          6.925773195876289,
          4.617912311494999,
          0.013253492001168177,
          2.1577319587628865,
          3.341237113402062
         ]
        },
        {
         "fill": "tonexty",
         "fillcolor": "rgba(239,85,59,0.3)",
         "line": {
          "width": 0
         },
         "mode": "lines",
         "name": "first, CI high",
         "showlegend": false,
         "type": "scatter",
         "visible": true,
         "x": [
          "Bocks",
          "Brown Ales",
          "Dark Ales",
          "Dark Lagers",
          "Hybrid Beers",
          "India Pale Ales",
          "Pale Ales",
          "Pale Lagers",
          "Porters",
          "Specialty Beer",
          "Stouts",
          "Strong Ales",
          "Weird Cocktail",
          "Wheat Beers",
          "Wild/Sour Beers"
         ],
         "y": [
          1.0206185567010309,
          2.191752577319588,
          0.9144329896907216,
          0.8608247422680413,
          0.34845360824742266,
          12.525773195876289,
          8.642268041237113,
          3.0793814432989692,
          2.318556701030928,
          1.6443298969072164,
          7.531958762886598,
          5.027835051546392,
          0.031958762886597936,
          2.4103092783505153,
          3.8804123711340206
         ]
        },
        {
         "line": {
          "color": "rgb(0,204,150)"
         },
         "mode": "lines",
         "name": "first 50 beers",
         "showlegend": true,
         "type": "scatter",
         "visible": true,
         "x": [
          "Bocks",
          "Brown Ales",
          "Dark Ales",
          "Dark Lagers",
          "Hybrid Beers",
          "India Pale Ales",
          "Pale Ales",
          "Pale Lagers",
          "Porters",
          "Specialty Beer",
          "Stouts",
          "Strong Ales",
          "Weird Cocktail",
          "Wheat Beers",
          "Wild/Sour Beers"
         ],
         "y": [
          1.2474226804123711,
          2.6618556701030927,
          1.2247422680412372,
          1.3711340206185567,
          0.30721649484536084,
          11.427835051546392,
          7.752577319587629,
          4.309278350515464,
          2.118556701030928,
          1.48659793814433,
          6.77319587628866,
          5.315463917525773,
          0.06701030927835051,
          2.936082474226804,
          1.0010309278350515
         ]
        },
        {
         "fillcolor": "rgba(0,204,150,0.3)",
         "line": {
          "width": 0
         },
         "mode": "lines",
         "name": "first, CI Low",
         "showlegend": false,
         "type": "scatter",
         "visible": true,
         "x": [
          "Bocks",
          "Brown Ales",
          "Dark Ales",
          "Dark Lagers",
          "Hybrid Beers",
          "India Pale Ales",
          "Pale Ales",
          "Pale Lagers",
          "Porters",
          "Specialty Beer",
          "Stouts",
          "Strong Ales",
          "Weird Cocktail",
          "Wheat Beers",
          "Wild/Sour Beers"
         ],
         "y": [
          1.1608247422680413,
          2.534235070613779,
          1.136082474226804,
          1.2752577319587628,
          0.2711340206185567,
          10.934020618556701,
          7.524742268041237,
          4.01340206185567,
          2.0051546391752577,
          1.3783505154639175,
          6.4402061855670105,
          5.111340206185567,
          0.05154639175257732,
          2.7742268041237113,
          0.8804123711340206
         ]
        },
        {
         "fill": "tonexty",
         "fillcolor": "rgba(0,204,150,0.3)",
         "line": {
          "width": 0
         },
         "mode": "lines",
         "name": "first, CI High",
         "showlegend": false,
         "type": "scatter",
         "visible": true,
         "x": [
          "Bocks",
          "Brown Ales",
          "Dark Ales",
          "Dark Lagers",
          "Hybrid Beers",
          "India Pale Ales",
          "Pale Ales",
          "Pale Lagers",
          "Porters",
          "Specialty Beer",
          "Stouts",
          "Strong Ales",
          "Weird Cocktail",
          "Wheat Beers",
          "Wild/Sour Beers"
         ],
         "y": [
          1.3402061855670102,
          2.7865979381443298,
          1.3144329896907216,
          1.4793814432989691,
          0.34329896907216495,
          11.958762886597938,
          7.995952723914099,
          4.651546391752578,
          2.239175257731959,
          1.6082474226804124,
          7.129896907216495,
          5.534020618556701,
          0.08453608247422681,
          3.109278350515464,
          1.1391752577319587
         ]
        },
        {
         "line": {
          "color": "rgb(239,85,59)"
         },
         "mode": "lines",
         "name": "last 50 beers",
         "showlegend": true,
         "type": "scatter",
         "visible": false,
         "x": [
          "Bocks",
          "Brown Ales",
          "Dark Ales",
          "Dark Lagers",
          "Hybrid Beers",
          "India Pale Ales",
          "Pale Ales",
          "Pale Lagers",
          "Porters",
          "Specialty Beer",
          "Stouts",
          "Strong Ales",
          "Weird Cocktail",
          "Wheat Beers",
          "Wild/Sour Beers"
         ],
         "y": [
          0.5313807531380753,
          1.2635983263598327,
          0.45188284518828453,
          0.4895397489539749,
          0.24686192468619247,
          16.16317991631799,
          8.142259414225942,
          2.200836820083682,
          1.9623430962343096,
          1.200836820083682,
          7.606694560669456,
          3.702928870292887,
          0.008368200836820083,
          1.8242677824267783,
          4.205020920502092
         ]
        },
        {
         "fillcolor": "rgba(239,85,59,0.3)",
         "line": {
          "width": 0
         },
         "mode": "lines",
         "name": "first, CI Low",
         "showlegend": false,
         "type": "scatter",
         "visible": false,
         "x": [
          "Bocks",
          "Brown Ales",
          "Dark Ales",
          "Dark Lagers",
          "Hybrid Beers",
          "India Pale Ales",
          "Pale Ales",
          "Pale Lagers",
          "Porters",
          "Specialty Beer",
          "Stouts",
          "Strong Ales",
          "Weird Cocktail",
          "Wheat Beers",
          "Wild/Sour Beers"
         ],
         "y": [
          0.41841004184100417,
          1.100418410041841,
          0.3519598460857964,
          0.39330543933054396,
          0.18410041841004185,
          15.242677824267782,
          7.669456066945607,
          1.9121338912133892,
          1.7573221757322175,
          1.0376569037656904,
          6.96234309623431,
          3.3682008368200838,
          0,
          1.6192468619246863,
          3.719665271966527
         ]
        },
        {
         "fill": "tonexty",
         "fillcolor": "rgba(239,85,59,0.3)",
         "line": {
          "width": 0
         },
         "mode": "lines",
         "name": "first, CI high",
         "showlegend": false,
         "type": "scatter",
         "visible": false,
         "x": [
          "Bocks",
          "Brown Ales",
          "Dark Ales",
          "Dark Lagers",
          "Hybrid Beers",
          "India Pale Ales",
          "Pale Ales",
          "Pale Lagers",
          "Porters",
          "Specialty Beer",
          "Stouts",
          "Strong Ales",
          "Weird Cocktail",
          "Wheat Beers",
          "Wild/Sour Beers"
         ],
         "y": [
          0.6652719665271967,
          1.4309623430962344,
          0.5648535564853556,
          0.5899581589958159,
          0.30962343096234307,
          17.10878661087866,
          8.627615062761507,
          2.5397489539748954,
          2.1786553892986324,
          1.393305439330544,
          8.334728033472803,
          4.062761506276151,
          0.02092050209205021,
          2.062761506276151,
          4.7740585774058575
         ]
        },
        {
         "line": {
          "color": "rgb(0,204,150)"
         },
         "mode": "lines",
         "name": "first 50 beers",
         "showlegend": true,
         "type": "scatter",
         "visible": false,
         "x": [
          "Bocks",
          "Brown Ales",
          "Dark Ales",
          "Dark Lagers",
          "Hybrid Beers",
          "India Pale Ales",
          "Pale Ales",
          "Pale Lagers",
          "Porters",
          "Specialty Beer",
          "Stouts",
          "Strong Ales",
          "Weird Cocktail",
          "Wheat Beers",
          "Wild/Sour Beers"
         ],
         "y": [
          0.5983263598326359,
          1.7322175732217573,
          0.6150627615062761,
          0.5481171548117155,
          0.23430962343096234,
          22.832635983263597,
          7.468619246861925,
          2.01255230125523,
          1.3514644351464435,
          1.2217573221757323,
          4.556485355648536,
          4.075313807531381,
          0.012552301255230125,
          1.8786610878661087,
          0.8619246861924686
         ]
        },
        {
         "fillcolor": "rgba(0,204,150,0.3)",
         "line": {
          "width": 0
         },
         "mode": "lines",
         "name": "first, CI Low",
         "showlegend": false,
         "type": "scatter",
         "visible": false,
         "x": [
          "Bocks",
          "Brown Ales",
          "Dark Ales",
          "Dark Lagers",
          "Hybrid Beers",
          "India Pale Ales",
          "Pale Ales",
          "Pale Lagers",
          "Porters",
          "Specialty Beer",
          "Stouts",
          "Strong Ales",
          "Weird Cocktail",
          "Wheat Beers",
          "Wild/Sour Beers"
         ],
         "y": [
          0.49372384937238495,
          1.5481171548117154,
          0.5104602510460251,
          0.4435146443514644,
          0.17154811715481172,
          22.175732217573223,
          7.046025104602511,
          1.758646063693776,
          1.1924686192468619,
          1.0460251046025104,
          4.146443514644352,
          3.7573221757322175,
          0,
          1.6694560669456067,
          0.6820083682008368
         ]
        },
        {
         "fill": "tonexty",
         "fillcolor": "rgba(0,204,150,0.3)",
         "line": {
          "width": 0
         },
         "mode": "lines",
         "name": "first, CI High",
         "showlegend": false,
         "type": "scatter",
         "visible": false,
         "x": [
          "Bocks",
          "Brown Ales",
          "Dark Ales",
          "Dark Lagers",
          "Hybrid Beers",
          "India Pale Ales",
          "Pale Ales",
          "Pale Lagers",
          "Porters",
          "Specialty Beer",
          "Stouts",
          "Strong Ales",
          "Weird Cocktail",
          "Wheat Beers",
          "Wild/Sour Beers"
         ],
         "y": [
          0.7154811715481172,
          1.9288702928870294,
          0.7405857740585774,
          0.6736401673640168,
          0.3054393305439331,
          23.548117154811717,
          7.920502092050209,
          2.292887029288703,
          1.5146443514644352,
          1.4351464435146444,
          4.98744769874477,
          4.405857740585774,
          0.029288702928870293,
          2.1129707112970713,
          1.1548117154811715
         ]
        },
        {
         "line": {
          "color": "rgb(239,85,59)"
         },
         "mode": "lines",
         "name": "last 50 beers",
         "showlegend": true,
         "type": "scatter",
         "visible": false,
         "x": [
          "Bocks",
          "Brown Ales",
          "Dark Ales",
          "Dark Lagers",
          "Hybrid Beers",
          "India Pale Ales",
          "Pale Ales",
          "Pale Lagers",
          "Porters",
          "Specialty Beer",
          "Stouts",
          "Strong Ales",
          "Weird Cocktail",
          "Wheat Beers",
          "Wild/Sour Beers"
         ],
         "y": [
          0.5510204081632653,
          1.8775510204081634,
          0.6020408163265306,
          0.5459183673469388,
          0.24489795918367346,
          11.474489795918368,
          7.040816326530612,
          1.6377551020408163,
          2.576530612244898,
          1.4846938775510203,
          10.188775510204081,
          5.091836734693878,
          0.00510204081632653,
          1.8775510204081634,
          4.801020408163265
         ]
        },
        {
         "fillcolor": "rgba(239,85,59,0.3)",
         "line": {
          "width": 0
         },
         "mode": "lines",
         "name": "first, CI Low",
         "showlegend": false,
         "type": "scatter",
         "visible": false,
         "x": [
          "Bocks",
          "Brown Ales",
          "Dark Ales",
          "Dark Lagers",
          "Hybrid Beers",
          "India Pale Ales",
          "Pale Ales",
          "Pale Lagers",
          "Porters",
          "Specialty Beer",
          "Stouts",
          "Strong Ales",
          "Weird Cocktail",
          "Wheat Beers",
          "Wild/Sour Beers"
         ],
         "y": [
          0.4387755102040816,
          1.6479591836734695,
          0.4846938775510204,
          0.42346938775510207,
          0.17857142857142858,
          10.668367346938776,
          6.591836734693878,
          1.3673469387755102,
          2.326530612244898,
          1.260204081632653,
          9.474489795918368,
          4.607142857142857,
          0,
          1.6428571428571428,
          4.183673469387755
         ]
        },
        {
         "fill": "tonexty",
         "fillcolor": "rgba(239,85,59,0.3)",
         "line": {
          "width": 0
         },
         "mode": "lines",
         "name": "first, CI high",
         "showlegend": false,
         "type": "scatter",
         "visible": false,
         "x": [
          "Bocks",
          "Brown Ales",
          "Dark Ales",
          "Dark Lagers",
          "Hybrid Beers",
          "India Pale Ales",
          "Pale Ales",
          "Pale Lagers",
          "Porters",
          "Specialty Beer",
          "Stouts",
          "Strong Ales",
          "Weird Cocktail",
          "Wheat Beers",
          "Wild/Sour Beers"
         ],
         "y": [
          0.6785714285714286,
          2.127551020408163,
          0.7397959183673469,
          0.6874442687029173,
          0.3163265306122449,
          12.35204081632653,
          7.51530612244898,
          1.969387755102041,
          2.8418367346938775,
          1.75,
          10.974489795918368,
          5.591836734693878,
          0.015306122448979591,
          2.1122448979591835,
          5.494897959183674
         ]
        },
        {
         "line": {
          "color": "rgb(0,204,150)"
         },
         "mode": "lines",
         "name": "first 50 beers",
         "showlegend": true,
         "type": "scatter",
         "visible": false,
         "x": [
          "Bocks",
          "Brown Ales",
          "Dark Ales",
          "Dark Lagers",
          "Hybrid Beers",
          "India Pale Ales",
          "Pale Ales",
          "Pale Lagers",
          "Porters",
          "Specialty Beer",
          "Stouts",
          "Strong Ales",
          "Weird Cocktail",
          "Wheat Beers",
          "Wild/Sour Beers"
         ],
         "y": [
          0.8163265306122449,
          2.5051020408163267,
          0.9591836734693877,
          0.6326530612244898,
          0.28061224489795916,
          9.872448979591837,
          4.75,
          1.2959183673469388,
          3.0969387755102042,
          1.3418367346938775,
          15.14795918367347,
          6.168367346938775,
          0.07653061224489796,
          1.5510204081632653,
          1.5051020408163265
         ]
        },
        {
         "fillcolor": "rgba(0,204,150,0.3)",
         "line": {
          "width": 0
         },
         "mode": "lines",
         "name": "first, CI Low",
         "showlegend": false,
         "type": "scatter",
         "visible": false,
         "x": [
          "Bocks",
          "Brown Ales",
          "Dark Ales",
          "Dark Lagers",
          "Hybrid Beers",
          "India Pale Ales",
          "Pale Ales",
          "Pale Lagers",
          "Porters",
          "Specialty Beer",
          "Stouts",
          "Strong Ales",
          "Weird Cocktail",
          "Wheat Beers",
          "Wild/Sour Beers"
         ],
         "y": [
          0.673469387755102,
          2.2244897959183674,
          0.7959183673469388,
          0.5,
          0.20918367346938777,
          9.107142857142858,
          4.397427630246266,
          1.1071428571428572,
          2.7908163265306123,
          1.1377551020408163,
          14.5,
          5.678571428571429,
          0.04081632653061224,
          1.3316326530612246,
          1.1650205029904661
         ]
        },
        {
         "fill": "tonexty",
         "fillcolor": "rgba(0,204,150,0.3)",
         "line": {
          "width": 0
         },
         "mode": "lines",
         "name": "first, CI High",
         "showlegend": false,
         "type": "scatter",
         "visible": false,
         "x": [
          "Bocks",
          "Brown Ales",
          "Dark Ales",
          "Dark Lagers",
          "Hybrid Beers",
          "India Pale Ales",
          "Pale Ales",
          "Pale Lagers",
          "Porters",
          "Specialty Beer",
          "Stouts",
          "Strong Ales",
          "Weird Cocktail",
          "Wheat Beers",
          "Wild/Sour Beers"
         ],
         "y": [
          0.9744897959183674,
          2.795918367346939,
          1.1428571428571428,
          0.7857142857142857,
          0.35714285714285715,
          10.653061224489797,
          5.107142857142857,
          1.5,
          3.4276898954963326,
          1.5918367346938775,
          15.91326530612245,
          6.744897959183674,
          0.12244897959183673,
          1.8418367346938775,
          1.9183673469387754
         ]
        },
        {
         "line": {
          "color": "rgb(239,85,59)"
         },
         "mode": "lines",
         "name": "last 50 beers",
         "showlegend": true,
         "type": "scatter",
         "visible": false,
         "x": [
          "Bocks",
          "Brown Ales",
          "Dark Ales",
          "Dark Lagers",
          "Hybrid Beers",
          "India Pale Ales",
          "Pale Ales",
          "Pale Lagers",
          "Porters",
          "Specialty Beer",
          "Stouts",
          "Strong Ales",
          "Weird Cocktail",
          "Wheat Beers",
          "Wild/Sour Beers"
         ],
         "y": [
          1.6312056737588652,
          2.617021276595745,
          1.2198581560283688,
          1.2695035460992907,
          0.2978723404255319,
          10.148936170212766,
          9.51063829787234,
          4.652482269503546,
          2.1631205673758864,
          1.6879432624113475,
          5.297872340425532,
          4.680851063829787,
          0.028368794326241134,
          2.893617021276596,
          1.900709219858156
         ]
        },
        {
         "fillcolor": "rgba(239,85,59,0.3)",
         "line": {
          "width": 0
         },
         "mode": "lines",
         "name": "first, CI Low",
         "showlegend": false,
         "type": "scatter",
         "visible": false,
         "x": [
          "Bocks",
          "Brown Ales",
          "Dark Ales",
          "Dark Lagers",
          "Hybrid Beers",
          "India Pale Ales",
          "Pale Ales",
          "Pale Lagers",
          "Porters",
          "Specialty Beer",
          "Stouts",
          "Strong Ales",
          "Weird Cocktail",
          "Wheat Beers",
          "Wild/Sour Beers"
         ],
         "y": [
          1.3392134264114688,
          2.3404255319148937,
          1,
          1.0638297872340425,
          0.2127659574468085,
          9.092198581560284,
          8.950354609929079,
          4.070921985815603,
          1.8794326241134751,
          1.3829787234042554,
          4.74468085106383,
          4.170212765957447,
          0.0070921985815602835,
          2.524822695035461,
          1.4893617021276595
         ]
        },
        {
         "fill": "tonexty",
         "fillcolor": "rgba(239,85,59,0.3)",
         "line": {
          "width": 0
         },
         "mode": "lines",
         "name": "first, CI high",
         "showlegend": false,
         "type": "scatter",
         "visible": false,
         "x": [
          "Bocks",
          "Brown Ales",
          "Dark Ales",
          "Dark Lagers",
          "Hybrid Beers",
          "India Pale Ales",
          "Pale Ales",
          "Pale Lagers",
          "Porters",
          "Specialty Beer",
          "Stouts",
          "Strong Ales",
          "Weird Cocktail",
          "Wheat Beers",
          "Wild/Sour Beers"
         ],
         "y": [
          2,
          2.9290780141843973,
          1.475177304964539,
          1.50354609929078,
          0.3971631205673759,
          11.326241134751774,
          10.163120567375886,
          5.290780141843972,
          2.4680851063829787,
          2.120567375886525,
          5.9787234042553195,
          5.219858156028369,
          0.05673758865248227,
          3.2907801418439715,
          2.49645390070922
         ]
        },
        {
         "line": {
          "color": "rgb(0,204,150)"
         },
         "mode": "lines",
         "name": "first 50 beers",
         "showlegend": true,
         "type": "scatter",
         "visible": false,
         "x": [
          "Bocks",
          "Brown Ales",
          "Dark Ales",
          "Dark Lagers",
          "Hybrid Beers",
          "India Pale Ales",
          "Pale Ales",
          "Pale Lagers",
          "Porters",
          "Specialty Beer",
          "Stouts",
          "Strong Ales",
          "Weird Cocktail",
          "Wheat Beers",
          "Wild/Sour Beers"
         ],
         "y": [
          1.7943262411347518,
          2.723404255319149,
          1.425531914893617,
          3.347517730496454,
          0.3829787234042553,
          3.297872340425532,
          7.780141843971631,
          13.624113475177305,
          1.5602836879432624,
          1.4184397163120568,
          3.5106382978723403,
          3.950354609929078,
          0.15602836879432624,
          4.74468085106383,
          0.28368794326241137
         ]
        },
        {
         "fillcolor": "rgba(0,204,150,0.3)",
         "line": {
          "width": 0
         },
         "mode": "lines",
         "name": "first, CI Low",
         "showlegend": false,
         "type": "scatter",
         "visible": false,
         "x": [
          "Bocks",
          "Brown Ales",
          "Dark Ales",
          "Dark Lagers",
          "Hybrid Beers",
          "India Pale Ales",
          "Pale Ales",
          "Pale Lagers",
          "Porters",
          "Specialty Beer",
          "Stouts",
          "Strong Ales",
          "Weird Cocktail",
          "Wheat Beers",
          "Wild/Sour Beers"
         ],
         "y": [
          1.5319148936170213,
          2.397163120567376,
          1.1914893617021276,
          3.0354609929078014,
          0.2765957446808511,
          2.8368794326241136,
          7.205673758865248,
          12.74468085106383,
          1.3120567375886525,
          1.1631205673758864,
          3.0851063829787235,
          3.5673758865248226,
          0.09929078014184398,
          4.283687943262412,
          0.19148936170212766
         ]
        },
        {
         "fill": "tonexty",
         "fillcolor": "rgba(0,204,150,0.3)",
         "line": {
          "width": 0
         },
         "mode": "lines",
         "name": "first, CI High",
         "showlegend": false,
         "type": "scatter",
         "visible": false,
         "x": [
          "Bocks",
          "Brown Ales",
          "Dark Ales",
          "Dark Lagers",
          "Hybrid Beers",
          "India Pale Ales",
          "Pale Ales",
          "Pale Lagers",
          "Porters",
          "Specialty Beer",
          "Stouts",
          "Strong Ales",
          "Weird Cocktail",
          "Wheat Beers",
          "Wild/Sour Beers"
         ],
         "y": [
          2.078014184397163,
          3.049645390070922,
          1.6808510638297873,
          3.673758865248227,
          0.49645390070921985,
          3.801418439716312,
          8.361702127659575,
          14.602836879432624,
          1.8297872340425532,
          1.7163120567375887,
          3.978723404255319,
          4.361702127659575,
          0.2198581560283688,
          5.23404255319149,
          0.3971631205673759
         ]
        },
        {
         "line": {
          "color": "rgb(239,85,59)"
         },
         "mode": "lines",
         "name": "last 50 beers",
         "showlegend": true,
         "type": "scatter",
         "visible": false,
         "x": [
          "Bocks",
          "Brown Ales",
          "Dark Ales",
          "Dark Lagers",
          "Hybrid Beers",
          "India Pale Ales",
          "Pale Ales",
          "Pale Lagers",
          "Porters",
          "Specialty Beer",
          "Stouts",
          "Strong Ales",
          "Weird Cocktail",
          "Wheat Beers",
          "Wild/Sour Beers"
         ],
         "y": [
          1.116751269035533,
          2.489847715736041,
          1.0507614213197969,
          0.9238578680203046,
          0.39086294416243655,
          10.586294416243655,
          8.84010152284264,
          3.281725888324873,
          2.1954314720812182,
          1.6852791878172588,
          6.2055837563451774,
          5.408629441624366,
          0.03553299492385787,
          2.5431472081218276,
          3.246192893401015
         ]
        },
        {
         "fillcolor": "rgba(239,85,59,0.3)",
         "line": {
          "width": 0
         },
         "mode": "lines",
         "name": "first, CI Low",
         "showlegend": false,
         "type": "scatter",
         "visible": false,
         "x": [
          "Bocks",
          "Brown Ales",
          "Dark Ales",
          "Dark Lagers",
          "Hybrid Beers",
          "India Pale Ales",
          "Pale Ales",
          "Pale Lagers",
          "Porters",
          "Specialty Beer",
          "Stouts",
          "Strong Ales",
          "Weird Cocktail",
          "Wheat Beers",
          "Wild/Sour Beers"
         ],
         "y": [
          0.9971255343755205,
          2.317258883248731,
          0.9263959390862944,
          0.8144847381851802,
          0.3299492385786802,
          10.014023392315359,
          8.457960095167316,
          2.99746192893401,
          2.0380710659898478,
          1.515228426395939,
          5.8274111675126905,
          5.096446700507614,
          0.017766497461928935,
          2.3477157360406093,
          2.8781725888324874
         ]
        },
        {
         "fill": "tonexty",
         "fillcolor": "rgba(239,85,59,0.3)",
         "line": {
          "width": 0
         },
         "mode": "lines",
         "name": "first, CI high",
         "showlegend": false,
         "type": "scatter",
         "visible": false,
         "x": [
          "Bocks",
          "Brown Ales",
          "Dark Ales",
          "Dark Lagers",
          "Hybrid Beers",
          "India Pale Ales",
          "Pale Ales",
          "Pale Lagers",
          "Porters",
          "Specialty Beer",
          "Stouts",
          "Strong Ales",
          "Weird Cocktail",
          "Wheat Beers",
          "Wild/Sour Beers"
         ],
         "y": [
          1.248730964467005,
          2.6624365482233503,
          1.1878172588832487,
          1.0380710659898478,
          0.4543147208121827,
          11.200507614213198,
          9.243654822335026,
          3.6015228426395938,
          2.3654822335025383,
          1.8781725888324874,
          6.596446700507614,
          5.7360406091370555,
          0.0532994923857868,
          2.755662937422929,
          3.6700507614213196
         ]
        },
        {
         "line": {
          "color": "rgb(0,204,150)"
         },
         "mode": "lines",
         "name": "first 50 beers",
         "showlegend": true,
         "type": "scatter",
         "visible": false,
         "x": [
          "Bocks",
          "Brown Ales",
          "Dark Ales",
          "Dark Lagers",
          "Hybrid Beers",
          "India Pale Ales",
          "Pale Ales",
          "Pale Lagers",
          "Porters",
          "Specialty Beer",
          "Stouts",
          "Strong Ales",
          "Weird Cocktail",
          "Wheat Beers",
          "Wild/Sour Beers"
         ],
         "y": [
          1.6598984771573604,
          3.281725888324873,
          1.6548223350253808,
          1.5304568527918783,
          0.33756345177664976,
          8.192893401015228,
          9.408629441624365,
          3.8680203045685277,
          2.296954314720812,
          1.7436548223350254,
          5.119289340101523,
          6.131979695431472,
          0.06345177664974619,
          3.6192893401015227,
          1.0913705583756346
         ]
        },
        {
         "fillcolor": "rgba(0,204,150,0.3)",
         "line": {
          "width": 0
         },
         "mode": "lines",
         "name": "first, CI Low",
         "showlegend": false,
         "type": "scatter",
         "visible": false,
         "x": [
          "Bocks",
          "Brown Ales",
          "Dark Ales",
          "Dark Lagers",
          "Hybrid Beers",
          "India Pale Ales",
          "Pale Ales",
          "Pale Lagers",
          "Porters",
          "Specialty Beer",
          "Stouts",
          "Strong Ales",
          "Weird Cocktail",
          "Wheat Beers",
          "Wild/Sour Beers"
         ],
         "y": [
          1.515228426395939,
          3.0862944162436547,
          1.5050761421319796,
          1.3934010152284264,
          0.2817258883248731,
          7.7875605540801836,
          9.065989847715736,
          3.616751269035533,
          2.1218274111675126,
          1.5507614213197969,
          4.865482233502538,
          5.7944162436548226,
          0.04060913705583756,
          3.3705583756345177,
          0.9060913705583756
         ]
        },
        {
         "fill": "tonexty",
         "fillcolor": "rgba(0,204,150,0.3)",
         "line": {
          "width": 0
         },
         "mode": "lines",
         "name": "first, CI High",
         "showlegend": false,
         "type": "scatter",
         "visible": false,
         "x": [
          "Bocks",
          "Brown Ales",
          "Dark Ales",
          "Dark Lagers",
          "Hybrid Beers",
          "India Pale Ales",
          "Pale Ales",
          "Pale Lagers",
          "Porters",
          "Specialty Beer",
          "Stouts",
          "Strong Ales",
          "Weird Cocktail",
          "Wheat Beers",
          "Wild/Sour Beers"
         ],
         "y": [
          1.8163287963258792,
          3.4939662196856522,
          1.8121827411167513,
          1.6751269035532994,
          0.39593908629441626,
          8.601522842639595,
          9.756345177664974,
          4.126903553299492,
          2.484771573604061,
          1.9720812182741116,
          5.375634517766497,
          6.482233502538071,
          0.08883248730964467,
          3.901015228426396,
          1.3375634517766497
         ]
        }
       ],
       "layout": {
        "height": 600,
        "template": {
         "data": {
          "bar": [
           {
            "error_x": {
             "color": "#2a3f5f"
            },
            "error_y": {
             "color": "#2a3f5f"
            },
            "marker": {
             "line": {
              "color": "#E5ECF6",
              "width": 0.5
             },
             "pattern": {
              "fillmode": "overlay",
              "size": 10,
              "solidity": 0.2
             }
            },
            "type": "bar"
           }
          ],
          "barpolar": [
           {
            "marker": {
             "line": {
              "color": "#E5ECF6",
              "width": 0.5
             },
             "pattern": {
              "fillmode": "overlay",
              "size": 10,
              "solidity": 0.2
             }
            },
            "type": "barpolar"
           }
          ],
          "carpet": [
           {
            "aaxis": {
             "endlinecolor": "#2a3f5f",
             "gridcolor": "white",
             "linecolor": "white",
             "minorgridcolor": "white",
             "startlinecolor": "#2a3f5f"
            },
            "baxis": {
             "endlinecolor": "#2a3f5f",
             "gridcolor": "white",
             "linecolor": "white",
             "minorgridcolor": "white",
             "startlinecolor": "#2a3f5f"
            },
            "type": "carpet"
           }
          ],
          "choropleth": [
           {
            "colorbar": {
             "outlinewidth": 0,
             "ticks": ""
            },
            "type": "choropleth"
           }
          ],
          "contour": [
           {
            "colorbar": {
             "outlinewidth": 0,
             "ticks": ""
            },
            "colorscale": [
             [
              0,
              "#0d0887"
             ],
             [
              0.1111111111111111,
              "#46039f"
             ],
             [
              0.2222222222222222,
              "#7201a8"
             ],
             [
              0.3333333333333333,
              "#9c179e"
             ],
             [
              0.4444444444444444,
              "#bd3786"
             ],
             [
              0.5555555555555556,
              "#d8576b"
             ],
             [
              0.6666666666666666,
              "#ed7953"
             ],
             [
              0.7777777777777778,
              "#fb9f3a"
             ],
             [
              0.8888888888888888,
              "#fdca26"
             ],
             [
              1,
              "#f0f921"
             ]
            ],
            "type": "contour"
           }
          ],
          "contourcarpet": [
           {
            "colorbar": {
             "outlinewidth": 0,
             "ticks": ""
            },
            "type": "contourcarpet"
           }
          ],
          "heatmap": [
           {
            "colorbar": {
             "outlinewidth": 0,
             "ticks": ""
            },
            "colorscale": [
             [
              0,
              "#0d0887"
             ],
             [
              0.1111111111111111,
              "#46039f"
             ],
             [
              0.2222222222222222,
              "#7201a8"
             ],
             [
              0.3333333333333333,
              "#9c179e"
             ],
             [
              0.4444444444444444,
              "#bd3786"
             ],
             [
              0.5555555555555556,
              "#d8576b"
             ],
             [
              0.6666666666666666,
              "#ed7953"
             ],
             [
              0.7777777777777778,
              "#fb9f3a"
             ],
             [
              0.8888888888888888,
              "#fdca26"
             ],
             [
              1,
              "#f0f921"
             ]
            ],
            "type": "heatmap"
           }
          ],
          "heatmapgl": [
           {
            "colorbar": {
             "outlinewidth": 0,
             "ticks": ""
            },
            "colorscale": [
             [
              0,
              "#0d0887"
             ],
             [
              0.1111111111111111,
              "#46039f"
             ],
             [
              0.2222222222222222,
              "#7201a8"
             ],
             [
              0.3333333333333333,
              "#9c179e"
             ],
             [
              0.4444444444444444,
              "#bd3786"
             ],
             [
              0.5555555555555556,
              "#d8576b"
             ],
             [
              0.6666666666666666,
              "#ed7953"
             ],
             [
              0.7777777777777778,
              "#fb9f3a"
             ],
             [
              0.8888888888888888,
              "#fdca26"
             ],
             [
              1,
              "#f0f921"
             ]
            ],
            "type": "heatmapgl"
           }
          ],
          "histogram": [
           {
            "marker": {
             "pattern": {
              "fillmode": "overlay",
              "size": 10,
              "solidity": 0.2
             }
            },
            "type": "histogram"
           }
          ],
          "histogram2d": [
           {
            "colorbar": {
             "outlinewidth": 0,
             "ticks": ""
            },
            "colorscale": [
             [
              0,
              "#0d0887"
             ],
             [
              0.1111111111111111,
              "#46039f"
             ],
             [
              0.2222222222222222,
              "#7201a8"
             ],
             [
              0.3333333333333333,
              "#9c179e"
             ],
             [
              0.4444444444444444,
              "#bd3786"
             ],
             [
              0.5555555555555556,
              "#d8576b"
             ],
             [
              0.6666666666666666,
              "#ed7953"
             ],
             [
              0.7777777777777778,
              "#fb9f3a"
             ],
             [
              0.8888888888888888,
              "#fdca26"
             ],
             [
              1,
              "#f0f921"
             ]
            ],
            "type": "histogram2d"
           }
          ],
          "histogram2dcontour": [
           {
            "colorbar": {
             "outlinewidth": 0,
             "ticks": ""
            },
            "colorscale": [
             [
              0,
              "#0d0887"
             ],
             [
              0.1111111111111111,
              "#46039f"
             ],
             [
              0.2222222222222222,
              "#7201a8"
             ],
             [
              0.3333333333333333,
              "#9c179e"
             ],
             [
              0.4444444444444444,
              "#bd3786"
             ],
             [
              0.5555555555555556,
              "#d8576b"
             ],
             [
              0.6666666666666666,
              "#ed7953"
             ],
             [
              0.7777777777777778,
              "#fb9f3a"
             ],
             [
              0.8888888888888888,
              "#fdca26"
             ],
             [
              1,
              "#f0f921"
             ]
            ],
            "type": "histogram2dcontour"
           }
          ],
          "mesh3d": [
           {
            "colorbar": {
             "outlinewidth": 0,
             "ticks": ""
            },
            "type": "mesh3d"
           }
          ],
          "parcoords": [
           {
            "line": {
             "colorbar": {
              "outlinewidth": 0,
              "ticks": ""
             }
            },
            "type": "parcoords"
           }
          ],
          "pie": [
           {
            "automargin": true,
            "type": "pie"
           }
          ],
          "scatter": [
           {
            "marker": {
             "colorbar": {
              "outlinewidth": 0,
              "ticks": ""
             }
            },
            "type": "scatter"
           }
          ],
          "scatter3d": [
           {
            "line": {
             "colorbar": {
              "outlinewidth": 0,
              "ticks": ""
             }
            },
            "marker": {
             "colorbar": {
              "outlinewidth": 0,
              "ticks": ""
             }
            },
            "type": "scatter3d"
           }
          ],
          "scattercarpet": [
           {
            "marker": {
             "colorbar": {
              "outlinewidth": 0,
              "ticks": ""
             }
            },
            "type": "scattercarpet"
           }
          ],
          "scattergeo": [
           {
            "marker": {
             "colorbar": {
              "outlinewidth": 0,
              "ticks": ""
             }
            },
            "type": "scattergeo"
           }
          ],
          "scattergl": [
           {
            "marker": {
             "colorbar": {
              "outlinewidth": 0,
              "ticks": ""
             }
            },
            "type": "scattergl"
           }
          ],
          "scattermapbox": [
           {
            "marker": {
             "colorbar": {
              "outlinewidth": 0,
              "ticks": ""
             }
            },
            "type": "scattermapbox"
           }
          ],
          "scatterpolar": [
           {
            "marker": {
             "colorbar": {
              "outlinewidth": 0,
              "ticks": ""
             }
            },
            "type": "scatterpolar"
           }
          ],
          "scatterpolargl": [
           {
            "marker": {
             "colorbar": {
              "outlinewidth": 0,
              "ticks": ""
             }
            },
            "type": "scatterpolargl"
           }
          ],
          "scatterternary": [
           {
            "marker": {
             "colorbar": {
              "outlinewidth": 0,
              "ticks": ""
             }
            },
            "type": "scatterternary"
           }
          ],
          "surface": [
           {
            "colorbar": {
             "outlinewidth": 0,
             "ticks": ""
            },
            "colorscale": [
             [
              0,
              "#0d0887"
             ],
             [
              0.1111111111111111,
              "#46039f"
             ],
             [
              0.2222222222222222,
              "#7201a8"
             ],
             [
              0.3333333333333333,
              "#9c179e"
             ],
             [
              0.4444444444444444,
              "#bd3786"
             ],
             [
              0.5555555555555556,
              "#d8576b"
             ],
             [
              0.6666666666666666,
              "#ed7953"
             ],
             [
              0.7777777777777778,
              "#fb9f3a"
             ],
             [
              0.8888888888888888,
              "#fdca26"
             ],
             [
              1,
              "#f0f921"
             ]
            ],
            "type": "surface"
           }
          ],
          "table": [
           {
            "cells": {
             "fill": {
              "color": "#EBF0F8"
             },
             "line": {
              "color": "white"
             }
            },
            "header": {
             "fill": {
              "color": "#C8D4E3"
             },
             "line": {
              "color": "white"
             }
            },
            "type": "table"
           }
          ]
         },
         "layout": {
          "annotationdefaults": {
           "arrowcolor": "#2a3f5f",
           "arrowhead": 0,
           "arrowwidth": 1
          },
          "autotypenumbers": "strict",
          "coloraxis": {
           "colorbar": {
            "outlinewidth": 0,
            "ticks": ""
           }
          },
          "colorscale": {
           "diverging": [
            [
             0,
             "#8e0152"
            ],
            [
             0.1,
             "#c51b7d"
            ],
            [
             0.2,
             "#de77ae"
            ],
            [
             0.3,
             "#f1b6da"
            ],
            [
             0.4,
             "#fde0ef"
            ],
            [
             0.5,
             "#f7f7f7"
            ],
            [
             0.6,
             "#e6f5d0"
            ],
            [
             0.7,
             "#b8e186"
            ],
            [
             0.8,
             "#7fbc41"
            ],
            [
             0.9,
             "#4d9221"
            ],
            [
             1,
             "#276419"
            ]
           ],
           "sequential": [
            [
             0,
             "#0d0887"
            ],
            [
             0.1111111111111111,
             "#46039f"
            ],
            [
             0.2222222222222222,
             "#7201a8"
            ],
            [
             0.3333333333333333,
             "#9c179e"
            ],
            [
             0.4444444444444444,
             "#bd3786"
            ],
            [
             0.5555555555555556,
             "#d8576b"
            ],
            [
             0.6666666666666666,
             "#ed7953"
            ],
            [
             0.7777777777777778,
             "#fb9f3a"
            ],
            [
             0.8888888888888888,
             "#fdca26"
            ],
            [
             1,
             "#f0f921"
            ]
           ],
           "sequentialminus": [
            [
             0,
             "#0d0887"
            ],
            [
             0.1111111111111111,
             "#46039f"
            ],
            [
             0.2222222222222222,
             "#7201a8"
            ],
            [
             0.3333333333333333,
             "#9c179e"
            ],
            [
             0.4444444444444444,
             "#bd3786"
            ],
            [
             0.5555555555555556,
             "#d8576b"
            ],
            [
             0.6666666666666666,
             "#ed7953"
            ],
            [
             0.7777777777777778,
             "#fb9f3a"
            ],
            [
             0.8888888888888888,
             "#fdca26"
            ],
            [
             1,
             "#f0f921"
            ]
           ]
          },
          "colorway": [
           "#636efa",
           "#EF553B",
           "#00cc96",
           "#ab63fa",
           "#FFA15A",
           "#19d3f3",
           "#FF6692",
           "#B6E880",
           "#FF97FF",
           "#FECB52"
          ],
          "font": {
           "color": "#2a3f5f"
          },
          "geo": {
           "bgcolor": "white",
           "lakecolor": "white",
           "landcolor": "#E5ECF6",
           "showlakes": true,
           "showland": true,
           "subunitcolor": "white"
          },
          "hoverlabel": {
           "align": "left"
          },
          "hovermode": "closest",
          "mapbox": {
           "style": "light"
          },
          "paper_bgcolor": "white",
          "plot_bgcolor": "#E5ECF6",
          "polar": {
           "angularaxis": {
            "gridcolor": "white",
            "linecolor": "white",
            "ticks": ""
           },
           "bgcolor": "#E5ECF6",
           "radialaxis": {
            "gridcolor": "white",
            "linecolor": "white",
            "ticks": ""
           }
          },
          "scene": {
           "xaxis": {
            "backgroundcolor": "#E5ECF6",
            "gridcolor": "white",
            "gridwidth": 2,
            "linecolor": "white",
            "showbackground": true,
            "ticks": "",
            "zerolinecolor": "white"
           },
           "yaxis": {
            "backgroundcolor": "#E5ECF6",
            "gridcolor": "white",
            "gridwidth": 2,
            "linecolor": "white",
            "showbackground": true,
            "ticks": "",
            "zerolinecolor": "white"
           },
           "zaxis": {
            "backgroundcolor": "#E5ECF6",
            "gridcolor": "white",
            "gridwidth": 2,
            "linecolor": "white",
            "showbackground": true,
            "ticks": "",
            "zerolinecolor": "white"
           }
          },
          "shapedefaults": {
           "line": {
            "color": "#2a3f5f"
           }
          },
          "ternary": {
           "aaxis": {
            "gridcolor": "white",
            "linecolor": "white",
            "ticks": ""
           },
           "baxis": {
            "gridcolor": "white",
            "linecolor": "white",
            "ticks": ""
           },
           "bgcolor": "#E5ECF6",
           "caxis": {
            "gridcolor": "white",
            "linecolor": "white",
            "ticks": ""
           }
          },
          "title": {
           "x": 0.05
          },
          "xaxis": {
           "automargin": true,
           "gridcolor": "white",
           "linecolor": "white",
           "ticks": "",
           "title": {
            "standoff": 15
           },
           "zerolinecolor": "white",
           "zerolinewidth": 2
          },
          "yaxis": {
           "automargin": true,
           "gridcolor": "white",
           "linecolor": "white",
           "ticks": "",
           "title": {
            "standoff": 15
           },
           "zerolinecolor": "white",
           "zerolinewidth": 2
          }
         }
        },
        "title": {
         "text": "All together : average number of beers rated from each category"
        },
        "updatemenus": [
         {
          "active": 0,
          "buttons": [
           {
            "args": [
             {
              "visible": [
               true,
               true,
               true,
               true,
               true,
               true,
               false,
               false,
               false,
               false,
               false,
               false,
               false,
               false,
               false,
               false,
               false,
               false,
               false,
               false,
               false,
               false,
               false,
               false,
               false,
               false,
               false,
               false,
               false,
               false
              ]
             },
             {
              "title": "All together : average number of beers rated from each category"
             }
            ],
            "label": "All togheter",
            "method": "update"
           },
           {
            "args": [
             {
              "visible": [
               false,
               false,
               false,
               false,
               false,
               false,
               true,
               true,
               true,
               true,
               true,
               true,
               false,
               false,
               false,
               false,
               false,
               false,
               false,
               false,
               false,
               false,
               false,
               false,
               false,
               false,
               false,
               false,
               false,
               false
              ]
             },
             {
              "title": "Team \"Jean-Michel IPA\" : average number of beers rated from each category"
             }
            ],
            "label": "Jean-Michel IPA",
            "method": "update"
           },
           {
            "args": [
             {
              "visible": [
               false,
               false,
               false,
               false,
               false,
               false,
               false,
               false,
               false,
               false,
               false,
               false,
               true,
               true,
               true,
               true,
               true,
               true,
               false,
               false,
               false,
               false,
               false,
               false,
               false,
               false,
               false,
               false,
               false,
               false
              ]
             },
             {
              "title": "Team \"Marcel Stout\" : average number of beers rated from each category"
             }
            ],
            "label": "Marcel Stout",
            "method": "update"
           },
           {
            "args": [
             {
              "visible": [
               false,
               false,
               false,
               false,
               false,
               false,
               false,
               false,
               false,
               false,
               false,
               false,
               false,
               false,
               false,
               false,
               false,
               false,
               true,
               true,
               true,
               true,
               true,
               true,
               false,
               false,
               false,
               false,
               false,
               false
              ]
             },
             {
              "title": "Team \"James Bland\" : average number of beers rated from each category"
             }
            ],
            "label": "James Bland",
            "method": "update"
           },
           {
            "args": [
             {
              "visible": [
               false,
               false,
               false,
               false,
               false,
               false,
               false,
               false,
               false,
               false,
               false,
               false,
               false,
               false,
               false,
               false,
               false,
               false,
               false,
               false,
               false,
               false,
               false,
               false,
               true,
               true,
               true,
               true,
               true,
               true
              ]
             },
             {
              "title": "Team \"Ada the explorer\" : average number of beers rated from each category"
             }
            ],
            "label": "Ada the explorer",
            "method": "update"
           }
          ],
          "direction": "right",
          "type": "buttons",
          "x": 1,
          "y": 1.1
         }
        ],
        "width": 1000,
        "xaxis": {
         "title": {
          "text": "Category"
         }
        },
        "yaxis": {
         "range": [
          0,
          25
         ],
         "title": {
          "text": "Number of beers"
         }
        }
       }
      }
     },
     "metadata": {},
     "output_type": "display_data"
    }
   ],
   "source": [
    "#le vrai - redoo avec CI\n",
    "mean_user = df_pivot.copy()\n",
    "# plotly setup \n",
    "fig = go.Figure()\n",
    "\n",
    "# Add one ore more traces\n",
    "x = mean_user.index\n",
    "\n",
    "for i in mapping.keys():\n",
    "    viz = False\n",
    "    if i == \"All\":\n",
    "        viz = True\n",
    "    \n",
    "    #last\n",
    "    #mean\n",
    "    fig.add_trace(go.Scatter(x=x, y=mean_user.iloc[:, 25 + mapping[i]].values,\n",
    "                             name='last 50 beers', mode='lines', line_color='rgb(239,85,59)', \n",
    "                             visible=viz, showlegend=True))\n",
    "    #CI low\n",
    "    fig.add_trace(go.Scatter(x=x, y=mean_user.iloc[:, 15 + mapping[i]].values,\n",
    "                             name='first, CI Low', fill=None, mode='lines', line_width = 0.00,\n",
    "                             fillcolor='rgba(239,85,59,0.3)', visible=viz, showlegend=False))\n",
    "    #CI high\n",
    "    fig.add_trace(go.Scatter(x=x, y=mean_user.iloc[:, 20 + mapping[i]].values,\n",
    "                             name='first, CI high', fill='tonexty', mode='lines', line_width = 0.00,\n",
    "                             fillcolor='rgba(239,85,59,0.3)', visible=viz, showlegend=False))\n",
    "\n",
    "    #first\n",
    "    #mean\n",
    "    fig.add_trace(go.Scatter(x=x, y=mean_user.iloc[:, 10 + mapping[i]].values,\n",
    "                             name='first 50 beers', mode='lines', line_color = \"rgb(0,204,150)\",\n",
    "                             visible=viz, showlegend=True))\n",
    "    #CI low\n",
    "    fig.add_trace(go.Scatter(x=x, y=mean_user.iloc[:, 0 + mapping[i]].values,\n",
    "                             name='first, CI Low', fill=None, mode='lines', line_width = 0.00,\n",
    "                             fillcolor='rgba(0,204,150,0.3)', visible=viz, showlegend=False))\n",
    "    #CI high\n",
    "    fig.add_trace(go.Scatter(x=x, y=mean_user.iloc[:, 5 + mapping[i]].values,\n",
    "                             name='first, CI High', fill='tonexty', mode='lines', line_width = 0.00,\n",
    "                             fillcolor='rgba(0,204,150,0.3)', visible=viz, showlegend=False))\n",
    "\n",
    "#build 5 mask coresponding to each button\n",
    "list_0 = [True]*6 + [False]*24\n",
    "list_1 = [False]*6 + [True]*6 + [False]*18\n",
    "list_2 = [False]*12 + [True]*6 + [False]*12\n",
    "list_3 = [False]*18 + [True]*6 + [False]*6\n",
    "list_4 = [False]*24 + [True]*6\n",
    "\n",
    "fig.update_layout(\n",
    "    yaxis_range=[0,25],\n",
    "    width=1000,\n",
    "    height=600,\n",
    "    updatemenus=[\n",
    "        dict(\n",
    "            type=\"buttons\",\n",
    "            direction=\"right\",\n",
    "            active=0,\n",
    "            x=1,\n",
    "            y=1.1,\n",
    "            buttons=list([\n",
    "                dict(label=\"All togheter\",\n",
    "                     method=\"update\",\n",
    "                     args=[{\"visible\": list_0},\n",
    "                           {'title':'All together : average number of beers rated from each category'}]),\n",
    "                dict(label=\"Jean-Michel IPA\",\n",
    "                     method=\"update\",\n",
    "                     args=[{\"visible\": list_1},\n",
    "                           {'title' : 'Team \"Jean-Michel IPA\" : average number of beers rated from each category'}]),\n",
    "                dict(label=\"Marcel Stout\",\n",
    "                     method=\"update\",\n",
    "                     args=[{\"visible\": list_2},\n",
    "                           {'title' : 'Team \"Marcel Stout\" : average number of beers rated from each category'}]),\n",
    "                dict(label=\"James Bland\",\n",
    "                     method=\"update\",\n",
    "                     args=[{\"visible\": list_3},\n",
    "                           {'title' : 'Team \"James Bland\" : average number of beers rated from each category'}]),\n",
    "                dict(label=\"Ada the explorer\",\n",
    "                     method=\"update\",\n",
    "                     args=[{\"visible\": list_4},\n",
    "                           {'title' : 'Team \"Ada the explorer\" : average number of beers rated from each category'}])\n",
    "\n",
    "            ]),\n",
    "        )\n",
    "    ])\n",
    "\n",
    "# Set title\n",
    "fig.update_xaxes(title_text=\"Category\")\n",
    "fig.update_yaxes(title_text=\"Number of beers\")\n",
    "\n",
    "fig.update_layout({'title' : 'All together : average number of beers rated from each category'})\n",
    "\n",
    "fig.show()\n",
    "fig.write_html(\"all_first_vs_last.html\")"
   ]
  },
  {
   "cell_type": "code",
   "execution_count": 69,
   "metadata": {},
   "outputs": [
    {
     "data": {
      "text/html": [
       "<div>\n",
       "<style scoped>\n",
       "    .dataframe tbody tr th:only-of-type {\n",
       "        vertical-align: middle;\n",
       "    }\n",
       "\n",
       "    .dataframe tbody tr th {\n",
       "        vertical-align: top;\n",
       "    }\n",
       "\n",
       "    .dataframe thead th {\n",
       "        text-align: right;\n",
       "    }\n",
       "</style>\n",
       "<table border=\"1\" class=\"dataframe\">\n",
       "  <thead>\n",
       "    <tr style=\"text-align: right;\">\n",
       "      <th></th>\n",
       "      <th>(CI_low_first_rating, 0)</th>\n",
       "      <th>(CI_low_first_rating, 1)</th>\n",
       "      <th>(CI_low_first_rating, 2)</th>\n",
       "      <th>(CI_low_first_rating, 3)</th>\n",
       "      <th>(CI_low_first_rating, All)</th>\n",
       "      <th>(CI_high_first_rating, 0)</th>\n",
       "      <th>(CI_high_first_rating, 1)</th>\n",
       "      <th>(CI_high_first_rating, 2)</th>\n",
       "      <th>(CI_high_first_rating, 3)</th>\n",
       "      <th>(CI_high_first_rating, All)</th>\n",
       "      <th>...</th>\n",
       "      <th>(mean_last_ratings, 0)</th>\n",
       "      <th>(mean_last_ratings, 1)</th>\n",
       "      <th>(mean_last_ratings, 2)</th>\n",
       "      <th>(mean_last_ratings, 3)</th>\n",
       "      <th>(mean_last_ratings, All)</th>\n",
       "      <th>(t_test, 0)</th>\n",
       "      <th>(t_test, 1)</th>\n",
       "      <th>(t_test, 2)</th>\n",
       "      <th>(t_test, 3)</th>\n",
       "      <th>(t_test, All)</th>\n",
       "    </tr>\n",
       "    <tr>\n",
       "      <th>Category</th>\n",
       "      <th></th>\n",
       "      <th></th>\n",
       "      <th></th>\n",
       "      <th></th>\n",
       "      <th></th>\n",
       "      <th></th>\n",
       "      <th></th>\n",
       "      <th></th>\n",
       "      <th></th>\n",
       "      <th></th>\n",
       "      <th></th>\n",
       "      <th></th>\n",
       "      <th></th>\n",
       "      <th></th>\n",
       "      <th></th>\n",
       "      <th></th>\n",
       "      <th></th>\n",
       "      <th></th>\n",
       "      <th></th>\n",
       "      <th></th>\n",
       "      <th></th>\n",
       "    </tr>\n",
       "  </thead>\n",
       "  <tbody>\n",
       "    <tr>\n",
       "      <th>Bocks</th>\n",
       "      <td>0.673469</td>\n",
       "      <td>1.515228</td>\n",
       "      <td>1.531915</td>\n",
       "      <td>0.493724</td>\n",
       "      <td>1.160825</td>\n",
       "      <td>0.974490</td>\n",
       "      <td>1.816329</td>\n",
       "      <td>2.078014</td>\n",
       "      <td>0.715481</td>\n",
       "      <td>1.340206</td>\n",
       "      <td>...</td>\n",
       "      <td>0.551020</td>\n",
       "      <td>1.116751</td>\n",
       "      <td>1.631206</td>\n",
       "      <td>0.531381</td>\n",
       "      <td>0.932990</td>\n",
       "      <td>2.001985e-03</td>\n",
       "      <td>1.210879e-08</td>\n",
       "      <td>4.189340e-01</td>\n",
       "      <td>3.781030e-01</td>\n",
       "      <td>1.040049e-08</td>\n",
       "    </tr>\n",
       "    <tr>\n",
       "      <th>Brown Ales</th>\n",
       "      <td>2.224490</td>\n",
       "      <td>3.086294</td>\n",
       "      <td>2.397163</td>\n",
       "      <td>1.548117</td>\n",
       "      <td>2.534235</td>\n",
       "      <td>2.795918</td>\n",
       "      <td>3.493966</td>\n",
       "      <td>3.049645</td>\n",
       "      <td>1.928870</td>\n",
       "      <td>2.786598</td>\n",
       "      <td>...</td>\n",
       "      <td>1.877551</td>\n",
       "      <td>2.489848</td>\n",
       "      <td>2.617021</td>\n",
       "      <td>1.263598</td>\n",
       "      <td>2.082474</td>\n",
       "      <td>3.737509e-04</td>\n",
       "      <td>1.567179e-09</td>\n",
       "      <td>6.209248e-01</td>\n",
       "      <td>1.907517e-04</td>\n",
       "      <td>9.232355e-14</td>\n",
       "    </tr>\n",
       "    <tr>\n",
       "      <th>Dark Ales</th>\n",
       "      <td>0.795918</td>\n",
       "      <td>1.505076</td>\n",
       "      <td>1.191489</td>\n",
       "      <td>0.510460</td>\n",
       "      <td>1.136082</td>\n",
       "      <td>1.142857</td>\n",
       "      <td>1.812183</td>\n",
       "      <td>1.680851</td>\n",
       "      <td>0.740586</td>\n",
       "      <td>1.314433</td>\n",
       "      <td>...</td>\n",
       "      <td>0.602041</td>\n",
       "      <td>1.050761</td>\n",
       "      <td>1.219858</td>\n",
       "      <td>0.451883</td>\n",
       "      <td>0.837113</td>\n",
       "      <td>5.679719e-04</td>\n",
       "      <td>3.901109e-10</td>\n",
       "      <td>2.220434e-01</td>\n",
       "      <td>2.379335e-02</td>\n",
       "      <td>5.993624e-13</td>\n",
       "    </tr>\n",
       "    <tr>\n",
       "      <th>Dark Lagers</th>\n",
       "      <td>0.500000</td>\n",
       "      <td>1.393401</td>\n",
       "      <td>3.035461</td>\n",
       "      <td>0.443515</td>\n",
       "      <td>1.275258</td>\n",
       "      <td>0.785714</td>\n",
       "      <td>1.675127</td>\n",
       "      <td>3.673759</td>\n",
       "      <td>0.673640</td>\n",
       "      <td>1.479381</td>\n",
       "      <td>...</td>\n",
       "      <td>0.545918</td>\n",
       "      <td>0.923858</td>\n",
       "      <td>1.269504</td>\n",
       "      <td>0.489540</td>\n",
       "      <td>0.790722</td>\n",
       "      <td>3.469893e-01</td>\n",
       "      <td>4.049361e-12</td>\n",
       "      <td>1.775291e-21</td>\n",
       "      <td>4.246688e-01</td>\n",
       "      <td>8.970276e-25</td>\n",
       "    </tr>\n",
       "    <tr>\n",
       "      <th>Hybrid Beers</th>\n",
       "      <td>0.209184</td>\n",
       "      <td>0.281726</td>\n",
       "      <td>0.276596</td>\n",
       "      <td>0.171548</td>\n",
       "      <td>0.271134</td>\n",
       "      <td>0.357143</td>\n",
       "      <td>0.395939</td>\n",
       "      <td>0.496454</td>\n",
       "      <td>0.305439</td>\n",
       "      <td>0.343299</td>\n",
       "      <td>...</td>\n",
       "      <td>0.244898</td>\n",
       "      <td>0.390863</td>\n",
       "      <td>0.297872</td>\n",
       "      <td>0.246862</td>\n",
       "      <td>0.312371</td>\n",
       "      <td>4.381056e-01</td>\n",
       "      <td>1.923013e-01</td>\n",
       "      <td>2.219053e-01</td>\n",
       "      <td>7.907089e-01</td>\n",
       "      <td>8.332273e-01</td>\n",
       "    </tr>\n",
       "    <tr>\n",
       "      <th>India Pale Ales</th>\n",
       "      <td>9.107143</td>\n",
       "      <td>7.787561</td>\n",
       "      <td>2.836879</td>\n",
       "      <td>22.175732</td>\n",
       "      <td>10.934021</td>\n",
       "      <td>10.653061</td>\n",
       "      <td>8.601523</td>\n",
       "      <td>3.801418</td>\n",
       "      <td>23.548117</td>\n",
       "      <td>11.958763</td>\n",
       "      <td>...</td>\n",
       "      <td>11.474490</td>\n",
       "      <td>10.586294</td>\n",
       "      <td>10.148936</td>\n",
       "      <td>16.163180</td>\n",
       "      <td>12.076289</td>\n",
       "      <td>2.410343e-03</td>\n",
       "      <td>2.487439e-14</td>\n",
       "      <td>1.859514e-24</td>\n",
       "      <td>4.386729e-28</td>\n",
       "      <td>1.467942e-02</td>\n",
       "    </tr>\n",
       "    <tr>\n",
       "      <th>Pale Ales</th>\n",
       "      <td>4.397428</td>\n",
       "      <td>9.065990</td>\n",
       "      <td>7.205674</td>\n",
       "      <td>7.046025</td>\n",
       "      <td>7.524742</td>\n",
       "      <td>5.107143</td>\n",
       "      <td>9.756345</td>\n",
       "      <td>8.361702</td>\n",
       "      <td>7.920502</td>\n",
       "      <td>7.995953</td>\n",
       "      <td>...</td>\n",
       "      <td>7.040816</td>\n",
       "      <td>8.840102</td>\n",
       "      <td>9.510638</td>\n",
       "      <td>8.142259</td>\n",
       "      <td>8.402062</td>\n",
       "      <td>7.210528e-14</td>\n",
       "      <td>1.398808e-02</td>\n",
       "      <td>7.017638e-06</td>\n",
       "      <td>3.506138e-02</td>\n",
       "      <td>1.559042e-05</td>\n",
       "    </tr>\n",
       "    <tr>\n",
       "      <th>Pale Lagers</th>\n",
       "      <td>1.107143</td>\n",
       "      <td>3.616751</td>\n",
       "      <td>12.744681</td>\n",
       "      <td>1.758646</td>\n",
       "      <td>4.013402</td>\n",
       "      <td>1.500000</td>\n",
       "      <td>4.126904</td>\n",
       "      <td>14.602837</td>\n",
       "      <td>2.292887</td>\n",
       "      <td>4.651546</td>\n",
       "      <td>...</td>\n",
       "      <td>1.637755</td>\n",
       "      <td>3.281726</td>\n",
       "      <td>4.652482</td>\n",
       "      <td>2.200837</td>\n",
       "      <td>2.882474</td>\n",
       "      <td>4.069503e-02</td>\n",
       "      <td>1.749773e-03</td>\n",
       "      <td>4.205912e-33</td>\n",
       "      <td>3.107862e-01</td>\n",
       "      <td>2.939323e-18</td>\n",
       "    </tr>\n",
       "    <tr>\n",
       "      <th>Porters</th>\n",
       "      <td>2.790816</td>\n",
       "      <td>2.121827</td>\n",
       "      <td>1.312057</td>\n",
       "      <td>1.192469</td>\n",
       "      <td>2.005155</td>\n",
       "      <td>3.427690</td>\n",
       "      <td>2.484772</td>\n",
       "      <td>1.829787</td>\n",
       "      <td>1.514644</td>\n",
       "      <td>2.239175</td>\n",
       "      <td>...</td>\n",
       "      <td>2.576531</td>\n",
       "      <td>2.195431</td>\n",
       "      <td>2.163121</td>\n",
       "      <td>1.962343</td>\n",
       "      <td>2.210309</td>\n",
       "      <td>3.266419e-03</td>\n",
       "      <td>3.815884e-01</td>\n",
       "      <td>3.062677e-03</td>\n",
       "      <td>8.027743e-06</td>\n",
       "      <td>2.196372e-01</td>\n",
       "    </tr>\n",
       "    <tr>\n",
       "      <th>Specialty Beer</th>\n",
       "      <td>1.137755</td>\n",
       "      <td>1.550761</td>\n",
       "      <td>1.163121</td>\n",
       "      <td>1.046025</td>\n",
       "      <td>1.378351</td>\n",
       "      <td>1.591837</td>\n",
       "      <td>1.972081</td>\n",
       "      <td>1.716312</td>\n",
       "      <td>1.435146</td>\n",
       "      <td>1.608247</td>\n",
       "      <td>...</td>\n",
       "      <td>1.484694</td>\n",
       "      <td>1.685279</td>\n",
       "      <td>1.687943</td>\n",
       "      <td>1.200837</td>\n",
       "      <td>1.525773</td>\n",
       "      <td>3.448799e-01</td>\n",
       "      <td>6.610028e-01</td>\n",
       "      <td>1.843903e-01</td>\n",
       "      <td>8.681132e-01</td>\n",
       "      <td>6.030390e-01</td>\n",
       "    </tr>\n",
       "    <tr>\n",
       "      <th>Stouts</th>\n",
       "      <td>14.500000</td>\n",
       "      <td>4.865482</td>\n",
       "      <td>3.085106</td>\n",
       "      <td>4.146444</td>\n",
       "      <td>6.440206</td>\n",
       "      <td>15.913265</td>\n",
       "      <td>5.375635</td>\n",
       "      <td>3.978723</td>\n",
       "      <td>4.987448</td>\n",
       "      <td>7.129897</td>\n",
       "      <td>...</td>\n",
       "      <td>10.188776</td>\n",
       "      <td>6.205584</td>\n",
       "      <td>5.297872</td>\n",
       "      <td>7.606695</td>\n",
       "      <td>7.223711</td>\n",
       "      <td>2.000286e-24</td>\n",
       "      <td>4.111801e-07</td>\n",
       "      <td>3.360124e-06</td>\n",
       "      <td>3.962554e-15</td>\n",
       "      <td>1.425922e-02</td>\n",
       "    </tr>\n",
       "    <tr>\n",
       "      <th>Strong Ales</th>\n",
       "      <td>5.678571</td>\n",
       "      <td>5.794416</td>\n",
       "      <td>3.567376</td>\n",
       "      <td>3.757322</td>\n",
       "      <td>5.111340</td>\n",
       "      <td>6.744898</td>\n",
       "      <td>6.482234</td>\n",
       "      <td>4.361702</td>\n",
       "      <td>4.405858</td>\n",
       "      <td>5.534021</td>\n",
       "      <td>...</td>\n",
       "      <td>5.091837</td>\n",
       "      <td>5.408629</td>\n",
       "      <td>4.680851</td>\n",
       "      <td>3.702929</td>\n",
       "      <td>4.818557</td>\n",
       "      <td>1.091480e-03</td>\n",
       "      <td>4.634065e-04</td>\n",
       "      <td>2.355251e-02</td>\n",
       "      <td>8.847073e-02</td>\n",
       "      <td>1.184995e-04</td>\n",
       "    </tr>\n",
       "    <tr>\n",
       "      <th>Weird Cocktail</th>\n",
       "      <td>0.040816</td>\n",
       "      <td>0.040609</td>\n",
       "      <td>0.099291</td>\n",
       "      <td>0.000000</td>\n",
       "      <td>0.051546</td>\n",
       "      <td>0.122449</td>\n",
       "      <td>0.088832</td>\n",
       "      <td>0.219858</td>\n",
       "      <td>0.029289</td>\n",
       "      <td>0.084536</td>\n",
       "      <td>...</td>\n",
       "      <td>0.005102</td>\n",
       "      <td>0.035533</td>\n",
       "      <td>0.028369</td>\n",
       "      <td>0.008368</td>\n",
       "      <td>0.021649</td>\n",
       "      <td>1.585346e-03</td>\n",
       "      <td>7.814860e-02</td>\n",
       "      <td>1.789359e-04</td>\n",
       "      <td>6.556682e-01</td>\n",
       "      <td>2.432629e-06</td>\n",
       "    </tr>\n",
       "    <tr>\n",
       "      <th>Wheat Beers</th>\n",
       "      <td>1.331633</td>\n",
       "      <td>3.370558</td>\n",
       "      <td>4.283688</td>\n",
       "      <td>1.669456</td>\n",
       "      <td>2.774227</td>\n",
       "      <td>1.841837</td>\n",
       "      <td>3.901015</td>\n",
       "      <td>5.234043</td>\n",
       "      <td>2.112971</td>\n",
       "      <td>3.109278</td>\n",
       "      <td>...</td>\n",
       "      <td>1.877551</td>\n",
       "      <td>2.543147</td>\n",
       "      <td>2.893617</td>\n",
       "      <td>1.824268</td>\n",
       "      <td>2.282474</td>\n",
       "      <td>4.777999e-02</td>\n",
       "      <td>4.994585e-11</td>\n",
       "      <td>2.932158e-09</td>\n",
       "      <td>7.104695e-01</td>\n",
       "      <td>8.487360e-12</td>\n",
       "    </tr>\n",
       "    <tr>\n",
       "      <th>Wild/Sour Beers</th>\n",
       "      <td>1.165021</td>\n",
       "      <td>0.906091</td>\n",
       "      <td>0.191489</td>\n",
       "      <td>0.682008</td>\n",
       "      <td>0.880412</td>\n",
       "      <td>1.918367</td>\n",
       "      <td>1.337563</td>\n",
       "      <td>0.397163</td>\n",
       "      <td>1.154812</td>\n",
       "      <td>1.139175</td>\n",
       "      <td>...</td>\n",
       "      <td>4.801020</td>\n",
       "      <td>3.246193</td>\n",
       "      <td>1.900709</td>\n",
       "      <td>4.205021</td>\n",
       "      <td>3.601031</td>\n",
       "      <td>5.988160e-23</td>\n",
       "      <td>4.317902e-26</td>\n",
       "      <td>3.479107e-09</td>\n",
       "      <td>5.285727e-27</td>\n",
       "      <td>4.314128e-79</td>\n",
       "    </tr>\n",
       "  </tbody>\n",
       "</table>\n",
       "<p>15 rows × 35 columns</p>\n",
       "</div>"
      ],
      "text/plain": [
       "                 (CI_low_first_rating, 0)  (CI_low_first_rating, 1)  \\\n",
       "Category                                                              \n",
       "Bocks                            0.673469                  1.515228   \n",
       "Brown Ales                       2.224490                  3.086294   \n",
       "Dark Ales                        0.795918                  1.505076   \n",
       "Dark Lagers                      0.500000                  1.393401   \n",
       "Hybrid Beers                     0.209184                  0.281726   \n",
       "India Pale Ales                  9.107143                  7.787561   \n",
       "Pale Ales                        4.397428                  9.065990   \n",
       "Pale Lagers                      1.107143                  3.616751   \n",
       "Porters                          2.790816                  2.121827   \n",
       "Specialty Beer                   1.137755                  1.550761   \n",
       "Stouts                          14.500000                  4.865482   \n",
       "Strong Ales                      5.678571                  5.794416   \n",
       "Weird Cocktail                   0.040816                  0.040609   \n",
       "Wheat Beers                      1.331633                  3.370558   \n",
       "Wild/Sour Beers                  1.165021                  0.906091   \n",
       "\n",
       "                 (CI_low_first_rating, 2)  (CI_low_first_rating, 3)  \\\n",
       "Category                                                              \n",
       "Bocks                            1.531915                  0.493724   \n",
       "Brown Ales                       2.397163                  1.548117   \n",
       "Dark Ales                        1.191489                  0.510460   \n",
       "Dark Lagers                      3.035461                  0.443515   \n",
       "Hybrid Beers                     0.276596                  0.171548   \n",
       "India Pale Ales                  2.836879                 22.175732   \n",
       "Pale Ales                        7.205674                  7.046025   \n",
       "Pale Lagers                     12.744681                  1.758646   \n",
       "Porters                          1.312057                  1.192469   \n",
       "Specialty Beer                   1.163121                  1.046025   \n",
       "Stouts                           3.085106                  4.146444   \n",
       "Strong Ales                      3.567376                  3.757322   \n",
       "Weird Cocktail                   0.099291                  0.000000   \n",
       "Wheat Beers                      4.283688                  1.669456   \n",
       "Wild/Sour Beers                  0.191489                  0.682008   \n",
       "\n",
       "                 (CI_low_first_rating, All)  (CI_high_first_rating, 0)  \\\n",
       "Category                                                                 \n",
       "Bocks                              1.160825                   0.974490   \n",
       "Brown Ales                         2.534235                   2.795918   \n",
       "Dark Ales                          1.136082                   1.142857   \n",
       "Dark Lagers                        1.275258                   0.785714   \n",
       "Hybrid Beers                       0.271134                   0.357143   \n",
       "India Pale Ales                   10.934021                  10.653061   \n",
       "Pale Ales                          7.524742                   5.107143   \n",
       "Pale Lagers                        4.013402                   1.500000   \n",
       "Porters                            2.005155                   3.427690   \n",
       "Specialty Beer                     1.378351                   1.591837   \n",
       "Stouts                             6.440206                  15.913265   \n",
       "Strong Ales                        5.111340                   6.744898   \n",
       "Weird Cocktail                     0.051546                   0.122449   \n",
       "Wheat Beers                        2.774227                   1.841837   \n",
       "Wild/Sour Beers                    0.880412                   1.918367   \n",
       "\n",
       "                 (CI_high_first_rating, 1)  (CI_high_first_rating, 2)  \\\n",
       "Category                                                                \n",
       "Bocks                             1.816329                   2.078014   \n",
       "Brown Ales                        3.493966                   3.049645   \n",
       "Dark Ales                         1.812183                   1.680851   \n",
       "Dark Lagers                       1.675127                   3.673759   \n",
       "Hybrid Beers                      0.395939                   0.496454   \n",
       "India Pale Ales                   8.601523                   3.801418   \n",
       "Pale Ales                         9.756345                   8.361702   \n",
       "Pale Lagers                       4.126904                  14.602837   \n",
       "Porters                           2.484772                   1.829787   \n",
       "Specialty Beer                    1.972081                   1.716312   \n",
       "Stouts                            5.375635                   3.978723   \n",
       "Strong Ales                       6.482234                   4.361702   \n",
       "Weird Cocktail                    0.088832                   0.219858   \n",
       "Wheat Beers                       3.901015                   5.234043   \n",
       "Wild/Sour Beers                   1.337563                   0.397163   \n",
       "\n",
       "                 (CI_high_first_rating, 3)  (CI_high_first_rating, All)  ...  \\\n",
       "Category                                                                 ...   \n",
       "Bocks                             0.715481                     1.340206  ...   \n",
       "Brown Ales                        1.928870                     2.786598  ...   \n",
       "Dark Ales                         0.740586                     1.314433  ...   \n",
       "Dark Lagers                       0.673640                     1.479381  ...   \n",
       "Hybrid Beers                      0.305439                     0.343299  ...   \n",
       "India Pale Ales                  23.548117                    11.958763  ...   \n",
       "Pale Ales                         7.920502                     7.995953  ...   \n",
       "Pale Lagers                       2.292887                     4.651546  ...   \n",
       "Porters                           1.514644                     2.239175  ...   \n",
       "Specialty Beer                    1.435146                     1.608247  ...   \n",
       "Stouts                            4.987448                     7.129897  ...   \n",
       "Strong Ales                       4.405858                     5.534021  ...   \n",
       "Weird Cocktail                    0.029289                     0.084536  ...   \n",
       "Wheat Beers                       2.112971                     3.109278  ...   \n",
       "Wild/Sour Beers                   1.154812                     1.139175  ...   \n",
       "\n",
       "                 (mean_last_ratings, 0)  (mean_last_ratings, 1)  \\\n",
       "Category                                                          \n",
       "Bocks                          0.551020                1.116751   \n",
       "Brown Ales                     1.877551                2.489848   \n",
       "Dark Ales                      0.602041                1.050761   \n",
       "Dark Lagers                    0.545918                0.923858   \n",
       "Hybrid Beers                   0.244898                0.390863   \n",
       "India Pale Ales               11.474490               10.586294   \n",
       "Pale Ales                      7.040816                8.840102   \n",
       "Pale Lagers                    1.637755                3.281726   \n",
       "Porters                        2.576531                2.195431   \n",
       "Specialty Beer                 1.484694                1.685279   \n",
       "Stouts                        10.188776                6.205584   \n",
       "Strong Ales                    5.091837                5.408629   \n",
       "Weird Cocktail                 0.005102                0.035533   \n",
       "Wheat Beers                    1.877551                2.543147   \n",
       "Wild/Sour Beers                4.801020                3.246193   \n",
       "\n",
       "                 (mean_last_ratings, 2)  (mean_last_ratings, 3)  \\\n",
       "Category                                                          \n",
       "Bocks                          1.631206                0.531381   \n",
       "Brown Ales                     2.617021                1.263598   \n",
       "Dark Ales                      1.219858                0.451883   \n",
       "Dark Lagers                    1.269504                0.489540   \n",
       "Hybrid Beers                   0.297872                0.246862   \n",
       "India Pale Ales               10.148936               16.163180   \n",
       "Pale Ales                      9.510638                8.142259   \n",
       "Pale Lagers                    4.652482                2.200837   \n",
       "Porters                        2.163121                1.962343   \n",
       "Specialty Beer                 1.687943                1.200837   \n",
       "Stouts                         5.297872                7.606695   \n",
       "Strong Ales                    4.680851                3.702929   \n",
       "Weird Cocktail                 0.028369                0.008368   \n",
       "Wheat Beers                    2.893617                1.824268   \n",
       "Wild/Sour Beers                1.900709                4.205021   \n",
       "\n",
       "                 (mean_last_ratings, All)   (t_test, 0)   (t_test, 1)  \\\n",
       "Category                                                                \n",
       "Bocks                            0.932990  2.001985e-03  1.210879e-08   \n",
       "Brown Ales                       2.082474  3.737509e-04  1.567179e-09   \n",
       "Dark Ales                        0.837113  5.679719e-04  3.901109e-10   \n",
       "Dark Lagers                      0.790722  3.469893e-01  4.049361e-12   \n",
       "Hybrid Beers                     0.312371  4.381056e-01  1.923013e-01   \n",
       "India Pale Ales                 12.076289  2.410343e-03  2.487439e-14   \n",
       "Pale Ales                        8.402062  7.210528e-14  1.398808e-02   \n",
       "Pale Lagers                      2.882474  4.069503e-02  1.749773e-03   \n",
       "Porters                          2.210309  3.266419e-03  3.815884e-01   \n",
       "Specialty Beer                   1.525773  3.448799e-01  6.610028e-01   \n",
       "Stouts                           7.223711  2.000286e-24  4.111801e-07   \n",
       "Strong Ales                      4.818557  1.091480e-03  4.634065e-04   \n",
       "Weird Cocktail                   0.021649  1.585346e-03  7.814860e-02   \n",
       "Wheat Beers                      2.282474  4.777999e-02  4.994585e-11   \n",
       "Wild/Sour Beers                  3.601031  5.988160e-23  4.317902e-26   \n",
       "\n",
       "                  (t_test, 2)   (t_test, 3)  (t_test, All)  \n",
       "Category                                                    \n",
       "Bocks            4.189340e-01  3.781030e-01   1.040049e-08  \n",
       "Brown Ales       6.209248e-01  1.907517e-04   9.232355e-14  \n",
       "Dark Ales        2.220434e-01  2.379335e-02   5.993624e-13  \n",
       "Dark Lagers      1.775291e-21  4.246688e-01   8.970276e-25  \n",
       "Hybrid Beers     2.219053e-01  7.907089e-01   8.332273e-01  \n",
       "India Pale Ales  1.859514e-24  4.386729e-28   1.467942e-02  \n",
       "Pale Ales        7.017638e-06  3.506138e-02   1.559042e-05  \n",
       "Pale Lagers      4.205912e-33  3.107862e-01   2.939323e-18  \n",
       "Porters          3.062677e-03  8.027743e-06   2.196372e-01  \n",
       "Specialty Beer   1.843903e-01  8.681132e-01   6.030390e-01  \n",
       "Stouts           3.360124e-06  3.962554e-15   1.425922e-02  \n",
       "Strong Ales      2.355251e-02  8.847073e-02   1.184995e-04  \n",
       "Weird Cocktail   1.789359e-04  6.556682e-01   2.432629e-06  \n",
       "Wheat Beers      2.932158e-09  7.104695e-01   8.487360e-12  \n",
       "Wild/Sour Beers  3.479107e-09  5.285727e-27   4.314128e-79  \n",
       "\n",
       "[15 rows x 35 columns]"
      ]
     },
     "execution_count": 69,
     "metadata": {},
     "output_type": "execute_result"
    }
   ],
   "source": [
    "mean_user"
   ]
  },
  {
   "cell_type": "code",
   "execution_count": 70,
   "metadata": {},
   "outputs": [
    {
     "data": {
      "text/plain": [
       "{'All': 4,\n",
       " 'Jean-Michel IPA': 3,\n",
       " 'Marcel Stout': 0,\n",
       " 'James Bland': 2,\n",
       " 'Ada the explorer': 1}"
      ]
     },
     "execution_count": 70,
     "metadata": {},
     "output_type": "execute_result"
    }
   ],
   "source": [
    "mapping"
   ]
  },
  {
   "cell_type": "code",
   "execution_count": null,
   "metadata": {},
   "outputs": [],
   "source": []
  },
  {
   "cell_type": "code",
   "execution_count": 71,
   "metadata": {},
   "outputs": [
    {
     "data": {
      "text/plain": [
       "dict_values([0, 1, 2, 3, 4])"
      ]
     },
     "execution_count": 71,
     "metadata": {},
     "output_type": "execute_result"
    }
   ],
   "source": [
    "idx = {k: v for k, v in sorted(mapping.items(), key=lambda item: item[1])}\n",
    "idx.values()"
   ]
  },
  {
   "cell_type": "code",
   "execution_count": 72,
   "metadata": {},
   "outputs": [
    {
     "data": {
      "application/vnd.plotly.v1+json": {
       "config": {
        "plotlyServerURL": "https://plot.ly"
       },
       "data": [
        {
         "coloraxis": "coloraxis",
         "hovertemplate": "Category: %{x}<br>Clusters: %{y}<br>Pvalue: %{z}<extra></extra>",
         "name": "0",
         "texttemplate": "%{z}",
         "type": "heatmap",
         "x": [
          "Bocks",
          "Brown Ales",
          "Dark Ales",
          "Dark Lagers",
          "Hybrid Beers",
          "India Pale Ales",
          "Pale Ales",
          "Pale Lagers",
          "Porters",
          "Specialty Beer",
          "Stouts",
          "Strong Ales",
          "Weird Cocktail",
          "Wheat Beers",
          "Wild/Sour Beers"
         ],
         "xaxis": "x",
         "y": [
          "Marcel Stout",
          "Ada the explorer",
          "James Bland",
          "Jean-Michel IPA",
          "All"
         ],
         "yaxis": "y",
         "z": [
          [
           2.7,
           3.43,
           3.25,
           0,
           0,
           2.62,
           13.14,
           1.39,
           2.49,
           0,
           20,
           2.96,
           2.8,
           1.32,
           20
          ],
          [
           7.92,
           8.8,
           9.41,
           11.39,
           0,
           13.6,
           1.85,
           2.76,
           0,
           0,
           6.39,
           3.33,
           0,
           10.3,
           20
          ],
          [
           0,
           0,
           0,
           20,
           0,
           20,
           5.15,
           20,
           2.51,
           0,
           5.47,
           1.63,
           3.75,
           8.53,
           8.46
          ],
          [
           0,
           3.72,
           1.62,
           0,
           0,
           20,
           1.46,
           0,
           5.1,
           0,
           14.4,
           0,
           0,
           0,
           20
          ],
          [
           7.98,
           13.03,
           12.22,
           20,
           0,
           1.83,
           4.81,
           17.53,
           0,
           0,
           1.85,
           3.93,
           5.61,
           11.07,
           20
          ]
         ]
        }
       ],
       "layout": {
        "coloraxis": {
         "colorbar": {
          "ticktext": [
           "1",
           "5",
           "10",
           "20"
          ],
          "tickvals": [
           1,
           5,
           10,
           20
          ],
          "title": {
           "text": "-log(Pvalue)"
          }
         },
         "colorscale": [
          [
           0,
           "#0d0887"
          ],
          [
           0.1111111111111111,
           "#46039f"
          ],
          [
           0.2222222222222222,
           "#7201a8"
          ],
          [
           0.3333333333333333,
           "#9c179e"
          ],
          [
           0.4444444444444444,
           "#bd3786"
          ],
          [
           0.5555555555555556,
           "#d8576b"
          ],
          [
           0.6666666666666666,
           "#ed7953"
          ],
          [
           0.7777777777777778,
           "#fb9f3a"
          ],
          [
           0.8888888888888888,
           "#fdca26"
          ],
          [
           1,
           "#f0f921"
          ]
         ]
        },
        "template": {
         "data": {
          "bar": [
           {
            "error_x": {
             "color": "#2a3f5f"
            },
            "error_y": {
             "color": "#2a3f5f"
            },
            "marker": {
             "line": {
              "color": "#E5ECF6",
              "width": 0.5
             },
             "pattern": {
              "fillmode": "overlay",
              "size": 10,
              "solidity": 0.2
             }
            },
            "type": "bar"
           }
          ],
          "barpolar": [
           {
            "marker": {
             "line": {
              "color": "#E5ECF6",
              "width": 0.5
             },
             "pattern": {
              "fillmode": "overlay",
              "size": 10,
              "solidity": 0.2
             }
            },
            "type": "barpolar"
           }
          ],
          "carpet": [
           {
            "aaxis": {
             "endlinecolor": "#2a3f5f",
             "gridcolor": "white",
             "linecolor": "white",
             "minorgridcolor": "white",
             "startlinecolor": "#2a3f5f"
            },
            "baxis": {
             "endlinecolor": "#2a3f5f",
             "gridcolor": "white",
             "linecolor": "white",
             "minorgridcolor": "white",
             "startlinecolor": "#2a3f5f"
            },
            "type": "carpet"
           }
          ],
          "choropleth": [
           {
            "colorbar": {
             "outlinewidth": 0,
             "ticks": ""
            },
            "type": "choropleth"
           }
          ],
          "contour": [
           {
            "colorbar": {
             "outlinewidth": 0,
             "ticks": ""
            },
            "colorscale": [
             [
              0,
              "#0d0887"
             ],
             [
              0.1111111111111111,
              "#46039f"
             ],
             [
              0.2222222222222222,
              "#7201a8"
             ],
             [
              0.3333333333333333,
              "#9c179e"
             ],
             [
              0.4444444444444444,
              "#bd3786"
             ],
             [
              0.5555555555555556,
              "#d8576b"
             ],
             [
              0.6666666666666666,
              "#ed7953"
             ],
             [
              0.7777777777777778,
              "#fb9f3a"
             ],
             [
              0.8888888888888888,
              "#fdca26"
             ],
             [
              1,
              "#f0f921"
             ]
            ],
            "type": "contour"
           }
          ],
          "contourcarpet": [
           {
            "colorbar": {
             "outlinewidth": 0,
             "ticks": ""
            },
            "type": "contourcarpet"
           }
          ],
          "heatmap": [
           {
            "colorbar": {
             "outlinewidth": 0,
             "ticks": ""
            },
            "colorscale": [
             [
              0,
              "#0d0887"
             ],
             [
              0.1111111111111111,
              "#46039f"
             ],
             [
              0.2222222222222222,
              "#7201a8"
             ],
             [
              0.3333333333333333,
              "#9c179e"
             ],
             [
              0.4444444444444444,
              "#bd3786"
             ],
             [
              0.5555555555555556,
              "#d8576b"
             ],
             [
              0.6666666666666666,
              "#ed7953"
             ],
             [
              0.7777777777777778,
              "#fb9f3a"
             ],
             [
              0.8888888888888888,
              "#fdca26"
             ],
             [
              1,
              "#f0f921"
             ]
            ],
            "type": "heatmap"
           }
          ],
          "heatmapgl": [
           {
            "colorbar": {
             "outlinewidth": 0,
             "ticks": ""
            },
            "colorscale": [
             [
              0,
              "#0d0887"
             ],
             [
              0.1111111111111111,
              "#46039f"
             ],
             [
              0.2222222222222222,
              "#7201a8"
             ],
             [
              0.3333333333333333,
              "#9c179e"
             ],
             [
              0.4444444444444444,
              "#bd3786"
             ],
             [
              0.5555555555555556,
              "#d8576b"
             ],
             [
              0.6666666666666666,
              "#ed7953"
             ],
             [
              0.7777777777777778,
              "#fb9f3a"
             ],
             [
              0.8888888888888888,
              "#fdca26"
             ],
             [
              1,
              "#f0f921"
             ]
            ],
            "type": "heatmapgl"
           }
          ],
          "histogram": [
           {
            "marker": {
             "pattern": {
              "fillmode": "overlay",
              "size": 10,
              "solidity": 0.2
             }
            },
            "type": "histogram"
           }
          ],
          "histogram2d": [
           {
            "colorbar": {
             "outlinewidth": 0,
             "ticks": ""
            },
            "colorscale": [
             [
              0,
              "#0d0887"
             ],
             [
              0.1111111111111111,
              "#46039f"
             ],
             [
              0.2222222222222222,
              "#7201a8"
             ],
             [
              0.3333333333333333,
              "#9c179e"
             ],
             [
              0.4444444444444444,
              "#bd3786"
             ],
             [
              0.5555555555555556,
              "#d8576b"
             ],
             [
              0.6666666666666666,
              "#ed7953"
             ],
             [
              0.7777777777777778,
              "#fb9f3a"
             ],
             [
              0.8888888888888888,
              "#fdca26"
             ],
             [
              1,
              "#f0f921"
             ]
            ],
            "type": "histogram2d"
           }
          ],
          "histogram2dcontour": [
           {
            "colorbar": {
             "outlinewidth": 0,
             "ticks": ""
            },
            "colorscale": [
             [
              0,
              "#0d0887"
             ],
             [
              0.1111111111111111,
              "#46039f"
             ],
             [
              0.2222222222222222,
              "#7201a8"
             ],
             [
              0.3333333333333333,
              "#9c179e"
             ],
             [
              0.4444444444444444,
              "#bd3786"
             ],
             [
              0.5555555555555556,
              "#d8576b"
             ],
             [
              0.6666666666666666,
              "#ed7953"
             ],
             [
              0.7777777777777778,
              "#fb9f3a"
             ],
             [
              0.8888888888888888,
              "#fdca26"
             ],
             [
              1,
              "#f0f921"
             ]
            ],
            "type": "histogram2dcontour"
           }
          ],
          "mesh3d": [
           {
            "colorbar": {
             "outlinewidth": 0,
             "ticks": ""
            },
            "type": "mesh3d"
           }
          ],
          "parcoords": [
           {
            "line": {
             "colorbar": {
              "outlinewidth": 0,
              "ticks": ""
             }
            },
            "type": "parcoords"
           }
          ],
          "pie": [
           {
            "automargin": true,
            "type": "pie"
           }
          ],
          "scatter": [
           {
            "marker": {
             "colorbar": {
              "outlinewidth": 0,
              "ticks": ""
             }
            },
            "type": "scatter"
           }
          ],
          "scatter3d": [
           {
            "line": {
             "colorbar": {
              "outlinewidth": 0,
              "ticks": ""
             }
            },
            "marker": {
             "colorbar": {
              "outlinewidth": 0,
              "ticks": ""
             }
            },
            "type": "scatter3d"
           }
          ],
          "scattercarpet": [
           {
            "marker": {
             "colorbar": {
              "outlinewidth": 0,
              "ticks": ""
             }
            },
            "type": "scattercarpet"
           }
          ],
          "scattergeo": [
           {
            "marker": {
             "colorbar": {
              "outlinewidth": 0,
              "ticks": ""
             }
            },
            "type": "scattergeo"
           }
          ],
          "scattergl": [
           {
            "marker": {
             "colorbar": {
              "outlinewidth": 0,
              "ticks": ""
             }
            },
            "type": "scattergl"
           }
          ],
          "scattermapbox": [
           {
            "marker": {
             "colorbar": {
              "outlinewidth": 0,
              "ticks": ""
             }
            },
            "type": "scattermapbox"
           }
          ],
          "scatterpolar": [
           {
            "marker": {
             "colorbar": {
              "outlinewidth": 0,
              "ticks": ""
             }
            },
            "type": "scatterpolar"
           }
          ],
          "scatterpolargl": [
           {
            "marker": {
             "colorbar": {
              "outlinewidth": 0,
              "ticks": ""
             }
            },
            "type": "scatterpolargl"
           }
          ],
          "scatterternary": [
           {
            "marker": {
             "colorbar": {
              "outlinewidth": 0,
              "ticks": ""
             }
            },
            "type": "scatterternary"
           }
          ],
          "surface": [
           {
            "colorbar": {
             "outlinewidth": 0,
             "ticks": ""
            },
            "colorscale": [
             [
              0,
              "#0d0887"
             ],
             [
              0.1111111111111111,
              "#46039f"
             ],
             [
              0.2222222222222222,
              "#7201a8"
             ],
             [
              0.3333333333333333,
              "#9c179e"
             ],
             [
              0.4444444444444444,
              "#bd3786"
             ],
             [
              0.5555555555555556,
              "#d8576b"
             ],
             [
              0.6666666666666666,
              "#ed7953"
             ],
             [
              0.7777777777777778,
              "#fb9f3a"
             ],
             [
              0.8888888888888888,
              "#fdca26"
             ],
             [
              1,
              "#f0f921"
             ]
            ],
            "type": "surface"
           }
          ],
          "table": [
           {
            "cells": {
             "fill": {
              "color": "#EBF0F8"
             },
             "line": {
              "color": "white"
             }
            },
            "header": {
             "fill": {
              "color": "#C8D4E3"
             },
             "line": {
              "color": "white"
             }
            },
            "type": "table"
           }
          ]
         },
         "layout": {
          "annotationdefaults": {
           "arrowcolor": "#2a3f5f",
           "arrowhead": 0,
           "arrowwidth": 1
          },
          "autotypenumbers": "strict",
          "coloraxis": {
           "colorbar": {
            "outlinewidth": 0,
            "ticks": ""
           }
          },
          "colorscale": {
           "diverging": [
            [
             0,
             "#8e0152"
            ],
            [
             0.1,
             "#c51b7d"
            ],
            [
             0.2,
             "#de77ae"
            ],
            [
             0.3,
             "#f1b6da"
            ],
            [
             0.4,
             "#fde0ef"
            ],
            [
             0.5,
             "#f7f7f7"
            ],
            [
             0.6,
             "#e6f5d0"
            ],
            [
             0.7,
             "#b8e186"
            ],
            [
             0.8,
             "#7fbc41"
            ],
            [
             0.9,
             "#4d9221"
            ],
            [
             1,
             "#276419"
            ]
           ],
           "sequential": [
            [
             0,
             "#0d0887"
            ],
            [
             0.1111111111111111,
             "#46039f"
            ],
            [
             0.2222222222222222,
             "#7201a8"
            ],
            [
             0.3333333333333333,
             "#9c179e"
            ],
            [
             0.4444444444444444,
             "#bd3786"
            ],
            [
             0.5555555555555556,
             "#d8576b"
            ],
            [
             0.6666666666666666,
             "#ed7953"
            ],
            [
             0.7777777777777778,
             "#fb9f3a"
            ],
            [
             0.8888888888888888,
             "#fdca26"
            ],
            [
             1,
             "#f0f921"
            ]
           ],
           "sequentialminus": [
            [
             0,
             "#0d0887"
            ],
            [
             0.1111111111111111,
             "#46039f"
            ],
            [
             0.2222222222222222,
             "#7201a8"
            ],
            [
             0.3333333333333333,
             "#9c179e"
            ],
            [
             0.4444444444444444,
             "#bd3786"
            ],
            [
             0.5555555555555556,
             "#d8576b"
            ],
            [
             0.6666666666666666,
             "#ed7953"
            ],
            [
             0.7777777777777778,
             "#fb9f3a"
            ],
            [
             0.8888888888888888,
             "#fdca26"
            ],
            [
             1,
             "#f0f921"
            ]
           ]
          },
          "colorway": [
           "#636efa",
           "#EF553B",
           "#00cc96",
           "#ab63fa",
           "#FFA15A",
           "#19d3f3",
           "#FF6692",
           "#B6E880",
           "#FF97FF",
           "#FECB52"
          ],
          "font": {
           "color": "#2a3f5f"
          },
          "geo": {
           "bgcolor": "white",
           "lakecolor": "white",
           "landcolor": "#E5ECF6",
           "showlakes": true,
           "showland": true,
           "subunitcolor": "white"
          },
          "hoverlabel": {
           "align": "left"
          },
          "hovermode": "closest",
          "mapbox": {
           "style": "light"
          },
          "paper_bgcolor": "white",
          "plot_bgcolor": "#E5ECF6",
          "polar": {
           "angularaxis": {
            "gridcolor": "white",
            "linecolor": "white",
            "ticks": ""
           },
           "bgcolor": "#E5ECF6",
           "radialaxis": {
            "gridcolor": "white",
            "linecolor": "white",
            "ticks": ""
           }
          },
          "scene": {
           "xaxis": {
            "backgroundcolor": "#E5ECF6",
            "gridcolor": "white",
            "gridwidth": 2,
            "linecolor": "white",
            "showbackground": true,
            "ticks": "",
            "zerolinecolor": "white"
           },
           "yaxis": {
            "backgroundcolor": "#E5ECF6",
            "gridcolor": "white",
            "gridwidth": 2,
            "linecolor": "white",
            "showbackground": true,
            "ticks": "",
            "zerolinecolor": "white"
           },
           "zaxis": {
            "backgroundcolor": "#E5ECF6",
            "gridcolor": "white",
            "gridwidth": 2,
            "linecolor": "white",
            "showbackground": true,
            "ticks": "",
            "zerolinecolor": "white"
           }
          },
          "shapedefaults": {
           "line": {
            "color": "#2a3f5f"
           }
          },
          "ternary": {
           "aaxis": {
            "gridcolor": "white",
            "linecolor": "white",
            "ticks": ""
           },
           "baxis": {
            "gridcolor": "white",
            "linecolor": "white",
            "ticks": ""
           },
           "bgcolor": "#E5ECF6",
           "caxis": {
            "gridcolor": "white",
            "linecolor": "white",
            "ticks": ""
           }
          },
          "title": {
           "x": 0.05
          },
          "xaxis": {
           "automargin": true,
           "gridcolor": "white",
           "linecolor": "white",
           "ticks": "",
           "title": {
            "standoff": 15
           },
           "zerolinecolor": "white",
           "zerolinewidth": 2
          },
          "yaxis": {
           "automargin": true,
           "gridcolor": "white",
           "linecolor": "white",
           "ticks": "",
           "title": {
            "standoff": 15
           },
           "zerolinecolor": "white",
           "zerolinewidth": 2
          }
         }
        },
        "title": {
         "text": "Confidence in the change of the number of beers rated in each category <br>between the first 50 and last 50 ratings per cluster<br><sup>Heatmap of -log10(pval) (with pval > 0.05 clipped to 1 and pval < 1e-20 clipped to 1e-20)</sup>"
        },
        "xaxis": {
         "anchor": "y",
         "constrain": "domain",
         "domain": [
          0,
          1
         ],
         "scaleanchor": "y",
         "title": {
          "text": "Category"
         }
        },
        "yaxis": {
         "anchor": "x",
         "autorange": "reversed",
         "constrain": "domain",
         "domain": [
          0,
          1
         ],
         "title": {
          "text": "Clusters"
         }
        }
       }
      }
     },
     "metadata": {},
     "output_type": "display_data"
    }
   ],
   "source": [
    "df_pval = mean_user.iloc[:,30:35].T.copy()\n",
    "pval = df_pval.to_numpy()\n",
    "#print(pval.dtypes)\n",
    "\n",
    "# pval = pval[pval > 0.05]\n",
    "\n",
    "pval[pval < 1e-20] = 1e-20\n",
    "pval[pval > 0.05] = 1\n",
    "pval = -np.log10(pval)\n",
    "pval = np.round(pval,2)\n",
    "\n",
    "\n",
    "#pval.iloc[4,14] = max(pval)Plot Title <br><sup>Plot Subtitle</sup>\n",
    "fig = px.imshow(pval, text_auto=True, title=\"Confidence in the change of the number of beers rated in each category <br>\"\\\n",
    "                                            \"between the first 50 and last 50 ratings per cluster<br><sup>\"\\\n",
    "                                            \"Heatmap of -log10(pval) (with pval > 0.05 clipped to 1 and pval < 1e-20 clipped to 1e-20)</sup>\",\n",
    "                labels=dict(x=\"Category\", y=\"Clusters\", color=\"Pvalue\"),\n",
    "                x=df_pval.columns.values,\n",
    "                y=list(idx.keys()),\n",
    "               )\n",
    "#plt.figtext(0.5, 0.01, \"fdnpobfsubgpafbagèaiègs\")\n",
    "\n",
    "fig.update_layout(coloraxis_colorbar=dict(\n",
    "    title=\"-log(Pvalue)\",\n",
    "    tickvals=[1,5,10,20],\n",
    "    ticktext=[\"1\", \"5\", \"10\", \"20\"],\n",
    "))\n",
    "\n",
    "\n",
    "fig.show()\n",
    "fig.write_html(\"heatmap_pval.html\")"
   ]
  },
  {
   "cell_type": "code",
   "execution_count": 73,
   "metadata": {},
   "outputs": [],
   "source": [
    "user_to_cat_first['cluster_assigned']=user_to_cat_first['first_50_cluster'].apply(lambda idx: reverse_mapping[idx])"
   ]
  },
  {
   "cell_type": "code",
   "execution_count": 74,
   "metadata": {},
   "outputs": [
    {
     "name": "stdout",
     "output_type": "stream",
     "text": [
      "the variance explained by the 3 first principal components are [0.43681178 0.23533086 0.10548838] (respectively)\n"
     ]
    }
   ],
   "source": [
    "#plot by using pca methods in order to have a visualization of our clustering\n",
    "pca_3 = PCA(n_components=3)\n",
    "User_modify_3=pca_3.fit_transform(user_to_cat_first[user_to_cat_first.columns[0:15]].values)\n",
    "\n",
    "print('the variance explained by the 3 first principal components are',pca_3.explained_variance_ratio_,'(respectively)')"
   ]
  },
  {
   "cell_type": "code",
   "execution_count": 75,
   "metadata": {},
   "outputs": [],
   "source": [
    "User_modify_3=pd.DataFrame( User_modify_3)\n",
    "User_modify_3.columns=['Principal component 1','Principal component 2','Principal component 3']\n",
    "User_modify_3['cluster_assigned']=user_to_cat_first['cluster_assigned'].values"
   ]
  },
  {
   "cell_type": "code",
   "execution_count": 76,
   "metadata": {},
   "outputs": [
    {
     "data": {
      "application/vnd.plotly.v1+json": {
       "config": {
        "plotlyServerURL": "https://plot.ly"
       },
       "data": [
        {
         "hovertemplate": "cluster_assigned=Jean-Michel IPA<br>Principal component 1=%{x}<br>Principal component 2=%{y}<br>Principal component 3=%{z}<extra></extra>",
         "legendgroup": "Jean-Michel IPA",
         "marker": {
          "color": "#636efa",
          "opacity": 1,
          "symbol": "circle"
         },
         "mode": "markers",
         "name": "Jean-Michel IPA",
         "scene": "scene",
         "showlegend": true,
         "type": "scatter3d",
         "x": [
          18.047276169860403,
          10.698707118801472,
          14.366790129848162,
          20.334697631944472,
          9.356338086926266,
          8.655288284378242,
          17.71444520710842,
          10.114679357967002,
          6.166280684933846,
          6.049096061744335,
          5.619845248214972,
          16.794430858121324,
          5.880583384181546,
          7.746876683720756,
          17.979240833091083,
          5.559710538729038,
          12.155158095921221,
          18.463781073077644,
          6.756809284146439,
          4.993708102097297,
          10.447766152807073,
          9.700576988143554,
          9.250369570867887,
          5.75494703621575,
          9.211511351055304,
          7.644808928253242,
          18.145296453827243,
          14.768102300707127,
          9.116512634677639,
          10.396799336856704,
          7.047082740086028,
          11.146230280565103,
          12.24641585639175,
          12.764338947228417,
          32.07893581593935,
          7.2702136544920535,
          18.276545196061818,
          19.884660426721112,
          5.000696446611797,
          12.272352312079018,
          8.26244507203079,
          9.896878109726634,
          21.070378396914965,
          15.972147270584761,
          20.45622951537051,
          20.25559805838711,
          13.776698137894256,
          10.736991760682923,
          8.11111948696855,
          16.397341062902523,
          19.369566194167422,
          10.131086914063825,
          7.610984816417259,
          15.291477556894467,
          10.049474956659326,
          10.327794021594356,
          5.4920219850489245,
          23.509170023054843,
          18.557040565637543,
          7.549733008426623,
          9.631558200042162,
          12.57818646039738,
          5.429657729166751,
          6.330504665279921,
          7.282159983027071,
          13.462803512722903,
          16.81451824669835,
          20.13186866717843,
          18.047881386921496,
          11.717122973987482,
          17.909659677945342,
          10.131227130283271,
          9.89493691448244,
          4.992422539121876,
          12.266345747542683,
          17.81414760952938,
          7.469127577148792,
          20.750461078565756,
          8.692064414758722,
          21.774714044683893,
          20.540249782396316,
          25.383199411977962,
          5.303965238403497,
          9.524267037670574,
          23.923063465660164,
          6.155714527311302,
          15.545831616321015,
          5.027143894005639,
          17.805402100528315,
          20.383439282805163,
          11.670074987791988,
          8.624719548670502,
          12.632790311190687,
          4.289739125229663,
          11.326783367737574,
          5.541612259348251,
          4.741326729432978,
          17.791674213340293,
          5.603051621695718,
          17.826270717924093,
          6.0475736553495185,
          10.42378196078432,
          9.393921124331381,
          16.778985429708598,
          11.814816124894499,
          8.75768897202222,
          11.322101292736226,
          10.339555620752853,
          13.068839751520134,
          7.184598718627602,
          4.96691063347641,
          15.1359390497728,
          5.923413144620832,
          14.667616564811029,
          4.380975177321031,
          5.5795751135123055,
          16.357066846448383,
          11.332177060359097,
          8.409127058409796,
          16.183649655090335,
          12.174955562729819,
          5.474570285312143,
          6.550778670606162,
          20.47384344968768,
          8.158876770537479,
          4.972612655100632,
          12.810224841998457,
          15.24971725890611,
          6.201974470562084,
          17.553534952770182,
          5.322809886506803,
          15.446298687821587,
          22.648201593679147,
          9.417237858139083,
          16.46009741299536,
          5.999759114723332,
          20.56669048473368,
          13.652685008815189,
          13.61017917614934,
          5.810049436747832,
          19.571727917975966,
          8.603096137425045,
          6.650455286722625,
          7.15715237263488,
          5.473909391539553,
          3.8542338797326097,
          13.248608228805164,
          17.454389164472666,
          15.213920988711573,
          14.1588803774304,
          11.757140463882177,
          8.31534722635679,
          7.929130848695319,
          12.96162744562189,
          9.33093908233339,
          8.086439741047117,
          15.662894895312428,
          5.593086011153997,
          5.936984097751996,
          12.657457656817753,
          21.56735974824311,
          20.50434815792579,
          9.820986956420732,
          17.042322964966885,
          17.70982352120258,
          9.30957078527298,
          6.865011335217542,
          10.922984850142281,
          26.10697944597558,
          20.26129462351256,
          6.740041468404482,
          8.317677189196118,
          7.216827933749128,
          11.13140292205426,
          8.833767157790835,
          11.972114412453172,
          7.29433037402453,
          10.48142130508313,
          6.57437041147103,
          13.020617025840263,
          27.161990147089583,
          16.379661543563415,
          9.127093022898174,
          11.679198157637764,
          5.25213826144301,
          7.624436541881523,
          10.547284858384966,
          14.048072328864814,
          6.73745412309138,
          18.01540816197625,
          8.067643033824014,
          16.214820955390056,
          7.993716913678655,
          11.768667554731955,
          19.97345595048518,
          14.840546548547803,
          7.083890315505076,
          16.527281207669244,
          9.00123694775691,
          10.402157705031929,
          7.32350044080519,
          5.285556017795202,
          8.407581831494964,
          6.9182790950375965,
          14.07656014180583,
          9.097284143895338,
          15.568022034040881,
          22.25171644449756,
          12.234276295298752,
          19.499429189329703,
          12.153765222546138,
          6.648390838400487,
          15.176727549551174,
          8.435280335189796,
          11.516517285465063,
          7.042118933667277,
          10.26616842696589,
          14.33476528847584,
          8.44915695860678,
          11.998425884241874,
          9.369122821657273,
          26.463624599835292,
          19.47322498738225,
          12.396696481030487,
          5.357749015393857,
          6.169460993699712,
          11.413407570220533,
          13.798101076131978,
          5.672102758812081,
          25.508080001806395,
          7.274830366241097,
          6.468018109329305,
          7.6741296709698466,
          9.71467081375147,
          5.563711581296732,
          12.762611266058117,
          11.548984175885217,
          8.008118919733693,
          7.276088832711902
         ],
         "y": [
          -4.419624294990724,
          6.0371397680677275,
          1.5656462160056543,
          -4.850009065806117,
          -2.8788613749561587,
          -2.583702030969026,
          -4.288247713719969,
          -3.7626799126935775,
          3.6485377421250096,
          2.4466778455208957,
          -1.9370473869740912,
          -9.057563394417485,
          -4.114145694501057,
          5.235397228547385,
          -7.679186324118836,
          -1.594554895833013,
          -6.071765781859789,
          -7.296703520817749,
          -0.7080336358233814,
          -3.4002422743133844,
          3.5362270018742272,
          7.710512579182931,
          -1.0371887127190464,
          0.5180770724441108,
          0.6620979579166656,
          -1.2824884235769467,
          0.10543326164141771,
          -1.1720587444321222,
          0.5398859704276165,
          -6.340835247958662,
          -7.660670750366521,
          -5.16459070951431,
          -3.112136950842317,
          -6.6601269180575695,
          -7.297039673253574,
          -0.621772726027538,
          -8.23124787720087,
          -2.5016034454885285,
          -2.1636531705909143,
          0.8058621405039825,
          -1.5609105733903572,
          -5.6205587483975945,
          -6.711857861839271,
          -0.09706183292137995,
          -5.8773789096135785,
          -5.114502797575493,
          -6.3816458305817845,
          2.841920877724066,
          0.8567306850377358,
          -6.320045238207306,
          -3.5790675093482265,
          -2.3630787626871723,
          1.7694070179918908,
          5.715794676002293,
          -5.000385904509851,
          0.8126202825051264,
          -7.899285533550731,
          -8.873727829513948,
          2.0941441734415616,
          0.9970622014454197,
          0.36222465598050446,
          -4.713514621266279,
          -0.3589691383362818,
          -2.041222426982402,
          0.5348423538975801,
          -5.791084396503944,
          -4.244699302005422,
          1.3828724702282063,
          -6.3689870539718445,
          5.177881465989477,
          -6.432558140265425,
          -0.5844867369973233,
          4.5679185782250045,
          -6.849429174490426,
          3.098843480703696,
          -9.928833346884833,
          -0.8722569059443751,
          0.35695604404311415,
          2.877855041515982,
          -6.315192486859072,
          3.6623183301244575,
          -4.481664306512201,
          -1.3053364772756884,
          4.016386952666093,
          -4.843325606976594,
          2.4591530944988067,
          1.755365913609876,
          -0.3487528493151964,
          -3.3664257830734963,
          -8.247440272449413,
          -8.677681522240748,
          -1.7714477599138925,
          -3.0674123459169644,
          -4.656121377475809,
          -1.1749600407505414,
          0.9871960600364806,
          -3.796841668522513,
          0.8828693050823091,
          -3.581255097783291,
          -3.2501991505491805,
          2.210302710209845,
          -1.663647007259877,
          3.624707036520624,
          -5.972668445556224,
          -6.433656299327209,
          -5.190333040372988,
          -4.5565854470798355,
          -2.8282224536680665,
          -1.0948825502783797,
          -7.668738464520321,
          -0.7780156923340503,
          0.36451814432813917,
          -3.6016457174407663,
          -0.7664808307243276,
          1.940982989270892,
          3.1460646684602156,
          -1.9214719083081264,
          -0.8921267320081037,
          -1.977825796027445,
          0.3096683295345913,
          -2.0376537796136533,
          0.5890657331373169,
          -3.152979868296142,
          -2.350312481511363,
          3.674018463337505,
          -1.3423433213092768,
          -3.58432273283275,
          -0.2597329042499518,
          -0.9840676868642612,
          -7.398877601680221,
          -5.913266569871393,
          -6.763213307664076,
          -6.696187202399642,
          -4.263873191130916,
          -6.692649348057564,
          -8.989089071232518,
          -2.6122050972051145,
          1.7144009918051208,
          -6.081817934124858,
          -4.985336149445261,
          3.0370282438702425,
          3.6994181524937444,
          -2.839245008243808,
          -5.558878456672217,
          0.8216055827440009,
          -6.164169454005549,
          -1.9774451508864843,
          0.30658265138497454,
          1.1712865203954304,
          -6.509865524186973,
          -4.502616879708008,
          1.1695711019140218,
          -8.952665709797394,
          -7.051603836229919,
          -5.605954034120215,
          -5.637784442148345,
          -9.093583289560724,
          -0.28917330680959197,
          -3.5739314540912384,
          3.0904944347741297,
          -4.4657038846614405,
          -5.801999226198536,
          2.752254015142329,
          -3.4331713400510395,
          -5.151154295214526,
          4.794141206444299,
          -2.386181883206197,
          -3.6688344138526197,
          -6.2521046508641325,
          -3.0579222797996986,
          -4.141132608176927,
          4.427338787109445,
          -9.133552286474764,
          -6.08399614578138,
          -2.941219383824698,
          -3.589072106101333,
          -0.41943066463670725,
          -5.817948727893447,
          -1.3043878325566163,
          -3.6293805824170877,
          -5.312104662057394,
          0.21695866815291914,
          0.16835583078514116,
          -0.49762837947439226,
          -1.4542106459035746,
          5.8145849435878745,
          6.1087700481121345,
          -1.7639463061654537,
          -0.31979182943798123,
          -7.797433877348121,
          0.8247937734314964,
          -5.3515311490105155,
          0.11145858700663559,
          3.833852084114472,
          -5.3407803042264375,
          -3.9088203338902696,
          -8.1063293883566,
          7.855419329474191,
          -1.476392730689517,
          0.27054240317698863,
          -5.421797094567627,
          -3.4234597555142203,
          4.167169444078178,
          1.5536471451895355,
          2.0842327052338336,
          -2.2077274652275074,
          -8.00009737890432,
          -1.8794510535381672,
          -3.7371797356227656,
          -4.575260682836151,
          -4.118592281906179,
          -3.49905832269341,
          -5.078941210110769,
          2.1080165678850227,
          1.6104559092078772,
          -1.6751757784173833,
          -4.869663817911159,
          -2.8949060578103682,
          -6.678120286079576,
          3.0894904438510267,
          0.8881455547575745,
          -7.425693734663403,
          0.1342630015929291,
          -6.5498758375289015,
          -4.6829865606943075,
          -1.4424589018684342,
          -3.660368197836006,
          -7.215701909875634,
          -4.159923513429032,
          0.8115624485125844,
          4.674199903644595,
          -8.190097839879384,
          -4.817580245887036,
          3.536965181765205,
          2.1767928348941488,
          -2.149799648017763,
          3.16270849603068,
          -3.1305171307655186,
          -1.0195304468124602
         ],
         "z": [
          2.369357722555187,
          3.8496728808449916,
          3.7843482063815923,
          -1.3640427660192445,
          1.0509816351838346,
          -4.128099512359684,
          7.355214808102598,
          -0.7039228705464188,
          -0.3359174084281564,
          -0.9876412528523795,
          0.44225610254343173,
          -6.466021428974039,
          -7.312230160080164,
          0.43379658981279345,
          2.6448545350575148,
          0.5054096718279536,
          -5.275408750116474,
          2.156083209013779,
          1.4664409702039767,
          1.133757256964646,
          2.167510353318413,
          2.2624450285917237,
          1.0222338302425555,
          -5.038149338318565,
          2.1369173357213977,
          5.186385258628785,
          2.6259547150251374,
          3.2848481826373574,
          2.3802989877261127,
          -5.09864836116976,
          -0.8934171761527562,
          1.5197416452293029,
          -1.1886270813833266,
          -6.458072803267217,
          5.452042855036199,
          -0.3614827833263174,
          7.87565085265365,
          2.9374155373775457,
          -0.2562910273919403,
          -2.21560976669408,
          -1.899257137576228,
          -3.033641792589354,
          -0.4319621403237093,
          -0.6019096803171304,
          4.462711677482628,
          0.3141846428428285,
          -1.124469974414893,
          -0.3526057666197179,
          3.6301485871482186,
          -2.3977897095120393,
          0.07891771782549759,
          0.33617439573962316,
          1.5698592026748643,
          2.538557717210222,
          -1.328578877491413,
          -0.49923216613290083,
          -2.7048265294056564,
          -2.4385562627597697,
          2.0500771092209216,
          -1.7215817635458588,
          2.0265989770471013,
          1.5144641581201925,
          -3.3109735475452875,
          -4.656890195284834,
          -1.3733867171402976,
          0.2740393123976687,
          1.5466091121073735,
          5.027870052081818,
          -0.6340039392886849,
          1.3953427022904625,
          -1.2041859585334391,
          0.12278184492007377,
          1.3144141087607268,
          -4.102487166261168,
          2.6347270452879132,
          -6.902882779655136,
          1.434490763123792,
          2.8381852224925628,
          2.341816750048814,
          2.241727792727963,
          5.89426690678599,
          1.7765685759520988,
          -3.626014845644145,
          -0.0035628006999560116,
          2.1928964452486452,
          0.02134961833611314,
          3.310151602626367,
          -1.4724626351598604,
          5.2641044206870555,
          1.0457710422796727,
          -3.392446169366347,
          -1.9028676741607735,
          2.338078125335225,
          0.31197229375673524,
          -0.13633818635471076,
          -1.7470561309143995,
          -2.9463211203200084,
          2.302568026656009,
          -0.5727029512088799,
          4.095770319188344,
          0.5658750786323514,
          -4.947178304777707,
          -1.7617333599935172,
          0.8845970263427139,
          4.190888360694766,
          4.448676506830734,
          -2.050265512865012,
          -3.824632698881911,
          0.9693360447272821,
          4.710158617208255,
          0.8998972622118375,
          4.151865102846515,
          -0.4815914304926019,
          5.94339130870162,
          2.128642829206896,
          1.9720054520161934,
          -1.366710440596147,
          -2.116113710345472,
          -1.4686960966284657,
          2.1092994997738375,
          -1.7057108087104695,
          -2.7990050168530094,
          0.13092620596754623,
          0.6578188449104491,
          2.472859092752213,
          3.990888059571889,
          -1.5176253296075293,
          1.5688923162336803,
          -1.8645842098008951,
          -4.316628258029004,
          -5.981191471449579,
          1.1543270378718513,
          3.2329259768357823,
          -3.740987490803361,
          2.0657314460463034,
          2.168000674000681,
          -0.005551667766967074,
          0.8068832368179552,
          -5.499047444384757,
          2.946625014083283,
          4.6601975355750955,
          -0.5309279619408683,
          -0.725496501495464,
          1.0603117850928705,
          -3.7601648841476787,
          7.600497890420595,
          2.634028001716925,
          4.403645385389379,
          3.409778309293357,
          -2.261845906726564,
          1.3108442780677687,
          -1.4821419893698378,
          0.5960467813156967,
          2.174330904783188,
          7.988212612758023,
          0.7909243001613862,
          3.0545093812501363,
          -5.9360724095438195,
          -4.368770262994832,
          2.477960183385943,
          0.6292009591180733,
          -1.7043282037225196,
          6.261629095879327,
          1.275742440041896,
          -2.7823384182880853,
          0.36855803103464396,
          -0.8045827108212679,
          -0.9020686398713144,
          3.272055761717143,
          1.9235928284737223,
          -0.632357391982555,
          1.235271032075941,
          -6.614470240067391,
          -6.324132321258868,
          -0.1943932906297401,
          0.10786985154072305,
          -0.9510270961525685,
          -0.2176751660627998,
          1.7771292039180662,
          0.9326717085068026,
          2.805879896455105,
          1.6608159926421668,
          -0.2912043895168264,
          -1.364721695912205,
          -1.8079640645822517,
          1.7256434715563262,
          5.029362595567613,
          4.0440037311887815,
          -4.287757560989883,
          0.5168643952648371,
          -2.634031377101374,
          0.9720083311253261,
          -0.07955104987058838,
          1.4975325693051609,
          1.8701528127430034,
          1.9196605590932194,
          -0.8322054704842583,
          5.418777283551918,
          0.7897584865367845,
          -1.47497645203138,
          -1.840897995732889,
          1.930066643050764,
          2.3679654948720783,
          -0.55477987556283,
          3.1469901068987105,
          -1.0408188968798124,
          2.4589412704879563,
          3.4857883642093133,
          5.574810404829253,
          1.3877491862571372,
          -0.9177870034791326,
          -1.957723790502836,
          -1.4631340110675544,
          0.8492127444495182,
          -1.6478549105706364,
          0.5713065154773465,
          1.006278288191964,
          -2.8134465160770987,
          -1.4553910131188392,
          1.4255393514619197,
          0.845619904164059,
          0.9196858083103849,
          2.583542193348464,
          1.2028965963729241,
          -1.5968032475972027,
          -1.7154134390667268,
          -3.2049371875349615,
          -2.0600800828709254,
          -4.157688045161508,
          5.855580601481958,
          -1.4518201890545008,
          -2.2454411537669348,
          -0.7950671901461964,
          -0.978579804069502,
          -3.754050300057567,
          -0.41520893300314565,
          0.42644491606667667,
          -1.753737135059053,
          -1.6772527760874412
         ]
        },
        {
         "hovertemplate": "cluster_assigned=Ada the explorer<br>Principal component 1=%{x}<br>Principal component 2=%{y}<br>Principal component 3=%{z}<extra></extra>",
         "legendgroup": "Ada the explorer",
         "marker": {
          "color": "#EF553B",
          "opacity": 1,
          "symbol": "circle"
         },
         "mode": "markers",
         "name": "Ada the explorer",
         "scene": "scene",
         "showlegend": true,
         "type": "scatter3d",
         "x": [
          -7.737556683387058,
          -2.571899240053991,
          -11.902931832187939,
          -2.0675626441073716,
          -3.457743906550865,
          -4.922773187484199,
          1.8041331297533882,
          -10.634542315977825,
          -1.1436929525330026,
          -0.7551134305754719,
          2.7562555454424986,
          -2.1003221982067872,
          -3.25172411148191,
          -11.567591749742917,
          -5.513643033859727,
          -1.226094877105101,
          1.9740368926557545,
          -9.893182082731563,
          -5.5532632638865405,
          -9.529793541423457,
          -5.317316887061393,
          -8.561993257415004,
          -5.893675204975103,
          -5.336102924982227,
          1.5735583978221441,
          -8.304019927988962,
          1.0649081259566835,
          -7.645236360956855,
          -3.2510604691425273,
          -5.702971300085913,
          -10.33136197477081,
          4.327159376451329,
          -9.365648103240149,
          -0.296263407802553,
          -0.7005795892515425,
          -1.1588380538379952,
          -6.294733433081711,
          -10.806070251180694,
          -10.039098367267231,
          -7.125743340374856,
          2.580831257007157,
          -2.8016994952989944,
          0.025049418861691354,
          -11.306771347214873,
          0.5992292045511838,
          -4.4207275761856,
          -5.392186996788942,
          -5.7242610839588215,
          -9.553781060039297,
          -8.338366765833813,
          -2.2289279159651203,
          -7.253867015612555,
          2.1334908346863815,
          -0.16916083467819665,
          1.3302181259351695,
          -2.4920838317127156,
          3.6838431052757414,
          2.856918172766858,
          1.6011979906123501,
          -2.418545258638149,
          -1.4052659988350322,
          -7.812887145637959,
          0.4717230748874489,
          -1.8301446618437798,
          -9.135614730395021,
          -5.734812436811006,
          -8.614953215066482,
          -5.225772946328465,
          3.9237436281482148,
          -8.758366407121322,
          3.692591479139688,
          2.1319998006292287,
          4.796092810992488,
          2.1946816814828285,
          -0.9677046878005466,
          -7.251837145615793,
          -3.5091205378998533,
          4.350914528992432,
          -0.29729918093127855,
          1.7659045699808846,
          -0.18061051324735333,
          3.5447241171860955,
          -0.5411515506119234,
          1.6354126644397657,
          -4.038489760358261,
          -0.5134524612704044,
          -3.2883449358378924,
          -3.9662386760629627,
          -1.3875300041091765,
          -5.44794030585495,
          -2.659758146904605,
          -2.988030217649477,
          2.620173398073164,
          -5.212123764639772,
          -1.0717158755355325,
          -8.49024714707347,
          0.7952697816397403,
          -7.029521506289077,
          -6.829830437117091,
          3.361920888495831,
          2.0536042122233154,
          4.04651223637708,
          2.943545530793444,
          -6.268725417507116,
          -4.750797163074144,
          3.469651447496471,
          0.3358142128184588,
          -3.750781536219787,
          3.7366929333767076,
          4.079086278435397,
          2.859139947290752,
          1.1156102619477994,
          -4.745462550034213,
          -7.485855138744763,
          -4.980824305714861,
          -6.576765285090492,
          -5.394262114392063,
          -3.4733190991953946,
          -3.81393817807685,
          -9.521491806637203,
          -0.14979787021094124,
          2.3430737815133034,
          -11.132211045065716,
          -2.6122766021335555,
          3.3186670361382524,
          0.6385338236675416,
          -5.349404450059817,
          -5.4808987137739775,
          -4.256532491059013,
          -6.007223236340784,
          4.110913664792896,
          -1.889488389569542,
          -10.964137774135322,
          1.1410033424457116,
          -4.645234366445191,
          1.305870756922489,
          -3.618317936042595,
          -7.686567791995918,
          -0.8788652620362427,
          -6.053189880889184,
          -1.4569041457721927,
          -8.520621978895662,
          -0.8867788219945786,
          -3.7222852864216325,
          -0.6969478704959334,
          2.218061442864622,
          -7.160272729522116,
          -2.721069384080811,
          -7.870957935643714,
          -8.154982295864848,
          -6.195367959992361,
          -5.318570329938339,
          -2.273463482248271,
          -5.7887305080689115,
          -4.371926573294243,
          -8.610319225293306,
          -5.682983172106312,
          0.12422228282352142,
          -2.973007192991973,
          -0.6926987050434454,
          2.1288622922369043,
          -0.14674755513376372,
          2.164500733536787,
          2.4074149000911076,
          -4.950810453348349,
          -3.630934900376864,
          -9.883700229029198,
          1.8869465183647869,
          -5.496544199736219,
          -1.8222328450378802,
          1.9985981096263712,
          -3.936261874510061,
          -1.350486168356924,
          3.045884736584332,
          -6.833538581452506,
          2.030653743628841,
          -1.7627615229678724,
          -7.233725734747027,
          -4.147447964738612,
          0.7592402458382806,
          -7.4092945176780365,
          -7.975733922728088,
          -3.236218153779535,
          0.01441795692914267,
          -0.711457146841569,
          -5.836836032368113,
          -7.966097910383724,
          2.012259404413482,
          3.175041090767613,
          2.434856991955859,
          -3.1214915508672907,
          -1.5218219402635407,
          3.4850744565096514,
          -3.272792861848833,
          -3.4672088804412327,
          -0.4529641158120802,
          -2.589235496405335,
          -4.216805475196334,
          -11.928062553166622,
          0.4500050830195295,
          -8.333703043770225,
          2.6207477720605286,
          0.27754176883040127,
          -0.33825704207900265,
          4.259867122760705,
          -1.4723812062931625,
          -6.180878673455897,
          0.42850181554324973,
          -7.323465150575336,
          -7.413270584257141,
          -4.708740104625652,
          -9.242565970049002,
          -10.489323275339586,
          -3.75191694314956,
          -0.2666308669534778,
          2.620577576752963,
          -5.158186869384343,
          -2.9764520807689587,
          -2.4369265333525165,
          4.351380322915433,
          -6.938748198969523,
          -11.53118885862599,
          1.7320563655678045,
          -3.403186079896052,
          -4.60274575391483,
          -7.163490048691833,
          -0.9356346413617128,
          -2.6622473081971654,
          -8.324735940137813,
          -2.2897634484372396,
          -6.581052757085777,
          -7.485584789851566,
          -2.1719915281180873,
          -6.585677696634037,
          -7.766624836260226,
          -7.463019567697951,
          -0.7461589832532762,
          2.2423173324451042,
          2.372780575190477,
          2.3736614251856216,
          -1.2468058523480234,
          -8.726746477403662,
          -1.2932735177498949,
          0.4945814357424264,
          -3.644947200651984,
          -8.168741010333717,
          -1.969637690712225,
          -0.08211905887496092,
          0.39902159563333933,
          0.0486547285451753,
          -5.292031804807581,
          -9.404181452269949,
          -7.933237322088354,
          2.3486640774188894,
          -2.5947057853145274,
          1.9332557008825948,
          -11.707770647084754,
          1.422777810316374,
          -9.492169671436628,
          -7.844020696093535,
          -4.17042461308595,
          1.1571822114879529,
          -2.7965505083552737,
          -4.730115579584207,
          -0.8800575104080194,
          -2.232524681674315,
          -0.17431070395328735,
          -3.290945261285971,
          2.703009998195184,
          0.3682766018340237,
          -6.634671875857909,
          -7.377000693165192,
          -4.568622749966093,
          -5.709539685105744,
          3.380648116171188,
          0.18536442125461675,
          -9.484221405722202,
          2.5532219954870836,
          -0.8288057554509771,
          -5.439886796014928,
          -4.666318488795297,
          -7.863040432644797,
          -10.74742836262814,
          -3.675800219048307,
          -5.988966242376749,
          -6.565775235878098,
          -6.8621512868538,
          -0.7430104797272656,
          -8.800871402358553,
          -2.861906816389263,
          -6.426394632818201,
          -0.679842063607989,
          -1.4831299838597853,
          0.6451258704071235,
          -9.005738724636993,
          -2.187113923640255,
          2.1862919775920546,
          -4.026693659609648,
          0.24694720479289262,
          -8.739221975766077,
          -7.701406830994364,
          -3.043403439421134,
          -9.62082290353136,
          -10.572537634032075,
          1.6851468854494867,
          1.7310164119031044,
          -1.345552597104219,
          -5.54760764033473,
          -0.40766963622943797,
          -8.333261886406572,
          -0.160078163206186,
          -6.666159260784452,
          -0.23282211699970562,
          -9.945163636109168,
          -11.208856453129195,
          -7.899441383246027,
          -3.0702092554945826,
          -8.384878768963704,
          1.1878788816938937,
          -4.48313354745151,
          -6.810237231212124,
          -4.7915559917487345,
          1.9235144625324323,
          -9.272648043576968,
          -1.1618548691186532,
          0.7337729932506339,
          4.8150562754607495,
          -8.883741111038452,
          -7.326487179989322,
          -1.6543470264341826,
          3.03465947173895,
          -2.7380712934866027,
          -9.987971296638266,
          3.546150145994047,
          -0.9967183186856423,
          -11.893111750446154,
          -5.390169972993783,
          -5.049144606721101,
          -1.3114400663832342,
          -3.5565044701063284,
          3.1231927196885216,
          -8.83672592053791,
          -8.030122660297362,
          3.7813295115599597,
          -0.2965407417417029,
          3.5157567095989415,
          -0.7360647802846505,
          2.8616327927940386,
          1.7906251104540067,
          2.9085310282149677,
          -2.4005078554064085,
          -4.060087610305511,
          2.0814978618237068,
          -3.9168705780788735,
          -1.998764564196311,
          -3.116013922202381,
          -2.910459242265256,
          -5.256927182989472,
          -7.727681424347457,
          -7.343626531180383,
          -6.517014613943184,
          -2.7275254175751895,
          -6.481642794497629,
          0.9053274692173903,
          1.4387808353298936,
          -4.834378458841212,
          3.7019288921017077,
          -9.123265269813086,
          -6.777689292727064,
          0.22126897982518703,
          -2.8879102375373313,
          -3.4645153673008915,
          -6.476435513154721,
          -1.3459929389715035,
          -1.930176385285372,
          -6.373983377036538,
          -5.526464788692709,
          0.746885793676206,
          -3.107324959085042,
          -1.5723650885112803,
          -7.20099874761194,
          -8.25603212065656,
          -3.419019878722409,
          1.159246242676681,
          3.2026690975626964,
          -9.286791973045874,
          -1.2927707747441075,
          -6.966955375928108,
          -1.756915609603411,
          -7.581225236011079,
          -7.705890598607419,
          -1.8828054802970315,
          -9.238036164010175,
          -8.645125318402348
         ],
         "y": [
          -1.3489144230419132,
          -0.86594405180789,
          -0.8232903406005,
          -7.585988679586175,
          -1.1026587899141251,
          -0.6630956409312793,
          -0.12417965242950836,
          0.3537549144058854,
          2.6507127519323372,
          -5.682854619686313,
          0.7176884708244475,
          -1.242582324552555,
          -2.4254608822045456,
          4.1698884924509505,
          -2.553133442315259,
          0.8102471808411998,
          -4.768714846564087,
          4.664351414536415,
          -1.7260092145652337,
          -2.0358765341327425,
          -2.2576336404212123,
          -0.48013557020767306,
          -2.561419379011177,
          -0.054526421765043846,
          -3.886227120376314,
          -0.8079307491776645,
          -7.7188288994602825,
          2.809562717289519,
          0.2992310545566745,
          4.527047607167943,
          1.8628320918325787,
          -1.2938713558781127,
          -1.8793180747337606,
          1.674679909421622,
          1.8259075176188637,
          -4.456175589946615,
          -2.5572620743967804,
          -4.048946044474437,
          1.4263877581953734,
          3.181633886381158,
          -8.730768781900684,
          -0.18361984157016373,
          -0.4005225437040926,
          -4.088901793640226,
          0.6498964189604806,
          0.10154232955109643,
          0.900734127756037,
          2.0362910844512347,
          3.845727338207755,
          -3.4603896097728692,
          0.2739670615080244,
          0.9128244339421564,
          -3.0312147636952225,
          2.675034506544271,
          -0.7237559700046107,
          -1.7286371042987567,
          -1.6433497052114163,
          3.1207649955681,
          -3.023388570832282,
          -1.7792753504233112,
          -6.602998502437879,
          -2.0220463872198957,
          -3.179602760879669,
          -0.44845035296440616,
          -2.3695290015022046,
          2.79263045952151,
          -2.5278370558970247,
          0.16892098515113696,
          1.4585037299730716,
          1.6532694482843266,
          -3.199330325741881,
          1.0880677522587354,
          0.9950725255881966,
          -0.5516103107419056,
          0.7186391221827205,
          -3.111532717745373,
          0.22355566156680567,
          0.5826873594882843,
          -8.166431291727658,
          2.935637373227459,
          -7.570431241314467,
          -4.617268393256058,
          -1.9146285429159493,
          -4.006634732861738,
          -7.958886771060995,
          -4.729017232807699,
          -3.168850109037232,
          0.7450448054103903,
          -2.379131767850078,
          -4.002045444349639,
          -1.4050137926462014,
          -0.815879727938721,
          -6.34506486301411,
          0.8500302617638588,
          -0.7173056131261166,
          4.249079779756874,
          2.8138038589084715,
          3.7982311701883447,
          -2.144988143870244,
          -7.5366251016914845,
          0.942861817429589,
          2.2123900815622015,
          -2.515670296352597,
          -0.32987620798545086,
          -0.5259987036906713,
          -2.606326203525795,
          3.4112113007398497,
          2.187557078047521,
          -3.3762767890226586,
          1.2726769006642966,
          -2.2104996381318176,
          -1.018732595935588,
          1.4611851463081986,
          5.0424353899936065,
          -1.0508154858201124,
          -2.733170281293561,
          0.24427544568957663,
          -5.437799678750698,
          -3.1945896027221887,
          3.441661382983881,
          -4.671202252987242,
          -2.411495960697369,
          0.42762152099207873,
          -6.606652973904353,
          -2.8732816005368327,
          2.261457998997334,
          -1.7427149067625483,
          2.3078360096689305,
          -7.857058183796432,
          -7.457724268852602,
          -0.8853398130892115,
          5.584039405008052,
          4.112861125429626,
          -3.200913355514906,
          -3.0146126409605056,
          -6.313091033637957,
          1.0779986798983228,
          -0.9439104819943808,
          -8.352575009182193,
          -3.8430695203058653,
          -5.630894241243917,
          -1.2085767416086615,
          -4.514412147385863,
          -0.49909110720712657,
          -6.239011670098761,
          -6.630082779411641,
          -5.286551095812036,
          -3.754130377951867,
          1.591071264512998,
          -2.1002143797732074,
          -6.285266930263458,
          -0.3905240449678445,
          1.0974353921544353,
          3.854374126350069,
          -3.9950081934711577,
          2.6338643447231007,
          2.246135215626581,
          2.458712668348387,
          -4.211521823807334,
          2.8368476713681003,
          -2.287638514316633,
          -6.123052230312185,
          -3.814181112140234,
          -4.753556718064507,
          1.9191329061390574,
          3.7916292457141365,
          2.6807045799525335,
          -4.613134450993254,
          -2.9337974862132388,
          -1.7805447305368967,
          -2.1055113090973614,
          -1.0188011140027564,
          -0.7455260104176349,
          -0.017952848450827244,
          2.3438746260164356,
          -6.400691084757722,
          -4.971550393177603,
          -3.6755642312179977,
          2.4419104191251852,
          -6.097173891238517,
          -2.8039203431848887,
          0.4389495627404364,
          -6.048813923042397,
          2.820021964351582,
          -3.7901458559927375,
          2.1796244232947415,
          2.0007369522485807,
          -3.148959069523083,
          -4.078649109464023,
          -0.04334484969351262,
          2.0912463480627173,
          -7.982838693225816,
          -0.6076997900843562,
          -3.6754604510939872,
          -0.47230808044018663,
          1.690664450250276,
          -1.705822235713265,
          3.6594667803355083,
          -1.1739584072529192,
          0.7833013921315513,
          -0.16794190728931424,
          -2.1924849854185853,
          0.9789598267819722,
          -6.154005302860404,
          -0.8954513779441307,
          -6.095422913307584,
          4.528976619862784,
          -3.8627611664995225,
          2.5950743808877625,
          4.072489589570155,
          -0.2559119888198264,
          0.447008077170337,
          -5.280145428864954,
          0.8029424417380278,
          -1.367920117583788,
          2.2948138371935123,
          0.5122055035365887,
          1.8503443084862947,
          2.1377298535093647,
          2.3423474166058176,
          -7.449442074730165,
          1.7855058266333188,
          3.258758469919148,
          -1.7061491688085781,
          4.165256247350915,
          2.228471134618447,
          -3.1565471819754274,
          1.8231376915957735,
          4.875571486071647,
          -5.330404590358934,
          -0.7788497196288691,
          1.9309572340003893,
          -7.950353217127722,
          -5.180649114835313,
          0.14895027702123792,
          -0.9115501545626719,
          2.1103102065543204,
          -1.2505056843061106,
          -6.72639170132424,
          3.1130246832637565,
          -4.959589101643325,
          2.514645073037387,
          -2.8490831971330053,
          -3.931703552047407,
          1.9736124494043417,
          -4.47479454591531,
          -0.2758254818032471,
          -7.480091509386378,
          -3.3010912723765284,
          2.9966743458396174,
          -0.1671037456632661,
          -2.4290118807727654,
          0.7069434383652337,
          -2.3344984847335555,
          2.3885105006052054,
          -4.743033364811255,
          -1.328160431635016,
          2.1174784750325717,
          2.7265244463687948,
          3.405447541536039,
          1.6787212709259975,
          -4.034308963066254,
          -1.5579659616200865,
          0.12488599843698954,
          -3.9879731551043203,
          -5.241430676933268,
          -1.157963506382777,
          -5.968131094461521,
          -1.2467323027560748,
          0.4118970171716163,
          -0.5130079506454481,
          2.742292806680077,
          -2.452161858637276,
          3.4858330271839373,
          2.420828851469373,
          -4.897768345216763,
          3.97775329878495,
          -6.328799971591588,
          2.5247579137087266,
          -6.695512173601319,
          -3.7684828021367687,
          -0.7323301427207739,
          -0.76773397366166,
          1.9530986356089426,
          0.10858089093871176,
          4.452003756420811,
          4.968615015410607,
          -6.168548322547313,
          4.146814955119404,
          -3.3978851873231704,
          -4.023046404283837,
          -1.7025438375477342,
          -4.7926760813799465,
          -5.762347219282795,
          5.598853236927731,
          -0.8669743421385666,
          -7.368907526855056,
          1.1192897999055986,
          4.7057606586679395,
          -0.8870355585637169,
          0.18979368686896267,
          0.5231503948236824,
          -2.622397382373372,
          -1.6173801927672842,
          -2.769948293066945,
          1.1564706185765945,
          -3.6295066125383535,
          -2.763946795898776,
          3.3179222170333267,
          4.51361696667546,
          -2.19597428021834,
          -5.153966196468448,
          -4.631934790143153,
          -0.06120926478778867,
          2.465012347969482,
          -2.1015014984752214,
          0.39931381910851993,
          0.45470171303729695,
          -1.2094924996595116,
          1.3038561188482636,
          -0.019009053891237197,
          -7.6304036495996845,
          -2.5636224602599214,
          -3.7978061886846453,
          1.4114650737905674,
          0.19023911701919385,
          -3.1694762500638216,
          5.576098758514823,
          4.610880890011975,
          -0.7451861674263303,
          1.9246246973811634,
          -0.15880316805495057,
          2.5483300666871664,
          -1.3210257951517632,
          -6.366619818017685,
          -4.8016811738116205,
          -0.3101078540974149,
          2.6858747347132628,
          1.8123779462618457,
          -3.376829104106097,
          2.3512467723943433,
          -7.094218706615267,
          1.3805367928875742,
          -0.8147115753753703,
          -0.01676113736613536,
          0.7720453426550371,
          4.9996185865426215,
          0.7413959290380308,
          0.6193154959519785,
          -6.343845700041542,
          0.3271946764282925,
          -7.565623054014774,
          0.5176537135912376,
          0.43394589936577666,
          2.1704932627730544,
          -4.434805856915553,
          -1.035388105655592,
          -4.718246996609003,
          -4.464553593851958,
          -0.845499001891858,
          0.1065959039687598,
          -5.666242392924835,
          -7.842783511589427,
          -3.4372156691712763,
          -2.9267726549401125,
          -0.616249562712099,
          -0.6921832748133255,
          -2.0918040244969665,
          5.238076911109884,
          1.4951014860002698,
          -5.6790550175969425,
          -5.278419954532941,
          -1.0294168753474586,
          -6.021854381839335,
          2.6705504272549954,
          -3.3049312383507607,
          2.9475372482617535,
          -2.144838216827387,
          1.7638374205924598,
          -7.22149546882495,
          -2.0364477211524705,
          -0.5860603775622591,
          0.14260326572578338,
          -4.570469829279858,
          -3.5176574395350593,
          2.0254776102933203,
          -5.231377685284215,
          4.080746399424132,
          -2.5622586434754173,
          -4.737391723977401,
          -3.9790338644900745,
          -0.7292922696871086,
          5.930424859951797,
          4.124796037106012
         ],
         "z": [
          -0.04451045327303699,
          -2.3725181782037676,
          -8.925027823163752,
          -1.306945493888141,
          1.031333846808257,
          -8.172893403746281,
          1.9519777978986583,
          -7.827125390040606,
          -4.999494852599752,
          -2.962789349289641,
          -3.3860002276666865,
          1.833586792230521,
          -2.536733748767503,
          -1.434377834284731,
          1.723736774939701,
          -0.4257070842847235,
          0.5418012576754139,
          -1.7568435629906152,
          -0.5346144958452556,
          -1.0498268579463266,
          -2.7464886035633587,
          -2.8311089060786694,
          -2.595785202732426,
          -3.974638321148212,
          -3.873480108152152,
          -13.376342906528933,
          3.5743911769318006,
          -4.912957350817173,
          2.5852502057897624,
          -3.5194965379924907,
          -3.945346229281474,
          -3.989470936515283,
          -5.196756553045289,
          -1.7044155445047218,
          2.9604136721308643,
          0.5901503590613417,
          -1.6608976298096791,
          -5.4462017629042405,
          1.7299207355776418,
          -0.17288903098786645,
          0.14617011576714184,
          0.35549351739842494,
          3.4552183560959904,
          -4.754624945365535,
          0.17871904727719143,
          -1.0852211415894526,
          -6.8720704889494035,
          -8.098905890128151,
          -7.516944739689917,
          -1.3939729898671456,
          -6.76427936612849,
          -2.155105933253774,
          -3.207753384477365,
          -3.9693694202683867,
          3.652156073472784,
          -8.032705319110029,
          -1.9108036821308507,
          -4.648139125132481,
          4.219705532947587,
          3.457719276259655,
          -8.440328067107265,
          -2.022466918635718,
          -4.215885672368203,
          -0.608621645720134,
          -6.8375744158296445,
          2.4309025794474346,
          -1.1071093276919972,
          2.398847857016915,
          -1.0913282784902463,
          -6.7624513313073615,
          -6.056445976386695,
          -2.796714232404318,
          -2.041739953016529,
          2.134353701104987,
          -2.9145349231562965,
          0.7274614969588634,
          -1.6095437944830175,
          -0.9602749784813784,
          -1.6170875215629954,
          0.5860498652233611,
          -7.245803099132909,
          0.2861600835036536,
          -10.033809471632072,
          1.3489905772686734,
          -14.17586560615978,
          -2.8214106202699822,
          1.6801475466615787,
          1.6221319236381697,
          -4.18677916213272,
          2.035586637611716,
          -0.8723407341991303,
          -0.8618128523053935,
          3.670780443779932,
          -2.7498447271724857,
          -3.028723543223837,
          -2.341362926273314,
          -3.67559916674459,
          3.8760384523996265,
          -1.8736206796953672,
          -2.975168847372035,
          2.905842123894684,
          -2.2473438722703403,
          -3.3100163946896677,
          -3.392101297712163,
          -5.861039883817481,
          1.226992779445627,
          -4.310730291466716,
          2.926677418551641,
          -3.101440538084759,
          -0.8846890939187319,
          -2.1994775399033433,
          -0.4145634973723793,
          -4.152210241431665,
          -5.8181675231076895,
          -6.393828982058137,
          -0.6070692645194699,
          -3.1990737742328976,
          -10.071820862315846,
          -2.4901661489470017,
          -5.689827657247146,
          -2.1080322643087928,
          -2.2252664072790576,
          -1.2755966277464417,
          -1.7759525331578716,
          -4.9289381973962705,
          0.2652905548112866,
          3.4277241500675246,
          -0.15400543061968308,
          -6.71623050594451,
          -3.9553152159899625,
          -2.31881033833357,
          -6.137508838215258,
          2.059593950198895,
          -7.321387320025595,
          -2.692095481618992,
          4.304087473474858,
          -6.232063151335969,
          -0.7586589065640856,
          0.6774892283934356,
          -5.03483651948362,
          2.4955833141595023,
          -2.9669216776408294,
          0.34897250828785126,
          -3.5296597032848784,
          3.0816427840372613,
          -1.6320774012660768,
          -2.0695686417286505,
          -2.4824208958765883,
          3.1381286606626166,
          -5.6607301733348825,
          -1.7713973650254746,
          -3.1639042107698874,
          -5.528792326088501,
          -0.35350359279714844,
          -6.423499741850631,
          1.6861117526685536,
          0.30015711989456206,
          -3.126573700911111,
          -0.14556949947328307,
          -6.73836166910443,
          1.9355572982132407,
          -0.8205733460743045,
          -5.868703797985372,
          -6.458068181101151,
          -2.149821193345083,
          -6.064148965938195,
          -9.079308433263735,
          1.050349006419661,
          0.956025241504475,
          -7.510399683491318,
          -3.716908188812544,
          -0.1146743865034515,
          -7.167321833562314,
          2.5686996553409327,
          -8.98619487267517,
          -0.6288244014283867,
          -1.4448651504034966,
          -0.4969432970009481,
          -2.282683560707783,
          0.6771900377982201,
          0.06269614815529997,
          -8.53175530579126,
          -2.6939933129643445,
          -3.7797441284780313,
          -0.6233024158708553,
          -4.66317350420606,
          -1.6820252295729459,
          -6.313278010502177,
          1.334012852093018,
          -3.6117840052344485,
          -2.142701919055904,
          0.22951950334601906,
          0.5347055661307197,
          -6.233323822369651,
          -1.4726477614969602,
          0.5139592160843691,
          -7.916410500845105,
          -0.6178673125852548,
          -6.603619302237541,
          -2.9049646557921363,
          -7.086308046186732,
          -4.906780923929163,
          -2.2203459055306562,
          2.700424670443243,
          -3.7015824054909405,
          4.643078775191928,
          -6.314969732429964,
          -1.8364891053097705,
          -2.4186591387879597,
          -5.344610107245312,
          -1.1227919438878509,
          -8.846951932989725,
          -8.68747855231708,
          -1.8693704253580488,
          -0.0791457702667385,
          -0.37357943312858805,
          -4.817699128143612,
          -3.197047864790969,
          -3.158425931951631,
          -2.3022956801947965,
          -6.456751338625809,
          -7.070022063033356,
          -0.09616476565896001,
          3.1025580373921935,
          -3.9905226011595913,
          -1.3035470563834972,
          -5.337280103995804,
          -3.023100703904964,
          -7.279418629234738,
          -1.1585072972384365,
          -1.9952419260639958,
          1.608743268227955,
          -1.5437873093126633,
          -0.47105515224879013,
          -3.5850833379319154,
          -2.6563253440961803,
          -3.265844471687802,
          -5.592233119176567,
          -8.12945733196107,
          -4.382998608259845,
          -5.792399300884879,
          -6.410785707211404,
          -8.757777143605468,
          -3.0849525858623177,
          -3.0092803881463537,
          -2.237482060275907,
          3.194169305650008,
          -5.718225967991254,
          -2.302827853342422,
          -4.472334283886462,
          4.040837070793765,
          -0.7107398614103698,
          -8.391239110162019,
          -0.3946915951233695,
          -3.9569896585339137,
          -3.4067583016304877,
          -13.213635868412439,
          -2.7207986811858724,
          1.6165698979605563,
          -4.117108000483292,
          -7.902860709298454,
          0.5944488444592961,
          -1.3552821707883906,
          1.5949553718589664,
          -0.9926605065288034,
          -5.114972655063479,
          -0.4656427001939777,
          -0.7337971765321671,
          -3.8405342312160533,
          -1.3248480505552545,
          -9.208948559814008,
          2.0494014921802184,
          -13.936491845423799,
          -5.768078113728126,
          -2.7285382190195024,
          -1.3504690519614597,
          -0.039157435525132615,
          -3.437506260981886,
          -2.8668453727024477,
          -2.689815705604664,
          -4.182191091805674,
          -2.3281750360148648,
          -15.255969895605515,
          -5.0606503719192535,
          -4.668039346120225,
          1.9669695433840724,
          -3.0423015223940912,
          4.405223807401847,
          -3.576049379594122,
          -0.2911402350289449,
          0.2543464323410428,
          0.647708251990591,
          -2.618087193084565,
          1.902947228003306,
          -5.811727181918497,
          -7.534804948150452,
          -3.479085232584909,
          -8.34245445119197,
          -3.800866529029237,
          -1.7818618497735845,
          -0.0826842309686513,
          -4.817155865350071,
          -5.586878631177318,
          -5.078713763110358,
          -1.8120523149225738,
          -0.550599200852939,
          -2.339103903048341,
          -3.783912160965146,
          -2.890795414788842,
          -5.6870225468116935,
          -1.7951747450959137,
          -3.7484659574756316,
          -6.213107358425756,
          -7.553764559965614,
          -5.1327714632512915,
          -5.956537689865697,
          3.5311784671817357,
          -0.9760017996993797,
          -2.4838863864052936,
          1.8279450337836314,
          -4.238728958635626,
          -1.6872387670367066,
          -1.5177245190571886,
          -4.660891359189335,
          0.5619653337198274,
          -2.5624756238465625,
          -6.362299602367947,
          -4.819802595695917,
          -1.8207458373185963,
          -5.779194966391963,
          0.10123921702818316,
          -6.386314381860043,
          -6.430745980059883,
          2.1316378029635135,
          -2.4688642979685964,
          -11.005458437076141,
          -2.9366303091555674,
          -0.11332473500571592,
          -2.9325601298937247,
          -1.6081285765506075,
          -3.06787826583806,
          -5.180538999027823,
          2.119306556830625,
          -0.29331230741834396,
          1.3617278822764172,
          -4.809318155859454,
          -3.6482717562304727,
          0.5063884417318317,
          -2.2027210099446104,
          3.7422794280815,
          -6.783289853156854,
          -2.701202216560646,
          -4.48530799467033,
          1.0265007426733204,
          3.6186619566520175,
          -6.255417978731523,
          -5.097397525549593,
          -3.156023655774111,
          -4.45701121375925,
          -0.3183453676608874,
          -3.995871438712367,
          -4.1440328072719055,
          -2.4547943697198336,
          1.6635559064486052,
          0.5821244315307826,
          -5.63642736409165,
          -5.2813512892240455,
          -1.411891653771345,
          -2.3043336536740964,
          -4.529026170512828,
          2.0284139624434863,
          -1.446633069176772,
          -6.035389830087095,
          1.5296699449306232,
          1.54999457793145,
          0.10298579218948137,
          -6.151882765143023,
          -1.5997605336219825,
          -4.714201359663102,
          0.40302468594779467,
          -3.362318882412172,
          0.8797115631581397,
          7.100966254777467,
          0.499359540581604,
          -0.48937481052746096,
          -2.7179112253699014,
          -0.026054242899212342,
          -1.7414336290815124,
          -4.89308813805674,
          -2.1806782289742177,
          -6.092761759461016,
          -7.832358713728208,
          -4.242261876358904,
          -6.718070566273153
         ]
        },
        {
         "hovertemplate": "cluster_assigned=Marcel Stout<br>Principal component 1=%{x}<br>Principal component 2=%{y}<br>Principal component 3=%{z}<extra></extra>",
         "legendgroup": "Marcel Stout",
         "marker": {
          "color": "#00cc96",
          "opacity": 1,
          "symbol": "circle"
         },
         "mode": "markers",
         "name": "Marcel Stout",
         "scene": "scene",
         "showlegend": true,
         "type": "scatter3d",
         "x": [
          -4.207539188506192,
          2.207724399787603,
          -4.999619452473195,
          -9.491068588476887,
          -8.425593968127892,
          2.9194127319841785,
          5.707495668560188,
          6.894211970243061,
          6.6823328665329385,
          -11.109025211537858,
          0.17823822654893623,
          -5.206676010913873,
          -1.4185946064554544,
          2.8259233532888377,
          -2.3680190319547676,
          2.798769791042296,
          -8.011414629508357,
          -2.3363281902072264,
          4.377862621622697,
          2.261467220925875,
          6.403504773217908,
          5.4388904113874466,
          -5.374549502938472,
          3.9691862474952924,
          1.4269339801303715,
          -10.721928520555322,
          -5.808355677473512,
          -3.954547199635687,
          -7.847696487010488,
          1.277542716814362,
          -4.108274534327655,
          8.722884248778985,
          -2.461619370480755,
          -9.217946598676814,
          -2.0247821628883846,
          5.519667157570987,
          -4.593619456831311,
          -10.752285276737908,
          -1.399143099865029,
          2.80758098291013,
          6.136377478529554,
          1.1808895418711938,
          -0.1808631557613103,
          -5.103985492974264,
          8.036860165047962,
          7.744059688393649,
          3.534865942012362,
          1.0327484774662874,
          -5.791028402293639,
          5.352875973445133,
          5.452264106654665,
          -2.5916624167891955,
          -8.570642984278635,
          3.861643167219388,
          -6.664666027575961,
          3.5430616228652676,
          1.6216164404753637,
          -6.067965873524342,
          -2.7207427941044977,
          -8.716986542493785,
          -3.5788252104219307,
          -9.450675346211305,
          0.7200325249812949,
          8.142847673021858,
          -7.29647938265682,
          6.5389170652948945,
          4.637168559137096,
          5.518377716745137,
          -2.7326580864462633,
          1.1573035667425444,
          -1.8906014418012205,
          1.3377006964498523,
          3.853809496941939,
          -3.746190841509292,
          3.718641991459967,
          -5.100258151890014,
          -1.090158565493764,
          -8.397727890734211,
          -10.279971371510499,
          1.5018205596889136,
          3.745089562683409,
          -2.8957924783504696,
          11.907575908160847,
          4.529640869867797,
          1.0764064119555656,
          2.9757250671764117,
          -3.0544825799777,
          0.8226132327751298,
          -0.2812969609174082,
          -1.9602901420379857,
          6.979194081908904,
          3.881321224885826,
          2.846074642096996,
          4.646861570902581,
          -0.982859354102165,
          -4.537513411227396,
          -3.3723745969209356,
          -4.148478166795251,
          -3.3066468399394076,
          3.007056449012114,
          0.7056927315354037,
          8.854839904270555,
          -2.5465069107262863,
          2.413646522024668,
          1.637926834870298,
          -3.6434957927782032,
          4.5838443759567165,
          -9.165210995269309,
          1.1623732095796575,
          8.001512302302642,
          3.4404140970605828,
          4.50781013658189,
          8.923386187333398,
          7.546029652284904,
          7.512920215576003,
          7.637262339428111,
          -2.3334343702727685,
          0.7380668517575466,
          8.644647074927102,
          -5.075255613537407,
          4.733587178405717,
          -4.2774768405723425,
          4.662371038263875,
          -6.8401653654053876,
          3.491606956813995,
          0.7969733025770224,
          3.9445656777314055,
          6.777357618404426,
          -9.605862202104134,
          2.6177377713588252,
          0.5191932605886711,
          -3.5708416116539468,
          -9.771775621432894,
          -11.15888627342667,
          -2.9696191999798844,
          -9.304406480440326,
          -5.467553144299745,
          -5.525312091574416,
          -9.78627006422356,
          5.790773286625945,
          0.01146372757524266,
          -9.546904250835958,
          9.912243314572983,
          6.6878318904217515,
          -5.392459324164073,
          -9.968729089918064,
          3.5782781164611928,
          -2.2181291106853998,
          -0.6850325580100807,
          -2.448092180083133,
          4.235230965742438,
          -0.4119246356034017,
          2.3706976353667737,
          -9.396760618827459,
          3.5602995874186276,
          12.73129402593824,
          8.594247473380955,
          0.9450339725064824,
          -8.767123256016774,
          -2.709578590663224,
          -9.274694478470419,
          -0.9547514302039889,
          -6.127663363686035,
          1.9957031045075528,
          0.8681188968869308,
          -10.976278460785716,
          -0.9047751077407837,
          -9.069443563461489,
          2.3109273318456167,
          3.0692424388247352,
          -2.4863156814034837,
          -2.8685677449334452,
          -2.4658282780932357,
          2.592143693724409,
          1.8130121800432357,
          -10.644043683800493,
          4.188661904084995,
          -8.755271824397212,
          -6.238777880272481,
          3.2184316216592133,
          -7.071599903518038,
          1.2538495920960095,
          0.017791112459695675,
          1.588191936107932,
          -8.835708447409672,
          -4.5489243936830945,
          -7.259493011999287,
          0.7332729317170564,
          0.6620750880917274,
          -3.321622179433801,
          7.122297660565873,
          -5.811981925142377,
          5.502829476792287,
          1.5348166908528569,
          -1.815835676978751,
          -4.887682975470966
         ],
         "y": [
          13.70814137988479,
          17.676583475705964,
          12.987881143941967,
          15.550769778124632,
          9.190376841277372,
          10.19791905569911,
          11.107262386905527,
          7.082180158583481,
          7.801706395852108,
          11.18055158153072,
          6.6695009344887906,
          11.55517361660367,
          11.974498451093963,
          16.760492269260943,
          5.588719304550191,
          5.797242486487677,
          16.419876022190703,
          4.827341413134183,
          8.201541344094942,
          4.474870086238996,
          9.367946040557184,
          6.137368023687836,
          9.676169157373858,
          10.327968425241448,
          5.0500542417920125,
          5.961983985444841,
          6.014624436165426,
          6.8641768131023895,
          7.6288215451860175,
          4.9115474829713195,
          4.895154206224335,
          11.53008172405274,
          7.597603321157705,
          5.964267909998807,
          8.107877333228414,
          3.7602420092445668,
          20.17389033214725,
          12.18434230241061,
          6.332238380005028,
          12.289986150569023,
          12.26559911665664,
          4.148542869697926,
          12.106546297664012,
          11.486002322844092,
          5.979932039844001,
          13.86372510562354,
          3.1639242227476143,
          4.158675028912951,
          8.530330930387752,
          3.1961560478068556,
          7.601152074246713,
          5.708710906709682,
          10.456965929721687,
          4.968355802841746,
          18.357971519892295,
          9.632596792401584,
          9.57804748094651,
          15.923341010396133,
          5.871567979155356,
          13.269010488440651,
          10.223699066134047,
          18.13784850463947,
          6.359522365929795,
          7.698034292667518,
          10.991541240147656,
          11.56128467916281,
          5.883411880289767,
          6.849073553697536,
          5.747766690894919,
          5.304384757412728,
          5.232692253355028,
          8.666486966215324,
          11.265695069392843,
          6.713054455558911,
          13.57438837921336,
          6.521773280341895,
          4.9581238438595445,
          17.055011578940707,
          13.660683653899891,
          7.416371997109444,
          7.915026565158618,
          20.864479862297273,
          11.376964725377068,
          3.737030736109098,
          18.08311389470941,
          2.9450657674026988,
          9.012837647942941,
          10.490807522809934,
          7.199558876283665,
          6.829294798445629,
          10.924605607381777,
          3.5523934850213688,
          2.4388829651778456,
          9.051500928499337,
          10.403783495375079,
          20.09059570623905,
          19.83141163861327,
          8.136577063496855,
          11.189079188419104,
          6.529985000266474,
          3.165435058075131,
          10.866003352828596,
          6.236040267583889,
          1.7345704402494495,
          12.854820073385563,
          7.290299247562648,
          7.949293766203047,
          15.779060636712776,
          3.5519737642623834,
          12.837832394299982,
          9.046024721739743,
          6.454323295761276,
          17.48078680740076,
          8.592453392648581,
          5.787030430096914,
          7.926232260630995,
          5.728038462605966,
          4.361527161406864,
          11.401608463866559,
          15.087001371344476,
          6.054350359167605,
          6.71589632715731,
          8.638175089357935,
          20.42557699112354,
          9.500911883014323,
          5.238805789974797,
          1.790669323176561,
          8.269686618667375,
          15.583712519505177,
          8.59101033375114,
          12.82404282730371,
          5.5120680396505914,
          10.001074821554361,
          7.839482650440921,
          15.68262558511791,
          33.78769815762368,
          7.634927907833419,
          10.52424593449389,
          14.446375544079936,
          14.342465148939226,
          3.9362513023005783,
          12.13840196560417,
          15.140034596498909,
          5.263072133007244,
          7.050177983355905,
          17.425172533785375,
          4.132915803901597,
          10.710726736481512,
          6.146455935528501,
          5.85206919953194,
          6.231655915150164,
          6.553432753731032,
          6.518646081657246,
          9.958357049398796,
          5.190732413026784,
          11.53469415415214,
          8.650729041756515,
          7.240204760286238,
          8.601326955836686,
          6.703838176769192,
          17.601170717507916,
          5.83436779490246,
          9.830370694449664,
          6.466434182148166,
          7.745422875174053,
          12.518050875782443,
          16.787574387236816,
          17.572028416223773,
          13.041264821342091,
          5.349640401381894,
          11.781112919655506,
          19.444292720492925,
          13.02939991081102,
          12.289143280806826,
          4.906069909223406,
          11.682935119038069,
          4.86817793185573,
          9.810078414764748,
          19.41718290719621,
          9.781891634670373,
          8.151951157006941,
          7.121122023275934,
          6.465860117869032,
          5.7580490933419926,
          7.93610898417526,
          15.272095982993145,
          16.64872280668219,
          5.012707211042402,
          6.449984236244758,
          6.511317744350569,
          7.596231835526998,
          13.027897547117869,
          4.336049329373805,
          10.431169947469181,
          22.635735947104852,
          6.732757526441497
         ],
         "z": [
          0.28834144279201224,
          6.848432230903014,
          -0.49532244757676924,
          1.163249782060016,
          -2.5792944912020563,
          1.4945772144690541,
          1.3640967980201666,
          2.3330220705456703,
          1.5790768720464579,
          -9.412521641879842,
          1.773745537531265,
          -0.877320378598106,
          1.4351149418239528,
          9.389439569223185,
          -2.203952245928068,
          1.6350928597998844,
          0.9005394867883859,
          3.0451213835508306,
          1.3191249076484342,
          0.9630374225007362,
          4.102143818490919,
          -0.27731286412652184,
          -1.9931319287784173,
          1.5961976919652974,
          -1.5976201290564052,
          3.9360016024290805,
          0.6773477583845124,
          1.1440050620456135,
          -4.717568289783365,
          -0.5438954620399081,
          -0.16538760222328858,
          3.7336244310184274,
          0.10853253310370403,
          1.2103027027152093,
          3.579107567154583,
          1.1870131769513887,
          7.753963201052668,
          3.605874501949253,
          0.7001468622875041,
          3.719425186241824,
          5.345105929330798,
          -0.6139754370950693,
          2.3307464214580143,
          1.5832258701378599,
          1.3232051413064607,
          5.590969874890336,
          -0.11735726879860686,
          2.522667625652601,
          6.339895673295128,
          0.9089505372709009,
          3.735368702262433,
          1.1479420687567563,
          0.16582218889338982,
          -0.4855205502652161,
          1.664151447067275,
          1.2433795353348591,
          -1.3751689983527862,
          1.012568650844461,
          0.8452267379438311,
          -0.9458639873128016,
          0.5175293613451666,
          7.432685732121758,
          -0.03569977012550606,
          1.592168070054171,
          -3.0215995397603925,
          4.601838861548528,
          -1.0547485758489028,
          2.0054988886408562,
          -0.6046918220381442,
          0.10954901892585837,
          -1.3186828799698966,
          4.73188001435162,
          1.9270517103437355,
          1.0427646752320157,
          1.9020624068398764,
          -1.8950055923432985,
          2.6000477600444842,
          5.852064251371456,
          1.8206004514001677,
          0.15386455365045285,
          -1.1093797778250238,
          6.590249622793818,
          6.705835823309683,
          0.9872935886324828,
          5.49240817283324,
          1.8270136473964182,
          1.0948671043460503,
          -0.7821225189151366,
          -1.2567154593137302,
          -4.488840242609839,
          3.0581520954773076,
          2.892128600219622,
          3.885137174061512,
          -0.0016689986151023465,
          2.2620154966132477,
          6.027336604336368,
          5.4183763140342505,
          -2.1979603722724823,
          1.920847427510807,
          1.3022614654274658,
          2.154027346934913,
          6.218330518056887,
          1.1512851623119476,
          4.887383997015246,
          0.929995075289989,
          -2.8706198463374695,
          3.4274565500010175,
          2.332167545092756,
          1.0731867688484908,
          4.6385438536259915,
          4.312060249722087,
          1.656986581545102,
          8.028814721559572,
          1.929418816825833,
          1.5771785837061405,
          4.165948842437886,
          -0.6042291571784103,
          -0.912066658366907,
          3.5504374909338985,
          0.5776437408984214,
          -0.16488739058022553,
          -1.5329679787641717,
          1.8795663410638295,
          2.7432349157417217,
          5.779893440155212,
          3.321167540329088,
          2.000697603004609,
          2.8947691316640682,
          1.330190132681375,
          0.6085488510055335,
          -1.07099454904202,
          -2.231906488476504,
          -3.561765544081413,
          -3.4467425041045785,
          0.4102928626844213,
          11.966199989504434,
          -1.8420238720050501,
          1.3084118371720321,
          5.465517964823313,
          6.636405594293138,
          3.1843283233334745,
          0.2140117155832871,
          7.77481406447747,
          1.0606509087535336,
          -4.832918759993311,
          9.325957976261794,
          -0.43284867159049184,
          0.005621287363440101,
          -5.858710226667926,
          3.9267843081858014,
          4.262038966589699,
          -0.8969837352178929,
          -2.190256299624582,
          -0.03174354466220842,
          0.09615277714922056,
          6.35123005589127,
          4.1138904724796586,
          4.062377358168251,
          -0.07448867183408994,
          -0.7856899117792099,
          2.4205004589610075,
          -2.3758651531470893,
          -2.820472885159162,
          -1.6765800580938157,
          0.78933618065264,
          -0.6060437061227014,
          5.596585309772725,
          2.898085529893067,
          4.620847815049724,
          -1.0639947461713124,
          5.132508658048362,
          5.256060189761648,
          0.5826016932967626,
          4.391576758781551,
          1.0220415697868788,
          0.011745656468393562,
          0.6781104445083561,
          3.4759255492451446,
          0.04725322061003142,
          5.637310055206781,
          -1.0683297746663802,
          -2.3315057599105637,
          2.494219705192949,
          0.7486822161275314,
          -3.915870620717129,
          3.1626631367377374,
          1.7901341906765045,
          -0.021303210749378416,
          0.540041710021183,
          -3.2666817724362294,
          5.684134447132972,
          -2.444573760582971,
          1.946810973278263,
          2.3398112471055343,
          9.681982594885955,
          -0.864143995856347
         ]
        },
        {
         "hovertemplate": "cluster_assigned=James Bland<br>Principal component 1=%{x}<br>Principal component 2=%{y}<br>Principal component 3=%{z}<extra></extra>",
         "legendgroup": "James Bland",
         "marker": {
          "color": "#ab63fa",
          "opacity": 1,
          "symbol": "circle"
         },
         "mode": "markers",
         "name": "James Bland",
         "scene": "scene",
         "showlegend": true,
         "type": "scatter3d",
         "x": [
          -12.735692404616813,
          -13.415750427106683,
          -13.30323031738589,
          -10.165204121607013,
          -10.253875651032203,
          -8.503089503813824,
          -12.757943952939335,
          -9.5003890088249,
          -11.681824429756917,
          -2.354740374658242,
          -10.177135764267915,
          -16.70203896422134,
          -11.943125055529435,
          -11.10878738587381,
          -12.93514285258924,
          -9.684668812201133,
          -9.088363673562267,
          -11.351109192276862,
          -8.140017535269287,
          -12.744736302142442,
          -2.930641460811948,
          -9.731922695029382,
          -14.560695174906575,
          -13.074727932641665,
          -10.780431662049548,
          -1.9369152268429883,
          -9.13434181185937,
          -3.755599710006099,
          -11.37225262210136,
          -9.522324158085732,
          -10.685342798385753,
          -13.71859331916774,
          -10.366815103069166,
          -16.003483307611752,
          -10.310727541931055,
          -16.96369092607956,
          -3.7422066641227394,
          -3.0103447079511176,
          -4.71813780124434,
          -3.3887331758969874,
          -11.7856711642229,
          -7.9691554490578005,
          -13.956818281923765,
          -14.591240187656805,
          -17.250376967395095,
          -16.73700798640909,
          -11.28227987766799,
          -5.013447796272914,
          -10.552877482718513,
          -11.683558453620845,
          -10.249737228343044,
          -9.439977537927051,
          -13.95822954243906,
          -9.468041832645781,
          -9.033948061692689,
          -9.759485243459654,
          -5.40770764780944,
          -13.378563220218963,
          -10.481938026720146,
          -5.517320726225143,
          -6.907447810195566,
          -10.888221478123121,
          -5.196173335835355,
          -12.773971501796456,
          -6.575619720885696,
          -7.7327623478488405,
          -10.644902769182531,
          -11.255422043256306,
          -12.39705693627407,
          -10.52132960344239,
          -8.68907760795257,
          -12.77303299940961,
          -10.947224270877944,
          -12.646146300310622,
          -8.767104301207421,
          -9.43859993248345,
          -6.161608732407178,
          -14.726665081023134,
          -11.568195335391788,
          -11.894013248981816,
          -11.311010434599618,
          -11.803118975796087,
          -13.870602474165281,
          -6.088120385535936,
          -11.698187182691765,
          -10.707693279222074,
          -10.777019008676946,
          -6.49746711937449,
          -12.949532566767243,
          -15.00567731027964,
          -10.125552859386655,
          -10.861873048943318,
          -3.0334350216595496,
          -13.159990418448109,
          -12.96546743217801,
          -11.954336628730342,
          -13.637594782579686,
          -8.203713647860774,
          -12.240540759429097,
          -8.679762028422,
          -8.452660985506542,
          -10.952600226404979,
          -9.045058359655105,
          -5.450590764269387,
          -14.159350076710913,
          -15.543064206684505,
          -10.400681191389067,
          -12.375840192228146,
          -10.062899196806436,
          -11.463112653038756,
          -8.32298249615433,
          -10.782796267029596,
          -13.621399587321724,
          -12.996260180130356,
          -14.112342850371432,
          -6.347506190418147,
          -14.472610314399153,
          -10.079286925801126,
          -13.280140892927678,
          -6.898001663803972,
          -11.166264809863158,
          -9.00932235616338,
          -2.189400728219982,
          -13.467934082823549,
          -14.778977892441455,
          -9.884173699187084,
          -9.07724291395993,
          -16.448628785926434,
          -9.691422110331011,
          -12.396111736191356,
          -11.218824625049914,
          -13.507149693242024,
          -9.042672959694995,
          -7.691730895125276,
          -5.483110072789782,
          -14.830866606909645,
          -14.816071328105064,
          -11.43542260819023,
          -8.495565605377466,
          -11.324645909593187,
          -9.66580953379637
         ],
         "y": [
          -2.8327538057130304,
          -7.827705197214545,
          -2.2083515273402554,
          -5.583422859327722,
          -8.409818469363591,
          -5.978993009761226,
          -8.503557104692366,
          -12.961830518247318,
          -8.445587082573548,
          -8.961864590164211,
          -5.321111952489925,
          -12.897927489666614,
          -5.335929967144845,
          -2.1501786033180657,
          -5.660194126988543,
          -4.577932680774131,
          -3.684016861608403,
          -5.195519656859107,
          -1.7085640842235532,
          -4.75939703826929,
          -1.8821531299159109,
          -9.438747102725062,
          -9.70442168709466,
          -9.251136223533754,
          -6.808242292245195,
          -7.783552263695361,
          -3.281786034469653,
          -11.325161478391285,
          -3.1627062099055667,
          -0.5463487313405508,
          3.927237563029871,
          -7.906591660062224,
          -13.209771214021153,
          -14.89088165954047,
          -3.971186628587055,
          -11.690193860634581,
          -4.664752570830879,
          -8.859241043971855,
          -0.6598667208616112,
          -1.1186531156292732,
          -7.870940882847945,
          -8.785449678990336,
          -10.45539361380899,
          -8.613367320396057,
          -15.22771290833359,
          -14.950009783557658,
          -6.533072955284412,
          -8.031704974749358,
          -8.329755744010695,
          -11.944900970443427,
          -7.770467476562394,
          -4.239364986477843,
          -7.872972379823195,
          -8.234399424843625,
          -1.1694618383358508,
          -9.430497591633964,
          -11.066753421289963,
          -10.833357757615978,
          -2.9628954573014044,
          -7.108028536430885,
          -5.067891461555719,
          0.6335422480599756,
          -9.477589275097394,
          -8.501536300229741,
          -8.034538665511082,
          -8.321675657039705,
          -4.204927976968422,
          -10.79333011877439,
          -1.847250136838987,
          -3.2246694468496098,
          -11.924026930640391,
          -2.6866455342501627,
          -2.4474655602350897,
          -5.025347494802275,
          -2.451413691602688,
          -1.9156224417730074,
          -7.575748348045163,
          -14.383869210115428,
          -7.3457648100568145,
          0.6304822710819924,
          -0.3124707511231023,
          0.9140805577194411,
          -7.150800704030908,
          -4.178897096036549,
          -7.232694036633848,
          -6.546377202224714,
          -5.142284235707246,
          -5.455710997733182,
          0.8472520350917494,
          -9.852351546012406,
          -3.046278377027605,
          -10.214874117914253,
          -9.869093511770574,
          -10.164419816782054,
          -6.8412958485616775,
          -3.345510373556163,
          -6.988120859100652,
          -7.279560422176831,
          0.8311167935082522,
          -7.81319143304592,
          -14.961281290604516,
          -3.199520964887094,
          -5.489034770930867,
          -5.1572449428164555,
          -8.767415326260394,
          -12.911098061311236,
          -7.278511198777515,
          -5.7558149509896745,
          -0.9989639731506702,
          -7.133725636084949,
          -4.139522799445965,
          2.3593263643708173,
          -9.703651117420044,
          -6.15835185990727,
          -9.039114169834905,
          -6.353788341873822,
          -12.295225722650716,
          -5.450507515486035,
          -3.859244817636732,
          -6.146839113948912,
          -6.487960752820517,
          -6.569359996307086,
          -8.294290104468848,
          -4.036520848728637,
          -13.404649630910743,
          -9.042220600411527,
          -11.021713519799777,
          -16.4515897926017,
          -2.8988065897754685,
          -9.850110476810956,
          -7.48780067960585,
          -6.8931503131552,
          -4.965697499473695,
          -8.217198560256467,
          -4.395754566148006,
          -7.989577428830307,
          -12.769995964116363,
          -5.040102815249693,
          1.4107756383748655,
          -3.6375029788141027,
          4.286279573363457
         ],
         "z": [
          2.184219196739417,
          2.4421477852216236,
          9.631326056163092,
          -0.46675252822879976,
          -0.12121829096634487,
          -0.6838988650021791,
          7.3723575247228545,
          9.366765882667094,
          8.169079918505036,
          3.4644942483087298,
          0.5511243832215708,
          12.71670252971566,
          6.209440713985064,
          8.36277914966109,
          0.5978172378786536,
          -1.878497751749786,
          2.419332302839224,
          4.09226493633793,
          5.788865607269037,
          -2.690871520420528,
          6.360523753404424,
          -3.2077100384654575,
          9.070009924686373,
          8.41260044906542,
          9.713877687370776,
          7.538299732767082,
          3.6684618736557346,
          3.167909830131556,
          -2.262319662660325,
          1.2712801132954856,
          4.19536331942986,
          6.885043469023791,
          3.0888101713368203,
          19.854260540475337,
          0.2418927882891624,
          12.56291049784977,
          4.240982337804436,
          7.211893436814967,
          11.293136015488537,
          10.684497222313135,
          -1.1232844854094324,
          3.213055792942195,
          4.0719234260377535,
          11.572790543595193,
          19.849957910233492,
          17.399346808177306,
          2.045604500850003,
          6.006115932413394,
          2.1555449576496866,
          10.370604491333895,
          -1.9896235993441966,
          -0.812769801078833,
          7.0940849227690626,
          6.260526696025352,
          1.9846720138498843,
          -4.6681736252162,
          4.593541518085245,
          9.189956288885256,
          0.9622361666021376,
          5.712468583606016,
          2.9810419953301133,
          1.27447411451451,
          0.5700798913961564,
          12.941900250849093,
          5.254097035588661,
          10.67083696561424,
          0.3270134544660864,
          -0.7008167229331992,
          -1.8596919533209157,
          1.3229902150957096,
          12.209094146126082,
          6.825106700503471,
          1.865172322397329,
          -3.7631719366169842,
          1.5246312427836206,
          2.9632872012474243,
          1.4324879676196833,
          12.967656855180856,
          0.538474058406117,
          1.1380970023148038,
          2.759532010623342,
          4.855157049515099,
          3.456752735269925,
          4.416921339858027,
          -3.1319293058504267,
          1.8907038992584104,
          -0.5368225685688272,
          1.3591171277003775,
          3.4177527752214556,
          8.12003270181499,
          2.40519001811572,
          7.894350023134419,
          1.9075461537570928,
          11.044028270686818,
          8.514459314507679,
          0.9082450946847732,
          7.881188541258678,
          0.3155765937787678,
          1.6989161416541514,
          -1.4672644924179612,
          8.90572788926746,
          2.675159292300544,
          2.248093719702652,
          5.1500216635508185,
          10.898079434796514,
          19.079987421778185,
          -0.13253380443998833,
          6.898490363964539,
          0.32243252489452895,
          0.8818726663263069,
          3.5527461383844017,
          3.0541117611879964,
          7.330823412814208,
          4.20285683112948,
          11.91303472768766,
          7.000403520059276,
          8.573211465682347,
          5.508925559932962,
          -0.7826422590345504,
          3.1775199236467397,
          0.9924550562802978,
          5.053096011761951,
          2.7448549223754966,
          6.314101344938911,
          13.113287963080488,
          8.645224079488692,
          4.343457468645041,
          15.638338976497764,
          0.5001688632881113,
          1.0408510033942961,
          -1.028510281886942,
          5.3254976178187645,
          1.6750180680442783,
          -3.148259209246745,
          3.7183731819263124,
          6.664805198029971,
          11.073798272780184,
          -2.0912136854868844,
          3.7442056572739686,
          -1.3300695271351723,
          5.765769376377025
         ]
        }
       ],
       "layout": {
        "height": 600,
        "legend": {
         "title": {
          "text": "cluster_assigned"
         },
         "tracegroupgap": 0
        },
        "scene": {
         "domain": {
          "x": [
           0,
           1
          ],
          "y": [
           0,
           1
          ]
         },
         "xaxis": {
          "title": {
           "text": "Principal component 1"
          }
         },
         "yaxis": {
          "title": {
           "text": "Principal component 2"
          }
         },
         "zaxis": {
          "title": {
           "text": "Principal component 3"
          }
         }
        },
        "template": {
         "data": {
          "bar": [
           {
            "error_x": {
             "color": "#2a3f5f"
            },
            "error_y": {
             "color": "#2a3f5f"
            },
            "marker": {
             "line": {
              "color": "#E5ECF6",
              "width": 0.5
             },
             "pattern": {
              "fillmode": "overlay",
              "size": 10,
              "solidity": 0.2
             }
            },
            "type": "bar"
           }
          ],
          "barpolar": [
           {
            "marker": {
             "line": {
              "color": "#E5ECF6",
              "width": 0.5
             },
             "pattern": {
              "fillmode": "overlay",
              "size": 10,
              "solidity": 0.2
             }
            },
            "type": "barpolar"
           }
          ],
          "carpet": [
           {
            "aaxis": {
             "endlinecolor": "#2a3f5f",
             "gridcolor": "white",
             "linecolor": "white",
             "minorgridcolor": "white",
             "startlinecolor": "#2a3f5f"
            },
            "baxis": {
             "endlinecolor": "#2a3f5f",
             "gridcolor": "white",
             "linecolor": "white",
             "minorgridcolor": "white",
             "startlinecolor": "#2a3f5f"
            },
            "type": "carpet"
           }
          ],
          "choropleth": [
           {
            "colorbar": {
             "outlinewidth": 0,
             "ticks": ""
            },
            "type": "choropleth"
           }
          ],
          "contour": [
           {
            "colorbar": {
             "outlinewidth": 0,
             "ticks": ""
            },
            "colorscale": [
             [
              0,
              "#0d0887"
             ],
             [
              0.1111111111111111,
              "#46039f"
             ],
             [
              0.2222222222222222,
              "#7201a8"
             ],
             [
              0.3333333333333333,
              "#9c179e"
             ],
             [
              0.4444444444444444,
              "#bd3786"
             ],
             [
              0.5555555555555556,
              "#d8576b"
             ],
             [
              0.6666666666666666,
              "#ed7953"
             ],
             [
              0.7777777777777778,
              "#fb9f3a"
             ],
             [
              0.8888888888888888,
              "#fdca26"
             ],
             [
              1,
              "#f0f921"
             ]
            ],
            "type": "contour"
           }
          ],
          "contourcarpet": [
           {
            "colorbar": {
             "outlinewidth": 0,
             "ticks": ""
            },
            "type": "contourcarpet"
           }
          ],
          "heatmap": [
           {
            "colorbar": {
             "outlinewidth": 0,
             "ticks": ""
            },
            "colorscale": [
             [
              0,
              "#0d0887"
             ],
             [
              0.1111111111111111,
              "#46039f"
             ],
             [
              0.2222222222222222,
              "#7201a8"
             ],
             [
              0.3333333333333333,
              "#9c179e"
             ],
             [
              0.4444444444444444,
              "#bd3786"
             ],
             [
              0.5555555555555556,
              "#d8576b"
             ],
             [
              0.6666666666666666,
              "#ed7953"
             ],
             [
              0.7777777777777778,
              "#fb9f3a"
             ],
             [
              0.8888888888888888,
              "#fdca26"
             ],
             [
              1,
              "#f0f921"
             ]
            ],
            "type": "heatmap"
           }
          ],
          "heatmapgl": [
           {
            "colorbar": {
             "outlinewidth": 0,
             "ticks": ""
            },
            "colorscale": [
             [
              0,
              "#0d0887"
             ],
             [
              0.1111111111111111,
              "#46039f"
             ],
             [
              0.2222222222222222,
              "#7201a8"
             ],
             [
              0.3333333333333333,
              "#9c179e"
             ],
             [
              0.4444444444444444,
              "#bd3786"
             ],
             [
              0.5555555555555556,
              "#d8576b"
             ],
             [
              0.6666666666666666,
              "#ed7953"
             ],
             [
              0.7777777777777778,
              "#fb9f3a"
             ],
             [
              0.8888888888888888,
              "#fdca26"
             ],
             [
              1,
              "#f0f921"
             ]
            ],
            "type": "heatmapgl"
           }
          ],
          "histogram": [
           {
            "marker": {
             "pattern": {
              "fillmode": "overlay",
              "size": 10,
              "solidity": 0.2
             }
            },
            "type": "histogram"
           }
          ],
          "histogram2d": [
           {
            "colorbar": {
             "outlinewidth": 0,
             "ticks": ""
            },
            "colorscale": [
             [
              0,
              "#0d0887"
             ],
             [
              0.1111111111111111,
              "#46039f"
             ],
             [
              0.2222222222222222,
              "#7201a8"
             ],
             [
              0.3333333333333333,
              "#9c179e"
             ],
             [
              0.4444444444444444,
              "#bd3786"
             ],
             [
              0.5555555555555556,
              "#d8576b"
             ],
             [
              0.6666666666666666,
              "#ed7953"
             ],
             [
              0.7777777777777778,
              "#fb9f3a"
             ],
             [
              0.8888888888888888,
              "#fdca26"
             ],
             [
              1,
              "#f0f921"
             ]
            ],
            "type": "histogram2d"
           }
          ],
          "histogram2dcontour": [
           {
            "colorbar": {
             "outlinewidth": 0,
             "ticks": ""
            },
            "colorscale": [
             [
              0,
              "#0d0887"
             ],
             [
              0.1111111111111111,
              "#46039f"
             ],
             [
              0.2222222222222222,
              "#7201a8"
             ],
             [
              0.3333333333333333,
              "#9c179e"
             ],
             [
              0.4444444444444444,
              "#bd3786"
             ],
             [
              0.5555555555555556,
              "#d8576b"
             ],
             [
              0.6666666666666666,
              "#ed7953"
             ],
             [
              0.7777777777777778,
              "#fb9f3a"
             ],
             [
              0.8888888888888888,
              "#fdca26"
             ],
             [
              1,
              "#f0f921"
             ]
            ],
            "type": "histogram2dcontour"
           }
          ],
          "mesh3d": [
           {
            "colorbar": {
             "outlinewidth": 0,
             "ticks": ""
            },
            "type": "mesh3d"
           }
          ],
          "parcoords": [
           {
            "line": {
             "colorbar": {
              "outlinewidth": 0,
              "ticks": ""
             }
            },
            "type": "parcoords"
           }
          ],
          "pie": [
           {
            "automargin": true,
            "type": "pie"
           }
          ],
          "scatter": [
           {
            "marker": {
             "colorbar": {
              "outlinewidth": 0,
              "ticks": ""
             }
            },
            "type": "scatter"
           }
          ],
          "scatter3d": [
           {
            "line": {
             "colorbar": {
              "outlinewidth": 0,
              "ticks": ""
             }
            },
            "marker": {
             "colorbar": {
              "outlinewidth": 0,
              "ticks": ""
             }
            },
            "type": "scatter3d"
           }
          ],
          "scattercarpet": [
           {
            "marker": {
             "colorbar": {
              "outlinewidth": 0,
              "ticks": ""
             }
            },
            "type": "scattercarpet"
           }
          ],
          "scattergeo": [
           {
            "marker": {
             "colorbar": {
              "outlinewidth": 0,
              "ticks": ""
             }
            },
            "type": "scattergeo"
           }
          ],
          "scattergl": [
           {
            "marker": {
             "colorbar": {
              "outlinewidth": 0,
              "ticks": ""
             }
            },
            "type": "scattergl"
           }
          ],
          "scattermapbox": [
           {
            "marker": {
             "colorbar": {
              "outlinewidth": 0,
              "ticks": ""
             }
            },
            "type": "scattermapbox"
           }
          ],
          "scatterpolar": [
           {
            "marker": {
             "colorbar": {
              "outlinewidth": 0,
              "ticks": ""
             }
            },
            "type": "scatterpolar"
           }
          ],
          "scatterpolargl": [
           {
            "marker": {
             "colorbar": {
              "outlinewidth": 0,
              "ticks": ""
             }
            },
            "type": "scatterpolargl"
           }
          ],
          "scatterternary": [
           {
            "marker": {
             "colorbar": {
              "outlinewidth": 0,
              "ticks": ""
             }
            },
            "type": "scatterternary"
           }
          ],
          "surface": [
           {
            "colorbar": {
             "outlinewidth": 0,
             "ticks": ""
            },
            "colorscale": [
             [
              0,
              "#0d0887"
             ],
             [
              0.1111111111111111,
              "#46039f"
             ],
             [
              0.2222222222222222,
              "#7201a8"
             ],
             [
              0.3333333333333333,
              "#9c179e"
             ],
             [
              0.4444444444444444,
              "#bd3786"
             ],
             [
              0.5555555555555556,
              "#d8576b"
             ],
             [
              0.6666666666666666,
              "#ed7953"
             ],
             [
              0.7777777777777778,
              "#fb9f3a"
             ],
             [
              0.8888888888888888,
              "#fdca26"
             ],
             [
              1,
              "#f0f921"
             ]
            ],
            "type": "surface"
           }
          ],
          "table": [
           {
            "cells": {
             "fill": {
              "color": "#EBF0F8"
             },
             "line": {
              "color": "white"
             }
            },
            "header": {
             "fill": {
              "color": "#C8D4E3"
             },
             "line": {
              "color": "white"
             }
            },
            "type": "table"
           }
          ]
         },
         "layout": {
          "annotationdefaults": {
           "arrowcolor": "#2a3f5f",
           "arrowhead": 0,
           "arrowwidth": 1
          },
          "autotypenumbers": "strict",
          "coloraxis": {
           "colorbar": {
            "outlinewidth": 0,
            "ticks": ""
           }
          },
          "colorscale": {
           "diverging": [
            [
             0,
             "#8e0152"
            ],
            [
             0.1,
             "#c51b7d"
            ],
            [
             0.2,
             "#de77ae"
            ],
            [
             0.3,
             "#f1b6da"
            ],
            [
             0.4,
             "#fde0ef"
            ],
            [
             0.5,
             "#f7f7f7"
            ],
            [
             0.6,
             "#e6f5d0"
            ],
            [
             0.7,
             "#b8e186"
            ],
            [
             0.8,
             "#7fbc41"
            ],
            [
             0.9,
             "#4d9221"
            ],
            [
             1,
             "#276419"
            ]
           ],
           "sequential": [
            [
             0,
             "#0d0887"
            ],
            [
             0.1111111111111111,
             "#46039f"
            ],
            [
             0.2222222222222222,
             "#7201a8"
            ],
            [
             0.3333333333333333,
             "#9c179e"
            ],
            [
             0.4444444444444444,
             "#bd3786"
            ],
            [
             0.5555555555555556,
             "#d8576b"
            ],
            [
             0.6666666666666666,
             "#ed7953"
            ],
            [
             0.7777777777777778,
             "#fb9f3a"
            ],
            [
             0.8888888888888888,
             "#fdca26"
            ],
            [
             1,
             "#f0f921"
            ]
           ],
           "sequentialminus": [
            [
             0,
             "#0d0887"
            ],
            [
             0.1111111111111111,
             "#46039f"
            ],
            [
             0.2222222222222222,
             "#7201a8"
            ],
            [
             0.3333333333333333,
             "#9c179e"
            ],
            [
             0.4444444444444444,
             "#bd3786"
            ],
            [
             0.5555555555555556,
             "#d8576b"
            ],
            [
             0.6666666666666666,
             "#ed7953"
            ],
            [
             0.7777777777777778,
             "#fb9f3a"
            ],
            [
             0.8888888888888888,
             "#fdca26"
            ],
            [
             1,
             "#f0f921"
            ]
           ]
          },
          "colorway": [
           "#636efa",
           "#EF553B",
           "#00cc96",
           "#ab63fa",
           "#FFA15A",
           "#19d3f3",
           "#FF6692",
           "#B6E880",
           "#FF97FF",
           "#FECB52"
          ],
          "font": {
           "color": "#2a3f5f"
          },
          "geo": {
           "bgcolor": "white",
           "lakecolor": "white",
           "landcolor": "#E5ECF6",
           "showlakes": true,
           "showland": true,
           "subunitcolor": "white"
          },
          "hoverlabel": {
           "align": "left"
          },
          "hovermode": "closest",
          "mapbox": {
           "style": "light"
          },
          "paper_bgcolor": "white",
          "plot_bgcolor": "#E5ECF6",
          "polar": {
           "angularaxis": {
            "gridcolor": "white",
            "linecolor": "white",
            "ticks": ""
           },
           "bgcolor": "#E5ECF6",
           "radialaxis": {
            "gridcolor": "white",
            "linecolor": "white",
            "ticks": ""
           }
          },
          "scene": {
           "xaxis": {
            "backgroundcolor": "#E5ECF6",
            "gridcolor": "white",
            "gridwidth": 2,
            "linecolor": "white",
            "showbackground": true,
            "ticks": "",
            "zerolinecolor": "white"
           },
           "yaxis": {
            "backgroundcolor": "#E5ECF6",
            "gridcolor": "white",
            "gridwidth": 2,
            "linecolor": "white",
            "showbackground": true,
            "ticks": "",
            "zerolinecolor": "white"
           },
           "zaxis": {
            "backgroundcolor": "#E5ECF6",
            "gridcolor": "white",
            "gridwidth": 2,
            "linecolor": "white",
            "showbackground": true,
            "ticks": "",
            "zerolinecolor": "white"
           }
          },
          "shapedefaults": {
           "line": {
            "color": "#2a3f5f"
           }
          },
          "ternary": {
           "aaxis": {
            "gridcolor": "white",
            "linecolor": "white",
            "ticks": ""
           },
           "baxis": {
            "gridcolor": "white",
            "linecolor": "white",
            "ticks": ""
           },
           "bgcolor": "#E5ECF6",
           "caxis": {
            "gridcolor": "white",
            "linecolor": "white",
            "ticks": ""
           }
          },
          "title": {
           "x": 0.05
          },
          "xaxis": {
           "automargin": true,
           "gridcolor": "white",
           "linecolor": "white",
           "ticks": "",
           "title": {
            "standoff": 15
           },
           "zerolinecolor": "white",
           "zerolinewidth": 2
          },
          "yaxis": {
           "automargin": true,
           "gridcolor": "white",
           "linecolor": "white",
           "ticks": "",
           "title": {
            "standoff": 15
           },
           "zerolinecolor": "white",
           "zerolinewidth": 2
          }
         }
        },
        "title": {
         "text": "PCA projection of the 15 categories into the 3 Principal components"
        },
        "width": 1000
       }
      }
     },
     "metadata": {},
     "output_type": "display_data"
    }
   ],
   "source": [
    "User_modify_3\n",
    "fig = px.scatter_3d(User_modify_3, x='Principal component 1', y='Principal component 2', z='Principal component 3',opacity =1,\n",
    "             color='cluster_assigned' ,size_max =50,width=1000, height=600,title ='PCA projection of the 15 categories into the 3 Principal components')\n",
    "\n",
    "fig.show()\n",
    "fig.write_html(\"cluster_3dvisual.html\")"
   ]
  },
  {
   "cell_type": "code",
   "execution_count": 77,
   "metadata": {},
   "outputs": [
    {
     "name": "stdout",
     "output_type": "stream",
     "text": [
      "the variance explained by the 3 first principal components are [0.43681178 0.23533086] (respectively)\n"
     ]
    }
   ],
   "source": [
    "pca_2 = PCA(n_components=2)\n",
    "User_modify_2=pca_2.fit_transform(user_to_cat_first[user_to_cat_first.columns[0:15]].values)\n",
    "print('the variance explained by the 3 first principal components are',pca_2.explained_variance_ratio_,'(respectively)')"
   ]
  },
  {
   "cell_type": "code",
   "execution_count": 78,
   "metadata": {},
   "outputs": [
    {
     "data": {
      "application/vnd.plotly.v1+json": {
       "config": {
        "plotlyServerURL": "https://plot.ly"
       },
       "data": [
        {
         "hovertemplate": "cluster_assigned=Jean-Michel IPA<br>Principal component 1=%{x}<br>Principal component 2=%{y}<extra></extra>",
         "legendgroup": "Jean-Michel IPA",
         "marker": {
          "color": "#636efa",
          "opacity": 1,
          "symbol": "circle"
         },
         "mode": "markers",
         "name": "Jean-Michel IPA",
         "orientation": "v",
         "showlegend": true,
         "type": "scatter",
         "x": [
          18.047276169860403,
          10.698707118801472,
          14.366790129848162,
          20.334697631944472,
          9.356338086926266,
          8.655288284378242,
          17.71444520710842,
          10.114679357967002,
          6.166280684933846,
          6.049096061744335,
          5.619845248214972,
          16.794430858121324,
          5.880583384181546,
          7.746876683720756,
          17.979240833091083,
          5.559710538729038,
          12.155158095921221,
          18.463781073077644,
          6.756809284146439,
          4.993708102097297,
          10.447766152807073,
          9.700576988143554,
          9.250369570867887,
          5.75494703621575,
          9.211511351055304,
          7.644808928253242,
          18.145296453827243,
          14.768102300707127,
          9.116512634677639,
          10.396799336856704,
          7.047082740086028,
          11.146230280565103,
          12.24641585639175,
          12.764338947228417,
          32.07893581593935,
          7.2702136544920535,
          18.276545196061818,
          19.884660426721112,
          5.000696446611797,
          12.272352312079018,
          8.26244507203079,
          9.896878109726634,
          21.070378396914965,
          15.972147270584761,
          20.45622951537051,
          20.25559805838711,
          13.776698137894256,
          10.736991760682923,
          8.11111948696855,
          16.397341062902523,
          19.369566194167422,
          10.131086914063825,
          7.610984816417259,
          15.291477556894467,
          10.049474956659326,
          10.327794021594356,
          5.4920219850489245,
          23.509170023054843,
          18.557040565637543,
          7.549733008426623,
          9.631558200042162,
          12.57818646039738,
          5.429657729166751,
          6.330504665279921,
          7.282159983027071,
          13.462803512722903,
          16.81451824669835,
          20.13186866717843,
          18.047881386921496,
          11.717122973987482,
          17.909659677945342,
          10.131227130283271,
          9.89493691448244,
          4.992422539121876,
          12.266345747542683,
          17.81414760952938,
          7.469127577148792,
          20.750461078565756,
          8.692064414758722,
          21.774714044683893,
          20.540249782396316,
          25.383199411977962,
          5.303965238403497,
          9.524267037670574,
          23.923063465660164,
          6.155714527311302,
          15.545831616321015,
          5.027143894005639,
          17.805402100528315,
          20.383439282805163,
          11.670074987791988,
          8.624719548670502,
          12.632790311190687,
          4.289739125229663,
          11.326783367737574,
          5.541612259348251,
          4.741326729432978,
          17.791674213340293,
          5.603051621695718,
          17.826270717924093,
          6.0475736553495185,
          10.42378196078432,
          9.393921124331381,
          16.778985429708598,
          11.814816124894499,
          8.75768897202222,
          11.322101292736226,
          10.339555620752853,
          13.068839751520134,
          7.184598718627602,
          4.96691063347641,
          15.1359390497728,
          5.923413144620832,
          14.667616564811029,
          4.380975177321031,
          5.5795751135123055,
          16.357066846448383,
          11.332177060359097,
          8.409127058409796,
          16.183649655090335,
          12.174955562729819,
          5.474570285312143,
          6.550778670606162,
          20.47384344968768,
          8.158876770537479,
          4.972612655100632,
          12.810224841998457,
          15.24971725890611,
          6.201974470562084,
          17.553534952770182,
          5.322809886506803,
          15.446298687821587,
          22.648201593679147,
          9.417237858139083,
          16.46009741299536,
          5.999759114723332,
          20.56669048473368,
          13.652685008815189,
          13.61017917614934,
          5.810049436747832,
          19.571727917975966,
          8.603096137425045,
          6.650455286722625,
          7.15715237263488,
          5.473909391539553,
          3.8542338797326097,
          13.248608228805164,
          17.454389164472666,
          15.213920988711573,
          14.1588803774304,
          11.757140463882177,
          8.31534722635679,
          7.929130848695319,
          12.96162744562189,
          9.33093908233339,
          8.086439741047117,
          15.662894895312428,
          5.593086011153997,
          5.936984097751996,
          12.657457656817753,
          21.56735974824311,
          20.50434815792579,
          9.820986956420732,
          17.042322964966885,
          17.70982352120258,
          9.30957078527298,
          6.865011335217542,
          10.922984850142281,
          26.10697944597558,
          20.26129462351256,
          6.740041468404482,
          8.317677189196118,
          7.216827933749128,
          11.13140292205426,
          8.833767157790835,
          11.972114412453172,
          7.29433037402453,
          10.48142130508313,
          6.57437041147103,
          13.020617025840263,
          27.161990147089583,
          16.379661543563415,
          9.127093022898174,
          11.679198157637764,
          5.25213826144301,
          7.624436541881523,
          10.547284858384966,
          14.048072328864814,
          6.73745412309138,
          18.01540816197625,
          8.067643033824014,
          16.214820955390056,
          7.993716913678655,
          11.768667554731955,
          19.97345595048518,
          14.840546548547803,
          7.083890315505076,
          16.527281207669244,
          9.00123694775691,
          10.402157705031929,
          7.32350044080519,
          5.285556017795202,
          8.407581831494964,
          6.9182790950375965,
          14.07656014180583,
          9.097284143895338,
          15.568022034040881,
          22.25171644449756,
          12.234276295298752,
          19.499429189329703,
          12.153765222546138,
          6.648390838400487,
          15.176727549551174,
          8.435280335189796,
          11.516517285465063,
          7.042118933667277,
          10.26616842696589,
          14.33476528847584,
          8.44915695860678,
          11.998425884241874,
          9.369122821657273,
          26.463624599835292,
          19.47322498738225,
          12.396696481030487,
          5.357749015393857,
          6.169460993699712,
          11.413407570220533,
          13.798101076131978,
          5.672102758812081,
          25.508080001806395,
          7.274830366241097,
          6.468018109329305,
          7.6741296709698466,
          9.71467081375147,
          5.563711581296732,
          12.762611266058117,
          11.548984175885217,
          8.008118919733693,
          7.276088832711902
         ],
         "xaxis": "x",
         "y": [
          -4.419624294990724,
          6.0371397680677275,
          1.5656462160056543,
          -4.850009065806117,
          -2.8788613749561587,
          -2.583702030969026,
          -4.288247713719969,
          -3.7626799126935775,
          3.6485377421250096,
          2.4466778455208957,
          -1.9370473869740912,
          -9.057563394417485,
          -4.114145694501057,
          5.235397228547385,
          -7.679186324118836,
          -1.594554895833013,
          -6.071765781859789,
          -7.296703520817749,
          -0.7080336358233814,
          -3.4002422743133844,
          3.5362270018742272,
          7.710512579182931,
          -1.0371887127190464,
          0.5180770724441108,
          0.6620979579166656,
          -1.2824884235769467,
          0.10543326164141771,
          -1.1720587444321222,
          0.5398859704276165,
          -6.340835247958662,
          -7.660670750366521,
          -5.16459070951431,
          -3.112136950842317,
          -6.6601269180575695,
          -7.297039673253574,
          -0.621772726027538,
          -8.23124787720087,
          -2.5016034454885285,
          -2.1636531705909143,
          0.8058621405039825,
          -1.5609105733903572,
          -5.6205587483975945,
          -6.711857861839271,
          -0.09706183292137995,
          -5.8773789096135785,
          -5.114502797575493,
          -6.3816458305817845,
          2.841920877724066,
          0.8567306850377358,
          -6.320045238207306,
          -3.5790675093482265,
          -2.3630787626871723,
          1.7694070179918908,
          5.715794676002293,
          -5.000385904509851,
          0.8126202825051264,
          -7.899285533550731,
          -8.873727829513948,
          2.0941441734415616,
          0.9970622014454197,
          0.36222465598050446,
          -4.713514621266279,
          -0.3589691383362818,
          -2.041222426982402,
          0.5348423538975801,
          -5.791084396503944,
          -4.244699302005422,
          1.3828724702282063,
          -6.3689870539718445,
          5.177881465989477,
          -6.432558140265425,
          -0.5844867369973233,
          4.5679185782250045,
          -6.849429174490426,
          3.098843480703696,
          -9.928833346884833,
          -0.8722569059443751,
          0.35695604404311415,
          2.877855041515982,
          -6.315192486859072,
          3.6623183301244575,
          -4.481664306512201,
          -1.3053364772756884,
          4.016386952666093,
          -4.843325606976594,
          2.4591530944988067,
          1.755365913609876,
          -0.3487528493151964,
          -3.3664257830734963,
          -8.247440272449413,
          -8.677681522240748,
          -1.7714477599138925,
          -3.0674123459169644,
          -4.656121377475809,
          -1.1749600407505414,
          0.9871960600364806,
          -3.796841668522513,
          0.8828693050823091,
          -3.581255097783291,
          -3.2501991505491805,
          2.210302710209845,
          -1.663647007259877,
          3.624707036520624,
          -5.972668445556224,
          -6.433656299327209,
          -5.190333040372988,
          -4.5565854470798355,
          -2.8282224536680665,
          -1.0948825502783797,
          -7.668738464520321,
          -0.7780156923340503,
          0.36451814432813917,
          -3.6016457174407663,
          -0.7664808307243276,
          1.940982989270892,
          3.1460646684602156,
          -1.9214719083081264,
          -0.8921267320081037,
          -1.977825796027445,
          0.3096683295345913,
          -2.0376537796136533,
          0.5890657331373169,
          -3.152979868296142,
          -2.350312481511363,
          3.674018463337505,
          -1.3423433213092768,
          -3.58432273283275,
          -0.2597329042499518,
          -0.9840676868642612,
          -7.398877601680221,
          -5.913266569871393,
          -6.763213307664076,
          -6.696187202399642,
          -4.263873191130916,
          -6.692649348057564,
          -8.989089071232518,
          -2.6122050972051145,
          1.7144009918051208,
          -6.081817934124858,
          -4.985336149445261,
          3.0370282438702425,
          3.6994181524937444,
          -2.839245008243808,
          -5.558878456672217,
          0.8216055827440009,
          -6.164169454005549,
          -1.9774451508864843,
          0.30658265138497454,
          1.1712865203954304,
          -6.509865524186973,
          -4.502616879708008,
          1.1695711019140218,
          -8.952665709797394,
          -7.051603836229919,
          -5.605954034120215,
          -5.637784442148345,
          -9.093583289560724,
          -0.28917330680959197,
          -3.5739314540912384,
          3.0904944347741297,
          -4.4657038846614405,
          -5.801999226198536,
          2.752254015142329,
          -3.4331713400510395,
          -5.151154295214526,
          4.794141206444299,
          -2.386181883206197,
          -3.6688344138526197,
          -6.2521046508641325,
          -3.0579222797996986,
          -4.141132608176927,
          4.427338787109445,
          -9.133552286474764,
          -6.08399614578138,
          -2.941219383824698,
          -3.589072106101333,
          -0.41943066463670725,
          -5.817948727893447,
          -1.3043878325566163,
          -3.6293805824170877,
          -5.312104662057394,
          0.21695866815291914,
          0.16835583078514116,
          -0.49762837947439226,
          -1.4542106459035746,
          5.8145849435878745,
          6.1087700481121345,
          -1.7639463061654537,
          -0.31979182943798123,
          -7.797433877348121,
          0.8247937734314964,
          -5.3515311490105155,
          0.11145858700663559,
          3.833852084114472,
          -5.3407803042264375,
          -3.9088203338902696,
          -8.1063293883566,
          7.855419329474191,
          -1.476392730689517,
          0.27054240317698863,
          -5.421797094567627,
          -3.4234597555142203,
          4.167169444078178,
          1.5536471451895355,
          2.0842327052338336,
          -2.2077274652275074,
          -8.00009737890432,
          -1.8794510535381672,
          -3.7371797356227656,
          -4.575260682836151,
          -4.118592281906179,
          -3.49905832269341,
          -5.078941210110769,
          2.1080165678850227,
          1.6104559092078772,
          -1.6751757784173833,
          -4.869663817911159,
          -2.8949060578103682,
          -6.678120286079576,
          3.0894904438510267,
          0.8881455547575745,
          -7.425693734663403,
          0.1342630015929291,
          -6.5498758375289015,
          -4.6829865606943075,
          -1.4424589018684342,
          -3.660368197836006,
          -7.215701909875634,
          -4.159923513429032,
          0.8115624485125844,
          4.674199903644595,
          -8.190097839879384,
          -4.817580245887036,
          3.536965181765205,
          2.1767928348941488,
          -2.149799648017763,
          3.16270849603068,
          -3.1305171307655186,
          -1.0195304468124602
         ],
         "yaxis": "y"
        },
        {
         "hovertemplate": "cluster_assigned=Ada the explorer<br>Principal component 1=%{x}<br>Principal component 2=%{y}<extra></extra>",
         "legendgroup": "Ada the explorer",
         "marker": {
          "color": "#EF553B",
          "opacity": 1,
          "symbol": "circle"
         },
         "mode": "markers",
         "name": "Ada the explorer",
         "orientation": "v",
         "showlegend": true,
         "type": "scatter",
         "x": [
          -7.737556683387058,
          -2.571899240053991,
          -11.902931832187939,
          -2.0675626441073716,
          -3.457743906550865,
          -4.922773187484199,
          1.8041331297533882,
          -10.634542315977825,
          -1.1436929525330026,
          -0.7551134305754719,
          2.7562555454424986,
          -2.1003221982067872,
          -3.25172411148191,
          -11.567591749742917,
          -5.513643033859727,
          -1.226094877105101,
          1.9740368926557545,
          -9.893182082731563,
          -5.5532632638865405,
          -9.529793541423457,
          -5.317316887061393,
          -8.561993257415004,
          -5.893675204975103,
          -5.336102924982227,
          1.5735583978221441,
          -8.304019927988962,
          1.0649081259566835,
          -7.645236360956855,
          -3.2510604691425273,
          -5.702971300085913,
          -10.33136197477081,
          4.327159376451329,
          -9.365648103240149,
          -0.296263407802553,
          -0.7005795892515425,
          -1.1588380538379952,
          -6.294733433081711,
          -10.806070251180694,
          -10.039098367267231,
          -7.125743340374856,
          2.580831257007157,
          -2.8016994952989944,
          0.025049418861691354,
          -11.306771347214873,
          0.5992292045511838,
          -4.4207275761856,
          -5.392186996788942,
          -5.7242610839588215,
          -9.553781060039297,
          -8.338366765833813,
          -2.2289279159651203,
          -7.253867015612555,
          2.1334908346863815,
          -0.16916083467819665,
          1.3302181259351695,
          -2.4920838317127156,
          3.6838431052757414,
          2.856918172766858,
          1.6011979906123501,
          -2.418545258638149,
          -1.4052659988350322,
          -7.812887145637959,
          0.4717230748874489,
          -1.8301446618437798,
          -9.135614730395021,
          -5.734812436811006,
          -8.614953215066482,
          -5.225772946328465,
          3.9237436281482148,
          -8.758366407121322,
          3.692591479139688,
          2.1319998006292287,
          4.796092810992488,
          2.1946816814828285,
          -0.9677046878005466,
          -7.251837145615793,
          -3.5091205378998533,
          4.350914528992432,
          -0.29729918093127855,
          1.7659045699808846,
          -0.18061051324735333,
          3.5447241171860955,
          -0.5411515506119234,
          1.6354126644397657,
          -4.038489760358261,
          -0.5134524612704044,
          -3.2883449358378924,
          -3.9662386760629627,
          -1.3875300041091765,
          -5.44794030585495,
          -2.659758146904605,
          -2.988030217649477,
          2.620173398073164,
          -5.212123764639772,
          -1.0717158755355325,
          -8.49024714707347,
          0.7952697816397403,
          -7.029521506289077,
          -6.829830437117091,
          3.361920888495831,
          2.0536042122233154,
          4.04651223637708,
          2.943545530793444,
          -6.268725417507116,
          -4.750797163074144,
          3.469651447496471,
          0.3358142128184588,
          -3.750781536219787,
          3.7366929333767076,
          4.079086278435397,
          2.859139947290752,
          1.1156102619477994,
          -4.745462550034213,
          -7.485855138744763,
          -4.980824305714861,
          -6.576765285090492,
          -5.394262114392063,
          -3.4733190991953946,
          -3.81393817807685,
          -9.521491806637203,
          -0.14979787021094124,
          2.3430737815133034,
          -11.132211045065716,
          -2.6122766021335555,
          3.3186670361382524,
          0.6385338236675416,
          -5.349404450059817,
          -5.4808987137739775,
          -4.256532491059013,
          -6.007223236340784,
          4.110913664792896,
          -1.889488389569542,
          -10.964137774135322,
          1.1410033424457116,
          -4.645234366445191,
          1.305870756922489,
          -3.618317936042595,
          -7.686567791995918,
          -0.8788652620362427,
          -6.053189880889184,
          -1.4569041457721927,
          -8.520621978895662,
          -0.8867788219945786,
          -3.7222852864216325,
          -0.6969478704959334,
          2.218061442864622,
          -7.160272729522116,
          -2.721069384080811,
          -7.870957935643714,
          -8.154982295864848,
          -6.195367959992361,
          -5.318570329938339,
          -2.273463482248271,
          -5.7887305080689115,
          -4.371926573294243,
          -8.610319225293306,
          -5.682983172106312,
          0.12422228282352142,
          -2.973007192991973,
          -0.6926987050434454,
          2.1288622922369043,
          -0.14674755513376372,
          2.164500733536787,
          2.4074149000911076,
          -4.950810453348349,
          -3.630934900376864,
          -9.883700229029198,
          1.8869465183647869,
          -5.496544199736219,
          -1.8222328450378802,
          1.9985981096263712,
          -3.936261874510061,
          -1.350486168356924,
          3.045884736584332,
          -6.833538581452506,
          2.030653743628841,
          -1.7627615229678724,
          -7.233725734747027,
          -4.147447964738612,
          0.7592402458382806,
          -7.4092945176780365,
          -7.975733922728088,
          -3.236218153779535,
          0.01441795692914267,
          -0.711457146841569,
          -5.836836032368113,
          -7.966097910383724,
          2.012259404413482,
          3.175041090767613,
          2.434856991955859,
          -3.1214915508672907,
          -1.5218219402635407,
          3.4850744565096514,
          -3.272792861848833,
          -3.4672088804412327,
          -0.4529641158120802,
          -2.589235496405335,
          -4.216805475196334,
          -11.928062553166622,
          0.4500050830195295,
          -8.333703043770225,
          2.6207477720605286,
          0.27754176883040127,
          -0.33825704207900265,
          4.259867122760705,
          -1.4723812062931625,
          -6.180878673455897,
          0.42850181554324973,
          -7.323465150575336,
          -7.413270584257141,
          -4.708740104625652,
          -9.242565970049002,
          -10.489323275339586,
          -3.75191694314956,
          -0.2666308669534778,
          2.620577576752963,
          -5.158186869384343,
          -2.9764520807689587,
          -2.4369265333525165,
          4.351380322915433,
          -6.938748198969523,
          -11.53118885862599,
          1.7320563655678045,
          -3.403186079896052,
          -4.60274575391483,
          -7.163490048691833,
          -0.9356346413617128,
          -2.6622473081971654,
          -8.324735940137813,
          -2.2897634484372396,
          -6.581052757085777,
          -7.485584789851566,
          -2.1719915281180873,
          -6.585677696634037,
          -7.766624836260226,
          -7.463019567697951,
          -0.7461589832532762,
          2.2423173324451042,
          2.372780575190477,
          2.3736614251856216,
          -1.2468058523480234,
          -8.726746477403662,
          -1.2932735177498949,
          0.4945814357424264,
          -3.644947200651984,
          -8.168741010333717,
          -1.969637690712225,
          -0.08211905887496092,
          0.39902159563333933,
          0.0486547285451753,
          -5.292031804807581,
          -9.404181452269949,
          -7.933237322088354,
          2.3486640774188894,
          -2.5947057853145274,
          1.9332557008825948,
          -11.707770647084754,
          1.422777810316374,
          -9.492169671436628,
          -7.844020696093535,
          -4.17042461308595,
          1.1571822114879529,
          -2.7965505083552737,
          -4.730115579584207,
          -0.8800575104080194,
          -2.232524681674315,
          -0.17431070395328735,
          -3.290945261285971,
          2.703009998195184,
          0.3682766018340237,
          -6.634671875857909,
          -7.377000693165192,
          -4.568622749966093,
          -5.709539685105744,
          3.380648116171188,
          0.18536442125461675,
          -9.484221405722202,
          2.5532219954870836,
          -0.8288057554509771,
          -5.439886796014928,
          -4.666318488795297,
          -7.863040432644797,
          -10.74742836262814,
          -3.675800219048307,
          -5.988966242376749,
          -6.565775235878098,
          -6.8621512868538,
          -0.7430104797272656,
          -8.800871402358553,
          -2.861906816389263,
          -6.426394632818201,
          -0.679842063607989,
          -1.4831299838597853,
          0.6451258704071235,
          -9.005738724636993,
          -2.187113923640255,
          2.1862919775920546,
          -4.026693659609648,
          0.24694720479289262,
          -8.739221975766077,
          -7.701406830994364,
          -3.043403439421134,
          -9.62082290353136,
          -10.572537634032075,
          1.6851468854494867,
          1.7310164119031044,
          -1.345552597104219,
          -5.54760764033473,
          -0.40766963622943797,
          -8.333261886406572,
          -0.160078163206186,
          -6.666159260784452,
          -0.23282211699970562,
          -9.945163636109168,
          -11.208856453129195,
          -7.899441383246027,
          -3.0702092554945826,
          -8.384878768963704,
          1.1878788816938937,
          -4.48313354745151,
          -6.810237231212124,
          -4.7915559917487345,
          1.9235144625324323,
          -9.272648043576968,
          -1.1618548691186532,
          0.7337729932506339,
          4.8150562754607495,
          -8.883741111038452,
          -7.326487179989322,
          -1.6543470264341826,
          3.03465947173895,
          -2.7380712934866027,
          -9.987971296638266,
          3.546150145994047,
          -0.9967183186856423,
          -11.893111750446154,
          -5.390169972993783,
          -5.049144606721101,
          -1.3114400663832342,
          -3.5565044701063284,
          3.1231927196885216,
          -8.83672592053791,
          -8.030122660297362,
          3.7813295115599597,
          -0.2965407417417029,
          3.5157567095989415,
          -0.7360647802846505,
          2.8616327927940386,
          1.7906251104540067,
          2.9085310282149677,
          -2.4005078554064085,
          -4.060087610305511,
          2.0814978618237068,
          -3.9168705780788735,
          -1.998764564196311,
          -3.116013922202381,
          -2.910459242265256,
          -5.256927182989472,
          -7.727681424347457,
          -7.343626531180383,
          -6.517014613943184,
          -2.7275254175751895,
          -6.481642794497629,
          0.9053274692173903,
          1.4387808353298936,
          -4.834378458841212,
          3.7019288921017077,
          -9.123265269813086,
          -6.777689292727064,
          0.22126897982518703,
          -2.8879102375373313,
          -3.4645153673008915,
          -6.476435513154721,
          -1.3459929389715035,
          -1.930176385285372,
          -6.373983377036538,
          -5.526464788692709,
          0.746885793676206,
          -3.107324959085042,
          -1.5723650885112803,
          -7.20099874761194,
          -8.25603212065656,
          -3.419019878722409,
          1.159246242676681,
          3.2026690975626964,
          -9.286791973045874,
          -1.2927707747441075,
          -6.966955375928108,
          -1.756915609603411,
          -7.581225236011079,
          -7.705890598607419,
          -1.8828054802970315,
          -9.238036164010175,
          -8.645125318402348
         ],
         "xaxis": "x",
         "y": [
          -1.3489144230419132,
          -0.86594405180789,
          -0.8232903406005,
          -7.585988679586175,
          -1.1026587899141251,
          -0.6630956409312793,
          -0.12417965242950836,
          0.3537549144058854,
          2.6507127519323372,
          -5.682854619686313,
          0.7176884708244475,
          -1.242582324552555,
          -2.4254608822045456,
          4.1698884924509505,
          -2.553133442315259,
          0.8102471808411998,
          -4.768714846564087,
          4.664351414536415,
          -1.7260092145652337,
          -2.0358765341327425,
          -2.2576336404212123,
          -0.48013557020767306,
          -2.561419379011177,
          -0.054526421765043846,
          -3.886227120376314,
          -0.8079307491776645,
          -7.7188288994602825,
          2.809562717289519,
          0.2992310545566745,
          4.527047607167943,
          1.8628320918325787,
          -1.2938713558781127,
          -1.8793180747337606,
          1.674679909421622,
          1.8259075176188637,
          -4.456175589946615,
          -2.5572620743967804,
          -4.048946044474437,
          1.4263877581953734,
          3.181633886381158,
          -8.730768781900684,
          -0.18361984157016373,
          -0.4005225437040926,
          -4.088901793640226,
          0.6498964189604806,
          0.10154232955109643,
          0.900734127756037,
          2.0362910844512347,
          3.845727338207755,
          -3.4603896097728692,
          0.2739670615080244,
          0.9128244339421564,
          -3.0312147636952225,
          2.675034506544271,
          -0.7237559700046107,
          -1.7286371042987567,
          -1.6433497052114163,
          3.1207649955681,
          -3.023388570832282,
          -1.7792753504233112,
          -6.602998502437879,
          -2.0220463872198957,
          -3.179602760879669,
          -0.44845035296440616,
          -2.3695290015022046,
          2.79263045952151,
          -2.5278370558970247,
          0.16892098515113696,
          1.4585037299730716,
          1.6532694482843266,
          -3.199330325741881,
          1.0880677522587354,
          0.9950725255881966,
          -0.5516103107419056,
          0.7186391221827205,
          -3.111532717745373,
          0.22355566156680567,
          0.5826873594882843,
          -8.166431291727658,
          2.935637373227459,
          -7.570431241314467,
          -4.617268393256058,
          -1.9146285429159493,
          -4.006634732861738,
          -7.958886771060995,
          -4.729017232807699,
          -3.168850109037232,
          0.7450448054103903,
          -2.379131767850078,
          -4.002045444349639,
          -1.4050137926462014,
          -0.815879727938721,
          -6.34506486301411,
          0.8500302617638588,
          -0.7173056131261166,
          4.249079779756874,
          2.8138038589084715,
          3.7982311701883447,
          -2.144988143870244,
          -7.5366251016914845,
          0.942861817429589,
          2.2123900815622015,
          -2.515670296352597,
          -0.32987620798545086,
          -0.5259987036906713,
          -2.606326203525795,
          3.4112113007398497,
          2.187557078047521,
          -3.3762767890226586,
          1.2726769006642966,
          -2.2104996381318176,
          -1.018732595935588,
          1.4611851463081986,
          5.0424353899936065,
          -1.0508154858201124,
          -2.733170281293561,
          0.24427544568957663,
          -5.437799678750698,
          -3.1945896027221887,
          3.441661382983881,
          -4.671202252987242,
          -2.411495960697369,
          0.42762152099207873,
          -6.606652973904353,
          -2.8732816005368327,
          2.261457998997334,
          -1.7427149067625483,
          2.3078360096689305,
          -7.857058183796432,
          -7.457724268852602,
          -0.8853398130892115,
          5.584039405008052,
          4.112861125429626,
          -3.200913355514906,
          -3.0146126409605056,
          -6.313091033637957,
          1.0779986798983228,
          -0.9439104819943808,
          -8.352575009182193,
          -3.8430695203058653,
          -5.630894241243917,
          -1.2085767416086615,
          -4.514412147385863,
          -0.49909110720712657,
          -6.239011670098761,
          -6.630082779411641,
          -5.286551095812036,
          -3.754130377951867,
          1.591071264512998,
          -2.1002143797732074,
          -6.285266930263458,
          -0.3905240449678445,
          1.0974353921544353,
          3.854374126350069,
          -3.9950081934711577,
          2.6338643447231007,
          2.246135215626581,
          2.458712668348387,
          -4.211521823807334,
          2.8368476713681003,
          -2.287638514316633,
          -6.123052230312185,
          -3.814181112140234,
          -4.753556718064507,
          1.9191329061390574,
          3.7916292457141365,
          2.6807045799525335,
          -4.613134450993254,
          -2.9337974862132388,
          -1.7805447305368967,
          -2.1055113090973614,
          -1.0188011140027564,
          -0.7455260104176349,
          -0.017952848450827244,
          2.3438746260164356,
          -6.400691084757722,
          -4.971550393177603,
          -3.6755642312179977,
          2.4419104191251852,
          -6.097173891238517,
          -2.8039203431848887,
          0.4389495627404364,
          -6.048813923042397,
          2.820021964351582,
          -3.7901458559927375,
          2.1796244232947415,
          2.0007369522485807,
          -3.148959069523083,
          -4.078649109464023,
          -0.04334484969351262,
          2.0912463480627173,
          -7.982838693225816,
          -0.6076997900843562,
          -3.6754604510939872,
          -0.47230808044018663,
          1.690664450250276,
          -1.705822235713265,
          3.6594667803355083,
          -1.1739584072529192,
          0.7833013921315513,
          -0.16794190728931424,
          -2.1924849854185853,
          0.9789598267819722,
          -6.154005302860404,
          -0.8954513779441307,
          -6.095422913307584,
          4.528976619862784,
          -3.8627611664995225,
          2.5950743808877625,
          4.072489589570155,
          -0.2559119888198264,
          0.447008077170337,
          -5.280145428864954,
          0.8029424417380278,
          -1.367920117583788,
          2.2948138371935123,
          0.5122055035365887,
          1.8503443084862947,
          2.1377298535093647,
          2.3423474166058176,
          -7.449442074730165,
          1.7855058266333188,
          3.258758469919148,
          -1.7061491688085781,
          4.165256247350915,
          2.228471134618447,
          -3.1565471819754274,
          1.8231376915957735,
          4.875571486071647,
          -5.330404590358934,
          -0.7788497196288691,
          1.9309572340003893,
          -7.950353217127722,
          -5.180649114835313,
          0.14895027702123792,
          -0.9115501545626719,
          2.1103102065543204,
          -1.2505056843061106,
          -6.72639170132424,
          3.1130246832637565,
          -4.959589101643325,
          2.514645073037387,
          -2.8490831971330053,
          -3.931703552047407,
          1.9736124494043417,
          -4.47479454591531,
          -0.2758254818032471,
          -7.480091509386378,
          -3.3010912723765284,
          2.9966743458396174,
          -0.1671037456632661,
          -2.4290118807727654,
          0.7069434383652337,
          -2.3344984847335555,
          2.3885105006052054,
          -4.743033364811255,
          -1.328160431635016,
          2.1174784750325717,
          2.7265244463687948,
          3.405447541536039,
          1.6787212709259975,
          -4.034308963066254,
          -1.5579659616200865,
          0.12488599843698954,
          -3.9879731551043203,
          -5.241430676933268,
          -1.157963506382777,
          -5.968131094461521,
          -1.2467323027560748,
          0.4118970171716163,
          -0.5130079506454481,
          2.742292806680077,
          -2.452161858637276,
          3.4858330271839373,
          2.420828851469373,
          -4.897768345216763,
          3.97775329878495,
          -6.328799971591588,
          2.5247579137087266,
          -6.695512173601319,
          -3.7684828021367687,
          -0.7323301427207739,
          -0.76773397366166,
          1.9530986356089426,
          0.10858089093871176,
          4.452003756420811,
          4.968615015410607,
          -6.168548322547313,
          4.146814955119404,
          -3.3978851873231704,
          -4.023046404283837,
          -1.7025438375477342,
          -4.7926760813799465,
          -5.762347219282795,
          5.598853236927731,
          -0.8669743421385666,
          -7.368907526855056,
          1.1192897999055986,
          4.7057606586679395,
          -0.8870355585637169,
          0.18979368686896267,
          0.5231503948236824,
          -2.622397382373372,
          -1.6173801927672842,
          -2.769948293066945,
          1.1564706185765945,
          -3.6295066125383535,
          -2.763946795898776,
          3.3179222170333267,
          4.51361696667546,
          -2.19597428021834,
          -5.153966196468448,
          -4.631934790143153,
          -0.06120926478778867,
          2.465012347969482,
          -2.1015014984752214,
          0.39931381910851993,
          0.45470171303729695,
          -1.2094924996595116,
          1.3038561188482636,
          -0.019009053891237197,
          -7.6304036495996845,
          -2.5636224602599214,
          -3.7978061886846453,
          1.4114650737905674,
          0.19023911701919385,
          -3.1694762500638216,
          5.576098758514823,
          4.610880890011975,
          -0.7451861674263303,
          1.9246246973811634,
          -0.15880316805495057,
          2.5483300666871664,
          -1.3210257951517632,
          -6.366619818017685,
          -4.8016811738116205,
          -0.3101078540974149,
          2.6858747347132628,
          1.8123779462618457,
          -3.376829104106097,
          2.3512467723943433,
          -7.094218706615267,
          1.3805367928875742,
          -0.8147115753753703,
          -0.01676113736613536,
          0.7720453426550371,
          4.9996185865426215,
          0.7413959290380308,
          0.6193154959519785,
          -6.343845700041542,
          0.3271946764282925,
          -7.565623054014774,
          0.5176537135912376,
          0.43394589936577666,
          2.1704932627730544,
          -4.434805856915553,
          -1.035388105655592,
          -4.718246996609003,
          -4.464553593851958,
          -0.845499001891858,
          0.1065959039687598,
          -5.666242392924835,
          -7.842783511589427,
          -3.4372156691712763,
          -2.9267726549401125,
          -0.616249562712099,
          -0.6921832748133255,
          -2.0918040244969665,
          5.238076911109884,
          1.4951014860002698,
          -5.6790550175969425,
          -5.278419954532941,
          -1.0294168753474586,
          -6.021854381839335,
          2.6705504272549954,
          -3.3049312383507607,
          2.9475372482617535,
          -2.144838216827387,
          1.7638374205924598,
          -7.22149546882495,
          -2.0364477211524705,
          -0.5860603775622591,
          0.14260326572578338,
          -4.570469829279858,
          -3.5176574395350593,
          2.0254776102933203,
          -5.231377685284215,
          4.080746399424132,
          -2.5622586434754173,
          -4.737391723977401,
          -3.9790338644900745,
          -0.7292922696871086,
          5.930424859951797,
          4.124796037106012
         ],
         "yaxis": "y"
        },
        {
         "hovertemplate": "cluster_assigned=Marcel Stout<br>Principal component 1=%{x}<br>Principal component 2=%{y}<extra></extra>",
         "legendgroup": "Marcel Stout",
         "marker": {
          "color": "#00cc96",
          "opacity": 1,
          "symbol": "circle"
         },
         "mode": "markers",
         "name": "Marcel Stout",
         "orientation": "v",
         "showlegend": true,
         "type": "scatter",
         "x": [
          -4.207539188506192,
          2.207724399787603,
          -4.999619452473195,
          -9.491068588476887,
          -8.425593968127892,
          2.9194127319841785,
          5.707495668560188,
          6.894211970243061,
          6.6823328665329385,
          -11.109025211537858,
          0.17823822654893623,
          -5.206676010913873,
          -1.4185946064554544,
          2.8259233532888377,
          -2.3680190319547676,
          2.798769791042296,
          -8.011414629508357,
          -2.3363281902072264,
          4.377862621622697,
          2.261467220925875,
          6.403504773217908,
          5.4388904113874466,
          -5.374549502938472,
          3.9691862474952924,
          1.4269339801303715,
          -10.721928520555322,
          -5.808355677473512,
          -3.954547199635687,
          -7.847696487010488,
          1.277542716814362,
          -4.108274534327655,
          8.722884248778985,
          -2.461619370480755,
          -9.217946598676814,
          -2.0247821628883846,
          5.519667157570987,
          -4.593619456831311,
          -10.752285276737908,
          -1.399143099865029,
          2.80758098291013,
          6.136377478529554,
          1.1808895418711938,
          -0.1808631557613103,
          -5.103985492974264,
          8.036860165047962,
          7.744059688393649,
          3.534865942012362,
          1.0327484774662874,
          -5.791028402293639,
          5.352875973445133,
          5.452264106654665,
          -2.5916624167891955,
          -8.570642984278635,
          3.861643167219388,
          -6.664666027575961,
          3.5430616228652676,
          1.6216164404753637,
          -6.067965873524342,
          -2.7207427941044977,
          -8.716986542493785,
          -3.5788252104219307,
          -9.450675346211305,
          0.7200325249812949,
          8.142847673021858,
          -7.29647938265682,
          6.5389170652948945,
          4.637168559137096,
          5.518377716745137,
          -2.7326580864462633,
          1.1573035667425444,
          -1.8906014418012205,
          1.3377006964498523,
          3.853809496941939,
          -3.746190841509292,
          3.718641991459967,
          -5.100258151890014,
          -1.090158565493764,
          -8.397727890734211,
          -10.279971371510499,
          1.5018205596889136,
          3.745089562683409,
          -2.8957924783504696,
          11.907575908160847,
          4.529640869867797,
          1.0764064119555656,
          2.9757250671764117,
          -3.0544825799777,
          0.8226132327751298,
          -0.2812969609174082,
          -1.9602901420379857,
          6.979194081908904,
          3.881321224885826,
          2.846074642096996,
          4.646861570902581,
          -0.982859354102165,
          -4.537513411227396,
          -3.3723745969209356,
          -4.148478166795251,
          -3.3066468399394076,
          3.007056449012114,
          0.7056927315354037,
          8.854839904270555,
          -2.5465069107262863,
          2.413646522024668,
          1.637926834870298,
          -3.6434957927782032,
          4.5838443759567165,
          -9.165210995269309,
          1.1623732095796575,
          8.001512302302642,
          3.4404140970605828,
          4.50781013658189,
          8.923386187333398,
          7.546029652284904,
          7.512920215576003,
          7.637262339428111,
          -2.3334343702727685,
          0.7380668517575466,
          8.644647074927102,
          -5.075255613537407,
          4.733587178405717,
          -4.2774768405723425,
          4.662371038263875,
          -6.8401653654053876,
          3.491606956813995,
          0.7969733025770224,
          3.9445656777314055,
          6.777357618404426,
          -9.605862202104134,
          2.6177377713588252,
          0.5191932605886711,
          -3.5708416116539468,
          -9.771775621432894,
          -11.15888627342667,
          -2.9696191999798844,
          -9.304406480440326,
          -5.467553144299745,
          -5.525312091574416,
          -9.78627006422356,
          5.790773286625945,
          0.01146372757524266,
          -9.546904250835958,
          9.912243314572983,
          6.6878318904217515,
          -5.392459324164073,
          -9.968729089918064,
          3.5782781164611928,
          -2.2181291106853998,
          -0.6850325580100807,
          -2.448092180083133,
          4.235230965742438,
          -0.4119246356034017,
          2.3706976353667737,
          -9.396760618827459,
          3.5602995874186276,
          12.73129402593824,
          8.594247473380955,
          0.9450339725064824,
          -8.767123256016774,
          -2.709578590663224,
          -9.274694478470419,
          -0.9547514302039889,
          -6.127663363686035,
          1.9957031045075528,
          0.8681188968869308,
          -10.976278460785716,
          -0.9047751077407837,
          -9.069443563461489,
          2.3109273318456167,
          3.0692424388247352,
          -2.4863156814034837,
          -2.8685677449334452,
          -2.4658282780932357,
          2.592143693724409,
          1.8130121800432357,
          -10.644043683800493,
          4.188661904084995,
          -8.755271824397212,
          -6.238777880272481,
          3.2184316216592133,
          -7.071599903518038,
          1.2538495920960095,
          0.017791112459695675,
          1.588191936107932,
          -8.835708447409672,
          -4.5489243936830945,
          -7.259493011999287,
          0.7332729317170564,
          0.6620750880917274,
          -3.321622179433801,
          7.122297660565873,
          -5.811981925142377,
          5.502829476792287,
          1.5348166908528569,
          -1.815835676978751,
          -4.887682975470966
         ],
         "xaxis": "x",
         "y": [
          13.70814137988479,
          17.676583475705964,
          12.987881143941967,
          15.550769778124632,
          9.190376841277372,
          10.19791905569911,
          11.107262386905527,
          7.082180158583481,
          7.801706395852108,
          11.18055158153072,
          6.6695009344887906,
          11.55517361660367,
          11.974498451093963,
          16.760492269260943,
          5.588719304550191,
          5.797242486487677,
          16.419876022190703,
          4.827341413134183,
          8.201541344094942,
          4.474870086238996,
          9.367946040557184,
          6.137368023687836,
          9.676169157373858,
          10.327968425241448,
          5.0500542417920125,
          5.961983985444841,
          6.014624436165426,
          6.8641768131023895,
          7.6288215451860175,
          4.9115474829713195,
          4.895154206224335,
          11.53008172405274,
          7.597603321157705,
          5.964267909998807,
          8.107877333228414,
          3.7602420092445668,
          20.17389033214725,
          12.18434230241061,
          6.332238380005028,
          12.289986150569023,
          12.26559911665664,
          4.148542869697926,
          12.106546297664012,
          11.486002322844092,
          5.979932039844001,
          13.86372510562354,
          3.1639242227476143,
          4.158675028912951,
          8.530330930387752,
          3.1961560478068556,
          7.601152074246713,
          5.708710906709682,
          10.456965929721687,
          4.968355802841746,
          18.357971519892295,
          9.632596792401584,
          9.57804748094651,
          15.923341010396133,
          5.871567979155356,
          13.269010488440651,
          10.223699066134047,
          18.13784850463947,
          6.359522365929795,
          7.698034292667518,
          10.991541240147656,
          11.56128467916281,
          5.883411880289767,
          6.849073553697536,
          5.747766690894919,
          5.304384757412728,
          5.232692253355028,
          8.666486966215324,
          11.265695069392843,
          6.713054455558911,
          13.57438837921336,
          6.521773280341895,
          4.9581238438595445,
          17.055011578940707,
          13.660683653899891,
          7.416371997109444,
          7.915026565158618,
          20.864479862297273,
          11.376964725377068,
          3.737030736109098,
          18.08311389470941,
          2.9450657674026988,
          9.012837647942941,
          10.490807522809934,
          7.199558876283665,
          6.829294798445629,
          10.924605607381777,
          3.5523934850213688,
          2.4388829651778456,
          9.051500928499337,
          10.403783495375079,
          20.09059570623905,
          19.83141163861327,
          8.136577063496855,
          11.189079188419104,
          6.529985000266474,
          3.165435058075131,
          10.866003352828596,
          6.236040267583889,
          1.7345704402494495,
          12.854820073385563,
          7.290299247562648,
          7.949293766203047,
          15.779060636712776,
          3.5519737642623834,
          12.837832394299982,
          9.046024721739743,
          6.454323295761276,
          17.48078680740076,
          8.592453392648581,
          5.787030430096914,
          7.926232260630995,
          5.728038462605966,
          4.361527161406864,
          11.401608463866559,
          15.087001371344476,
          6.054350359167605,
          6.71589632715731,
          8.638175089357935,
          20.42557699112354,
          9.500911883014323,
          5.238805789974797,
          1.790669323176561,
          8.269686618667375,
          15.583712519505177,
          8.59101033375114,
          12.82404282730371,
          5.5120680396505914,
          10.001074821554361,
          7.839482650440921,
          15.68262558511791,
          33.78769815762368,
          7.634927907833419,
          10.52424593449389,
          14.446375544079936,
          14.342465148939226,
          3.9362513023005783,
          12.13840196560417,
          15.140034596498909,
          5.263072133007244,
          7.050177983355905,
          17.425172533785375,
          4.132915803901597,
          10.710726736481512,
          6.146455935528501,
          5.85206919953194,
          6.231655915150164,
          6.553432753731032,
          6.518646081657246,
          9.958357049398796,
          5.190732413026784,
          11.53469415415214,
          8.650729041756515,
          7.240204760286238,
          8.601326955836686,
          6.703838176769192,
          17.601170717507916,
          5.83436779490246,
          9.830370694449664,
          6.466434182148166,
          7.745422875174053,
          12.518050875782443,
          16.787574387236816,
          17.572028416223773,
          13.041264821342091,
          5.349640401381894,
          11.781112919655506,
          19.444292720492925,
          13.02939991081102,
          12.289143280806826,
          4.906069909223406,
          11.682935119038069,
          4.86817793185573,
          9.810078414764748,
          19.41718290719621,
          9.781891634670373,
          8.151951157006941,
          7.121122023275934,
          6.465860117869032,
          5.7580490933419926,
          7.93610898417526,
          15.272095982993145,
          16.64872280668219,
          5.012707211042402,
          6.449984236244758,
          6.511317744350569,
          7.596231835526998,
          13.027897547117869,
          4.336049329373805,
          10.431169947469181,
          22.635735947104852,
          6.732757526441497
         ],
         "yaxis": "y"
        },
        {
         "hovertemplate": "cluster_assigned=James Bland<br>Principal component 1=%{x}<br>Principal component 2=%{y}<extra></extra>",
         "legendgroup": "James Bland",
         "marker": {
          "color": "#ab63fa",
          "opacity": 1,
          "symbol": "circle"
         },
         "mode": "markers",
         "name": "James Bland",
         "orientation": "v",
         "showlegend": true,
         "type": "scatter",
         "x": [
          -12.735692404616813,
          -13.415750427106683,
          -13.30323031738589,
          -10.165204121607013,
          -10.253875651032203,
          -8.503089503813824,
          -12.757943952939335,
          -9.5003890088249,
          -11.681824429756917,
          -2.354740374658242,
          -10.177135764267915,
          -16.70203896422134,
          -11.943125055529435,
          -11.10878738587381,
          -12.93514285258924,
          -9.684668812201133,
          -9.088363673562267,
          -11.351109192276862,
          -8.140017535269287,
          -12.744736302142442,
          -2.930641460811948,
          -9.731922695029382,
          -14.560695174906575,
          -13.074727932641665,
          -10.780431662049548,
          -1.9369152268429883,
          -9.13434181185937,
          -3.755599710006099,
          -11.37225262210136,
          -9.522324158085732,
          -10.685342798385753,
          -13.71859331916774,
          -10.366815103069166,
          -16.003483307611752,
          -10.310727541931055,
          -16.96369092607956,
          -3.7422066641227394,
          -3.0103447079511176,
          -4.71813780124434,
          -3.3887331758969874,
          -11.7856711642229,
          -7.9691554490578005,
          -13.956818281923765,
          -14.591240187656805,
          -17.250376967395095,
          -16.73700798640909,
          -11.28227987766799,
          -5.013447796272914,
          -10.552877482718513,
          -11.683558453620845,
          -10.249737228343044,
          -9.439977537927051,
          -13.95822954243906,
          -9.468041832645781,
          -9.033948061692689,
          -9.759485243459654,
          -5.40770764780944,
          -13.378563220218963,
          -10.481938026720146,
          -5.517320726225143,
          -6.907447810195566,
          -10.888221478123121,
          -5.196173335835355,
          -12.773971501796456,
          -6.575619720885696,
          -7.7327623478488405,
          -10.644902769182531,
          -11.255422043256306,
          -12.39705693627407,
          -10.52132960344239,
          -8.68907760795257,
          -12.77303299940961,
          -10.947224270877944,
          -12.646146300310622,
          -8.767104301207421,
          -9.43859993248345,
          -6.161608732407178,
          -14.726665081023134,
          -11.568195335391788,
          -11.894013248981816,
          -11.311010434599618,
          -11.803118975796087,
          -13.870602474165281,
          -6.088120385535936,
          -11.698187182691765,
          -10.707693279222074,
          -10.777019008676946,
          -6.49746711937449,
          -12.949532566767243,
          -15.00567731027964,
          -10.125552859386655,
          -10.861873048943318,
          -3.0334350216595496,
          -13.159990418448109,
          -12.96546743217801,
          -11.954336628730342,
          -13.637594782579686,
          -8.203713647860774,
          -12.240540759429097,
          -8.679762028422,
          -8.452660985506542,
          -10.952600226404979,
          -9.045058359655105,
          -5.450590764269387,
          -14.159350076710913,
          -15.543064206684505,
          -10.400681191389067,
          -12.375840192228146,
          -10.062899196806436,
          -11.463112653038756,
          -8.32298249615433,
          -10.782796267029596,
          -13.621399587321724,
          -12.996260180130356,
          -14.112342850371432,
          -6.347506190418147,
          -14.472610314399153,
          -10.079286925801126,
          -13.280140892927678,
          -6.898001663803972,
          -11.166264809863158,
          -9.00932235616338,
          -2.189400728219982,
          -13.467934082823549,
          -14.778977892441455,
          -9.884173699187084,
          -9.07724291395993,
          -16.448628785926434,
          -9.691422110331011,
          -12.396111736191356,
          -11.218824625049914,
          -13.507149693242024,
          -9.042672959694995,
          -7.691730895125276,
          -5.483110072789782,
          -14.830866606909645,
          -14.816071328105064,
          -11.43542260819023,
          -8.495565605377466,
          -11.324645909593187,
          -9.66580953379637
         ],
         "xaxis": "x",
         "y": [
          -2.8327538057130304,
          -7.827705197214545,
          -2.2083515273402554,
          -5.583422859327722,
          -8.409818469363591,
          -5.978993009761226,
          -8.503557104692366,
          -12.961830518247318,
          -8.445587082573548,
          -8.961864590164211,
          -5.321111952489925,
          -12.897927489666614,
          -5.335929967144845,
          -2.1501786033180657,
          -5.660194126988543,
          -4.577932680774131,
          -3.684016861608403,
          -5.195519656859107,
          -1.7085640842235532,
          -4.75939703826929,
          -1.8821531299159109,
          -9.438747102725062,
          -9.70442168709466,
          -9.251136223533754,
          -6.808242292245195,
          -7.783552263695361,
          -3.281786034469653,
          -11.325161478391285,
          -3.1627062099055667,
          -0.5463487313405508,
          3.927237563029871,
          -7.906591660062224,
          -13.209771214021153,
          -14.89088165954047,
          -3.971186628587055,
          -11.690193860634581,
          -4.664752570830879,
          -8.859241043971855,
          -0.6598667208616112,
          -1.1186531156292732,
          -7.870940882847945,
          -8.785449678990336,
          -10.45539361380899,
          -8.613367320396057,
          -15.22771290833359,
          -14.950009783557658,
          -6.533072955284412,
          -8.031704974749358,
          -8.329755744010695,
          -11.944900970443427,
          -7.770467476562394,
          -4.239364986477843,
          -7.872972379823195,
          -8.234399424843625,
          -1.1694618383358508,
          -9.430497591633964,
          -11.066753421289963,
          -10.833357757615978,
          -2.9628954573014044,
          -7.108028536430885,
          -5.067891461555719,
          0.6335422480599756,
          -9.477589275097394,
          -8.501536300229741,
          -8.034538665511082,
          -8.321675657039705,
          -4.204927976968422,
          -10.79333011877439,
          -1.847250136838987,
          -3.2246694468496098,
          -11.924026930640391,
          -2.6866455342501627,
          -2.4474655602350897,
          -5.025347494802275,
          -2.451413691602688,
          -1.9156224417730074,
          -7.575748348045163,
          -14.383869210115428,
          -7.3457648100568145,
          0.6304822710819924,
          -0.3124707511231023,
          0.9140805577194411,
          -7.150800704030908,
          -4.178897096036549,
          -7.232694036633848,
          -6.546377202224714,
          -5.142284235707246,
          -5.455710997733182,
          0.8472520350917494,
          -9.852351546012406,
          -3.046278377027605,
          -10.214874117914253,
          -9.869093511770574,
          -10.164419816782054,
          -6.8412958485616775,
          -3.345510373556163,
          -6.988120859100652,
          -7.279560422176831,
          0.8311167935082522,
          -7.81319143304592,
          -14.961281290604516,
          -3.199520964887094,
          -5.489034770930867,
          -5.1572449428164555,
          -8.767415326260394,
          -12.911098061311236,
          -7.278511198777515,
          -5.7558149509896745,
          -0.9989639731506702,
          -7.133725636084949,
          -4.139522799445965,
          2.3593263643708173,
          -9.703651117420044,
          -6.15835185990727,
          -9.039114169834905,
          -6.353788341873822,
          -12.295225722650716,
          -5.450507515486035,
          -3.859244817636732,
          -6.146839113948912,
          -6.487960752820517,
          -6.569359996307086,
          -8.294290104468848,
          -4.036520848728637,
          -13.404649630910743,
          -9.042220600411527,
          -11.021713519799777,
          -16.4515897926017,
          -2.8988065897754685,
          -9.850110476810956,
          -7.48780067960585,
          -6.8931503131552,
          -4.965697499473695,
          -8.217198560256467,
          -4.395754566148006,
          -7.989577428830307,
          -12.769995964116363,
          -5.040102815249693,
          1.4107756383748655,
          -3.6375029788141027,
          4.286279573363457
         ],
         "yaxis": "y"
        }
       ],
       "layout": {
        "height": 600,
        "legend": {
         "title": {
          "text": "cluster_assigned"
         },
         "tracegroupgap": 0
        },
        "template": {
         "data": {
          "bar": [
           {
            "error_x": {
             "color": "#2a3f5f"
            },
            "error_y": {
             "color": "#2a3f5f"
            },
            "marker": {
             "line": {
              "color": "#E5ECF6",
              "width": 0.5
             },
             "pattern": {
              "fillmode": "overlay",
              "size": 10,
              "solidity": 0.2
             }
            },
            "type": "bar"
           }
          ],
          "barpolar": [
           {
            "marker": {
             "line": {
              "color": "#E5ECF6",
              "width": 0.5
             },
             "pattern": {
              "fillmode": "overlay",
              "size": 10,
              "solidity": 0.2
             }
            },
            "type": "barpolar"
           }
          ],
          "carpet": [
           {
            "aaxis": {
             "endlinecolor": "#2a3f5f",
             "gridcolor": "white",
             "linecolor": "white",
             "minorgridcolor": "white",
             "startlinecolor": "#2a3f5f"
            },
            "baxis": {
             "endlinecolor": "#2a3f5f",
             "gridcolor": "white",
             "linecolor": "white",
             "minorgridcolor": "white",
             "startlinecolor": "#2a3f5f"
            },
            "type": "carpet"
           }
          ],
          "choropleth": [
           {
            "colorbar": {
             "outlinewidth": 0,
             "ticks": ""
            },
            "type": "choropleth"
           }
          ],
          "contour": [
           {
            "colorbar": {
             "outlinewidth": 0,
             "ticks": ""
            },
            "colorscale": [
             [
              0,
              "#0d0887"
             ],
             [
              0.1111111111111111,
              "#46039f"
             ],
             [
              0.2222222222222222,
              "#7201a8"
             ],
             [
              0.3333333333333333,
              "#9c179e"
             ],
             [
              0.4444444444444444,
              "#bd3786"
             ],
             [
              0.5555555555555556,
              "#d8576b"
             ],
             [
              0.6666666666666666,
              "#ed7953"
             ],
             [
              0.7777777777777778,
              "#fb9f3a"
             ],
             [
              0.8888888888888888,
              "#fdca26"
             ],
             [
              1,
              "#f0f921"
             ]
            ],
            "type": "contour"
           }
          ],
          "contourcarpet": [
           {
            "colorbar": {
             "outlinewidth": 0,
             "ticks": ""
            },
            "type": "contourcarpet"
           }
          ],
          "heatmap": [
           {
            "colorbar": {
             "outlinewidth": 0,
             "ticks": ""
            },
            "colorscale": [
             [
              0,
              "#0d0887"
             ],
             [
              0.1111111111111111,
              "#46039f"
             ],
             [
              0.2222222222222222,
              "#7201a8"
             ],
             [
              0.3333333333333333,
              "#9c179e"
             ],
             [
              0.4444444444444444,
              "#bd3786"
             ],
             [
              0.5555555555555556,
              "#d8576b"
             ],
             [
              0.6666666666666666,
              "#ed7953"
             ],
             [
              0.7777777777777778,
              "#fb9f3a"
             ],
             [
              0.8888888888888888,
              "#fdca26"
             ],
             [
              1,
              "#f0f921"
             ]
            ],
            "type": "heatmap"
           }
          ],
          "heatmapgl": [
           {
            "colorbar": {
             "outlinewidth": 0,
             "ticks": ""
            },
            "colorscale": [
             [
              0,
              "#0d0887"
             ],
             [
              0.1111111111111111,
              "#46039f"
             ],
             [
              0.2222222222222222,
              "#7201a8"
             ],
             [
              0.3333333333333333,
              "#9c179e"
             ],
             [
              0.4444444444444444,
              "#bd3786"
             ],
             [
              0.5555555555555556,
              "#d8576b"
             ],
             [
              0.6666666666666666,
              "#ed7953"
             ],
             [
              0.7777777777777778,
              "#fb9f3a"
             ],
             [
              0.8888888888888888,
              "#fdca26"
             ],
             [
              1,
              "#f0f921"
             ]
            ],
            "type": "heatmapgl"
           }
          ],
          "histogram": [
           {
            "marker": {
             "pattern": {
              "fillmode": "overlay",
              "size": 10,
              "solidity": 0.2
             }
            },
            "type": "histogram"
           }
          ],
          "histogram2d": [
           {
            "colorbar": {
             "outlinewidth": 0,
             "ticks": ""
            },
            "colorscale": [
             [
              0,
              "#0d0887"
             ],
             [
              0.1111111111111111,
              "#46039f"
             ],
             [
              0.2222222222222222,
              "#7201a8"
             ],
             [
              0.3333333333333333,
              "#9c179e"
             ],
             [
              0.4444444444444444,
              "#bd3786"
             ],
             [
              0.5555555555555556,
              "#d8576b"
             ],
             [
              0.6666666666666666,
              "#ed7953"
             ],
             [
              0.7777777777777778,
              "#fb9f3a"
             ],
             [
              0.8888888888888888,
              "#fdca26"
             ],
             [
              1,
              "#f0f921"
             ]
            ],
            "type": "histogram2d"
           }
          ],
          "histogram2dcontour": [
           {
            "colorbar": {
             "outlinewidth": 0,
             "ticks": ""
            },
            "colorscale": [
             [
              0,
              "#0d0887"
             ],
             [
              0.1111111111111111,
              "#46039f"
             ],
             [
              0.2222222222222222,
              "#7201a8"
             ],
             [
              0.3333333333333333,
              "#9c179e"
             ],
             [
              0.4444444444444444,
              "#bd3786"
             ],
             [
              0.5555555555555556,
              "#d8576b"
             ],
             [
              0.6666666666666666,
              "#ed7953"
             ],
             [
              0.7777777777777778,
              "#fb9f3a"
             ],
             [
              0.8888888888888888,
              "#fdca26"
             ],
             [
              1,
              "#f0f921"
             ]
            ],
            "type": "histogram2dcontour"
           }
          ],
          "mesh3d": [
           {
            "colorbar": {
             "outlinewidth": 0,
             "ticks": ""
            },
            "type": "mesh3d"
           }
          ],
          "parcoords": [
           {
            "line": {
             "colorbar": {
              "outlinewidth": 0,
              "ticks": ""
             }
            },
            "type": "parcoords"
           }
          ],
          "pie": [
           {
            "automargin": true,
            "type": "pie"
           }
          ],
          "scatter": [
           {
            "marker": {
             "colorbar": {
              "outlinewidth": 0,
              "ticks": ""
             }
            },
            "type": "scatter"
           }
          ],
          "scatter3d": [
           {
            "line": {
             "colorbar": {
              "outlinewidth": 0,
              "ticks": ""
             }
            },
            "marker": {
             "colorbar": {
              "outlinewidth": 0,
              "ticks": ""
             }
            },
            "type": "scatter3d"
           }
          ],
          "scattercarpet": [
           {
            "marker": {
             "colorbar": {
              "outlinewidth": 0,
              "ticks": ""
             }
            },
            "type": "scattercarpet"
           }
          ],
          "scattergeo": [
           {
            "marker": {
             "colorbar": {
              "outlinewidth": 0,
              "ticks": ""
             }
            },
            "type": "scattergeo"
           }
          ],
          "scattergl": [
           {
            "marker": {
             "colorbar": {
              "outlinewidth": 0,
              "ticks": ""
             }
            },
            "type": "scattergl"
           }
          ],
          "scattermapbox": [
           {
            "marker": {
             "colorbar": {
              "outlinewidth": 0,
              "ticks": ""
             }
            },
            "type": "scattermapbox"
           }
          ],
          "scatterpolar": [
           {
            "marker": {
             "colorbar": {
              "outlinewidth": 0,
              "ticks": ""
             }
            },
            "type": "scatterpolar"
           }
          ],
          "scatterpolargl": [
           {
            "marker": {
             "colorbar": {
              "outlinewidth": 0,
              "ticks": ""
             }
            },
            "type": "scatterpolargl"
           }
          ],
          "scatterternary": [
           {
            "marker": {
             "colorbar": {
              "outlinewidth": 0,
              "ticks": ""
             }
            },
            "type": "scatterternary"
           }
          ],
          "surface": [
           {
            "colorbar": {
             "outlinewidth": 0,
             "ticks": ""
            },
            "colorscale": [
             [
              0,
              "#0d0887"
             ],
             [
              0.1111111111111111,
              "#46039f"
             ],
             [
              0.2222222222222222,
              "#7201a8"
             ],
             [
              0.3333333333333333,
              "#9c179e"
             ],
             [
              0.4444444444444444,
              "#bd3786"
             ],
             [
              0.5555555555555556,
              "#d8576b"
             ],
             [
              0.6666666666666666,
              "#ed7953"
             ],
             [
              0.7777777777777778,
              "#fb9f3a"
             ],
             [
              0.8888888888888888,
              "#fdca26"
             ],
             [
              1,
              "#f0f921"
             ]
            ],
            "type": "surface"
           }
          ],
          "table": [
           {
            "cells": {
             "fill": {
              "color": "#EBF0F8"
             },
             "line": {
              "color": "white"
             }
            },
            "header": {
             "fill": {
              "color": "#C8D4E3"
             },
             "line": {
              "color": "white"
             }
            },
            "type": "table"
           }
          ]
         },
         "layout": {
          "annotationdefaults": {
           "arrowcolor": "#2a3f5f",
           "arrowhead": 0,
           "arrowwidth": 1
          },
          "autotypenumbers": "strict",
          "coloraxis": {
           "colorbar": {
            "outlinewidth": 0,
            "ticks": ""
           }
          },
          "colorscale": {
           "diverging": [
            [
             0,
             "#8e0152"
            ],
            [
             0.1,
             "#c51b7d"
            ],
            [
             0.2,
             "#de77ae"
            ],
            [
             0.3,
             "#f1b6da"
            ],
            [
             0.4,
             "#fde0ef"
            ],
            [
             0.5,
             "#f7f7f7"
            ],
            [
             0.6,
             "#e6f5d0"
            ],
            [
             0.7,
             "#b8e186"
            ],
            [
             0.8,
             "#7fbc41"
            ],
            [
             0.9,
             "#4d9221"
            ],
            [
             1,
             "#276419"
            ]
           ],
           "sequential": [
            [
             0,
             "#0d0887"
            ],
            [
             0.1111111111111111,
             "#46039f"
            ],
            [
             0.2222222222222222,
             "#7201a8"
            ],
            [
             0.3333333333333333,
             "#9c179e"
            ],
            [
             0.4444444444444444,
             "#bd3786"
            ],
            [
             0.5555555555555556,
             "#d8576b"
            ],
            [
             0.6666666666666666,
             "#ed7953"
            ],
            [
             0.7777777777777778,
             "#fb9f3a"
            ],
            [
             0.8888888888888888,
             "#fdca26"
            ],
            [
             1,
             "#f0f921"
            ]
           ],
           "sequentialminus": [
            [
             0,
             "#0d0887"
            ],
            [
             0.1111111111111111,
             "#46039f"
            ],
            [
             0.2222222222222222,
             "#7201a8"
            ],
            [
             0.3333333333333333,
             "#9c179e"
            ],
            [
             0.4444444444444444,
             "#bd3786"
            ],
            [
             0.5555555555555556,
             "#d8576b"
            ],
            [
             0.6666666666666666,
             "#ed7953"
            ],
            [
             0.7777777777777778,
             "#fb9f3a"
            ],
            [
             0.8888888888888888,
             "#fdca26"
            ],
            [
             1,
             "#f0f921"
            ]
           ]
          },
          "colorway": [
           "#636efa",
           "#EF553B",
           "#00cc96",
           "#ab63fa",
           "#FFA15A",
           "#19d3f3",
           "#FF6692",
           "#B6E880",
           "#FF97FF",
           "#FECB52"
          ],
          "font": {
           "color": "#2a3f5f"
          },
          "geo": {
           "bgcolor": "white",
           "lakecolor": "white",
           "landcolor": "#E5ECF6",
           "showlakes": true,
           "showland": true,
           "subunitcolor": "white"
          },
          "hoverlabel": {
           "align": "left"
          },
          "hovermode": "closest",
          "mapbox": {
           "style": "light"
          },
          "paper_bgcolor": "white",
          "plot_bgcolor": "#E5ECF6",
          "polar": {
           "angularaxis": {
            "gridcolor": "white",
            "linecolor": "white",
            "ticks": ""
           },
           "bgcolor": "#E5ECF6",
           "radialaxis": {
            "gridcolor": "white",
            "linecolor": "white",
            "ticks": ""
           }
          },
          "scene": {
           "xaxis": {
            "backgroundcolor": "#E5ECF6",
            "gridcolor": "white",
            "gridwidth": 2,
            "linecolor": "white",
            "showbackground": true,
            "ticks": "",
            "zerolinecolor": "white"
           },
           "yaxis": {
            "backgroundcolor": "#E5ECF6",
            "gridcolor": "white",
            "gridwidth": 2,
            "linecolor": "white",
            "showbackground": true,
            "ticks": "",
            "zerolinecolor": "white"
           },
           "zaxis": {
            "backgroundcolor": "#E5ECF6",
            "gridcolor": "white",
            "gridwidth": 2,
            "linecolor": "white",
            "showbackground": true,
            "ticks": "",
            "zerolinecolor": "white"
           }
          },
          "shapedefaults": {
           "line": {
            "color": "#2a3f5f"
           }
          },
          "ternary": {
           "aaxis": {
            "gridcolor": "white",
            "linecolor": "white",
            "ticks": ""
           },
           "baxis": {
            "gridcolor": "white",
            "linecolor": "white",
            "ticks": ""
           },
           "bgcolor": "#E5ECF6",
           "caxis": {
            "gridcolor": "white",
            "linecolor": "white",
            "ticks": ""
           }
          },
          "title": {
           "x": 0.05
          },
          "xaxis": {
           "automargin": true,
           "gridcolor": "white",
           "linecolor": "white",
           "ticks": "",
           "title": {
            "standoff": 15
           },
           "zerolinecolor": "white",
           "zerolinewidth": 2
          },
          "yaxis": {
           "automargin": true,
           "gridcolor": "white",
           "linecolor": "white",
           "ticks": "",
           "title": {
            "standoff": 15
           },
           "zerolinecolor": "white",
           "zerolinewidth": 2
          }
         }
        },
        "title": {
         "text": "PCA projection of the 15 categories into the 3 Principal components"
        },
        "width": 1000,
        "xaxis": {
         "anchor": "y",
         "domain": [
          0,
          1
         ],
         "title": {
          "text": "Principal component 1"
         }
        },
        "yaxis": {
         "anchor": "x",
         "domain": [
          0,
          1
         ],
         "title": {
          "text": "Principal component 2"
         }
        }
       }
      }
     },
     "metadata": {},
     "output_type": "display_data"
    }
   ],
   "source": [
    "User_modify_2=pd.DataFrame( User_modify_2)\n",
    "User_modify_2.columns=['Principal component 1','Principal component 2']\n",
    "User_modify_2['cluster_assigned']=user_to_cat_first['cluster_assigned'].values\n",
    "fig = px.scatter(User_modify_3, x='Principal component 1', y='Principal component 2',opacity =1,\n",
    "             color='cluster_assigned' ,size_max =50,width=1000, height=600,title ='PCA projection of the 15 categories into the 3 Principal components')\n",
    "\n",
    "fig.show()\n",
    "fig.write_html(\"cluster_2dvisual.html\")"
   ]
  },
  {
   "cell_type": "code",
   "execution_count": 79,
   "metadata": {},
   "outputs": [],
   "source": [
    "# We also want to visualize our clustering with a non-linear projection techniques. Therefore, we use UMAP method"
   ]
  },
  {
   "cell_type": "code",
   "execution_count": 80,
   "metadata": {},
   "outputs": [],
   "source": [
    "trans = UMAP(n_neighbors=70, random_state=852484677).fit(user_to_cat_first[user_to_cat_first.columns[0:15]].values)\n",
    "user_projected_umap=pd.DataFrame(trans.embedding_)\n",
    "user_projected_umap.columns=['Axis x','Axis y']\n",
    "user_projected_umap['cluster_assigned']=user_to_cat_first['cluster_assigned'].values"
   ]
  },
  {
   "cell_type": "code",
   "execution_count": 81,
   "metadata": {},
   "outputs": [
    {
     "data": {
      "application/vnd.plotly.v1+json": {
       "config": {
        "plotlyServerURL": "https://plot.ly"
       },
       "data": [
        {
         "hovertemplate": "cluster_assigned=Jean-Michel IPA<br>Axis x=%{x}<br>Axis y=%{y}<extra></extra>",
         "legendgroup": "Jean-Michel IPA",
         "marker": {
          "color": "#636efa",
          "opacity": 1,
          "symbol": "circle"
         },
         "mode": "markers",
         "name": "Jean-Michel IPA",
         "orientation": "v",
         "showlegend": true,
         "type": "scatter",
         "x": [
          -0.5336853265762329,
          1.229577660560608,
          -0.13383285701274872,
          -0.8390582799911499,
          0.764096736907959,
          1.0720056295394897,
          -0.860582709312439,
          1.0449362993240356,
          1.6535511016845703,
          1.5650696754455566,
          1.7652736902236938,
          -0.08274388313293457,
          1.9199689626693726,
          1.6516793966293335,
          -0.8273476958274841,
          1.8806368112564087,
          0.4457230269908905,
          -0.7612266540527344,
          1.6055017709732056,
          2.17995548248291,
          0.9020557403564453,
          1.5580042600631714,
          1.072693109512329,
          2.0102345943450928,
          0.9580232501029968,
          1.440313696861267,
          -0.5784969925880432,
          -0.3190371096134186,
          1.1036052703857422,
          0.5566195249557495,
          1.8494462966918945,
          0.3941517174243927,
          0.7820268273353577,
          0.24940742552280426,
          -1.1306254863739014,
          1.5133854150772095,
          -0.9490917921066284,
          -0.8323341608047485,
          1.9154289960861206,
          0.5569950342178345,
          1.3177907466888428,
          0.6148163676261902,
          -1.0095276832580566,
          0.25108224153518677,
          -0.9593455195426941,
          -0.8894245624542236,
          -0.059870559722185135,
          0.8322007656097412,
          1.252759575843811,
          -0.3078921437263489,
          -0.8388194441795349,
          0.8415567874908447,
          1.4265474081039429,
          0.2584136128425598,
          0.5619570016860962,
          0.8681800961494446,
          2.409738779067993,
          -0.7888434529304504,
          -0.5458635687828064,
          1.4710878133773804,
          1.0587655305862427,
          -0.006505655590444803,
          2.0618886947631836,
          1.700747013092041,
          1.591143012046814,
          -0.043014559894800186,
          -0.6672240495681763,
          -0.7377884984016418,
          -0.5771228075027466,
          0.7878267168998718,
          -0.7031273245811462,
          0.88306725025177,
          0.9768388867378235,
          2.649050712585449,
          0.6202844381332397,
          -0.14434374868869781,
          1.449081301689148,
          -0.777556836605072,
          1.1463675498962402,
          -1.0439937114715576,
          -0.7104232311248779,
          -1.2227121591567993,
          1.989117980003357,
          1.32729172706604,
          -1.1667221784591675,
          1.8209792375564575,
          -0.11936123669147491,
          2.1230266094207764,
          -0.5600840449333191,
          -0.8217303156852722,
          0.33312708139419556,
          1.3098984956741333,
          0.09732157737016678,
          2.242433786392212,
          0.7088330388069153,
          1.828493356704712,
          2.3034956455230713,
          -0.4762468934059143,
          1.5813051462173462,
          -0.7022753953933716,
          1.8164440393447876,
          0.757837176322937,
          1.1823654174804688,
          -0.45721644163131714,
          0.19131392240524292,
          0.7651597857475281,
          0.47149667143821716,
          0.8607484698295593,
          0.016841422766447067,
          1.2802388668060303,
          1.8639898300170898,
          -0.2423495352268219,
          1.7877376079559326,
          -0.2336186021566391,
          2.1850101947784424,
          1.5989344120025635,
          -0.31287381052970886,
          0.7070351243019104,
          1.2363133430480957,
          -0.40056532621383667,
          0.46178051829338074,
          2.1100428104400635,
          1.7540682554244995,
          -0.9151562452316284,
          1.4956456422805786,
          1.8951882123947144,
          0.5928604602813721,
          -0.29981446266174316,
          1.8157378435134888,
          -0.2511760890483856,
          2.5461061000823975,
          -0.41892209649086,
          -1.140953779220581,
          0.8126182556152344,
          -0.5058416128158569,
          1.3786543607711792,
          -0.8858111500740051,
          0.04476913809776306,
          0.258314311504364,
          1.4122273921966553,
          -0.6504500508308411,
          1.0410510301589966,
          1.8100368976593018,
          1.4350382089614868,
          2.103811502456665,
          3.3710007667541504,
          0.035162750631570816,
          -0.4987160563468933,
          -0.3195721507072449,
          -0.10386750102043152,
          0.23753416538238525,
          1.3468568325042725,
          0.8995474576950073,
          -0.012697592377662659,
          0.5975093841552734,
          1.2264816761016846,
          -0.5759571194648743,
          1.9882804155349731,
          1.8621814250946045,
          0.46444451808929443,
          -0.9123585820198059,
          -0.8987513780593872,
          0.6259156465530396,
          -0.5341193675994873,
          -0.5429232716560364,
          1.3124682903289795,
          1.725738286972046,
          0.5878011584281921,
          -1.1904358863830566,
          -0.8794100880622864,
          1.5038667917251587,
          1.3092856407165527,
          1.5489082336425781,
          0.6059017777442932,
          1.329461932182312,
          0.44664430618286133,
          1.6006349325180054,
          0.4858749806880951,
          1.583242416381836,
          0.28587886691093445,
          -1.1847167015075684,
          -0.3472241759300232,
          1.2243441343307495,
          0.7280805706977844,
          1.9347178936004639,
          1.5390149354934692,
          1.2407426834106445,
          0.013233860954642296,
          1.7565147876739502,
          -0.5016778707504272,
          1.3561152219772339,
          -0.3158213794231415,
          1.4514644145965576,
          0.6517804265022278,
          -0.8389742374420166,
          -0.28816697001457214,
          1.7775254249572754,
          0.10106318444013596,
          1.1061747074127197,
          0.9505448937416077,
          1.1284246444702148,
          1.724703073501587,
          1.4085880517959595,
          1.5231353044509888,
          0.02341610938310623,
          1.0418974161148071,
          -0.31787171959877014,
          -0.9091624021530151,
          -0.04229479283094406,
          -0.7476251721382141,
          0.373880535364151,
          1.5892378091812134,
          -0.20004580914974213,
          1.314178705215454,
          0.8531675934791565,
          1.2822234630584717,
          0.6615315079689026,
          0.08978090435266495,
          1.0190551280975342,
          0.5208097696304321,
          1.139490008354187,
          -1.1135176420211792,
          -0.6174629926681519,
          0.1650284230709076,
          2.1041014194488525,
          1.8173000812530518,
          0.5954521298408508,
          -0.0070673562586307526,
          1.8844672441482544,
          -0.8956051468849182,
          1.5923643112182617,
          2.1948082447052,
          1.3152549266815186,
          0.993781328201294,
          2.1284382343292236,
          0.4644140601158142,
          0.8129918575286865,
          1.1694363355636597,
          1.4689040184020996
         ],
         "xaxis": "x",
         "y": [
          4.616734027862549,
          6.437345504760742,
          5.411885738372803,
          4.324301242828369,
          4.839544773101807,
          4.094214916229248,
          4.781951427459717,
          4.230141639709473,
          5.902685642242432,
          5.58925199508667,
          4.569763660430908,
          3.8623430728912354,
          4.23345422744751,
          6.290689945220947,
          4.367956638336182,
          4.67420768737793,
          4.16462516784668,
          4.422101020812988,
          4.6642961502075195,
          4.127535820007324,
          5.670572280883789,
          6.716556549072266,
          4.813406467437744,
          4.927809715270996,
          5.32174015045166,
          4.8951263427734375,
          5.0622968673706055,
          5.004433631896973,
          5.180169582366943,
          3.7695724964141846,
          3.5506997108459473,
          4.185398101806641,
          4.599104881286621,
          3.858455181121826,
          4.5665202140808105,
          4.716263771057129,
          4.607347011566162,
          4.832257270812988,
          4.290925979614258,
          5.072368621826172,
          4.605112075805664,
          4.089447498321533,
          4.341163158416748,
          5.025317192077637,
          4.633028507232666,
          4.482944488525391,
          4.260688781738281,
          5.671922206878662,
          5.3677897453308105,
          4.108395099639893,
          4.572649955749512,
          4.482228755950928,
          5.668856143951416,
          5.54320764541626,
          4.061639308929443,
          5.216645240783691,
          3.5243680477142334,
          4.213892936706543,
          5.1785197257995605,
          5.117814540863037,
          5.33151912689209,
          4.537112712860107,
          4.8230671882629395,
          4.270369052886963,
          5.189626216888428,
          4.309647083282471,
          4.520867347717285,
          5.139802932739258,
          4.2647271156311035,
          5.918753147125244,
          4.327991962432861,
          4.890705585479736,
          6.1056718826293945,
          3.5588371753692627,
          5.5324931144714355,
          3.8925554752349854,
          4.802604675292969,
          5.07421875,
          5.362138748168945,
          4.428400993347168,
          5.194726467132568,
          4.5323262214660645,
          4.26061487197876,
          5.936480522155762,
          4.606235027313232,
          5.583703517913818,
          5.426918029785156,
          4.560378551483154,
          4.81321382522583,
          4.46077299118042,
          3.8940110206604004,
          4.605409145355225,
          4.617676734924316,
          3.8654873371124268,
          4.69619083404541,
          4.7667365074157715,
          3.9439868927001953,
          5.22501277923584,
          4.158797740936279,
          4.765989303588867,
          5.659739017486572,
          4.7815961837768555,
          5.6601972579956055,
          4.353544235229492,
          4.151240348815918,
          4.108597278594971,
          4.232269287109375,
          4.324821472167969,
          4.841145038604736,
          3.9266951084136963,
          5.06521463394165,
          5.259029865264893,
          4.4026360511779785,
          4.8721537590026855,
          5.582339286804199,
          5.838264465332031,
          4.640124797821045,
          4.868829250335693,
          4.687378406524658,
          5.147369861602783,
          4.762669563293457,
          4.657724380493164,
          4.355288982391357,
          4.74889612197876,
          5.860213756561279,
          4.742309093475342,
          4.473061561584473,
          5.1664042472839355,
          4.58097505569458,
          3.9894800186157227,
          3.863675832748413,
          4.365800857543945,
          4.534902572631836,
          4.3170390129089355,
          4.348273277282715,
          3.8645975589752197,
          4.559349536895752,
          5.4148454666137695,
          3.860236883163452,
          3.9970383644104004,
          5.1570024490356445,
          5.870411396026611,
          4.1644816398620605,
          4.12872314453125,
          4.808502197265625,
          3.009455919265747,
          4.802855968475342,
          5.111800670623779,
          5.297355651855469,
          4.105336666107178,
          4.498042106628418,
          5.2022809982299805,
          3.869750738143921,
          4.257943630218506,
          4.174233436584473,
          4.120695114135742,
          4.30696439743042,
          4.885165691375732,
          4.139538288116455,
          5.691938400268555,
          4.48370361328125,
          4.272533416748047,
          5.761787414550781,
          4.548072814941406,
          4.25136137008667,
          5.904227256774902,
          4.469048500061035,
          4.525561809539795,
          4.555093765258789,
          4.66646146774292,
          4.131405830383301,
          5.926583290100098,
          3.444817304611206,
          4.143794536590576,
          4.376996040344238,
          4.47920036315918,
          4.655941009521484,
          4.0781965255737305,
          4.669699192047119,
          4.516068935394287,
          4.5963215827941895,
          5.136813640594482,
          4.804194450378418,
          4.785299777984619,
          4.535558700561523,
          6.457968235015869,
          6.433450698852539,
          4.714587688446045,
          4.704070568084717,
          4.290207386016846,
          5.346655368804932,
          4.427005767822266,
          5.077741622924805,
          5.847396373748779,
          4.577689170837402,
          4.5846333503723145,
          3.4692606925964355,
          5.628127098083496,
          4.825618743896484,
          5.094221115112305,
          4.176661014556885,
          4.4770026206970215,
          5.928378582000732,
          5.721922397613525,
          5.408295154571533,
          4.680724620819092,
          4.210740566253662,
          4.864037990570068,
          4.680831432342529,
          4.608711242675781,
          4.353116989135742,
          4.241563320159912,
          4.265678405761719,
          5.1041460037231445,
          5.4336838722229,
          4.848776340484619,
          4.241862773895264,
          4.414157390594482,
          4.078149318695068,
          5.716387748718262,
          5.1084723472595215,
          4.494362831115723,
          5.102994441986084,
          4.236929893493652,
          3.9370334148406982,
          4.560062885284424,
          4.286479473114014,
          4.205771446228027,
          4.339003086090088,
          4.949193954467773,
          5.902202606201172,
          3.5244979858398438,
          4.194247722625732,
          5.687236309051514,
          5.089576244354248,
          4.872239112854004,
          5.67562198638916,
          4.5890116691589355,
          4.808223724365234
         ],
         "yaxis": "y"
        },
        {
         "hovertemplate": "cluster_assigned=Ada the explorer<br>Axis x=%{x}<br>Axis y=%{y}<extra></extra>",
         "legendgroup": "Ada the explorer",
         "marker": {
          "color": "#EF553B",
          "opacity": 1,
          "symbol": "circle"
         },
         "mode": "markers",
         "name": "Ada the explorer",
         "orientation": "v",
         "showlegend": true,
         "type": "scatter",
         "x": [
          6.256021022796631,
          4.202884197235107,
          5.488187313079834,
          4.092648506164551,
          4.245785713195801,
          5.045271396636963,
          2.9936957359313965,
          5.572925090789795,
          4.084099769592285,
          3.734027862548828,
          3.159210681915283,
          4.355695724487305,
          4.451573371887207,
          5.45941686630249,
          5.061920166015625,
          3.866041898727417,
          3.609825372695923,
          5.804538249969482,
          5.387553691864014,
          6.502169132232666,
          5.030970096588135,
          6.0047221183776855,
          5.389481544494629,
          5.133419990539551,
          3.2212719917297363,
          5.18645715713501,
          3.8069162368774414,
          5.387575626373291,
          4.6059956550598145,
          5.547313690185547,
          5.517667770385742,
          2.2379536628723145,
          5.812898635864258,
          3.8064849376678467,
          3.7876391410827637,
          4.065725803375244,
          5.553552150726318,
          5.7458906173706055,
          6.556669235229492,
          5.923744201660156,
          3.3498456478118896,
          4.708120346069336,
          4.111354827880859,
          6.056626796722412,
          3.522758722305298,
          5.0725555419921875,
          5.102563381195068,
          4.980199813842773,
          5.363207817077637,
          5.856199741363525,
          4.183999061584473,
          5.54807710647583,
          3.215571403503418,
          4.272638320922852,
          3.347597122192383,
          4.4915947914123535,
          2.2737600803375244,
          2.4781606197357178,
          3.485128879547119,
          4.514819145202637,
          3.4969136714935303,
          5.823127269744873,
          3.378230571746826,
          3.7982161045074463,
          5.392641544342041,
          5.493753433227539,
          6.245707035064697,
          5.376894474029541,
          2.343759775161743,
          5.223812580108643,
          2.797694444656372,
          2.720682144165039,
          2.2081785202026367,
          2.533308982849121,
          3.9592080116271973,
          6.661930561065674,
          4.548267841339111,
          2.1927311420440674,
          3.760657787322998,
          3.130281686782837,
          3.744563579559326,
          2.528651237487793,
          4.113389492034912,
          3.609954357147217,
          4.040801525115967,
          3.892902374267578,
          5.069269180297852,
          5.36456298828125,
          3.966960906982422,
          5.68704891204834,
          4.368435382843018,
          4.90034294128418,
          3.56661319732666,
          5.542782306671143,
          3.9165961742401123,
          4.836172580718994,
          3.1380715370178223,
          6.197511672973633,
          5.301302433013916,
          3.165313959121704,
          2.287160634994507,
          2.437819719314575,
          2.7494330406188965,
          5.126584053039551,
          5.199021816253662,
          1.8566778898239136,
          3.6398637294769287,
          4.418040752410889,
          3.121180534362793,
          2.2557294368743896,
          2.7029905319213867,
          3.2294931411743164,
          5.182778835296631,
          4.741594314575195,
          4.677999973297119,
          6.11522102355957,
          5.24005126953125,
          4.106530666351318,
          4.74751615524292,
          5.899039268493652,
          3.840611219406128,
          2.8863284587860107,
          6.243235111236572,
          4.307089805603027,
          3.0033011436462402,
          2.7857863903045654,
          5.649327278137207,
          5.746214866638184,
          4.622255802154541,
          5.504083156585693,
          2.512941598892212,
          4.142959117889404,
          6.428166389465332,
          3.550633192062378,
          5.165892601013184,
          3.453627347946167,
          4.751948356628418,
          6.099806308746338,
          4.03452205657959,
          5.211306571960449,
          3.9593656063079834,
          5.752756595611572,
          3.8981404304504395,
          4.730575084686279,
          4.03012752532959,
          3.2964978218078613,
          6.351639270782471,
          4.4442291259765625,
          6.366689205169678,
          5.511112689971924,
          6.023242473602295,
          5.327816009521484,
          4.419682502746582,
          5.7447428703308105,
          4.574733734130859,
          6.2854509353637695,
          4.90275764465332,
          3.529801368713379,
          4.982329368591309,
          3.837596893310547,
          3.221295118331909,
          3.9794089794158936,
          3.269731283187866,
          3.132603406906128,
          5.559795379638672,
          4.46814489364624,
          5.33939266204834,
          3.2292981147766113,
          5.634698867797852,
          4.47961950302124,
          2.8556265830993652,
          4.841692924499512,
          4.364794731140137,
          2.0318052768707275,
          4.909196376800537,
          3.5183844566345215,
          4.137828826904297,
          5.746446132659912,
          4.7753705978393555,
          3.848874092102051,
          6.311826229095459,
          5.381378173828125,
          4.705358982086182,
          3.003695249557495,
          3.757195472717285,
          5.2665486335754395,
          5.541014194488525,
          3.276654005050659,
          3.0954246520996094,
          3.051600694656372,
          3.6140031814575195,
          4.0798420906066895,
          2.294992446899414,
          4.420896053314209,
          4.751044750213623,
          3.4080965518951416,
          4.5451202392578125,
          4.505868434906006,
          5.563692569732666,
          3.2689971923828125,
          5.197865009307861,
          3.145768642425537,
          3.43628191947937,
          4.020021915435791,
          2.2385830879211426,
          4.156153678894043,
          4.874711990356445,
          3.414072036743164,
          5.8011603355407715,
          5.325516223907471,
          5.177107810974121,
          5.089625835418701,
          6.015450954437256,
          3.945868730545044,
          3.7132039070129395,
          2.798053503036499,
          4.965204238891602,
          4.339724540710449,
          4.488369464874268,
          2.1591498851776123,
          5.316330432891846,
          5.478959083557129,
          3.1485228538513184,
          4.750102519989014,
          4.906053066253662,
          5.893087863922119,
          3.9389448165893555,
          4.768319606781006,
          5.354901313781738,
          4.210753440856934,
          5.5778021812438965,
          6.237837314605713,
          4.1413068771362305,
          6.597026824951172,
          5.389564514160156,
          5.8563032150268555,
          4.105496883392334,
          2.62892484664917,
          3.073620319366455,
          3.2521605491638184,
          3.842315435409546,
          5.465669631958008,
          4.115055561065674,
          3.3169057369232178,
          4.901468753814697,
          6.438604831695557,
          4.3784074783325195,
          3.519105911254883,
          3.5017175674438477,
          3.320924997329712,
          5.422479152679443,
          6.012297630310059,
          5.211453914642334,
          2.627350330352783,
          4.53061580657959,
          3.095623016357422,
          5.302481651306152,
          3.0496485233306885,
          6.205986499786377,
          5.615082263946533,
          4.843662261962891,
          3.659917116165161,
          3.241363525390625,
          4.722891807556152,
          4.009289264678955,
          4.195868015289307,
          3.8432929515838623,
          4.369547367095947,
          2.7820534706115723,
          3.5319149494171143,
          5.069162845611572,
          5.7522993087768555,
          5.082475662231445,
          4.9143290519714355,
          2.4141879081726074,
          3.803398370742798,
          6.279609203338623,
          3.1491127014160156,
          3.608215808868408,
          5.364786624908447,
          4.891485214233398,
          5.410860538482666,
          5.2618560791015625,
          4.646130561828613,
          5.009796619415283,
          6.114685535430908,
          4.790642738342285,
          3.9669337272644043,
          5.6839919090271,
          4.4125471115112305,
          5.840603828430176,
          3.8351471424102783,
          4.018909931182861,
          3.7092084884643555,
          5.4259748458862305,
          4.528219699859619,
          3.1465346813201904,
          4.806422233581543,
          3.7187161445617676,
          6.164773941040039,
          6.089913845062256,
          4.606592655181885,
          5.749811172485352,
          5.990977764129639,
          3.226369619369507,
          2.8499088287353516,
          3.8252882957458496,
          5.261931419372559,
          3.0619027614593506,
          5.327426433563232,
          3.815263271331787,
          5.684274196624756,
          3.6768736839294434,
          5.57884407043457,
          5.603447437286377,
          5.926090240478516,
          4.652423858642578,
          5.518662452697754,
          3.5761191844940186,
          4.225950241088867,
          5.498517036437988,
          5.245397090911865,
          2.907940626144409,
          5.822135925292969,
          3.7824289798736572,
          2.9659578800201416,
          2.954942464828491,
          5.262502670288086,
          5.51486349105835,
          4.572118759155273,
          2.4840915203094482,
          4.495641708374023,
          5.449289321899414,
          2.13901948928833,
          3.9470107555389404,
          5.803533554077148,
          5.282548904418945,
          5.084602355957031,
          4.60911750793457,
          4.689818859100342,
          2.6271822452545166,
          5.747500896453857,
          6.122339725494385,
          2.29718279838562,
          3.6109507083892822,
          2.3851068019866943,
          4.071744441986084,
          2.5813162326812744,
          2.8965046405792236,
          3.537491798400879,
          4.586916446685791,
          4.521846294403076,
          2.8956246376037598,
          4.504093170166016,
          4.157406806945801,
          4.686525344848633,
          4.614798545837402,
          4.820689678192139,
          5.84743595123291,
          6.079132556915283,
          5.3333306312561035,
          4.350576877593994,
          5.265746116638184,
          3.295196056365967,
          3.396552562713623,
          5.021524429321289,
          3.029587984085083,
          6.404478549957275,
          4.090675354003906,
          4.064830780029297,
          4.482021331787109,
          4.71732234954834,
          5.180131912231445,
          4.029828071594238,
          3.9215946197509766,
          5.67166805267334,
          5.337732315063477,
          3.2830684185028076,
          4.445193767547607,
          4.147468566894531,
          5.947324752807617,
          6.577099323272705,
          4.760730743408203,
          3.472055435180664,
          2.486584424972534,
          5.781355857849121,
          4.27095365524292,
          5.679364204406738,
          4.10406494140625,
          6.507437229156494,
          5.215890884399414,
          4.460949897766113,
          5.267852783203125,
          5.3522748947143555
         ],
         "xaxis": "x",
         "y": [
          4.376097679138184,
          4.287029266357422,
          6.055397033691406,
          2.9654862880706787,
          4.359729290008545,
          5.670419692993164,
          4.643491268157959,
          4.413689613342285,
          5.77706241607666,
          4.372649669647217,
          4.015865802764893,
          4.296435356140137,
          3.9395463466644287,
          6.253072738647461,
          4.187314510345459,
          4.953013896942139,
          3.3691296577453613,
          5.214700222015381,
          4.391713619232178,
          3.920841932296753,
          4.13516902923584,
          5.002191066741943,
          4.029595375061035,
          4.671853065490723,
          3.8608813285827637,
          5.698097229003906,
          2.987269639968872,
          4.718114376068115,
          4.595627307891846,
          5.921560287475586,
          5.546123027801514,
          4.486264228820801,
          4.22086238861084,
          5.603377819061279,
          5.02450704574585,
          3.3885364532470703,
          4.071100234985352,
          3.9838507175445557,
          5.079578876495361,
          5.562204360961914,
          3.168316125869751,
          4.378706932067871,
          3.8561747074127197,
          4.782005786895752,
          4.992116928100586,
          4.830353260040283,
          5.072293281555176,
          5.731555461883545,
          5.994229316711426,
          3.7844510078430176,
          4.410135746002197,
          5.080136775970459,
          3.907719135284424,
          4.925881862640381,
          3.281092882156372,
          5.022409439086914,
          4.200684070587158,
          5.204949378967285,
          3.037432909011841,
          4.016414165496826,
          4.1850266456604,
          3.8957133293151855,
          3.9010415077209473,
          4.489511966705322,
          4.226498603820801,
          4.629228115081787,
          4.681787014007568,
          4.204768180847168,
          5.070516109466553,
          6.23809289932251,
          3.9725518226623535,
          4.810948371887207,
          5.029848575592041,
          4.805333137512207,
          5.321441650390625,
          4.018520832061768,
          5.100415229797363,
          4.888715744018555,
          3.0460941791534424,
          5.608273029327393,
          3.671292543411255,
          4.573735237121582,
          4.693640232086182,
          3.983663320541382,
          3.9565231800079346,
          3.735065221786499,
          3.402362585067749,
          5.278740406036377,
          4.143669128417969,
          3.2281625270843506,
          3.9667084217071533,
          4.882566452026367,
          3.0360100269317627,
          5.695505619049072,
          4.019985198974609,
          6.765463352203369,
          5.193418502807617,
          5.494344234466553,
          4.00759220123291,
          3.463991641998291,
          5.872954845428467,
          5.5458903312683105,
          4.259334087371826,
          5.380760192871094,
          4.9689178466796875,
          4.385255336761475,
          5.826981544494629,
          4.6514892578125,
          3.7045371532440186,
          5.204605579376221,
          4.355323314666748,
          4.617557048797607,
          5.426163673400879,
          6.679157257080078,
          5.021553993225098,
          4.227161884307861,
          5.311756610870361,
          4.024660110473633,
          3.8833229541778564,
          5.334228038787842,
          4.215839862823486,
          4.258842468261719,
          5.018853187561035,
          3.5515410900115967,
          3.6706860065460205,
          5.503714561462402,
          3.634157657623291,
          5.276862621307373,
          3.843780517578125,
          3.334841012954712,
          4.6051225662231445,
          6.007278919219971,
          5.296507358551025,
          4.266758441925049,
          4.103851795196533,
          3.12317156791687,
          5.526257514953613,
          4.766517162322998,
          2.9396679401397705,
          4.369316101074219,
          3.0130422115325928,
          4.464632034301758,
          4.352417945861816,
          4.316494941711426,
          3.331768035888672,
          3.237347364425659,
          3.724832773208618,
          3.7654943466186523,
          5.1086745262146,
          4.305169105529785,
          3.8147213459014893,
          4.592596530914307,
          5.71373176574707,
          5.633293151855469,
          5.049206256866455,
          5.306815147399902,
          5.842287063598633,
          5.485147476196289,
          3.7213239669799805,
          5.868274688720703,
          3.3061978816986084,
          3.05342698097229,
          3.7709238529205322,
          4.074748992919922,
          5.103516578674316,
          5.830502986907959,
          6.078958034515381,
          3.197619915008545,
          3.4769906997680664,
          4.947953701019287,
          4.182406902313232,
          4.296399116516113,
          5.058563709259033,
          4.809281826019287,
          6.328463554382324,
          3.472172260284424,
          3.437558889389038,
          3.7334043979644775,
          5.233293533325195,
          3.2880091667175293,
          4.0804057121276855,
          6.01679801940918,
          3.5641393661499023,
          5.415282726287842,
          3.5172555446624756,
          5.090241432189941,
          4.72883415222168,
          4.181588649749756,
          3.277907609939575,
          4.8806633949279785,
          5.401494026184082,
          2.945441722869873,
          4.661645412445068,
          4.7615742683410645,
          4.659882545471191,
          5.42903995513916,
          4.728302001953125,
          6.0258283615112305,
          6.019036769866943,
          4.996016979217529,
          5.689431190490723,
          3.8956875801086426,
          5.008159637451172,
          3.379751205444336,
          4.619409561157227,
          3.0461020469665527,
          6.053355693817139,
          3.512451648712158,
          5.7007155418396,
          6.209902286529541,
          5.523505687713623,
          5.117532730102539,
          3.9917500019073486,
          4.745449066162109,
          4.368748188018799,
          5.459972858428955,
          5.362308502197266,
          5.52256441116333,
          4.887486457824707,
          5.2297282218933105,
          3.802947521209717,
          6.139339923858643,
          5.786828994750977,
          4.266860008239746,
          5.913992404937744,
          5.080049991607666,
          3.857675790786743,
          4.616968154907227,
          6.2124409675598145,
          3.5082509517669678,
          4.543865203857422,
          5.209239959716797,
          3.302072525024414,
          3.9475934505462646,
          5.622969627380371,
          4.101765155792236,
          5.4788641929626465,
          4.517475605010986,
          3.716075897216797,
          5.683323383331299,
          3.8115391731262207,
          6.0208539962768555,
          4.353979110717773,
          3.725099563598633,
          4.73542594909668,
          3.9421157836914062,
          4.478582859039307,
          3.604367733001709,
          4.382582664489746,
          5.213747024536133,
          4.253367900848389,
          4.631353855133057,
          5.776437759399414,
          4.2348246574401855,
          5.103226184844971,
          3.6635377407073975,
          6.062924385070801,
          5.062710285186768,
          5.156574726104736,
          5.590753078460693,
          5.097049236297607,
          3.525390386581421,
          5.396718502044678,
          4.490872859954834,
          3.5502443313598633,
          3.836574077606201,
          5.223414897918701,
          3.2970643043518066,
          4.605896472930908,
          4.592989444732666,
          5.102030277252197,
          5.5104875564575195,
          5.62822151184082,
          5.784837245941162,
          5.153161525726318,
          3.4435198307037354,
          5.352370262145996,
          3.4152960777282715,
          5.556567192077637,
          3.4219305515289307,
          3.901890754699707,
          4.549797534942627,
          5.944635391235352,
          5.302540302276611,
          5.318045139312744,
          5.516857624053955,
          6.386096954345703,
          2.982250452041626,
          5.724383354187012,
          3.5211474895477295,
          3.53945255279541,
          4.667294502258301,
          3.6767923831939697,
          3.4328081607818604,
          6.175253391265869,
          5.616331100463867,
          3.5234923362731934,
          5.698812007904053,
          6.03400182723999,
          4.132367134094238,
          5.125213146209717,
          5.535118103027344,
          4.245471954345703,
          5.0033040046691895,
          3.9710750579833984,
          5.142967224121094,
          4.01685905456543,
          4.085372447967529,
          5.565978527069092,
          6.180461883544922,
          5.07623815536499,
          4.030890941619873,
          3.9571878910064697,
          4.311135768890381,
          5.253167152404785,
          4.791614532470703,
          4.327789783477783,
          4.673243522644043,
          4.305522918701172,
          4.916102409362793,
          4.746899604797363,
          3.1819264888763428,
          4.080074787139893,
          4.4966583251953125,
          4.957844257354736,
          4.736176013946533,
          4.060572147369385,
          6.250874996185303,
          5.956401348114014,
          5.0498528480529785,
          5.456812858581543,
          5.667601108551025,
          5.672408103942871,
          4.447943210601807,
          3.1848294734954834,
          4.567948818206787,
          4.88700532913208,
          4.758358478546143,
          4.712569713592529,
          3.7747936248779297,
          5.420413970947266,
          3.351832151412964,
          5.199952125549316,
          4.532730579376221,
          4.827210903167725,
          5.085048675537109,
          6.090353965759277,
          5.254969596862793,
          5.316400527954102,
          3.0949881076812744,
          4.988286018371582,
          3.107787847518921,
          4.732885360717773,
          4.629496097564697,
          4.708956718444824,
          4.029996395111084,
          4.494385719299316,
          3.3572537899017334,
          4.275191307067871,
          4.26094913482666,
          5.097864151000977,
          3.699097156524658,
          3.6985630989074707,
          3.3622376918792725,
          3.482990026473999,
          4.873380184173584,
          3.956618309020996,
          4.6926164627075195,
          5.139695167541504,
          5.518717288970947,
          3.052640676498413,
          3.6006600856781006,
          5.439380645751953,
          3.164355516433716,
          5.7409749031066895,
          3.7152292728424072,
          6.162336826324463,
          4.253631114959717,
          5.61309814453125,
          3.193754196166992,
          4.831396579742432,
          4.1911516189575195,
          4.1994829177856445,
          3.3409488201141357,
          3.9903619289398193,
          4.422245502471924,
          3.4511947631835938,
          5.412649631500244,
          4.040482521057129,
          3.923382043838501,
          5.3587799072265625,
          5.105888843536377,
          6.347002029418945,
          6.131536483764648
         ],
         "yaxis": "y"
        },
        {
         "hovertemplate": "cluster_assigned=Marcel Stout<br>Axis x=%{x}<br>Axis y=%{y}<extra></extra>",
         "legendgroup": "Marcel Stout",
         "marker": {
          "color": "#00cc96",
          "opacity": 1,
          "symbol": "circle"
         },
         "mode": "markers",
         "name": "Marcel Stout",
         "orientation": "v",
         "showlegend": true,
         "type": "scatter",
         "x": [
          4.037696361541748,
          2.9700498580932617,
          4.041448593139648,
          3.935453176498413,
          5.176206111907959,
          2.4418740272521973,
          2.2507519721984863,
          1.7860727310180664,
          1.903507113456726,
          5.220880031585693,
          3.0117344856262207,
          4.165732383728027,
          2.969036102294922,
          2.888964891433716,
          4.224063873291016,
          2.578413248062134,
          3.8954877853393555,
          3.9026262760162354,
          2.315446615219116,
          2.7024166584014893,
          2.0538759231567383,
          1.89516282081604,
          3.9882545471191406,
          2.3328826427459717,
          3.190936803817749,
          6.4211626052856445,
          4.495333671569824,
          4.0591325759887695,
          5.017876625061035,
          2.8836426734924316,
          4.115149021148682,
          1.7813090085983276,
          3.6374197006225586,
          6.135741710662842,
          3.4277303218841553,
          1.9958772659301758,
          3.500633478164673,
          4.105887413024902,
          3.89337158203125,
          2.65164852142334,
          1.9764751195907593,
          3.096646308898926,
          3.343435525894165,
          3.7363102436065674,
          1.6767925024032593,
          1.9641417264938354,
          2.5502686500549316,
          3.1074459552764893,
          3.775829553604126,
          2.1023786067962646,
          2.1186602115631104,
          3.5923686027526855,
          4.17520809173584,
          2.338386058807373,
          3.7197375297546387,
          2.2899670600891113,
          2.656233310699463,
          4.113884449005127,
          3.777101993560791,
          4.12506103515625,
          3.9350037574768066,
          3.7530300617218018,
          3.0237348079681396,
          1.7206214666366577,
          4.1599578857421875,
          2.0170373916625977,
          2.904155731201172,
          2.0125114917755127,
          4.082512378692627,
          2.8446602821350098,
          3.4136245250701904,
          2.705509662628174,
          2.383061170578003,
          3.812014579772949,
          2.4701552391052246,
          4.074275016784668,
          3.3267436027526855,
          3.696168899536133,
          3.8770833015441895,
          2.692061424255371,
          2.4841694831848145,
          3.4751744270324707,
          1.8950403928756714,
          2.200360059738159,
          3.2887606620788574,
          2.6979691982269287,
          4.183719158172607,
          2.6596732139587402,
          3.5714516639709473,
          4.071274280548096,
          1.9796890020370483,
          2.5099689960479736,
          2.4021995067596436,
          2.385310411453247,
          3.034961223602295,
          3.5021979808807373,
          3.5292181968688965,
          4.212978363037109,
          3.580171823501587,
          2.5368075370788574,
          3.0297136306762695,
          1.937319040298462,
          3.774200677871704,
          2.7676782608032227,
          2.5738086700439453,
          4.246435165405273,
          2.0890824794769287,
          3.944403886795044,
          3.227322816848755,
          1.9714511632919312,
          2.099890947341919,
          2.155791997909546,
          2.0124917030334473,
          1.8246873617172241,
          1.8071141242980957,
          1.8092126846313477,
          3.9264965057373047,
          3.00294828414917,
          1.8132688999176025,
          3.98708438873291,
          2.103998899459839,
          4.313117980957031,
          1.9725018739700317,
          3.7018253803253174,
          2.2676451206207275,
          2.9636387825012207,
          2.1369776725769043,
          2.0381879806518555,
          4.069779872894287,
          2.561779499053955,
          2.837306022644043,
          4.311025619506836,
          4.373254776000977,
          5.022072792053223,
          3.6523396968841553,
          3.5342109203338623,
          4.2618184089660645,
          4.290821075439453,
          3.8545825481414795,
          2.135828733444214,
          3.3602423667907715,
          3.98333477973938,
          1.9589704275131226,
          1.930335283279419,
          4.536066055297852,
          3.6507761478424072,
          2.5833163261413574,
          3.9858334064483643,
          4.0313615798950195,
          3.5518603324890137,
          2.3114912509918213,
          3.3869495391845703,
          2.758937120437622,
          4.135913848876953,
          2.261504650115967,
          1.7405998706817627,
          1.6567425727844238,
          2.835890293121338,
          4.5411248207092285,
          3.9595224857330322,
          3.7743616104125977,
          3.7982776165008545,
          4.486742973327637,
          2.900883197784424,
          3.0485873222351074,
          4.202159404754639,
          3.3430607318878174,
          3.7745344638824463,
          2.502718210220337,
          2.6679415702819824,
          3.3152871131896973,
          3.562138319015503,
          4.003063201904297,
          2.2953603267669678,
          2.786541223526001,
          4.897764205932617,
          2.4164881706237793,
          4.083395957946777,
          3.9800236225128174,
          2.24489164352417,
          4.900918483734131,
          3.011011838912964,
          3.0478570461273193,
          2.4257185459136963,
          4.641364097595215,
          3.793891191482544,
          3.9107439517974854,
          2.958970069885254,
          3.311953067779541,
          4.207276344299316,
          1.9331220388412476,
          4.4503889083862305,
          2.2340621948242188,
          2.633063316345215,
          3.4717044830322266,
          4.277676582336426
         ],
         "xaxis": "x",
         "y": [
          7.691638946533203,
          7.9152302742004395,
          7.576484203338623,
          7.900423526763916,
          6.411266803741455,
          7.125550270080566,
          7.2785749435424805,
          6.78146505355835,
          6.90268087387085,
          6.2998480796813965,
          6.821493148803711,
          7.3903350830078125,
          7.4938225746154785,
          7.878012657165527,
          6.4129509925842285,
          6.323816776275635,
          7.848386287689209,
          5.867578029632568,
          6.906365394592285,
          6.345249652862549,
          7.306312084197998,
          6.4394917488098145,
          6.95380163192749,
          7.153160572052002,
          6.336489677429199,
          5.39608907699585,
          6.488340854644775,
          6.754159927368164,
          6.399643421173096,
          5.890646934509277,
          6.4166579246521,
          7.349925518035889,
          6.795201778411865,
          5.578461170196533,
          6.690776348114014,
          6.18895149230957,
          8.096602439880371,
          7.515063285827637,
          6.299920082092285,
          7.410067558288574,
          7.5326247215271,
          6.164870262145996,
          7.112682819366455,
          7.436712265014648,
          6.581629753112793,
          7.4919891357421875,
          5.745998382568359,
          6.066682815551758,
          6.982956409454346,
          6.006018161773682,
          7.129763603210449,
          6.537332057952881,
          7.478636264801025,
          6.156924247741699,
          8.005472183227539,
          7.098684310913086,
          7.060174942016602,
          7.670219898223877,
          6.612845420837402,
          7.667534351348877,
          7.343571662902832,
          7.936402320861816,
          6.252813339233398,
          6.853744983673096,
          7.44330358505249,
          7.464231491088867,
          5.761163234710693,
          6.682864665985107,
          6.408570766448975,
          6.339214324951172,
          5.960746765136719,
          7.1704583168029785,
          7.253055095672607,
          6.620044708251953,
          7.4361443519592285,
          6.559470176696777,
          6.291994094848633,
          8.02040958404541,
          7.7644476890563965,
          6.831139087677002,
          6.9220452308654785,
          8.150599479675293,
          7.453811168670654,
          6.177014350891113,
          8.003958702087402,
          5.916990756988525,
          7.072110176086426,
          7.189182281494141,
          6.658262729644775,
          6.045376300811768,
          7.393403053283691,
          6.303420066833496,
          5.8495869636535645,
          7.0068206787109375,
          7.041752815246582,
          8.113916397094727,
          8.126581192016602,
          6.953422546386719,
          7.141660690307617,
          6.783828258514404,
          6.074541091918945,
          7.443594932556152,
          6.5772833824157715,
          5.681033134460449,
          7.386054992675781,
          6.3310394287109375,
          7.066693305969238,
          7.835270881652832,
          5.9707818031311035,
          7.553986549377441,
          7.360506057739258,
          6.795324802398682,
          7.578144550323486,
          6.831043720245361,
          6.553811550140381,
          6.976118564605713,
          6.505455493927002,
          5.803439140319824,
          7.290492534637451,
          7.664621353149414,
          6.348406791687012,
          6.894495487213135,
          6.844555377960205,
          7.967350006103516,
          7.249481678009033,
          6.414435863494873,
          5.810237407684326,
          7.049513816833496,
          7.743985176086426,
          6.924940586090088,
          7.24226713180542,
          6.285442352294922,
          7.0420308113098145,
          6.454283237457275,
          7.65200138092041,
          8.161201477050781,
          6.619164943695068,
          7.074899673461914,
          7.806717395782471,
          7.511764049530029,
          5.870189666748047,
          7.719852924346924,
          7.508508682250977,
          6.445844650268555,
          6.425590991973877,
          7.992434024810791,
          6.351742267608643,
          7.347777843475342,
          6.028753757476807,
          6.52895450592041,
          6.778653144836426,
          6.434703350067139,
          6.446712493896484,
          7.224850177764893,
          6.296750545501709,
          7.2790422439575195,
          6.8584489822387695,
          6.854582786560059,
          6.694570541381836,
          6.521136283874512,
          7.970495700836182,
          6.133391380310059,
          7.076087951660156,
          6.008673191070557,
          6.783177852630615,
          7.616380214691162,
          7.9768147468566895,
          7.885955810546875,
          7.503793716430664,
          6.433462142944336,
          7.4732561111450195,
          8.03469181060791,
          7.355143070220947,
          7.444935321807861,
          6.294334888458252,
          6.918793678283691,
          6.3891167640686035,
          7.365778923034668,
          7.801766395568848,
          7.26672887802124,
          6.507012844085693,
          6.030037879943848,
          6.5981903076171875,
          6.220639705657959,
          6.588191032409668,
          7.790505409240723,
          7.843373775482178,
          6.261849880218506,
          6.463591575622559,
          6.2805633544921875,
          7.179886341094971,
          7.206544399261475,
          5.824806213378906,
          7.275162220001221,
          8.102556228637695,
          6.576962471008301
         ],
         "yaxis": "y"
        },
        {
         "hovertemplate": "cluster_assigned=James Bland<br>Axis x=%{x}<br>Axis y=%{y}<extra></extra>",
         "legendgroup": "James Bland",
         "marker": {
          "color": "#ab63fa",
          "opacity": 1,
          "symbol": "circle"
         },
         "mode": "markers",
         "name": "James Bland",
         "orientation": "v",
         "showlegend": true,
         "type": "scatter",
         "x": [
          6.775842189788818,
          6.298650741577148,
          7.145224571228027,
          6.567370414733887,
          6.079559803009033,
          6.5780487060546875,
          7.152207851409912,
          7.205103397369385,
          7.030608177185059,
          4.8742899894714355,
          6.505431175231934,
          7.3351263999938965,
          7.08441162109375,
          7.051636219024658,
          6.795846939086914,
          6.417891502380371,
          6.168020725250244,
          6.7630815505981445,
          6.0049004554748535,
          6.788910865783691,
          4.988831520080566,
          5.901336193084717,
          7.086932182312012,
          7.116114616394043,
          7.169890403747559,
          4.77121114730835,
          6.86566162109375,
          5.4366230964660645,
          6.351382255554199,
          6.528512477874756,
          6.557456016540527,
          7.11700439453125,
          6.126169681549072,
          7.415735721588135,
          6.559588432312012,
          7.390134811401367,
          4.797499656677246,
          4.811191082000732,
          5.13308572769165,
          5.230893611907959,
          6.17818021774292,
          6.466031551361084,
          7.062169551849365,
          7.299281120300293,
          7.394679069519043,
          7.364872455596924,
          6.887063026428223,
          6.252340316772461,
          6.596920967102051,
          7.220946788787842,
          6.245152950286865,
          6.509247779846191,
          7.156387805938721,
          6.969405651092529,
          6.706456184387207,
          5.937971115112305,
          6.196694850921631,
          7.251043319702148,
          6.560305118560791,
          6.242337226867676,
          6.1522722244262695,
          6.611941814422607,
          5.675946235656738,
          7.214541435241699,
          6.23603630065918,
          6.945224761962891,
          6.375504493713379,
          6.09108829498291,
          6.351792812347412,
          6.347995758056641,
          7.170543193817139,
          7.002502918243408,
          6.798694610595703,
          6.2913336753845215,
          6.756748199462891,
          6.590771675109863,
          5.70873498916626,
          7.386627674102783,
          6.45339822769165,
          6.584918022155762,
          6.733529567718506,
          6.747074604034424,
          6.888687610626221,
          6.156235694885254,
          6.340062618255615,
          6.595143795013428,
          6.589533805847168,
          5.955526351928711,
          6.666201114654541,
          7.336996555328369,
          6.658158779144287,
          7.301031112670898,
          4.286377429962158,
          7.146366596221924,
          7.2033867835998535,
          6.772130489349365,
          7.193922519683838,
          6.237528324127197,
          6.623293399810791,
          5.854919910430908,
          7.082870006561279,
          6.4183478355407715,
          6.233692169189453,
          6.180563926696777,
          7.113160133361816,
          7.344429969787598,
          6.53842306137085,
          6.973013401031494,
          6.290309429168701,
          6.4065775871276855,
          6.639998435974121,
          6.493518352508545,
          6.904952526092529,
          6.917993068695068,
          7.197650909423828,
          6.599178791046143,
          7.313907623291016,
          6.759788990020752,
          6.613656044006348,
          6.038578510284424,
          6.068297386169434,
          6.898123741149902,
          4.266844749450684,
          7.134994029998779,
          7.379793643951416,
          7.084833145141602,
          6.699428558349609,
          7.376734256744385,
          6.489683628082275,
          6.2672553062438965,
          6.3961100578308105,
          7.048856258392334,
          6.733781337738037,
          5.8074846267700195,
          5.456024646759033,
          7.000174522399902,
          7.333600997924805,
          6.2155656814575195,
          6.350888252258301,
          6.08954381942749,
          6.27208948135376
         ],
         "xaxis": "x",
         "y": [
          4.315941333770752,
          3.1440348625183105,
          2.990676164627075,
          4.035527229309082,
          3.20699405670166,
          3.8860485553741455,
          2.3123137950897217,
          2.321376323699951,
          2.416642427444458,
          2.8502726554870605,
          3.475503921508789,
          2.196148157119751,
          2.861851930618286,
          2.916165351867676,
          3.3849239349365234,
          3.832606315612793,
          3.3129756450653076,
          3.150846481323242,
          3.5043911933898926,
          3.8624751567840576,
          3.354879856109619,
          3.292250871658325,
          2.2724361419677734,
          2.3301265239715576,
          2.564491033554077,
          2.9099934101104736,
          3.4676616191864014,
          2.8839216232299805,
          3.9077258110046387,
          4.754267692565918,
          5.154513835906982,
          2.4893901348114014,
          3.04569935798645,
          2.0756523609161377,
          4.1106109619140625,
          2.4287052154541016,
          3.1560072898864746,
          2.9977993965148926,
          3.5773890018463135,
          3.4237537384033203,
          3.481168031692505,
          2.7656853199005127,
          2.4887964725494385,
          2.542370557785034,
          2.1229159832000732,
          2.1619625091552734,
          3.701331853866577,
          2.6767749786376953,
          3.219783067703247,
          2.2984015941619873,
          3.5800554752349854,
          3.8864455223083496,
          2.694451332092285,
          2.7479445934295654,
          4.3968825340271,
          3.3165371417999268,
          2.7192022800445557,
          2.404100179672241,
          4.070191383361816,
          2.785459280014038,
          3.117518663406372,
          4.996616840362549,
          2.989424705505371,
          2.349307060241699,
          2.8104400634765625,
          2.4957456588745117,
          3.6310815811157227,
          3.1739561557769775,
          3.8605198860168457,
          3.8526816368103027,
          2.2360622882843018,
          2.9044008255004883,
          4.087311267852783,
          3.7674124240875244,
          3.797276496887207,
          4.358799934387207,
          3.093266487121582,
          2.1478312015533447,
          3.315443754196167,
          5.023209095001221,
          4.532228469848633,
          4.55700159072876,
          3.2055437564849854,
          2.87206768989563,
          3.422950506210327,
          4.1710309982299805,
          3.535451889038086,
          3.730684518814087,
          4.530684947967529,
          2.561441659927368,
          4.574779987335205,
          2.679253339767456,
          2.9242067337036133,
          2.2564644813537598,
          2.7534401416778564,
          4.027342319488525,
          2.677675724029541,
          3.231333017349243,
          4.721383571624756,
          3.612025499343872,
          2.309030771255493,
          3.6418702602386475,
          3.420207977294922,
          2.7985854148864746,
          2.3321588039398193,
          2.129114866256714,
          3.4303231239318848,
          2.626844644546509,
          4.391441345214844,
          3.2219762802124023,
          3.536072254180908,
          5.081889629364014,
          2.496396780014038,
          2.9422173500061035,
          2.311375617980957,
          2.723076105117798,
          2.432854175567627,
          2.874868392944336,
          3.6910340785980225,
          3.2232143878936768,
          3.331414222717285,
          2.987715721130371,
          2.8982787132263184,
          3.0530712604522705,
          2.277228355407715,
          2.46712064743042,
          2.6645781993865967,
          2.121656894683838,
          3.935772180557251,
          3.1451594829559326,
          3.592507839202881,
          2.869429111480713,
          3.606933832168579,
          3.3416025638580322,
          3.39570951461792,
          2.3843538761138916,
          2.571943759918213,
          3.58662748336792,
          4.6684770584106445,
          3.882566452026367,
          4.7924957275390625
         ],
         "yaxis": "y"
        }
       ],
       "layout": {
        "height": 600,
        "legend": {
         "title": {
          "text": "cluster_assigned"
         },
         "tracegroupgap": 0
        },
        "template": {
         "data": {
          "bar": [
           {
            "error_x": {
             "color": "#2a3f5f"
            },
            "error_y": {
             "color": "#2a3f5f"
            },
            "marker": {
             "line": {
              "color": "#E5ECF6",
              "width": 0.5
             },
             "pattern": {
              "fillmode": "overlay",
              "size": 10,
              "solidity": 0.2
             }
            },
            "type": "bar"
           }
          ],
          "barpolar": [
           {
            "marker": {
             "line": {
              "color": "#E5ECF6",
              "width": 0.5
             },
             "pattern": {
              "fillmode": "overlay",
              "size": 10,
              "solidity": 0.2
             }
            },
            "type": "barpolar"
           }
          ],
          "carpet": [
           {
            "aaxis": {
             "endlinecolor": "#2a3f5f",
             "gridcolor": "white",
             "linecolor": "white",
             "minorgridcolor": "white",
             "startlinecolor": "#2a3f5f"
            },
            "baxis": {
             "endlinecolor": "#2a3f5f",
             "gridcolor": "white",
             "linecolor": "white",
             "minorgridcolor": "white",
             "startlinecolor": "#2a3f5f"
            },
            "type": "carpet"
           }
          ],
          "choropleth": [
           {
            "colorbar": {
             "outlinewidth": 0,
             "ticks": ""
            },
            "type": "choropleth"
           }
          ],
          "contour": [
           {
            "colorbar": {
             "outlinewidth": 0,
             "ticks": ""
            },
            "colorscale": [
             [
              0,
              "#0d0887"
             ],
             [
              0.1111111111111111,
              "#46039f"
             ],
             [
              0.2222222222222222,
              "#7201a8"
             ],
             [
              0.3333333333333333,
              "#9c179e"
             ],
             [
              0.4444444444444444,
              "#bd3786"
             ],
             [
              0.5555555555555556,
              "#d8576b"
             ],
             [
              0.6666666666666666,
              "#ed7953"
             ],
             [
              0.7777777777777778,
              "#fb9f3a"
             ],
             [
              0.8888888888888888,
              "#fdca26"
             ],
             [
              1,
              "#f0f921"
             ]
            ],
            "type": "contour"
           }
          ],
          "contourcarpet": [
           {
            "colorbar": {
             "outlinewidth": 0,
             "ticks": ""
            },
            "type": "contourcarpet"
           }
          ],
          "heatmap": [
           {
            "colorbar": {
             "outlinewidth": 0,
             "ticks": ""
            },
            "colorscale": [
             [
              0,
              "#0d0887"
             ],
             [
              0.1111111111111111,
              "#46039f"
             ],
             [
              0.2222222222222222,
              "#7201a8"
             ],
             [
              0.3333333333333333,
              "#9c179e"
             ],
             [
              0.4444444444444444,
              "#bd3786"
             ],
             [
              0.5555555555555556,
              "#d8576b"
             ],
             [
              0.6666666666666666,
              "#ed7953"
             ],
             [
              0.7777777777777778,
              "#fb9f3a"
             ],
             [
              0.8888888888888888,
              "#fdca26"
             ],
             [
              1,
              "#f0f921"
             ]
            ],
            "type": "heatmap"
           }
          ],
          "heatmapgl": [
           {
            "colorbar": {
             "outlinewidth": 0,
             "ticks": ""
            },
            "colorscale": [
             [
              0,
              "#0d0887"
             ],
             [
              0.1111111111111111,
              "#46039f"
             ],
             [
              0.2222222222222222,
              "#7201a8"
             ],
             [
              0.3333333333333333,
              "#9c179e"
             ],
             [
              0.4444444444444444,
              "#bd3786"
             ],
             [
              0.5555555555555556,
              "#d8576b"
             ],
             [
              0.6666666666666666,
              "#ed7953"
             ],
             [
              0.7777777777777778,
              "#fb9f3a"
             ],
             [
              0.8888888888888888,
              "#fdca26"
             ],
             [
              1,
              "#f0f921"
             ]
            ],
            "type": "heatmapgl"
           }
          ],
          "histogram": [
           {
            "marker": {
             "pattern": {
              "fillmode": "overlay",
              "size": 10,
              "solidity": 0.2
             }
            },
            "type": "histogram"
           }
          ],
          "histogram2d": [
           {
            "colorbar": {
             "outlinewidth": 0,
             "ticks": ""
            },
            "colorscale": [
             [
              0,
              "#0d0887"
             ],
             [
              0.1111111111111111,
              "#46039f"
             ],
             [
              0.2222222222222222,
              "#7201a8"
             ],
             [
              0.3333333333333333,
              "#9c179e"
             ],
             [
              0.4444444444444444,
              "#bd3786"
             ],
             [
              0.5555555555555556,
              "#d8576b"
             ],
             [
              0.6666666666666666,
              "#ed7953"
             ],
             [
              0.7777777777777778,
              "#fb9f3a"
             ],
             [
              0.8888888888888888,
              "#fdca26"
             ],
             [
              1,
              "#f0f921"
             ]
            ],
            "type": "histogram2d"
           }
          ],
          "histogram2dcontour": [
           {
            "colorbar": {
             "outlinewidth": 0,
             "ticks": ""
            },
            "colorscale": [
             [
              0,
              "#0d0887"
             ],
             [
              0.1111111111111111,
              "#46039f"
             ],
             [
              0.2222222222222222,
              "#7201a8"
             ],
             [
              0.3333333333333333,
              "#9c179e"
             ],
             [
              0.4444444444444444,
              "#bd3786"
             ],
             [
              0.5555555555555556,
              "#d8576b"
             ],
             [
              0.6666666666666666,
              "#ed7953"
             ],
             [
              0.7777777777777778,
              "#fb9f3a"
             ],
             [
              0.8888888888888888,
              "#fdca26"
             ],
             [
              1,
              "#f0f921"
             ]
            ],
            "type": "histogram2dcontour"
           }
          ],
          "mesh3d": [
           {
            "colorbar": {
             "outlinewidth": 0,
             "ticks": ""
            },
            "type": "mesh3d"
           }
          ],
          "parcoords": [
           {
            "line": {
             "colorbar": {
              "outlinewidth": 0,
              "ticks": ""
             }
            },
            "type": "parcoords"
           }
          ],
          "pie": [
           {
            "automargin": true,
            "type": "pie"
           }
          ],
          "scatter": [
           {
            "marker": {
             "colorbar": {
              "outlinewidth": 0,
              "ticks": ""
             }
            },
            "type": "scatter"
           }
          ],
          "scatter3d": [
           {
            "line": {
             "colorbar": {
              "outlinewidth": 0,
              "ticks": ""
             }
            },
            "marker": {
             "colorbar": {
              "outlinewidth": 0,
              "ticks": ""
             }
            },
            "type": "scatter3d"
           }
          ],
          "scattercarpet": [
           {
            "marker": {
             "colorbar": {
              "outlinewidth": 0,
              "ticks": ""
             }
            },
            "type": "scattercarpet"
           }
          ],
          "scattergeo": [
           {
            "marker": {
             "colorbar": {
              "outlinewidth": 0,
              "ticks": ""
             }
            },
            "type": "scattergeo"
           }
          ],
          "scattergl": [
           {
            "marker": {
             "colorbar": {
              "outlinewidth": 0,
              "ticks": ""
             }
            },
            "type": "scattergl"
           }
          ],
          "scattermapbox": [
           {
            "marker": {
             "colorbar": {
              "outlinewidth": 0,
              "ticks": ""
             }
            },
            "type": "scattermapbox"
           }
          ],
          "scatterpolar": [
           {
            "marker": {
             "colorbar": {
              "outlinewidth": 0,
              "ticks": ""
             }
            },
            "type": "scatterpolar"
           }
          ],
          "scatterpolargl": [
           {
            "marker": {
             "colorbar": {
              "outlinewidth": 0,
              "ticks": ""
             }
            },
            "type": "scatterpolargl"
           }
          ],
          "scatterternary": [
           {
            "marker": {
             "colorbar": {
              "outlinewidth": 0,
              "ticks": ""
             }
            },
            "type": "scatterternary"
           }
          ],
          "surface": [
           {
            "colorbar": {
             "outlinewidth": 0,
             "ticks": ""
            },
            "colorscale": [
             [
              0,
              "#0d0887"
             ],
             [
              0.1111111111111111,
              "#46039f"
             ],
             [
              0.2222222222222222,
              "#7201a8"
             ],
             [
              0.3333333333333333,
              "#9c179e"
             ],
             [
              0.4444444444444444,
              "#bd3786"
             ],
             [
              0.5555555555555556,
              "#d8576b"
             ],
             [
              0.6666666666666666,
              "#ed7953"
             ],
             [
              0.7777777777777778,
              "#fb9f3a"
             ],
             [
              0.8888888888888888,
              "#fdca26"
             ],
             [
              1,
              "#f0f921"
             ]
            ],
            "type": "surface"
           }
          ],
          "table": [
           {
            "cells": {
             "fill": {
              "color": "#EBF0F8"
             },
             "line": {
              "color": "white"
             }
            },
            "header": {
             "fill": {
              "color": "#C8D4E3"
             },
             "line": {
              "color": "white"
             }
            },
            "type": "table"
           }
          ]
         },
         "layout": {
          "annotationdefaults": {
           "arrowcolor": "#2a3f5f",
           "arrowhead": 0,
           "arrowwidth": 1
          },
          "autotypenumbers": "strict",
          "coloraxis": {
           "colorbar": {
            "outlinewidth": 0,
            "ticks": ""
           }
          },
          "colorscale": {
           "diverging": [
            [
             0,
             "#8e0152"
            ],
            [
             0.1,
             "#c51b7d"
            ],
            [
             0.2,
             "#de77ae"
            ],
            [
             0.3,
             "#f1b6da"
            ],
            [
             0.4,
             "#fde0ef"
            ],
            [
             0.5,
             "#f7f7f7"
            ],
            [
             0.6,
             "#e6f5d0"
            ],
            [
             0.7,
             "#b8e186"
            ],
            [
             0.8,
             "#7fbc41"
            ],
            [
             0.9,
             "#4d9221"
            ],
            [
             1,
             "#276419"
            ]
           ],
           "sequential": [
            [
             0,
             "#0d0887"
            ],
            [
             0.1111111111111111,
             "#46039f"
            ],
            [
             0.2222222222222222,
             "#7201a8"
            ],
            [
             0.3333333333333333,
             "#9c179e"
            ],
            [
             0.4444444444444444,
             "#bd3786"
            ],
            [
             0.5555555555555556,
             "#d8576b"
            ],
            [
             0.6666666666666666,
             "#ed7953"
            ],
            [
             0.7777777777777778,
             "#fb9f3a"
            ],
            [
             0.8888888888888888,
             "#fdca26"
            ],
            [
             1,
             "#f0f921"
            ]
           ],
           "sequentialminus": [
            [
             0,
             "#0d0887"
            ],
            [
             0.1111111111111111,
             "#46039f"
            ],
            [
             0.2222222222222222,
             "#7201a8"
            ],
            [
             0.3333333333333333,
             "#9c179e"
            ],
            [
             0.4444444444444444,
             "#bd3786"
            ],
            [
             0.5555555555555556,
             "#d8576b"
            ],
            [
             0.6666666666666666,
             "#ed7953"
            ],
            [
             0.7777777777777778,
             "#fb9f3a"
            ],
            [
             0.8888888888888888,
             "#fdca26"
            ],
            [
             1,
             "#f0f921"
            ]
           ]
          },
          "colorway": [
           "#636efa",
           "#EF553B",
           "#00cc96",
           "#ab63fa",
           "#FFA15A",
           "#19d3f3",
           "#FF6692",
           "#B6E880",
           "#FF97FF",
           "#FECB52"
          ],
          "font": {
           "color": "#2a3f5f"
          },
          "geo": {
           "bgcolor": "white",
           "lakecolor": "white",
           "landcolor": "#E5ECF6",
           "showlakes": true,
           "showland": true,
           "subunitcolor": "white"
          },
          "hoverlabel": {
           "align": "left"
          },
          "hovermode": "closest",
          "mapbox": {
           "style": "light"
          },
          "paper_bgcolor": "white",
          "plot_bgcolor": "#E5ECF6",
          "polar": {
           "angularaxis": {
            "gridcolor": "white",
            "linecolor": "white",
            "ticks": ""
           },
           "bgcolor": "#E5ECF6",
           "radialaxis": {
            "gridcolor": "white",
            "linecolor": "white",
            "ticks": ""
           }
          },
          "scene": {
           "xaxis": {
            "backgroundcolor": "#E5ECF6",
            "gridcolor": "white",
            "gridwidth": 2,
            "linecolor": "white",
            "showbackground": true,
            "ticks": "",
            "zerolinecolor": "white"
           },
           "yaxis": {
            "backgroundcolor": "#E5ECF6",
            "gridcolor": "white",
            "gridwidth": 2,
            "linecolor": "white",
            "showbackground": true,
            "ticks": "",
            "zerolinecolor": "white"
           },
           "zaxis": {
            "backgroundcolor": "#E5ECF6",
            "gridcolor": "white",
            "gridwidth": 2,
            "linecolor": "white",
            "showbackground": true,
            "ticks": "",
            "zerolinecolor": "white"
           }
          },
          "shapedefaults": {
           "line": {
            "color": "#2a3f5f"
           }
          },
          "ternary": {
           "aaxis": {
            "gridcolor": "white",
            "linecolor": "white",
            "ticks": ""
           },
           "baxis": {
            "gridcolor": "white",
            "linecolor": "white",
            "ticks": ""
           },
           "bgcolor": "#E5ECF6",
           "caxis": {
            "gridcolor": "white",
            "linecolor": "white",
            "ticks": ""
           }
          },
          "title": {
           "x": 0.05
          },
          "xaxis": {
           "automargin": true,
           "gridcolor": "white",
           "linecolor": "white",
           "ticks": "",
           "title": {
            "standoff": 15
           },
           "zerolinecolor": "white",
           "zerolinewidth": 2
          },
          "yaxis": {
           "automargin": true,
           "gridcolor": "white",
           "linecolor": "white",
           "ticks": "",
           "title": {
            "standoff": 15
           },
           "zerolinecolor": "white",
           "zerolinewidth": 2
          }
         }
        },
        "title": {
         "text": "UMAP of the 15 categories"
        },
        "width": 1000,
        "xaxis": {
         "anchor": "y",
         "domain": [
          0,
          1
         ],
         "title": {
          "text": "Axis x"
         }
        },
        "yaxis": {
         "anchor": "x",
         "domain": [
          0,
          1
         ],
         "title": {
          "text": "Axis y"
         }
        }
       }
      }
     },
     "metadata": {},
     "output_type": "display_data"
    }
   ],
   "source": [
    "fig = px.scatter(user_projected_umap, x='Axis x', y='Axis y',opacity =1,\n",
    "             color='cluster_assigned' ,size_max =50,width=1000, height=600,title ='UMAP of the 15 categories')\n",
    "\n",
    "fig.show()\n",
    "fig.write_html(\"cluster_visual_umap.html\")"
   ]
  }
 ],
 "metadata": {
  "kernelspec": {
   "display_name": "base",
   "language": "python",
   "name": "python3"
  },
  "language_info": {
   "codemirror_mode": {
    "name": "ipython",
    "version": 3
   },
   "file_extension": ".py",
   "mimetype": "text/x-python",
   "name": "python",
   "nbconvert_exporter": "python",
   "pygments_lexer": "ipython3",
   "version": "3.9.12"
  },
  "orig_nbformat": 4,
  "vscode": {
   "interpreter": {
    "hash": "911f51d76eeb7942430ae9b06dd6e9a539612ed351cfe319b2831bd8b56e28c3"
   }
  }
 },
 "nbformat": 4,
 "nbformat_minor": 2
}
